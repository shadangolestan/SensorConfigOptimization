{
 "cells": [
  {
   "cell_type": "code",
   "execution_count": 1,
   "metadata": {},
   "outputs": [],
   "source": [
    "# Try it with larger step size"
   ]
  },
  {
   "cell_type": "code",
   "execution_count": 2,
   "metadata": {
    "scrolled": true
   },
   "outputs": [
    {
     "name": "stdout",
     "output_type": "stream",
     "text": [
      "----- Running BO with: \n",
      " \t - epsilon:  1 \n",
      " \t - LS sensors #: 9 \n",
      " \t - IS sensors #: 9  \n",
      " \t - initial state:  random\n",
      "Processing Region of Similarity... [COMPLETED]\n",
      "adviser type is default...\n",
      "[INFO] [2023-04-13 21:39:47,154] [Advisor] === [BO auto selection] === acq_optimizer_type: local_random.\n",
      "[Build Surrogate] Use probabilistic random forest based on scikit-learn. For better performance, please install pyrfr: https://open-box.readthedocs.io/en/latest/installation/install_pyrfr.html\n"
     ]
    },
    {
     "name": "stderr",
     "output_type": "stream",
     "text": [
      "\r",
      "  0%|                                                                                         | 0/1000 [00:00<?, ?it/s]"
     ]
    },
    {
     "name": "stdout",
     "output_type": "stream",
     "text": [
      "[INFO] [2023-04-13 21:40:16,709] [OpenBox-SPO] Iteration 1, objective value: [47.365117232403556].\n"
     ]
    },
    {
     "name": "stderr",
     "output_type": "stream",
     "text": [
      "\r",
      "  0%|                                                                               | 1/1000 [00:29<8:11:53, 29.54s/it]"
     ]
    },
    {
     "name": "stdout",
     "output_type": "stream",
     "text": [
      "\t ----- reward: -47.365117232403556 for f_star and f_minus: 100 , 47.365117232403556\n",
      "\t ---------- State is:  (4, 100)\n",
      "[INFO] [2023-04-13 21:40:59,479] [OpenBox-SPO] Iteration 2, objective value: [52.32114908639599].\n"
     ]
    },
    {
     "name": "stderr",
     "output_type": "stream",
     "text": [
      "\r",
      "  0%|▏                                                                             | 2/1000 [01:12<10:20:48, 37.32s/it]"
     ]
    },
    {
     "name": "stdout",
     "output_type": "stream",
     "text": [
      "\t ----- reward: -52.32114908639599 for f_star and f_minus: 100 , 52.32114908639599\n",
      "\t ---------- State is:  (3, 100)\n",
      "[INFO] [2023-04-13 21:41:30,527] [OpenBox-SPO] Iteration 3, objective value: [52.63231762188393].\n"
     ]
    },
    {
     "name": "stderr",
     "output_type": "stream",
     "text": [
      "\r",
      "  0%|▏                                                                              | 3/1000 [01:43<9:32:34, 34.46s/it]"
     ]
    },
    {
     "name": "stdout",
     "output_type": "stream",
     "text": [
      "\t ----- reward: -52.63231762188393 for f_star and f_minus: 100 , 52.63231762188393\n",
      "\t ---------- State is:  (2, 100)\n",
      "[INFO] [2023-04-13 21:42:03,767] [OpenBox-SPO] Iteration 4, objective value: [56.657212107005925].\n"
     ]
    },
    {
     "name": "stderr",
     "output_type": "stream",
     "text": [
      "\r",
      "  0%|▎                                                                              | 4/1000 [02:16<9:24:07, 33.98s/it]"
     ]
    },
    {
     "name": "stdout",
     "output_type": "stream",
     "text": [
      "\t ----- reward: -56.657212107005925 for f_star and f_minus: 47.365117232403556 , 56.657212107005925\n",
      "\t ---------- State is:  (2, 47)\n",
      "[INFO] [2023-04-13 21:42:33,282] [OpenBox-SPO] Iteration 5, objective value: [59.315266744627735].\n"
     ]
    },
    {
     "name": "stderr",
     "output_type": "stream",
     "text": [
      "\r",
      "  0%|▍                                                                              | 5/1000 [02:46<8:56:44, 32.37s/it]"
     ]
    },
    {
     "name": "stdout",
     "output_type": "stream",
     "text": [
      "\t ----- reward: -59.315266744627735 for f_star and f_minus: 47.365117232403556 , 59.315266744627735\n",
      "\t ---------- State is:  (3, 47)\n",
      "[INFO] [2023-04-13 21:43:07,264] [OpenBox-SPO] Iteration 6, objective value: [54.602673872594195].\n"
     ]
    },
    {
     "name": "stderr",
     "output_type": "stream",
     "text": [
      "\r",
      "  1%|▍                                                                              | 6/1000 [03:20<9:05:18, 32.92s/it]"
     ]
    },
    {
     "name": "stdout",
     "output_type": "stream",
     "text": [
      "\t ----- reward: -54.602673872594195 for f_star and f_minus: 47.365117232403556 , 54.602673872594195\n",
      "\t ---------- State is:  (3, 47)\n",
      "[INFO] [2023-04-13 21:43:47,861] [OpenBox-SPO] Iteration 7, objective value: [47.8798972568387].\n"
     ]
    },
    {
     "name": "stderr",
     "output_type": "stream",
     "text": [
      "\r",
      "  1%|▌                                                                              | 7/1000 [04:00<9:46:18, 35.43s/it]"
     ]
    },
    {
     "name": "stdout",
     "output_type": "stream",
     "text": [
      "\t ----- reward: -47.8798972568387 for f_star and f_minus: 47.365117232403556 , 47.8798972568387\n",
      "\t ---------- State is:  (3, 47)\n",
      "[INFO] [2023-04-13 21:44:24,223] [OpenBox-SPO] Iteration 8, objective value: [46.44471916391455].\n"
     ]
    },
    {
     "name": "stderr",
     "output_type": "stream",
     "text": [
      "\r",
      "  1%|▋                                                                              | 8/1000 [04:37<9:50:38, 35.72s/it]"
     ]
    },
    {
     "name": "stdout",
     "output_type": "stream",
     "text": [
      "\t ----- reward: -46.44471916391455 for f_star and f_minus: 47.365117232403556 , 46.44471916391455\n",
      "\t ---------- State is:  (2, 47)\n",
      "[INFO] [2023-04-13 21:45:09,111] [OpenBox-SPO] Iteration 9, objective value: [46.69694464575803].\n"
     ]
    },
    {
     "name": "stderr",
     "output_type": "stream",
     "text": [
      "\r",
      "  1%|▋                                                                             | 9/1000 [05:21<10:37:21, 38.59s/it]"
     ]
    },
    {
     "name": "stdout",
     "output_type": "stream",
     "text": [
      "\t ----- reward: -46.69694464575803 for f_star and f_minus: 46.44471916391455 , 46.69694464575803\n",
      "\t ---------- State is:  (3, 46)\n",
      "[INFO] [2023-04-13 21:45:52,250] [OpenBox-SPO] Iteration 10, objective value: [55.067139817490435].\n"
     ]
    },
    {
     "name": "stderr",
     "output_type": "stream",
     "text": [
      "\r",
      "  1%|▊                                                                            | 10/1000 [06:05<10:59:53, 39.99s/it]"
     ]
    },
    {
     "name": "stdout",
     "output_type": "stream",
     "text": [
      "\t ----- reward: -55.067139817490435 for f_star and f_minus: 46.44471916391455 , 55.067139817490435\n",
      "\t ---------- State is:  (3, 46)\n",
      "[INFO] [2023-04-13 21:46:35,070] [OpenBox-SPO] Iteration 11, objective value: [56.98141300106015].\n"
     ]
    },
    {
     "name": "stderr",
     "output_type": "stream",
     "text": [
      "\r",
      "  1%|▊                                                                            | 11/1000 [06:47<11:13:29, 40.86s/it]"
     ]
    },
    {
     "name": "stdout",
     "output_type": "stream",
     "text": [
      "\t ----- reward: -56.98141300106015 for f_star and f_minus: 46.44471916391455 , 56.98141300106015\n",
      "\t ---------- State is:  (4, 5)\n",
      "[INFO] [2023-04-13 21:47:07,640] [OpenBox-SPO] Iteration 12, objective value: [56.69542902514276].\n"
     ]
    },
    {
     "name": "stderr",
     "output_type": "stream",
     "text": [
      "\r",
      "  1%|▉                                                                            | 12/1000 [07:20<10:31:17, 38.34s/it]"
     ]
    },
    {
     "name": "stdout",
     "output_type": "stream",
     "text": [
      "\t ----- reward: -56.69542902514276 for f_star and f_minus: 46.44471916391455 , 56.69542902514276\n",
      "\t ---------- State is:  (3, 6)\n",
      "[INFO] [2023-04-13 21:47:35,788] [OpenBox-SPO] Iteration 13, objective value: [63.55473849802409].\n"
     ]
    },
    {
     "name": "stderr",
     "output_type": "stream",
     "text": [
      "\r",
      "  1%|█                                                                             | 13/1000 [07:48<9:39:52, 35.25s/it]"
     ]
    },
    {
     "name": "stdout",
     "output_type": "stream",
     "text": [
      "\t ----- reward: -63.55473849802409 for f_star and f_minus: 46.44471916391455 , 63.55473849802409\n",
      "\t ---------- State is:  (3, 7)\n",
      "[INFO] [2023-04-13 21:48:17,959] [OpenBox-SPO] Iteration 14, objective value: [52.46057961240916].\n"
     ]
    },
    {
     "name": "stderr",
     "output_type": "stream",
     "text": [
      "\r",
      "  1%|█                                                                            | 14/1000 [08:30<10:13:38, 37.34s/it]"
     ]
    },
    {
     "name": "stdout",
     "output_type": "stream",
     "text": [
      "\t ----- reward: -52.46057961240916 for f_star and f_minus: 46.44471916391455 , 52.46057961240916\n",
      "\t ---------- State is:  (2, 7)\n",
      "[INFO] [2023-04-13 21:49:05,437] [OpenBox-SPO] Iteration 15, objective value: [44.45956656955568].\n"
     ]
    },
    {
     "name": "stderr",
     "output_type": "stream",
     "text": [
      "\r",
      "  2%|█▏                                                                           | 15/1000 [09:18<11:03:10, 40.40s/it]"
     ]
    },
    {
     "name": "stdout",
     "output_type": "stream",
     "text": [
      "\t ----- reward: -44.45956656955568 for f_star and f_minus: 46.44471916391455 , 44.45956656955568\n",
      "\t ---------- State is:  (2, 6)\n",
      "[INFO] [2023-04-13 21:49:45,709] [OpenBox-SPO] Iteration 16, objective value: [55.311753521935294].\n"
     ]
    },
    {
     "name": "stderr",
     "output_type": "stream",
     "text": [
      "\r",
      "  2%|█▏                                                                           | 16/1000 [09:58<11:01:53, 40.36s/it]"
     ]
    },
    {
     "name": "stdout",
     "output_type": "stream",
     "text": [
      "\t ----- reward: -55.311753521935294 for f_star and f_minus: 44.45956656955568 , 55.311753521935294\n",
      "\t ---------- State is:  (3, 8)\n",
      "[INFO] [2023-04-13 21:50:21,896] [OpenBox-SPO] Iteration 17, objective value: [50.48802621072098].\n"
     ]
    },
    {
     "name": "stderr",
     "output_type": "stream",
     "text": [
      "\r",
      "  2%|█▎                                                                           | 17/1000 [10:34<10:40:39, 39.10s/it]"
     ]
    },
    {
     "name": "stdout",
     "output_type": "stream",
     "text": [
      "\t ----- reward: -50.48802621072098 for f_star and f_minus: 44.45956656955568 , 50.48802621072098\n",
      "\t ---------- State is:  (3, 8)\n",
      "[INFO] [2023-04-13 21:51:00,306] [OpenBox-SPO] Iteration 18, objective value: [52.357447625564305].\n"
     ]
    },
    {
     "name": "stderr",
     "output_type": "stream",
     "text": [
      "\r",
      "  2%|█▍                                                                           | 18/1000 [11:13<10:36:35, 38.90s/it]"
     ]
    },
    {
     "name": "stdout",
     "output_type": "stream",
     "text": [
      "\t ----- reward: -52.357447625564305 for f_star and f_minus: 44.45956656955568 , 52.357447625564305\n",
      "\t ---------- State is:  (2, 8)\n",
      "[INFO] [2023-04-13 21:51:42,452] [OpenBox-SPO] Iteration 19, objective value: [49.739058762262225].\n"
     ]
    },
    {
     "name": "stderr",
     "output_type": "stream",
     "text": [
      "\r",
      "  2%|█▍                                                                           | 19/1000 [11:55<10:51:54, 39.87s/it]"
     ]
    },
    {
     "name": "stdout",
     "output_type": "stream",
     "text": [
      "\t ----- reward: -49.739058762262225 for f_star and f_minus: 44.45956656955568 , 49.739058762262225\n",
      "\t ---------- State is:  (3, 8)\n",
      "[INFO] [2023-04-13 21:52:22,438] [OpenBox-SPO] Iteration 20, objective value: [49.53128948370631].\n"
     ]
    },
    {
     "name": "stderr",
     "output_type": "stream",
     "text": [
      "\r",
      "  2%|█▌                                                                           | 20/1000 [12:35<10:51:48, 39.91s/it]"
     ]
    },
    {
     "name": "stdout",
     "output_type": "stream",
     "text": [
      "\t ----- reward: -49.53128948370631 for f_star and f_minus: 44.45956656955568 , 49.53128948370631\n",
      "\t ---------- State is:  (4, 8)\n",
      "[INFO] [2023-04-13 21:53:05,761] [OpenBox-SPO] Iteration 21, objective value: [55.15304961550518].\n"
     ]
    },
    {
     "name": "stderr",
     "output_type": "stream",
     "text": [
      "\r",
      "  2%|█▌                                                                           | 21/1000 [13:18<11:07:52, 40.93s/it]"
     ]
    },
    {
     "name": "stdout",
     "output_type": "stream",
     "text": [
      "\t ----- reward: -55.15304961550518 for f_star and f_minus: 44.45956656955568 , 55.15304961550518\n",
      "\t ---------- State is:  (5, 8)\n",
      "[INFO] [2023-04-13 21:53:45,868] [OpenBox-SPO] Iteration 22, objective value: [40.68646366220069].\n"
     ]
    },
    {
     "name": "stderr",
     "output_type": "stream",
     "text": [
      "\r",
      "  2%|█▋                                                                           | 22/1000 [13:58<11:03:09, 40.68s/it]"
     ]
    },
    {
     "name": "stdout",
     "output_type": "stream",
     "text": [
      "\t ----- reward: -40.68646366220069 for f_star and f_minus: 44.45956656955568 , 40.68646366220069\n",
      "\t ---------- State is:  (6, 7)\n",
      "[INFO] [2023-04-13 21:54:27,179] [OpenBox-SPO] Iteration 23, objective value: [56.5410947746564].\n"
     ]
    },
    {
     "name": "stderr",
     "output_type": "stream",
     "text": [
      "\r",
      "  2%|█▊                                                                           | 23/1000 [14:40<11:05:32, 40.87s/it]"
     ]
    },
    {
     "name": "stdout",
     "output_type": "stream",
     "text": [
      "\t ----- reward: -56.5410947746564 for f_star and f_minus: 40.68646366220069 , 56.5410947746564\n",
      "\t ---------- State is:  (6, 11)\n",
      "[INFO] [2023-04-13 21:55:10,590] [OpenBox-SPO] Iteration 24, objective value: [48.469678286058425].\n"
     ]
    },
    {
     "name": "stderr",
     "output_type": "stream",
     "text": [
      "\r",
      "  2%|█▊                                                                           | 24/1000 [15:23<11:17:15, 41.63s/it]"
     ]
    },
    {
     "name": "stdout",
     "output_type": "stream",
     "text": [
      "\t ----- reward: -48.469678286058425 for f_star and f_minus: 40.68646366220069 , 48.469678286058425\n",
      "\t ---------- State is:  (7, 11)\n",
      "[INFO] [2023-04-13 21:55:44,361] [OpenBox-SPO] Iteration 25, objective value: [60.77755736778511].\n"
     ]
    },
    {
     "name": "stderr",
     "output_type": "stream",
     "text": [
      "\r",
      "  2%|█▉                                                                           | 25/1000 [15:57<10:38:13, 39.27s/it]"
     ]
    },
    {
     "name": "stdout",
     "output_type": "stream",
     "text": [
      "\t ----- reward: -60.77755736778511 for f_star and f_minus: 40.68646366220069 , 60.77755736778511\n",
      "\t ---------- State is:  (6, 11)\n",
      "[INFO] [2023-04-13 21:56:22,689] [OpenBox-SPO] Iteration 26, objective value: [54.14338135943148].\n"
     ]
    },
    {
     "name": "stderr",
     "output_type": "stream",
     "text": [
      "\r",
      "  3%|██                                                                           | 26/1000 [16:35<10:32:57, 38.99s/it]"
     ]
    },
    {
     "name": "stdout",
     "output_type": "stream",
     "text": [
      "\t ----- reward: -54.14338135943148 for f_star and f_minus: 40.68646366220069 , 54.14338135943148\n",
      "\t ---------- State is:  (6, 11)\n",
      "[INFO] [2023-04-13 21:56:54,511] [OpenBox-SPO] Iteration 27, objective value: [68.49367557724219].\n"
     ]
    },
    {
     "name": "stderr",
     "output_type": "stream",
     "text": [
      "\r",
      "  3%|██                                                                            | 27/1000 [17:07<9:57:25, 36.84s/it]"
     ]
    },
    {
     "name": "stdout",
     "output_type": "stream",
     "text": [
      "\t ----- reward: -68.49367557724219 for f_star and f_minus: 40.68646366220069 , 68.49367557724219\n",
      "\t ---------- State is:  (5, 12)\n",
      "[INFO] [2023-04-13 21:57:31,978] [OpenBox-SPO] Iteration 28, objective value: [52.52995005832539].\n"
     ]
    },
    {
     "name": "stderr",
     "output_type": "stream",
     "text": [
      "\r",
      "  3%|██▏                                                                           | 28/1000 [17:44<9:59:51, 37.03s/it]"
     ]
    },
    {
     "name": "stdout",
     "output_type": "stream",
     "text": [
      "\t ----- reward: -52.52995005832539 for f_star and f_minus: 40.68646366220069 , 52.52995005832539\n",
      "\t ---------- State is:  (4, 12)\n",
      "[INFO] [2023-04-13 21:58:10,285] [OpenBox-SPO] Iteration 29, objective value: [65.54345688140836].\n"
     ]
    },
    {
     "name": "stderr",
     "output_type": "stream",
     "text": [
      "\r",
      "  3%|██▏                                                                          | 29/1000 [18:23<10:05:26, 37.41s/it]"
     ]
    },
    {
     "name": "stdout",
     "output_type": "stream",
     "text": [
      "\t ----- reward: -65.54345688140836 for f_star and f_minus: 40.68646366220069 , 65.54345688140836\n",
      "\t ---------- State is:  (3, 12)\n",
      "[INFO] [2023-04-13 21:58:10,285] [Advisor] Sample random config. rand_prob=0.100000.\n",
      "[INFO] [2023-04-13 21:58:44,592] [OpenBox-SPO] Iteration 30, objective value: [47.21168883227801].\n"
     ]
    },
    {
     "name": "stderr",
     "output_type": "stream",
     "text": [
      "\r",
      "  3%|██▎                                                                           | 30/1000 [18:57<9:49:49, 36.48s/it]"
     ]
    },
    {
     "name": "stdout",
     "output_type": "stream",
     "text": [
      "\t ----- reward: -47.21168883227801 for f_star and f_minus: 40.68646366220069 , 47.21168883227801\n",
      "\t ---------- State is:  (4, 12)\n",
      "[INFO] [2023-04-13 21:59:25,295] [OpenBox-SPO] Iteration 31, objective value: [57.18754622668871].\n"
     ]
    },
    {
     "name": "stderr",
     "output_type": "stream",
     "text": [
      "\r",
      "  3%|██▍                                                                          | 31/1000 [19:38<10:09:36, 37.75s/it]"
     ]
    },
    {
     "name": "stdout",
     "output_type": "stream",
     "text": [
      "\t ----- reward: -57.18754622668871 for f_star and f_minus: 40.68646366220069 , 57.18754622668871\n",
      "\t ---------- State is:  (4, 12)\n",
      "[INFO] [2023-04-13 22:00:00,764] [OpenBox-SPO] Iteration 32, objective value: [51.033726020394575].\n"
     ]
    },
    {
     "name": "stderr",
     "output_type": "stream",
     "text": [
      "\r",
      "  3%|██▍                                                                           | 32/1000 [20:13<9:57:56, 37.06s/it]"
     ]
    },
    {
     "name": "stdout",
     "output_type": "stream",
     "text": [
      "\t ----- reward: -51.033726020394575 for f_star and f_minus: 40.68646366220069 , 51.033726020394575\n",
      "\t ---------- State is:  (5, 12)\n",
      "[INFO] [2023-04-13 22:00:41,095] [OpenBox-SPO] Iteration 33, objective value: [59.060672237283526].\n"
     ]
    },
    {
     "name": "stderr",
     "output_type": "stream",
     "text": [
      "\r",
      "  3%|██▌                                                                          | 33/1000 [20:53<10:13:07, 38.04s/it]"
     ]
    },
    {
     "name": "stdout",
     "output_type": "stream",
     "text": [
      "\t ----- reward: -59.060672237283526 for f_star and f_minus: 40.68646366220069 , 59.060672237283526\n",
      "\t ---------- State is:  (5, 13)\n",
      "[INFO] [2023-04-13 22:01:22,391] [OpenBox-SPO] Iteration 34, objective value: [49.730760322530735].\n"
     ]
    },
    {
     "name": "stderr",
     "output_type": "stream",
     "text": [
      "\r",
      "  3%|██▌                                                                          | 34/1000 [21:35<10:28:12, 39.02s/it]"
     ]
    },
    {
     "name": "stdout",
     "output_type": "stream",
     "text": [
      "\t ----- reward: -49.730760322530735 for f_star and f_minus: 40.68646366220069 , 49.730760322530735\n",
      "\t ---------- State is:  (6, 12)\n",
      "[INFO] [2023-04-13 22:01:59,355] [OpenBox-SPO] Iteration 35, objective value: [58.28849865848966].\n"
     ]
    },
    {
     "name": "stderr",
     "output_type": "stream",
     "text": [
      "\r",
      "  4%|██▋                                                                          | 35/1000 [22:12<10:17:38, 38.40s/it]"
     ]
    },
    {
     "name": "stdout",
     "output_type": "stream",
     "text": [
      "\t ----- reward: -58.28849865848966 for f_star and f_minus: 40.68646366220069 , 58.28849865848966\n",
      "\t ---------- State is:  (6, 12)\n",
      "[INFO] [2023-04-13 22:01:59,355] [Advisor] Sample random config. rand_prob=0.100000.\n",
      "[INFO] [2023-04-13 22:02:29,509] [OpenBox-SPO] Iteration 36, objective value: [51.836643649663195].\n"
     ]
    },
    {
     "name": "stderr",
     "output_type": "stream",
     "text": [
      "\r",
      "  4%|██▊                                                                           | 36/1000 [22:42<9:37:14, 35.93s/it]"
     ]
    },
    {
     "name": "stdout",
     "output_type": "stream",
     "text": [
      "\t ----- reward: -51.836643649663195 for f_star and f_minus: 40.68646366220069 , 51.836643649663195\n",
      "\t ---------- State is:  (5, 12)\n",
      "[INFO] [2023-04-13 22:03:12,763] [OpenBox-SPO] Iteration 37, objective value: [45.67648792267425].\n"
     ]
    },
    {
     "name": "stderr",
     "output_type": "stream",
     "text": [
      "\r",
      "  4%|██▊                                                                          | 37/1000 [23:25<10:11:55, 38.13s/it]"
     ]
    },
    {
     "name": "stdout",
     "output_type": "stream",
     "text": [
      "\t ----- reward: -45.67648792267425 for f_star and f_minus: 40.68646366220069 , 45.67648792267425\n",
      "\t ---------- State is:  (5, 12)\n",
      "[INFO] [2023-04-13 22:03:53,985] [OpenBox-SPO] Iteration 38, objective value: [48.75367145435554].\n"
     ]
    },
    {
     "name": "stderr",
     "output_type": "stream",
     "text": [
      "\r",
      "  4%|██▉                                                                          | 38/1000 [24:06<10:26:10, 39.05s/it]"
     ]
    },
    {
     "name": "stdout",
     "output_type": "stream",
     "text": [
      "\t ----- reward: -48.75367145435554 for f_star and f_minus: 40.68646366220069 , 48.75367145435554\n",
      "\t ---------- State is:  (6, 12)\n",
      "[INFO] [2023-04-13 22:04:33,130] [OpenBox-SPO] Iteration 39, objective value: [60.458588884605916].\n"
     ]
    },
    {
     "name": "stderr",
     "output_type": "stream",
     "text": [
      "\r",
      "  4%|███                                                                          | 39/1000 [24:45<10:25:57, 39.08s/it]"
     ]
    },
    {
     "name": "stdout",
     "output_type": "stream",
     "text": [
      "\t ----- reward: -60.458588884605916 for f_star and f_minus: 40.68646366220069 , 60.458588884605916\n",
      "\t ---------- State is:  (5, 13)\n",
      "[INFO] [2023-04-13 22:05:08,304] [OpenBox-SPO] Iteration 40, objective value: [58.199483764743846].\n"
     ]
    },
    {
     "name": "stderr",
     "output_type": "stream",
     "text": [
      "\r",
      "  4%|███                                                                          | 40/1000 [25:21<10:06:33, 37.91s/it]"
     ]
    },
    {
     "name": "stdout",
     "output_type": "stream",
     "text": [
      "\t ----- reward: -58.199483764743846 for f_star and f_minus: 40.68646366220069 , 58.199483764743846\n",
      "\t ---------- State is:  (4, 13)\n",
      "[INFO] [2023-04-13 22:05:55,016] [OpenBox-SPO] Iteration 41, objective value: [59.81380531437458].\n"
     ]
    },
    {
     "name": "stderr",
     "output_type": "stream",
     "text": [
      "\r",
      "  4%|███▏                                                                         | 41/1000 [26:07<10:48:07, 40.55s/it]"
     ]
    },
    {
     "name": "stdout",
     "output_type": "stream",
     "text": [
      "\t ----- reward: -59.81380531437458 for f_star and f_minus: 40.68646366220069 , 59.81380531437458\n",
      "\t ---------- State is:  (3, 13)\n",
      "[INFO] [2023-04-13 22:06:42,373] [OpenBox-SPO] Iteration 42, objective value: [46.451551825904566].\n"
     ]
    },
    {
     "name": "stderr",
     "output_type": "stream",
     "text": [
      "\r",
      "  4%|███▏                                                                         | 42/1000 [26:55<11:20:03, 42.59s/it]"
     ]
    },
    {
     "name": "stdout",
     "output_type": "stream",
     "text": [
      "\t ----- reward: -46.451551825904566 for f_star and f_minus: 40.68646366220069 , 46.451551825904566\n",
      "\t ---------- State is:  (4, 13)\n",
      "[INFO] [2023-04-13 22:07:28,344] [OpenBox-SPO] Iteration 43, objective value: [45.02920436340262].\n"
     ]
    },
    {
     "name": "stderr",
     "output_type": "stream",
     "text": [
      "\r",
      "  4%|███▎                                                                         | 43/1000 [27:41<11:35:30, 43.61s/it]"
     ]
    },
    {
     "name": "stdout",
     "output_type": "stream",
     "text": [
      "\t ----- reward: -45.02920436340262 for f_star and f_minus: 40.68646366220069 , 45.02920436340262\n",
      "\t ---------- State is:  (3, 12)\n",
      "[INFO] [2023-04-13 22:07:28,344] [Advisor] Sample random config. rand_prob=0.100000.\n",
      "[INFO] [2023-04-13 22:07:56,542] [OpenBox-SPO] Iteration 44, objective value: [56.50325111877083].\n"
     ]
    },
    {
     "name": "stderr",
     "output_type": "stream",
     "text": [
      "\r",
      "  4%|███▍                                                                         | 44/1000 [28:09<10:21:08, 38.98s/it]"
     ]
    },
    {
     "name": "stdout",
     "output_type": "stream",
     "text": [
      "\t ----- reward: -56.50325111877083 for f_star and f_minus: 40.68646366220069 , 56.50325111877083\n",
      "\t ---------- State is:  (2, 12)\n",
      "[INFO] [2023-04-13 22:08:40,710] [OpenBox-SPO] Iteration 45, objective value: [49.663846191463115].\n"
     ]
    },
    {
     "name": "stderr",
     "output_type": "stream",
     "text": [
      "\r",
      "  4%|███▍                                                                         | 45/1000 [28:53<10:45:14, 40.54s/it]"
     ]
    },
    {
     "name": "stdout",
     "output_type": "stream",
     "text": [
      "\t ----- reward: -49.663846191463115 for f_star and f_minus: 40.68646366220069 , 49.663846191463115\n",
      "\t ---------- State is:  (1, 12)\n",
      "[INFO] [2023-04-13 22:09:22,240] [OpenBox-SPO] Iteration 46, objective value: [56.43023988157535].\n"
     ]
    },
    {
     "name": "stderr",
     "output_type": "stream",
     "text": [
      "\r",
      "  5%|███▌                                                                         | 46/1000 [29:35<10:49:17, 40.84s/it]"
     ]
    },
    {
     "name": "stdout",
     "output_type": "stream",
     "text": [
      "\t ----- reward: -56.43023988157535 for f_star and f_minus: 40.68646366220069 , 56.43023988157535\n",
      "\t ---------- State is:  (1, 12)\n",
      "[INFO] [2023-04-13 22:10:11,187] [OpenBox-SPO] Iteration 47, objective value: [44.43462969545921].\n"
     ]
    },
    {
     "name": "stderr",
     "output_type": "stream",
     "text": [
      "\r",
      "  5%|███▌                                                                         | 47/1000 [30:24<11:27:15, 43.27s/it]"
     ]
    },
    {
     "name": "stdout",
     "output_type": "stream",
     "text": [
      "\t ----- reward: -44.43462969545921 for f_star and f_minus: 40.68646366220069 , 44.43462969545921\n",
      "\t ---------- State is:  (0, 12)\n",
      "[INFO] [2023-04-13 22:11:01,861] [OpenBox-SPO] Iteration 48, objective value: [45.273490495127675].\n"
     ]
    },
    {
     "name": "stderr",
     "output_type": "stream",
     "text": [
      "\r",
      "  5%|███▋                                                                         | 48/1000 [31:14<12:01:47, 45.49s/it]"
     ]
    },
    {
     "name": "stdout",
     "output_type": "stream",
     "text": [
      "\t ----- reward: -45.273490495127675 for f_star and f_minus: 40.68646366220069 , 45.273490495127675\n",
      "\t ---------- State is:  (1, 12)\n",
      "[INFO] [2023-04-13 22:11:45,178] [OpenBox-SPO] Iteration 49, objective value: [45.83283042334125].\n"
     ]
    },
    {
     "name": "stderr",
     "output_type": "stream",
     "text": [
      "\r",
      "  5%|███▊                                                                         | 49/1000 [31:58<11:50:41, 44.84s/it]"
     ]
    },
    {
     "name": "stdout",
     "output_type": "stream",
     "text": [
      "\t ----- reward: -45.83283042334125 for f_star and f_minus: 40.68646366220069 , 45.83283042334125\n",
      "\t ---------- State is:  (1, 12)\n",
      "[INFO] [2023-04-13 22:12:25,592] [OpenBox-SPO] Iteration 50, objective value: [45.058754922364145].\n"
     ]
    },
    {
     "name": "stderr",
     "output_type": "stream",
     "text": [
      "\r",
      "  5%|███▊                                                                         | 50/1000 [32:38<11:28:55, 43.51s/it]"
     ]
    },
    {
     "name": "stdout",
     "output_type": "stream",
     "text": [
      "\t ----- reward: -45.058754922364145 for f_star and f_minus: 40.68646366220069 , 45.058754922364145\n",
      "\t ---------- State is:  (2, 12)\n",
      "[INFO] [2023-04-13 22:13:09,428] [OpenBox-SPO] Iteration 51, objective value: [42.62992068741266].\n"
     ]
    },
    {
     "name": "stderr",
     "output_type": "stream",
     "text": [
      "\r",
      "  5%|███▉                                                                         | 51/1000 [33:22<11:29:44, 43.61s/it]"
     ]
    },
    {
     "name": "stdout",
     "output_type": "stream",
     "text": [
      "\t ----- reward: -42.62992068741266 for f_star and f_minus: 40.68646366220069 , 42.62992068741266\n",
      "\t ---------- State is:  (1, 11)\n",
      "[INFO] [2023-04-13 22:13:49,783] [OpenBox-SPO] Iteration 52, objective value: [41.653489586081626].\n"
     ]
    },
    {
     "name": "stderr",
     "output_type": "stream",
     "text": [
      "\r",
      "  5%|████                                                                         | 52/1000 [34:02<11:13:35, 42.63s/it]"
     ]
    },
    {
     "name": "stdout",
     "output_type": "stream",
     "text": [
      "\t ----- reward: -41.653489586081626 for f_star and f_minus: 40.68646366220069 , 41.653489586081626\n",
      "\t ---------- State is:  (2, 11)\n",
      "[INFO] [2023-04-13 22:14:33,623] [OpenBox-SPO] Iteration 53, objective value: [47.913425756575755].\n"
     ]
    },
    {
     "name": "stderr",
     "output_type": "stream",
     "text": [
      "\r",
      "  5%|████                                                                         | 53/1000 [34:46<11:18:35, 42.99s/it]"
     ]
    },
    {
     "name": "stdout",
     "output_type": "stream",
     "text": [
      "\t ----- reward: -47.913425756575755 for f_star and f_minus: 40.68646366220069 , 47.913425756575755\n",
      "\t ---------- State is:  (3, 11)\n",
      "[INFO] [2023-04-13 22:15:19,377] [OpenBox-SPO] Iteration 54, objective value: [49.805975779129184].\n"
     ]
    },
    {
     "name": "stderr",
     "output_type": "stream",
     "text": [
      "\r",
      "  5%|████▏                                                                        | 54/1000 [35:32<11:30:56, 43.82s/it]"
     ]
    },
    {
     "name": "stdout",
     "output_type": "stream",
     "text": [
      "\t ----- reward: -49.805975779129184 for f_star and f_minus: 40.68646366220069 , 49.805975779129184\n",
      "\t ---------- State is:  (2, 11)\n",
      "[INFO] [2023-04-13 22:16:03,175] [OpenBox-SPO] Iteration 55, objective value: [48.36233890752639].\n"
     ]
    },
    {
     "name": "stderr",
     "output_type": "stream",
     "text": [
      "\r",
      "  6%|████▏                                                                        | 55/1000 [36:16<11:30:05, 43.82s/it]"
     ]
    },
    {
     "name": "stdout",
     "output_type": "stream",
     "text": [
      "\t ----- reward: -48.36233890752639 for f_star and f_minus: 40.68646366220069 , 48.36233890752639\n",
      "\t ---------- State is:  (2, 11)\n",
      "[INFO] [2023-04-13 22:16:52,985] [OpenBox-SPO] Iteration 56, objective value: [47.328000649047674].\n"
     ]
    },
    {
     "name": "stderr",
     "output_type": "stream",
     "text": [
      "\r",
      "  6%|████▎                                                                        | 56/1000 [37:05<11:57:39, 45.61s/it]"
     ]
    },
    {
     "name": "stdout",
     "output_type": "stream",
     "text": [
      "\t ----- reward: -47.328000649047674 for f_star and f_minus: 40.68646366220069 , 47.328000649047674\n",
      "\t ---------- State is:  (3, 10)\n",
      "[INFO] [2023-04-13 22:17:34,375] [OpenBox-SPO] Iteration 57, objective value: [44.372814583094836].\n"
     ]
    },
    {
     "name": "stderr",
     "output_type": "stream",
     "text": [
      "\r",
      "  6%|████▍                                                                        | 57/1000 [37:47<11:36:58, 44.35s/it]"
     ]
    },
    {
     "name": "stdout",
     "output_type": "stream",
     "text": [
      "\t ----- reward: -44.372814583094836 for f_star and f_minus: 40.68646366220069 , 44.372814583094836\n",
      "\t ---------- State is:  (2, 10)\n",
      "[INFO] [2023-04-13 22:18:19,366] [OpenBox-SPO] Iteration 58, objective value: [50.929191479269385].\n"
     ]
    },
    {
     "name": "stderr",
     "output_type": "stream",
     "text": [
      "\r",
      "  6%|████▍                                                                        | 58/1000 [38:32<11:39:16, 44.54s/it]"
     ]
    },
    {
     "name": "stdout",
     "output_type": "stream",
     "text": [
      "\t ----- reward: -50.929191479269385 for f_star and f_minus: 40.68646366220069 , 50.929191479269385\n",
      "\t ---------- State is:  (1, 9)\n",
      "[INFO] [2023-04-13 22:19:08,396] [OpenBox-SPO] Iteration 59, objective value: [44.12883166179606].\n"
     ]
    },
    {
     "name": "stderr",
     "output_type": "stream",
     "text": [
      "\r",
      "  6%|████▌                                                                        | 59/1000 [39:21<11:59:39, 45.89s/it]"
     ]
    },
    {
     "name": "stdout",
     "output_type": "stream",
     "text": [
      "\t ----- reward: -44.12883166179606 for f_star and f_minus: 40.68646366220069 , 44.12883166179606\n",
      "\t ---------- State is:  (2, 9)\n",
      "[INFO] [2023-04-13 22:19:08,396] [Advisor] Sample random config. rand_prob=0.100000.\n",
      "[INFO] [2023-04-13 22:19:40,991] [OpenBox-SPO] Iteration 60, objective value: [49.92231585508604].\n"
     ]
    },
    {
     "name": "stderr",
     "output_type": "stream",
     "text": [
      "\r",
      "  6%|████▌                                                                        | 60/1000 [39:53<10:56:25, 41.90s/it]"
     ]
    },
    {
     "name": "stdout",
     "output_type": "stream",
     "text": [
      "\t ----- reward: -49.92231585508604 for f_star and f_minus: 40.68646366220069 , 49.92231585508604\n",
      "\t ---------- State is:  (2, 9)\n",
      "[INFO] [2023-04-13 22:20:23,439] [OpenBox-SPO] Iteration 61, objective value: [52.19789577323005].\n"
     ]
    },
    {
     "name": "stderr",
     "output_type": "stream",
     "text": [
      "\r",
      "  6%|████▋                                                                        | 61/1000 [40:36<10:58:17, 42.06s/it]"
     ]
    },
    {
     "name": "stdout",
     "output_type": "stream",
     "text": [
      "\t ----- reward: -52.19789577323005 for f_star and f_minus: 40.68646366220069 , 52.19789577323005\n",
      "\t ---------- State is:  (1, 9)\n",
      "[INFO] [2023-04-13 22:21:10,015] [OpenBox-SPO] Iteration 62, objective value: [46.682498680554716].\n"
     ]
    },
    {
     "name": "stderr",
     "output_type": "stream",
     "text": [
      "\r",
      "  6%|████▊                                                                        | 62/1000 [41:22<11:18:45, 43.42s/it]"
     ]
    },
    {
     "name": "stdout",
     "output_type": "stream",
     "text": [
      "\t ----- reward: -46.682498680554716 for f_star and f_minus: 40.68646366220069 , 46.682498680554716\n",
      "\t ---------- State is:  (0, 9)\n",
      "[INFO] [2023-04-13 22:21:58,168] [OpenBox-SPO] Iteration 63, objective value: [61.696510310925845].\n"
     ]
    },
    {
     "name": "stderr",
     "output_type": "stream",
     "text": [
      "\r",
      "  6%|████▊                                                                        | 63/1000 [42:11<11:40:13, 44.84s/it]"
     ]
    },
    {
     "name": "stdout",
     "output_type": "stream",
     "text": [
      "\t ----- reward: -61.696510310925845 for f_star and f_minus: 40.68646366220069 , 61.696510310925845\n",
      "\t ---------- State is:  (0, 9)\n",
      "[INFO] [2023-04-13 22:22:48,538] [OpenBox-SPO] Iteration 64, objective value: [38.600526461892336].\n"
     ]
    },
    {
     "name": "stderr",
     "output_type": "stream",
     "text": [
      "\r",
      "  6%|████▉                                                                        | 64/1000 [43:01<12:05:21, 46.50s/it]"
     ]
    },
    {
     "name": "stdout",
     "output_type": "stream",
     "text": [
      "\t ----- reward: -38.600526461892336 for f_star and f_minus: 40.68646366220069 , 38.600526461892336\n",
      "\t ---------- State is:  (0, 8)\n",
      "[INFO] [2023-04-13 22:23:26,320] [OpenBox-SPO] Iteration 65, objective value: [41.4476421521497].\n"
     ]
    },
    {
     "name": "stderr",
     "output_type": "stream",
     "text": [
      "\r",
      "  6%|█████                                                                        | 65/1000 [43:39<11:23:50, 43.88s/it]"
     ]
    },
    {
     "name": "stdout",
     "output_type": "stream",
     "text": [
      "\t ----- reward: -41.4476421521497 for f_star and f_minus: 38.600526461892336 , 41.4476421521497\n",
      "\t ---------- State is:  (1, 10)\n",
      "[INFO] [2023-04-13 22:24:14,035] [OpenBox-SPO] Iteration 66, objective value: [36.65493265510443].\n"
     ]
    },
    {
     "name": "stderr",
     "output_type": "stream",
     "text": [
      "\r",
      "  7%|█████                                                                        | 66/1000 [44:26<11:41:00, 45.03s/it]"
     ]
    },
    {
     "name": "stdout",
     "output_type": "stream",
     "text": [
      "\t ----- reward: -36.65493265510443 for f_star and f_minus: 38.600526461892336 , 36.65493265510443\n",
      "\t ---------- State is:  (0, 9)\n",
      "[INFO] [2023-04-13 22:24:59,352] [OpenBox-SPO] Iteration 67, objective value: [46.1123820154939].\n"
     ]
    },
    {
     "name": "stderr",
     "output_type": "stream",
     "text": [
      "\r",
      "  7%|█████▏                                                                       | 67/1000 [45:12<11:41:34, 45.12s/it]"
     ]
    },
    {
     "name": "stdout",
     "output_type": "stream",
     "text": [
      "\t ----- reward: -46.1123820154939 for f_star and f_minus: 36.65493265510443 , 46.1123820154939\n",
      "\t ---------- State is:  (1, 11)\n",
      "[INFO] [2023-04-13 22:25:40,035] [OpenBox-SPO] Iteration 68, objective value: [49.87904851988314].\n"
     ]
    },
    {
     "name": "stderr",
     "output_type": "stream",
     "text": [
      "\r",
      "  7%|█████▏                                                                       | 68/1000 [45:52<11:20:10, 43.79s/it]"
     ]
    },
    {
     "name": "stdout",
     "output_type": "stream",
     "text": [
      "\t ----- reward: -49.87904851988314 for f_star and f_minus: 36.65493265510443 , 49.87904851988314\n",
      "\t ---------- State is:  (0, 11)\n",
      "[INFO] [2023-04-13 22:26:18,814] [OpenBox-SPO] Iteration 69, objective value: [44.15929018745553].\n"
     ]
    },
    {
     "name": "stderr",
     "output_type": "stream",
     "text": [
      "\r",
      "  7%|█████▎                                                                       | 69/1000 [46:31<10:56:07, 42.28s/it]"
     ]
    },
    {
     "name": "stdout",
     "output_type": "stream",
     "text": [
      "\t ----- reward: -44.15929018745553 for f_star and f_minus: 36.65493265510443 , 44.15929018745553\n",
      "\t ---------- State is:  (0, 11)\n",
      "[INFO] [2023-04-13 22:27:10,233] [OpenBox-SPO] Iteration 70, objective value: [46.84185220052181].\n"
     ]
    },
    {
     "name": "stderr",
     "output_type": "stream",
     "text": [
      "\r",
      "  7%|█████▍                                                                       | 70/1000 [47:23<11:37:53, 45.03s/it]"
     ]
    },
    {
     "name": "stdout",
     "output_type": "stream",
     "text": [
      "\t ----- reward: -46.84185220052181 for f_star and f_minus: 36.65493265510443 , 46.84185220052181\n",
      "\t ---------- State is:  (0, 10)\n",
      "[INFO] [2023-04-13 22:27:59,386] [OpenBox-SPO] Iteration 71, objective value: [43.27276632125816].\n"
     ]
    },
    {
     "name": "stderr",
     "output_type": "stream",
     "text": [
      "\r",
      "  7%|█████▍                                                                       | 71/1000 [48:12<11:56:18, 46.26s/it]"
     ]
    },
    {
     "name": "stdout",
     "output_type": "stream",
     "text": [
      "\t ----- reward: -43.27276632125816 for f_star and f_minus: 36.65493265510443 , 43.27276632125816\n",
      "\t ---------- State is:  (0, 10)\n",
      "[INFO] [2023-04-13 22:28:56,011] [OpenBox-SPO] Iteration 72, objective value: [44.98521372247094].\n"
     ]
    },
    {
     "name": "stderr",
     "output_type": "stream",
     "text": [
      "\r",
      "  7%|█████▌                                                                       | 72/1000 [49:08<12:43:37, 49.37s/it]"
     ]
    },
    {
     "name": "stdout",
     "output_type": "stream",
     "text": [
      "\t ----- reward: -44.98521372247094 for f_star and f_minus: 36.65493265510443 , 44.98521372247094\n",
      "\t ---------- State is:  (1, 10)\n",
      "[INFO] [2023-04-13 22:29:38,863] [OpenBox-SPO] Iteration 73, objective value: [39.75073458241698].\n"
     ]
    },
    {
     "name": "stderr",
     "output_type": "stream",
     "text": [
      "\r",
      "  7%|█████▌                                                                       | 73/1000 [49:51<12:12:34, 47.42s/it]"
     ]
    },
    {
     "name": "stdout",
     "output_type": "stream",
     "text": [
      "\t ----- reward: -39.75073458241698 for f_star and f_minus: 36.65493265510443 , 39.75073458241698\n",
      "\t ---------- State is:  (1, 10)\n",
      "[INFO] [2023-04-13 22:30:20,326] [OpenBox-SPO] Iteration 74, objective value: [51.607929941436026].\n"
     ]
    },
    {
     "name": "stderr",
     "output_type": "stream",
     "text": [
      "\r",
      "  7%|█████▋                                                                       | 74/1000 [50:33<11:44:17, 45.63s/it]"
     ]
    },
    {
     "name": "stdout",
     "output_type": "stream",
     "text": [
      "\t ----- reward: -51.607929941436026 for f_star and f_minus: 36.65493265510443 , 51.607929941436026\n",
      "\t ---------- State is:  (0, 9)\n",
      "[INFO] [2023-04-13 22:30:58,101] [OpenBox-SPO] Iteration 75, objective value: [52.456743400177686].\n"
     ]
    },
    {
     "name": "stderr",
     "output_type": "stream",
     "text": [
      "\r",
      "  8%|█████▊                                                                       | 75/1000 [51:10<11:07:06, 43.27s/it]"
     ]
    },
    {
     "name": "stdout",
     "output_type": "stream",
     "text": [
      "\t ----- reward: -52.456743400177686 for f_star and f_minus: 36.65493265510443 , 52.456743400177686\n",
      "\t ---------- State is:  (0, 10)\n",
      "[INFO] [2023-04-13 22:31:44,854] [OpenBox-SPO] Iteration 76, objective value: [44.14762067038095].\n"
     ]
    },
    {
     "name": "stderr",
     "output_type": "stream",
     "text": [
      "\r",
      "  8%|█████▊                                                                       | 76/1000 [51:57<11:22:28, 44.32s/it]"
     ]
    },
    {
     "name": "stdout",
     "output_type": "stream",
     "text": [
      "\t ----- reward: -44.14762067038095 for f_star and f_minus: 36.65493265510443 , 44.14762067038095\n",
      "\t ---------- State is:  (1, 9)\n",
      "[INFO] [2023-04-13 22:32:30,052] [OpenBox-SPO] Iteration 77, objective value: [39.20085631325377].\n"
     ]
    },
    {
     "name": "stderr",
     "output_type": "stream",
     "text": [
      "\r",
      "  8%|█████▉                                                                       | 77/1000 [52:42<11:25:48, 44.58s/it]"
     ]
    },
    {
     "name": "stdout",
     "output_type": "stream",
     "text": [
      "\t ----- reward: -39.20085631325377 for f_star and f_minus: 36.65493265510443 , 39.20085631325377\n",
      "\t ---------- State is:  (0, 9)\n",
      "[INFO] [2023-04-13 22:33:09,099] [OpenBox-SPO] Iteration 78, objective value: [45.95801684432498].\n"
     ]
    },
    {
     "name": "stderr",
     "output_type": "stream",
     "text": [
      "\r",
      "  8%|██████                                                                       | 78/1000 [53:21<10:59:32, 42.92s/it]"
     ]
    },
    {
     "name": "stdout",
     "output_type": "stream",
     "text": [
      "\t ----- reward: -45.95801684432498 for f_star and f_minus: 36.65493265510443 , 45.95801684432498\n",
      "\t ---------- State is:  (0, 9)\n",
      "[INFO] [2023-04-13 22:33:48,635] [OpenBox-SPO] Iteration 79, objective value: [37.38579297065014].\n"
     ]
    },
    {
     "name": "stderr",
     "output_type": "stream",
     "text": [
      "\r",
      "  8%|██████                                                                       | 79/1000 [54:01<10:43:14, 41.91s/it]"
     ]
    },
    {
     "name": "stdout",
     "output_type": "stream",
     "text": [
      "\t ----- reward: -37.38579297065014 for f_star and f_minus: 36.65493265510443 , 37.38579297065014\n",
      "\t ---------- State is:  (1, 9)\n",
      "[INFO] [2023-04-13 22:34:31,197] [OpenBox-SPO] Iteration 80, objective value: [48.77480101395737].\n"
     ]
    },
    {
     "name": "stderr",
     "output_type": "stream",
     "text": [
      "\r",
      "  8%|██████▏                                                                      | 80/1000 [54:44<10:45:34, 42.10s/it]"
     ]
    },
    {
     "name": "stdout",
     "output_type": "stream",
     "text": [
      "\t ----- reward: -48.77480101395737 for f_star and f_minus: 36.65493265510443 , 48.77480101395737\n",
      "\t ---------- State is:  (1, 9)\n",
      "[INFO] [2023-04-13 22:35:19,183] [OpenBox-SPO] Iteration 81, objective value: [38.87504188177964].\n"
     ]
    },
    {
     "name": "stderr",
     "output_type": "stream",
     "text": [
      "\r",
      "  8%|██████▏                                                                      | 81/1000 [55:32<11:11:54, 43.87s/it]"
     ]
    },
    {
     "name": "stdout",
     "output_type": "stream",
     "text": [
      "\t ----- reward: -38.87504188177964 for f_star and f_minus: 36.65493265510443 , 38.87504188177964\n",
      "\t ---------- State is:  (1, 9)\n",
      "[INFO] [2023-04-13 22:36:02,875] [OpenBox-SPO] Iteration 82, objective value: [41.95228676899484].\n"
     ]
    },
    {
     "name": "stderr",
     "output_type": "stream",
     "text": [
      "\r",
      "  8%|██████▎                                                                      | 82/1000 [56:15<11:10:21, 43.81s/it]"
     ]
    },
    {
     "name": "stdout",
     "output_type": "stream",
     "text": [
      "\t ----- reward: -41.95228676899484 for f_star and f_minus: 36.65493265510443 , 41.95228676899484\n",
      "\t ---------- State is:  (2, 9)\n",
      "[INFO] [2023-04-13 22:36:42,274] [OpenBox-SPO] Iteration 83, objective value: [47.834337364669025].\n"
     ]
    },
    {
     "name": "stderr",
     "output_type": "stream",
     "text": [
      "\r",
      "  8%|██████▍                                                                      | 83/1000 [56:55<10:49:23, 42.49s/it]"
     ]
    },
    {
     "name": "stdout",
     "output_type": "stream",
     "text": [
      "\t ----- reward: -47.834337364669025 for f_star and f_minus: 36.65493265510443 , 47.834337364669025\n",
      "\t ---------- State is:  (3, 9)\n",
      "[INFO] [2023-04-13 22:37:25,111] [OpenBox-SPO] Iteration 84, objective value: [38.13099655679901].\n"
     ]
    },
    {
     "name": "stderr",
     "output_type": "stream",
     "text": [
      "\r",
      "  8%|██████▍                                                                      | 84/1000 [57:37<10:50:16, 42.59s/it]"
     ]
    },
    {
     "name": "stdout",
     "output_type": "stream",
     "text": [
      "\t ----- reward: -38.13099655679901 for f_star and f_minus: 36.65493265510443 , 38.13099655679901\n",
      "\t ---------- State is:  (4, 8)\n",
      "[INFO] [2023-04-13 22:38:09,541] [OpenBox-SPO] Iteration 85, objective value: [45.086711974331216].\n"
     ]
    },
    {
     "name": "stderr",
     "output_type": "stream",
     "text": [
      "\r",
      "  8%|██████▌                                                                      | 85/1000 [58:22<10:57:57, 43.14s/it]"
     ]
    },
    {
     "name": "stdout",
     "output_type": "stream",
     "text": [
      "\t ----- reward: -45.086711974331216 for f_star and f_minus: 36.65493265510443 , 45.086711974331216\n",
      "\t ---------- State is:  (4, 8)\n",
      "[INFO] [2023-04-13 22:38:56,357] [OpenBox-SPO] Iteration 86, objective value: [52.230147132657244].\n"
     ]
    },
    {
     "name": "stderr",
     "output_type": "stream",
     "text": [
      "\r",
      "  9%|██████▌                                                                      | 86/1000 [59:09<11:14:01, 44.25s/it]"
     ]
    },
    {
     "name": "stdout",
     "output_type": "stream",
     "text": [
      "\t ----- reward: -52.230147132657244 for f_star and f_minus: 36.65493265510443 , 52.230147132657244\n",
      "\t ---------- State is:  (4, 8)\n",
      "[INFO] [2023-04-13 22:39:41,295] [OpenBox-SPO] Iteration 87, objective value: [38.40435277528247].\n"
     ]
    },
    {
     "name": "stderr",
     "output_type": "stream",
     "text": [
      "\r",
      "  9%|██████▋                                                                      | 87/1000 [59:54<11:16:26, 44.45s/it]"
     ]
    },
    {
     "name": "stdout",
     "output_type": "stream",
     "text": [
      "\t ----- reward: -38.40435277528247 for f_star and f_minus: 36.65493265510443 , 38.40435277528247\n",
      "\t ---------- State is:  (3, 8)\n",
      "[INFO] [2023-04-13 22:40:22,649] [OpenBox-SPO] Iteration 88, objective value: [43.0151653718094].\n"
     ]
    },
    {
     "name": "stderr",
     "output_type": "stream",
     "text": [
      "\r",
      "  9%|██████▌                                                                    | 88/1000 [1:00:35<11:01:33, 43.52s/it]"
     ]
    },
    {
     "name": "stdout",
     "output_type": "stream",
     "text": [
      "\t ----- reward: -43.0151653718094 for f_star and f_minus: 36.65493265510443 , 43.0151653718094\n",
      "\t ---------- State is:  (3, 8)\n",
      "[INFO] [2023-04-13 22:41:13,179] [OpenBox-SPO] Iteration 89, objective value: [49.240206703394286].\n"
     ]
    },
    {
     "name": "stderr",
     "output_type": "stream",
     "text": [
      "\r",
      "  9%|██████▋                                                                    | 89/1000 [1:01:26<11:32:44, 45.63s/it]"
     ]
    },
    {
     "name": "stdout",
     "output_type": "stream",
     "text": [
      "\t ----- reward: -49.240206703394286 for f_star and f_minus: 36.65493265510443 , 49.240206703394286\n",
      "\t ---------- State is:  (2, 8)\n",
      "[INFO] [2023-04-13 22:41:54,315] [OpenBox-SPO] Iteration 90, objective value: [53.62632103014743].\n"
     ]
    },
    {
     "name": "stderr",
     "output_type": "stream",
     "text": [
      "\r",
      "  9%|██████▊                                                                    | 90/1000 [1:02:07<11:11:33, 44.28s/it]"
     ]
    },
    {
     "name": "stdout",
     "output_type": "stream",
     "text": [
      "\t ----- reward: -53.62632103014743 for f_star and f_minus: 36.65493265510443 , 53.62632103014743\n",
      "\t ---------- State is:  (2, 8)\n",
      "[INFO] [2023-04-13 22:42:39,788] [OpenBox-SPO] Iteration 91, objective value: [42.592172633660205].\n"
     ]
    },
    {
     "name": "stderr",
     "output_type": "stream",
     "text": [
      "\r",
      "  9%|██████▊                                                                    | 91/1000 [1:02:52<11:16:15, 44.64s/it]"
     ]
    },
    {
     "name": "stdout",
     "output_type": "stream",
     "text": [
      "\t ----- reward: -42.592172633660205 for f_star and f_minus: 36.65493265510443 , 42.592172633660205\n",
      "\t ---------- State is:  (1, 8)\n",
      "[INFO] [2023-04-13 22:43:27,063] [OpenBox-SPO] Iteration 92, objective value: [42.89872413314224].\n"
     ]
    },
    {
     "name": "stderr",
     "output_type": "stream",
     "text": [
      "\r",
      "  9%|██████▉                                                                    | 92/1000 [1:03:39<11:27:33, 45.43s/it]"
     ]
    },
    {
     "name": "stdout",
     "output_type": "stream",
     "text": [
      "\t ----- reward: -42.89872413314224 for f_star and f_minus: 36.65493265510443 , 42.89872413314224\n",
      "\t ---------- State is:  (0, 8)\n",
      "[INFO] [2023-04-13 22:43:27,078] [Advisor] Sample random config. rand_prob=0.100000.\n",
      "[INFO] [2023-04-13 22:44:01,405] [OpenBox-SPO] Iteration 93, objective value: [48.674304626319966].\n"
     ]
    },
    {
     "name": "stderr",
     "output_type": "stream",
     "text": [
      "\r",
      "  9%|██████▉                                                                    | 93/1000 [1:04:14<10:36:25, 42.10s/it]"
     ]
    },
    {
     "name": "stdout",
     "output_type": "stream",
     "text": [
      "\t ----- reward: -48.674304626319966 for f_star and f_minus: 36.65493265510443 , 48.674304626319966\n",
      "\t ---------- State is:  (0, 7)\n",
      "[INFO] [2023-04-13 22:44:48,787] [OpenBox-SPO] Iteration 94, objective value: [44.54115985562608].\n"
     ]
    },
    {
     "name": "stderr",
     "output_type": "stream",
     "text": [
      "\r",
      "  9%|███████                                                                    | 94/1000 [1:05:01<10:59:38, 43.69s/it]"
     ]
    },
    {
     "name": "stdout",
     "output_type": "stream",
     "text": [
      "\t ----- reward: -44.54115985562608 for f_star and f_minus: 36.65493265510443 , 44.54115985562608\n",
      "\t ---------- State is:  (1, 8)\n",
      "[INFO] [2023-04-13 22:45:29,386] [OpenBox-SPO] Iteration 95, objective value: [49.74598522280369].\n"
     ]
    },
    {
     "name": "stderr",
     "output_type": "stream",
     "text": [
      "\r",
      " 10%|███████▏                                                                   | 95/1000 [1:05:42<10:44:57, 42.76s/it]"
     ]
    },
    {
     "name": "stdout",
     "output_type": "stream",
     "text": [
      "\t ----- reward: -49.74598522280369 for f_star and f_minus: 36.65493265510443 , 49.74598522280369\n",
      "\t ---------- State is:  (2, 8)\n",
      "[INFO] [2023-04-13 22:46:11,951] [OpenBox-SPO] Iteration 96, objective value: [44.168179720848386].\n"
     ]
    },
    {
     "name": "stderr",
     "output_type": "stream",
     "text": [
      "\r",
      " 10%|███████▏                                                                   | 96/1000 [1:06:24<10:43:21, 42.70s/it]"
     ]
    },
    {
     "name": "stdout",
     "output_type": "stream",
     "text": [
      "\t ----- reward: -44.168179720848386 for f_star and f_minus: 36.65493265510443 , 44.168179720848386\n",
      "\t ---------- State is:  (2, 8)\n",
      "[INFO] [2023-04-13 22:47:00,806] [OpenBox-SPO] Iteration 97, objective value: [44.69103205574149].\n"
     ]
    },
    {
     "name": "stderr",
     "output_type": "stream",
     "text": [
      "\r",
      " 10%|███████▎                                                                   | 97/1000 [1:07:13<11:10:26, 44.55s/it]"
     ]
    },
    {
     "name": "stdout",
     "output_type": "stream",
     "text": [
      "\t ----- reward: -44.69103205574149 for f_star and f_minus: 36.65493265510443 , 44.69103205574149\n",
      "\t ---------- State is:  (2, 8)\n",
      "[INFO] [2023-04-13 22:47:47,569] [OpenBox-SPO] Iteration 98, objective value: [44.98377772270915].\n"
     ]
    },
    {
     "name": "stderr",
     "output_type": "stream",
     "text": [
      "\r",
      " 10%|███████▎                                                                   | 98/1000 [1:08:00<11:19:41, 45.21s/it]"
     ]
    },
    {
     "name": "stdout",
     "output_type": "stream",
     "text": [
      "\t ----- reward: -44.98377772270915 for f_star and f_minus: 36.65493265510443 , 44.98377772270915\n",
      "\t ---------- State is:  (2, 8)\n",
      "[INFO] [2023-04-13 22:48:40,019] [OpenBox-SPO] Iteration 99, objective value: [49.68515504631049].\n"
     ]
    },
    {
     "name": "stderr",
     "output_type": "stream",
     "text": [
      "\r",
      " 10%|███████▍                                                                   | 99/1000 [1:08:52<11:51:32, 47.38s/it]"
     ]
    },
    {
     "name": "stdout",
     "output_type": "stream",
     "text": [
      "\t ----- reward: -49.68515504631049 for f_star and f_minus: 36.65493265510443 , 49.68515504631049\n",
      "\t ---------- State is:  (3, 8)\n",
      "[INFO] [2023-04-13 22:49:20,251] [OpenBox-SPO] Iteration 100, objective value: [48.23183191488993].\n"
     ]
    },
    {
     "name": "stderr",
     "output_type": "stream",
     "text": [
      "\r",
      " 10%|███████▍                                                                  | 100/1000 [1:09:33<11:18:34, 45.24s/it]"
     ]
    },
    {
     "name": "stdout",
     "output_type": "stream",
     "text": [
      "\t ----- reward: -48.23183191488993 for f_star and f_minus: 36.65493265510443 , 48.23183191488993\n",
      "\t ---------- State is:  (3, 8)\n",
      "[INFO] [2023-04-13 22:49:59,299] [OpenBox-SPO] Iteration 101, objective value: [38.0658379175112].\n"
     ]
    },
    {
     "name": "stderr",
     "output_type": "stream",
     "text": [
      "\r",
      " 10%|███████▍                                                                  | 101/1000 [1:10:12<10:49:59, 43.38s/it]"
     ]
    },
    {
     "name": "stdout",
     "output_type": "stream",
     "text": [
      "\t ----- reward: -38.0658379175112 for f_star and f_minus: 36.65493265510443 , 38.0658379175112\n",
      "\t ---------- State is:  (4, 8)\n",
      "[INFO] [2023-04-13 22:50:45,894] [OpenBox-SPO] Iteration 102, objective value: [36.08563831035959].\n"
     ]
    },
    {
     "name": "stderr",
     "output_type": "stream",
     "text": [
      "\r",
      " 10%|███████▌                                                                  | 102/1000 [1:10:58<11:03:41, 44.35s/it]"
     ]
    },
    {
     "name": "stdout",
     "output_type": "stream",
     "text": [
      "\t ----- reward: -36.08563831035959 for f_star and f_minus: 36.65493265510443 , 36.08563831035959\n",
      "\t ---------- State is:  (3, 8)\n",
      "[INFO] [2023-04-13 22:51:31,262] [OpenBox-SPO] Iteration 103, objective value: [47.68520642088426].\n"
     ]
    },
    {
     "name": "stderr",
     "output_type": "stream",
     "text": [
      "\r",
      " 10%|███████▌                                                                  | 103/1000 [1:11:44<11:07:32, 44.65s/it]"
     ]
    },
    {
     "name": "stdout",
     "output_type": "stream",
     "text": [
      "\t ----- reward: -47.68520642088426 for f_star and f_minus: 36.08563831035959 , 47.68520642088426\n",
      "\t ---------- State is:  (3, 8)\n",
      "[INFO] [2023-04-13 22:52:10,411] [OpenBox-SPO] Iteration 104, objective value: [50.20438530738208].\n"
     ]
    },
    {
     "name": "stderr",
     "output_type": "stream",
     "text": [
      "\r",
      " 10%|███████▋                                                                  | 104/1000 [1:12:23<10:42:09, 43.00s/it]"
     ]
    },
    {
     "name": "stdout",
     "output_type": "stream",
     "text": [
      "\t ----- reward: -50.20438530738208 for f_star and f_minus: 36.08563831035959 , 50.20438530738208\n",
      "\t ---------- State is:  (4, 8)\n",
      "[INFO] [2023-04-13 22:52:10,411] [Advisor] Sample random config. rand_prob=0.100000.\n",
      "[INFO] [2023-04-13 22:52:45,181] [OpenBox-SPO] Iteration 105, objective value: [56.90033811292645].\n"
     ]
    },
    {
     "name": "stderr",
     "output_type": "stream",
     "text": [
      "\r",
      " 10%|███████▊                                                                  | 105/1000 [1:12:58<10:04:36, 40.53s/it]"
     ]
    },
    {
     "name": "stdout",
     "output_type": "stream",
     "text": [
      "\t ----- reward: -56.90033811292645 for f_star and f_minus: 36.08563831035959 , 56.90033811292645\n",
      "\t ---------- State is:  (4, 9)\n",
      "[INFO] [2023-04-13 22:53:33,650] [OpenBox-SPO] Iteration 106, objective value: [43.34987536665227].\n"
     ]
    },
    {
     "name": "stderr",
     "output_type": "stream",
     "text": [
      "\r",
      " 11%|███████▊                                                                  | 106/1000 [1:13:46<10:39:24, 42.91s/it]"
     ]
    },
    {
     "name": "stdout",
     "output_type": "stream",
     "text": [
      "\t ----- reward: -43.34987536665227 for f_star and f_minus: 36.08563831035959 , 43.34987536665227\n",
      "\t ---------- State is:  (4, 8)\n",
      "[INFO] [2023-04-13 22:54:19,837] [OpenBox-SPO] Iteration 107, objective value: [42.48198807207859].\n"
     ]
    },
    {
     "name": "stderr",
     "output_type": "stream",
     "text": [
      "\r",
      " 11%|███████▉                                                                  | 107/1000 [1:14:32<10:53:18, 43.90s/it]"
     ]
    },
    {
     "name": "stdout",
     "output_type": "stream",
     "text": [
      "\t ----- reward: -42.48198807207859 for f_star and f_minus: 36.08563831035959 , 42.48198807207859\n",
      "\t ---------- State is:  (5, 9)\n",
      "[INFO] [2023-04-13 22:55:15,397] [OpenBox-SPO] Iteration 108, objective value: [44.20047885386966].\n"
     ]
    },
    {
     "name": "stderr",
     "output_type": "stream",
     "text": [
      "\r",
      " 11%|███████▉                                                                  | 108/1000 [1:15:28<11:44:35, 47.39s/it]"
     ]
    },
    {
     "name": "stdout",
     "output_type": "stream",
     "text": [
      "\t ----- reward: -44.20047885386966 for f_star and f_minus: 36.08563831035959 , 44.20047885386966\n",
      "\t ---------- State is:  (5, 9)\n",
      "[INFO] [2023-04-13 22:56:00,877] [OpenBox-SPO] Iteration 109, objective value: [52.32026358201081].\n"
     ]
    },
    {
     "name": "stderr",
     "output_type": "stream",
     "text": [
      "\r",
      " 11%|████████                                                                  | 109/1000 [1:16:13<11:35:16, 46.82s/it]"
     ]
    },
    {
     "name": "stdout",
     "output_type": "stream",
     "text": [
      "\t ----- reward: -52.32026358201081 for f_star and f_minus: 36.08563831035959 , 52.32026358201081\n",
      "\t ---------- State is:  (6, 9)\n",
      "[INFO] [2023-04-13 22:56:47,875] [OpenBox-SPO] Iteration 110, objective value: [46.61895971090997].\n"
     ]
    },
    {
     "name": "stderr",
     "output_type": "stream",
     "text": [
      "\r",
      " 11%|████████▏                                                                 | 110/1000 [1:17:00<11:35:17, 46.87s/it]"
     ]
    },
    {
     "name": "stdout",
     "output_type": "stream",
     "text": [
      "\t ----- reward: -46.61895971090997 for f_star and f_minus: 36.08563831035959 , 46.61895971090997\n",
      "\t ---------- State is:  (5, 9)\n",
      "[INFO] [2023-04-13 22:57:29,483] [OpenBox-SPO] Iteration 111, objective value: [38.15304580802774].\n"
     ]
    },
    {
     "name": "stderr",
     "output_type": "stream",
     "text": [
      "\r",
      " 11%|████████▏                                                                 | 111/1000 [1:17:42<11:11:06, 45.29s/it]"
     ]
    },
    {
     "name": "stdout",
     "output_type": "stream",
     "text": [
      "\t ----- reward: -38.15304580802774 for f_star and f_minus: 36.08563831035959 , 38.15304580802774\n",
      "\t ---------- State is:  (5, 9)\n",
      "[INFO] [2023-04-13 22:58:13,558] [OpenBox-SPO] Iteration 112, objective value: [41.26248508542899].\n"
     ]
    },
    {
     "name": "stderr",
     "output_type": "stream",
     "text": [
      "\r",
      " 11%|████████▎                                                                 | 112/1000 [1:18:26<11:04:56, 44.93s/it]"
     ]
    },
    {
     "name": "stdout",
     "output_type": "stream",
     "text": [
      "\t ----- reward: -41.26248508542899 for f_star and f_minus: 36.08563831035959 , 41.26248508542899\n",
      "\t ---------- State is:  (4, 9)\n",
      "[INFO] [2023-04-13 22:58:57,361] [OpenBox-SPO] Iteration 113, objective value: [37.987684103201346].\n"
     ]
    },
    {
     "name": "stderr",
     "output_type": "stream",
     "text": [
      "\r",
      " 11%|████████▎                                                                 | 113/1000 [1:19:10<10:59:11, 44.59s/it]"
     ]
    },
    {
     "name": "stdout",
     "output_type": "stream",
     "text": [
      "\t ----- reward: -37.987684103201346 for f_star and f_minus: 36.08563831035959 , 37.987684103201346\n",
      "\t ---------- State is:  (3, 9)\n",
      "[INFO] [2023-04-13 22:59:41,687] [OpenBox-SPO] Iteration 114, objective value: [47.998234810356955].\n"
     ]
    },
    {
     "name": "stderr",
     "output_type": "stream",
     "text": [
      "\r",
      " 11%|████████▍                                                                 | 114/1000 [1:19:54<10:57:16, 44.51s/it]"
     ]
    },
    {
     "name": "stdout",
     "output_type": "stream",
     "text": [
      "\t ----- reward: -47.998234810356955 for f_star and f_minus: 36.08563831035959 , 47.998234810356955\n",
      "\t ---------- State is:  (3, 9)\n",
      "[INFO] [2023-04-13 23:00:23,715] [OpenBox-SPO] Iteration 115, objective value: [42.01134709605417].\n"
     ]
    },
    {
     "name": "stderr",
     "output_type": "stream",
     "text": [
      "\r",
      " 12%|████████▌                                                                 | 115/1000 [1:20:36<10:45:33, 43.77s/it]"
     ]
    },
    {
     "name": "stdout",
     "output_type": "stream",
     "text": [
      "\t ----- reward: -42.01134709605417 for f_star and f_minus: 36.08563831035959 , 42.01134709605417\n",
      "\t ---------- State is:  (2, 9)\n",
      "[INFO] [2023-04-13 23:01:10,665] [OpenBox-SPO] Iteration 116, objective value: [43.40668239862452].\n"
     ]
    },
    {
     "name": "stderr",
     "output_type": "stream",
     "text": [
      "\r",
      " 12%|████████▌                                                                 | 116/1000 [1:21:23<10:58:53, 44.72s/it]"
     ]
    },
    {
     "name": "stdout",
     "output_type": "stream",
     "text": [
      "\t ----- reward: -43.40668239862452 for f_star and f_minus: 36.08563831035959 , 43.40668239862452\n",
      "\t ---------- State is:  (3, 9)\n",
      "[INFO] [2023-04-13 23:01:56,292] [OpenBox-SPO] Iteration 117, objective value: [45.51552314890903].\n"
     ]
    },
    {
     "name": "stderr",
     "output_type": "stream",
     "text": [
      "\r",
      " 12%|████████▋                                                                 | 117/1000 [1:22:09<11:02:08, 44.99s/it]"
     ]
    },
    {
     "name": "stdout",
     "output_type": "stream",
     "text": [
      "\t ----- reward: -45.51552314890903 for f_star and f_minus: 36.08563831035959 , 45.51552314890903\n",
      "\t ---------- State is:  (4, 9)\n",
      "[INFO] [2023-04-13 23:02:49,016] [OpenBox-SPO] Iteration 118, objective value: [50.977820343978934].\n"
     ]
    },
    {
     "name": "stderr",
     "output_type": "stream",
     "text": [
      "\r",
      " 12%|████████▋                                                                 | 118/1000 [1:23:01<11:35:29, 47.31s/it]"
     ]
    },
    {
     "name": "stdout",
     "output_type": "stream",
     "text": [
      "\t ----- reward: -50.977820343978934 for f_star and f_minus: 36.08563831035959 , 50.977820343978934\n",
      "\t ---------- State is:  (5, 9)\n",
      "[INFO] [2023-04-13 23:03:30,809] [OpenBox-SPO] Iteration 119, objective value: [50.312066462120356].\n"
     ]
    },
    {
     "name": "stderr",
     "output_type": "stream",
     "text": [
      "\r",
      " 12%|████████▊                                                                 | 119/1000 [1:23:43<11:10:23, 45.66s/it]"
     ]
    },
    {
     "name": "stdout",
     "output_type": "stream",
     "text": [
      "\t ----- reward: -50.312066462120356 for f_star and f_minus: 36.08563831035959 , 50.312066462120356\n",
      "\t ---------- State is:  (6, 9)\n",
      "[INFO] [2023-04-13 23:04:13,223] [OpenBox-SPO] Iteration 120, objective value: [47.52994446116616].\n"
     ]
    },
    {
     "name": "stderr",
     "output_type": "stream",
     "text": [
      "\r",
      " 12%|████████▉                                                                 | 120/1000 [1:24:26<10:55:21, 44.68s/it]"
     ]
    },
    {
     "name": "stdout",
     "output_type": "stream",
     "text": [
      "\t ----- reward: -47.52994446116616 for f_star and f_minus: 36.08563831035959 , 47.52994446116616\n",
      "\t ---------- State is:  (5, 9)\n",
      "[INFO] [2023-04-13 23:04:49,300] [OpenBox-SPO] Iteration 121, objective value: [44.642778828883046].\n"
     ]
    },
    {
     "name": "stderr",
     "output_type": "stream",
     "text": [
      "\r",
      " 12%|████████▉                                                                 | 121/1000 [1:25:02<10:16:47, 42.10s/it]"
     ]
    },
    {
     "name": "stdout",
     "output_type": "stream",
     "text": [
      "\t ----- reward: -44.642778828883046 for f_star and f_minus: 36.08563831035959 , 44.642778828883046\n",
      "\t ---------- State is:  (4, 9)\n",
      "[INFO] [2023-04-13 23:05:28,832] [OpenBox-SPO] Iteration 122, objective value: [53.274835563292406].\n"
     ]
    },
    {
     "name": "stderr",
     "output_type": "stream",
     "text": [
      "\r",
      " 12%|█████████                                                                 | 122/1000 [1:25:41<10:04:48, 41.33s/it]"
     ]
    },
    {
     "name": "stdout",
     "output_type": "stream",
     "text": [
      "\t ----- reward: -53.274835563292406 for f_star and f_minus: 36.08563831035959 , 53.274835563292406\n",
      "\t ---------- State is:  (3, 9)\n",
      "[INFO] [2023-04-13 23:06:12,306] [OpenBox-SPO] Iteration 123, objective value: [41.17585154445855].\n"
     ]
    },
    {
     "name": "stderr",
     "output_type": "stream",
     "text": [
      "\r",
      " 12%|█████████                                                                 | 123/1000 [1:26:25<10:13:30, 41.97s/it]"
     ]
    },
    {
     "name": "stdout",
     "output_type": "stream",
     "text": [
      "\t ----- reward: -41.17585154445855 for f_star and f_minus: 36.08563831035959 , 41.17585154445855\n",
      "\t ---------- State is:  (3, 9)\n",
      "[INFO] [2023-04-13 23:06:53,339] [OpenBox-SPO] Iteration 124, objective value: [45.32763766027899].\n"
     ]
    },
    {
     "name": "stderr",
     "output_type": "stream",
     "text": [
      "\r",
      " 12%|█████████▏                                                                | 124/1000 [1:27:06<10:08:41, 41.69s/it]"
     ]
    },
    {
     "name": "stdout",
     "output_type": "stream",
     "text": [
      "\t ----- reward: -45.32763766027899 for f_star and f_minus: 36.08563831035959 , 45.32763766027899\n",
      "\t ---------- State is:  (3, 9)\n",
      "[INFO] [2023-04-13 23:07:35,650] [OpenBox-SPO] Iteration 125, objective value: [38.31478250053523].\n"
     ]
    },
    {
     "name": "stderr",
     "output_type": "stream",
     "text": [
      "\r",
      " 12%|█████████▎                                                                | 125/1000 [1:27:48<10:10:42, 41.88s/it]"
     ]
    },
    {
     "name": "stdout",
     "output_type": "stream",
     "text": [
      "\t ----- reward: -38.31478250053523 for f_star and f_minus: 36.08563831035959 , 38.31478250053523\n",
      "\t ---------- State is:  (4, 9)\n",
      "[INFO] [2023-04-13 23:08:23,477] [OpenBox-SPO] Iteration 126, objective value: [44.42744595151029].\n"
     ]
    },
    {
     "name": "stderr",
     "output_type": "stream",
     "text": [
      "\r",
      " 13%|█████████▎                                                                | 126/1000 [1:28:36<10:36:00, 43.66s/it]"
     ]
    },
    {
     "name": "stdout",
     "output_type": "stream",
     "text": [
      "\t ----- reward: -44.42744595151029 for f_star and f_minus: 36.08563831035959 , 44.42744595151029\n",
      "\t ---------- State is:  (4, 9)\n",
      "[INFO] [2023-04-13 23:09:05,472] [OpenBox-SPO] Iteration 127, objective value: [46.243286415340634].\n"
     ]
    },
    {
     "name": "stderr",
     "output_type": "stream",
     "text": [
      "\r",
      " 13%|█████████▍                                                                | 127/1000 [1:29:18<10:28:00, 43.16s/it]"
     ]
    },
    {
     "name": "stdout",
     "output_type": "stream",
     "text": [
      "\t ----- reward: -46.243286415340634 for f_star and f_minus: 36.08563831035959 , 46.243286415340634\n",
      "\t ---------- State is:  (3, 9)\n",
      "[INFO] [2023-04-13 23:09:52,716] [OpenBox-SPO] Iteration 128, objective value: [47.20159833168422].\n"
     ]
    },
    {
     "name": "stderr",
     "output_type": "stream",
     "text": [
      "\r",
      " 13%|█████████▍                                                                | 128/1000 [1:30:05<10:45:05, 44.39s/it]"
     ]
    },
    {
     "name": "stdout",
     "output_type": "stream",
     "text": [
      "\t ----- reward: -47.20159833168422 for f_star and f_minus: 36.08563831035959 , 47.20159833168422\n",
      "\t ---------- State is:  (3, 9)\n",
      "[INFO] [2023-04-13 23:09:52,716] [Advisor] Sample random config. rand_prob=0.100000.\n",
      "[INFO] [2023-04-13 23:10:28,658] [OpenBox-SPO] Iteration 129, objective value: [51.56980838050512].\n"
     ]
    },
    {
     "name": "stderr",
     "output_type": "stream",
     "text": [
      "\r",
      " 13%|█████████▌                                                                | 129/1000 [1:30:41<10:07:34, 41.85s/it]"
     ]
    },
    {
     "name": "stdout",
     "output_type": "stream",
     "text": [
      "\t ----- reward: -51.56980838050512 for f_star and f_minus: 36.08563831035959 , 51.56980838050512\n",
      "\t ---------- State is:  (2, 9)\n",
      "[INFO] [2023-04-13 23:11:10,941] [OpenBox-SPO] Iteration 130, objective value: [39.361481231801186].\n"
     ]
    },
    {
     "name": "stderr",
     "output_type": "stream",
     "text": [
      "\r",
      " 13%|█████████▌                                                                | 130/1000 [1:31:23<10:08:44, 41.98s/it]"
     ]
    },
    {
     "name": "stdout",
     "output_type": "stream",
     "text": [
      "\t ----- reward: -39.361481231801186 for f_star and f_minus: 36.08563831035959 , 39.361481231801186\n",
      "\t ---------- State is:  (1, 9)\n",
      "[INFO] [2023-04-13 23:11:50,819] [OpenBox-SPO] Iteration 131, objective value: [44.65931683030866].\n"
     ]
    },
    {
     "name": "stderr",
     "output_type": "stream",
     "text": [
      "\r",
      " 13%|█████████▊                                                                 | 131/1000 [1:32:03<9:58:53, 41.35s/it]"
     ]
    },
    {
     "name": "stdout",
     "output_type": "stream",
     "text": [
      "\t ----- reward: -44.65931683030866 for f_star and f_minus: 36.08563831035959 , 44.65931683030866\n",
      "\t ---------- State is:  (2, 9)\n",
      "[INFO] [2023-04-13 23:12:42,145] [OpenBox-SPO] Iteration 132, objective value: [36.297799816161046].\n"
     ]
    },
    {
     "name": "stderr",
     "output_type": "stream",
     "text": [
      "\r",
      " 13%|█████████▊                                                                | 132/1000 [1:32:54<10:41:30, 44.34s/it]"
     ]
    },
    {
     "name": "stdout",
     "output_type": "stream",
     "text": [
      "\t ----- reward: -36.297799816161046 for f_star and f_minus: 36.08563831035959 , 36.297799816161046\n",
      "\t ---------- State is:  (3, 9)\n",
      "[INFO] [2023-04-13 23:13:34,425] [OpenBox-SPO] Iteration 133, objective value: [34.501278639797334].\n"
     ]
    },
    {
     "name": "stderr",
     "output_type": "stream",
     "text": [
      "\r",
      " 13%|█████████▊                                                                | 133/1000 [1:33:47<11:15:10, 46.72s/it]"
     ]
    },
    {
     "name": "stdout",
     "output_type": "stream",
     "text": [
      "\t ----- reward: -34.501278639797334 for f_star and f_minus: 36.08563831035959 , 34.501278639797334\n",
      "\t ---------- State is:  (2, 8)\n",
      "[INFO] [2023-04-13 23:14:23,916] [OpenBox-SPO] Iteration 134, objective value: [37.68893789117581].\n"
     ]
    },
    {
     "name": "stderr",
     "output_type": "stream",
     "text": [
      "\r",
      " 13%|█████████▉                                                                | 134/1000 [1:34:36<11:26:22, 47.55s/it]"
     ]
    },
    {
     "name": "stdout",
     "output_type": "stream",
     "text": [
      "\t ----- reward: -37.68893789117581 for f_star and f_minus: 34.501278639797334 , 37.68893789117581\n",
      "\t ---------- State is:  (1, 10)\n",
      "[INFO] [2023-04-13 23:15:09,357] [OpenBox-SPO] Iteration 135, objective value: [36.787398244043445].\n"
     ]
    },
    {
     "name": "stderr",
     "output_type": "stream",
     "text": [
      "\r",
      " 14%|█████████▉                                                                | 135/1000 [1:35:22<11:16:26, 46.92s/it]"
     ]
    },
    {
     "name": "stdout",
     "output_type": "stream",
     "text": [
      "\t ----- reward: -36.787398244043445 for f_star and f_minus: 34.501278639797334 , 36.787398244043445\n",
      "\t ---------- State is:  (2, 9)\n",
      "[INFO] [2023-04-13 23:15:56,877] [OpenBox-SPO] Iteration 136, objective value: [42.74775799549467].\n"
     ]
    },
    {
     "name": "stderr",
     "output_type": "stream",
     "text": [
      "\r",
      " 14%|██████████                                                                | 136/1000 [1:36:09<11:18:14, 47.10s/it]"
     ]
    },
    {
     "name": "stdout",
     "output_type": "stream",
     "text": [
      "\t ----- reward: -42.74775799549467 for f_star and f_minus: 34.501278639797334 , 42.74775799549467\n",
      "\t ---------- State is:  (3, 9)\n",
      "[INFO] [2023-04-13 23:16:43,480] [OpenBox-SPO] Iteration 137, objective value: [49.40321767038666].\n"
     ]
    },
    {
     "name": "stderr",
     "output_type": "stream",
     "text": [
      "\r",
      " 14%|██████████▏                                                               | 137/1000 [1:36:56<11:15:18, 46.95s/it]"
     ]
    },
    {
     "name": "stdout",
     "output_type": "stream",
     "text": [
      "\t ----- reward: -49.40321767038666 for f_star and f_minus: 34.501278639797334 , 49.40321767038666\n",
      "\t ---------- State is:  (4, 9)\n",
      "[INFO] [2023-04-13 23:17:32,210] [OpenBox-SPO] Iteration 138, objective value: [37.11756129056511].\n"
     ]
    },
    {
     "name": "stderr",
     "output_type": "stream",
     "text": [
      "\r",
      " 14%|██████████▏                                                               | 138/1000 [1:37:45<11:22:11, 47.48s/it]"
     ]
    },
    {
     "name": "stdout",
     "output_type": "stream",
     "text": [
      "\t ----- reward: -37.11756129056511 for f_star and f_minus: 34.501278639797334 , 37.11756129056511\n",
      "\t ---------- State is:  (5, 9)\n",
      "[INFO] [2023-04-13 23:18:20,082] [OpenBox-SPO] Iteration 139, objective value: [41.85291981882937].\n"
     ]
    },
    {
     "name": "stderr",
     "output_type": "stream",
     "text": [
      "\r",
      " 14%|██████████▎                                                               | 139/1000 [1:38:32<11:23:04, 47.60s/it]"
     ]
    },
    {
     "name": "stdout",
     "output_type": "stream",
     "text": [
      "\t ----- reward: -41.85291981882937 for f_star and f_minus: 34.501278639797334 , 41.85291981882937\n",
      "\t ---------- State is:  (4, 8)\n",
      "[INFO] [2023-04-13 23:19:04,415] [OpenBox-SPO] Iteration 140, objective value: [38.74009459003916].\n"
     ]
    },
    {
     "name": "stderr",
     "output_type": "stream",
     "text": [
      "\r",
      " 14%|██████████▎                                                               | 140/1000 [1:39:17<11:08:13, 46.62s/it]"
     ]
    },
    {
     "name": "stdout",
     "output_type": "stream",
     "text": [
      "\t ----- reward: -38.74009459003916 for f_star and f_minus: 34.501278639797334 , 38.74009459003916\n",
      "\t ---------- State is:  (5, 8)\n",
      "[INFO] [2023-04-13 23:19:55,019] [OpenBox-SPO] Iteration 141, objective value: [36.51643106863859].\n"
     ]
    },
    {
     "name": "stderr",
     "output_type": "stream",
     "text": [
      "\r",
      " 14%|██████████▍                                                               | 141/1000 [1:40:07<11:24:33, 47.82s/it]"
     ]
    },
    {
     "name": "stdout",
     "output_type": "stream",
     "text": [
      "\t ----- reward: -36.51643106863859 for f_star and f_minus: 34.501278639797334 , 36.51643106863859\n",
      "\t ---------- State is:  (5, 8)\n",
      "[INFO] [2023-04-13 23:20:41,109] [OpenBox-SPO] Iteration 142, objective value: [37.27375118546915].\n"
     ]
    },
    {
     "name": "stderr",
     "output_type": "stream",
     "text": [
      "\r",
      " 14%|██████████▌                                                               | 142/1000 [1:40:53<11:16:21, 47.30s/it]"
     ]
    },
    {
     "name": "stdout",
     "output_type": "stream",
     "text": [
      "\t ----- reward: -37.27375118546915 for f_star and f_minus: 34.501278639797334 , 37.27375118546915\n",
      "\t ---------- State is:  (4, 8)\n",
      "[INFO] [2023-04-13 23:21:24,830] [OpenBox-SPO] Iteration 143, objective value: [48.02163868486209].\n"
     ]
    },
    {
     "name": "stderr",
     "output_type": "stream",
     "text": [
      "\r",
      " 14%|██████████▌                                                               | 143/1000 [1:41:37<11:00:14, 46.22s/it]"
     ]
    },
    {
     "name": "stdout",
     "output_type": "stream",
     "text": [
      "\t ----- reward: -48.02163868486209 for f_star and f_minus: 34.501278639797334 , 48.02163868486209\n",
      "\t ---------- State is:  (3, 8)\n",
      "[INFO] [2023-04-13 23:22:09,857] [OpenBox-SPO] Iteration 144, objective value: [39.96428681649056].\n"
     ]
    },
    {
     "name": "stderr",
     "output_type": "stream",
     "text": [
      "\r",
      " 14%|██████████▋                                                               | 144/1000 [1:42:22<10:54:20, 45.87s/it]"
     ]
    },
    {
     "name": "stdout",
     "output_type": "stream",
     "text": [
      "\t ----- reward: -39.96428681649056 for f_star and f_minus: 34.501278639797334 , 39.96428681649056\n",
      "\t ---------- State is:  (2, 8)\n",
      "[INFO] [2023-04-13 23:22:55,774] [OpenBox-SPO] Iteration 145, objective value: [51.729559871567645].\n"
     ]
    },
    {
     "name": "stderr",
     "output_type": "stream",
     "text": [
      "\r",
      " 14%|██████████▋                                                               | 145/1000 [1:43:08<10:53:52, 45.89s/it]"
     ]
    },
    {
     "name": "stdout",
     "output_type": "stream",
     "text": [
      "\t ----- reward: -51.729559871567645 for f_star and f_minus: 34.501278639797334 , 51.729559871567645\n",
      "\t ---------- State is:  (1, 8)\n",
      "[INFO] [2023-04-13 23:23:40,060] [OpenBox-SPO] Iteration 146, objective value: [38.02439953516604].\n"
     ]
    },
    {
     "name": "stderr",
     "output_type": "stream",
     "text": [
      "\r",
      " 15%|██████████▊                                                               | 146/1000 [1:43:52<10:46:12, 45.40s/it]"
     ]
    },
    {
     "name": "stdout",
     "output_type": "stream",
     "text": [
      "\t ----- reward: -38.02439953516604 for f_star and f_minus: 34.501278639797334 , 38.02439953516604\n",
      "\t ---------- State is:  (2, 8)\n",
      "[INFO] [2023-04-13 23:24:27,508] [OpenBox-SPO] Iteration 147, objective value: [35.90242578470408].\n"
     ]
    },
    {
     "name": "stderr",
     "output_type": "stream",
     "text": [
      "\r",
      " 15%|██████████▉                                                               | 147/1000 [1:44:40<10:54:11, 46.02s/it]"
     ]
    },
    {
     "name": "stdout",
     "output_type": "stream",
     "text": [
      "\t ----- reward: -35.90242578470408 for f_star and f_minus: 34.501278639797334 , 35.90242578470408\n",
      "\t ---------- State is:  (3, 8)\n",
      "[INFO] [2023-04-13 23:25:16,998] [OpenBox-SPO] Iteration 148, objective value: [45.129461225445255].\n"
     ]
    },
    {
     "name": "stderr",
     "output_type": "stream",
     "text": [
      "\r",
      " 15%|██████████▉                                                               | 148/1000 [1:45:29<11:08:13, 47.06s/it]"
     ]
    },
    {
     "name": "stdout",
     "output_type": "stream",
     "text": [
      "\t ----- reward: -45.129461225445255 for f_star and f_minus: 34.501278639797334 , 45.129461225445255\n",
      "\t ---------- State is:  (4, 8)\n",
      "[INFO] [2023-04-13 23:26:02,727] [OpenBox-SPO] Iteration 149, objective value: [53.32525238299194].\n"
     ]
    },
    {
     "name": "stderr",
     "output_type": "stream",
     "text": [
      "\r",
      " 15%|███████████                                                               | 149/1000 [1:46:15<11:01:46, 46.66s/it]"
     ]
    },
    {
     "name": "stdout",
     "output_type": "stream",
     "text": [
      "\t ----- reward: -53.32525238299194 for f_star and f_minus: 34.501278639797334 , 53.32525238299194\n",
      "\t ---------- State is:  (3, 8)\n",
      "[INFO] [2023-04-13 23:26:54,132] [OpenBox-SPO] Iteration 150, objective value: [50.36323190406267].\n"
     ]
    },
    {
     "name": "stderr",
     "output_type": "stream",
     "text": [
      "\r",
      " 15%|███████████                                                               | 150/1000 [1:47:06<11:21:10, 48.08s/it]"
     ]
    },
    {
     "name": "stdout",
     "output_type": "stream",
     "text": [
      "\t ----- reward: -50.36323190406267 for f_star and f_minus: 34.501278639797334 , 50.36323190406267\n",
      "\t ---------- State is:  (2, 8)\n",
      "[INFO] [2023-04-13 23:27:44,465] [OpenBox-SPO] Iteration 151, objective value: [43.674217938984086].\n"
     ]
    },
    {
     "name": "stderr",
     "output_type": "stream",
     "text": [
      "\r",
      " 15%|███████████▏                                                              | 151/1000 [1:47:57<11:29:55, 48.76s/it]"
     ]
    },
    {
     "name": "stdout",
     "output_type": "stream",
     "text": [
      "\t ----- reward: -43.674217938984086 for f_star and f_minus: 34.501278639797334 , 43.674217938984086\n",
      "\t ---------- State is:  (3, 8)\n",
      "[INFO] [2023-04-13 23:28:30,727] [OpenBox-SPO] Iteration 152, objective value: [35.116377101026586].\n"
     ]
    },
    {
     "name": "stderr",
     "output_type": "stream",
     "text": [
      "\r",
      " 15%|███████████▏                                                              | 152/1000 [1:48:43<11:18:31, 48.01s/it]"
     ]
    },
    {
     "name": "stdout",
     "output_type": "stream",
     "text": [
      "\t ----- reward: -35.116377101026586 for f_star and f_minus: 34.501278639797334 , 35.116377101026586\n",
      "\t ---------- State is:  (2, 7)\n",
      "[INFO] [2023-04-13 23:29:15,032] [OpenBox-SPO] Iteration 153, objective value: [40.811801191286555].\n"
     ]
    },
    {
     "name": "stderr",
     "output_type": "stream",
     "text": [
      "\r",
      " 15%|███████████▎                                                              | 153/1000 [1:49:27<11:02:02, 46.90s/it]"
     ]
    },
    {
     "name": "stdout",
     "output_type": "stream",
     "text": [
      "\t ----- reward: -40.811801191286555 for f_star and f_minus: 34.501278639797334 , 40.811801191286555\n",
      "\t ---------- State is:  (1, 7)\n",
      "[INFO] [2023-04-13 23:29:59,418] [OpenBox-SPO] Iteration 154, objective value: [40.05992270415008].\n"
     ]
    },
    {
     "name": "stderr",
     "output_type": "stream",
     "text": [
      "\r",
      " 15%|███████████▍                                                              | 154/1000 [1:50:12<10:50:37, 46.14s/it]"
     ]
    },
    {
     "name": "stdout",
     "output_type": "stream",
     "text": [
      "\t ----- reward: -40.05992270415008 for f_star and f_minus: 34.501278639797334 , 40.05992270415008\n",
      "\t ---------- State is:  (1, 7)\n",
      "[INFO] [2023-04-13 23:30:51,440] [OpenBox-SPO] Iteration 155, objective value: [41.39875637719006].\n"
     ]
    },
    {
     "name": "stderr",
     "output_type": "stream",
     "text": [
      "\r",
      " 16%|███████████▍                                                              | 155/1000 [1:51:04<11:14:41, 47.91s/it]"
     ]
    },
    {
     "name": "stdout",
     "output_type": "stream",
     "text": [
      "\t ----- reward: -41.39875637719006 for f_star and f_minus: 34.501278639797334 , 41.39875637719006\n",
      "\t ---------- State is:  (2, 7)\n",
      "[INFO] [2023-04-13 23:31:39,813] [OpenBox-SPO] Iteration 156, objective value: [36.001119712908526].\n"
     ]
    },
    {
     "name": "stderr",
     "output_type": "stream",
     "text": [
      "\r",
      " 16%|███████████▌                                                              | 156/1000 [1:51:52<11:15:51, 48.05s/it]"
     ]
    },
    {
     "name": "stdout",
     "output_type": "stream",
     "text": [
      "\t ----- reward: -36.001119712908526 for f_star and f_minus: 34.501278639797334 , 36.001119712908526\n",
      "\t ---------- State is:  (3, 7)\n",
      "[INFO] [2023-04-13 23:32:27,293] [OpenBox-SPO] Iteration 157, objective value: [32.717435285654204].\n"
     ]
    },
    {
     "name": "stderr",
     "output_type": "stream",
     "text": [
      "\r",
      " 16%|███████████▌                                                              | 157/1000 [1:52:40<11:12:40, 47.88s/it]"
     ]
    },
    {
     "name": "stdout",
     "output_type": "stream",
     "text": [
      "\t ----- reward: -32.717435285654204 for f_star and f_minus: 34.501278639797334 , 32.717435285654204\n",
      "\t ---------- State is:  (2, 6)\n",
      "[INFO] [2023-04-13 23:33:14,856] [OpenBox-SPO] Iteration 158, objective value: [37.07006646760029].\n"
     ]
    },
    {
     "name": "stderr",
     "output_type": "stream",
     "text": [
      "\r",
      " 16%|███████████▋                                                              | 158/1000 [1:53:27<11:10:33, 47.78s/it]"
     ]
    },
    {
     "name": "stdout",
     "output_type": "stream",
     "text": [
      "\t ----- reward: -37.07006646760029 for f_star and f_minus: 32.717435285654204 , 37.07006646760029\n",
      "\t ---------- State is:  (2, 8)\n",
      "[INFO] [2023-04-13 23:34:00,750] [OpenBox-SPO] Iteration 159, objective value: [32.79796850502834].\n"
     ]
    },
    {
     "name": "stderr",
     "output_type": "stream",
     "text": [
      "\r",
      " 16%|███████████▊                                                              | 159/1000 [1:54:13<11:01:48, 47.22s/it]"
     ]
    },
    {
     "name": "stdout",
     "output_type": "stream",
     "text": [
      "\t ----- reward: -32.79796850502834 for f_star and f_minus: 32.717435285654204 , 32.79796850502834\n",
      "\t ---------- State is:  (3, 7)\n",
      "[INFO] [2023-04-13 23:34:00,750] [Advisor] Sample random config. rand_prob=0.100000.\n",
      "[INFO] [2023-04-13 23:34:31,469] [OpenBox-SPO] Iteration 160, objective value: [57.70893394757624].\n"
     ]
    },
    {
     "name": "stderr",
     "output_type": "stream",
     "text": [
      "\r",
      " 16%|████████████                                                               | 160/1000 [1:54:44<9:51:44, 42.27s/it]"
     ]
    },
    {
     "name": "stdout",
     "output_type": "stream",
     "text": [
      "\t ----- reward: -57.70893394757624 for f_star and f_minus: 32.717435285654204 , 57.70893394757624\n",
      "\t ---------- State is:  (4, 8)\n",
      "[INFO] [2023-04-13 23:35:14,351] [OpenBox-SPO] Iteration 161, objective value: [41.209544420285106].\n"
     ]
    },
    {
     "name": "stderr",
     "output_type": "stream",
     "text": [
      "\r",
      " 16%|████████████                                                               | 161/1000 [1:55:27<9:53:36, 42.45s/it]"
     ]
    },
    {
     "name": "stdout",
     "output_type": "stream",
     "text": [
      "\t ----- reward: -41.209544420285106 for f_star and f_minus: 32.717435285654204 , 41.209544420285106\n",
      "\t ---------- State is:  (5, 8)\n",
      "[INFO] [2023-04-13 23:36:10,478] [OpenBox-SPO] Iteration 162, objective value: [45.20761466814503].\n"
     ]
    },
    {
     "name": "stderr",
     "output_type": "stream",
     "text": [
      "\r",
      " 16%|███████████▉                                                              | 162/1000 [1:56:23<10:50:12, 46.55s/it]"
     ]
    },
    {
     "name": "stdout",
     "output_type": "stream",
     "text": [
      "\t ----- reward: -45.20761466814503 for f_star and f_minus: 32.717435285654204 , 45.20761466814503\n",
      "\t ---------- State is:  (5, 8)\n",
      "[INFO] [2023-04-13 23:36:59,440] [OpenBox-SPO] Iteration 163, objective value: [42.840285415020695].\n"
     ]
    },
    {
     "name": "stderr",
     "output_type": "stream",
     "text": [
      "\r",
      " 16%|████████████                                                              | 163/1000 [1:57:12<10:59:30, 47.28s/it]"
     ]
    },
    {
     "name": "stdout",
     "output_type": "stream",
     "text": [
      "\t ----- reward: -42.840285415020695 for f_star and f_minus: 32.717435285654204 , 42.840285415020695\n",
      "\t ---------- State is:  (4, 8)\n",
      "[INFO] [2023-04-13 23:37:47,937] [OpenBox-SPO] Iteration 164, objective value: [38.37909038153047].\n"
     ]
    },
    {
     "name": "stderr",
     "output_type": "stream",
     "text": [
      "\r",
      " 16%|████████████▏                                                             | 164/1000 [1:58:00<11:03:49, 47.64s/it]"
     ]
    },
    {
     "name": "stdout",
     "output_type": "stream",
     "text": [
      "\t ----- reward: -38.37909038153047 for f_star and f_minus: 32.717435285654204 , 38.37909038153047\n",
      "\t ---------- State is:  (4, 8)\n",
      "[INFO] [2023-04-13 23:38:32,810] [OpenBox-SPO] Iteration 165, objective value: [35.27590147924407].\n"
     ]
    },
    {
     "name": "stderr",
     "output_type": "stream",
     "text": [
      "\r",
      " 16%|████████████▏                                                             | 165/1000 [1:58:45<10:51:27, 46.81s/it]"
     ]
    },
    {
     "name": "stdout",
     "output_type": "stream",
     "text": [
      "\t ----- reward: -35.27590147924407 for f_star and f_minus: 32.717435285654204 , 35.27590147924407\n",
      "\t ---------- State is:  (5, 8)\n",
      "[INFO] [2023-04-13 23:39:12,031] [OpenBox-SPO] Iteration 166, objective value: [38.08047799353951].\n"
     ]
    },
    {
     "name": "stderr",
     "output_type": "stream",
     "text": [
      "\r",
      " 17%|████████████▎                                                             | 166/1000 [1:59:24<10:19:01, 44.53s/it]"
     ]
    },
    {
     "name": "stdout",
     "output_type": "stream",
     "text": [
      "\t ----- reward: -38.08047799353951 for f_star and f_minus: 32.717435285654204 , 38.08047799353951\n",
      "\t ---------- State is:  (5, 8)\n",
      "[INFO] [2023-04-13 23:39:56,396] [OpenBox-SPO] Iteration 167, objective value: [33.282963015263306].\n"
     ]
    },
    {
     "name": "stderr",
     "output_type": "stream",
     "text": [
      "\r",
      " 17%|████████████▎                                                             | 167/1000 [2:00:09<10:17:34, 44.48s/it]"
     ]
    },
    {
     "name": "stdout",
     "output_type": "stream",
     "text": [
      "\t ----- reward: -33.282963015263306 for f_star and f_minus: 32.717435285654204 , 33.282963015263306\n",
      "\t ---------- State is:  (6, 8)\n",
      "[INFO] [2023-04-13 23:40:43,945] [OpenBox-SPO] Iteration 168, objective value: [34.9268543431735].\n"
     ]
    },
    {
     "name": "stderr",
     "output_type": "stream",
     "text": [
      "\r",
      " 17%|████████████▍                                                             | 168/1000 [2:00:56<10:29:35, 45.40s/it]"
     ]
    },
    {
     "name": "stdout",
     "output_type": "stream",
     "text": [
      "\t ----- reward: -34.9268543431735 for f_star and f_minus: 32.717435285654204 , 34.9268543431735\n",
      "\t ---------- State is:  (6, 8)\n",
      "[INFO] [2023-04-13 23:40:43,945] [Advisor] Sample random config. rand_prob=0.100000.\n",
      "[INFO] [2023-04-13 23:41:12,971] [OpenBox-SPO] Iteration 169, objective value: [62.94711717954533].\n"
     ]
    },
    {
     "name": "stderr",
     "output_type": "stream",
     "text": [
      "\r",
      " 17%|████████████▋                                                              | 169/1000 [2:01:25<9:20:47, 40.49s/it]"
     ]
    },
    {
     "name": "stdout",
     "output_type": "stream",
     "text": [
      "\t ----- reward: -62.94711717954533 for f_star and f_minus: 32.717435285654204 , 62.94711717954533\n",
      "\t ---------- State is:  (7, 8)\n",
      "[INFO] [2023-04-13 23:41:55,836] [OpenBox-SPO] Iteration 170, objective value: [40.67675161669174].\n"
     ]
    },
    {
     "name": "stderr",
     "output_type": "stream",
     "text": [
      "\r",
      " 17%|████████████▊                                                              | 170/1000 [2:02:08<9:29:58, 41.20s/it]"
     ]
    },
    {
     "name": "stdout",
     "output_type": "stream",
     "text": [
      "\t ----- reward: -40.67675161669174 for f_star and f_minus: 32.717435285654204 , 40.67675161669174\n",
      "\t ---------- State is:  (8, 8)\n",
      "[INFO] [2023-04-13 23:42:45,241] [OpenBox-SPO] Iteration 171, objective value: [33.20783379042177].\n"
     ]
    },
    {
     "name": "stderr",
     "output_type": "stream",
     "text": [
      "\r",
      " 17%|████████████▋                                                             | 171/1000 [2:02:58<10:03:16, 43.66s/it]"
     ]
    },
    {
     "name": "stdout",
     "output_type": "stream",
     "text": [
      "\t ----- reward: -33.20783379042177 for f_star and f_minus: 32.717435285654204 , 33.20783379042177\n",
      "\t ---------- State is:  (8, 8)\n",
      "[INFO] [2023-04-13 23:43:33,685] [OpenBox-SPO] Iteration 172, objective value: [34.02265875824067].\n"
     ]
    },
    {
     "name": "stderr",
     "output_type": "stream",
     "text": [
      "\r",
      " 17%|████████████▋                                                             | 172/1000 [2:03:46<10:22:20, 45.10s/it]"
     ]
    },
    {
     "name": "stdout",
     "output_type": "stream",
     "text": [
      "\t ----- reward: -34.02265875824067 for f_star and f_minus: 32.717435285654204 , 34.02265875824067\n",
      "\t ---------- State is:  (7, 8)\n",
      "[INFO] [2023-04-13 23:44:21,126] [OpenBox-SPO] Iteration 173, objective value: [48.11925966082728].\n"
     ]
    },
    {
     "name": "stderr",
     "output_type": "stream",
     "text": [
      "\r",
      " 17%|████████████▊                                                             | 173/1000 [2:04:33<10:31:17, 45.80s/it]"
     ]
    },
    {
     "name": "stdout",
     "output_type": "stream",
     "text": [
      "\t ----- reward: -48.11925966082728 for f_star and f_minus: 32.717435285654204 , 48.11925966082728\n",
      "\t ---------- State is:  (8, 8)\n",
      "[INFO] [2023-04-13 23:45:06,159] [OpenBox-SPO] Iteration 174, objective value: [37.685753471136586].\n"
     ]
    },
    {
     "name": "stderr",
     "output_type": "stream",
     "text": [
      "\r",
      " 17%|████████████▉                                                             | 174/1000 [2:05:18<10:27:21, 45.57s/it]"
     ]
    },
    {
     "name": "stdout",
     "output_type": "stream",
     "text": [
      "\t ----- reward: -37.685753471136586 for f_star and f_minus: 32.717435285654204 , 37.685753471136586\n",
      "\t ---------- State is:  (9, 8)\n",
      "[INFO] [2023-04-13 23:45:55,524] [OpenBox-SPO] Iteration 175, objective value: [38.15182733674656].\n"
     ]
    },
    {
     "name": "stderr",
     "output_type": "stream",
     "text": [
      "\r",
      " 18%|████████████▉                                                             | 175/1000 [2:06:08<10:42:14, 46.71s/it]"
     ]
    },
    {
     "name": "stdout",
     "output_type": "stream",
     "text": [
      "\t ----- reward: -38.15182733674656 for f_star and f_minus: 32.717435285654204 , 38.15182733674656\n",
      "\t ---------- State is:  (9, 8)\n",
      "[INFO] [2023-04-13 23:46:40,105] [OpenBox-SPO] Iteration 176, objective value: [31.57844062931011].\n"
     ]
    },
    {
     "name": "stderr",
     "output_type": "stream",
     "text": [
      "\r",
      " 18%|█████████████                                                             | 176/1000 [2:06:52<10:32:42, 46.07s/it]"
     ]
    },
    {
     "name": "stdout",
     "output_type": "stream",
     "text": [
      "\t ----- reward: -31.57844062931011 for f_star and f_minus: 32.717435285654204 , 31.57844062931011\n",
      "\t ---------- State is:  (8, 7)\n",
      "[INFO] [2023-04-13 23:47:27,296] [OpenBox-SPO] Iteration 177, objective value: [32.85784929628103].\n"
     ]
    },
    {
     "name": "stderr",
     "output_type": "stream",
     "text": [
      "\r",
      " 18%|█████████████                                                             | 177/1000 [2:07:40<10:36:32, 46.41s/it]"
     ]
    },
    {
     "name": "stdout",
     "output_type": "stream",
     "text": [
      "\t ----- reward: -32.85784929628103 for f_star and f_minus: 31.57844062931011 , 32.85784929628103\n",
      "\t ---------- State is:  (8, 8)\n",
      "[INFO] [2023-04-13 23:48:12,353] [OpenBox-SPO] Iteration 178, objective value: [32.88982389102706].\n"
     ]
    },
    {
     "name": "stderr",
     "output_type": "stream",
     "text": [
      "\r",
      " 18%|█████████████▏                                                            | 178/1000 [2:08:25<10:30:13, 46.00s/it]"
     ]
    },
    {
     "name": "stdout",
     "output_type": "stream",
     "text": [
      "\t ----- reward: -32.88982389102706 for f_star and f_minus: 31.57844062931011 , 32.88982389102706\n",
      "\t ---------- State is:  (8, 8)\n",
      "[INFO] [2023-04-13 23:49:02,209] [OpenBox-SPO] Iteration 179, objective value: [37.96494964394288].\n"
     ]
    },
    {
     "name": "stderr",
     "output_type": "stream",
     "text": [
      "\r",
      " 18%|█████████████▏                                                            | 179/1000 [2:09:15<10:45:16, 47.16s/it]"
     ]
    },
    {
     "name": "stdout",
     "output_type": "stream",
     "text": [
      "\t ----- reward: -37.96494964394288 for f_star and f_minus: 31.57844062931011 , 37.96494964394288\n",
      "\t ---------- State is:  (7, 7)\n",
      "[INFO] [2023-04-13 23:49:45,068] [OpenBox-SPO] Iteration 180, objective value: [39.26471208067299].\n"
     ]
    },
    {
     "name": "stderr",
     "output_type": "stream",
     "text": [
      "\r",
      " 18%|█████████████▎                                                            | 180/1000 [2:09:57<10:26:52, 45.87s/it]"
     ]
    },
    {
     "name": "stdout",
     "output_type": "stream",
     "text": [
      "\t ----- reward: -39.26471208067299 for f_star and f_minus: 31.57844062931011 , 39.26471208067299\n",
      "\t ---------- State is:  (8, 7)\n",
      "[INFO] [2023-04-13 23:50:30,810] [OpenBox-SPO] Iteration 181, objective value: [39.16774538957579].\n"
     ]
    },
    {
     "name": "stderr",
     "output_type": "stream",
     "text": [
      "\r",
      " 18%|█████████████▍                                                            | 181/1000 [2:10:43<10:25:35, 45.83s/it]"
     ]
    },
    {
     "name": "stdout",
     "output_type": "stream",
     "text": [
      "\t ----- reward: -39.16774538957579 for f_star and f_minus: 31.57844062931011 , 39.16774538957579\n",
      "\t ---------- State is:  (7, 7)\n",
      "[INFO] [2023-04-13 23:51:16,199] [OpenBox-SPO] Iteration 182, objective value: [34.55125044954353].\n"
     ]
    },
    {
     "name": "stderr",
     "output_type": "stream",
     "text": [
      "\r",
      " 18%|█████████████▍                                                            | 182/1000 [2:11:29<10:23:01, 45.70s/it]"
     ]
    },
    {
     "name": "stdout",
     "output_type": "stream",
     "text": [
      "\t ----- reward: -34.55125044954353 for f_star and f_minus: 31.57844062931011 , 34.55125044954353\n",
      "\t ---------- State is:  (7, 7)\n",
      "[INFO] [2023-04-13 23:52:09,646] [OpenBox-SPO] Iteration 183, objective value: [38.32889288617365].\n"
     ]
    },
    {
     "name": "stderr",
     "output_type": "stream",
     "text": [
      "\r",
      " 18%|█████████████▌                                                            | 183/1000 [2:12:22<10:53:54, 48.02s/it]"
     ]
    },
    {
     "name": "stdout",
     "output_type": "stream",
     "text": [
      "\t ----- reward: -38.32889288617365 for f_star and f_minus: 31.57844062931011 , 38.32889288617365\n",
      "\t ---------- State is:  (6, 7)\n",
      "[INFO] [2023-04-13 23:52:57,502] [OpenBox-SPO] Iteration 184, objective value: [45.85898612223047].\n"
     ]
    },
    {
     "name": "stderr",
     "output_type": "stream",
     "text": [
      "\r",
      " 18%|█████████████▌                                                            | 184/1000 [2:13:10<10:52:25, 47.97s/it]"
     ]
    },
    {
     "name": "stdout",
     "output_type": "stream",
     "text": [
      "\t ----- reward: -45.85898612223047 for f_star and f_minus: 31.57844062931011 , 45.85898612223047\n",
      "\t ---------- State is:  (5, 7)\n",
      "[INFO] [2023-04-13 23:53:44,831] [OpenBox-SPO] Iteration 185, objective value: [33.19994720618986].\n"
     ]
    },
    {
     "name": "stderr",
     "output_type": "stream",
     "text": [
      "\r",
      " 18%|█████████████▋                                                            | 185/1000 [2:13:57<10:49:00, 47.78s/it]"
     ]
    },
    {
     "name": "stdout",
     "output_type": "stream",
     "text": [
      "\t ----- reward: -33.19994720618986 for f_star and f_minus: 31.57844062931011 , 33.19994720618986\n",
      "\t ---------- State is:  (4, 7)\n",
      "[INFO] [2023-04-13 23:54:34,462] [OpenBox-SPO] Iteration 186, objective value: [42.34233494875663].\n"
     ]
    },
    {
     "name": "stderr",
     "output_type": "stream",
     "text": [
      "\r",
      " 19%|█████████████▊                                                            | 186/1000 [2:14:47<10:55:44, 48.34s/it]"
     ]
    },
    {
     "name": "stdout",
     "output_type": "stream",
     "text": [
      "\t ----- reward: -42.34233494875663 for f_star and f_minus: 31.57844062931011 , 42.34233494875663\n",
      "\t ---------- State is:  (4, 7)\n",
      "[INFO] [2023-04-13 23:55:14,564] [OpenBox-SPO] Iteration 187, objective value: [50.04727614931507].\n"
     ]
    },
    {
     "name": "stderr",
     "output_type": "stream",
     "text": [
      "\r",
      " 19%|█████████████▊                                                            | 187/1000 [2:15:27<10:21:28, 45.87s/it]"
     ]
    },
    {
     "name": "stdout",
     "output_type": "stream",
     "text": [
      "\t ----- reward: -50.04727614931507 for f_star and f_minus: 31.57844062931011 , 50.04727614931507\n",
      "\t ---------- State is:  (3, 8)\n",
      "[INFO] [2023-04-13 23:56:01,574] [OpenBox-SPO] Iteration 188, objective value: [48.54361785886543].\n"
     ]
    },
    {
     "name": "stderr",
     "output_type": "stream",
     "text": [
      "\r",
      " 19%|█████████████▉                                                            | 188/1000 [2:16:14<10:25:25, 46.21s/it]"
     ]
    },
    {
     "name": "stdout",
     "output_type": "stream",
     "text": [
      "\t ----- reward: -48.54361785886543 for f_star and f_minus: 31.57844062931011 , 48.54361785886543\n",
      "\t ---------- State is:  (3, 8)\n",
      "[INFO] [2023-04-13 23:56:52,418] [OpenBox-SPO] Iteration 189, objective value: [48.122012750686714].\n"
     ]
    },
    {
     "name": "stderr",
     "output_type": "stream",
     "text": [
      "\r",
      " 19%|█████████████▉                                                            | 189/1000 [2:17:05<10:43:21, 47.60s/it]"
     ]
    },
    {
     "name": "stdout",
     "output_type": "stream",
     "text": [
      "\t ----- reward: -48.122012750686714 for f_star and f_minus: 31.57844062931011 , 48.122012750686714\n",
      "\t ---------- State is:  (4, 8)\n",
      "[INFO] [2023-04-13 23:57:43,902] [OpenBox-SPO] Iteration 190, objective value: [36.3995342335102].\n"
     ]
    },
    {
     "name": "stderr",
     "output_type": "stream",
     "text": [
      "\r",
      " 19%|██████████████                                                            | 190/1000 [2:17:56<10:58:18, 48.76s/it]"
     ]
    },
    {
     "name": "stdout",
     "output_type": "stream",
     "text": [
      "\t ----- reward: -36.3995342335102 for f_star and f_minus: 31.57844062931011 , 36.3995342335102\n",
      "\t ---------- State is:  (4, 8)\n",
      "[INFO] [2023-04-13 23:58:28,100] [OpenBox-SPO] Iteration 191, objective value: [38.79978524603336].\n"
     ]
    },
    {
     "name": "stderr",
     "output_type": "stream",
     "text": [
      "\r",
      " 19%|██████████████▏                                                           | 191/1000 [2:18:40<10:39:01, 47.39s/it]"
     ]
    },
    {
     "name": "stdout",
     "output_type": "stream",
     "text": [
      "\t ----- reward: -38.79978524603336 for f_star and f_minus: 31.57844062931011 , 38.79978524603336\n",
      "\t ---------- State is:  (3, 8)\n",
      "[INFO] [2023-04-13 23:59:20,003] [OpenBox-SPO] Iteration 192, objective value: [46.70749293731185].\n"
     ]
    },
    {
     "name": "stderr",
     "output_type": "stream",
     "text": [
      "\r",
      " 19%|██████████████▏                                                           | 192/1000 [2:19:32<10:56:27, 48.75s/it]"
     ]
    },
    {
     "name": "stdout",
     "output_type": "stream",
     "text": [
      "\t ----- reward: -46.70749293731185 for f_star and f_minus: 31.57844062931011 , 46.70749293731185\n",
      "\t ---------- State is:  (2, 8)\n",
      "[INFO] [2023-04-14 00:00:09,249] [OpenBox-SPO] Iteration 193, objective value: [29.79565829848326].\n"
     ]
    },
    {
     "name": "stderr",
     "output_type": "stream",
     "text": [
      "\r",
      " 19%|██████████████▎                                                           | 193/1000 [2:20:22<10:57:39, 48.90s/it]"
     ]
    },
    {
     "name": "stdout",
     "output_type": "stream",
     "text": [
      "\t ----- reward: -29.79565829848326 for f_star and f_minus: 31.57844062931011 , 29.79565829848326\n",
      "\t ---------- State is:  (1, 7)\n",
      "[INFO] [2023-04-14 00:01:00,395] [OpenBox-SPO] Iteration 194, objective value: [31.62295011118637].\n"
     ]
    },
    {
     "name": "stderr",
     "output_type": "stream",
     "text": [
      "\r",
      " 19%|██████████████▎                                                           | 194/1000 [2:21:13<11:05:54, 49.57s/it]"
     ]
    },
    {
     "name": "stdout",
     "output_type": "stream",
     "text": [
      "\t ----- reward: -31.62295011118637 for f_star and f_minus: 29.79565829848326 , 31.62295011118637\n",
      "\t ---------- State is:  (0, 9)\n",
      "[INFO] [2023-04-14 00:01:50,232] [OpenBox-SPO] Iteration 195, objective value: [47.207222562310534].\n"
     ]
    },
    {
     "name": "stderr",
     "output_type": "stream",
     "text": [
      "\r",
      " 20%|██████████████▍                                                           | 195/1000 [2:22:03<11:06:09, 49.65s/it]"
     ]
    },
    {
     "name": "stdout",
     "output_type": "stream",
     "text": [
      "\t ----- reward: -47.207222562310534 for f_star and f_minus: 29.79565829848326 , 47.207222562310534\n",
      "\t ---------- State is:  (1, 9)\n",
      "[INFO] [2023-04-14 00:02:37,962] [OpenBox-SPO] Iteration 196, objective value: [35.223375342038935].\n"
     ]
    },
    {
     "name": "stderr",
     "output_type": "stream",
     "text": [
      "\r",
      " 20%|██████████████▌                                                           | 196/1000 [2:22:50<10:57:36, 49.07s/it]"
     ]
    },
    {
     "name": "stdout",
     "output_type": "stream",
     "text": [
      "\t ----- reward: -35.223375342038935 for f_star and f_minus: 29.79565829848326 , 35.223375342038935\n",
      "\t ---------- State is:  (2, 9)\n",
      "[INFO] [2023-04-14 00:03:26,510] [OpenBox-SPO] Iteration 197, objective value: [30.62989131836666].\n"
     ]
    },
    {
     "name": "stderr",
     "output_type": "stream",
     "text": [
      "\r",
      " 20%|██████████████▌                                                           | 197/1000 [2:23:39<10:54:40, 48.92s/it]"
     ]
    },
    {
     "name": "stdout",
     "output_type": "stream",
     "text": [
      "\t ----- reward: -30.62989131836666 for f_star and f_minus: 29.79565829848326 , 30.62989131836666\n",
      "\t ---------- State is:  (2, 9)\n",
      "[INFO] [2023-04-14 00:04:09,284] [OpenBox-SPO] Iteration 198, objective value: [37.489798053320264].\n"
     ]
    },
    {
     "name": "stderr",
     "output_type": "stream",
     "text": [
      "\r",
      " 20%|██████████████▋                                                           | 198/1000 [2:24:22<10:29:13, 47.07s/it]"
     ]
    },
    {
     "name": "stdout",
     "output_type": "stream",
     "text": [
      "\t ----- reward: -37.489798053320264 for f_star and f_minus: 29.79565829848326 , 37.489798053320264\n",
      "\t ---------- State is:  (2, 9)\n",
      "[INFO] [2023-04-14 00:04:53,760] [OpenBox-SPO] Iteration 199, objective value: [40.6156985277186].\n"
     ]
    },
    {
     "name": "stderr",
     "output_type": "stream",
     "text": [
      "\r",
      " 20%|██████████████▋                                                           | 199/1000 [2:25:06<10:18:01, 46.29s/it]"
     ]
    },
    {
     "name": "stdout",
     "output_type": "stream",
     "text": [
      "\t ----- reward: -40.6156985277186 for f_star and f_minus: 29.79565829848326 , 40.6156985277186\n",
      "\t ---------- State is:  (1, 8)\n",
      "[INFO] [2023-04-14 00:05:42,257] [OpenBox-SPO] Iteration 200, objective value: [30.530298954986762].\n"
     ]
    },
    {
     "name": "stderr",
     "output_type": "stream",
     "text": [
      "\r",
      " 20%|██████████████▊                                                           | 200/1000 [2:25:55<10:26:04, 46.96s/it]"
     ]
    },
    {
     "name": "stdout",
     "output_type": "stream",
     "text": [
      "\t ----- reward: -30.530298954986762 for f_star and f_minus: 29.79565829848326 , 30.530298954986762\n",
      "\t ---------- State is:  (1, 8)\n",
      "[INFO] [2023-04-14 00:06:35,232] [OpenBox-SPO] Iteration 201, objective value: [42.120695002822536].\n"
     ]
    },
    {
     "name": "stderr",
     "output_type": "stream",
     "text": [
      "\r",
      " 20%|██████████████▊                                                           | 201/1000 [2:26:48<10:49:21, 48.76s/it]"
     ]
    },
    {
     "name": "stdout",
     "output_type": "stream",
     "text": [
      "\t ----- reward: -42.120695002822536 for f_star and f_minus: 29.79565829848326 , 42.120695002822536\n",
      "\t ---------- State is:  (1, 8)\n",
      "[INFO] [2023-04-14 00:07:16,953] [OpenBox-SPO] Iteration 202, objective value: [40.68777935028749].\n"
     ]
    },
    {
     "name": "stderr",
     "output_type": "stream",
     "text": [
      "\r",
      " 20%|██████████████▉                                                           | 202/1000 [2:27:29<10:20:25, 46.65s/it]"
     ]
    },
    {
     "name": "stdout",
     "output_type": "stream",
     "text": [
      "\t ----- reward: -40.68777935028749 for f_star and f_minus: 29.79565829848326 , 40.68777935028749\n",
      "\t ---------- State is:  (0, 9)\n",
      "[INFO] [2023-04-14 00:07:16,953] [Advisor] Sample random config. rand_prob=0.100000.\n",
      "[INFO] [2023-04-14 00:07:48,919] [OpenBox-SPO] Iteration 203, objective value: [55.339199655850216].\n"
     ]
    },
    {
     "name": "stderr",
     "output_type": "stream",
     "text": [
      "\r",
      " 20%|███████████████▏                                                           | 203/1000 [2:28:01<9:21:08, 42.24s/it]"
     ]
    },
    {
     "name": "stdout",
     "output_type": "stream",
     "text": [
      "\t ----- reward: -55.339199655850216 for f_star and f_minus: 29.79565829848326 , 55.339199655850216\n",
      "\t ---------- State is:  (1, 9)\n",
      "[INFO] [2023-04-14 00:08:35,804] [OpenBox-SPO] Iteration 204, objective value: [35.75086276139291].\n"
     ]
    },
    {
     "name": "stderr",
     "output_type": "stream",
     "text": [
      "\r",
      " 20%|███████████████▎                                                           | 204/1000 [2:28:48<9:38:54, 43.64s/it]"
     ]
    },
    {
     "name": "stdout",
     "output_type": "stream",
     "text": [
      "\t ----- reward: -35.75086276139291 for f_star and f_minus: 29.79565829848326 , 35.75086276139291\n",
      "\t ---------- State is:  (0, 9)\n",
      "[INFO] [2023-04-14 00:09:20,150] [OpenBox-SPO] Iteration 205, objective value: [38.42188613414543].\n"
     ]
    },
    {
     "name": "stderr",
     "output_type": "stream",
     "text": [
      "\r",
      " 20%|███████████████▎                                                           | 205/1000 [2:29:32<9:40:59, 43.85s/it]"
     ]
    },
    {
     "name": "stdout",
     "output_type": "stream",
     "text": [
      "\t ----- reward: -38.42188613414543 for f_star and f_minus: 29.79565829848326 , 38.42188613414543\n",
      "\t ---------- State is:  (0, 9)\n",
      "[INFO] [2023-04-14 00:10:09,608] [OpenBox-SPO] Iteration 206, objective value: [39.96944696590582].\n"
     ]
    },
    {
     "name": "stderr",
     "output_type": "stream",
     "text": [
      "\r",
      " 21%|███████████████▏                                                          | 206/1000 [2:30:22<10:02:32, 45.53s/it]"
     ]
    },
    {
     "name": "stdout",
     "output_type": "stream",
     "text": [
      "\t ----- reward: -39.96944696590582 for f_star and f_minus: 29.79565829848326 , 39.96944696590582\n",
      "\t ---------- State is:  (0, 9)\n",
      "[INFO] [2023-04-14 00:11:01,752] [OpenBox-SPO] Iteration 207, objective value: [54.94043566674261].\n"
     ]
    },
    {
     "name": "stderr",
     "output_type": "stream",
     "text": [
      "\r",
      " 21%|███████████████▎                                                          | 207/1000 [2:31:14<10:27:59, 47.52s/it]"
     ]
    },
    {
     "name": "stdout",
     "output_type": "stream",
     "text": [
      "\t ----- reward: -54.94043566674261 for f_star and f_minus: 29.79565829848326 , 54.94043566674261\n",
      "\t ---------- State is:  (0, 10)\n",
      "[INFO] [2023-04-14 00:11:42,631] [OpenBox-SPO] Iteration 208, objective value: [42.70269139682418].\n"
     ]
    },
    {
     "name": "stderr",
     "output_type": "stream",
     "text": [
      "\r",
      " 21%|███████████████▍                                                          | 208/1000 [2:31:55<10:00:55, 45.52s/it]"
     ]
    },
    {
     "name": "stdout",
     "output_type": "stream",
     "text": [
      "\t ----- reward: -42.70269139682418 for f_star and f_minus: 29.79565829848326 , 42.70269139682418\n",
      "\t ---------- State is:  (0, 10)\n",
      "[INFO] [2023-04-14 00:12:26,535] [OpenBox-SPO] Iteration 209, objective value: [34.052669512882105].\n"
     ]
    },
    {
     "name": "stderr",
     "output_type": "stream",
     "text": [
      "\r",
      " 21%|███████████████▋                                                           | 209/1000 [2:32:39<9:53:45, 45.04s/it]"
     ]
    },
    {
     "name": "stdout",
     "output_type": "stream",
     "text": [
      "\t ----- reward: -34.052669512882105 for f_star and f_minus: 29.79565829848326 , 34.052669512882105\n",
      "\t ---------- State is:  (0, 10)\n",
      "[INFO] [2023-04-14 00:13:17,116] [OpenBox-SPO] Iteration 210, objective value: [30.74107149524484].\n"
     ]
    },
    {
     "name": "stderr",
     "output_type": "stream",
     "text": [
      "\r",
      " 21%|███████████████▌                                                          | 210/1000 [2:33:29<10:14:53, 46.70s/it]"
     ]
    },
    {
     "name": "stdout",
     "output_type": "stream",
     "text": [
      "\t ----- reward: -30.74107149524484 for f_star and f_minus: 29.79565829848326 , 30.74107149524484\n",
      "\t ---------- State is:  (0, 10)\n",
      "[INFO] [2023-04-14 00:14:00,183] [OpenBox-SPO] Iteration 211, objective value: [30.10805924317846].\n"
     ]
    },
    {
     "name": "stderr",
     "output_type": "stream",
     "text": [
      "\r",
      " 21%|███████████████▊                                                           | 211/1000 [2:34:13<9:59:47, 45.61s/it]"
     ]
    },
    {
     "name": "stdout",
     "output_type": "stream",
     "text": [
      "\t ----- reward: -30.10805924317846 for f_star and f_minus: 29.79565829848326 , 30.10805924317846\n",
      "\t ---------- State is:  (0, 9)\n",
      "[INFO] [2023-04-14 00:14:52,976] [OpenBox-SPO] Iteration 212, objective value: [36.043970513542455].\n"
     ]
    },
    {
     "name": "stderr",
     "output_type": "stream",
     "text": [
      "\r",
      " 21%|███████████████▋                                                          | 212/1000 [2:35:05<10:27:19, 47.77s/it]"
     ]
    },
    {
     "name": "stdout",
     "output_type": "stream",
     "text": [
      "\t ----- reward: -36.043970513542455 for f_star and f_minus: 29.79565829848326 , 36.043970513542455\n",
      "\t ---------- State is:  (1, 9)\n",
      "[INFO] [2023-04-14 00:15:36,382] [OpenBox-SPO] Iteration 213, objective value: [34.31559518752553].\n"
     ]
    },
    {
     "name": "stderr",
     "output_type": "stream",
     "text": [
      "\r",
      " 21%|███████████████▊                                                          | 213/1000 [2:35:49<10:09:22, 46.46s/it]"
     ]
    },
    {
     "name": "stdout",
     "output_type": "stream",
     "text": [
      "\t ----- reward: -34.31559518752553 for f_star and f_minus: 29.79565829848326 , 34.31559518752553\n",
      "\t ---------- State is:  (1, 9)\n",
      "[INFO] [2023-04-14 00:16:26,809] [OpenBox-SPO] Iteration 214, objective value: [36.6296136406188].\n"
     ]
    },
    {
     "name": "stderr",
     "output_type": "stream",
     "text": [
      "\r",
      " 21%|███████████████▊                                                          | 214/1000 [2:36:39<10:24:11, 47.65s/it]"
     ]
    },
    {
     "name": "stdout",
     "output_type": "stream",
     "text": [
      "\t ----- reward: -36.6296136406188 for f_star and f_minus: 29.79565829848326 , 36.6296136406188\n",
      "\t ---------- State is:  (0, 9)\n",
      "[INFO] [2023-04-14 00:16:26,809] [Advisor] Sample random config. rand_prob=0.100000.\n",
      "[INFO] [2023-04-14 00:17:04,254] [OpenBox-SPO] Iteration 215, objective value: [50.799351586357574].\n"
     ]
    },
    {
     "name": "stderr",
     "output_type": "stream",
     "text": [
      "\r",
      " 22%|████████████████▏                                                          | 215/1000 [2:37:17<9:43:24, 44.59s/it]"
     ]
    },
    {
     "name": "stdout",
     "output_type": "stream",
     "text": [
      "\t ----- reward: -50.799351586357574 for f_star and f_minus: 29.79565829848326 , 50.799351586357574\n",
      "\t ---------- State is:  (0, 10)\n",
      "[INFO] [2023-04-14 00:17:04,270] [Advisor] Sample random config. rand_prob=0.100000.\n",
      "[INFO] [2023-04-14 00:17:45,963] [OpenBox-SPO] Iteration 216, objective value: [44.38706844818825].\n"
     ]
    },
    {
     "name": "stderr",
     "output_type": "stream",
     "text": [
      "\r",
      " 22%|████████████████▏                                                          | 216/1000 [2:37:58<9:31:18, 43.72s/it]"
     ]
    },
    {
     "name": "stdout",
     "output_type": "stream",
     "text": [
      "\t ----- reward: -44.38706844818825 for f_star and f_minus: 29.79565829848326 , 44.38706844818825\n",
      "\t ---------- State is:  (0, 10)\n",
      "[INFO] [2023-04-14 00:18:35,243] [OpenBox-SPO] Iteration 217, objective value: [41.41566473945858].\n"
     ]
    },
    {
     "name": "stderr",
     "output_type": "stream",
     "text": [
      "\r",
      " 22%|████████████████▎                                                          | 217/1000 [2:38:48<9:52:20, 45.39s/it]"
     ]
    },
    {
     "name": "stdout",
     "output_type": "stream",
     "text": [
      "\t ----- reward: -41.41566473945858 for f_star and f_minus: 29.79565829848326 , 41.41566473945858\n",
      "\t ---------- State is:  (1, 9)\n",
      "[INFO] [2023-04-14 00:19:23,934] [OpenBox-SPO] Iteration 218, objective value: [31.756179041093105].\n"
     ]
    },
    {
     "name": "stderr",
     "output_type": "stream",
     "text": [
      "\r",
      " 22%|████████████████▏                                                         | 218/1000 [2:39:36<10:04:29, 46.38s/it]"
     ]
    },
    {
     "name": "stdout",
     "output_type": "stream",
     "text": [
      "\t ----- reward: -31.756179041093105 for f_star and f_minus: 29.79565829848326 , 31.756179041093105\n",
      "\t ---------- State is:  (1, 9)\n",
      "[INFO] [2023-04-14 00:19:23,934] [Advisor] Sample random config. rand_prob=0.100000.\n",
      "[INFO] [2023-04-14 00:20:01,881] [OpenBox-SPO] Iteration 219, objective value: [52.31717180838218].\n"
     ]
    },
    {
     "name": "stderr",
     "output_type": "stream",
     "text": [
      "\r",
      " 22%|████████████████▍                                                          | 219/1000 [2:40:14<9:30:47, 43.85s/it]"
     ]
    },
    {
     "name": "stdout",
     "output_type": "stream",
     "text": [
      "\t ----- reward: -52.31717180838218 for f_star and f_minus: 29.79565829848326 , 52.31717180838218\n",
      "\t ---------- State is:  (0, 9)\n",
      "[INFO] [2023-04-14 00:20:50,247] [OpenBox-SPO] Iteration 220, objective value: [36.77038460677014].\n"
     ]
    },
    {
     "name": "stderr",
     "output_type": "stream",
     "text": [
      "\r",
      " 22%|████████████████▌                                                          | 220/1000 [2:41:03<9:47:39, 45.21s/it]"
     ]
    },
    {
     "name": "stdout",
     "output_type": "stream",
     "text": [
      "\t ----- reward: -36.77038460677014 for f_star and f_minus: 29.79565829848326 , 36.77038460677014\n",
      "\t ---------- State is:  (0, 9)\n",
      "[INFO] [2023-04-14 00:21:41,034] [OpenBox-SPO] Iteration 221, objective value: [38.703740006370715].\n"
     ]
    },
    {
     "name": "stderr",
     "output_type": "stream",
     "text": [
      "\r",
      " 22%|████████████████▎                                                         | 221/1000 [2:41:53<10:08:39, 46.88s/it]"
     ]
    },
    {
     "name": "stdout",
     "output_type": "stream",
     "text": [
      "\t ----- reward: -38.703740006370715 for f_star and f_minus: 29.79565829848326 , 38.703740006370715\n",
      "\t ---------- State is:  (1, 9)\n",
      "[INFO] [2023-04-14 00:22:29,238] [OpenBox-SPO] Iteration 222, objective value: [36.82709890187923].\n"
     ]
    },
    {
     "name": "stderr",
     "output_type": "stream",
     "text": [
      "\r",
      " 22%|████████████████▍                                                         | 222/1000 [2:42:42<10:13:01, 47.28s/it]"
     ]
    },
    {
     "name": "stdout",
     "output_type": "stream",
     "text": [
      "\t ----- reward: -36.82709890187923 for f_star and f_minus: 29.79565829848326 , 36.82709890187923\n",
      "\t ---------- State is:  (1, 9)\n",
      "[INFO] [2023-04-14 00:23:14,049] [OpenBox-SPO] Iteration 223, objective value: [45.308721779434556].\n"
     ]
    },
    {
     "name": "stderr",
     "output_type": "stream",
     "text": [
      "\r",
      " 22%|████████████████▌                                                         | 223/1000 [2:43:26<10:02:39, 46.54s/it]"
     ]
    },
    {
     "name": "stdout",
     "output_type": "stream",
     "text": [
      "\t ----- reward: -45.308721779434556 for f_star and f_minus: 29.79565829848326 , 45.308721779434556\n",
      "\t ---------- State is:  (1, 9)\n",
      "[INFO] [2023-04-14 00:24:00,594] [OpenBox-SPO] Iteration 224, objective value: [38.961378320486226].\n"
     ]
    },
    {
     "name": "stderr",
     "output_type": "stream",
     "text": [
      "\r",
      " 22%|████████████████▌                                                         | 224/1000 [2:44:13<10:01:54, 46.54s/it]"
     ]
    },
    {
     "name": "stdout",
     "output_type": "stream",
     "text": [
      "\t ----- reward: -38.961378320486226 for f_star and f_minus: 29.79565829848326 , 38.961378320486226\n",
      "\t ---------- State is:  (2, 9)\n",
      "[INFO] [2023-04-14 00:24:47,591] [OpenBox-SPO] Iteration 225, objective value: [37.05930515444906].\n"
     ]
    },
    {
     "name": "stderr",
     "output_type": "stream",
     "text": [
      "\r",
      " 22%|████████████████▋                                                         | 225/1000 [2:45:00<10:02:54, 46.68s/it]"
     ]
    },
    {
     "name": "stdout",
     "output_type": "stream",
     "text": [
      "\t ----- reward: -37.05930515444906 for f_star and f_minus: 29.79565829848326 , 37.05930515444906\n",
      "\t ---------- State is:  (2, 9)\n",
      "[INFO] [2023-04-14 00:24:47,591] [Advisor] Sample random config. rand_prob=0.100000.\n",
      "[INFO] [2023-04-14 00:25:18,655] [OpenBox-SPO] Iteration 226, objective value: [57.572541172776795].\n"
     ]
    },
    {
     "name": "stderr",
     "output_type": "stream",
     "text": [
      "\r",
      " 23%|████████████████▉                                                          | 226/1000 [2:45:31<9:01:42, 41.99s/it]"
     ]
    },
    {
     "name": "stdout",
     "output_type": "stream",
     "text": [
      "\t ----- reward: -57.572541172776795 for f_star and f_minus: 29.79565829848326 , 57.572541172776795\n",
      "\t ---------- State is:  (1, 10)\n",
      "[INFO] [2023-04-14 00:26:08,890] [OpenBox-SPO] Iteration 227, objective value: [37.074838412595376].\n"
     ]
    },
    {
     "name": "stderr",
     "output_type": "stream",
     "text": [
      "\r",
      " 23%|█████████████████                                                          | 227/1000 [2:46:21<9:32:51, 44.47s/it]"
     ]
    },
    {
     "name": "stdout",
     "output_type": "stream",
     "text": [
      "\t ----- reward: -37.074838412595376 for f_star and f_minus: 29.79565829848326 , 37.074838412595376\n",
      "\t ---------- State is:  (2, 10)\n",
      "[INFO] [2023-04-14 00:27:02,701] [OpenBox-SPO] Iteration 228, objective value: [32.01579940190594].\n"
     ]
    },
    {
     "name": "stderr",
     "output_type": "stream",
     "text": [
      "\r",
      " 23%|████████████████▊                                                         | 228/1000 [2:47:15<10:08:11, 47.27s/it]"
     ]
    },
    {
     "name": "stdout",
     "output_type": "stream",
     "text": [
      "\t ----- reward: -32.01579940190594 for f_star and f_minus: 29.79565829848326 , 32.01579940190594\n",
      "\t ---------- State is:  (3, 10)\n",
      "[INFO] [2023-04-14 00:27:49,561] [OpenBox-SPO] Iteration 229, objective value: [31.77581530105374].\n"
     ]
    },
    {
     "name": "stderr",
     "output_type": "stream",
     "text": [
      "\r",
      " 23%|████████████████▉                                                         | 229/1000 [2:48:02<10:05:49, 47.15s/it]"
     ]
    },
    {
     "name": "stdout",
     "output_type": "stream",
     "text": [
      "\t ----- reward: -31.77581530105374 for f_star and f_minus: 29.79565829848326 , 31.77581530105374\n",
      "\t ---------- State is:  (4, 10)\n",
      "[INFO] [2023-04-14 00:27:49,561] [Advisor] Sample random config. rand_prob=0.100000.\n",
      "[INFO] [2023-04-14 00:28:28,466] [OpenBox-SPO] Iteration 230, objective value: [56.021707413233955].\n"
     ]
    },
    {
     "name": "stderr",
     "output_type": "stream",
     "text": [
      "\r",
      " 23%|█████████████████▎                                                         | 230/1000 [2:48:41<9:33:19, 44.67s/it]"
     ]
    },
    {
     "name": "stdout",
     "output_type": "stream",
     "text": [
      "\t ----- reward: -56.021707413233955 for f_star and f_minus: 29.79565829848326 , 56.021707413233955\n",
      "\t ---------- State is:  (4, 10)\n",
      "[INFO] [2023-04-14 00:29:12,485] [OpenBox-SPO] Iteration 231, objective value: [45.6881375913353].\n"
     ]
    },
    {
     "name": "stderr",
     "output_type": "stream",
     "text": [
      "\r",
      " 23%|█████████████████▎                                                         | 231/1000 [2:49:25<9:30:03, 44.48s/it]"
     ]
    },
    {
     "name": "stdout",
     "output_type": "stream",
     "text": [
      "\t ----- reward: -45.6881375913353 for f_star and f_minus: 29.79565829848326 , 45.6881375913353\n",
      "\t ---------- State is:  (3, 11)\n",
      "[INFO] [2023-04-14 00:29:59,614] [OpenBox-SPO] Iteration 232, objective value: [34.60265600735721].\n"
     ]
    },
    {
     "name": "stderr",
     "output_type": "stream",
     "text": [
      "\r",
      " 23%|█████████████████▍                                                         | 232/1000 [2:50:12<9:39:29, 45.27s/it]"
     ]
    },
    {
     "name": "stdout",
     "output_type": "stream",
     "text": [
      "\t ----- reward: -34.60265600735721 for f_star and f_minus: 29.79565829848326 , 34.60265600735721\n",
      "\t ---------- State is:  (3, 10)\n",
      "[INFO] [2023-04-14 00:30:52,014] [OpenBox-SPO] Iteration 233, objective value: [44.818482225482015].\n"
     ]
    },
    {
     "name": "stderr",
     "output_type": "stream",
     "text": [
      "\r",
      " 23%|█████████████████▏                                                        | 233/1000 [2:51:04<10:06:04, 47.41s/it]"
     ]
    },
    {
     "name": "stdout",
     "output_type": "stream",
     "text": [
      "\t ----- reward: -44.818482225482015 for f_star and f_minus: 29.79565829848326 , 44.818482225482015\n",
      "\t ---------- State is:  (3, 10)\n",
      "[INFO] [2023-04-14 00:31:41,994] [OpenBox-SPO] Iteration 234, objective value: [40.76068722526169].\n"
     ]
    },
    {
     "name": "stderr",
     "output_type": "stream",
     "text": [
      "\r",
      " 23%|█████████████████▎                                                        | 234/1000 [2:51:54<10:15:07, 48.18s/it]"
     ]
    },
    {
     "name": "stdout",
     "output_type": "stream",
     "text": [
      "\t ----- reward: -40.76068722526169 for f_star and f_minus: 29.79565829848326 , 40.76068722526169\n",
      "\t ---------- State is:  (4, 10)\n",
      "[INFO] [2023-04-14 00:32:25,893] [OpenBox-SPO] Iteration 235, objective value: [43.264547653524666].\n"
     ]
    },
    {
     "name": "stderr",
     "output_type": "stream",
     "text": [
      "\r",
      " 24%|█████████████████▋                                                         | 235/1000 [2:52:38<9:57:56, 46.90s/it]"
     ]
    },
    {
     "name": "stdout",
     "output_type": "stream",
     "text": [
      "\t ----- reward: -43.264547653524666 for f_star and f_minus: 29.79565829848326 , 43.264547653524666\n",
      "\t ---------- State is:  (5, 10)\n",
      "[INFO] [2023-04-14 00:33:16,059] [OpenBox-SPO] Iteration 236, objective value: [44.616744215487856].\n"
     ]
    },
    {
     "name": "stderr",
     "output_type": "stream",
     "text": [
      "\r",
      " 24%|█████████████████▍                                                        | 236/1000 [2:53:28<10:09:38, 47.88s/it]"
     ]
    },
    {
     "name": "stdout",
     "output_type": "stream",
     "text": [
      "\t ----- reward: -44.616744215487856 for f_star and f_minus: 29.79565829848326 , 44.616744215487856\n",
      "\t ---------- State is:  (4, 10)\n",
      "[INFO] [2023-04-14 00:34:10,223] [OpenBox-SPO] Iteration 237, objective value: [31.56375757499002].\n"
     ]
    },
    {
     "name": "stderr",
     "output_type": "stream",
     "text": [
      "\r",
      " 24%|█████████████████▌                                                        | 237/1000 [2:54:23<10:32:49, 49.76s/it]"
     ]
    },
    {
     "name": "stdout",
     "output_type": "stream",
     "text": [
      "\t ----- reward: -31.56375757499002 for f_star and f_minus: 29.79565829848326 , 31.56375757499002\n",
      "\t ---------- State is:  (5, 10)\n",
      "[INFO] [2023-04-14 00:34:10,223] [Advisor] Sample random config. rand_prob=0.100000.\n",
      "[INFO] [2023-04-14 00:34:45,342] [OpenBox-SPO] Iteration 238, objective value: [57.710317798604486].\n"
     ]
    },
    {
     "name": "stderr",
     "output_type": "stream",
     "text": [
      "\r",
      " 24%|█████████████████▊                                                         | 238/1000 [2:54:58<9:36:12, 45.37s/it]"
     ]
    },
    {
     "name": "stdout",
     "output_type": "stream",
     "text": [
      "\t ----- reward: -57.710317798604486 for f_star and f_minus: 29.79565829848326 , 57.710317798604486\n",
      "\t ---------- State is:  (5, 10)\n",
      "[INFO] [2023-04-14 00:35:38,773] [OpenBox-SPO] Iteration 239, objective value: [39.93836309647114].\n"
     ]
    },
    {
     "name": "stderr",
     "output_type": "stream",
     "text": [
      "\r",
      " 24%|█████████████████▋                                                        | 239/1000 [2:55:51<10:06:06, 47.79s/it]"
     ]
    },
    {
     "name": "stdout",
     "output_type": "stream",
     "text": [
      "\t ----- reward: -39.93836309647114 for f_star and f_minus: 29.79565829848326 , 39.93836309647114\n",
      "\t ---------- State is:  (4, 10)\n",
      "[INFO] [2023-04-14 00:36:22,909] [OpenBox-SPO] Iteration 240, objective value: [34.31728806268201].\n"
     ]
    },
    {
     "name": "stderr",
     "output_type": "stream",
     "text": [
      "\r",
      " 24%|██████████████████                                                         | 240/1000 [2:56:35<9:51:26, 46.69s/it]"
     ]
    },
    {
     "name": "stdout",
     "output_type": "stream",
     "text": [
      "\t ----- reward: -34.31728806268201 for f_star and f_minus: 29.79565829848326 , 34.31728806268201\n",
      "\t ---------- State is:  (3, 10)\n",
      "[INFO] [2023-04-14 00:37:10,438] [OpenBox-SPO] Iteration 241, objective value: [35.137569749985886].\n"
     ]
    },
    {
     "name": "stderr",
     "output_type": "stream",
     "text": [
      "\r",
      " 24%|██████████████████                                                         | 241/1000 [2:57:23<9:53:50, 46.94s/it]"
     ]
    },
    {
     "name": "stdout",
     "output_type": "stream",
     "text": [
      "\t ----- reward: -35.137569749985886 for f_star and f_minus: 29.79565829848326 , 35.137569749985886\n",
      "\t ---------- State is:  (2, 11)\n",
      "[INFO] [2023-04-14 00:37:51,937] [OpenBox-SPO] Iteration 242, objective value: [33.269927708614844].\n"
     ]
    },
    {
     "name": "stderr",
     "output_type": "stream",
     "text": [
      "\r",
      " 24%|██████████████████▏                                                        | 242/1000 [2:58:04<9:32:25, 45.31s/it]"
     ]
    },
    {
     "name": "stdout",
     "output_type": "stream",
     "text": [
      "\t ----- reward: -33.269927708614844 for f_star and f_minus: 29.79565829848326 , 33.269927708614844\n",
      "\t ---------- State is:  (1, 11)\n",
      "[INFO] [2023-04-14 00:38:40,608] [OpenBox-SPO] Iteration 243, objective value: [37.11843424917871].\n"
     ]
    },
    {
     "name": "stderr",
     "output_type": "stream",
     "text": [
      "\r",
      " 24%|██████████████████▏                                                        | 243/1000 [2:58:53<9:44:23, 46.32s/it]"
     ]
    },
    {
     "name": "stdout",
     "output_type": "stream",
     "text": [
      "\t ----- reward: -37.11843424917871 for f_star and f_minus: 29.79565829848326 , 37.11843424917871\n",
      "\t ---------- State is:  (1, 11)\n",
      "[INFO] [2023-04-14 00:39:27,003] [OpenBox-SPO] Iteration 244, objective value: [31.557951308351463].\n"
     ]
    },
    {
     "name": "stderr",
     "output_type": "stream",
     "text": [
      "\r",
      " 24%|██████████████████▎                                                        | 244/1000 [2:59:39<9:43:54, 46.34s/it]"
     ]
    },
    {
     "name": "stdout",
     "output_type": "stream",
     "text": [
      "\t ----- reward: -31.557951308351463 for f_star and f_minus: 29.79565829848326 , 31.557951308351463\n",
      "\t ---------- State is:  (1, 10)\n",
      "[INFO] [2023-04-14 00:39:27,003] [Advisor] Sample random config. rand_prob=0.100000.\n",
      "[INFO] [2023-04-14 00:39:56,626] [OpenBox-SPO] Iteration 245, objective value: [48.52817047311222].\n"
     ]
    },
    {
     "name": "stderr",
     "output_type": "stream",
     "text": [
      "\r",
      " 24%|██████████████████▍                                                        | 245/1000 [3:00:09<8:40:00, 41.33s/it]"
     ]
    },
    {
     "name": "stdout",
     "output_type": "stream",
     "text": [
      "\t ----- reward: -48.52817047311222 for f_star and f_minus: 29.79565829848326 , 48.52817047311222\n",
      "\t ---------- State is:  (1, 10)\n",
      "[INFO] [2023-04-14 00:39:56,626] [Advisor] Sample random config. rand_prob=0.100000.\n",
      "[INFO] [2023-04-14 00:40:34,091] [OpenBox-SPO] Iteration 246, objective value: [51.81940202058682].\n"
     ]
    },
    {
     "name": "stderr",
     "output_type": "stream",
     "text": [
      "\r",
      " 25%|██████████████████▍                                                        | 246/1000 [3:00:46<8:24:46, 40.17s/it]"
     ]
    },
    {
     "name": "stdout",
     "output_type": "stream",
     "text": [
      "\t ----- reward: -51.81940202058682 for f_star and f_minus: 29.79565829848326 , 51.81940202058682\n",
      "\t ---------- State is:  (2, 11)\n",
      "[INFO] [2023-04-14 00:40:34,091] [Advisor] Sample random config. rand_prob=0.100000.\n",
      "[INFO] [2023-04-14 00:41:08,715] [OpenBox-SPO] Iteration 247, objective value: [54.837098008482364].\n"
     ]
    },
    {
     "name": "stderr",
     "output_type": "stream",
     "text": [
      "\r",
      " 25%|██████████████████▌                                                        | 247/1000 [3:01:21<8:03:13, 38.50s/it]"
     ]
    },
    {
     "name": "stdout",
     "output_type": "stream",
     "text": [
      "\t ----- reward: -54.837098008482364 for f_star and f_minus: 29.79565829848326 , 54.837098008482364\n",
      "\t ---------- State is:  (1, 11)\n",
      "[INFO] [2023-04-14 00:41:51,289] [OpenBox-SPO] Iteration 248, objective value: [39.53659311732907].\n"
     ]
    },
    {
     "name": "stderr",
     "output_type": "stream",
     "text": [
      "\r",
      " 25%|██████████████████▌                                                        | 248/1000 [3:02:04<8:17:53, 39.73s/it]"
     ]
    },
    {
     "name": "stdout",
     "output_type": "stream",
     "text": [
      "\t ----- reward: -39.53659311732907 for f_star and f_minus: 29.79565829848326 , 39.53659311732907\n",
      "\t ---------- State is:  (0, 11)\n",
      "[INFO] [2023-04-14 00:42:37,724] [OpenBox-SPO] Iteration 249, objective value: [36.21546031686794].\n"
     ]
    },
    {
     "name": "stderr",
     "output_type": "stream",
     "text": [
      "\r",
      " 25%|██████████████████▋                                                        | 249/1000 [3:02:50<8:42:25, 41.74s/it]"
     ]
    },
    {
     "name": "stdout",
     "output_type": "stream",
     "text": [
      "\t ----- reward: -36.21546031686794 for f_star and f_minus: 29.79565829848326 , 36.21546031686794\n",
      "\t ---------- State is:  (1, 11)\n",
      "[INFO] [2023-04-14 00:43:27,768] [OpenBox-SPO] Iteration 250, objective value: [43.52812485344765].\n"
     ]
    },
    {
     "name": "stderr",
     "output_type": "stream",
     "text": [
      "\r",
      " 25%|██████████████████▊                                                        | 250/1000 [3:03:40<9:12:52, 44.23s/it]"
     ]
    },
    {
     "name": "stdout",
     "output_type": "stream",
     "text": [
      "\t ----- reward: -43.52812485344765 for f_star and f_minus: 29.79565829848326 , 43.52812485344765\n",
      "\t ---------- State is:  (1, 11)\n",
      "[INFO] [2023-04-14 00:44:12,251] [OpenBox-SPO] Iteration 251, objective value: [46.84177156861443].\n"
     ]
    },
    {
     "name": "stderr",
     "output_type": "stream",
     "text": [
      "\r",
      " 25%|██████████████████▊                                                        | 251/1000 [3:04:25<9:13:05, 44.31s/it]"
     ]
    },
    {
     "name": "stdout",
     "output_type": "stream",
     "text": [
      "\t ----- reward: -46.84177156861443 for f_star and f_minus: 29.79565829848326 , 46.84177156861443\n",
      "\t ---------- State is:  (2, 11)\n",
      "[INFO] [2023-04-14 00:44:12,251] [Advisor] Sample random config. rand_prob=0.100000.\n",
      "[INFO] [2023-04-14 00:44:44,653] [OpenBox-SPO] Iteration 252, objective value: [58.29209519831265].\n"
     ]
    },
    {
     "name": "stderr",
     "output_type": "stream",
     "text": [
      "\r",
      " 25%|██████████████████▉                                                        | 252/1000 [3:04:57<8:27:49, 40.73s/it]"
     ]
    },
    {
     "name": "stdout",
     "output_type": "stream",
     "text": [
      "\t ----- reward: -58.29209519831265 for f_star and f_minus: 29.79565829848326 , 58.29209519831265\n",
      "\t ---------- State is:  (2, 12)\n",
      "[INFO] [2023-04-14 00:45:31,547] [OpenBox-SPO] Iteration 253, objective value: [42.70354558397893].\n"
     ]
    },
    {
     "name": "stderr",
     "output_type": "stream",
     "text": [
      "\r",
      " 25%|██████████████████▉                                                        | 253/1000 [3:05:44<8:50:12, 42.59s/it]"
     ]
    },
    {
     "name": "stdout",
     "output_type": "stream",
     "text": [
      "\t ----- reward: -42.70354558397893 for f_star and f_minus: 29.79565829848326 , 42.70354558397893\n",
      "\t ---------- State is:  (3, 12)\n",
      "[INFO] [2023-04-14 00:46:18,159] [OpenBox-SPO] Iteration 254, objective value: [37.59654424101518].\n"
     ]
    },
    {
     "name": "stderr",
     "output_type": "stream",
     "text": [
      "\r",
      " 25%|███████████████████                                                        | 254/1000 [3:06:30<9:04:27, 43.79s/it]"
     ]
    },
    {
     "name": "stdout",
     "output_type": "stream",
     "text": [
      "\t ----- reward: -37.59654424101518 for f_star and f_minus: 29.79565829848326 , 37.59654424101518\n",
      "\t ---------- State is:  (3, 12)\n",
      "[INFO] [2023-04-14 00:47:03,300] [OpenBox-SPO] Iteration 255, objective value: [34.487059810505514].\n"
     ]
    },
    {
     "name": "stderr",
     "output_type": "stream",
     "text": [
      "\r",
      " 26%|███████████████████▏                                                       | 255/1000 [3:07:16<9:08:45, 44.20s/it]"
     ]
    },
    {
     "name": "stdout",
     "output_type": "stream",
     "text": [
      "\t ----- reward: -34.487059810505514 for f_star and f_minus: 29.79565829848326 , 34.487059810505514\n",
      "\t ---------- State is:  (3, 12)\n",
      "[INFO] [2023-04-14 00:47:50,686] [OpenBox-SPO] Iteration 256, objective value: [38.39255173808309].\n"
     ]
    },
    {
     "name": "stderr",
     "output_type": "stream",
     "text": [
      "\r",
      " 26%|███████████████████▏                                                       | 256/1000 [3:08:03<9:19:53, 45.15s/it]"
     ]
    },
    {
     "name": "stdout",
     "output_type": "stream",
     "text": [
      "\t ----- reward: -38.39255173808309 for f_star and f_minus: 29.79565829848326 , 38.39255173808309\n",
      "\t ---------- State is:  (4, 11)\n",
      "[INFO] [2023-04-14 00:48:39,785] [OpenBox-SPO] Iteration 257, objective value: [35.817517970236096].\n"
     ]
    },
    {
     "name": "stderr",
     "output_type": "stream",
     "text": [
      "\r",
      " 26%|███████████████████▎                                                       | 257/1000 [3:08:52<9:33:48, 46.34s/it]"
     ]
    },
    {
     "name": "stdout",
     "output_type": "stream",
     "text": [
      "\t ----- reward: -35.817517970236096 for f_star and f_minus: 29.79565829848326 , 35.817517970236096\n",
      "\t ---------- State is:  (3, 11)\n",
      "[INFO] [2023-04-14 00:49:26,648] [OpenBox-SPO] Iteration 258, objective value: [36.664454293182544].\n"
     ]
    },
    {
     "name": "stderr",
     "output_type": "stream",
     "text": [
      "\r",
      " 26%|███████████████████▎                                                       | 258/1000 [3:09:39<9:34:58, 46.49s/it]"
     ]
    },
    {
     "name": "stdout",
     "output_type": "stream",
     "text": [
      "\t ----- reward: -36.664454293182544 for f_star and f_minus: 29.79565829848326 , 36.664454293182544\n",
      "\t ---------- State is:  (4, 11)\n",
      "[INFO] [2023-04-14 00:50:10,773] [OpenBox-SPO] Iteration 259, objective value: [33.685811915595295].\n"
     ]
    },
    {
     "name": "stderr",
     "output_type": "stream",
     "text": [
      "\r",
      " 26%|███████████████████▍                                                       | 259/1000 [3:10:23<9:25:25, 45.78s/it]"
     ]
    },
    {
     "name": "stdout",
     "output_type": "stream",
     "text": [
      "\t ----- reward: -33.685811915595295 for f_star and f_minus: 29.79565829848326 , 33.685811915595295\n",
      "\t ---------- State is:  (4, 11)\n",
      "[INFO] [2023-04-14 00:51:02,625] [OpenBox-SPO] Iteration 260, objective value: [33.46678034793322].\n"
     ]
    },
    {
     "name": "stderr",
     "output_type": "stream",
     "text": [
      "\r",
      " 26%|███████████████████▌                                                       | 260/1000 [3:11:15<9:47:07, 47.60s/it]"
     ]
    },
    {
     "name": "stdout",
     "output_type": "stream",
     "text": [
      "\t ----- reward: -33.46678034793322 for f_star and f_minus: 29.79565829848326 , 33.46678034793322\n",
      "\t ---------- State is:  (3, 11)\n",
      "[INFO] [2023-04-14 00:51:47,948] [OpenBox-SPO] Iteration 261, objective value: [33.45545452635828].\n"
     ]
    },
    {
     "name": "stderr",
     "output_type": "stream",
     "text": [
      "\r",
      " 26%|███████████████████▌                                                       | 261/1000 [3:12:00<9:37:53, 46.92s/it]"
     ]
    },
    {
     "name": "stdout",
     "output_type": "stream",
     "text": [
      "\t ----- reward: -33.45545452635828 for f_star and f_minus: 29.79565829848326 , 33.45545452635828\n",
      "\t ---------- State is:  (3, 10)\n",
      "[INFO] [2023-04-14 00:52:33,674] [OpenBox-SPO] Iteration 262, objective value: [38.473091067583475].\n"
     ]
    },
    {
     "name": "stderr",
     "output_type": "stream",
     "text": [
      "\r",
      " 26%|███████████████████▋                                                       | 262/1000 [3:12:46<9:32:42, 46.56s/it]"
     ]
    },
    {
     "name": "stdout",
     "output_type": "stream",
     "text": [
      "\t ----- reward: -38.473091067583475 for f_star and f_minus: 29.79565829848326 , 38.473091067583475\n",
      "\t ---------- State is:  (2, 10)\n",
      "[INFO] [2023-04-14 00:53:24,384] [OpenBox-SPO] Iteration 263, objective value: [46.180250847569404].\n"
     ]
    },
    {
     "name": "stderr",
     "output_type": "stream",
     "text": [
      "\r",
      " 26%|███████████████████▋                                                       | 263/1000 [3:13:37<9:47:13, 47.81s/it]"
     ]
    },
    {
     "name": "stdout",
     "output_type": "stream",
     "text": [
      "\t ----- reward: -46.180250847569404 for f_star and f_minus: 29.79565829848326 , 46.180250847569404\n",
      "\t ---------- State is:  (2, 10)\n",
      "[INFO] [2023-04-14 00:54:04,847] [OpenBox-SPO] Iteration 264, objective value: [35.99806342620249].\n"
     ]
    },
    {
     "name": "stderr",
     "output_type": "stream",
     "text": [
      "\r",
      " 26%|███████████████████▊                                                       | 264/1000 [3:14:17<9:19:27, 45.61s/it]"
     ]
    },
    {
     "name": "stdout",
     "output_type": "stream",
     "text": [
      "\t ----- reward: -35.99806342620249 for f_star and f_minus: 29.79565829848326 , 35.99806342620249\n",
      "\t ---------- State is:  (3, 10)\n",
      "[INFO] [2023-04-14 00:54:55,291] [OpenBox-SPO] Iteration 265, objective value: [32.70657094581152].\n"
     ]
    },
    {
     "name": "stderr",
     "output_type": "stream",
     "text": [
      "\r",
      " 26%|███████████████████▉                                                       | 265/1000 [3:15:08<9:36:24, 47.05s/it]"
     ]
    },
    {
     "name": "stdout",
     "output_type": "stream",
     "text": [
      "\t ----- reward: -32.70657094581152 for f_star and f_minus: 29.79565829848326 , 32.70657094581152\n",
      "\t ---------- State is:  (3, 10)\n",
      "[INFO] [2023-04-14 00:55:43,471] [OpenBox-SPO] Iteration 266, objective value: [35.20960795185515].\n"
     ]
    },
    {
     "name": "stderr",
     "output_type": "stream",
     "text": [
      "\r",
      " 27%|███████████████████▉                                                       | 266/1000 [3:15:56<9:39:45, 47.39s/it]"
     ]
    },
    {
     "name": "stdout",
     "output_type": "stream",
     "text": [
      "\t ----- reward: -35.20960795185515 for f_star and f_minus: 29.79565829848326 , 35.20960795185515\n",
      "\t ---------- State is:  (3, 10)\n",
      "[INFO] [2023-04-14 00:56:27,071] [OpenBox-SPO] Iteration 267, objective value: [40.68347858954016].\n"
     ]
    },
    {
     "name": "stderr",
     "output_type": "stream",
     "text": [
      "\r",
      " 27%|████████████████████                                                       | 267/1000 [3:16:39<9:25:04, 46.25s/it]"
     ]
    },
    {
     "name": "stdout",
     "output_type": "stream",
     "text": [
      "\t ----- reward: -40.68347858954016 for f_star and f_minus: 29.79565829848326 , 40.68347858954016\n",
      "\t ---------- State is:  (4, 10)\n",
      "[INFO] [2023-04-14 00:57:18,890] [OpenBox-SPO] Iteration 268, objective value: [38.73747333786201].\n"
     ]
    },
    {
     "name": "stderr",
     "output_type": "stream",
     "text": [
      "\r",
      " 27%|████████████████████                                                       | 268/1000 [3:17:31<9:44:40, 47.92s/it]"
     ]
    },
    {
     "name": "stdout",
     "output_type": "stream",
     "text": [
      "\t ----- reward: -38.73747333786201 for f_star and f_minus: 29.79565829848326 , 38.73747333786201\n",
      "\t ---------- State is:  (4, 9)\n",
      "[INFO] [2023-04-14 00:57:18,890] [Advisor] Sample random config. rand_prob=0.100000.\n",
      "[INFO] [2023-04-14 00:57:55,238] [OpenBox-SPO] Iteration 269, objective value: [43.169140530469484].\n"
     ]
    },
    {
     "name": "stderr",
     "output_type": "stream",
     "text": [
      "\r",
      " 27%|████████████████████▏                                                      | 269/1000 [3:18:08<9:01:33, 44.45s/it]"
     ]
    },
    {
     "name": "stdout",
     "output_type": "stream",
     "text": [
      "\t ----- reward: -43.169140530469484 for f_star and f_minus: 29.79565829848326 , 43.169140530469484\n",
      "\t ---------- State is:  (3, 9)\n",
      "[INFO] [2023-04-14 00:58:41,029] [OpenBox-SPO] Iteration 270, objective value: [41.2578640174315].\n"
     ]
    },
    {
     "name": "stderr",
     "output_type": "stream",
     "text": [
      "\r",
      " 27%|████████████████████▎                                                      | 270/1000 [3:18:53<9:05:42, 44.85s/it]"
     ]
    },
    {
     "name": "stdout",
     "output_type": "stream",
     "text": [
      "\t ----- reward: -41.2578640174315 for f_star and f_minus: 29.79565829848326 , 41.2578640174315\n",
      "\t ---------- State is:  (2, 10)\n",
      "[INFO] [2023-04-14 00:59:25,825] [OpenBox-SPO] Iteration 271, objective value: [41.96968906467345].\n"
     ]
    },
    {
     "name": "stderr",
     "output_type": "stream",
     "text": [
      "\r",
      " 27%|████████████████████▎                                                      | 271/1000 [3:19:38<9:04:45, 44.84s/it]"
     ]
    },
    {
     "name": "stdout",
     "output_type": "stream",
     "text": [
      "\t ----- reward: -41.96968906467345 for f_star and f_minus: 29.79565829848326 , 41.96968906467345\n",
      "\t ---------- State is:  (2, 10)\n",
      "[INFO] [2023-04-14 01:00:16,817] [OpenBox-SPO] Iteration 272, objective value: [34.20447952931586].\n"
     ]
    },
    {
     "name": "stderr",
     "output_type": "stream",
     "text": [
      "\r",
      " 27%|████████████████████▍                                                      | 272/1000 [3:20:29<9:26:25, 46.68s/it]"
     ]
    },
    {
     "name": "stdout",
     "output_type": "stream",
     "text": [
      "\t ----- reward: -34.20447952931586 for f_star and f_minus: 29.79565829848326 , 34.20447952931586\n",
      "\t ---------- State is:  (2, 10)\n",
      "[INFO] [2023-04-14 01:01:12,131] [OpenBox-SPO] Iteration 273, objective value: [38.38973975497516].\n"
     ]
    },
    {
     "name": "stderr",
     "output_type": "stream",
     "text": [
      "\r",
      " 27%|████████████████████▍                                                      | 273/1000 [3:21:24<9:57:04, 49.28s/it]"
     ]
    },
    {
     "name": "stdout",
     "output_type": "stream",
     "text": [
      "\t ----- reward: -38.38973975497516 for f_star and f_minus: 29.79565829848326 , 38.38973975497516\n",
      "\t ---------- State is:  (1, 10)\n",
      "[INFO] [2023-04-14 01:02:03,499] [OpenBox-SPO] Iteration 274, objective value: [44.69915943749737].\n"
     ]
    },
    {
     "name": "stderr",
     "output_type": "stream",
     "text": [
      "\r",
      " 27%|████████████████████▎                                                     | 274/1000 [3:22:16<10:03:46, 49.90s/it]"
     ]
    },
    {
     "name": "stdout",
     "output_type": "stream",
     "text": [
      "\t ----- reward: -44.69915943749737 for f_star and f_minus: 29.79565829848326 , 44.69915943749737\n",
      "\t ---------- State is:  (0, 10)\n",
      "[INFO] [2023-04-14 01:02:44,476] [OpenBox-SPO] Iteration 275, objective value: [37.376734681872904].\n"
     ]
    },
    {
     "name": "stderr",
     "output_type": "stream",
     "text": [
      "\r",
      " 28%|████████████████████▋                                                      | 275/1000 [3:22:57<9:30:36, 47.22s/it]"
     ]
    },
    {
     "name": "stdout",
     "output_type": "stream",
     "text": [
      "\t ----- reward: -37.376734681872904 for f_star and f_minus: 29.79565829848326 , 37.376734681872904\n",
      "\t ---------- State is:  (0, 10)\n",
      "[INFO] [2023-04-14 01:03:34,224] [OpenBox-SPO] Iteration 276, objective value: [35.739262261489074].\n"
     ]
    },
    {
     "name": "stderr",
     "output_type": "stream",
     "text": [
      "\r",
      " 28%|████████████████████▋                                                      | 276/1000 [3:23:47<9:38:57, 47.98s/it]"
     ]
    },
    {
     "name": "stdout",
     "output_type": "stream",
     "text": [
      "\t ----- reward: -35.739262261489074 for f_star and f_minus: 29.79565829848326 , 35.739262261489074\n",
      "\t ---------- State is:  (0, 9)\n",
      "[INFO] [2023-04-14 01:04:22,331] [OpenBox-SPO] Iteration 277, objective value: [39.04242719132414].\n"
     ]
    },
    {
     "name": "stderr",
     "output_type": "stream",
     "text": [
      "\r",
      " 28%|████████████████████▊                                                      | 277/1000 [3:24:35<9:38:37, 48.02s/it]"
     ]
    },
    {
     "name": "stdout",
     "output_type": "stream",
     "text": [
      "\t ----- reward: -39.04242719132414 for f_star and f_minus: 29.79565829848326 , 39.04242719132414\n",
      "\t ---------- State is:  (0, 9)\n",
      "[INFO] [2023-04-14 01:05:16,386] [OpenBox-SPO] Iteration 278, objective value: [33.7456088720607].\n"
     ]
    },
    {
     "name": "stderr",
     "output_type": "stream",
     "text": [
      "\r",
      " 28%|████████████████████▊                                                      | 278/1000 [3:25:29<9:59:36, 49.83s/it]"
     ]
    },
    {
     "name": "stdout",
     "output_type": "stream",
     "text": [
      "\t ----- reward: -33.7456088720607 for f_star and f_minus: 29.79565829848326 , 33.7456088720607\n",
      "\t ---------- State is:  (0, 9)\n",
      "[INFO] [2023-04-14 01:05:53,871] [OpenBox-SPO] Iteration 279, objective value: [32.746305202180864].\n"
     ]
    },
    {
     "name": "stderr",
     "output_type": "stream",
     "text": [
      "\r",
      " 28%|████████████████████▉                                                      | 279/1000 [3:26:06<9:14:16, 46.13s/it]"
     ]
    },
    {
     "name": "stdout",
     "output_type": "stream",
     "text": [
      "\t ----- reward: -32.746305202180864 for f_star and f_minus: 29.79565829848326 , 32.746305202180864\n",
      "\t ---------- State is:  (1, 9)\n",
      "[INFO] [2023-04-14 01:06:36,282] [OpenBox-SPO] Iteration 280, objective value: [31.52125882651312].\n"
     ]
    },
    {
     "name": "stderr",
     "output_type": "stream",
     "text": [
      "\r",
      " 28%|█████████████████████                                                      | 280/1000 [3:26:49<9:00:08, 45.01s/it]"
     ]
    },
    {
     "name": "stdout",
     "output_type": "stream",
     "text": [
      "\t ----- reward: -31.52125882651312 for f_star and f_minus: 29.79565829848326 , 31.52125882651312\n",
      "\t ---------- State is:  (0, 8)\n",
      "[INFO] [2023-04-14 01:07:23,004] [OpenBox-SPO] Iteration 281, objective value: [33.53478894012504].\n"
     ]
    },
    {
     "name": "stderr",
     "output_type": "stream",
     "text": [
      "\r",
      " 28%|█████████████████████                                                      | 281/1000 [3:27:35<9:05:32, 45.52s/it]"
     ]
    },
    {
     "name": "stdout",
     "output_type": "stream",
     "text": [
      "\t ----- reward: -33.53478894012504 for f_star and f_minus: 29.79565829848326 , 33.53478894012504\n",
      "\t ---------- State is:  (0, 8)\n",
      "[INFO] [2023-04-14 01:08:09,161] [OpenBox-SPO] Iteration 282, objective value: [35.478722148941515].\n"
     ]
    },
    {
     "name": "stderr",
     "output_type": "stream",
     "text": [
      "\r",
      " 28%|█████████████████████▏                                                     | 282/1000 [3:28:21<9:07:02, 45.71s/it]"
     ]
    },
    {
     "name": "stdout",
     "output_type": "stream",
     "text": [
      "\t ----- reward: -35.478722148941515 for f_star and f_minus: 29.79565829848326 , 35.478722148941515\n",
      "\t ---------- State is:  (0, 7)\n",
      "[INFO] [2023-04-14 01:08:56,207] [OpenBox-SPO] Iteration 283, objective value: [33.47934160287997].\n"
     ]
    },
    {
     "name": "stderr",
     "output_type": "stream",
     "text": [
      "\r",
      " 28%|█████████████████████▏                                                     | 283/1000 [3:29:09<9:11:03, 46.11s/it]"
     ]
    },
    {
     "name": "stdout",
     "output_type": "stream",
     "text": [
      "\t ----- reward: -33.47934160287997 for f_star and f_minus: 29.79565829848326 , 33.47934160287997\n",
      "\t ---------- State is:  (0, 7)\n",
      "[INFO] [2023-04-14 01:09:39,712] [OpenBox-SPO] Iteration 284, objective value: [43.46909729393229].\n"
     ]
    },
    {
     "name": "stderr",
     "output_type": "stream",
     "text": [
      "\r",
      " 28%|█████████████████████▎                                                     | 284/1000 [3:29:52<9:00:57, 45.33s/it]"
     ]
    },
    {
     "name": "stdout",
     "output_type": "stream",
     "text": [
      "\t ----- reward: -43.46909729393229 for f_star and f_minus: 29.79565829848326 , 43.46909729393229\n",
      "\t ---------- State is:  (0, 7)\n",
      "[INFO] [2023-04-14 01:10:26,031] [OpenBox-SPO] Iteration 285, objective value: [37.52421727857625].\n"
     ]
    },
    {
     "name": "stderr",
     "output_type": "stream",
     "text": [
      "\r",
      " 28%|█████████████████████▎                                                     | 285/1000 [3:30:38<9:03:43, 45.63s/it]"
     ]
    },
    {
     "name": "stdout",
     "output_type": "stream",
     "text": [
      "\t ----- reward: -37.52421727857625 for f_star and f_minus: 29.79565829848326 , 37.52421727857625\n",
      "\t ---------- State is:  (0, 7)\n",
      "[INFO] [2023-04-14 01:11:16,114] [OpenBox-SPO] Iteration 286, objective value: [34.378500352136484].\n"
     ]
    },
    {
     "name": "stderr",
     "output_type": "stream",
     "text": [
      "\r",
      " 29%|█████████████████████▍                                                     | 286/1000 [3:31:28<9:18:52, 46.96s/it]"
     ]
    },
    {
     "name": "stdout",
     "output_type": "stream",
     "text": [
      "\t ----- reward: -34.378500352136484 for f_star and f_minus: 29.79565829848326 , 34.378500352136484\n",
      "\t ---------- State is:  (0, 7)\n",
      "[INFO] [2023-04-14 01:12:04,460] [OpenBox-SPO] Iteration 287, objective value: [34.62390103610346].\n"
     ]
    },
    {
     "name": "stderr",
     "output_type": "stream",
     "text": [
      "\r",
      " 29%|█████████████████████▌                                                     | 287/1000 [3:32:17<9:23:01, 47.38s/it]"
     ]
    },
    {
     "name": "stdout",
     "output_type": "stream",
     "text": [
      "\t ----- reward: -34.62390103610346 for f_star and f_minus: 29.79565829848326 , 34.62390103610346\n",
      "\t ---------- State is:  (1, 7)\n",
      "[INFO] [2023-04-14 01:12:53,284] [OpenBox-SPO] Iteration 288, objective value: [32.73074081234941].\n"
     ]
    },
    {
     "name": "stderr",
     "output_type": "stream",
     "text": [
      "\r",
      " 29%|█████████████████████▌                                                     | 288/1000 [3:33:06<9:27:22, 47.81s/it]"
     ]
    },
    {
     "name": "stdout",
     "output_type": "stream",
     "text": [
      "\t ----- reward: -32.73074081234941 for f_star and f_minus: 29.79565829848326 , 32.73074081234941\n",
      "\t ---------- State is:  (0, 7)\n",
      "[INFO] [2023-04-14 01:13:36,458] [OpenBox-SPO] Iteration 289, objective value: [30.367208495791004].\n"
     ]
    },
    {
     "name": "stderr",
     "output_type": "stream",
     "text": [
      "\r",
      " 29%|█████████████████████▋                                                     | 289/1000 [3:33:49<9:10:08, 46.43s/it]"
     ]
    },
    {
     "name": "stdout",
     "output_type": "stream",
     "text": [
      "\t ----- reward: -30.367208495791004 for f_star and f_minus: 29.79565829848326 , 30.367208495791004\n",
      "\t ---------- State is:  (0, 7)\n",
      "[INFO] [2023-04-14 01:14:18,315] [OpenBox-SPO] Iteration 290, objective value: [40.04099076217202].\n"
     ]
    },
    {
     "name": "stderr",
     "output_type": "stream",
     "text": [
      "\r",
      " 29%|█████████████████████▊                                                     | 290/1000 [3:34:31<8:53:05, 45.05s/it]"
     ]
    },
    {
     "name": "stdout",
     "output_type": "stream",
     "text": [
      "\t ----- reward: -40.04099076217202 for f_star and f_minus: 29.79565829848326 , 40.04099076217202\n",
      "\t ---------- State is:  (0, 7)\n",
      "[INFO] [2023-04-14 01:15:03,621] [OpenBox-SPO] Iteration 291, objective value: [30.860737208211205].\n"
     ]
    },
    {
     "name": "stderr",
     "output_type": "stream",
     "text": [
      "\r",
      " 29%|█████████████████████▊                                                     | 291/1000 [3:35:16<8:53:18, 45.13s/it]"
     ]
    },
    {
     "name": "stdout",
     "output_type": "stream",
     "text": [
      "\t ----- reward: -30.860737208211205 for f_star and f_minus: 29.79565829848326 , 30.860737208211205\n",
      "\t ---------- State is:  (1, 7)\n",
      "[INFO] [2023-04-14 01:15:51,109] [OpenBox-SPO] Iteration 292, objective value: [34.58848174006974].\n"
     ]
    },
    {
     "name": "stderr",
     "output_type": "stream",
     "text": [
      "\r",
      " 29%|█████████████████████▉                                                     | 292/1000 [3:36:03<9:00:50, 45.83s/it]"
     ]
    },
    {
     "name": "stdout",
     "output_type": "stream",
     "text": [
      "\t ----- reward: -34.58848174006974 for f_star and f_minus: 29.79565829848326 , 34.58848174006974\n",
      "\t ---------- State is:  (1, 7)\n",
      "[INFO] [2023-04-14 01:16:36,335] [OpenBox-SPO] Iteration 293, objective value: [37.931540811208365].\n"
     ]
    },
    {
     "name": "stderr",
     "output_type": "stream",
     "text": [
      "\r",
      " 29%|█████████████████████▉                                                     | 293/1000 [3:36:49<8:57:55, 45.65s/it]"
     ]
    },
    {
     "name": "stdout",
     "output_type": "stream",
     "text": [
      "\t ----- reward: -37.931540811208365 for f_star and f_minus: 29.79565829848326 , 37.931540811208365\n",
      "\t ---------- State is:  (2, 6)\n",
      "[INFO] [2023-04-14 01:17:21,237] [OpenBox-SPO] Iteration 294, objective value: [35.552654401224544].\n"
     ]
    },
    {
     "name": "stderr",
     "output_type": "stream",
     "text": [
      "\r",
      " 29%|██████████████████████                                                     | 294/1000 [3:37:34<8:54:31, 45.43s/it]"
     ]
    },
    {
     "name": "stdout",
     "output_type": "stream",
     "text": [
      "\t ----- reward: -35.552654401224544 for f_star and f_minus: 29.79565829848326 , 35.552654401224544\n",
      "\t ---------- State is:  (2, 6)\n",
      "[INFO] [2023-04-14 01:18:07,634] [OpenBox-SPO] Iteration 295, objective value: [33.362508626535515].\n"
     ]
    },
    {
     "name": "stderr",
     "output_type": "stream",
     "text": [
      "\r",
      " 30%|██████████████████████▏                                                    | 295/1000 [3:38:20<8:57:11, 45.72s/it]"
     ]
    },
    {
     "name": "stdout",
     "output_type": "stream",
     "text": [
      "\t ----- reward: -33.362508626535515 for f_star and f_minus: 29.79565829848326 , 33.362508626535515\n",
      "\t ---------- State is:  (1, 6)\n",
      "[INFO] [2023-04-14 01:18:53,208] [OpenBox-SPO] Iteration 296, objective value: [41.17092178657886].\n"
     ]
    },
    {
     "name": "stderr",
     "output_type": "stream",
     "text": [
      "\r",
      " 30%|██████████████████████▏                                                    | 296/1000 [3:39:06<8:55:55, 45.68s/it]"
     ]
    },
    {
     "name": "stdout",
     "output_type": "stream",
     "text": [
      "\t ----- reward: -41.17092178657886 for f_star and f_minus: 29.79565829848326 , 41.17092178657886\n",
      "\t ---------- State is:  (1, 6)\n",
      "[INFO] [2023-04-14 01:19:36,357] [OpenBox-SPO] Iteration 297, objective value: [40.77594535476543].\n"
     ]
    },
    {
     "name": "stderr",
     "output_type": "stream",
     "text": [
      "\r",
      " 30%|██████████████████████▎                                                    | 297/1000 [3:39:49<8:46:16, 44.92s/it]"
     ]
    },
    {
     "name": "stdout",
     "output_type": "stream",
     "text": [
      "\t ----- reward: -40.77594535476543 for f_star and f_minus: 29.79565829848326 , 40.77594535476543\n",
      "\t ---------- State is:  (0, 6)\n",
      "[INFO] [2023-04-14 01:19:36,357] [Advisor] Sample random config. rand_prob=0.100000.\n",
      "[INFO] [2023-04-14 01:20:16,925] [OpenBox-SPO] Iteration 298, objective value: [45.52535321792244].\n"
     ]
    },
    {
     "name": "stderr",
     "output_type": "stream",
     "text": [
      "\r",
      " 30%|██████████████████████▎                                                    | 298/1000 [3:40:29<8:30:15, 43.61s/it]"
     ]
    },
    {
     "name": "stdout",
     "output_type": "stream",
     "text": [
      "\t ----- reward: -45.52535321792244 for f_star and f_minus: 29.79565829848326 , 45.52535321792244\n",
      "\t ---------- State is:  (1, 7)\n",
      "[INFO] [2023-04-14 01:20:16,925] [Advisor] Sample random config. rand_prob=0.100000.\n",
      "[INFO] [2023-04-14 01:20:53,923] [OpenBox-SPO] Iteration 299, objective value: [46.51198198453825].\n"
     ]
    },
    {
     "name": "stderr",
     "output_type": "stream",
     "text": [
      "\r",
      " 30%|██████████████████████▍                                                    | 299/1000 [3:41:06<8:06:21, 41.63s/it]"
     ]
    },
    {
     "name": "stdout",
     "output_type": "stream",
     "text": [
      "\t ----- reward: -46.51198198453825 for f_star and f_minus: 29.79565829848326 , 46.51198198453825\n",
      "\t ---------- State is:  (0, 7)\n",
      "[INFO] [2023-04-14 01:21:42,162] [OpenBox-SPO] Iteration 300, objective value: [42.13678777999289].\n"
     ]
    },
    {
     "name": "stderr",
     "output_type": "stream",
     "text": [
      "\r",
      " 30%|██████████████████████▌                                                    | 300/1000 [3:41:54<8:28:47, 43.61s/it]"
     ]
    },
    {
     "name": "stdout",
     "output_type": "stream",
     "text": [
      "\t ----- reward: -42.13678777999289 for f_star and f_minus: 29.79565829848326 , 42.13678777999289\n",
      "\t ---------- State is:  (0, 7)\n",
      "[INFO] [2023-04-14 01:21:42,162] [Advisor] Sample random config. rand_prob=0.100000.\n",
      "[INFO] [2023-04-14 01:22:13,866] [OpenBox-SPO] Iteration 301, objective value: [57.4287640760049].\n"
     ]
    },
    {
     "name": "stderr",
     "output_type": "stream",
     "text": [
      "\r",
      " 30%|██████████████████████▌                                                    | 301/1000 [3:42:26<7:46:27, 40.04s/it]"
     ]
    },
    {
     "name": "stdout",
     "output_type": "stream",
     "text": [
      "\t ----- reward: -57.4287640760049 for f_star and f_minus: 29.79565829848326 , 57.4287640760049\n",
      "\t ---------- State is:  (1, 7)\n",
      "[INFO] [2023-04-14 01:23:02,366] [OpenBox-SPO] Iteration 302, objective value: [45.87702830411152].\n"
     ]
    },
    {
     "name": "stderr",
     "output_type": "stream",
     "text": [
      "\r",
      " 30%|██████████████████████▋                                                    | 302/1000 [3:43:15<8:15:18, 42.58s/it]"
     ]
    },
    {
     "name": "stdout",
     "output_type": "stream",
     "text": [
      "\t ----- reward: -45.87702830411152 for f_star and f_minus: 29.79565829848326 , 45.87702830411152\n",
      "\t ---------- State is:  (1, 8)\n",
      "[INFO] [2023-04-14 01:23:50,875] [OpenBox-SPO] Iteration 303, objective value: [34.51204008795479].\n"
     ]
    },
    {
     "name": "stderr",
     "output_type": "stream",
     "text": [
      "\r",
      " 30%|██████████████████████▋                                                    | 303/1000 [3:44:03<8:35:16, 44.36s/it]"
     ]
    },
    {
     "name": "stdout",
     "output_type": "stream",
     "text": [
      "\t ----- reward: -34.51204008795479 for f_star and f_minus: 29.79565829848326 , 34.51204008795479\n",
      "\t ---------- State is:  (1, 8)\n",
      "[INFO] [2023-04-14 01:24:33,466] [OpenBox-SPO] Iteration 304, objective value: [33.95193212634592].\n"
     ]
    },
    {
     "name": "stderr",
     "output_type": "stream",
     "text": [
      "\r",
      " 30%|██████████████████████▊                                                    | 304/1000 [3:44:46<8:28:23, 43.83s/it]"
     ]
    },
    {
     "name": "stdout",
     "output_type": "stream",
     "text": [
      "\t ----- reward: -33.95193212634592 for f_star and f_minus: 29.79565829848326 , 33.95193212634592\n",
      "\t ---------- State is:  (2, 7)\n",
      "[INFO] [2023-04-14 01:25:18,608] [OpenBox-SPO] Iteration 305, objective value: [34.43426827138845].\n"
     ]
    },
    {
     "name": "stderr",
     "output_type": "stream",
     "text": [
      "\r",
      " 30%|██████████████████████▉                                                    | 305/1000 [3:45:31<8:32:13, 44.22s/it]"
     ]
    },
    {
     "name": "stdout",
     "output_type": "stream",
     "text": [
      "\t ----- reward: -34.43426827138845 for f_star and f_minus: 29.79565829848326 , 34.43426827138845\n",
      "\t ---------- State is:  (3, 7)\n",
      "[INFO] [2023-04-14 01:26:04,947] [OpenBox-SPO] Iteration 306, objective value: [38.41198188135635].\n"
     ]
    },
    {
     "name": "stderr",
     "output_type": "stream",
     "text": [
      "\r",
      " 31%|██████████████████████▉                                                    | 306/1000 [3:46:17<8:38:50, 44.86s/it]"
     ]
    },
    {
     "name": "stdout",
     "output_type": "stream",
     "text": [
      "\t ----- reward: -38.41198188135635 for f_star and f_minus: 29.79565829848326 , 38.41198188135635\n",
      "\t ---------- State is:  (3, 7)\n",
      "[INFO] [2023-04-14 01:26:49,130] [OpenBox-SPO] Iteration 307, objective value: [41.47506728873039].\n"
     ]
    },
    {
     "name": "stderr",
     "output_type": "stream",
     "text": [
      "\r",
      " 31%|███████████████████████                                                    | 307/1000 [3:47:01<8:35:45, 44.65s/it]"
     ]
    },
    {
     "name": "stdout",
     "output_type": "stream",
     "text": [
      "\t ----- reward: -41.47506728873039 for f_star and f_minus: 29.79565829848326 , 41.47506728873039\n",
      "\t ---------- State is:  (3, 7)\n",
      "[INFO] [2023-04-14 01:26:49,130] [Advisor] Sample random config. rand_prob=0.100000.\n",
      "[INFO] [2023-04-14 01:27:16,175] [OpenBox-SPO] Iteration 308, objective value: [51.250945565115764].\n"
     ]
    },
    {
     "name": "stderr",
     "output_type": "stream",
     "text": [
      "\r",
      " 31%|███████████████████████                                                    | 308/1000 [3:47:29<7:34:05, 39.37s/it]"
     ]
    },
    {
     "name": "stdout",
     "output_type": "stream",
     "text": [
      "\t ----- reward: -51.250945565115764 for f_star and f_minus: 29.79565829848326 , 51.250945565115764\n",
      "\t ---------- State is:  (4, 8)\n",
      "[INFO] [2023-04-14 01:28:00,533] [OpenBox-SPO] Iteration 309, objective value: [34.020761636728395].\n"
     ]
    },
    {
     "name": "stderr",
     "output_type": "stream",
     "text": [
      "\r",
      " 31%|███████████████████████▏                                                   | 309/1000 [3:48:13<7:50:39, 40.87s/it]"
     ]
    },
    {
     "name": "stdout",
     "output_type": "stream",
     "text": [
      "\t ----- reward: -34.020761636728395 for f_star and f_minus: 29.79565829848326 , 34.020761636728395\n",
      "\t ---------- State is:  (4, 8)\n",
      "[INFO] [2023-04-14 01:28:43,485] [OpenBox-SPO] Iteration 310, objective value: [43.00632303146033].\n"
     ]
    },
    {
     "name": "stderr",
     "output_type": "stream",
     "text": [
      "\r",
      " 31%|███████████████████████▎                                                   | 310/1000 [3:48:56<7:57:10, 41.49s/it]"
     ]
    },
    {
     "name": "stdout",
     "output_type": "stream",
     "text": [
      "\t ----- reward: -43.00632303146033 for f_star and f_minus: 29.79565829848326 , 43.00632303146033\n",
      "\t ---------- State is:  (5, 8)\n",
      "[INFO] [2023-04-14 01:29:33,961] [OpenBox-SPO] Iteration 311, objective value: [35.21594733380431].\n"
     ]
    },
    {
     "name": "stderr",
     "output_type": "stream",
     "text": [
      "\r",
      " 31%|███████████████████████▎                                                   | 311/1000 [3:49:46<8:27:25, 44.19s/it]"
     ]
    },
    {
     "name": "stdout",
     "output_type": "stream",
     "text": [
      "\t ----- reward: -35.21594733380431 for f_star and f_minus: 29.79565829848326 , 35.21594733380431\n",
      "\t ---------- State is:  (6, 8)\n",
      "[INFO] [2023-04-14 01:30:20,198] [OpenBox-SPO] Iteration 312, objective value: [37.33518352582506].\n"
     ]
    },
    {
     "name": "stderr",
     "output_type": "stream",
     "text": [
      "\r",
      " 31%|███████████████████████▍                                                   | 312/1000 [3:50:33<8:33:44, 44.80s/it]"
     ]
    },
    {
     "name": "stdout",
     "output_type": "stream",
     "text": [
      "\t ----- reward: -37.33518352582506 for f_star and f_minus: 29.79565829848326 , 37.33518352582506\n",
      "\t ---------- State is:  (5, 8)\n",
      "[INFO] [2023-04-14 01:31:00,927] [OpenBox-SPO] Iteration 313, objective value: [41.87059511957557].\n"
     ]
    },
    {
     "name": "stderr",
     "output_type": "stream",
     "text": [
      "\r",
      " 31%|███████████████████████▍                                                   | 313/1000 [3:51:13<8:18:59, 43.58s/it]"
     ]
    },
    {
     "name": "stdout",
     "output_type": "stream",
     "text": [
      "\t ----- reward: -41.87059511957557 for f_star and f_minus: 29.79565829848326 , 41.87059511957557\n",
      "\t ---------- State is:  (4, 9)\n",
      "[INFO] [2023-04-14 01:31:47,233] [OpenBox-SPO] Iteration 314, objective value: [33.255348234023984].\n"
     ]
    },
    {
     "name": "stderr",
     "output_type": "stream",
     "text": [
      "\r",
      " 31%|███████████████████████▌                                                   | 314/1000 [3:52:00<8:27:37, 44.40s/it]"
     ]
    },
    {
     "name": "stdout",
     "output_type": "stream",
     "text": [
      "\t ----- reward: -33.255348234023984 for f_star and f_minus: 29.79565829848326 , 33.255348234023984\n",
      "\t ---------- State is:  (5, 8)\n",
      "[INFO] [2023-04-14 01:32:36,708] [OpenBox-SPO] Iteration 315, objective value: [32.61160723664871].\n"
     ]
    },
    {
     "name": "stderr",
     "output_type": "stream",
     "text": [
      "\r",
      " 32%|███████████████████████▋                                                   | 315/1000 [3:52:49<8:44:15, 45.92s/it]"
     ]
    },
    {
     "name": "stdout",
     "output_type": "stream",
     "text": [
      "\t ----- reward: -32.61160723664871 for f_star and f_minus: 29.79565829848326 , 32.61160723664871\n",
      "\t ---------- State is:  (6, 8)\n",
      "[INFO] [2023-04-14 01:33:25,911] [OpenBox-SPO] Iteration 316, objective value: [32.96398261360227].\n"
     ]
    },
    {
     "name": "stderr",
     "output_type": "stream",
     "text": [
      "\r",
      " 32%|███████████████████████▋                                                   | 316/1000 [3:53:38<8:54:43, 46.91s/it]"
     ]
    },
    {
     "name": "stdout",
     "output_type": "stream",
     "text": [
      "\t ----- reward: -32.96398261360227 for f_star and f_minus: 29.79565829848326 , 32.96398261360227\n",
      "\t ---------- State is:  (6, 8)\n",
      "[INFO] [2023-04-14 01:33:25,911] [Advisor] Sample random config. rand_prob=0.100000.\n",
      "[INFO] [2023-04-14 01:33:53,575] [OpenBox-SPO] Iteration 317, objective value: [61.37868996099403].\n"
     ]
    },
    {
     "name": "stderr",
     "output_type": "stream",
     "text": [
      "\r",
      " 32%|███████████████████████▊                                                   | 317/1000 [3:54:06<7:48:14, 41.13s/it]"
     ]
    },
    {
     "name": "stdout",
     "output_type": "stream",
     "text": [
      "\t ----- reward: -61.37868996099403 for f_star and f_minus: 29.79565829848326 , 61.37868996099403\n",
      "\t ---------- State is:  (5, 9)\n",
      "[INFO] [2023-04-14 01:34:37,832] [OpenBox-SPO] Iteration 318, objective value: [37.228738796613804].\n"
     ]
    },
    {
     "name": "stderr",
     "output_type": "stream",
     "text": [
      "\r",
      " 32%|███████████████████████▊                                                   | 318/1000 [3:54:50<7:58:11, 42.07s/it]"
     ]
    },
    {
     "name": "stdout",
     "output_type": "stream",
     "text": [
      "\t ----- reward: -37.228738796613804 for f_star and f_minus: 29.79565829848326 , 37.228738796613804\n",
      "\t ---------- State is:  (5, 9)\n",
      "[INFO] [2023-04-14 01:35:24,778] [OpenBox-SPO] Iteration 319, objective value: [37.00232789325517].\n"
     ]
    },
    {
     "name": "stderr",
     "output_type": "stream",
     "text": [
      "\r",
      " 32%|███████████████████████▉                                                   | 319/1000 [3:55:37<8:14:06, 43.53s/it]"
     ]
    },
    {
     "name": "stdout",
     "output_type": "stream",
     "text": [
      "\t ----- reward: -37.00232789325517 for f_star and f_minus: 29.79565829848326 , 37.00232789325517\n",
      "\t ---------- State is:  (5, 9)\n",
      "[INFO] [2023-04-14 01:36:11,822] [OpenBox-SPO] Iteration 320, objective value: [29.81437851714452].\n"
     ]
    },
    {
     "name": "stderr",
     "output_type": "stream",
     "text": [
      "\r",
      " 32%|████████████████████████                                                   | 320/1000 [3:56:24<8:25:18, 44.59s/it]"
     ]
    },
    {
     "name": "stdout",
     "output_type": "stream",
     "text": [
      "\t ----- reward: -29.81437851714452 for f_star and f_minus: 29.79565829848326 , 29.81437851714452\n",
      "\t ---------- State is:  (6, 9)\n",
      "[INFO] [2023-04-14 01:36:11,822] [Advisor] Sample random config. rand_prob=0.100000.\n",
      "[INFO] [2023-04-14 01:36:38,447] [OpenBox-SPO] Iteration 321, objective value: [58.58038028136039].\n"
     ]
    },
    {
     "name": "stderr",
     "output_type": "stream",
     "text": [
      "\r",
      " 32%|████████████████████████                                                   | 321/1000 [3:56:51<7:23:35, 39.20s/it]"
     ]
    },
    {
     "name": "stdout",
     "output_type": "stream",
     "text": [
      "\t ----- reward: -58.58038028136039 for f_star and f_minus: 29.79565829848326 , 58.58038028136039\n",
      "\t ---------- State is:  (6, 10)\n",
      "[INFO] [2023-04-14 01:37:27,301] [OpenBox-SPO] Iteration 322, objective value: [39.44744376495378].\n"
     ]
    },
    {
     "name": "stderr",
     "output_type": "stream",
     "text": [
      "\r",
      " 32%|████████████████████████▏                                                  | 322/1000 [3:57:40<7:55:40, 42.09s/it]"
     ]
    },
    {
     "name": "stdout",
     "output_type": "stream",
     "text": [
      "\t ----- reward: -39.44744376495378 for f_star and f_minus: 29.79565829848326 , 39.44744376495378\n",
      "\t ---------- State is:  (5, 10)\n",
      "[INFO] [2023-04-14 01:38:09,161] [OpenBox-SPO] Iteration 323, objective value: [37.56551571944466].\n"
     ]
    },
    {
     "name": "stderr",
     "output_type": "stream",
     "text": [
      "\r",
      " 32%|████████████████████████▏                                                  | 323/1000 [3:58:21<7:54:10, 42.02s/it]"
     ]
    },
    {
     "name": "stdout",
     "output_type": "stream",
     "text": [
      "\t ----- reward: -37.56551571944466 for f_star and f_minus: 29.79565829848326 , 37.56551571944466\n",
      "\t ---------- State is:  (6, 10)\n",
      "[INFO] [2023-04-14 01:38:09,161] [Advisor] Sample random config. rand_prob=0.100000.\n",
      "[INFO] [2023-04-14 01:38:43,406] [OpenBox-SPO] Iteration 324, objective value: [50.64966493942157].\n"
     ]
    },
    {
     "name": "stderr",
     "output_type": "stream",
     "text": [
      "\r",
      " 32%|████████████████████████▎                                                  | 324/1000 [3:58:56<7:27:10, 39.69s/it]"
     ]
    },
    {
     "name": "stdout",
     "output_type": "stream",
     "text": [
      "\t ----- reward: -50.64966493942157 for f_star and f_minus: 29.79565829848326 , 50.64966493942157\n",
      "\t ---------- State is:  (6, 11)\n",
      "[INFO] [2023-04-14 01:39:34,170] [OpenBox-SPO] Iteration 325, objective value: [41.43768809632993].\n"
     ]
    },
    {
     "name": "stderr",
     "output_type": "stream",
     "text": [
      "\r",
      " 32%|████████████████████████▍                                                  | 325/1000 [3:59:47<8:03:53, 43.01s/it]"
     ]
    },
    {
     "name": "stdout",
     "output_type": "stream",
     "text": [
      "\t ----- reward: -41.43768809632993 for f_star and f_minus: 29.79565829848326 , 41.43768809632993\n",
      "\t ---------- State is:  (7, 11)\n",
      "[INFO] [2023-04-14 01:40:17,642] [OpenBox-SPO] Iteration 326, objective value: [44.5706470822556].\n"
     ]
    },
    {
     "name": "stderr",
     "output_type": "stream",
     "text": [
      "\r",
      " 33%|████████████████████████▍                                                  | 326/1000 [4:00:30<8:04:46, 43.15s/it]"
     ]
    },
    {
     "name": "stdout",
     "output_type": "stream",
     "text": [
      "\t ----- reward: -44.5706470822556 for f_star and f_minus: 29.79565829848326 , 44.5706470822556\n",
      "\t ---------- State is:  (7, 11)\n",
      "[INFO] [2023-04-14 01:40:58,269] [OpenBox-SPO] Iteration 327, objective value: [32.314320470328].\n"
     ]
    },
    {
     "name": "stderr",
     "output_type": "stream",
     "text": [
      "\r",
      " 33%|████████████████████████▌                                                  | 327/1000 [4:01:11<7:55:29, 42.39s/it]"
     ]
    },
    {
     "name": "stdout",
     "output_type": "stream",
     "text": [
      "\t ----- reward: -32.314320470328 for f_star and f_minus: 29.79565829848326 , 32.314320470328\n",
      "\t ---------- State is:  (8, 11)\n",
      "[INFO] [2023-04-14 01:41:44,913] [OpenBox-SPO] Iteration 328, objective value: [33.777944828281235].\n"
     ]
    },
    {
     "name": "stderr",
     "output_type": "stream",
     "text": [
      "\r",
      " 33%|████████████████████████▌                                                  | 328/1000 [4:01:57<8:09:04, 43.67s/it]"
     ]
    },
    {
     "name": "stdout",
     "output_type": "stream",
     "text": [
      "\t ----- reward: -33.777944828281235 for f_star and f_minus: 29.79565829848326 , 33.777944828281235\n",
      "\t ---------- State is:  (9, 10)\n",
      "[INFO] [2023-04-14 01:42:36,282] [OpenBox-SPO] Iteration 329, objective value: [34.51147724087086].\n"
     ]
    },
    {
     "name": "stderr",
     "output_type": "stream",
     "text": [
      "\r",
      " 33%|████████████████████████▋                                                  | 329/1000 [4:02:49<8:34:11, 45.98s/it]"
     ]
    },
    {
     "name": "stdout",
     "output_type": "stream",
     "text": [
      "\t ----- reward: -34.51147724087086 for f_star and f_minus: 29.79565829848326 , 34.51147724087086\n",
      "\t ---------- State is:  (9, 10)\n",
      "[INFO] [2023-04-14 01:43:21,661] [OpenBox-SPO] Iteration 330, objective value: [32.650783824026476].\n"
     ]
    },
    {
     "name": "stderr",
     "output_type": "stream",
     "text": [
      "\r",
      " 33%|████████████████████████▊                                                  | 330/1000 [4:03:34<8:31:27, 45.80s/it]"
     ]
    },
    {
     "name": "stdout",
     "output_type": "stream",
     "text": [
      "\t ----- reward: -32.650783824026476 for f_star and f_minus: 29.79565829848326 , 32.650783824026476\n",
      "\t ---------- State is:  (10, 10)\n",
      "[INFO] [2023-04-14 01:44:11,038] [OpenBox-SPO] Iteration 331, objective value: [38.76888932854542].\n"
     ]
    },
    {
     "name": "stderr",
     "output_type": "stream",
     "text": [
      "\r",
      " 33%|████████████████████████▊                                                  | 331/1000 [4:04:23<8:42:36, 46.87s/it]"
     ]
    },
    {
     "name": "stdout",
     "output_type": "stream",
     "text": [
      "\t ----- reward: -38.76888932854542 for f_star and f_minus: 29.79565829848326 , 38.76888932854542\n",
      "\t ---------- State is:  (9, 9)\n",
      "[INFO] [2023-04-14 01:45:01,108] [OpenBox-SPO] Iteration 332, objective value: [31.82632430373178].\n"
     ]
    },
    {
     "name": "stderr",
     "output_type": "stream",
     "text": [
      "\r",
      " 33%|████████████████████████▉                                                  | 332/1000 [4:05:13<8:52:30, 47.83s/it]"
     ]
    },
    {
     "name": "stdout",
     "output_type": "stream",
     "text": [
      "\t ----- reward: -31.82632430373178 for f_star and f_minus: 29.79565829848326 , 31.82632430373178\n",
      "\t ---------- State is:  (10, 9)\n",
      "[INFO] [2023-04-14 01:45:55,158] [OpenBox-SPO] Iteration 333, objective value: [33.41808789524217].\n"
     ]
    },
    {
     "name": "stderr",
     "output_type": "stream",
     "text": [
      "\r",
      " 33%|████████████████████████▉                                                  | 333/1000 [4:06:07<9:12:27, 49.70s/it]"
     ]
    },
    {
     "name": "stdout",
     "output_type": "stream",
     "text": [
      "\t ----- reward: -33.41808789524217 for f_star and f_minus: 29.79565829848326 , 33.41808789524217\n",
      "\t ---------- State is:  (10, 9)\n",
      "[INFO] [2023-04-14 01:46:46,888] [OpenBox-SPO] Iteration 334, objective value: [28.24500685071078].\n"
     ]
    },
    {
     "name": "stderr",
     "output_type": "stream",
     "text": [
      "\r",
      " 33%|█████████████████████████                                                  | 334/1000 [4:06:59<9:18:24, 50.31s/it]"
     ]
    },
    {
     "name": "stdout",
     "output_type": "stream",
     "text": [
      "\t ----- reward: -28.24500685071078 for f_star and f_minus: 29.79565829848326 , 28.24500685071078\n",
      "\t ---------- State is:  (9, 8)\n",
      "[INFO] [2023-04-14 01:47:29,927] [OpenBox-SPO] Iteration 335, objective value: [37.982250752679505].\n"
     ]
    },
    {
     "name": "stderr",
     "output_type": "stream",
     "text": [
      "\r",
      " 34%|█████████████████████████▏                                                 | 335/1000 [4:07:42<8:53:23, 48.13s/it]"
     ]
    },
    {
     "name": "stdout",
     "output_type": "stream",
     "text": [
      "\t ----- reward: -37.982250752679505 for f_star and f_minus: 28.24500685071078 , 37.982250752679505\n",
      "\t ---------- State is:  (10, 10)\n",
      "[INFO] [2023-04-14 01:48:23,234] [OpenBox-SPO] Iteration 336, objective value: [37.33525525791407].\n"
     ]
    },
    {
     "name": "stderr",
     "output_type": "stream",
     "text": [
      "\r",
      " 34%|█████████████████████████▏                                                 | 336/1000 [4:08:36<9:09:47, 49.68s/it]"
     ]
    },
    {
     "name": "stdout",
     "output_type": "stream",
     "text": [
      "\t ----- reward: -37.33525525791407 for f_star and f_minus: 28.24500685071078 , 37.33525525791407\n",
      "\t ---------- State is:  (10, 10)\n",
      "[INFO] [2023-04-14 01:49:16,700] [OpenBox-SPO] Iteration 337, objective value: [33.62340621843086].\n"
     ]
    },
    {
     "name": "stderr",
     "output_type": "stream",
     "text": [
      "\r",
      " 34%|█████████████████████████▎                                                 | 337/1000 [4:09:29<9:21:31, 50.82s/it]"
     ]
    },
    {
     "name": "stdout",
     "output_type": "stream",
     "text": [
      "\t ----- reward: -33.62340621843086 for f_star and f_minus: 28.24500685071078 , 33.62340621843086\n",
      "\t ---------- State is:  (10, 10)\n",
      "[INFO] [2023-04-14 01:50:06,710] [OpenBox-SPO] Iteration 338, objective value: [35.80433457568239].\n"
     ]
    },
    {
     "name": "stderr",
     "output_type": "stream",
     "text": [
      "\r",
      " 34%|█████████████████████████▎                                                 | 338/1000 [4:10:19<9:18:00, 50.57s/it]"
     ]
    },
    {
     "name": "stdout",
     "output_type": "stream",
     "text": [
      "\t ----- reward: -35.80433457568239 for f_star and f_minus: 28.24500685071078 , 35.80433457568239\n",
      "\t ---------- State is:  (10, 9)\n",
      "[INFO] [2023-04-14 01:50:54,339] [OpenBox-SPO] Iteration 339, objective value: [37.032516719810936].\n"
     ]
    },
    {
     "name": "stderr",
     "output_type": "stream",
     "text": [
      "\r",
      " 34%|█████████████████████████▍                                                 | 339/1000 [4:11:07<9:07:25, 49.69s/it]"
     ]
    },
    {
     "name": "stdout",
     "output_type": "stream",
     "text": [
      "\t ----- reward: -37.032516719810936 for f_star and f_minus: 28.24500685071078 , 37.032516719810936\n",
      "\t ---------- State is:  (10, 9)\n",
      "[INFO] [2023-04-14 01:50:54,339] [Advisor] Sample random config. rand_prob=0.100000.\n",
      "[INFO] [2023-04-14 01:51:22,895] [OpenBox-SPO] Iteration 340, objective value: [64.43216559132281].\n"
     ]
    },
    {
     "name": "stderr",
     "output_type": "stream",
     "text": [
      "\r",
      " 34%|█████████████████████████▌                                                 | 340/1000 [4:11:35<7:56:51, 43.35s/it]"
     ]
    },
    {
     "name": "stdout",
     "output_type": "stream",
     "text": [
      "\t ----- reward: -64.43216559132281 for f_star and f_minus: 28.24500685071078 , 64.43216559132281\n",
      "\t ---------- State is:  (10, 10)\n",
      "[INFO] [2023-04-14 01:52:07,899] [OpenBox-SPO] Iteration 341, objective value: [35.44398624692634].\n"
     ]
    },
    {
     "name": "stderr",
     "output_type": "stream",
     "text": [
      "\r",
      " 34%|█████████████████████████▌                                                 | 341/1000 [4:12:20<8:01:34, 43.85s/it]"
     ]
    },
    {
     "name": "stdout",
     "output_type": "stream",
     "text": [
      "\t ----- reward: -35.44398624692634 for f_star and f_minus: 28.24500685071078 , 35.44398624692634\n",
      "\t ---------- State is:  (9, 10)\n",
      "[INFO] [2023-04-14 01:52:57,303] [OpenBox-SPO] Iteration 342, objective value: [39.13990634972853].\n"
     ]
    },
    {
     "name": "stderr",
     "output_type": "stream",
     "text": [
      "\r",
      " 34%|█████████████████████████▋                                                 | 342/1000 [4:13:10<8:19:08, 45.51s/it]"
     ]
    },
    {
     "name": "stdout",
     "output_type": "stream",
     "text": [
      "\t ----- reward: -39.13990634972853 for f_star and f_minus: 28.24500685071078 , 39.13990634972853\n",
      "\t ---------- State is:  (10, 10)\n",
      "[INFO] [2023-04-14 01:53:45,578] [OpenBox-SPO] Iteration 343, objective value: [39.83463090629027].\n"
     ]
    },
    {
     "name": "stderr",
     "output_type": "stream",
     "text": [
      "\r",
      " 34%|█████████████████████████▋                                                 | 343/1000 [4:13:58<8:27:26, 46.34s/it]"
     ]
    },
    {
     "name": "stdout",
     "output_type": "stream",
     "text": [
      "\t ----- reward: -39.83463090629027 for f_star and f_minus: 28.24500685071078 , 39.83463090629027\n",
      "\t ---------- State is:  (10, 10)\n",
      "[INFO] [2023-04-14 01:54:33,739] [OpenBox-SPO] Iteration 344, objective value: [43.42167217852661].\n"
     ]
    },
    {
     "name": "stderr",
     "output_type": "stream",
     "text": [
      "\r",
      " 34%|█████████████████████████▊                                                 | 344/1000 [4:14:46<8:32:38, 46.89s/it]"
     ]
    },
    {
     "name": "stdout",
     "output_type": "stream",
     "text": [
      "\t ----- reward: -43.42167217852661 for f_star and f_minus: 28.24500685071078 , 43.42167217852661\n",
      "\t ---------- State is:  (10, 10)\n",
      "[INFO] [2023-04-14 01:55:18,952] [OpenBox-SPO] Iteration 345, objective value: [39.840470818705434].\n"
     ]
    },
    {
     "name": "stderr",
     "output_type": "stream",
     "text": [
      "\r",
      " 34%|█████████████████████████▊                                                 | 345/1000 [4:15:31<8:26:22, 46.39s/it]"
     ]
    },
    {
     "name": "stdout",
     "output_type": "stream",
     "text": [
      "\t ----- reward: -39.840470818705434 for f_star and f_minus: 28.24500685071078 , 39.840470818705434\n",
      "\t ---------- State is:  (9, 11)\n",
      "[INFO] [2023-04-14 01:56:04,855] [OpenBox-SPO] Iteration 346, objective value: [41.74834637089264].\n"
     ]
    },
    {
     "name": "stderr",
     "output_type": "stream",
     "text": [
      "\r",
      " 35%|█████████████████████████▉                                                 | 346/1000 [4:16:17<8:24:01, 46.24s/it]"
     ]
    },
    {
     "name": "stdout",
     "output_type": "stream",
     "text": [
      "\t ----- reward: -41.74834637089264 for f_star and f_minus: 28.24500685071078 , 41.74834637089264\n",
      "\t ---------- State is:  (9, 11)\n",
      "[INFO] [2023-04-14 01:56:52,654] [OpenBox-SPO] Iteration 347, objective value: [37.247708494191635].\n"
     ]
    },
    {
     "name": "stderr",
     "output_type": "stream",
     "text": [
      "\r",
      " 35%|██████████████████████████                                                 | 347/1000 [4:17:05<8:28:20, 46.71s/it]"
     ]
    },
    {
     "name": "stdout",
     "output_type": "stream",
     "text": [
      "\t ----- reward: -37.247708494191635 for f_star and f_minus: 28.24500685071078 , 37.247708494191635\n",
      "\t ---------- State is:  (9, 10)\n",
      "[INFO] [2023-04-14 01:56:52,654] [Advisor] Sample random config. rand_prob=0.100000.\n",
      "[INFO] [2023-04-14 01:57:19,952] [OpenBox-SPO] Iteration 348, objective value: [59.13882589670701].\n"
     ]
    },
    {
     "name": "stderr",
     "output_type": "stream",
     "text": [
      "\r",
      " 35%|██████████████████████████                                                 | 348/1000 [4:17:32<7:24:20, 40.89s/it]"
     ]
    },
    {
     "name": "stdout",
     "output_type": "stream",
     "text": [
      "\t ----- reward: -59.13882589670701 for f_star and f_minus: 28.24500685071078 , 59.13882589670701\n",
      "\t ---------- State is:  (8, 11)\n",
      "[INFO] [2023-04-14 01:58:05,771] [OpenBox-SPO] Iteration 349, objective value: [40.149785463616574].\n"
     ]
    },
    {
     "name": "stderr",
     "output_type": "stream",
     "text": [
      "\r",
      " 35%|██████████████████████████▏                                                | 349/1000 [4:18:18<7:39:38, 42.36s/it]"
     ]
    },
    {
     "name": "stdout",
     "output_type": "stream",
     "text": [
      "\t ----- reward: -40.149785463616574 for f_star and f_minus: 28.24500685071078 , 40.149785463616574\n",
      "\t ---------- State is:  (7, 11)\n",
      "[INFO] [2023-04-14 01:58:58,758] [OpenBox-SPO] Iteration 350, objective value: [32.73234358635689].\n"
     ]
    },
    {
     "name": "stderr",
     "output_type": "stream",
     "text": [
      "\r",
      " 35%|██████████████████████████▎                                                | 350/1000 [4:19:11<8:13:27, 45.55s/it]"
     ]
    },
    {
     "name": "stdout",
     "output_type": "stream",
     "text": [
      "\t ----- reward: -32.73234358635689 for f_star and f_minus: 28.24500685071078 , 32.73234358635689\n",
      "\t ---------- State is:  (8, 11)\n",
      "[INFO] [2023-04-14 01:59:41,730] [OpenBox-SPO] Iteration 351, objective value: [42.589443513651034].\n"
     ]
    },
    {
     "name": "stderr",
     "output_type": "stream",
     "text": [
      "\r",
      " 35%|██████████████████████████▎                                                | 351/1000 [4:19:54<8:04:20, 44.78s/it]"
     ]
    },
    {
     "name": "stdout",
     "output_type": "stream",
     "text": [
      "\t ----- reward: -42.589443513651034 for f_star and f_minus: 28.24500685071078 , 42.589443513651034\n",
      "\t ---------- State is:  (8, 10)\n",
      "[INFO] [2023-04-14 01:59:41,730] [Advisor] Sample random config. rand_prob=0.100000.\n",
      "[INFO] [2023-04-14 02:00:10,216] [OpenBox-SPO] Iteration 352, objective value: [57.97787203450338].\n"
     ]
    },
    {
     "name": "stderr",
     "output_type": "stream",
     "text": [
      "\r",
      " 35%|██████████████████████████▍                                                | 352/1000 [4:20:23<7:10:48, 39.89s/it]"
     ]
    },
    {
     "name": "stdout",
     "output_type": "stream",
     "text": [
      "\t ----- reward: -57.97787203450338 for f_star and f_minus: 28.24500685071078 , 57.97787203450338\n",
      "\t ---------- State is:  (7, 11)\n",
      "[INFO] [2023-04-14 02:00:58,627] [OpenBox-SPO] Iteration 353, objective value: [39.61881823824393].\n"
     ]
    },
    {
     "name": "stderr",
     "output_type": "stream",
     "text": [
      "\r",
      " 35%|██████████████████████████▍                                                | 353/1000 [4:21:11<7:37:42, 42.45s/it]"
     ]
    },
    {
     "name": "stdout",
     "output_type": "stream",
     "text": [
      "\t ----- reward: -39.61881823824393 for f_star and f_minus: 28.24500685071078 , 39.61881823824393\n",
      "\t ---------- State is:  (7, 11)\n",
      "[INFO] [2023-04-14 02:01:48,371] [OpenBox-SPO] Iteration 354, objective value: [35.109869742108174].\n"
     ]
    },
    {
     "name": "stderr",
     "output_type": "stream",
     "text": [
      "\r",
      " 35%|██████████████████████████▌                                                | 354/1000 [4:22:01<8:00:34, 44.64s/it]"
     ]
    },
    {
     "name": "stdout",
     "output_type": "stream",
     "text": [
      "\t ----- reward: -35.109869742108174 for f_star and f_minus: 28.24500685071078 , 35.109869742108174\n",
      "\t ---------- State is:  (8, 11)\n",
      "[INFO] [2023-04-14 02:02:38,354] [OpenBox-SPO] Iteration 355, objective value: [29.451653390454453].\n"
     ]
    },
    {
     "name": "stderr",
     "output_type": "stream",
     "text": [
      "\r",
      " 36%|██████████████████████████▋                                                | 355/1000 [4:22:51<8:17:04, 46.24s/it]"
     ]
    },
    {
     "name": "stdout",
     "output_type": "stream",
     "text": [
      "\t ----- reward: -29.451653390454453 for f_star and f_minus: 28.24500685071078 , 29.451653390454453\n",
      "\t ---------- State is:  (9, 10)\n",
      "[INFO] [2023-04-14 02:03:22,614] [OpenBox-SPO] Iteration 356, objective value: [32.268697143712615].\n"
     ]
    },
    {
     "name": "stderr",
     "output_type": "stream",
     "text": [
      "\r",
      " 36%|██████████████████████████▋                                                | 356/1000 [4:23:35<8:09:55, 45.65s/it]"
     ]
    },
    {
     "name": "stdout",
     "output_type": "stream",
     "text": [
      "\t ----- reward: -32.268697143712615 for f_star and f_minus: 28.24500685071078 , 32.268697143712615\n",
      "\t ---------- State is:  (10, 10)\n",
      "[INFO] [2023-04-14 02:04:10,807] [OpenBox-SPO] Iteration 357, objective value: [44.123345648139676].\n"
     ]
    },
    {
     "name": "stderr",
     "output_type": "stream",
     "text": [
      "\r",
      " 36%|██████████████████████████▊                                                | 357/1000 [4:24:23<8:17:21, 46.41s/it]"
     ]
    },
    {
     "name": "stdout",
     "output_type": "stream",
     "text": [
      "\t ----- reward: -44.123345648139676 for f_star and f_minus: 28.24500685071078 , 44.123345648139676\n",
      "\t ---------- State is:  (10, 10)\n",
      "[INFO] [2023-04-14 02:05:00,054] [OpenBox-SPO] Iteration 358, objective value: [35.23562427951991].\n"
     ]
    },
    {
     "name": "stderr",
     "output_type": "stream",
     "text": [
      "\r",
      " 36%|██████████████████████████▊                                                | 358/1000 [4:25:12<8:25:41, 47.26s/it]"
     ]
    },
    {
     "name": "stdout",
     "output_type": "stream",
     "text": [
      "\t ----- reward: -35.23562427951991 for f_star and f_minus: 28.24500685071078 , 35.23562427951991\n",
      "\t ---------- State is:  (9, 10)\n",
      "[INFO] [2023-04-14 02:05:53,298] [OpenBox-SPO] Iteration 359, objective value: [30.637879225329485].\n"
     ]
    },
    {
     "name": "stderr",
     "output_type": "stream",
     "text": [
      "\r",
      " 36%|██████████████████████████▉                                                | 359/1000 [4:26:06<8:44:04, 49.06s/it]"
     ]
    },
    {
     "name": "stdout",
     "output_type": "stream",
     "text": [
      "\t ----- reward: -30.637879225329485 for f_star and f_minus: 28.24500685071078 , 30.637879225329485\n",
      "\t ---------- State is:  (9, 10)\n",
      "[INFO] [2023-04-14 02:06:44,862] [OpenBox-SPO] Iteration 360, objective value: [33.99835155493338].\n"
     ]
    },
    {
     "name": "stderr",
     "output_type": "stream",
     "text": [
      "\r",
      " 36%|███████████████████████████                                                | 360/1000 [4:26:57<8:51:17, 49.81s/it]"
     ]
    },
    {
     "name": "stdout",
     "output_type": "stream",
     "text": [
      "\t ----- reward: -33.99835155493338 for f_star and f_minus: 28.24500685071078 , 33.99835155493338\n",
      "\t ---------- State is:  (8, 10)\n",
      "[INFO] [2023-04-14 02:07:34,954] [OpenBox-SPO] Iteration 361, objective value: [41.63216098467003].\n"
     ]
    },
    {
     "name": "stderr",
     "output_type": "stream",
     "text": [
      "\r",
      " 36%|███████████████████████████                                                | 361/1000 [4:27:47<8:51:21, 49.89s/it]"
     ]
    },
    {
     "name": "stdout",
     "output_type": "stream",
     "text": [
      "\t ----- reward: -41.63216098467003 for f_star and f_minus: 28.24500685071078 , 41.63216098467003\n",
      "\t ---------- State is:  (9, 10)\n",
      "[INFO] [2023-04-14 02:08:25,109] [OpenBox-SPO] Iteration 362, objective value: [32.485319748992055].\n"
     ]
    },
    {
     "name": "stderr",
     "output_type": "stream",
     "text": [
      "\r",
      " 36%|███████████████████████████▏                                               | 362/1000 [4:28:37<8:51:22, 49.97s/it]"
     ]
    },
    {
     "name": "stdout",
     "output_type": "stream",
     "text": [
      "\t ----- reward: -32.485319748992055 for f_star and f_minus: 28.24500685071078 , 32.485319748992055\n",
      "\t ---------- State is:  (9, 10)\n",
      "[INFO] [2023-04-14 02:09:12,135] [OpenBox-SPO] Iteration 363, objective value: [34.78603086838358].\n"
     ]
    },
    {
     "name": "stderr",
     "output_type": "stream",
     "text": [
      "\r",
      " 36%|███████████████████████████▏                                               | 363/1000 [4:29:24<8:41:09, 49.09s/it]"
     ]
    },
    {
     "name": "stdout",
     "output_type": "stream",
     "text": [
      "\t ----- reward: -34.78603086838358 for f_star and f_minus: 28.24500685071078 , 34.78603086838358\n",
      "\t ---------- State is:  (9, 10)\n",
      "[INFO] [2023-04-14 02:09:58,883] [OpenBox-SPO] Iteration 364, objective value: [31.7968092233164].\n"
     ]
    },
    {
     "name": "stderr",
     "output_type": "stream",
     "text": [
      "\r",
      " 36%|███████████████████████████▎                                               | 364/1000 [4:30:11<8:32:53, 48.39s/it]"
     ]
    },
    {
     "name": "stdout",
     "output_type": "stream",
     "text": [
      "\t ----- reward: -31.7968092233164 for f_star and f_minus: 28.24500685071078 , 31.7968092233164\n",
      "\t ---------- State is:  (8, 10)\n",
      "[INFO] [2023-04-14 02:10:51,535] [OpenBox-SPO] Iteration 365, objective value: [36.80329375587359].\n"
     ]
    },
    {
     "name": "stderr",
     "output_type": "stream",
     "text": [
      "\r",
      " 36%|███████████████████████████▍                                               | 365/1000 [4:31:04<8:45:37, 49.67s/it]"
     ]
    },
    {
     "name": "stdout",
     "output_type": "stream",
     "text": [
      "\t ----- reward: -36.80329375587359 for f_star and f_minus: 28.24500685071078 , 36.80329375587359\n",
      "\t ---------- State is:  (7, 10)\n",
      "[INFO] [2023-04-14 02:11:43,922] [OpenBox-SPO] Iteration 366, objective value: [40.296567745681486].\n"
     ]
    },
    {
     "name": "stderr",
     "output_type": "stream",
     "text": [
      "\r",
      " 37%|███████████████████████████▍                                               | 366/1000 [4:31:56<8:53:25, 50.48s/it]"
     ]
    },
    {
     "name": "stdout",
     "output_type": "stream",
     "text": [
      "\t ----- reward: -40.296567745681486 for f_star and f_minus: 28.24500685071078 , 40.296567745681486\n",
      "\t ---------- State is:  (7, 11)\n",
      "[INFO] [2023-04-14 02:12:37,295] [OpenBox-SPO] Iteration 367, objective value: [38.20345582906705].\n"
     ]
    },
    {
     "name": "stderr",
     "output_type": "stream",
     "text": [
      "\r",
      " 37%|███████████████████████████▌                                               | 367/1000 [4:32:50<9:01:44, 51.35s/it]"
     ]
    },
    {
     "name": "stdout",
     "output_type": "stream",
     "text": [
      "\t ----- reward: -38.20345582906705 for f_star and f_minus: 28.24500685071078 , 38.20345582906705\n",
      "\t ---------- State is:  (6, 11)\n",
      "[INFO] [2023-04-14 02:12:37,295] [Advisor] Sample random config. rand_prob=0.100000.\n",
      "[INFO] [2023-04-14 02:13:08,694] [OpenBox-SPO] Iteration 368, objective value: [57.13087420292376].\n"
     ]
    },
    {
     "name": "stderr",
     "output_type": "stream",
     "text": [
      "\r",
      " 37%|███████████████████████████▌                                               | 368/1000 [4:33:21<7:57:50, 45.36s/it]"
     ]
    },
    {
     "name": "stdout",
     "output_type": "stream",
     "text": [
      "\t ----- reward: -57.13087420292376 for f_star and f_minus: 28.24500685071078 , 57.13087420292376\n",
      "\t ---------- State is:  (6, 11)\n",
      "[INFO] [2023-04-14 02:14:00,028] [OpenBox-SPO] Iteration 369, objective value: [44.77611432478774].\n"
     ]
    },
    {
     "name": "stderr",
     "output_type": "stream",
     "text": [
      "\r",
      " 37%|███████████████████████████▋                                               | 369/1000 [4:34:12<8:15:54, 47.16s/it]"
     ]
    },
    {
     "name": "stdout",
     "output_type": "stream",
     "text": [
      "\t ----- reward: -44.77611432478774 for f_star and f_minus: 28.24500685071078 , 44.77611432478774\n",
      "\t ---------- State is:  (5, 12)\n",
      "[INFO] [2023-04-14 02:14:46,075] [OpenBox-SPO] Iteration 370, objective value: [32.91775980178299].\n"
     ]
    },
    {
     "name": "stderr",
     "output_type": "stream",
     "text": [
      "\r",
      " 37%|███████████████████████████▊                                               | 370/1000 [4:34:58<8:11:38, 46.82s/it]"
     ]
    },
    {
     "name": "stdout",
     "output_type": "stream",
     "text": [
      "\t ----- reward: -32.91775980178299 for f_star and f_minus: 28.24500685071078 , 32.91775980178299\n",
      "\t ---------- State is:  (6, 11)\n",
      "[INFO] [2023-04-14 02:15:31,871] [OpenBox-SPO] Iteration 371, objective value: [37.04829341877366].\n"
     ]
    },
    {
     "name": "stderr",
     "output_type": "stream",
     "text": [
      "\r",
      " 37%|███████████████████████████▊                                               | 371/1000 [4:35:44<8:07:37, 46.51s/it]"
     ]
    },
    {
     "name": "stdout",
     "output_type": "stream",
     "text": [
      "\t ----- reward: -37.04829341877366 for f_star and f_minus: 28.24500685071078 , 37.04829341877366\n",
      "\t ---------- State is:  (7, 11)\n",
      "[INFO] [2023-04-14 02:15:31,871] [Advisor] Sample random config. rand_prob=0.100000.\n",
      "[INFO] [2023-04-14 02:16:01,909] [OpenBox-SPO] Iteration 372, objective value: [58.164729968664375].\n"
     ]
    },
    {
     "name": "stderr",
     "output_type": "stream",
     "text": [
      "\r",
      " 37%|███████████████████████████▉                                               | 372/1000 [4:36:14<7:15:07, 41.57s/it]"
     ]
    },
    {
     "name": "stdout",
     "output_type": "stream",
     "text": [
      "\t ----- reward: -58.164729968664375 for f_star and f_minus: 28.24500685071078 , 58.164729968664375\n",
      "\t ---------- State is:  (7, 11)\n",
      "[INFO] [2023-04-14 02:16:50,122] [OpenBox-SPO] Iteration 373, objective value: [39.271922043139604].\n"
     ]
    },
    {
     "name": "stderr",
     "output_type": "stream",
     "text": [
      "\r",
      " 37%|███████████████████████████▉                                               | 373/1000 [4:37:02<7:35:17, 43.57s/it]"
     ]
    },
    {
     "name": "stdout",
     "output_type": "stream",
     "text": [
      "\t ----- reward: -39.271922043139604 for f_star and f_minus: 28.24500685071078 , 39.271922043139604\n",
      "\t ---------- State is:  (8, 11)\n",
      "[INFO] [2023-04-14 02:17:36,605] [OpenBox-SPO] Iteration 374, objective value: [34.66275340534975].\n"
     ]
    },
    {
     "name": "stderr",
     "output_type": "stream",
     "text": [
      "\r",
      " 37%|████████████████████████████                                               | 374/1000 [4:37:49<7:43:38, 44.44s/it]"
     ]
    },
    {
     "name": "stdout",
     "output_type": "stream",
     "text": [
      "\t ----- reward: -34.66275340534975 for f_star and f_minus: 28.24500685071078 , 34.66275340534975\n",
      "\t ---------- State is:  (7, 11)\n",
      "[INFO] [2023-04-14 02:18:31,519] [OpenBox-SPO] Iteration 375, objective value: [33.89515077917247].\n"
     ]
    },
    {
     "name": "stderr",
     "output_type": "stream",
     "text": [
      "\r",
      " 38%|████████████████████████████▏                                              | 375/1000 [4:38:44<8:15:38, 47.58s/it]"
     ]
    },
    {
     "name": "stdout",
     "output_type": "stream",
     "text": [
      "\t ----- reward: -33.89515077917247 for f_star and f_minus: 28.24500685071078 , 33.89515077917247\n",
      "\t ---------- State is:  (6, 11)\n",
      "[INFO] [2023-04-14 02:19:20,072] [OpenBox-SPO] Iteration 376, objective value: [33.0724931101434].\n"
     ]
    },
    {
     "name": "stderr",
     "output_type": "stream",
     "text": [
      "\r",
      " 38%|████████████████████████████▏                                              | 376/1000 [4:39:32<8:17:52, 47.87s/it]"
     ]
    },
    {
     "name": "stdout",
     "output_type": "stream",
     "text": [
      "\t ----- reward: -33.0724931101434 for f_star and f_minus: 28.24500685071078 , 33.0724931101434\n",
      "\t ---------- State is:  (6, 10)\n",
      "[INFO] [2023-04-14 02:19:20,072] [Advisor] Sample random config. rand_prob=0.100000.\n",
      "[INFO] [2023-04-14 02:19:45,683] [OpenBox-SPO] Iteration 377, objective value: [68.78019607005633].\n"
     ]
    },
    {
     "name": "stderr",
     "output_type": "stream",
     "text": [
      "\r",
      " 38%|████████████████████████████▎                                              | 377/1000 [4:39:58<7:07:44, 41.19s/it]"
     ]
    },
    {
     "name": "stdout",
     "output_type": "stream",
     "text": [
      "\t ----- reward: -68.78019607005633 for f_star and f_minus: 28.24500685071078 , 68.78019607005633\n",
      "\t ---------- State is:  (7, 12)\n",
      "[INFO] [2023-04-14 02:19:45,683] [Advisor] Sample random config. rand_prob=0.100000.\n",
      "[INFO] [2023-04-14 02:20:17,150] [OpenBox-SPO] Iteration 378, objective value: [52.34878382619878].\n"
     ]
    },
    {
     "name": "stderr",
     "output_type": "stream",
     "text": [
      "\r",
      " 38%|████████████████████████████▎                                              | 378/1000 [4:40:29<6:36:47, 38.28s/it]"
     ]
    },
    {
     "name": "stdout",
     "output_type": "stream",
     "text": [
      "\t ----- reward: -52.34878382619878 for f_star and f_minus: 28.24500685071078 , 52.34878382619878\n",
      "\t ---------- State is:  (7, 11)\n",
      "[INFO] [2023-04-14 02:20:59,954] [OpenBox-SPO] Iteration 379, objective value: [39.452842642554984].\n"
     ]
    },
    {
     "name": "stderr",
     "output_type": "stream",
     "text": [
      "\r",
      " 38%|████████████████████████████▍                                              | 379/1000 [4:41:12<6:50:12, 39.63s/it]"
     ]
    },
    {
     "name": "stdout",
     "output_type": "stream",
     "text": [
      "\t ----- reward: -39.452842642554984 for f_star and f_minus: 28.24500685071078 , 39.452842642554984\n",
      "\t ---------- State is:  (8, 11)\n",
      "[INFO] [2023-04-14 02:20:59,954] [Advisor] Sample random config. rand_prob=0.100000.\n",
      "[INFO] [2023-04-14 02:21:33,120] [OpenBox-SPO] Iteration 380, objective value: [51.9001455633401].\n"
     ]
    },
    {
     "name": "stderr",
     "output_type": "stream",
     "text": [
      "\r",
      " 38%|████████████████████████████▌                                              | 380/1000 [4:41:45<6:29:30, 37.69s/it]"
     ]
    },
    {
     "name": "stdout",
     "output_type": "stream",
     "text": [
      "\t ----- reward: -51.9001455633401 for f_star and f_minus: 28.24500685071078 , 51.9001455633401\n",
      "\t ---------- State is:  (7, 12)\n",
      "[INFO] [2023-04-14 02:22:16,706] [OpenBox-SPO] Iteration 381, objective value: [44.58729058510432].\n"
     ]
    },
    {
     "name": "stderr",
     "output_type": "stream",
     "text": [
      "\r",
      " 38%|████████████████████████████▌                                              | 381/1000 [4:42:29<6:47:06, 39.46s/it]"
     ]
    },
    {
     "name": "stdout",
     "output_type": "stream",
     "text": [
      "\t ----- reward: -44.58729058510432 for f_star and f_minus: 28.24500685071078 , 44.58729058510432\n",
      "\t ---------- State is:  (7, 12)\n",
      "[INFO] [2023-04-14 02:23:04,898] [OpenBox-SPO] Iteration 382, objective value: [33.58506992834849].\n"
     ]
    },
    {
     "name": "stderr",
     "output_type": "stream",
     "text": [
      "\r",
      " 38%|████████████████████████████▋                                              | 382/1000 [4:43:17<7:13:25, 42.08s/it]"
     ]
    },
    {
     "name": "stdout",
     "output_type": "stream",
     "text": [
      "\t ----- reward: -33.58506992834849 for f_star and f_minus: 28.24500685071078 , 33.58506992834849\n",
      "\t ---------- State is:  (6, 11)\n",
      "[INFO] [2023-04-14 02:23:49,501] [OpenBox-SPO] Iteration 383, objective value: [36.65845023330232].\n"
     ]
    },
    {
     "name": "stderr",
     "output_type": "stream",
     "text": [
      "\r",
      " 38%|████████████████████████████▋                                              | 383/1000 [4:44:02<7:20:30, 42.84s/it]"
     ]
    },
    {
     "name": "stdout",
     "output_type": "stream",
     "text": [
      "\t ----- reward: -36.65845023330232 for f_star and f_minus: 28.24500685071078 , 36.65845023330232\n",
      "\t ---------- State is:  (7, 11)\n",
      "[INFO] [2023-04-14 02:24:35,341] [OpenBox-SPO] Iteration 384, objective value: [33.376215091792034].\n"
     ]
    },
    {
     "name": "stderr",
     "output_type": "stream",
     "text": [
      "\r",
      " 38%|████████████████████████████▊                                              | 384/1000 [4:44:48<7:29:02, 43.74s/it]"
     ]
    },
    {
     "name": "stdout",
     "output_type": "stream",
     "text": [
      "\t ----- reward: -33.376215091792034 for f_star and f_minus: 28.24500685071078 , 33.376215091792034\n",
      "\t ---------- State is:  (6, 11)\n",
      "[INFO] [2023-04-14 02:25:22,982] [OpenBox-SPO] Iteration 385, objective value: [36.1877360729585].\n"
     ]
    },
    {
     "name": "stderr",
     "output_type": "stream",
     "text": [
      "\r",
      " 38%|████████████████████████████▉                                              | 385/1000 [4:45:35<7:40:19, 44.91s/it]"
     ]
    },
    {
     "name": "stdout",
     "output_type": "stream",
     "text": [
      "\t ----- reward: -36.1877360729585 for f_star and f_minus: 28.24500685071078 , 36.1877360729585\n",
      "\t ---------- State is:  (5, 11)\n",
      "[INFO] [2023-04-14 02:26:11,240] [OpenBox-SPO] Iteration 386, objective value: [27.870093921757743].\n"
     ]
    },
    {
     "name": "stderr",
     "output_type": "stream",
     "text": [
      "\r",
      " 39%|████████████████████████████▉                                              | 386/1000 [4:46:24<7:49:50, 45.91s/it]"
     ]
    },
    {
     "name": "stdout",
     "output_type": "stream",
     "text": [
      "\t ----- reward: -27.870093921757743 for f_star and f_minus: 28.24500685071078 , 27.870093921757743\n",
      "\t ---------- State is:  (6, 11)\n",
      "[INFO] [2023-04-14 02:26:59,679] [OpenBox-SPO] Iteration 387, objective value: [33.47364834110279].\n"
     ]
    },
    {
     "name": "stderr",
     "output_type": "stream",
     "text": [
      "\r",
      " 39%|█████████████████████████████                                              | 387/1000 [4:47:12<7:56:49, 46.67s/it]"
     ]
    },
    {
     "name": "stdout",
     "output_type": "stream",
     "text": [
      "\t ----- reward: -33.47364834110279 for f_star and f_minus: 27.870093921757743 , 33.47364834110279\n",
      "\t ---------- State is:  (6, 11)\n",
      "[INFO] [2023-04-14 02:27:51,138] [OpenBox-SPO] Iteration 388, objective value: [42.0788527891972].\n"
     ]
    },
    {
     "name": "stderr",
     "output_type": "stream",
     "text": [
      "\r",
      " 39%|█████████████████████████████                                              | 388/1000 [4:48:03<8:10:41, 48.11s/it]"
     ]
    },
    {
     "name": "stdout",
     "output_type": "stream",
     "text": [
      "\t ----- reward: -42.0788527891972 for f_star and f_minus: 27.870093921757743 , 42.0788527891972\n",
      "\t ---------- State is:  (5, 11)\n",
      "[INFO] [2023-04-14 02:28:33,772] [OpenBox-SPO] Iteration 389, objective value: [36.96462458065142].\n"
     ]
    },
    {
     "name": "stderr",
     "output_type": "stream",
     "text": [
      "\r",
      " 39%|█████████████████████████████▏                                             | 389/1000 [4:48:46<7:53:10, 46.47s/it]"
     ]
    },
    {
     "name": "stdout",
     "output_type": "stream",
     "text": [
      "\t ----- reward: -36.96462458065142 for f_star and f_minus: 27.870093921757743 , 36.96462458065142\n",
      "\t ---------- State is:  (4, 12)\n",
      "[INFO] [2023-04-14 02:29:22,037] [OpenBox-SPO] Iteration 390, objective value: [34.374393500692676].\n"
     ]
    },
    {
     "name": "stderr",
     "output_type": "stream",
     "text": [
      "\r",
      " 39%|█████████████████████████████▎                                             | 390/1000 [4:49:34<7:57:53, 47.01s/it]"
     ]
    },
    {
     "name": "stdout",
     "output_type": "stream",
     "text": [
      "\t ----- reward: -34.374393500692676 for f_star and f_minus: 27.870093921757743 , 34.374393500692676\n",
      "\t ---------- State is:  (4, 12)\n",
      "[INFO] [2023-04-14 02:30:15,495] [OpenBox-SPO] Iteration 391, objective value: [35.155241325592826].\n"
     ]
    },
    {
     "name": "stderr",
     "output_type": "stream",
     "text": [
      "\r",
      " 39%|█████████████████████████████▎                                             | 391/1000 [4:50:28<8:16:45, 48.94s/it]"
     ]
    },
    {
     "name": "stdout",
     "output_type": "stream",
     "text": [
      "\t ----- reward: -35.155241325592826 for f_star and f_minus: 27.870093921757743 , 35.155241325592826\n",
      "\t ---------- State is:  (5, 11)\n",
      "[INFO] [2023-04-14 02:31:08,876] [OpenBox-SPO] Iteration 392, objective value: [38.48555583149951].\n"
     ]
    },
    {
     "name": "stderr",
     "output_type": "stream",
     "text": [
      "\r",
      " 39%|█████████████████████████████▍                                             | 392/1000 [4:51:21<8:29:26, 50.27s/it]"
     ]
    },
    {
     "name": "stdout",
     "output_type": "stream",
     "text": [
      "\t ----- reward: -38.48555583149951 for f_star and f_minus: 27.870093921757743 , 38.48555583149951\n",
      "\t ---------- State is:  (5, 12)\n",
      "[INFO] [2023-04-14 02:31:51,653] [OpenBox-SPO] Iteration 393, objective value: [43.006139439504906].\n"
     ]
    },
    {
     "name": "stderr",
     "output_type": "stream",
     "text": [
      "\r",
      " 39%|█████████████████████████████▍                                             | 393/1000 [4:52:04<8:05:50, 48.02s/it]"
     ]
    },
    {
     "name": "stdout",
     "output_type": "stream",
     "text": [
      "\t ----- reward: -43.006139439504906 for f_star and f_minus: 27.870093921757743 , 43.006139439504906\n",
      "\t ---------- State is:  (4, 12)\n",
      "[INFO] [2023-04-14 02:31:51,653] [Advisor] Sample random config. rand_prob=0.100000.\n",
      "[INFO] [2023-04-14 02:32:24,371] [OpenBox-SPO] Iteration 394, objective value: [54.912322803179386].\n"
     ]
    },
    {
     "name": "stderr",
     "output_type": "stream",
     "text": [
      "\r",
      " 39%|█████████████████████████████▌                                             | 394/1000 [4:52:37<7:18:40, 43.43s/it]"
     ]
    },
    {
     "name": "stdout",
     "output_type": "stream",
     "text": [
      "\t ----- reward: -54.912322803179386 for f_star and f_minus: 27.870093921757743 , 54.912322803179386\n",
      "\t ---------- State is:  (3, 13)\n",
      "[INFO] [2023-04-14 02:33:05,211] [OpenBox-SPO] Iteration 395, objective value: [42.836726077899165].\n"
     ]
    },
    {
     "name": "stderr",
     "output_type": "stream",
     "text": [
      "\r",
      " 40%|█████████████████████████████▋                                             | 395/1000 [4:53:18<7:10:06, 42.65s/it]"
     ]
    },
    {
     "name": "stdout",
     "output_type": "stream",
     "text": [
      "\t ----- reward: -42.836726077899165 for f_star and f_minus: 27.870093921757743 , 42.836726077899165\n",
      "\t ---------- State is:  (3, 13)\n",
      "[INFO] [2023-04-14 02:33:54,177] [OpenBox-SPO] Iteration 396, objective value: [37.48507601201509].\n"
     ]
    },
    {
     "name": "stderr",
     "output_type": "stream",
     "text": [
      "\r",
      " 40%|█████████████████████████████▋                                             | 396/1000 [4:54:07<7:28:27, 44.55s/it]"
     ]
    },
    {
     "name": "stdout",
     "output_type": "stream",
     "text": [
      "\t ----- reward: -37.48507601201509 for f_star and f_minus: 27.870093921757743 , 37.48507601201509\n",
      "\t ---------- State is:  (2, 13)\n",
      "[INFO] [2023-04-14 02:34:49,601] [OpenBox-SPO] Iteration 397, objective value: [36.487058276700715].\n"
     ]
    },
    {
     "name": "stderr",
     "output_type": "stream",
     "text": [
      "\r",
      " 40%|█████████████████████████████▊                                             | 397/1000 [4:55:02<8:00:29, 47.81s/it]"
     ]
    },
    {
     "name": "stdout",
     "output_type": "stream",
     "text": [
      "\t ----- reward: -36.487058276700715 for f_star and f_minus: 27.870093921757743 , 36.487058276700715\n",
      "\t ---------- State is:  (2, 13)\n",
      "[INFO] [2023-04-14 02:35:40,952] [OpenBox-SPO] Iteration 398, objective value: [29.555304366056916].\n"
     ]
    },
    {
     "name": "stderr",
     "output_type": "stream",
     "text": [
      "\r",
      " 40%|█████████████████████████████▊                                             | 398/1000 [4:55:53<8:10:21, 48.87s/it]"
     ]
    },
    {
     "name": "stdout",
     "output_type": "stream",
     "text": [
      "\t ----- reward: -29.555304366056916 for f_star and f_minus: 27.870093921757743 , 29.555304366056916\n",
      "\t ---------- State is:  (1, 12)\n",
      "[INFO] [2023-04-14 02:36:29,298] [OpenBox-SPO] Iteration 399, objective value: [37.55931358980445].\n"
     ]
    },
    {
     "name": "stderr",
     "output_type": "stream",
     "text": [
      "\r",
      " 40%|█████████████████████████████▉                                             | 399/1000 [4:56:42<8:07:57, 48.71s/it]"
     ]
    },
    {
     "name": "stdout",
     "output_type": "stream",
     "text": [
      "\t ----- reward: -37.55931358980445 for f_star and f_minus: 27.870093921757743 , 37.55931358980445\n",
      "\t ---------- State is:  (1, 12)\n",
      "[INFO] [2023-04-14 02:37:18,374] [OpenBox-SPO] Iteration 400, objective value: [33.85618203971801].\n"
     ]
    },
    {
     "name": "stderr",
     "output_type": "stream",
     "text": [
      "\r",
      " 40%|██████████████████████████████                                             | 400/1000 [4:57:31<8:08:13, 48.82s/it]"
     ]
    },
    {
     "name": "stdout",
     "output_type": "stream",
     "text": [
      "\t ----- reward: -33.85618203971801 for f_star and f_minus: 27.870093921757743 , 33.85618203971801\n",
      "\t ---------- State is:  (0, 12)\n",
      "[INFO] [2023-04-14 02:38:03,590] [OpenBox-SPO] Iteration 401, objective value: [39.35766631220482].\n"
     ]
    },
    {
     "name": "stderr",
     "output_type": "stream",
     "text": [
      "\r",
      " 40%|██████████████████████████████                                             | 401/1000 [4:58:16<7:56:36, 47.74s/it]"
     ]
    },
    {
     "name": "stdout",
     "output_type": "stream",
     "text": [
      "\t ----- reward: -39.35766631220482 for f_star and f_minus: 27.870093921757743 , 39.35766631220482\n",
      "\t ---------- State is:  (0, 12)\n",
      "[INFO] [2023-04-14 02:38:49,889] [OpenBox-SPO] Iteration 402, objective value: [33.83202018558468].\n"
     ]
    },
    {
     "name": "stderr",
     "output_type": "stream",
     "text": [
      "\r",
      " 40%|██████████████████████████████▏                                            | 402/1000 [4:59:02<7:51:30, 47.31s/it]"
     ]
    },
    {
     "name": "stdout",
     "output_type": "stream",
     "text": [
      "\t ----- reward: -33.83202018558468 for f_star and f_minus: 27.870093921757743 , 33.83202018558468\n",
      "\t ---------- State is:  (0, 11)\n",
      "[INFO] [2023-04-14 02:39:41,322] [OpenBox-SPO] Iteration 403, objective value: [32.63187898667137].\n"
     ]
    },
    {
     "name": "stderr",
     "output_type": "stream",
     "text": [
      "\r",
      " 40%|██████████████████████████████▏                                            | 403/1000 [4:59:54<8:03:01, 48.55s/it]"
     ]
    },
    {
     "name": "stdout",
     "output_type": "stream",
     "text": [
      "\t ----- reward: -32.63187898667137 for f_star and f_minus: 27.870093921757743 , 32.63187898667137\n",
      "\t ---------- State is:  (1, 11)\n",
      "[INFO] [2023-04-14 02:40:33,592] [OpenBox-SPO] Iteration 404, objective value: [34.762458139632244].\n"
     ]
    },
    {
     "name": "stderr",
     "output_type": "stream",
     "text": [
      "\r",
      " 40%|██████████████████████████████▎                                            | 404/1000 [5:00:46<8:13:19, 49.66s/it]"
     ]
    },
    {
     "name": "stdout",
     "output_type": "stream",
     "text": [
      "\t ----- reward: -34.762458139632244 for f_star and f_minus: 27.870093921757743 , 34.762458139632244\n",
      "\t ---------- State is:  (0, 11)\n",
      "[INFO] [2023-04-14 02:41:20,001] [OpenBox-SPO] Iteration 405, objective value: [33.27199915055277].\n"
     ]
    },
    {
     "name": "stderr",
     "output_type": "stream",
     "text": [
      "\r",
      " 40%|██████████████████████████████▍                                            | 405/1000 [5:01:32<8:02:48, 48.69s/it]"
     ]
    },
    {
     "name": "stdout",
     "output_type": "stream",
     "text": [
      "\t ----- reward: -33.27199915055277 for f_star and f_minus: 27.870093921757743 , 33.27199915055277\n",
      "\t ---------- State is:  (0, 11)\n",
      "[INFO] [2023-04-14 02:42:11,992] [OpenBox-SPO] Iteration 406, objective value: [33.94001882924081].\n"
     ]
    },
    {
     "name": "stderr",
     "output_type": "stream",
     "text": [
      "\r",
      " 41%|██████████████████████████████▍                                            | 406/1000 [5:02:24<8:11:48, 49.68s/it]"
     ]
    },
    {
     "name": "stdout",
     "output_type": "stream",
     "text": [
      "\t ----- reward: -33.94001882924081 for f_star and f_minus: 27.870093921757743 , 33.94001882924081\n",
      "\t ---------- State is:  (0, 11)\n",
      "[INFO] [2023-04-14 02:43:03,315] [OpenBox-SPO] Iteration 407, objective value: [35.43151312295308].\n"
     ]
    },
    {
     "name": "stderr",
     "output_type": "stream",
     "text": [
      "\r",
      " 41%|██████████████████████████████▌                                            | 407/1000 [5:03:16<8:15:51, 50.17s/it]"
     ]
    },
    {
     "name": "stdout",
     "output_type": "stream",
     "text": [
      "\t ----- reward: -35.43151312295308 for f_star and f_minus: 27.870093921757743 , 35.43151312295308\n",
      "\t ---------- State is:  (1, 9)\n",
      "[INFO] [2023-04-14 02:43:50,418] [OpenBox-SPO] Iteration 408, objective value: [33.84675987000614].\n"
     ]
    },
    {
     "name": "stderr",
     "output_type": "stream",
     "text": [
      "\r",
      " 41%|██████████████████████████████▌                                            | 408/1000 [5:04:03<8:05:56, 49.25s/it]"
     ]
    },
    {
     "name": "stdout",
     "output_type": "stream",
     "text": [
      "\t ----- reward: -33.84675987000614 for f_star and f_minus: 27.870093921757743 , 33.84675987000614\n",
      "\t ---------- State is:  (2, 9)\n",
      "[INFO] [2023-04-14 02:44:37,528] [OpenBox-SPO] Iteration 409, objective value: [32.61936511633438].\n"
     ]
    },
    {
     "name": "stderr",
     "output_type": "stream",
     "text": [
      "\r",
      " 41%|██████████████████████████████▋                                            | 409/1000 [5:04:50<7:58:50, 48.61s/it]"
     ]
    },
    {
     "name": "stdout",
     "output_type": "stream",
     "text": [
      "\t ----- reward: -32.61936511633438 for f_star and f_minus: 27.870093921757743 , 32.61936511633438\n",
      "\t ---------- State is:  (3, 9)\n",
      "[INFO] [2023-04-14 02:45:28,309] [OpenBox-SPO] Iteration 410, objective value: [38.746154084881624].\n"
     ]
    },
    {
     "name": "stderr",
     "output_type": "stream",
     "text": [
      "\r",
      " 41%|██████████████████████████████▋                                            | 410/1000 [5:05:41<8:04:22, 49.26s/it]"
     ]
    },
    {
     "name": "stdout",
     "output_type": "stream",
     "text": [
      "\t ----- reward: -38.746154084881624 for f_star and f_minus: 27.870093921757743 , 38.746154084881624\n",
      "\t ---------- State is:  (3, 8)\n",
      "[INFO] [2023-04-14 02:46:11,970] [OpenBox-SPO] Iteration 411, objective value: [31.075159712866196].\n"
     ]
    },
    {
     "name": "stderr",
     "output_type": "stream",
     "text": [
      "\r",
      " 41%|██████████████████████████████▊                                            | 411/1000 [5:06:24<7:47:04, 47.58s/it]"
     ]
    },
    {
     "name": "stdout",
     "output_type": "stream",
     "text": [
      "\t ----- reward: -31.075159712866196 for f_star and f_minus: 27.870093921757743 , 31.075159712866196\n",
      "\t ---------- State is:  (3, 8)\n",
      "[INFO] [2023-04-14 02:47:03,242] [OpenBox-SPO] Iteration 412, objective value: [36.641564500722026].\n"
     ]
    },
    {
     "name": "stderr",
     "output_type": "stream",
     "text": [
      "\r",
      " 41%|██████████████████████████████▉                                            | 412/1000 [5:07:16<7:57:08, 48.69s/it]"
     ]
    },
    {
     "name": "stdout",
     "output_type": "stream",
     "text": [
      "\t ----- reward: -36.641564500722026 for f_star and f_minus: 27.870093921757743 , 36.641564500722026\n",
      "\t ---------- State is:  (3, 8)\n",
      "[INFO] [2023-04-14 02:47:45,375] [OpenBox-SPO] Iteration 413, objective value: [38.12646440972036].\n"
     ]
    },
    {
     "name": "stderr",
     "output_type": "stream",
     "text": [
      "\r",
      " 41%|██████████████████████████████▉                                            | 413/1000 [5:07:58<7:37:05, 46.72s/it]"
     ]
    },
    {
     "name": "stdout",
     "output_type": "stream",
     "text": [
      "\t ----- reward: -38.12646440972036 for f_star and f_minus: 27.870093921757743 , 38.12646440972036\n",
      "\t ---------- State is:  (4, 8)\n",
      "[INFO] [2023-04-14 02:48:36,989] [OpenBox-SPO] Iteration 414, objective value: [28.413199942378554].\n"
     ]
    },
    {
     "name": "stderr",
     "output_type": "stream",
     "text": [
      "\r",
      " 41%|███████████████████████████████                                            | 414/1000 [5:08:49<7:50:38, 48.19s/it]"
     ]
    },
    {
     "name": "stdout",
     "output_type": "stream",
     "text": [
      "\t ----- reward: -28.413199942378554 for f_star and f_minus: 27.870093921757743 , 28.413199942378554\n",
      "\t ---------- State is:  (3, 8)\n",
      "[INFO] [2023-04-14 02:49:27,443] [OpenBox-SPO] Iteration 415, objective value: [36.67413778246892].\n"
     ]
    },
    {
     "name": "stderr",
     "output_type": "stream",
     "text": [
      "\r",
      " 42%|███████████████████████████████▏                                           | 415/1000 [5:09:40<7:56:28, 48.87s/it]"
     ]
    },
    {
     "name": "stdout",
     "output_type": "stream",
     "text": [
      "\t ----- reward: -36.67413778246892 for f_star and f_minus: 27.870093921757743 , 36.67413778246892\n",
      "\t ---------- State is:  (3, 8)\n",
      "[INFO] [2023-04-14 02:50:17,670] [OpenBox-SPO] Iteration 416, objective value: [34.85034887996348].\n"
     ]
    },
    {
     "name": "stderr",
     "output_type": "stream",
     "text": [
      "\r",
      " 42%|███████████████████████████████▏                                           | 416/1000 [5:10:30<7:59:37, 49.28s/it]"
     ]
    },
    {
     "name": "stdout",
     "output_type": "stream",
     "text": [
      "\t ----- reward: -34.85034887996348 for f_star and f_minus: 27.870093921757743 , 34.85034887996348\n",
      "\t ---------- State is:  (2, 8)\n",
      "[INFO] [2023-04-14 02:51:01,645] [OpenBox-SPO] Iteration 417, objective value: [34.93706788086297].\n"
     ]
    },
    {
     "name": "stderr",
     "output_type": "stream",
     "text": [
      "\r",
      " 42%|███████████████████████████████▎                                           | 417/1000 [5:11:14<7:43:20, 47.69s/it]"
     ]
    },
    {
     "name": "stdout",
     "output_type": "stream",
     "text": [
      "\t ----- reward: -34.93706788086297 for f_star and f_minus: 27.870093921757743 , 34.93706788086297\n",
      "\t ---------- State is:  (2, 8)\n",
      "[INFO] [2023-04-14 02:51:53,622] [OpenBox-SPO] Iteration 418, objective value: [33.705174240884105].\n"
     ]
    },
    {
     "name": "stderr",
     "output_type": "stream",
     "text": [
      "\r",
      " 42%|███████████████████████████████▎                                           | 418/1000 [5:12:06<7:55:02, 48.97s/it]"
     ]
    },
    {
     "name": "stdout",
     "output_type": "stream",
     "text": [
      "\t ----- reward: -33.705174240884105 for f_star and f_minus: 27.870093921757743 , 33.705174240884105\n",
      "\t ---------- State is:  (1, 8)\n",
      "[INFO] [2023-04-14 02:51:53,622] [Advisor] Sample random config. rand_prob=0.100000.\n",
      "[INFO] [2023-04-14 02:52:21,518] [OpenBox-SPO] Iteration 419, objective value: [62.10142813088867].\n"
     ]
    },
    {
     "name": "stderr",
     "output_type": "stream",
     "text": [
      "\r",
      " 42%|███████████████████████████████▍                                           | 419/1000 [5:12:34<6:52:59, 42.65s/it]"
     ]
    },
    {
     "name": "stdout",
     "output_type": "stream",
     "text": [
      "\t ----- reward: -62.10142813088867 for f_star and f_minus: 27.870093921757743 , 62.10142813088867\n",
      "\t ---------- State is:  (0, 9)\n",
      "[INFO] [2023-04-14 02:53:09,179] [OpenBox-SPO] Iteration 420, objective value: [35.300427307383316].\n"
     ]
    },
    {
     "name": "stderr",
     "output_type": "stream",
     "text": [
      "\r",
      " 42%|███████████████████████████████▌                                           | 420/1000 [5:13:22<7:06:48, 44.15s/it]"
     ]
    },
    {
     "name": "stdout",
     "output_type": "stream",
     "text": [
      "\t ----- reward: -35.300427307383316 for f_star and f_minus: 27.870093921757743 , 35.300427307383316\n",
      "\t ---------- State is:  (0, 9)\n",
      "[INFO] [2023-04-14 02:54:02,230] [OpenBox-SPO] Iteration 421, objective value: [28.114648263291258].\n"
     ]
    },
    {
     "name": "stderr",
     "output_type": "stream",
     "text": [
      "\r",
      " 42%|███████████████████████████████▌                                           | 421/1000 [5:14:15<7:31:50, 46.82s/it]"
     ]
    },
    {
     "name": "stdout",
     "output_type": "stream",
     "text": [
      "\t ----- reward: -28.114648263291258 for f_star and f_minus: 27.870093921757743 , 28.114648263291258\n",
      "\t ---------- State is:  (0, 8)\n",
      "[INFO] [2023-04-14 02:54:47,934] [OpenBox-SPO] Iteration 422, objective value: [32.644709360693696].\n"
     ]
    },
    {
     "name": "stderr",
     "output_type": "stream",
     "text": [
      "\r",
      " 42%|███████████████████████████████▋                                           | 422/1000 [5:15:00<7:27:49, 46.49s/it]"
     ]
    },
    {
     "name": "stdout",
     "output_type": "stream",
     "text": [
      "\t ----- reward: -32.644709360693696 for f_star and f_minus: 27.870093921757743 , 32.644709360693696\n",
      "\t ---------- State is:  (1, 8)\n",
      "[INFO] [2023-04-14 02:55:37,257] [OpenBox-SPO] Iteration 423, objective value: [29.937513541730596].\n"
     ]
    },
    {
     "name": "stderr",
     "output_type": "stream",
     "text": [
      "\r",
      " 42%|███████████████████████████████▋                                           | 423/1000 [5:15:50<7:35:16, 47.34s/it]"
     ]
    },
    {
     "name": "stdout",
     "output_type": "stream",
     "text": [
      "\t ----- reward: -29.937513541730596 for f_star and f_minus: 27.870093921757743 , 29.937513541730596\n",
      "\t ---------- State is:  (2, 8)\n",
      "[INFO] [2023-04-14 02:56:32,971] [OpenBox-SPO] Iteration 424, objective value: [38.380330802810136].\n"
     ]
    },
    {
     "name": "stderr",
     "output_type": "stream",
     "text": [
      "\r",
      " 42%|███████████████████████████████▊                                           | 424/1000 [5:16:45<7:58:33, 49.85s/it]"
     ]
    },
    {
     "name": "stdout",
     "output_type": "stream",
     "text": [
      "\t ----- reward: -38.380330802810136 for f_star and f_minus: 27.870093921757743 , 38.380330802810136\n",
      "\t ---------- State is:  (2, 7)\n",
      "[INFO] [2023-04-14 02:57:26,572] [OpenBox-SPO] Iteration 425, objective value: [36.55680993257276].\n"
     ]
    },
    {
     "name": "stderr",
     "output_type": "stream",
     "text": [
      "\r",
      " 42%|███████████████████████████████▉                                           | 425/1000 [5:17:39<8:08:30, 50.97s/it]"
     ]
    },
    {
     "name": "stdout",
     "output_type": "stream",
     "text": [
      "\t ----- reward: -36.55680993257276 for f_star and f_minus: 27.870093921757743 , 36.55680993257276\n",
      "\t ---------- State is:  (1, 7)\n",
      "[INFO] [2023-04-14 02:58:06,853] [OpenBox-SPO] Iteration 426, objective value: [40.93968639320875].\n"
     ]
    },
    {
     "name": "stderr",
     "output_type": "stream",
     "text": [
      "\r",
      " 43%|███████████████████████████████▉                                           | 426/1000 [5:18:19<7:36:57, 47.77s/it]"
     ]
    },
    {
     "name": "stdout",
     "output_type": "stream",
     "text": [
      "\t ----- reward: -40.93968639320875 for f_star and f_minus: 27.870093921757743 , 40.93968639320875\n",
      "\t ---------- State is:  (2, 7)\n",
      "[INFO] [2023-04-14 02:58:53,735] [OpenBox-SPO] Iteration 427, objective value: [32.21774593394254].\n"
     ]
    },
    {
     "name": "stderr",
     "output_type": "stream",
     "text": [
      "\r",
      " 43%|████████████████████████████████                                           | 427/1000 [5:19:06<7:33:38, 47.50s/it]"
     ]
    },
    {
     "name": "stdout",
     "output_type": "stream",
     "text": [
      "\t ----- reward: -32.21774593394254 for f_star and f_minus: 27.870093921757743 , 32.21774593394254\n",
      "\t ---------- State is:  (2, 7)\n",
      "[INFO] [2023-04-14 02:59:38,068] [OpenBox-SPO] Iteration 428, objective value: [42.1745136526114].\n"
     ]
    },
    {
     "name": "stderr",
     "output_type": "stream",
     "text": [
      "\r",
      " 43%|████████████████████████████████                                           | 428/1000 [5:19:50<7:23:47, 46.55s/it]"
     ]
    },
    {
     "name": "stdout",
     "output_type": "stream",
     "text": [
      "\t ----- reward: -42.1745136526114 for f_star and f_minus: 27.870093921757743 , 42.1745136526114\n",
      "\t ---------- State is:  (3, 7)\n",
      "[INFO] [2023-04-14 03:00:29,191] [OpenBox-SPO] Iteration 429, objective value: [32.96128363247466].\n"
     ]
    },
    {
     "name": "stderr",
     "output_type": "stream",
     "text": [
      "\r",
      " 43%|████████████████████████████████▏                                          | 429/1000 [5:20:42<7:36:03, 47.92s/it]"
     ]
    },
    {
     "name": "stdout",
     "output_type": "stream",
     "text": [
      "\t ----- reward: -32.96128363247466 for f_star and f_minus: 27.870093921757743 , 32.96128363247466\n",
      "\t ---------- State is:  (2, 7)\n",
      "[INFO] [2023-04-14 03:01:16,010] [OpenBox-SPO] Iteration 430, objective value: [36.09568921073719].\n"
     ]
    },
    {
     "name": "stderr",
     "output_type": "stream",
     "text": [
      "\r",
      " 43%|████████████████████████████████▎                                          | 430/1000 [5:21:28<7:32:07, 47.59s/it]"
     ]
    },
    {
     "name": "stdout",
     "output_type": "stream",
     "text": [
      "\t ----- reward: -36.09568921073719 for f_star and f_minus: 27.870093921757743 , 36.09568921073719\n",
      "\t ---------- State is:  (2, 7)\n",
      "[INFO] [2023-04-14 03:02:06,996] [OpenBox-SPO] Iteration 431, objective value: [31.75568500423971].\n"
     ]
    },
    {
     "name": "stderr",
     "output_type": "stream",
     "text": [
      "\r",
      " 43%|████████████████████████████████▎                                          | 431/1000 [5:22:19<7:40:58, 48.61s/it]"
     ]
    },
    {
     "name": "stdout",
     "output_type": "stream",
     "text": [
      "\t ----- reward: -31.75568500423971 for f_star and f_minus: 27.870093921757743 , 31.75568500423971\n",
      "\t ---------- State is:  (1, 7)\n",
      "[INFO] [2023-04-14 03:02:56,634] [OpenBox-SPO] Iteration 432, objective value: [39.85334956859619].\n"
     ]
    },
    {
     "name": "stderr",
     "output_type": "stream",
     "text": [
      "\r",
      " 43%|████████████████████████████████▍                                          | 432/1000 [5:23:09<7:43:05, 48.92s/it]"
     ]
    },
    {
     "name": "stdout",
     "output_type": "stream",
     "text": [
      "\t ----- reward: -39.85334956859619 for f_star and f_minus: 27.870093921757743 , 39.85334956859619\n",
      "\t ---------- State is:  (0, 7)\n",
      "[INFO] [2023-04-14 03:03:43,067] [OpenBox-SPO] Iteration 433, objective value: [40.89557642681121].\n"
     ]
    },
    {
     "name": "stderr",
     "output_type": "stream",
     "text": [
      "\r",
      " 43%|████████████████████████████████▍                                          | 433/1000 [5:23:55<7:35:14, 48.17s/it]"
     ]
    },
    {
     "name": "stdout",
     "output_type": "stream",
     "text": [
      "\t ----- reward: -40.89557642681121 for f_star and f_minus: 27.870093921757743 , 40.89557642681121\n",
      "\t ---------- State is:  (0, 8)\n",
      "[INFO] [2023-04-14 03:04:32,253] [OpenBox-SPO] Iteration 434, objective value: [32.42346873688213].\n"
     ]
    },
    {
     "name": "stderr",
     "output_type": "stream",
     "text": [
      "\r",
      " 43%|████████████████████████████████▌                                          | 434/1000 [5:24:45<7:37:17, 48.48s/it]"
     ]
    },
    {
     "name": "stdout",
     "output_type": "stream",
     "text": [
      "\t ----- reward: -32.42346873688213 for f_star and f_minus: 27.870093921757743 , 32.42346873688213\n",
      "\t ---------- State is:  (0, 7)\n",
      "[INFO] [2023-04-14 03:05:24,775] [OpenBox-SPO] Iteration 435, objective value: [44.84103090213969].\n"
     ]
    },
    {
     "name": "stderr",
     "output_type": "stream",
     "text": [
      "\r",
      " 44%|████████████████████████████████▋                                          | 435/1000 [5:25:37<7:47:54, 49.69s/it]"
     ]
    },
    {
     "name": "stdout",
     "output_type": "stream",
     "text": [
      "\t ----- reward: -44.84103090213969 for f_star and f_minus: 27.870093921757743 , 44.84103090213969\n",
      "\t ---------- State is:  (0, 8)\n",
      "[INFO] [2023-04-14 03:06:13,640] [OpenBox-SPO] Iteration 436, objective value: [34.769932575796375].\n"
     ]
    },
    {
     "name": "stderr",
     "output_type": "stream",
     "text": [
      "\r",
      " 44%|████████████████████████████████▋                                          | 436/1000 [5:26:26<7:44:45, 49.44s/it]"
     ]
    },
    {
     "name": "stdout",
     "output_type": "stream",
     "text": [
      "\t ----- reward: -34.769932575796375 for f_star and f_minus: 27.870093921757743 , 34.769932575796375\n",
      "\t ---------- State is:  (1, 8)\n",
      "[INFO] [2023-04-14 03:07:02,145] [OpenBox-SPO] Iteration 437, objective value: [28.550195094361428].\n"
     ]
    },
    {
     "name": "stderr",
     "output_type": "stream",
     "text": [
      "\r",
      " 44%|████████████████████████████████▊                                          | 437/1000 [5:27:14<7:41:17, 49.16s/it]"
     ]
    },
    {
     "name": "stdout",
     "output_type": "stream",
     "text": [
      "\t ----- reward: -28.550195094361428 for f_star and f_minus: 27.870093921757743 , 28.550195094361428\n",
      "\t ---------- State is:  (1, 8)\n",
      "[INFO] [2023-04-14 03:07:53,727] [OpenBox-SPO] Iteration 438, objective value: [40.874699731446526].\n"
     ]
    },
    {
     "name": "stderr",
     "output_type": "stream",
     "text": [
      "\r",
      " 44%|████████████████████████████████▊                                          | 438/1000 [5:28:06<7:47:16, 49.89s/it]"
     ]
    },
    {
     "name": "stdout",
     "output_type": "stream",
     "text": [
      "\t ----- reward: -40.874699731446526 for f_star and f_minus: 27.870093921757743 , 40.874699731446526\n",
      "\t ---------- State is:  (1, 8)\n",
      "[INFO] [2023-04-14 03:08:43,370] [OpenBox-SPO] Iteration 439, objective value: [35.711007215255634].\n"
     ]
    },
    {
     "name": "stderr",
     "output_type": "stream",
     "text": [
      "\r",
      " 44%|████████████████████████████████▉                                          | 439/1000 [5:28:56<7:45:45, 49.81s/it]"
     ]
    },
    {
     "name": "stdout",
     "output_type": "stream",
     "text": [
      "\t ----- reward: -35.711007215255634 for f_star and f_minus: 27.870093921757743 , 35.711007215255634\n",
      "\t ---------- State is:  (2, 8)\n",
      "[INFO] [2023-04-14 03:09:28,943] [OpenBox-SPO] Iteration 440, objective value: [31.99397990168586].\n"
     ]
    },
    {
     "name": "stderr",
     "output_type": "stream",
     "text": [
      "\r",
      " 44%|█████████████████████████████████                                          | 440/1000 [5:29:41<7:33:03, 48.54s/it]"
     ]
    },
    {
     "name": "stdout",
     "output_type": "stream",
     "text": [
      "\t ----- reward: -31.99397990168586 for f_star and f_minus: 27.870093921757743 , 31.99397990168586\n",
      "\t ---------- State is:  (1, 8)\n",
      "[INFO] [2023-04-14 03:10:14,423] [OpenBox-SPO] Iteration 441, objective value: [36.21641413125122].\n"
     ]
    },
    {
     "name": "stderr",
     "output_type": "stream",
     "text": [
      "\r",
      " 44%|█████████████████████████████████                                          | 441/1000 [5:30:27<7:23:41, 47.62s/it]"
     ]
    },
    {
     "name": "stdout",
     "output_type": "stream",
     "text": [
      "\t ----- reward: -36.21641413125122 for f_star and f_minus: 27.870093921757743 , 36.21641413125122\n",
      "\t ---------- State is:  (2, 8)\n",
      "[INFO] [2023-04-14 03:11:00,771] [OpenBox-SPO] Iteration 442, objective value: [37.544396992170306].\n"
     ]
    },
    {
     "name": "stderr",
     "output_type": "stream",
     "text": [
      "\r",
      " 44%|█████████████████████████████████▏                                         | 442/1000 [5:31:13<7:19:20, 47.24s/it]"
     ]
    },
    {
     "name": "stdout",
     "output_type": "stream",
     "text": [
      "\t ----- reward: -37.544396992170306 for f_star and f_minus: 27.870093921757743 , 37.544396992170306\n",
      "\t ---------- State is:  (3, 8)\n",
      "[INFO] [2023-04-14 03:11:49,164] [OpenBox-SPO] Iteration 443, objective value: [33.65922096446087].\n"
     ]
    },
    {
     "name": "stderr",
     "output_type": "stream",
     "text": [
      "\r",
      " 44%|█████████████████████████████████▏                                         | 443/1000 [5:32:01<7:21:45, 47.59s/it]"
     ]
    },
    {
     "name": "stdout",
     "output_type": "stream",
     "text": [
      "\t ----- reward: -33.65922096446087 for f_star and f_minus: 27.870093921757743 , 33.65922096446087\n",
      "\t ---------- State is:  (4, 8)\n",
      "[INFO] [2023-04-14 03:11:49,164] [Advisor] Sample random config. rand_prob=0.100000.\n",
      "[INFO] [2023-04-14 03:12:13,810] [OpenBox-SPO] Iteration 444, objective value: [60.35871901660927].\n"
     ]
    },
    {
     "name": "stderr",
     "output_type": "stream",
     "text": [
      "\r",
      " 44%|█████████████████████████████████▎                                         | 444/1000 [5:32:26<6:17:11, 40.70s/it]"
     ]
    },
    {
     "name": "stdout",
     "output_type": "stream",
     "text": [
      "\t ----- reward: -60.35871901660927 for f_star and f_minus: 27.870093921757743 , 60.35871901660927\n",
      "\t ---------- State is:  (4, 9)\n",
      "[INFO] [2023-04-14 03:13:04,146] [OpenBox-SPO] Iteration 445, objective value: [34.67339712618704].\n"
     ]
    },
    {
     "name": "stderr",
     "output_type": "stream",
     "text": [
      "\r",
      " 44%|█████████████████████████████████▍                                         | 445/1000 [5:33:16<6:43:14, 43.59s/it]"
     ]
    },
    {
     "name": "stdout",
     "output_type": "stream",
     "text": [
      "\t ----- reward: -34.67339712618704 for f_star and f_minus: 27.870093921757743 , 34.67339712618704\n",
      "\t ---------- State is:  (5, 9)\n",
      "[INFO] [2023-04-14 03:13:53,399] [OpenBox-SPO] Iteration 446, objective value: [30.488924216630792].\n"
     ]
    },
    {
     "name": "stderr",
     "output_type": "stream",
     "text": [
      "\r",
      " 45%|█████████████████████████████████▍                                         | 446/1000 [5:34:06<6:58:11, 45.29s/it]"
     ]
    },
    {
     "name": "stdout",
     "output_type": "stream",
     "text": [
      "\t ----- reward: -30.488924216630792 for f_star and f_minus: 27.870093921757743 , 30.488924216630792\n",
      "\t ---------- State is:  (4, 9)\n",
      "[INFO] [2023-04-14 03:14:41,159] [OpenBox-SPO] Iteration 447, objective value: [36.28457262614564].\n"
     ]
    },
    {
     "name": "stderr",
     "output_type": "stream",
     "text": [
      "\r",
      " 45%|█████████████████████████████████▌                                         | 447/1000 [5:34:53<7:04:15, 46.03s/it]"
     ]
    },
    {
     "name": "stdout",
     "output_type": "stream",
     "text": [
      "\t ----- reward: -36.28457262614564 for f_star and f_minus: 27.870093921757743 , 36.28457262614564\n",
      "\t ---------- State is:  (4, 9)\n",
      "[INFO] [2023-04-14 03:14:41,159] [Advisor] Sample random config. rand_prob=0.100000.\n",
      "[INFO] [2023-04-14 03:15:11,876] [OpenBox-SPO] Iteration 448, objective value: [60.74272221001208].\n"
     ]
    },
    {
     "name": "stderr",
     "output_type": "stream",
     "text": [
      "\r",
      " 45%|█████████████████████████████████▌                                         | 448/1000 [5:35:24<6:21:13, 41.44s/it]"
     ]
    },
    {
     "name": "stdout",
     "output_type": "stream",
     "text": [
      "\t ----- reward: -60.74272221001208 for f_star and f_minus: 27.870093921757743 , 60.74272221001208\n",
      "\t ---------- State is:  (4, 10)\n",
      "[INFO] [2023-04-14 03:16:00,786] [OpenBox-SPO] Iteration 449, objective value: [36.76676152468878].\n"
     ]
    },
    {
     "name": "stderr",
     "output_type": "stream",
     "text": [
      "\r",
      " 45%|█████████████████████████████████▋                                         | 449/1000 [5:36:13<6:41:07, 43.68s/it]"
     ]
    },
    {
     "name": "stdout",
     "output_type": "stream",
     "text": [
      "\t ----- reward: -36.76676152468878 for f_star and f_minus: 27.870093921757743 , 36.76676152468878\n",
      "\t ---------- State is:  (5, 9)\n",
      "[INFO] [2023-04-14 03:16:48,326] [OpenBox-SPO] Iteration 450, objective value: [45.88314209262258].\n"
     ]
    },
    {
     "name": "stderr",
     "output_type": "stream",
     "text": [
      "\r",
      " 45%|█████████████████████████████████▊                                         | 450/1000 [5:37:01<6:51:00, 44.84s/it]"
     ]
    },
    {
     "name": "stdout",
     "output_type": "stream",
     "text": [
      "\t ----- reward: -45.88314209262258 for f_star and f_minus: 27.870093921757743 , 45.88314209262258\n",
      "\t ---------- State is:  (6, 9)\n",
      "[INFO] [2023-04-14 03:17:38,891] [OpenBox-SPO] Iteration 451, objective value: [32.4588738746548].\n"
     ]
    },
    {
     "name": "stderr",
     "output_type": "stream",
     "text": [
      "\r",
      " 45%|█████████████████████████████████▊                                         | 451/1000 [5:37:51<7:05:59, 46.56s/it]"
     ]
    },
    {
     "name": "stdout",
     "output_type": "stream",
     "text": [
      "\t ----- reward: -32.4588738746548 for f_star and f_minus: 27.870093921757743 , 32.4588738746548\n",
      "\t ---------- State is:  (7, 9)\n",
      "[INFO] [2023-04-14 03:18:29,907] [OpenBox-SPO] Iteration 452, objective value: [33.38906393672558].\n"
     ]
    },
    {
     "name": "stderr",
     "output_type": "stream",
     "text": [
      "\r",
      " 45%|█████████████████████████████████▉                                         | 452/1000 [5:38:42<7:17:25, 47.89s/it]"
     ]
    },
    {
     "name": "stdout",
     "output_type": "stream",
     "text": [
      "\t ----- reward: -33.38906393672558 for f_star and f_minus: 27.870093921757743 , 33.38906393672558\n",
      "\t ---------- State is:  (6, 9)\n",
      "[INFO] [2023-04-14 03:19:17,464] [OpenBox-SPO] Iteration 453, objective value: [30.73230874855612].\n"
     ]
    },
    {
     "name": "stderr",
     "output_type": "stream",
     "text": [
      "\r",
      " 45%|█████████████████████████████████▉                                         | 453/1000 [5:39:30<7:15:42, 47.79s/it]"
     ]
    },
    {
     "name": "stdout",
     "output_type": "stream",
     "text": [
      "\t ----- reward: -30.73230874855612 for f_star and f_minus: 27.870093921757743 , 30.73230874855612\n",
      "\t ---------- State is:  (7, 9)\n",
      "[INFO] [2023-04-14 03:19:17,464] [Advisor] Sample random config. rand_prob=0.100000.\n",
      "[INFO] [2023-04-14 03:19:52,019] [OpenBox-SPO] Iteration 454, objective value: [56.93043724811858].\n"
     ]
    },
    {
     "name": "stderr",
     "output_type": "stream",
     "text": [
      "\r",
      " 45%|██████████████████████████████████                                         | 454/1000 [5:40:04<6:38:46, 43.82s/it]"
     ]
    },
    {
     "name": "stdout",
     "output_type": "stream",
     "text": [
      "\t ----- reward: -56.93043724811858 for f_star and f_minus: 27.870093921757743 , 56.93043724811858\n",
      "\t ---------- State is:  (7, 10)\n",
      "[INFO] [2023-04-14 03:20:41,973] [OpenBox-SPO] Iteration 455, objective value: [35.24760765879962].\n"
     ]
    },
    {
     "name": "stderr",
     "output_type": "stream",
     "text": [
      "\r",
      " 46%|██████████████████████████████████▏                                        | 455/1000 [5:40:54<6:54:45, 45.66s/it]"
     ]
    },
    {
     "name": "stdout",
     "output_type": "stream",
     "text": [
      "\t ----- reward: -35.24760765879962 for f_star and f_minus: 27.870093921757743 , 35.24760765879962\n",
      "\t ---------- State is:  (8, 10)\n",
      "[INFO] [2023-04-14 03:21:31,994] [OpenBox-SPO] Iteration 456, objective value: [38.12000525278768].\n"
     ]
    },
    {
     "name": "stderr",
     "output_type": "stream",
     "text": [
      "\r",
      " 46%|██████████████████████████████████▏                                        | 456/1000 [5:41:44<7:05:51, 46.97s/it]"
     ]
    },
    {
     "name": "stdout",
     "output_type": "stream",
     "text": [
      "\t ----- reward: -38.12000525278768 for f_star and f_minus: 27.870093921757743 , 38.12000525278768\n",
      "\t ---------- State is:  (8, 10)\n",
      "[INFO] [2023-04-14 03:22:23,189] [OpenBox-SPO] Iteration 457, objective value: [37.81891480702353].\n"
     ]
    },
    {
     "name": "stderr",
     "output_type": "stream",
     "text": [
      "\r",
      " 46%|██████████████████████████████████▎                                        | 457/1000 [5:42:36<7:16:32, 48.24s/it]"
     ]
    },
    {
     "name": "stdout",
     "output_type": "stream",
     "text": [
      "\t ----- reward: -37.81891480702353 for f_star and f_minus: 27.870093921757743 , 37.81891480702353\n",
      "\t ---------- State is:  (9, 10)\n",
      "[INFO] [2023-04-14 03:23:10,691] [OpenBox-SPO] Iteration 458, objective value: [38.07401643130375].\n"
     ]
    },
    {
     "name": "stderr",
     "output_type": "stream",
     "text": [
      "\r",
      " 46%|██████████████████████████████████▎                                        | 458/1000 [5:43:23<7:13:44, 48.02s/it]"
     ]
    },
    {
     "name": "stdout",
     "output_type": "stream",
     "text": [
      "\t ----- reward: -38.07401643130375 for f_star and f_minus: 27.870093921757743 , 38.07401643130375\n",
      "\t ---------- State is:  (10, 10)\n",
      "[INFO] [2023-04-14 03:23:10,691] [Advisor] Sample random config. rand_prob=0.100000.\n",
      "[INFO] [2023-04-14 03:23:40,284] [OpenBox-SPO] Iteration 459, objective value: [56.05343077238758].\n"
     ]
    },
    {
     "name": "stderr",
     "output_type": "stream",
     "text": [
      "\r",
      " 46%|██████████████████████████████████▍                                        | 459/1000 [5:43:53<6:23:06, 42.49s/it]"
     ]
    },
    {
     "name": "stdout",
     "output_type": "stream",
     "text": [
      "\t ----- reward: -56.05343077238758 for f_star and f_minus: 27.870093921757743 , 56.05343077238758\n",
      "\t ---------- State is:  (10, 11)\n",
      "[INFO] [2023-04-14 03:24:34,190] [OpenBox-SPO] Iteration 460, objective value: [37.29215929379451].\n"
     ]
    },
    {
     "name": "stderr",
     "output_type": "stream",
     "text": [
      "\r",
      " 46%|██████████████████████████████████▌                                        | 460/1000 [5:44:47<6:53:13, 45.91s/it]"
     ]
    },
    {
     "name": "stdout",
     "output_type": "stream",
     "text": [
      "\t ----- reward: -37.29215929379451 for f_star and f_minus: 27.870093921757743 , 37.29215929379451\n",
      "\t ---------- State is:  (10, 11)\n",
      "[INFO] [2023-04-14 03:25:20,407] [OpenBox-SPO] Iteration 461, objective value: [35.606260088052565].\n"
     ]
    },
    {
     "name": "stderr",
     "output_type": "stream",
     "text": [
      "\r",
      " 46%|██████████████████████████████████▌                                        | 461/1000 [5:45:33<6:53:16, 46.01s/it]"
     ]
    },
    {
     "name": "stdout",
     "output_type": "stream",
     "text": [
      "\t ----- reward: -35.606260088052565 for f_star and f_minus: 27.870093921757743 , 35.606260088052565\n",
      "\t ---------- State is:  (10, 11)\n",
      "[INFO] [2023-04-14 03:26:09,833] [OpenBox-SPO] Iteration 462, objective value: [39.131425415885126].\n"
     ]
    },
    {
     "name": "stderr",
     "output_type": "stream",
     "text": [
      "\r",
      " 46%|██████████████████████████████████▋                                        | 462/1000 [5:46:22<7:01:42, 47.03s/it]"
     ]
    },
    {
     "name": "stdout",
     "output_type": "stream",
     "text": [
      "\t ----- reward: -39.131425415885126 for f_star and f_minus: 27.870093921757743 , 39.131425415885126\n",
      "\t ---------- State is:  (9, 11)\n",
      "[INFO] [2023-04-14 03:27:01,946] [OpenBox-SPO] Iteration 463, objective value: [35.10070998227077].\n"
     ]
    },
    {
     "name": "stderr",
     "output_type": "stream",
     "text": [
      "\r",
      " 46%|██████████████████████████████████▋                                        | 463/1000 [5:47:14<7:14:34, 48.56s/it]"
     ]
    },
    {
     "name": "stdout",
     "output_type": "stream",
     "text": [
      "\t ----- reward: -35.10070998227077 for f_star and f_minus: 27.870093921757743 , 35.10070998227077\n",
      "\t ---------- State is:  (8, 11)\n",
      "[INFO] [2023-04-14 03:27:52,556] [OpenBox-SPO] Iteration 464, objective value: [41.58186005549839].\n"
     ]
    },
    {
     "name": "stderr",
     "output_type": "stream",
     "text": [
      "\r",
      " 46%|██████████████████████████████████▊                                        | 464/1000 [5:48:05<7:19:16, 49.17s/it]"
     ]
    },
    {
     "name": "stdout",
     "output_type": "stream",
     "text": [
      "\t ----- reward: -41.58186005549839 for f_star and f_minus: 27.870093921757743 , 41.58186005549839\n",
      "\t ---------- State is:  (8, 11)\n",
      "[INFO] [2023-04-14 03:28:42,356] [OpenBox-SPO] Iteration 465, objective value: [31.132201343063514].\n"
     ]
    },
    {
     "name": "stderr",
     "output_type": "stream",
     "text": [
      "\r",
      " 46%|██████████████████████████████████▉                                        | 465/1000 [5:48:55<7:20:07, 49.36s/it]"
     ]
    },
    {
     "name": "stdout",
     "output_type": "stream",
     "text": [
      "\t ----- reward: -31.132201343063514 for f_star and f_minus: 27.870093921757743 , 31.132201343063514\n",
      "\t ---------- State is:  (9, 10)\n",
      "[INFO] [2023-04-14 03:29:32,216] [OpenBox-SPO] Iteration 466, objective value: [33.03340642392368].\n"
     ]
    },
    {
     "name": "stderr",
     "output_type": "stream",
     "text": [
      "\r",
      " 47%|██████████████████████████████████▉                                        | 466/1000 [5:49:45<7:20:38, 49.51s/it]"
     ]
    },
    {
     "name": "stdout",
     "output_type": "stream",
     "text": [
      "\t ----- reward: -33.03340642392368 for f_star and f_minus: 27.870093921757743 , 33.03340642392368\n",
      "\t ---------- State is:  (8, 10)\n",
      "[INFO] [2023-04-14 03:30:25,966] [OpenBox-SPO] Iteration 467, objective value: [33.17345517778766].\n"
     ]
    },
    {
     "name": "stderr",
     "output_type": "stream",
     "text": [
      "\r",
      " 47%|███████████████████████████████████                                        | 467/1000 [5:50:38<7:31:06, 50.78s/it]"
     ]
    },
    {
     "name": "stdout",
     "output_type": "stream",
     "text": [
      "\t ----- reward: -33.17345517778766 for f_star and f_minus: 27.870093921757743 , 33.17345517778766\n",
      "\t ---------- State is:  (8, 10)\n",
      "[INFO] [2023-04-14 03:30:25,966] [Advisor] Sample random config. rand_prob=0.100000.\n",
      "[INFO] [2023-04-14 03:30:52,991] [OpenBox-SPO] Iteration 468, objective value: [60.50283175461239].\n"
     ]
    },
    {
     "name": "stderr",
     "output_type": "stream",
     "text": [
      "\r",
      " 47%|███████████████████████████████████                                        | 468/1000 [5:51:05<6:27:04, 43.65s/it]"
     ]
    },
    {
     "name": "stdout",
     "output_type": "stream",
     "text": [
      "\t ----- reward: -60.50283175461239 for f_star and f_minus: 27.870093921757743 , 60.50283175461239\n",
      "\t ---------- State is:  (8, 11)\n",
      "[INFO] [2023-04-14 03:31:44,950] [OpenBox-SPO] Iteration 469, objective value: [33.5381128964175].\n"
     ]
    },
    {
     "name": "stderr",
     "output_type": "stream",
     "text": [
      "\r",
      " 47%|███████████████████████████████████▏                                       | 469/1000 [5:51:57<6:48:23, 46.15s/it]"
     ]
    },
    {
     "name": "stdout",
     "output_type": "stream",
     "text": [
      "\t ----- reward: -33.5381128964175 for f_star and f_minus: 27.870093921757743 , 33.5381128964175\n",
      "\t ---------- State is:  (8, 11)\n",
      "[INFO] [2023-04-14 03:32:34,232] [OpenBox-SPO] Iteration 470, objective value: [31.852185925116444].\n"
     ]
    },
    {
     "name": "stderr",
     "output_type": "stream",
     "text": [
      "\r",
      " 47%|███████████████████████████████████▎                                       | 470/1000 [5:52:47<6:55:56, 47.09s/it]"
     ]
    },
    {
     "name": "stdout",
     "output_type": "stream",
     "text": [
      "\t ----- reward: -31.852185925116444 for f_star and f_minus: 27.870093921757743 , 31.852185925116444\n",
      "\t ---------- State is:  (9, 11)\n",
      "[INFO] [2023-04-14 03:33:26,754] [OpenBox-SPO] Iteration 471, objective value: [29.279755539296914].\n"
     ]
    },
    {
     "name": "stderr",
     "output_type": "stream",
     "text": [
      "\r",
      " 47%|███████████████████████████████████▎                                       | 471/1000 [5:53:39<7:09:31, 48.72s/it]"
     ]
    },
    {
     "name": "stdout",
     "output_type": "stream",
     "text": [
      "\t ----- reward: -29.279755539296914 for f_star and f_minus: 27.870093921757743 , 29.279755539296914\n",
      "\t ---------- State is:  (10, 11)\n",
      "[INFO] [2023-04-14 03:34:16,316] [OpenBox-SPO] Iteration 472, objective value: [39.00786906180428].\n"
     ]
    },
    {
     "name": "stderr",
     "output_type": "stream",
     "text": [
      "\r",
      " 47%|███████████████████████████████████▍                                       | 472/1000 [5:54:29<7:10:56, 48.97s/it]"
     ]
    },
    {
     "name": "stdout",
     "output_type": "stream",
     "text": [
      "\t ----- reward: -39.00786906180428 for f_star and f_minus: 27.870093921757743 , 39.00786906180428\n",
      "\t ---------- State is:  (10, 11)\n",
      "[INFO] [2023-04-14 03:35:06,693] [OpenBox-SPO] Iteration 473, objective value: [37.07169370479673].\n"
     ]
    },
    {
     "name": "stderr",
     "output_type": "stream",
     "text": [
      "\r",
      " 47%|███████████████████████████████████▍                                       | 473/1000 [5:55:19<7:13:49, 49.39s/it]"
     ]
    },
    {
     "name": "stdout",
     "output_type": "stream",
     "text": [
      "\t ----- reward: -37.07169370479673 for f_star and f_minus: 27.870093921757743 , 37.07169370479673\n",
      "\t ---------- State is:  (10, 11)\n",
      "[INFO] [2023-04-14 03:35:58,161] [OpenBox-SPO] Iteration 474, objective value: [28.270202337365617].\n"
     ]
    },
    {
     "name": "stderr",
     "output_type": "stream",
     "text": [
      "\r",
      " 47%|███████████████████████████████████▌                                       | 474/1000 [5:56:10<7:18:28, 50.02s/it]"
     ]
    },
    {
     "name": "stdout",
     "output_type": "stream",
     "text": [
      "\t ----- reward: -28.270202337365617 for f_star and f_minus: 27.870093921757743 , 28.270202337365617\n",
      "\t ---------- State is:  (9, 10)\n",
      "[INFO] [2023-04-14 03:36:43,269] [OpenBox-SPO] Iteration 475, objective value: [42.780829421077335].\n"
     ]
    },
    {
     "name": "stderr",
     "output_type": "stream",
     "text": [
      "\r",
      " 48%|███████████████████████████████████▋                                       | 475/1000 [5:56:56<7:04:45, 48.54s/it]"
     ]
    },
    {
     "name": "stdout",
     "output_type": "stream",
     "text": [
      "\t ----- reward: -42.780829421077335 for f_star and f_minus: 27.870093921757743 , 42.780829421077335\n",
      "\t ---------- State is:  (10, 10)\n",
      "[INFO] [2023-04-14 03:37:38,012] [OpenBox-SPO] Iteration 476, objective value: [29.4851832879677].\n"
     ]
    },
    {
     "name": "stderr",
     "output_type": "stream",
     "text": [
      "\r",
      " 48%|███████████████████████████████████▋                                       | 476/1000 [5:57:50<7:20:11, 50.40s/it]"
     ]
    },
    {
     "name": "stdout",
     "output_type": "stream",
     "text": [
      "\t ----- reward: -29.4851832879677 for f_star and f_minus: 27.870093921757743 , 29.4851832879677\n",
      "\t ---------- State is:  (10, 10)\n",
      "[INFO] [2023-04-14 03:38:30,574] [OpenBox-SPO] Iteration 477, objective value: [29.62727093839088].\n"
     ]
    },
    {
     "name": "stderr",
     "output_type": "stream",
     "text": [
      "\r",
      " 48%|███████████████████████████████████▊                                       | 477/1000 [5:58:43<7:24:59, 51.05s/it]"
     ]
    },
    {
     "name": "stdout",
     "output_type": "stream",
     "text": [
      "\t ----- reward: -29.62727093839088 for f_star and f_minus: 27.870093921757743 , 29.62727093839088\n",
      "\t ---------- State is:  (9, 10)\n",
      "[INFO] [2023-04-14 03:39:22,242] [OpenBox-SPO] Iteration 478, objective value: [32.779675515277674].\n"
     ]
    },
    {
     "name": "stderr",
     "output_type": "stream",
     "text": [
      "\r",
      " 48%|███████████████████████████████████▊                                       | 478/1000 [5:59:35<7:25:45, 51.24s/it]"
     ]
    },
    {
     "name": "stdout",
     "output_type": "stream",
     "text": [
      "\t ----- reward: -32.779675515277674 for f_star and f_minus: 27.870093921757743 , 32.779675515277674\n",
      "\t ---------- State is:  (9, 9)\n",
      "[INFO] [2023-04-14 03:40:14,784] [OpenBox-SPO] Iteration 479, objective value: [32.087744239104296].\n"
     ]
    },
    {
     "name": "stderr",
     "output_type": "stream",
     "text": [
      "\r",
      " 48%|███████████████████████████████████▉                                       | 479/1000 [6:00:27<7:28:18, 51.63s/it]"
     ]
    },
    {
     "name": "stdout",
     "output_type": "stream",
     "text": [
      "\t ----- reward: -32.087744239104296 for f_star and f_minus: 27.870093921757743 , 32.087744239104296\n",
      "\t ---------- State is:  (8, 9)\n",
      "[INFO] [2023-04-14 03:41:06,829] [OpenBox-SPO] Iteration 480, objective value: [30.711598752795354].\n"
     ]
    },
    {
     "name": "stderr",
     "output_type": "stream",
     "text": [
      "\r",
      " 48%|████████████████████████████████████                                       | 480/1000 [6:01:19<7:28:31, 51.75s/it]"
     ]
    },
    {
     "name": "stdout",
     "output_type": "stream",
     "text": [
      "\t ----- reward: -30.711598752795354 for f_star and f_minus: 27.870093921757743 , 30.711598752795354\n",
      "\t ---------- State is:  (9, 8)\n",
      "[INFO] [2023-04-14 03:41:53,804] [OpenBox-SPO] Iteration 481, objective value: [34.450323383007444].\n"
     ]
    },
    {
     "name": "stderr",
     "output_type": "stream",
     "text": [
      "\r",
      " 48%|████████████████████████████████████                                       | 481/1000 [6:02:06<7:15:15, 50.32s/it]"
     ]
    },
    {
     "name": "stdout",
     "output_type": "stream",
     "text": [
      "\t ----- reward: -34.450323383007444 for f_star and f_minus: 27.870093921757743 , 34.450323383007444\n",
      "\t ---------- State is:  (8, 8)\n",
      "[INFO] [2023-04-14 03:42:45,077] [OpenBox-SPO] Iteration 482, objective value: [30.933421083483097].\n"
     ]
    },
    {
     "name": "stderr",
     "output_type": "stream",
     "text": [
      "\r",
      " 48%|████████████████████████████████████▏                                      | 482/1000 [6:02:57<7:16:53, 50.61s/it]"
     ]
    },
    {
     "name": "stdout",
     "output_type": "stream",
     "text": [
      "\t ----- reward: -30.933421083483097 for f_star and f_minus: 27.870093921757743 , 30.933421083483097\n",
      "\t ---------- State is:  (9, 8)\n",
      "[INFO] [2023-04-14 03:43:34,519] [OpenBox-SPO] Iteration 483, objective value: [34.77877934618873].\n"
     ]
    },
    {
     "name": "stderr",
     "output_type": "stream",
     "text": [
      "\r",
      " 48%|████████████████████████████████████▏                                      | 483/1000 [6:03:47<7:13:05, 50.26s/it]"
     ]
    },
    {
     "name": "stdout",
     "output_type": "stream",
     "text": [
      "\t ----- reward: -34.77877934618873 for f_star and f_minus: 27.870093921757743 , 34.77877934618873\n",
      "\t ---------- State is:  (10, 8)\n",
      "[INFO] [2023-04-14 03:44:23,211] [OpenBox-SPO] Iteration 484, objective value: [40.8906478558386].\n"
     ]
    },
    {
     "name": "stderr",
     "output_type": "stream",
     "text": [
      "\r",
      " 48%|████████████████████████████████████▎                                      | 484/1000 [6:04:36<7:08:09, 49.79s/it]"
     ]
    },
    {
     "name": "stdout",
     "output_type": "stream",
     "text": [
      "\t ----- reward: -40.8906478558386 for f_star and f_minus: 27.870093921757743 , 40.8906478558386\n",
      "\t ---------- State is:  (10, 8)\n",
      "[INFO] [2023-04-14 03:45:15,033] [OpenBox-SPO] Iteration 485, objective value: [47.146974978749576].\n"
     ]
    },
    {
     "name": "stderr",
     "output_type": "stream",
     "text": [
      "\r",
      " 48%|████████████████████████████████████▍                                      | 485/1000 [6:05:27<7:12:34, 50.40s/it]"
     ]
    },
    {
     "name": "stdout",
     "output_type": "stream",
     "text": [
      "\t ----- reward: -47.146974978749576 for f_star and f_minus: 27.870093921757743 , 47.146974978749576\n",
      "\t ---------- State is:  (10, 8)\n",
      "[INFO] [2023-04-14 03:45:15,033] [Advisor] Sample random config. rand_prob=0.100000.\n",
      "[INFO] [2023-04-14 03:45:52,394] [OpenBox-SPO] Iteration 486, objective value: [52.75752322793329].\n"
     ]
    },
    {
     "name": "stderr",
     "output_type": "stream",
     "text": [
      "\r",
      " 49%|████████████████████████████████████▍                                      | 486/1000 [6:06:05<6:38:13, 46.49s/it]"
     ]
    },
    {
     "name": "stdout",
     "output_type": "stream",
     "text": [
      "\t ----- reward: -52.75752322793329 for f_star and f_minus: 27.870093921757743 , 52.75752322793329\n",
      "\t ---------- State is:  (9, 9)\n",
      "[INFO] [2023-04-14 03:46:42,656] [OpenBox-SPO] Iteration 487, objective value: [38.156727685643986].\n"
     ]
    },
    {
     "name": "stderr",
     "output_type": "stream",
     "text": [
      "\r",
      " 49%|████████████████████████████████████▌                                      | 487/1000 [6:06:55<6:47:08, 47.62s/it]"
     ]
    },
    {
     "name": "stdout",
     "output_type": "stream",
     "text": [
      "\t ----- reward: -38.156727685643986 for f_star and f_minus: 27.870093921757743 , 38.156727685643986\n",
      "\t ---------- State is:  (9, 9)\n",
      "[INFO] [2023-04-14 03:47:32,245] [OpenBox-SPO] Iteration 488, objective value: [31.395478795971783].\n"
     ]
    },
    {
     "name": "stderr",
     "output_type": "stream",
     "text": [
      "\r",
      " 49%|████████████████████████████████████▌                                      | 488/1000 [6:07:45<6:51:23, 48.21s/it]"
     ]
    },
    {
     "name": "stdout",
     "output_type": "stream",
     "text": [
      "\t ----- reward: -31.395478795971783 for f_star and f_minus: 27.870093921757743 , 31.395478795971783\n",
      "\t ---------- State is:  (10, 9)\n",
      "[INFO] [2023-04-14 03:48:22,146] [OpenBox-SPO] Iteration 489, objective value: [32.42416856925672].\n"
     ]
    },
    {
     "name": "stderr",
     "output_type": "stream",
     "text": [
      "\r",
      " 49%|████████████████████████████████████▋                                      | 489/1000 [6:08:34<6:54:54, 48.72s/it]"
     ]
    },
    {
     "name": "stdout",
     "output_type": "stream",
     "text": [
      "\t ----- reward: -32.42416856925672 for f_star and f_minus: 27.870093921757743 , 32.42416856925672\n",
      "\t ---------- State is:  (9, 8)\n",
      "[INFO] [2023-04-14 03:49:11,573] [OpenBox-SPO] Iteration 490, objective value: [28.624941034096224].\n"
     ]
    },
    {
     "name": "stderr",
     "output_type": "stream",
     "text": [
      "\r",
      " 49%|████████████████████████████████████▊                                      | 490/1000 [6:09:24<6:55:54, 48.93s/it]"
     ]
    },
    {
     "name": "stdout",
     "output_type": "stream",
     "text": [
      "\t ----- reward: -28.624941034096224 for f_star and f_minus: 27.870093921757743 , 28.624941034096224\n",
      "\t ---------- State is:  (9, 8)\n",
      "[INFO] [2023-04-14 03:50:03,696] [OpenBox-SPO] Iteration 491, objective value: [33.02876013571783].\n"
     ]
    },
    {
     "name": "stderr",
     "output_type": "stream",
     "text": [
      "\r",
      " 49%|████████████████████████████████████▊                                      | 491/1000 [6:10:16<7:03:13, 49.89s/it]"
     ]
    },
    {
     "name": "stdout",
     "output_type": "stream",
     "text": [
      "\t ----- reward: -33.02876013571783 for f_star and f_minus: 27.870093921757743 , 33.02876013571783\n",
      "\t ---------- State is:  (9, 7)\n",
      "[INFO] [2023-04-14 03:50:03,696] [Advisor] Sample random config. rand_prob=0.100000.\n",
      "[INFO] [2023-04-14 03:50:42,141] [OpenBox-SPO] Iteration 492, objective value: [49.34351473770745].\n"
     ]
    },
    {
     "name": "stderr",
     "output_type": "stream",
     "text": [
      "\r",
      " 49%|████████████████████████████████████▉                                      | 492/1000 [6:10:54<6:33:19, 46.46s/it]"
     ]
    },
    {
     "name": "stdout",
     "output_type": "stream",
     "text": [
      "\t ----- reward: -49.34351473770745 for f_star and f_minus: 27.870093921757743 , 49.34351473770745\n",
      "\t ---------- State is:  (10, 8)\n",
      "[INFO] [2023-04-14 03:51:33,542] [OpenBox-SPO] Iteration 493, objective value: [32.80078378724937].\n"
     ]
    },
    {
     "name": "stderr",
     "output_type": "stream",
     "text": [
      "\r",
      " 49%|████████████████████████████████████▉                                      | 493/1000 [6:11:46<6:45:04, 47.94s/it]"
     ]
    },
    {
     "name": "stdout",
     "output_type": "stream",
     "text": [
      "\t ----- reward: -32.80078378724937 for f_star and f_minus: 27.870093921757743 , 32.80078378724937\n",
      "\t ---------- State is:  (10, 8)\n",
      "[INFO] [2023-04-14 03:51:33,542] [Advisor] Sample random config. rand_prob=0.100000.\n",
      "[INFO] [2023-04-14 03:52:04,726] [OpenBox-SPO] Iteration 494, objective value: [59.49656848054264].\n"
     ]
    },
    {
     "name": "stderr",
     "output_type": "stream",
     "text": [
      "\r",
      " 49%|█████████████████████████████████████                                      | 494/1000 [6:12:17<6:01:53, 42.91s/it]"
     ]
    },
    {
     "name": "stdout",
     "output_type": "stream",
     "text": [
      "\t ----- reward: -59.49656848054264 for f_star and f_minus: 27.870093921757743 , 59.49656848054264\n",
      "\t ---------- State is:  (10, 8)\n",
      "[INFO] [2023-04-14 03:52:51,390] [OpenBox-SPO] Iteration 495, objective value: [40.023804398885055].\n"
     ]
    },
    {
     "name": "stderr",
     "output_type": "stream",
     "text": [
      "\r",
      " 50%|█████████████████████████████████████▏                                     | 495/1000 [6:13:04<6:10:39, 44.04s/it]"
     ]
    },
    {
     "name": "stdout",
     "output_type": "stream",
     "text": [
      "\t ----- reward: -40.023804398885055 for f_star and f_minus: 27.870093921757743 , 40.023804398885055\n",
      "\t ---------- State is:  (9, 9)\n",
      "[INFO] [2023-04-14 03:53:41,681] [OpenBox-SPO] Iteration 496, objective value: [34.15977863967808].\n"
     ]
    },
    {
     "name": "stderr",
     "output_type": "stream",
     "text": [
      "\r",
      " 50%|█████████████████████████████████████▏                                     | 496/1000 [6:13:54<6:25:40, 45.91s/it]"
     ]
    },
    {
     "name": "stdout",
     "output_type": "stream",
     "text": [
      "\t ----- reward: -34.15977863967808 for f_star and f_minus: 27.870093921757743 , 34.15977863967808\n",
      "\t ---------- State is:  (8, 9)\n",
      "[INFO] [2023-04-14 03:54:30,346] [OpenBox-SPO] Iteration 497, objective value: [32.088944380752366].\n"
     ]
    },
    {
     "name": "stderr",
     "output_type": "stream",
     "text": [
      "\r",
      " 50%|█████████████████████████████████████▎                                     | 497/1000 [6:14:43<6:31:49, 46.74s/it]"
     ]
    },
    {
     "name": "stdout",
     "output_type": "stream",
     "text": [
      "\t ----- reward: -32.088944380752366 for f_star and f_minus: 27.870093921757743 , 32.088944380752366\n",
      "\t ---------- State is:  (8, 9)\n",
      "[INFO] [2023-04-14 03:55:24,072] [OpenBox-SPO] Iteration 498, objective value: [37.992393839584324].\n"
     ]
    },
    {
     "name": "stderr",
     "output_type": "stream",
     "text": [
      "\r",
      " 50%|█████████████████████████████████████▎                                     | 498/1000 [6:15:36<6:48:35, 48.84s/it]"
     ]
    },
    {
     "name": "stdout",
     "output_type": "stream",
     "text": [
      "\t ----- reward: -37.992393839584324 for f_star and f_minus: 27.870093921757743 , 37.992393839584324\n",
      "\t ---------- State is:  (7, 8)\n",
      "[INFO] [2023-04-14 03:56:10,916] [OpenBox-SPO] Iteration 499, objective value: [34.123007376207354].\n"
     ]
    },
    {
     "name": "stderr",
     "output_type": "stream",
     "text": [
      "\r",
      " 50%|█████████████████████████████████████▍                                     | 499/1000 [6:16:23<6:42:47, 48.24s/it]"
     ]
    },
    {
     "name": "stdout",
     "output_type": "stream",
     "text": [
      "\t ----- reward: -34.123007376207354 for f_star and f_minus: 27.870093921757743 , 34.123007376207354\n",
      "\t ---------- State is:  (6, 8)\n",
      "[INFO] [2023-04-14 03:56:54,244] [OpenBox-SPO] Iteration 500, objective value: [39.674770901140135].\n"
     ]
    },
    {
     "name": "stderr",
     "output_type": "stream",
     "text": [
      "\r",
      " 50%|█████████████████████████████████████▌                                     | 500/1000 [6:17:07<6:29:42, 46.76s/it]"
     ]
    },
    {
     "name": "stdout",
     "output_type": "stream",
     "text": [
      "\t ----- reward: -39.674770901140135 for f_star and f_minus: 27.870093921757743 , 39.674770901140135\n",
      "\t ---------- State is:  (6, 8)\n",
      "[INFO] [2023-04-14 03:57:42,791] [OpenBox-SPO] Iteration 501, objective value: [38.59495295239109].\n"
     ]
    },
    {
     "name": "stderr",
     "output_type": "stream",
     "text": [
      "\r",
      " 50%|█████████████████████████████████████▌                                     | 501/1000 [6:17:55<6:33:22, 47.30s/it]"
     ]
    },
    {
     "name": "stdout",
     "output_type": "stream",
     "text": [
      "\t ----- reward: -38.59495295239109 for f_star and f_minus: 27.870093921757743 , 38.59495295239109\n",
      "\t ---------- State is:  (7, 8)\n",
      "[INFO] [2023-04-14 03:58:33,403] [OpenBox-SPO] Iteration 502, objective value: [32.19242596804706].\n"
     ]
    },
    {
     "name": "stderr",
     "output_type": "stream",
     "text": [
      "\r",
      " 50%|█████████████████████████████████████▋                                     | 502/1000 [6:18:46<6:40:49, 48.29s/it]"
     ]
    },
    {
     "name": "stdout",
     "output_type": "stream",
     "text": [
      "\t ----- reward: -32.19242596804706 for f_star and f_minus: 27.870093921757743 , 32.19242596804706\n",
      "\t ---------- State is:  (7, 8)\n",
      "[INFO] [2023-04-14 03:59:21,325] [OpenBox-SPO] Iteration 503, objective value: [29.153667010732974].\n"
     ]
    },
    {
     "name": "stderr",
     "output_type": "stream",
     "text": [
      "\r",
      " 50%|█████████████████████████████████████▋                                     | 503/1000 [6:19:34<6:39:06, 48.18s/it]"
     ]
    },
    {
     "name": "stdout",
     "output_type": "stream",
     "text": [
      "\t ----- reward: -29.153667010732974 for f_star and f_minus: 27.870093921757743 , 29.153667010732974\n",
      "\t ---------- State is:  (7, 8)\n",
      "[INFO] [2023-04-14 04:00:06,978] [OpenBox-SPO] Iteration 504, objective value: [34.49914971274475].\n"
     ]
    },
    {
     "name": "stderr",
     "output_type": "stream",
     "text": [
      "\r",
      " 50%|█████████████████████████████████████▊                                     | 504/1000 [6:20:19<6:32:01, 47.42s/it]"
     ]
    },
    {
     "name": "stdout",
     "output_type": "stream",
     "text": [
      "\t ----- reward: -34.49914971274475 for f_star and f_minus: 27.870093921757743 , 34.49914971274475\n",
      "\t ---------- State is:  (6, 8)\n",
      "[INFO] [2023-04-14 04:00:53,160] [OpenBox-SPO] Iteration 505, objective value: [37.254935184894165].\n"
     ]
    },
    {
     "name": "stderr",
     "output_type": "stream",
     "text": [
      "\r",
      " 50%|█████████████████████████████████████▉                                     | 505/1000 [6:21:05<6:28:10, 47.05s/it]"
     ]
    },
    {
     "name": "stdout",
     "output_type": "stream",
     "text": [
      "\t ----- reward: -37.254935184894165 for f_star and f_minus: 27.870093921757743 , 37.254935184894165\n",
      "\t ---------- State is:  (6, 8)\n",
      "[INFO] [2023-04-14 04:01:44,920] [OpenBox-SPO] Iteration 506, objective value: [31.311728324749836].\n"
     ]
    },
    {
     "name": "stderr",
     "output_type": "stream",
     "text": [
      "\r",
      " 51%|█████████████████████████████████████▉                                     | 506/1000 [6:21:57<6:39:01, 48.46s/it]"
     ]
    },
    {
     "name": "stdout",
     "output_type": "stream",
     "text": [
      "\t ----- reward: -31.311728324749836 for f_star and f_minus: 27.870093921757743 , 31.311728324749836\n",
      "\t ---------- State is:  (7, 8)\n",
      "[INFO] [2023-04-14 04:02:36,582] [OpenBox-SPO] Iteration 507, objective value: [35.05129354895888].\n"
     ]
    },
    {
     "name": "stderr",
     "output_type": "stream",
     "text": [
      "\r",
      " 51%|██████████████████████████████████████                                     | 507/1000 [6:22:49<6:46:05, 49.42s/it]"
     ]
    },
    {
     "name": "stdout",
     "output_type": "stream",
     "text": [
      "\t ----- reward: -35.05129354895888 for f_star and f_minus: 27.870093921757743 , 35.05129354895888\n",
      "\t ---------- State is:  (7, 8)\n",
      "[INFO] [2023-04-14 04:03:28,179] [OpenBox-SPO] Iteration 508, objective value: [33.649906718593044].\n"
     ]
    },
    {
     "name": "stderr",
     "output_type": "stream",
     "text": [
      "\r",
      " 51%|██████████████████████████████████████                                     | 508/1000 [6:23:41<6:50:37, 50.08s/it]"
     ]
    },
    {
     "name": "stdout",
     "output_type": "stream",
     "text": [
      "\t ----- reward: -33.649906718593044 for f_star and f_minus: 27.870093921757743 , 33.649906718593044\n",
      "\t ---------- State is:  (6, 8)\n",
      "[INFO] [2023-04-14 04:04:11,839] [OpenBox-SPO] Iteration 509, objective value: [35.38303594403094].\n"
     ]
    },
    {
     "name": "stderr",
     "output_type": "stream",
     "text": [
      "\r",
      " 51%|██████████████████████████████████████▏                                    | 509/1000 [6:24:24<6:34:02, 48.15s/it]"
     ]
    },
    {
     "name": "stdout",
     "output_type": "stream",
     "text": [
      "\t ----- reward: -35.38303594403094 for f_star and f_minus: 27.870093921757743 , 35.38303594403094\n",
      "\t ---------- State is:  (5, 8)\n",
      "[INFO] [2023-04-14 04:04:58,974] [OpenBox-SPO] Iteration 510, objective value: [31.756619332132047].\n"
     ]
    },
    {
     "name": "stderr",
     "output_type": "stream",
     "text": [
      "\r",
      " 51%|██████████████████████████████████████▎                                    | 510/1000 [6:25:11<6:30:44, 47.85s/it]"
     ]
    },
    {
     "name": "stdout",
     "output_type": "stream",
     "text": [
      "\t ----- reward: -31.756619332132047 for f_star and f_minus: 27.870093921757743 , 31.756619332132047\n",
      "\t ---------- State is:  (5, 8)\n",
      "[INFO] [2023-04-14 04:05:48,116] [OpenBox-SPO] Iteration 511, objective value: [30.104838810989648].\n"
     ]
    },
    {
     "name": "stderr",
     "output_type": "stream",
     "text": [
      "\r",
      " 51%|██████████████████████████████████████▎                                    | 511/1000 [6:26:00<6:33:06, 48.23s/it]"
     ]
    },
    {
     "name": "stdout",
     "output_type": "stream",
     "text": [
      "\t ----- reward: -30.104838810989648 for f_star and f_minus: 27.870093921757743 , 30.104838810989648\n",
      "\t ---------- State is:  (4, 8)\n",
      "[INFO] [2023-04-14 04:06:32,078] [OpenBox-SPO] Iteration 512, objective value: [36.653750542941374].\n"
     ]
    },
    {
     "name": "stderr",
     "output_type": "stream",
     "text": [
      "\r",
      " 51%|██████████████████████████████████████▍                                    | 512/1000 [6:26:44<6:21:53, 46.95s/it]"
     ]
    },
    {
     "name": "stdout",
     "output_type": "stream",
     "text": [
      "\t ----- reward: -36.653750542941374 for f_star and f_minus: 27.870093921757743 , 36.653750542941374\n",
      "\t ---------- State is:  (3, 8)\n",
      "[INFO] [2023-04-14 04:07:12,761] [OpenBox-SPO] Iteration 513, objective value: [35.661172061521484].\n"
     ]
    },
    {
     "name": "stderr",
     "output_type": "stream",
     "text": [
      "\r",
      " 51%|██████████████████████████████████████▍                                    | 513/1000 [6:27:25<6:05:50, 45.07s/it]"
     ]
    },
    {
     "name": "stdout",
     "output_type": "stream",
     "text": [
      "\t ----- reward: -35.661172061521484 for f_star and f_minus: 27.870093921757743 , 35.661172061521484\n",
      "\t ---------- State is:  (2, 8)\n",
      "[INFO] [2023-04-14 04:07:58,103] [OpenBox-SPO] Iteration 514, objective value: [35.119643251279626].\n"
     ]
    },
    {
     "name": "stderr",
     "output_type": "stream",
     "text": [
      "\r",
      " 51%|██████████████████████████████████████▌                                    | 514/1000 [6:28:10<6:05:44, 45.15s/it]"
     ]
    },
    {
     "name": "stdout",
     "output_type": "stream",
     "text": [
      "\t ----- reward: -35.119643251279626 for f_star and f_minus: 27.870093921757743 , 35.119643251279626\n",
      "\t ---------- State is:  (1, 8)\n",
      "[INFO] [2023-04-14 04:08:52,716] [OpenBox-SPO] Iteration 515, objective value: [43.19077134676602].\n"
     ]
    },
    {
     "name": "stderr",
     "output_type": "stream",
     "text": [
      "\r",
      " 52%|██████████████████████████████████████▋                                    | 515/1000 [6:29:05<6:27:55, 47.99s/it]"
     ]
    },
    {
     "name": "stdout",
     "output_type": "stream",
     "text": [
      "\t ----- reward: -43.19077134676602 for f_star and f_minus: 27.870093921757743 , 43.19077134676602\n",
      "\t ---------- State is:  (0, 8)\n",
      "[INFO] [2023-04-14 04:08:52,716] [Advisor] Sample random config. rand_prob=0.100000.\n",
      "[INFO] [2023-04-14 04:09:30,197] [OpenBox-SPO] Iteration 516, objective value: [53.24637084456921].\n"
     ]
    },
    {
     "name": "stderr",
     "output_type": "stream",
     "text": [
      "\r",
      " 52%|██████████████████████████████████████▋                                    | 516/1000 [6:29:43<6:01:41, 44.84s/it]"
     ]
    },
    {
     "name": "stdout",
     "output_type": "stream",
     "text": [
      "\t ----- reward: -53.24637084456921 for f_star and f_minus: 27.870093921757743 , 53.24637084456921\n",
      "\t ---------- State is:  (0, 8)\n",
      "[INFO] [2023-04-14 04:10:20,366] [OpenBox-SPO] Iteration 517, objective value: [47.20335821113517].\n"
     ]
    },
    {
     "name": "stderr",
     "output_type": "stream",
     "text": [
      "\r",
      " 52%|██████████████████████████████████████▊                                    | 517/1000 [6:30:33<6:13:49, 46.44s/it]"
     ]
    },
    {
     "name": "stdout",
     "output_type": "stream",
     "text": [
      "\t ----- reward: -47.20335821113517 for f_star and f_minus: 27.870093921757743 , 47.20335821113517\n",
      "\t ---------- State is:  (0, 8)\n",
      "[INFO] [2023-04-14 04:11:11,170] [OpenBox-SPO] Iteration 518, objective value: [34.38093874631079].\n"
     ]
    },
    {
     "name": "stderr",
     "output_type": "stream",
     "text": [
      "\r",
      " 52%|██████████████████████████████████████▊                                    | 518/1000 [6:31:24<6:23:34, 47.75s/it]"
     ]
    },
    {
     "name": "stdout",
     "output_type": "stream",
     "text": [
      "\t ----- reward: -34.38093874631079 for f_star and f_minus: 27.870093921757743 , 34.38093874631079\n",
      "\t ---------- State is:  (1, 9)\n",
      "[INFO] [2023-04-14 04:12:00,392] [OpenBox-SPO] Iteration 519, objective value: [38.34686520918497].\n"
     ]
    },
    {
     "name": "stderr",
     "output_type": "stream",
     "text": [
      "\r",
      " 52%|██████████████████████████████████████▉                                    | 519/1000 [6:32:13<6:26:19, 48.19s/it]"
     ]
    },
    {
     "name": "stdout",
     "output_type": "stream",
     "text": [
      "\t ----- reward: -38.34686520918497 for f_star and f_minus: 27.870093921757743 , 38.34686520918497\n",
      "\t ---------- State is:  (2, 9)\n",
      "[INFO] [2023-04-14 04:12:46,030] [OpenBox-SPO] Iteration 520, objective value: [46.824152659774185].\n"
     ]
    },
    {
     "name": "stderr",
     "output_type": "stream",
     "text": [
      "\r",
      " 52%|███████████████████████████████████████                                    | 520/1000 [6:32:58<6:19:23, 47.42s/it]"
     ]
    },
    {
     "name": "stdout",
     "output_type": "stream",
     "text": [
      "\t ----- reward: -46.824152659774185 for f_star and f_minus: 27.870093921757743 , 46.824152659774185\n",
      "\t ---------- State is:  (2, 9)\n",
      "[INFO] [2023-04-14 04:12:46,030] [Advisor] Sample random config. rand_prob=0.100000.\n",
      "[INFO] [2023-04-14 04:13:13,195] [OpenBox-SPO] Iteration 521, objective value: [56.20191163837049].\n"
     ]
    },
    {
     "name": "stderr",
     "output_type": "stream",
     "text": [
      "\r",
      " 52%|███████████████████████████████████████                                    | 521/1000 [6:33:26<5:30:04, 41.35s/it]"
     ]
    },
    {
     "name": "stdout",
     "output_type": "stream",
     "text": [
      "\t ----- reward: -56.20191163837049 for f_star and f_minus: 27.870093921757743 , 56.20191163837049\n",
      "\t ---------- State is:  (3, 10)\n",
      "[INFO] [2023-04-14 04:14:03,237] [OpenBox-SPO] Iteration 522, objective value: [35.32667525571948].\n"
     ]
    },
    {
     "name": "stderr",
     "output_type": "stream",
     "text": [
      "\r",
      " 52%|███████████████████████████████████████▏                                   | 522/1000 [6:34:16<5:50:10, 43.96s/it]"
     ]
    },
    {
     "name": "stdout",
     "output_type": "stream",
     "text": [
      "\t ----- reward: -35.32667525571948 for f_star and f_minus: 27.870093921757743 , 35.32667525571948\n",
      "\t ---------- State is:  (2, 10)\n",
      "[INFO] [2023-04-14 04:14:54,431] [OpenBox-SPO] Iteration 523, objective value: [42.21271218790653].\n"
     ]
    },
    {
     "name": "stderr",
     "output_type": "stream",
     "text": [
      "\r",
      " 52%|███████████████████████████████████████▏                                   | 523/1000 [6:35:07<6:06:42, 46.13s/it]"
     ]
    },
    {
     "name": "stdout",
     "output_type": "stream",
     "text": [
      "\t ----- reward: -42.21271218790653 for f_star and f_minus: 27.870093921757743 , 42.21271218790653\n",
      "\t ---------- State is:  (1, 10)\n",
      "[INFO] [2023-04-14 04:15:41,986] [OpenBox-SPO] Iteration 524, objective value: [38.229161072543505].\n"
     ]
    },
    {
     "name": "stderr",
     "output_type": "stream",
     "text": [
      "\r",
      " 52%|███████████████████████████████████████▎                                   | 524/1000 [6:35:54<6:09:20, 46.56s/it]"
     ]
    },
    {
     "name": "stdout",
     "output_type": "stream",
     "text": [
      "\t ----- reward: -38.229161072543505 for f_star and f_minus: 27.870093921757743 , 38.229161072543505\n",
      "\t ---------- State is:  (1, 9)\n",
      "[INFO] [2023-04-14 04:16:31,611] [OpenBox-SPO] Iteration 525, objective value: [36.95804695976837].\n"
     ]
    },
    {
     "name": "stderr",
     "output_type": "stream",
     "text": [
      "\r",
      " 52%|███████████████████████████████████████▍                                   | 525/1000 [6:36:44<6:15:51, 47.48s/it]"
     ]
    },
    {
     "name": "stdout",
     "output_type": "stream",
     "text": [
      "\t ----- reward: -36.95804695976837 for f_star and f_minus: 27.870093921757743 , 36.95804695976837\n",
      "\t ---------- State is:  (0, 9)\n",
      "[INFO] [2023-04-14 04:17:18,358] [OpenBox-SPO] Iteration 526, objective value: [28.156501628000697].\n"
     ]
    },
    {
     "name": "stderr",
     "output_type": "stream",
     "text": [
      "\r",
      " 53%|███████████████████████████████████████▍                                   | 526/1000 [6:37:31<6:13:19, 47.26s/it]"
     ]
    },
    {
     "name": "stdout",
     "output_type": "stream",
     "text": [
      "\t ----- reward: -28.156501628000697 for f_star and f_minus: 27.870093921757743 , 28.156501628000697\n",
      "\t ---------- State is:  (0, 9)\n",
      "[INFO] [2023-04-14 04:18:06,892] [OpenBox-SPO] Iteration 527, objective value: [37.4382838105219].\n"
     ]
    },
    {
     "name": "stderr",
     "output_type": "stream",
     "text": [
      "\r",
      " 53%|███████████████████████████████████████▌                                   | 527/1000 [6:38:19<6:15:33, 47.64s/it]"
     ]
    },
    {
     "name": "stdout",
     "output_type": "stream",
     "text": [
      "\t ----- reward: -37.4382838105219 for f_star and f_minus: 27.870093921757743 , 37.4382838105219\n",
      "\t ---------- State is:  (0, 9)\n",
      "[INFO] [2023-04-14 04:18:06,892] [Advisor] Sample random config. rand_prob=0.100000.\n",
      "[INFO] [2023-04-14 04:18:32,064] [OpenBox-SPO] Iteration 528, objective value: [64.45540203934127].\n"
     ]
    },
    {
     "name": "stderr",
     "output_type": "stream",
     "text": [
      "\r",
      " 53%|███████████████████████████████████████▌                                   | 528/1000 [6:38:44<5:21:44, 40.90s/it]"
     ]
    },
    {
     "name": "stdout",
     "output_type": "stream",
     "text": [
      "\t ----- reward: -64.45540203934127 for f_star and f_minus: 27.870093921757743 , 64.45540203934127\n",
      "\t ---------- State is:  (1, 10)\n",
      "[INFO] [2023-04-14 04:19:16,471] [OpenBox-SPO] Iteration 529, objective value: [40.08438130450864].\n"
     ]
    },
    {
     "name": "stderr",
     "output_type": "stream",
     "text": [
      "\r",
      " 53%|███████████████████████████████████████▋                                   | 529/1000 [6:39:29<5:29:19, 41.95s/it]"
     ]
    },
    {
     "name": "stdout",
     "output_type": "stream",
     "text": [
      "\t ----- reward: -40.08438130450864 for f_star and f_minus: 27.870093921757743 , 40.08438130450864\n",
      "\t ---------- State is:  (0, 10)\n",
      "[INFO] [2023-04-14 04:20:01,566] [OpenBox-SPO] Iteration 530, objective value: [37.80435067296308].\n"
     ]
    },
    {
     "name": "stderr",
     "output_type": "stream",
     "text": [
      "\r",
      " 53%|███████████████████████████████████████▊                                   | 530/1000 [6:40:14<5:36:00, 42.89s/it]"
     ]
    },
    {
     "name": "stdout",
     "output_type": "stream",
     "text": [
      "\t ----- reward: -37.80435067296308 for f_star and f_minus: 27.870093921757743 , 37.80435067296308\n",
      "\t ---------- State is:  (1, 10)\n",
      "[INFO] [2023-04-14 04:20:48,398] [OpenBox-SPO] Iteration 531, objective value: [26.427785448359288].\n"
     ]
    },
    {
     "name": "stderr",
     "output_type": "stream",
     "text": [
      "\r",
      " 53%|███████████████████████████████████████▊                                   | 531/1000 [6:41:01<5:44:31, 44.08s/it]"
     ]
    },
    {
     "name": "stdout",
     "output_type": "stream",
     "text": [
      "\t ----- reward: -26.427785448359288 for f_star and f_minus: 27.870093921757743 , 26.427785448359288\n",
      "\t ---------- State is:  (1, 10)\n",
      "[INFO] [2023-04-14 04:21:36,035] [OpenBox-SPO] Iteration 532, objective value: [28.9887756048507].\n"
     ]
    },
    {
     "name": "stderr",
     "output_type": "stream",
     "text": [
      "\r",
      " 53%|███████████████████████████████████████▉                                   | 532/1000 [6:41:48<5:52:07, 45.14s/it]"
     ]
    },
    {
     "name": "stdout",
     "output_type": "stream",
     "text": [
      "\t ----- reward: -28.9887756048507 for f_star and f_minus: 26.427785448359288 , 28.9887756048507\n",
      "\t ---------- State is:  (2, 11)\n",
      "[INFO] [2023-04-14 04:22:25,560] [OpenBox-SPO] Iteration 533, objective value: [38.12527547341226].\n"
     ]
    },
    {
     "name": "stderr",
     "output_type": "stream",
     "text": [
      "\r",
      " 53%|███████████████████████████████████████▉                                   | 533/1000 [6:42:38<6:01:36, 46.46s/it]"
     ]
    },
    {
     "name": "stdout",
     "output_type": "stream",
     "text": [
      "\t ----- reward: -38.12527547341226 for f_star and f_minus: 26.427785448359288 , 38.12527547341226\n",
      "\t ---------- State is:  (3, 11)\n",
      "[INFO] [2023-04-14 04:23:08,749] [OpenBox-SPO] Iteration 534, objective value: [38.342121827418396].\n"
     ]
    },
    {
     "name": "stderr",
     "output_type": "stream",
     "text": [
      "\r",
      " 53%|████████████████████████████████████████                                   | 534/1000 [6:43:21<5:53:12, 45.48s/it]"
     ]
    },
    {
     "name": "stdout",
     "output_type": "stream",
     "text": [
      "\t ----- reward: -38.342121827418396 for f_star and f_minus: 26.427785448359288 , 38.342121827418396\n",
      "\t ---------- State is:  (4, 12)\n",
      "[INFO] [2023-04-14 04:23:54,184] [OpenBox-SPO] Iteration 535, objective value: [31.029216781252103].\n"
     ]
    },
    {
     "name": "stderr",
     "output_type": "stream",
     "text": [
      "\r",
      " 54%|████████████████████████████████████████▏                                  | 535/1000 [6:44:07<5:52:21, 45.46s/it]"
     ]
    },
    {
     "name": "stdout",
     "output_type": "stream",
     "text": [
      "\t ----- reward: -31.029216781252103 for f_star and f_minus: 26.427785448359288 , 31.029216781252103\n",
      "\t ---------- State is:  (5, 11)\n",
      "[INFO] [2023-04-14 04:24:37,512] [OpenBox-SPO] Iteration 536, objective value: [35.286807724039434].\n"
     ]
    },
    {
     "name": "stderr",
     "output_type": "stream",
     "text": [
      "\r",
      " 54%|████████████████████████████████████████▏                                  | 536/1000 [6:44:50<5:46:38, 44.82s/it]"
     ]
    },
    {
     "name": "stdout",
     "output_type": "stream",
     "text": [
      "\t ----- reward: -35.286807724039434 for f_star and f_minus: 26.427785448359288 , 35.286807724039434\n",
      "\t ---------- State is:  (6, 11)\n",
      "[INFO] [2023-04-14 04:25:24,923] [OpenBox-SPO] Iteration 537, objective value: [27.270245011819597].\n"
     ]
    },
    {
     "name": "stderr",
     "output_type": "stream",
     "text": [
      "\r",
      " 54%|████████████████████████████████████████▎                                  | 537/1000 [6:45:37<5:51:52, 45.60s/it]"
     ]
    },
    {
     "name": "stdout",
     "output_type": "stream",
     "text": [
      "\t ----- reward: -27.270245011819597 for f_star and f_minus: 26.427785448359288 , 27.270245011819597\n",
      "\t ---------- State is:  (7, 11)\n",
      "[INFO] [2023-04-14 04:26:09,905] [OpenBox-SPO] Iteration 538, objective value: [31.12981148421352].\n"
     ]
    },
    {
     "name": "stderr",
     "output_type": "stream",
     "text": [
      "\r",
      " 54%|████████████████████████████████████████▎                                  | 538/1000 [6:46:22<5:49:41, 45.41s/it]"
     ]
    },
    {
     "name": "stdout",
     "output_type": "stream",
     "text": [
      "\t ----- reward: -31.12981148421352 for f_star and f_minus: 26.427785448359288 , 31.12981148421352\n",
      "\t ---------- State is:  (7, 11)\n",
      "[INFO] [2023-04-14 04:26:55,169] [OpenBox-SPO] Iteration 539, objective value: [29.738220746286544].\n"
     ]
    },
    {
     "name": "stderr",
     "output_type": "stream",
     "text": [
      "\r",
      " 54%|████████████████████████████████████████▍                                  | 539/1000 [6:47:08<5:48:35, 45.37s/it]"
     ]
    },
    {
     "name": "stdout",
     "output_type": "stream",
     "text": [
      "\t ----- reward: -29.738220746286544 for f_star and f_minus: 26.427785448359288 , 29.738220746286544\n",
      "\t ---------- State is:  (6, 11)\n",
      "[INFO] [2023-04-14 04:27:40,283] [OpenBox-SPO] Iteration 540, objective value: [41.84818951674636].\n"
     ]
    },
    {
     "name": "stderr",
     "output_type": "stream",
     "text": [
      "\r",
      " 54%|████████████████████████████████████████▌                                  | 540/1000 [6:47:53<5:47:14, 45.29s/it]"
     ]
    },
    {
     "name": "stdout",
     "output_type": "stream",
     "text": [
      "\t ----- reward: -41.84818951674636 for f_star and f_minus: 26.427785448359288 , 41.84818951674636\n",
      "\t ---------- State is:  (7, 11)\n",
      "[INFO] [2023-04-14 04:27:40,283] [Advisor] Sample random config. rand_prob=0.100000.\n",
      "[INFO] [2023-04-14 04:28:19,574] [OpenBox-SPO] Iteration 541, objective value: [52.41572061783293].\n"
     ]
    },
    {
     "name": "stderr",
     "output_type": "stream",
     "text": [
      "\r",
      " 54%|████████████████████████████████████████▌                                  | 541/1000 [6:48:32<5:32:42, 43.49s/it]"
     ]
    },
    {
     "name": "stdout",
     "output_type": "stream",
     "text": [
      "\t ----- reward: -52.41572061783293 for f_star and f_minus: 26.427785448359288 , 52.41572061783293\n",
      "\t ---------- State is:  (8, 12)\n",
      "[INFO] [2023-04-14 04:29:04,138] [OpenBox-SPO] Iteration 542, objective value: [49.39816689100238].\n"
     ]
    },
    {
     "name": "stderr",
     "output_type": "stream",
     "text": [
      "\r",
      " 54%|████████████████████████████████████████▋                                  | 542/1000 [6:49:16<5:34:26, 43.81s/it]"
     ]
    },
    {
     "name": "stdout",
     "output_type": "stream",
     "text": [
      "\t ----- reward: -49.39816689100238 for f_star and f_minus: 26.427785448359288 , 49.39816689100238\n",
      "\t ---------- State is:  (9, 12)\n",
      "[INFO] [2023-04-14 04:29:50,778] [OpenBox-SPO] Iteration 543, objective value: [31.903948809385028].\n"
     ]
    },
    {
     "name": "stderr",
     "output_type": "stream",
     "text": [
      "\r",
      " 54%|████████████████████████████████████████▋                                  | 543/1000 [6:50:03<5:40:10, 44.66s/it]"
     ]
    },
    {
     "name": "stdout",
     "output_type": "stream",
     "text": [
      "\t ----- reward: -31.903948809385028 for f_star and f_minus: 26.427785448359288 , 31.903948809385028\n",
      "\t ---------- State is:  (10, 12)\n",
      "[INFO] [2023-04-14 04:30:37,729] [OpenBox-SPO] Iteration 544, objective value: [33.00928526337019].\n"
     ]
    },
    {
     "name": "stderr",
     "output_type": "stream",
     "text": [
      "\r",
      " 54%|████████████████████████████████████████▊                                  | 544/1000 [6:50:50<5:44:38, 45.35s/it]"
     ]
    },
    {
     "name": "stdout",
     "output_type": "stream",
     "text": [
      "\t ----- reward: -33.00928526337019 for f_star and f_minus: 26.427785448359288 , 33.00928526337019\n",
      "\t ---------- State is:  (9, 12)\n",
      "[INFO] [2023-04-14 04:31:27,349] [OpenBox-SPO] Iteration 545, objective value: [34.297973491375146].\n"
     ]
    },
    {
     "name": "stderr",
     "output_type": "stream",
     "text": [
      "\r",
      " 55%|████████████████████████████████████████▉                                  | 545/1000 [6:51:40<5:53:36, 46.63s/it]"
     ]
    },
    {
     "name": "stdout",
     "output_type": "stream",
     "text": [
      "\t ----- reward: -34.297973491375146 for f_star and f_minus: 26.427785448359288 , 34.297973491375146\n",
      "\t ---------- State is:  (8, 12)\n",
      "[INFO] [2023-04-14 04:32:18,138] [OpenBox-SPO] Iteration 546, objective value: [28.117800803837028].\n"
     ]
    },
    {
     "name": "stderr",
     "output_type": "stream",
     "text": [
      "\r",
      " 55%|████████████████████████████████████████▉                                  | 546/1000 [6:52:30<6:02:18, 47.88s/it]"
     ]
    },
    {
     "name": "stdout",
     "output_type": "stream",
     "text": [
      "\t ----- reward: -28.117800803837028 for f_star and f_minus: 26.427785448359288 , 28.117800803837028\n",
      "\t ---------- State is:  (8, 11)\n",
      "[INFO] [2023-04-14 04:33:02,658] [OpenBox-SPO] Iteration 547, objective value: [30.332604586695567].\n"
     ]
    },
    {
     "name": "stderr",
     "output_type": "stream",
     "text": [
      "\r",
      " 55%|█████████████████████████████████████████                                  | 547/1000 [6:53:15<5:53:51, 46.87s/it]"
     ]
    },
    {
     "name": "stdout",
     "output_type": "stream",
     "text": [
      "\t ----- reward: -30.332604586695567 for f_star and f_minus: 26.427785448359288 , 30.332604586695567\n",
      "\t ---------- State is:  (9, 11)\n",
      "[INFO] [2023-04-14 04:33:45,613] [OpenBox-SPO] Iteration 548, objective value: [37.90298195694367].\n"
     ]
    },
    {
     "name": "stderr",
     "output_type": "stream",
     "text": [
      "\r",
      " 55%|█████████████████████████████████████████                                  | 548/1000 [6:53:58<5:44:14, 45.69s/it]"
     ]
    },
    {
     "name": "stdout",
     "output_type": "stream",
     "text": [
      "\t ----- reward: -37.90298195694367 for f_star and f_minus: 26.427785448359288 , 37.90298195694367\n",
      "\t ---------- State is:  (9, 11)\n",
      "[INFO] [2023-04-14 04:33:45,613] [Advisor] Sample random config. rand_prob=0.100000.\n",
      "[INFO] [2023-04-14 04:34:20,850] [OpenBox-SPO] Iteration 549, objective value: [50.04907445959197].\n"
     ]
    },
    {
     "name": "stderr",
     "output_type": "stream",
     "text": [
      "\r",
      " 55%|█████████████████████████████████████████▏                                 | 549/1000 [6:54:33<5:19:53, 42.56s/it]"
     ]
    },
    {
     "name": "stdout",
     "output_type": "stream",
     "text": [
      "\t ----- reward: -50.04907445959197 for f_star and f_minus: 26.427785448359288 , 50.04907445959197\n",
      "\t ---------- State is:  (10, 11)\n",
      "[INFO] [2023-04-14 04:35:10,586] [OpenBox-SPO] Iteration 550, objective value: [34.69781669801179].\n"
     ]
    },
    {
     "name": "stderr",
     "output_type": "stream",
     "text": [
      "\r",
      " 55%|█████████████████████████████████████████▎                                 | 550/1000 [6:55:23<5:35:19, 44.71s/it]"
     ]
    },
    {
     "name": "stdout",
     "output_type": "stream",
     "text": [
      "\t ----- reward: -34.69781669801179 for f_star and f_minus: 26.427785448359288 , 34.69781669801179\n",
      "\t ---------- State is:  (9, 11)\n",
      "[INFO] [2023-04-14 04:35:56,729] [OpenBox-SPO] Iteration 551, objective value: [31.80172656994553].\n"
     ]
    },
    {
     "name": "stderr",
     "output_type": "stream",
     "text": [
      "\r",
      " 55%|█████████████████████████████████████████▎                                 | 551/1000 [6:56:09<5:37:48, 45.14s/it]"
     ]
    },
    {
     "name": "stdout",
     "output_type": "stream",
     "text": [
      "\t ----- reward: -31.80172656994553 for f_star and f_minus: 26.427785448359288 , 31.80172656994553\n",
      "\t ---------- State is:  (8, 10)\n",
      "[INFO] [2023-04-14 04:36:43,734] [OpenBox-SPO] Iteration 552, objective value: [31.420210060362024].\n"
     ]
    },
    {
     "name": "stderr",
     "output_type": "stream",
     "text": [
      "\r",
      " 55%|█████████████████████████████████████████▍                                 | 552/1000 [6:56:56<5:41:13, 45.70s/it]"
     ]
    },
    {
     "name": "stdout",
     "output_type": "stream",
     "text": [
      "\t ----- reward: -31.420210060362024 for f_star and f_minus: 26.427785448359288 , 31.420210060362024\n",
      "\t ---------- State is:  (7, 10)\n",
      "[INFO] [2023-04-14 04:37:29,067] [OpenBox-SPO] Iteration 553, objective value: [28.065505739086177].\n"
     ]
    },
    {
     "name": "stderr",
     "output_type": "stream",
     "text": [
      "\r",
      " 55%|█████████████████████████████████████████▍                                 | 553/1000 [6:57:41<5:39:38, 45.59s/it]"
     ]
    },
    {
     "name": "stdout",
     "output_type": "stream",
     "text": [
      "\t ----- reward: -28.065505739086177 for f_star and f_minus: 26.427785448359288 , 28.065505739086177\n",
      "\t ---------- State is:  (6, 9)\n",
      "[INFO] [2023-04-14 04:38:10,716] [OpenBox-SPO] Iteration 554, objective value: [34.1539593038345].\n"
     ]
    },
    {
     "name": "stderr",
     "output_type": "stream",
     "text": [
      "\r",
      " 55%|█████████████████████████████████████████▌                                 | 554/1000 [6:58:23<5:30:05, 44.41s/it]"
     ]
    },
    {
     "name": "stdout",
     "output_type": "stream",
     "text": [
      "\t ----- reward: -34.1539593038345 for f_star and f_minus: 26.427785448359288 , 34.1539593038345\n",
      "\t ---------- State is:  (7, 9)\n",
      "[INFO] [2023-04-14 04:38:10,716] [Advisor] Sample random config. rand_prob=0.100000.\n",
      "[INFO] [2023-04-14 04:38:44,756] [OpenBox-SPO] Iteration 555, objective value: [50.647372332817].\n"
     ]
    },
    {
     "name": "stderr",
     "output_type": "stream",
     "text": [
      "\r",
      " 56%|█████████████████████████████████████████▋                                 | 555/1000 [6:58:57<5:06:17, 41.30s/it]"
     ]
    },
    {
     "name": "stdout",
     "output_type": "stream",
     "text": [
      "\t ----- reward: -50.647372332817 for f_star and f_minus: 26.427785448359288 , 50.647372332817\n",
      "\t ---------- State is:  (8, 10)\n",
      "[INFO] [2023-04-14 04:39:31,024] [OpenBox-SPO] Iteration 556, objective value: [31.709441154825484].\n"
     ]
    },
    {
     "name": "stderr",
     "output_type": "stream",
     "text": [
      "\r",
      " 56%|█████████████████████████████████████████▋                                 | 556/1000 [6:59:43<5:16:38, 42.79s/it]"
     ]
    },
    {
     "name": "stdout",
     "output_type": "stream",
     "text": [
      "\t ----- reward: -31.709441154825484 for f_star and f_minus: 26.427785448359288 , 31.709441154825484\n",
      "\t ---------- State is:  (9, 10)\n",
      "[INFO] [2023-04-14 04:40:17,559] [OpenBox-SPO] Iteration 557, objective value: [35.244868899451646].\n"
     ]
    },
    {
     "name": "stderr",
     "output_type": "stream",
     "text": [
      "\r",
      " 56%|█████████████████████████████████████████▊                                 | 557/1000 [7:00:30<5:24:13, 43.91s/it]"
     ]
    },
    {
     "name": "stdout",
     "output_type": "stream",
     "text": [
      "\t ----- reward: -35.244868899451646 for f_star and f_minus: 26.427785448359288 , 35.244868899451646\n",
      "\t ---------- State is:  (9, 10)\n",
      "[INFO] [2023-04-14 04:41:04,545] [OpenBox-SPO] Iteration 558, objective value: [32.40249805129507].\n"
     ]
    },
    {
     "name": "stderr",
     "output_type": "stream",
     "text": [
      "\r",
      " 56%|█████████████████████████████████████████▊                                 | 558/1000 [7:01:17<5:30:16, 44.83s/it]"
     ]
    },
    {
     "name": "stdout",
     "output_type": "stream",
     "text": [
      "\t ----- reward: -32.40249805129507 for f_star and f_minus: 26.427785448359288 , 32.40249805129507\n",
      "\t ---------- State is:  (8, 9)\n",
      "[INFO] [2023-04-14 04:41:50,477] [OpenBox-SPO] Iteration 559, objective value: [32.69917754493457].\n"
     ]
    },
    {
     "name": "stderr",
     "output_type": "stream",
     "text": [
      "\r",
      " 56%|█████████████████████████████████████████▉                                 | 559/1000 [7:02:03<5:31:57, 45.16s/it]"
     ]
    },
    {
     "name": "stdout",
     "output_type": "stream",
     "text": [
      "\t ----- reward: -32.69917754493457 for f_star and f_minus: 26.427785448359288 , 32.69917754493457\n",
      "\t ---------- State is:  (9, 8)\n",
      "[INFO] [2023-04-14 04:42:35,913] [OpenBox-SPO] Iteration 560, objective value: [32.49230247712944].\n"
     ]
    },
    {
     "name": "stderr",
     "output_type": "stream",
     "text": [
      "\r",
      " 56%|██████████████████████████████████████████                                 | 560/1000 [7:02:48<5:31:48, 45.25s/it]"
     ]
    },
    {
     "name": "stdout",
     "output_type": "stream",
     "text": [
      "\t ----- reward: -32.49230247712944 for f_star and f_minus: 26.427785448359288 , 32.49230247712944\n",
      "\t ---------- State is:  (8, 8)\n",
      "[INFO] [2023-04-14 04:42:35,913] [Advisor] Sample random config. rand_prob=0.100000.\n",
      "[INFO] [2023-04-14 04:43:13,513] [OpenBox-SPO] Iteration 561, objective value: [51.85891891158277].\n"
     ]
    },
    {
     "name": "stderr",
     "output_type": "stream",
     "text": [
      "\r",
      " 56%|██████████████████████████████████████████                                 | 561/1000 [7:03:26<5:14:15, 42.95s/it]"
     ]
    },
    {
     "name": "stdout",
     "output_type": "stream",
     "text": [
      "\t ----- reward: -51.85891891158277 for f_star and f_minus: 26.427785448359288 , 51.85891891158277\n",
      "\t ---------- State is:  (8, 9)\n",
      "[INFO] [2023-04-14 04:43:55,961] [OpenBox-SPO] Iteration 562, objective value: [49.952393881914126].\n"
     ]
    },
    {
     "name": "stderr",
     "output_type": "stream",
     "text": [
      "\r",
      " 56%|██████████████████████████████████████████▏                                | 562/1000 [7:04:08<5:12:26, 42.80s/it]"
     ]
    },
    {
     "name": "stdout",
     "output_type": "stream",
     "text": [
      "\t ----- reward: -49.952393881914126 for f_star and f_minus: 26.427785448359288 , 49.952393881914126\n",
      "\t ---------- State is:  (8, 10)\n",
      "[INFO] [2023-04-14 04:44:43,043] [OpenBox-SPO] Iteration 563, objective value: [36.14258643968983].\n"
     ]
    },
    {
     "name": "stderr",
     "output_type": "stream",
     "text": [
      "\r",
      " 56%|██████████████████████████████████████████▏                                | 563/1000 [7:04:55<5:21:05, 44.09s/it]"
     ]
    },
    {
     "name": "stdout",
     "output_type": "stream",
     "text": [
      "\t ----- reward: -36.14258643968983 for f_star and f_minus: 26.427785448359288 , 36.14258643968983\n",
      "\t ---------- State is:  (7, 10)\n",
      "[INFO] [2023-04-14 04:45:26,753] [OpenBox-SPO] Iteration 564, objective value: [29.994756998197886].\n"
     ]
    },
    {
     "name": "stderr",
     "output_type": "stream",
     "text": [
      "\r",
      " 56%|██████████████████████████████████████████▎                                | 564/1000 [7:05:39<5:19:31, 43.97s/it]"
     ]
    },
    {
     "name": "stdout",
     "output_type": "stream",
     "text": [
      "\t ----- reward: -29.994756998197886 for f_star and f_minus: 26.427785448359288 , 29.994756998197886\n",
      "\t ---------- State is:  (6, 9)\n",
      "[INFO] [2023-04-14 04:46:09,723] [OpenBox-SPO] Iteration 565, objective value: [44.26737067096305].\n"
     ]
    },
    {
     "name": "stderr",
     "output_type": "stream",
     "text": [
      "\r",
      " 56%|██████████████████████████████████████████▎                                | 565/1000 [7:06:22<5:16:37, 43.67s/it]"
     ]
    },
    {
     "name": "stdout",
     "output_type": "stream",
     "text": [
      "\t ----- reward: -44.26737067096305 for f_star and f_minus: 26.427785448359288 , 44.26737067096305\n",
      "\t ---------- State is:  (6, 10)\n",
      "[INFO] [2023-04-14 04:46:54,368] [OpenBox-SPO] Iteration 566, objective value: [42.89355815935647].\n"
     ]
    },
    {
     "name": "stderr",
     "output_type": "stream",
     "text": [
      "\r",
      " 57%|██████████████████████████████████████████▍                                | 566/1000 [7:07:07<5:18:00, 43.96s/it]"
     ]
    },
    {
     "name": "stdout",
     "output_type": "stream",
     "text": [
      "\t ----- reward: -42.89355815935647 for f_star and f_minus: 26.427785448359288 , 42.89355815935647\n",
      "\t ---------- State is:  (5, 10)\n",
      "[INFO] [2023-04-14 04:47:38,265] [OpenBox-SPO] Iteration 567, objective value: [34.682231123732635].\n"
     ]
    },
    {
     "name": "stderr",
     "output_type": "stream",
     "text": [
      "\r",
      " 57%|██████████████████████████████████████████▌                                | 567/1000 [7:07:51<5:17:07, 43.94s/it]"
     ]
    },
    {
     "name": "stdout",
     "output_type": "stream",
     "text": [
      "\t ----- reward: -34.682231123732635 for f_star and f_minus: 26.427785448359288 , 34.682231123732635\n",
      "\t ---------- State is:  (6, 10)\n",
      "[INFO] [2023-04-14 04:48:19,559] [OpenBox-SPO] Iteration 568, objective value: [36.3697116321027].\n"
     ]
    },
    {
     "name": "stderr",
     "output_type": "stream",
     "text": [
      "\r",
      " 57%|██████████████████████████████████████████▌                                | 568/1000 [7:08:32<5:10:40, 43.15s/it]"
     ]
    },
    {
     "name": "stdout",
     "output_type": "stream",
     "text": [
      "\t ----- reward: -36.3697116321027 for f_star and f_minus: 26.427785448359288 , 36.3697116321027\n",
      "\t ---------- State is:  (6, 10)\n",
      "[INFO] [2023-04-14 04:49:04,616] [OpenBox-SPO] Iteration 569, objective value: [36.391374901161534].\n"
     ]
    },
    {
     "name": "stderr",
     "output_type": "stream",
     "text": [
      "\r",
      " 57%|██████████████████████████████████████████▋                                | 569/1000 [7:09:17<5:14:03, 43.72s/it]"
     ]
    },
    {
     "name": "stdout",
     "output_type": "stream",
     "text": [
      "\t ----- reward: -36.391374901161534 for f_star and f_minus: 26.427785448359288 , 36.391374901161534\n",
      "\t ---------- State is:  (7, 11)\n",
      "[INFO] [2023-04-14 04:49:50,171] [OpenBox-SPO] Iteration 570, objective value: [33.46917563503739].\n"
     ]
    },
    {
     "name": "stderr",
     "output_type": "stream",
     "text": [
      "\r",
      " 57%|██████████████████████████████████████████▋                                | 570/1000 [7:10:03<5:17:16, 44.27s/it]"
     ]
    },
    {
     "name": "stdout",
     "output_type": "stream",
     "text": [
      "\t ----- reward: -33.46917563503739 for f_star and f_minus: 26.427785448359288 , 33.46917563503739\n",
      "\t ---------- State is:  (7, 10)\n",
      "[INFO] [2023-04-14 04:50:36,240] [OpenBox-SPO] Iteration 571, objective value: [33.67494644413162].\n"
     ]
    },
    {
     "name": "stderr",
     "output_type": "stream",
     "text": [
      "\r",
      " 57%|██████████████████████████████████████████▊                                | 571/1000 [7:10:49<5:20:23, 44.81s/it]"
     ]
    },
    {
     "name": "stdout",
     "output_type": "stream",
     "text": [
      "\t ----- reward: -33.67494644413162 for f_star and f_minus: 26.427785448359288 , 33.67494644413162\n",
      "\t ---------- State is:  (8, 10)\n",
      "[INFO] [2023-04-14 04:51:20,769] [OpenBox-SPO] Iteration 572, objective value: [31.067085606215358].\n"
     ]
    },
    {
     "name": "stderr",
     "output_type": "stream",
     "text": [
      "\r",
      " 57%|██████████████████████████████████████████▉                                | 572/1000 [7:11:33<5:19:02, 44.73s/it]"
     ]
    },
    {
     "name": "stdout",
     "output_type": "stream",
     "text": [
      "\t ----- reward: -31.067085606215358 for f_star and f_minus: 26.427785448359288 , 31.067085606215358\n",
      "\t ---------- State is:  (9, 9)\n",
      "[INFO] [2023-04-14 04:52:09,287] [OpenBox-SPO] Iteration 573, objective value: [33.60413578124256].\n"
     ]
    },
    {
     "name": "stderr",
     "output_type": "stream",
     "text": [
      "\r",
      " 57%|██████████████████████████████████████████▉                                | 573/1000 [7:12:22<5:26:23, 45.86s/it]"
     ]
    },
    {
     "name": "stdout",
     "output_type": "stream",
     "text": [
      "\t ----- reward: -33.60413578124256 for f_star and f_minus: 26.427785448359288 , 33.60413578124256\n",
      "\t ---------- State is:  (9, 9)\n",
      "[INFO] [2023-04-14 04:52:58,879] [OpenBox-SPO] Iteration 574, objective value: [34.37288793196731].\n"
     ]
    },
    {
     "name": "stderr",
     "output_type": "stream",
     "text": [
      "\r",
      " 57%|███████████████████████████████████████████                                | 574/1000 [7:13:11<5:33:34, 46.98s/it]"
     ]
    },
    {
     "name": "stdout",
     "output_type": "stream",
     "text": [
      "\t ----- reward: -34.37288793196731 for f_star and f_minus: 26.427785448359288 , 34.37288793196731\n",
      "\t ---------- State is:  (10, 9)\n",
      "[INFO] [2023-04-14 04:53:42,413] [OpenBox-SPO] Iteration 575, objective value: [35.354092287126335].\n"
     ]
    },
    {
     "name": "stderr",
     "output_type": "stream",
     "text": [
      "\r",
      " 57%|███████████████████████████████████████████▏                               | 575/1000 [7:13:55<5:25:27, 45.95s/it]"
     ]
    },
    {
     "name": "stdout",
     "output_type": "stream",
     "text": [
      "\t ----- reward: -35.354092287126335 for f_star and f_minus: 26.427785448359288 , 35.354092287126335\n",
      "\t ---------- State is:  (10, 9)\n",
      "[INFO] [2023-04-14 04:54:29,727] [OpenBox-SPO] Iteration 576, objective value: [48.821602732177304].\n"
     ]
    },
    {
     "name": "stderr",
     "output_type": "stream",
     "text": [
      "\r",
      " 58%|███████████████████████████████████████████▏                               | 576/1000 [7:14:42<5:27:35, 46.36s/it]"
     ]
    },
    {
     "name": "stdout",
     "output_type": "stream",
     "text": [
      "\t ----- reward: -48.821602732177304 for f_star and f_minus: 26.427785448359288 , 48.821602732177304\n",
      "\t ---------- State is:  (9, 10)\n",
      "[INFO] [2023-04-14 04:55:17,674] [OpenBox-SPO] Iteration 577, objective value: [36.54687804243185].\n"
     ]
    },
    {
     "name": "stderr",
     "output_type": "stream",
     "text": [
      "\r",
      " 58%|███████████████████████████████████████████▎                               | 577/1000 [7:15:30<5:30:10, 46.83s/it]"
     ]
    },
    {
     "name": "stdout",
     "output_type": "stream",
     "text": [
      "\t ----- reward: -36.54687804243185 for f_star and f_minus: 26.427785448359288 , 36.54687804243185\n",
      "\t ---------- State is:  (10, 10)\n",
      "[INFO] [2023-04-14 04:56:04,067] [OpenBox-SPO] Iteration 578, objective value: [32.299464630413325].\n"
     ]
    },
    {
     "name": "stderr",
     "output_type": "stream",
     "text": [
      "\r",
      " 58%|███████████████████████████████████████████▎                               | 578/1000 [7:16:16<5:28:28, 46.70s/it]"
     ]
    },
    {
     "name": "stdout",
     "output_type": "stream",
     "text": [
      "\t ----- reward: -32.299464630413325 for f_star and f_minus: 26.427785448359288 , 32.299464630413325\n",
      "\t ---------- State is:  (10, 10)\n",
      "[INFO] [2023-04-14 04:56:04,067] [Advisor] Sample random config. rand_prob=0.100000.\n",
      "[INFO] [2023-04-14 04:56:33,541] [OpenBox-SPO] Iteration 579, objective value: [60.15092559189607].\n"
     ]
    },
    {
     "name": "stderr",
     "output_type": "stream",
     "text": [
      "\r",
      " 58%|███████████████████████████████████████████▍                               | 579/1000 [7:16:46<4:51:25, 41.53s/it]"
     ]
    },
    {
     "name": "stdout",
     "output_type": "stream",
     "text": [
      "\t ----- reward: -60.15092559189607 for f_star and f_minus: 26.427785448359288 , 60.15092559189607\n",
      "\t ---------- State is:  (9, 10)\n",
      "[INFO] [2023-04-14 04:57:21,653] [OpenBox-SPO] Iteration 580, objective value: [38.41149462735275].\n"
     ]
    },
    {
     "name": "stderr",
     "output_type": "stream",
     "text": [
      "\r",
      " 58%|███████████████████████████████████████████▌                               | 580/1000 [7:17:34<5:04:33, 43.51s/it]"
     ]
    },
    {
     "name": "stdout",
     "output_type": "stream",
     "text": [
      "\t ----- reward: -38.41149462735275 for f_star and f_minus: 26.427785448359288 , 38.41149462735275\n",
      "\t ---------- State is:  (8, 10)\n",
      "[INFO] [2023-04-14 04:58:07,090] [OpenBox-SPO] Iteration 581, objective value: [30.086890902655966].\n"
     ]
    },
    {
     "name": "stderr",
     "output_type": "stream",
     "text": [
      "\r",
      " 58%|███████████████████████████████████████████▌                               | 581/1000 [7:18:19<5:07:51, 44.09s/it]"
     ]
    },
    {
     "name": "stdout",
     "output_type": "stream",
     "text": [
      "\t ----- reward: -30.086890902655966 for f_star and f_minus: 26.427785448359288 , 30.086890902655966\n",
      "\t ---------- State is:  (9, 10)\n",
      "[INFO] [2023-04-14 04:58:54,106] [OpenBox-SPO] Iteration 582, objective value: [27.736452697069794].\n"
     ]
    },
    {
     "name": "stderr",
     "output_type": "stream",
     "text": [
      "\r",
      " 58%|███████████████████████████████████████████▋                               | 582/1000 [7:19:06<5:13:15, 44.96s/it]"
     ]
    },
    {
     "name": "stdout",
     "output_type": "stream",
     "text": [
      "\t ----- reward: -27.736452697069794 for f_star and f_minus: 26.427785448359288 , 27.736452697069794\n",
      "\t ---------- State is:  (9, 10)\n",
      "[INFO] [2023-04-14 04:59:39,774] [OpenBox-SPO] Iteration 583, objective value: [31.80588046394419].\n"
     ]
    },
    {
     "name": "stderr",
     "output_type": "stream",
     "text": [
      "\r",
      " 58%|███████████████████████████████████████████▋                               | 583/1000 [7:19:52<5:13:58, 45.18s/it]"
     ]
    },
    {
     "name": "stdout",
     "output_type": "stream",
     "text": [
      "\t ----- reward: -31.80588046394419 for f_star and f_minus: 26.427785448359288 , 31.80588046394419\n",
      "\t ---------- State is:  (9, 10)\n",
      "[INFO] [2023-04-14 05:00:27,058] [OpenBox-SPO] Iteration 584, objective value: [29.79624587126378].\n"
     ]
    },
    {
     "name": "stderr",
     "output_type": "stream",
     "text": [
      "\r",
      " 58%|███████████████████████████████████████████▊                               | 584/1000 [7:20:39<5:17:36, 45.81s/it]"
     ]
    },
    {
     "name": "stdout",
     "output_type": "stream",
     "text": [
      "\t ----- reward: -29.79624587126378 for f_star and f_minus: 26.427785448359288 , 29.79624587126378\n",
      "\t ---------- State is:  (10, 10)\n",
      "[INFO] [2023-04-14 05:01:13,075] [OpenBox-SPO] Iteration 585, objective value: [26.687245149240766].\n"
     ]
    },
    {
     "name": "stderr",
     "output_type": "stream",
     "text": [
      "\r",
      " 58%|███████████████████████████████████████████▉                               | 585/1000 [7:21:25<5:17:16, 45.87s/it]"
     ]
    },
    {
     "name": "stdout",
     "output_type": "stream",
     "text": [
      "\t ----- reward: -26.687245149240766 for f_star and f_minus: 26.427785448359288 , 26.687245149240766\n",
      "\t ---------- State is:  (10, 9)\n",
      "[INFO] [2023-04-14 05:02:00,465] [OpenBox-SPO] Iteration 586, objective value: [31.425079036719964].\n"
     ]
    },
    {
     "name": "stderr",
     "output_type": "stream",
     "text": [
      "\r",
      " 59%|███████████████████████████████████████████▉                               | 586/1000 [7:22:13<5:19:39, 46.33s/it]"
     ]
    },
    {
     "name": "stdout",
     "output_type": "stream",
     "text": [
      "\t ----- reward: -31.425079036719964 for f_star and f_minus: 26.427785448359288 , 31.425079036719964\n",
      "\t ---------- State is:  (10, 9)\n",
      "[INFO] [2023-04-14 05:02:45,167] [OpenBox-SPO] Iteration 587, objective value: [32.50928702729851].\n"
     ]
    },
    {
     "name": "stderr",
     "output_type": "stream",
     "text": [
      "\r",
      " 59%|████████████████████████████████████████████                               | 587/1000 [7:22:58<5:15:33, 45.84s/it]"
     ]
    },
    {
     "name": "stdout",
     "output_type": "stream",
     "text": [
      "\t ----- reward: -32.50928702729851 for f_star and f_minus: 26.427785448359288 , 32.50928702729851\n",
      "\t ---------- State is:  (10, 9)\n",
      "[INFO] [2023-04-14 05:03:30,059] [OpenBox-SPO] Iteration 588, objective value: [29.117884871673667].\n"
     ]
    },
    {
     "name": "stderr",
     "output_type": "stream",
     "text": [
      "\r",
      " 59%|████████████████████████████████████████████                               | 588/1000 [7:23:42<5:12:48, 45.55s/it]"
     ]
    },
    {
     "name": "stdout",
     "output_type": "stream",
     "text": [
      "\t ----- reward: -29.117884871673667 for f_star and f_minus: 26.427785448359288 , 29.117884871673667\n",
      "\t ---------- State is:  (10, 9)\n",
      "[INFO] [2023-04-14 05:04:17,047] [OpenBox-SPO] Iteration 589, objective value: [30.907006395407848].\n"
     ]
    },
    {
     "name": "stderr",
     "output_type": "stream",
     "text": [
      "\r",
      " 59%|████████████████████████████████████████████▏                              | 589/1000 [7:24:29<5:14:59, 45.98s/it]"
     ]
    },
    {
     "name": "stdout",
     "output_type": "stream",
     "text": [
      "\t ----- reward: -30.907006395407848 for f_star and f_minus: 26.427785448359288 , 30.907006395407848\n",
      "\t ---------- State is:  (9, 9)\n",
      "[INFO] [2023-04-14 05:05:03,738] [OpenBox-SPO] Iteration 590, objective value: [31.312459887922188].\n"
     ]
    },
    {
     "name": "stderr",
     "output_type": "stream",
     "text": [
      "\r",
      " 59%|████████████████████████████████████████████▎                              | 590/1000 [7:25:16<5:15:40, 46.20s/it]"
     ]
    },
    {
     "name": "stdout",
     "output_type": "stream",
     "text": [
      "\t ----- reward: -31.312459887922188 for f_star and f_minus: 26.427785448359288 , 31.312459887922188\n",
      "\t ---------- State is:  (8, 9)\n",
      "[INFO] [2023-04-14 05:05:51,830] [OpenBox-SPO] Iteration 591, objective value: [33.64899626299642].\n"
     ]
    },
    {
     "name": "stderr",
     "output_type": "stream",
     "text": [
      "\r",
      " 59%|████████████████████████████████████████████▎                              | 591/1000 [7:26:04<5:18:46, 46.76s/it]"
     ]
    },
    {
     "name": "stdout",
     "output_type": "stream",
     "text": [
      "\t ----- reward: -33.64899626299642 for f_star and f_minus: 26.427785448359288 , 33.64899626299642\n",
      "\t ---------- State is:  (7, 9)\n",
      "[INFO] [2023-04-14 05:06:39,021] [OpenBox-SPO] Iteration 592, objective value: [30.283891035929273].\n"
     ]
    },
    {
     "name": "stderr",
     "output_type": "stream",
     "text": [
      "\r",
      " 59%|████████████████████████████████████████████▍                              | 592/1000 [7:26:51<5:18:52, 46.89s/it]"
     ]
    },
    {
     "name": "stdout",
     "output_type": "stream",
     "text": [
      "\t ----- reward: -30.283891035929273 for f_star and f_minus: 26.427785448359288 , 30.283891035929273\n",
      "\t ---------- State is:  (6, 8)\n",
      "[INFO] [2023-04-14 05:07:23,120] [OpenBox-SPO] Iteration 593, objective value: [43.61715274645217].\n"
     ]
    },
    {
     "name": "stderr",
     "output_type": "stream",
     "text": [
      "\r",
      " 59%|████████████████████████████████████████████▍                              | 593/1000 [7:27:35<5:12:24, 46.05s/it]"
     ]
    },
    {
     "name": "stdout",
     "output_type": "stream",
     "text": [
      "\t ----- reward: -43.61715274645217 for f_star and f_minus: 26.427785448359288 , 43.61715274645217\n",
      "\t ---------- State is:  (7, 8)\n",
      "[INFO] [2023-04-14 05:08:06,477] [OpenBox-SPO] Iteration 594, objective value: [38.55135786566094].\n"
     ]
    },
    {
     "name": "stderr",
     "output_type": "stream",
     "text": [
      "\r",
      " 59%|████████████████████████████████████████████▌                              | 594/1000 [7:28:19<5:06:09, 45.25s/it]"
     ]
    },
    {
     "name": "stdout",
     "output_type": "stream",
     "text": [
      "\t ----- reward: -38.55135786566094 for f_star and f_minus: 26.427785448359288 , 38.55135786566094\n",
      "\t ---------- State is:  (8, 8)\n",
      "[INFO] [2023-04-14 05:08:54,911] [OpenBox-SPO] Iteration 595, objective value: [34.34682119404671].\n"
     ]
    },
    {
     "name": "stderr",
     "output_type": "stream",
     "text": [
      "\r",
      " 60%|████████████████████████████████████████████▋                              | 595/1000 [7:29:07<5:11:51, 46.20s/it]"
     ]
    },
    {
     "name": "stdout",
     "output_type": "stream",
     "text": [
      "\t ----- reward: -34.34682119404671 for f_star and f_minus: 26.427785448359288 , 34.34682119404671\n",
      "\t ---------- State is:  (9, 8)\n",
      "[INFO] [2023-04-14 05:08:54,911] [Advisor] Sample random config. rand_prob=0.100000.\n",
      "[INFO] [2023-04-14 05:09:26,820] [OpenBox-SPO] Iteration 596, objective value: [67.75115896038456].\n"
     ]
    },
    {
     "name": "stderr",
     "output_type": "stream",
     "text": [
      "\r",
      " 60%|████████████████████████████████████████████▋                              | 596/1000 [7:29:39<4:42:13, 41.91s/it]"
     ]
    },
    {
     "name": "stdout",
     "output_type": "stream",
     "text": [
      "\t ----- reward: -67.75115896038456 for f_star and f_minus: 26.427785448359288 , 67.75115896038456\n",
      "\t ---------- State is:  (10, 9)\n",
      "[INFO] [2023-04-14 05:10:15,429] [OpenBox-SPO] Iteration 597, objective value: [37.94022618345328].\n"
     ]
    },
    {
     "name": "stderr",
     "output_type": "stream",
     "text": [
      "\r",
      " 60%|████████████████████████████████████████████▊                              | 597/1000 [7:30:28<4:55:00, 43.92s/it]"
     ]
    },
    {
     "name": "stdout",
     "output_type": "stream",
     "text": [
      "\t ----- reward: -37.94022618345328 for f_star and f_minus: 26.427785448359288 , 37.94022618345328\n",
      "\t ---------- State is:  (10, 9)\n",
      "[INFO] [2023-04-14 05:11:00,197] [OpenBox-SPO] Iteration 598, objective value: [33.04232597381106].\n"
     ]
    },
    {
     "name": "stderr",
     "output_type": "stream",
     "text": [
      "\r",
      " 60%|████████████████████████████████████████████▊                              | 598/1000 [7:31:13<4:55:58, 44.18s/it]"
     ]
    },
    {
     "name": "stdout",
     "output_type": "stream",
     "text": [
      "\t ----- reward: -33.04232597381106 for f_star and f_minus: 26.427785448359288 , 33.04232597381106\n",
      "\t ---------- State is:  (10, 9)\n",
      "[INFO] [2023-04-14 05:11:00,197] [Advisor] Sample random config. rand_prob=0.100000.\n",
      "[INFO] [2023-04-14 05:11:28,416] [OpenBox-SPO] Iteration 599, objective value: [60.14687244269673].\n"
     ]
    },
    {
     "name": "stderr",
     "output_type": "stream",
     "text": [
      "\r",
      " 60%|████████████████████████████████████████████▉                              | 599/1000 [7:31:41<4:23:15, 39.39s/it]"
     ]
    },
    {
     "name": "stdout",
     "output_type": "stream",
     "text": [
      "\t ----- reward: -60.14687244269673 for f_star and f_minus: 26.427785448359288 , 60.14687244269673\n",
      "\t ---------- State is:  (9, 10)\n",
      "[INFO] [2023-04-14 05:12:11,330] [OpenBox-SPO] Iteration 600, objective value: [32.85651444854395].\n"
     ]
    },
    {
     "name": "stderr",
     "output_type": "stream",
     "text": [
      "\r",
      " 60%|█████████████████████████████████████████████                              | 600/1000 [7:32:24<4:29:38, 40.45s/it]"
     ]
    },
    {
     "name": "stdout",
     "output_type": "stream",
     "text": [
      "\t ----- reward: -32.85651444854395 for f_star and f_minus: 26.427785448359288 , 32.85651444854395\n",
      "\t ---------- State is:  (8, 10)\n",
      "[INFO] [2023-04-14 05:12:11,330] [Advisor] Sample random config. rand_prob=0.100000.\n",
      "[INFO] [2023-04-14 05:12:41,529] [OpenBox-SPO] Iteration 601, objective value: [61.30575671932223].\n"
     ]
    },
    {
     "name": "stderr",
     "output_type": "stream",
     "text": [
      "\r",
      " 60%|█████████████████████████████████████████████                              | 601/1000 [7:32:54<4:08:31, 37.37s/it]"
     ]
    },
    {
     "name": "stdout",
     "output_type": "stream",
     "text": [
      "\t ----- reward: -61.30575671932223 for f_star and f_minus: 26.427785448359288 , 61.30575671932223\n",
      "\t ---------- State is:  (7, 11)\n",
      "[INFO] [2023-04-14 05:12:41,529] [Advisor] Sample random config. rand_prob=0.100000.\n",
      "[INFO] [2023-04-14 05:13:15,427] [OpenBox-SPO] Iteration 602, objective value: [49.99702454334911].\n"
     ]
    },
    {
     "name": "stderr",
     "output_type": "stream",
     "text": [
      "\r",
      " 60%|█████████████████████████████████████████████▏                             | 602/1000 [7:33:28<4:00:59, 36.33s/it]"
     ]
    },
    {
     "name": "stdout",
     "output_type": "stream",
     "text": [
      "\t ----- reward: -49.99702454334911 for f_star and f_minus: 26.427785448359288 , 49.99702454334911\n",
      "\t ---------- State is:  (6, 11)\n",
      "[INFO] [2023-04-14 05:13:52,538] [OpenBox-SPO] Iteration 603, objective value: [39.39543715361987].\n"
     ]
    },
    {
     "name": "stderr",
     "output_type": "stream",
     "text": [
      "\r",
      " 60%|█████████████████████████████████████████████▏                             | 603/1000 [7:34:05<4:01:55, 36.56s/it]"
     ]
    },
    {
     "name": "stdout",
     "output_type": "stream",
     "text": [
      "\t ----- reward: -39.39543715361987 for f_star and f_minus: 26.427785448359288 , 39.39543715361987\n",
      "\t ---------- State is:  (6, 11)\n",
      "[INFO] [2023-04-14 05:14:41,313] [OpenBox-SPO] Iteration 604, objective value: [29.223050854656336].\n"
     ]
    },
    {
     "name": "stderr",
     "output_type": "stream",
     "text": [
      "\r",
      " 60%|█████████████████████████████████████████████▎                             | 604/1000 [7:34:54<4:25:30, 40.23s/it]"
     ]
    },
    {
     "name": "stdout",
     "output_type": "stream",
     "text": [
      "\t ----- reward: -29.223050854656336 for f_star and f_minus: 26.427785448359288 , 29.223050854656336\n",
      "\t ---------- State is:  (5, 11)\n",
      "[INFO] [2023-04-14 05:15:25,529] [OpenBox-SPO] Iteration 605, objective value: [31.159560223706947].\n"
     ]
    },
    {
     "name": "stderr",
     "output_type": "stream",
     "text": [
      "\r",
      " 60%|█████████████████████████████████████████████▍                             | 605/1000 [7:35:38<4:32:42, 41.42s/it]"
     ]
    },
    {
     "name": "stdout",
     "output_type": "stream",
     "text": [
      "\t ----- reward: -31.159560223706947 for f_star and f_minus: 26.427785448359288 , 31.159560223706947\n",
      "\t ---------- State is:  (4, 11)\n",
      "[INFO] [2023-04-14 05:16:11,691] [OpenBox-SPO] Iteration 606, objective value: [29.678715968939144].\n"
     ]
    },
    {
     "name": "stderr",
     "output_type": "stream",
     "text": [
      "\r",
      " 61%|█████████████████████████████████████████████▍                             | 606/1000 [7:36:24<4:41:21, 42.85s/it]"
     ]
    },
    {
     "name": "stdout",
     "output_type": "stream",
     "text": [
      "\t ----- reward: -29.678715968939144 for f_star and f_minus: 26.427785448359288 , 29.678715968939144\n",
      "\t ---------- State is:  (5, 10)\n",
      "[INFO] [2023-04-14 05:16:55,299] [OpenBox-SPO] Iteration 607, objective value: [32.96612839443888].\n"
     ]
    },
    {
     "name": "stderr",
     "output_type": "stream",
     "text": [
      "\r",
      " 61%|█████████████████████████████████████████████▌                             | 607/1000 [7:37:08<4:42:08, 43.07s/it]"
     ]
    },
    {
     "name": "stdout",
     "output_type": "stream",
     "text": [
      "\t ----- reward: -32.96612839443888 for f_star and f_minus: 26.427785448359288 , 32.96612839443888\n",
      "\t ---------- State is:  (5, 10)\n",
      "[INFO] [2023-04-14 05:17:44,443] [OpenBox-SPO] Iteration 608, objective value: [35.181335345300994].\n"
     ]
    },
    {
     "name": "stderr",
     "output_type": "stream",
     "text": [
      "\r",
      " 61%|█████████████████████████████████████████████▌                             | 608/1000 [7:37:57<4:53:20, 44.90s/it]"
     ]
    },
    {
     "name": "stdout",
     "output_type": "stream",
     "text": [
      "\t ----- reward: -35.181335345300994 for f_star and f_minus: 26.427785448359288 , 35.181335345300994\n",
      "\t ---------- State is:  (4, 10)\n",
      "[INFO] [2023-04-14 05:18:32,399] [OpenBox-SPO] Iteration 609, objective value: [32.5450155255639].\n"
     ]
    },
    {
     "name": "stderr",
     "output_type": "stream",
     "text": [
      "\r",
      " 61%|█████████████████████████████████████████████▋                             | 609/1000 [7:38:45<4:58:32, 45.81s/it]"
     ]
    },
    {
     "name": "stdout",
     "output_type": "stream",
     "text": [
      "\t ----- reward: -32.5450155255639 for f_star and f_minus: 26.427785448359288 , 32.5450155255639\n",
      "\t ---------- State is:  (3, 10)\n",
      "[INFO] [2023-04-14 05:19:19,028] [OpenBox-SPO] Iteration 610, objective value: [32.46738446727646].\n"
     ]
    },
    {
     "name": "stderr",
     "output_type": "stream",
     "text": [
      "\r",
      " 61%|█████████████████████████████████████████████▊                             | 610/1000 [7:39:31<4:59:22, 46.06s/it]"
     ]
    },
    {
     "name": "stdout",
     "output_type": "stream",
     "text": [
      "\t ----- reward: -32.46738446727646 for f_star and f_minus: 26.427785448359288 , 32.46738446727646\n",
      "\t ---------- State is:  (3, 9)\n",
      "[INFO] [2023-04-14 05:20:03,852] [OpenBox-SPO] Iteration 611, objective value: [34.02428267573437].\n"
     ]
    },
    {
     "name": "stderr",
     "output_type": "stream",
     "text": [
      "\r",
      " 61%|█████████████████████████████████████████████▊                             | 611/1000 [7:40:16<4:56:12, 45.69s/it]"
     ]
    },
    {
     "name": "stdout",
     "output_type": "stream",
     "text": [
      "\t ----- reward: -34.02428267573437 for f_star and f_minus: 26.427785448359288 , 34.02428267573437\n",
      "\t ---------- State is:  (4, 9)\n",
      "[INFO] [2023-04-14 05:20:57,501] [OpenBox-SPO] Iteration 612, objective value: [38.652392497029].\n"
     ]
    },
    {
     "name": "stderr",
     "output_type": "stream",
     "text": [
      "\r",
      " 61%|█████████████████████████████████████████████▉                             | 612/1000 [7:41:10<5:10:53, 48.08s/it]"
     ]
    },
    {
     "name": "stdout",
     "output_type": "stream",
     "text": [
      "\t ----- reward: -38.652392497029 for f_star and f_minus: 26.427785448359288 , 38.652392497029\n",
      "\t ---------- State is:  (5, 10)\n",
      "[INFO] [2023-04-14 05:21:35,941] [OpenBox-SPO] Iteration 613, objective value: [41.70590552494059].\n"
     ]
    },
    {
     "name": "stderr",
     "output_type": "stream",
     "text": [
      "\r",
      " 61%|█████████████████████████████████████████████▉                             | 613/1000 [7:41:48<4:51:26, 45.19s/it]"
     ]
    },
    {
     "name": "stdout",
     "output_type": "stream",
     "text": [
      "\t ----- reward: -41.70590552494059 for f_star and f_minus: 26.427785448359288 , 41.70590552494059\n",
      "\t ---------- State is:  (6, 10)\n",
      "[INFO] [2023-04-14 05:22:20,642] [OpenBox-SPO] Iteration 614, objective value: [33.51844399147899].\n"
     ]
    },
    {
     "name": "stderr",
     "output_type": "stream",
     "text": [
      "\r",
      " 61%|██████████████████████████████████████████████                             | 614/1000 [7:42:33<4:49:45, 45.04s/it]"
     ]
    },
    {
     "name": "stdout",
     "output_type": "stream",
     "text": [
      "\t ----- reward: -33.51844399147899 for f_star and f_minus: 26.427785448359288 , 33.51844399147899\n",
      "\t ---------- State is:  (5, 10)\n",
      "[INFO] [2023-04-14 05:23:11,277] [OpenBox-SPO] Iteration 615, objective value: [32.462620803178794].\n"
     ]
    },
    {
     "name": "stderr",
     "output_type": "stream",
     "text": [
      "\r",
      " 62%|██████████████████████████████████████████████▏                            | 615/1000 [7:43:24<4:59:46, 46.72s/it]"
     ]
    },
    {
     "name": "stdout",
     "output_type": "stream",
     "text": [
      "\t ----- reward: -32.462620803178794 for f_star and f_minus: 26.427785448359288 , 32.462620803178794\n",
      "\t ---------- State is:  (5, 10)\n",
      "[INFO] [2023-04-14 05:23:49,301] [OpenBox-SPO] Iteration 616, objective value: [39.299607401555214].\n"
     ]
    },
    {
     "name": "stderr",
     "output_type": "stream",
     "text": [
      "\r",
      " 62%|██████████████████████████████████████████████▏                            | 616/1000 [7:44:02<4:42:18, 44.11s/it]"
     ]
    },
    {
     "name": "stdout",
     "output_type": "stream",
     "text": [
      "\t ----- reward: -39.299607401555214 for f_star and f_minus: 26.427785448359288 , 39.299607401555214\n",
      "\t ---------- State is:  (4, 11)\n",
      "[INFO] [2023-04-14 05:23:49,301] [Advisor] Sample random config. rand_prob=0.100000.\n",
      "[INFO] [2023-04-14 05:24:24,957] [OpenBox-SPO] Iteration 617, objective value: [47.62620829396168].\n"
     ]
    },
    {
     "name": "stderr",
     "output_type": "stream",
     "text": [
      "\r",
      " 62%|██████████████████████████████████████████████▎                            | 617/1000 [7:44:37<4:25:22, 41.57s/it]"
     ]
    },
    {
     "name": "stdout",
     "output_type": "stream",
     "text": [
      "\t ----- reward: -47.62620829396168 for f_star and f_minus: 26.427785448359288 , 47.62620829396168\n",
      "\t ---------- State is:  (5, 11)\n",
      "[INFO] [2023-04-14 05:24:24,957] [Advisor] Sample random config. rand_prob=0.100000.\n",
      "[INFO] [2023-04-14 05:25:02,500] [OpenBox-SPO] Iteration 618, objective value: [53.32171304807091].\n"
     ]
    },
    {
     "name": "stderr",
     "output_type": "stream",
     "text": [
      "\r",
      " 62%|██████████████████████████████████████████████▎                            | 618/1000 [7:45:15<4:16:59, 40.36s/it]"
     ]
    },
    {
     "name": "stdout",
     "output_type": "stream",
     "text": [
      "\t ----- reward: -53.32171304807091 for f_star and f_minus: 26.427785448359288 , 53.32171304807091\n",
      "\t ---------- State is:  (5, 12)\n",
      "[INFO] [2023-04-14 05:25:45,300] [OpenBox-SPO] Iteration 619, objective value: [45.6699848800175].\n"
     ]
    },
    {
     "name": "stderr",
     "output_type": "stream",
     "text": [
      "\r",
      " 62%|██████████████████████████████████████████████▍                            | 619/1000 [7:45:58<4:20:57, 41.10s/it]"
     ]
    },
    {
     "name": "stdout",
     "output_type": "stream",
     "text": [
      "\t ----- reward: -45.6699848800175 for f_star and f_minus: 26.427785448359288 , 45.6699848800175\n",
      "\t ---------- State is:  (6, 13)\n",
      "[INFO] [2023-04-14 05:26:36,074] [OpenBox-SPO] Iteration 620, objective value: [34.03690437732527].\n"
     ]
    },
    {
     "name": "stderr",
     "output_type": "stream",
     "text": [
      "\r",
      " 62%|██████████████████████████████████████████████▌                            | 620/1000 [7:46:48<4:38:39, 44.00s/it]"
     ]
    },
    {
     "name": "stdout",
     "output_type": "stream",
     "text": [
      "\t ----- reward: -34.03690437732527 for f_star and f_minus: 26.427785448359288 , 34.03690437732527\n",
      "\t ---------- State is:  (7, 13)\n",
      "[INFO] [2023-04-14 05:26:36,074] [Advisor] Sample random config. rand_prob=0.100000.\n",
      "[INFO] [2023-04-14 05:27:02,529] [OpenBox-SPO] Iteration 621, objective value: [67.15459241764604].\n"
     ]
    },
    {
     "name": "stderr",
     "output_type": "stream",
     "text": [
      "\r",
      " 62%|██████████████████████████████████████████████▌                            | 621/1000 [7:47:15<4:04:40, 38.74s/it]"
     ]
    },
    {
     "name": "stdout",
     "output_type": "stream",
     "text": [
      "\t ----- reward: -67.15459241764604 for f_star and f_minus: 26.427785448359288 , 67.15459241764604\n",
      "\t ---------- State is:  (6, 14)\n",
      "[INFO] [2023-04-14 05:27:45,800] [OpenBox-SPO] Iteration 622, objective value: [40.265883456135064].\n"
     ]
    },
    {
     "name": "stderr",
     "output_type": "stream",
     "text": [
      "\r",
      " 62%|██████████████████████████████████████████████▋                            | 622/1000 [7:47:58<4:12:36, 40.10s/it]"
     ]
    },
    {
     "name": "stdout",
     "output_type": "stream",
     "text": [
      "\t ----- reward: -40.265883456135064 for f_star and f_minus: 26.427785448359288 , 40.265883456135064\n",
      "\t ---------- State is:  (5, 14)\n",
      "[INFO] [2023-04-14 05:28:34,014] [OpenBox-SPO] Iteration 623, objective value: [33.04042161543211].\n"
     ]
    },
    {
     "name": "stderr",
     "output_type": "stream",
     "text": [
      "\r",
      " 62%|██████████████████████████████████████████████▋                            | 623/1000 [7:48:46<4:27:14, 42.53s/it]"
     ]
    },
    {
     "name": "stdout",
     "output_type": "stream",
     "text": [
      "\t ----- reward: -33.04042161543211 for f_star and f_minus: 26.427785448359288 , 33.04042161543211\n",
      "\t ---------- State is:  (4, 14)\n",
      "[INFO] [2023-04-14 05:29:20,539] [OpenBox-SPO] Iteration 624, objective value: [34.93571589736166].\n"
     ]
    },
    {
     "name": "stderr",
     "output_type": "stream",
     "text": [
      "\r",
      " 62%|██████████████████████████████████████████████▊                            | 624/1000 [7:49:33<4:34:02, 43.73s/it]"
     ]
    },
    {
     "name": "stdout",
     "output_type": "stream",
     "text": [
      "\t ----- reward: -34.93571589736166 for f_star and f_minus: 26.427785448359288 , 34.93571589736166\n",
      "\t ---------- State is:  (5, 14)\n",
      "[INFO] [2023-04-14 05:29:20,539] [Advisor] Sample random config. rand_prob=0.100000.\n",
      "[INFO] [2023-04-14 05:29:44,919] [OpenBox-SPO] Iteration 625, objective value: [66.15152153649159].\n"
     ]
    },
    {
     "name": "stderr",
     "output_type": "stream",
     "text": [
      "\r",
      " 62%|██████████████████████████████████████████████▉                            | 625/1000 [7:49:57<3:57:01, 37.92s/it]"
     ]
    },
    {
     "name": "stdout",
     "output_type": "stream",
     "text": [
      "\t ----- reward: -66.15152153649159 for f_star and f_minus: 26.427785448359288 , 66.15152153649159\n",
      "\t ---------- State is:  (6, 15)\n",
      "[INFO] [2023-04-14 05:30:35,873] [OpenBox-SPO] Iteration 626, objective value: [32.25102489977223].\n"
     ]
    },
    {
     "name": "stderr",
     "output_type": "stream",
     "text": [
      "\r",
      " 63%|██████████████████████████████████████████████▉                            | 626/1000 [7:50:48<4:20:45, 41.83s/it]"
     ]
    },
    {
     "name": "stdout",
     "output_type": "stream",
     "text": [
      "\t ----- reward: -32.25102489977223 for f_star and f_minus: 26.427785448359288 , 32.25102489977223\n",
      "\t ---------- State is:  (6, 13)\n",
      "[INFO] [2023-04-14 05:31:21,995] [OpenBox-SPO] Iteration 627, objective value: [30.950012203602].\n"
     ]
    },
    {
     "name": "stderr",
     "output_type": "stream",
     "text": [
      "\r",
      " 63%|███████████████████████████████████████████████                            | 627/1000 [7:51:34<4:28:03, 43.12s/it]"
     ]
    },
    {
     "name": "stdout",
     "output_type": "stream",
     "text": [
      "\t ----- reward: -30.950012203602 for f_star and f_minus: 26.427785448359288 , 30.950012203602\n",
      "\t ---------- State is:  (6, 13)\n",
      "[INFO] [2023-04-14 05:32:02,933] [OpenBox-SPO] Iteration 628, objective value: [41.83294791134469].\n"
     ]
    },
    {
     "name": "stderr",
     "output_type": "stream",
     "text": [
      "\r",
      " 63%|███████████████████████████████████████████████                            | 628/1000 [7:52:15<4:23:17, 42.47s/it]"
     ]
    },
    {
     "name": "stdout",
     "output_type": "stream",
     "text": [
      "\t ----- reward: -41.83294791134469 for f_star and f_minus: 26.427785448359288 , 41.83294791134469\n",
      "\t ---------- State is:  (5, 14)\n",
      "[INFO] [2023-04-14 05:32:56,535] [OpenBox-SPO] Iteration 629, objective value: [40.246209597057735].\n"
     ]
    },
    {
     "name": "stderr",
     "output_type": "stream",
     "text": [
      "\r",
      " 63%|███████████████████████████████████████████████▏                           | 629/1000 [7:53:09<4:43:14, 45.81s/it]"
     ]
    },
    {
     "name": "stdout",
     "output_type": "stream",
     "text": [
      "\t ----- reward: -40.246209597057735 for f_star and f_minus: 26.427785448359288 , 40.246209597057735\n",
      "\t ---------- State is:  (5, 13)\n",
      "[INFO] [2023-04-14 05:32:56,535] [Advisor] Sample random config. rand_prob=0.100000.\n",
      "[INFO] [2023-04-14 05:33:33,009] [OpenBox-SPO] Iteration 630, objective value: [44.77886706464631].\n"
     ]
    },
    {
     "name": "stderr",
     "output_type": "stream",
     "text": [
      "\r",
      " 63%|███████████████████████████████████████████████▎                           | 630/1000 [7:53:45<4:25:12, 43.01s/it]"
     ]
    },
    {
     "name": "stdout",
     "output_type": "stream",
     "text": [
      "\t ----- reward: -44.77886706464631 for f_star and f_minus: 26.427785448359288 , 44.77886706464631\n",
      "\t ---------- State is:  (5, 13)\n",
      "[INFO] [2023-04-14 05:34:21,304] [OpenBox-SPO] Iteration 631, objective value: [44.46120380005828].\n"
     ]
    },
    {
     "name": "stderr",
     "output_type": "stream",
     "text": [
      "\r",
      " 63%|███████████████████████████████████████████████▎                           | 631/1000 [7:54:34<4:34:14, 44.59s/it]"
     ]
    },
    {
     "name": "stdout",
     "output_type": "stream",
     "text": [
      "\t ----- reward: -44.46120380005828 for f_star and f_minus: 26.427785448359288 , 44.46120380005828\n",
      "\t ---------- State is:  (5, 13)\n",
      "[INFO] [2023-04-14 05:35:03,862] [OpenBox-SPO] Iteration 632, objective value: [37.24414789855059].\n"
     ]
    },
    {
     "name": "stderr",
     "output_type": "stream",
     "text": [
      "\r",
      " 63%|███████████████████████████████████████████████▍                           | 632/1000 [7:55:16<4:29:45, 43.98s/it]"
     ]
    },
    {
     "name": "stdout",
     "output_type": "stream",
     "text": [
      "\t ----- reward: -37.24414789855059 for f_star and f_minus: 26.427785448359288 , 37.24414789855059\n",
      "\t ---------- State is:  (6, 12)\n",
      "[INFO] [2023-04-14 05:35:49,729] [OpenBox-SPO] Iteration 633, objective value: [35.59104139420583].\n"
     ]
    },
    {
     "name": "stderr",
     "output_type": "stream",
     "text": [
      "\r",
      " 63%|███████████████████████████████████████████████▍                           | 633/1000 [7:56:02<4:32:29, 44.55s/it]"
     ]
    },
    {
     "name": "stdout",
     "output_type": "stream",
     "text": [
      "\t ----- reward: -35.59104139420583 for f_star and f_minus: 26.427785448359288 , 35.59104139420583\n",
      "\t ---------- State is:  (7, 12)\n",
      "[INFO] [2023-04-14 05:36:30,787] [OpenBox-SPO] Iteration 634, objective value: [28.482055524771866].\n"
     ]
    },
    {
     "name": "stderr",
     "output_type": "stream",
     "text": [
      "\r",
      " 63%|███████████████████████████████████████████████▌                           | 634/1000 [7:56:43<4:25:21, 43.50s/it]"
     ]
    },
    {
     "name": "stdout",
     "output_type": "stream",
     "text": [
      "\t ----- reward: -28.482055524771866 for f_star and f_minus: 26.427785448359288 , 28.482055524771866\n",
      "\t ---------- State is:  (8, 12)\n",
      "[INFO] [2023-04-14 05:37:16,891] [OpenBox-SPO] Iteration 635, objective value: [30.167981414264375].\n"
     ]
    },
    {
     "name": "stderr",
     "output_type": "stream",
     "text": [
      "\r",
      " 64%|███████████████████████████████████████████████▋                           | 635/1000 [7:57:29<4:29:22, 44.28s/it]"
     ]
    },
    {
     "name": "stdout",
     "output_type": "stream",
     "text": [
      "\t ----- reward: -30.167981414264375 for f_star and f_minus: 26.427785448359288 , 30.167981414264375\n",
      "\t ---------- State is:  (7, 12)\n",
      "[INFO] [2023-04-14 05:38:05,966] [OpenBox-SPO] Iteration 636, objective value: [32.120836811047155].\n"
     ]
    },
    {
     "name": "stderr",
     "output_type": "stream",
     "text": [
      "\r",
      " 64%|███████████████████████████████████████████████▋                           | 636/1000 [7:58:18<4:37:21, 45.72s/it]"
     ]
    },
    {
     "name": "stdout",
     "output_type": "stream",
     "text": [
      "\t ----- reward: -32.120836811047155 for f_star and f_minus: 26.427785448359288 , 32.120836811047155\n",
      "\t ---------- State is:  (8, 12)\n",
      "[INFO] [2023-04-14 05:38:53,310] [OpenBox-SPO] Iteration 637, objective value: [29.427614664443993].\n"
     ]
    },
    {
     "name": "stderr",
     "output_type": "stream",
     "text": [
      "\r",
      " 64%|███████████████████████████████████████████████▊                           | 637/1000 [7:59:06<4:39:33, 46.21s/it]"
     ]
    },
    {
     "name": "stdout",
     "output_type": "stream",
     "text": [
      "\t ----- reward: -29.427614664443993 for f_star and f_minus: 26.427785448359288 , 29.427614664443993\n",
      "\t ---------- State is:  (8, 12)\n",
      "[INFO] [2023-04-14 05:39:40,124] [OpenBox-SPO] Iteration 638, objective value: [32.22836291917692].\n"
     ]
    },
    {
     "name": "stderr",
     "output_type": "stream",
     "text": [
      "\r",
      " 64%|███████████████████████████████████████████████▊                           | 638/1000 [7:59:52<4:39:52, 46.39s/it]"
     ]
    },
    {
     "name": "stdout",
     "output_type": "stream",
     "text": [
      "\t ----- reward: -32.22836291917692 for f_star and f_minus: 26.427785448359288 , 32.22836291917692\n",
      "\t ---------- State is:  (7, 12)\n",
      "[INFO] [2023-04-14 05:40:23,330] [OpenBox-SPO] Iteration 639, objective value: [28.91026236755316].\n"
     ]
    },
    {
     "name": "stderr",
     "output_type": "stream",
     "text": [
      "\r",
      " 64%|███████████████████████████████████████████████▉                           | 639/1000 [8:00:36<4:33:21, 45.43s/it]"
     ]
    },
    {
     "name": "stdout",
     "output_type": "stream",
     "text": [
      "\t ----- reward: -28.91026236755316 for f_star and f_minus: 26.427785448359288 , 28.91026236755316\n",
      "\t ---------- State is:  (6, 12)\n",
      "[INFO] [2023-04-14 05:41:08,312] [OpenBox-SPO] Iteration 640, objective value: [30.26735713762953].\n"
     ]
    },
    {
     "name": "stderr",
     "output_type": "stream",
     "text": [
      "\r",
      " 64%|████████████████████████████████████████████████                           | 640/1000 [8:01:21<4:31:47, 45.30s/it]"
     ]
    },
    {
     "name": "stdout",
     "output_type": "stream",
     "text": [
      "\t ----- reward: -30.26735713762953 for f_star and f_minus: 26.427785448359288 , 30.26735713762953\n",
      "\t ---------- State is:  (7, 12)\n",
      "[INFO] [2023-04-14 05:41:51,478] [OpenBox-SPO] Iteration 641, objective value: [30.814811962256556].\n"
     ]
    },
    {
     "name": "stderr",
     "output_type": "stream",
     "text": [
      "\r",
      " 64%|████████████████████████████████████████████████                           | 641/1000 [8:02:04<4:27:12, 44.66s/it]"
     ]
    },
    {
     "name": "stdout",
     "output_type": "stream",
     "text": [
      "\t ----- reward: -30.814811962256556 for f_star and f_minus: 26.427785448359288 , 30.814811962256556\n",
      "\t ---------- State is:  (8, 12)\n",
      "[INFO] [2023-04-14 05:42:39,574] [OpenBox-SPO] Iteration 642, objective value: [35.996477802907805].\n"
     ]
    },
    {
     "name": "stderr",
     "output_type": "stream",
     "text": [
      "\r",
      " 64%|████████████████████████████████████████████████▏                          | 642/1000 [8:02:52<4:32:37, 45.69s/it]"
     ]
    },
    {
     "name": "stdout",
     "output_type": "stream",
     "text": [
      "\t ----- reward: -35.996477802907805 for f_star and f_minus: 26.427785448359288 , 35.996477802907805\n",
      "\t ---------- State is:  (9, 12)\n",
      "[INFO] [2023-04-14 05:43:28,569] [OpenBox-SPO] Iteration 643, objective value: [38.38160060185463].\n"
     ]
    },
    {
     "name": "stderr",
     "output_type": "stream",
     "text": [
      "\r",
      " 64%|████████████████████████████████████████████████▏                          | 643/1000 [8:03:41<4:37:45, 46.68s/it]"
     ]
    },
    {
     "name": "stdout",
     "output_type": "stream",
     "text": [
      "\t ----- reward: -38.38160060185463 for f_star and f_minus: 26.427785448359288 , 38.38160060185463\n",
      "\t ---------- State is:  (9, 11)\n",
      "[INFO] [2023-04-14 05:44:21,770] [OpenBox-SPO] Iteration 644, objective value: [41.73887540606302].\n"
     ]
    },
    {
     "name": "stderr",
     "output_type": "stream",
     "text": [
      "\r",
      " 64%|████████████████████████████████████████████████▎                          | 644/1000 [8:04:34<4:48:34, 48.64s/it]"
     ]
    },
    {
     "name": "stdout",
     "output_type": "stream",
     "text": [
      "\t ----- reward: -41.73887540606302 for f_star and f_minus: 26.427785448359288 , 41.73887540606302\n",
      "\t ---------- State is:  (8, 12)\n",
      "[INFO] [2023-04-14 05:45:06,464] [OpenBox-SPO] Iteration 645, objective value: [31.706850595424868].\n"
     ]
    },
    {
     "name": "stderr",
     "output_type": "stream",
     "text": [
      "\r",
      " 64%|████████████████████████████████████████████████▍                          | 645/1000 [8:05:19<4:40:46, 47.45s/it]"
     ]
    },
    {
     "name": "stdout",
     "output_type": "stream",
     "text": [
      "\t ----- reward: -31.706850595424868 for f_star and f_minus: 26.427785448359288 , 31.706850595424868\n",
      "\t ---------- State is:  (8, 12)\n",
      "[INFO] [2023-04-14 05:45:53,656] [OpenBox-SPO] Iteration 646, objective value: [31.41152778912111].\n"
     ]
    },
    {
     "name": "stderr",
     "output_type": "stream",
     "text": [
      "\r",
      " 65%|████████████████████████████████████████████████▍                          | 646/1000 [8:06:06<4:39:32, 47.38s/it]"
     ]
    },
    {
     "name": "stdout",
     "output_type": "stream",
     "text": [
      "\t ----- reward: -31.41152778912111 for f_star and f_minus: 26.427785448359288 , 31.41152778912111\n",
      "\t ---------- State is:  (7, 11)\n",
      "[INFO] [2023-04-14 05:46:41,829] [OpenBox-SPO] Iteration 647, objective value: [31.958599972300377].\n"
     ]
    },
    {
     "name": "stderr",
     "output_type": "stream",
     "text": [
      "\r",
      " 65%|████████████████████████████████████████████████▌                          | 647/1000 [8:06:54<4:40:07, 47.61s/it]"
     ]
    },
    {
     "name": "stdout",
     "output_type": "stream",
     "text": [
      "\t ----- reward: -31.958599972300377 for f_star and f_minus: 26.427785448359288 , 31.958599972300377\n",
      "\t ---------- State is:  (7, 11)\n",
      "[INFO] [2023-04-14 05:47:25,887] [OpenBox-SPO] Iteration 648, objective value: [43.299167633076266].\n"
     ]
    },
    {
     "name": "stderr",
     "output_type": "stream",
     "text": [
      "\r",
      " 65%|████████████████████████████████████████████████▌                          | 648/1000 [8:07:38<4:33:04, 46.55s/it]"
     ]
    },
    {
     "name": "stdout",
     "output_type": "stream",
     "text": [
      "\t ----- reward: -43.299167633076266 for f_star and f_minus: 26.427785448359288 , 43.299167633076266\n",
      "\t ---------- State is:  (7, 11)\n",
      "[INFO] [2023-04-14 05:47:25,887] [Advisor] Sample random config. rand_prob=0.100000.\n",
      "[INFO] [2023-04-14 05:47:53,887] [OpenBox-SPO] Iteration 649, objective value: [45.42046774504925].\n"
     ]
    },
    {
     "name": "stderr",
     "output_type": "stream",
     "text": [
      "\r",
      " 65%|████████████████████████████████████████████████▋                          | 649/1000 [8:08:06<3:59:44, 40.98s/it]"
     ]
    },
    {
     "name": "stdout",
     "output_type": "stream",
     "text": [
      "\t ----- reward: -45.42046774504925 for f_star and f_minus: 26.427785448359288 , 45.42046774504925\n",
      "\t ---------- State is:  (6, 11)\n",
      "[INFO] [2023-04-14 05:48:41,106] [OpenBox-SPO] Iteration 650, objective value: [35.7526325814072].\n"
     ]
    },
    {
     "name": "stderr",
     "output_type": "stream",
     "text": [
      "\r",
      " 65%|████████████████████████████████████████████████▊                          | 650/1000 [8:08:53<4:09:58, 42.85s/it]"
     ]
    },
    {
     "name": "stdout",
     "output_type": "stream",
     "text": [
      "\t ----- reward: -35.7526325814072 for f_star and f_minus: 26.427785448359288 , 35.7526325814072\n",
      "\t ---------- State is:  (5, 11)\n",
      "[INFO] [2023-04-14 05:49:30,745] [OpenBox-SPO] Iteration 651, objective value: [39.78417865796817].\n"
     ]
    },
    {
     "name": "stderr",
     "output_type": "stream",
     "text": [
      "\r",
      " 65%|████████████████████████████████████████████████▊                          | 651/1000 [8:09:43<4:21:06, 44.89s/it]"
     ]
    },
    {
     "name": "stdout",
     "output_type": "stream",
     "text": [
      "\t ----- reward: -39.78417865796817 for f_star and f_minus: 26.427785448359288 , 39.78417865796817\n",
      "\t ---------- State is:  (6, 10)\n",
      "[INFO] [2023-04-14 05:50:14,714] [OpenBox-SPO] Iteration 652, objective value: [33.16508078951499].\n"
     ]
    },
    {
     "name": "stderr",
     "output_type": "stream",
     "text": [
      "\r",
      " 65%|████████████████████████████████████████████████▉                          | 652/1000 [8:10:27<4:18:45, 44.61s/it]"
     ]
    },
    {
     "name": "stdout",
     "output_type": "stream",
     "text": [
      "\t ----- reward: -33.16508078951499 for f_star and f_minus: 26.427785448359288 , 33.16508078951499\n",
      "\t ---------- State is:  (6, 9)\n",
      "[INFO] [2023-04-14 05:50:56,976] [OpenBox-SPO] Iteration 653, objective value: [42.25037387380405].\n"
     ]
    },
    {
     "name": "stderr",
     "output_type": "stream",
     "text": [
      "\r",
      " 65%|████████████████████████████████████████████████▉                          | 653/1000 [8:11:09<4:13:56, 43.91s/it]"
     ]
    },
    {
     "name": "stdout",
     "output_type": "stream",
     "text": [
      "\t ----- reward: -42.25037387380405 for f_star and f_minus: 26.427785448359288 , 42.25037387380405\n",
      "\t ---------- State is:  (5, 10)\n",
      "[INFO] [2023-04-14 05:51:44,659] [OpenBox-SPO] Iteration 654, objective value: [40.34990519729794].\n"
     ]
    },
    {
     "name": "stderr",
     "output_type": "stream",
     "text": [
      "\r",
      " 65%|█████████████████████████████████████████████████                          | 654/1000 [8:11:57<4:19:43, 45.04s/it]"
     ]
    },
    {
     "name": "stdout",
     "output_type": "stream",
     "text": [
      "\t ----- reward: -40.34990519729794 for f_star and f_minus: 26.427785448359288 , 40.34990519729794\n",
      "\t ---------- State is:  (6, 10)\n",
      "[INFO] [2023-04-14 05:52:29,894] [OpenBox-SPO] Iteration 655, objective value: [31.07195401015673].\n"
     ]
    },
    {
     "name": "stderr",
     "output_type": "stream",
     "text": [
      "\r",
      " 66%|█████████████████████████████████████████████████▏                         | 655/1000 [8:12:42<4:19:19, 45.10s/it]"
     ]
    },
    {
     "name": "stdout",
     "output_type": "stream",
     "text": [
      "\t ----- reward: -31.07195401015673 for f_star and f_minus: 26.427785448359288 , 31.07195401015673\n",
      "\t ---------- State is:  (7, 9)\n",
      "[INFO] [2023-04-14 05:53:19,729] [OpenBox-SPO] Iteration 656, objective value: [27.678766276099182].\n"
     ]
    },
    {
     "name": "stderr",
     "output_type": "stream",
     "text": [
      "\r",
      " 66%|█████████████████████████████████████████████████▏                         | 656/1000 [8:13:32<4:26:42, 46.52s/it]"
     ]
    },
    {
     "name": "stdout",
     "output_type": "stream",
     "text": [
      "\t ----- reward: -27.678766276099182 for f_star and f_minus: 26.427785448359288 , 27.678766276099182\n",
      "\t ---------- State is:  (8, 9)\n",
      "[INFO] [2023-04-14 05:54:09,510] [OpenBox-SPO] Iteration 657, objective value: [29.895143941850137].\n"
     ]
    },
    {
     "name": "stderr",
     "output_type": "stream",
     "text": [
      "\r",
      " 66%|█████████████████████████████████████████████████▎                         | 657/1000 [8:14:22<4:31:31, 47.50s/it]"
     ]
    },
    {
     "name": "stdout",
     "output_type": "stream",
     "text": [
      "\t ----- reward: -29.895143941850137 for f_star and f_minus: 26.427785448359288 , 29.895143941850137\n",
      "\t ---------- State is:  (9, 9)\n",
      "[INFO] [2023-04-14 05:54:56,438] [OpenBox-SPO] Iteration 658, objective value: [27.667694123903388].\n"
     ]
    },
    {
     "name": "stderr",
     "output_type": "stream",
     "text": [
      "\r",
      " 66%|█████████████████████████████████████████████████▎                         | 658/1000 [8:15:09<4:29:45, 47.33s/it]"
     ]
    },
    {
     "name": "stdout",
     "output_type": "stream",
     "text": [
      "\t ----- reward: -27.667694123903388 for f_star and f_minus: 26.427785448359288 , 27.667694123903388\n",
      "\t ---------- State is:  (10, 8)\n",
      "[INFO] [2023-04-14 05:54:56,438] [Advisor] Sample random config. rand_prob=0.100000.\n",
      "[INFO] [2023-04-14 05:55:30,521] [OpenBox-SPO] Iteration 659, objective value: [61.97064059200762].\n"
     ]
    },
    {
     "name": "stderr",
     "output_type": "stream",
     "text": [
      "\r",
      " 66%|█████████████████████████████████████████████████▍                         | 659/1000 [8:15:43<4:06:23, 43.35s/it]"
     ]
    },
    {
     "name": "stdout",
     "output_type": "stream",
     "text": [
      "\t ----- reward: -61.97064059200762 for f_star and f_minus: 26.427785448359288 , 61.97064059200762\n",
      "\t ---------- State is:  (10, 9)\n",
      "[INFO] [2023-04-14 05:56:19,108] [OpenBox-SPO] Iteration 660, objective value: [32.54912452725753].\n"
     ]
    },
    {
     "name": "stderr",
     "output_type": "stream",
     "text": [
      "\r",
      " 66%|█████████████████████████████████████████████████▌                         | 660/1000 [8:16:31<4:14:35, 44.93s/it]"
     ]
    },
    {
     "name": "stdout",
     "output_type": "stream",
     "text": [
      "\t ----- reward: -32.54912452725753 for f_star and f_minus: 26.427785448359288 , 32.54912452725753\n",
      "\t ---------- State is:  (10, 8)\n",
      "[INFO] [2023-04-14 05:57:01,796] [OpenBox-SPO] Iteration 661, objective value: [34.38311371756082].\n"
     ]
    },
    {
     "name": "stderr",
     "output_type": "stream",
     "text": [
      "\r",
      " 66%|█████████████████████████████████████████████████▌                         | 661/1000 [8:17:14<4:10:01, 44.25s/it]"
     ]
    },
    {
     "name": "stdout",
     "output_type": "stream",
     "text": [
      "\t ----- reward: -34.38311371756082 for f_star and f_minus: 26.427785448359288 , 34.38311371756082\n",
      "\t ---------- State is:  (9, 8)\n",
      "[INFO] [2023-04-14 05:57:45,562] [OpenBox-SPO] Iteration 662, objective value: [37.648615370431656].\n"
     ]
    },
    {
     "name": "stderr",
     "output_type": "stream",
     "text": [
      "\r",
      " 66%|█████████████████████████████████████████████████▋                         | 662/1000 [8:17:58<4:08:27, 44.11s/it]"
     ]
    },
    {
     "name": "stdout",
     "output_type": "stream",
     "text": [
      "\t ----- reward: -37.648615370431656 for f_star and f_minus: 26.427785448359288 , 37.648615370431656\n",
      "\t ---------- State is:  (8, 8)\n",
      "[INFO] [2023-04-14 05:58:31,458] [OpenBox-SPO] Iteration 663, objective value: [30.637102569484696].\n"
     ]
    },
    {
     "name": "stderr",
     "output_type": "stream",
     "text": [
      "\r",
      " 66%|█████████████████████████████████████████████████▋                         | 663/1000 [8:18:44<4:10:44, 44.64s/it]"
     ]
    },
    {
     "name": "stdout",
     "output_type": "stream",
     "text": [
      "\t ----- reward: -30.637102569484696 for f_star and f_minus: 26.427785448359288 , 30.637102569484696\n",
      "\t ---------- State is:  (7, 8)\n",
      "[INFO] [2023-04-14 05:59:15,988] [OpenBox-SPO] Iteration 664, objective value: [40.13321413581614].\n"
     ]
    },
    {
     "name": "stderr",
     "output_type": "stream",
     "text": [
      "\r",
      " 66%|█████████████████████████████████████████████████▊                         | 664/1000 [8:19:28<4:09:48, 44.61s/it]"
     ]
    },
    {
     "name": "stdout",
     "output_type": "stream",
     "text": [
      "\t ----- reward: -40.13321413581614 for f_star and f_minus: 26.427785448359288 , 40.13321413581614\n",
      "\t ---------- State is:  (7, 8)\n",
      "[INFO] [2023-04-14 06:00:02,630] [OpenBox-SPO] Iteration 665, objective value: [32.065055297866664].\n"
     ]
    },
    {
     "name": "stderr",
     "output_type": "stream",
     "text": [
      "\r",
      " 66%|█████████████████████████████████████████████████▉                         | 665/1000 [8:20:15<4:12:28, 45.22s/it]"
     ]
    },
    {
     "name": "stdout",
     "output_type": "stream",
     "text": [
      "\t ----- reward: -32.065055297866664 for f_star and f_minus: 26.427785448359288 , 32.065055297866664\n",
      "\t ---------- State is:  (6, 8)\n",
      "[INFO] [2023-04-14 06:00:49,577] [OpenBox-SPO] Iteration 666, objective value: [29.509654071174424].\n"
     ]
    },
    {
     "name": "stderr",
     "output_type": "stream",
     "text": [
      "\r",
      " 67%|█████████████████████████████████████████████████▉                         | 666/1000 [8:21:02<4:14:36, 45.74s/it]"
     ]
    },
    {
     "name": "stdout",
     "output_type": "stream",
     "text": [
      "\t ----- reward: -29.509654071174424 for f_star and f_minus: 26.427785448359288 , 29.509654071174424\n",
      "\t ---------- State is:  (5, 8)\n",
      "[INFO] [2023-04-14 06:00:49,577] [Advisor] Sample random config. rand_prob=0.100000.\n",
      "[INFO] [2023-04-14 06:01:22,673] [OpenBox-SPO] Iteration 667, objective value: [62.344379802062264].\n"
     ]
    },
    {
     "name": "stderr",
     "output_type": "stream",
     "text": [
      "\r",
      " 67%|██████████████████████████████████████████████████                         | 667/1000 [8:21:35<3:52:48, 41.95s/it]"
     ]
    },
    {
     "name": "stdout",
     "output_type": "stream",
     "text": [
      "\t ----- reward: -62.344379802062264 for f_star and f_minus: 26.427785448359288 , 62.344379802062264\n",
      "\t ---------- State is:  (6, 9)\n",
      "[INFO] [2023-04-14 06:02:06,423] [OpenBox-SPO] Iteration 668, objective value: [37.96994136147844].\n"
     ]
    },
    {
     "name": "stderr",
     "output_type": "stream",
     "text": [
      "\r",
      " 67%|██████████████████████████████████████████████████                         | 668/1000 [8:22:19<3:55:05, 42.49s/it]"
     ]
    },
    {
     "name": "stdout",
     "output_type": "stream",
     "text": [
      "\t ----- reward: -37.96994136147844 for f_star and f_minus: 26.427785448359288 , 37.96994136147844\n",
      "\t ---------- State is:  (7, 10)\n",
      "[INFO] [2023-04-14 06:02:48,178] [OpenBox-SPO] Iteration 669, objective value: [39.55682914205912].\n"
     ]
    },
    {
     "name": "stderr",
     "output_type": "stream",
     "text": [
      "\r",
      " 67%|██████████████████████████████████████████████████▏                        | 669/1000 [8:23:01<3:53:10, 42.27s/it]"
     ]
    },
    {
     "name": "stdout",
     "output_type": "stream",
     "text": [
      "\t ----- reward: -39.55682914205912 for f_star and f_minus: 26.427785448359288 , 39.55682914205912\n",
      "\t ---------- State is:  (7, 10)\n",
      "[INFO] [2023-04-14 06:03:32,912] [OpenBox-SPO] Iteration 670, objective value: [27.980444183684995].\n"
     ]
    },
    {
     "name": "stderr",
     "output_type": "stream",
     "text": [
      "\r",
      " 67%|██████████████████████████████████████████████████▎                        | 670/1000 [8:23:45<3:56:32, 43.01s/it]"
     ]
    },
    {
     "name": "stdout",
     "output_type": "stream",
     "text": [
      "\t ----- reward: -27.980444183684995 for f_star and f_minus: 26.427785448359288 , 27.980444183684995\n",
      "\t ---------- State is:  (6, 10)\n",
      "[INFO] [2023-04-14 06:04:17,172] [OpenBox-SPO] Iteration 671, objective value: [27.74817124507642].\n"
     ]
    },
    {
     "name": "stderr",
     "output_type": "stream",
     "text": [
      "\r",
      " 67%|██████████████████████████████████████████████████▎                        | 671/1000 [8:24:30<3:57:52, 43.38s/it]"
     ]
    },
    {
     "name": "stdout",
     "output_type": "stream",
     "text": [
      "\t ----- reward: -27.74817124507642 for f_star and f_minus: 26.427785448359288 , 27.74817124507642\n",
      "\t ---------- State is:  (5, 10)\n",
      "[INFO] [2023-04-14 06:05:04,851] [OpenBox-SPO] Iteration 672, objective value: [29.441639465973296].\n"
     ]
    },
    {
     "name": "stderr",
     "output_type": "stream",
     "text": [
      "\r",
      " 67%|██████████████████████████████████████████████████▍                        | 672/1000 [8:25:17<4:04:12, 44.67s/it]"
     ]
    },
    {
     "name": "stdout",
     "output_type": "stream",
     "text": [
      "\t ----- reward: -29.441639465973296 for f_star and f_minus: 26.427785448359288 , 29.441639465973296\n",
      "\t ---------- State is:  (5, 10)\n",
      "[INFO] [2023-04-14 06:05:46,137] [OpenBox-SPO] Iteration 673, objective value: [35.26825058086564].\n"
     ]
    },
    {
     "name": "stderr",
     "output_type": "stream",
     "text": [
      "\r",
      " 67%|██████████████████████████████████████████████████▍                        | 673/1000 [8:25:58<3:57:55, 43.66s/it]"
     ]
    },
    {
     "name": "stdout",
     "output_type": "stream",
     "text": [
      "\t ----- reward: -35.26825058086564 for f_star and f_minus: 26.427785448359288 , 35.26825058086564\n",
      "\t ---------- State is:  (5, 9)\n",
      "[INFO] [2023-04-14 06:05:46,137] [Advisor] Sample random config. rand_prob=0.100000.\n",
      "[INFO] [2023-04-14 06:06:18,928] [OpenBox-SPO] Iteration 674, objective value: [48.9844015145289].\n"
     ]
    },
    {
     "name": "stderr",
     "output_type": "stream",
     "text": [
      "\r",
      " 67%|██████████████████████████████████████████████████▌                        | 674/1000 [8:26:31<3:39:29, 40.40s/it]"
     ]
    },
    {
     "name": "stdout",
     "output_type": "stream",
     "text": [
      "\t ----- reward: -48.9844015145289 for f_star and f_minus: 26.427785448359288 , 48.9844015145289\n",
      "\t ---------- State is:  (5, 10)\n",
      "[INFO] [2023-04-14 06:07:07,012] [OpenBox-SPO] Iteration 675, objective value: [45.88171807235939].\n"
     ]
    },
    {
     "name": "stderr",
     "output_type": "stream",
     "text": [
      "\r",
      " 68%|██████████████████████████████████████████████████▋                        | 675/1000 [8:27:19<3:51:18, 42.70s/it]"
     ]
    },
    {
     "name": "stdout",
     "output_type": "stream",
     "text": [
      "\t ----- reward: -45.88171807235939 for f_star and f_minus: 26.427785448359288 , 45.88171807235939\n",
      "\t ---------- State is:  (4, 10)\n",
      "[INFO] [2023-04-14 06:07:07,012] [Advisor] Sample random config. rand_prob=0.100000.\n",
      "[INFO] [2023-04-14 06:07:34,463] [OpenBox-SPO] Iteration 676, objective value: [62.27722265024563].\n"
     ]
    },
    {
     "name": "stderr",
     "output_type": "stream",
     "text": [
      "\r",
      " 68%|██████████████████████████████████████████████████▋                        | 676/1000 [8:27:47<3:25:53, 38.13s/it]"
     ]
    },
    {
     "name": "stdout",
     "output_type": "stream",
     "text": [
      "\t ----- reward: -62.27722265024563 for f_star and f_minus: 26.427785448359288 , 62.27722265024563\n",
      "\t ---------- State is:  (4, 11)\n",
      "[INFO] [2023-04-14 06:08:17,707] [OpenBox-SPO] Iteration 677, objective value: [36.2982425469189].\n"
     ]
    },
    {
     "name": "stderr",
     "output_type": "stream",
     "text": [
      "\r",
      " 68%|██████████████████████████████████████████████████▊                        | 677/1000 [8:28:30<3:33:30, 39.66s/it]"
     ]
    },
    {
     "name": "stdout",
     "output_type": "stream",
     "text": [
      "\t ----- reward: -36.2982425469189 for f_star and f_minus: 26.427785448359288 , 36.2982425469189\n",
      "\t ---------- State is:  (4, 11)\n",
      "[INFO] [2023-04-14 06:09:00,827] [OpenBox-SPO] Iteration 678, objective value: [31.74471815645653].\n"
     ]
    },
    {
     "name": "stderr",
     "output_type": "stream",
     "text": [
      "\r",
      " 68%|██████████████████████████████████████████████████▊                        | 678/1000 [8:29:13<3:38:25, 40.70s/it]"
     ]
    },
    {
     "name": "stdout",
     "output_type": "stream",
     "text": [
      "\t ----- reward: -31.74471815645653 for f_star and f_minus: 26.427785448359288 , 31.74471815645653\n",
      "\t ---------- State is:  (3, 11)\n",
      "[INFO] [2023-04-14 06:09:00,827] [Advisor] Sample random config. rand_prob=0.100000.\n",
      "[INFO] [2023-04-14 06:09:30,591] [OpenBox-SPO] Iteration 679, objective value: [54.42937885031821].\n"
     ]
    },
    {
     "name": "stderr",
     "output_type": "stream",
     "text": [
      "\r",
      " 68%|██████████████████████████████████████████████████▉                        | 679/1000 [8:29:43<3:20:11, 37.42s/it]"
     ]
    },
    {
     "name": "stdout",
     "output_type": "stream",
     "text": [
      "\t ----- reward: -54.42937885031821 for f_star and f_minus: 26.427785448359288 , 54.42937885031821\n",
      "\t ---------- State is:  (2, 11)\n",
      "[INFO] [2023-04-14 06:10:14,249] [OpenBox-SPO] Iteration 680, objective value: [33.82683308105324].\n"
     ]
    },
    {
     "name": "stderr",
     "output_type": "stream",
     "text": [
      "\r",
      " 68%|███████████████████████████████████████████████████                        | 680/1000 [8:30:27<3:29:33, 39.29s/it]"
     ]
    },
    {
     "name": "stdout",
     "output_type": "stream",
     "text": [
      "\t ----- reward: -33.82683308105324 for f_star and f_minus: 26.427785448359288 , 33.82683308105324\n",
      "\t ---------- State is:  (1, 11)\n",
      "[INFO] [2023-04-14 06:11:10,060] [OpenBox-SPO] Iteration 681, objective value: [34.47662288396285].\n"
     ]
    },
    {
     "name": "stderr",
     "output_type": "stream",
     "text": [
      "\r",
      " 68%|███████████████████████████████████████████████████                        | 681/1000 [8:31:22<3:55:14, 44.25s/it]"
     ]
    },
    {
     "name": "stdout",
     "output_type": "stream",
     "text": [
      "\t ----- reward: -34.47662288396285 for f_star and f_minus: 26.427785448359288 , 34.47662288396285\n",
      "\t ---------- State is:  (2, 11)\n",
      "[INFO] [2023-04-14 06:11:55,730] [OpenBox-SPO] Iteration 682, objective value: [33.85931225946511].\n"
     ]
    },
    {
     "name": "stderr",
     "output_type": "stream",
     "text": [
      "\r",
      " 68%|███████████████████████████████████████████████████▏                       | 682/1000 [8:32:08<3:56:46, 44.67s/it]"
     ]
    },
    {
     "name": "stdout",
     "output_type": "stream",
     "text": [
      "\t ----- reward: -33.85931225946511 for f_star and f_minus: 26.427785448359288 , 33.85931225946511\n",
      "\t ---------- State is:  (2, 11)\n",
      "[INFO] [2023-04-14 06:12:42,278] [OpenBox-SPO] Iteration 683, objective value: [42.357460393577675].\n"
     ]
    },
    {
     "name": "stderr",
     "output_type": "stream",
     "text": [
      "\r",
      " 68%|███████████████████████████████████████████████████▏                       | 683/1000 [8:32:55<3:58:59, 45.24s/it]"
     ]
    },
    {
     "name": "stdout",
     "output_type": "stream",
     "text": [
      "\t ----- reward: -42.357460393577675 for f_star and f_minus: 26.427785448359288 , 42.357460393577675\n",
      "\t ---------- State is:  (3, 11)\n",
      "[INFO] [2023-04-14 06:12:42,278] [Advisor] Sample random config. rand_prob=0.100000.\n",
      "[INFO] [2023-04-14 06:13:14,511] [OpenBox-SPO] Iteration 684, objective value: [66.04307777376931].\n"
     ]
    },
    {
     "name": "stderr",
     "output_type": "stream",
     "text": [
      "\r",
      " 68%|███████████████████████████████████████████████████▎                       | 684/1000 [8:33:27<3:37:42, 41.34s/it]"
     ]
    },
    {
     "name": "stdout",
     "output_type": "stream",
     "text": [
      "\t ----- reward: -66.04307777376931 for f_star and f_minus: 26.427785448359288 , 66.04307777376931\n",
      "\t ---------- State is:  (3, 12)\n",
      "[INFO] [2023-04-14 06:13:58,345] [OpenBox-SPO] Iteration 685, objective value: [51.27722919114534].\n"
     ]
    },
    {
     "name": "stderr",
     "output_type": "stream",
     "text": [
      "\r",
      " 68%|███████████████████████████████████████████████████▍                       | 685/1000 [8:34:11<3:40:56, 42.08s/it]"
     ]
    },
    {
     "name": "stdout",
     "output_type": "stream",
     "text": [
      "\t ----- reward: -51.27722919114534 for f_star and f_minus: 26.427785448359288 , 51.27722919114534\n",
      "\t ---------- State is:  (2, 13)\n",
      "[INFO] [2023-04-14 06:14:40,485] [OpenBox-SPO] Iteration 686, objective value: [39.459154490322575].\n"
     ]
    },
    {
     "name": "stderr",
     "output_type": "stream",
     "text": [
      "\r",
      " 69%|███████████████████████████████████████████████████▍                       | 686/1000 [8:34:53<3:40:21, 42.11s/it]"
     ]
    },
    {
     "name": "stdout",
     "output_type": "stream",
     "text": [
      "\t ----- reward: -39.459154490322575 for f_star and f_minus: 26.427785448359288 , 39.459154490322575\n",
      "\t ---------- State is:  (3, 13)\n",
      "[INFO] [2023-04-14 06:15:27,284] [OpenBox-SPO] Iteration 687, objective value: [40.06948361869894].\n"
     ]
    },
    {
     "name": "stderr",
     "output_type": "stream",
     "text": [
      "\r",
      " 69%|███████████████████████████████████████████████████▌                       | 687/1000 [8:35:40<3:46:58, 43.51s/it]"
     ]
    },
    {
     "name": "stdout",
     "output_type": "stream",
     "text": [
      "\t ----- reward: -40.06948361869894 for f_star and f_minus: 26.427785448359288 , 40.06948361869894\n",
      "\t ---------- State is:  (2, 13)\n",
      "[INFO] [2023-04-14 06:16:18,411] [OpenBox-SPO] Iteration 688, objective value: [35.41851239080469].\n"
     ]
    },
    {
     "name": "stderr",
     "output_type": "stream",
     "text": [
      "\r",
      " 69%|███████████████████████████████████████████████████▌                       | 688/1000 [8:36:31<3:58:07, 45.79s/it]"
     ]
    },
    {
     "name": "stdout",
     "output_type": "stream",
     "text": [
      "\t ----- reward: -35.41851239080469 for f_star and f_minus: 26.427785448359288 , 35.41851239080469\n",
      "\t ---------- State is:  (1, 14)\n",
      "[INFO] [2023-04-14 06:17:03,436] [OpenBox-SPO] Iteration 689, objective value: [42.09473092353156].\n"
     ]
    },
    {
     "name": "stderr",
     "output_type": "stream",
     "text": [
      "\r",
      " 69%|███████████████████████████████████████████████████▋                       | 689/1000 [8:37:16<3:56:10, 45.56s/it]"
     ]
    },
    {
     "name": "stdout",
     "output_type": "stream",
     "text": [
      "\t ----- reward: -42.09473092353156 for f_star and f_minus: 26.427785448359288 , 42.09473092353156\n",
      "\t ---------- State is:  (2, 13)\n",
      "[INFO] [2023-04-14 06:17:50,264] [OpenBox-SPO] Iteration 690, objective value: [33.43063867227397].\n"
     ]
    },
    {
     "name": "stderr",
     "output_type": "stream",
     "text": [
      "\r",
      " 69%|███████████████████████████████████████████████████▋                       | 690/1000 [8:38:03<3:57:22, 45.94s/it]"
     ]
    },
    {
     "name": "stdout",
     "output_type": "stream",
     "text": [
      "\t ----- reward: -33.43063867227397 for f_star and f_minus: 26.427785448359288 , 33.43063867227397\n",
      "\t ---------- State is:  (2, 13)\n",
      "[INFO] [2023-04-14 06:18:37,359] [OpenBox-SPO] Iteration 691, objective value: [30.526813040162608].\n"
     ]
    },
    {
     "name": "stderr",
     "output_type": "stream",
     "text": [
      "\r",
      " 69%|███████████████████████████████████████████████████▊                       | 691/1000 [8:38:50<3:58:23, 46.29s/it]"
     ]
    },
    {
     "name": "stdout",
     "output_type": "stream",
     "text": [
      "\t ----- reward: -30.526813040162608 for f_star and f_minus: 26.427785448359288 , 30.526813040162608\n",
      "\t ---------- State is:  (3, 13)\n",
      "[INFO] [2023-04-14 06:19:16,947] [OpenBox-SPO] Iteration 692, objective value: [38.56024979290942].\n"
     ]
    },
    {
     "name": "stderr",
     "output_type": "stream",
     "text": [
      "\r",
      " 69%|███████████████████████████████████████████████████▉                       | 692/1000 [8:39:29<3:47:17, 44.28s/it]"
     ]
    },
    {
     "name": "stdout",
     "output_type": "stream",
     "text": [
      "\t ----- reward: -38.56024979290942 for f_star and f_minus: 26.427785448359288 , 38.56024979290942\n",
      "\t ---------- State is:  (3, 13)\n",
      "[INFO] [2023-04-14 06:20:04,750] [OpenBox-SPO] Iteration 693, objective value: [29.630110840115037].\n"
     ]
    },
    {
     "name": "stderr",
     "output_type": "stream",
     "text": [
      "\r",
      " 69%|███████████████████████████████████████████████████▉                       | 693/1000 [8:40:17<3:51:57, 45.34s/it]"
     ]
    },
    {
     "name": "stdout",
     "output_type": "stream",
     "text": [
      "\t ----- reward: -29.630110840115037 for f_star and f_minus: 26.427785448359288 , 29.630110840115037\n",
      "\t ---------- State is:  (2, 13)\n",
      "[INFO] [2023-04-14 06:20:50,355] [OpenBox-SPO] Iteration 694, objective value: [30.99621644053147].\n"
     ]
    },
    {
     "name": "stderr",
     "output_type": "stream",
     "text": [
      "\r",
      " 69%|████████████████████████████████████████████████████                       | 694/1000 [8:41:03<3:51:37, 45.42s/it]"
     ]
    },
    {
     "name": "stdout",
     "output_type": "stream",
     "text": [
      "\t ----- reward: -30.99621644053147 for f_star and f_minus: 26.427785448359288 , 30.99621644053147\n",
      "\t ---------- State is:  (1, 13)\n",
      "[INFO] [2023-04-14 06:21:32,617] [OpenBox-SPO] Iteration 695, objective value: [34.24754736504798].\n"
     ]
    },
    {
     "name": "stderr",
     "output_type": "stream",
     "text": [
      "\r",
      " 70%|████████████████████████████████████████████████████                       | 695/1000 [8:41:45<3:46:03, 44.47s/it]"
     ]
    },
    {
     "name": "stdout",
     "output_type": "stream",
     "text": [
      "\t ----- reward: -34.24754736504798 for f_star and f_minus: 26.427785448359288 , 34.24754736504798\n",
      "\t ---------- State is:  (1, 13)\n",
      "[INFO] [2023-04-14 06:22:20,852] [OpenBox-SPO] Iteration 696, objective value: [30.602811089660065].\n"
     ]
    },
    {
     "name": "stderr",
     "output_type": "stream",
     "text": [
      "\r",
      " 70%|████████████████████████████████████████████████████▏                      | 696/1000 [8:42:33<3:51:02, 45.60s/it]"
     ]
    },
    {
     "name": "stdout",
     "output_type": "stream",
     "text": [
      "\t ----- reward: -30.602811089660065 for f_star and f_minus: 26.427785448359288 , 30.602811089660065\n",
      "\t ---------- State is:  (0, 13)\n",
      "[INFO] [2023-04-14 06:23:09,012] [OpenBox-SPO] Iteration 697, objective value: [29.67911155789058].\n"
     ]
    },
    {
     "name": "stderr",
     "output_type": "stream",
     "text": [
      "\r",
      " 70%|████████████████████████████████████████████████████▎                      | 697/1000 [8:43:21<3:54:09, 46.37s/it]"
     ]
    },
    {
     "name": "stdout",
     "output_type": "stream",
     "text": [
      "\t ----- reward: -29.67911155789058 for f_star and f_minus: 26.427785448359288 , 29.67911155789058\n",
      "\t ---------- State is:  (0, 12)\n",
      "[INFO] [2023-04-14 06:23:48,852] [OpenBox-SPO] Iteration 698, objective value: [44.95230876503563].\n"
     ]
    },
    {
     "name": "stderr",
     "output_type": "stream",
     "text": [
      "\r",
      " 70%|████████████████████████████████████████████████████▎                      | 698/1000 [8:44:01<3:43:31, 44.41s/it]"
     ]
    },
    {
     "name": "stdout",
     "output_type": "stream",
     "text": [
      "\t ----- reward: -44.95230876503563 for f_star and f_minus: 26.427785448359288 , 44.95230876503563\n",
      "\t ---------- State is:  (0, 12)\n",
      "[INFO] [2023-04-14 06:24:34,112] [OpenBox-SPO] Iteration 699, objective value: [33.755922672830394].\n"
     ]
    },
    {
     "name": "stderr",
     "output_type": "stream",
     "text": [
      "\r",
      " 70%|████████████████████████████████████████████████████▍                      | 699/1000 [8:44:46<3:44:04, 44.66s/it]"
     ]
    },
    {
     "name": "stdout",
     "output_type": "stream",
     "text": [
      "\t ----- reward: -33.755922672830394 for f_star and f_minus: 26.427785448359288 , 33.755922672830394\n",
      "\t ---------- State is:  (0, 12)\n",
      "[INFO] [2023-04-14 06:25:15,624] [OpenBox-SPO] Iteration 700, objective value: [50.039460660855646].\n"
     ]
    },
    {
     "name": "stderr",
     "output_type": "stream",
     "text": [
      "\r",
      " 70%|████████████████████████████████████████████████████▌                      | 700/1000 [8:45:28<3:38:35, 43.72s/it]"
     ]
    },
    {
     "name": "stdout",
     "output_type": "stream",
     "text": [
      "\t ----- reward: -50.039460660855646 for f_star and f_minus: 26.427785448359288 , 50.039460660855646\n",
      "\t ---------- State is:  (1, 12)\n",
      "[INFO] [2023-04-14 06:25:58,591] [OpenBox-SPO] Iteration 701, objective value: [45.049602361200755].\n"
     ]
    },
    {
     "name": "stderr",
     "output_type": "stream",
     "text": [
      "\r",
      " 70%|████████████████████████████████████████████████████▌                      | 701/1000 [8:46:11<3:36:45, 43.50s/it]"
     ]
    },
    {
     "name": "stdout",
     "output_type": "stream",
     "text": [
      "\t ----- reward: -45.049602361200755 for f_star and f_minus: 26.427785448359288 , 45.049602361200755\n",
      "\t ---------- State is:  (2, 13)\n",
      "[INFO] [2023-04-14 06:26:46,818] [OpenBox-SPO] Iteration 702, objective value: [30.10073397815046].\n"
     ]
    },
    {
     "name": "stderr",
     "output_type": "stream",
     "text": [
      "\r",
      " 70%|████████████████████████████████████████████████████▋                      | 702/1000 [8:46:59<3:43:03, 44.91s/it]"
     ]
    },
    {
     "name": "stdout",
     "output_type": "stream",
     "text": [
      "\t ----- reward: -30.10073397815046 for f_star and f_minus: 26.427785448359288 , 30.10073397815046\n",
      "\t ---------- State is:  (2, 13)\n",
      "[INFO] [2023-04-14 06:27:24,453] [OpenBox-SPO] Iteration 703, objective value: [49.57897050180373].\n"
     ]
    },
    {
     "name": "stderr",
     "output_type": "stream",
     "text": [
      "\r",
      " 70%|████████████████████████████████████████████████████▋                      | 703/1000 [8:47:37<3:31:30, 42.73s/it]"
     ]
    },
    {
     "name": "stdout",
     "output_type": "stream",
     "text": [
      "\t ----- reward: -49.57897050180373 for f_star and f_minus: 26.427785448359288 , 49.57897050180373\n",
      "\t ---------- State is:  (3, 13)\n",
      "[INFO] [2023-04-14 06:28:05,286] [OpenBox-SPO] Iteration 704, objective value: [39.623361057189165].\n"
     ]
    },
    {
     "name": "stderr",
     "output_type": "stream",
     "text": [
      "\r",
      " 70%|████████████████████████████████████████████████████▊                      | 704/1000 [8:48:18<3:27:59, 42.16s/it]"
     ]
    },
    {
     "name": "stdout",
     "output_type": "stream",
     "text": [
      "\t ----- reward: -39.623361057189165 for f_star and f_minus: 26.427785448359288 , 39.623361057189165\n",
      "\t ---------- State is:  (4, 13)\n",
      "[INFO] [2023-04-14 06:28:54,106] [OpenBox-SPO] Iteration 705, objective value: [31.19142498510928].\n"
     ]
    },
    {
     "name": "stderr",
     "output_type": "stream",
     "text": [
      "\r",
      " 70%|████████████████████████████████████████████████████▉                      | 705/1000 [8:49:06<3:37:06, 44.16s/it]"
     ]
    },
    {
     "name": "stdout",
     "output_type": "stream",
     "text": [
      "\t ----- reward: -31.19142498510928 for f_star and f_minus: 26.427785448359288 , 31.19142498510928\n",
      "\t ---------- State is:  (4, 13)\n",
      "[INFO] [2023-04-14 06:29:45,819] [OpenBox-SPO] Iteration 706, objective value: [32.57616145672711].\n"
     ]
    },
    {
     "name": "stderr",
     "output_type": "stream",
     "text": [
      "\r",
      " 71%|████████████████████████████████████████████████████▉                      | 706/1000 [8:49:58<3:47:28, 46.42s/it]"
     ]
    },
    {
     "name": "stdout",
     "output_type": "stream",
     "text": [
      "\t ----- reward: -32.57616145672711 for f_star and f_minus: 26.427785448359288 , 32.57616145672711\n",
      "\t ---------- State is:  (5, 12)\n",
      "[INFO] [2023-04-14 06:29:45,819] [Advisor] Sample random config. rand_prob=0.100000.\n",
      "[INFO] [2023-04-14 06:30:17,020] [OpenBox-SPO] Iteration 707, objective value: [52.017447119855355].\n"
     ]
    },
    {
     "name": "stderr",
     "output_type": "stream",
     "text": [
      "\r",
      " 71%|█████████████████████████████████████████████████████                      | 707/1000 [8:50:29<3:24:24, 41.86s/it]"
     ]
    },
    {
     "name": "stdout",
     "output_type": "stream",
     "text": [
      "\t ----- reward: -52.017447119855355 for f_star and f_minus: 26.427785448359288 , 52.017447119855355\n",
      "\t ---------- State is:  (5, 12)\n",
      "[INFO] [2023-04-14 06:31:02,957] [OpenBox-SPO] Iteration 708, objective value: [36.79602732715901].\n"
     ]
    },
    {
     "name": "stderr",
     "output_type": "stream",
     "text": [
      "\r",
      " 71%|█████████████████████████████████████████████████████                      | 708/1000 [8:51:15<3:29:39, 43.08s/it]"
     ]
    },
    {
     "name": "stdout",
     "output_type": "stream",
     "text": [
      "\t ----- reward: -36.79602732715901 for f_star and f_minus: 26.427785448359288 , 36.79602732715901\n",
      "\t ---------- State is:  (4, 12)\n",
      "[INFO] [2023-04-14 06:31:48,509] [OpenBox-SPO] Iteration 709, objective value: [27.83095770376424].\n"
     ]
    },
    {
     "name": "stderr",
     "output_type": "stream",
     "text": [
      "\r",
      " 71%|█████████████████████████████████████████████████████▏                     | 709/1000 [8:52:01<3:32:32, 43.82s/it]"
     ]
    },
    {
     "name": "stdout",
     "output_type": "stream",
     "text": [
      "\t ----- reward: -27.83095770376424 for f_star and f_minus: 26.427785448359288 , 27.83095770376424\n",
      "\t ---------- State is:  (4, 11)\n",
      "[INFO] [2023-04-14 06:32:30,994] [OpenBox-SPO] Iteration 710, objective value: [34.814863660879226].\n"
     ]
    },
    {
     "name": "stderr",
     "output_type": "stream",
     "text": [
      "\r",
      " 71%|█████████████████████████████████████████████████████▎                     | 710/1000 [8:52:43<3:29:52, 43.42s/it]"
     ]
    },
    {
     "name": "stdout",
     "output_type": "stream",
     "text": [
      "\t ----- reward: -34.814863660879226 for f_star and f_minus: 26.427785448359288 , 34.814863660879226\n",
      "\t ---------- State is:  (4, 11)\n",
      "[INFO] [2023-04-14 06:33:18,484] [OpenBox-SPO] Iteration 711, objective value: [34.0026224497157].\n"
     ]
    },
    {
     "name": "stderr",
     "output_type": "stream",
     "text": [
      "\r",
      " 71%|█████████████████████████████████████████████████████▎                     | 711/1000 [8:53:31<3:35:01, 44.64s/it]"
     ]
    },
    {
     "name": "stdout",
     "output_type": "stream",
     "text": [
      "\t ----- reward: -34.0026224497157 for f_star and f_minus: 26.427785448359288 , 34.0026224497157\n",
      "\t ---------- State is:  (4, 11)\n",
      "[INFO] [2023-04-14 06:34:02,955] [OpenBox-SPO] Iteration 712, objective value: [30.56275042918604].\n"
     ]
    },
    {
     "name": "stderr",
     "output_type": "stream",
     "text": [
      "\r",
      " 71%|█████████████████████████████████████████████████████▍                     | 712/1000 [8:54:15<3:34:02, 44.59s/it]"
     ]
    },
    {
     "name": "stdout",
     "output_type": "stream",
     "text": [
      "\t ----- reward: -30.56275042918604 for f_star and f_minus: 26.427785448359288 , 30.56275042918604\n",
      "\t ---------- State is:  (5, 11)\n",
      "[INFO] [2023-04-14 06:34:50,583] [OpenBox-SPO] Iteration 713, objective value: [39.32052483306624].\n"
     ]
    },
    {
     "name": "stderr",
     "output_type": "stream",
     "text": [
      "\r",
      " 71%|█████████████████████████████████████████████████████▍                     | 713/1000 [8:55:03<3:37:39, 45.50s/it]"
     ]
    },
    {
     "name": "stdout",
     "output_type": "stream",
     "text": [
      "\t ----- reward: -39.32052483306624 for f_star and f_minus: 26.427785448359288 , 39.32052483306624\n",
      "\t ---------- State is:  (4, 11)\n",
      "[INFO] [2023-04-14 06:35:39,706] [OpenBox-SPO] Iteration 714, objective value: [30.165192034425004].\n"
     ]
    },
    {
     "name": "stderr",
     "output_type": "stream",
     "text": [
      "\r",
      " 71%|█████████████████████████████████████████████████████▌                     | 714/1000 [8:55:52<3:42:04, 46.59s/it]"
     ]
    },
    {
     "name": "stdout",
     "output_type": "stream",
     "text": [
      "\t ----- reward: -30.165192034425004 for f_star and f_minus: 26.427785448359288 , 30.165192034425004\n",
      "\t ---------- State is:  (3, 10)\n",
      "[INFO] [2023-04-14 06:36:26,923] [OpenBox-SPO] Iteration 715, objective value: [39.579832712158655].\n"
     ]
    },
    {
     "name": "stderr",
     "output_type": "stream",
     "text": [
      "\r",
      " 72%|█████████████████████████████████████████████████████▋                     | 715/1000 [8:56:39<3:42:11, 46.78s/it]"
     ]
    },
    {
     "name": "stdout",
     "output_type": "stream",
     "text": [
      "\t ----- reward: -39.579832712158655 for f_star and f_minus: 26.427785448359288 , 39.579832712158655\n",
      "\t ---------- State is:  (4, 10)\n",
      "[INFO] [2023-04-14 06:37:15,090] [OpenBox-SPO] Iteration 716, objective value: [30.915496392938792].\n"
     ]
    },
    {
     "name": "stderr",
     "output_type": "stream",
     "text": [
      "\r",
      " 72%|█████████████████████████████████████████████████████▋                     | 716/1000 [8:57:27<3:43:23, 47.19s/it]"
     ]
    },
    {
     "name": "stdout",
     "output_type": "stream",
     "text": [
      "\t ----- reward: -30.915496392938792 for f_star and f_minus: 26.427785448359288 , 30.915496392938792\n",
      "\t ---------- State is:  (3, 9)\n",
      "[INFO] [2023-04-14 06:38:05,196] [OpenBox-SPO] Iteration 717, objective value: [29.447039126201773].\n"
     ]
    },
    {
     "name": "stderr",
     "output_type": "stream",
     "text": [
      "\r",
      " 72%|█████████████████████████████████████████████████████▊                     | 717/1000 [8:58:18<3:46:43, 48.07s/it]"
     ]
    },
    {
     "name": "stdout",
     "output_type": "stream",
     "text": [
      "\t ----- reward: -29.447039126201773 for f_star and f_minus: 26.427785448359288 , 29.447039126201773\n",
      "\t ---------- State is:  (2, 9)\n",
      "[INFO] [2023-04-14 06:38:45,922] [OpenBox-SPO] Iteration 718, objective value: [33.30860546731287].\n"
     ]
    },
    {
     "name": "stderr",
     "output_type": "stream",
     "text": [
      "\r",
      " 72%|█████████████████████████████████████████████████████▊                     | 718/1000 [8:58:58<3:35:33, 45.87s/it]"
     ]
    },
    {
     "name": "stdout",
     "output_type": "stream",
     "text": [
      "\t ----- reward: -33.30860546731287 for f_star and f_minus: 26.427785448359288 , 33.30860546731287\n",
      "\t ---------- State is:  (2, 9)\n",
      "[INFO] [2023-04-14 06:38:45,922] [Advisor] Sample random config. rand_prob=0.100000.\n",
      "[INFO] [2023-04-14 06:39:15,230] [OpenBox-SPO] Iteration 719, objective value: [58.14302077494624].\n"
     ]
    },
    {
     "name": "stderr",
     "output_type": "stream",
     "text": [
      "\r",
      " 72%|█████████████████████████████████████████████████████▉                     | 719/1000 [8:59:28<3:11:32, 40.90s/it]"
     ]
    },
    {
     "name": "stdout",
     "output_type": "stream",
     "text": [
      "\t ----- reward: -58.14302077494624 for f_star and f_minus: 26.427785448359288 , 58.14302077494624\n",
      "\t ---------- State is:  (1, 9)\n",
      "[INFO] [2023-04-14 06:39:56,450] [OpenBox-SPO] Iteration 720, objective value: [39.39192939150189].\n"
     ]
    },
    {
     "name": "stderr",
     "output_type": "stream",
     "text": [
      "\r",
      " 72%|██████████████████████████████████████████████████████                     | 720/1000 [9:00:09<3:11:18, 40.99s/it]"
     ]
    },
    {
     "name": "stdout",
     "output_type": "stream",
     "text": [
      "\t ----- reward: -39.39192939150189 for f_star and f_minus: 26.427785448359288 , 39.39192939150189\n",
      "\t ---------- State is:  (1, 10)\n",
      "[INFO] [2023-04-14 06:40:40,139] [OpenBox-SPO] Iteration 721, objective value: [29.567263810476007].\n"
     ]
    },
    {
     "name": "stderr",
     "output_type": "stream",
     "text": [
      "\r",
      " 72%|██████████████████████████████████████████████████████                     | 721/1000 [9:00:52<3:14:23, 41.80s/it]"
     ]
    },
    {
     "name": "stdout",
     "output_type": "stream",
     "text": [
      "\t ----- reward: -29.567263810476007 for f_star and f_minus: 26.427785448359288 , 29.567263810476007\n",
      "\t ---------- State is:  (1, 10)\n",
      "[INFO] [2023-04-14 06:41:25,107] [OpenBox-SPO] Iteration 722, objective value: [34.53940146159441].\n"
     ]
    },
    {
     "name": "stderr",
     "output_type": "stream",
     "text": [
      "\r",
      " 72%|██████████████████████████████████████████████████████▏                    | 722/1000 [9:01:37<3:18:05, 42.75s/it]"
     ]
    },
    {
     "name": "stdout",
     "output_type": "stream",
     "text": [
      "\t ----- reward: -34.53940146159441 for f_star and f_minus: 26.427785448359288 , 34.53940146159441\n",
      "\t ---------- State is:  (2, 9)\n",
      "[INFO] [2023-04-14 06:42:04,628] [OpenBox-SPO] Iteration 723, objective value: [42.5518423494227].\n"
     ]
    },
    {
     "name": "stderr",
     "output_type": "stream",
     "text": [
      "\r",
      " 72%|██████████████████████████████████████████████████████▏                    | 723/1000 [9:02:17<3:12:53, 41.78s/it]"
     ]
    },
    {
     "name": "stdout",
     "output_type": "stream",
     "text": [
      "\t ----- reward: -42.5518423494227 for f_star and f_minus: 26.427785448359288 , 42.5518423494227\n",
      "\t ---------- State is:  (2, 10)\n",
      "[INFO] [2023-04-14 06:42:55,456] [OpenBox-SPO] Iteration 724, objective value: [39.64915059770321].\n"
     ]
    },
    {
     "name": "stderr",
     "output_type": "stream",
     "text": [
      "\r",
      " 72%|██████████████████████████████████████████████████████▎                    | 724/1000 [9:03:08<3:24:41, 44.50s/it]"
     ]
    },
    {
     "name": "stdout",
     "output_type": "stream",
     "text": [
      "\t ----- reward: -39.64915059770321 for f_star and f_minus: 26.427785448359288 , 39.64915059770321\n",
      "\t ---------- State is:  (3, 10)\n",
      "[INFO] [2023-04-14 06:43:43,052] [OpenBox-SPO] Iteration 725, objective value: [41.828250640454314].\n"
     ]
    },
    {
     "name": "stderr",
     "output_type": "stream",
     "text": [
      "\r",
      " 72%|██████████████████████████████████████████████████████▍                    | 725/1000 [9:03:55<3:28:12, 45.43s/it]"
     ]
    },
    {
     "name": "stdout",
     "output_type": "stream",
     "text": [
      "\t ----- reward: -41.828250640454314 for f_star and f_minus: 26.427785448359288 , 41.828250640454314\n",
      "\t ---------- State is:  (3, 10)\n",
      "[INFO] [2023-04-14 06:44:31,135] [OpenBox-SPO] Iteration 726, objective value: [30.567415627275366].\n"
     ]
    },
    {
     "name": "stderr",
     "output_type": "stream",
     "text": [
      "\r",
      " 73%|██████████████████████████████████████████████████████▍                    | 726/1000 [9:04:43<3:31:05, 46.22s/it]"
     ]
    },
    {
     "name": "stdout",
     "output_type": "stream",
     "text": [
      "\t ----- reward: -30.567415627275366 for f_star and f_minus: 26.427785448359288 , 30.567415627275366\n",
      "\t ---------- State is:  (2, 10)\n",
      "[INFO] [2023-04-14 06:44:31,135] [Advisor] Sample random config. rand_prob=0.100000.\n",
      "[INFO] [2023-04-14 06:45:01,863] [OpenBox-SPO] Iteration 727, objective value: [52.97928166026377].\n"
     ]
    },
    {
     "name": "stderr",
     "output_type": "stream",
     "text": [
      "\r",
      " 73%|██████████████████████████████████████████████████████▌                    | 727/1000 [9:05:14<3:09:09, 41.57s/it]"
     ]
    },
    {
     "name": "stdout",
     "output_type": "stream",
     "text": [
      "\t ----- reward: -52.97928166026377 for f_star and f_minus: 26.427785448359288 , 52.97928166026377\n",
      "\t ---------- State is:  (3, 11)\n",
      "[INFO] [2023-04-14 06:45:48,091] [OpenBox-SPO] Iteration 728, objective value: [39.83506968119064].\n"
     ]
    },
    {
     "name": "stderr",
     "output_type": "stream",
     "text": [
      "\r",
      " 73%|██████████████████████████████████████████████████████▌                    | 728/1000 [9:06:00<3:14:47, 42.97s/it]"
     ]
    },
    {
     "name": "stdout",
     "output_type": "stream",
     "text": [
      "\t ----- reward: -39.83506968119064 for f_star and f_minus: 26.427785448359288 , 39.83506968119064\n",
      "\t ---------- State is:  (4, 11)\n",
      "[INFO] [2023-04-14 06:46:35,263] [OpenBox-SPO] Iteration 729, objective value: [36.60919937790145].\n"
     ]
    },
    {
     "name": "stderr",
     "output_type": "stream",
     "text": [
      "\r",
      " 73%|██████████████████████████████████████████████████████▋                    | 729/1000 [9:06:48<3:19:46, 44.23s/it]"
     ]
    },
    {
     "name": "stdout",
     "output_type": "stream",
     "text": [
      "\t ----- reward: -36.60919937790145 for f_star and f_minus: 26.427785448359288 , 36.60919937790145\n",
      "\t ---------- State is:  (5, 11)\n",
      "[INFO] [2023-04-14 06:47:13,572] [OpenBox-SPO] Iteration 730, objective value: [41.82481901363453].\n"
     ]
    },
    {
     "name": "stderr",
     "output_type": "stream",
     "text": [
      "\r",
      " 73%|██████████████████████████████████████████████████████▊                    | 730/1000 [9:07:26<3:11:02, 42.45s/it]"
     ]
    },
    {
     "name": "stdout",
     "output_type": "stream",
     "text": [
      "\t ----- reward: -41.82481901363453 for f_star and f_minus: 26.427785448359288 , 41.82481901363453\n",
      "\t ---------- State is:  (5, 11)\n",
      "[INFO] [2023-04-14 06:47:58,569] [OpenBox-SPO] Iteration 731, objective value: [32.78127480655944].\n"
     ]
    },
    {
     "name": "stderr",
     "output_type": "stream",
     "text": [
      "\r",
      " 73%|██████████████████████████████████████████████████████▊                    | 731/1000 [9:08:11<3:13:45, 43.22s/it]"
     ]
    },
    {
     "name": "stdout",
     "output_type": "stream",
     "text": [
      "\t ----- reward: -32.78127480655944 for f_star and f_minus: 26.427785448359288 , 32.78127480655944\n",
      "\t ---------- State is:  (6, 10)\n",
      "[INFO] [2023-04-14 06:48:47,519] [OpenBox-SPO] Iteration 732, objective value: [33.18772796396186].\n"
     ]
    },
    {
     "name": "stderr",
     "output_type": "stream",
     "text": [
      "\r",
      " 73%|██████████████████████████████████████████████████████▉                    | 732/1000 [9:09:00<3:20:43, 44.94s/it]"
     ]
    },
    {
     "name": "stdout",
     "output_type": "stream",
     "text": [
      "\t ----- reward: -33.18772796396186 for f_star and f_minus: 26.427785448359288 , 33.18772796396186\n",
      "\t ---------- State is:  (6, 11)\n",
      "[INFO] [2023-04-14 06:49:33,059] [OpenBox-SPO] Iteration 733, objective value: [29.3530323043463].\n"
     ]
    },
    {
     "name": "stderr",
     "output_type": "stream",
     "text": [
      "\r",
      " 73%|██████████████████████████████████████████████████████▉                    | 733/1000 [9:09:45<3:20:46, 45.12s/it]"
     ]
    },
    {
     "name": "stdout",
     "output_type": "stream",
     "text": [
      "\t ----- reward: -29.3530323043463 for f_star and f_minus: 26.427785448359288 , 29.3530323043463\n",
      "\t ---------- State is:  (6, 10)\n",
      "[INFO] [2023-04-14 06:50:18,755] [OpenBox-SPO] Iteration 734, objective value: [44.58965359326585].\n"
     ]
    },
    {
     "name": "stderr",
     "output_type": "stream",
     "text": [
      "\r",
      " 73%|███████████████████████████████████████████████████████                    | 734/1000 [9:10:31<3:20:47, 45.29s/it]"
     ]
    },
    {
     "name": "stdout",
     "output_type": "stream",
     "text": [
      "\t ----- reward: -44.58965359326585 for f_star and f_minus: 26.427785448359288 , 44.58965359326585\n",
      "\t ---------- State is:  (5, 10)\n",
      "[INFO] [2023-04-14 06:51:08,343] [OpenBox-SPO] Iteration 735, objective value: [37.360073870954736].\n"
     ]
    },
    {
     "name": "stderr",
     "output_type": "stream",
     "text": [
      "\r",
      " 74%|███████████████████████████████████████████████████████▏                   | 735/1000 [9:11:21<3:25:45, 46.58s/it]"
     ]
    },
    {
     "name": "stdout",
     "output_type": "stream",
     "text": [
      "\t ----- reward: -37.360073870954736 for f_star and f_minus: 26.427785448359288 , 37.360073870954736\n",
      "\t ---------- State is:  (6, 10)\n",
      "[INFO] [2023-04-14 06:51:56,880] [OpenBox-SPO] Iteration 736, objective value: [32.37355623562219].\n"
     ]
    },
    {
     "name": "stderr",
     "output_type": "stream",
     "text": [
      "\r",
      " 74%|███████████████████████████████████████████████████████▏                   | 736/1000 [9:12:09<3:27:31, 47.17s/it]"
     ]
    },
    {
     "name": "stdout",
     "output_type": "stream",
     "text": [
      "\t ----- reward: -32.37355623562219 for f_star and f_minus: 26.427785448359288 , 32.37355623562219\n",
      "\t ---------- State is:  (7, 10)\n",
      "[INFO] [2023-04-14 06:52:39,788] [OpenBox-SPO] Iteration 737, objective value: [45.597010835754645].\n"
     ]
    },
    {
     "name": "stderr",
     "output_type": "stream",
     "text": [
      "\r",
      " 74%|███████████████████████████████████████████████████████▎                   | 737/1000 [9:12:52<3:21:09, 45.89s/it]"
     ]
    },
    {
     "name": "stdout",
     "output_type": "stream",
     "text": [
      "\t ----- reward: -45.597010835754645 for f_star and f_minus: 26.427785448359288 , 45.597010835754645\n",
      "\t ---------- State is:  (8, 10)\n",
      "[INFO] [2023-04-14 06:53:25,583] [OpenBox-SPO] Iteration 738, objective value: [33.02259344191265].\n"
     ]
    },
    {
     "name": "stderr",
     "output_type": "stream",
     "text": [
      "\r",
      " 74%|███████████████████████████████████████████████████████▎                   | 738/1000 [9:13:38<3:20:15, 45.86s/it]"
     ]
    },
    {
     "name": "stdout",
     "output_type": "stream",
     "text": [
      "\t ----- reward: -33.02259344191265 for f_star and f_minus: 26.427785448359288 , 33.02259344191265\n",
      "\t ---------- State is:  (8, 10)\n",
      "[INFO] [2023-04-14 06:54:11,349] [OpenBox-SPO] Iteration 739, objective value: [32.33598025941261].\n"
     ]
    },
    {
     "name": "stderr",
     "output_type": "stream",
     "text": [
      "\r",
      " 74%|███████████████████████████████████████████████████████▍                   | 739/1000 [9:14:24<3:19:21, 45.83s/it]"
     ]
    },
    {
     "name": "stdout",
     "output_type": "stream",
     "text": [
      "\t ----- reward: -32.33598025941261 for f_star and f_minus: 26.427785448359288 , 32.33598025941261\n",
      "\t ---------- State is:  (8, 10)\n",
      "[INFO] [2023-04-14 06:54:57,861] [OpenBox-SPO] Iteration 740, objective value: [29.496208515871984].\n"
     ]
    },
    {
     "name": "stderr",
     "output_type": "stream",
     "text": [
      "\r",
      " 74%|███████████████████████████████████████████████████████▌                   | 740/1000 [9:15:10<3:19:29, 46.04s/it]"
     ]
    },
    {
     "name": "stdout",
     "output_type": "stream",
     "text": [
      "\t ----- reward: -29.496208515871984 for f_star and f_minus: 26.427785448359288 , 29.496208515871984\n",
      "\t ---------- State is:  (9, 10)\n",
      "[INFO] [2023-04-14 06:54:57,861] [Advisor] Sample random config. rand_prob=0.100000.\n",
      "[INFO] [2023-04-14 06:55:32,814] [OpenBox-SPO] Iteration 741, objective value: [56.52112217633275].\n"
     ]
    },
    {
     "name": "stderr",
     "output_type": "stream",
     "text": [
      "\r",
      " 74%|███████████████████████████████████████████████████████▌                   | 741/1000 [9:15:45<3:04:22, 42.71s/it]"
     ]
    },
    {
     "name": "stdout",
     "output_type": "stream",
     "text": [
      "\t ----- reward: -56.52112217633275 for f_star and f_minus: 26.427785448359288 , 56.52112217633275\n",
      "\t ---------- State is:  (9, 11)\n",
      "[INFO] [2023-04-14 06:55:32,814] [Advisor] Sample random config. rand_prob=0.100000.\n",
      "[INFO] [2023-04-14 06:55:58,988] [OpenBox-SPO] Iteration 742, objective value: [57.325393805951784].\n"
     ]
    },
    {
     "name": "stderr",
     "output_type": "stream",
     "text": [
      "\r",
      " 74%|███████████████████████████████████████████████████████▋                   | 742/1000 [9:16:11<2:42:19, 37.75s/it]"
     ]
    },
    {
     "name": "stdout",
     "output_type": "stream",
     "text": [
      "\t ----- reward: -57.325393805951784 for f_star and f_minus: 26.427785448359288 , 57.325393805951784\n",
      "\t ---------- State is:  (10, 12)\n",
      "[INFO] [2023-04-14 06:56:44,961] [OpenBox-SPO] Iteration 743, objective value: [31.423052808130265].\n"
     ]
    },
    {
     "name": "stderr",
     "output_type": "stream",
     "text": [
      "\r",
      " 74%|███████████████████████████████████████████████████████▋                   | 743/1000 [9:16:57<2:52:15, 40.22s/it]"
     ]
    },
    {
     "name": "stdout",
     "output_type": "stream",
     "text": [
      "\t ----- reward: -31.423052808130265 for f_star and f_minus: 26.427785448359288 , 31.423052808130265\n",
      "\t ---------- State is:  (10, 11)\n",
      "[INFO] [2023-04-14 06:56:44,961] [Advisor] Sample random config. rand_prob=0.100000.\n",
      "[INFO] [2023-04-14 06:57:26,896] [OpenBox-SPO] Iteration 744, objective value: [52.94254938933644].\n"
     ]
    },
    {
     "name": "stderr",
     "output_type": "stream",
     "text": [
      "\r",
      " 74%|███████████████████████████████████████████████████████▊                   | 744/1000 [9:17:39<2:53:47, 40.73s/it]"
     ]
    },
    {
     "name": "stdout",
     "output_type": "stream",
     "text": [
      "\t ----- reward: -52.94254938933644 for f_star and f_minus: 26.427785448359288 , 52.94254938933644\n",
      "\t ---------- State is:  (10, 12)\n",
      "[INFO] [2023-04-14 06:57:26,896] [Advisor] Sample random config. rand_prob=0.100000.\n",
      "[INFO] [2023-04-14 06:58:00,325] [OpenBox-SPO] Iteration 745, objective value: [54.63448759029508].\n"
     ]
    },
    {
     "name": "stderr",
     "output_type": "stream",
     "text": [
      "\r",
      " 74%|███████████████████████████████████████████████████████▉                   | 745/1000 [9:18:13<2:43:47, 38.54s/it]"
     ]
    },
    {
     "name": "stdout",
     "output_type": "stream",
     "text": [
      "\t ----- reward: -54.63448759029508 for f_star and f_minus: 26.427785448359288 , 54.63448759029508\n",
      "\t ---------- State is:  (10, 13)\n",
      "[INFO] [2023-04-14 06:58:42,447] [OpenBox-SPO] Iteration 746, objective value: [36.97266721593848].\n"
     ]
    },
    {
     "name": "stderr",
     "output_type": "stream",
     "text": [
      "\r",
      " 75%|███████████████████████████████████████████████████████▉                   | 746/1000 [9:18:55<2:47:43, 39.62s/it]"
     ]
    },
    {
     "name": "stdout",
     "output_type": "stream",
     "text": [
      "\t ----- reward: -36.97266721593848 for f_star and f_minus: 26.427785448359288 , 36.97266721593848\n",
      "\t ---------- State is:  (10, 13)\n",
      "[INFO] [2023-04-14 06:59:27,557] [OpenBox-SPO] Iteration 747, objective value: [33.86618458196409].\n"
     ]
    },
    {
     "name": "stderr",
     "output_type": "stream",
     "text": [
      "\r",
      " 75%|████████████████████████████████████████████████████████                   | 747/1000 [9:19:40<2:54:00, 41.27s/it]"
     ]
    },
    {
     "name": "stdout",
     "output_type": "stream",
     "text": [
      "\t ----- reward: -33.86618458196409 for f_star and f_minus: 26.427785448359288 , 33.86618458196409\n",
      "\t ---------- State is:  (10, 13)\n",
      "[INFO] [2023-04-14 07:00:10,471] [OpenBox-SPO] Iteration 748, objective value: [35.44833848364213].\n"
     ]
    },
    {
     "name": "stderr",
     "output_type": "stream",
     "text": [
      "\r",
      " 75%|████████████████████████████████████████████████████████                   | 748/1000 [9:20:23<2:55:22, 41.76s/it]"
     ]
    },
    {
     "name": "stdout",
     "output_type": "stream",
     "text": [
      "\t ----- reward: -35.44833848364213 for f_star and f_minus: 26.427785448359288 , 35.44833848364213\n",
      "\t ---------- State is:  (9, 13)\n",
      "[INFO] [2023-04-14 07:00:47,555] [OpenBox-SPO] Iteration 749, objective value: [42.72125324646897].\n"
     ]
    },
    {
     "name": "stderr",
     "output_type": "stream",
     "text": [
      "\r",
      " 75%|████████████████████████████████████████████████████████▏                  | 749/1000 [9:21:00<2:48:50, 40.36s/it]"
     ]
    },
    {
     "name": "stdout",
     "output_type": "stream",
     "text": [
      "\t ----- reward: -42.72125324646897 for f_star and f_minus: 26.427785448359288 , 42.72125324646897\n",
      "\t ---------- State is:  (8, 12)\n",
      "[INFO] [2023-04-14 07:01:29,622] [OpenBox-SPO] Iteration 750, objective value: [35.342180019700024].\n"
     ]
    },
    {
     "name": "stderr",
     "output_type": "stream",
     "text": [
      "\r",
      " 75%|████████████████████████████████████████████████████████▎                  | 750/1000 [9:21:42<2:50:16, 40.87s/it]"
     ]
    },
    {
     "name": "stdout",
     "output_type": "stream",
     "text": [
      "\t ----- reward: -35.342180019700024 for f_star and f_minus: 26.427785448359288 , 35.342180019700024\n",
      "\t ---------- State is:  (8, 12)\n",
      "[INFO] [2023-04-14 07:02:16,212] [OpenBox-SPO] Iteration 751, objective value: [33.023459993855994].\n"
     ]
    },
    {
     "name": "stderr",
     "output_type": "stream",
     "text": [
      "\r",
      " 75%|████████████████████████████████████████████████████████▎                  | 751/1000 [9:22:29<2:56:43, 42.58s/it]"
     ]
    },
    {
     "name": "stdout",
     "output_type": "stream",
     "text": [
      "\t ----- reward: -33.023459993855994 for f_star and f_minus: 26.427785448359288 , 33.023459993855994\n",
      "\t ---------- State is:  (9, 12)\n",
      "[INFO] [2023-04-14 07:03:01,648] [OpenBox-SPO] Iteration 752, objective value: [27.729075901815207].\n"
     ]
    },
    {
     "name": "stderr",
     "output_type": "stream",
     "text": [
      "\r",
      " 75%|████████████████████████████████████████████████████████▍                  | 752/1000 [9:23:14<2:59:32, 43.44s/it]"
     ]
    },
    {
     "name": "stdout",
     "output_type": "stream",
     "text": [
      "\t ----- reward: -27.729075901815207 for f_star and f_minus: 26.427785448359288 , 27.729075901815207\n",
      "\t ---------- State is:  (10, 12)\n",
      "[INFO] [2023-04-14 07:03:48,818] [OpenBox-SPO] Iteration 753, objective value: [31.510450565748883].\n"
     ]
    },
    {
     "name": "stderr",
     "output_type": "stream",
     "text": [
      "\r",
      " 75%|████████████████████████████████████████████████████████▍                  | 753/1000 [9:24:01<3:03:25, 44.56s/it]"
     ]
    },
    {
     "name": "stdout",
     "output_type": "stream",
     "text": [
      "\t ----- reward: -31.510450565748883 for f_star and f_minus: 26.427785448359288 , 31.510450565748883\n",
      "\t ---------- State is:  (10, 12)\n",
      "[INFO] [2023-04-14 07:03:48,818] [Advisor] Sample random config. rand_prob=0.100000.\n",
      "[INFO] [2023-04-14 07:04:19,959] [OpenBox-SPO] Iteration 754, objective value: [58.20957585216895].\n"
     ]
    },
    {
     "name": "stderr",
     "output_type": "stream",
     "text": [
      "\r",
      " 75%|████████████████████████████████████████████████████████▌                  | 754/1000 [9:24:32<2:46:11, 40.53s/it]"
     ]
    },
    {
     "name": "stdout",
     "output_type": "stream",
     "text": [
      "\t ----- reward: -58.20957585216895 for f_star and f_minus: 26.427785448359288 , 58.20957585216895\n",
      "\t ---------- State is:  (9, 12)\n",
      "[INFO] [2023-04-14 07:05:05,299] [OpenBox-SPO] Iteration 755, objective value: [35.792809321866926].\n"
     ]
    },
    {
     "name": "stderr",
     "output_type": "stream",
     "text": [
      "\r",
      " 76%|████████████████████████████████████████████████████████▋                  | 755/1000 [9:25:18<2:51:23, 41.98s/it]"
     ]
    },
    {
     "name": "stdout",
     "output_type": "stream",
     "text": [
      "\t ----- reward: -35.792809321866926 for f_star and f_minus: 26.427785448359288 , 35.792809321866926\n",
      "\t ---------- State is:  (8, 12)\n",
      "[INFO] [2023-04-14 07:05:48,353] [OpenBox-SPO] Iteration 756, objective value: [29.468305248165976].\n"
     ]
    },
    {
     "name": "stderr",
     "output_type": "stream",
     "text": [
      "\r",
      " 76%|████████████████████████████████████████████████████████▋                  | 756/1000 [9:26:01<2:52:00, 42.30s/it]"
     ]
    },
    {
     "name": "stdout",
     "output_type": "stream",
     "text": [
      "\t ----- reward: -29.468305248165976 for f_star and f_minus: 26.427785448359288 , 29.468305248165976\n",
      "\t ---------- State is:  (7, 12)\n",
      "[INFO] [2023-04-14 07:06:29,692] [OpenBox-SPO] Iteration 757, objective value: [33.214471762175506].\n"
     ]
    },
    {
     "name": "stderr",
     "output_type": "stream",
     "text": [
      "\r",
      " 76%|████████████████████████████████████████████████████████▊                  | 757/1000 [9:26:42<2:50:09, 42.02s/it]"
     ]
    },
    {
     "name": "stdout",
     "output_type": "stream",
     "text": [
      "\t ----- reward: -33.214471762175506 for f_star and f_minus: 26.427785448359288 , 33.214471762175506\n",
      "\t ---------- State is:  (6, 12)\n",
      "[INFO] [2023-04-14 07:07:19,219] [OpenBox-SPO] Iteration 758, objective value: [31.172101209576383].\n"
     ]
    },
    {
     "name": "stderr",
     "output_type": "stream",
     "text": [
      "\r",
      " 76%|████████████████████████████████████████████████████████▊                  | 758/1000 [9:27:32<2:58:31, 44.26s/it]"
     ]
    },
    {
     "name": "stdout",
     "output_type": "stream",
     "text": [
      "\t ----- reward: -31.172101209576383 for f_star and f_minus: 26.427785448359288 , 31.172101209576383\n",
      "\t ---------- State is:  (6, 11)\n",
      "[INFO] [2023-04-14 07:08:05,590] [OpenBox-SPO] Iteration 759, objective value: [30.793899464470016].\n"
     ]
    },
    {
     "name": "stderr",
     "output_type": "stream",
     "text": [
      "\r",
      " 76%|████████████████████████████████████████████████████████▉                  | 759/1000 [9:28:18<3:00:19, 44.90s/it]"
     ]
    },
    {
     "name": "stdout",
     "output_type": "stream",
     "text": [
      "\t ----- reward: -30.793899464470016 for f_star and f_minus: 26.427785448359288 , 30.793899464470016\n",
      "\t ---------- State is:  (7, 11)\n",
      "[INFO] [2023-04-14 07:08:05,590] [Advisor] Sample random config. rand_prob=0.100000.\n",
      "[INFO] [2023-04-14 07:08:27,821] [OpenBox-SPO] Iteration 760, objective value: [63.491986876401995].\n"
     ]
    },
    {
     "name": "stderr",
     "output_type": "stream",
     "text": [
      "\r",
      " 76%|█████████████████████████████████████████████████████████                  | 760/1000 [9:28:40<2:32:23, 38.10s/it]"
     ]
    },
    {
     "name": "stdout",
     "output_type": "stream",
     "text": [
      "\t ----- reward: -63.491986876401995 for f_star and f_minus: 26.427785448359288 , 63.491986876401995\n",
      "\t ---------- State is:  (8, 12)\n",
      "[INFO] [2023-04-14 07:09:17,930] [OpenBox-SPO] Iteration 761, objective value: [34.35444552458948].\n"
     ]
    },
    {
     "name": "stderr",
     "output_type": "stream",
     "text": [
      "\r",
      " 76%|█████████████████████████████████████████████████████████                  | 761/1000 [9:29:30<2:46:06, 41.70s/it]"
     ]
    },
    {
     "name": "stdout",
     "output_type": "stream",
     "text": [
      "\t ----- reward: -34.35444552458948 for f_star and f_minus: 26.427785448359288 , 34.35444552458948\n",
      "\t ---------- State is:  (7, 12)\n",
      "[INFO] [2023-04-14 07:09:17,930] [Advisor] Sample random config. rand_prob=0.100000.\n",
      "[INFO] [2023-04-14 07:09:47,277] [OpenBox-SPO] Iteration 762, objective value: [52.464171733009714].\n"
     ]
    },
    {
     "name": "stderr",
     "output_type": "stream",
     "text": [
      "\r",
      " 76%|█████████████████████████████████████████████████████████▏                 | 762/1000 [9:30:00<2:30:42, 37.99s/it]"
     ]
    },
    {
     "name": "stdout",
     "output_type": "stream",
     "text": [
      "\t ----- reward: -52.464171733009714 for f_star and f_minus: 26.427785448359288 , 52.464171733009714\n",
      "\t ---------- State is:  (7, 12)\n",
      "[INFO] [2023-04-14 07:10:34,914] [OpenBox-SPO] Iteration 763, objective value: [38.298632076541615].\n"
     ]
    },
    {
     "name": "stderr",
     "output_type": "stream",
     "text": [
      "\r",
      " 76%|█████████████████████████████████████████████████████████▏                 | 763/1000 [9:30:47<2:41:30, 40.89s/it]"
     ]
    },
    {
     "name": "stdout",
     "output_type": "stream",
     "text": [
      "\t ----- reward: -38.298632076541615 for f_star and f_minus: 26.427785448359288 , 38.298632076541615\n",
      "\t ---------- State is:  (8, 13)\n",
      "[INFO] [2023-04-14 07:11:15,670] [OpenBox-SPO] Iteration 764, objective value: [32.09934105143412].\n"
     ]
    },
    {
     "name": "stderr",
     "output_type": "stream",
     "text": [
      "\r",
      " 76%|█████████████████████████████████████████████████████████▎                 | 764/1000 [9:31:28<2:40:40, 40.85s/it]"
     ]
    },
    {
     "name": "stdout",
     "output_type": "stream",
     "text": [
      "\t ----- reward: -32.09934105143412 for f_star and f_minus: 26.427785448359288 , 32.09934105143412\n",
      "\t ---------- State is:  (8, 12)\n",
      "[INFO] [2023-04-14 07:12:03,360] [OpenBox-SPO] Iteration 765, objective value: [28.678149194140516].\n"
     ]
    },
    {
     "name": "stderr",
     "output_type": "stream",
     "text": [
      "\r",
      " 76%|█████████████████████████████████████████████████████████▍                 | 765/1000 [9:32:16<2:48:01, 42.90s/it]"
     ]
    },
    {
     "name": "stdout",
     "output_type": "stream",
     "text": [
      "\t ----- reward: -28.678149194140516 for f_star and f_minus: 26.427785448359288 , 28.678149194140516\n",
      "\t ---------- State is:  (9, 12)\n",
      "[INFO] [2023-04-14 07:12:48,686] [OpenBox-SPO] Iteration 766, objective value: [35.95869113488277].\n"
     ]
    },
    {
     "name": "stderr",
     "output_type": "stream",
     "text": [
      "\r",
      " 77%|█████████████████████████████████████████████████████████▍                 | 766/1000 [9:33:01<2:50:08, 43.63s/it]"
     ]
    },
    {
     "name": "stdout",
     "output_type": "stream",
     "text": [
      "\t ----- reward: -35.95869113488277 for f_star and f_minus: 26.427785448359288 , 35.95869113488277\n",
      "\t ---------- State is:  (9, 12)\n",
      "[INFO] [2023-04-14 07:13:37,805] [OpenBox-SPO] Iteration 767, objective value: [29.12393948161538].\n"
     ]
    },
    {
     "name": "stderr",
     "output_type": "stream",
     "text": [
      "\r",
      " 77%|█████████████████████████████████████████████████████████▌                 | 767/1000 [9:33:50<2:55:49, 45.28s/it]"
     ]
    },
    {
     "name": "stdout",
     "output_type": "stream",
     "text": [
      "\t ----- reward: -29.12393948161538 for f_star and f_minus: 26.427785448359288 , 29.12393948161538\n",
      "\t ---------- State is:  (10, 12)\n",
      "[INFO] [2023-04-14 07:14:24,378] [OpenBox-SPO] Iteration 768, objective value: [35.87260169019599].\n"
     ]
    },
    {
     "name": "stderr",
     "output_type": "stream",
     "text": [
      "\r",
      " 77%|█████████████████████████████████████████████████████████▌                 | 768/1000 [9:34:37<2:56:34, 45.66s/it]"
     ]
    },
    {
     "name": "stdout",
     "output_type": "stream",
     "text": [
      "\t ----- reward: -35.87260169019599 for f_star and f_minus: 26.427785448359288 , 35.87260169019599\n",
      "\t ---------- State is:  (10, 12)\n",
      "[INFO] [2023-04-14 07:14:24,378] [Advisor] Sample random config. rand_prob=0.100000.\n",
      "[INFO] [2023-04-14 07:15:02,008] [OpenBox-SPO] Iteration 769, objective value: [39.32353325169133].\n"
     ]
    },
    {
     "name": "stderr",
     "output_type": "stream",
     "text": [
      "\r",
      " 77%|█████████████████████████████████████████████████████████▋                 | 769/1000 [9:35:14<2:46:32, 43.26s/it]"
     ]
    },
    {
     "name": "stdout",
     "output_type": "stream",
     "text": [
      "\t ----- reward: -39.32353325169133 for f_star and f_minus: 26.427785448359288 , 39.32353325169133\n",
      "\t ---------- State is:  (10, 12)\n",
      "[INFO] [2023-04-14 07:15:02,014] [Advisor] Sample random config. rand_prob=0.100000.\n",
      "[INFO] [2023-04-14 07:15:37,625] [OpenBox-SPO] Iteration 770, objective value: [51.17065206922714].\n"
     ]
    },
    {
     "name": "stderr",
     "output_type": "stream",
     "text": [
      "\r",
      " 77%|█████████████████████████████████████████████████████████▊                 | 770/1000 [9:35:50<2:37:01, 40.96s/it]"
     ]
    },
    {
     "name": "stdout",
     "output_type": "stream",
     "text": [
      "\t ----- reward: -51.17065206922714 for f_star and f_minus: 26.427785448359288 , 51.17065206922714\n",
      "\t ---------- State is:  (10, 13)\n",
      "[INFO] [2023-04-14 07:16:26,244] [OpenBox-SPO] Iteration 771, objective value: [34.22491185517573].\n"
     ]
    },
    {
     "name": "stderr",
     "output_type": "stream",
     "text": [
      "\r",
      " 77%|█████████████████████████████████████████████████████████▊                 | 771/1000 [9:36:39<2:45:06, 43.26s/it]"
     ]
    },
    {
     "name": "stdout",
     "output_type": "stream",
     "text": [
      "\t ----- reward: -34.22491185517573 for f_star and f_minus: 26.427785448359288 , 34.22491185517573\n",
      "\t ---------- State is:  (10, 12)\n",
      "[INFO] [2023-04-14 07:17:12,759] [OpenBox-SPO] Iteration 772, objective value: [25.81716827732457].\n"
     ]
    },
    {
     "name": "stderr",
     "output_type": "stream",
     "text": [
      "\r",
      " 77%|█████████████████████████████████████████████████████████▉                 | 772/1000 [9:37:25<2:48:05, 44.24s/it]"
     ]
    },
    {
     "name": "stdout",
     "output_type": "stream",
     "text": [
      "\t ----- reward: -25.81716827732457 for f_star and f_minus: 26.427785448359288 , 25.81716827732457\n",
      "\t ---------- State is:  (9, 11)\n",
      "[INFO] [2023-04-14 07:17:57,429] [OpenBox-SPO] Iteration 773, objective value: [39.68495313663672].\n"
     ]
    },
    {
     "name": "stderr",
     "output_type": "stream",
     "text": [
      "\r",
      " 77%|█████████████████████████████████████████████████████████▉                 | 773/1000 [9:38:10<2:47:51, 44.37s/it]"
     ]
    },
    {
     "name": "stdout",
     "output_type": "stream",
     "text": [
      "\t ----- reward: -39.68495313663672 for f_star and f_minus: 25.81716827732457 , 39.68495313663672\n",
      "\t ---------- State is:  (9, 12)\n",
      "[INFO] [2023-04-14 07:17:57,429] [Advisor] Sample random config. rand_prob=0.100000.\n",
      "[INFO] [2023-04-14 07:18:25,684] [OpenBox-SPO] Iteration 774, objective value: [58.865545464224546].\n"
     ]
    },
    {
     "name": "stderr",
     "output_type": "stream",
     "text": [
      "\r",
      " 77%|██████████████████████████████████████████████████████████                 | 774/1000 [9:38:38<2:28:54, 39.53s/it]"
     ]
    },
    {
     "name": "stdout",
     "output_type": "stream",
     "text": [
      "\t ----- reward: -58.865545464224546 for f_star and f_minus: 25.81716827732457 , 58.865545464224546\n",
      "\t ---------- State is:  (8, 12)\n",
      "[INFO] [2023-04-14 07:19:13,400] [OpenBox-SPO] Iteration 775, objective value: [34.42582840393385].\n"
     ]
    },
    {
     "name": "stderr",
     "output_type": "stream",
     "text": [
      "\r",
      " 78%|██████████████████████████████████████████████████████████▏                | 775/1000 [9:39:26<2:37:27, 41.99s/it]"
     ]
    },
    {
     "name": "stdout",
     "output_type": "stream",
     "text": [
      "\t ----- reward: -34.42582840393385 for f_star and f_minus: 25.81716827732457 , 34.42582840393385\n",
      "\t ---------- State is:  (8, 11)\n",
      "[INFO] [2023-04-14 07:19:58,330] [OpenBox-SPO] Iteration 776, objective value: [35.954960362123344].\n"
     ]
    },
    {
     "name": "stderr",
     "output_type": "stream",
     "text": [
      "\r",
      " 78%|██████████████████████████████████████████████████████████▏                | 776/1000 [9:40:11<2:40:03, 42.87s/it]"
     ]
    },
    {
     "name": "stdout",
     "output_type": "stream",
     "text": [
      "\t ----- reward: -35.954960362123344 for f_star and f_minus: 25.81716827732457 , 35.954960362123344\n",
      "\t ---------- State is:  (8, 11)\n",
      "[INFO] [2023-04-14 07:20:51,615] [OpenBox-SPO] Iteration 777, objective value: [40.33726258135658].\n"
     ]
    },
    {
     "name": "stderr",
     "output_type": "stream",
     "text": [
      "\r",
      " 78%|██████████████████████████████████████████████████████████▎                | 777/1000 [9:41:04<2:50:56, 45.99s/it]"
     ]
    },
    {
     "name": "stdout",
     "output_type": "stream",
     "text": [
      "\t ----- reward: -40.33726258135658 for f_star and f_minus: 25.81716827732457 , 40.33726258135658\n",
      "\t ---------- State is:  (7, 12)\n",
      "[INFO] [2023-04-14 07:21:42,925] [OpenBox-SPO] Iteration 778, objective value: [32.3614923357524].\n"
     ]
    },
    {
     "name": "stderr",
     "output_type": "stream",
     "text": [
      "\r",
      " 78%|██████████████████████████████████████████████████████████▎                | 778/1000 [9:41:55<2:56:04, 47.59s/it]"
     ]
    },
    {
     "name": "stdout",
     "output_type": "stream",
     "text": [
      "\t ----- reward: -32.3614923357524 for f_star and f_minus: 25.81716827732457 , 32.3614923357524\n",
      "\t ---------- State is:  (6, 11)\n",
      "[INFO] [2023-04-14 07:22:26,547] [OpenBox-SPO] Iteration 779, objective value: [36.368520921168646].\n"
     ]
    },
    {
     "name": "stderr",
     "output_type": "stream",
     "text": [
      "\r",
      " 78%|██████████████████████████████████████████████████████████▍                | 779/1000 [9:42:39<2:50:54, 46.40s/it]"
     ]
    },
    {
     "name": "stdout",
     "output_type": "stream",
     "text": [
      "\t ----- reward: -36.368520921168646 for f_star and f_minus: 25.81716827732457 , 36.368520921168646\n",
      "\t ---------- State is:  (6, 11)\n",
      "[INFO] [2023-04-14 07:23:19,575] [OpenBox-SPO] Iteration 780, objective value: [44.45832328842532].\n"
     ]
    },
    {
     "name": "stderr",
     "output_type": "stream",
     "text": [
      "\r",
      " 78%|██████████████████████████████████████████████████████████▌                | 780/1000 [9:43:32<2:57:25, 48.39s/it]"
     ]
    },
    {
     "name": "stdout",
     "output_type": "stream",
     "text": [
      "\t ----- reward: -44.45832328842532 for f_star and f_minus: 25.81716827732457 , 44.45832328842532\n",
      "\t ---------- State is:  (7, 11)\n",
      "[INFO] [2023-04-14 07:23:19,575] [Advisor] Sample random config. rand_prob=0.100000.\n",
      "[INFO] [2023-04-14 07:23:46,704] [OpenBox-SPO] Iteration 781, objective value: [55.52162126350203].\n"
     ]
    },
    {
     "name": "stderr",
     "output_type": "stream",
     "text": [
      "\r",
      " 78%|██████████████████████████████████████████████████████████▌                | 781/1000 [9:43:59<2:33:20, 42.01s/it]"
     ]
    },
    {
     "name": "stdout",
     "output_type": "stream",
     "text": [
      "\t ----- reward: -55.52162126350203 for f_star and f_minus: 25.81716827732457 , 55.52162126350203\n",
      "\t ---------- State is:  (7, 12)\n",
      "[INFO] [2023-04-14 07:24:31,794] [OpenBox-SPO] Iteration 782, objective value: [38.25542672483453].\n"
     ]
    },
    {
     "name": "stderr",
     "output_type": "stream",
     "text": [
      "\r",
      " 78%|██████████████████████████████████████████████████████████▋                | 782/1000 [9:44:44<2:35:59, 42.93s/it]"
     ]
    },
    {
     "name": "stdout",
     "output_type": "stream",
     "text": [
      "\t ----- reward: -38.25542672483453 for f_star and f_minus: 25.81716827732457 , 38.25542672483453\n",
      "\t ---------- State is:  (6, 13)\n",
      "[INFO] [2023-04-14 07:25:18,714] [OpenBox-SPO] Iteration 783, objective value: [45.17498846415163].\n"
     ]
    },
    {
     "name": "stderr",
     "output_type": "stream",
     "text": [
      "\r",
      " 78%|██████████████████████████████████████████████████████████▋                | 783/1000 [9:45:31<2:39:36, 44.13s/it]"
     ]
    },
    {
     "name": "stdout",
     "output_type": "stream",
     "text": [
      "\t ----- reward: -45.17498846415163 for f_star and f_minus: 25.81716827732457 , 45.17498846415163\n",
      "\t ---------- State is:  (6, 13)\n",
      "[INFO] [2023-04-14 07:26:05,709] [OpenBox-SPO] Iteration 784, objective value: [34.13055734361048].\n"
     ]
    },
    {
     "name": "stderr",
     "output_type": "stream",
     "text": [
      "\r",
      " 78%|██████████████████████████████████████████████████████████▊                | 784/1000 [9:46:18<2:41:57, 44.99s/it]"
     ]
    },
    {
     "name": "stdout",
     "output_type": "stream",
     "text": [
      "\t ----- reward: -34.13055734361048 for f_star and f_minus: 25.81716827732457 , 34.13055734361048\n",
      "\t ---------- State is:  (7, 12)\n",
      "[INFO] [2023-04-14 07:26:49,762] [OpenBox-SPO] Iteration 785, objective value: [28.63217597840861].\n"
     ]
    },
    {
     "name": "stderr",
     "output_type": "stream",
     "text": [
      "\r",
      " 78%|██████████████████████████████████████████████████████████▉                | 785/1000 [9:47:02<2:40:12, 44.71s/it]"
     ]
    },
    {
     "name": "stdout",
     "output_type": "stream",
     "text": [
      "\t ----- reward: -28.63217597840861 for f_star and f_minus: 25.81716827732457 , 28.63217597840861\n",
      "\t ---------- State is:  (8, 12)\n",
      "[INFO] [2023-04-14 07:27:32,356] [OpenBox-SPO] Iteration 786, objective value: [33.44922652068911].\n"
     ]
    },
    {
     "name": "stderr",
     "output_type": "stream",
     "text": [
      "\r",
      " 79%|██████████████████████████████████████████████████████████▉                | 786/1000 [9:47:45<2:37:11, 44.07s/it]"
     ]
    },
    {
     "name": "stdout",
     "output_type": "stream",
     "text": [
      "\t ----- reward: -33.44922652068911 for f_star and f_minus: 25.81716827732457 , 33.44922652068911\n",
      "\t ---------- State is:  (9, 12)\n",
      "[INFO] [2023-04-14 07:28:21,249] [OpenBox-SPO] Iteration 787, objective value: [29.09623846826483].\n"
     ]
    },
    {
     "name": "stderr",
     "output_type": "stream",
     "text": [
      "\r",
      " 79%|███████████████████████████████████████████████████████████                | 787/1000 [9:48:34<2:41:35, 45.52s/it]"
     ]
    },
    {
     "name": "stdout",
     "output_type": "stream",
     "text": [
      "\t ----- reward: -29.09623846826483 for f_star and f_minus: 25.81716827732457 , 29.09623846826483\n",
      "\t ---------- State is:  (9, 12)\n",
      "[INFO] [2023-04-14 07:28:21,249] [Advisor] Sample random config. rand_prob=0.100000.\n",
      "[INFO] [2023-04-14 07:28:47,369] [OpenBox-SPO] Iteration 788, objective value: [65.74570860713554].\n"
     ]
    },
    {
     "name": "stderr",
     "output_type": "stream",
     "text": [
      "\r",
      " 79%|███████████████████████████████████████████████████████████                | 788/1000 [9:49:00<2:20:16, 39.70s/it]"
     ]
    },
    {
     "name": "stdout",
     "output_type": "stream",
     "text": [
      "\t ----- reward: -65.74570860713554 for f_star and f_minus: 25.81716827732457 , 65.74570860713554\n",
      "\t ---------- State is:  (10, 13)\n",
      "[INFO] [2023-04-14 07:29:33,838] [OpenBox-SPO] Iteration 789, objective value: [35.56482395192005].\n"
     ]
    },
    {
     "name": "stderr",
     "output_type": "stream",
     "text": [
      "\r",
      " 79%|███████████████████████████████████████████████████████████▏               | 789/1000 [9:49:46<2:26:45, 41.73s/it]"
     ]
    },
    {
     "name": "stdout",
     "output_type": "stream",
     "text": [
      "\t ----- reward: -35.56482395192005 for f_star and f_minus: 25.81716827732457 , 35.56482395192005\n",
      "\t ---------- State is:  (10, 13)\n",
      "[INFO] [2023-04-14 07:30:20,067] [OpenBox-SPO] Iteration 790, objective value: [41.75168556047832].\n"
     ]
    },
    {
     "name": "stderr",
     "output_type": "stream",
     "text": [
      "\r",
      " 79%|███████████████████████████████████████████████████████████▎               | 790/1000 [9:50:32<2:30:46, 43.08s/it]"
     ]
    },
    {
     "name": "stdout",
     "output_type": "stream",
     "text": [
      "\t ----- reward: -41.75168556047832 for f_star and f_minus: 25.81716827732457 , 41.75168556047832\n",
      "\t ---------- State is:  (9, 13)\n",
      "[INFO] [2023-04-14 07:31:08,835] [OpenBox-SPO] Iteration 791, objective value: [40.3132722650083].\n"
     ]
    },
    {
     "name": "stderr",
     "output_type": "stream",
     "text": [
      "\r",
      " 79%|███████████████████████████████████████████████████████████▎               | 791/1000 [9:51:21<2:36:00, 44.79s/it]"
     ]
    },
    {
     "name": "stdout",
     "output_type": "stream",
     "text": [
      "\t ----- reward: -40.3132722650083 for f_star and f_minus: 25.81716827732457 , 40.3132722650083\n",
      "\t ---------- State is:  (10, 13)\n",
      "[INFO] [2023-04-14 07:31:55,511] [OpenBox-SPO] Iteration 792, objective value: [35.7145694276429].\n"
     ]
    },
    {
     "name": "stderr",
     "output_type": "stream",
     "text": [
      "\r",
      " 79%|███████████████████████████████████████████████████████████▍               | 792/1000 [9:52:08<2:37:13, 45.35s/it]"
     ]
    },
    {
     "name": "stdout",
     "output_type": "stream",
     "text": [
      "\t ----- reward: -35.7145694276429 for f_star and f_minus: 25.81716827732457 , 35.7145694276429\n",
      "\t ---------- State is:  (10, 12)\n",
      "[INFO] [2023-04-14 07:32:42,232] [OpenBox-SPO] Iteration 793, objective value: [31.744892855423174].\n"
     ]
    },
    {
     "name": "stderr",
     "output_type": "stream",
     "text": [
      "\r",
      " 79%|███████████████████████████████████████████████████████████▍               | 793/1000 [9:52:55<2:37:53, 45.76s/it]"
     ]
    },
    {
     "name": "stdout",
     "output_type": "stream",
     "text": [
      "\t ----- reward: -31.744892855423174 for f_star and f_minus: 25.81716827732457 , 31.744892855423174\n",
      "\t ---------- State is:  (10, 12)\n",
      "[INFO] [2023-04-14 07:33:27,948] [OpenBox-SPO] Iteration 794, objective value: [27.680143147517327].\n"
     ]
    },
    {
     "name": "stderr",
     "output_type": "stream",
     "text": [
      "\r",
      " 79%|███████████████████████████████████████████████████████████▌               | 794/1000 [9:53:40<2:37:04, 45.75s/it]"
     ]
    },
    {
     "name": "stdout",
     "output_type": "stream",
     "text": [
      "\t ----- reward: -27.680143147517327 for f_star and f_minus: 25.81716827732457 , 27.680143147517327\n",
      "\t ---------- State is:  (9, 12)\n",
      "[INFO] [2023-04-14 07:34:16,817] [OpenBox-SPO] Iteration 795, objective value: [34.84811636072472].\n"
     ]
    },
    {
     "name": "stderr",
     "output_type": "stream",
     "text": [
      "\r",
      " 80%|███████████████████████████████████████████████████████████▋               | 795/1000 [9:54:29<2:39:30, 46.69s/it]"
     ]
    },
    {
     "name": "stdout",
     "output_type": "stream",
     "text": [
      "\t ----- reward: -34.84811636072472 for f_star and f_minus: 25.81716827732457 , 34.84811636072472\n",
      "\t ---------- State is:  (9, 12)\n",
      "[INFO] [2023-04-14 07:35:04,873] [OpenBox-SPO] Iteration 796, objective value: [31.545206114932014].\n"
     ]
    },
    {
     "name": "stderr",
     "output_type": "stream",
     "text": [
      "\r",
      " 80%|███████████████████████████████████████████████████████████▋               | 796/1000 [9:55:17<2:40:07, 47.10s/it]"
     ]
    },
    {
     "name": "stdout",
     "output_type": "stream",
     "text": [
      "\t ----- reward: -31.545206114932014 for f_star and f_minus: 25.81716827732457 , 31.545206114932014\n",
      "\t ---------- State is:  (9, 12)\n",
      "[INFO] [2023-04-14 07:35:49,173] [OpenBox-SPO] Iteration 797, objective value: [30.34750598760685].\n"
     ]
    },
    {
     "name": "stderr",
     "output_type": "stream",
     "text": [
      "\r",
      " 80%|███████████████████████████████████████████████████████████▊               | 797/1000 [9:56:02<2:36:30, 46.26s/it]"
     ]
    },
    {
     "name": "stdout",
     "output_type": "stream",
     "text": [
      "\t ----- reward: -30.34750598760685 for f_star and f_minus: 25.81716827732457 , 30.34750598760685\n",
      "\t ---------- State is:  (8, 12)\n",
      "[INFO] [2023-04-14 07:36:36,035] [OpenBox-SPO] Iteration 798, objective value: [29.858799447950332].\n"
     ]
    },
    {
     "name": "stderr",
     "output_type": "stream",
     "text": [
      "\r",
      " 80%|███████████████████████████████████████████████████████████▊               | 798/1000 [9:56:48<2:36:20, 46.44s/it]"
     ]
    },
    {
     "name": "stdout",
     "output_type": "stream",
     "text": [
      "\t ----- reward: -29.858799447950332 for f_star and f_minus: 25.81716827732457 , 29.858799447950332\n",
      "\t ---------- State is:  (7, 12)\n",
      "[INFO] [2023-04-14 07:37:21,058] [OpenBox-SPO] Iteration 799, objective value: [36.85281076215927].\n"
     ]
    },
    {
     "name": "stderr",
     "output_type": "stream",
     "text": [
      "\r",
      " 80%|███████████████████████████████████████████████████████████▉               | 799/1000 [9:57:33<2:34:08, 46.01s/it]"
     ]
    },
    {
     "name": "stdout",
     "output_type": "stream",
     "text": [
      "\t ----- reward: -36.85281076215927 for f_star and f_minus: 25.81716827732457 , 36.85281076215927\n",
      "\t ---------- State is:  (7, 12)\n",
      "[INFO] [2023-04-14 07:38:06,209] [OpenBox-SPO] Iteration 800, objective value: [35.28229952438073].\n"
     ]
    },
    {
     "name": "stderr",
     "output_type": "stream",
     "text": [
      "\r",
      " 80%|████████████████████████████████████████████████████████████               | 800/1000 [9:58:19<2:32:31, 45.76s/it]"
     ]
    },
    {
     "name": "stdout",
     "output_type": "stream",
     "text": [
      "\t ----- reward: -35.28229952438073 for f_star and f_minus: 25.81716827732457 , 35.28229952438073\n",
      "\t ---------- State is:  (8, 11)\n",
      "[INFO] [2023-04-14 07:38:50,650] [OpenBox-SPO] Iteration 801, objective value: [32.64473930672435].\n"
     ]
    },
    {
     "name": "stderr",
     "output_type": "stream",
     "text": [
      "\r",
      " 80%|████████████████████████████████████████████████████████████               | 801/1000 [9:59:03<2:30:26, 45.36s/it]"
     ]
    },
    {
     "name": "stdout",
     "output_type": "stream",
     "text": [
      "\t ----- reward: -32.64473930672435 for f_star and f_minus: 25.81716827732457 , 32.64473930672435\n",
      "\t ---------- State is:  (9, 11)\n",
      "[INFO] [2023-04-14 07:39:34,955] [OpenBox-SPO] Iteration 802, objective value: [26.2924772042808].\n"
     ]
    },
    {
     "name": "stderr",
     "output_type": "stream",
     "text": [
      "\r",
      " 80%|████████████████████████████████████████████████████████████▏              | 802/1000 [9:59:47<2:28:38, 45.04s/it]"
     ]
    },
    {
     "name": "stdout",
     "output_type": "stream",
     "text": [
      "\t ----- reward: -26.2924772042808 for f_star and f_minus: 25.81716827732457 , 26.2924772042808\n",
      "\t ---------- State is:  (8, 11)\n",
      "[INFO] [2023-04-14 07:40:22,247] [OpenBox-SPO] Iteration 803, objective value: [30.383348552280893].\n"
     ]
    },
    {
     "name": "stderr",
     "output_type": "stream",
     "text": [
      "\r",
      " 80%|███████████████████████████████████████████████████████████▍              | 803/1000 [10:00:35<2:30:06, 45.72s/it]"
     ]
    },
    {
     "name": "stdout",
     "output_type": "stream",
     "text": [
      "\t ----- reward: -30.383348552280893 for f_star and f_minus: 25.81716827732457 , 30.383348552280893\n",
      "\t ---------- State is:  (8, 11)\n",
      "[INFO] [2023-04-14 07:41:11,068] [OpenBox-SPO] Iteration 804, objective value: [33.36627138324107].\n"
     ]
    },
    {
     "name": "stderr",
     "output_type": "stream",
     "text": [
      "\r",
      " 80%|███████████████████████████████████████████████████████████▍              | 804/1000 [10:01:23<2:32:23, 46.65s/it]"
     ]
    },
    {
     "name": "stdout",
     "output_type": "stream",
     "text": [
      "\t ----- reward: -33.36627138324107 for f_star and f_minus: 25.81716827732457 , 33.36627138324107\n",
      "\t ---------- State is:  (7, 10)\n",
      "[INFO] [2023-04-14 07:41:53,340] [OpenBox-SPO] Iteration 805, objective value: [34.133574826935146].\n"
     ]
    },
    {
     "name": "stderr",
     "output_type": "stream",
     "text": [
      "\r",
      " 80%|███████████████████████████████████████████████████████████▌              | 805/1000 [10:02:06<2:27:20, 45.34s/it]"
     ]
    },
    {
     "name": "stdout",
     "output_type": "stream",
     "text": [
      "\t ----- reward: -34.133574826935146 for f_star and f_minus: 25.81716827732457 , 34.133574826935146\n",
      "\t ---------- State is:  (7, 10)\n",
      "[INFO] [2023-04-14 07:42:38,177] [OpenBox-SPO] Iteration 806, objective value: [27.94718863222684].\n"
     ]
    },
    {
     "name": "stderr",
     "output_type": "stream",
     "text": [
      "\r",
      " 81%|███████████████████████████████████████████████████████████▋              | 806/1000 [10:02:51<2:26:06, 45.19s/it]"
     ]
    },
    {
     "name": "stdout",
     "output_type": "stream",
     "text": [
      "\t ----- reward: -27.94718863222684 for f_star and f_minus: 25.81716827732457 , 27.94718863222684\n",
      "\t ---------- State is:  (6, 10)\n",
      "[INFO] [2023-04-14 07:43:21,477] [OpenBox-SPO] Iteration 807, objective value: [30.263564502232867].\n"
     ]
    },
    {
     "name": "stderr",
     "output_type": "stream",
     "text": [
      "\r",
      " 81%|███████████████████████████████████████████████████████████▋              | 807/1000 [10:03:34<2:23:31, 44.62s/it]"
     ]
    },
    {
     "name": "stdout",
     "output_type": "stream",
     "text": [
      "\t ----- reward: -30.263564502232867 for f_star and f_minus: 25.81716827732457 , 30.263564502232867\n",
      "\t ---------- State is:  (6, 9)\n",
      "[INFO] [2023-04-14 07:44:08,031] [OpenBox-SPO] Iteration 808, objective value: [32.429784623367425].\n"
     ]
    },
    {
     "name": "stderr",
     "output_type": "stream",
     "text": [
      "\r",
      " 81%|███████████████████████████████████████████████████████████▊              | 808/1000 [10:04:20<2:24:38, 45.20s/it]"
     ]
    },
    {
     "name": "stdout",
     "output_type": "stream",
     "text": [
      "\t ----- reward: -32.429784623367425 for f_star and f_minus: 25.81716827732457 , 32.429784623367425\n",
      "\t ---------- State is:  (6, 9)\n",
      "[INFO] [2023-04-14 07:44:55,192] [OpenBox-SPO] Iteration 809, objective value: [28.028719420554154].\n"
     ]
    },
    {
     "name": "stderr",
     "output_type": "stream",
     "text": [
      "\r",
      " 81%|███████████████████████████████████████████████████████████▊              | 809/1000 [10:05:08<2:25:45, 45.79s/it]"
     ]
    },
    {
     "name": "stdout",
     "output_type": "stream",
     "text": [
      "\t ----- reward: -28.028719420554154 for f_star and f_minus: 25.81716827732457 , 28.028719420554154\n",
      "\t ---------- State is:  (5, 9)\n",
      "[INFO] [2023-04-14 07:45:38,040] [OpenBox-SPO] Iteration 810, objective value: [36.3148893753778].\n"
     ]
    },
    {
     "name": "stderr",
     "output_type": "stream",
     "text": [
      "\r",
      " 81%|███████████████████████████████████████████████████████████▉              | 810/1000 [10:05:50<2:22:12, 44.91s/it]"
     ]
    },
    {
     "name": "stdout",
     "output_type": "stream",
     "text": [
      "\t ----- reward: -36.3148893753778 for f_star and f_minus: 25.81716827732457 , 36.3148893753778\n",
      "\t ---------- State is:  (4, 9)\n",
      "[INFO] [2023-04-14 07:46:20,961] [OpenBox-SPO] Iteration 811, objective value: [30.61393046740986].\n"
     ]
    },
    {
     "name": "stderr",
     "output_type": "stream",
     "text": [
      "\r",
      " 81%|████████████████████████████████████████████████████████████              | 811/1000 [10:06:33<2:19:34, 44.31s/it]"
     ]
    },
    {
     "name": "stdout",
     "output_type": "stream",
     "text": [
      "\t ----- reward: -30.61393046740986 for f_star and f_minus: 25.81716827732457 , 30.61393046740986\n",
      "\t ---------- State is:  (3, 8)\n",
      "[INFO] [2023-04-14 07:47:11,038] [OpenBox-SPO] Iteration 812, objective value: [27.950369126120677].\n"
     ]
    },
    {
     "name": "stderr",
     "output_type": "stream",
     "text": [
      "\r",
      " 81%|████████████████████████████████████████████████████████████              | 812/1000 [10:07:23<2:24:15, 46.04s/it]"
     ]
    },
    {
     "name": "stdout",
     "output_type": "stream",
     "text": [
      "\t ----- reward: -27.950369126120677 for f_star and f_minus: 25.81716827732457 , 27.950369126120677\n",
      "\t ---------- State is:  (4, 8)\n",
      "[INFO] [2023-04-14 07:47:54,249] [OpenBox-SPO] Iteration 813, objective value: [45.654666637928855].\n"
     ]
    },
    {
     "name": "stderr",
     "output_type": "stream",
     "text": [
      "\r",
      " 81%|████████████████████████████████████████████████████████████▏             | 813/1000 [10:08:07<2:20:50, 45.19s/it]"
     ]
    },
    {
     "name": "stdout",
     "output_type": "stream",
     "text": [
      "\t ----- reward: -45.654666637928855 for f_star and f_minus: 25.81716827732457 , 45.654666637928855\n",
      "\t ---------- State is:  (5, 8)\n",
      "[INFO] [2023-04-14 07:48:47,871] [OpenBox-SPO] Iteration 814, objective value: [31.705316937524188].\n"
     ]
    },
    {
     "name": "stderr",
     "output_type": "stream",
     "text": [
      "\r",
      " 81%|████████████████████████████████████████████████████████████▏             | 814/1000 [10:09:00<2:27:56, 47.72s/it]"
     ]
    },
    {
     "name": "stdout",
     "output_type": "stream",
     "text": [
      "\t ----- reward: -31.705316937524188 for f_star and f_minus: 25.81716827732457 , 31.705316937524188\n",
      "\t ---------- State is:  (5, 8)\n",
      "[INFO] [2023-04-14 07:49:28,647] [OpenBox-SPO] Iteration 815, objective value: [48.04035171904807].\n"
     ]
    },
    {
     "name": "stderr",
     "output_type": "stream",
     "text": [
      "\r",
      " 82%|████████████████████████████████████████████████████████████▎             | 815/1000 [10:09:41<2:20:42, 45.64s/it]"
     ]
    },
    {
     "name": "stdout",
     "output_type": "stream",
     "text": [
      "\t ----- reward: -48.04035171904807 for f_star and f_minus: 25.81716827732457 , 48.04035171904807\n",
      "\t ---------- State is:  (4, 8)\n",
      "[INFO] [2023-04-14 07:50:14,767] [OpenBox-SPO] Iteration 816, objective value: [42.29898674759458].\n"
     ]
    },
    {
     "name": "stderr",
     "output_type": "stream",
     "text": [
      "\r",
      " 82%|████████████████████████████████████████████████████████████▍             | 816/1000 [10:10:27<2:20:23, 45.78s/it]"
     ]
    },
    {
     "name": "stdout",
     "output_type": "stream",
     "text": [
      "\t ----- reward: -42.29898674759458 for f_star and f_minus: 25.81716827732457 , 42.29898674759458\n",
      "\t ---------- State is:  (3, 8)\n",
      "[INFO] [2023-04-14 07:50:56,310] [OpenBox-SPO] Iteration 817, objective value: [32.706678982538875].\n"
     ]
    },
    {
     "name": "stderr",
     "output_type": "stream",
     "text": [
      "\r",
      " 82%|████████████████████████████████████████████████████████████▍             | 817/1000 [10:11:09<2:15:45, 44.51s/it]"
     ]
    },
    {
     "name": "stdout",
     "output_type": "stream",
     "text": [
      "\t ----- reward: -32.706678982538875 for f_star and f_minus: 25.81716827732457 , 32.706678982538875\n",
      "\t ---------- State is:  (4, 9)\n",
      "[INFO] [2023-04-14 07:51:41,364] [OpenBox-SPO] Iteration 818, objective value: [33.20173216426633].\n"
     ]
    },
    {
     "name": "stderr",
     "output_type": "stream",
     "text": [
      "\r",
      " 82%|████████████████████████████████████████████████████████████▌             | 818/1000 [10:11:54<2:15:30, 44.67s/it]"
     ]
    },
    {
     "name": "stdout",
     "output_type": "stream",
     "text": [
      "\t ----- reward: -33.20173216426633 for f_star and f_minus: 25.81716827732457 , 33.20173216426633\n",
      "\t ---------- State is:  (5, 8)\n",
      "[INFO] [2023-04-14 07:52:28,895] [OpenBox-SPO] Iteration 819, objective value: [36.87135089697174].\n"
     ]
    },
    {
     "name": "stderr",
     "output_type": "stream",
     "text": [
      "\r",
      " 82%|████████████████████████████████████████████████████████████▌             | 819/1000 [10:12:41<2:17:21, 45.53s/it]"
     ]
    },
    {
     "name": "stdout",
     "output_type": "stream",
     "text": [
      "\t ----- reward: -36.87135089697174 for f_star and f_minus: 25.81716827732457 , 36.87135089697174\n",
      "\t ---------- State is:  (5, 8)\n",
      "[INFO] [2023-04-14 07:53:20,464] [OpenBox-SPO] Iteration 820, objective value: [38.578644653183815].\n"
     ]
    },
    {
     "name": "stderr",
     "output_type": "stream",
     "text": [
      "\r",
      " 82%|████████████████████████████████████████████████████████████▋             | 820/1000 [10:13:33<2:22:01, 47.34s/it]"
     ]
    },
    {
     "name": "stdout",
     "output_type": "stream",
     "text": [
      "\t ----- reward: -38.578644653183815 for f_star and f_minus: 25.81716827732457 , 38.578644653183815\n",
      "\t ---------- State is:  (5, 7)\n",
      "[INFO] [2023-04-14 07:54:06,481] [OpenBox-SPO] Iteration 821, objective value: [35.52926418455719].\n"
     ]
    },
    {
     "name": "stderr",
     "output_type": "stream",
     "text": [
      "\r",
      " 82%|████████████████████████████████████████████████████████████▊             | 821/1000 [10:14:19<2:20:03, 46.94s/it]"
     ]
    },
    {
     "name": "stdout",
     "output_type": "stream",
     "text": [
      "\t ----- reward: -35.52926418455719 for f_star and f_minus: 25.81716827732457 , 35.52926418455719\n",
      "\t ---------- State is:  (6, 7)\n",
      "[INFO] [2023-04-14 07:54:56,165] [OpenBox-SPO] Iteration 822, objective value: [40.60324583017443].\n"
     ]
    },
    {
     "name": "stderr",
     "output_type": "stream",
     "text": [
      "\r",
      " 82%|████████████████████████████████████████████████████████████▊             | 822/1000 [10:15:08<2:21:42, 47.77s/it]"
     ]
    },
    {
     "name": "stdout",
     "output_type": "stream",
     "text": [
      "\t ----- reward: -40.60324583017443 for f_star and f_minus: 25.81716827732457 , 40.60324583017443\n",
      "\t ---------- State is:  (7, 7)\n",
      "[INFO] [2023-04-14 07:55:43,707] [OpenBox-SPO] Iteration 823, objective value: [37.0852798800138].\n"
     ]
    },
    {
     "name": "stderr",
     "output_type": "stream",
     "text": [
      "\r",
      " 82%|████████████████████████████████████████████████████████████▉             | 823/1000 [10:15:56<2:20:42, 47.70s/it]"
     ]
    },
    {
     "name": "stdout",
     "output_type": "stream",
     "text": [
      "\t ----- reward: -37.0852798800138 for f_star and f_minus: 25.81716827732457 , 37.0852798800138\n",
      "\t ---------- State is:  (7, 8)\n",
      "[INFO] [2023-04-14 07:56:27,369] [OpenBox-SPO] Iteration 824, objective value: [32.82005523380272].\n"
     ]
    },
    {
     "name": "stderr",
     "output_type": "stream",
     "text": [
      "\r",
      " 82%|████████████████████████████████████████████████████████████▉             | 824/1000 [10:16:40<2:16:21, 46.49s/it]"
     ]
    },
    {
     "name": "stdout",
     "output_type": "stream",
     "text": [
      "\t ----- reward: -32.82005523380272 for f_star and f_minus: 25.81716827732457 , 32.82005523380272\n",
      "\t ---------- State is:  (8, 8)\n",
      "[INFO] [2023-04-14 07:57:13,493] [OpenBox-SPO] Iteration 825, objective value: [28.806038743094547].\n"
     ]
    },
    {
     "name": "stderr",
     "output_type": "stream",
     "text": [
      "\r",
      " 82%|█████████████████████████████████████████████████████████████             | 825/1000 [10:17:26<2:15:16, 46.38s/it]"
     ]
    },
    {
     "name": "stdout",
     "output_type": "stream",
     "text": [
      "\t ----- reward: -28.806038743094547 for f_star and f_minus: 25.81716827732457 , 28.806038743094547\n",
      "\t ---------- State is:  (9, 8)\n",
      "[INFO] [2023-04-14 07:57:59,378] [OpenBox-SPO] Iteration 826, objective value: [34.37329792097775].\n"
     ]
    },
    {
     "name": "stderr",
     "output_type": "stream",
     "text": [
      "\r",
      " 83%|█████████████████████████████████████████████████████████████             | 826/1000 [10:18:12<2:14:04, 46.23s/it]"
     ]
    },
    {
     "name": "stdout",
     "output_type": "stream",
     "text": [
      "\t ----- reward: -34.37329792097775 for f_star and f_minus: 25.81716827732457 , 34.37329792097775\n",
      "\t ---------- State is:  (9, 8)\n",
      "[INFO] [2023-04-14 07:58:45,785] [OpenBox-SPO] Iteration 827, objective value: [32.81334903617534].\n"
     ]
    },
    {
     "name": "stderr",
     "output_type": "stream",
     "text": [
      "\r",
      " 83%|█████████████████████████████████████████████████████████████▏            | 827/1000 [10:18:58<2:13:27, 46.29s/it]"
     ]
    },
    {
     "name": "stdout",
     "output_type": "stream",
     "text": [
      "\t ----- reward: -32.81334903617534 for f_star and f_minus: 25.81716827732457 , 32.81334903617534\n",
      "\t ---------- State is:  (9, 8)\n",
      "[INFO] [2023-04-14 07:59:31,355] [OpenBox-SPO] Iteration 828, objective value: [34.516347347906986].\n"
     ]
    },
    {
     "name": "stderr",
     "output_type": "stream",
     "text": [
      "\r",
      " 83%|█████████████████████████████████████████████████████████████▎            | 828/1000 [10:19:44<2:12:03, 46.07s/it]"
     ]
    },
    {
     "name": "stdout",
     "output_type": "stream",
     "text": [
      "\t ----- reward: -34.516347347906986 for f_star and f_minus: 25.81716827732457 , 34.516347347906986\n",
      "\t ---------- State is:  (8, 8)\n",
      "[INFO] [2023-04-14 08:00:21,359] [OpenBox-SPO] Iteration 829, objective value: [37.35126819079139].\n"
     ]
    },
    {
     "name": "stderr",
     "output_type": "stream",
     "text": [
      "\r",
      " 83%|█████████████████████████████████████████████████████████████▎            | 829/1000 [10:20:34<2:14:39, 47.25s/it]"
     ]
    },
    {
     "name": "stdout",
     "output_type": "stream",
     "text": [
      "\t ----- reward: -37.35126819079139 for f_star and f_minus: 25.81716827732457 , 37.35126819079139\n",
      "\t ---------- State is:  (7, 8)\n",
      "[INFO] [2023-04-14 08:00:21,359] [Advisor] Sample random config. rand_prob=0.100000.\n",
      "[INFO] [2023-04-14 08:00:51,714] [OpenBox-SPO] Iteration 830, objective value: [69.80791022265383].\n"
     ]
    },
    {
     "name": "stderr",
     "output_type": "stream",
     "text": [
      "\r",
      " 83%|█████████████████████████████████████████████████████████████▍            | 830/1000 [10:21:04<1:59:30, 42.18s/it]"
     ]
    },
    {
     "name": "stdout",
     "output_type": "stream",
     "text": [
      "\t ----- reward: -69.80791022265383 for f_star and f_minus: 25.81716827732457 , 69.80791022265383\n",
      "\t ---------- State is:  (6, 9)\n",
      "[INFO] [2023-04-14 08:01:31,877] [OpenBox-SPO] Iteration 831, objective value: [46.09188445401403].\n"
     ]
    },
    {
     "name": "stderr",
     "output_type": "stream",
     "text": [
      "\r",
      " 83%|█████████████████████████████████████████████████████████████▍            | 831/1000 [10:21:44<1:57:06, 41.58s/it]"
     ]
    },
    {
     "name": "stdout",
     "output_type": "stream",
     "text": [
      "\t ----- reward: -46.09188445401403 for f_star and f_minus: 25.81716827732457 , 46.09188445401403\n",
      "\t ---------- State is:  (7, 10)\n",
      "[INFO] [2023-04-14 08:02:19,057] [OpenBox-SPO] Iteration 832, objective value: [32.250665711061075].\n"
     ]
    },
    {
     "name": "stderr",
     "output_type": "stream",
     "text": [
      "\r",
      " 83%|█████████████████████████████████████████████████████████████▌            | 832/1000 [10:22:31<2:01:07, 43.26s/it]"
     ]
    },
    {
     "name": "stdout",
     "output_type": "stream",
     "text": [
      "\t ----- reward: -32.250665711061075 for f_star and f_minus: 25.81716827732457 , 32.250665711061075\n",
      "\t ---------- State is:  (6, 10)\n",
      "[INFO] [2023-04-14 08:03:05,292] [OpenBox-SPO] Iteration 833, objective value: [33.95674363274996].\n"
     ]
    },
    {
     "name": "stderr",
     "output_type": "stream",
     "text": [
      "\r",
      " 83%|█████████████████████████████████████████████████████████████▋            | 833/1000 [10:23:18<2:02:53, 44.15s/it]"
     ]
    },
    {
     "name": "stdout",
     "output_type": "stream",
     "text": [
      "\t ----- reward: -33.95674363274996 for f_star and f_minus: 25.81716827732457 , 33.95674363274996\n",
      "\t ---------- State is:  (7, 10)\n",
      "[INFO] [2023-04-14 08:03:53,012] [OpenBox-SPO] Iteration 834, objective value: [31.406448168125095].\n"
     ]
    },
    {
     "name": "stderr",
     "output_type": "stream",
     "text": [
      "\r",
      " 83%|█████████████████████████████████████████████████████████████▋            | 834/1000 [10:24:05<2:05:06, 45.22s/it]"
     ]
    },
    {
     "name": "stdout",
     "output_type": "stream",
     "text": [
      "\t ----- reward: -31.406448168125095 for f_star and f_minus: 25.81716827732457 , 31.406448168125095\n",
      "\t ---------- State is:  (7, 10)\n",
      "[INFO] [2023-04-14 08:04:38,558] [OpenBox-SPO] Iteration 835, objective value: [29.044900131809342].\n"
     ]
    },
    {
     "name": "stderr",
     "output_type": "stream",
     "text": [
      "\r",
      " 84%|█████████████████████████████████████████████████████████████▊            | 835/1000 [10:24:51<2:04:37, 45.32s/it]"
     ]
    },
    {
     "name": "stdout",
     "output_type": "stream",
     "text": [
      "\t ----- reward: -29.044900131809342 for f_star and f_minus: 25.81716827732457 , 29.044900131809342\n",
      "\t ---------- State is:  (8, 10)\n",
      "[INFO] [2023-04-14 08:05:22,125] [OpenBox-SPO] Iteration 836, objective value: [43.95837051198408].\n"
     ]
    },
    {
     "name": "stderr",
     "output_type": "stream",
     "text": [
      "\r",
      " 84%|█████████████████████████████████████████████████████████████▊            | 836/1000 [10:25:34<2:02:26, 44.79s/it]"
     ]
    },
    {
     "name": "stdout",
     "output_type": "stream",
     "text": [
      "\t ----- reward: -43.95837051198408 for f_star and f_minus: 25.81716827732457 , 43.95837051198408\n",
      "\t ---------- State is:  (9, 10)\n",
      "[INFO] [2023-04-14 08:06:06,088] [OpenBox-SPO] Iteration 837, objective value: [36.79043990689161].\n"
     ]
    },
    {
     "name": "stderr",
     "output_type": "stream",
     "text": [
      "\r",
      " 84%|█████████████████████████████████████████████████████████████▉            | 837/1000 [10:26:18<2:01:00, 44.54s/it]"
     ]
    },
    {
     "name": "stdout",
     "output_type": "stream",
     "text": [
      "\t ----- reward: -36.79043990689161 for f_star and f_minus: 25.81716827732457 , 36.79043990689161\n",
      "\t ---------- State is:  (10, 10)\n",
      "[INFO] [2023-04-14 08:06:06,088] [Advisor] Sample random config. rand_prob=0.100000.\n",
      "[INFO] [2023-04-14 08:06:37,306] [OpenBox-SPO] Iteration 838, objective value: [69.41536054578503].\n"
     ]
    },
    {
     "name": "stderr",
     "output_type": "stream",
     "text": [
      "\r",
      " 84%|██████████████████████████████████████████████████████████████            | 838/1000 [10:26:50<1:49:28, 40.55s/it]"
     ]
    },
    {
     "name": "stdout",
     "output_type": "stream",
     "text": [
      "\t ----- reward: -69.41536054578503 for f_star and f_minus: 25.81716827732457 , 69.41536054578503\n",
      "\t ---------- State is:  (10, 12)\n",
      "[INFO] [2023-04-14 08:07:21,689] [OpenBox-SPO] Iteration 839, objective value: [34.95971010472391].\n"
     ]
    },
    {
     "name": "stderr",
     "output_type": "stream",
     "text": [
      "\r",
      " 84%|██████████████████████████████████████████████████████████████            | 839/1000 [10:27:34<1:51:53, 41.70s/it]"
     ]
    },
    {
     "name": "stdout",
     "output_type": "stream",
     "text": [
      "\t ----- reward: -34.95971010472391 for f_star and f_minus: 25.81716827732457 , 34.95971010472391\n",
      "\t ---------- State is:  (10, 12)\n",
      "[INFO] [2023-04-14 08:08:09,333] [OpenBox-SPO] Iteration 840, objective value: [27.681838550465486].\n"
     ]
    },
    {
     "name": "stderr",
     "output_type": "stream",
     "text": [
      "\r",
      " 84%|██████████████████████████████████████████████████████████████▏           | 840/1000 [10:28:22<1:55:56, 43.48s/it]"
     ]
    },
    {
     "name": "stdout",
     "output_type": "stream",
     "text": [
      "\t ----- reward: -27.681838550465486 for f_star and f_minus: 25.81716827732457 , 27.681838550465486\n",
      "\t ---------- State is:  (9, 12)\n",
      "[INFO] [2023-04-14 08:08:53,210] [OpenBox-SPO] Iteration 841, objective value: [38.3590726177397].\n"
     ]
    },
    {
     "name": "stderr",
     "output_type": "stream",
     "text": [
      "\r",
      " 84%|██████████████████████████████████████████████████████████████▏           | 841/1000 [10:29:06<1:55:32, 43.60s/it]"
     ]
    },
    {
     "name": "stdout",
     "output_type": "stream",
     "text": [
      "\t ----- reward: -38.3590726177397 for f_star and f_minus: 25.81716827732457 , 38.3590726177397\n",
      "\t ---------- State is:  (9, 12)\n",
      "[INFO] [2023-04-14 08:09:38,770] [OpenBox-SPO] Iteration 842, objective value: [28.29914473219246].\n"
     ]
    },
    {
     "name": "stderr",
     "output_type": "stream",
     "text": [
      "\r",
      " 84%|██████████████████████████████████████████████████████████████▎           | 842/1000 [10:29:51<1:56:21, 44.19s/it]"
     ]
    },
    {
     "name": "stdout",
     "output_type": "stream",
     "text": [
      "\t ----- reward: -28.29914473219246 for f_star and f_minus: 25.81716827732457 , 28.29914473219246\n",
      "\t ---------- State is:  (8, 12)\n",
      "[INFO] [2023-04-14 08:10:21,679] [OpenBox-SPO] Iteration 843, objective value: [29.00534918842112].\n"
     ]
    },
    {
     "name": "stderr",
     "output_type": "stream",
     "text": [
      "\r",
      " 84%|██████████████████████████████████████████████████████████████▍           | 843/1000 [10:30:34<1:54:37, 43.80s/it]"
     ]
    },
    {
     "name": "stdout",
     "output_type": "stream",
     "text": [
      "\t ----- reward: -29.00534918842112 for f_star and f_minus: 25.81716827732457 , 29.00534918842112\n",
      "\t ---------- State is:  (8, 11)\n",
      "[INFO] [2023-04-14 08:11:06,675] [OpenBox-SPO] Iteration 844, objective value: [31.138180689210174].\n"
     ]
    },
    {
     "name": "stderr",
     "output_type": "stream",
     "text": [
      "\r",
      " 84%|██████████████████████████████████████████████████████████████▍           | 844/1000 [10:31:19<1:54:49, 44.16s/it]"
     ]
    },
    {
     "name": "stdout",
     "output_type": "stream",
     "text": [
      "\t ----- reward: -31.138180689210174 for f_star and f_minus: 25.81716827732457 , 31.138180689210174\n",
      "\t ---------- State is:  (9, 11)\n",
      "[INFO] [2023-04-14 08:11:59,221] [OpenBox-SPO] Iteration 845, objective value: [27.739063389225493].\n"
     ]
    },
    {
     "name": "stderr",
     "output_type": "stream",
     "text": [
      "\r",
      " 84%|██████████████████████████████████████████████████████████████▌           | 845/1000 [10:32:12<2:00:34, 46.68s/it]"
     ]
    },
    {
     "name": "stdout",
     "output_type": "stream",
     "text": [
      "\t ----- reward: -27.739063389225493 for f_star and f_minus: 25.81716827732457 , 27.739063389225493\n",
      "\t ---------- State is:  (8, 11)\n",
      "[INFO] [2023-04-14 08:12:51,463] [OpenBox-SPO] Iteration 846, objective value: [27.09397475931941].\n"
     ]
    },
    {
     "name": "stderr",
     "output_type": "stream",
     "text": [
      "\r",
      " 85%|██████████████████████████████████████████████████████████████▌           | 846/1000 [10:33:04<2:04:05, 48.35s/it]"
     ]
    },
    {
     "name": "stdout",
     "output_type": "stream",
     "text": [
      "\t ----- reward: -27.09397475931941 for f_star and f_minus: 25.81716827732457 , 27.09397475931941\n",
      "\t ---------- State is:  (8, 10)\n",
      "[INFO] [2023-04-14 08:13:39,924] [OpenBox-SPO] Iteration 847, objective value: [29.886628121340863].\n"
     ]
    },
    {
     "name": "stderr",
     "output_type": "stream",
     "text": [
      "\r",
      " 85%|██████████████████████████████████████████████████████████████▋           | 847/1000 [10:33:52<2:03:22, 48.38s/it]"
     ]
    },
    {
     "name": "stdout",
     "output_type": "stream",
     "text": [
      "\t ----- reward: -29.886628121340863 for f_star and f_minus: 25.81716827732457 , 29.886628121340863\n",
      "\t ---------- State is:  (8, 10)\n",
      "[INFO] [2023-04-14 08:14:25,008] [OpenBox-SPO] Iteration 848, objective value: [29.463618886397185].\n"
     ]
    },
    {
     "name": "stderr",
     "output_type": "stream",
     "text": [
      "\r",
      " 85%|██████████████████████████████████████████████████████████████▊           | 848/1000 [10:34:37<2:00:03, 47.39s/it]"
     ]
    },
    {
     "name": "stdout",
     "output_type": "stream",
     "text": [
      "\t ----- reward: -29.463618886397185 for f_star and f_minus: 25.81716827732457 , 29.463618886397185\n",
      "\t ---------- State is:  (8, 10)\n",
      "[INFO] [2023-04-14 08:15:15,511] [OpenBox-SPO] Iteration 849, objective value: [32.30222460934273].\n"
     ]
    },
    {
     "name": "stderr",
     "output_type": "stream",
     "text": [
      "\r",
      " 85%|██████████████████████████████████████████████████████████████▊           | 849/1000 [10:35:28<2:01:37, 48.33s/it]"
     ]
    },
    {
     "name": "stdout",
     "output_type": "stream",
     "text": [
      "\t ----- reward: -32.30222460934273 for f_star and f_minus: 25.81716827732457 , 32.30222460934273\n",
      "\t ---------- State is:  (8, 10)\n",
      "[INFO] [2023-04-14 08:16:08,046] [OpenBox-SPO] Iteration 850, objective value: [30.593180902319517].\n"
     ]
    },
    {
     "name": "stderr",
     "output_type": "stream",
     "text": [
      "\r",
      " 85%|██████████████████████████████████████████████████████████████▉           | 850/1000 [10:36:20<2:03:58, 49.59s/it]"
     ]
    },
    {
     "name": "stdout",
     "output_type": "stream",
     "text": [
      "\t ----- reward: -30.593180902319517 for f_star and f_minus: 25.81716827732457 , 30.593180902319517\n",
      "\t ---------- State is:  (9, 9)\n",
      "[INFO] [2023-04-14 08:16:56,396] [OpenBox-SPO] Iteration 851, objective value: [31.504486624205157].\n"
     ]
    },
    {
     "name": "stderr",
     "output_type": "stream",
     "text": [
      "\r",
      " 85%|██████████████████████████████████████████████████████████████▉           | 851/1000 [10:37:09<2:02:13, 49.22s/it]"
     ]
    },
    {
     "name": "stdout",
     "output_type": "stream",
     "text": [
      "\t ----- reward: -31.504486624205157 for f_star and f_minus: 25.81716827732457 , 31.504486624205157\n",
      "\t ---------- State is:  (9, 9)\n",
      "[INFO] [2023-04-14 08:17:45,763] [OpenBox-SPO] Iteration 852, objective value: [32.924966807887785].\n"
     ]
    },
    {
     "name": "stderr",
     "output_type": "stream",
     "text": [
      "\r",
      " 85%|███████████████████████████████████████████████████████████████           | 852/1000 [10:37:58<2:01:30, 49.26s/it]"
     ]
    },
    {
     "name": "stdout",
     "output_type": "stream",
     "text": [
      "\t ----- reward: -32.924966807887785 for f_star and f_minus: 25.81716827732457 , 32.924966807887785\n",
      "\t ---------- State is:  (8, 9)\n",
      "[INFO] [2023-04-14 08:18:36,471] [OpenBox-SPO] Iteration 853, objective value: [34.18484840026275].\n"
     ]
    },
    {
     "name": "stderr",
     "output_type": "stream",
     "text": [
      "\r",
      " 85%|███████████████████████████████████████████████████████████████           | 853/1000 [10:38:49<2:01:45, 49.70s/it]"
     ]
    },
    {
     "name": "stdout",
     "output_type": "stream",
     "text": [
      "\t ----- reward: -34.18484840026275 for f_star and f_minus: 25.81716827732457 , 34.18484840026275\n",
      "\t ---------- State is:  (7, 9)\n",
      "[INFO] [2023-04-14 08:19:30,169] [OpenBox-SPO] Iteration 854, objective value: [35.838668921992635].\n"
     ]
    },
    {
     "name": "stderr",
     "output_type": "stream",
     "text": [
      "\r",
      " 85%|███████████████████████████████████████████████████████████████▏          | 854/1000 [10:39:43<2:03:50, 50.90s/it]"
     ]
    },
    {
     "name": "stdout",
     "output_type": "stream",
     "text": [
      "\t ----- reward: -35.838668921992635 for f_star and f_minus: 25.81716827732457 , 35.838668921992635\n",
      "\t ---------- State is:  (7, 9)\n",
      "[INFO] [2023-04-14 08:20:20,521] [OpenBox-SPO] Iteration 855, objective value: [31.39587594364545].\n"
     ]
    },
    {
     "name": "stderr",
     "output_type": "stream",
     "text": [
      "\r",
      " 86%|███████████████████████████████████████████████████████████████▎          | 855/1000 [10:40:33<2:02:36, 50.73s/it]"
     ]
    },
    {
     "name": "stdout",
     "output_type": "stream",
     "text": [
      "\t ----- reward: -31.39587594364545 for f_star and f_minus: 25.81716827732457 , 31.39587594364545\n",
      "\t ---------- State is:  (6, 9)\n",
      "[INFO] [2023-04-14 08:21:03,064] [OpenBox-SPO] Iteration 856, objective value: [33.37297538245382].\n"
     ]
    },
    {
     "name": "stderr",
     "output_type": "stream",
     "text": [
      "\r",
      " 86%|███████████████████████████████████████████████████████████████▎          | 856/1000 [10:41:15<1:55:51, 48.28s/it]"
     ]
    },
    {
     "name": "stdout",
     "output_type": "stream",
     "text": [
      "\t ----- reward: -33.37297538245382 for f_star and f_minus: 25.81716827732457 , 33.37297538245382\n",
      "\t ---------- State is:  (6, 9)\n",
      "[INFO] [2023-04-14 08:21:52,464] [OpenBox-SPO] Iteration 857, objective value: [31.13906828853385].\n"
     ]
    },
    {
     "name": "stderr",
     "output_type": "stream",
     "text": [
      "\r",
      " 86%|███████████████████████████████████████████████████████████████▍          | 857/1000 [10:42:05<1:55:51, 48.61s/it]"
     ]
    },
    {
     "name": "stdout",
     "output_type": "stream",
     "text": [
      "\t ----- reward: -31.13906828853385 for f_star and f_minus: 25.81716827732457 , 31.13906828853385\n",
      "\t ---------- State is:  (5, 9)\n",
      "[INFO] [2023-04-14 08:22:38,474] [OpenBox-SPO] Iteration 858, objective value: [33.82272426784188].\n"
     ]
    },
    {
     "name": "stderr",
     "output_type": "stream",
     "text": [
      "\r",
      " 86%|███████████████████████████████████████████████████████████████▍          | 858/1000 [10:42:51<1:53:12, 47.83s/it]"
     ]
    },
    {
     "name": "stdout",
     "output_type": "stream",
     "text": [
      "\t ----- reward: -33.82272426784188 for f_star and f_minus: 25.81716827732457 , 33.82272426784188\n",
      "\t ---------- State is:  (6, 9)\n",
      "[INFO] [2023-04-14 08:23:24,722] [OpenBox-SPO] Iteration 859, objective value: [30.913284525045896].\n"
     ]
    },
    {
     "name": "stderr",
     "output_type": "stream",
     "text": [
      "\r",
      " 86%|███████████████████████████████████████████████████████████████▌          | 859/1000 [10:43:37<1:51:17, 47.36s/it]"
     ]
    },
    {
     "name": "stdout",
     "output_type": "stream",
     "text": [
      "\t ----- reward: -30.913284525045896 for f_star and f_minus: 25.81716827732457 , 30.913284525045896\n",
      "\t ---------- State is:  (6, 9)\n",
      "[INFO] [2023-04-14 08:24:15,947] [OpenBox-SPO] Iteration 860, objective value: [36.18338251461667].\n"
     ]
    },
    {
     "name": "stderr",
     "output_type": "stream",
     "text": [
      "\r",
      " 86%|███████████████████████████████████████████████████████████████▋          | 860/1000 [10:44:28<1:53:12, 48.52s/it]"
     ]
    },
    {
     "name": "stdout",
     "output_type": "stream",
     "text": [
      "\t ----- reward: -36.18338251461667 for f_star and f_minus: 25.81716827732457 , 36.18338251461667\n",
      "\t ---------- State is:  (5, 8)\n",
      "[INFO] [2023-04-14 08:25:02,067] [OpenBox-SPO] Iteration 861, objective value: [27.518671988723867].\n"
     ]
    },
    {
     "name": "stderr",
     "output_type": "stream",
     "text": [
      "\r",
      " 86%|███████████████████████████████████████████████████████████████▋          | 861/1000 [10:45:14<1:50:43, 47.80s/it]"
     ]
    },
    {
     "name": "stdout",
     "output_type": "stream",
     "text": [
      "\t ----- reward: -27.518671988723867 for f_star and f_minus: 25.81716827732457 , 27.518671988723867\n",
      "\t ---------- State is:  (4, 7)\n",
      "[INFO] [2023-04-14 08:25:52,925] [OpenBox-SPO] Iteration 862, objective value: [33.03233986899821].\n"
     ]
    },
    {
     "name": "stderr",
     "output_type": "stream",
     "text": [
      "\r",
      " 86%|███████████████████████████████████████████████████████████████▊          | 862/1000 [10:46:05<1:52:02, 48.72s/it]"
     ]
    },
    {
     "name": "stdout",
     "output_type": "stream",
     "text": [
      "\t ----- reward: -33.03233986899821 for f_star and f_minus: 25.81716827732457 , 33.03233986899821\n",
      "\t ---------- State is:  (5, 7)\n",
      "[INFO] [2023-04-14 08:26:42,917] [OpenBox-SPO] Iteration 863, objective value: [40.565975443928906].\n"
     ]
    },
    {
     "name": "stderr",
     "output_type": "stream",
     "text": [
      "\r",
      " 86%|███████████████████████████████████████████████████████████████▊          | 863/1000 [10:46:55<1:52:06, 49.10s/it]"
     ]
    },
    {
     "name": "stdout",
     "output_type": "stream",
     "text": [
      "\t ----- reward: -40.565975443928906 for f_star and f_minus: 25.81716827732457 , 40.565975443928906\n",
      "\t ---------- State is:  (5, 7)\n",
      "[INFO] [2023-04-14 08:27:24,330] [OpenBox-SPO] Iteration 864, objective value: [40.28762229254259].\n"
     ]
    },
    {
     "name": "stderr",
     "output_type": "stream",
     "text": [
      "\r",
      " 86%|███████████████████████████████████████████████████████████████▉          | 864/1000 [10:47:37<1:46:03, 46.79s/it]"
     ]
    },
    {
     "name": "stdout",
     "output_type": "stream",
     "text": [
      "\t ----- reward: -40.28762229254259 for f_star and f_minus: 25.81716827732457 , 40.28762229254259\n",
      "\t ---------- State is:  (4, 8)\n",
      "[INFO] [2023-04-14 08:27:24,330] [Advisor] Sample random config. rand_prob=0.100000.\n",
      "[INFO] [2023-04-14 08:27:56,512] [OpenBox-SPO] Iteration 865, objective value: [52.53603797983145].\n"
     ]
    },
    {
     "name": "stderr",
     "output_type": "stream",
     "text": [
      "\r",
      " 86%|████████████████████████████████████████████████████████████████          | 865/1000 [10:48:09<1:35:25, 42.41s/it]"
     ]
    },
    {
     "name": "stdout",
     "output_type": "stream",
     "text": [
      "\t ----- reward: -52.53603797983145 for f_star and f_minus: 25.81716827732457 , 52.53603797983145\n",
      "\t ---------- State is:  (5, 8)\n",
      "[INFO] [2023-04-14 08:28:43,673] [OpenBox-SPO] Iteration 866, objective value: [32.55964298332694].\n"
     ]
    },
    {
     "name": "stderr",
     "output_type": "stream",
     "text": [
      "\r",
      " 87%|████████████████████████████████████████████████████████████████          | 866/1000 [10:48:56<1:37:54, 43.84s/it]"
     ]
    },
    {
     "name": "stdout",
     "output_type": "stream",
     "text": [
      "\t ----- reward: -32.55964298332694 for f_star and f_minus: 25.81716827732457 , 32.55964298332694\n",
      "\t ---------- State is:  (4, 8)\n",
      "[INFO] [2023-04-14 08:29:22,864] [OpenBox-SPO] Iteration 867, objective value: [36.47380783331198].\n"
     ]
    },
    {
     "name": "stderr",
     "output_type": "stream",
     "text": [
      "\r",
      " 87%|████████████████████████████████████████████████████████████████▏         | 867/1000 [10:49:35<1:34:04, 42.44s/it]"
     ]
    },
    {
     "name": "stdout",
     "output_type": "stream",
     "text": [
      "\t ----- reward: -36.47380783331198 for f_star and f_minus: 25.81716827732457 , 36.47380783331198\n",
      "\t ---------- State is:  (3, 8)\n",
      "[INFO] [2023-04-14 08:30:11,193] [OpenBox-SPO] Iteration 868, objective value: [35.87741368925742].\n"
     ]
    },
    {
     "name": "stderr",
     "output_type": "stream",
     "text": [
      "\r",
      " 87%|████████████████████████████████████████████████████████████████▏         | 868/1000 [10:50:24<1:37:15, 44.21s/it]"
     ]
    },
    {
     "name": "stdout",
     "output_type": "stream",
     "text": [
      "\t ----- reward: -35.87741368925742 for f_star and f_minus: 25.81716827732457 , 35.87741368925742\n",
      "\t ---------- State is:  (3, 7)\n",
      "[INFO] [2023-04-14 08:30:51,920] [OpenBox-SPO] Iteration 869, objective value: [36.712468038298795].\n"
     ]
    },
    {
     "name": "stderr",
     "output_type": "stream",
     "text": [
      "\r",
      " 87%|████████████████████████████████████████████████████████████████▎         | 869/1000 [10:51:04<1:34:14, 43.16s/it]"
     ]
    },
    {
     "name": "stdout",
     "output_type": "stream",
     "text": [
      "\t ----- reward: -36.712468038298795 for f_star and f_minus: 25.81716827732457 , 36.712468038298795\n",
      "\t ---------- State is:  (3, 7)\n",
      "[INFO] [2023-04-14 08:30:51,920] [Advisor] Sample random config. rand_prob=0.100000.\n",
      "[INFO] [2023-04-14 08:31:21,191] [OpenBox-SPO] Iteration 870, objective value: [52.83984599571932].\n"
     ]
    },
    {
     "name": "stderr",
     "output_type": "stream",
     "text": [
      "\r",
      " 87%|████████████████████████████████████████████████████████████████▍         | 870/1000 [10:51:34<1:24:29, 39.00s/it]"
     ]
    },
    {
     "name": "stdout",
     "output_type": "stream",
     "text": [
      "\t ----- reward: -52.83984599571932 for f_star and f_minus: 25.81716827732457 , 52.83984599571932\n",
      "\t ---------- State is:  (2, 8)\n",
      "[INFO] [2023-04-14 08:32:06,525] [OpenBox-SPO] Iteration 871, objective value: [32.8166700431218].\n"
     ]
    },
    {
     "name": "stderr",
     "output_type": "stream",
     "text": [
      "\r",
      " 87%|████████████████████████████████████████████████████████████████▍         | 871/1000 [10:52:19<1:27:55, 40.90s/it]"
     ]
    },
    {
     "name": "stdout",
     "output_type": "stream",
     "text": [
      "\t ----- reward: -32.8166700431218 for f_star and f_minus: 25.81716827732457 , 32.8166700431218\n",
      "\t ---------- State is:  (2, 8)\n",
      "[INFO] [2023-04-14 08:32:53,560] [OpenBox-SPO] Iteration 872, objective value: [28.331021615477823].\n"
     ]
    },
    {
     "name": "stderr",
     "output_type": "stream",
     "text": [
      "\r",
      " 87%|████████████████████████████████████████████████████████████████▌         | 872/1000 [10:53:06<1:31:10, 42.74s/it]"
     ]
    },
    {
     "name": "stdout",
     "output_type": "stream",
     "text": [
      "\t ----- reward: -28.331021615477823 for f_star and f_minus: 25.81716827732457 , 28.331021615477823\n",
      "\t ---------- State is:  (3, 8)\n",
      "[INFO] [2023-04-14 08:33:40,049] [OpenBox-SPO] Iteration 873, objective value: [29.586072580820698].\n"
     ]
    },
    {
     "name": "stderr",
     "output_type": "stream",
     "text": [
      "\r",
      " 87%|████████████████████████████████████████████████████████████████▌         | 873/1000 [10:53:52<1:32:50, 43.86s/it]"
     ]
    },
    {
     "name": "stdout",
     "output_type": "stream",
     "text": [
      "\t ----- reward: -29.586072580820698 for f_star and f_minus: 25.81716827732457 , 29.586072580820698\n",
      "\t ---------- State is:  (4, 8)\n",
      "[INFO] [2023-04-14 08:34:27,698] [OpenBox-SPO] Iteration 874, objective value: [35.8483274856477].\n"
     ]
    },
    {
     "name": "stderr",
     "output_type": "stream",
     "text": [
      "\r",
      " 87%|████████████████████████████████████████████████████████████████▋         | 874/1000 [10:54:40<1:34:29, 45.00s/it]"
     ]
    },
    {
     "name": "stdout",
     "output_type": "stream",
     "text": [
      "\t ----- reward: -35.8483274856477 for f_star and f_minus: 25.81716827732457 , 35.8483274856477\n",
      "\t ---------- State is:  (4, 8)\n",
      "[INFO] [2023-04-14 08:35:15,706] [OpenBox-SPO] Iteration 875, objective value: [29.620889282333238].\n"
     ]
    },
    {
     "name": "stderr",
     "output_type": "stream",
     "text": [
      "\r",
      " 88%|████████████████████████████████████████████████████████████████▊         | 875/1000 [10:55:28<1:35:37, 45.90s/it]"
     ]
    },
    {
     "name": "stdout",
     "output_type": "stream",
     "text": [
      "\t ----- reward: -29.620889282333238 for f_star and f_minus: 25.81716827732457 , 29.620889282333238\n",
      "\t ---------- State is:  (3, 8)\n",
      "[INFO] [2023-04-14 08:36:02,062] [OpenBox-SPO] Iteration 876, objective value: [31.518244746140354].\n"
     ]
    },
    {
     "name": "stderr",
     "output_type": "stream",
     "text": [
      "\r",
      " 88%|████████████████████████████████████████████████████████████████▊         | 876/1000 [10:56:14<1:35:08, 46.04s/it]"
     ]
    },
    {
     "name": "stdout",
     "output_type": "stream",
     "text": [
      "\t ----- reward: -31.518244746140354 for f_star and f_minus: 25.81716827732457 , 31.518244746140354\n",
      "\t ---------- State is:  (4, 8)\n",
      "[INFO] [2023-04-14 08:36:02,062] [Advisor] Sample random config. rand_prob=0.100000.\n",
      "[INFO] [2023-04-14 08:36:40,119] [OpenBox-SPO] Iteration 877, objective value: [57.312562463115384].\n"
     ]
    },
    {
     "name": "stderr",
     "output_type": "stream",
     "text": [
      "\r",
      " 88%|████████████████████████████████████████████████████████████████▉         | 877/1000 [10:56:52<1:29:28, 43.64s/it]"
     ]
    },
    {
     "name": "stdout",
     "output_type": "stream",
     "text": [
      "\t ----- reward: -57.312562463115384 for f_star and f_minus: 25.81716827732457 , 57.312562463115384\n",
      "\t ---------- State is:  (3, 9)\n",
      "[INFO] [2023-04-14 08:37:25,524] [OpenBox-SPO] Iteration 878, objective value: [35.35142038065011].\n"
     ]
    },
    {
     "name": "stderr",
     "output_type": "stream",
     "text": [
      "\r",
      " 88%|████████████████████████████████████████████████████████████████▉         | 878/1000 [10:57:38<1:29:48, 44.17s/it]"
     ]
    },
    {
     "name": "stdout",
     "output_type": "stream",
     "text": [
      "\t ----- reward: -35.35142038065011 for f_star and f_minus: 25.81716827732457 , 35.35142038065011\n",
      "\t ---------- State is:  (4, 9)\n",
      "[INFO] [2023-04-14 08:38:13,362] [OpenBox-SPO] Iteration 879, objective value: [28.71848991255486].\n"
     ]
    },
    {
     "name": "stderr",
     "output_type": "stream",
     "text": [
      "\r",
      " 88%|█████████████████████████████████████████████████████████████████         | 879/1000 [10:58:26<1:31:17, 45.27s/it]"
     ]
    },
    {
     "name": "stdout",
     "output_type": "stream",
     "text": [
      "\t ----- reward: -28.71848991255486 for f_star and f_minus: 25.81716827732457 , 28.71848991255486\n",
      "\t ---------- State is:  (3, 9)\n",
      "[INFO] [2023-04-14 08:39:00,408] [OpenBox-SPO] Iteration 880, objective value: [31.883508244385354].\n"
     ]
    },
    {
     "name": "stderr",
     "output_type": "stream",
     "text": [
      "\r",
      " 88%|█████████████████████████████████████████████████████████████████         | 880/1000 [10:59:13<1:31:36, 45.80s/it]"
     ]
    },
    {
     "name": "stdout",
     "output_type": "stream",
     "text": [
      "\t ----- reward: -31.883508244385354 for f_star and f_minus: 25.81716827732457 , 31.883508244385354\n",
      "\t ---------- State is:  (3, 9)\n",
      "[INFO] [2023-04-14 08:39:47,963] [OpenBox-SPO] Iteration 881, objective value: [26.490021710245344].\n"
     ]
    },
    {
     "name": "stderr",
     "output_type": "stream",
     "text": [
      "\r",
      " 88%|█████████████████████████████████████████████████████████████████▏        | 881/1000 [11:00:00<1:31:53, 46.33s/it]"
     ]
    },
    {
     "name": "stdout",
     "output_type": "stream",
     "text": [
      "\t ----- reward: -26.490021710245344 for f_star and f_minus: 25.81716827732457 , 26.490021710245344\n",
      "\t ---------- State is:  (2, 9)\n",
      "[INFO] [2023-04-14 08:39:47,963] [Advisor] Sample random config. rand_prob=0.100000.\n",
      "[INFO] [2023-04-14 08:40:23,226] [OpenBox-SPO] Iteration 882, objective value: [60.555358097312485].\n"
     ]
    },
    {
     "name": "stderr",
     "output_type": "stream",
     "text": [
      "\r",
      " 88%|█████████████████████████████████████████████████████████████████▎        | 882/1000 [11:00:36<1:24:35, 43.01s/it]"
     ]
    },
    {
     "name": "stdout",
     "output_type": "stream",
     "text": [
      "\t ----- reward: -60.555358097312485 for f_star and f_minus: 25.81716827732457 , 60.555358097312485\n",
      "\t ---------- State is:  (3, 10)\n",
      "[INFO] [2023-04-14 08:41:10,087] [OpenBox-SPO] Iteration 883, objective value: [37.2062684345418].\n"
     ]
    },
    {
     "name": "stderr",
     "output_type": "stream",
     "text": [
      "\r",
      " 88%|█████████████████████████████████████████████████████████████████▎        | 883/1000 [11:01:22<1:26:07, 44.16s/it]"
     ]
    },
    {
     "name": "stdout",
     "output_type": "stream",
     "text": [
      "\t ----- reward: -37.2062684345418 for f_star and f_minus: 25.81716827732457 , 37.2062684345418\n",
      "\t ---------- State is:  (4, 10)\n",
      "[INFO] [2023-04-14 08:41:57,324] [OpenBox-SPO] Iteration 884, objective value: [29.458861313983036].\n"
     ]
    },
    {
     "name": "stderr",
     "output_type": "stream",
     "text": [
      "\r",
      " 88%|█████████████████████████████████████████████████████████████████▍        | 884/1000 [11:02:10<1:27:10, 45.09s/it]"
     ]
    },
    {
     "name": "stdout",
     "output_type": "stream",
     "text": [
      "\t ----- reward: -29.458861313983036 for f_star and f_minus: 25.81716827732457 , 29.458861313983036\n",
      "\t ---------- State is:  (5, 10)\n",
      "[INFO] [2023-04-14 08:42:43,858] [OpenBox-SPO] Iteration 885, objective value: [28.60783662024197].\n"
     ]
    },
    {
     "name": "stderr",
     "output_type": "stream",
     "text": [
      "\r",
      " 88%|█████████████████████████████████████████████████████████████████▍        | 885/1000 [11:02:56<1:27:14, 45.52s/it]"
     ]
    },
    {
     "name": "stdout",
     "output_type": "stream",
     "text": [
      "\t ----- reward: -28.60783662024197 for f_star and f_minus: 25.81716827732457 , 28.60783662024197\n",
      "\t ---------- State is:  (5, 10)\n",
      "[INFO] [2023-04-14 08:43:31,423] [OpenBox-SPO] Iteration 886, objective value: [31.435074193854987].\n"
     ]
    },
    {
     "name": "stderr",
     "output_type": "stream",
     "text": [
      "\r",
      " 89%|█████████████████████████████████████████████████████████████████▌        | 886/1000 [11:03:44<1:27:39, 46.13s/it]"
     ]
    },
    {
     "name": "stdout",
     "output_type": "stream",
     "text": [
      "\t ----- reward: -31.435074193854987 for f_star and f_minus: 25.81716827732457 , 31.435074193854987\n",
      "\t ---------- State is:  (5, 10)\n",
      "[INFO] [2023-04-14 08:44:24,009] [OpenBox-SPO] Iteration 887, objective value: [31.921693774240083].\n"
     ]
    },
    {
     "name": "stderr",
     "output_type": "stream",
     "text": [
      "\r",
      " 89%|█████████████████████████████████████████████████████████████████▋        | 887/1000 [11:04:36<1:30:31, 48.07s/it]"
     ]
    },
    {
     "name": "stdout",
     "output_type": "stream",
     "text": [
      "\t ----- reward: -31.921693774240083 for f_star and f_minus: 25.81716827732457 , 31.921693774240083\n",
      "\t ---------- State is:  (6, 10)\n",
      "[INFO] [2023-04-14 08:45:13,750] [OpenBox-SPO] Iteration 888, objective value: [30.684652764813094].\n"
     ]
    },
    {
     "name": "stderr",
     "output_type": "stream",
     "text": [
      "\r",
      " 89%|█████████████████████████████████████████████████████████████████▋        | 888/1000 [11:05:26<1:30:39, 48.57s/it]"
     ]
    },
    {
     "name": "stdout",
     "output_type": "stream",
     "text": [
      "\t ----- reward: -30.684652764813094 for f_star and f_minus: 25.81716827732457 , 30.684652764813094\n",
      "\t ---------- State is:  (6, 9)\n",
      "[INFO] [2023-04-14 08:46:06,036] [OpenBox-SPO] Iteration 889, objective value: [32.92480333226189].\n"
     ]
    },
    {
     "name": "stderr",
     "output_type": "stream",
     "text": [
      "\r",
      " 89%|█████████████████████████████████████████████████████████████████▊        | 889/1000 [11:06:18<1:31:55, 49.69s/it]"
     ]
    },
    {
     "name": "stdout",
     "output_type": "stream",
     "text": [
      "\t ----- reward: -32.92480333226189 for f_star and f_minus: 25.81716827732457 , 32.92480333226189\n",
      "\t ---------- State is:  (7, 10)\n",
      "[INFO] [2023-04-14 08:46:06,036] [Advisor] Sample random config. rand_prob=0.100000.\n",
      "[INFO] [2023-04-14 08:46:40,392] [OpenBox-SPO] Iteration 890, objective value: [56.03469517150967].\n"
     ]
    },
    {
     "name": "stderr",
     "output_type": "stream",
     "text": [
      "\r",
      " 89%|█████████████████████████████████████████████████████████████████▊        | 890/1000 [11:06:53<1:22:39, 45.09s/it]"
     ]
    },
    {
     "name": "stdout",
     "output_type": "stream",
     "text": [
      "\t ----- reward: -56.03469517150967 for f_star and f_minus: 25.81716827732457 , 56.03469517150967\n",
      "\t ---------- State is:  (6, 10)\n",
      "[INFO] [2023-04-14 08:47:26,468] [OpenBox-SPO] Iteration 891, objective value: [36.798158744431596].\n"
     ]
    },
    {
     "name": "stderr",
     "output_type": "stream",
     "text": [
      "\r",
      " 89%|█████████████████████████████████████████████████████████████████▉        | 891/1000 [11:07:39<1:22:26, 45.38s/it]"
     ]
    },
    {
     "name": "stdout",
     "output_type": "stream",
     "text": [
      "\t ----- reward: -36.798158744431596 for f_star and f_minus: 25.81716827732457 , 36.798158744431596\n",
      "\t ---------- State is:  (5, 10)\n",
      "[INFO] [2023-04-14 08:48:14,547] [OpenBox-SPO] Iteration 892, objective value: [32.07841635321944].\n"
     ]
    },
    {
     "name": "stderr",
     "output_type": "stream",
     "text": [
      "\r",
      " 89%|██████████████████████████████████████████████████████████████████        | 892/1000 [11:08:27<1:23:08, 46.19s/it]"
     ]
    },
    {
     "name": "stdout",
     "output_type": "stream",
     "text": [
      "\t ----- reward: -32.07841635321944 for f_star and f_minus: 25.81716827732457 , 32.07841635321944\n",
      "\t ---------- State is:  (4, 10)\n",
      "[INFO] [2023-04-14 08:49:02,791] [OpenBox-SPO] Iteration 893, objective value: [28.581795757885303].\n"
     ]
    },
    {
     "name": "stderr",
     "output_type": "stream",
     "text": [
      "\r",
      " 89%|██████████████████████████████████████████████████████████████████        | 893/1000 [11:09:15<1:23:28, 46.81s/it]"
     ]
    },
    {
     "name": "stdout",
     "output_type": "stream",
     "text": [
      "\t ----- reward: -28.581795757885303 for f_star and f_minus: 25.81716827732457 , 28.581795757885303\n",
      "\t ---------- State is:  (5, 10)\n",
      "[INFO] [2023-04-14 08:49:49,473] [OpenBox-SPO] Iteration 894, objective value: [29.309020293634376].\n"
     ]
    },
    {
     "name": "stderr",
     "output_type": "stream",
     "text": [
      "\r",
      " 89%|██████████████████████████████████████████████████████████████████▏       | 894/1000 [11:10:02<1:22:37, 46.77s/it]"
     ]
    },
    {
     "name": "stdout",
     "output_type": "stream",
     "text": [
      "\t ----- reward: -29.309020293634376 for f_star and f_minus: 25.81716827732457 , 29.309020293634376\n",
      "\t ---------- State is:  (5, 10)\n",
      "[INFO] [2023-04-14 08:50:37,764] [OpenBox-SPO] Iteration 895, objective value: [29.40488841433877].\n"
     ]
    },
    {
     "name": "stderr",
     "output_type": "stream",
     "text": [
      "\r",
      " 90%|██████████████████████████████████████████████████████████████████▏       | 895/1000 [11:10:50<1:22:38, 47.23s/it]"
     ]
    },
    {
     "name": "stdout",
     "output_type": "stream",
     "text": [
      "\t ----- reward: -29.40488841433877 for f_star and f_minus: 25.81716827732457 , 29.40488841433877\n",
      "\t ---------- State is:  (6, 9)\n",
      "[INFO] [2023-04-14 08:51:20,075] [OpenBox-SPO] Iteration 896, objective value: [33.72523281643835].\n"
     ]
    },
    {
     "name": "stderr",
     "output_type": "stream",
     "text": [
      "\r",
      " 90%|██████████████████████████████████████████████████████████████████▎       | 896/1000 [11:11:32<1:19:18, 45.75s/it]"
     ]
    },
    {
     "name": "stdout",
     "output_type": "stream",
     "text": [
      "\t ----- reward: -33.72523281643835 for f_star and f_minus: 25.81716827732457 , 33.72523281643835\n",
      "\t ---------- State is:  (6, 9)\n",
      "[INFO] [2023-04-14 08:52:05,260] [OpenBox-SPO] Iteration 897, objective value: [35.191245117623055].\n"
     ]
    },
    {
     "name": "stderr",
     "output_type": "stream",
     "text": [
      "\r",
      " 90%|██████████████████████████████████████████████████████████████████▍       | 897/1000 [11:12:18<1:18:14, 45.58s/it]"
     ]
    },
    {
     "name": "stdout",
     "output_type": "stream",
     "text": [
      "\t ----- reward: -35.191245117623055 for f_star and f_minus: 25.81716827732457 , 35.191245117623055\n",
      "\t ---------- State is:  (5, 9)\n",
      "[INFO] [2023-04-14 08:52:55,995] [OpenBox-SPO] Iteration 898, objective value: [33.578614096182406].\n"
     ]
    },
    {
     "name": "stderr",
     "output_type": "stream",
     "text": [
      "\r",
      " 90%|██████████████████████████████████████████████████████████████████▍       | 898/1000 [11:13:08<1:20:07, 47.13s/it]"
     ]
    },
    {
     "name": "stdout",
     "output_type": "stream",
     "text": [
      "\t ----- reward: -33.578614096182406 for f_star and f_minus: 25.81716827732457 , 33.578614096182406\n",
      "\t ---------- State is:  (4, 9)\n",
      "[INFO] [2023-04-14 08:53:47,860] [OpenBox-SPO] Iteration 899, objective value: [29.570376294260384].\n"
     ]
    },
    {
     "name": "stderr",
     "output_type": "stream",
     "text": [
      "\r",
      " 90%|██████████████████████████████████████████████████████████████████▌       | 899/1000 [11:14:00<1:21:43, 48.55s/it]"
     ]
    },
    {
     "name": "stdout",
     "output_type": "stream",
     "text": [
      "\t ----- reward: -29.570376294260384 for f_star and f_minus: 25.81716827732457 , 29.570376294260384\n",
      "\t ---------- State is:  (3, 9)\n",
      "[INFO] [2023-04-14 08:54:35,085] [OpenBox-SPO] Iteration 900, objective value: [33.22489273015036].\n"
     ]
    },
    {
     "name": "stderr",
     "output_type": "stream",
     "text": [
      "\r",
      " 90%|██████████████████████████████████████████████████████████████████▌       | 900/1000 [11:14:47<1:20:15, 48.15s/it]"
     ]
    },
    {
     "name": "stdout",
     "output_type": "stream",
     "text": [
      "\t ----- reward: -33.22489273015036 for f_star and f_minus: 25.81716827732457 , 33.22489273015036\n",
      "\t ---------- State is:  (2, 8)\n",
      "[INFO] [2023-04-14 08:55:20,405] [OpenBox-SPO] Iteration 901, objective value: [33.75860159679857].\n"
     ]
    },
    {
     "name": "stderr",
     "output_type": "stream",
     "text": [
      "\r",
      " 90%|██████████████████████████████████████████████████████████████████▋       | 901/1000 [11:15:33<1:18:02, 47.30s/it]"
     ]
    },
    {
     "name": "stdout",
     "output_type": "stream",
     "text": [
      "\t ----- reward: -33.75860159679857 for f_star and f_minus: 25.81716827732457 , 33.75860159679857\n",
      "\t ---------- State is:  (1, 8)\n",
      "[INFO] [2023-04-14 08:56:08,760] [OpenBox-SPO] Iteration 902, objective value: [31.238760489559397].\n"
     ]
    },
    {
     "name": "stderr",
     "output_type": "stream",
     "text": [
      "\r",
      " 90%|██████████████████████████████████████████████████████████████████▋       | 902/1000 [11:16:21<1:17:46, 47.62s/it]"
     ]
    },
    {
     "name": "stdout",
     "output_type": "stream",
     "text": [
      "\t ----- reward: -31.238760489559397 for f_star and f_minus: 25.81716827732457 , 31.238760489559397\n",
      "\t ---------- State is:  (1, 8)\n",
      "[INFO] [2023-04-14 08:56:54,469] [OpenBox-SPO] Iteration 903, objective value: [33.3830036087859].\n"
     ]
    },
    {
     "name": "stderr",
     "output_type": "stream",
     "text": [
      "\r",
      " 90%|██████████████████████████████████████████████████████████████████▊       | 903/1000 [11:17:07<1:16:03, 47.05s/it]"
     ]
    },
    {
     "name": "stdout",
     "output_type": "stream",
     "text": [
      "\t ----- reward: -33.3830036087859 for f_star and f_minus: 25.81716827732457 , 33.3830036087859\n",
      "\t ---------- State is:  (1, 8)\n",
      "[INFO] [2023-04-14 08:57:38,248] [OpenBox-SPO] Iteration 904, objective value: [28.904673640351703].\n"
     ]
    },
    {
     "name": "stderr",
     "output_type": "stream",
     "text": [
      "\r",
      " 90%|██████████████████████████████████████████████████████████████████▉       | 904/1000 [11:17:51<1:13:42, 46.07s/it]"
     ]
    },
    {
     "name": "stdout",
     "output_type": "stream",
     "text": [
      "\t ----- reward: -28.904673640351703 for f_star and f_minus: 25.81716827732457 , 28.904673640351703\n",
      "\t ---------- State is:  (2, 8)\n",
      "[INFO] [2023-04-14 08:58:26,235] [OpenBox-SPO] Iteration 905, objective value: [31.81497954502761].\n"
     ]
    },
    {
     "name": "stderr",
     "output_type": "stream",
     "text": [
      "\r",
      " 90%|██████████████████████████████████████████████████████████████████▉       | 905/1000 [11:18:39<1:13:50, 46.64s/it]"
     ]
    },
    {
     "name": "stdout",
     "output_type": "stream",
     "text": [
      "\t ----- reward: -31.81497954502761 for f_star and f_minus: 25.81716827732457 , 31.81497954502761\n",
      "\t ---------- State is:  (2, 8)\n",
      "[INFO] [2023-04-14 08:59:07,389] [OpenBox-SPO] Iteration 906, objective value: [34.49269681302734].\n"
     ]
    },
    {
     "name": "stderr",
     "output_type": "stream",
     "text": [
      "\r",
      " 91%|███████████████████████████████████████████████████████████████████       | 906/1000 [11:19:20<1:10:29, 45.00s/it]"
     ]
    },
    {
     "name": "stdout",
     "output_type": "stream",
     "text": [
      "\t ----- reward: -34.49269681302734 for f_star and f_minus: 25.81716827732457 , 34.49269681302734\n",
      "\t ---------- State is:  (3, 8)\n",
      "[INFO] [2023-04-14 08:59:52,731] [OpenBox-SPO] Iteration 907, objective value: [30.9893662900717].\n"
     ]
    },
    {
     "name": "stderr",
     "output_type": "stream",
     "text": [
      "\r",
      " 91%|███████████████████████████████████████████████████████████████████       | 907/1000 [11:20:05<1:09:54, 45.10s/it]"
     ]
    },
    {
     "name": "stdout",
     "output_type": "stream",
     "text": [
      "\t ----- reward: -30.9893662900717 for f_star and f_minus: 25.81716827732457 , 30.9893662900717\n",
      "\t ---------- State is:  (4, 7)\n",
      "[INFO] [2023-04-14 09:00:34,317] [OpenBox-SPO] Iteration 908, objective value: [29.858815786624433].\n"
     ]
    },
    {
     "name": "stderr",
     "output_type": "stream",
     "text": [
      "\r",
      " 91%|███████████████████████████████████████████████████████████████████▏      | 908/1000 [11:20:47<1:07:32, 44.05s/it]"
     ]
    },
    {
     "name": "stdout",
     "output_type": "stream",
     "text": [
      "\t ----- reward: -29.858815786624433 for f_star and f_minus: 25.81716827732457 , 29.858815786624433\n",
      "\t ---------- State is:  (5, 7)\n",
      "[INFO] [2023-04-14 09:01:17,986] [OpenBox-SPO] Iteration 909, objective value: [29.414912859121458].\n"
     ]
    },
    {
     "name": "stderr",
     "output_type": "stream",
     "text": [
      "\r",
      " 91%|███████████████████████████████████████████████████████████████████▎      | 909/1000 [11:21:30<1:06:37, 43.93s/it]"
     ]
    },
    {
     "name": "stdout",
     "output_type": "stream",
     "text": [
      "\t ----- reward: -29.414912859121458 for f_star and f_minus: 25.81716827732457 , 29.414912859121458\n",
      "\t ---------- State is:  (6, 7)\n",
      "[INFO] [2023-04-14 09:02:01,400] [OpenBox-SPO] Iteration 910, objective value: [29.188624982664777].\n"
     ]
    },
    {
     "name": "stderr",
     "output_type": "stream",
     "text": [
      "\r",
      " 91%|███████████████████████████████████████████████████████████████████▎      | 910/1000 [11:22:14<1:05:39, 43.78s/it]"
     ]
    },
    {
     "name": "stdout",
     "output_type": "stream",
     "text": [
      "\t ----- reward: -29.188624982664777 for f_star and f_minus: 25.81716827732457 , 29.188624982664777\n",
      "\t ---------- State is:  (7, 7)\n",
      "[INFO] [2023-04-14 09:02:01,400] [Advisor] Sample random config. rand_prob=0.100000.\n",
      "[INFO] [2023-04-14 09:02:34,926] [OpenBox-SPO] Iteration 911, objective value: [57.1269987841715].\n"
     ]
    },
    {
     "name": "stderr",
     "output_type": "stream",
     "text": [
      "\r",
      " 91%|███████████████████████████████████████████████████████████████████▍      | 911/1000 [11:22:47<1:00:22, 40.70s/it]"
     ]
    },
    {
     "name": "stdout",
     "output_type": "stream",
     "text": [
      "\t ----- reward: -57.1269987841715 for f_star and f_minus: 25.81716827732457 , 57.1269987841715\n",
      "\t ---------- State is:  (6, 8)\n",
      "[INFO] [2023-04-14 09:03:20,852] [OpenBox-SPO] Iteration 912, objective value: [35.56400882218756].\n"
     ]
    },
    {
     "name": "stderr",
     "output_type": "stream",
     "text": [
      "\r",
      " 91%|███████████████████████████████████████████████████████████████████▍      | 912/1000 [11:23:33<1:01:59, 42.27s/it]"
     ]
    },
    {
     "name": "stdout",
     "output_type": "stream",
     "text": [
      "\t ----- reward: -35.56400882218756 for f_star and f_minus: 25.81716827732457 , 35.56400882218756\n",
      "\t ---------- State is:  (6, 7)\n",
      "[INFO] [2023-04-14 09:04:07,834] [OpenBox-SPO] Iteration 913, objective value: [27.755897589194774].\n"
     ]
    },
    {
     "name": "stderr",
     "output_type": "stream",
     "text": [
      "\r",
      " 91%|███████████████████████████████████████████████████████████████████▌      | 913/1000 [11:24:20<1:03:20, 43.68s/it]"
     ]
    },
    {
     "name": "stdout",
     "output_type": "stream",
     "text": [
      "\t ----- reward: -27.755897589194774 for f_star and f_minus: 25.81716827732457 , 27.755897589194774\n",
      "\t ---------- State is:  (5, 7)\n",
      "[INFO] [2023-04-14 09:04:54,078] [OpenBox-SPO] Iteration 914, objective value: [28.907354473563785].\n"
     ]
    },
    {
     "name": "stderr",
     "output_type": "stream",
     "text": [
      "\r",
      " 91%|███████████████████████████████████████████████████████████████████▋      | 914/1000 [11:25:06<1:03:42, 44.45s/it]"
     ]
    },
    {
     "name": "stdout",
     "output_type": "stream",
     "text": [
      "\t ----- reward: -28.907354473563785 for f_star and f_minus: 25.81716827732457 , 28.907354473563785\n",
      "\t ---------- State is:  (5, 7)\n",
      "[INFO] [2023-04-14 09:05:42,299] [OpenBox-SPO] Iteration 915, objective value: [30.29421944492003].\n"
     ]
    },
    {
     "name": "stderr",
     "output_type": "stream",
     "text": [
      "\r",
      " 92%|███████████████████████████████████████████████████████████████████▋      | 915/1000 [11:25:55<1:04:34, 45.59s/it]"
     ]
    },
    {
     "name": "stdout",
     "output_type": "stream",
     "text": [
      "\t ----- reward: -30.29421944492003 for f_star and f_minus: 25.81716827732457 , 30.29421944492003\n",
      "\t ---------- State is:  (6, 7)\n",
      "[INFO] [2023-04-14 09:06:30,095] [OpenBox-SPO] Iteration 916, objective value: [32.973138714056645].\n"
     ]
    },
    {
     "name": "stderr",
     "output_type": "stream",
     "text": [
      "\r",
      " 92%|███████████████████████████████████████████████████████████████████▊      | 916/1000 [11:26:42<1:04:44, 46.24s/it]"
     ]
    },
    {
     "name": "stdout",
     "output_type": "stream",
     "text": [
      "\t ----- reward: -32.973138714056645 for f_star and f_minus: 25.81716827732457 , 32.973138714056645\n",
      "\t ---------- State is:  (6, 7)\n",
      "[INFO] [2023-04-14 09:07:18,460] [OpenBox-SPO] Iteration 917, objective value: [36.39739165128998].\n"
     ]
    },
    {
     "name": "stderr",
     "output_type": "stream",
     "text": [
      "\r",
      " 92%|███████████████████████████████████████████████████████████████████▊      | 917/1000 [11:27:31<1:04:51, 46.88s/it]"
     ]
    },
    {
     "name": "stdout",
     "output_type": "stream",
     "text": [
      "\t ----- reward: -36.39739165128998 for f_star and f_minus: 25.81716827732457 , 36.39739165128998\n",
      "\t ---------- State is:  (7, 7)\n",
      "[INFO] [2023-04-14 09:07:18,460] [Advisor] Sample random config. rand_prob=0.100000.\n",
      "[INFO] [2023-04-14 09:07:54,572] [OpenBox-SPO] Iteration 918, objective value: [54.02175648247898].\n"
     ]
    },
    {
     "name": "stderr",
     "output_type": "stream",
     "text": [
      "\r",
      " 92%|█████████████████████████████████████████████████████████████████████▊      | 918/1000 [11:28:07<59:39, 43.65s/it]"
     ]
    },
    {
     "name": "stdout",
     "output_type": "stream",
     "text": [
      "\t ----- reward: -54.02175648247898 for f_star and f_minus: 25.81716827732457 , 54.02175648247898\n",
      "\t ---------- State is:  (8, 8)\n",
      "[INFO] [2023-04-14 09:07:54,572] [Advisor] Sample random config. rand_prob=0.100000.\n",
      "[INFO] [2023-04-14 09:08:36,102] [OpenBox-SPO] Iteration 919, objective value: [57.1697968113574].\n"
     ]
    },
    {
     "name": "stderr",
     "output_type": "stream",
     "text": [
      "\r",
      " 92%|█████████████████████████████████████████████████████████████████████▊      | 919/1000 [11:28:48<58:04, 43.01s/it]"
     ]
    },
    {
     "name": "stdout",
     "output_type": "stream",
     "text": [
      "\t ----- reward: -57.1697968113574 for f_star and f_minus: 25.81716827732457 , 57.1697968113574\n",
      "\t ---------- State is:  (9, 9)\n",
      "[INFO] [2023-04-14 09:09:15,920] [OpenBox-SPO] Iteration 920, objective value: [39.87418995973814].\n"
     ]
    },
    {
     "name": "stderr",
     "output_type": "stream",
     "text": [
      "\r",
      " 92%|█████████████████████████████████████████████████████████████████████▉      | 920/1000 [11:29:28<56:04, 42.06s/it]"
     ]
    },
    {
     "name": "stdout",
     "output_type": "stream",
     "text": [
      "\t ----- reward: -39.87418995973814 for f_star and f_minus: 25.81716827732457 , 39.87418995973814\n",
      "\t ---------- State is:  (9, 8)\n",
      "[INFO] [2023-04-14 09:10:04,307] [OpenBox-SPO] Iteration 921, objective value: [29.57232451684743].\n"
     ]
    },
    {
     "name": "stderr",
     "output_type": "stream",
     "text": [
      "\r",
      " 92%|█████████████████████████████████████████████████████████████████████▉      | 921/1000 [11:30:17<57:52, 43.95s/it]"
     ]
    },
    {
     "name": "stdout",
     "output_type": "stream",
     "text": [
      "\t ----- reward: -29.57232451684743 for f_star and f_minus: 25.81716827732457 , 29.57232451684743\n",
      "\t ---------- State is:  (9, 8)\n",
      "[INFO] [2023-04-14 09:10:47,700] [OpenBox-SPO] Iteration 922, objective value: [29.84086521400704].\n"
     ]
    },
    {
     "name": "stderr",
     "output_type": "stream",
     "text": [
      "\r",
      " 92%|██████████████████████████████████████████████████████████████████████      | 922/1000 [11:31:00<56:55, 43.79s/it]"
     ]
    },
    {
     "name": "stdout",
     "output_type": "stream",
     "text": [
      "\t ----- reward: -29.84086521400704 for f_star and f_minus: 25.81716827732457 , 29.84086521400704\n",
      "\t ---------- State is:  (10, 8)\n",
      "[INFO] [2023-04-14 09:11:31,401] [OpenBox-SPO] Iteration 923, objective value: [28.271231470628848].\n"
     ]
    },
    {
     "name": "stderr",
     "output_type": "stream",
     "text": [
      "\r",
      " 92%|██████████████████████████████████████████████████████████████████████▏     | 923/1000 [11:31:44<56:09, 43.76s/it]"
     ]
    },
    {
     "name": "stdout",
     "output_type": "stream",
     "text": [
      "\t ----- reward: -28.271231470628848 for f_star and f_minus: 25.81716827732457 , 28.271231470628848\n",
      "\t ---------- State is:  (10, 8)\n",
      "[INFO] [2023-04-14 09:12:17,865] [OpenBox-SPO] Iteration 924, objective value: [27.58972821946513].\n"
     ]
    },
    {
     "name": "stderr",
     "output_type": "stream",
     "text": [
      "\r",
      " 92%|██████████████████████████████████████████████████████████████████████▏     | 924/1000 [11:32:30<56:27, 44.57s/it]"
     ]
    },
    {
     "name": "stdout",
     "output_type": "stream",
     "text": [
      "\t ----- reward: -27.58972821946513 for f_star and f_minus: 25.81716827732457 , 27.58972821946513\n",
      "\t ---------- State is:  (9, 8)\n",
      "[INFO] [2023-04-14 09:13:04,938] [OpenBox-SPO] Iteration 925, objective value: [31.17663388689573].\n"
     ]
    },
    {
     "name": "stderr",
     "output_type": "stream",
     "text": [
      "\r",
      " 92%|██████████████████████████████████████████████████████████████████████▎     | 925/1000 [11:33:17<56:39, 45.33s/it]"
     ]
    },
    {
     "name": "stdout",
     "output_type": "stream",
     "text": [
      "\t ----- reward: -31.17663388689573 for f_star and f_minus: 25.81716827732457 , 31.17663388689573\n",
      "\t ---------- State is:  (8, 8)\n",
      "[INFO] [2023-04-14 09:13:48,943] [OpenBox-SPO] Iteration 926, objective value: [32.21513805752433].\n"
     ]
    },
    {
     "name": "stderr",
     "output_type": "stream",
     "text": [
      "\r",
      " 93%|██████████████████████████████████████████████████████████████████████▍     | 926/1000 [11:34:01<55:24, 44.93s/it]"
     ]
    },
    {
     "name": "stdout",
     "output_type": "stream",
     "text": [
      "\t ----- reward: -32.21513805752433 for f_star and f_minus: 25.81716827732457 , 32.21513805752433\n",
      "\t ---------- State is:  (8, 8)\n",
      "[INFO] [2023-04-14 09:14:37,725] [OpenBox-SPO] Iteration 927, objective value: [32.81990551504484].\n"
     ]
    },
    {
     "name": "stderr",
     "output_type": "stream",
     "text": [
      "\r",
      " 93%|██████████████████████████████████████████████████████████████████████▍     | 927/1000 [11:34:50<56:04, 46.08s/it]"
     ]
    },
    {
     "name": "stdout",
     "output_type": "stream",
     "text": [
      "\t ----- reward: -32.81990551504484 for f_star and f_minus: 25.81716827732457 , 32.81990551504484\n",
      "\t ---------- State is:  (7, 8)\n",
      "[INFO] [2023-04-14 09:15:20,537] [OpenBox-SPO] Iteration 928, objective value: [28.416228587953853].\n"
     ]
    },
    {
     "name": "stderr",
     "output_type": "stream",
     "text": [
      "\r",
      " 93%|██████████████████████████████████████████████████████████████████████▌     | 928/1000 [11:35:33<54:07, 45.10s/it]"
     ]
    },
    {
     "name": "stdout",
     "output_type": "stream",
     "text": [
      "\t ----- reward: -28.416228587953853 for f_star and f_minus: 25.81716827732457 , 28.416228587953853\n",
      "\t ---------- State is:  (7, 8)\n",
      "[INFO] [2023-04-14 09:16:04,712] [OpenBox-SPO] Iteration 929, objective value: [29.244836487275677].\n"
     ]
    },
    {
     "name": "stderr",
     "output_type": "stream",
     "text": [
      "\r",
      " 93%|██████████████████████████████████████████████████████████████████████▌     | 929/1000 [11:36:17<53:02, 44.82s/it]"
     ]
    },
    {
     "name": "stdout",
     "output_type": "stream",
     "text": [
      "\t ----- reward: -29.244836487275677 for f_star and f_minus: 25.81716827732457 , 29.244836487275677\n",
      "\t ---------- State is:  (8, 8)\n",
      "[INFO] [2023-04-14 09:16:47,230] [OpenBox-SPO] Iteration 930, objective value: [30.474289914435303].\n"
     ]
    },
    {
     "name": "stderr",
     "output_type": "stream",
     "text": [
      "\r",
      " 93%|██████████████████████████████████████████████████████████████████████▋     | 930/1000 [11:37:00<51:29, 44.13s/it]"
     ]
    },
    {
     "name": "stdout",
     "output_type": "stream",
     "text": [
      "\t ----- reward: -30.474289914435303 for f_star and f_minus: 25.81716827732457 , 30.474289914435303\n",
      "\t ---------- State is:  (8, 7)\n",
      "[INFO] [2023-04-14 09:17:27,925] [OpenBox-SPO] Iteration 931, objective value: [33.523600373640534].\n"
     ]
    },
    {
     "name": "stderr",
     "output_type": "stream",
     "text": [
      "\r",
      " 93%|██████████████████████████████████████████████████████████████████████▊     | 931/1000 [11:37:40<49:34, 43.11s/it]"
     ]
    },
    {
     "name": "stdout",
     "output_type": "stream",
     "text": [
      "\t ----- reward: -33.523600373640534 for f_star and f_minus: 25.81716827732457 , 33.523600373640534\n",
      "\t ---------- State is:  (9, 7)\n",
      "[INFO] [2023-04-14 09:18:14,093] [OpenBox-SPO] Iteration 932, objective value: [30.12224037980505].\n"
     ]
    },
    {
     "name": "stderr",
     "output_type": "stream",
     "text": [
      "\r",
      " 93%|██████████████████████████████████████████████████████████████████████▊     | 932/1000 [11:38:26<49:53, 44.02s/it]"
     ]
    },
    {
     "name": "stdout",
     "output_type": "stream",
     "text": [
      "\t ----- reward: -30.12224037980505 for f_star and f_minus: 25.81716827732457 , 30.12224037980505\n",
      "\t ---------- State is:  (8, 7)\n",
      "[INFO] [2023-04-14 09:18:58,129] [OpenBox-SPO] Iteration 933, objective value: [28.639168707113612].\n"
     ]
    },
    {
     "name": "stderr",
     "output_type": "stream",
     "text": [
      "\r",
      " 93%|██████████████████████████████████████████████████████████████████████▉     | 933/1000 [11:39:10<49:09, 44.02s/it]"
     ]
    },
    {
     "name": "stdout",
     "output_type": "stream",
     "text": [
      "\t ----- reward: -28.639168707113612 for f_star and f_minus: 25.81716827732457 , 28.639168707113612\n",
      "\t ---------- State is:  (8, 7)\n",
      "[INFO] [2023-04-14 09:19:41,978] [OpenBox-SPO] Iteration 934, objective value: [30.227333545520253].\n"
     ]
    },
    {
     "name": "stderr",
     "output_type": "stream",
     "text": [
      "\r",
      " 93%|██████████████████████████████████████████████████████████████████████▉     | 934/1000 [11:39:54<48:22, 43.98s/it]"
     ]
    },
    {
     "name": "stdout",
     "output_type": "stream",
     "text": [
      "\t ----- reward: -30.227333545520253 for f_star and f_minus: 25.81716827732457 , 30.227333545520253\n",
      "\t ---------- State is:  (9, 7)\n",
      "[INFO] [2023-04-14 09:20:24,623] [OpenBox-SPO] Iteration 935, objective value: [33.566541986142866].\n"
     ]
    },
    {
     "name": "stderr",
     "output_type": "stream",
     "text": [
      "\r",
      " 94%|███████████████████████████████████████████████████████████████████████     | 935/1000 [11:40:37<47:12, 43.58s/it]"
     ]
    },
    {
     "name": "stdout",
     "output_type": "stream",
     "text": [
      "\t ----- reward: -33.566541986142866 for f_star and f_minus: 25.81716827732457 , 33.566541986142866\n",
      "\t ---------- State is:  (9, 7)\n",
      "[INFO] [2023-04-14 09:21:12,520] [OpenBox-SPO] Iteration 936, objective value: [35.37503493755143].\n"
     ]
    },
    {
     "name": "stderr",
     "output_type": "stream",
     "text": [
      "\r",
      " 94%|███████████████████████████████████████████████████████████████████████▏    | 936/1000 [11:41:25<47:51, 44.87s/it]"
     ]
    },
    {
     "name": "stdout",
     "output_type": "stream",
     "text": [
      "\t ----- reward: -35.37503493755143 for f_star and f_minus: 25.81716827732457 , 35.37503493755143\n",
      "\t ---------- State is:  (8, 7)\n",
      "[INFO] [2023-04-14 09:22:03,601] [OpenBox-SPO] Iteration 937, objective value: [27.447883454421017].\n"
     ]
    },
    {
     "name": "stderr",
     "output_type": "stream",
     "text": [
      "\r",
      " 94%|███████████████████████████████████████████████████████████████████████▏    | 937/1000 [11:42:16<49:04, 46.73s/it]"
     ]
    },
    {
     "name": "stdout",
     "output_type": "stream",
     "text": [
      "\t ----- reward: -27.447883454421017 for f_star and f_minus: 25.81716827732457 , 27.447883454421017\n",
      "\t ---------- State is:  (7, 7)\n",
      "[INFO] [2023-04-14 09:22:45,768] [OpenBox-SPO] Iteration 938, objective value: [33.368090418536895].\n"
     ]
    },
    {
     "name": "stderr",
     "output_type": "stream",
     "text": [
      "\r",
      " 94%|███████████████████████████████████████████████████████████████████████▎    | 938/1000 [11:42:58<46:52, 45.36s/it]"
     ]
    },
    {
     "name": "stdout",
     "output_type": "stream",
     "text": [
      "\t ----- reward: -33.368090418536895 for f_star and f_minus: 25.81716827732457 , 33.368090418536895\n",
      "\t ---------- State is:  (7, 7)\n",
      "[INFO] [2023-04-14 09:23:28,470] [OpenBox-SPO] Iteration 939, objective value: [36.50181854079737].\n"
     ]
    },
    {
     "name": "stderr",
     "output_type": "stream",
     "text": [
      "\r",
      " 94%|███████████████████████████████████████████████████████████████████████▎    | 939/1000 [11:43:41<45:18, 44.56s/it]"
     ]
    },
    {
     "name": "stdout",
     "output_type": "stream",
     "text": [
      "\t ----- reward: -36.50181854079737 for f_star and f_minus: 25.81716827732457 , 36.50181854079737\n",
      "\t ---------- State is:  (8, 8)\n",
      "[INFO] [2023-04-14 09:24:14,777] [OpenBox-SPO] Iteration 940, objective value: [26.56975690406314].\n"
     ]
    },
    {
     "name": "stderr",
     "output_type": "stream",
     "text": [
      "\r",
      " 94%|███████████████████████████████████████████████████████████████████████▍    | 940/1000 [11:44:27<45:05, 45.09s/it]"
     ]
    },
    {
     "name": "stdout",
     "output_type": "stream",
     "text": [
      "\t ----- reward: -26.56975690406314 for f_star and f_minus: 25.81716827732457 , 26.56975690406314\n",
      "\t ---------- State is:  (7, 8)\n",
      "[INFO] [2023-04-14 09:25:01,654] [OpenBox-SPO] Iteration 941, objective value: [26.924348206704195].\n"
     ]
    },
    {
     "name": "stderr",
     "output_type": "stream",
     "text": [
      "\r",
      " 94%|███████████████████████████████████████████████████████████████████████▌    | 941/1000 [11:45:14<44:51, 45.62s/it]"
     ]
    },
    {
     "name": "stdout",
     "output_type": "stream",
     "text": [
      "\t ----- reward: -26.924348206704195 for f_star and f_minus: 25.81716827732457 , 26.924348206704195\n",
      "\t ---------- State is:  (7, 7)\n",
      "[INFO] [2023-04-14 09:25:47,432] [OpenBox-SPO] Iteration 942, objective value: [30.303205854653626].\n"
     ]
    },
    {
     "name": "stderr",
     "output_type": "stream",
     "text": [
      "\r",
      " 94%|███████████████████████████████████████████████████████████████████████▌    | 942/1000 [11:46:00<44:08, 45.67s/it]"
     ]
    },
    {
     "name": "stdout",
     "output_type": "stream",
     "text": [
      "\t ----- reward: -30.303205854653626 for f_star and f_minus: 25.81716827732457 , 30.303205854653626\n",
      "\t ---------- State is:  (7, 6)\n",
      "[INFO] [2023-04-14 09:26:30,011] [OpenBox-SPO] Iteration 943, objective value: [29.586947309521435].\n"
     ]
    },
    {
     "name": "stderr",
     "output_type": "stream",
     "text": [
      "\r",
      " 94%|███████████████████████████████████████████████████████████████████████▋    | 943/1000 [11:46:42<42:30, 44.74s/it]"
     ]
    },
    {
     "name": "stdout",
     "output_type": "stream",
     "text": [
      "\t ----- reward: -29.586947309521435 for f_star and f_minus: 25.81716827732457 , 29.586947309521435\n",
      "\t ---------- State is:  (6, 6)\n",
      "[INFO] [2023-04-14 09:27:10,420] [OpenBox-SPO] Iteration 944, objective value: [40.06471542403038].\n"
     ]
    },
    {
     "name": "stderr",
     "output_type": "stream",
     "text": [
      "\r",
      " 94%|███████████████████████████████████████████████████████████████████████▋    | 944/1000 [11:47:23<40:32, 43.44s/it]"
     ]
    },
    {
     "name": "stdout",
     "output_type": "stream",
     "text": [
      "\t ----- reward: -40.06471542403038 for f_star and f_minus: 25.81716827732457 , 40.06471542403038\n",
      "\t ---------- State is:  (7, 7)\n",
      "[INFO] [2023-04-14 09:27:59,117] [OpenBox-SPO] Iteration 945, objective value: [35.38143974841644].\n"
     ]
    },
    {
     "name": "stderr",
     "output_type": "stream",
     "text": [
      "\r",
      " 94%|███████████████████████████████████████████████████████████████████████▊    | 945/1000 [11:48:11<41:16, 45.02s/it]"
     ]
    },
    {
     "name": "stdout",
     "output_type": "stream",
     "text": [
      "\t ----- reward: -35.38143974841644 for f_star and f_minus: 25.81716827732457 , 35.38143974841644\n",
      "\t ---------- State is:  (6, 7)\n",
      "[INFO] [2023-04-14 09:28:48,470] [OpenBox-SPO] Iteration 946, objective value: [28.59760116856218].\n"
     ]
    },
    {
     "name": "stderr",
     "output_type": "stream",
     "text": [
      "\r",
      " 95%|███████████████████████████████████████████████████████████████████████▉    | 946/1000 [11:49:01<41:41, 46.32s/it]"
     ]
    },
    {
     "name": "stdout",
     "output_type": "stream",
     "text": [
      "\t ----- reward: -28.59760116856218 for f_star and f_minus: 25.81716827732457 , 28.59760116856218\n",
      "\t ---------- State is:  (5, 7)\n",
      "[INFO] [2023-04-14 09:29:31,315] [OpenBox-SPO] Iteration 947, objective value: [33.07343876901599].\n"
     ]
    },
    {
     "name": "stderr",
     "output_type": "stream",
     "text": [
      "\r",
      " 95%|███████████████████████████████████████████████████████████████████████▉    | 947/1000 [11:49:44<39:59, 45.28s/it]"
     ]
    },
    {
     "name": "stdout",
     "output_type": "stream",
     "text": [
      "\t ----- reward: -33.07343876901599 for f_star and f_minus: 25.81716827732457 , 33.07343876901599\n",
      "\t ---------- State is:  (5, 7)\n",
      "[INFO] [2023-04-14 09:30:17,496] [OpenBox-SPO] Iteration 948, objective value: [31.840393668374972].\n"
     ]
    },
    {
     "name": "stderr",
     "output_type": "stream",
     "text": [
      "\r",
      " 95%|████████████████████████████████████████████████████████████████████████    | 948/1000 [11:50:30<39:28, 45.55s/it]"
     ]
    },
    {
     "name": "stdout",
     "output_type": "stream",
     "text": [
      "\t ----- reward: -31.840393668374972 for f_star and f_minus: 25.81716827732457 , 31.840393668374972\n",
      "\t ---------- State is:  (4, 6)\n",
      "[INFO] [2023-04-14 09:31:00,510] [OpenBox-SPO] Iteration 949, objective value: [29.458650551249008].\n"
     ]
    },
    {
     "name": "stderr",
     "output_type": "stream",
     "text": [
      "\r",
      " 95%|████████████████████████████████████████████████████████████████████████    | 949/1000 [11:51:13<38:04, 44.79s/it]"
     ]
    },
    {
     "name": "stdout",
     "output_type": "stream",
     "text": [
      "\t ----- reward: -29.458650551249008 for f_star and f_minus: 25.81716827732457 , 29.458650551249008\n",
      "\t ---------- State is:  (3, 5)\n",
      "[INFO] [2023-04-14 09:31:45,702] [OpenBox-SPO] Iteration 950, objective value: [33.80246735089408].\n"
     ]
    },
    {
     "name": "stderr",
     "output_type": "stream",
     "text": [
      "\r",
      " 95%|████████████████████████████████████████████████████████████████████████▏   | 950/1000 [11:51:58<37:25, 44.91s/it]"
     ]
    },
    {
     "name": "stdout",
     "output_type": "stream",
     "text": [
      "\t ----- reward: -33.80246735089408 for f_star and f_minus: 25.81716827732457 , 33.80246735089408\n",
      "\t ---------- State is:  (3, 5)\n",
      "[INFO] [2023-04-14 09:31:45,702] [Advisor] Sample random config. rand_prob=0.100000.\n",
      "[INFO] [2023-04-14 09:32:22,504] [OpenBox-SPO] Iteration 951, objective value: [57.54033713539003].\n"
     ]
    },
    {
     "name": "stderr",
     "output_type": "stream",
     "text": [
      "\r",
      " 95%|████████████████████████████████████████████████████████████████████████▎   | 951/1000 [11:52:35<34:41, 42.48s/it]"
     ]
    },
    {
     "name": "stdout",
     "output_type": "stream",
     "text": [
      "\t ----- reward: -57.54033713539003 for f_star and f_minus: 25.81716827732457 , 57.54033713539003\n",
      "\t ---------- State is:  (4, 6)\n",
      "[INFO] [2023-04-14 09:32:22,504] [Advisor] Sample random config. rand_prob=0.100000.\n",
      "[INFO] [2023-04-14 09:33:00,552] [OpenBox-SPO] Iteration 952, objective value: [50.598994013173886].\n"
     ]
    },
    {
     "name": "stderr",
     "output_type": "stream",
     "text": [
      "\r",
      " 95%|████████████████████████████████████████████████████████████████████████▎   | 952/1000 [11:53:13<32:55, 41.15s/it]"
     ]
    },
    {
     "name": "stdout",
     "output_type": "stream",
     "text": [
      "\t ----- reward: -50.598994013173886 for f_star and f_minus: 25.81716827732457 , 50.598994013173886\n",
      "\t ---------- State is:  (4, 6)\n",
      "[INFO] [2023-04-14 09:33:48,939] [OpenBox-SPO] Iteration 953, objective value: [36.89169494210742].\n"
     ]
    },
    {
     "name": "stderr",
     "output_type": "stream",
     "text": [
      "\r",
      " 95%|████████████████████████████████████████████████████████████████████████▍   | 953/1000 [11:54:01<33:56, 43.32s/it]"
     ]
    },
    {
     "name": "stdout",
     "output_type": "stream",
     "text": [
      "\t ----- reward: -36.89169494210742 for f_star and f_minus: 25.81716827732457 , 36.89169494210742\n",
      "\t ---------- State is:  (5, 7)\n",
      "[INFO] [2023-04-14 09:34:31,359] [OpenBox-SPO] Iteration 954, objective value: [29.71452809777908].\n"
     ]
    },
    {
     "name": "stderr",
     "output_type": "stream",
     "text": [
      "\r",
      " 95%|████████████████████████████████████████████████████████████████████████▌   | 954/1000 [11:54:44<33:00, 43.05s/it]"
     ]
    },
    {
     "name": "stdout",
     "output_type": "stream",
     "text": [
      "\t ----- reward: -29.71452809777908 for f_star and f_minus: 25.81716827732457 , 29.71452809777908\n",
      "\t ---------- State is:  (6, 7)\n",
      "[INFO] [2023-04-14 09:35:13,824] [OpenBox-SPO] Iteration 955, objective value: [27.76600481349324].\n"
     ]
    },
    {
     "name": "stderr",
     "output_type": "stream",
     "text": [
      "\r",
      " 96%|████████████████████████████████████████████████████████████████████████▌   | 955/1000 [11:55:26<32:09, 42.87s/it]"
     ]
    },
    {
     "name": "stdout",
     "output_type": "stream",
     "text": [
      "\t ----- reward: -27.76600481349324 for f_star and f_minus: 25.81716827732457 , 27.76600481349324\n",
      "\t ---------- State is:  (6, 7)\n",
      "[INFO] [2023-04-14 09:35:54,735] [OpenBox-SPO] Iteration 956, objective value: [31.62587014543017].\n"
     ]
    },
    {
     "name": "stderr",
     "output_type": "stream",
     "text": [
      "\r",
      " 96%|████████████████████████████████████████████████████████████████████████▋   | 956/1000 [11:56:07<31:00, 42.29s/it]"
     ]
    },
    {
     "name": "stdout",
     "output_type": "stream",
     "text": [
      "\t ----- reward: -31.62587014543017 for f_star and f_minus: 25.81716827732457 , 31.62587014543017\n",
      "\t ---------- State is:  (5, 7)\n",
      "[INFO] [2023-04-14 09:36:45,802] [OpenBox-SPO] Iteration 957, objective value: [31.99112150308754].\n"
     ]
    },
    {
     "name": "stderr",
     "output_type": "stream",
     "text": [
      "\r",
      " 96%|████████████████████████████████████████████████████████████████████████▋   | 957/1000 [11:56:58<32:11, 44.92s/it]"
     ]
    },
    {
     "name": "stdout",
     "output_type": "stream",
     "text": [
      "\t ----- reward: -31.99112150308754 for f_star and f_minus: 25.81716827732457 , 31.99112150308754\n",
      "\t ---------- State is:  (5, 7)\n",
      "[INFO] [2023-04-14 09:37:31,159] [OpenBox-SPO] Iteration 958, objective value: [30.735911796695873].\n"
     ]
    },
    {
     "name": "stderr",
     "output_type": "stream",
     "text": [
      "\r",
      " 96%|████████████████████████████████████████████████████████████████████████▊   | 958/1000 [11:57:43<31:32, 45.05s/it]"
     ]
    },
    {
     "name": "stdout",
     "output_type": "stream",
     "text": [
      "\t ----- reward: -30.735911796695873 for f_star and f_minus: 25.81716827732457 , 30.735911796695873\n",
      "\t ---------- State is:  (4, 7)\n",
      "[INFO] [2023-04-14 09:37:31,159] [Advisor] Sample random config. rand_prob=0.100000.\n",
      "[INFO] [2023-04-14 09:37:56,541] [OpenBox-SPO] Iteration 959, objective value: [66.34401128069405].\n"
     ]
    },
    {
     "name": "stderr",
     "output_type": "stream",
     "text": [
      "\r",
      " 96%|████████████████████████████████████████████████████████████████████████▉   | 959/1000 [11:58:09<26:45, 39.15s/it]"
     ]
    },
    {
     "name": "stdout",
     "output_type": "stream",
     "text": [
      "\t ----- reward: -66.34401128069405 for f_star and f_minus: 25.81716827732457 , 66.34401128069405\n",
      "\t ---------- State is:  (4, 8)\n",
      "[INFO] [2023-04-14 09:38:38,478] [OpenBox-SPO] Iteration 960, objective value: [32.27233756581532].\n"
     ]
    },
    {
     "name": "stderr",
     "output_type": "stream",
     "text": [
      "\r",
      " 96%|████████████████████████████████████████████████████████████████████████▉   | 960/1000 [11:58:51<26:39, 39.99s/it]"
     ]
    },
    {
     "name": "stdout",
     "output_type": "stream",
     "text": [
      "\t ----- reward: -32.27233756581532 for f_star and f_minus: 25.81716827732457 , 32.27233756581532\n",
      "\t ---------- State is:  (3, 8)\n",
      "[INFO] [2023-04-14 09:39:22,394] [OpenBox-SPO] Iteration 961, objective value: [28.94457486680595].\n"
     ]
    },
    {
     "name": "stderr",
     "output_type": "stream",
     "text": [
      "\r",
      " 96%|█████████████████████████████████████████████████████████████████████████   | 961/1000 [11:59:35<26:45, 41.17s/it]"
     ]
    },
    {
     "name": "stdout",
     "output_type": "stream",
     "text": [
      "\t ----- reward: -28.94457486680595 for f_star and f_minus: 25.81716827732457 , 28.94457486680595\n",
      "\t ---------- State is:  (4, 8)\n",
      "[INFO] [2023-04-14 09:40:01,209] [OpenBox-SPO] Iteration 962, objective value: [36.65151682582683].\n"
     ]
    },
    {
     "name": "stderr",
     "output_type": "stream",
     "text": [
      "\r",
      " 96%|█████████████████████████████████████████████████████████████████████████   | 962/1000 [12:00:14<25:37, 40.46s/it]"
     ]
    },
    {
     "name": "stdout",
     "output_type": "stream",
     "text": [
      "\t ----- reward: -36.65151682582683 for f_star and f_minus: 25.81716827732457 , 36.65151682582683\n",
      "\t ---------- State is:  (4, 8)\n",
      "[INFO] [2023-04-14 09:40:52,104] [OpenBox-SPO] Iteration 963, objective value: [34.835983045818054].\n"
     ]
    },
    {
     "name": "stderr",
     "output_type": "stream",
     "text": [
      "\r",
      " 96%|█████████████████████████████████████████████████████████████████████████▏  | 963/1000 [12:01:04<26:52, 43.59s/it]"
     ]
    },
    {
     "name": "stdout",
     "output_type": "stream",
     "text": [
      "\t ----- reward: -34.835983045818054 for f_star and f_minus: 25.81716827732457 , 34.835983045818054\n",
      "\t ---------- State is:  (4, 8)\n",
      "[INFO] [2023-04-14 09:41:35,161] [OpenBox-SPO] Iteration 964, objective value: [31.755743029527252].\n"
     ]
    },
    {
     "name": "stderr",
     "output_type": "stream",
     "text": [
      "\r",
      " 96%|█████████████████████████████████████████████████████████████████████████▎  | 964/1000 [12:01:47<26:03, 43.43s/it]"
     ]
    },
    {
     "name": "stdout",
     "output_type": "stream",
     "text": [
      "\t ----- reward: -31.755743029527252 for f_star and f_minus: 25.81716827732457 , 31.755743029527252\n",
      "\t ---------- State is:  (4, 8)\n",
      "[INFO] [2023-04-14 09:42:14,722] [OpenBox-SPO] Iteration 965, objective value: [34.566480865814526].\n"
     ]
    },
    {
     "name": "stderr",
     "output_type": "stream",
     "text": [
      "\r",
      " 96%|█████████████████████████████████████████████████████████████████████████▎  | 965/1000 [12:02:27<24:39, 42.27s/it]"
     ]
    },
    {
     "name": "stdout",
     "output_type": "stream",
     "text": [
      "\t ----- reward: -34.566480865814526 for f_star and f_minus: 25.81716827732457 , 34.566480865814526\n",
      "\t ---------- State is:  (4, 8)\n",
      "[INFO] [2023-04-14 09:42:56,077] [OpenBox-SPO] Iteration 966, objective value: [33.41356727146277].\n"
     ]
    },
    {
     "name": "stderr",
     "output_type": "stream",
     "text": [
      "\r",
      " 97%|█████████████████████████████████████████████████████████████████████████▍  | 966/1000 [12:03:08<23:47, 42.00s/it]"
     ]
    },
    {
     "name": "stdout",
     "output_type": "stream",
     "text": [
      "\t ----- reward: -33.41356727146277 for f_star and f_minus: 25.81716827732457 , 33.41356727146277\n",
      "\t ---------- State is:  (4, 8)\n",
      "[INFO] [2023-04-14 09:43:36,551] [OpenBox-SPO] Iteration 967, objective value: [33.77051501544372].\n"
     ]
    },
    {
     "name": "stderr",
     "output_type": "stream",
     "text": [
      "\r",
      " 97%|█████████████████████████████████████████████████████████████████████████▍  | 967/1000 [12:03:49<22:50, 41.54s/it]"
     ]
    },
    {
     "name": "stdout",
     "output_type": "stream",
     "text": [
      "\t ----- reward: -33.77051501544372 for f_star and f_minus: 25.81716827732457 , 33.77051501544372\n",
      "\t ---------- State is:  (4, 9)\n",
      "[INFO] [2023-04-14 09:44:20,880] [OpenBox-SPO] Iteration 968, objective value: [40.51502208272376].\n"
     ]
    },
    {
     "name": "stderr",
     "output_type": "stream",
     "text": [
      "\r",
      " 97%|█████████████████████████████████████████████████████████████████████████▌  | 968/1000 [12:04:33<22:36, 42.38s/it]"
     ]
    },
    {
     "name": "stdout",
     "output_type": "stream",
     "text": [
      "\t ----- reward: -40.51502208272376 for f_star and f_minus: 25.81716827732457 , 40.51502208272376\n",
      "\t ---------- State is:  (5, 9)\n",
      "[INFO] [2023-04-14 09:45:08,436] [OpenBox-SPO] Iteration 969, objective value: [33.96839067212707].\n"
     ]
    },
    {
     "name": "stderr",
     "output_type": "stream",
     "text": [
      "\r",
      " 97%|█████████████████████████████████████████████████████████████████████████▋  | 969/1000 [12:05:21<22:41, 43.93s/it]"
     ]
    },
    {
     "name": "stdout",
     "output_type": "stream",
     "text": [
      "\t ----- reward: -33.96839067212707 for f_star and f_minus: 25.81716827732457 , 33.96839067212707\n",
      "\t ---------- State is:  (5, 9)\n",
      "[INFO] [2023-04-14 09:45:52,355] [OpenBox-SPO] Iteration 970, objective value: [32.78613803931289].\n"
     ]
    },
    {
     "name": "stderr",
     "output_type": "stream",
     "text": [
      "\r",
      " 97%|█████████████████████████████████████████████████████████████████████████▋  | 970/1000 [12:06:05<21:57, 43.93s/it]"
     ]
    },
    {
     "name": "stdout",
     "output_type": "stream",
     "text": [
      "\t ----- reward: -32.78613803931289 for f_star and f_minus: 25.81716827732457 , 32.78613803931289\n",
      "\t ---------- State is:  (4, 9)\n",
      "[INFO] [2023-04-14 09:46:37,478] [OpenBox-SPO] Iteration 971, objective value: [32.280306349453184].\n"
     ]
    },
    {
     "name": "stderr",
     "output_type": "stream",
     "text": [
      "\r",
      " 97%|█████████████████████████████████████████████████████████████████████████▊  | 971/1000 [12:06:50<21:24, 44.29s/it]"
     ]
    },
    {
     "name": "stdout",
     "output_type": "stream",
     "text": [
      "\t ----- reward: -32.280306349453184 for f_star and f_minus: 25.81716827732457 , 32.280306349453184\n",
      "\t ---------- State is:  (4, 9)\n",
      "[INFO] [2023-04-14 09:47:18,328] [OpenBox-SPO] Iteration 972, objective value: [44.015266834672154].\n"
     ]
    },
    {
     "name": "stderr",
     "output_type": "stream",
     "text": [
      "\r",
      " 97%|█████████████████████████████████████████████████████████████████████████▊  | 972/1000 [12:07:31<20:11, 43.25s/it]"
     ]
    },
    {
     "name": "stdout",
     "output_type": "stream",
     "text": [
      "\t ----- reward: -44.015266834672154 for f_star and f_minus: 25.81716827732457 , 44.015266834672154\n",
      "\t ---------- State is:  (3, 10)\n",
      "[INFO] [2023-04-14 09:47:58,408] [OpenBox-SPO] Iteration 973, objective value: [38.41676482029462].\n"
     ]
    },
    {
     "name": "stderr",
     "output_type": "stream",
     "text": [
      "\r",
      " 97%|█████████████████████████████████████████████████████████████████████████▉  | 973/1000 [12:08:11<19:02, 42.30s/it]"
     ]
    },
    {
     "name": "stdout",
     "output_type": "stream",
     "text": [
      "\t ----- reward: -38.41676482029462 for f_star and f_minus: 25.81716827732457 , 38.41676482029462\n",
      "\t ---------- State is:  (2, 10)\n",
      "[INFO] [2023-04-14 09:48:41,659] [OpenBox-SPO] Iteration 974, objective value: [34.29980383589218].\n"
     ]
    },
    {
     "name": "stderr",
     "output_type": "stream",
     "text": [
      "\r",
      " 97%|██████████████████████████████████████████████████████████████████████████  | 974/1000 [12:08:54<18:27, 42.59s/it]"
     ]
    },
    {
     "name": "stdout",
     "output_type": "stream",
     "text": [
      "\t ----- reward: -34.29980383589218 for f_star and f_minus: 25.81716827732457 , 34.29980383589218\n",
      "\t ---------- State is:  (2, 10)\n",
      "[INFO] [2023-04-14 09:49:20,941] [OpenBox-SPO] Iteration 975, objective value: [33.904387799003814].\n"
     ]
    },
    {
     "name": "stderr",
     "output_type": "stream",
     "text": [
      "\r",
      " 98%|██████████████████████████████████████████████████████████████████████████  | 975/1000 [12:09:33<17:19, 41.60s/it]"
     ]
    },
    {
     "name": "stdout",
     "output_type": "stream",
     "text": [
      "\t ----- reward: -33.904387799003814 for f_star and f_minus: 25.81716827732457 , 33.904387799003814\n",
      "\t ---------- State is:  (1, 10)\n",
      "[INFO] [2023-04-14 09:50:08,741] [OpenBox-SPO] Iteration 976, objective value: [35.65117250899566].\n"
     ]
    },
    {
     "name": "stderr",
     "output_type": "stream",
     "text": [
      "\r",
      " 98%|██████████████████████████████████████████████████████████████████████████▏ | 976/1000 [12:10:21<17:22, 43.46s/it]"
     ]
    },
    {
     "name": "stdout",
     "output_type": "stream",
     "text": [
      "\t ----- reward: -35.65117250899566 for f_star and f_minus: 25.81716827732457 , 35.65117250899566\n",
      "\t ---------- State is:  (1, 10)\n",
      "[INFO] [2023-04-14 09:50:53,231] [OpenBox-SPO] Iteration 977, objective value: [39.48261614806141].\n"
     ]
    },
    {
     "name": "stderr",
     "output_type": "stream",
     "text": [
      "\r",
      " 98%|██████████████████████████████████████████████████████████████████████████▎ | 977/1000 [12:11:06<16:46, 43.77s/it]"
     ]
    },
    {
     "name": "stdout",
     "output_type": "stream",
     "text": [
      "\t ----- reward: -39.48261614806141 for f_star and f_minus: 25.81716827732457 , 39.48261614806141\n",
      "\t ---------- State is:  (0, 10)\n",
      "[INFO] [2023-04-14 09:51:38,161] [OpenBox-SPO] Iteration 978, objective value: [28.087897235695664].\n"
     ]
    },
    {
     "name": "stderr",
     "output_type": "stream",
     "text": [
      "\r",
      " 98%|██████████████████████████████████████████████████████████████████████████▎ | 978/1000 [12:11:50<16:10, 44.12s/it]"
     ]
    },
    {
     "name": "stdout",
     "output_type": "stream",
     "text": [
      "\t ----- reward: -28.087897235695664 for f_star and f_minus: 25.81716827732457 , 28.087897235695664\n",
      "\t ---------- State is:  (0, 10)\n",
      "[INFO] [2023-04-14 09:52:22,353] [OpenBox-SPO] Iteration 979, objective value: [28.69708030372888].\n"
     ]
    },
    {
     "name": "stderr",
     "output_type": "stream",
     "text": [
      "\r",
      " 98%|██████████████████████████████████████████████████████████████████████████▍ | 979/1000 [12:12:35<15:26, 44.14s/it]"
     ]
    },
    {
     "name": "stdout",
     "output_type": "stream",
     "text": [
      "\t ----- reward: -28.69708030372888 for f_star and f_minus: 25.81716827732457 , 28.69708030372888\n",
      "\t ---------- State is:  (0, 10)\n",
      "[INFO] [2023-04-14 09:53:03,408] [OpenBox-SPO] Iteration 980, objective value: [35.901188021230865].\n"
     ]
    },
    {
     "name": "stderr",
     "output_type": "stream",
     "text": [
      "\r",
      " 98%|██████████████████████████████████████████████████████████████████████████▍ | 980/1000 [12:13:16<14:24, 43.21s/it]"
     ]
    },
    {
     "name": "stdout",
     "output_type": "stream",
     "text": [
      "\t ----- reward: -35.901188021230865 for f_star and f_minus: 25.81716827732457 , 35.901188021230865\n",
      "\t ---------- State is:  (1, 10)\n",
      "[INFO] [2023-04-14 09:53:43,512] [OpenBox-SPO] Iteration 981, objective value: [35.81630894763343].\n"
     ]
    },
    {
     "name": "stderr",
     "output_type": "stream",
     "text": [
      "\r",
      " 98%|██████████████████████████████████████████████████████████████████████████▌ | 981/1000 [12:13:56<13:23, 42.28s/it]"
     ]
    },
    {
     "name": "stdout",
     "output_type": "stream",
     "text": [
      "\t ----- reward: -35.81630894763343 for f_star and f_minus: 25.81716827732457 , 35.81630894763343\n",
      "\t ---------- State is:  (2, 9)\n",
      "[INFO] [2023-04-14 09:54:30,624] [OpenBox-SPO] Iteration 982, objective value: [32.41431723265315].\n"
     ]
    },
    {
     "name": "stderr",
     "output_type": "stream",
     "text": [
      "\r",
      " 98%|██████████████████████████████████████████████████████████████████████████▋ | 982/1000 [12:14:43<13:07, 43.73s/it]"
     ]
    },
    {
     "name": "stdout",
     "output_type": "stream",
     "text": [
      "\t ----- reward: -32.41431723265315 for f_star and f_minus: 25.81716827732457 , 32.41431723265315\n",
      "\t ---------- State is:  (2, 9)\n",
      "[INFO] [2023-04-14 09:55:17,452] [OpenBox-SPO] Iteration 983, objective value: [34.40459785044354].\n"
     ]
    },
    {
     "name": "stderr",
     "output_type": "stream",
     "text": [
      "\r",
      " 98%|██████████████████████████████████████████████████████████████████████████▋ | 983/1000 [12:15:30<12:39, 44.66s/it]"
     ]
    },
    {
     "name": "stdout",
     "output_type": "stream",
     "text": [
      "\t ----- reward: -34.40459785044354 for f_star and f_minus: 25.81716827732457 , 34.40459785044354\n",
      "\t ---------- State is:  (2, 9)\n",
      "[INFO] [2023-04-14 09:55:59,462] [OpenBox-SPO] Iteration 984, objective value: [30.522561295123538].\n"
     ]
    },
    {
     "name": "stderr",
     "output_type": "stream",
     "text": [
      "\r",
      " 98%|██████████████████████████████████████████████████████████████████████████▊ | 984/1000 [12:16:12<11:41, 43.86s/it]"
     ]
    },
    {
     "name": "stdout",
     "output_type": "stream",
     "text": [
      "\t ----- reward: -30.522561295123538 for f_star and f_minus: 25.81716827732457 , 30.522561295123538\n",
      "\t ---------- State is:  (1, 9)\n",
      "[INFO] [2023-04-14 09:56:42,303] [OpenBox-SPO] Iteration 985, objective value: [40.15292968985869].\n"
     ]
    },
    {
     "name": "stderr",
     "output_type": "stream",
     "text": [
      "\r",
      " 98%|██████████████████████████████████████████████████████████████████████████▊ | 985/1000 [12:16:55<10:53, 43.56s/it]"
     ]
    },
    {
     "name": "stdout",
     "output_type": "stream",
     "text": [
      "\t ----- reward: -40.15292968985869 for f_star and f_minus: 25.81716827732457 , 40.15292968985869\n",
      "\t ---------- State is:  (2, 9)\n",
      "[INFO] [2023-04-14 09:57:25,212] [OpenBox-SPO] Iteration 986, objective value: [37.43056924445642].\n"
     ]
    },
    {
     "name": "stderr",
     "output_type": "stream",
     "text": [
      "\r",
      " 99%|██████████████████████████████████████████████████████████████████████████▉ | 986/1000 [12:17:38<10:07, 43.36s/it]"
     ]
    },
    {
     "name": "stdout",
     "output_type": "stream",
     "text": [
      "\t ----- reward: -37.43056924445642 for f_star and f_minus: 25.81716827732457 , 37.43056924445642\n",
      "\t ---------- State is:  (2, 9)\n",
      "[INFO] [2023-04-14 09:58:07,391] [OpenBox-SPO] Iteration 987, objective value: [31.375654318809538].\n"
     ]
    },
    {
     "name": "stderr",
     "output_type": "stream",
     "text": [
      "\r",
      " 99%|███████████████████████████████████████████████████████████████████████████ | 987/1000 [12:18:20<09:19, 43.01s/it]"
     ]
    },
    {
     "name": "stdout",
     "output_type": "stream",
     "text": [
      "\t ----- reward: -31.375654318809538 for f_star and f_minus: 25.81716827732457 , 31.375654318809538\n",
      "\t ---------- State is:  (1, 9)\n",
      "[INFO] [2023-04-14 09:58:07,391] [Advisor] Sample random config. rand_prob=0.100000.\n",
      "[INFO] [2023-04-14 09:58:41,795] [OpenBox-SPO] Iteration 988, objective value: [50.37180689803279].\n"
     ]
    },
    {
     "name": "stderr",
     "output_type": "stream",
     "text": [
      "\r",
      " 99%|███████████████████████████████████████████████████████████████████████████ | 988/1000 [12:18:54<08:05, 40.43s/it]"
     ]
    },
    {
     "name": "stdout",
     "output_type": "stream",
     "text": [
      "\t ----- reward: -50.37180689803279 for f_star and f_minus: 25.81716827732457 , 50.37180689803279\n",
      "\t ---------- State is:  (0, 10)\n",
      "[INFO] [2023-04-14 09:59:26,720] [OpenBox-SPO] Iteration 989, objective value: [34.939582432910484].\n"
     ]
    },
    {
     "name": "stderr",
     "output_type": "stream",
     "text": [
      "\r",
      " 99%|███████████████████████████████████████████████████████████████████████████▏| 989/1000 [12:19:39<07:39, 41.78s/it]"
     ]
    },
    {
     "name": "stdout",
     "output_type": "stream",
     "text": [
      "\t ----- reward: -34.939582432910484 for f_star and f_minus: 25.81716827732457 , 34.939582432910484\n",
      "\t ---------- State is:  (0, 9)\n",
      "[INFO] [2023-04-14 10:00:11,257] [OpenBox-SPO] Iteration 990, objective value: [38.53257690669911].\n"
     ]
    },
    {
     "name": "stderr",
     "output_type": "stream",
     "text": [
      "\r",
      " 99%|███████████████████████████████████████████████████████████████████████████▏| 990/1000 [12:20:24<07:06, 42.60s/it]"
     ]
    },
    {
     "name": "stdout",
     "output_type": "stream",
     "text": [
      "\t ----- reward: -38.53257690669911 for f_star and f_minus: 25.81716827732457 , 38.53257690669911\n",
      "\t ---------- State is:  (0, 9)\n",
      "[INFO] [2023-04-14 10:00:57,709] [OpenBox-SPO] Iteration 991, objective value: [34.56460356801527].\n"
     ]
    },
    {
     "name": "stderr",
     "output_type": "stream",
     "text": [
      "\r",
      " 99%|███████████████████████████████████████████████████████████████████████████▎| 991/1000 [12:21:10<06:33, 43.76s/it]"
     ]
    },
    {
     "name": "stdout",
     "output_type": "stream",
     "text": [
      "\t ----- reward: -34.56460356801527 for f_star and f_minus: 25.81716827732457 , 34.56460356801527\n",
      "\t ---------- State is:  (0, 9)\n",
      "[INFO] [2023-04-14 10:01:45,250] [OpenBox-SPO] Iteration 992, objective value: [47.288681319212536].\n"
     ]
    },
    {
     "name": "stderr",
     "output_type": "stream",
     "text": [
      "\r",
      " 99%|███████████████████████████████████████████████████████████████████████████▍| 992/1000 [12:21:58<05:59, 44.89s/it]"
     ]
    },
    {
     "name": "stdout",
     "output_type": "stream",
     "text": [
      "\t ----- reward: -47.288681319212536 for f_star and f_minus: 25.81716827732457 , 47.288681319212536\n",
      "\t ---------- State is:  (0, 9)\n",
      "[INFO] [2023-04-14 10:02:32,119] [OpenBox-SPO] Iteration 993, objective value: [38.05044544474379].\n"
     ]
    },
    {
     "name": "stderr",
     "output_type": "stream",
     "text": [
      "\r",
      " 99%|███████████████████████████████████████████████████████████████████████████▍| 993/1000 [12:22:44<05:18, 45.49s/it]"
     ]
    },
    {
     "name": "stdout",
     "output_type": "stream",
     "text": [
      "\t ----- reward: -38.05044544474379 for f_star and f_minus: 25.81716827732457 , 38.05044544474379\n",
      "\t ---------- State is:  (0, 10)\n",
      "[INFO] [2023-04-14 10:03:20,832] [OpenBox-SPO] Iteration 994, objective value: [32.43316282830183].\n"
     ]
    },
    {
     "name": "stderr",
     "output_type": "stream",
     "text": [
      "\r",
      " 99%|███████████████████████████████████████████████████████████████████████████▌| 994/1000 [12:23:33<04:38, 46.45s/it]"
     ]
    },
    {
     "name": "stdout",
     "output_type": "stream",
     "text": [
      "\t ----- reward: -32.43316282830183 for f_star and f_minus: 25.81716827732457 , 32.43316282830183\n",
      "\t ---------- State is:  (0, 10)\n",
      "[INFO] [2023-04-14 10:04:01,298] [OpenBox-SPO] Iteration 995, objective value: [47.70109014983144].\n"
     ]
    },
    {
     "name": "stderr",
     "output_type": "stream",
     "text": [
      "\r",
      "100%|███████████████████████████████████████████████████████████████████████████▌| 995/1000 [12:24:14<03:43, 44.66s/it]"
     ]
    },
    {
     "name": "stdout",
     "output_type": "stream",
     "text": [
      "\t ----- reward: -47.70109014983144 for f_star and f_minus: 25.81716827732457 , 47.70109014983144\n",
      "\t ---------- State is:  (0, 10)\n",
      "[INFO] [2023-04-14 10:04:45,043] [OpenBox-SPO] Iteration 996, objective value: [30.46650843494318].\n"
     ]
    },
    {
     "name": "stderr",
     "output_type": "stream",
     "text": [
      "\r",
      "100%|███████████████████████████████████████████████████████████████████████████▋| 996/1000 [12:24:57<02:57, 44.38s/it]"
     ]
    },
    {
     "name": "stdout",
     "output_type": "stream",
     "text": [
      "\t ----- reward: -30.46650843494318 for f_star and f_minus: 25.81716827732457 , 30.46650843494318\n",
      "\t ---------- State is:  (1, 10)\n",
      "[INFO] [2023-04-14 10:05:31,980] [OpenBox-SPO] Iteration 997, objective value: [42.81818198124504].\n"
     ]
    },
    {
     "name": "stderr",
     "output_type": "stream",
     "text": [
      "\r",
      "100%|███████████████████████████████████████████████████████████████████████████▊| 997/1000 [12:25:44<02:15, 45.15s/it]"
     ]
    },
    {
     "name": "stdout",
     "output_type": "stream",
     "text": [
      "\t ----- reward: -42.81818198124504 for f_star and f_minus: 25.81716827732457 , 42.81818198124504\n",
      "\t ---------- State is:  (1, 10)\n",
      "[INFO] [2023-04-14 10:06:10,881] [OpenBox-SPO] Iteration 998, objective value: [46.74925790891379].\n"
     ]
    },
    {
     "name": "stderr",
     "output_type": "stream",
     "text": [
      "\r",
      "100%|███████████████████████████████████████████████████████████████████████████▊| 998/1000 [12:26:23<01:26, 43.28s/it]"
     ]
    },
    {
     "name": "stdout",
     "output_type": "stream",
     "text": [
      "\t ----- reward: -46.74925790891379 for f_star and f_minus: 25.81716827732457 , 46.74925790891379\n",
      "\t ---------- State is:  (0, 10)\n",
      "[INFO] [2023-04-14 10:06:58,695] [OpenBox-SPO] Iteration 999, objective value: [31.88439446889602].\n"
     ]
    },
    {
     "name": "stderr",
     "output_type": "stream",
     "text": [
      "\r",
      "100%|███████████████████████████████████████████████████████████████████████████▉| 999/1000 [12:27:11<00:44, 44.64s/it]"
     ]
    },
    {
     "name": "stdout",
     "output_type": "stream",
     "text": [
      "\t ----- reward: -31.88439446889602 for f_star and f_minus: 25.81716827732457 , 31.88439446889602\n",
      "\t ---------- State is:  (0, 10)\n",
      "[INFO] [2023-04-14 10:07:49,198] [OpenBox-SPO] Iteration 1000, objective value: [33.14642785909467].\n"
     ]
    },
    {
     "name": "stderr",
     "output_type": "stream",
     "text": [
      "100%|███████████████████████████████████████████████████████████████████████████| 1000/1000 [12:28:02<00:00, 44.88s/it]"
     ]
    },
    {
     "name": "stdout",
     "output_type": "stream",
     "text": [
      "\t ----- reward: -33.14642785909467 for f_star and f_minus: 25.81716827732457 , 33.14642785909467\n",
      "\t ---------- State is:  (1, 10)\n",
      "+---------------------------------------------+\n",
      "| Parameters              | Optimal Value     |\n",
      "+-------------------------+-------------------+\n",
      "| ls1                     | [1, 3]            |\n",
      "| ls2                     | [6, 2]            |\n",
      "| ls3                     | [1, 6]            |\n",
      "| ls4                     | [6, 3]            |\n",
      "| ls5                     | [1, 7]            |\n",
      "| ls6                     | [7, 3]            |\n",
      "| ls7                     | [7, 6]            |\n",
      "| ls8                     | [2, 4]            |\n",
      "| ls9                     | [7, 7]            |\n",
      "| ls_t1                   | 1                 |\n",
      "| ls_t2                   | 1                 |\n",
      "| ls_t3                   | 1                 |\n",
      "| ls_t4                   | 1                 |\n",
      "| ls_t5                   | 1                 |\n",
      "| ls_t6                   | 1                 |\n",
      "| ls_t7                   | 1                 |\n",
      "| ls_t8                   | 1                 |\n",
      "| ls_t9                   | 1                 |\n",
      "+-------------------------+-------------------+\n",
      "| Optimal Objective Value | 25.81716827732457 |\n",
      "+-------------------------+-------------------+\n",
      "| Num Configs             | 1000              |\n",
      "+-------------------------+-------------------+\n",
      "\n"
     ]
    },
    {
     "name": "stderr",
     "output_type": "stream",
     "text": [
      "\n"
     ]
    }
   ],
   "source": [
    "import SensorOptimizers.BayesianOptimization as bo\n",
    "import numpy as np\n",
    "import pickle\n",
    "import Config as cf\n",
    "\n",
    "maxSensorNum = int(np.min([(cf.space[2][0] / cf.epsilon) * (cf.space[2][1] / cf.epsilon), cf.LSsensorsNum]))\n",
    "\n",
    "print('----- Running BO with: \\n \\t - epsilon: ', cf.epsilon, \n",
    "      '\\n \\t - LS sensors #:', cf.LSsensorsNum, \n",
    "      '\\n \\t - IS sensors #:', cf.ISsensorsNum, \n",
    "      ' \\n \\t - initial state: ', cf.initial_state)\n",
    "\n",
    "for i in range(0, 1):\n",
    "    BO = bo.BayesianOptimization(testbed = cf.testbed,\n",
    "                                 iteration = cf.bo_iteration, \n",
    "                                 epsilon = cf.epsilon, \n",
    "                                 error = cf.error,\n",
    "                                 ROS = True, \n",
    "                                 LSmaxSensorNum = maxSensorNum,\n",
    "                                 ISmaxSensorNum = cf.ISsensorsNum, \n",
    "                                 initial_state = cf.initial_state,\n",
    "                                 input_sensor_types = cf.sensor_types,\n",
    "                                 acquisition_function = cf.acquisition_function,\n",
    "                                 surrogate_model = cf.surrogate_model,\n",
    "                                 acq_optimizer_type = cf.acq_optimizer_type)\n",
    "\n",
    "    history, states, actions, rewards = BO.run(RLBO = cf.RLBO)\n",
    "\n",
    "    with open('Results_BO/history(LS' + str(cf.LSsensorsNum) +  'IS' + str(cf.ISsensorsNum) + ')_' + str(i), 'wb') as handle:\n",
    "        pickle.dump(history, handle, protocol=pickle.HIGHEST_PROTOCOL)\n",
    "            \n",
    "    print(history)"
   ]
  },
  {
   "cell_type": "code",
   "execution_count": 3,
   "metadata": {},
   "outputs": [
    {
     "data": {
      "text/plain": [
       "[<matplotlib.lines.Line2D at 0x178a4208ca0>]"
      ]
     },
     "execution_count": 3,
     "metadata": {},
     "output_type": "execute_result"
    },
    {
     "data": {
      "image/png": "[encoded data removed]",
      "text/plain": [
       "<Figure size 432x288 with 1 Axes>"
      ]
     },
     "metadata": {
      "needs_background": "light"
     },
     "output_type": "display_data"
    }
   ],
   "source": [
    "import matplotlib.pylab as plt\n",
    "\n",
    "plt.plot(rewards)"
   ]
  },
  {
   "cell_type": "code",
   "execution_count": 4,
   "metadata": {},
   "outputs": [
    {
     "data": {
      "text/plain": [
       "<AxesSubplot:title={'center':'Convergence plot'}, xlabel='Number of iterations $n$', ylabel='Min objective value after $n$ iterations'>"
      ]
     },
     "execution_count": 4,
     "metadata": {},
     "output_type": "execute_result"
    },
    {
     "data": {
      "image/png": "[encoded data removed]",
      "text/plain": [
       "<Figure size 432x288 with 1 Axes>"
      ]
     },
     "metadata": {
      "needs_background": "light"
     },
     "output_type": "display_data"
    }
   ],
   "source": [
    "history.plot_convergence()"
   ]
  },
  {
   "cell_type": "code",
   "execution_count": 5,
   "metadata": {},
   "outputs": [
    {
     "data": {
      "text/plain": [
       "[<matplotlib.lines.Line2D at 0x17817eec460>]"
      ]
     },
     "execution_count": 5,
     "metadata": {},
     "output_type": "execute_result"
    },
    {
     "data": {
      "image/png": "[encoded data removed]",
      "text/plain": [
       "<Figure size 432x288 with 1 Axes>"
      ]
     },
     "metadata": {
      "needs_background": "light"
     },
     "output_type": "display_data"
    }
   ],
   "source": [
    "plt.plot([s[1] for s in states[5:len(states)]])"
   ]
  },
  {
   "cell_type": "code",
   "execution_count": 6,
   "metadata": {},
   "outputs": [
    {
     "data": {
      "text/plain": [
       "[<matplotlib.lines.Line2D at 0x1781ee069a0>]"
      ]
     },
     "execution_count": 6,
     "metadata": {},
     "output_type": "execute_result"
    },
    {
     "data": {
      "image/png": "[encoded data removed]",
      "text/plain": [
       "<Figure size 432x288 with 1 Axes>"
      ]
     },
     "metadata": {
      "needs_background": "light"
     },
     "output_type": "display_data"
    }
   ],
   "source": [
    "plt.plot([s[0] for s in states])"
   ]
  },
  {
   "cell_type": "code",
   "execution_count": 7,
   "metadata": {},
   "outputs": [
    {
     "data": {
      "text/plain": [
       "[<matplotlib.lines.Line2D at 0x1781f2a8b20>]"
      ]
     },
     "execution_count": 7,
     "metadata": {},
     "output_type": "execute_result"
    },
    {
     "data": {
      "image/png": "[encoded data removed]",
      "text/plain": [
       "<Figure size 432x288 with 1 Axes>"
      ]
     },
     "metadata": {
      "needs_background": "light"
     },
     "output_type": "display_data"
    }
   ],
   "source": [
    "plt.plot(actions)"
   ]
  }
 ],
 "metadata": {
  "kernelspec": {
   "display_name": "Python 3 (ipykernel)",
   "language": "python",
   "name": "python3"
  },
  "language_info": {
   "codemirror_mode": {
    "name": "ipython",
    "version": 3
   },
   "file_extension": ".py",
   "mimetype": "text/x-python",
   "name": "python",
   "nbconvert_exporter": "python",
   "pygments_lexer": "ipython3",
   "version": "3.9.12"
  },
  "vscode": {
   "interpreter": {
    "hash": "aee8b7b246df8f9039afb4144a1f6fd8d2ca17a180786b69acc140d282b71a49"
   }
  }
 },
 "nbformat": 4,
 "nbformat_minor": 4
}
