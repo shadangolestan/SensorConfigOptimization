{
 "cells": [
  {
   "cell_type": "code",
   "execution_count": 1,
   "metadata": {},
   "outputs": [],
   "source": [
    "# This is running RLABO with multiple sensor types"
   ]
  },
  {
   "cell_type": "code",
   "execution_count": 2,
   "metadata": {},
   "outputs": [
    {
     "name": "stdout",
     "output_type": "stream",
     "text": [
      "kg\n",
      "0\n"
     ]
    }
   ],
   "source": [
    "import Config as cf\n",
    "print(cf.acquisition_function)\n",
    "\n",
    "print(len(cf.performance))"
   ]
  },
  {
   "cell_type": "code",
   "execution_count": 3,
   "metadata": {
    "scrolled": true
   },
   "outputs": [
    {
     "name": "stdout",
     "output_type": "stream",
     "text": [
      "----- Running BO with: \n",
      " \t - epsilon:  1 \n",
      " \t - LS sensors #: 9 \n",
      " \t - IS sensors #: 9  \n",
      " \t - initial state:  random\n",
      "Processing Region of Similarity... [COMPLETED]\n",
      "adviser type is default...\n",
      "[INFO] [2023-02-28 23:30:11,722] [Advisor] === [BO auto selection] === acq_optimizer_type: local_random.\n",
      "[Build Surrogate] Use probabilistic random forest based on scikit-learn. For better performance, please install pyrfr: https://open-box.readthedocs.io/en/latest/installation/install_pyrfr.html\n"
     ]
    },
    {
     "name": "stderr",
     "output_type": "stream",
     "text": [
      "\r",
      "  0%|                                                                                         | 0/1000 [00:00<?, ?it/s]"
     ]
    },
    {
     "name": "stdout",
     "output_type": "stream",
     "text": [
      "[INFO] [2023-02-28 23:30:44,502] [OpenBox-SPO] Iteration 1, objective value: [60.08926942233572].\n"
     ]
    },
    {
     "name": "stderr",
     "output_type": "stream",
     "text": [
      "\r",
      "  0%|                                                                               | 1/1000 [00:32<9:05:46, 32.78s/it]"
     ]
    },
    {
     "name": "stdout",
     "output_type": "stream",
     "text": [
      "\t ----- reward: -60.08926942233572 for f_star and f_minus: 100 , 60.08926942233572\n",
      "\t ---------- State is:  (5, 100)\n",
      "[INFO] [2023-02-28 23:31:26,417] [OpenBox-SPO] Iteration 2, objective value: [52.33868154171944].\n"
     ]
    },
    {
     "name": "stderr",
     "output_type": "stream",
     "text": [
      "\r",
      "  0%|▏                                                                             | 2/1000 [01:14<10:34:37, 38.15s/it]"
     ]
    },
    {
     "name": "stdout",
     "output_type": "stream",
     "text": [
      "\t ----- reward: -52.33868154171944 for f_star and f_minus: 100 , 52.33868154171944\n",
      "\t ---------- State is:  (4, 100)\n",
      "[INFO] [2023-02-28 23:32:01,645] [OpenBox-SPO] Iteration 3, objective value: [55.00379987308245].\n"
     ]
    },
    {
     "name": "stderr",
     "output_type": "stream",
     "text": [
      "\r",
      "  0%|▏                                                                             | 3/1000 [01:49<10:11:47, 36.82s/it]"
     ]
    },
    {
     "name": "stdout",
     "output_type": "stream",
     "text": [
      "\t ----- reward: -55.00379987308245 for f_star and f_minus: 100 , 55.00379987308245\n",
      "\t ---------- State is:  (5, 100)\n",
      "[INFO] [2023-02-28 23:32:38,582] [OpenBox-SPO] Iteration 4, objective value: [52.646022986883736].\n"
     ]
    },
    {
     "name": "stderr",
     "output_type": "stream",
     "text": [
      "\r",
      "  0%|▎                                                                             | 4/1000 [02:26<10:11:57, 36.86s/it]"
     ]
    },
    {
     "name": "stdout",
     "output_type": "stream",
     "text": [
      "\t ----- reward: -52.646022986883736 for f_star and f_minus: 52.33868154171944 , 52.646022986883736\n",
      "\t ---------- State is:  (5, 52)\n",
      "[INFO] [2023-02-28 23:33:17,665] [OpenBox-SPO] Iteration 5, objective value: [49.036740854922456].\n"
     ]
    },
    {
     "name": "stderr",
     "output_type": "stream",
     "text": [
      "\r",
      "  0%|▍                                                                             | 5/1000 [03:05<10:24:36, 37.66s/it]"
     ]
    },
    {
     "name": "stdout",
     "output_type": "stream",
     "text": [
      "\t ----- reward: -49.036740854922456 for f_star and f_minus: 52.33868154171944 , 49.036740854922456\n",
      "\t ---------- State is:  (6, 52)\n",
      "[INFO] [2023-02-28 23:33:51,057] [OpenBox-SPO] Iteration 6, objective value: [57.65771971696863].\n"
     ]
    },
    {
     "name": "stderr",
     "output_type": "stream",
     "text": [
      "\r",
      "  1%|▍                                                                              | 6/1000 [03:39<9:59:54, 36.21s/it]"
     ]
    },
    {
     "name": "stdout",
     "output_type": "stream",
     "text": [
      "\t ----- reward: -57.65771971696863 for f_star and f_minus: 49.036740854922456 , 57.65771971696863\n",
      "\t ---------- State is:  (6, 49)\n",
      "[INFO] [2023-02-28 23:34:31,416] [OpenBox-SPO] Iteration 7, objective value: [49.27468784195632].\n"
     ]
    },
    {
     "name": "stderr",
     "output_type": "stream",
     "text": [
      "\r",
      "  1%|▌                                                                             | 7/1000 [04:19<10:21:44, 37.57s/it]"
     ]
    },
    {
     "name": "stdout",
     "output_type": "stream",
     "text": [
      "\t ----- reward: -49.27468784195632 for f_star and f_minus: 49.036740854922456 , 49.27468784195632\n",
      "\t ---------- State is:  (7, 49)\n",
      "[INFO] [2023-02-28 23:35:11,738] [OpenBox-SPO] Iteration 8, objective value: [55.345195634888746].\n"
     ]
    },
    {
     "name": "stderr",
     "output_type": "stream",
     "text": [
      "\r",
      "  1%|▌                                                                             | 8/1000 [05:00<10:35:36, 38.44s/it]"
     ]
    },
    {
     "name": "stdout",
     "output_type": "stream",
     "text": [
      "\t ----- reward: -55.345195634888746 for f_star and f_minus: 49.036740854922456 , 55.345195634888746\n",
      "\t ---------- State is:  (8, 49)\n",
      "[INFO] [2023-02-28 23:35:11,738] [Advisor] Sample random config. rand_prob=0.100000.\n",
      "[INFO] [2023-02-28 23:35:41,518] [OpenBox-SPO] Iteration 9, objective value: [58.72171597873763].\n"
     ]
    },
    {
     "name": "stderr",
     "output_type": "stream",
     "text": [
      "\r",
      "  1%|▋                                                                              | 9/1000 [05:29<9:50:14, 35.74s/it]"
     ]
    },
    {
     "name": "stdout",
     "output_type": "stream",
     "text": [
      "\t ----- reward: -58.72171597873763 for f_star and f_minus: 49.036740854922456 , 58.72171597873763\n",
      "\t ---------- State is:  (7, 49)\n",
      "[INFO] [2023-02-28 23:36:22,561] [OpenBox-SPO] Iteration 10, objective value: [61.51338346316382].\n"
     ]
    },
    {
     "name": "stderr",
     "output_type": "stream",
     "text": [
      "\r",
      "  1%|▊                                                                            | 10/1000 [06:10<10:16:40, 37.37s/it]"
     ]
    },
    {
     "name": "stdout",
     "output_type": "stream",
     "text": [
      "\t ----- reward: -61.51338346316382 for f_star and f_minus: 49.036740854922456 , 61.51338346316382\n",
      "\t ---------- State is:  (7, 49)\n",
      "[INFO] [2023-02-28 23:36:56,926] [OpenBox-SPO] Iteration 11, objective value: [55.50346718962874].\n"
     ]
    },
    {
     "name": "stderr",
     "output_type": "stream",
     "text": [
      "\r",
      "  1%|▊                                                                            | 11/1000 [06:45<10:00:52, 36.45s/it]"
     ]
    },
    {
     "name": "stdout",
     "output_type": "stream",
     "text": [
      "\t ----- reward: -55.50346718962874 for f_star and f_minus: 49.036740854922456 , 55.50346718962874\n",
      "\t ---------- State is:  (8, 6)\n",
      "[INFO] [2023-02-28 23:37:47,286] [OpenBox-SPO] Iteration 12, objective value: [47.018578540292175].\n"
     ]
    },
    {
     "name": "stderr",
     "output_type": "stream",
     "text": [
      "\r",
      "  1%|▉                                                                            | 12/1000 [07:35<11:09:55, 40.68s/it]"
     ]
    },
    {
     "name": "stdout",
     "output_type": "stream",
     "text": [
      "\t ----- reward: -47.018578540292175 for f_star and f_minus: 49.036740854922456 , 47.018578540292175\n",
      "\t ---------- State is:  (7, 6)\n",
      "[INFO] [2023-02-28 23:38:37,847] [OpenBox-SPO] Iteration 13, objective value: [59.57909076538738].\n"
     ]
    },
    {
     "name": "stderr",
     "output_type": "stream",
     "text": [
      "\r",
      "  1%|█                                                                            | 13/1000 [08:26<11:58:28, 43.68s/it]"
     ]
    },
    {
     "name": "stdout",
     "output_type": "stream",
     "text": [
      "\t ----- reward: -59.57909076538738 for f_star and f_minus: 47.018578540292175 , 59.57909076538738\n",
      "\t ---------- State is:  (7, 8)\n",
      "[INFO] [2023-02-28 23:39:20,302] [OpenBox-SPO] Iteration 14, objective value: [45.289023407638204].\n"
     ]
    },
    {
     "name": "stderr",
     "output_type": "stream",
     "text": [
      "\r",
      "  1%|█                                                                            | 14/1000 [09:08<11:51:40, 43.31s/it]"
     ]
    },
    {
     "name": "stdout",
     "output_type": "stream",
     "text": [
      "\t ----- reward: -45.289023407638204 for f_star and f_minus: 47.018578540292175 , 45.289023407638204\n",
      "\t ---------- State is:  (6, 8)\n",
      "[INFO] [2023-02-28 23:40:08,959] [OpenBox-SPO] Iteration 15, objective value: [43.594672785312426].\n"
     ]
    },
    {
     "name": "stderr",
     "output_type": "stream",
     "text": [
      "\r",
      "  2%|█▏                                                                           | 15/1000 [09:57<12:17:26, 44.92s/it]"
     ]
    },
    {
     "name": "stdout",
     "output_type": "stream",
     "text": [
      "\t ----- reward: -43.594672785312426 for f_star and f_minus: 45.289023407638204 , 43.594672785312426\n",
      "\t ---------- State is:  (7, 9)\n",
      "[INFO] [2023-02-28 23:40:46,797] [OpenBox-SPO] Iteration 16, objective value: [45.51728562771555].\n"
     ]
    },
    {
     "name": "stderr",
     "output_type": "stream",
     "text": [
      "\r",
      "  2%|█▏                                                                           | 16/1000 [10:35<11:41:43, 42.79s/it]"
     ]
    },
    {
     "name": "stdout",
     "output_type": "stream",
     "text": [
      "\t ----- reward: -45.51728562771555 for f_star and f_minus: 43.594672785312426 , 45.51728562771555\n",
      "\t ---------- State is:  (6, 10)\n",
      "[INFO] [2023-02-28 23:41:25,138] [OpenBox-SPO] Iteration 17, objective value: [55.55570122278109].\n"
     ]
    },
    {
     "name": "stderr",
     "output_type": "stream",
     "text": [
      "\r",
      "  2%|█▎                                                                           | 17/1000 [11:13<11:19:06, 41.45s/it]"
     ]
    },
    {
     "name": "stdout",
     "output_type": "stream",
     "text": [
      "\t ----- reward: -55.55570122278109 for f_star and f_minus: 43.594672785312426 , 55.55570122278109\n",
      "\t ---------- State is:  (7, 11)\n",
      "[INFO] [2023-02-28 23:42:09,655] [OpenBox-SPO] Iteration 18, objective value: [64.86770309347158].\n"
     ]
    },
    {
     "name": "stderr",
     "output_type": "stream",
     "text": [
      "\r",
      "  2%|█▍                                                                           | 18/1000 [11:57<11:33:29, 42.37s/it]"
     ]
    },
    {
     "name": "stdout",
     "output_type": "stream",
     "text": [
      "\t ----- reward: -64.86770309347158 for f_star and f_minus: 43.594672785312426 , 64.86770309347158\n",
      "\t ---------- State is:  (8, 11)\n",
      "[INFO] [2023-02-28 23:42:50,701] [OpenBox-SPO] Iteration 19, objective value: [52.73190158921346].\n"
     ]
    },
    {
     "name": "stderr",
     "output_type": "stream",
     "text": [
      "\r",
      "  2%|█▍                                                                           | 19/1000 [12:38<11:26:16, 41.97s/it]"
     ]
    },
    {
     "name": "stdout",
     "output_type": "stream",
     "text": [
      "\t ----- reward: -52.73190158921346 for f_star and f_minus: 43.594672785312426 , 52.73190158921346\n",
      "\t ---------- State is:  (8, 11)\n",
      "[INFO] [2023-02-28 23:43:39,447] [OpenBox-SPO] Iteration 20, objective value: [52.800417145903864].\n"
     ]
    },
    {
     "name": "stderr",
     "output_type": "stream",
     "text": [
      "\r",
      "  2%|█▌                                                                           | 20/1000 [13:27<11:58:46, 44.01s/it]"
     ]
    },
    {
     "name": "stdout",
     "output_type": "stream",
     "text": [
      "\t ----- reward: -52.800417145903864 for f_star and f_minus: 43.594672785312426 , 52.800417145903864\n",
      "\t ---------- State is:  (8, 10)\n",
      "[INFO] [2023-02-28 23:44:18,871] [OpenBox-SPO] Iteration 21, objective value: [54.533240512420065].\n"
     ]
    },
    {
     "name": "stderr",
     "output_type": "stream",
     "text": [
      "\r",
      "  2%|█▌                                                                           | 21/1000 [14:07<11:35:36, 42.63s/it]"
     ]
    },
    {
     "name": "stdout",
     "output_type": "stream",
     "text": [
      "\t ----- reward: -54.533240512420065 for f_star and f_minus: 43.594672785312426 , 54.533240512420065\n",
      "\t ---------- State is:  (9, 10)\n",
      "[INFO] [2023-02-28 23:45:07,010] [OpenBox-SPO] Iteration 22, objective value: [46.61953760527693].\n"
     ]
    },
    {
     "name": "stderr",
     "output_type": "stream",
     "text": [
      "\r",
      "  2%|█▋                                                                           | 22/1000 [14:55<12:01:50, 44.28s/it]"
     ]
    },
    {
     "name": "stdout",
     "output_type": "stream",
     "text": [
      "\t ----- reward: -46.61953760527693 for f_star and f_minus: 43.594672785312426 , 46.61953760527693\n",
      "\t ---------- State is:  (9, 10)\n",
      "[INFO] [2023-02-28 23:45:48,094] [OpenBox-SPO] Iteration 23, objective value: [61.95778149513235].\n"
     ]
    },
    {
     "name": "stderr",
     "output_type": "stream",
     "text": [
      "\r",
      "  2%|█▊                                                                           | 23/1000 [15:36<11:45:32, 43.33s/it]"
     ]
    },
    {
     "name": "stdout",
     "output_type": "stream",
     "text": [
      "\t ----- reward: -61.95778149513235 for f_star and f_minus: 43.594672785312426 , 61.95778149513235\n",
      "\t ---------- State is:  (9, 10)\n",
      "[INFO] [2023-02-28 23:46:32,874] [OpenBox-SPO] Iteration 24, objective value: [45.958389299640956].\n"
     ]
    },
    {
     "name": "stderr",
     "output_type": "stream",
     "text": [
      "\r",
      "  2%|█▊                                                                           | 24/1000 [16:21<11:51:49, 43.76s/it]"
     ]
    },
    {
     "name": "stdout",
     "output_type": "stream",
     "text": [
      "\t ----- reward: -45.958389299640956 for f_star and f_minus: 43.594672785312426 , 45.958389299640956\n",
      "\t ---------- State is:  (9, 10)\n",
      "[INFO] [2023-02-28 23:47:17,344] [OpenBox-SPO] Iteration 25, objective value: [42.006754546408295].\n"
     ]
    },
    {
     "name": "stderr",
     "output_type": "stream",
     "text": [
      "\r",
      "  2%|█▉                                                                           | 25/1000 [17:05<11:54:33, 43.97s/it]"
     ]
    },
    {
     "name": "stdout",
     "output_type": "stream",
     "text": [
      "\t ----- reward: -42.006754546408295 for f_star and f_minus: 43.594672785312426 , 42.006754546408295\n",
      "\t ---------- State is:  (10, 10)\n",
      "[INFO] [2023-02-28 23:48:06,548] [OpenBox-SPO] Iteration 26, objective value: [52.66902334035959].\n"
     ]
    },
    {
     "name": "stderr",
     "output_type": "stream",
     "text": [
      "\r",
      "  3%|██                                                                           | 26/1000 [17:54<12:19:18, 45.54s/it]"
     ]
    },
    {
     "name": "stdout",
     "output_type": "stream",
     "text": [
      "\t ----- reward: -52.66902334035959 for f_star and f_minus: 42.006754546408295 , 52.66902334035959\n",
      "\t ---------- State is:  (10, 10)\n",
      "[INFO] [2023-02-28 23:48:59,611] [OpenBox-SPO] Iteration 27, objective value: [43.64491117263534].\n"
     ]
    },
    {
     "name": "stderr",
     "output_type": "stream",
     "text": [
      "\r",
      "  3%|██                                                                           | 27/1000 [18:47<12:55:07, 47.80s/it]"
     ]
    },
    {
     "name": "stdout",
     "output_type": "stream",
     "text": [
      "\t ----- reward: -43.64491117263534 for f_star and f_minus: 42.006754546408295 , 43.64491117263534\n",
      "\t ---------- State is:  (10, 10)\n",
      "[INFO] [2023-02-28 23:49:43,492] [OpenBox-SPO] Iteration 28, objective value: [44.80377169760435].\n"
     ]
    },
    {
     "name": "stderr",
     "output_type": "stream",
     "text": [
      "\r",
      "  3%|██▏                                                                          | 28/1000 [19:31<12:35:17, 46.62s/it]"
     ]
    },
    {
     "name": "stdout",
     "output_type": "stream",
     "text": [
      "\t ----- reward: -44.80377169760435 for f_star and f_minus: 42.006754546408295 , 44.80377169760435\n",
      "\t ---------- State is:  (9, 10)\n",
      "[INFO] [2023-02-28 23:50:30,865] [OpenBox-SPO] Iteration 29, objective value: [48.22306436948997].\n"
     ]
    },
    {
     "name": "stderr",
     "output_type": "stream",
     "text": [
      "\r",
      "  3%|██▏                                                                          | 29/1000 [20:19<12:38:09, 46.85s/it]"
     ]
    },
    {
     "name": "stdout",
     "output_type": "stream",
     "text": [
      "\t ----- reward: -48.22306436948997 for f_star and f_minus: 42.006754546408295 , 48.22306436948997\n",
      "\t ---------- State is:  (9, 8)\n",
      "[INFO] [2023-02-28 23:50:30,865] [Advisor] Sample random config. rand_prob=0.100000.\n",
      "[INFO] [2023-02-28 23:50:55,362] [OpenBox-SPO] Iteration 30, objective value: [67.22994129440121].\n"
     ]
    },
    {
     "name": "stderr",
     "output_type": "stream",
     "text": [
      "\r",
      "  3%|██▎                                                                          | 30/1000 [20:43<10:48:58, 40.14s/it]"
     ]
    },
    {
     "name": "stdout",
     "output_type": "stream",
     "text": [
      "\t ----- reward: -67.22994129440121 for f_star and f_minus: 42.006754546408295 , 67.22994129440121\n",
      "\t ---------- State is:  (9, 8)\n",
      "[INFO] [2023-02-28 23:51:45,116] [OpenBox-SPO] Iteration 31, objective value: [48.2289464088574].\n"
     ]
    },
    {
     "name": "stderr",
     "output_type": "stream",
     "text": [
      "\r",
      "  3%|██▍                                                                          | 31/1000 [21:33<11:34:52, 43.03s/it]"
     ]
    },
    {
     "name": "stdout",
     "output_type": "stream",
     "text": [
      "\t ----- reward: -48.2289464088574 for f_star and f_minus: 42.006754546408295 , 48.2289464088574\n",
      "\t ---------- State is:  (8, 6)\n",
      "[INFO] [2023-02-28 23:52:31,782] [OpenBox-SPO] Iteration 32, objective value: [42.00331848042549].\n"
     ]
    },
    {
     "name": "stderr",
     "output_type": "stream",
     "text": [
      "\r",
      "  3%|██▍                                                                          | 32/1000 [22:20<11:51:46, 44.12s/it]"
     ]
    },
    {
     "name": "stdout",
     "output_type": "stream",
     "text": [
      "\t ----- reward: -42.00331848042549 for f_star and f_minus: 42.006754546408295 , 42.00331848042549\n",
      "\t ---------- State is:  (8, 6)\n",
      "[INFO] [2023-02-28 23:53:19,393] [OpenBox-SPO] Iteration 33, objective value: [48.74038077213802].\n"
     ]
    },
    {
     "name": "stderr",
     "output_type": "stream",
     "text": [
      "\r",
      "  3%|██▌                                                                          | 33/1000 [23:07<12:07:55, 45.17s/it]"
     ]
    },
    {
     "name": "stdout",
     "output_type": "stream",
     "text": [
      "\t ----- reward: -48.74038077213802 for f_star and f_minus: 42.00331848042549 , 48.74038077213802\n",
      "\t ---------- State is:  (9, 6)\n",
      "[INFO] [2023-02-28 23:54:02,963] [OpenBox-SPO] Iteration 34, objective value: [46.951665570000344].\n"
     ]
    },
    {
     "name": "stderr",
     "output_type": "stream",
     "text": [
      "\r",
      "  3%|██▌                                                                          | 34/1000 [23:51<11:59:32, 44.69s/it]"
     ]
    },
    {
     "name": "stdout",
     "output_type": "stream",
     "text": [
      "\t ----- reward: -46.951665570000344 for f_star and f_minus: 42.00331848042549 , 46.951665570000344\n",
      "\t ---------- State is:  (8, 6)\n",
      "[INFO] [2023-02-28 23:54:41,766] [OpenBox-SPO] Iteration 35, objective value: [47.235975436492].\n"
     ]
    },
    {
     "name": "stderr",
     "output_type": "stream",
     "text": [
      "\r",
      "  4%|██▋                                                                          | 35/1000 [24:30<11:30:18, 42.92s/it]"
     ]
    },
    {
     "name": "stdout",
     "output_type": "stream",
     "text": [
      "\t ----- reward: -47.235975436492 for f_star and f_minus: 42.00331848042549 , 47.235975436492\n",
      "\t ---------- State is:  (7, 6)\n",
      "[INFO] [2023-02-28 23:55:24,047] [OpenBox-SPO] Iteration 36, objective value: [61.401703222843096].\n"
     ]
    },
    {
     "name": "stderr",
     "output_type": "stream",
     "text": [
      "\r",
      "  4%|██▊                                                                          | 36/1000 [25:12<11:26:30, 42.73s/it]"
     ]
    },
    {
     "name": "stdout",
     "output_type": "stream",
     "text": [
      "\t ----- reward: -61.401703222843096 for f_star and f_minus: 42.00331848042549 , 61.401703222843096\n",
      "\t ---------- State is:  (7, 6)\n",
      "[INFO] [2023-02-28 23:56:07,016] [OpenBox-SPO] Iteration 37, objective value: [42.00476766878772].\n"
     ]
    },
    {
     "name": "stderr",
     "output_type": "stream",
     "text": [
      "\r",
      "  4%|██▊                                                                          | 37/1000 [25:55<11:26:57, 42.80s/it]"
     ]
    },
    {
     "name": "stdout",
     "output_type": "stream",
     "text": [
      "\t ----- reward: -42.00476766878772 for f_star and f_minus: 42.00331848042549 , 42.00476766878772\n",
      "\t ---------- State is:  (8, 6)\n",
      "[INFO] [2023-02-28 23:56:54,553] [OpenBox-SPO] Iteration 38, objective value: [44.704181663797904].\n"
     ]
    },
    {
     "name": "stderr",
     "output_type": "stream",
     "text": [
      "\r",
      "  4%|██▉                                                                          | 38/1000 [26:42<11:49:01, 44.22s/it]"
     ]
    },
    {
     "name": "stdout",
     "output_type": "stream",
     "text": [
      "\t ----- reward: -44.704181663797904 for f_star and f_minus: 42.00331848042549 , 44.704181663797904\n",
      "\t ---------- State is:  (8, 5)\n",
      "[INFO] [2023-02-28 23:57:40,152] [OpenBox-SPO] Iteration 39, objective value: [45.76105243862896].\n"
     ]
    },
    {
     "name": "stderr",
     "output_type": "stream",
     "text": [
      "\r",
      "  4%|███                                                                          | 39/1000 [27:28<11:54:54, 44.63s/it]"
     ]
    },
    {
     "name": "stdout",
     "output_type": "stream",
     "text": [
      "\t ----- reward: -45.76105243862896 for f_star and f_minus: 42.00331848042549 , 45.76105243862896\n",
      "\t ---------- State is:  (9, 5)\n",
      "[INFO] [2023-02-28 23:58:20,125] [OpenBox-SPO] Iteration 40, objective value: [56.7528943348442].\n"
     ]
    },
    {
     "name": "stderr",
     "output_type": "stream",
     "text": [
      "\r",
      "  4%|███                                                                          | 40/1000 [28:08<11:31:46, 43.24s/it]"
     ]
    },
    {
     "name": "stdout",
     "output_type": "stream",
     "text": [
      "\t ----- reward: -56.7528943348442 for f_star and f_minus: 42.00331848042549 , 56.7528943348442\n",
      "\t ---------- State is:  (8, 5)\n",
      "[INFO] [2023-02-28 23:59:00,935] [OpenBox-SPO] Iteration 41, objective value: [62.463990572954046].\n"
     ]
    },
    {
     "name": "stderr",
     "output_type": "stream",
     "text": [
      "\r",
      "  4%|███▏                                                                         | 41/1000 [28:49<11:19:25, 42.51s/it]"
     ]
    },
    {
     "name": "stdout",
     "output_type": "stream",
     "text": [
      "\t ----- reward: -62.463990572954046 for f_star and f_minus: 42.00331848042549 , 62.463990572954046\n",
      "\t ---------- State is:  (8, 5)\n",
      "[INFO] [2023-02-28 23:59:59,723] [OpenBox-SPO] Iteration 42, objective value: [44.68734382988213].\n"
     ]
    },
    {
     "name": "stderr",
     "output_type": "stream",
     "text": [
      "\r",
      "  4%|███▏                                                                         | 42/1000 [29:48<12:36:42, 47.39s/it]"
     ]
    },
    {
     "name": "stdout",
     "output_type": "stream",
     "text": [
      "\t ----- reward: -44.68734382988213 for f_star and f_minus: 42.00331848042549 , 44.68734382988213\n",
      "\t ---------- State is:  (9, 5)\n",
      "[INFO] [2023-03-01 00:00:38,950] [OpenBox-SPO] Iteration 43, objective value: [46.055237066303455].\n"
     ]
    },
    {
     "name": "stderr",
     "output_type": "stream",
     "text": [
      "\r",
      "  4%|███▎                                                                         | 43/1000 [30:27<11:56:50, 44.94s/it]"
     ]
    },
    {
     "name": "stdout",
     "output_type": "stream",
     "text": [
      "\t ----- reward: -46.055237066303455 for f_star and f_minus: 42.00331848042549 , 46.055237066303455\n",
      "\t ---------- State is:  (9, 4)\n",
      "[INFO] [2023-03-01 00:01:31,138] [OpenBox-SPO] Iteration 44, objective value: [45.571628392275564].\n"
     ]
    },
    {
     "name": "stderr",
     "output_type": "stream",
     "text": [
      "\r",
      "  4%|███▍                                                                         | 44/1000 [31:19<12:30:43, 47.12s/it]"
     ]
    },
    {
     "name": "stdout",
     "output_type": "stream",
     "text": [
      "\t ----- reward: -45.571628392275564 for f_star and f_minus: 42.00331848042549 , 45.571628392275564\n",
      "\t ---------- State is:  (9, 4)\n",
      "[INFO] [2023-03-01 00:02:09,235] [OpenBox-SPO] Iteration 45, objective value: [51.19492690696233].\n"
     ]
    },
    {
     "name": "stderr",
     "output_type": "stream",
     "text": [
      "\r",
      "  4%|███▍                                                                         | 45/1000 [31:57<11:46:52, 44.41s/it]"
     ]
    },
    {
     "name": "stdout",
     "output_type": "stream",
     "text": [
      "\t ----- reward: -51.19492690696233 for f_star and f_minus: 42.00331848042549 , 51.19492690696233\n",
      "\t ---------- State is:  (10, 5)\n",
      "[INFO] [2023-03-01 00:02:57,902] [OpenBox-SPO] Iteration 46, objective value: [42.90064688230852].\n"
     ]
    },
    {
     "name": "stderr",
     "output_type": "stream",
     "text": [
      "\r",
      "  5%|███▌                                                                         | 46/1000 [32:46<12:06:25, 45.69s/it]"
     ]
    },
    {
     "name": "stdout",
     "output_type": "stream",
     "text": [
      "\t ----- reward: -42.90064688230852 for f_star and f_minus: 42.00331848042549 , 42.90064688230852\n",
      "\t ---------- State is:  (9, 4)\n",
      "[INFO] [2023-03-01 00:03:50,746] [OpenBox-SPO] Iteration 47, objective value: [43.551399294840586].\n"
     ]
    },
    {
     "name": "stderr",
     "output_type": "stream",
     "text": [
      "\r",
      "  5%|███▌                                                                         | 47/1000 [33:39<12:39:46, 47.83s/it]"
     ]
    },
    {
     "name": "stdout",
     "output_type": "stream",
     "text": [
      "\t ----- reward: -43.551399294840586 for f_star and f_minus: 42.00331848042549 , 43.551399294840586\n",
      "\t ---------- State is:  (8, 4)\n",
      "[INFO] [2023-03-01 00:04:44,624] [OpenBox-SPO] Iteration 48, objective value: [45.16557924972035].\n"
     ]
    },
    {
     "name": "stderr",
     "output_type": "stream",
     "text": [
      "\r",
      "  5%|███▋                                                                         | 48/1000 [34:32<13:07:44, 49.65s/it]"
     ]
    },
    {
     "name": "stdout",
     "output_type": "stream",
     "text": [
      "\t ----- reward: -45.16557924972035 for f_star and f_minus: 42.00331848042549 , 45.16557924972035\n",
      "\t ---------- State is:  (7, 4)\n",
      "[INFO] [2023-03-01 00:04:44,625] [Advisor] Sample random config. rand_prob=0.100000.\n",
      "[INFO] [2023-03-01 00:05:18,057] [OpenBox-SPO] Iteration 49, objective value: [48.80837210723833].\n"
     ]
    },
    {
     "name": "stderr",
     "output_type": "stream",
     "text": [
      "\r",
      "  5%|███▊                                                                         | 49/1000 [35:06<11:49:48, 44.78s/it]"
     ]
    },
    {
     "name": "stdout",
     "output_type": "stream",
     "text": [
      "\t ----- reward: -48.80837210723833 for f_star and f_minus: 42.00331848042549 , 48.80837210723833\n",
      "\t ---------- State is:  (7, 4)\n",
      "[INFO] [2023-03-01 00:05:59,338] [OpenBox-SPO] Iteration 50, objective value: [54.54048658528161].\n"
     ]
    },
    {
     "name": "stderr",
     "output_type": "stream",
     "text": [
      "\r",
      "  5%|███▊                                                                         | 50/1000 [35:47<11:32:25, 43.73s/it]"
     ]
    },
    {
     "name": "stdout",
     "output_type": "stream",
     "text": [
      "\t ----- reward: -54.54048658528161 for f_star and f_minus: 42.00331848042549 , 54.54048658528161\n",
      "\t ---------- State is:  (7, 4)\n",
      "[INFO] [2023-03-01 00:06:46,151] [OpenBox-SPO] Iteration 51, objective value: [42.25838588460583].\n"
     ]
    },
    {
     "name": "stderr",
     "output_type": "stream",
     "text": [
      "\r",
      "  5%|███▉                                                                         | 51/1000 [36:34<11:46:19, 44.66s/it]"
     ]
    },
    {
     "name": "stdout",
     "output_type": "stream",
     "text": [
      "\t ----- reward: -42.25838588460583 for f_star and f_minus: 42.00331848042549 , 42.25838588460583\n",
      "\t ---------- State is:  (8, 3)\n",
      "[INFO] [2023-03-01 00:07:29,460] [OpenBox-SPO] Iteration 52, objective value: [51.65896263936824].\n"
     ]
    },
    {
     "name": "stderr",
     "output_type": "stream",
     "text": [
      "\r",
      "  5%|████                                                                         | 52/1000 [37:17<11:39:11, 44.25s/it]"
     ]
    },
    {
     "name": "stdout",
     "output_type": "stream",
     "text": [
      "\t ----- reward: -51.65896263936824 for f_star and f_minus: 42.00331848042549 , 51.65896263936824\n",
      "\t ---------- State is:  (9, 4)\n",
      "[INFO] [2023-03-01 00:08:23,662] [OpenBox-SPO] Iteration 53, objective value: [44.967687480271636].\n"
     ]
    },
    {
     "name": "stderr",
     "output_type": "stream",
     "text": [
      "\r",
      "  5%|████                                                                         | 53/1000 [38:11<12:25:33, 47.24s/it]"
     ]
    },
    {
     "name": "stdout",
     "output_type": "stream",
     "text": [
      "\t ----- reward: -44.967687480271636 for f_star and f_minus: 42.00331848042549 , 44.967687480271636\n",
      "\t ---------- State is:  (8, 3)\n",
      "[INFO] [2023-03-01 00:09:13,385] [OpenBox-SPO] Iteration 54, objective value: [51.32940821074935].\n"
     ]
    },
    {
     "name": "stderr",
     "output_type": "stream",
     "text": [
      "\r",
      "  5%|████▏                                                                        | 54/1000 [39:01<12:36:31, 47.98s/it]"
     ]
    },
    {
     "name": "stdout",
     "output_type": "stream",
     "text": [
      "\t ----- reward: -51.32940821074935 for f_star and f_minus: 42.00331848042549 , 51.32940821074935\n",
      "\t ---------- State is:  (9, 3)\n",
      "[INFO] [2023-03-01 00:10:00,932] [OpenBox-SPO] Iteration 55, objective value: [49.010656042042285].\n"
     ]
    },
    {
     "name": "stderr",
     "output_type": "stream",
     "text": [
      "\r",
      "  6%|████▏                                                                        | 55/1000 [39:49<12:33:40, 47.85s/it]"
     ]
    },
    {
     "name": "stdout",
     "output_type": "stream",
     "text": [
      "\t ----- reward: -49.010656042042285 for f_star and f_minus: 42.00331848042549 , 49.010656042042285\n",
      "\t ---------- State is:  (8, 3)\n",
      "[INFO] [2023-03-01 00:10:00,932] [Advisor] Sample random config. rand_prob=0.100000.\n",
      "[INFO] [2023-03-01 00:10:43,189] [OpenBox-SPO] Iteration 56, objective value: [49.42501102225123].\n"
     ]
    },
    {
     "name": "stderr",
     "output_type": "stream",
     "text": [
      "\r",
      "  6%|████▎                                                                        | 56/1000 [40:31<12:06:27, 46.17s/it]"
     ]
    },
    {
     "name": "stdout",
     "output_type": "stream",
     "text": [
      "\t ----- reward: -49.42501102225123 for f_star and f_minus: 42.00331848042549 , 49.42501102225123\n",
      "\t ---------- State is:  (8, 3)\n",
      "[INFO] [2023-03-01 00:11:26,138] [OpenBox-SPO] Iteration 57, objective value: [55.1311572190203].\n"
     ]
    },
    {
     "name": "stderr",
     "output_type": "stream",
     "text": [
      "\r",
      "  6%|████▍                                                                        | 57/1000 [41:14<11:50:29, 45.21s/it]"
     ]
    },
    {
     "name": "stdout",
     "output_type": "stream",
     "text": [
      "\t ----- reward: -55.1311572190203 for f_star and f_minus: 42.00331848042549 , 55.1311572190203\n",
      "\t ---------- State is:  (7, 5)\n",
      "[INFO] [2023-03-01 00:12:12,147] [OpenBox-SPO] Iteration 58, objective value: [48.4498715033049].\n"
     ]
    },
    {
     "name": "stderr",
     "output_type": "stream",
     "text": [
      "\r",
      "  6%|████▍                                                                        | 58/1000 [42:00<11:53:31, 45.45s/it]"
     ]
    },
    {
     "name": "stdout",
     "output_type": "stream",
     "text": [
      "\t ----- reward: -48.4498715033049 for f_star and f_minus: 42.00331848042549 , 48.4498715033049\n",
      "\t ---------- State is:  (7, 6)\n",
      "[INFO] [2023-03-01 00:13:00,655] [OpenBox-SPO] Iteration 59, objective value: [49.98195627615871].\n"
     ]
    },
    {
     "name": "stderr",
     "output_type": "stream",
     "text": [
      "\r",
      "  6%|████▌                                                                        | 59/1000 [42:48<12:07:09, 46.37s/it]"
     ]
    },
    {
     "name": "stdout",
     "output_type": "stream",
     "text": [
      "\t ----- reward: -49.98195627615871 for f_star and f_minus: 42.00331848042549 , 49.98195627615871\n",
      "\t ---------- State is:  (7, 6)\n",
      "[INFO] [2023-03-01 00:13:50,254] [OpenBox-SPO] Iteration 60, objective value: [43.79888654984839].\n"
     ]
    },
    {
     "name": "stderr",
     "output_type": "stream",
     "text": [
      "\r",
      "  6%|████▌                                                                        | 60/1000 [43:38<12:21:35, 47.34s/it]"
     ]
    },
    {
     "name": "stdout",
     "output_type": "stream",
     "text": [
      "\t ----- reward: -43.79888654984839 for f_star and f_minus: 42.00331848042549 , 43.79888654984839\n",
      "\t ---------- State is:  (8, 6)\n",
      "[INFO] [2023-03-01 00:14:34,496] [OpenBox-SPO] Iteration 61, objective value: [65.90736250922569].\n"
     ]
    },
    {
     "name": "stderr",
     "output_type": "stream",
     "text": [
      "\r",
      "  6%|████▋                                                                        | 61/1000 [44:22<12:06:16, 46.41s/it]"
     ]
    },
    {
     "name": "stdout",
     "output_type": "stream",
     "text": [
      "\t ----- reward: -65.90736250922569 for f_star and f_minus: 42.00331848042549 , 65.90736250922569\n",
      "\t ---------- State is:  (7, 6)\n",
      "[INFO] [2023-03-01 00:15:21,106] [OpenBox-SPO] Iteration 62, objective value: [51.989210247606145].\n"
     ]
    },
    {
     "name": "stderr",
     "output_type": "stream",
     "text": [
      "\r",
      "  6%|████▊                                                                        | 62/1000 [45:09<12:06:31, 46.47s/it]"
     ]
    },
    {
     "name": "stdout",
     "output_type": "stream",
     "text": [
      "\t ----- reward: -51.989210247606145 for f_star and f_minus: 42.00331848042549 , 51.989210247606145\n",
      "\t ---------- State is:  (6, 6)\n",
      "[INFO] [2023-03-01 00:16:10,395] [OpenBox-SPO] Iteration 63, objective value: [54.428276806613624].\n"
     ]
    },
    {
     "name": "stderr",
     "output_type": "stream",
     "text": [
      "\r",
      "  6%|████▊                                                                        | 63/1000 [45:58<12:18:52, 47.31s/it]"
     ]
    },
    {
     "name": "stdout",
     "output_type": "stream",
     "text": [
      "\t ----- reward: -54.428276806613624 for f_star and f_minus: 42.00331848042549 , 54.428276806613624\n",
      "\t ---------- State is:  (6, 7)\n",
      "[INFO] [2023-03-01 00:17:01,980] [OpenBox-SPO] Iteration 64, objective value: [50.889006619033474].\n"
     ]
    },
    {
     "name": "stderr",
     "output_type": "stream",
     "text": [
      "\r",
      "  6%|████▉                                                                        | 64/1000 [46:50<12:38:04, 48.59s/it]"
     ]
    },
    {
     "name": "stdout",
     "output_type": "stream",
     "text": [
      "\t ----- reward: -50.889006619033474 for f_star and f_minus: 42.00331848042549 , 50.889006619033474\n",
      "\t ---------- State is:  (7, 7)\n",
      "[INFO] [2023-03-01 00:17:49,327] [OpenBox-SPO] Iteration 65, objective value: [52.908522422713666].\n"
     ]
    },
    {
     "name": "stderr",
     "output_type": "stream",
     "text": [
      "\r",
      "  6%|█████                                                                        | 65/1000 [47:37<12:31:26, 48.22s/it]"
     ]
    },
    {
     "name": "stdout",
     "output_type": "stream",
     "text": [
      "\t ----- reward: -52.908522422713666 for f_star and f_minus: 42.00331848042549 , 52.908522422713666\n",
      "\t ---------- State is:  (7, 7)\n",
      "[INFO] [2023-03-01 00:17:49,328] [Advisor] Sample random config. rand_prob=0.100000.\n",
      "[INFO] [2023-03-01 00:18:17,844] [OpenBox-SPO] Iteration 66, objective value: [59.26516542373239].\n"
     ]
    },
    {
     "name": "stderr",
     "output_type": "stream",
     "text": [
      "\r",
      "  7%|█████                                                                        | 66/1000 [48:06<10:58:36, 42.31s/it]"
     ]
    },
    {
     "name": "stdout",
     "output_type": "stream",
     "text": [
      "\t ----- reward: -59.26516542373239 for f_star and f_minus: 42.00331848042549 , 59.26516542373239\n",
      "\t ---------- State is:  (8, 8)\n",
      "[INFO] [2023-03-01 00:19:05,749] [OpenBox-SPO] Iteration 67, objective value: [44.24561672458345].\n"
     ]
    },
    {
     "name": "stderr",
     "output_type": "stream",
     "text": [
      "\r",
      "  7%|█████▏                                                                       | 67/1000 [48:54<11:24:00, 43.99s/it]"
     ]
    },
    {
     "name": "stdout",
     "output_type": "stream",
     "text": [
      "\t ----- reward: -44.24561672458345 for f_star and f_minus: 42.00331848042549 , 44.24561672458345\n",
      "\t ---------- State is:  (7, 8)\n",
      "[INFO] [2023-03-01 00:19:54,932] [OpenBox-SPO] Iteration 68, objective value: [40.55558138778509].\n"
     ]
    },
    {
     "name": "stderr",
     "output_type": "stream",
     "text": [
      "\r",
      "  7%|█████▏                                                                       | 68/1000 [49:43<11:47:29, 45.55s/it]"
     ]
    },
    {
     "name": "stdout",
     "output_type": "stream",
     "text": [
      "\t ----- reward: -40.55558138778509 for f_star and f_minus: 42.00331848042549 , 40.55558138778509\n",
      "\t ---------- State is:  (8, 8)\n",
      "[INFO] [2023-03-01 00:20:44,220] [OpenBox-SPO] Iteration 69, objective value: [42.136484100720274].\n"
     ]
    },
    {
     "name": "stderr",
     "output_type": "stream",
     "text": [
      "\r",
      "  7%|█████▎                                                                       | 69/1000 [50:32<12:04:08, 46.67s/it]"
     ]
    },
    {
     "name": "stdout",
     "output_type": "stream",
     "text": [
      "\t ----- reward: -42.136484100720274 for f_star and f_minus: 40.55558138778509 , 42.136484100720274\n",
      "\t ---------- State is:  (8, 9)\n",
      "[INFO] [2023-03-01 00:21:29,407] [OpenBox-SPO] Iteration 70, objective value: [50.343363141163024].\n"
     ]
    },
    {
     "name": "stderr",
     "output_type": "stream",
     "text": [
      "\r",
      "  7%|█████▍                                                                       | 70/1000 [51:17<11:56:28, 46.22s/it]"
     ]
    },
    {
     "name": "stdout",
     "output_type": "stream",
     "text": [
      "\t ----- reward: -50.343363141163024 for f_star and f_minus: 40.55558138778509 , 50.343363141163024\n",
      "\t ---------- State is:  (8, 9)\n",
      "[INFO] [2023-03-01 00:22:19,623] [OpenBox-SPO] Iteration 71, objective value: [47.369452769825635].\n"
     ]
    },
    {
     "name": "stderr",
     "output_type": "stream",
     "text": [
      "\r",
      "  7%|█████▍                                                                       | 71/1000 [52:07<12:14:14, 47.42s/it]"
     ]
    },
    {
     "name": "stdout",
     "output_type": "stream",
     "text": [
      "\t ----- reward: -47.369452769825635 for f_star and f_minus: 40.55558138778509 , 47.369452769825635\n",
      "\t ---------- State is:  (8, 9)\n",
      "[INFO] [2023-03-01 00:23:06,211] [OpenBox-SPO] Iteration 72, objective value: [49.503973084202656].\n"
     ]
    },
    {
     "name": "stderr",
     "output_type": "stream",
     "text": [
      "\r",
      "  7%|█████▌                                                                       | 72/1000 [52:54<12:09:35, 47.17s/it]"
     ]
    },
    {
     "name": "stdout",
     "output_type": "stream",
     "text": [
      "\t ----- reward: -49.503973084202656 for f_star and f_minus: 40.55558138778509 , 49.503973084202656\n",
      "\t ---------- State is:  (7, 9)\n",
      "[INFO] [2023-03-01 00:23:51,641] [OpenBox-SPO] Iteration 73, objective value: [49.63695330508982].\n"
     ]
    },
    {
     "name": "stderr",
     "output_type": "stream",
     "text": [
      "\r",
      "  7%|█████▌                                                                       | 73/1000 [53:39<12:00:43, 46.65s/it]"
     ]
    },
    {
     "name": "stdout",
     "output_type": "stream",
     "text": [
      "\t ----- reward: -49.63695330508982 for f_star and f_minus: 40.55558138778509 , 49.63695330508982\n",
      "\t ---------- State is:  (8, 9)\n",
      "[INFO] [2023-03-01 00:24:36,116] [OpenBox-SPO] Iteration 74, objective value: [41.93618280430276].\n"
     ]
    },
    {
     "name": "stderr",
     "output_type": "stream",
     "text": [
      "\r",
      "  7%|█████▋                                                                       | 74/1000 [54:24<11:49:53, 46.00s/it]"
     ]
    },
    {
     "name": "stdout",
     "output_type": "stream",
     "text": [
      "\t ----- reward: -41.93618280430276 for f_star and f_minus: 40.55558138778509 , 41.93618280430276\n",
      "\t ---------- State is:  (9, 9)\n",
      "[INFO] [2023-03-01 00:25:27,471] [OpenBox-SPO] Iteration 75, objective value: [51.831159029041245].\n"
     ]
    },
    {
     "name": "stderr",
     "output_type": "stream",
     "text": [
      "\r",
      "  8%|█████▊                                                                       | 75/1000 [55:15<12:13:53, 47.60s/it]"
     ]
    },
    {
     "name": "stdout",
     "output_type": "stream",
     "text": [
      "\t ----- reward: -51.831159029041245 for f_star and f_minus: 40.55558138778509 , 51.831159029041245\n",
      "\t ---------- State is:  (8, 9)\n",
      "[INFO] [2023-03-01 00:26:02,369] [OpenBox-SPO] Iteration 76, objective value: [53.51227791677316].\n"
     ]
    },
    {
     "name": "stderr",
     "output_type": "stream",
     "text": [
      "\r",
      "  8%|█████▊                                                                       | 76/1000 [55:50<11:14:24, 43.79s/it]"
     ]
    },
    {
     "name": "stdout",
     "output_type": "stream",
     "text": [
      "\t ----- reward: -53.51227791677316 for f_star and f_minus: 40.55558138778509 , 53.51227791677316\n",
      "\t ---------- State is:  (8, 9)\n",
      "[INFO] [2023-03-01 00:26:50,856] [OpenBox-SPO] Iteration 77, objective value: [38.55101123114088].\n"
     ]
    },
    {
     "name": "stderr",
     "output_type": "stream",
     "text": [
      "\r",
      "  8%|█████▉                                                                       | 77/1000 [56:39<11:35:20, 45.20s/it]"
     ]
    },
    {
     "name": "stdout",
     "output_type": "stream",
     "text": [
      "\t ----- reward: -38.55101123114088 for f_star and f_minus: 40.55558138778509 , 38.55101123114088\n",
      "\t ---------- State is:  (7, 9)\n",
      "[INFO] [2023-03-01 00:27:39,760] [OpenBox-SPO] Iteration 78, objective value: [49.83477020435538].\n"
     ]
    },
    {
     "name": "stderr",
     "output_type": "stream",
     "text": [
      "\r",
      "  8%|██████                                                                       | 78/1000 [57:28<11:51:39, 46.31s/it]"
     ]
    },
    {
     "name": "stdout",
     "output_type": "stream",
     "text": [
      "\t ----- reward: -49.83477020435538 for f_star and f_minus: 38.55101123114088 , 49.83477020435538\n",
      "\t ---------- State is:  (7, 11)\n",
      "[INFO] [2023-03-01 00:28:36,077] [OpenBox-SPO] Iteration 79, objective value: [43.169502726121344].\n"
     ]
    },
    {
     "name": "stderr",
     "output_type": "stream",
     "text": [
      "\r",
      "  8%|██████                                                                       | 79/1000 [58:24<12:36:57, 49.31s/it]"
     ]
    },
    {
     "name": "stdout",
     "output_type": "stream",
     "text": [
      "\t ----- reward: -43.169502726121344 for f_star and f_minus: 38.55101123114088 , 43.169502726121344\n",
      "\t ---------- State is:  (7, 11)\n",
      "[INFO] [2023-03-01 00:29:27,182] [OpenBox-SPO] Iteration 80, objective value: [40.61768993213737].\n"
     ]
    },
    {
     "name": "stderr",
     "output_type": "stream",
     "text": [
      "\r",
      "  8%|██████▏                                                                      | 80/1000 [59:15<12:44:22, 49.85s/it]"
     ]
    },
    {
     "name": "stdout",
     "output_type": "stream",
     "text": [
      "\t ----- reward: -40.61768993213737 for f_star and f_minus: 38.55101123114088 , 40.61768993213737\n",
      "\t ---------- State is:  (6, 11)\n",
      "[INFO] [2023-03-01 00:30:15,178] [OpenBox-SPO] Iteration 81, objective value: [48.355159331287446].\n"
     ]
    },
    {
     "name": "stderr",
     "output_type": "stream",
     "text": [
      "\r",
      "  8%|██████                                                                     | 81/1000 [1:00:03<12:35:01, 49.29s/it]"
     ]
    },
    {
     "name": "stdout",
     "output_type": "stream",
     "text": [
      "\t ----- reward: -48.355159331287446 for f_star and f_minus: 38.55101123114088 , 48.355159331287446\n",
      "\t ---------- State is:  (7, 11)\n",
      "[INFO] [2023-03-01 00:30:57,717] [OpenBox-SPO] Iteration 82, objective value: [52.066624124973984].\n"
     ]
    },
    {
     "name": "stderr",
     "output_type": "stream",
     "text": [
      "\r",
      "  8%|██████▏                                                                    | 82/1000 [1:00:46<12:03:16, 47.27s/it]"
     ]
    },
    {
     "name": "stdout",
     "output_type": "stream",
     "text": [
      "\t ----- reward: -52.066624124973984 for f_star and f_minus: 38.55101123114088 , 52.066624124973984\n",
      "\t ---------- State is:  (6, 11)\n",
      "[INFO] [2023-03-01 00:30:57,733] [Advisor] Sample random config. rand_prob=0.100000.\n",
      "[INFO] [2023-03-01 00:31:21,683] [OpenBox-SPO] Iteration 83, objective value: [60.42227976153072].\n"
     ]
    },
    {
     "name": "stderr",
     "output_type": "stream",
     "text": [
      "\r",
      "  8%|██████▏                                                                    | 83/1000 [1:01:09<10:15:32, 40.28s/it]"
     ]
    },
    {
     "name": "stdout",
     "output_type": "stream",
     "text": [
      "\t ----- reward: -60.42227976153072 for f_star and f_minus: 38.55101123114088 , 60.42227976153072\n",
      "\t ---------- State is:  (5, 11)\n",
      "[INFO] [2023-03-01 00:32:12,655] [OpenBox-SPO] Iteration 84, objective value: [41.953809152729015].\n"
     ]
    },
    {
     "name": "stderr",
     "output_type": "stream",
     "text": [
      "\r",
      "  8%|██████▎                                                                    | 84/1000 [1:02:00<11:03:51, 43.48s/it]"
     ]
    },
    {
     "name": "stdout",
     "output_type": "stream",
     "text": [
      "\t ----- reward: -41.953809152729015 for f_star and f_minus: 38.55101123114088 , 41.953809152729015\n",
      "\t ---------- State is:  (4, 10)\n",
      "[INFO] [2023-03-01 00:33:03,365] [OpenBox-SPO] Iteration 85, objective value: [44.93680320134411].\n"
     ]
    },
    {
     "name": "stderr",
     "output_type": "stream",
     "text": [
      "\r",
      "  8%|██████▍                                                                    | 85/1000 [1:02:51<11:36:11, 45.65s/it]"
     ]
    },
    {
     "name": "stdout",
     "output_type": "stream",
     "text": [
      "\t ----- reward: -44.93680320134411 for f_star and f_minus: 38.55101123114088 , 44.93680320134411\n",
      "\t ---------- State is:  (4, 9)\n",
      "[INFO] [2023-03-01 00:33:54,299] [OpenBox-SPO] Iteration 86, objective value: [42.12304873443738].\n"
     ]
    },
    {
     "name": "stderr",
     "output_type": "stream",
     "text": [
      "\r",
      "  9%|██████▍                                                                    | 86/1000 [1:03:42<11:59:34, 47.24s/it]"
     ]
    },
    {
     "name": "stdout",
     "output_type": "stream",
     "text": [
      "\t ----- reward: -42.12304873443738 for f_star and f_minus: 38.55101123114088 , 42.12304873443738\n",
      "\t ---------- State is:  (5, 7)\n",
      "[INFO] [2023-03-01 00:34:41,461] [OpenBox-SPO] Iteration 87, objective value: [41.89988075644926].\n"
     ]
    },
    {
     "name": "stderr",
     "output_type": "stream",
     "text": [
      "\r",
      "  9%|██████▌                                                                    | 87/1000 [1:04:29<11:58:26, 47.21s/it]"
     ]
    },
    {
     "name": "stdout",
     "output_type": "stream",
     "text": [
      "\t ----- reward: -41.89988075644926 for f_star and f_minus: 38.55101123114088 , 41.89988075644926\n",
      "\t ---------- State is:  (4, 7)\n",
      "[INFO] [2023-03-01 00:34:41,476] [Advisor] Sample random config. rand_prob=0.100000.\n",
      "[INFO] [2023-03-01 00:35:14,225] [OpenBox-SPO] Iteration 88, objective value: [59.791559838629524].\n"
     ]
    },
    {
     "name": "stderr",
     "output_type": "stream",
     "text": [
      "\r",
      "  9%|██████▌                                                                    | 88/1000 [1:05:02<10:51:45, 42.88s/it]"
     ]
    },
    {
     "name": "stdout",
     "output_type": "stream",
     "text": [
      "\t ----- reward: -59.791559838629524 for f_star and f_minus: 38.55101123114088 , 59.791559838629524\n",
      "\t ---------- State is:  (4, 9)\n",
      "[INFO] [2023-03-01 00:35:56,031] [OpenBox-SPO] Iteration 89, objective value: [49.62220431956589].\n"
     ]
    },
    {
     "name": "stderr",
     "output_type": "stream",
     "text": [
      "\r",
      "  9%|██████▋                                                                    | 89/1000 [1:05:44<10:46:09, 42.56s/it]"
     ]
    },
    {
     "name": "stdout",
     "output_type": "stream",
     "text": [
      "\t ----- reward: -49.62220431956589 for f_star and f_minus: 38.55101123114088 , 49.62220431956589\n",
      "\t ---------- State is:  (4, 10)\n",
      "[INFO] [2023-03-01 00:36:38,098] [OpenBox-SPO] Iteration 90, objective value: [48.11941212432418].\n"
     ]
    },
    {
     "name": "stderr",
     "output_type": "stream",
     "text": [
      "\r",
      "  9%|██████▊                                                                    | 90/1000 [1:06:26<10:43:13, 42.41s/it]"
     ]
    },
    {
     "name": "stdout",
     "output_type": "stream",
     "text": [
      "\t ----- reward: -48.11941212432418 for f_star and f_minus: 38.55101123114088 , 48.11941212432418\n",
      "\t ---------- State is:  (5, 9)\n",
      "[INFO] [2023-03-01 00:37:25,136] [OpenBox-SPO] Iteration 91, objective value: [45.788371830672304].\n"
     ]
    },
    {
     "name": "stderr",
     "output_type": "stream",
     "text": [
      "\r",
      "  9%|██████▊                                                                    | 91/1000 [1:07:13<11:03:32, 43.80s/it]"
     ]
    },
    {
     "name": "stdout",
     "output_type": "stream",
     "text": [
      "\t ----- reward: -45.788371830672304 for f_star and f_minus: 38.55101123114088 , 45.788371830672304\n",
      "\t ---------- State is:  (5, 9)\n",
      "[INFO] [2023-03-01 00:37:25,136] [Advisor] Sample random config. rand_prob=0.100000.\n",
      "[INFO] [2023-03-01 00:37:49,173] [OpenBox-SPO] Iteration 92, objective value: [61.82430882000586].\n"
     ]
    },
    {
     "name": "stderr",
     "output_type": "stream",
     "text": [
      "\r",
      "  9%|██████▉                                                                     | 92/1000 [1:07:37<9:33:06, 37.87s/it]"
     ]
    },
    {
     "name": "stdout",
     "output_type": "stream",
     "text": [
      "\t ----- reward: -61.82430882000586 for f_star and f_minus: 38.55101123114088 , 61.82430882000586\n",
      "\t ---------- State is:  (5, 9)\n",
      "[INFO] [2023-03-01 00:38:35,861] [OpenBox-SPO] Iteration 93, objective value: [54.15399212920835].\n"
     ]
    },
    {
     "name": "stderr",
     "output_type": "stream",
     "text": [
      "\r",
      "  9%|██████▉                                                                    | 93/1000 [1:08:24<10:12:27, 40.52s/it]"
     ]
    },
    {
     "name": "stdout",
     "output_type": "stream",
     "text": [
      "\t ----- reward: -54.15399212920835 for f_star and f_minus: 38.55101123114088 , 54.15399212920835\n",
      "\t ---------- State is:  (5, 9)\n",
      "[INFO] [2023-03-01 00:39:26,684] [OpenBox-SPO] Iteration 94, objective value: [52.238169105895].\n"
     ]
    },
    {
     "name": "stderr",
     "output_type": "stream",
     "text": [
      "\r",
      "  9%|███████                                                                    | 94/1000 [1:09:14<10:58:28, 43.61s/it]"
     ]
    },
    {
     "name": "stdout",
     "output_type": "stream",
     "text": [
      "\t ----- reward: -52.238169105895 for f_star and f_minus: 38.55101123114088 , 52.238169105895\n",
      "\t ---------- State is:  (6, 10)\n",
      "[INFO] [2023-03-01 00:40:13,229] [OpenBox-SPO] Iteration 95, objective value: [37.39480267026186].\n"
     ]
    },
    {
     "name": "stderr",
     "output_type": "stream",
     "text": [
      "\r",
      " 10%|███████▏                                                                   | 95/1000 [1:10:01<11:11:02, 44.49s/it]"
     ]
    },
    {
     "name": "stdout",
     "output_type": "stream",
     "text": [
      "\t ----- reward: -37.39480267026186 for f_star and f_minus: 38.55101123114088 , 37.39480267026186\n",
      "\t ---------- State is:  (5, 9)\n",
      "[INFO] [2023-03-01 00:41:00,778] [OpenBox-SPO] Iteration 96, objective value: [35.00010322805835].\n"
     ]
    },
    {
     "name": "stderr",
     "output_type": "stream",
     "text": [
      "\r",
      " 10%|███████▏                                                                   | 96/1000 [1:10:49<11:24:07, 45.41s/it]"
     ]
    },
    {
     "name": "stdout",
     "output_type": "stream",
     "text": [
      "\t ----- reward: -35.00010322805835 for f_star and f_minus: 37.39480267026186 , 35.00010322805835\n",
      "\t ---------- State is:  (4, 9)\n",
      "[INFO] [2023-03-01 00:41:45,321] [OpenBox-SPO] Iteration 97, objective value: [53.581499694537165].\n"
     ]
    },
    {
     "name": "stderr",
     "output_type": "stream",
     "text": [
      "\r",
      " 10%|███████▎                                                                   | 97/1000 [1:11:33<11:19:28, 45.15s/it]"
     ]
    },
    {
     "name": "stdout",
     "output_type": "stream",
     "text": [
      "\t ----- reward: -53.581499694537165 for f_star and f_minus: 35.00010322805835 , 53.581499694537165\n",
      "\t ---------- State is:  (3, 13)\n",
      "[INFO] [2023-03-01 00:41:45,321] [Advisor] Sample random config. rand_prob=0.100000.\n",
      "[INFO] [2023-03-01 00:42:20,240] [OpenBox-SPO] Iteration 98, objective value: [51.43442024278349].\n"
     ]
    },
    {
     "name": "stderr",
     "output_type": "stream",
     "text": [
      "\r",
      " 10%|███████▎                                                                   | 98/1000 [1:12:08<10:32:35, 42.08s/it]"
     ]
    },
    {
     "name": "stdout",
     "output_type": "stream",
     "text": [
      "\t ----- reward: -51.43442024278349 for f_star and f_minus: 35.00010322805835 , 51.43442024278349\n",
      "\t ---------- State is:  (2, 13)\n",
      "[INFO] [2023-03-01 00:43:06,663] [OpenBox-SPO] Iteration 99, objective value: [49.31649481708181].\n"
     ]
    },
    {
     "name": "stderr",
     "output_type": "stream",
     "text": [
      "\r",
      " 10%|███████▍                                                                   | 99/1000 [1:12:54<10:51:27, 43.38s/it]"
     ]
    },
    {
     "name": "stdout",
     "output_type": "stream",
     "text": [
      "\t ----- reward: -49.31649481708181 for f_star and f_minus: 35.00010322805835 , 49.31649481708181\n",
      "\t ---------- State is:  (1, 13)\n",
      "[INFO] [2023-03-01 00:43:51,426] [OpenBox-SPO] Iteration 100, objective value: [35.26750904700798].\n"
     ]
    },
    {
     "name": "stderr",
     "output_type": "stream",
     "text": [
      "\r",
      " 10%|███████▍                                                                  | 100/1000 [1:13:39<10:56:56, 43.80s/it]"
     ]
    },
    {
     "name": "stdout",
     "output_type": "stream",
     "text": [
      "\t ----- reward: -35.26750904700798 for f_star and f_minus: 35.00010322805835 , 35.26750904700798\n",
      "\t ---------- State is:  (2, 13)\n",
      "[INFO] [2023-03-01 00:44:39,539] [OpenBox-SPO] Iteration 101, objective value: [50.01368013810946].\n"
     ]
    },
    {
     "name": "stderr",
     "output_type": "stream",
     "text": [
      "\r",
      " 10%|███████▍                                                                  | 101/1000 [1:14:27<11:15:37, 45.09s/it]"
     ]
    },
    {
     "name": "stdout",
     "output_type": "stream",
     "text": [
      "\t ----- reward: -50.01368013810946 for f_star and f_minus: 35.00010322805835 , 50.01368013810946\n",
      "\t ---------- State is:  (3, 14)\n",
      "[INFO] [2023-03-01 00:45:30,528] [OpenBox-SPO] Iteration 102, objective value: [44.684572040523754].\n"
     ]
    },
    {
     "name": "stderr",
     "output_type": "stream",
     "text": [
      "\r",
      " 10%|███████▌                                                                  | 102/1000 [1:15:18<11:41:20, 46.86s/it]"
     ]
    },
    {
     "name": "stdout",
     "output_type": "stream",
     "text": [
      "\t ----- reward: -44.684572040523754 for f_star and f_minus: 35.00010322805835 , 44.684572040523754\n",
      "\t ---------- State is:  (3, 13)\n",
      "[INFO] [2023-03-01 00:46:24,541] [OpenBox-SPO] Iteration 103, objective value: [53.88623566337819].\n"
     ]
    },
    {
     "name": "stderr",
     "output_type": "stream",
     "text": [
      "\r",
      " 10%|███████▌                                                                  | 103/1000 [1:16:12<12:12:38, 49.01s/it]"
     ]
    },
    {
     "name": "stdout",
     "output_type": "stream",
     "text": [
      "\t ----- reward: -53.88623566337819 for f_star and f_minus: 35.00010322805835 , 53.88623566337819\n",
      "\t ---------- State is:  (3, 13)\n",
      "[INFO] [2023-03-01 00:46:24,541] [Advisor] Sample random config. rand_prob=0.100000.\n",
      "[INFO] [2023-03-01 00:46:56,379] [OpenBox-SPO] Iteration 104, objective value: [46.05060690208953].\n"
     ]
    },
    {
     "name": "stderr",
     "output_type": "stream",
     "text": [
      "\r",
      " 10%|███████▋                                                                  | 104/1000 [1:16:44<10:54:54, 43.86s/it]"
     ]
    },
    {
     "name": "stdout",
     "output_type": "stream",
     "text": [
      "\t ----- reward: -46.05060690208953 for f_star and f_minus: 35.00010322805835 , 46.05060690208953\n",
      "\t ---------- State is:  (4, 13)\n",
      "[INFO] [2023-03-01 00:47:49,006] [OpenBox-SPO] Iteration 105, objective value: [35.80051260111597].\n"
     ]
    },
    {
     "name": "stderr",
     "output_type": "stream",
     "text": [
      "\r",
      " 10%|███████▊                                                                  | 105/1000 [1:17:37<11:33:25, 46.49s/it]"
     ]
    },
    {
     "name": "stdout",
     "output_type": "stream",
     "text": [
      "\t ----- reward: -35.80051260111597 for f_star and f_minus: 35.00010322805835 , 35.80051260111597\n",
      "\t ---------- State is:  (5, 13)\n",
      "[INFO] [2023-03-01 00:48:39,596] [OpenBox-SPO] Iteration 106, objective value: [35.455509093806725].\n"
     ]
    },
    {
     "name": "stderr",
     "output_type": "stream",
     "text": [
      "\r",
      " 11%|███████▊                                                                  | 106/1000 [1:18:27<11:51:00, 47.72s/it]"
     ]
    },
    {
     "name": "stdout",
     "output_type": "stream",
     "text": [
      "\t ----- reward: -35.455509093806725 for f_star and f_minus: 35.00010322805835 , 35.455509093806725\n",
      "\t ---------- State is:  (6, 13)\n",
      "[INFO] [2023-03-01 00:49:22,949] [OpenBox-SPO] Iteration 107, objective value: [53.21474143556511].\n"
     ]
    },
    {
     "name": "stderr",
     "output_type": "stream",
     "text": [
      "\r",
      " 11%|███████▉                                                                  | 107/1000 [1:19:11<11:30:42, 46.41s/it]"
     ]
    },
    {
     "name": "stdout",
     "output_type": "stream",
     "text": [
      "\t ----- reward: -53.21474143556511 for f_star and f_minus: 35.00010322805835 , 53.21474143556511\n",
      "\t ---------- State is:  (6, 14)\n",
      "[INFO] [2023-03-01 00:50:06,452] [OpenBox-SPO] Iteration 108, objective value: [50.923872278755056].\n"
     ]
    },
    {
     "name": "stderr",
     "output_type": "stream",
     "text": [
      "\r",
      " 11%|███████▉                                                                  | 108/1000 [1:19:54<11:16:58, 45.54s/it]"
     ]
    },
    {
     "name": "stdout",
     "output_type": "stream",
     "text": [
      "\t ----- reward: -50.923872278755056 for f_star and f_minus: 35.00010322805835 , 50.923872278755056\n",
      "\t ---------- State is:  (5, 14)\n",
      "[INFO] [2023-03-01 00:50:53,182] [OpenBox-SPO] Iteration 109, objective value: [47.64631889062046].\n"
     ]
    },
    {
     "name": "stderr",
     "output_type": "stream",
     "text": [
      "\r",
      " 11%|████████                                                                  | 109/1000 [1:20:41<11:21:32, 45.89s/it]"
     ]
    },
    {
     "name": "stdout",
     "output_type": "stream",
     "text": [
      "\t ----- reward: -47.64631889062046 for f_star and f_minus: 35.00010322805835 , 47.64631889062046\n",
      "\t ---------- State is:  (5, 13)\n",
      "[INFO] [2023-03-01 00:51:32,849] [OpenBox-SPO] Iteration 110, objective value: [36.98856014544278].\n"
     ]
    },
    {
     "name": "stderr",
     "output_type": "stream",
     "text": [
      "\r",
      " 11%|████████▏                                                                 | 110/1000 [1:21:21<10:53:03, 44.03s/it]"
     ]
    },
    {
     "name": "stdout",
     "output_type": "stream",
     "text": [
      "\t ----- reward: -36.98856014544278 for f_star and f_minus: 35.00010322805835 , 36.98856014544278\n",
      "\t ---------- State is:  (5, 13)\n",
      "[INFO] [2023-03-01 00:52:05,224] [OpenBox-SPO] Iteration 111, objective value: [51.42466677869236].\n"
     ]
    },
    {
     "name": "stderr",
     "output_type": "stream",
     "text": [
      "\r",
      " 11%|████████▏                                                                 | 111/1000 [1:21:53<10:00:31, 40.53s/it]"
     ]
    },
    {
     "name": "stdout",
     "output_type": "stream",
     "text": [
      "\t ----- reward: -51.42466677869236 for f_star and f_minus: 35.00010322805835 , 51.42466677869236\n",
      "\t ---------- State is:  (4, 14)\n",
      "[INFO] [2023-03-01 00:52:47,758] [OpenBox-SPO] Iteration 112, objective value: [43.38083771556958].\n"
     ]
    },
    {
     "name": "stderr",
     "output_type": "stream",
     "text": [
      "\r",
      " 11%|████████▎                                                                 | 112/1000 [1:22:36<10:08:45, 41.13s/it]"
     ]
    },
    {
     "name": "stdout",
     "output_type": "stream",
     "text": [
      "\t ----- reward: -43.38083771556958 for f_star and f_minus: 35.00010322805835 , 43.38083771556958\n",
      "\t ---------- State is:  (3, 13)\n",
      "[INFO] [2023-03-01 00:53:33,428] [OpenBox-SPO] Iteration 113, objective value: [43.57463363230438].\n"
     ]
    },
    {
     "name": "stderr",
     "output_type": "stream",
     "text": [
      "\r",
      " 11%|████████▎                                                                 | 113/1000 [1:23:21<10:28:11, 42.49s/it]"
     ]
    },
    {
     "name": "stdout",
     "output_type": "stream",
     "text": [
      "\t ----- reward: -43.57463363230438 for f_star and f_minus: 35.00010322805835 , 43.57463363230438\n",
      "\t ---------- State is:  (4, 11)\n",
      "[INFO] [2023-03-01 00:54:21,083] [OpenBox-SPO] Iteration 114, objective value: [56.28092416954737].\n"
     ]
    },
    {
     "name": "stderr",
     "output_type": "stream",
     "text": [
      "\r",
      " 11%|████████▍                                                                 | 114/1000 [1:24:09<10:50:21, 44.04s/it]"
     ]
    },
    {
     "name": "stdout",
     "output_type": "stream",
     "text": [
      "\t ----- reward: -56.28092416954737 for f_star and f_minus: 35.00010322805835 , 56.28092416954737\n",
      "\t ---------- State is:  (5, 11)\n",
      "[INFO] [2023-03-01 00:55:08,228] [OpenBox-SPO] Iteration 115, objective value: [47.82597413042347].\n"
     ]
    },
    {
     "name": "stderr",
     "output_type": "stream",
     "text": [
      "\r",
      " 12%|████████▌                                                                 | 115/1000 [1:24:56<11:03:21, 44.97s/it]"
     ]
    },
    {
     "name": "stdout",
     "output_type": "stream",
     "text": [
      "\t ----- reward: -47.82597413042347 for f_star and f_minus: 35.00010322805835 , 47.82597413042347\n",
      "\t ---------- State is:  (6, 12)\n",
      "[INFO] [2023-03-01 00:55:08,228] [Advisor] Sample random config. rand_prob=0.100000.\n",
      "[INFO] [2023-03-01 00:55:47,446] [OpenBox-SPO] Iteration 116, objective value: [45.8341250296031].\n"
     ]
    },
    {
     "name": "stderr",
     "output_type": "stream",
     "text": [
      "\r",
      " 12%|████████▌                                                                 | 116/1000 [1:25:35<10:37:10, 43.25s/it]"
     ]
    },
    {
     "name": "stdout",
     "output_type": "stream",
     "text": [
      "\t ----- reward: -45.8341250296031 for f_star and f_minus: 35.00010322805835 , 45.8341250296031\n",
      "\t ---------- State is:  (7, 12)\n",
      "[INFO] [2023-03-01 00:56:29,303] [OpenBox-SPO] Iteration 117, objective value: [46.06269148601946].\n"
     ]
    },
    {
     "name": "stderr",
     "output_type": "stream",
     "text": [
      "\r",
      " 12%|████████▋                                                                 | 117/1000 [1:26:17<10:30:18, 42.83s/it]"
     ]
    },
    {
     "name": "stdout",
     "output_type": "stream",
     "text": [
      "\t ----- reward: -46.06269148601946 for f_star and f_minus: 35.00010322805835 , 46.06269148601946\n",
      "\t ---------- State is:  (8, 11)\n",
      "[INFO] [2023-03-01 00:57:09,640] [OpenBox-SPO] Iteration 118, objective value: [38.31995438081102].\n"
     ]
    },
    {
     "name": "stderr",
     "output_type": "stream",
     "text": [
      "\r",
      " 12%|████████▋                                                                 | 118/1000 [1:26:57<10:18:36, 42.08s/it]"
     ]
    },
    {
     "name": "stdout",
     "output_type": "stream",
     "text": [
      "\t ----- reward: -38.31995438081102 for f_star and f_minus: 35.00010322805835 , 38.31995438081102\n",
      "\t ---------- State is:  (7, 11)\n",
      "[INFO] [2023-03-01 00:57:59,329] [OpenBox-SPO] Iteration 119, objective value: [36.46885307891022].\n"
     ]
    },
    {
     "name": "stderr",
     "output_type": "stream",
     "text": [
      "\r",
      " 12%|████████▊                                                                 | 119/1000 [1:27:47<10:51:24, 44.36s/it]"
     ]
    },
    {
     "name": "stdout",
     "output_type": "stream",
     "text": [
      "\t ----- reward: -36.46885307891022 for f_star and f_minus: 35.00010322805835 , 36.46885307891022\n",
      "\t ---------- State is:  (7, 10)\n",
      "[INFO] [2023-03-01 00:58:47,534] [OpenBox-SPO] Iteration 120, objective value: [39.048786692570495].\n"
     ]
    },
    {
     "name": "stderr",
     "output_type": "stream",
     "text": [
      "\r",
      " 12%|████████▉                                                                 | 120/1000 [1:28:35<11:07:34, 45.52s/it]"
     ]
    },
    {
     "name": "stdout",
     "output_type": "stream",
     "text": [
      "\t ----- reward: -39.048786692570495 for f_star and f_minus: 35.00010322805835 , 39.048786692570495\n",
      "\t ---------- State is:  (6, 10)\n",
      "[INFO] [2023-03-01 00:59:33,456] [OpenBox-SPO] Iteration 121, objective value: [42.37197216431704].\n"
     ]
    },
    {
     "name": "stderr",
     "output_type": "stream",
     "text": [
      "\r",
      " 12%|████████▉                                                                 | 121/1000 [1:29:21<11:08:35, 45.64s/it]"
     ]
    },
    {
     "name": "stdout",
     "output_type": "stream",
     "text": [
      "\t ----- reward: -42.37197216431704 for f_star and f_minus: 35.00010322805835 , 42.37197216431704\n",
      "\t ---------- State is:  (5, 10)\n",
      "[INFO] [2023-03-01 01:00:16,775] [OpenBox-SPO] Iteration 122, objective value: [45.00058778373288].\n"
     ]
    },
    {
     "name": "stderr",
     "output_type": "stream",
     "text": [
      "\r",
      " 12%|█████████                                                                 | 122/1000 [1:30:05<10:57:43, 44.95s/it]"
     ]
    },
    {
     "name": "stdout",
     "output_type": "stream",
     "text": [
      "\t ----- reward: -45.00058778373288 for f_star and f_minus: 35.00010322805835 , 45.00058778373288\n",
      "\t ---------- State is:  (6, 10)\n",
      "[INFO] [2023-03-01 01:00:56,903] [OpenBox-SPO] Iteration 123, objective value: [40.933749281809575].\n"
     ]
    },
    {
     "name": "stderr",
     "output_type": "stream",
     "text": [
      "\r",
      " 12%|█████████                                                                 | 123/1000 [1:30:45<10:35:46, 43.50s/it]"
     ]
    },
    {
     "name": "stdout",
     "output_type": "stream",
     "text": [
      "\t ----- reward: -40.933749281809575 for f_star and f_minus: 35.00010322805835 , 40.933749281809575\n",
      "\t ---------- State is:  (7, 9)\n",
      "[INFO] [2023-03-01 01:01:45,365] [OpenBox-SPO] Iteration 124, objective value: [52.74313640652788].\n"
     ]
    },
    {
     "name": "stderr",
     "output_type": "stream",
     "text": [
      "\r",
      " 12%|█████████▏                                                                | 124/1000 [1:31:33<10:56:47, 44.99s/it]"
     ]
    },
    {
     "name": "stdout",
     "output_type": "stream",
     "text": [
      "\t ----- reward: -52.74313640652788 for f_star and f_minus: 35.00010322805835 , 52.74313640652788\n",
      "\t ---------- State is:  (8, 9)\n",
      "[INFO] [2023-03-01 01:02:32,651] [OpenBox-SPO] Iteration 125, objective value: [35.7158768891036].\n"
     ]
    },
    {
     "name": "stderr",
     "output_type": "stream",
     "text": [
      "\r",
      " 12%|█████████▎                                                                | 125/1000 [1:32:20<11:06:06, 45.68s/it]"
     ]
    },
    {
     "name": "stdout",
     "output_type": "stream",
     "text": [
      "\t ----- reward: -35.7158768891036 for f_star and f_minus: 35.00010322805835 , 35.7158768891036\n",
      "\t ---------- State is:  (9, 9)\n",
      "[INFO] [2023-03-01 01:03:17,618] [OpenBox-SPO] Iteration 126, objective value: [34.14355668958068].\n"
     ]
    },
    {
     "name": "stderr",
     "output_type": "stream",
     "text": [
      "\r",
      " 13%|█████████▎                                                                | 126/1000 [1:33:05<11:02:14, 45.46s/it]"
     ]
    },
    {
     "name": "stdout",
     "output_type": "stream",
     "text": [
      "\t ----- reward: -34.14355668958068 for f_star and f_minus: 35.00010322805835 , 34.14355668958068\n",
      "\t ---------- State is:  (8, 9)\n",
      "[INFO] [2023-03-01 01:04:04,910] [OpenBox-SPO] Iteration 127, objective value: [48.08722501805461].\n"
     ]
    },
    {
     "name": "stderr",
     "output_type": "stream",
     "text": [
      "\r",
      " 13%|█████████▍                                                                | 127/1000 [1:33:53<11:09:28, 46.01s/it]"
     ]
    },
    {
     "name": "stdout",
     "output_type": "stream",
     "text": [
      "\t ----- reward: -48.08722501805461 for f_star and f_minus: 34.14355668958068 , 48.08722501805461\n",
      "\t ---------- State is:  (9, 10)\n",
      "[INFO] [2023-03-01 01:04:47,624] [OpenBox-SPO] Iteration 128, objective value: [36.44886283330091].\n"
     ]
    },
    {
     "name": "stderr",
     "output_type": "stream",
     "text": [
      "\r",
      " 13%|█████████▍                                                                | 128/1000 [1:34:35<10:54:19, 45.02s/it]"
     ]
    },
    {
     "name": "stdout",
     "output_type": "stream",
     "text": [
      "\t ----- reward: -36.44886283330091 for f_star and f_minus: 34.14355668958068 , 36.44886283330091\n",
      "\t ---------- State is:  (8, 9)\n",
      "[INFO] [2023-03-01 01:05:31,669] [OpenBox-SPO] Iteration 129, objective value: [39.244526824801106].\n"
     ]
    },
    {
     "name": "stderr",
     "output_type": "stream",
     "text": [
      "\r",
      " 13%|█████████▌                                                                | 129/1000 [1:35:19<10:49:19, 44.73s/it]"
     ]
    },
    {
     "name": "stdout",
     "output_type": "stream",
     "text": [
      "\t ----- reward: -39.244526824801106 for f_star and f_minus: 34.14355668958068 , 39.244526824801106\n",
      "\t ---------- State is:  (8, 8)\n",
      "[INFO] [2023-03-01 01:06:18,134] [OpenBox-SPO] Iteration 130, objective value: [42.26390950482906].\n"
     ]
    },
    {
     "name": "stderr",
     "output_type": "stream",
     "text": [
      "\r",
      " 13%|█████████▌                                                                | 130/1000 [1:36:06<10:56:07, 45.25s/it]"
     ]
    },
    {
     "name": "stdout",
     "output_type": "stream",
     "text": [
      "\t ----- reward: -42.26390950482906 for f_star and f_minus: 34.14355668958068 , 42.26390950482906\n",
      "\t ---------- State is:  (9, 8)\n",
      "[INFO] [2023-03-01 01:06:59,641] [OpenBox-SPO] Iteration 131, objective value: [50.90937475635297].\n"
     ]
    },
    {
     "name": "stderr",
     "output_type": "stream",
     "text": [
      "\r",
      " 13%|█████████▋                                                                | 131/1000 [1:36:47<10:39:06, 44.13s/it]"
     ]
    },
    {
     "name": "stdout",
     "output_type": "stream",
     "text": [
      "\t ----- reward: -50.90937475635297 for f_star and f_minus: 34.14355668958068 , 50.90937475635297\n",
      "\t ---------- State is:  (10, 8)\n",
      "[INFO] [2023-03-01 01:07:48,907] [OpenBox-SPO] Iteration 132, objective value: [43.63301539843426].\n"
     ]
    },
    {
     "name": "stderr",
     "output_type": "stream",
     "text": [
      "\r",
      " 13%|█████████▊                                                                | 132/1000 [1:37:37<11:00:40, 45.67s/it]"
     ]
    },
    {
     "name": "stdout",
     "output_type": "stream",
     "text": [
      "\t ----- reward: -43.63301539843426 for f_star and f_minus: 34.14355668958068 , 43.63301539843426\n",
      "\t ---------- State is:  (10, 8)\n",
      "[INFO] [2023-03-01 01:08:42,698] [OpenBox-SPO] Iteration 133, objective value: [53.411535347584504].\n"
     ]
    },
    {
     "name": "stderr",
     "output_type": "stream",
     "text": [
      "\r",
      " 13%|█████████▊                                                                | 133/1000 [1:38:30<11:35:07, 48.11s/it]"
     ]
    },
    {
     "name": "stdout",
     "output_type": "stream",
     "text": [
      "\t ----- reward: -53.411535347584504 for f_star and f_minus: 34.14355668958068 , 53.411535347584504\n",
      "\t ---------- State is:  (9, 8)\n",
      "[INFO] [2023-03-01 01:09:30,240] [OpenBox-SPO] Iteration 134, objective value: [38.97191350725572].\n"
     ]
    },
    {
     "name": "stderr",
     "output_type": "stream",
     "text": [
      "\r",
      " 13%|█████████▉                                                                | 134/1000 [1:39:18<11:31:53, 47.94s/it]"
     ]
    },
    {
     "name": "stdout",
     "output_type": "stream",
     "text": [
      "\t ----- reward: -38.97191350725572 for f_star and f_minus: 34.14355668958068 , 38.97191350725572\n",
      "\t ---------- State is:  (8, 8)\n",
      "[INFO] [2023-03-01 01:10:13,043] [OpenBox-SPO] Iteration 135, objective value: [49.46716038558303].\n"
     ]
    },
    {
     "name": "stderr",
     "output_type": "stream",
     "text": [
      "\r",
      " 14%|█████████▉                                                                | 135/1000 [1:40:01<11:08:53, 46.40s/it]"
     ]
    },
    {
     "name": "stdout",
     "output_type": "stream",
     "text": [
      "\t ----- reward: -49.46716038558303 for f_star and f_minus: 34.14355668958068 , 49.46716038558303\n",
      "\t ---------- State is:  (8, 8)\n",
      "[INFO] [2023-03-01 01:10:58,713] [OpenBox-SPO] Iteration 136, objective value: [44.6910248697626].\n"
     ]
    },
    {
     "name": "stderr",
     "output_type": "stream",
     "text": [
      "\r",
      " 14%|██████████                                                                | 136/1000 [1:40:46<11:04:58, 46.18s/it]"
     ]
    },
    {
     "name": "stdout",
     "output_type": "stream",
     "text": [
      "\t ----- reward: -44.6910248697626 for f_star and f_minus: 34.14355668958068 , 44.6910248697626\n",
      "\t ---------- State is:  (7, 8)\n",
      "[INFO] [2023-03-01 01:11:48,169] [OpenBox-SPO] Iteration 137, objective value: [39.86333914156356].\n"
     ]
    },
    {
     "name": "stderr",
     "output_type": "stream",
     "text": [
      "\r",
      " 14%|██████████▏                                                               | 137/1000 [1:41:36<11:18:20, 47.16s/it]"
     ]
    },
    {
     "name": "stdout",
     "output_type": "stream",
     "text": [
      "\t ----- reward: -39.86333914156356 for f_star and f_minus: 34.14355668958068 , 39.86333914156356\n",
      "\t ---------- State is:  (7, 7)\n",
      "[INFO] [2023-03-01 01:12:34,050] [OpenBox-SPO] Iteration 138, objective value: [33.71085347912208].\n"
     ]
    },
    {
     "name": "stderr",
     "output_type": "stream",
     "text": [
      "\r",
      " 14%|██████████▏                                                               | 138/1000 [1:42:22<11:12:02, 46.78s/it]"
     ]
    },
    {
     "name": "stdout",
     "output_type": "stream",
     "text": [
      "\t ----- reward: -33.71085347912208 for f_star and f_minus: 34.14355668958068 , 33.71085347912208\n",
      "\t ---------- State is:  (7, 7)\n",
      "[INFO] [2023-03-01 01:13:15,480] [OpenBox-SPO] Iteration 139, objective value: [35.107996116514784].\n"
     ]
    },
    {
     "name": "stderr",
     "output_type": "stream",
     "text": [
      "\r",
      " 14%|██████████▎                                                               | 139/1000 [1:43:03<10:48:18, 45.18s/it]"
     ]
    },
    {
     "name": "stdout",
     "output_type": "stream",
     "text": [
      "\t ----- reward: -35.107996116514784 for f_star and f_minus: 33.71085347912208 , 35.107996116514784\n",
      "\t ---------- State is:  (6, 7)\n",
      "[INFO] [2023-03-01 01:14:01,965] [OpenBox-SPO] Iteration 140, objective value: [34.18503778217425].\n"
     ]
    },
    {
     "name": "stderr",
     "output_type": "stream",
     "text": [
      "\r",
      " 14%|██████████▎                                                               | 140/1000 [1:43:50<10:53:06, 45.57s/it]"
     ]
    },
    {
     "name": "stdout",
     "output_type": "stream",
     "text": [
      "\t ----- reward: -34.18503778217425 for f_star and f_minus: 33.71085347912208 , 34.18503778217425\n",
      "\t ---------- State is:  (6, 7)\n",
      "[INFO] [2023-03-01 01:14:51,903] [OpenBox-SPO] Iteration 141, objective value: [44.375329127189325].\n"
     ]
    },
    {
     "name": "stderr",
     "output_type": "stream",
     "text": [
      "\r",
      " 14%|██████████▍                                                               | 141/1000 [1:44:40<11:11:07, 46.88s/it]"
     ]
    },
    {
     "name": "stdout",
     "output_type": "stream",
     "text": [
      "\t ----- reward: -44.375329127189325 for f_star and f_minus: 33.71085347912208 , 44.375329127189325\n",
      "\t ---------- State is:  (5, 7)\n",
      "[INFO] [2023-03-01 01:14:51,903] [Advisor] Sample random config. rand_prob=0.100000.\n",
      "[INFO] [2023-03-01 01:15:22,186] [OpenBox-SPO] Iteration 142, objective value: [56.13540801749527].\n"
     ]
    },
    {
     "name": "stderr",
     "output_type": "stream",
     "text": [
      "\r",
      " 14%|██████████▋                                                                | 142/1000 [1:45:10<9:59:09, 41.90s/it]"
     ]
    },
    {
     "name": "stdout",
     "output_type": "stream",
     "text": [
      "\t ----- reward: -56.13540801749527 for f_star and f_minus: 33.71085347912208 , 56.13540801749527\n",
      "\t ---------- State is:  (5, 7)\n",
      "[INFO] [2023-03-01 01:16:11,363] [OpenBox-SPO] Iteration 143, objective value: [37.21786246511446].\n"
     ]
    },
    {
     "name": "stderr",
     "output_type": "stream",
     "text": [
      "\r",
      " 14%|██████████▌                                                               | 143/1000 [1:45:59<10:29:38, 44.08s/it]"
     ]
    },
    {
     "name": "stdout",
     "output_type": "stream",
     "text": [
      "\t ----- reward: -37.21786246511446 for f_star and f_minus: 33.71085347912208 , 37.21786246511446\n",
      "\t ---------- State is:  (6, 7)\n",
      "[INFO] [2023-03-01 01:16:51,674] [OpenBox-SPO] Iteration 144, objective value: [40.60508276175412].\n"
     ]
    },
    {
     "name": "stderr",
     "output_type": "stream",
     "text": [
      "\r",
      " 14%|██████████▋                                                               | 144/1000 [1:46:39<10:12:45, 42.95s/it]"
     ]
    },
    {
     "name": "stdout",
     "output_type": "stream",
     "text": [
      "\t ----- reward: -40.60508276175412 for f_star and f_minus: 33.71085347912208 , 40.60508276175412\n",
      "\t ---------- State is:  (6, 6)\n",
      "[INFO] [2023-03-01 01:17:34,457] [OpenBox-SPO] Iteration 145, objective value: [28.953489398961636].\n"
     ]
    },
    {
     "name": "stderr",
     "output_type": "stream",
     "text": [
      "\r",
      " 14%|██████████▋                                                               | 145/1000 [1:47:22<10:11:20, 42.90s/it]"
     ]
    },
    {
     "name": "stdout",
     "output_type": "stream",
     "text": [
      "\t ----- reward: -28.953489398961636 for f_star and f_minus: 33.71085347912208 , 28.953489398961636\n",
      "\t ---------- State is:  (6, 6)\n",
      "[INFO] [2023-03-01 01:18:21,455] [OpenBox-SPO] Iteration 146, objective value: [39.886905421687466].\n"
     ]
    },
    {
     "name": "stderr",
     "output_type": "stream",
     "text": [
      "\r",
      " 15%|██████████▊                                                               | 146/1000 [1:48:09<10:28:06, 44.13s/it]"
     ]
    },
    {
     "name": "stdout",
     "output_type": "stream",
     "text": [
      "\t ----- reward: -39.886905421687466 for f_star and f_minus: 28.953489398961636 , 39.886905421687466\n",
      "\t ---------- State is:  (7, 11)\n",
      "[INFO] [2023-03-01 01:18:21,455] [Advisor] Sample random config. rand_prob=0.100000.\n",
      "[INFO] [2023-03-01 01:18:51,336] [OpenBox-SPO] Iteration 147, objective value: [51.06137122751122].\n"
     ]
    },
    {
     "name": "stderr",
     "output_type": "stream",
     "text": [
      "\r",
      " 15%|███████████                                                                | 147/1000 [1:48:39<9:26:36, 39.86s/it]"
     ]
    },
    {
     "name": "stdout",
     "output_type": "stream",
     "text": [
      "\t ----- reward: -51.06137122751122 for f_star and f_minus: 28.953489398961636 , 51.06137122751122\n",
      "\t ---------- State is:  (8, 11)\n",
      "[INFO] [2023-03-01 01:19:36,280] [OpenBox-SPO] Iteration 148, objective value: [32.48288532019559].\n"
     ]
    },
    {
     "name": "stderr",
     "output_type": "stream",
     "text": [
      "\r",
      " 15%|███████████                                                                | 148/1000 [1:49:24<9:47:37, 41.38s/it]"
     ]
    },
    {
     "name": "stdout",
     "output_type": "stream",
     "text": [
      "\t ----- reward: -32.48288532019559 for f_star and f_minus: 28.953489398961636 , 32.48288532019559\n",
      "\t ---------- State is:  (7, 11)\n",
      "[INFO] [2023-03-01 01:20:23,098] [OpenBox-SPO] Iteration 149, objective value: [40.57990323601811].\n"
     ]
    },
    {
     "name": "stderr",
     "output_type": "stream",
     "text": [
      "\r",
      " 15%|███████████                                                               | 149/1000 [1:50:11<10:10:03, 43.01s/it]"
     ]
    },
    {
     "name": "stdout",
     "output_type": "stream",
     "text": [
      "\t ----- reward: -40.57990323601811 for f_star and f_minus: 28.953489398961636 , 40.57990323601811\n",
      "\t ---------- State is:  (7, 11)\n",
      "[INFO] [2023-03-01 01:21:05,632] [OpenBox-SPO] Iteration 150, objective value: [34.988475171232764].\n"
     ]
    },
    {
     "name": "stderr",
     "output_type": "stream",
     "text": [
      "\r",
      " 15%|███████████                                                               | 150/1000 [1:50:53<10:07:18, 42.87s/it]"
     ]
    },
    {
     "name": "stdout",
     "output_type": "stream",
     "text": [
      "\t ----- reward: -34.988475171232764 for f_star and f_minus: 28.953489398961636 , 34.988475171232764\n",
      "\t ---------- State is:  (6, 11)\n",
      "[INFO] [2023-03-01 01:21:48,692] [OpenBox-SPO] Iteration 151, objective value: [46.27146310313444].\n"
     ]
    },
    {
     "name": "stderr",
     "output_type": "stream",
     "text": [
      "\r",
      " 15%|███████████▏                                                              | 151/1000 [1:51:36<10:07:24, 42.93s/it]"
     ]
    },
    {
     "name": "stdout",
     "output_type": "stream",
     "text": [
      "\t ----- reward: -46.27146310313444 for f_star and f_minus: 28.953489398961636 , 46.27146310313444\n",
      "\t ---------- State is:  (7, 11)\n",
      "[INFO] [2023-03-01 01:22:28,176] [OpenBox-SPO] Iteration 152, objective value: [48.292358604622684].\n"
     ]
    },
    {
     "name": "stderr",
     "output_type": "stream",
     "text": [
      "\r",
      " 15%|███████████▍                                                               | 152/1000 [1:52:16<9:52:06, 41.89s/it]"
     ]
    },
    {
     "name": "stdout",
     "output_type": "stream",
     "text": [
      "\t ----- reward: -48.292358604622684 for f_star and f_minus: 28.953489398961636 , 48.292358604622684\n",
      "\t ---------- State is:  (7, 11)\n",
      "[INFO] [2023-03-01 01:22:28,177] [Advisor] Sample random config. rand_prob=0.100000.\n",
      "[INFO] [2023-03-01 01:22:57,877] [OpenBox-SPO] Iteration 153, objective value: [55.71557743838246].\n"
     ]
    },
    {
     "name": "stderr",
     "output_type": "stream",
     "text": [
      "\r",
      " 15%|███████████▍                                                               | 153/1000 [1:52:46<8:59:45, 38.24s/it]"
     ]
    },
    {
     "name": "stdout",
     "output_type": "stream",
     "text": [
      "\t ----- reward: -55.71557743838246 for f_star and f_minus: 28.953489398961636 , 55.71557743838246\n",
      "\t ---------- State is:  (6, 11)\n",
      "[INFO] [2023-03-01 01:23:38,402] [OpenBox-SPO] Iteration 154, objective value: [39.49394042718466].\n"
     ]
    },
    {
     "name": "stderr",
     "output_type": "stream",
     "text": [
      "\r",
      " 15%|███████████▌                                                               | 154/1000 [1:53:26<9:08:48, 38.92s/it]"
     ]
    },
    {
     "name": "stdout",
     "output_type": "stream",
     "text": [
      "\t ----- reward: -39.49394042718466 for f_star and f_minus: 28.953489398961636 , 39.49394042718466\n",
      "\t ---------- State is:  (6, 11)\n",
      "[INFO] [2023-03-01 01:24:21,604] [OpenBox-SPO] Iteration 155, objective value: [31.25287047530888].\n"
     ]
    },
    {
     "name": "stderr",
     "output_type": "stream",
     "text": [
      "\r",
      " 16%|███████████▋                                                               | 155/1000 [1:54:09<9:26:14, 40.21s/it]"
     ]
    },
    {
     "name": "stdout",
     "output_type": "stream",
     "text": [
      "\t ----- reward: -31.25287047530888 for f_star and f_minus: 28.953489398961636 , 31.25287047530888\n",
      "\t ---------- State is:  (6, 10)\n",
      "[INFO] [2023-03-01 01:25:08,827] [OpenBox-SPO] Iteration 156, objective value: [39.57700686923524].\n"
     ]
    },
    {
     "name": "stderr",
     "output_type": "stream",
     "text": [
      "\r",
      " 16%|███████████▋                                                               | 156/1000 [1:54:57<9:55:10, 42.31s/it]"
     ]
    },
    {
     "name": "stdout",
     "output_type": "stream",
     "text": [
      "\t ----- reward: -39.57700686923524 for f_star and f_minus: 28.953489398961636 , 39.57700686923524\n",
      "\t ---------- State is:  (6, 10)\n",
      "[INFO] [2023-03-01 01:25:59,908] [OpenBox-SPO] Iteration 157, objective value: [45.48062259084315].\n"
     ]
    },
    {
     "name": "stderr",
     "output_type": "stream",
     "text": [
      "\r",
      " 16%|███████████▌                                                              | 157/1000 [1:55:48<10:31:26, 44.94s/it]"
     ]
    },
    {
     "name": "stdout",
     "output_type": "stream",
     "text": [
      "\t ----- reward: -45.48062259084315 for f_star and f_minus: 28.953489398961636 , 45.48062259084315\n",
      "\t ---------- State is:  (6, 10)\n",
      "[INFO] [2023-03-01 01:26:42,303] [OpenBox-SPO] Iteration 158, objective value: [45.70808680424684].\n"
     ]
    },
    {
     "name": "stderr",
     "output_type": "stream",
     "text": [
      "\r",
      " 16%|███████████▋                                                              | 158/1000 [1:56:30<10:19:57, 44.18s/it]"
     ]
    },
    {
     "name": "stdout",
     "output_type": "stream",
     "text": [
      "\t ----- reward: -45.70808680424684 for f_star and f_minus: 28.953489398961636 , 45.70808680424684\n",
      "\t ---------- State is:  (5, 11)\n",
      "[INFO] [2023-03-01 01:27:28,085] [OpenBox-SPO] Iteration 159, objective value: [45.22091004339448].\n"
     ]
    },
    {
     "name": "stderr",
     "output_type": "stream",
     "text": [
      "\r",
      " 16%|███████████▊                                                              | 159/1000 [1:57:16<10:25:58, 44.66s/it]"
     ]
    },
    {
     "name": "stdout",
     "output_type": "stream",
     "text": [
      "\t ----- reward: -45.22091004339448 for f_star and f_minus: 28.953489398961636 , 45.22091004339448\n",
      "\t ---------- State is:  (5, 11)\n",
      "[INFO] [2023-03-01 01:28:04,783] [OpenBox-SPO] Iteration 160, objective value: [45.23686590099298].\n"
     ]
    },
    {
     "name": "stderr",
     "output_type": "stream",
     "text": [
      "\r",
      " 16%|████████████                                                               | 160/1000 [1:57:53<9:51:47, 42.27s/it]"
     ]
    },
    {
     "name": "stdout",
     "output_type": "stream",
     "text": [
      "\t ----- reward: -45.23686590099298 for f_star and f_minus: 28.953489398961636 , 45.23686590099298\n",
      "\t ---------- State is:  (5, 13)\n",
      "[INFO] [2023-03-01 01:28:45,479] [OpenBox-SPO] Iteration 161, objective value: [36.73141433825977].\n"
     ]
    },
    {
     "name": "stderr",
     "output_type": "stream",
     "text": [
      "\r",
      " 16%|████████████                                                               | 161/1000 [1:58:33<9:44:28, 41.80s/it]"
     ]
    },
    {
     "name": "stdout",
     "output_type": "stream",
     "text": [
      "\t ----- reward: -36.73141433825977 for f_star and f_minus: 28.953489398961636 , 36.73141433825977\n",
      "\t ---------- State is:  (4, 11)\n",
      "[INFO] [2023-03-01 01:29:34,158] [OpenBox-SPO] Iteration 162, objective value: [47.383641418506464].\n"
     ]
    },
    {
     "name": "stderr",
     "output_type": "stream",
     "text": [
      "\r",
      " 16%|███████████▉                                                              | 162/1000 [1:59:22<10:12:36, 43.86s/it]"
     ]
    },
    {
     "name": "stdout",
     "output_type": "stream",
     "text": [
      "\t ----- reward: -47.383641418506464 for f_star and f_minus: 28.953489398961636 , 47.383641418506464\n",
      "\t ---------- State is:  (3, 11)\n",
      "[INFO] [2023-03-01 01:30:17,418] [OpenBox-SPO] Iteration 163, objective value: [43.72115668691608].\n"
     ]
    },
    {
     "name": "stderr",
     "output_type": "stream",
     "text": [
      "\r",
      " 16%|████████████                                                              | 163/1000 [2:00:05<10:09:21, 43.68s/it]"
     ]
    },
    {
     "name": "stdout",
     "output_type": "stream",
     "text": [
      "\t ----- reward: -43.72115668691608 for f_star and f_minus: 28.953489398961636 , 43.72115668691608\n",
      "\t ---------- State is:  (4, 13)\n",
      "[INFO] [2023-03-01 01:30:55,084] [OpenBox-SPO] Iteration 164, objective value: [51.4661764774218].\n"
     ]
    },
    {
     "name": "stderr",
     "output_type": "stream",
     "text": [
      "\r",
      " 16%|████████████▎                                                              | 164/1000 [2:00:43<9:43:29, 41.88s/it]"
     ]
    },
    {
     "name": "stdout",
     "output_type": "stream",
     "text": [
      "\t ----- reward: -51.4661764774218 for f_star and f_minus: 28.953489398961636 , 51.4661764774218\n",
      "\t ---------- State is:  (4, 15)\n",
      "[INFO] [2023-03-01 01:30:55,084] [Advisor] Sample random config. rand_prob=0.100000.\n",
      "[INFO] [2023-03-01 01:31:24,720] [OpenBox-SPO] Iteration 165, objective value: [53.10697253119077].\n"
     ]
    },
    {
     "name": "stderr",
     "output_type": "stream",
     "text": [
      "\r",
      " 16%|████████████▍                                                              | 165/1000 [2:01:12<8:51:40, 38.20s/it]"
     ]
    },
    {
     "name": "stdout",
     "output_type": "stream",
     "text": [
      "\t ----- reward: -53.10697253119077 for f_star and f_minus: 28.953489398961636 , 53.10697253119077\n",
      "\t ---------- State is:  (3, 16)\n",
      "[INFO] [2023-03-01 01:32:13,450] [OpenBox-SPO] Iteration 166, objective value: [46.003104457115306].\n"
     ]
    },
    {
     "name": "stderr",
     "output_type": "stream",
     "text": [
      "\r",
      " 17%|████████████▍                                                              | 166/1000 [2:02:01<9:34:56, 41.36s/it]"
     ]
    },
    {
     "name": "stdout",
     "output_type": "stream",
     "text": [
      "\t ----- reward: -46.003104457115306 for f_star and f_minus: 28.953489398961636 , 46.003104457115306\n",
      "\t ---------- State is:  (3, 16)\n",
      "[INFO] [2023-03-01 01:32:13,450] [Advisor] Sample random config. rand_prob=0.100000.\n",
      "[INFO] [2023-03-01 01:32:47,275] [OpenBox-SPO] Iteration 167, objective value: [56.89890792778988].\n"
     ]
    },
    {
     "name": "stderr",
     "output_type": "stream",
     "text": [
      "\r",
      " 17%|████████████▌                                                              | 167/1000 [2:02:35<9:02:51, 39.10s/it]"
     ]
    },
    {
     "name": "stdout",
     "output_type": "stream",
     "text": [
      "\t ----- reward: -56.89890792778988 for f_star and f_minus: 28.953489398961636 , 56.89890792778988\n",
      "\t ---------- State is:  (4, 16)\n",
      "[INFO] [2023-03-01 01:32:47,275] [Advisor] Sample random config. rand_prob=0.100000.\n",
      "[INFO] [2023-03-01 01:33:22,361] [OpenBox-SPO] Iteration 168, objective value: [43.72646633507167].\n"
     ]
    },
    {
     "name": "stderr",
     "output_type": "stream",
     "text": [
      "\r",
      " 17%|████████████▌                                                              | 168/1000 [2:03:10<8:45:29, 37.90s/it]"
     ]
    },
    {
     "name": "stdout",
     "output_type": "stream",
     "text": [
      "\t ----- reward: -43.72646633507167 for f_star and f_minus: 28.953489398961636 , 43.72646633507167\n",
      "\t ---------- State is:  (3, 16)\n",
      "[INFO] [2023-03-01 01:34:10,778] [OpenBox-SPO] Iteration 169, objective value: [43.51273272057138].\n"
     ]
    },
    {
     "name": "stderr",
     "output_type": "stream",
     "text": [
      "\r",
      " 17%|████████████▋                                                              | 169/1000 [2:03:59<9:28:34, 41.05s/it]"
     ]
    },
    {
     "name": "stdout",
     "output_type": "stream",
     "text": [
      "\t ----- reward: -43.51273272057138 for f_star and f_minus: 28.953489398961636 , 43.51273272057138\n",
      "\t ---------- State is:  (2, 16)\n",
      "[INFO] [2023-03-01 01:34:59,405] [OpenBox-SPO] Iteration 170, objective value: [34.55999999669008].\n"
     ]
    },
    {
     "name": "stderr",
     "output_type": "stream",
     "text": [
      "\r",
      " 17%|████████████▊                                                              | 170/1000 [2:04:47<9:59:19, 43.32s/it]"
     ]
    },
    {
     "name": "stdout",
     "output_type": "stream",
     "text": [
      "\t ----- reward: -34.55999999669008 for f_star and f_minus: 28.953489398961636 , 34.55999999669008\n",
      "\t ---------- State is:  (1, 16)\n",
      "[INFO] [2023-03-01 01:35:41,380] [OpenBox-SPO] Iteration 171, objective value: [39.09300438391349].\n"
     ]
    },
    {
     "name": "stderr",
     "output_type": "stream",
     "text": [
      "\r",
      " 17%|████████████▊                                                              | 171/1000 [2:05:29<9:53:00, 42.92s/it]"
     ]
    },
    {
     "name": "stdout",
     "output_type": "stream",
     "text": [
      "\t ----- reward: -39.09300438391349 for f_star and f_minus: 28.953489398961636 , 39.09300438391349\n",
      "\t ---------- State is:  (0, 16)\n",
      "[INFO] [2023-03-01 01:36:28,505] [OpenBox-SPO] Iteration 172, objective value: [31.455506863428226].\n"
     ]
    },
    {
     "name": "stderr",
     "output_type": "stream",
     "text": [
      "\r",
      " 17%|████████████▋                                                             | 172/1000 [2:06:16<10:09:42, 44.18s/it]"
     ]
    },
    {
     "name": "stdout",
     "output_type": "stream",
     "text": [
      "\t ----- reward: -31.455506863428226 for f_star and f_minus: 28.953489398961636 , 31.455506863428226\n",
      "\t ---------- State is:  (1, 15)\n",
      "[INFO] [2023-03-01 01:37:10,042] [OpenBox-SPO] Iteration 173, objective value: [40.71082759877564].\n"
     ]
    },
    {
     "name": "stderr",
     "output_type": "stream",
     "text": [
      "\r",
      " 17%|████████████▉                                                              | 173/1000 [2:06:58<9:58:01, 43.39s/it]"
     ]
    },
    {
     "name": "stdout",
     "output_type": "stream",
     "text": [
      "\t ----- reward: -40.71082759877564 for f_star and f_minus: 28.953489398961636 , 40.71082759877564\n",
      "\t ---------- State is:  (1, 14)\n",
      "[INFO] [2023-03-01 01:37:46,725] [OpenBox-SPO] Iteration 174, objective value: [41.36671586035431].\n"
     ]
    },
    {
     "name": "stderr",
     "output_type": "stream",
     "text": [
      "\r",
      " 17%|█████████████                                                              | 174/1000 [2:07:35<9:29:36, 41.38s/it]"
     ]
    },
    {
     "name": "stdout",
     "output_type": "stream",
     "text": [
      "\t ----- reward: -41.36671586035431 for f_star and f_minus: 28.953489398961636 , 41.36671586035431\n",
      "\t ---------- State is:  (1, 14)\n",
      "[INFO] [2023-03-01 01:38:24,489] [OpenBox-SPO] Iteration 175, objective value: [37.639470618088346].\n"
     ]
    },
    {
     "name": "stderr",
     "output_type": "stream",
     "text": [
      "\r",
      " 18%|█████████████▏                                                             | 175/1000 [2:08:12<9:14:01, 40.29s/it]"
     ]
    },
    {
     "name": "stdout",
     "output_type": "stream",
     "text": [
      "\t ----- reward: -37.639470618088346 for f_star and f_minus: 28.953489398961636 , 37.639470618088346\n",
      "\t ---------- State is:  (2, 14)\n",
      "[INFO] [2023-03-01 01:39:05,612] [OpenBox-SPO] Iteration 176, objective value: [47.104271943545825].\n"
     ]
    },
    {
     "name": "stderr",
     "output_type": "stream",
     "text": [
      "\r",
      " 18%|█████████████▏                                                             | 176/1000 [2:08:53<9:16:46, 40.54s/it]"
     ]
    },
    {
     "name": "stdout",
     "output_type": "stream",
     "text": [
      "\t ----- reward: -47.104271943545825 for f_star and f_minus: 28.953489398961636 , 47.104271943545825\n",
      "\t ---------- State is:  (3, 15)\n",
      "[INFO] [2023-03-01 01:39:48,424] [OpenBox-SPO] Iteration 177, objective value: [40.668376913211745].\n"
     ]
    },
    {
     "name": "stderr",
     "output_type": "stream",
     "text": [
      "\r",
      " 18%|█████████████▎                                                             | 177/1000 [2:09:36<9:25:26, 41.22s/it]"
     ]
    },
    {
     "name": "stdout",
     "output_type": "stream",
     "text": [
      "\t ----- reward: -40.668376913211745 for f_star and f_minus: 28.953489398961636 , 40.668376913211745\n",
      "\t ---------- State is:  (4, 14)\n",
      "[INFO] [2023-03-01 01:39:48,424] [Advisor] Sample random config. rand_prob=0.100000.\n",
      "[INFO] [2023-03-01 01:40:27,523] [OpenBox-SPO] Iteration 178, objective value: [49.70345771213378].\n"
     ]
    },
    {
     "name": "stderr",
     "output_type": "stream",
     "text": [
      "\r",
      " 18%|█████████████▎                                                             | 178/1000 [2:10:15<9:16:01, 40.59s/it]"
     ]
    },
    {
     "name": "stdout",
     "output_type": "stream",
     "text": [
      "\t ----- reward: -49.70345771213378 for f_star and f_minus: 28.953489398961636 , 49.70345771213378\n",
      "\t ---------- State is:  (5, 14)\n",
      "[INFO] [2023-03-01 01:41:13,263] [OpenBox-SPO] Iteration 179, objective value: [43.08872269789301].\n"
     ]
    },
    {
     "name": "stderr",
     "output_type": "stream",
     "text": [
      "\r",
      " 18%|█████████████▍                                                             | 179/1000 [2:11:01<9:36:30, 42.13s/it]"
     ]
    },
    {
     "name": "stdout",
     "output_type": "stream",
     "text": [
      "\t ----- reward: -43.08872269789301 for f_star and f_minus: 28.953489398961636 , 43.08872269789301\n",
      "\t ---------- State is:  (6, 14)\n",
      "[INFO] [2023-03-01 01:41:59,902] [OpenBox-SPO] Iteration 180, objective value: [42.55715639505701].\n"
     ]
    },
    {
     "name": "stderr",
     "output_type": "stream",
     "text": [
      "\r",
      " 18%|█████████████▌                                                             | 180/1000 [2:11:48<9:54:17, 43.48s/it]"
     ]
    },
    {
     "name": "stdout",
     "output_type": "stream",
     "text": [
      "\t ----- reward: -42.55715639505701 for f_star and f_minus: 28.953489398961636 , 42.55715639505701\n",
      "\t ---------- State is:  (7, 14)\n",
      "[INFO] [2023-03-01 01:41:59,903] [Advisor] Sample random config. rand_prob=0.100000.\n",
      "[INFO] [2023-03-01 01:42:40,989] [OpenBox-SPO] Iteration 181, objective value: [50.006145477892495].\n"
     ]
    },
    {
     "name": "stderr",
     "output_type": "stream",
     "text": [
      "\r",
      " 18%|█████████████▌                                                             | 181/1000 [2:12:29<9:43:44, 42.77s/it]"
     ]
    },
    {
     "name": "stdout",
     "output_type": "stream",
     "text": [
      "\t ----- reward: -50.006145477892495 for f_star and f_minus: 28.953489398961636 , 50.006145477892495\n",
      "\t ---------- State is:  (6, 14)\n",
      "[INFO] [2023-03-01 01:43:28,545] [OpenBox-SPO] Iteration 182, objective value: [41.41472637123044].\n"
     ]
    },
    {
     "name": "stderr",
     "output_type": "stream",
     "text": [
      "\r",
      " 18%|█████████████▍                                                            | 182/1000 [2:13:16<10:02:37, 44.20s/it]"
     ]
    },
    {
     "name": "stdout",
     "output_type": "stream",
     "text": [
      "\t ----- reward: -41.41472637123044 for f_star and f_minus: 28.953489398961636 , 41.41472637123044\n",
      "\t ---------- State is:  (6, 14)\n",
      "[INFO] [2023-03-01 01:44:13,530] [OpenBox-SPO] Iteration 183, objective value: [33.86928017877702].\n"
     ]
    },
    {
     "name": "stderr",
     "output_type": "stream",
     "text": [
      "\r",
      " 18%|█████████████▌                                                            | 183/1000 [2:14:01<10:05:05, 44.44s/it]"
     ]
    },
    {
     "name": "stdout",
     "output_type": "stream",
     "text": [
      "\t ----- reward: -33.86928017877702 for f_star and f_minus: 28.953489398961636 , 33.86928017877702\n",
      "\t ---------- State is:  (6, 13)\n",
      "[INFO] [2023-03-01 01:45:00,252] [OpenBox-SPO] Iteration 184, objective value: [29.234057791050972].\n"
     ]
    },
    {
     "name": "stderr",
     "output_type": "stream",
     "text": [
      "\r",
      " 18%|█████████████▌                                                            | 184/1000 [2:14:48<10:13:39, 45.12s/it]"
     ]
    },
    {
     "name": "stdout",
     "output_type": "stream",
     "text": [
      "\t ----- reward: -29.234057791050972 for f_star and f_minus: 28.953489398961636 , 29.234057791050972\n",
      "\t ---------- State is:  (5, 13)\n",
      "[INFO] [2023-03-01 01:45:44,978] [OpenBox-SPO] Iteration 185, objective value: [32.42395422080128].\n"
     ]
    },
    {
     "name": "stderr",
     "output_type": "stream",
     "text": [
      "\r",
      " 18%|█████████████▋                                                            | 185/1000 [2:15:33<10:11:17, 45.00s/it]"
     ]
    },
    {
     "name": "stdout",
     "output_type": "stream",
     "text": [
      "\t ----- reward: -32.42395422080128 for f_star and f_minus: 28.953489398961636 , 32.42395422080128\n",
      "\t ---------- State is:  (5, 12)\n",
      "[INFO] [2023-03-01 01:46:28,950] [OpenBox-SPO] Iteration 186, objective value: [37.25956250282418].\n"
     ]
    },
    {
     "name": "stderr",
     "output_type": "stream",
     "text": [
      "\r",
      " 19%|█████████████▊                                                            | 186/1000 [2:16:17<10:06:21, 44.69s/it]"
     ]
    },
    {
     "name": "stdout",
     "output_type": "stream",
     "text": [
      "\t ----- reward: -37.25956250282418 for f_star and f_minus: 28.953489398961636 , 37.25956250282418\n",
      "\t ---------- State is:  (5, 12)\n",
      "[INFO] [2023-03-01 01:47:10,271] [OpenBox-SPO] Iteration 187, objective value: [43.402890636659684].\n"
     ]
    },
    {
     "name": "stderr",
     "output_type": "stream",
     "text": [
      "\r",
      " 19%|██████████████                                                             | 187/1000 [2:16:58<9:51:53, 43.68s/it]"
     ]
    },
    {
     "name": "stdout",
     "output_type": "stream",
     "text": [
      "\t ----- reward: -43.402890636659684 for f_star and f_minus: 28.953489398961636 , 43.402890636659684\n",
      "\t ---------- State is:  (4, 12)\n",
      "[INFO] [2023-03-01 01:47:56,310] [OpenBox-SPO] Iteration 188, objective value: [34.38481467494199].\n"
     ]
    },
    {
     "name": "stderr",
     "output_type": "stream",
     "text": [
      "\r",
      " 19%|█████████████▉                                                            | 188/1000 [2:17:44<10:00:44, 44.39s/it]"
     ]
    },
    {
     "name": "stdout",
     "output_type": "stream",
     "text": [
      "\t ----- reward: -34.38481467494199 for f_star and f_minus: 28.953489398961636 , 34.38481467494199\n",
      "\t ---------- State is:  (3, 11)\n",
      "[INFO] [2023-03-01 01:48:44,480] [OpenBox-SPO] Iteration 189, objective value: [32.098670213533694].\n"
     ]
    },
    {
     "name": "stderr",
     "output_type": "stream",
     "text": [
      "\r",
      " 19%|█████████████▉                                                            | 189/1000 [2:18:32<10:15:19, 45.52s/it]"
     ]
    },
    {
     "name": "stdout",
     "output_type": "stream",
     "text": [
      "\t ----- reward: -32.098670213533694 for f_star and f_minus: 28.953489398961636 , 32.098670213533694\n",
      "\t ---------- State is:  (3, 10)\n",
      "[INFO] [2023-03-01 01:49:23,920] [OpenBox-SPO] Iteration 190, objective value: [48.881983187560465].\n"
     ]
    },
    {
     "name": "stderr",
     "output_type": "stream",
     "text": [
      "\r",
      " 19%|██████████████▎                                                            | 190/1000 [2:19:12<9:49:55, 43.70s/it]"
     ]
    },
    {
     "name": "stdout",
     "output_type": "stream",
     "text": [
      "\t ----- reward: -48.881983187560465 for f_star and f_minus: 28.953489398961636 , 48.881983187560465\n",
      "\t ---------- State is:  (4, 11)\n",
      "[INFO] [2023-03-01 01:50:11,403] [OpenBox-SPO] Iteration 191, objective value: [42.73008112609047].\n"
     ]
    },
    {
     "name": "stderr",
     "output_type": "stream",
     "text": [
      "\r",
      " 19%|██████████████▏                                                           | 191/1000 [2:19:59<10:04:30, 44.83s/it]"
     ]
    },
    {
     "name": "stdout",
     "output_type": "stream",
     "text": [
      "\t ----- reward: -42.73008112609047 for f_star and f_minus: 28.953489398961636 , 42.73008112609047\n",
      "\t ---------- State is:  (5, 12)\n",
      "[INFO] [2023-03-01 01:50:56,027] [OpenBox-SPO] Iteration 192, objective value: [34.31518559327978].\n"
     ]
    },
    {
     "name": "stderr",
     "output_type": "stream",
     "text": [
      "\r",
      " 19%|██████████████▏                                                           | 192/1000 [2:20:44<10:02:55, 44.77s/it]"
     ]
    },
    {
     "name": "stdout",
     "output_type": "stream",
     "text": [
      "\t ----- reward: -34.31518559327978 for f_star and f_minus: 28.953489398961636 , 34.31518559327978\n",
      "\t ---------- State is:  (6, 12)\n",
      "[INFO] [2023-03-01 01:51:42,629] [OpenBox-SPO] Iteration 193, objective value: [31.031297858128525].\n"
     ]
    },
    {
     "name": "stderr",
     "output_type": "stream",
     "text": [
      "\r",
      " 19%|██████████████▎                                                           | 193/1000 [2:21:30<10:09:33, 45.32s/it]"
     ]
    },
    {
     "name": "stdout",
     "output_type": "stream",
     "text": [
      "\t ----- reward: -31.031297858128525 for f_star and f_minus: 28.953489398961636 , 31.031297858128525\n",
      "\t ---------- State is:  (6, 12)\n",
      "[INFO] [2023-03-01 01:52:24,426] [OpenBox-SPO] Iteration 194, objective value: [34.0634495078904].\n"
     ]
    },
    {
     "name": "stderr",
     "output_type": "stream",
     "text": [
      "\r",
      " 19%|██████████████▌                                                            | 194/1000 [2:22:12<9:54:36, 44.26s/it]"
     ]
    },
    {
     "name": "stdout",
     "output_type": "stream",
     "text": [
      "\t ----- reward: -34.0634495078904 for f_star and f_minus: 28.953489398961636 , 34.0634495078904\n",
      "\t ---------- State is:  (7, 10)\n",
      "[INFO] [2023-03-01 01:53:09,448] [OpenBox-SPO] Iteration 195, objective value: [36.57995029615123].\n"
     ]
    },
    {
     "name": "stderr",
     "output_type": "stream",
     "text": [
      "\r",
      " 20%|██████████████▋                                                            | 195/1000 [2:22:57<9:56:55, 44.49s/it]"
     ]
    },
    {
     "name": "stdout",
     "output_type": "stream",
     "text": [
      "\t ----- reward: -36.57995029615123 for f_star and f_minus: 28.953489398961636 , 36.57995029615123\n",
      "\t ---------- State is:  (8, 10)\n",
      "[INFO] [2023-03-01 01:53:56,638] [OpenBox-SPO] Iteration 196, objective value: [31.31983705704451].\n"
     ]
    },
    {
     "name": "stderr",
     "output_type": "stream",
     "text": [
      "\r",
      " 20%|██████████████▌                                                           | 196/1000 [2:23:44<10:07:01, 45.30s/it]"
     ]
    },
    {
     "name": "stdout",
     "output_type": "stream",
     "text": [
      "\t ----- reward: -31.31983705704451 for f_star and f_minus: 28.953489398961636 , 31.31983705704451\n",
      "\t ---------- State is:  (8, 7)\n",
      "[INFO] [2023-03-01 01:54:41,776] [OpenBox-SPO] Iteration 197, objective value: [34.80242392593499].\n"
     ]
    },
    {
     "name": "stderr",
     "output_type": "stream",
     "text": [
      "\r",
      " 20%|██████████████▌                                                           | 197/1000 [2:24:30<10:05:37, 45.25s/it]"
     ]
    },
    {
     "name": "stdout",
     "output_type": "stream",
     "text": [
      "\t ----- reward: -34.80242392593499 for f_star and f_minus: 28.953489398961636 , 34.80242392593499\n",
      "\t ---------- State is:  (7, 6)\n",
      "[INFO] [2023-03-01 01:55:26,140] [OpenBox-SPO] Iteration 198, objective value: [41.44807603744005].\n"
     ]
    },
    {
     "name": "stderr",
     "output_type": "stream",
     "text": [
      "\r",
      " 20%|██████████████▋                                                           | 198/1000 [2:25:14<10:01:18, 44.99s/it]"
     ]
    },
    {
     "name": "stdout",
     "output_type": "stream",
     "text": [
      "\t ----- reward: -41.44807603744005 for f_star and f_minus: 28.953489398961636 , 41.44807603744005\n",
      "\t ---------- State is:  (6, 6)\n",
      "[INFO] [2023-03-01 01:56:10,414] [OpenBox-SPO] Iteration 199, objective value: [35.8785358505739].\n"
     ]
    },
    {
     "name": "stderr",
     "output_type": "stream",
     "text": [
      "\r",
      " 20%|██████████████▉                                                            | 199/1000 [2:25:58<9:57:42, 44.77s/it]"
     ]
    },
    {
     "name": "stdout",
     "output_type": "stream",
     "text": [
      "\t ----- reward: -35.8785358505739 for f_star and f_minus: 28.953489398961636 , 35.8785358505739\n",
      "\t ---------- State is:  (6, 6)\n",
      "[INFO] [2023-03-01 01:57:00,952] [OpenBox-SPO] Iteration 200, objective value: [28.406413027727723].\n"
     ]
    },
    {
     "name": "stderr",
     "output_type": "stream",
     "text": [
      "\r",
      " 20%|██████████████▊                                                           | 200/1000 [2:26:49<10:20:01, 46.50s/it]"
     ]
    },
    {
     "name": "stdout",
     "output_type": "stream",
     "text": [
      "\t ----- reward: -28.406413027727723 for f_star and f_minus: 28.953489398961636 , 28.406413027727723\n",
      "\t ---------- State is:  (5, 5)\n",
      "[INFO] [2023-03-01 01:57:42,952] [OpenBox-SPO] Iteration 201, objective value: [38.6077934217459].\n"
     ]
    },
    {
     "name": "stderr",
     "output_type": "stream",
     "text": [
      "\r",
      " 20%|██████████████▊                                                           | 201/1000 [2:27:31<10:01:15, 45.15s/it]"
     ]
    },
    {
     "name": "stdout",
     "output_type": "stream",
     "text": [
      "\t ----- reward: -38.6077934217459 for f_star and f_minus: 28.406413027727723 , 38.6077934217459\n",
      "\t ---------- State is:  (4, 6)\n",
      "[INFO] [2023-03-01 01:58:25,014] [OpenBox-SPO] Iteration 202, objective value: [48.62844206648933].\n"
     ]
    },
    {
     "name": "stderr",
     "output_type": "stream",
     "text": [
      "\r",
      " 20%|███████████████▏                                                           | 202/1000 [2:28:13<9:48:11, 44.22s/it]"
     ]
    },
    {
     "name": "stdout",
     "output_type": "stream",
     "text": [
      "\t ----- reward: -48.62844206648933 for f_star and f_minus: 28.406413027727723 , 48.62844206648933\n",
      "\t ---------- State is:  (5, 6)\n",
      "[INFO] [2023-03-01 01:59:12,496] [OpenBox-SPO] Iteration 203, objective value: [43.94976515982576].\n"
     ]
    },
    {
     "name": "stderr",
     "output_type": "stream",
     "text": [
      "\r",
      " 20%|███████████████                                                           | 203/1000 [2:29:00<10:00:25, 45.20s/it]"
     ]
    },
    {
     "name": "stdout",
     "output_type": "stream",
     "text": [
      "\t ----- reward: -43.94976515982576 for f_star and f_minus: 28.406413027727723 , 43.94976515982576\n",
      "\t ---------- State is:  (5, 6)\n",
      "[INFO] [2023-03-01 01:59:58,171] [OpenBox-SPO] Iteration 204, objective value: [34.441315989528164].\n"
     ]
    },
    {
     "name": "stderr",
     "output_type": "stream",
     "text": [
      "\r",
      " 20%|███████████████                                                           | 204/1000 [2:29:46<10:01:33, 45.34s/it]"
     ]
    },
    {
     "name": "stdout",
     "output_type": "stream",
     "text": [
      "\t ----- reward: -34.441315989528164 for f_star and f_minus: 28.406413027727723 , 34.441315989528164\n",
      "\t ---------- State is:  (6, 6)\n",
      "[INFO] [2023-03-01 02:00:46,817] [OpenBox-SPO] Iteration 205, objective value: [28.528725703555025].\n"
     ]
    },
    {
     "name": "stderr",
     "output_type": "stream",
     "text": [
      "\r",
      " 20%|███████████████▏                                                          | 205/1000 [2:30:35<10:13:56, 46.33s/it]"
     ]
    },
    {
     "name": "stdout",
     "output_type": "stream",
     "text": [
      "\t ----- reward: -28.528725703555025 for f_star and f_minus: 28.406413027727723 , 28.528725703555025\n",
      "\t ---------- State is:  (5, 6)\n",
      "[INFO] [2023-03-01 02:01:33,464] [OpenBox-SPO] Iteration 206, objective value: [43.29210308266506].\n"
     ]
    },
    {
     "name": "stderr",
     "output_type": "stream",
     "text": [
      "\r",
      " 21%|███████████████▏                                                          | 206/1000 [2:31:21<10:14:24, 46.43s/it]"
     ]
    },
    {
     "name": "stdout",
     "output_type": "stream",
     "text": [
      "\t ----- reward: -43.29210308266506 for f_star and f_minus: 28.406413027727723 , 43.29210308266506\n",
      "\t ---------- State is:  (4, 6)\n",
      "[INFO] [2023-03-01 02:02:27,212] [OpenBox-SPO] Iteration 207, objective value: [38.58581326467071].\n"
     ]
    },
    {
     "name": "stderr",
     "output_type": "stream",
     "text": [
      "\r",
      " 21%|███████████████▎                                                          | 207/1000 [2:32:15<10:42:38, 48.62s/it]"
     ]
    },
    {
     "name": "stdout",
     "output_type": "stream",
     "text": [
      "\t ----- reward: -38.58581326467071 for f_star and f_minus: 28.406413027727723 , 38.58581326467071\n",
      "\t ---------- State is:  (5, 6)\n",
      "[INFO] [2023-03-01 02:03:14,701] [OpenBox-SPO] Iteration 208, objective value: [33.38264640047373].\n"
     ]
    },
    {
     "name": "stderr",
     "output_type": "stream",
     "text": [
      "\r",
      " 21%|███████████████▍                                                          | 208/1000 [2:33:02<10:37:20, 48.28s/it]"
     ]
    },
    {
     "name": "stdout",
     "output_type": "stream",
     "text": [
      "\t ----- reward: -33.38264640047373 for f_star and f_minus: 28.406413027727723 , 33.38264640047373\n",
      "\t ---------- State is:  (5, 6)\n",
      "[INFO] [2023-03-01 02:04:05,981] [OpenBox-SPO] Iteration 209, objective value: [30.994212398164464].\n"
     ]
    },
    {
     "name": "stderr",
     "output_type": "stream",
     "text": [
      "\r",
      " 21%|███████████████▍                                                          | 209/1000 [2:33:54<10:48:23, 49.18s/it]"
     ]
    },
    {
     "name": "stdout",
     "output_type": "stream",
     "text": [
      "\t ----- reward: -30.994212398164464 for f_star and f_minus: 28.406413027727723 , 30.994212398164464\n",
      "\t ---------- State is:  (6, 6)\n",
      "[INFO] [2023-03-01 02:04:57,542] [OpenBox-SPO] Iteration 210, objective value: [31.914556458682853].\n"
     ]
    },
    {
     "name": "stderr",
     "output_type": "stream",
     "text": [
      "\r",
      " 21%|███████████████▌                                                          | 210/1000 [2:34:45<10:56:57, 49.90s/it]"
     ]
    },
    {
     "name": "stdout",
     "output_type": "stream",
     "text": [
      "\t ----- reward: -31.914556458682853 for f_star and f_minus: 28.406413027727723 , 31.914556458682853\n",
      "\t ---------- State is:  (7, 6)\n",
      "[INFO] [2023-03-01 02:05:47,053] [OpenBox-SPO] Iteration 211, objective value: [31.741324570330733].\n"
     ]
    },
    {
     "name": "stderr",
     "output_type": "stream",
     "text": [
      "\r",
      " 21%|███████████████▌                                                          | 211/1000 [2:35:35<10:54:36, 49.78s/it]"
     ]
    },
    {
     "name": "stdout",
     "output_type": "stream",
     "text": [
      "\t ----- reward: -31.741324570330733 for f_star and f_minus: 28.406413027727723 , 31.741324570330733\n",
      "\t ---------- State is:  (8, 5)\n",
      "[INFO] [2023-03-01 02:06:32,855] [OpenBox-SPO] Iteration 212, objective value: [35.67428598199848].\n"
     ]
    },
    {
     "name": "stderr",
     "output_type": "stream",
     "text": [
      "\r",
      " 21%|███████████████▋                                                          | 212/1000 [2:36:21<10:38:06, 48.59s/it]"
     ]
    },
    {
     "name": "stdout",
     "output_type": "stream",
     "text": [
      "\t ----- reward: -35.67428598199848 for f_star and f_minus: 28.406413027727723 , 35.67428598199848\n",
      "\t ---------- State is:  (9, 6)\n",
      "[INFO] [2023-03-01 02:07:24,876] [OpenBox-SPO] Iteration 213, objective value: [36.73467204656576].\n"
     ]
    },
    {
     "name": "stderr",
     "output_type": "stream",
     "text": [
      "\r",
      " 21%|███████████████▊                                                          | 213/1000 [2:37:13<10:50:48, 49.62s/it]"
     ]
    },
    {
     "name": "stdout",
     "output_type": "stream",
     "text": [
      "\t ----- reward: -36.73467204656576 for f_star and f_minus: 28.406413027727723 , 36.73467204656576\n",
      "\t ---------- State is:  (8, 6)\n",
      "[INFO] [2023-03-01 02:08:14,827] [OpenBox-SPO] Iteration 214, objective value: [32.21707534695642].\n"
     ]
    },
    {
     "name": "stderr",
     "output_type": "stream",
     "text": [
      "\r",
      " 21%|███████████████▊                                                          | 214/1000 [2:38:03<10:51:17, 49.72s/it]"
     ]
    },
    {
     "name": "stdout",
     "output_type": "stream",
     "text": [
      "\t ----- reward: -32.21707534695642 for f_star and f_minus: 28.406413027727723 , 32.21707534695642\n",
      "\t ---------- State is:  (9, 6)\n",
      "[INFO] [2023-03-01 02:09:02,452] [OpenBox-SPO] Iteration 215, objective value: [38.356987917122765].\n"
     ]
    },
    {
     "name": "stderr",
     "output_type": "stream",
     "text": [
      "\r",
      " 22%|███████████████▉                                                          | 215/1000 [2:38:50<10:42:15, 49.09s/it]"
     ]
    },
    {
     "name": "stdout",
     "output_type": "stream",
     "text": [
      "\t ----- reward: -38.356987917122765 for f_star and f_minus: 28.406413027727723 , 38.356987917122765\n",
      "\t ---------- State is:  (9, 6)\n",
      "[INFO] [2023-03-01 02:09:47,047] [OpenBox-SPO] Iteration 216, objective value: [32.432678292850596].\n"
     ]
    },
    {
     "name": "stderr",
     "output_type": "stream",
     "text": [
      "\r",
      " 22%|███████████████▉                                                          | 216/1000 [2:39:35<10:23:49, 47.74s/it]"
     ]
    },
    {
     "name": "stdout",
     "output_type": "stream",
     "text": [
      "\t ----- reward: -32.432678292850596 for f_star and f_minus: 28.406413027727723 , 32.432678292850596\n",
      "\t ---------- State is:  (10, 6)\n",
      "[INFO] [2023-03-01 02:10:33,988] [OpenBox-SPO] Iteration 217, objective value: [33.18064048031469].\n"
     ]
    },
    {
     "name": "stderr",
     "output_type": "stream",
     "text": [
      "\r",
      " 22%|████████████████                                                          | 217/1000 [2:40:22<10:19:53, 47.50s/it]"
     ]
    },
    {
     "name": "stdout",
     "output_type": "stream",
     "text": [
      "\t ----- reward: -33.18064048031469 for f_star and f_minus: 28.406413027727723 , 33.18064048031469\n",
      "\t ---------- State is:  (10, 6)\n",
      "[INFO] [2023-03-01 02:11:19,946] [OpenBox-SPO] Iteration 218, objective value: [35.98381533040937].\n"
     ]
    },
    {
     "name": "stderr",
     "output_type": "stream",
     "text": [
      "\r",
      " 22%|████████████████▏                                                         | 218/1000 [2:41:08<10:13:03, 47.04s/it]"
     ]
    },
    {
     "name": "stdout",
     "output_type": "stream",
     "text": [
      "\t ----- reward: -35.98381533040937 for f_star and f_minus: 28.406413027727723 , 35.98381533040937\n",
      "\t ---------- State is:  (9, 6)\n",
      "[INFO] [2023-03-01 02:12:10,993] [OpenBox-SPO] Iteration 219, objective value: [33.039948206971886].\n"
     ]
    },
    {
     "name": "stderr",
     "output_type": "stream",
     "text": [
      "\r",
      " 22%|████████████████▏                                                         | 219/1000 [2:41:59<10:27:56, 48.24s/it]"
     ]
    },
    {
     "name": "stdout",
     "output_type": "stream",
     "text": [
      "\t ----- reward: -33.039948206971886 for f_star and f_minus: 28.406413027727723 , 33.039948206971886\n",
      "\t ---------- State is:  (9, 5)\n",
      "[INFO] [2023-03-01 02:12:59,695] [OpenBox-SPO] Iteration 220, objective value: [32.13057019595348].\n"
     ]
    },
    {
     "name": "stderr",
     "output_type": "stream",
     "text": [
      "\r",
      " 22%|████████████████▎                                                         | 220/1000 [2:42:47<10:28:55, 48.38s/it]"
     ]
    },
    {
     "name": "stdout",
     "output_type": "stream",
     "text": [
      "\t ----- reward: -32.13057019595348 for f_star and f_minus: 28.406413027727723 , 32.13057019595348\n",
      "\t ---------- State is:  (10, 5)\n",
      "[INFO] [2023-03-01 02:13:46,094] [OpenBox-SPO] Iteration 221, objective value: [31.061026787996667].\n"
     ]
    },
    {
     "name": "stderr",
     "output_type": "stream",
     "text": [
      "\r",
      " 22%|████████████████▎                                                         | 221/1000 [2:43:34<10:20:24, 47.79s/it]"
     ]
    },
    {
     "name": "stdout",
     "output_type": "stream",
     "text": [
      "\t ----- reward: -31.061026787996667 for f_star and f_minus: 28.406413027727723 , 31.061026787996667\n",
      "\t ---------- State is:  (10, 4)\n",
      "[INFO] [2023-03-01 02:14:36,194] [OpenBox-SPO] Iteration 222, objective value: [31.603217301365063].\n"
     ]
    },
    {
     "name": "stderr",
     "output_type": "stream",
     "text": [
      "\r",
      " 22%|████████████████▍                                                         | 222/1000 [2:44:24<10:28:37, 48.48s/it]"
     ]
    },
    {
     "name": "stdout",
     "output_type": "stream",
     "text": [
      "\t ----- reward: -31.603217301365063 for f_star and f_minus: 28.406413027727723 , 31.603217301365063\n",
      "\t ---------- State is:  (9, 4)\n",
      "[INFO] [2023-03-01 02:15:23,026] [OpenBox-SPO] Iteration 223, objective value: [41.12784809378978].\n"
     ]
    },
    {
     "name": "stderr",
     "output_type": "stream",
     "text": [
      "\r",
      " 22%|████████████████▌                                                         | 223/1000 [2:45:11<10:21:24, 47.99s/it]"
     ]
    },
    {
     "name": "stdout",
     "output_type": "stream",
     "text": [
      "\t ----- reward: -41.12784809378978 for f_star and f_minus: 28.406413027727723 , 41.12784809378978\n",
      "\t ---------- State is:  (9, 4)\n",
      "[INFO] [2023-03-01 02:16:10,212] [OpenBox-SPO] Iteration 224, objective value: [39.45085947735741].\n"
     ]
    },
    {
     "name": "stderr",
     "output_type": "stream",
     "text": [
      "\r",
      " 22%|████████████████▌                                                         | 224/1000 [2:45:58<10:17:30, 47.75s/it]"
     ]
    },
    {
     "name": "stdout",
     "output_type": "stream",
     "text": [
      "\t ----- reward: -39.45085947735741 for f_star and f_minus: 28.406413027727723 , 39.45085947735741\n",
      "\t ---------- State is:  (10, 4)\n",
      "[INFO] [2023-03-01 02:16:57,886] [OpenBox-SPO] Iteration 225, objective value: [31.835006896082646].\n"
     ]
    },
    {
     "name": "stderr",
     "output_type": "stream",
     "text": [
      "\r",
      " 22%|████████████████▋                                                         | 225/1000 [2:46:46<10:16:26, 47.72s/it]"
     ]
    },
    {
     "name": "stdout",
     "output_type": "stream",
     "text": [
      "\t ----- reward: -31.835006896082646 for f_star and f_minus: 28.406413027727723 , 31.835006896082646\n",
      "\t ---------- State is:  (10, 4)\n",
      "[INFO] [2023-03-01 02:17:39,347] [OpenBox-SPO] Iteration 226, objective value: [39.923818062412806].\n"
     ]
    },
    {
     "name": "stderr",
     "output_type": "stream",
     "text": [
      "\r",
      " 23%|████████████████▉                                                          | 226/1000 [2:47:27<9:51:24, 45.84s/it]"
     ]
    },
    {
     "name": "stdout",
     "output_type": "stream",
     "text": [
      "\t ----- reward: -39.923818062412806 for f_star and f_minus: 28.406413027727723 , 39.923818062412806\n",
      "\t ---------- State is:  (10, 4)\n",
      "[INFO] [2023-03-01 02:18:23,149] [OpenBox-SPO] Iteration 227, objective value: [44.69203882757655].\n"
     ]
    },
    {
     "name": "stderr",
     "output_type": "stream",
     "text": [
      "\r",
      " 23%|█████████████████                                                          | 227/1000 [2:48:11<9:42:44, 45.23s/it]"
     ]
    },
    {
     "name": "stdout",
     "output_type": "stream",
     "text": [
      "\t ----- reward: -44.69203882757655 for f_star and f_minus: 28.406413027727723 , 44.69203882757655\n",
      "\t ---------- State is:  (9, 4)\n",
      "[INFO] [2023-03-01 02:19:09,361] [OpenBox-SPO] Iteration 228, objective value: [32.95289757972458].\n"
     ]
    },
    {
     "name": "stderr",
     "output_type": "stream",
     "text": [
      "\r",
      " 23%|█████████████████                                                          | 228/1000 [2:48:57<9:45:46, 45.53s/it]"
     ]
    },
    {
     "name": "stdout",
     "output_type": "stream",
     "text": [
      "\t ----- reward: -32.95289757972458 for f_star and f_minus: 28.406413027727723 , 32.95289757972458\n",
      "\t ---------- State is:  (9, 4)\n",
      "[INFO] [2023-03-01 02:19:55,245] [OpenBox-SPO] Iteration 229, objective value: [32.0133752726035].\n"
     ]
    },
    {
     "name": "stderr",
     "output_type": "stream",
     "text": [
      "\r",
      " 23%|█████████████████▏                                                         | 229/1000 [2:49:43<9:46:23, 45.63s/it]"
     ]
    },
    {
     "name": "stdout",
     "output_type": "stream",
     "text": [
      "\t ----- reward: -32.0133752726035 for f_star and f_minus: 28.406413027727723 , 32.0133752726035\n",
      "\t ---------- State is:  (8, 4)\n",
      "[INFO] [2023-03-01 02:19:55,245] [Advisor] Sample random config. rand_prob=0.100000.\n",
      "[INFO] [2023-03-01 02:20:20,672] [OpenBox-SPO] Iteration 230, objective value: [67.08092086545587].\n"
     ]
    },
    {
     "name": "stderr",
     "output_type": "stream",
     "text": [
      "\r",
      " 23%|█████████████████▎                                                         | 230/1000 [2:50:08<8:27:50, 39.57s/it]"
     ]
    },
    {
     "name": "stdout",
     "output_type": "stream",
     "text": [
      "\t ----- reward: -67.08092086545587 for f_star and f_minus: 28.406413027727723 , 67.08092086545587\n",
      "\t ---------- State is:  (9, 4)\n",
      "[INFO] [2023-03-01 02:21:07,197] [OpenBox-SPO] Iteration 231, objective value: [36.74715192655069].\n"
     ]
    },
    {
     "name": "stderr",
     "output_type": "stream",
     "text": [
      "\r",
      " 23%|█████████████████▎                                                         | 231/1000 [2:50:55<8:53:54, 41.66s/it]"
     ]
    },
    {
     "name": "stdout",
     "output_type": "stream",
     "text": [
      "\t ----- reward: -36.74715192655069 for f_star and f_minus: 28.406413027727723 , 36.74715192655069\n",
      "\t ---------- State is:  (10, 6)\n",
      "[INFO] [2023-03-01 02:21:51,722] [OpenBox-SPO] Iteration 232, objective value: [38.056250043290696].\n"
     ]
    },
    {
     "name": "stderr",
     "output_type": "stream",
     "text": [
      "\r",
      " 23%|█████████████████▍                                                         | 232/1000 [2:51:40<9:04:13, 42.52s/it]"
     ]
    },
    {
     "name": "stdout",
     "output_type": "stream",
     "text": [
      "\t ----- reward: -38.056250043290696 for f_star and f_minus: 28.406413027727723 , 38.056250043290696\n",
      "\t ---------- State is:  (10, 6)\n",
      "[INFO] [2023-03-01 02:22:40,729] [OpenBox-SPO] Iteration 233, objective value: [29.16602887696959].\n"
     ]
    },
    {
     "name": "stderr",
     "output_type": "stream",
     "text": [
      "\r",
      " 23%|█████████████████▍                                                         | 233/1000 [2:52:29<9:28:24, 44.46s/it]"
     ]
    },
    {
     "name": "stdout",
     "output_type": "stream",
     "text": [
      "\t ----- reward: -29.16602887696959 for f_star and f_minus: 28.406413027727723 , 29.16602887696959\n",
      "\t ---------- State is:  (10, 4)\n",
      "[INFO] [2023-03-01 02:23:23,692] [OpenBox-SPO] Iteration 234, objective value: [31.44367897365268].\n"
     ]
    },
    {
     "name": "stderr",
     "output_type": "stream",
     "text": [
      "\r",
      " 23%|█████████████████▌                                                         | 234/1000 [2:53:11<9:21:54, 44.01s/it]"
     ]
    },
    {
     "name": "stdout",
     "output_type": "stream",
     "text": [
      "\t ----- reward: -31.44367897365268 for f_star and f_minus: 28.406413027727723 , 31.44367897365268\n",
      "\t ---------- State is:  (10, 4)\n",
      "[INFO] [2023-03-01 02:24:09,951] [OpenBox-SPO] Iteration 235, objective value: [31.63947400284748].\n"
     ]
    },
    {
     "name": "stderr",
     "output_type": "stream",
     "text": [
      "\r",
      " 24%|█████████████████▋                                                         | 235/1000 [2:53:58<9:29:45, 44.69s/it]"
     ]
    },
    {
     "name": "stdout",
     "output_type": "stream",
     "text": [
      "\t ----- reward: -31.63947400284748 for f_star and f_minus: 28.406413027727723 , 31.63947400284748\n",
      "\t ---------- State is:  (10, 4)\n",
      "[INFO] [2023-03-01 02:24:56,728] [OpenBox-SPO] Iteration 236, objective value: [34.07302432556469].\n"
     ]
    },
    {
     "name": "stderr",
     "output_type": "stream",
     "text": [
      "\r",
      " 24%|█████████████████▋                                                         | 236/1000 [2:54:45<9:37:00, 45.31s/it]"
     ]
    },
    {
     "name": "stdout",
     "output_type": "stream",
     "text": [
      "\t ----- reward: -34.07302432556469 for f_star and f_minus: 28.406413027727723 , 34.07302432556469\n",
      "\t ---------- State is:  (10, 4)\n",
      "[INFO] [2023-03-01 02:25:37,174] [OpenBox-SPO] Iteration 237, objective value: [30.399637925662574].\n"
     ]
    },
    {
     "name": "stderr",
     "output_type": "stream",
     "text": [
      "\r",
      " 24%|█████████████████▊                                                         | 237/1000 [2:55:25<9:17:40, 43.85s/it]"
     ]
    },
    {
     "name": "stdout",
     "output_type": "stream",
     "text": [
      "\t ----- reward: -30.399637925662574 for f_star and f_minus: 28.406413027727723 , 30.399637925662574\n",
      "\t ---------- State is:  (10, 4)\n",
      "[INFO] [2023-03-01 02:26:24,342] [OpenBox-SPO] Iteration 238, objective value: [31.17178055619337].\n"
     ]
    },
    {
     "name": "stderr",
     "output_type": "stream",
     "text": [
      "\r",
      " 24%|█████████████████▊                                                         | 238/1000 [2:56:12<9:29:34, 44.85s/it]"
     ]
    },
    {
     "name": "stdout",
     "output_type": "stream",
     "text": [
      "\t ----- reward: -31.17178055619337 for f_star and f_minus: 28.406413027727723 , 31.17178055619337\n",
      "\t ---------- State is:  (9, 4)\n",
      "[INFO] [2023-03-01 02:27:04,426] [OpenBox-SPO] Iteration 239, objective value: [33.93507289626163].\n"
     ]
    },
    {
     "name": "stderr",
     "output_type": "stream",
     "text": [
      "\r",
      " 24%|█████████████████▉                                                         | 239/1000 [2:56:52<9:10:41, 43.42s/it]"
     ]
    },
    {
     "name": "stdout",
     "output_type": "stream",
     "text": [
      "\t ----- reward: -33.93507289626163 for f_star and f_minus: 28.406413027727723 , 33.93507289626163\n",
      "\t ---------- State is:  (9, 4)\n",
      "[INFO] [2023-03-01 02:27:48,934] [OpenBox-SPO] Iteration 240, objective value: [27.61515462900428].\n"
     ]
    },
    {
     "name": "stderr",
     "output_type": "stream",
     "text": [
      "\r",
      " 24%|██████████████████                                                         | 240/1000 [2:57:37<9:14:06, 43.75s/it]"
     ]
    },
    {
     "name": "stdout",
     "output_type": "stream",
     "text": [
      "\t ----- reward: -27.61515462900428 for f_star and f_minus: 28.406413027727723 , 27.61515462900428\n",
      "\t ---------- State is:  (8, 4)\n",
      "[INFO] [2023-03-01 02:28:34,659] [OpenBox-SPO] Iteration 241, objective value: [38.097042081705844].\n"
     ]
    },
    {
     "name": "stderr",
     "output_type": "stream",
     "text": [
      "\r",
      " 24%|██████████████████                                                         | 241/1000 [2:58:22<9:20:53, 44.34s/it]"
     ]
    },
    {
     "name": "stdout",
     "output_type": "stream",
     "text": [
      "\t ----- reward: -38.097042081705844 for f_star and f_minus: 27.61515462900428 , 38.097042081705844\n",
      "\t ---------- State is:  (8, 5)\n",
      "[INFO] [2023-03-01 02:29:21,154] [OpenBox-SPO] Iteration 242, objective value: [36.067668566877664].\n"
     ]
    },
    {
     "name": "stderr",
     "output_type": "stream",
     "text": [
      "\r",
      " 24%|██████████████████▏                                                        | 242/1000 [2:59:09<9:28:19, 44.99s/it]"
     ]
    },
    {
     "name": "stdout",
     "output_type": "stream",
     "text": [
      "\t ----- reward: -36.067668566877664 for f_star and f_minus: 27.61515462900428 , 36.067668566877664\n",
      "\t ---------- State is:  (7, 6)\n",
      "[INFO] [2023-03-01 02:30:07,070] [OpenBox-SPO] Iteration 243, objective value: [29.762228552895536].\n"
     ]
    },
    {
     "name": "stderr",
     "output_type": "stream",
     "text": [
      "\r",
      " 24%|██████████████████▏                                                        | 243/1000 [2:59:55<9:31:09, 45.27s/it]"
     ]
    },
    {
     "name": "stdout",
     "output_type": "stream",
     "text": [
      "\t ----- reward: -29.762228552895536 for f_star and f_minus: 27.61515462900428 , 29.762228552895536\n",
      "\t ---------- State is:  (6, 5)\n",
      "[INFO] [2023-03-01 02:30:49,987] [OpenBox-SPO] Iteration 244, objective value: [37.567480044787125].\n"
     ]
    },
    {
     "name": "stderr",
     "output_type": "stream",
     "text": [
      "\r",
      " 24%|██████████████████▎                                                        | 244/1000 [3:00:38<9:21:26, 44.56s/it]"
     ]
    },
    {
     "name": "stdout",
     "output_type": "stream",
     "text": [
      "\t ----- reward: -37.567480044787125 for f_star and f_minus: 27.61515462900428 , 37.567480044787125\n",
      "\t ---------- State is:  (7, 5)\n",
      "[INFO] [2023-03-01 02:31:34,787] [OpenBox-SPO] Iteration 245, objective value: [34.90249736745396].\n"
     ]
    },
    {
     "name": "stderr",
     "output_type": "stream",
     "text": [
      "\r",
      " 24%|██████████████████▍                                                        | 245/1000 [3:01:23<9:21:36, 44.63s/it]"
     ]
    },
    {
     "name": "stdout",
     "output_type": "stream",
     "text": [
      "\t ----- reward: -34.90249736745396 for f_star and f_minus: 27.61515462900428 , 34.90249736745396\n",
      "\t ---------- State is:  (6, 6)\n",
      "[INFO] [2023-03-01 02:32:16,620] [OpenBox-SPO] Iteration 246, objective value: [45.46587945227996].\n"
     ]
    },
    {
     "name": "stderr",
     "output_type": "stream",
     "text": [
      "\r",
      " 25%|██████████████████▍                                                        | 246/1000 [3:02:04<9:10:19, 43.79s/it]"
     ]
    },
    {
     "name": "stdout",
     "output_type": "stream",
     "text": [
      "\t ----- reward: -45.46587945227996 for f_star and f_minus: 27.61515462900428 , 45.46587945227996\n",
      "\t ---------- State is:  (6, 6)\n",
      "[INFO] [2023-03-01 02:33:01,942] [OpenBox-SPO] Iteration 247, objective value: [31.060790662003598].\n"
     ]
    },
    {
     "name": "stderr",
     "output_type": "stream",
     "text": [
      "\r",
      " 25%|██████████████████▌                                                        | 247/1000 [3:02:50<9:15:20, 44.25s/it]"
     ]
    },
    {
     "name": "stdout",
     "output_type": "stream",
     "text": [
      "\t ----- reward: -31.060790662003598 for f_star and f_minus: 27.61515462900428 , 31.060790662003598\n",
      "\t ---------- State is:  (7, 5)\n",
      "[INFO] [2023-03-01 02:33:48,981] [OpenBox-SPO] Iteration 248, objective value: [36.98298446761867].\n"
     ]
    },
    {
     "name": "stderr",
     "output_type": "stream",
     "text": [
      "\r",
      " 25%|██████████████████▌                                                        | 248/1000 [3:03:37<9:25:05, 45.09s/it]"
     ]
    },
    {
     "name": "stdout",
     "output_type": "stream",
     "text": [
      "\t ----- reward: -36.98298446761867 for f_star and f_minus: 27.61515462900428 , 36.98298446761867\n",
      "\t ---------- State is:  (8, 6)\n",
      "[INFO] [2023-03-01 02:34:31,391] [OpenBox-SPO] Iteration 249, objective value: [41.46517360375258].\n"
     ]
    },
    {
     "name": "stderr",
     "output_type": "stream",
     "text": [
      "\r",
      " 25%|██████████████████▋                                                        | 249/1000 [3:04:19<9:14:17, 44.28s/it]"
     ]
    },
    {
     "name": "stdout",
     "output_type": "stream",
     "text": [
      "\t ----- reward: -41.46517360375258 for f_star and f_minus: 27.61515462900428 , 41.46517360375258\n",
      "\t ---------- State is:  (9, 6)\n",
      "[INFO] [2023-03-01 02:34:31,391] [Advisor] Sample random config. rand_prob=0.100000.\n",
      "[INFO] [2023-03-01 02:35:02,085] [OpenBox-SPO] Iteration 250, objective value: [61.773837105304].\n"
     ]
    },
    {
     "name": "stderr",
     "output_type": "stream",
     "text": [
      "\r",
      " 25%|██████████████████▊                                                        | 250/1000 [3:04:50<8:22:35, 40.21s/it]"
     ]
    },
    {
     "name": "stdout",
     "output_type": "stream",
     "text": [
      "\t ----- reward: -61.773837105304 for f_star and f_minus: 27.61515462900428 , 61.773837105304\n",
      "\t ---------- State is:  (10, 6)\n",
      "[INFO] [2023-03-01 02:35:02,085] [Advisor] Sample random config. rand_prob=0.100000.\n",
      "[INFO] [2023-03-01 02:35:34,949] [OpenBox-SPO] Iteration 251, objective value: [51.67132412075824].\n"
     ]
    },
    {
     "name": "stderr",
     "output_type": "stream",
     "text": [
      "\r",
      " 25%|██████████████████▊                                                        | 251/1000 [3:05:23<7:54:25, 38.00s/it]"
     ]
    },
    {
     "name": "stdout",
     "output_type": "stream",
     "text": [
      "\t ----- reward: -51.67132412075824 for f_star and f_minus: 27.61515462900428 , 51.67132412075824\n",
      "\t ---------- State is:  (9, 6)\n",
      "[INFO] [2023-03-01 02:35:34,949] [Advisor] Sample random config. rand_prob=0.100000.\n",
      "[INFO] [2023-03-01 02:36:10,249] [OpenBox-SPO] Iteration 252, objective value: [51.098262033595844].\n"
     ]
    },
    {
     "name": "stderr",
     "output_type": "stream",
     "text": [
      "\r",
      " 25%|██████████████████▉                                                        | 252/1000 [3:05:58<7:43:40, 37.19s/it]"
     ]
    },
    {
     "name": "stdout",
     "output_type": "stream",
     "text": [
      "\t ----- reward: -51.098262033595844 for f_star and f_minus: 27.61515462900428 , 51.098262033595844\n",
      "\t ---------- State is:  (8, 6)\n",
      "[INFO] [2023-03-01 02:36:55,822] [OpenBox-SPO] Iteration 253, objective value: [36.16824044340916].\n"
     ]
    },
    {
     "name": "stderr",
     "output_type": "stream",
     "text": [
      "\r",
      " 25%|██████████████████▉                                                        | 253/1000 [3:06:44<8:14:21, 39.71s/it]"
     ]
    },
    {
     "name": "stdout",
     "output_type": "stream",
     "text": [
      "\t ----- reward: -36.16824044340916 for f_star and f_minus: 27.61515462900428 , 36.16824044340916\n",
      "\t ---------- State is:  (8, 7)\n",
      "[INFO] [2023-03-01 02:37:38,660] [OpenBox-SPO] Iteration 254, objective value: [36.22784072355492].\n"
     ]
    },
    {
     "name": "stderr",
     "output_type": "stream",
     "text": [
      "\r",
      " 25%|███████████████████                                                        | 254/1000 [3:07:26<8:25:22, 40.65s/it]"
     ]
    },
    {
     "name": "stdout",
     "output_type": "stream",
     "text": [
      "\t ----- reward: -36.22784072355492 for f_star and f_minus: 27.61515462900428 , 36.22784072355492\n",
      "\t ---------- State is:  (7, 8)\n",
      "[INFO] [2023-03-01 02:38:27,074] [OpenBox-SPO] Iteration 255, objective value: [35.218371424565234].\n"
     ]
    },
    {
     "name": "stderr",
     "output_type": "stream",
     "text": [
      "\r",
      " 26%|███████████████████▏                                                       | 255/1000 [3:08:15<8:53:37, 42.98s/it]"
     ]
    },
    {
     "name": "stdout",
     "output_type": "stream",
     "text": [
      "\t ----- reward: -35.218371424565234 for f_star and f_minus: 27.61515462900428 , 35.218371424565234\n",
      "\t ---------- State is:  (7, 8)\n",
      "[INFO] [2023-03-01 02:39:12,705] [OpenBox-SPO] Iteration 256, objective value: [30.764647062664324].\n"
     ]
    },
    {
     "name": "stderr",
     "output_type": "stream",
     "text": [
      "\r",
      " 26%|███████████████████▏                                                       | 256/1000 [3:09:00<9:02:47, 43.77s/it]"
     ]
    },
    {
     "name": "stdout",
     "output_type": "stream",
     "text": [
      "\t ----- reward: -30.764647062664324 for f_star and f_minus: 27.61515462900428 , 30.764647062664324\n",
      "\t ---------- State is:  (8, 8)\n",
      "[INFO] [2023-03-01 02:39:59,906] [OpenBox-SPO] Iteration 257, objective value: [30.93277356842836].\n"
     ]
    },
    {
     "name": "stderr",
     "output_type": "stream",
     "text": [
      "\r",
      " 26%|███████████████████▎                                                       | 257/1000 [3:09:48<9:14:47, 44.80s/it]"
     ]
    },
    {
     "name": "stdout",
     "output_type": "stream",
     "text": [
      "\t ----- reward: -30.93277356842836 for f_star and f_minus: 27.61515462900428 , 30.93277356842836\n",
      "\t ---------- State is:  (9, 8)\n",
      "[INFO] [2023-03-01 02:40:42,832] [OpenBox-SPO] Iteration 258, objective value: [43.23626918706091].\n"
     ]
    },
    {
     "name": "stderr",
     "output_type": "stream",
     "text": [
      "\r",
      " 26%|███████████████████▎                                                       | 258/1000 [3:10:31<9:07:05, 44.24s/it]"
     ]
    },
    {
     "name": "stdout",
     "output_type": "stream",
     "text": [
      "\t ----- reward: -43.23626918706091 for f_star and f_minus: 27.61515462900428 , 43.23626918706091\n",
      "\t ---------- State is:  (8, 8)\n",
      "[INFO] [2023-03-01 02:41:27,092] [OpenBox-SPO] Iteration 259, objective value: [34.17386676754293].\n"
     ]
    },
    {
     "name": "stderr",
     "output_type": "stream",
     "text": [
      "\r",
      " 26%|███████████████████▍                                                       | 259/1000 [3:11:15<9:06:25, 44.25s/it]"
     ]
    },
    {
     "name": "stdout",
     "output_type": "stream",
     "text": [
      "\t ----- reward: -34.17386676754293 for f_star and f_minus: 27.61515462900428 , 34.17386676754293\n",
      "\t ---------- State is:  (9, 8)\n",
      "[INFO] [2023-03-01 02:42:13,192] [OpenBox-SPO] Iteration 260, objective value: [27.948358499298806].\n"
     ]
    },
    {
     "name": "stderr",
     "output_type": "stream",
     "text": [
      "\r",
      " 26%|███████████████████▌                                                       | 260/1000 [3:12:01<9:12:33, 44.80s/it]"
     ]
    },
    {
     "name": "stdout",
     "output_type": "stream",
     "text": [
      "\t ----- reward: -27.948358499298806 for f_star and f_minus: 27.61515462900428 , 27.948358499298806\n",
      "\t ---------- State is:  (10, 8)\n",
      "[INFO] [2023-03-01 02:42:13,192] [Advisor] Sample random config. rand_prob=0.100000.\n",
      "[INFO] [2023-03-01 02:42:44,683] [OpenBox-SPO] Iteration 261, objective value: [61.7622660751136].\n"
     ]
    },
    {
     "name": "stderr",
     "output_type": "stream",
     "text": [
      "\r",
      " 26%|███████████████████▌                                                       | 261/1000 [3:12:32<8:22:37, 40.81s/it]"
     ]
    },
    {
     "name": "stdout",
     "output_type": "stream",
     "text": [
      "\t ----- reward: -61.7622660751136 for f_star and f_minus: 27.61515462900428 , 61.7622660751136\n",
      "\t ---------- State is:  (9, 8)\n",
      "[INFO] [2023-03-01 02:42:44,683] [Advisor] Sample random config. rand_prob=0.100000.\n",
      "[INFO] [2023-03-01 02:43:24,734] [OpenBox-SPO] Iteration 262, objective value: [49.30554200861869].\n"
     ]
    },
    {
     "name": "stderr",
     "output_type": "stream",
     "text": [
      "\r",
      " 26%|███████████████████▋                                                       | 262/1000 [3:13:13<8:19:09, 40.58s/it]"
     ]
    },
    {
     "name": "stdout",
     "output_type": "stream",
     "text": [
      "\t ----- reward: -49.30554200861869 for f_star and f_minus: 27.61515462900428 , 49.30554200861869\n",
      "\t ---------- State is:  (9, 8)\n",
      "[INFO] [2023-03-01 02:44:09,959] [OpenBox-SPO] Iteration 263, objective value: [35.60318803906307].\n"
     ]
    },
    {
     "name": "stderr",
     "output_type": "stream",
     "text": [
      "\r",
      " 26%|███████████████████▋                                                       | 263/1000 [3:13:58<8:35:34, 41.97s/it]"
     ]
    },
    {
     "name": "stdout",
     "output_type": "stream",
     "text": [
      "\t ----- reward: -35.60318803906307 for f_star and f_minus: 27.61515462900428 , 35.60318803906307\n",
      "\t ---------- State is:  (10, 8)\n",
      "[INFO] [2023-03-01 02:44:53,977] [OpenBox-SPO] Iteration 264, objective value: [35.46888862362238].\n"
     ]
    },
    {
     "name": "stderr",
     "output_type": "stream",
     "text": [
      "\r",
      " 26%|███████████████████▊                                                       | 264/1000 [3:14:42<8:42:24, 42.59s/it]"
     ]
    },
    {
     "name": "stdout",
     "output_type": "stream",
     "text": [
      "\t ----- reward: -35.46888862362238 for f_star and f_minus: 27.61515462900428 , 35.46888862362238\n",
      "\t ---------- State is:  (10, 8)\n",
      "[INFO] [2023-03-01 02:45:37,107] [OpenBox-SPO] Iteration 265, objective value: [27.897788623291405].\n"
     ]
    },
    {
     "name": "stderr",
     "output_type": "stream",
     "text": [
      "\r",
      " 26%|███████████████████▉                                                       | 265/1000 [3:15:25<8:43:41, 42.75s/it]"
     ]
    },
    {
     "name": "stdout",
     "output_type": "stream",
     "text": [
      "\t ----- reward: -27.897788623291405 for f_star and f_minus: 27.61515462900428 , 27.897788623291405\n",
      "\t ---------- State is:  (10, 8)\n",
      "[INFO] [2023-03-01 02:46:23,389] [OpenBox-SPO] Iteration 266, objective value: [27.5375100461375].\n"
     ]
    },
    {
     "name": "stderr",
     "output_type": "stream",
     "text": [
      "\r",
      " 27%|███████████████████▉                                                       | 266/1000 [3:16:11<8:55:56, 43.81s/it]"
     ]
    },
    {
     "name": "stdout",
     "output_type": "stream",
     "text": [
      "\t ----- reward: -27.5375100461375 for f_star and f_minus: 27.61515462900428 , 27.5375100461375\n",
      "\t ---------- State is:  (10, 8)\n",
      "[INFO] [2023-03-01 02:47:09,405] [OpenBox-SPO] Iteration 267, objective value: [27.937050951689628].\n"
     ]
    },
    {
     "name": "stderr",
     "output_type": "stream",
     "text": [
      "\r",
      " 27%|████████████████████                                                       | 267/1000 [3:16:57<9:03:17, 44.47s/it]"
     ]
    },
    {
     "name": "stdout",
     "output_type": "stream",
     "text": [
      "\t ----- reward: -27.937050951689628 for f_star and f_minus: 27.5375100461375 , 27.937050951689628\n",
      "\t ---------- State is:  (10, 8)\n",
      "[INFO] [2023-03-01 02:47:53,212] [OpenBox-SPO] Iteration 268, objective value: [28.1699765052318].\n"
     ]
    },
    {
     "name": "stderr",
     "output_type": "stream",
     "text": [
      "\r",
      " 27%|████████████████████                                                       | 268/1000 [3:17:41<9:00:07, 44.27s/it]"
     ]
    },
    {
     "name": "stdout",
     "output_type": "stream",
     "text": [
      "\t ----- reward: -28.1699765052318 for f_star and f_minus: 27.5375100461375 , 28.1699765052318\n",
      "\t ---------- State is:  (10, 7)\n",
      "[INFO] [2023-03-01 02:48:39,108] [OpenBox-SPO] Iteration 269, objective value: [30.39873844613399].\n"
     ]
    },
    {
     "name": "stderr",
     "output_type": "stream",
     "text": [
      "\r",
      " 27%|████████████████████▏                                                      | 269/1000 [3:18:27<9:05:19, 44.76s/it]"
     ]
    },
    {
     "name": "stdout",
     "output_type": "stream",
     "text": [
      "\t ----- reward: -30.39873844613399 for f_star and f_minus: 27.5375100461375 , 30.39873844613399\n",
      "\t ---------- State is:  (9, 7)\n",
      "[INFO] [2023-03-01 02:49:21,258] [OpenBox-SPO] Iteration 270, objective value: [31.45674825588077].\n"
     ]
    },
    {
     "name": "stderr",
     "output_type": "stream",
     "text": [
      "\r",
      " 27%|████████████████████▎                                                      | 270/1000 [3:19:09<8:55:02, 43.98s/it]"
     ]
    },
    {
     "name": "stdout",
     "output_type": "stream",
     "text": [
      "\t ----- reward: -31.45674825588077 for f_star and f_minus: 27.5375100461375 , 31.45674825588077\n",
      "\t ---------- State is:  (9, 7)\n",
      "[INFO] [2023-03-01 02:50:08,373] [OpenBox-SPO] Iteration 271, objective value: [37.586310660978626].\n"
     ]
    },
    {
     "name": "stderr",
     "output_type": "stream",
     "text": [
      "\r",
      " 27%|████████████████████▎                                                      | 271/1000 [3:19:56<9:05:45, 44.92s/it]"
     ]
    },
    {
     "name": "stdout",
     "output_type": "stream",
     "text": [
      "\t ----- reward: -37.586310660978626 for f_star and f_minus: 27.5375100461375 , 37.586310660978626\n",
      "\t ---------- State is:  (8, 7)\n",
      "[INFO] [2023-03-01 02:50:55,461] [OpenBox-SPO] Iteration 272, objective value: [29.16538550292384].\n"
     ]
    },
    {
     "name": "stderr",
     "output_type": "stream",
     "text": [
      "\r",
      " 27%|████████████████████▍                                                      | 272/1000 [3:20:43<9:12:54, 45.57s/it]"
     ]
    },
    {
     "name": "stdout",
     "output_type": "stream",
     "text": [
      "\t ----- reward: -29.16538550292384 for f_star and f_minus: 27.5375100461375 , 29.16538550292384\n",
      "\t ---------- State is:  (9, 5)\n",
      "[INFO] [2023-03-01 02:51:40,014] [OpenBox-SPO] Iteration 273, objective value: [32.34309569308435].\n"
     ]
    },
    {
     "name": "stderr",
     "output_type": "stream",
     "text": [
      "\r",
      " 27%|████████████████████▍                                                      | 273/1000 [3:21:28<9:08:27, 45.26s/it]"
     ]
    },
    {
     "name": "stdout",
     "output_type": "stream",
     "text": [
      "\t ----- reward: -32.34309569308435 for f_star and f_minus: 27.5375100461375 , 32.34309569308435\n",
      "\t ---------- State is:  (10, 4)\n",
      "[INFO] [2023-03-01 02:52:22,160] [OpenBox-SPO] Iteration 274, objective value: [32.990986336067195].\n"
     ]
    },
    {
     "name": "stderr",
     "output_type": "stream",
     "text": [
      "\r",
      " 27%|████████████████████▌                                                      | 274/1000 [3:22:10<8:56:22, 44.33s/it]"
     ]
    },
    {
     "name": "stdout",
     "output_type": "stream",
     "text": [
      "\t ----- reward: -32.990986336067195 for f_star and f_minus: 27.5375100461375 , 32.990986336067195\n",
      "\t ---------- State is:  (10, 4)\n",
      "[INFO] [2023-03-01 02:53:06,154] [OpenBox-SPO] Iteration 275, objective value: [28.03458283008247].\n"
     ]
    },
    {
     "name": "stderr",
     "output_type": "stream",
     "text": [
      "\r",
      " 28%|████████████████████▋                                                      | 275/1000 [3:22:54<8:54:25, 44.23s/it]"
     ]
    },
    {
     "name": "stdout",
     "output_type": "stream",
     "text": [
      "\t ----- reward: -28.03458283008247 for f_star and f_minus: 27.5375100461375 , 28.03458283008247\n",
      "\t ---------- State is:  (10, 3)\n",
      "[INFO] [2023-03-01 02:53:53,149] [OpenBox-SPO] Iteration 276, objective value: [31.24964294404731].\n"
     ]
    },
    {
     "name": "stderr",
     "output_type": "stream",
     "text": [
      "\r",
      " 28%|████████████████████▋                                                      | 276/1000 [3:23:41<9:03:42, 45.06s/it]"
     ]
    },
    {
     "name": "stdout",
     "output_type": "stream",
     "text": [
      "\t ----- reward: -31.24964294404731 for f_star and f_minus: 27.5375100461375 , 31.24964294404731\n",
      "\t ---------- State is:  (9, 3)\n",
      "[INFO] [2023-03-01 02:54:38,715] [OpenBox-SPO] Iteration 277, objective value: [32.51209779028194].\n"
     ]
    },
    {
     "name": "stderr",
     "output_type": "stream",
     "text": [
      "\r",
      " 28%|████████████████████▊                                                      | 277/1000 [3:24:26<9:04:47, 45.21s/it]"
     ]
    },
    {
     "name": "stdout",
     "output_type": "stream",
     "text": [
      "\t ----- reward: -32.51209779028194 for f_star and f_minus: 27.5375100461375 , 32.51209779028194\n",
      "\t ---------- State is:  (10, 4)\n",
      "[INFO] [2023-03-01 02:55:25,073] [OpenBox-SPO] Iteration 278, objective value: [31.263163327521625].\n"
     ]
    },
    {
     "name": "stderr",
     "output_type": "stream",
     "text": [
      "\r",
      " 28%|████████████████████▊                                                      | 278/1000 [3:25:13<9:08:10, 45.55s/it]"
     ]
    },
    {
     "name": "stdout",
     "output_type": "stream",
     "text": [
      "\t ----- reward: -31.263163327521625 for f_star and f_minus: 27.5375100461375 , 31.263163327521625\n",
      "\t ---------- State is:  (9, 3)\n",
      "[INFO] [2023-03-01 02:56:09,986] [OpenBox-SPO] Iteration 279, objective value: [32.08630962044997].\n"
     ]
    },
    {
     "name": "stderr",
     "output_type": "stream",
     "text": [
      "\r",
      " 28%|████████████████████▉                                                      | 279/1000 [3:25:58<9:05:06, 45.36s/it]"
     ]
    },
    {
     "name": "stdout",
     "output_type": "stream",
     "text": [
      "\t ----- reward: -32.08630962044997 for f_star and f_minus: 27.5375100461375 , 32.08630962044997\n",
      "\t ---------- State is:  (9, 3)\n",
      "[INFO] [2023-03-01 02:56:56,074] [OpenBox-SPO] Iteration 280, objective value: [25.672330179448494].\n"
     ]
    },
    {
     "name": "stderr",
     "output_type": "stream",
     "text": [
      "\r",
      " 28%|█████████████████████                                                      | 280/1000 [3:26:44<9:06:57, 45.58s/it]"
     ]
    },
    {
     "name": "stdout",
     "output_type": "stream",
     "text": [
      "\t ----- reward: -25.672330179448494 for f_star and f_minus: 27.5375100461375 , 25.672330179448494\n",
      "\t ---------- State is:  (8, 3)\n",
      "[INFO] [2023-03-01 02:57:39,102] [OpenBox-SPO] Iteration 281, objective value: [31.782045497206425].\n"
     ]
    },
    {
     "name": "stderr",
     "output_type": "stream",
     "text": [
      "\r",
      " 28%|█████████████████████                                                      | 281/1000 [3:27:27<8:57:01, 44.81s/it]"
     ]
    },
    {
     "name": "stdout",
     "output_type": "stream",
     "text": [
      "\t ----- reward: -31.782045497206425 for f_star and f_minus: 25.672330179448494 , 31.782045497206425\n",
      "\t ---------- State is:  (8, 5)\n",
      "[INFO] [2023-03-01 02:58:22,546] [OpenBox-SPO] Iteration 282, objective value: [27.99593137173997].\n"
     ]
    },
    {
     "name": "stderr",
     "output_type": "stream",
     "text": [
      "\r",
      " 28%|█████████████████████▏                                                     | 282/1000 [3:28:10<8:51:21, 44.40s/it]"
     ]
    },
    {
     "name": "stdout",
     "output_type": "stream",
     "text": [
      "\t ----- reward: -27.99593137173997 for f_star and f_minus: 25.672330179448494 , 27.99593137173997\n",
      "\t ---------- State is:  (7, 5)\n",
      "[INFO] [2023-03-01 02:59:04,459] [OpenBox-SPO] Iteration 283, objective value: [29.30802297493578].\n"
     ]
    },
    {
     "name": "stderr",
     "output_type": "stream",
     "text": [
      "\r",
      " 28%|█████████████████████▏                                                     | 283/1000 [3:28:52<8:41:41, 43.66s/it]"
     ]
    },
    {
     "name": "stdout",
     "output_type": "stream",
     "text": [
      "\t ----- reward: -29.30802297493578 for f_star and f_minus: 25.672330179448494 , 29.30802297493578\n",
      "\t ---------- State is:  (6, 5)\n",
      "[INFO] [2023-03-01 02:59:49,379] [OpenBox-SPO] Iteration 284, objective value: [33.57294918865155].\n"
     ]
    },
    {
     "name": "stderr",
     "output_type": "stream",
     "text": [
      "\r",
      " 28%|█████████████████████▎                                                     | 284/1000 [3:29:37<8:45:29, 44.04s/it]"
     ]
    },
    {
     "name": "stdout",
     "output_type": "stream",
     "text": [
      "\t ----- reward: -33.57294918865155 for f_star and f_minus: 25.672330179448494 , 33.57294918865155\n",
      "\t ---------- State is:  (5, 5)\n",
      "[INFO] [2023-03-01 03:00:32,433] [OpenBox-SPO] Iteration 285, objective value: [28.78228752723608].\n"
     ]
    },
    {
     "name": "stderr",
     "output_type": "stream",
     "text": [
      "\r",
      " 28%|█████████████████████▎                                                     | 285/1000 [3:30:20<8:41:14, 43.74s/it]"
     ]
    },
    {
     "name": "stdout",
     "output_type": "stream",
     "text": [
      "\t ----- reward: -28.78228752723608 for f_star and f_minus: 25.672330179448494 , 28.78228752723608\n",
      "\t ---------- State is:  (5, 5)\n",
      "[INFO] [2023-03-01 03:01:17,402] [OpenBox-SPO] Iteration 286, objective value: [35.88559591715695].\n"
     ]
    },
    {
     "name": "stderr",
     "output_type": "stream",
     "text": [
      "\r",
      " 29%|█████████████████████▍                                                     | 286/1000 [3:31:05<8:44:54, 44.11s/it]"
     ]
    },
    {
     "name": "stdout",
     "output_type": "stream",
     "text": [
      "\t ----- reward: -35.88559591715695 for f_star and f_minus: 25.672330179448494 , 35.88559591715695\n",
      "\t ---------- State is:  (6, 5)\n",
      "[INFO] [2023-03-01 03:01:17,402] [Advisor] Sample random config. rand_prob=0.100000.\n",
      "[INFO] [2023-03-01 03:01:45,778] [OpenBox-SPO] Iteration 287, objective value: [57.90721078011666].\n"
     ]
    },
    {
     "name": "stderr",
     "output_type": "stream",
     "text": [
      "\r",
      " 29%|█████████████████████▌                                                     | 287/1000 [3:31:34<7:48:04, 39.39s/it]"
     ]
    },
    {
     "name": "stdout",
     "output_type": "stream",
     "text": [
      "\t ----- reward: -57.90721078011666 for f_star and f_minus: 25.672330179448494 , 57.90721078011666\n",
      "\t ---------- State is:  (6, 5)\n",
      "[INFO] [2023-03-01 03:01:45,778] [Advisor] Sample random config. rand_prob=0.100000.\n",
      "[INFO] [2023-03-01 03:02:26,597] [OpenBox-SPO] Iteration 288, objective value: [48.046947311167074].\n"
     ]
    },
    {
     "name": "stderr",
     "output_type": "stream",
     "text": [
      "\r",
      " 29%|█████████████████████▌                                                     | 288/1000 [3:32:14<7:52:30, 39.82s/it]"
     ]
    },
    {
     "name": "stdout",
     "output_type": "stream",
     "text": [
      "\t ----- reward: -48.046947311167074 for f_star and f_minus: 25.672330179448494 , 48.046947311167074\n",
      "\t ---------- State is:  (5, 5)\n",
      "[INFO] [2023-03-01 03:02:26,597] [Advisor] Sample random config. rand_prob=0.100000.\n",
      "[INFO] [2023-03-01 03:02:54,868] [OpenBox-SPO] Iteration 289, objective value: [68.32203617842939].\n"
     ]
    },
    {
     "name": "stderr",
     "output_type": "stream",
     "text": [
      "\r",
      " 29%|█████████████████████▋                                                     | 289/1000 [3:32:43<7:10:47, 36.35s/it]"
     ]
    },
    {
     "name": "stdout",
     "output_type": "stream",
     "text": [
      "\t ----- reward: -68.32203617842939 for f_star and f_minus: 25.672330179448494 , 68.32203617842939\n",
      "\t ---------- State is:  (5, 6)\n",
      "[INFO] [2023-03-01 03:03:41,532] [OpenBox-SPO] Iteration 290, objective value: [30.412587510584927].\n"
     ]
    },
    {
     "name": "stderr",
     "output_type": "stream",
     "text": [
      "\r",
      " 29%|█████████████████████▊                                                     | 290/1000 [3:33:29<7:46:47, 39.45s/it]"
     ]
    },
    {
     "name": "stdout",
     "output_type": "stream",
     "text": [
      "\t ----- reward: -30.412587510584927 for f_star and f_minus: 25.672330179448494 , 30.412587510584927\n",
      "\t ---------- State is:  (6, 6)\n",
      "[INFO] [2023-03-01 03:04:25,795] [OpenBox-SPO] Iteration 291, objective value: [33.74315898294988].\n"
     ]
    },
    {
     "name": "stderr",
     "output_type": "stream",
     "text": [
      "\r",
      " 29%|█████████████████████▊                                                     | 291/1000 [3:34:14<8:03:12, 40.89s/it]"
     ]
    },
    {
     "name": "stdout",
     "output_type": "stream",
     "text": [
      "\t ----- reward: -33.74315898294988 for f_star and f_minus: 25.672330179448494 , 33.74315898294988\n",
      "\t ---------- State is:  (5, 6)\n",
      "[INFO] [2023-03-01 03:05:15,022] [OpenBox-SPO] Iteration 292, objective value: [34.65239919112041].\n"
     ]
    },
    {
     "name": "stderr",
     "output_type": "stream",
     "text": [
      "\r",
      " 29%|█████████████████████▉                                                     | 292/1000 [3:35:03<8:32:05, 43.40s/it]"
     ]
    },
    {
     "name": "stdout",
     "output_type": "stream",
     "text": [
      "\t ----- reward: -34.65239919112041 for f_star and f_minus: 25.672330179448494 , 34.65239919112041\n",
      "\t ---------- State is:  (6, 6)\n",
      "[INFO] [2023-03-01 03:06:02,607] [OpenBox-SPO] Iteration 293, objective value: [40.79372226822622].\n"
     ]
    },
    {
     "name": "stderr",
     "output_type": "stream",
     "text": [
      "\r",
      " 29%|█████████████████████▉                                                     | 293/1000 [3:35:50<8:46:06, 44.65s/it]"
     ]
    },
    {
     "name": "stdout",
     "output_type": "stream",
     "text": [
      "\t ----- reward: -40.79372226822622 for f_star and f_minus: 25.672330179448494 , 40.79372226822622\n",
      "\t ---------- State is:  (5, 6)\n",
      "[INFO] [2023-03-01 03:06:44,881] [OpenBox-SPO] Iteration 294, objective value: [35.630571223482306].\n"
     ]
    },
    {
     "name": "stderr",
     "output_type": "stream",
     "text": [
      "\r",
      " 29%|██████████████████████                                                     | 294/1000 [3:36:33<8:36:59, 43.94s/it]"
     ]
    },
    {
     "name": "stdout",
     "output_type": "stream",
     "text": [
      "\t ----- reward: -35.630571223482306 for f_star and f_minus: 25.672330179448494 , 35.630571223482306\n",
      "\t ---------- State is:  (4, 6)\n",
      "[INFO] [2023-03-01 03:07:35,732] [OpenBox-SPO] Iteration 295, objective value: [33.845007024552814].\n"
     ]
    },
    {
     "name": "stderr",
     "output_type": "stream",
     "text": [
      "\r",
      " 30%|██████████████████████▏                                                    | 295/1000 [3:37:24<9:00:40, 46.02s/it]"
     ]
    },
    {
     "name": "stdout",
     "output_type": "stream",
     "text": [
      "\t ----- reward: -33.845007024552814 for f_star and f_minus: 25.672330179448494 , 33.845007024552814\n",
      "\t ---------- State is:  (4, 7)\n",
      "[INFO] [2023-03-01 03:08:21,394] [OpenBox-SPO] Iteration 296, objective value: [37.59764210828994].\n"
     ]
    },
    {
     "name": "stderr",
     "output_type": "stream",
     "text": [
      "\r",
      " 30%|██████████████████████▏                                                    | 296/1000 [3:38:09<8:58:36, 45.90s/it]"
     ]
    },
    {
     "name": "stdout",
     "output_type": "stream",
     "text": [
      "\t ----- reward: -37.59764210828994 for f_star and f_minus: 25.672330179448494 , 37.59764210828994\n",
      "\t ---------- State is:  (3, 7)\n",
      "[INFO] [2023-03-01 03:09:08,165] [OpenBox-SPO] Iteration 297, objective value: [31.47582911724382].\n"
     ]
    },
    {
     "name": "stderr",
     "output_type": "stream",
     "text": [
      "\r",
      " 30%|██████████████████████▎                                                    | 297/1000 [3:38:56<9:00:53, 46.16s/it]"
     ]
    },
    {
     "name": "stdout",
     "output_type": "stream",
     "text": [
      "\t ----- reward: -31.47582911724382 for f_star and f_minus: 25.672330179448494 , 31.47582911724382\n",
      "\t ---------- State is:  (2, 7)\n",
      "[INFO] [2023-03-01 03:09:51,219] [OpenBox-SPO] Iteration 298, objective value: [35.762594132798526].\n"
     ]
    },
    {
     "name": "stderr",
     "output_type": "stream",
     "text": [
      "\r",
      " 30%|██████████████████████▎                                                    | 298/1000 [3:39:39<8:49:12, 45.23s/it]"
     ]
    },
    {
     "name": "stdout",
     "output_type": "stream",
     "text": [
      "\t ----- reward: -35.762594132798526 for f_star and f_minus: 25.672330179448494 , 35.762594132798526\n",
      "\t ---------- State is:  (3, 8)\n",
      "[INFO] [2023-03-01 03:10:39,429] [OpenBox-SPO] Iteration 299, objective value: [31.99180808937564].\n"
     ]
    },
    {
     "name": "stderr",
     "output_type": "stream",
     "text": [
      "\r",
      " 30%|██████████████████████▍                                                    | 299/1000 [3:40:27<8:58:53, 46.12s/it]"
     ]
    },
    {
     "name": "stdout",
     "output_type": "stream",
     "text": [
      "\t ----- reward: -31.99180808937564 for f_star and f_minus: 25.672330179448494 , 31.99180808937564\n",
      "\t ---------- State is:  (2, 8)\n",
      "[INFO] [2023-03-01 03:11:26,185] [OpenBox-SPO] Iteration 300, objective value: [30.060201305938776].\n"
     ]
    },
    {
     "name": "stderr",
     "output_type": "stream",
     "text": [
      "\r",
      " 30%|██████████████████████▌                                                    | 300/1000 [3:41:14<9:00:19, 46.31s/it]"
     ]
    },
    {
     "name": "stdout",
     "output_type": "stream",
     "text": [
      "\t ----- reward: -30.060201305938776 for f_star and f_minus: 25.672330179448494 , 30.060201305938776\n",
      "\t ---------- State is:  (3, 8)\n",
      "[INFO] [2023-03-01 03:11:26,185] [Advisor] Sample random config. rand_prob=0.100000.\n",
      "[INFO] [2023-03-01 03:12:00,348] [OpenBox-SPO] Iteration 301, objective value: [51.45302181449852].\n"
     ]
    },
    {
     "name": "stderr",
     "output_type": "stream",
     "text": [
      "\r",
      " 30%|██████████████████████▌                                                    | 301/1000 [3:41:48<8:17:05, 42.67s/it]"
     ]
    },
    {
     "name": "stdout",
     "output_type": "stream",
     "text": [
      "\t ----- reward: -51.45302181449852 for f_star and f_minus: 25.672330179448494 , 51.45302181449852\n",
      "\t ---------- State is:  (4, 8)\n",
      "[INFO] [2023-03-01 03:12:45,699] [OpenBox-SPO] Iteration 302, objective value: [38.69264788192138].\n"
     ]
    },
    {
     "name": "stderr",
     "output_type": "stream",
     "text": [
      "\r",
      " 30%|██████████████████████▋                                                    | 302/1000 [3:42:33<8:25:44, 43.47s/it]"
     ]
    },
    {
     "name": "stdout",
     "output_type": "stream",
     "text": [
      "\t ----- reward: -38.69264788192138 for f_star and f_minus: 25.672330179448494 , 38.69264788192138\n",
      "\t ---------- State is:  (5, 9)\n",
      "[INFO] [2023-03-01 03:13:27,579] [OpenBox-SPO] Iteration 303, objective value: [33.65120179449946].\n"
     ]
    },
    {
     "name": "stderr",
     "output_type": "stream",
     "text": [
      "\r",
      " 30%|██████████████████████▋                                                    | 303/1000 [3:43:15<8:19:27, 43.00s/it]"
     ]
    },
    {
     "name": "stdout",
     "output_type": "stream",
     "text": [
      "\t ----- reward: -33.65120179449946 for f_star and f_minus: 25.672330179448494 , 33.65120179449946\n",
      "\t ---------- State is:  (4, 9)\n",
      "[INFO] [2023-03-01 03:14:14,225] [OpenBox-SPO] Iteration 304, objective value: [42.61643363865639].\n"
     ]
    },
    {
     "name": "stderr",
     "output_type": "stream",
     "text": [
      "\r",
      " 30%|██████████████████████▊                                                    | 304/1000 [3:44:02<8:31:27, 44.09s/it]"
     ]
    },
    {
     "name": "stdout",
     "output_type": "stream",
     "text": [
      "\t ----- reward: -42.61643363865639 for f_star and f_minus: 25.672330179448494 , 42.61643363865639\n",
      "\t ---------- State is:  (5, 10)\n",
      "[INFO] [2023-03-01 03:15:00,406] [OpenBox-SPO] Iteration 305, objective value: [33.88817844210487].\n"
     ]
    },
    {
     "name": "stderr",
     "output_type": "stream",
     "text": [
      "\r",
      " 30%|██████████████████████▉                                                    | 305/1000 [3:44:48<8:37:58, 44.72s/it]"
     ]
    },
    {
     "name": "stdout",
     "output_type": "stream",
     "text": [
      "\t ----- reward: -33.88817844210487 for f_star and f_minus: 25.672330179448494 , 33.88817844210487\n",
      "\t ---------- State is:  (4, 10)\n",
      "[INFO] [2023-03-01 03:15:46,774] [OpenBox-SPO] Iteration 306, objective value: [25.83439678923527].\n"
     ]
    },
    {
     "name": "stderr",
     "output_type": "stream",
     "text": [
      "\r",
      " 31%|██████████████████████▉                                                    | 306/1000 [3:45:35<8:42:57, 45.21s/it]"
     ]
    },
    {
     "name": "stdout",
     "output_type": "stream",
     "text": [
      "\t ----- reward: -25.83439678923527 for f_star and f_minus: 25.672330179448494 , 25.83439678923527\n",
      "\t ---------- State is:  (3, 9)\n",
      "[INFO] [2023-03-01 03:16:35,453] [OpenBox-SPO] Iteration 307, objective value: [29.447184125909203].\n"
     ]
    },
    {
     "name": "stderr",
     "output_type": "stream",
     "text": [
      "\r",
      " 31%|███████████████████████                                                    | 307/1000 [3:46:23<8:54:13, 46.25s/it]"
     ]
    },
    {
     "name": "stdout",
     "output_type": "stream",
     "text": [
      "\t ----- reward: -29.447184125909203 for f_star and f_minus: 25.672330179448494 , 29.447184125909203\n",
      "\t ---------- State is:  (3, 8)\n",
      "[INFO] [2023-03-01 03:17:21,146] [OpenBox-SPO] Iteration 308, objective value: [29.596189341019496].\n"
     ]
    },
    {
     "name": "stderr",
     "output_type": "stream",
     "text": [
      "\r",
      " 31%|███████████████████████                                                    | 308/1000 [3:47:09<8:51:30, 46.08s/it]"
     ]
    },
    {
     "name": "stdout",
     "output_type": "stream",
     "text": [
      "\t ----- reward: -29.596189341019496 for f_star and f_minus: 25.672330179448494 , 29.596189341019496\n",
      "\t ---------- State is:  (3, 8)\n",
      "[INFO] [2023-03-01 03:18:10,448] [OpenBox-SPO] Iteration 309, objective value: [28.715475031740155].\n"
     ]
    },
    {
     "name": "stderr",
     "output_type": "stream",
     "text": [
      "\r",
      " 31%|███████████████████████▏                                                   | 309/1000 [3:47:58<9:01:51, 47.05s/it]"
     ]
    },
    {
     "name": "stdout",
     "output_type": "stream",
     "text": [
      "\t ----- reward: -28.715475031740155 for f_star and f_minus: 25.672330179448494 , 28.715475031740155\n",
      "\t ---------- State is:  (3, 8)\n",
      "[INFO] [2023-03-01 03:18:52,281] [OpenBox-SPO] Iteration 310, objective value: [32.90695613674286].\n"
     ]
    },
    {
     "name": "stderr",
     "output_type": "stream",
     "text": [
      "\r",
      " 31%|███████████████████████▎                                                   | 310/1000 [3:48:40<8:43:04, 45.48s/it]"
     ]
    },
    {
     "name": "stdout",
     "output_type": "stream",
     "text": [
      "\t ----- reward: -32.90695613674286 for f_star and f_minus: 25.672330179448494 , 32.90695613674286\n",
      "\t ---------- State is:  (2, 8)\n",
      "[INFO] [2023-03-01 03:19:45,215] [OpenBox-SPO] Iteration 311, objective value: [43.58048485194536].\n"
     ]
    },
    {
     "name": "stderr",
     "output_type": "stream",
     "text": [
      "\r",
      " 31%|███████████████████████▎                                                   | 311/1000 [3:49:33<9:07:58, 47.72s/it]"
     ]
    },
    {
     "name": "stdout",
     "output_type": "stream",
     "text": [
      "\t ----- reward: -43.58048485194536 for f_star and f_minus: 25.672330179448494 , 43.58048485194536\n",
      "\t ---------- State is:  (2, 8)\n",
      "[INFO] [2023-03-01 03:20:29,956] [OpenBox-SPO] Iteration 312, objective value: [35.39554465508843].\n"
     ]
    },
    {
     "name": "stderr",
     "output_type": "stream",
     "text": [
      "\r",
      " 31%|███████████████████████▍                                                   | 312/1000 [3:50:18<8:56:56, 46.83s/it]"
     ]
    },
    {
     "name": "stdout",
     "output_type": "stream",
     "text": [
      "\t ----- reward: -35.39554465508843 for f_star and f_minus: 25.672330179448494 , 35.39554465508843\n",
      "\t ---------- State is:  (1, 8)\n",
      "[INFO] [2023-03-01 03:21:19,826] [OpenBox-SPO] Iteration 313, objective value: [41.548223641811866].\n"
     ]
    },
    {
     "name": "stderr",
     "output_type": "stream",
     "text": [
      "\r",
      " 31%|███████████████████████▍                                                   | 313/1000 [3:51:08<9:06:36, 47.74s/it]"
     ]
    },
    {
     "name": "stdout",
     "output_type": "stream",
     "text": [
      "\t ----- reward: -41.548223641811866 for f_star and f_minus: 25.672330179448494 , 41.548223641811866\n",
      "\t ---------- State is:  (1, 8)\n",
      "[INFO] [2023-03-01 03:22:09,177] [OpenBox-SPO] Iteration 314, objective value: [32.087765451246014].\n"
     ]
    },
    {
     "name": "stderr",
     "output_type": "stream",
     "text": [
      "\r",
      " 31%|███████████████████████▌                                                   | 314/1000 [3:51:57<9:11:20, 48.22s/it]"
     ]
    },
    {
     "name": "stdout",
     "output_type": "stream",
     "text": [
      "\t ----- reward: -32.087765451246014 for f_star and f_minus: 25.672330179448494 , 32.087765451246014\n",
      "\t ---------- State is:  (2, 8)\n",
      "[INFO] [2023-03-01 03:22:59,297] [OpenBox-SPO] Iteration 315, objective value: [31.25365460103002].\n"
     ]
    },
    {
     "name": "stderr",
     "output_type": "stream",
     "text": [
      "\r",
      " 32%|███████████████████████▋                                                   | 315/1000 [3:52:47<9:17:02, 48.79s/it]"
     ]
    },
    {
     "name": "stdout",
     "output_type": "stream",
     "text": [
      "\t ----- reward: -31.25365460103002 for f_star and f_minus: 25.672330179448494 , 31.25365460103002\n",
      "\t ---------- State is:  (3, 7)\n",
      "[INFO] [2023-03-01 03:23:49,664] [OpenBox-SPO] Iteration 316, objective value: [36.80393787256235].\n"
     ]
    },
    {
     "name": "stderr",
     "output_type": "stream",
     "text": [
      "\r",
      " 32%|███████████████████████▋                                                   | 316/1000 [3:53:37<9:21:36, 49.26s/it]"
     ]
    },
    {
     "name": "stdout",
     "output_type": "stream",
     "text": [
      "\t ----- reward: -36.80393787256235 for f_star and f_minus: 25.672330179448494 , 36.80393787256235\n",
      "\t ---------- State is:  (3, 7)\n",
      "[INFO] [2023-03-01 03:24:34,482] [OpenBox-SPO] Iteration 317, objective value: [36.16079549855827].\n"
     ]
    },
    {
     "name": "stderr",
     "output_type": "stream",
     "text": [
      "\r",
      " 32%|███████████████████████▊                                                   | 317/1000 [3:54:22<9:05:36, 47.93s/it]"
     ]
    },
    {
     "name": "stdout",
     "output_type": "stream",
     "text": [
      "\t ----- reward: -36.16079549855827 for f_star and f_minus: 25.672330179448494 , 36.16079549855827\n",
      "\t ---------- State is:  (4, 8)\n",
      "[INFO] [2023-03-01 03:25:20,692] [OpenBox-SPO] Iteration 318, objective value: [31.81282146779199].\n"
     ]
    },
    {
     "name": "stderr",
     "output_type": "stream",
     "text": [
      "\r",
      " 32%|███████████████████████▊                                                   | 318/1000 [3:55:08<8:58:56, 47.41s/it]"
     ]
    },
    {
     "name": "stdout",
     "output_type": "stream",
     "text": [
      "\t ----- reward: -31.81282146779199 for f_star and f_minus: 25.672330179448494 , 31.81282146779199\n",
      "\t ---------- State is:  (4, 7)\n",
      "[INFO] [2023-03-01 03:26:03,465] [OpenBox-SPO] Iteration 319, objective value: [31.379199008980947].\n"
     ]
    },
    {
     "name": "stderr",
     "output_type": "stream",
     "text": [
      "\r",
      " 32%|███████████████████████▉                                                   | 319/1000 [3:55:51<8:42:24, 46.03s/it]"
     ]
    },
    {
     "name": "stdout",
     "output_type": "stream",
     "text": [
      "\t ----- reward: -31.379199008980947 for f_star and f_minus: 25.672330179448494 , 31.379199008980947\n",
      "\t ---------- State is:  (5, 7)\n",
      "[INFO] [2023-03-01 03:26:42,161] [OpenBox-SPO] Iteration 320, objective value: [32.42859695228354].\n"
     ]
    },
    {
     "name": "stderr",
     "output_type": "stream",
     "text": [
      "\r",
      " 32%|████████████████████████                                                   | 320/1000 [3:56:30<8:16:39, 43.82s/it]"
     ]
    },
    {
     "name": "stdout",
     "output_type": "stream",
     "text": [
      "\t ----- reward: -32.42859695228354 for f_star and f_minus: 25.672330179448494 , 32.42859695228354\n",
      "\t ---------- State is:  (5, 7)\n",
      "[INFO] [2023-03-01 03:27:28,387] [OpenBox-SPO] Iteration 321, objective value: [30.46702058231085].\n"
     ]
    },
    {
     "name": "stderr",
     "output_type": "stream",
     "text": [
      "\r",
      " 32%|████████████████████████                                                   | 321/1000 [3:57:16<8:24:05, 44.54s/it]"
     ]
    },
    {
     "name": "stdout",
     "output_type": "stream",
     "text": [
      "\t ----- reward: -30.46702058231085 for f_star and f_minus: 25.672330179448494 , 30.46702058231085\n",
      "\t ---------- State is:  (6, 6)\n",
      "[INFO] [2023-03-01 03:28:10,986] [OpenBox-SPO] Iteration 322, objective value: [33.0806054570193].\n"
     ]
    },
    {
     "name": "stderr",
     "output_type": "stream",
     "text": [
      "\r",
      " 32%|████████████████████████▏                                                  | 322/1000 [3:57:59<8:16:45, 43.96s/it]"
     ]
    },
    {
     "name": "stdout",
     "output_type": "stream",
     "text": [
      "\t ----- reward: -33.0806054570193 for f_star and f_minus: 25.672330179448494 , 33.0806054570193\n",
      "\t ---------- State is:  (7, 6)\n",
      "[INFO] [2023-03-01 03:28:58,809] [OpenBox-SPO] Iteration 323, objective value: [31.782912301269803].\n"
     ]
    },
    {
     "name": "stderr",
     "output_type": "stream",
     "text": [
      "\r",
      " 32%|████████████████████████▏                                                  | 323/1000 [3:58:47<8:29:05, 45.12s/it]"
     ]
    },
    {
     "name": "stdout",
     "output_type": "stream",
     "text": [
      "\t ----- reward: -31.782912301269803 for f_star and f_minus: 25.672330179448494 , 31.782912301269803\n",
      "\t ---------- State is:  (7, 6)\n",
      "[INFO] [2023-03-01 03:29:45,174] [OpenBox-SPO] Iteration 324, objective value: [33.94307062331447].\n"
     ]
    },
    {
     "name": "stderr",
     "output_type": "stream",
     "text": [
      "\r",
      " 32%|████████████████████████▎                                                  | 324/1000 [3:59:33<8:32:33, 45.49s/it]"
     ]
    },
    {
     "name": "stdout",
     "output_type": "stream",
     "text": [
      "\t ----- reward: -33.94307062331447 for f_star and f_minus: 25.672330179448494 , 33.94307062331447\n",
      "\t ---------- State is:  (8, 6)\n",
      "[INFO] [2023-03-01 03:30:32,077] [OpenBox-SPO] Iteration 325, objective value: [30.61162682792353].\n"
     ]
    },
    {
     "name": "stderr",
     "output_type": "stream",
     "text": [
      "\r",
      " 32%|████████████████████████▍                                                  | 325/1000 [4:00:20<8:36:33, 45.92s/it]"
     ]
    },
    {
     "name": "stdout",
     "output_type": "stream",
     "text": [
      "\t ----- reward: -30.61162682792353 for f_star and f_minus: 25.672330179448494 , 30.61162682792353\n",
      "\t ---------- State is:  (8, 6)\n",
      "[INFO] [2023-03-01 03:31:14,097] [OpenBox-SPO] Iteration 326, objective value: [31.166724531975447].\n"
     ]
    },
    {
     "name": "stderr",
     "output_type": "stream",
     "text": [
      "\r",
      " 33%|████████████████████████▍                                                  | 326/1000 [4:01:02<8:22:39, 44.75s/it]"
     ]
    },
    {
     "name": "stdout",
     "output_type": "stream",
     "text": [
      "\t ----- reward: -31.166724531975447 for f_star and f_minus: 25.672330179448494 , 31.166724531975447\n",
      "\t ---------- State is:  (9, 6)\n",
      "[INFO] [2023-03-01 03:31:56,622] [OpenBox-SPO] Iteration 327, objective value: [47.37553045784742].\n"
     ]
    },
    {
     "name": "stderr",
     "output_type": "stream",
     "text": [
      "\r",
      " 33%|████████████████████████▌                                                  | 327/1000 [4:01:44<8:14:26, 44.08s/it]"
     ]
    },
    {
     "name": "stdout",
     "output_type": "stream",
     "text": [
      "\t ----- reward: -47.37553045784742 for f_star and f_minus: 25.672330179448494 , 47.37553045784742\n",
      "\t ---------- State is:  (9, 6)\n",
      "[INFO] [2023-03-01 03:32:39,206] [OpenBox-SPO] Iteration 328, objective value: [34.9717364396503].\n"
     ]
    },
    {
     "name": "stderr",
     "output_type": "stream",
     "text": [
      "\r",
      " 33%|████████████████████████▌                                                  | 328/1000 [4:02:27<8:08:40, 43.63s/it]"
     ]
    },
    {
     "name": "stdout",
     "output_type": "stream",
     "text": [
      "\t ----- reward: -34.9717364396503 for f_star and f_minus: 25.672330179448494 , 34.9717364396503\n",
      "\t ---------- State is:  (10, 6)\n",
      "[INFO] [2023-03-01 03:33:25,416] [OpenBox-SPO] Iteration 329, objective value: [28.402048278448547].\n"
     ]
    },
    {
     "name": "stderr",
     "output_type": "stream",
     "text": [
      "\r",
      " 33%|████████████████████████▋                                                  | 329/1000 [4:03:13<8:16:35, 44.40s/it]"
     ]
    },
    {
     "name": "stdout",
     "output_type": "stream",
     "text": [
      "\t ----- reward: -28.402048278448547 for f_star and f_minus: 25.672330179448494 , 28.402048278448547\n",
      "\t ---------- State is:  (10, 6)\n",
      "[INFO] [2023-03-01 03:33:25,416] [Advisor] Sample random config. rand_prob=0.100000.\n",
      "[INFO] [2023-03-01 03:33:57,845] [OpenBox-SPO] Iteration 330, objective value: [51.70448674481077].\n"
     ]
    },
    {
     "name": "stderr",
     "output_type": "stream",
     "text": [
      "\r",
      " 33%|████████████████████████▊                                                  | 330/1000 [4:03:46<7:35:44, 40.81s/it]"
     ]
    },
    {
     "name": "stdout",
     "output_type": "stream",
     "text": [
      "\t ----- reward: -51.70448674481077 for f_star and f_minus: 25.672330179448494 , 51.70448674481077\n",
      "\t ---------- State is:  (10, 7)\n",
      "[INFO] [2023-03-01 03:34:43,913] [OpenBox-SPO] Iteration 331, objective value: [36.139948375637864].\n"
     ]
    },
    {
     "name": "stderr",
     "output_type": "stream",
     "text": [
      "\r",
      " 33%|████████████████████████▊                                                  | 331/1000 [4:04:32<7:52:38, 42.39s/it]"
     ]
    },
    {
     "name": "stdout",
     "output_type": "stream",
     "text": [
      "\t ----- reward: -36.139948375637864 for f_star and f_minus: 25.672330179448494 , 36.139948375637864\n",
      "\t ---------- State is:  (10, 7)\n",
      "[INFO] [2023-03-01 03:35:27,269] [OpenBox-SPO] Iteration 332, objective value: [43.68988794024883].\n"
     ]
    },
    {
     "name": "stderr",
     "output_type": "stream",
     "text": [
      "\r",
      " 33%|████████████████████████▉                                                  | 332/1000 [4:05:15<7:55:09, 42.68s/it]"
     ]
    },
    {
     "name": "stdout",
     "output_type": "stream",
     "text": [
      "\t ----- reward: -43.68988794024883 for f_star and f_minus: 25.672330179448494 , 43.68988794024883\n",
      "\t ---------- State is:  (10, 7)\n",
      "[INFO] [2023-03-01 03:36:11,023] [OpenBox-SPO] Iteration 333, objective value: [27.23281795261491].\n"
     ]
    },
    {
     "name": "stderr",
     "output_type": "stream",
     "text": [
      "\r",
      " 33%|████████████████████████▉                                                  | 333/1000 [4:05:59<7:58:02, 43.00s/it]"
     ]
    },
    {
     "name": "stdout",
     "output_type": "stream",
     "text": [
      "\t ----- reward: -27.23281795261491 for f_star and f_minus: 25.672330179448494 , 27.23281795261491\n",
      "\t ---------- State is:  (10, 6)\n",
      "[INFO] [2023-03-01 03:36:55,306] [OpenBox-SPO] Iteration 334, objective value: [35.8686727043345].\n"
     ]
    },
    {
     "name": "stderr",
     "output_type": "stream",
     "text": [
      "\r",
      " 33%|█████████████████████████                                                  | 334/1000 [4:06:43<8:01:35, 43.39s/it]"
     ]
    },
    {
     "name": "stdout",
     "output_type": "stream",
     "text": [
      "\t ----- reward: -35.8686727043345 for f_star and f_minus: 25.672330179448494 , 35.8686727043345\n",
      "\t ---------- State is:  (10, 7)\n",
      "[INFO] [2023-03-01 03:37:38,375] [OpenBox-SPO] Iteration 335, objective value: [26.089924703827833].\n"
     ]
    },
    {
     "name": "stderr",
     "output_type": "stream",
     "text": [
      "\r",
      " 34%|█████████████████████████▏                                                 | 335/1000 [4:07:26<7:59:48, 43.29s/it]"
     ]
    },
    {
     "name": "stdout",
     "output_type": "stream",
     "text": [
      "\t ----- reward: -26.089924703827833 for f_star and f_minus: 25.672330179448494 , 26.089924703827833\n",
      "\t ---------- State is:  (9, 7)\n",
      "[INFO] [2023-03-01 03:38:23,572] [OpenBox-SPO] Iteration 336, objective value: [32.24059440964233].\n"
     ]
    },
    {
     "name": "stderr",
     "output_type": "stream",
     "text": [
      "\r",
      " 34%|█████████████████████████▏                                                 | 336/1000 [4:08:11<8:05:24, 43.86s/it]"
     ]
    },
    {
     "name": "stdout",
     "output_type": "stream",
     "text": [
      "\t ----- reward: -32.24059440964233 for f_star and f_minus: 25.672330179448494 , 32.24059440964233\n",
      "\t ---------- State is:  (10, 6)\n",
      "[INFO] [2023-03-01 03:38:23,572] [Advisor] Sample random config. rand_prob=0.100000.\n",
      "[INFO] [2023-03-01 03:38:55,000] [OpenBox-SPO] Iteration 337, objective value: [59.482673104683].\n"
     ]
    },
    {
     "name": "stderr",
     "output_type": "stream",
     "text": [
      "\r",
      " 34%|█████████████████████████▎                                                 | 337/1000 [4:08:43<7:23:27, 40.13s/it]"
     ]
    },
    {
     "name": "stdout",
     "output_type": "stream",
     "text": [
      "\t ----- reward: -59.482673104683 for f_star and f_minus: 25.672330179448494 , 59.482673104683\n",
      "\t ---------- State is:  (9, 6)\n",
      "[INFO] [2023-03-01 03:39:42,680] [OpenBox-SPO] Iteration 338, objective value: [36.53774816862091].\n"
     ]
    },
    {
     "name": "stderr",
     "output_type": "stream",
     "text": [
      "\r",
      " 34%|█████████████████████████▎                                                 | 338/1000 [4:09:30<7:47:46, 42.40s/it]"
     ]
    },
    {
     "name": "stdout",
     "output_type": "stream",
     "text": [
      "\t ----- reward: -36.53774816862091 for f_star and f_minus: 25.672330179448494 , 36.53774816862091\n",
      "\t ---------- State is:  (9, 7)\n",
      "[INFO] [2023-03-01 03:40:31,265] [OpenBox-SPO] Iteration 339, objective value: [31.751052097325044].\n"
     ]
    },
    {
     "name": "stderr",
     "output_type": "stream",
     "text": [
      "\r",
      " 34%|█████████████████████████▍                                                 | 339/1000 [4:10:19<8:07:31, 44.25s/it]"
     ]
    },
    {
     "name": "stdout",
     "output_type": "stream",
     "text": [
      "\t ----- reward: -31.751052097325044 for f_star and f_minus: 25.672330179448494 , 31.751052097325044\n",
      "\t ---------- State is:  (9, 7)\n",
      "[INFO] [2023-03-01 03:41:18,619] [OpenBox-SPO] Iteration 340, objective value: [34.32670539332665].\n"
     ]
    },
    {
     "name": "stderr",
     "output_type": "stream",
     "text": [
      "\r",
      " 34%|█████████████████████████▌                                                 | 340/1000 [4:11:06<8:17:01, 45.18s/it]"
     ]
    },
    {
     "name": "stdout",
     "output_type": "stream",
     "text": [
      "\t ----- reward: -34.32670539332665 for f_star and f_minus: 25.672330179448494 , 34.32670539332665\n",
      "\t ---------- State is:  (10, 7)\n",
      "[INFO] [2023-03-01 03:42:01,206] [OpenBox-SPO] Iteration 341, objective value: [29.285655113589726].\n"
     ]
    },
    {
     "name": "stderr",
     "output_type": "stream",
     "text": [
      "\r",
      " 34%|█████████████████████████▌                                                 | 341/1000 [4:11:49<8:07:42, 44.40s/it]"
     ]
    },
    {
     "name": "stdout",
     "output_type": "stream",
     "text": [
      "\t ----- reward: -29.285655113589726 for f_star and f_minus: 25.672330179448494 , 29.285655113589726\n",
      "\t ---------- State is:  (9, 7)\n",
      "[INFO] [2023-03-01 03:42:49,791] [OpenBox-SPO] Iteration 342, objective value: [26.278834127627633].\n"
     ]
    },
    {
     "name": "stderr",
     "output_type": "stream",
     "text": [
      "\r",
      " 34%|█████████████████████████▋                                                 | 342/1000 [4:12:38<8:20:43, 45.66s/it]"
     ]
    },
    {
     "name": "stdout",
     "output_type": "stream",
     "text": [
      "\t ----- reward: -26.278834127627633 for f_star and f_minus: 25.672330179448494 , 26.278834127627633\n",
      "\t ---------- State is:  (8, 7)\n",
      "[INFO] [2023-03-01 03:42:49,791] [Advisor] Sample random config. rand_prob=0.100000.\n",
      "[INFO] [2023-03-01 03:43:22,483] [OpenBox-SPO] Iteration 343, objective value: [50.45597068466887].\n"
     ]
    },
    {
     "name": "stderr",
     "output_type": "stream",
     "text": [
      "\r",
      " 34%|█████████████████████████▋                                                 | 343/1000 [4:13:10<7:37:22, 41.77s/it]"
     ]
    },
    {
     "name": "stdout",
     "output_type": "stream",
     "text": [
      "\t ----- reward: -50.45597068466887 for f_star and f_minus: 25.672330179448494 , 50.45597068466887\n",
      "\t ---------- State is:  (8, 8)\n",
      "[INFO] [2023-03-01 03:44:10,178] [OpenBox-SPO] Iteration 344, objective value: [32.87820116919143].\n"
     ]
    },
    {
     "name": "stderr",
     "output_type": "stream",
     "text": [
      "\r",
      " 34%|█████████████████████████▊                                                 | 344/1000 [4:13:58<7:56:06, 43.55s/it]"
     ]
    },
    {
     "name": "stdout",
     "output_type": "stream",
     "text": [
      "\t ----- reward: -32.87820116919143 for f_star and f_minus: 25.672330179448494 , 32.87820116919143\n",
      "\t ---------- State is:  (7, 7)\n",
      "[INFO] [2023-03-01 03:44:49,717] [OpenBox-SPO] Iteration 345, objective value: [38.822101329679604].\n"
     ]
    },
    {
     "name": "stderr",
     "output_type": "stream",
     "text": [
      "\r",
      " 34%|█████████████████████████▊                                                 | 345/1000 [4:14:38<7:42:18, 42.35s/it]"
     ]
    },
    {
     "name": "stdout",
     "output_type": "stream",
     "text": [
      "\t ----- reward: -38.822101329679604 for f_star and f_minus: 25.672330179448494 , 38.822101329679604\n",
      "\t ---------- State is:  (6, 8)\n",
      "[INFO] [2023-03-01 03:45:32,739] [OpenBox-SPO] Iteration 346, objective value: [46.36307725965673].\n"
     ]
    },
    {
     "name": "stderr",
     "output_type": "stream",
     "text": [
      "\r",
      " 35%|█████████████████████████▉                                                 | 346/1000 [4:15:21<7:43:45, 42.55s/it]"
     ]
    },
    {
     "name": "stdout",
     "output_type": "stream",
     "text": [
      "\t ----- reward: -46.36307725965673 for f_star and f_minus: 25.672330179448494 , 46.36307725965673\n",
      "\t ---------- State is:  (6, 9)\n",
      "[INFO] [2023-03-01 03:46:14,042] [OpenBox-SPO] Iteration 347, objective value: [45.311531601708644].\n"
     ]
    },
    {
     "name": "stderr",
     "output_type": "stream",
     "text": [
      "\r",
      " 35%|██████████████████████████                                                 | 347/1000 [4:16:02<7:38:59, 42.17s/it]"
     ]
    },
    {
     "name": "stdout",
     "output_type": "stream",
     "text": [
      "\t ----- reward: -45.311531601708644 for f_star and f_minus: 25.672330179448494 , 45.311531601708644\n",
      "\t ---------- State is:  (6, 9)\n",
      "[INFO] [2023-03-01 03:46:59,286] [OpenBox-SPO] Iteration 348, objective value: [33.754366666315306].\n"
     ]
    },
    {
     "name": "stderr",
     "output_type": "stream",
     "text": [
      "\r",
      " 35%|██████████████████████████                                                 | 348/1000 [4:16:47<7:48:17, 43.09s/it]"
     ]
    },
    {
     "name": "stdout",
     "output_type": "stream",
     "text": [
      "\t ----- reward: -33.754366666315306 for f_star and f_minus: 25.672330179448494 , 33.754366666315306\n",
      "\t ---------- State is:  (5, 9)\n",
      "[INFO] [2023-03-01 03:47:42,777] [OpenBox-SPO] Iteration 349, objective value: [28.906254187709763].\n"
     ]
    },
    {
     "name": "stderr",
     "output_type": "stream",
     "text": [
      "\r",
      " 35%|██████████████████████████▏                                                | 349/1000 [4:17:31<7:48:51, 43.21s/it]"
     ]
    },
    {
     "name": "stdout",
     "output_type": "stream",
     "text": [
      "\t ----- reward: -28.906254187709763 for f_star and f_minus: 25.672330179448494 , 28.906254187709763\n",
      "\t ---------- State is:  (6, 9)\n",
      "[INFO] [2023-03-01 03:48:23,719] [OpenBox-SPO] Iteration 350, objective value: [37.3493784162266].\n"
     ]
    },
    {
     "name": "stderr",
     "output_type": "stream",
     "text": [
      "\r",
      " 35%|██████████████████████████▎                                                | 350/1000 [4:18:11<7:40:45, 42.53s/it]"
     ]
    },
    {
     "name": "stdout",
     "output_type": "stream",
     "text": [
      "\t ----- reward: -37.3493784162266 for f_star and f_minus: 25.672330179448494 , 37.3493784162266\n",
      "\t ---------- State is:  (7, 9)\n",
      "[INFO] [2023-03-01 03:48:23,719] [Advisor] Sample random config. rand_prob=0.100000.\n",
      "[INFO] [2023-03-01 03:48:54,164] [OpenBox-SPO] Iteration 351, objective value: [63.59743025077674].\n"
     ]
    },
    {
     "name": "stderr",
     "output_type": "stream",
     "text": [
      "\r",
      " 35%|██████████████████████████▎                                                | 351/1000 [4:18:42<7:00:49, 38.91s/it]"
     ]
    },
    {
     "name": "stdout",
     "output_type": "stream",
     "text": [
      "\t ----- reward: -63.59743025077674 for f_star and f_minus: 25.672330179448494 , 63.59743025077674\n",
      "\t ---------- State is:  (6, 9)\n",
      "[INFO] [2023-03-01 03:49:39,528] [OpenBox-SPO] Iteration 352, objective value: [35.06868158546743].\n"
     ]
    },
    {
     "name": "stderr",
     "output_type": "stream",
     "text": [
      "\r",
      " 35%|██████████████████████████▍                                                | 352/1000 [4:19:27<7:21:06, 40.84s/it]"
     ]
    },
    {
     "name": "stdout",
     "output_type": "stream",
     "text": [
      "\t ----- reward: -35.06868158546743 for f_star and f_minus: 25.672330179448494 , 35.06868158546743\n",
      "\t ---------- State is:  (5, 9)\n",
      "[INFO] [2023-03-01 03:50:19,955] [OpenBox-SPO] Iteration 353, objective value: [30.73738520441853].\n"
     ]
    },
    {
     "name": "stderr",
     "output_type": "stream",
     "text": [
      "\r",
      " 35%|██████████████████████████▍                                                | 353/1000 [4:20:08<7:19:04, 40.72s/it]"
     ]
    },
    {
     "name": "stdout",
     "output_type": "stream",
     "text": [
      "\t ----- reward: -30.73738520441853 for f_star and f_minus: 25.672330179448494 , 30.73738520441853\n",
      "\t ---------- State is:  (4, 9)\n",
      "[INFO] [2023-03-01 03:51:03,727] [OpenBox-SPO] Iteration 354, objective value: [38.925267674022244].\n"
     ]
    },
    {
     "name": "stderr",
     "output_type": "stream",
     "text": [
      "\r",
      " 35%|██████████████████████████▌                                                | 354/1000 [4:20:52<7:28:18, 41.64s/it]"
     ]
    },
    {
     "name": "stdout",
     "output_type": "stream",
     "text": [
      "\t ----- reward: -38.925267674022244 for f_star and f_minus: 25.672330179448494 , 38.925267674022244\n",
      "\t ---------- State is:  (4, 9)\n",
      "[INFO] [2023-03-01 03:51:47,276] [OpenBox-SPO] Iteration 355, objective value: [37.126767612810575].\n"
     ]
    },
    {
     "name": "stderr",
     "output_type": "stream",
     "text": [
      "\r",
      " 36%|██████████████████████████▋                                                | 355/1000 [4:21:35<7:33:43, 42.21s/it]"
     ]
    },
    {
     "name": "stdout",
     "output_type": "stream",
     "text": [
      "\t ----- reward: -37.126767612810575 for f_star and f_minus: 25.672330179448494 , 37.126767612810575\n",
      "\t ---------- State is:  (3, 10)\n",
      "[INFO] [2023-03-01 03:52:29,688] [OpenBox-SPO] Iteration 356, objective value: [31.484222833768655].\n"
     ]
    },
    {
     "name": "stderr",
     "output_type": "stream",
     "text": [
      "\r",
      " 36%|██████████████████████████▋                                                | 356/1000 [4:22:17<7:33:41, 42.27s/it]"
     ]
    },
    {
     "name": "stdout",
     "output_type": "stream",
     "text": [
      "\t ----- reward: -31.484222833768655 for f_star and f_minus: 25.672330179448494 , 31.484222833768655\n",
      "\t ---------- State is:  (3, 10)\n",
      "[INFO] [2023-03-01 03:53:13,350] [OpenBox-SPO] Iteration 357, objective value: [36.06370471869374].\n"
     ]
    },
    {
     "name": "stderr",
     "output_type": "stream",
     "text": [
      "\r",
      " 36%|██████████████████████████▊                                                | 357/1000 [4:23:01<7:37:27, 42.69s/it]"
     ]
    },
    {
     "name": "stdout",
     "output_type": "stream",
     "text": [
      "\t ----- reward: -36.06370471869374 for f_star and f_minus: 25.672330179448494 , 36.06370471869374\n",
      "\t ---------- State is:  (2, 9)\n",
      "[INFO] [2023-03-01 03:54:01,422] [OpenBox-SPO] Iteration 358, objective value: [32.14962817971602].\n"
     ]
    },
    {
     "name": "stderr",
     "output_type": "stream",
     "text": [
      "\r",
      " 36%|██████████████████████████▊                                                | 358/1000 [4:23:49<7:54:02, 44.30s/it]"
     ]
    },
    {
     "name": "stdout",
     "output_type": "stream",
     "text": [
      "\t ----- reward: -32.14962817971602 for f_star and f_minus: 25.672330179448494 , 32.14962817971602\n",
      "\t ---------- State is:  (2, 9)\n",
      "[INFO] [2023-03-01 03:54:44,475] [OpenBox-SPO] Iteration 359, objective value: [32.98962800636616].\n"
     ]
    },
    {
     "name": "stderr",
     "output_type": "stream",
     "text": [
      "\r",
      " 36%|██████████████████████████▉                                                | 359/1000 [4:24:32<7:49:17, 43.93s/it]"
     ]
    },
    {
     "name": "stdout",
     "output_type": "stream",
     "text": [
      "\t ----- reward: -32.98962800636616 for f_star and f_minus: 25.672330179448494 , 32.98962800636616\n",
      "\t ---------- State is:  (1, 9)\n",
      "[INFO] [2023-03-01 03:55:27,007] [OpenBox-SPO] Iteration 360, objective value: [31.567632036815624].\n"
     ]
    },
    {
     "name": "stderr",
     "output_type": "stream",
     "text": [
      "\r",
      " 36%|███████████████████████████                                                | 360/1000 [4:25:15<7:44:05, 43.51s/it]"
     ]
    },
    {
     "name": "stdout",
     "output_type": "stream",
     "text": [
      "\t ----- reward: -31.567632036815624 for f_star and f_minus: 25.672330179448494 , 31.567632036815624\n",
      "\t ---------- State is:  (0, 8)\n",
      "[INFO] [2023-03-01 03:56:09,982] [OpenBox-SPO] Iteration 361, objective value: [36.5883472172861].\n"
     ]
    },
    {
     "name": "stderr",
     "output_type": "stream",
     "text": [
      "\r",
      " 36%|███████████████████████████                                                | 361/1000 [4:25:58<7:41:39, 43.35s/it]"
     ]
    },
    {
     "name": "stdout",
     "output_type": "stream",
     "text": [
      "\t ----- reward: -36.5883472172861 for f_star and f_minus: 25.672330179448494 , 36.5883472172861\n",
      "\t ---------- State is:  (0, 9)\n",
      "[INFO] [2023-03-01 03:56:54,522] [OpenBox-SPO] Iteration 362, objective value: [27.632110899478263].\n"
     ]
    },
    {
     "name": "stderr",
     "output_type": "stream",
     "text": [
      "\r",
      " 36%|███████████████████████████▏                                               | 362/1000 [4:26:42<7:44:44, 43.71s/it]"
     ]
    },
    {
     "name": "stdout",
     "output_type": "stream",
     "text": [
      "\t ----- reward: -27.632110899478263 for f_star and f_minus: 25.672330179448494 , 27.632110899478263\n",
      "\t ---------- State is:  (1, 9)\n",
      "[INFO] [2023-03-01 03:57:31,805] [OpenBox-SPO] Iteration 363, objective value: [39.57758095507905].\n"
     ]
    },
    {
     "name": "stderr",
     "output_type": "stream",
     "text": [
      "\r",
      " 36%|███████████████████████████▏                                               | 363/1000 [4:27:20<7:23:33, 41.78s/it]"
     ]
    },
    {
     "name": "stdout",
     "output_type": "stream",
     "text": [
      "\t ----- reward: -39.57758095507905 for f_star and f_minus: 25.672330179448494 , 39.57758095507905\n",
      "\t ---------- State is:  (2, 9)\n",
      "[INFO] [2023-03-01 03:58:16,861] [OpenBox-SPO] Iteration 364, objective value: [40.17752422733947].\n"
     ]
    },
    {
     "name": "stderr",
     "output_type": "stream",
     "text": [
      "\r",
      " 36%|███████████████████████████▎                                               | 364/1000 [4:28:05<7:33:19, 42.77s/it]"
     ]
    },
    {
     "name": "stdout",
     "output_type": "stream",
     "text": [
      "\t ----- reward: -40.17752422733947 for f_star and f_minus: 25.672330179448494 , 40.17752422733947\n",
      "\t ---------- State is:  (3, 10)\n",
      "[INFO] [2023-03-01 03:58:59,995] [OpenBox-SPO] Iteration 365, objective value: [31.917572562932804].\n"
     ]
    },
    {
     "name": "stderr",
     "output_type": "stream",
     "text": [
      "\r",
      " 36%|███████████████████████████▍                                               | 365/1000 [4:28:48<7:33:43, 42.87s/it]"
     ]
    },
    {
     "name": "stdout",
     "output_type": "stream",
     "text": [
      "\t ----- reward: -31.917572562932804 for f_star and f_minus: 25.672330179448494 , 31.917572562932804\n",
      "\t ---------- State is:  (3, 9)\n",
      "[INFO] [2023-03-01 03:59:42,776] [OpenBox-SPO] Iteration 366, objective value: [30.539692037552214].\n"
     ]
    },
    {
     "name": "stderr",
     "output_type": "stream",
     "text": [
      "\r",
      " 37%|███████████████████████████▍                                               | 366/1000 [4:29:31<7:32:46, 42.85s/it]"
     ]
    },
    {
     "name": "stdout",
     "output_type": "stream",
     "text": [
      "\t ----- reward: -30.539692037552214 for f_star and f_minus: 25.672330179448494 , 30.539692037552214\n",
      "\t ---------- State is:  (2, 8)\n",
      "[INFO] [2023-03-01 04:00:25,957] [OpenBox-SPO] Iteration 367, objective value: [31.90196372072174].\n"
     ]
    },
    {
     "name": "stderr",
     "output_type": "stream",
     "text": [
      "\r",
      " 37%|███████████████████████████▌                                               | 367/1000 [4:30:14<7:33:03, 42.94s/it]"
     ]
    },
    {
     "name": "stdout",
     "output_type": "stream",
     "text": [
      "\t ----- reward: -31.90196372072174 for f_star and f_minus: 25.672330179448494 , 31.90196372072174\n",
      "\t ---------- State is:  (1, 7)\n",
      "[INFO] [2023-03-01 04:01:16,247] [OpenBox-SPO] Iteration 368, objective value: [28.574837149238718].\n"
     ]
    },
    {
     "name": "stderr",
     "output_type": "stream",
     "text": [
      "\r",
      " 37%|███████████████████████████▌                                               | 368/1000 [4:31:04<7:55:33, 45.15s/it]"
     ]
    },
    {
     "name": "stdout",
     "output_type": "stream",
     "text": [
      "\t ----- reward: -28.574837149238718 for f_star and f_minus: 25.672330179448494 , 28.574837149238718\n",
      "\t ---------- State is:  (2, 6)\n",
      "[INFO] [2023-03-01 04:01:16,247] [Advisor] Sample random config. rand_prob=0.100000.\n",
      "[INFO] [2023-03-01 04:01:45,160] [OpenBox-SPO] Iteration 369, objective value: [60.570511532227464].\n"
     ]
    },
    {
     "name": "stderr",
     "output_type": "stream",
     "text": [
      "\r",
      " 37%|███████████████████████████▋                                               | 369/1000 [4:31:33<7:03:35, 40.28s/it]"
     ]
    },
    {
     "name": "stdout",
     "output_type": "stream",
     "text": [
      "\t ----- reward: -60.570511532227464 for f_star and f_minus: 25.672330179448494 , 60.570511532227464\n",
      "\t ---------- State is:  (1, 8)\n",
      "[INFO] [2023-03-01 04:02:31,417] [OpenBox-SPO] Iteration 370, objective value: [42.51202833572307].\n"
     ]
    },
    {
     "name": "stderr",
     "output_type": "stream",
     "text": [
      "\r",
      " 37%|███████████████████████████▊                                               | 370/1000 [4:32:19<7:21:44, 42.07s/it]"
     ]
    },
    {
     "name": "stdout",
     "output_type": "stream",
     "text": [
      "\t ----- reward: -42.51202833572307 for f_star and f_minus: 25.672330179448494 , 42.51202833572307\n",
      "\t ---------- State is:  (2, 8)\n",
      "[INFO] [2023-03-01 04:02:31,417] [Advisor] Sample random config. rand_prob=0.100000.\n",
      "[INFO] [2023-03-01 04:03:03,920] [OpenBox-SPO] Iteration 371, objective value: [50.321522323043055].\n"
     ]
    },
    {
     "name": "stderr",
     "output_type": "stream",
     "text": [
      "\r",
      " 37%|███████████████████████████▊                                               | 371/1000 [4:32:52<6:50:57, 39.20s/it]"
     ]
    },
    {
     "name": "stdout",
     "output_type": "stream",
     "text": [
      "\t ----- reward: -50.321522323043055 for f_star and f_minus: 25.672330179448494 , 50.321522323043055\n",
      "\t ---------- State is:  (2, 8)\n",
      "[INFO] [2023-03-01 04:03:03,920] [Advisor] Sample random config. rand_prob=0.100000.\n",
      "[INFO] [2023-03-01 04:03:29,207] [OpenBox-SPO] Iteration 372, objective value: [61.6834851431523].\n"
     ]
    },
    {
     "name": "stderr",
     "output_type": "stream",
     "text": [
      "\r",
      " 37%|███████████████████████████▉                                               | 372/1000 [4:33:17<6:06:36, 35.03s/it]"
     ]
    },
    {
     "name": "stdout",
     "output_type": "stream",
     "text": [
      "\t ----- reward: -61.6834851431523 for f_star and f_minus: 25.672330179448494 , 61.6834851431523\n",
      "\t ---------- State is:  (3, 8)\n",
      "[INFO] [2023-03-01 04:04:09,370] [OpenBox-SPO] Iteration 373, objective value: [41.82693539063512].\n"
     ]
    },
    {
     "name": "stderr",
     "output_type": "stream",
     "text": [
      "\r",
      " 37%|███████████████████████████▉                                               | 373/1000 [4:33:57<6:22:07, 36.57s/it]"
     ]
    },
    {
     "name": "stdout",
     "output_type": "stream",
     "text": [
      "\t ----- reward: -41.82693539063512 for f_star and f_minus: 25.672330179448494 , 41.82693539063512\n",
      "\t ---------- State is:  (4, 10)\n",
      "[INFO] [2023-03-01 04:04:09,370] [Advisor] Sample random config. rand_prob=0.100000.\n",
      "[INFO] [2023-03-01 04:04:39,767] [OpenBox-SPO] Iteration 374, objective value: [56.414163407891394].\n"
     ]
    },
    {
     "name": "stderr",
     "output_type": "stream",
     "text": [
      "\r",
      " 37%|████████████████████████████                                               | 374/1000 [4:34:28<6:02:12, 34.72s/it]"
     ]
    },
    {
     "name": "stdout",
     "output_type": "stream",
     "text": [
      "\t ----- reward: -56.414163407891394 for f_star and f_minus: 25.672330179448494 , 56.414163407891394\n",
      "\t ---------- State is:  (3, 10)\n",
      "[INFO] [2023-03-01 04:05:23,240] [OpenBox-SPO] Iteration 375, objective value: [33.613623158829114].\n"
     ]
    },
    {
     "name": "stderr",
     "output_type": "stream",
     "text": [
      "\r",
      " 38%|████████████████████████████▏                                              | 375/1000 [4:35:11<6:28:59, 37.34s/it]"
     ]
    },
    {
     "name": "stdout",
     "output_type": "stream",
     "text": [
      "\t ----- reward: -33.613623158829114 for f_star and f_minus: 25.672330179448494 , 33.613623158829114\n",
      "\t ---------- State is:  (2, 9)\n",
      "[INFO] [2023-03-01 04:05:57,389] [OpenBox-SPO] Iteration 376, objective value: [58.51455761330452].\n"
     ]
    },
    {
     "name": "stderr",
     "output_type": "stream",
     "text": [
      "\r",
      " 38%|████████████████████████████▏                                              | 376/1000 [4:35:45<6:18:24, 36.39s/it]"
     ]
    },
    {
     "name": "stdout",
     "output_type": "stream",
     "text": [
      "\t ----- reward: -58.51455761330452 for f_star and f_minus: 25.672330179448494 , 58.51455761330452\n",
      "\t ---------- State is:  (2, 10)\n",
      "[INFO] [2023-03-01 04:06:43,426] [OpenBox-SPO] Iteration 377, objective value: [35.46035245122191].\n"
     ]
    },
    {
     "name": "stderr",
     "output_type": "stream",
     "text": [
      "\r",
      " 38%|████████████████████████████▎                                              | 377/1000 [4:36:31<6:47:51, 39.28s/it]"
     ]
    },
    {
     "name": "stdout",
     "output_type": "stream",
     "text": [
      "\t ----- reward: -35.46035245122191 for f_star and f_minus: 25.672330179448494 , 35.46035245122191\n",
      "\t ---------- State is:  (3, 10)\n",
      "[INFO] [2023-03-01 04:07:27,751] [OpenBox-SPO] Iteration 378, objective value: [27.723599758617993].\n"
     ]
    },
    {
     "name": "stderr",
     "output_type": "stream",
     "text": [
      "\r",
      " 38%|████████████████████████████▎                                              | 378/1000 [4:37:16<7:02:53, 40.79s/it]"
     ]
    },
    {
     "name": "stdout",
     "output_type": "stream",
     "text": [
      "\t ----- reward: -27.723599758617993 for f_star and f_minus: 25.672330179448494 , 27.723599758617993\n",
      "\t ---------- State is:  (4, 10)\n",
      "[INFO] [2023-03-01 04:08:07,787] [OpenBox-SPO] Iteration 379, objective value: [46.334496626259195].\n"
     ]
    },
    {
     "name": "stderr",
     "output_type": "stream",
     "text": [
      "\r",
      " 38%|████████████████████████████▍                                              | 379/1000 [4:37:56<6:59:51, 40.57s/it]"
     ]
    },
    {
     "name": "stdout",
     "output_type": "stream",
     "text": [
      "\t ----- reward: -46.334496626259195 for f_star and f_minus: 25.672330179448494 , 46.334496626259195\n",
      "\t ---------- State is:  (4, 12)\n",
      "[INFO] [2023-03-01 04:08:46,875] [OpenBox-SPO] Iteration 380, objective value: [27.745104671307658].\n"
     ]
    },
    {
     "name": "stderr",
     "output_type": "stream",
     "text": [
      "\r",
      " 38%|████████████████████████████▌                                              | 380/1000 [4:38:35<6:54:36, 40.12s/it]"
     ]
    },
    {
     "name": "stdout",
     "output_type": "stream",
     "text": [
      "\t ----- reward: -27.745104671307658 for f_star and f_minus: 25.672330179448494 , 27.745104671307658\n",
      "\t ---------- State is:  (5, 12)\n",
      "[INFO] [2023-03-01 04:09:29,082] [OpenBox-SPO] Iteration 381, objective value: [28.48033395311775].\n"
     ]
    },
    {
     "name": "stderr",
     "output_type": "stream",
     "text": [
      "\r",
      " 38%|████████████████████████████▌                                              | 381/1000 [4:39:17<7:00:23, 40.75s/it]"
     ]
    },
    {
     "name": "stdout",
     "output_type": "stream",
     "text": [
      "\t ----- reward: -28.48033395311775 for f_star and f_minus: 25.672330179448494 , 28.48033395311775\n",
      "\t ---------- State is:  (6, 11)\n",
      "[INFO] [2023-03-01 04:10:17,151] [OpenBox-SPO] Iteration 382, objective value: [27.365208162685235].\n"
     ]
    },
    {
     "name": "stderr",
     "output_type": "stream",
     "text": [
      "\r",
      " 38%|████████████████████████████▋                                              | 382/1000 [4:40:05<7:22:19, 42.94s/it]"
     ]
    },
    {
     "name": "stdout",
     "output_type": "stream",
     "text": [
      "\t ----- reward: -27.365208162685235 for f_star and f_minus: 25.672330179448494 , 27.365208162685235\n",
      "\t ---------- State is:  (5, 11)\n",
      "[INFO] [2023-03-01 04:11:00,676] [OpenBox-SPO] Iteration 383, objective value: [35.237740405932314].\n"
     ]
    },
    {
     "name": "stderr",
     "output_type": "stream",
     "text": [
      "\r",
      " 38%|████████████████████████████▋                                              | 383/1000 [4:40:48<7:23:24, 43.12s/it]"
     ]
    },
    {
     "name": "stdout",
     "output_type": "stream",
     "text": [
      "\t ----- reward: -35.237740405932314 for f_star and f_minus: 25.672330179448494 , 35.237740405932314\n",
      "\t ---------- State is:  (5, 9)\n",
      "[INFO] [2023-03-01 04:11:00,676] [Advisor] Sample random config. rand_prob=0.100000.\n",
      "[INFO] [2023-03-01 04:11:34,257] [OpenBox-SPO] Iteration 384, objective value: [56.29230096691945].\n"
     ]
    },
    {
     "name": "stderr",
     "output_type": "stream",
     "text": [
      "\r",
      " 38%|████████████████████████████▊                                              | 384/1000 [4:41:22<6:53:21, 40.26s/it]"
     ]
    },
    {
     "name": "stdout",
     "output_type": "stream",
     "text": [
      "\t ----- reward: -56.29230096691945 for f_star and f_minus: 25.672330179448494 , 56.29230096691945\n",
      "\t ---------- State is:  (6, 9)\n",
      "[INFO] [2023-03-01 04:12:22,217] [OpenBox-SPO] Iteration 385, objective value: [29.984338404011652].\n"
     ]
    },
    {
     "name": "stderr",
     "output_type": "stream",
     "text": [
      "\r",
      " 38%|████████████████████████████▉                                              | 385/1000 [4:42:10<7:16:18, 42.57s/it]"
     ]
    },
    {
     "name": "stdout",
     "output_type": "stream",
     "text": [
      "\t ----- reward: -29.984338404011652 for f_star and f_minus: 25.672330179448494 , 29.984338404011652\n",
      "\t ---------- State is:  (7, 9)\n",
      "[INFO] [2023-03-01 04:13:10,146] [OpenBox-SPO] Iteration 386, objective value: [28.377487005730615].\n"
     ]
    },
    {
     "name": "stderr",
     "output_type": "stream",
     "text": [
      "\r",
      " 39%|████████████████████████████▉                                              | 386/1000 [4:42:58<7:32:03, 44.18s/it]"
     ]
    },
    {
     "name": "stdout",
     "output_type": "stream",
     "text": [
      "\t ----- reward: -28.377487005730615 for f_star and f_minus: 25.672330179448494 , 28.377487005730615\n",
      "\t ---------- State is:  (7, 9)\n",
      "[INFO] [2023-03-01 04:13:55,702] [OpenBox-SPO] Iteration 387, objective value: [29.590346316307887].\n"
     ]
    },
    {
     "name": "stderr",
     "output_type": "stream",
     "text": [
      "\r",
      " 39%|█████████████████████████████                                              | 387/1000 [4:43:43<7:35:33, 44.59s/it]"
     ]
    },
    {
     "name": "stdout",
     "output_type": "stream",
     "text": [
      "\t ----- reward: -29.590346316307887 for f_star and f_minus: 25.672330179448494 , 29.590346316307887\n",
      "\t ---------- State is:  (7, 9)\n",
      "[INFO] [2023-03-01 04:14:37,380] [OpenBox-SPO] Iteration 388, objective value: [31.816432541562307].\n"
     ]
    },
    {
     "name": "stderr",
     "output_type": "stream",
     "text": [
      "\r",
      " 39%|█████████████████████████████                                              | 388/1000 [4:44:25<7:25:54, 43.72s/it]"
     ]
    },
    {
     "name": "stdout",
     "output_type": "stream",
     "text": [
      "\t ----- reward: -31.816432541562307 for f_star and f_minus: 25.672330179448494 , 31.816432541562307\n",
      "\t ---------- State is:  (7, 9)\n",
      "[INFO] [2023-03-01 04:15:25,042] [OpenBox-SPO] Iteration 389, objective value: [40.71899262490597].\n"
     ]
    },
    {
     "name": "stderr",
     "output_type": "stream",
     "text": [
      "\r",
      " 39%|█████████████████████████████▏                                             | 389/1000 [4:45:13<7:37:13, 44.90s/it]"
     ]
    },
    {
     "name": "stdout",
     "output_type": "stream",
     "text": [
      "\t ----- reward: -40.71899262490597 for f_star and f_minus: 25.672330179448494 , 40.71899262490597\n",
      "\t ---------- State is:  (8, 9)\n",
      "[INFO] [2023-03-01 04:16:03,626] [OpenBox-SPO] Iteration 390, objective value: [48.61664681516874].\n"
     ]
    },
    {
     "name": "stderr",
     "output_type": "stream",
     "text": [
      "\r",
      " 39%|█████████████████████████████▎                                             | 390/1000 [4:45:51<7:17:13, 43.01s/it]"
     ]
    },
    {
     "name": "stdout",
     "output_type": "stream",
     "text": [
      "\t ----- reward: -48.61664681516874 for f_star and f_minus: 25.672330179448494 , 48.61664681516874\n",
      "\t ---------- State is:  (7, 9)\n",
      "[INFO] [2023-03-01 04:16:52,262] [OpenBox-SPO] Iteration 391, objective value: [37.71557344835516].\n"
     ]
    },
    {
     "name": "stderr",
     "output_type": "stream",
     "text": [
      "\r",
      " 39%|█████████████████████████████▎                                             | 391/1000 [4:46:40<7:33:38, 44.69s/it]"
     ]
    },
    {
     "name": "stdout",
     "output_type": "stream",
     "text": [
      "\t ----- reward: -37.71557344835516 for f_star and f_minus: 25.672330179448494 , 37.71557344835516\n",
      "\t ---------- State is:  (6, 9)\n",
      "[INFO] [2023-03-01 04:16:52,262] [Advisor] Sample random config. rand_prob=0.100000.\n",
      "[INFO] [2023-03-01 04:17:20,013] [OpenBox-SPO] Iteration 392, objective value: [56.43942238055688].\n"
     ]
    },
    {
     "name": "stderr",
     "output_type": "stream",
     "text": [
      "\r",
      " 39%|█████████████████████████████▍                                             | 392/1000 [4:47:08<6:41:23, 39.61s/it]"
     ]
    },
    {
     "name": "stdout",
     "output_type": "stream",
     "text": [
      "\t ----- reward: -56.43942238055688 for f_star and f_minus: 25.672330179448494 , 56.43942238055688\n",
      "\t ---------- State is:  (6, 9)\n",
      "[INFO] [2023-03-01 04:18:02,367] [OpenBox-SPO] Iteration 393, objective value: [39.63286195883986].\n"
     ]
    },
    {
     "name": "stderr",
     "output_type": "stream",
     "text": [
      "\r",
      " 39%|█████████████████████████████▍                                             | 393/1000 [4:47:50<6:49:03, 40.43s/it]"
     ]
    },
    {
     "name": "stdout",
     "output_type": "stream",
     "text": [
      "\t ----- reward: -39.63286195883986 for f_star and f_minus: 25.672330179448494 , 39.63286195883986\n",
      "\t ---------- State is:  (7, 9)\n",
      "[INFO] [2023-03-01 04:18:45,043] [OpenBox-SPO] Iteration 394, objective value: [29.556059562027244].\n"
     ]
    },
    {
     "name": "stderr",
     "output_type": "stream",
     "text": [
      "\r",
      " 39%|█████████████████████████████▌                                             | 394/1000 [4:48:33<6:55:10, 41.11s/it]"
     ]
    },
    {
     "name": "stdout",
     "output_type": "stream",
     "text": [
      "\t ----- reward: -29.556059562027244 for f_star and f_minus: 25.672330179448494 , 29.556059562027244\n",
      "\t ---------- State is:  (7, 8)\n",
      "[INFO] [2023-03-01 04:19:29,541] [OpenBox-SPO] Iteration 395, objective value: [27.566304981882553].\n"
     ]
    },
    {
     "name": "stderr",
     "output_type": "stream",
     "text": [
      "\r",
      " 40%|█████████████████████████████▋                                             | 395/1000 [4:49:17<7:04:45, 42.12s/it]"
     ]
    },
    {
     "name": "stdout",
     "output_type": "stream",
     "text": [
      "\t ----- reward: -27.566304981882553 for f_star and f_minus: 25.672330179448494 , 27.566304981882553\n",
      "\t ---------- State is:  (6, 7)\n",
      "[INFO] [2023-03-01 04:20:12,827] [OpenBox-SPO] Iteration 396, objective value: [33.87956136706585].\n"
     ]
    },
    {
     "name": "stderr",
     "output_type": "stream",
     "text": [
      "\r",
      " 40%|█████████████████████████████▋                                             | 396/1000 [4:50:01<7:07:33, 42.47s/it]"
     ]
    },
    {
     "name": "stdout",
     "output_type": "stream",
     "text": [
      "\t ----- reward: -33.87956136706585 for f_star and f_minus: 25.672330179448494 , 33.87956136706585\n",
      "\t ---------- State is:  (6, 7)\n",
      "[INFO] [2023-03-01 04:20:12,827] [Advisor] Sample random config. rand_prob=0.100000.\n",
      "[INFO] [2023-03-01 04:20:47,444] [OpenBox-SPO] Iteration 397, objective value: [52.02885008875712].\n"
     ]
    },
    {
     "name": "stderr",
     "output_type": "stream",
     "text": [
      "\r",
      " 40%|█████████████████████████████▊                                             | 397/1000 [4:50:35<6:43:09, 40.12s/it]"
     ]
    },
    {
     "name": "stdout",
     "output_type": "stream",
     "text": [
      "\t ----- reward: -52.02885008875712 for f_star and f_minus: 25.672330179448494 , 52.02885008875712\n",
      "\t ---------- State is:  (5, 7)\n",
      "[INFO] [2023-03-01 04:21:34,998] [OpenBox-SPO] Iteration 398, objective value: [31.625620731173086].\n"
     ]
    },
    {
     "name": "stderr",
     "output_type": "stream",
     "text": [
      "\r",
      " 40%|█████████████████████████████▊                                             | 398/1000 [4:51:23<7:04:53, 42.35s/it]"
     ]
    },
    {
     "name": "stdout",
     "output_type": "stream",
     "text": [
      "\t ----- reward: -31.625620731173086 for f_star and f_minus: 25.672330179448494 , 31.625620731173086\n",
      "\t ---------- State is:  (4, 7)\n",
      "[INFO] [2023-03-01 04:22:23,177] [OpenBox-SPO] Iteration 399, objective value: [32.46900250560611].\n"
     ]
    },
    {
     "name": "stderr",
     "output_type": "stream",
     "text": [
      "\r",
      " 40%|█████████████████████████████▉                                             | 399/1000 [4:52:11<7:21:42, 44.10s/it]"
     ]
    },
    {
     "name": "stdout",
     "output_type": "stream",
     "text": [
      "\t ----- reward: -32.46900250560611 for f_star and f_minus: 25.672330179448494 , 32.46900250560611\n",
      "\t ---------- State is:  (5, 6)\n",
      "[INFO] [2023-03-01 04:23:06,731] [OpenBox-SPO] Iteration 400, objective value: [44.9980550095771].\n"
     ]
    },
    {
     "name": "stderr",
     "output_type": "stream",
     "text": [
      "\r",
      " 40%|██████████████████████████████                                             | 400/1000 [4:52:55<7:19:20, 43.93s/it]"
     ]
    },
    {
     "name": "stdout",
     "output_type": "stream",
     "text": [
      "\t ----- reward: -44.9980550095771 for f_star and f_minus: 25.672330179448494 , 44.9980550095771\n",
      "\t ---------- State is:  (5, 7)\n",
      "[INFO] [2023-03-01 04:23:52,773] [OpenBox-SPO] Iteration 401, objective value: [37.086704404431615].\n"
     ]
    },
    {
     "name": "stderr",
     "output_type": "stream",
     "text": [
      "\r",
      " 40%|██████████████████████████████                                             | 401/1000 [4:53:41<7:24:55, 44.57s/it]"
     ]
    },
    {
     "name": "stdout",
     "output_type": "stream",
     "text": [
      "\t ----- reward: -37.086704404431615 for f_star and f_minus: 25.672330179448494 , 37.086704404431615\n",
      "\t ---------- State is:  (6, 8)\n",
      "[INFO] [2023-03-01 04:24:37,783] [OpenBox-SPO] Iteration 402, objective value: [32.578516495159136].\n"
     ]
    },
    {
     "name": "stderr",
     "output_type": "stream",
     "text": [
      "\r",
      " 40%|██████████████████████████████▏                                            | 402/1000 [4:54:26<7:25:30, 44.70s/it]"
     ]
    },
    {
     "name": "stdout",
     "output_type": "stream",
     "text": [
      "\t ----- reward: -32.578516495159136 for f_star and f_minus: 25.672330179448494 , 32.578516495159136\n",
      "\t ---------- State is:  (5, 8)\n",
      "[INFO] [2023-03-01 04:25:23,417] [OpenBox-SPO] Iteration 403, objective value: [45.20534770973603].\n"
     ]
    },
    {
     "name": "stderr",
     "output_type": "stream",
     "text": [
      "\r",
      " 40%|██████████████████████████████▏                                            | 403/1000 [4:55:11<7:27:32, 44.98s/it]"
     ]
    },
    {
     "name": "stdout",
     "output_type": "stream",
     "text": [
      "\t ----- reward: -45.20534770973603 for f_star and f_minus: 25.672330179448494 , 45.20534770973603\n",
      "\t ---------- State is:  (4, 9)\n",
      "[INFO] [2023-03-01 04:26:09,643] [OpenBox-SPO] Iteration 404, objective value: [32.16880621098045].\n"
     ]
    },
    {
     "name": "stderr",
     "output_type": "stream",
     "text": [
      "\r",
      " 40%|██████████████████████████████▎                                            | 404/1000 [4:55:57<7:30:30, 45.35s/it]"
     ]
    },
    {
     "name": "stdout",
     "output_type": "stream",
     "text": [
      "\t ----- reward: -32.16880621098045 for f_star and f_minus: 25.672330179448494 , 32.16880621098045\n",
      "\t ---------- State is:  (5, 7)\n",
      "[INFO] [2023-03-01 04:27:00,953] [OpenBox-SPO] Iteration 405, objective value: [34.65456399288223].\n"
     ]
    },
    {
     "name": "stderr",
     "output_type": "stream",
     "text": [
      "\r",
      " 40%|██████████████████████████████▍                                            | 405/1000 [4:56:49<7:47:28, 47.14s/it]"
     ]
    },
    {
     "name": "stdout",
     "output_type": "stream",
     "text": [
      "\t ----- reward: -34.65456399288223 for f_star and f_minus: 25.672330179448494 , 34.65456399288223\n",
      "\t ---------- State is:  (4, 8)\n",
      "[INFO] [2023-03-01 04:27:46,818] [OpenBox-SPO] Iteration 406, objective value: [38.912814278514].\n"
     ]
    },
    {
     "name": "stderr",
     "output_type": "stream",
     "text": [
      "\r",
      " 41%|██████████████████████████████▍                                            | 406/1000 [4:57:35<7:42:54, 46.76s/it]"
     ]
    },
    {
     "name": "stdout",
     "output_type": "stream",
     "text": [
      "\t ----- reward: -38.912814278514 for f_star and f_minus: 25.672330179448494 , 38.912814278514\n",
      "\t ---------- State is:  (3, 10)\n",
      "[INFO] [2023-03-01 04:28:32,498] [OpenBox-SPO] Iteration 407, objective value: [30.87173120865424].\n"
     ]
    },
    {
     "name": "stderr",
     "output_type": "stream",
     "text": [
      "\r",
      " 41%|██████████████████████████████▌                                            | 407/1000 [4:58:20<7:38:55, 46.43s/it]"
     ]
    },
    {
     "name": "stdout",
     "output_type": "stream",
     "text": [
      "\t ----- reward: -30.87173120865424 for f_star and f_minus: 25.672330179448494 , 30.87173120865424\n",
      "\t ---------- State is:  (3, 10)\n",
      "[INFO] [2023-03-01 04:29:14,112] [OpenBox-SPO] Iteration 408, objective value: [33.778519552973535].\n"
     ]
    },
    {
     "name": "stderr",
     "output_type": "stream",
     "text": [
      "\r",
      " 41%|██████████████████████████████▌                                            | 408/1000 [4:59:02<7:23:53, 44.99s/it]"
     ]
    },
    {
     "name": "stdout",
     "output_type": "stream",
     "text": [
      "\t ----- reward: -33.778519552973535 for f_star and f_minus: 25.672330179448494 , 33.778519552973535\n",
      "\t ---------- State is:  (2, 10)\n",
      "[INFO] [2023-03-01 04:29:58,709] [OpenBox-SPO] Iteration 409, objective value: [28.096495632993566].\n"
     ]
    },
    {
     "name": "stderr",
     "output_type": "stream",
     "text": [
      "\r",
      " 41%|██████████████████████████████▋                                            | 409/1000 [4:59:47<7:22:01, 44.88s/it]"
     ]
    },
    {
     "name": "stdout",
     "output_type": "stream",
     "text": [
      "\t ----- reward: -28.096495632993566 for f_star and f_minus: 25.672330179448494 , 28.096495632993566\n",
      "\t ---------- State is:  (2, 8)\n",
      "[INFO] [2023-03-01 04:30:41,700] [OpenBox-SPO] Iteration 410, objective value: [35.58569901354885].\n"
     ]
    },
    {
     "name": "stderr",
     "output_type": "stream",
     "text": [
      "\r",
      " 41%|██████████████████████████████▋                                            | 410/1000 [5:00:29<7:15:40, 44.31s/it]"
     ]
    },
    {
     "name": "stdout",
     "output_type": "stream",
     "text": [
      "\t ----- reward: -35.58569901354885 for f_star and f_minus: 25.672330179448494 , 35.58569901354885\n",
      "\t ---------- State is:  (1, 8)\n",
      "[INFO] [2023-03-01 04:31:27,289] [OpenBox-SPO] Iteration 411, objective value: [41.2966292834049].\n"
     ]
    },
    {
     "name": "stderr",
     "output_type": "stream",
     "text": [
      "\r",
      " 41%|██████████████████████████████▊                                            | 411/1000 [5:01:15<7:18:42, 44.69s/it]"
     ]
    },
    {
     "name": "stdout",
     "output_type": "stream",
     "text": [
      "\t ----- reward: -41.2966292834049 for f_star and f_minus: 25.672330179448494 , 41.2966292834049\n",
      "\t ---------- State is:  (0, 8)\n",
      "[INFO] [2023-03-01 04:31:27,289] [Advisor] Sample random config. rand_prob=0.100000.\n",
      "[INFO] [2023-03-01 04:32:02,809] [OpenBox-SPO] Iteration 412, objective value: [56.671275532715256].\n"
     ]
    },
    {
     "name": "stderr",
     "output_type": "stream",
     "text": [
      "\r",
      " 41%|██████████████████████████████▉                                            | 412/1000 [5:01:51<6:51:03, 41.94s/it]"
     ]
    },
    {
     "name": "stdout",
     "output_type": "stream",
     "text": [
      "\t ----- reward: -56.671275532715256 for f_star and f_minus: 25.672330179448494 , 56.671275532715256\n",
      "\t ---------- State is:  (0, 8)\n",
      "[INFO] [2023-03-01 04:32:45,130] [OpenBox-SPO] Iteration 413, objective value: [41.0461132498387].\n"
     ]
    },
    {
     "name": "stderr",
     "output_type": "stream",
     "text": [
      "\r",
      " 41%|██████████████████████████████▉                                            | 413/1000 [5:02:33<6:51:24, 42.05s/it]"
     ]
    },
    {
     "name": "stdout",
     "output_type": "stream",
     "text": [
      "\t ----- reward: -41.0461132498387 for f_star and f_minus: 25.672330179448494 , 41.0461132498387\n",
      "\t ---------- State is:  (1, 8)\n",
      "[INFO] [2023-03-01 04:33:29,995] [OpenBox-SPO] Iteration 414, objective value: [34.33961466921838].\n"
     ]
    },
    {
     "name": "stderr",
     "output_type": "stream",
     "text": [
      "\r",
      " 41%|███████████████████████████████                                            | 414/1000 [5:03:18<6:58:57, 42.90s/it]"
     ]
    },
    {
     "name": "stdout",
     "output_type": "stream",
     "text": [
      "\t ----- reward: -34.33961466921838 for f_star and f_minus: 25.672330179448494 , 34.33961466921838\n",
      "\t ---------- State is:  (1, 8)\n",
      "[INFO] [2023-03-01 04:34:16,644] [OpenBox-SPO] Iteration 415, objective value: [25.95352476460411].\n"
     ]
    },
    {
     "name": "stderr",
     "output_type": "stream",
     "text": [
      "\r",
      " 42%|███████████████████████████████▏                                           | 415/1000 [5:04:04<7:09:12, 44.02s/it]"
     ]
    },
    {
     "name": "stdout",
     "output_type": "stream",
     "text": [
      "\t ----- reward: -25.95352476460411 for f_star and f_minus: 25.672330179448494 , 25.95352476460411\n",
      "\t ---------- State is:  (0, 8)\n",
      "[INFO] [2023-03-01 04:35:00,716] [OpenBox-SPO] Iteration 416, objective value: [29.54647286878337].\n"
     ]
    },
    {
     "name": "stderr",
     "output_type": "stream",
     "text": [
      "\r",
      " 42%|███████████████████████████████▏                                           | 416/1000 [5:04:48<7:08:37, 44.04s/it]"
     ]
    },
    {
     "name": "stdout",
     "output_type": "stream",
     "text": [
      "\t ----- reward: -29.54647286878337 for f_star and f_minus: 25.672330179448494 , 29.54647286878337\n",
      "\t ---------- State is:  (0, 8)\n",
      "[INFO] [2023-03-01 04:35:45,659] [OpenBox-SPO] Iteration 417, objective value: [29.718005828082212].\n"
     ]
    },
    {
     "name": "stderr",
     "output_type": "stream",
     "text": [
      "\r",
      " 42%|███████████████████████████████▎                                           | 417/1000 [5:05:33<7:10:32, 44.31s/it]"
     ]
    },
    {
     "name": "stdout",
     "output_type": "stream",
     "text": [
      "\t ----- reward: -29.718005828082212 for f_star and f_minus: 25.672330179448494 , 29.718005828082212\n",
      "\t ---------- State is:  (1, 8)\n",
      "[INFO] [2023-03-01 04:36:35,932] [OpenBox-SPO] Iteration 418, objective value: [27.772949975457323].\n"
     ]
    },
    {
     "name": "stderr",
     "output_type": "stream",
     "text": [
      "\r",
      " 42%|███████████████████████████████▎                                           | 418/1000 [5:06:24<7:27:09, 46.10s/it]"
     ]
    },
    {
     "name": "stdout",
     "output_type": "stream",
     "text": [
      "\t ----- reward: -27.772949975457323 for f_star and f_minus: 25.672330179448494 , 27.772949975457323\n",
      "\t ---------- State is:  (0, 8)\n",
      "[INFO] [2023-03-01 04:37:22,861] [OpenBox-SPO] Iteration 419, objective value: [31.688125717178053].\n"
     ]
    },
    {
     "name": "stderr",
     "output_type": "stream",
     "text": [
      "\r",
      " 42%|███████████████████████████████▍                                           | 419/1000 [5:07:11<7:28:47, 46.35s/it]"
     ]
    },
    {
     "name": "stdout",
     "output_type": "stream",
     "text": [
      "\t ----- reward: -31.688125717178053 for f_star and f_minus: 25.672330179448494 , 31.688125717178053\n",
      "\t ---------- State is:  (0, 8)\n",
      "[INFO] [2023-03-01 04:38:04,774] [OpenBox-SPO] Iteration 420, objective value: [36.52147659114446].\n"
     ]
    },
    {
     "name": "stderr",
     "output_type": "stream",
     "text": [
      "\r",
      " 42%|███████████████████████████████▌                                           | 420/1000 [5:07:53<7:15:09, 45.02s/it]"
     ]
    },
    {
     "name": "stdout",
     "output_type": "stream",
     "text": [
      "\t ----- reward: -36.52147659114446 for f_star and f_minus: 25.672330179448494 , 36.52147659114446\n",
      "\t ---------- State is:  (0, 8)\n",
      "[INFO] [2023-03-01 04:38:47,922] [OpenBox-SPO] Iteration 421, objective value: [29.740922928415287].\n"
     ]
    },
    {
     "name": "stderr",
     "output_type": "stream",
     "text": [
      "\r",
      " 42%|███████████████████████████████▌                                           | 421/1000 [5:08:36<7:09:00, 44.46s/it]"
     ]
    },
    {
     "name": "stdout",
     "output_type": "stream",
     "text": [
      "\t ----- reward: -29.740922928415287 for f_star and f_minus: 25.672330179448494 , 29.740922928415287\n",
      "\t ---------- State is:  (0, 7)\n",
      "[INFO] [2023-03-01 04:39:30,746] [OpenBox-SPO] Iteration 422, objective value: [40.588813573525265].\n"
     ]
    },
    {
     "name": "stderr",
     "output_type": "stream",
     "text": [
      "\r",
      " 42%|███████████████████████████████▋                                           | 422/1000 [5:09:19<7:03:32, 43.97s/it]"
     ]
    },
    {
     "name": "stdout",
     "output_type": "stream",
     "text": [
      "\t ----- reward: -40.588813573525265 for f_star and f_minus: 25.672330179448494 , 40.588813573525265\n",
      "\t ---------- State is:  (1, 8)\n",
      "[INFO] [2023-03-01 04:40:13,417] [OpenBox-SPO] Iteration 423, objective value: [33.679920225902535].\n"
     ]
    },
    {
     "name": "stderr",
     "output_type": "stream",
     "text": [
      "\r",
      " 42%|███████████████████████████████▋                                           | 423/1000 [5:10:01<6:59:04, 43.58s/it]"
     ]
    },
    {
     "name": "stdout",
     "output_type": "stream",
     "text": [
      "\t ----- reward: -33.679920225902535 for f_star and f_minus: 25.672330179448494 , 33.679920225902535\n",
      "\t ---------- State is:  (0, 8)\n",
      "[INFO] [2023-03-01 04:41:04,643] [OpenBox-SPO] Iteration 424, objective value: [28.918424298824334].\n"
     ]
    },
    {
     "name": "stderr",
     "output_type": "stream",
     "text": [
      "\r",
      " 42%|███████████████████████████████▊                                           | 424/1000 [5:10:52<7:20:22, 45.87s/it]"
     ]
    },
    {
     "name": "stdout",
     "output_type": "stream",
     "text": [
      "\t ----- reward: -28.918424298824334 for f_star and f_minus: 25.672330179448494 , 28.918424298824334\n",
      "\t ---------- State is:  (1, 8)\n",
      "[INFO] [2023-03-01 04:41:42,308] [OpenBox-SPO] Iteration 425, objective value: [42.44557148978308].\n"
     ]
    },
    {
     "name": "stderr",
     "output_type": "stream",
     "text": [
      "\r",
      " 42%|███████████████████████████████▉                                           | 425/1000 [5:11:30<6:56:00, 43.41s/it]"
     ]
    },
    {
     "name": "stdout",
     "output_type": "stream",
     "text": [
      "\t ----- reward: -42.44557148978308 for f_star and f_minus: 25.672330179448494 , 42.44557148978308\n",
      "\t ---------- State is:  (2, 8)\n",
      "[INFO] [2023-03-01 04:42:26,050] [OpenBox-SPO] Iteration 426, objective value: [40.30473226104352].\n"
     ]
    },
    {
     "name": "stderr",
     "output_type": "stream",
     "text": [
      "\r",
      " 43%|███████████████████████████████▉                                           | 426/1000 [5:12:14<6:56:14, 43.51s/it]"
     ]
    },
    {
     "name": "stdout",
     "output_type": "stream",
     "text": [
      "\t ----- reward: -40.30473226104352 for f_star and f_minus: 25.672330179448494 , 40.30473226104352\n",
      "\t ---------- State is:  (2, 8)\n",
      "[INFO] [2023-03-01 04:43:13,275] [OpenBox-SPO] Iteration 427, objective value: [36.02588914254679].\n"
     ]
    },
    {
     "name": "stderr",
     "output_type": "stream",
     "text": [
      "\r",
      " 43%|████████████████████████████████                                           | 427/1000 [5:13:01<7:06:09, 44.62s/it]"
     ]
    },
    {
     "name": "stdout",
     "output_type": "stream",
     "text": [
      "\t ----- reward: -36.02588914254679 for f_star and f_minus: 25.672330179448494 , 36.02588914254679\n",
      "\t ---------- State is:  (1, 8)\n",
      "[INFO] [2023-03-01 04:43:55,426] [OpenBox-SPO] Iteration 428, objective value: [33.121885484021334].\n"
     ]
    },
    {
     "name": "stderr",
     "output_type": "stream",
     "text": [
      "\r",
      " 43%|████████████████████████████████                                           | 428/1000 [5:13:43<6:58:20, 43.88s/it]"
     ]
    },
    {
     "name": "stdout",
     "output_type": "stream",
     "text": [
      "\t ----- reward: -33.121885484021334 for f_star and f_minus: 25.672330179448494 , 33.121885484021334\n",
      "\t ---------- State is:  (1, 8)\n",
      "[INFO] [2023-03-01 04:44:36,540] [OpenBox-SPO] Iteration 429, objective value: [36.37706777976473].\n"
     ]
    },
    {
     "name": "stderr",
     "output_type": "stream",
     "text": [
      "\r",
      " 43%|████████████████████████████████▏                                          | 429/1000 [5:14:24<6:49:42, 43.05s/it]"
     ]
    },
    {
     "name": "stdout",
     "output_type": "stream",
     "text": [
      "\t ----- reward: -36.37706777976473 for f_star and f_minus: 25.672330179448494 , 36.37706777976473\n",
      "\t ---------- State is:  (1, 9)\n",
      "[INFO] [2023-03-01 04:45:20,780] [OpenBox-SPO] Iteration 430, objective value: [33.920092816741615].\n"
     ]
    },
    {
     "name": "stderr",
     "output_type": "stream",
     "text": [
      "\r",
      " 43%|████████████████████████████████▎                                          | 430/1000 [5:15:09<6:52:22, 43.41s/it]"
     ]
    },
    {
     "name": "stdout",
     "output_type": "stream",
     "text": [
      "\t ----- reward: -33.920092816741615 for f_star and f_minus: 25.672330179448494 , 33.920092816741615\n",
      "\t ---------- State is:  (1, 8)\n",
      "[INFO] [2023-03-01 04:46:04,786] [OpenBox-SPO] Iteration 431, objective value: [37.79812964745092].\n"
     ]
    },
    {
     "name": "stderr",
     "output_type": "stream",
     "text": [
      "\r",
      " 43%|████████████████████████████████▎                                          | 431/1000 [5:15:53<6:53:21, 43.59s/it]"
     ]
    },
    {
     "name": "stdout",
     "output_type": "stream",
     "text": [
      "\t ----- reward: -37.79812964745092 for f_star and f_minus: 25.672330179448494 , 37.79812964745092\n",
      "\t ---------- State is:  (2, 8)\n",
      "[INFO] [2023-03-01 04:46:46,811] [OpenBox-SPO] Iteration 432, objective value: [35.24107791844099].\n"
     ]
    },
    {
     "name": "stderr",
     "output_type": "stream",
     "text": [
      "\r",
      " 43%|████████████████████████████████▍                                          | 432/1000 [5:16:35<6:48:11, 43.12s/it]"
     ]
    },
    {
     "name": "stdout",
     "output_type": "stream",
     "text": [
      "\t ----- reward: -35.24107791844099 for f_star and f_minus: 25.672330179448494 , 35.24107791844099\n",
      "\t ---------- State is:  (3, 8)\n",
      "[INFO] [2023-03-01 04:47:31,832] [OpenBox-SPO] Iteration 433, objective value: [43.496726674507634].\n"
     ]
    },
    {
     "name": "stderr",
     "output_type": "stream",
     "text": [
      "\r",
      " 43%|████████████████████████████████▍                                          | 433/1000 [5:17:20<6:52:51, 43.69s/it]"
     ]
    },
    {
     "name": "stdout",
     "output_type": "stream",
     "text": [
      "\t ----- reward: -43.496726674507634 for f_star and f_minus: 25.672330179448494 , 43.496726674507634\n",
      "\t ---------- State is:  (3, 8)\n",
      "[INFO] [2023-03-01 04:48:16,151] [OpenBox-SPO] Iteration 434, objective value: [32.930868981865885].\n"
     ]
    },
    {
     "name": "stderr",
     "output_type": "stream",
     "text": [
      "\r",
      " 43%|████████████████████████████████▌                                          | 434/1000 [5:18:04<6:53:55, 43.88s/it]"
     ]
    },
    {
     "name": "stdout",
     "output_type": "stream",
     "text": [
      "\t ----- reward: -32.930868981865885 for f_star and f_minus: 25.672330179448494 , 32.930868981865885\n",
      "\t ---------- State is:  (2, 8)\n",
      "[INFO] [2023-03-01 04:49:03,672] [OpenBox-SPO] Iteration 435, objective value: [25.733660308883913].\n"
     ]
    },
    {
     "name": "stderr",
     "output_type": "stream",
     "text": [
      "\r",
      " 44%|████████████████████████████████▋                                          | 435/1000 [5:18:51<7:03:28, 44.97s/it]"
     ]
    },
    {
     "name": "stdout",
     "output_type": "stream",
     "text": [
      "\t ----- reward: -25.733660308883913 for f_star and f_minus: 25.672330179448494 , 25.733660308883913\n",
      "\t ---------- State is:  (1, 8)\n",
      "[INFO] [2023-03-01 04:49:44,728] [OpenBox-SPO] Iteration 436, objective value: [36.18487148274275].\n"
     ]
    },
    {
     "name": "stderr",
     "output_type": "stream",
     "text": [
      "\r",
      " 44%|████████████████████████████████▋                                          | 436/1000 [5:19:33<6:51:41, 43.80s/it]"
     ]
    },
    {
     "name": "stdout",
     "output_type": "stream",
     "text": [
      "\t ----- reward: -36.18487148274275 for f_star and f_minus: 25.672330179448494 , 36.18487148274275\n",
      "\t ---------- State is:  (0, 8)\n",
      "[INFO] [2023-03-01 04:50:27,389] [OpenBox-SPO] Iteration 437, objective value: [34.22244501530962].\n"
     ]
    },
    {
     "name": "stderr",
     "output_type": "stream",
     "text": [
      "\r",
      " 44%|████████████████████████████████▊                                          | 437/1000 [5:20:15<6:47:45, 43.46s/it]"
     ]
    },
    {
     "name": "stdout",
     "output_type": "stream",
     "text": [
      "\t ----- reward: -34.22244501530962 for f_star and f_minus: 25.672330179448494 , 34.22244501530962\n",
      "\t ---------- State is:  (0, 9)\n",
      "[INFO] [2023-03-01 04:51:14,410] [OpenBox-SPO] Iteration 438, objective value: [32.53966316950853].\n"
     ]
    },
    {
     "name": "stderr",
     "output_type": "stream",
     "text": [
      "\r",
      " 44%|████████████████████████████████▊                                          | 438/1000 [5:21:02<6:57:03, 44.53s/it]"
     ]
    },
    {
     "name": "stdout",
     "output_type": "stream",
     "text": [
      "\t ----- reward: -32.53966316950853 for f_star and f_minus: 25.672330179448494 , 32.53966316950853\n",
      "\t ---------- State is:  (0, 9)\n",
      "[INFO] [2023-03-01 04:51:52,841] [OpenBox-SPO] Iteration 439, objective value: [43.837190274185].\n"
     ]
    },
    {
     "name": "stderr",
     "output_type": "stream",
     "text": [
      "\r",
      " 44%|████████████████████████████████▉                                          | 439/1000 [5:21:41<6:39:13, 42.70s/it]"
     ]
    },
    {
     "name": "stdout",
     "output_type": "stream",
     "text": [
      "\t ----- reward: -43.837190274185 for f_star and f_minus: 25.672330179448494 , 43.837190274185\n",
      "\t ---------- State is:  (0, 9)\n",
      "[INFO] [2023-03-01 04:52:37,879] [OpenBox-SPO] Iteration 440, objective value: [33.96013201193699].\n"
     ]
    },
    {
     "name": "stderr",
     "output_type": "stream",
     "text": [
      "\r",
      " 44%|█████████████████████████████████                                          | 440/1000 [5:22:26<6:45:03, 43.40s/it]"
     ]
    },
    {
     "name": "stdout",
     "output_type": "stream",
     "text": [
      "\t ----- reward: -33.96013201193699 for f_star and f_minus: 25.672330179448494 , 33.96013201193699\n",
      "\t ---------- State is:  (1, 9)\n",
      "[INFO] [2023-03-01 04:53:23,359] [OpenBox-SPO] Iteration 441, objective value: [28.479619324115575].\n"
     ]
    },
    {
     "name": "stderr",
     "output_type": "stream",
     "text": [
      "\r",
      " 44%|█████████████████████████████████                                          | 441/1000 [5:23:11<6:50:09, 44.02s/it]"
     ]
    },
    {
     "name": "stdout",
     "output_type": "stream",
     "text": [
      "\t ----- reward: -28.479619324115575 for f_star and f_minus: 25.672330179448494 , 28.479619324115575\n",
      "\t ---------- State is:  (0, 9)\n",
      "[INFO] [2023-03-01 04:54:11,289] [OpenBox-SPO] Iteration 442, objective value: [39.144552300983314].\n"
     ]
    },
    {
     "name": "stderr",
     "output_type": "stream",
     "text": [
      "\r",
      " 44%|█████████████████████████████████▏                                         | 442/1000 [5:23:59<7:00:19, 45.20s/it]"
     ]
    },
    {
     "name": "stdout",
     "output_type": "stream",
     "text": [
      "\t ----- reward: -39.144552300983314 for f_star and f_minus: 25.672330179448494 , 39.144552300983314\n",
      "\t ---------- State is:  (0, 9)\n",
      "[INFO] [2023-03-01 04:54:48,423] [OpenBox-SPO] Iteration 443, objective value: [41.38497230425939].\n"
     ]
    },
    {
     "name": "stderr",
     "output_type": "stream",
     "text": [
      "\r",
      " 44%|█████████████████████████████████▏                                         | 443/1000 [5:24:36<6:37:06, 42.78s/it]"
     ]
    },
    {
     "name": "stdout",
     "output_type": "stream",
     "text": [
      "\t ----- reward: -41.38497230425939 for f_star and f_minus: 25.672330179448494 , 41.38497230425939\n",
      "\t ---------- State is:  (0, 9)\n",
      "[INFO] [2023-03-01 04:55:28,093] [OpenBox-SPO] Iteration 444, objective value: [45.01141205614113].\n"
     ]
    },
    {
     "name": "stderr",
     "output_type": "stream",
     "text": [
      "\r",
      " 44%|█████████████████████████████████▎                                         | 444/1000 [5:25:16<6:27:45, 41.84s/it]"
     ]
    },
    {
     "name": "stdout",
     "output_type": "stream",
     "text": [
      "\t ----- reward: -45.01141205614113 for f_star and f_minus: 25.672330179448494 , 45.01141205614113\n",
      "\t ---------- State is:  (1, 10)\n",
      "[INFO] [2023-03-01 04:56:14,804] [OpenBox-SPO] Iteration 445, objective value: [29.404778722669164].\n"
     ]
    },
    {
     "name": "stderr",
     "output_type": "stream",
     "text": [
      "\r",
      " 44%|█████████████████████████████████▍                                         | 445/1000 [5:26:03<6:40:34, 43.30s/it]"
     ]
    },
    {
     "name": "stdout",
     "output_type": "stream",
     "text": [
      "\t ----- reward: -29.404778722669164 for f_star and f_minus: 25.672330179448494 , 29.404778722669164\n",
      "\t ---------- State is:  (2, 9)\n",
      "[INFO] [2023-03-01 04:56:59,671] [OpenBox-SPO] Iteration 446, objective value: [31.129864889509335].\n"
     ]
    },
    {
     "name": "stderr",
     "output_type": "stream",
     "text": [
      "\r",
      " 45%|█████████████████████████████████▍                                         | 446/1000 [5:26:47<6:44:10, 43.77s/it]"
     ]
    },
    {
     "name": "stdout",
     "output_type": "stream",
     "text": [
      "\t ----- reward: -31.129864889509335 for f_star and f_minus: 25.672330179448494 , 31.129864889509335\n",
      "\t ---------- State is:  (1, 9)\n",
      "[INFO] [2023-03-01 04:57:47,130] [OpenBox-SPO] Iteration 447, objective value: [28.349468666509622].\n"
     ]
    },
    {
     "name": "stderr",
     "output_type": "stream",
     "text": [
      "\r",
      " 45%|█████████████████████████████████▌                                         | 447/1000 [5:27:35<6:53:38, 44.88s/it]"
     ]
    },
    {
     "name": "stdout",
     "output_type": "stream",
     "text": [
      "\t ----- reward: -28.349468666509622 for f_star and f_minus: 25.672330179448494 , 28.349468666509622\n",
      "\t ---------- State is:  (1, 8)\n",
      "[INFO] [2023-03-01 04:58:27,712] [OpenBox-SPO] Iteration 448, objective value: [29.913683674301808].\n"
     ]
    },
    {
     "name": "stderr",
     "output_type": "stream",
     "text": [
      "\r",
      " 45%|█████████████████████████████████▌                                         | 448/1000 [5:28:15<6:41:01, 43.59s/it]"
     ]
    },
    {
     "name": "stdout",
     "output_type": "stream",
     "text": [
      "\t ----- reward: -29.913683674301808 for f_star and f_minus: 25.672330179448494 , 29.913683674301808\n",
      "\t ---------- State is:  (1, 8)\n",
      "[INFO] [2023-03-01 04:59:12,511] [OpenBox-SPO] Iteration 449, objective value: [29.77236333417835].\n"
     ]
    },
    {
     "name": "stderr",
     "output_type": "stream",
     "text": [
      "\r",
      " 45%|█████████████████████████████████▋                                         | 449/1000 [5:29:00<6:43:37, 43.95s/it]"
     ]
    },
    {
     "name": "stdout",
     "output_type": "stream",
     "text": [
      "\t ----- reward: -29.77236333417835 for f_star and f_minus: 25.672330179448494 , 29.77236333417835\n",
      "\t ---------- State is:  (0, 8)\n",
      "[INFO] [2023-03-01 04:59:56,163] [OpenBox-SPO] Iteration 450, objective value: [30.559872316060165].\n"
     ]
    },
    {
     "name": "stderr",
     "output_type": "stream",
     "text": [
      "\r",
      " 45%|█████████████████████████████████▊                                         | 450/1000 [5:29:44<6:42:04, 43.86s/it]"
     ]
    },
    {
     "name": "stdout",
     "output_type": "stream",
     "text": [
      "\t ----- reward: -30.559872316060165 for f_star and f_minus: 25.672330179448494 , 30.559872316060165\n",
      "\t ---------- State is:  (1, 7)\n",
      "[INFO] [2023-03-01 05:00:40,941] [OpenBox-SPO] Iteration 451, objective value: [28.99616883647363].\n"
     ]
    },
    {
     "name": "stderr",
     "output_type": "stream",
     "text": [
      "\r",
      " 45%|█████████████████████████████████▊                                         | 451/1000 [5:30:29<6:43:51, 44.14s/it]"
     ]
    },
    {
     "name": "stdout",
     "output_type": "stream",
     "text": [
      "\t ----- reward: -28.99616883647363 for f_star and f_minus: 25.672330179448494 , 28.99616883647363\n",
      "\t ---------- State is:  (1, 7)\n",
      "[INFO] [2023-03-01 05:01:28,773] [OpenBox-SPO] Iteration 452, objective value: [32.52163674207334].\n"
     ]
    },
    {
     "name": "stderr",
     "output_type": "stream",
     "text": [
      "\r",
      " 45%|█████████████████████████████████▉                                         | 452/1000 [5:31:17<6:53:14, 45.25s/it]"
     ]
    },
    {
     "name": "stdout",
     "output_type": "stream",
     "text": [
      "\t ----- reward: -32.52163674207334 for f_star and f_minus: 25.672330179448494 , 32.52163674207334\n",
      "\t ---------- State is:  (0, 6)\n",
      "[INFO] [2023-03-01 05:02:12,748] [OpenBox-SPO] Iteration 453, objective value: [33.732322322558545].\n"
     ]
    },
    {
     "name": "stderr",
     "output_type": "stream",
     "text": [
      "\r",
      " 45%|█████████████████████████████████▉                                         | 453/1000 [5:32:01<6:49:00, 44.86s/it]"
     ]
    },
    {
     "name": "stdout",
     "output_type": "stream",
     "text": [
      "\t ----- reward: -33.732322322558545 for f_star and f_minus: 25.672330179448494 , 33.732322322558545\n",
      "\t ---------- State is:  (1, 6)\n",
      "[INFO] [2023-03-01 05:02:58,648] [OpenBox-SPO] Iteration 454, objective value: [29.71060575653439].\n"
     ]
    },
    {
     "name": "stderr",
     "output_type": "stream",
     "text": [
      "\r",
      " 45%|██████████████████████████████████                                         | 454/1000 [5:32:46<6:51:05, 45.18s/it]"
     ]
    },
    {
     "name": "stdout",
     "output_type": "stream",
     "text": [
      "\t ----- reward: -29.71060575653439 for f_star and f_minus: 25.672330179448494 , 29.71060575653439\n",
      "\t ---------- State is:  (2, 6)\n",
      "[INFO] [2023-03-01 05:03:43,374] [OpenBox-SPO] Iteration 455, objective value: [32.39083970716531].\n"
     ]
    },
    {
     "name": "stderr",
     "output_type": "stream",
     "text": [
      "\r",
      " 46%|██████████████████████████████████▏                                        | 455/1000 [5:33:31<6:49:06, 45.04s/it]"
     ]
    },
    {
     "name": "stdout",
     "output_type": "stream",
     "text": [
      "\t ----- reward: -32.39083970716531 for f_star and f_minus: 25.672330179448494 , 32.39083970716531\n",
      "\t ---------- State is:  (2, 6)\n",
      "[INFO] [2023-03-01 05:04:37,586] [OpenBox-SPO] Iteration 456, objective value: [38.22514025007171].\n"
     ]
    },
    {
     "name": "stderr",
     "output_type": "stream",
     "text": [
      "\r",
      " 46%|██████████████████████████████████▏                                        | 456/1000 [5:34:25<7:13:18, 47.79s/it]"
     ]
    },
    {
     "name": "stdout",
     "output_type": "stream",
     "text": [
      "\t ----- reward: -38.22514025007171 for f_star and f_minus: 25.672330179448494 , 38.22514025007171\n",
      "\t ---------- State is:  (3, 6)\n",
      "[INFO] [2023-03-01 05:05:21,490] [OpenBox-SPO] Iteration 457, objective value: [32.5793083626407].\n"
     ]
    },
    {
     "name": "stderr",
     "output_type": "stream",
     "text": [
      "\r",
      " 46%|██████████████████████████████████▎                                        | 457/1000 [5:35:09<7:01:57, 46.63s/it]"
     ]
    },
    {
     "name": "stdout",
     "output_type": "stream",
     "text": [
      "\t ----- reward: -32.5793083626407 for f_star and f_minus: 25.672330179448494 , 32.5793083626407\n",
      "\t ---------- State is:  (3, 6)\n",
      "[INFO] [2023-03-01 05:06:09,191] [OpenBox-SPO] Iteration 458, objective value: [31.98203440708639].\n"
     ]
    },
    {
     "name": "stderr",
     "output_type": "stream",
     "text": [
      "\r",
      " 46%|██████████████████████████████████▎                                        | 458/1000 [5:35:57<7:04:05, 46.95s/it]"
     ]
    },
    {
     "name": "stdout",
     "output_type": "stream",
     "text": [
      "\t ----- reward: -31.98203440708639 for f_star and f_minus: 25.672330179448494 , 31.98203440708639\n",
      "\t ---------- State is:  (2, 6)\n",
      "[INFO] [2023-03-01 05:06:52,982] [OpenBox-SPO] Iteration 459, objective value: [31.142748220154672].\n"
     ]
    },
    {
     "name": "stderr",
     "output_type": "stream",
     "text": [
      "\r",
      " 46%|██████████████████████████████████▍                                        | 459/1000 [5:36:41<6:54:46, 46.00s/it]"
     ]
    },
    {
     "name": "stdout",
     "output_type": "stream",
     "text": [
      "\t ----- reward: -31.142748220154672 for f_star and f_minus: 25.672330179448494 , 31.142748220154672\n",
      "\t ---------- State is:  (2, 5)\n",
      "[INFO] [2023-03-01 05:07:38,973] [OpenBox-SPO] Iteration 460, objective value: [43.156113036780006].\n"
     ]
    },
    {
     "name": "stderr",
     "output_type": "stream",
     "text": [
      "\r",
      " 46%|██████████████████████████████████▌                                        | 460/1000 [5:37:27<6:53:58, 46.00s/it]"
     ]
    },
    {
     "name": "stdout",
     "output_type": "stream",
     "text": [
      "\t ----- reward: -43.156113036780006 for f_star and f_minus: 25.672330179448494 , 43.156113036780006\n",
      "\t ---------- State is:  (2, 5)\n",
      "[INFO] [2023-03-01 05:08:22,531] [OpenBox-SPO] Iteration 461, objective value: [42.76562324750499].\n"
     ]
    },
    {
     "name": "stderr",
     "output_type": "stream",
     "text": [
      "\r",
      " 46%|██████████████████████████████████▌                                        | 461/1000 [5:38:10<6:46:38, 45.27s/it]"
     ]
    },
    {
     "name": "stdout",
     "output_type": "stream",
     "text": [
      "\t ----- reward: -42.76562324750499 for f_star and f_minus: 25.672330179448494 , 42.76562324750499\n",
      "\t ---------- State is:  (1, 6)\n",
      "[INFO] [2023-03-01 05:09:07,012] [OpenBox-SPO] Iteration 462, objective value: [35.89377940803324].\n"
     ]
    },
    {
     "name": "stderr",
     "output_type": "stream",
     "text": [
      "\r",
      " 46%|██████████████████████████████████▋                                        | 462/1000 [5:38:55<6:43:46, 45.03s/it]"
     ]
    },
    {
     "name": "stdout",
     "output_type": "stream",
     "text": [
      "\t ----- reward: -35.89377940803324 for f_star and f_minus: 25.672330179448494 , 35.89377940803324\n",
      "\t ---------- State is:  (1, 6)\n",
      "[INFO] [2023-03-01 05:09:50,613] [OpenBox-SPO] Iteration 463, objective value: [34.184195418017126].\n"
     ]
    },
    {
     "name": "stderr",
     "output_type": "stream",
     "text": [
      "\r",
      " 46%|██████████████████████████████████▋                                        | 463/1000 [5:39:38<6:39:11, 44.60s/it]"
     ]
    },
    {
     "name": "stdout",
     "output_type": "stream",
     "text": [
      "\t ----- reward: -34.184195418017126 for f_star and f_minus: 25.672330179448494 , 34.184195418017126\n",
      "\t ---------- State is:  (0, 6)\n",
      "[INFO] [2023-03-01 05:10:35,151] [OpenBox-SPO] Iteration 464, objective value: [28.497677534220742].\n"
     ]
    },
    {
     "name": "stderr",
     "output_type": "stream",
     "text": [
      "\r",
      " 46%|██████████████████████████████████▊                                        | 464/1000 [5:40:23<6:38:16, 44.58s/it]"
     ]
    },
    {
     "name": "stdout",
     "output_type": "stream",
     "text": [
      "\t ----- reward: -28.497677534220742 for f_star and f_minus: 25.672330179448494 , 28.497677534220742\n",
      "\t ---------- State is:  (0, 5)\n",
      "[INFO] [2023-03-01 05:11:19,815] [OpenBox-SPO] Iteration 465, objective value: [35.50119132887981].\n"
     ]
    },
    {
     "name": "stderr",
     "output_type": "stream",
     "text": [
      "\r",
      " 46%|██████████████████████████████████▉                                        | 465/1000 [5:41:08<6:37:44, 44.61s/it]"
     ]
    },
    {
     "name": "stdout",
     "output_type": "stream",
     "text": [
      "\t ----- reward: -35.50119132887981 for f_star and f_minus: 25.672330179448494 , 35.50119132887981\n",
      "\t ---------- State is:  (0, 6)\n",
      "[INFO] [2023-03-01 05:12:10,446] [OpenBox-SPO] Iteration 466, objective value: [28.292305703065622].\n"
     ]
    },
    {
     "name": "stderr",
     "output_type": "stream",
     "text": [
      "\r",
      " 47%|██████████████████████████████████▉                                        | 466/1000 [5:41:58<6:53:05, 46.41s/it]"
     ]
    },
    {
     "name": "stdout",
     "output_type": "stream",
     "text": [
      "\t ----- reward: -28.292305703065622 for f_star and f_minus: 25.672330179448494 , 28.292305703065622\n",
      "\t ---------- State is:  (0, 6)\n",
      "[INFO] [2023-03-01 05:12:54,878] [OpenBox-SPO] Iteration 467, objective value: [34.04054899161835].\n"
     ]
    },
    {
     "name": "stderr",
     "output_type": "stream",
     "text": [
      "\r",
      " 47%|███████████████████████████████████                                        | 467/1000 [5:42:43<6:47:01, 45.82s/it]"
     ]
    },
    {
     "name": "stdout",
     "output_type": "stream",
     "text": [
      "\t ----- reward: -34.04054899161835 for f_star and f_minus: 25.672330179448494 , 34.04054899161835\n",
      "\t ---------- State is:  (0, 6)\n",
      "[INFO] [2023-03-01 05:13:39,445] [OpenBox-SPO] Iteration 468, objective value: [34.13809245367649].\n"
     ]
    },
    {
     "name": "stderr",
     "output_type": "stream",
     "text": [
      "\r",
      " 47%|███████████████████████████████████                                        | 468/1000 [5:43:27<6:42:56, 45.44s/it]"
     ]
    },
    {
     "name": "stdout",
     "output_type": "stream",
     "text": [
      "\t ----- reward: -34.13809245367649 for f_star and f_minus: 25.672330179448494 , 34.13809245367649\n",
      "\t ---------- State is:  (0, 6)\n",
      "[INFO] [2023-03-01 05:14:24,796] [OpenBox-SPO] Iteration 469, objective value: [28.347092452694596].\n"
     ]
    },
    {
     "name": "stderr",
     "output_type": "stream",
     "text": [
      "\r",
      " 47%|███████████████████████████████████▏                                       | 469/1000 [5:44:13<6:41:55, 45.42s/it]"
     ]
    },
    {
     "name": "stdout",
     "output_type": "stream",
     "text": [
      "\t ----- reward: -28.347092452694596 for f_star and f_minus: 25.672330179448494 , 28.347092452694596\n",
      "\t ---------- State is:  (1, 6)\n",
      "[INFO] [2023-03-01 05:15:07,613] [OpenBox-SPO] Iteration 470, objective value: [34.19146535546356].\n"
     ]
    },
    {
     "name": "stderr",
     "output_type": "stream",
     "text": [
      "\r",
      " 47%|███████████████████████████████████▎                                       | 470/1000 [5:44:55<6:34:17, 44.64s/it]"
     ]
    },
    {
     "name": "stdout",
     "output_type": "stream",
     "text": [
      "\t ----- reward: -34.19146535546356 for f_star and f_minus: 25.672330179448494 , 34.19146535546356\n",
      "\t ---------- State is:  (2, 7)\n",
      "[INFO] [2023-03-01 05:15:50,076] [OpenBox-SPO] Iteration 471, objective value: [28.57727167615893].\n"
     ]
    },
    {
     "name": "stderr",
     "output_type": "stream",
     "text": [
      "\r",
      " 47%|███████████████████████████████████▎                                       | 471/1000 [5:45:38<6:27:47, 43.98s/it]"
     ]
    },
    {
     "name": "stdout",
     "output_type": "stream",
     "text": [
      "\t ----- reward: -28.57727167615893 for f_star and f_minus: 25.672330179448494 , 28.57727167615893\n",
      "\t ---------- State is:  (1, 7)\n",
      "[INFO] [2023-03-01 05:16:33,285] [OpenBox-SPO] Iteration 472, objective value: [41.3975305694115].\n"
     ]
    },
    {
     "name": "stderr",
     "output_type": "stream",
     "text": [
      "\r",
      " 47%|███████████████████████████████████▍                                       | 472/1000 [5:46:21<6:25:00, 43.75s/it]"
     ]
    },
    {
     "name": "stdout",
     "output_type": "stream",
     "text": [
      "\t ----- reward: -41.3975305694115 for f_star and f_minus: 25.672330179448494 , 41.3975305694115\n",
      "\t ---------- State is:  (2, 8)\n",
      "[INFO] [2023-03-01 05:17:13,227] [OpenBox-SPO] Iteration 473, objective value: [29.381525646005684].\n"
     ]
    },
    {
     "name": "stderr",
     "output_type": "stream",
     "text": [
      "\r",
      " 47%|███████████████████████████████████▍                                       | 473/1000 [5:47:01<6:14:14, 42.61s/it]"
     ]
    },
    {
     "name": "stdout",
     "output_type": "stream",
     "text": [
      "\t ----- reward: -29.381525646005684 for f_star and f_minus: 25.672330179448494 , 29.381525646005684\n",
      "\t ---------- State is:  (2, 7)\n",
      "[INFO] [2023-03-01 05:17:59,896] [OpenBox-SPO] Iteration 474, objective value: [37.46836644471892].\n"
     ]
    },
    {
     "name": "stderr",
     "output_type": "stream",
     "text": [
      "\r",
      " 47%|███████████████████████████████████▌                                       | 474/1000 [5:47:48<6:24:12, 43.83s/it]"
     ]
    },
    {
     "name": "stdout",
     "output_type": "stream",
     "text": [
      "\t ----- reward: -37.46836644471892 for f_star and f_minus: 25.672330179448494 , 37.46836644471892\n",
      "\t ---------- State is:  (2, 8)\n",
      "[INFO] [2023-03-01 05:18:44,261] [OpenBox-SPO] Iteration 475, objective value: [32.82626688337565].\n"
     ]
    },
    {
     "name": "stderr",
     "output_type": "stream",
     "text": [
      "\r",
      " 48%|███████████████████████████████████▋                                       | 475/1000 [5:48:32<6:24:53, 43.99s/it]"
     ]
    },
    {
     "name": "stdout",
     "output_type": "stream",
     "text": [
      "\t ----- reward: -32.82626688337565 for f_star and f_minus: 25.672330179448494 , 32.82626688337565\n",
      "\t ---------- State is:  (2, 8)\n",
      "[INFO] [2023-03-01 05:19:28,752] [OpenBox-SPO] Iteration 476, objective value: [28.75193526229431].\n"
     ]
    },
    {
     "name": "stderr",
     "output_type": "stream",
     "text": [
      "\r",
      " 48%|███████████████████████████████████▋                                       | 476/1000 [5:49:17<6:25:28, 44.14s/it]"
     ]
    },
    {
     "name": "stdout",
     "output_type": "stream",
     "text": [
      "\t ----- reward: -28.75193526229431 for f_star and f_minus: 25.672330179448494 , 28.75193526229431\n",
      "\t ---------- State is:  (1, 7)\n",
      "[INFO] [2023-03-01 05:20:12,774] [OpenBox-SPO] Iteration 477, objective value: [34.88568181914684].\n"
     ]
    },
    {
     "name": "stderr",
     "output_type": "stream",
     "text": [
      "\r",
      " 48%|███████████████████████████████████▊                                       | 477/1000 [5:50:01<6:24:26, 44.10s/it]"
     ]
    },
    {
     "name": "stdout",
     "output_type": "stream",
     "text": [
      "\t ----- reward: -34.88568181914684 for f_star and f_minus: 25.672330179448494 , 34.88568181914684\n",
      "\t ---------- State is:  (0, 8)\n",
      "[INFO] [2023-03-01 05:20:57,876] [OpenBox-SPO] Iteration 478, objective value: [36.15523650094122].\n"
     ]
    },
    {
     "name": "stderr",
     "output_type": "stream",
     "text": [
      "\r",
      " 48%|███████████████████████████████████▊                                       | 478/1000 [5:50:46<6:26:18, 44.40s/it]"
     ]
    },
    {
     "name": "stdout",
     "output_type": "stream",
     "text": [
      "\t ----- reward: -36.15523650094122 for f_star and f_minus: 25.672330179448494 , 36.15523650094122\n",
      "\t ---------- State is:  (0, 8)\n",
      "[INFO] [2023-03-01 05:21:45,681] [OpenBox-SPO] Iteration 479, objective value: [31.30827909340212].\n"
     ]
    },
    {
     "name": "stderr",
     "output_type": "stream",
     "text": [
      "\r",
      " 48%|███████████████████████████████████▉                                       | 479/1000 [5:51:33<6:34:25, 45.42s/it]"
     ]
    },
    {
     "name": "stdout",
     "output_type": "stream",
     "text": [
      "\t ----- reward: -31.30827909340212 for f_star and f_minus: 25.672330179448494 , 31.30827909340212\n",
      "\t ---------- State is:  (1, 8)\n",
      "[INFO] [2023-03-01 05:22:32,094] [OpenBox-SPO] Iteration 480, objective value: [34.34144761547114].\n"
     ]
    },
    {
     "name": "stderr",
     "output_type": "stream",
     "text": [
      "\r",
      " 48%|████████████████████████████████████                                       | 480/1000 [5:52:20<6:36:14, 45.72s/it]"
     ]
    },
    {
     "name": "stdout",
     "output_type": "stream",
     "text": [
      "\t ----- reward: -34.34144761547114 for f_star and f_minus: 25.672330179448494 , 34.34144761547114\n",
      "\t ---------- State is:  (2, 8)\n",
      "[INFO] [2023-03-01 05:23:14,943] [OpenBox-SPO] Iteration 481, objective value: [31.320560293312354].\n"
     ]
    },
    {
     "name": "stderr",
     "output_type": "stream",
     "text": [
      "\r",
      " 48%|████████████████████████████████████                                       | 481/1000 [5:53:03<6:28:01, 44.86s/it]"
     ]
    },
    {
     "name": "stdout",
     "output_type": "stream",
     "text": [
      "\t ----- reward: -31.320560293312354 for f_star and f_minus: 25.672330179448494 , 31.320560293312354\n",
      "\t ---------- State is:  (1, 8)\n",
      "[INFO] [2023-03-01 05:24:03,185] [OpenBox-SPO] Iteration 482, objective value: [28.735454611850315].\n"
     ]
    },
    {
     "name": "stderr",
     "output_type": "stream",
     "text": [
      "\r",
      " 48%|████████████████████████████████████▏                                      | 482/1000 [5:53:51<6:36:02, 45.87s/it]"
     ]
    },
    {
     "name": "stdout",
     "output_type": "stream",
     "text": [
      "\t ----- reward: -28.735454611850315 for f_star and f_minus: 25.672330179448494 , 28.735454611850315\n",
      "\t ---------- State is:  (1, 7)\n",
      "[INFO] [2023-03-01 05:24:49,022] [OpenBox-SPO] Iteration 483, objective value: [32.14025386864019].\n"
     ]
    },
    {
     "name": "stderr",
     "output_type": "stream",
     "text": [
      "\r",
      " 48%|████████████████████████████████████▏                                      | 483/1000 [5:54:37<6:35:11, 45.86s/it]"
     ]
    },
    {
     "name": "stdout",
     "output_type": "stream",
     "text": [
      "\t ----- reward: -32.14025386864019 for f_star and f_minus: 25.672330179448494 , 32.14025386864019\n",
      "\t ---------- State is:  (1, 6)\n",
      "[INFO] [2023-03-01 05:25:35,779] [OpenBox-SPO] Iteration 484, objective value: [29.46608955631909].\n"
     ]
    },
    {
     "name": "stderr",
     "output_type": "stream",
     "text": [
      "\r",
      " 48%|████████████████████████████████████▎                                      | 484/1000 [5:55:24<6:36:43, 46.13s/it]"
     ]
    },
    {
     "name": "stdout",
     "output_type": "stream",
     "text": [
      "\t ----- reward: -29.46608955631909 for f_star and f_minus: 25.672330179448494 , 29.46608955631909\n",
      "\t ---------- State is:  (0, 6)\n",
      "[INFO] [2023-03-01 05:26:19,175] [OpenBox-SPO] Iteration 485, objective value: [31.25412553539924].\n"
     ]
    },
    {
     "name": "stderr",
     "output_type": "stream",
     "text": [
      "\r",
      " 48%|████████████████████████████████████▍                                      | 485/1000 [5:56:07<6:28:54, 45.31s/it]"
     ]
    },
    {
     "name": "stdout",
     "output_type": "stream",
     "text": [
      "\t ----- reward: -31.25412553539924 for f_star and f_minus: 25.672330179448494 , 31.25412553539924\n",
      "\t ---------- State is:  (1, 6)\n",
      "[INFO] [2023-03-01 05:27:01,122] [OpenBox-SPO] Iteration 486, objective value: [41.648170558428376].\n"
     ]
    },
    {
     "name": "stderr",
     "output_type": "stream",
     "text": [
      "\r",
      " 49%|████████████████████████████████████▍                                      | 486/1000 [5:56:49<6:19:30, 44.30s/it]"
     ]
    },
    {
     "name": "stdout",
     "output_type": "stream",
     "text": [
      "\t ----- reward: -41.648170558428376 for f_star and f_minus: 25.672330179448494 , 41.648170558428376\n",
      "\t ---------- State is:  (1, 6)\n",
      "[INFO] [2023-03-01 05:27:45,956] [OpenBox-SPO] Iteration 487, objective value: [28.73533753848993].\n"
     ]
    },
    {
     "name": "stderr",
     "output_type": "stream",
     "text": [
      "\r",
      " 49%|████████████████████████████████████▌                                      | 487/1000 [5:57:34<6:20:08, 44.46s/it]"
     ]
    },
    {
     "name": "stdout",
     "output_type": "stream",
     "text": [
      "\t ----- reward: -28.73533753848993 for f_star and f_minus: 25.672330179448494 , 28.73533753848993\n",
      "\t ---------- State is:  (2, 6)\n",
      "[INFO] [2023-03-01 05:28:28,337] [OpenBox-SPO] Iteration 488, objective value: [27.826183646334584].\n"
     ]
    },
    {
     "name": "stderr",
     "output_type": "stream",
     "text": [
      "\r",
      " 49%|████████████████████████████████████▌                                      | 488/1000 [5:58:16<6:14:04, 43.84s/it]"
     ]
    },
    {
     "name": "stdout",
     "output_type": "stream",
     "text": [
      "\t ----- reward: -27.826183646334584 for f_star and f_minus: 25.672330179448494 , 27.826183646334584\n",
      "\t ---------- State is:  (3, 5)\n",
      "[INFO] [2023-03-01 05:29:06,943] [OpenBox-SPO] Iteration 489, objective value: [33.867019362641926].\n"
     ]
    },
    {
     "name": "stderr",
     "output_type": "stream",
     "text": [
      "\r",
      " 49%|████████████████████████████████████▋                                      | 489/1000 [5:58:55<5:59:58, 42.27s/it]"
     ]
    },
    {
     "name": "stdout",
     "output_type": "stream",
     "text": [
      "\t ----- reward: -33.867019362641926 for f_star and f_minus: 25.672330179448494 , 33.867019362641926\n",
      "\t ---------- State is:  (3, 6)\n",
      "[INFO] [2023-03-01 05:29:48,170] [OpenBox-SPO] Iteration 490, objective value: [25.59089315058253].\n"
     ]
    },
    {
     "name": "stderr",
     "output_type": "stream",
     "text": [
      "\r",
      " 49%|████████████████████████████████████▊                                      | 490/1000 [5:59:36<5:56:37, 41.96s/it]"
     ]
    },
    {
     "name": "stdout",
     "output_type": "stream",
     "text": [
      "\t ----- reward: -25.59089315058253 for f_star and f_minus: 25.672330179448494 , 25.59089315058253\n",
      "\t ---------- State is:  (4, 5)\n",
      "[INFO] [2023-03-01 05:29:48,170] [Advisor] Sample random config. rand_prob=0.100000.\n",
      "[INFO] [2023-03-01 05:30:26,736] [OpenBox-SPO] Iteration 491, objective value: [57.74312851856689].\n"
     ]
    },
    {
     "name": "stderr",
     "output_type": "stream",
     "text": [
      "\r",
      " 49%|████████████████████████████████████▊                                      | 491/1000 [6:00:15<5:47:17, 40.94s/it]"
     ]
    },
    {
     "name": "stdout",
     "output_type": "stream",
     "text": [
      "\t ----- reward: -57.74312851856689 for f_star and f_minus: 25.672330179448494 , 57.74312851856689\n",
      "\t ---------- State is:  (3, 6)\n",
      "[INFO] [2023-03-01 05:31:09,961] [OpenBox-SPO] Iteration 492, objective value: [32.967364513034994].\n"
     ]
    },
    {
     "name": "stderr",
     "output_type": "stream",
     "text": [
      "\r",
      " 49%|████████████████████████████████████▉                                      | 492/1000 [6:00:58<5:52:25, 41.62s/it]"
     ]
    },
    {
     "name": "stdout",
     "output_type": "stream",
     "text": [
      "\t ----- reward: -32.967364513034994 for f_star and f_minus: 25.59089315058253 , 32.967364513034994\n",
      "\t ---------- State is:  (4, 6)\n",
      "[INFO] [2023-03-01 05:31:56,801] [OpenBox-SPO] Iteration 493, objective value: [28.210211477573893].\n"
     ]
    },
    {
     "name": "stderr",
     "output_type": "stream",
     "text": [
      "\r",
      " 49%|████████████████████████████████████▉                                      | 493/1000 [6:01:45<6:04:56, 43.19s/it]"
     ]
    },
    {
     "name": "stdout",
     "output_type": "stream",
     "text": [
      "\t ----- reward: -28.210211477573893 for f_star and f_minus: 25.59089315058253 , 28.210211477573893\n",
      "\t ---------- State is:  (3, 6)\n",
      "[INFO] [2023-03-01 05:32:39,838] [OpenBox-SPO] Iteration 494, objective value: [32.82443023596666].\n"
     ]
    },
    {
     "name": "stderr",
     "output_type": "stream",
     "text": [
      "\r",
      " 49%|█████████████████████████████████████                                      | 494/1000 [6:02:28<6:03:50, 43.14s/it]"
     ]
    },
    {
     "name": "stdout",
     "output_type": "stream",
     "text": [
      "\t ----- reward: -32.82443023596666 for f_star and f_minus: 25.59089315058253 , 32.82443023596666\n",
      "\t ---------- State is:  (2, 6)\n",
      "[INFO] [2023-03-01 05:32:39,838] [Advisor] Sample random config. rand_prob=0.100000.\n",
      "[INFO] [2023-03-01 05:33:21,516] [OpenBox-SPO] Iteration 495, objective value: [57.67247586032656].\n"
     ]
    },
    {
     "name": "stderr",
     "output_type": "stream",
     "text": [
      "\r",
      " 50%|█████████████████████████████████████▏                                     | 495/1000 [6:03:09<5:59:25, 42.70s/it]"
     ]
    },
    {
     "name": "stdout",
     "output_type": "stream",
     "text": [
      "\t ----- reward: -57.67247586032656 for f_star and f_minus: 25.59089315058253 , 57.67247586032656\n",
      "\t ---------- State is:  (2, 6)\n",
      "[INFO] [2023-03-01 05:33:59,540] [OpenBox-SPO] Iteration 496, objective value: [46.245149369380115].\n"
     ]
    },
    {
     "name": "stderr",
     "output_type": "stream",
     "text": [
      "\r",
      " 50%|█████████████████████████████████████▏                                     | 496/1000 [6:03:47<5:46:55, 41.30s/it]"
     ]
    },
    {
     "name": "stdout",
     "output_type": "stream",
     "text": [
      "\t ----- reward: -46.245149369380115 for f_star and f_minus: 25.59089315058253 , 46.245149369380115\n",
      "\t ---------- State is:  (3, 6)\n",
      "[INFO] [2023-03-01 05:34:44,999] [OpenBox-SPO] Iteration 497, objective value: [40.52400534956377].\n"
     ]
    },
    {
     "name": "stderr",
     "output_type": "stream",
     "text": [
      "\r",
      " 50%|█████████████████████████████████████▎                                     | 497/1000 [6:04:33<5:56:41, 42.55s/it]"
     ]
    },
    {
     "name": "stdout",
     "output_type": "stream",
     "text": [
      "\t ----- reward: -40.52400534956377 for f_star and f_minus: 25.59089315058253 , 40.52400534956377\n",
      "\t ---------- State is:  (3, 6)\n",
      "[INFO] [2023-03-01 05:35:29,621] [OpenBox-SPO] Iteration 498, objective value: [28.848071515877336].\n"
     ]
    },
    {
     "name": "stderr",
     "output_type": "stream",
     "text": [
      "\r",
      " 50%|█████████████████████████████████████▎                                     | 498/1000 [6:05:17<6:01:11, 43.17s/it]"
     ]
    },
    {
     "name": "stdout",
     "output_type": "stream",
     "text": [
      "\t ----- reward: -28.848071515877336 for f_star and f_minus: 25.59089315058253 , 28.848071515877336\n",
      "\t ---------- State is:  (4, 6)\n",
      "[INFO] [2023-03-01 05:36:08,914] [OpenBox-SPO] Iteration 499, objective value: [32.109294599688525].\n"
     ]
    },
    {
     "name": "stderr",
     "output_type": "stream",
     "text": [
      "\r",
      " 50%|█████████████████████████████████████▍                                     | 499/1000 [6:05:57<5:50:45, 42.01s/it]"
     ]
    },
    {
     "name": "stdout",
     "output_type": "stream",
     "text": [
      "\t ----- reward: -32.109294599688525 for f_star and f_minus: 25.59089315058253 , 32.109294599688525\n",
      "\t ---------- State is:  (3, 6)\n",
      "[INFO] [2023-03-01 05:36:08,914] [Advisor] Sample random config. rand_prob=0.100000.\n",
      "[INFO] [2023-03-01 05:36:49,813] [OpenBox-SPO] Iteration 500, objective value: [51.01449088366859].\n"
     ]
    },
    {
     "name": "stderr",
     "output_type": "stream",
     "text": [
      "\r",
      " 50%|█████████████████████████████████████▌                                     | 500/1000 [6:06:38<5:47:17, 41.67s/it]"
     ]
    },
    {
     "name": "stdout",
     "output_type": "stream",
     "text": [
      "\t ----- reward: -51.01449088366859 for f_star and f_minus: 25.59089315058253 , 51.01449088366859\n",
      "\t ---------- State is:  (2, 6)\n",
      "[INFO] [2023-03-01 05:37:29,351] [OpenBox-SPO] Iteration 501, objective value: [40.82523213696753].\n"
     ]
    },
    {
     "name": "stderr",
     "output_type": "stream",
     "text": [
      "\r",
      " 50%|█████████████████████████████████████▌                                     | 501/1000 [6:07:17<5:41:15, 41.03s/it]"
     ]
    },
    {
     "name": "stdout",
     "output_type": "stream",
     "text": [
      "\t ----- reward: -40.82523213696753 for f_star and f_minus: 25.59089315058253 , 40.82523213696753\n",
      "\t ---------- State is:  (1, 6)\n",
      "[INFO] [2023-03-01 05:38:16,561] [OpenBox-SPO] Iteration 502, objective value: [28.875589041131207].\n"
     ]
    },
    {
     "name": "stderr",
     "output_type": "stream",
     "text": [
      "\r",
      " 50%|█████████████████████████████████████▋                                     | 502/1000 [6:08:04<5:55:57, 42.89s/it]"
     ]
    },
    {
     "name": "stdout",
     "output_type": "stream",
     "text": [
      "\t ----- reward: -28.875589041131207 for f_star and f_minus: 25.59089315058253 , 28.875589041131207\n",
      "\t ---------- State is:  (0, 6)\n",
      "[INFO] [2023-03-01 05:39:03,382] [OpenBox-SPO] Iteration 503, objective value: [31.600287539258233].\n"
     ]
    },
    {
     "name": "stderr",
     "output_type": "stream",
     "text": [
      "\r",
      " 50%|█████████████████████████████████████▋                                     | 503/1000 [6:08:51<6:05:01, 44.07s/it]"
     ]
    },
    {
     "name": "stdout",
     "output_type": "stream",
     "text": [
      "\t ----- reward: -31.600287539258233 for f_star and f_minus: 25.59089315058253 , 31.600287539258233\n",
      "\t ---------- State is:  (0, 6)\n",
      "[INFO] [2023-03-01 05:39:47,469] [OpenBox-SPO] Iteration 504, objective value: [40.14141387932375].\n"
     ]
    },
    {
     "name": "stderr",
     "output_type": "stream",
     "text": [
      "\r",
      " 50%|█████████████████████████████████████▊                                     | 504/1000 [6:09:35<6:04:20, 44.07s/it]"
     ]
    },
    {
     "name": "stdout",
     "output_type": "stream",
     "text": [
      "\t ----- reward: -40.14141387932375 for f_star and f_minus: 25.59089315058253 , 40.14141387932375\n",
      "\t ---------- State is:  (0, 7)\n",
      "[INFO] [2023-03-01 05:40:31,381] [OpenBox-SPO] Iteration 505, objective value: [30.212923450220032].\n"
     ]
    },
    {
     "name": "stderr",
     "output_type": "stream",
     "text": [
      "\r",
      " 50%|█████████████████████████████████████▉                                     | 505/1000 [6:10:19<6:03:12, 44.02s/it]"
     ]
    },
    {
     "name": "stdout",
     "output_type": "stream",
     "text": [
      "\t ----- reward: -30.212923450220032 for f_star and f_minus: 25.59089315058253 , 30.212923450220032\n",
      "\t ---------- State is:  (0, 7)\n",
      "[INFO] [2023-03-01 05:40:31,381] [Advisor] Sample random config. rand_prob=0.100000.\n",
      "[INFO] [2023-03-01 05:41:11,167] [OpenBox-SPO] Iteration 506, objective value: [54.49293790432875].\n"
     ]
    },
    {
     "name": "stderr",
     "output_type": "stream",
     "text": [
      "\r",
      " 51%|█████████████████████████████████████▉                                     | 506/1000 [6:10:59<5:51:59, 42.75s/it]"
     ]
    },
    {
     "name": "stdout",
     "output_type": "stream",
     "text": [
      "\t ----- reward: -54.49293790432875 for f_star and f_minus: 25.59089315058253 , 54.49293790432875\n",
      "\t ---------- State is:  (0, 7)\n",
      "[INFO] [2023-03-01 05:41:54,583] [OpenBox-SPO] Iteration 507, objective value: [38.33522885761662].\n"
     ]
    },
    {
     "name": "stderr",
     "output_type": "stream",
     "text": [
      "\r",
      " 51%|██████████████████████████████████████                                     | 507/1000 [6:11:42<5:52:55, 42.95s/it]"
     ]
    },
    {
     "name": "stdout",
     "output_type": "stream",
     "text": [
      "\t ----- reward: -38.33522885761662 for f_star and f_minus: 25.59089315058253 , 38.33522885761662\n",
      "\t ---------- State is:  (0, 7)\n",
      "[INFO] [2023-03-01 05:42:39,245] [OpenBox-SPO] Iteration 508, objective value: [29.394460125153515].\n"
     ]
    },
    {
     "name": "stderr",
     "output_type": "stream",
     "text": [
      "\r",
      " 51%|██████████████████████████████████████                                     | 508/1000 [6:12:27<5:56:24, 43.47s/it]"
     ]
    },
    {
     "name": "stdout",
     "output_type": "stream",
     "text": [
      "\t ----- reward: -29.394460125153515 for f_star and f_minus: 25.59089315058253 , 29.394460125153515\n",
      "\t ---------- State is:  (0, 7)\n",
      "[INFO] [2023-03-01 05:43:23,423] [OpenBox-SPO] Iteration 509, objective value: [37.05842952150809].\n"
     ]
    },
    {
     "name": "stderr",
     "output_type": "stream",
     "text": [
      "\r",
      " 51%|██████████████████████████████████████▏                                    | 509/1000 [6:13:11<5:57:26, 43.68s/it]"
     ]
    },
    {
     "name": "stdout",
     "output_type": "stream",
     "text": [
      "\t ----- reward: -37.05842952150809 for f_star and f_minus: 25.59089315058253 , 37.05842952150809\n",
      "\t ---------- State is:  (1, 9)\n",
      "[INFO] [2023-03-01 05:44:08,523] [OpenBox-SPO] Iteration 510, objective value: [29.17575989574084].\n"
     ]
    },
    {
     "name": "stderr",
     "output_type": "stream",
     "text": [
      "\r",
      " 51%|██████████████████████████████████████▎                                    | 510/1000 [6:13:56<6:00:13, 44.11s/it]"
     ]
    },
    {
     "name": "stdout",
     "output_type": "stream",
     "text": [
      "\t ----- reward: -29.17575989574084 for f_star and f_minus: 25.59089315058253 , 29.17575989574084\n",
      "\t ---------- State is:  (2, 9)\n",
      "[INFO] [2023-03-01 05:44:48,845] [OpenBox-SPO] Iteration 511, objective value: [34.285356331700584].\n"
     ]
    },
    {
     "name": "stderr",
     "output_type": "stream",
     "text": [
      "\r",
      " 51%|██████████████████████████████████████▎                                    | 511/1000 [6:14:37<5:50:11, 42.97s/it]"
     ]
    },
    {
     "name": "stdout",
     "output_type": "stream",
     "text": [
      "\t ----- reward: -34.285356331700584 for f_star and f_minus: 25.59089315058253 , 34.285356331700584\n",
      "\t ---------- State is:  (3, 8)\n",
      "[INFO] [2023-03-01 05:45:33,306] [OpenBox-SPO] Iteration 512, objective value: [28.15592571393674].\n"
     ]
    },
    {
     "name": "stderr",
     "output_type": "stream",
     "text": [
      "\r",
      " 51%|██████████████████████████████████████▍                                    | 512/1000 [6:15:21<5:53:07, 43.42s/it]"
     ]
    },
    {
     "name": "stdout",
     "output_type": "stream",
     "text": [
      "\t ----- reward: -28.15592571393674 for f_star and f_minus: 25.59089315058253 , 28.15592571393674\n",
      "\t ---------- State is:  (2, 7)\n",
      "[INFO] [2023-03-01 05:46:18,673] [OpenBox-SPO] Iteration 513, objective value: [32.04760159757957].\n"
     ]
    },
    {
     "name": "stderr",
     "output_type": "stream",
     "text": [
      "\r",
      " 51%|██████████████████████████████████████▍                                    | 513/1000 [6:16:06<5:57:08, 44.00s/it]"
     ]
    },
    {
     "name": "stdout",
     "output_type": "stream",
     "text": [
      "\t ----- reward: -32.04760159757957 for f_star and f_minus: 25.59089315058253 , 32.04760159757957\n",
      "\t ---------- State is:  (1, 7)\n",
      "[INFO] [2023-03-01 05:47:02,679] [OpenBox-SPO] Iteration 514, objective value: [32.69265501956575].\n"
     ]
    },
    {
     "name": "stderr",
     "output_type": "stream",
     "text": [
      "\r",
      " 51%|██████████████████████████████████████▌                                    | 514/1000 [6:16:50<5:56:25, 44.00s/it]"
     ]
    },
    {
     "name": "stdout",
     "output_type": "stream",
     "text": [
      "\t ----- reward: -32.69265501956575 for f_star and f_minus: 25.59089315058253 , 32.69265501956575\n",
      "\t ---------- State is:  (1, 7)\n",
      "[INFO] [2023-03-01 05:47:47,204] [OpenBox-SPO] Iteration 515, objective value: [32.73823016794094].\n"
     ]
    },
    {
     "name": "stderr",
     "output_type": "stream",
     "text": [
      "\r",
      " 52%|██████████████████████████████████████▋                                    | 515/1000 [6:17:35<5:56:57, 44.16s/it]"
     ]
    },
    {
     "name": "stdout",
     "output_type": "stream",
     "text": [
      "\t ----- reward: -32.73823016794094 for f_star and f_minus: 25.59089315058253 , 32.73823016794094\n",
      "\t ---------- State is:  (0, 7)\n",
      "[INFO] [2023-03-01 05:48:33,346] [OpenBox-SPO] Iteration 516, objective value: [32.5591371711414].\n"
     ]
    },
    {
     "name": "stderr",
     "output_type": "stream",
     "text": [
      "\r",
      " 52%|██████████████████████████████████████▋                                    | 516/1000 [6:18:21<6:01:01, 44.75s/it]"
     ]
    },
    {
     "name": "stdout",
     "output_type": "stream",
     "text": [
      "\t ----- reward: -32.5591371711414 for f_star and f_minus: 25.59089315058253 , 32.5591371711414\n",
      "\t ---------- State is:  (0, 7)\n",
      "[INFO] [2023-03-01 05:49:14,008] [OpenBox-SPO] Iteration 517, objective value: [29.920852377466872].\n"
     ]
    },
    {
     "name": "stderr",
     "output_type": "stream",
     "text": [
      "\r",
      " 52%|██████████████████████████████████████▊                                    | 517/1000 [6:19:02<5:50:23, 43.53s/it]"
     ]
    },
    {
     "name": "stdout",
     "output_type": "stream",
     "text": [
      "\t ----- reward: -29.920852377466872 for f_star and f_minus: 25.59089315058253 , 29.920852377466872\n",
      "\t ---------- State is:  (1, 6)\n",
      "[INFO] [2023-03-01 05:49:59,843] [OpenBox-SPO] Iteration 518, objective value: [30.136815964684487].\n"
     ]
    },
    {
     "name": "stderr",
     "output_type": "stream",
     "text": [
      "\r",
      " 52%|██████████████████████████████████████▊                                    | 518/1000 [6:19:48<5:55:13, 44.22s/it]"
     ]
    },
    {
     "name": "stdout",
     "output_type": "stream",
     "text": [
      "\t ----- reward: -30.136815964684487 for f_star and f_minus: 25.59089315058253 , 30.136815964684487\n",
      "\t ---------- State is:  (1, 6)\n",
      "[INFO] [2023-03-01 05:50:41,880] [OpenBox-SPO] Iteration 519, objective value: [30.595177509909092].\n"
     ]
    },
    {
     "name": "stderr",
     "output_type": "stream",
     "text": [
      "\r",
      " 52%|██████████████████████████████████████▉                                    | 519/1000 [6:20:30<5:49:14, 43.56s/it]"
     ]
    },
    {
     "name": "stdout",
     "output_type": "stream",
     "text": [
      "\t ----- reward: -30.595177509909092 for f_star and f_minus: 25.59089315058253 , 30.595177509909092\n",
      "\t ---------- State is:  (0, 6)\n",
      "[INFO] [2023-03-01 05:51:24,651] [OpenBox-SPO] Iteration 520, objective value: [32.158860576539126].\n"
     ]
    },
    {
     "name": "stderr",
     "output_type": "stream",
     "text": [
      "\r",
      " 52%|███████████████████████████████████████                                    | 520/1000 [6:21:12<5:46:36, 43.33s/it]"
     ]
    },
    {
     "name": "stdout",
     "output_type": "stream",
     "text": [
      "\t ----- reward: -32.158860576539126 for f_star and f_minus: 25.59089315058253 , 32.158860576539126\n",
      "\t ---------- State is:  (1, 6)\n",
      "[INFO] [2023-03-01 05:52:09,189] [OpenBox-SPO] Iteration 521, objective value: [34.1908159230194].\n"
     ]
    },
    {
     "name": "stderr",
     "output_type": "stream",
     "text": [
      "\r",
      " 52%|███████████████████████████████████████                                    | 521/1000 [6:21:57<5:48:47, 43.69s/it]"
     ]
    },
    {
     "name": "stdout",
     "output_type": "stream",
     "text": [
      "\t ----- reward: -34.1908159230194 for f_star and f_minus: 25.59089315058253 , 34.1908159230194\n",
      "\t ---------- State is:  (2, 6)\n",
      "[INFO] [2023-03-01 05:52:49,494] [OpenBox-SPO] Iteration 522, objective value: [32.097731508742484].\n"
     ]
    },
    {
     "name": "stderr",
     "output_type": "stream",
     "text": [
      "\r",
      " 52%|███████████████████████████████████████▏                                   | 522/1000 [6:22:37<5:39:58, 42.67s/it]"
     ]
    },
    {
     "name": "stdout",
     "output_type": "stream",
     "text": [
      "\t ----- reward: -32.097731508742484 for f_star and f_minus: 25.59089315058253 , 32.097731508742484\n",
      "\t ---------- State is:  (1, 6)\n",
      "[INFO] [2023-03-01 05:53:30,266] [OpenBox-SPO] Iteration 523, objective value: [33.04607067407291].\n"
     ]
    },
    {
     "name": "stderr",
     "output_type": "stream",
     "text": [
      "\r",
      " 52%|███████████████████████████████████████▏                                   | 523/1000 [6:23:18<5:34:43, 42.10s/it]"
     ]
    },
    {
     "name": "stdout",
     "output_type": "stream",
     "text": [
      "\t ----- reward: -33.04607067407291 for f_star and f_minus: 25.59089315058253 , 33.04607067407291\n",
      "\t ---------- State is:  (1, 6)\n",
      "[INFO] [2023-03-01 05:54:18,023] [OpenBox-SPO] Iteration 524, objective value: [34.37794419778875].\n"
     ]
    },
    {
     "name": "stderr",
     "output_type": "stream",
     "text": [
      "\r",
      " 52%|███████████████████████████████████████▎                                   | 524/1000 [6:24:06<5:47:28, 43.80s/it]"
     ]
    },
    {
     "name": "stdout",
     "output_type": "stream",
     "text": [
      "\t ----- reward: -34.37794419778875 for f_star and f_minus: 25.59089315058253 , 34.37794419778875\n",
      "\t ---------- State is:  (0, 6)\n",
      "[INFO] [2023-03-01 05:55:03,467] [OpenBox-SPO] Iteration 525, objective value: [29.518164382324514].\n"
     ]
    },
    {
     "name": "stderr",
     "output_type": "stream",
     "text": [
      "\r",
      " 52%|███████████████████████████████████████▍                                   | 525/1000 [6:24:51<5:50:39, 44.29s/it]"
     ]
    },
    {
     "name": "stdout",
     "output_type": "stream",
     "text": [
      "\t ----- reward: -29.518164382324514 for f_star and f_minus: 25.59089315058253 , 29.518164382324514\n",
      "\t ---------- State is:  (0, 6)\n",
      "[INFO] [2023-03-01 05:55:42,138] [OpenBox-SPO] Iteration 526, objective value: [44.98451908828122].\n"
     ]
    },
    {
     "name": "stderr",
     "output_type": "stream",
     "text": [
      "\r",
      " 53%|███████████████████████████████████████▍                                   | 526/1000 [6:25:30<5:36:35, 42.61s/it]"
     ]
    },
    {
     "name": "stdout",
     "output_type": "stream",
     "text": [
      "\t ----- reward: -44.98451908828122 for f_star and f_minus: 25.59089315058253 , 44.98451908828122\n",
      "\t ---------- State is:  (0, 6)\n",
      "[INFO] [2023-03-01 05:55:42,138] [Advisor] Sample random config. rand_prob=0.100000.\n",
      "[INFO] [2023-03-01 05:56:15,063] [OpenBox-SPO] Iteration 527, objective value: [56.47585714868611].\n"
     ]
    },
    {
     "name": "stderr",
     "output_type": "stream",
     "text": [
      "\r",
      " 53%|███████████████████████████████████████▌                                   | 527/1000 [6:26:03<5:12:59, 39.70s/it]"
     ]
    },
    {
     "name": "stdout",
     "output_type": "stream",
     "text": [
      "\t ----- reward: -56.47585714868611 for f_star and f_minus: 25.59089315058253 , 56.47585714868611\n",
      "\t ---------- State is:  (0, 6)\n",
      "[INFO] [2023-03-01 05:56:59,338] [OpenBox-SPO] Iteration 528, objective value: [36.20804875571449].\n"
     ]
    },
    {
     "name": "stderr",
     "output_type": "stream",
     "text": [
      "\r",
      " 53%|███████████████████████████████████████▌                                   | 528/1000 [6:26:47<5:23:06, 41.07s/it]"
     ]
    },
    {
     "name": "stdout",
     "output_type": "stream",
     "text": [
      "\t ----- reward: -36.20804875571449 for f_star and f_minus: 25.59089315058253 , 36.20804875571449\n",
      "\t ---------- State is:  (1, 7)\n",
      "[INFO] [2023-03-01 05:57:45,674] [OpenBox-SPO] Iteration 529, objective value: [39.261750433739195].\n"
     ]
    },
    {
     "name": "stderr",
     "output_type": "stream",
     "text": [
      "\r",
      " 53%|███████████████████████████████████████▋                                   | 529/1000 [6:27:33<5:34:49, 42.65s/it]"
     ]
    },
    {
     "name": "stdout",
     "output_type": "stream",
     "text": [
      "\t ----- reward: -39.261750433739195 for f_star and f_minus: 25.59089315058253 , 39.261750433739195\n",
      "\t ---------- State is:  (2, 7)\n",
      "[INFO] [2023-03-01 05:57:45,689] [Advisor] Sample random config. rand_prob=0.100000.\n",
      "[INFO] [2023-03-01 05:58:21,366] [OpenBox-SPO] Iteration 530, objective value: [46.06163562152466].\n"
     ]
    },
    {
     "name": "stderr",
     "output_type": "stream",
     "text": [
      "\r",
      " 53%|███████████████████████████████████████▊                                   | 530/1000 [6:28:09<5:17:45, 40.56s/it]"
     ]
    },
    {
     "name": "stdout",
     "output_type": "stream",
     "text": [
      "\t ----- reward: -46.06163562152466 for f_star and f_minus: 25.59089315058253 , 46.06163562152466\n",
      "\t ---------- State is:  (3, 7)\n",
      "[INFO] [2023-03-01 05:59:05,971] [OpenBox-SPO] Iteration 531, objective value: [34.65285221545072].\n"
     ]
    },
    {
     "name": "stderr",
     "output_type": "stream",
     "text": [
      "\r",
      " 53%|███████████████████████████████████████▊                                   | 531/1000 [6:28:54<5:26:33, 41.78s/it]"
     ]
    },
    {
     "name": "stdout",
     "output_type": "stream",
     "text": [
      "\t ----- reward: -34.65285221545072 for f_star and f_minus: 25.59089315058253 , 34.65285221545072\n",
      "\t ---------- State is:  (2, 7)\n",
      "[INFO] [2023-03-01 05:59:53,653] [OpenBox-SPO] Iteration 532, objective value: [27.66439721417602].\n"
     ]
    },
    {
     "name": "stderr",
     "output_type": "stream",
     "text": [
      "\r",
      " 53%|███████████████████████████████████████▉                                   | 532/1000 [6:29:41<5:39:40, 43.55s/it]"
     ]
    },
    {
     "name": "stdout",
     "output_type": "stream",
     "text": [
      "\t ----- reward: -27.66439721417602 for f_star and f_minus: 25.59089315058253 , 27.66439721417602\n",
      "\t ---------- State is:  (2, 7)\n",
      "[INFO] [2023-03-01 06:00:37,297] [OpenBox-SPO] Iteration 533, objective value: [30.62504885285638].\n"
     ]
    },
    {
     "name": "stderr",
     "output_type": "stream",
     "text": [
      "\r",
      " 53%|███████████████████████████████████████▉                                   | 533/1000 [6:30:25<5:39:10, 43.58s/it]"
     ]
    },
    {
     "name": "stdout",
     "output_type": "stream",
     "text": [
      "\t ----- reward: -30.62504885285638 for f_star and f_minus: 25.59089315058253 , 30.62504885285638\n",
      "\t ---------- State is:  (1, 7)\n",
      "[INFO] [2023-03-01 06:01:22,402] [OpenBox-SPO] Iteration 534, objective value: [43.399763014058124].\n"
     ]
    },
    {
     "name": "stderr",
     "output_type": "stream",
     "text": [
      "\r",
      " 53%|████████████████████████████████████████                                   | 534/1000 [6:31:10<5:42:00, 44.04s/it]"
     ]
    },
    {
     "name": "stdout",
     "output_type": "stream",
     "text": [
      "\t ----- reward: -43.399763014058124 for f_star and f_minus: 25.59089315058253 , 43.399763014058124\n",
      "\t ---------- State is:  (1, 7)\n",
      "[INFO] [2023-03-01 06:02:04,072] [OpenBox-SPO] Iteration 535, objective value: [36.65251369622238].\n"
     ]
    },
    {
     "name": "stderr",
     "output_type": "stream",
     "text": [
      "\r",
      " 54%|████████████████████████████████████████▏                                  | 535/1000 [6:31:52<5:35:46, 43.33s/it]"
     ]
    },
    {
     "name": "stdout",
     "output_type": "stream",
     "text": [
      "\t ----- reward: -36.65251369622238 for f_star and f_minus: 25.59089315058253 , 36.65251369622238\n",
      "\t ---------- State is:  (0, 8)\n",
      "[INFO] [2023-03-01 06:02:53,702] [OpenBox-SPO] Iteration 536, objective value: [31.39769148487278].\n"
     ]
    },
    {
     "name": "stderr",
     "output_type": "stream",
     "text": [
      "\r",
      " 54%|████████████████████████████████████████▏                                  | 536/1000 [6:32:41<5:49:40, 45.22s/it]"
     ]
    },
    {
     "name": "stdout",
     "output_type": "stream",
     "text": [
      "\t ----- reward: -31.39769148487278 for f_star and f_minus: 25.59089315058253 , 31.39769148487278\n",
      "\t ---------- State is:  (0, 8)\n",
      "[INFO] [2023-03-01 06:03:35,597] [OpenBox-SPO] Iteration 537, objective value: [32.79224133972809].\n"
     ]
    },
    {
     "name": "stderr",
     "output_type": "stream",
     "text": [
      "\r",
      " 54%|████████████████████████████████████████▎                                  | 537/1000 [6:33:23<5:41:14, 44.22s/it]"
     ]
    },
    {
     "name": "stdout",
     "output_type": "stream",
     "text": [
      "\t ----- reward: -32.79224133972809 for f_star and f_minus: 25.59089315058253 , 32.79224133972809\n",
      "\t ---------- State is:  (1, 8)\n",
      "[INFO] [2023-03-01 06:04:15,446] [OpenBox-SPO] Iteration 538, objective value: [42.12008941136383].\n"
     ]
    },
    {
     "name": "stderr",
     "output_type": "stream",
     "text": [
      "\r",
      " 54%|████████████████████████████████████████▎                                  | 538/1000 [6:34:03<5:30:23, 42.91s/it]"
     ]
    },
    {
     "name": "stdout",
     "output_type": "stream",
     "text": [
      "\t ----- reward: -42.12008941136383 for f_star and f_minus: 25.59089315058253 , 42.12008941136383\n",
      "\t ---------- State is:  (0, 8)\n",
      "[INFO] [2023-03-01 06:04:57,893] [OpenBox-SPO] Iteration 539, objective value: [36.39637613204438].\n"
     ]
    },
    {
     "name": "stderr",
     "output_type": "stream",
     "text": [
      "\r",
      " 54%|████████████████████████████████████████▍                                  | 539/1000 [6:34:46<5:28:37, 42.77s/it]"
     ]
    },
    {
     "name": "stdout",
     "output_type": "stream",
     "text": [
      "\t ----- reward: -36.39637613204438 for f_star and f_minus: 25.59089315058253 , 36.39637613204438\n",
      "\t ---------- State is:  (0, 8)\n",
      "[INFO] [2023-03-01 06:05:40,289] [OpenBox-SPO] Iteration 540, objective value: [32.14030955770504].\n"
     ]
    },
    {
     "name": "stderr",
     "output_type": "stream",
     "text": [
      "\r",
      " 54%|████████████████████████████████████████▌                                  | 540/1000 [6:35:28<5:27:02, 42.66s/it]"
     ]
    },
    {
     "name": "stdout",
     "output_type": "stream",
     "text": [
      "\t ----- reward: -32.14030955770504 for f_star and f_minus: 25.59089315058253 , 32.14030955770504\n",
      "\t ---------- State is:  (0, 8)\n",
      "[INFO] [2023-03-01 06:06:26,265] [OpenBox-SPO] Iteration 541, objective value: [37.82986457156009].\n"
     ]
    },
    {
     "name": "stderr",
     "output_type": "stream",
     "text": [
      "\r",
      " 54%|████████████████████████████████████████▌                                  | 541/1000 [6:36:14<5:33:56, 43.65s/it]"
     ]
    },
    {
     "name": "stdout",
     "output_type": "stream",
     "text": [
      "\t ----- reward: -37.82986457156009 for f_star and f_minus: 25.59089315058253 , 37.82986457156009\n",
      "\t ---------- State is:  (1, 9)\n",
      "[INFO] [2023-03-01 06:07:11,895] [OpenBox-SPO] Iteration 542, objective value: [33.84155911523298].\n"
     ]
    },
    {
     "name": "stderr",
     "output_type": "stream",
     "text": [
      "\r",
      " 54%|████████████████████████████████████████▋                                  | 542/1000 [6:37:00<5:37:44, 44.25s/it]"
     ]
    },
    {
     "name": "stdout",
     "output_type": "stream",
     "text": [
      "\t ----- reward: -33.84155911523298 for f_star and f_minus: 25.59089315058253 , 33.84155911523298\n",
      "\t ---------- State is:  (0, 9)\n",
      "[INFO] [2023-03-01 06:08:01,312] [OpenBox-SPO] Iteration 543, objective value: [39.99085119970459].\n"
     ]
    },
    {
     "name": "stderr",
     "output_type": "stream",
     "text": [
      "\r",
      " 54%|████████████████████████████████████████▋                                  | 543/1000 [6:37:49<5:48:49, 45.80s/it]"
     ]
    },
    {
     "name": "stdout",
     "output_type": "stream",
     "text": [
      "\t ----- reward: -39.99085119970459 for f_star and f_minus: 25.59089315058253 , 39.99085119970459\n",
      "\t ---------- State is:  (0, 10)\n",
      "[INFO] [2023-03-01 06:08:43,583] [OpenBox-SPO] Iteration 544, objective value: [34.65396995995013].\n"
     ]
    },
    {
     "name": "stderr",
     "output_type": "stream",
     "text": [
      "\r",
      " 54%|████████████████████████████████████████▊                                  | 544/1000 [6:38:31<5:40:01, 44.74s/it]"
     ]
    },
    {
     "name": "stdout",
     "output_type": "stream",
     "text": [
      "\t ----- reward: -34.65396995995013 for f_star and f_minus: 25.59089315058253 , 34.65396995995013\n",
      "\t ---------- State is:  (0, 10)\n",
      "[INFO] [2023-03-01 06:09:23,040] [OpenBox-SPO] Iteration 545, objective value: [34.459397191545634].\n"
     ]
    },
    {
     "name": "stderr",
     "output_type": "stream",
     "text": [
      "\r",
      " 55%|████████████████████████████████████████▉                                  | 545/1000 [6:39:11<5:27:15, 43.15s/it]"
     ]
    },
    {
     "name": "stdout",
     "output_type": "stream",
     "text": [
      "\t ----- reward: -34.459397191545634 for f_star and f_minus: 25.59089315058253 , 34.459397191545634\n",
      "\t ---------- State is:  (1, 10)\n",
      "[INFO] [2023-03-01 06:10:03,758] [OpenBox-SPO] Iteration 546, objective value: [30.41329189088009].\n"
     ]
    },
    {
     "name": "stderr",
     "output_type": "stream",
     "text": [
      "\r",
      " 55%|████████████████████████████████████████▉                                  | 546/1000 [6:39:52<5:21:00, 42.42s/it]"
     ]
    },
    {
     "name": "stdout",
     "output_type": "stream",
     "text": [
      "\t ----- reward: -30.41329189088009 for f_star and f_minus: 25.59089315058253 , 30.41329189088009\n",
      "\t ---------- State is:  (0, 9)\n",
      "[INFO] [2023-03-01 06:10:03,758] [Advisor] Sample random config. rand_prob=0.100000.\n",
      "[INFO] [2023-03-01 06:10:33,951] [OpenBox-SPO] Iteration 547, objective value: [54.56445087421756].\n"
     ]
    },
    {
     "name": "stderr",
     "output_type": "stream",
     "text": [
      "\r",
      " 55%|█████████████████████████████████████████                                  | 547/1000 [6:40:22<4:52:35, 38.75s/it]"
     ]
    },
    {
     "name": "stdout",
     "output_type": "stream",
     "text": [
      "\t ----- reward: -54.56445087421756 for f_star and f_minus: 25.59089315058253 , 54.56445087421756\n",
      "\t ---------- State is:  (0, 9)\n",
      "[INFO] [2023-03-01 06:11:18,738] [OpenBox-SPO] Iteration 548, objective value: [40.7845509800156].\n"
     ]
    },
    {
     "name": "stderr",
     "output_type": "stream",
     "text": [
      "\r",
      " 55%|█████████████████████████████████████████                                  | 548/1000 [6:41:07<5:05:35, 40.56s/it]"
     ]
    },
    {
     "name": "stdout",
     "output_type": "stream",
     "text": [
      "\t ----- reward: -40.7845509800156 for f_star and f_minus: 25.59089315058253 , 40.7845509800156\n",
      "\t ---------- State is:  (1, 9)\n",
      "[INFO] [2023-03-01 06:12:03,119] [OpenBox-SPO] Iteration 549, objective value: [33.92667155591573].\n"
     ]
    },
    {
     "name": "stderr",
     "output_type": "stream",
     "text": [
      "\r",
      " 55%|█████████████████████████████████████████▏                                 | 549/1000 [6:41:51<5:13:30, 41.71s/it]"
     ]
    },
    {
     "name": "stdout",
     "output_type": "stream",
     "text": [
      "\t ----- reward: -33.92667155591573 for f_star and f_minus: 25.59089315058253 , 33.92667155591573\n",
      "\t ---------- State is:  (0, 9)\n",
      "[INFO] [2023-03-01 06:12:46,402] [OpenBox-SPO] Iteration 550, objective value: [39.171896263129].\n"
     ]
    },
    {
     "name": "stderr",
     "output_type": "stream",
     "text": [
      "\r",
      " 55%|█████████████████████████████████████████▎                                 | 550/1000 [6:42:34<5:16:21, 42.18s/it]"
     ]
    },
    {
     "name": "stdout",
     "output_type": "stream",
     "text": [
      "\t ----- reward: -39.171896263129 for f_star and f_minus: 25.59089315058253 , 39.171896263129\n",
      "\t ---------- State is:  (0, 9)\n",
      "[INFO] [2023-03-01 06:13:25,845] [OpenBox-SPO] Iteration 551, objective value: [32.91658204674734].\n"
     ]
    },
    {
     "name": "stderr",
     "output_type": "stream",
     "text": [
      "\r",
      " 55%|█████████████████████████████████████████▎                                 | 551/1000 [6:43:14<5:09:30, 41.36s/it]"
     ]
    },
    {
     "name": "stdout",
     "output_type": "stream",
     "text": [
      "\t ----- reward: -32.91658204674734 for f_star and f_minus: 25.59089315058253 , 32.91658204674734\n",
      "\t ---------- State is:  (1, 8)\n",
      "[INFO] [2023-03-01 06:14:13,353] [OpenBox-SPO] Iteration 552, objective value: [38.39416393147002].\n"
     ]
    },
    {
     "name": "stderr",
     "output_type": "stream",
     "text": [
      "\r",
      " 55%|█████████████████████████████████████████▍                                 | 552/1000 [6:44:01<5:22:35, 43.20s/it]"
     ]
    },
    {
     "name": "stdout",
     "output_type": "stream",
     "text": [
      "\t ----- reward: -38.39416393147002 for f_star and f_minus: 25.59089315058253 , 38.39416393147002\n",
      "\t ---------- State is:  (2, 9)\n",
      "[INFO] [2023-03-01 06:14:56,705] [OpenBox-SPO] Iteration 553, objective value: [35.01430686544754].\n"
     ]
    },
    {
     "name": "stderr",
     "output_type": "stream",
     "text": [
      "\r",
      " 55%|█████████████████████████████████████████▍                                 | 553/1000 [6:44:44<5:22:12, 43.25s/it]"
     ]
    },
    {
     "name": "stdout",
     "output_type": "stream",
     "text": [
      "\t ----- reward: -35.01430686544754 for f_star and f_minus: 25.59089315058253 , 35.01430686544754\n",
      "\t ---------- State is:  (1, 10)\n",
      "[INFO] [2023-03-01 06:15:40,423] [OpenBox-SPO] Iteration 554, objective value: [35.37350330582288].\n"
     ]
    },
    {
     "name": "stderr",
     "output_type": "stream",
     "text": [
      "\r",
      " 55%|█████████████████████████████████████████▌                                 | 554/1000 [6:45:28<5:22:31, 43.39s/it]"
     ]
    },
    {
     "name": "stdout",
     "output_type": "stream",
     "text": [
      "\t ----- reward: -35.37350330582288 for f_star and f_minus: 25.59089315058253 , 35.37350330582288\n",
      "\t ---------- State is:  (1, 9)\n",
      "[INFO] [2023-03-01 06:16:23,882] [OpenBox-SPO] Iteration 555, objective value: [38.01378642218653].\n"
     ]
    },
    {
     "name": "stderr",
     "output_type": "stream",
     "text": [
      "\r",
      " 56%|█████████████████████████████████████████▋                                 | 555/1000 [6:46:12<5:21:57, 43.41s/it]"
     ]
    },
    {
     "name": "stdout",
     "output_type": "stream",
     "text": [
      "\t ----- reward: -38.01378642218653 for f_star and f_minus: 25.59089315058253 , 38.01378642218653\n",
      "\t ---------- State is:  (1, 9)\n",
      "[INFO] [2023-03-01 06:17:03,472] [OpenBox-SPO] Iteration 556, objective value: [30.92761448077225].\n"
     ]
    },
    {
     "name": "stderr",
     "output_type": "stream",
     "text": [
      "\r",
      " 56%|█████████████████████████████████████████▋                                 | 556/1000 [6:46:51<5:12:45, 42.26s/it]"
     ]
    },
    {
     "name": "stdout",
     "output_type": "stream",
     "text": [
      "\t ----- reward: -30.92761448077225 for f_star and f_minus: 25.59089315058253 , 30.92761448077225\n",
      "\t ---------- State is:  (2, 9)\n",
      "[INFO] [2023-03-01 06:17:42,778] [OpenBox-SPO] Iteration 557, objective value: [37.161298588742866].\n"
     ]
    },
    {
     "name": "stderr",
     "output_type": "stream",
     "text": [
      "\r",
      " 56%|█████████████████████████████████████████▊                                 | 557/1000 [6:47:31<5:05:29, 41.38s/it]"
     ]
    },
    {
     "name": "stdout",
     "output_type": "stream",
     "text": [
      "\t ----- reward: -37.161298588742866 for f_star and f_minus: 25.59089315058253 , 37.161298588742866\n",
      "\t ---------- State is:  (3, 10)\n",
      "[INFO] [2023-03-01 06:18:25,845] [OpenBox-SPO] Iteration 558, objective value: [32.966754796733454].\n"
     ]
    },
    {
     "name": "stderr",
     "output_type": "stream",
     "text": [
      "\r",
      " 56%|█████████████████████████████████████████▊                                 | 558/1000 [6:48:14<5:08:32, 41.88s/it]"
     ]
    },
    {
     "name": "stdout",
     "output_type": "stream",
     "text": [
      "\t ----- reward: -32.966754796733454 for f_star and f_minus: 25.59089315058253 , 32.966754796733454\n",
      "\t ---------- State is:  (4, 9)\n",
      "[INFO] [2023-03-01 06:19:12,101] [OpenBox-SPO] Iteration 559, objective value: [34.12989913001809].\n"
     ]
    },
    {
     "name": "stderr",
     "output_type": "stream",
     "text": [
      "\r",
      " 56%|█████████████████████████████████████████▉                                 | 559/1000 [6:49:00<5:17:29, 43.20s/it]"
     ]
    },
    {
     "name": "stdout",
     "output_type": "stream",
     "text": [
      "\t ----- reward: -34.12989913001809 for f_star and f_minus: 25.59089315058253 , 34.12989913001809\n",
      "\t ---------- State is:  (4, 9)\n",
      "[INFO] [2023-03-01 06:19:53,610] [OpenBox-SPO] Iteration 560, objective value: [32.45338021391926].\n"
     ]
    },
    {
     "name": "stderr",
     "output_type": "stream",
     "text": [
      "\r",
      " 56%|██████████████████████████████████████████                                 | 560/1000 [6:49:41<5:13:03, 42.69s/it]"
     ]
    },
    {
     "name": "stdout",
     "output_type": "stream",
     "text": [
      "\t ----- reward: -32.45338021391926 for f_star and f_minus: 25.59089315058253 , 32.45338021391926\n",
      "\t ---------- State is:  (3, 9)\n",
      "[INFO] [2023-03-01 06:20:34,537] [OpenBox-SPO] Iteration 561, objective value: [33.64630741036116].\n"
     ]
    },
    {
     "name": "stderr",
     "output_type": "stream",
     "text": [
      "\r",
      " 56%|██████████████████████████████████████████                                 | 561/1000 [6:50:22<5:08:28, 42.16s/it]"
     ]
    },
    {
     "name": "stdout",
     "output_type": "stream",
     "text": [
      "\t ----- reward: -33.64630741036116 for f_star and f_minus: 25.59089315058253 , 33.64630741036116\n",
      "\t ---------- State is:  (4, 8)\n",
      "[INFO] [2023-03-01 06:21:14,853] [OpenBox-SPO] Iteration 562, objective value: [33.15278587747832].\n"
     ]
    },
    {
     "name": "stderr",
     "output_type": "stream",
     "text": [
      "\r",
      " 56%|██████████████████████████████████████████▏                                | 562/1000 [6:51:03<5:03:44, 41.61s/it]"
     ]
    },
    {
     "name": "stdout",
     "output_type": "stream",
     "text": [
      "\t ----- reward: -33.15278587747832 for f_star and f_minus: 25.59089315058253 , 33.15278587747832\n",
      "\t ---------- State is:  (4, 8)\n",
      "[INFO] [2023-03-01 06:21:58,614] [OpenBox-SPO] Iteration 563, objective value: [29.118731374811517].\n"
     ]
    },
    {
     "name": "stderr",
     "output_type": "stream",
     "text": [
      "\r",
      " 56%|██████████████████████████████████████████▏                                | 563/1000 [6:51:46<5:07:44, 42.25s/it]"
     ]
    },
    {
     "name": "stdout",
     "output_type": "stream",
     "text": [
      "\t ----- reward: -29.118731374811517 for f_star and f_minus: 25.59089315058253 , 29.118731374811517\n",
      "\t ---------- State is:  (5, 8)\n",
      "[INFO] [2023-03-01 06:22:44,089] [OpenBox-SPO] Iteration 564, objective value: [32.77316209450569].\n"
     ]
    },
    {
     "name": "stderr",
     "output_type": "stream",
     "text": [
      "\r",
      " 56%|██████████████████████████████████████████▎                                | 564/1000 [6:52:32<5:14:03, 43.22s/it]"
     ]
    },
    {
     "name": "stdout",
     "output_type": "stream",
     "text": [
      "\t ----- reward: -32.77316209450569 for f_star and f_minus: 25.59089315058253 , 32.77316209450569\n",
      "\t ---------- State is:  (6, 8)\n",
      "[INFO] [2023-03-01 06:23:28,861] [OpenBox-SPO] Iteration 565, objective value: [31.55726138027282].\n"
     ]
    },
    {
     "name": "stderr",
     "output_type": "stream",
     "text": [
      "\r",
      " 56%|██████████████████████████████████████████▎                                | 565/1000 [6:53:17<5:16:43, 43.69s/it]"
     ]
    },
    {
     "name": "stdout",
     "output_type": "stream",
     "text": [
      "\t ----- reward: -31.55726138027282 for f_star and f_minus: 25.59089315058253 , 31.55726138027282\n",
      "\t ---------- State is:  (5, 8)\n",
      "[INFO] [2023-03-01 06:24:16,163] [OpenBox-SPO] Iteration 566, objective value: [36.344028721876995].\n"
     ]
    },
    {
     "name": "stderr",
     "output_type": "stream",
     "text": [
      "\r",
      " 57%|██████████████████████████████████████████▍                                | 566/1000 [6:54:04<5:23:50, 44.77s/it]"
     ]
    },
    {
     "name": "stdout",
     "output_type": "stream",
     "text": [
      "\t ----- reward: -36.344028721876995 for f_star and f_minus: 25.59089315058253 , 36.344028721876995\n",
      "\t ---------- State is:  (5, 8)\n",
      "[INFO] [2023-03-01 06:25:02,172] [OpenBox-SPO] Iteration 567, objective value: [29.78890057060211].\n"
     ]
    },
    {
     "name": "stderr",
     "output_type": "stream",
     "text": [
      "\r",
      " 57%|██████████████████████████████████████████▌                                | 567/1000 [6:54:50<5:25:46, 45.14s/it]"
     ]
    },
    {
     "name": "stdout",
     "output_type": "stream",
     "text": [
      "\t ----- reward: -29.78890057060211 for f_star and f_minus: 25.59089315058253 , 29.78890057060211\n",
      "\t ---------- State is:  (6, 8)\n",
      "[INFO] [2023-03-01 06:25:46,990] [OpenBox-SPO] Iteration 568, objective value: [32.87867598465226].\n"
     ]
    },
    {
     "name": "stderr",
     "output_type": "stream",
     "text": [
      "\r",
      " 57%|██████████████████████████████████████████▌                                | 568/1000 [6:55:35<5:24:19, 45.04s/it]"
     ]
    },
    {
     "name": "stdout",
     "output_type": "stream",
     "text": [
      "\t ----- reward: -32.87867598465226 for f_star and f_minus: 25.59089315058253 , 32.87867598465226\n",
      "\t ---------- State is:  (7, 7)\n",
      "[INFO] [2023-03-01 06:26:34,558] [OpenBox-SPO] Iteration 569, objective value: [32.37639588273005].\n"
     ]
    },
    {
     "name": "stderr",
     "output_type": "stream",
     "text": [
      "\r",
      " 57%|██████████████████████████████████████████▋                                | 569/1000 [6:56:22<5:29:00, 45.80s/it]"
     ]
    },
    {
     "name": "stdout",
     "output_type": "stream",
     "text": [
      "\t ----- reward: -32.37639588273005 for f_star and f_minus: 25.59089315058253 , 32.37639588273005\n",
      "\t ---------- State is:  (8, 7)\n",
      "[INFO] [2023-03-01 06:27:16,203] [OpenBox-SPO] Iteration 570, objective value: [30.186272313718533].\n"
     ]
    },
    {
     "name": "stderr",
     "output_type": "stream",
     "text": [
      "\r",
      " 57%|██████████████████████████████████████████▋                                | 570/1000 [6:57:04<5:19:18, 44.55s/it]"
     ]
    },
    {
     "name": "stdout",
     "output_type": "stream",
     "text": [
      "\t ----- reward: -30.186272313718533 for f_star and f_minus: 25.59089315058253 , 30.186272313718533\n",
      "\t ---------- State is:  (9, 7)\n",
      "[INFO] [2023-03-01 06:27:16,203] [Advisor] Sample random config. rand_prob=0.100000.\n",
      "[INFO] [2023-03-01 06:27:41,772] [OpenBox-SPO] Iteration 571, objective value: [60.71906529012017].\n"
     ]
    },
    {
     "name": "stderr",
     "output_type": "stream",
     "text": [
      "\r",
      " 57%|██████████████████████████████████████████▊                                | 571/1000 [6:57:30<4:37:50, 38.86s/it]"
     ]
    },
    {
     "name": "stdout",
     "output_type": "stream",
     "text": [
      "\t ----- reward: -60.71906529012017 for f_star and f_minus: 25.59089315058253 , 60.71906529012017\n",
      "\t ---------- State is:  (8, 7)\n",
      "[INFO] [2023-03-01 06:27:41,772] [Advisor] Sample random config. rand_prob=0.100000.\n",
      "[INFO] [2023-03-01 06:28:12,494] [OpenBox-SPO] Iteration 572, objective value: [60.68376808798269].\n"
     ]
    },
    {
     "name": "stderr",
     "output_type": "stream",
     "text": [
      "\r",
      " 57%|██████████████████████████████████████████▉                                | 572/1000 [6:58:00<4:19:46, 36.42s/it]"
     ]
    },
    {
     "name": "stdout",
     "output_type": "stream",
     "text": [
      "\t ----- reward: -60.68376808798269 for f_star and f_minus: 25.59089315058253 , 60.68376808798269\n",
      "\t ---------- State is:  (8, 7)\n",
      "[INFO] [2023-03-01 06:28:59,253] [OpenBox-SPO] Iteration 573, objective value: [34.48565410128572].\n"
     ]
    },
    {
     "name": "stderr",
     "output_type": "stream",
     "text": [
      "\r",
      " 57%|██████████████████████████████████████████▉                                | 573/1000 [6:58:47<4:41:15, 39.52s/it]"
     ]
    },
    {
     "name": "stdout",
     "output_type": "stream",
     "text": [
      "\t ----- reward: -34.48565410128572 for f_star and f_minus: 25.59089315058253 , 34.48565410128572\n",
      "\t ---------- State is:  (7, 7)\n",
      "[INFO] [2023-03-01 06:29:43,903] [OpenBox-SPO] Iteration 574, objective value: [39.10457930060628].\n"
     ]
    },
    {
     "name": "stderr",
     "output_type": "stream",
     "text": [
      "\r",
      " 57%|███████████████████████████████████████████                                | 574/1000 [6:59:32<4:51:31, 41.06s/it]"
     ]
    },
    {
     "name": "stdout",
     "output_type": "stream",
     "text": [
      "\t ----- reward: -39.10457930060628 for f_star and f_minus: 25.59089315058253 , 39.10457930060628\n",
      "\t ---------- State is:  (7, 7)\n",
      "[INFO] [2023-03-01 06:29:43,903] [Advisor] Sample random config. rand_prob=0.100000.\n",
      "[INFO] [2023-03-01 06:30:18,693] [OpenBox-SPO] Iteration 575, objective value: [54.69740530419675].\n"
     ]
    },
    {
     "name": "stderr",
     "output_type": "stream",
     "text": [
      "\r",
      " 57%|███████████████████████████████████████████▏                               | 575/1000 [7:00:06<4:37:30, 39.18s/it]"
     ]
    },
    {
     "name": "stdout",
     "output_type": "stream",
     "text": [
      "\t ----- reward: -54.69740530419675 for f_star and f_minus: 25.59089315058253 , 54.69740530419675\n",
      "\t ---------- State is:  (6, 7)\n",
      "[INFO] [2023-03-01 06:31:06,513] [OpenBox-SPO] Iteration 576, objective value: [36.144351780011576].\n"
     ]
    },
    {
     "name": "stderr",
     "output_type": "stream",
     "text": [
      "\r",
      " 58%|███████████████████████████████████████████▏                               | 576/1000 [7:00:54<4:55:10, 41.77s/it]"
     ]
    },
    {
     "name": "stdout",
     "output_type": "stream",
     "text": [
      "\t ----- reward: -36.144351780011576 for f_star and f_minus: 25.59089315058253 , 36.144351780011576\n",
      "\t ---------- State is:  (7, 7)\n",
      "[INFO] [2023-03-01 06:31:52,963] [OpenBox-SPO] Iteration 577, objective value: [32.26937892289561].\n"
     ]
    },
    {
     "name": "stderr",
     "output_type": "stream",
     "text": [
      "\r",
      " 58%|███████████████████████████████████████████▎                               | 577/1000 [7:01:41<5:04:22, 43.17s/it]"
     ]
    },
    {
     "name": "stdout",
     "output_type": "stream",
     "text": [
      "\t ----- reward: -32.26937892289561 for f_star and f_minus: 25.59089315058253 , 32.26937892289561\n",
      "\t ---------- State is:  (8, 7)\n",
      "[INFO] [2023-03-01 06:32:34,844] [OpenBox-SPO] Iteration 578, objective value: [31.034518810185347].\n"
     ]
    },
    {
     "name": "stderr",
     "output_type": "stream",
     "text": [
      "\r",
      " 58%|███████████████████████████████████████████▎                               | 578/1000 [7:02:23<5:00:55, 42.79s/it]"
     ]
    },
    {
     "name": "stdout",
     "output_type": "stream",
     "text": [
      "\t ----- reward: -31.034518810185347 for f_star and f_minus: 25.59089315058253 , 31.034518810185347\n",
      "\t ---------- State is:  (9, 7)\n",
      "[INFO] [2023-03-01 06:33:19,665] [OpenBox-SPO] Iteration 579, objective value: [26.517738481357725].\n"
     ]
    },
    {
     "name": "stderr",
     "output_type": "stream",
     "text": [
      "\r",
      " 58%|███████████████████████████████████████████▍                               | 579/1000 [7:03:07<5:04:30, 43.40s/it]"
     ]
    },
    {
     "name": "stdout",
     "output_type": "stream",
     "text": [
      "\t ----- reward: -26.517738481357725 for f_star and f_minus: 25.59089315058253 , 26.517738481357725\n",
      "\t ---------- State is:  (9, 7)\n",
      "[INFO] [2023-03-01 06:34:05,438] [OpenBox-SPO] Iteration 580, objective value: [27.12052233213663].\n"
     ]
    },
    {
     "name": "stderr",
     "output_type": "stream",
     "text": [
      "\r",
      " 58%|███████████████████████████████████████████▌                               | 580/1000 [7:03:53<5:08:46, 44.11s/it]"
     ]
    },
    {
     "name": "stdout",
     "output_type": "stream",
     "text": [
      "\t ----- reward: -27.12052233213663 for f_star and f_minus: 25.59089315058253 , 27.12052233213663\n",
      "\t ---------- State is:  (10, 7)\n",
      "[INFO] [2023-03-01 06:34:05,438] [Advisor] Sample random config. rand_prob=0.100000.\n",
      "[INFO] [2023-03-01 06:34:44,071] [OpenBox-SPO] Iteration 581, objective value: [54.79101123661311].\n"
     ]
    },
    {
     "name": "stderr",
     "output_type": "stream",
     "text": [
      "\r",
      " 58%|███████████████████████████████████████████▌                               | 581/1000 [7:04:32<4:56:33, 42.47s/it]"
     ]
    },
    {
     "name": "stdout",
     "output_type": "stream",
     "text": [
      "\t ----- reward: -54.79101123661311 for f_star and f_minus: 25.59089315058253 , 54.79101123661311\n",
      "\t ---------- State is:  (10, 7)\n",
      "[INFO] [2023-03-01 06:35:25,529] [OpenBox-SPO] Iteration 582, objective value: [36.55139565711364].\n"
     ]
    },
    {
     "name": "stderr",
     "output_type": "stream",
     "text": [
      "\r",
      " 58%|███████████████████████████████████████████▋                               | 582/1000 [7:05:13<4:53:44, 42.16s/it]"
     ]
    },
    {
     "name": "stdout",
     "output_type": "stream",
     "text": [
      "\t ----- reward: -36.55139565711364 for f_star and f_minus: 25.59089315058253 , 36.55139565711364\n",
      "\t ---------- State is:  (10, 7)\n",
      "[INFO] [2023-03-01 06:35:25,529] [Advisor] Sample random config. rand_prob=0.100000.\n",
      "[INFO] [2023-03-01 06:35:59,239] [OpenBox-SPO] Iteration 583, objective value: [54.536898324610526].\n"
     ]
    },
    {
     "name": "stderr",
     "output_type": "stream",
     "text": [
      "\r",
      " 58%|███████████████████████████████████████████▋                               | 583/1000 [7:05:47<4:35:24, 39.63s/it]"
     ]
    },
    {
     "name": "stdout",
     "output_type": "stream",
     "text": [
      "\t ----- reward: -54.536898324610526 for f_star and f_minus: 25.59089315058253 , 54.536898324610526\n",
      "\t ---------- State is:  (9, 8)\n",
      "[INFO] [2023-03-01 06:36:45,043] [OpenBox-SPO] Iteration 584, objective value: [31.994419084100556].\n"
     ]
    },
    {
     "name": "stderr",
     "output_type": "stream",
     "text": [
      "\r",
      " 58%|███████████████████████████████████████████▊                               | 584/1000 [7:06:33<4:47:35, 41.48s/it]"
     ]
    },
    {
     "name": "stdout",
     "output_type": "stream",
     "text": [
      "\t ----- reward: -31.994419084100556 for f_star and f_minus: 25.59089315058253 , 31.994419084100556\n",
      "\t ---------- State is:  (10, 8)\n",
      "[INFO] [2023-03-01 06:37:25,391] [OpenBox-SPO] Iteration 585, objective value: [26.766200211362474].\n"
     ]
    },
    {
     "name": "stderr",
     "output_type": "stream",
     "text": [
      "\r",
      " 58%|███████████████████████████████████████████▉                               | 585/1000 [7:07:13<4:44:33, 41.14s/it]"
     ]
    },
    {
     "name": "stdout",
     "output_type": "stream",
     "text": [
      "\t ----- reward: -26.766200211362474 for f_star and f_minus: 25.59089315058253 , 26.766200211362474\n",
      "\t ---------- State is:  (10, 8)\n",
      "[INFO] [2023-03-01 06:38:05,725] [OpenBox-SPO] Iteration 586, objective value: [26.949368164714144].\n"
     ]
    },
    {
     "name": "stderr",
     "output_type": "stream",
     "text": [
      "\r",
      " 59%|███████████████████████████████████████████▉                               | 586/1000 [7:07:54<4:42:12, 40.90s/it]"
     ]
    },
    {
     "name": "stdout",
     "output_type": "stream",
     "text": [
      "\t ----- reward: -26.949368164714144 for f_star and f_minus: 25.59089315058253 , 26.949368164714144\n",
      "\t ---------- State is:  (10, 7)\n",
      "[INFO] [2023-03-01 06:38:05,725] [Advisor] Sample random config. rand_prob=0.100000.\n",
      "[INFO] [2023-03-01 06:38:38,060] [OpenBox-SPO] Iteration 587, objective value: [64.19723224968965].\n"
     ]
    },
    {
     "name": "stderr",
     "output_type": "stream",
     "text": [
      "\r",
      " 59%|████████████████████████████████████████████                               | 587/1000 [7:08:26<4:23:52, 38.33s/it]"
     ]
    },
    {
     "name": "stdout",
     "output_type": "stream",
     "text": [
      "\t ----- reward: -64.19723224968965 for f_star and f_minus: 25.59089315058253 , 64.19723224968965\n",
      "\t ---------- State is:  (10, 8)\n",
      "[INFO] [2023-03-01 06:39:18,346] [OpenBox-SPO] Iteration 588, objective value: [38.36585229425806].\n"
     ]
    },
    {
     "name": "stderr",
     "output_type": "stream",
     "text": [
      "\r",
      " 59%|████████████████████████████████████████████                               | 588/1000 [7:09:06<4:27:13, 38.92s/it]"
     ]
    },
    {
     "name": "stdout",
     "output_type": "stream",
     "text": [
      "\t ----- reward: -38.36585229425806 for f_star and f_minus: 25.59089315058253 , 38.36585229425806\n",
      "\t ---------- State is:  (10, 9)\n",
      "[INFO] [2023-03-01 06:40:02,163] [OpenBox-SPO] Iteration 589, objective value: [33.34542381490907].\n"
     ]
    },
    {
     "name": "stderr",
     "output_type": "stream",
     "text": [
      "\r",
      " 59%|████████████████████████████████████████████▏                              | 589/1000 [7:09:50<4:36:38, 40.39s/it]"
     ]
    },
    {
     "name": "stdout",
     "output_type": "stream",
     "text": [
      "\t ----- reward: -33.34542381490907 for f_star and f_minus: 25.59089315058253 , 33.34542381490907\n",
      "\t ---------- State is:  (10, 9)\n",
      "[INFO] [2023-03-01 06:40:45,326] [OpenBox-SPO] Iteration 590, objective value: [30.549504888879312].\n"
     ]
    },
    {
     "name": "stderr",
     "output_type": "stream",
     "text": [
      "\r",
      " 59%|████████████████████████████████████████████▎                              | 590/1000 [7:10:33<4:41:39, 41.22s/it]"
     ]
    },
    {
     "name": "stdout",
     "output_type": "stream",
     "text": [
      "\t ----- reward: -30.549504888879312 for f_star and f_minus: 25.59089315058253 , 30.549504888879312\n",
      "\t ---------- State is:  (9, 9)\n",
      "[INFO] [2023-03-01 06:41:24,550] [OpenBox-SPO] Iteration 591, objective value: [25.339714411993754].\n"
     ]
    },
    {
     "name": "stderr",
     "output_type": "stream",
     "text": [
      "\r",
      " 59%|████████████████████████████████████████████▎                              | 591/1000 [7:11:12<4:36:53, 40.62s/it]"
     ]
    },
    {
     "name": "stdout",
     "output_type": "stream",
     "text": [
      "\t ----- reward: -25.339714411993754 for f_star and f_minus: 25.59089315058253 , 25.339714411993754\n",
      "\t ---------- State is:  (8, 8)\n",
      "[INFO] [2023-03-01 06:42:05,291] [OpenBox-SPO] Iteration 592, objective value: [31.3742710024775].\n"
     ]
    },
    {
     "name": "stderr",
     "output_type": "stream",
     "text": [
      "\r",
      " 59%|████████████████████████████████████████████▍                              | 592/1000 [7:11:53<4:36:27, 40.66s/it]"
     ]
    },
    {
     "name": "stdout",
     "output_type": "stream",
     "text": [
      "\t ----- reward: -31.3742710024775 for f_star and f_minus: 25.339714411993754 , 31.3742710024775\n",
      "\t ---------- State is:  (8, 7)\n",
      "[INFO] [2023-03-01 06:42:05,291] [Advisor] Sample random config. rand_prob=0.100000.\n",
      "[INFO] [2023-03-01 06:42:37,407] [OpenBox-SPO] Iteration 593, objective value: [57.27423852270895].\n"
     ]
    },
    {
     "name": "stderr",
     "output_type": "stream",
     "text": [
      "\r",
      " 59%|████████████████████████████████████████████▍                              | 593/1000 [7:12:25<4:18:24, 38.09s/it]"
     ]
    },
    {
     "name": "stdout",
     "output_type": "stream",
     "text": [
      "\t ----- reward: -57.27423852270895 for f_star and f_minus: 25.339714411993754 , 57.27423852270895\n",
      "\t ---------- State is:  (9, 7)\n",
      "[INFO] [2023-03-01 06:43:18,162] [OpenBox-SPO] Iteration 594, objective value: [35.06004271953849].\n"
     ]
    },
    {
     "name": "stderr",
     "output_type": "stream",
     "text": [
      "\r",
      " 59%|████████████████████████████████████████████▌                              | 594/1000 [7:13:06<4:23:10, 38.89s/it]"
     ]
    },
    {
     "name": "stdout",
     "output_type": "stream",
     "text": [
      "\t ----- reward: -35.06004271953849 for f_star and f_minus: 25.339714411993754 , 35.06004271953849\n",
      "\t ---------- State is:  (9, 7)\n",
      "[INFO] [2023-03-01 06:44:01,279] [OpenBox-SPO] Iteration 595, objective value: [29.786873583192346].\n"
     ]
    },
    {
     "name": "stderr",
     "output_type": "stream",
     "text": [
      "\r",
      " 60%|████████████████████████████████████████████▋                              | 595/1000 [7:13:49<4:31:04, 40.16s/it]"
     ]
    },
    {
     "name": "stdout",
     "output_type": "stream",
     "text": [
      "\t ----- reward: -29.786873583192346 for f_star and f_minus: 25.339714411993754 , 29.786873583192346\n",
      "\t ---------- State is:  (10, 6)\n",
      "[INFO] [2023-03-01 06:44:38,863] [OpenBox-SPO] Iteration 596, objective value: [26.844345685026497].\n"
     ]
    },
    {
     "name": "stderr",
     "output_type": "stream",
     "text": [
      "\r",
      " 60%|████████████████████████████████████████████▋                              | 596/1000 [7:14:27<4:25:12, 39.39s/it]"
     ]
    },
    {
     "name": "stdout",
     "output_type": "stream",
     "text": [
      "\t ----- reward: -26.844345685026497 for f_star and f_minus: 25.339714411993754 , 26.844345685026497\n",
      "\t ---------- State is:  (10, 6)\n",
      "[INFO] [2023-03-01 06:44:38,863] [Advisor] Sample random config. rand_prob=0.100000.\n",
      "[INFO] [2023-03-01 06:45:07,819] [OpenBox-SPO] Iteration 597, objective value: [62.07637482513058].\n"
     ]
    },
    {
     "name": "stderr",
     "output_type": "stream",
     "text": [
      "\r",
      " 60%|████████████████████████████████████████████▊                              | 597/1000 [7:14:56<4:03:31, 36.26s/it]"
     ]
    },
    {
     "name": "stdout",
     "output_type": "stream",
     "text": [
      "\t ----- reward: -62.07637482513058 for f_star and f_minus: 25.339714411993754 , 62.07637482513058\n",
      "\t ---------- State is:  (10, 6)\n",
      "[INFO] [2023-03-01 06:45:48,484] [OpenBox-SPO] Iteration 598, objective value: [32.13615179435429].\n"
     ]
    },
    {
     "name": "stderr",
     "output_type": "stream",
     "text": [
      "\r",
      " 60%|████████████████████████████████████████████▊                              | 598/1000 [7:15:36<4:11:47, 37.58s/it]"
     ]
    },
    {
     "name": "stdout",
     "output_type": "stream",
     "text": [
      "\t ----- reward: -32.13615179435429 for f_star and f_minus: 25.339714411993754 , 32.13615179435429\n",
      "\t ---------- State is:  (10, 6)\n",
      "[INFO] [2023-03-01 06:46:26,991] [OpenBox-SPO] Iteration 599, objective value: [25.342158146239925].\n"
     ]
    },
    {
     "name": "stderr",
     "output_type": "stream",
     "text": [
      "\r",
      " 60%|████████████████████████████████████████████▉                              | 599/1000 [7:16:15<4:13:01, 37.86s/it]"
     ]
    },
    {
     "name": "stdout",
     "output_type": "stream",
     "text": [
      "\t ----- reward: -25.342158146239925 for f_star and f_minus: 25.339714411993754 , 25.342158146239925\n",
      "\t ---------- State is:  (10, 6)\n",
      "[INFO] [2023-03-01 06:47:03,433] [OpenBox-SPO] Iteration 600, objective value: [30.22076922893679].\n"
     ]
    },
    {
     "name": "stderr",
     "output_type": "stream",
     "text": [
      "\r",
      " 60%|█████████████████████████████████████████████                              | 600/1000 [7:16:51<4:09:33, 37.43s/it]"
     ]
    },
    {
     "name": "stdout",
     "output_type": "stream",
     "text": [
      "\t ----- reward: -30.22076922893679 for f_star and f_minus: 25.339714411993754 , 30.22076922893679\n",
      "\t ---------- State is:  (10, 6)\n",
      "[INFO] [2023-03-01 06:47:42,614] [OpenBox-SPO] Iteration 601, objective value: [30.062112208633053].\n"
     ]
    },
    {
     "name": "stderr",
     "output_type": "stream",
     "text": [
      "\r",
      " 60%|█████████████████████████████████████████████                              | 601/1000 [7:17:30<4:12:25, 37.96s/it]"
     ]
    },
    {
     "name": "stdout",
     "output_type": "stream",
     "text": [
      "\t ----- reward: -30.062112208633053 for f_star and f_minus: 25.339714411993754 , 30.062112208633053\n",
      "\t ---------- State is:  (9, 6)\n",
      "[INFO] [2023-03-01 06:48:23,491] [OpenBox-SPO] Iteration 602, objective value: [34.71114413761147].\n"
     ]
    },
    {
     "name": "stderr",
     "output_type": "stream",
     "text": [
      "\r",
      " 60%|█████████████████████████████████████████████▏                             | 602/1000 [7:18:11<4:17:35, 38.83s/it]"
     ]
    },
    {
     "name": "stdout",
     "output_type": "stream",
     "text": [
      "\t ----- reward: -34.71114413761147 for f_star and f_minus: 25.339714411993754 , 34.71114413761147\n",
      "\t ---------- State is:  (8, 6)\n",
      "[INFO] [2023-03-01 06:48:23,491] [Advisor] Sample random config. rand_prob=0.100000.\n",
      "[INFO] [2023-03-01 06:49:00,358] [OpenBox-SPO] Iteration 603, objective value: [50.195722593616345].\n"
     ]
    },
    {
     "name": "stderr",
     "output_type": "stream",
     "text": [
      "\r",
      " 60%|█████████████████████████████████████████████▏                             | 603/1000 [7:18:48<4:13:02, 38.24s/it]"
     ]
    },
    {
     "name": "stdout",
     "output_type": "stream",
     "text": [
      "\t ----- reward: -50.195722593616345 for f_star and f_minus: 25.339714411993754 , 50.195722593616345\n",
      "\t ---------- State is:  (8, 6)\n",
      "[INFO] [2023-03-01 06:49:40,833] [OpenBox-SPO] Iteration 604, objective value: [36.61524047555943].\n"
     ]
    },
    {
     "name": "stderr",
     "output_type": "stream",
     "text": [
      "\r",
      " 60%|█████████████████████████████████████████████▎                             | 604/1000 [7:19:29<4:16:49, 38.91s/it]"
     ]
    },
    {
     "name": "stdout",
     "output_type": "stream",
     "text": [
      "\t ----- reward: -36.61524047555943 for f_star and f_minus: 25.339714411993754 , 36.61524047555943\n",
      "\t ---------- State is:  (9, 6)\n",
      "[INFO] [2023-03-01 06:49:40,833] [Advisor] Sample random config. rand_prob=0.100000.\n",
      "[INFO] [2023-03-01 06:50:12,384] [OpenBox-SPO] Iteration 605, objective value: [61.738831282154706].\n"
     ]
    },
    {
     "name": "stderr",
     "output_type": "stream",
     "text": [
      "\r",
      " 60%|█████████████████████████████████████████████▍                             | 605/1000 [7:20:00<4:01:38, 36.70s/it]"
     ]
    },
    {
     "name": "stdout",
     "output_type": "stream",
     "text": [
      "\t ----- reward: -61.738831282154706 for f_star and f_minus: 25.339714411993754 , 61.738831282154706\n",
      "\t ---------- State is:  (10, 7)\n",
      "[INFO] [2023-03-01 06:50:50,672] [OpenBox-SPO] Iteration 606, objective value: [29.698531402143132].\n"
     ]
    },
    {
     "name": "stderr",
     "output_type": "stream",
     "text": [
      "\r",
      " 61%|█████████████████████████████████████████████▍                             | 606/1000 [7:20:38<4:04:08, 37.18s/it]"
     ]
    },
    {
     "name": "stdout",
     "output_type": "stream",
     "text": [
      "\t ----- reward: -29.698531402143132 for f_star and f_minus: 25.339714411993754 , 29.698531402143132\n",
      "\t ---------- State is:  (10, 7)\n",
      "[INFO] [2023-03-01 06:51:31,865] [OpenBox-SPO] Iteration 607, objective value: [29.49495475613756].\n"
     ]
    },
    {
     "name": "stderr",
     "output_type": "stream",
     "text": [
      "\r",
      " 61%|█████████████████████████████████████████████▌                             | 607/1000 [7:21:20<4:11:24, 38.38s/it]"
     ]
    },
    {
     "name": "stdout",
     "output_type": "stream",
     "text": [
      "\t ----- reward: -29.49495475613756 for f_star and f_minus: 25.339714411993754 , 29.49495475613756\n",
      "\t ---------- State is:  (10, 6)\n",
      "[INFO] [2023-03-01 06:52:15,808] [OpenBox-SPO] Iteration 608, objective value: [30.279516816660575].\n"
     ]
    },
    {
     "name": "stderr",
     "output_type": "stream",
     "text": [
      "\r",
      " 61%|█████████████████████████████████████████████▌                             | 608/1000 [7:22:04<4:21:40, 40.05s/it]"
     ]
    },
    {
     "name": "stdout",
     "output_type": "stream",
     "text": [
      "\t ----- reward: -30.279516816660575 for f_star and f_minus: 25.339714411993754 , 30.279516816660575\n",
      "\t ---------- State is:  (10, 5)\n",
      "[INFO] [2023-03-01 06:52:15,808] [Advisor] Sample random config. rand_prob=0.100000.\n",
      "[INFO] [2023-03-01 06:52:48,128] [OpenBox-SPO] Iteration 609, objective value: [58.848403529559704].\n"
     ]
    },
    {
     "name": "stderr",
     "output_type": "stream",
     "text": [
      "\r",
      " 61%|█████████████████████████████████████████████▋                             | 609/1000 [7:22:36<4:05:53, 37.73s/it]"
     ]
    },
    {
     "name": "stdout",
     "output_type": "stream",
     "text": [
      "\t ----- reward: -58.848403529559704 for f_star and f_minus: 25.339714411993754 , 58.848403529559704\n",
      "\t ---------- State is:  (9, 5)\n",
      "[INFO] [2023-03-01 06:53:28,539] [OpenBox-SPO] Iteration 610, objective value: [31.159679330989547].\n"
     ]
    },
    {
     "name": "stderr",
     "output_type": "stream",
     "text": [
      "\r",
      " 61%|█████████████████████████████████████████████▊                             | 610/1000 [7:23:16<4:10:30, 38.54s/it]"
     ]
    },
    {
     "name": "stdout",
     "output_type": "stream",
     "text": [
      "\t ----- reward: -31.159679330989547 for f_star and f_minus: 25.339714411993754 , 31.159679330989547\n",
      "\t ---------- State is:  (9, 5)\n",
      "[INFO] [2023-03-01 06:53:28,555] [Advisor] Sample random config. rand_prob=0.100000.\n",
      "[INFO] [2023-03-01 06:53:56,813] [OpenBox-SPO] Iteration 611, objective value: [51.57132252685049].\n"
     ]
    },
    {
     "name": "stderr",
     "output_type": "stream",
     "text": [
      "\r",
      " 61%|█████████████████████████████████████████████▊                             | 611/1000 [7:23:45<3:49:52, 35.46s/it]"
     ]
    },
    {
     "name": "stdout",
     "output_type": "stream",
     "text": [
      "\t ----- reward: -51.57132252685049 for f_star and f_minus: 25.339714411993754 , 51.57132252685049\n",
      "\t ---------- State is:  (8, 6)\n",
      "[INFO] [2023-03-01 06:54:35,311] [OpenBox-SPO] Iteration 612, objective value: [33.52758968918768].\n"
     ]
    },
    {
     "name": "stderr",
     "output_type": "stream",
     "text": [
      "\r",
      " 61%|█████████████████████████████████████████████▉                             | 612/1000 [7:24:23<3:55:10, 36.37s/it]"
     ]
    },
    {
     "name": "stdout",
     "output_type": "stream",
     "text": [
      "\t ----- reward: -33.52758968918768 for f_star and f_minus: 25.339714411993754 , 33.52758968918768\n",
      "\t ---------- State is:  (7, 7)\n",
      "[INFO] [2023-03-01 06:55:28,286] [OpenBox-SPO] Iteration 613, objective value: [30.58445950425873].\n"
     ]
    },
    {
     "name": "stderr",
     "output_type": "stream",
     "text": [
      "\r",
      " 61%|█████████████████████████████████████████████▉                             | 613/1000 [7:25:16<4:26:42, 41.35s/it]"
     ]
    },
    {
     "name": "stdout",
     "output_type": "stream",
     "text": [
      "\t ----- reward: -30.58445950425873 for f_star and f_minus: 25.339714411993754 , 30.58445950425873\n",
      "\t ---------- State is:  (7, 6)\n",
      "[INFO] [2023-03-01 06:56:11,871] [OpenBox-SPO] Iteration 614, objective value: [26.137373859022773].\n"
     ]
    },
    {
     "name": "stderr",
     "output_type": "stream",
     "text": [
      "\r",
      " 61%|██████████████████████████████████████████████                             | 614/1000 [7:26:00<4:30:20, 42.02s/it]"
     ]
    },
    {
     "name": "stdout",
     "output_type": "stream",
     "text": [
      "\t ----- reward: -26.137373859022773 for f_star and f_minus: 25.339714411993754 , 26.137373859022773\n",
      "\t ---------- State is:  (6, 5)\n",
      "[INFO] [2023-03-01 06:56:54,303] [OpenBox-SPO] Iteration 615, objective value: [33.57294945685436].\n"
     ]
    },
    {
     "name": "stderr",
     "output_type": "stream",
     "text": [
      "\r",
      " 62%|██████████████████████████████████████████████▏                            | 615/1000 [7:26:42<4:30:25, 42.14s/it]"
     ]
    },
    {
     "name": "stdout",
     "output_type": "stream",
     "text": [
      "\t ----- reward: -33.57294945685436 for f_star and f_minus: 25.339714411993754 , 33.57294945685436\n",
      "\t ---------- State is:  (7, 6)\n",
      "[INFO] [2023-03-01 06:57:38,577] [OpenBox-SPO] Iteration 616, objective value: [36.32807084918267].\n"
     ]
    },
    {
     "name": "stderr",
     "output_type": "stream",
     "text": [
      "\r",
      " 62%|██████████████████████████████████████████████▏                            | 616/1000 [7:27:26<4:33:48, 42.78s/it]"
     ]
    },
    {
     "name": "stdout",
     "output_type": "stream",
     "text": [
      "\t ----- reward: -36.32807084918267 for f_star and f_minus: 25.339714411993754 , 36.32807084918267\n",
      "\t ---------- State is:  (8, 7)\n",
      "[INFO] [2023-03-01 06:58:25,332] [OpenBox-SPO] Iteration 617, objective value: [30.690924780716017].\n"
     ]
    },
    {
     "name": "stderr",
     "output_type": "stream",
     "text": [
      "\r",
      " 62%|██████████████████████████████████████████████▎                            | 617/1000 [7:28:13<4:40:44, 43.98s/it]"
     ]
    },
    {
     "name": "stdout",
     "output_type": "stream",
     "text": [
      "\t ----- reward: -30.690924780716017 for f_star and f_minus: 25.339714411993754 , 30.690924780716017\n",
      "\t ---------- State is:  (7, 6)\n",
      "[INFO] [2023-03-01 06:59:01,185] [OpenBox-SPO] Iteration 618, objective value: [36.452185086424095].\n"
     ]
    },
    {
     "name": "stderr",
     "output_type": "stream",
     "text": [
      "\r",
      " 62%|██████████████████████████████████████████████▎                            | 618/1000 [7:28:49<4:24:27, 41.54s/it]"
     ]
    },
    {
     "name": "stdout",
     "output_type": "stream",
     "text": [
      "\t ----- reward: -36.452185086424095 for f_star and f_minus: 25.339714411993754 , 36.452185086424095\n",
      "\t ---------- State is:  (6, 7)\n",
      "[INFO] [2023-03-01 06:59:45,613] [OpenBox-SPO] Iteration 619, objective value: [25.90013218113883].\n"
     ]
    },
    {
     "name": "stderr",
     "output_type": "stream",
     "text": [
      "\r",
      " 62%|██████████████████████████████████████████████▍                            | 619/1000 [7:29:33<4:29:15, 42.40s/it]"
     ]
    },
    {
     "name": "stdout",
     "output_type": "stream",
     "text": [
      "\t ----- reward: -25.90013218113883 for f_star and f_minus: 25.339714411993754 , 25.90013218113883\n",
      "\t ---------- State is:  (7, 7)\n",
      "[INFO] [2023-03-01 07:00:30,010] [OpenBox-SPO] Iteration 620, objective value: [33.25568764183643].\n"
     ]
    },
    {
     "name": "stderr",
     "output_type": "stream",
     "text": [
      "\r",
      " 62%|██████████████████████████████████████████████▌                            | 620/1000 [7:30:18<4:32:20, 43.00s/it]"
     ]
    },
    {
     "name": "stdout",
     "output_type": "stream",
     "text": [
      "\t ----- reward: -33.25568764183643 for f_star and f_minus: 25.339714411993754 , 33.25568764183643\n",
      "\t ---------- State is:  (8, 8)\n",
      "[INFO] [2023-03-01 07:01:06,392] [OpenBox-SPO] Iteration 621, objective value: [41.96736717952344].\n"
     ]
    },
    {
     "name": "stderr",
     "output_type": "stream",
     "text": [
      "\r",
      " 62%|██████████████████████████████████████████████▌                            | 621/1000 [7:30:54<4:19:05, 41.02s/it]"
     ]
    },
    {
     "name": "stdout",
     "output_type": "stream",
     "text": [
      "\t ----- reward: -41.96736717952344 for f_star and f_minus: 25.339714411993754 , 41.96736717952344\n",
      "\t ---------- State is:  (9, 8)\n",
      "[INFO] [2023-03-01 07:01:50,245] [OpenBox-SPO] Iteration 622, objective value: [28.80460887650125].\n"
     ]
    },
    {
     "name": "stderr",
     "output_type": "stream",
     "text": [
      "\r",
      " 62%|██████████████████████████████████████████████▋                            | 622/1000 [7:31:38<4:23:45, 41.87s/it]"
     ]
    },
    {
     "name": "stdout",
     "output_type": "stream",
     "text": [
      "\t ----- reward: -28.80460887650125 for f_star and f_minus: 25.339714411993754 , 28.80460887650125\n",
      "\t ---------- State is:  (8, 8)\n",
      "[INFO] [2023-03-01 07:02:34,330] [OpenBox-SPO] Iteration 623, objective value: [35.675509508721944].\n"
     ]
    },
    {
     "name": "stderr",
     "output_type": "stream",
     "text": [
      "\r",
      " 62%|██████████████████████████████████████████████▋                            | 623/1000 [7:32:22<4:27:14, 42.53s/it]"
     ]
    },
    {
     "name": "stdout",
     "output_type": "stream",
     "text": [
      "\t ----- reward: -35.675509508721944 for f_star and f_minus: 25.339714411993754 , 35.675509508721944\n",
      "\t ---------- State is:  (7, 8)\n",
      "[INFO] [2023-03-01 07:02:34,330] [Advisor] Sample random config. rand_prob=0.100000.\n",
      "[INFO] [2023-03-01 07:03:10,537] [OpenBox-SPO] Iteration 624, objective value: [55.164738494588256].\n"
     ]
    },
    {
     "name": "stderr",
     "output_type": "stream",
     "text": [
      "\r",
      " 62%|██████████████████████████████████████████████▊                            | 624/1000 [7:32:58<4:14:38, 40.63s/it]"
     ]
    },
    {
     "name": "stdout",
     "output_type": "stream",
     "text": [
      "\t ----- reward: -55.164738494588256 for f_star and f_minus: 25.339714411993754 , 55.164738494588256\n",
      "\t ---------- State is:  (8, 8)\n",
      "[INFO] [2023-03-01 07:03:57,267] [OpenBox-SPO] Iteration 625, objective value: [30.627097038662768].\n"
     ]
    },
    {
     "name": "stderr",
     "output_type": "stream",
     "text": [
      "\r",
      " 62%|██████████████████████████████████████████████▉                            | 625/1000 [7:33:45<4:25:23, 42.46s/it]"
     ]
    },
    {
     "name": "stdout",
     "output_type": "stream",
     "text": [
      "\t ----- reward: -30.627097038662768 for f_star and f_minus: 25.339714411993754 , 30.627097038662768\n",
      "\t ---------- State is:  (8, 6)\n",
      "[INFO] [2023-03-01 07:04:34,599] [OpenBox-SPO] Iteration 626, objective value: [27.952364274390035].\n"
     ]
    },
    {
     "name": "stderr",
     "output_type": "stream",
     "text": [
      "\r",
      " 63%|██████████████████████████████████████████████▉                            | 626/1000 [7:34:22<4:15:05, 40.92s/it]"
     ]
    },
    {
     "name": "stdout",
     "output_type": "stream",
     "text": [
      "\t ----- reward: -27.952364274390035 for f_star and f_minus: 25.339714411993754 , 27.952364274390035\n",
      "\t ---------- State is:  (9, 6)\n",
      "[INFO] [2023-03-01 07:05:15,044] [OpenBox-SPO] Iteration 627, objective value: [27.523175275849923].\n"
     ]
    },
    {
     "name": "stderr",
     "output_type": "stream",
     "text": [
      "\r",
      " 63%|███████████████████████████████████████████████                            | 627/1000 [7:35:03<4:13:31, 40.78s/it]"
     ]
    },
    {
     "name": "stdout",
     "output_type": "stream",
     "text": [
      "\t ----- reward: -27.523175275849923 for f_star and f_minus: 25.339714411993754 , 27.523175275849923\n",
      "\t ---------- State is:  (9, 6)\n",
      "[INFO] [2023-03-01 07:05:58,022] [OpenBox-SPO] Iteration 628, objective value: [35.533593847348584].\n"
     ]
    },
    {
     "name": "stderr",
     "output_type": "stream",
     "text": [
      "\r",
      " 63%|███████████████████████████████████████████████                            | 628/1000 [7:35:46<4:16:55, 41.44s/it]"
     ]
    },
    {
     "name": "stdout",
     "output_type": "stream",
     "text": [
      "\t ----- reward: -35.533593847348584 for f_star and f_minus: 25.339714411993754 , 35.533593847348584\n",
      "\t ---------- State is:  (8, 8)\n",
      "[INFO] [2023-03-01 07:06:35,980] [OpenBox-SPO] Iteration 629, objective value: [34.0052513849994].\n"
     ]
    },
    {
     "name": "stderr",
     "output_type": "stream",
     "text": [
      "\r",
      " 63%|███████████████████████████████████████████████▏                           | 629/1000 [7:36:24<4:09:46, 40.40s/it]"
     ]
    },
    {
     "name": "stdout",
     "output_type": "stream",
     "text": [
      "\t ----- reward: -34.0052513849994 for f_star and f_minus: 25.339714411993754 , 34.0052513849994\n",
      "\t ---------- State is:  (8, 8)\n",
      "[INFO] [2023-03-01 07:07:13,766] [OpenBox-SPO] Iteration 630, objective value: [32.2409230532775].\n"
     ]
    },
    {
     "name": "stderr",
     "output_type": "stream",
     "text": [
      "\r",
      " 63%|███████████████████████████████████████████████▎                           | 630/1000 [7:37:02<4:04:16, 39.61s/it]"
     ]
    },
    {
     "name": "stdout",
     "output_type": "stream",
     "text": [
      "\t ----- reward: -32.2409230532775 for f_star and f_minus: 25.339714411993754 , 32.2409230532775\n",
      "\t ---------- State is:  (9, 8)\n",
      "[INFO] [2023-03-01 07:07:55,728] [OpenBox-SPO] Iteration 631, objective value: [27.06024590634017].\n"
     ]
    },
    {
     "name": "stderr",
     "output_type": "stream",
     "text": [
      "\r",
      " 63%|███████████████████████████████████████████████▎                           | 631/1000 [7:37:44<4:07:57, 40.32s/it]"
     ]
    },
    {
     "name": "stdout",
     "output_type": "stream",
     "text": [
      "\t ----- reward: -27.06024590634017 for f_star and f_minus: 25.339714411993754 , 27.06024590634017\n",
      "\t ---------- State is:  (9, 7)\n",
      "[INFO] [2023-03-01 07:08:33,545] [OpenBox-SPO] Iteration 632, objective value: [32.230733615537716].\n"
     ]
    },
    {
     "name": "stderr",
     "output_type": "stream",
     "text": [
      "\r",
      " 63%|███████████████████████████████████████████████▍                           | 632/1000 [7:38:21<4:02:40, 39.57s/it]"
     ]
    },
    {
     "name": "stdout",
     "output_type": "stream",
     "text": [
      "\t ----- reward: -32.230733615537716 for f_star and f_minus: 25.339714411993754 , 32.230733615537716\n",
      "\t ---------- State is:  (10, 6)\n",
      "[INFO] [2023-03-01 07:09:14,486] [OpenBox-SPO] Iteration 633, objective value: [25.14637899083999].\n"
     ]
    },
    {
     "name": "stderr",
     "output_type": "stream",
     "text": [
      "\r",
      " 63%|███████████████████████████████████████████████▍                           | 633/1000 [7:39:02<4:04:32, 39.98s/it]"
     ]
    },
    {
     "name": "stdout",
     "output_type": "stream",
     "text": [
      "\t ----- reward: -25.14637899083999 for f_star and f_minus: 25.339714411993754 , 25.14637899083999\n",
      "\t ---------- State is:  (9, 6)\n",
      "[INFO] [2023-03-01 07:09:56,139] [OpenBox-SPO] Iteration 634, objective value: [37.5151245977423].\n"
     ]
    },
    {
     "name": "stderr",
     "output_type": "stream",
     "text": [
      "\r",
      " 63%|███████████████████████████████████████████████▌                           | 634/1000 [7:39:44<4:06:56, 40.48s/it]"
     ]
    },
    {
     "name": "stdout",
     "output_type": "stream",
     "text": [
      "\t ----- reward: -37.5151245977423 for f_star and f_minus: 25.14637899083999 , 37.5151245977423\n",
      "\t ---------- State is:  (9, 7)\n",
      "[INFO] [2023-03-01 07:10:36,236] [OpenBox-SPO] Iteration 635, objective value: [27.51363447223116].\n"
     ]
    },
    {
     "name": "stderr",
     "output_type": "stream",
     "text": [
      "\r",
      " 64%|███████████████████████████████████████████████▋                           | 635/1000 [7:40:24<4:05:33, 40.37s/it]"
     ]
    },
    {
     "name": "stdout",
     "output_type": "stream",
     "text": [
      "\t ----- reward: -27.51363447223116 for f_star and f_minus: 25.14637899083999 , 27.51363447223116\n",
      "\t ---------- State is:  (9, 7)\n",
      "[INFO] [2023-03-01 07:11:13,677] [OpenBox-SPO] Iteration 636, objective value: [25.957864440180856].\n"
     ]
    },
    {
     "name": "stderr",
     "output_type": "stream",
     "text": [
      "\r",
      " 64%|███████████████████████████████████████████████▋                           | 636/1000 [7:41:01<3:59:33, 39.49s/it]"
     ]
    },
    {
     "name": "stdout",
     "output_type": "stream",
     "text": [
      "\t ----- reward: -25.957864440180856 for f_star and f_minus: 25.14637899083999 , 25.957864440180856\n",
      "\t ---------- State is:  (8, 6)\n",
      "[INFO] [2023-03-01 07:11:54,046] [OpenBox-SPO] Iteration 637, objective value: [27.298547070684336].\n"
     ]
    },
    {
     "name": "stderr",
     "output_type": "stream",
     "text": [
      "\r",
      " 64%|███████████████████████████████████████████████▊                           | 637/1000 [7:41:42<4:00:30, 39.75s/it]"
     ]
    },
    {
     "name": "stdout",
     "output_type": "stream",
     "text": [
      "\t ----- reward: -27.298547070684336 for f_star and f_minus: 25.14637899083999 , 27.298547070684336\n",
      "\t ---------- State is:  (7, 6)\n",
      "[INFO] [2023-03-01 07:12:37,537] [OpenBox-SPO] Iteration 638, objective value: [31.213646614090024].\n"
     ]
    },
    {
     "name": "stderr",
     "output_type": "stream",
     "text": [
      "\r",
      " 64%|███████████████████████████████████████████████▊                           | 638/1000 [7:42:25<4:06:36, 40.87s/it]"
     ]
    },
    {
     "name": "stdout",
     "output_type": "stream",
     "text": [
      "\t ----- reward: -31.213646614090024 for f_star and f_minus: 25.14637899083999 , 31.213646614090024\n",
      "\t ---------- State is:  (7, 5)\n",
      "[INFO] [2023-03-01 07:13:19,714] [OpenBox-SPO] Iteration 639, objective value: [34.217913573701026].\n"
     ]
    },
    {
     "name": "stderr",
     "output_type": "stream",
     "text": [
      "\r",
      " 64%|███████████████████████████████████████████████▉                           | 639/1000 [7:43:07<4:08:16, 41.27s/it]"
     ]
    },
    {
     "name": "stdout",
     "output_type": "stream",
     "text": [
      "\t ----- reward: -34.217913573701026 for f_star and f_minus: 25.14637899083999 , 34.217913573701026\n",
      "\t ---------- State is:  (8, 6)\n",
      "[INFO] [2023-03-01 07:14:00,363] [OpenBox-SPO] Iteration 640, objective value: [30.098705550709695].\n"
     ]
    },
    {
     "name": "stderr",
     "output_type": "stream",
     "text": [
      "\r",
      " 64%|████████████████████████████████████████████████                           | 640/1000 [7:43:48<4:06:28, 41.08s/it]"
     ]
    },
    {
     "name": "stdout",
     "output_type": "stream",
     "text": [
      "\t ----- reward: -30.098705550709695 for f_star and f_minus: 25.14637899083999 , 30.098705550709695\n",
      "\t ---------- State is:  (9, 5)\n",
      "[INFO] [2023-03-01 07:14:39,887] [OpenBox-SPO] Iteration 641, objective value: [31.692979427002527].\n"
     ]
    },
    {
     "name": "stderr",
     "output_type": "stream",
     "text": [
      "\r",
      " 64%|████████████████████████████████████████████████                           | 641/1000 [7:44:28<4:03:00, 40.61s/it]"
     ]
    },
    {
     "name": "stdout",
     "output_type": "stream",
     "text": [
      "\t ----- reward: -31.692979427002527 for f_star and f_minus: 25.14637899083999 , 31.692979427002527\n",
      "\t ---------- State is:  (10, 5)\n",
      "[INFO] [2023-03-01 07:15:24,291] [OpenBox-SPO] Iteration 642, objective value: [29.019931819252236].\n"
     ]
    },
    {
     "name": "stderr",
     "output_type": "stream",
     "text": [
      "\r",
      " 64%|████████████████████████████████████████████████▏                          | 642/1000 [7:45:12<4:09:06, 41.75s/it]"
     ]
    },
    {
     "name": "stdout",
     "output_type": "stream",
     "text": [
      "\t ----- reward: -29.019931819252236 for f_star and f_minus: 25.14637899083999 , 29.019931819252236\n",
      "\t ---------- State is:  (10, 5)\n",
      "[INFO] [2023-03-01 07:15:24,291] [Advisor] Sample random config. rand_prob=0.100000.\n",
      "[INFO] [2023-03-01 07:16:03,796] [OpenBox-SPO] Iteration 643, objective value: [50.24135827533473].\n"
     ]
    },
    {
     "name": "stderr",
     "output_type": "stream",
     "text": [
      "\r",
      " 64%|████████████████████████████████████████████████▏                          | 643/1000 [7:45:52<4:04:24, 41.08s/it]"
     ]
    },
    {
     "name": "stdout",
     "output_type": "stream",
     "text": [
      "\t ----- reward: -50.24135827533473 for f_star and f_minus: 25.14637899083999 , 50.24135827533473\n",
      "\t ---------- State is:  (10, 5)\n",
      "[INFO] [2023-03-01 07:16:41,851] [OpenBox-SPO] Iteration 644, objective value: [35.38001981370421].\n"
     ]
    },
    {
     "name": "stderr",
     "output_type": "stream",
     "text": [
      "\r",
      " 64%|████████████████████████████████████████████████▎                          | 644/1000 [7:46:30<3:58:20, 40.17s/it]"
     ]
    },
    {
     "name": "stdout",
     "output_type": "stream",
     "text": [
      "\t ----- reward: -35.38001981370421 for f_star and f_minus: 25.14637899083999 , 35.38001981370421\n",
      "\t ---------- State is:  (10, 5)\n",
      "[INFO] [2023-03-01 07:17:17,621] [OpenBox-SPO] Iteration 645, objective value: [28.964308116214255].\n"
     ]
    },
    {
     "name": "stderr",
     "output_type": "stream",
     "text": [
      "\r",
      " 64%|████████████████████████████████████████████████▍                          | 645/1000 [7:47:05<3:49:51, 38.85s/it]"
     ]
    },
    {
     "name": "stdout",
     "output_type": "stream",
     "text": [
      "\t ----- reward: -28.964308116214255 for f_star and f_minus: 25.14637899083999 , 28.964308116214255\n",
      "\t ---------- State is:  (10, 5)\n",
      "[INFO] [2023-03-01 07:18:01,255] [OpenBox-SPO] Iteration 646, objective value: [26.97879508795127].\n"
     ]
    },
    {
     "name": "stderr",
     "output_type": "stream",
     "text": [
      "\r",
      " 65%|████████████████████████████████████████████████▍                          | 646/1000 [7:47:49<3:57:40, 40.29s/it]"
     ]
    },
    {
     "name": "stdout",
     "output_type": "stream",
     "text": [
      "\t ----- reward: -26.97879508795127 for f_star and f_minus: 25.14637899083999 , 26.97879508795127\n",
      "\t ---------- State is:  (10, 5)\n",
      "[INFO] [2023-03-01 07:18:39,666] [OpenBox-SPO] Iteration 647, objective value: [28.209220760348316].\n"
     ]
    },
    {
     "name": "stderr",
     "output_type": "stream",
     "text": [
      "\r",
      " 65%|████████████████████████████████████████████████▌                          | 647/1000 [7:48:27<3:53:43, 39.73s/it]"
     ]
    },
    {
     "name": "stdout",
     "output_type": "stream",
     "text": [
      "\t ----- reward: -28.209220760348316 for f_star and f_minus: 25.14637899083999 , 28.209220760348316\n",
      "\t ---------- State is:  (10, 5)\n",
      "[INFO] [2023-03-01 07:19:22,078] [OpenBox-SPO] Iteration 648, objective value: [30.877220007670502].\n"
     ]
    },
    {
     "name": "stderr",
     "output_type": "stream",
     "text": [
      "\r",
      " 65%|████████████████████████████████████████████████▌                          | 648/1000 [7:49:10<3:57:47, 40.53s/it]"
     ]
    },
    {
     "name": "stdout",
     "output_type": "stream",
     "text": [
      "\t ----- reward: -30.877220007670502 for f_star and f_minus: 25.14637899083999 , 30.877220007670502\n",
      "\t ---------- State is:  (9, 5)\n",
      "[INFO] [2023-03-01 07:20:00,820] [OpenBox-SPO] Iteration 649, objective value: [24.64021276033415].\n"
     ]
    },
    {
     "name": "stderr",
     "output_type": "stream",
     "text": [
      "\r",
      " 65%|████████████████████████████████████████████████▋                          | 649/1000 [7:49:49<3:53:56, 39.99s/it]"
     ]
    },
    {
     "name": "stdout",
     "output_type": "stream",
     "text": [
      "\t ----- reward: -24.64021276033415 for f_star and f_minus: 25.14637899083999 , 24.64021276033415\n",
      "\t ---------- State is:  (9, 4)\n",
      "[INFO] [2023-03-01 07:20:39,061] [OpenBox-SPO] Iteration 650, objective value: [34.16806533790758].\n"
     ]
    },
    {
     "name": "stderr",
     "output_type": "stream",
     "text": [
      "\r",
      " 65%|████████████████████████████████████████████████▊                          | 650/1000 [7:50:27<3:50:14, 39.47s/it]"
     ]
    },
    {
     "name": "stdout",
     "output_type": "stream",
     "text": [
      "\t ----- reward: -34.16806533790758 for f_star and f_minus: 24.64021276033415 , 34.16806533790758\n",
      "\t ---------- State is:  (9, 4)\n",
      "[INFO] [2023-03-01 07:21:24,662] [OpenBox-SPO] Iteration 651, objective value: [39.11435610812062].\n"
     ]
    },
    {
     "name": "stderr",
     "output_type": "stream",
     "text": [
      "\r",
      " 65%|████████████████████████████████████████████████▊                          | 651/1000 [7:51:12<4:00:17, 41.31s/it]"
     ]
    },
    {
     "name": "stdout",
     "output_type": "stream",
     "text": [
      "\t ----- reward: -39.11435610812062 for f_star and f_minus: 24.64021276033415 , 39.11435610812062\n",
      "\t ---------- State is:  (10, 5)\n",
      "[INFO] [2023-03-01 07:22:04,324] [OpenBox-SPO] Iteration 652, objective value: [30.08668410647026].\n"
     ]
    },
    {
     "name": "stderr",
     "output_type": "stream",
     "text": [
      "\r",
      " 65%|████████████████████████████████████████████████▉                          | 652/1000 [7:51:52<3:56:42, 40.81s/it]"
     ]
    },
    {
     "name": "stdout",
     "output_type": "stream",
     "text": [
      "\t ----- reward: -30.08668410647026 for f_star and f_minus: 24.64021276033415 , 30.08668410647026\n",
      "\t ---------- State is:  (10, 5)\n",
      "[INFO] [2023-03-01 07:22:41,675] [OpenBox-SPO] Iteration 653, objective value: [28.554736655391622].\n"
     ]
    },
    {
     "name": "stderr",
     "output_type": "stream",
     "text": [
      "\r",
      " 65%|████████████████████████████████████████████████▉                          | 653/1000 [7:52:29<3:50:01, 39.77s/it]"
     ]
    },
    {
     "name": "stdout",
     "output_type": "stream",
     "text": [
      "\t ----- reward: -28.554736655391622 for f_star and f_minus: 24.64021276033415 , 28.554736655391622\n",
      "\t ---------- State is:  (10, 5)\n",
      "[INFO] [2023-03-01 07:23:25,445] [OpenBox-SPO] Iteration 654, objective value: [28.17158274427561].\n"
     ]
    },
    {
     "name": "stderr",
     "output_type": "stream",
     "text": [
      "\r",
      " 65%|█████████████████████████████████████████████████                          | 654/1000 [7:53:13<3:56:17, 40.98s/it]"
     ]
    },
    {
     "name": "stdout",
     "output_type": "stream",
     "text": [
      "\t ----- reward: -28.17158274427561 for f_star and f_minus: 24.64021276033415 , 28.17158274427561\n",
      "\t ---------- State is:  (9, 4)\n",
      "[INFO] [2023-03-01 07:24:02,826] [OpenBox-SPO] Iteration 655, objective value: [31.492566743033947].\n"
     ]
    },
    {
     "name": "stderr",
     "output_type": "stream",
     "text": [
      "\r",
      " 66%|█████████████████████████████████████████████████▏                         | 655/1000 [7:53:51<3:49:23, 39.89s/it]"
     ]
    },
    {
     "name": "stdout",
     "output_type": "stream",
     "text": [
      "\t ----- reward: -31.492566743033947 for f_star and f_minus: 24.64021276033415 , 31.492566743033947\n",
      "\t ---------- State is:  (8, 5)\n",
      "[INFO] [2023-03-01 07:24:44,318] [OpenBox-SPO] Iteration 656, objective value: [32.384679294220774].\n"
     ]
    },
    {
     "name": "stderr",
     "output_type": "stream",
     "text": [
      "\r",
      " 66%|█████████████████████████████████████████████████▏                         | 656/1000 [7:54:32<3:51:28, 40.37s/it]"
     ]
    },
    {
     "name": "stdout",
     "output_type": "stream",
     "text": [
      "\t ----- reward: -32.384679294220774 for f_star and f_minus: 24.64021276033415 , 32.384679294220774\n",
      "\t ---------- State is:  (7, 5)\n",
      "[INFO] [2023-03-01 07:25:24,185] [OpenBox-SPO] Iteration 657, objective value: [33.055086129163215].\n"
     ]
    },
    {
     "name": "stderr",
     "output_type": "stream",
     "text": [
      "\r",
      " 66%|█████████████████████████████████████████████████▎                         | 657/1000 [7:55:12<3:49:55, 40.22s/it]"
     ]
    },
    {
     "name": "stdout",
     "output_type": "stream",
     "text": [
      "\t ----- reward: -33.055086129163215 for f_star and f_minus: 24.64021276033415 , 33.055086129163215\n",
      "\t ---------- State is:  (7, 6)\n",
      "[INFO] [2023-03-01 07:26:10,943] [OpenBox-SPO] Iteration 658, objective value: [38.27817537011556].\n"
     ]
    },
    {
     "name": "stderr",
     "output_type": "stream",
     "text": [
      "\r",
      " 66%|█████████████████████████████████████████████████▎                         | 658/1000 [7:55:59<4:00:27, 42.19s/it]"
     ]
    },
    {
     "name": "stdout",
     "output_type": "stream",
     "text": [
      "\t ----- reward: -38.27817537011556 for f_star and f_minus: 24.64021276033415 , 38.27817537011556\n",
      "\t ---------- State is:  (8, 6)\n",
      "[INFO] [2023-03-01 07:26:51,403] [OpenBox-SPO] Iteration 659, objective value: [48.59091241705157].\n"
     ]
    },
    {
     "name": "stderr",
     "output_type": "stream",
     "text": [
      "\r",
      " 66%|█████████████████████████████████████████████████▍                         | 659/1000 [7:56:39<3:56:47, 41.66s/it]"
     ]
    },
    {
     "name": "stdout",
     "output_type": "stream",
     "text": [
      "\t ----- reward: -48.59091241705157 for f_star and f_minus: 24.64021276033415 , 48.59091241705157\n",
      "\t ---------- State is:  (7, 6)\n",
      "[INFO] [2023-03-01 07:27:34,870] [OpenBox-SPO] Iteration 660, objective value: [30.21196104738526].\n"
     ]
    },
    {
     "name": "stderr",
     "output_type": "stream",
     "text": [
      "\r",
      " 66%|█████████████████████████████████████████████████▌                         | 660/1000 [7:57:23<3:59:09, 42.20s/it]"
     ]
    },
    {
     "name": "stdout",
     "output_type": "stream",
     "text": [
      "\t ----- reward: -30.21196104738526 for f_star and f_minus: 24.64021276033415 , 30.21196104738526\n",
      "\t ---------- State is:  (6, 6)\n",
      "[INFO] [2023-03-01 07:28:14,928] [OpenBox-SPO] Iteration 661, objective value: [30.499575063372646].\n"
     ]
    },
    {
     "name": "stderr",
     "output_type": "stream",
     "text": [
      "\r",
      " 66%|█████████████████████████████████████████████████▌                         | 661/1000 [7:58:03<3:54:49, 41.56s/it]"
     ]
    },
    {
     "name": "stdout",
     "output_type": "stream",
     "text": [
      "\t ----- reward: -30.499575063372646 for f_star and f_minus: 24.64021276033415 , 30.499575063372646\n",
      "\t ---------- State is:  (6, 6)\n",
      "[INFO] [2023-03-01 07:28:58,686] [OpenBox-SPO] Iteration 662, objective value: [39.34082870658141].\n"
     ]
    },
    {
     "name": "stderr",
     "output_type": "stream",
     "text": [
      "\r",
      " 66%|█████████████████████████████████████████████████▋                         | 662/1000 [7:58:46<3:57:50, 42.22s/it]"
     ]
    },
    {
     "name": "stdout",
     "output_type": "stream",
     "text": [
      "\t ----- reward: -39.34082870658141 for f_star and f_minus: 24.64021276033415 , 39.34082870658141\n",
      "\t ---------- State is:  (7, 6)\n",
      "[INFO] [2023-03-01 07:29:38,567] [OpenBox-SPO] Iteration 663, objective value: [29.060407206899995].\n"
     ]
    },
    {
     "name": "stderr",
     "output_type": "stream",
     "text": [
      "\r",
      " 66%|█████████████████████████████████████████████████▋                         | 663/1000 [7:59:26<3:53:11, 41.52s/it]"
     ]
    },
    {
     "name": "stdout",
     "output_type": "stream",
     "text": [
      "\t ----- reward: -29.060407206899995 for f_star and f_minus: 24.64021276033415 , 29.060407206899995\n",
      "\t ---------- State is:  (7, 6)\n",
      "[INFO] [2023-03-01 07:30:18,494] [OpenBox-SPO] Iteration 664, objective value: [34.50537460821518].\n"
     ]
    },
    {
     "name": "stderr",
     "output_type": "stream",
     "text": [
      "\r",
      " 66%|█████████████████████████████████████████████████▊                         | 664/1000 [8:00:06<3:49:49, 41.04s/it]"
     ]
    },
    {
     "name": "stdout",
     "output_type": "stream",
     "text": [
      "\t ----- reward: -34.50537460821518 for f_star and f_minus: 24.64021276033415 , 34.50537460821518\n",
      "\t ---------- State is:  (7, 6)\n",
      "[INFO] [2023-03-01 07:30:59,749] [OpenBox-SPO] Iteration 665, objective value: [30.2310743965527].\n"
     ]
    },
    {
     "name": "stderr",
     "output_type": "stream",
     "text": [
      "\r",
      " 66%|█████████████████████████████████████████████████▉                         | 665/1000 [8:00:48<3:49:31, 41.11s/it]"
     ]
    },
    {
     "name": "stdout",
     "output_type": "stream",
     "text": [
      "\t ----- reward: -30.2310743965527 for f_star and f_minus: 24.64021276033415 , 30.2310743965527\n",
      "\t ---------- State is:  (6, 6)\n",
      "[INFO] [2023-03-01 07:31:40,988] [OpenBox-SPO] Iteration 666, objective value: [33.46660627120623].\n"
     ]
    },
    {
     "name": "stderr",
     "output_type": "stream",
     "text": [
      "\r",
      " 67%|█████████████████████████████████████████████████▉                         | 666/1000 [8:01:29<3:49:02, 41.14s/it]"
     ]
    },
    {
     "name": "stdout",
     "output_type": "stream",
     "text": [
      "\t ----- reward: -33.46660627120623 for f_star and f_minus: 24.64021276033415 , 33.46660627120623\n",
      "\t ---------- State is:  (5, 6)\n",
      "[INFO] [2023-03-01 07:32:24,384] [OpenBox-SPO] Iteration 667, objective value: [31.11254001763365].\n"
     ]
    },
    {
     "name": "stderr",
     "output_type": "stream",
     "text": [
      "\r",
      " 67%|██████████████████████████████████████████████████                         | 667/1000 [8:02:12<3:52:05, 41.82s/it]"
     ]
    },
    {
     "name": "stdout",
     "output_type": "stream",
     "text": [
      "\t ----- reward: -31.11254001763365 for f_star and f_minus: 24.64021276033415 , 31.11254001763365\n",
      "\t ---------- State is:  (4, 6)\n",
      "[INFO] [2023-03-01 07:33:08,190] [OpenBox-SPO] Iteration 668, objective value: [31.91755972756927].\n"
     ]
    },
    {
     "name": "stderr",
     "output_type": "stream",
     "text": [
      "\r",
      " 67%|██████████████████████████████████████████████████                         | 668/1000 [8:02:56<3:54:41, 42.42s/it]"
     ]
    },
    {
     "name": "stdout",
     "output_type": "stream",
     "text": [
      "\t ----- reward: -31.91755972756927 for f_star and f_minus: 24.64021276033415 , 31.91755972756927\n",
      "\t ---------- State is:  (4, 7)\n",
      "[INFO] [2023-03-01 07:33:52,154] [OpenBox-SPO] Iteration 669, objective value: [31.22263145784933].\n"
     ]
    },
    {
     "name": "stderr",
     "output_type": "stream",
     "text": [
      "\r",
      " 67%|██████████████████████████████████████████████████▏                        | 669/1000 [8:03:40<3:56:33, 42.88s/it]"
     ]
    },
    {
     "name": "stdout",
     "output_type": "stream",
     "text": [
      "\t ----- reward: -31.22263145784933 for f_star and f_minus: 24.64021276033415 , 31.22263145784933\n",
      "\t ---------- State is:  (3, 7)\n",
      "[INFO] [2023-03-01 07:34:35,303] [OpenBox-SPO] Iteration 670, objective value: [27.066683919877562].\n"
     ]
    },
    {
     "name": "stderr",
     "output_type": "stream",
     "text": [
      "\r",
      " 67%|██████████████████████████████████████████████████▎                        | 670/1000 [8:04:23<3:56:17, 42.96s/it]"
     ]
    },
    {
     "name": "stdout",
     "output_type": "stream",
     "text": [
      "\t ----- reward: -27.066683919877562 for f_star and f_minus: 24.64021276033415 , 27.066683919877562\n",
      "\t ---------- State is:  (3, 6)\n",
      "[INFO] [2023-03-01 07:35:13,278] [OpenBox-SPO] Iteration 671, objective value: [28.60991188787321].\n"
     ]
    },
    {
     "name": "stderr",
     "output_type": "stream",
     "text": [
      "\r",
      " 67%|██████████████████████████████████████████████████▎                        | 671/1000 [8:05:01<3:47:21, 41.47s/it]"
     ]
    },
    {
     "name": "stdout",
     "output_type": "stream",
     "text": [
      "\t ----- reward: -28.60991188787321 for f_star and f_minus: 24.64021276033415 , 28.60991188787321\n",
      "\t ---------- State is:  (3, 6)\n",
      "[INFO] [2023-03-01 07:35:57,599] [OpenBox-SPO] Iteration 672, objective value: [43.002826153406694].\n"
     ]
    },
    {
     "name": "stderr",
     "output_type": "stream",
     "text": [
      "\r",
      " 67%|██████████████████████████████████████████████████▍                        | 672/1000 [8:05:45<3:51:21, 42.32s/it]"
     ]
    },
    {
     "name": "stdout",
     "output_type": "stream",
     "text": [
      "\t ----- reward: -43.002826153406694 for f_star and f_minus: 24.64021276033415 , 43.002826153406694\n",
      "\t ---------- State is:  (4, 6)\n",
      "[INFO] [2023-03-01 07:36:42,887] [OpenBox-SPO] Iteration 673, objective value: [39.64660227636501].\n"
     ]
    },
    {
     "name": "stderr",
     "output_type": "stream",
     "text": [
      "\r",
      " 67%|██████████████████████████████████████████████████▍                        | 673/1000 [8:06:31<3:55:30, 43.21s/it]"
     ]
    },
    {
     "name": "stdout",
     "output_type": "stream",
     "text": [
      "\t ----- reward: -39.64660227636501 for f_star and f_minus: 24.64021276033415 , 39.64660227636501\n",
      "\t ---------- State is:  (3, 7)\n",
      "[INFO] [2023-03-01 07:37:31,774] [OpenBox-SPO] Iteration 674, objective value: [30.859540137638646].\n"
     ]
    },
    {
     "name": "stderr",
     "output_type": "stream",
     "text": [
      "\r",
      " 67%|██████████████████████████████████████████████████▌                        | 674/1000 [8:07:20<4:04:02, 44.91s/it]"
     ]
    },
    {
     "name": "stdout",
     "output_type": "stream",
     "text": [
      "\t ----- reward: -30.859540137638646 for f_star and f_minus: 24.64021276033415 , 30.859540137638646\n",
      "\t ---------- State is:  (4, 7)\n",
      "[INFO] [2023-03-01 07:38:15,901] [OpenBox-SPO] Iteration 675, objective value: [36.638769360649206].\n"
     ]
    },
    {
     "name": "stderr",
     "output_type": "stream",
     "text": [
      "\r",
      " 68%|██████████████████████████████████████████████████▋                        | 675/1000 [8:08:04<4:02:00, 44.68s/it]"
     ]
    },
    {
     "name": "stdout",
     "output_type": "stream",
     "text": [
      "\t ----- reward: -36.638769360649206 for f_star and f_minus: 24.64021276033415 , 36.638769360649206\n",
      "\t ---------- State is:  (4, 7)\n",
      "[INFO] [2023-03-01 07:38:15,901] [Advisor] Sample random config. rand_prob=0.100000.\n",
      "[INFO] [2023-03-01 07:38:46,954] [OpenBox-SPO] Iteration 676, objective value: [54.9931638026245].\n"
     ]
    },
    {
     "name": "stderr",
     "output_type": "stream",
     "text": [
      "\r",
      " 68%|██████████████████████████████████████████████████▋                        | 676/1000 [8:08:35<3:39:11, 40.59s/it]"
     ]
    },
    {
     "name": "stdout",
     "output_type": "stream",
     "text": [
      "\t ----- reward: -54.9931638026245 for f_star and f_minus: 24.64021276033415 , 54.9931638026245\n",
      "\t ---------- State is:  (5, 7)\n",
      "[INFO] [2023-03-01 07:39:25,568] [OpenBox-SPO] Iteration 677, objective value: [38.086639327545136].\n"
     ]
    },
    {
     "name": "stderr",
     "output_type": "stream",
     "text": [
      "\r",
      " 68%|██████████████████████████████████████████████████▊                        | 677/1000 [8:09:13<3:35:19, 40.00s/it]"
     ]
    },
    {
     "name": "stdout",
     "output_type": "stream",
     "text": [
      "\t ----- reward: -38.086639327545136 for f_star and f_minus: 24.64021276033415 , 38.086639327545136\n",
      "\t ---------- State is:  (5, 8)\n",
      "[INFO] [2023-03-01 07:40:05,687] [OpenBox-SPO] Iteration 678, objective value: [28.409156321371043].\n"
     ]
    },
    {
     "name": "stderr",
     "output_type": "stream",
     "text": [
      "\r",
      " 68%|██████████████████████████████████████████████████▊                        | 678/1000 [8:09:53<3:34:50, 40.03s/it]"
     ]
    },
    {
     "name": "stdout",
     "output_type": "stream",
     "text": [
      "\t ----- reward: -28.409156321371043 for f_star and f_minus: 24.64021276033415 , 28.409156321371043\n",
      "\t ---------- State is:  (5, 6)\n",
      "[INFO] [2023-03-01 07:40:42,805] [OpenBox-SPO] Iteration 679, objective value: [41.919544801080335].\n"
     ]
    },
    {
     "name": "stderr",
     "output_type": "stream",
     "text": [
      "\r",
      " 68%|██████████████████████████████████████████████████▉                        | 679/1000 [8:10:31<3:29:30, 39.16s/it]"
     ]
    },
    {
     "name": "stdout",
     "output_type": "stream",
     "text": [
      "\t ----- reward: -41.919544801080335 for f_star and f_minus: 24.64021276033415 , 41.919544801080335\n",
      "\t ---------- State is:  (6, 6)\n",
      "[INFO] [2023-03-01 07:41:28,859] [OpenBox-SPO] Iteration 680, objective value: [37.64213491945914].\n"
     ]
    },
    {
     "name": "stderr",
     "output_type": "stream",
     "text": [
      "\r",
      " 68%|███████████████████████████████████████████████████                        | 680/1000 [8:11:17<3:39:52, 41.23s/it]"
     ]
    },
    {
     "name": "stdout",
     "output_type": "stream",
     "text": [
      "\t ----- reward: -37.64213491945914 for f_star and f_minus: 24.64021276033415 , 37.64213491945914\n",
      "\t ---------- State is:  (6, 8)\n",
      "[INFO] [2023-03-01 07:42:13,819] [OpenBox-SPO] Iteration 681, objective value: [36.80166565176174].\n"
     ]
    },
    {
     "name": "stderr",
     "output_type": "stream",
     "text": [
      "\r",
      " 68%|███████████████████████████████████████████████████                        | 681/1000 [8:12:02<3:45:08, 42.35s/it]"
     ]
    },
    {
     "name": "stdout",
     "output_type": "stream",
     "text": [
      "\t ----- reward: -36.80166565176174 for f_star and f_minus: 24.64021276033415 , 36.80166565176174\n",
      "\t ---------- State is:  (6, 9)\n",
      "[INFO] [2023-03-01 07:42:54,249] [OpenBox-SPO] Iteration 682, objective value: [26.538223922890793].\n"
     ]
    },
    {
     "name": "stderr",
     "output_type": "stream",
     "text": [
      "\r",
      " 68%|███████████████████████████████████████████████████▏                       | 682/1000 [8:12:42<3:41:23, 41.77s/it]"
     ]
    },
    {
     "name": "stdout",
     "output_type": "stream",
     "text": [
      "\t ----- reward: -26.538223922890793 for f_star and f_minus: 24.64021276033415 , 26.538223922890793\n",
      "\t ---------- State is:  (5, 8)\n",
      "[INFO] [2023-03-01 07:43:36,142] [OpenBox-SPO] Iteration 683, objective value: [30.253821297016415].\n"
     ]
    },
    {
     "name": "stderr",
     "output_type": "stream",
     "text": [
      "\r",
      " 68%|███████████████████████████████████████████████████▏                       | 683/1000 [8:13:24<3:40:53, 41.81s/it]"
     ]
    },
    {
     "name": "stdout",
     "output_type": "stream",
     "text": [
      "\t ----- reward: -30.253821297016415 for f_star and f_minus: 24.64021276033415 , 30.253821297016415\n",
      "\t ---------- State is:  (4, 8)\n",
      "[INFO] [2023-03-01 07:44:12,631] [OpenBox-SPO] Iteration 684, objective value: [30.60262737286331].\n"
     ]
    },
    {
     "name": "stderr",
     "output_type": "stream",
     "text": [
      "\r",
      " 68%|███████████████████████████████████████████████████▎                       | 684/1000 [8:14:00<3:31:47, 40.21s/it]"
     ]
    },
    {
     "name": "stdout",
     "output_type": "stream",
     "text": [
      "\t ----- reward: -30.60262737286331 for f_star and f_minus: 24.64021276033415 , 30.60262737286331\n",
      "\t ---------- State is:  (3, 6)\n",
      "[INFO] [2023-03-01 07:44:54,171] [OpenBox-SPO] Iteration 685, objective value: [34.56094079035357].\n"
     ]
    },
    {
     "name": "stderr",
     "output_type": "stream",
     "text": [
      "\r",
      " 68%|███████████████████████████████████████████████████▍                       | 685/1000 [8:14:42<3:33:12, 40.61s/it]"
     ]
    },
    {
     "name": "stdout",
     "output_type": "stream",
     "text": [
      "\t ----- reward: -34.56094079035357 for f_star and f_minus: 24.64021276033415 , 34.56094079035357\n",
      "\t ---------- State is:  (3, 8)\n",
      "[INFO] [2023-03-01 07:45:32,583] [OpenBox-SPO] Iteration 686, objective value: [30.63075059772153].\n"
     ]
    },
    {
     "name": "stderr",
     "output_type": "stream",
     "text": [
      "\r",
      " 69%|███████████████████████████████████████████████████▍                       | 686/1000 [8:15:20<3:29:04, 39.95s/it]"
     ]
    },
    {
     "name": "stdout",
     "output_type": "stream",
     "text": [
      "\t ----- reward: -30.63075059772153 for f_star and f_minus: 24.64021276033415 , 30.63075059772153\n",
      "\t ---------- State is:  (4, 6)\n",
      "[INFO] [2023-03-01 07:46:12,636] [OpenBox-SPO] Iteration 687, objective value: [31.348555134442208].\n"
     ]
    },
    {
     "name": "stderr",
     "output_type": "stream",
     "text": [
      "\r",
      " 69%|███████████████████████████████████████████████████▌                       | 687/1000 [8:16:00<3:28:34, 39.98s/it]"
     ]
    },
    {
     "name": "stdout",
     "output_type": "stream",
     "text": [
      "\t ----- reward: -31.348555134442208 for f_star and f_minus: 24.64021276033415 , 31.348555134442208\n",
      "\t ---------- State is:  (4, 6)\n",
      "[INFO] [2023-03-01 07:46:56,504] [OpenBox-SPO] Iteration 688, objective value: [30.76628936334491].\n"
     ]
    },
    {
     "name": "stderr",
     "output_type": "stream",
     "text": [
      "\r",
      " 69%|███████████████████████████████████████████████████▌                       | 688/1000 [8:16:44<3:33:58, 41.15s/it]"
     ]
    },
    {
     "name": "stdout",
     "output_type": "stream",
     "text": [
      "\t ----- reward: -30.76628936334491 for f_star and f_minus: 24.64021276033415 , 30.76628936334491\n",
      "\t ---------- State is:  (5, 6)\n",
      "[INFO] [2023-03-01 07:47:37,462] [OpenBox-SPO] Iteration 689, objective value: [41.18462455155038].\n"
     ]
    },
    {
     "name": "stderr",
     "output_type": "stream",
     "text": [
      "\r",
      " 69%|███████████████████████████████████████████████████▋                       | 689/1000 [8:17:25<3:32:59, 41.09s/it]"
     ]
    },
    {
     "name": "stdout",
     "output_type": "stream",
     "text": [
      "\t ----- reward: -41.18462455155038 for f_star and f_minus: 24.64021276033415 , 41.18462455155038\n",
      "\t ---------- State is:  (4, 8)\n",
      "[INFO] [2023-03-01 07:48:24,010] [OpenBox-SPO] Iteration 690, objective value: [34.71813519731137].\n"
     ]
    },
    {
     "name": "stderr",
     "output_type": "stream",
     "text": [
      "\r",
      " 69%|███████████████████████████████████████████████████▋                       | 690/1000 [8:18:12<3:40:45, 42.73s/it]"
     ]
    },
    {
     "name": "stdout",
     "output_type": "stream",
     "text": [
      "\t ----- reward: -34.71813519731137 for f_star and f_minus: 24.64021276033415 , 34.71813519731137\n",
      "\t ---------- State is:  (4, 9)\n",
      "[INFO] [2023-03-01 07:49:07,579] [OpenBox-SPO] Iteration 691, objective value: [40.10227160190419].\n"
     ]
    },
    {
     "name": "stderr",
     "output_type": "stream",
     "text": [
      "\r",
      " 69%|███████████████████████████████████████████████████▊                       | 691/1000 [8:18:55<3:41:20, 42.98s/it]"
     ]
    },
    {
     "name": "stdout",
     "output_type": "stream",
     "text": [
      "\t ----- reward: -40.10227160190419 for f_star and f_minus: 24.64021276033415 , 40.10227160190419\n",
      "\t ---------- State is:  (5, 11)\n",
      "[INFO] [2023-03-01 07:49:58,166] [OpenBox-SPO] Iteration 692, objective value: [37.02739307391057].\n"
     ]
    },
    {
     "name": "stderr",
     "output_type": "stream",
     "text": [
      "\r",
      " 69%|███████████████████████████████████████████████████▉                       | 692/1000 [8:19:46<3:52:20, 45.26s/it]"
     ]
    },
    {
     "name": "stdout",
     "output_type": "stream",
     "text": [
      "\t ----- reward: -37.02739307391057 for f_star and f_minus: 24.64021276033415 , 37.02739307391057\n",
      "\t ---------- State is:  (4, 11)\n",
      "[INFO] [2023-03-01 07:50:40,406] [OpenBox-SPO] Iteration 693, objective value: [31.46932894337084].\n"
     ]
    },
    {
     "name": "stderr",
     "output_type": "stream",
     "text": [
      "\r",
      " 69%|███████████████████████████████████████████████████▉                       | 693/1000 [8:20:28<3:46:57, 44.36s/it]"
     ]
    },
    {
     "name": "stdout",
     "output_type": "stream",
     "text": [
      "\t ----- reward: -31.46932894337084 for f_star and f_minus: 24.64021276033415 , 31.46932894337084\n",
      "\t ---------- State is:  (4, 9)\n",
      "[INFO] [2023-03-01 07:51:19,442] [OpenBox-SPO] Iteration 694, objective value: [34.56644329906648].\n"
     ]
    },
    {
     "name": "stderr",
     "output_type": "stream",
     "text": [
      "\r",
      " 69%|████████████████████████████████████████████████████                       | 694/1000 [8:21:07<3:38:04, 42.76s/it]"
     ]
    },
    {
     "name": "stdout",
     "output_type": "stream",
     "text": [
      "\t ----- reward: -34.56644329906648 for f_star and f_minus: 24.64021276033415 , 34.56644329906648\n",
      "\t ---------- State is:  (3, 10)\n",
      "[INFO] [2023-03-01 07:52:01,538] [OpenBox-SPO] Iteration 695, objective value: [30.338126676588757].\n"
     ]
    },
    {
     "name": "stderr",
     "output_type": "stream",
     "text": [
      "\r",
      " 70%|████████████████████████████████████████████████████                       | 695/1000 [8:21:49<3:36:20, 42.56s/it]"
     ]
    },
    {
     "name": "stdout",
     "output_type": "stream",
     "text": [
      "\t ----- reward: -30.338126676588757 for f_star and f_minus: 24.64021276033415 , 30.338126676588757\n",
      "\t ---------- State is:  (3, 9)\n",
      "[INFO] [2023-03-01 07:52:40,497] [OpenBox-SPO] Iteration 696, objective value: [44.65694123971276].\n"
     ]
    },
    {
     "name": "stderr",
     "output_type": "stream",
     "text": [
      "\r",
      " 70%|████████████████████████████████████████████████████▏                      | 696/1000 [8:22:28<3:30:09, 41.48s/it]"
     ]
    },
    {
     "name": "stdout",
     "output_type": "stream",
     "text": [
      "\t ----- reward: -44.65694123971276 for f_star and f_minus: 24.64021276033415 , 44.65694123971276\n",
      "\t ---------- State is:  (3, 9)\n",
      "[INFO] [2023-03-01 07:53:21,872] [OpenBox-SPO] Iteration 697, objective value: [38.380788047018235].\n"
     ]
    },
    {
     "name": "stderr",
     "output_type": "stream",
     "text": [
      "\r",
      " 70%|████████████████████████████████████████████████████▎                      | 697/1000 [8:23:10<3:29:18, 41.45s/it]"
     ]
    },
    {
     "name": "stdout",
     "output_type": "stream",
     "text": [
      "\t ----- reward: -38.380788047018235 for f_star and f_minus: 24.64021276033415 , 38.380788047018235\n",
      "\t ---------- State is:  (2, 9)\n",
      "[INFO] [2023-03-01 07:54:03,268] [OpenBox-SPO] Iteration 698, objective value: [33.70522489950642].\n"
     ]
    },
    {
     "name": "stderr",
     "output_type": "stream",
     "text": [
      "\r",
      " 70%|████████████████████████████████████████████████████▎                      | 698/1000 [8:23:51<3:28:32, 41.43s/it]"
     ]
    },
    {
     "name": "stdout",
     "output_type": "stream",
     "text": [
      "\t ----- reward: -33.70522489950642 for f_star and f_minus: 24.64021276033415 , 33.70522489950642\n",
      "\t ---------- State is:  (1, 9)\n",
      "[INFO] [2023-03-01 07:54:45,982] [OpenBox-SPO] Iteration 699, objective value: [43.58247937421773].\n"
     ]
    },
    {
     "name": "stderr",
     "output_type": "stream",
     "text": [
      "\r",
      " 70%|████████████████████████████████████████████████████▍                      | 699/1000 [8:24:34<3:29:46, 41.82s/it]"
     ]
    },
    {
     "name": "stdout",
     "output_type": "stream",
     "text": [
      "\t ----- reward: -43.58247937421773 for f_star and f_minus: 24.64021276033415 , 43.58247937421773\n",
      "\t ---------- State is:  (2, 9)\n",
      "[INFO] [2023-03-01 07:55:28,893] [OpenBox-SPO] Iteration 700, objective value: [37.34837610122377].\n"
     ]
    },
    {
     "name": "stderr",
     "output_type": "stream",
     "text": [
      "\r",
      " 70%|████████████████████████████████████████████████████▌                      | 700/1000 [8:25:17<3:30:43, 42.15s/it]"
     ]
    },
    {
     "name": "stdout",
     "output_type": "stream",
     "text": [
      "\t ----- reward: -37.34837610122377 for f_star and f_minus: 24.64021276033415 , 37.34837610122377\n",
      "\t ---------- State is:  (2, 9)\n",
      "[INFO] [2023-03-01 07:55:28,893] [Advisor] Sample random config. rand_prob=0.100000.\n",
      "[INFO] [2023-03-01 07:56:11,619] [OpenBox-SPO] Iteration 701, objective value: [46.39241497978568].\n"
     ]
    },
    {
     "name": "stderr",
     "output_type": "stream",
     "text": [
      "\r",
      " 70%|████████████████████████████████████████████████████▌                      | 701/1000 [8:25:59<3:30:53, 42.32s/it]"
     ]
    },
    {
     "name": "stdout",
     "output_type": "stream",
     "text": [
      "\t ----- reward: -46.39241497978568 for f_star and f_minus: 24.64021276033415 , 46.39241497978568\n",
      "\t ---------- State is:  (3, 9)\n",
      "[INFO] [2023-03-01 07:56:11,619] [Advisor] Sample random config. rand_prob=0.100000.\n",
      "[INFO] [2023-03-01 07:56:39,844] [OpenBox-SPO] Iteration 702, objective value: [54.756215411153626].\n"
     ]
    },
    {
     "name": "stderr",
     "output_type": "stream",
     "text": [
      "\r",
      " 70%|████████████████████████████████████████████████████▋                      | 702/1000 [8:26:28<3:09:11, 38.09s/it]"
     ]
    },
    {
     "name": "stdout",
     "output_type": "stream",
     "text": [
      "\t ----- reward: -54.756215411153626 for f_star and f_minus: 24.64021276033415 , 54.756215411153626\n",
      "\t ---------- State is:  (4, 10)\n",
      "[INFO] [2023-03-01 07:57:21,787] [OpenBox-SPO] Iteration 703, objective value: [38.64278658708561].\n"
     ]
    },
    {
     "name": "stderr",
     "output_type": "stream",
     "text": [
      "\r",
      " 70%|████████████████████████████████████████████████████▋                      | 703/1000 [8:27:10<3:14:16, 39.25s/it]"
     ]
    },
    {
     "name": "stdout",
     "output_type": "stream",
     "text": [
      "\t ----- reward: -38.64278658708561 for f_star and f_minus: 24.64021276033415 , 38.64278658708561\n",
      "\t ---------- State is:  (3, 11)\n",
      "[INFO] [2023-03-01 07:58:07,421] [OpenBox-SPO] Iteration 704, objective value: [39.17741926401005].\n"
     ]
    },
    {
     "name": "stderr",
     "output_type": "stream",
     "text": [
      "\r",
      " 70%|████████████████████████████████████████████████████▊                      | 704/1000 [8:27:55<3:23:04, 41.16s/it]"
     ]
    },
    {
     "name": "stdout",
     "output_type": "stream",
     "text": [
      "\t ----- reward: -39.17741926401005 for f_star and f_minus: 24.64021276033415 , 39.17741926401005\n",
      "\t ---------- State is:  (2, 12)\n",
      "[INFO] [2023-03-01 07:58:48,055] [OpenBox-SPO] Iteration 705, objective value: [41.386345825226265].\n"
     ]
    },
    {
     "name": "stderr",
     "output_type": "stream",
     "text": [
      "\r",
      " 70%|████████████████████████████████████████████████████▉                      | 705/1000 [8:28:36<3:21:36, 41.00s/it]"
     ]
    },
    {
     "name": "stdout",
     "output_type": "stream",
     "text": [
      "\t ----- reward: -41.386345825226265 for f_star and f_minus: 24.64021276033415 , 41.386345825226265\n",
      "\t ---------- State is:  (1, 13)\n",
      "[INFO] [2023-03-01 07:59:35,312] [OpenBox-SPO] Iteration 706, objective value: [32.69983658059074].\n"
     ]
    },
    {
     "name": "stderr",
     "output_type": "stream",
     "text": [
      "\r",
      " 71%|████████████████████████████████████████████████████▉                      | 706/1000 [8:29:23<3:30:06, 42.88s/it]"
     ]
    },
    {
     "name": "stdout",
     "output_type": "stream",
     "text": [
      "\t ----- reward: -32.69983658059074 for f_star and f_minus: 24.64021276033415 , 32.69983658059074\n",
      "\t ---------- State is:  (0, 13)\n",
      "[INFO] [2023-03-01 08:00:11,005] [OpenBox-SPO] Iteration 707, objective value: [47.74502456529157].\n"
     ]
    },
    {
     "name": "stderr",
     "output_type": "stream",
     "text": [
      "\r",
      " 71%|█████████████████████████████████████████████████████                      | 707/1000 [8:29:59<3:18:52, 40.72s/it]"
     ]
    },
    {
     "name": "stdout",
     "output_type": "stream",
     "text": [
      "\t ----- reward: -47.74502456529157 for f_star and f_minus: 24.64021276033415 , 47.74502456529157\n",
      "\t ---------- State is:  (1, 13)\n",
      "[INFO] [2023-03-01 08:00:52,816] [OpenBox-SPO] Iteration 708, objective value: [36.27589431281362].\n"
     ]
    },
    {
     "name": "stderr",
     "output_type": "stream",
     "text": [
      "\r",
      " 71%|█████████████████████████████████████████████████████                      | 708/1000 [8:30:41<3:19:46, 41.05s/it]"
     ]
    },
    {
     "name": "stdout",
     "output_type": "stream",
     "text": [
      "\t ----- reward: -36.27589431281362 for f_star and f_minus: 24.64021276033415 , 36.27589431281362\n",
      "\t ---------- State is:  (1, 13)\n",
      "[INFO] [2023-03-01 08:01:38,107] [OpenBox-SPO] Iteration 709, objective value: [39.137958467743694].\n"
     ]
    },
    {
     "name": "stderr",
     "output_type": "stream",
     "text": [
      "\r",
      " 71%|█████████████████████████████████████████████████████▏                     | 709/1000 [8:31:26<3:25:15, 42.32s/it]"
     ]
    },
    {
     "name": "stdout",
     "output_type": "stream",
     "text": [
      "\t ----- reward: -39.137958467743694 for f_star and f_minus: 24.64021276033415 , 39.137958467743694\n",
      "\t ---------- State is:  (0, 13)\n",
      "[INFO] [2023-03-01 08:02:19,842] [OpenBox-SPO] Iteration 710, objective value: [41.89851406371608].\n"
     ]
    },
    {
     "name": "stderr",
     "output_type": "stream",
     "text": [
      "\r",
      " 71%|█████████████████████████████████████████████████████▎                     | 710/1000 [8:32:08<3:23:43, 42.15s/it]"
     ]
    },
    {
     "name": "stdout",
     "output_type": "stream",
     "text": [
      "\t ----- reward: -41.89851406371608 for f_star and f_minus: 24.64021276033415 , 41.89851406371608\n",
      "\t ---------- State is:  (0, 14)\n",
      "[INFO] [2023-03-01 08:02:55,452] [OpenBox-SPO] Iteration 711, objective value: [37.90179374592777].\n"
     ]
    },
    {
     "name": "stderr",
     "output_type": "stream",
     "text": [
      "\r",
      " 71%|█████████████████████████████████████████████████████▎                     | 711/1000 [8:32:43<3:13:33, 40.18s/it]"
     ]
    },
    {
     "name": "stdout",
     "output_type": "stream",
     "text": [
      "\t ----- reward: -37.90179374592777 for f_star and f_minus: 24.64021276033415 , 37.90179374592777\n",
      "\t ---------- State is:  (1, 13)\n",
      "[INFO] [2023-03-01 08:02:55,452] [Advisor] Sample random config. rand_prob=0.100000.\n",
      "[INFO] [2023-03-01 08:03:29,550] [OpenBox-SPO] Iteration 712, objective value: [53.58108164261942].\n"
     ]
    },
    {
     "name": "stderr",
     "output_type": "stream",
     "text": [
      "\r",
      " 71%|█████████████████████████████████████████████████████▍                     | 712/1000 [8:33:17<3:04:07, 38.36s/it]"
     ]
    },
    {
     "name": "stdout",
     "output_type": "stream",
     "text": [
      "\t ----- reward: -53.58108164261942 for f_star and f_minus: 24.64021276033415 , 53.58108164261942\n",
      "\t ---------- State is:  (2, 14)\n",
      "[INFO] [2023-03-01 08:04:16,932] [OpenBox-SPO] Iteration 713, objective value: [41.16454600591519].\n"
     ]
    },
    {
     "name": "stderr",
     "output_type": "stream",
     "text": [
      "\r",
      " 71%|█████████████████████████████████████████████████████▍                     | 713/1000 [8:34:05<3:16:25, 41.07s/it]"
     ]
    },
    {
     "name": "stdout",
     "output_type": "stream",
     "text": [
      "\t ----- reward: -41.16454600591519 for f_star and f_minus: 24.64021276033415 , 41.16454600591519\n",
      "\t ---------- State is:  (1, 14)\n",
      "[INFO] [2023-03-01 08:05:02,536] [OpenBox-SPO] Iteration 714, objective value: [35.06619570949756].\n"
     ]
    },
    {
     "name": "stderr",
     "output_type": "stream",
     "text": [
      "\r",
      " 71%|█████████████████████████████████████████████████████▌                     | 714/1000 [8:34:50<3:22:15, 42.43s/it]"
     ]
    },
    {
     "name": "stdout",
     "output_type": "stream",
     "text": [
      "\t ----- reward: -35.06619570949756 for f_star and f_minus: 24.64021276033415 , 35.06619570949756\n",
      "\t ---------- State is:  (0, 14)\n",
      "[INFO] [2023-03-01 08:05:43,010] [OpenBox-SPO] Iteration 715, objective value: [38.06223141024395].\n"
     ]
    },
    {
     "name": "stderr",
     "output_type": "stream",
     "text": [
      "\r",
      " 72%|█████████████████████████████████████████████████████▋                     | 715/1000 [8:35:31<3:18:44, 41.84s/it]"
     ]
    },
    {
     "name": "stdout",
     "output_type": "stream",
     "text": [
      "\t ----- reward: -38.06223141024395 for f_star and f_minus: 24.64021276033415 , 38.06223141024395\n",
      "\t ---------- State is:  (0, 14)\n",
      "[INFO] [2023-03-01 08:06:21,986] [OpenBox-SPO] Iteration 716, objective value: [38.66243861414611].\n"
     ]
    },
    {
     "name": "stderr",
     "output_type": "stream",
     "text": [
      "\r",
      " 72%|█████████████████████████████████████████████████████▋                     | 716/1000 [8:36:10<3:13:58, 40.98s/it]"
     ]
    },
    {
     "name": "stdout",
     "output_type": "stream",
     "text": [
      "\t ----- reward: -38.66243861414611 for f_star and f_minus: 24.64021276033415 , 38.66243861414611\n",
      "\t ---------- State is:  (0, 14)\n",
      "[INFO] [2023-03-01 08:07:01,682] [OpenBox-SPO] Iteration 717, objective value: [26.92001917432377].\n"
     ]
    },
    {
     "name": "stderr",
     "output_type": "stream",
     "text": [
      "\r",
      " 72%|█████████████████████████████████████████████████████▊                     | 717/1000 [8:36:49<3:11:28, 40.60s/it]"
     ]
    },
    {
     "name": "stdout",
     "output_type": "stream",
     "text": [
      "\t ----- reward: -26.92001917432377 for f_star and f_minus: 24.64021276033415 , 26.92001917432377\n",
      "\t ---------- State is:  (1, 14)\n",
      "[INFO] [2023-03-01 08:07:39,673] [OpenBox-SPO] Iteration 718, objective value: [28.98504453290049].\n"
     ]
    },
    {
     "name": "stderr",
     "output_type": "stream",
     "text": [
      "\r",
      " 72%|█████████████████████████████████████████████████████▊                     | 718/1000 [8:37:27<3:07:07, 39.81s/it]"
     ]
    },
    {
     "name": "stdout",
     "output_type": "stream",
     "text": [
      "\t ----- reward: -28.98504453290049 for f_star and f_minus: 24.64021276033415 , 28.98504453290049\n",
      "\t ---------- State is:  (0, 14)\n",
      "[INFO] [2023-03-01 08:08:28,508] [OpenBox-SPO] Iteration 719, objective value: [32.345991866951024].\n"
     ]
    },
    {
     "name": "stderr",
     "output_type": "stream",
     "text": [
      "\r",
      " 72%|█████████████████████████████████████████████████████▉                     | 719/1000 [8:38:16<3:19:08, 42.52s/it]"
     ]
    },
    {
     "name": "stdout",
     "output_type": "stream",
     "text": [
      "\t ----- reward: -32.345991866951024 for f_star and f_minus: 24.64021276033415 , 32.345991866951024\n",
      "\t ---------- State is:  (0, 14)\n",
      "[INFO] [2023-03-01 08:09:05,668] [OpenBox-SPO] Iteration 720, objective value: [33.777512953199704].\n"
     ]
    },
    {
     "name": "stderr",
     "output_type": "stream",
     "text": [
      "\r",
      " 72%|██████████████████████████████████████████████████████                     | 720/1000 [8:38:53<3:10:55, 40.91s/it]"
     ]
    },
    {
     "name": "stdout",
     "output_type": "stream",
     "text": [
      "\t ----- reward: -33.777512953199704 for f_star and f_minus: 24.64021276033415 , 33.777512953199704\n",
      "\t ---------- State is:  (0, 14)\n",
      "[INFO] [2023-03-01 08:09:51,019] [OpenBox-SPO] Iteration 721, objective value: [41.71435538351681].\n"
     ]
    },
    {
     "name": "stderr",
     "output_type": "stream",
     "text": [
      "\r",
      " 72%|██████████████████████████████████████████████████████                     | 721/1000 [8:39:39<3:16:26, 42.24s/it]"
     ]
    },
    {
     "name": "stdout",
     "output_type": "stream",
     "text": [
      "\t ----- reward: -41.71435538351681 for f_star and f_minus: 24.64021276033415 , 41.71435538351681\n",
      "\t ---------- State is:  (1, 14)\n",
      "[INFO] [2023-03-01 08:10:36,743] [OpenBox-SPO] Iteration 722, objective value: [31.752651558855035].\n"
     ]
    },
    {
     "name": "stderr",
     "output_type": "stream",
     "text": [
      "\r",
      " 72%|██████████████████████████████████████████████████████▏                    | 722/1000 [8:40:25<3:20:34, 43.29s/it]"
     ]
    },
    {
     "name": "stdout",
     "output_type": "stream",
     "text": [
      "\t ----- reward: -31.752651558855035 for f_star and f_minus: 24.64021276033415 , 31.752651558855035\n",
      "\t ---------- State is:  (2, 13)\n",
      "[INFO] [2023-03-01 08:11:20,937] [OpenBox-SPO] Iteration 723, objective value: [31.200549482946315].\n"
     ]
    },
    {
     "name": "stderr",
     "output_type": "stream",
     "text": [
      "\r",
      " 72%|██████████████████████████████████████████████████████▏                    | 723/1000 [8:41:09<3:21:06, 43.56s/it]"
     ]
    },
    {
     "name": "stdout",
     "output_type": "stream",
     "text": [
      "\t ----- reward: -31.200549482946315 for f_star and f_minus: 24.64021276033415 , 31.200549482946315\n",
      "\t ---------- State is:  (2, 13)\n",
      "[INFO] [2023-03-01 08:12:04,945] [OpenBox-SPO] Iteration 724, objective value: [30.66165038886136].\n"
     ]
    },
    {
     "name": "stderr",
     "output_type": "stream",
     "text": [
      "\r",
      " 72%|██████████████████████████████████████████████████████▎                    | 724/1000 [8:41:53<3:20:59, 43.69s/it]"
     ]
    },
    {
     "name": "stdout",
     "output_type": "stream",
     "text": [
      "\t ----- reward: -30.66165038886136 for f_star and f_minus: 24.64021276033415 , 30.66165038886136\n",
      "\t ---------- State is:  (2, 12)\n",
      "[INFO] [2023-03-01 08:12:45,547] [OpenBox-SPO] Iteration 725, objective value: [37.4088173525713].\n"
     ]
    },
    {
     "name": "stderr",
     "output_type": "stream",
     "text": [
      "\r",
      " 72%|██████████████████████████████████████████████████████▍                    | 725/1000 [8:42:33<3:16:00, 42.77s/it]"
     ]
    },
    {
     "name": "stdout",
     "output_type": "stream",
     "text": [
      "\t ----- reward: -37.4088173525713 for f_star and f_minus: 24.64021276033415 , 37.4088173525713\n",
      "\t ---------- State is:  (1, 12)\n",
      "[INFO] [2023-03-01 08:13:29,006] [OpenBox-SPO] Iteration 726, objective value: [32.3620102548509].\n"
     ]
    },
    {
     "name": "stderr",
     "output_type": "stream",
     "text": [
      "\r",
      " 73%|██████████████████████████████████████████████████████▍                    | 726/1000 [8:43:17<3:16:14, 42.97s/it]"
     ]
    },
    {
     "name": "stdout",
     "output_type": "stream",
     "text": [
      "\t ----- reward: -32.3620102548509 for f_star and f_minus: 24.64021276033415 , 32.3620102548509\n",
      "\t ---------- State is:  (1, 12)\n",
      "[INFO] [2023-03-01 08:14:10,160] [OpenBox-SPO] Iteration 727, objective value: [36.64457866150117].\n"
     ]
    },
    {
     "name": "stderr",
     "output_type": "stream",
     "text": [
      "\r",
      " 73%|██████████████████████████████████████████████████████▌                    | 727/1000 [8:43:58<3:13:02, 42.43s/it]"
     ]
    },
    {
     "name": "stdout",
     "output_type": "stream",
     "text": [
      "\t ----- reward: -36.64457866150117 for f_star and f_minus: 24.64021276033415 , 36.64457866150117\n",
      "\t ---------- State is:  (0, 11)\n",
      "[INFO] [2023-03-01 08:14:50,684] [OpenBox-SPO] Iteration 728, objective value: [39.180547074082504].\n"
     ]
    },
    {
     "name": "stderr",
     "output_type": "stream",
     "text": [
      "\r",
      " 73%|██████████████████████████████████████████████████████▌                    | 728/1000 [8:44:38<3:09:45, 41.86s/it]"
     ]
    },
    {
     "name": "stdout",
     "output_type": "stream",
     "text": [
      "\t ----- reward: -39.180547074082504 for f_star and f_minus: 24.64021276033415 , 39.180547074082504\n",
      "\t ---------- State is:  (0, 12)\n",
      "[INFO] [2023-03-01 08:15:32,556] [OpenBox-SPO] Iteration 729, objective value: [31.33514682319904].\n"
     ]
    },
    {
     "name": "stderr",
     "output_type": "stream",
     "text": [
      "\r",
      " 73%|██████████████████████████████████████████████████████▋                    | 729/1000 [8:45:20<3:09:04, 41.86s/it]"
     ]
    },
    {
     "name": "stdout",
     "output_type": "stream",
     "text": [
      "\t ----- reward: -31.33514682319904 for f_star and f_minus: 24.64021276033415 , 31.33514682319904\n",
      "\t ---------- State is:  (0, 11)\n",
      "[INFO] [2023-03-01 08:16:12,344] [OpenBox-SPO] Iteration 730, objective value: [48.94064242694505].\n"
     ]
    },
    {
     "name": "stderr",
     "output_type": "stream",
     "text": [
      "\r",
      " 73%|██████████████████████████████████████████████████████▊                    | 730/1000 [8:46:00<3:05:34, 41.24s/it]"
     ]
    },
    {
     "name": "stdout",
     "output_type": "stream",
     "text": [
      "\t ----- reward: -48.94064242694505 for f_star and f_minus: 24.64021276033415 , 48.94064242694505\n",
      "\t ---------- State is:  (1, 11)\n",
      "[INFO] [2023-03-01 08:16:53,978] [OpenBox-SPO] Iteration 731, objective value: [35.283604741739865].\n"
     ]
    },
    {
     "name": "stderr",
     "output_type": "stream",
     "text": [
      "\r",
      " 73%|██████████████████████████████████████████████████████▊                    | 731/1000 [8:46:42<3:05:25, 41.36s/it]"
     ]
    },
    {
     "name": "stdout",
     "output_type": "stream",
     "text": [
      "\t ----- reward: -35.283604741739865 for f_star and f_minus: 24.64021276033415 , 35.283604741739865\n",
      "\t ---------- State is:  (1, 10)\n",
      "[INFO] [2023-03-01 08:17:37,233] [OpenBox-SPO] Iteration 732, objective value: [40.8747228315014].\n"
     ]
    },
    {
     "name": "stderr",
     "output_type": "stream",
     "text": [
      "\r",
      " 73%|██████████████████████████████████████████████████████▉                    | 732/1000 [8:47:25<3:07:16, 41.93s/it]"
     ]
    },
    {
     "name": "stdout",
     "output_type": "stream",
     "text": [
      "\t ----- reward: -40.8747228315014 for f_star and f_minus: 24.64021276033415 , 40.8747228315014\n",
      "\t ---------- State is:  (2, 10)\n",
      "[INFO] [2023-03-01 08:18:23,421] [OpenBox-SPO] Iteration 733, objective value: [37.610450332154485].\n"
     ]
    },
    {
     "name": "stderr",
     "output_type": "stream",
     "text": [
      "\r",
      " 73%|██████████████████████████████████████████████████████▉                    | 733/1000 [8:48:11<3:12:15, 43.21s/it]"
     ]
    },
    {
     "name": "stdout",
     "output_type": "stream",
     "text": [
      "\t ----- reward: -37.610450332154485 for f_star and f_minus: 24.64021276033415 , 37.610450332154485\n",
      "\t ---------- State is:  (1, 10)\n",
      "[INFO] [2023-03-01 08:19:04,352] [OpenBox-SPO] Iteration 734, objective value: [51.894153470175006].\n"
     ]
    },
    {
     "name": "stderr",
     "output_type": "stream",
     "text": [
      "\r",
      " 73%|███████████████████████████████████████████████████████                    | 734/1000 [8:48:52<3:08:31, 42.52s/it]"
     ]
    },
    {
     "name": "stdout",
     "output_type": "stream",
     "text": [
      "\t ----- reward: -51.894153470175006 for f_star and f_minus: 24.64021276033415 , 51.894153470175006\n",
      "\t ---------- State is:  (0, 11)\n",
      "[INFO] [2023-03-01 08:19:48,657] [OpenBox-SPO] Iteration 735, objective value: [38.11628037977075].\n"
     ]
    },
    {
     "name": "stderr",
     "output_type": "stream",
     "text": [
      "\r",
      " 74%|███████████████████████████████████████████████████████▏                   | 735/1000 [8:49:36<3:10:10, 43.06s/it]"
     ]
    },
    {
     "name": "stdout",
     "output_type": "stream",
     "text": [
      "\t ----- reward: -38.11628037977075 for f_star and f_minus: 24.64021276033415 , 38.11628037977075\n",
      "\t ---------- State is:  (0, 11)\n",
      "[INFO] [2023-03-01 08:20:32,053] [OpenBox-SPO] Iteration 736, objective value: [30.750172769152712].\n"
     ]
    },
    {
     "name": "stderr",
     "output_type": "stream",
     "text": [
      "\r",
      " 74%|███████████████████████████████████████████████████████▏                   | 736/1000 [8:50:20<3:09:53, 43.16s/it]"
     ]
    },
    {
     "name": "stdout",
     "output_type": "stream",
     "text": [
      "\t ----- reward: -30.750172769152712 for f_star and f_minus: 24.64021276033415 , 30.750172769152712\n",
      "\t ---------- State is:  (0, 9)\n",
      "[INFO] [2023-03-01 08:21:14,137] [OpenBox-SPO] Iteration 737, objective value: [42.737034630434614].\n"
     ]
    },
    {
     "name": "stderr",
     "output_type": "stream",
     "text": [
      "\r",
      " 74%|███████████████████████████████████████████████████████▎                   | 737/1000 [8:51:02<3:07:45, 42.84s/it]"
     ]
    },
    {
     "name": "stdout",
     "output_type": "stream",
     "text": [
      "\t ----- reward: -42.737034630434614 for f_star and f_minus: 24.64021276033415 , 42.737034630434614\n",
      "\t ---------- State is:  (0, 11)\n",
      "[INFO] [2023-03-01 08:21:54,063] [OpenBox-SPO] Iteration 738, objective value: [36.13675729682991].\n"
     ]
    },
    {
     "name": "stderr",
     "output_type": "stream",
     "text": [
      "\r",
      " 74%|███████████████████████████████████████████████████████▎                   | 738/1000 [8:51:42<3:03:14, 41.96s/it]"
     ]
    },
    {
     "name": "stdout",
     "output_type": "stream",
     "text": [
      "\t ----- reward: -36.13675729682991 for f_star and f_minus: 24.64021276033415 , 36.13675729682991\n",
      "\t ---------- State is:  (0, 11)\n",
      "[INFO] [2023-03-01 08:22:37,109] [OpenBox-SPO] Iteration 739, objective value: [39.950672764100794].\n"
     ]
    },
    {
     "name": "stderr",
     "output_type": "stream",
     "text": [
      "\r",
      " 74%|███████████████████████████████████████████████████████▍                   | 739/1000 [8:52:25<3:03:57, 42.29s/it]"
     ]
    },
    {
     "name": "stdout",
     "output_type": "stream",
     "text": [
      "\t ----- reward: -39.950672764100794 for f_star and f_minus: 24.64021276033415 , 39.950672764100794\n",
      "\t ---------- State is:  (1, 12)\n",
      "[INFO] [2023-03-01 08:23:17,567] [OpenBox-SPO] Iteration 740, objective value: [32.499484446300414].\n"
     ]
    },
    {
     "name": "stderr",
     "output_type": "stream",
     "text": [
      "\r",
      " 74%|███████████████████████████████████████████████████████▌                   | 740/1000 [8:53:05<3:00:52, 41.74s/it]"
     ]
    },
    {
     "name": "stdout",
     "output_type": "stream",
     "text": [
      "\t ----- reward: -32.499484446300414 for f_star and f_minus: 24.64021276033415 , 32.499484446300414\n",
      "\t ---------- State is:  (2, 12)\n",
      "[INFO] [2023-03-01 08:24:05,229] [OpenBox-SPO] Iteration 741, objective value: [46.99417044368601].\n"
     ]
    },
    {
     "name": "stderr",
     "output_type": "stream",
     "text": [
      "\r",
      " 74%|███████████████████████████████████████████████████████▌                   | 741/1000 [8:53:53<3:07:50, 43.52s/it]"
     ]
    },
    {
     "name": "stdout",
     "output_type": "stream",
     "text": [
      "\t ----- reward: -46.99417044368601 for f_star and f_minus: 24.64021276033415 , 46.99417044368601\n",
      "\t ---------- State is:  (3, 12)\n",
      "[INFO] [2023-03-01 08:24:51,239] [OpenBox-SPO] Iteration 742, objective value: [32.231319638208575].\n"
     ]
    },
    {
     "name": "stderr",
     "output_type": "stream",
     "text": [
      "\r",
      " 74%|███████████████████████████████████████████████████████▋                   | 742/1000 [8:54:39<3:10:20, 44.26s/it]"
     ]
    },
    {
     "name": "stdout",
     "output_type": "stream",
     "text": [
      "\t ----- reward: -32.231319638208575 for f_star and f_minus: 24.64021276033415 , 32.231319638208575\n",
      "\t ---------- State is:  (4, 12)\n",
      "[INFO] [2023-03-01 08:25:32,244] [OpenBox-SPO] Iteration 743, objective value: [37.510771556332315].\n"
     ]
    },
    {
     "name": "stderr",
     "output_type": "stream",
     "text": [
      "\r",
      " 74%|███████████████████████████████████████████████████████▋                   | 743/1000 [8:55:20<3:05:24, 43.29s/it]"
     ]
    },
    {
     "name": "stdout",
     "output_type": "stream",
     "text": [
      "\t ----- reward: -37.510771556332315 for f_star and f_minus: 24.64021276033415 , 37.510771556332315\n",
      "\t ---------- State is:  (4, 12)\n",
      "[INFO] [2023-03-01 08:25:32,244] [Advisor] Sample random config. rand_prob=0.100000.\n",
      "[INFO] [2023-03-01 08:26:11,722] [OpenBox-SPO] Iteration 744, objective value: [54.76168974220756].\n"
     ]
    },
    {
     "name": "stderr",
     "output_type": "stream",
     "text": [
      "\r",
      " 74%|███████████████████████████████████████████████████████▊                   | 744/1000 [8:56:00<2:59:48, 42.14s/it]"
     ]
    },
    {
     "name": "stdout",
     "output_type": "stream",
     "text": [
      "\t ----- reward: -54.76168974220756 for f_star and f_minus: 24.64021276033415 , 54.76168974220756\n",
      "\t ---------- State is:  (5, 12)\n",
      "[INFO] [2023-03-01 08:26:53,069] [OpenBox-SPO] Iteration 745, objective value: [37.31218190373398].\n"
     ]
    },
    {
     "name": "stderr",
     "output_type": "stream",
     "text": [
      "\r",
      " 74%|███████████████████████████████████████████████████████▉                   | 745/1000 [8:56:41<2:58:05, 41.90s/it]"
     ]
    },
    {
     "name": "stdout",
     "output_type": "stream",
     "text": [
      "\t ----- reward: -37.31218190373398 for f_star and f_minus: 24.64021276033415 , 37.31218190373398\n",
      "\t ---------- State is:  (5, 12)\n",
      "[INFO] [2023-03-01 08:27:32,545] [OpenBox-SPO] Iteration 746, objective value: [29.885449196002128].\n"
     ]
    },
    {
     "name": "stderr",
     "output_type": "stream",
     "text": [
      "\r",
      " 75%|███████████████████████████████████████████████████████▉                   | 746/1000 [8:57:20<2:54:18, 41.18s/it]"
     ]
    },
    {
     "name": "stdout",
     "output_type": "stream",
     "text": [
      "\t ----- reward: -29.885449196002128 for f_star and f_minus: 24.64021276033415 , 29.885449196002128\n",
      "\t ---------- State is:  (4, 12)\n",
      "[INFO] [2023-03-01 08:28:16,912] [OpenBox-SPO] Iteration 747, objective value: [30.640548597096384].\n"
     ]
    },
    {
     "name": "stderr",
     "output_type": "stream",
     "text": [
      "\r",
      " 75%|████████████████████████████████████████████████████████                   | 747/1000 [8:58:05<2:57:39, 42.13s/it]"
     ]
    },
    {
     "name": "stdout",
     "output_type": "stream",
     "text": [
      "\t ----- reward: -30.640548597096384 for f_star and f_minus: 24.64021276033415 , 30.640548597096384\n",
      "\t ---------- State is:  (3, 12)\n",
      "[INFO] [2023-03-01 08:29:01,516] [OpenBox-SPO] Iteration 748, objective value: [35.42949496204521].\n"
     ]
    },
    {
     "name": "stderr",
     "output_type": "stream",
     "text": [
      "\r",
      " 75%|████████████████████████████████████████████████████████                   | 748/1000 [8:58:49<3:00:04, 42.87s/it]"
     ]
    },
    {
     "name": "stdout",
     "output_type": "stream",
     "text": [
      "\t ----- reward: -35.42949496204521 for f_star and f_minus: 24.64021276033415 , 35.42949496204521\n",
      "\t ---------- State is:  (2, 12)\n",
      "[INFO] [2023-03-01 08:29:41,178] [OpenBox-SPO] Iteration 749, objective value: [31.183500612939127].\n"
     ]
    },
    {
     "name": "stderr",
     "output_type": "stream",
     "text": [
      "\r",
      " 75%|████████████████████████████████████████████████████████▏                  | 749/1000 [8:59:29<2:55:19, 41.91s/it]"
     ]
    },
    {
     "name": "stdout",
     "output_type": "stream",
     "text": [
      "\t ----- reward: -31.183500612939127 for f_star and f_minus: 24.64021276033415 , 31.183500612939127\n",
      "\t ---------- State is:  (2, 12)\n",
      "[INFO] [2023-03-01 08:30:22,396] [OpenBox-SPO] Iteration 750, objective value: [32.40665544226472].\n"
     ]
    },
    {
     "name": "stderr",
     "output_type": "stream",
     "text": [
      "\r",
      " 75%|████████████████████████████████████████████████████████▎                  | 750/1000 [9:00:10<2:53:45, 41.70s/it]"
     ]
    },
    {
     "name": "stdout",
     "output_type": "stream",
     "text": [
      "\t ----- reward: -32.40665544226472 for f_star and f_minus: 24.64021276033415 , 32.40665544226472\n",
      "\t ---------- State is:  (2, 12)\n",
      "[INFO] [2023-03-01 08:30:22,396] [Advisor] Sample random config. rand_prob=0.100000.\n",
      "[INFO] [2023-03-01 08:30:53,417] [OpenBox-SPO] Iteration 751, objective value: [45.39435698133715].\n"
     ]
    },
    {
     "name": "stderr",
     "output_type": "stream",
     "text": [
      "\r",
      " 75%|████████████████████████████████████████████████████████▎                  | 751/1000 [9:00:41<2:39:46, 38.50s/it]"
     ]
    },
    {
     "name": "stdout",
     "output_type": "stream",
     "text": [
      "\t ----- reward: -45.39435698133715 for f_star and f_minus: 24.64021276033415 , 45.39435698133715\n",
      "\t ---------- State is:  (3, 12)\n",
      "[INFO] [2023-03-01 08:31:31,410] [OpenBox-SPO] Iteration 752, objective value: [37.1160126449525].\n"
     ]
    },
    {
     "name": "stderr",
     "output_type": "stream",
     "text": [
      "\r",
      " 75%|████████████████████████████████████████████████████████▍                  | 752/1000 [9:01:19<2:38:29, 38.35s/it]"
     ]
    },
    {
     "name": "stdout",
     "output_type": "stream",
     "text": [
      "\t ----- reward: -37.1160126449525 for f_star and f_minus: 24.64021276033415 , 37.1160126449525\n",
      "\t ---------- State is:  (3, 12)\n",
      "[INFO] [2023-03-01 08:32:14,839] [OpenBox-SPO] Iteration 753, objective value: [29.929568805387504].\n"
     ]
    },
    {
     "name": "stderr",
     "output_type": "stream",
     "text": [
      "\r",
      " 75%|████████████████████████████████████████████████████████▍                  | 753/1000 [9:02:03<2:44:08, 39.87s/it]"
     ]
    },
    {
     "name": "stdout",
     "output_type": "stream",
     "text": [
      "\t ----- reward: -29.929568805387504 for f_star and f_minus: 24.64021276033415 , 29.929568805387504\n",
      "\t ---------- State is:  (4, 11)\n",
      "[INFO] [2023-03-01 08:32:53,379] [OpenBox-SPO] Iteration 754, objective value: [31.828959625219397].\n"
     ]
    },
    {
     "name": "stderr",
     "output_type": "stream",
     "text": [
      "\r",
      " 75%|████████████████████████████████████████████████████████▌                  | 754/1000 [9:02:41<2:41:50, 39.47s/it]"
     ]
    },
    {
     "name": "stdout",
     "output_type": "stream",
     "text": [
      "\t ----- reward: -31.828959625219397 for f_star and f_minus: 24.64021276033415 , 31.828959625219397\n",
      "\t ---------- State is:  (4, 11)\n",
      "[INFO] [2023-03-01 08:33:33,056] [OpenBox-SPO] Iteration 755, objective value: [37.11827118416624].\n"
     ]
    },
    {
     "name": "stderr",
     "output_type": "stream",
     "text": [
      "\r",
      " 76%|████████████████████████████████████████████████████████▋                  | 755/1000 [9:03:21<2:41:25, 39.53s/it]"
     ]
    },
    {
     "name": "stdout",
     "output_type": "stream",
     "text": [
      "\t ----- reward: -37.11827118416624 for f_star and f_minus: 24.64021276033415 , 37.11827118416624\n",
      "\t ---------- State is:  (3, 11)\n",
      "[INFO] [2023-03-01 08:34:18,492] [OpenBox-SPO] Iteration 756, objective value: [26.948625268179597].\n"
     ]
    },
    {
     "name": "stderr",
     "output_type": "stream",
     "text": [
      "\r",
      " 76%|████████████████████████████████████████████████████████▋                  | 756/1000 [9:04:06<2:47:58, 41.30s/it]"
     ]
    },
    {
     "name": "stdout",
     "output_type": "stream",
     "text": [
      "\t ----- reward: -26.948625268179597 for f_star and f_minus: 24.64021276033415 , 26.948625268179597\n",
      "\t ---------- State is:  (3, 11)\n",
      "[INFO] [2023-03-01 08:35:05,421] [OpenBox-SPO] Iteration 757, objective value: [26.019624119898552].\n"
     ]
    },
    {
     "name": "stderr",
     "output_type": "stream",
     "text": [
      "\r",
      " 76%|████████████████████████████████████████████████████████▊                  | 757/1000 [9:04:53<2:54:06, 42.99s/it]"
     ]
    },
    {
     "name": "stdout",
     "output_type": "stream",
     "text": [
      "\t ----- reward: -26.019624119898552 for f_star and f_minus: 24.64021276033415 , 26.019624119898552\n",
      "\t ---------- State is:  (2, 9)\n",
      "[INFO] [2023-03-01 08:35:51,210] [OpenBox-SPO] Iteration 758, objective value: [44.6012887926029].\n"
     ]
    },
    {
     "name": "stderr",
     "output_type": "stream",
     "text": [
      "\r",
      " 76%|████████████████████████████████████████████████████████▊                  | 758/1000 [9:05:39<2:56:47, 43.83s/it]"
     ]
    },
    {
     "name": "stdout",
     "output_type": "stream",
     "text": [
      "\t ----- reward: -44.6012887926029 for f_star and f_minus: 24.64021276033415 , 44.6012887926029\n",
      "\t ---------- State is:  (1, 9)\n",
      "[INFO] [2023-03-01 08:36:33,950] [OpenBox-SPO] Iteration 759, objective value: [35.73759433637352].\n"
     ]
    },
    {
     "name": "stderr",
     "output_type": "stream",
     "text": [
      "\r",
      " 76%|████████████████████████████████████████████████████████▉                  | 759/1000 [9:06:22<2:54:44, 43.50s/it]"
     ]
    },
    {
     "name": "stdout",
     "output_type": "stream",
     "text": [
      "\t ----- reward: -35.73759433637352 for f_star and f_minus: 24.64021276033415 , 35.73759433637352\n",
      "\t ---------- State is:  (1, 9)\n",
      "[INFO] [2023-03-01 08:37:14,267] [OpenBox-SPO] Iteration 760, objective value: [42.977807351893205].\n"
     ]
    },
    {
     "name": "stderr",
     "output_type": "stream",
     "text": [
      "\r",
      " 76%|█████████████████████████████████████████████████████████                  | 760/1000 [9:07:02<2:50:11, 42.55s/it]"
     ]
    },
    {
     "name": "stdout",
     "output_type": "stream",
     "text": [
      "\t ----- reward: -42.977807351893205 for f_star and f_minus: 24.64021276033415 , 42.977807351893205\n",
      "\t ---------- State is:  (0, 10)\n",
      "[INFO] [2023-03-01 08:38:01,746] [OpenBox-SPO] Iteration 761, objective value: [30.157467882518475].\n"
     ]
    },
    {
     "name": "stderr",
     "output_type": "stream",
     "text": [
      "\r",
      " 76%|█████████████████████████████████████████████████████████                  | 761/1000 [9:07:50<2:55:22, 44.03s/it]"
     ]
    },
    {
     "name": "stdout",
     "output_type": "stream",
     "text": [
      "\t ----- reward: -30.157467882518475 for f_star and f_minus: 24.64021276033415 , 30.157467882518475\n",
      "\t ---------- State is:  (0, 9)\n",
      "[INFO] [2023-03-01 08:38:42,499] [OpenBox-SPO] Iteration 762, objective value: [31.44447673579917].\n"
     ]
    },
    {
     "name": "stderr",
     "output_type": "stream",
     "text": [
      "\r",
      " 76%|█████████████████████████████████████████████████████████▏                 | 762/1000 [9:08:30<2:50:44, 43.04s/it]"
     ]
    },
    {
     "name": "stdout",
     "output_type": "stream",
     "text": [
      "\t ----- reward: -31.44447673579917 for f_star and f_minus: 24.64021276033415 , 31.44447673579917\n",
      "\t ---------- State is:  (0, 9)\n",
      "[INFO] [2023-03-01 08:39:27,959] [OpenBox-SPO] Iteration 763, objective value: [34.59505260789844].\n"
     ]
    },
    {
     "name": "stderr",
     "output_type": "stream",
     "text": [
      "\r",
      " 76%|█████████████████████████████████████████████████████████▏                 | 763/1000 [9:09:16<2:52:53, 43.77s/it]"
     ]
    },
    {
     "name": "stdout",
     "output_type": "stream",
     "text": [
      "\t ----- reward: -34.59505260789844 for f_star and f_minus: 24.64021276033415 , 34.59505260789844\n",
      "\t ---------- State is:  (1, 8)\n",
      "[INFO] [2023-03-01 08:40:15,457] [OpenBox-SPO] Iteration 764, objective value: [36.1790367942462].\n"
     ]
    },
    {
     "name": "stderr",
     "output_type": "stream",
     "text": [
      "\r",
      " 76%|█████████████████████████████████████████████████████████▎                 | 764/1000 [9:10:03<2:56:33, 44.89s/it]"
     ]
    },
    {
     "name": "stdout",
     "output_type": "stream",
     "text": [
      "\t ----- reward: -36.1790367942462 for f_star and f_minus: 24.64021276033415 , 36.1790367942462\n",
      "\t ---------- State is:  (1, 8)\n",
      "[INFO] [2023-03-01 08:41:00,233] [OpenBox-SPO] Iteration 765, objective value: [31.246699339332224].\n"
     ]
    },
    {
     "name": "stderr",
     "output_type": "stream",
     "text": [
      "\r",
      " 76%|█████████████████████████████████████████████████████████▍                 | 765/1000 [9:10:48<2:55:40, 44.85s/it]"
     ]
    },
    {
     "name": "stdout",
     "output_type": "stream",
     "text": [
      "\t ----- reward: -31.246699339332224 for f_star and f_minus: 24.64021276033415 , 31.246699339332224\n",
      "\t ---------- State is:  (1, 7)\n",
      "[INFO] [2023-03-01 08:41:43,178] [OpenBox-SPO] Iteration 766, objective value: [29.359779312974524].\n"
     ]
    },
    {
     "name": "stderr",
     "output_type": "stream",
     "text": [
      "\r",
      " 77%|█████████████████████████████████████████████████████████▍                 | 766/1000 [9:11:31<2:52:41, 44.28s/it]"
     ]
    },
    {
     "name": "stdout",
     "output_type": "stream",
     "text": [
      "\t ----- reward: -29.359779312974524 for f_star and f_minus: 24.64021276033415 , 29.359779312974524\n",
      "\t ---------- State is:  (2, 7)\n",
      "[INFO] [2023-03-01 08:41:43,178] [Advisor] Sample random config. rand_prob=0.100000.\n",
      "[INFO] [2023-03-01 08:42:13,085] [OpenBox-SPO] Iteration 767, objective value: [58.046434295449814].\n"
     ]
    },
    {
     "name": "stderr",
     "output_type": "stream",
     "text": [
      "\r",
      " 77%|█████████████████████████████████████████████████████████▌                 | 767/1000 [9:12:01<2:35:12, 39.97s/it]"
     ]
    },
    {
     "name": "stdout",
     "output_type": "stream",
     "text": [
      "\t ----- reward: -58.046434295449814 for f_star and f_minus: 24.64021276033415 , 58.046434295449814\n",
      "\t ---------- State is:  (2, 8)\n",
      "[INFO] [2023-03-01 08:42:56,549] [OpenBox-SPO] Iteration 768, objective value: [36.17949577491297].\n"
     ]
    },
    {
     "name": "stderr",
     "output_type": "stream",
     "text": [
      "\r",
      " 77%|█████████████████████████████████████████████████████████▌                 | 768/1000 [9:12:44<2:38:36, 41.02s/it]"
     ]
    },
    {
     "name": "stdout",
     "output_type": "stream",
     "text": [
      "\t ----- reward: -36.17949577491297 for f_star and f_minus: 24.64021276033415 , 36.17949577491297\n",
      "\t ---------- State is:  (3, 8)\n",
      "[INFO] [2023-03-01 08:43:38,631] [OpenBox-SPO] Iteration 769, objective value: [33.71303612847504].\n"
     ]
    },
    {
     "name": "stderr",
     "output_type": "stream",
     "text": [
      "\r",
      " 77%|█████████████████████████████████████████████████████████▋                 | 769/1000 [9:13:26<2:39:08, 41.34s/it]"
     ]
    },
    {
     "name": "stdout",
     "output_type": "stream",
     "text": [
      "\t ----- reward: -33.71303612847504 for f_star and f_minus: 24.64021276033415 , 33.71303612847504\n",
      "\t ---------- State is:  (3, 9)\n",
      "[INFO] [2023-03-01 08:44:18,232] [OpenBox-SPO] Iteration 770, objective value: [29.425494237038635].\n"
     ]
    },
    {
     "name": "stderr",
     "output_type": "stream",
     "text": [
      "\r",
      " 77%|█████████████████████████████████████████████████████████▊                 | 770/1000 [9:14:06<2:36:27, 40.82s/it]"
     ]
    },
    {
     "name": "stdout",
     "output_type": "stream",
     "text": [
      "\t ----- reward: -29.425494237038635 for f_star and f_minus: 24.64021276033415 , 29.425494237038635\n",
      "\t ---------- State is:  (3, 9)\n",
      "[INFO] [2023-03-01 08:44:57,724] [OpenBox-SPO] Iteration 771, objective value: [37.923827934382956].\n"
     ]
    },
    {
     "name": "stderr",
     "output_type": "stream",
     "text": [
      "\r",
      " 77%|█████████████████████████████████████████████████████████▊                 | 771/1000 [9:14:46<2:34:17, 40.42s/it]"
     ]
    },
    {
     "name": "stdout",
     "output_type": "stream",
     "text": [
      "\t ----- reward: -37.923827934382956 for f_star and f_minus: 24.64021276033415 , 37.923827934382956\n",
      "\t ---------- State is:  (2, 9)\n",
      "[INFO] [2023-03-01 08:45:43,605] [OpenBox-SPO] Iteration 772, objective value: [37.98153915777436].\n"
     ]
    },
    {
     "name": "stderr",
     "output_type": "stream",
     "text": [
      "\r",
      " 77%|█████████████████████████████████████████████████████████▉                 | 772/1000 [9:15:31<2:39:48, 42.06s/it]"
     ]
    },
    {
     "name": "stdout",
     "output_type": "stream",
     "text": [
      "\t ----- reward: -37.98153915777436 for f_star and f_minus: 24.64021276033415 , 37.98153915777436\n",
      "\t ---------- State is:  (2, 9)\n",
      "[INFO] [2023-03-01 08:46:28,607] [OpenBox-SPO] Iteration 773, objective value: [33.2587307829548].\n"
     ]
    },
    {
     "name": "stderr",
     "output_type": "stream",
     "text": [
      "\r",
      " 77%|█████████████████████████████████████████████████████████▉                 | 773/1000 [9:16:16<2:42:27, 42.94s/it]"
     ]
    },
    {
     "name": "stdout",
     "output_type": "stream",
     "text": [
      "\t ----- reward: -33.2587307829548 for f_star and f_minus: 24.64021276033415 , 33.2587307829548\n",
      "\t ---------- State is:  (3, 9)\n",
      "[INFO] [2023-03-01 08:47:15,100] [OpenBox-SPO] Iteration 774, objective value: [46.71336507715258].\n"
     ]
    },
    {
     "name": "stderr",
     "output_type": "stream",
     "text": [
      "\r",
      " 77%|██████████████████████████████████████████████████████████                 | 774/1000 [9:17:03<2:45:45, 44.01s/it]"
     ]
    },
    {
     "name": "stdout",
     "output_type": "stream",
     "text": [
      "\t ----- reward: -46.71336507715258 for f_star and f_minus: 24.64021276033415 , 46.71336507715258\n",
      "\t ---------- State is:  (4, 10)\n",
      "[INFO] [2023-03-01 08:48:01,389] [OpenBox-SPO] Iteration 775, objective value: [36.73402081656669].\n"
     ]
    },
    {
     "name": "stderr",
     "output_type": "stream",
     "text": [
      "\r",
      " 78%|██████████████████████████████████████████████████████████▏                | 775/1000 [9:17:49<2:47:35, 44.69s/it]"
     ]
    },
    {
     "name": "stdout",
     "output_type": "stream",
     "text": [
      "\t ----- reward: -36.73402081656669 for f_star and f_minus: 24.64021276033415 , 36.73402081656669\n",
      "\t ---------- State is:  (5, 10)\n",
      "[INFO] [2023-03-01 08:48:46,427] [OpenBox-SPO] Iteration 776, objective value: [27.53180979981373].\n"
     ]
    },
    {
     "name": "stderr",
     "output_type": "stream",
     "text": [
      "\r",
      " 78%|██████████████████████████████████████████████████████████▏                | 776/1000 [9:18:34<2:47:14, 44.80s/it]"
     ]
    },
    {
     "name": "stdout",
     "output_type": "stream",
     "text": [
      "\t ----- reward: -27.53180979981373 for f_star and f_minus: 24.64021276033415 , 27.53180979981373\n",
      "\t ---------- State is:  (5, 10)\n",
      "[INFO] [2023-03-01 08:49:31,387] [OpenBox-SPO] Iteration 777, objective value: [29.015078304072418].\n"
     ]
    },
    {
     "name": "stderr",
     "output_type": "stream",
     "text": [
      "\r",
      " 78%|██████████████████████████████████████████████████████████▎                | 777/1000 [9:19:19<2:46:40, 44.84s/it]"
     ]
    },
    {
     "name": "stdout",
     "output_type": "stream",
     "text": [
      "\t ----- reward: -29.015078304072418 for f_star and f_minus: 24.64021276033415 , 29.015078304072418\n",
      "\t ---------- State is:  (5, 10)\n",
      "[INFO] [2023-03-01 08:50:15,374] [OpenBox-SPO] Iteration 778, objective value: [31.526353151316187].\n"
     ]
    },
    {
     "name": "stderr",
     "output_type": "stream",
     "text": [
      "\r",
      " 78%|██████████████████████████████████████████████████████████▎                | 778/1000 [9:20:03<2:44:58, 44.59s/it]"
     ]
    },
    {
     "name": "stdout",
     "output_type": "stream",
     "text": [
      "\t ----- reward: -31.526353151316187 for f_star and f_minus: 24.64021276033415 , 31.526353151316187\n",
      "\t ---------- State is:  (4, 9)\n",
      "[INFO] [2023-03-01 08:51:00,274] [OpenBox-SPO] Iteration 779, objective value: [27.302927975341177].\n"
     ]
    },
    {
     "name": "stderr",
     "output_type": "stream",
     "text": [
      "\r",
      " 78%|██████████████████████████████████████████████████████████▍                | 779/1000 [9:20:48<2:44:34, 44.68s/it]"
     ]
    },
    {
     "name": "stdout",
     "output_type": "stream",
     "text": [
      "\t ----- reward: -27.302927975341177 for f_star and f_minus: 24.64021276033415 , 27.302927975341177\n",
      "\t ---------- State is:  (4, 8)\n",
      "[INFO] [2023-03-01 08:51:39,997] [OpenBox-SPO] Iteration 780, objective value: [35.22273437980179].\n"
     ]
    },
    {
     "name": "stderr",
     "output_type": "stream",
     "text": [
      "\r",
      " 78%|██████████████████████████████████████████████████████████▌                | 780/1000 [9:21:28<2:38:22, 43.19s/it]"
     ]
    },
    {
     "name": "stdout",
     "output_type": "stream",
     "text": [
      "\t ----- reward: -35.22273437980179 for f_star and f_minus: 24.64021276033415 , 35.22273437980179\n",
      "\t ---------- State is:  (5, 8)\n",
      "[INFO] [2023-03-01 08:52:21,534] [OpenBox-SPO] Iteration 781, objective value: [32.38451820634529].\n"
     ]
    },
    {
     "name": "stderr",
     "output_type": "stream",
     "text": [
      "\r",
      " 78%|██████████████████████████████████████████████████████████▌                | 781/1000 [9:22:09<2:35:50, 42.70s/it]"
     ]
    },
    {
     "name": "stdout",
     "output_type": "stream",
     "text": [
      "\t ----- reward: -32.38451820634529 for f_star and f_minus: 24.64021276033415 , 32.38451820634529\n",
      "\t ---------- State is:  (6, 8)\n",
      "[INFO] [2023-03-01 08:53:03,181] [OpenBox-SPO] Iteration 782, objective value: [30.142287902310684].\n"
     ]
    },
    {
     "name": "stderr",
     "output_type": "stream",
     "text": [
      "\r",
      " 78%|██████████████████████████████████████████████████████████▋                | 782/1000 [9:22:51<2:34:00, 42.39s/it]"
     ]
    },
    {
     "name": "stdout",
     "output_type": "stream",
     "text": [
      "\t ----- reward: -30.142287902310684 for f_star and f_minus: 24.64021276033415 , 30.142287902310684\n",
      "\t ---------- State is:  (5, 8)\n",
      "[INFO] [2023-03-01 08:53:03,197] [Advisor] Sample random config. rand_prob=0.100000.\n",
      "[INFO] [2023-03-01 08:53:39,455] [OpenBox-SPO] Iteration 783, objective value: [43.74370841432209].\n"
     ]
    },
    {
     "name": "stderr",
     "output_type": "stream",
     "text": [
      "\r",
      " 78%|██████████████████████████████████████████████████████████▋                | 783/1000 [9:23:27<2:26:38, 40.55s/it]"
     ]
    },
    {
     "name": "stdout",
     "output_type": "stream",
     "text": [
      "\t ----- reward: -43.74370841432209 for f_star and f_minus: 24.64021276033415 , 43.74370841432209\n",
      "\t ---------- State is:  (5, 8)\n",
      "[INFO] [2023-03-01 08:54:18,126] [OpenBox-SPO] Iteration 784, objective value: [39.146692870174206].\n"
     ]
    },
    {
     "name": "stderr",
     "output_type": "stream",
     "text": [
      "\r",
      " 78%|██████████████████████████████████████████████████████████▊                | 784/1000 [9:24:06<2:23:56, 39.98s/it]"
     ]
    },
    {
     "name": "stdout",
     "output_type": "stream",
     "text": [
      "\t ----- reward: -39.146692870174206 for f_star and f_minus: 24.64021276033415 , 39.146692870174206\n",
      "\t ---------- State is:  (4, 8)\n",
      "[INFO] [2023-03-01 08:55:00,901] [OpenBox-SPO] Iteration 785, objective value: [33.47891132010609].\n"
     ]
    },
    {
     "name": "stderr",
     "output_type": "stream",
     "text": [
      "\r",
      " 78%|██████████████████████████████████████████████████████████▉                | 785/1000 [9:24:49<2:26:16, 40.82s/it]"
     ]
    },
    {
     "name": "stdout",
     "output_type": "stream",
     "text": [
      "\t ----- reward: -33.47891132010609 for f_star and f_minus: 24.64021276033415 , 33.47891132010609\n",
      "\t ---------- State is:  (3, 8)\n",
      "[INFO] [2023-03-01 08:55:39,985] [OpenBox-SPO] Iteration 786, objective value: [31.40868152419185].\n"
     ]
    },
    {
     "name": "stderr",
     "output_type": "stream",
     "text": [
      "\r",
      " 79%|██████████████████████████████████████████████████████████▉                | 786/1000 [9:25:28<2:23:44, 40.30s/it]"
     ]
    },
    {
     "name": "stdout",
     "output_type": "stream",
     "text": [
      "\t ----- reward: -31.40868152419185 for f_star and f_minus: 24.64021276033415 , 31.40868152419185\n",
      "\t ---------- State is:  (2, 8)\n",
      "[INFO] [2023-03-01 08:55:39,985] [Advisor] Sample random config. rand_prob=0.100000.\n",
      "[INFO] [2023-03-01 08:56:13,957] [OpenBox-SPO] Iteration 787, objective value: [49.828004684596905].\n"
     ]
    },
    {
     "name": "stderr",
     "output_type": "stream",
     "text": [
      "\r",
      " 79%|███████████████████████████████████████████████████████████                | 787/1000 [9:26:02<2:16:19, 38.40s/it]"
     ]
    },
    {
     "name": "stdout",
     "output_type": "stream",
     "text": [
      "\t ----- reward: -49.828004684596905 for f_star and f_minus: 24.64021276033415 , 49.828004684596905\n",
      "\t ---------- State is:  (2, 8)\n",
      "[INFO] [2023-03-01 08:57:01,546] [OpenBox-SPO] Iteration 788, objective value: [37.381239718402526].\n"
     ]
    },
    {
     "name": "stderr",
     "output_type": "stream",
     "text": [
      "\r",
      " 79%|███████████████████████████████████████████████████████████                | 788/1000 [9:26:49<2:25:25, 41.16s/it]"
     ]
    },
    {
     "name": "stdout",
     "output_type": "stream",
     "text": [
      "\t ----- reward: -37.381239718402526 for f_star and f_minus: 24.64021276033415 , 37.381239718402526\n",
      "\t ---------- State is:  (1, 8)\n",
      "[INFO] [2023-03-01 08:57:43,020] [OpenBox-SPO] Iteration 789, objective value: [41.77336667823561].\n"
     ]
    },
    {
     "name": "stderr",
     "output_type": "stream",
     "text": [
      "\r",
      " 79%|███████████████████████████████████████████████████████████▏               | 789/1000 [9:27:31<2:25:04, 41.25s/it]"
     ]
    },
    {
     "name": "stdout",
     "output_type": "stream",
     "text": [
      "\t ----- reward: -41.77336667823561 for f_star and f_minus: 24.64021276033415 , 41.77336667823561\n",
      "\t ---------- State is:  (0, 9)\n",
      "[INFO] [2023-03-01 08:58:27,126] [OpenBox-SPO] Iteration 790, objective value: [30.66253563760199].\n"
     ]
    },
    {
     "name": "stderr",
     "output_type": "stream",
     "text": [
      "\r",
      " 79%|███████████████████████████████████████████████████████████▎               | 790/1000 [9:28:15<2:27:22, 42.11s/it]"
     ]
    },
    {
     "name": "stdout",
     "output_type": "stream",
     "text": [
      "\t ----- reward: -30.66253563760199 for f_star and f_minus: 24.64021276033415 , 30.66253563760199\n",
      "\t ---------- State is:  (0, 9)\n",
      "[INFO] [2023-03-01 08:59:12,930] [OpenBox-SPO] Iteration 791, objective value: [39.83953824197106].\n"
     ]
    },
    {
     "name": "stderr",
     "output_type": "stream",
     "text": [
      "\r",
      " 79%|███████████████████████████████████████████████████████████▎               | 791/1000 [9:29:01<2:30:32, 43.22s/it]"
     ]
    },
    {
     "name": "stdout",
     "output_type": "stream",
     "text": [
      "\t ----- reward: -39.83953824197106 for f_star and f_minus: 24.64021276033415 , 39.83953824197106\n",
      "\t ---------- State is:  (0, 9)\n",
      "[INFO] [2023-03-01 08:59:55,923] [OpenBox-SPO] Iteration 792, objective value: [37.03164452210412].\n"
     ]
    },
    {
     "name": "stderr",
     "output_type": "stream",
     "text": [
      "\r",
      " 79%|███████████████████████████████████████████████████████████▍               | 792/1000 [9:29:44<2:29:35, 43.15s/it]"
     ]
    },
    {
     "name": "stdout",
     "output_type": "stream",
     "text": [
      "\t ----- reward: -37.03164452210412 for f_star and f_minus: 24.64021276033415 , 37.03164452210412\n",
      "\t ---------- State is:  (1, 9)\n",
      "[INFO] [2023-03-01 09:00:42,711] [OpenBox-SPO] Iteration 793, objective value: [38.80420143197111].\n"
     ]
    },
    {
     "name": "stderr",
     "output_type": "stream",
     "text": [
      "\r",
      " 79%|███████████████████████████████████████████████████████████▍               | 793/1000 [9:30:30<2:32:38, 44.24s/it]"
     ]
    },
    {
     "name": "stdout",
     "output_type": "stream",
     "text": [
      "\t ----- reward: -38.80420143197111 for f_star and f_minus: 24.64021276033415 , 38.80420143197111\n",
      "\t ---------- State is:  (1, 11)\n",
      "[INFO] [2023-03-01 09:01:34,416] [OpenBox-SPO] Iteration 794, objective value: [31.585783901830908].\n"
     ]
    },
    {
     "name": "stderr",
     "output_type": "stream",
     "text": [
      "\r",
      " 79%|███████████████████████████████████████████████████████████▌               | 794/1000 [9:31:22<2:39:34, 46.48s/it]"
     ]
    },
    {
     "name": "stdout",
     "output_type": "stream",
     "text": [
      "\t ----- reward: -31.585783901830908 for f_star and f_minus: 24.64021276033415 , 31.585783901830908\n",
      "\t ---------- State is:  (1, 9)\n",
      "[INFO] [2023-03-01 09:02:20,523] [OpenBox-SPO] Iteration 795, objective value: [30.553590332490742].\n"
     ]
    },
    {
     "name": "stderr",
     "output_type": "stream",
     "text": [
      "\r",
      " 80%|███████████████████████████████████████████████████████████▋               | 795/1000 [9:32:08<2:38:25, 46.37s/it]"
     ]
    },
    {
     "name": "stdout",
     "output_type": "stream",
     "text": [
      "\t ----- reward: -30.553590332490742 for f_star and f_minus: 24.64021276033415 , 30.553590332490742\n",
      "\t ---------- State is:  (2, 8)\n",
      "[INFO] [2023-03-01 09:02:20,523] [Advisor] Sample random config. rand_prob=0.100000.\n",
      "[INFO] [2023-03-01 09:02:55,311] [OpenBox-SPO] Iteration 796, objective value: [59.365610622285544].\n"
     ]
    },
    {
     "name": "stderr",
     "output_type": "stream",
     "text": [
      "\r",
      " 80%|███████████████████████████████████████████████████████████▋               | 796/1000 [9:32:43<2:25:50, 42.89s/it]"
     ]
    },
    {
     "name": "stdout",
     "output_type": "stream",
     "text": [
      "\t ----- reward: -59.365610622285544 for f_star and f_minus: 24.64021276033415 , 59.365610622285544\n",
      "\t ---------- State is:  (3, 9)\n",
      "[INFO] [2023-03-01 09:03:34,358] [OpenBox-SPO] Iteration 797, objective value: [31.32051339928374].\n"
     ]
    },
    {
     "name": "stderr",
     "output_type": "stream",
     "text": [
      "\r",
      " 80%|███████████████████████████████████████████████████████████▊               | 797/1000 [9:33:22<2:21:13, 41.74s/it]"
     ]
    },
    {
     "name": "stdout",
     "output_type": "stream",
     "text": [
      "\t ----- reward: -31.32051339928374 for f_star and f_minus: 24.64021276033415 , 31.32051339928374\n",
      "\t ---------- State is:  (3, 9)\n",
      "[INFO] [2023-03-01 09:04:17,504] [OpenBox-SPO] Iteration 798, objective value: [29.73631631491719].\n"
     ]
    },
    {
     "name": "stderr",
     "output_type": "stream",
     "text": [
      "\r",
      " 80%|███████████████████████████████████████████████████████████▊               | 798/1000 [9:34:05<2:21:56, 42.16s/it]"
     ]
    },
    {
     "name": "stdout",
     "output_type": "stream",
     "text": [
      "\t ----- reward: -29.73631631491719 for f_star and f_minus: 24.64021276033415 , 29.73631631491719\n",
      "\t ---------- State is:  (2, 9)\n",
      "[INFO] [2023-03-01 09:04:57,278] [OpenBox-SPO] Iteration 799, objective value: [31.406699203829973].\n"
     ]
    },
    {
     "name": "stderr",
     "output_type": "stream",
     "text": [
      "\r",
      " 80%|███████████████████████████████████████████████████████████▉               | 799/1000 [9:34:45<2:18:50, 41.45s/it]"
     ]
    },
    {
     "name": "stdout",
     "output_type": "stream",
     "text": [
      "\t ----- reward: -31.406699203829973 for f_star and f_minus: 24.64021276033415 , 31.406699203829973\n",
      "\t ---------- State is:  (2, 9)\n",
      "[INFO] [2023-03-01 09:05:41,862] [OpenBox-SPO] Iteration 800, objective value: [32.77756003932549].\n"
     ]
    },
    {
     "name": "stderr",
     "output_type": "stream",
     "text": [
      "\r",
      " 80%|████████████████████████████████████████████████████████████               | 800/1000 [9:35:30<2:21:17, 42.39s/it]"
     ]
    },
    {
     "name": "stdout",
     "output_type": "stream",
     "text": [
      "\t ----- reward: -32.77756003932549 for f_star and f_minus: 24.64021276033415 , 32.77756003932549\n",
      "\t ---------- State is:  (1, 8)\n",
      "[INFO] [2023-03-01 09:06:23,636] [OpenBox-SPO] Iteration 801, objective value: [31.510310391391968].\n"
     ]
    },
    {
     "name": "stderr",
     "output_type": "stream",
     "text": [
      "\r",
      " 80%|████████████████████████████████████████████████████████████               | 801/1000 [9:36:11<2:19:58, 42.20s/it]"
     ]
    },
    {
     "name": "stdout",
     "output_type": "stream",
     "text": [
      "\t ----- reward: -31.510310391391968 for f_star and f_minus: 24.64021276033415 , 31.510310391391968\n",
      "\t ---------- State is:  (2, 8)\n",
      "[INFO] [2023-03-01 09:06:23,636] [Advisor] Sample random config. rand_prob=0.100000.\n",
      "[INFO] [2023-03-01 09:06:50,423] [OpenBox-SPO] Iteration 802, objective value: [64.68949093789594].\n"
     ]
    },
    {
     "name": "stderr",
     "output_type": "stream",
     "text": [
      "\r",
      " 80%|████████████████████████████████████████████████████████████▏              | 802/1000 [9:36:38<2:04:00, 37.58s/it]"
     ]
    },
    {
     "name": "stdout",
     "output_type": "stream",
     "text": [
      "\t ----- reward: -64.68949093789594 for f_star and f_minus: 24.64021276033415 , 64.68949093789594\n",
      "\t ---------- State is:  (1, 10)\n",
      "[INFO] [2023-03-01 09:07:35,055] [OpenBox-SPO] Iteration 803, objective value: [33.75089356353372].\n"
     ]
    },
    {
     "name": "stderr",
     "output_type": "stream",
     "text": [
      "\r",
      " 80%|████████████████████████████████████████████████████████████▏              | 803/1000 [9:37:23<2:10:19, 39.69s/it]"
     ]
    },
    {
     "name": "stdout",
     "output_type": "stream",
     "text": [
      "\t ----- reward: -33.75089356353372 for f_star and f_minus: 24.64021276033415 , 33.75089356353372\n",
      "\t ---------- State is:  (1, 8)\n",
      "[INFO] [2023-03-01 09:08:16,843] [OpenBox-SPO] Iteration 804, objective value: [30.972989128301435].\n"
     ]
    },
    {
     "name": "stderr",
     "output_type": "stream",
     "text": [
      "\r",
      " 80%|████████████████████████████████████████████████████████████▎              | 804/1000 [9:38:05<2:11:43, 40.32s/it]"
     ]
    },
    {
     "name": "stdout",
     "output_type": "stream",
     "text": [
      "\t ----- reward: -30.972989128301435 for f_star and f_minus: 24.64021276033415 , 30.972989128301435\n",
      "\t ---------- State is:  (1, 8)\n",
      "[INFO] [2023-03-01 09:08:54,445] [OpenBox-SPO] Iteration 805, objective value: [29.76216806753959].\n"
     ]
    },
    {
     "name": "stderr",
     "output_type": "stream",
     "text": [
      "\r",
      " 80%|████████████████████████████████████████████████████████████▍              | 805/1000 [9:38:42<2:08:23, 39.51s/it]"
     ]
    },
    {
     "name": "stdout",
     "output_type": "stream",
     "text": [
      "\t ----- reward: -29.76216806753959 for f_star and f_minus: 24.64021276033415 , 29.76216806753959\n",
      "\t ---------- State is:  (2, 7)\n",
      "[INFO] [2023-03-01 09:09:40,640] [OpenBox-SPO] Iteration 806, objective value: [38.044750544645304].\n"
     ]
    },
    {
     "name": "stderr",
     "output_type": "stream",
     "text": [
      "\r",
      " 81%|████████████████████████████████████████████████████████████▍              | 806/1000 [9:39:28<2:14:13, 41.51s/it]"
     ]
    },
    {
     "name": "stdout",
     "output_type": "stream",
     "text": [
      "\t ----- reward: -38.044750544645304 for f_star and f_minus: 24.64021276033415 , 38.044750544645304\n",
      "\t ---------- State is:  (3, 8)\n",
      "[INFO] [2023-03-01 09:10:34,404] [OpenBox-SPO] Iteration 807, objective value: [35.52897549942324].\n"
     ]
    },
    {
     "name": "stderr",
     "output_type": "stream",
     "text": [
      "\r",
      " 81%|████████████████████████████████████████████████████████████▌              | 807/1000 [9:40:22<2:25:21, 45.19s/it]"
     ]
    },
    {
     "name": "stdout",
     "output_type": "stream",
     "text": [
      "\t ----- reward: -35.52897549942324 for f_star and f_minus: 24.64021276033415 , 35.52897549942324\n",
      "\t ---------- State is:  (4, 8)\n",
      "[INFO] [2023-03-01 09:11:11,238] [OpenBox-SPO] Iteration 808, objective value: [40.15001120781332].\n"
     ]
    },
    {
     "name": "stderr",
     "output_type": "stream",
     "text": [
      "\r",
      " 81%|████████████████████████████████████████████████████████████▌              | 808/1000 [9:40:59<2:16:34, 42.68s/it]"
     ]
    },
    {
     "name": "stdout",
     "output_type": "stream",
     "text": [
      "\t ----- reward: -40.15001120781332 for f_star and f_minus: 24.64021276033415 , 40.15001120781332\n",
      "\t ---------- State is:  (4, 8)\n",
      "[INFO] [2023-03-01 09:11:53,841] [OpenBox-SPO] Iteration 809, objective value: [35.680408149704604].\n"
     ]
    },
    {
     "name": "stderr",
     "output_type": "stream",
     "text": [
      "\r",
      " 81%|████████████████████████████████████████████████████████████▋              | 809/1000 [9:41:42<2:15:47, 42.66s/it]"
     ]
    },
    {
     "name": "stdout",
     "output_type": "stream",
     "text": [
      "\t ----- reward: -35.680408149704604 for f_star and f_minus: 24.64021276033415 , 35.680408149704604\n",
      "\t ---------- State is:  (5, 8)\n",
      "[INFO] [2023-03-01 09:12:33,315] [OpenBox-SPO] Iteration 810, objective value: [28.731747074418706].\n"
     ]
    },
    {
     "name": "stderr",
     "output_type": "stream",
     "text": [
      "\r",
      " 81%|████████████████████████████████████████████████████████████▊              | 810/1000 [9:42:21<2:12:03, 41.70s/it]"
     ]
    },
    {
     "name": "stdout",
     "output_type": "stream",
     "text": [
      "\t ----- reward: -28.731747074418706 for f_star and f_minus: 24.64021276033415 , 28.731747074418706\n",
      "\t ---------- State is:  (6, 8)\n",
      "[INFO] [2023-03-01 09:13:18,683] [OpenBox-SPO] Iteration 811, objective value: [30.077348046803635].\n"
     ]
    },
    {
     "name": "stderr",
     "output_type": "stream",
     "text": [
      "\r",
      " 81%|████████████████████████████████████████████████████████████▊              | 811/1000 [9:43:06<2:14:49, 42.80s/it]"
     ]
    },
    {
     "name": "stdout",
     "output_type": "stream",
     "text": [
      "\t ----- reward: -30.077348046803635 for f_star and f_minus: 24.64021276033415 , 30.077348046803635\n",
      "\t ---------- State is:  (7, 7)\n",
      "[INFO] [2023-03-01 09:13:59,081] [OpenBox-SPO] Iteration 812, objective value: [31.057195907722303].\n"
     ]
    },
    {
     "name": "stderr",
     "output_type": "stream",
     "text": [
      "\r",
      " 81%|████████████████████████████████████████████████████████████▉              | 812/1000 [9:43:47<2:11:51, 42.08s/it]"
     ]
    },
    {
     "name": "stdout",
     "output_type": "stream",
     "text": [
      "\t ----- reward: -31.057195907722303 for f_star and f_minus: 24.64021276033415 , 31.057195907722303\n",
      "\t ---------- State is:  (7, 6)\n",
      "[INFO] [2023-03-01 09:14:43,317] [OpenBox-SPO] Iteration 813, objective value: [33.079370761468965].\n"
     ]
    },
    {
     "name": "stderr",
     "output_type": "stream",
     "text": [
      "\r",
      " 81%|████████████████████████████████████████████████████████████▉              | 813/1000 [9:44:31<2:13:10, 42.73s/it]"
     ]
    },
    {
     "name": "stdout",
     "output_type": "stream",
     "text": [
      "\t ----- reward: -33.079370761468965 for f_star and f_minus: 24.64021276033415 , 33.079370761468965\n",
      "\t ---------- State is:  (8, 6)\n",
      "[INFO] [2023-03-01 09:15:25,309] [OpenBox-SPO] Iteration 814, objective value: [28.710742836756452].\n"
     ]
    },
    {
     "name": "stderr",
     "output_type": "stream",
     "text": [
      "\r",
      " 81%|█████████████████████████████████████████████████████████████              | 814/1000 [9:45:13<2:11:46, 42.51s/it]"
     ]
    },
    {
     "name": "stdout",
     "output_type": "stream",
     "text": [
      "\t ----- reward: -28.710742836756452 for f_star and f_minus: 24.64021276033415 , 28.710742836756452\n",
      "\t ---------- State is:  (8, 6)\n",
      "[INFO] [2023-03-01 09:16:02,955] [OpenBox-SPO] Iteration 815, objective value: [30.96569403192268].\n"
     ]
    },
    {
     "name": "stderr",
     "output_type": "stream",
     "text": [
      "\r",
      " 82%|█████████████████████████████████████████████████████████████              | 815/1000 [9:45:51<2:06:33, 41.05s/it]"
     ]
    },
    {
     "name": "stdout",
     "output_type": "stream",
     "text": [
      "\t ----- reward: -30.96569403192268 for f_star and f_minus: 24.64021276033415 , 30.96569403192268\n",
      "\t ---------- State is:  (9, 6)\n",
      "[INFO] [2023-03-01 09:16:51,027] [OpenBox-SPO] Iteration 816, objective value: [27.14292370838946].\n"
     ]
    },
    {
     "name": "stderr",
     "output_type": "stream",
     "text": [
      "\r",
      " 82%|█████████████████████████████████████████████████████████████▏             | 816/1000 [9:46:39<2:12:20, 43.16s/it]"
     ]
    },
    {
     "name": "stdout",
     "output_type": "stream",
     "text": [
      "\t ----- reward: -27.14292370838946 for f_star and f_minus: 24.64021276033415 , 27.14292370838946\n",
      "\t ---------- State is:  (8, 6)\n",
      "[INFO] [2023-03-01 09:17:35,206] [OpenBox-SPO] Iteration 817, objective value: [30.89969212441035].\n"
     ]
    },
    {
     "name": "stderr",
     "output_type": "stream",
     "text": [
      "\r",
      " 82%|█████████████████████████████████████████████████████████████▎             | 817/1000 [9:47:23<2:12:33, 43.46s/it]"
     ]
    },
    {
     "name": "stdout",
     "output_type": "stream",
     "text": [
      "\t ----- reward: -30.89969212441035 for f_star and f_minus: 24.64021276033415 , 30.89969212441035\n",
      "\t ---------- State is:  (8, 6)\n",
      "[INFO] [2023-03-01 09:18:23,596] [OpenBox-SPO] Iteration 818, objective value: [28.70858934359427].\n"
     ]
    },
    {
     "name": "stderr",
     "output_type": "stream",
     "text": [
      "\r",
      " 82%|█████████████████████████████████████████████████████████████▎             | 818/1000 [9:48:11<2:16:19, 44.94s/it]"
     ]
    },
    {
     "name": "stdout",
     "output_type": "stream",
     "text": [
      "\t ----- reward: -28.70858934359427 for f_star and f_minus: 24.64021276033415 , 28.70858934359427\n",
      "\t ---------- State is:  (9, 6)\n",
      "[INFO] [2023-03-01 09:19:05,787] [OpenBox-SPO] Iteration 819, objective value: [29.98236852875401].\n"
     ]
    },
    {
     "name": "stderr",
     "output_type": "stream",
     "text": [
      "\r",
      " 82%|█████████████████████████████████████████████████████████████▍             | 819/1000 [9:48:54<2:13:04, 44.12s/it]"
     ]
    },
    {
     "name": "stdout",
     "output_type": "stream",
     "text": [
      "\t ----- reward: -29.98236852875401 for f_star and f_minus: 24.64021276033415 , 29.98236852875401\n",
      "\t ---------- State is:  (8, 6)\n",
      "[INFO] [2023-03-01 09:19:49,969] [OpenBox-SPO] Iteration 820, objective value: [30.732398283732138].\n"
     ]
    },
    {
     "name": "stderr",
     "output_type": "stream",
     "text": [
      "\r",
      " 82%|█████████████████████████████████████████████████████████████▍             | 820/1000 [9:49:38<2:12:24, 44.14s/it]"
     ]
    },
    {
     "name": "stdout",
     "output_type": "stream",
     "text": [
      "\t ----- reward: -30.732398283732138 for f_star and f_minus: 24.64021276033415 , 30.732398283732138\n",
      "\t ---------- State is:  (8, 6)\n",
      "[INFO] [2023-03-01 09:20:36,272] [OpenBox-SPO] Iteration 821, objective value: [33.00623276002496].\n"
     ]
    },
    {
     "name": "stderr",
     "output_type": "stream",
     "text": [
      "\r",
      " 82%|█████████████████████████████████████████████████████████████▌             | 821/1000 [9:50:24<2:13:36, 44.79s/it]"
     ]
    },
    {
     "name": "stdout",
     "output_type": "stream",
     "text": [
      "\t ----- reward: -33.00623276002496 for f_star and f_minus: 24.64021276033415 , 33.00623276002496\n",
      "\t ---------- State is:  (9, 6)\n",
      "[INFO] [2023-03-01 09:21:14,996] [OpenBox-SPO] Iteration 822, objective value: [31.88251908889802].\n"
     ]
    },
    {
     "name": "stderr",
     "output_type": "stream",
     "text": [
      "\r",
      " 82%|█████████████████████████████████████████████████████████████▋             | 822/1000 [9:51:03<2:07:28, 42.97s/it]"
     ]
    },
    {
     "name": "stdout",
     "output_type": "stream",
     "text": [
      "\t ----- reward: -31.88251908889802 for f_star and f_minus: 24.64021276033415 , 31.88251908889802\n",
      "\t ---------- State is:  (9, 6)\n",
      "[INFO] [2023-03-01 09:21:57,208] [OpenBox-SPO] Iteration 823, objective value: [26.023926613861406].\n"
     ]
    },
    {
     "name": "stderr",
     "output_type": "stream",
     "text": [
      "\r",
      " 82%|█████████████████████████████████████████████████████████████▋             | 823/1000 [9:51:45<2:06:05, 42.74s/it]"
     ]
    },
    {
     "name": "stdout",
     "output_type": "stream",
     "text": [
      "\t ----- reward: -26.023926613861406 for f_star and f_minus: 24.64021276033415 , 26.023926613861406\n",
      "\t ---------- State is:  (8, 6)\n",
      "[INFO] [2023-03-01 09:22:39,913] [OpenBox-SPO] Iteration 824, objective value: [26.89166893028714].\n"
     ]
    },
    {
     "name": "stderr",
     "output_type": "stream",
     "text": [
      "\r",
      " 82%|█████████████████████████████████████████████████████████████▊             | 824/1000 [9:52:28<2:05:20, 42.73s/it]"
     ]
    },
    {
     "name": "stdout",
     "output_type": "stream",
     "text": [
      "\t ----- reward: -26.89166893028714 for f_star and f_minus: 24.64021276033415 , 26.89166893028714\n",
      "\t ---------- State is:  (8, 6)\n",
      "[INFO] [2023-03-01 09:22:39,913] [Advisor] Sample random config. rand_prob=0.100000.\n",
      "[INFO] [2023-03-01 09:23:19,168] [OpenBox-SPO] Iteration 825, objective value: [54.81389050027648].\n"
     ]
    },
    {
     "name": "stderr",
     "output_type": "stream",
     "text": [
      "\r",
      " 82%|█████████████████████████████████████████████████████████████▉             | 825/1000 [9:53:07<2:01:35, 41.69s/it]"
     ]
    },
    {
     "name": "stdout",
     "output_type": "stream",
     "text": [
      "\t ----- reward: -54.81389050027648 for f_star and f_minus: 24.64021276033415 , 54.81389050027648\n",
      "\t ---------- State is:  (8, 6)\n",
      "[INFO] [2023-03-01 09:24:05,629] [OpenBox-SPO] Iteration 826, objective value: [32.375082179321126].\n"
     ]
    },
    {
     "name": "stderr",
     "output_type": "stream",
     "text": [
      "\r",
      " 83%|█████████████████████████████████████████████████████████████▉             | 826/1000 [9:53:53<2:05:02, 43.12s/it]"
     ]
    },
    {
     "name": "stdout",
     "output_type": "stream",
     "text": [
      "\t ----- reward: -32.375082179321126 for f_star and f_minus: 24.64021276033415 , 32.375082179321126\n",
      "\t ---------- State is:  (9, 6)\n",
      "[INFO] [2023-03-01 09:24:48,674] [OpenBox-SPO] Iteration 827, objective value: [27.602678721824887].\n"
     ]
    },
    {
     "name": "stderr",
     "output_type": "stream",
     "text": [
      "\r",
      " 83%|██████████████████████████████████████████████████████████████             | 827/1000 [9:54:36<2:04:16, 43.10s/it]"
     ]
    },
    {
     "name": "stdout",
     "output_type": "stream",
     "text": [
      "\t ----- reward: -27.602678721824887 for f_star and f_minus: 24.64021276033415 , 27.602678721824887\n",
      "\t ---------- State is:  (8, 6)\n",
      "[INFO] [2023-03-01 09:25:38,197] [OpenBox-SPO] Iteration 828, objective value: [30.87860838137641].\n"
     ]
    },
    {
     "name": "stderr",
     "output_type": "stream",
     "text": [
      "\r",
      " 83%|██████████████████████████████████████████████████████████████             | 828/1000 [9:55:26<2:09:04, 45.02s/it]"
     ]
    },
    {
     "name": "stdout",
     "output_type": "stream",
     "text": [
      "\t ----- reward: -30.87860838137641 for f_star and f_minus: 24.64021276033415 , 30.87860838137641\n",
      "\t ---------- State is:  (7, 6)\n",
      "[INFO] [2023-03-01 09:26:15,259] [OpenBox-SPO] Iteration 829, objective value: [31.399902493822452].\n"
     ]
    },
    {
     "name": "stderr",
     "output_type": "stream",
     "text": [
      "\r",
      " 83%|██████████████████████████████████████████████████████████████▏            | 829/1000 [9:56:03<2:01:30, 42.63s/it]"
     ]
    },
    {
     "name": "stdout",
     "output_type": "stream",
     "text": [
      "\t ----- reward: -31.399902493822452 for f_star and f_minus: 24.64021276033415 , 31.399902493822452\n",
      "\t ---------- State is:  (6, 6)\n",
      "[INFO] [2023-03-01 09:27:02,877] [OpenBox-SPO] Iteration 830, objective value: [37.65685103236376].\n"
     ]
    },
    {
     "name": "stderr",
     "output_type": "stream",
     "text": [
      "\r",
      " 83%|██████████████████████████████████████████████████████████████▎            | 830/1000 [9:56:51<2:05:02, 44.13s/it]"
     ]
    },
    {
     "name": "stdout",
     "output_type": "stream",
     "text": [
      "\t ----- reward: -37.65685103236376 for f_star and f_minus: 24.64021276033415 , 37.65685103236376\n",
      "\t ---------- State is:  (5, 6)\n",
      "[INFO] [2023-03-01 09:27:44,558] [OpenBox-SPO] Iteration 831, objective value: [35.77641265660901].\n"
     ]
    },
    {
     "name": "stderr",
     "output_type": "stream",
     "text": [
      "\r",
      " 83%|██████████████████████████████████████████████████████████████▎            | 831/1000 [9:57:32<2:02:13, 43.40s/it]"
     ]
    },
    {
     "name": "stdout",
     "output_type": "stream",
     "text": [
      "\t ----- reward: -35.77641265660901 for f_star and f_minus: 24.64021276033415 , 35.77641265660901\n",
      "\t ---------- State is:  (5, 6)\n",
      "[INFO] [2023-03-01 09:28:30,071] [OpenBox-SPO] Iteration 832, objective value: [34.58556827900857].\n"
     ]
    },
    {
     "name": "stderr",
     "output_type": "stream",
     "text": [
      "\r",
      " 83%|██████████████████████████████████████████████████████████████▍            | 832/1000 [9:58:18<2:03:17, 44.03s/it]"
     ]
    },
    {
     "name": "stdout",
     "output_type": "stream",
     "text": [
      "\t ----- reward: -34.58556827900857 for f_star and f_minus: 24.64021276033415 , 34.58556827900857\n",
      "\t ---------- State is:  (4, 6)\n",
      "[INFO] [2023-03-01 09:29:10,581] [OpenBox-SPO] Iteration 833, objective value: [30.851690719435084].\n"
     ]
    },
    {
     "name": "stderr",
     "output_type": "stream",
     "text": [
      "\r",
      " 83%|██████████████████████████████████████████████████████████████▍            | 833/1000 [9:58:58<1:59:36, 42.97s/it]"
     ]
    },
    {
     "name": "stdout",
     "output_type": "stream",
     "text": [
      "\t ----- reward: -30.851690719435084 for f_star and f_minus: 24.64021276033415 , 30.851690719435084\n",
      "\t ---------- State is:  (4, 6)\n",
      "[INFO] [2023-03-01 09:29:10,581] [Advisor] Sample random config. rand_prob=0.100000.\n",
      "[INFO] [2023-03-01 09:29:44,636] [OpenBox-SPO] Iteration 834, objective value: [48.35119833387708].\n"
     ]
    },
    {
     "name": "stderr",
     "output_type": "stream",
     "text": [
      "\r",
      " 83%|██████████████████████████████████████████████████████████████▌            | 834/1000 [9:59:32<1:51:30, 40.30s/it]"
     ]
    },
    {
     "name": "stdout",
     "output_type": "stream",
     "text": [
      "\t ----- reward: -48.35119833387708 for f_star and f_minus: 24.64021276033415 , 48.35119833387708\n",
      "\t ---------- State is:  (3, 6)\n",
      "[INFO] [2023-03-01 09:30:28,641] [OpenBox-SPO] Iteration 835, objective value: [35.35055995101743].\n"
     ]
    },
    {
     "name": "stderr",
     "output_type": "stream",
     "text": [
      "\r",
      " 84%|█████████████████████████████████████████████████████████████▊            | 835/1000 [10:00:16<1:53:52, 41.41s/it]"
     ]
    },
    {
     "name": "stdout",
     "output_type": "stream",
     "text": [
      "\t ----- reward: -35.35055995101743 for f_star and f_minus: 24.64021276033415 , 35.35055995101743\n",
      "\t ---------- State is:  (2, 6)\n",
      "[INFO] [2023-03-01 09:31:13,807] [OpenBox-SPO] Iteration 836, objective value: [30.076342808451642].\n"
     ]
    },
    {
     "name": "stderr",
     "output_type": "stream",
     "text": [
      "\r",
      " 84%|█████████████████████████████████████████████████████████████▊            | 836/1000 [10:01:02<1:56:15, 42.54s/it]"
     ]
    },
    {
     "name": "stdout",
     "output_type": "stream",
     "text": [
      "\t ----- reward: -30.076342808451642 for f_star and f_minus: 24.64021276033415 , 30.076342808451642\n",
      "\t ---------- State is:  (3, 6)\n",
      "[INFO] [2023-03-01 09:31:13,807] [Advisor] Sample random config. rand_prob=0.100000.\n",
      "[INFO] [2023-03-01 09:31:40,843] [OpenBox-SPO] Iteration 837, objective value: [50.91740052378152].\n"
     ]
    },
    {
     "name": "stderr",
     "output_type": "stream",
     "text": [
      "\r",
      " 84%|█████████████████████████████████████████████████████████████▉            | 837/1000 [10:01:29<1:42:55, 37.89s/it]"
     ]
    },
    {
     "name": "stdout",
     "output_type": "stream",
     "text": [
      "\t ----- reward: -50.91740052378152 for f_star and f_minus: 24.64021276033415 , 50.91740052378152\n",
      "\t ---------- State is:  (4, 7)\n",
      "[INFO] [2023-03-01 09:32:22,802] [OpenBox-SPO] Iteration 838, objective value: [33.20751026533267].\n"
     ]
    },
    {
     "name": "stderr",
     "output_type": "stream",
     "text": [
      "\r",
      " 84%|██████████████████████████████████████████████████████████████            | 838/1000 [10:02:11<1:45:35, 39.11s/it]"
     ]
    },
    {
     "name": "stdout",
     "output_type": "stream",
     "text": [
      "\t ----- reward: -33.20751026533267 for f_star and f_minus: 24.64021276033415 , 33.20751026533267\n",
      "\t ---------- State is:  (3, 7)\n",
      "[INFO] [2023-03-01 09:33:05,635] [OpenBox-SPO] Iteration 839, objective value: [30.72321072308732].\n"
     ]
    },
    {
     "name": "stderr",
     "output_type": "stream",
     "text": [
      "\r",
      " 84%|██████████████████████████████████████████████████████████████            | 839/1000 [10:02:53<1:47:56, 40.23s/it]"
     ]
    },
    {
     "name": "stdout",
     "output_type": "stream",
     "text": [
      "\t ----- reward: -30.72321072308732 for f_star and f_minus: 24.64021276033415 , 30.72321072308732\n",
      "\t ---------- State is:  (3, 7)\n",
      "[INFO] [2023-03-01 09:33:46,239] [OpenBox-SPO] Iteration 840, objective value: [36.3160872920284].\n"
     ]
    },
    {
     "name": "stderr",
     "output_type": "stream",
     "text": [
      "\r",
      " 84%|██████████████████████████████████████████████████████████████▏           | 840/1000 [10:03:34<1:47:34, 40.34s/it]"
     ]
    },
    {
     "name": "stdout",
     "output_type": "stream",
     "text": [
      "\t ----- reward: -36.3160872920284 for f_star and f_minus: 24.64021276033415 , 36.3160872920284\n",
      "\t ---------- State is:  (2, 8)\n",
      "[INFO] [2023-03-01 09:34:36,496] [OpenBox-SPO] Iteration 841, objective value: [32.871395880806375].\n"
     ]
    },
    {
     "name": "stderr",
     "output_type": "stream",
     "text": [
      "\r",
      " 84%|██████████████████████████████████████████████████████████████▏           | 841/1000 [10:04:24<1:54:46, 43.31s/it]"
     ]
    },
    {
     "name": "stdout",
     "output_type": "stream",
     "text": [
      "\t ----- reward: -32.871395880806375 for f_star and f_minus: 24.64021276033415 , 32.871395880806375\n",
      "\t ---------- State is:  (2, 7)\n",
      "[INFO] [2023-03-01 09:35:15,814] [OpenBox-SPO] Iteration 842, objective value: [41.700917285625025].\n"
     ]
    },
    {
     "name": "stderr",
     "output_type": "stream",
     "text": [
      "\r",
      " 84%|██████████████████████████████████████████████████████████████▎           | 842/1000 [10:05:04<1:50:54, 42.12s/it]"
     ]
    },
    {
     "name": "stdout",
     "output_type": "stream",
     "text": [
      "\t ----- reward: -41.700917285625025 for f_star and f_minus: 24.64021276033415 , 41.700917285625025\n",
      "\t ---------- State is:  (1, 8)\n",
      "[INFO] [2023-03-01 09:35:59,323] [OpenBox-SPO] Iteration 843, objective value: [40.89490052337372].\n"
     ]
    },
    {
     "name": "stderr",
     "output_type": "stream",
     "text": [
      "\r",
      " 84%|██████████████████████████████████████████████████████████████▍           | 843/1000 [10:05:47<1:51:17, 42.53s/it]"
     ]
    },
    {
     "name": "stdout",
     "output_type": "stream",
     "text": [
      "\t ----- reward: -40.89490052337372 for f_star and f_minus: 24.64021276033415 , 40.89490052337372\n",
      "\t ---------- State is:  (1, 9)\n",
      "[INFO] [2023-03-01 09:36:42,949] [OpenBox-SPO] Iteration 844, objective value: [30.491066615322964].\n"
     ]
    },
    {
     "name": "stderr",
     "output_type": "stream",
     "text": [
      "\r",
      " 84%|██████████████████████████████████████████████████████████████▍           | 844/1000 [10:06:31<1:51:27, 42.87s/it]"
     ]
    },
    {
     "name": "stdout",
     "output_type": "stream",
     "text": [
      "\t ----- reward: -30.491066615322964 for f_star and f_minus: 24.64021276033415 , 30.491066615322964\n",
      "\t ---------- State is:  (0, 9)\n",
      "[INFO] [2023-03-01 09:37:22,959] [OpenBox-SPO] Iteration 845, objective value: [34.856627333909714].\n"
     ]
    },
    {
     "name": "stderr",
     "output_type": "stream",
     "text": [
      "\r",
      " 84%|██████████████████████████████████████████████████████████████▌           | 845/1000 [10:07:11<1:48:30, 42.00s/it]"
     ]
    },
    {
     "name": "stdout",
     "output_type": "stream",
     "text": [
      "\t ----- reward: -34.856627333909714 for f_star and f_minus: 24.64021276033415 , 34.856627333909714\n",
      "\t ---------- State is:  (0, 9)\n",
      "[INFO] [2023-03-01 09:38:02,872] [OpenBox-SPO] Iteration 846, objective value: [35.67921707973507].\n"
     ]
    },
    {
     "name": "stderr",
     "output_type": "stream",
     "text": [
      "\r",
      " 85%|██████████████████████████████████████████████████████████████▌           | 846/1000 [10:07:51<1:46:12, 41.38s/it]"
     ]
    },
    {
     "name": "stdout",
     "output_type": "stream",
     "text": [
      "\t ----- reward: -35.67921707973507 for f_star and f_minus: 24.64021276033415 , 35.67921707973507\n",
      "\t ---------- State is:  (0, 10)\n",
      "[INFO] [2023-03-01 09:38:42,740] [OpenBox-SPO] Iteration 847, objective value: [32.46295734861434].\n"
     ]
    },
    {
     "name": "stderr",
     "output_type": "stream",
     "text": [
      "\r",
      " 85%|██████████████████████████████████████████████████████████████▋           | 847/1000 [10:08:31<1:44:21, 40.92s/it]"
     ]
    },
    {
     "name": "stdout",
     "output_type": "stream",
     "text": [
      "\t ----- reward: -32.46295734861434 for f_star and f_minus: 24.64021276033415 , 32.46295734861434\n",
      "\t ---------- State is:  (0, 10)\n",
      "[INFO] [2023-03-01 09:39:31,290] [OpenBox-SPO] Iteration 848, objective value: [30.658182767212836].\n"
     ]
    },
    {
     "name": "stderr",
     "output_type": "stream",
     "text": [
      "\r",
      " 85%|██████████████████████████████████████████████████████████████▊           | 848/1000 [10:09:19<1:49:28, 43.21s/it]"
     ]
    },
    {
     "name": "stdout",
     "output_type": "stream",
     "text": [
      "\t ----- reward: -30.658182767212836 for f_star and f_minus: 24.64021276033415 , 30.658182767212836\n",
      "\t ---------- State is:  (0, 10)\n",
      "[INFO] [2023-03-01 09:40:10,945] [OpenBox-SPO] Iteration 849, objective value: [58.0115499603573].\n"
     ]
    },
    {
     "name": "stderr",
     "output_type": "stream",
     "text": [
      "\r",
      " 85%|██████████████████████████████████████████████████████████████▊           | 849/1000 [10:09:59<1:46:03, 42.14s/it]"
     ]
    },
    {
     "name": "stdout",
     "output_type": "stream",
     "text": [
      "\t ----- reward: -58.0115499603573 for f_star and f_minus: 24.64021276033415 , 58.0115499603573\n",
      "\t ---------- State is:  (1, 10)\n",
      "[INFO] [2023-03-01 09:40:55,860] [OpenBox-SPO] Iteration 850, objective value: [40.97260153950968].\n"
     ]
    },
    {
     "name": "stderr",
     "output_type": "stream",
     "text": [
      "\r",
      " 85%|██████████████████████████████████████████████████████████████▉           | 850/1000 [10:10:44<1:47:26, 42.98s/it]"
     ]
    },
    {
     "name": "stdout",
     "output_type": "stream",
     "text": [
      "\t ----- reward: -40.97260153950968 for f_star and f_minus: 24.64021276033415 , 40.97260153950968\n",
      "\t ---------- State is:  (1, 10)\n",
      "[INFO] [2023-03-01 09:40:55,860] [Advisor] Sample random config. rand_prob=0.100000.\n",
      "[INFO] [2023-03-01 09:41:23,224] [OpenBox-SPO] Iteration 851, objective value: [62.723996205764465].\n"
     ]
    },
    {
     "name": "stderr",
     "output_type": "stream",
     "text": [
      "\r",
      " 85%|██████████████████████████████████████████████████████████████▉           | 851/1000 [10:11:11<1:35:05, 38.29s/it]"
     ]
    },
    {
     "name": "stdout",
     "output_type": "stream",
     "text": [
      "\t ----- reward: -62.723996205764465 for f_star and f_minus: 24.64021276033415 , 62.723996205764465\n",
      "\t ---------- State is:  (2, 10)\n",
      "[INFO] [2023-03-01 09:42:01,904] [OpenBox-SPO] Iteration 852, objective value: [37.547923987928314].\n"
     ]
    },
    {
     "name": "stderr",
     "output_type": "stream",
     "text": [
      "\r",
      " 85%|███████████████████████████████████████████████████████████████           | 852/1000 [10:11:50<1:34:44, 38.41s/it]"
     ]
    },
    {
     "name": "stdout",
     "output_type": "stream",
     "text": [
      "\t ----- reward: -37.547923987928314 for f_star and f_minus: 24.64021276033415 , 37.547923987928314\n",
      "\t ---------- State is:  (2, 10)\n",
      "[INFO] [2023-03-01 09:42:47,358] [OpenBox-SPO] Iteration 853, objective value: [28.465260915562823].\n"
     ]
    },
    {
     "name": "stderr",
     "output_type": "stream",
     "text": [
      "\r",
      " 85%|███████████████████████████████████████████████████████████████           | 853/1000 [10:12:35<1:39:16, 40.52s/it]"
     ]
    },
    {
     "name": "stdout",
     "output_type": "stream",
     "text": [
      "\t ----- reward: -28.465260915562823 for f_star and f_minus: 24.64021276033415 , 28.465260915562823\n",
      "\t ---------- State is:  (3, 10)\n",
      "[INFO] [2023-03-01 09:43:29,459] [OpenBox-SPO] Iteration 854, objective value: [31.93708461601392].\n"
     ]
    },
    {
     "name": "stderr",
     "output_type": "stream",
     "text": [
      "\r",
      " 85%|███████████████████████████████████████████████████████████████▏          | 854/1000 [10:13:17<1:39:45, 41.00s/it]"
     ]
    },
    {
     "name": "stdout",
     "output_type": "stream",
     "text": [
      "\t ----- reward: -31.93708461601392 for f_star and f_minus: 24.64021276033415 , 31.93708461601392\n",
      "\t ---------- State is:  (2, 10)\n",
      "[INFO] [2023-03-01 09:44:13,607] [OpenBox-SPO] Iteration 855, objective value: [25.95760626060219].\n"
     ]
    },
    {
     "name": "stderr",
     "output_type": "stream",
     "text": [
      "\r",
      " 86%|███████████████████████████████████████████████████████████████▎          | 855/1000 [10:14:01<1:41:21, 41.94s/it]"
     ]
    },
    {
     "name": "stdout",
     "output_type": "stream",
     "text": [
      "\t ----- reward: -25.95760626060219 for f_star and f_minus: 24.64021276033415 , 25.95760626060219\n",
      "\t ---------- State is:  (1, 9)\n",
      "[INFO] [2023-03-01 09:44:59,148] [OpenBox-SPO] Iteration 856, objective value: [30.615620406977214].\n"
     ]
    },
    {
     "name": "stderr",
     "output_type": "stream",
     "text": [
      "\r",
      " 86%|███████████████████████████████████████████████████████████████▎          | 856/1000 [10:14:47<1:43:15, 43.02s/it]"
     ]
    },
    {
     "name": "stdout",
     "output_type": "stream",
     "text": [
      "\t ----- reward: -30.615620406977214 for f_star and f_minus: 24.64021276033415 , 30.615620406977214\n",
      "\t ---------- State is:  (2, 9)\n",
      "[INFO] [2023-03-01 09:45:45,950] [OpenBox-SPO] Iteration 857, objective value: [39.43083484405141].\n"
     ]
    },
    {
     "name": "stderr",
     "output_type": "stream",
     "text": [
      "\r",
      " 86%|███████████████████████████████████████████████████████████████▍          | 857/1000 [10:15:34<1:45:14, 44.16s/it]"
     ]
    },
    {
     "name": "stdout",
     "output_type": "stream",
     "text": [
      "\t ----- reward: -39.43083484405141 for f_star and f_minus: 24.64021276033415 , 39.43083484405141\n",
      "\t ---------- State is:  (3, 9)\n",
      "[INFO] [2023-03-01 09:46:31,037] [OpenBox-SPO] Iteration 858, objective value: [30.184230217201787].\n"
     ]
    },
    {
     "name": "stderr",
     "output_type": "stream",
     "text": [
      "\r",
      " 86%|███████████████████████████████████████████████████████████████▍          | 858/1000 [10:16:19<1:45:09, 44.43s/it]"
     ]
    },
    {
     "name": "stdout",
     "output_type": "stream",
     "text": [
      "\t ----- reward: -30.184230217201787 for f_star and f_minus: 24.64021276033415 , 30.184230217201787\n",
      "\t ---------- State is:  (3, 9)\n",
      "[INFO] [2023-03-01 09:47:09,801] [OpenBox-SPO] Iteration 859, objective value: [37.023509993803195].\n"
     ]
    },
    {
     "name": "stderr",
     "output_type": "stream",
     "text": [
      "\r",
      " 86%|███████████████████████████████████████████████████████████████▌          | 859/1000 [10:16:58<1:40:25, 42.73s/it]"
     ]
    },
    {
     "name": "stdout",
     "output_type": "stream",
     "text": [
      "\t ----- reward: -37.023509993803195 for f_star and f_minus: 24.64021276033415 , 37.023509993803195\n",
      "\t ---------- State is:  (2, 10)\n",
      "[INFO] [2023-03-01 09:47:09,801] [Advisor] Sample random config. rand_prob=0.100000.\n",
      "[INFO] [2023-03-01 09:47:36,815] [OpenBox-SPO] Iteration 860, objective value: [58.76288125198387].\n"
     ]
    },
    {
     "name": "stderr",
     "output_type": "stream",
     "text": [
      "\r",
      " 86%|███████████████████████████████████████████████████████████████▋          | 860/1000 [10:17:25<1:28:42, 38.02s/it]"
     ]
    },
    {
     "name": "stdout",
     "output_type": "stream",
     "text": [
      "\t ----- reward: -58.76288125198387 for f_star and f_minus: 24.64021276033415 , 58.76288125198387\n",
      "\t ---------- State is:  (3, 10)\n",
      "[INFO] [2023-03-01 09:47:36,815] [Advisor] Sample random config. rand_prob=0.100000.\n",
      "[INFO] [2023-03-01 09:47:58,930] [OpenBox-SPO] Iteration 861, objective value: [59.739437904564205].\n"
     ]
    },
    {
     "name": "stderr",
     "output_type": "stream",
     "text": [
      "\r",
      " 86%|███████████████████████████████████████████████████████████████▋          | 861/1000 [10:17:47<1:17:01, 33.25s/it]"
     ]
    },
    {
     "name": "stdout",
     "output_type": "stream",
     "text": [
      "\t ----- reward: -59.739437904564205 for f_star and f_minus: 24.64021276033415 , 59.739437904564205\n",
      "\t ---------- State is:  (4, 11)\n",
      "[INFO] [2023-03-01 09:47:58,930] [Advisor] Sample random config. rand_prob=0.100000.\n",
      "[INFO] [2023-03-01 09:48:41,826] [OpenBox-SPO] Iteration 862, objective value: [46.66357822767265].\n"
     ]
    },
    {
     "name": "stderr",
     "output_type": "stream",
     "text": [
      "\r",
      " 86%|███████████████████████████████████████████████████████████████▊          | 862/1000 [10:18:30<1:23:07, 36.14s/it]"
     ]
    },
    {
     "name": "stdout",
     "output_type": "stream",
     "text": [
      "\t ----- reward: -46.66357822767265 for f_star and f_minus: 24.64021276033415 , 46.66357822767265\n",
      "\t ---------- State is:  (4, 11)\n",
      "[INFO] [2023-03-01 09:49:22,567] [OpenBox-SPO] Iteration 863, objective value: [39.3356770406905].\n"
     ]
    },
    {
     "name": "stderr",
     "output_type": "stream",
     "text": [
      "\r",
      " 86%|███████████████████████████████████████████████████████████████▊          | 863/1000 [10:19:10<1:25:40, 37.52s/it]"
     ]
    },
    {
     "name": "stdout",
     "output_type": "stream",
     "text": [
      "\t ----- reward: -39.3356770406905 for f_star and f_minus: 24.64021276033415 , 39.3356770406905\n",
      "\t ---------- State is:  (5, 11)\n",
      "[INFO] [2023-03-01 09:50:06,339] [OpenBox-SPO] Iteration 864, objective value: [28.569522458942004].\n"
     ]
    },
    {
     "name": "stderr",
     "output_type": "stream",
     "text": [
      "\r",
      " 86%|███████████████████████████████████████████████████████████████▉          | 864/1000 [10:19:54<1:29:17, 39.40s/it]"
     ]
    },
    {
     "name": "stdout",
     "output_type": "stream",
     "text": [
      "\t ----- reward: -28.569522458942004 for f_star and f_minus: 24.64021276033415 , 28.569522458942004\n",
      "\t ---------- State is:  (6, 11)\n",
      "[INFO] [2023-03-01 09:50:49,911] [OpenBox-SPO] Iteration 865, objective value: [29.6442678205419].\n"
     ]
    },
    {
     "name": "stderr",
     "output_type": "stream",
     "text": [
      "\r",
      " 86%|████████████████████████████████████████████████████████████████          | 865/1000 [10:20:38<1:31:27, 40.65s/it]"
     ]
    },
    {
     "name": "stdout",
     "output_type": "stream",
     "text": [
      "\t ----- reward: -29.6442678205419 for f_star and f_minus: 24.64021276033415 , 29.6442678205419\n",
      "\t ---------- State is:  (6, 11)\n",
      "[INFO] [2023-03-01 09:51:37,668] [OpenBox-SPO] Iteration 866, objective value: [29.49778448195171].\n"
     ]
    },
    {
     "name": "stderr",
     "output_type": "stream",
     "text": [
      "\r",
      " 87%|████████████████████████████████████████████████████████████████          | 866/1000 [10:21:25<1:35:32, 42.78s/it]"
     ]
    },
    {
     "name": "stdout",
     "output_type": "stream",
     "text": [
      "\t ----- reward: -29.49778448195171 for f_star and f_minus: 24.64021276033415 , 29.49778448195171\n",
      "\t ---------- State is:  (7, 10)\n",
      "[INFO] [2023-03-01 09:52:19,081] [OpenBox-SPO] Iteration 867, objective value: [24.83831000962617].\n"
     ]
    },
    {
     "name": "stderr",
     "output_type": "stream",
     "text": [
      "\r",
      " 87%|████████████████████████████████████████████████████████████████▏         | 867/1000 [10:22:07<1:33:55, 42.37s/it]"
     ]
    },
    {
     "name": "stdout",
     "output_type": "stream",
     "text": [
      "\t ----- reward: -24.83831000962617 for f_star and f_minus: 24.64021276033415 , 24.83831000962617\n",
      "\t ---------- State is:  (7, 9)\n",
      "[INFO] [2023-03-01 09:53:04,856] [OpenBox-SPO] Iteration 868, objective value: [31.640097603115805].\n"
     ]
    },
    {
     "name": "stderr",
     "output_type": "stream",
     "text": [
      "\r",
      " 87%|████████████████████████████████████████████████████████████████▏         | 868/1000 [10:22:53<1:35:27, 43.39s/it]"
     ]
    },
    {
     "name": "stdout",
     "output_type": "stream",
     "text": [
      "\t ----- reward: -31.640097603115805 for f_star and f_minus: 24.64021276033415 , 31.640097603115805\n",
      "\t ---------- State is:  (7, 9)\n",
      "[INFO] [2023-03-01 09:53:49,115] [OpenBox-SPO] Iteration 869, objective value: [28.99054429815442].\n"
     ]
    },
    {
     "name": "stderr",
     "output_type": "stream",
     "text": [
      "\r",
      " 87%|████████████████████████████████████████████████████████████████▎         | 869/1000 [10:23:37<1:35:18, 43.65s/it]"
     ]
    },
    {
     "name": "stdout",
     "output_type": "stream",
     "text": [
      "\t ----- reward: -28.99054429815442 for f_star and f_minus: 24.64021276033415 , 28.99054429815442\n",
      "\t ---------- State is:  (8, 7)\n",
      "[INFO] [2023-03-01 09:53:49,115] [Advisor] Sample random config. rand_prob=0.100000.\n",
      "[INFO] [2023-03-01 09:54:29,888] [OpenBox-SPO] Iteration 870, objective value: [50.479730668492984].\n"
     ]
    },
    {
     "name": "stderr",
     "output_type": "stream",
     "text": [
      "\r",
      " 87%|████████████████████████████████████████████████████████████████▍         | 870/1000 [10:24:18<1:32:42, 42.79s/it]"
     ]
    },
    {
     "name": "stdout",
     "output_type": "stream",
     "text": [
      "\t ----- reward: -50.479730668492984 for f_star and f_minus: 24.64021276033415 , 50.479730668492984\n",
      "\t ---------- State is:  (7, 7)\n",
      "[INFO] [2023-03-01 09:55:15,439] [OpenBox-SPO] Iteration 871, objective value: [34.64930828582777].\n"
     ]
    },
    {
     "name": "stderr",
     "output_type": "stream",
     "text": [
      "\r",
      " 87%|████████████████████████████████████████████████████████████████▍         | 871/1000 [10:25:03<1:33:46, 43.62s/it]"
     ]
    },
    {
     "name": "stdout",
     "output_type": "stream",
     "text": [
      "\t ----- reward: -34.64930828582777 for f_star and f_minus: 24.64021276033415 , 34.64930828582777\n",
      "\t ---------- State is:  (6, 7)\n",
      "[INFO] [2023-03-01 09:55:55,402] [OpenBox-SPO] Iteration 872, objective value: [32.33526102464562].\n"
     ]
    },
    {
     "name": "stderr",
     "output_type": "stream",
     "text": [
      "\r",
      " 87%|████████████████████████████████████████████████████████████████▌         | 872/1000 [10:25:43<1:30:42, 42.52s/it]"
     ]
    },
    {
     "name": "stdout",
     "output_type": "stream",
     "text": [
      "\t ----- reward: -32.33526102464562 for f_star and f_minus: 24.64021276033415 , 32.33526102464562\n",
      "\t ---------- State is:  (6, 7)\n",
      "[INFO] [2023-03-01 09:56:36,605] [OpenBox-SPO] Iteration 873, objective value: [28.766045086779116].\n"
     ]
    },
    {
     "name": "stderr",
     "output_type": "stream",
     "text": [
      "\r",
      " 87%|████████████████████████████████████████████████████████████████▌         | 873/1000 [10:26:24<1:29:09, 42.13s/it]"
     ]
    },
    {
     "name": "stdout",
     "output_type": "stream",
     "text": [
      "\t ----- reward: -28.766045086779116 for f_star and f_minus: 24.64021276033415 , 28.766045086779116\n",
      "\t ---------- State is:  (5, 7)\n",
      "[INFO] [2023-03-01 09:57:21,475] [OpenBox-SPO] Iteration 874, objective value: [32.82828687563641].\n"
     ]
    },
    {
     "name": "stderr",
     "output_type": "stream",
     "text": [
      "\r",
      " 87%|████████████████████████████████████████████████████████████████▋         | 874/1000 [10:27:09<1:30:11, 42.95s/it]"
     ]
    },
    {
     "name": "stdout",
     "output_type": "stream",
     "text": [
      "\t ----- reward: -32.82828687563641 for f_star and f_minus: 24.64021276033415 , 32.82828687563641\n",
      "\t ---------- State is:  (6, 7)\n",
      "[INFO] [2023-03-01 09:58:07,004] [OpenBox-SPO] Iteration 875, objective value: [28.713300017726326].\n"
     ]
    },
    {
     "name": "stderr",
     "output_type": "stream",
     "text": [
      "\r",
      " 88%|████████████████████████████████████████████████████████████████▊         | 875/1000 [10:27:55<1:31:05, 43.72s/it]"
     ]
    },
    {
     "name": "stdout",
     "output_type": "stream",
     "text": [
      "\t ----- reward: -28.713300017726326 for f_star and f_minus: 24.64021276033415 , 28.713300017726326\n",
      "\t ---------- State is:  (7, 7)\n",
      "[INFO] [2023-03-01 09:58:48,512] [OpenBox-SPO] Iteration 876, objective value: [29.95673979567043].\n"
     ]
    },
    {
     "name": "stderr",
     "output_type": "stream",
     "text": [
      "\r",
      " 88%|████████████████████████████████████████████████████████████████▊         | 876/1000 [10:28:36<1:28:59, 43.06s/it]"
     ]
    },
    {
     "name": "stdout",
     "output_type": "stream",
     "text": [
      "\t ----- reward: -29.95673979567043 for f_star and f_minus: 24.64021276033415 , 29.95673979567043\n",
      "\t ---------- State is:  (8, 7)\n",
      "[INFO] [2023-03-01 09:59:28,659] [OpenBox-SPO] Iteration 877, objective value: [24.890513623258997].\n"
     ]
    },
    {
     "name": "stderr",
     "output_type": "stream",
     "text": [
      "\r",
      " 88%|████████████████████████████████████████████████████████████████▉         | 877/1000 [10:29:16<1:26:28, 42.18s/it]"
     ]
    },
    {
     "name": "stdout",
     "output_type": "stream",
     "text": [
      "\t ----- reward: -24.890513623258997 for f_star and f_minus: 24.64021276033415 , 24.890513623258997\n",
      "\t ---------- State is:  (8, 6)\n",
      "[INFO] [2023-03-01 10:00:09,759] [OpenBox-SPO] Iteration 878, objective value: [25.624645781707258].\n"
     ]
    },
    {
     "name": "stderr",
     "output_type": "stream",
     "text": [
      "\r",
      " 88%|████████████████████████████████████████████████████████████████▉         | 878/1000 [10:29:58<1:25:06, 41.86s/it]"
     ]
    },
    {
     "name": "stdout",
     "output_type": "stream",
     "text": [
      "\t ----- reward: -25.624645781707258 for f_star and f_minus: 24.64021276033415 , 25.624645781707258\n",
      "\t ---------- State is:  (9, 6)\n",
      "[INFO] [2023-03-01 10:00:09,759] [Advisor] Sample random config. rand_prob=0.100000.\n",
      "[INFO] [2023-03-01 10:00:31,866] [OpenBox-SPO] Iteration 879, objective value: [64.39895069435639].\n"
     ]
    },
    {
     "name": "stderr",
     "output_type": "stream",
     "text": [
      "\r",
      " 88%|█████████████████████████████████████████████████████████████████         | 879/1000 [10:30:20<1:12:27, 35.93s/it]"
     ]
    },
    {
     "name": "stdout",
     "output_type": "stream",
     "text": [
      "\t ----- reward: -64.39895069435639 for f_star and f_minus: 24.64021276033415 , 64.39895069435639\n",
      "\t ---------- State is:  (10, 6)\n",
      "[INFO] [2023-03-01 10:01:09,333] [OpenBox-SPO] Iteration 880, objective value: [31.541558874896722].\n"
     ]
    },
    {
     "name": "stderr",
     "output_type": "stream",
     "text": [
      "\r",
      " 88%|█████████████████████████████████████████████████████████████████         | 880/1000 [10:30:57<1:12:47, 36.39s/it]"
     ]
    },
    {
     "name": "stdout",
     "output_type": "stream",
     "text": [
      "\t ----- reward: -31.541558874896722 for f_star and f_minus: 24.64021276033415 , 31.541558874896722\n",
      "\t ---------- State is:  (9, 6)\n",
      "[INFO] [2023-03-01 10:01:55,681] [OpenBox-SPO] Iteration 881, objective value: [29.509277376125823].\n"
     ]
    },
    {
     "name": "stderr",
     "output_type": "stream",
     "text": [
      "\r",
      " 88%|█████████████████████████████████████████████████████████████████▏        | 881/1000 [10:31:43<1:18:06, 39.38s/it]"
     ]
    },
    {
     "name": "stdout",
     "output_type": "stream",
     "text": [
      "\t ----- reward: -29.509277376125823 for f_star and f_minus: 24.64021276033415 , 29.509277376125823\n",
      "\t ---------- State is:  (9, 5)\n",
      "[INFO] [2023-03-01 10:02:34,311] [OpenBox-SPO] Iteration 882, objective value: [29.15169940555593].\n"
     ]
    },
    {
     "name": "stderr",
     "output_type": "stream",
     "text": [
      "\r",
      " 88%|█████████████████████████████████████████████████████████████████▎        | 882/1000 [10:32:22<1:17:00, 39.15s/it]"
     ]
    },
    {
     "name": "stdout",
     "output_type": "stream",
     "text": [
      "\t ----- reward: -29.15169940555593 for f_star and f_minus: 24.64021276033415 , 29.15169940555593\n",
      "\t ---------- State is:  (10, 4)\n",
      "[INFO] [2023-03-01 10:03:13,754] [OpenBox-SPO] Iteration 883, objective value: [27.558423860649114].\n"
     ]
    },
    {
     "name": "stderr",
     "output_type": "stream",
     "text": [
      "\r",
      " 88%|█████████████████████████████████████████████████████████████████▎        | 883/1000 [10:33:02<1:16:31, 39.24s/it]"
     ]
    },
    {
     "name": "stdout",
     "output_type": "stream",
     "text": [
      "\t ----- reward: -27.558423860649114 for f_star and f_minus: 24.64021276033415 , 27.558423860649114\n",
      "\t ---------- State is:  (10, 4)\n",
      "[INFO] [2023-03-01 10:03:52,543] [OpenBox-SPO] Iteration 884, objective value: [34.341950717704094].\n"
     ]
    },
    {
     "name": "stderr",
     "output_type": "stream",
     "text": [
      "\r",
      " 88%|█████████████████████████████████████████████████████████████████▍        | 884/1000 [10:33:40<1:15:36, 39.11s/it]"
     ]
    },
    {
     "name": "stdout",
     "output_type": "stream",
     "text": [
      "\t ----- reward: -34.341950717704094 for f_star and f_minus: 24.64021276033415 , 34.341950717704094\n",
      "\t ---------- State is:  (10, 4)\n",
      "[INFO] [2023-03-01 10:04:31,986] [OpenBox-SPO] Iteration 885, objective value: [30.350633926561372].\n"
     ]
    },
    {
     "name": "stderr",
     "output_type": "stream",
     "text": [
      "\r",
      " 88%|█████████████████████████████████████████████████████████████████▍        | 885/1000 [10:34:20<1:15:08, 39.21s/it]"
     ]
    },
    {
     "name": "stdout",
     "output_type": "stream",
     "text": [
      "\t ----- reward: -30.350633926561372 for f_star and f_minus: 24.64021276033415 , 30.350633926561372\n",
      "\t ---------- State is:  (9, 5)\n",
      "[INFO] [2023-03-01 10:05:21,777] [OpenBox-SPO] Iteration 886, objective value: [33.51905526814379].\n"
     ]
    },
    {
     "name": "stderr",
     "output_type": "stream",
     "text": [
      "\r",
      " 89%|█████████████████████████████████████████████████████████████████▌        | 886/1000 [10:35:10<1:20:31, 42.38s/it]"
     ]
    },
    {
     "name": "stdout",
     "output_type": "stream",
     "text": [
      "\t ----- reward: -33.51905526814379 for f_star and f_minus: 24.64021276033415 , 33.51905526814379\n",
      "\t ---------- State is:  (9, 5)\n",
      "[INFO] [2023-03-01 10:06:05,284] [OpenBox-SPO] Iteration 887, objective value: [33.57880491462427].\n"
     ]
    },
    {
     "name": "stderr",
     "output_type": "stream",
     "text": [
      "\r",
      " 89%|█████████████████████████████████████████████████████████████████▋        | 887/1000 [10:35:53<1:20:27, 42.72s/it]"
     ]
    },
    {
     "name": "stdout",
     "output_type": "stream",
     "text": [
      "\t ----- reward: -33.57880491462427 for f_star and f_minus: 24.64021276033415 , 33.57880491462427\n",
      "\t ---------- State is:  (10, 6)\n",
      "[INFO] [2023-03-01 10:06:48,231] [OpenBox-SPO] Iteration 888, objective value: [26.2079636510192].\n"
     ]
    },
    {
     "name": "stderr",
     "output_type": "stream",
     "text": [
      "\r",
      " 89%|█████████████████████████████████████████████████████████████████▋        | 888/1000 [10:36:36<1:19:52, 42.79s/it]"
     ]
    },
    {
     "name": "stdout",
     "output_type": "stream",
     "text": [
      "\t ----- reward: -26.2079636510192 for f_star and f_minus: 24.64021276033415 , 26.2079636510192\n",
      "\t ---------- State is:  (10, 5)\n",
      "[INFO] [2023-03-01 10:06:48,231] [Advisor] Sample random config. rand_prob=0.100000.\n",
      "[INFO] [2023-03-01 10:07:20,787] [OpenBox-SPO] Iteration 889, objective value: [53.90793383542633].\n"
     ]
    },
    {
     "name": "stderr",
     "output_type": "stream",
     "text": [
      "\r",
      " 89%|█████████████████████████████████████████████████████████████████▊        | 889/1000 [10:37:09<1:13:28, 39.72s/it]"
     ]
    },
    {
     "name": "stdout",
     "output_type": "stream",
     "text": [
      "\t ----- reward: -53.90793383542633 for f_star and f_minus: 24.64021276033415 , 53.90793383542633\n",
      "\t ---------- State is:  (10, 6)\n",
      "[INFO] [2023-03-01 10:07:56,419] [OpenBox-SPO] Iteration 890, objective value: [38.832732275470775].\n"
     ]
    },
    {
     "name": "stderr",
     "output_type": "stream",
     "text": [
      "\r",
      " 89%|█████████████████████████████████████████████████████████████████▊        | 890/1000 [10:37:44<1:10:34, 38.49s/it]"
     ]
    },
    {
     "name": "stdout",
     "output_type": "stream",
     "text": [
      "\t ----- reward: -38.832732275470775 for f_star and f_minus: 24.64021276033415 , 38.832732275470775\n",
      "\t ---------- State is:  (10, 6)\n",
      "[INFO] [2023-03-01 10:08:35,722] [OpenBox-SPO] Iteration 891, objective value: [27.39538443891354].\n"
     ]
    },
    {
     "name": "stderr",
     "output_type": "stream",
     "text": [
      "\r",
      " 89%|█████████████████████████████████████████████████████████████████▉        | 891/1000 [10:38:24<1:10:22, 38.74s/it]"
     ]
    },
    {
     "name": "stdout",
     "output_type": "stream",
     "text": [
      "\t ----- reward: -27.39538443891354 for f_star and f_minus: 24.64021276033415 , 27.39538443891354\n",
      "\t ---------- State is:  (10, 5)\n",
      "[INFO] [2023-03-01 10:09:14,238] [OpenBox-SPO] Iteration 892, objective value: [26.56663507258415].\n"
     ]
    },
    {
     "name": "stderr",
     "output_type": "stream",
     "text": [
      "\r",
      " 89%|██████████████████████████████████████████████████████████████████        | 892/1000 [10:39:02<1:09:36, 38.67s/it]"
     ]
    },
    {
     "name": "stdout",
     "output_type": "stream",
     "text": [
      "\t ----- reward: -26.56663507258415 for f_star and f_minus: 24.64021276033415 , 26.56663507258415\n",
      "\t ---------- State is:  (10, 5)\n",
      "[INFO] [2023-03-01 10:09:57,578] [OpenBox-SPO] Iteration 893, objective value: [28.757080576214946].\n"
     ]
    },
    {
     "name": "stderr",
     "output_type": "stream",
     "text": [
      "\r",
      " 89%|██████████████████████████████████████████████████████████████████        | 893/1000 [10:39:45<1:11:27, 40.07s/it]"
     ]
    },
    {
     "name": "stdout",
     "output_type": "stream",
     "text": [
      "\t ----- reward: -28.757080576214946 for f_star and f_minus: 24.64021276033415 , 28.757080576214946\n",
      "\t ---------- State is:  (9, 5)\n",
      "[INFO] [2023-03-01 10:10:40,023] [OpenBox-SPO] Iteration 894, objective value: [27.766915878198404].\n"
     ]
    },
    {
     "name": "stderr",
     "output_type": "stream",
     "text": [
      "\r",
      " 89%|██████████████████████████████████████████████████████████████████▏       | 894/1000 [10:40:28<1:12:02, 40.78s/it]"
     ]
    },
    {
     "name": "stdout",
     "output_type": "stream",
     "text": [
      "\t ----- reward: -27.766915878198404 for f_star and f_minus: 24.64021276033415 , 27.766915878198404\n",
      "\t ---------- State is:  (8, 4)\n",
      "[INFO] [2023-03-01 10:11:19,560] [OpenBox-SPO] Iteration 895, objective value: [27.25852734692289].\n"
     ]
    },
    {
     "name": "stderr",
     "output_type": "stream",
     "text": [
      "\r",
      " 90%|██████████████████████████████████████████████████████████████████▏       | 895/1000 [10:41:07<1:10:42, 40.41s/it]"
     ]
    },
    {
     "name": "stdout",
     "output_type": "stream",
     "text": [
      "\t ----- reward: -27.25852734692289 for f_star and f_minus: 24.64021276033415 , 27.25852734692289\n",
      "\t ---------- State is:  (8, 4)\n",
      "[INFO] [2023-03-01 10:11:59,929] [OpenBox-SPO] Iteration 896, objective value: [28.958346969805746].\n"
     ]
    },
    {
     "name": "stderr",
     "output_type": "stream",
     "text": [
      "\r",
      " 90%|██████████████████████████████████████████████████████████████████▎       | 896/1000 [10:41:48<1:10:01, 40.40s/it]"
     ]
    },
    {
     "name": "stdout",
     "output_type": "stream",
     "text": [
      "\t ----- reward: -28.958346969805746 for f_star and f_minus: 24.64021276033415 , 28.958346969805746\n",
      "\t ---------- State is:  (7, 4)\n",
      "[INFO] [2023-03-01 10:12:40,895] [OpenBox-SPO] Iteration 897, objective value: [32.735231360567965].\n"
     ]
    },
    {
     "name": "stderr",
     "output_type": "stream",
     "text": [
      "\r",
      " 90%|██████████████████████████████████████████████████████████████████▍       | 897/1000 [10:42:29<1:09:38, 40.57s/it]"
     ]
    },
    {
     "name": "stdout",
     "output_type": "stream",
     "text": [
      "\t ----- reward: -32.735231360567965 for f_star and f_minus: 24.64021276033415 , 32.735231360567965\n",
      "\t ---------- State is:  (6, 4)\n",
      "[INFO] [2023-03-01 10:13:20,401] [OpenBox-SPO] Iteration 898, objective value: [26.127033640426916].\n"
     ]
    },
    {
     "name": "stderr",
     "output_type": "stream",
     "text": [
      "\r",
      " 90%|██████████████████████████████████████████████████████████████████▍       | 898/1000 [10:43:08<1:08:25, 40.25s/it]"
     ]
    },
    {
     "name": "stdout",
     "output_type": "stream",
     "text": [
      "\t ----- reward: -26.127033640426916 for f_star and f_minus: 24.64021276033415 , 26.127033640426916\n",
      "\t ---------- State is:  (7, 4)\n",
      "[INFO] [2023-03-01 10:14:04,284] [OpenBox-SPO] Iteration 899, objective value: [26.37317267444736].\n"
     ]
    },
    {
     "name": "stderr",
     "output_type": "stream",
     "text": [
      "\r",
      " 90%|██████████████████████████████████████████████████████████████████▌       | 899/1000 [10:43:52<1:09:35, 41.34s/it]"
     ]
    },
    {
     "name": "stdout",
     "output_type": "stream",
     "text": [
      "\t ----- reward: -26.37317267444736 for f_star and f_minus: 24.64021276033415 , 26.37317267444736\n",
      "\t ---------- State is:  (6, 4)\n",
      "[INFO] [2023-03-01 10:14:46,481] [OpenBox-SPO] Iteration 900, objective value: [28.732067548291695].\n"
     ]
    },
    {
     "name": "stderr",
     "output_type": "stream",
     "text": [
      "\r",
      " 90%|██████████████████████████████████████████████████████████████████▌       | 900/1000 [10:44:34<1:09:19, 41.60s/it]"
     ]
    },
    {
     "name": "stdout",
     "output_type": "stream",
     "text": [
      "\t ----- reward: -28.732067548291695 for f_star and f_minus: 24.64021276033415 , 28.732067548291695\n",
      "\t ---------- State is:  (6, 4)\n",
      "[INFO] [2023-03-01 10:15:29,907] [OpenBox-SPO] Iteration 901, objective value: [33.788204668746644].\n"
     ]
    },
    {
     "name": "stderr",
     "output_type": "stream",
     "text": [
      "\r",
      " 90%|██████████████████████████████████████████████████████████████████▋       | 901/1000 [10:45:18<1:09:32, 42.15s/it]"
     ]
    },
    {
     "name": "stdout",
     "output_type": "stream",
     "text": [
      "\t ----- reward: -33.788204668746644 for f_star and f_minus: 24.64021276033415 , 33.788204668746644\n",
      "\t ---------- State is:  (5, 4)\n",
      "[INFO] [2023-03-01 10:16:09,272] [OpenBox-SPO] Iteration 902, objective value: [37.84402402360121].\n"
     ]
    },
    {
     "name": "stderr",
     "output_type": "stream",
     "text": [
      "\r",
      " 90%|██████████████████████████████████████████████████████████████████▋       | 902/1000 [10:45:57<1:07:28, 41.31s/it]"
     ]
    },
    {
     "name": "stdout",
     "output_type": "stream",
     "text": [
      "\t ----- reward: -37.84402402360121 for f_star and f_minus: 24.64021276033415 , 37.84402402360121\n",
      "\t ---------- State is:  (6, 4)\n",
      "[INFO] [2023-03-01 10:16:09,272] [Advisor] Sample random config. rand_prob=0.100000.\n",
      "[INFO] [2023-03-01 10:16:43,296] [OpenBox-SPO] Iteration 903, objective value: [58.636621496384606].\n"
     ]
    },
    {
     "name": "stderr",
     "output_type": "stream",
     "text": [
      "\r",
      " 90%|██████████████████████████████████████████████████████████████████▊       | 903/1000 [10:46:31<1:03:15, 39.12s/it]"
     ]
    },
    {
     "name": "stdout",
     "output_type": "stream",
     "text": [
      "\t ----- reward: -58.636621496384606 for f_star and f_minus: 24.64021276033415 , 58.636621496384606\n",
      "\t ---------- State is:  (7, 5)\n",
      "[INFO] [2023-03-01 10:17:26,772] [OpenBox-SPO] Iteration 904, objective value: [31.115434746950015].\n"
     ]
    },
    {
     "name": "stderr",
     "output_type": "stream",
     "text": [
      "\r",
      " 90%|██████████████████████████████████████████████████████████████████▉       | 904/1000 [10:47:15<1:04:41, 40.43s/it]"
     ]
    },
    {
     "name": "stdout",
     "output_type": "stream",
     "text": [
      "\t ----- reward: -31.115434746950015 for f_star and f_minus: 24.64021276033415 , 31.115434746950015\n",
      "\t ---------- State is:  (6, 5)\n",
      "[INFO] [2023-03-01 10:18:08,070] [OpenBox-SPO] Iteration 905, objective value: [31.197404138636614].\n"
     ]
    },
    {
     "name": "stderr",
     "output_type": "stream",
     "text": [
      "\r",
      " 90%|██████████████████████████████████████████████████████████████████▉       | 905/1000 [10:47:56<1:04:25, 40.69s/it]"
     ]
    },
    {
     "name": "stdout",
     "output_type": "stream",
     "text": [
      "\t ----- reward: -31.197404138636614 for f_star and f_minus: 24.64021276033415 , 31.197404138636614\n",
      "\t ---------- State is:  (6, 5)\n",
      "[INFO] [2023-03-01 10:18:55,173] [OpenBox-SPO] Iteration 906, objective value: [29.042024810611153].\n"
     ]
    },
    {
     "name": "stderr",
     "output_type": "stream",
     "text": [
      "\r",
      " 91%|███████████████████████████████████████████████████████████████████       | 906/1000 [10:48:43<1:06:45, 42.61s/it]"
     ]
    },
    {
     "name": "stdout",
     "output_type": "stream",
     "text": [
      "\t ----- reward: -29.042024810611153 for f_star and f_minus: 24.64021276033415 , 29.042024810611153\n",
      "\t ---------- State is:  (7, 4)\n",
      "[INFO] [2023-03-01 10:19:37,555] [OpenBox-SPO] Iteration 907, objective value: [33.87706423722146].\n"
     ]
    },
    {
     "name": "stderr",
     "output_type": "stream",
     "text": [
      "\r",
      " 91%|███████████████████████████████████████████████████████████████████       | 907/1000 [10:49:25<1:05:56, 42.54s/it]"
     ]
    },
    {
     "name": "stdout",
     "output_type": "stream",
     "text": [
      "\t ----- reward: -33.87706423722146 for f_star and f_minus: 24.64021276033415 , 33.87706423722146\n",
      "\t ---------- State is:  (8, 4)\n",
      "[INFO] [2023-03-01 10:20:16,560] [OpenBox-SPO] Iteration 908, objective value: [28.589487998440603].\n"
     ]
    },
    {
     "name": "stderr",
     "output_type": "stream",
     "text": [
      "\r",
      " 91%|███████████████████████████████████████████████████████████████████▏      | 908/1000 [10:50:04<1:03:36, 41.48s/it]"
     ]
    },
    {
     "name": "stdout",
     "output_type": "stream",
     "text": [
      "\t ----- reward: -28.589487998440603 for f_star and f_minus: 24.64021276033415 , 28.589487998440603\n",
      "\t ---------- State is:  (8, 4)\n",
      "[INFO] [2023-03-01 10:20:56,412] [OpenBox-SPO] Iteration 909, objective value: [27.487511533955626].\n"
     ]
    },
    {
     "name": "stderr",
     "output_type": "stream",
     "text": [
      "\r",
      " 91%|███████████████████████████████████████████████████████████████████▎      | 909/1000 [10:50:44<1:02:10, 40.99s/it]"
     ]
    },
    {
     "name": "stdout",
     "output_type": "stream",
     "text": [
      "\t ----- reward: -27.487511533955626 for f_star and f_minus: 24.64021276033415 , 27.487511533955626\n",
      "\t ---------- State is:  (7, 4)\n",
      "[INFO] [2023-03-01 10:20:56,412] [Advisor] Sample random config. rand_prob=0.100000.\n",
      "[INFO] [2023-03-01 10:21:31,745] [OpenBox-SPO] Iteration 910, objective value: [60.92829649446795].\n"
     ]
    },
    {
     "name": "stderr",
     "output_type": "stream",
     "text": [
      "\r",
      " 91%|█████████████████████████████████████████████████████████████████████▏      | 910/1000 [10:51:20<58:56, 39.30s/it]"
     ]
    },
    {
     "name": "stdout",
     "output_type": "stream",
     "text": [
      "\t ----- reward: -60.92829649446795 for f_star and f_minus: 24.64021276033415 , 60.92829649446795\n",
      "\t ---------- State is:  (6, 4)\n",
      "[INFO] [2023-03-01 10:22:14,817] [OpenBox-SPO] Iteration 911, objective value: [31.576278682736245].\n"
     ]
    },
    {
     "name": "stderr",
     "output_type": "stream",
     "text": [
      "\r",
      " 91%|█████████████████████████████████████████████████████████████████████▏      | 911/1000 [10:52:03<59:58, 40.43s/it]"
     ]
    },
    {
     "name": "stdout",
     "output_type": "stream",
     "text": [
      "\t ----- reward: -31.576278682736245 for f_star and f_minus: 24.64021276033415 , 31.576278682736245\n",
      "\t ---------- State is:  (6, 4)\n",
      "[INFO] [2023-03-01 10:22:54,106] [OpenBox-SPO] Iteration 912, objective value: [28.76609277535897].\n"
     ]
    },
    {
     "name": "stderr",
     "output_type": "stream",
     "text": [
      "\r",
      " 91%|█████████████████████████████████████████████████████████████████████▎      | 912/1000 [10:52:42<58:47, 40.09s/it]"
     ]
    },
    {
     "name": "stdout",
     "output_type": "stream",
     "text": [
      "\t ----- reward: -28.76609277535897 for f_star and f_minus: 24.64021276033415 , 28.76609277535897\n",
      "\t ---------- State is:  (5, 4)\n",
      "[INFO] [2023-03-01 10:23:37,994] [OpenBox-SPO] Iteration 913, objective value: [26.37062861668305].\n"
     ]
    },
    {
     "name": "stderr",
     "output_type": "stream",
     "text": [
      "\r",
      " 91%|█████████████████████████████████████████████████████████████████████▍      | 913/1000 [10:53:26<59:46, 41.23s/it]"
     ]
    },
    {
     "name": "stdout",
     "output_type": "stream",
     "text": [
      "\t ----- reward: -26.37062861668305 for f_star and f_minus: 24.64021276033415 , 26.37062861668305\n",
      "\t ---------- State is:  (4, 4)\n",
      "[INFO] [2023-03-01 10:23:37,994] [Advisor] Sample random config. rand_prob=0.100000.\n",
      "[INFO] [2023-03-01 10:24:08,982] [OpenBox-SPO] Iteration 914, objective value: [47.81975609367339].\n"
     ]
    },
    {
     "name": "stderr",
     "output_type": "stream",
     "text": [
      "\r",
      " 91%|█████████████████████████████████████████████████████████████████████▍      | 914/1000 [10:53:57<54:41, 38.16s/it]"
     ]
    },
    {
     "name": "stdout",
     "output_type": "stream",
     "text": [
      "\t ----- reward: -47.81975609367339 for f_star and f_minus: 24.64021276033415 , 47.81975609367339\n",
      "\t ---------- State is:  (5, 5)\n",
      "[INFO] [2023-03-01 10:25:00,102] [OpenBox-SPO] Iteration 915, objective value: [37.40301410171574].\n"
     ]
    },
    {
     "name": "stderr",
     "output_type": "stream",
     "text": [
      "\r",
      " 92%|█████████████████████████████████████████████████████████████████████▌      | 915/1000 [10:54:48<59:33, 42.04s/it]"
     ]
    },
    {
     "name": "stdout",
     "output_type": "stream",
     "text": [
      "\t ----- reward: -37.40301410171574 for f_star and f_minus: 24.64021276033415 , 37.40301410171574\n",
      "\t ---------- State is:  (6, 6)\n",
      "[INFO] [2023-03-01 10:25:44,031] [OpenBox-SPO] Iteration 916, objective value: [34.532112790645414].\n"
     ]
    },
    {
     "name": "stderr",
     "output_type": "stream",
     "text": [
      "\r",
      " 92%|█████████████████████████████████████████████████████████████████████▌      | 916/1000 [10:55:32<59:39, 42.61s/it]"
     ]
    },
    {
     "name": "stdout",
     "output_type": "stream",
     "text": [
      "\t ----- reward: -34.532112790645414 for f_star and f_minus: 24.64021276033415 , 34.532112790645414\n",
      "\t ---------- State is:  (7, 6)\n",
      "[INFO] [2023-03-01 10:26:23,927] [OpenBox-SPO] Iteration 917, objective value: [27.462347328434475].\n"
     ]
    },
    {
     "name": "stderr",
     "output_type": "stream",
     "text": [
      "\r",
      " 92%|█████████████████████████████████████████████████████████████████████▋      | 917/1000 [10:56:12<57:49, 41.80s/it]"
     ]
    },
    {
     "name": "stdout",
     "output_type": "stream",
     "text": [
      "\t ----- reward: -27.462347328434475 for f_star and f_minus: 24.64021276033415 , 27.462347328434475\n",
      "\t ---------- State is:  (7, 6)\n",
      "[INFO] [2023-03-01 10:26:23,927] [Advisor] Sample random config. rand_prob=0.100000.\n",
      "[INFO] [2023-03-01 10:27:07,049] [OpenBox-SPO] Iteration 918, objective value: [60.993551737405596].\n"
     ]
    },
    {
     "name": "stderr",
     "output_type": "stream",
     "text": [
      "\r",
      " 92%|█████████████████████████████████████████████████████████████████████▊      | 918/1000 [10:56:55<57:39, 42.19s/it]"
     ]
    },
    {
     "name": "stdout",
     "output_type": "stream",
     "text": [
      "\t ----- reward: -60.993551737405596 for f_star and f_minus: 24.64021276033415 , 60.993551737405596\n",
      "\t ---------- State is:  (7, 6)\n",
      "[INFO] [2023-03-01 10:27:51,053] [OpenBox-SPO] Iteration 919, objective value: [41.580381079195774].\n"
     ]
    },
    {
     "name": "stderr",
     "output_type": "stream",
     "text": [
      "\r",
      " 92%|█████████████████████████████████████████████████████████████████████▊      | 919/1000 [10:57:39<57:41, 42.74s/it]"
     ]
    },
    {
     "name": "stdout",
     "output_type": "stream",
     "text": [
      "\t ----- reward: -41.580381079195774 for f_star and f_minus: 24.64021276033415 , 41.580381079195774\n",
      "\t ---------- State is:  (6, 8)\n",
      "[INFO] [2023-03-01 10:28:31,978] [OpenBox-SPO] Iteration 920, objective value: [41.69246590145042].\n"
     ]
    },
    {
     "name": "stderr",
     "output_type": "stream",
     "text": [
      "\r",
      " 92%|█████████████████████████████████████████████████████████████████████▉      | 920/1000 [10:58:20<56:15, 42.19s/it]"
     ]
    },
    {
     "name": "stdout",
     "output_type": "stream",
     "text": [
      "\t ----- reward: -41.69246590145042 for f_star and f_minus: 24.64021276033415 , 41.69246590145042\n",
      "\t ---------- State is:  (6, 9)\n",
      "[INFO] [2023-03-01 10:29:12,158] [OpenBox-SPO] Iteration 921, objective value: [33.67025655114607].\n"
     ]
    },
    {
     "name": "stderr",
     "output_type": "stream",
     "text": [
      "\r",
      " 92%|█████████████████████████████████████████████████████████████████████▉      | 921/1000 [10:59:00<54:45, 41.59s/it]"
     ]
    },
    {
     "name": "stdout",
     "output_type": "stream",
     "text": [
      "\t ----- reward: -33.67025655114607 for f_star and f_minus: 24.64021276033415 , 33.67025655114607\n",
      "\t ---------- State is:  (5, 9)\n",
      "[INFO] [2023-03-01 10:29:55,855] [OpenBox-SPO] Iteration 922, objective value: [27.60861867513637].\n"
     ]
    },
    {
     "name": "stderr",
     "output_type": "stream",
     "text": [
      "\r",
      " 92%|██████████████████████████████████████████████████████████████████████      | 922/1000 [10:59:44<54:53, 42.22s/it]"
     ]
    },
    {
     "name": "stdout",
     "output_type": "stream",
     "text": [
      "\t ----- reward: -27.60861867513637 for f_star and f_minus: 24.64021276033415 , 27.60861867513637\n",
      "\t ---------- State is:  (4, 7)\n",
      "[INFO] [2023-03-01 10:29:55,855] [Advisor] Sample random config. rand_prob=0.100000.\n",
      "[INFO] [2023-03-01 10:30:27,673] [OpenBox-SPO] Iteration 923, objective value: [55.57316498883949].\n"
     ]
    },
    {
     "name": "stderr",
     "output_type": "stream",
     "text": [
      "\r",
      " 92%|██████████████████████████████████████████████████████████████████████▏     | 923/1000 [11:00:15<50:10, 39.10s/it]"
     ]
    },
    {
     "name": "stdout",
     "output_type": "stream",
     "text": [
      "\t ----- reward: -55.57316498883949 for f_star and f_minus: 24.64021276033415 , 55.57316498883949\n",
      "\t ---------- State is:  (3, 7)\n",
      "[INFO] [2023-03-01 10:31:12,010] [OpenBox-SPO] Iteration 924, objective value: [36.11558876208497].\n"
     ]
    },
    {
     "name": "stderr",
     "output_type": "stream",
     "text": [
      "\r",
      " 92%|██████████████████████████████████████████████████████████████████████▏     | 924/1000 [11:01:00<51:31, 40.68s/it]"
     ]
    },
    {
     "name": "stdout",
     "output_type": "stream",
     "text": [
      "\t ----- reward: -36.11558876208497 for f_star and f_minus: 24.64021276033415 , 36.11558876208497\n",
      "\t ---------- State is:  (4, 9)\n",
      "[INFO] [2023-03-01 10:31:53,603] [OpenBox-SPO] Iteration 925, objective value: [48.271734175578416].\n"
     ]
    },
    {
     "name": "stderr",
     "output_type": "stream",
     "text": [
      "\r",
      " 92%|██████████████████████████████████████████████████████████████████████▎     | 925/1000 [11:01:41<51:10, 40.95s/it]"
     ]
    },
    {
     "name": "stdout",
     "output_type": "stream",
     "text": [
      "\t ----- reward: -48.271734175578416 for f_star and f_minus: 24.64021276033415 , 48.271734175578416\n",
      "\t ---------- State is:  (4, 9)\n",
      "[INFO] [2023-03-01 10:32:38,885] [OpenBox-SPO] Iteration 926, objective value: [30.1480019850586].\n"
     ]
    },
    {
     "name": "stderr",
     "output_type": "stream",
     "text": [
      "\r",
      " 93%|██████████████████████████████████████████████████████████████████████▍     | 926/1000 [11:02:27<52:06, 42.25s/it]"
     ]
    },
    {
     "name": "stdout",
     "output_type": "stream",
     "text": [
      "\t ----- reward: -30.1480019850586 for f_star and f_minus: 24.64021276033415 , 30.1480019850586\n",
      "\t ---------- State is:  (3, 9)\n",
      "[INFO] [2023-03-01 10:33:26,080] [OpenBox-SPO] Iteration 927, objective value: [32.69868424508756].\n"
     ]
    },
    {
     "name": "stderr",
     "output_type": "stream",
     "text": [
      "\r",
      " 93%|██████████████████████████████████████████████████████████████████████▍     | 927/1000 [11:03:14<53:12, 43.73s/it]"
     ]
    },
    {
     "name": "stdout",
     "output_type": "stream",
     "text": [
      "\t ----- reward: -32.69868424508756 for f_star and f_minus: 24.64021276033415 , 32.69868424508756\n",
      "\t ---------- State is:  (4, 9)\n",
      "[INFO] [2023-03-01 10:34:05,816] [OpenBox-SPO] Iteration 928, objective value: [29.241589706651936].\n"
     ]
    },
    {
     "name": "stderr",
     "output_type": "stream",
     "text": [
      "\r",
      " 93%|██████████████████████████████████████████████████████████████████████▌     | 928/1000 [11:03:54<51:02, 42.53s/it]"
     ]
    },
    {
     "name": "stdout",
     "output_type": "stream",
     "text": [
      "\t ----- reward: -29.241589706651936 for f_star and f_minus: 24.64021276033415 , 29.241589706651936\n",
      "\t ---------- State is:  (5, 9)\n",
      "[INFO] [2023-03-01 10:34:51,390] [OpenBox-SPO] Iteration 929, objective value: [32.33966647931646].\n"
     ]
    },
    {
     "name": "stderr",
     "output_type": "stream",
     "text": [
      "\r",
      " 93%|██████████████████████████████████████████████████████████████████████▌     | 929/1000 [11:04:39<51:24, 43.45s/it]"
     ]
    },
    {
     "name": "stdout",
     "output_type": "stream",
     "text": [
      "\t ----- reward: -32.33966647931646 for f_star and f_minus: 24.64021276033415 , 32.33966647931646\n",
      "\t ---------- State is:  (4, 9)\n",
      "[INFO] [2023-03-01 10:35:29,863] [OpenBox-SPO] Iteration 930, objective value: [34.79597270898715].\n"
     ]
    },
    {
     "name": "stderr",
     "output_type": "stream",
     "text": [
      "\r",
      " 93%|██████████████████████████████████████████████████████████████████████▋     | 930/1000 [11:05:18<48:56, 41.95s/it]"
     ]
    },
    {
     "name": "stdout",
     "output_type": "stream",
     "text": [
      "\t ----- reward: -34.79597270898715 for f_star and f_minus: 24.64021276033415 , 34.79597270898715\n",
      "\t ---------- State is:  (3, 9)\n",
      "[INFO] [2023-03-01 10:36:11,525] [OpenBox-SPO] Iteration 931, objective value: [33.31637964873818].\n"
     ]
    },
    {
     "name": "stderr",
     "output_type": "stream",
     "text": [
      "\r",
      " 93%|██████████████████████████████████████████████████████████████████████▊     | 931/1000 [11:05:59<48:08, 41.87s/it]"
     ]
    },
    {
     "name": "stdout",
     "output_type": "stream",
     "text": [
      "\t ----- reward: -33.31637964873818 for f_star and f_minus: 24.64021276033415 , 33.31637964873818\n",
      "\t ---------- State is:  (3, 9)\n",
      "[INFO] [2023-03-01 10:36:54,785] [OpenBox-SPO] Iteration 932, objective value: [28.74862671717281].\n"
     ]
    },
    {
     "name": "stderr",
     "output_type": "stream",
     "text": [
      "\r",
      " 93%|██████████████████████████████████████████████████████████████████████▊     | 932/1000 [11:06:43<47:55, 42.28s/it]"
     ]
    },
    {
     "name": "stdout",
     "output_type": "stream",
     "text": [
      "\t ----- reward: -28.74862671717281 for f_star and f_minus: 24.64021276033415 , 28.74862671717281\n",
      "\t ---------- State is:  (2, 9)\n",
      "[INFO] [2023-03-01 10:37:31,306] [OpenBox-SPO] Iteration 933, objective value: [41.49234171118058].\n"
     ]
    },
    {
     "name": "stderr",
     "output_type": "stream",
     "text": [
      "\r",
      " 93%|██████████████████████████████████████████████████████████████████████▉     | 933/1000 [11:07:19<45:17, 40.56s/it]"
     ]
    },
    {
     "name": "stdout",
     "output_type": "stream",
     "text": [
      "\t ----- reward: -41.49234171118058 for f_star and f_minus: 24.64021276033415 , 41.49234171118058\n",
      "\t ---------- State is:  (2, 10)\n",
      "[INFO] [2023-03-01 10:38:15,531] [OpenBox-SPO] Iteration 934, objective value: [32.95727641685208].\n"
     ]
    },
    {
     "name": "stderr",
     "output_type": "stream",
     "text": [
      "\r",
      " 93%|██████████████████████████████████████████████████████████████████████▉     | 934/1000 [11:08:03<45:49, 41.66s/it]"
     ]
    },
    {
     "name": "stdout",
     "output_type": "stream",
     "text": [
      "\t ----- reward: -32.95727641685208 for f_star and f_minus: 24.64021276033415 , 32.95727641685208\n",
      "\t ---------- State is:  (1, 9)\n",
      "[INFO] [2023-03-01 10:38:57,383] [OpenBox-SPO] Iteration 935, objective value: [36.217334822845416].\n"
     ]
    },
    {
     "name": "stderr",
     "output_type": "stream",
     "text": [
      "\r",
      " 94%|███████████████████████████████████████████████████████████████████████     | 935/1000 [11:08:45<45:11, 41.72s/it]"
     ]
    },
    {
     "name": "stdout",
     "output_type": "stream",
     "text": [
      "\t ----- reward: -36.217334822845416 for f_star and f_minus: 24.64021276033415 , 36.217334822845416\n",
      "\t ---------- State is:  (1, 9)\n",
      "[INFO] [2023-03-01 10:39:43,251] [OpenBox-SPO] Iteration 936, objective value: [31.03128242333044].\n"
     ]
    },
    {
     "name": "stderr",
     "output_type": "stream",
     "text": [
      "\r",
      " 94%|███████████████████████████████████████████████████████████████████████▏    | 936/1000 [11:09:31<45:49, 42.96s/it]"
     ]
    },
    {
     "name": "stdout",
     "output_type": "stream",
     "text": [
      "\t ----- reward: -31.03128242333044 for f_star and f_minus: 24.64021276033415 , 31.03128242333044\n",
      "\t ---------- State is:  (0, 8)\n",
      "[INFO] [2023-03-01 10:40:21,128] [OpenBox-SPO] Iteration 937, objective value: [32.70888849426915].\n"
     ]
    },
    {
     "name": "stderr",
     "output_type": "stream",
     "text": [
      "\r",
      " 94%|███████████████████████████████████████████████████████████████████████▏    | 937/1000 [11:10:09<43:30, 41.44s/it]"
     ]
    },
    {
     "name": "stdout",
     "output_type": "stream",
     "text": [
      "\t ----- reward: -32.70888849426915 for f_star and f_minus: 24.64021276033415 , 32.70888849426915\n",
      "\t ---------- State is:  (0, 8)\n",
      "[INFO] [2023-03-01 10:41:04,824] [OpenBox-SPO] Iteration 938, objective value: [47.932724357786036].\n"
     ]
    },
    {
     "name": "stderr",
     "output_type": "stream",
     "text": [
      "\r",
      " 94%|███████████████████████████████████████████████████████████████████████▎    | 938/1000 [11:10:53<43:31, 42.11s/it]"
     ]
    },
    {
     "name": "stdout",
     "output_type": "stream",
     "text": [
      "\t ----- reward: -47.932724357786036 for f_star and f_minus: 24.64021276033415 , 47.932724357786036\n",
      "\t ---------- State is:  (0, 8)\n",
      "[INFO] [2023-03-01 10:41:44,992] [OpenBox-SPO] Iteration 939, objective value: [39.21370291956541].\n"
     ]
    },
    {
     "name": "stderr",
     "output_type": "stream",
     "text": [
      "\r",
      " 94%|███████████████████████████████████████████████████████████████████████▎    | 939/1000 [11:11:33<42:13, 41.53s/it]"
     ]
    },
    {
     "name": "stdout",
     "output_type": "stream",
     "text": [
      "\t ----- reward: -39.21370291956541 for f_star and f_minus: 24.64021276033415 , 39.21370291956541\n",
      "\t ---------- State is:  (0, 8)\n",
      "[INFO] [2023-03-01 10:42:33,265] [OpenBox-SPO] Iteration 940, objective value: [28.219926284328096].\n"
     ]
    },
    {
     "name": "stderr",
     "output_type": "stream",
     "text": [
      "\r",
      " 94%|███████████████████████████████████████████████████████████████████████▍    | 940/1000 [11:12:21<43:33, 43.55s/it]"
     ]
    },
    {
     "name": "stdout",
     "output_type": "stream",
     "text": [
      "\t ----- reward: -28.219926284328096 for f_star and f_minus: 24.64021276033415 , 28.219926284328096\n",
      "\t ---------- State is:  (1, 8)\n",
      "[INFO] [2023-03-01 10:43:13,224] [OpenBox-SPO] Iteration 941, objective value: [40.38571577811598].\n"
     ]
    },
    {
     "name": "stderr",
     "output_type": "stream",
     "text": [
      "\r",
      " 94%|███████████████████████████████████████████████████████████████████████▌    | 941/1000 [11:13:01<41:46, 42.47s/it]"
     ]
    },
    {
     "name": "stdout",
     "output_type": "stream",
     "text": [
      "\t ----- reward: -40.38571577811598 for f_star and f_minus: 24.64021276033415 , 40.38571577811598\n",
      "\t ---------- State is:  (2, 8)\n",
      "[INFO] [2023-03-01 10:43:52,748] [OpenBox-SPO] Iteration 942, objective value: [28.463217947244573].\n"
     ]
    },
    {
     "name": "stderr",
     "output_type": "stream",
     "text": [
      "\r",
      " 94%|███████████████████████████████████████████████████████████████████████▌    | 942/1000 [11:13:41<40:12, 41.59s/it]"
     ]
    },
    {
     "name": "stdout",
     "output_type": "stream",
     "text": [
      "\t ----- reward: -28.463217947244573 for f_star and f_minus: 24.64021276033415 , 28.463217947244573\n",
      "\t ---------- State is:  (2, 8)\n",
      "[INFO] [2023-03-01 10:43:52,748] [Advisor] Sample random config. rand_prob=0.100000.\n",
      "[INFO] [2023-03-01 10:44:23,275] [OpenBox-SPO] Iteration 943, objective value: [47.41723637888236].\n"
     ]
    },
    {
     "name": "stderr",
     "output_type": "stream",
     "text": [
      "\r",
      " 94%|███████████████████████████████████████████████████████████████████████▋    | 943/1000 [11:14:11<36:21, 38.27s/it]"
     ]
    },
    {
     "name": "stdout",
     "output_type": "stream",
     "text": [
      "\t ----- reward: -47.41723637888236 for f_star and f_minus: 24.64021276033415 , 47.41723637888236\n",
      "\t ---------- State is:  (2, 8)\n",
      "[INFO] [2023-03-01 10:45:00,846] [OpenBox-SPO] Iteration 944, objective value: [34.58045906228084].\n"
     ]
    },
    {
     "name": "stderr",
     "output_type": "stream",
     "text": [
      "\r",
      " 94%|███████████████████████████████████████████████████████████████████████▋    | 944/1000 [11:14:49<35:31, 38.06s/it]"
     ]
    },
    {
     "name": "stdout",
     "output_type": "stream",
     "text": [
      "\t ----- reward: -34.58045906228084 for f_star and f_minus: 24.64021276033415 , 34.58045906228084\n",
      "\t ---------- State is:  (3, 8)\n",
      "[INFO] [2023-03-01 10:45:46,151] [OpenBox-SPO] Iteration 945, objective value: [41.09168562784929].\n"
     ]
    },
    {
     "name": "stderr",
     "output_type": "stream",
     "text": [
      "\r",
      " 94%|███████████████████████████████████████████████████████████████████████▊    | 945/1000 [11:15:34<36:52, 40.23s/it]"
     ]
    },
    {
     "name": "stdout",
     "output_type": "stream",
     "text": [
      "\t ----- reward: -41.09168562784929 for f_star and f_minus: 24.64021276033415 , 41.09168562784929\n",
      "\t ---------- State is:  (3, 8)\n",
      "[INFO] [2023-03-01 10:46:26,548] [OpenBox-SPO] Iteration 946, objective value: [31.043123327415373].\n"
     ]
    },
    {
     "name": "stderr",
     "output_type": "stream",
     "text": [
      "\r",
      " 95%|███████████████████████████████████████████████████████████████████████▉    | 946/1000 [11:16:14<36:15, 40.28s/it]"
     ]
    },
    {
     "name": "stdout",
     "output_type": "stream",
     "text": [
      "\t ----- reward: -31.043123327415373 for f_star and f_minus: 24.64021276033415 , 31.043123327415373\n",
      "\t ---------- State is:  (2, 8)\n",
      "[INFO] [2023-03-01 10:47:09,468] [OpenBox-SPO] Iteration 947, objective value: [30.587480946698193].\n"
     ]
    },
    {
     "name": "stderr",
     "output_type": "stream",
     "text": [
      "\r",
      " 95%|███████████████████████████████████████████████████████████████████████▉    | 947/1000 [11:16:57<36:16, 41.07s/it]"
     ]
    },
    {
     "name": "stdout",
     "output_type": "stream",
     "text": [
      "\t ----- reward: -30.587480946698193 for f_star and f_minus: 24.64021276033415 , 30.587480946698193\n",
      "\t ---------- State is:  (3, 8)\n",
      "[INFO] [2023-03-01 10:47:09,468] [Advisor] Sample random config. rand_prob=0.100000.\n",
      "[INFO] [2023-03-01 10:47:37,536] [OpenBox-SPO] Iteration 948, objective value: [60.47456711871558].\n"
     ]
    },
    {
     "name": "stderr",
     "output_type": "stream",
     "text": [
      "\r",
      " 95%|████████████████████████████████████████████████████████████████████████    | 948/1000 [11:17:25<32:12, 37.17s/it]"
     ]
    },
    {
     "name": "stdout",
     "output_type": "stream",
     "text": [
      "\t ----- reward: -60.47456711871558 for f_star and f_minus: 24.64021276033415 , 60.47456711871558\n",
      "\t ---------- State is:  (4, 9)\n",
      "[INFO] [2023-03-01 10:48:17,651] [OpenBox-SPO] Iteration 949, objective value: [47.962788927975474].\n"
     ]
    },
    {
     "name": "stderr",
     "output_type": "stream",
     "text": [
      "\r",
      " 95%|████████████████████████████████████████████████████████████████████████    | 949/1000 [11:18:05<32:20, 38.06s/it]"
     ]
    },
    {
     "name": "stdout",
     "output_type": "stream",
     "text": [
      "\t ----- reward: -47.962788927975474 for f_star and f_minus: 24.64021276033415 , 47.962788927975474\n",
      "\t ---------- State is:  (5, 10)\n",
      "[INFO] [2023-03-01 10:48:59,832] [OpenBox-SPO] Iteration 950, objective value: [36.4384795536819].\n"
     ]
    },
    {
     "name": "stderr",
     "output_type": "stream",
     "text": [
      "\r",
      " 95%|████████████████████████████████████████████████████████████████████████▏   | 950/1000 [11:18:48<32:44, 39.29s/it]"
     ]
    },
    {
     "name": "stdout",
     "output_type": "stream",
     "text": [
      "\t ----- reward: -36.4384795536819 for f_star and f_minus: 24.64021276033415 , 36.4384795536819\n",
      "\t ---------- State is:  (6, 10)\n",
      "[INFO] [2023-03-01 10:49:34,635] [OpenBox-SPO] Iteration 951, objective value: [37.60884942854001].\n"
     ]
    },
    {
     "name": "stderr",
     "output_type": "stream",
     "text": [
      "\r",
      " 95%|████████████████████████████████████████████████████████████████████████▎   | 951/1000 [11:19:22<30:59, 37.95s/it]"
     ]
    },
    {
     "name": "stdout",
     "output_type": "stream",
     "text": [
      "\t ----- reward: -37.60884942854001 for f_star and f_minus: 24.64021276033415 , 37.60884942854001\n",
      "\t ---------- State is:  (7, 11)\n",
      "[INFO] [2023-03-01 10:50:16,447] [OpenBox-SPO] Iteration 952, objective value: [30.340814570929652].\n"
     ]
    },
    {
     "name": "stderr",
     "output_type": "stream",
     "text": [
      "\r",
      " 95%|████████████████████████████████████████████████████████████████████████▎   | 952/1000 [11:20:04<31:17, 39.11s/it]"
     ]
    },
    {
     "name": "stdout",
     "output_type": "stream",
     "text": [
      "\t ----- reward: -30.340814570929652 for f_star and f_minus: 24.64021276033415 , 30.340814570929652\n",
      "\t ---------- State is:  (8, 11)\n",
      "[INFO] [2023-03-01 10:50:57,658] [OpenBox-SPO] Iteration 953, objective value: [35.325605059552416].\n"
     ]
    },
    {
     "name": "stderr",
     "output_type": "stream",
     "text": [
      "\r",
      " 95%|████████████████████████████████████████████████████████████████████████▍   | 953/1000 [11:20:45<31:07, 39.74s/it]"
     ]
    },
    {
     "name": "stdout",
     "output_type": "stream",
     "text": [
      "\t ----- reward: -35.325605059552416 for f_star and f_minus: 24.64021276033415 , 35.325605059552416\n",
      "\t ---------- State is:  (9, 11)\n",
      "[INFO] [2023-03-01 10:51:38,508] [OpenBox-SPO] Iteration 954, objective value: [28.407658014376153].\n"
     ]
    },
    {
     "name": "stderr",
     "output_type": "stream",
     "text": [
      "\r",
      " 95%|████████████████████████████████████████████████████████████████████████▌   | 954/1000 [11:21:26<30:43, 40.07s/it]"
     ]
    },
    {
     "name": "stdout",
     "output_type": "stream",
     "text": [
      "\t ----- reward: -28.407658014376153 for f_star and f_minus: 24.64021276033415 , 28.407658014376153\n",
      "\t ---------- State is:  (10, 11)\n",
      "[INFO] [2023-03-01 10:52:17,749] [OpenBox-SPO] Iteration 955, objective value: [25.86613897887821].\n"
     ]
    },
    {
     "name": "stderr",
     "output_type": "stream",
     "text": [
      "\r",
      " 96%|████████████████████████████████████████████████████████████████████████▌   | 955/1000 [11:22:06<29:51, 39.82s/it]"
     ]
    },
    {
     "name": "stdout",
     "output_type": "stream",
     "text": [
      "\t ----- reward: -25.86613897887821 for f_star and f_minus: 24.64021276033415 , 25.86613897887821\n",
      "\t ---------- State is:  (9, 10)\n",
      "[INFO] [2023-03-01 10:52:56,804] [OpenBox-SPO] Iteration 956, objective value: [25.638662742263236].\n"
     ]
    },
    {
     "name": "stderr",
     "output_type": "stream",
     "text": [
      "\r",
      " 96%|████████████████████████████████████████████████████████████████████████▋   | 956/1000 [11:22:45<29:02, 39.59s/it]"
     ]
    },
    {
     "name": "stdout",
     "output_type": "stream",
     "text": [
      "\t ----- reward: -25.638662742263236 for f_star and f_minus: 24.64021276033415 , 25.638662742263236\n",
      "\t ---------- State is:  (8, 10)\n",
      "[INFO] [2023-03-01 10:53:35,305] [OpenBox-SPO] Iteration 957, objective value: [27.136453676596815].\n"
     ]
    },
    {
     "name": "stderr",
     "output_type": "stream",
     "text": [
      "\r",
      " 96%|████████████████████████████████████████████████████████████████████████▋   | 957/1000 [11:23:23<28:08, 39.26s/it]"
     ]
    },
    {
     "name": "stdout",
     "output_type": "stream",
     "text": [
      "\t ----- reward: -27.136453676596815 for f_star and f_minus: 24.64021276033415 , 27.136453676596815\n",
      "\t ---------- State is:  (7, 10)\n",
      "[INFO] [2023-03-01 10:54:21,380] [OpenBox-SPO] Iteration 958, objective value: [40.390775330301906].\n"
     ]
    },
    {
     "name": "stderr",
     "output_type": "stream",
     "text": [
      "\r",
      " 96%|████████████████████████████████████████████████████████████████████████▊   | 958/1000 [11:24:09<28:54, 41.31s/it]"
     ]
    },
    {
     "name": "stdout",
     "output_type": "stream",
     "text": [
      "\t ----- reward: -40.390775330301906 for f_star and f_minus: 24.64021276033415 , 40.390775330301906\n",
      "\t ---------- State is:  (7, 10)\n",
      "[INFO] [2023-03-01 10:55:08,874] [OpenBox-SPO] Iteration 959, objective value: [39.92091366224846].\n"
     ]
    },
    {
     "name": "stderr",
     "output_type": "stream",
     "text": [
      "\r",
      " 96%|████████████████████████████████████████████████████████████████████████▉   | 959/1000 [11:24:57<29:29, 43.16s/it]"
     ]
    },
    {
     "name": "stdout",
     "output_type": "stream",
     "text": [
      "\t ----- reward: -39.92091366224846 for f_star and f_minus: 24.64021276033415 , 39.92091366224846\n",
      "\t ---------- State is:  (8, 10)\n",
      "[INFO] [2023-03-01 10:55:49,288] [OpenBox-SPO] Iteration 960, objective value: [33.12848590751216].\n"
     ]
    },
    {
     "name": "stderr",
     "output_type": "stream",
     "text": [
      "\r",
      " 96%|████████████████████████████████████████████████████████████████████████▉   | 960/1000 [11:25:37<28:13, 42.34s/it]"
     ]
    },
    {
     "name": "stdout",
     "output_type": "stream",
     "text": [
      "\t ----- reward: -33.12848590751216 for f_star and f_minus: 24.64021276033415 , 33.12848590751216\n",
      "\t ---------- State is:  (7, 10)\n",
      "[INFO] [2023-03-01 10:56:28,123] [OpenBox-SPO] Iteration 961, objective value: [31.663760749010706].\n"
     ]
    },
    {
     "name": "stderr",
     "output_type": "stream",
     "text": [
      "\r",
      " 96%|█████████████████████████████████████████████████████████████████████████   | 961/1000 [11:26:16<26:50, 41.29s/it]"
     ]
    },
    {
     "name": "stdout",
     "output_type": "stream",
     "text": [
      "\t ----- reward: -31.663760749010706 for f_star and f_minus: 24.64021276033415 , 31.663760749010706\n",
      "\t ---------- State is:  (6, 9)\n",
      "[INFO] [2023-03-01 10:57:08,052] [OpenBox-SPO] Iteration 962, objective value: [28.111755859948488].\n"
     ]
    },
    {
     "name": "stderr",
     "output_type": "stream",
     "text": [
      "\r",
      " 96%|█████████████████████████████████████████████████████████████████████████   | 962/1000 [11:26:56<25:53, 40.88s/it]"
     ]
    },
    {
     "name": "stdout",
     "output_type": "stream",
     "text": [
      "\t ----- reward: -28.111755859948488 for f_star and f_minus: 24.64021276033415 , 28.111755859948488\n",
      "\t ---------- State is:  (7, 9)\n",
      "[INFO] [2023-03-01 10:57:51,547] [OpenBox-SPO] Iteration 963, objective value: [41.38918932189404].\n"
     ]
    },
    {
     "name": "stderr",
     "output_type": "stream",
     "text": [
      "\r",
      " 96%|█████████████████████████████████████████████████████████████████████████▏  | 963/1000 [11:27:39<25:41, 41.66s/it]"
     ]
    },
    {
     "name": "stdout",
     "output_type": "stream",
     "text": [
      "\t ----- reward: -41.38918932189404 for f_star and f_minus: 24.64021276033415 , 41.38918932189404\n",
      "\t ---------- State is:  (6, 9)\n",
      "[INFO] [2023-03-01 10:58:35,289] [OpenBox-SPO] Iteration 964, objective value: [32.09403117218611].\n"
     ]
    },
    {
     "name": "stderr",
     "output_type": "stream",
     "text": [
      "\r",
      " 96%|█████████████████████████████████████████████████████████████████████████▎  | 964/1000 [11:28:23<25:22, 42.29s/it]"
     ]
    },
    {
     "name": "stdout",
     "output_type": "stream",
     "text": [
      "\t ----- reward: -32.09403117218611 for f_star and f_minus: 24.64021276033415 , 32.09403117218611\n",
      "\t ---------- State is:  (6, 7)\n",
      "[INFO] [2023-03-01 10:59:16,273] [OpenBox-SPO] Iteration 965, objective value: [28.874759558705918].\n"
     ]
    },
    {
     "name": "stderr",
     "output_type": "stream",
     "text": [
      "\r",
      " 96%|█████████████████████████████████████████████████████████████████████████▎  | 965/1000 [11:29:04<24:26, 41.90s/it]"
     ]
    },
    {
     "name": "stdout",
     "output_type": "stream",
     "text": [
      "\t ----- reward: -28.874759558705918 for f_star and f_minus: 24.64021276033415 , 28.874759558705918\n",
      "\t ---------- State is:  (5, 7)\n",
      "[INFO] [2023-03-01 10:59:57,690] [OpenBox-SPO] Iteration 966, objective value: [35.183558822429646].\n"
     ]
    },
    {
     "name": "stderr",
     "output_type": "stream",
     "text": [
      "\r",
      " 97%|█████████████████████████████████████████████████████████████████████████▍  | 966/1000 [11:29:45<23:39, 41.75s/it]"
     ]
    },
    {
     "name": "stdout",
     "output_type": "stream",
     "text": [
      "\t ----- reward: -35.183558822429646 for f_star and f_minus: 24.64021276033415 , 35.183558822429646\n",
      "\t ---------- State is:  (4, 7)\n",
      "[INFO] [2023-03-01 11:00:38,317] [OpenBox-SPO] Iteration 967, objective value: [32.152319753998725].\n"
     ]
    },
    {
     "name": "stderr",
     "output_type": "stream",
     "text": [
      "\r",
      " 97%|█████████████████████████████████████████████████████████████████████████▍  | 967/1000 [11:30:26<22:46, 41.41s/it]"
     ]
    },
    {
     "name": "stdout",
     "output_type": "stream",
     "text": [
      "\t ----- reward: -32.152319753998725 for f_star and f_minus: 24.64021276033415 , 32.152319753998725\n",
      "\t ---------- State is:  (4, 8)\n",
      "[INFO] [2023-03-01 11:01:24,596] [OpenBox-SPO] Iteration 968, objective value: [36.92981764977035].\n"
     ]
    },
    {
     "name": "stderr",
     "output_type": "stream",
     "text": [
      "\r",
      " 97%|█████████████████████████████████████████████████████████████████████████▌  | 968/1000 [11:31:12<22:51, 42.87s/it]"
     ]
    },
    {
     "name": "stdout",
     "output_type": "stream",
     "text": [
      "\t ----- reward: -36.92981764977035 for f_star and f_minus: 24.64021276033415 , 36.92981764977035\n",
      "\t ---------- State is:  (3, 8)\n",
      "[INFO] [2023-03-01 11:02:08,890] [OpenBox-SPO] Iteration 969, objective value: [34.382384643109944].\n"
     ]
    },
    {
     "name": "stderr",
     "output_type": "stream",
     "text": [
      "\r",
      " 97%|█████████████████████████████████████████████████████████████████████████▋  | 969/1000 [11:31:57<22:22, 43.30s/it]"
     ]
    },
    {
     "name": "stdout",
     "output_type": "stream",
     "text": [
      "\t ----- reward: -34.382384643109944 for f_star and f_minus: 24.64021276033415 , 34.382384643109944\n",
      "\t ---------- State is:  (2, 8)\n",
      "[INFO] [2023-03-01 11:02:52,473] [OpenBox-SPO] Iteration 970, objective value: [33.110490251528674].\n"
     ]
    },
    {
     "name": "stderr",
     "output_type": "stream",
     "text": [
      "\r",
      " 97%|█████████████████████████████████████████████████████████████████████████▋  | 970/1000 [11:32:40<21:41, 43.38s/it]"
     ]
    },
    {
     "name": "stdout",
     "output_type": "stream",
     "text": [
      "\t ----- reward: -33.110490251528674 for f_star and f_minus: 24.64021276033415 , 33.110490251528674\n",
      "\t ---------- State is:  (3, 7)\n",
      "[INFO] [2023-03-01 11:03:32,540] [OpenBox-SPO] Iteration 971, objective value: [28.81754914829979].\n"
     ]
    },
    {
     "name": "stderr",
     "output_type": "stream",
     "text": [
      "\r",
      " 97%|█████████████████████████████████████████████████████████████████████████▊  | 971/1000 [11:33:20<20:29, 42.39s/it]"
     ]
    },
    {
     "name": "stdout",
     "output_type": "stream",
     "text": [
      "\t ----- reward: -28.81754914829979 for f_star and f_minus: 24.64021276033415 , 28.81754914829979\n",
      "\t ---------- State is:  (3, 7)\n",
      "[INFO] [2023-03-01 11:04:14,002] [OpenBox-SPO] Iteration 972, objective value: [30.564140004091314].\n"
     ]
    },
    {
     "name": "stderr",
     "output_type": "stream",
     "text": [
      "\r",
      " 97%|█████████████████████████████████████████████████████████████████████████▊  | 972/1000 [11:34:02<19:39, 42.11s/it]"
     ]
    },
    {
     "name": "stdout",
     "output_type": "stream",
     "text": [
      "\t ----- reward: -30.564140004091314 for f_star and f_minus: 24.64021276033415 , 30.564140004091314\n",
      "\t ---------- State is:  (2, 7)\n",
      "[INFO] [2023-03-01 11:04:55,509] [OpenBox-SPO] Iteration 973, objective value: [27.197213825830048].\n"
     ]
    },
    {
     "name": "stderr",
     "output_type": "stream",
     "text": [
      "\r",
      " 97%|█████████████████████████████████████████████████████████████████████████▉  | 973/1000 [11:34:43<18:52, 41.93s/it]"
     ]
    },
    {
     "name": "stdout",
     "output_type": "stream",
     "text": [
      "\t ----- reward: -27.197213825830048 for f_star and f_minus: 24.64021276033415 , 27.197213825830048\n",
      "\t ---------- State is:  (3, 7)\n",
      "[INFO] [2023-03-01 11:05:39,643] [OpenBox-SPO] Iteration 974, objective value: [45.94966080301042].\n"
     ]
    },
    {
     "name": "stderr",
     "output_type": "stream",
     "text": [
      "\r",
      " 97%|██████████████████████████████████████████████████████████████████████████  | 974/1000 [11:35:27<18:27, 42.59s/it]"
     ]
    },
    {
     "name": "stdout",
     "output_type": "stream",
     "text": [
      "\t ----- reward: -45.94966080301042 for f_star and f_minus: 24.64021276033415 , 45.94966080301042\n",
      "\t ---------- State is:  (4, 7)\n",
      "[INFO] [2023-03-01 11:05:39,643] [Advisor] Sample random config. rand_prob=0.100000.\n",
      "[INFO] [2023-03-01 11:06:17,695] [OpenBox-SPO] Iteration 975, objective value: [54.81321939594762].\n"
     ]
    },
    {
     "name": "stderr",
     "output_type": "stream",
     "text": [
      "\r",
      " 98%|██████████████████████████████████████████████████████████████████████████  | 975/1000 [11:36:05<17:10, 41.23s/it]"
     ]
    },
    {
     "name": "stdout",
     "output_type": "stream",
     "text": [
      "\t ----- reward: -54.81321939594762 for f_star and f_minus: 24.64021276033415 , 54.81321939594762\n",
      "\t ---------- State is:  (4, 7)\n",
      "[INFO] [2023-03-01 11:06:58,217] [OpenBox-SPO] Iteration 976, objective value: [35.556789859307855].\n"
     ]
    },
    {
     "name": "stderr",
     "output_type": "stream",
     "text": [
      "\r",
      " 98%|██████████████████████████████████████████████████████████████████████████▏ | 976/1000 [11:36:46<16:24, 41.02s/it]"
     ]
    },
    {
     "name": "stdout",
     "output_type": "stream",
     "text": [
      "\t ----- reward: -35.556789859307855 for f_star and f_minus: 24.64021276033415 , 35.556789859307855\n",
      "\t ---------- State is:  (5, 8)\n",
      "[INFO] [2023-03-01 11:07:40,833] [OpenBox-SPO] Iteration 977, objective value: [35.71367811312969].\n"
     ]
    },
    {
     "name": "stderr",
     "output_type": "stream",
     "text": [
      "\r",
      " 98%|██████████████████████████████████████████████████████████████████████████▎ | 977/1000 [11:37:29<15:54, 41.50s/it]"
     ]
    },
    {
     "name": "stdout",
     "output_type": "stream",
     "text": [
      "\t ----- reward: -35.71367811312969 for f_star and f_minus: 24.64021276033415 , 35.71367811312969\n",
      "\t ---------- State is:  (5, 9)\n",
      "[INFO] [2023-03-01 11:08:26,692] [OpenBox-SPO] Iteration 978, objective value: [34.71524294687967].\n"
     ]
    },
    {
     "name": "stderr",
     "output_type": "stream",
     "text": [
      "\r",
      " 98%|██████████████████████████████████████████████████████████████████████████▎ | 978/1000 [11:38:14<15:41, 42.80s/it]"
     ]
    },
    {
     "name": "stdout",
     "output_type": "stream",
     "text": [
      "\t ----- reward: -34.71524294687967 for f_star and f_minus: 24.64021276033415 , 34.71524294687967\n",
      "\t ---------- State is:  (5, 9)\n",
      "[INFO] [2023-03-01 11:09:13,840] [OpenBox-SPO] Iteration 979, objective value: [33.164823623379945].\n"
     ]
    },
    {
     "name": "stderr",
     "output_type": "stream",
     "text": [
      "\r",
      " 98%|██████████████████████████████████████████████████████████████████████████▍ | 979/1000 [11:39:02<15:26, 44.11s/it]"
     ]
    },
    {
     "name": "stdout",
     "output_type": "stream",
     "text": [
      "\t ----- reward: -33.164823623379945 for f_star and f_minus: 24.64021276033415 , 33.164823623379945\n",
      "\t ---------- State is:  (4, 8)\n",
      "[INFO] [2023-03-01 11:09:54,437] [OpenBox-SPO] Iteration 980, objective value: [30.56737615871674].\n"
     ]
    },
    {
     "name": "stderr",
     "output_type": "stream",
     "text": [
      "\r",
      " 98%|██████████████████████████████████████████████████████████████████████████▍ | 980/1000 [11:39:42<14:21, 43.05s/it]"
     ]
    },
    {
     "name": "stdout",
     "output_type": "stream",
     "text": [
      "\t ----- reward: -30.56737615871674 for f_star and f_minus: 24.64021276033415 , 30.56737615871674\n",
      "\t ---------- State is:  (5, 8)\n",
      "[INFO] [2023-03-01 11:10:32,476] [OpenBox-SPO] Iteration 981, objective value: [34.27614318236702].\n"
     ]
    },
    {
     "name": "stderr",
     "output_type": "stream",
     "text": [
      "\r",
      " 98%|██████████████████████████████████████████████████████████████████████████▌ | 981/1000 [11:40:20<13:09, 41.55s/it]"
     ]
    },
    {
     "name": "stdout",
     "output_type": "stream",
     "text": [
      "\t ----- reward: -34.27614318236702 for f_star and f_minus: 24.64021276033415 , 34.27614318236702\n",
      "\t ---------- State is:  (4, 9)\n",
      "[INFO] [2023-03-01 11:11:13,297] [OpenBox-SPO] Iteration 982, objective value: [33.479560644128696].\n"
     ]
    },
    {
     "name": "stderr",
     "output_type": "stream",
     "text": [
      "\r",
      " 98%|██████████████████████████████████████████████████████████████████████████▋ | 982/1000 [11:41:01<12:23, 41.33s/it]"
     ]
    },
    {
     "name": "stdout",
     "output_type": "stream",
     "text": [
      "\t ----- reward: -33.479560644128696 for f_star and f_minus: 24.64021276033415 , 33.479560644128696\n",
      "\t ---------- State is:  (4, 9)\n",
      "[INFO] [2023-03-01 11:11:53,275] [OpenBox-SPO] Iteration 983, objective value: [31.00290255675867].\n"
     ]
    },
    {
     "name": "stderr",
     "output_type": "stream",
     "text": [
      "\r",
      " 98%|██████████████████████████████████████████████████████████████████████████▋ | 983/1000 [11:41:41<11:35, 40.93s/it]"
     ]
    },
    {
     "name": "stdout",
     "output_type": "stream",
     "text": [
      "\t ----- reward: -31.00290255675867 for f_star and f_minus: 24.64021276033415 , 31.00290255675867\n",
      "\t ---------- State is:  (3, 8)\n",
      "[INFO] [2023-03-01 11:12:32,045] [OpenBox-SPO] Iteration 984, objective value: [29.691935574996847].\n"
     ]
    },
    {
     "name": "stderr",
     "output_type": "stream",
     "text": [
      "\r",
      " 98%|██████████████████████████████████████████████████████████████████████████▊ | 984/1000 [11:42:20<10:44, 40.28s/it]"
     ]
    },
    {
     "name": "stdout",
     "output_type": "stream",
     "text": [
      "\t ----- reward: -29.691935574996847 for f_star and f_minus: 24.64021276033415 , 29.691935574996847\n",
      "\t ---------- State is:  (3, 8)\n",
      "[INFO] [2023-03-01 11:13:09,800] [OpenBox-SPO] Iteration 985, objective value: [44.85208119725323].\n"
     ]
    },
    {
     "name": "stderr",
     "output_type": "stream",
     "text": [
      "\r",
      " 98%|██████████████████████████████████████████████████████████████████████████▊ | 985/1000 [11:42:58<09:52, 39.52s/it]"
     ]
    },
    {
     "name": "stdout",
     "output_type": "stream",
     "text": [
      "\t ----- reward: -44.85208119725323 for f_star and f_minus: 24.64021276033415 , 44.85208119725323\n",
      "\t ---------- State is:  (3, 9)\n",
      "[INFO] [2023-03-01 11:13:51,309] [OpenBox-SPO] Iteration 986, objective value: [30.153381345976243].\n"
     ]
    },
    {
     "name": "stderr",
     "output_type": "stream",
     "text": [
      "\r",
      " 99%|██████████████████████████████████████████████████████████████████████████▉ | 986/1000 [11:43:39<09:21, 40.12s/it]"
     ]
    },
    {
     "name": "stdout",
     "output_type": "stream",
     "text": [
      "\t ----- reward: -30.153381345976243 for f_star and f_minus: 24.64021276033415 , 30.153381345976243\n",
      "\t ---------- State is:  (4, 8)\n",
      "[INFO] [2023-03-01 11:14:29,705] [OpenBox-SPO] Iteration 987, objective value: [39.845370441980364].\n"
     ]
    },
    {
     "name": "stderr",
     "output_type": "stream",
     "text": [
      "\r",
      " 99%|███████████████████████████████████████████████████████████████████████████ | 987/1000 [11:44:17<08:34, 39.60s/it]"
     ]
    },
    {
     "name": "stdout",
     "output_type": "stream",
     "text": [
      "\t ----- reward: -39.845370441980364 for f_star and f_minus: 24.64021276033415 , 39.845370441980364\n",
      "\t ---------- State is:  (3, 9)\n",
      "[INFO] [2023-03-01 11:15:16,275] [OpenBox-SPO] Iteration 988, objective value: [45.98467625888587].\n"
     ]
    },
    {
     "name": "stderr",
     "output_type": "stream",
     "text": [
      "\r",
      " 99%|███████████████████████████████████████████████████████████████████████████ | 988/1000 [11:45:04<08:20, 41.70s/it]"
     ]
    },
    {
     "name": "stdout",
     "output_type": "stream",
     "text": [
      "\t ----- reward: -45.98467625888587 for f_star and f_minus: 24.64021276033415 , 45.98467625888587\n",
      "\t ---------- State is:  (3, 9)\n",
      "[INFO] [2023-03-01 11:16:01,567] [OpenBox-SPO] Iteration 989, objective value: [35.58711742768949].\n"
     ]
    },
    {
     "name": "stderr",
     "output_type": "stream",
     "text": [
      "\r",
      " 99%|███████████████████████████████████████████████████████████████████████████▏| 989/1000 [11:45:49<07:50, 42.77s/it]"
     ]
    },
    {
     "name": "stdout",
     "output_type": "stream",
     "text": [
      "\t ----- reward: -35.58711742768949 for f_star and f_minus: 24.64021276033415 , 35.58711742768949\n",
      "\t ---------- State is:  (2, 9)\n",
      "[INFO] [2023-03-01 11:16:39,339] [OpenBox-SPO] Iteration 990, objective value: [27.331782935558508].\n"
     ]
    },
    {
     "name": "stderr",
     "output_type": "stream",
     "text": [
      "\r",
      " 99%|███████████████████████████████████████████████████████████████████████████▏| 990/1000 [11:46:27<06:52, 41.27s/it]"
     ]
    },
    {
     "name": "stdout",
     "output_type": "stream",
     "text": [
      "\t ----- reward: -27.331782935558508 for f_star and f_minus: 24.64021276033415 , 27.331782935558508\n",
      "\t ---------- State is:  (1, 9)\n",
      "[INFO] [2023-03-01 11:17:18,996] [OpenBox-SPO] Iteration 991, objective value: [37.73519441674203].\n"
     ]
    },
    {
     "name": "stderr",
     "output_type": "stream",
     "text": [
      "\r",
      " 99%|███████████████████████████████████████████████████████████████████████████▎| 991/1000 [11:47:07<06:07, 40.79s/it]"
     ]
    },
    {
     "name": "stdout",
     "output_type": "stream",
     "text": [
      "\t ----- reward: -37.73519441674203 for f_star and f_minus: 24.64021276033415 , 37.73519441674203\n",
      "\t ---------- State is:  (2, 9)\n",
      "[INFO] [2023-03-01 11:17:58,958] [OpenBox-SPO] Iteration 992, objective value: [26.062719172111855].\n"
     ]
    },
    {
     "name": "stderr",
     "output_type": "stream",
     "text": [
      "\r",
      " 99%|███████████████████████████████████████████████████████████████████████████▍| 992/1000 [11:47:47<05:24, 40.54s/it]"
     ]
    },
    {
     "name": "stdout",
     "output_type": "stream",
     "text": [
      "\t ----- reward: -26.062719172111855 for f_star and f_minus: 24.64021276033415 , 26.062719172111855\n",
      "\t ---------- State is:  (1, 9)\n",
      "[INFO] [2023-03-01 11:18:43,357] [OpenBox-SPO] Iteration 993, objective value: [26.158870931132967].\n"
     ]
    },
    {
     "name": "stderr",
     "output_type": "stream",
     "text": [
      "\r",
      " 99%|███████████████████████████████████████████████████████████████████████████▍| 993/1000 [11:48:31<04:51, 41.70s/it]"
     ]
    },
    {
     "name": "stdout",
     "output_type": "stream",
     "text": [
      "\t ----- reward: -26.158870931132967 for f_star and f_minus: 24.64021276033415 , 26.158870931132967\n",
      "\t ---------- State is:  (0, 9)\n",
      "[INFO] [2023-03-01 11:19:25,704] [OpenBox-SPO] Iteration 994, objective value: [29.284805056195992].\n"
     ]
    },
    {
     "name": "stderr",
     "output_type": "stream",
     "text": [
      "\r",
      " 99%|███████████████████████████████████████████████████████████████████████████▌| 994/1000 [11:49:13<04:11, 41.89s/it]"
     ]
    },
    {
     "name": "stdout",
     "output_type": "stream",
     "text": [
      "\t ----- reward: -29.284805056195992 for f_star and f_minus: 24.64021276033415 , 29.284805056195992\n",
      "\t ---------- State is:  (0, 9)\n",
      "[INFO] [2023-03-01 11:20:09,179] [OpenBox-SPO] Iteration 995, objective value: [32.65019052630376].\n"
     ]
    },
    {
     "name": "stderr",
     "output_type": "stream",
     "text": [
      "\r",
      "100%|███████████████████████████████████████████████████████████████████████████▌| 995/1000 [11:49:57<03:31, 42.37s/it]"
     ]
    },
    {
     "name": "stdout",
     "output_type": "stream",
     "text": [
      "\t ----- reward: -32.65019052630376 for f_star and f_minus: 24.64021276033415 , 32.65019052630376\n",
      "\t ---------- State is:  (1, 8)\n",
      "[INFO] [2023-03-01 11:20:44,649] [OpenBox-SPO] Iteration 996, objective value: [34.976120380099545].\n"
     ]
    },
    {
     "name": "stderr",
     "output_type": "stream",
     "text": [
      "\r",
      "100%|███████████████████████████████████████████████████████████████████████████▋| 996/1000 [11:50:32<02:41, 40.30s/it]"
     ]
    },
    {
     "name": "stdout",
     "output_type": "stream",
     "text": [
      "\t ----- reward: -34.976120380099545 for f_star and f_minus: 24.64021276033415 , 34.976120380099545\n",
      "\t ---------- State is:  (0, 8)\n",
      "[INFO] [2023-03-01 11:21:28,862] [OpenBox-SPO] Iteration 997, objective value: [29.970317829653396].\n"
     ]
    },
    {
     "name": "stderr",
     "output_type": "stream",
     "text": [
      "\r",
      "100%|███████████████████████████████████████████████████████████████████████████▊| 997/1000 [11:51:17<02:04, 41.47s/it]"
     ]
    },
    {
     "name": "stdout",
     "output_type": "stream",
     "text": [
      "\t ----- reward: -29.970317829653396 for f_star and f_minus: 24.64021276033415 , 29.970317829653396\n",
      "\t ---------- State is:  (1, 8)\n",
      "[INFO] [2023-03-01 11:22:10,007] [OpenBox-SPO] Iteration 998, objective value: [30.50534386464456].\n"
     ]
    },
    {
     "name": "stderr",
     "output_type": "stream",
     "text": [
      "\r",
      "100%|███████████████████████████████████████████████████████████████████████████▊| 998/1000 [11:51:58<01:22, 41.37s/it]"
     ]
    },
    {
     "name": "stdout",
     "output_type": "stream",
     "text": [
      "\t ----- reward: -30.50534386464456 for f_star and f_minus: 24.64021276033415 , 30.50534386464456\n",
      "\t ---------- State is:  (0, 7)\n",
      "[INFO] [2023-03-01 11:22:54,642] [OpenBox-SPO] Iteration 999, objective value: [52.52220180892547].\n"
     ]
    },
    {
     "name": "stderr",
     "output_type": "stream",
     "text": [
      "\r",
      "100%|███████████████████████████████████████████████████████████████████████████▉| 999/1000 [11:52:42<00:42, 42.35s/it]"
     ]
    },
    {
     "name": "stdout",
     "output_type": "stream",
     "text": [
      "\t ----- reward: -52.52220180892547 for f_star and f_minus: 24.64021276033415 , 52.52220180892547\n",
      "\t ---------- State is:  (0, 7)\n",
      "[INFO] [2023-03-01 11:23:42,101] [OpenBox-SPO] Iteration 1000, objective value: [38.85370019247295].\n"
     ]
    },
    {
     "name": "stderr",
     "output_type": "stream",
     "text": [
      "100%|███████████████████████████████████████████████████████████████████████████| 1000/1000 [11:53:30<00:00, 42.81s/it]"
     ]
    },
    {
     "name": "stdout",
     "output_type": "stream",
     "text": [
      "\t ----- reward: -38.85370019247295 for f_star and f_minus: 24.64021276033415 , 38.85370019247295\n",
      "\t ---------- State is:  (0, 8)\n",
      "+---------------------------------------------+\n",
      "| Parameters              | Optimal Value     |\n",
      "+-------------------------+-------------------+\n",
      "| ls1                     | [1, 6]            |\n",
      "| ls2                     | [6, 4]            |\n",
      "| ls3                     | [7, 5]            |\n",
      "| ls4                     | [3, 2]            |\n",
      "| ls5                     | [7, 7]            |\n",
      "| ls6                     | [1, 7]            |\n",
      "| ls7                     | [5, 7]            |\n",
      "| ls8                     | [7, 4]            |\n",
      "| ls9                     | [7, 2]            |\n",
      "| ls_t1                   | 1                 |\n",
      "| ls_t2                   | 1                 |\n",
      "| ls_t3                   | 1                 |\n",
      "| ls_t4                   | 1                 |\n",
      "| ls_t5                   | 1                 |\n",
      "| ls_t6                   | 1                 |\n",
      "| ls_t7                   | 1                 |\n",
      "| ls_t8                   | 1                 |\n",
      "| ls_t9                   | 1                 |\n",
      "+-------------------------+-------------------+\n",
      "| Optimal Objective Value | 24.64021276033415 |\n",
      "+-------------------------+-------------------+\n",
      "| Num Configs             | 1000              |\n",
      "+-------------------------+-------------------+\n",
      "\n"
     ]
    },
    {
     "name": "stderr",
     "output_type": "stream",
     "text": [
      "\n"
     ]
    }
   ],
   "source": [
    "import SensorOptimizers.BayesianOptimization as bo\n",
    "import numpy as np\n",
    "import pickle\n",
    "import Config as cf\n",
    "\n",
    "maxSensorNum = int(np.min([(cf.space[2][0] / cf.epsilon) * (cf.space[2][1] / cf.epsilon), cf.LSsensorsNum]))\n",
    "\n",
    "print('----- Running BO with: \\n \\t - epsilon: ', cf.epsilon, \n",
    "      '\\n \\t - LS sensors #:', cf.LSsensorsNum, \n",
    "      '\\n \\t - IS sensors #:', cf.ISsensorsNum, \n",
    "      ' \\n \\t - initial state: ', cf.initial_state)\n",
    "\n",
    "for i in range(0, 1):\n",
    "    BO = bo.BayesianOptimization(testbed = cf.testbed,\n",
    "                                 iteration = cf.bo_iteration, \n",
    "                                 epsilon = cf.epsilon, \n",
    "                                 error = cf.error,\n",
    "                                 ROS = True, \n",
    "                                 LSmaxSensorNum = maxSensorNum,\n",
    "                                 ISmaxSensorNum = cf.ISsensorsNum, \n",
    "                                 initial_state = cf.initial_state,\n",
    "                                 input_sensor_types = cf.sensor_types,\n",
    "                                 acquisition_function = cf.acquisition_function,\n",
    "                                 surrogate_model = cf.surrogate_model,\n",
    "                                 acq_optimizer_type = cf.acq_optimizer_type)\n",
    "\n",
    "    history, states, actions, rewards = BO.run(RLBO = cf.RLBO)\n",
    "\n",
    "    with open('Results_BO/history(LS' + str(cf.LSsensorsNum) +  'IS' + str(cf.ISsensorsNum) + ')_' + str(i), 'wb') as handle:\n",
    "        pickle.dump(history, handle, protocol=pickle.HIGHEST_PROTOCOL)\n",
    "            \n",
    "    print(history)"
   ]
  },
  {
   "cell_type": "code",
   "execution_count": 4,
   "metadata": {},
   "outputs": [
    {
     "data": {
      "text/plain": [
       "[<matplotlib.lines.Line2D at 0x1d6b15cdbb0>]"
      ]
     },
     "execution_count": 4,
     "metadata": {},
     "output_type": "execute_result"
    },
    {
     "data": {
      "image/png": "[encoded data removed]",
      "text/plain": [
       "<Figure size 432x288 with 1 Axes>"
      ]
     },
     "metadata": {
      "needs_background": "light"
     },
     "output_type": "display_data"
    }
   ],
   "source": [
    "import matplotlib.pylab as plt\n",
    "\n",
    "plt.plot(rewards)"
   ]
  },
  {
   "cell_type": "code",
   "execution_count": 5,
   "metadata": {},
   "outputs": [
    {
     "data": {
      "text/plain": [
       "<AxesSubplot:title={'center':'Convergence plot'}, xlabel='Number of iterations $n$', ylabel='Min objective value after $n$ iterations'>"
      ]
     },
     "execution_count": 5,
     "metadata": {},
     "output_type": "execute_result"
    },
    {
     "data": {
      "image/png": "[encoded data removed]",
      "text/plain": [
       "<Figure size 432x288 with 1 Axes>"
      ]
     },
     "metadata": {
      "needs_background": "light"
     },
     "output_type": "display_data"
    }
   ],
   "source": [
    "history.plot_convergence()"
   ]
  },
  {
   "cell_type": "code",
   "execution_count": 6,
   "metadata": {},
   "outputs": [
    {
     "data": {
      "text/plain": [
       "[<matplotlib.lines.Line2D at 0x1d6a996c850>]"
      ]
     },
     "execution_count": 6,
     "metadata": {},
     "output_type": "execute_result"
    },
    {
     "data": {
      "image/png": "[encoded data removed]",
      "text/plain": [
       "<Figure size 432x288 with 1 Axes>"
      ]
     },
     "metadata": {
      "needs_background": "light"
     },
     "output_type": "display_data"
    }
   ],
   "source": [
    "plt.plot([s[1] for s in states[10:len(states)]])"
   ]
  },
  {
   "cell_type": "code",
   "execution_count": 7,
   "metadata": {},
   "outputs": [
    {
     "data": {
      "text/plain": [
       "[<matplotlib.lines.Line2D at 0x1d6b0daa310>]"
      ]
     },
     "execution_count": 7,
     "metadata": {},
     "output_type": "execute_result"
    },
    {
     "data": {
      "image/png": "[encoded data removed]",
      "text/plain": [
       "<Figure size 432x288 with 1 Axes>"
      ]
     },
     "metadata": {
      "needs_background": "light"
     },
     "output_type": "display_data"
    }
   ],
   "source": [
    "plt.plot([s[0] for s in states])"
   ]
  },
  {
   "cell_type": "code",
   "execution_count": 8,
   "metadata": {},
   "outputs": [
    {
     "data": {
      "text/plain": [
       "[<matplotlib.lines.Line2D at 0x1d6a76600a0>]"
      ]
     },
     "execution_count": 8,
     "metadata": {},
     "output_type": "execute_result"
    },
    {
     "data": {
      "image/png": "[encoded data removed]",
      "text/plain": [
       "<Figure size 432x288 with 1 Axes>"
      ]
     },
     "metadata": {
      "needs_background": "light"
     },
     "output_type": "display_data"
    }
   ],
   "source": [
    "plt.plot(actions)"
   ]
  }
 ],
 "metadata": {
  "kernelspec": {
   "display_name": "Python 3 (ipykernel)",
   "language": "python",
   "name": "python3"
  },
  "language_info": {
   "codemirror_mode": {
    "name": "ipython",
    "version": 3
   },
   "file_extension": ".py",
   "mimetype": "text/x-python",
   "name": "python",
   "nbconvert_exporter": "python",
   "pygments_lexer": "ipython3",
   "version": "3.9.12"
  },
  "vscode": {
   "interpreter": {
    "hash": "aee8b7b246df8f9039afb4144a1f6fd8d2ca17a180786b69acc140d282b71a49"
   }
  }
 },
 "nbformat": 4,
 "nbformat_minor": 4
}
