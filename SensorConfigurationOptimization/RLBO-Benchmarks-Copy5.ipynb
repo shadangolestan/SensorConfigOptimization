{
 "cells": [
  {
   "cell_type": "code",
   "execution_count": 1,
   "metadata": {},
   "outputs": [],
   "source": [
    "# PI:"
   ]
  },
  {
   "cell_type": "code",
   "execution_count": 3,
   "metadata": {
    "scrolled": true
   },
   "outputs": [
    {
     "name": "stdout",
     "output_type": "stream",
     "text": [
      "----- Running BO with: \n",
      " \t - epsilon:  1 \n",
      " \t - True optimum: \n",
      " (array([0, 0, 0, 0, 0, 0, 0, 0, 0, 0]), 0)  \n",
      " \t - initial state:  random\n",
      "adviser type is default...\n",
      "[INFO] [2023-02-17 16:54:10,285] [Advisor] === [BO auto selection] === acq_optimizer_type: random_scipy.\n",
      "[Build Surrogate] Use probabilistic random forest based on scikit-learn. For better performance, please install pyrfr: https://open-box.readthedocs.io/en/latest/installation/install_pyrfr.html\n"
     ]
    },
    {
     "name": "stderr",
     "output_type": "stream",
     "text": [
      "\r",
      "  0%|                                                                                         | 0/1000 [00:00<?, ?it/s]"
     ]
    },
    {
     "name": "stdout",
     "output_type": "stream",
     "text": [
      "[INFO] [2023-02-17 16:54:10,289] [OpenBox-SPO] Iteration 1, objective value: [10.0].\n",
      "[INFO] [2023-02-17 16:54:10,289] [OpenBox-SPO] Iteration 2, objective value: [2.273436112194318].\n",
      "[INFO] [2023-02-17 16:54:10,290] [OpenBox-SPO] Iteration 3, objective value: [3.307198176802845].\n",
      "[INFO] [2023-02-17 16:54:10,585] [OpenBox-SPO] Iteration 4, objective value: [2.772345388367735].\n"
     ]
    },
    {
     "name": "stderr",
     "output_type": "stream",
     "text": [
      "\r",
      "  0%|▎                                                                                | 4/1000 [00:00<01:14, 13.41it/s]"
     ]
    },
    {
     "name": "stdout",
     "output_type": "stream",
     "text": [
      "[INFO] [2023-02-17 16:54:10,937] [OpenBox-SPO] Iteration 5, objective value: [1.9901236451907764].\n",
      "[INFO] [2023-02-17 16:54:10,938] [Advisor] Sample random config. rand_prob=0.100000.\n",
      "[INFO] [2023-02-17 16:54:10,939] [OpenBox-SPO] Iteration 6, objective value: [1.608674095250215].\n"
     ]
    },
    {
     "name": "stderr",
     "output_type": "stream",
     "text": [
      "\r",
      "  1%|▍                                                                                | 6/1000 [00:00<01:56,  8.54it/s]"
     ]
    },
    {
     "name": "stdout",
     "output_type": "stream",
     "text": [
      "[INFO] [2023-02-17 16:54:11,351] [OpenBox-SPO] Iteration 7, objective value: [1.5017707339166642].\n"
     ]
    },
    {
     "name": "stderr",
     "output_type": "stream",
     "text": [
      "\r",
      "  1%|▌                                                                                | 7/1000 [00:01<03:03,  5.41it/s]"
     ]
    },
    {
     "name": "stdout",
     "output_type": "stream",
     "text": [
      "[INFO] [2023-02-17 16:54:11,848] [OpenBox-SPO] Iteration 8, objective value: [0.6697690270680581].\n"
     ]
    },
    {
     "name": "stderr",
     "output_type": "stream",
     "text": [
      "\r",
      "  1%|▋                                                                                | 8/1000 [00:01<04:19,  3.82it/s]"
     ]
    },
    {
     "name": "stdout",
     "output_type": "stream",
     "text": [
      "[INFO] [2023-02-17 16:54:12,470] [OpenBox-SPO] Iteration 9, objective value: [1.3403969823808248].\n"
     ]
    },
    {
     "name": "stderr",
     "output_type": "stream",
     "text": [
      "\r",
      "  1%|▋                                                                                | 9/1000 [00:02<05:52,  2.81it/s]"
     ]
    },
    {
     "name": "stdout",
     "output_type": "stream",
     "text": [
      "[INFO] [2023-02-17 16:54:13,230] [OpenBox-SPO] Iteration 10, objective value: [2.577616973454016].\n"
     ]
    },
    {
     "name": "stderr",
     "output_type": "stream",
     "text": [
      "\r",
      "  1%|▊                                                                               | 10/1000 [00:02<07:40,  2.15it/s]"
     ]
    },
    {
     "name": "stdout",
     "output_type": "stream",
     "text": [
      "[INFO] [2023-02-17 16:54:14,068] [OpenBox-SPO] Iteration 11, objective value: [2.382643555356906].\n"
     ]
    },
    {
     "name": "stderr",
     "output_type": "stream",
     "text": [
      "\r",
      "  1%|▉                                                                               | 11/1000 [00:03<09:23,  1.76it/s]"
     ]
    },
    {
     "name": "stdout",
     "output_type": "stream",
     "text": [
      "[INFO] [2023-02-17 16:54:14,797] [OpenBox-SPO] Iteration 12, objective value: [2.1937105842046916].\n"
     ]
    },
    {
     "name": "stderr",
     "output_type": "stream",
     "text": [
      "\r",
      "  1%|▉                                                                               | 12/1000 [00:04<10:07,  1.63it/s]"
     ]
    },
    {
     "name": "stdout",
     "output_type": "stream",
     "text": [
      "[INFO] [2023-02-17 16:54:15,599] [OpenBox-SPO] Iteration 13, objective value: [2.3536958647446555].\n"
     ]
    },
    {
     "name": "stderr",
     "output_type": "stream",
     "text": [
      "\r",
      "  1%|█                                                                               | 13/1000 [00:05<11:00,  1.49it/s]"
     ]
    },
    {
     "name": "stdout",
     "output_type": "stream",
     "text": [
      "[INFO] [2023-02-17 16:54:16,392] [OpenBox-SPO] Iteration 14, objective value: [1.5768469944512715].\n"
     ]
    },
    {
     "name": "stderr",
     "output_type": "stream",
     "text": [
      "\r",
      "  1%|█                                                                               | 14/1000 [00:06<11:35,  1.42it/s]"
     ]
    },
    {
     "name": "stdout",
     "output_type": "stream",
     "text": [
      "[INFO] [2023-02-17 16:54:17,305] [OpenBox-SPO] Iteration 15, objective value: [2.1116937208665196].\n"
     ]
    },
    {
     "name": "stderr",
     "output_type": "stream",
     "text": [
      "\r",
      "  2%|█▏                                                                              | 15/1000 [00:07<12:35,  1.30it/s]"
     ]
    },
    {
     "name": "stdout",
     "output_type": "stream",
     "text": [
      "[INFO] [2023-02-17 16:54:18,357] [OpenBox-SPO] Iteration 16, objective value: [1.8700583839452767].\n"
     ]
    },
    {
     "name": "stderr",
     "output_type": "stream",
     "text": [
      "\r",
      "  2%|█▎                                                                              | 16/1000 [00:08<13:57,  1.18it/s]"
     ]
    },
    {
     "name": "stdout",
     "output_type": "stream",
     "text": [
      "[INFO] [2023-02-17 16:54:19,265] [OpenBox-SPO] Iteration 17, objective value: [0.3670465619842861].\n"
     ]
    },
    {
     "name": "stderr",
     "output_type": "stream",
     "text": [
      "\r",
      "  2%|█▎                                                                              | 17/1000 [00:08<14:13,  1.15it/s]"
     ]
    },
    {
     "name": "stdout",
     "output_type": "stream",
     "text": [
      "[INFO] [2023-02-17 16:54:20,342] [OpenBox-SPO] Iteration 18, objective value: [1.2632909620380905].\n"
     ]
    },
    {
     "name": "stderr",
     "output_type": "stream",
     "text": [
      "\r",
      "  2%|█▍                                                                              | 18/1000 [00:10<15:13,  1.07it/s]"
     ]
    },
    {
     "name": "stdout",
     "output_type": "stream",
     "text": [
      "[INFO] [2023-02-17 16:54:21,212] [OpenBox-SPO] Iteration 19, objective value: [2.276466249923123].\n"
     ]
    },
    {
     "name": "stderr",
     "output_type": "stream",
     "text": [
      "\r",
      "  2%|█▌                                                                              | 19/1000 [00:10<14:55,  1.10it/s]"
     ]
    },
    {
     "name": "stdout",
     "output_type": "stream",
     "text": [
      "[INFO] [2023-02-17 16:54:22,090] [OpenBox-SPO] Iteration 20, objective value: [1.2194631691184847].\n"
     ]
    },
    {
     "name": "stderr",
     "output_type": "stream",
     "text": [
      "\r",
      "  2%|█▌                                                                              | 20/1000 [00:11<14:44,  1.11it/s]"
     ]
    },
    {
     "name": "stdout",
     "output_type": "stream",
     "text": [
      "[INFO] [2023-02-17 16:54:23,155] [OpenBox-SPO] Iteration 21, objective value: [1.8359318102619582].\n"
     ]
    },
    {
     "name": "stderr",
     "output_type": "stream",
     "text": [
      "\r",
      "  2%|█▋                                                                              | 21/1000 [00:12<15:31,  1.05it/s]"
     ]
    },
    {
     "name": "stdout",
     "output_type": "stream",
     "text": [
      "[INFO] [2023-02-17 16:54:24,128] [OpenBox-SPO] Iteration 22, objective value: [1.443581578909158].\n"
     ]
    },
    {
     "name": "stderr",
     "output_type": "stream",
     "text": [
      "\r",
      "  2%|█▊                                                                              | 22/1000 [00:13<15:36,  1.04it/s]"
     ]
    },
    {
     "name": "stdout",
     "output_type": "stream",
     "text": [
      "[INFO] [2023-02-17 16:54:25,240] [OpenBox-SPO] Iteration 23, objective value: [3.6457545851938304].\n"
     ]
    },
    {
     "name": "stderr",
     "output_type": "stream",
     "text": [
      "\r",
      "  2%|█▊                                                                              | 23/1000 [00:14<16:20,  1.00s/it]"
     ]
    },
    {
     "name": "stdout",
     "output_type": "stream",
     "text": [
      "[INFO] [2023-02-17 16:54:26,416] [OpenBox-SPO] Iteration 24, objective value: [1.5237373554128795].\n"
     ]
    },
    {
     "name": "stderr",
     "output_type": "stream",
     "text": [
      "\r",
      "  2%|█▉                                                                              | 24/1000 [00:16<17:10,  1.06s/it]"
     ]
    },
    {
     "name": "stdout",
     "output_type": "stream",
     "text": [
      "[INFO] [2023-02-17 16:54:27,518] [OpenBox-SPO] Iteration 25, objective value: [1.5047028927888269].\n"
     ]
    },
    {
     "name": "stderr",
     "output_type": "stream",
     "text": [
      "\r",
      "  2%|██                                                                              | 25/1000 [00:17<17:22,  1.07s/it]"
     ]
    },
    {
     "name": "stdout",
     "output_type": "stream",
     "text": [
      "[INFO] [2023-02-17 16:54:27,519] [Advisor] Sample random config. rand_prob=0.100000.\n",
      "[INFO] [2023-02-17 16:54:27,520] [OpenBox-SPO] Iteration 26, objective value: [1.1178063963686216].\n",
      "[INFO] [2023-02-17 16:54:28,628] [OpenBox-SPO] Iteration 27, objective value: [1.149953228087052].\n"
     ]
    },
    {
     "name": "stderr",
     "output_type": "stream",
     "text": [
      "\r",
      "  3%|██▏                                                                             | 27/1000 [00:18<13:29,  1.20it/s]"
     ]
    },
    {
     "name": "stdout",
     "output_type": "stream",
     "text": [
      "[INFO] [2023-02-17 16:54:29,618] [OpenBox-SPO] Iteration 28, objective value: [1.547294905023962].\n"
     ]
    },
    {
     "name": "stderr",
     "output_type": "stream",
     "text": [
      "\r",
      "  3%|██▏                                                                             | 28/1000 [00:19<14:06,  1.15it/s]"
     ]
    },
    {
     "name": "stdout",
     "output_type": "stream",
     "text": [
      "[INFO] [2023-02-17 16:54:29,619] [Advisor] Sample random config. rand_prob=0.100000.\n",
      "[INFO] [2023-02-17 16:54:29,620] [OpenBox-SPO] Iteration 29, objective value: [1.5770361023667128].\n",
      "[INFO] [2023-02-17 16:54:30,744] [OpenBox-SPO] Iteration 30, objective value: [2.392974938022162].\n"
     ]
    },
    {
     "name": "stderr",
     "output_type": "stream",
     "text": [
      "\r",
      "  3%|██▍                                                                             | 30/1000 [00:20<12:00,  1.35it/s]"
     ]
    },
    {
     "name": "stdout",
     "output_type": "stream",
     "text": [
      "[INFO] [2023-02-17 16:54:31,919] [OpenBox-SPO] Iteration 31, objective value: [1.06983176964493].\n"
     ]
    },
    {
     "name": "stderr",
     "output_type": "stream",
     "text": [
      "\r",
      "  3%|██▍                                                                             | 31/1000 [00:21<13:35,  1.19it/s]"
     ]
    },
    {
     "name": "stdout",
     "output_type": "stream",
     "text": [
      "[INFO] [2023-02-17 16:54:32,913] [OpenBox-SPO] Iteration 32, objective value: [0.9593316174597869].\n"
     ]
    },
    {
     "name": "stderr",
     "output_type": "stream",
     "text": [
      "\r",
      "  3%|██▌                                                                             | 32/1000 [00:22<14:11,  1.14it/s]"
     ]
    },
    {
     "name": "stdout",
     "output_type": "stream",
     "text": [
      "[INFO] [2023-02-17 16:54:34,243] [OpenBox-SPO] Iteration 33, objective value: [0.4735001191038247].\n"
     ]
    },
    {
     "name": "stderr",
     "output_type": "stream",
     "text": [
      "\r",
      "  3%|██▋                                                                             | 33/1000 [00:23<16:03,  1.00it/s]"
     ]
    },
    {
     "name": "stdout",
     "output_type": "stream",
     "text": [
      "[INFO] [2023-02-17 16:54:35,385] [OpenBox-SPO] Iteration 34, objective value: [1.5472759100786058].\n"
     ]
    },
    {
     "name": "stderr",
     "output_type": "stream",
     "text": [
      "\r",
      "  3%|██▋                                                                             | 34/1000 [00:25<16:40,  1.04s/it]"
     ]
    },
    {
     "name": "stdout",
     "output_type": "stream",
     "text": [
      "[INFO] [2023-02-17 16:54:36,358] [OpenBox-SPO] Iteration 35, objective value: [1.0332742087720717].\n"
     ]
    },
    {
     "name": "stderr",
     "output_type": "stream",
     "text": [
      "\r",
      "  4%|██▊                                                                             | 35/1000 [00:26<16:22,  1.02s/it]"
     ]
    },
    {
     "name": "stdout",
     "output_type": "stream",
     "text": [
      "[INFO] [2023-02-17 16:54:37,385] [OpenBox-SPO] Iteration 36, objective value: [0.8767865332481162].\n"
     ]
    },
    {
     "name": "stderr",
     "output_type": "stream",
     "text": [
      "\r",
      "  4%|██▉                                                                             | 36/1000 [00:27<16:24,  1.02s/it]"
     ]
    },
    {
     "name": "stdout",
     "output_type": "stream",
     "text": [
      "[INFO] [2023-02-17 16:54:38,389] [OpenBox-SPO] Iteration 37, objective value: [1.204095437772732].\n"
     ]
    },
    {
     "name": "stderr",
     "output_type": "stream",
     "text": [
      "\r",
      "  4%|██▉                                                                             | 37/1000 [00:28<16:18,  1.02s/it]"
     ]
    },
    {
     "name": "stdout",
     "output_type": "stream",
     "text": [
      "[INFO] [2023-02-17 16:54:39,372] [OpenBox-SPO] Iteration 38, objective value: [1.2022909431806843].\n"
     ]
    },
    {
     "name": "stderr",
     "output_type": "stream",
     "text": [
      "\r",
      "  4%|███                                                                             | 38/1000 [00:29<16:08,  1.01s/it]"
     ]
    },
    {
     "name": "stdout",
     "output_type": "stream",
     "text": [
      "[INFO] [2023-02-17 16:54:39,373] [Advisor] Sample random config. rand_prob=0.100000.\n",
      "[INFO] [2023-02-17 16:54:39,374] [OpenBox-SPO] Iteration 39, objective value: [1.8693694239830816].\n",
      "[INFO] [2023-02-17 16:54:40,540] [OpenBox-SPO] Iteration 40, objective value: [0.7395797651406527].\n"
     ]
    },
    {
     "name": "stderr",
     "output_type": "stream",
     "text": [
      "\r",
      "  4%|███▏                                                                            | 40/1000 [00:30<13:01,  1.23it/s]"
     ]
    },
    {
     "name": "stdout",
     "output_type": "stream",
     "text": [
      "[INFO] [2023-02-17 16:54:41,779] [OpenBox-SPO] Iteration 41, objective value: [2.240071192705488].\n"
     ]
    },
    {
     "name": "stderr",
     "output_type": "stream",
     "text": [
      "\r",
      "  4%|███▎                                                                            | 41/1000 [00:31<14:40,  1.09it/s]"
     ]
    },
    {
     "name": "stdout",
     "output_type": "stream",
     "text": [
      "[INFO] [2023-02-17 16:54:42,879] [OpenBox-SPO] Iteration 42, objective value: [0.7211788618062319].\n"
     ]
    },
    {
     "name": "stderr",
     "output_type": "stream",
     "text": [
      "\r",
      "  4%|███▎                                                                            | 42/1000 [00:32<15:24,  1.04it/s]"
     ]
    },
    {
     "name": "stdout",
     "output_type": "stream",
     "text": [
      "[INFO] [2023-02-17 16:54:42,880] [Advisor] Sample random config. rand_prob=0.100000.\n",
      "[INFO] [2023-02-17 16:54:42,880] [OpenBox-SPO] Iteration 43, objective value: [0.4975081225658501].\n",
      "[INFO] [2023-02-17 16:54:44,141] [OpenBox-SPO] Iteration 44, objective value: [0.8257301279037544].\n"
     ]
    },
    {
     "name": "stderr",
     "output_type": "stream",
     "text": [
      "\r",
      "  4%|███▌                                                                            | 44/1000 [00:33<13:07,  1.21it/s]"
     ]
    },
    {
     "name": "stdout",
     "output_type": "stream",
     "text": [
      "[INFO] [2023-02-17 16:54:45,090] [OpenBox-SPO] Iteration 45, objective value: [0.7686597018018179].\n"
     ]
    },
    {
     "name": "stderr",
     "output_type": "stream",
     "text": [
      "\r",
      "  4%|███▌                                                                            | 45/1000 [00:34<13:33,  1.17it/s]"
     ]
    },
    {
     "name": "stdout",
     "output_type": "stream",
     "text": [
      "[INFO] [2023-02-17 16:54:46,142] [OpenBox-SPO] Iteration 46, objective value: [1.0546479854762962].\n"
     ]
    },
    {
     "name": "stderr",
     "output_type": "stream",
     "text": [
      "\r",
      "  5%|███▋                                                                            | 46/1000 [00:35<14:20,  1.11it/s]"
     ]
    },
    {
     "name": "stdout",
     "output_type": "stream",
     "text": [
      "[INFO] [2023-02-17 16:54:47,257] [OpenBox-SPO] Iteration 47, objective value: [0.9205062188403033].\n"
     ]
    },
    {
     "name": "stderr",
     "output_type": "stream",
     "text": [
      "\r",
      "  5%|███▊                                                                            | 47/1000 [00:36<15:13,  1.04it/s]"
     ]
    },
    {
     "name": "stdout",
     "output_type": "stream",
     "text": [
      "[INFO] [2023-02-17 16:54:48,306] [OpenBox-SPO] Iteration 48, objective value: [0.887063092889184].\n"
     ]
    },
    {
     "name": "stderr",
     "output_type": "stream",
     "text": [
      "\r",
      "  5%|███▊                                                                            | 48/1000 [00:38<15:35,  1.02it/s]"
     ]
    },
    {
     "name": "stdout",
     "output_type": "stream",
     "text": [
      "[INFO] [2023-02-17 16:54:49,336] [OpenBox-SPO] Iteration 49, objective value: [0.8158432933420378].\n"
     ]
    },
    {
     "name": "stderr",
     "output_type": "stream",
     "text": [
      "\r",
      "  5%|███▉                                                                            | 49/1000 [00:39<15:47,  1.00it/s]"
     ]
    },
    {
     "name": "stdout",
     "output_type": "stream",
     "text": [
      "[INFO] [2023-02-17 16:54:50,313] [OpenBox-SPO] Iteration 50, objective value: [0.7317785009091934].\n"
     ]
    },
    {
     "name": "stderr",
     "output_type": "stream",
     "text": [
      "\r",
      "  5%|████                                                                            | 50/1000 [00:40<15:41,  1.01it/s]"
     ]
    },
    {
     "name": "stdout",
     "output_type": "stream",
     "text": [
      "[INFO] [2023-02-17 16:54:51,517] [OpenBox-SPO] Iteration 51, objective value: [1.1777254521663647].\n"
     ]
    },
    {
     "name": "stderr",
     "output_type": "stream",
     "text": [
      "\r",
      "  5%|████                                                                            | 51/1000 [00:41<16:39,  1.05s/it]"
     ]
    },
    {
     "name": "stdout",
     "output_type": "stream",
     "text": [
      "[INFO] [2023-02-17 16:54:51,518] [Advisor] Sample random config. rand_prob=0.100000.\n",
      "[INFO] [2023-02-17 16:54:51,519] [OpenBox-SPO] Iteration 52, objective value: [0.5279033718386965].\n",
      "[INFO] [2023-02-17 16:54:52,720] [OpenBox-SPO] Iteration 53, objective value: [0.8458729217911732].\n"
     ]
    },
    {
     "name": "stderr",
     "output_type": "stream",
     "text": [
      "\r",
      "  5%|████▏                                                                           | 53/1000 [00:42<13:23,  1.18it/s]"
     ]
    },
    {
     "name": "stdout",
     "output_type": "stream",
     "text": [
      "[INFO] [2023-02-17 16:54:54,062] [OpenBox-SPO] Iteration 54, objective value: [1.324146152643878].\n"
     ]
    },
    {
     "name": "stderr",
     "output_type": "stream",
     "text": [
      "\r",
      "  5%|████▎                                                                           | 54/1000 [00:43<15:16,  1.03it/s]"
     ]
    },
    {
     "name": "stdout",
     "output_type": "stream",
     "text": [
      "[INFO] [2023-02-17 16:54:55,178] [OpenBox-SPO] Iteration 55, objective value: [0.940052158340139].\n"
     ]
    },
    {
     "name": "stderr",
     "output_type": "stream",
     "text": [
      "\r",
      "  6%|████▍                                                                           | 55/1000 [00:44<15:51,  1.01s/it]"
     ]
    },
    {
     "name": "stdout",
     "output_type": "stream",
     "text": [
      "[INFO] [2023-02-17 16:54:55,179] [Advisor] Sample random config. rand_prob=0.100000.\n",
      "[INFO] [2023-02-17 16:54:55,180] [OpenBox-SPO] Iteration 56, objective value: [1.6602492776501108].\n",
      "[INFO] [2023-02-17 16:54:56,507] [OpenBox-SPO] Iteration 57, objective value: [0.8213597870301401].\n"
     ]
    },
    {
     "name": "stderr",
     "output_type": "stream",
     "text": [
      "\r",
      "  6%|████▌                                                                           | 57/1000 [00:46<13:31,  1.16it/s]"
     ]
    },
    {
     "name": "stdout",
     "output_type": "stream",
     "text": [
      "[INFO] [2023-02-17 16:54:57,627] [OpenBox-SPO] Iteration 58, objective value: [0.4431918679218881].\n"
     ]
    },
    {
     "name": "stderr",
     "output_type": "stream",
     "text": [
      "\r",
      "  6%|████▋                                                                           | 58/1000 [00:47<14:28,  1.09it/s]"
     ]
    },
    {
     "name": "stdout",
     "output_type": "stream",
     "text": [
      "[INFO] [2023-02-17 16:54:58,943] [OpenBox-SPO] Iteration 59, objective value: [1.324928739995246].\n"
     ]
    },
    {
     "name": "stderr",
     "output_type": "stream",
     "text": [
      "\r",
      "  6%|████▋                                                                           | 59/1000 [00:48<15:59,  1.02s/it]"
     ]
    },
    {
     "name": "stdout",
     "output_type": "stream",
     "text": [
      "[INFO] [2023-02-17 16:54:58,944] [Advisor] Sample random config. rand_prob=0.100000.\n",
      "[INFO] [2023-02-17 16:54:58,945] [OpenBox-SPO] Iteration 60, objective value: [1.4630907171711762].\n",
      "[INFO] [2023-02-17 16:54:58,945] [Advisor] Sample random config. rand_prob=0.100000.\n",
      "[INFO] [2023-02-17 16:54:58,946] [OpenBox-SPO] Iteration 61, objective value: [1.5641129494413364].\n",
      "[INFO] [2023-02-17 16:55:00,218] [OpenBox-SPO] Iteration 62, objective value: [0.937124955928749].\n"
     ]
    },
    {
     "name": "stderr",
     "output_type": "stream",
     "text": [
      "\r",
      "  6%|████▉                                                                           | 62/1000 [00:49<11:08,  1.40it/s]"
     ]
    },
    {
     "name": "stdout",
     "output_type": "stream",
     "text": [
      "[INFO] [2023-02-17 16:55:01,293] [OpenBox-SPO] Iteration 63, objective value: [0.4491270993293347].\n"
     ]
    },
    {
     "name": "stderr",
     "output_type": "stream",
     "text": [
      "\r",
      "  6%|█████                                                                           | 63/1000 [00:51<12:14,  1.28it/s]"
     ]
    },
    {
     "name": "stdout",
     "output_type": "stream",
     "text": [
      "[INFO] [2023-02-17 16:55:02,580] [OpenBox-SPO] Iteration 64, objective value: [0.9212767197524827].\n"
     ]
    },
    {
     "name": "stderr",
     "output_type": "stream",
     "text": [
      "\r",
      "  6%|█████                                                                           | 64/1000 [00:52<13:57,  1.12it/s]"
     ]
    },
    {
     "name": "stdout",
     "output_type": "stream",
     "text": [
      "[INFO] [2023-02-17 16:55:03,563] [OpenBox-SPO] Iteration 65, objective value: [1.1695394576762603].\n"
     ]
    },
    {
     "name": "stderr",
     "output_type": "stream",
     "text": [
      "\r",
      "  6%|█████▏                                                                          | 65/1000 [00:53<14:16,  1.09it/s]"
     ]
    },
    {
     "name": "stdout",
     "output_type": "stream",
     "text": [
      "[INFO] [2023-02-17 16:55:04,866] [OpenBox-SPO] Iteration 66, objective value: [0.8924994444744883].\n"
     ]
    },
    {
     "name": "stderr",
     "output_type": "stream",
     "text": [
      "\r",
      "  7%|█████▎                                                                          | 66/1000 [00:54<15:47,  1.01s/it]"
     ]
    },
    {
     "name": "stdout",
     "output_type": "stream",
     "text": [
      "[INFO] [2023-02-17 16:55:06,003] [OpenBox-SPO] Iteration 67, objective value: [0.9366684386023957].\n"
     ]
    },
    {
     "name": "stderr",
     "output_type": "stream",
     "text": [
      "\r",
      "  7%|█████▎                                                                          | 67/1000 [00:55<16:17,  1.05s/it]"
     ]
    },
    {
     "name": "stdout",
     "output_type": "stream",
     "text": [
      "[INFO] [2023-02-17 16:55:07,167] [OpenBox-SPO] Iteration 68, objective value: [0.5388935615493884].\n"
     ]
    },
    {
     "name": "stderr",
     "output_type": "stream",
     "text": [
      "\r",
      "  7%|█████▍                                                                          | 68/1000 [00:56<16:46,  1.08s/it]"
     ]
    },
    {
     "name": "stdout",
     "output_type": "stream",
     "text": [
      "[INFO] [2023-02-17 16:55:08,113] [OpenBox-SPO] Iteration 69, objective value: [0.8216687252979393].\n"
     ]
    },
    {
     "name": "stderr",
     "output_type": "stream",
     "text": [
      "\r",
      "  7%|█████▌                                                                          | 69/1000 [00:57<16:09,  1.04s/it]"
     ]
    },
    {
     "name": "stdout",
     "output_type": "stream",
     "text": [
      "[INFO] [2023-02-17 16:55:09,204] [OpenBox-SPO] Iteration 70, objective value: [0.7230749264688503].\n"
     ]
    },
    {
     "name": "stderr",
     "output_type": "stream",
     "text": [
      "\r",
      "  7%|█████▌                                                                          | 70/1000 [00:58<16:21,  1.06s/it]"
     ]
    },
    {
     "name": "stdout",
     "output_type": "stream",
     "text": [
      "[INFO] [2023-02-17 16:55:10,442] [OpenBox-SPO] Iteration 71, objective value: [0.04525132224869371].\n"
     ]
    },
    {
     "name": "stderr",
     "output_type": "stream",
     "text": [
      "\r",
      "  7%|█████▋                                                                          | 71/1000 [01:00<17:10,  1.11s/it]"
     ]
    },
    {
     "name": "stdout",
     "output_type": "stream",
     "text": [
      "[INFO] [2023-02-17 16:55:11,414] [OpenBox-SPO] Iteration 72, objective value: [0.8376585962866664].\n"
     ]
    },
    {
     "name": "stderr",
     "output_type": "stream",
     "text": [
      "\r",
      "  7%|█████▊                                                                          | 72/1000 [01:01<16:32,  1.07s/it]"
     ]
    },
    {
     "name": "stdout",
     "output_type": "stream",
     "text": [
      "[INFO] [2023-02-17 16:55:12,319] [OpenBox-SPO] Iteration 73, objective value: [0.9135785561942157].\n"
     ]
    },
    {
     "name": "stderr",
     "output_type": "stream",
     "text": [
      "\r",
      "  7%|█████▊                                                                          | 73/1000 [01:02<15:45,  1.02s/it]"
     ]
    },
    {
     "name": "stdout",
     "output_type": "stream",
     "text": [
      "[INFO] [2023-02-17 16:55:13,436] [OpenBox-SPO] Iteration 74, objective value: [0.9407178302404797].\n"
     ]
    },
    {
     "name": "stderr",
     "output_type": "stream",
     "text": [
      "\r",
      "  7%|█████▉                                                                          | 74/1000 [01:03<16:11,  1.05s/it]"
     ]
    },
    {
     "name": "stdout",
     "output_type": "stream",
     "text": [
      "[INFO] [2023-02-17 16:55:14,580] [OpenBox-SPO] Iteration 75, objective value: [0.7751780221040343].\n"
     ]
    },
    {
     "name": "stderr",
     "output_type": "stream",
     "text": [
      "\r",
      "  8%|██████                                                                          | 75/1000 [01:04<16:36,  1.08s/it]"
     ]
    },
    {
     "name": "stdout",
     "output_type": "stream",
     "text": [
      "[INFO] [2023-02-17 16:55:15,742] [OpenBox-SPO] Iteration 76, objective value: [1.419640349918021].\n"
     ]
    },
    {
     "name": "stderr",
     "output_type": "stream",
     "text": [
      "\r",
      "  8%|██████                                                                          | 76/1000 [01:05<16:58,  1.10s/it]"
     ]
    },
    {
     "name": "stdout",
     "output_type": "stream",
     "text": [
      "[INFO] [2023-02-17 16:55:16,708] [OpenBox-SPO] Iteration 77, objective value: [0.7960108288268162].\n"
     ]
    },
    {
     "name": "stderr",
     "output_type": "stream",
     "text": [
      "\r",
      "  8%|██████▏                                                                         | 77/1000 [01:06<16:20,  1.06s/it]"
     ]
    },
    {
     "name": "stdout",
     "output_type": "stream",
     "text": [
      "[INFO] [2023-02-17 16:55:17,993] [OpenBox-SPO] Iteration 78, objective value: [1.1724511985438089].\n"
     ]
    },
    {
     "name": "stderr",
     "output_type": "stream",
     "text": [
      "\r",
      "  8%|██████▏                                                                         | 78/1000 [01:07<17:20,  1.13s/it]"
     ]
    },
    {
     "name": "stdout",
     "output_type": "stream",
     "text": [
      "[INFO] [2023-02-17 16:55:19,077] [OpenBox-SPO] Iteration 79, objective value: [0.8568115193242446].\n"
     ]
    },
    {
     "name": "stderr",
     "output_type": "stream",
     "text": [
      "\r",
      "  8%|██████▎                                                                         | 79/1000 [01:08<17:07,  1.12s/it]"
     ]
    },
    {
     "name": "stdout",
     "output_type": "stream",
     "text": [
      "[INFO] [2023-02-17 16:55:20,188] [OpenBox-SPO] Iteration 80, objective value: [0.4135575320992867].\n"
     ]
    },
    {
     "name": "stderr",
     "output_type": "stream",
     "text": [
      "\r",
      "  8%|██████▍                                                                         | 80/1000 [01:09<17:05,  1.11s/it]"
     ]
    },
    {
     "name": "stdout",
     "output_type": "stream",
     "text": [
      "[INFO] [2023-02-17 16:55:21,307] [OpenBox-SPO] Iteration 81, objective value: [0.6993488248508017].\n"
     ]
    },
    {
     "name": "stderr",
     "output_type": "stream",
     "text": [
      "\r",
      "  8%|██████▍                                                                         | 81/1000 [01:11<17:05,  1.12s/it]"
     ]
    },
    {
     "name": "stdout",
     "output_type": "stream",
     "text": [
      "[INFO] [2023-02-17 16:55:22,538] [OpenBox-SPO] Iteration 82, objective value: [0.6994139512800819].\n"
     ]
    },
    {
     "name": "stderr",
     "output_type": "stream",
     "text": [
      "\r",
      "  8%|██████▌                                                                         | 82/1000 [01:12<17:35,  1.15s/it]"
     ]
    },
    {
     "name": "stdout",
     "output_type": "stream",
     "text": [
      "[INFO] [2023-02-17 16:55:23,822] [OpenBox-SPO] Iteration 83, objective value: [0.282954851009839].\n"
     ]
    },
    {
     "name": "stderr",
     "output_type": "stream",
     "text": [
      "\r",
      "  8%|██████▋                                                                         | 83/1000 [01:13<18:11,  1.19s/it]"
     ]
    },
    {
     "name": "stdout",
     "output_type": "stream",
     "text": [
      "[INFO] [2023-02-17 16:55:23,823] [Advisor] Sample random config. rand_prob=0.100000.\n",
      "[INFO] [2023-02-17 16:55:23,824] [OpenBox-SPO] Iteration 84, objective value: [1.9217674785784111].\n",
      "[INFO] [2023-02-17 16:55:24,919] [OpenBox-SPO] Iteration 85, objective value: [0.7001691092188733].\n"
     ]
    },
    {
     "name": "stderr",
     "output_type": "stream",
     "text": [
      "\r",
      "  8%|██████▊                                                                         | 85/1000 [01:14<13:38,  1.12it/s]"
     ]
    },
    {
     "name": "stdout",
     "output_type": "stream",
     "text": [
      "[INFO] [2023-02-17 16:55:26,168] [OpenBox-SPO] Iteration 86, objective value: [1.929304281509497].\n"
     ]
    },
    {
     "name": "stderr",
     "output_type": "stream",
     "text": [
      "\r",
      "  9%|██████▉                                                                         | 86/1000 [01:15<14:57,  1.02it/s]"
     ]
    },
    {
     "name": "stdout",
     "output_type": "stream",
     "text": [
      "[INFO] [2023-02-17 16:55:27,551] [OpenBox-SPO] Iteration 87, objective value: [1.2894304608475475].\n"
     ]
    },
    {
     "name": "stderr",
     "output_type": "stream",
     "text": [
      "\r",
      "  9%|██████▉                                                                         | 87/1000 [01:17<16:32,  1.09s/it]"
     ]
    },
    {
     "name": "stdout",
     "output_type": "stream",
     "text": [
      "[INFO] [2023-02-17 16:55:27,551] [Advisor] Sample random config. rand_prob=0.100000.\n",
      "[INFO] [2023-02-17 16:55:27,552] [OpenBox-SPO] Iteration 88, objective value: [1.6446431836481676].\n",
      "[INFO] [2023-02-17 16:55:27,553] [Advisor] Sample random config. rand_prob=0.100000.\n",
      "[INFO] [2023-02-17 16:55:27,553] [OpenBox-SPO] Iteration 89, objective value: [2.24094937391948].\n",
      "[INFO] [2023-02-17 16:55:28,642] [OpenBox-SPO] Iteration 90, objective value: [0.8817035127263737].\n"
     ]
    },
    {
     "name": "stderr",
     "output_type": "stream",
     "text": [
      "\r",
      "  9%|███████▏                                                                        | 90/1000 [01:18<10:41,  1.42it/s]"
     ]
    },
    {
     "name": "stdout",
     "output_type": "stream",
     "text": [
      "[INFO] [2023-02-17 16:55:28,643] [Advisor] Sample random config. rand_prob=0.100000.\n",
      "[INFO] [2023-02-17 16:55:28,644] [OpenBox-SPO] Iteration 91, objective value: [0.976906669450412].\n",
      "[INFO] [2023-02-17 16:55:29,876] [OpenBox-SPO] Iteration 92, objective value: [1.4492071687542616].\n"
     ]
    },
    {
     "name": "stderr",
     "output_type": "stream",
     "text": [
      "\r",
      "  9%|███████▎                                                                        | 92/1000 [01:19<10:13,  1.48it/s]"
     ]
    },
    {
     "name": "stdout",
     "output_type": "stream",
     "text": [
      "[INFO] [2023-02-17 16:55:30,916] [OpenBox-SPO] Iteration 93, objective value: [1.3887565185616346].\n"
     ]
    },
    {
     "name": "stderr",
     "output_type": "stream",
     "text": [
      "\r",
      "  9%|███████▍                                                                        | 93/1000 [01:20<11:16,  1.34it/s]"
     ]
    },
    {
     "name": "stdout",
     "output_type": "stream",
     "text": [
      "[INFO] [2023-02-17 16:55:32,077] [OpenBox-SPO] Iteration 94, objective value: [1.0581032646167516].\n"
     ]
    },
    {
     "name": "stderr",
     "output_type": "stream",
     "text": [
      "\r",
      "  9%|███████▌                                                                        | 94/1000 [01:21<12:37,  1.20it/s]"
     ]
    },
    {
     "name": "stdout",
     "output_type": "stream",
     "text": [
      "[INFO] [2023-02-17 16:55:33,217] [OpenBox-SPO] Iteration 95, objective value: [1.0335504420419646].\n"
     ]
    },
    {
     "name": "stderr",
     "output_type": "stream",
     "text": [
      "\r",
      " 10%|███████▌                                                                        | 95/1000 [01:22<13:40,  1.10it/s]"
     ]
    },
    {
     "name": "stdout",
     "output_type": "stream",
     "text": [
      "[INFO] [2023-02-17 16:55:34,367] [OpenBox-SPO] Iteration 96, objective value: [0.507053925787402].\n"
     ]
    },
    {
     "name": "stderr",
     "output_type": "stream",
     "text": [
      "\r",
      " 10%|███████▋                                                                        | 96/1000 [01:24<14:35,  1.03it/s]"
     ]
    },
    {
     "name": "stdout",
     "output_type": "stream",
     "text": [
      "[INFO] [2023-02-17 16:55:35,518] [OpenBox-SPO] Iteration 97, objective value: [1.02600067188026].\n"
     ]
    },
    {
     "name": "stderr",
     "output_type": "stream",
     "text": [
      "\r",
      " 10%|███████▊                                                                        | 97/1000 [01:25<15:18,  1.02s/it]"
     ]
    },
    {
     "name": "stdout",
     "output_type": "stream",
     "text": [
      "[INFO] [2023-02-17 16:55:36,615] [OpenBox-SPO] Iteration 98, objective value: [0.577034555957547].\n"
     ]
    },
    {
     "name": "stderr",
     "output_type": "stream",
     "text": [
      "\r",
      " 10%|███████▊                                                                        | 98/1000 [01:26<15:37,  1.04s/it]"
     ]
    },
    {
     "name": "stdout",
     "output_type": "stream",
     "text": [
      "[INFO] [2023-02-17 16:55:37,812] [OpenBox-SPO] Iteration 99, objective value: [0.6949629683275313].\n"
     ]
    },
    {
     "name": "stderr",
     "output_type": "stream",
     "text": [
      "\r",
      " 10%|███████▉                                                                        | 99/1000 [01:27<16:15,  1.08s/it]"
     ]
    },
    {
     "name": "stdout",
     "output_type": "stream",
     "text": [
      "[INFO] [2023-02-17 16:55:38,808] [OpenBox-SPO] Iteration 100, objective value: [1.4483103650618314].\n"
     ]
    },
    {
     "name": "stderr",
     "output_type": "stream",
     "text": [
      "\r",
      " 10%|███████▉                                                                       | 100/1000 [01:28<15:52,  1.06s/it]"
     ]
    },
    {
     "name": "stdout",
     "output_type": "stream",
     "text": [
      "[INFO] [2023-02-17 16:55:40,073] [OpenBox-SPO] Iteration 101, objective value: [1.1224717322574795].\n"
     ]
    },
    {
     "name": "stderr",
     "output_type": "stream",
     "text": [
      "\r",
      " 10%|███████▉                                                                       | 101/1000 [01:29<16:45,  1.12s/it]"
     ]
    },
    {
     "name": "stdout",
     "output_type": "stream",
     "text": [
      "[INFO] [2023-02-17 16:55:41,143] [OpenBox-SPO] Iteration 102, objective value: [1.1436497097491851].\n"
     ]
    },
    {
     "name": "stderr",
     "output_type": "stream",
     "text": [
      "\r",
      " 10%|████████                                                                       | 102/1000 [01:30<16:31,  1.10s/it]"
     ]
    },
    {
     "name": "stdout",
     "output_type": "stream",
     "text": [
      "[INFO] [2023-02-17 16:55:42,221] [OpenBox-SPO] Iteration 103, objective value: [1.194310031384217].\n"
     ]
    },
    {
     "name": "stderr",
     "output_type": "stream",
     "text": [
      "\r",
      " 10%|████████▏                                                                      | 103/1000 [01:31<16:23,  1.10s/it]"
     ]
    },
    {
     "name": "stdout",
     "output_type": "stream",
     "text": [
      "[INFO] [2023-02-17 16:55:43,411] [OpenBox-SPO] Iteration 104, objective value: [1.2027605124315504].\n"
     ]
    },
    {
     "name": "stderr",
     "output_type": "stream",
     "text": [
      "\r",
      " 10%|████████▏                                                                      | 104/1000 [01:33<16:47,  1.12s/it]"
     ]
    },
    {
     "name": "stdout",
     "output_type": "stream",
     "text": [
      "[INFO] [2023-02-17 16:55:44,529] [OpenBox-SPO] Iteration 105, objective value: [0.6014728495556532].\n"
     ]
    },
    {
     "name": "stderr",
     "output_type": "stream",
     "text": [
      "\r",
      " 10%|████████▎                                                                      | 105/1000 [01:34<16:44,  1.12s/it]"
     ]
    },
    {
     "name": "stdout",
     "output_type": "stream",
     "text": [
      "[INFO] [2023-02-17 16:55:45,560] [OpenBox-SPO] Iteration 106, objective value: [1.3500131772109834].\n"
     ]
    },
    {
     "name": "stderr",
     "output_type": "stream",
     "text": [
      "\r",
      " 11%|████████▎                                                                      | 106/1000 [01:35<16:18,  1.10s/it]"
     ]
    },
    {
     "name": "stdout",
     "output_type": "stream",
     "text": [
      "[INFO] [2023-02-17 16:55:46,696] [OpenBox-SPO] Iteration 107, objective value: [0.8778621532248838].\n"
     ]
    },
    {
     "name": "stderr",
     "output_type": "stream",
     "text": [
      "\r",
      " 11%|████████▍                                                                      | 107/1000 [01:36<16:28,  1.11s/it]"
     ]
    },
    {
     "name": "stdout",
     "output_type": "stream",
     "text": [
      "[INFO] [2023-02-17 16:55:47,712] [OpenBox-SPO] Iteration 108, objective value: [1.201310473375947].\n"
     ]
    },
    {
     "name": "stderr",
     "output_type": "stream",
     "text": [
      "\r",
      " 11%|████████▌                                                                      | 108/1000 [01:37<16:03,  1.08s/it]"
     ]
    },
    {
     "name": "stdout",
     "output_type": "stream",
     "text": [
      "[INFO] [2023-02-17 16:55:48,960] [OpenBox-SPO] Iteration 109, objective value: [0.9003880958204319].\n"
     ]
    },
    {
     "name": "stderr",
     "output_type": "stream",
     "text": [
      "\r",
      " 11%|████████▌                                                                      | 109/1000 [01:38<16:47,  1.13s/it]"
     ]
    },
    {
     "name": "stdout",
     "output_type": "stream",
     "text": [
      "[INFO] [2023-02-17 16:55:50,164] [OpenBox-SPO] Iteration 110, objective value: [1.046228344417002].\n"
     ]
    },
    {
     "name": "stderr",
     "output_type": "stream",
     "text": [
      "\r",
      " 11%|████████▋                                                                      | 110/1000 [01:39<17:05,  1.15s/it]"
     ]
    },
    {
     "name": "stdout",
     "output_type": "stream",
     "text": [
      "[INFO] [2023-02-17 16:55:51,375] [OpenBox-SPO] Iteration 111, objective value: [0.9509876462658616].\n"
     ]
    },
    {
     "name": "stderr",
     "output_type": "stream",
     "text": [
      "\r",
      " 11%|████████▊                                                                      | 111/1000 [01:41<17:20,  1.17s/it]"
     ]
    },
    {
     "name": "stdout",
     "output_type": "stream",
     "text": [
      "[INFO] [2023-02-17 16:55:52,538] [OpenBox-SPO] Iteration 112, objective value: [0.8196418119223902].\n"
     ]
    },
    {
     "name": "stderr",
     "output_type": "stream",
     "text": [
      "\r",
      " 11%|████████▊                                                                      | 112/1000 [01:42<17:17,  1.17s/it]"
     ]
    },
    {
     "name": "stdout",
     "output_type": "stream",
     "text": [
      "[INFO] [2023-02-17 16:55:53,530] [OpenBox-SPO] Iteration 113, objective value: [1.009772267128229].\n"
     ]
    },
    {
     "name": "stderr",
     "output_type": "stream",
     "text": [
      "\r",
      " 11%|████████▉                                                                      | 113/1000 [01:43<16:29,  1.12s/it]"
     ]
    },
    {
     "name": "stdout",
     "output_type": "stream",
     "text": [
      "[INFO] [2023-02-17 16:55:54,929] [OpenBox-SPO] Iteration 114, objective value: [1.03409148972147].\n"
     ]
    },
    {
     "name": "stderr",
     "output_type": "stream",
     "text": [
      "\r",
      " 11%|█████████                                                                      | 114/1000 [01:44<17:43,  1.20s/it]"
     ]
    },
    {
     "name": "stdout",
     "output_type": "stream",
     "text": [
      "[INFO] [2023-02-17 16:55:56,101] [OpenBox-SPO] Iteration 115, objective value: [0.7187203556077826].\n"
     ]
    },
    {
     "name": "stderr",
     "output_type": "stream",
     "text": [
      "\r",
      " 12%|█████████                                                                      | 115/1000 [01:45<17:34,  1.19s/it]"
     ]
    },
    {
     "name": "stdout",
     "output_type": "stream",
     "text": [
      "[INFO] [2023-02-17 16:55:57,362] [OpenBox-SPO] Iteration 116, objective value: [1.0638895968491324].\n"
     ]
    },
    {
     "name": "stderr",
     "output_type": "stream",
     "text": [
      "\r",
      " 12%|█████████▏                                                                     | 116/1000 [01:47<17:52,  1.21s/it]"
     ]
    },
    {
     "name": "stdout",
     "output_type": "stream",
     "text": [
      "[INFO] [2023-02-17 16:55:58,580] [OpenBox-SPO] Iteration 117, objective value: [0.9381205262441893].\n"
     ]
    },
    {
     "name": "stderr",
     "output_type": "stream",
     "text": [
      "\r",
      " 12%|█████████▏                                                                     | 117/1000 [01:48<17:51,  1.21s/it]"
     ]
    },
    {
     "name": "stdout",
     "output_type": "stream",
     "text": [
      "[INFO] [2023-02-17 16:55:59,636] [OpenBox-SPO] Iteration 118, objective value: [1.0728990369271088].\n"
     ]
    },
    {
     "name": "stderr",
     "output_type": "stream",
     "text": [
      "\r",
      " 12%|█████████▎                                                                     | 118/1000 [01:49<17:09,  1.17s/it]"
     ]
    },
    {
     "name": "stdout",
     "output_type": "stream",
     "text": [
      "[INFO] [2023-02-17 16:56:00,704] [OpenBox-SPO] Iteration 119, objective value: [1.0038300968508558].\n"
     ]
    },
    {
     "name": "stderr",
     "output_type": "stream",
     "text": [
      "\r",
      " 12%|█████████▍                                                                     | 119/1000 [01:50<16:41,  1.14s/it]"
     ]
    },
    {
     "name": "stdout",
     "output_type": "stream",
     "text": [
      "[INFO] [2023-02-17 16:56:01,932] [OpenBox-SPO] Iteration 120, objective value: [1.871348012830703].\n"
     ]
    },
    {
     "name": "stderr",
     "output_type": "stream",
     "text": [
      "\r",
      " 12%|█████████▍                                                                     | 120/1000 [01:51<17:04,  1.16s/it]"
     ]
    },
    {
     "name": "stdout",
     "output_type": "stream",
     "text": [
      "[INFO] [2023-02-17 16:56:03,266] [OpenBox-SPO] Iteration 121, objective value: [0.8196418119644975].\n"
     ]
    },
    {
     "name": "stderr",
     "output_type": "stream",
     "text": [
      "\r",
      " 12%|█████████▌                                                                     | 121/1000 [01:52<17:48,  1.22s/it]"
     ]
    },
    {
     "name": "stdout",
     "output_type": "stream",
     "text": [
      "[INFO] [2023-02-17 16:56:04,574] [OpenBox-SPO] Iteration 122, objective value: [0.7082326729511159].\n"
     ]
    },
    {
     "name": "stderr",
     "output_type": "stream",
     "text": [
      "\r",
      " 12%|█████████▋                                                                     | 122/1000 [01:54<18:11,  1.24s/it]"
     ]
    },
    {
     "name": "stdout",
     "output_type": "stream",
     "text": [
      "[INFO] [2023-02-17 16:56:05,760] [OpenBox-SPO] Iteration 123, objective value: [0.5589415477030689].\n"
     ]
    },
    {
     "name": "stderr",
     "output_type": "stream",
     "text": [
      "\r",
      " 12%|█████████▋                                                                     | 123/1000 [01:55<17:54,  1.23s/it]"
     ]
    },
    {
     "name": "stdout",
     "output_type": "stream",
     "text": [
      "[INFO] [2023-02-17 16:56:06,735] [OpenBox-SPO] Iteration 124, objective value: [1.0147518613065507].\n"
     ]
    },
    {
     "name": "stderr",
     "output_type": "stream",
     "text": [
      "\r",
      " 12%|█████████▊                                                                     | 124/1000 [01:56<16:48,  1.15s/it]"
     ]
    },
    {
     "name": "stdout",
     "output_type": "stream",
     "text": [
      "[INFO] [2023-02-17 16:56:07,751] [OpenBox-SPO] Iteration 125, objective value: [0.990528611942208].\n"
     ]
    },
    {
     "name": "stderr",
     "output_type": "stream",
     "text": [
      "\r",
      " 12%|█████████▉                                                                     | 125/1000 [01:57<16:11,  1.11s/it]"
     ]
    },
    {
     "name": "stdout",
     "output_type": "stream",
     "text": [
      "[INFO] [2023-02-17 16:56:08,785] [OpenBox-SPO] Iteration 126, objective value: [0.9710734032313694].\n"
     ]
    },
    {
     "name": "stderr",
     "output_type": "stream",
     "text": [
      "\r",
      " 13%|█████████▉                                                                     | 126/1000 [01:58<15:50,  1.09s/it]"
     ]
    },
    {
     "name": "stdout",
     "output_type": "stream",
     "text": [
      "[INFO] [2023-02-17 16:56:09,839] [OpenBox-SPO] Iteration 127, objective value: [0.6832823104000737].\n"
     ]
    },
    {
     "name": "stderr",
     "output_type": "stream",
     "text": [
      "\r",
      " 13%|██████████                                                                     | 127/1000 [01:59<15:40,  1.08s/it]"
     ]
    },
    {
     "name": "stdout",
     "output_type": "stream",
     "text": [
      "[INFO] [2023-02-17 16:56:10,863] [OpenBox-SPO] Iteration 128, objective value: [1.1763512415230728].\n"
     ]
    },
    {
     "name": "stderr",
     "output_type": "stream",
     "text": [
      "\r",
      " 13%|██████████                                                                     | 128/1000 [02:00<15:25,  1.06s/it]"
     ]
    },
    {
     "name": "stdout",
     "output_type": "stream",
     "text": [
      "[INFO] [2023-02-17 16:56:12,016] [OpenBox-SPO] Iteration 129, objective value: [1.0327532600356921].\n"
     ]
    },
    {
     "name": "stderr",
     "output_type": "stream",
     "text": [
      "\r",
      " 13%|██████████▏                                                                    | 129/1000 [02:01<15:48,  1.09s/it]"
     ]
    },
    {
     "name": "stdout",
     "output_type": "stream",
     "text": [
      "[INFO] [2023-02-17 16:56:12,898] [OpenBox-SPO] Iteration 130, objective value: [1.009022609308174].\n"
     ]
    },
    {
     "name": "stderr",
     "output_type": "stream",
     "text": [
      "\r",
      " 13%|██████████▎                                                                    | 130/1000 [02:02<14:53,  1.03s/it]"
     ]
    },
    {
     "name": "stdout",
     "output_type": "stream",
     "text": [
      "[INFO] [2023-02-17 16:56:13,995] [OpenBox-SPO] Iteration 131, objective value: [0.7200075462240353].\n"
     ]
    },
    {
     "name": "stderr",
     "output_type": "stream",
     "text": [
      "\r",
      " 13%|██████████▎                                                                    | 131/1000 [02:03<15:10,  1.05s/it]"
     ]
    },
    {
     "name": "stdout",
     "output_type": "stream",
     "text": [
      "[INFO] [2023-02-17 16:56:15,132] [OpenBox-SPO] Iteration 132, objective value: [0.7390775496658084].\n"
     ]
    },
    {
     "name": "stderr",
     "output_type": "stream",
     "text": [
      "\r",
      " 13%|██████████▍                                                                    | 132/1000 [02:04<15:32,  1.07s/it]"
     ]
    },
    {
     "name": "stdout",
     "output_type": "stream",
     "text": [
      "[INFO] [2023-02-17 16:56:16,453] [OpenBox-SPO] Iteration 133, objective value: [0.991534720655924].\n"
     ]
    },
    {
     "name": "stderr",
     "output_type": "stream",
     "text": [
      "\r",
      " 13%|██████████▌                                                                    | 133/1000 [02:06<16:35,  1.15s/it]"
     ]
    },
    {
     "name": "stdout",
     "output_type": "stream",
     "text": [
      "[INFO] [2023-02-17 16:56:16,453] [Advisor] Sample random config. rand_prob=0.100000.\n",
      "[INFO] [2023-02-17 16:56:16,454] [OpenBox-SPO] Iteration 134, objective value: [2.1684795083610418].\n",
      "[INFO] [2023-02-17 16:56:17,719] [OpenBox-SPO] Iteration 135, objective value: [0.9592193506410829].\n"
     ]
    },
    {
     "name": "stderr",
     "output_type": "stream",
     "text": [
      "\r",
      " 14%|██████████▋                                                                    | 135/1000 [02:07<13:07,  1.10it/s]"
     ]
    },
    {
     "name": "stdout",
     "output_type": "stream",
     "text": [
      "[INFO] [2023-02-17 16:56:18,954] [OpenBox-SPO] Iteration 136, objective value: [1.2102164308267793].\n"
     ]
    },
    {
     "name": "stderr",
     "output_type": "stream",
     "text": [
      "\r",
      " 14%|██████████▋                                                                    | 136/1000 [02:08<14:16,  1.01it/s]"
     ]
    },
    {
     "name": "stdout",
     "output_type": "stream",
     "text": [
      "[INFO] [2023-02-17 16:56:20,331] [OpenBox-SPO] Iteration 137, objective value: [1.807427892724647].\n"
     ]
    },
    {
     "name": "stderr",
     "output_type": "stream",
     "text": [
      "\r",
      " 14%|██████████▊                                                                    | 137/1000 [02:10<15:42,  1.09s/it]"
     ]
    },
    {
     "name": "stdout",
     "output_type": "stream",
     "text": [
      "[INFO] [2023-02-17 16:56:21,445] [OpenBox-SPO] Iteration 138, objective value: [0.9490887805803565].\n"
     ]
    },
    {
     "name": "stderr",
     "output_type": "stream",
     "text": [
      "\r",
      " 14%|██████████▉                                                                    | 138/1000 [02:11<15:46,  1.10s/it]"
     ]
    },
    {
     "name": "stdout",
     "output_type": "stream",
     "text": [
      "[INFO] [2023-02-17 16:56:21,446] [Advisor] Sample random config. rand_prob=0.100000.\n",
      "[INFO] [2023-02-17 16:56:21,447] [OpenBox-SPO] Iteration 139, objective value: [0.7895742131670227].\n",
      "[INFO] [2023-02-17 16:56:22,572] [OpenBox-SPO] Iteration 140, objective value: [1.1855860066350732].\n"
     ]
    },
    {
     "name": "stderr",
     "output_type": "stream",
     "text": [
      "\r",
      " 14%|███████████                                                                    | 140/1000 [02:12<12:23,  1.16it/s]"
     ]
    },
    {
     "name": "stdout",
     "output_type": "stream",
     "text": [
      "[INFO] [2023-02-17 16:56:23,726] [OpenBox-SPO] Iteration 141, objective value: [1.7108115896151515].\n"
     ]
    },
    {
     "name": "stderr",
     "output_type": "stream",
     "text": [
      "\r",
      " 14%|███████████▏                                                                   | 141/1000 [02:13<13:21,  1.07it/s]"
     ]
    },
    {
     "name": "stdout",
     "output_type": "stream",
     "text": [
      "[INFO] [2023-02-17 16:56:23,727] [Advisor] Sample random config. rand_prob=0.100000.\n",
      "[INFO] [2023-02-17 16:56:23,728] [OpenBox-SPO] Iteration 142, objective value: [0.5181996577219695].\n",
      "[INFO] [2023-02-17 16:56:24,954] [OpenBox-SPO] Iteration 143, objective value: [1.164906053487397].\n"
     ]
    },
    {
     "name": "stderr",
     "output_type": "stream",
     "text": [
      "\r",
      " 14%|███████████▎                                                                   | 143/1000 [02:14<11:28,  1.24it/s]"
     ]
    },
    {
     "name": "stdout",
     "output_type": "stream",
     "text": [
      "[INFO] [2023-02-17 16:56:25,833] [OpenBox-SPO] Iteration 144, objective value: [2.166508266011377].\n"
     ]
    },
    {
     "name": "stderr",
     "output_type": "stream",
     "text": [
      "\r",
      " 14%|███████████▍                                                                   | 144/1000 [02:15<11:42,  1.22it/s]"
     ]
    },
    {
     "name": "stdout",
     "output_type": "stream",
     "text": [
      "[INFO] [2023-02-17 16:56:25,834] [Advisor] Sample random config. rand_prob=0.100000.\n",
      "[INFO] [2023-02-17 16:56:25,835] [OpenBox-SPO] Iteration 145, objective value: [1.4778005178825815].\n",
      "[INFO] [2023-02-17 16:56:26,901] [OpenBox-SPO] Iteration 146, objective value: [0.8882429159447759].\n"
     ]
    },
    {
     "name": "stderr",
     "output_type": "stream",
     "text": [
      "\r",
      " 15%|███████████▌                                                                   | 146/1000 [02:16<10:05,  1.41it/s]"
     ]
    },
    {
     "name": "stdout",
     "output_type": "stream",
     "text": [
      "[INFO] [2023-02-17 16:56:27,993] [OpenBox-SPO] Iteration 147, objective value: [0.9603781619488405].\n"
     ]
    },
    {
     "name": "stderr",
     "output_type": "stream",
     "text": [
      "\r",
      " 15%|███████████▌                                                                   | 147/1000 [02:17<11:15,  1.26it/s]"
     ]
    },
    {
     "name": "stdout",
     "output_type": "stream",
     "text": [
      "[INFO] [2023-02-17 16:56:29,086] [OpenBox-SPO] Iteration 148, objective value: [0.41293810705086853].\n"
     ]
    },
    {
     "name": "stderr",
     "output_type": "stream",
     "text": [
      "\r",
      " 15%|███████████▋                                                                   | 148/1000 [02:18<12:16,  1.16it/s]"
     ]
    },
    {
     "name": "stdout",
     "output_type": "stream",
     "text": [
      "[INFO] [2023-02-17 16:56:30,035] [OpenBox-SPO] Iteration 149, objective value: [1.1314893013540324].\n"
     ]
    },
    {
     "name": "stderr",
     "output_type": "stream",
     "text": [
      "\r",
      " 15%|███████████▊                                                                   | 149/1000 [02:19<12:33,  1.13it/s]"
     ]
    },
    {
     "name": "stdout",
     "output_type": "stream",
     "text": [
      "[INFO] [2023-02-17 16:56:31,071] [OpenBox-SPO] Iteration 150, objective value: [0.8558105622685795].\n"
     ]
    },
    {
     "name": "stderr",
     "output_type": "stream",
     "text": [
      "\r",
      " 15%|███████████▊                                                                   | 150/1000 [02:20<13:06,  1.08it/s]"
     ]
    },
    {
     "name": "stdout",
     "output_type": "stream",
     "text": [
      "[INFO] [2023-02-17 16:56:32,143] [OpenBox-SPO] Iteration 151, objective value: [1.802794487317317].\n"
     ]
    },
    {
     "name": "stderr",
     "output_type": "stream",
     "text": [
      "\r",
      " 15%|███████████▉                                                                   | 151/1000 [02:21<13:39,  1.04it/s]"
     ]
    },
    {
     "name": "stdout",
     "output_type": "stream",
     "text": [
      "[INFO] [2023-02-17 16:56:32,144] [Advisor] Sample random config. rand_prob=0.100000.\n",
      "[INFO] [2023-02-17 16:56:32,145] [OpenBox-SPO] Iteration 152, objective value: [1.0138446379153896].\n",
      "[INFO] [2023-02-17 16:56:33,433] [OpenBox-SPO] Iteration 153, objective value: [1.9373185363800225].\n"
     ]
    },
    {
     "name": "stderr",
     "output_type": "stream",
     "text": [
      "\r",
      " 15%|████████████                                                                   | 153/1000 [02:23<11:38,  1.21it/s]"
     ]
    },
    {
     "name": "stdout",
     "output_type": "stream",
     "text": [
      "[INFO] [2023-02-17 16:56:34,497] [OpenBox-SPO] Iteration 154, objective value: [0.9020203014401339].\n"
     ]
    },
    {
     "name": "stderr",
     "output_type": "stream",
     "text": [
      "\r",
      " 15%|████████████▏                                                                  | 154/1000 [02:24<12:26,  1.13it/s]"
     ]
    },
    {
     "name": "stdout",
     "output_type": "stream",
     "text": [
      "[INFO] [2023-02-17 16:56:34,498] [Advisor] Sample random config. rand_prob=0.100000.\n",
      "[INFO] [2023-02-17 16:56:34,499] [OpenBox-SPO] Iteration 155, objective value: [3.0070895899945134].\n",
      "[INFO] [2023-02-17 16:56:35,601] [OpenBox-SPO] Iteration 156, objective value: [1.0371074032804963].\n"
     ]
    },
    {
     "name": "stderr",
     "output_type": "stream",
     "text": [
      "\r",
      " 16%|████████████▎                                                                  | 156/1000 [02:25<10:31,  1.34it/s]"
     ]
    },
    {
     "name": "stdout",
     "output_type": "stream",
     "text": [
      "[INFO] [2023-02-17 16:56:36,632] [OpenBox-SPO] Iteration 157, objective value: [0.9697605401786105].\n"
     ]
    },
    {
     "name": "stderr",
     "output_type": "stream",
     "text": [
      "\r",
      " 16%|████████████▍                                                                  | 157/1000 [02:26<11:24,  1.23it/s]"
     ]
    },
    {
     "name": "stdout",
     "output_type": "stream",
     "text": [
      "[INFO] [2023-02-17 16:56:37,838] [OpenBox-SPO] Iteration 158, objective value: [0.9717695656414922].\n"
     ]
    },
    {
     "name": "stderr",
     "output_type": "stream",
     "text": [
      "\r",
      " 16%|████████████▍                                                                  | 158/1000 [02:27<12:44,  1.10it/s]"
     ]
    },
    {
     "name": "stdout",
     "output_type": "stream",
     "text": [
      "[INFO] [2023-02-17 16:56:37,839] [Advisor] Sample random config. rand_prob=0.100000.\n",
      "[INFO] [2023-02-17 16:56:37,840] [OpenBox-SPO] Iteration 159, objective value: [0.7929767755752148].\n",
      "[INFO] [2023-02-17 16:56:39,207] [OpenBox-SPO] Iteration 160, objective value: [0.7230575795961128].\n"
     ]
    },
    {
     "name": "stderr",
     "output_type": "stream",
     "text": [
      "\r",
      " 16%|████████████▋                                                                  | 160/1000 [02:28<11:25,  1.23it/s]"
     ]
    },
    {
     "name": "stdout",
     "output_type": "stream",
     "text": [
      "[INFO] [2023-02-17 16:56:40,306] [OpenBox-SPO] Iteration 161, objective value: [0.8183212012906579].\n"
     ]
    },
    {
     "name": "stderr",
     "output_type": "stream",
     "text": [
      "\r",
      " 16%|████████████▋                                                                  | 161/1000 [02:30<12:18,  1.14it/s]"
     ]
    },
    {
     "name": "stdout",
     "output_type": "stream",
     "text": [
      "[INFO] [2023-02-17 16:56:41,732] [OpenBox-SPO] Iteration 162, objective value: [1.1660515254351744].\n"
     ]
    },
    {
     "name": "stderr",
     "output_type": "stream",
     "text": [
      "\r",
      " 16%|████████████▊                                                                  | 162/1000 [02:31<14:09,  1.01s/it]"
     ]
    },
    {
     "name": "stdout",
     "output_type": "stream",
     "text": [
      "[INFO] [2023-02-17 16:56:43,080] [OpenBox-SPO] Iteration 163, objective value: [0.8835148248981904].\n"
     ]
    },
    {
     "name": "stderr",
     "output_type": "stream",
     "text": [
      "\r",
      " 16%|████████████▉                                                                  | 163/1000 [02:32<15:20,  1.10s/it]"
     ]
    },
    {
     "name": "stdout",
     "output_type": "stream",
     "text": [
      "[INFO] [2023-02-17 16:56:44,236] [OpenBox-SPO] Iteration 164, objective value: [0.8954474193516054].\n"
     ]
    },
    {
     "name": "stderr",
     "output_type": "stream",
     "text": [
      "\r",
      " 16%|████████████▉                                                                  | 164/1000 [02:33<15:32,  1.12s/it]"
     ]
    },
    {
     "name": "stdout",
     "output_type": "stream",
     "text": [
      "[INFO] [2023-02-17 16:56:45,485] [OpenBox-SPO] Iteration 165, objective value: [0.9642879391787214].\n"
     ]
    },
    {
     "name": "stderr",
     "output_type": "stream",
     "text": [
      "\r",
      " 16%|█████████████                                                                  | 165/1000 [02:35<16:02,  1.15s/it]"
     ]
    },
    {
     "name": "stdout",
     "output_type": "stream",
     "text": [
      "[INFO] [2023-02-17 16:56:46,795] [OpenBox-SPO] Iteration 166, objective value: [0.8949604298168501].\n"
     ]
    },
    {
     "name": "stderr",
     "output_type": "stream",
     "text": [
      "\r",
      " 17%|█████████████                                                                  | 166/1000 [02:36<16:38,  1.20s/it]"
     ]
    },
    {
     "name": "stdout",
     "output_type": "stream",
     "text": [
      "[INFO] [2023-02-17 16:56:47,919] [OpenBox-SPO] Iteration 167, objective value: [1.2246094501417428].\n"
     ]
    },
    {
     "name": "stderr",
     "output_type": "stream",
     "text": [
      "\r",
      " 17%|█████████████▏                                                                 | 167/1000 [02:37<16:19,  1.18s/it]"
     ]
    },
    {
     "name": "stdout",
     "output_type": "stream",
     "text": [
      "[INFO] [2023-02-17 16:56:49,039] [OpenBox-SPO] Iteration 168, objective value: [0.958858226564953].\n"
     ]
    },
    {
     "name": "stderr",
     "output_type": "stream",
     "text": [
      "\r",
      " 17%|█████████████▎                                                                 | 168/1000 [02:38<16:05,  1.16s/it]"
     ]
    },
    {
     "name": "stdout",
     "output_type": "stream",
     "text": [
      "[INFO] [2023-02-17 16:56:50,327] [OpenBox-SPO] Iteration 169, objective value: [1.365095343784329].\n"
     ]
    },
    {
     "name": "stderr",
     "output_type": "stream",
     "text": [
      "\r",
      " 17%|█████████████▎                                                                 | 169/1000 [02:40<16:35,  1.20s/it]"
     ]
    },
    {
     "name": "stdout",
     "output_type": "stream",
     "text": [
      "[INFO] [2023-02-17 16:56:51,559] [OpenBox-SPO] Iteration 170, objective value: [1.0826351621526344].\n"
     ]
    },
    {
     "name": "stderr",
     "output_type": "stream",
     "text": [
      "\r",
      " 17%|█████████████▍                                                                 | 170/1000 [02:41<16:42,  1.21s/it]"
     ]
    },
    {
     "name": "stdout",
     "output_type": "stream",
     "text": [
      "[INFO] [2023-02-17 16:56:52,706] [OpenBox-SPO] Iteration 171, objective value: [0.8091540981546543].\n"
     ]
    },
    {
     "name": "stderr",
     "output_type": "stream",
     "text": [
      "\r",
      " 17%|█████████████▌                                                                 | 171/1000 [02:42<16:26,  1.19s/it]"
     ]
    },
    {
     "name": "stdout",
     "output_type": "stream",
     "text": [
      "[INFO] [2023-02-17 16:56:53,995] [OpenBox-SPO] Iteration 172, objective value: [0.8572922428097615].\n"
     ]
    },
    {
     "name": "stderr",
     "output_type": "stream",
     "text": [
      "\r",
      " 17%|█████████████▌                                                                 | 172/1000 [02:43<16:49,  1.22s/it]"
     ]
    },
    {
     "name": "stdout",
     "output_type": "stream",
     "text": [
      "[INFO] [2023-02-17 16:56:55,109] [OpenBox-SPO] Iteration 173, objective value: [0.7952820432948191].\n"
     ]
    },
    {
     "name": "stderr",
     "output_type": "stream",
     "text": [
      "\r",
      " 17%|█████████████▋                                                                 | 173/1000 [02:44<16:22,  1.19s/it]"
     ]
    },
    {
     "name": "stdout",
     "output_type": "stream",
     "text": [
      "[INFO] [2023-02-17 16:56:56,062] [OpenBox-SPO] Iteration 174, objective value: [0.9040297681410058].\n"
     ]
    },
    {
     "name": "stderr",
     "output_type": "stream",
     "text": [
      "\r",
      " 17%|█████████████▋                                                                 | 174/1000 [02:45<15:23,  1.12s/it]"
     ]
    },
    {
     "name": "stdout",
     "output_type": "stream",
     "text": [
      "[INFO] [2023-02-17 16:56:57,232] [OpenBox-SPO] Iteration 175, objective value: [1.4097298407744412].\n"
     ]
    },
    {
     "name": "stderr",
     "output_type": "stream",
     "text": [
      "\r",
      " 18%|█████████████▊                                                                 | 175/1000 [02:46<15:34,  1.13s/it]"
     ]
    },
    {
     "name": "stdout",
     "output_type": "stream",
     "text": [
      "[INFO] [2023-02-17 16:56:58,593] [OpenBox-SPO] Iteration 176, objective value: [1.6040313824060877].\n"
     ]
    },
    {
     "name": "stderr",
     "output_type": "stream",
     "text": [
      "\r",
      " 18%|█████████████▉                                                                 | 176/1000 [02:48<16:29,  1.20s/it]"
     ]
    },
    {
     "name": "stdout",
     "output_type": "stream",
     "text": [
      "[INFO] [2023-02-17 16:56:59,594] [OpenBox-SPO] Iteration 177, objective value: [1.0329035915696638].\n"
     ]
    },
    {
     "name": "stderr",
     "output_type": "stream",
     "text": [
      "\r",
      " 18%|█████████████▉                                                                 | 177/1000 [02:49<15:39,  1.14s/it]"
     ]
    },
    {
     "name": "stdout",
     "output_type": "stream",
     "text": [
      "[INFO] [2023-02-17 16:57:00,793] [OpenBox-SPO] Iteration 178, objective value: [1.048571014394441].\n"
     ]
    },
    {
     "name": "stderr",
     "output_type": "stream",
     "text": [
      "\r",
      " 18%|██████████████                                                                 | 178/1000 [02:50<15:52,  1.16s/it]"
     ]
    },
    {
     "name": "stdout",
     "output_type": "stream",
     "text": [
      "[INFO] [2023-02-17 16:57:01,834] [OpenBox-SPO] Iteration 179, objective value: [0.9132175210720358].\n"
     ]
    },
    {
     "name": "stderr",
     "output_type": "stream",
     "text": [
      "\r",
      " 18%|██████████████▏                                                                | 179/1000 [02:51<15:22,  1.12s/it]"
     ]
    },
    {
     "name": "stdout",
     "output_type": "stream",
     "text": [
      "[INFO] [2023-02-17 16:57:02,894] [OpenBox-SPO] Iteration 180, objective value: [0.949934894349677].\n"
     ]
    },
    {
     "name": "stderr",
     "output_type": "stream",
     "text": [
      "\r",
      " 18%|██████████████▏                                                                | 180/1000 [02:52<15:05,  1.10s/it]"
     ]
    },
    {
     "name": "stdout",
     "output_type": "stream",
     "text": [
      "[INFO] [2023-02-17 16:57:04,142] [OpenBox-SPO] Iteration 181, objective value: [0.9461882727359333].\n"
     ]
    },
    {
     "name": "stderr",
     "output_type": "stream",
     "text": [
      "\r",
      " 18%|██████████████▎                                                                | 181/1000 [02:53<15:39,  1.15s/it]"
     ]
    },
    {
     "name": "stdout",
     "output_type": "stream",
     "text": [
      "[INFO] [2023-02-17 16:57:05,185] [OpenBox-SPO] Iteration 182, objective value: [0.7343607939345654].\n"
     ]
    },
    {
     "name": "stderr",
     "output_type": "stream",
     "text": [
      "\r",
      " 18%|██████████████▍                                                                | 182/1000 [02:54<15:13,  1.12s/it]"
     ]
    },
    {
     "name": "stdout",
     "output_type": "stream",
     "text": [
      "[INFO] [2023-02-17 16:57:06,220] [OpenBox-SPO] Iteration 183, objective value: [1.3145313031686658].\n"
     ]
    },
    {
     "name": "stderr",
     "output_type": "stream",
     "text": [
      "\r",
      " 18%|██████████████▍                                                                | 183/1000 [02:55<14:52,  1.09s/it]"
     ]
    },
    {
     "name": "stdout",
     "output_type": "stream",
     "text": [
      "[INFO] [2023-02-17 16:57:07,525] [OpenBox-SPO] Iteration 184, objective value: [1.0622705381928104].\n"
     ]
    },
    {
     "name": "stderr",
     "output_type": "stream",
     "text": [
      "\r",
      " 18%|██████████████▌                                                                | 184/1000 [02:57<15:43,  1.16s/it]"
     ]
    },
    {
     "name": "stdout",
     "output_type": "stream",
     "text": [
      "[INFO] [2023-02-17 16:57:08,695] [OpenBox-SPO] Iteration 185, objective value: [0.7501182595314475].\n"
     ]
    },
    {
     "name": "stderr",
     "output_type": "stream",
     "text": [
      "\r",
      " 18%|██████████████▌                                                                | 185/1000 [02:58<15:45,  1.16s/it]"
     ]
    },
    {
     "name": "stdout",
     "output_type": "stream",
     "text": [
      "[INFO] [2023-02-17 16:57:09,872] [OpenBox-SPO] Iteration 186, objective value: [2.1091442744080915].\n"
     ]
    },
    {
     "name": "stderr",
     "output_type": "stream",
     "text": [
      "\r",
      " 19%|██████████████▋                                                                | 186/1000 [02:59<15:48,  1.16s/it]"
     ]
    },
    {
     "name": "stdout",
     "output_type": "stream",
     "text": [
      "[INFO] [2023-02-17 16:57:11,097] [OpenBox-SPO] Iteration 187, objective value: [1.1046611744526396].\n"
     ]
    },
    {
     "name": "stderr",
     "output_type": "stream",
     "text": [
      "\r",
      " 19%|██████████████▊                                                                | 187/1000 [03:00<16:02,  1.18s/it]"
     ]
    },
    {
     "name": "stdout",
     "output_type": "stream",
     "text": [
      "[INFO] [2023-02-17 16:57:12,348] [OpenBox-SPO] Iteration 188, objective value: [0.6782210248657917].\n"
     ]
    },
    {
     "name": "stderr",
     "output_type": "stream",
     "text": [
      "\r",
      " 19%|██████████████▊                                                                | 188/1000 [03:02<16:17,  1.20s/it]"
     ]
    },
    {
     "name": "stdout",
     "output_type": "stream",
     "text": [
      "[INFO] [2023-02-17 16:57:13,575] [OpenBox-SPO] Iteration 189, objective value: [0.5309683183756825].\n"
     ]
    },
    {
     "name": "stderr",
     "output_type": "stream",
     "text": [
      "\r",
      " 19%|██████████████▉                                                                | 189/1000 [03:03<16:21,  1.21s/it]"
     ]
    },
    {
     "name": "stdout",
     "output_type": "stream",
     "text": [
      "[INFO] [2023-02-17 16:57:14,643] [OpenBox-SPO] Iteration 190, objective value: [0.8602090494482991].\n"
     ]
    },
    {
     "name": "stderr",
     "output_type": "stream",
     "text": [
      "\r",
      " 19%|███████████████                                                                | 190/1000 [03:04<15:45,  1.17s/it]"
     ]
    },
    {
     "name": "stdout",
     "output_type": "stream",
     "text": [
      "[INFO] [2023-02-17 16:57:15,643] [OpenBox-SPO] Iteration 191, objective value: [0.7505713735928636].\n"
     ]
    },
    {
     "name": "stderr",
     "output_type": "stream",
     "text": [
      "\r",
      " 19%|███████████████                                                                | 191/1000 [03:05<15:04,  1.12s/it]"
     ]
    },
    {
     "name": "stdout",
     "output_type": "stream",
     "text": [
      "[INFO] [2023-02-17 16:57:16,737] [OpenBox-SPO] Iteration 192, objective value: [0.6938025022100354].\n"
     ]
    },
    {
     "name": "stderr",
     "output_type": "stream",
     "text": [
      "\r",
      " 19%|███████████████▏                                                               | 192/1000 [03:06<14:57,  1.11s/it]"
     ]
    },
    {
     "name": "stdout",
     "output_type": "stream",
     "text": [
      "[INFO] [2023-02-17 16:57:17,658] [OpenBox-SPO] Iteration 193, objective value: [1.0176705119025629].\n"
     ]
    },
    {
     "name": "stderr",
     "output_type": "stream",
     "text": [
      "\r",
      " 19%|███████████████▏                                                               | 193/1000 [03:07<14:10,  1.05s/it]"
     ]
    },
    {
     "name": "stdout",
     "output_type": "stream",
     "text": [
      "[INFO] [2023-02-17 16:57:18,907] [OpenBox-SPO] Iteration 194, objective value: [2.7979000177038236].\n"
     ]
    },
    {
     "name": "stderr",
     "output_type": "stream",
     "text": [
      "\r",
      " 19%|███████████████▎                                                               | 194/1000 [03:08<14:56,  1.11s/it]"
     ]
    },
    {
     "name": "stdout",
     "output_type": "stream",
     "text": [
      "[INFO] [2023-02-17 16:57:20,015] [OpenBox-SPO] Iteration 195, objective value: [1.088213798501328].\n"
     ]
    },
    {
     "name": "stderr",
     "output_type": "stream",
     "text": [
      "\r",
      " 20%|███████████████▍                                                               | 195/1000 [03:09<14:54,  1.11s/it]"
     ]
    },
    {
     "name": "stdout",
     "output_type": "stream",
     "text": [
      "[INFO] [2023-02-17 16:57:20,929] [OpenBox-SPO] Iteration 196, objective value: [0.6800000899734928].\n"
     ]
    },
    {
     "name": "stderr",
     "output_type": "stream",
     "text": [
      "\r",
      " 20%|███████████████▍                                                               | 196/1000 [03:10<14:05,  1.05s/it]"
     ]
    },
    {
     "name": "stdout",
     "output_type": "stream",
     "text": [
      "[INFO] [2023-02-17 16:57:22,275] [OpenBox-SPO] Iteration 197, objective value: [2.0602221467716584].\n"
     ]
    },
    {
     "name": "stderr",
     "output_type": "stream",
     "text": [
      "\r",
      " 20%|███████████████▌                                                               | 197/1000 [03:11<15:15,  1.14s/it]"
     ]
    },
    {
     "name": "stdout",
     "output_type": "stream",
     "text": [
      "[INFO] [2023-02-17 16:57:23,581] [OpenBox-SPO] Iteration 198, objective value: [1.0869560742772855].\n"
     ]
    },
    {
     "name": "stderr",
     "output_type": "stream",
     "text": [
      "\r",
      " 20%|███████████████▋                                                               | 198/1000 [03:13<15:54,  1.19s/it]"
     ]
    },
    {
     "name": "stdout",
     "output_type": "stream",
     "text": [
      "[INFO] [2023-02-17 16:57:24,695] [OpenBox-SPO] Iteration 199, objective value: [1.9396839431807467].\n"
     ]
    },
    {
     "name": "stderr",
     "output_type": "stream",
     "text": [
      "\r",
      " 20%|███████████████▋                                                               | 199/1000 [03:14<15:34,  1.17s/it]"
     ]
    },
    {
     "name": "stdout",
     "output_type": "stream",
     "text": [
      "[INFO] [2023-02-17 16:57:25,731] [OpenBox-SPO] Iteration 200, objective value: [2.1464996971886676].\n"
     ]
    },
    {
     "name": "stderr",
     "output_type": "stream",
     "text": [
      "\r",
      " 20%|███████████████▊                                                               | 200/1000 [03:15<15:02,  1.13s/it]"
     ]
    },
    {
     "name": "stdout",
     "output_type": "stream",
     "text": [
      "[INFO] [2023-02-17 16:57:26,975] [OpenBox-SPO] Iteration 201, objective value: [0.8518069214039535].\n"
     ]
    },
    {
     "name": "stderr",
     "output_type": "stream",
     "text": [
      "\r",
      " 20%|███████████████▉                                                               | 201/1000 [03:16<15:29,  1.16s/it]"
     ]
    },
    {
     "name": "stdout",
     "output_type": "stream",
     "text": [
      "[INFO] [2023-02-17 16:57:28,134] [OpenBox-SPO] Iteration 202, objective value: [0.9519654555972693].\n"
     ]
    },
    {
     "name": "stderr",
     "output_type": "stream",
     "text": [
      "\r",
      " 20%|███████████████▉                                                               | 202/1000 [03:17<15:27,  1.16s/it]"
     ]
    },
    {
     "name": "stdout",
     "output_type": "stream",
     "text": [
      "[INFO] [2023-02-17 16:57:29,201] [OpenBox-SPO] Iteration 203, objective value: [1.2926547725257242].\n"
     ]
    },
    {
     "name": "stderr",
     "output_type": "stream",
     "text": [
      "\r",
      " 20%|████████████████                                                               | 203/1000 [03:18<15:02,  1.13s/it]"
     ]
    },
    {
     "name": "stdout",
     "output_type": "stream",
     "text": [
      "[INFO] [2023-02-17 16:57:30,454] [OpenBox-SPO] Iteration 204, objective value: [0.7517057002191357].\n"
     ]
    },
    {
     "name": "stderr",
     "output_type": "stream",
     "text": [
      "\r",
      " 20%|████████████████                                                               | 204/1000 [03:20<15:30,  1.17s/it]"
     ]
    },
    {
     "name": "stdout",
     "output_type": "stream",
     "text": [
      "[INFO] [2023-02-17 16:57:31,518] [OpenBox-SPO] Iteration 205, objective value: [2.2914693942092907].\n"
     ]
    },
    {
     "name": "stderr",
     "output_type": "stream",
     "text": [
      "\r",
      " 20%|████████████████▏                                                              | 205/1000 [03:21<15:04,  1.14s/it]"
     ]
    },
    {
     "name": "stdout",
     "output_type": "stream",
     "text": [
      "[INFO] [2023-02-17 16:57:32,617] [OpenBox-SPO] Iteration 206, objective value: [1.0779824375159595].\n"
     ]
    },
    {
     "name": "stderr",
     "output_type": "stream",
     "text": [
      "\r",
      " 21%|████████████████▎                                                              | 206/1000 [03:22<14:53,  1.13s/it]"
     ]
    },
    {
     "name": "stdout",
     "output_type": "stream",
     "text": [
      "[INFO] [2023-02-17 16:57:34,083] [OpenBox-SPO] Iteration 207, objective value: [1.0943964476564878].\n"
     ]
    },
    {
     "name": "stderr",
     "output_type": "stream",
     "text": [
      "\r",
      " 21%|████████████████▎                                                              | 207/1000 [03:23<16:13,  1.23s/it]"
     ]
    },
    {
     "name": "stdout",
     "output_type": "stream",
     "text": [
      "[INFO] [2023-02-17 16:57:35,221] [OpenBox-SPO] Iteration 208, objective value: [0.6452661449420505].\n"
     ]
    },
    {
     "name": "stderr",
     "output_type": "stream",
     "text": [
      "\r",
      " 21%|████████████████▍                                                              | 208/1000 [03:24<15:50,  1.20s/it]"
     ]
    },
    {
     "name": "stdout",
     "output_type": "stream",
     "text": [
      "[INFO] [2023-02-17 16:57:36,489] [OpenBox-SPO] Iteration 209, objective value: [1.2431844694734167].\n"
     ]
    },
    {
     "name": "stderr",
     "output_type": "stream",
     "text": [
      "\r",
      " 21%|████████████████▌                                                              | 209/1000 [03:26<16:05,  1.22s/it]"
     ]
    },
    {
     "name": "stdout",
     "output_type": "stream",
     "text": [
      "[INFO] [2023-02-17 16:57:37,668] [OpenBox-SPO] Iteration 210, objective value: [1.0287243691727055].\n"
     ]
    },
    {
     "name": "stderr",
     "output_type": "stream",
     "text": [
      "\r",
      " 21%|████████████████▌                                                              | 210/1000 [03:27<15:54,  1.21s/it]"
     ]
    },
    {
     "name": "stdout",
     "output_type": "stream",
     "text": [
      "[INFO] [2023-02-17 16:57:38,922] [OpenBox-SPO] Iteration 211, objective value: [0.9810980081079124].\n"
     ]
    },
    {
     "name": "stderr",
     "output_type": "stream",
     "text": [
      "\r",
      " 21%|████████████████▋                                                              | 211/1000 [03:28<16:04,  1.22s/it]"
     ]
    },
    {
     "name": "stdout",
     "output_type": "stream",
     "text": [
      "[INFO] [2023-02-17 16:57:39,932] [OpenBox-SPO] Iteration 212, objective value: [0.9822820920196648].\n"
     ]
    },
    {
     "name": "stderr",
     "output_type": "stream",
     "text": [
      "\r",
      " 21%|████████████████▋                                                              | 212/1000 [03:29<15:13,  1.16s/it]"
     ]
    },
    {
     "name": "stdout",
     "output_type": "stream",
     "text": [
      "[INFO] [2023-02-17 16:57:41,371] [OpenBox-SPO] Iteration 213, objective value: [0.7660617972972465].\n"
     ]
    },
    {
     "name": "stderr",
     "output_type": "stream",
     "text": [
      "\r",
      " 21%|████████████████▊                                                              | 213/1000 [03:31<16:18,  1.24s/it]"
     ]
    },
    {
     "name": "stdout",
     "output_type": "stream",
     "text": [
      "[INFO] [2023-02-17 16:57:42,506] [OpenBox-SPO] Iteration 214, objective value: [1.0372162031303438].\n"
     ]
    },
    {
     "name": "stderr",
     "output_type": "stream",
     "text": [
      "\r",
      " 21%|████████████████▉                                                              | 214/1000 [03:32<15:51,  1.21s/it]"
     ]
    },
    {
     "name": "stdout",
     "output_type": "stream",
     "text": [
      "[INFO] [2023-02-17 16:57:43,538] [OpenBox-SPO] Iteration 215, objective value: [1.3684508144812049].\n"
     ]
    },
    {
     "name": "stderr",
     "output_type": "stream",
     "text": [
      "\r",
      " 22%|████████████████▉                                                              | 215/1000 [03:33<15:08,  1.16s/it]"
     ]
    },
    {
     "name": "stdout",
     "output_type": "stream",
     "text": [
      "[INFO] [2023-02-17 16:57:44,716] [OpenBox-SPO] Iteration 216, objective value: [1.2462983989673284].\n"
     ]
    },
    {
     "name": "stderr",
     "output_type": "stream",
     "text": [
      "\r",
      " 22%|█████████████████                                                              | 216/1000 [03:34<15:11,  1.16s/it]"
     ]
    },
    {
     "name": "stdout",
     "output_type": "stream",
     "text": [
      "[INFO] [2023-02-17 16:57:44,716] [Advisor] Sample random config. rand_prob=0.100000.\n",
      "[INFO] [2023-02-17 16:57:44,717] [OpenBox-SPO] Iteration 217, objective value: [2.458612509463112].\n",
      "[INFO] [2023-02-17 16:57:45,755] [OpenBox-SPO] Iteration 218, objective value: [0.7850503234121072].\n"
     ]
    },
    {
     "name": "stderr",
     "output_type": "stream",
     "text": [
      "\r",
      " 22%|█████████████████▏                                                             | 218/1000 [03:35<11:17,  1.15it/s]"
     ]
    },
    {
     "name": "stdout",
     "output_type": "stream",
     "text": [
      "[INFO] [2023-02-17 16:57:46,841] [OpenBox-SPO] Iteration 219, objective value: [2.541604324180185].\n"
     ]
    },
    {
     "name": "stderr",
     "output_type": "stream",
     "text": [
      "\r",
      " 22%|█████████████████▎                                                             | 219/1000 [03:36<11:59,  1.09it/s]"
     ]
    },
    {
     "name": "stdout",
     "output_type": "stream",
     "text": [
      "[INFO] [2023-02-17 16:57:48,230] [OpenBox-SPO] Iteration 220, objective value: [0.8367151787030391].\n"
     ]
    },
    {
     "name": "stderr",
     "output_type": "stream",
     "text": [
      "\r",
      " 22%|█████████████████▍                                                             | 220/1000 [03:37<13:33,  1.04s/it]"
     ]
    },
    {
     "name": "stdout",
     "output_type": "stream",
     "text": [
      "[INFO] [2023-02-17 16:57:48,231] [Advisor] Sample random config. rand_prob=0.100000.\n",
      "[INFO] [2023-02-17 16:57:48,232] [OpenBox-SPO] Iteration 221, objective value: [1.0471914719691884].\n",
      "[INFO] [2023-02-17 16:57:49,484] [OpenBox-SPO] Iteration 222, objective value: [0.819923120081709].\n"
     ]
    },
    {
     "name": "stderr",
     "output_type": "stream",
     "text": [
      "\r",
      " 22%|█████████████████▌                                                             | 222/1000 [03:39<11:12,  1.16it/s]"
     ]
    },
    {
     "name": "stdout",
     "output_type": "stream",
     "text": [
      "[INFO] [2023-02-17 16:57:50,831] [OpenBox-SPO] Iteration 223, objective value: [0.8560410833239217].\n"
     ]
    },
    {
     "name": "stderr",
     "output_type": "stream",
     "text": [
      "\r",
      " 22%|█████████████████▌                                                             | 223/1000 [03:40<12:39,  1.02it/s]"
     ]
    },
    {
     "name": "stdout",
     "output_type": "stream",
     "text": [
      "[INFO] [2023-02-17 16:57:50,832] [Advisor] Sample random config. rand_prob=0.100000.\n",
      "[INFO] [2023-02-17 16:57:50,833] [OpenBox-SPO] Iteration 224, objective value: [0.7528160550086596].\n",
      "[INFO] [2023-02-17 16:57:52,279] [OpenBox-SPO] Iteration 225, objective value: [2.2715440028524823].\n"
     ]
    },
    {
     "name": "stderr",
     "output_type": "stream",
     "text": [
      "\r",
      " 22%|█████████████████▊                                                             | 225/1000 [03:41<11:18,  1.14it/s]"
     ]
    },
    {
     "name": "stdout",
     "output_type": "stream",
     "text": [
      "[INFO] [2023-02-17 16:57:53,466] [OpenBox-SPO] Iteration 226, objective value: [1.0974271647369622].\n"
     ]
    },
    {
     "name": "stderr",
     "output_type": "stream",
     "text": [
      "\r",
      " 23%|█████████████████▊                                                             | 226/1000 [03:43<12:11,  1.06it/s]"
     ]
    },
    {
     "name": "stdout",
     "output_type": "stream",
     "text": [
      "[INFO] [2023-02-17 16:57:54,958] [OpenBox-SPO] Iteration 227, objective value: [0.99746946243505].\n"
     ]
    },
    {
     "name": "stderr",
     "output_type": "stream",
     "text": [
      "\r",
      " 23%|█████████████████▉                                                             | 227/1000 [03:44<13:52,  1.08s/it]"
     ]
    },
    {
     "name": "stdout",
     "output_type": "stream",
     "text": [
      "[INFO] [2023-02-17 16:57:54,959] [Advisor] Sample random config. rand_prob=0.100000.\n",
      "[INFO] [2023-02-17 16:57:54,960] [OpenBox-SPO] Iteration 228, objective value: [1.9819055396981067].\n",
      "[INFO] [2023-02-17 16:57:56,196] [OpenBox-SPO] Iteration 229, objective value: [5.203661859586829].\n"
     ]
    },
    {
     "name": "stderr",
     "output_type": "stream",
     "text": [
      "\r",
      " 23%|██████████████████                                                             | 229/1000 [03:45<11:26,  1.12it/s]"
     ]
    },
    {
     "name": "stdout",
     "output_type": "stream",
     "text": [
      "[INFO] [2023-02-17 16:57:57,451] [OpenBox-SPO] Iteration 230, objective value: [1.0619696117303152].\n"
     ]
    },
    {
     "name": "stderr",
     "output_type": "stream",
     "text": [
      "\r",
      " 23%|██████████████████▏                                                            | 230/1000 [03:47<12:28,  1.03it/s]"
     ]
    },
    {
     "name": "stdout",
     "output_type": "stream",
     "text": [
      "[INFO] [2023-02-17 16:57:58,450] [OpenBox-SPO] Iteration 231, objective value: [1.4532046503824445].\n"
     ]
    },
    {
     "name": "stderr",
     "output_type": "stream",
     "text": [
      "\r",
      " 23%|██████████████████▏                                                            | 231/1000 [03:48<12:33,  1.02it/s]"
     ]
    },
    {
     "name": "stdout",
     "output_type": "stream",
     "text": [
      "[INFO] [2023-02-17 16:57:59,413] [OpenBox-SPO] Iteration 232, objective value: [1.066306107891915].\n"
     ]
    },
    {
     "name": "stderr",
     "output_type": "stream",
     "text": [
      "\r",
      " 23%|██████████████████▎                                                            | 232/1000 [03:49<12:28,  1.03it/s]"
     ]
    },
    {
     "name": "stdout",
     "output_type": "stream",
     "text": [
      "[INFO] [2023-02-17 16:58:00,812] [OpenBox-SPO] Iteration 233, objective value: [1.4206310423582407].\n"
     ]
    },
    {
     "name": "stderr",
     "output_type": "stream",
     "text": [
      "\r",
      " 23%|██████████████████▍                                                            | 233/1000 [03:50<13:55,  1.09s/it]"
     ]
    },
    {
     "name": "stdout",
     "output_type": "stream",
     "text": [
      "[INFO] [2023-02-17 16:58:02,106] [OpenBox-SPO] Iteration 234, objective value: [1.1179648833362301].\n"
     ]
    },
    {
     "name": "stderr",
     "output_type": "stream",
     "text": [
      "\r",
      " 23%|██████████████████▍                                                            | 234/1000 [03:51<14:37,  1.15s/it]"
     ]
    },
    {
     "name": "stdout",
     "output_type": "stream",
     "text": [
      "[INFO] [2023-02-17 16:58:02,107] [Advisor] Sample random config. rand_prob=0.100000.\n",
      "[INFO] [2023-02-17 16:58:02,108] [OpenBox-SPO] Iteration 235, objective value: [2.5786222340489444].\n",
      "[INFO] [2023-02-17 16:58:03,216] [OpenBox-SPO] Iteration 236, objective value: [1.0478198091100377].\n"
     ]
    },
    {
     "name": "stderr",
     "output_type": "stream",
     "text": [
      "\r",
      " 24%|██████████████████▋                                                            | 236/1000 [03:52<11:15,  1.13it/s]"
     ]
    },
    {
     "name": "stdout",
     "output_type": "stream",
     "text": [
      "[INFO] [2023-02-17 16:58:04,521] [OpenBox-SPO] Iteration 237, objective value: [1.0055563770548988].\n"
     ]
    },
    {
     "name": "stderr",
     "output_type": "stream",
     "text": [
      "\r",
      " 24%|██████████████████▋                                                            | 237/1000 [03:54<12:32,  1.01it/s]"
     ]
    },
    {
     "name": "stdout",
     "output_type": "stream",
     "text": [
      "[INFO] [2023-02-17 16:58:05,770] [OpenBox-SPO] Iteration 238, objective value: [1.1033896058533323].\n"
     ]
    },
    {
     "name": "stderr",
     "output_type": "stream",
     "text": [
      "\r",
      " 24%|██████████████████▊                                                            | 238/1000 [03:55<13:22,  1.05s/it]"
     ]
    },
    {
     "name": "stdout",
     "output_type": "stream",
     "text": [
      "[INFO] [2023-02-17 16:58:06,831] [OpenBox-SPO] Iteration 239, objective value: [1.0316625186074282].\n"
     ]
    },
    {
     "name": "stderr",
     "output_type": "stream",
     "text": [
      "\r",
      " 24%|██████████████████▉                                                            | 239/1000 [03:56<13:22,  1.05s/it]"
     ]
    },
    {
     "name": "stdout",
     "output_type": "stream",
     "text": [
      "[INFO] [2023-02-17 16:58:07,894] [OpenBox-SPO] Iteration 240, objective value: [1.6323772575607085].\n"
     ]
    },
    {
     "name": "stderr",
     "output_type": "stream",
     "text": [
      "\r",
      " 24%|██████████████████▉                                                            | 240/1000 [03:57<13:23,  1.06s/it]"
     ]
    },
    {
     "name": "stdout",
     "output_type": "stream",
     "text": [
      "[INFO] [2023-02-17 16:58:07,895] [Advisor] Sample random config. rand_prob=0.100000.\n",
      "[INFO] [2023-02-17 16:58:07,896] [OpenBox-SPO] Iteration 241, objective value: [0.8952135634550986].\n",
      "[INFO] [2023-02-17 16:58:09,235] [OpenBox-SPO] Iteration 242, objective value: [1.2162393719647124].\n"
     ]
    },
    {
     "name": "stderr",
     "output_type": "stream",
     "text": [
      "\r",
      " 24%|███████████████████                                                            | 242/1000 [03:58<11:12,  1.13it/s]"
     ]
    },
    {
     "name": "stdout",
     "output_type": "stream",
     "text": [
      "[INFO] [2023-02-17 16:58:10,596] [OpenBox-SPO] Iteration 243, objective value: [1.058492487051395].\n"
     ]
    },
    {
     "name": "stderr",
     "output_type": "stream",
     "text": [
      "\r",
      " 24%|███████████████████▏                                                           | 243/1000 [04:00<12:37,  1.00s/it]"
     ]
    },
    {
     "name": "stdout",
     "output_type": "stream",
     "text": [
      "[INFO] [2023-02-17 16:58:11,886] [OpenBox-SPO] Iteration 244, objective value: [1.0159943718014242].\n"
     ]
    },
    {
     "name": "stderr",
     "output_type": "stream",
     "text": [
      "\r",
      " 24%|███████████████████▎                                                           | 244/1000 [04:01<13:32,  1.07s/it]"
     ]
    },
    {
     "name": "stdout",
     "output_type": "stream",
     "text": [
      "[INFO] [2023-02-17 16:58:13,093] [OpenBox-SPO] Iteration 245, objective value: [0.8513385303325979].\n"
     ]
    },
    {
     "name": "stderr",
     "output_type": "stream",
     "text": [
      "\r",
      " 24%|███████████████████▎                                                           | 245/1000 [04:02<13:57,  1.11s/it]"
     ]
    },
    {
     "name": "stdout",
     "output_type": "stream",
     "text": [
      "[INFO] [2023-02-17 16:58:14,358] [OpenBox-SPO] Iteration 246, objective value: [1.0722766714596896].\n"
     ]
    },
    {
     "name": "stderr",
     "output_type": "stream",
     "text": [
      "\r",
      " 25%|███████████████████▍                                                           | 246/1000 [04:04<14:28,  1.15s/it]"
     ]
    },
    {
     "name": "stdout",
     "output_type": "stream",
     "text": [
      "[INFO] [2023-02-17 16:58:15,653] [OpenBox-SPO] Iteration 247, objective value: [1.2492381162298163].\n"
     ]
    },
    {
     "name": "stderr",
     "output_type": "stream",
     "text": [
      "\r",
      " 25%|███████████████████▌                                                           | 247/1000 [04:05<14:58,  1.19s/it]"
     ]
    },
    {
     "name": "stdout",
     "output_type": "stream",
     "text": [
      "[INFO] [2023-02-17 16:58:16,886] [OpenBox-SPO] Iteration 248, objective value: [0.9687274212355748].\n"
     ]
    },
    {
     "name": "stderr",
     "output_type": "stream",
     "text": [
      "\r",
      " 25%|███████████████████▌                                                           | 248/1000 [04:06<15:05,  1.20s/it]"
     ]
    },
    {
     "name": "stdout",
     "output_type": "stream",
     "text": [
      "[INFO] [2023-02-17 16:58:16,887] [Advisor] Sample random config. rand_prob=0.100000.\n",
      "[INFO] [2023-02-17 16:58:16,888] [OpenBox-SPO] Iteration 249, objective value: [1.4540587562748761].\n",
      "[INFO] [2023-02-17 16:58:17,994] [OpenBox-SPO] Iteration 250, objective value: [1.3650859439204484].\n"
     ]
    },
    {
     "name": "stderr",
     "output_type": "stream",
     "text": [
      "\r",
      " 25%|███████████████████▊                                                           | 250/1000 [04:07<11:23,  1.10it/s]"
     ]
    },
    {
     "name": "stdout",
     "output_type": "stream",
     "text": [
      "[INFO] [2023-02-17 16:58:19,279] [OpenBox-SPO] Iteration 251, objective value: [1.1122728732816005].\n"
     ]
    },
    {
     "name": "stderr",
     "output_type": "stream",
     "text": [
      "\r",
      " 25%|███████████████████▊                                                           | 251/1000 [04:08<12:30,  1.00s/it]"
     ]
    },
    {
     "name": "stdout",
     "output_type": "stream",
     "text": [
      "[INFO] [2023-02-17 16:58:20,464] [OpenBox-SPO] Iteration 252, objective value: [1.0236648739098264].\n"
     ]
    },
    {
     "name": "stderr",
     "output_type": "stream",
     "text": [
      "\r",
      " 25%|███████████████████▉                                                           | 252/1000 [04:10<13:05,  1.05s/it]"
     ]
    },
    {
     "name": "stdout",
     "output_type": "stream",
     "text": [
      "[INFO] [2023-02-17 16:58:20,465] [Advisor] Sample random config. rand_prob=0.100000.\n",
      "[INFO] [2023-02-17 16:58:20,466] [OpenBox-SPO] Iteration 253, objective value: [2.223274088929328].\n",
      "[INFO] [2023-02-17 16:58:21,673] [OpenBox-SPO] Iteration 254, objective value: [1.4203967844676029].\n"
     ]
    },
    {
     "name": "stderr",
     "output_type": "stream",
     "text": [
      "\r",
      " 25%|████████████████████                                                           | 254/1000 [04:11<10:41,  1.16it/s]"
     ]
    },
    {
     "name": "stdout",
     "output_type": "stream",
     "text": [
      "[INFO] [2023-02-17 16:58:22,906] [OpenBox-SPO] Iteration 255, objective value: [2.0851268814200625].\n"
     ]
    },
    {
     "name": "stderr",
     "output_type": "stream",
     "text": [
      "\r",
      " 26%|████████████████████▏                                                          | 255/1000 [04:12<11:45,  1.06it/s]"
     ]
    },
    {
     "name": "stdout",
     "output_type": "stream",
     "text": [
      "[INFO] [2023-02-17 16:58:24,145] [OpenBox-SPO] Iteration 256, objective value: [1.0982136305949164].\n"
     ]
    },
    {
     "name": "stderr",
     "output_type": "stream",
     "text": [
      "\r",
      " 26%|████████████████████▏                                                          | 256/1000 [04:13<12:39,  1.02s/it]"
     ]
    },
    {
     "name": "stdout",
     "output_type": "stream",
     "text": [
      "[INFO] [2023-02-17 16:58:25,564] [OpenBox-SPO] Iteration 257, objective value: [1.215777408660666].\n"
     ]
    },
    {
     "name": "stderr",
     "output_type": "stream",
     "text": [
      "\r",
      " 26%|████████████████████▎                                                          | 257/1000 [04:15<13:55,  1.12s/it]"
     ]
    },
    {
     "name": "stdout",
     "output_type": "stream",
     "text": [
      "[INFO] [2023-02-17 16:58:26,857] [OpenBox-SPO] Iteration 258, objective value: [1.0720363421153067].\n"
     ]
    },
    {
     "name": "stderr",
     "output_type": "stream",
     "text": [
      "\r",
      " 26%|████████████████████▍                                                          | 258/1000 [04:16<14:28,  1.17s/it]"
     ]
    },
    {
     "name": "stdout",
     "output_type": "stream",
     "text": [
      "[INFO] [2023-02-17 16:58:28,146] [OpenBox-SPO] Iteration 259, objective value: [1.4847307113217811].\n"
     ]
    },
    {
     "name": "stderr",
     "output_type": "stream",
     "text": [
      "\r",
      " 26%|████████████████████▍                                                          | 259/1000 [04:17<14:51,  1.20s/it]"
     ]
    },
    {
     "name": "stdout",
     "output_type": "stream",
     "text": [
      "[INFO] [2023-02-17 16:58:29,700] [OpenBox-SPO] Iteration 260, objective value: [1.106817149078403].\n"
     ]
    },
    {
     "name": "stderr",
     "output_type": "stream",
     "text": [
      "\r",
      " 26%|████████████████████▌                                                          | 260/1000 [04:19<16:05,  1.30s/it]"
     ]
    },
    {
     "name": "stdout",
     "output_type": "stream",
     "text": [
      "[INFO] [2023-02-17 16:58:29,701] [Advisor] Sample random config. rand_prob=0.100000.\n",
      "[INFO] [2023-02-17 16:58:29,702] [OpenBox-SPO] Iteration 261, objective value: [1.1500474635590723].\n",
      "[INFO] [2023-02-17 16:58:30,694] [OpenBox-SPO] Iteration 262, objective value: [1.8337940966741406].\n"
     ]
    },
    {
     "name": "stderr",
     "output_type": "stream",
     "text": [
      "\r",
      " 26%|████████████████████▋                                                          | 262/1000 [04:20<11:34,  1.06it/s]"
     ]
    },
    {
     "name": "stdout",
     "output_type": "stream",
     "text": [
      "[INFO] [2023-02-17 16:58:31,609] [OpenBox-SPO] Iteration 263, objective value: [0.6055197379125871].\n"
     ]
    },
    {
     "name": "stderr",
     "output_type": "stream",
     "text": [
      "\r",
      " 26%|████████████████████▊                                                          | 263/1000 [04:21<11:29,  1.07it/s]"
     ]
    },
    {
     "name": "stdout",
     "output_type": "stream",
     "text": [
      "[INFO] [2023-02-17 16:58:32,494] [OpenBox-SPO] Iteration 264, objective value: [1.6870014395483912].\n"
     ]
    },
    {
     "name": "stderr",
     "output_type": "stream",
     "text": [
      "\r",
      " 26%|████████████████████▊                                                          | 264/1000 [04:22<11:18,  1.08it/s]"
     ]
    },
    {
     "name": "stdout",
     "output_type": "stream",
     "text": [
      "[INFO] [2023-02-17 16:58:33,747] [OpenBox-SPO] Iteration 265, objective value: [1.0731936167748704].\n"
     ]
    },
    {
     "name": "stderr",
     "output_type": "stream",
     "text": [
      "\r",
      " 26%|████████████████████▉                                                          | 265/1000 [04:23<12:23,  1.01s/it]"
     ]
    },
    {
     "name": "stdout",
     "output_type": "stream",
     "text": [
      "[INFO] [2023-02-17 16:58:35,072] [OpenBox-SPO] Iteration 266, objective value: [1.7403353568023547].\n"
     ]
    },
    {
     "name": "stderr",
     "output_type": "stream",
     "text": [
      "\r",
      " 27%|█████████████████████                                                          | 266/1000 [04:24<13:25,  1.10s/it]"
     ]
    },
    {
     "name": "stdout",
     "output_type": "stream",
     "text": [
      "[INFO] [2023-02-17 16:58:36,076] [OpenBox-SPO] Iteration 267, objective value: [2.0031623923873814].\n"
     ]
    },
    {
     "name": "stderr",
     "output_type": "stream",
     "text": [
      "\r",
      " 27%|█████████████████████                                                          | 267/1000 [04:25<13:05,  1.07s/it]"
     ]
    },
    {
     "name": "stdout",
     "output_type": "stream",
     "text": [
      "[INFO] [2023-02-17 16:58:37,149] [OpenBox-SPO] Iteration 268, objective value: [1.575334392533429].\n"
     ]
    },
    {
     "name": "stderr",
     "output_type": "stream",
     "text": [
      "\r",
      " 27%|█████████████████████▏                                                         | 268/1000 [04:26<13:04,  1.07s/it]"
     ]
    },
    {
     "name": "stdout",
     "output_type": "stream",
     "text": [
      "[INFO] [2023-02-17 16:58:38,295] [OpenBox-SPO] Iteration 269, objective value: [1.7015909310443644].\n"
     ]
    },
    {
     "name": "stderr",
     "output_type": "stream",
     "text": [
      "\r",
      " 27%|█████████████████████▎                                                         | 269/1000 [04:28<13:19,  1.09s/it]"
     ]
    },
    {
     "name": "stdout",
     "output_type": "stream",
     "text": [
      "[INFO] [2023-02-17 16:58:39,491] [OpenBox-SPO] Iteration 270, objective value: [1.2511984602491821].\n"
     ]
    },
    {
     "name": "stderr",
     "output_type": "stream",
     "text": [
      "\r",
      " 27%|█████████████████████▎                                                         | 270/1000 [04:29<13:40,  1.12s/it]"
     ]
    },
    {
     "name": "stdout",
     "output_type": "stream",
     "text": [
      "[INFO] [2023-02-17 16:58:40,405] [OpenBox-SPO] Iteration 271, objective value: [1.034740814579255].\n"
     ]
    },
    {
     "name": "stderr",
     "output_type": "stream",
     "text": [
      "\r",
      " 27%|█████████████████████▍                                                         | 271/1000 [04:30<12:53,  1.06s/it]"
     ]
    },
    {
     "name": "stdout",
     "output_type": "stream",
     "text": [
      "[INFO] [2023-02-17 16:58:40,405] [Advisor] Sample random config. rand_prob=0.100000.\n",
      "[INFO] [2023-02-17 16:58:40,406] [OpenBox-SPO] Iteration 272, objective value: [1.0894200300475487].\n",
      "[INFO] [2023-02-17 16:58:41,442] [OpenBox-SPO] Iteration 273, objective value: [1.105177416943326].\n"
     ]
    },
    {
     "name": "stderr",
     "output_type": "stream",
     "text": [
      "\r",
      " 27%|█████████████████████▌                                                         | 273/1000 [04:31<09:50,  1.23it/s]"
     ]
    },
    {
     "name": "stdout",
     "output_type": "stream",
     "text": [
      "[INFO] [2023-02-17 16:58:42,598] [OpenBox-SPO] Iteration 274, objective value: [1.0183463043653707].\n"
     ]
    },
    {
     "name": "stderr",
     "output_type": "stream",
     "text": [
      "\r",
      " 27%|█████████████████████▋                                                         | 274/1000 [04:32<10:51,  1.11it/s]"
     ]
    },
    {
     "name": "stdout",
     "output_type": "stream",
     "text": [
      "[INFO] [2023-02-17 16:58:43,758] [OpenBox-SPO] Iteration 275, objective value: [1.3712728706458621].\n"
     ]
    },
    {
     "name": "stderr",
     "output_type": "stream",
     "text": [
      "\r",
      " 28%|█████████████████████▋                                                         | 275/1000 [04:33<11:40,  1.04it/s]"
     ]
    },
    {
     "name": "stdout",
     "output_type": "stream",
     "text": [
      "[INFO] [2023-02-17 16:58:44,960] [OpenBox-SPO] Iteration 276, objective value: [0.9747312807659403].\n"
     ]
    },
    {
     "name": "stderr",
     "output_type": "stream",
     "text": [
      "\r",
      " 28%|█████████████████████▊                                                         | 276/1000 [04:34<12:25,  1.03s/it]"
     ]
    },
    {
     "name": "stdout",
     "output_type": "stream",
     "text": [
      "[INFO] [2023-02-17 16:58:46,170] [OpenBox-SPO] Iteration 277, objective value: [1.2768313347711058].\n"
     ]
    },
    {
     "name": "stderr",
     "output_type": "stream",
     "text": [
      "\r",
      " 28%|█████████████████████▉                                                         | 277/1000 [04:35<13:00,  1.08s/it]"
     ]
    },
    {
     "name": "stdout",
     "output_type": "stream",
     "text": [
      "[INFO] [2023-02-17 16:58:46,170] [Advisor] Sample random config. rand_prob=0.100000.\n",
      "[INFO] [2023-02-17 16:58:46,171] [OpenBox-SPO] Iteration 278, objective value: [1.382977290722477].\n",
      "[INFO] [2023-02-17 16:58:47,473] [OpenBox-SPO] Iteration 279, objective value: [1.8125037960680097].\n"
     ]
    },
    {
     "name": "stderr",
     "output_type": "stream",
     "text": [
      "\r",
      " 28%|██████████████████████                                                         | 279/1000 [04:37<10:41,  1.12it/s]"
     ]
    },
    {
     "name": "stdout",
     "output_type": "stream",
     "text": [
      "[INFO] [2023-02-17 16:58:48,633] [OpenBox-SPO] Iteration 280, objective value: [1.07041605220675].\n"
     ]
    },
    {
     "name": "stderr",
     "output_type": "stream",
     "text": [
      "\r",
      " 28%|██████████████████████                                                         | 280/1000 [04:38<11:27,  1.05it/s]"
     ]
    },
    {
     "name": "stdout",
     "output_type": "stream",
     "text": [
      "[INFO] [2023-02-17 16:58:49,952] [OpenBox-SPO] Iteration 281, objective value: [1.093999690789157].\n"
     ]
    },
    {
     "name": "stderr",
     "output_type": "stream",
     "text": [
      "\r",
      " 28%|██████████████████████▏                                                        | 281/1000 [04:39<12:33,  1.05s/it]"
     ]
    },
    {
     "name": "stdout",
     "output_type": "stream",
     "text": [
      "[INFO] [2023-02-17 16:58:51,204] [OpenBox-SPO] Iteration 282, objective value: [1.2702515477654353].\n"
     ]
    },
    {
     "name": "stderr",
     "output_type": "stream",
     "text": [
      "\r",
      " 28%|██████████████████████▎                                                        | 282/1000 [04:40<13:11,  1.10s/it]"
     ]
    },
    {
     "name": "stdout",
     "output_type": "stream",
     "text": [
      "[INFO] [2023-02-17 16:58:52,397] [OpenBox-SPO] Iteration 283, objective value: [2.120415220844715].\n"
     ]
    },
    {
     "name": "stderr",
     "output_type": "stream",
     "text": [
      "\r",
      " 28%|██████████████████████▎                                                        | 283/1000 [04:42<13:28,  1.13s/it]"
     ]
    },
    {
     "name": "stdout",
     "output_type": "stream",
     "text": [
      "[INFO] [2023-02-17 16:58:53,521] [OpenBox-SPO] Iteration 284, objective value: [1.2489904820465403].\n"
     ]
    },
    {
     "name": "stderr",
     "output_type": "stream",
     "text": [
      "\r",
      " 28%|██████████████████████▍                                                        | 284/1000 [04:43<13:26,  1.13s/it]"
     ]
    },
    {
     "name": "stdout",
     "output_type": "stream",
     "text": [
      "[INFO] [2023-02-17 16:58:54,694] [OpenBox-SPO] Iteration 285, objective value: [1.24424748902749].\n"
     ]
    },
    {
     "name": "stderr",
     "output_type": "stream",
     "text": [
      "\r",
      " 28%|██████████████████████▌                                                        | 285/1000 [04:44<13:34,  1.14s/it]"
     ]
    },
    {
     "name": "stdout",
     "output_type": "stream",
     "text": [
      "[INFO] [2023-02-17 16:58:55,808] [OpenBox-SPO] Iteration 286, objective value: [1.8846598813197049].\n"
     ]
    },
    {
     "name": "stderr",
     "output_type": "stream",
     "text": [
      "\r",
      " 29%|██████████████████████▌                                                        | 286/1000 [04:45<13:28,  1.13s/it]"
     ]
    },
    {
     "name": "stdout",
     "output_type": "stream",
     "text": [
      "[INFO] [2023-02-17 16:58:57,023] [OpenBox-SPO] Iteration 287, objective value: [1.0758907654012453].\n"
     ]
    },
    {
     "name": "stderr",
     "output_type": "stream",
     "text": [
      "\r",
      " 29%|██████████████████████▋                                                        | 287/1000 [04:46<13:44,  1.16s/it]"
     ]
    },
    {
     "name": "stdout",
     "output_type": "stream",
     "text": [
      "[INFO] [2023-02-17 16:58:58,408] [OpenBox-SPO] Iteration 288, objective value: [1.2152391924098083].\n"
     ]
    },
    {
     "name": "stderr",
     "output_type": "stream",
     "text": [
      "\r",
      " 29%|██████████████████████▊                                                        | 288/1000 [04:48<14:31,  1.22s/it]"
     ]
    },
    {
     "name": "stdout",
     "output_type": "stream",
     "text": [
      "[INFO] [2023-02-17 16:58:59,717] [OpenBox-SPO] Iteration 289, objective value: [1.5650431334359831].\n"
     ]
    },
    {
     "name": "stderr",
     "output_type": "stream",
     "text": [
      "\r",
      " 29%|██████████████████████▊                                                        | 289/1000 [04:49<14:48,  1.25s/it]"
     ]
    },
    {
     "name": "stdout",
     "output_type": "stream",
     "text": [
      "[INFO] [2023-02-17 16:59:00,774] [OpenBox-SPO] Iteration 290, objective value: [1.1835921680739698].\n"
     ]
    },
    {
     "name": "stderr",
     "output_type": "stream",
     "text": [
      "\r",
      " 29%|██████████████████████▉                                                        | 290/1000 [04:50<14:06,  1.19s/it]"
     ]
    },
    {
     "name": "stdout",
     "output_type": "stream",
     "text": [
      "[INFO] [2023-02-17 16:59:01,843] [OpenBox-SPO] Iteration 291, objective value: [1.0771696829754893].\n"
     ]
    },
    {
     "name": "stderr",
     "output_type": "stream",
     "text": [
      "\r",
      " 29%|██████████████████████▉                                                        | 291/1000 [04:51<13:39,  1.16s/it]"
     ]
    },
    {
     "name": "stdout",
     "output_type": "stream",
     "text": [
      "[INFO] [2023-02-17 16:59:02,879] [OpenBox-SPO] Iteration 292, objective value: [1.335970629902437].\n"
     ]
    },
    {
     "name": "stderr",
     "output_type": "stream",
     "text": [
      "\r",
      " 29%|███████████████████████                                                        | 292/1000 [04:52<13:12,  1.12s/it]"
     ]
    },
    {
     "name": "stdout",
     "output_type": "stream",
     "text": [
      "[INFO] [2023-02-17 16:59:04,019] [OpenBox-SPO] Iteration 293, objective value: [1.0791752323156456].\n"
     ]
    },
    {
     "name": "stderr",
     "output_type": "stream",
     "text": [
      "\r",
      " 29%|███████████████████████▏                                                       | 293/1000 [04:53<13:15,  1.13s/it]"
     ]
    },
    {
     "name": "stdout",
     "output_type": "stream",
     "text": [
      "[INFO] [2023-02-17 16:59:05,162] [OpenBox-SPO] Iteration 294, objective value: [0.9720916995455844].\n"
     ]
    },
    {
     "name": "stderr",
     "output_type": "stream",
     "text": [
      "\r",
      " 29%|███████████████████████▏                                                       | 294/1000 [04:54<13:18,  1.13s/it]"
     ]
    },
    {
     "name": "stdout",
     "output_type": "stream",
     "text": [
      "[INFO] [2023-02-17 16:59:06,403] [OpenBox-SPO] Iteration 295, objective value: [1.1909112790802192].\n"
     ]
    },
    {
     "name": "stderr",
     "output_type": "stream",
     "text": [
      "\r",
      " 30%|███████████████████████▎                                                       | 295/1000 [04:56<13:40,  1.16s/it]"
     ]
    },
    {
     "name": "stdout",
     "output_type": "stream",
     "text": [
      "[INFO] [2023-02-17 16:59:07,498] [OpenBox-SPO] Iteration 296, objective value: [1.092941502936045].\n"
     ]
    },
    {
     "name": "stderr",
     "output_type": "stream",
     "text": [
      "\r",
      " 30%|███████████████████████▍                                                       | 296/1000 [04:57<13:24,  1.14s/it]"
     ]
    },
    {
     "name": "stdout",
     "output_type": "stream",
     "text": [
      "[INFO] [2023-02-17 16:59:07,499] [Advisor] Sample random config. rand_prob=0.100000.\n",
      "[INFO] [2023-02-17 16:59:07,500] [OpenBox-SPO] Iteration 297, objective value: [1.185300778226536].\n",
      "[INFO] [2023-02-17 16:59:08,619] [OpenBox-SPO] Iteration 298, objective value: [0.9283683412206523].\n"
     ]
    },
    {
     "name": "stderr",
     "output_type": "stream",
     "text": [
      "\r",
      " 30%|███████████████████████▌                                                       | 298/1000 [04:58<10:13,  1.14it/s]"
     ]
    },
    {
     "name": "stdout",
     "output_type": "stream",
     "text": [
      "[INFO] [2023-02-17 16:59:09,811] [OpenBox-SPO] Iteration 299, objective value: [1.5348294272589014].\n"
     ]
    },
    {
     "name": "stderr",
     "output_type": "stream",
     "text": [
      "\r",
      " 30%|███████████████████████▌                                                       | 299/1000 [04:59<11:08,  1.05it/s]"
     ]
    },
    {
     "name": "stdout",
     "output_type": "stream",
     "text": [
      "[INFO] [2023-02-17 16:59:11,122] [OpenBox-SPO] Iteration 300, objective value: [1.5055372557283366].\n"
     ]
    },
    {
     "name": "stderr",
     "output_type": "stream",
     "text": [
      "\r",
      " 30%|███████████████████████▋                                                       | 300/1000 [05:00<12:12,  1.05s/it]"
     ]
    },
    {
     "name": "stdout",
     "output_type": "stream",
     "text": [
      "[INFO] [2023-02-17 16:59:12,128] [OpenBox-SPO] Iteration 301, objective value: [2.349448053104858].\n"
     ]
    },
    {
     "name": "stderr",
     "output_type": "stream",
     "text": [
      "\r",
      " 30%|███████████████████████▊                                                       | 301/1000 [05:01<12:04,  1.04s/it]"
     ]
    },
    {
     "name": "stdout",
     "output_type": "stream",
     "text": [
      "[INFO] [2023-02-17 16:59:13,267] [OpenBox-SPO] Iteration 302, objective value: [0.757539999288226].\n"
     ]
    },
    {
     "name": "stderr",
     "output_type": "stream",
     "text": [
      "\r",
      " 30%|███████████████████████▊                                                       | 302/1000 [05:02<12:23,  1.06s/it]"
     ]
    },
    {
     "name": "stdout",
     "output_type": "stream",
     "text": [
      "[INFO] [2023-02-17 16:59:14,378] [OpenBox-SPO] Iteration 303, objective value: [1.0652260366901236].\n"
     ]
    },
    {
     "name": "stderr",
     "output_type": "stream",
     "text": [
      "\r",
      " 30%|███████████████████████▉                                                       | 303/1000 [05:04<12:31,  1.08s/it]"
     ]
    },
    {
     "name": "stdout",
     "output_type": "stream",
     "text": [
      "[INFO] [2023-02-17 16:59:14,379] [Advisor] Sample random config. rand_prob=0.100000.\n",
      "[INFO] [2023-02-17 16:59:14,380] [OpenBox-SPO] Iteration 304, objective value: [3.3736915507004865].\n",
      "[INFO] [2023-02-17 16:59:15,538] [OpenBox-SPO] Iteration 305, objective value: [1.032054255374901].\n"
     ]
    },
    {
     "name": "stderr",
     "output_type": "stream",
     "text": [
      "\r",
      " 30%|████████████████████████                                                       | 305/1000 [05:05<09:53,  1.17it/s]"
     ]
    },
    {
     "name": "stdout",
     "output_type": "stream",
     "text": [
      "[INFO] [2023-02-17 16:59:15,539] [Advisor] Sample random config. rand_prob=0.100000.\n",
      "[INFO] [2023-02-17 16:59:15,540] [OpenBox-SPO] Iteration 306, objective value: [0.25771850783398137].\n",
      "[INFO] [2023-02-17 16:59:15,540] [Advisor] Sample random config. rand_prob=0.100000.\n",
      "[INFO] [2023-02-17 16:59:15,541] [OpenBox-SPO] Iteration 307, objective value: [1.1909830801987982].\n",
      "[INFO] [2023-02-17 16:59:16,980] [OpenBox-SPO] Iteration 308, objective value: [1.0143606744068876].\n"
     ]
    },
    {
     "name": "stderr",
     "output_type": "stream",
     "text": [
      "\r",
      " 31%|████████████████████████▎                                                      | 308/1000 [05:06<07:44,  1.49it/s]"
     ]
    },
    {
     "name": "stdout",
     "output_type": "stream",
     "text": [
      "[INFO] [2023-02-17 16:59:17,893] [OpenBox-SPO] Iteration 309, objective value: [0.3664348098869881].\n"
     ]
    },
    {
     "name": "stderr",
     "output_type": "stream",
     "text": [
      "\r",
      " 31%|████████████████████████▍                                                      | 309/1000 [05:07<08:15,  1.40it/s]"
     ]
    },
    {
     "name": "stdout",
     "output_type": "stream",
     "text": [
      "[INFO] [2023-02-17 16:59:19,009] [OpenBox-SPO] Iteration 310, objective value: [1.045019367104305].\n"
     ]
    },
    {
     "name": "stderr",
     "output_type": "stream",
     "text": [
      "\r",
      " 31%|████████████████████████▍                                                      | 310/1000 [05:08<09:13,  1.25it/s]"
     ]
    },
    {
     "name": "stdout",
     "output_type": "stream",
     "text": [
      "[INFO] [2023-02-17 16:59:20,298] [OpenBox-SPO] Iteration 311, objective value: [1.0920871443235276].\n"
     ]
    },
    {
     "name": "stderr",
     "output_type": "stream",
     "text": [
      "\r",
      " 31%|████████████████████████▌                                                      | 311/1000 [05:10<10:30,  1.09it/s]"
     ]
    },
    {
     "name": "stdout",
     "output_type": "stream",
     "text": [
      "[INFO] [2023-02-17 16:59:21,526] [OpenBox-SPO] Iteration 312, objective value: [2.07383961532666].\n"
     ]
    },
    {
     "name": "stderr",
     "output_type": "stream",
     "text": [
      "\r",
      " 31%|████████████████████████▋                                                      | 312/1000 [05:11<11:23,  1.01it/s]"
     ]
    },
    {
     "name": "stdout",
     "output_type": "stream",
     "text": [
      "[INFO] [2023-02-17 16:59:22,778] [OpenBox-SPO] Iteration 313, objective value: [1.5185092874320651].\n"
     ]
    },
    {
     "name": "stderr",
     "output_type": "stream",
     "text": [
      "\r",
      " 31%|████████████████████████▋                                                      | 313/1000 [05:12<12:09,  1.06s/it]"
     ]
    },
    {
     "name": "stdout",
     "output_type": "stream",
     "text": [
      "[INFO] [2023-02-17 16:59:24,047] [OpenBox-SPO] Iteration 314, objective value: [1.153005201063572].\n"
     ]
    },
    {
     "name": "stderr",
     "output_type": "stream",
     "text": [
      "\r",
      " 31%|████████████████████████▊                                                      | 314/1000 [05:13<12:47,  1.12s/it]"
     ]
    },
    {
     "name": "stdout",
     "output_type": "stream",
     "text": [
      "[INFO] [2023-02-17 16:59:25,161] [OpenBox-SPO] Iteration 315, objective value: [0.4141211491544285].\n"
     ]
    },
    {
     "name": "stderr",
     "output_type": "stream",
     "text": [
      "\r",
      " 32%|████████████████████████▉                                                      | 315/1000 [05:14<12:44,  1.12s/it]"
     ]
    },
    {
     "name": "stdout",
     "output_type": "stream",
     "text": [
      "[INFO] [2023-02-17 16:59:26,534] [OpenBox-SPO] Iteration 316, objective value: [1.3150463602741382].\n"
     ]
    },
    {
     "name": "stderr",
     "output_type": "stream",
     "text": [
      "\r",
      " 32%|████████████████████████▉                                                      | 316/1000 [05:16<13:34,  1.19s/it]"
     ]
    },
    {
     "name": "stdout",
     "output_type": "stream",
     "text": [
      "[INFO] [2023-02-17 16:59:27,962] [OpenBox-SPO] Iteration 317, objective value: [1.5515872191210267].\n"
     ]
    },
    {
     "name": "stderr",
     "output_type": "stream",
     "text": [
      "\r",
      " 32%|█████████████████████████                                                      | 317/1000 [05:17<14:20,  1.26s/it]"
     ]
    },
    {
     "name": "stdout",
     "output_type": "stream",
     "text": [
      "[INFO] [2023-02-17 16:59:28,998] [OpenBox-SPO] Iteration 318, objective value: [0.24078681581825495].\n"
     ]
    },
    {
     "name": "stderr",
     "output_type": "stream",
     "text": [
      "\r",
      " 32%|█████████████████████████                                                      | 318/1000 [05:18<13:34,  1.19s/it]"
     ]
    },
    {
     "name": "stdout",
     "output_type": "stream",
     "text": [
      "[INFO] [2023-02-17 16:59:30,282] [OpenBox-SPO] Iteration 319, objective value: [1.2572821644150207].\n"
     ]
    },
    {
     "name": "stderr",
     "output_type": "stream",
     "text": [
      "\r",
      " 32%|█████████████████████████▏                                                     | 319/1000 [05:19<13:51,  1.22s/it]"
     ]
    },
    {
     "name": "stdout",
     "output_type": "stream",
     "text": [
      "[INFO] [2023-02-17 16:59:31,631] [OpenBox-SPO] Iteration 320, objective value: [1.4015524799214234].\n"
     ]
    },
    {
     "name": "stderr",
     "output_type": "stream",
     "text": [
      "\r",
      " 32%|█████████████████████████▎                                                     | 320/1000 [05:21<14:15,  1.26s/it]"
     ]
    },
    {
     "name": "stdout",
     "output_type": "stream",
     "text": [
      "[INFO] [2023-02-17 16:59:32,665] [OpenBox-SPO] Iteration 321, objective value: [1.874670059406786].\n"
     ]
    },
    {
     "name": "stderr",
     "output_type": "stream",
     "text": [
      "\r",
      " 32%|█████████████████████████▎                                                     | 321/1000 [05:22<13:29,  1.19s/it]"
     ]
    },
    {
     "name": "stdout",
     "output_type": "stream",
     "text": [
      "[INFO] [2023-02-17 16:59:33,843] [OpenBox-SPO] Iteration 322, objective value: [1.0217281670422884].\n"
     ]
    },
    {
     "name": "stderr",
     "output_type": "stream",
     "text": [
      "\r",
      " 32%|█████████████████████████▍                                                     | 322/1000 [05:23<13:25,  1.19s/it]"
     ]
    },
    {
     "name": "stdout",
     "output_type": "stream",
     "text": [
      "[INFO] [2023-02-17 16:59:35,004] [OpenBox-SPO] Iteration 323, objective value: [0.4642417616497362].\n"
     ]
    },
    {
     "name": "stderr",
     "output_type": "stream",
     "text": [
      "\r",
      " 32%|█████████████████████████▌                                                     | 323/1000 [05:24<13:18,  1.18s/it]"
     ]
    },
    {
     "name": "stdout",
     "output_type": "stream",
     "text": [
      "[INFO] [2023-02-17 16:59:35,971] [OpenBox-SPO] Iteration 324, objective value: [2.433765987372551].\n"
     ]
    },
    {
     "name": "stderr",
     "output_type": "stream",
     "text": [
      "\r",
      " 32%|█████████████████████████▌                                                     | 324/1000 [05:25<12:34,  1.12s/it]"
     ]
    },
    {
     "name": "stdout",
     "output_type": "stream",
     "text": [
      "[INFO] [2023-02-17 16:59:37,284] [OpenBox-SPO] Iteration 325, objective value: [1.7845488386091113].\n"
     ]
    },
    {
     "name": "stderr",
     "output_type": "stream",
     "text": [
      "\r",
      " 32%|█████████████████████████▋                                                     | 325/1000 [05:26<13:13,  1.17s/it]"
     ]
    },
    {
     "name": "stdout",
     "output_type": "stream",
     "text": [
      "[INFO] [2023-02-17 16:59:38,241] [OpenBox-SPO] Iteration 326, objective value: [0.4146366405604857].\n"
     ]
    },
    {
     "name": "stderr",
     "output_type": "stream",
     "text": [
      "\r",
      " 33%|█████████████████████████▊                                                     | 326/1000 [05:27<12:28,  1.11s/it]"
     ]
    },
    {
     "name": "stdout",
     "output_type": "stream",
     "text": [
      "[INFO] [2023-02-17 16:59:39,303] [OpenBox-SPO] Iteration 327, objective value: [1.0593307832377783].\n"
     ]
    },
    {
     "name": "stderr",
     "output_type": "stream",
     "text": [
      "\r",
      " 33%|█████████████████████████▊                                                     | 327/1000 [05:29<12:17,  1.10s/it]"
     ]
    },
    {
     "name": "stdout",
     "output_type": "stream",
     "text": [
      "[INFO] [2023-02-17 16:59:40,348] [OpenBox-SPO] Iteration 328, objective value: [1.2512002878995712].\n"
     ]
    },
    {
     "name": "stderr",
     "output_type": "stream",
     "text": [
      "\r",
      " 33%|█████████████████████████▉                                                     | 328/1000 [05:30<12:05,  1.08s/it]"
     ]
    },
    {
     "name": "stdout",
     "output_type": "stream",
     "text": [
      "[INFO] [2023-02-17 16:59:41,540] [OpenBox-SPO] Iteration 329, objective value: [1.0736169587640785].\n"
     ]
    },
    {
     "name": "stderr",
     "output_type": "stream",
     "text": [
      "\r",
      " 33%|█████████████████████████▉                                                     | 329/1000 [05:31<12:27,  1.11s/it]"
     ]
    },
    {
     "name": "stdout",
     "output_type": "stream",
     "text": [
      "[INFO] [2023-02-17 16:59:42,679] [OpenBox-SPO] Iteration 330, objective value: [1.0100735535635337].\n"
     ]
    },
    {
     "name": "stderr",
     "output_type": "stream",
     "text": [
      "\r",
      " 33%|██████████████████████████                                                     | 330/1000 [05:32<12:31,  1.12s/it]"
     ]
    },
    {
     "name": "stdout",
     "output_type": "stream",
     "text": [
      "[INFO] [2023-02-17 16:59:43,880] [OpenBox-SPO] Iteration 331, objective value: [1.489264351029323].\n"
     ]
    },
    {
     "name": "stderr",
     "output_type": "stream",
     "text": [
      "\r",
      " 33%|██████████████████████████▏                                                    | 331/1000 [05:33<12:46,  1.15s/it]"
     ]
    },
    {
     "name": "stdout",
     "output_type": "stream",
     "text": [
      "[INFO] [2023-02-17 16:59:45,333] [OpenBox-SPO] Iteration 332, objective value: [1.3130588773335667].\n"
     ]
    },
    {
     "name": "stderr",
     "output_type": "stream",
     "text": [
      "\r",
      " 33%|██████████████████████████▏                                                    | 332/1000 [05:35<13:46,  1.24s/it]"
     ]
    },
    {
     "name": "stdout",
     "output_type": "stream",
     "text": [
      "[INFO] [2023-02-17 16:59:46,482] [OpenBox-SPO] Iteration 333, objective value: [1.5036769887437287].\n"
     ]
    },
    {
     "name": "stderr",
     "output_type": "stream",
     "text": [
      "\r",
      " 33%|██████████████████████████▎                                                    | 333/1000 [05:36<13:27,  1.21s/it]"
     ]
    },
    {
     "name": "stdout",
     "output_type": "stream",
     "text": [
      "[INFO] [2023-02-17 16:59:47,693] [OpenBox-SPO] Iteration 334, objective value: [2.1597198143170675].\n"
     ]
    },
    {
     "name": "stderr",
     "output_type": "stream",
     "text": [
      "\r",
      " 33%|██████████████████████████▍                                                    | 334/1000 [05:37<13:26,  1.21s/it]"
     ]
    },
    {
     "name": "stdout",
     "output_type": "stream",
     "text": [
      "[INFO] [2023-02-17 16:59:48,916] [OpenBox-SPO] Iteration 335, objective value: [1.1893629944225868].\n"
     ]
    },
    {
     "name": "stderr",
     "output_type": "stream",
     "text": [
      "\r",
      " 34%|██████████████████████████▍                                                    | 335/1000 [05:38<13:27,  1.21s/it]"
     ]
    },
    {
     "name": "stdout",
     "output_type": "stream",
     "text": [
      "[INFO] [2023-02-17 16:59:50,328] [OpenBox-SPO] Iteration 336, objective value: [1.4221925315692934].\n"
     ]
    },
    {
     "name": "stderr",
     "output_type": "stream",
     "text": [
      "\r",
      " 34%|██████████████████████████▌                                                    | 336/1000 [05:40<14:05,  1.27s/it]"
     ]
    },
    {
     "name": "stdout",
     "output_type": "stream",
     "text": [
      "[INFO] [2023-02-17 16:59:51,371] [OpenBox-SPO] Iteration 337, objective value: [0.1048266218254451].\n"
     ]
    },
    {
     "name": "stderr",
     "output_type": "stream",
     "text": [
      "\r",
      " 34%|██████████████████████████▌                                                    | 337/1000 [05:41<13:18,  1.20s/it]"
     ]
    },
    {
     "name": "stdout",
     "output_type": "stream",
     "text": [
      "[INFO] [2023-02-17 16:59:52,440] [OpenBox-SPO] Iteration 338, objective value: [1.6509872028757733].\n"
     ]
    },
    {
     "name": "stderr",
     "output_type": "stream",
     "text": [
      "\r",
      " 34%|██████████████████████████▋                                                    | 338/1000 [05:42<12:50,  1.16s/it]"
     ]
    },
    {
     "name": "stdout",
     "output_type": "stream",
     "text": [
      "[INFO] [2023-02-17 16:59:53,719] [OpenBox-SPO] Iteration 339, objective value: [1.7187507642806683].\n"
     ]
    },
    {
     "name": "stderr",
     "output_type": "stream",
     "text": [
      "\r",
      " 34%|██████████████████████████▊                                                    | 339/1000 [05:43<13:11,  1.20s/it]"
     ]
    },
    {
     "name": "stdout",
     "output_type": "stream",
     "text": [
      "[INFO] [2023-02-17 16:59:54,807] [OpenBox-SPO] Iteration 340, objective value: [1.1178441004137512].\n"
     ]
    },
    {
     "name": "stderr",
     "output_type": "stream",
     "text": [
      "\r",
      " 34%|██████████████████████████▊                                                    | 340/1000 [05:44<12:49,  1.17s/it]"
     ]
    },
    {
     "name": "stdout",
     "output_type": "stream",
     "text": [
      "[INFO] [2023-02-17 16:59:56,157] [OpenBox-SPO] Iteration 341, objective value: [1.2793964817315986].\n"
     ]
    },
    {
     "name": "stderr",
     "output_type": "stream",
     "text": [
      "\r",
      " 34%|██████████████████████████▉                                                    | 341/1000 [05:45<13:24,  1.22s/it]"
     ]
    },
    {
     "name": "stdout",
     "output_type": "stream",
     "text": [
      "[INFO] [2023-02-17 16:59:57,342] [OpenBox-SPO] Iteration 342, objective value: [1.2504967500753172].\n"
     ]
    },
    {
     "name": "stderr",
     "output_type": "stream",
     "text": [
      "\r",
      " 34%|███████████████████████████                                                    | 342/1000 [05:47<13:16,  1.21s/it]"
     ]
    },
    {
     "name": "stdout",
     "output_type": "stream",
     "text": [
      "[INFO] [2023-02-17 16:59:57,343] [Advisor] Sample random config. rand_prob=0.100000.\n",
      "[INFO] [2023-02-17 16:59:57,344] [OpenBox-SPO] Iteration 343, objective value: [0.5889654349639435].\n",
      "[INFO] [2023-02-17 16:59:58,649] [OpenBox-SPO] Iteration 344, objective value: [1.8988707534337483].\n"
     ]
    },
    {
     "name": "stderr",
     "output_type": "stream",
     "text": [
      " 34%|███████████████████████████▏                                                   | 344/1000 [05:48<11:04,  1.01s/it]\n"
     ]
    },
    {
     "ename": "KeyboardInterrupt",
     "evalue": "",
     "output_type": "error",
     "traceback": [
      "\u001b[1;31m---------------------------------------------------------------------------\u001b[0m",
      "\u001b[1;31mKeyboardInterrupt\u001b[0m                         Traceback (most recent call last)",
      "Input \u001b[1;32mIn [3]\u001b[0m, in \u001b[0;36m<cell line: 10>\u001b[1;34m()\u001b[0m\n\u001b[0;32m     11\u001b[0m \u001b[38;5;28mprint\u001b[39m(\u001b[38;5;124m'\u001b[39m\u001b[38;5;124m----- Running BO with: \u001b[39m\u001b[38;5;130;01m\\n\u001b[39;00m\u001b[38;5;124m \u001b[39m\u001b[38;5;130;01m\\t\u001b[39;00m\u001b[38;5;124m - epsilon: \u001b[39m\u001b[38;5;124m'\u001b[39m, cf\u001b[38;5;241m.\u001b[39mepsilon, \n\u001b[0;32m     12\u001b[0m       \u001b[38;5;124m'\u001b[39m\u001b[38;5;130;01m\\n\u001b[39;00m\u001b[38;5;124m \u001b[39m\u001b[38;5;130;01m\\t\u001b[39;00m\u001b[38;5;124m - True optimum: \u001b[39m\u001b[38;5;130;01m\\n\u001b[39;00m\u001b[38;5;124m'\u001b[39m, cf\u001b[38;5;241m.\u001b[39mfunction\u001b[38;5;241m.\u001b[39mget_global_minimum(cf\u001b[38;5;241m.\u001b[39mD), \n\u001b[0;32m     13\u001b[0m       \u001b[38;5;124m'\u001b[39m\u001b[38;5;124m \u001b[39m\u001b[38;5;130;01m\\n\u001b[39;00m\u001b[38;5;124m \u001b[39m\u001b[38;5;130;01m\\t\u001b[39;00m\u001b[38;5;124m - initial state: \u001b[39m\u001b[38;5;124m'\u001b[39m, cf\u001b[38;5;241m.\u001b[39minitial_state)\n\u001b[0;32m     15\u001b[0m BO \u001b[38;5;241m=\u001b[39m bo\u001b[38;5;241m.\u001b[39mBayesianOptimization(testbed \u001b[38;5;241m=\u001b[39m cf\u001b[38;5;241m.\u001b[39mtestbed,\n\u001b[0;32m     16\u001b[0m                              iteration \u001b[38;5;241m=\u001b[39m cf\u001b[38;5;241m.\u001b[39mbo_iteration, \n\u001b[0;32m     17\u001b[0m                              initial_state \u001b[38;5;241m=\u001b[39m cf\u001b[38;5;241m.\u001b[39minitial_state,\n\u001b[0;32m     18\u001b[0m                              acquisition_function \u001b[38;5;241m=\u001b[39m cf\u001b[38;5;241m.\u001b[39macquisition_function,\n\u001b[0;32m     19\u001b[0m                              surrogate_model \u001b[38;5;241m=\u001b[39m cf\u001b[38;5;241m.\u001b[39msurrogate_model,\n\u001b[0;32m     20\u001b[0m                              acq_optimizer_type \u001b[38;5;241m=\u001b[39m cf\u001b[38;5;241m.\u001b[39macq_optimizer_type)\n\u001b[1;32m---> 22\u001b[0m history, states, actions, rewards \u001b[38;5;241m=\u001b[39m \u001b[43mBO\u001b[49m\u001b[38;5;241;43m.\u001b[39;49m\u001b[43mrun\u001b[49m\u001b[43m(\u001b[49m\u001b[43mRLBO\u001b[49m\u001b[43m \u001b[49m\u001b[38;5;241;43m=\u001b[39;49m\u001b[43m \u001b[49m\u001b[38;5;28;43;01mFalse\u001b[39;49;00m\u001b[43m)\u001b[49m\n\u001b[0;32m     24\u001b[0m H\u001b[38;5;241m.\u001b[39mappend({\u001b[38;5;124m'\u001b[39m\u001b[38;5;124mhistory\u001b[39m\u001b[38;5;124m'\u001b[39m: history, \n\u001b[0;32m     25\u001b[0m           \u001b[38;5;124m'\u001b[39m\u001b[38;5;124mstates\u001b[39m\u001b[38;5;124m'\u001b[39m: states, \n\u001b[0;32m     26\u001b[0m           \u001b[38;5;124m'\u001b[39m\u001b[38;5;124mactions\u001b[39m\u001b[38;5;124m'\u001b[39m: actions,\n\u001b[0;32m     27\u001b[0m           \u001b[38;5;124m'\u001b[39m\u001b[38;5;124mrewards\u001b[39m\u001b[38;5;124m'\u001b[39m: rewards})\n",
      "File \u001b[1;32m~\\OneDrive\\Desktop\\RLBO\\Smart-Home-Sensor-Placement-Optimization-main\\SensorConfigurationOptimization\\SensorOptimizers\\BOforBenchmarkFunctions.py:104\u001b[0m, in \u001b[0;36mBayesianOptimization.run\u001b[1;34m(self, RLBO)\u001b[0m\n\u001b[0;32m    102\u001b[0m     \u001b[38;5;28;01mreturn\u001b[39;00m history, s, a, r\n\u001b[0;32m    103\u001b[0m \u001b[38;5;28;01melse\u001b[39;00m:\n\u001b[1;32m--> 104\u001b[0m     history \u001b[38;5;241m=\u001b[39m \u001b[43mopt\u001b[49m\u001b[38;5;241;43m.\u001b[39;49m\u001b[43mrun\u001b[49m\u001b[43m(\u001b[49m\u001b[43m)\u001b[49m\n\u001b[0;32m    105\u001b[0m     \u001b[38;5;28;01mreturn\u001b[39;00m history, \u001b[38;5;28;01mNone\u001b[39;00m, \u001b[38;5;28;01mNone\u001b[39;00m, \u001b[38;5;28;01mNone\u001b[39;00m\n",
      "File \u001b[1;32m~\\OneDrive\\Desktop\\RLBO\\Smart-Home-Sensor-Placement-Optimization-main\\SensorConfigurationOptimization\\openbox\\optimizer\\generic_smbo.py:422\u001b[0m, in \u001b[0;36mSMBO.run\u001b[1;34m(self)\u001b[0m\n\u001b[0;32m    419\u001b[0m     \u001b[38;5;28;01mbreak\u001b[39;00m\n\u001b[0;32m    420\u001b[0m start_time \u001b[38;5;241m=\u001b[39m time\u001b[38;5;241m.\u001b[39mtime()\n\u001b[1;32m--> 422\u001b[0m \u001b[38;5;28;43mself\u001b[39;49m\u001b[38;5;241;43m.\u001b[39;49m\u001b[43miterate\u001b[49m\u001b[43m(\u001b[49m\u001b[43mbudget_left\u001b[49m\u001b[38;5;241;43m=\u001b[39;49m\u001b[38;5;28;43mself\u001b[39;49m\u001b[38;5;241;43m.\u001b[39;49m\u001b[43mbudget_left\u001b[49m\u001b[43m)\u001b[49m\n\u001b[0;32m    424\u001b[0m runtime \u001b[38;5;241m=\u001b[39m time\u001b[38;5;241m.\u001b[39mtime() \u001b[38;5;241m-\u001b[39m start_time\n\u001b[0;32m    425\u001b[0m \u001b[38;5;28mself\u001b[39m\u001b[38;5;241m.\u001b[39mbudget_left \u001b[38;5;241m-\u001b[39m\u001b[38;5;241m=\u001b[39m runtime\n",
      "File \u001b[1;32m~\\OneDrive\\Desktop\\RLBO\\Smart-Home-Sensor-Placement-Optimization-main\\SensorConfigurationOptimization\\openbox\\optimizer\\generic_smbo.py:437\u001b[0m, in \u001b[0;36mSMBO.iterate\u001b[1;34m(self, budget_left, RLBO, rl_action)\u001b[0m\n\u001b[0;32m    434\u001b[0m     config \u001b[38;5;241m=\u001b[39m \u001b[38;5;28mself\u001b[39m\u001b[38;5;241m.\u001b[39mconfig_advisor\u001b[38;5;241m.\u001b[39mget_suggestion(rl_action \u001b[38;5;241m=\u001b[39m rl_action, RLBO \u001b[38;5;241m=\u001b[39m RLBO)\n\u001b[0;32m    436\u001b[0m \u001b[38;5;28;01melse\u001b[39;00m:\n\u001b[1;32m--> 437\u001b[0m     config \u001b[38;5;241m=\u001b[39m \u001b[38;5;28;43mself\u001b[39;49m\u001b[38;5;241;43m.\u001b[39;49m\u001b[43mconfig_advisor\u001b[49m\u001b[38;5;241;43m.\u001b[39;49m\u001b[43mget_suggestion\u001b[49m\u001b[43m(\u001b[49m\u001b[43m)\u001b[49m\n\u001b[0;32m    439\u001b[0m trial_state \u001b[38;5;241m=\u001b[39m SUCCESS\n\u001b[0;32m    440\u001b[0m _budget_left \u001b[38;5;241m=\u001b[39m \u001b[38;5;28mint\u001b[39m(\u001b[38;5;241m1e10\u001b[39m) \u001b[38;5;28;01mif\u001b[39;00m budget_left \u001b[38;5;129;01mis\u001b[39;00m \u001b[38;5;28;01mNone\u001b[39;00m \u001b[38;5;28;01melse\u001b[39;00m budget_left\n",
      "File \u001b[1;32m~\\OneDrive\\Desktop\\RLBO\\Smart-Home-Sensor-Placement-Optimization-main\\SensorConfigurationOptimization\\openbox\\core\\generic_advisor.py:434\u001b[0m, in \u001b[0;36mAdvisor.get_suggestion\u001b[1;34m(self, history_container, return_list, rl_action, RLBO)\u001b[0m\n\u001b[0;32m    426\u001b[0m         \u001b[38;5;28mself\u001b[39m\u001b[38;5;241m.\u001b[39macquisition_function\u001b[38;5;241m.\u001b[39mupdate(model\u001b[38;5;241m=\u001b[39m\u001b[38;5;28mself\u001b[39m\u001b[38;5;241m.\u001b[39msurrogate_model,\n\u001b[0;32m    427\u001b[0m                                          constraint_models\u001b[38;5;241m=\u001b[39m\u001b[38;5;28mself\u001b[39m\u001b[38;5;241m.\u001b[39mconstraint_models,\n\u001b[0;32m    428\u001b[0m                                          constraint_perfs\u001b[38;5;241m=\u001b[39mcY,  \u001b[38;5;66;03m# for MESMOC\u001b[39;00m\n\u001b[0;32m    429\u001b[0m                                          eta\u001b[38;5;241m=\u001b[39mmo_incumbent_value,\n\u001b[0;32m    430\u001b[0m                                          num_data\u001b[38;5;241m=\u001b[39mnum_config_evaluated,\n\u001b[0;32m    431\u001b[0m                                          X\u001b[38;5;241m=\u001b[39mX, Y\u001b[38;5;241m=\u001b[39mY)\n\u001b[0;32m    433\u001b[0m \u001b[38;5;66;03m# optimize acquisition function\u001b[39;00m\n\u001b[1;32m--> 434\u001b[0m challengers \u001b[38;5;241m=\u001b[39m \u001b[38;5;28;43mself\u001b[39;49m\u001b[38;5;241;43m.\u001b[39;49m\u001b[43moptimizer\u001b[49m\u001b[38;5;241;43m.\u001b[39;49m\u001b[43mmaximize\u001b[49m\u001b[43m(\u001b[49m\u001b[43mrunhistory\u001b[49m\u001b[38;5;241;43m=\u001b[39;49m\u001b[43mhistory_container\u001b[49m\u001b[43m,\u001b[49m\n\u001b[0;32m    435\u001b[0m \u001b[43m                                      \u001b[49m\u001b[43mnum_points\u001b[49m\u001b[38;5;241;43m=\u001b[39;49m\u001b[38;5;241;43m5000\u001b[39;49m\u001b[43m)\u001b[49m\n\u001b[0;32m    437\u001b[0m \u001b[38;5;28;01mif\u001b[39;00m RLBO:\n\u001b[0;32m    438\u001b[0m     \u001b[38;5;28mself\u001b[39m\u001b[38;5;241m.\u001b[39ms \u001b[38;5;241m=\u001b[39m \u001b[38;5;28mself\u001b[39m\u001b[38;5;241m.\u001b[39macquisition_function\u001b[38;5;241m.\u001b[39mget_variance()\n",
      "File \u001b[1;32m~\\OneDrive\\Desktop\\RLBO\\Smart-Home-Sensor-Placement-Optimization-main\\SensorConfigurationOptimization\\openbox\\acq_maximizer\\ei_optimization.py:693\u001b[0m, in \u001b[0;36mRandomScipyOptimizer.maximize\u001b[1;34m(self, runhistory, num_points, num_trials, **kwargs)\u001b[0m\n\u001b[0;32m    690\u001b[0m \u001b[38;5;28;01massert\u001b[39;00m num_trials \u001b[38;5;241m>\u001b[39m\u001b[38;5;241m=\u001b[39m \u001b[38;5;241m3\u001b[39m\n\u001b[0;32m    691\u001b[0m acq_configs \u001b[38;5;241m=\u001b[39m []\n\u001b[1;32m--> 693\u001b[0m initial_configs \u001b[38;5;241m=\u001b[39m \u001b[38;5;28mself\u001b[39m\u001b[38;5;241m.\u001b[39mrandom_search\u001b[38;5;241m.\u001b[39mmaximize(runhistory, num_points, \u001b[38;5;241m*\u001b[39m\u001b[38;5;241m*\u001b[39mkwargs)\u001b[38;5;241m.\u001b[39mchallengers\n\u001b[0;32m    695\u001b[0m initial_acqs \u001b[38;5;241m=\u001b[39m \u001b[38;5;28mself\u001b[39m\u001b[38;5;241m.\u001b[39macquisition_function(initial_configs)\n\u001b[0;32m    696\u001b[0m acq_configs\u001b[38;5;241m.\u001b[39mextend(\u001b[38;5;28mzip\u001b[39m(initial_acqs, initial_configs))\n",
      "File \u001b[1;32m~\\OneDrive\\Desktop\\RLBO\\Smart-Home-Sensor-Placement-Optimization-main\\SensorConfigurationOptimization\\openbox\\acq_maximizer\\ei_optimization.py:524\u001b[0m, in \u001b[0;36mInterleavedLocalAndRandomSearch.maximize\u001b[1;34m(self, runhistory, num_points, random_configuration_chooser, **kwargs)\u001b[0m\n\u001b[0;32m    492\u001b[0m \u001b[38;5;28;01mdef\u001b[39;00m \u001b[38;5;21mmaximize\u001b[39m(\n\u001b[0;32m    493\u001b[0m         \u001b[38;5;28mself\u001b[39m,\n\u001b[0;32m    494\u001b[0m         runhistory: HistoryContainer,\n\u001b[1;32m   (...)\u001b[0m\n\u001b[0;32m    497\u001b[0m         \u001b[38;5;241m*\u001b[39m\u001b[38;5;241m*\u001b[39mkwargs\n\u001b[0;32m    498\u001b[0m ) \u001b[38;5;241m-\u001b[39m\u001b[38;5;241m>\u001b[39m Iterable[Configuration]:\n\u001b[0;32m    499\u001b[0m     \u001b[38;5;124;03m\"\"\"Maximize acquisition function using ``_maximize``.\u001b[39;00m\n\u001b[0;32m    500\u001b[0m \n\u001b[0;32m    501\u001b[0m \u001b[38;5;124;03m    Parameters\u001b[39;00m\n\u001b[1;32m   (...)\u001b[0m\n\u001b[0;32m    519\u001b[0m \u001b[38;5;124;03m        to be concrete: ~openbox.ei_optimization.ChallengerList\u001b[39;00m\n\u001b[0;32m    520\u001b[0m \u001b[38;5;124;03m    \"\"\"\u001b[39;00m\n\u001b[1;32m--> 524\u001b[0m     next_configs_by_local_search \u001b[38;5;241m=\u001b[39m \u001b[38;5;28mself\u001b[39m\u001b[38;5;241m.\u001b[39mlocal_search\u001b[38;5;241m.\u001b[39m_maximize(\n\u001b[0;32m    525\u001b[0m         runhistory, \u001b[38;5;28mself\u001b[39m\u001b[38;5;241m.\u001b[39mn_sls_iterations, \u001b[38;5;241m*\u001b[39m\u001b[38;5;241m*\u001b[39mkwargs\n\u001b[0;32m    526\u001b[0m     )\n\u001b[0;32m    528\u001b[0m     \u001b[38;5;66;03m# Get configurations sorted by EI\u001b[39;00m\n\u001b[0;32m    529\u001b[0m     next_configs_by_random_search_sorted \u001b[38;5;241m=\u001b[39m \u001b[38;5;28mself\u001b[39m\u001b[38;5;241m.\u001b[39mrandom_search\u001b[38;5;241m.\u001b[39m_maximize(\n\u001b[0;32m    530\u001b[0m         runhistory,\n\u001b[0;32m    531\u001b[0m         num_points \u001b[38;5;241m-\u001b[39m \u001b[38;5;28mlen\u001b[39m(next_configs_by_local_search),\n\u001b[0;32m    532\u001b[0m         _sorted\u001b[38;5;241m=\u001b[39m\u001b[38;5;28;01mTrue\u001b[39;00m,\n\u001b[0;32m    533\u001b[0m     )\n",
      "File \u001b[1;32m~\\OneDrive\\Desktop\\RLBO\\Smart-Home-Sensor-Placement-Optimization-main\\SensorConfigurationOptimization\\openbox\\acq_maximizer\\ei_optimization.py:282\u001b[0m, in \u001b[0;36mLocalSearch._maximize\u001b[1;34m(self, runhistory, num_points, **kwargs)\u001b[0m\n\u001b[0;32m    280\u001b[0m \u001b[38;5;66;03m# Start N local search from different random start points\u001b[39;00m\n\u001b[0;32m    281\u001b[0m \u001b[38;5;28;01mfor\u001b[39;00m start_point \u001b[38;5;129;01min\u001b[39;00m init_points:\n\u001b[1;32m--> 282\u001b[0m     acq_val, configuration \u001b[38;5;241m=\u001b[39m \u001b[38;5;28mself\u001b[39m\u001b[38;5;241m.\u001b[39m_one_iter(\n\u001b[0;32m    283\u001b[0m         start_point, \u001b[38;5;241m*\u001b[39m\u001b[38;5;241m*\u001b[39mkwargs)\n\u001b[0;32m    285\u001b[0m     configuration\u001b[38;5;241m.\u001b[39morigin \u001b[38;5;241m=\u001b[39m \u001b[38;5;124m\"\u001b[39m\u001b[38;5;124mLocal Search\u001b[39m\u001b[38;5;124m\"\u001b[39m\n\u001b[0;32m    286\u001b[0m     acq_configs\u001b[38;5;241m.\u001b[39mappend((acq_val, configuration))\n",
      "File \u001b[1;32m~\\OneDrive\\Desktop\\RLBO\\Smart-Home-Sensor-Placement-Optimization-main\\SensorConfigurationOptimization\\openbox\\acq_maximizer\\ei_optimization.py:352\u001b[0m, in \u001b[0;36mLocalSearch._one_iter\u001b[1;34m(self, start_point, **kwargs)\u001b[0m\n\u001b[0;32m    350\u001b[0m s_time \u001b[38;5;241m=\u001b[39m time\u001b[38;5;241m.\u001b[39mtime()\n\u001b[0;32m    351\u001b[0m \u001b[38;5;66;03m# HERE\u001b[39;00m\n\u001b[1;32m--> 352\u001b[0m acq_val \u001b[38;5;241m=\u001b[39m \u001b[38;5;28mself\u001b[39m\u001b[38;5;241m.\u001b[39macquisition_function([neighbor], \u001b[38;5;241m*\u001b[39m\u001b[38;5;241m*\u001b[39mkwargs)\n\u001b[0;32m    353\u001b[0m neighbors_looked_at \u001b[38;5;241m+\u001b[39m\u001b[38;5;241m=\u001b[39m \u001b[38;5;241m1\u001b[39m\n\u001b[0;32m    354\u001b[0m time_n\u001b[38;5;241m.\u001b[39mappend(time\u001b[38;5;241m.\u001b[39mtime() \u001b[38;5;241m-\u001b[39m s_time)\n",
      "File \u001b[1;32m~\\OneDrive\\Desktop\\RLBO\\Smart-Home-Sensor-Placement-Optimization-main\\SensorConfigurationOptimization\\openbox\\acquisition_function\\acquisition.py:91\u001b[0m, in \u001b[0;36mAbstractAcquisitionFunction.__call__\u001b[1;34m(self, configurations, convert, **kwargs)\u001b[0m\n\u001b[0;32m     88\u001b[0m \u001b[38;5;28;01mif\u001b[39;00m \u001b[38;5;28mlen\u001b[39m(X\u001b[38;5;241m.\u001b[39mshape) \u001b[38;5;241m==\u001b[39m \u001b[38;5;241m1\u001b[39m:\n\u001b[0;32m     89\u001b[0m     X \u001b[38;5;241m=\u001b[39m X[np\u001b[38;5;241m.\u001b[39mnewaxis, :]\n\u001b[1;32m---> 91\u001b[0m acq \u001b[38;5;241m=\u001b[39m \u001b[38;5;28mself\u001b[39m\u001b[38;5;241m.\u001b[39m_compute(X, \u001b[38;5;241m*\u001b[39m\u001b[38;5;241m*\u001b[39mkwargs)\n\u001b[0;32m     92\u001b[0m \u001b[38;5;28;01mif\u001b[39;00m np\u001b[38;5;241m.\u001b[39many(np\u001b[38;5;241m.\u001b[39misnan(acq)):\n\u001b[0;32m     93\u001b[0m     idx \u001b[38;5;241m=\u001b[39m np\u001b[38;5;241m.\u001b[39mwhere(np\u001b[38;5;241m.\u001b[39misnan(acq))[\u001b[38;5;241m0\u001b[39m]\n",
      "File \u001b[1;32m~\\OneDrive\\Desktop\\RLBO\\Smart-Home-Sensor-Placement-Optimization-main\\SensorConfigurationOptimization\\openbox\\acquisition_function\\acquisition.py:196\u001b[0m, in \u001b[0;36mKG._compute\u001b[1;34m(self, X, **kwargs)\u001b[0m\n\u001b[0;32m    193\u001b[0m \u001b[38;5;28;01mif\u001b[39;00m \u001b[38;5;28mlen\u001b[39m(X\u001b[38;5;241m.\u001b[39mshape) \u001b[38;5;241m==\u001b[39m \u001b[38;5;241m1\u001b[39m:\n\u001b[0;32m    194\u001b[0m     X \u001b[38;5;241m=\u001b[39m X[:, np\u001b[38;5;241m.\u001b[39mnewaxis]\n\u001b[1;32m--> 196\u001b[0m m, v \u001b[38;5;241m=\u001b[39m \u001b[38;5;28;43mself\u001b[39;49m\u001b[38;5;241;43m.\u001b[39;49m\u001b[43mmodel\u001b[49m\u001b[38;5;241;43m.\u001b[39;49m\u001b[43mpredict_marginalized_over_instances\u001b[49m\u001b[43m(\u001b[49m\u001b[43mX\u001b[49m\u001b[43m)\u001b[49m\n\u001b[0;32m    197\u001b[0m \u001b[38;5;28mself\u001b[39m\u001b[38;5;241m.\u001b[39ms \u001b[38;5;241m=\u001b[39m np\u001b[38;5;241m.\u001b[39msqrt(v)\n\u001b[0;32m    198\u001b[0m \u001b[38;5;28mself\u001b[39m\u001b[38;5;241m.\u001b[39mm \u001b[38;5;241m=\u001b[39m m\n",
      "File \u001b[1;32m~\\OneDrive\\Desktop\\RLBO\\Smart-Home-Sensor-Placement-Optimization-main\\SensorConfigurationOptimization\\openbox\\surrogate\\base\\rf_with_instances_sklearn.py:277\u001b[0m, in \u001b[0;36mskRandomForestWithInstances.predict_marginalized_over_instances\u001b[1;34m(self, X)\u001b[0m\n\u001b[0;32m    275\u001b[0m     \u001b[38;5;28;01mraise\u001b[39;00m \u001b[38;5;167;01mNotImplementedError\u001b[39;00m\n\u001b[0;32m    276\u001b[0m \u001b[38;5;28;01melse\u001b[39;00m:\n\u001b[1;32m--> 277\u001b[0m     \u001b[38;5;28;01mreturn\u001b[39;00m \u001b[38;5;28;43msuper\u001b[39;49m\u001b[43m(\u001b[49m\u001b[43m)\u001b[49m\u001b[38;5;241;43m.\u001b[39;49m\u001b[43mpredict_marginalized_over_instances\u001b[49m\u001b[43m(\u001b[49m\u001b[43mX\u001b[49m\u001b[43m)\u001b[49m\n",
      "File \u001b[1;32m~\\OneDrive\\Desktop\\RLBO\\Smart-Home-Sensor-Placement-Optimization-main\\SensorConfigurationOptimization\\openbox\\surrogate\\base\\base_model.py:246\u001b[0m, in \u001b[0;36mAbstractModel.predict_marginalized_over_instances\u001b[1;34m(self, X)\u001b[0m\n\u001b[0;32m    242\u001b[0m     \u001b[38;5;28;01mraise\u001b[39;00m \u001b[38;5;167;01mValueError\u001b[39;00m(\u001b[38;5;124m'\u001b[39m\u001b[38;5;124mRows in X should have \u001b[39m\u001b[38;5;132;01m%d\u001b[39;00m\u001b[38;5;124m entries but have \u001b[39m\u001b[38;5;132;01m%d\u001b[39;00m\u001b[38;5;124m!\u001b[39m\u001b[38;5;124m'\u001b[39m \u001b[38;5;241m%\u001b[39m (\u001b[38;5;28mlen\u001b[39m(\u001b[38;5;28mself\u001b[39m\u001b[38;5;241m.\u001b[39mtypes), X\u001b[38;5;241m.\u001b[39mshape[\u001b[38;5;241m1\u001b[39m]))\n\u001b[0;32m    244\u001b[0m \u001b[38;5;28;01mif\u001b[39;00m \u001b[38;5;28mself\u001b[39m\u001b[38;5;241m.\u001b[39minstance_features \u001b[38;5;129;01mis\u001b[39;00m \u001b[38;5;28;01mNone\u001b[39;00m \u001b[38;5;129;01mor\u001b[39;00m \\\n\u001b[0;32m    245\u001b[0m         \u001b[38;5;28mlen\u001b[39m(\u001b[38;5;28mself\u001b[39m\u001b[38;5;241m.\u001b[39minstance_features) \u001b[38;5;241m==\u001b[39m \u001b[38;5;241m0\u001b[39m:\n\u001b[1;32m--> 246\u001b[0m     mean, var \u001b[38;5;241m=\u001b[39m \u001b[38;5;28;43mself\u001b[39;49m\u001b[38;5;241;43m.\u001b[39;49m\u001b[43mpredict\u001b[49m\u001b[43m(\u001b[49m\u001b[43mX\u001b[49m\u001b[43m)\u001b[49m\n\u001b[0;32m    247\u001b[0m     var[var \u001b[38;5;241m<\u001b[39m \u001b[38;5;28mself\u001b[39m\u001b[38;5;241m.\u001b[39mvar_threshold] \u001b[38;5;241m=\u001b[39m \u001b[38;5;28mself\u001b[39m\u001b[38;5;241m.\u001b[39mvar_threshold\n\u001b[0;32m    248\u001b[0m     var[np\u001b[38;5;241m.\u001b[39misnan(var)] \u001b[38;5;241m=\u001b[39m \u001b[38;5;28mself\u001b[39m\u001b[38;5;241m.\u001b[39mvar_threshold\n",
      "File \u001b[1;32m~\\OneDrive\\Desktop\\RLBO\\Smart-Home-Sensor-Placement-Optimization-main\\SensorConfigurationOptimization\\openbox\\surrogate\\base\\base_model.py:193\u001b[0m, in \u001b[0;36mAbstractModel.predict\u001b[1;34m(self, X)\u001b[0m\n\u001b[0;32m    190\u001b[0m \u001b[38;5;28;01mif\u001b[39;00m X\u001b[38;5;241m.\u001b[39mshape[\u001b[38;5;241m1\u001b[39m] \u001b[38;5;241m!=\u001b[39m \u001b[38;5;28mlen\u001b[39m(\u001b[38;5;28mself\u001b[39m\u001b[38;5;241m.\u001b[39mtypes):\n\u001b[0;32m    191\u001b[0m     \u001b[38;5;28;01mraise\u001b[39;00m \u001b[38;5;167;01mValueError\u001b[39;00m(\u001b[38;5;124m'\u001b[39m\u001b[38;5;124mRows in X should have \u001b[39m\u001b[38;5;132;01m%d\u001b[39;00m\u001b[38;5;124m entries but have \u001b[39m\u001b[38;5;132;01m%d\u001b[39;00m\u001b[38;5;124m!\u001b[39m\u001b[38;5;124m'\u001b[39m \u001b[38;5;241m%\u001b[39m (\u001b[38;5;28mlen\u001b[39m(\u001b[38;5;28mself\u001b[39m\u001b[38;5;241m.\u001b[39mtypes), X\u001b[38;5;241m.\u001b[39mshape[\u001b[38;5;241m1\u001b[39m]))\n\u001b[1;32m--> 193\u001b[0m mean, var \u001b[38;5;241m=\u001b[39m \u001b[38;5;28;43mself\u001b[39;49m\u001b[38;5;241;43m.\u001b[39;49m\u001b[43m_predict\u001b[49m\u001b[43m(\u001b[49m\u001b[43mX\u001b[49m\u001b[43m)\u001b[49m\n\u001b[0;32m    195\u001b[0m \u001b[38;5;28;01mif\u001b[39;00m \u001b[38;5;28mlen\u001b[39m(mean\u001b[38;5;241m.\u001b[39mshape) \u001b[38;5;241m==\u001b[39m \u001b[38;5;241m1\u001b[39m:\n\u001b[0;32m    196\u001b[0m     mean \u001b[38;5;241m=\u001b[39m mean\u001b[38;5;241m.\u001b[39mreshape((\u001b[38;5;241m-\u001b[39m\u001b[38;5;241m1\u001b[39m, \u001b[38;5;241m1\u001b[39m))\n",
      "File \u001b[1;32m~\\OneDrive\\Desktop\\RLBO\\Smart-Home-Sensor-Placement-Optimization-main\\SensorConfigurationOptimization\\openbox\\surrogate\\base\\rf_with_instances_sklearn.py:243\u001b[0m, in \u001b[0;36mskRandomForestWithInstances._predict\u001b[1;34m(self, X)\u001b[0m\n\u001b[0;32m    241\u001b[0m     \u001b[38;5;28;01mraise\u001b[39;00m \u001b[38;5;167;01mNotImplementedError\u001b[39;00m\n\u001b[0;32m    242\u001b[0m \u001b[38;5;28;01melse\u001b[39;00m:\n\u001b[1;32m--> 243\u001b[0m     means, vars_ \u001b[38;5;241m=\u001b[39m \u001b[38;5;28;43mself\u001b[39;49m\u001b[38;5;241;43m.\u001b[39;49m\u001b[43mpredict_mean_var\u001b[49m\u001b[43m(\u001b[49m\u001b[43mX\u001b[49m\u001b[43m)\u001b[49m\n\u001b[0;32m    245\u001b[0m \u001b[38;5;28;01mreturn\u001b[39;00m means\u001b[38;5;241m.\u001b[39mreshape((\u001b[38;5;241m-\u001b[39m\u001b[38;5;241m1\u001b[39m, \u001b[38;5;241m1\u001b[39m)), vars_\u001b[38;5;241m.\u001b[39mreshape((\u001b[38;5;241m-\u001b[39m\u001b[38;5;241m1\u001b[39m, \u001b[38;5;241m1\u001b[39m))\n",
      "File \u001b[1;32m~\\OneDrive\\Desktop\\RLBO\\Smart-Home-Sensor-Placement-Optimization-main\\SensorConfigurationOptimization\\openbox\\surrogate\\base\\rf_with_instances_sklearn.py:209\u001b[0m, in \u001b[0;36mskRandomForestWithInstances.predict_mean_var\u001b[1;34m(self, X)\u001b[0m\n\u001b[0;32m    207\u001b[0m \u001b[38;5;66;03m# Parallel loop\u001b[39;00m\n\u001b[0;32m    208\u001b[0m lock \u001b[38;5;241m=\u001b[39m threading\u001b[38;5;241m.\u001b[39mLock()\n\u001b[1;32m--> 209\u001b[0m \u001b[43mParallel\u001b[49m\u001b[43m(\u001b[49m\u001b[43mn_jobs\u001b[49m\u001b[38;5;241;43m=\u001b[39;49m\u001b[43mn_jobs\u001b[49m\u001b[43m,\u001b[49m\u001b[43m \u001b[49m\u001b[43mverbose\u001b[49m\u001b[38;5;241;43m=\u001b[39;49m\u001b[38;5;28;43mself\u001b[39;49m\u001b[38;5;241;43m.\u001b[39;49m\u001b[43mrf\u001b[49m\u001b[38;5;241;43m.\u001b[39;49m\u001b[43mverbose\u001b[49m\u001b[43m,\u001b[49m\n\u001b[0;32m    210\u001b[0m \u001b[43m         \u001b[49m\u001b[38;5;241;43m*\u001b[39;49m\u001b[38;5;241;43m*\u001b[39;49m\u001b[43m_joblib_parallel_args\u001b[49m\u001b[43m(\u001b[49m\u001b[43mrequire\u001b[49m\u001b[38;5;241;43m=\u001b[39;49m\u001b[38;5;124;43m\"\u001b[39;49m\u001b[38;5;124;43msharedmem\u001b[39;49m\u001b[38;5;124;43m\"\u001b[39;49m\u001b[43m)\u001b[49m\u001b[43m)\u001b[49m\u001b[43m(\u001b[49m\n\u001b[0;32m    211\u001b[0m \u001b[43m    \u001b[49m\u001b[43mdelayed\u001b[49m\u001b[43m(\u001b[49m\u001b[43m_collect_prediction\u001b[49m\u001b[43m)\u001b[49m\u001b[43m(\u001b[49m\u001b[43me\u001b[49m\u001b[38;5;241;43m.\u001b[39;49m\u001b[43mpredict\u001b[49m\u001b[43m,\u001b[49m\u001b[43m \u001b[49m\u001b[43mX\u001b[49m\u001b[43m,\u001b[49m\u001b[43m \u001b[49m\u001b[43mall_y_preds\u001b[49m\u001b[43m,\u001b[49m\u001b[43m \u001b[49m\u001b[43mlock\u001b[49m\u001b[43m)\u001b[49m\n\u001b[0;32m    212\u001b[0m \u001b[43m    \u001b[49m\u001b[38;5;28;43;01mfor\u001b[39;49;00m\u001b[43m \u001b[49m\u001b[43me\u001b[49m\u001b[43m \u001b[49m\u001b[38;5;129;43;01min\u001b[39;49;00m\u001b[43m \u001b[49m\u001b[38;5;28;43mself\u001b[39;49m\u001b[38;5;241;43m.\u001b[39;49m\u001b[43mrf\u001b[49m\u001b[38;5;241;43m.\u001b[39;49m\u001b[43mestimators_\u001b[49m\u001b[43m)\u001b[49m\n\u001b[0;32m    213\u001b[0m all_y_preds \u001b[38;5;241m=\u001b[39m np\u001b[38;5;241m.\u001b[39masarray(all_y_preds, dtype\u001b[38;5;241m=\u001b[39mnp\u001b[38;5;241m.\u001b[39mfloat64)\n\u001b[0;32m    215\u001b[0m m \u001b[38;5;241m=\u001b[39m np\u001b[38;5;241m.\u001b[39mmean(all_y_preds, axis\u001b[38;5;241m=\u001b[39m\u001b[38;5;241m0\u001b[39m)\n",
      "File \u001b[1;32m~\\anaconda3\\lib\\site-packages\\joblib\\parallel.py:1046\u001b[0m, in \u001b[0;36mParallel.__call__\u001b[1;34m(self, iterable)\u001b[0m\n\u001b[0;32m   1043\u001b[0m \u001b[38;5;28;01mif\u001b[39;00m \u001b[38;5;28mself\u001b[39m\u001b[38;5;241m.\u001b[39mdispatch_one_batch(iterator):\n\u001b[0;32m   1044\u001b[0m     \u001b[38;5;28mself\u001b[39m\u001b[38;5;241m.\u001b[39m_iterating \u001b[38;5;241m=\u001b[39m \u001b[38;5;28mself\u001b[39m\u001b[38;5;241m.\u001b[39m_original_iterator \u001b[38;5;129;01mis\u001b[39;00m \u001b[38;5;129;01mnot\u001b[39;00m \u001b[38;5;28;01mNone\u001b[39;00m\n\u001b[1;32m-> 1046\u001b[0m \u001b[38;5;28;01mwhile\u001b[39;00m \u001b[38;5;28;43mself\u001b[39;49m\u001b[38;5;241;43m.\u001b[39;49m\u001b[43mdispatch_one_batch\u001b[49m\u001b[43m(\u001b[49m\u001b[43miterator\u001b[49m\u001b[43m)\u001b[49m:\n\u001b[0;32m   1047\u001b[0m     \u001b[38;5;28;01mpass\u001b[39;00m\n\u001b[0;32m   1049\u001b[0m \u001b[38;5;28;01mif\u001b[39;00m pre_dispatch \u001b[38;5;241m==\u001b[39m \u001b[38;5;124m\"\u001b[39m\u001b[38;5;124mall\u001b[39m\u001b[38;5;124m\"\u001b[39m \u001b[38;5;129;01mor\u001b[39;00m n_jobs \u001b[38;5;241m==\u001b[39m \u001b[38;5;241m1\u001b[39m:\n\u001b[0;32m   1050\u001b[0m     \u001b[38;5;66;03m# The iterable was consumed all at once by the above for loop.\u001b[39;00m\n\u001b[0;32m   1051\u001b[0m     \u001b[38;5;66;03m# No need to wait for async callbacks to trigger to\u001b[39;00m\n\u001b[0;32m   1052\u001b[0m     \u001b[38;5;66;03m# consumption.\u001b[39;00m\n",
      "File \u001b[1;32m~\\anaconda3\\lib\\site-packages\\joblib\\parallel.py:861\u001b[0m, in \u001b[0;36mParallel.dispatch_one_batch\u001b[1;34m(self, iterator)\u001b[0m\n\u001b[0;32m    859\u001b[0m     \u001b[38;5;28;01mreturn\u001b[39;00m \u001b[38;5;28;01mFalse\u001b[39;00m\n\u001b[0;32m    860\u001b[0m \u001b[38;5;28;01melse\u001b[39;00m:\n\u001b[1;32m--> 861\u001b[0m     \u001b[38;5;28;43mself\u001b[39;49m\u001b[38;5;241;43m.\u001b[39;49m\u001b[43m_dispatch\u001b[49m\u001b[43m(\u001b[49m\u001b[43mtasks\u001b[49m\u001b[43m)\u001b[49m\n\u001b[0;32m    862\u001b[0m     \u001b[38;5;28;01mreturn\u001b[39;00m \u001b[38;5;28;01mTrue\u001b[39;00m\n",
      "File \u001b[1;32m~\\anaconda3\\lib\\site-packages\\joblib\\parallel.py:779\u001b[0m, in \u001b[0;36mParallel._dispatch\u001b[1;34m(self, batch)\u001b[0m\n\u001b[0;32m    777\u001b[0m \u001b[38;5;28;01mwith\u001b[39;00m \u001b[38;5;28mself\u001b[39m\u001b[38;5;241m.\u001b[39m_lock:\n\u001b[0;32m    778\u001b[0m     job_idx \u001b[38;5;241m=\u001b[39m \u001b[38;5;28mlen\u001b[39m(\u001b[38;5;28mself\u001b[39m\u001b[38;5;241m.\u001b[39m_jobs)\n\u001b[1;32m--> 779\u001b[0m     job \u001b[38;5;241m=\u001b[39m \u001b[38;5;28;43mself\u001b[39;49m\u001b[38;5;241;43m.\u001b[39;49m\u001b[43m_backend\u001b[49m\u001b[38;5;241;43m.\u001b[39;49m\u001b[43mapply_async\u001b[49m\u001b[43m(\u001b[49m\u001b[43mbatch\u001b[49m\u001b[43m,\u001b[49m\u001b[43m \u001b[49m\u001b[43mcallback\u001b[49m\u001b[38;5;241;43m=\u001b[39;49m\u001b[43mcb\u001b[49m\u001b[43m)\u001b[49m\n\u001b[0;32m    780\u001b[0m     \u001b[38;5;66;03m# A job can complete so quickly than its callback is\u001b[39;00m\n\u001b[0;32m    781\u001b[0m     \u001b[38;5;66;03m# called before we get here, causing self._jobs to\u001b[39;00m\n\u001b[0;32m    782\u001b[0m     \u001b[38;5;66;03m# grow. To ensure correct results ordering, .insert is\u001b[39;00m\n\u001b[0;32m    783\u001b[0m     \u001b[38;5;66;03m# used (rather than .append) in the following line\u001b[39;00m\n\u001b[0;32m    784\u001b[0m     \u001b[38;5;28mself\u001b[39m\u001b[38;5;241m.\u001b[39m_jobs\u001b[38;5;241m.\u001b[39minsert(job_idx, job)\n",
      "File \u001b[1;32m~\\anaconda3\\lib\\site-packages\\joblib\\_parallel_backends.py:208\u001b[0m, in \u001b[0;36mSequentialBackend.apply_async\u001b[1;34m(self, func, callback)\u001b[0m\n\u001b[0;32m    206\u001b[0m \u001b[38;5;28;01mdef\u001b[39;00m \u001b[38;5;21mapply_async\u001b[39m(\u001b[38;5;28mself\u001b[39m, func, callback\u001b[38;5;241m=\u001b[39m\u001b[38;5;28;01mNone\u001b[39;00m):\n\u001b[0;32m    207\u001b[0m     \u001b[38;5;124;03m\"\"\"Schedule a func to be run\"\"\"\u001b[39;00m\n\u001b[1;32m--> 208\u001b[0m     result \u001b[38;5;241m=\u001b[39m \u001b[43mImmediateResult\u001b[49m\u001b[43m(\u001b[49m\u001b[43mfunc\u001b[49m\u001b[43m)\u001b[49m\n\u001b[0;32m    209\u001b[0m     \u001b[38;5;28;01mif\u001b[39;00m callback:\n\u001b[0;32m    210\u001b[0m         callback(result)\n",
      "File \u001b[1;32m~\\anaconda3\\lib\\site-packages\\joblib\\_parallel_backends.py:572\u001b[0m, in \u001b[0;36mImmediateResult.__init__\u001b[1;34m(self, batch)\u001b[0m\n\u001b[0;32m    569\u001b[0m \u001b[38;5;28;01mdef\u001b[39;00m \u001b[38;5;21m__init__\u001b[39m(\u001b[38;5;28mself\u001b[39m, batch):\n\u001b[0;32m    570\u001b[0m     \u001b[38;5;66;03m# Don't delay the application, to avoid keeping the input\u001b[39;00m\n\u001b[0;32m    571\u001b[0m     \u001b[38;5;66;03m# arguments in memory\u001b[39;00m\n\u001b[1;32m--> 572\u001b[0m     \u001b[38;5;28mself\u001b[39m\u001b[38;5;241m.\u001b[39mresults \u001b[38;5;241m=\u001b[39m \u001b[43mbatch\u001b[49m\u001b[43m(\u001b[49m\u001b[43m)\u001b[49m\n",
      "File \u001b[1;32m~\\anaconda3\\lib\\site-packages\\joblib\\parallel.py:262\u001b[0m, in \u001b[0;36mBatchedCalls.__call__\u001b[1;34m(self)\u001b[0m\n\u001b[0;32m    258\u001b[0m \u001b[38;5;28;01mdef\u001b[39;00m \u001b[38;5;21m__call__\u001b[39m(\u001b[38;5;28mself\u001b[39m):\n\u001b[0;32m    259\u001b[0m     \u001b[38;5;66;03m# Set the default nested backend to self._backend but do not set the\u001b[39;00m\n\u001b[0;32m    260\u001b[0m     \u001b[38;5;66;03m# change the default number of processes to -1\u001b[39;00m\n\u001b[0;32m    261\u001b[0m     \u001b[38;5;28;01mwith\u001b[39;00m parallel_backend(\u001b[38;5;28mself\u001b[39m\u001b[38;5;241m.\u001b[39m_backend, n_jobs\u001b[38;5;241m=\u001b[39m\u001b[38;5;28mself\u001b[39m\u001b[38;5;241m.\u001b[39m_n_jobs):\n\u001b[1;32m--> 262\u001b[0m         \u001b[38;5;28;01mreturn\u001b[39;00m [func(\u001b[38;5;241m*\u001b[39margs, \u001b[38;5;241m*\u001b[39m\u001b[38;5;241m*\u001b[39mkwargs)\n\u001b[0;32m    263\u001b[0m                 \u001b[38;5;28;01mfor\u001b[39;00m func, args, kwargs \u001b[38;5;129;01min\u001b[39;00m \u001b[38;5;28mself\u001b[39m\u001b[38;5;241m.\u001b[39mitems]\n",
      "File \u001b[1;32m~\\anaconda3\\lib\\site-packages\\joblib\\parallel.py:262\u001b[0m, in \u001b[0;36m<listcomp>\u001b[1;34m(.0)\u001b[0m\n\u001b[0;32m    258\u001b[0m \u001b[38;5;28;01mdef\u001b[39;00m \u001b[38;5;21m__call__\u001b[39m(\u001b[38;5;28mself\u001b[39m):\n\u001b[0;32m    259\u001b[0m     \u001b[38;5;66;03m# Set the default nested backend to self._backend but do not set the\u001b[39;00m\n\u001b[0;32m    260\u001b[0m     \u001b[38;5;66;03m# change the default number of processes to -1\u001b[39;00m\n\u001b[0;32m    261\u001b[0m     \u001b[38;5;28;01mwith\u001b[39;00m parallel_backend(\u001b[38;5;28mself\u001b[39m\u001b[38;5;241m.\u001b[39m_backend, n_jobs\u001b[38;5;241m=\u001b[39m\u001b[38;5;28mself\u001b[39m\u001b[38;5;241m.\u001b[39m_n_jobs):\n\u001b[1;32m--> 262\u001b[0m         \u001b[38;5;28;01mreturn\u001b[39;00m [func(\u001b[38;5;241m*\u001b[39margs, \u001b[38;5;241m*\u001b[39m\u001b[38;5;241m*\u001b[39mkwargs)\n\u001b[0;32m    263\u001b[0m                 \u001b[38;5;28;01mfor\u001b[39;00m func, args, kwargs \u001b[38;5;129;01min\u001b[39;00m \u001b[38;5;28mself\u001b[39m\u001b[38;5;241m.\u001b[39mitems]\n",
      "File \u001b[1;32m~\\OneDrive\\Desktop\\RLBO\\Smart-Home-Sensor-Placement-Optimization-main\\SensorConfigurationOptimization\\openbox\\surrogate\\base\\rf_with_instances_sklearn.py:30\u001b[0m, in \u001b[0;36m_collect_prediction\u001b[1;34m(predict, X, out, lock)\u001b[0m\n\u001b[0;32m     23\u001b[0m \u001b[38;5;28;01mdef\u001b[39;00m \u001b[38;5;21m_collect_prediction\u001b[39m(predict, X, out, lock):\n\u001b[0;32m     24\u001b[0m     \u001b[38;5;124;03m\"\"\"\u001b[39;00m\n\u001b[0;32m     25\u001b[0m \u001b[38;5;124;03m    This is a utility function for joblib's Parallel.\u001b[39;00m\n\u001b[0;32m     26\u001b[0m \n\u001b[0;32m     27\u001b[0m \u001b[38;5;124;03m    It can't go locally in ForestClassifier or ForestRegressor, because joblib\u001b[39;00m\n\u001b[0;32m     28\u001b[0m \u001b[38;5;124;03m    complains that it cannot pickle it when placed there.\u001b[39;00m\n\u001b[0;32m     29\u001b[0m \u001b[38;5;124;03m    \"\"\"\u001b[39;00m\n\u001b[1;32m---> 30\u001b[0m     prediction \u001b[38;5;241m=\u001b[39m \u001b[43mpredict\u001b[49m\u001b[43m(\u001b[49m\u001b[43mX\u001b[49m\u001b[43m,\u001b[49m\u001b[43m \u001b[49m\u001b[43mcheck_input\u001b[49m\u001b[38;5;241;43m=\u001b[39;49m\u001b[38;5;28;43;01mFalse\u001b[39;49;00m\u001b[43m)\u001b[49m\n\u001b[0;32m     31\u001b[0m     \u001b[38;5;28;01mwith\u001b[39;00m lock:\n\u001b[0;32m     32\u001b[0m         out\u001b[38;5;241m.\u001b[39mappend(prediction)\n",
      "File \u001b[1;32m~\\anaconda3\\lib\\site-packages\\sklearn\\tree\\_classes.py:468\u001b[0m, in \u001b[0;36mBaseDecisionTree.predict\u001b[1;34m(self, X, check_input)\u001b[0m\n\u001b[0;32m    466\u001b[0m check_is_fitted(\u001b[38;5;28mself\u001b[39m)\n\u001b[0;32m    467\u001b[0m X \u001b[38;5;241m=\u001b[39m \u001b[38;5;28mself\u001b[39m\u001b[38;5;241m.\u001b[39m_validate_X_predict(X, check_input)\n\u001b[1;32m--> 468\u001b[0m proba \u001b[38;5;241m=\u001b[39m \u001b[38;5;28;43mself\u001b[39;49m\u001b[38;5;241;43m.\u001b[39;49m\u001b[43mtree_\u001b[49m\u001b[38;5;241;43m.\u001b[39;49m\u001b[43mpredict\u001b[49m\u001b[43m(\u001b[49m\u001b[43mX\u001b[49m\u001b[43m)\u001b[49m\n\u001b[0;32m    469\u001b[0m n_samples \u001b[38;5;241m=\u001b[39m X\u001b[38;5;241m.\u001b[39mshape[\u001b[38;5;241m0\u001b[39m]\n\u001b[0;32m    471\u001b[0m \u001b[38;5;66;03m# Classification\u001b[39;00m\n",
      "\u001b[1;31mKeyboardInterrupt\u001b[0m: "
     ]
    }
   ],
   "source": [
    "import SensorOptimizers.BOforBenchmarkFunctions as bo\n",
    "import numpy as np\n",
    "import pickle\n",
    "import Config as cf\n",
    "\n",
    "ws = []\n",
    "H = []\n",
    "\n",
    "\n",
    "for i in range(5):\n",
    "    print('----- Running BO with: \\n \\t - epsilon: ', cf.epsilon, \n",
    "          '\\n \\t - True optimum: \\n', cf.function.get_global_minimum(cf.D), \n",
    "          ' \\n \\t - initial state: ', cf.initial_state)\n",
    "\n",
    "    BO = bo.BayesianOptimization(testbed = cf.testbed,\n",
    "                                 iteration = cf.bo_iteration, \n",
    "                                 initial_state = cf.initial_state,\n",
    "                                 acquisition_function = cf.acquisition_function,\n",
    "                                 surrogate_model = cf.surrogate_model,\n",
    "                                 acq_optimizer_type = cf.acq_optimizer_type)\n",
    "\n",
    "    history, states, actions, rewards = BO.run(RLBO = False)\n",
    "\n",
    "    H.append({'history': history, \n",
    "              'states': states, \n",
    "              'actions': actions,\n",
    "              'rewards': rewards})"
   ]
  },
  {
   "cell_type": "code",
   "execution_count": null,
   "metadata": {},
   "outputs": [],
   "source": [
    "for h in H:\n",
    "    \n",
    "    h['history'].perfs.pop(0)"
   ]
  },
  {
   "cell_type": "code",
   "execution_count": null,
   "metadata": {
    "scrolled": true
   },
   "outputs": [],
   "source": [
    "import matplotlib.pyplot as plt\n",
    "\n",
    "mins = []\n",
    "\n",
    "for h in H:\n",
    "    h['history'].plot_convergence()\n",
    "    print(h['history'])\n",
    "    mins.append(min(h['history'].get_perfs()))\n",
    "    plt.show()"
   ]
  },
  {
   "cell_type": "code",
   "execution_count": null,
   "metadata": {},
   "outputs": [],
   "source": [
    "name = 'BenchmarkFunctions_Powell10D' + '_BO' + cf.acquisition_function\n",
    "\n",
    "with open('Results_BO/history(' + name + ')', 'wb') as handle:\n",
    "    pickle.dump(history, handle, protocol=pickle.HIGHEST_PROTOCOL)"
   ]
  },
  {
   "cell_type": "code",
   "execution_count": null,
   "metadata": {},
   "outputs": [],
   "source": [
    "cf.acquisition_function"
   ]
  },
  {
   "cell_type": "code",
   "execution_count": null,
   "metadata": {},
   "outputs": [],
   "source": [
    "np.mean(mins)"
   ]
  },
  {
   "cell_type": "code",
   "execution_count": null,
   "metadata": {},
   "outputs": [],
   "source": [
    "np.std(mins)"
   ]
  },
  {
   "cell_type": "code",
   "execution_count": null,
   "metadata": {},
   "outputs": [],
   "source": [
    "history.plot_convergence()"
   ]
  }
 ],
 "metadata": {
  "kernelspec": {
   "display_name": "Python 3 (ipykernel)",
   "language": "python",
   "name": "python3"
  },
  "language_info": {
   "codemirror_mode": {
    "name": "ipython",
    "version": 3
   },
   "file_extension": ".py",
   "mimetype": "text/x-python",
   "name": "python",
   "nbconvert_exporter": "python",
   "pygments_lexer": "ipython3",
   "version": "3.9.12"
  },
  "vscode": {
   "interpreter": {
    "hash": "aee8b7b246df8f9039afb4144a1f6fd8d2ca17a180786b69acc140d282b71a49"
   }
  }
 },
 "nbformat": 4,
 "nbformat_minor": 4
}
