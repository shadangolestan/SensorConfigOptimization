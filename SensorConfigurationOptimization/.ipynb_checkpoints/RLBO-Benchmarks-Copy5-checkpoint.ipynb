{
 "cells": [
  {
   "cell_type": "code",
   "execution_count": 1,
   "metadata": {
    "scrolled": true
   },
   "outputs": [
    {
     "name": "stdout",
     "output_type": "stream",
     "text": [
      "----- Running BO with: \n",
      " \t - epsilon:  1 \n",
      " \t - True optimum: \n",
      " (array([0, 0, 0, 0, 0, 0, 0, 0, 0, 0]), 0)  \n",
      " \t - initial state:  random\n",
      "adviser type is default...\n",
      "[INFO] [2023-02-15 12:40:13,971] [Advisor] === [BO auto selection] === acq_optimizer_type: random_scipy.\n"
     ]
    },
    {
     "ename": "AssertionError",
     "evalue": "",
     "output_type": "error",
     "traceback": [
      "\u001b[1;31m---------------------------------------------------------------------------\u001b[0m",
      "\u001b[1;31mAssertionError\u001b[0m                            Traceback (most recent call last)",
      "Input \u001b[1;32mIn [1]\u001b[0m, in \u001b[0;36m<cell line: 10>\u001b[1;34m()\u001b[0m\n\u001b[0;32m     11\u001b[0m \u001b[38;5;28mprint\u001b[39m(\u001b[38;5;124m'\u001b[39m\u001b[38;5;124m----- Running BO with: \u001b[39m\u001b[38;5;130;01m\\n\u001b[39;00m\u001b[38;5;124m \u001b[39m\u001b[38;5;130;01m\\t\u001b[39;00m\u001b[38;5;124m - epsilon: \u001b[39m\u001b[38;5;124m'\u001b[39m, cf\u001b[38;5;241m.\u001b[39mepsilon, \n\u001b[0;32m     12\u001b[0m       \u001b[38;5;124m'\u001b[39m\u001b[38;5;130;01m\\n\u001b[39;00m\u001b[38;5;124m \u001b[39m\u001b[38;5;130;01m\\t\u001b[39;00m\u001b[38;5;124m - True optimum: \u001b[39m\u001b[38;5;130;01m\\n\u001b[39;00m\u001b[38;5;124m'\u001b[39m, cf\u001b[38;5;241m.\u001b[39mfunction\u001b[38;5;241m.\u001b[39mget_global_minimum(cf\u001b[38;5;241m.\u001b[39mD), \n\u001b[0;32m     13\u001b[0m       \u001b[38;5;124m'\u001b[39m\u001b[38;5;124m \u001b[39m\u001b[38;5;130;01m\\n\u001b[39;00m\u001b[38;5;124m \u001b[39m\u001b[38;5;130;01m\\t\u001b[39;00m\u001b[38;5;124m - initial state: \u001b[39m\u001b[38;5;124m'\u001b[39m, cf\u001b[38;5;241m.\u001b[39minitial_state)\n\u001b[0;32m     15\u001b[0m BO \u001b[38;5;241m=\u001b[39m bo\u001b[38;5;241m.\u001b[39mBayesianOptimization(testbed \u001b[38;5;241m=\u001b[39m cf\u001b[38;5;241m.\u001b[39mtestbed,\n\u001b[0;32m     16\u001b[0m                              iteration \u001b[38;5;241m=\u001b[39m cf\u001b[38;5;241m.\u001b[39mbo_iteration, \n\u001b[0;32m     17\u001b[0m                              initial_state \u001b[38;5;241m=\u001b[39m cf\u001b[38;5;241m.\u001b[39minitial_state,\n\u001b[0;32m     18\u001b[0m                              acquisition_function \u001b[38;5;241m=\u001b[39m cf\u001b[38;5;241m.\u001b[39macquisition_function,\n\u001b[0;32m     19\u001b[0m                              surrogate_model \u001b[38;5;241m=\u001b[39m cf\u001b[38;5;241m.\u001b[39msurrogate_model,\n\u001b[0;32m     20\u001b[0m                              acq_optimizer_type \u001b[38;5;241m=\u001b[39m cf\u001b[38;5;241m.\u001b[39macq_optimizer_type)\n\u001b[1;32m---> 22\u001b[0m history, states, actions, rewards \u001b[38;5;241m=\u001b[39m \u001b[43mBO\u001b[49m\u001b[38;5;241;43m.\u001b[39;49m\u001b[43mrun\u001b[49m\u001b[43m(\u001b[49m\u001b[43mRLBO\u001b[49m\u001b[43m \u001b[49m\u001b[38;5;241;43m=\u001b[39;49m\u001b[43m \u001b[49m\u001b[38;5;28;43;01mFalse\u001b[39;49;00m\u001b[43m)\u001b[49m\n\u001b[0;32m     24\u001b[0m H\u001b[38;5;241m.\u001b[39mappend({\u001b[38;5;124m'\u001b[39m\u001b[38;5;124mhistory\u001b[39m\u001b[38;5;124m'\u001b[39m: history, \n\u001b[0;32m     25\u001b[0m           \u001b[38;5;124m'\u001b[39m\u001b[38;5;124mstates\u001b[39m\u001b[38;5;124m'\u001b[39m: states, \n\u001b[0;32m     26\u001b[0m           \u001b[38;5;124m'\u001b[39m\u001b[38;5;124mactions\u001b[39m\u001b[38;5;124m'\u001b[39m: actions,\n\u001b[0;32m     27\u001b[0m           \u001b[38;5;124m'\u001b[39m\u001b[38;5;124mrewards\u001b[39m\u001b[38;5;124m'\u001b[39m: rewards})\n",
      "File \u001b[1;32m~\\OneDrive\\Desktop\\RLBO\\Smart-Home-Sensor-Placement-Optimization-main\\SensorConfigurationOptimization\\SensorOptimizers\\BOforBenchmarkFunctions.py:90\u001b[0m, in \u001b[0;36mBayesianOptimization.run\u001b[1;34m(self, RLBO)\u001b[0m\n\u001b[0;32m     85\u001b[0m \u001b[38;5;28mself\u001b[39m\u001b[38;5;241m.\u001b[39mspace\u001b[38;5;241m.\u001b[39madd_variables(list_of_variables)\n\u001b[0;32m     88\u001b[0m history_list \u001b[38;5;241m=\u001b[39m []\n\u001b[1;32m---> 90\u001b[0m opt \u001b[38;5;241m=\u001b[39m \u001b[43mOptimizer\u001b[49m\u001b[43m(\u001b[49m\n\u001b[0;32m     91\u001b[0m \u001b[43m    \u001b[49m\u001b[38;5;28;43mself\u001b[39;49m\u001b[38;5;241;43m.\u001b[39;49m\u001b[43mfunction_to_be_optimized\u001b[49m\u001b[43m,\u001b[49m\n\u001b[0;32m     92\u001b[0m \u001b[43m    \u001b[49m\u001b[38;5;28;43mself\u001b[39;49m\u001b[38;5;241;43m.\u001b[39;49m\u001b[43mspace\u001b[49m\u001b[43m,\u001b[49m\n\u001b[0;32m     93\u001b[0m \u001b[43m    \u001b[49m\u001b[43mmax_runs\u001b[49m\u001b[43m \u001b[49m\u001b[38;5;241;43m=\u001b[39;49m\u001b[43m \u001b[49m\u001b[38;5;28;43mself\u001b[39;49m\u001b[38;5;241;43m.\u001b[39;49m\u001b[43mCONSTANTS\u001b[49m\u001b[43m[\u001b[49m\u001b[38;5;124;43m'\u001b[39;49m\u001b[38;5;124;43miterations\u001b[39;49m\u001b[38;5;124;43m'\u001b[39;49m\u001b[43m]\u001b[49m\u001b[43m,\u001b[49m\n\u001b[0;32m     94\u001b[0m \u001b[43m    \u001b[49m\u001b[43macq_optimizer_type\u001b[49m\u001b[43m \u001b[49m\u001b[38;5;241;43m=\u001b[39;49m\u001b[43m \u001b[49m\u001b[38;5;28;43mself\u001b[39;49m\u001b[38;5;241;43m.\u001b[39;49m\u001b[43macq_optimizer_type\u001b[49m\u001b[43m,\u001b[49m\n\u001b[0;32m     95\u001b[0m \u001b[43m    \u001b[49m\u001b[43macq_type\u001b[49m\u001b[43m \u001b[49m\u001b[38;5;241;43m=\u001b[39;49m\u001b[43m \u001b[49m\u001b[38;5;28;43mself\u001b[39;49m\u001b[38;5;241;43m.\u001b[39;49m\u001b[43macquisition_function\u001b[49m\u001b[43m,\u001b[49m\n\u001b[0;32m     96\u001b[0m \u001b[43m    \u001b[49m\u001b[43msurrogate_type\u001b[49m\u001b[43m \u001b[49m\u001b[38;5;241;43m=\u001b[39;49m\u001b[43m \u001b[49m\u001b[38;5;28;43mself\u001b[39;49m\u001b[38;5;241;43m.\u001b[39;49m\u001b[43msurrogate_model\u001b[49m\u001b[43m,\u001b[49m\n\u001b[0;32m     97\u001b[0m \u001b[43m    \u001b[49m\u001b[43mtime_limit_per_trial\u001b[49m\u001b[38;5;241;43m=\u001b[39;49m\u001b[38;5;241;43m31000\u001b[39;49m\u001b[43m,\u001b[49m\n\u001b[0;32m     98\u001b[0m \u001b[43m    \u001b[49m\u001b[43mtask_id\u001b[49m\u001b[43m \u001b[49m\u001b[38;5;241;43m=\u001b[39;49m\u001b[43m \u001b[49m\u001b[38;5;28;43mself\u001b[39;49m\u001b[38;5;241;43m.\u001b[39;49m\u001b[43mtask_id\u001b[49m\u001b[43m,\u001b[49m\n\u001b[0;32m     99\u001b[0m \u001b[43m\u001b[49m\u001b[43m)\u001b[49m\n\u001b[0;32m    100\u001b[0m \u001b[38;5;28;01mif\u001b[39;00m RLBO \u001b[38;5;241m==\u001b[39m \u001b[38;5;28;01mTrue\u001b[39;00m:\n\u001b[0;32m    101\u001b[0m     history, s, a, r \u001b[38;5;241m=\u001b[39m opt\u001b[38;5;241m.\u001b[39mrun_RLBO(RLBO \u001b[38;5;241m=\u001b[39m \u001b[38;5;28mself\u001b[39m\u001b[38;5;241m.\u001b[39mRLBO)\n",
      "File \u001b[1;32m~\\OneDrive\\Desktop\\RLBO\\Smart-Home-Sensor-Placement-Optimization-main\\SensorConfigurationOptimization\\openbox\\optimizer\\generic_smbo.py:152\u001b[0m, in \u001b[0;36mSMBO.__init__\u001b[1;34m(self, objective_function, config_space, num_constraints, num_objs, sample_strategy, max_runs, runtime_limit, time_limit_per_trial, advisor_type, surrogate_type, acq_type, acq_optimizer_type, initial_runs, init_strategy, initial_configurations, ref_point, history_bo_data, logging_dir, task_id, random_state, advisor_kwargs, epsilon, error, **kwargs)\u001b[0m\n\u001b[0;32m    150\u001b[0m     \u001b[38;5;28mprint\u001b[39m(\u001b[38;5;124m'\u001b[39m\u001b[38;5;124madviser type is default...\u001b[39m\u001b[38;5;124m'\u001b[39m)\n\u001b[0;32m    151\u001b[0m     \u001b[38;5;28;01mfrom\u001b[39;00m \u001b[38;5;21;01mopenbox\u001b[39;00m\u001b[38;5;21;01m.\u001b[39;00m\u001b[38;5;21;01mcore\u001b[39;00m\u001b[38;5;21;01m.\u001b[39;00m\u001b[38;5;21;01mgeneric_advisor\u001b[39;00m \u001b[38;5;28;01mimport\u001b[39;00m Advisor\n\u001b[1;32m--> 152\u001b[0m     \u001b[38;5;28mself\u001b[39m\u001b[38;5;241m.\u001b[39mconfig_advisor \u001b[38;5;241m=\u001b[39m Advisor(config_space,\n\u001b[0;32m    153\u001b[0m                                   num_objs\u001b[38;5;241m=\u001b[39mnum_objs,\n\u001b[0;32m    154\u001b[0m                                   num_constraints\u001b[38;5;241m=\u001b[39mnum_constraints,\n\u001b[0;32m    155\u001b[0m                                   initial_trials\u001b[38;5;241m=\u001b[39minitial_runs,\n\u001b[0;32m    156\u001b[0m                                   init_strategy\u001b[38;5;241m=\u001b[39minit_strategy,\n\u001b[0;32m    157\u001b[0m                                   initial_configurations\u001b[38;5;241m=\u001b[39minitial_configurations,\n\u001b[0;32m    158\u001b[0m                                   optimization_strategy\u001b[38;5;241m=\u001b[39msample_strategy,\n\u001b[0;32m    159\u001b[0m                                   surrogate_type\u001b[38;5;241m=\u001b[39msurrogate_type,\n\u001b[0;32m    160\u001b[0m                                   acq_type\u001b[38;5;241m=\u001b[39macq_type,\n\u001b[0;32m    161\u001b[0m                                   acq_optimizer_type\u001b[38;5;241m=\u001b[39macq_optimizer_type,\n\u001b[0;32m    162\u001b[0m                                   ref_point\u001b[38;5;241m=\u001b[39mref_point,\n\u001b[0;32m    163\u001b[0m                                   history_bo_data\u001b[38;5;241m=\u001b[39mhistory_bo_data,\n\u001b[0;32m    164\u001b[0m                                   task_id\u001b[38;5;241m=\u001b[39mtask_id,\n\u001b[0;32m    165\u001b[0m                                   output_dir\u001b[38;5;241m=\u001b[39mlogging_dir,\n\u001b[0;32m    166\u001b[0m                                   random_state\u001b[38;5;241m=\u001b[39mrandom_state,\n\u001b[0;32m    167\u001b[0m                                   epsilon \u001b[38;5;241m=\u001b[39m epsilon,\n\u001b[0;32m    168\u001b[0m                                   error \u001b[38;5;241m=\u001b[39m error,\n\u001b[0;32m    169\u001b[0m                                   \u001b[38;5;241m*\u001b[39m\u001b[38;5;241m*\u001b[39madvisor_kwargs)\n\u001b[0;32m    170\u001b[0m \u001b[38;5;28;01melif\u001b[39;00m advisor_type \u001b[38;5;241m==\u001b[39m \u001b[38;5;124m'\u001b[39m\u001b[38;5;124mmcadvisor\u001b[39m\u001b[38;5;124m'\u001b[39m:\n\u001b[0;32m    171\u001b[0m     \u001b[38;5;28;01mfrom\u001b[39;00m \u001b[38;5;21;01mopenbox\u001b[39;00m\u001b[38;5;21;01m.\u001b[39;00m\u001b[38;5;21;01mcore\u001b[39;00m\u001b[38;5;21;01m.\u001b[39;00m\u001b[38;5;21;01mmc_advisor\u001b[39;00m \u001b[38;5;28;01mimport\u001b[39;00m MCAdvisor\n",
      "File \u001b[1;32m~\\OneDrive\\Desktop\\RLBO\\Smart-Home-Sensor-Placement-Optimization-main\\SensorConfigurationOptimization\\openbox\\core\\generic_advisor.py:98\u001b[0m, in \u001b[0;36mAdvisor.__init__\u001b[1;34m(self, config_space, num_objs, num_constraints, initial_trials, initial_configurations, init_strategy, history_bo_data, rand_prob, optimization_strategy, surrogate_type, acq_type, acq_optimizer_type, ref_point, output_dir, task_id, random_state, epsilon, error, **kwargs)\u001b[0m\n\u001b[0;32m     96\u001b[0m \u001b[38;5;28mself\u001b[39m\u001b[38;5;241m.\u001b[39mf_minus \u001b[38;5;241m=\u001b[39m \u001b[38;5;28;01mNone\u001b[39;00m\n\u001b[0;32m     97\u001b[0m \u001b[38;5;28mself\u001b[39m\u001b[38;5;241m.\u001b[39malgo_auto_selection()\n\u001b[1;32m---> 98\u001b[0m \u001b[38;5;28;43mself\u001b[39;49m\u001b[38;5;241;43m.\u001b[39;49m\u001b[43mcheck_setup\u001b[49m\u001b[43m(\u001b[49m\u001b[43m)\u001b[49m\n\u001b[0;32m     99\u001b[0m \u001b[38;5;28mself\u001b[39m\u001b[38;5;241m.\u001b[39msetup_bo_basics()\n",
      "File \u001b[1;32m~\\OneDrive\\Desktop\\RLBO\\Smart-Home-Sensor-Placement-Optimization-main\\SensorConfigurationOptimization\\openbox\\core\\generic_advisor.py:205\u001b[0m, in \u001b[0;36mAdvisor.check_setup\u001b[1;34m(self)\u001b[0m\n\u001b[0;32m    203\u001b[0m \u001b[38;5;28;01mif\u001b[39;00m \u001b[38;5;28mself\u001b[39m\u001b[38;5;241m.\u001b[39mnum_objs \u001b[38;5;241m==\u001b[39m \u001b[38;5;241m1\u001b[39m:\n\u001b[0;32m    204\u001b[0m     \u001b[38;5;28;01mif\u001b[39;00m \u001b[38;5;28mself\u001b[39m\u001b[38;5;241m.\u001b[39mnum_constraints \u001b[38;5;241m==\u001b[39m \u001b[38;5;241m0\u001b[39m:\n\u001b[1;32m--> 205\u001b[0m         \u001b[38;5;28;01massert\u001b[39;00m \u001b[38;5;28mself\u001b[39m\u001b[38;5;241m.\u001b[39macq_type \u001b[38;5;129;01min\u001b[39;00m [\u001b[38;5;124m'\u001b[39m\u001b[38;5;124mei\u001b[39m\u001b[38;5;124m'\u001b[39m, \u001b[38;5;124m'\u001b[39m\u001b[38;5;124meips\u001b[39m\u001b[38;5;124m'\u001b[39m, \u001b[38;5;124m'\u001b[39m\u001b[38;5;124mlogei\u001b[39m\u001b[38;5;124m'\u001b[39m, \u001b[38;5;124m'\u001b[39m\u001b[38;5;124mpi\u001b[39m\u001b[38;5;124m'\u001b[39m, \u001b[38;5;124m'\u001b[39m\u001b[38;5;124mlcb\u001b[39m\u001b[38;5;124m'\u001b[39m, \u001b[38;5;124m'\u001b[39m\u001b[38;5;124mlpei\u001b[39m\u001b[38;5;124m'\u001b[39m, \u001b[38;5;124m'\u001b[39m\u001b[38;5;124mkg\u001b[39m\u001b[38;5;124m'\u001b[39m, ]\n\u001b[0;32m    206\u001b[0m     \u001b[38;5;28;01melse\u001b[39;00m:  \u001b[38;5;66;03m# with constraints\u001b[39;00m\n\u001b[0;32m    207\u001b[0m         \u001b[38;5;28;01massert\u001b[39;00m \u001b[38;5;28mself\u001b[39m\u001b[38;5;241m.\u001b[39macq_type \u001b[38;5;129;01min\u001b[39;00m [\u001b[38;5;124m'\u001b[39m\u001b[38;5;124meic\u001b[39m\u001b[38;5;124m'\u001b[39m, ]\n",
      "\u001b[1;31mAssertionError\u001b[0m: "
     ]
    }
   ],
   "source": [
    "import SensorOptimizers.BOforBenchmarkFunctions as bo\n",
    "import numpy as np\n",
    "import pickle\n",
    "import Config as cf\n",
    "\n",
    "ws = []\n",
    "H = []\n",
    "\n",
    "\n",
    "for i in range(10):\n",
    "    print('----- Running BO with: \\n \\t - epsilon: ', cf.epsilon, \n",
    "          '\\n \\t - True optimum: \\n', cf.function.get_global_minimum(cf.D), \n",
    "          ' \\n \\t - initial state: ', cf.initial_state)\n",
    "\n",
    "    BO = bo.BayesianOptimization(testbed = cf.testbed,\n",
    "                                 iteration = cf.bo_iteration, \n",
    "                                 initial_state = cf.initial_state,\n",
    "                                 acquisition_function = cf.acquisition_function,\n",
    "                                 surrogate_model = cf.surrogate_model,\n",
    "                                 acq_optimizer_type = cf.acq_optimizer_type)\n",
    "\n",
    "    history, states, actions, rewards = BO.run(RLBO = False)\n",
    "\n",
    "    H.append({'history': history, \n",
    "              'states': states, \n",
    "              'actions': actions,\n",
    "              'rewards': rewards})"
   ]
  },
  {
   "cell_type": "code",
   "execution_count": null,
   "metadata": {},
   "outputs": [],
   "source": [
    "for h in H:\n",
    "    \n",
    "    h['history'].perfs.pop(0)"
   ]
  },
  {
   "cell_type": "code",
   "execution_count": null,
   "metadata": {
    "scrolled": true
   },
   "outputs": [],
   "source": [
    "import matplotlib.pyplot as plt\n",
    "\n",
    "mins = []\n",
    "\n",
    "for h in H:\n",
    "    h['history'].plot_convergence()\n",
    "    print(h['history'])\n",
    "    mins.append(min(h['history'].get_perfs()))\n",
    "    plt.show()"
   ]
  },
  {
   "cell_type": "code",
   "execution_count": null,
   "metadata": {},
   "outputs": [],
   "source": [
    "name = 'BenchmarkFunctions_Powell10D' + '_BO(EI)'\n",
    "\n",
    "with open('Results_BO/history(' + name + ')', 'wb') as handle:\n",
    "    pickle.dump(history, handle, protocol=pickle.HIGHEST_PROTOCOL)"
   ]
  },
  {
   "cell_type": "code",
   "execution_count": null,
   "metadata": {},
   "outputs": [],
   "source": [
    "history.plot_convergence()"
   ]
  }
 ],
 "metadata": {
  "kernelspec": {
   "display_name": "Python 3 (ipykernel)",
   "language": "python",
   "name": "python3"
  },
  "language_info": {
   "codemirror_mode": {
    "name": "ipython",
    "version": 3
   },
   "file_extension": ".py",
   "mimetype": "text/x-python",
   "name": "python",
   "nbconvert_exporter": "python",
   "pygments_lexer": "ipython3",
   "version": "3.9.12"
  },
  "vscode": {
   "interpreter": {
    "hash": "aee8b7b246df8f9039afb4144a1f6fd8d2ca17a180786b69acc140d282b71a49"
   }
  }
 },
 "nbformat": 4,
 "nbformat_minor": 4
}
