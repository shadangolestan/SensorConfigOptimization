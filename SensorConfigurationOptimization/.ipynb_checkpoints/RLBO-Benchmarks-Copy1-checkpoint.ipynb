{
 "cells": [
  {
   "cell_type": "code",
   "execution_count": 1,
   "metadata": {},
   "outputs": [
    {
     "name": "stdout",
     "output_type": "stream",
     "text": [
      "kg\n",
      "0\n"
     ]
    }
   ],
   "source": [
    "import Config as cf\n",
    "print(cf.acquisition_function)\n",
    "\n",
    "print(len(cf.performance))"
   ]
  },
  {
   "cell_type": "code",
   "execution_count": 2,
   "metadata": {
    "scrolled": true
   },
   "outputs": [
    {
     "name": "stdout",
     "output_type": "stream",
     "text": [
      "--------------------\n",
      "20\n",
      "--------------------\n",
      "----- Running BO with: \n",
      " \t - epsilon:  1 \n",
      " \t - True optimum: \n",
      " (array([0, 0, 0, 0, 0, 0, 0, 0, 0, 0]), 0)  \n",
      " \t - initial state:  random  \n",
      " \t - window size:  20\n",
      "adviser type is default...\n",
      "[INFO] [2023-04-11 16:48:17,441] [Advisor] === [BO auto selection] === acq_optimizer_type: random_scipy.\n",
      "[Build Surrogate] Use probabilistic random forest based on scikit-learn. For better performance, please install pyrfr: https://open-box.readthedocs.io/en/latest/installation/install_pyrfr.html\n"
     ]
    },
    {
     "name": "stderr",
     "output_type": "stream",
     "text": [
      "\r",
      "  0%|                                                                                         | 0/1000 [00:00<?, ?it/s]"
     ]
    },
    {
     "name": "stdout",
     "output_type": "stream",
     "text": [
      "[INFO] [2023-04-11 16:48:17,458] [OpenBox-SPO] Iteration 1, objective value: [10.0].\n",
      "\t ----- reward: -10.0 for f_star and f_minus: 100 , 10.0\n",
      "\t ---------- State is:  (6, 100)\n",
      "[INFO] [2023-04-11 16:48:17,458] [OpenBox-SPO] Iteration 2, objective value: [2.1586432015101593].\n",
      "\t ----- reward: -2.1586432015101593 for f_star and f_minus: 100 , 2.1586432015101593\n",
      "\t ---------- State is:  (5, 100)\n",
      "[INFO] [2023-04-11 16:48:17,458] [OpenBox-SPO] Iteration 3, objective value: [2.785098106551141].\n",
      "\t ----- reward: -2.785098106551141 for f_star and f_minus: 100 , 2.785098106551141\n",
      "\t ---------- State is:  (6, 100)\n",
      "[INFO] [2023-04-11 16:48:17,780] [OpenBox-SPO] Iteration 4, objective value: [3.265098746027837].\n"
     ]
    },
    {
     "name": "stderr",
     "output_type": "stream",
     "text": [
      "\r",
      "  0%|▎                                                                                | 4/1000 [00:00<01:20, 12.44it/s]"
     ]
    },
    {
     "name": "stdout",
     "output_type": "stream",
     "text": [
      "\t ----- reward: -3.265098746027837 for f_star and f_minus: 2.1586432015101593 , 3.265098746027837\n",
      "\t ---------- State is:  (7, 2)\n",
      "[INFO] [2023-04-11 16:48:18,139] [OpenBox-SPO] Iteration 5, objective value: [2.1729717034086997].\n",
      "\t ----- reward: -2.1729717034086997 for f_star and f_minus: 2.1586432015101593 , 2.1729717034086997\n",
      "\t ---------- State is:  (8, 2)\n",
      "[INFO] [2023-04-11 16:48:18,583] [OpenBox-SPO] Iteration 6, objective value: [1.84818969924288].\n"
     ]
    },
    {
     "name": "stderr",
     "output_type": "stream",
     "text": [
      "\r",
      "  1%|▍                                                                                | 6/1000 [00:01<03:33,  4.67it/s]"
     ]
    },
    {
     "name": "stdout",
     "output_type": "stream",
     "text": [
      "\t ----- reward: -1.84818969924288 for f_star and f_minus: 2.1586432015101593 , 1.84818969924288\n",
      "\t ---------- State is:  (9, 2)\n",
      "[INFO] [2023-04-11 16:48:19,050] [OpenBox-SPO] Iteration 7, objective value: [1.5026819223973353].\n"
     ]
    },
    {
     "name": "stderr",
     "output_type": "stream",
     "text": [
      "\r",
      "  1%|▌                                                                                | 7/1000 [00:01<04:30,  3.67it/s]"
     ]
    },
    {
     "name": "stdout",
     "output_type": "stream",
     "text": [
      "\t ----- reward: -1.5026819223973353 for f_star and f_minus: 1.84818969924288 , 1.5026819223973353\n",
      "\t ---------- State is:  (8, 1)\n",
      "[INFO] [2023-04-11 16:48:19,678] [OpenBox-SPO] Iteration 8, objective value: [1.4757543469802503].\n"
     ]
    },
    {
     "name": "stderr",
     "output_type": "stream",
     "text": [
      "\r",
      "  1%|▋                                                                                | 8/1000 [00:02<05:57,  2.78it/s]"
     ]
    },
    {
     "name": "stdout",
     "output_type": "stream",
     "text": [
      "\t ----- reward: -1.4757543469802503 for f_star and f_minus: 1.5026819223973353 , 1.4757543469802503\n",
      "\t ---------- State is:  (7, 1)\n",
      "[INFO] [2023-04-11 16:48:19,679] [Advisor] Sample random config. rand_prob=0.100000.\n",
      "[INFO] [2023-04-11 16:48:19,680] [OpenBox-SPO] Iteration 9, objective value: [2.4887699150068463].\n",
      "\t ----- reward: -2.4887699150068463 for f_star and f_minus: 1.5026819223973353 , 2.4887699150068463\n",
      "\t ---------- State is:  (7, 1)\n",
      "[INFO] [2023-04-11 16:48:20,432] [OpenBox-SPO] Iteration 10, objective value: [2.433491937001656].\n"
     ]
    },
    {
     "name": "stderr",
     "output_type": "stream",
     "text": [
      "\r",
      "  1%|▊                                                                               | 10/1000 [00:02<06:03,  2.72it/s]"
     ]
    },
    {
     "name": "stdout",
     "output_type": "stream",
     "text": [
      "\t ----- reward: -2.433491937001656 for f_star and f_minus: 1.4757543469802503 , 2.433491937001656\n",
      "\t ---------- State is:  (8, 1)\n",
      "[INFO] [2023-04-11 16:48:21,417] [OpenBox-SPO] Iteration 11, objective value: [1.122040120634649].\n"
     ]
    },
    {
     "name": "stderr",
     "output_type": "stream",
     "text": [
      "\r",
      "  1%|▉                                                                               | 11/1000 [00:03<08:22,  1.97it/s]"
     ]
    },
    {
     "name": "stdout",
     "output_type": "stream",
     "text": [
      "\t ----- reward: -1.122040120634649 for f_star and f_minus: 1.4757543469802503 , 1.122040120634649\n",
      "\t ---------- State is:  (7, 0)\n",
      "[INFO] [2023-04-11 16:48:22,184] [OpenBox-SPO] Iteration 12, objective value: [2.0770173432358443].\n"
     ]
    },
    {
     "name": "stderr",
     "output_type": "stream",
     "text": [
      "\r",
      "  1%|▉                                                                               | 12/1000 [00:04<09:24,  1.75it/s]"
     ]
    },
    {
     "name": "stdout",
     "output_type": "stream",
     "text": [
      "\t ----- reward: -2.0770173432358443 for f_star and f_minus: 1.122040120634649 , 2.0770173432358443\n",
      "\t ---------- State is:  (7, 1)\n",
      "[INFO] [2023-04-11 16:48:22,184] [Advisor] Sample random config. rand_prob=0.100000.\n",
      "[INFO] [2023-04-11 16:48:22,199] [OpenBox-SPO] Iteration 13, objective value: [1.0995204187139394].\n",
      "\t ----- reward: -1.0995204187139394 for f_star and f_minus: 1.122040120634649 , 1.0995204187139394\n",
      "\t ---------- State is:  (8, 1)\n",
      "[INFO] [2023-04-11 16:48:23,050] [OpenBox-SPO] Iteration 14, objective value: [1.4340512894983994].\n"
     ]
    },
    {
     "name": "stderr",
     "output_type": "stream",
     "text": [
      "\r",
      "  1%|█                                                                               | 14/1000 [00:05<08:30,  1.93it/s]"
     ]
    },
    {
     "name": "stdout",
     "output_type": "stream",
     "text": [
      "\t ----- reward: -1.4340512894983994 for f_star and f_minus: 1.0995204187139394 , 1.4340512894983994\n",
      "\t ---------- State is:  (9, 1)\n",
      "[INFO] [2023-04-11 16:48:24,030] [OpenBox-SPO] Iteration 15, objective value: [1.471587837819404].\n"
     ]
    },
    {
     "name": "stderr",
     "output_type": "stream",
     "text": [
      "\r",
      "  2%|█▏                                                                              | 15/1000 [00:06<10:10,  1.61it/s]"
     ]
    },
    {
     "name": "stdout",
     "output_type": "stream",
     "text": [
      "\t ----- reward: -1.471587837819404 for f_star and f_minus: 1.0995204187139394 , 1.471587837819404\n",
      "\t ---------- State is:  (8, 0)\n",
      "[INFO] [2023-04-11 16:48:24,864] [OpenBox-SPO] Iteration 16, objective value: [1.9970950453830645].\n"
     ]
    },
    {
     "name": "stderr",
     "output_type": "stream",
     "text": [
      "\r",
      "  2%|█▎                                                                              | 16/1000 [00:07<11:01,  1.49it/s]"
     ]
    },
    {
     "name": "stdout",
     "output_type": "stream",
     "text": [
      "\t ----- reward: -1.9970950453830645 for f_star and f_minus: 1.0995204187139394 , 1.9970950453830645\n",
      "\t ---------- State is:  (8, 0)\n",
      "[INFO] [2023-04-11 16:48:25,882] [OpenBox-SPO] Iteration 17, objective value: [0.3371875664025652].\n"
     ]
    },
    {
     "name": "stderr",
     "output_type": "stream",
     "text": [
      "\r",
      "  2%|█▎                                                                              | 17/1000 [00:08<12:28,  1.31it/s]"
     ]
    },
    {
     "name": "stdout",
     "output_type": "stream",
     "text": [
      "\t ----- reward: -0.3371875664025652 for f_star and f_minus: 1.0995204187139394 , 0.3371875664025652\n",
      "\t ---------- State is:  (8, 0)\n",
      "[INFO] [2023-04-11 16:48:26,800] [OpenBox-SPO] Iteration 18, objective value: [2.8867195626187807].\n"
     ]
    },
    {
     "name": "stderr",
     "output_type": "stream",
     "text": [
      "\r",
      "  2%|█▍                                                                              | 18/1000 [00:09<13:09,  1.24it/s]"
     ]
    },
    {
     "name": "stdout",
     "output_type": "stream",
     "text": [
      "\t ----- reward: -2.8867195626187807 for f_star and f_minus: 0.3371875664025652 , 2.8867195626187807\n",
      "\t ---------- State is:  (7, 1)\n",
      "[INFO] [2023-04-11 16:48:27,863] [OpenBox-SPO] Iteration 19, objective value: [1.1109251223910144].\n"
     ]
    },
    {
     "name": "stderr",
     "output_type": "stream",
     "text": [
      "\r",
      "  2%|█▌                                                                              | 19/1000 [00:10<14:19,  1.14it/s]"
     ]
    },
    {
     "name": "stdout",
     "output_type": "stream",
     "text": [
      "\t ----- reward: -1.1109251223910144 for f_star and f_minus: 0.3371875664025652 , 1.1109251223910144\n",
      "\t ---------- State is:  (8, 1)\n",
      "[INFO] [2023-04-11 16:48:28,727] [OpenBox-SPO] Iteration 20, objective value: [1.4823693848644814].\n"
     ]
    },
    {
     "name": "stderr",
     "output_type": "stream",
     "text": [
      "\r",
      "  2%|█▌                                                                              | 20/1000 [00:11<14:15,  1.15it/s]"
     ]
    },
    {
     "name": "stdout",
     "output_type": "stream",
     "text": [
      "\t ----- reward: -1.4823693848644814 for f_star and f_minus: 0.3371875664025652 , 1.4823693848644814\n",
      "\t ---------- State is:  (9, 1)\n",
      "[INFO] [2023-04-11 16:48:29,899] [OpenBox-SPO] Iteration 21, objective value: [0.9408917857150229].\n"
     ]
    },
    {
     "name": "stderr",
     "output_type": "stream",
     "text": [
      "\r",
      "  2%|█▋                                                                              | 21/1000 [00:12<15:39,  1.04it/s]"
     ]
    },
    {
     "name": "stdout",
     "output_type": "stream",
     "text": [
      "\t ----- reward: -0.9408917857150229 for f_star and f_minus: 0.3371875664025652 , 0.9408917857150229\n",
      "\t ---------- State is:  (8, 1)\n",
      "[INFO] [2023-04-11 16:48:29,899] [Advisor] Sample random config. rand_prob=0.100000.\n",
      "[INFO] [2023-04-11 16:48:29,908] [OpenBox-SPO] Iteration 22, objective value: [1.3078674312729384].\n",
      "\t ----- reward: -1.3078674312729384 for f_star and f_minus: 0.3371875664025652 , 1.3078674312729384\n",
      "\t ---------- State is:  (8, 1)\n",
      "[INFO] [2023-04-11 16:48:31,045] [OpenBox-SPO] Iteration 23, objective value: [1.8015294929619334].\n"
     ]
    },
    {
     "name": "stderr",
     "output_type": "stream",
     "text": [
      "\r",
      "  2%|█▊                                                                              | 23/1000 [00:13<12:46,  1.27it/s]"
     ]
    },
    {
     "name": "stdout",
     "output_type": "stream",
     "text": [
      "\t ----- reward: -1.8015294929619334 for f_star and f_minus: 0.3371875664025652 , 1.8015294929619334\n",
      "\t ---------- State is:  (9, 1)\n",
      "[INFO] [2023-04-11 16:48:32,179] [OpenBox-SPO] Iteration 24, objective value: [1.3302751268278405].\n"
     ]
    },
    {
     "name": "stderr",
     "output_type": "stream",
     "text": [
      "\r",
      "  2%|█▉                                                                              | 24/1000 [00:14<14:08,  1.15it/s]"
     ]
    },
    {
     "name": "stdout",
     "output_type": "stream",
     "text": [
      "\t ----- reward: -1.3302751268278405 for f_star and f_minus: 0.3371875664025652 , 1.3302751268278405\n",
      "\t ---------- State is:  (9, 1)\n",
      "[INFO] [2023-04-11 16:48:33,391] [OpenBox-SPO] Iteration 25, objective value: [2.1320813129597096].\n"
     ]
    },
    {
     "name": "stderr",
     "output_type": "stream",
     "text": [
      "\r",
      "  2%|██                                                                              | 25/1000 [00:15<15:34,  1.04it/s]"
     ]
    },
    {
     "name": "stdout",
     "output_type": "stream",
     "text": [
      "\t ----- reward: -2.1320813129597096 for f_star and f_minus: 0.3371875664025652 , 2.1320813129597096\n",
      "\t ---------- State is:  (10, 1)\n",
      "[INFO] [2023-04-11 16:48:34,418] [OpenBox-SPO] Iteration 26, objective value: [0.8742167540765913].\n"
     ]
    },
    {
     "name": "stderr",
     "output_type": "stream",
     "text": [
      "\r",
      "  3%|██                                                                              | 26/1000 [00:16<15:55,  1.02it/s]"
     ]
    },
    {
     "name": "stdout",
     "output_type": "stream",
     "text": [
      "\t ----- reward: -0.8742167540765913 for f_star and f_minus: 0.3371875664025652 , 0.8742167540765913\n",
      "\t ---------- State is:  (9, 1)\n",
      "[INFO] [2023-04-11 16:48:35,480] [OpenBox-SPO] Iteration 27, objective value: [0.6160661200259098].\n"
     ]
    },
    {
     "name": "stderr",
     "output_type": "stream",
     "text": [
      "\r",
      "  3%|██▏                                                                             | 27/1000 [00:18<16:12,  1.00it/s]"
     ]
    },
    {
     "name": "stdout",
     "output_type": "stream",
     "text": [
      "\t ----- reward: -0.6160661200259098 for f_star and f_minus: 0.3371875664025652 , 0.6160661200259098\n",
      "\t ---------- State is:  (9, 1)\n",
      "[INFO] [2023-04-11 16:48:35,480] [Advisor] Sample random config. rand_prob=0.100000.\n",
      "[INFO] [2023-04-11 16:48:35,484] [OpenBox-SPO] Iteration 28, objective value: [0.8088859088925259].\n",
      "\t ----- reward: -0.8088859088925259 for f_star and f_minus: 0.3371875664025652 , 0.8088859088925259\n",
      "\t ---------- State is:  (9, 1)\n",
      "[INFO] [2023-04-11 16:48:36,645] [OpenBox-SPO] Iteration 29, objective value: [0.7312711586158753].\n"
     ]
    },
    {
     "name": "stderr",
     "output_type": "stream",
     "text": [
      "\r",
      "  3%|██▎                                                                             | 29/1000 [00:19<13:11,  1.23it/s]"
     ]
    },
    {
     "name": "stdout",
     "output_type": "stream",
     "text": [
      "\t ----- reward: -0.7312711586158753 for f_star and f_minus: 0.3371875664025652 , 0.7312711586158753\n",
      "\t ---------- State is:  (8, 0)\n",
      "[INFO] [2023-04-11 16:48:38,016] [OpenBox-SPO] Iteration 30, objective value: [1.8627504088136841].\n"
     ]
    },
    {
     "name": "stderr",
     "output_type": "stream",
     "text": [
      "\r",
      "  3%|██▍                                                                             | 30/1000 [00:20<15:19,  1.05it/s]"
     ]
    },
    {
     "name": "stdout",
     "output_type": "stream",
     "text": [
      "\t ----- reward: -1.8627504088136841 for f_star and f_minus: 0.3371875664025652 , 1.8627504088136841\n",
      "\t ---------- State is:  (9, 0)\n",
      "[INFO] [2023-04-11 16:48:39,053] [OpenBox-SPO] Iteration 31, objective value: [0.7309298501649387].\n"
     ]
    },
    {
     "name": "stderr",
     "output_type": "stream",
     "text": [
      "\r",
      "  3%|██▍                                                                             | 31/1000 [00:21<15:40,  1.03it/s]"
     ]
    },
    {
     "name": "stdout",
     "output_type": "stream",
     "text": [
      "\t ----- reward: -0.7309298501649387 for f_star and f_minus: 0.3371875664025652 , 0.7309298501649387\n",
      "\t ---------- State is:  (9, 0)\n",
      "[INFO] [2023-04-11 16:48:40,431] [OpenBox-SPO] Iteration 32, objective value: [0.9377695381420287].\n"
     ]
    },
    {
     "name": "stderr",
     "output_type": "stream",
     "text": [
      "\r",
      "  3%|██▌                                                                             | 32/1000 [00:22<17:25,  1.08s/it]"
     ]
    },
    {
     "name": "stdout",
     "output_type": "stream",
     "text": [
      "\t ----- reward: -0.9377695381420287 for f_star and f_minus: 0.3371875664025652 , 0.9377695381420287\n",
      "\t ---------- State is:  (10, 0)\n",
      "[INFO] [2023-04-11 16:48:41,531] [OpenBox-SPO] Iteration 33, objective value: [0.7998019754918041].\n"
     ]
    },
    {
     "name": "stderr",
     "output_type": "stream",
     "text": [
      "\r",
      "  3%|██▋                                                                             | 33/1000 [00:24<17:29,  1.09s/it]"
     ]
    },
    {
     "name": "stdout",
     "output_type": "stream",
     "text": [
      "\t ----- reward: -0.7998019754918041 for f_star and f_minus: 0.3371875664025652 , 0.7998019754918041\n",
      "\t ---------- State is:  (10, 0)\n",
      "[INFO] [2023-04-11 16:48:42,616] [OpenBox-SPO] Iteration 34, objective value: [0.7994874857711524].\n"
     ]
    },
    {
     "name": "stderr",
     "output_type": "stream",
     "text": [
      "\r",
      "  3%|██▋                                                                             | 34/1000 [00:25<17:28,  1.09s/it]"
     ]
    },
    {
     "name": "stdout",
     "output_type": "stream",
     "text": [
      "\t ----- reward: -0.7994874857711524 for f_star and f_minus: 0.3371875664025652 , 0.7994874857711524\n",
      "\t ---------- State is:  (9, 0)\n",
      "[INFO] [2023-04-11 16:48:43,587] [OpenBox-SPO] Iteration 35, objective value: [1.560255302403696].\n"
     ]
    },
    {
     "name": "stderr",
     "output_type": "stream",
     "text": [
      "\r",
      "  4%|██▊                                                                             | 35/1000 [00:26<16:55,  1.05s/it]"
     ]
    },
    {
     "name": "stdout",
     "output_type": "stream",
     "text": [
      "\t ----- reward: -1.560255302403696 for f_star and f_minus: 0.3371875664025652 , 1.560255302403696\n",
      "\t ---------- State is:  (10, 0)\n",
      "[INFO] [2023-04-11 16:48:44,792] [OpenBox-SPO] Iteration 36, objective value: [0.9320969950676534].\n"
     ]
    },
    {
     "name": "stderr",
     "output_type": "stream",
     "text": [
      "\r",
      "  4%|██▉                                                                             | 36/1000 [00:27<17:37,  1.10s/it]"
     ]
    },
    {
     "name": "stdout",
     "output_type": "stream",
     "text": [
      "\t ----- reward: -0.9320969950676534 for f_star and f_minus: 0.3371875664025652 , 0.9320969950676534\n",
      "\t ---------- State is:  (9, 0)\n",
      "[INFO] [2023-04-11 16:48:45,992] [OpenBox-SPO] Iteration 37, objective value: [0.929229826300983].\n"
     ]
    },
    {
     "name": "stderr",
     "output_type": "stream",
     "text": [
      "\r",
      "  4%|██▉                                                                             | 37/1000 [00:28<18:05,  1.13s/it]"
     ]
    },
    {
     "name": "stdout",
     "output_type": "stream",
     "text": [
      "\t ----- reward: -0.929229826300983 for f_star and f_minus: 0.3371875664025652 , 0.929229826300983\n",
      "\t ---------- State is:  (8, 0)\n",
      "[INFO] [2023-04-11 16:48:47,144] [OpenBox-SPO] Iteration 38, objective value: [1.0376465341491306].\n"
     ]
    },
    {
     "name": "stderr",
     "output_type": "stream",
     "text": [
      "\r",
      "  4%|███                                                                             | 38/1000 [00:29<18:11,  1.13s/it]"
     ]
    },
    {
     "name": "stdout",
     "output_type": "stream",
     "text": [
      "\t ----- reward: -1.0376465341491306 for f_star and f_minus: 0.3371875664025652 , 1.0376465341491306\n",
      "\t ---------- State is:  (9, 0)\n",
      "[INFO] [2023-04-11 16:48:48,327] [OpenBox-SPO] Iteration 39, objective value: [1.2193329682832357].\n"
     ]
    },
    {
     "name": "stderr",
     "output_type": "stream",
     "text": [
      "\r",
      "  4%|███                                                                             | 39/1000 [00:30<18:24,  1.15s/it]"
     ]
    },
    {
     "name": "stdout",
     "output_type": "stream",
     "text": [
      "\t ----- reward: -1.2193329682832357 for f_star and f_minus: 0.3371875664025652 , 1.2193329682832357\n",
      "\t ---------- State is:  (9, 0)\n",
      "[INFO] [2023-04-11 16:48:49,338] [OpenBox-SPO] Iteration 40, objective value: [1.295154034508544].\n"
     ]
    },
    {
     "name": "stderr",
     "output_type": "stream",
     "text": [
      "\r",
      "  4%|███▏                                                                            | 40/1000 [00:31<17:43,  1.11s/it]"
     ]
    },
    {
     "name": "stdout",
     "output_type": "stream",
     "text": [
      "\t ----- reward: -1.295154034508544 for f_star and f_minus: 0.3371875664025652 , 1.295154034508544\n",
      "\t ---------- State is:  (8, 0)\n",
      "[INFO] [2023-04-11 16:48:50,488] [OpenBox-SPO] Iteration 41, objective value: [1.0517027118087197].\n"
     ]
    },
    {
     "name": "stderr",
     "output_type": "stream",
     "text": [
      "\r",
      "  4%|███▎                                                                            | 41/1000 [00:33<17:54,  1.12s/it]"
     ]
    },
    {
     "name": "stdout",
     "output_type": "stream",
     "text": [
      "\t ----- reward: -1.0517027118087197 for f_star and f_minus: 0.3371875664025652 , 1.0517027118087197\n",
      "\t ---------- State is:  (7, 0)\n",
      "[INFO] [2023-04-11 16:48:51,505] [OpenBox-SPO] Iteration 42, objective value: [0.994122153529504].\n"
     ]
    },
    {
     "name": "stderr",
     "output_type": "stream",
     "text": [
      "\r",
      "  4%|███▎                                                                            | 42/1000 [00:34<17:23,  1.09s/it]"
     ]
    },
    {
     "name": "stdout",
     "output_type": "stream",
     "text": [
      "\t ----- reward: -0.994122153529504 for f_star and f_minus: 0.3371875664025652 , 0.994122153529504\n",
      "\t ---------- State is:  (6, 0)\n",
      "[INFO] [2023-04-11 16:48:52,520] [OpenBox-SPO] Iteration 43, objective value: [1.2050950376180514].\n"
     ]
    },
    {
     "name": "stderr",
     "output_type": "stream",
     "text": [
      "\r",
      "  4%|███▍                                                                            | 43/1000 [00:35<17:01,  1.07s/it]"
     ]
    },
    {
     "name": "stdout",
     "output_type": "stream",
     "text": [
      "\t ----- reward: -1.2050950376180514 for f_star and f_minus: 0.3371875664025652 , 1.2050950376180514\n",
      "\t ---------- State is:  (6, 0)\n",
      "[INFO] [2023-04-11 16:48:53,631] [OpenBox-SPO] Iteration 44, objective value: [1.3518218186887947].\n"
     ]
    },
    {
     "name": "stderr",
     "output_type": "stream",
     "text": [
      "\r",
      "  4%|███▌                                                                            | 44/1000 [00:36<17:12,  1.08s/it]"
     ]
    },
    {
     "name": "stdout",
     "output_type": "stream",
     "text": [
      "\t ----- reward: -1.3518218186887947 for f_star and f_minus: 0.3371875664025652 , 1.3518218186887947\n",
      "\t ---------- State is:  (5, 0)\n",
      "[INFO] [2023-04-11 16:48:55,004] [OpenBox-SPO] Iteration 45, objective value: [0.8408389738389959].\n"
     ]
    },
    {
     "name": "stderr",
     "output_type": "stream",
     "text": [
      "\r",
      "  4%|███▌                                                                            | 45/1000 [00:37<18:35,  1.17s/it]"
     ]
    },
    {
     "name": "stdout",
     "output_type": "stream",
     "text": [
      "\t ----- reward: -0.8408389738389959 for f_star and f_minus: 0.3371875664025652 , 0.8408389738389959\n",
      "\t ---------- State is:  (4, 0)\n",
      "[INFO] [2023-04-11 16:48:56,316] [OpenBox-SPO] Iteration 46, objective value: [1.1913189191831661].\n"
     ]
    },
    {
     "name": "stderr",
     "output_type": "stream",
     "text": [
      "\r",
      "  5%|███▋                                                                            | 46/1000 [00:38<19:15,  1.21s/it]"
     ]
    },
    {
     "name": "stdout",
     "output_type": "stream",
     "text": [
      "\t ----- reward: -1.1913189191831661 for f_star and f_minus: 0.3371875664025652 , 1.1913189191831661\n",
      "\t ---------- State is:  (5, 0)\n",
      "[INFO] [2023-04-11 16:48:57,493] [OpenBox-SPO] Iteration 47, objective value: [1.8763153300943611].\n"
     ]
    },
    {
     "name": "stderr",
     "output_type": "stream",
     "text": [
      "\r",
      "  5%|███▊                                                                            | 47/1000 [00:40<19:04,  1.20s/it]"
     ]
    },
    {
     "name": "stdout",
     "output_type": "stream",
     "text": [
      "\t ----- reward: -1.8763153300943611 for f_star and f_minus: 0.3371875664025652 , 1.8763153300943611\n",
      "\t ---------- State is:  (6, 0)\n",
      "[INFO] [2023-04-11 16:48:57,493] [Advisor] Sample random config. rand_prob=0.100000.\n",
      "[INFO] [2023-04-11 16:48:57,498] [OpenBox-SPO] Iteration 48, objective value: [1.521624282200648].\n",
      "\t ----- reward: -1.521624282200648 for f_star and f_minus: 0.3371875664025652 , 1.521624282200648\n",
      "\t ---------- State is:  (7, 0)\n",
      "[INFO] [2023-04-11 16:48:59,006] [OpenBox-SPO] Iteration 49, objective value: [1.3419657910149414].\n"
     ]
    },
    {
     "name": "stderr",
     "output_type": "stream",
     "text": [
      "\r",
      "  5%|███▉                                                                            | 49/1000 [00:41<15:47,  1.00it/s]"
     ]
    },
    {
     "name": "stdout",
     "output_type": "stream",
     "text": [
      "\t ----- reward: -1.3419657910149414 for f_star and f_minus: 0.3371875664025652 , 1.3419657910149414\n",
      "\t ---------- State is:  (8, 0)\n",
      "[INFO] [2023-04-11 16:49:00,161] [OpenBox-SPO] Iteration 50, objective value: [2.064516119263563].\n"
     ]
    },
    {
     "name": "stderr",
     "output_type": "stream",
     "text": [
      "\r",
      "  5%|████                                                                            | 50/1000 [00:42<16:23,  1.04s/it]"
     ]
    },
    {
     "name": "stdout",
     "output_type": "stream",
     "text": [
      "\t ----- reward: -2.064516119263563 for f_star and f_minus: 0.3371875664025652 , 2.064516119263563\n",
      "\t ---------- State is:  (8, 0)\n",
      "[INFO] [2023-04-11 16:49:00,161] [Advisor] Sample random config. rand_prob=0.100000.\n",
      "[INFO] [2023-04-11 16:49:00,163] [OpenBox-SPO] Iteration 51, objective value: [1.7557277589905114].\n",
      "\t ----- reward: -1.7557277589905114 for f_star and f_minus: 0.3371875664025652 , 1.7557277589905114\n",
      "\t ---------- State is:  (9, 0)\n",
      "[INFO] [2023-04-11 16:49:01,391] [OpenBox-SPO] Iteration 52, objective value: [2.3662142112921254].\n"
     ]
    },
    {
     "name": "stderr",
     "output_type": "stream",
     "text": [
      "\r",
      "  5%|████▏                                                                           | 52/1000 [00:43<13:36,  1.16it/s]"
     ]
    },
    {
     "name": "stdout",
     "output_type": "stream",
     "text": [
      "\t ----- reward: -2.3662142112921254 for f_star and f_minus: 0.3371875664025652 , 2.3662142112921254\n",
      "\t ---------- State is:  (9, 0)\n",
      "[INFO] [2023-04-11 16:49:02,647] [OpenBox-SPO] Iteration 53, objective value: [0.8652202836034161].\n"
     ]
    },
    {
     "name": "stderr",
     "output_type": "stream",
     "text": [
      "\r",
      "  5%|████▏                                                                           | 53/1000 [00:45<15:00,  1.05it/s]"
     ]
    },
    {
     "name": "stdout",
     "output_type": "stream",
     "text": [
      "\t ----- reward: -0.8652202836034161 for f_star and f_minus: 0.3371875664025652 , 0.8652202836034161\n",
      "\t ---------- State is:  (8, 0)\n",
      "[INFO] [2023-04-11 16:49:03,733] [OpenBox-SPO] Iteration 54, objective value: [1.0486509733841796].\n"
     ]
    },
    {
     "name": "stderr",
     "output_type": "stream",
     "text": [
      "\r",
      "  5%|████▎                                                                           | 54/1000 [00:46<15:31,  1.02it/s]"
     ]
    },
    {
     "name": "stdout",
     "output_type": "stream",
     "text": [
      "\t ----- reward: -1.0486509733841796 for f_star and f_minus: 0.3371875664025652 , 1.0486509733841796\n",
      "\t ---------- State is:  (8, 0)\n",
      "[INFO] [2023-04-11 16:49:04,809] [OpenBox-SPO] Iteration 55, objective value: [1.377510658558422].\n"
     ]
    },
    {
     "name": "stderr",
     "output_type": "stream",
     "text": [
      "\r",
      "  6%|████▍                                                                           | 55/1000 [00:47<15:52,  1.01s/it]"
     ]
    },
    {
     "name": "stdout",
     "output_type": "stream",
     "text": [
      "\t ----- reward: -1.377510658558422 for f_star and f_minus: 0.3371875664025652 , 1.377510658558422\n",
      "\t ---------- State is:  (7, 0)\n",
      "[INFO] [2023-04-11 16:49:06,028] [OpenBox-SPO] Iteration 56, objective value: [1.8010987220351595].\n"
     ]
    },
    {
     "name": "stderr",
     "output_type": "stream",
     "text": [
      "\r",
      "  6%|████▍                                                                           | 56/1000 [00:48<16:45,  1.07s/it]"
     ]
    },
    {
     "name": "stdout",
     "output_type": "stream",
     "text": [
      "\t ----- reward: -1.8010987220351595 for f_star and f_minus: 0.3371875664025652 , 1.8010987220351595\n",
      "\t ---------- State is:  (8, 0)\n",
      "[INFO] [2023-04-11 16:49:07,166] [OpenBox-SPO] Iteration 57, objective value: [2.123549770745482].\n"
     ]
    },
    {
     "name": "stderr",
     "output_type": "stream",
     "text": [
      "\r",
      "  6%|████▌                                                                           | 57/1000 [00:49<17:07,  1.09s/it]"
     ]
    },
    {
     "name": "stdout",
     "output_type": "stream",
     "text": [
      "\t ----- reward: -2.123549770745482 for f_star and f_minus: 0.3371875664025652 , 2.123549770745482\n",
      "\t ---------- State is:  (7, 0)\n",
      "[INFO] [2023-04-11 16:49:08,499] [OpenBox-SPO] Iteration 58, objective value: [1.48456325106019].\n"
     ]
    },
    {
     "name": "stderr",
     "output_type": "stream",
     "text": [
      "\r",
      "  6%|████▋                                                                           | 58/1000 [00:51<18:07,  1.15s/it]"
     ]
    },
    {
     "name": "stdout",
     "output_type": "stream",
     "text": [
      "\t ----- reward: -1.48456325106019 for f_star and f_minus: 0.3371875664025652 , 1.48456325106019\n",
      "\t ---------- State is:  (7, 1)\n",
      "[INFO] [2023-04-11 16:49:08,499] [Advisor] Sample random config. rand_prob=0.100000.\n",
      "[INFO] [2023-04-11 16:49:08,499] [OpenBox-SPO] Iteration 59, objective value: [2.27857822384681].\n",
      "\t ----- reward: -2.27857822384681 for f_star and f_minus: 0.3371875664025652 , 2.27857822384681\n",
      "\t ---------- State is:  (8, 1)\n",
      "[INFO] [2023-04-11 16:49:09,740] [OpenBox-SPO] Iteration 60, objective value: [3.5971787964697226].\n"
     ]
    },
    {
     "name": "stderr",
     "output_type": "stream",
     "text": [
      "\r",
      "  6%|████▊                                                                           | 60/1000 [00:52<14:20,  1.09it/s]"
     ]
    },
    {
     "name": "stdout",
     "output_type": "stream",
     "text": [
      "\t ----- reward: -3.5971787964697226 for f_star and f_minus: 0.3371875664025652 , 3.5971787964697226\n",
      "\t ---------- State is:  (8, 1)\n",
      "[INFO] [2023-04-11 16:49:10,832] [OpenBox-SPO] Iteration 61, objective value: [1.2743324823265834].\n"
     ]
    },
    {
     "name": "stderr",
     "output_type": "stream",
     "text": [
      "\r",
      "  6%|████▉                                                                           | 61/1000 [00:53<14:59,  1.04it/s]"
     ]
    },
    {
     "name": "stdout",
     "output_type": "stream",
     "text": [
      "\t ----- reward: -1.2743324823265834 for f_star and f_minus: 0.3371875664025652 , 1.2743324823265834\n",
      "\t ---------- State is:  (8, 1)\n",
      "[INFO] [2023-04-11 16:49:12,207] [OpenBox-SPO] Iteration 62, objective value: [1.2494805051982405].\n"
     ]
    },
    {
     "name": "stderr",
     "output_type": "stream",
     "text": [
      "\r",
      "  6%|████▉                                                                           | 62/1000 [00:54<16:39,  1.07s/it]"
     ]
    },
    {
     "name": "stdout",
     "output_type": "stream",
     "text": [
      "\t ----- reward: -1.2494805051982405 for f_star and f_minus: 0.3371875664025652 , 1.2494805051982405\n",
      "\t ---------- State is:  (9, 1)\n",
      "[INFO] [2023-04-11 16:49:13,333] [OpenBox-SPO] Iteration 63, objective value: [1.2954266064931765].\n"
     ]
    },
    {
     "name": "stderr",
     "output_type": "stream",
     "text": [
      "\r",
      "  6%|█████                                                                           | 63/1000 [00:55<16:53,  1.08s/it]"
     ]
    },
    {
     "name": "stdout",
     "output_type": "stream",
     "text": [
      "\t ----- reward: -1.2954266064931765 for f_star and f_minus: 0.3371875664025652 , 1.2954266064931765\n",
      "\t ---------- State is:  (10, 1)\n",
      "[INFO] [2023-04-11 16:49:14,442] [OpenBox-SPO] Iteration 64, objective value: [1.404064622676018].\n"
     ]
    },
    {
     "name": "stderr",
     "output_type": "stream",
     "text": [
      "\r",
      "  6%|█████                                                                           | 64/1000 [00:56<16:59,  1.09s/it]"
     ]
    },
    {
     "name": "stdout",
     "output_type": "stream",
     "text": [
      "\t ----- reward: -1.404064622676018 for f_star and f_minus: 0.3371875664025652 , 1.404064622676018\n",
      "\t ---------- State is:  (10, 1)\n",
      "[INFO] [2023-04-11 16:49:15,624] [OpenBox-SPO] Iteration 65, objective value: [1.6759533680406318].\n"
     ]
    },
    {
     "name": "stderr",
     "output_type": "stream",
     "text": [
      "\r",
      "  6%|█████▏                                                                          | 65/1000 [00:58<17:23,  1.12s/it]"
     ]
    },
    {
     "name": "stdout",
     "output_type": "stream",
     "text": [
      "\t ----- reward: -1.6759533680406318 for f_star and f_minus: 0.3371875664025652 , 1.6759533680406318\n",
      "\t ---------- State is:  (10, 1)\n",
      "[INFO] [2023-04-11 16:49:17,070] [OpenBox-SPO] Iteration 66, objective value: [1.9217857626681636].\n"
     ]
    },
    {
     "name": "stderr",
     "output_type": "stream",
     "text": [
      "\r",
      "  7%|█████▎                                                                          | 66/1000 [00:59<18:51,  1.21s/it]"
     ]
    },
    {
     "name": "stdout",
     "output_type": "stream",
     "text": [
      "\t ----- reward: -1.9217857626681636 for f_star and f_minus: 0.3371875664025652 , 1.9217857626681636\n",
      "\t ---------- State is:  (9, 1)\n",
      "[INFO] [2023-04-11 16:49:18,070] [OpenBox-SPO] Iteration 67, objective value: [1.1184510046490101].\n"
     ]
    },
    {
     "name": "stderr",
     "output_type": "stream",
     "text": [
      "\r",
      "  7%|█████▎                                                                          | 67/1000 [01:00<17:52,  1.15s/it]"
     ]
    },
    {
     "name": "stdout",
     "output_type": "stream",
     "text": [
      "\t ----- reward: -1.1184510046490101 for f_star and f_minus: 0.3371875664025652 , 1.1184510046490101\n",
      "\t ---------- State is:  (10, 1)\n",
      "[INFO] [2023-04-11 16:49:18,071] [Advisor] Sample random config. rand_prob=0.100000.\n",
      "[INFO] [2023-04-11 16:49:18,072] [OpenBox-SPO] Iteration 68, objective value: [0.39915483246867517].\n",
      "\t ----- reward: -0.39915483246867517 for f_star and f_minus: 0.3371875664025652 , 0.39915483246867517\n",
      "\t ---------- State is:  (10, 1)\n",
      "[INFO] [2023-04-11 16:49:19,483] [OpenBox-SPO] Iteration 69, objective value: [1.7468605181074823].\n"
     ]
    },
    {
     "name": "stderr",
     "output_type": "stream",
     "text": [
      "\r",
      "  7%|█████▌                                                                          | 69/1000 [01:02<14:42,  1.05it/s]"
     ]
    },
    {
     "name": "stdout",
     "output_type": "stream",
     "text": [
      "\t ----- reward: -1.7468605181074823 for f_star and f_minus: 0.3371875664025652 , 1.7468605181074823\n",
      "\t ---------- State is:  (10, 1)\n",
      "[INFO] [2023-04-11 16:49:20,662] [OpenBox-SPO] Iteration 70, objective value: [1.4483724226585826].\n"
     ]
    },
    {
     "name": "stderr",
     "output_type": "stream",
     "text": [
      "\r",
      "  7%|█████▌                                                                          | 70/1000 [01:03<15:34,  1.00s/it]"
     ]
    },
    {
     "name": "stdout",
     "output_type": "stream",
     "text": [
      "\t ----- reward: -1.4483724226585826 for f_star and f_minus: 0.3371875664025652 , 1.4483724226585826\n",
      "\t ---------- State is:  (10, 1)\n",
      "[INFO] [2023-04-11 16:49:21,670] [OpenBox-SPO] Iteration 71, objective value: [1.5361351332136401].\n"
     ]
    },
    {
     "name": "stderr",
     "output_type": "stream",
     "text": [
      "\r",
      "  7%|█████▋                                                                          | 71/1000 [01:04<15:33,  1.01s/it]"
     ]
    },
    {
     "name": "stdout",
     "output_type": "stream",
     "text": [
      "\t ----- reward: -1.5361351332136401 for f_star and f_minus: 0.3371875664025652 , 1.5361351332136401\n",
      "\t ---------- State is:  (10, 1)\n",
      "[INFO] [2023-04-11 16:49:22,814] [OpenBox-SPO] Iteration 72, objective value: [0.8698191696498255].\n"
     ]
    },
    {
     "name": "stderr",
     "output_type": "stream",
     "text": [
      "\r",
      "  7%|█████▊                                                                          | 72/1000 [01:05<16:07,  1.04s/it]"
     ]
    },
    {
     "name": "stdout",
     "output_type": "stream",
     "text": [
      "\t ----- reward: -0.8698191696498255 for f_star and f_minus: 0.3371875664025652 , 0.8698191696498255\n",
      "\t ---------- State is:  (9, 1)\n",
      "[INFO] [2023-04-11 16:49:24,047] [OpenBox-SPO] Iteration 73, objective value: [1.8459030035005615].\n"
     ]
    },
    {
     "name": "stderr",
     "output_type": "stream",
     "text": [
      "\r",
      "  7%|█████▊                                                                          | 73/1000 [01:06<16:55,  1.10s/it]"
     ]
    },
    {
     "name": "stdout",
     "output_type": "stream",
     "text": [
      "\t ----- reward: -1.8459030035005615 for f_star and f_minus: 0.3371875664025652 , 1.8459030035005615\n",
      "\t ---------- State is:  (9, 1)\n",
      "[INFO] [2023-04-11 16:49:25,421] [OpenBox-SPO] Iteration 74, objective value: [1.279699242910155].\n"
     ]
    },
    {
     "name": "stderr",
     "output_type": "stream",
     "text": [
      "\r",
      "  7%|█████▉                                                                          | 74/1000 [01:07<18:07,  1.17s/it]"
     ]
    },
    {
     "name": "stdout",
     "output_type": "stream",
     "text": [
      "\t ----- reward: -1.279699242910155 for f_star and f_minus: 0.3371875664025652 , 1.279699242910155\n",
      "\t ---------- State is:  (9, 1)\n",
      "[INFO] [2023-04-11 16:49:26,762] [OpenBox-SPO] Iteration 75, objective value: [1.1377997358466883].\n"
     ]
    },
    {
     "name": "stderr",
     "output_type": "stream",
     "text": [
      "\r",
      "  8%|██████                                                                          | 75/1000 [01:09<18:55,  1.23s/it]"
     ]
    },
    {
     "name": "stdout",
     "output_type": "stream",
     "text": [
      "\t ----- reward: -1.1377997358466883 for f_star and f_minus: 0.3371875664025652 , 1.1377997358466883\n",
      "\t ---------- State is:  (8, 1)\n",
      "[INFO] [2023-04-11 16:49:27,919] [OpenBox-SPO] Iteration 76, objective value: [0.23999090930019368].\n"
     ]
    },
    {
     "name": "stderr",
     "output_type": "stream",
     "text": [
      "\r",
      "  8%|██████                                                                          | 76/1000 [01:10<18:31,  1.20s/it]"
     ]
    },
    {
     "name": "stdout",
     "output_type": "stream",
     "text": [
      "\t ----- reward: -0.23999090930019368 for f_star and f_minus: 0.3371875664025652 , 0.23999090930019368\n",
      "\t ---------- State is:  (8, 1)\n",
      "[INFO] [2023-04-11 16:49:29,180] [OpenBox-SPO] Iteration 77, objective value: [0.7602204342633376].\n"
     ]
    },
    {
     "name": "stderr",
     "output_type": "stream",
     "text": [
      "\r",
      "  8%|██████▏                                                                         | 77/1000 [01:11<18:45,  1.22s/it]"
     ]
    },
    {
     "name": "stdout",
     "output_type": "stream",
     "text": [
      "\t ----- reward: -0.7602204342633376 for f_star and f_minus: 0.23999090930019368 , 0.7602204342633376\n",
      "\t ---------- State is:  (7, 1)\n",
      "[INFO] [2023-04-11 16:49:30,359] [OpenBox-SPO] Iteration 78, objective value: [0.9785603638190045].\n"
     ]
    },
    {
     "name": "stderr",
     "output_type": "stream",
     "text": [
      "\r",
      "  8%|██████▏                                                                         | 78/1000 [01:12<18:33,  1.21s/it]"
     ]
    },
    {
     "name": "stdout",
     "output_type": "stream",
     "text": [
      "\t ----- reward: -0.9785603638190045 for f_star and f_minus: 0.23999090930019368 , 0.9785603638190045\n",
      "\t ---------- State is:  (8, 1)\n",
      "[INFO] [2023-04-11 16:49:31,430] [OpenBox-SPO] Iteration 79, objective value: [0.30887786878487666].\n"
     ]
    },
    {
     "name": "stderr",
     "output_type": "stream",
     "text": [
      "\r",
      "  8%|██████▎                                                                         | 79/1000 [01:13<17:54,  1.17s/it]"
     ]
    },
    {
     "name": "stdout",
     "output_type": "stream",
     "text": [
      "\t ----- reward: -0.30887786878487666 for f_star and f_minus: 0.23999090930019368 , 0.30887786878487666\n",
      "\t ---------- State is:  (9, 1)\n",
      "[INFO] [2023-04-11 16:49:32,439] [OpenBox-SPO] Iteration 80, objective value: [0.3040525576339157].\n"
     ]
    },
    {
     "name": "stderr",
     "output_type": "stream",
     "text": [
      "\r",
      "  8%|██████▍                                                                         | 80/1000 [01:14<17:10,  1.12s/it]"
     ]
    },
    {
     "name": "stdout",
     "output_type": "stream",
     "text": [
      "\t ----- reward: -0.3040525576339157 for f_star and f_minus: 0.23999090930019368 , 0.3040525576339157\n",
      "\t ---------- State is:  (8, 1)\n",
      "[INFO] [2023-04-11 16:49:33,568] [OpenBox-SPO] Iteration 81, objective value: [0.9907791055572481].\n"
     ]
    },
    {
     "name": "stderr",
     "output_type": "stream",
     "text": [
      "\r",
      "  8%|██████▍                                                                         | 81/1000 [01:16<17:11,  1.12s/it]"
     ]
    },
    {
     "name": "stdout",
     "output_type": "stream",
     "text": [
      "\t ----- reward: -0.9907791055572481 for f_star and f_minus: 0.23999090930019368 , 0.9907791055572481\n",
      "\t ---------- State is:  (8, 0)\n",
      "[INFO] [2023-04-11 16:49:35,052] [OpenBox-SPO] Iteration 82, objective value: [0.9225471666907735].\n"
     ]
    },
    {
     "name": "stderr",
     "output_type": "stream",
     "text": [
      "\r",
      "  8%|██████▌                                                                         | 82/1000 [01:17<18:49,  1.23s/it]"
     ]
    },
    {
     "name": "stdout",
     "output_type": "stream",
     "text": [
      "\t ----- reward: -0.9225471666907735 for f_star and f_minus: 0.23999090930019368 , 0.9225471666907735\n",
      "\t ---------- State is:  (8, 0)\n",
      "[INFO] [2023-04-11 16:49:36,130] [OpenBox-SPO] Iteration 83, objective value: [1.5171706006374468].\n"
     ]
    },
    {
     "name": "stderr",
     "output_type": "stream",
     "text": [
      "\r",
      "  8%|██████▋                                                                         | 83/1000 [01:18<18:06,  1.19s/it]"
     ]
    },
    {
     "name": "stdout",
     "output_type": "stream",
     "text": [
      "\t ----- reward: -1.5171706006374468 for f_star and f_minus: 0.23999090930019368 , 1.5171706006374468\n",
      "\t ---------- State is:  (9, 0)\n",
      "[INFO] [2023-04-11 16:49:37,396] [OpenBox-SPO] Iteration 84, objective value: [0.7591859298338545].\n"
     ]
    },
    {
     "name": "stderr",
     "output_type": "stream",
     "text": [
      "\r",
      "  8%|██████▋                                                                         | 84/1000 [01:19<18:27,  1.21s/it]"
     ]
    },
    {
     "name": "stdout",
     "output_type": "stream",
     "text": [
      "\t ----- reward: -0.7591859298338545 for f_star and f_minus: 0.23999090930019368 , 0.7591859298338545\n",
      "\t ---------- State is:  (10, 0)\n",
      "[INFO] [2023-04-11 16:49:38,538] [OpenBox-SPO] Iteration 85, objective value: [1.0456316190195172].\n"
     ]
    },
    {
     "name": "stderr",
     "output_type": "stream",
     "text": [
      "\r",
      "  8%|██████▊                                                                         | 85/1000 [01:21<18:07,  1.19s/it]"
     ]
    },
    {
     "name": "stdout",
     "output_type": "stream",
     "text": [
      "\t ----- reward: -1.0456316190195172 for f_star and f_minus: 0.23999090930019368 , 1.0456316190195172\n",
      "\t ---------- State is:  (9, 0)\n",
      "[INFO] [2023-04-11 16:49:39,721] [OpenBox-SPO] Iteration 86, objective value: [0.3359532618672447].\n"
     ]
    },
    {
     "name": "stderr",
     "output_type": "stream",
     "text": [
      "\r",
      "  9%|██████▉                                                                         | 86/1000 [01:22<18:05,  1.19s/it]"
     ]
    },
    {
     "name": "stdout",
     "output_type": "stream",
     "text": [
      "\t ----- reward: -0.3359532618672447 for f_star and f_minus: 0.23999090930019368 , 0.3359532618672447\n",
      "\t ---------- State is:  (8, 0)\n",
      "[INFO] [2023-04-11 16:49:40,932] [OpenBox-SPO] Iteration 87, objective value: [1.0560160661389952].\n"
     ]
    },
    {
     "name": "stderr",
     "output_type": "stream",
     "text": [
      "\r",
      "  9%|██████▉                                                                         | 87/1000 [01:23<18:10,  1.19s/it]"
     ]
    },
    {
     "name": "stdout",
     "output_type": "stream",
     "text": [
      "\t ----- reward: -1.0560160661389952 for f_star and f_minus: 0.23999090930019368 , 1.0560160661389952\n",
      "\t ---------- State is:  (8, 0)\n",
      "[INFO] [2023-04-11 16:49:41,996] [OpenBox-SPO] Iteration 88, objective value: [0.8122037651619519].\n"
     ]
    },
    {
     "name": "stderr",
     "output_type": "stream",
     "text": [
      "\r",
      "  9%|███████                                                                         | 88/1000 [01:24<17:33,  1.16s/it]"
     ]
    },
    {
     "name": "stdout",
     "output_type": "stream",
     "text": [
      "\t ----- reward: -0.8122037651619519 for f_star and f_minus: 0.23999090930019368 , 0.8122037651619519\n",
      "\t ---------- State is:  (8, 0)\n",
      "[INFO] [2023-04-11 16:49:43,274] [OpenBox-SPO] Iteration 89, objective value: [0.9794215881374835].\n"
     ]
    },
    {
     "name": "stderr",
     "output_type": "stream",
     "text": [
      "\r",
      "  9%|███████                                                                         | 89/1000 [01:25<18:06,  1.19s/it]"
     ]
    },
    {
     "name": "stdout",
     "output_type": "stream",
     "text": [
      "\t ----- reward: -0.9794215881374835 for f_star and f_minus: 0.23999090930019368 , 0.9794215881374835\n",
      "\t ---------- State is:  (8, 0)\n",
      "[INFO] [2023-04-11 16:49:44,499] [OpenBox-SPO] Iteration 90, objective value: [1.041165308665364].\n"
     ]
    },
    {
     "name": "stderr",
     "output_type": "stream",
     "text": [
      "\r",
      "  9%|███████▏                                                                        | 90/1000 [01:27<18:13,  1.20s/it]"
     ]
    },
    {
     "name": "stdout",
     "output_type": "stream",
     "text": [
      "\t ----- reward: -1.041165308665364 for f_star and f_minus: 0.23999090930019368 , 1.041165308665364\n",
      "\t ---------- State is:  (9, 0)\n",
      "[INFO] [2023-04-11 16:49:44,499] [Advisor] Sample random config. rand_prob=0.100000.\n",
      "[INFO] [2023-04-11 16:49:44,499] [OpenBox-SPO] Iteration 91, objective value: [0.6764370029048847].\n",
      "\t ----- reward: -0.6764370029048847 for f_star and f_minus: 0.23999090930019368 , 0.6764370029048847\n",
      "\t ---------- State is:  (9, 0)\n",
      "[INFO] [2023-04-11 16:49:45,695] [OpenBox-SPO] Iteration 92, objective value: [0.7210867831430414].\n"
     ]
    },
    {
     "name": "stderr",
     "output_type": "stream",
     "text": [
      "\r",
      "  9%|███████▎                                                                        | 92/1000 [01:28<13:58,  1.08it/s]"
     ]
    },
    {
     "name": "stdout",
     "output_type": "stream",
     "text": [
      "\t ----- reward: -0.7210867831430414 for f_star and f_minus: 0.23999090930019368 , 0.7210867831430414\n",
      "\t ---------- State is:  (8, 0)\n",
      "[INFO] [2023-04-11 16:49:46,816] [OpenBox-SPO] Iteration 93, objective value: [0.9339997530429935].\n"
     ]
    },
    {
     "name": "stderr",
     "output_type": "stream",
     "text": [
      "\r",
      "  9%|███████▍                                                                        | 93/1000 [01:29<14:41,  1.03it/s]"
     ]
    },
    {
     "name": "stdout",
     "output_type": "stream",
     "text": [
      "\t ----- reward: -0.9339997530429935 for f_star and f_minus: 0.23999090930019368 , 0.9339997530429935\n",
      "\t ---------- State is:  (8, 0)\n",
      "[INFO] [2023-04-11 16:49:47,915] [OpenBox-SPO] Iteration 94, objective value: [0.7138798441561688].\n"
     ]
    },
    {
     "name": "stderr",
     "output_type": "stream",
     "text": [
      "\r",
      "  9%|███████▌                                                                        | 94/1000 [01:30<15:10,  1.01s/it]"
     ]
    },
    {
     "name": "stdout",
     "output_type": "stream",
     "text": [
      "\t ----- reward: -0.7138798441561688 for f_star and f_minus: 0.23999090930019368 , 0.7138798441561688\n",
      "\t ---------- State is:  (7, 0)\n",
      "[INFO] [2023-04-11 16:49:48,925] [OpenBox-SPO] Iteration 95, objective value: [2.375822138903145].\n"
     ]
    },
    {
     "name": "stderr",
     "output_type": "stream",
     "text": [
      "\r",
      " 10%|███████▌                                                                        | 95/1000 [01:31<15:11,  1.01s/it]"
     ]
    },
    {
     "name": "stdout",
     "output_type": "stream",
     "text": [
      "\t ----- reward: -2.375822138903145 for f_star and f_minus: 0.23999090930019368 , 2.375822138903145\n",
      "\t ---------- State is:  (6, 0)\n",
      "[INFO] [2023-04-11 16:49:48,925] [Advisor] Sample random config. rand_prob=0.100000.\n",
      "[INFO] [2023-04-11 16:49:48,937] [OpenBox-SPO] Iteration 96, objective value: [2.0065935936544976].\n",
      "\t ----- reward: -2.0065935936544976 for f_star and f_minus: 0.23999090930019368 , 2.0065935936544976\n",
      "\t ---------- State is:  (7, 0)\n",
      "[INFO] [2023-04-11 16:49:50,314] [OpenBox-SPO] Iteration 97, objective value: [1.1288679526421015].\n"
     ]
    },
    {
     "name": "stderr",
     "output_type": "stream",
     "text": [
      "\r",
      " 10%|███████▊                                                                        | 97/1000 [01:32<13:05,  1.15it/s]"
     ]
    },
    {
     "name": "stdout",
     "output_type": "stream",
     "text": [
      "\t ----- reward: -1.1288679526421015 for f_star and f_minus: 0.23999090930019368 , 1.1288679526421015\n",
      "\t ---------- State is:  (7, 0)\n",
      "[INFO] [2023-04-11 16:49:51,585] [OpenBox-SPO] Iteration 98, objective value: [1.359649161099441].\n"
     ]
    },
    {
     "name": "stderr",
     "output_type": "stream",
     "text": [
      "\r",
      " 10%|███████▊                                                                        | 98/1000 [01:34<14:30,  1.04it/s]"
     ]
    },
    {
     "name": "stdout",
     "output_type": "stream",
     "text": [
      "\t ----- reward: -1.359649161099441 for f_star and f_minus: 0.23999090930019368 , 1.359649161099441\n",
      "\t ---------- State is:  (7, 0)\n",
      "[INFO] [2023-04-11 16:49:53,017] [OpenBox-SPO] Iteration 99, objective value: [1.1789882611414264].\n"
     ]
    },
    {
     "name": "stderr",
     "output_type": "stream",
     "text": [
      "\r",
      " 10%|███████▉                                                                        | 99/1000 [01:35<16:16,  1.08s/it]"
     ]
    },
    {
     "name": "stdout",
     "output_type": "stream",
     "text": [
      "\t ----- reward: -1.1789882611414264 for f_star and f_minus: 0.23999090930019368 , 1.1789882611414264\n",
      "\t ---------- State is:  (8, 0)\n",
      "[INFO] [2023-04-11 16:49:54,302] [OpenBox-SPO] Iteration 100, objective value: [1.1808690470208707].\n"
     ]
    },
    {
     "name": "stderr",
     "output_type": "stream",
     "text": [
      "\r",
      " 10%|███████▉                                                                       | 100/1000 [01:36<17:03,  1.14s/it]"
     ]
    },
    {
     "name": "stdout",
     "output_type": "stream",
     "text": [
      "\t ----- reward: -1.1808690470208707 for f_star and f_minus: 0.23999090930019368 , 1.1808690470208707\n",
      "\t ---------- State is:  (7, 0)\n",
      "[INFO] [2023-04-11 16:49:55,505] [OpenBox-SPO] Iteration 101, objective value: [0.9598095255207911].\n"
     ]
    },
    {
     "name": "stderr",
     "output_type": "stream",
     "text": [
      "\r",
      " 10%|███████▉                                                                       | 101/1000 [01:38<17:18,  1.16s/it]"
     ]
    },
    {
     "name": "stdout",
     "output_type": "stream",
     "text": [
      "\t ----- reward: -0.9598095255207911 for f_star and f_minus: 0.23999090930019368 , 0.9598095255207911\n",
      "\t ---------- State is:  (8, 0)\n",
      "[INFO] [2023-04-11 16:49:56,714] [OpenBox-SPO] Iteration 102, objective value: [1.0280796513923596].\n"
     ]
    },
    {
     "name": "stderr",
     "output_type": "stream",
     "text": [
      "\r",
      " 10%|████████                                                                       | 102/1000 [01:39<17:31,  1.17s/it]"
     ]
    },
    {
     "name": "stdout",
     "output_type": "stream",
     "text": [
      "\t ----- reward: -1.0280796513923596 for f_star and f_minus: 0.23999090930019368 , 1.0280796513923596\n",
      "\t ---------- State is:  (9, 0)\n",
      "[INFO] [2023-04-11 16:49:57,870] [OpenBox-SPO] Iteration 103, objective value: [1.2758098861998945].\n"
     ]
    },
    {
     "name": "stderr",
     "output_type": "stream",
     "text": [
      "\r",
      " 10%|████████▏                                                                      | 103/1000 [01:40<17:26,  1.17s/it]"
     ]
    },
    {
     "name": "stdout",
     "output_type": "stream",
     "text": [
      "\t ----- reward: -1.2758098861998945 for f_star and f_minus: 0.23999090930019368 , 1.2758098861998945\n",
      "\t ---------- State is:  (10, 0)\n",
      "[INFO] [2023-04-11 16:49:58,917] [OpenBox-SPO] Iteration 104, objective value: [1.225097439057668].\n"
     ]
    },
    {
     "name": "stderr",
     "output_type": "stream",
     "text": [
      "\r",
      " 10%|████████▏                                                                      | 104/1000 [01:41<16:53,  1.13s/it]"
     ]
    },
    {
     "name": "stdout",
     "output_type": "stream",
     "text": [
      "\t ----- reward: -1.225097439057668 for f_star and f_minus: 0.23999090930019368 , 1.225097439057668\n",
      "\t ---------- State is:  (9, 0)\n",
      "[INFO] [2023-04-11 16:50:00,093] [OpenBox-SPO] Iteration 105, objective value: [1.0830877814743054].\n"
     ]
    },
    {
     "name": "stderr",
     "output_type": "stream",
     "text": [
      "\r",
      " 10%|████████▎                                                                      | 105/1000 [01:42<17:04,  1.14s/it]"
     ]
    },
    {
     "name": "stdout",
     "output_type": "stream",
     "text": [
      "\t ----- reward: -1.0830877814743054 for f_star and f_minus: 0.23999090930019368 , 1.0830877814743054\n",
      "\t ---------- State is:  (9, 0)\n",
      "[INFO] [2023-04-11 16:50:01,276] [OpenBox-SPO] Iteration 106, objective value: [0.8370336852874084].\n"
     ]
    },
    {
     "name": "stderr",
     "output_type": "stream",
     "text": [
      "\r",
      " 11%|████████▎                                                                      | 106/1000 [01:43<17:17,  1.16s/it]"
     ]
    },
    {
     "name": "stdout",
     "output_type": "stream",
     "text": [
      "\t ----- reward: -0.8370336852874084 for f_star and f_minus: 0.23999090930019368 , 0.8370336852874084\n",
      "\t ---------- State is:  (8, 0)\n",
      "[INFO] [2023-04-11 16:50:02,623] [OpenBox-SPO] Iteration 107, objective value: [1.1132874471169536].\n"
     ]
    },
    {
     "name": "stderr",
     "output_type": "stream",
     "text": [
      "\r",
      " 11%|████████▍                                                                      | 107/1000 [01:45<18:01,  1.21s/it]"
     ]
    },
    {
     "name": "stdout",
     "output_type": "stream",
     "text": [
      "\t ----- reward: -1.1132874471169536 for f_star and f_minus: 0.23999090930019368 , 1.1132874471169536\n",
      "\t ---------- State is:  (8, 0)\n",
      "[INFO] [2023-04-11 16:50:03,888] [OpenBox-SPO] Iteration 108, objective value: [0.8731872552954172].\n"
     ]
    },
    {
     "name": "stderr",
     "output_type": "stream",
     "text": [
      "\r",
      " 11%|████████▌                                                                      | 108/1000 [01:46<18:14,  1.23s/it]"
     ]
    },
    {
     "name": "stdout",
     "output_type": "stream",
     "text": [
      "\t ----- reward: -0.8731872552954172 for f_star and f_minus: 0.23999090930019368 , 0.8731872552954172\n",
      "\t ---------- State is:  (8, 0)\n",
      "[INFO] [2023-04-11 16:50:04,966] [OpenBox-SPO] Iteration 109, objective value: [1.4112523678814881].\n"
     ]
    },
    {
     "name": "stderr",
     "output_type": "stream",
     "text": [
      "\r",
      " 11%|████████▌                                                                      | 109/1000 [01:47<17:33,  1.18s/it]"
     ]
    },
    {
     "name": "stdout",
     "output_type": "stream",
     "text": [
      "\t ----- reward: -1.4112523678814881 for f_star and f_minus: 0.23999090930019368 , 1.4112523678814881\n",
      "\t ---------- State is:  (9, 0)\n",
      "[INFO] [2023-04-11 16:50:06,117] [OpenBox-SPO] Iteration 110, objective value: [1.1459220139962567].\n"
     ]
    },
    {
     "name": "stderr",
     "output_type": "stream",
     "text": [
      "\r",
      " 11%|████████▋                                                                      | 110/1000 [01:48<17:24,  1.17s/it]"
     ]
    },
    {
     "name": "stdout",
     "output_type": "stream",
     "text": [
      "\t ----- reward: -1.1459220139962567 for f_star and f_minus: 0.23999090930019368 , 1.1459220139962567\n",
      "\t ---------- State is:  (8, 0)\n",
      "[INFO] [2023-04-11 16:50:07,235] [OpenBox-SPO] Iteration 111, objective value: [1.2691743452733384].\n"
     ]
    },
    {
     "name": "stderr",
     "output_type": "stream",
     "text": [
      "\r",
      " 11%|████████▊                                                                      | 111/1000 [01:49<17:08,  1.16s/it]"
     ]
    },
    {
     "name": "stdout",
     "output_type": "stream",
     "text": [
      "\t ----- reward: -1.2691743452733384 for f_star and f_minus: 0.23999090930019368 , 1.2691743452733384\n",
      "\t ---------- State is:  (7, 0)\n",
      "[INFO] [2023-04-11 16:50:08,512] [OpenBox-SPO] Iteration 112, objective value: [2.7514700626605944].\n"
     ]
    },
    {
     "name": "stderr",
     "output_type": "stream",
     "text": [
      "\r",
      " 11%|████████▊                                                                      | 112/1000 [01:51<17:39,  1.19s/it]"
     ]
    },
    {
     "name": "stdout",
     "output_type": "stream",
     "text": [
      "\t ----- reward: -2.7514700626605944 for f_star and f_minus: 0.23999090930019368 , 2.7514700626605944\n",
      "\t ---------- State is:  (6, 0)\n",
      "[INFO] [2023-04-11 16:50:09,890] [OpenBox-SPO] Iteration 113, objective value: [1.3034809413279167].\n"
     ]
    },
    {
     "name": "stderr",
     "output_type": "stream",
     "text": [
      "\r",
      " 11%|████████▉                                                                      | 113/1000 [01:52<18:27,  1.25s/it]"
     ]
    },
    {
     "name": "stdout",
     "output_type": "stream",
     "text": [
      "\t ----- reward: -1.3034809413279167 for f_star and f_minus: 0.23999090930019368 , 1.3034809413279167\n",
      "\t ---------- State is:  (6, 0)\n",
      "[INFO] [2023-04-11 16:50:11,030] [OpenBox-SPO] Iteration 114, objective value: [2.138491036570613].\n"
     ]
    },
    {
     "name": "stderr",
     "output_type": "stream",
     "text": [
      "\r",
      " 11%|█████████                                                                      | 114/1000 [01:53<17:57,  1.22s/it]"
     ]
    },
    {
     "name": "stdout",
     "output_type": "stream",
     "text": [
      "\t ----- reward: -2.138491036570613 for f_star and f_minus: 0.23999090930019368 , 2.138491036570613\n",
      "\t ---------- State is:  (5, 0)\n",
      "[INFO] [2023-04-11 16:50:12,192] [OpenBox-SPO] Iteration 115, objective value: [1.321324756103515].\n"
     ]
    },
    {
     "name": "stderr",
     "output_type": "stream",
     "text": [
      "\r",
      " 12%|█████████                                                                      | 115/1000 [01:54<17:41,  1.20s/it]"
     ]
    },
    {
     "name": "stdout",
     "output_type": "stream",
     "text": [
      "\t ----- reward: -1.321324756103515 for f_star and f_minus: 0.23999090930019368 , 1.321324756103515\n",
      "\t ---------- State is:  (6, 0)\n",
      "[INFO] [2023-04-11 16:50:13,414] [OpenBox-SPO] Iteration 116, objective value: [1.8414948423412714].\n"
     ]
    },
    {
     "name": "stderr",
     "output_type": "stream",
     "text": [
      "\r",
      " 12%|█████████▏                                                                     | 116/1000 [01:55<17:46,  1.21s/it]"
     ]
    },
    {
     "name": "stdout",
     "output_type": "stream",
     "text": [
      "\t ----- reward: -1.8414948423412714 for f_star and f_minus: 0.23999090930019368 , 1.8414948423412714\n",
      "\t ---------- State is:  (6, 0)\n",
      "[INFO] [2023-04-11 16:50:14,436] [OpenBox-SPO] Iteration 117, objective value: [0.2526968426873772].\n"
     ]
    },
    {
     "name": "stderr",
     "output_type": "stream",
     "text": [
      "\r",
      " 12%|█████████▏                                                                     | 117/1000 [01:56<16:56,  1.15s/it]"
     ]
    },
    {
     "name": "stdout",
     "output_type": "stream",
     "text": [
      "\t ----- reward: -0.2526968426873772 for f_star and f_minus: 0.23999090930019368 , 0.2526968426873772\n",
      "\t ---------- State is:  (5, 0)\n",
      "[INFO] [2023-04-11 16:50:15,431] [OpenBox-SPO] Iteration 118, objective value: [1.8180971399306796].\n"
     ]
    },
    {
     "name": "stderr",
     "output_type": "stream",
     "text": [
      "\r",
      " 12%|█████████▎                                                                     | 118/1000 [01:57<16:13,  1.10s/it]"
     ]
    },
    {
     "name": "stdout",
     "output_type": "stream",
     "text": [
      "\t ----- reward: -1.8180971399306796 for f_star and f_minus: 0.23999090930019368 , 1.8180971399306796\n",
      "\t ---------- State is:  (5, 0)\n",
      "[INFO] [2023-04-11 16:50:15,431] [Advisor] Sample random config. rand_prob=0.100000.\n",
      "[INFO] [2023-04-11 16:50:15,434] [OpenBox-SPO] Iteration 119, objective value: [1.6940359368709736].\n",
      "\t ----- reward: -1.6940359368709736 for f_star and f_minus: 0.23999090930019368 , 1.6940359368709736\n",
      "\t ---------- State is:  (4, 1)\n",
      "[INFO] [2023-04-11 16:50:16,307] [OpenBox-SPO] Iteration 120, objective value: [1.23779894873223].\n"
     ]
    },
    {
     "name": "stderr",
     "output_type": "stream",
     "text": [
      "\r",
      " 12%|█████████▍                                                                     | 120/1000 [01:58<11:41,  1.25it/s]"
     ]
    },
    {
     "name": "stdout",
     "output_type": "stream",
     "text": [
      "\t ----- reward: -1.23779894873223 for f_star and f_minus: 0.23999090930019368 , 1.23779894873223\n",
      "\t ---------- State is:  (5, 1)\n",
      "[INFO] [2023-04-11 16:50:17,457] [OpenBox-SPO] Iteration 121, objective value: [1.2496740600345033].\n"
     ]
    },
    {
     "name": "stderr",
     "output_type": "stream",
     "text": [
      "\r",
      " 12%|█████████▌                                                                     | 121/1000 [01:59<12:57,  1.13it/s]"
     ]
    },
    {
     "name": "stdout",
     "output_type": "stream",
     "text": [
      "\t ----- reward: -1.2496740600345033 for f_star and f_minus: 0.23999090930019368 , 1.2496740600345033\n",
      "\t ---------- State is:  (6, 1)\n",
      "[INFO] [2023-04-11 16:50:18,465] [OpenBox-SPO] Iteration 122, objective value: [1.2410401630293675].\n"
     ]
    },
    {
     "name": "stderr",
     "output_type": "stream",
     "text": [
      "\r",
      " 12%|█████████▋                                                                     | 122/1000 [02:01<13:24,  1.09it/s]"
     ]
    },
    {
     "name": "stdout",
     "output_type": "stream",
     "text": [
      "\t ----- reward: -1.2410401630293675 for f_star and f_minus: 0.23999090930019368 , 1.2410401630293675\n",
      "\t ---------- State is:  (7, 1)\n",
      "[INFO] [2023-04-11 16:50:18,465] [Advisor] Sample random config. rand_prob=0.100000.\n",
      "[INFO] [2023-04-11 16:50:18,465] [OpenBox-SPO] Iteration 123, objective value: [1.9061447641667781].\n",
      "\t ----- reward: -1.9061447641667781 for f_star and f_minus: 0.23999090930019368 , 1.9061447641667781\n",
      "\t ---------- State is:  (6, 1)\n",
      "[INFO] [2023-04-11 16:50:19,665] [OpenBox-SPO] Iteration 124, objective value: [0.9923983778746623].\n"
     ]
    },
    {
     "name": "stderr",
     "output_type": "stream",
     "text": [
      "\r",
      " 12%|█████████▊                                                                     | 124/1000 [02:02<11:24,  1.28it/s]"
     ]
    },
    {
     "name": "stdout",
     "output_type": "stream",
     "text": [
      "\t ----- reward: -0.9923983778746623 for f_star and f_minus: 0.23999090930019368 , 0.9923983778746623\n",
      "\t ---------- State is:  (7, 1)\n",
      "[INFO] [2023-04-11 16:50:19,665] [Advisor] Sample random config. rand_prob=0.100000.\n",
      "[INFO] [2023-04-11 16:50:19,665] [OpenBox-SPO] Iteration 125, objective value: [0.9816056817658451].\n",
      "\t ----- reward: -0.9816056817658451 for f_star and f_minus: 0.23999090930019368 , 0.9816056817658451\n",
      "\t ---------- State is:  (6, 1)\n",
      "[INFO] [2023-04-11 16:50:20,800] [OpenBox-SPO] Iteration 126, objective value: [1.2756847809646548].\n"
     ]
    },
    {
     "name": "stderr",
     "output_type": "stream",
     "text": [
      "\r",
      " 13%|█████████▉                                                                     | 126/1000 [02:03<10:12,  1.43it/s]"
     ]
    },
    {
     "name": "stdout",
     "output_type": "stream",
     "text": [
      "\t ----- reward: -1.2756847809646548 for f_star and f_minus: 0.23999090930019368 , 1.2756847809646548\n",
      "\t ---------- State is:  (6, 1)\n",
      "[INFO] [2023-04-11 16:50:21,812] [OpenBox-SPO] Iteration 127, objective value: [0.36077247848244026].\n"
     ]
    },
    {
     "name": "stderr",
     "output_type": "stream",
     "text": [
      "\r",
      " 13%|██████████                                                                     | 127/1000 [02:04<11:09,  1.30it/s]"
     ]
    },
    {
     "name": "stdout",
     "output_type": "stream",
     "text": [
      "\t ----- reward: -0.36077247848244026 for f_star and f_minus: 0.23999090930019368 , 0.36077247848244026\n",
      "\t ---------- State is:  (5, 1)\n",
      "[INFO] [2023-04-11 16:50:22,848] [OpenBox-SPO] Iteration 128, objective value: [1.4318382214899341].\n"
     ]
    },
    {
     "name": "stderr",
     "output_type": "stream",
     "text": [
      "\r",
      " 13%|██████████                                                                     | 128/1000 [02:05<12:03,  1.21it/s]"
     ]
    },
    {
     "name": "stdout",
     "output_type": "stream",
     "text": [
      "\t ----- reward: -1.4318382214899341 for f_star and f_minus: 0.23999090930019368 , 1.4318382214899341\n",
      "\t ---------- State is:  (4, 1)\n",
      "[INFO] [2023-04-11 16:50:23,871] [OpenBox-SPO] Iteration 129, objective value: [1.0026721685717808].\n"
     ]
    },
    {
     "name": "stderr",
     "output_type": "stream",
     "text": [
      "\r",
      " 13%|██████████▏                                                                    | 129/1000 [02:06<12:44,  1.14it/s]"
     ]
    },
    {
     "name": "stdout",
     "output_type": "stream",
     "text": [
      "\t ----- reward: -1.0026721685717808 for f_star and f_minus: 0.23999090930019368 , 1.0026721685717808\n",
      "\t ---------- State is:  (4, 1)\n",
      "[INFO] [2023-04-11 16:50:23,872] [Advisor] Sample random config. rand_prob=0.100000.\n",
      "[INFO] [2023-04-11 16:50:23,873] [OpenBox-SPO] Iteration 130, objective value: [1.7231814711932998].\n",
      "\t ----- reward: -1.7231814711932998 for f_star and f_minus: 0.23999090930019368 , 1.7231814711932998\n",
      "\t ---------- State is:  (3, 1)\n",
      "[INFO] [2023-04-11 16:50:24,981] [OpenBox-SPO] Iteration 131, objective value: [0.9580259210146505].\n"
     ]
    },
    {
     "name": "stderr",
     "output_type": "stream",
     "text": [
      "\r",
      " 13%|██████████▎                                                                    | 131/1000 [02:07<10:45,  1.35it/s]"
     ]
    },
    {
     "name": "stdout",
     "output_type": "stream",
     "text": [
      "\t ----- reward: -0.9580259210146505 for f_star and f_minus: 0.23999090930019368 , 0.9580259210146505\n",
      "\t ---------- State is:  (2, 1)\n",
      "[INFO] [2023-04-11 16:50:26,191] [OpenBox-SPO] Iteration 132, objective value: [1.1640200582973659].\n"
     ]
    },
    {
     "name": "stderr",
     "output_type": "stream",
     "text": [
      "\r",
      " 13%|██████████▍                                                                    | 132/1000 [02:08<12:21,  1.17it/s]"
     ]
    },
    {
     "name": "stdout",
     "output_type": "stream",
     "text": [
      "\t ----- reward: -1.1640200582973659 for f_star and f_minus: 0.23999090930019368 , 1.1640200582973659\n",
      "\t ---------- State is:  (2, 1)\n",
      "[INFO] [2023-04-11 16:50:27,294] [OpenBox-SPO] Iteration 133, objective value: [0.9979294406812174].\n"
     ]
    },
    {
     "name": "stderr",
     "output_type": "stream",
     "text": [
      "\r",
      " 13%|██████████▌                                                                    | 133/1000 [02:09<13:10,  1.10it/s]"
     ]
    },
    {
     "name": "stdout",
     "output_type": "stream",
     "text": [
      "\t ----- reward: -0.9979294406812174 for f_star and f_minus: 0.23999090930019368 , 0.9979294406812174\n",
      "\t ---------- State is:  (2, 1)\n",
      "[INFO] [2023-04-11 16:50:28,402] [OpenBox-SPO] Iteration 134, objective value: [1.1174266670936506].\n"
     ]
    },
    {
     "name": "stderr",
     "output_type": "stream",
     "text": [
      "\r",
      " 13%|██████████▌                                                                    | 134/1000 [02:10<13:53,  1.04it/s]"
     ]
    },
    {
     "name": "stdout",
     "output_type": "stream",
     "text": [
      "\t ----- reward: -1.1174266670936506 for f_star and f_minus: 0.23999090930019368 , 1.1174266670936506\n",
      "\t ---------- State is:  (2, 0)\n",
      "[INFO] [2023-04-11 16:50:29,466] [OpenBox-SPO] Iteration 135, objective value: [1.1807807430400394].\n"
     ]
    },
    {
     "name": "stderr",
     "output_type": "stream",
     "text": [
      "\r",
      " 14%|██████████▋                                                                    | 135/1000 [02:12<14:16,  1.01it/s]"
     ]
    },
    {
     "name": "stdout",
     "output_type": "stream",
     "text": [
      "\t ----- reward: -1.1807807430400394 for f_star and f_minus: 0.23999090930019368 , 1.1807807430400394\n",
      "\t ---------- State is:  (2, 0)\n",
      "[INFO] [2023-04-11 16:50:30,642] [OpenBox-SPO] Iteration 136, objective value: [1.109816969825437].\n"
     ]
    },
    {
     "name": "stderr",
     "output_type": "stream",
     "text": [
      "\r",
      " 14%|██████████▋                                                                    | 136/1000 [02:13<15:00,  1.04s/it]"
     ]
    },
    {
     "name": "stdout",
     "output_type": "stream",
     "text": [
      "\t ----- reward: -1.109816969825437 for f_star and f_minus: 0.23999090930019368 , 1.109816969825437\n",
      "\t ---------- State is:  (1, 0)\n",
      "[INFO] [2023-04-11 16:50:31,839] [OpenBox-SPO] Iteration 137, objective value: [1.1327596611161996].\n"
     ]
    },
    {
     "name": "stderr",
     "output_type": "stream",
     "text": [
      "\r",
      " 14%|██████████▊                                                                    | 137/1000 [02:14<15:41,  1.09s/it]"
     ]
    },
    {
     "name": "stdout",
     "output_type": "stream",
     "text": [
      "\t ----- reward: -1.1327596611161996 for f_star and f_minus: 0.23999090930019368 , 1.1327596611161996\n",
      "\t ---------- State is:  (0, 0)\n",
      "[INFO] [2023-04-11 16:50:33,056] [OpenBox-SPO] Iteration 138, objective value: [0.936205335619125].\n"
     ]
    },
    {
     "name": "stderr",
     "output_type": "stream",
     "text": [
      "\r",
      " 14%|██████████▉                                                                    | 138/1000 [02:15<16:07,  1.12s/it]"
     ]
    },
    {
     "name": "stdout",
     "output_type": "stream",
     "text": [
      "\t ----- reward: -0.936205335619125 for f_star and f_minus: 0.23999090930019368 , 0.936205335619125\n",
      "\t ---------- State is:  (0, 0)\n",
      "[INFO] [2023-04-11 16:50:34,295] [OpenBox-SPO] Iteration 139, objective value: [0.9952581833453741].\n"
     ]
    },
    {
     "name": "stderr",
     "output_type": "stream",
     "text": [
      "\r",
      " 14%|██████████▉                                                                    | 139/1000 [02:16<16:35,  1.16s/it]"
     ]
    },
    {
     "name": "stdout",
     "output_type": "stream",
     "text": [
      "\t ----- reward: -0.9952581833453741 for f_star and f_minus: 0.23999090930019368 , 0.9952581833453741\n",
      "\t ---------- State is:  (1, 0)\n",
      "[INFO] [2023-04-11 16:50:35,447] [OpenBox-SPO] Iteration 140, objective value: [1.2051637000805533].\n"
     ]
    },
    {
     "name": "stderr",
     "output_type": "stream",
     "text": [
      "\r",
      " 14%|███████████                                                                    | 140/1000 [02:17<16:33,  1.16s/it]"
     ]
    },
    {
     "name": "stdout",
     "output_type": "stream",
     "text": [
      "\t ----- reward: -1.2051637000805533 for f_star and f_minus: 0.23999090930019368 , 1.2051637000805533\n",
      "\t ---------- State is:  (0, 0)\n",
      "[INFO] [2023-04-11 16:50:35,447] [Advisor] Sample random config. rand_prob=0.100000.\n",
      "[INFO] [2023-04-11 16:50:35,463] [OpenBox-SPO] Iteration 141, objective value: [1.5691867022291648].\n",
      "\t ----- reward: -1.5691867022291648 for f_star and f_minus: 0.23999090930019368 , 1.5691867022291648\n",
      "\t ---------- State is:  (0, 0)\n",
      "[INFO] [2023-04-11 16:50:36,878] [OpenBox-SPO] Iteration 142, objective value: [1.1274502326575944].\n"
     ]
    },
    {
     "name": "stderr",
     "output_type": "stream",
     "text": [
      "\r",
      " 14%|███████████▏                                                                   | 142/1000 [02:19<13:38,  1.05it/s]"
     ]
    },
    {
     "name": "stdout",
     "output_type": "stream",
     "text": [
      "\t ----- reward: -1.1274502326575944 for f_star and f_minus: 0.23999090930019368 , 1.1274502326575944\n",
      "\t ---------- State is:  (0, 0)\n",
      "[INFO] [2023-04-11 16:50:38,080] [OpenBox-SPO] Iteration 143, objective value: [1.1213540227232393].\n"
     ]
    },
    {
     "name": "stderr",
     "output_type": "stream",
     "text": [
      "\r",
      " 14%|███████████▎                                                                   | 143/1000 [02:20<14:30,  1.02s/it]"
     ]
    },
    {
     "name": "stdout",
     "output_type": "stream",
     "text": [
      "\t ----- reward: -1.1213540227232393 for f_star and f_minus: 0.23999090930019368 , 1.1213540227232393\n",
      "\t ---------- State is:  (1, 0)\n",
      "[INFO] [2023-04-11 16:50:39,271] [OpenBox-SPO] Iteration 144, objective value: [1.1115418365653713].\n"
     ]
    },
    {
     "name": "stderr",
     "output_type": "stream",
     "text": [
      "\r",
      " 14%|███████████▍                                                                   | 144/1000 [02:21<15:08,  1.06s/it]"
     ]
    },
    {
     "name": "stdout",
     "output_type": "stream",
     "text": [
      "\t ----- reward: -1.1115418365653713 for f_star and f_minus: 0.23999090930019368 , 1.1115418365653713\n",
      "\t ---------- State is:  (1, 0)\n",
      "[INFO] [2023-04-11 16:50:40,277] [OpenBox-SPO] Iteration 145, objective value: [0.9950207982651126].\n"
     ]
    },
    {
     "name": "stderr",
     "output_type": "stream",
     "text": [
      "\r",
      " 14%|███████████▍                                                                   | 145/1000 [02:22<14:54,  1.05s/it]"
     ]
    },
    {
     "name": "stdout",
     "output_type": "stream",
     "text": [
      "\t ----- reward: -0.9950207982651126 for f_star and f_minus: 0.23999090930019368 , 0.9950207982651126\n",
      "\t ---------- State is:  (0, 0)\n",
      "[INFO] [2023-04-11 16:50:40,277] [Advisor] Sample random config. rand_prob=0.100000.\n",
      "[INFO] [2023-04-11 16:50:40,283] [OpenBox-SPO] Iteration 146, objective value: [0.4081681235160882].\n",
      "\t ----- reward: -0.4081681235160882 for f_star and f_minus: 0.23999090930019368 , 0.4081681235160882\n",
      "\t ---------- State is:  (0, 0)\n",
      "[INFO] [2023-04-11 16:50:41,678] [OpenBox-SPO] Iteration 147, objective value: [1.37361670201436].\n"
     ]
    },
    {
     "name": "stderr",
     "output_type": "stream",
     "text": [
      "\r",
      " 15%|███████████▌                                                                   | 147/1000 [02:24<12:43,  1.12it/s]"
     ]
    },
    {
     "name": "stdout",
     "output_type": "stream",
     "text": [
      "\t ----- reward: -1.37361670201436 for f_star and f_minus: 0.23999090930019368 , 1.37361670201436\n",
      "\t ---------- State is:  (0, 0)\n",
      "[INFO] [2023-04-11 16:50:42,877] [OpenBox-SPO] Iteration 148, objective value: [1.310338603621949].\n"
     ]
    },
    {
     "name": "stderr",
     "output_type": "stream",
     "text": [
      "\r",
      " 15%|███████████▋                                                                   | 148/1000 [02:25<13:44,  1.03it/s]"
     ]
    },
    {
     "name": "stdout",
     "output_type": "stream",
     "text": [
      "\t ----- reward: -1.310338603621949 for f_star and f_minus: 0.23999090930019368 , 1.310338603621949\n",
      "\t ---------- State is:  (1, 0)\n",
      "[INFO] [2023-04-11 16:50:44,104] [OpenBox-SPO] Iteration 149, objective value: [1.0882217795058082].\n"
     ]
    },
    {
     "name": "stderr",
     "output_type": "stream",
     "text": [
      "\r",
      " 15%|███████████▊                                                                   | 149/1000 [02:26<14:39,  1.03s/it]"
     ]
    },
    {
     "name": "stdout",
     "output_type": "stream",
     "text": [
      "\t ----- reward: -1.0882217795058082 for f_star and f_minus: 0.23999090930019368 , 1.0882217795058082\n",
      "\t ---------- State is:  (2, 0)\n",
      "[INFO] [2023-04-11 16:50:45,148] [OpenBox-SPO] Iteration 150, objective value: [1.5421397471512912].\n"
     ]
    },
    {
     "name": "stderr",
     "output_type": "stream",
     "text": [
      "\r",
      " 15%|███████████▊                                                                   | 150/1000 [02:27<14:40,  1.04s/it]"
     ]
    },
    {
     "name": "stdout",
     "output_type": "stream",
     "text": [
      "\t ----- reward: -1.5421397471512912 for f_star and f_minus: 0.23999090930019368 , 1.5421397471512912\n",
      "\t ---------- State is:  (2, 0)\n",
      "[INFO] [2023-04-11 16:50:46,271] [OpenBox-SPO] Iteration 151, objective value: [1.1218947126131198].\n"
     ]
    },
    {
     "name": "stderr",
     "output_type": "stream",
     "text": [
      "\r",
      " 15%|███████████▉                                                                   | 151/1000 [02:28<15:00,  1.06s/it]"
     ]
    },
    {
     "name": "stdout",
     "output_type": "stream",
     "text": [
      "\t ----- reward: -1.1218947126131198 for f_star and f_minus: 0.23999090930019368 , 1.1218947126131198\n",
      "\t ---------- State is:  (3, 0)\n",
      "[INFO] [2023-04-11 16:50:47,307] [OpenBox-SPO] Iteration 152, objective value: [1.4075646297971862].\n"
     ]
    },
    {
     "name": "stderr",
     "output_type": "stream",
     "text": [
      "\r",
      " 15%|████████████                                                                   | 152/1000 [02:29<14:53,  1.05s/it]"
     ]
    },
    {
     "name": "stdout",
     "output_type": "stream",
     "text": [
      "\t ----- reward: -1.4075646297971862 for f_star and f_minus: 0.23999090930019368 , 1.4075646297971862\n",
      "\t ---------- State is:  (4, 0)\n",
      "[INFO] [2023-04-11 16:50:48,409] [OpenBox-SPO] Iteration 153, objective value: [0.2651808996343114].\n"
     ]
    },
    {
     "name": "stderr",
     "output_type": "stream",
     "text": [
      "\r",
      " 15%|████████████                                                                   | 153/1000 [02:30<15:04,  1.07s/it]"
     ]
    },
    {
     "name": "stdout",
     "output_type": "stream",
     "text": [
      "\t ----- reward: -0.2651808996343114 for f_star and f_minus: 0.23999090930019368 , 0.2651808996343114\n",
      "\t ---------- State is:  (5, 0)\n",
      "[INFO] [2023-04-11 16:50:49,753] [OpenBox-SPO] Iteration 154, objective value: [1.259091620589402].\n"
     ]
    },
    {
     "name": "stderr",
     "output_type": "stream",
     "text": [
      "\r",
      " 15%|████████████▏                                                                  | 154/1000 [02:32<16:11,  1.15s/it]"
     ]
    },
    {
     "name": "stdout",
     "output_type": "stream",
     "text": [
      "\t ----- reward: -1.259091620589402 for f_star and f_minus: 0.23999090930019368 , 1.259091620589402\n",
      "\t ---------- State is:  (4, 0)\n",
      "[INFO] [2023-04-11 16:50:50,918] [OpenBox-SPO] Iteration 155, objective value: [0.9220393656224025].\n"
     ]
    },
    {
     "name": "stderr",
     "output_type": "stream",
     "text": [
      "\r",
      " 16%|████████████▏                                                                  | 155/1000 [02:33<16:14,  1.15s/it]"
     ]
    },
    {
     "name": "stdout",
     "output_type": "stream",
     "text": [
      "\t ----- reward: -0.9220393656224025 for f_star and f_minus: 0.23999090930019368 , 0.9220393656224025\n",
      "\t ---------- State is:  (3, 0)\n",
      "[INFO] [2023-04-11 16:50:52,107] [OpenBox-SPO] Iteration 156, objective value: [0.9793525816120094].\n"
     ]
    },
    {
     "name": "stderr",
     "output_type": "stream",
     "text": [
      "\r",
      " 16%|████████████▎                                                                  | 156/1000 [02:34<16:21,  1.16s/it]"
     ]
    },
    {
     "name": "stdout",
     "output_type": "stream",
     "text": [
      "\t ----- reward: -0.9793525816120094 for f_star and f_minus: 0.23999090930019368 , 0.9793525816120094\n",
      "\t ---------- State is:  (2, 0)\n",
      "[INFO] [2023-04-11 16:50:53,358] [OpenBox-SPO] Iteration 157, objective value: [1.4515959876151199].\n"
     ]
    },
    {
     "name": "stderr",
     "output_type": "stream",
     "text": [
      "\r",
      " 16%|████████████▍                                                                  | 157/1000 [02:35<16:42,  1.19s/it]"
     ]
    },
    {
     "name": "stdout",
     "output_type": "stream",
     "text": [
      "\t ----- reward: -1.4515959876151199 for f_star and f_minus: 0.23999090930019368 , 1.4515959876151199\n",
      "\t ---------- State is:  (3, 0)\n",
      "[INFO] [2023-04-11 16:50:54,650] [OpenBox-SPO] Iteration 158, objective value: [1.0845004253012678].\n"
     ]
    },
    {
     "name": "stderr",
     "output_type": "stream",
     "text": [
      "\r",
      " 16%|████████████▍                                                                  | 158/1000 [02:37<17:07,  1.22s/it]"
     ]
    },
    {
     "name": "stdout",
     "output_type": "stream",
     "text": [
      "\t ----- reward: -1.0845004253012678 for f_star and f_minus: 0.23999090930019368 , 1.0845004253012678\n",
      "\t ---------- State is:  (2, 0)\n",
      "[INFO] [2023-04-11 16:50:55,855] [OpenBox-SPO] Iteration 159, objective value: [1.23926786157038].\n"
     ]
    },
    {
     "name": "stderr",
     "output_type": "stream",
     "text": [
      "\r",
      " 16%|████████████▌                                                                  | 159/1000 [02:38<17:02,  1.22s/it]"
     ]
    },
    {
     "name": "stdout",
     "output_type": "stream",
     "text": [
      "\t ----- reward: -1.23926786157038 for f_star and f_minus: 0.23999090930019368 , 1.23926786157038\n",
      "\t ---------- State is:  (3, 0)\n",
      "[INFO] [2023-04-11 16:50:55,855] [Advisor] Sample random config. rand_prob=0.100000.\n",
      "[INFO] [2023-04-11 16:50:55,855] [OpenBox-SPO] Iteration 160, objective value: [1.9237662468803463].\n",
      "\t ----- reward: -1.9237662468803463 for f_star and f_minus: 0.23999090930019368 , 1.9237662468803463\n",
      "\t ---------- State is:  (3, 0)\n",
      "[INFO] [2023-04-11 16:50:56,944] [OpenBox-SPO] Iteration 161, objective value: [1.0156067072323942].\n"
     ]
    },
    {
     "name": "stderr",
     "output_type": "stream",
     "text": [
      "\r",
      " 16%|████████████▋                                                                  | 161/1000 [02:39<12:40,  1.10it/s]"
     ]
    },
    {
     "name": "stdout",
     "output_type": "stream",
     "text": [
      "\t ----- reward: -1.0156067072323942 for f_star and f_minus: 0.23999090930019368 , 1.0156067072323942\n",
      "\t ---------- State is:  (4, 0)\n",
      "[INFO] [2023-04-11 16:50:58,089] [OpenBox-SPO] Iteration 162, objective value: [0.7559865750349942].\n"
     ]
    },
    {
     "name": "stderr",
     "output_type": "stream",
     "text": [
      "\r",
      " 16%|████████████▊                                                                  | 162/1000 [02:40<13:31,  1.03it/s]"
     ]
    },
    {
     "name": "stdout",
     "output_type": "stream",
     "text": [
      "\t ----- reward: -0.7559865750349942 for f_star and f_minus: 0.23999090930019368 , 0.7559865750349942\n",
      "\t ---------- State is:  (4, 0)\n",
      "[INFO] [2023-04-11 16:50:58,100] [Advisor] Sample random config. rand_prob=0.100000.\n",
      "[INFO] [2023-04-11 16:50:58,100] [OpenBox-SPO] Iteration 163, objective value: [1.3794273129886814].\n",
      "\t ----- reward: -1.3794273129886814 for f_star and f_minus: 0.23999090930019368 , 1.3794273129886814\n",
      "\t ---------- State is:  (4, 0)\n",
      "[INFO] [2023-04-11 16:50:59,107] [OpenBox-SPO] Iteration 164, objective value: [0.9788199627478649].\n"
     ]
    },
    {
     "name": "stderr",
     "output_type": "stream",
     "text": [
      "\r",
      " 16%|████████████▉                                                                  | 164/1000 [02:41<10:48,  1.29it/s]"
     ]
    },
    {
     "name": "stdout",
     "output_type": "stream",
     "text": [
      "\t ----- reward: -0.9788199627478649 for f_star and f_minus: 0.23999090930019368 , 0.9788199627478649\n",
      "\t ---------- State is:  (4, 0)\n",
      "[INFO] [2023-04-11 16:51:00,269] [OpenBox-SPO] Iteration 165, objective value: [1.0756568336217698].\n"
     ]
    },
    {
     "name": "stderr",
     "output_type": "stream",
     "text": [
      "\r",
      " 16%|█████████████                                                                  | 165/1000 [02:42<12:01,  1.16it/s]"
     ]
    },
    {
     "name": "stdout",
     "output_type": "stream",
     "text": [
      "\t ----- reward: -1.0756568336217698 for f_star and f_minus: 0.23999090930019368 , 1.0756568336217698\n",
      "\t ---------- State is:  (3, 0)\n",
      "[INFO] [2023-04-11 16:51:01,377] [OpenBox-SPO] Iteration 166, objective value: [1.3032306080852896].\n"
     ]
    },
    {
     "name": "stderr",
     "output_type": "stream",
     "text": [
      "\r",
      " 17%|█████████████                                                                  | 166/1000 [02:43<12:50,  1.08it/s]"
     ]
    },
    {
     "name": "stdout",
     "output_type": "stream",
     "text": [
      "\t ----- reward: -1.3032306080852896 for f_star and f_minus: 0.23999090930019368 , 1.3032306080852896\n",
      "\t ---------- State is:  (2, 0)\n",
      "[INFO] [2023-04-11 16:51:02,508] [OpenBox-SPO] Iteration 167, objective value: [1.112669521054308].\n"
     ]
    },
    {
     "name": "stderr",
     "output_type": "stream",
     "text": [
      "\r",
      " 17%|█████████████▏                                                                 | 167/1000 [02:45<13:34,  1.02it/s]"
     ]
    },
    {
     "name": "stdout",
     "output_type": "stream",
     "text": [
      "\t ----- reward: -1.112669521054308 for f_star and f_minus: 0.23999090930019368 , 1.112669521054308\n",
      "\t ---------- State is:  (1, 0)\n",
      "[INFO] [2023-04-11 16:51:03,626] [OpenBox-SPO] Iteration 168, objective value: [1.2104017008460994].\n"
     ]
    },
    {
     "name": "stderr",
     "output_type": "stream",
     "text": [
      "\r",
      " 17%|█████████████▎                                                                 | 168/1000 [02:46<14:05,  1.02s/it]"
     ]
    },
    {
     "name": "stdout",
     "output_type": "stream",
     "text": [
      "\t ----- reward: -1.2104017008460994 for f_star and f_minus: 0.23999090930019368 , 1.2104017008460994\n",
      "\t ---------- State is:  (2, 0)\n",
      "[INFO] [2023-04-11 16:51:04,848] [OpenBox-SPO] Iteration 169, objective value: [1.4374403853699587].\n"
     ]
    },
    {
     "name": "stderr",
     "output_type": "stream",
     "text": [
      "\r",
      " 17%|█████████████▎                                                                 | 169/1000 [02:47<14:51,  1.07s/it]"
     ]
    },
    {
     "name": "stdout",
     "output_type": "stream",
     "text": [
      "\t ----- reward: -1.4374403853699587 for f_star and f_minus: 0.23999090930019368 , 1.4374403853699587\n",
      "\t ---------- State is:  (1, 0)\n",
      "[INFO] [2023-04-11 16:51:05,928] [OpenBox-SPO] Iteration 170, objective value: [1.2581657054475164].\n"
     ]
    },
    {
     "name": "stderr",
     "output_type": "stream",
     "text": [
      "\r",
      " 17%|█████████████▍                                                                 | 170/1000 [02:48<14:52,  1.08s/it]"
     ]
    },
    {
     "name": "stdout",
     "output_type": "stream",
     "text": [
      "\t ----- reward: -1.2581657054475164 for f_star and f_minus: 0.23999090930019368 , 1.2581657054475164\n",
      "\t ---------- State is:  (1, 0)\n",
      "[INFO] [2023-04-11 16:51:07,028] [OpenBox-SPO] Iteration 171, objective value: [1.5963239541476981].\n"
     ]
    },
    {
     "name": "stderr",
     "output_type": "stream",
     "text": [
      "\r",
      " 17%|█████████████▌                                                                 | 171/1000 [02:49<14:57,  1.08s/it]"
     ]
    },
    {
     "name": "stdout",
     "output_type": "stream",
     "text": [
      "\t ----- reward: -1.5963239541476981 for f_star and f_minus: 0.23999090930019368 , 1.5963239541476981\n",
      "\t ---------- State is:  (0, 0)\n",
      "[INFO] [2023-04-11 16:51:08,422] [OpenBox-SPO] Iteration 172, objective value: [1.0108837300515332].\n"
     ]
    },
    {
     "name": "stderr",
     "output_type": "stream",
     "text": [
      "\r",
      " 17%|█████████████▌                                                                 | 172/1000 [02:50<16:11,  1.17s/it]"
     ]
    },
    {
     "name": "stdout",
     "output_type": "stream",
     "text": [
      "\t ----- reward: -1.0108837300515332 for f_star and f_minus: 0.23999090930019368 , 1.0108837300515332\n",
      "\t ---------- State is:  (0, 0)\n",
      "[INFO] [2023-04-11 16:51:09,447] [OpenBox-SPO] Iteration 173, objective value: [1.5629934860091927].\n"
     ]
    },
    {
     "name": "stderr",
     "output_type": "stream",
     "text": [
      "\r",
      " 17%|█████████████▋                                                                 | 173/1000 [02:51<15:34,  1.13s/it]"
     ]
    },
    {
     "name": "stdout",
     "output_type": "stream",
     "text": [
      "\t ----- reward: -1.5629934860091927 for f_star and f_minus: 0.23999090930019368 , 1.5629934860091927\n",
      "\t ---------- State is:  (0, 0)\n",
      "[INFO] [2023-04-11 16:51:10,623] [OpenBox-SPO] Iteration 174, objective value: [0.38104014674511405].\n"
     ]
    },
    {
     "name": "stderr",
     "output_type": "stream",
     "text": [
      "\r",
      " 17%|█████████████▋                                                                 | 174/1000 [02:53<15:44,  1.14s/it]"
     ]
    },
    {
     "name": "stdout",
     "output_type": "stream",
     "text": [
      "\t ----- reward: -0.38104014674511405 for f_star and f_minus: 0.23999090930019368 , 0.38104014674511405\n",
      "\t ---------- State is:  (0, 0)\n",
      "[INFO] [2023-04-11 16:51:11,831] [OpenBox-SPO] Iteration 175, objective value: [1.1361673444006644].\n"
     ]
    },
    {
     "name": "stderr",
     "output_type": "stream",
     "text": [
      "\r",
      " 18%|█████████████▊                                                                 | 175/1000 [02:54<15:59,  1.16s/it]"
     ]
    },
    {
     "name": "stdout",
     "output_type": "stream",
     "text": [
      "\t ----- reward: -1.1361673444006644 for f_star and f_minus: 0.23999090930019368 , 1.1361673444006644\n",
      "\t ---------- State is:  (0, 0)\n",
      "[INFO] [2023-04-11 16:51:12,913] [OpenBox-SPO] Iteration 176, objective value: [1.3422890359480488].\n"
     ]
    },
    {
     "name": "stderr",
     "output_type": "stream",
     "text": [
      "\r",
      " 18%|█████████████▉                                                                 | 176/1000 [02:55<15:38,  1.14s/it]"
     ]
    },
    {
     "name": "stdout",
     "output_type": "stream",
     "text": [
      "\t ----- reward: -1.3422890359480488 for f_star and f_minus: 0.23999090930019368 , 1.3422890359480488\n",
      "\t ---------- State is:  (1, 0)\n",
      "[INFO] [2023-04-11 16:51:14,096] [OpenBox-SPO] Iteration 177, objective value: [1.2085866914797203].\n"
     ]
    },
    {
     "name": "stderr",
     "output_type": "stream",
     "text": [
      "\r",
      " 18%|█████████████▉                                                                 | 177/1000 [02:56<15:48,  1.15s/it]"
     ]
    },
    {
     "name": "stdout",
     "output_type": "stream",
     "text": [
      "\t ----- reward: -1.2085866914797203 for f_star and f_minus: 0.23999090930019368 , 1.2085866914797203\n",
      "\t ---------- State is:  (2, 0)\n",
      "[INFO] [2023-04-11 16:51:14,098] [Advisor] Sample random config. rand_prob=0.100000.\n",
      "[INFO] [2023-04-11 16:51:14,099] [OpenBox-SPO] Iteration 178, objective value: [1.1626629327236229].\n",
      "\t ----- reward: -1.1626629327236229 for f_star and f_minus: 0.23999090930019368 , 1.1626629327236229\n",
      "\t ---------- State is:  (2, 0)\n",
      "[INFO] [2023-04-11 16:51:14,100] [Advisor] Sample random config. rand_prob=0.100000.\n",
      "[INFO] [2023-04-11 16:51:14,101] [OpenBox-SPO] Iteration 179, objective value: [1.2139809876917205].\n",
      "\t ----- reward: -1.2139809876917205 for f_star and f_minus: 0.23999090930019368 , 1.2139809876917205\n",
      "\t ---------- State is:  (2, 0)\n",
      "[INFO] [2023-04-11 16:51:15,262] [OpenBox-SPO] Iteration 180, objective value: [1.047855078749215].\n"
     ]
    },
    {
     "name": "stderr",
     "output_type": "stream",
     "text": [
      "\r",
      " 18%|██████████████▏                                                                | 180/1000 [02:57<09:53,  1.38it/s]"
     ]
    },
    {
     "name": "stdout",
     "output_type": "stream",
     "text": [
      "\t ----- reward: -1.047855078749215 for f_star and f_minus: 0.23999090930019368 , 1.047855078749215\n",
      "\t ---------- State is:  (2, 0)\n",
      "[INFO] [2023-04-11 16:51:16,392] [OpenBox-SPO] Iteration 181, objective value: [0.9405510398501882].\n"
     ]
    },
    {
     "name": "stderr",
     "output_type": "stream",
     "text": [
      "\r",
      " 18%|██████████████▎                                                                | 181/1000 [02:58<11:02,  1.24it/s]"
     ]
    },
    {
     "name": "stdout",
     "output_type": "stream",
     "text": [
      "\t ----- reward: -0.9405510398501882 for f_star and f_minus: 0.23999090930019368 , 0.9405510398501882\n",
      "\t ---------- State is:  (1, 0)\n",
      "[INFO] [2023-04-11 16:51:16,392] [Advisor] Sample random config. rand_prob=0.100000.\n",
      "[INFO] [2023-04-11 16:51:16,392] [OpenBox-SPO] Iteration 182, objective value: [0.648403345804667].\n",
      "\t ----- reward: -0.648403345804667 for f_star and f_minus: 0.23999090930019368 , 0.648403345804667\n",
      "\t ---------- State is:  (1, 0)\n",
      "[INFO] [2023-04-11 16:51:17,333] [OpenBox-SPO] Iteration 183, objective value: [1.2253737476894326].\n"
     ]
    },
    {
     "name": "stderr",
     "output_type": "stream",
     "text": [
      "\r",
      " 18%|██████████████▍                                                                | 183/1000 [02:59<09:17,  1.47it/s]"
     ]
    },
    {
     "name": "stdout",
     "output_type": "stream",
     "text": [
      "\t ----- reward: -1.2253737476894326 for f_star and f_minus: 0.23999090930019368 , 1.2253737476894326\n",
      "\t ---------- State is:  (2, 0)\n",
      "[INFO] [2023-04-11 16:51:18,604] [OpenBox-SPO] Iteration 184, objective value: [1.3248149593899905].\n"
     ]
    },
    {
     "name": "stderr",
     "output_type": "stream",
     "text": [
      "\r",
      " 18%|██████████████▌                                                                | 184/1000 [03:01<10:58,  1.24it/s]"
     ]
    },
    {
     "name": "stdout",
     "output_type": "stream",
     "text": [
      "\t ----- reward: -1.3248149593899905 for f_star and f_minus: 0.23999090930019368 , 1.3248149593899905\n",
      "\t ---------- State is:  (3, 0)\n",
      "[INFO] [2023-04-11 16:51:19,687] [OpenBox-SPO] Iteration 185, objective value: [0.8993527043706266].\n"
     ]
    },
    {
     "name": "stderr",
     "output_type": "stream",
     "text": [
      "\r",
      " 18%|██████████████▌                                                                | 185/1000 [03:02<11:49,  1.15it/s]"
     ]
    },
    {
     "name": "stdout",
     "output_type": "stream",
     "text": [
      "\t ----- reward: -0.8993527043706266 for f_star and f_minus: 0.23999090930019368 , 0.8993527043706266\n",
      "\t ---------- State is:  (4, 0)\n",
      "[INFO] [2023-04-11 16:51:20,596] [OpenBox-SPO] Iteration 186, objective value: [1.0557573581326618].\n"
     ]
    },
    {
     "name": "stderr",
     "output_type": "stream",
     "text": [
      "\r",
      " 19%|██████████████▋                                                                | 186/1000 [03:03<11:59,  1.13it/s]"
     ]
    },
    {
     "name": "stdout",
     "output_type": "stream",
     "text": [
      "\t ----- reward: -1.0557573581326618 for f_star and f_minus: 0.23999090930019368 , 1.0557573581326618\n",
      "\t ---------- State is:  (5, 0)\n",
      "[INFO] [2023-04-11 16:51:21,946] [OpenBox-SPO] Iteration 187, objective value: [1.1747226719139034].\n"
     ]
    },
    {
     "name": "stderr",
     "output_type": "stream",
     "text": [
      "\r",
      " 19%|██████████████▊                                                                | 187/1000 [03:04<13:34,  1.00s/it]"
     ]
    },
    {
     "name": "stdout",
     "output_type": "stream",
     "text": [
      "\t ----- reward: -1.1747226719139034 for f_star and f_minus: 0.23999090930019368 , 1.1747226719139034\n",
      "\t ---------- State is:  (5, 0)\n",
      "[INFO] [2023-04-11 16:51:23,012] [OpenBox-SPO] Iteration 188, objective value: [1.2151127789433034].\n"
     ]
    },
    {
     "name": "stderr",
     "output_type": "stream",
     "text": [
      "\r",
      " 19%|██████████████▊                                                                | 188/1000 [03:05<13:48,  1.02s/it]"
     ]
    },
    {
     "name": "stdout",
     "output_type": "stream",
     "text": [
      "\t ----- reward: -1.2151127789433034 for f_star and f_minus: 0.23999090930019368 , 1.2151127789433034\n",
      "\t ---------- State is:  (5, 0)\n",
      "[INFO] [2023-04-11 16:51:24,095] [OpenBox-SPO] Iteration 189, objective value: [2.045855213321798].\n"
     ]
    },
    {
     "name": "stderr",
     "output_type": "stream",
     "text": [
      "\r",
      " 19%|██████████████▉                                                                | 189/1000 [03:06<14:01,  1.04s/it]"
     ]
    },
    {
     "name": "stdout",
     "output_type": "stream",
     "text": [
      "\t ----- reward: -2.045855213321798 for f_star and f_minus: 0.23999090930019368 , 2.045855213321798\n",
      "\t ---------- State is:  (6, 0)\n",
      "[INFO] [2023-04-11 16:51:25,382] [OpenBox-SPO] Iteration 190, objective value: [1.2046417018328166].\n"
     ]
    },
    {
     "name": "stderr",
     "output_type": "stream",
     "text": [
      "\r",
      " 19%|███████████████                                                                | 190/1000 [03:07<14:58,  1.11s/it]"
     ]
    },
    {
     "name": "stdout",
     "output_type": "stream",
     "text": [
      "\t ----- reward: -1.2046417018328166 for f_star and f_minus: 0.23999090930019368 , 1.2046417018328166\n",
      "\t ---------- State is:  (7, 0)\n",
      "[INFO] [2023-04-11 16:51:26,465] [OpenBox-SPO] Iteration 191, objective value: [1.4480482992611428].\n"
     ]
    },
    {
     "name": "stderr",
     "output_type": "stream",
     "text": [
      "\r",
      " 19%|███████████████                                                                | 191/1000 [03:09<14:50,  1.10s/it]"
     ]
    },
    {
     "name": "stdout",
     "output_type": "stream",
     "text": [
      "\t ----- reward: -1.4480482992611428 for f_star and f_minus: 0.23999090930019368 , 1.4480482992611428\n",
      "\t ---------- State is:  (8, 0)\n",
      "[INFO] [2023-04-11 16:51:27,501] [OpenBox-SPO] Iteration 192, objective value: [0.5596388154318565].\n"
     ]
    },
    {
     "name": "stderr",
     "output_type": "stream",
     "text": [
      "\r",
      " 19%|███████████████▏                                                               | 192/1000 [03:10<14:34,  1.08s/it]"
     ]
    },
    {
     "name": "stdout",
     "output_type": "stream",
     "text": [
      "\t ----- reward: -0.5596388154318565 for f_star and f_minus: 0.23999090930019368 , 0.5596388154318565\n",
      "\t ---------- State is:  (9, 0)\n",
      "[INFO] [2023-04-11 16:51:28,615] [OpenBox-SPO] Iteration 193, objective value: [0.4083910777882138].\n"
     ]
    },
    {
     "name": "stderr",
     "output_type": "stream",
     "text": [
      "\r",
      " 19%|███████████████▏                                                               | 193/1000 [03:11<14:44,  1.10s/it]"
     ]
    },
    {
     "name": "stdout",
     "output_type": "stream",
     "text": [
      "\t ----- reward: -0.4083910777882138 for f_star and f_minus: 0.23999090930019368 , 0.4083910777882138\n",
      "\t ---------- State is:  (10, 0)\n",
      "[INFO] [2023-04-11 16:51:29,557] [OpenBox-SPO] Iteration 194, objective value: [0.9694350725974882].\n"
     ]
    },
    {
     "name": "stderr",
     "output_type": "stream",
     "text": [
      "\r",
      " 19%|███████████████▎                                                               | 194/1000 [03:12<14:02,  1.05s/it]"
     ]
    },
    {
     "name": "stdout",
     "output_type": "stream",
     "text": [
      "\t ----- reward: -0.9694350725974882 for f_star and f_minus: 0.23999090930019368 , 0.9694350725974882\n",
      "\t ---------- State is:  (10, 0)\n",
      "[INFO] [2023-04-11 16:51:30,639] [OpenBox-SPO] Iteration 195, objective value: [1.2448733371691425].\n"
     ]
    },
    {
     "name": "stderr",
     "output_type": "stream",
     "text": [
      "\r",
      " 20%|███████████████▍                                                               | 195/1000 [03:13<14:10,  1.06s/it]"
     ]
    },
    {
     "name": "stdout",
     "output_type": "stream",
     "text": [
      "\t ----- reward: -1.2448733371691425 for f_star and f_minus: 0.23999090930019368 , 1.2448733371691425\n",
      "\t ---------- State is:  (10, 0)\n",
      "[INFO] [2023-04-11 16:51:31,800] [OpenBox-SPO] Iteration 196, objective value: [1.1826733937315133].\n"
     ]
    },
    {
     "name": "stderr",
     "output_type": "stream",
     "text": [
      "\r",
      " 20%|███████████████▍                                                               | 196/1000 [03:14<14:34,  1.09s/it]"
     ]
    },
    {
     "name": "stdout",
     "output_type": "stream",
     "text": [
      "\t ----- reward: -1.1826733937315133 for f_star and f_minus: 0.23999090930019368 , 1.1826733937315133\n",
      "\t ---------- State is:  (10, 0)\n",
      "[INFO] [2023-04-11 16:51:32,852] [OpenBox-SPO] Iteration 197, objective value: [0.3204886090499325].\n"
     ]
    },
    {
     "name": "stderr",
     "output_type": "stream",
     "text": [
      "\r",
      " 20%|███████████████▌                                                               | 197/1000 [03:15<14:24,  1.08s/it]"
     ]
    },
    {
     "name": "stdout",
     "output_type": "stream",
     "text": [
      "\t ----- reward: -0.3204886090499325 for f_star and f_minus: 0.23999090930019368 , 0.3204886090499325\n",
      "\t ---------- State is:  (9, 0)\n",
      "[INFO] [2023-04-11 16:51:32,852] [Advisor] Sample random config. rand_prob=0.100000.\n",
      "[INFO] [2023-04-11 16:51:32,852] [OpenBox-SPO] Iteration 198, objective value: [0.8332550916494841].\n",
      "\t ----- reward: -0.8332550916494841 for f_star and f_minus: 0.23999090930019368 , 0.8332550916494841\n",
      "\t ---------- State is:  (10, 0)\n",
      "[INFO] [2023-04-11 16:51:34,028] [OpenBox-SPO] Iteration 199, objective value: [0.328833984464494].\n"
     ]
    },
    {
     "name": "stderr",
     "output_type": "stream",
     "text": [
      "\r",
      " 20%|███████████████▋                                                               | 199/1000 [03:16<11:22,  1.17it/s]"
     ]
    },
    {
     "name": "stdout",
     "output_type": "stream",
     "text": [
      "\t ----- reward: -0.328833984464494 for f_star and f_minus: 0.23999090930019368 , 0.328833984464494\n",
      "\t ---------- State is:  (10, 0)\n",
      "[INFO] [2023-04-11 16:51:35,220] [OpenBox-SPO] Iteration 200, objective value: [0.25754422605865546].\n"
     ]
    },
    {
     "name": "stderr",
     "output_type": "stream",
     "text": [
      "\r",
      " 20%|███████████████▊                                                               | 200/1000 [03:17<12:28,  1.07it/s]"
     ]
    },
    {
     "name": "stdout",
     "output_type": "stream",
     "text": [
      "\t ----- reward: -0.25754422605865546 for f_star and f_minus: 0.23999090930019368 , 0.25754422605865546\n",
      "\t ---------- State is:  (10, 0)\n",
      "[INFO] [2023-04-11 16:51:36,287] [OpenBox-SPO] Iteration 201, objective value: [0.32020633245658114].\n"
     ]
    },
    {
     "name": "stderr",
     "output_type": "stream",
     "text": [
      "\r",
      " 20%|███████████████▉                                                               | 201/1000 [03:18<12:55,  1.03it/s]"
     ]
    },
    {
     "name": "stdout",
     "output_type": "stream",
     "text": [
      "\t ----- reward: -0.32020633245658114 for f_star and f_minus: 0.23999090930019368 , 0.32020633245658114\n",
      "\t ---------- State is:  (10, 0)\n",
      "[INFO] [2023-04-11 16:51:37,338] [OpenBox-SPO] Iteration 202, objective value: [0.9047168350871141].\n"
     ]
    },
    {
     "name": "stderr",
     "output_type": "stream",
     "text": [
      "\r",
      " 20%|███████████████▉                                                               | 202/1000 [03:19<13:11,  1.01it/s]"
     ]
    },
    {
     "name": "stdout",
     "output_type": "stream",
     "text": [
      "\t ----- reward: -0.9047168350871141 for f_star and f_minus: 0.23999090930019368 , 0.9047168350871141\n",
      "\t ---------- State is:  (10, 0)\n",
      "[INFO] [2023-04-11 16:51:37,338] [Advisor] Sample random config. rand_prob=0.100000.\n",
      "[INFO] [2023-04-11 16:51:37,338] [OpenBox-SPO] Iteration 203, objective value: [2.4555876645566364].\n",
      "\t ----- reward: -2.4555876645566364 for f_star and f_minus: 0.23999090930019368 , 2.4555876645566364\n",
      "\t ---------- State is:  (9, 0)\n",
      "[INFO] [2023-04-11 16:51:38,435] [OpenBox-SPO] Iteration 204, objective value: [1.1434889167326638].\n"
     ]
    },
    {
     "name": "stderr",
     "output_type": "stream",
     "text": [
      "\r",
      " 20%|████████████████                                                               | 204/1000 [03:20<10:35,  1.25it/s]"
     ]
    },
    {
     "name": "stdout",
     "output_type": "stream",
     "text": [
      "\t ----- reward: -1.1434889167326638 for f_star and f_minus: 0.23999090930019368 , 1.1434889167326638\n",
      "\t ---------- State is:  (9, 0)\n",
      "[INFO] [2023-04-11 16:51:39,706] [OpenBox-SPO] Iteration 205, objective value: [0.53450846228698].\n"
     ]
    },
    {
     "name": "stderr",
     "output_type": "stream",
     "text": [
      "\r",
      " 20%|████████████████▏                                                              | 205/1000 [03:22<12:04,  1.10it/s]"
     ]
    },
    {
     "name": "stdout",
     "output_type": "stream",
     "text": [
      "\t ----- reward: -0.53450846228698 for f_star and f_minus: 0.23999090930019368 , 0.53450846228698\n",
      "\t ---------- State is:  (10, 0)\n",
      "[INFO] [2023-04-11 16:51:40,851] [OpenBox-SPO] Iteration 206, objective value: [1.6411683288265249].\n"
     ]
    },
    {
     "name": "stderr",
     "output_type": "stream",
     "text": [
      "\r",
      " 21%|████████████████▎                                                              | 206/1000 [03:23<12:50,  1.03it/s]"
     ]
    },
    {
     "name": "stdout",
     "output_type": "stream",
     "text": [
      "\t ----- reward: -1.6411683288265249 for f_star and f_minus: 0.23999090930019368 , 1.6411683288265249\n",
      "\t ---------- State is:  (10, 0)\n",
      "[INFO] [2023-04-11 16:51:41,949] [OpenBox-SPO] Iteration 207, objective value: [0.42703924210140715].\n"
     ]
    },
    {
     "name": "stderr",
     "output_type": "stream",
     "text": [
      "\r",
      " 21%|████████████████▎                                                              | 207/1000 [03:24<13:16,  1.00s/it]"
     ]
    },
    {
     "name": "stdout",
     "output_type": "stream",
     "text": [
      "\t ----- reward: -0.42703924210140715 for f_star and f_minus: 0.23999090930019368 , 0.42703924210140715\n",
      "\t ---------- State is:  (9, 0)\n",
      "[INFO] [2023-04-11 16:51:42,982] [OpenBox-SPO] Iteration 208, objective value: [0.47848093668906555].\n"
     ]
    },
    {
     "name": "stderr",
     "output_type": "stream",
     "text": [
      "\r",
      " 21%|████████████████▍                                                              | 208/1000 [03:25<13:21,  1.01s/it]"
     ]
    },
    {
     "name": "stdout",
     "output_type": "stream",
     "text": [
      "\t ----- reward: -0.47848093668906555 for f_star and f_minus: 0.23999090930019368 , 0.47848093668906555\n",
      "\t ---------- State is:  (9, 0)\n",
      "[INFO] [2023-04-11 16:51:43,912] [OpenBox-SPO] Iteration 209, objective value: [0.5007953516593391].\n"
     ]
    },
    {
     "name": "stderr",
     "output_type": "stream",
     "text": [
      "\r",
      " 21%|████████████████▌                                                              | 209/1000 [03:26<13:02,  1.01it/s]"
     ]
    },
    {
     "name": "stdout",
     "output_type": "stream",
     "text": [
      "\t ----- reward: -0.5007953516593391 for f_star and f_minus: 0.23999090930019368 , 0.5007953516593391\n",
      "\t ---------- State is:  (10, 0)\n",
      "[INFO] [2023-04-11 16:51:44,963] [OpenBox-SPO] Iteration 210, objective value: [0.46743994363991154].\n"
     ]
    },
    {
     "name": "stderr",
     "output_type": "stream",
     "text": [
      "\r",
      " 21%|████████████████▌                                                              | 210/1000 [03:27<13:15,  1.01s/it]"
     ]
    },
    {
     "name": "stdout",
     "output_type": "stream",
     "text": [
      "\t ----- reward: -0.46743994363991154 for f_star and f_minus: 0.23999090930019368 , 0.46743994363991154\n",
      "\t ---------- State is:  (10, 0)\n",
      "[INFO] [2023-04-11 16:51:45,967] [OpenBox-SPO] Iteration 211, objective value: [0.25771611630845587].\n"
     ]
    },
    {
     "name": "stderr",
     "output_type": "stream",
     "text": [
      "\r",
      " 21%|████████████████▋                                                              | 211/1000 [03:28<13:13,  1.01s/it]"
     ]
    },
    {
     "name": "stdout",
     "output_type": "stream",
     "text": [
      "\t ----- reward: -0.25771611630845587 for f_star and f_minus: 0.23999090930019368 , 0.25771611630845587\n",
      "\t ---------- State is:  (10, 0)\n",
      "[INFO] [2023-04-11 16:51:46,989] [OpenBox-SPO] Iteration 212, objective value: [1.0477573026559805].\n"
     ]
    },
    {
     "name": "stderr",
     "output_type": "stream",
     "text": [
      "\r",
      " 21%|████████████████▋                                                              | 212/1000 [03:29<13:16,  1.01s/it]"
     ]
    },
    {
     "name": "stdout",
     "output_type": "stream",
     "text": [
      "\t ----- reward: -1.0477573026559805 for f_star and f_minus: 0.23999090930019368 , 1.0477573026559805\n",
      "\t ---------- State is:  (10, 0)\n",
      "[INFO] [2023-04-11 16:51:48,336] [OpenBox-SPO] Iteration 213, objective value: [1.572743797863716].\n"
     ]
    },
    {
     "name": "stderr",
     "output_type": "stream",
     "text": [
      "\r",
      " 21%|████████████████▊                                                              | 213/1000 [03:30<14:33,  1.11s/it]"
     ]
    },
    {
     "name": "stdout",
     "output_type": "stream",
     "text": [
      "\t ----- reward: -1.572743797863716 for f_star and f_minus: 0.23999090930019368 , 1.572743797863716\n",
      "\t ---------- State is:  (10, 0)\n",
      "[INFO] [2023-04-11 16:51:49,435] [OpenBox-SPO] Iteration 214, objective value: [0.26338998715068707].\n"
     ]
    },
    {
     "name": "stderr",
     "output_type": "stream",
     "text": [
      "\r",
      " 21%|████████████████▉                                                              | 214/1000 [03:31<14:29,  1.11s/it]"
     ]
    },
    {
     "name": "stdout",
     "output_type": "stream",
     "text": [
      "\t ----- reward: -0.26338998715068707 for f_star and f_minus: 0.23999090930019368 , 0.26338998715068707\n",
      "\t ---------- State is:  (10, 0)\n",
      "[INFO] [2023-04-11 16:51:50,565] [OpenBox-SPO] Iteration 215, objective value: [0.3635606631607542].\n"
     ]
    },
    {
     "name": "stderr",
     "output_type": "stream",
     "text": [
      "\r",
      " 22%|████████████████▉                                                              | 215/1000 [03:33<14:34,  1.11s/it]"
     ]
    },
    {
     "name": "stdout",
     "output_type": "stream",
     "text": [
      "\t ----- reward: -0.3635606631607542 for f_star and f_minus: 0.23999090930019368 , 0.3635606631607542\n",
      "\t ---------- State is:  (10, 0)\n",
      "[INFO] [2023-04-11 16:51:51,538] [OpenBox-SPO] Iteration 216, objective value: [0.7570349175289262].\n"
     ]
    },
    {
     "name": "stderr",
     "output_type": "stream",
     "text": [
      "\r",
      " 22%|█████████████████                                                              | 216/1000 [03:34<14:00,  1.07s/it]"
     ]
    },
    {
     "name": "stdout",
     "output_type": "stream",
     "text": [
      "\t ----- reward: -0.7570349175289262 for f_star and f_minus: 0.23999090930019368 , 0.7570349175289262\n",
      "\t ---------- State is:  (10, 0)\n",
      "[INFO] [2023-04-11 16:51:52,573] [OpenBox-SPO] Iteration 217, objective value: [1.101188039741105].\n"
     ]
    },
    {
     "name": "stderr",
     "output_type": "stream",
     "text": [
      "\r",
      " 22%|█████████████████▏                                                             | 217/1000 [03:35<13:50,  1.06s/it]"
     ]
    },
    {
     "name": "stdout",
     "output_type": "stream",
     "text": [
      "\t ----- reward: -1.101188039741105 for f_star and f_minus: 0.23999090930019368 , 1.101188039741105\n",
      "\t ---------- State is:  (10, 0)\n",
      "[INFO] [2023-04-11 16:51:53,530] [OpenBox-SPO] Iteration 218, objective value: [0.4035878290563335].\n"
     ]
    },
    {
     "name": "stderr",
     "output_type": "stream",
     "text": [
      "\r",
      " 22%|█████████████████▏                                                             | 218/1000 [03:36<13:25,  1.03s/it]"
     ]
    },
    {
     "name": "stdout",
     "output_type": "stream",
     "text": [
      "\t ----- reward: -0.4035878290563335 for f_star and f_minus: 0.23999090930019368 , 0.4035878290563335\n",
      "\t ---------- State is:  (9, 0)\n",
      "[INFO] [2023-04-11 16:51:54,456] [OpenBox-SPO] Iteration 219, objective value: [0.672910788929525].\n"
     ]
    },
    {
     "name": "stderr",
     "output_type": "stream",
     "text": [
      "\r",
      " 22%|█████████████████▎                                                             | 219/1000 [03:36<12:59,  1.00it/s]"
     ]
    },
    {
     "name": "stdout",
     "output_type": "stream",
     "text": [
      "\t ----- reward: -0.672910788929525 for f_star and f_minus: 0.23999090930019368 , 0.672910788929525\n",
      "\t ---------- State is:  (8, 0)\n",
      "[INFO] [2023-04-11 16:51:55,616] [OpenBox-SPO] Iteration 220, objective value: [0.24976793333343805].\n"
     ]
    },
    {
     "name": "stderr",
     "output_type": "stream",
     "text": [
      "\r",
      " 22%|█████████████████▍                                                             | 220/1000 [03:38<13:36,  1.05s/it]"
     ]
    },
    {
     "name": "stdout",
     "output_type": "stream",
     "text": [
      "\t ----- reward: -0.24976793333343805 for f_star and f_minus: 0.23999090930019368 , 0.24976793333343805\n",
      "\t ---------- State is:  (8, 0)\n",
      "[INFO] [2023-04-11 16:51:56,762] [OpenBox-SPO] Iteration 221, objective value: [1.790361403347177].\n"
     ]
    },
    {
     "name": "stderr",
     "output_type": "stream",
     "text": [
      "\r",
      " 22%|█████████████████▍                                                             | 221/1000 [03:39<14:02,  1.08s/it]"
     ]
    },
    {
     "name": "stdout",
     "output_type": "stream",
     "text": [
      "\t ----- reward: -1.790361403347177 for f_star and f_minus: 0.23999090930019368 , 1.790361403347177\n",
      "\t ---------- State is:  (9, 0)\n",
      "[INFO] [2023-04-11 16:51:57,938] [OpenBox-SPO] Iteration 222, objective value: [0.4257943136358221].\n"
     ]
    },
    {
     "name": "stderr",
     "output_type": "stream",
     "text": [
      "\r",
      " 22%|█████████████████▌                                                             | 222/1000 [03:40<14:19,  1.11s/it]"
     ]
    },
    {
     "name": "stdout",
     "output_type": "stream",
     "text": [
      "\t ----- reward: -0.4257943136358221 for f_star and f_minus: 0.23999090930019368 , 0.4257943136358221\n",
      "\t ---------- State is:  (10, 0)\n",
      "[INFO] [2023-04-11 16:51:58,927] [OpenBox-SPO] Iteration 223, objective value: [0.7889855522982112].\n"
     ]
    },
    {
     "name": "stderr",
     "output_type": "stream",
     "text": [
      "\r",
      " 22%|█████████████████▌                                                             | 223/1000 [03:41<13:51,  1.07s/it]"
     ]
    },
    {
     "name": "stdout",
     "output_type": "stream",
     "text": [
      "\t ----- reward: -0.7889855522982112 for f_star and f_minus: 0.23999090930019368 , 0.7889855522982112\n",
      "\t ---------- State is:  (9, 0)\n",
      "[INFO] [2023-04-11 16:51:58,927] [Advisor] Sample random config. rand_prob=0.100000.\n",
      "[INFO] [2023-04-11 16:51:58,927] [OpenBox-SPO] Iteration 224, objective value: [1.939490261913097].\n",
      "\t ----- reward: -1.939490261913097 for f_star and f_minus: 0.23999090930019368 , 1.939490261913097\n",
      "\t ---------- State is:  (10, 0)\n",
      "[INFO] [2023-04-11 16:52:00,229] [OpenBox-SPO] Iteration 225, objective value: [0.3169976788827918].\n"
     ]
    },
    {
     "name": "stderr",
     "output_type": "stream",
     "text": [
      "\r",
      " 22%|█████████████████▊                                                             | 225/1000 [03:42<11:19,  1.14it/s]"
     ]
    },
    {
     "name": "stdout",
     "output_type": "stream",
     "text": [
      "\t ----- reward: -0.3169976788827918 for f_star and f_minus: 0.23999090930019368 , 0.3169976788827918\n",
      "\t ---------- State is:  (9, 0)\n",
      "[INFO] [2023-04-11 16:52:01,405] [OpenBox-SPO] Iteration 226, objective value: [0.24483988015950478].\n"
     ]
    },
    {
     "name": "stderr",
     "output_type": "stream",
     "text": [
      "\r",
      " 23%|█████████████████▊                                                             | 226/1000 [03:43<12:16,  1.05it/s]"
     ]
    },
    {
     "name": "stdout",
     "output_type": "stream",
     "text": [
      "\t ----- reward: -0.24483988015950478 for f_star and f_minus: 0.23999090930019368 , 0.24483988015950478\n",
      "\t ---------- State is:  (8, 0)\n",
      "[INFO] [2023-04-11 16:52:02,472] [OpenBox-SPO] Iteration 227, objective value: [0.7316275849719789].\n"
     ]
    },
    {
     "name": "stderr",
     "output_type": "stream",
     "text": [
      "\r",
      " 23%|█████████████████▉                                                             | 227/1000 [03:45<12:38,  1.02it/s]"
     ]
    },
    {
     "name": "stdout",
     "output_type": "stream",
     "text": [
      "\t ----- reward: -0.7316275849719789 for f_star and f_minus: 0.23999090930019368 , 0.7316275849719789\n",
      "\t ---------- State is:  (8, 0)\n",
      "[INFO] [2023-04-11 16:52:03,586] [OpenBox-SPO] Iteration 228, objective value: [0.8209097925814541].\n"
     ]
    },
    {
     "name": "stderr",
     "output_type": "stream",
     "text": [
      "\r",
      " 23%|██████████████████                                                             | 228/1000 [03:46<13:05,  1.02s/it]"
     ]
    },
    {
     "name": "stdout",
     "output_type": "stream",
     "text": [
      "\t ----- reward: -0.8209097925814541 for f_star and f_minus: 0.23999090930019368 , 0.8209097925814541\n",
      "\t ---------- State is:  (9, 0)\n",
      "[INFO] [2023-04-11 16:52:04,732] [OpenBox-SPO] Iteration 229, objective value: [0.8382693828114506].\n"
     ]
    },
    {
     "name": "stderr",
     "output_type": "stream",
     "text": [
      "\r",
      " 23%|██████████████████                                                             | 229/1000 [03:47<13:32,  1.05s/it]"
     ]
    },
    {
     "name": "stdout",
     "output_type": "stream",
     "text": [
      "\t ----- reward: -0.8382693828114506 for f_star and f_minus: 0.23999090930019368 , 0.8382693828114506\n",
      "\t ---------- State is:  (9, 0)\n",
      "[INFO] [2023-04-11 16:52:05,767] [OpenBox-SPO] Iteration 230, objective value: [0.251793938429712].\n"
     ]
    },
    {
     "name": "stderr",
     "output_type": "stream",
     "text": [
      "\r",
      " 23%|██████████████████▏                                                            | 230/1000 [03:48<13:27,  1.05s/it]"
     ]
    },
    {
     "name": "stdout",
     "output_type": "stream",
     "text": [
      "\t ----- reward: -0.251793938429712 for f_star and f_minus: 0.23999090930019368 , 0.251793938429712\n",
      "\t ---------- State is:  (8, 0)\n",
      "[INFO] [2023-04-11 16:52:06,772] [OpenBox-SPO] Iteration 231, objective value: [1.2640032636876142].\n"
     ]
    },
    {
     "name": "stderr",
     "output_type": "stream",
     "text": [
      "\r",
      " 23%|██████████████████▏                                                            | 231/1000 [03:49<13:16,  1.04s/it]"
     ]
    },
    {
     "name": "stdout",
     "output_type": "stream",
     "text": [
      "\t ----- reward: -1.2640032636876142 for f_star and f_minus: 0.23999090930019368 , 1.2640032636876142\n",
      "\t ---------- State is:  (7, 0)\n",
      "[INFO] [2023-04-11 16:52:07,807] [OpenBox-SPO] Iteration 232, objective value: [1.1283503427080461].\n"
     ]
    },
    {
     "name": "stderr",
     "output_type": "stream",
     "text": [
      "\r",
      " 23%|██████████████████▎                                                            | 232/1000 [03:50<13:15,  1.04s/it]"
     ]
    },
    {
     "name": "stdout",
     "output_type": "stream",
     "text": [
      "\t ----- reward: -1.1283503427080461 for f_star and f_minus: 0.23999090930019368 , 1.1283503427080461\n",
      "\t ---------- State is:  (7, 0)\n",
      "[INFO] [2023-04-11 16:52:08,842] [OpenBox-SPO] Iteration 233, objective value: [0.7311340218022377].\n"
     ]
    },
    {
     "name": "stderr",
     "output_type": "stream",
     "text": [
      "\r",
      " 23%|██████████████████▍                                                            | 233/1000 [03:51<13:14,  1.04s/it]"
     ]
    },
    {
     "name": "stdout",
     "output_type": "stream",
     "text": [
      "\t ----- reward: -0.7311340218022377 for f_star and f_minus: 0.23999090930019368 , 0.7311340218022377\n",
      "\t ---------- State is:  (8, 0)\n",
      "[INFO] [2023-04-11 16:52:09,752] [OpenBox-SPO] Iteration 234, objective value: [0.4772540447891937].\n"
     ]
    },
    {
     "name": "stderr",
     "output_type": "stream",
     "text": [
      "\r",
      " 23%|██████████████████▍                                                            | 234/1000 [03:52<12:44,  1.00it/s]"
     ]
    },
    {
     "name": "stdout",
     "output_type": "stream",
     "text": [
      "\t ----- reward: -0.4772540447891937 for f_star and f_minus: 0.23999090930019368 , 0.4772540447891937\n",
      "\t ---------- State is:  (8, 0)\n",
      "[INFO] [2023-04-11 16:52:10,935] [OpenBox-SPO] Iteration 235, objective value: [0.24662741888804082].\n"
     ]
    },
    {
     "name": "stderr",
     "output_type": "stream",
     "text": [
      "\r",
      " 24%|██████████████████▌                                                            | 235/1000 [03:53<13:25,  1.05s/it]"
     ]
    },
    {
     "name": "stdout",
     "output_type": "stream",
     "text": [
      "\t ----- reward: -0.24662741888804082 for f_star and f_minus: 0.23999090930019368 , 0.24662741888804082\n",
      "\t ---------- State is:  (7, 0)\n",
      "[INFO] [2023-04-11 16:52:11,917] [OpenBox-SPO] Iteration 236, objective value: [0.9887269992389635].\n"
     ]
    },
    {
     "name": "stderr",
     "output_type": "stream",
     "text": [
      "\r",
      " 24%|██████████████████▋                                                            | 236/1000 [03:54<13:08,  1.03s/it]"
     ]
    },
    {
     "name": "stdout",
     "output_type": "stream",
     "text": [
      "\t ----- reward: -0.9887269992389635 for f_star and f_minus: 0.23999090930019368 , 0.9887269992389635\n",
      "\t ---------- State is:  (7, 0)\n",
      "[INFO] [2023-04-11 16:52:12,906] [OpenBox-SPO] Iteration 237, objective value: [2.0707370409069914].\n"
     ]
    },
    {
     "name": "stderr",
     "output_type": "stream",
     "text": [
      "\r",
      " 24%|██████████████████▋                                                            | 237/1000 [03:55<12:57,  1.02s/it]"
     ]
    },
    {
     "name": "stdout",
     "output_type": "stream",
     "text": [
      "\t ----- reward: -2.0707370409069914 for f_star and f_minus: 0.23999090930019368 , 2.0707370409069914\n",
      "\t ---------- State is:  (8, 0)\n",
      "[INFO] [2023-04-11 16:52:13,940] [OpenBox-SPO] Iteration 238, objective value: [0.48635930648215037].\n"
     ]
    },
    {
     "name": "stderr",
     "output_type": "stream",
     "text": [
      "\r",
      " 24%|██████████████████▊                                                            | 238/1000 [03:56<13:00,  1.02s/it]"
     ]
    },
    {
     "name": "stdout",
     "output_type": "stream",
     "text": [
      "\t ----- reward: -0.48635930648215037 for f_star and f_minus: 0.23999090930019368 , 0.48635930648215037\n",
      "\t ---------- State is:  (8, 0)\n",
      "[INFO] [2023-04-11 16:52:14,992] [OpenBox-SPO] Iteration 239, objective value: [1.2552981413616742].\n"
     ]
    },
    {
     "name": "stderr",
     "output_type": "stream",
     "text": [
      "\r",
      " 24%|██████████████████▉                                                            | 239/1000 [03:57<13:05,  1.03s/it]"
     ]
    },
    {
     "name": "stdout",
     "output_type": "stream",
     "text": [
      "\t ----- reward: -1.2552981413616742 for f_star and f_minus: 0.23999090930019368 , 1.2552981413616742\n",
      "\t ---------- State is:  (8, 0)\n",
      "[INFO] [2023-04-11 16:52:16,012] [OpenBox-SPO] Iteration 240, objective value: [0.23699958847949615].\n"
     ]
    },
    {
     "name": "stderr",
     "output_type": "stream",
     "text": [
      "\r",
      " 24%|██████████████████▉                                                            | 240/1000 [03:58<13:01,  1.03s/it]"
     ]
    },
    {
     "name": "stdout",
     "output_type": "stream",
     "text": [
      "\t ----- reward: -0.23699958847949615 for f_star and f_minus: 0.23999090930019368 , 0.23699958847949615\n",
      "\t ---------- State is:  (7, 0)\n",
      "[INFO] [2023-04-11 16:52:16,946] [OpenBox-SPO] Iteration 241, objective value: [0.2479329253253988].\n"
     ]
    },
    {
     "name": "stderr",
     "output_type": "stream",
     "text": [
      "\r",
      " 24%|███████████████████                                                            | 241/1000 [03:59<12:39,  1.00s/it]"
     ]
    },
    {
     "name": "stdout",
     "output_type": "stream",
     "text": [
      "\t ----- reward: -0.2479329253253988 for f_star and f_minus: 0.23699958847949615 , 0.2479329253253988\n",
      "\t ---------- State is:  (6, 0)\n",
      "[INFO] [2023-04-11 16:52:17,864] [OpenBox-SPO] Iteration 242, objective value: [0.21225293637834153].\n"
     ]
    },
    {
     "name": "stderr",
     "output_type": "stream",
     "text": [
      "\r",
      " 24%|███████████████████                                                            | 242/1000 [04:00<12:19,  1.03it/s]"
     ]
    },
    {
     "name": "stdout",
     "output_type": "stream",
     "text": [
      "\t ----- reward: -0.21225293637834153 for f_star and f_minus: 0.23699958847949615 , 0.21225293637834153\n",
      "\t ---------- State is:  (5, 0)\n",
      "[INFO] [2023-04-11 16:52:19,024] [OpenBox-SPO] Iteration 243, objective value: [1.565314230550861].\n"
     ]
    },
    {
     "name": "stderr",
     "output_type": "stream",
     "text": [
      "\r",
      " 24%|███████████████████▏                                                           | 243/1000 [04:01<13:00,  1.03s/it]"
     ]
    },
    {
     "name": "stdout",
     "output_type": "stream",
     "text": [
      "\t ----- reward: -1.565314230550861 for f_star and f_minus: 0.21225293637834153 , 1.565314230550861\n",
      "\t ---------- State is:  (4, 0)\n",
      "[INFO] [2023-04-11 16:52:20,170] [OpenBox-SPO] Iteration 244, objective value: [0.4856675599356172].\n"
     ]
    },
    {
     "name": "stderr",
     "output_type": "stream",
     "text": [
      "\r",
      " 24%|███████████████████▎                                                           | 244/1000 [04:02<13:25,  1.07s/it]"
     ]
    },
    {
     "name": "stdout",
     "output_type": "stream",
     "text": [
      "\t ----- reward: -0.4856675599356172 for f_star and f_minus: 0.21225293637834153 , 0.4856675599356172\n",
      "\t ---------- State is:  (3, 0)\n",
      "[INFO] [2023-04-11 16:52:21,189] [OpenBox-SPO] Iteration 245, objective value: [0.4285622215361449].\n"
     ]
    },
    {
     "name": "stderr",
     "output_type": "stream",
     "text": [
      "\r",
      " 24%|███████████████████▎                                                           | 245/1000 [04:03<13:13,  1.05s/it]"
     ]
    },
    {
     "name": "stdout",
     "output_type": "stream",
     "text": [
      "\t ----- reward: -0.4285622215361449 for f_star and f_minus: 0.21225293637834153 , 0.4285622215361449\n",
      "\t ---------- State is:  (3, 0)\n",
      "[INFO] [2023-04-11 16:52:22,334] [OpenBox-SPO] Iteration 246, objective value: [1.218265312403258].\n"
     ]
    },
    {
     "name": "stderr",
     "output_type": "stream",
     "text": [
      "\r",
      " 25%|███████████████████▍                                                           | 246/1000 [04:04<13:34,  1.08s/it]"
     ]
    },
    {
     "name": "stdout",
     "output_type": "stream",
     "text": [
      "\t ----- reward: -1.218265312403258 for f_star and f_minus: 0.21225293637834153 , 1.218265312403258\n",
      "\t ---------- State is:  (3, 0)\n",
      "[INFO] [2023-04-11 16:52:23,323] [OpenBox-SPO] Iteration 247, objective value: [1.1046017258277947].\n"
     ]
    },
    {
     "name": "stderr",
     "output_type": "stream",
     "text": [
      "\r",
      " 25%|███████████████████▌                                                           | 247/1000 [04:05<13:15,  1.06s/it]"
     ]
    },
    {
     "name": "stdout",
     "output_type": "stream",
     "text": [
      "\t ----- reward: -1.1046017258277947 for f_star and f_minus: 0.21225293637834153 , 1.1046017258277947\n",
      "\t ---------- State is:  (4, 0)\n",
      "[INFO] [2023-04-11 16:52:24,312] [OpenBox-SPO] Iteration 248, objective value: [1.1734109279507299].\n"
     ]
    },
    {
     "name": "stderr",
     "output_type": "stream",
     "text": [
      "\r",
      " 25%|███████████████████▌                                                           | 248/1000 [04:06<12:55,  1.03s/it]"
     ]
    },
    {
     "name": "stdout",
     "output_type": "stream",
     "text": [
      "\t ----- reward: -1.1734109279507299 for f_star and f_minus: 0.21225293637834153 , 1.1734109279507299\n",
      "\t ---------- State is:  (3, 0)\n",
      "[INFO] [2023-04-11 16:52:25,331] [OpenBox-SPO] Iteration 249, objective value: [1.2334569087881726].\n"
     ]
    },
    {
     "name": "stderr",
     "output_type": "stream",
     "text": [
      "\r",
      " 25%|███████████████████▋                                                           | 249/1000 [04:07<12:52,  1.03s/it]"
     ]
    },
    {
     "name": "stdout",
     "output_type": "stream",
     "text": [
      "\t ----- reward: -1.2334569087881726 for f_star and f_minus: 0.21225293637834153 , 1.2334569087881726\n",
      "\t ---------- State is:  (2, 0)\n",
      "[INFO] [2023-04-11 16:52:26,587] [OpenBox-SPO] Iteration 250, objective value: [1.1755366067964628].\n"
     ]
    },
    {
     "name": "stderr",
     "output_type": "stream",
     "text": [
      "\r",
      " 25%|███████████████████▊                                                           | 250/1000 [04:09<13:42,  1.10s/it]"
     ]
    },
    {
     "name": "stdout",
     "output_type": "stream",
     "text": [
      "\t ----- reward: -1.1755366067964628 for f_star and f_minus: 0.21225293637834153 , 1.1755366067964628\n",
      "\t ---------- State is:  (3, 0)\n",
      "[INFO] [2023-04-11 16:52:26,587] [Advisor] Sample random config. rand_prob=0.100000.\n",
      "[INFO] [2023-04-11 16:52:26,587] [OpenBox-SPO] Iteration 251, objective value: [0.5903930873586616].\n",
      "\t ----- reward: -0.5903930873586616 for f_star and f_minus: 0.21225293637834153 , 0.5903930873586616\n",
      "\t ---------- State is:  (3, 0)\n",
      "[INFO] [2023-04-11 16:52:27,748] [OpenBox-SPO] Iteration 252, objective value: [1.912415778862516].\n"
     ]
    },
    {
     "name": "stderr",
     "output_type": "stream",
     "text": [
      "\r",
      " 25%|███████████████████▉                                                           | 252/1000 [04:10<10:42,  1.17it/s]"
     ]
    },
    {
     "name": "stdout",
     "output_type": "stream",
     "text": [
      "\t ----- reward: -1.912415778862516 for f_star and f_minus: 0.21225293637834153 , 1.912415778862516\n",
      "\t ---------- State is:  (4, 0)\n",
      "[INFO] [2023-04-11 16:52:28,815] [OpenBox-SPO] Iteration 253, objective value: [1.0094487566856716].\n"
     ]
    },
    {
     "name": "stderr",
     "output_type": "stream",
     "text": [
      "\r",
      " 25%|███████████████████▉                                                           | 253/1000 [04:11<11:19,  1.10it/s]"
     ]
    },
    {
     "name": "stdout",
     "output_type": "stream",
     "text": [
      "\t ----- reward: -1.0094487566856716 for f_star and f_minus: 0.21225293637834153 , 1.0094487566856716\n",
      "\t ---------- State is:  (3, 0)\n",
      "[INFO] [2023-04-11 16:52:29,960] [OpenBox-SPO] Iteration 254, objective value: [1.732856265412158].\n"
     ]
    },
    {
     "name": "stderr",
     "output_type": "stream",
     "text": [
      "\r",
      " 25%|████████████████████                                                           | 254/1000 [04:12<12:04,  1.03it/s]"
     ]
    },
    {
     "name": "stdout",
     "output_type": "stream",
     "text": [
      "\t ----- reward: -1.732856265412158 for f_star and f_minus: 0.21225293637834153 , 1.732856265412158\n",
      "\t ---------- State is:  (4, 0)\n",
      "[INFO] [2023-04-11 16:52:30,980] [OpenBox-SPO] Iteration 255, objective value: [0.7109888256881982].\n"
     ]
    },
    {
     "name": "stderr",
     "output_type": "stream",
     "text": [
      "\r",
      " 26%|████████████████████▏                                                          | 255/1000 [04:13<12:13,  1.02it/s]"
     ]
    },
    {
     "name": "stdout",
     "output_type": "stream",
     "text": [
      "\t ----- reward: -0.7109888256881982 for f_star and f_minus: 0.21225293637834153 , 0.7109888256881982\n",
      "\t ---------- State is:  (5, 0)\n",
      "[INFO] [2023-04-11 16:52:32,016] [OpenBox-SPO] Iteration 256, objective value: [0.28227846891748715].\n"
     ]
    },
    {
     "name": "stderr",
     "output_type": "stream",
     "text": [
      "\r",
      " 26%|████████████████████▏                                                          | 256/1000 [04:14<12:23,  1.00it/s]"
     ]
    },
    {
     "name": "stdout",
     "output_type": "stream",
     "text": [
      "\t ----- reward: -0.28227846891748715 for f_star and f_minus: 0.21225293637834153 , 0.28227846891748715\n",
      "\t ---------- State is:  (4, 0)\n",
      "[INFO] [2023-04-11 16:52:33,208] [OpenBox-SPO] Iteration 257, objective value: [0.2819173141100375].\n"
     ]
    },
    {
     "name": "stderr",
     "output_type": "stream",
     "text": [
      "\r",
      " 26%|████████████████████▎                                                          | 257/1000 [04:15<13:03,  1.05s/it]"
     ]
    },
    {
     "name": "stdout",
     "output_type": "stream",
     "text": [
      "\t ----- reward: -0.2819173141100375 for f_star and f_minus: 0.21225293637834153 , 0.2819173141100375\n",
      "\t ---------- State is:  (4, 0)\n",
      "[INFO] [2023-04-11 16:52:34,197] [OpenBox-SPO] Iteration 258, objective value: [1.2060311674842563].\n"
     ]
    },
    {
     "name": "stderr",
     "output_type": "stream",
     "text": [
      "\r",
      " 26%|████████████████████▍                                                          | 258/1000 [04:16<12:48,  1.04s/it]"
     ]
    },
    {
     "name": "stdout",
     "output_type": "stream",
     "text": [
      "\t ----- reward: -1.2060311674842563 for f_star and f_minus: 0.21225293637834153 , 1.2060311674842563\n",
      "\t ---------- State is:  (4, 0)\n",
      "[INFO] [2023-04-11 16:52:35,381] [OpenBox-SPO] Iteration 259, objective value: [1.5698618348504616].\n"
     ]
    },
    {
     "name": "stderr",
     "output_type": "stream",
     "text": [
      "\r",
      " 26%|████████████████████▍                                                          | 259/1000 [04:17<13:19,  1.08s/it]"
     ]
    },
    {
     "name": "stdout",
     "output_type": "stream",
     "text": [
      "\t ----- reward: -1.5698618348504616 for f_star and f_minus: 0.21225293637834153 , 1.5698618348504616\n",
      "\t ---------- State is:  (5, 0)\n",
      "[INFO] [2023-04-11 16:52:36,613] [OpenBox-SPO] Iteration 260, objective value: [0.6033242087880744].\n"
     ]
    },
    {
     "name": "stderr",
     "output_type": "stream",
     "text": [
      "\r",
      " 26%|████████████████████▌                                                          | 260/1000 [04:19<13:51,  1.12s/it]"
     ]
    },
    {
     "name": "stdout",
     "output_type": "stream",
     "text": [
      "\t ----- reward: -0.6033242087880744 for f_star and f_minus: 0.21225293637834153 , 0.6033242087880744\n",
      "\t ---------- State is:  (5, 0)\n",
      "[INFO] [2023-04-11 16:52:37,963] [OpenBox-SPO] Iteration 261, objective value: [0.24103017208735442].\n"
     ]
    },
    {
     "name": "stderr",
     "output_type": "stream",
     "text": [
      "\r",
      " 26%|████████████████████▌                                                          | 261/1000 [04:20<14:40,  1.19s/it]"
     ]
    },
    {
     "name": "stdout",
     "output_type": "stream",
     "text": [
      "\t ----- reward: -0.24103017208735442 for f_star and f_minus: 0.21225293637834153 , 0.24103017208735442\n",
      "\t ---------- State is:  (5, 0)\n",
      "[INFO] [2023-04-11 16:52:37,963] [Advisor] Sample random config. rand_prob=0.100000.\n",
      "[INFO] [2023-04-11 16:52:37,963] [OpenBox-SPO] Iteration 262, objective value: [1.0699519088444536].\n",
      "\t ----- reward: -1.0699519088444536 for f_star and f_minus: 0.21225293637834153 , 1.0699519088444536\n",
      "\t ---------- State is:  (5, 0)\n",
      "[INFO] [2023-04-11 16:52:38,889] [OpenBox-SPO] Iteration 263, objective value: [0.5036232261138367].\n"
     ]
    },
    {
     "name": "stderr",
     "output_type": "stream",
     "text": [
      "\r",
      " 26%|████████████████████▊                                                          | 263/1000 [04:21<10:31,  1.17it/s]"
     ]
    },
    {
     "name": "stdout",
     "output_type": "stream",
     "text": [
      "\t ----- reward: -0.5036232261138367 for f_star and f_minus: 0.21225293637834153 , 0.5036232261138367\n",
      "\t ---------- State is:  (4, 0)\n",
      "[INFO] [2023-04-11 16:52:40,034] [OpenBox-SPO] Iteration 264, objective value: [0.9706557424516935].\n"
     ]
    },
    {
     "name": "stderr",
     "output_type": "stream",
     "text": [
      "\r",
      " 26%|████████████████████▊                                                          | 264/1000 [04:22<11:23,  1.08it/s]"
     ]
    },
    {
     "name": "stdout",
     "output_type": "stream",
     "text": [
      "\t ----- reward: -0.9706557424516935 for f_star and f_minus: 0.21225293637834153 , 0.9706557424516935\n",
      "\t ---------- State is:  (3, 0)\n",
      "[INFO] [2023-04-11 16:52:40,034] [Advisor] Sample random config. rand_prob=0.100000.\n",
      "[INFO] [2023-04-11 16:52:40,034] [OpenBox-SPO] Iteration 265, objective value: [0.9369832851319948].\n",
      "\t ----- reward: -0.9369832851319948 for f_star and f_minus: 0.21225293637834153 , 0.9369832851319948\n",
      "\t ---------- State is:  (3, 0)\n",
      "[INFO] [2023-04-11 16:52:41,337] [OpenBox-SPO] Iteration 266, objective value: [1.1719249172540493].\n"
     ]
    },
    {
     "name": "stderr",
     "output_type": "stream",
     "text": [
      "\r",
      " 27%|█████████████████████                                                          | 266/1000 [04:23<09:57,  1.23it/s]"
     ]
    },
    {
     "name": "stdout",
     "output_type": "stream",
     "text": [
      "\t ----- reward: -1.1719249172540493 for f_star and f_minus: 0.21225293637834153 , 1.1719249172540493\n",
      "\t ---------- State is:  (2, 0)\n",
      "[INFO] [2023-04-11 16:52:41,337] [Advisor] Sample random config. rand_prob=0.100000.\n",
      "[INFO] [2023-04-11 16:52:41,337] [OpenBox-SPO] Iteration 267, objective value: [1.6509998374212334].\n",
      "\t ----- reward: -1.6509998374212334 for f_star and f_minus: 0.21225293637834153 , 1.6509998374212334\n",
      "\t ---------- State is:  (1, 0)\n",
      "[INFO] [2023-04-11 16:52:42,513] [OpenBox-SPO] Iteration 268, objective value: [1.271338587931726].\n"
     ]
    },
    {
     "name": "stderr",
     "output_type": "stream",
     "text": [
      "\r",
      " 27%|█████████████████████▏                                                         | 268/1000 [04:25<08:54,  1.37it/s]"
     ]
    },
    {
     "name": "stdout",
     "output_type": "stream",
     "text": [
      "\t ----- reward: -1.271338587931726 for f_star and f_minus: 0.21225293637834153 , 1.271338587931726\n",
      "\t ---------- State is:  (1, 0)\n",
      "[INFO] [2023-04-11 16:52:43,769] [OpenBox-SPO] Iteration 269, objective value: [1.1755119068852968].\n"
     ]
    },
    {
     "name": "stderr",
     "output_type": "stream",
     "text": [
      "\r",
      " 27%|█████████████████████▎                                                         | 269/1000 [04:26<10:16,  1.19it/s]"
     ]
    },
    {
     "name": "stdout",
     "output_type": "stream",
     "text": [
      "\t ----- reward: -1.1755119068852968 for f_star and f_minus: 0.21225293637834153 , 1.1755119068852968\n",
      "\t ---------- State is:  (0, 0)\n",
      "[INFO] [2023-04-11 16:52:43,785] [Advisor] Sample random config. rand_prob=0.100000.\n",
      "[INFO] [2023-04-11 16:52:43,785] [OpenBox-SPO] Iteration 270, objective value: [0.4602493454082735].\n",
      "\t ----- reward: -0.4602493454082735 for f_star and f_minus: 0.21225293637834153 , 0.4602493454082735\n",
      "\t ---------- State is:  (0, 0)\n",
      "[INFO] [2023-04-11 16:52:44,774] [OpenBox-SPO] Iteration 271, objective value: [1.4580089299016055].\n"
     ]
    },
    {
     "name": "stderr",
     "output_type": "stream",
     "text": [
      "\r",
      " 27%|█████████████████████▍                                                         | 271/1000 [04:27<08:39,  1.40it/s]"
     ]
    },
    {
     "name": "stdout",
     "output_type": "stream",
     "text": [
      "\t ----- reward: -1.4580089299016055 for f_star and f_minus: 0.21225293637834153 , 1.4580089299016055\n",
      "\t ---------- State is:  (0, 0)\n",
      "[INFO] [2023-04-11 16:52:45,935] [OpenBox-SPO] Iteration 272, objective value: [1.1789429327676977].\n"
     ]
    },
    {
     "name": "stderr",
     "output_type": "stream",
     "text": [
      "\r",
      " 27%|█████████████████████▍                                                         | 272/1000 [04:28<09:47,  1.24it/s]"
     ]
    },
    {
     "name": "stdout",
     "output_type": "stream",
     "text": [
      "\t ----- reward: -1.1789429327676977 for f_star and f_minus: 0.21225293637834153 , 1.1789429327676977\n",
      "\t ---------- State is:  (0, 0)\n",
      "[INFO] [2023-04-11 16:52:47,425] [OpenBox-SPO] Iteration 273, objective value: [1.1067126419623818].\n"
     ]
    },
    {
     "name": "stderr",
     "output_type": "stream",
     "text": [
      "\r",
      " 27%|█████████████████████▌                                                         | 273/1000 [04:29<11:42,  1.04it/s]"
     ]
    },
    {
     "name": "stdout",
     "output_type": "stream",
     "text": [
      "\t ----- reward: -1.1067126419623818 for f_star and f_minus: 0.21225293637834153 , 1.1067126419623818\n",
      "\t ---------- State is:  (0, 0)\n",
      "[INFO] [2023-04-11 16:52:48,539] [OpenBox-SPO] Iteration 274, objective value: [1.7871029009785493].\n"
     ]
    },
    {
     "name": "stderr",
     "output_type": "stream",
     "text": [
      "\r",
      " 27%|█████████████████████▋                                                         | 274/1000 [04:31<12:07,  1.00s/it]"
     ]
    },
    {
     "name": "stdout",
     "output_type": "stream",
     "text": [
      "\t ----- reward: -1.7871029009785493 for f_star and f_minus: 0.21225293637834153 , 1.7871029009785493\n",
      "\t ---------- State is:  (1, 0)\n",
      "[INFO] [2023-04-11 16:52:49,811] [OpenBox-SPO] Iteration 275, objective value: [0.6092673409899403].\n"
     ]
    },
    {
     "name": "stderr",
     "output_type": "stream",
     "text": [
      "\r",
      " 28%|█████████████████████▋                                                         | 275/1000 [04:32<12:57,  1.07s/it]"
     ]
    },
    {
     "name": "stdout",
     "output_type": "stream",
     "text": [
      "\t ----- reward: -0.6092673409899403 for f_star and f_minus: 0.21225293637834153 , 0.6092673409899403\n",
      "\t ---------- State is:  (1, 0)\n",
      "[INFO] [2023-04-11 16:52:51,066] [OpenBox-SPO] Iteration 276, objective value: [1.2948465548472283].\n"
     ]
    },
    {
     "name": "stderr",
     "output_type": "stream",
     "text": [
      "\r",
      " 28%|█████████████████████▊                                                         | 276/1000 [04:33<13:32,  1.12s/it]"
     ]
    },
    {
     "name": "stdout",
     "output_type": "stream",
     "text": [
      "\t ----- reward: -1.2948465548472283 for f_star and f_minus: 0.21225293637834153 , 1.2948465548472283\n",
      "\t ---------- State is:  (1, 0)\n",
      "[INFO] [2023-04-11 16:52:52,212] [OpenBox-SPO] Iteration 277, objective value: [1.3387484702639965].\n"
     ]
    },
    {
     "name": "stderr",
     "output_type": "stream",
     "text": [
      "\r",
      " 28%|█████████████████████▉                                                         | 277/1000 [04:34<13:36,  1.13s/it]"
     ]
    },
    {
     "name": "stdout",
     "output_type": "stream",
     "text": [
      "\t ----- reward: -1.3387484702639965 for f_star and f_minus: 0.21225293637834153 , 1.3387484702639965\n",
      "\t ---------- State is:  (0, 0)\n",
      "[INFO] [2023-04-11 16:52:53,314] [OpenBox-SPO] Iteration 278, objective value: [1.3221922493900338].\n"
     ]
    },
    {
     "name": "stderr",
     "output_type": "stream",
     "text": [
      "\r",
      " 28%|█████████████████████▉                                                         | 278/1000 [04:35<13:29,  1.12s/it]"
     ]
    },
    {
     "name": "stdout",
     "output_type": "stream",
     "text": [
      "\t ----- reward: -1.3221922493900338 for f_star and f_minus: 0.21225293637834153 , 1.3221922493900338\n",
      "\t ---------- State is:  (0, 0)\n",
      "[INFO] [2023-04-11 16:52:54,485] [OpenBox-SPO] Iteration 279, objective value: [1.3292676775585035].\n"
     ]
    },
    {
     "name": "stderr",
     "output_type": "stream",
     "text": [
      "\r",
      " 28%|██████████████████████                                                         | 279/1000 [04:37<13:39,  1.14s/it]"
     ]
    },
    {
     "name": "stdout",
     "output_type": "stream",
     "text": [
      "\t ----- reward: -1.3292676775585035 for f_star and f_minus: 0.21225293637834153 , 1.3292676775585035\n",
      "\t ---------- State is:  (0, 0)\n",
      "[INFO] [2023-04-11 16:52:55,663] [OpenBox-SPO] Iteration 280, objective value: [1.6308562711385632].\n"
     ]
    },
    {
     "name": "stderr",
     "output_type": "stream",
     "text": [
      "\r",
      " 28%|██████████████████████                                                         | 280/1000 [04:38<13:46,  1.15s/it]"
     ]
    },
    {
     "name": "stdout",
     "output_type": "stream",
     "text": [
      "\t ----- reward: -1.6308562711385632 for f_star and f_minus: 0.21225293637834153 , 1.6308562711385632\n",
      "\t ---------- State is:  (1, 0)\n",
      "[INFO] [2023-04-11 16:52:56,808] [OpenBox-SPO] Iteration 281, objective value: [1.1691990159197714].\n"
     ]
    },
    {
     "name": "stderr",
     "output_type": "stream",
     "text": [
      "\r",
      " 28%|██████████████████████▏                                                        | 281/1000 [04:39<13:44,  1.15s/it]"
     ]
    },
    {
     "name": "stdout",
     "output_type": "stream",
     "text": [
      "\t ----- reward: -1.1691990159197714 for f_star and f_minus: 0.21225293637834153 , 1.1691990159197714\n",
      "\t ---------- State is:  (2, 0)\n",
      "[INFO] [2023-04-11 16:52:56,820] [Advisor] Sample random config. rand_prob=0.100000.\n",
      "[INFO] [2023-04-11 16:52:56,820] [OpenBox-SPO] Iteration 282, objective value: [3.247483404487549].\n",
      "\t ----- reward: -3.247483404487549 for f_star and f_minus: 0.21225293637834153 , 3.247483404487549\n",
      "\t ---------- State is:  (2, 1)\n",
      "[INFO] [2023-04-11 16:52:58,079] [OpenBox-SPO] Iteration 283, objective value: [1.0081881912756157].\n"
     ]
    },
    {
     "name": "stderr",
     "output_type": "stream",
     "text": [
      "\r",
      " 28%|██████████████████████▎                                                        | 283/1000 [04:40<10:54,  1.10it/s]"
     ]
    },
    {
     "name": "stdout",
     "output_type": "stream",
     "text": [
      "\t ----- reward: -1.0081881912756157 for f_star and f_minus: 0.21225293637834153 , 1.0081881912756157\n",
      "\t ---------- State is:  (3, 1)\n",
      "[INFO] [2023-04-11 16:52:58,079] [Advisor] Sample random config. rand_prob=0.100000.\n",
      "[INFO] [2023-04-11 16:52:58,079] [OpenBox-SPO] Iteration 284, objective value: [1.2738257212875157].\n",
      "\t ----- reward: -1.2738257212875157 for f_star and f_minus: 0.21225293637834153 , 1.2738257212875157\n",
      "\t ---------- State is:  (3, 1)\n",
      "[INFO] [2023-04-11 16:52:59,177] [OpenBox-SPO] Iteration 285, objective value: [1.615467924986262].\n"
     ]
    },
    {
     "name": "stderr",
     "output_type": "stream",
     "text": [
      "\r",
      " 28%|██████████████████████▌                                                        | 285/1000 [04:41<09:10,  1.30it/s]"
     ]
    },
    {
     "name": "stdout",
     "output_type": "stream",
     "text": [
      "\t ----- reward: -1.615467924986262 for f_star and f_minus: 0.21225293637834153 , 1.615467924986262\n",
      "\t ---------- State is:  (2, 1)\n",
      "[INFO] [2023-04-11 16:53:00,526] [OpenBox-SPO] Iteration 286, objective value: [1.0923250909784847].\n"
     ]
    },
    {
     "name": "stderr",
     "output_type": "stream",
     "text": [
      "\r",
      " 29%|██████████████████████▌                                                        | 286/1000 [04:43<10:40,  1.11it/s]"
     ]
    },
    {
     "name": "stdout",
     "output_type": "stream",
     "text": [
      "\t ----- reward: -1.0923250909784847 for f_star and f_minus: 0.21225293637834153 , 1.0923250909784847\n",
      "\t ---------- State is:  (2, 1)\n",
      "[INFO] [2023-04-11 16:53:01,514] [OpenBox-SPO] Iteration 287, objective value: [0.5524015632752081].\n"
     ]
    },
    {
     "name": "stderr",
     "output_type": "stream",
     "text": [
      "\r",
      " 29%|██████████████████████▋                                                        | 287/1000 [04:44<10:55,  1.09it/s]"
     ]
    },
    {
     "name": "stdout",
     "output_type": "stream",
     "text": [
      "\t ----- reward: -0.5524015632752081 for f_star and f_minus: 0.21225293637834153 , 0.5524015632752081\n",
      "\t ---------- State is:  (1, 1)\n",
      "[INFO] [2023-04-11 16:53:02,721] [OpenBox-SPO] Iteration 288, objective value: [1.993699502331537].\n"
     ]
    },
    {
     "name": "stderr",
     "output_type": "stream",
     "text": [
      "\r",
      " 29%|██████████████████████▊                                                        | 288/1000 [04:45<11:46,  1.01it/s]"
     ]
    },
    {
     "name": "stdout",
     "output_type": "stream",
     "text": [
      "\t ----- reward: -1.993699502331537 for f_star and f_minus: 0.21225293637834153 , 1.993699502331537\n",
      "\t ---------- State is:  (1, 1)\n",
      "[INFO] [2023-04-11 16:53:03,789] [OpenBox-SPO] Iteration 289, objective value: [1.5232405303157635].\n"
     ]
    },
    {
     "name": "stderr",
     "output_type": "stream",
     "text": [
      "\r",
      " 29%|██████████████████████▊                                                        | 289/1000 [04:46<11:59,  1.01s/it]"
     ]
    },
    {
     "name": "stdout",
     "output_type": "stream",
     "text": [
      "\t ----- reward: -1.5232405303157635 for f_star and f_minus: 0.21225293637834153 , 1.5232405303157635\n",
      "\t ---------- State is:  (1, 1)\n",
      "[INFO] [2023-04-11 16:53:03,789] [Advisor] Sample random config. rand_prob=0.100000.\n",
      "[INFO] [2023-04-11 16:53:03,789] [OpenBox-SPO] Iteration 290, objective value: [0.5455923647671024].\n",
      "\t ----- reward: -0.5455923647671024 for f_star and f_minus: 0.21225293637834153 , 0.5455923647671024\n",
      "\t ---------- State is:  (0, 1)\n",
      "[INFO] [2023-04-11 16:53:05,122] [OpenBox-SPO] Iteration 291, objective value: [1.0148131902786868].\n"
     ]
    },
    {
     "name": "stderr",
     "output_type": "stream",
     "text": [
      "\r",
      " 29%|██████████████████████▉                                                        | 291/1000 [04:47<10:11,  1.16it/s]"
     ]
    },
    {
     "name": "stdout",
     "output_type": "stream",
     "text": [
      "\t ----- reward: -1.0148131902786868 for f_star and f_minus: 0.21225293637834153 , 1.0148131902786868\n",
      "\t ---------- State is:  (0, 1)\n",
      "[INFO] [2023-04-11 16:53:06,582] [OpenBox-SPO] Iteration 292, objective value: [1.4786278959901673].\n"
     ]
    },
    {
     "name": "stderr",
     "output_type": "stream",
     "text": [
      "\r",
      " 29%|███████████████████████                                                        | 292/1000 [04:49<11:50,  1.00s/it]"
     ]
    },
    {
     "name": "stdout",
     "output_type": "stream",
     "text": [
      "\t ----- reward: -1.4786278959901673 for f_star and f_minus: 0.21225293637834153 , 1.4786278959901673\n",
      "\t ---------- State is:  (0, 1)\n",
      "[INFO] [2023-04-11 16:53:07,642] [OpenBox-SPO] Iteration 293, objective value: [0.9764656464029776].\n"
     ]
    },
    {
     "name": "stderr",
     "output_type": "stream",
     "text": [
      "\r",
      " 29%|███████████████████████▏                                                       | 293/1000 [04:50<11:59,  1.02s/it]"
     ]
    },
    {
     "name": "stdout",
     "output_type": "stream",
     "text": [
      "\t ----- reward: -0.9764656464029776 for f_star and f_minus: 0.21225293637834153 , 0.9764656464029776\n",
      "\t ---------- State is:  (1, 1)\n",
      "[INFO] [2023-04-11 16:53:08,661] [OpenBox-SPO] Iteration 294, objective value: [0.6198811582912014].\n"
     ]
    },
    {
     "name": "stderr",
     "output_type": "stream",
     "text": [
      "\r",
      " 29%|███████████████████████▏                                                       | 294/1000 [04:51<11:58,  1.02s/it]"
     ]
    },
    {
     "name": "stdout",
     "output_type": "stream",
     "text": [
      "\t ----- reward: -0.6198811582912014 for f_star and f_minus: 0.21225293637834153 , 0.6198811582912014\n",
      "\t ---------- State is:  (2, 1)\n",
      "[INFO] [2023-04-11 16:53:09,719] [OpenBox-SPO] Iteration 295, objective value: [1.3868445087467427].\n"
     ]
    },
    {
     "name": "stderr",
     "output_type": "stream",
     "text": [
      "\r",
      " 30%|███████████████████████▎                                                       | 295/1000 [04:52<12:05,  1.03s/it]"
     ]
    },
    {
     "name": "stdout",
     "output_type": "stream",
     "text": [
      "\t ----- reward: -1.3868445087467427 for f_star and f_minus: 0.21225293637834153 , 1.3868445087467427\n",
      "\t ---------- State is:  (3, 1)\n",
      "[INFO] [2023-04-11 16:53:10,747] [OpenBox-SPO] Iteration 296, objective value: [0.4191384494844589].\n"
     ]
    },
    {
     "name": "stderr",
     "output_type": "stream",
     "text": [
      "\r",
      " 30%|███████████████████████▍                                                       | 296/1000 [04:53<12:04,  1.03s/it]"
     ]
    },
    {
     "name": "stdout",
     "output_type": "stream",
     "text": [
      "\t ----- reward: -0.4191384494844589 for f_star and f_minus: 0.21225293637834153 , 0.4191384494844589\n",
      "\t ---------- State is:  (4, 1)\n",
      "[INFO] [2023-04-11 16:53:11,749] [OpenBox-SPO] Iteration 297, objective value: [1.1961611254938094].\n"
     ]
    },
    {
     "name": "stderr",
     "output_type": "stream",
     "text": [
      "\r",
      " 30%|███████████████████████▍                                                       | 297/1000 [04:54<11:57,  1.02s/it]"
     ]
    },
    {
     "name": "stdout",
     "output_type": "stream",
     "text": [
      "\t ----- reward: -1.1961611254938094 for f_star and f_minus: 0.21225293637834153 , 1.1961611254938094\n",
      "\t ---------- State is:  (4, 1)\n",
      "[INFO] [2023-04-11 16:53:12,895] [OpenBox-SPO] Iteration 298, objective value: [0.26074593338231294].\n"
     ]
    },
    {
     "name": "stderr",
     "output_type": "stream",
     "text": [
      "\r",
      " 30%|███████████████████████▌                                                       | 298/1000 [04:55<12:22,  1.06s/it]"
     ]
    },
    {
     "name": "stdout",
     "output_type": "stream",
     "text": [
      "\t ----- reward: -0.26074593338231294 for f_star and f_minus: 0.21225293637834153 , 0.26074593338231294\n",
      "\t ---------- State is:  (5, 0)\n",
      "[INFO] [2023-04-11 16:53:13,921] [OpenBox-SPO] Iteration 299, objective value: [0.2403565273860637].\n"
     ]
    },
    {
     "name": "stderr",
     "output_type": "stream",
     "text": [
      "\r",
      " 30%|███████████████████████▌                                                       | 299/1000 [04:56<12:18,  1.05s/it]"
     ]
    },
    {
     "name": "stdout",
     "output_type": "stream",
     "text": [
      "\t ----- reward: -0.2403565273860637 for f_star and f_minus: 0.21225293637834153 , 0.2403565273860637\n",
      "\t ---------- State is:  (4, 0)\n",
      "[INFO] [2023-04-11 16:53:15,009] [OpenBox-SPO] Iteration 300, objective value: [1.140595057956697].\n"
     ]
    },
    {
     "name": "stderr",
     "output_type": "stream",
     "text": [
      "\r",
      " 30%|███████████████████████▋                                                       | 300/1000 [04:57<12:20,  1.06s/it]"
     ]
    },
    {
     "name": "stdout",
     "output_type": "stream",
     "text": [
      "\t ----- reward: -1.140595057956697 for f_star and f_minus: 0.21225293637834153 , 1.140595057956697\n",
      "\t ---------- State is:  (4, 0)\n",
      "[INFO] [2023-04-11 16:53:16,412] [OpenBox-SPO] Iteration 301, objective value: [0.5294560657006745].\n"
     ]
    },
    {
     "name": "stderr",
     "output_type": "stream",
     "text": [
      "\r",
      " 30%|███████████████████████▊                                                       | 301/1000 [04:58<13:31,  1.16s/it]"
     ]
    },
    {
     "name": "stdout",
     "output_type": "stream",
     "text": [
      "\t ----- reward: -0.5294560657006745 for f_star and f_minus: 0.21225293637834153 , 0.5294560657006745\n",
      "\t ---------- State is:  (5, 0)\n",
      "[INFO] [2023-04-11 16:53:17,499] [OpenBox-SPO] Iteration 302, objective value: [0.23972747373015316].\n"
     ]
    },
    {
     "name": "stderr",
     "output_type": "stream",
     "text": [
      "\r",
      " 30%|███████████████████████▊                                                       | 302/1000 [05:00<13:15,  1.14s/it]"
     ]
    },
    {
     "name": "stdout",
     "output_type": "stream",
     "text": [
      "\t ----- reward: -0.23972747373015316 for f_star and f_minus: 0.21225293637834153 , 0.23972747373015316\n",
      "\t ---------- State is:  (4, 0)\n",
      "[INFO] [2023-04-11 16:53:18,465] [OpenBox-SPO] Iteration 303, objective value: [0.9518534278992822].\n"
     ]
    },
    {
     "name": "stderr",
     "output_type": "stream",
     "text": [
      "\r",
      " 30%|███████████████████████▉                                                       | 303/1000 [05:01<12:37,  1.09s/it]"
     ]
    },
    {
     "name": "stdout",
     "output_type": "stream",
     "text": [
      "\t ----- reward: -0.9518534278992822 for f_star and f_minus: 0.21225293637834153 , 0.9518534278992822\n",
      "\t ---------- State is:  (4, 0)\n",
      "[INFO] [2023-04-11 16:53:19,546] [OpenBox-SPO] Iteration 304, objective value: [0.4896648685515072].\n"
     ]
    },
    {
     "name": "stderr",
     "output_type": "stream",
     "text": [
      "\r",
      " 30%|████████████████████████                                                       | 304/1000 [05:02<12:35,  1.09s/it]"
     ]
    },
    {
     "name": "stdout",
     "output_type": "stream",
     "text": [
      "\t ----- reward: -0.4896648685515072 for f_star and f_minus: 0.21225293637834153 , 0.4896648685515072\n",
      "\t ---------- State is:  (5, 0)\n",
      "[INFO] [2023-04-11 16:53:20,611] [OpenBox-SPO] Iteration 305, objective value: [0.26225559927860975].\n"
     ]
    },
    {
     "name": "stderr",
     "output_type": "stream",
     "text": [
      "\r",
      " 30%|████████████████████████                                                       | 305/1000 [05:03<12:30,  1.08s/it]"
     ]
    },
    {
     "name": "stdout",
     "output_type": "stream",
     "text": [
      "\t ----- reward: -0.26225559927860975 for f_star and f_minus: 0.21225293637834153 , 0.26225559927860975\n",
      "\t ---------- State is:  (4, 0)\n",
      "[INFO] [2023-04-11 16:53:21,842] [OpenBox-SPO] Iteration 306, objective value: [1.256086575415249].\n"
     ]
    },
    {
     "name": "stderr",
     "output_type": "stream",
     "text": [
      "\r",
      " 31%|████████████████████████▏                                                      | 306/1000 [05:04<13:00,  1.12s/it]"
     ]
    },
    {
     "name": "stdout",
     "output_type": "stream",
     "text": [
      "\t ----- reward: -1.256086575415249 for f_star and f_minus: 0.21225293637834153 , 1.256086575415249\n",
      "\t ---------- State is:  (5, 0)\n",
      "[INFO] [2023-04-11 16:53:22,924] [OpenBox-SPO] Iteration 307, objective value: [1.1283707640965743].\n"
     ]
    },
    {
     "name": "stderr",
     "output_type": "stream",
     "text": [
      "\r",
      " 31%|████████████████████████▎                                                      | 307/1000 [05:05<12:50,  1.11s/it]"
     ]
    },
    {
     "name": "stdout",
     "output_type": "stream",
     "text": [
      "\t ----- reward: -1.1283707640965743 for f_star and f_minus: 0.21225293637834153 , 1.1283707640965743\n",
      "\t ---------- State is:  (4, 0)\n",
      "[INFO] [2023-04-11 16:53:23,908] [OpenBox-SPO] Iteration 308, objective value: [0.25083057851868573].\n"
     ]
    },
    {
     "name": "stderr",
     "output_type": "stream",
     "text": [
      "\r",
      " 31%|████████████████████████▎                                                      | 308/1000 [05:06<12:23,  1.07s/it]"
     ]
    },
    {
     "name": "stdout",
     "output_type": "stream",
     "text": [
      "\t ----- reward: -0.25083057851868573 for f_star and f_minus: 0.21225293637834153 , 0.25083057851868573\n",
      "\t ---------- State is:  (5, 0)\n",
      "[INFO] [2023-04-11 16:53:25,190] [OpenBox-SPO] Iteration 309, objective value: [1.0850458684521695].\n"
     ]
    },
    {
     "name": "stderr",
     "output_type": "stream",
     "text": [
      "\r",
      " 31%|████████████████████████▍                                                      | 309/1000 [05:07<13:05,  1.14s/it]"
     ]
    },
    {
     "name": "stdout",
     "output_type": "stream",
     "text": [
      "\t ----- reward: -1.0850458684521695 for f_star and f_minus: 0.21225293637834153 , 1.0850458684521695\n",
      "\t ---------- State is:  (5, 0)\n",
      "[INFO] [2023-04-11 16:53:25,191] [Advisor] Sample random config. rand_prob=0.100000.\n",
      "[INFO] [2023-04-11 16:53:25,192] [OpenBox-SPO] Iteration 310, objective value: [0.5989489339567649].\n",
      "\t ----- reward: -0.5989489339567649 for f_star and f_minus: 0.21225293637834153 , 0.5989489339567649\n",
      "\t ---------- State is:  (6, 0)\n",
      "[INFO] [2023-04-11 16:53:26,224] [OpenBox-SPO] Iteration 311, objective value: [0.7727695208126081].\n"
     ]
    },
    {
     "name": "stderr",
     "output_type": "stream",
     "text": [
      "\r",
      " 31%|████████████████████████▌                                                      | 311/1000 [05:08<09:45,  1.18it/s]"
     ]
    },
    {
     "name": "stdout",
     "output_type": "stream",
     "text": [
      "\t ----- reward: -0.7727695208126081 for f_star and f_minus: 0.21225293637834153 , 0.7727695208126081\n",
      "\t ---------- State is:  (6, 0)\n",
      "[INFO] [2023-04-11 16:53:27,219] [OpenBox-SPO] Iteration 312, objective value: [0.515824284831912].\n"
     ]
    },
    {
     "name": "stderr",
     "output_type": "stream",
     "text": [
      "\r",
      " 31%|████████████████████████▋                                                      | 312/1000 [05:09<10:09,  1.13it/s]"
     ]
    },
    {
     "name": "stdout",
     "output_type": "stream",
     "text": [
      "\t ----- reward: -0.515824284831912 for f_star and f_minus: 0.21225293637834153 , 0.515824284831912\n",
      "\t ---------- State is:  (5, 0)\n",
      "[INFO] [2023-04-11 16:53:28,148] [OpenBox-SPO] Iteration 313, objective value: [0.25612325607349284].\n"
     ]
    },
    {
     "name": "stderr",
     "output_type": "stream",
     "text": [
      "\r",
      " 31%|████████████████████████▋                                                      | 313/1000 [05:10<10:16,  1.11it/s]"
     ]
    },
    {
     "name": "stdout",
     "output_type": "stream",
     "text": [
      "\t ----- reward: -0.25612325607349284 for f_star and f_minus: 0.21225293637834153 , 0.25612325607349284\n",
      "\t ---------- State is:  (4, 0)\n",
      "[INFO] [2023-04-11 16:53:29,436] [OpenBox-SPO] Iteration 314, objective value: [1.1521186041666724].\n"
     ]
    },
    {
     "name": "stderr",
     "output_type": "stream",
     "text": [
      "\r",
      " 31%|████████████████████████▊                                                      | 314/1000 [05:11<11:28,  1.00s/it]"
     ]
    },
    {
     "name": "stdout",
     "output_type": "stream",
     "text": [
      "\t ----- reward: -1.1521186041666724 for f_star and f_minus: 0.21225293637834153 , 1.1521186041666724\n",
      "\t ---------- State is:  (3, 0)\n",
      "[INFO] [2023-04-11 16:53:30,572] [OpenBox-SPO] Iteration 315, objective value: [0.21068871158260224].\n"
     ]
    },
    {
     "name": "stderr",
     "output_type": "stream",
     "text": [
      "\r",
      " 32%|████████████████████████▉                                                      | 315/1000 [05:13<11:52,  1.04s/it]"
     ]
    },
    {
     "name": "stdout",
     "output_type": "stream",
     "text": [
      "\t ----- reward: -0.21068871158260224 for f_star and f_minus: 0.21225293637834153 , 0.21068871158260224\n",
      "\t ---------- State is:  (3, 0)\n",
      "[INFO] [2023-04-11 16:53:31,718] [OpenBox-SPO] Iteration 316, objective value: [1.0631859129930477].\n"
     ]
    },
    {
     "name": "stderr",
     "output_type": "stream",
     "text": [
      "\r",
      " 32%|████████████████████████▉                                                      | 316/1000 [05:14<12:12,  1.07s/it]"
     ]
    },
    {
     "name": "stdout",
     "output_type": "stream",
     "text": [
      "\t ----- reward: -1.0631859129930477 for f_star and f_minus: 0.21068871158260224 , 1.0631859129930477\n",
      "\t ---------- State is:  (3, 0)\n",
      "[INFO] [2023-04-11 16:53:32,703] [OpenBox-SPO] Iteration 317, objective value: [1.07772137047896].\n"
     ]
    },
    {
     "name": "stderr",
     "output_type": "stream",
     "text": [
      "\r",
      " 32%|█████████████████████████                                                      | 317/1000 [05:15<11:54,  1.05s/it]"
     ]
    },
    {
     "name": "stdout",
     "output_type": "stream",
     "text": [
      "\t ----- reward: -1.07772137047896 for f_star and f_minus: 0.21068871158260224 , 1.07772137047896\n",
      "\t ---------- State is:  (2, 0)\n",
      "[INFO] [2023-04-11 16:53:33,901] [OpenBox-SPO] Iteration 318, objective value: [1.5026995315548264].\n"
     ]
    },
    {
     "name": "stderr",
     "output_type": "stream",
     "text": [
      "\r",
      " 32%|█████████████████████████                                                      | 318/1000 [05:16<12:23,  1.09s/it]"
     ]
    },
    {
     "name": "stdout",
     "output_type": "stream",
     "text": [
      "\t ----- reward: -1.5026995315548264 for f_star and f_minus: 0.21068871158260224 , 1.5026995315548264\n",
      "\t ---------- State is:  (3, 0)\n",
      "[INFO] [2023-04-11 16:53:35,202] [OpenBox-SPO] Iteration 319, objective value: [0.27835477104712836].\n"
     ]
    },
    {
     "name": "stderr",
     "output_type": "stream",
     "text": [
      "\r",
      " 32%|█████████████████████████▏                                                     | 319/1000 [05:17<13:05,  1.15s/it]"
     ]
    },
    {
     "name": "stdout",
     "output_type": "stream",
     "text": [
      "\t ----- reward: -0.27835477104712836 for f_star and f_minus: 0.21068871158260224 , 0.27835477104712836\n",
      "\t ---------- State is:  (3, 0)\n",
      "[INFO] [2023-04-11 16:53:36,282] [OpenBox-SPO] Iteration 320, objective value: [1.3638133707274702].\n"
     ]
    },
    {
     "name": "stderr",
     "output_type": "stream",
     "text": [
      "\r",
      " 32%|█████████████████████████▎                                                     | 320/1000 [05:18<12:49,  1.13s/it]"
     ]
    },
    {
     "name": "stdout",
     "output_type": "stream",
     "text": [
      "\t ----- reward: -1.3638133707274702 for f_star and f_minus: 0.21068871158260224 , 1.3638133707274702\n",
      "\t ---------- State is:  (3, 0)\n",
      "[INFO] [2023-04-11 16:53:37,340] [OpenBox-SPO] Iteration 321, objective value: [1.0920579353988311].\n"
     ]
    },
    {
     "name": "stderr",
     "output_type": "stream",
     "text": [
      "\r",
      " 32%|█████████████████████████▎                                                     | 321/1000 [05:19<12:32,  1.11s/it]"
     ]
    },
    {
     "name": "stdout",
     "output_type": "stream",
     "text": [
      "\t ----- reward: -1.0920579353988311 for f_star and f_minus: 0.21068871158260224 , 1.0920579353988311\n",
      "\t ---------- State is:  (2, 0)\n",
      "[INFO] [2023-04-11 16:53:38,569] [OpenBox-SPO] Iteration 322, objective value: [1.1325372834816245].\n"
     ]
    },
    {
     "name": "stderr",
     "output_type": "stream",
     "text": [
      "\r",
      " 32%|█████████████████████████▍                                                     | 322/1000 [05:21<12:56,  1.14s/it]"
     ]
    },
    {
     "name": "stdout",
     "output_type": "stream",
     "text": [
      "\t ----- reward: -1.1325372834816245 for f_star and f_minus: 0.21068871158260224 , 1.1325372834816245\n",
      "\t ---------- State is:  (1, 0)\n",
      "[INFO] [2023-04-11 16:53:39,614] [OpenBox-SPO] Iteration 323, objective value: [1.1858729125410354].\n"
     ]
    },
    {
     "name": "stderr",
     "output_type": "stream",
     "text": [
      "\r",
      " 32%|█████████████████████████▌                                                     | 323/1000 [05:22<12:34,  1.11s/it]"
     ]
    },
    {
     "name": "stdout",
     "output_type": "stream",
     "text": [
      "\t ----- reward: -1.1858729125410354 for f_star and f_minus: 0.21068871158260224 , 1.1858729125410354\n",
      "\t ---------- State is:  (1, 0)\n",
      "[INFO] [2023-04-11 16:53:40,863] [OpenBox-SPO] Iteration 324, objective value: [1.2784123602840536].\n"
     ]
    },
    {
     "name": "stderr",
     "output_type": "stream",
     "text": [
      "\r",
      " 32%|█████████████████████████▌                                                     | 324/1000 [05:23<13:00,  1.16s/it]"
     ]
    },
    {
     "name": "stdout",
     "output_type": "stream",
     "text": [
      "\t ----- reward: -1.2784123602840536 for f_star and f_minus: 0.21068871158260224 , 1.2784123602840536\n",
      "\t ---------- State is:  (2, 0)\n",
      "[INFO] [2023-04-11 16:53:42,003] [OpenBox-SPO] Iteration 325, objective value: [1.2361618983885423].\n"
     ]
    },
    {
     "name": "stderr",
     "output_type": "stream",
     "text": [
      "\r",
      " 32%|█████████████████████████▋                                                     | 325/1000 [05:24<12:56,  1.15s/it]"
     ]
    },
    {
     "name": "stdout",
     "output_type": "stream",
     "text": [
      "\t ----- reward: -1.2361618983885423 for f_star and f_minus: 0.21068871158260224 , 1.2361618983885423\n",
      "\t ---------- State is:  (2, 0)\n",
      "[INFO] [2023-04-11 16:53:43,194] [OpenBox-SPO] Iteration 326, objective value: [0.5917544388134585].\n"
     ]
    },
    {
     "name": "stderr",
     "output_type": "stream",
     "text": [
      "\r",
      " 33%|█████████████████████████▊                                                     | 326/1000 [05:25<13:03,  1.16s/it]"
     ]
    },
    {
     "name": "stdout",
     "output_type": "stream",
     "text": [
      "\t ----- reward: -0.5917544388134585 for f_star and f_minus: 0.21068871158260224 , 0.5917544388134585\n",
      "\t ---------- State is:  (1, 0)\n",
      "[INFO] [2023-04-11 16:53:44,243] [OpenBox-SPO] Iteration 327, objective value: [1.26266864380552].\n"
     ]
    },
    {
     "name": "stderr",
     "output_type": "stream",
     "text": [
      "\r",
      " 33%|█████████████████████████▊                                                     | 327/1000 [05:26<12:42,  1.13s/it]"
     ]
    },
    {
     "name": "stdout",
     "output_type": "stream",
     "text": [
      "\t ----- reward: -1.26266864380552 for f_star and f_minus: 0.21068871158260224 , 1.26266864380552\n",
      "\t ---------- State is:  (0, 0)\n",
      "[INFO] [2023-04-11 16:53:45,378] [OpenBox-SPO] Iteration 328, objective value: [0.9647065731735021].\n"
     ]
    },
    {
     "name": "stderr",
     "output_type": "stream",
     "text": [
      "\r",
      " 33%|█████████████████████████▉                                                     | 328/1000 [05:27<12:38,  1.13s/it]"
     ]
    },
    {
     "name": "stdout",
     "output_type": "stream",
     "text": [
      "\t ----- reward: -0.9647065731735021 for f_star and f_minus: 0.21068871158260224 , 0.9647065731735021\n",
      "\t ---------- State is:  (0, 0)\n",
      "[INFO] [2023-04-11 16:53:46,713] [OpenBox-SPO] Iteration 329, objective value: [2.0608916630934626].\n"
     ]
    },
    {
     "name": "stderr",
     "output_type": "stream",
     "text": [
      "\r",
      " 33%|█████████████████████████▉                                                     | 329/1000 [05:29<13:19,  1.19s/it]"
     ]
    },
    {
     "name": "stdout",
     "output_type": "stream",
     "text": [
      "\t ----- reward: -2.0608916630934626 for f_star and f_minus: 0.21068871158260224 , 2.0608916630934626\n",
      "\t ---------- State is:  (0, 0)\n",
      "[INFO] [2023-04-11 16:53:47,775] [OpenBox-SPO] Iteration 330, objective value: [1.0541305150469011].\n"
     ]
    },
    {
     "name": "stderr",
     "output_type": "stream",
     "text": [
      "\r",
      " 33%|██████████████████████████                                                     | 330/1000 [05:30<12:51,  1.15s/it]"
     ]
    },
    {
     "name": "stdout",
     "output_type": "stream",
     "text": [
      "\t ----- reward: -1.0541305150469011 for f_star and f_minus: 0.21068871158260224 , 1.0541305150469011\n",
      "\t ---------- State is:  (0, 0)\n",
      "[INFO] [2023-04-11 16:53:47,775] [Advisor] Sample random config. rand_prob=0.100000.\n",
      "[INFO] [2023-04-11 16:53:47,775] [OpenBox-SPO] Iteration 331, objective value: [2.2189684698169403].\n",
      "\t ----- reward: -2.2189684698169403 for f_star and f_minus: 0.21068871158260224 , 2.2189684698169403\n",
      "\t ---------- State is:  (0, 0)\n",
      "[INFO] [2023-04-11 16:53:49,051] [OpenBox-SPO] Iteration 332, objective value: [1.2395821170806411].\n"
     ]
    },
    {
     "name": "stderr",
     "output_type": "stream",
     "text": [
      "\r",
      " 33%|██████████████████████████▏                                                    | 332/1000 [05:31<10:11,  1.09it/s]"
     ]
    },
    {
     "name": "stdout",
     "output_type": "stream",
     "text": [
      "\t ----- reward: -1.2395821170806411 for f_star and f_minus: 0.21068871158260224 , 1.2395821170806411\n",
      "\t ---------- State is:  (1, 0)\n",
      "[INFO] [2023-04-11 16:53:50,079] [OpenBox-SPO] Iteration 333, objective value: [1.5312210655821998].\n"
     ]
    },
    {
     "name": "stderr",
     "output_type": "stream",
     "text": [
      "\r",
      " 33%|██████████████████████████▎                                                    | 333/1000 [05:32<10:28,  1.06it/s]"
     ]
    },
    {
     "name": "stdout",
     "output_type": "stream",
     "text": [
      "\t ----- reward: -1.5312210655821998 for f_star and f_minus: 0.21068871158260224 , 1.5312210655821998\n",
      "\t ---------- State is:  (1, 0)\n",
      "[INFO] [2023-04-11 16:53:51,156] [OpenBox-SPO] Iteration 334, objective value: [1.4870125320355385].\n"
     ]
    },
    {
     "name": "stderr",
     "output_type": "stream",
     "text": [
      "\r",
      " 33%|██████████████████████████▍                                                    | 334/1000 [05:33<10:51,  1.02it/s]"
     ]
    },
    {
     "name": "stdout",
     "output_type": "stream",
     "text": [
      "\t ----- reward: -1.4870125320355385 for f_star and f_minus: 0.21068871158260224 , 1.4870125320355385\n",
      "\t ---------- State is:  (2, 1)\n",
      "[INFO] [2023-04-11 16:53:51,157] [Advisor] Sample random config. rand_prob=0.100000.\n",
      "[INFO] [2023-04-11 16:53:51,158] [OpenBox-SPO] Iteration 335, objective value: [0.5862163446640984].\n",
      "\t ----- reward: -0.5862163446640984 for f_star and f_minus: 0.21068871158260224 , 0.5862163446640984\n",
      "\t ---------- State is:  (1, 1)\n",
      "[INFO] [2023-04-11 16:53:51,158] [Advisor] Sample random config. rand_prob=0.100000.\n",
      "[INFO] [2023-04-11 16:53:51,159] [OpenBox-SPO] Iteration 336, objective value: [1.4133028615865586].\n",
      "\t ----- reward: -1.4133028615865586 for f_star and f_minus: 0.21068871158260224 , 1.4133028615865586\n",
      "\t ---------- State is:  (0, 1)\n",
      "[INFO] [2023-04-11 16:53:52,373] [OpenBox-SPO] Iteration 337, objective value: [1.0592643624410034].\n"
     ]
    },
    {
     "name": "stderr",
     "output_type": "stream",
     "text": [
      "\r",
      " 34%|██████████████████████████▌                                                    | 337/1000 [05:34<07:27,  1.48it/s]"
     ]
    },
    {
     "name": "stdout",
     "output_type": "stream",
     "text": [
      "\t ----- reward: -1.0592643624410034 for f_star and f_minus: 0.21068871158260224 , 1.0592643624410034\n",
      "\t ---------- State is:  (0, 1)\n",
      "[INFO] [2023-04-11 16:53:53,397] [OpenBox-SPO] Iteration 338, objective value: [1.6712353935708166].\n"
     ]
    },
    {
     "name": "stderr",
     "output_type": "stream",
     "text": [
      "\r",
      " 34%|██████████████████████████▋                                                    | 338/1000 [05:35<08:13,  1.34it/s]"
     ]
    },
    {
     "name": "stdout",
     "output_type": "stream",
     "text": [
      "\t ----- reward: -1.6712353935708166 for f_star and f_minus: 0.21068871158260224 , 1.6712353935708166\n",
      "\t ---------- State is:  (1, 1)\n",
      "[INFO] [2023-04-11 16:53:54,715] [OpenBox-SPO] Iteration 339, objective value: [1.2901375411861256].\n"
     ]
    },
    {
     "name": "stderr",
     "output_type": "stream",
     "text": [
      "\r",
      " 34%|██████████████████████████▊                                                    | 339/1000 [05:37<09:37,  1.14it/s]"
     ]
    },
    {
     "name": "stdout",
     "output_type": "stream",
     "text": [
      "\t ----- reward: -1.2901375411861256 for f_star and f_minus: 0.21068871158260224 , 1.2901375411861256\n",
      "\t ---------- State is:  (2, 1)\n",
      "[INFO] [2023-04-11 16:53:55,894] [OpenBox-SPO] Iteration 340, objective value: [1.2513973430813534].\n"
     ]
    },
    {
     "name": "stderr",
     "output_type": "stream",
     "text": [
      "\r",
      " 34%|██████████████████████████▊                                                    | 340/1000 [05:38<10:25,  1.06it/s]"
     ]
    },
    {
     "name": "stdout",
     "output_type": "stream",
     "text": [
      "\t ----- reward: -1.2513973430813534 for f_star and f_minus: 0.21068871158260224 , 1.2513973430813534\n",
      "\t ---------- State is:  (1, 1)\n",
      "[INFO] [2023-04-11 16:53:57,106] [OpenBox-SPO] Iteration 341, objective value: [1.7960010106550799].\n"
     ]
    },
    {
     "name": "stderr",
     "output_type": "stream",
     "text": [
      "\r",
      " 34%|██████████████████████████▉                                                    | 341/1000 [05:39<11:09,  1.02s/it]"
     ]
    },
    {
     "name": "stdout",
     "output_type": "stream",
     "text": [
      "\t ----- reward: -1.7960010106550799 for f_star and f_minus: 0.21068871158260224 , 1.7960010106550799\n",
      "\t ---------- State is:  (0, 1)\n",
      "[INFO] [2023-04-11 16:53:58,191] [OpenBox-SPO] Iteration 342, objective value: [1.5942281358652475].\n"
     ]
    },
    {
     "name": "stderr",
     "output_type": "stream",
     "text": [
      "\r",
      " 34%|███████████████████████████                                                    | 342/1000 [05:40<11:20,  1.03s/it]"
     ]
    },
    {
     "name": "stdout",
     "output_type": "stream",
     "text": [
      "\t ----- reward: -1.5942281358652475 for f_star and f_minus: 0.21068871158260224 , 1.5942281358652475\n",
      "\t ---------- State is:  (0, 1)\n",
      "[INFO] [2023-04-11 16:53:59,285] [OpenBox-SPO] Iteration 343, objective value: [1.2376442682696043].\n"
     ]
    },
    {
     "name": "stderr",
     "output_type": "stream",
     "text": [
      "\r",
      " 34%|███████████████████████████                                                    | 343/1000 [05:41<11:30,  1.05s/it]"
     ]
    },
    {
     "name": "stdout",
     "output_type": "stream",
     "text": [
      "\t ----- reward: -1.2376442682696043 for f_star and f_minus: 0.21068871158260224 , 1.2376442682696043\n",
      "\t ---------- State is:  (0, 1)\n",
      "[INFO] [2023-04-11 16:54:00,632] [OpenBox-SPO] Iteration 344, objective value: [0.9890467530905708].\n"
     ]
    },
    {
     "name": "stderr",
     "output_type": "stream",
     "text": [
      "\r",
      " 34%|███████████████████████████▏                                                   | 344/1000 [05:43<12:24,  1.13s/it]"
     ]
    },
    {
     "name": "stdout",
     "output_type": "stream",
     "text": [
      "\t ----- reward: -0.9890467530905708 for f_star and f_minus: 0.21068871158260224 , 0.9890467530905708\n",
      "\t ---------- State is:  (1, 1)\n",
      "[INFO] [2023-04-11 16:54:00,632] [Advisor] Sample random config. rand_prob=0.100000.\n",
      "[INFO] [2023-04-11 16:54:00,632] [OpenBox-SPO] Iteration 345, objective value: [2.327193685285991].\n",
      "\t ----- reward: -2.327193685285991 for f_star and f_minus: 0.21068871158260224 , 2.327193685285991\n",
      "\t ---------- State is:  (2, 1)\n",
      "[INFO] [2023-04-11 16:54:00,632] [Advisor] Sample random config. rand_prob=0.100000.\n",
      "[INFO] [2023-04-11 16:54:00,632] [OpenBox-SPO] Iteration 346, objective value: [2.329627002816128].\n",
      "\t ----- reward: -2.329627002816128 for f_star and f_minus: 0.21068871158260224 , 2.329627002816128\n",
      "\t ---------- State is:  (3, 1)\n",
      "[INFO] [2023-04-11 16:54:01,675] [OpenBox-SPO] Iteration 347, objective value: [1.4476462853163155].\n"
     ]
    },
    {
     "name": "stderr",
     "output_type": "stream",
     "text": [
      "\r",
      " 35%|███████████████████████████▍                                                   | 347/1000 [05:44<07:38,  1.42it/s]"
     ]
    },
    {
     "name": "stdout",
     "output_type": "stream",
     "text": [
      "\t ----- reward: -1.4476462853163155 for f_star and f_minus: 0.21068871158260224 , 1.4476462853163155\n",
      "\t ---------- State is:  (4, 1)\n",
      "[INFO] [2023-04-11 16:54:02,839] [OpenBox-SPO] Iteration 348, objective value: [1.0181847923619654].\n"
     ]
    },
    {
     "name": "stderr",
     "output_type": "stream",
     "text": [
      "\r",
      " 35%|███████████████████████████▍                                                   | 348/1000 [05:45<08:40,  1.25it/s]"
     ]
    },
    {
     "name": "stdout",
     "output_type": "stream",
     "text": [
      "\t ----- reward: -1.0181847923619654 for f_star and f_minus: 0.21068871158260224 , 1.0181847923619654\n",
      "\t ---------- State is:  (5, 1)\n",
      "[INFO] [2023-04-11 16:54:04,088] [OpenBox-SPO] Iteration 349, objective value: [1.2087859896544566].\n"
     ]
    },
    {
     "name": "stderr",
     "output_type": "stream",
     "text": [
      "\r",
      " 35%|███████████████████████████▌                                                   | 349/1000 [05:46<09:46,  1.11it/s]"
     ]
    },
    {
     "name": "stdout",
     "output_type": "stream",
     "text": [
      "\t ----- reward: -1.2087859896544566 for f_star and f_minus: 0.21068871158260224 , 1.2087859896544566\n",
      "\t ---------- State is:  (5, 1)\n",
      "[INFO] [2023-04-11 16:54:04,088] [Advisor] Sample random config. rand_prob=0.100000.\n",
      "[INFO] [2023-04-11 16:54:04,088] [OpenBox-SPO] Iteration 350, objective value: [3.126826506667898].\n",
      "\t ----- reward: -3.126826506667898 for f_star and f_minus: 0.21068871158260224 , 3.126826506667898\n",
      "\t ---------- State is:  (6, 1)\n",
      "[INFO] [2023-04-11 16:54:05,284] [OpenBox-SPO] Iteration 351, objective value: [1.5729174768040932].\n"
     ]
    },
    {
     "name": "stderr",
     "output_type": "stream",
     "text": [
      "\r",
      " 35%|███████████████████████████▋                                                   | 351/1000 [05:47<08:27,  1.28it/s]"
     ]
    },
    {
     "name": "stdout",
     "output_type": "stream",
     "text": [
      "\t ----- reward: -1.5729174768040932 for f_star and f_minus: 0.21068871158260224 , 1.5729174768040932\n",
      "\t ---------- State is:  (5, 1)\n",
      "[INFO] [2023-04-11 16:54:05,284] [Advisor] Sample random config. rand_prob=0.100000.\n",
      "[INFO] [2023-04-11 16:54:05,284] [OpenBox-SPO] Iteration 352, objective value: [1.8059727296748198].\n",
      "\t ----- reward: -1.8059727296748198 for f_star and f_minus: 0.21068871158260224 , 1.8059727296748198\n",
      "\t ---------- State is:  (4, 1)\n",
      "[INFO] [2023-04-11 16:54:06,397] [OpenBox-SPO] Iteration 353, objective value: [0.2572622799486137].\n"
     ]
    },
    {
     "name": "stderr",
     "output_type": "stream",
     "text": [
      "\r",
      " 35%|███████████████████████████▉                                                   | 353/1000 [05:48<07:33,  1.43it/s]"
     ]
    },
    {
     "name": "stdout",
     "output_type": "stream",
     "text": [
      "\t ----- reward: -0.2572622799486137 for f_star and f_minus: 0.21068871158260224 , 0.2572622799486137\n",
      "\t ---------- State is:  (4, 1)\n",
      "[INFO] [2023-04-11 16:54:07,656] [OpenBox-SPO] Iteration 354, objective value: [1.091910269098149].\n"
     ]
    },
    {
     "name": "stderr",
     "output_type": "stream",
     "text": [
      "\r",
      " 35%|███████████████████████████▉                                                   | 354/1000 [05:50<08:46,  1.23it/s]"
     ]
    },
    {
     "name": "stdout",
     "output_type": "stream",
     "text": [
      "\t ----- reward: -1.091910269098149 for f_star and f_minus: 0.21068871158260224 , 1.091910269098149\n",
      "\t ---------- State is:  (4, 1)\n",
      "[INFO] [2023-04-11 16:54:07,656] [Advisor] Sample random config. rand_prob=0.100000.\n",
      "[INFO] [2023-04-11 16:54:07,656] [OpenBox-SPO] Iteration 355, objective value: [0.4080074117624674].\n",
      "\t ----- reward: -0.4080074117624674 for f_star and f_minus: 0.21068871158260224 , 0.4080074117624674\n",
      "\t ---------- State is:  (3, 1)\n",
      "[INFO] [2023-04-11 16:54:08,803] [OpenBox-SPO] Iteration 356, objective value: [1.501335808269903].\n"
     ]
    },
    {
     "name": "stderr",
     "output_type": "stream",
     "text": [
      "\r",
      " 36%|████████████████████████████                                                   | 356/1000 [05:51<07:47,  1.38it/s]"
     ]
    },
    {
     "name": "stdout",
     "output_type": "stream",
     "text": [
      "\t ----- reward: -1.501335808269903 for f_star and f_minus: 0.21068871158260224 , 1.501335808269903\n",
      "\t ---------- State is:  (3, 1)\n",
      "[INFO] [2023-04-11 16:54:10,059] [OpenBox-SPO] Iteration 357, objective value: [0.4779572468430714].\n"
     ]
    },
    {
     "name": "stderr",
     "output_type": "stream",
     "text": [
      "\r",
      " 36%|████████████████████████████▏                                                  | 357/1000 [05:52<08:57,  1.20it/s]"
     ]
    },
    {
     "name": "stdout",
     "output_type": "stream",
     "text": [
      "\t ----- reward: -0.4779572468430714 for f_star and f_minus: 0.21068871158260224 , 0.4779572468430714\n",
      "\t ---------- State is:  (3, 1)\n",
      "[INFO] [2023-04-11 16:54:11,137] [OpenBox-SPO] Iteration 358, objective value: [0.5558826119650638].\n"
     ]
    },
    {
     "name": "stderr",
     "output_type": "stream",
     "text": [
      "\r",
      " 36%|████████████████████████████▎                                                  | 358/1000 [05:53<09:32,  1.12it/s]"
     ]
    },
    {
     "name": "stdout",
     "output_type": "stream",
     "text": [
      "\t ----- reward: -0.5558826119650638 for f_star and f_minus: 0.21068871158260224 , 0.5558826119650638\n",
      "\t ---------- State is:  (2, 1)\n",
      "[INFO] [2023-04-11 16:54:12,142] [OpenBox-SPO] Iteration 359, objective value: [1.0369271532534936].\n"
     ]
    },
    {
     "name": "stderr",
     "output_type": "stream",
     "text": [
      "\r",
      " 36%|████████████████████████████▎                                                  | 359/1000 [05:54<09:49,  1.09it/s]"
     ]
    },
    {
     "name": "stdout",
     "output_type": "stream",
     "text": [
      "\t ----- reward: -1.0369271532534936 for f_star and f_minus: 0.21068871158260224 , 1.0369271532534936\n",
      "\t ---------- State is:  (3, 1)\n",
      "[INFO] [2023-04-11 16:54:13,490] [OpenBox-SPO] Iteration 360, objective value: [1.2341969342248855].\n"
     ]
    },
    {
     "name": "stderr",
     "output_type": "stream",
     "text": [
      "\r",
      " 36%|████████████████████████████▍                                                  | 360/1000 [05:56<11:00,  1.03s/it]"
     ]
    },
    {
     "name": "stdout",
     "output_type": "stream",
     "text": [
      "\t ----- reward: -1.2341969342248855 for f_star and f_minus: 0.21068871158260224 , 1.2341969342248855\n",
      "\t ---------- State is:  (2, 1)\n",
      "[INFO] [2023-04-11 16:54:14,445] [OpenBox-SPO] Iteration 361, objective value: [1.1789255789554718].\n"
     ]
    },
    {
     "name": "stderr",
     "output_type": "stream",
     "text": [
      "\r",
      " 36%|████████████████████████████▌                                                  | 361/1000 [05:56<10:45,  1.01s/it]"
     ]
    },
    {
     "name": "stdout",
     "output_type": "stream",
     "text": [
      "\t ----- reward: -1.1789255789554718 for f_star and f_minus: 0.21068871158260224 , 1.1789255789554718\n",
      "\t ---------- State is:  (2, 1)\n",
      "[INFO] [2023-04-11 16:54:15,546] [OpenBox-SPO] Iteration 362, objective value: [1.190208251259465].\n"
     ]
    },
    {
     "name": "stderr",
     "output_type": "stream",
     "text": [
      "\r",
      " 36%|████████████████████████████▌                                                  | 362/1000 [05:58<11:00,  1.04s/it]"
     ]
    },
    {
     "name": "stdout",
     "output_type": "stream",
     "text": [
      "\t ----- reward: -1.190208251259465 for f_star and f_minus: 0.21068871158260224 , 1.190208251259465\n",
      "\t ---------- State is:  (1, 0)\n",
      "[INFO] [2023-04-11 16:54:16,662] [OpenBox-SPO] Iteration 363, objective value: [0.9654741085825106].\n"
     ]
    },
    {
     "name": "stderr",
     "output_type": "stream",
     "text": [
      "\r",
      " 36%|████████████████████████████▋                                                  | 363/1000 [05:59<11:14,  1.06s/it]"
     ]
    },
    {
     "name": "stdout",
     "output_type": "stream",
     "text": [
      "\t ----- reward: -0.9654741085825106 for f_star and f_minus: 0.21068871158260224 , 0.9654741085825106\n",
      "\t ---------- State is:  (0, 0)\n",
      "[INFO] [2023-04-11 16:54:17,864] [OpenBox-SPO] Iteration 364, objective value: [1.1759694594383654].\n"
     ]
    },
    {
     "name": "stderr",
     "output_type": "stream",
     "text": [
      "\r",
      " 36%|████████████████████████████▊                                                  | 364/1000 [06:00<11:40,  1.10s/it]"
     ]
    },
    {
     "name": "stdout",
     "output_type": "stream",
     "text": [
      "\t ----- reward: -1.1759694594383654 for f_star and f_minus: 0.21068871158260224 , 1.1759694594383654\n",
      "\t ---------- State is:  (1, 0)\n",
      "[INFO] [2023-04-11 16:54:19,186] [OpenBox-SPO] Iteration 365, objective value: [0.5214814706045651].\n"
     ]
    },
    {
     "name": "stderr",
     "output_type": "stream",
     "text": [
      "\r",
      " 36%|████████████████████████████▊                                                  | 365/1000 [06:01<12:19,  1.16s/it]"
     ]
    },
    {
     "name": "stdout",
     "output_type": "stream",
     "text": [
      "\t ----- reward: -0.5214814706045651 for f_star and f_minus: 0.21068871158260224 , 0.5214814706045651\n",
      "\t ---------- State is:  (0, 0)\n",
      "[INFO] [2023-04-11 16:54:20,440] [OpenBox-SPO] Iteration 366, objective value: [1.4220016599365919].\n"
     ]
    },
    {
     "name": "stderr",
     "output_type": "stream",
     "text": [
      "\r",
      " 37%|████████████████████████████▉                                                  | 366/1000 [06:02<12:35,  1.19s/it]"
     ]
    },
    {
     "name": "stdout",
     "output_type": "stream",
     "text": [
      "\t ----- reward: -1.4220016599365919 for f_star and f_minus: 0.21068871158260224 , 1.4220016599365919\n",
      "\t ---------- State is:  (0, 0)\n",
      "[INFO] [2023-04-11 16:54:21,586] [OpenBox-SPO] Iteration 367, objective value: [4.163961620945397].\n"
     ]
    },
    {
     "name": "stderr",
     "output_type": "stream",
     "text": [
      "\r",
      " 37%|████████████████████████████▉                                                  | 367/1000 [06:04<12:25,  1.18s/it]"
     ]
    },
    {
     "name": "stdout",
     "output_type": "stream",
     "text": [
      "\t ----- reward: -4.163961620945397 for f_star and f_minus: 0.21068871158260224 , 4.163961620945397\n",
      "\t ---------- State is:  (1, 0)\n",
      "[INFO] [2023-04-11 16:54:22,673] [OpenBox-SPO] Iteration 368, objective value: [2.678833314571932].\n"
     ]
    },
    {
     "name": "stderr",
     "output_type": "stream",
     "text": [
      "\r",
      " 37%|█████████████████████████████                                                  | 368/1000 [06:05<12:07,  1.15s/it]"
     ]
    },
    {
     "name": "stdout",
     "output_type": "stream",
     "text": [
      "\t ----- reward: -2.678833314571932 for f_star and f_minus: 0.21068871158260224 , 2.678833314571932\n",
      "\t ---------- State is:  (0, 0)\n",
      "[INFO] [2023-04-11 16:54:23,908] [OpenBox-SPO] Iteration 369, objective value: [2.2006416280619403].\n"
     ]
    },
    {
     "name": "stderr",
     "output_type": "stream",
     "text": [
      "\r",
      " 37%|█████████████████████████████▏                                                 | 369/1000 [06:06<12:21,  1.18s/it]"
     ]
    },
    {
     "name": "stdout",
     "output_type": "stream",
     "text": [
      "\t ----- reward: -2.2006416280619403 for f_star and f_minus: 0.21068871158260224 , 2.2006416280619403\n",
      "\t ---------- State is:  (0, 0)\n",
      "[INFO] [2023-04-11 16:54:24,990] [OpenBox-SPO] Iteration 370, objective value: [1.6127977131262716].\n"
     ]
    },
    {
     "name": "stderr",
     "output_type": "stream",
     "text": [
      "\r",
      " 37%|█████████████████████████████▏                                                 | 370/1000 [06:07<12:03,  1.15s/it]"
     ]
    },
    {
     "name": "stdout",
     "output_type": "stream",
     "text": [
      "\t ----- reward: -1.6127977131262716 for f_star and f_minus: 0.21068871158260224 , 1.6127977131262716\n",
      "\t ---------- State is:  (0, 0)\n",
      "[INFO] [2023-04-11 16:54:26,089] [OpenBox-SPO] Iteration 371, objective value: [1.299154704455011].\n"
     ]
    },
    {
     "name": "stderr",
     "output_type": "stream",
     "text": [
      "\r",
      " 37%|█████████████████████████████▎                                                 | 371/1000 [06:08<11:52,  1.13s/it]"
     ]
    },
    {
     "name": "stdout",
     "output_type": "stream",
     "text": [
      "\t ----- reward: -1.299154704455011 for f_star and f_minus: 0.21068871158260224 , 1.299154704455011\n",
      "\t ---------- State is:  (0, 0)\n",
      "[INFO] [2023-04-11 16:54:27,438] [OpenBox-SPO] Iteration 372, objective value: [0.3869946530488387].\n"
     ]
    },
    {
     "name": "stderr",
     "output_type": "stream",
     "text": [
      "\r",
      " 37%|█████████████████████████████▍                                                 | 372/1000 [06:09<12:32,  1.20s/it]"
     ]
    },
    {
     "name": "stdout",
     "output_type": "stream",
     "text": [
      "\t ----- reward: -0.3869946530488387 for f_star and f_minus: 0.21068871158260224 , 0.3869946530488387\n",
      "\t ---------- State is:  (0, 0)\n",
      "[INFO] [2023-04-11 16:54:28,944] [OpenBox-SPO] Iteration 373, objective value: [1.179164257309153].\n"
     ]
    },
    {
     "name": "stderr",
     "output_type": "stream",
     "text": [
      "\r",
      " 37%|█████████████████████████████▍                                                 | 373/1000 [06:11<13:28,  1.29s/it]"
     ]
    },
    {
     "name": "stdout",
     "output_type": "stream",
     "text": [
      "\t ----- reward: -1.179164257309153 for f_star and f_minus: 0.21068871158260224 , 1.179164257309153\n",
      "\t ---------- State is:  (0, 0)\n",
      "[INFO] [2023-04-11 16:54:30,387] [OpenBox-SPO] Iteration 374, objective value: [0.4614715001334548].\n"
     ]
    },
    {
     "name": "stderr",
     "output_type": "stream",
     "text": [
      "\r",
      " 37%|█████████████████████████████▌                                                 | 374/1000 [06:12<13:56,  1.34s/it]"
     ]
    },
    {
     "name": "stdout",
     "output_type": "stream",
     "text": [
      "\t ----- reward: -0.4614715001334548 for f_star and f_minus: 0.21068871158260224 , 0.4614715001334548\n",
      "\t ---------- State is:  (0, 0)\n",
      "[INFO] [2023-04-11 16:54:30,387] [Advisor] Sample random config. rand_prob=0.100000.\n",
      "[INFO] [2023-04-11 16:54:30,387] [OpenBox-SPO] Iteration 375, objective value: [1.6255945253922652].\n",
      "\t ----- reward: -1.6255945253922652 for f_star and f_minus: 0.21068871158260224 , 1.6255945253922652\n",
      "\t ---------- State is:  (0, 0)\n",
      "[INFO] [2023-04-11 16:54:31,472] [OpenBox-SPO] Iteration 376, objective value: [1.3004338695647697].\n"
     ]
    },
    {
     "name": "stderr",
     "output_type": "stream",
     "text": [
      "\r",
      " 38%|█████████████████████████████▋                                                 | 376/1000 [06:14<10:05,  1.03it/s]"
     ]
    },
    {
     "name": "stdout",
     "output_type": "stream",
     "text": [
      "\t ----- reward: -1.3004338695647697 for f_star and f_minus: 0.21068871158260224 , 1.3004338695647697\n",
      "\t ---------- State is:  (0, 0)\n",
      "[INFO] [2023-04-11 16:54:32,725] [OpenBox-SPO] Iteration 377, objective value: [0.27763150399442066].\n"
     ]
    },
    {
     "name": "stderr",
     "output_type": "stream",
     "text": [
      "\r",
      " 38%|█████████████████████████████▊                                                 | 377/1000 [06:15<10:48,  1.04s/it]"
     ]
    },
    {
     "name": "stdout",
     "output_type": "stream",
     "text": [
      "\t ----- reward: -0.27763150399442066 for f_star and f_minus: 0.21068871158260224 , 0.27763150399442066\n",
      "\t ---------- State is:  (0, 0)\n",
      "[INFO] [2023-04-11 16:54:33,873] [OpenBox-SPO] Iteration 378, objective value: [1.2177931903540478].\n"
     ]
    },
    {
     "name": "stderr",
     "output_type": "stream",
     "text": [
      "\r",
      " 38%|█████████████████████████████▊                                                 | 378/1000 [06:16<11:04,  1.07s/it]"
     ]
    },
    {
     "name": "stdout",
     "output_type": "stream",
     "text": [
      "\t ----- reward: -1.2177931903540478 for f_star and f_minus: 0.21068871158260224 , 1.2177931903540478\n",
      "\t ---------- State is:  (0, 0)\n",
      "[INFO] [2023-04-11 16:54:35,203] [OpenBox-SPO] Iteration 379, objective value: [0.27689507375158656].\n"
     ]
    },
    {
     "name": "stderr",
     "output_type": "stream",
     "text": [
      "\r",
      " 38%|█████████████████████████████▉                                                 | 379/1000 [06:17<11:50,  1.14s/it]"
     ]
    },
    {
     "name": "stdout",
     "output_type": "stream",
     "text": [
      "\t ----- reward: -0.27689507375158656 for f_star and f_minus: 0.21068871158260224 , 0.27689507375158656\n",
      "\t ---------- State is:  (1, 0)\n",
      "[INFO] [2023-04-11 16:54:36,424] [OpenBox-SPO] Iteration 380, objective value: [1.0682136145740113].\n"
     ]
    },
    {
     "name": "stderr",
     "output_type": "stream",
     "text": [
      "\r",
      " 38%|██████████████████████████████                                                 | 380/1000 [06:18<11:59,  1.16s/it]"
     ]
    },
    {
     "name": "stdout",
     "output_type": "stream",
     "text": [
      "\t ----- reward: -1.0682136145740113 for f_star and f_minus: 0.21068871158260224 , 1.0682136145740113\n",
      "\t ---------- State is:  (1, 0)\n",
      "[INFO] [2023-04-11 16:54:37,710] [OpenBox-SPO] Iteration 381, objective value: [1.2613834080592916].\n"
     ]
    },
    {
     "name": "stderr",
     "output_type": "stream",
     "text": [
      "\r",
      " 38%|██████████████████████████████                                                 | 381/1000 [06:20<12:20,  1.20s/it]"
     ]
    },
    {
     "name": "stdout",
     "output_type": "stream",
     "text": [
      "\t ----- reward: -1.2613834080592916 for f_star and f_minus: 0.21068871158260224 , 1.2613834080592916\n",
      "\t ---------- State is:  (1, 0)\n",
      "[INFO] [2023-04-11 16:54:38,898] [OpenBox-SPO] Iteration 382, objective value: [0.4701727168583262].\n"
     ]
    },
    {
     "name": "stderr",
     "output_type": "stream",
     "text": [
      "\r",
      " 38%|██████████████████████████████▏                                                | 382/1000 [06:21<12:18,  1.19s/it]"
     ]
    },
    {
     "name": "stdout",
     "output_type": "stream",
     "text": [
      "\t ----- reward: -0.4701727168583262 for f_star and f_minus: 0.21068871158260224 , 0.4701727168583262\n",
      "\t ---------- State is:  (2, 0)\n",
      "[INFO] [2023-04-11 16:54:40,078] [OpenBox-SPO] Iteration 383, objective value: [1.4779604244760423].\n"
     ]
    },
    {
     "name": "stderr",
     "output_type": "stream",
     "text": [
      "\r",
      " 38%|██████████████████████████████▎                                                | 383/1000 [06:22<12:14,  1.19s/it]"
     ]
    },
    {
     "name": "stdout",
     "output_type": "stream",
     "text": [
      "\t ----- reward: -1.4779604244760423 for f_star and f_minus: 0.21068871158260224 , 1.4779604244760423\n",
      "\t ---------- State is:  (1, 1)\n",
      "[INFO] [2023-04-11 16:54:41,412] [OpenBox-SPO] Iteration 384, objective value: [0.7044430459683688].\n"
     ]
    },
    {
     "name": "stderr",
     "output_type": "stream",
     "text": [
      "\r",
      " 38%|██████████████████████████████▎                                                | 384/1000 [06:23<12:39,  1.23s/it]"
     ]
    },
    {
     "name": "stdout",
     "output_type": "stream",
     "text": [
      "\t ----- reward: -0.7044430459683688 for f_star and f_minus: 0.21068871158260224 , 0.7044430459683688\n",
      "\t ---------- State is:  (1, 1)\n",
      "[INFO] [2023-04-11 16:54:42,479] [OpenBox-SPO] Iteration 385, objective value: [1.3170382521720638].\n"
     ]
    },
    {
     "name": "stderr",
     "output_type": "stream",
     "text": [
      "\r",
      " 38%|██████████████████████████████▍                                                | 385/1000 [06:25<12:07,  1.18s/it]"
     ]
    },
    {
     "name": "stdout",
     "output_type": "stream",
     "text": [
      "\t ----- reward: -1.3170382521720638 for f_star and f_minus: 0.21068871158260224 , 1.3170382521720638\n",
      "\t ---------- State is:  (1, 1)\n",
      "[INFO] [2023-04-11 16:54:43,844] [OpenBox-SPO] Iteration 386, objective value: [1.8373173767202684].\n"
     ]
    },
    {
     "name": "stderr",
     "output_type": "stream",
     "text": [
      "\r",
      " 39%|██████████████████████████████▍                                                | 386/1000 [06:26<12:39,  1.24s/it]"
     ]
    },
    {
     "name": "stdout",
     "output_type": "stream",
     "text": [
      "\t ----- reward: -1.8373173767202684 for f_star and f_minus: 0.21068871158260224 , 1.8373173767202684\n",
      "\t ---------- State is:  (0, 1)\n",
      "[INFO] [2023-04-11 16:54:45,312] [OpenBox-SPO] Iteration 387, objective value: [1.870506853281511].\n"
     ]
    },
    {
     "name": "stderr",
     "output_type": "stream",
     "text": [
      "\r",
      " 39%|██████████████████████████████▌                                                | 387/1000 [06:27<13:20,  1.31s/it]"
     ]
    },
    {
     "name": "stdout",
     "output_type": "stream",
     "text": [
      "\t ----- reward: -1.870506853281511 for f_star and f_minus: 0.21068871158260224 , 1.870506853281511\n",
      "\t ---------- State is:  (0, 1)\n",
      "[INFO] [2023-04-11 16:54:46,523] [OpenBox-SPO] Iteration 388, objective value: [1.0214886740737226].\n"
     ]
    },
    {
     "name": "stderr",
     "output_type": "stream",
     "text": [
      "\r",
      " 39%|██████████████████████████████▋                                                | 388/1000 [06:29<13:02,  1.28s/it]"
     ]
    },
    {
     "name": "stdout",
     "output_type": "stream",
     "text": [
      "\t ----- reward: -1.0214886740737226 for f_star and f_minus: 0.21068871158260224 , 1.0214886740737226\n",
      "\t ---------- State is:  (1, 1)\n",
      "[INFO] [2023-04-11 16:54:47,816] [OpenBox-SPO] Iteration 389, objective value: [0.5646450299984669].\n"
     ]
    },
    {
     "name": "stderr",
     "output_type": "stream",
     "text": [
      "\r",
      " 39%|██████████████████████████████▋                                                | 389/1000 [06:30<13:03,  1.28s/it]"
     ]
    },
    {
     "name": "stdout",
     "output_type": "stream",
     "text": [
      "\t ----- reward: -0.5646450299984669 for f_star and f_minus: 0.21068871158260224 , 0.5646450299984669\n",
      "\t ---------- State is:  (1, 0)\n",
      "[INFO] [2023-04-11 16:54:47,816] [Advisor] Sample random config. rand_prob=0.100000.\n",
      "[INFO] [2023-04-11 16:54:47,816] [OpenBox-SPO] Iteration 390, objective value: [1.4963571089547105].\n",
      "\t ----- reward: -1.4963571089547105 for f_star and f_minus: 0.21068871158260224 , 1.4963571089547105\n",
      "\t ---------- State is:  (2, 0)\n",
      "[INFO] [2023-04-11 16:54:49,190] [OpenBox-SPO] Iteration 391, objective value: [1.0942920474541182].\n"
     ]
    },
    {
     "name": "stderr",
     "output_type": "stream",
     "text": [
      "\r",
      " 39%|██████████████████████████████▉                                                | 391/1000 [06:31<10:13,  1.01s/it]"
     ]
    },
    {
     "name": "stdout",
     "output_type": "stream",
     "text": [
      "\t ----- reward: -1.0942920474541182 for f_star and f_minus: 0.21068871158260224 , 1.0942920474541182\n",
      "\t ---------- State is:  (3, 0)\n",
      "[INFO] [2023-04-11 16:54:50,351] [OpenBox-SPO] Iteration 392, objective value: [1.7950094469423026].\n"
     ]
    },
    {
     "name": "stderr",
     "output_type": "stream",
     "text": [
      "\r",
      " 39%|██████████████████████████████▉                                                | 392/1000 [06:32<10:35,  1.05s/it]"
     ]
    },
    {
     "name": "stdout",
     "output_type": "stream",
     "text": [
      "\t ----- reward: -1.7950094469423026 for f_star and f_minus: 0.21068871158260224 , 1.7950094469423026\n",
      "\t ---------- State is:  (4, 0)\n",
      "[INFO] [2023-04-11 16:54:51,601] [OpenBox-SPO] Iteration 393, objective value: [0.22993893146115776].\n"
     ]
    },
    {
     "name": "stderr",
     "output_type": "stream",
     "text": [
      "\r",
      " 39%|███████████████████████████████                                                | 393/1000 [06:34<11:07,  1.10s/it]"
     ]
    },
    {
     "name": "stdout",
     "output_type": "stream",
     "text": [
      "\t ----- reward: -0.22993893146115776 for f_star and f_minus: 0.21068871158260224 , 0.22993893146115776\n",
      "\t ---------- State is:  (5, 0)\n",
      "[INFO] [2023-04-11 16:54:53,171] [OpenBox-SPO] Iteration 394, objective value: [0.30502349114741556].\n"
     ]
    },
    {
     "name": "stderr",
     "output_type": "stream",
     "text": [
      "\r",
      " 39%|███████████████████████████████▏                                               | 394/1000 [06:35<12:23,  1.23s/it]"
     ]
    },
    {
     "name": "stdout",
     "output_type": "stream",
     "text": [
      "\t ----- reward: -0.30502349114741556 for f_star and f_minus: 0.21068871158260224 , 0.30502349114741556\n",
      "\t ---------- State is:  (5, 0)\n",
      "[INFO] [2023-04-11 16:54:53,171] [Advisor] Sample random config. rand_prob=0.100000.\n",
      "[INFO] [2023-04-11 16:54:53,171] [OpenBox-SPO] Iteration 395, objective value: [0.2792722168388751].\n",
      "\t ----- reward: -0.2792722168388751 for f_star and f_minus: 0.21068871158260224 , 0.2792722168388751\n",
      "\t ---------- State is:  (4, 0)\n",
      "[INFO] [2023-04-11 16:54:54,504] [OpenBox-SPO] Iteration 396, objective value: [1.5483952684514581].\n"
     ]
    },
    {
     "name": "stderr",
     "output_type": "stream",
     "text": [
      "\r",
      " 40%|███████████████████████████████▎                                               | 396/1000 [06:37<09:53,  1.02it/s]"
     ]
    },
    {
     "name": "stdout",
     "output_type": "stream",
     "text": [
      "\t ----- reward: -1.5483952684514581 for f_star and f_minus: 0.21068871158260224 , 1.5483952684514581\n",
      "\t ---------- State is:  (5, 0)\n",
      "[INFO] [2023-04-11 16:54:56,105] [OpenBox-SPO] Iteration 397, objective value: [0.2345498610552653].\n"
     ]
    },
    {
     "name": "stderr",
     "output_type": "stream",
     "text": [
      "\r",
      " 40%|███████████████████████████████▎                                               | 397/1000 [06:38<11:20,  1.13s/it]"
     ]
    },
    {
     "name": "stdout",
     "output_type": "stream",
     "text": [
      "\t ----- reward: -0.2345498610552653 for f_star and f_minus: 0.21068871158260224 , 0.2345498610552653\n",
      "\t ---------- State is:  (4, 0)\n",
      "[INFO] [2023-04-11 16:54:57,289] [OpenBox-SPO] Iteration 398, objective value: [1.0401844628699843].\n"
     ]
    },
    {
     "name": "stderr",
     "output_type": "stream",
     "text": [
      "\r",
      " 40%|███████████████████████████████▍                                               | 398/1000 [06:39<11:28,  1.14s/it]"
     ]
    },
    {
     "name": "stdout",
     "output_type": "stream",
     "text": [
      "\t ----- reward: -1.0401844628699843 for f_star and f_minus: 0.21068871158260224 , 1.0401844628699843\n",
      "\t ---------- State is:  (4, 0)\n",
      "[INFO] [2023-04-11 16:54:58,654] [OpenBox-SPO] Iteration 399, objective value: [0.23440354020350473].\n"
     ]
    },
    {
     "name": "stderr",
     "output_type": "stream",
     "text": [
      "\r",
      " 40%|███████████████████████████████▌                                               | 399/1000 [06:41<12:02,  1.20s/it]"
     ]
    },
    {
     "name": "stdout",
     "output_type": "stream",
     "text": [
      "\t ----- reward: -0.23440354020350473 for f_star and f_minus: 0.21068871158260224 , 0.23440354020350473\n",
      "\t ---------- State is:  (3, 0)\n",
      "[INFO] [2023-04-11 16:55:00,092] [OpenBox-SPO] Iteration 400, objective value: [1.2548681330686773].\n"
     ]
    },
    {
     "name": "stderr",
     "output_type": "stream",
     "text": [
      "\r",
      " 40%|███████████████████████████████▌                                               | 400/1000 [06:42<12:40,  1.27s/it]"
     ]
    },
    {
     "name": "stdout",
     "output_type": "stream",
     "text": [
      "\t ----- reward: -1.2548681330686773 for f_star and f_minus: 0.21068871158260224 , 1.2548681330686773\n",
      "\t ---------- State is:  (3, 0)\n",
      "[INFO] [2023-04-11 16:55:01,708] [OpenBox-SPO] Iteration 401, objective value: [0.6856061563102875].\n"
     ]
    },
    {
     "name": "stderr",
     "output_type": "stream",
     "text": [
      "\r",
      " 40%|███████████████████████████████▋                                               | 401/1000 [06:44<13:38,  1.37s/it]"
     ]
    },
    {
     "name": "stdout",
     "output_type": "stream",
     "text": [
      "\t ----- reward: -0.6856061563102875 for f_star and f_minus: 0.21068871158260224 , 0.6856061563102875\n",
      "\t ---------- State is:  (2, 0)\n",
      "[INFO] [2023-04-11 16:55:03,043] [OpenBox-SPO] Iteration 402, objective value: [0.5614341394700242].\n"
     ]
    },
    {
     "name": "stderr",
     "output_type": "stream",
     "text": [
      "\r",
      " 40%|███████████████████████████████▊                                               | 402/1000 [06:45<13:31,  1.36s/it]"
     ]
    },
    {
     "name": "stdout",
     "output_type": "stream",
     "text": [
      "\t ----- reward: -0.5614341394700242 for f_star and f_minus: 0.21068871158260224 , 0.5614341394700242\n",
      "\t ---------- State is:  (3, 0)\n",
      "[INFO] [2023-04-11 16:55:04,119] [OpenBox-SPO] Iteration 403, objective value: [0.3170158263327569].\n"
     ]
    },
    {
     "name": "stderr",
     "output_type": "stream",
     "text": [
      "\r",
      " 40%|███████████████████████████████▊                                               | 403/1000 [06:46<12:41,  1.28s/it]"
     ]
    },
    {
     "name": "stdout",
     "output_type": "stream",
     "text": [
      "\t ----- reward: -0.3170158263327569 for f_star and f_minus: 0.21068871158260224 , 0.3170158263327569\n",
      "\t ---------- State is:  (2, 0)\n",
      "[INFO] [2023-04-11 16:55:05,407] [OpenBox-SPO] Iteration 404, objective value: [0.2709042171174199].\n"
     ]
    },
    {
     "name": "stderr",
     "output_type": "stream",
     "text": [
      "\r",
      " 40%|███████████████████████████████▉                                               | 404/1000 [06:47<12:42,  1.28s/it]"
     ]
    },
    {
     "name": "stdout",
     "output_type": "stream",
     "text": [
      "\t ----- reward: -0.2709042171174199 for f_star and f_minus: 0.21068871158260224 , 0.2709042171174199\n",
      "\t ---------- State is:  (3, 0)\n",
      "[INFO] [2023-04-11 16:55:06,751] [OpenBox-SPO] Iteration 405, objective value: [0.21259219737988463].\n"
     ]
    },
    {
     "name": "stderr",
     "output_type": "stream",
     "text": [
      "\r",
      " 40%|███████████████████████████████▉                                               | 405/1000 [06:49<12:52,  1.30s/it]"
     ]
    },
    {
     "name": "stdout",
     "output_type": "stream",
     "text": [
      "\t ----- reward: -0.21259219737988463 for f_star and f_minus: 0.21068871158260224 , 0.21259219737988463\n",
      "\t ---------- State is:  (2, 0)\n",
      "[INFO] [2023-04-11 16:55:06,751] [Advisor] Sample random config. rand_prob=0.100000.\n",
      "[INFO] [2023-04-11 16:55:06,751] [OpenBox-SPO] Iteration 406, objective value: [1.2353901954374948].\n",
      "\t ----- reward: -1.2353901954374948 for f_star and f_minus: 0.21068871158260224 , 1.2353901954374948\n",
      "\t ---------- State is:  (3, 0)\n",
      "[INFO] [2023-04-11 16:55:08,152] [OpenBox-SPO] Iteration 407, objective value: [0.296518886244814].\n"
     ]
    },
    {
     "name": "stderr",
     "output_type": "stream",
     "text": [
      "\r",
      " 41%|████████████████████████████████▏                                              | 407/1000 [06:50<10:07,  1.02s/it]"
     ]
    },
    {
     "name": "stdout",
     "output_type": "stream",
     "text": [
      "\t ----- reward: -0.296518886244814 for f_star and f_minus: 0.21068871158260224 , 0.296518886244814\n",
      "\t ---------- State is:  (2, 0)\n",
      "[INFO] [2023-04-11 16:55:09,245] [OpenBox-SPO] Iteration 408, objective value: [0.7137964110308871].\n"
     ]
    },
    {
     "name": "stderr",
     "output_type": "stream",
     "text": [
      "\r",
      " 41%|████████████████████████████████▏                                              | 408/1000 [06:51<10:16,  1.04s/it]"
     ]
    },
    {
     "name": "stdout",
     "output_type": "stream",
     "text": [
      "\t ----- reward: -0.7137964110308871 for f_star and f_minus: 0.21068871158260224 , 0.7137964110308871\n",
      "\t ---------- State is:  (1, 0)\n",
      "[INFO] [2023-04-11 16:55:10,532] [OpenBox-SPO] Iteration 409, objective value: [1.4755974374660867].\n"
     ]
    },
    {
     "name": "stderr",
     "output_type": "stream",
     "text": [
      "\r",
      " 41%|████████████████████████████████▎                                              | 409/1000 [06:53<10:53,  1.11s/it]"
     ]
    },
    {
     "name": "stdout",
     "output_type": "stream",
     "text": [
      "\t ----- reward: -1.4755974374660867 for f_star and f_minus: 0.21068871158260224 , 1.4755974374660867\n",
      "\t ---------- State is:  (2, 0)\n",
      "[INFO] [2023-04-11 16:55:12,022] [OpenBox-SPO] Iteration 410, objective value: [0.2371081435512783].\n"
     ]
    },
    {
     "name": "stderr",
     "output_type": "stream",
     "text": [
      "\r",
      " 41%|████████████████████████████████▍                                              | 410/1000 [06:54<11:53,  1.21s/it]"
     ]
    },
    {
     "name": "stdout",
     "output_type": "stream",
     "text": [
      "\t ----- reward: -0.2371081435512783 for f_star and f_minus: 0.21068871158260224 , 0.2371081435512783\n",
      "\t ---------- State is:  (3, 0)\n",
      "[INFO] [2023-04-11 16:55:13,450] [OpenBox-SPO] Iteration 411, objective value: [1.150931397700952].\n"
     ]
    },
    {
     "name": "stderr",
     "output_type": "stream",
     "text": [
      "\r",
      " 41%|████████████████████████████████▍                                              | 411/1000 [06:55<12:28,  1.27s/it]"
     ]
    },
    {
     "name": "stdout",
     "output_type": "stream",
     "text": [
      "\t ----- reward: -1.150931397700952 for f_star and f_minus: 0.21068871158260224 , 1.150931397700952\n",
      "\t ---------- State is:  (2, 0)\n",
      "[INFO] [2023-04-11 16:55:15,129] [OpenBox-SPO] Iteration 412, objective value: [1.1455535364472353].\n"
     ]
    },
    {
     "name": "stderr",
     "output_type": "stream",
     "text": [
      "\r",
      " 41%|████████████████████████████████▌                                              | 412/1000 [06:57<13:35,  1.39s/it]"
     ]
    },
    {
     "name": "stdout",
     "output_type": "stream",
     "text": [
      "\t ----- reward: -1.1455535364472353 for f_star and f_minus: 0.21068871158260224 , 1.1455535364472353\n",
      "\t ---------- State is:  (3, 0)\n",
      "[INFO] [2023-04-11 16:55:16,619] [OpenBox-SPO] Iteration 413, objective value: [0.40515951182321724].\n"
     ]
    },
    {
     "name": "stderr",
     "output_type": "stream",
     "text": [
      "\r",
      " 41%|████████████████████████████████▋                                              | 413/1000 [06:59<13:51,  1.42s/it]"
     ]
    },
    {
     "name": "stdout",
     "output_type": "stream",
     "text": [
      "\t ----- reward: -0.40515951182321724 for f_star and f_minus: 0.21068871158260224 , 0.40515951182321724\n",
      "\t ---------- State is:  (2, 0)\n",
      "[INFO] [2023-04-11 16:55:17,905] [OpenBox-SPO] Iteration 414, objective value: [0.1763595164209811].\n"
     ]
    },
    {
     "name": "stderr",
     "output_type": "stream",
     "text": [
      "\r",
      " 41%|████████████████████████████████▋                                              | 414/1000 [07:00<13:27,  1.38s/it]"
     ]
    },
    {
     "name": "stdout",
     "output_type": "stream",
     "text": [
      "\t ----- reward: -0.1763595164209811 for f_star and f_minus: 0.21068871158260224 , 0.1763595164209811\n",
      "\t ---------- State is:  (3, 0)\n",
      "[INFO] [2023-04-11 16:55:19,348] [OpenBox-SPO] Iteration 415, objective value: [0.9285445292668623].\n"
     ]
    },
    {
     "name": "stderr",
     "output_type": "stream",
     "text": [
      "\r",
      " 42%|████████████████████████████████▊                                              | 415/1000 [07:01<13:37,  1.40s/it]"
     ]
    },
    {
     "name": "stdout",
     "output_type": "stream",
     "text": [
      "\t ----- reward: -0.9285445292668623 for f_star and f_minus: 0.1763595164209811 , 0.9285445292668623\n",
      "\t ---------- State is:  (3, 0)\n",
      "[INFO] [2023-04-11 16:55:20,777] [OpenBox-SPO] Iteration 416, objective value: [1.2214105686586028].\n"
     ]
    },
    {
     "name": "stderr",
     "output_type": "stream",
     "text": [
      "\r",
      " 42%|████████████████████████████████▊                                              | 416/1000 [07:03<13:41,  1.41s/it]"
     ]
    },
    {
     "name": "stdout",
     "output_type": "stream",
     "text": [
      "\t ----- reward: -1.2214105686586028 for f_star and f_minus: 0.1763595164209811 , 1.2214105686586028\n",
      "\t ---------- State is:  (2, 0)\n",
      "[INFO] [2023-04-11 16:55:22,126] [OpenBox-SPO] Iteration 417, objective value: [1.1680184831595923].\n"
     ]
    },
    {
     "name": "stderr",
     "output_type": "stream",
     "text": [
      "\r",
      " 42%|████████████████████████████████▉                                              | 417/1000 [07:04<13:30,  1.39s/it]"
     ]
    },
    {
     "name": "stdout",
     "output_type": "stream",
     "text": [
      "\t ----- reward: -1.1680184831595923 for f_star and f_minus: 0.1763595164209811 , 1.1680184831595923\n",
      "\t ---------- State is:  (3, 0)\n",
      "[INFO] [2023-04-11 16:55:22,126] [Advisor] Sample random config. rand_prob=0.100000.\n",
      "[INFO] [2023-04-11 16:55:22,126] [OpenBox-SPO] Iteration 418, objective value: [1.7604801591566737].\n",
      "\t ----- reward: -1.7604801591566737 for f_star and f_minus: 0.1763595164209811 , 1.7604801591566737\n",
      "\t ---------- State is:  (2, 0)\n",
      "[INFO] [2023-04-11 16:55:23,382] [OpenBox-SPO] Iteration 419, objective value: [1.5947474187560737].\n"
     ]
    },
    {
     "name": "stderr",
     "output_type": "stream",
     "text": [
      "\r",
      " 42%|█████████████████████████████████                                              | 419/1000 [07:05<10:04,  1.04s/it]"
     ]
    },
    {
     "name": "stdout",
     "output_type": "stream",
     "text": [
      "\t ----- reward: -1.5947474187560737 for f_star and f_minus: 0.1763595164209811 , 1.5947474187560737\n",
      "\t ---------- State is:  (3, 0)\n",
      "[INFO] [2023-04-11 16:55:24,652] [OpenBox-SPO] Iteration 420, objective value: [0.18981858871884688].\n"
     ]
    },
    {
     "name": "stderr",
     "output_type": "stream",
     "text": [
      "\r",
      " 42%|█████████████████████████████████▏                                             | 420/1000 [07:07<10:36,  1.10s/it]"
     ]
    },
    {
     "name": "stdout",
     "output_type": "stream",
     "text": [
      "\t ----- reward: -0.18981858871884688 for f_star and f_minus: 0.1763595164209811 , 0.18981858871884688\n",
      "\t ---------- State is:  (3, 0)\n",
      "[INFO] [2023-04-11 16:55:26,519] [OpenBox-SPO] Iteration 421, objective value: [1.007960901024696].\n"
     ]
    },
    {
     "name": "stderr",
     "output_type": "stream",
     "text": [
      "\r",
      " 42%|█████████████████████████████████▎                                             | 421/1000 [07:09<12:31,  1.30s/it]"
     ]
    },
    {
     "name": "stdout",
     "output_type": "stream",
     "text": [
      "\t ----- reward: -1.007960901024696 for f_star and f_minus: 0.1763595164209811 , 1.007960901024696\n",
      "\t ---------- State is:  (3, 0)\n",
      "[INFO] [2023-04-11 16:55:27,695] [OpenBox-SPO] Iteration 422, objective value: [1.0794224083161976].\n"
     ]
    },
    {
     "name": "stderr",
     "output_type": "stream",
     "text": [
      "\r",
      " 42%|█████████████████████████████████▎                                             | 422/1000 [07:10<12:10,  1.26s/it]"
     ]
    },
    {
     "name": "stdout",
     "output_type": "stream",
     "text": [
      "\t ----- reward: -1.0794224083161976 for f_star and f_minus: 0.1763595164209811 , 1.0794224083161976\n",
      "\t ---------- State is:  (3, 0)\n",
      "[INFO] [2023-04-11 16:55:28,935] [OpenBox-SPO] Iteration 423, objective value: [1.243151532668752].\n"
     ]
    },
    {
     "name": "stderr",
     "output_type": "stream",
     "text": [
      "\r",
      " 42%|█████████████████████████████████▍                                             | 423/1000 [07:11<12:05,  1.26s/it]"
     ]
    },
    {
     "name": "stdout",
     "output_type": "stream",
     "text": [
      "\t ----- reward: -1.243151532668752 for f_star and f_minus: 0.1763595164209811 , 1.243151532668752\n",
      "\t ---------- State is:  (3, 0)\n",
      "[INFO] [2023-04-11 16:55:30,252] [OpenBox-SPO] Iteration 424, objective value: [1.4994186191475163].\n"
     ]
    },
    {
     "name": "stderr",
     "output_type": "stream",
     "text": [
      "\r",
      " 42%|█████████████████████████████████▍                                             | 424/1000 [07:12<12:14,  1.27s/it]"
     ]
    },
    {
     "name": "stdout",
     "output_type": "stream",
     "text": [
      "\t ----- reward: -1.4994186191475163 for f_star and f_minus: 0.1763595164209811 , 1.4994186191475163\n",
      "\t ---------- State is:  (3, 0)\n",
      "[INFO] [2023-04-11 16:55:30,252] [Advisor] Sample random config. rand_prob=0.100000.\n",
      "[INFO] [2023-04-11 16:55:30,252] [OpenBox-SPO] Iteration 425, objective value: [1.0185005423196585].\n",
      "\t ----- reward: -1.0185005423196585 for f_star and f_minus: 0.1763595164209811 , 1.0185005423196585\n",
      "\t ---------- State is:  (2, 0)\n",
      "[INFO] [2023-04-11 16:55:31,585] [OpenBox-SPO] Iteration 426, objective value: [1.0623253387354261].\n"
     ]
    },
    {
     "name": "stderr",
     "output_type": "stream",
     "text": [
      "\r",
      " 43%|█████████████████████████████████▋                                             | 426/1000 [07:14<09:34,  1.00s/it]"
     ]
    },
    {
     "name": "stdout",
     "output_type": "stream",
     "text": [
      "\t ----- reward: -1.0623253387354261 for f_star and f_minus: 0.1763595164209811 , 1.0623253387354261\n",
      "\t ---------- State is:  (1, 0)\n",
      "[INFO] [2023-04-11 16:55:33,170] [OpenBox-SPO] Iteration 427, objective value: [1.3537988700242427].\n"
     ]
    },
    {
     "name": "stderr",
     "output_type": "stream",
     "text": [
      "\r",
      " 43%|█████████████████████████████████▋                                             | 427/1000 [07:15<10:55,  1.14s/it]"
     ]
    },
    {
     "name": "stdout",
     "output_type": "stream",
     "text": [
      "\t ----- reward: -1.3537988700242427 for f_star and f_minus: 0.1763595164209811 , 1.3537988700242427\n",
      "\t ---------- State is:  (1, 0)\n",
      "[INFO] [2023-04-11 16:55:34,676] [OpenBox-SPO] Iteration 428, objective value: [2.9322444167176243].\n"
     ]
    },
    {
     "name": "stderr",
     "output_type": "stream",
     "text": [
      "\r",
      " 43%|█████████████████████████████████▊                                             | 428/1000 [07:17<11:47,  1.24s/it]"
     ]
    },
    {
     "name": "stdout",
     "output_type": "stream",
     "text": [
      "\t ----- reward: -2.9322444167176243 for f_star and f_minus: 0.1763595164209811 , 2.9322444167176243\n",
      "\t ---------- State is:  (2, 0)\n",
      "[INFO] [2023-04-11 16:55:35,883] [OpenBox-SPO] Iteration 429, objective value: [0.5453551287664464].\n"
     ]
    },
    {
     "name": "stderr",
     "output_type": "stream",
     "text": [
      "\r",
      " 43%|█████████████████████████████████▉                                             | 429/1000 [07:18<11:41,  1.23s/it]"
     ]
    },
    {
     "name": "stdout",
     "output_type": "stream",
     "text": [
      "\t ----- reward: -0.5453551287664464 for f_star and f_minus: 0.1763595164209811 , 0.5453551287664464\n",
      "\t ---------- State is:  (1, 0)\n",
      "[INFO] [2023-04-11 16:55:35,883] [Advisor] Sample random config. rand_prob=0.100000.\n",
      "[INFO] [2023-04-11 16:55:35,883] [OpenBox-SPO] Iteration 430, objective value: [1.7426912426632488].\n",
      "\t ----- reward: -1.7426912426632488 for f_star and f_minus: 0.1763595164209811 , 1.7426912426632488\n",
      "\t ---------- State is:  (1, 0)\n",
      "[INFO] [2023-04-11 16:55:37,405] [OpenBox-SPO] Iteration 431, objective value: [2.507143645169211].\n"
     ]
    },
    {
     "name": "stderr",
     "output_type": "stream",
     "text": [
      "\r",
      " 43%|██████████████████████████████████                                             | 431/1000 [07:19<09:43,  1.03s/it]"
     ]
    },
    {
     "name": "stdout",
     "output_type": "stream",
     "text": [
      "\t ----- reward: -2.507143645169211 for f_star and f_minus: 0.1763595164209811 , 2.507143645169211\n",
      "\t ---------- State is:  (0, 0)\n",
      "[INFO] [2023-04-11 16:55:38,582] [OpenBox-SPO] Iteration 432, objective value: [1.6432969837983364].\n"
     ]
    },
    {
     "name": "stderr",
     "output_type": "stream",
     "text": [
      "\r",
      " 43%|██████████████████████████████████▏                                            | 432/1000 [07:21<10:02,  1.06s/it]"
     ]
    },
    {
     "name": "stdout",
     "output_type": "stream",
     "text": [
      "\t ----- reward: -1.6432969837983364 for f_star and f_minus: 0.1763595164209811 , 1.6432969837983364\n",
      "\t ---------- State is:  (0, 1)\n",
      "[INFO] [2023-04-11 16:55:39,916] [OpenBox-SPO] Iteration 433, objective value: [0.19572699230285537].\n"
     ]
    },
    {
     "name": "stderr",
     "output_type": "stream",
     "text": [
      "\r",
      " 43%|██████████████████████████████████▏                                            | 433/1000 [07:22<10:43,  1.13s/it]"
     ]
    },
    {
     "name": "stdout",
     "output_type": "stream",
     "text": [
      "\t ----- reward: -0.19572699230285537 for f_star and f_minus: 0.1763595164209811 , 0.19572699230285537\n",
      "\t ---------- State is:  (0, 1)\n",
      "[INFO] [2023-04-11 16:55:41,187] [OpenBox-SPO] Iteration 434, objective value: [2.0270195658691144].\n"
     ]
    },
    {
     "name": "stderr",
     "output_type": "stream",
     "text": [
      "\r",
      " 43%|██████████████████████████████████▎                                            | 434/1000 [07:23<11:00,  1.17s/it]"
     ]
    },
    {
     "name": "stdout",
     "output_type": "stream",
     "text": [
      "\t ----- reward: -2.0270195658691144 for f_star and f_minus: 0.1763595164209811 , 2.0270195658691144\n",
      "\t ---------- State is:  (0, 1)\n",
      "[INFO] [2023-04-11 16:55:42,834] [OpenBox-SPO] Iteration 435, objective value: [1.2499143725460773].\n"
     ]
    },
    {
     "name": "stderr",
     "output_type": "stream",
     "text": [
      "\r",
      " 44%|██████████████████████████████████▎                                            | 435/1000 [07:25<12:13,  1.30s/it]"
     ]
    },
    {
     "name": "stdout",
     "output_type": "stream",
     "text": [
      "\t ----- reward: -1.2499143725460773 for f_star and f_minus: 0.1763595164209811 , 1.2499143725460773\n",
      "\t ---------- State is:  (0, 1)\n",
      "[INFO] [2023-04-11 16:55:44,340] [OpenBox-SPO] Iteration 436, objective value: [1.746239318720514].\n"
     ]
    },
    {
     "name": "stderr",
     "output_type": "stream",
     "text": [
      "\r",
      " 44%|██████████████████████████████████▍                                            | 436/1000 [07:26<12:45,  1.36s/it]"
     ]
    },
    {
     "name": "stdout",
     "output_type": "stream",
     "text": [
      "\t ----- reward: -1.746239318720514 for f_star and f_minus: 0.1763595164209811 , 1.746239318720514\n",
      "\t ---------- State is:  (1, 1)\n",
      "[INFO] [2023-04-11 16:55:45,720] [OpenBox-SPO] Iteration 437, objective value: [1.2108811893796734].\n"
     ]
    },
    {
     "name": "stderr",
     "output_type": "stream",
     "text": [
      "\r",
      " 44%|██████████████████████████████████▌                                            | 437/1000 [07:28<12:47,  1.36s/it]"
     ]
    },
    {
     "name": "stdout",
     "output_type": "stream",
     "text": [
      "\t ----- reward: -1.2108811893796734 for f_star and f_minus: 0.1763595164209811 , 1.2108811893796734\n",
      "\t ---------- State is:  (1, 1)\n",
      "[INFO] [2023-04-11 16:55:45,720] [Advisor] Sample random config. rand_prob=0.100000.\n",
      "[INFO] [2023-04-11 16:55:45,720] [OpenBox-SPO] Iteration 438, objective value: [1.7055103798513904].\n",
      "\t ----- reward: -1.7055103798513904 for f_star and f_minus: 0.1763595164209811 , 1.7055103798513904\n",
      "\t ---------- State is:  (2, 1)\n",
      "[INFO] [2023-04-11 16:55:47,022] [OpenBox-SPO] Iteration 439, objective value: [1.3714616937353508].\n"
     ]
    },
    {
     "name": "stderr",
     "output_type": "stream",
     "text": [
      "\r",
      " 44%|██████████████████████████████████▋                                            | 439/1000 [07:29<09:44,  1.04s/it]"
     ]
    },
    {
     "name": "stdout",
     "output_type": "stream",
     "text": [
      "\t ----- reward: -1.3714616937353508 for f_star and f_minus: 0.1763595164209811 , 1.3714616937353508\n",
      "\t ---------- State is:  (2, 1)\n",
      "[INFO] [2023-04-11 16:55:48,356] [OpenBox-SPO] Iteration 440, objective value: [1.093429856988108].\n"
     ]
    },
    {
     "name": "stderr",
     "output_type": "stream",
     "text": [
      "\r",
      " 44%|██████████████████████████████████▊                                            | 440/1000 [07:30<10:23,  1.11s/it]"
     ]
    },
    {
     "name": "stdout",
     "output_type": "stream",
     "text": [
      "\t ----- reward: -1.093429856988108 for f_star and f_minus: 0.1763595164209811 , 1.093429856988108\n",
      "\t ---------- State is:  (1, 1)\n",
      "[INFO] [2023-04-11 16:55:48,356] [Advisor] Sample random config. rand_prob=0.100000.\n",
      "[INFO] [2023-04-11 16:55:48,356] [OpenBox-SPO] Iteration 441, objective value: [1.5345582934148676].\n",
      "\t ----- reward: -1.5345582934148676 for f_star and f_minus: 0.1763595164209811 , 1.5345582934148676\n",
      "\t ---------- State is:  (1, 1)\n",
      "[INFO] [2023-04-11 16:55:49,909] [OpenBox-SPO] Iteration 442, objective value: [0.317187576862342].\n"
     ]
    },
    {
     "name": "stderr",
     "output_type": "stream",
     "text": [
      "\r",
      " 44%|██████████████████████████████████▉                                            | 442/1000 [07:32<09:04,  1.03it/s]"
     ]
    },
    {
     "name": "stdout",
     "output_type": "stream",
     "text": [
      "\t ----- reward: -0.317187576862342 for f_star and f_minus: 0.1763595164209811 , 0.317187576862342\n",
      "\t ---------- State is:  (0, 1)\n",
      "[INFO] [2023-04-11 16:55:51,463] [OpenBox-SPO] Iteration 443, objective value: [0.66095141428993].\n"
     ]
    },
    {
     "name": "stderr",
     "output_type": "stream",
     "text": [
      "\r",
      " 44%|██████████████████████████████████▉                                            | 443/1000 [07:34<10:16,  1.11s/it]"
     ]
    },
    {
     "name": "stdout",
     "output_type": "stream",
     "text": [
      "\t ----- reward: -0.66095141428993 for f_star and f_minus: 0.1763595164209811 , 0.66095141428993\n",
      "\t ---------- State is:  (0, 1)\n",
      "[INFO] [2023-04-11 16:55:52,954] [OpenBox-SPO] Iteration 444, objective value: [1.06142087437069].\n"
     ]
    },
    {
     "name": "stderr",
     "output_type": "stream",
     "text": [
      "\r",
      " 44%|███████████████████████████████████                                            | 444/1000 [07:35<11:07,  1.20s/it]"
     ]
    },
    {
     "name": "stdout",
     "output_type": "stream",
     "text": [
      "\t ----- reward: -1.06142087437069 for f_star and f_minus: 0.1763595164209811 , 1.06142087437069\n",
      "\t ---------- State is:  (0, 1)\n",
      "[INFO] [2023-04-11 16:55:54,284] [OpenBox-SPO] Iteration 445, objective value: [1.0419488919144155].\n"
     ]
    },
    {
     "name": "stderr",
     "output_type": "stream",
     "text": [
      "\r",
      " 44%|███████████████████████████████████▏                                           | 445/1000 [07:36<11:24,  1.23s/it]"
     ]
    },
    {
     "name": "stdout",
     "output_type": "stream",
     "text": [
      "\t ----- reward: -1.0419488919144155 for f_star and f_minus: 0.1763595164209811 , 1.0419488919144155\n",
      "\t ---------- State is:  (0, 1)\n",
      "[INFO] [2023-04-11 16:55:55,595] [OpenBox-SPO] Iteration 446, objective value: [1.1738400764201542].\n"
     ]
    },
    {
     "name": "stderr",
     "output_type": "stream",
     "text": [
      "\r",
      " 45%|███████████████████████████████████▏                                           | 446/1000 [07:38<11:35,  1.25s/it]"
     ]
    },
    {
     "name": "stdout",
     "output_type": "stream",
     "text": [
      "\t ----- reward: -1.1738400764201542 for f_star and f_minus: 0.1763595164209811 , 1.1738400764201542\n",
      "\t ---------- State is:  (0, 1)\n",
      "[INFO] [2023-04-11 16:55:57,089] [OpenBox-SPO] Iteration 447, objective value: [0.2222258390794615].\n"
     ]
    },
    {
     "name": "stderr",
     "output_type": "stream",
     "text": [
      "\r",
      " 45%|███████████████████████████████████▎                                           | 447/1000 [07:39<12:10,  1.32s/it]"
     ]
    },
    {
     "name": "stdout",
     "output_type": "stream",
     "text": [
      "\t ----- reward: -0.2222258390794615 for f_star and f_minus: 0.1763595164209811 , 0.2222258390794615\n",
      "\t ---------- State is:  (1, 1)\n",
      "[INFO] [2023-04-11 16:55:58,744] [OpenBox-SPO] Iteration 448, objective value: [1.2800561020232812].\n"
     ]
    },
    {
     "name": "stderr",
     "output_type": "stream",
     "text": [
      "\r",
      " 45%|███████████████████████████████████▍                                           | 448/1000 [07:41<13:01,  1.42s/it]"
     ]
    },
    {
     "name": "stdout",
     "output_type": "stream",
     "text": [
      "\t ----- reward: -1.2800561020232812 for f_star and f_minus: 0.1763595164209811 , 1.2800561020232812\n",
      "\t ---------- State is:  (0, 1)\n",
      "[INFO] [2023-04-11 16:56:00,310] [OpenBox-SPO] Iteration 449, objective value: [0.6190454323791742].\n"
     ]
    },
    {
     "name": "stderr",
     "output_type": "stream",
     "text": [
      "\r",
      " 45%|███████████████████████████████████▍                                           | 449/1000 [07:42<13:24,  1.46s/it]"
     ]
    },
    {
     "name": "stdout",
     "output_type": "stream",
     "text": [
      "\t ----- reward: -0.6190454323791742 for f_star and f_minus: 0.1763595164209811 , 0.6190454323791742\n",
      "\t ---------- State is:  (1, 1)\n",
      "[INFO] [2023-04-11 16:56:01,656] [OpenBox-SPO] Iteration 450, objective value: [1.0132285434988941].\n"
     ]
    },
    {
     "name": "stderr",
     "output_type": "stream",
     "text": [
      "\r",
      " 45%|███████████████████████████████████▌                                           | 450/1000 [07:44<13:04,  1.43s/it]"
     ]
    },
    {
     "name": "stdout",
     "output_type": "stream",
     "text": [
      "\t ----- reward: -1.0132285434988941 for f_star and f_minus: 0.1763595164209811 , 1.0132285434988941\n",
      "\t ---------- State is:  (0, 1)\n",
      "[INFO] [2023-04-11 16:56:01,656] [Advisor] Sample random config. rand_prob=0.100000.\n",
      "[INFO] [2023-04-11 16:56:01,656] [OpenBox-SPO] Iteration 451, objective value: [0.856924253927359].\n",
      "\t ----- reward: -0.856924253927359 for f_star and f_minus: 0.1763595164209811 , 0.856924253927359\n",
      "\t ---------- State is:  (1, 0)\n",
      "[INFO] [2023-04-11 16:56:03,208] [OpenBox-SPO] Iteration 452, objective value: [1.4202793632359114].\n"
     ]
    },
    {
     "name": "stderr",
     "output_type": "stream",
     "text": [
      "\r",
      " 45%|███████████████████████████████████▋                                           | 452/1000 [07:45<10:19,  1.13s/it]"
     ]
    },
    {
     "name": "stdout",
     "output_type": "stream",
     "text": [
      "\t ----- reward: -1.4202793632359114 for f_star and f_minus: 0.1763595164209811 , 1.4202793632359114\n",
      "\t ---------- State is:  (1, 0)\n",
      "[INFO] [2023-04-11 16:56:04,454] [OpenBox-SPO] Iteration 453, objective value: [1.082502773976345].\n"
     ]
    },
    {
     "name": "stderr",
     "output_type": "stream",
     "text": [
      "\r",
      " 45%|███████████████████████████████████▊                                           | 453/1000 [07:46<10:33,  1.16s/it]"
     ]
    },
    {
     "name": "stdout",
     "output_type": "stream",
     "text": [
      "\t ----- reward: -1.082502773976345 for f_star and f_minus: 0.1763595164209811 , 1.082502773976345\n",
      "\t ---------- State is:  (1, 0)\n",
      "[INFO] [2023-04-11 16:56:05,803] [OpenBox-SPO] Iteration 454, objective value: [1.9443775817382487].\n"
     ]
    },
    {
     "name": "stderr",
     "output_type": "stream",
     "text": [
      "\r",
      " 45%|███████████████████████████████████▊                                           | 454/1000 [07:48<11:01,  1.21s/it]"
     ]
    },
    {
     "name": "stdout",
     "output_type": "stream",
     "text": [
      "\t ----- reward: -1.9443775817382487 for f_star and f_minus: 0.1763595164209811 , 1.9443775817382487\n",
      "\t ---------- State is:  (1, 0)\n",
      "[INFO] [2023-04-11 16:56:07,474] [OpenBox-SPO] Iteration 455, objective value: [1.2744684696196849].\n"
     ]
    },
    {
     "name": "stderr",
     "output_type": "stream",
     "text": [
      "\r",
      " 46%|███████████████████████████████████▉                                           | 455/1000 [07:50<12:05,  1.33s/it]"
     ]
    },
    {
     "name": "stdout",
     "output_type": "stream",
     "text": [
      "\t ----- reward: -1.2744684696196849 for f_star and f_minus: 0.1763595164209811 , 1.2744684696196849\n",
      "\t ---------- State is:  (1, 0)\n",
      "[INFO] [2023-04-11 16:56:08,980] [OpenBox-SPO] Iteration 456, objective value: [1.8956392798526924].\n"
     ]
    },
    {
     "name": "stderr",
     "output_type": "stream",
     "text": [
      "\r",
      " 46%|████████████████████████████████████                                           | 456/1000 [07:51<12:31,  1.38s/it]"
     ]
    },
    {
     "name": "stdout",
     "output_type": "stream",
     "text": [
      "\t ----- reward: -1.8956392798526924 for f_star and f_minus: 0.1763595164209811 , 1.8956392798526924\n",
      "\t ---------- State is:  (1, 0)\n",
      "[INFO] [2023-04-11 16:56:10,518] [OpenBox-SPO] Iteration 457, objective value: [0.18819762174491314].\n"
     ]
    },
    {
     "name": "stderr",
     "output_type": "stream",
     "text": [
      "\r",
      " 46%|████████████████████████████████████                                           | 457/1000 [07:53<12:53,  1.43s/it]"
     ]
    },
    {
     "name": "stdout",
     "output_type": "stream",
     "text": [
      "\t ----- reward: -0.18819762174491314 for f_star and f_minus: 0.1763595164209811 , 0.18819762174491314\n",
      "\t ---------- State is:  (0, 0)\n",
      "[INFO] [2023-04-11 16:56:11,891] [OpenBox-SPO] Iteration 458, objective value: [1.0206807679433267].\n"
     ]
    },
    {
     "name": "stderr",
     "output_type": "stream",
     "text": [
      "\r",
      " 46%|████████████████████████████████████▏                                          | 458/1000 [07:54<12:44,  1.41s/it]"
     ]
    },
    {
     "name": "stdout",
     "output_type": "stream",
     "text": [
      "\t ----- reward: -1.0206807679433267 for f_star and f_minus: 0.1763595164209811 , 1.0206807679433267\n",
      "\t ---------- State is:  (0, 0)\n",
      "[INFO] [2023-04-11 16:56:13,397] [OpenBox-SPO] Iteration 459, objective value: [1.2725344052707892].\n"
     ]
    },
    {
     "name": "stderr",
     "output_type": "stream",
     "text": [
      "\r",
      " 46%|████████████████████████████████████▎                                          | 459/1000 [07:55<13:00,  1.44s/it]"
     ]
    },
    {
     "name": "stdout",
     "output_type": "stream",
     "text": [
      "\t ----- reward: -1.2725344052707892 for f_star and f_minus: 0.1763595164209811 , 1.2725344052707892\n",
      "\t ---------- State is:  (0, 0)\n",
      "[INFO] [2023-04-11 16:56:14,672] [OpenBox-SPO] Iteration 460, objective value: [0.21188291267089449].\n"
     ]
    },
    {
     "name": "stderr",
     "output_type": "stream",
     "text": [
      "\r",
      " 46%|████████████████████████████████████▎                                          | 460/1000 [07:57<12:31,  1.39s/it]"
     ]
    },
    {
     "name": "stdout",
     "output_type": "stream",
     "text": [
      "\t ----- reward: -0.21188291267089449 for f_star and f_minus: 0.1763595164209811 , 0.21188291267089449\n",
      "\t ---------- State is:  (0, 0)\n",
      "[INFO] [2023-04-11 16:56:16,613] [OpenBox-SPO] Iteration 461, objective value: [1.3699381230200918].\n"
     ]
    },
    {
     "name": "stderr",
     "output_type": "stream",
     "text": [
      "\r",
      " 46%|████████████████████████████████████▍                                          | 461/1000 [07:59<13:56,  1.55s/it]"
     ]
    },
    {
     "name": "stdout",
     "output_type": "stream",
     "text": [
      "\t ----- reward: -1.3699381230200918 for f_star and f_minus: 0.1763595164209811 , 1.3699381230200918\n",
      "\t ---------- State is:  (0, 0)\n",
      "[INFO] [2023-04-11 16:56:18,025] [OpenBox-SPO] Iteration 462, objective value: [1.626169710856964].\n"
     ]
    },
    {
     "name": "stderr",
     "output_type": "stream",
     "text": [
      "\r",
      " 46%|████████████████████████████████████▍                                          | 462/1000 [08:00<13:32,  1.51s/it]"
     ]
    },
    {
     "name": "stdout",
     "output_type": "stream",
     "text": [
      "\t ----- reward: -1.626169710856964 for f_star and f_minus: 0.1763595164209811 , 1.626169710856964\n",
      "\t ---------- State is:  (0, 0)\n",
      "[INFO] [2023-04-11 16:56:18,025] [Advisor] Sample random config. rand_prob=0.100000.\n",
      "[INFO] [2023-04-11 16:56:18,025] [OpenBox-SPO] Iteration 463, objective value: [0.08630932584386547].\n",
      "\t ----- reward: -0.08630932584386547 for f_star and f_minus: 0.1763595164209811 , 0.08630932584386547\n",
      "\t ---------- State is:  (0, 0)\n",
      "[INFO] [2023-04-11 16:56:19,830] [OpenBox-SPO] Iteration 464, objective value: [1.8121718634716777].\n"
     ]
    },
    {
     "name": "stderr",
     "output_type": "stream",
     "text": [
      "\r",
      " 46%|████████████████████████████████████▋                                          | 464/1000 [08:02<10:59,  1.23s/it]"
     ]
    },
    {
     "name": "stdout",
     "output_type": "stream",
     "text": [
      "\t ----- reward: -1.8121718634716777 for f_star and f_minus: 0.08630932584386547 , 1.8121718634716777\n",
      "\t ---------- State is:  (0, 1)\n",
      "[INFO] [2023-04-11 16:56:21,536] [OpenBox-SPO] Iteration 465, objective value: [1.0681633898756295].\n"
     ]
    },
    {
     "name": "stderr",
     "output_type": "stream",
     "text": [
      "\r",
      " 46%|████████████████████████████████████▋                                          | 465/1000 [08:04<12:01,  1.35s/it]"
     ]
    },
    {
     "name": "stdout",
     "output_type": "stream",
     "text": [
      "\t ----- reward: -1.0681633898756295 for f_star and f_minus: 0.08630932584386547 , 1.0681633898756295\n",
      "\t ---------- State is:  (1, 1)\n",
      "[INFO] [2023-04-11 16:56:22,760] [OpenBox-SPO] Iteration 466, objective value: [1.233529831675256].\n"
     ]
    },
    {
     "name": "stderr",
     "output_type": "stream",
     "text": [
      "\r",
      " 47%|████████████████████████████████████▊                                          | 466/1000 [08:05<11:42,  1.32s/it]"
     ]
    },
    {
     "name": "stdout",
     "output_type": "stream",
     "text": [
      "\t ----- reward: -1.233529831675256 for f_star and f_minus: 0.08630932584386547 , 1.233529831675256\n",
      "\t ---------- State is:  (1, 1)\n",
      "[INFO] [2023-04-11 16:56:24,140] [OpenBox-SPO] Iteration 467, objective value: [1.4342409671052634].\n"
     ]
    },
    {
     "name": "stderr",
     "output_type": "stream",
     "text": [
      "\r",
      " 47%|████████████████████████████████████▉                                          | 467/1000 [08:06<11:50,  1.33s/it]"
     ]
    },
    {
     "name": "stdout",
     "output_type": "stream",
     "text": [
      "\t ----- reward: -1.4342409671052634 for f_star and f_minus: 0.08630932584386547 , 1.4342409671052634\n",
      "\t ---------- State is:  (0, 1)\n",
      "[INFO] [2023-04-11 16:56:25,679] [OpenBox-SPO] Iteration 468, objective value: [1.3112563489896418].\n"
     ]
    },
    {
     "name": "stderr",
     "output_type": "stream",
     "text": [
      "\r",
      " 47%|████████████████████████████████████▉                                          | 468/1000 [08:08<12:21,  1.39s/it]"
     ]
    },
    {
     "name": "stdout",
     "output_type": "stream",
     "text": [
      "\t ----- reward: -1.3112563489896418 for f_star and f_minus: 0.08630932584386547 , 1.3112563489896418\n",
      "\t ---------- State is:  (1, 1)\n",
      "[INFO] [2023-04-11 16:56:27,271] [OpenBox-SPO] Iteration 469, objective value: [1.4320735006995498].\n"
     ]
    },
    {
     "name": "stderr",
     "output_type": "stream",
     "text": [
      "\r",
      " 47%|█████████████████████████████████████                                          | 469/1000 [08:09<12:48,  1.45s/it]"
     ]
    },
    {
     "name": "stdout",
     "output_type": "stream",
     "text": [
      "\t ----- reward: -1.4320735006995498 for f_star and f_minus: 0.08630932584386547 , 1.4320735006995498\n",
      "\t ---------- State is:  (2, 1)\n",
      "[INFO] [2023-04-11 16:56:28,696] [OpenBox-SPO] Iteration 470, objective value: [1.0770127040754567].\n"
     ]
    },
    {
     "name": "stderr",
     "output_type": "stream",
     "text": [
      "\r",
      " 47%|█████████████████████████████████████▏                                         | 470/1000 [08:11<12:43,  1.44s/it]"
     ]
    },
    {
     "name": "stdout",
     "output_type": "stream",
     "text": [
      "\t ----- reward: -1.0770127040754567 for f_star and f_minus: 0.08630932584386547 , 1.0770127040754567\n",
      "\t ---------- State is:  (1, 1)\n",
      "[INFO] [2023-04-11 16:56:30,041] [OpenBox-SPO] Iteration 471, objective value: [1.1661099549865677].\n"
     ]
    },
    {
     "name": "stderr",
     "output_type": "stream",
     "text": [
      "\r",
      " 47%|█████████████████████████████████████▏                                         | 471/1000 [08:12<12:27,  1.41s/it]"
     ]
    },
    {
     "name": "stdout",
     "output_type": "stream",
     "text": [
      "\t ----- reward: -1.1661099549865677 for f_star and f_minus: 0.08630932584386547 , 1.1661099549865677\n",
      "\t ---------- State is:  (1, 1)\n",
      "[INFO] [2023-04-11 16:56:31,276] [OpenBox-SPO] Iteration 472, objective value: [1.3797635351615134].\n"
     ]
    },
    {
     "name": "stderr",
     "output_type": "stream",
     "text": [
      "\r",
      " 47%|█████████████████████████████████████▎                                         | 472/1000 [08:13<11:58,  1.36s/it]"
     ]
    },
    {
     "name": "stdout",
     "output_type": "stream",
     "text": [
      "\t ----- reward: -1.3797635351615134 for f_star and f_minus: 0.08630932584386547 , 1.3797635351615134\n",
      "\t ---------- State is:  (0, 1)\n",
      "[INFO] [2023-04-11 16:56:32,808] [OpenBox-SPO] Iteration 473, objective value: [3.0956280418866524].\n"
     ]
    },
    {
     "name": "stderr",
     "output_type": "stream",
     "text": [
      "\r",
      " 47%|█████████████████████████████████████▎                                         | 473/1000 [08:15<12:23,  1.41s/it]"
     ]
    },
    {
     "name": "stdout",
     "output_type": "stream",
     "text": [
      "\t ----- reward: -3.0956280418866524 for f_star and f_minus: 0.08630932584386547 , 3.0956280418866524\n",
      "\t ---------- State is:  (0, 1)\n",
      "[INFO] [2023-04-11 16:56:34,410] [OpenBox-SPO] Iteration 474, objective value: [1.272599875115742].\n"
     ]
    },
    {
     "name": "stderr",
     "output_type": "stream",
     "text": [
      "\r",
      " 47%|█████████████████████████████████████▍                                         | 474/1000 [08:16<12:52,  1.47s/it]"
     ]
    },
    {
     "name": "stdout",
     "output_type": "stream",
     "text": [
      "\t ----- reward: -1.272599875115742 for f_star and f_minus: 0.08630932584386547 , 1.272599875115742\n",
      "\t ---------- State is:  (0, 1)\n",
      "[INFO] [2023-04-11 16:56:35,515] [OpenBox-SPO] Iteration 475, objective value: [1.6208431742825729].\n"
     ]
    },
    {
     "name": "stderr",
     "output_type": "stream",
     "text": [
      "\r",
      " 48%|█████████████████████████████████████▌                                         | 475/1000 [08:18<11:53,  1.36s/it]"
     ]
    },
    {
     "name": "stdout",
     "output_type": "stream",
     "text": [
      "\t ----- reward: -1.6208431742825729 for f_star and f_minus: 0.08630932584386547 , 1.6208431742825729\n",
      "\t ---------- State is:  (1, 1)\n",
      "[INFO] [2023-04-11 16:56:35,515] [Advisor] Sample random config. rand_prob=0.100000.\n",
      "[INFO] [2023-04-11 16:56:35,531] [OpenBox-SPO] Iteration 476, objective value: [2.197913166927288].\n",
      "\t ----- reward: -2.197913166927288 for f_star and f_minus: 0.08630932584386547 , 2.197913166927288\n",
      "\t ---------- State is:  (2, 1)\n",
      "[INFO] [2023-04-11 16:56:37,049] [OpenBox-SPO] Iteration 477, objective value: [1.4316165193929635].\n"
     ]
    },
    {
     "name": "stderr",
     "output_type": "stream",
     "text": [
      "\r",
      " 48%|█████████████████████████████████████▋                                         | 477/1000 [08:19<09:28,  1.09s/it]"
     ]
    },
    {
     "name": "stdout",
     "output_type": "stream",
     "text": [
      "\t ----- reward: -1.4316165193929635 for f_star and f_minus: 0.08630932584386547 , 1.4316165193929635\n",
      "\t ---------- State is:  (2, 1)\n",
      "[INFO] [2023-04-11 16:56:38,460] [OpenBox-SPO] Iteration 478, objective value: [1.5055310543608722].\n"
     ]
    },
    {
     "name": "stderr",
     "output_type": "stream",
     "text": [
      "\r",
      " 48%|█████████████████████████████████████▊                                         | 478/1000 [08:21<10:09,  1.17s/it]"
     ]
    },
    {
     "name": "stdout",
     "output_type": "stream",
     "text": [
      "\t ----- reward: -1.5055310543608722 for f_star and f_minus: 0.08630932584386547 , 1.5055310543608722\n",
      "\t ---------- State is:  (3, 1)\n",
      "[INFO] [2023-04-11 16:56:39,667] [OpenBox-SPO] Iteration 479, objective value: [1.2937223744468378].\n"
     ]
    },
    {
     "name": "stderr",
     "output_type": "stream",
     "text": [
      "\r",
      " 48%|█████████████████████████████████████▊                                         | 479/1000 [08:22<10:13,  1.18s/it]"
     ]
    },
    {
     "name": "stdout",
     "output_type": "stream",
     "text": [
      "\t ----- reward: -1.2937223744468378 for f_star and f_minus: 0.08630932584386547 , 1.2937223744468378\n",
      "\t ---------- State is:  (4, 1)\n",
      "[INFO] [2023-04-11 16:56:41,142] [OpenBox-SPO] Iteration 480, objective value: [0.9543041882805547].\n"
     ]
    },
    {
     "name": "stderr",
     "output_type": "stream",
     "text": [
      "\r",
      " 48%|█████████████████████████████████████▉                                         | 480/1000 [08:23<10:54,  1.26s/it]"
     ]
    },
    {
     "name": "stdout",
     "output_type": "stream",
     "text": [
      "\t ----- reward: -0.9543041882805547 for f_star and f_minus: 0.08630932584386547 , 0.9543041882805547\n",
      "\t ---------- State is:  (5, 1)\n",
      "[INFO] [2023-04-11 16:56:42,710] [OpenBox-SPO] Iteration 481, objective value: [0.19116810722803013].\n"
     ]
    },
    {
     "name": "stderr",
     "output_type": "stream",
     "text": [
      "\r",
      " 48%|█████████████████████████████████████▉                                         | 481/1000 [08:25<11:37,  1.34s/it]"
     ]
    },
    {
     "name": "stdout",
     "output_type": "stream",
     "text": [
      "\t ----- reward: -0.19116810722803013 for f_star and f_minus: 0.08630932584386547 , 0.19116810722803013\n",
      "\t ---------- State is:  (5, 1)\n",
      "[INFO] [2023-04-11 16:56:44,209] [OpenBox-SPO] Iteration 482, objective value: [1.900682479438156].\n"
     ]
    },
    {
     "name": "stderr",
     "output_type": "stream",
     "text": [
      "\r",
      " 48%|██████████████████████████████████████                                         | 482/1000 [08:26<11:59,  1.39s/it]"
     ]
    },
    {
     "name": "stdout",
     "output_type": "stream",
     "text": [
      "\t ----- reward: -1.900682479438156 for f_star and f_minus: 0.08630932584386547 , 1.900682479438156\n",
      "\t ---------- State is:  (5, 1)\n",
      "[INFO] [2023-04-11 16:56:44,209] [Advisor] Sample random config. rand_prob=0.100000.\n",
      "[INFO] [2023-04-11 16:56:44,209] [OpenBox-SPO] Iteration 483, objective value: [1.192761242096695].\n",
      "\t ----- reward: -1.192761242096695 for f_star and f_minus: 0.08630932584386547 , 1.192761242096695\n",
      "\t ---------- State is:  (4, 1)\n",
      "[INFO] [2023-04-11 16:56:45,526] [OpenBox-SPO] Iteration 484, objective value: [1.32681149850118].\n"
     ]
    },
    {
     "name": "stderr",
     "output_type": "stream",
     "text": [
      "\r",
      " 48%|██████████████████████████████████████▏                                        | 484/1000 [08:28<09:07,  1.06s/it]"
     ]
    },
    {
     "name": "stdout",
     "output_type": "stream",
     "text": [
      "\t ----- reward: -1.32681149850118 for f_star and f_minus: 0.08630932584386547 , 1.32681149850118\n",
      "\t ---------- State is:  (3, 1)\n",
      "[INFO] [2023-04-11 16:56:46,740] [OpenBox-SPO] Iteration 485, objective value: [0.5321869528442821].\n"
     ]
    },
    {
     "name": "stderr",
     "output_type": "stream",
     "text": [
      "\r",
      " 48%|██████████████████████████████████████▎                                        | 485/1000 [08:29<09:25,  1.10s/it]"
     ]
    },
    {
     "name": "stdout",
     "output_type": "stream",
     "text": [
      "\t ----- reward: -0.5321869528442821 for f_star and f_minus: 0.08630932584386547 , 0.5321869528442821\n",
      "\t ---------- State is:  (3, 1)\n",
      "[INFO] [2023-04-11 16:56:48,036] [OpenBox-SPO] Iteration 486, objective value: [0.3172294575709565].\n"
     ]
    },
    {
     "name": "stderr",
     "output_type": "stream",
     "text": [
      "\r",
      " 49%|██████████████████████████████████████▍                                        | 486/1000 [08:30<09:50,  1.15s/it]"
     ]
    },
    {
     "name": "stdout",
     "output_type": "stream",
     "text": [
      "\t ----- reward: -0.3172294575709565 for f_star and f_minus: 0.08630932584386547 , 0.3172294575709565\n",
      "\t ---------- State is:  (3, 1)\n",
      "[INFO] [2023-04-11 16:56:49,480] [OpenBox-SPO] Iteration 487, objective value: [1.2547306297485314].\n"
     ]
    },
    {
     "name": "stderr",
     "output_type": "stream",
     "text": [
      "\r",
      " 49%|██████████████████████████████████████▍                                        | 487/1000 [08:32<10:30,  1.23s/it]"
     ]
    },
    {
     "name": "stdout",
     "output_type": "stream",
     "text": [
      "\t ----- reward: -1.2547306297485314 for f_star and f_minus: 0.08630932584386547 , 1.2547306297485314\n",
      "\t ---------- State is:  (3, 1)\n",
      "[INFO] [2023-04-11 16:56:50,834] [OpenBox-SPO] Iteration 488, objective value: [1.6404561962570083].\n"
     ]
    },
    {
     "name": "stderr",
     "output_type": "stream",
     "text": [
      "\r",
      " 49%|██████████████████████████████████████▌                                        | 488/1000 [08:33<10:46,  1.26s/it]"
     ]
    },
    {
     "name": "stdout",
     "output_type": "stream",
     "text": [
      "\t ----- reward: -1.6404561962570083 for f_star and f_minus: 0.08630932584386547 , 1.6404561962570083\n",
      "\t ---------- State is:  (2, 1)\n",
      "[INFO] [2023-04-11 16:56:52,354] [OpenBox-SPO] Iteration 489, objective value: [0.20407106447006468].\n"
     ]
    },
    {
     "name": "stderr",
     "output_type": "stream",
     "text": [
      "\r",
      " 49%|██████████████████████████████████████▋                                        | 489/1000 [08:34<11:22,  1.34s/it]"
     ]
    },
    {
     "name": "stdout",
     "output_type": "stream",
     "text": [
      "\t ----- reward: -0.20407106447006468 for f_star and f_minus: 0.08630932584386547 , 0.20407106447006468\n",
      "\t ---------- State is:  (1, 1)\n",
      "[INFO] [2023-04-11 16:56:53,640] [OpenBox-SPO] Iteration 490, objective value: [0.19436078224017786].\n"
     ]
    },
    {
     "name": "stderr",
     "output_type": "stream",
     "text": [
      "\r",
      " 49%|██████████████████████████████████████▋                                        | 490/1000 [08:36<11:13,  1.32s/it]"
     ]
    },
    {
     "name": "stdout",
     "output_type": "stream",
     "text": [
      "\t ----- reward: -0.19436078224017786 for f_star and f_minus: 0.08630932584386547 , 0.19436078224017786\n",
      "\t ---------- State is:  (1, 1)\n",
      "[INFO] [2023-04-11 16:56:54,989] [OpenBox-SPO] Iteration 491, objective value: [1.2677438140407393].\n"
     ]
    },
    {
     "name": "stderr",
     "output_type": "stream",
     "text": [
      "\r",
      " 49%|██████████████████████████████████████▊                                        | 491/1000 [08:37<11:16,  1.33s/it]"
     ]
    },
    {
     "name": "stdout",
     "output_type": "stream",
     "text": [
      "\t ----- reward: -1.2677438140407393 for f_star and f_minus: 0.08630932584386547 , 1.2677438140407393\n",
      "\t ---------- State is:  (1, 1)\n",
      "[INFO] [2023-04-11 16:56:56,197] [OpenBox-SPO] Iteration 492, objective value: [0.30269410139410513].\n"
     ]
    },
    {
     "name": "stderr",
     "output_type": "stream",
     "text": [
      "\r",
      " 49%|██████████████████████████████████████▊                                        | 492/1000 [08:38<10:57,  1.29s/it]"
     ]
    },
    {
     "name": "stdout",
     "output_type": "stream",
     "text": [
      "\t ----- reward: -0.30269410139410513 for f_star and f_minus: 0.08630932584386547 , 0.30269410139410513\n",
      "\t ---------- State is:  (1, 1)\n",
      "[INFO] [2023-04-11 16:56:56,197] [Advisor] Sample random config. rand_prob=0.100000.\n",
      "[INFO] [2023-04-11 16:56:56,197] [OpenBox-SPO] Iteration 493, objective value: [1.9460212041222693].\n",
      "\t ----- reward: -1.9460212041222693 for f_star and f_minus: 0.08630932584386547 , 1.9460212041222693\n",
      "\t ---------- State is:  (1, 1)\n",
      "[INFO] [2023-04-11 16:56:57,721] [OpenBox-SPO] Iteration 494, objective value: [0.3373662907078368].\n"
     ]
    },
    {
     "name": "stderr",
     "output_type": "stream",
     "text": [
      "\r",
      " 49%|███████████████████████████████████████                                        | 494/1000 [08:40<08:51,  1.05s/it]"
     ]
    },
    {
     "name": "stdout",
     "output_type": "stream",
     "text": [
      "\t ----- reward: -0.3373662907078368 for f_star and f_minus: 0.08630932584386547 , 0.3373662907078368\n",
      "\t ---------- State is:  (1, 1)\n",
      "[INFO] [2023-04-11 16:56:59,067] [OpenBox-SPO] Iteration 495, objective value: [1.687702935995257].\n"
     ]
    },
    {
     "name": "stderr",
     "output_type": "stream",
     "text": [
      "\r",
      " 50%|███████████████████████████████████████                                        | 495/1000 [08:41<09:27,  1.12s/it]"
     ]
    },
    {
     "name": "stdout",
     "output_type": "stream",
     "text": [
      "\t ----- reward: -1.687702935995257 for f_star and f_minus: 0.08630932584386547 , 1.687702935995257\n",
      "\t ---------- State is:  (1, 1)\n",
      "[INFO] [2023-04-11 16:57:00,573] [OpenBox-SPO] Iteration 496, objective value: [1.0792720324647471].\n"
     ]
    },
    {
     "name": "stderr",
     "output_type": "stream",
     "text": [
      "\r",
      " 50%|███████████████████████████████████████▏                                       | 496/1000 [08:43<10:16,  1.22s/it]"
     ]
    },
    {
     "name": "stdout",
     "output_type": "stream",
     "text": [
      "\t ----- reward: -1.0792720324647471 for f_star and f_minus: 0.08630932584386547 , 1.0792720324647471\n",
      "\t ---------- State is:  (0, 1)\n",
      "[INFO] [2023-04-11 16:57:02,455] [OpenBox-SPO] Iteration 497, objective value: [1.1562993244335804].\n"
     ]
    },
    {
     "name": "stderr",
     "output_type": "stream",
     "text": [
      "\r",
      " 50%|███████████████████████████████████████▎                                       | 497/1000 [08:44<11:45,  1.40s/it]"
     ]
    },
    {
     "name": "stdout",
     "output_type": "stream",
     "text": [
      "\t ----- reward: -1.1562993244335804 for f_star and f_minus: 0.08630932584386547 , 1.1562993244335804\n",
      "\t ---------- State is:  (0, 1)\n",
      "[INFO] [2023-04-11 16:57:04,008] [OpenBox-SPO] Iteration 498, objective value: [2.549690855331674].\n"
     ]
    },
    {
     "name": "stderr",
     "output_type": "stream",
     "text": [
      "\r",
      " 50%|███████████████████████████████████████▎                                       | 498/1000 [08:46<12:04,  1.44s/it]"
     ]
    },
    {
     "name": "stdout",
     "output_type": "stream",
     "text": [
      "\t ----- reward: -2.549690855331674 for f_star and f_minus: 0.08630932584386547 , 2.549690855331674\n",
      "\t ---------- State is:  (0, 1)\n",
      "[INFO] [2023-04-11 16:57:05,420] [OpenBox-SPO] Iteration 499, objective value: [0.7306657270151683].\n"
     ]
    },
    {
     "name": "stderr",
     "output_type": "stream",
     "text": [
      "\r",
      " 50%|███████████████████████████████████████▍                                       | 499/1000 [08:47<11:58,  1.43s/it]"
     ]
    },
    {
     "name": "stdout",
     "output_type": "stream",
     "text": [
      "\t ----- reward: -0.7306657270151683 for f_star and f_minus: 0.08630932584386547 , 0.7306657270151683\n",
      "\t ---------- State is:  (1, 1)\n",
      "[INFO] [2023-04-11 16:57:07,083] [OpenBox-SPO] Iteration 500, objective value: [1.6946548445396845].\n"
     ]
    },
    {
     "name": "stderr",
     "output_type": "stream",
     "text": [
      "\r",
      " 50%|███████████████████████████████████████▌                                       | 500/1000 [08:49<12:30,  1.50s/it]"
     ]
    },
    {
     "name": "stdout",
     "output_type": "stream",
     "text": [
      "\t ----- reward: -1.6946548445396845 for f_star and f_minus: 0.08630932584386547 , 1.6946548445396845\n",
      "\t ---------- State is:  (0, 1)\n",
      "[INFO] [2023-04-11 16:57:08,589] [OpenBox-SPO] Iteration 501, objective value: [1.3672270607166621].\n"
     ]
    },
    {
     "name": "stderr",
     "output_type": "stream",
     "text": [
      "\r",
      " 50%|███████████████████████████████████████▌                                       | 501/1000 [08:51<12:29,  1.50s/it]"
     ]
    },
    {
     "name": "stdout",
     "output_type": "stream",
     "text": [
      "\t ----- reward: -1.3672270607166621 for f_star and f_minus: 0.08630932584386547 , 1.3672270607166621\n",
      "\t ---------- State is:  (1, 1)\n",
      "[INFO] [2023-04-11 16:57:08,589] [Advisor] Sample random config. rand_prob=0.100000.\n",
      "[INFO] [2023-04-11 16:57:08,589] [OpenBox-SPO] Iteration 502, objective value: [0.6536130272637919].\n",
      "\t ----- reward: -0.6536130272637919 for f_star and f_minus: 0.08630932584386547 , 0.6536130272637919\n",
      "\t ---------- State is:  (1, 1)\n",
      "[INFO] [2023-04-11 16:57:09,829] [OpenBox-SPO] Iteration 503, objective value: [1.081935694901811].\n"
     ]
    },
    {
     "name": "stderr",
     "output_type": "stream",
     "text": [
      "\r",
      " 50%|███████████████████████████████████████▋                                       | 503/1000 [08:52<09:06,  1.10s/it]"
     ]
    },
    {
     "name": "stdout",
     "output_type": "stream",
     "text": [
      "\t ----- reward: -1.081935694901811 for f_star and f_minus: 0.08630932584386547 , 1.081935694901811\n",
      "\t ---------- State is:  (1, 1)\n",
      "[INFO] [2023-04-11 16:57:11,287] [OpenBox-SPO] Iteration 504, objective value: [1.2517993419987017].\n"
     ]
    },
    {
     "name": "stderr",
     "output_type": "stream",
     "text": [
      "\r",
      " 50%|███████████████████████████████████████▊                                       | 504/1000 [08:53<09:49,  1.19s/it]"
     ]
    },
    {
     "name": "stdout",
     "output_type": "stream",
     "text": [
      "\t ----- reward: -1.2517993419987017 for f_star and f_minus: 0.08630932584386547 , 1.2517993419987017\n",
      "\t ---------- State is:  (1, 1)\n",
      "[INFO] [2023-04-11 16:57:12,730] [OpenBox-SPO] Iteration 505, objective value: [1.3295950944012398].\n"
     ]
    },
    {
     "name": "stderr",
     "output_type": "stream",
     "text": [
      "\r",
      " 50%|███████████████████████████████████████▉                                       | 505/1000 [08:55<10:20,  1.25s/it]"
     ]
    },
    {
     "name": "stdout",
     "output_type": "stream",
     "text": [
      "\t ----- reward: -1.3295950944012398 for f_star and f_minus: 0.08630932584386547 , 1.3295950944012398\n",
      "\t ---------- State is:  (1, 1)\n",
      "[INFO] [2023-04-11 16:57:14,032] [OpenBox-SPO] Iteration 506, objective value: [1.302584653009936].\n"
     ]
    },
    {
     "name": "stderr",
     "output_type": "stream",
     "text": [
      "\r",
      " 51%|███████████████████████████████████████▉                                       | 506/1000 [08:56<10:26,  1.27s/it]"
     ]
    },
    {
     "name": "stdout",
     "output_type": "stream",
     "text": [
      "\t ----- reward: -1.302584653009936 for f_star and f_minus: 0.08630932584386547 , 1.302584653009936\n",
      "\t ---------- State is:  (1, 1)\n",
      "[INFO] [2023-04-11 16:57:15,398] [OpenBox-SPO] Iteration 507, objective value: [2.131514488710864].\n"
     ]
    },
    {
     "name": "stderr",
     "output_type": "stream",
     "text": [
      "\r",
      " 51%|████████████████████████████████████████                                       | 507/1000 [08:57<10:38,  1.29s/it]"
     ]
    },
    {
     "name": "stdout",
     "output_type": "stream",
     "text": [
      "\t ----- reward: -2.131514488710864 for f_star and f_minus: 0.08630932584386547 , 2.131514488710864\n",
      "\t ---------- State is:  (2, 1)\n",
      "[INFO] [2023-04-11 16:57:16,747] [OpenBox-SPO] Iteration 508, objective value: [0.9915654271666436].\n"
     ]
    },
    {
     "name": "stderr",
     "output_type": "stream",
     "text": [
      "\r",
      " 51%|████████████████████████████████████████▏                                      | 508/1000 [08:59<10:44,  1.31s/it]"
     ]
    },
    {
     "name": "stdout",
     "output_type": "stream",
     "text": [
      "\t ----- reward: -0.9915654271666436 for f_star and f_minus: 0.08630932584386547 , 0.9915654271666436\n",
      "\t ---------- State is:  (1, 1)\n",
      "[INFO] [2023-04-11 16:57:18,206] [OpenBox-SPO] Iteration 509, objective value: [1.7002825273776687].\n"
     ]
    },
    {
     "name": "stderr",
     "output_type": "stream",
     "text": [
      "\r",
      " 51%|████████████████████████████████████████▏                                      | 509/1000 [09:00<11:04,  1.35s/it]"
     ]
    },
    {
     "name": "stdout",
     "output_type": "stream",
     "text": [
      "\t ----- reward: -1.7002825273776687 for f_star and f_minus: 0.08630932584386547 , 1.7002825273776687\n",
      "\t ---------- State is:  (0, 1)\n",
      "[INFO] [2023-04-11 16:57:19,665] [OpenBox-SPO] Iteration 510, objective value: [1.3486021946384699].\n"
     ]
    },
    {
     "name": "stderr",
     "output_type": "stream",
     "text": [
      "\r",
      " 51%|████████████████████████████████████████▎                                      | 510/1000 [09:02<11:18,  1.38s/it]"
     ]
    },
    {
     "name": "stdout",
     "output_type": "stream",
     "text": [
      "\t ----- reward: -1.3486021946384699 for f_star and f_minus: 0.08630932584386547 , 1.3486021946384699\n",
      "\t ---------- State is:  (1, 1)\n",
      "[INFO] [2023-04-11 16:57:19,665] [Advisor] Sample random config. rand_prob=0.100000.\n",
      "[INFO] [2023-04-11 16:57:19,665] [OpenBox-SPO] Iteration 511, objective value: [2.2889835253149404].\n",
      "\t ----- reward: -2.2889835253149404 for f_star and f_minus: 0.08630932584386547 , 2.2889835253149404\n",
      "\t ---------- State is:  (1, 1)\n",
      "[INFO] [2023-04-11 16:57:21,140] [OpenBox-SPO] Iteration 512, objective value: [1.3390248831758227].\n"
     ]
    },
    {
     "name": "stderr",
     "output_type": "stream",
     "text": [
      "\r",
      " 51%|████████████████████████████████████████▍                                      | 512/1000 [09:03<08:51,  1.09s/it]"
     ]
    },
    {
     "name": "stdout",
     "output_type": "stream",
     "text": [
      "\t ----- reward: -1.3390248831758227 for f_star and f_minus: 0.08630932584386547 , 1.3390248831758227\n",
      "\t ---------- State is:  (0, 1)\n",
      "[INFO] [2023-04-11 16:57:22,647] [OpenBox-SPO] Iteration 513, objective value: [1.314531838835984].\n"
     ]
    },
    {
     "name": "stderr",
     "output_type": "stream",
     "text": [
      "\r",
      " 51%|████████████████████████████████████████▌                                      | 513/1000 [09:05<09:40,  1.19s/it]"
     ]
    },
    {
     "name": "stdout",
     "output_type": "stream",
     "text": [
      "\t ----- reward: -1.314531838835984 for f_star and f_minus: 0.08630932584386547 , 1.314531838835984\n",
      "\t ---------- State is:  (1, 1)\n",
      "[INFO] [2023-04-11 16:57:24,169] [OpenBox-SPO] Iteration 514, objective value: [1.1537340957323667].\n"
     ]
    },
    {
     "name": "stderr",
     "output_type": "stream",
     "text": [
      "\r",
      " 51%|████████████████████████████████████████▌                                      | 514/1000 [09:06<10:21,  1.28s/it]"
     ]
    },
    {
     "name": "stdout",
     "output_type": "stream",
     "text": [
      "\t ----- reward: -1.1537340957323667 for f_star and f_minus: 0.08630932584386547 , 1.1537340957323667\n",
      "\t ---------- State is:  (0, 1)\n",
      "[INFO] [2023-04-11 16:57:25,345] [OpenBox-SPO] Iteration 515, objective value: [1.2816397052990338].\n"
     ]
    },
    {
     "name": "stderr",
     "output_type": "stream",
     "text": [
      "\r",
      " 52%|████████████████████████████████████████▋                                      | 515/1000 [09:07<10:06,  1.25s/it]"
     ]
    },
    {
     "name": "stdout",
     "output_type": "stream",
     "text": [
      "\t ----- reward: -1.2816397052990338 for f_star and f_minus: 0.08630932584386547 , 1.2816397052990338\n",
      "\t ---------- State is:  (1, 1)\n",
      "[INFO] [2023-04-11 16:57:26,711] [OpenBox-SPO] Iteration 516, objective value: [1.2149410405257932].\n"
     ]
    },
    {
     "name": "stderr",
     "output_type": "stream",
     "text": [
      "\r",
      " 52%|████████████████████████████████████████▊                                      | 516/1000 [09:09<10:20,  1.28s/it]"
     ]
    },
    {
     "name": "stdout",
     "output_type": "stream",
     "text": [
      "\t ----- reward: -1.2149410405257932 for f_star and f_minus: 0.08630932584386547 , 1.2149410405257932\n",
      "\t ---------- State is:  (0, 1)\n",
      "[INFO] [2023-04-11 16:57:28,123] [OpenBox-SPO] Iteration 517, objective value: [1.6072998627684083].\n"
     ]
    },
    {
     "name": "stderr",
     "output_type": "stream",
     "text": [
      "\r",
      " 52%|████████████████████████████████████████▊                                      | 517/1000 [09:10<10:37,  1.32s/it]"
     ]
    },
    {
     "name": "stdout",
     "output_type": "stream",
     "text": [
      "\t ----- reward: -1.6072998627684083 for f_star and f_minus: 0.08630932584386547 , 1.6072998627684083\n",
      "\t ---------- State is:  (0, 1)\n",
      "[INFO] [2023-04-11 16:57:29,646] [OpenBox-SPO] Iteration 518, objective value: [1.3588024895402486].\n"
     ]
    },
    {
     "name": "stderr",
     "output_type": "stream",
     "text": [
      "\r",
      " 52%|████████████████████████████████████████▉                                      | 518/1000 [09:12<11:04,  1.38s/it]"
     ]
    },
    {
     "name": "stdout",
     "output_type": "stream",
     "text": [
      "\t ----- reward: -1.3588024895402486 for f_star and f_minus: 0.08630932584386547 , 1.3588024895402486\n",
      "\t ---------- State is:  (1, 1)\n",
      "[INFO] [2023-04-11 16:57:31,089] [OpenBox-SPO] Iteration 519, objective value: [1.1564001064226372].\n"
     ]
    },
    {
     "name": "stderr",
     "output_type": "stream",
     "text": [
      "\r",
      " 52%|█████████████████████████████████████████                                      | 519/1000 [09:13<11:11,  1.40s/it]"
     ]
    },
    {
     "name": "stdout",
     "output_type": "stream",
     "text": [
      "\t ----- reward: -1.1564001064226372 for f_star and f_minus: 0.08630932584386547 , 1.1564001064226372\n",
      "\t ---------- State is:  (0, 1)\n",
      "[INFO] [2023-04-11 16:57:32,422] [OpenBox-SPO] Iteration 520, objective value: [1.5032980894718384].\n"
     ]
    },
    {
     "name": "stderr",
     "output_type": "stream",
     "text": [
      "\r",
      " 52%|█████████████████████████████████████████                                      | 520/1000 [09:14<11:01,  1.38s/it]"
     ]
    },
    {
     "name": "stdout",
     "output_type": "stream",
     "text": [
      "\t ----- reward: -1.5032980894718384 for f_star and f_minus: 0.08630932584386547 , 1.5032980894718384\n",
      "\t ---------- State is:  (0, 1)\n",
      "[INFO] [2023-04-11 16:57:34,023] [OpenBox-SPO] Iteration 521, objective value: [1.2398423804055283].\n"
     ]
    },
    {
     "name": "stderr",
     "output_type": "stream",
     "text": [
      "\r",
      " 52%|█████████████████████████████████████████▏                                     | 521/1000 [09:16<11:31,  1.44s/it]"
     ]
    },
    {
     "name": "stdout",
     "output_type": "stream",
     "text": [
      "\t ----- reward: -1.2398423804055283 for f_star and f_minus: 0.08630932584386547 , 1.2398423804055283\n",
      "\t ---------- State is:  (1, 1)\n",
      "[INFO] [2023-04-11 16:57:35,497] [OpenBox-SPO] Iteration 522, objective value: [1.0453243934875398].\n"
     ]
    },
    {
     "name": "stderr",
     "output_type": "stream",
     "text": [
      "\r",
      " 52%|█████████████████████████████████████████▏                                     | 522/1000 [09:18<11:34,  1.45s/it]"
     ]
    },
    {
     "name": "stdout",
     "output_type": "stream",
     "text": [
      "\t ----- reward: -1.0453243934875398 for f_star and f_minus: 0.08630932584386547 , 1.0453243934875398\n",
      "\t ---------- State is:  (0, 1)\n",
      "[INFO] [2023-04-11 16:57:36,988] [OpenBox-SPO] Iteration 523, objective value: [1.0803082788030796].\n"
     ]
    },
    {
     "name": "stderr",
     "output_type": "stream",
     "text": [
      "\r",
      " 52%|█████████████████████████████████████████▎                                     | 523/1000 [09:19<11:38,  1.46s/it]"
     ]
    },
    {
     "name": "stdout",
     "output_type": "stream",
     "text": [
      "\t ----- reward: -1.0803082788030796 for f_star and f_minus: 0.08630932584386547 , 1.0803082788030796\n",
      "\t ---------- State is:  (1, 1)\n",
      "[INFO] [2023-04-11 16:57:38,338] [OpenBox-SPO] Iteration 524, objective value: [1.0899809782373038].\n"
     ]
    },
    {
     "name": "stderr",
     "output_type": "stream",
     "text": [
      "\r",
      " 52%|█████████████████████████████████████████▍                                     | 524/1000 [09:20<11:20,  1.43s/it]"
     ]
    },
    {
     "name": "stdout",
     "output_type": "stream",
     "text": [
      "\t ----- reward: -1.0899809782373038 for f_star and f_minus: 0.08630932584386547 , 1.0899809782373038\n",
      "\t ---------- State is:  (0, 1)\n",
      "[INFO] [2023-04-11 16:57:39,844] [OpenBox-SPO] Iteration 525, objective value: [1.080418913854583].\n"
     ]
    },
    {
     "name": "stderr",
     "output_type": "stream",
     "text": [
      "\r",
      " 52%|█████████████████████████████████████████▍                                     | 525/1000 [09:22<11:30,  1.45s/it]"
     ]
    },
    {
     "name": "stdout",
     "output_type": "stream",
     "text": [
      "\t ----- reward: -1.080418913854583 for f_star and f_minus: 0.08630932584386547 , 1.080418913854583\n",
      "\t ---------- State is:  (1, 1)\n",
      "[INFO] [2023-04-11 16:57:41,209] [OpenBox-SPO] Iteration 526, objective value: [1.4269139385665324].\n"
     ]
    },
    {
     "name": "stderr",
     "output_type": "stream",
     "text": [
      "\r",
      " 53%|█████████████████████████████████████████▌                                     | 526/1000 [09:23<11:16,  1.43s/it]"
     ]
    },
    {
     "name": "stdout",
     "output_type": "stream",
     "text": [
      "\t ----- reward: -1.4269139385665324 for f_star and f_minus: 0.08630932584386547 , 1.4269139385665324\n",
      "\t ---------- State is:  (0, 1)\n",
      "[INFO] [2023-04-11 16:57:42,715] [OpenBox-SPO] Iteration 527, objective value: [1.20211961305085].\n"
     ]
    },
    {
     "name": "stderr",
     "output_type": "stream",
     "text": [
      "\r",
      " 53%|█████████████████████████████████████████▋                                     | 527/1000 [09:25<11:26,  1.45s/it]"
     ]
    },
    {
     "name": "stdout",
     "output_type": "stream",
     "text": [
      "\t ----- reward: -1.20211961305085 for f_star and f_minus: 0.08630932584386547 , 1.20211961305085\n",
      "\t ---------- State is:  (1, 1)\n",
      "[INFO] [2023-04-11 16:57:44,228] [OpenBox-SPO] Iteration 528, objective value: [1.5264122958377533].\n"
     ]
    },
    {
     "name": "stderr",
     "output_type": "stream",
     "text": [
      "\r",
      " 53%|█████████████████████████████████████████▋                                     | 528/1000 [09:26<11:33,  1.47s/it]"
     ]
    },
    {
     "name": "stdout",
     "output_type": "stream",
     "text": [
      "\t ----- reward: -1.5264122958377533 for f_star and f_minus: 0.08630932584386547 , 1.5264122958377533\n",
      "\t ---------- State is:  (0, 1)\n",
      "[INFO] [2023-04-11 16:57:45,775] [OpenBox-SPO] Iteration 529, objective value: [1.6433619246485556].\n"
     ]
    },
    {
     "name": "stderr",
     "output_type": "stream",
     "text": [
      "\r",
      " 53%|█████████████████████████████████████████▊                                     | 529/1000 [09:28<11:42,  1.49s/it]"
     ]
    },
    {
     "name": "stdout",
     "output_type": "stream",
     "text": [
      "\t ----- reward: -1.6433619246485556 for f_star and f_minus: 0.08630932584386547 , 1.6433619246485556\n",
      "\t ---------- State is:  (1, 1)\n",
      "[INFO] [2023-04-11 16:57:47,439] [OpenBox-SPO] Iteration 530, objective value: [2.5863203361947473].\n"
     ]
    },
    {
     "name": "stderr",
     "output_type": "stream",
     "text": [
      "\r",
      " 53%|█████████████████████████████████████████▊                                     | 530/1000 [09:29<12:05,  1.54s/it]"
     ]
    },
    {
     "name": "stdout",
     "output_type": "stream",
     "text": [
      "\t ----- reward: -2.5863203361947473 for f_star and f_minus: 0.08630932584386547 , 2.5863203361947473\n",
      "\t ---------- State is:  (0, 1)\n",
      "[INFO] [2023-04-11 16:57:48,914] [OpenBox-SPO] Iteration 531, objective value: [1.784680584790502].\n"
     ]
    },
    {
     "name": "stderr",
     "output_type": "stream",
     "text": [
      "\r",
      " 53%|█████████████████████████████████████████▉                                     | 531/1000 [09:31<11:56,  1.53s/it]"
     ]
    },
    {
     "name": "stdout",
     "output_type": "stream",
     "text": [
      "\t ----- reward: -1.784680584790502 for f_star and f_minus: 0.08630932584386547 , 1.784680584790502\n",
      "\t ---------- State is:  (0, 1)\n",
      "[INFO] [2023-04-11 16:57:50,366] [OpenBox-SPO] Iteration 532, objective value: [2.3834805407070663].\n"
     ]
    },
    {
     "name": "stderr",
     "output_type": "stream",
     "text": [
      "\r",
      " 53%|██████████████████████████████████████████                                     | 532/1000 [09:32<11:42,  1.50s/it]"
     ]
    },
    {
     "name": "stdout",
     "output_type": "stream",
     "text": [
      "\t ----- reward: -2.3834805407070663 for f_star and f_minus: 0.08630932584386547 , 2.3834805407070663\n",
      "\t ---------- State is:  (0, 1)\n",
      "[INFO] [2023-04-11 16:57:51,881] [OpenBox-SPO] Iteration 533, objective value: [1.1349383261934907].\n"
     ]
    },
    {
     "name": "stderr",
     "output_type": "stream",
     "text": [
      "\r",
      " 53%|██████████████████████████████████████████                                     | 533/1000 [09:34<11:42,  1.50s/it]"
     ]
    },
    {
     "name": "stdout",
     "output_type": "stream",
     "text": [
      "\t ----- reward: -1.1349383261934907 for f_star and f_minus: 0.08630932584386547 , 1.1349383261934907\n",
      "\t ---------- State is:  (1, 1)\n",
      "[INFO] [2023-04-11 16:57:53,609] [OpenBox-SPO] Iteration 534, objective value: [1.6614081562421799].\n"
     ]
    },
    {
     "name": "stderr",
     "output_type": "stream",
     "text": [
      "\r",
      " 53%|██████████████████████████████████████████▏                                    | 534/1000 [09:36<12:12,  1.57s/it]"
     ]
    },
    {
     "name": "stdout",
     "output_type": "stream",
     "text": [
      "\t ----- reward: -1.6614081562421799 for f_star and f_minus: 0.08630932584386547 , 1.6614081562421799\n",
      "\t ---------- State is:  (2, 1)\n",
      "[INFO] [2023-04-11 16:57:53,609] [Advisor] Sample random config. rand_prob=0.100000.\n",
      "[INFO] [2023-04-11 16:57:53,626] [OpenBox-SPO] Iteration 535, objective value: [1.1665516842174208].\n",
      "\t ----- reward: -1.1665516842174208 for f_star and f_minus: 0.08630932584386547 , 1.1665516842174208\n",
      "\t ---------- State is:  (1, 1)\n",
      "[INFO] [2023-04-11 16:57:55,187] [OpenBox-SPO] Iteration 536, objective value: [1.32018729337869].\n"
     ]
    },
    {
     "name": "stderr",
     "output_type": "stream",
     "text": [
      "\r",
      " 54%|██████████████████████████████████████████▎                                    | 536/1000 [09:37<09:21,  1.21s/it]"
     ]
    },
    {
     "name": "stdout",
     "output_type": "stream",
     "text": [
      "\t ----- reward: -1.32018729337869 for f_star and f_minus: 0.08630932584386547 , 1.32018729337869\n",
      "\t ---------- State is:  (1, 1)\n",
      "[INFO] [2023-04-11 16:57:56,458] [OpenBox-SPO] Iteration 537, objective value: [2.1718569576384787].\n"
     ]
    },
    {
     "name": "stderr",
     "output_type": "stream",
     "text": [
      "\r",
      " 54%|██████████████████████████████████████████▍                                    | 537/1000 [09:39<09:27,  1.23s/it]"
     ]
    },
    {
     "name": "stdout",
     "output_type": "stream",
     "text": [
      "\t ----- reward: -2.1718569576384787 for f_star and f_minus: 0.08630932584386547 , 2.1718569576384787\n",
      "\t ---------- State is:  (1, 1)\n",
      "[INFO] [2023-04-11 16:57:58,000] [OpenBox-SPO] Iteration 538, objective value: [1.6575069652773111].\n"
     ]
    },
    {
     "name": "stderr",
     "output_type": "stream",
     "text": [
      "\r",
      " 54%|██████████████████████████████████████████▌                                    | 538/1000 [09:40<10:04,  1.31s/it]"
     ]
    },
    {
     "name": "stdout",
     "output_type": "stream",
     "text": [
      "\t ----- reward: -1.6575069652773111 for f_star and f_minus: 0.08630932584386547 , 1.6575069652773111\n",
      "\t ---------- State is:  (2, 1)\n",
      "[INFO] [2023-04-11 16:57:59,126] [OpenBox-SPO] Iteration 539, objective value: [0.24704753498568693].\n"
     ]
    },
    {
     "name": "stderr",
     "output_type": "stream",
     "text": [
      "\r",
      " 54%|██████████████████████████████████████████▌                                    | 539/1000 [09:41<09:40,  1.26s/it]"
     ]
    },
    {
     "name": "stdout",
     "output_type": "stream",
     "text": [
      "\t ----- reward: -0.24704753498568693 for f_star and f_minus: 0.08630932584386547 , 0.24704753498568693\n",
      "\t ---------- State is:  (2, 1)\n",
      "[INFO] [2023-04-11 16:58:00,480] [OpenBox-SPO] Iteration 540, objective value: [1.1257194705910978].\n"
     ]
    },
    {
     "name": "stderr",
     "output_type": "stream",
     "text": [
      "\r",
      " 54%|██████████████████████████████████████████▋                                    | 540/1000 [09:43<09:51,  1.29s/it]"
     ]
    },
    {
     "name": "stdout",
     "output_type": "stream",
     "text": [
      "\t ----- reward: -1.1257194705910978 for f_star and f_minus: 0.08630932584386547 , 1.1257194705910978\n",
      "\t ---------- State is:  (2, 1)\n",
      "[INFO] [2023-04-11 16:58:01,932] [OpenBox-SPO] Iteration 541, objective value: [1.5154939246487888].\n"
     ]
    },
    {
     "name": "stderr",
     "output_type": "stream",
     "text": [
      "\r",
      " 54%|██████████████████████████████████████████▋                                    | 541/1000 [09:44<10:11,  1.33s/it]"
     ]
    },
    {
     "name": "stdout",
     "output_type": "stream",
     "text": [
      "\t ----- reward: -1.5154939246487888 for f_star and f_minus: 0.08630932584386547 , 1.5154939246487888\n",
      "\t ---------- State is:  (2, 1)\n",
      "[INFO] [2023-04-11 16:58:03,128] [OpenBox-SPO] Iteration 542, objective value: [1.8086274652988907].\n"
     ]
    },
    {
     "name": "stderr",
     "output_type": "stream",
     "text": [
      "\r",
      " 54%|██████████████████████████████████████████▊                                    | 542/1000 [09:45<09:52,  1.29s/it]"
     ]
    },
    {
     "name": "stdout",
     "output_type": "stream",
     "text": [
      "\t ----- reward: -1.8086274652988907 for f_star and f_minus: 0.08630932584386547 , 1.8086274652988907\n",
      "\t ---------- State is:  (1, 1)\n",
      "[INFO] [2023-04-11 16:58:04,323] [OpenBox-SPO] Iteration 543, objective value: [2.3495436625823656].\n"
     ]
    },
    {
     "name": "stderr",
     "output_type": "stream",
     "text": [
      "\r",
      " 54%|██████████████████████████████████████████▉                                    | 543/1000 [09:46<09:37,  1.26s/it]"
     ]
    },
    {
     "name": "stdout",
     "output_type": "stream",
     "text": [
      "\t ----- reward: -2.3495436625823656 for f_star and f_minus: 0.08630932584386547 , 2.3495436625823656\n",
      "\t ---------- State is:  (2, 1)\n",
      "[INFO] [2023-04-11 16:58:05,800] [OpenBox-SPO] Iteration 544, objective value: [0.30280292762528005].\n"
     ]
    },
    {
     "name": "stderr",
     "output_type": "stream",
     "text": [
      "\r",
      " 54%|██████████████████████████████████████████▉                                    | 544/1000 [09:48<10:05,  1.33s/it]"
     ]
    },
    {
     "name": "stdout",
     "output_type": "stream",
     "text": [
      "\t ----- reward: -0.30280292762528005 for f_star and f_minus: 0.08630932584386547 , 0.30280292762528005\n",
      "\t ---------- State is:  (3, 1)\n",
      "[INFO] [2023-04-11 16:58:05,802] [Advisor] Sample random config. rand_prob=0.100000.\n",
      "[INFO] [2023-04-11 16:58:05,804] [OpenBox-SPO] Iteration 545, objective value: [0.6584241161673063].\n",
      "\t ----- reward: -0.6584241161673063 for f_star and f_minus: 0.08630932584386547 , 0.6584241161673063\n",
      "\t ---------- State is:  (4, 1)\n",
      "[INFO] [2023-04-11 16:58:07,558] [OpenBox-SPO] Iteration 546, objective value: [1.037282534528428].\n"
     ]
    },
    {
     "name": "stderr",
     "output_type": "stream",
     "text": [
      "\r",
      " 55%|███████████████████████████████████████████▏                                   | 546/1000 [09:50<08:29,  1.12s/it]"
     ]
    },
    {
     "name": "stdout",
     "output_type": "stream",
     "text": [
      "\t ----- reward: -1.037282534528428 for f_star and f_minus: 0.08630932584386547 , 1.037282534528428\n",
      "\t ---------- State is:  (4, 1)\n",
      "[INFO] [2023-04-11 16:58:08,858] [OpenBox-SPO] Iteration 547, objective value: [1.1891224182347697].\n"
     ]
    },
    {
     "name": "stderr",
     "output_type": "stream",
     "text": [
      "\r",
      " 55%|███████████████████████████████████████████▏                                   | 547/1000 [09:51<08:48,  1.17s/it]"
     ]
    },
    {
     "name": "stdout",
     "output_type": "stream",
     "text": [
      "\t ----- reward: -1.1891224182347697 for f_star and f_minus: 0.08630932584386547 , 1.1891224182347697\n",
      "\t ---------- State is:  (5, 1)\n",
      "[INFO] [2023-04-11 16:58:08,858] [Advisor] Sample random config. rand_prob=0.100000.\n",
      "[INFO] [2023-04-11 16:58:08,858] [OpenBox-SPO] Iteration 548, objective value: [0.6079862028616989].\n",
      "\t ----- reward: -0.6079862028616989 for f_star and f_minus: 0.08630932584386547 , 0.6079862028616989\n",
      "\t ---------- State is:  (5, 1)\n",
      "[INFO] [2023-04-11 16:58:10,225] [OpenBox-SPO] Iteration 549, objective value: [1.5109523438120194].\n"
     ]
    },
    {
     "name": "stderr",
     "output_type": "stream",
     "text": [
      "\r",
      " 55%|███████████████████████████████████████████▎                                   | 549/1000 [09:52<07:16,  1.03it/s]"
     ]
    },
    {
     "name": "stdout",
     "output_type": "stream",
     "text": [
      "\t ----- reward: -1.5109523438120194 for f_star and f_minus: 0.08630932584386547 , 1.5109523438120194\n",
      "\t ---------- State is:  (5, 1)\n",
      "[INFO] [2023-04-11 16:58:11,725] [OpenBox-SPO] Iteration 550, objective value: [0.20414841054857763].\n"
     ]
    },
    {
     "name": "stderr",
     "output_type": "stream",
     "text": [
      "\r",
      " 55%|███████████████████████████████████████████▍                                   | 550/1000 [09:54<08:09,  1.09s/it]"
     ]
    },
    {
     "name": "stdout",
     "output_type": "stream",
     "text": [
      "\t ----- reward: -0.20414841054857763 for f_star and f_minus: 0.08630932584386547 , 0.20414841054857763\n",
      "\t ---------- State is:  (5, 1)\n",
      "[INFO] [2023-04-11 16:58:11,725] [Advisor] Sample random config. rand_prob=0.100000.\n",
      "[INFO] [2023-04-11 16:58:11,725] [OpenBox-SPO] Iteration 551, objective value: [1.912730403051469].\n",
      "\t ----- reward: -1.912730403051469 for f_star and f_minus: 0.08630932584386547 , 1.912730403051469\n",
      "\t ---------- State is:  (4, 1)\n",
      "[INFO] [2023-04-11 16:58:13,358] [OpenBox-SPO] Iteration 552, objective value: [0.2627144491794058].\n"
     ]
    },
    {
     "name": "stderr",
     "output_type": "stream",
     "text": [
      "\r",
      " 55%|███████████████████████████████████████████▌                                   | 552/1000 [09:55<07:19,  1.02it/s]"
     ]
    },
    {
     "name": "stdout",
     "output_type": "stream",
     "text": [
      "\t ----- reward: -0.2627144491794058 for f_star and f_minus: 0.08630932584386547 , 0.2627144491794058\n",
      "\t ---------- State is:  (3, 1)\n",
      "[INFO] [2023-04-11 16:58:13,358] [Advisor] Sample random config. rand_prob=0.100000.\n",
      "[INFO] [2023-04-11 16:58:13,358] [OpenBox-SPO] Iteration 553, objective value: [1.1152596466880076].\n",
      "\t ----- reward: -1.1152596466880076 for f_star and f_minus: 0.08630932584386547 , 1.1152596466880076\n",
      "\t ---------- State is:  (4, 1)\n",
      "[INFO] [2023-04-11 16:58:14,733] [OpenBox-SPO] Iteration 554, objective value: [0.25729599600648007].\n"
     ]
    },
    {
     "name": "stderr",
     "output_type": "stream",
     "text": [
      "\r",
      " 55%|███████████████████████████████████████████▊                                   | 554/1000 [09:57<06:30,  1.14it/s]"
     ]
    },
    {
     "name": "stdout",
     "output_type": "stream",
     "text": [
      "\t ----- reward: -0.25729599600648007 for f_star and f_minus: 0.08630932584386547 , 0.25729599600648007\n",
      "\t ---------- State is:  (3, 1)\n",
      "[INFO] [2023-04-11 16:58:16,020] [OpenBox-SPO] Iteration 555, objective value: [2.06117730128432].\n"
     ]
    },
    {
     "name": "stderr",
     "output_type": "stream",
     "text": [
      "\r",
      " 56%|███████████████████████████████████████████▊                                   | 555/1000 [09:58<07:08,  1.04it/s]"
     ]
    },
    {
     "name": "stdout",
     "output_type": "stream",
     "text": [
      "\t ----- reward: -2.06117730128432 for f_star and f_minus: 0.08630932584386547 , 2.06117730128432\n",
      "\t ---------- State is:  (3, 1)\n",
      "[INFO] [2023-04-11 16:58:17,328] [OpenBox-SPO] Iteration 556, objective value: [1.097244250905222].\n"
     ]
    },
    {
     "name": "stderr",
     "output_type": "stream",
     "text": [
      "\r",
      " 56%|███████████████████████████████████████████▉                                   | 556/1000 [09:59<07:40,  1.04s/it]"
     ]
    },
    {
     "name": "stdout",
     "output_type": "stream",
     "text": [
      "\t ----- reward: -1.097244250905222 for f_star and f_minus: 0.08630932584386547 , 1.097244250905222\n",
      "\t ---------- State is:  (3, 1)\n",
      "[INFO] [2023-04-11 16:58:19,129] [OpenBox-SPO] Iteration 557, objective value: [1.3245468451723468].\n"
     ]
    },
    {
     "name": "stderr",
     "output_type": "stream",
     "text": [
      "\r",
      " 56%|████████████████████████████████████████████                                   | 557/1000 [10:01<09:02,  1.22s/it]"
     ]
    },
    {
     "name": "stdout",
     "output_type": "stream",
     "text": [
      "\t ----- reward: -1.3245468451723468 for f_star and f_minus: 0.08630932584386547 , 1.3245468451723468\n",
      "\t ---------- State is:  (4, 1)\n",
      "[INFO] [2023-04-11 16:58:20,473] [OpenBox-SPO] Iteration 558, objective value: [0.17537531220600366].\n"
     ]
    },
    {
     "name": "stderr",
     "output_type": "stream",
     "text": [
      "\r",
      " 56%|████████████████████████████████████████████                                   | 558/1000 [10:03<09:14,  1.26s/it]"
     ]
    },
    {
     "name": "stdout",
     "output_type": "stream",
     "text": [
      "\t ----- reward: -0.17537531220600366 for f_star and f_minus: 0.08630932584386547 , 0.17537531220600366\n",
      "\t ---------- State is:  (3, 1)\n",
      "[INFO] [2023-04-11 16:58:20,474] [Advisor] Sample random config. rand_prob=0.100000.\n",
      "[INFO] [2023-04-11 16:58:20,474] [OpenBox-SPO] Iteration 559, objective value: [3.0141462313471936].\n",
      "\t ----- reward: -3.0141462313471936 for f_star and f_minus: 0.08630932584386547 , 3.0141462313471936\n",
      "\t ---------- State is:  (2, 1)\n",
      "[INFO] [2023-04-11 16:58:21,729] [OpenBox-SPO] Iteration 560, objective value: [1.2435122043866205].\n"
     ]
    },
    {
     "name": "stderr",
     "output_type": "stream",
     "text": [
      "\r",
      " 56%|████████████████████████████████████████████▏                                  | 560/1000 [10:04<07:14,  1.01it/s]"
     ]
    },
    {
     "name": "stdout",
     "output_type": "stream",
     "text": [
      "\t ----- reward: -1.2435122043866205 for f_star and f_minus: 0.08630932584386547 , 1.2435122043866205\n",
      "\t ---------- State is:  (3, 1)\n",
      "[INFO] [2023-04-11 16:58:23,351] [OpenBox-SPO] Iteration 561, objective value: [3.031550662225223].\n"
     ]
    },
    {
     "name": "stderr",
     "output_type": "stream",
     "text": [
      "\r",
      " 56%|████████████████████████████████████████████▎                                  | 561/1000 [10:05<08:18,  1.14s/it]"
     ]
    },
    {
     "name": "stdout",
     "output_type": "stream",
     "text": [
      "\t ----- reward: -3.031550662225223 for f_star and f_minus: 0.08630932584386547 , 3.031550662225223\n",
      "\t ---------- State is:  (4, 1)\n",
      "[INFO] [2023-04-11 16:58:24,903] [OpenBox-SPO] Iteration 562, objective value: [1.2770020404203373].\n"
     ]
    },
    {
     "name": "stderr",
     "output_type": "stream",
     "text": [
      "\r",
      " 56%|████████████████████████████████████████████▍                                  | 562/1000 [10:07<09:02,  1.24s/it]"
     ]
    },
    {
     "name": "stdout",
     "output_type": "stream",
     "text": [
      "\t ----- reward: -1.2770020404203373 for f_star and f_minus: 0.08630932584386547 , 1.2770020404203373\n",
      "\t ---------- State is:  (3, 1)\n",
      "[INFO] [2023-04-11 16:58:26,409] [OpenBox-SPO] Iteration 563, objective value: [2.6928029478804576].\n"
     ]
    },
    {
     "name": "stderr",
     "output_type": "stream",
     "text": [
      "\r",
      " 56%|████████████████████████████████████████████▍                                  | 563/1000 [10:08<09:32,  1.31s/it]"
     ]
    },
    {
     "name": "stdout",
     "output_type": "stream",
     "text": [
      "\t ----- reward: -2.6928029478804576 for f_star and f_minus: 0.08630932584386547 , 2.6928029478804576\n",
      "\t ---------- State is:  (3, 1)\n",
      "[INFO] [2023-04-11 16:58:26,409] [Advisor] Sample random config. rand_prob=0.100000.\n",
      "[INFO] [2023-04-11 16:58:26,413] [OpenBox-SPO] Iteration 564, objective value: [1.0936960535116464].\n",
      "\t ----- reward: -1.0936960535116464 for f_star and f_minus: 0.08630932584386547 , 1.0936960535116464\n",
      "\t ---------- State is:  (2, 1)\n",
      "[INFO] [2023-04-11 16:58:28,008] [OpenBox-SPO] Iteration 565, objective value: [1.3422512448086308].\n"
     ]
    },
    {
     "name": "stderr",
     "output_type": "stream",
     "text": [
      "\r",
      " 56%|████████████████████████████████████████████▋                                  | 565/1000 [10:10<07:54,  1.09s/it]"
     ]
    },
    {
     "name": "stdout",
     "output_type": "stream",
     "text": [
      "\t ----- reward: -1.3422512448086308 for f_star and f_minus: 0.08630932584386547 , 1.3422512448086308\n",
      "\t ---------- State is:  (3, 1)\n",
      "[INFO] [2023-04-11 16:58:29,358] [OpenBox-SPO] Iteration 566, objective value: [1.1841517290277526].\n"
     ]
    },
    {
     "name": "stderr",
     "output_type": "stream",
     "text": [
      "\r",
      " 57%|████████████████████████████████████████████▋                                  | 566/1000 [10:11<08:19,  1.15s/it]"
     ]
    },
    {
     "name": "stdout",
     "output_type": "stream",
     "text": [
      "\t ----- reward: -1.1841517290277526 for f_star and f_minus: 0.08630932584386547 , 1.1841517290277526\n",
      "\t ---------- State is:  (2, 1)\n",
      "[INFO] [2023-04-11 16:58:30,887] [OpenBox-SPO] Iteration 567, objective value: [1.31947939665173].\n"
     ]
    },
    {
     "name": "stderr",
     "output_type": "stream",
     "text": [
      "\r",
      " 57%|████████████████████████████████████████████▊                                  | 567/1000 [10:13<08:59,  1.25s/it]"
     ]
    },
    {
     "name": "stdout",
     "output_type": "stream",
     "text": [
      "\t ----- reward: -1.31947939665173 for f_star and f_minus: 0.08630932584386547 , 1.31947939665173\n",
      "\t ---------- State is:  (2, 1)\n",
      "[INFO] [2023-04-11 16:58:32,257] [OpenBox-SPO] Iteration 568, objective value: [0.957510834656942].\n"
     ]
    },
    {
     "name": "stderr",
     "output_type": "stream",
     "text": [
      "\r",
      " 57%|████████████████████████████████████████████▊                                  | 568/1000 [10:14<09:12,  1.28s/it]"
     ]
    },
    {
     "name": "stdout",
     "output_type": "stream",
     "text": [
      "\t ----- reward: -0.957510834656942 for f_star and f_minus: 0.08630932584386547 , 0.957510834656942\n",
      "\t ---------- State is:  (3, 1)\n",
      "[INFO] [2023-04-11 16:58:33,951] [OpenBox-SPO] Iteration 569, objective value: [1.1862448256502436].\n"
     ]
    },
    {
     "name": "stderr",
     "output_type": "stream",
     "text": [
      "\r",
      " 57%|████████████████████████████████████████████▉                                  | 569/1000 [10:16<10:00,  1.39s/it]"
     ]
    },
    {
     "name": "stdout",
     "output_type": "stream",
     "text": [
      "\t ----- reward: -1.1862448256502436 for f_star and f_minus: 0.08630932584386547 , 1.1862448256502436\n",
      "\t ---------- State is:  (2, 1)\n",
      "[INFO] [2023-04-11 16:58:35,350] [OpenBox-SPO] Iteration 570, objective value: [1.5072275361765963].\n"
     ]
    },
    {
     "name": "stderr",
     "output_type": "stream",
     "text": [
      "\r",
      " 57%|█████████████████████████████████████████████                                  | 570/1000 [10:17<09:59,  1.39s/it]"
     ]
    },
    {
     "name": "stdout",
     "output_type": "stream",
     "text": [
      "\t ----- reward: -1.5072275361765963 for f_star and f_minus: 0.08630932584386547 , 1.5072275361765963\n",
      "\t ---------- State is:  (3, 1)\n",
      "[INFO] [2023-04-11 16:58:36,800] [OpenBox-SPO] Iteration 571, objective value: [1.6498567248199532].\n"
     ]
    },
    {
     "name": "stderr",
     "output_type": "stream",
     "text": [
      "\r",
      " 57%|█████████████████████████████████████████████                                  | 571/1000 [10:19<10:05,  1.41s/it]"
     ]
    },
    {
     "name": "stdout",
     "output_type": "stream",
     "text": [
      "\t ----- reward: -1.6498567248199532 for f_star and f_minus: 0.08630932584386547 , 1.6498567248199532\n",
      "\t ---------- State is:  (2, 1)\n",
      "[INFO] [2023-04-11 16:58:38,455] [OpenBox-SPO] Iteration 572, objective value: [1.5883778119430054].\n"
     ]
    },
    {
     "name": "stderr",
     "output_type": "stream",
     "text": [
      "\r",
      " 57%|█████████████████████████████████████████████▏                                 | 572/1000 [10:20<10:33,  1.48s/it]"
     ]
    },
    {
     "name": "stdout",
     "output_type": "stream",
     "text": [
      "\t ----- reward: -1.5883778119430054 for f_star and f_minus: 0.08630932584386547 , 1.5883778119430054\n",
      "\t ---------- State is:  (1, 1)\n",
      "[INFO] [2023-04-11 16:58:39,962] [OpenBox-SPO] Iteration 573, objective value: [1.2939232723417646].\n"
     ]
    },
    {
     "name": "stderr",
     "output_type": "stream",
     "text": [
      "\r",
      " 57%|█████████████████████████████████████████████▎                                 | 573/1000 [10:22<10:35,  1.49s/it]"
     ]
    },
    {
     "name": "stdout",
     "output_type": "stream",
     "text": [
      "\t ----- reward: -1.2939232723417646 for f_star and f_minus: 0.08630932584386547 , 1.2939232723417646\n",
      "\t ---------- State is:  (1, 1)\n",
      "[INFO] [2023-04-11 16:58:41,245] [OpenBox-SPO] Iteration 574, objective value: [1.215986911469067].\n"
     ]
    },
    {
     "name": "stderr",
     "output_type": "stream",
     "text": [
      "\r",
      " 57%|█████████████████████████████████████████████▎                                 | 574/1000 [10:23<10:08,  1.43s/it]"
     ]
    },
    {
     "name": "stdout",
     "output_type": "stream",
     "text": [
      "\t ----- reward: -1.215986911469067 for f_star and f_minus: 0.08630932584386547 , 1.215986911469067\n",
      "\t ---------- State is:  (1, 1)\n",
      "[INFO] [2023-04-11 16:58:42,686] [OpenBox-SPO] Iteration 575, objective value: [1.205806424023443].\n"
     ]
    },
    {
     "name": "stderr",
     "output_type": "stream",
     "text": [
      "\r",
      " 57%|█████████████████████████████████████████████▍                                 | 575/1000 [10:25<10:08,  1.43s/it]"
     ]
    },
    {
     "name": "stdout",
     "output_type": "stream",
     "text": [
      "\t ----- reward: -1.205806424023443 for f_star and f_minus: 0.08630932584386547 , 1.205806424023443\n",
      "\t ---------- State is:  (1, 1)\n",
      "[INFO] [2023-04-11 16:58:44,008] [OpenBox-SPO] Iteration 576, objective value: [0.3801265544182429].\n"
     ]
    },
    {
     "name": "stderr",
     "output_type": "stream",
     "text": [
      "\r",
      " 58%|█████████████████████████████████████████████▌                                 | 576/1000 [10:26<09:53,  1.40s/it]"
     ]
    },
    {
     "name": "stdout",
     "output_type": "stream",
     "text": [
      "\t ----- reward: -0.3801265544182429 for f_star and f_minus: 0.08630932584386547 , 0.3801265544182429\n",
      "\t ---------- State is:  (1, 1)\n",
      "[INFO] [2023-04-11 16:58:44,008] [Advisor] Sample random config. rand_prob=0.100000.\n",
      "[INFO] [2023-04-11 16:58:44,011] [OpenBox-SPO] Iteration 577, objective value: [0.8108124127530046].\n",
      "\t ----- reward: -0.8108124127530046 for f_star and f_minus: 0.08630932584386547 , 0.8108124127530046\n",
      "\t ---------- State is:  (1, 1)\n",
      "[INFO] [2023-04-11 16:58:45,702] [OpenBox-SPO] Iteration 578, objective value: [1.8668452425220812].\n"
     ]
    },
    {
     "name": "stderr",
     "output_type": "stream",
     "text": [
      "\r",
      " 58%|█████████████████████████████████████████████▋                                 | 578/1000 [10:28<08:03,  1.15s/it]"
     ]
    },
    {
     "name": "stdout",
     "output_type": "stream",
     "text": [
      "\t ----- reward: -1.8668452425220812 for f_star and f_minus: 0.08630932584386547 , 1.8668452425220812\n",
      "\t ---------- State is:  (1, 1)\n",
      "[INFO] [2023-04-11 16:58:47,526] [OpenBox-SPO] Iteration 579, objective value: [1.4612878745808653].\n"
     ]
    },
    {
     "name": "stderr",
     "output_type": "stream",
     "text": [
      "\r",
      " 58%|█████████████████████████████████████████████▋                                 | 579/1000 [10:30<09:12,  1.31s/it]"
     ]
    },
    {
     "name": "stdout",
     "output_type": "stream",
     "text": [
      "\t ----- reward: -1.4612878745808653 for f_star and f_minus: 0.08630932584386547 , 1.4612878745808653\n",
      "\t ---------- State is:  (1, 1)\n",
      "[INFO] [2023-04-11 16:58:47,526] [Advisor] Sample random config. rand_prob=0.100000.\n",
      "[INFO] [2023-04-11 16:58:47,531] [OpenBox-SPO] Iteration 580, objective value: [1.2660504194922915].\n",
      "\t ----- reward: -1.2660504194922915 for f_star and f_minus: 0.08630932584386547 , 1.2660504194922915\n",
      "\t ---------- State is:  (1, 1)\n",
      "[INFO] [2023-04-11 16:58:48,810] [OpenBox-SPO] Iteration 581, objective value: [2.0783236732135597].\n"
     ]
    },
    {
     "name": "stderr",
     "output_type": "stream",
     "text": [
      "\r",
      " 58%|█████████████████████████████████████████████▉                                 | 581/1000 [10:31<07:13,  1.04s/it]"
     ]
    },
    {
     "name": "stdout",
     "output_type": "stream",
     "text": [
      "\t ----- reward: -2.0783236732135597 for f_star and f_minus: 0.08630932584386547 , 2.0783236732135597\n",
      "\t ---------- State is:  (1, 1)\n",
      "[INFO] [2023-04-11 16:58:50,268] [OpenBox-SPO] Iteration 582, objective value: [1.2845410833894806].\n"
     ]
    },
    {
     "name": "stderr",
     "output_type": "stream",
     "text": [
      "\r",
      " 58%|█████████████████████████████████████████████▉                                 | 582/1000 [10:32<07:53,  1.13s/it]"
     ]
    },
    {
     "name": "stdout",
     "output_type": "stream",
     "text": [
      "\t ----- reward: -1.2845410833894806 for f_star and f_minus: 0.08630932584386547 , 1.2845410833894806\n",
      "\t ---------- State is:  (1, 1)\n",
      "[INFO] [2023-04-11 16:58:51,562] [OpenBox-SPO] Iteration 583, objective value: [2.4221915517207546].\n"
     ]
    },
    {
     "name": "stderr",
     "output_type": "stream",
     "text": [
      "\r",
      " 58%|██████████████████████████████████████████████                                 | 583/1000 [10:34<08:10,  1.18s/it]"
     ]
    },
    {
     "name": "stdout",
     "output_type": "stream",
     "text": [
      "\t ----- reward: -2.4221915517207546 for f_star and f_minus: 0.08630932584386547 , 2.4221915517207546\n",
      "\t ---------- State is:  (1, 1)\n",
      "[INFO] [2023-04-11 16:58:52,953] [OpenBox-SPO] Iteration 584, objective value: [1.6955771490428306].\n"
     ]
    },
    {
     "name": "stderr",
     "output_type": "stream",
     "text": [
      "\r",
      " 58%|██████████████████████████████████████████████▏                                | 584/1000 [10:35<08:30,  1.23s/it]"
     ]
    },
    {
     "name": "stdout",
     "output_type": "stream",
     "text": [
      "\t ----- reward: -1.6955771490428306 for f_star and f_minus: 0.08630932584386547 , 1.6955771490428306\n",
      "\t ---------- State is:  (0, 1)\n",
      "[INFO] [2023-04-11 16:58:54,433] [OpenBox-SPO] Iteration 585, objective value: [1.2185525512187].\n"
     ]
    },
    {
     "name": "stderr",
     "output_type": "stream",
     "text": [
      "\r",
      " 58%|██████████████████████████████████████████████▏                                | 585/1000 [10:36<08:57,  1.30s/it]"
     ]
    },
    {
     "name": "stdout",
     "output_type": "stream",
     "text": [
      "\t ----- reward: -1.2185525512187 for f_star and f_minus: 0.08630932584386547 , 1.2185525512187\n",
      "\t ---------- State is:  (1, 1)\n",
      "[INFO] [2023-04-11 16:58:55,851] [OpenBox-SPO] Iteration 586, objective value: [1.648959468792495].\n"
     ]
    },
    {
     "name": "stderr",
     "output_type": "stream",
     "text": [
      "\r",
      " 59%|██████████████████████████████████████████████▎                                | 586/1000 [10:38<09:10,  1.33s/it]"
     ]
    },
    {
     "name": "stdout",
     "output_type": "stream",
     "text": [
      "\t ----- reward: -1.648959468792495 for f_star and f_minus: 0.08630932584386547 , 1.648959468792495\n",
      "\t ---------- State is:  (0, 1)\n",
      "[INFO] [2023-04-11 16:58:57,358] [OpenBox-SPO] Iteration 587, objective value: [3.248019631373351].\n"
     ]
    },
    {
     "name": "stderr",
     "output_type": "stream",
     "text": [
      "\r",
      " 59%|██████████████████████████████████████████████▎                                | 587/1000 [10:39<09:31,  1.38s/it]"
     ]
    },
    {
     "name": "stdout",
     "output_type": "stream",
     "text": [
      "\t ----- reward: -3.248019631373351 for f_star and f_minus: 0.08630932584386547 , 3.248019631373351\n",
      "\t ---------- State is:  (1, 1)\n",
      "[INFO] [2023-04-11 16:58:58,762] [OpenBox-SPO] Iteration 588, objective value: [1.243787623869751].\n"
     ]
    },
    {
     "name": "stderr",
     "output_type": "stream",
     "text": [
      "\r",
      " 59%|██████████████████████████████████████████████▍                                | 588/1000 [10:41<09:31,  1.39s/it]"
     ]
    },
    {
     "name": "stdout",
     "output_type": "stream",
     "text": [
      "\t ----- reward: -1.243787623869751 for f_star and f_minus: 0.08630932584386547 , 1.243787623869751\n",
      "\t ---------- State is:  (1, 1)\n",
      "[INFO] [2023-04-11 16:59:00,188] [OpenBox-SPO] Iteration 589, objective value: [1.2648855342735055].\n"
     ]
    },
    {
     "name": "stderr",
     "output_type": "stream",
     "text": [
      "\r",
      " 59%|██████████████████████████████████████████████▌                                | 589/1000 [10:42<09:34,  1.40s/it]"
     ]
    },
    {
     "name": "stdout",
     "output_type": "stream",
     "text": [
      "\t ----- reward: -1.2648855342735055 for f_star and f_minus: 0.08630932584386547 , 1.2648855342735055\n",
      "\t ---------- State is:  (1, 1)\n",
      "[INFO] [2023-04-11 16:59:01,870] [OpenBox-SPO] Iteration 590, objective value: [1.8493406554962961].\n"
     ]
    },
    {
     "name": "stderr",
     "output_type": "stream",
     "text": [
      "\r",
      " 59%|██████████████████████████████████████████████▌                                | 590/1000 [10:44<10:07,  1.48s/it]"
     ]
    },
    {
     "name": "stdout",
     "output_type": "stream",
     "text": [
      "\t ----- reward: -1.8493406554962961 for f_star and f_minus: 0.08630932584386547 , 1.8493406554962961\n",
      "\t ---------- State is:  (1, 1)\n",
      "[INFO] [2023-04-11 16:59:01,870] [Advisor] Sample random config. rand_prob=0.100000.\n",
      "[INFO] [2023-04-11 16:59:01,879] [OpenBox-SPO] Iteration 591, objective value: [0.7974402026817095].\n",
      "\t ----- reward: -0.7974402026817095 for f_star and f_minus: 0.08630932584386547 , 0.7974402026817095\n",
      "\t ---------- State is:  (1, 1)\n",
      "[INFO] [2023-04-11 16:59:03,019] [OpenBox-SPO] Iteration 592, objective value: [1.3887943716386462].\n"
     ]
    },
    {
     "name": "stderr",
     "output_type": "stream",
     "text": [
      "\r",
      " 59%|██████████████████████████████████████████████▊                                | 592/1000 [10:45<07:15,  1.07s/it]"
     ]
    },
    {
     "name": "stdout",
     "output_type": "stream",
     "text": [
      "\t ----- reward: -1.3887943716386462 for f_star and f_minus: 0.08630932584386547 , 1.3887943716386462\n",
      "\t ---------- State is:  (1, 1)\n",
      "[INFO] [2023-04-11 16:59:03,034] [Advisor] Sample random config. rand_prob=0.100000.\n",
      "[INFO] [2023-04-11 16:59:03,036] [OpenBox-SPO] Iteration 593, objective value: [1.8500045168731907].\n",
      "\t ----- reward: -1.8500045168731907 for f_star and f_minus: 0.08630932584386547 , 1.8500045168731907\n",
      "\t ---------- State is:  (1, 1)\n",
      "[INFO] [2023-04-11 16:59:04,570] [OpenBox-SPO] Iteration 594, objective value: [1.041116818728136].\n"
     ]
    },
    {
     "name": "stderr",
     "output_type": "stream",
     "text": [
      "\r",
      " 59%|██████████████████████████████████████████████▉                                | 594/1000 [10:47<06:26,  1.05it/s]"
     ]
    },
    {
     "name": "stdout",
     "output_type": "stream",
     "text": [
      "\t ----- reward: -1.041116818728136 for f_star and f_minus: 0.08630932584386547 , 1.041116818728136\n",
      "\t ---------- State is:  (1, 1)\n",
      "[INFO] [2023-04-11 16:59:06,154] [OpenBox-SPO] Iteration 595, objective value: [0.18366251268096428].\n"
     ]
    },
    {
     "name": "stderr",
     "output_type": "stream",
     "text": [
      "\r",
      " 60%|███████████████████████████████████████████████                                | 595/1000 [10:48<07:23,  1.09s/it]"
     ]
    },
    {
     "name": "stdout",
     "output_type": "stream",
     "text": [
      "\t ----- reward: -0.18366251268096428 for f_star and f_minus: 0.08630932584386547 , 0.18366251268096428\n",
      "\t ---------- State is:  (1, 1)\n",
      "[INFO] [2023-04-11 16:59:07,690] [OpenBox-SPO] Iteration 596, objective value: [1.0327807080124536].\n"
     ]
    },
    {
     "name": "stderr",
     "output_type": "stream",
     "text": [
      "\r",
      " 60%|███████████████████████████████████████████████                                | 596/1000 [10:50<08:03,  1.20s/it]"
     ]
    },
    {
     "name": "stdout",
     "output_type": "stream",
     "text": [
      "\t ----- reward: -1.0327807080124536 for f_star and f_minus: 0.08630932584386547 , 1.0327807080124536\n",
      "\t ---------- State is:  (1, 1)\n",
      "[INFO] [2023-04-11 16:59:09,119] [OpenBox-SPO] Iteration 597, objective value: [1.2436186872079082].\n"
     ]
    },
    {
     "name": "stderr",
     "output_type": "stream",
     "text": [
      "\r",
      " 60%|███████████████████████████████████████████████▏                               | 597/1000 [10:51<08:26,  1.26s/it]"
     ]
    },
    {
     "name": "stdout",
     "output_type": "stream",
     "text": [
      "\t ----- reward: -1.2436186872079082 for f_star and f_minus: 0.08630932584386547 , 1.2436186872079082\n",
      "\t ---------- State is:  (1, 1)\n",
      "[INFO] [2023-04-11 16:59:10,403] [OpenBox-SPO] Iteration 598, objective value: [2.188447672791573].\n"
     ]
    },
    {
     "name": "stderr",
     "output_type": "stream",
     "text": [
      "\r",
      " 60%|███████████████████████████████████████████████▏                               | 598/1000 [10:52<08:27,  1.26s/it]"
     ]
    },
    {
     "name": "stdout",
     "output_type": "stream",
     "text": [
      "\t ----- reward: -2.188447672791573 for f_star and f_minus: 0.08630932584386547 , 2.188447672791573\n",
      "\t ---------- State is:  (1, 1)\n",
      "[INFO] [2023-04-11 16:59:11,892] [OpenBox-SPO] Iteration 599, objective value: [1.141690088348457].\n"
     ]
    },
    {
     "name": "stderr",
     "output_type": "stream",
     "text": [
      "\r",
      " 60%|███████████████████████████████████████████████▎                               | 599/1000 [10:54<08:51,  1.33s/it]"
     ]
    },
    {
     "name": "stdout",
     "output_type": "stream",
     "text": [
      "\t ----- reward: -1.141690088348457 for f_star and f_minus: 0.08630932584386547 , 1.141690088348457\n",
      "\t ---------- State is:  (1, 1)\n",
      "[INFO] [2023-04-11 16:59:13,508] [OpenBox-SPO] Iteration 600, objective value: [1.3808438507552399].\n"
     ]
    },
    {
     "name": "stderr",
     "output_type": "stream",
     "text": [
      "\r",
      " 60%|███████████████████████████████████████████████▍                               | 600/1000 [10:56<09:23,  1.41s/it]"
     ]
    },
    {
     "name": "stdout",
     "output_type": "stream",
     "text": [
      "\t ----- reward: -1.3808438507552399 for f_star and f_minus: 0.08630932584386547 , 1.3808438507552399\n",
      "\t ---------- State is:  (1, 1)\n",
      "[INFO] [2023-04-11 16:59:15,187] [OpenBox-SPO] Iteration 601, objective value: [0.2948196258792552].\n"
     ]
    },
    {
     "name": "stderr",
     "output_type": "stream",
     "text": [
      "\r",
      " 60%|███████████████████████████████████████████████▍                               | 601/1000 [10:57<09:52,  1.49s/it]"
     ]
    },
    {
     "name": "stdout",
     "output_type": "stream",
     "text": [
      "\t ----- reward: -0.2948196258792552 for f_star and f_minus: 0.08630932584386547 , 0.2948196258792552\n",
      "\t ---------- State is:  (1, 1)\n",
      "[INFO] [2023-04-11 16:59:16,948] [OpenBox-SPO] Iteration 602, objective value: [0.6808305297081886].\n"
     ]
    },
    {
     "name": "stderr",
     "output_type": "stream",
     "text": [
      "\r",
      " 60%|███████████████████████████████████████████████▌                               | 602/1000 [10:59<10:23,  1.57s/it]"
     ]
    },
    {
     "name": "stdout",
     "output_type": "stream",
     "text": [
      "\t ----- reward: -0.6808305297081886 for f_star and f_minus: 0.08630932584386547 , 0.6808305297081886\n",
      "\t ---------- State is:  (1, 1)\n",
      "[INFO] [2023-04-11 16:59:18,433] [OpenBox-SPO] Iteration 603, objective value: [1.127960251674256].\n"
     ]
    },
    {
     "name": "stderr",
     "output_type": "stream",
     "text": [
      "\r",
      " 60%|███████████████████████████████████████████████▋                               | 603/1000 [11:00<10:12,  1.54s/it]"
     ]
    },
    {
     "name": "stdout",
     "output_type": "stream",
     "text": [
      "\t ----- reward: -1.127960251674256 for f_star and f_minus: 0.08630932584386547 , 1.127960251674256\n",
      "\t ---------- State is:  (1, 1)\n",
      "[INFO] [2023-04-11 16:59:18,433] [Advisor] Sample random config. rand_prob=0.100000.\n",
      "[INFO] [2023-04-11 16:59:18,441] [OpenBox-SPO] Iteration 604, objective value: [1.5442095755414733].\n",
      "\t ----- reward: -1.5442095755414733 for f_star and f_minus: 0.08630932584386547 , 1.5442095755414733\n",
      "\t ---------- State is:  (1, 1)\n",
      "[INFO] [2023-04-11 16:59:19,918] [OpenBox-SPO] Iteration 605, objective value: [1.9175996297038904].\n"
     ]
    },
    {
     "name": "stderr",
     "output_type": "stream",
     "text": [
      "\r",
      " 60%|███████████████████████████████████████████████▊                               | 605/1000 [11:02<07:44,  1.18s/it]"
     ]
    },
    {
     "name": "stdout",
     "output_type": "stream",
     "text": [
      "\t ----- reward: -1.9175996297038904 for f_star and f_minus: 0.08630932584386547 , 1.9175996297038904\n",
      "\t ---------- State is:  (1, 1)\n",
      "[INFO] [2023-04-11 16:59:21,755] [OpenBox-SPO] Iteration 606, objective value: [1.3164292215277382].\n"
     ]
    },
    {
     "name": "stderr",
     "output_type": "stream",
     "text": [
      "\r",
      " 61%|███████████████████████████████████████████████▊                               | 606/1000 [11:04<08:47,  1.34s/it]"
     ]
    },
    {
     "name": "stdout",
     "output_type": "stream",
     "text": [
      "\t ----- reward: -1.3164292215277382 for f_star and f_minus: 0.08630932584386547 , 1.3164292215277382\n",
      "\t ---------- State is:  (1, 1)\n",
      "[INFO] [2023-04-11 16:59:23,392] [OpenBox-SPO] Iteration 607, objective value: [1.0860941073835082].\n"
     ]
    },
    {
     "name": "stderr",
     "output_type": "stream",
     "text": [
      "\r",
      " 61%|███████████████████████████████████████████████▉                               | 607/1000 [11:05<09:16,  1.42s/it]"
     ]
    },
    {
     "name": "stdout",
     "output_type": "stream",
     "text": [
      "\t ----- reward: -1.0860941073835082 for f_star and f_minus: 0.08630932584386547 , 1.0860941073835082\n",
      "\t ---------- State is:  (1, 1)\n",
      "[INFO] [2023-04-11 16:59:24,992] [OpenBox-SPO] Iteration 608, objective value: [1.3761890902996274].\n"
     ]
    },
    {
     "name": "stderr",
     "output_type": "stream",
     "text": [
      "\r",
      " 61%|████████████████████████████████████████████████                               | 608/1000 [11:07<09:34,  1.47s/it]"
     ]
    },
    {
     "name": "stdout",
     "output_type": "stream",
     "text": [
      "\t ----- reward: -1.3761890902996274 for f_star and f_minus: 0.08630932584386547 , 1.3761890902996274\n",
      "\t ---------- State is:  (1, 1)\n",
      "[INFO] [2023-04-11 16:59:26,428] [OpenBox-SPO] Iteration 609, objective value: [1.398699313078271].\n"
     ]
    },
    {
     "name": "stderr",
     "output_type": "stream",
     "text": [
      "\r",
      " 61%|████████████████████████████████████████████████                               | 609/1000 [11:08<09:30,  1.46s/it]"
     ]
    },
    {
     "name": "stdout",
     "output_type": "stream",
     "text": [
      "\t ----- reward: -1.398699313078271 for f_star and f_minus: 0.08630932584386547 , 1.398699313078271\n",
      "\t ---------- State is:  (1, 1)\n",
      "[INFO] [2023-04-11 16:59:27,917] [OpenBox-SPO] Iteration 610, objective value: [2.124289969894035].\n"
     ]
    },
    {
     "name": "stderr",
     "output_type": "stream",
     "text": [
      "\r",
      " 61%|████████████████████████████████████████████████▏                              | 610/1000 [11:10<09:33,  1.47s/it]"
     ]
    },
    {
     "name": "stdout",
     "output_type": "stream",
     "text": [
      "\t ----- reward: -2.124289969894035 for f_star and f_minus: 0.08630932584386547 , 2.124289969894035\n",
      "\t ---------- State is:  (1, 1)\n",
      "[INFO] [2023-04-11 16:59:29,275] [OpenBox-SPO] Iteration 611, objective value: [1.2630789387184735].\n"
     ]
    },
    {
     "name": "stderr",
     "output_type": "stream",
     "text": [
      "\r",
      " 61%|████████████████████████████████████████████████▎                              | 611/1000 [11:11<09:17,  1.43s/it]"
     ]
    },
    {
     "name": "stdout",
     "output_type": "stream",
     "text": [
      "\t ----- reward: -1.2630789387184735 for f_star and f_minus: 0.08630932584386547 , 1.2630789387184735\n",
      "\t ---------- State is:  (1, 1)\n",
      "[INFO] [2023-04-11 16:59:30,952] [OpenBox-SPO] Iteration 612, objective value: [2.7400782065404203].\n"
     ]
    },
    {
     "name": "stderr",
     "output_type": "stream",
     "text": [
      "\r",
      " 61%|████████████████████████████████████████████████▎                              | 612/1000 [11:13<09:43,  1.50s/it]"
     ]
    },
    {
     "name": "stdout",
     "output_type": "stream",
     "text": [
      "\t ----- reward: -2.7400782065404203 for f_star and f_minus: 0.08630932584386547 , 2.7400782065404203\n",
      "\t ---------- State is:  (1, 1)\n",
      "[INFO] [2023-04-11 16:59:32,251] [OpenBox-SPO] Iteration 613, objective value: [1.072211997042111].\n"
     ]
    },
    {
     "name": "stderr",
     "output_type": "stream",
     "text": [
      "\r",
      " 61%|████████████████████████████████████████████████▍                              | 613/1000 [11:14<09:19,  1.44s/it]"
     ]
    },
    {
     "name": "stdout",
     "output_type": "stream",
     "text": [
      "\t ----- reward: -1.072211997042111 for f_star and f_minus: 0.08630932584386547 , 1.072211997042111\n",
      "\t ---------- State is:  (0, 1)\n",
      "[INFO] [2023-04-11 16:59:33,576] [OpenBox-SPO] Iteration 614, objective value: [1.1016275617430302].\n"
     ]
    },
    {
     "name": "stderr",
     "output_type": "stream",
     "text": [
      "\r",
      " 61%|████████████████████████████████████████████████▌                              | 614/1000 [11:16<09:03,  1.41s/it]"
     ]
    },
    {
     "name": "stdout",
     "output_type": "stream",
     "text": [
      "\t ----- reward: -1.1016275617430302 for f_star and f_minus: 0.08630932584386547 , 1.1016275617430302\n",
      "\t ---------- State is:  (0, 1)\n",
      "[INFO] [2023-04-11 16:59:35,059] [OpenBox-SPO] Iteration 615, objective value: [1.3598705660780817].\n"
     ]
    },
    {
     "name": "stderr",
     "output_type": "stream",
     "text": [
      "\r",
      " 62%|████████████████████████████████████████████████▌                              | 615/1000 [11:17<09:10,  1.43s/it]"
     ]
    },
    {
     "name": "stdout",
     "output_type": "stream",
     "text": [
      "\t ----- reward: -1.3598705660780817 for f_star and f_minus: 0.08630932584386547 , 1.3598705660780817\n",
      "\t ---------- State is:  (0, 1)\n",
      "[INFO] [2023-04-11 16:59:36,554] [OpenBox-SPO] Iteration 616, objective value: [2.0772250419189637].\n"
     ]
    },
    {
     "name": "stderr",
     "output_type": "stream",
     "text": [
      "\r",
      " 62%|████████████████████████████████████████████████▋                              | 616/1000 [11:19<09:16,  1.45s/it]"
     ]
    },
    {
     "name": "stdout",
     "output_type": "stream",
     "text": [
      "\t ----- reward: -2.0772250419189637 for f_star and f_minus: 0.08630932584386547 , 2.0772250419189637\n",
      "\t ---------- State is:  (0, 1)\n",
      "[INFO] [2023-04-11 16:59:38,177] [OpenBox-SPO] Iteration 617, objective value: [2.373711050984999].\n"
     ]
    },
    {
     "name": "stderr",
     "output_type": "stream",
     "text": [
      "\r",
      " 62%|████████████████████████████████████████████████▋                              | 617/1000 [11:20<09:35,  1.50s/it]"
     ]
    },
    {
     "name": "stdout",
     "output_type": "stream",
     "text": [
      "\t ----- reward: -2.373711050984999 for f_star and f_minus: 0.08630932584386547 , 2.373711050984999\n",
      "\t ---------- State is:  (0, 1)\n",
      "[INFO] [2023-04-11 16:59:39,805] [OpenBox-SPO] Iteration 618, objective value: [1.3358653583013853].\n"
     ]
    },
    {
     "name": "stderr",
     "output_type": "stream",
     "text": [
      "\r",
      " 62%|████████████████████████████████████████████████▊                              | 618/1000 [11:22<09:48,  1.54s/it]"
     ]
    },
    {
     "name": "stdout",
     "output_type": "stream",
     "text": [
      "\t ----- reward: -1.3358653583013853 for f_star and f_minus: 0.08630932584386547 , 1.3358653583013853\n",
      "\t ---------- State is:  (0, 1)\n",
      "[INFO] [2023-04-11 16:59:39,805] [Advisor] Sample random config. rand_prob=0.100000.\n",
      "[INFO] [2023-04-11 16:59:39,821] [OpenBox-SPO] Iteration 619, objective value: [1.5386065033027592].\n",
      "\t ----- reward: -1.5386065033027592 for f_star and f_minus: 0.08630932584386547 , 1.5386065033027592\n",
      "\t ---------- State is:  (0, 1)\n",
      "[INFO] [2023-04-11 16:59:41,156] [OpenBox-SPO] Iteration 620, objective value: [1.473656466416993].\n"
     ]
    },
    {
     "name": "stderr",
     "output_type": "stream",
     "text": [
      "\r",
      " 62%|████████████████████████████████████████████████▉                              | 620/1000 [11:23<07:13,  1.14s/it]"
     ]
    },
    {
     "name": "stdout",
     "output_type": "stream",
     "text": [
      "\t ----- reward: -1.473656466416993 for f_star and f_minus: 0.08630932584386547 , 1.473656466416993\n",
      "\t ---------- State is:  (0, 1)\n",
      "[INFO] [2023-04-11 16:59:41,156] [Advisor] Sample random config. rand_prob=0.100000.\n",
      "[INFO] [2023-04-11 16:59:41,168] [OpenBox-SPO] Iteration 621, objective value: [2.071445669398751].\n",
      "\t ----- reward: -2.071445669398751 for f_star and f_minus: 0.08630932584386547 , 2.071445669398751\n",
      "\t ---------- State is:  (0, 1)\n",
      "[INFO] [2023-04-11 16:59:42,492] [OpenBox-SPO] Iteration 622, objective value: [1.5610932239676527].\n"
     ]
    },
    {
     "name": "stderr",
     "output_type": "stream",
     "text": [
      "\r",
      " 62%|█████████████████████████████████████████████████▏                             | 622/1000 [11:25<06:00,  1.05it/s]"
     ]
    },
    {
     "name": "stdout",
     "output_type": "stream",
     "text": [
      "\t ----- reward: -1.5610932239676527 for f_star and f_minus: 0.08630932584386547 , 1.5610932239676527\n",
      "\t ---------- State is:  (0, 1)\n",
      "[INFO] [2023-04-11 16:59:44,199] [OpenBox-SPO] Iteration 623, objective value: [0.18649594914764228].\n"
     ]
    },
    {
     "name": "stderr",
     "output_type": "stream",
     "text": [
      "\r",
      " 62%|█████████████████████████████████████████████████▏                             | 623/1000 [11:26<07:02,  1.12s/it]"
     ]
    },
    {
     "name": "stdout",
     "output_type": "stream",
     "text": [
      "\t ----- reward: -0.18649594914764228 for f_star and f_minus: 0.08630932584386547 , 0.18649594914764228\n",
      "\t ---------- State is:  (0, 1)\n",
      "[INFO] [2023-04-11 16:59:45,570] [OpenBox-SPO] Iteration 624, objective value: [1.6864756719377791].\n"
     ]
    },
    {
     "name": "stderr",
     "output_type": "stream",
     "text": [
      "\r",
      " 62%|█████████████████████████████████████████████████▎                             | 624/1000 [11:28<07:23,  1.18s/it]"
     ]
    },
    {
     "name": "stdout",
     "output_type": "stream",
     "text": [
      "\t ----- reward: -1.6864756719377791 for f_star and f_minus: 0.08630932584386547 , 1.6864756719377791\n",
      "\t ---------- State is:  (0, 1)\n",
      "[INFO] [2023-04-11 16:59:46,964] [OpenBox-SPO] Iteration 625, objective value: [1.7349878499943412].\n"
     ]
    },
    {
     "name": "stderr",
     "output_type": "stream",
     "text": [
      "\r",
      " 62%|█████████████████████████████████████████████████▍                             | 625/1000 [11:29<07:42,  1.23s/it]"
     ]
    },
    {
     "name": "stdout",
     "output_type": "stream",
     "text": [
      "\t ----- reward: -1.7349878499943412 for f_star and f_minus: 0.08630932584386547 , 1.7349878499943412\n",
      "\t ---------- State is:  (0, 1)\n",
      "[INFO] [2023-04-11 16:59:48,609] [OpenBox-SPO] Iteration 626, objective value: [1.1629726887552136].\n"
     ]
    },
    {
     "name": "stderr",
     "output_type": "stream",
     "text": [
      "\r",
      " 63%|█████████████████████████████████████████████████▍                             | 626/1000 [11:31<08:22,  1.34s/it]"
     ]
    },
    {
     "name": "stdout",
     "output_type": "stream",
     "text": [
      "\t ----- reward: -1.1629726887552136 for f_star and f_minus: 0.08630932584386547 , 1.1629726887552136\n",
      "\t ---------- State is:  (0, 1)\n",
      "[INFO] [2023-04-11 16:59:50,269] [OpenBox-SPO] Iteration 627, objective value: [1.6423399721213736].\n"
     ]
    },
    {
     "name": "stderr",
     "output_type": "stream",
     "text": [
      "\r",
      " 63%|█████████████████████████████████████████████████▌                             | 627/1000 [11:32<08:53,  1.43s/it]"
     ]
    },
    {
     "name": "stdout",
     "output_type": "stream",
     "text": [
      "\t ----- reward: -1.6423399721213736 for f_star and f_minus: 0.08630932584386547 , 1.6423399721213736\n",
      "\t ---------- State is:  (0, 1)\n",
      "[INFO] [2023-04-11 16:59:50,269] [Advisor] Sample random config. rand_prob=0.100000.\n",
      "[INFO] [2023-04-11 16:59:50,272] [OpenBox-SPO] Iteration 628, objective value: [1.784649509964503].\n",
      "\t ----- reward: -1.784649509964503 for f_star and f_minus: 0.08630932584386547 , 1.784649509964503\n",
      "\t ---------- State is:  (0, 1)\n",
      "[INFO] [2023-04-11 16:59:51,622] [OpenBox-SPO] Iteration 629, objective value: [1.8771530145319988].\n"
     ]
    },
    {
     "name": "stderr",
     "output_type": "stream",
     "text": [
      "\r",
      " 63%|█████████████████████████████████████████████████▋                             | 629/1000 [11:34<06:47,  1.10s/it]"
     ]
    },
    {
     "name": "stdout",
     "output_type": "stream",
     "text": [
      "\t ----- reward: -1.8771530145319988 for f_star and f_minus: 0.08630932584386547 , 1.8771530145319988\n",
      "\t ---------- State is:  (0, 1)\n",
      "[INFO] [2023-04-11 16:59:53,219] [OpenBox-SPO] Iteration 630, objective value: [0.3153483948381772].\n"
     ]
    },
    {
     "name": "stderr",
     "output_type": "stream",
     "text": [
      "\r",
      " 63%|█████████████████████████████████████████████████▊                             | 630/1000 [11:35<07:30,  1.22s/it]"
     ]
    },
    {
     "name": "stdout",
     "output_type": "stream",
     "text": [
      "\t ----- reward: -0.3153483948381772 for f_star and f_minus: 0.08630932584386547 , 0.3153483948381772\n",
      "\t ---------- State is:  (1, 1)\n",
      "[INFO] [2023-04-11 16:59:54,410] [OpenBox-SPO] Iteration 631, objective value: [1.5211851836115942].\n"
     ]
    },
    {
     "name": "stderr",
     "output_type": "stream",
     "text": [
      "\r",
      " 63%|█████████████████████████████████████████████████▊                             | 631/1000 [11:36<07:26,  1.21s/it]"
     ]
    },
    {
     "name": "stdout",
     "output_type": "stream",
     "text": [
      "\t ----- reward: -1.5211851836115942 for f_star and f_minus: 0.08630932584386547 , 1.5211851836115942\n",
      "\t ---------- State is:  (0, 1)\n",
      "[INFO] [2023-04-11 16:59:55,632] [OpenBox-SPO] Iteration 632, objective value: [1.2015874767008563].\n"
     ]
    },
    {
     "name": "stderr",
     "output_type": "stream",
     "text": [
      "\r",
      " 63%|█████████████████████████████████████████████████▉                             | 632/1000 [11:38<07:26,  1.21s/it]"
     ]
    },
    {
     "name": "stdout",
     "output_type": "stream",
     "text": [
      "\t ----- reward: -1.2015874767008563 for f_star and f_minus: 0.08630932584386547 , 1.2015874767008563\n",
      "\t ---------- State is:  (1, 1)\n",
      "[INFO] [2023-04-11 16:59:57,047] [OpenBox-SPO] Iteration 633, objective value: [2.1708719334846016].\n"
     ]
    },
    {
     "name": "stderr",
     "output_type": "stream",
     "text": [
      "\r",
      " 63%|██████████████████████████████████████████████████                             | 633/1000 [11:39<07:45,  1.27s/it]"
     ]
    },
    {
     "name": "stdout",
     "output_type": "stream",
     "text": [
      "\t ----- reward: -2.1708719334846016 for f_star and f_minus: 0.08630932584386547 , 2.1708719334846016\n",
      "\t ---------- State is:  (1, 1)\n",
      "[INFO] [2023-04-11 16:59:58,434] [OpenBox-SPO] Iteration 634, objective value: [1.4149297263129792].\n"
     ]
    },
    {
     "name": "stderr",
     "output_type": "stream",
     "text": [
      "\r",
      " 63%|██████████████████████████████████████████████████                             | 634/1000 [11:40<07:56,  1.30s/it]"
     ]
    },
    {
     "name": "stdout",
     "output_type": "stream",
     "text": [
      "\t ----- reward: -1.4149297263129792 for f_star and f_minus: 0.08630932584386547 , 1.4149297263129792\n",
      "\t ---------- State is:  (0, 1)\n",
      "[INFO] [2023-04-11 17:00:00,063] [OpenBox-SPO] Iteration 635, objective value: [1.2137787645168916].\n"
     ]
    },
    {
     "name": "stderr",
     "output_type": "stream",
     "text": [
      "\r",
      " 64%|██████████████████████████████████████████████████▏                            | 635/1000 [11:42<08:29,  1.40s/it]"
     ]
    },
    {
     "name": "stdout",
     "output_type": "stream",
     "text": [
      "\t ----- reward: -1.2137787645168916 for f_star and f_minus: 0.08630932584386547 , 1.2137787645168916\n",
      "\t ---------- State is:  (1, 1)\n",
      "[INFO] [2023-04-11 17:00:00,065] [Advisor] Sample random config. rand_prob=0.100000.\n",
      "[INFO] [2023-04-11 17:00:00,067] [OpenBox-SPO] Iteration 636, objective value: [2.3580638337971305].\n",
      "\t ----- reward: -2.3580638337971305 for f_star and f_minus: 0.08630932584386547 , 2.3580638337971305\n",
      "\t ---------- State is:  (0, 1)\n",
      "[INFO] [2023-04-11 17:00:01,426] [OpenBox-SPO] Iteration 637, objective value: [2.1612934222236144].\n"
     ]
    },
    {
     "name": "stderr",
     "output_type": "stream",
     "text": [
      "\r",
      " 64%|██████████████████████████████████████████████████▎                            | 637/1000 [11:43<06:29,  1.07s/it]"
     ]
    },
    {
     "name": "stdout",
     "output_type": "stream",
     "text": [
      "\t ----- reward: -2.1612934222236144 for f_star and f_minus: 0.08630932584386547 , 2.1612934222236144\n",
      "\t ---------- State is:  (1, 1)\n",
      "[INFO] [2023-04-11 17:00:03,124] [OpenBox-SPO] Iteration 638, objective value: [1.6793263177511892].\n"
     ]
    },
    {
     "name": "stderr",
     "output_type": "stream",
     "text": [
      "\r",
      " 64%|██████████████████████████████████████████████████▍                            | 638/1000 [11:45<07:23,  1.23s/it]"
     ]
    },
    {
     "name": "stdout",
     "output_type": "stream",
     "text": [
      "\t ----- reward: -1.6793263177511892 for f_star and f_minus: 0.08630932584386547 , 1.6793263177511892\n",
      "\t ---------- State is:  (2, 1)\n",
      "[INFO] [2023-04-11 17:00:04,469] [OpenBox-SPO] Iteration 639, objective value: [2.441090263706773].\n"
     ]
    },
    {
     "name": "stderr",
     "output_type": "stream",
     "text": [
      "\r",
      " 64%|██████████████████████████████████████████████████▍                            | 639/1000 [11:47<07:33,  1.26s/it]"
     ]
    },
    {
     "name": "stdout",
     "output_type": "stream",
     "text": [
      "\t ----- reward: -2.441090263706773 for f_star and f_minus: 0.08630932584386547 , 2.441090263706773\n",
      "\t ---------- State is:  (2, 1)\n",
      "[INFO] [2023-04-11 17:00:05,477] [OpenBox-SPO] Iteration 640, objective value: [0.24422499421122337].\n"
     ]
    },
    {
     "name": "stderr",
     "output_type": "stream",
     "text": [
      "\r",
      " 64%|██████████████████████████████████████████████████▌                            | 640/1000 [11:48<07:08,  1.19s/it]"
     ]
    },
    {
     "name": "stdout",
     "output_type": "stream",
     "text": [
      "\t ----- reward: -0.24422499421122337 for f_star and f_minus: 0.08630932584386547 , 0.24422499421122337\n",
      "\t ---------- State is:  (3, 1)\n",
      "[INFO] [2023-04-11 17:00:06,696] [OpenBox-SPO] Iteration 641, objective value: [1.067855208417678].\n"
     ]
    },
    {
     "name": "stderr",
     "output_type": "stream",
     "text": [
      "\r",
      " 64%|██████████████████████████████████████████████████▋                            | 641/1000 [11:49<07:10,  1.20s/it]"
     ]
    },
    {
     "name": "stdout",
     "output_type": "stream",
     "text": [
      "\t ----- reward: -1.067855208417678 for f_star and f_minus: 0.08630932584386547 , 1.067855208417678\n",
      "\t ---------- State is:  (4, 1)\n",
      "[INFO] [2023-04-11 17:00:08,417] [OpenBox-SPO] Iteration 642, objective value: [0.3974983268264942].\n"
     ]
    },
    {
     "name": "stderr",
     "output_type": "stream",
     "text": [
      "\r",
      " 64%|██████████████████████████████████████████████████▋                            | 642/1000 [11:50<08:02,  1.35s/it]"
     ]
    },
    {
     "name": "stdout",
     "output_type": "stream",
     "text": [
      "\t ----- reward: -0.3974983268264942 for f_star and f_minus: 0.08630932584386547 , 0.3974983268264942\n",
      "\t ---------- State is:  (4, 1)\n",
      "[INFO] [2023-04-11 17:00:10,167] [OpenBox-SPO] Iteration 643, objective value: [0.44477936822929975].\n"
     ]
    },
    {
     "name": "stderr",
     "output_type": "stream",
     "text": [
      "\r",
      " 64%|██████████████████████████████████████████████████▊                            | 643/1000 [11:52<08:42,  1.46s/it]"
     ]
    },
    {
     "name": "stdout",
     "output_type": "stream",
     "text": [
      "\t ----- reward: -0.44477936822929975 for f_star and f_minus: 0.08630932584386547 , 0.44477936822929975\n",
      "\t ---------- State is:  (3, 1)\n",
      "[INFO] [2023-04-11 17:00:11,954] [OpenBox-SPO] Iteration 644, objective value: [1.5674315078458814].\n"
     ]
    },
    {
     "name": "stderr",
     "output_type": "stream",
     "text": [
      "\r",
      " 64%|██████████████████████████████████████████████████▉                            | 644/1000 [11:54<09:14,  1.56s/it]"
     ]
    },
    {
     "name": "stdout",
     "output_type": "stream",
     "text": [
      "\t ----- reward: -1.5674315078458814 for f_star and f_minus: 0.08630932584386547 , 1.5674315078458814\n",
      "\t ---------- State is:  (3, 1)\n",
      "[INFO] [2023-04-11 17:00:13,755] [OpenBox-SPO] Iteration 645, objective value: [1.3561211690454307].\n"
     ]
    },
    {
     "name": "stderr",
     "output_type": "stream",
     "text": [
      "\r",
      " 64%|██████████████████████████████████████████████████▉                            | 645/1000 [11:56<09:38,  1.63s/it]"
     ]
    },
    {
     "name": "stdout",
     "output_type": "stream",
     "text": [
      "\t ----- reward: -1.3561211690454307 for f_star and f_minus: 0.08630932584386547 , 1.3561211690454307\n",
      "\t ---------- State is:  (4, 1)\n",
      "[INFO] [2023-04-11 17:00:15,493] [OpenBox-SPO] Iteration 646, objective value: [0.24830409015538976].\n"
     ]
    },
    {
     "name": "stderr",
     "output_type": "stream",
     "text": [
      "\r",
      " 65%|███████████████████████████████████████████████████                            | 646/1000 [11:58<09:48,  1.66s/it]"
     ]
    },
    {
     "name": "stdout",
     "output_type": "stream",
     "text": [
      "\t ----- reward: -0.24830409015538976 for f_star and f_minus: 0.08630932584386547 , 0.24830409015538976\n",
      "\t ---------- State is:  (4, 1)\n",
      "[INFO] [2023-04-11 17:00:16,772] [OpenBox-SPO] Iteration 647, objective value: [0.17210148763897].\n"
     ]
    },
    {
     "name": "stderr",
     "output_type": "stream",
     "text": [
      "\r",
      " 65%|███████████████████████████████████████████████████                            | 647/1000 [11:59<09:06,  1.55s/it]"
     ]
    },
    {
     "name": "stdout",
     "output_type": "stream",
     "text": [
      "\t ----- reward: -0.17210148763897 for f_star and f_minus: 0.08630932584386547 , 0.17210148763897\n",
      "\t ---------- State is:  (4, 1)\n",
      "[INFO] [2023-04-11 17:00:17,919] [OpenBox-SPO] Iteration 648, objective value: [0.21397591884694242].\n"
     ]
    },
    {
     "name": "stderr",
     "output_type": "stream",
     "text": [
      "\r",
      " 65%|███████████████████████████████████████████████████▏                           | 648/1000 [12:00<08:22,  1.43s/it]"
     ]
    },
    {
     "name": "stdout",
     "output_type": "stream",
     "text": [
      "\t ----- reward: -0.21397591884694242 for f_star and f_minus: 0.08630932584386547 , 0.21397591884694242\n",
      "\t ---------- State is:  (4, 1)\n",
      "[INFO] [2023-04-11 17:00:19,126] [OpenBox-SPO] Iteration 649, objective value: [0.17309902594647472].\n"
     ]
    },
    {
     "name": "stderr",
     "output_type": "stream",
     "text": [
      "\r",
      " 65%|███████████████████████████████████████████████████▎                           | 649/1000 [12:01<07:58,  1.36s/it]"
     ]
    },
    {
     "name": "stdout",
     "output_type": "stream",
     "text": [
      "\t ----- reward: -0.17309902594647472 for f_star and f_minus: 0.08630932584386547 , 0.17309902594647472\n",
      "\t ---------- State is:  (4, 1)\n",
      "[INFO] [2023-04-11 17:00:20,864] [OpenBox-SPO] Iteration 650, objective value: [0.4447889751658525].\n"
     ]
    },
    {
     "name": "stderr",
     "output_type": "stream",
     "text": [
      "\r",
      " 65%|███████████████████████████████████████████████████▎                           | 650/1000 [12:03<08:36,  1.47s/it]"
     ]
    },
    {
     "name": "stdout",
     "output_type": "stream",
     "text": [
      "\t ----- reward: -0.4447889751658525 for f_star and f_minus: 0.08630932584386547 , 0.4447889751658525\n",
      "\t ---------- State is:  (5, 1)\n",
      "[INFO] [2023-04-11 17:00:22,600] [OpenBox-SPO] Iteration 651, objective value: [2.20661810772715].\n"
     ]
    },
    {
     "name": "stderr",
     "output_type": "stream",
     "text": [
      "\r",
      " 65%|███████████████████████████████████████████████████▍                           | 651/1000 [12:05<09:01,  1.55s/it]"
     ]
    },
    {
     "name": "stdout",
     "output_type": "stream",
     "text": [
      "\t ----- reward: -2.20661810772715 for f_star and f_minus: 0.08630932584386547 , 2.20661810772715\n",
      "\t ---------- State is:  (5, 1)\n",
      "[INFO] [2023-04-11 17:00:24,253] [OpenBox-SPO] Iteration 652, objective value: [1.5369658201987109].\n"
     ]
    },
    {
     "name": "stderr",
     "output_type": "stream",
     "text": [
      "\r",
      " 65%|███████████████████████████████████████████████████▌                           | 652/1000 [12:06<09:10,  1.58s/it]"
     ]
    },
    {
     "name": "stdout",
     "output_type": "stream",
     "text": [
      "\t ----- reward: -1.5369658201987109 for f_star and f_minus: 0.08630932584386547 , 1.5369658201987109\n",
      "\t ---------- State is:  (6, 1)\n",
      "[INFO] [2023-04-11 17:00:25,603] [OpenBox-SPO] Iteration 653, objective value: [0.3423743756221709].\n"
     ]
    },
    {
     "name": "stderr",
     "output_type": "stream",
     "text": [
      "\r",
      " 65%|███████████████████████████████████████████████████▌                           | 653/1000 [12:08<08:44,  1.51s/it]"
     ]
    },
    {
     "name": "stdout",
     "output_type": "stream",
     "text": [
      "\t ----- reward: -0.3423743756221709 for f_star and f_minus: 0.08630932584386547 , 0.3423743756221709\n",
      "\t ---------- State is:  (7, 1)\n",
      "[INFO] [2023-04-11 17:00:27,158] [OpenBox-SPO] Iteration 654, objective value: [0.7222490026928686].\n"
     ]
    },
    {
     "name": "stderr",
     "output_type": "stream",
     "text": [
      "\r",
      " 65%|███████████████████████████████████████████████████▋                           | 654/1000 [12:09<08:47,  1.53s/it]"
     ]
    },
    {
     "name": "stdout",
     "output_type": "stream",
     "text": [
      "\t ----- reward: -0.7222490026928686 for f_star and f_minus: 0.08630932584386547 , 0.7222490026928686\n",
      "\t ---------- State is:  (6, 0)\n",
      "[INFO] [2023-04-11 17:00:28,574] [OpenBox-SPO] Iteration 655, objective value: [0.2670616629882842].\n"
     ]
    },
    {
     "name": "stderr",
     "output_type": "stream",
     "text": [
      "\r",
      " 66%|███████████████████████████████████████████████████▋                           | 655/1000 [12:11<08:35,  1.49s/it]"
     ]
    },
    {
     "name": "stdout",
     "output_type": "stream",
     "text": [
      "\t ----- reward: -0.2670616629882842 for f_star and f_minus: 0.08630932584386547 , 0.2670616629882842\n",
      "\t ---------- State is:  (5, 0)\n",
      "[INFO] [2023-04-11 17:00:29,881] [OpenBox-SPO] Iteration 656, objective value: [1.190955525988302].\n"
     ]
    },
    {
     "name": "stderr",
     "output_type": "stream",
     "text": [
      "\r",
      " 66%|███████████████████████████████████████████████████▊                           | 656/1000 [12:12<08:14,  1.44s/it]"
     ]
    },
    {
     "name": "stdout",
     "output_type": "stream",
     "text": [
      "\t ----- reward: -1.190955525988302 for f_star and f_minus: 0.08630932584386547 , 1.190955525988302\n",
      "\t ---------- State is:  (4, 0)\n",
      "[INFO] [2023-04-11 17:00:31,260] [OpenBox-SPO] Iteration 657, objective value: [0.39118805709436755].\n"
     ]
    },
    {
     "name": "stderr",
     "output_type": "stream",
     "text": [
      "\r",
      " 66%|███████████████████████████████████████████████████▉                           | 657/1000 [12:13<08:06,  1.42s/it]"
     ]
    },
    {
     "name": "stdout",
     "output_type": "stream",
     "text": [
      "\t ----- reward: -0.39118805709436755 for f_star and f_minus: 0.08630932584386547 , 0.39118805709436755\n",
      "\t ---------- State is:  (3, 0)\n",
      "[INFO] [2023-04-11 17:00:32,920] [OpenBox-SPO] Iteration 658, objective value: [0.2957619408383334].\n"
     ]
    },
    {
     "name": "stderr",
     "output_type": "stream",
     "text": [
      "\r",
      " 66%|███████████████████████████████████████████████████▉                           | 658/1000 [12:15<08:30,  1.49s/it]"
     ]
    },
    {
     "name": "stdout",
     "output_type": "stream",
     "text": [
      "\t ----- reward: -0.2957619408383334 for f_star and f_minus: 0.08630932584386547 , 0.2957619408383334\n",
      "\t ---------- State is:  (4, 0)\n",
      "[INFO] [2023-04-11 17:00:34,516] [OpenBox-SPO] Iteration 659, objective value: [1.0564394867802396].\n"
     ]
    },
    {
     "name": "stderr",
     "output_type": "stream",
     "text": [
      "\r",
      " 66%|████████████████████████████████████████████████████                           | 659/1000 [12:17<08:39,  1.52s/it]"
     ]
    },
    {
     "name": "stdout",
     "output_type": "stream",
     "text": [
      "\t ----- reward: -1.0564394867802396 for f_star and f_minus: 0.08630932584386547 , 1.0564394867802396\n",
      "\t ---------- State is:  (3, 0)\n",
      "[INFO] [2023-04-11 17:00:35,997] [OpenBox-SPO] Iteration 660, objective value: [0.3353830951006824].\n"
     ]
    },
    {
     "name": "stderr",
     "output_type": "stream",
     "text": [
      "\r",
      " 66%|████████████████████████████████████████████████████▏                          | 660/1000 [12:18<08:33,  1.51s/it]"
     ]
    },
    {
     "name": "stdout",
     "output_type": "stream",
     "text": [
      "\t ----- reward: -0.3353830951006824 for f_star and f_minus: 0.08630932584386547 , 0.3353830951006824\n",
      "\t ---------- State is:  (4, 0)\n",
      "[INFO] [2023-04-11 17:00:37,386] [OpenBox-SPO] Iteration 661, objective value: [1.9106960837191271].\n"
     ]
    },
    {
     "name": "stderr",
     "output_type": "stream",
     "text": [
      "\r",
      " 66%|████████████████████████████████████████████████████▏                          | 661/1000 [12:19<08:21,  1.48s/it]"
     ]
    },
    {
     "name": "stdout",
     "output_type": "stream",
     "text": [
      "\t ----- reward: -1.9106960837191271 for f_star and f_minus: 0.08630932584386547 , 1.9106960837191271\n",
      "\t ---------- State is:  (3, 0)\n",
      "[INFO] [2023-04-11 17:00:38,878] [OpenBox-SPO] Iteration 662, objective value: [1.274610389080721].\n"
     ]
    },
    {
     "name": "stderr",
     "output_type": "stream",
     "text": [
      "\r",
      " 66%|████████████████████████████████████████████████████▎                          | 662/1000 [12:21<08:19,  1.48s/it]"
     ]
    },
    {
     "name": "stdout",
     "output_type": "stream",
     "text": [
      "\t ----- reward: -1.274610389080721 for f_star and f_minus: 0.08630932584386547 , 1.274610389080721\n",
      "\t ---------- State is:  (4, 0)\n",
      "[INFO] [2023-04-11 17:00:40,332] [OpenBox-SPO] Iteration 663, objective value: [0.29579320369572215].\n"
     ]
    },
    {
     "name": "stderr",
     "output_type": "stream",
     "text": [
      "\r",
      " 66%|████████████████████████████████████████████████████▍                          | 663/1000 [12:22<08:15,  1.47s/it]"
     ]
    },
    {
     "name": "stdout",
     "output_type": "stream",
     "text": [
      "\t ----- reward: -0.29579320369572215 for f_star and f_minus: 0.08630932584386547 , 0.29579320369572215\n",
      "\t ---------- State is:  (4, 0)\n",
      "[INFO] [2023-04-11 17:00:41,845] [OpenBox-SPO] Iteration 664, objective value: [1.2435020889275534].\n"
     ]
    },
    {
     "name": "stderr",
     "output_type": "stream",
     "text": [
      "\r",
      " 66%|████████████████████████████████████████████████████▍                          | 664/1000 [12:24<08:18,  1.48s/it]"
     ]
    },
    {
     "name": "stdout",
     "output_type": "stream",
     "text": [
      "\t ----- reward: -1.2435020889275534 for f_star and f_minus: 0.08630932584386547 , 1.2435020889275534\n",
      "\t ---------- State is:  (4, 0)\n",
      "[INFO] [2023-04-11 17:00:43,548] [OpenBox-SPO] Iteration 665, objective value: [0.18610075146958205].\n"
     ]
    },
    {
     "name": "stderr",
     "output_type": "stream",
     "text": [
      "\r",
      " 66%|████████████████████████████████████████████████████▌                          | 665/1000 [12:26<08:39,  1.55s/it]"
     ]
    },
    {
     "name": "stdout",
     "output_type": "stream",
     "text": [
      "\t ----- reward: -0.18610075146958205 for f_star and f_minus: 0.08630932584386547 , 0.18610075146958205\n",
      "\t ---------- State is:  (5, 0)\n",
      "[INFO] [2023-04-11 17:00:45,088] [OpenBox-SPO] Iteration 666, objective value: [0.4284867303346641].\n"
     ]
    },
    {
     "name": "stderr",
     "output_type": "stream",
     "text": [
      "\r",
      " 67%|████████████████████████████████████████████████████▌                          | 666/1000 [12:27<08:36,  1.55s/it]"
     ]
    },
    {
     "name": "stdout",
     "output_type": "stream",
     "text": [
      "\t ----- reward: -0.4284867303346641 for f_star and f_minus: 0.08630932584386547 , 0.4284867303346641\n",
      "\t ---------- State is:  (6, 0)\n",
      "[INFO] [2023-04-11 17:00:45,088] [Advisor] Sample random config. rand_prob=0.100000.\n",
      "[INFO] [2023-04-11 17:00:45,089] [OpenBox-SPO] Iteration 667, objective value: [0.43292304096601064].\n",
      "\t ----- reward: -0.43292304096601064 for f_star and f_minus: 0.08630932584386547 , 0.43292304096601064\n",
      "\t ---------- State is:  (5, 0)\n",
      "[INFO] [2023-04-11 17:00:46,699] [OpenBox-SPO] Iteration 668, objective value: [1.4581037242426587].\n"
     ]
    },
    {
     "name": "stderr",
     "output_type": "stream",
     "text": [
      "\r",
      " 67%|████████████████████████████████████████████████████▊                          | 668/1000 [12:29<06:41,  1.21s/it]"
     ]
    },
    {
     "name": "stdout",
     "output_type": "stream",
     "text": [
      "\t ----- reward: -1.4581037242426587 for f_star and f_minus: 0.08630932584386547 , 1.4581037242426587\n",
      "\t ---------- State is:  (6, 0)\n",
      "[INFO] [2023-04-11 17:00:47,981] [OpenBox-SPO] Iteration 669, objective value: [1.3106108371678917].\n"
     ]
    },
    {
     "name": "stderr",
     "output_type": "stream",
     "text": [
      "\r",
      " 67%|████████████████████████████████████████████████████▊                          | 669/1000 [12:30<06:44,  1.22s/it]"
     ]
    },
    {
     "name": "stdout",
     "output_type": "stream",
     "text": [
      "\t ----- reward: -1.3106108371678917 for f_star and f_minus: 0.08630932584386547 , 1.3106108371678917\n",
      "\t ---------- State is:  (5, 0)\n",
      "[INFO] [2023-04-11 17:00:49,513] [OpenBox-SPO] Iteration 670, objective value: [1.0962186344349725].\n"
     ]
    },
    {
     "name": "stderr",
     "output_type": "stream",
     "text": [
      "\r",
      " 67%|████████████████████████████████████████████████████▉                          | 670/1000 [12:32<07:10,  1.30s/it]"
     ]
    },
    {
     "name": "stdout",
     "output_type": "stream",
     "text": [
      "\t ----- reward: -1.0962186344349725 for f_star and f_minus: 0.08630932584386547 , 1.0962186344349725\n",
      "\t ---------- State is:  (5, 0)\n",
      "[INFO] [2023-04-11 17:00:50,805] [OpenBox-SPO] Iteration 671, objective value: [1.6556816384123683].\n"
     ]
    },
    {
     "name": "stderr",
     "output_type": "stream",
     "text": [
      "\r",
      " 67%|█████████████████████████████████████████████████████                          | 671/1000 [12:33<07:07,  1.30s/it]"
     ]
    },
    {
     "name": "stdout",
     "output_type": "stream",
     "text": [
      "\t ----- reward: -1.6556816384123683 for f_star and f_minus: 0.08630932584386547 , 1.6556816384123683\n",
      "\t ---------- State is:  (4, 0)\n",
      "[INFO] [2023-04-11 17:00:52,202] [OpenBox-SPO] Iteration 672, objective value: [0.1838981084317472].\n"
     ]
    },
    {
     "name": "stderr",
     "output_type": "stream",
     "text": [
      "\r",
      " 67%|█████████████████████████████████████████████████████                          | 672/1000 [12:34<07:15,  1.33s/it]"
     ]
    },
    {
     "name": "stdout",
     "output_type": "stream",
     "text": [
      "\t ----- reward: -0.1838981084317472 for f_star and f_minus: 0.08630932584386547 , 0.1838981084317472\n",
      "\t ---------- State is:  (5, 0)\n",
      "[INFO] [2023-04-11 17:00:53,478] [OpenBox-SPO] Iteration 673, objective value: [0.17202601297289524].\n"
     ]
    },
    {
     "name": "stderr",
     "output_type": "stream",
     "text": [
      "\r",
      " 67%|█████████████████████████████████████████████████████▏                         | 673/1000 [12:36<07:09,  1.31s/it]"
     ]
    },
    {
     "name": "stdout",
     "output_type": "stream",
     "text": [
      "\t ----- reward: -0.17202601297289524 for f_star and f_minus: 0.08630932584386547 , 0.17202601297289524\n",
      "\t ---------- State is:  (5, 0)\n",
      "[INFO] [2023-04-11 17:00:55,230] [OpenBox-SPO] Iteration 674, objective value: [0.3381880282731529].\n"
     ]
    },
    {
     "name": "stderr",
     "output_type": "stream",
     "text": [
      "\r",
      " 67%|█████████████████████████████████████████████████████▏                         | 674/1000 [12:37<07:49,  1.44s/it]"
     ]
    },
    {
     "name": "stdout",
     "output_type": "stream",
     "text": [
      "\t ----- reward: -0.3381880282731529 for f_star and f_minus: 0.08630932584386547 , 0.3381880282731529\n",
      "\t ---------- State is:  (6, 0)\n",
      "[INFO] [2023-04-11 17:00:56,564] [OpenBox-SPO] Iteration 675, objective value: [1.8238586108710428].\n"
     ]
    },
    {
     "name": "stderr",
     "output_type": "stream",
     "text": [
      "\r",
      " 68%|█████████████████████████████████████████████████████▎                         | 675/1000 [12:39<07:37,  1.41s/it]"
     ]
    },
    {
     "name": "stdout",
     "output_type": "stream",
     "text": [
      "\t ----- reward: -1.8238586108710428 for f_star and f_minus: 0.08630932584386547 , 1.8238586108710428\n",
      "\t ---------- State is:  (7, 0)\n",
      "[INFO] [2023-04-11 17:00:56,564] [Advisor] Sample random config. rand_prob=0.100000.\n",
      "[INFO] [2023-04-11 17:00:56,564] [OpenBox-SPO] Iteration 676, objective value: [2.5221336982749913].\n",
      "\t ----- reward: -2.5221336982749913 for f_star and f_minus: 0.08630932584386547 , 2.5221336982749913\n",
      "\t ---------- State is:  (6, 0)\n",
      "[INFO] [2023-04-11 17:00:58,195] [OpenBox-SPO] Iteration 677, objective value: [0.19287894124463517].\n"
     ]
    },
    {
     "name": "stderr",
     "output_type": "stream",
     "text": [
      "\r",
      " 68%|█████████████████████████████████████████████████████▍                         | 677/1000 [12:40<06:07,  1.14s/it]"
     ]
    },
    {
     "name": "stdout",
     "output_type": "stream",
     "text": [
      "\t ----- reward: -0.19287894124463517 for f_star and f_minus: 0.08630932584386547 , 0.19287894124463517\n",
      "\t ---------- State is:  (5, 0)\n",
      "[INFO] [2023-04-11 17:00:59,574] [OpenBox-SPO] Iteration 678, objective value: [2.356946912674642].\n"
     ]
    },
    {
     "name": "stderr",
     "output_type": "stream",
     "text": [
      "\r",
      " 68%|█████████████████████████████████████████████████████▌                         | 678/1000 [12:42<06:25,  1.20s/it]"
     ]
    },
    {
     "name": "stdout",
     "output_type": "stream",
     "text": [
      "\t ----- reward: -2.356946912674642 for f_star and f_minus: 0.08630932584386547 , 2.356946912674642\n",
      "\t ---------- State is:  (5, 0)\n",
      "[INFO] [2023-04-11 17:01:01,020] [OpenBox-SPO] Iteration 679, objective value: [0.1783767678554747].\n"
     ]
    },
    {
     "name": "stderr",
     "output_type": "stream",
     "text": [
      "\r",
      " 68%|█████████████████████████████████████████████████████▋                         | 679/1000 [12:43<06:45,  1.26s/it]"
     ]
    },
    {
     "name": "stdout",
     "output_type": "stream",
     "text": [
      "\t ----- reward: -0.1783767678554747 for f_star and f_minus: 0.08630932584386547 , 0.1783767678554747\n",
      "\t ---------- State is:  (6, 0)\n",
      "[INFO] [2023-04-11 17:01:02,291] [OpenBox-SPO] Iteration 680, objective value: [1.2686033803937606].\n"
     ]
    },
    {
     "name": "stderr",
     "output_type": "stream",
     "text": [
      "\r",
      " 68%|█████████████████████████████████████████████████████▋                         | 680/1000 [12:44<06:44,  1.26s/it]"
     ]
    },
    {
     "name": "stdout",
     "output_type": "stream",
     "text": [
      "\t ----- reward: -1.2686033803937606 for f_star and f_minus: 0.08630932584386547 , 1.2686033803937606\n",
      "\t ---------- State is:  (5, 1)\n",
      "[INFO] [2023-04-11 17:01:03,985] [OpenBox-SPO] Iteration 681, objective value: [0.1786722952570022].\n"
     ]
    },
    {
     "name": "stderr",
     "output_type": "stream",
     "text": [
      "\r",
      " 68%|█████████████████████████████████████████████████████▊                         | 681/1000 [12:46<07:21,  1.38s/it]"
     ]
    },
    {
     "name": "stdout",
     "output_type": "stream",
     "text": [
      "\t ----- reward: -0.1786722952570022 for f_star and f_minus: 0.08630932584386547 , 0.1786722952570022\n",
      "\t ---------- State is:  (6, 0)\n",
      "[INFO] [2023-04-11 17:01:03,985] [Advisor] Sample random config. rand_prob=0.100000.\n",
      "[INFO] [2023-04-11 17:01:03,985] [OpenBox-SPO] Iteration 682, objective value: [2.280731911131836].\n",
      "\t ----- reward: -2.280731911131836 for f_star and f_minus: 0.08630932584386547 , 2.280731911131836\n",
      "\t ---------- State is:  (6, 0)\n",
      "[INFO] [2023-04-11 17:01:03,985] [Advisor] Sample random config. rand_prob=0.100000.\n",
      "[INFO] [2023-04-11 17:01:03,985] [OpenBox-SPO] Iteration 683, objective value: [1.1556122878069435].\n",
      "\t ----- reward: -1.1556122878069435 for f_star and f_minus: 0.08630932584386547 , 1.1556122878069435\n",
      "\t ---------- State is:  (5, 1)\n",
      "[INFO] [2023-04-11 17:01:05,475] [OpenBox-SPO] Iteration 684, objective value: [1.4537298991861416].\n"
     ]
    },
    {
     "name": "stderr",
     "output_type": "stream",
     "text": [
      "\r",
      " 68%|██████████████████████████████████████████████████████                         | 684/1000 [12:48<04:44,  1.11it/s]"
     ]
    },
    {
     "name": "stdout",
     "output_type": "stream",
     "text": [
      "\t ----- reward: -1.4537298991861416 for f_star and f_minus: 0.08630932584386547 , 1.4537298991861416\n",
      "\t ---------- State is:  (6, 1)\n",
      "[INFO] [2023-04-11 17:01:06,997] [OpenBox-SPO] Iteration 685, objective value: [0.19325776599653316].\n"
     ]
    },
    {
     "name": "stderr",
     "output_type": "stream",
     "text": [
      "\r",
      " 68%|██████████████████████████████████████████████████████                         | 685/1000 [12:49<05:24,  1.03s/it]"
     ]
    },
    {
     "name": "stdout",
     "output_type": "stream",
     "text": [
      "\t ----- reward: -0.19325776599653316 for f_star and f_minus: 0.08630932584386547 , 0.19325776599653316\n",
      "\t ---------- State is:  (7, 1)\n",
      "[INFO] [2023-04-11 17:01:08,472] [OpenBox-SPO] Iteration 686, objective value: [0.7593195270172577].\n"
     ]
    },
    {
     "name": "stderr",
     "output_type": "stream",
     "text": [
      "\r",
      " 69%|██████████████████████████████████████████████████████▏                        | 686/1000 [12:51<05:54,  1.13s/it]"
     ]
    },
    {
     "name": "stdout",
     "output_type": "stream",
     "text": [
      "\t ----- reward: -0.7593195270172577 for f_star and f_minus: 0.08630932584386547 , 0.7593195270172577\n",
      "\t ---------- State is:  (6, 1)\n",
      "[INFO] [2023-04-11 17:01:09,873] [OpenBox-SPO] Iteration 687, objective value: [0.2995608364940906].\n"
     ]
    },
    {
     "name": "stderr",
     "output_type": "stream",
     "text": [
      "\r",
      " 69%|██████████████████████████████████████████████████████▎                        | 687/1000 [12:52<06:14,  1.20s/it]"
     ]
    },
    {
     "name": "stdout",
     "output_type": "stream",
     "text": [
      "\t ----- reward: -0.2995608364940906 for f_star and f_minus: 0.08630932584386547 , 0.2995608364940906\n",
      "\t ---------- State is:  (6, 1)\n",
      "[INFO] [2023-04-11 17:01:11,311] [OpenBox-SPO] Iteration 688, objective value: [0.19327496936029046].\n"
     ]
    },
    {
     "name": "stderr",
     "output_type": "stream",
     "text": [
      "\r",
      " 69%|██████████████████████████████████████████████████████▎                        | 688/1000 [12:53<06:32,  1.26s/it]"
     ]
    },
    {
     "name": "stdout",
     "output_type": "stream",
     "text": [
      "\t ----- reward: -0.19327496936029046 for f_star and f_minus: 0.08630932584386547 , 0.19327496936029046\n",
      "\t ---------- State is:  (6, 0)\n",
      "[INFO] [2023-04-11 17:01:11,311] [Advisor] Sample random config. rand_prob=0.100000.\n",
      "[INFO] [2023-04-11 17:01:11,311] [OpenBox-SPO] Iteration 689, objective value: [3.159294659603085].\n",
      "\t ----- reward: -3.159294659603085 for f_star and f_minus: 0.08630932584386547 , 3.159294659603085\n",
      "\t ---------- State is:  (7, 0)\n",
      "[INFO] [2023-04-11 17:01:12,778] [OpenBox-SPO] Iteration 690, objective value: [0.18099514729813249].\n"
     ]
    },
    {
     "name": "stderr",
     "output_type": "stream",
     "text": [
      "\r",
      " 69%|██████████████████████████████████████████████████████▌                        | 690/1000 [12:55<05:20,  1.04s/it]"
     ]
    },
    {
     "name": "stdout",
     "output_type": "stream",
     "text": [
      "\t ----- reward: -0.18099514729813249 for f_star and f_minus: 0.08630932584386547 , 0.18099514729813249\n",
      "\t ---------- State is:  (7, 0)\n",
      "[INFO] [2023-04-11 17:01:14,080] [OpenBox-SPO] Iteration 691, objective value: [0.17867989102430032].\n"
     ]
    },
    {
     "name": "stderr",
     "output_type": "stream",
     "text": [
      "\r",
      " 69%|██████████████████████████████████████████████████████▌                        | 691/1000 [12:56<05:39,  1.10s/it]"
     ]
    },
    {
     "name": "stdout",
     "output_type": "stream",
     "text": [
      "\t ----- reward: -0.17867989102430032 for f_star and f_minus: 0.08630932584386547 , 0.17867989102430032\n",
      "\t ---------- State is:  (7, 0)\n",
      "[INFO] [2023-04-11 17:01:16,048] [OpenBox-SPO] Iteration 692, objective value: [0.44201774013703155].\n"
     ]
    },
    {
     "name": "stderr",
     "output_type": "stream",
     "text": [
      "\r",
      " 69%|██████████████████████████████████████████████████████▋                        | 692/1000 [12:58<06:45,  1.32s/it]"
     ]
    },
    {
     "name": "stdout",
     "output_type": "stream",
     "text": [
      "\t ----- reward: -0.44201774013703155 for f_star and f_minus: 0.08630932584386547 , 0.44201774013703155\n",
      "\t ---------- State is:  (7, 0)\n",
      "[INFO] [2023-04-11 17:01:17,570] [OpenBox-SPO] Iteration 693, objective value: [0.21144681350589484].\n"
     ]
    },
    {
     "name": "stderr",
     "output_type": "stream",
     "text": [
      "\r",
      " 69%|██████████████████████████████████████████████████████▋                        | 693/1000 [13:00<07:00,  1.37s/it]"
     ]
    },
    {
     "name": "stdout",
     "output_type": "stream",
     "text": [
      "\t ----- reward: -0.21144681350589484 for f_star and f_minus: 0.08630932584386547 , 0.21144681350589484\n",
      "\t ---------- State is:  (7, 0)\n",
      "[INFO] [2023-04-11 17:01:17,570] [Advisor] Sample random config. rand_prob=0.100000.\n",
      "[INFO] [2023-04-11 17:01:17,570] [OpenBox-SPO] Iteration 694, objective value: [0.3098464273072153].\n",
      "\t ----- reward: -0.3098464273072153 for f_star and f_minus: 0.08630932584386547 , 0.3098464273072153\n",
      "\t ---------- State is:  (7, 0)\n",
      "[INFO] [2023-04-11 17:01:19,217] [OpenBox-SPO] Iteration 695, objective value: [1.1300327285319336].\n"
     ]
    },
    {
     "name": "stderr",
     "output_type": "stream",
     "text": [
      "\r",
      " 70%|██████████████████████████████████████████████████████▉                        | 695/1000 [13:01<05:47,  1.14s/it]"
     ]
    },
    {
     "name": "stdout",
     "output_type": "stream",
     "text": [
      "\t ----- reward: -1.1300327285319336 for f_star and f_minus: 0.08630932584386547 , 1.1300327285319336\n",
      "\t ---------- State is:  (7, 0)\n",
      "[INFO] [2023-04-11 17:01:19,233] [Advisor] Sample random config. rand_prob=0.100000.\n",
      "[INFO] [2023-04-11 17:01:19,233] [OpenBox-SPO] Iteration 696, objective value: [2.3899713902700186].\n",
      "\t ----- reward: -2.3899713902700186 for f_star and f_minus: 0.08630932584386547 , 2.3899713902700186\n",
      "\t ---------- State is:  (7, 0)\n",
      "[INFO] [2023-04-11 17:01:20,833] [OpenBox-SPO] Iteration 697, objective value: [0.30397727405274166].\n"
     ]
    },
    {
     "name": "stderr",
     "output_type": "stream",
     "text": [
      "\r",
      " 70%|███████████████████████████████████████████████████████                        | 697/1000 [13:03<05:05,  1.01s/it]"
     ]
    },
    {
     "name": "stdout",
     "output_type": "stream",
     "text": [
      "\t ----- reward: -0.30397727405274166 for f_star and f_minus: 0.08630932584386547 , 0.30397727405274166\n",
      "\t ---------- State is:  (7, 0)\n",
      "[INFO] [2023-04-11 17:01:22,197] [OpenBox-SPO] Iteration 698, objective value: [0.21921862280721918].\n"
     ]
    },
    {
     "name": "stderr",
     "output_type": "stream",
     "text": [
      "\r",
      " 70%|███████████████████████████████████████████████████████▏                       | 698/1000 [13:04<05:27,  1.09s/it]"
     ]
    },
    {
     "name": "stdout",
     "output_type": "stream",
     "text": [
      "\t ----- reward: -0.21921862280721918 for f_star and f_minus: 0.08630932584386547 , 0.21921862280721918\n",
      "\t ---------- State is:  (7, 0)\n",
      "[INFO] [2023-04-11 17:01:23,860] [OpenBox-SPO] Iteration 699, objective value: [0.30239086002382504].\n"
     ]
    },
    {
     "name": "stderr",
     "output_type": "stream",
     "text": [
      "\r",
      " 70%|███████████████████████████████████████████████████████▏                       | 699/1000 [13:06<06:07,  1.22s/it]"
     ]
    },
    {
     "name": "stdout",
     "output_type": "stream",
     "text": [
      "\t ----- reward: -0.30239086002382504 for f_star and f_minus: 0.08630932584386547 , 0.30239086002382504\n",
      "\t ---------- State is:  (7, 0)\n",
      "[INFO] [2023-04-11 17:01:25,241] [OpenBox-SPO] Iteration 700, objective value: [0.26922776247965446].\n"
     ]
    },
    {
     "name": "stderr",
     "output_type": "stream",
     "text": [
      "\r",
      " 70%|███████████████████████████████████████████████████████▎                       | 700/1000 [13:07<06:18,  1.26s/it]"
     ]
    },
    {
     "name": "stdout",
     "output_type": "stream",
     "text": [
      "\t ----- reward: -0.26922776247965446 for f_star and f_minus: 0.08630932584386547 , 0.26922776247965446\n",
      "\t ---------- State is:  (7, 0)\n",
      "[INFO] [2023-04-11 17:01:26,637] [OpenBox-SPO] Iteration 701, objective value: [0.8775641200871305].\n"
     ]
    },
    {
     "name": "stderr",
     "output_type": "stream",
     "text": [
      "\r",
      " 70%|███████████████████████████████████████████████████████▍                       | 701/1000 [13:09<06:27,  1.30s/it]"
     ]
    },
    {
     "name": "stdout",
     "output_type": "stream",
     "text": [
      "\t ----- reward: -0.8775641200871305 for f_star and f_minus: 0.08630932584386547 , 0.8775641200871305\n",
      "\t ---------- State is:  (7, 0)\n",
      "[INFO] [2023-04-11 17:01:27,956] [OpenBox-SPO] Iteration 702, objective value: [1.5242166376542496].\n"
     ]
    },
    {
     "name": "stderr",
     "output_type": "stream",
     "text": [
      "\r",
      " 70%|███████████████████████████████████████████████████████▍                       | 702/1000 [13:10<06:28,  1.30s/it]"
     ]
    },
    {
     "name": "stdout",
     "output_type": "stream",
     "text": [
      "\t ----- reward: -1.5242166376542496 for f_star and f_minus: 0.08630932584386547 , 1.5242166376542496\n",
      "\t ---------- State is:  (7, 0)\n",
      "[INFO] [2023-04-11 17:01:29,462] [OpenBox-SPO] Iteration 703, objective value: [0.18626657373208758].\n"
     ]
    },
    {
     "name": "stderr",
     "output_type": "stream",
     "text": [
      "\r",
      " 70%|███████████████████████████████████████████████████████▌                       | 703/1000 [13:12<06:43,  1.36s/it]"
     ]
    },
    {
     "name": "stdout",
     "output_type": "stream",
     "text": [
      "\t ----- reward: -0.18626657373208758 for f_star and f_minus: 0.08630932584386547 , 0.18626657373208758\n",
      "\t ---------- State is:  (7, 0)\n",
      "[INFO] [2023-04-11 17:01:30,983] [OpenBox-SPO] Iteration 704, objective value: [0.22656782555671467].\n"
     ]
    },
    {
     "name": "stderr",
     "output_type": "stream",
     "text": [
      "\r",
      " 70%|███████████████████████████████████████████████████████▌                       | 704/1000 [13:13<06:56,  1.41s/it]"
     ]
    },
    {
     "name": "stdout",
     "output_type": "stream",
     "text": [
      "\t ----- reward: -0.22656782555671467 for f_star and f_minus: 0.08630932584386547 , 0.22656782555671467\n",
      "\t ---------- State is:  (7, 0)\n",
      "[INFO] [2023-04-11 17:01:32,347] [OpenBox-SPO] Iteration 705, objective value: [0.1829764164724346].\n"
     ]
    },
    {
     "name": "stderr",
     "output_type": "stream",
     "text": [
      "\r",
      " 70%|███████████████████████████████████████████████████████▋                       | 705/1000 [13:14<06:51,  1.39s/it]"
     ]
    },
    {
     "name": "stdout",
     "output_type": "stream",
     "text": [
      "\t ----- reward: -0.1829764164724346 for f_star and f_minus: 0.08630932584386547 , 0.1829764164724346\n",
      "\t ---------- State is:  (7, 0)\n",
      "[INFO] [2023-04-11 17:01:33,932] [OpenBox-SPO] Iteration 706, objective value: [0.19066160267319854].\n"
     ]
    },
    {
     "name": "stderr",
     "output_type": "stream",
     "text": [
      "\r",
      " 71%|███████████████████████████████████████████████████████▊                       | 706/1000 [13:16<07:06,  1.45s/it]"
     ]
    },
    {
     "name": "stdout",
     "output_type": "stream",
     "text": [
      "\t ----- reward: -0.19066160267319854 for f_star and f_minus: 0.08630932584386547 , 0.19066160267319854\n",
      "\t ---------- State is:  (7, 0)\n",
      "[INFO] [2023-04-11 17:01:33,932] [Advisor] Sample random config. rand_prob=0.100000.\n",
      "[INFO] [2023-04-11 17:01:33,947] [OpenBox-SPO] Iteration 707, objective value: [1.1952489657328396].\n",
      "\t ----- reward: -1.1952489657328396 for f_star and f_minus: 0.08630932584386547 , 1.1952489657328396\n",
      "\t ---------- State is:  (7, 0)\n",
      "[INFO] [2023-04-11 17:01:35,531] [OpenBox-SPO] Iteration 708, objective value: [0.18469072539777817].\n"
     ]
    },
    {
     "name": "stderr",
     "output_type": "stream",
     "text": [
      "\r",
      " 71%|███████████████████████████████████████████████████████▉                       | 708/1000 [13:18<05:36,  1.15s/it]"
     ]
    },
    {
     "name": "stdout",
     "output_type": "stream",
     "text": [
      "\t ----- reward: -0.18469072539777817 for f_star and f_minus: 0.08630932584386547 , 0.18469072539777817\n",
      "\t ---------- State is:  (7, 0)\n",
      "[INFO] [2023-04-11 17:01:36,958] [OpenBox-SPO] Iteration 709, objective value: [1.348900751747494].\n"
     ]
    },
    {
     "name": "stderr",
     "output_type": "stream",
     "text": [
      "\r",
      " 71%|████████████████████████████████████████████████████████                       | 709/1000 [13:19<05:55,  1.22s/it]"
     ]
    },
    {
     "name": "stdout",
     "output_type": "stream",
     "text": [
      "\t ----- reward: -1.348900751747494 for f_star and f_minus: 0.08630932584386547 , 1.348900751747494\n",
      "\t ---------- State is:  (7, 0)\n",
      "[INFO] [2023-04-11 17:01:38,685] [OpenBox-SPO] Iteration 710, objective value: [0.28301187785332266].\n"
     ]
    },
    {
     "name": "stderr",
     "output_type": "stream",
     "text": [
      "\r",
      " 71%|████████████████████████████████████████████████████████                       | 710/1000 [13:21<06:32,  1.35s/it]"
     ]
    },
    {
     "name": "stdout",
     "output_type": "stream",
     "text": [
      "\t ----- reward: -0.28301187785332266 for f_star and f_minus: 0.08630932584386547 , 0.28301187785332266\n",
      "\t ---------- State is:  (7, 0)\n",
      "[INFO] [2023-04-11 17:01:40,316] [OpenBox-SPO] Iteration 711, objective value: [0.4963766271512138].\n"
     ]
    },
    {
     "name": "stderr",
     "output_type": "stream",
     "text": [
      "\r",
      " 71%|████████████████████████████████████████████████████████▏                      | 711/1000 [13:22<06:52,  1.43s/it]"
     ]
    },
    {
     "name": "stdout",
     "output_type": "stream",
     "text": [
      "\t ----- reward: -0.4963766271512138 for f_star and f_minus: 0.08630932584386547 , 0.4963766271512138\n",
      "\t ---------- State is:  (7, 0)\n",
      "[INFO] [2023-04-11 17:01:41,681] [OpenBox-SPO] Iteration 712, objective value: [0.21744295358018387].\n"
     ]
    },
    {
     "name": "stderr",
     "output_type": "stream",
     "text": [
      "\r",
      " 71%|████████████████████████████████████████████████████████▏                      | 712/1000 [13:24<06:46,  1.41s/it]"
     ]
    },
    {
     "name": "stdout",
     "output_type": "stream",
     "text": [
      "\t ----- reward: -0.21744295358018387 for f_star and f_minus: 0.08630932584386547 , 0.21744295358018387\n",
      "\t ---------- State is:  (7, 0)\n",
      "[INFO] [2023-04-11 17:01:42,812] [OpenBox-SPO] Iteration 713, objective value: [0.2259669229611764].\n"
     ]
    },
    {
     "name": "stderr",
     "output_type": "stream",
     "text": [
      "\r",
      " 71%|████████████████████████████████████████████████████████▎                      | 713/1000 [13:25<06:21,  1.33s/it]"
     ]
    },
    {
     "name": "stdout",
     "output_type": "stream",
     "text": [
      "\t ----- reward: -0.2259669229611764 for f_star and f_minus: 0.08630932584386547 , 0.2259669229611764\n",
      "\t ---------- State is:  (7, 0)\n",
      "[INFO] [2023-04-11 17:01:44,223] [OpenBox-SPO] Iteration 714, objective value: [0.24654465407639561].\n"
     ]
    },
    {
     "name": "stderr",
     "output_type": "stream",
     "text": [
      "\r",
      " 71%|████████████████████████████████████████████████████████▍                      | 714/1000 [13:26<06:27,  1.35s/it]"
     ]
    },
    {
     "name": "stdout",
     "output_type": "stream",
     "text": [
      "\t ----- reward: -0.24654465407639561 for f_star and f_minus: 0.08630932584386547 , 0.24654465407639561\n",
      "\t ---------- State is:  (7, 0)\n",
      "[INFO] [2023-04-11 17:01:45,730] [OpenBox-SPO] Iteration 715, objective value: [1.626056061562641].\n"
     ]
    },
    {
     "name": "stderr",
     "output_type": "stream",
     "text": [
      "\r",
      " 72%|████████████████████████████████████████████████████████▍                      | 715/1000 [13:28<06:38,  1.40s/it]"
     ]
    },
    {
     "name": "stdout",
     "output_type": "stream",
     "text": [
      "\t ----- reward: -1.626056061562641 for f_star and f_minus: 0.08630932584386547 , 1.626056061562641\n",
      "\t ---------- State is:  (7, 0)\n",
      "[INFO] [2023-04-11 17:01:47,424] [OpenBox-SPO] Iteration 716, objective value: [0.18663059055560333].\n"
     ]
    },
    {
     "name": "stderr",
     "output_type": "stream",
     "text": [
      "\r",
      " 72%|████████████████████████████████████████████████████████▌                      | 716/1000 [13:29<07:01,  1.49s/it]"
     ]
    },
    {
     "name": "stdout",
     "output_type": "stream",
     "text": [
      "\t ----- reward: -0.18663059055560333 for f_star and f_minus: 0.08630932584386547 , 0.18663059055560333\n",
      "\t ---------- State is:  (7, 0)\n",
      "[INFO] [2023-04-11 17:01:48,899] [OpenBox-SPO] Iteration 717, objective value: [0.5992482317176882].\n"
     ]
    },
    {
     "name": "stderr",
     "output_type": "stream",
     "text": [
      "\r",
      " 72%|████████████████████████████████████████████████████████▋                      | 717/1000 [13:31<06:59,  1.48s/it]"
     ]
    },
    {
     "name": "stdout",
     "output_type": "stream",
     "text": [
      "\t ----- reward: -0.5992482317176882 for f_star and f_minus: 0.08630932584386547 , 0.5992482317176882\n",
      "\t ---------- State is:  (7, 0)\n",
      "[INFO] [2023-04-11 17:01:50,452] [OpenBox-SPO] Iteration 718, objective value: [0.2206401407830873].\n"
     ]
    },
    {
     "name": "stderr",
     "output_type": "stream",
     "text": [
      "\r",
      " 72%|████████████████████████████████████████████████████████▋                      | 718/1000 [13:32<07:03,  1.50s/it]"
     ]
    },
    {
     "name": "stdout",
     "output_type": "stream",
     "text": [
      "\t ----- reward: -0.2206401407830873 for f_star and f_minus: 0.08630932584386547 , 0.2206401407830873\n",
      "\t ---------- State is:  (7, 0)\n",
      "[INFO] [2023-04-11 17:01:51,659] [OpenBox-SPO] Iteration 719, objective value: [1.6385303305927912].\n"
     ]
    },
    {
     "name": "stderr",
     "output_type": "stream",
     "text": [
      "\r",
      " 72%|████████████████████████████████████████████████████████▊                      | 719/1000 [13:34<06:37,  1.42s/it]"
     ]
    },
    {
     "name": "stdout",
     "output_type": "stream",
     "text": [
      "\t ----- reward: -1.6385303305927912 for f_star and f_minus: 0.08630932584386547 , 1.6385303305927912\n",
      "\t ---------- State is:  (7, 0)\n",
      "[INFO] [2023-04-11 17:01:51,659] [Advisor] Sample random config. rand_prob=0.100000.\n",
      "[INFO] [2023-04-11 17:01:51,659] [OpenBox-SPO] Iteration 720, objective value: [0.054868380172720804].\n",
      "\t ----- reward: -0.054868380172720804 for f_star and f_minus: 0.08630932584386547 , 0.054868380172720804\n",
      "\t ---------- State is:  (7, 0)\n",
      "[INFO] [2023-04-11 17:01:51,659] [Advisor] Sample random config. rand_prob=0.100000.\n",
      "[INFO] [2023-04-11 17:01:51,675] [OpenBox-SPO] Iteration 721, objective value: [1.2853913518682043].\n",
      "\t ----- reward: -1.2853913518682043 for f_star and f_minus: 0.08630932584386547 , 1.2853913518682043\n",
      "\t ---------- State is:  (7, 0)\n",
      "[INFO] [2023-04-11 17:01:53,087] [OpenBox-SPO] Iteration 722, objective value: [1.371170254365489].\n"
     ]
    },
    {
     "name": "stderr",
     "output_type": "stream",
     "text": [
      "\r",
      " 72%|█████████████████████████████████████████████████████████                      | 722/1000 [13:35<04:06,  1.13it/s]"
     ]
    },
    {
     "name": "stdout",
     "output_type": "stream",
     "text": [
      "\t ----- reward: -1.371170254365489 for f_star and f_minus: 0.054868380172720804 , 1.371170254365489\n",
      "\t ---------- State is:  (7, 0)\n",
      "[INFO] [2023-04-11 17:01:54,421] [OpenBox-SPO] Iteration 723, objective value: [0.19866836307992103].\n"
     ]
    },
    {
     "name": "stderr",
     "output_type": "stream",
     "text": [
      "\r",
      " 72%|█████████████████████████████████████████████████████████                      | 723/1000 [13:36<04:32,  1.02it/s]"
     ]
    },
    {
     "name": "stdout",
     "output_type": "stream",
     "text": [
      "\t ----- reward: -0.19866836307992103 for f_star and f_minus: 0.054868380172720804 , 0.19866836307992103\n",
      "\t ---------- State is:  (7, 0)\n",
      "[INFO] [2023-04-11 17:01:55,927] [OpenBox-SPO] Iteration 724, objective value: [0.18116309665298805].\n"
     ]
    },
    {
     "name": "stderr",
     "output_type": "stream",
     "text": [
      "\r",
      " 72%|█████████████████████████████████████████████████████████▏                     | 724/1000 [13:38<05:04,  1.10s/it]"
     ]
    },
    {
     "name": "stdout",
     "output_type": "stream",
     "text": [
      "\t ----- reward: -0.18116309665298805 for f_star and f_minus: 0.054868380172720804 , 0.18116309665298805\n",
      "\t ---------- State is:  (7, 0)\n",
      "[INFO] [2023-04-11 17:01:57,527] [OpenBox-SPO] Iteration 725, objective value: [0.18011769656129206].\n"
     ]
    },
    {
     "name": "stderr",
     "output_type": "stream",
     "text": [
      "\r",
      " 72%|█████████████████████████████████████████████████████████▎                     | 725/1000 [13:40<05:37,  1.23s/it]"
     ]
    },
    {
     "name": "stdout",
     "output_type": "stream",
     "text": [
      "\t ----- reward: -0.18011769656129206 for f_star and f_minus: 0.054868380172720804 , 0.18011769656129206\n",
      "\t ---------- State is:  (7, 0)\n",
      "[INFO] [2023-04-11 17:01:59,283] [OpenBox-SPO] Iteration 726, objective value: [0.17973405209023363].\n"
     ]
    },
    {
     "name": "stderr",
     "output_type": "stream",
     "text": [
      "\r",
      " 73%|█████████████████████████████████████████████████████████▎                     | 726/1000 [13:41<06:14,  1.37s/it]"
     ]
    },
    {
     "name": "stdout",
     "output_type": "stream",
     "text": [
      "\t ----- reward: -0.17973405209023363 for f_star and f_minus: 0.054868380172720804 , 0.17973405209023363\n",
      "\t ---------- State is:  (7, 0)\n",
      "[INFO] [2023-04-11 17:02:00,648] [OpenBox-SPO] Iteration 727, objective value: [0.22444715839884785].\n"
     ]
    },
    {
     "name": "stderr",
     "output_type": "stream",
     "text": [
      "\r",
      " 73%|█████████████████████████████████████████████████████████▍                     | 727/1000 [13:43<06:12,  1.37s/it]"
     ]
    },
    {
     "name": "stdout",
     "output_type": "stream",
     "text": [
      "\t ----- reward: -0.22444715839884785 for f_star and f_minus: 0.054868380172720804 , 0.22444715839884785\n",
      "\t ---------- State is:  (7, 0)\n",
      "[INFO] [2023-04-11 17:02:02,374] [OpenBox-SPO] Iteration 728, objective value: [0.25353315696243994].\n"
     ]
    },
    {
     "name": "stderr",
     "output_type": "stream",
     "text": [
      "\r",
      " 73%|█████████████████████████████████████████████████████████▌                     | 728/1000 [13:44<06:38,  1.47s/it]"
     ]
    },
    {
     "name": "stdout",
     "output_type": "stream",
     "text": [
      "\t ----- reward: -0.25353315696243994 for f_star and f_minus: 0.054868380172720804 , 0.25353315696243994\n",
      "\t ---------- State is:  (7, 0)\n",
      "[INFO] [2023-04-11 17:02:04,116] [OpenBox-SPO] Iteration 729, objective value: [0.18163433314051508].\n"
     ]
    },
    {
     "name": "stderr",
     "output_type": "stream",
     "text": [
      "\r",
      " 73%|█████████████████████████████████████████████████████████▌                     | 729/1000 [13:46<06:58,  1.55s/it]"
     ]
    },
    {
     "name": "stdout",
     "output_type": "stream",
     "text": [
      "\t ----- reward: -0.18163433314051508 for f_star and f_minus: 0.054868380172720804 , 0.18163433314051508\n",
      "\t ---------- State is:  (7, 0)\n",
      "[INFO] [2023-04-11 17:02:05,606] [OpenBox-SPO] Iteration 730, objective value: [1.0242373803233984].\n"
     ]
    },
    {
     "name": "stderr",
     "output_type": "stream",
     "text": [
      "\r",
      " 73%|█████████████████████████████████████████████████████████▋                     | 730/1000 [13:48<06:52,  1.53s/it]"
     ]
    },
    {
     "name": "stdout",
     "output_type": "stream",
     "text": [
      "\t ----- reward: -1.0242373803233984 for f_star and f_minus: 0.054868380172720804 , 1.0242373803233984\n",
      "\t ---------- State is:  (7, 0)\n",
      "[INFO] [2023-04-11 17:02:05,606] [Advisor] Sample random config. rand_prob=0.100000.\n",
      "[INFO] [2023-04-11 17:02:05,606] [OpenBox-SPO] Iteration 731, objective value: [0.5473888878436308].\n",
      "\t ----- reward: -0.5473888878436308 for f_star and f_minus: 0.054868380172720804 , 0.5473888878436308\n",
      "\t ---------- State is:  (7, 0)\n",
      "[INFO] [2023-04-11 17:02:07,065] [OpenBox-SPO] Iteration 732, objective value: [0.17302495581838756].\n"
     ]
    },
    {
     "name": "stderr",
     "output_type": "stream",
     "text": [
      "\r",
      " 73%|█████████████████████████████████████████████████████████▊                     | 732/1000 [13:49<05:12,  1.17s/it]"
     ]
    },
    {
     "name": "stdout",
     "output_type": "stream",
     "text": [
      "\t ----- reward: -0.17302495581838756 for f_star and f_minus: 0.054868380172720804 , 0.17302495581838756\n",
      "\t ---------- State is:  (7, 0)\n",
      "[INFO] [2023-04-11 17:02:08,179] [OpenBox-SPO] Iteration 733, objective value: [0.17778395204051914].\n"
     ]
    },
    {
     "name": "stderr",
     "output_type": "stream",
     "text": [
      "\r",
      " 73%|█████████████████████████████████████████████████████████▉                     | 733/1000 [13:50<05:08,  1.15s/it]"
     ]
    },
    {
     "name": "stdout",
     "output_type": "stream",
     "text": [
      "\t ----- reward: -0.17778395204051914 for f_star and f_minus: 0.054868380172720804 , 0.17778395204051914\n",
      "\t ---------- State is:  (7, 0)\n",
      "[INFO] [2023-04-11 17:02:09,592] [OpenBox-SPO] Iteration 734, objective value: [0.2566484638376718].\n"
     ]
    },
    {
     "name": "stderr",
     "output_type": "stream",
     "text": [
      "\r",
      " 73%|█████████████████████████████████████████████████████████▉                     | 734/1000 [13:52<05:24,  1.22s/it]"
     ]
    },
    {
     "name": "stdout",
     "output_type": "stream",
     "text": [
      "\t ----- reward: -0.2566484638376718 for f_star and f_minus: 0.054868380172720804 , 0.2566484638376718\n",
      "\t ---------- State is:  (7, 0)\n",
      "[INFO] [2023-04-11 17:02:10,925] [OpenBox-SPO] Iteration 735, objective value: [0.1984467850273452].\n"
     ]
    },
    {
     "name": "stderr",
     "output_type": "stream",
     "text": [
      "\r",
      " 74%|██████████████████████████████████████████████████████████                     | 735/1000 [13:53<05:31,  1.25s/it]"
     ]
    },
    {
     "name": "stdout",
     "output_type": "stream",
     "text": [
      "\t ----- reward: -0.1984467850273452 for f_star and f_minus: 0.054868380172720804 , 0.1984467850273452\n",
      "\t ---------- State is:  (7, 0)\n",
      "[INFO] [2023-04-11 17:02:12,290] [OpenBox-SPO] Iteration 736, objective value: [0.25812291756281264].\n"
     ]
    },
    {
     "name": "stderr",
     "output_type": "stream",
     "text": [
      "\r",
      " 74%|██████████████████████████████████████████████████████████▏                    | 736/1000 [13:54<05:38,  1.28s/it]"
     ]
    },
    {
     "name": "stdout",
     "output_type": "stream",
     "text": [
      "\t ----- reward: -0.25812291756281264 for f_star and f_minus: 0.054868380172720804 , 0.25812291756281264\n",
      "\t ---------- State is:  (7, 0)\n",
      "[INFO] [2023-04-11 17:02:13,670] [OpenBox-SPO] Iteration 737, objective value: [0.23219627358856879].\n"
     ]
    },
    {
     "name": "stderr",
     "output_type": "stream",
     "text": [
      "\r",
      " 74%|██████████████████████████████████████████████████████████▏                    | 737/1000 [13:56<05:45,  1.32s/it]"
     ]
    },
    {
     "name": "stdout",
     "output_type": "stream",
     "text": [
      "\t ----- reward: -0.23219627358856879 for f_star and f_minus: 0.054868380172720804 , 0.23219627358856879\n",
      "\t ---------- State is:  (7, 0)\n",
      "[INFO] [2023-04-11 17:02:15,036] [OpenBox-SPO] Iteration 738, objective value: [1.031655911209696].\n"
     ]
    },
    {
     "name": "stderr",
     "output_type": "stream",
     "text": [
      "\r",
      " 74%|██████████████████████████████████████████████████████████▎                    | 738/1000 [13:57<05:47,  1.33s/it]"
     ]
    },
    {
     "name": "stdout",
     "output_type": "stream",
     "text": [
      "\t ----- reward: -1.031655911209696 for f_star and f_minus: 0.054868380172720804 , 1.031655911209696\n",
      "\t ---------- State is:  (7, 0)\n",
      "[INFO] [2023-04-11 17:02:16,605] [OpenBox-SPO] Iteration 739, objective value: [1.65550254838099].\n"
     ]
    },
    {
     "name": "stderr",
     "output_type": "stream",
     "text": [
      "\r",
      " 74%|██████████████████████████████████████████████████████████▍                    | 739/1000 [13:59<06:04,  1.40s/it]"
     ]
    },
    {
     "name": "stdout",
     "output_type": "stream",
     "text": [
      "\t ----- reward: -1.65550254838099 for f_star and f_minus: 0.054868380172720804 , 1.65550254838099\n",
      "\t ---------- State is:  (7, 0)\n",
      "[INFO] [2023-04-11 17:02:17,997] [OpenBox-SPO] Iteration 740, objective value: [0.17460565924071492].\n"
     ]
    },
    {
     "name": "stderr",
     "output_type": "stream",
     "text": [
      "\r",
      " 74%|██████████████████████████████████████████████████████████▍                    | 740/1000 [14:00<06:02,  1.40s/it]"
     ]
    },
    {
     "name": "stdout",
     "output_type": "stream",
     "text": [
      "\t ----- reward: -0.17460565924071492 for f_star and f_minus: 0.054868380172720804 , 0.17460565924071492\n",
      "\t ---------- State is:  (7, 0)\n",
      "[INFO] [2023-04-11 17:02:19,539] [OpenBox-SPO] Iteration 741, objective value: [0.5174272993373079].\n"
     ]
    },
    {
     "name": "stderr",
     "output_type": "stream",
     "text": [
      "\r",
      " 74%|██████████████████████████████████████████████████████████▌                    | 741/1000 [14:02<06:12,  1.44s/it]"
     ]
    },
    {
     "name": "stdout",
     "output_type": "stream",
     "text": [
      "\t ----- reward: -0.5174272993373079 for f_star and f_minus: 0.054868380172720804 , 0.5174272993373079\n",
      "\t ---------- State is:  (7, 0)\n",
      "[INFO] [2023-04-11 17:02:20,702] [OpenBox-SPO] Iteration 742, objective value: [0.17338217136645775].\n"
     ]
    },
    {
     "name": "stderr",
     "output_type": "stream",
     "text": [
      "\r",
      " 74%|██████████████████████████████████████████████████████████▌                    | 742/1000 [14:03<05:50,  1.36s/it]"
     ]
    },
    {
     "name": "stdout",
     "output_type": "stream",
     "text": [
      "\t ----- reward: -0.17338217136645775 for f_star and f_minus: 0.054868380172720804 , 0.17338217136645775\n",
      "\t ---------- State is:  (7, 0)\n",
      "[INFO] [2023-04-11 17:02:22,049] [OpenBox-SPO] Iteration 743, objective value: [0.2903872818454969].\n"
     ]
    },
    {
     "name": "stderr",
     "output_type": "stream",
     "text": [
      "\r",
      " 74%|██████████████████████████████████████████████████████████▋                    | 743/1000 [14:04<05:47,  1.35s/it]"
     ]
    },
    {
     "name": "stdout",
     "output_type": "stream",
     "text": [
      "\t ----- reward: -0.2903872818454969 for f_star and f_minus: 0.054868380172720804 , 0.2903872818454969\n",
      "\t ---------- State is:  (7, 0)\n",
      "[INFO] [2023-04-11 17:02:23,684] [OpenBox-SPO] Iteration 744, objective value: [0.12276153913191612].\n"
     ]
    },
    {
     "name": "stderr",
     "output_type": "stream",
     "text": [
      "\r",
      " 74%|██████████████████████████████████████████████████████████▊                    | 744/1000 [14:06<06:08,  1.44s/it]"
     ]
    },
    {
     "name": "stdout",
     "output_type": "stream",
     "text": [
      "\t ----- reward: -0.12276153913191612 for f_star and f_minus: 0.054868380172720804 , 0.12276153913191612\n",
      "\t ---------- State is:  (7, 0)\n",
      "[INFO] [2023-04-11 17:02:25,019] [OpenBox-SPO] Iteration 745, objective value: [0.42883038409803714].\n"
     ]
    },
    {
     "name": "stderr",
     "output_type": "stream",
     "text": [
      "\r",
      " 74%|██████████████████████████████████████████████████████████▊                    | 745/1000 [14:07<05:58,  1.41s/it]"
     ]
    },
    {
     "name": "stdout",
     "output_type": "stream",
     "text": [
      "\t ----- reward: -0.42883038409803714 for f_star and f_minus: 0.054868380172720804 , 0.42883038409803714\n",
      "\t ---------- State is:  (7, 0)\n",
      "[INFO] [2023-04-11 17:02:26,311] [OpenBox-SPO] Iteration 746, objective value: [0.1481426677891333].\n"
     ]
    },
    {
     "name": "stderr",
     "output_type": "stream",
     "text": [
      "\r",
      " 75%|██████████████████████████████████████████████████████████▉                    | 746/1000 [14:08<05:48,  1.37s/it]"
     ]
    },
    {
     "name": "stdout",
     "output_type": "stream",
     "text": [
      "\t ----- reward: -0.1481426677891333 for f_star and f_minus: 0.054868380172720804 , 0.1481426677891333\n",
      "\t ---------- State is:  (7, 0)\n",
      "[INFO] [2023-04-11 17:02:27,764] [OpenBox-SPO] Iteration 747, objective value: [0.1700216855047253].\n"
     ]
    },
    {
     "name": "stderr",
     "output_type": "stream",
     "text": [
      "\r",
      " 75%|███████████████████████████████████████████████████████████                    | 747/1000 [14:10<05:53,  1.40s/it]"
     ]
    },
    {
     "name": "stdout",
     "output_type": "stream",
     "text": [
      "\t ----- reward: -0.1700216855047253 for f_star and f_minus: 0.054868380172720804 , 0.1700216855047253\n",
      "\t ---------- State is:  (7, 0)\n",
      "[INFO] [2023-04-11 17:02:29,187] [OpenBox-SPO] Iteration 748, objective value: [1.042055634776389].\n"
     ]
    },
    {
     "name": "stderr",
     "output_type": "stream",
     "text": [
      "\r",
      " 75%|███████████████████████████████████████████████████████████                    | 748/1000 [14:11<05:53,  1.40s/it]"
     ]
    },
    {
     "name": "stdout",
     "output_type": "stream",
     "text": [
      "\t ----- reward: -1.042055634776389 for f_star and f_minus: 0.054868380172720804 , 1.042055634776389\n",
      "\t ---------- State is:  (7, 0)\n",
      "[INFO] [2023-04-11 17:02:30,543] [OpenBox-SPO] Iteration 749, objective value: [0.17785339048932086].\n"
     ]
    },
    {
     "name": "stderr",
     "output_type": "stream",
     "text": [
      "\r",
      " 75%|███████████████████████████████████████████████████████████▏                   | 749/1000 [14:13<05:48,  1.39s/it]"
     ]
    },
    {
     "name": "stdout",
     "output_type": "stream",
     "text": [
      "\t ----- reward: -0.17785339048932086 for f_star and f_minus: 0.054868380172720804 , 0.17785339048932086\n",
      "\t ---------- State is:  (7, 0)\n",
      "[INFO] [2023-04-11 17:02:31,932] [OpenBox-SPO] Iteration 750, objective value: [1.1360321076508917].\n"
     ]
    },
    {
     "name": "stderr",
     "output_type": "stream",
     "text": [
      "\r",
      " 75%|███████████████████████████████████████████████████████████▎                   | 750/1000 [14:14<05:47,  1.39s/it]"
     ]
    },
    {
     "name": "stdout",
     "output_type": "stream",
     "text": [
      "\t ----- reward: -1.1360321076508917 for f_star and f_minus: 0.054868380172720804 , 1.1360321076508917\n",
      "\t ---------- State is:  (7, 0)\n",
      "[INFO] [2023-04-11 17:02:33,237] [OpenBox-SPO] Iteration 751, objective value: [0.9728550116548702].\n"
     ]
    },
    {
     "name": "stderr",
     "output_type": "stream",
     "text": [
      "\r",
      " 75%|███████████████████████████████████████████████████████████▎                   | 751/1000 [14:15<05:39,  1.36s/it]"
     ]
    },
    {
     "name": "stdout",
     "output_type": "stream",
     "text": [
      "\t ----- reward: -0.9728550116548702 for f_star and f_minus: 0.054868380172720804 , 0.9728550116548702\n",
      "\t ---------- State is:  (7, 0)\n",
      "[INFO] [2023-04-11 17:02:34,634] [OpenBox-SPO] Iteration 752, objective value: [0.9249201835664518].\n"
     ]
    },
    {
     "name": "stderr",
     "output_type": "stream",
     "text": [
      "\r",
      " 75%|███████████████████████████████████████████████████████████▍                   | 752/1000 [14:17<05:40,  1.37s/it]"
     ]
    },
    {
     "name": "stdout",
     "output_type": "stream",
     "text": [
      "\t ----- reward: -0.9249201835664518 for f_star and f_minus: 0.054868380172720804 , 0.9249201835664518\n",
      "\t ---------- State is:  (7, 0)\n",
      "[INFO] [2023-04-11 17:02:36,470] [OpenBox-SPO] Iteration 753, objective value: [0.24092857481499622].\n"
     ]
    },
    {
     "name": "stderr",
     "output_type": "stream",
     "text": [
      "\r",
      " 75%|███████████████████████████████████████████████████████████▍                   | 753/1000 [14:19<06:13,  1.51s/it]"
     ]
    },
    {
     "name": "stdout",
     "output_type": "stream",
     "text": [
      "\t ----- reward: -0.24092857481499622 for f_star and f_minus: 0.054868380172720804 , 0.24092857481499622\n",
      "\t ---------- State is:  (7, 0)\n",
      "[INFO] [2023-04-11 17:02:37,988] [OpenBox-SPO] Iteration 754, objective value: [0.2569641292094094].\n"
     ]
    },
    {
     "name": "stderr",
     "output_type": "stream",
     "text": [
      "\r",
      " 75%|███████████████████████████████████████████████████████████▌                   | 754/1000 [14:20<06:12,  1.51s/it]"
     ]
    },
    {
     "name": "stdout",
     "output_type": "stream",
     "text": [
      "\t ----- reward: -0.2569641292094094 for f_star and f_minus: 0.054868380172720804 , 0.2569641292094094\n",
      "\t ---------- State is:  (7, 0)\n",
      "[INFO] [2023-04-11 17:02:39,440] [OpenBox-SPO] Iteration 755, objective value: [0.11901567638169859].\n"
     ]
    },
    {
     "name": "stderr",
     "output_type": "stream",
     "text": [
      "\r",
      " 76%|███████████████████████████████████████████████████████████▋                   | 755/1000 [14:21<06:06,  1.50s/it]"
     ]
    },
    {
     "name": "stdout",
     "output_type": "stream",
     "text": [
      "\t ----- reward: -0.11901567638169859 for f_star and f_minus: 0.054868380172720804 , 0.11901567638169859\n",
      "\t ---------- State is:  (7, 0)\n",
      "[INFO] [2023-04-11 17:02:40,851] [OpenBox-SPO] Iteration 756, objective value: [0.1828413872654279].\n"
     ]
    },
    {
     "name": "stderr",
     "output_type": "stream",
     "text": [
      "\r",
      " 76%|███████████████████████████████████████████████████████████▋                   | 756/1000 [14:23<05:58,  1.47s/it]"
     ]
    },
    {
     "name": "stdout",
     "output_type": "stream",
     "text": [
      "\t ----- reward: -0.1828413872654279 for f_star and f_minus: 0.054868380172720804 , 0.1828413872654279\n",
      "\t ---------- State is:  (7, 0)\n",
      "[INFO] [2023-04-11 17:02:42,061] [OpenBox-SPO] Iteration 757, objective value: [0.14814216899215624].\n"
     ]
    },
    {
     "name": "stderr",
     "output_type": "stream",
     "text": [
      "\r",
      " 76%|███████████████████████████████████████████████████████████▊                   | 757/1000 [14:24<05:38,  1.39s/it]"
     ]
    },
    {
     "name": "stdout",
     "output_type": "stream",
     "text": [
      "\t ----- reward: -0.14814216899215624 for f_star and f_minus: 0.054868380172720804 , 0.14814216899215624\n",
      "\t ---------- State is:  (7, 0)\n",
      "[INFO] [2023-04-11 17:02:43,507] [OpenBox-SPO] Iteration 758, objective value: [0.12207917412908183].\n"
     ]
    },
    {
     "name": "stderr",
     "output_type": "stream",
     "text": [
      "\r",
      " 76%|███████████████████████████████████████████████████████████▉                   | 758/1000 [14:26<05:40,  1.41s/it]"
     ]
    },
    {
     "name": "stdout",
     "output_type": "stream",
     "text": [
      "\t ----- reward: -0.12207917412908183 for f_star and f_minus: 0.054868380172720804 , 0.12207917412908183\n",
      "\t ---------- State is:  (7, 0)\n",
      "[INFO] [2023-04-11 17:02:45,071] [OpenBox-SPO] Iteration 759, objective value: [0.15906716630694426].\n"
     ]
    },
    {
     "name": "stderr",
     "output_type": "stream",
     "text": [
      "\r",
      " 76%|███████████████████████████████████████████████████████████▉                   | 759/1000 [14:27<05:50,  1.46s/it]"
     ]
    },
    {
     "name": "stdout",
     "output_type": "stream",
     "text": [
      "\t ----- reward: -0.15906716630694426 for f_star and f_minus: 0.054868380172720804 , 0.15906716630694426\n",
      "\t ---------- State is:  (7, 0)\n",
      "[INFO] [2023-04-11 17:02:46,694] [OpenBox-SPO] Iteration 760, objective value: [0.22878873944975517].\n"
     ]
    },
    {
     "name": "stderr",
     "output_type": "stream",
     "text": [
      "\r",
      " 76%|████████████████████████████████████████████████████████████                   | 760/1000 [14:29<06:01,  1.51s/it]"
     ]
    },
    {
     "name": "stdout",
     "output_type": "stream",
     "text": [
      "\t ----- reward: -0.22878873944975517 for f_star and f_minus: 0.054868380172720804 , 0.22878873944975517\n",
      "\t ---------- State is:  (7, 0)\n",
      "[INFO] [2023-04-11 17:02:48,215] [OpenBox-SPO] Iteration 761, objective value: [0.1515972465595062].\n"
     ]
    },
    {
     "name": "stderr",
     "output_type": "stream",
     "text": [
      "\r",
      " 76%|████████████████████████████████████████████████████████████                   | 761/1000 [14:30<06:00,  1.51s/it]"
     ]
    },
    {
     "name": "stdout",
     "output_type": "stream",
     "text": [
      "\t ----- reward: -0.1515972465595062 for f_star and f_minus: 0.054868380172720804 , 0.1515972465595062\n",
      "\t ---------- State is:  (7, 0)\n",
      "[INFO] [2023-04-11 17:02:49,632] [OpenBox-SPO] Iteration 762, objective value: [1.3053651402560238].\n"
     ]
    },
    {
     "name": "stderr",
     "output_type": "stream",
     "text": [
      "\r",
      " 76%|████████████████████████████████████████████████████████████▏                  | 762/1000 [14:32<05:52,  1.48s/it]"
     ]
    },
    {
     "name": "stdout",
     "output_type": "stream",
     "text": [
      "\t ----- reward: -1.3053651402560238 for f_star and f_minus: 0.054868380172720804 , 1.3053651402560238\n",
      "\t ---------- State is:  (7, 0)\n",
      "[INFO] [2023-04-11 17:02:50,922] [OpenBox-SPO] Iteration 763, objective value: [0.15879516125751014].\n"
     ]
    },
    {
     "name": "stderr",
     "output_type": "stream",
     "text": [
      "\r",
      " 76%|████████████████████████████████████████████████████████████▎                  | 763/1000 [14:33<05:37,  1.42s/it]"
     ]
    },
    {
     "name": "stdout",
     "output_type": "stream",
     "text": [
      "\t ----- reward: -0.15879516125751014 for f_star and f_minus: 0.054868380172720804 , 0.15879516125751014\n",
      "\t ---------- State is:  (7, 0)\n",
      "[INFO] [2023-04-11 17:02:52,286] [OpenBox-SPO] Iteration 764, objective value: [0.20374021004281845].\n"
     ]
    },
    {
     "name": "stderr",
     "output_type": "stream",
     "text": [
      "\r",
      " 76%|████████████████████████████████████████████████████████████▎                  | 764/1000 [14:34<05:31,  1.41s/it]"
     ]
    },
    {
     "name": "stdout",
     "output_type": "stream",
     "text": [
      "\t ----- reward: -0.20374021004281845 for f_star and f_minus: 0.054868380172720804 , 0.20374021004281845\n",
      "\t ---------- State is:  (7, 0)\n",
      "[INFO] [2023-04-11 17:02:53,732] [OpenBox-SPO] Iteration 765, objective value: [0.20321685821491478].\n"
     ]
    },
    {
     "name": "stderr",
     "output_type": "stream",
     "text": [
      "\r",
      " 76%|████████████████████████████████████████████████████████████▍                  | 765/1000 [14:36<05:33,  1.42s/it]"
     ]
    },
    {
     "name": "stdout",
     "output_type": "stream",
     "text": [
      "\t ----- reward: -0.20321685821491478 for f_star and f_minus: 0.054868380172720804 , 0.20321685821491478\n",
      "\t ---------- State is:  (7, 0)\n",
      "[INFO] [2023-04-11 17:02:54,960] [OpenBox-SPO] Iteration 766, objective value: [0.1216541761512312].\n"
     ]
    },
    {
     "name": "stderr",
     "output_type": "stream",
     "text": [
      "\r",
      " 77%|████████████████████████████████████████████████████████████▌                  | 766/1000 [14:37<05:18,  1.36s/it]"
     ]
    },
    {
     "name": "stdout",
     "output_type": "stream",
     "text": [
      "\t ----- reward: -0.1216541761512312 for f_star and f_minus: 0.054868380172720804 , 0.1216541761512312\n",
      "\t ---------- State is:  (7, 0)\n",
      "[INFO] [2023-04-11 17:02:54,960] [Advisor] Sample random config. rand_prob=0.100000.\n",
      "[INFO] [2023-04-11 17:02:54,972] [OpenBox-SPO] Iteration 767, objective value: [2.2290287723284146].\n",
      "\t ----- reward: -2.2290287723284146 for f_star and f_minus: 0.054868380172720804 , 2.2290287723284146\n",
      "\t ---------- State is:  (7, 0)\n",
      "[INFO] [2023-04-11 17:02:56,702] [OpenBox-SPO] Iteration 768, objective value: [0.11931195159193872].\n"
     ]
    },
    {
     "name": "stderr",
     "output_type": "stream",
     "text": [
      "\r",
      " 77%|████████████████████████████████████████████████████████████▋                  | 768/1000 [14:39<04:23,  1.14s/it]"
     ]
    },
    {
     "name": "stdout",
     "output_type": "stream",
     "text": [
      "\t ----- reward: -0.11931195159193872 for f_star and f_minus: 0.054868380172720804 , 0.11931195159193872\n",
      "\t ---------- State is:  (7, 0)\n",
      "[INFO] [2023-04-11 17:02:58,064] [OpenBox-SPO] Iteration 769, objective value: [0.32128306656665045].\n"
     ]
    },
    {
     "name": "stderr",
     "output_type": "stream",
     "text": [
      "\r",
      " 77%|████████████████████████████████████████████████████████████▊                  | 769/1000 [14:40<04:35,  1.19s/it]"
     ]
    },
    {
     "name": "stdout",
     "output_type": "stream",
     "text": [
      "\t ----- reward: -0.32128306656665045 for f_star and f_minus: 0.054868380172720804 , 0.32128306656665045\n",
      "\t ---------- State is:  (7, 0)\n",
      "[INFO] [2023-04-11 17:02:58,064] [Advisor] Sample random config. rand_prob=0.100000.\n",
      "[INFO] [2023-04-11 17:02:58,070] [OpenBox-SPO] Iteration 770, objective value: [1.972522618944903].\n",
      "\t ----- reward: -1.972522618944903 for f_star and f_minus: 0.054868380172720804 , 1.972522618944903\n",
      "\t ---------- State is:  (7, 0)\n",
      "[INFO] [2023-04-11 17:02:59,666] [OpenBox-SPO] Iteration 771, objective value: [0.11842459350874557].\n"
     ]
    },
    {
     "name": "stderr",
     "output_type": "stream",
     "text": [
      "\r",
      " 77%|████████████████████████████████████████████████████████████▉                  | 771/1000 [14:42<03:56,  1.03s/it]"
     ]
    },
    {
     "name": "stdout",
     "output_type": "stream",
     "text": [
      "\t ----- reward: -0.11842459350874557 for f_star and f_minus: 0.054868380172720804 , 0.11842459350874557\n",
      "\t ---------- State is:  (7, 0)\n",
      "[INFO] [2023-04-11 17:03:01,396] [OpenBox-SPO] Iteration 772, objective value: [0.1182070958414282].\n"
     ]
    },
    {
     "name": "stderr",
     "output_type": "stream",
     "text": [
      "\r",
      " 77%|████████████████████████████████████████████████████████████▉                  | 772/1000 [14:43<04:31,  1.19s/it]"
     ]
    },
    {
     "name": "stdout",
     "output_type": "stream",
     "text": [
      "\t ----- reward: -0.1182070958414282 for f_star and f_minus: 0.054868380172720804 , 0.1182070958414282\n",
      "\t ---------- State is:  (7, 0)\n",
      "[INFO] [2023-04-11 17:03:02,989] [OpenBox-SPO] Iteration 773, objective value: [0.1185892211530101].\n"
     ]
    },
    {
     "name": "stderr",
     "output_type": "stream",
     "text": [
      "\r",
      " 77%|█████████████████████████████████████████████████████████████                  | 773/1000 [14:45<04:52,  1.29s/it]"
     ]
    },
    {
     "name": "stdout",
     "output_type": "stream",
     "text": [
      "\t ----- reward: -0.1185892211530101 for f_star and f_minus: 0.054868380172720804 , 0.1185892211530101\n",
      "\t ---------- State is:  (7, 0)\n",
      "[INFO] [2023-04-11 17:03:02,989] [Advisor] Sample random config. rand_prob=0.100000.\n",
      "[INFO] [2023-04-11 17:03:03,003] [OpenBox-SPO] Iteration 774, objective value: [1.876420096502162].\n",
      "\t ----- reward: -1.876420096502162 for f_star and f_minus: 0.054868380172720804 , 1.876420096502162\n",
      "\t ---------- State is:  (7, 0)\n",
      "[INFO] [2023-04-11 17:03:03,003] [Advisor] Sample random config. rand_prob=0.100000.\n",
      "[INFO] [2023-04-11 17:03:03,004] [OpenBox-SPO] Iteration 775, objective value: [0.8315281302266562].\n",
      "\t ----- reward: -0.8315281302266562 for f_star and f_minus: 0.054868380172720804 , 0.8315281302266562\n",
      "\t ---------- State is:  (7, 0)\n",
      "[INFO] [2023-04-11 17:03:03,004] [Advisor] Sample random config. rand_prob=0.100000.\n",
      "[INFO] [2023-04-11 17:03:03,004] [OpenBox-SPO] Iteration 776, objective value: [1.9758460330480199].\n",
      "\t ----- reward: -1.9758460330480199 for f_star and f_minus: 0.054868380172720804 , 1.9758460330480199\n",
      "\t ---------- State is:  (7, 0)\n",
      "[INFO] [2023-04-11 17:03:04,456] [OpenBox-SPO] Iteration 777, objective value: [0.11482946577565745].\n"
     ]
    },
    {
     "name": "stderr",
     "output_type": "stream",
     "text": [
      "\r",
      " 78%|█████████████████████████████████████████████████████████████▍                 | 777/1000 [14:46<02:47,  1.33it/s]"
     ]
    },
    {
     "name": "stdout",
     "output_type": "stream",
     "text": [
      "\t ----- reward: -0.11482946577565745 for f_star and f_minus: 0.054868380172720804 , 0.11482946577565745\n",
      "\t ---------- State is:  (8, 0)\n",
      "[INFO] [2023-04-11 17:03:05,941] [OpenBox-SPO] Iteration 778, objective value: [0.24642505178103524].\n"
     ]
    },
    {
     "name": "stderr",
     "output_type": "stream",
     "text": [
      "\r",
      " 78%|█████████████████████████████████████████████████████████████▍                 | 778/1000 [14:48<03:14,  1.14it/s]"
     ]
    },
    {
     "name": "stdout",
     "output_type": "stream",
     "text": [
      "\t ----- reward: -0.24642505178103524 for f_star and f_minus: 0.054868380172720804 , 0.24642505178103524\n",
      "\t ---------- State is:  (7, 0)\n",
      "[INFO] [2023-04-11 17:03:07,442] [OpenBox-SPO] Iteration 779, objective value: [0.29940207591582807].\n"
     ]
    },
    {
     "name": "stderr",
     "output_type": "stream",
     "text": [
      "\r",
      " 78%|█████████████████████████████████████████████████████████████▌                 | 779/1000 [14:49<03:41,  1.00s/it]"
     ]
    },
    {
     "name": "stdout",
     "output_type": "stream",
     "text": [
      "\t ----- reward: -0.29940207591582807 for f_star and f_minus: 0.054868380172720804 , 0.29940207591582807\n",
      "\t ---------- State is:  (8, 0)\n",
      "[INFO] [2023-04-11 17:03:09,187] [OpenBox-SPO] Iteration 780, objective value: [0.15714195916292592].\n"
     ]
    },
    {
     "name": "stderr",
     "output_type": "stream",
     "text": [
      "\r",
      " 78%|█████████████████████████████████████████████████████████████▌                 | 780/1000 [14:51<04:16,  1.16s/it]"
     ]
    },
    {
     "name": "stdout",
     "output_type": "stream",
     "text": [
      "\t ----- reward: -0.15714195916292592 for f_star and f_minus: 0.054868380172720804 , 0.15714195916292592\n",
      "\t ---------- State is:  (7, 0)\n",
      "[INFO] [2023-04-11 17:03:10,744] [OpenBox-SPO] Iteration 781, objective value: [0.7636402622537455].\n"
     ]
    },
    {
     "name": "stderr",
     "output_type": "stream",
     "text": [
      "\r",
      " 78%|█████████████████████████████████████████████████████████████▋                 | 781/1000 [14:53<04:35,  1.26s/it]"
     ]
    },
    {
     "name": "stdout",
     "output_type": "stream",
     "text": [
      "\t ----- reward: -0.7636402622537455 for f_star and f_minus: 0.054868380172720804 , 0.7636402622537455\n",
      "\t ---------- State is:  (8, 0)\n",
      "[INFO] [2023-04-11 17:03:12,278] [OpenBox-SPO] Iteration 782, objective value: [0.12193802524914847].\n"
     ]
    },
    {
     "name": "stderr",
     "output_type": "stream",
     "text": [
      "\r",
      " 78%|█████████████████████████████████████████████████████████████▊                 | 782/1000 [14:54<04:49,  1.33s/it]"
     ]
    },
    {
     "name": "stdout",
     "output_type": "stream",
     "text": [
      "\t ----- reward: -0.12193802524914847 for f_star and f_minus: 0.054868380172720804 , 0.12193802524914847\n",
      "\t ---------- State is:  (7, 0)\n",
      "[INFO] [2023-04-11 17:03:13,781] [OpenBox-SPO] Iteration 783, objective value: [0.2387189388012029].\n"
     ]
    },
    {
     "name": "stderr",
     "output_type": "stream",
     "text": [
      "\r",
      " 78%|█████████████████████████████████████████████████████████████▊                 | 783/1000 [14:56<04:58,  1.38s/it]"
     ]
    },
    {
     "name": "stdout",
     "output_type": "stream",
     "text": [
      "\t ----- reward: -0.2387189388012029 for f_star and f_minus: 0.054868380172720804 , 0.2387189388012029\n",
      "\t ---------- State is:  (8, 0)\n",
      "[INFO] [2023-04-11 17:03:15,251] [OpenBox-SPO] Iteration 784, objective value: [0.11581274139051273].\n"
     ]
    },
    {
     "name": "stderr",
     "output_type": "stream",
     "text": [
      "\r",
      " 78%|█████████████████████████████████████████████████████████████▉                 | 784/1000 [14:57<05:02,  1.40s/it]"
     ]
    },
    {
     "name": "stdout",
     "output_type": "stream",
     "text": [
      "\t ----- reward: -0.11581274139051273 for f_star and f_minus: 0.054868380172720804 , 0.11581274139051273\n",
      "\t ---------- State is:  (7, 0)\n",
      "[INFO] [2023-04-11 17:03:16,892] [OpenBox-SPO] Iteration 785, objective value: [0.22040137523484604].\n"
     ]
    },
    {
     "name": "stderr",
     "output_type": "stream",
     "text": [
      "\r",
      " 78%|██████████████████████████████████████████████████████████████                 | 785/1000 [14:59<05:15,  1.47s/it]"
     ]
    },
    {
     "name": "stdout",
     "output_type": "stream",
     "text": [
      "\t ----- reward: -0.22040137523484604 for f_star and f_minus: 0.054868380172720804 , 0.22040137523484604\n",
      "\t ---------- State is:  (8, 0)\n",
      "[INFO] [2023-04-11 17:03:18,336] [OpenBox-SPO] Iteration 786, objective value: [0.11356175911437232].\n"
     ]
    },
    {
     "name": "stderr",
     "output_type": "stream",
     "text": [
      "\r",
      " 79%|██████████████████████████████████████████████████████████████                 | 786/1000 [15:00<05:12,  1.46s/it]"
     ]
    },
    {
     "name": "stdout",
     "output_type": "stream",
     "text": [
      "\t ----- reward: -0.11356175911437232 for f_star and f_minus: 0.054868380172720804 , 0.11356175911437232\n",
      "\t ---------- State is:  (7, 0)\n",
      "[INFO] [2023-04-11 17:03:20,154] [OpenBox-SPO] Iteration 787, objective value: [0.12814027273876466].\n"
     ]
    },
    {
     "name": "stderr",
     "output_type": "stream",
     "text": [
      "\r",
      " 79%|██████████████████████████████████████████████████████████████▏                | 787/1000 [15:02<05:33,  1.57s/it]"
     ]
    },
    {
     "name": "stdout",
     "output_type": "stream",
     "text": [
      "\t ----- reward: -0.12814027273876466 for f_star and f_minus: 0.054868380172720804 , 0.12814027273876466\n",
      "\t ---------- State is:  (8, 0)\n",
      "[INFO] [2023-04-11 17:03:21,934] [OpenBox-SPO] Iteration 788, objective value: [0.13873198529690994].\n"
     ]
    },
    {
     "name": "stderr",
     "output_type": "stream",
     "text": [
      "\r",
      " 79%|██████████████████████████████████████████████████████████████▎                | 788/1000 [15:04<05:45,  1.63s/it]"
     ]
    },
    {
     "name": "stdout",
     "output_type": "stream",
     "text": [
      "\t ----- reward: -0.13873198529690994 for f_star and f_minus: 0.054868380172720804 , 0.13873198529690994\n",
      "\t ---------- State is:  (7, 0)\n",
      "[INFO] [2023-04-11 17:03:23,323] [OpenBox-SPO] Iteration 789, objective value: [1.3705106826302573].\n"
     ]
    },
    {
     "name": "stderr",
     "output_type": "stream",
     "text": [
      "\r",
      " 79%|██████████████████████████████████████████████████████████████▎                | 789/1000 [15:05<05:28,  1.56s/it]"
     ]
    },
    {
     "name": "stdout",
     "output_type": "stream",
     "text": [
      "\t ----- reward: -1.3705106826302573 for f_star and f_minus: 0.054868380172720804 , 1.3705106826302573\n",
      "\t ---------- State is:  (8, 0)\n",
      "[INFO] [2023-04-11 17:03:25,117] [OpenBox-SPO] Iteration 790, objective value: [0.11339840779477806].\n"
     ]
    },
    {
     "name": "stderr",
     "output_type": "stream",
     "text": [
      "\r",
      " 79%|██████████████████████████████████████████████████████████████▍                | 790/1000 [15:07<05:41,  1.63s/it]"
     ]
    },
    {
     "name": "stdout",
     "output_type": "stream",
     "text": [
      "\t ----- reward: -0.11339840779477806 for f_star and f_minus: 0.054868380172720804 , 0.11339840779477806\n",
      "\t ---------- State is:  (7, 0)\n",
      "[INFO] [2023-04-11 17:03:25,117] [Advisor] Sample random config. rand_prob=0.100000.\n",
      "[INFO] [2023-04-11 17:03:25,117] [OpenBox-SPO] Iteration 791, objective value: [1.190255603652222].\n",
      "\t ----- reward: -1.190255603652222 for f_star and f_minus: 0.054868380172720804 , 1.190255603652222\n",
      "\t ---------- State is:  (8, 0)\n",
      "[INFO] [2023-04-11 17:03:26,694] [OpenBox-SPO] Iteration 792, objective value: [0.2032228477618436].\n"
     ]
    },
    {
     "name": "stderr",
     "output_type": "stream",
     "text": [
      "\r",
      " 79%|██████████████████████████████████████████████████████████████▌                | 792/1000 [15:09<04:18,  1.24s/it]"
     ]
    },
    {
     "name": "stdout",
     "output_type": "stream",
     "text": [
      "\t ----- reward: -0.2032228477618436 for f_star and f_minus: 0.054868380172720804 , 0.2032228477618436\n",
      "\t ---------- State is:  (7, 0)\n",
      "[INFO] [2023-04-11 17:03:28,397] [OpenBox-SPO] Iteration 793, objective value: [0.1352794914656413].\n"
     ]
    },
    {
     "name": "stderr",
     "output_type": "stream",
     "text": [
      "\r",
      " 79%|██████████████████████████████████████████████████████████████▋                | 793/1000 [15:10<04:40,  1.36s/it]"
     ]
    },
    {
     "name": "stdout",
     "output_type": "stream",
     "text": [
      "\t ----- reward: -0.1352794914656413 for f_star and f_minus: 0.054868380172720804 , 0.1352794914656413\n",
      "\t ---------- State is:  (8, 0)\n",
      "[INFO] [2023-04-11 17:03:29,685] [OpenBox-SPO] Iteration 794, objective value: [0.20303053135697727].\n"
     ]
    },
    {
     "name": "stderr",
     "output_type": "stream",
     "text": [
      "\r",
      " 79%|██████████████████████████████████████████████████████████████▋                | 794/1000 [15:12<04:35,  1.34s/it]"
     ]
    },
    {
     "name": "stdout",
     "output_type": "stream",
     "text": [
      "\t ----- reward: -0.20303053135697727 for f_star and f_minus: 0.054868380172720804 , 0.20303053135697727\n",
      "\t ---------- State is:  (7, 0)\n",
      "[INFO] [2023-04-11 17:03:31,295] [OpenBox-SPO] Iteration 795, objective value: [0.13872869973717747].\n"
     ]
    },
    {
     "name": "stderr",
     "output_type": "stream",
     "text": [
      "\r",
      " 80%|██████████████████████████████████████████████████████████████▊                | 795/1000 [15:13<04:49,  1.41s/it]"
     ]
    },
    {
     "name": "stdout",
     "output_type": "stream",
     "text": [
      "\t ----- reward: -0.13872869973717747 for f_star and f_minus: 0.054868380172720804 , 0.13872869973717747\n",
      "\t ---------- State is:  (8, 0)\n",
      "[INFO] [2023-04-11 17:03:32,570] [OpenBox-SPO] Iteration 796, objective value: [1.1461078494339356].\n"
     ]
    },
    {
     "name": "stderr",
     "output_type": "stream",
     "text": [
      "\r",
      " 80%|██████████████████████████████████████████████████████████████▉                | 796/1000 [15:15<04:40,  1.37s/it]"
     ]
    },
    {
     "name": "stdout",
     "output_type": "stream",
     "text": [
      "\t ----- reward: -1.1461078494339356 for f_star and f_minus: 0.054868380172720804 , 1.1461078494339356\n",
      "\t ---------- State is:  (7, 0)\n",
      "[INFO] [2023-04-11 17:03:34,356] [OpenBox-SPO] Iteration 797, objective value: [0.14752026343927713].\n"
     ]
    },
    {
     "name": "stderr",
     "output_type": "stream",
     "text": [
      "\r",
      " 80%|██████████████████████████████████████████████████████████████▉                | 797/1000 [15:16<05:02,  1.49s/it]"
     ]
    },
    {
     "name": "stdout",
     "output_type": "stream",
     "text": [
      "\t ----- reward: -0.14752026343927713 for f_star and f_minus: 0.054868380172720804 , 0.14752026343927713\n",
      "\t ---------- State is:  (8, 0)\n",
      "[INFO] [2023-04-11 17:03:35,871] [OpenBox-SPO] Iteration 798, objective value: [0.23701157872243242].\n"
     ]
    },
    {
     "name": "stderr",
     "output_type": "stream",
     "text": [
      "\r",
      " 80%|███████████████████████████████████████████████████████████████                | 798/1000 [15:18<05:02,  1.50s/it]"
     ]
    },
    {
     "name": "stdout",
     "output_type": "stream",
     "text": [
      "\t ----- reward: -0.23701157872243242 for f_star and f_minus: 0.054868380172720804 , 0.23701157872243242\n",
      "\t ---------- State is:  (7, 0)\n",
      "[INFO] [2023-04-11 17:03:37,718] [OpenBox-SPO] Iteration 799, objective value: [1.9471188826236419].\n"
     ]
    },
    {
     "name": "stderr",
     "output_type": "stream",
     "text": [
      "\r",
      " 80%|███████████████████████████████████████████████████████████████                | 799/1000 [15:20<05:21,  1.60s/it]"
     ]
    },
    {
     "name": "stdout",
     "output_type": "stream",
     "text": [
      "\t ----- reward: -1.9471188826236419 for f_star and f_minus: 0.054868380172720804 , 1.9471188826236419\n",
      "\t ---------- State is:  (8, 0)\n",
      "[INFO] [2023-04-11 17:03:39,177] [OpenBox-SPO] Iteration 800, objective value: [0.1790290686323924].\n"
     ]
    },
    {
     "name": "stderr",
     "output_type": "stream",
     "text": [
      "\r",
      " 80%|███████████████████████████████████████████████████████████████▏               | 800/1000 [15:21<05:11,  1.56s/it]"
     ]
    },
    {
     "name": "stdout",
     "output_type": "stream",
     "text": [
      "\t ----- reward: -0.1790290686323924 for f_star and f_minus: 0.054868380172720804 , 0.1790290686323924\n",
      "\t ---------- State is:  (7, 0)\n",
      "[INFO] [2023-04-11 17:03:40,587] [OpenBox-SPO] Iteration 801, objective value: [0.11741243073212386].\n"
     ]
    },
    {
     "name": "stderr",
     "output_type": "stream",
     "text": [
      "\r",
      " 80%|███████████████████████████████████████████████████████████████▎               | 801/1000 [15:23<05:01,  1.51s/it]"
     ]
    },
    {
     "name": "stdout",
     "output_type": "stream",
     "text": [
      "\t ----- reward: -0.11741243073212386 for f_star and f_minus: 0.054868380172720804 , 0.11741243073212386\n",
      "\t ---------- State is:  (8, 0)\n",
      "[INFO] [2023-04-11 17:03:41,968] [OpenBox-SPO] Iteration 802, objective value: [0.162298926271612].\n"
     ]
    },
    {
     "name": "stderr",
     "output_type": "stream",
     "text": [
      "\r",
      " 80%|███████████████████████████████████████████████████████████████▎               | 802/1000 [15:24<04:51,  1.47s/it]"
     ]
    },
    {
     "name": "stdout",
     "output_type": "stream",
     "text": [
      "\t ----- reward: -0.162298926271612 for f_star and f_minus: 0.054868380172720804 , 0.162298926271612\n",
      "\t ---------- State is:  (7, 0)\n",
      "[INFO] [2023-04-11 17:03:43,407] [OpenBox-SPO] Iteration 803, objective value: [0.3656506248638375].\n"
     ]
    },
    {
     "name": "stderr",
     "output_type": "stream",
     "text": [
      "\r",
      " 80%|███████████████████████████████████████████████████████████████▍               | 803/1000 [15:25<04:48,  1.46s/it]"
     ]
    },
    {
     "name": "stdout",
     "output_type": "stream",
     "text": [
      "\t ----- reward: -0.3656506248638375 for f_star and f_minus: 0.054868380172720804 , 0.3656506248638375\n",
      "\t ---------- State is:  (8, 0)\n",
      "[INFO] [2023-04-11 17:03:44,788] [OpenBox-SPO] Iteration 804, objective value: [0.3892966892073482].\n"
     ]
    },
    {
     "name": "stderr",
     "output_type": "stream",
     "text": [
      "\r",
      " 80%|███████████████████████████████████████████████████████████████▌               | 804/1000 [15:27<04:42,  1.44s/it]"
     ]
    },
    {
     "name": "stdout",
     "output_type": "stream",
     "text": [
      "\t ----- reward: -0.3892966892073482 for f_star and f_minus: 0.054868380172720804 , 0.3892966892073482\n",
      "\t ---------- State is:  (7, 0)\n",
      "[INFO] [2023-04-11 17:03:46,258] [OpenBox-SPO] Iteration 805, objective value: [0.12197573879652851].\n"
     ]
    },
    {
     "name": "stderr",
     "output_type": "stream",
     "text": [
      "\r",
      " 80%|███████████████████████████████████████████████████████████████▌               | 805/1000 [15:28<04:42,  1.45s/it]"
     ]
    },
    {
     "name": "stdout",
     "output_type": "stream",
     "text": [
      "\t ----- reward: -0.12197573879652851 for f_star and f_minus: 0.054868380172720804 , 0.12197573879652851\n",
      "\t ---------- State is:  (8, 0)\n",
      "[INFO] [2023-04-11 17:03:47,801] [OpenBox-SPO] Iteration 806, objective value: [0.13782127415451184].\n"
     ]
    },
    {
     "name": "stderr",
     "output_type": "stream",
     "text": [
      "\r",
      " 81%|███████████████████████████████████████████████████████████████▋               | 806/1000 [15:30<04:46,  1.48s/it]"
     ]
    },
    {
     "name": "stdout",
     "output_type": "stream",
     "text": [
      "\t ----- reward: -0.13782127415451184 for f_star and f_minus: 0.054868380172720804 , 0.13782127415451184\n",
      "\t ---------- State is:  (7, 0)\n",
      "[INFO] [2023-04-11 17:03:49,360] [OpenBox-SPO] Iteration 807, objective value: [0.12509172550759096].\n"
     ]
    },
    {
     "name": "stderr",
     "output_type": "stream",
     "text": [
      "\r",
      " 81%|███████████████████████████████████████████████████████████████▊               | 807/1000 [15:31<04:49,  1.50s/it]"
     ]
    },
    {
     "name": "stdout",
     "output_type": "stream",
     "text": [
      "\t ----- reward: -0.12509172550759096 for f_star and f_minus: 0.054868380172720804 , 0.12509172550759096\n",
      "\t ---------- State is:  (8, 0)\n",
      "[INFO] [2023-04-11 17:03:50,662] [OpenBox-SPO] Iteration 808, objective value: [0.18018098618182496].\n"
     ]
    },
    {
     "name": "stderr",
     "output_type": "stream",
     "text": [
      "\r",
      " 81%|███████████████████████████████████████████████████████████████▊               | 808/1000 [15:33<04:36,  1.44s/it]"
     ]
    },
    {
     "name": "stdout",
     "output_type": "stream",
     "text": [
      "\t ----- reward: -0.18018098618182496 for f_star and f_minus: 0.054868380172720804 , 0.18018098618182496\n",
      "\t ---------- State is:  (7, 0)\n",
      "[INFO] [2023-04-11 17:03:52,168] [OpenBox-SPO] Iteration 809, objective value: [0.12173353392871768].\n"
     ]
    },
    {
     "name": "stderr",
     "output_type": "stream",
     "text": [
      "\r",
      " 81%|███████████████████████████████████████████████████████████████▉               | 809/1000 [15:34<04:39,  1.46s/it]"
     ]
    },
    {
     "name": "stdout",
     "output_type": "stream",
     "text": [
      "\t ----- reward: -0.12173353392871768 for f_star and f_minus: 0.054868380172720804 , 0.12173353392871768\n",
      "\t ---------- State is:  (8, 0)\n",
      "[INFO] [2023-04-11 17:03:53,843] [OpenBox-SPO] Iteration 810, objective value: [0.17093481887747267].\n"
     ]
    },
    {
     "name": "stderr",
     "output_type": "stream",
     "text": [
      "\r",
      " 81%|███████████████████████████████████████████████████████████████▉               | 810/1000 [15:36<04:49,  1.53s/it]"
     ]
    },
    {
     "name": "stdout",
     "output_type": "stream",
     "text": [
      "\t ----- reward: -0.17093481887747267 for f_star and f_minus: 0.054868380172720804 , 0.17093481887747267\n",
      "\t ---------- State is:  (7, 0)\n",
      "[INFO] [2023-04-11 17:03:55,165] [OpenBox-SPO] Iteration 811, objective value: [0.11474696710345833].\n"
     ]
    },
    {
     "name": "stderr",
     "output_type": "stream",
     "text": [
      "\r",
      " 81%|████████████████████████████████████████████████████████████████               | 811/1000 [15:37<04:36,  1.46s/it]"
     ]
    },
    {
     "name": "stdout",
     "output_type": "stream",
     "text": [
      "\t ----- reward: -0.11474696710345833 for f_star and f_minus: 0.054868380172720804 , 0.11474696710345833\n",
      "\t ---------- State is:  (8, 0)\n",
      "[INFO] [2023-04-11 17:03:55,165] [Advisor] Sample random config. rand_prob=0.100000.\n",
      "[INFO] [2023-04-11 17:03:55,165] [OpenBox-SPO] Iteration 812, objective value: [0.8196519742681019].\n",
      "\t ----- reward: -0.8196519742681019 for f_star and f_minus: 0.054868380172720804 , 0.8196519742681019\n",
      "\t ---------- State is:  (7, 0)\n",
      "[INFO] [2023-04-11 17:03:56,808] [OpenBox-SPO] Iteration 813, objective value: [0.13084632182434897].\n"
     ]
    },
    {
     "name": "stderr",
     "output_type": "stream",
     "text": [
      "\r",
      " 81%|████████████████████████████████████████████████████████████████▏              | 813/1000 [15:39<03:38,  1.17s/it]"
     ]
    },
    {
     "name": "stdout",
     "output_type": "stream",
     "text": [
      "\t ----- reward: -0.13084632182434897 for f_star and f_minus: 0.054868380172720804 , 0.13084632182434897\n",
      "\t ---------- State is:  (8, 0)\n",
      "[INFO] [2023-04-11 17:03:58,345] [OpenBox-SPO] Iteration 814, objective value: [0.18093671288469154].\n"
     ]
    },
    {
     "name": "stderr",
     "output_type": "stream",
     "text": [
      "\r",
      " 81%|████████████████████████████████████████████████████████████████▎              | 814/1000 [15:40<03:54,  1.26s/it]"
     ]
    },
    {
     "name": "stdout",
     "output_type": "stream",
     "text": [
      "\t ----- reward: -0.18093671288469154 for f_star and f_minus: 0.054868380172720804 , 0.18093671288469154\n",
      "\t ---------- State is:  (7, 0)\n",
      "[INFO] [2023-04-11 17:03:59,491] [OpenBox-SPO] Iteration 815, objective value: [0.17959602209845188].\n"
     ]
    },
    {
     "name": "stderr",
     "output_type": "stream",
     "text": [
      "\r",
      " 82%|████████████████████████████████████████████████████████████████▍              | 815/1000 [15:42<03:47,  1.23s/it]"
     ]
    },
    {
     "name": "stdout",
     "output_type": "stream",
     "text": [
      "\t ----- reward: -0.17959602209845188 for f_star and f_minus: 0.054868380172720804 , 0.17959602209845188\n",
      "\t ---------- State is:  (8, 0)\n",
      "[INFO] [2023-04-11 17:04:01,154] [OpenBox-SPO] Iteration 816, objective value: [0.34392295333940487].\n"
     ]
    },
    {
     "name": "stderr",
     "output_type": "stream",
     "text": [
      "\r",
      " 82%|████████████████████████████████████████████████████████████████▍              | 816/1000 [15:43<04:07,  1.35s/it]"
     ]
    },
    {
     "name": "stdout",
     "output_type": "stream",
     "text": [
      "\t ----- reward: -0.34392295333940487 for f_star and f_minus: 0.054868380172720804 , 0.34392295333940487\n",
      "\t ---------- State is:  (7, 0)\n",
      "[INFO] [2023-04-11 17:04:02,519] [OpenBox-SPO] Iteration 817, objective value: [0.16810068564068337].\n"
     ]
    },
    {
     "name": "stderr",
     "output_type": "stream",
     "text": [
      "\r",
      " 82%|████████████████████████████████████████████████████████████████▌              | 817/1000 [15:45<04:07,  1.35s/it]"
     ]
    },
    {
     "name": "stdout",
     "output_type": "stream",
     "text": [
      "\t ----- reward: -0.16810068564068337 for f_star and f_minus: 0.054868380172720804 , 0.16810068564068337\n",
      "\t ---------- State is:  (8, 0)\n",
      "[INFO] [2023-04-11 17:04:03,817] [OpenBox-SPO] Iteration 818, objective value: [0.4719957705713731].\n"
     ]
    },
    {
     "name": "stderr",
     "output_type": "stream",
     "text": [
      "\r",
      " 82%|████████████████████████████████████████████████████████████████▌              | 818/1000 [15:46<04:03,  1.34s/it]"
     ]
    },
    {
     "name": "stdout",
     "output_type": "stream",
     "text": [
      "\t ----- reward: -0.4719957705713731 for f_star and f_minus: 0.054868380172720804 , 0.4719957705713731\n",
      "\t ---------- State is:  (7, 0)\n",
      "[INFO] [2023-04-11 17:04:03,819] [Advisor] Sample random config. rand_prob=0.100000.\n",
      "[INFO] [2023-04-11 17:04:03,821] [OpenBox-SPO] Iteration 819, objective value: [1.0935804498255355].\n",
      "\t ----- reward: -1.0935804498255355 for f_star and f_minus: 0.054868380172720804 , 1.0935804498255355\n",
      "\t ---------- State is:  (7, 0)\n",
      "[INFO] [2023-04-11 17:04:05,168] [OpenBox-SPO] Iteration 820, objective value: [0.24105477181078874].\n"
     ]
    },
    {
     "name": "stderr",
     "output_type": "stream",
     "text": [
      "\r",
      " 82%|████████████████████████████████████████████████████████████████▊              | 820/1000 [15:47<03:07,  1.04s/it]"
     ]
    },
    {
     "name": "stdout",
     "output_type": "stream",
     "text": [
      "\t ----- reward: -0.24105477181078874 for f_star and f_minus: 0.054868380172720804 , 0.24105477181078874\n",
      "\t ---------- State is:  (8, 0)\n",
      "[INFO] [2023-04-11 17:04:06,950] [OpenBox-SPO] Iteration 821, objective value: [0.28541196427861243].\n"
     ]
    },
    {
     "name": "stderr",
     "output_type": "stream",
     "text": [
      "\r",
      " 82%|████████████████████████████████████████████████████████████████▊              | 821/1000 [15:49<03:38,  1.22s/it]"
     ]
    },
    {
     "name": "stdout",
     "output_type": "stream",
     "text": [
      "\t ----- reward: -0.28541196427861243 for f_star and f_minus: 0.054868380172720804 , 0.28541196427861243\n",
      "\t ---------- State is:  (7, 0)\n",
      "[INFO] [2023-04-11 17:04:08,520] [OpenBox-SPO] Iteration 822, objective value: [0.12338729635852873].\n"
     ]
    },
    {
     "name": "stderr",
     "output_type": "stream",
     "text": [
      "\r",
      " 82%|████████████████████████████████████████████████████████████████▉              | 822/1000 [15:51<03:53,  1.31s/it]"
     ]
    },
    {
     "name": "stdout",
     "output_type": "stream",
     "text": [
      "\t ----- reward: -0.12338729635852873 for f_star and f_minus: 0.054868380172720804 , 0.12338729635852873\n",
      "\t ---------- State is:  (8, 0)\n",
      "[INFO] [2023-04-11 17:04:10,445] [OpenBox-SPO] Iteration 823, objective value: [0.12133872609474994].\n"
     ]
    },
    {
     "name": "stderr",
     "output_type": "stream",
     "text": [
      "\r",
      " 82%|█████████████████████████████████████████████████████████████████              | 823/1000 [15:52<04:21,  1.48s/it]"
     ]
    },
    {
     "name": "stdout",
     "output_type": "stream",
     "text": [
      "\t ----- reward: -0.12133872609474994 for f_star and f_minus: 0.054868380172720804 , 0.12133872609474994\n",
      "\t ---------- State is:  (7, 0)\n",
      "[INFO] [2023-04-11 17:04:11,956] [OpenBox-SPO] Iteration 824, objective value: [0.12837494682946102].\n"
     ]
    },
    {
     "name": "stderr",
     "output_type": "stream",
     "text": [
      "\r",
      " 82%|█████████████████████████████████████████████████████████████████              | 824/1000 [15:54<04:21,  1.48s/it]"
     ]
    },
    {
     "name": "stdout",
     "output_type": "stream",
     "text": [
      "\t ----- reward: -0.12837494682946102 for f_star and f_minus: 0.054868380172720804 , 0.12837494682946102\n",
      "\t ---------- State is:  (8, 0)\n",
      "[INFO] [2023-04-11 17:04:13,435] [OpenBox-SPO] Iteration 825, objective value: [0.3928268084939595].\n"
     ]
    },
    {
     "name": "stderr",
     "output_type": "stream",
     "text": [
      "\r",
      " 82%|█████████████████████████████████████████████████████████████████▏             | 825/1000 [15:55<04:19,  1.48s/it]"
     ]
    },
    {
     "name": "stdout",
     "output_type": "stream",
     "text": [
      "\t ----- reward: -0.3928268084939595 for f_star and f_minus: 0.054868380172720804 , 0.3928268084939595\n",
      "\t ---------- State is:  (7, 0)\n",
      "[INFO] [2023-04-11 17:04:14,990] [OpenBox-SPO] Iteration 826, objective value: [0.2536524372752407].\n"
     ]
    },
    {
     "name": "stderr",
     "output_type": "stream",
     "text": [
      "\r",
      " 83%|█████████████████████████████████████████████████████████████████▎             | 826/1000 [15:57<04:21,  1.50s/it]"
     ]
    },
    {
     "name": "stdout",
     "output_type": "stream",
     "text": [
      "\t ----- reward: -0.2536524372752407 for f_star and f_minus: 0.054868380172720804 , 0.2536524372752407\n",
      "\t ---------- State is:  (8, 0)\n",
      "[INFO] [2023-04-11 17:04:16,564] [OpenBox-SPO] Iteration 827, objective value: [0.16843362477010113].\n"
     ]
    },
    {
     "name": "stderr",
     "output_type": "stream",
     "text": [
      "\r",
      " 83%|█████████████████████████████████████████████████████████████████▎             | 827/1000 [15:59<04:23,  1.52s/it]"
     ]
    },
    {
     "name": "stdout",
     "output_type": "stream",
     "text": [
      "\t ----- reward: -0.16843362477010113 for f_star and f_minus: 0.054868380172720804 , 0.16843362477010113\n",
      "\t ---------- State is:  (7, 0)\n",
      "[INFO] [2023-04-11 17:04:17,867] [OpenBox-SPO] Iteration 828, objective value: [0.2077037631127088].\n"
     ]
    },
    {
     "name": "stderr",
     "output_type": "stream",
     "text": [
      "\r",
      " 83%|█████████████████████████████████████████████████████████████████▍             | 828/1000 [16:00<04:11,  1.46s/it]"
     ]
    },
    {
     "name": "stdout",
     "output_type": "stream",
     "text": [
      "\t ----- reward: -0.2077037631127088 for f_star and f_minus: 0.054868380172720804 , 0.2077037631127088\n",
      "\t ---------- State is:  (8, 0)\n",
      "[INFO] [2023-04-11 17:04:19,512] [OpenBox-SPO] Iteration 829, objective value: [0.3420701199265813].\n"
     ]
    },
    {
     "name": "stderr",
     "output_type": "stream",
     "text": [
      "\r",
      " 83%|█████████████████████████████████████████████████████████████████▍             | 829/1000 [16:02<04:18,  1.51s/it]"
     ]
    },
    {
     "name": "stdout",
     "output_type": "stream",
     "text": [
      "\t ----- reward: -0.3420701199265813 for f_star and f_minus: 0.054868380172720804 , 0.3420701199265813\n",
      "\t ---------- State is:  (7, 0)\n",
      "[INFO] [2023-04-11 17:04:20,849] [OpenBox-SPO] Iteration 830, objective value: [0.17972336734297067].\n"
     ]
    },
    {
     "name": "stderr",
     "output_type": "stream",
     "text": [
      "\r",
      " 83%|█████████████████████████████████████████████████████████████████▌             | 830/1000 [16:03<04:08,  1.46s/it]"
     ]
    },
    {
     "name": "stdout",
     "output_type": "stream",
     "text": [
      "\t ----- reward: -0.17972336734297067 for f_star and f_minus: 0.054868380172720804 , 0.17972336734297067\n",
      "\t ---------- State is:  (8, 0)\n",
      "[INFO] [2023-04-11 17:04:22,562] [OpenBox-SPO] Iteration 831, objective value: [0.16325754208617257].\n"
     ]
    },
    {
     "name": "stderr",
     "output_type": "stream",
     "text": [
      "\r",
      " 83%|█████████████████████████████████████████████████████████████████▋             | 831/1000 [16:05<04:19,  1.54s/it]"
     ]
    },
    {
     "name": "stdout",
     "output_type": "stream",
     "text": [
      "\t ----- reward: -0.16325754208617257 for f_star and f_minus: 0.054868380172720804 , 0.16325754208617257\n",
      "\t ---------- State is:  (7, 0)\n",
      "[INFO] [2023-04-11 17:04:23,985] [OpenBox-SPO] Iteration 832, objective value: [0.508954319736044].\n"
     ]
    },
    {
     "name": "stderr",
     "output_type": "stream",
     "text": [
      "\r",
      " 83%|█████████████████████████████████████████████████████████████████▋             | 832/1000 [16:06<04:12,  1.50s/it]"
     ]
    },
    {
     "name": "stdout",
     "output_type": "stream",
     "text": [
      "\t ----- reward: -0.508954319736044 for f_star and f_minus: 0.054868380172720804 , 0.508954319736044\n",
      "\t ---------- State is:  (8, 0)\n",
      "[INFO] [2023-04-11 17:04:25,317] [OpenBox-SPO] Iteration 833, objective value: [0.1176632098195452].\n"
     ]
    },
    {
     "name": "stderr",
     "output_type": "stream",
     "text": [
      "\r",
      " 83%|█████████████████████████████████████████████████████████████████▊             | 833/1000 [16:07<04:02,  1.45s/it]"
     ]
    },
    {
     "name": "stdout",
     "output_type": "stream",
     "text": [
      "\t ----- reward: -0.1176632098195452 for f_star and f_minus: 0.054868380172720804 , 0.1176632098195452\n",
      "\t ---------- State is:  (7, 0)\n",
      "[INFO] [2023-04-11 17:04:26,835] [OpenBox-SPO] Iteration 834, objective value: [0.16955420579932412].\n"
     ]
    },
    {
     "name": "stderr",
     "output_type": "stream",
     "text": [
      "\r",
      " 83%|█████████████████████████████████████████████████████████████████▉             | 834/1000 [16:09<04:04,  1.47s/it]"
     ]
    },
    {
     "name": "stdout",
     "output_type": "stream",
     "text": [
      "\t ----- reward: -0.16955420579932412 for f_star and f_minus: 0.054868380172720804 , 0.16955420579932412\n",
      "\t ---------- State is:  (8, 0)\n",
      "[INFO] [2023-04-11 17:04:26,835] [Advisor] Sample random config. rand_prob=0.100000.\n",
      "[INFO] [2023-04-11 17:04:26,835] [OpenBox-SPO] Iteration 835, objective value: [0.8591959994432375].\n",
      "\t ----- reward: -0.8591959994432375 for f_star and f_minus: 0.054868380172720804 , 0.8591959994432375\n",
      "\t ---------- State is:  (7, 0)\n",
      "[INFO] [2023-04-11 17:04:28,184] [OpenBox-SPO] Iteration 836, objective value: [0.18937077910155253].\n"
     ]
    },
    {
     "name": "stderr",
     "output_type": "stream",
     "text": [
      "\r",
      " 84%|██████████████████████████████████████████████████████████████████             | 836/1000 [16:10<03:01,  1.10s/it]"
     ]
    },
    {
     "name": "stdout",
     "output_type": "stream",
     "text": [
      "\t ----- reward: -0.18937077910155253 for f_star and f_minus: 0.054868380172720804 , 0.18937077910155253\n",
      "\t ---------- State is:  (8, 0)\n",
      "[INFO] [2023-04-11 17:04:28,184] [Advisor] Sample random config. rand_prob=0.100000.\n",
      "[INFO] [2023-04-11 17:04:28,184] [OpenBox-SPO] Iteration 837, objective value: [2.6242560809753774].\n",
      "\t ----- reward: -2.6242560809753774 for f_star and f_minus: 0.054868380172720804 , 2.6242560809753774\n",
      "\t ---------- State is:  (7, 0)\n",
      "[INFO] [2023-04-11 17:04:28,184] [Advisor] Sample random config. rand_prob=0.100000.\n",
      "[INFO] [2023-04-11 17:04:28,184] [OpenBox-SPO] Iteration 838, objective value: [0.8937254612111234].\n",
      "\t ----- reward: -0.8937254612111234 for f_star and f_minus: 0.054868380172720804 , 0.8937254612111234\n",
      "\t ---------- State is:  (8, 0)\n",
      "[INFO] [2023-04-11 17:04:29,903] [OpenBox-SPO] Iteration 839, objective value: [0.16264027187111177].\n"
     ]
    },
    {
     "name": "stderr",
     "output_type": "stream",
     "text": [
      "\r",
      " 84%|██████████████████████████████████████████████████████████████████▎            | 839/1000 [16:12<02:15,  1.19it/s]"
     ]
    },
    {
     "name": "stdout",
     "output_type": "stream",
     "text": [
      "\t ----- reward: -0.16264027187111177 for f_star and f_minus: 0.054868380172720804 , 0.16264027187111177\n",
      "\t ---------- State is:  (7, 0)\n",
      "[INFO] [2023-04-11 17:04:31,897] [OpenBox-SPO] Iteration 840, objective value: [0.12123980384044897].\n"
     ]
    },
    {
     "name": "stderr",
     "output_type": "stream",
     "text": [
      "\r",
      " 84%|██████████████████████████████████████████████████████████████████▎            | 840/1000 [16:14<02:49,  1.06s/it]"
     ]
    },
    {
     "name": "stdout",
     "output_type": "stream",
     "text": [
      "\t ----- reward: -0.12123980384044897 for f_star and f_minus: 0.054868380172720804 , 0.12123980384044897\n",
      "\t ---------- State is:  (8, 0)\n",
      "[INFO] [2023-04-11 17:04:33,640] [OpenBox-SPO] Iteration 841, objective value: [0.11494216787036113].\n"
     ]
    },
    {
     "name": "stderr",
     "output_type": "stream",
     "text": [
      "\r",
      " 84%|██████████████████████████████████████████████████████████████████▍            | 841/1000 [16:16<03:12,  1.21s/it]"
     ]
    },
    {
     "name": "stdout",
     "output_type": "stream",
     "text": [
      "\t ----- reward: -0.11494216787036113 for f_star and f_minus: 0.054868380172720804 , 0.11494216787036113\n",
      "\t ---------- State is:  (7, 0)\n",
      "[INFO] [2023-04-11 17:04:35,233] [OpenBox-SPO] Iteration 842, objective value: [0.17980584270698574].\n"
     ]
    },
    {
     "name": "stderr",
     "output_type": "stream",
     "text": [
      "\r",
      " 84%|██████████████████████████████████████████████████████████████████▌            | 842/1000 [16:17<03:24,  1.30s/it]"
     ]
    },
    {
     "name": "stdout",
     "output_type": "stream",
     "text": [
      "\t ----- reward: -0.17980584270698574 for f_star and f_minus: 0.054868380172720804 , 0.17980584270698574\n",
      "\t ---------- State is:  (8, 0)\n",
      "[INFO] [2023-04-11 17:04:36,772] [OpenBox-SPO] Iteration 843, objective value: [0.181523882904734].\n"
     ]
    },
    {
     "name": "stderr",
     "output_type": "stream",
     "text": [
      "\r",
      " 84%|██████████████████████████████████████████████████████████████████▌            | 843/1000 [16:19<03:33,  1.36s/it]"
     ]
    },
    {
     "name": "stdout",
     "output_type": "stream",
     "text": [
      "\t ----- reward: -0.181523882904734 for f_star and f_minus: 0.054868380172720804 , 0.181523882904734\n",
      "\t ---------- State is:  (7, 0)\n",
      "[INFO] [2023-04-11 17:04:38,354] [OpenBox-SPO] Iteration 844, objective value: [0.1250270327834577].\n"
     ]
    },
    {
     "name": "stderr",
     "output_type": "stream",
     "text": [
      "\r",
      " 84%|██████████████████████████████████████████████████████████████████▋            | 844/1000 [16:20<03:41,  1.42s/it]"
     ]
    },
    {
     "name": "stdout",
     "output_type": "stream",
     "text": [
      "\t ----- reward: -0.1250270327834577 for f_star and f_minus: 0.054868380172720804 , 0.1250270327834577\n",
      "\t ---------- State is:  (8, 0)\n",
      "[INFO] [2023-04-11 17:04:40,222] [OpenBox-SPO] Iteration 845, objective value: [0.12178594987654982].\n"
     ]
    },
    {
     "name": "stderr",
     "output_type": "stream",
     "text": [
      "\r",
      " 84%|██████████████████████████████████████████████████████████████████▊            | 845/1000 [16:22<03:58,  1.54s/it]"
     ]
    },
    {
     "name": "stdout",
     "output_type": "stream",
     "text": [
      "\t ----- reward: -0.12178594987654982 for f_star and f_minus: 0.054868380172720804 , 0.12178594987654982\n",
      "\t ---------- State is:  (7, 0)\n",
      "[INFO] [2023-04-11 17:04:42,144] [OpenBox-SPO] Iteration 846, objective value: [0.3570538644692904].\n"
     ]
    },
    {
     "name": "stderr",
     "output_type": "stream",
     "text": [
      "\r",
      " 85%|██████████████████████████████████████████████████████████████████▊            | 846/1000 [16:24<04:13,  1.65s/it]"
     ]
    },
    {
     "name": "stdout",
     "output_type": "stream",
     "text": [
      "\t ----- reward: -0.3570538644692904 for f_star and f_minus: 0.054868380172720804 , 0.3570538644692904\n",
      "\t ---------- State is:  (8, 0)\n",
      "[INFO] [2023-04-11 17:04:43,284] [OpenBox-SPO] Iteration 847, objective value: [0.11474691508979042].\n"
     ]
    },
    {
     "name": "stderr",
     "output_type": "stream",
     "text": [
      "\r",
      " 85%|██████████████████████████████████████████████████████████████████▉            | 847/1000 [16:25<03:49,  1.50s/it]"
     ]
    },
    {
     "name": "stdout",
     "output_type": "stream",
     "text": [
      "\t ----- reward: -0.11474691508979042 for f_star and f_minus: 0.054868380172720804 , 0.11474691508979042\n",
      "\t ---------- State is:  (7, 0)\n",
      "[INFO] [2023-04-11 17:04:44,651] [OpenBox-SPO] Iteration 848, objective value: [0.5521609575143394].\n"
     ]
    },
    {
     "name": "stderr",
     "output_type": "stream",
     "text": [
      "\r",
      " 85%|██████████████████████████████████████████████████████████████████▉            | 848/1000 [16:27<03:42,  1.46s/it]"
     ]
    },
    {
     "name": "stdout",
     "output_type": "stream",
     "text": [
      "\t ----- reward: -0.5521609575143394 for f_star and f_minus: 0.054868380172720804 , 0.5521609575143394\n",
      "\t ---------- State is:  (8, 0)\n",
      "[INFO] [2023-04-11 17:04:45,896] [OpenBox-SPO] Iteration 849, objective value: [0.27922228091904155].\n"
     ]
    },
    {
     "name": "stderr",
     "output_type": "stream",
     "text": [
      "\r",
      " 85%|███████████████████████████████████████████████████████████████████            | 849/1000 [16:28<03:31,  1.40s/it]"
     ]
    },
    {
     "name": "stdout",
     "output_type": "stream",
     "text": [
      "\t ----- reward: -0.27922228091904155 for f_star and f_minus: 0.054868380172720804 , 0.27922228091904155\n",
      "\t ---------- State is:  (7, 0)\n",
      "[INFO] [2023-04-11 17:04:47,320] [OpenBox-SPO] Iteration 850, objective value: [0.13251864981447006].\n"
     ]
    },
    {
     "name": "stderr",
     "output_type": "stream",
     "text": [
      "\r",
      " 85%|███████████████████████████████████████████████████████████████████▏           | 850/1000 [16:29<03:30,  1.40s/it]"
     ]
    },
    {
     "name": "stdout",
     "output_type": "stream",
     "text": [
      "\t ----- reward: -0.13251864981447006 for f_star and f_minus: 0.054868380172720804 , 0.13251864981447006\n",
      "\t ---------- State is:  (8, 0)\n",
      "[INFO] [2023-04-11 17:04:48,430] [OpenBox-SPO] Iteration 851, objective value: [0.395677028237844].\n"
     ]
    },
    {
     "name": "stderr",
     "output_type": "stream",
     "text": [
      "\r",
      " 85%|███████████████████████████████████████████████████████████████████▏           | 851/1000 [16:30<03:16,  1.32s/it]"
     ]
    },
    {
     "name": "stdout",
     "output_type": "stream",
     "text": [
      "\t ----- reward: -0.395677028237844 for f_star and f_minus: 0.054868380172720804 , 0.395677028237844\n",
      "\t ---------- State is:  (7, 0)\n",
      "[INFO] [2023-04-11 17:04:49,956] [OpenBox-SPO] Iteration 852, objective value: [0.2228802550168647].\n"
     ]
    },
    {
     "name": "stderr",
     "output_type": "stream",
     "text": [
      "\r",
      " 85%|███████████████████████████████████████████████████████████████████▎           | 852/1000 [16:32<03:24,  1.38s/it]"
     ]
    },
    {
     "name": "stdout",
     "output_type": "stream",
     "text": [
      "\t ----- reward: -0.2228802550168647 for f_star and f_minus: 0.054868380172720804 , 0.2228802550168647\n",
      "\t ---------- State is:  (8, 0)\n",
      "[INFO] [2023-04-11 17:04:51,367] [OpenBox-SPO] Iteration 853, objective value: [0.3887957645143587].\n"
     ]
    },
    {
     "name": "stderr",
     "output_type": "stream",
     "text": [
      "\r",
      " 85%|███████████████████████████████████████████████████████████████████▍           | 853/1000 [16:33<03:24,  1.39s/it]"
     ]
    },
    {
     "name": "stdout",
     "output_type": "stream",
     "text": [
      "\t ----- reward: -0.3887957645143587 for f_star and f_minus: 0.054868380172720804 , 0.3887957645143587\n",
      "\t ---------- State is:  (7, 0)\n",
      "[INFO] [2023-04-11 17:04:52,747] [OpenBox-SPO] Iteration 854, objective value: [0.11738500237935622].\n"
     ]
    },
    {
     "name": "stderr",
     "output_type": "stream",
     "text": [
      "\r",
      " 85%|███████████████████████████████████████████████████████████████████▍           | 854/1000 [16:35<03:22,  1.39s/it]"
     ]
    },
    {
     "name": "stdout",
     "output_type": "stream",
     "text": [
      "\t ----- reward: -0.11738500237935622 for f_star and f_minus: 0.054868380172720804 , 0.11738500237935622\n",
      "\t ---------- State is:  (8, 0)\n",
      "[INFO] [2023-04-11 17:04:54,426] [OpenBox-SPO] Iteration 855, objective value: [0.9976217937371358].\n"
     ]
    },
    {
     "name": "stderr",
     "output_type": "stream",
     "text": [
      "\r",
      " 86%|███████████████████████████████████████████████████████████████████▌           | 855/1000 [16:36<03:33,  1.47s/it]"
     ]
    },
    {
     "name": "stdout",
     "output_type": "stream",
     "text": [
      "\t ----- reward: -0.9976217937371358 for f_star and f_minus: 0.054868380172720804 , 0.9976217937371358\n",
      "\t ---------- State is:  (7, 0)\n",
      "[INFO] [2023-04-11 17:04:55,871] [OpenBox-SPO] Iteration 856, objective value: [1.1645085133321829].\n"
     ]
    },
    {
     "name": "stderr",
     "output_type": "stream",
     "text": [
      "\r",
      " 86%|███████████████████████████████████████████████████████████████████▌           | 856/1000 [16:38<03:30,  1.47s/it]"
     ]
    },
    {
     "name": "stdout",
     "output_type": "stream",
     "text": [
      "\t ----- reward: -1.1645085133321829 for f_star and f_minus: 0.054868380172720804 , 1.1645085133321829\n",
      "\t ---------- State is:  (8, 0)\n",
      "[INFO] [2023-04-11 17:04:57,565] [OpenBox-SPO] Iteration 857, objective value: [0.11698149673699369].\n"
     ]
    },
    {
     "name": "stderr",
     "output_type": "stream",
     "text": [
      "\r",
      " 86%|███████████████████████████████████████████████████████████████████▋           | 857/1000 [16:40<03:39,  1.53s/it]"
     ]
    },
    {
     "name": "stdout",
     "output_type": "stream",
     "text": [
      "\t ----- reward: -0.11698149673699369 for f_star and f_minus: 0.054868380172720804 , 0.11698149673699369\n",
      "\t ---------- State is:  (7, 0)\n",
      "[INFO] [2023-04-11 17:04:58,867] [OpenBox-SPO] Iteration 858, objective value: [0.12742121872347034].\n"
     ]
    },
    {
     "name": "stderr",
     "output_type": "stream",
     "text": [
      "\r",
      " 86%|███████████████████████████████████████████████████████████████████▊           | 858/1000 [16:41<03:27,  1.46s/it]"
     ]
    },
    {
     "name": "stdout",
     "output_type": "stream",
     "text": [
      "\t ----- reward: -0.12742121872347034 for f_star and f_minus: 0.054868380172720804 , 0.12742121872347034\n",
      "\t ---------- State is:  (8, 0)\n",
      "[INFO] [2023-04-11 17:05:00,295] [OpenBox-SPO] Iteration 859, objective value: [0.16994557471080243].\n"
     ]
    },
    {
     "name": "stderr",
     "output_type": "stream",
     "text": [
      "\r",
      " 86%|███████████████████████████████████████████████████████████████████▊           | 859/1000 [16:42<03:24,  1.45s/it]"
     ]
    },
    {
     "name": "stdout",
     "output_type": "stream",
     "text": [
      "\t ----- reward: -0.16994557471080243 for f_star and f_minus: 0.054868380172720804 , 0.16994557471080243\n",
      "\t ---------- State is:  (7, 0)\n",
      "[INFO] [2023-04-11 17:05:01,581] [OpenBox-SPO] Iteration 860, objective value: [0.12370315423703125].\n"
     ]
    },
    {
     "name": "stderr",
     "output_type": "stream",
     "text": [
      "\r",
      " 86%|███████████████████████████████████████████████████████████████████▉           | 860/1000 [16:44<03:16,  1.40s/it]"
     ]
    },
    {
     "name": "stdout",
     "output_type": "stream",
     "text": [
      "\t ----- reward: -0.12370315423703125 for f_star and f_minus: 0.054868380172720804 , 0.12370315423703125\n",
      "\t ---------- State is:  (8, 0)\n",
      "[INFO] [2023-04-11 17:05:03,119] [OpenBox-SPO] Iteration 861, objective value: [0.25376912391152123].\n"
     ]
    },
    {
     "name": "stderr",
     "output_type": "stream",
     "text": [
      "\r",
      " 86%|████████████████████████████████████████████████████████████████████           | 861/1000 [16:45<03:20,  1.44s/it]"
     ]
    },
    {
     "name": "stdout",
     "output_type": "stream",
     "text": [
      "\t ----- reward: -0.25376912391152123 for f_star and f_minus: 0.054868380172720804 , 0.25376912391152123\n",
      "\t ---------- State is:  (7, 0)\n",
      "[INFO] [2023-04-11 17:05:04,609] [OpenBox-SPO] Iteration 862, objective value: [0.2086453772794127].\n"
     ]
    },
    {
     "name": "stderr",
     "output_type": "stream",
     "text": [
      "\r",
      " 86%|████████████████████████████████████████████████████████████████████           | 862/1000 [16:47<03:21,  1.46s/it]"
     ]
    },
    {
     "name": "stdout",
     "output_type": "stream",
     "text": [
      "\t ----- reward: -0.2086453772794127 for f_star and f_minus: 0.054868380172720804 , 0.2086453772794127\n",
      "\t ---------- State is:  (8, 0)\n",
      "[INFO] [2023-04-11 17:05:05,989] [OpenBox-SPO] Iteration 863, objective value: [0.12404973887558243].\n"
     ]
    },
    {
     "name": "stderr",
     "output_type": "stream",
     "text": [
      "\r",
      " 86%|████████████████████████████████████████████████████████████████████▏          | 863/1000 [16:48<03:17,  1.44s/it]"
     ]
    },
    {
     "name": "stdout",
     "output_type": "stream",
     "text": [
      "\t ----- reward: -0.12404973887558243 for f_star and f_minus: 0.054868380172720804 , 0.12404973887558243\n",
      "\t ---------- State is:  (7, 0)\n",
      "[INFO] [2023-04-11 17:05:07,166] [OpenBox-SPO] Iteration 864, objective value: [0.17385814179000939].\n"
     ]
    },
    {
     "name": "stderr",
     "output_type": "stream",
     "text": [
      "\r",
      " 86%|████████████████████████████████████████████████████████████████████▎          | 864/1000 [16:49<03:04,  1.36s/it]"
     ]
    },
    {
     "name": "stdout",
     "output_type": "stream",
     "text": [
      "\t ----- reward: -0.17385814179000939 for f_star and f_minus: 0.054868380172720804 , 0.17385814179000939\n",
      "\t ---------- State is:  (8, 0)\n",
      "[INFO] [2023-04-11 17:05:08,876] [OpenBox-SPO] Iteration 865, objective value: [0.12268259280032102].\n"
     ]
    },
    {
     "name": "stderr",
     "output_type": "stream",
     "text": [
      "\r",
      " 86%|████████████████████████████████████████████████████████████████████▎          | 865/1000 [16:51<03:17,  1.46s/it]"
     ]
    },
    {
     "name": "stdout",
     "output_type": "stream",
     "text": [
      "\t ----- reward: -0.12268259280032102 for f_star and f_minus: 0.054868380172720804 , 0.12268259280032102\n",
      "\t ---------- State is:  (7, 0)\n",
      "[INFO] [2023-04-11 17:05:10,224] [OpenBox-SPO] Iteration 866, objective value: [0.1243095220504438].\n"
     ]
    },
    {
     "name": "stderr",
     "output_type": "stream",
     "text": [
      "\r",
      " 87%|████████████████████████████████████████████████████████████████████▍          | 866/1000 [16:52<03:11,  1.43s/it]"
     ]
    },
    {
     "name": "stdout",
     "output_type": "stream",
     "text": [
      "\t ----- reward: -0.1243095220504438 for f_star and f_minus: 0.054868380172720804 , 0.1243095220504438\n",
      "\t ---------- State is:  (8, 0)\n",
      "[INFO] [2023-04-11 17:05:10,224] [Advisor] Sample random config. rand_prob=0.100000.\n",
      "[INFO] [2023-04-11 17:05:10,224] [OpenBox-SPO] Iteration 867, objective value: [2.022771576892181].\n",
      "\t ----- reward: -2.022771576892181 for f_star and f_minus: 0.054868380172720804 , 2.022771576892181\n",
      "\t ---------- State is:  (7, 0)\n",
      "[INFO] [2023-04-11 17:05:11,636] [OpenBox-SPO] Iteration 868, objective value: [0.17508435831242083].\n"
     ]
    },
    {
     "name": "stderr",
     "output_type": "stream",
     "text": [
      "\r",
      " 87%|████████████████████████████████████████████████████████████████████▌          | 868/1000 [16:54<02:24,  1.09s/it]"
     ]
    },
    {
     "name": "stdout",
     "output_type": "stream",
     "text": [
      "\t ----- reward: -0.17508435831242083 for f_star and f_minus: 0.054868380172720804 , 0.17508435831242083\n",
      "\t ---------- State is:  (8, 0)\n",
      "[INFO] [2023-04-11 17:05:13,002] [OpenBox-SPO] Iteration 869, objective value: [0.11443897750543941].\n"
     ]
    },
    {
     "name": "stderr",
     "output_type": "stream",
     "text": [
      "\r",
      " 87%|████████████████████████████████████████████████████████████████████▋          | 869/1000 [16:55<02:32,  1.16s/it]"
     ]
    },
    {
     "name": "stdout",
     "output_type": "stream",
     "text": [
      "\t ----- reward: -0.11443897750543941 for f_star and f_minus: 0.054868380172720804 , 0.11443897750543941\n",
      "\t ---------- State is:  (7, 0)\n",
      "[INFO] [2023-04-11 17:05:14,501] [OpenBox-SPO] Iteration 870, objective value: [0.17474626699163082].\n"
     ]
    },
    {
     "name": "stderr",
     "output_type": "stream",
     "text": [
      "\r",
      " 87%|████████████████████████████████████████████████████████████████████▋          | 870/1000 [16:57<02:42,  1.25s/it]"
     ]
    },
    {
     "name": "stdout",
     "output_type": "stream",
     "text": [
      "\t ----- reward: -0.17474626699163082 for f_star and f_minus: 0.054868380172720804 , 0.17474626699163082\n",
      "\t ---------- State is:  (8, 0)\n",
      "[INFO] [2023-04-11 17:05:15,950] [OpenBox-SPO] Iteration 871, objective value: [0.237898138147645].\n"
     ]
    },
    {
     "name": "stderr",
     "output_type": "stream",
     "text": [
      "\r",
      " 87%|████████████████████████████████████████████████████████████████████▊          | 871/1000 [16:58<02:48,  1.30s/it]"
     ]
    },
    {
     "name": "stdout",
     "output_type": "stream",
     "text": [
      "\t ----- reward: -0.237898138147645 for f_star and f_minus: 0.054868380172720804 , 0.237898138147645\n",
      "\t ---------- State is:  (7, 0)\n",
      "[INFO] [2023-04-11 17:05:17,629] [OpenBox-SPO] Iteration 872, objective value: [0.999160657606325].\n"
     ]
    },
    {
     "name": "stderr",
     "output_type": "stream",
     "text": [
      "\r",
      " 87%|████████████████████████████████████████████████████████████████████▉          | 872/1000 [17:00<03:00,  1.41s/it]"
     ]
    },
    {
     "name": "stdout",
     "output_type": "stream",
     "text": [
      "\t ----- reward: -0.999160657606325 for f_star and f_minus: 0.054868380172720804 , 0.999160657606325\n",
      "\t ---------- State is:  (8, 0)\n",
      "[INFO] [2023-04-11 17:05:19,338] [OpenBox-SPO] Iteration 873, objective value: [0.11602525189550111].\n"
     ]
    },
    {
     "name": "stderr",
     "output_type": "stream",
     "text": [
      "\r",
      " 87%|████████████████████████████████████████████████████████████████████▉          | 873/1000 [17:01<03:09,  1.49s/it]"
     ]
    },
    {
     "name": "stdout",
     "output_type": "stream",
     "text": [
      "\t ----- reward: -0.11602525189550111 for f_star and f_minus: 0.054868380172720804 , 0.11602525189550111\n",
      "\t ---------- State is:  (7, 0)\n",
      "[INFO] [2023-04-11 17:05:20,969] [OpenBox-SPO] Iteration 874, objective value: [1.1463776208760568].\n"
     ]
    },
    {
     "name": "stderr",
     "output_type": "stream",
     "text": [
      "\r",
      " 87%|█████████████████████████████████████████████████████████████████████          | 874/1000 [17:03<03:13,  1.54s/it]"
     ]
    },
    {
     "name": "stdout",
     "output_type": "stream",
     "text": [
      "\t ----- reward: -1.1463776208760568 for f_star and f_minus: 0.054868380172720804 , 1.1463776208760568\n",
      "\t ---------- State is:  (8, 0)\n",
      "[INFO] [2023-04-11 17:05:22,315] [OpenBox-SPO] Iteration 875, objective value: [0.12363534567629966].\n"
     ]
    },
    {
     "name": "stderr",
     "output_type": "stream",
     "text": [
      "\r",
      " 88%|█████████████████████████████████████████████████████████████████████▏         | 875/1000 [17:04<03:04,  1.48s/it]"
     ]
    },
    {
     "name": "stdout",
     "output_type": "stream",
     "text": [
      "\t ----- reward: -0.12363534567629966 for f_star and f_minus: 0.054868380172720804 , 0.12363534567629966\n",
      "\t ---------- State is:  (7, 0)\n",
      "[INFO] [2023-04-11 17:05:22,315] [Advisor] Sample random config. rand_prob=0.100000.\n",
      "[INFO] [2023-04-11 17:05:22,322] [OpenBox-SPO] Iteration 876, objective value: [0.8964409309567919].\n",
      "\t ----- reward: -0.8964409309567919 for f_star and f_minus: 0.054868380172720804 , 0.8964409309567919\n",
      "\t ---------- State is:  (8, 0)\n",
      "[INFO] [2023-04-11 17:05:23,531] [OpenBox-SPO] Iteration 877, objective value: [0.22690537664620883].\n"
     ]
    },
    {
     "name": "stderr",
     "output_type": "stream",
     "text": [
      "\r",
      " 88%|█████████████████████████████████████████████████████████████████████▎         | 877/1000 [17:06<02:13,  1.08s/it]"
     ]
    },
    {
     "name": "stdout",
     "output_type": "stream",
     "text": [
      "\t ----- reward: -0.22690537664620883 for f_star and f_minus: 0.054868380172720804 , 0.22690537664620883\n",
      "\t ---------- State is:  (7, 0)\n",
      "[INFO] [2023-04-11 17:05:24,989] [OpenBox-SPO] Iteration 878, objective value: [0.20170153064546512].\n"
     ]
    },
    {
     "name": "stderr",
     "output_type": "stream",
     "text": [
      "\r",
      " 88%|█████████████████████████████████████████████████████████████████████▎         | 878/1000 [17:07<02:23,  1.17s/it]"
     ]
    },
    {
     "name": "stdout",
     "output_type": "stream",
     "text": [
      "\t ----- reward: -0.20170153064546512 for f_star and f_minus: 0.054868380172720804 , 0.20170153064546512\n",
      "\t ---------- State is:  (8, 0)\n",
      "[INFO] [2023-04-11 17:05:26,882] [OpenBox-SPO] Iteration 879, objective value: [0.11472659987826898].\n"
     ]
    },
    {
     "name": "stderr",
     "output_type": "stream",
     "text": [
      "\r",
      " 88%|█████████████████████████████████████████████████████████████████████▍         | 879/1000 [17:09<02:44,  1.36s/it]"
     ]
    },
    {
     "name": "stdout",
     "output_type": "stream",
     "text": [
      "\t ----- reward: -0.11472659987826898 for f_star and f_minus: 0.054868380172720804 , 0.11472659987826898\n",
      "\t ---------- State is:  (7, 0)\n",
      "[INFO] [2023-04-11 17:05:28,681] [OpenBox-SPO] Iteration 880, objective value: [0.11625113548276168].\n"
     ]
    },
    {
     "name": "stderr",
     "output_type": "stream",
     "text": [
      "\r",
      " 88%|█████████████████████████████████████████████████████████████████████▌         | 880/1000 [17:11<02:57,  1.48s/it]"
     ]
    },
    {
     "name": "stdout",
     "output_type": "stream",
     "text": [
      "\t ----- reward: -0.11625113548276168 for f_star and f_minus: 0.054868380172720804 , 0.11625113548276168\n",
      "\t ---------- State is:  (8, 0)\n",
      "[INFO] [2023-04-11 17:05:30,532] [OpenBox-SPO] Iteration 881, objective value: [0.116212526263093].\n"
     ]
    },
    {
     "name": "stderr",
     "output_type": "stream",
     "text": [
      "\r",
      " 88%|█████████████████████████████████████████████████████████████████████▌         | 881/1000 [17:13<03:08,  1.58s/it]"
     ]
    },
    {
     "name": "stdout",
     "output_type": "stream",
     "text": [
      "\t ----- reward: -0.116212526263093 for f_star and f_minus: 0.054868380172720804 , 0.116212526263093\n",
      "\t ---------- State is:  (7, 0)\n",
      "[INFO] [2023-04-11 17:05:32,110] [OpenBox-SPO] Iteration 882, objective value: [0.17521855434672448].\n"
     ]
    },
    {
     "name": "stderr",
     "output_type": "stream",
     "text": [
      "\r",
      " 88%|█████████████████████████████████████████████████████████████████████▋         | 882/1000 [17:14<03:06,  1.58s/it]"
     ]
    },
    {
     "name": "stdout",
     "output_type": "stream",
     "text": [
      "\t ----- reward: -0.17521855434672448 for f_star and f_minus: 0.054868380172720804 , 0.17521855434672448\n",
      "\t ---------- State is:  (8, 0)\n",
      "[INFO] [2023-04-11 17:05:33,251] [OpenBox-SPO] Iteration 883, objective value: [0.12015176770417048].\n"
     ]
    },
    {
     "name": "stderr",
     "output_type": "stream",
     "text": [
      "\r",
      " 88%|█████████████████████████████████████████████████████████████████████▊         | 883/1000 [17:15<02:50,  1.45s/it]"
     ]
    },
    {
     "name": "stdout",
     "output_type": "stream",
     "text": [
      "\t ----- reward: -0.12015176770417048 for f_star and f_minus: 0.054868380172720804 , 0.12015176770417048\n",
      "\t ---------- State is:  (7, 0)\n",
      "[INFO] [2023-04-11 17:05:33,252] [Advisor] Sample random config. rand_prob=0.100000.\n",
      "[INFO] [2023-04-11 17:05:33,254] [OpenBox-SPO] Iteration 884, objective value: [1.6117739991601325].\n",
      "\t ----- reward: -1.6117739991601325 for f_star and f_minus: 0.054868380172720804 , 1.6117739991601325\n",
      "\t ---------- State is:  (8, 0)\n",
      "[INFO] [2023-04-11 17:05:34,473] [OpenBox-SPO] Iteration 885, objective value: [0.12889958855857797].\n"
     ]
    },
    {
     "name": "stderr",
     "output_type": "stream",
     "text": [
      "\r",
      " 88%|█████████████████████████████████████████████████████████████████████▉         | 885/1000 [17:17<02:03,  1.07s/it]"
     ]
    },
    {
     "name": "stdout",
     "output_type": "stream",
     "text": [
      "\t ----- reward: -0.12889958855857797 for f_star and f_minus: 0.054868380172720804 , 0.12889958855857797\n",
      "\t ---------- State is:  (7, 0)\n",
      "[INFO] [2023-04-11 17:05:34,474] [Advisor] Sample random config. rand_prob=0.100000.\n",
      "[INFO] [2023-04-11 17:05:34,477] [OpenBox-SPO] Iteration 886, objective value: [0.7282494651989204].\n",
      "\t ----- reward: -0.7282494651989204 for f_star and f_minus: 0.054868380172720804 , 0.7282494651989204\n",
      "\t ---------- State is:  (8, 0)\n",
      "[INFO] [2023-04-11 17:05:36,119] [OpenBox-SPO] Iteration 887, objective value: [0.4410521128778859].\n"
     ]
    },
    {
     "name": "stderr",
     "output_type": "stream",
     "text": [
      "\r",
      " 89%|██████████████████████████████████████████████████████████████████████         | 887/1000 [17:18<01:50,  1.03it/s]"
     ]
    },
    {
     "name": "stdout",
     "output_type": "stream",
     "text": [
      "\t ----- reward: -0.4410521128778859 for f_star and f_minus: 0.054868380172720804 , 0.4410521128778859\n",
      "\t ---------- State is:  (7, 0)\n",
      "[INFO] [2023-04-11 17:05:37,848] [OpenBox-SPO] Iteration 888, objective value: [0.12220515754692444].\n"
     ]
    },
    {
     "name": "stderr",
     "output_type": "stream",
     "text": [
      "\r",
      " 89%|██████████████████████████████████████████████████████████████████████▏        | 888/1000 [17:20<02:07,  1.14s/it]"
     ]
    },
    {
     "name": "stdout",
     "output_type": "stream",
     "text": [
      "\t ----- reward: -0.12220515754692444 for f_star and f_minus: 0.054868380172720804 , 0.12220515754692444\n",
      "\t ---------- State is:  (8, 0)\n",
      "[INFO] [2023-04-11 17:05:39,531] [OpenBox-SPO] Iteration 889, objective value: [0.3001939345580076].\n"
     ]
    },
    {
     "name": "stderr",
     "output_type": "stream",
     "text": [
      "\r",
      " 89%|██████████████████████████████████████████████████████████████████████▏        | 889/1000 [17:22<02:20,  1.27s/it]"
     ]
    },
    {
     "name": "stdout",
     "output_type": "stream",
     "text": [
      "\t ----- reward: -0.3001939345580076 for f_star and f_minus: 0.054868380172720804 , 0.3001939345580076\n",
      "\t ---------- State is:  (7, 0)\n",
      "[INFO] [2023-04-11 17:05:41,432] [OpenBox-SPO] Iteration 890, objective value: [1.4859362953747732].\n"
     ]
    },
    {
     "name": "stderr",
     "output_type": "stream",
     "text": [
      "\r",
      " 89%|██████████████████████████████████████████████████████████████████████▎        | 890/1000 [17:23<02:37,  1.43s/it]"
     ]
    },
    {
     "name": "stdout",
     "output_type": "stream",
     "text": [
      "\t ----- reward: -1.4859362953747732 for f_star and f_minus: 0.054868380172720804 , 1.4859362953747732\n",
      "\t ---------- State is:  (8, 0)\n",
      "[INFO] [2023-04-11 17:05:43,357] [OpenBox-SPO] Iteration 891, objective value: [0.39355861215434174].\n"
     ]
    },
    {
     "name": "stderr",
     "output_type": "stream",
     "text": [
      "\r",
      " 89%|██████████████████████████████████████████████████████████████████████▍        | 891/1000 [17:25<02:50,  1.56s/it]"
     ]
    },
    {
     "name": "stdout",
     "output_type": "stream",
     "text": [
      "\t ----- reward: -0.39355861215434174 for f_star and f_minus: 0.054868380172720804 , 0.39355861215434174\n",
      "\t ---------- State is:  (7, 0)\n",
      "[INFO] [2023-04-11 17:05:45,017] [OpenBox-SPO] Iteration 892, objective value: [0.13781189221659274].\n"
     ]
    },
    {
     "name": "stderr",
     "output_type": "stream",
     "text": [
      "\r",
      " 89%|██████████████████████████████████████████████████████████████████████▍        | 892/1000 [17:27<02:51,  1.59s/it]"
     ]
    },
    {
     "name": "stdout",
     "output_type": "stream",
     "text": [
      "\t ----- reward: -0.13781189221659274 for f_star and f_minus: 0.054868380172720804 , 0.13781189221659274\n",
      "\t ---------- State is:  (8, 0)\n",
      "[INFO] [2023-04-11 17:05:46,226] [OpenBox-SPO] Iteration 893, objective value: [0.19784648930154597].\n"
     ]
    },
    {
     "name": "stderr",
     "output_type": "stream",
     "text": [
      "\r",
      " 89%|██████████████████████████████████████████████████████████████████████▌        | 893/1000 [17:28<02:38,  1.48s/it]"
     ]
    },
    {
     "name": "stdout",
     "output_type": "stream",
     "text": [
      "\t ----- reward: -0.19784648930154597 for f_star and f_minus: 0.054868380172720804 , 0.19784648930154597\n",
      "\t ---------- State is:  (7, 0)\n",
      "[INFO] [2023-04-11 17:05:48,099] [OpenBox-SPO] Iteration 894, objective value: [0.1619367930057457].\n"
     ]
    },
    {
     "name": "stderr",
     "output_type": "stream",
     "text": [
      "\r",
      " 89%|██████████████████████████████████████████████████████████████████████▋        | 894/1000 [17:30<02:48,  1.59s/it]"
     ]
    },
    {
     "name": "stdout",
     "output_type": "stream",
     "text": [
      "\t ----- reward: -0.1619367930057457 for f_star and f_minus: 0.054868380172720804 , 0.1619367930057457\n",
      "\t ---------- State is:  (8, 0)\n",
      "[INFO] [2023-04-11 17:05:48,099] [Advisor] Sample random config. rand_prob=0.100000.\n",
      "[INFO] [2023-04-11 17:05:48,099] [OpenBox-SPO] Iteration 895, objective value: [1.6733245591124006].\n",
      "\t ----- reward: -1.6733245591124006 for f_star and f_minus: 0.054868380172720804 , 1.6733245591124006\n",
      "\t ---------- State is:  (7, 0)\n",
      "[INFO] [2023-04-11 17:05:49,963] [OpenBox-SPO] Iteration 896, objective value: [0.19242637428160025].\n"
     ]
    },
    {
     "name": "stderr",
     "output_type": "stream",
     "text": [
      "\r",
      " 90%|██████████████████████████████████████████████████████████████████████▊        | 896/1000 [17:32<02:14,  1.29s/it]"
     ]
    },
    {
     "name": "stdout",
     "output_type": "stream",
     "text": [
      "\t ----- reward: -0.19242637428160025 for f_star and f_minus: 0.054868380172720804 , 0.19242637428160025\n",
      "\t ---------- State is:  (8, 0)\n",
      "[INFO] [2023-04-11 17:05:51,795] [OpenBox-SPO] Iteration 897, objective value: [0.1286359286737202].\n"
     ]
    },
    {
     "name": "stderr",
     "output_type": "stream",
     "text": [
      "\r",
      " 90%|██████████████████████████████████████████████████████████████████████▊        | 897/1000 [17:34<02:26,  1.43s/it]"
     ]
    },
    {
     "name": "stdout",
     "output_type": "stream",
     "text": [
      "\t ----- reward: -0.1286359286737202 for f_star and f_minus: 0.054868380172720804 , 0.1286359286737202\n",
      "\t ---------- State is:  (7, 0)\n",
      "[INFO] [2023-04-11 17:05:53,584] [OpenBox-SPO] Iteration 898, objective value: [1.27517446073106].\n"
     ]
    },
    {
     "name": "stderr",
     "output_type": "stream",
     "text": [
      "\r",
      " 90%|██████████████████████████████████████████████████████████████████████▉        | 898/1000 [17:36<02:35,  1.52s/it]"
     ]
    },
    {
     "name": "stdout",
     "output_type": "stream",
     "text": [
      "\t ----- reward: -1.27517446073106 for f_star and f_minus: 0.054868380172720804 , 1.27517446073106\n",
      "\t ---------- State is:  (8, 0)\n",
      "[INFO] [2023-04-11 17:05:55,341] [OpenBox-SPO] Iteration 899, objective value: [0.1360550138761058].\n"
     ]
    },
    {
     "name": "stderr",
     "output_type": "stream",
     "text": [
      "\r",
      " 90%|███████████████████████████████████████████████████████████████████████        | 899/1000 [17:37<02:39,  1.58s/it]"
     ]
    },
    {
     "name": "stdout",
     "output_type": "stream",
     "text": [
      "\t ----- reward: -0.1360550138761058 for f_star and f_minus: 0.054868380172720804 , 0.1360550138761058\n",
      "\t ---------- State is:  (7, 0)\n",
      "[INFO] [2023-04-11 17:05:57,111] [OpenBox-SPO] Iteration 900, objective value: [0.13065474377010886].\n"
     ]
    },
    {
     "name": "stderr",
     "output_type": "stream",
     "text": [
      "\r",
      " 90%|███████████████████████████████████████████████████████████████████████        | 900/1000 [17:39<02:43,  1.64s/it]"
     ]
    },
    {
     "name": "stdout",
     "output_type": "stream",
     "text": [
      "\t ----- reward: -0.13065474377010886 for f_star and f_minus: 0.054868380172720804 , 0.13065474377010886\n",
      "\t ---------- State is:  (8, 0)\n",
      "[INFO] [2023-04-11 17:05:58,747] [OpenBox-SPO] Iteration 901, objective value: [0.1170038711874172].\n"
     ]
    },
    {
     "name": "stderr",
     "output_type": "stream",
     "text": [
      "\r",
      " 90%|███████████████████████████████████████████████████████████████████████▏       | 901/1000 [17:41<02:41,  1.64s/it]"
     ]
    },
    {
     "name": "stdout",
     "output_type": "stream",
     "text": [
      "\t ----- reward: -0.1170038711874172 for f_star and f_minus: 0.054868380172720804 , 0.1170038711874172\n",
      "\t ---------- State is:  (7, 0)\n",
      "[INFO] [2023-04-11 17:06:00,073] [OpenBox-SPO] Iteration 902, objective value: [1.0411086919213015].\n"
     ]
    },
    {
     "name": "stderr",
     "output_type": "stream",
     "text": [
      "\r",
      " 90%|███████████████████████████████████████████████████████████████████████▎       | 902/1000 [17:42<02:31,  1.55s/it]"
     ]
    },
    {
     "name": "stdout",
     "output_type": "stream",
     "text": [
      "\t ----- reward: -1.0411086919213015 for f_star and f_minus: 0.054868380172720804 , 1.0411086919213015\n",
      "\t ---------- State is:  (8, 0)\n",
      "[INFO] [2023-04-11 17:06:01,798] [OpenBox-SPO] Iteration 903, objective value: [0.11498777162971997].\n"
     ]
    },
    {
     "name": "stderr",
     "output_type": "stream",
     "text": [
      "\r",
      " 90%|███████████████████████████████████████████████████████████████████████▎       | 903/1000 [17:44<02:35,  1.60s/it]"
     ]
    },
    {
     "name": "stdout",
     "output_type": "stream",
     "text": [
      "\t ----- reward: -0.11498777162971997 for f_star and f_minus: 0.054868380172720804 , 0.11498777162971997\n",
      "\t ---------- State is:  (7, 0)\n",
      "[INFO] [2023-04-11 17:06:03,480] [OpenBox-SPO] Iteration 904, objective value: [0.12061919268169738].\n"
     ]
    },
    {
     "name": "stderr",
     "output_type": "stream",
     "text": [
      "\r",
      " 90%|███████████████████████████████████████████████████████████████████████▍       | 904/1000 [17:46<02:35,  1.62s/it]"
     ]
    },
    {
     "name": "stdout",
     "output_type": "stream",
     "text": [
      "\t ----- reward: -0.12061919268169738 for f_star and f_minus: 0.054868380172720804 , 0.12061919268169738\n",
      "\t ---------- State is:  (8, 0)\n",
      "[INFO] [2023-04-11 17:06:05,064] [OpenBox-SPO] Iteration 905, objective value: [0.14213701351833516].\n"
     ]
    },
    {
     "name": "stderr",
     "output_type": "stream",
     "text": [
      "\r",
      " 90%|███████████████████████████████████████████████████████████████████████▍       | 905/1000 [17:47<02:33,  1.61s/it]"
     ]
    },
    {
     "name": "stdout",
     "output_type": "stream",
     "text": [
      "\t ----- reward: -0.14213701351833516 for f_star and f_minus: 0.054868380172720804 , 0.14213701351833516\n",
      "\t ---------- State is:  (7, 0)\n",
      "[INFO] [2023-04-11 17:06:06,930] [OpenBox-SPO] Iteration 906, objective value: [0.11522312147985303].\n"
     ]
    },
    {
     "name": "stderr",
     "output_type": "stream",
     "text": [
      "\r",
      " 91%|███████████████████████████████████████████████████████████████████████▌       | 906/1000 [17:49<02:38,  1.69s/it]"
     ]
    },
    {
     "name": "stdout",
     "output_type": "stream",
     "text": [
      "\t ----- reward: -0.11522312147985303 for f_star and f_minus: 0.054868380172720804 , 0.11522312147985303\n",
      "\t ---------- State is:  (8, 0)\n",
      "[INFO] [2023-04-11 17:06:08,692] [OpenBox-SPO] Iteration 907, objective value: [1.0366535341731953].\n"
     ]
    },
    {
     "name": "stderr",
     "output_type": "stream",
     "text": [
      "\r",
      " 91%|███████████████████████████████████████████████████████████████████████▋       | 907/1000 [17:51<02:38,  1.71s/it]"
     ]
    },
    {
     "name": "stdout",
     "output_type": "stream",
     "text": [
      "\t ----- reward: -1.0366535341731953 for f_star and f_minus: 0.054868380172720804 , 1.0366535341731953\n",
      "\t ---------- State is:  (7, 0)\n",
      "[INFO] [2023-04-11 17:06:09,892] [OpenBox-SPO] Iteration 908, objective value: [1.031460348207257].\n"
     ]
    },
    {
     "name": "stderr",
     "output_type": "stream",
     "text": [
      "\r",
      " 91%|███████████████████████████████████████████████████████████████████████▋       | 908/1000 [17:52<02:23,  1.56s/it]"
     ]
    },
    {
     "name": "stdout",
     "output_type": "stream",
     "text": [
      "\t ----- reward: -1.031460348207257 for f_star and f_minus: 0.054868380172720804 , 1.031460348207257\n",
      "\t ---------- State is:  (8, 0)\n",
      "[INFO] [2023-04-11 17:06:11,879] [OpenBox-SPO] Iteration 909, objective value: [0.1149687800192293].\n"
     ]
    },
    {
     "name": "stderr",
     "output_type": "stream",
     "text": [
      "\r",
      " 91%|███████████████████████████████████████████████████████████████████████▊       | 909/1000 [17:54<02:33,  1.69s/it]"
     ]
    },
    {
     "name": "stdout",
     "output_type": "stream",
     "text": [
      "\t ----- reward: -0.1149687800192293 for f_star and f_minus: 0.054868380172720804 , 0.1149687800192293\n",
      "\t ---------- State is:  (7, 0)\n",
      "[INFO] [2023-04-11 17:06:11,880] [Advisor] Sample random config. rand_prob=0.100000.\n",
      "[INFO] [2023-04-11 17:06:11,882] [OpenBox-SPO] Iteration 910, objective value: [0.9649293049906524].\n",
      "\t ----- reward: -0.9649293049906524 for f_star and f_minus: 0.054868380172720804 , 0.9649293049906524\n",
      "\t ---------- State is:  (8, 0)\n",
      "[INFO] [2023-04-11 17:06:13,811] [OpenBox-SPO] Iteration 911, objective value: [0.21411915385825248].\n"
     ]
    },
    {
     "name": "stderr",
     "output_type": "stream",
     "text": [
      "\r",
      " 91%|███████████████████████████████████████████████████████████████████████▉       | 911/1000 [17:56<02:00,  1.35s/it]"
     ]
    },
    {
     "name": "stdout",
     "output_type": "stream",
     "text": [
      "\t ----- reward: -0.21411915385825248 for f_star and f_minus: 0.054868380172720804 , 0.21411915385825248\n",
      "\t ---------- State is:  (7, 0)\n",
      "[INFO] [2023-04-11 17:06:15,410] [OpenBox-SPO] Iteration 912, objective value: [0.11736268417057041].\n"
     ]
    },
    {
     "name": "stderr",
     "output_type": "stream",
     "text": [
      "\r",
      " 91%|████████████████████████████████████████████████████████████████████████       | 912/1000 [17:57<02:04,  1.41s/it]"
     ]
    },
    {
     "name": "stdout",
     "output_type": "stream",
     "text": [
      "\t ----- reward: -0.11736268417057041 for f_star and f_minus: 0.054868380172720804 , 0.11736268417057041\n",
      "\t ---------- State is:  (8, 0)\n",
      "[INFO] [2023-04-11 17:06:16,740] [OpenBox-SPO] Iteration 913, objective value: [0.11406674024747777].\n"
     ]
    },
    {
     "name": "stderr",
     "output_type": "stream",
     "text": [
      "\r",
      " 91%|████████████████████████████████████████████████████████████████████████▏      | 913/1000 [17:59<02:01,  1.39s/it]"
     ]
    },
    {
     "name": "stdout",
     "output_type": "stream",
     "text": [
      "\t ----- reward: -0.11406674024747777 for f_star and f_minus: 0.054868380172720804 , 0.11406674024747777\n",
      "\t ---------- State is:  (7, 0)\n",
      "[INFO] [2023-04-11 17:06:18,151] [OpenBox-SPO] Iteration 914, objective value: [0.12298057192271174].\n"
     ]
    },
    {
     "name": "stderr",
     "output_type": "stream",
     "text": [
      "\r",
      " 91%|████████████████████████████████████████████████████████████████████████▏      | 914/1000 [18:00<02:00,  1.40s/it]"
     ]
    },
    {
     "name": "stdout",
     "output_type": "stream",
     "text": [
      "\t ----- reward: -0.12298057192271174 for f_star and f_minus: 0.054868380172720804 , 0.12298057192271174\n",
      "\t ---------- State is:  (8, 0)\n",
      "[INFO] [2023-04-11 17:06:19,453] [OpenBox-SPO] Iteration 915, objective value: [0.21913489313214934].\n"
     ]
    },
    {
     "name": "stderr",
     "output_type": "stream",
     "text": [
      "\r",
      " 92%|████████████████████████████████████████████████████████████████████████▎      | 915/1000 [18:01<01:56,  1.37s/it]"
     ]
    },
    {
     "name": "stdout",
     "output_type": "stream",
     "text": [
      "\t ----- reward: -0.21913489313214934 for f_star and f_minus: 0.054868380172720804 , 0.21913489313214934\n",
      "\t ---------- State is:  (7, 0)\n",
      "[INFO] [2023-04-11 17:06:20,755] [OpenBox-SPO] Iteration 916, objective value: [0.76694668501141].\n"
     ]
    },
    {
     "name": "stderr",
     "output_type": "stream",
     "text": [
      "\r",
      " 92%|████████████████████████████████████████████████████████████████████████▎      | 916/1000 [18:03<01:53,  1.35s/it]"
     ]
    },
    {
     "name": "stdout",
     "output_type": "stream",
     "text": [
      "\t ----- reward: -0.76694668501141 for f_star and f_minus: 0.054868380172720804 , 0.76694668501141\n",
      "\t ---------- State is:  (8, 0)\n",
      "[INFO] [2023-04-11 17:06:22,434] [OpenBox-SPO] Iteration 917, objective value: [0.18047757533038725].\n"
     ]
    },
    {
     "name": "stderr",
     "output_type": "stream",
     "text": [
      "\r",
      " 92%|████████████████████████████████████████████████████████████████████████▍      | 917/1000 [18:04<02:00,  1.45s/it]"
     ]
    },
    {
     "name": "stdout",
     "output_type": "stream",
     "text": [
      "\t ----- reward: -0.18047757533038725 for f_star and f_minus: 0.054868380172720804 , 0.18047757533038725\n",
      "\t ---------- State is:  (7, 0)\n",
      "[INFO] [2023-04-11 17:06:22,434] [Advisor] Sample random config. rand_prob=0.100000.\n",
      "[INFO] [2023-04-11 17:06:22,434] [OpenBox-SPO] Iteration 918, objective value: [2.30802445416907].\n",
      "\t ----- reward: -2.30802445416907 for f_star and f_minus: 0.054868380172720804 , 2.30802445416907\n",
      "\t ---------- State is:  (8, 0)\n",
      "[INFO] [2023-04-11 17:06:23,768] [OpenBox-SPO] Iteration 919, objective value: [0.14497593257245064].\n"
     ]
    },
    {
     "name": "stderr",
     "output_type": "stream",
     "text": [
      "\r",
      " 92%|████████████████████████████████████████████████████████████████████████▌      | 919/1000 [18:06<01:28,  1.09s/it]"
     ]
    },
    {
     "name": "stdout",
     "output_type": "stream",
     "text": [
      "\t ----- reward: -0.14497593257245064 for f_star and f_minus: 0.054868380172720804 , 0.14497593257245064\n",
      "\t ---------- State is:  (7, 0)\n",
      "[INFO] [2023-04-11 17:06:25,243] [OpenBox-SPO] Iteration 920, objective value: [0.11985905383823534].\n"
     ]
    },
    {
     "name": "stderr",
     "output_type": "stream",
     "text": [
      "\r",
      " 92%|████████████████████████████████████████████████████████████████████████▋      | 920/1000 [18:07<01:34,  1.19s/it]"
     ]
    },
    {
     "name": "stdout",
     "output_type": "stream",
     "text": [
      "\t ----- reward: -0.11985905383823534 for f_star and f_minus: 0.054868380172720804 , 0.11985905383823534\n",
      "\t ---------- State is:  (7, 0)\n",
      "[INFO] [2023-04-11 17:06:26,937] [OpenBox-SPO] Iteration 921, objective value: [0.11892714789737566].\n"
     ]
    },
    {
     "name": "stderr",
     "output_type": "stream",
     "text": [
      "\r",
      " 92%|████████████████████████████████████████████████████████████████████████▊      | 921/1000 [18:09<01:44,  1.32s/it]"
     ]
    },
    {
     "name": "stdout",
     "output_type": "stream",
     "text": [
      "\t ----- reward: -0.11892714789737566 for f_star and f_minus: 0.054868380172720804 , 0.11892714789737566\n",
      "\t ---------- State is:  (7, 0)\n",
      "[INFO] [2023-04-11 17:06:28,474] [OpenBox-SPO] Iteration 922, objective value: [0.17731809993041778].\n"
     ]
    },
    {
     "name": "stderr",
     "output_type": "stream",
     "text": [
      "\r",
      " 92%|████████████████████████████████████████████████████████████████████████▊      | 922/1000 [18:11<01:47,  1.38s/it]"
     ]
    },
    {
     "name": "stdout",
     "output_type": "stream",
     "text": [
      "\t ----- reward: -0.17731809993041778 for f_star and f_minus: 0.054868380172720804 , 0.17731809993041778\n",
      "\t ---------- State is:  (7, 0)\n",
      "[INFO] [2023-04-11 17:06:29,949] [OpenBox-SPO] Iteration 923, objective value: [1.0685137442967723].\n"
     ]
    },
    {
     "name": "stderr",
     "output_type": "stream",
     "text": [
      "\r",
      " 92%|████████████████████████████████████████████████████████████████████████▉      | 923/1000 [18:12<01:48,  1.40s/it]"
     ]
    },
    {
     "name": "stdout",
     "output_type": "stream",
     "text": [
      "\t ----- reward: -1.0685137442967723 for f_star and f_minus: 0.054868380172720804 , 1.0685137442967723\n",
      "\t ---------- State is:  (7, 0)\n",
      "[INFO] [2023-04-11 17:06:31,455] [OpenBox-SPO] Iteration 924, objective value: [0.13381755416464353].\n"
     ]
    },
    {
     "name": "stderr",
     "output_type": "stream",
     "text": [
      "\r",
      " 92%|████████████████████████████████████████████████████████████████████████▉      | 924/1000 [18:13<01:48,  1.43s/it]"
     ]
    },
    {
     "name": "stdout",
     "output_type": "stream",
     "text": [
      "\t ----- reward: -0.13381755416464353 for f_star and f_minus: 0.054868380172720804 , 0.13381755416464353\n",
      "\t ---------- State is:  (7, 0)\n",
      "[INFO] [2023-04-11 17:06:33,056] [OpenBox-SPO] Iteration 925, objective value: [0.2852664534161352].\n"
     ]
    },
    {
     "name": "stderr",
     "output_type": "stream",
     "text": [
      "\r",
      " 92%|█████████████████████████████████████████████████████████████████████████      | 925/1000 [18:15<01:51,  1.48s/it]"
     ]
    },
    {
     "name": "stdout",
     "output_type": "stream",
     "text": [
      "\t ----- reward: -0.2852664534161352 for f_star and f_minus: 0.054868380172720804 , 0.2852664534161352\n",
      "\t ---------- State is:  (7, 0)\n",
      "[INFO] [2023-04-11 17:06:34,358] [OpenBox-SPO] Iteration 926, objective value: [0.14831059045755435].\n"
     ]
    },
    {
     "name": "stderr",
     "output_type": "stream",
     "text": [
      "\r",
      " 93%|█████████████████████████████████████████████████████████████████████████▏     | 926/1000 [18:16<01:45,  1.43s/it]"
     ]
    },
    {
     "name": "stdout",
     "output_type": "stream",
     "text": [
      "\t ----- reward: -0.14831059045755435 for f_star and f_minus: 0.054868380172720804 , 0.14831059045755435\n",
      "\t ---------- State is:  (7, 0)\n",
      "[INFO] [2023-04-11 17:06:35,990] [OpenBox-SPO] Iteration 927, objective value: [0.15772921072296925].\n"
     ]
    },
    {
     "name": "stderr",
     "output_type": "stream",
     "text": [
      "\r",
      " 93%|█████████████████████████████████████████████████████████████████████████▏     | 927/1000 [18:18<01:48,  1.49s/it]"
     ]
    },
    {
     "name": "stdout",
     "output_type": "stream",
     "text": [
      "\t ----- reward: -0.15772921072296925 for f_star and f_minus: 0.054868380172720804 , 0.15772921072296925\n",
      "\t ---------- State is:  (7, 0)\n",
      "[INFO] [2023-04-11 17:06:37,559] [OpenBox-SPO] Iteration 928, objective value: [0.18355576982583208].\n"
     ]
    },
    {
     "name": "stderr",
     "output_type": "stream",
     "text": [
      "\r",
      " 93%|█████████████████████████████████████████████████████████████████████████▎     | 928/1000 [18:20<01:48,  1.51s/it]"
     ]
    },
    {
     "name": "stdout",
     "output_type": "stream",
     "text": [
      "\t ----- reward: -0.18355576982583208 for f_star and f_minus: 0.054868380172720804 , 0.18355576982583208\n",
      "\t ---------- State is:  (7, 0)\n",
      "[INFO] [2023-04-11 17:06:39,348] [OpenBox-SPO] Iteration 929, objective value: [0.1263884650189749].\n"
     ]
    },
    {
     "name": "stderr",
     "output_type": "stream",
     "text": [
      "\r",
      " 93%|█████████████████████████████████████████████████████████████████████████▍     | 929/1000 [18:21<01:53,  1.59s/it]"
     ]
    },
    {
     "name": "stdout",
     "output_type": "stream",
     "text": [
      "\t ----- reward: -0.1263884650189749 for f_star and f_minus: 0.054868380172720804 , 0.1263884650189749\n",
      "\t ---------- State is:  (7, 0)\n",
      "[INFO] [2023-04-11 17:06:40,854] [OpenBox-SPO] Iteration 930, objective value: [0.19135269316125467].\n"
     ]
    },
    {
     "name": "stderr",
     "output_type": "stream",
     "text": [
      "\r",
      " 93%|█████████████████████████████████████████████████████████████████████████▍     | 930/1000 [18:23<01:49,  1.57s/it]"
     ]
    },
    {
     "name": "stdout",
     "output_type": "stream",
     "text": [
      "\t ----- reward: -0.19135269316125467 for f_star and f_minus: 0.054868380172720804 , 0.19135269316125467\n",
      "\t ---------- State is:  (7, 0)\n",
      "[INFO] [2023-04-11 17:06:40,854] [Advisor] Sample random config. rand_prob=0.100000.\n",
      "[INFO] [2023-04-11 17:06:40,854] [OpenBox-SPO] Iteration 931, objective value: [1.8144866429963584].\n",
      "\t ----- reward: -1.8144866429963584 for f_star and f_minus: 0.054868380172720804 , 1.8144866429963584\n",
      "\t ---------- State is:  (7, 0)\n",
      "[INFO] [2023-04-11 17:06:40,854] [Advisor] Sample random config. rand_prob=0.100000.\n",
      "[INFO] [2023-04-11 17:06:40,870] [OpenBox-SPO] Iteration 932, objective value: [1.0802337364285335].\n",
      "\t ----- reward: -1.0802337364285335 for f_star and f_minus: 0.054868380172720804 , 1.0802337364285335\n",
      "\t ---------- State is:  (7, 0)\n",
      "[INFO] [2023-04-11 17:06:42,783] [OpenBox-SPO] Iteration 933, objective value: [0.12296142055515037].\n"
     ]
    },
    {
     "name": "stderr",
     "output_type": "stream",
     "text": [
      "\r",
      " 93%|█████████████████████████████████████████████████████████████████████████▋     | 933/1000 [18:25<01:10,  1.05s/it]"
     ]
    },
    {
     "name": "stdout",
     "output_type": "stream",
     "text": [
      "\t ----- reward: -0.12296142055515037 for f_star and f_minus: 0.054868380172720804 , 0.12296142055515037\n",
      "\t ---------- State is:  (7, 0)\n",
      "[INFO] [2023-04-11 17:06:44,588] [OpenBox-SPO] Iteration 934, objective value: [0.11817716957764936].\n"
     ]
    },
    {
     "name": "stderr",
     "output_type": "stream",
     "text": [
      "\r",
      " 93%|█████████████████████████████████████████████████████████████████████████▊     | 934/1000 [18:27<01:19,  1.21s/it]"
     ]
    },
    {
     "name": "stdout",
     "output_type": "stream",
     "text": [
      "\t ----- reward: -0.11817716957764936 for f_star and f_minus: 0.054868380172720804 , 0.11817716957764936\n",
      "\t ---------- State is:  (7, 0)\n",
      "[INFO] [2023-04-11 17:06:45,765] [OpenBox-SPO] Iteration 935, objective value: [1.2808842110042797].\n"
     ]
    },
    {
     "name": "stderr",
     "output_type": "stream",
     "text": [
      "\r",
      " 94%|█████████████████████████████████████████████████████████████████████████▊     | 935/1000 [18:28<01:18,  1.20s/it]"
     ]
    },
    {
     "name": "stdout",
     "output_type": "stream",
     "text": [
      "\t ----- reward: -1.2808842110042797 for f_star and f_minus: 0.054868380172720804 , 1.2808842110042797\n",
      "\t ---------- State is:  (7, 0)\n",
      "[INFO] [2023-04-11 17:06:45,765] [Advisor] Sample random config. rand_prob=0.100000.\n",
      "[INFO] [2023-04-11 17:06:45,781] [OpenBox-SPO] Iteration 936, objective value: [1.7067204549204456].\n",
      "\t ----- reward: -1.7067204549204456 for f_star and f_minus: 0.054868380172720804 , 1.7067204549204456\n",
      "\t ---------- State is:  (7, 0)\n",
      "[INFO] [2023-04-11 17:06:47,538] [OpenBox-SPO] Iteration 937, objective value: [0.11865339658132848].\n"
     ]
    },
    {
     "name": "stderr",
     "output_type": "stream",
     "text": [
      "\r",
      " 94%|██████████████████████████████████████████████████████████████████████████     | 937/1000 [18:30<01:07,  1.08s/it]"
     ]
    },
    {
     "name": "stdout",
     "output_type": "stream",
     "text": [
      "\t ----- reward: -0.11865339658132848 for f_star and f_minus: 0.054868380172720804 , 0.11865339658132848\n",
      "\t ---------- State is:  (7, 0)\n",
      "[INFO] [2023-04-11 17:06:48,824] [OpenBox-SPO] Iteration 938, objective value: [0.1415597527357631].\n"
     ]
    },
    {
     "name": "stderr",
     "output_type": "stream",
     "text": [
      "\r",
      " 94%|██████████████████████████████████████████████████████████████████████████     | 938/1000 [18:31<01:09,  1.12s/it]"
     ]
    },
    {
     "name": "stdout",
     "output_type": "stream",
     "text": [
      "\t ----- reward: -0.1415597527357631 for f_star and f_minus: 0.054868380172720804 , 0.1415597527357631\n",
      "\t ---------- State is:  (7, 0)\n",
      "[INFO] [2023-04-11 17:06:50,409] [OpenBox-SPO] Iteration 939, objective value: [0.1670331725519387].\n"
     ]
    },
    {
     "name": "stderr",
     "output_type": "stream",
     "text": [
      "\r",
      " 94%|██████████████████████████████████████████████████████████████████████████▏    | 939/1000 [18:32<01:15,  1.23s/it]"
     ]
    },
    {
     "name": "stdout",
     "output_type": "stream",
     "text": [
      "\t ----- reward: -0.1670331725519387 for f_star and f_minus: 0.054868380172720804 , 0.1670331725519387\n",
      "\t ---------- State is:  (7, 0)\n",
      "[INFO] [2023-04-11 17:06:52,181] [OpenBox-SPO] Iteration 940, objective value: [0.12705081729049889].\n"
     ]
    },
    {
     "name": "stderr",
     "output_type": "stream",
     "text": [
      "\r",
      " 94%|██████████████████████████████████████████████████████████████████████████▎    | 940/1000 [18:34<01:22,  1.37s/it]"
     ]
    },
    {
     "name": "stdout",
     "output_type": "stream",
     "text": [
      "\t ----- reward: -0.12705081729049889 for f_star and f_minus: 0.054868380172720804 , 0.12705081729049889\n",
      "\t ---------- State is:  (7, 0)\n",
      "[INFO] [2023-04-11 17:06:53,765] [OpenBox-SPO] Iteration 941, objective value: [0.12125477216491326].\n"
     ]
    },
    {
     "name": "stderr",
     "output_type": "stream",
     "text": [
      "\r",
      " 94%|██████████████████████████████████████████████████████████████████████████▎    | 941/1000 [18:36<01:24,  1.43s/it]"
     ]
    },
    {
     "name": "stdout",
     "output_type": "stream",
     "text": [
      "\t ----- reward: -0.12125477216491326 for f_star and f_minus: 0.054868380172720804 , 0.12125477216491326\n",
      "\t ---------- State is:  (7, 0)\n",
      "[INFO] [2023-04-11 17:06:55,382] [OpenBox-SPO] Iteration 942, objective value: [0.12793065637283776].\n"
     ]
    },
    {
     "name": "stderr",
     "output_type": "stream",
     "text": [
      "\r",
      " 94%|██████████████████████████████████████████████████████████████████████████▍    | 942/1000 [18:37<01:25,  1.48s/it]"
     ]
    },
    {
     "name": "stdout",
     "output_type": "stream",
     "text": [
      "\t ----- reward: -0.12793065637283776 for f_star and f_minus: 0.054868380172720804 , 0.12793065637283776\n",
      "\t ---------- State is:  (7, 0)\n",
      "[INFO] [2023-04-11 17:06:56,747] [OpenBox-SPO] Iteration 943, objective value: [0.12102858259150819].\n"
     ]
    },
    {
     "name": "stderr",
     "output_type": "stream",
     "text": [
      "\r",
      " 94%|██████████████████████████████████████████████████████████████████████████▍    | 943/1000 [18:39<01:22,  1.45s/it]"
     ]
    },
    {
     "name": "stdout",
     "output_type": "stream",
     "text": [
      "\t ----- reward: -0.12102858259150819 for f_star and f_minus: 0.054868380172720804 , 0.12102858259150819\n",
      "\t ---------- State is:  (7, 0)\n",
      "[INFO] [2023-04-11 17:06:58,410] [OpenBox-SPO] Iteration 944, objective value: [0.11276082932572588].\n"
     ]
    },
    {
     "name": "stderr",
     "output_type": "stream",
     "text": [
      "\r",
      " 94%|██████████████████████████████████████████████████████████████████████████▌    | 944/1000 [18:40<01:24,  1.51s/it]"
     ]
    },
    {
     "name": "stdout",
     "output_type": "stream",
     "text": [
      "\t ----- reward: -0.11276082932572588 for f_star and f_minus: 0.054868380172720804 , 0.11276082932572588\n",
      "\t ---------- State is:  (7, 0)\n",
      "[INFO] [2023-04-11 17:07:00,215] [OpenBox-SPO] Iteration 945, objective value: [0.1159663489148766].\n"
     ]
    },
    {
     "name": "stderr",
     "output_type": "stream",
     "text": [
      "\r",
      " 94%|██████████████████████████████████████████████████████████████████████████▋    | 945/1000 [18:42<01:27,  1.60s/it]"
     ]
    },
    {
     "name": "stdout",
     "output_type": "stream",
     "text": [
      "\t ----- reward: -0.1159663489148766 for f_star and f_minus: 0.054868380172720804 , 0.1159663489148766\n",
      "\t ---------- State is:  (7, 0)\n",
      "[INFO] [2023-04-11 17:07:02,160] [OpenBox-SPO] Iteration 946, objective value: [0.15036262535934278].\n"
     ]
    },
    {
     "name": "stderr",
     "output_type": "stream",
     "text": [
      "\r",
      " 95%|██████████████████████████████████████████████████████████████████████████▋    | 946/1000 [18:44<01:31,  1.70s/it]"
     ]
    },
    {
     "name": "stdout",
     "output_type": "stream",
     "text": [
      "\t ----- reward: -0.15036262535934278 for f_star and f_minus: 0.054868380172720804 , 0.15036262535934278\n",
      "\t ---------- State is:  (7, 0)\n",
      "[INFO] [2023-04-11 17:07:03,666] [OpenBox-SPO] Iteration 947, objective value: [0.1393113379906271].\n"
     ]
    },
    {
     "name": "stderr",
     "output_type": "stream",
     "text": [
      "\r",
      " 95%|██████████████████████████████████████████████████████████████████████████▊    | 947/1000 [18:46<01:27,  1.64s/it]"
     ]
    },
    {
     "name": "stdout",
     "output_type": "stream",
     "text": [
      "\t ----- reward: -0.1393113379906271 for f_star and f_minus: 0.054868380172720804 , 0.1393113379906271\n",
      "\t ---------- State is:  (7, 0)\n",
      "[INFO] [2023-04-11 17:07:05,079] [OpenBox-SPO] Iteration 948, objective value: [0.14708371115543287].\n"
     ]
    },
    {
     "name": "stderr",
     "output_type": "stream",
     "text": [
      "\r",
      " 95%|██████████████████████████████████████████████████████████████████████████▉    | 948/1000 [18:47<01:21,  1.57s/it]"
     ]
    },
    {
     "name": "stdout",
     "output_type": "stream",
     "text": [
      "\t ----- reward: -0.14708371115543287 for f_star and f_minus: 0.054868380172720804 , 0.14708371115543287\n",
      "\t ---------- State is:  (7, 0)\n",
      "[INFO] [2023-04-11 17:07:06,647] [OpenBox-SPO] Iteration 949, objective value: [0.1319768207867914].\n"
     ]
    },
    {
     "name": "stderr",
     "output_type": "stream",
     "text": [
      "\r",
      " 95%|██████████████████████████████████████████████████████████████████████████▉    | 949/1000 [18:49<01:20,  1.57s/it]"
     ]
    },
    {
     "name": "stdout",
     "output_type": "stream",
     "text": [
      "\t ----- reward: -0.1319768207867914 for f_star and f_minus: 0.054868380172720804 , 0.1319768207867914\n",
      "\t ---------- State is:  (7, 0)\n",
      "[INFO] [2023-04-11 17:07:06,647] [Advisor] Sample random config. rand_prob=0.100000.\n",
      "[INFO] [2023-04-11 17:07:06,647] [OpenBox-SPO] Iteration 950, objective value: [1.733675669179256].\n",
      "\t ----- reward: -1.733675669179256 for f_star and f_minus: 0.054868380172720804 , 1.733675669179256\n",
      "\t ---------- State is:  (7, 0)\n",
      "[INFO] [2023-04-11 17:07:08,248] [OpenBox-SPO] Iteration 951, objective value: [0.12128579018428609].\n"
     ]
    },
    {
     "name": "stderr",
     "output_type": "stream",
     "text": [
      "\r",
      " 95%|███████████████████████████████████████████████████████████████████████████▏   | 951/1000 [18:50<00:59,  1.22s/it]"
     ]
    },
    {
     "name": "stdout",
     "output_type": "stream",
     "text": [
      "\t ----- reward: -0.12128579018428609 for f_star and f_minus: 0.054868380172720804 , 0.12128579018428609\n",
      "\t ---------- State is:  (7, 0)\n",
      "[INFO] [2023-04-11 17:07:08,248] [Advisor] Sample random config. rand_prob=0.100000.\n",
      "[INFO] [2023-04-11 17:07:08,248] [OpenBox-SPO] Iteration 952, objective value: [1.4816310124133107].\n",
      "\t ----- reward: -1.4816310124133107 for f_star and f_minus: 0.054868380172720804 , 1.4816310124133107\n",
      "\t ---------- State is:  (7, 0)\n",
      "[INFO] [2023-04-11 17:07:09,879] [OpenBox-SPO] Iteration 953, objective value: [0.1253036806124634].\n"
     ]
    },
    {
     "name": "stderr",
     "output_type": "stream",
     "text": [
      "\r",
      " 95%|███████████████████████████████████████████████████████████████████████████▎   | 953/1000 [18:52<00:49,  1.06s/it]"
     ]
    },
    {
     "name": "stdout",
     "output_type": "stream",
     "text": [
      "\t ----- reward: -0.1253036806124634 for f_star and f_minus: 0.054868380172720804 , 0.1253036806124634\n",
      "\t ---------- State is:  (7, 0)\n",
      "[INFO] [2023-04-11 17:07:11,166] [OpenBox-SPO] Iteration 954, objective value: [0.1221631695354394].\n"
     ]
    },
    {
     "name": "stderr",
     "output_type": "stream",
     "text": [
      "\r",
      " 95%|███████████████████████████████████████████████████████████████████████████▎   | 954/1000 [18:53<00:50,  1.11s/it]"
     ]
    },
    {
     "name": "stdout",
     "output_type": "stream",
     "text": [
      "\t ----- reward: -0.1221631695354394 for f_star and f_minus: 0.054868380172720804 , 0.1221631695354394\n",
      "\t ---------- State is:  (7, 0)\n",
      "[INFO] [2023-04-11 17:07:13,239] [OpenBox-SPO] Iteration 955, objective value: [1.6533901180222048].\n"
     ]
    },
    {
     "name": "stderr",
     "output_type": "stream",
     "text": [
      "\r",
      " 96%|███████████████████████████████████████████████████████████████████████████▍   | 955/1000 [18:55<01:00,  1.34s/it]"
     ]
    },
    {
     "name": "stdout",
     "output_type": "stream",
     "text": [
      "\t ----- reward: -1.6533901180222048 for f_star and f_minus: 0.054868380172720804 , 1.6533901180222048\n",
      "\t ---------- State is:  (7, 0)\n",
      "[INFO] [2023-04-11 17:07:14,715] [OpenBox-SPO] Iteration 956, objective value: [0.11735499148146124].\n"
     ]
    },
    {
     "name": "stderr",
     "output_type": "stream",
     "text": [
      "\r",
      " 96%|███████████████████████████████████████████████████████████████████████████▌   | 956/1000 [18:57<01:00,  1.37s/it]"
     ]
    },
    {
     "name": "stdout",
     "output_type": "stream",
     "text": [
      "\t ----- reward: -0.11735499148146124 for f_star and f_minus: 0.054868380172720804 , 0.11735499148146124\n",
      "\t ---------- State is:  (7, 0)\n",
      "[INFO] [2023-04-11 17:07:14,715] [Advisor] Sample random config. rand_prob=0.100000.\n",
      "[INFO] [2023-04-11 17:07:14,715] [OpenBox-SPO] Iteration 957, objective value: [2.293322258340931].\n",
      "\t ----- reward: -2.293322258340931 for f_star and f_minus: 0.054868380172720804 , 2.293322258340931\n",
      "\t ---------- State is:  (7, 0)\n",
      "[INFO] [2023-04-11 17:07:16,299] [OpenBox-SPO] Iteration 958, objective value: [2.0756124414306627].\n"
     ]
    },
    {
     "name": "stderr",
     "output_type": "stream",
     "text": [
      "\r",
      " 96%|███████████████████████████████████████████████████████████████████████████▋   | 958/1000 [18:58<00:47,  1.13s/it]"
     ]
    },
    {
     "name": "stdout",
     "output_type": "stream",
     "text": [
      "\t ----- reward: -2.0756124414306627 for f_star and f_minus: 0.054868380172720804 , 2.0756124414306627\n",
      "\t ---------- State is:  (8, 0)\n",
      "[INFO] [2023-04-11 17:07:17,959] [OpenBox-SPO] Iteration 959, objective value: [0.1194372156223294].\n"
     ]
    },
    {
     "name": "stderr",
     "output_type": "stream",
     "text": [
      "\r",
      " 96%|███████████████████████████████████████████████████████████████████████████▊   | 959/1000 [19:00<00:51,  1.25s/it]"
     ]
    },
    {
     "name": "stdout",
     "output_type": "stream",
     "text": [
      "\t ----- reward: -0.1194372156223294 for f_star and f_minus: 0.054868380172720804 , 0.1194372156223294\n",
      "\t ---------- State is:  (7, 0)\n",
      "[INFO] [2023-04-11 17:07:19,668] [OpenBox-SPO] Iteration 960, objective value: [0.2284645093612906].\n"
     ]
    },
    {
     "name": "stderr",
     "output_type": "stream",
     "text": [
      "\r",
      " 96%|███████████████████████████████████████████████████████████████████████████▊   | 960/1000 [19:02<00:54,  1.37s/it]"
     ]
    },
    {
     "name": "stdout",
     "output_type": "stream",
     "text": [
      "\t ----- reward: -0.2284645093612906 for f_star and f_minus: 0.054868380172720804 , 0.2284645093612906\n",
      "\t ---------- State is:  (7, 0)\n",
      "[INFO] [2023-04-11 17:07:21,751] [OpenBox-SPO] Iteration 961, objective value: [0.7570125865279663].\n"
     ]
    },
    {
     "name": "stderr",
     "output_type": "stream",
     "text": [
      "\r",
      " 96%|███████████████████████████████████████████████████████████████████████████▉   | 961/1000 [19:04<01:00,  1.55s/it]"
     ]
    },
    {
     "name": "stdout",
     "output_type": "stream",
     "text": [
      "\t ----- reward: -0.7570125865279663 for f_star and f_minus: 0.054868380172720804 , 0.7570125865279663\n",
      "\t ---------- State is:  (7, 0)\n",
      "[INFO] [2023-04-11 17:07:23,229] [OpenBox-SPO] Iteration 962, objective value: [0.2719657610605529].\n"
     ]
    },
    {
     "name": "stderr",
     "output_type": "stream",
     "text": [
      "\r",
      " 96%|███████████████████████████████████████████████████████████████████████████▉   | 962/1000 [19:05<00:58,  1.53s/it]"
     ]
    },
    {
     "name": "stdout",
     "output_type": "stream",
     "text": [
      "\t ----- reward: -0.2719657610605529 for f_star and f_minus: 0.054868380172720804 , 0.2719657610605529\n",
      "\t ---------- State is:  (7, 0)\n",
      "[INFO] [2023-04-11 17:07:24,694] [OpenBox-SPO] Iteration 963, objective value: [1.056881155659059].\n"
     ]
    },
    {
     "name": "stderr",
     "output_type": "stream",
     "text": [
      "\r",
      " 96%|████████████████████████████████████████████████████████████████████████████   | 963/1000 [19:07<00:56,  1.51s/it]"
     ]
    },
    {
     "name": "stdout",
     "output_type": "stream",
     "text": [
      "\t ----- reward: -1.056881155659059 for f_star and f_minus: 0.054868380172720804 , 1.056881155659059\n",
      "\t ---------- State is:  (7, 0)\n",
      "[INFO] [2023-04-11 17:07:26,045] [OpenBox-SPO] Iteration 964, objective value: [0.18568451136187497].\n"
     ]
    },
    {
     "name": "stderr",
     "output_type": "stream",
     "text": [
      "\r",
      " 96%|████████████████████████████████████████████████████████████████████████████▏  | 964/1000 [19:08<00:52,  1.47s/it]"
     ]
    },
    {
     "name": "stdout",
     "output_type": "stream",
     "text": [
      "\t ----- reward: -0.18568451136187497 for f_star and f_minus: 0.054868380172720804 , 0.18568451136187497\n",
      "\t ---------- State is:  (7, 0)\n",
      "[INFO] [2023-04-11 17:07:27,255] [OpenBox-SPO] Iteration 965, objective value: [0.11879847464809096].\n"
     ]
    },
    {
     "name": "stderr",
     "output_type": "stream",
     "text": [
      "\r",
      " 96%|████████████████████████████████████████████████████████████████████████████▏  | 965/1000 [19:09<00:48,  1.39s/it]"
     ]
    },
    {
     "name": "stdout",
     "output_type": "stream",
     "text": [
      "\t ----- reward: -0.11879847464809096 for f_star and f_minus: 0.054868380172720804 , 0.11879847464809096\n",
      "\t ---------- State is:  (7, 0)\n",
      "[INFO] [2023-04-11 17:07:28,395] [OpenBox-SPO] Iteration 966, objective value: [0.12778721083491737].\n"
     ]
    },
    {
     "name": "stderr",
     "output_type": "stream",
     "text": [
      "\r",
      " 97%|████████████████████████████████████████████████████████████████████████████▎  | 966/1000 [19:10<00:44,  1.32s/it]"
     ]
    },
    {
     "name": "stdout",
     "output_type": "stream",
     "text": [
      "\t ----- reward: -0.12778721083491737 for f_star and f_minus: 0.054868380172720804 , 0.12778721083491737\n",
      "\t ---------- State is:  (7, 0)\n",
      "[INFO] [2023-04-11 17:07:29,954] [OpenBox-SPO] Iteration 967, objective value: [0.32457773153114233].\n"
     ]
    },
    {
     "name": "stderr",
     "output_type": "stream",
     "text": [
      "\r",
      " 97%|████████████████████████████████████████████████████████████████████████████▍  | 967/1000 [19:12<00:45,  1.39s/it]"
     ]
    },
    {
     "name": "stdout",
     "output_type": "stream",
     "text": [
      "\t ----- reward: -0.32457773153114233 for f_star and f_minus: 0.054868380172720804 , 0.32457773153114233\n",
      "\t ---------- State is:  (7, 0)\n",
      "[INFO] [2023-04-11 17:07:29,956] [Advisor] Sample random config. rand_prob=0.100000.\n",
      "[INFO] [2023-04-11 17:07:29,957] [OpenBox-SPO] Iteration 968, objective value: [1.9831810749319065].\n",
      "\t ----- reward: -1.9831810749319065 for f_star and f_minus: 0.054868380172720804 , 1.9831810749319065\n",
      "\t ---------- State is:  (7, 0)\n",
      "[INFO] [2023-04-11 17:07:31,578] [OpenBox-SPO] Iteration 969, objective value: [0.2942405830077598].\n"
     ]
    },
    {
     "name": "stderr",
     "output_type": "stream",
     "text": [
      "\r",
      " 97%|████████████████████████████████████████████████████████████████████████████▌  | 969/1000 [19:14<00:34,  1.13s/it]"
     ]
    },
    {
     "name": "stdout",
     "output_type": "stream",
     "text": [
      "\t ----- reward: -0.2942405830077598 for f_star and f_minus: 0.054868380172720804 , 0.2942405830077598\n",
      "\t ---------- State is:  (7, 0)\n",
      "[INFO] [2023-04-11 17:07:33,160] [OpenBox-SPO] Iteration 970, objective value: [0.416607635349671].\n"
     ]
    },
    {
     "name": "stderr",
     "output_type": "stream",
     "text": [
      "\r",
      " 97%|████████████████████████████████████████████████████████████████████████████▋  | 970/1000 [19:15<00:37,  1.24s/it]"
     ]
    },
    {
     "name": "stdout",
     "output_type": "stream",
     "text": [
      "\t ----- reward: -0.416607635349671 for f_star and f_minus: 0.054868380172720804 , 0.416607635349671\n",
      "\t ---------- State is:  (7, 0)\n",
      "[INFO] [2023-04-11 17:07:34,520] [OpenBox-SPO] Iteration 971, objective value: [0.1513818495459534].\n"
     ]
    },
    {
     "name": "stderr",
     "output_type": "stream",
     "text": [
      "\r",
      " 97%|████████████████████████████████████████████████████████████████████████████▋  | 971/1000 [19:17<00:36,  1.27s/it]"
     ]
    },
    {
     "name": "stdout",
     "output_type": "stream",
     "text": [
      "\t ----- reward: -0.1513818495459534 for f_star and f_minus: 0.054868380172720804 , 0.1513818495459534\n",
      "\t ---------- State is:  (7, 0)\n",
      "[INFO] [2023-04-11 17:07:35,973] [OpenBox-SPO] Iteration 972, objective value: [0.165575302515575].\n"
     ]
    },
    {
     "name": "stderr",
     "output_type": "stream",
     "text": [
      "\r",
      " 97%|████████████████████████████████████████████████████████████████████████████▊  | 972/1000 [19:18<00:36,  1.32s/it]"
     ]
    },
    {
     "name": "stdout",
     "output_type": "stream",
     "text": [
      "\t ----- reward: -0.165575302515575 for f_star and f_minus: 0.054868380172720804 , 0.165575302515575\n",
      "\t ---------- State is:  (7, 0)\n",
      "[INFO] [2023-04-11 17:07:37,692] [OpenBox-SPO] Iteration 973, objective value: [0.4716244820308132].\n"
     ]
    },
    {
     "name": "stderr",
     "output_type": "stream",
     "text": [
      "\r",
      " 97%|████████████████████████████████████████████████████████████████████████████▊  | 973/1000 [19:20<00:38,  1.43s/it]"
     ]
    },
    {
     "name": "stdout",
     "output_type": "stream",
     "text": [
      "\t ----- reward: -0.4716244820308132 for f_star and f_minus: 0.054868380172720804 , 0.4716244820308132\n",
      "\t ---------- State is:  (7, 0)\n",
      "[INFO] [2023-04-11 17:07:39,074] [OpenBox-SPO] Iteration 974, objective value: [0.786339868006629].\n"
     ]
    },
    {
     "name": "stderr",
     "output_type": "stream",
     "text": [
      "\r",
      " 97%|████████████████████████████████████████████████████████████████████████████▉  | 974/1000 [19:21<00:36,  1.42s/it]"
     ]
    },
    {
     "name": "stdout",
     "output_type": "stream",
     "text": [
      "\t ----- reward: -0.786339868006629 for f_star and f_minus: 0.054868380172720804 , 0.786339868006629\n",
      "\t ---------- State is:  (7, 0)\n",
      "[INFO] [2023-04-11 17:07:40,486] [OpenBox-SPO] Iteration 975, objective value: [0.123604980749477].\n"
     ]
    },
    {
     "name": "stderr",
     "output_type": "stream",
     "text": [
      "\r",
      " 98%|█████████████████████████████████████████████████████████████████████████████  | 975/1000 [19:23<00:35,  1.42s/it]"
     ]
    },
    {
     "name": "stdout",
     "output_type": "stream",
     "text": [
      "\t ----- reward: -0.123604980749477 for f_star and f_minus: 0.054868380172720804 , 0.123604980749477\n",
      "\t ---------- State is:  (7, 0)\n",
      "[INFO] [2023-04-11 17:07:42,321] [OpenBox-SPO] Iteration 976, objective value: [0.23389310867336868].\n"
     ]
    },
    {
     "name": "stderr",
     "output_type": "stream",
     "text": [
      "\r",
      " 98%|█████████████████████████████████████████████████████████████████████████████  | 976/1000 [19:24<00:36,  1.54s/it]"
     ]
    },
    {
     "name": "stdout",
     "output_type": "stream",
     "text": [
      "\t ----- reward: -0.23389310867336868 for f_star and f_minus: 0.054868380172720804 , 0.23389310867336868\n",
      "\t ---------- State is:  (7, 0)\n",
      "[INFO] [2023-04-11 17:07:43,655] [OpenBox-SPO] Iteration 977, objective value: [0.2109829237630453].\n"
     ]
    },
    {
     "name": "stderr",
     "output_type": "stream",
     "text": [
      "\r",
      " 98%|█████████████████████████████████████████████████████████████████████████████▏ | 977/1000 [19:26<00:33,  1.48s/it]"
     ]
    },
    {
     "name": "stdout",
     "output_type": "stream",
     "text": [
      "\t ----- reward: -0.2109829237630453 for f_star and f_minus: 0.054868380172720804 , 0.2109829237630453\n",
      "\t ---------- State is:  (7, 0)\n",
      "[INFO] [2023-04-11 17:07:43,655] [Advisor] Sample random config. rand_prob=0.100000.\n",
      "[INFO] [2023-04-11 17:07:43,655] [OpenBox-SPO] Iteration 978, objective value: [2.904685816099503].\n",
      "\t ----- reward: -2.904685816099503 for f_star and f_minus: 0.054868380172720804 , 2.904685816099503\n",
      "\t ---------- State is:  (7, 0)\n",
      "[INFO] [2023-04-11 17:07:44,894] [OpenBox-SPO] Iteration 979, objective value: [1.0628634820987137].\n"
     ]
    },
    {
     "name": "stderr",
     "output_type": "stream",
     "text": [
      "\r",
      " 98%|█████████████████████████████████████████████████████████████████████████████▎ | 979/1000 [19:27<00:22,  1.09s/it]"
     ]
    },
    {
     "name": "stdout",
     "output_type": "stream",
     "text": [
      "\t ----- reward: -1.0628634820987137 for f_star and f_minus: 0.054868380172720804 , 1.0628634820987137\n",
      "\t ---------- State is:  (7, 0)\n",
      "[INFO] [2023-04-11 17:07:46,495] [OpenBox-SPO] Iteration 980, objective value: [1.1241971640637622].\n"
     ]
    },
    {
     "name": "stderr",
     "output_type": "stream",
     "text": [
      "\r",
      " 98%|█████████████████████████████████████████████████████████████████████████████▍ | 980/1000 [19:29<00:24,  1.21s/it]"
     ]
    },
    {
     "name": "stdout",
     "output_type": "stream",
     "text": [
      "\t ----- reward: -1.1241971640637622 for f_star and f_minus: 0.054868380172720804 , 1.1241971640637622\n",
      "\t ---------- State is:  (7, 0)\n",
      "[INFO] [2023-04-11 17:07:47,844] [OpenBox-SPO] Iteration 981, objective value: [0.11321536507876177].\n"
     ]
    },
    {
     "name": "stderr",
     "output_type": "stream",
     "text": [
      "\r",
      " 98%|█████████████████████████████████████████████████████████████████████████████▍ | 981/1000 [19:30<00:23,  1.25s/it]"
     ]
    },
    {
     "name": "stdout",
     "output_type": "stream",
     "text": [
      "\t ----- reward: -0.11321536507876177 for f_star and f_minus: 0.054868380172720804 , 0.11321536507876177\n",
      "\t ---------- State is:  (7, 0)\n",
      "[INFO] [2023-04-11 17:07:49,146] [OpenBox-SPO] Iteration 982, objective value: [1.5447710721395393].\n"
     ]
    },
    {
     "name": "stderr",
     "output_type": "stream",
     "text": [
      "\r",
      " 98%|█████████████████████████████████████████████████████████████████████████████▌ | 982/1000 [19:31<00:22,  1.26s/it]"
     ]
    },
    {
     "name": "stdout",
     "output_type": "stream",
     "text": [
      "\t ----- reward: -1.5447710721395393 for f_star and f_minus: 0.054868380172720804 , 1.5447710721395393\n",
      "\t ---------- State is:  (7, 0)\n",
      "[INFO] [2023-04-11 17:07:50,463] [OpenBox-SPO] Iteration 983, objective value: [0.14302976000205128].\n"
     ]
    },
    {
     "name": "stderr",
     "output_type": "stream",
     "text": [
      "\r",
      " 98%|█████████████████████████████████████████████████████████████████████████████▋ | 983/1000 [19:33<00:21,  1.28s/it]"
     ]
    },
    {
     "name": "stdout",
     "output_type": "stream",
     "text": [
      "\t ----- reward: -0.14302976000205128 for f_star and f_minus: 0.054868380172720804 , 0.14302976000205128\n",
      "\t ---------- State is:  (7, 0)\n",
      "[INFO] [2023-04-11 17:07:52,017] [OpenBox-SPO] Iteration 984, objective value: [0.12523399883327016].\n"
     ]
    },
    {
     "name": "stderr",
     "output_type": "stream",
     "text": [
      "\r",
      " 98%|█████████████████████████████████████████████████████████████████████████████▋ | 984/1000 [19:34<00:21,  1.36s/it]"
     ]
    },
    {
     "name": "stdout",
     "output_type": "stream",
     "text": [
      "\t ----- reward: -0.12523399883327016 for f_star and f_minus: 0.054868380172720804 , 0.12523399883327016\n",
      "\t ---------- State is:  (7, 0)\n",
      "[INFO] [2023-04-11 17:07:53,524] [OpenBox-SPO] Iteration 985, objective value: [0.115930027101279].\n"
     ]
    },
    {
     "name": "stderr",
     "output_type": "stream",
     "text": [
      "\r",
      " 98%|█████████████████████████████████████████████████████████████████████████████▊ | 985/1000 [19:36<00:20,  1.40s/it]"
     ]
    },
    {
     "name": "stdout",
     "output_type": "stream",
     "text": [
      "\t ----- reward: -0.115930027101279 for f_star and f_minus: 0.054868380172720804 , 0.115930027101279\n",
      "\t ---------- State is:  (7, 0)\n",
      "[INFO] [2023-04-11 17:07:54,944] [OpenBox-SPO] Iteration 986, objective value: [0.12483406084118037].\n"
     ]
    },
    {
     "name": "stderr",
     "output_type": "stream",
     "text": [
      "\r",
      " 99%|█████████████████████████████████████████████████████████████████████████████▉ | 986/1000 [19:37<00:19,  1.41s/it]"
     ]
    },
    {
     "name": "stdout",
     "output_type": "stream",
     "text": [
      "\t ----- reward: -0.12483406084118037 for f_star and f_minus: 0.054868380172720804 , 0.12483406084118037\n",
      "\t ---------- State is:  (7, 0)\n",
      "[INFO] [2023-04-11 17:07:56,170] [OpenBox-SPO] Iteration 987, objective value: [0.11916654547226364].\n"
     ]
    },
    {
     "name": "stderr",
     "output_type": "stream",
     "text": [
      "\r",
      " 99%|█████████████████████████████████████████████████████████████████████████████▉ | 987/1000 [19:38<00:17,  1.35s/it]"
     ]
    },
    {
     "name": "stdout",
     "output_type": "stream",
     "text": [
      "\t ----- reward: -0.11916654547226364 for f_star and f_minus: 0.054868380172720804 , 0.11916654547226364\n",
      "\t ---------- State is:  (7, 0)\n",
      "[INFO] [2023-04-11 17:07:57,931] [OpenBox-SPO] Iteration 988, objective value: [0.11807926398379892].\n"
     ]
    },
    {
     "name": "stderr",
     "output_type": "stream",
     "text": [
      "\r",
      " 99%|██████████████████████████████████████████████████████████████████████████████ | 988/1000 [19:40<00:17,  1.47s/it]"
     ]
    },
    {
     "name": "stdout",
     "output_type": "stream",
     "text": [
      "\t ----- reward: -0.11807926398379892 for f_star and f_minus: 0.054868380172720804 , 0.11807926398379892\n",
      "\t ---------- State is:  (7, 0)\n",
      "[INFO] [2023-04-11 17:07:57,933] [Advisor] Sample random config. rand_prob=0.100000.\n",
      "[INFO] [2023-04-11 17:07:57,936] [OpenBox-SPO] Iteration 989, objective value: [1.8138733008240817].\n",
      "\t ----- reward: -1.8138733008240817 for f_star and f_minus: 0.054868380172720804 , 1.8138733008240817\n",
      "\t ---------- State is:  (7, 0)\n",
      "[INFO] [2023-04-11 17:07:59,393] [OpenBox-SPO] Iteration 990, objective value: [0.1911281051349381].\n"
     ]
    },
    {
     "name": "stderr",
     "output_type": "stream",
     "text": [
      "\r",
      " 99%|██████████████████████████████████████████████████████████████████████████████▏| 990/1000 [19:41<00:11,  1.13s/it]"
     ]
    },
    {
     "name": "stdout",
     "output_type": "stream",
     "text": [
      "\t ----- reward: -0.1911281051349381 for f_star and f_minus: 0.054868380172720804 , 0.1911281051349381\n",
      "\t ---------- State is:  (7, 0)\n",
      "[INFO] [2023-04-11 17:08:01,268] [OpenBox-SPO] Iteration 991, objective value: [0.11500071193603219].\n"
     ]
    },
    {
     "name": "stderr",
     "output_type": "stream",
     "text": [
      "\r",
      " 99%|██████████████████████████████████████████████████████████████████████████████▎| 991/1000 [19:43<00:11,  1.32s/it]"
     ]
    },
    {
     "name": "stdout",
     "output_type": "stream",
     "text": [
      "\t ----- reward: -0.11500071193603219 for f_star and f_minus: 0.054868380172720804 , 0.11500071193603219\n",
      "\t ---------- State is:  (7, 0)\n",
      "[INFO] [2023-04-11 17:08:01,270] [Advisor] Sample random config. rand_prob=0.100000.\n",
      "[INFO] [2023-04-11 17:08:01,273] [OpenBox-SPO] Iteration 992, objective value: [1.803014806605018].\n",
      "\t ----- reward: -1.803014806605018 for f_star and f_minus: 0.054868380172720804 , 1.803014806605018\n",
      "\t ---------- State is:  (7, 0)\n",
      "[INFO] [2023-04-11 17:08:02,920] [OpenBox-SPO] Iteration 993, objective value: [0.1312544512428203].\n"
     ]
    },
    {
     "name": "stderr",
     "output_type": "stream",
     "text": [
      "\r",
      " 99%|██████████████████████████████████████████████████████████████████████████████▍| 993/1000 [19:45<00:07,  1.11s/it]"
     ]
    },
    {
     "name": "stdout",
     "output_type": "stream",
     "text": [
      "\t ----- reward: -0.1312544512428203 for f_star and f_minus: 0.054868380172720804 , 0.1312544512428203\n",
      "\t ---------- State is:  (7, 0)\n",
      "[INFO] [2023-04-11 17:08:04,379] [OpenBox-SPO] Iteration 994, objective value: [0.14970475451255996].\n"
     ]
    },
    {
     "name": "stderr",
     "output_type": "stream",
     "text": [
      "\r",
      " 99%|██████████████████████████████████████████████████████████████████████████████▌| 994/1000 [19:46<00:07,  1.19s/it]"
     ]
    },
    {
     "name": "stdout",
     "output_type": "stream",
     "text": [
      "\t ----- reward: -0.14970475451255996 for f_star and f_minus: 0.054868380172720804 , 0.14970475451255996\n",
      "\t ---------- State is:  (7, 0)\n",
      "[INFO] [2023-04-11 17:08:05,963] [OpenBox-SPO] Iteration 995, objective value: [0.15002858508443107].\n"
     ]
    },
    {
     "name": "stderr",
     "output_type": "stream",
     "text": [
      "\r",
      "100%|██████████████████████████████████████████████████████████████████████████████▌| 995/1000 [19:48<00:06,  1.29s/it]"
     ]
    },
    {
     "name": "stdout",
     "output_type": "stream",
     "text": [
      "\t ----- reward: -0.15002858508443107 for f_star and f_minus: 0.054868380172720804 , 0.15002858508443107\n",
      "\t ---------- State is:  (7, 0)\n",
      "[INFO] [2023-04-11 17:08:07,558] [OpenBox-SPO] Iteration 996, objective value: [0.14727782655423458].\n"
     ]
    },
    {
     "name": "stderr",
     "output_type": "stream",
     "text": [
      "\r",
      "100%|██████████████████████████████████████████████████████████████████████████████▋| 996/1000 [19:50<00:05,  1.37s/it]"
     ]
    },
    {
     "name": "stdout",
     "output_type": "stream",
     "text": [
      "\t ----- reward: -0.14727782655423458 for f_star and f_minus: 0.054868380172720804 , 0.14727782655423458\n",
      "\t ---------- State is:  (7, 0)\n",
      "[INFO] [2023-04-11 17:08:08,930] [OpenBox-SPO] Iteration 997, objective value: [0.40710892932475545].\n"
     ]
    },
    {
     "name": "stderr",
     "output_type": "stream",
     "text": [
      "\r",
      "100%|██████████████████████████████████████████████████████████████████████████████▊| 997/1000 [19:51<00:04,  1.37s/it]"
     ]
    },
    {
     "name": "stdout",
     "output_type": "stream",
     "text": [
      "\t ----- reward: -0.40710892932475545 for f_star and f_minus: 0.054868380172720804 , 0.40710892932475545\n",
      "\t ---------- State is:  (7, 0)\n",
      "[INFO] [2023-04-11 17:08:10,257] [OpenBox-SPO] Iteration 998, objective value: [0.1165755197281252].\n"
     ]
    },
    {
     "name": "stderr",
     "output_type": "stream",
     "text": [
      "\r",
      "100%|██████████████████████████████████████████████████████████████████████████████▊| 998/1000 [19:52<00:02,  1.36s/it]"
     ]
    },
    {
     "name": "stdout",
     "output_type": "stream",
     "text": [
      "\t ----- reward: -0.1165755197281252 for f_star and f_minus: 0.054868380172720804 , 0.1165755197281252\n",
      "\t ---------- State is:  (7, 0)\n",
      "[INFO] [2023-04-11 17:08:11,864] [OpenBox-SPO] Iteration 999, objective value: [0.14559278878968285].\n"
     ]
    },
    {
     "name": "stderr",
     "output_type": "stream",
     "text": [
      "\r",
      "100%|██████████████████████████████████████████████████████████████████████████████▉| 999/1000 [19:54<00:01,  1.43s/it]"
     ]
    },
    {
     "name": "stdout",
     "output_type": "stream",
     "text": [
      "\t ----- reward: -0.14559278878968285 for f_star and f_minus: 0.054868380172720804 , 0.14559278878968285\n",
      "\t ---------- State is:  (7, 0)\n",
      "[INFO] [2023-04-11 17:08:13,229] [OpenBox-SPO] Iteration 1000, objective value: [1.0256089783938425].\n"
     ]
    },
    {
     "name": "stderr",
     "output_type": "stream",
     "text": [
      "100%|██████████████████████████████████████████████████████████████████████████████| 1000/1000 [19:55<00:00,  1.20s/it]"
     ]
    },
    {
     "name": "stdout",
     "output_type": "stream",
     "text": [
      "\t ----- reward: -1.0256089783938425 for f_star and f_minus: 0.054868380172720804 , 1.0256089783938425\n",
      "\t ---------- State is:  (7, 0)\n"
     ]
    },
    {
     "name": "stderr",
     "output_type": "stream",
     "text": [
      "\n"
     ]
    },
    {
     "ename": "NameError",
     "evalue": "name 'i' is not defined",
     "output_type": "error",
     "traceback": [
      "\u001b[1;31m---------------------------------------------------------------------------\u001b[0m",
      "\u001b[1;31mNameError\u001b[0m                                 Traceback (most recent call last)",
      "Input \u001b[1;32mIn [2]\u001b[0m, in \u001b[0;36m<cell line: 34>\u001b[1;34m()\u001b[0m\n\u001b[0;32m     27\u001b[0m history, states, actions, rewards \u001b[38;5;241m=\u001b[39m BO\u001b[38;5;241m.\u001b[39mrun(RLBO \u001b[38;5;241m=\u001b[39m cf\u001b[38;5;241m.\u001b[39mRLBO)\n\u001b[0;32m     29\u001b[0m H\u001b[38;5;241m.\u001b[39mappend({\u001b[38;5;124m'\u001b[39m\u001b[38;5;124mhistory\u001b[39m\u001b[38;5;124m'\u001b[39m: history, \n\u001b[0;32m     30\u001b[0m           \u001b[38;5;124m'\u001b[39m\u001b[38;5;124mstates\u001b[39m\u001b[38;5;124m'\u001b[39m: states, \n\u001b[0;32m     31\u001b[0m           \u001b[38;5;124m'\u001b[39m\u001b[38;5;124mactions\u001b[39m\u001b[38;5;124m'\u001b[39m: actions,\n\u001b[0;32m     32\u001b[0m           \u001b[38;5;124m'\u001b[39m\u001b[38;5;124mrewards\u001b[39m\u001b[38;5;124m'\u001b[39m: rewards})\n\u001b[1;32m---> 34\u001b[0m cf\u001b[38;5;241m.\u001b[39mwindow_size \u001b[38;5;241m+\u001b[39m\u001b[38;5;241m=\u001b[39m \u001b[43mi\u001b[49m\n",
      "\u001b[1;31mNameError\u001b[0m: name 'i' is not defined"
     ]
    }
   ],
   "source": [
    "\n",
    "\n",
    "import SensorOptimizers.BOforBenchmarkFunctions as bo\n",
    "import numpy as np\n",
    "import pickle\n",
    "import Config as cf\n",
    "\n",
    "ws = []\n",
    "H = []\n",
    "\n",
    "# for i in range(cf.window_size, 100, 5):\n",
    "# cf.window_size = i\n",
    "\n",
    "print('-'*20)\n",
    "print(cf.window_size)\n",
    "print('-'*20)\n",
    "print('----- Running BO with: \\n \\t - epsilon: ', cf.epsilon, \n",
    "      '\\n \\t - True optimum: \\n', cf.function.get_global_minimum(cf.D), \n",
    "      ' \\n \\t - initial state: ', cf.initial_state,\n",
    "      ' \\n \\t - window size: ', cf.window_size)\n",
    "\n",
    "BO = bo.BayesianOptimization(testbed = cf.testbed,\n",
    "                             iteration = cf.bo_iteration, \n",
    "                             initial_state = cf.initial_state,\n",
    "                             acquisition_function = cf.acquisition_function,\n",
    "                             surrogate_model = cf.surrogate_model,\n",
    "                             acq_optimizer_type = cf.acq_optimizer_type)\n",
    "\n",
    "history, states, actions, rewards = BO.run(RLBO = cf.RLBO)\n",
    "\n",
    "H.append({'history': history, \n",
    "          'states': states, \n",
    "          'actions': actions,\n",
    "          'rewards': rewards})\n",
    "\n",
    "# cf.window_size += i"
   ]
  },
  {
   "cell_type": "code",
   "execution_count": null,
   "metadata": {
    "scrolled": true
   },
   "outputs": [],
   "source": [
    "import matplotlib.pyplot as plt\n",
    "\n",
    "mins = []\n",
    "\n",
    "for h in H:\n",
    "    h['history'].plot_convergence()\n",
    "    print(h['history'])\n",
    "    mins.append(min(h['history'].get_perfs()))\n",
    "    plt.show()"
   ]
  },
  {
   "cell_type": "code",
   "execution_count": null,
   "metadata": {},
   "outputs": [],
   "source": [
    "mins"
   ]
  },
  {
   "cell_type": "code",
   "execution_count": null,
   "metadata": {},
   "outputs": [],
   "source": []
  },
  {
   "cell_type": "code",
   "execution_count": null,
   "metadata": {},
   "outputs": [],
   "source": []
  },
  {
   "cell_type": "code",
   "execution_count": null,
   "metadata": {
    "scrolled": false
   },
   "outputs": [],
   "source": [
    "import matplotlib.pyplot as plt\n",
    "for h in H:\n",
    "    plt.plot(h['rewards'])\n",
    "    plt.show()"
   ]
  },
  {
   "cell_type": "code",
   "execution_count": null,
   "metadata": {
    "scrolled": true
   },
   "outputs": [],
   "source": [
    "import matplotlib.pyplot as plt\n",
    "for h in H:\n",
    "    plt.plot([s[1] for s in h['states'][0:len(states)]])\n",
    "    \n",
    "    \n",
    "    plt.show()\n",
    "    "
   ]
  },
  {
   "cell_type": "code",
   "execution_count": null,
   "metadata": {},
   "outputs": [],
   "source": [
    "states"
   ]
  },
  {
   "cell_type": "code",
   "execution_count": null,
   "metadata": {
    "scrolled": true
   },
   "outputs": [],
   "source": [
    "import matplotlib.pyplot as plt\n",
    "for h in H:\n",
    "    plt.plot([s[0] for s in h['states'][0:len(states)]])\n",
    "    plt.show()"
   ]
  },
  {
   "cell_type": "code",
   "execution_count": null,
   "metadata": {},
   "outputs": [],
   "source": []
  },
  {
   "cell_type": "code",
   "execution_count": null,
   "metadata": {},
   "outputs": [],
   "source": [
    "import matplotlib.pylab as plt\n",
    "\n",
    "plt.plot(rewards)"
   ]
  },
  {
   "cell_type": "code",
   "execution_count": null,
   "metadata": {},
   "outputs": [],
   "source": [
    "history.plot_convergence()"
   ]
  },
  {
   "cell_type": "code",
   "execution_count": null,
   "metadata": {},
   "outputs": [],
   "source": [
    "plt.plot([s[1] for s in states[5:len(states)]])"
   ]
  },
  {
   "cell_type": "code",
   "execution_count": null,
   "metadata": {},
   "outputs": [],
   "source": [
    "plt.plot([s[0] for s in states])"
   ]
  },
  {
   "cell_type": "code",
   "execution_count": null,
   "metadata": {},
   "outputs": [],
   "source": [
    "plt.plot(actions)"
   ]
  },
  {
   "cell_type": "code",
   "execution_count": null,
   "metadata": {
    "scrolled": false
   },
   "outputs": [],
   "source": [
    "import SensorOptimizers.BOforBenchmarkFunctions as bo\n",
    "import numpy as np\n",
    "import pickle\n",
    "import Config as cf\n",
    "\n",
    "ws = []\n",
    "H2 = []\n",
    "\n",
    "# for i in range(1, 10):\n",
    "\n",
    "    \n",
    "print('----- Running BO with: \\n \\t - epsilon: ', cf.epsilon, \n",
    "      '\\n \\t - True optimum: \\n', cf.function.get_global_minimum(cf.function.d), \n",
    "      ' \\n \\t - initial state: ', cf.initial_state)\n",
    "\n",
    "for i in range(0, 1):\n",
    "    BO = bo.BayesianOptimization(testbed = cf.testbed,\n",
    "                                 iteration = cf.bo_iteration, \n",
    "                                 initial_state = cf.initial_state,\n",
    "                                 acquisition_function = cf.acquisition_function,\n",
    "                                 surrogate_model = cf.surrogate_model,\n",
    "                                 acq_optimizer_type = cf.acq_optimizer_type)\n",
    "\n",
    "    history, states, actions, rewards = BO.run(RLBO = False)\n",
    "\n",
    "    H2.append({'history': history, \n",
    "              'states': states, \n",
    "              'actions': actions,\n",
    "              'rewards': rewards})\n"
   ]
  },
  {
   "cell_type": "code",
   "execution_count": null,
   "metadata": {
    "scrolled": true
   },
   "outputs": [],
   "source": [
    "import matplotlib.pyplot as plt\n",
    "for h in H:\n",
    "    h['history'].plot_convergence()\n",
    "    print(h['history'])\n",
    "    # plt.show()"
   ]
  },
  {
   "cell_type": "code",
   "execution_count": null,
   "metadata": {},
   "outputs": [],
   "source": [
    "h['history'].perfs"
   ]
  },
  {
   "cell_type": "code",
   "execution_count": null,
   "metadata": {},
   "outputs": [],
   "source": []
  },
  {
   "cell_type": "code",
   "execution_count": null,
   "metadata": {},
   "outputs": [],
   "source": []
  }
 ],
 "metadata": {
  "kernelspec": {
   "display_name": "Python 3 (ipykernel)",
   "language": "python",
   "name": "python3"
  },
  "language_info": {
   "codemirror_mode": {
    "name": "ipython",
    "version": 3
   },
   "file_extension": ".py",
   "mimetype": "text/x-python",
   "name": "python",
   "nbconvert_exporter": "python",
   "pygments_lexer": "ipython3",
   "version": "3.9.12"
  },
  "vscode": {
   "interpreter": {
    "hash": "aee8b7b246df8f9039afb4144a1f6fd8d2ca17a180786b69acc140d282b71a49"
   }
  }
 },
 "nbformat": 4,
 "nbformat_minor": 4
}
