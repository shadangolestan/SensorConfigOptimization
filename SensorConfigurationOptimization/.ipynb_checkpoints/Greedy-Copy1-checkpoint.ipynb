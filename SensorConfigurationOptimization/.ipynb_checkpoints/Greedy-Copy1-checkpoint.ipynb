{
 "cells": [
  {
   "cell_type": "code",
   "execution_count": null,
   "metadata": {
    "scrolled": true
   },
   "outputs": [],
   "source": [
    "\n",
    "sensor_types = {\n",
    "    'model_motion_sensor': True,\n",
    "    'model_beacon_sensor': False,\n",
    "    'model_pressure_sensor': False,\n",
    "    'model_accelerometer': False,\n",
    "    'model_electricity_sensor': False\n",
    "}\n",
    "\n",
    "for sensorNum in [1, 2, 3, 4, 5, 6, 7, 8, 9, 10]:\n",
    "\n",
    "    import SensorOptimizers.Greedy as gr\n",
    "    import numpy as np\n",
    "    import pickle\n",
    "    import Config as cf\n",
    "\n",
    "    maxSensorNum = int(np.min([(cf.space[2][0] / 1) * (cf.space[2][1] / 1), cf.LSsensorsNum]))\n",
    "\n",
    "    print('----- Running BO with: \\n \\t - epsilon: ', cf.epsilon, \n",
    "          '\\n \\t - LS sensors #:', cf.LSsensorsNum, \n",
    "          '\\n \\t - IS sensors #:', cf.ISsensorsNum, \n",
    "          ' \\n \\t - initial state: ', cf.initial_state)\n",
    "\n",
    "    for i in range(0, 5):\n",
    "        history = gr.run(testbed = cf.testbed,\n",
    "                         iteration = cf.iteration, \n",
    "                         epsilon = 1, \n",
    "                         ROS = cf.ROS, \n",
    "                         multi_objective = cf.multi_objective, \n",
    "                         LSmaxSensorNum = cf.maxSensorNum, \n",
    "                         ISmaxSensorNum = sensorNum, \n",
    "                         initial_state = cf.initial_state, \n",
    "                         input_sensor_types = cf.sensor_types)\n",
    "\n",
    "        with open('Results_SA/history(LS' + str(cf.LSsensorsNum) + ')_' + str(i), 'wb') as handle:\n",
    "            pickle.dump(history, handle, protocol=pickle.HIGHEST_PROTOCOL)"
   ]
  }
 ],
 "metadata": {
  "kernelspec": {
   "display_name": "Python 3 (ipykernel)",
   "language": "python",
   "name": "python3"
  },
  "language_info": {
   "codemirror_mode": {
    "name": "ipython",
    "version": 3
   },
   "file_extension": ".py",
   "mimetype": "text/x-python",
   "name": "python",
   "nbconvert_exporter": "python",
   "pygments_lexer": "ipython3",
   "version": "3.9.12"
  },
  "vscode": {
   "interpreter": {
    "hash": "aee8b7b246df8f9039afb4144a1f6fd8d2ca17a180786b69acc140d282b71a49"
   }
  }
 },
 "nbformat": 4,
 "nbformat_minor": 4
}
