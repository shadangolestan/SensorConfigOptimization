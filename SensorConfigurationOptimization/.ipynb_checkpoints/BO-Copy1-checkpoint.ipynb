{
 "cells": [
  {
   "cell_type": "code",
   "execution_count": 1,
   "metadata": {
    "scrolled": false
   },
   "outputs": [
    {
     "name": "stdout",
     "output_type": "stream",
     "text": [
      "----- Running BO with: \n",
      " \t - epsilon:  1 \n",
      " \t - LS sensors #: 7 \n",
      " \t - IS sensors #: 10  \n",
      " \t - initial state:  random\n",
      "Processing Region of Similarity... [COMPLETED]\n",
      "adviser type is default...\n",
      "[INFO] [2023-03-06 18:26:49,123] [Advisor] === [BO auto selection] === acq_optimizer_type: local_random.\n",
      "[Build Surrogate] Use probabilistic random forest based on scikit-learn. For better performance, please install pyrfr: https://open-box.readthedocs.io/en/latest/installation/install_pyrfr.html\n"
     ]
    },
    {
     "name": "stderr",
     "output_type": "stream",
     "text": [
      "  0%|                                                                                         | 0/1000 [00:30<?, ?it/s]\n"
     ]
    },
    {
     "ename": "KeyboardInterrupt",
     "evalue": "",
     "output_type": "error",
     "traceback": [
      "\u001b[1;31m---------------------------------------------------------------------------\u001b[0m",
      "\u001b[1;31mKeyboardInterrupt\u001b[0m                         Traceback (most recent call last)",
      "Input \u001b[1;32mIn [1]\u001b[0m, in \u001b[0;36m<cell line: 40>\u001b[1;34m()\u001b[0m\n\u001b[0;32m     40\u001b[0m \u001b[38;5;28;01mfor\u001b[39;00m i \u001b[38;5;129;01min\u001b[39;00m \u001b[38;5;28mrange\u001b[39m(\u001b[38;5;241m4\u001b[39m, \u001b[38;5;241m5\u001b[39m):\n\u001b[0;32m     41\u001b[0m     BO \u001b[38;5;241m=\u001b[39m bo\u001b[38;5;241m.\u001b[39mBayesianOptimization(testbed \u001b[38;5;241m=\u001b[39m testbed,\n\u001b[0;32m     42\u001b[0m                                  iteration \u001b[38;5;241m=\u001b[39m bo_iteration, \n\u001b[0;32m     43\u001b[0m                                  epsilon \u001b[38;5;241m=\u001b[39m epsilon, \n\u001b[1;32m   (...)\u001b[0m\n\u001b[0;32m     51\u001b[0m                                  acq_optimizer_type \u001b[38;5;241m=\u001b[39m acq_optimizer_type,\n\u001b[0;32m     52\u001b[0m                                  )\n\u001b[1;32m---> 53\u001b[0m     history \u001b[38;5;241m=\u001b[39m \u001b[43mBO\u001b[49m\u001b[38;5;241;43m.\u001b[39;49m\u001b[43mrun\u001b[49m\u001b[43m(\u001b[49m\u001b[43mRLBO\u001b[49m\u001b[43m \u001b[49m\u001b[38;5;241;43m=\u001b[39;49m\u001b[43m \u001b[49m\u001b[38;5;28;43;01mFalse\u001b[39;49;00m\u001b[43m)\u001b[49m\n\u001b[0;32m     55\u001b[0m     \u001b[38;5;28;01mwith\u001b[39;00m \u001b[38;5;28mopen\u001b[39m(\u001b[38;5;124m'\u001b[39m\u001b[38;5;124mResults_BO/history(LS\u001b[39m\u001b[38;5;124m'\u001b[39m \u001b[38;5;241m+\u001b[39m \u001b[38;5;28mstr\u001b[39m(LSsensorsNum) \u001b[38;5;241m+\u001b[39m  \u001b[38;5;124m'\u001b[39m\u001b[38;5;124mIS\u001b[39m\u001b[38;5;124m'\u001b[39m \u001b[38;5;241m+\u001b[39m \u001b[38;5;28mstr\u001b[39m(ISsensorsNum) \u001b[38;5;241m+\u001b[39m \u001b[38;5;124m'\u001b[39m\u001b[38;5;124m)_TFT\u001b[39m\u001b[38;5;124m'\u001b[39m \u001b[38;5;241m+\u001b[39m \u001b[38;5;28mstr\u001b[39m(i), \u001b[38;5;124m'\u001b[39m\u001b[38;5;124mwb\u001b[39m\u001b[38;5;124m'\u001b[39m) \u001b[38;5;28;01mas\u001b[39;00m handle:\n\u001b[0;32m     56\u001b[0m         pickle\u001b[38;5;241m.\u001b[39mdump(history, handle, protocol\u001b[38;5;241m=\u001b[39mpickle\u001b[38;5;241m.\u001b[39mHIGHEST_PROTOCOL)\n",
      "File \u001b[1;32m~\\OneDrive\\Desktop\\RLBO\\Smart-Home-Sensor-Placement-Optimization-main\\SensorConfigurationOptimization\\SensorOptimizers\\BayesianOptimization.py:616\u001b[0m, in \u001b[0;36mBayesianOptimization.run\u001b[1;34m(self, RLBO)\u001b[0m\n\u001b[0;32m    614\u001b[0m     \u001b[38;5;28;01mreturn\u001b[39;00m history, s, a, r\n\u001b[0;32m    615\u001b[0m \u001b[38;5;28;01melse\u001b[39;00m:\n\u001b[1;32m--> 616\u001b[0m     history \u001b[38;5;241m=\u001b[39m \u001b[43mopt\u001b[49m\u001b[38;5;241;43m.\u001b[39;49m\u001b[43mrun\u001b[49m\u001b[43m(\u001b[49m\u001b[43m)\u001b[49m\n\u001b[0;32m    617\u001b[0m     \u001b[38;5;28;01mreturn\u001b[39;00m history\n",
      "File \u001b[1;32m~\\OneDrive\\Desktop\\RLBO\\Smart-Home-Sensor-Placement-Optimization-main\\SensorConfigurationOptimization\\openbox\\optimizer\\generic_smbo.py:431\u001b[0m, in \u001b[0;36mSMBO.run\u001b[1;34m(self)\u001b[0m\n\u001b[0;32m    428\u001b[0m     \u001b[38;5;28;01mbreak\u001b[39;00m\n\u001b[0;32m    429\u001b[0m start_time \u001b[38;5;241m=\u001b[39m time\u001b[38;5;241m.\u001b[39mtime()\n\u001b[1;32m--> 431\u001b[0m \u001b[38;5;28;43mself\u001b[39;49m\u001b[38;5;241;43m.\u001b[39;49m\u001b[43miterate\u001b[49m\u001b[43m(\u001b[49m\u001b[43mbudget_left\u001b[49m\u001b[38;5;241;43m=\u001b[39;49m\u001b[38;5;28;43mself\u001b[39;49m\u001b[38;5;241;43m.\u001b[39;49m\u001b[43mbudget_left\u001b[49m\u001b[43m)\u001b[49m\n\u001b[0;32m    433\u001b[0m runtime \u001b[38;5;241m=\u001b[39m time\u001b[38;5;241m.\u001b[39mtime() \u001b[38;5;241m-\u001b[39m start_time\n\u001b[0;32m    434\u001b[0m \u001b[38;5;28mself\u001b[39m\u001b[38;5;241m.\u001b[39mbudget_left \u001b[38;5;241m-\u001b[39m\u001b[38;5;241m=\u001b[39m runtime\n",
      "File \u001b[1;32m~\\OneDrive\\Desktop\\RLBO\\Smart-Home-Sensor-Placement-Optimization-main\\SensorConfigurationOptimization\\openbox\\optimizer\\generic_smbo.py:459\u001b[0m, in \u001b[0;36mSMBO.iterate\u001b[1;34m(self, budget_left, RLBO, rl_action)\u001b[0m\n\u001b[0;32m    456\u001b[0m \u001b[38;5;28;01mtry\u001b[39;00m:\n\u001b[0;32m    457\u001b[0m     \u001b[38;5;66;03m# evaluate configuration on objective_function within time_limit_per_trial\u001b[39;00m\n\u001b[0;32m    458\u001b[0m     args, kwargs \u001b[38;5;241m=\u001b[39m (config,), \u001b[38;5;28mdict\u001b[39m()\n\u001b[1;32m--> 459\u001b[0m     timeout_status, _result \u001b[38;5;241m=\u001b[39m \u001b[43mtime_limit\u001b[49m\u001b[43m(\u001b[49m\u001b[38;5;28;43mself\u001b[39;49m\u001b[38;5;241;43m.\u001b[39;49m\u001b[43mobjective_function\u001b[49m\u001b[43m,\u001b[49m\n\u001b[0;32m    460\u001b[0m \u001b[43m                                         \u001b[49m\u001b[43m_time_limit_per_trial\u001b[49m\u001b[43m,\u001b[49m\n\u001b[0;32m    461\u001b[0m \u001b[43m                                         \u001b[49m\u001b[43margs\u001b[49m\u001b[38;5;241;43m=\u001b[39;49m\u001b[43margs\u001b[49m\u001b[43m,\u001b[49m\u001b[43m \u001b[49m\u001b[43mkwargs\u001b[49m\u001b[38;5;241;43m=\u001b[39;49m\u001b[43mkwargs\u001b[49m\u001b[43m)\u001b[49m\n\u001b[0;32m    462\u001b[0m     \u001b[38;5;28;01mif\u001b[39;00m timeout_status:\n\u001b[0;32m    463\u001b[0m         \u001b[38;5;28;01mraise\u001b[39;00m TimeoutException(\n\u001b[0;32m    464\u001b[0m             \u001b[38;5;124m'\u001b[39m\u001b[38;5;124mTimeout: time limit for this evaluation is \u001b[39m\u001b[38;5;132;01m%.1f\u001b[39;00m\u001b[38;5;124ms\u001b[39m\u001b[38;5;124m'\u001b[39m \u001b[38;5;241m%\u001b[39m _time_limit_per_trial)\n",
      "File \u001b[1;32m~\\OneDrive\\Desktop\\RLBO\\Smart-Home-Sensor-Placement-Optimization-main\\SensorConfigurationOptimization\\openbox\\utils\\limit.py:81\u001b[0m, in \u001b[0;36mtime_limit\u001b[1;34m(func, time, *args, **kwargs)\u001b[0m\n\u001b[0;32m     78\u001b[0m     kwargs \u001b[38;5;241m=\u001b[39m kwargs[\u001b[38;5;124m'\u001b[39m\u001b[38;5;124mkwargs\u001b[39m\u001b[38;5;124m'\u001b[39m]\n\u001b[0;32m     80\u001b[0m \u001b[38;5;28;01mif\u001b[39;00m _platform \u001b[38;5;241m==\u001b[39m \u001b[38;5;124m'\u001b[39m\u001b[38;5;124mWindows\u001b[39m\u001b[38;5;124m'\u001b[39m:\n\u001b[1;32m---> 81\u001b[0m     \u001b[38;5;28;01mreturn\u001b[39;00m no_time_limit_func(func, time, \u001b[38;5;241m*\u001b[39margs, \u001b[38;5;241m*\u001b[39m\u001b[38;5;241m*\u001b[39mkwargs)\n\u001b[0;32m     83\u001b[0m \u001b[38;5;28;01mif\u001b[39;00m _platform \u001b[38;5;241m==\u001b[39m \u001b[38;5;124m'\u001b[39m\u001b[38;5;124mOSX\u001b[39m\u001b[38;5;124m'\u001b[39m \u001b[38;5;129;01mand\u001b[39;00m sys\u001b[38;5;241m.\u001b[39mversion_info \u001b[38;5;241m>\u001b[39m\u001b[38;5;241m=\u001b[39m (\u001b[38;5;241m3\u001b[39m, \u001b[38;5;241m8\u001b[39m):\n\u001b[0;32m     84\u001b[0m     \u001b[38;5;28;01mreturn\u001b[39;00m no_time_limit_func(func, time, \u001b[38;5;241m*\u001b[39margs, \u001b[38;5;241m*\u001b[39m\u001b[38;5;241m*\u001b[39mkwargs)\n",
      "File \u001b[1;32m~\\OneDrive\\Desktop\\RLBO\\Smart-Home-Sensor-Placement-Optimization-main\\SensorConfigurationOptimization\\openbox\\utils\\limit.py:70\u001b[0m, in \u001b[0;36mno_time_limit_func\u001b[1;34m(objective_function, time, *args, **kwargs)\u001b[0m\n\u001b[0;32m     69\u001b[0m \u001b[38;5;28;01mdef\u001b[39;00m \u001b[38;5;21mno_time_limit_func\u001b[39m(objective_function, time, \u001b[38;5;241m*\u001b[39margs, \u001b[38;5;241m*\u001b[39m\u001b[38;5;241m*\u001b[39mkwargs):\n\u001b[1;32m---> 70\u001b[0m     ret \u001b[38;5;241m=\u001b[39m objective_function(\u001b[38;5;241m*\u001b[39margs, \u001b[38;5;241m*\u001b[39m\u001b[38;5;241m*\u001b[39mkwargs)\n\u001b[0;32m     71\u001b[0m     \u001b[38;5;28;01mreturn\u001b[39;00m Returns(timeout_status\u001b[38;5;241m=\u001b[39m\u001b[38;5;28;01mFalse\u001b[39;00m, results\u001b[38;5;241m=\u001b[39mret)\n",
      "File \u001b[1;32m~\\OneDrive\\Desktop\\RLBO\\Smart-Home-Sensor-Placement-Optimization-main\\SensorConfigurationOptimization\\SensorOptimizers\\BayesianOptimization.py:503\u001b[0m, in \u001b[0;36mBayesianOptimization.function_to_be_optimized\u001b[1;34m(self, config)\u001b[0m\n\u001b[0;32m    499\u001b[0m         sensorTypes\u001b[38;5;241m.\u001b[39mappend(config[\u001b[38;5;124m'\u001b[39m\u001b[38;5;124mis_t\u001b[39m\u001b[38;5;124m'\u001b[39m \u001b[38;5;241m+\u001b[39m \u001b[38;5;28mstr\u001b[39m(i)])\n\u001b[0;32m    501\u001b[0m data \u001b[38;5;241m=\u001b[39m Data(sensorPositions, sensorTypes, \u001b[38;5;28mself\u001b[39m\u001b[38;5;241m.\u001b[39mBOV\u001b[38;5;241m.\u001b[39mspace, \u001b[38;5;28mself\u001b[39m\u001b[38;5;241m.\u001b[39mCONSTANTS[\u001b[38;5;124m'\u001b[39m\u001b[38;5;124mepsilon\u001b[39m\u001b[38;5;124m'\u001b[39m])\n\u001b[1;32m--> 503\u001b[0m \u001b[38;5;28;01mreturn\u001b[39;00m \u001b[38;5;241m100\u001b[39m \u001b[38;5;241m-\u001b[39m \u001b[38;5;28;43mself\u001b[39;49m\u001b[38;5;241;43m.\u001b[39;49m\u001b[43mblack_box_function\u001b[49m\u001b[43m(\u001b[49m\u001b[43mdata\u001b[49m\u001b[43m,\u001b[49m\u001b[43m \u001b[49m\n\u001b[0;32m    504\u001b[0m \u001b[43m                                     \u001b[49m\u001b[43msimulateMotionSensors\u001b[49m\u001b[43m \u001b[49m\u001b[38;5;241;43m=\u001b[39;49m\u001b[43m \u001b[49m\u001b[38;5;28;43mself\u001b[39;49m\u001b[38;5;241;43m.\u001b[39;49m\u001b[43msensor_types\u001b[49m\u001b[43m[\u001b[49m\u001b[38;5;124;43m'\u001b[39;49m\u001b[38;5;124;43mmodel_motion_sensor\u001b[39;49m\u001b[38;5;124;43m'\u001b[39;49m\u001b[43m]\u001b[49m\u001b[43m,\u001b[49m\n\u001b[0;32m    505\u001b[0m \u001b[43m                                     \u001b[49m\u001b[43msimulateEstimotes\u001b[49m\u001b[43m \u001b[49m\u001b[38;5;241;43m=\u001b[39;49m\u001b[43m \u001b[49m\u001b[38;5;28;43mself\u001b[39;49m\u001b[38;5;241;43m.\u001b[39;49m\u001b[43msensor_types\u001b[49m\u001b[43m[\u001b[49m\u001b[38;5;124;43m'\u001b[39;49m\u001b[38;5;124;43mmodel_beacon_sensor\u001b[39;49m\u001b[38;5;124;43m'\u001b[39;49m\u001b[43m]\u001b[49m\u001b[43m,\u001b[49m\n\u001b[0;32m    506\u001b[0m \u001b[43m                                     \u001b[49m\u001b[43msimulateIS\u001b[49m\u001b[43m \u001b[49m\u001b[38;5;241;43m=\u001b[39;49m\u001b[43m \u001b[49m\u001b[43m(\u001b[49m\u001b[38;5;28;43mself\u001b[39;49m\u001b[38;5;241;43m.\u001b[39;49m\u001b[43msensor_types\u001b[49m\u001b[43m[\u001b[49m\u001b[38;5;124;43m'\u001b[39;49m\u001b[38;5;124;43mmodel_pressure_sensor\u001b[39;49m\u001b[38;5;124;43m'\u001b[39;49m\u001b[43m]\u001b[49m\u001b[43m \u001b[49m\u001b[38;5;129;43;01mand\u001b[39;49;00m\n\u001b[0;32m    507\u001b[0m \u001b[43m                                                   \u001b[49m\u001b[38;5;28;43mself\u001b[39;49m\u001b[38;5;241;43m.\u001b[39;49m\u001b[43msensor_types\u001b[49m\u001b[43m[\u001b[49m\u001b[38;5;124;43m'\u001b[39;49m\u001b[38;5;124;43mmodel_accelerometer\u001b[39;49m\u001b[38;5;124;43m'\u001b[39;49m\u001b[43m]\u001b[49m\u001b[43m \u001b[49m\u001b[38;5;129;43;01mand\u001b[39;49;00m\n\u001b[0;32m    508\u001b[0m \u001b[43m                                                   \u001b[49m\u001b[38;5;28;43mself\u001b[39;49m\u001b[38;5;241;43m.\u001b[39;49m\u001b[43msensor_types\u001b[49m\u001b[43m[\u001b[49m\u001b[38;5;124;43m'\u001b[39;49m\u001b[38;5;124;43mmodel_electricity_sensor\u001b[39;49m\u001b[38;5;124;43m'\u001b[39;49m\u001b[43m]\u001b[49m\u001b[43m)\u001b[49m\u001b[43m)\u001b[49m\n",
      "File \u001b[1;32m~\\OneDrive\\Desktop\\RLBO\\Smart-Home-Sensor-Placement-Optimization-main\\SensorConfigurationOptimization\\SensorOptimizers\\BayesianOptimization.py:264\u001b[0m, in \u001b[0;36mBayesianOptimization.black_box_function\u001b[1;34m(self, sample, simulateMotionSensors, simulateEstimotes, simulateIS, Plotting)\u001b[0m\n\u001b[0;32m    261\u001b[0m all_sensors \u001b[38;5;241m=\u001b[39m \u001b[38;5;28mset\u001b[39m([])\n\u001b[0;32m    263\u001b[0m \u001b[38;5;28;01mfor\u001b[39;00m agentTrace \u001b[38;5;129;01min\u001b[39;00m \u001b[38;5;28mself\u001b[39m\u001b[38;5;241m.\u001b[39mBOV\u001b[38;5;241m.\u001b[39magentTraces:\n\u001b[1;32m--> 264\u001b[0m     df_ \u001b[38;5;241m=\u001b[39m \u001b[43msim_sis\u001b[49m\u001b[38;5;241;43m.\u001b[39;49m\u001b[43mRunSimulator\u001b[49m\u001b[43m(\u001b[49m\u001b[38;5;28;43mself\u001b[39;49m\u001b[38;5;241;43m.\u001b[39;49m\u001b[43mBOV\u001b[49m\u001b[38;5;241;43m.\u001b[39;49m\u001b[43mspace\u001b[49m\u001b[43m,\u001b[49m\u001b[43m \u001b[49m\n\u001b[0;32m    265\u001b[0m \u001b[43m                               \u001b[49m\u001b[38;5;28;43mself\u001b[39;49m\u001b[38;5;241;43m.\u001b[39;49m\u001b[43mBOV\u001b[49m\u001b[38;5;241;43m.\u001b[39;49m\u001b[43mrooms\u001b[49m\u001b[43m,\u001b[49m\u001b[43m \u001b[49m\n\u001b[0;32m    266\u001b[0m \u001b[43m                               \u001b[49m\u001b[43magentTrace\u001b[49m\u001b[43m,\u001b[49m\n\u001b[0;32m    267\u001b[0m \u001b[43m                               \u001b[49m\u001b[43msample\u001b[49m\u001b[38;5;241;43m.\u001b[39;49m\u001b[43mGetSensorConfiguration\u001b[49m\u001b[43m(\u001b[49m\u001b[43m)\u001b[49m\u001b[43m,\u001b[49m\u001b[43m \u001b[49m\n\u001b[0;32m    268\u001b[0m \u001b[43m                               \u001b[49m\u001b[43msimulateMotionSensors\u001b[49m\u001b[43m,\u001b[49m\u001b[43m \u001b[49m\n\u001b[0;32m    269\u001b[0m \u001b[43m                               \u001b[49m\u001b[43msimulateEstimotes\u001b[49m\u001b[43m,\u001b[49m\n\u001b[0;32m    270\u001b[0m \u001b[43m                               \u001b[49m\u001b[43msimulateIS\u001b[49m\u001b[43m,\u001b[49m\n\u001b[0;32m    271\u001b[0m \u001b[43m                               \u001b[49m\u001b[43mPlotting\u001b[49m\u001b[43m,\u001b[49m\u001b[43m \u001b[49m\n\u001b[0;32m    272\u001b[0m \u001b[43m                               \u001b[49m\u001b[38;5;28;43mself\u001b[39;49m\u001b[38;5;241;43m.\u001b[39;49m\u001b[43mBOV\u001b[49m\u001b[38;5;241;43m.\u001b[39;49m\u001b[43mData_path\u001b[49m\u001b[43m)\u001b[49m\n\u001b[0;32m    274\u001b[0m     dataFile, sensors \u001b[38;5;241m=\u001b[39m \u001b[38;5;28mself\u001b[39m\u001b[38;5;241m.\u001b[39mPreProcessor(df_)\n\u001b[0;32m    275\u001b[0m     all_sensors\u001b[38;5;241m.\u001b[39mupdate(sensors)\n",
      "File \u001b[1;32m~\\OneDrive\\Desktop\\RLBO\\Smart-Home-Sensor-Placement-Optimization-main\\SensorConfigurationOptimization\\SIM_SIS_Libraries\\SIM_SIS_Simulator.py:537\u001b[0m, in \u001b[0;36mRunSimulator\u001b[1;34m(space, Rooms, agentTrace, sensorsConfiguration, simulateMotionSensorsflag, simulateEstimotesflag, simulateIS, plottingflag, Data_path)\u001b[0m\n\u001b[0;32m    534\u001b[0m     \u001b[38;5;28;01mif\u001b[39;00m (plotflag):\n\u001b[0;32m    535\u001b[0m         fig, ax \u001b[38;5;241m=\u001b[39m plt\u001b[38;5;241m.\u001b[39msubplots(figsize \u001b[38;5;241m=\u001b[39m (\u001b[38;5;241m8.5\u001b[39m, \u001b[38;5;241m8.5\u001b[39m))\n\u001b[1;32m--> 537\u001b[0m     \u001b[43mRunSimulation\u001b[49m\u001b[43m(\u001b[49m\u001b[43mFDN\u001b[49m\u001b[43m,\u001b[49m\u001b[43m \u001b[49m\u001b[43msimulateMotionSensors\u001b[49m\u001b[43m,\u001b[49m\u001b[43m \u001b[49m\u001b[43msimulateEstimotes\u001b[49m\u001b[43m,\u001b[49m\u001b[43m \u001b[49m\u001b[43msimulateISSensors\u001b[49m\u001b[43m)\u001b[49m\n\u001b[0;32m    539\u001b[0m CreateUltimateDataset(UDN, Epoch)\n\u001b[0;32m    541\u001b[0m \u001b[38;5;28;01mreturn\u001b[39;00m df_\n",
      "File \u001b[1;32m~\\OneDrive\\Desktop\\RLBO\\Smart-Home-Sensor-Placement-Optimization-main\\SensorConfigurationOptimization\\SIM_SIS_Libraries\\SIM_SIS_Simulator.py:422\u001b[0m, in \u001b[0;36mRunSimulation\u001b[1;34m(FDN, simulateMotionSensors, simulateEstimotes, simulateISSensors)\u001b[0m\n\u001b[0;32m    418\u001b[0m agent1Loc_previous \u001b[38;5;241m=\u001b[39m [\u001b[38;5;241m0\u001b[39m, \u001b[38;5;241m0\u001b[39m]\n\u001b[0;32m    420\u001b[0m timetoadd \u001b[38;5;241m=\u001b[39m df_\u001b[38;5;241m.\u001b[39mtime[i]\n\u001b[1;32m--> 422\u001b[0m \u001b[43mSimulateSensorReadings\u001b[49m\u001b[43m(\u001b[49m\u001b[43msimulateMotionSensors\u001b[49m\u001b[43m,\u001b[49m\u001b[43m \u001b[49m\u001b[43msimulateEstimotes\u001b[49m\u001b[43m,\u001b[49m\u001b[43m \u001b[49m\u001b[43msimulateISSensors\u001b[49m\u001b[43m,\u001b[49m\u001b[43m \u001b[49m\u001b[43mtimetoadd\u001b[49m\u001b[43m,\u001b[49m\u001b[43m \u001b[49m\u001b[43mi\u001b[49m\u001b[43m,\u001b[49m\u001b[43m \u001b[49m\u001b[43magent1Loc\u001b[49m\u001b[43m,\u001b[49m\u001b[43m \u001b[49m\u001b[43maction\u001b[49m\u001b[43m,\u001b[49m\u001b[43m  \u001b[49m\u001b[38;5;28;43;01mNone\u001b[39;49;00m\u001b[43m)\u001b[49m\n",
      "File \u001b[1;32m~\\OneDrive\\Desktop\\RLBO\\Smart-Home-Sensor-Placement-Optimization-main\\SensorConfigurationOptimization\\SIM_SIS_Libraries\\SIM_SIS_Simulator.py:312\u001b[0m, in \u001b[0;36mSimulateSensorReadings\u001b[1;34m(simulateMotionSensors, simulateEstimotes, simulateISSensors, t, i, agent1Loc, action, agent2Loc)\u001b[0m\n\u001b[0;32m    308\u001b[0m     pp \u001b[38;5;241m=\u001b[39m ax\u001b[38;5;241m.\u001b[39mplot(\u001b[38;5;28mfloat\u001b[39m(sensor\u001b[38;5;241m.\u001b[39mx) \u001b[38;5;241m/\u001b[39m \u001b[38;5;241m100\u001b[39m, \u001b[38;5;28mfloat\u001b[39m(sensor\u001b[38;5;241m.\u001b[39my) \u001b[38;5;241m/\u001b[39m \u001b[38;5;241m100\u001b[39m , marker\u001b[38;5;241m=\u001b[39m\u001b[38;5;124m'\u001b[39m\u001b[38;5;124m.\u001b[39m\u001b[38;5;124m'\u001b[39m, color\u001b[38;5;241m=\u001b[39m\u001b[38;5;124m'\u001b[39m\u001b[38;5;124mk\u001b[39m\u001b[38;5;124m'\u001b[39m, lw\u001b[38;5;241m=\u001b[39m\u001b[38;5;241m5\u001b[39m)\n\u001b[0;32m    310\u001b[0m circ \u001b[38;5;241m=\u001b[39m Circle((\u001b[38;5;28mfloat\u001b[39m(\u001b[38;5;28mfloat\u001b[39m(sensor\u001b[38;5;241m.\u001b[39mx) \u001b[38;5;241m/\u001b[39m \u001b[38;5;241m100\u001b[39m), \u001b[38;5;28mfloat\u001b[39m(\u001b[38;5;28mfloat\u001b[39m(sensor\u001b[38;5;241m.\u001b[39my) \u001b[38;5;241m/\u001b[39m \u001b[38;5;241m100\u001b[39m)), \u001b[38;5;28mfloat\u001b[39m(\u001b[38;5;28mfloat\u001b[39m(sensor\u001b[38;5;241m.\u001b[39msensing_area) \u001b[38;5;241m/\u001b[39m \u001b[38;5;241m100\u001b[39m))\n\u001b[1;32m--> 312\u001b[0m \u001b[38;5;28;01mif\u001b[39;00m (\u001b[43mcirc\u001b[49m\u001b[38;5;241;43m.\u001b[39;49m\u001b[43mcontains_point\u001b[49m\u001b[43m(\u001b[49m\u001b[43m[\u001b[49m\u001b[43magent1Loc\u001b[49m\u001b[43m[\u001b[49m\u001b[38;5;241;43m0\u001b[39;49m\u001b[43m]\u001b[49m\u001b[43m,\u001b[49m\u001b[43m \u001b[49m\u001b[43magent1Loc\u001b[49m\u001b[43m[\u001b[49m\u001b[38;5;241;43m1\u001b[39;49m\u001b[43m]\u001b[49m\u001b[43m]\u001b[49m\u001b[43m)\u001b[49m \u001b[38;5;129;01mand\u001b[39;00m (RecContains(agent1Loc[\u001b[38;5;241m0\u001b[39m], agent1Loc[\u001b[38;5;241m1\u001b[39m], sensor\u001b[38;5;241m.\u001b[39mroom))):\n\u001b[0;32m    313\u001b[0m     no_event_flag \u001b[38;5;241m=\u001b[39m \u001b[38;5;241m0\u001b[39m\n\u001b[0;32m    314\u001b[0m     event \u001b[38;5;241m=\u001b[39m ec\u001b[38;5;241m.\u001b[39mEvent()\n",
      "File \u001b[1;32m~\\anaconda3\\lib\\site-packages\\matplotlib\\patches.py:217\u001b[0m, in \u001b[0;36mPatch.contains_point\u001b[1;34m(self, point, radius)\u001b[0m\n\u001b[0;32m    172\u001b[0m \u001b[38;5;124;03m\"\"\"\u001b[39;00m\n\u001b[0;32m    173\u001b[0m \u001b[38;5;124;03mReturn whether the given point is inside the patch.\u001b[39;00m\n\u001b[0;32m    174\u001b[0m \n\u001b[1;32m   (...)\u001b[0m\n\u001b[0;32m    214\u001b[0m \n\u001b[0;32m    215\u001b[0m \u001b[38;5;124;03m\"\"\"\u001b[39;00m\n\u001b[0;32m    216\u001b[0m radius \u001b[38;5;241m=\u001b[39m \u001b[38;5;28mself\u001b[39m\u001b[38;5;241m.\u001b[39m_process_radius(radius)\n\u001b[1;32m--> 217\u001b[0m \u001b[38;5;28;01mreturn\u001b[39;00m \u001b[38;5;28;43mself\u001b[39;49m\u001b[38;5;241;43m.\u001b[39;49m\u001b[43mget_path\u001b[49m\u001b[43m(\u001b[49m\u001b[43m)\u001b[49m\u001b[38;5;241;43m.\u001b[39;49m\u001b[43mcontains_point\u001b[49m\u001b[43m(\u001b[49m\u001b[43mpoint\u001b[49m\u001b[43m,\u001b[49m\n\u001b[0;32m    218\u001b[0m \u001b[43m                                      \u001b[49m\u001b[38;5;28;43mself\u001b[39;49m\u001b[38;5;241;43m.\u001b[39;49m\u001b[43mget_transform\u001b[49m\u001b[43m(\u001b[49m\u001b[43m)\u001b[49m\u001b[43m,\u001b[49m\n\u001b[0;32m    219\u001b[0m \u001b[43m                                      \u001b[49m\u001b[43mradius\u001b[49m\u001b[43m)\u001b[49m\n",
      "File \u001b[1;32m~\\anaconda3\\lib\\site-packages\\matplotlib\\path.py:531\u001b[0m, in \u001b[0;36mPath.contains_point\u001b[1;34m(self, point, transform, radius)\u001b[0m\n\u001b[0;32m    492\u001b[0m \u001b[38;5;124;03m\"\"\"\u001b[39;00m\n\u001b[0;32m    493\u001b[0m \u001b[38;5;124;03mReturn whether the area enclosed by the path contains the given point.\u001b[39;00m\n\u001b[0;32m    494\u001b[0m \n\u001b[1;32m   (...)\u001b[0m\n\u001b[0;32m    528\u001b[0m \u001b[38;5;124;03m  the result is not guaranteed to be correct.\u001b[39;00m\n\u001b[0;32m    529\u001b[0m \u001b[38;5;124;03m\"\"\"\u001b[39;00m\n\u001b[0;32m    530\u001b[0m \u001b[38;5;28;01mif\u001b[39;00m transform \u001b[38;5;129;01mis\u001b[39;00m \u001b[38;5;129;01mnot\u001b[39;00m \u001b[38;5;28;01mNone\u001b[39;00m:\n\u001b[1;32m--> 531\u001b[0m     transform \u001b[38;5;241m=\u001b[39m \u001b[43mtransform\u001b[49m\u001b[38;5;241;43m.\u001b[39;49m\u001b[43mfrozen\u001b[49m\u001b[43m(\u001b[49m\u001b[43m)\u001b[49m\n\u001b[0;32m    532\u001b[0m \u001b[38;5;66;03m# `point_in_path` does not handle nonlinear transforms, so we\u001b[39;00m\n\u001b[0;32m    533\u001b[0m \u001b[38;5;66;03m# transform the path ourselves.  If *transform* is affine, letting\u001b[39;00m\n\u001b[0;32m    534\u001b[0m \u001b[38;5;66;03m# `point_in_path` handle the transform avoids allocating an extra\u001b[39;00m\n\u001b[0;32m    535\u001b[0m \u001b[38;5;66;03m# buffer.\u001b[39;00m\n\u001b[0;32m    536\u001b[0m \u001b[38;5;28;01mif\u001b[39;00m transform \u001b[38;5;129;01mand\u001b[39;00m \u001b[38;5;129;01mnot\u001b[39;00m transform\u001b[38;5;241m.\u001b[39mis_affine:\n",
      "File \u001b[1;32m~\\anaconda3\\lib\\site-packages\\matplotlib\\transforms.py:1848\u001b[0m, in \u001b[0;36mAffine2DBase.frozen\u001b[1;34m(self)\u001b[0m\n\u001b[0;32m   1846\u001b[0m \u001b[38;5;28;01mdef\u001b[39;00m \u001b[38;5;21mfrozen\u001b[39m(\u001b[38;5;28mself\u001b[39m):\n\u001b[0;32m   1847\u001b[0m     \u001b[38;5;66;03m# docstring inherited\u001b[39;00m\n\u001b[1;32m-> 1848\u001b[0m     \u001b[38;5;28;01mreturn\u001b[39;00m \u001b[43mAffine2D\u001b[49m\u001b[43m(\u001b[49m\u001b[38;5;28;43mself\u001b[39;49m\u001b[38;5;241;43m.\u001b[39;49m\u001b[43mget_matrix\u001b[49m\u001b[43m(\u001b[49m\u001b[43m)\u001b[49m\u001b[38;5;241;43m.\u001b[39;49m\u001b[43mcopy\u001b[49m\u001b[43m(\u001b[49m\u001b[43m)\u001b[49m\u001b[43m)\u001b[49m\n",
      "File \u001b[1;32m~\\anaconda3\\lib\\site-packages\\matplotlib\\transforms.py:1914\u001b[0m, in \u001b[0;36mAffine2D.__init__\u001b[1;34m(self, matrix, **kwargs)\u001b[0m\n\u001b[0;32m   1911\u001b[0m \u001b[38;5;28;01mif\u001b[39;00m matrix \u001b[38;5;129;01mis\u001b[39;00m \u001b[38;5;28;01mNone\u001b[39;00m:\n\u001b[0;32m   1912\u001b[0m     \u001b[38;5;66;03m# A bit faster than np.identity(3).\u001b[39;00m\n\u001b[0;32m   1913\u001b[0m     matrix \u001b[38;5;241m=\u001b[39m IdentityTransform\u001b[38;5;241m.\u001b[39m_mtx\u001b[38;5;241m.\u001b[39mcopy()\n\u001b[1;32m-> 1914\u001b[0m \u001b[38;5;28mself\u001b[39m\u001b[38;5;241m.\u001b[39m_mtx \u001b[38;5;241m=\u001b[39m \u001b[43mmatrix\u001b[49m\u001b[38;5;241;43m.\u001b[39;49m\u001b[43mcopy\u001b[49m\u001b[43m(\u001b[49m\u001b[43m)\u001b[49m\n\u001b[0;32m   1915\u001b[0m \u001b[38;5;28mself\u001b[39m\u001b[38;5;241m.\u001b[39m_invalid \u001b[38;5;241m=\u001b[39m \u001b[38;5;241m0\u001b[39m\n",
      "\u001b[1;31mKeyboardInterrupt\u001b[0m: "
     ]
    }
   ],
   "source": [
    "import SensorOptimizers.BayesianOptimization as bo\n",
    "import numpy as np\n",
    "import pickle\n",
    "import Config as cf\n",
    "\n",
    "#----- BO Parameters:\n",
    "acquisition_function = 'ei'\n",
    "acq_optimizer_type = 'auto'\n",
    "surrogate_model = 'prf'\n",
    "ROS = True\n",
    "error = 0.0\n",
    "multi_objective = False\n",
    "LSsensorsNum = 7\n",
    "ISsensorsNum = 6\n",
    "initial_state = 'random'\n",
    "bo_iteration = 1000\n",
    "RLBO = True\n",
    "\n",
    "#----- Experiment Parameters:\n",
    "testbed = 'Testbed1/'\n",
    "radius = 1\n",
    "epsilon = 0.5\n",
    "\n",
    "sensor_types = {\n",
    "    'model_motion_sensor': True,\n",
    "    'model_beacon_sensor': False,\n",
    "    'model_pressure_sensor': True,\n",
    "    'model_accelerometer': False,\n",
    "    'model_electricity_sensor': True\n",
    "}\n",
    "\n",
    "\n",
    "maxSensorNum = int(np.min([(cf.space[2][0] / epsilon) * (cf.space[2][1] / epsilon), LSsensorsNum]))\n",
    "\n",
    "print('----- Running BO with: \\n \\t - epsilon: ', epsilon, \n",
    "      '\\n \\t - LS sensors #:', LSsensorsNum, \n",
    "      '\\n \\t - IS sensors #:', ISsensorsNum, \n",
    "      ' \\n \\t - initial state: ', initial_state)\n",
    "\n",
    "for i in range(0, 5):\n",
    "    BO = bo.BayesianOptimization(testbed = testbed,\n",
    "                                 iteration = bo_iteration, \n",
    "                                 epsilon = epsilon, \n",
    "                                 error = error,\n",
    "                                 ROS = True, \n",
    "                                 LSmaxSensorNum = maxSensorNum,\n",
    "                                 ISmaxSensorNum = ISsensorsNum, \n",
    "                                 initial_state = initial_state,\n",
    "                                 input_sensor_types = sensor_types,\n",
    "                                 acquisition_function = acquisition_function,\n",
    "                                 acq_optimizer_type = acq_optimizer_type,\n",
    "                                 )\n",
    "    history = BO.run(RLBO = False)\n",
    "\n",
    "    with open('Results_BO/history(LS' + str(LSsensorsNum) +  'IS' + str(ISsensorsNum) + ')_TFT' + str(i), 'wb') as handle:\n",
    "        pickle.dump(history, handle, protocol=pickle.HIGHEST_PROTOCOL)\n",
    "            \n",
    "    print(history)"
   ]
  },
  {
   "cell_type": "code",
   "execution_count": null,
   "metadata": {},
   "outputs": [],
   "source": []
  }
 ],
 "metadata": {
  "kernelspec": {
   "display_name": "Python 3 (ipykernel)",
   "language": "python",
   "name": "python3"
  },
  "language_info": {
   "codemirror_mode": {
    "name": "ipython",
    "version": 3
   },
   "file_extension": ".py",
   "mimetype": "text/x-python",
   "name": "python",
   "nbconvert_exporter": "python",
   "pygments_lexer": "ipython3",
   "version": "3.9.12"
  },
  "vscode": {
   "interpreter": {
    "hash": "aee8b7b246df8f9039afb4144a1f6fd8d2ca17a180786b69acc140d282b71a49"
   }
  }
 },
 "nbformat": 4,
 "nbformat_minor": 4
}
