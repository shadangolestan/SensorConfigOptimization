{
 "cells": [
  {
   "cell_type": "code",
   "execution_count": null,
   "metadata": {},
   "outputs": [],
   "source": [
    "import SensorOptimizers.BayesianOptimization as bo\n",
    "import numpy as np\n",
    "import pickle\n",
    "import Config as cf\n",
    "\n",
    "maxSensorNum = int(np.min([(cf.space[2][0] / cf.epsilon) * (cf.space[2][1] / cf.epsilon), cf.LSsensorsNum]))\n",
    "\n",
    "\n",
    "print('----- Running BO with: \\n \\t - epsilon: ', cf.epsilon, \n",
    "      '\\n \\t - testbed: ', cf.testbed,\n",
    "      '\\n \\t - LS sensors #: ', cf.LSsensorsNum, \n",
    "      '\\n \\t - IS sensors #: ', cf.ISsensorsNum, \n",
    "      '\\n \\t - initial state: ', cf.initial_state,\n",
    "      '\\n \\t - gradient analysis: ', cf.gradient_fantacy,\n",
    "      ' \\n \\t - AF: ', cf.acquisition_function)\n",
    "\n",
    "for i in range(0, 1):\n",
    "    BO = bo.BayesianOptimization(testbed = cf.testbed,\n",
    "                                 iteration = cf.bo_iteration, \n",
    "                                 epsilon = cf.epsilon, \n",
    "                                 error = cf.error,\n",
    "                                 ROS = True, \n",
    "                                 LSmaxSensorNum = maxSensorNum,\n",
    "                                 ISmaxSensorNum = cf.ISsensorsNum, \n",
    "                                 initial_state = cf.initial_state,\n",
    "                                 input_sensor_types = cf.sensor_types,\n",
    "                                 acquisition_function = cf.acquisition_function,\n",
    "                                 surrogate_model = cf.surrogate_model,\n",
    "                                 acq_optimizer_type = cf.acq_optimizer_type)\n",
    "\n",
    "    history = BO.run()\n",
    "\n",
    "    with open('Results_BO/history(LS' + str(cf.LSsensorsNum) +  'IS' + str(cf.ISsensorsNum) + ')_' + str(i), 'wb') as handle:\n",
    "        pickle.dump(history, handle, protocol=pickle.HIGHEST_PROTOCOL)\n",
    "            \n",
    "    print(history)\n",
    "\n",
    "    print('-' * 50)\n",
    "\n",
    "    try:\n",
    "        print(cf.std_list[history.get_best_config()])\n",
    "\n",
    "    except:\n",
    "        print('The configuration was not saved!')"
   ]
  },
  {
   "cell_type": "code",
   "execution_count": null,
   "metadata": {},
   "outputs": [],
   "source": [
    "A = {(1, 6): 54.72503667035234, (4, 4): 63.116526304289735, (7, 5): 64.23860849102844, (7, 2): 72.5536111619651, (1, 3): 74.47339313024378, (4, 1): 82.24260383675968, (4, 7): 90.89607606016276, (0, 0): 100}"
   ]
  },
  {
   "cell_type": "code",
   "execution_count": null,
   "metadata": {},
   "outputs": [],
   "source": [
    "import numpy as np\n",
    "import matplotlib.pyplot as plt\n",
    "\n",
    "x = np.linspace(0, 10, 1000)  # Generating x values from 0 to 10\n",
    "e = np.e  # Euler's number (approximately 2.71828)\n",
    "y = 0.5 * np.log10(x) + 2  # Applying the natural logarithm to x + e\n",
    "\n",
    "plt.plot(x, y)\n",
    "plt.xlabel('x')\n",
    "plt.ylabel('ln(x + e)')\n",
    "plt.title('Plot of ln(x + e)')\n",
    "plt.grid(True)\n",
    "plt.show()"
   ]
  },
  {
   "cell_type": "code",
   "execution_count": null,
   "metadata": {},
   "outputs": [],
   "source": [
    "import numpy as np\n",
    "import matplotlib.pyplot as plt\n",
    "\n",
    "x = np.linspace(0, 20, 1000)  # Generating x values from 0 to 10\n",
    "e = np.e  # Euler's number (approximately 2.71828)\n",
    "# y = 0.5 * (1 + np.log(x + e))  # Applying the natural logarithm to x + e\n",
    "\n",
    "y =  2 / (1 + (e**(-x)))\n",
    "\n",
    "plt.plot(x, y)\n",
    "plt.xlabel('x')\n",
    "plt.ylabel('ln(x + e)')\n",
    "plt.grid(True)\n",
    "plt.show()"
   ]
  },
  {
   "cell_type": "code",
   "execution_count": null,
   "metadata": {},
   "outputs": [],
   "source": [
    "import numpy as np\n",
    "import matplotlib.pyplot as plt\n",
    "\n",
    "def plot_modified_function():\n",
    "    x = np.linspace(0, 10, 1000)  # Generating x values from 0 to 10\n",
    "    e = np.e  # Euler's number (approximately 2.71828)\n",
    "    y = 1 / (np.log(x + e))  # Applying the transformation to x + e\n",
    "\n",
    "    plt.plot(x, y)\n",
    "    plt.xlabel('x')\n",
    "    plt.ylabel('Modified y')\n",
    "    plt.title('Plot of Modified Function')\n",
    "    plt.grid(True)\n",
    "    plt.show()\n",
    "\n",
    "plot_modified_function()"
   ]
  },
  {
   "cell_type": "code",
   "execution_count": null,
   "metadata": {},
   "outputs": [],
   "source": []
  },
  {
   "cell_type": "code",
   "execution_count": null,
   "metadata": {
    "scrolled": false
   },
   "outputs": [],
   "source": [
    "import SensorOptimizers.BayesianOptimization as bo\n",
    "import numpy as np\n",
    "import pickle\n",
    "import Config as cf\n",
    "\n",
    "maxSensorNum = int(np.min([(cf.space[2][0] / cf.epsilon) * (cf.space[2][1] / cf.epsilon), cf.LSsensorsNum]))\n",
    "\n",
    "\n",
    "print('----- Running BO with: \\n \\t - epsilon: ', cf.epsilon, \n",
    "      '\\n \\t - testbed: ', cf.testbed,\n",
    "      '\\n \\t - LS sensors #: ', cf.LSsensorsNum, \n",
    "      '\\n \\t - IS sensors #: ', cf.ISsensorsNum, \n",
    "      '\\n \\t - initial state: ', cf.initial_state,\n",
    "      '\\n \\t - gradient analysis: ', cf.gradient_fantacy,\n",
    "      ' \\n \\t - AF: ', cf.acquisition_function)\n",
    "\n",
    "for i in range(0, 1):\n",
    "    BO = bo.BayesianOptimization(testbed = cf.testbed,\n",
    "                                 iteration = cf.bo_iteration, \n",
    "                                 epsilon = cf.epsilon, \n",
    "                                 error = cf.error,\n",
    "                                 ROS = True, \n",
    "                                 LSmaxSensorNum = maxSensorNum,\n",
    "                                 ISmaxSensorNum = cf.ISsensorsNum, \n",
    "                                 initial_state = cf.initial_state,\n",
    "                                 input_sensor_types = cf.sensor_types,\n",
    "                                 acquisition_function = cf.acquisition_function,\n",
    "                                 surrogate_model = cf.surrogate_model,\n",
    "                                 acq_optimizer_type = cf.acq_optimizer_type)\n",
    "\n",
    "    history = BO.run()\n",
    "\n",
    "    with open('Results_BO/history(LS' + str(cf.LSsensorsNum) +  'IS' + str(cf.ISsensorsNum) + ')_' + str(i), 'wb') as handle:\n",
    "        pickle.dump(history, handle, protocol=pickle.HIGHEST_PROTOCOL)\n",
    "            \n",
    "    print(history)"
   ]
  },
  {
   "cell_type": "code",
   "execution_count": null,
   "metadata": {},
   "outputs": [],
   "source": [
    "import numpy as np\n",
    "import matplotlib.pyplot as plt\n",
    "\n",
    "# Create a sample 2D matrix\n",
    "matrix = np.random.rand(10, 10)\n",
    "\n",
    "# Plot the heat map\n",
    "plt.imshow(matrix, cmap='hot', interpolation='nearest')\n",
    "\n",
    "# Add the value inside each grid\n",
    "for i in range(matrix.shape[0]):\n",
    "    for j in range(matrix.shape[1]):\n",
    "        plt.text(j, i, '{:.2f}'.format(matrix[i, j]), ha='center', va='center', color='blue')\n",
    "\n",
    "# Show the plot\n",
    "plt.show()"
   ]
  },
  {
   "cell_type": "code",
   "execution_count": null,
   "metadata": {},
   "outputs": [],
   "source": [
    "print(np.max([-10, 0]))"
   ]
  },
  {
   "cell_type": "code",
   "execution_count": 2,
   "metadata": {},
   "outputs": [
    {
     "name": "stdout",
     "output_type": "stream",
     "text": [
      "False\n"
     ]
    }
   ],
   "source": [
    "import numpy as np\n",
    "print(np.nan > 0)"
   ]
  },
  {
   "cell_type": "code",
   "execution_count": null,
   "metadata": {},
   "outputs": [],
   "source": [
    "def weighted_average(numbers):\n",
    "    total = sum(range(1, len(numbers) + 1))\n",
    "    weighted_sum = sum((i + 1) * num for i, num in enumerate(numbers))\n",
    "    return weighted_sum / total\n",
    "\n",
    "# Example usage\n",
    "number_list = [1, 10, 10, 10, 10]\n",
    "result = weighted_average(number_list)\n",
    "print(\"Weighted Average:\", result)"
   ]
  },
  {
   "cell_type": "code",
   "execution_count": null,
   "metadata": {},
   "outputs": [],
   "source": [
    "A = [0, 1, 2, 3, 4]\n",
    "\n",
    "A[2:]"
   ]
  },
  {
   "cell_type": "code",
   "execution_count": null,
   "metadata": {},
   "outputs": [],
   "source": [
    "import numpy as np\n",
    "\n",
    "\n",
    "d= {}\n",
    "\n",
    "np.var(d[a])"
   ]
  },
  {
   "cell_type": "code",
   "execution_count": 12,
   "metadata": {},
   "outputs": [
    {
     "data": {
      "text/plain": [
       "{'iteration': 6,\n",
       " 'key': '[1, 3]',\n",
       " 'mu_plus - z_plus': 145.9059465649114,\n",
       " 'W': 23.20349211229852,\n",
       " 'norm.cdf(W)': 1.0,\n",
       " 'norm.pdf(W)': 4.879678503882637e-118,\n",
       " 'mu_plus': 52.76819370836312,\n",
       " 'mu_minus': 54.10629507607632,\n",
       " 'var_plus': 39.54023836469091,\n",
       " 'var_minus': 24.603241417532228,\n",
       " 'self.info_map_plus[key]': [46.48009078580445, 59.05629663092179],\n",
       " 'self.info_map_minus[key]': [55.93570779895406,\n",
       "  47.32688079835312,\n",
       "  59.05629663092179,\n",
       "  42.331562353057635]}"
      ]
     },
     "execution_count": 12,
     "metadata": {},
     "output_type": "execute_result"
    }
   ],
   "source": [
    "{'iteration': 6, 'key': '[1, 3]', 'mu_plus - z_plus': 145.9059465649114, 'W': 23.20349211229852, 'norm.cdf(W)': 1.0, 'norm.pdf(W)': 4.879678503882637e-118, 'mu_plus': 52.76819370836312, 'mu_minus': 54.10629507607632, 'var_plus': 39.54023836469091, 'var_minus': 24.603241417532228, 'self.info_map_plus[key]': [46.48009078580445, 59.05629663092179], 'self.info_map_minus[key]': [55.93570779895406, 47.32688079835312, 59.05629663092179, 42.331562353057635]}"
   ]
  },
  {
   "cell_type": "code",
   "execution_count": 14,
   "metadata": {},
   "outputs": [
    {
     "data": {
      "text/plain": [
       "{'iteration': 5,\n",
       " 'key': '[1, 3]',\n",
       " 'mu_plus - z_plus': nan,\n",
       " 'W': nan,\n",
       " 'norm.cdf(W)': nan,\n",
       " 'norm.pdf(W)': nan,\n",
       " 'mu_plus': 46.48009078580445,\n",
       " 'mu_minus': 54.10629507607632,\n",
       " 'var_plus': 0.0,\n",
       " 'var_minus': 24.603241417532228,\n",
       " 'self.info_map_plus[key]': [46.48009078580445, 59.05629663092179],\n",
       " 'self.info_map_minus[key]': [55.93570779895406,\n",
       "  47.32688079835312,\n",
       "  59.05629663092179,\n",
       "  42.331562353057635]}"
      ]
     },
     "execution_count": 14,
     "metadata": {},
     "output_type": "execute_result"
    }
   ],
   "source": [
    "{'iteration': 5, 'key': '[1, 3]', 'mu_plus - z_plus': np.nan, 'W': np.nan, 'norm.cdf(W)': np.nan, 'norm.pdf(W)': np.nan, 'mu_plus': 46.48009078580445, 'mu_minus': 54.10629507607632, 'var_plus': 0.0, 'var_minus': 24.603241417532228, 'self.info_map_plus[key]': [46.48009078580445, 59.05629663092179], 'self.info_map_minus[key]': [55.93570779895406, 47.32688079835312, 59.05629663092179, 42.331562353057635]}"
   ]
  },
  {
   "cell_type": "code",
   "execution_count": 16,
   "metadata": {},
   "outputs": [
    {
     "data": {
      "text/plain": [
       "{'iteration': 4,\n",
       " 'key': '[1, 3]',\n",
       " 'mu_plus - z_plus': nan,\n",
       " 'W': nan,\n",
       " 'norm.cdf(W)': nan,\n",
       " 'norm.pdf(W)': nan,\n",
       " 'mu_plus': 46.48009078580445,\n",
       " 'mu_minus': 51.63129429865359,\n",
       " 'var_plus': 0.0,\n",
       " 'var_minus': 18.527975581568942,\n",
       " 'self.info_map_plus[key]': [46.48009078580445, 59.05629663092179],\n",
       " 'self.info_map_minus[key]': [55.93570779895406,\n",
       "  47.32688079835312,\n",
       "  59.05629663092179,\n",
       "  42.331562353057635]}"
      ]
     },
     "execution_count": 16,
     "metadata": {},
     "output_type": "execute_result"
    }
   ],
   "source": [
    "{'iteration': 4, 'key': '[1, 3]', 'mu_plus - z_plus': np.nan, 'W': np.nan, 'norm.cdf(W)': np.nan, 'norm.pdf(W)': np.nan, 'mu_plus': 46.48009078580445, 'mu_minus': 51.63129429865359, 'var_plus': 0.0, 'var_minus': 18.527975581568942, 'self.info_map_plus[key]': [46.48009078580445, 59.05629663092179], 'self.info_map_minus[key]': [55.93570779895406, 47.32688079835312, 59.05629663092179, 42.331562353057635]}"
   ]
  },
  {
   "cell_type": "code",
   "execution_count": 17,
   "metadata": {},
   "outputs": [
    {
     "ename": "NameError",
     "evalue": "name 'nan' is not defined",
     "output_type": "error",
     "traceback": [
      "\u001b[0;31m---------------------------------------------------------------------------\u001b[0m",
      "\u001b[0;31mNameError\u001b[0m                                 Traceback (most recent call last)",
      "Cell \u001b[0;32mIn[17], line 1\u001b[0m\n\u001b[0;32m----> 1\u001b[0m {\u001b[38;5;124m'\u001b[39m\u001b[38;5;124miteration\u001b[39m\u001b[38;5;124m'\u001b[39m: \u001b[38;5;241m3\u001b[39m, \u001b[38;5;124m'\u001b[39m\u001b[38;5;124mkey\u001b[39m\u001b[38;5;124m'\u001b[39m: \u001b[38;5;124m'\u001b[39m\u001b[38;5;124m[1, 3]\u001b[39m\u001b[38;5;124m'\u001b[39m, \u001b[38;5;124m'\u001b[39m\u001b[38;5;124mmu_plus - z_plus\u001b[39m\u001b[38;5;124m'\u001b[39m: \u001b[43mnan\u001b[49m, \u001b[38;5;124m'\u001b[39m\u001b[38;5;124mW\u001b[39m\u001b[38;5;124m'\u001b[39m: nan, \u001b[38;5;124m'\u001b[39m\u001b[38;5;124mnorm.cdf(W)\u001b[39m\u001b[38;5;124m'\u001b[39m: nan, \u001b[38;5;124m'\u001b[39m\u001b[38;5;124mnorm.pdf(W)\u001b[39m\u001b[38;5;124m'\u001b[39m: nan, \u001b[38;5;124m'\u001b[39m\u001b[38;5;124mmu_plus\u001b[39m\u001b[38;5;124m'\u001b[39m: \u001b[38;5;241m46.48009078580445\u001b[39m, \u001b[38;5;124m'\u001b[39m\u001b[38;5;124mmu_minus\u001b[39m\u001b[38;5;124m'\u001b[39m: \u001b[38;5;241m55.93570779895406\u001b[39m, \u001b[38;5;124m'\u001b[39m\u001b[38;5;124mvar_plus\u001b[39m\u001b[38;5;124m'\u001b[39m: \u001b[38;5;241m0.0\u001b[39m, \u001b[38;5;124m'\u001b[39m\u001b[38;5;124mvar_minus\u001b[39m\u001b[38;5;124m'\u001b[39m: \u001b[38;5;241m0.0\u001b[39m, \u001b[38;5;124m'\u001b[39m\u001b[38;5;124mself.info_map_plus[key]\u001b[39m\u001b[38;5;124m'\u001b[39m: [\u001b[38;5;241m46.48009078580445\u001b[39m, \u001b[38;5;241m59.05629663092179\u001b[39m], \u001b[38;5;124m'\u001b[39m\u001b[38;5;124mself.info_map_minus[key]\u001b[39m\u001b[38;5;124m'\u001b[39m: [\u001b[38;5;241m55.93570779895406\u001b[39m, \u001b[38;5;241m47.32688079835312\u001b[39m, \u001b[38;5;241m59.05629663092179\u001b[39m, \u001b[38;5;241m42.331562353057635\u001b[39m]}\n",
      "\u001b[0;31mNameError\u001b[0m: name 'nan' is not defined"
     ]
    }
   ],
   "source": [
    "{'iteration': 3, 'key': '[1, 3]', 'mu_plus - z_plus': np.nan, 'W': np.nan, 'norm.cdf(W)': np.nan, 'norm.pdf(W)': np.nan, 'mu_plus': 46.48009078580445, 'mu_minus': 55.93570779895406, 'var_plus': 0.0, 'var_minus': 0.0, 'self.info_map_plus[key]': [46.48009078580445, 59.05629663092179], 'self.info_map_minus[key]': [55.93570779895406, 47.32688079835312, 59.05629663092179, 42.331562353057635]}"
   ]
  },
  {
   "cell_type": "code",
   "execution_count": null,
   "metadata": {},
   "outputs": [],
   "source": []
  }
 ],
 "metadata": {
  "kernelspec": {
   "display_name": "Python 3 (ipykernel)",
   "language": "python",
   "name": "python3"
  },
  "language_info": {
   "codemirror_mode": {
    "name": "ipython",
    "version": 3
   },
   "file_extension": ".py",
   "mimetype": "text/x-python",
   "name": "python",
   "nbconvert_exporter": "python",
   "pygments_lexer": "ipython3",
   "version": "3.10.9"
  },
  "vscode": {
   "interpreter": {
    "hash": "aee8b7b246df8f9039afb4144a1f6fd8d2ca17a180786b69acc140d282b71a49"
   }
  }
 },
 "nbformat": 4,
 "nbformat_minor": 4
}
