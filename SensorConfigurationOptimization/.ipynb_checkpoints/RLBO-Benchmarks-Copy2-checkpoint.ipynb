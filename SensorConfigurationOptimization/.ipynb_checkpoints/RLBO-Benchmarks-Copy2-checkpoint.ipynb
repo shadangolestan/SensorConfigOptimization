{
 "cells": [
  {
   "cell_type": "code",
   "execution_count": 2,
   "metadata": {
    "scrolled": true
   },
   "outputs": [
    {
     "name": "stdout",
     "output_type": "stream",
     "text": [
      "--------------------\n",
      "5\n",
      "--------------------\n",
      "----- Running BO with: \n",
      " \t - epsilon:  1 \n",
      " \t - True optimum: \n",
      " (array([0, 0, 0, 0, 0, 0, 0, 0, 0, 0]), 0)  \n",
      " \t - initial state:  random  \n",
      " \t - window size:  5\n",
      "adviser type is default...\n",
      "[INFO] [2023-02-07 23:05:09,859] [Advisor] === [BO auto selection] === acq_optimizer_type: random_scipy.\n"
     ]
    },
    {
     "name": "stderr",
     "output_type": "stream",
     "text": [
      "\r",
      "  0%|                                                                                          | 0/500 [00:00<?, ?it/s]"
     ]
    },
    {
     "name": "stdout",
     "output_type": "stream",
     "text": [
      "[INFO] [2023-02-07 23:05:09,926] [OpenBox-SPO] Iteration 1, objective value: [1.4765669860876942].\n",
      "[INFO] [2023-02-07 23:05:09,927] [OpenBox-SPO] Iteration 2, objective value: [4.40613050406747].\n",
      "[INFO] [2023-02-07 23:05:09,927] [OpenBox-SPO] Iteration 3, objective value: [3.01222570852342].\n",
      "[INFO] [2023-02-07 23:05:10,192] [OpenBox-SPO] Iteration 4, objective value: [1.025617546280686].\n"
     ]
    },
    {
     "name": "stderr",
     "output_type": "stream",
     "text": [
      "\r",
      "  1%|▋                                                                                 | 4/500 [00:00<00:33, 14.98it/s]"
     ]
    },
    {
     "name": "stdout",
     "output_type": "stream",
     "text": [
      "[INFO] [2023-02-07 23:05:10,870] [OpenBox-SPO] Iteration 5, objective value: [1.022366667303495].\n",
      "[INFO] [2023-02-07 23:05:12,708] [OpenBox-SPO] Iteration 6, objective value: [1.002633011849163].\n"
     ]
    },
    {
     "name": "stderr",
     "output_type": "stream",
     "text": [
      "\r",
      "  1%|▉                                                                                 | 6/500 [00:02<04:38,  1.78it/s]"
     ]
    },
    {
     "name": "stdout",
     "output_type": "stream",
     "text": [
      "[INFO] [2023-02-07 23:05:16,878] [OpenBox-SPO] Iteration 7, objective value: [5.423746269147366].\n"
     ]
    },
    {
     "name": "stderr",
     "output_type": "stream",
     "text": [
      "\r",
      "  1%|█▏                                                                                | 7/500 [00:06<11:25,  1.39s/it]"
     ]
    },
    {
     "name": "stdout",
     "output_type": "stream",
     "text": [
      "[INFO] [2023-02-07 23:05:16,878] [Advisor] Sample random config. rand_prob=0.100000.\n",
      "[INFO] [2023-02-07 23:05:16,882] [OpenBox-SPO] Iteration 8, objective value: [1.6394872346414597].\n",
      "[INFO] [2023-02-07 23:05:19,752] [OpenBox-SPO] Iteration 9, objective value: [1.2184454838027277].\n"
     ]
    },
    {
     "name": "stderr",
     "output_type": "stream",
     "text": [
      "\r",
      "  2%|█▍                                                                                | 9/500 [00:09<11:31,  1.41s/it]"
     ]
    },
    {
     "name": "stdout",
     "output_type": "stream",
     "text": [
      "[INFO] [2023-02-07 23:05:23,768] [OpenBox-SPO] Iteration 10, objective value: [1.7824360102251038].\n"
     ]
    },
    {
     "name": "stderr",
     "output_type": "stream",
     "text": [
      "\r",
      "  2%|█▌                                                                               | 10/500 [00:13<16:11,  1.98s/it]"
     ]
    },
    {
     "name": "stdout",
     "output_type": "stream",
     "text": [
      "[INFO] [2023-02-07 23:05:25,703] [OpenBox-SPO] Iteration 11, objective value: [1.7788686546950419].\n"
     ]
    },
    {
     "name": "stderr",
     "output_type": "stream",
     "text": [
      "\r",
      "  2%|█▊                                                                               | 11/500 [00:15<16:04,  1.97s/it]"
     ]
    },
    {
     "name": "stdout",
     "output_type": "stream",
     "text": [
      "[INFO] [2023-02-07 23:05:30,009] [OpenBox-SPO] Iteration 12, objective value: [1.4511954281847812].\n"
     ]
    },
    {
     "name": "stderr",
     "output_type": "stream",
     "text": [
      "\r",
      "  2%|█▉                                                                               | 12/500 [00:20<20:52,  2.57s/it]"
     ]
    },
    {
     "name": "stdout",
     "output_type": "stream",
     "text": [
      "[INFO] [2023-02-07 23:05:33,961] [OpenBox-SPO] Iteration 13, objective value: [3.04281765552291].\n"
     ]
    },
    {
     "name": "stderr",
     "output_type": "stream",
     "text": [
      "\r",
      "  3%|██                                                                               | 13/500 [00:24<23:50,  2.94s/it]"
     ]
    },
    {
     "name": "stdout",
     "output_type": "stream",
     "text": [
      "[INFO] [2023-02-07 23:05:37,543] [OpenBox-SPO] Iteration 14, objective value: [1.0119707730443495].\n"
     ]
    },
    {
     "name": "stderr",
     "output_type": "stream",
     "text": [
      "\r",
      "  3%|██▎                                                                              | 14/500 [00:27<25:13,  3.11s/it]"
     ]
    },
    {
     "name": "stdout",
     "output_type": "stream",
     "text": [
      "[INFO] [2023-02-07 23:05:42,567] [OpenBox-SPO] Iteration 15, objective value: [1.3522057989784961].\n"
     ]
    },
    {
     "name": "stderr",
     "output_type": "stream",
     "text": [
      "\r",
      "  3%|██▍                                                                              | 15/500 [00:32<29:32,  3.65s/it]"
     ]
    },
    {
     "name": "stdout",
     "output_type": "stream",
     "text": [
      "[INFO] [2023-02-07 23:05:46,694] [OpenBox-SPO] Iteration 16, objective value: [5.314316048730447].\n"
     ]
    },
    {
     "name": "stderr",
     "output_type": "stream",
     "text": [
      "\r",
      "  3%|██▌                                                                              | 16/500 [00:36<30:34,  3.79s/it]"
     ]
    },
    {
     "name": "stdout",
     "output_type": "stream",
     "text": [
      "[INFO] [2023-02-07 23:05:49,607] [OpenBox-SPO] Iteration 17, objective value: [0.6954676736507965].\n"
     ]
    },
    {
     "name": "stderr",
     "output_type": "stream",
     "text": [
      "\r",
      "  3%|██▊                                                                              | 17/500 [00:39<28:27,  3.53s/it]"
     ]
    },
    {
     "name": "stdout",
     "output_type": "stream",
     "text": [
      "[INFO] [2023-02-07 23:05:53,296] [OpenBox-SPO] Iteration 18, objective value: [3.3930892810796784].\n"
     ]
    },
    {
     "name": "stderr",
     "output_type": "stream",
     "text": [
      "\r",
      "  4%|██▉                                                                              | 18/500 [00:43<28:45,  3.58s/it]"
     ]
    },
    {
     "name": "stdout",
     "output_type": "stream",
     "text": [
      "[INFO] [2023-02-07 23:05:57,054] [OpenBox-SPO] Iteration 19, objective value: [4.090724206186943].\n"
     ]
    },
    {
     "name": "stderr",
     "output_type": "stream",
     "text": [
      "\r",
      "  4%|███                                                                              | 19/500 [00:47<29:07,  3.63s/it]"
     ]
    },
    {
     "name": "stdout",
     "output_type": "stream",
     "text": [
      "[INFO] [2023-02-07 23:06:00,418] [OpenBox-SPO] Iteration 20, objective value: [8.876557052108943].\n"
     ]
    },
    {
     "name": "stderr",
     "output_type": "stream",
     "text": [
      "\r",
      "  4%|███▏                                                                             | 20/500 [00:50<28:25,  3.55s/it]"
     ]
    },
    {
     "name": "stdout",
     "output_type": "stream",
     "text": [
      "[INFO] [2023-02-07 23:06:04,057] [OpenBox-SPO] Iteration 21, objective value: [1.0996516846964064].\n"
     ]
    },
    {
     "name": "stderr",
     "output_type": "stream",
     "text": [
      "\r",
      "  4%|███▍                                                                             | 21/500 [00:54<28:34,  3.58s/it]"
     ]
    },
    {
     "name": "stdout",
     "output_type": "stream",
     "text": [
      "[INFO] [2023-02-07 23:06:08,483] [OpenBox-SPO] Iteration 22, objective value: [0.38437155509804016].\n"
     ]
    },
    {
     "name": "stderr",
     "output_type": "stream",
     "text": [
      "\r",
      "  4%|███▌                                                                             | 22/500 [00:58<30:31,  3.83s/it]"
     ]
    },
    {
     "name": "stdout",
     "output_type": "stream",
     "text": [
      "[INFO] [2023-02-07 23:06:12,223] [OpenBox-SPO] Iteration 23, objective value: [6.93874805695269].\n"
     ]
    },
    {
     "name": "stderr",
     "output_type": "stream",
     "text": [
      "\r",
      "  5%|███▋                                                                             | 23/500 [01:02<30:14,  3.80s/it]"
     ]
    },
    {
     "name": "stdout",
     "output_type": "stream",
     "text": [
      "[INFO] [2023-02-07 23:06:15,631] [OpenBox-SPO] Iteration 24, objective value: [7.188823801119586].\n"
     ]
    },
    {
     "name": "stderr",
     "output_type": "stream",
     "text": [
      "\r",
      "  5%|███▉                                                                             | 24/500 [01:05<29:14,  3.69s/it]"
     ]
    },
    {
     "name": "stdout",
     "output_type": "stream",
     "text": [
      "[INFO] [2023-02-07 23:06:18,924] [OpenBox-SPO] Iteration 25, objective value: [0.4314828182276362].\n"
     ]
    },
    {
     "name": "stderr",
     "output_type": "stream",
     "text": [
      "\r",
      "  5%|████                                                                             | 25/500 [01:08<28:14,  3.57s/it]"
     ]
    },
    {
     "name": "stdout",
     "output_type": "stream",
     "text": [
      "[INFO] [2023-02-07 23:06:22,166] [OpenBox-SPO] Iteration 26, objective value: [0.1902656800306039].\n"
     ]
    },
    {
     "name": "stderr",
     "output_type": "stream",
     "text": [
      "\r",
      "  5%|████▏                                                                            | 26/500 [01:12<27:24,  3.47s/it]"
     ]
    },
    {
     "name": "stdout",
     "output_type": "stream",
     "text": [
      "[INFO] [2023-02-07 23:06:24,930] [OpenBox-SPO] Iteration 27, objective value: [0.2148613391072089].\n"
     ]
    },
    {
     "name": "stderr",
     "output_type": "stream",
     "text": [
      "\r",
      "  5%|████▎                                                                            | 27/500 [01:15<25:41,  3.26s/it]"
     ]
    },
    {
     "name": "stdout",
     "output_type": "stream",
     "text": [
      "[INFO] [2023-02-07 23:06:28,780] [OpenBox-SPO] Iteration 28, objective value: [0.07866998286969229].\n"
     ]
    },
    {
     "name": "stderr",
     "output_type": "stream",
     "text": [
      "\r",
      "  6%|████▌                                                                            | 28/500 [01:18<27:01,  3.44s/it]"
     ]
    },
    {
     "name": "stdout",
     "output_type": "stream",
     "text": [
      "[INFO] [2023-02-07 23:06:32,273] [OpenBox-SPO] Iteration 29, objective value: [10.0].\n"
     ]
    },
    {
     "name": "stderr",
     "output_type": "stream",
     "text": [
      "\r",
      "  6%|████▋                                                                            | 29/500 [01:22<27:06,  3.45s/it]"
     ]
    },
    {
     "name": "stdout",
     "output_type": "stream",
     "text": [
      "[INFO] [2023-02-07 23:06:35,094] [OpenBox-SPO] Iteration 30, objective value: [0.06657983680058029].\n"
     ]
    },
    {
     "name": "stderr",
     "output_type": "stream",
     "text": [
      "\r",
      "  6%|████▊                                                                            | 30/500 [01:25<25:33,  3.26s/it]"
     ]
    },
    {
     "name": "stdout",
     "output_type": "stream",
     "text": [
      "[INFO] [2023-02-07 23:06:37,983] [OpenBox-SPO] Iteration 31, objective value: [9.549145863576348].\n"
     ]
    },
    {
     "name": "stderr",
     "output_type": "stream",
     "text": [
      "\r",
      "  6%|█████                                                                            | 31/500 [01:28<24:37,  3.15s/it]"
     ]
    },
    {
     "name": "stdout",
     "output_type": "stream",
     "text": [
      "[INFO] [2023-02-07 23:06:40,629] [OpenBox-SPO] Iteration 32, objective value: [0.06881990855469423].\n"
     ]
    },
    {
     "name": "stderr",
     "output_type": "stream",
     "text": [
      "\r",
      "  6%|█████▏                                                                           | 32/500 [01:30<23:23,  3.00s/it]"
     ]
    },
    {
     "name": "stdout",
     "output_type": "stream",
     "text": [
      "[INFO] [2023-02-07 23:06:43,356] [OpenBox-SPO] Iteration 33, objective value: [0.0946152970229035].\n"
     ]
    },
    {
     "name": "stderr",
     "output_type": "stream",
     "text": [
      "\r",
      "  7%|█████▎                                                                           | 33/500 [01:33<22:42,  2.92s/it]"
     ]
    },
    {
     "name": "stdout",
     "output_type": "stream",
     "text": [
      "[INFO] [2023-02-07 23:06:47,002] [OpenBox-SPO] Iteration 34, objective value: [10.0].\n"
     ]
    },
    {
     "name": "stderr",
     "output_type": "stream",
     "text": [
      "\r",
      "  7%|█████▌                                                                           | 34/500 [01:37<24:21,  3.14s/it]"
     ]
    },
    {
     "name": "stdout",
     "output_type": "stream",
     "text": [
      "[INFO] [2023-02-07 23:06:50,338] [OpenBox-SPO] Iteration 35, objective value: [1.5020042871837276].\n"
     ]
    },
    {
     "name": "stderr",
     "output_type": "stream",
     "text": [
      "\r",
      "  7%|█████▋                                                                           | 35/500 [01:40<24:46,  3.20s/it]"
     ]
    },
    {
     "name": "stdout",
     "output_type": "stream",
     "text": [
      "[INFO] [2023-02-07 23:06:52,870] [OpenBox-SPO] Iteration 36, objective value: [0.04382245085663074].\n"
     ]
    },
    {
     "name": "stderr",
     "output_type": "stream",
     "text": [
      "\r",
      "  7%|█████▊                                                                           | 36/500 [01:42<23:10,  3.00s/it]"
     ]
    },
    {
     "name": "stdout",
     "output_type": "stream",
     "text": [
      "[INFO] [2023-02-07 23:06:56,243] [OpenBox-SPO] Iteration 37, objective value: [10.0].\n"
     ]
    },
    {
     "name": "stderr",
     "output_type": "stream",
     "text": [
      "\r",
      "  7%|█████▉                                                                           | 37/500 [01:46<23:59,  3.11s/it]"
     ]
    },
    {
     "name": "stdout",
     "output_type": "stream",
     "text": [
      "[INFO] [2023-02-07 23:06:58,573] [OpenBox-SPO] Iteration 38, objective value: [0.07901072817596119].\n"
     ]
    },
    {
     "name": "stderr",
     "output_type": "stream",
     "text": [
      "\r",
      "  8%|██████▏                                                                          | 38/500 [01:48<22:08,  2.88s/it]"
     ]
    },
    {
     "name": "stdout",
     "output_type": "stream",
     "text": [
      "[INFO] [2023-02-07 23:07:01,038] [OpenBox-SPO] Iteration 39, objective value: [0.031348973433543426].\n"
     ]
    },
    {
     "name": "stderr",
     "output_type": "stream",
     "text": [
      "\r",
      "  8%|██████▎                                                                          | 39/500 [01:51<21:08,  2.75s/it]"
     ]
    },
    {
     "name": "stdout",
     "output_type": "stream",
     "text": [
      "[INFO] [2023-02-07 23:07:04,698] [OpenBox-SPO] Iteration 40, objective value: [5.916820505237382].\n"
     ]
    },
    {
     "name": "stderr",
     "output_type": "stream",
     "text": [
      "\r",
      "  8%|██████▍                                                                          | 40/500 [01:54<23:13,  3.03s/it]"
     ]
    },
    {
     "name": "stdout",
     "output_type": "stream",
     "text": [
      "[INFO] [2023-02-07 23:07:04,714] [Advisor] Sample random config. rand_prob=0.100000.\n",
      "[INFO] [2023-02-07 23:07:04,715] [OpenBox-SPO] Iteration 41, objective value: [1.7793438513887645].\n",
      "[INFO] [2023-02-07 23:07:08,422] [OpenBox-SPO] Iteration 42, objective value: [4.974976894750941].\n"
     ]
    },
    {
     "name": "stderr",
     "output_type": "stream",
     "text": [
      "\r",
      "  8%|██████▊                                                                          | 42/500 [01:58<18:59,  2.49s/it]"
     ]
    },
    {
     "name": "stdout",
     "output_type": "stream",
     "text": [
      "[INFO] [2023-02-07 23:07:08,422] [Advisor] Sample random config. rand_prob=0.100000.\n",
      "[INFO] [2023-02-07 23:07:08,434] [OpenBox-SPO] Iteration 43, objective value: [1.650045981204906].\n",
      "[INFO] [2023-02-07 23:07:12,784] [OpenBox-SPO] Iteration 44, objective value: [1.563147602123677].\n"
     ]
    },
    {
     "name": "stderr",
     "output_type": "stream",
     "text": [
      "\r",
      "  9%|███████▏                                                                         | 44/500 [02:02<17:58,  2.37s/it]"
     ]
    },
    {
     "name": "stdout",
     "output_type": "stream",
     "text": [
      "[INFO] [2023-02-07 23:07:12,784] [Advisor] Sample random config. rand_prob=0.100000.\n",
      "[INFO] [2023-02-07 23:07:12,784] [OpenBox-SPO] Iteration 45, objective value: [3.1550764903444866].\n",
      "[INFO] [2023-02-07 23:07:16,557] [OpenBox-SPO] Iteration 46, objective value: [8.067334111553986].\n"
     ]
    },
    {
     "name": "stderr",
     "output_type": "stream",
     "text": [
      "\r",
      "  9%|███████▍                                                                         | 46/500 [02:06<16:35,  2.19s/it]"
     ]
    },
    {
     "name": "stdout",
     "output_type": "stream",
     "text": [
      "[INFO] [2023-02-07 23:07:20,247] [OpenBox-SPO] Iteration 47, objective value: [0.23569667947566678].\n"
     ]
    },
    {
     "name": "stderr",
     "output_type": "stream",
     "text": [
      "\r",
      "  9%|███████▌                                                                         | 47/500 [02:10<18:52,  2.50s/it]"
     ]
    },
    {
     "name": "stdout",
     "output_type": "stream",
     "text": [
      "[INFO] [2023-02-07 23:07:24,495] [OpenBox-SPO] Iteration 48, objective value: [7.157116006916109].\n"
     ]
    },
    {
     "name": "stderr",
     "output_type": "stream",
     "text": [
      "\r",
      " 10%|███████▊                                                                         | 48/500 [02:14<21:49,  2.90s/it]"
     ]
    },
    {
     "name": "stdout",
     "output_type": "stream",
     "text": [
      "[INFO] [2023-02-07 23:07:28,643] [OpenBox-SPO] Iteration 49, objective value: [0.9215372623769778].\n"
     ]
    },
    {
     "name": "stderr",
     "output_type": "stream",
     "text": [
      "\r",
      " 10%|███████▉                                                                         | 49/500 [02:18<24:04,  3.20s/it]"
     ]
    },
    {
     "name": "stdout",
     "output_type": "stream",
     "text": [
      "[INFO] [2023-02-07 23:07:31,681] [OpenBox-SPO] Iteration 50, objective value: [0.06189203547967407].\n"
     ]
    },
    {
     "name": "stderr",
     "output_type": "stream",
     "text": [
      "\r",
      " 10%|████████                                                                         | 50/500 [02:21<23:42,  3.16s/it]"
     ]
    },
    {
     "name": "stdout",
     "output_type": "stream",
     "text": [
      "[INFO] [2023-02-07 23:07:34,470] [OpenBox-SPO] Iteration 51, objective value: [0.02816160228465003].\n"
     ]
    },
    {
     "name": "stderr",
     "output_type": "stream",
     "text": [
      "\r",
      " 10%|████████▎                                                                        | 51/500 [02:24<22:54,  3.06s/it]"
     ]
    },
    {
     "name": "stdout",
     "output_type": "stream",
     "text": [
      "[INFO] [2023-02-07 23:07:34,471] [Advisor] Sample random config. rand_prob=0.100000.\n",
      "[INFO] [2023-02-07 23:07:34,472] [OpenBox-SPO] Iteration 52, objective value: [1.491839304351356].\n",
      "[INFO] [2023-02-07 23:07:34,472] [Advisor] Sample random config. rand_prob=0.100000.\n",
      "[INFO] [2023-02-07 23:07:34,473] [OpenBox-SPO] Iteration 53, objective value: [1.2994631217853208].\n",
      "[INFO] [2023-02-07 23:07:38,688] [OpenBox-SPO] Iteration 54, objective value: [3.303725215629559].\n"
     ]
    },
    {
     "name": "stderr",
     "output_type": "stream",
     "text": [
      "\r",
      " 11%|████████▋                                                                        | 54/500 [02:28<16:08,  2.17s/it]"
     ]
    },
    {
     "name": "stdout",
     "output_type": "stream",
     "text": [
      "[INFO] [2023-02-07 23:07:42,540] [OpenBox-SPO] Iteration 55, objective value: [3.3259969688321074].\n"
     ]
    },
    {
     "name": "stderr",
     "output_type": "stream",
     "text": [
      "\r",
      " 11%|████████▉                                                                        | 55/500 [02:32<18:38,  2.51s/it]"
     ]
    },
    {
     "name": "stdout",
     "output_type": "stream",
     "text": [
      "[INFO] [2023-02-07 23:07:45,060] [OpenBox-SPO] Iteration 56, objective value: [0.21752292415814828].\n"
     ]
    },
    {
     "name": "stderr",
     "output_type": "stream",
     "text": [
      "\r",
      " 11%|█████████                                                                        | 56/500 [02:35<18:36,  2.52s/it]"
     ]
    },
    {
     "name": "stdout",
     "output_type": "stream",
     "text": [
      "[INFO] [2023-02-07 23:07:49,148] [OpenBox-SPO] Iteration 57, objective value: [9.007132354790429].\n"
     ]
    },
    {
     "name": "stderr",
     "output_type": "stream",
     "text": [
      "\r",
      " 11%|█████████▏                                                                       | 57/500 [02:39<21:23,  2.90s/it]"
     ]
    },
    {
     "name": "stdout",
     "output_type": "stream",
     "text": [
      "[INFO] [2023-02-07 23:07:49,163] [Advisor] Sample random config. rand_prob=0.100000.\n",
      "[INFO] [2023-02-07 23:07:49,163] [OpenBox-SPO] Iteration 58, objective value: [1.464122254964375].\n",
      "[INFO] [2023-02-07 23:07:53,385] [OpenBox-SPO] Iteration 59, objective value: [7.025197239291741].\n"
     ]
    },
    {
     "name": "stderr",
     "output_type": "stream",
     "text": [
      "\r",
      " 12%|█████████▌                                                                       | 59/500 [02:43<18:57,  2.58s/it]"
     ]
    },
    {
     "name": "stdout",
     "output_type": "stream",
     "text": [
      "[INFO] [2023-02-07 23:07:57,151] [OpenBox-SPO] Iteration 60, objective value: [0.038885536821872235].\n"
     ]
    },
    {
     "name": "stderr",
     "output_type": "stream",
     "text": [
      "\r",
      " 12%|█████████▋                                                                       | 60/500 [02:47<20:52,  2.85s/it]"
     ]
    },
    {
     "name": "stdout",
     "output_type": "stream",
     "text": [
      "[INFO] [2023-02-07 23:08:00,905] [OpenBox-SPO] Iteration 61, objective value: [0.0510304540212229].\n"
     ]
    },
    {
     "name": "stderr",
     "output_type": "stream",
     "text": [
      "\r",
      " 12%|█████████▉                                                                       | 61/500 [02:50<22:27,  3.07s/it]"
     ]
    },
    {
     "name": "stdout",
     "output_type": "stream",
     "text": [
      "[INFO] [2023-02-07 23:08:05,452] [OpenBox-SPO] Iteration 62, objective value: [0.05185873444310949].\n"
     ]
    },
    {
     "name": "stderr",
     "output_type": "stream",
     "text": [
      "\r",
      " 12%|██████████                                                                       | 62/500 [02:55<25:11,  3.45s/it]"
     ]
    },
    {
     "name": "stdout",
     "output_type": "stream",
     "text": [
      "[INFO] [2023-02-07 23:08:09,767] [OpenBox-SPO] Iteration 63, objective value: [0.04051425408128318].\n"
     ]
    },
    {
     "name": "stderr",
     "output_type": "stream",
     "text": [
      "\r",
      " 13%|██████████▏                                                                      | 63/500 [02:59<26:50,  3.68s/it]"
     ]
    },
    {
     "name": "stdout",
     "output_type": "stream",
     "text": [
      "[INFO] [2023-02-07 23:08:12,691] [OpenBox-SPO] Iteration 64, objective value: [0.002169871623354942].\n"
     ]
    },
    {
     "name": "stderr",
     "output_type": "stream",
     "text": [
      "\r",
      " 13%|██████████▎                                                                      | 64/500 [03:02<25:14,  3.47s/it]"
     ]
    },
    {
     "name": "stdout",
     "output_type": "stream",
     "text": [
      "[INFO] [2023-02-07 23:08:16,781] [OpenBox-SPO] Iteration 65, objective value: [7.596266200313938].\n"
     ]
    },
    {
     "name": "stderr",
     "output_type": "stream",
     "text": [
      "\r",
      " 13%|██████████▌                                                                      | 65/500 [03:06<26:27,  3.65s/it]"
     ]
    },
    {
     "name": "stdout",
     "output_type": "stream",
     "text": [
      "[INFO] [2023-02-07 23:08:16,781] [Advisor] Sample random config. rand_prob=0.100000.\n",
      "[INFO] [2023-02-07 23:08:16,781] [OpenBox-SPO] Iteration 66, objective value: [1.0518433549849748].\n",
      "[INFO] [2023-02-07 23:08:21,050] [OpenBox-SPO] Iteration 67, objective value: [4.713782644290923].\n"
     ]
    },
    {
     "name": "stderr",
     "output_type": "stream",
     "text": [
      "\r",
      " 13%|██████████▊                                                                      | 67/500 [03:11<21:25,  2.97s/it]"
     ]
    },
    {
     "name": "stdout",
     "output_type": "stream",
     "text": [
      "[INFO] [2023-02-07 23:08:23,749] [OpenBox-SPO] Iteration 68, objective value: [0.01169524462962527].\n"
     ]
    },
    {
     "name": "stderr",
     "output_type": "stream",
     "text": [
      "\r",
      " 14%|███████████                                                                      | 68/500 [03:13<20:54,  2.90s/it]"
     ]
    },
    {
     "name": "stdout",
     "output_type": "stream",
     "text": [
      "[INFO] [2023-02-07 23:08:28,055] [OpenBox-SPO] Iteration 69, objective value: [0.10596709399026133].\n"
     ]
    },
    {
     "name": "stderr",
     "output_type": "stream",
     "text": [
      "\r",
      " 14%|███████████▏                                                                     | 69/500 [03:18<23:27,  3.26s/it]"
     ]
    },
    {
     "name": "stdout",
     "output_type": "stream",
     "text": [
      "[INFO] [2023-02-07 23:08:32,176] [OpenBox-SPO] Iteration 70, objective value: [0.1527073327729072].\n"
     ]
    },
    {
     "name": "stderr",
     "output_type": "stream",
     "text": [
      "\r",
      " 14%|███████████▎                                                                     | 70/500 [03:22<25:02,  3.49s/it]"
     ]
    },
    {
     "name": "stdout",
     "output_type": "stream",
     "text": [
      "[INFO] [2023-02-07 23:08:35,300] [OpenBox-SPO] Iteration 71, objective value: [0.0038158601800128535].\n"
     ]
    },
    {
     "name": "stderr",
     "output_type": "stream",
     "text": [
      "\r",
      " 14%|███████████▌                                                                     | 71/500 [03:25<24:15,  3.39s/it]"
     ]
    },
    {
     "name": "stdout",
     "output_type": "stream",
     "text": [
      "[INFO] [2023-02-07 23:08:39,724] [OpenBox-SPO] Iteration 72, objective value: [9.008715618632834].\n"
     ]
    },
    {
     "name": "stderr",
     "output_type": "stream",
     "text": [
      "\r",
      " 14%|███████████▋                                                                     | 72/500 [03:29<26:17,  3.69s/it]"
     ]
    },
    {
     "name": "stdout",
     "output_type": "stream",
     "text": [
      "[INFO] [2023-02-07 23:08:44,119] [OpenBox-SPO] Iteration 73, objective value: [7.461190375469396].\n"
     ]
    },
    {
     "name": "stderr",
     "output_type": "stream",
     "text": [
      "\r",
      " 15%|███████████▊                                                                     | 73/500 [03:34<27:40,  3.89s/it]"
     ]
    },
    {
     "name": "stdout",
     "output_type": "stream",
     "text": [
      "[INFO] [2023-02-07 23:08:48,712] [OpenBox-SPO] Iteration 74, objective value: [0.1920346841861794].\n"
     ]
    },
    {
     "name": "stderr",
     "output_type": "stream",
     "text": [
      "\r",
      " 15%|███████████▉                                                                     | 74/500 [03:38<29:04,  4.10s/it]"
     ]
    },
    {
     "name": "stdout",
     "output_type": "stream",
     "text": [
      "[INFO] [2023-02-07 23:08:51,273] [OpenBox-SPO] Iteration 75, objective value: [0.056331505000844335].\n"
     ]
    },
    {
     "name": "stderr",
     "output_type": "stream",
     "text": [
      "\r",
      " 15%|████████████▏                                                                    | 75/500 [03:41<25:48,  3.64s/it]"
     ]
    },
    {
     "name": "stdout",
     "output_type": "stream",
     "text": [
      "[INFO] [2023-02-07 23:08:55,369] [OpenBox-SPO] Iteration 76, objective value: [0.10033818383227693].\n"
     ]
    },
    {
     "name": "stderr",
     "output_type": "stream",
     "text": [
      "\r",
      " 15%|████████████▎                                                                    | 76/500 [03:45<26:41,  3.78s/it]"
     ]
    },
    {
     "name": "stdout",
     "output_type": "stream",
     "text": [
      "[INFO] [2023-02-07 23:08:59,372] [OpenBox-SPO] Iteration 77, objective value: [0.16538782688763037].\n"
     ]
    },
    {
     "name": "stderr",
     "output_type": "stream",
     "text": [
      "\r",
      " 15%|████████████▍                                                                    | 77/500 [03:49<27:06,  3.84s/it]"
     ]
    },
    {
     "name": "stdout",
     "output_type": "stream",
     "text": [
      "[INFO] [2023-02-07 23:09:03,531] [OpenBox-SPO] Iteration 78, objective value: [10.0].\n"
     ]
    },
    {
     "name": "stderr",
     "output_type": "stream",
     "text": [
      "\r",
      " 16%|████████████▋                                                                    | 78/500 [03:53<27:41,  3.94s/it]"
     ]
    },
    {
     "name": "stdout",
     "output_type": "stream",
     "text": [
      "[INFO] [2023-02-07 23:09:06,182] [OpenBox-SPO] Iteration 79, objective value: [0.05185822397814194].\n"
     ]
    },
    {
     "name": "stderr",
     "output_type": "stream",
     "text": [
      "\r",
      " 16%|████████████▊                                                                    | 79/500 [03:56<24:56,  3.55s/it]"
     ]
    },
    {
     "name": "stdout",
     "output_type": "stream",
     "text": [
      "[INFO] [2023-02-07 23:09:10,575] [OpenBox-SPO] Iteration 80, objective value: [0.1816070215537961].\n"
     ]
    },
    {
     "name": "stderr",
     "output_type": "stream",
     "text": [
      "\r",
      " 16%|████████████▉                                                                    | 80/500 [04:00<26:38,  3.80s/it]"
     ]
    },
    {
     "name": "stdout",
     "output_type": "stream",
     "text": [
      "[INFO] [2023-02-07 23:09:13,321] [OpenBox-SPO] Iteration 81, objective value: [0.047067587277253575].\n"
     ]
    },
    {
     "name": "stderr",
     "output_type": "stream",
     "text": [
      "\r",
      " 16%|█████████████                                                                    | 81/500 [04:03<24:21,  3.49s/it]"
     ]
    },
    {
     "name": "stdout",
     "output_type": "stream",
     "text": [
      "[INFO] [2023-02-07 23:09:17,150] [OpenBox-SPO] Iteration 82, objective value: [6.159872115314499].\n"
     ]
    },
    {
     "name": "stderr",
     "output_type": "stream",
     "text": [
      "\r",
      " 16%|█████████████▎                                                                   | 82/500 [04:07<25:00,  3.59s/it]"
     ]
    },
    {
     "name": "stdout",
     "output_type": "stream",
     "text": [
      "[INFO] [2023-02-07 23:09:20,493] [OpenBox-SPO] Iteration 83, objective value: [0.11185995817333469].\n"
     ]
    },
    {
     "name": "stderr",
     "output_type": "stream",
     "text": [
      "\r",
      " 17%|█████████████▍                                                                   | 83/500 [04:10<24:26,  3.52s/it]"
     ]
    },
    {
     "name": "stdout",
     "output_type": "stream",
     "text": [
      "[INFO] [2023-02-07 23:09:25,028] [OpenBox-SPO] Iteration 84, objective value: [0.7394413404087645].\n"
     ]
    },
    {
     "name": "stderr",
     "output_type": "stream",
     "text": [
      "\r",
      " 17%|█████████████▌                                                                   | 84/500 [04:15<26:29,  3.82s/it]"
     ]
    },
    {
     "name": "stdout",
     "output_type": "stream",
     "text": [
      "[INFO] [2023-02-07 23:09:25,028] [Advisor] Sample random config. rand_prob=0.100000.\n",
      "[INFO] [2023-02-07 23:09:25,028] [OpenBox-SPO] Iteration 85, objective value: [2.6012901993732105].\n",
      "[INFO] [2023-02-07 23:09:28,134] [OpenBox-SPO] Iteration 86, objective value: [0.03995442642678353].\n"
     ]
    },
    {
     "name": "stderr",
     "output_type": "stream",
     "text": [
      "\r",
      " 17%|█████████████▉                                                                   | 86/500 [04:18<19:08,  2.77s/it]"
     ]
    },
    {
     "name": "stdout",
     "output_type": "stream",
     "text": [
      "[INFO] [2023-02-07 23:09:31,963] [OpenBox-SPO] Iteration 87, objective value: [9.000884783891557].\n"
     ]
    },
    {
     "name": "stderr",
     "output_type": "stream",
     "text": [
      "\r",
      " 17%|██████████████                                                                   | 87/500 [04:22<20:53,  3.04s/it]"
     ]
    },
    {
     "name": "stdout",
     "output_type": "stream",
     "text": [
      "[INFO] [2023-02-07 23:09:36,546] [OpenBox-SPO] Iteration 88, objective value: [1.1884385880811807].\n"
     ]
    },
    {
     "name": "stderr",
     "output_type": "stream",
     "text": [
      "\r",
      " 18%|██████████████▎                                                                  | 88/500 [04:26<23:37,  3.44s/it]"
     ]
    },
    {
     "name": "stdout",
     "output_type": "stream",
     "text": [
      "[INFO] [2023-02-07 23:09:40,999] [OpenBox-SPO] Iteration 89, objective value: [0.07067306557355246].\n"
     ]
    },
    {
     "name": "stderr",
     "output_type": "stream",
     "text": [
      "\r",
      " 18%|██████████████▍                                                                  | 89/500 [04:31<25:27,  3.72s/it]"
     ]
    },
    {
     "name": "stdout",
     "output_type": "stream",
     "text": [
      "[INFO] [2023-02-07 23:09:44,917] [OpenBox-SPO] Iteration 90, objective value: [0.09775263274395422].\n"
     ]
    },
    {
     "name": "stderr",
     "output_type": "stream",
     "text": [
      "\r",
      " 18%|██████████████▌                                                                  | 90/500 [04:34<25:46,  3.77s/it]"
     ]
    },
    {
     "name": "stdout",
     "output_type": "stream",
     "text": [
      "[INFO] [2023-02-07 23:09:48,993] [OpenBox-SPO] Iteration 91, objective value: [6.388034628055957].\n"
     ]
    },
    {
     "name": "stderr",
     "output_type": "stream",
     "text": [
      "\r",
      " 18%|██████████████▋                                                                  | 91/500 [04:39<26:18,  3.86s/it]"
     ]
    },
    {
     "name": "stdout",
     "output_type": "stream",
     "text": [
      "[INFO] [2023-02-07 23:09:53,463] [OpenBox-SPO] Iteration 92, objective value: [9.008992650965197].\n"
     ]
    },
    {
     "name": "stderr",
     "output_type": "stream",
     "text": [
      "\r",
      " 18%|██████████████▉                                                                  | 92/500 [04:43<27:26,  4.04s/it]"
     ]
    },
    {
     "name": "stdout",
     "output_type": "stream",
     "text": [
      "[INFO] [2023-02-07 23:09:57,464] [OpenBox-SPO] Iteration 93, objective value: [0.250946163212525].\n"
     ]
    },
    {
     "name": "stderr",
     "output_type": "stream",
     "text": [
      "\r",
      " 19%|███████████████                                                                  | 93/500 [04:47<27:18,  4.03s/it]"
     ]
    },
    {
     "name": "stdout",
     "output_type": "stream",
     "text": [
      "[INFO] [2023-02-07 23:10:02,126] [OpenBox-SPO] Iteration 94, objective value: [0.03642256485044737].\n"
     ]
    },
    {
     "name": "stderr",
     "output_type": "stream",
     "text": [
      "\r",
      " 19%|███████████████▏                                                                 | 94/500 [04:52<28:30,  4.21s/it]"
     ]
    },
    {
     "name": "stdout",
     "output_type": "stream",
     "text": [
      "[INFO] [2023-02-07 23:10:05,125] [OpenBox-SPO] Iteration 95, objective value: [0.054190046596427656].\n"
     ]
    },
    {
     "name": "stderr",
     "output_type": "stream",
     "text": [
      "\r",
      " 19%|███████████████▍                                                                 | 95/500 [04:55<26:00,  3.85s/it]"
     ]
    },
    {
     "name": "stdout",
     "output_type": "stream",
     "text": [
      "[INFO] [2023-02-07 23:10:09,454] [OpenBox-SPO] Iteration 96, objective value: [2.683900020432022].\n"
     ]
    },
    {
     "name": "stderr",
     "output_type": "stream",
     "text": [
      "\r",
      " 19%|███████████████▌                                                                 | 96/500 [04:59<26:53,  3.99s/it]"
     ]
    },
    {
     "name": "stdout",
     "output_type": "stream",
     "text": [
      "[INFO] [2023-02-07 23:10:09,454] [Advisor] Sample random config. rand_prob=0.100000.\n",
      "[INFO] [2023-02-07 23:10:09,454] [OpenBox-SPO] Iteration 97, objective value: [1.2626430767332952].\n",
      "[INFO] [2023-02-07 23:10:13,753] [OpenBox-SPO] Iteration 98, objective value: [7.000719680136974].\n"
     ]
    },
    {
     "name": "stderr",
     "output_type": "stream",
     "text": [
      "\r",
      " 20%|███████████████▉                                                                 | 98/500 [05:03<21:05,  3.15s/it]"
     ]
    },
    {
     "name": "stdout",
     "output_type": "stream",
     "text": [
      "[INFO] [2023-02-07 23:10:18,979] [OpenBox-SPO] Iteration 99, objective value: [6.388703416883788].\n"
     ]
    },
    {
     "name": "stderr",
     "output_type": "stream",
     "text": [
      "\r",
      " 20%|████████████████                                                                 | 99/500 [05:09<24:27,  3.66s/it]"
     ]
    },
    {
     "name": "stdout",
     "output_type": "stream",
     "text": [
      "[INFO] [2023-02-07 23:10:23,608] [OpenBox-SPO] Iteration 100, objective value: [0.2185617055561206].\n"
     ]
    },
    {
     "name": "stderr",
     "output_type": "stream",
     "text": [
      "\r",
      " 20%|████████████████                                                                | 100/500 [05:13<26:05,  3.91s/it]"
     ]
    },
    {
     "name": "stdout",
     "output_type": "stream",
     "text": [
      "[INFO] [2023-02-07 23:10:28,470] [OpenBox-SPO] Iteration 101, objective value: [0.039543801379447414].\n"
     ]
    },
    {
     "name": "stderr",
     "output_type": "stream",
     "text": [
      "\r",
      " 20%|████████████████▏                                                               | 101/500 [05:18<27:44,  4.17s/it]"
     ]
    },
    {
     "name": "stdout",
     "output_type": "stream",
     "text": [
      "[INFO] [2023-02-07 23:10:33,008] [OpenBox-SPO] Iteration 102, objective value: [0.007704201878143295].\n"
     ]
    },
    {
     "name": "stderr",
     "output_type": "stream",
     "text": [
      "\r",
      " 20%|████████████████▎                                                               | 102/500 [05:23<28:20,  4.27s/it]"
     ]
    },
    {
     "name": "stdout",
     "output_type": "stream",
     "text": [
      "[INFO] [2023-02-07 23:10:37,793] [OpenBox-SPO] Iteration 103, objective value: [0.22836051094084825].\n"
     ]
    },
    {
     "name": "stderr",
     "output_type": "stream",
     "text": [
      "\r",
      " 21%|████████████████▍                                                               | 103/500 [05:27<29:14,  4.42s/it]"
     ]
    },
    {
     "name": "stdout",
     "output_type": "stream",
     "text": [
      "[INFO] [2023-02-07 23:10:42,172] [OpenBox-SPO] Iteration 104, objective value: [0.11504591717367564].\n"
     ]
    },
    {
     "name": "stderr",
     "output_type": "stream",
     "text": [
      "\r",
      " 21%|████████████████▋                                                               | 104/500 [05:32<29:05,  4.41s/it]"
     ]
    },
    {
     "name": "stdout",
     "output_type": "stream",
     "text": [
      "[INFO] [2023-02-07 23:10:42,172] [Advisor] Sample random config. rand_prob=0.100000.\n",
      "[INFO] [2023-02-07 23:10:42,172] [OpenBox-SPO] Iteration 105, objective value: [1.9409480251319815].\n",
      "[INFO] [2023-02-07 23:10:47,021] [OpenBox-SPO] Iteration 106, objective value: [8.184512458208149].\n"
     ]
    },
    {
     "name": "stderr",
     "output_type": "stream",
     "text": [
      "\r",
      " 21%|████████████████▉                                                               | 106/500 [05:37<23:02,  3.51s/it]"
     ]
    },
    {
     "name": "stdout",
     "output_type": "stream",
     "text": [
      "[INFO] [2023-02-07 23:10:50,128] [OpenBox-SPO] Iteration 107, objective value: [0.001252378059899004].\n"
     ]
    },
    {
     "name": "stderr",
     "output_type": "stream",
     "text": [
      "\r",
      " 21%|█████████████████                                                               | 107/500 [05:40<22:20,  3.41s/it]"
     ]
    },
    {
     "name": "stdout",
     "output_type": "stream",
     "text": [
      "[INFO] [2023-02-07 23:10:53,533] [OpenBox-SPO] Iteration 108, objective value: [0.022995751656047718].\n"
     ]
    },
    {
     "name": "stderr",
     "output_type": "stream",
     "text": [
      "\r",
      " 22%|█████████████████▎                                                              | 108/500 [05:43<22:16,  3.41s/it]"
     ]
    },
    {
     "name": "stdout",
     "output_type": "stream",
     "text": [
      "[INFO] [2023-02-07 23:10:56,547] [OpenBox-SPO] Iteration 109, objective value: [0.04809320672237954].\n"
     ]
    },
    {
     "name": "stderr",
     "output_type": "stream",
     "text": [
      "\r",
      " 22%|█████████████████▍                                                              | 109/500 [05:46<21:31,  3.30s/it]"
     ]
    },
    {
     "name": "stdout",
     "output_type": "stream",
     "text": [
      "[INFO] [2023-02-07 23:11:01,505] [OpenBox-SPO] Iteration 110, objective value: [8.407922286166215].\n"
     ]
    },
    {
     "name": "stderr",
     "output_type": "stream",
     "text": [
      "\r",
      " 22%|█████████████████▌                                                              | 110/500 [05:51<24:27,  3.76s/it]"
     ]
    },
    {
     "name": "stdout",
     "output_type": "stream",
     "text": [
      "[INFO] [2023-02-07 23:11:06,745] [OpenBox-SPO] Iteration 111, objective value: [0.45327601246323856].\n"
     ]
    },
    {
     "name": "stderr",
     "output_type": "stream",
     "text": [
      "\r",
      " 22%|█████████████████▊                                                              | 111/500 [05:56<27:07,  4.18s/it]"
     ]
    },
    {
     "name": "stdout",
     "output_type": "stream",
     "text": [
      "[INFO] [2023-02-07 23:11:11,533] [OpenBox-SPO] Iteration 112, objective value: [0.04981363734992132].\n"
     ]
    },
    {
     "name": "stderr",
     "output_type": "stream",
     "text": [
      "\r",
      " 22%|█████████████████▉                                                              | 112/500 [06:01<28:10,  4.36s/it]"
     ]
    },
    {
     "name": "stdout",
     "output_type": "stream",
     "text": [
      "[INFO] [2023-02-07 23:11:16,241] [OpenBox-SPO] Iteration 113, objective value: [0.0853431674495086].\n"
     ]
    },
    {
     "name": "stderr",
     "output_type": "stream",
     "text": [
      "\r",
      " 23%|██████████████████                                                              | 113/500 [06:06<28:46,  4.46s/it]"
     ]
    },
    {
     "name": "stdout",
     "output_type": "stream",
     "text": [
      "[INFO] [2023-02-07 23:11:20,933] [OpenBox-SPO] Iteration 114, objective value: [0.047962892174846665].\n"
     ]
    },
    {
     "name": "stderr",
     "output_type": "stream",
     "text": [
      "\r",
      " 23%|██████████████████▏                                                             | 114/500 [06:11<29:07,  4.53s/it]"
     ]
    },
    {
     "name": "stdout",
     "output_type": "stream",
     "text": [
      "[INFO] [2023-02-07 23:11:24,793] [OpenBox-SPO] Iteration 115, objective value: [0.003099560517743506].\n"
     ]
    },
    {
     "name": "stderr",
     "output_type": "stream",
     "text": [
      "\r",
      " 23%|██████████████████▍                                                             | 115/500 [06:14<27:47,  4.33s/it]"
     ]
    },
    {
     "name": "stdout",
     "output_type": "stream",
     "text": [
      "[INFO] [2023-02-07 23:11:28,198] [OpenBox-SPO] Iteration 116, objective value: [0.006193686961374154].\n"
     ]
    },
    {
     "name": "stderr",
     "output_type": "stream",
     "text": [
      "\r",
      " 23%|██████████████████▌                                                             | 116/500 [06:18<25:57,  4.06s/it]"
     ]
    },
    {
     "name": "stdout",
     "output_type": "stream",
     "text": [
      "[INFO] [2023-02-07 23:11:32,011] [OpenBox-SPO] Iteration 117, objective value: [0.015004411302898372].\n"
     ]
    },
    {
     "name": "stderr",
     "output_type": "stream",
     "text": [
      "\r",
      " 23%|██████████████████▋                                                             | 117/500 [06:22<25:25,  3.98s/it]"
     ]
    },
    {
     "name": "stdout",
     "output_type": "stream",
     "text": [
      "[INFO] [2023-02-07 23:11:37,630] [OpenBox-SPO] Iteration 118, objective value: [2.2714721212544995].\n"
     ]
    },
    {
     "name": "stderr",
     "output_type": "stream",
     "text": [
      "\r",
      " 24%|██████████████████▉                                                             | 118/500 [06:27<28:28,  4.47s/it]"
     ]
    },
    {
     "name": "stdout",
     "output_type": "stream",
     "text": [
      "[INFO] [2023-02-07 23:11:41,495] [OpenBox-SPO] Iteration 119, objective value: [0.029398459416717735].\n"
     ]
    },
    {
     "name": "stderr",
     "output_type": "stream",
     "text": [
      "\r",
      " 24%|███████████████████                                                             | 119/500 [06:31<27:14,  4.29s/it]"
     ]
    },
    {
     "name": "stdout",
     "output_type": "stream",
     "text": [
      "[INFO] [2023-02-07 23:11:45,318] [OpenBox-SPO] Iteration 120, objective value: [0.017172960012955617].\n"
     ]
    },
    {
     "name": "stderr",
     "output_type": "stream",
     "text": [
      "\r",
      " 24%|███████████████████▏                                                            | 120/500 [06:35<26:17,  4.15s/it]"
     ]
    },
    {
     "name": "stdout",
     "output_type": "stream",
     "text": [
      "[INFO] [2023-02-07 23:11:48,755] [OpenBox-SPO] Iteration 121, objective value: [0.010991918982551717].\n"
     ]
    },
    {
     "name": "stderr",
     "output_type": "stream",
     "text": [
      "\r",
      " 24%|███████████████████▎                                                            | 121/500 [06:38<24:51,  3.94s/it]"
     ]
    },
    {
     "name": "stdout",
     "output_type": "stream",
     "text": [
      "[INFO] [2023-02-07 23:11:48,755] [Advisor] Sample random config. rand_prob=0.100000.\n",
      "[INFO] [2023-02-07 23:11:48,755] [OpenBox-SPO] Iteration 122, objective value: [1.9788422087983815].\n",
      "[INFO] [2023-02-07 23:11:52,365] [OpenBox-SPO] Iteration 123, objective value: [0.04243889386912789].\n"
     ]
    },
    {
     "name": "stderr",
     "output_type": "stream",
     "text": [
      "\r",
      " 25%|███████████████████▋                                                            | 123/500 [06:42<18:33,  2.95s/it]"
     ]
    },
    {
     "name": "stdout",
     "output_type": "stream",
     "text": [
      "[INFO] [2023-02-07 23:11:52,365] [Advisor] Sample random config. rand_prob=0.100000.\n",
      "[INFO] [2023-02-07 23:11:52,365] [OpenBox-SPO] Iteration 124, objective value: [1.413528357313584].\n",
      "[INFO] [2023-02-07 23:11:58,422] [OpenBox-SPO] Iteration 125, objective value: [0.059804894880147015].\n"
     ]
    },
    {
     "name": "stderr",
     "output_type": "stream",
     "text": [
      "\r",
      " 25%|████████████████████                                                            | 125/500 [06:48<18:38,  2.98s/it]"
     ]
    },
    {
     "name": "stdout",
     "output_type": "stream",
     "text": [
      "[INFO] [2023-02-07 23:12:02,346] [OpenBox-SPO] Iteration 126, objective value: [0.037887688992317786].\n"
     ]
    },
    {
     "name": "stderr",
     "output_type": "stream",
     "text": [
      "\r",
      " 25%|████████████████████▏                                                           | 126/500 [06:52<19:53,  3.19s/it]"
     ]
    },
    {
     "name": "stdout",
     "output_type": "stream",
     "text": [
      "[INFO] [2023-02-07 23:12:07,508] [OpenBox-SPO] Iteration 127, objective value: [4.8555754699225275].\n"
     ]
    },
    {
     "name": "stderr",
     "output_type": "stream",
     "text": [
      "\r",
      " 25%|████████████████████▎                                                           | 127/500 [06:57<22:48,  3.67s/it]"
     ]
    },
    {
     "name": "stdout",
     "output_type": "stream",
     "text": [
      "[INFO] [2023-02-07 23:12:12,811] [OpenBox-SPO] Iteration 128, objective value: [4.785829280069125].\n"
     ]
    },
    {
     "name": "stderr",
     "output_type": "stream",
     "text": [
      "\r",
      " 26%|████████████████████▍                                                           | 128/500 [07:02<25:18,  4.08s/it]"
     ]
    },
    {
     "name": "stdout",
     "output_type": "stream",
     "text": [
      "[INFO] [2023-02-07 23:12:17,990] [OpenBox-SPO] Iteration 129, objective value: [0.084146075441054].\n"
     ]
    },
    {
     "name": "stderr",
     "output_type": "stream",
     "text": [
      "\r",
      " 26%|████████████████████▋                                                           | 129/500 [07:08<27:02,  4.37s/it]"
     ]
    },
    {
     "name": "stdout",
     "output_type": "stream",
     "text": [
      "[INFO] [2023-02-07 23:12:21,818] [OpenBox-SPO] Iteration 130, objective value: [0.03794345860338303].\n"
     ]
    },
    {
     "name": "stderr",
     "output_type": "stream",
     "text": [
      "\r",
      " 26%|████████████████████▊                                                           | 130/500 [07:11<26:02,  4.22s/it]"
     ]
    },
    {
     "name": "stdout",
     "output_type": "stream",
     "text": [
      "[INFO] [2023-02-07 23:12:27,656] [OpenBox-SPO] Iteration 131, objective value: [0.018949705958118176].\n"
     ]
    },
    {
     "name": "stderr",
     "output_type": "stream",
     "text": [
      "\r",
      " 26%|████████████████████▉                                                           | 131/500 [07:17<28:47,  4.68s/it]"
     ]
    },
    {
     "name": "stdout",
     "output_type": "stream",
     "text": [
      "[INFO] [2023-02-07 23:12:33,337] [OpenBox-SPO] Iteration 132, objective value: [3.2590834504051687].\n"
     ]
    },
    {
     "name": "stderr",
     "output_type": "stream",
     "text": [
      "\r",
      " 26%|█████████████████████                                                           | 132/500 [07:23<30:28,  4.97s/it]"
     ]
    },
    {
     "name": "stdout",
     "output_type": "stream",
     "text": [
      "[INFO] [2023-02-07 23:12:37,590] [OpenBox-SPO] Iteration 133, objective value: [0.010684872700312237].\n"
     ]
    },
    {
     "name": "stderr",
     "output_type": "stream",
     "text": [
      "\r",
      " 27%|█████████████████████▎                                                          | 133/500 [07:27<29:06,  4.76s/it]"
     ]
    },
    {
     "name": "stdout",
     "output_type": "stream",
     "text": [
      "[INFO] [2023-02-07 23:12:37,590] [Advisor] Sample random config. rand_prob=0.100000.\n",
      "[INFO] [2023-02-07 23:12:37,590] [OpenBox-SPO] Iteration 134, objective value: [0.9736390507804953].\n",
      "[INFO] [2023-02-07 23:12:41,434] [OpenBox-SPO] Iteration 135, objective value: [0.021958229228938028].\n"
     ]
    },
    {
     "name": "stderr",
     "output_type": "stream",
     "text": [
      "\r",
      " 27%|█████████████████████▌                                                          | 135/500 [07:31<21:06,  3.47s/it]"
     ]
    },
    {
     "name": "stdout",
     "output_type": "stream",
     "text": [
      "[INFO] [2023-02-07 23:12:45,278] [OpenBox-SPO] Iteration 136, objective value: [0.009634367141539184].\n"
     ]
    },
    {
     "name": "stderr",
     "output_type": "stream",
     "text": [
      "\r",
      " 27%|█████████████████████▊                                                          | 136/500 [07:35<21:36,  3.56s/it]"
     ]
    },
    {
     "name": "stdout",
     "output_type": "stream",
     "text": [
      "[INFO] [2023-02-07 23:12:49,123] [OpenBox-SPO] Iteration 137, objective value: [0.003943194638142222].\n"
     ]
    },
    {
     "name": "stderr",
     "output_type": "stream",
     "text": [
      "\r",
      " 27%|█████████████████████▉                                                          | 137/500 [07:39<21:59,  3.64s/it]"
     ]
    },
    {
     "name": "stdout",
     "output_type": "stream",
     "text": [
      "[INFO] [2023-02-07 23:12:54,615] [OpenBox-SPO] Iteration 138, objective value: [8.001563720036689].\n"
     ]
    },
    {
     "name": "stderr",
     "output_type": "stream",
     "text": [
      "\r",
      " 28%|██████████████████████                                                          | 138/500 [07:44<24:57,  4.14s/it]"
     ]
    },
    {
     "name": "stdout",
     "output_type": "stream",
     "text": [
      "[INFO] [2023-02-07 23:13:00,579] [OpenBox-SPO] Iteration 139, objective value: [1.128253315059066].\n"
     ]
    },
    {
     "name": "stderr",
     "output_type": "stream",
     "text": [
      "\r",
      " 28%|██████████████████████▏                                                         | 139/500 [07:50<27:57,  4.65s/it]"
     ]
    },
    {
     "name": "stdout",
     "output_type": "stream",
     "text": [
      "[INFO] [2023-02-07 23:13:00,579] [Advisor] Sample random config. rand_prob=0.100000.\n",
      "[INFO] [2023-02-07 23:13:00,579] [OpenBox-SPO] Iteration 140, objective value: [3.5613472634269145].\n",
      "[INFO] [2023-02-07 23:13:06,134] [OpenBox-SPO] Iteration 141, objective value: [0.03193906843089743].\n"
     ]
    },
    {
     "name": "stderr",
     "output_type": "stream",
     "text": [
      "\r",
      " 28%|██████████████████████▌                                                         | 141/500 [07:56<22:50,  3.82s/it]"
     ]
    },
    {
     "name": "stdout",
     "output_type": "stream",
     "text": [
      "[INFO] [2023-02-07 23:13:12,254] [OpenBox-SPO] Iteration 142, objective value: [0.4904191426719268].\n"
     ]
    },
    {
     "name": "stderr",
     "output_type": "stream",
     "text": [
      "\r",
      " 28%|██████████████████████▋                                                         | 142/500 [08:02<26:04,  4.37s/it]"
     ]
    },
    {
     "name": "stdout",
     "output_type": "stream",
     "text": [
      "[INFO] [2023-02-07 23:13:16,694] [OpenBox-SPO] Iteration 143, objective value: [0.029016426721902615].\n"
     ]
    },
    {
     "name": "stderr",
     "output_type": "stream",
     "text": [
      "\r",
      " 29%|██████████████████████▉                                                         | 143/500 [08:06<26:06,  4.39s/it]"
     ]
    },
    {
     "name": "stdout",
     "output_type": "stream",
     "text": [
      "[INFO] [2023-02-07 23:13:22,723] [OpenBox-SPO] Iteration 144, objective value: [0.8961125739023608].\n"
     ]
    },
    {
     "name": "stderr",
     "output_type": "stream",
     "text": [
      "\r",
      " 29%|███████████████████████                                                         | 144/500 [08:12<28:38,  4.83s/it]"
     ]
    },
    {
     "name": "stdout",
     "output_type": "stream",
     "text": [
      "[INFO] [2023-02-07 23:13:28,119] [OpenBox-SPO] Iteration 145, objective value: [0.10631139237518789].\n"
     ]
    },
    {
     "name": "stderr",
     "output_type": "stream",
     "text": [
      "\r",
      " 29%|███████████████████████▏                                                        | 145/500 [08:18<29:29,  4.98s/it]"
     ]
    },
    {
     "name": "stdout",
     "output_type": "stream",
     "text": [
      "[INFO] [2023-02-07 23:13:32,435] [OpenBox-SPO] Iteration 146, objective value: [0.007195098115622895].\n"
     ]
    },
    {
     "name": "stderr",
     "output_type": "stream",
     "text": [
      "\r",
      " 29%|███████████████████████▎                                                        | 146/500 [08:22<28:17,  4.80s/it]"
     ]
    },
    {
     "name": "stdout",
     "output_type": "stream",
     "text": [
      "[INFO] [2023-02-07 23:13:36,436] [OpenBox-SPO] Iteration 147, objective value: [0.005711426924869747].\n"
     ]
    },
    {
     "name": "stderr",
     "output_type": "stream",
     "text": [
      "\r",
      " 29%|███████████████████████▌                                                        | 147/500 [08:26<26:51,  4.57s/it]"
     ]
    },
    {
     "name": "stdout",
     "output_type": "stream",
     "text": [
      "[INFO] [2023-02-07 23:13:42,666] [OpenBox-SPO] Iteration 148, objective value: [0.1672475602431916].\n"
     ]
    },
    {
     "name": "stderr",
     "output_type": "stream",
     "text": [
      "\r",
      " 30%|███████████████████████▋                                                        | 148/500 [08:32<29:38,  5.05s/it]"
     ]
    },
    {
     "name": "stdout",
     "output_type": "stream",
     "text": [
      "[INFO] [2023-02-07 23:13:48,928] [OpenBox-SPO] Iteration 149, objective value: [0.17144503951438636].\n"
     ]
    },
    {
     "name": "stderr",
     "output_type": "stream",
     "text": [
      "\r",
      " 30%|███████████████████████▊                                                        | 149/500 [08:39<31:37,  5.41s/it]"
     ]
    },
    {
     "name": "stdout",
     "output_type": "stream",
     "text": [
      "[INFO] [2023-02-07 23:13:54,686] [OpenBox-SPO] Iteration 150, objective value: [0.05693713998228353].\n"
     ]
    },
    {
     "name": "stderr",
     "output_type": "stream",
     "text": [
      "\r",
      " 30%|████████████████████████                                                        | 150/500 [08:44<32:08,  5.51s/it]"
     ]
    },
    {
     "name": "stdout",
     "output_type": "stream",
     "text": [
      "[INFO] [2023-02-07 23:14:00,257] [OpenBox-SPO] Iteration 151, objective value: [7.500745891573461].\n"
     ]
    },
    {
     "name": "stderr",
     "output_type": "stream",
     "text": [
      "\r",
      " 30%|████████████████████████▏                                                       | 151/500 [08:50<32:09,  5.53s/it]"
     ]
    },
    {
     "name": "stdout",
     "output_type": "stream",
     "text": [
      "[INFO] [2023-02-07 23:14:06,879] [OpenBox-SPO] Iteration 152, objective value: [4.974345668109088].\n"
     ]
    },
    {
     "name": "stderr",
     "output_type": "stream",
     "text": [
      "\r",
      " 30%|████████████████████████▎                                                       | 152/500 [08:56<33:57,  5.85s/it]"
     ]
    },
    {
     "name": "stdout",
     "output_type": "stream",
     "text": [
      "[INFO] [2023-02-07 23:14:12,293] [OpenBox-SPO] Iteration 153, objective value: [0.15004340686016898].\n"
     ]
    },
    {
     "name": "stderr",
     "output_type": "stream",
     "text": [
      "\r",
      " 31%|████████████████████████▍                                                       | 153/500 [09:02<33:05,  5.72s/it]"
     ]
    },
    {
     "name": "stdout",
     "output_type": "stream",
     "text": [
      "[INFO] [2023-02-07 23:14:12,293] [Advisor] Sample random config. rand_prob=0.100000.\n",
      "[INFO] [2023-02-07 23:14:12,293] [OpenBox-SPO] Iteration 154, objective value: [2.270275079287324].\n",
      "[INFO] [2023-02-07 23:14:18,492] [OpenBox-SPO] Iteration 155, objective value: [0.09006973056824313].\n"
     ]
    },
    {
     "name": "stderr",
     "output_type": "stream",
     "text": [
      "\r",
      " 31%|████████████████████████▊                                                       | 155/500 [09:08<25:57,  4.52s/it]"
     ]
    },
    {
     "name": "stdout",
     "output_type": "stream",
     "text": [
      "[INFO] [2023-02-07 23:14:25,267] [OpenBox-SPO] Iteration 156, objective value: [10.0].\n"
     ]
    },
    {
     "name": "stderr",
     "output_type": "stream",
     "text": [
      "\r",
      " 31%|████████████████████████▉                                                       | 156/500 [09:15<29:05,  5.07s/it]"
     ]
    },
    {
     "name": "stdout",
     "output_type": "stream",
     "text": [
      "[INFO] [2023-02-07 23:14:31,642] [OpenBox-SPO] Iteration 157, objective value: [0.10689028527052925].\n"
     ]
    },
    {
     "name": "stderr",
     "output_type": "stream",
     "text": [
      "\r",
      " 31%|█████████████████████████                                                       | 157/500 [09:21<30:57,  5.41s/it]"
     ]
    },
    {
     "name": "stdout",
     "output_type": "stream",
     "text": [
      "[INFO] [2023-02-07 23:14:37,966] [OpenBox-SPO] Iteration 158, objective value: [0.10391600839115007].\n"
     ]
    },
    {
     "name": "stderr",
     "output_type": "stream",
     "text": [
      "\r",
      " 32%|█████████████████████████▎                                                      | 158/500 [09:28<32:16,  5.66s/it]"
     ]
    },
    {
     "name": "stdout",
     "output_type": "stream",
     "text": [
      "[INFO] [2023-02-07 23:14:44,954] [OpenBox-SPO] Iteration 159, objective value: [2.0025108588296034].\n"
     ]
    },
    {
     "name": "stderr",
     "output_type": "stream",
     "text": [
      "\r",
      " 32%|█████████████████████████▍                                                      | 159/500 [09:35<34:17,  6.03s/it]"
     ]
    },
    {
     "name": "stdout",
     "output_type": "stream",
     "text": [
      "[INFO] [2023-02-07 23:14:49,406] [OpenBox-SPO] Iteration 160, objective value: [0.03542121523340119].\n"
     ]
    },
    {
     "name": "stderr",
     "output_type": "stream",
     "text": [
      "\r",
      " 32%|█████████████████████████▌                                                      | 160/500 [09:39<31:37,  5.58s/it]"
     ]
    },
    {
     "name": "stdout",
     "output_type": "stream",
     "text": [
      "[INFO] [2023-02-07 23:14:55,103] [OpenBox-SPO] Iteration 161, objective value: [10.0].\n"
     ]
    },
    {
     "name": "stderr",
     "output_type": "stream",
     "text": [
      "\r",
      " 32%|█████████████████████████▊                                                      | 161/500 [09:45<31:43,  5.61s/it]"
     ]
    },
    {
     "name": "stdout",
     "output_type": "stream",
     "text": [
      "[INFO] [2023-02-07 23:14:59,889] [OpenBox-SPO] Iteration 162, objective value: [0.0101701959710581].\n"
     ]
    },
    {
     "name": "stderr",
     "output_type": "stream",
     "text": [
      "\r",
      " 32%|█████████████████████████▉                                                      | 162/500 [09:49<30:15,  5.37s/it]"
     ]
    },
    {
     "name": "stdout",
     "output_type": "stream",
     "text": [
      "[INFO] [2023-02-07 23:15:05,271] [OpenBox-SPO] Iteration 163, objective value: [0.10968530726703424].\n"
     ]
    },
    {
     "name": "stderr",
     "output_type": "stream",
     "text": [
      "\r",
      " 33%|██████████████████████████                                                      | 163/500 [09:55<30:11,  5.37s/it]"
     ]
    },
    {
     "name": "stdout",
     "output_type": "stream",
     "text": [
      "[INFO] [2023-02-07 23:15:12,347] [OpenBox-SPO] Iteration 164, objective value: [0.1159165806707842].\n"
     ]
    },
    {
     "name": "stderr",
     "output_type": "stream",
     "text": [
      "\r",
      " 33%|██████████████████████████▏                                                     | 164/500 [10:02<32:55,  5.88s/it]"
     ]
    },
    {
     "name": "stdout",
     "output_type": "stream",
     "text": [
      "[INFO] [2023-02-07 23:15:16,805] [OpenBox-SPO] Iteration 165, objective value: [0.022482145591526052].\n"
     ]
    },
    {
     "name": "stderr",
     "output_type": "stream",
     "text": [
      "\r",
      " 33%|██████████████████████████▍                                                     | 165/500 [10:06<30:27,  5.46s/it]"
     ]
    },
    {
     "name": "stdout",
     "output_type": "stream",
     "text": [
      "[INFO] [2023-02-07 23:15:21,560] [OpenBox-SPO] Iteration 166, objective value: [0.05716348225254686].\n"
     ]
    },
    {
     "name": "stderr",
     "output_type": "stream",
     "text": [
      "\r",
      " 33%|██████████████████████████▌                                                     | 166/500 [10:11<29:12,  5.25s/it]"
     ]
    },
    {
     "name": "stdout",
     "output_type": "stream",
     "text": [
      "[INFO] [2023-02-07 23:15:27,774] [OpenBox-SPO] Iteration 167, objective value: [7.149428372724328].\n"
     ]
    },
    {
     "name": "stderr",
     "output_type": "stream",
     "text": [
      "\r",
      " 33%|██████████████████████████▋                                                     | 167/500 [10:17<30:43,  5.54s/it]"
     ]
    },
    {
     "name": "stdout",
     "output_type": "stream",
     "text": [
      "[INFO] [2023-02-07 23:15:32,765] [OpenBox-SPO] Iteration 168, objective value: [0.06299116346338883].\n"
     ]
    },
    {
     "name": "stderr",
     "output_type": "stream",
     "text": [
      "\r",
      " 34%|██████████████████████████▉                                                     | 168/500 [10:22<29:43,  5.37s/it]"
     ]
    },
    {
     "name": "stdout",
     "output_type": "stream",
     "text": [
      "[INFO] [2023-02-07 23:15:37,629] [OpenBox-SPO] Iteration 169, objective value: [0.0026750285994790297].\n"
     ]
    },
    {
     "name": "stderr",
     "output_type": "stream",
     "text": [
      "\r",
      " 34%|███████████████████████████                                                     | 169/500 [10:27<28:48,  5.22s/it]"
     ]
    },
    {
     "name": "stdout",
     "output_type": "stream",
     "text": [
      "[INFO] [2023-02-07 23:15:42,478] [OpenBox-SPO] Iteration 170, objective value: [0.026093981462711895].\n"
     ]
    },
    {
     "name": "stderr",
     "output_type": "stream",
     "text": [
      "\r",
      " 34%|███████████████████████████▏                                                    | 170/500 [10:32<28:06,  5.11s/it]"
     ]
    },
    {
     "name": "stdout",
     "output_type": "stream",
     "text": [
      "[INFO] [2023-02-07 23:15:48,927] [OpenBox-SPO] Iteration 171, objective value: [0.05892700632419832].\n"
     ]
    },
    {
     "name": "stderr",
     "output_type": "stream",
     "text": [
      "\r",
      " 34%|███████████████████████████▎                                                    | 171/500 [10:39<30:13,  5.51s/it]"
     ]
    },
    {
     "name": "stdout",
     "output_type": "stream",
     "text": [
      "[INFO] [2023-02-07 23:15:53,887] [OpenBox-SPO] Iteration 172, objective value: [0.029080144874369804].\n"
     ]
    },
    {
     "name": "stderr",
     "output_type": "stream",
     "text": [
      "\r",
      " 34%|███████████████████████████▌                                                    | 172/500 [10:43<29:13,  5.35s/it]"
     ]
    },
    {
     "name": "stdout",
     "output_type": "stream",
     "text": [
      "[INFO] [2023-02-07 23:16:00,430] [OpenBox-SPO] Iteration 173, objective value: [0.9664705997463903].\n"
     ]
    },
    {
     "name": "stderr",
     "output_type": "stream",
     "text": [
      "\r",
      " 35%|███████████████████████████▋                                                    | 173/500 [10:50<31:05,  5.70s/it]"
     ]
    },
    {
     "name": "stdout",
     "output_type": "stream",
     "text": [
      "[INFO] [2023-02-07 23:16:06,628] [OpenBox-SPO] Iteration 174, objective value: [0.030792940636924043].\n"
     ]
    },
    {
     "name": "stderr",
     "output_type": "stream",
     "text": [
      "\r",
      " 35%|███████████████████████████▊                                                    | 174/500 [10:56<31:47,  5.85s/it]"
     ]
    },
    {
     "name": "stdout",
     "output_type": "stream",
     "text": [
      "[INFO] [2023-02-07 23:16:13,000] [OpenBox-SPO] Iteration 175, objective value: [0.9335915987231272].\n"
     ]
    },
    {
     "name": "stderr",
     "output_type": "stream",
     "text": [
      "\r",
      " 35%|████████████████████████████                                                    | 175/500 [11:03<32:32,  6.01s/it]"
     ]
    },
    {
     "name": "stdout",
     "output_type": "stream",
     "text": [
      "[INFO] [2023-02-07 23:16:19,715] [OpenBox-SPO] Iteration 176, objective value: [0.023898932452003967].\n"
     ]
    },
    {
     "name": "stderr",
     "output_type": "stream",
     "text": [
      "\r",
      " 35%|████████████████████████████▏                                                   | 176/500 [11:09<33:35,  6.22s/it]"
     ]
    },
    {
     "name": "stdout",
     "output_type": "stream",
     "text": [
      "[INFO] [2023-02-07 23:16:26,777] [OpenBox-SPO] Iteration 177, objective value: [1.3260546307672896].\n"
     ]
    },
    {
     "name": "stderr",
     "output_type": "stream",
     "text": [
      "\r",
      " 35%|████████████████████████████▎                                                   | 177/500 [11:16<34:50,  6.47s/it]"
     ]
    },
    {
     "name": "stdout",
     "output_type": "stream",
     "text": [
      "[INFO] [2023-02-07 23:16:33,154] [OpenBox-SPO] Iteration 178, objective value: [0.05124781075293818].\n"
     ]
    },
    {
     "name": "stderr",
     "output_type": "stream",
     "text": [
      "\r",
      " 36%|████████████████████████████▍                                                   | 178/500 [11:23<34:34,  6.44s/it]"
     ]
    },
    {
     "name": "stdout",
     "output_type": "stream",
     "text": [
      "[INFO] [2023-02-07 23:16:39,928] [OpenBox-SPO] Iteration 179, objective value: [0.14282908930992627].\n"
     ]
    },
    {
     "name": "stderr",
     "output_type": "stream",
     "text": [
      "\r",
      " 36%|████████████████████████████▋                                                   | 179/500 [11:30<35:00,  6.54s/it]"
     ]
    },
    {
     "name": "stdout",
     "output_type": "stream",
     "text": [
      "[INFO] [2023-02-07 23:16:46,832] [OpenBox-SPO] Iteration 180, objective value: [0.03055526639356817].\n"
     ]
    },
    {
     "name": "stderr",
     "output_type": "stream",
     "text": [
      "\r",
      " 36%|████████████████████████████▊                                                   | 180/500 [11:36<35:28,  6.65s/it]"
     ]
    },
    {
     "name": "stdout",
     "output_type": "stream",
     "text": [
      "[INFO] [2023-02-07 23:16:53,896] [OpenBox-SPO] Iteration 181, objective value: [0.04052508385939184].\n"
     ]
    },
    {
     "name": "stderr",
     "output_type": "stream",
     "text": [
      "\r",
      " 36%|████████████████████████████▉                                                   | 181/500 [11:43<36:01,  6.78s/it]"
     ]
    },
    {
     "name": "stdout",
     "output_type": "stream",
     "text": [
      "[INFO] [2023-02-07 23:17:00,663] [OpenBox-SPO] Iteration 182, objective value: [3.652922998799924].\n"
     ]
    },
    {
     "name": "stderr",
     "output_type": "stream",
     "text": [
      "\r",
      " 36%|█████████████████████████████                                                   | 182/500 [11:50<35:53,  6.77s/it]"
     ]
    },
    {
     "name": "stdout",
     "output_type": "stream",
     "text": [
      "[INFO] [2023-02-07 23:17:08,013] [OpenBox-SPO] Iteration 183, objective value: [1.4837482180199724].\n"
     ]
    },
    {
     "name": "stderr",
     "output_type": "stream",
     "text": [
      "\r",
      " 37%|█████████████████████████████▎                                                  | 183/500 [11:58<36:41,  6.95s/it]"
     ]
    },
    {
     "name": "stdout",
     "output_type": "stream",
     "text": [
      "[INFO] [2023-02-07 23:17:13,636] [OpenBox-SPO] Iteration 184, objective value: [0.0068201000836322755].\n"
     ]
    },
    {
     "name": "stderr",
     "output_type": "stream",
     "text": [
      "\r",
      " 37%|█████████████████████████████▍                                                  | 184/500 [12:03<34:29,  6.55s/it]"
     ]
    },
    {
     "name": "stdout",
     "output_type": "stream",
     "text": [
      "[INFO] [2023-02-07 23:17:18,382] [OpenBox-SPO] Iteration 185, objective value: [0.016368230164340306].\n"
     ]
    },
    {
     "name": "stderr",
     "output_type": "stream",
     "text": [
      "\r",
      " 37%|█████████████████████████████▌                                                  | 185/500 [12:08<31:32,  6.01s/it]"
     ]
    },
    {
     "name": "stdout",
     "output_type": "stream",
     "text": [
      "[INFO] [2023-02-07 23:17:23,984] [OpenBox-SPO] Iteration 186, objective value: [0.030221686696522653].\n"
     ]
    },
    {
     "name": "stderr",
     "output_type": "stream",
     "text": [
      "\r",
      " 37%|█████████████████████████████▊                                                  | 186/500 [12:14<30:48,  5.89s/it]"
     ]
    },
    {
     "name": "stdout",
     "output_type": "stream",
     "text": [
      "[INFO] [2023-02-07 23:17:31,718] [OpenBox-SPO] Iteration 187, objective value: [10.0].\n"
     ]
    },
    {
     "name": "stderr",
     "output_type": "stream",
     "text": [
      "\r",
      " 37%|█████████████████████████████▉                                                  | 187/500 [12:21<33:35,  6.44s/it]"
     ]
    },
    {
     "name": "stdout",
     "output_type": "stream",
     "text": [
      "[INFO] [2023-02-07 23:17:39,092] [OpenBox-SPO] Iteration 188, objective value: [1.3554263364499086].\n"
     ]
    },
    {
     "name": "stderr",
     "output_type": "stream",
     "text": [
      "\r",
      " 38%|██████████████████████████████                                                  | 188/500 [12:29<34:56,  6.72s/it]"
     ]
    },
    {
     "name": "stdout",
     "output_type": "stream",
     "text": [
      "[INFO] [2023-02-07 23:17:44,496] [OpenBox-SPO] Iteration 189, objective value: [0.017053240139099157].\n"
     ]
    },
    {
     "name": "stderr",
     "output_type": "stream",
     "text": [
      "\r",
      " 38%|██████████████████████████████▏                                                 | 189/500 [12:34<32:47,  6.33s/it]"
     ]
    },
    {
     "name": "stdout",
     "output_type": "stream",
     "text": [
      "[INFO] [2023-02-07 23:17:44,496] [Advisor] Sample random config. rand_prob=0.100000.\n",
      "[INFO] [2023-02-07 23:17:44,506] [OpenBox-SPO] Iteration 190, objective value: [1.412788398063017].\n",
      "[INFO] [2023-02-07 23:17:52,035] [OpenBox-SPO] Iteration 191, objective value: [0.733160886153735].\n"
     ]
    },
    {
     "name": "stderr",
     "output_type": "stream",
     "text": [
      "\r",
      " 38%|██████████████████████████████▌                                                 | 191/500 [12:42<26:30,  5.15s/it]"
     ]
    },
    {
     "name": "stdout",
     "output_type": "stream",
     "text": [
      "[INFO] [2023-02-07 23:17:59,381] [OpenBox-SPO] Iteration 192, objective value: [0.01664208972599881].\n"
     ]
    },
    {
     "name": "stderr",
     "output_type": "stream",
     "text": [
      "\r",
      " 38%|██████████████████████████████▋                                                 | 192/500 [12:49<29:12,  5.69s/it]"
     ]
    },
    {
     "name": "stdout",
     "output_type": "stream",
     "text": [
      "[INFO] [2023-02-07 23:18:06,708] [OpenBox-SPO] Iteration 193, objective value: [0.06854642255906299].\n"
     ]
    },
    {
     "name": "stderr",
     "output_type": "stream",
     "text": [
      "\r",
      " 39%|██████████████████████████████▉                                                 | 193/500 [12:56<31:18,  6.12s/it]"
     ]
    },
    {
     "name": "stdout",
     "output_type": "stream",
     "text": [
      "[INFO] [2023-02-07 23:18:12,245] [OpenBox-SPO] Iteration 194, objective value: [0.014448757142402987].\n"
     ]
    },
    {
     "name": "stderr",
     "output_type": "stream",
     "text": [
      "\r",
      " 39%|███████████████████████████████                                                 | 194/500 [13:02<30:23,  5.96s/it]"
     ]
    },
    {
     "name": "stdout",
     "output_type": "stream",
     "text": [
      "[INFO] [2023-02-07 23:18:19,662] [OpenBox-SPO] Iteration 195, objective value: [2.1518185414209565].\n"
     ]
    },
    {
     "name": "stderr",
     "output_type": "stream",
     "text": [
      "\r",
      " 39%|███████████████████████████████▏                                                | 195/500 [13:09<32:22,  6.37s/it]"
     ]
    },
    {
     "name": "stdout",
     "output_type": "stream",
     "text": [
      "[INFO] [2023-02-07 23:18:27,068] [OpenBox-SPO] Iteration 196, objective value: [8.016595960843219].\n"
     ]
    },
    {
     "name": "stderr",
     "output_type": "stream",
     "text": [
      "\r",
      " 39%|███████████████████████████████▎                                                | 196/500 [13:17<33:46,  6.66s/it]"
     ]
    },
    {
     "name": "stdout",
     "output_type": "stream",
     "text": [
      "[INFO] [2023-02-07 23:18:33,851] [OpenBox-SPO] Iteration 197, objective value: [7.008408147976957].\n"
     ]
    },
    {
     "name": "stderr",
     "output_type": "stream",
     "text": [
      "\r",
      " 39%|███████████████████████████████▌                                                | 197/500 [13:23<33:49,  6.70s/it]"
     ]
    },
    {
     "name": "stdout",
     "output_type": "stream",
     "text": [
      "[INFO] [2023-02-07 23:18:41,299] [OpenBox-SPO] Iteration 198, objective value: [1.084189915832587].\n"
     ]
    },
    {
     "name": "stderr",
     "output_type": "stream",
     "text": [
      "\r",
      " 40%|███████████████████████████████▋                                                | 198/500 [13:31<34:49,  6.92s/it]"
     ]
    },
    {
     "name": "stdout",
     "output_type": "stream",
     "text": [
      "[INFO] [2023-02-07 23:18:46,414] [OpenBox-SPO] Iteration 199, objective value: [0.02168879244824961].\n"
     ]
    },
    {
     "name": "stderr",
     "output_type": "stream",
     "text": [
      "\r",
      " 40%|███████████████████████████████▊                                                | 199/500 [13:36<32:02,  6.39s/it]"
     ]
    },
    {
     "name": "stdout",
     "output_type": "stream",
     "text": [
      "[INFO] [2023-02-07 23:18:54,672] [OpenBox-SPO] Iteration 200, objective value: [0.6529043177237785].\n"
     ]
    },
    {
     "name": "stderr",
     "output_type": "stream",
     "text": [
      "\r",
      " 40%|████████████████████████████████                                                | 200/500 [13:44<34:42,  6.94s/it]"
     ]
    },
    {
     "name": "stdout",
     "output_type": "stream",
     "text": [
      "[INFO] [2023-02-07 23:18:54,672] [Advisor] Sample random config. rand_prob=0.100000.\n",
      "[INFO] [2023-02-07 23:18:54,672] [OpenBox-SPO] Iteration 201, objective value: [0.9099743612314269].\n",
      "[INFO] [2023-02-07 23:18:54,680] [Advisor] Sample random config. rand_prob=0.100000.\n",
      "[INFO] [2023-02-07 23:18:54,681] [OpenBox-SPO] Iteration 202, objective value: [1.4580252906404612].\n",
      "[INFO] [2023-02-07 23:19:02,722] [OpenBox-SPO] Iteration 203, objective value: [0.23940962562500623].\n"
     ]
    },
    {
     "name": "stderr",
     "output_type": "stream",
     "text": [
      "\r",
      " 41%|████████████████████████████████▍                                               | 203/500 [13:52<22:33,  4.56s/it]"
     ]
    },
    {
     "name": "stdout",
     "output_type": "stream",
     "text": [
      "[INFO] [2023-02-07 23:19:10,831] [OpenBox-SPO] Iteration 204, objective value: [0.03017353169165408].\n"
     ]
    },
    {
     "name": "stderr",
     "output_type": "stream",
     "text": [
      "\r",
      " 41%|████████████████████████████████▋                                               | 204/500 [14:00<26:10,  5.31s/it]"
     ]
    },
    {
     "name": "stdout",
     "output_type": "stream",
     "text": [
      "[INFO] [2023-02-07 23:19:16,620] [OpenBox-SPO] Iteration 205, objective value: [0.018845136993852].\n"
     ]
    },
    {
     "name": "stderr",
     "output_type": "stream",
     "text": [
      "\r",
      " 41%|████████████████████████████████▊                                               | 205/500 [14:06<26:38,  5.42s/it]"
     ]
    },
    {
     "name": "stdout",
     "output_type": "stream",
     "text": [
      "[INFO] [2023-02-07 23:19:23,957] [OpenBox-SPO] Iteration 206, objective value: [0.18108260693684106].\n"
     ]
    },
    {
     "name": "stderr",
     "output_type": "stream",
     "text": [
      "\r",
      " 41%|████████████████████████████████▉                                               | 206/500 [14:14<28:53,  5.90s/it]"
     ]
    },
    {
     "name": "stdout",
     "output_type": "stream",
     "text": [
      "[INFO] [2023-02-07 23:19:30,216] [OpenBox-SPO] Iteration 207, objective value: [0.024797601929280638].\n"
     ]
    },
    {
     "name": "stderr",
     "output_type": "stream",
     "text": [
      "\r",
      " 41%|█████████████████████████████████                                               | 207/500 [14:20<29:14,  5.99s/it]"
     ]
    },
    {
     "name": "stdout",
     "output_type": "stream",
     "text": [
      "[INFO] [2023-02-07 23:19:35,882] [OpenBox-SPO] Iteration 208, objective value: [0.010595644602686737].\n"
     ]
    },
    {
     "name": "stderr",
     "output_type": "stream",
     "text": [
      "\r",
      " 42%|█████████████████████████████████▎                                              | 208/500 [14:25<28:42,  5.90s/it]"
     ]
    },
    {
     "name": "stdout",
     "output_type": "stream",
     "text": [
      "[INFO] [2023-02-07 23:19:42,026] [OpenBox-SPO] Iteration 209, objective value: [0.017181679219289].\n"
     ]
    },
    {
     "name": "stderr",
     "output_type": "stream",
     "text": [
      "\r",
      " 42%|█████████████████████████████████▍                                              | 209/500 [14:32<28:56,  5.97s/it]"
     ]
    },
    {
     "name": "stdout",
     "output_type": "stream",
     "text": [
      "[INFO] [2023-02-07 23:19:49,686] [OpenBox-SPO] Iteration 210, objective value: [9.01251991389649].\n"
     ]
    },
    {
     "name": "stderr",
     "output_type": "stream",
     "text": [
      "\r",
      " 42%|█████████████████████████████████▌                                              | 210/500 [14:39<31:11,  6.45s/it]"
     ]
    },
    {
     "name": "stdout",
     "output_type": "stream",
     "text": [
      "[INFO] [2023-02-07 23:19:57,421] [OpenBox-SPO] Iteration 211, objective value: [1.0130234005915433].\n"
     ]
    },
    {
     "name": "stderr",
     "output_type": "stream",
     "text": [
      "\r",
      " 42%|█████████████████████████████████▊                                              | 211/500 [14:47<32:52,  6.82s/it]"
     ]
    },
    {
     "name": "stdout",
     "output_type": "stream",
     "text": [
      "[INFO] [2023-02-07 23:20:03,060] [OpenBox-SPO] Iteration 212, objective value: [0.04470560966732694].\n"
     ]
    },
    {
     "name": "stderr",
     "output_type": "stream",
     "text": [
      "\r",
      " 42%|█████████████████████████████████▉                                              | 212/500 [14:53<31:05,  6.48s/it]"
     ]
    },
    {
     "name": "stdout",
     "output_type": "stream",
     "text": [
      "[INFO] [2023-02-07 23:20:10,373] [OpenBox-SPO] Iteration 213, objective value: [0.0751201370420777].\n"
     ]
    },
    {
     "name": "stderr",
     "output_type": "stream",
     "text": [
      "\r",
      " 43%|██████████████████████████████████                                              | 213/500 [15:00<32:09,  6.72s/it]"
     ]
    },
    {
     "name": "stdout",
     "output_type": "stream",
     "text": [
      "[INFO] [2023-02-07 23:20:10,373] [Advisor] Sample random config. rand_prob=0.100000.\n",
      "[INFO] [2023-02-07 23:20:10,378] [OpenBox-SPO] Iteration 214, objective value: [2.1518122283783505].\n",
      "[INFO] [2023-02-07 23:20:18,250] [OpenBox-SPO] Iteration 215, objective value: [0.02642720795754671].\n"
     ]
    },
    {
     "name": "stderr",
     "output_type": "stream",
     "text": [
      "\r",
      " 43%|██████████████████████████████████▍                                             | 215/500 [15:08<25:53,  5.45s/it]"
     ]
    },
    {
     "name": "stdout",
     "output_type": "stream",
     "text": [
      "[INFO] [2023-02-07 23:20:26,385] [OpenBox-SPO] Iteration 216, objective value: [1.145467963101456].\n"
     ]
    },
    {
     "name": "stderr",
     "output_type": "stream",
     "text": [
      "\r",
      " 43%|██████████████████████████████████▌                                             | 216/500 [15:16<28:56,  6.11s/it]"
     ]
    },
    {
     "name": "stdout",
     "output_type": "stream",
     "text": [
      "[INFO] [2023-02-07 23:20:32,437] [OpenBox-SPO] Iteration 217, objective value: [0.00778919482614331].\n"
     ]
    },
    {
     "name": "stderr",
     "output_type": "stream",
     "text": [
      "\r",
      " 43%|██████████████████████████████████▋                                             | 217/500 [15:22<28:44,  6.09s/it]"
     ]
    },
    {
     "name": "stdout",
     "output_type": "stream",
     "text": [
      "[INFO] [2023-02-07 23:20:40,868] [OpenBox-SPO] Iteration 218, objective value: [2.119448034027728].\n"
     ]
    },
    {
     "name": "stderr",
     "output_type": "stream",
     "text": [
      "\r",
      " 44%|██████████████████████████████████▉                                             | 218/500 [15:30<31:37,  6.73s/it]"
     ]
    },
    {
     "name": "stdout",
     "output_type": "stream",
     "text": [
      "[INFO] [2023-02-07 23:20:47,617] [OpenBox-SPO] Iteration 219, objective value: [0.0062508900636556175].\n"
     ]
    },
    {
     "name": "stderr",
     "output_type": "stream",
     "text": [
      "\r",
      " 44%|███████████████████████████████████                                             | 219/500 [15:37<31:32,  6.73s/it]"
     ]
    },
    {
     "name": "stdout",
     "output_type": "stream",
     "text": [
      "[INFO] [2023-02-07 23:20:54,004] [OpenBox-SPO] Iteration 220, objective value: [0.02677621441433507].\n"
     ]
    },
    {
     "name": "stderr",
     "output_type": "stream",
     "text": [
      "\r",
      " 44%|███████████████████████████████████▏                                            | 220/500 [15:44<30:57,  6.63s/it]"
     ]
    },
    {
     "name": "stdout",
     "output_type": "stream",
     "text": [
      "[INFO] [2023-02-07 23:21:02,226] [OpenBox-SPO] Iteration 221, objective value: [6.2566290403280895].\n"
     ]
    },
    {
     "name": "stderr",
     "output_type": "stream",
     "text": [
      "\r",
      " 44%|███████████████████████████████████▎                                            | 221/500 [15:52<32:59,  7.09s/it]"
     ]
    },
    {
     "name": "stdout",
     "output_type": "stream",
     "text": [
      "[INFO] [2023-02-07 23:21:08,585] [OpenBox-SPO] Iteration 222, objective value: [0.025293719412567067].\n"
     ]
    },
    {
     "name": "stderr",
     "output_type": "stream",
     "text": [
      "\r",
      " 44%|███████████████████████████████████▌                                            | 222/500 [15:58<31:52,  6.88s/it]"
     ]
    },
    {
     "name": "stdout",
     "output_type": "stream",
     "text": [
      "[INFO] [2023-02-07 23:21:16,617] [OpenBox-SPO] Iteration 223, objective value: [0.1904943970820827].\n"
     ]
    },
    {
     "name": "stderr",
     "output_type": "stream",
     "text": [
      "\r",
      " 45%|███████████████████████████████████▋                                            | 223/500 [16:06<33:19,  7.22s/it]"
     ]
    },
    {
     "name": "stdout",
     "output_type": "stream",
     "text": [
      "[INFO] [2023-02-07 23:21:24,704] [OpenBox-SPO] Iteration 224, objective value: [0.06468059197436384].\n"
     ]
    },
    {
     "name": "stderr",
     "output_type": "stream",
     "text": [
      "\r",
      " 45%|███████████████████████████████████▊                                            | 224/500 [16:14<34:24,  7.48s/it]"
     ]
    },
    {
     "name": "stdout",
     "output_type": "stream",
     "text": [
      "[INFO] [2023-02-07 23:21:30,178] [OpenBox-SPO] Iteration 225, objective value: [0.032375211151507266].\n"
     ]
    },
    {
     "name": "stderr",
     "output_type": "stream",
     "text": [
      "\r",
      " 45%|████████████████████████████████████                                            | 225/500 [16:20<31:31,  6.88s/it]"
     ]
    },
    {
     "name": "stdout",
     "output_type": "stream",
     "text": [
      "[INFO] [2023-02-07 23:21:37,794] [OpenBox-SPO] Iteration 226, objective value: [10.0].\n"
     ]
    },
    {
     "name": "stderr",
     "output_type": "stream",
     "text": [
      "\r",
      " 45%|████████████████████████████████████▏                                           | 226/500 [16:27<32:25,  7.10s/it]"
     ]
    },
    {
     "name": "stdout",
     "output_type": "stream",
     "text": [
      "[INFO] [2023-02-07 23:21:44,004] [OpenBox-SPO] Iteration 227, objective value: [0.011843176111243003].\n"
     ]
    },
    {
     "name": "stderr",
     "output_type": "stream",
     "text": [
      "\r",
      " 45%|████████████████████████████████████▎                                           | 227/500 [16:34<31:05,  6.83s/it]"
     ]
    },
    {
     "name": "stdout",
     "output_type": "stream",
     "text": [
      "[INFO] [2023-02-07 23:21:53,845] [OpenBox-SPO] Iteration 228, objective value: [0.07452071849715096].\n"
     ]
    },
    {
     "name": "stderr",
     "output_type": "stream",
     "text": [
      "\r",
      " 46%|████████████████████████████████████▍                                           | 228/500 [16:43<35:03,  7.73s/it]"
     ]
    },
    {
     "name": "stdout",
     "output_type": "stream",
     "text": [
      "[INFO] [2023-02-07 23:22:03,764] [OpenBox-SPO] Iteration 229, objective value: [5.014793166069518].\n"
     ]
    },
    {
     "name": "stderr",
     "output_type": "stream",
     "text": [
      "\r",
      " 46%|████████████████████████████████████▋                                           | 229/500 [16:53<37:53,  8.39s/it]"
     ]
    },
    {
     "name": "stdout",
     "output_type": "stream",
     "text": [
      "[INFO] [2023-02-07 23:22:10,571] [OpenBox-SPO] Iteration 230, objective value: [0.03615553289865568].\n"
     ]
    },
    {
     "name": "stderr",
     "output_type": "stream",
     "text": [
      "\r",
      " 46%|████████████████████████████████████▊                                           | 230/500 [17:00<35:36,  7.91s/it]"
     ]
    },
    {
     "name": "stdout",
     "output_type": "stream",
     "text": [
      "[INFO] [2023-02-07 23:22:20,899] [OpenBox-SPO] Iteration 231, objective value: [0.30523445566882623].\n"
     ]
    },
    {
     "name": "stderr",
     "output_type": "stream",
     "text": [
      "\r",
      " 46%|████████████████████████████████████▉                                           | 231/500 [17:10<38:43,  8.64s/it]"
     ]
    },
    {
     "name": "stdout",
     "output_type": "stream",
     "text": [
      "[INFO] [2023-02-07 23:22:30,254] [OpenBox-SPO] Iteration 232, objective value: [0.11463622041033064].\n"
     ]
    },
    {
     "name": "stderr",
     "output_type": "stream",
     "text": [
      "\r",
      " 46%|█████████████████████████████████████                                           | 232/500 [17:20<39:32,  8.85s/it]"
     ]
    },
    {
     "name": "stdout",
     "output_type": "stream",
     "text": [
      "[INFO] [2023-02-07 23:22:40,031] [OpenBox-SPO] Iteration 233, objective value: [0.6940901235200729].\n"
     ]
    },
    {
     "name": "stderr",
     "output_type": "stream",
     "text": [
      "\r",
      " 47%|█████████████████████████████████████▎                                          | 233/500 [17:30<40:37,  9.13s/it]"
     ]
    },
    {
     "name": "stdout",
     "output_type": "stream",
     "text": [
      "[INFO] [2023-02-07 23:22:47,095] [OpenBox-SPO] Iteration 234, objective value: [0.03321289901875121].\n"
     ]
    },
    {
     "name": "stderr",
     "output_type": "stream",
     "text": [
      "\r",
      " 47%|█████████████████████████████████████▍                                          | 234/500 [17:37<37:43,  8.51s/it]"
     ]
    },
    {
     "name": "stdout",
     "output_type": "stream",
     "text": [
      "[INFO] [2023-02-07 23:22:47,095] [Advisor] Sample random config. rand_prob=0.100000.\n",
      "[INFO] [2023-02-07 23:22:47,101] [OpenBox-SPO] Iteration 235, objective value: [2.511665040637369].\n",
      "[INFO] [2023-02-07 23:22:53,844] [OpenBox-SPO] Iteration 236, objective value: [0.004574003902274417].\n"
     ]
    },
    {
     "name": "stderr",
     "output_type": "stream",
     "text": [
      "\r",
      " 47%|█████████████████████████████████████▊                                          | 236/500 [17:43<27:01,  6.14s/it]"
     ]
    },
    {
     "name": "stdout",
     "output_type": "stream",
     "text": [
      "[INFO] [2023-02-07 23:23:02,170] [OpenBox-SPO] Iteration 237, objective value: [0.2830283341409243].\n"
     ]
    },
    {
     "name": "stderr",
     "output_type": "stream",
     "text": [
      "\r",
      " 47%|█████████████████████████████████████▉                                          | 237/500 [17:52<29:17,  6.68s/it]"
     ]
    },
    {
     "name": "stdout",
     "output_type": "stream",
     "text": [
      "[INFO] [2023-02-07 23:23:11,380] [OpenBox-SPO] Iteration 238, objective value: [1.43952357328771].\n"
     ]
    },
    {
     "name": "stderr",
     "output_type": "stream",
     "text": [
      "\r",
      " 48%|██████████████████████████████████████                                          | 238/500 [18:01<32:03,  7.34s/it]"
     ]
    },
    {
     "name": "stdout",
     "output_type": "stream",
     "text": [
      "[INFO] [2023-02-07 23:23:18,435] [OpenBox-SPO] Iteration 239, objective value: [0.0037244886331103365].\n"
     ]
    },
    {
     "name": "stderr",
     "output_type": "stream",
     "text": [
      "\r",
      " 48%|██████████████████████████████████████▏                                         | 239/500 [18:08<31:36,  7.26s/it]"
     ]
    },
    {
     "name": "stdout",
     "output_type": "stream",
     "text": [
      "[INFO] [2023-02-07 23:23:28,571] [OpenBox-SPO] Iteration 240, objective value: [0.24145962074466967].\n"
     ]
    },
    {
     "name": "stderr",
     "output_type": "stream",
     "text": [
      "\r",
      " 48%|██████████████████████████████████████▍                                         | 240/500 [18:18<34:57,  8.07s/it]"
     ]
    },
    {
     "name": "stdout",
     "output_type": "stream",
     "text": [
      "[INFO] [2023-02-07 23:23:37,964] [OpenBox-SPO] Iteration 241, objective value: [0.08876755465194071].\n"
     ]
    },
    {
     "name": "stderr",
     "output_type": "stream",
     "text": [
      "\r",
      " 48%|██████████████████████████████████████▌                                         | 241/500 [18:28<36:27,  8.45s/it]"
     ]
    },
    {
     "name": "stdout",
     "output_type": "stream",
     "text": [
      "[INFO] [2023-02-07 23:23:48,077] [OpenBox-SPO] Iteration 242, objective value: [0.02186800948807075].\n"
     ]
    },
    {
     "name": "stderr",
     "output_type": "stream",
     "text": [
      "\r",
      " 48%|██████████████████████████████████████▋                                         | 242/500 [18:38<38:23,  8.93s/it]"
     ]
    },
    {
     "name": "stdout",
     "output_type": "stream",
     "text": [
      "[INFO] [2023-02-07 23:23:48,077] [Advisor] Sample random config. rand_prob=0.100000.\n",
      "[INFO] [2023-02-07 23:23:48,083] [OpenBox-SPO] Iteration 243, objective value: [1.063344384467534].\n",
      "[INFO] [2023-02-07 23:23:57,574] [OpenBox-SPO] Iteration 244, objective value: [0.07122402884932859].\n"
     ]
    },
    {
     "name": "stderr",
     "output_type": "stream",
     "text": [
      "\r",
      " 49%|███████████████████████████████████████                                         | 244/500 [18:47<30:01,  7.04s/it]"
     ]
    },
    {
     "name": "stdout",
     "output_type": "stream",
     "text": [
      "[INFO] [2023-02-07 23:23:57,574] [Advisor] Sample random config. rand_prob=0.100000.\n",
      "[INFO] [2023-02-07 23:23:57,574] [OpenBox-SPO] Iteration 245, objective value: [2.6917203552991213].\n",
      "[INFO] [2023-02-07 23:24:05,319] [OpenBox-SPO] Iteration 246, objective value: [0.007929421598934902].\n"
     ]
    },
    {
     "name": "stderr",
     "output_type": "stream",
     "text": [
      "\r",
      " 49%|███████████████████████████████████████▎                                        | 246/500 [18:55<24:31,  5.79s/it]"
     ]
    },
    {
     "name": "stdout",
     "output_type": "stream",
     "text": [
      "[INFO] [2023-02-07 23:24:13,718] [OpenBox-SPO] Iteration 247, objective value: [1.8090004105545077].\n"
     ]
    },
    {
     "name": "stderr",
     "output_type": "stream",
     "text": [
      "\r",
      " 49%|███████████████████████████████████████▌                                        | 247/500 [19:03<26:50,  6.36s/it]"
     ]
    },
    {
     "name": "stdout",
     "output_type": "stream",
     "text": [
      "[INFO] [2023-02-07 23:24:20,574] [OpenBox-SPO] Iteration 248, objective value: [0.00839408905160176].\n"
     ]
    },
    {
     "name": "stderr",
     "output_type": "stream",
     "text": [
      "\r",
      " 50%|███████████████████████████████████████▋                                        | 248/500 [19:10<27:13,  6.48s/it]"
     ]
    },
    {
     "name": "stdout",
     "output_type": "stream",
     "text": [
      "[INFO] [2023-02-07 23:24:28,238] [OpenBox-SPO] Iteration 249, objective value: [0.018361416808108908].\n"
     ]
    },
    {
     "name": "stderr",
     "output_type": "stream",
     "text": [
      "\r",
      " 50%|███████████████████████████████████████▊                                        | 249/500 [19:18<28:22,  6.78s/it]"
     ]
    },
    {
     "name": "stdout",
     "output_type": "stream",
     "text": [
      "[INFO] [2023-02-07 23:24:37,193] [OpenBox-SPO] Iteration 250, objective value: [0.13951756676567348].\n"
     ]
    },
    {
     "name": "stderr",
     "output_type": "stream",
     "text": [
      "\r",
      " 50%|████████████████████████████████████████                                        | 250/500 [19:27<30:40,  7.36s/it]"
     ]
    },
    {
     "name": "stdout",
     "output_type": "stream",
     "text": [
      "[INFO] [2023-02-07 23:24:37,193] [Advisor] Sample random config. rand_prob=0.100000.\n",
      "[INFO] [2023-02-07 23:24:37,201] [OpenBox-SPO] Iteration 251, objective value: [2.3798878351021004].\n",
      "[INFO] [2023-02-07 23:24:45,998] [OpenBox-SPO] Iteration 252, objective value: [1.8996922024895413].\n"
     ]
    },
    {
     "name": "stderr",
     "output_type": "stream",
     "text": [
      "\r",
      " 50%|████████████████████████████████████████▎                                       | 252/500 [19:36<25:08,  6.08s/it]"
     ]
    },
    {
     "name": "stdout",
     "output_type": "stream",
     "text": [
      "[INFO] [2023-02-07 23:24:53,173] [OpenBox-SPO] Iteration 253, objective value: [0.007498709219790575].\n"
     ]
    },
    {
     "name": "stderr",
     "output_type": "stream",
     "text": [
      "\r",
      " 51%|████████████████████████████████████████▍                                       | 253/500 [19:43<26:06,  6.34s/it]"
     ]
    },
    {
     "name": "stdout",
     "output_type": "stream",
     "text": [
      "[INFO] [2023-02-07 23:25:03,083] [OpenBox-SPO] Iteration 254, objective value: [0.0726035484152413].\n"
     ]
    },
    {
     "name": "stderr",
     "output_type": "stream",
     "text": [
      "\r",
      " 51%|████████████████████████████████████████▋                                       | 254/500 [19:53<29:40,  7.24s/it]"
     ]
    },
    {
     "name": "stdout",
     "output_type": "stream",
     "text": [
      "[INFO] [2023-02-07 23:25:12,948] [OpenBox-SPO] Iteration 255, objective value: [0.11876965100249719].\n"
     ]
    },
    {
     "name": "stderr",
     "output_type": "stream",
     "text": [
      "\r",
      " 51%|████████████████████████████████████████▊                                       | 255/500 [20:03<32:24,  7.94s/it]"
     ]
    },
    {
     "name": "stdout",
     "output_type": "stream",
     "text": [
      "[INFO] [2023-02-07 23:25:20,700] [OpenBox-SPO] Iteration 256, objective value: [0.005922769358914238].\n"
     ]
    },
    {
     "name": "stderr",
     "output_type": "stream",
     "text": [
      "\r",
      " 51%|████████████████████████████████████████▉                                       | 256/500 [20:10<32:03,  7.88s/it]"
     ]
    },
    {
     "name": "stdout",
     "output_type": "stream",
     "text": [
      "[INFO] [2023-02-07 23:25:28,123] [OpenBox-SPO] Iteration 257, objective value: [0.0021401669943096322].\n"
     ]
    },
    {
     "name": "stderr",
     "output_type": "stream",
     "text": [
      "\r",
      " 51%|█████████████████████████████████████████                                       | 257/500 [20:18<31:24,  7.75s/it]"
     ]
    },
    {
     "name": "stdout",
     "output_type": "stream",
     "text": [
      "[INFO] [2023-02-07 23:25:39,356] [OpenBox-SPO] Iteration 258, objective value: [0.7308416817746036].\n"
     ]
    },
    {
     "name": "stderr",
     "output_type": "stream",
     "text": [
      "\r",
      " 52%|█████████████████████████████████████████▎                                      | 258/500 [20:29<35:18,  8.75s/it]"
     ]
    },
    {
     "name": "stdout",
     "output_type": "stream",
     "text": [
      "[INFO] [2023-02-07 23:25:47,830] [OpenBox-SPO] Iteration 259, objective value: [0.005421227473010356].\n"
     ]
    },
    {
     "name": "stderr",
     "output_type": "stream",
     "text": [
      "\r",
      " 52%|█████████████████████████████████████████▍                                      | 259/500 [20:37<34:49,  8.67s/it]"
     ]
    },
    {
     "name": "stdout",
     "output_type": "stream",
     "text": [
      "[INFO] [2023-02-07 23:25:58,442] [OpenBox-SPO] Iteration 260, objective value: [0.13730850898860522].\n"
     ]
    },
    {
     "name": "stderr",
     "output_type": "stream",
     "text": [
      "\r",
      " 52%|█████████████████████████████████████████▌                                      | 260/500 [20:48<36:57,  9.24s/it]"
     ]
    },
    {
     "name": "stdout",
     "output_type": "stream",
     "text": [
      "[INFO] [2023-02-07 23:26:06,343] [OpenBox-SPO] Iteration 261, objective value: [0.002295247441117917].\n"
     ]
    },
    {
     "name": "stderr",
     "output_type": "stream",
     "text": [
      "\r",
      " 52%|█████████████████████████████████████████▊                                      | 261/500 [20:56<35:13,  8.85s/it]"
     ]
    },
    {
     "name": "stdout",
     "output_type": "stream",
     "text": [
      "[INFO] [2023-02-07 23:26:17,748] [OpenBox-SPO] Iteration 262, objective value: [1.303971928984277].\n"
     ]
    },
    {
     "name": "stderr",
     "output_type": "stream",
     "text": [
      "\r",
      " 52%|█████████████████████████████████████████▉                                      | 262/500 [21:07<38:05,  9.60s/it]"
     ]
    },
    {
     "name": "stdout",
     "output_type": "stream",
     "text": [
      "[INFO] [2023-02-07 23:26:25,133] [OpenBox-SPO] Iteration 263, objective value: [0.005711883741302545].\n"
     ]
    },
    {
     "name": "stderr",
     "output_type": "stream",
     "text": [
      "\r",
      " 53%|██████████████████████████████████████████                                      | 263/500 [21:15<35:20,  8.95s/it]"
     ]
    },
    {
     "name": "stdout",
     "output_type": "stream",
     "text": [
      "[INFO] [2023-02-07 23:26:33,642] [OpenBox-SPO] Iteration 264, objective value: [0.010093207804721532].\n"
     ]
    },
    {
     "name": "stderr",
     "output_type": "stream",
     "text": [
      "\r",
      " 53%|██████████████████████████████████████████▏                                     | 264/500 [21:23<34:39,  8.81s/it]"
     ]
    },
    {
     "name": "stdout",
     "output_type": "stream",
     "text": [
      "[INFO] [2023-02-07 23:26:43,565] [OpenBox-SPO] Iteration 265, objective value: [0.08194491957186006].\n"
     ]
    },
    {
     "name": "stderr",
     "output_type": "stream",
     "text": [
      "\r",
      " 53%|██████████████████████████████████████████▍                                     | 265/500 [21:33<35:48,  9.14s/it]"
     ]
    },
    {
     "name": "stdout",
     "output_type": "stream",
     "text": [
      "[INFO] [2023-02-07 23:26:55,522] [OpenBox-SPO] Iteration 266, objective value: [0.08306754892154619].\n"
     ]
    },
    {
     "name": "stderr",
     "output_type": "stream",
     "text": [
      "\r",
      " 53%|██████████████████████████████████████████▌                                     | 266/500 [21:45<38:56,  9.99s/it]"
     ]
    },
    {
     "name": "stdout",
     "output_type": "stream",
     "text": [
      "[INFO] [2023-02-07 23:26:55,522] [Advisor] Sample random config. rand_prob=0.100000.\n",
      "[INFO] [2023-02-07 23:26:55,537] [OpenBox-SPO] Iteration 267, objective value: [1.4230889801526683].\n",
      "[INFO] [2023-02-07 23:27:03,657] [OpenBox-SPO] Iteration 268, objective value: [0.0030549087330887484].\n"
     ]
    },
    {
     "name": "stderr",
     "output_type": "stream",
     "text": [
      "\r",
      " 54%|██████████████████████████████████████████▉                                     | 268/500 [21:53<28:03,  7.26s/it]"
     ]
    },
    {
     "name": "stdout",
     "output_type": "stream",
     "text": [
      "[INFO] [2023-02-07 23:27:14,135] [OpenBox-SPO] Iteration 269, objective value: [0.09640769849286254].\n"
     ]
    },
    {
     "name": "stderr",
     "output_type": "stream",
     "text": [
      "\r",
      " 54%|███████████████████████████████████████████                                     | 269/500 [22:04<31:00,  8.06s/it]"
     ]
    },
    {
     "name": "stdout",
     "output_type": "stream",
     "text": [
      "[INFO] [2023-02-07 23:27:23,665] [OpenBox-SPO] Iteration 270, objective value: [0.01027023535590214].\n"
     ]
    },
    {
     "name": "stderr",
     "output_type": "stream",
     "text": [
      "\r",
      " 54%|███████████████████████████████████████████▏                                    | 270/500 [22:13<32:21,  8.44s/it]"
     ]
    },
    {
     "name": "stdout",
     "output_type": "stream",
     "text": [
      "[INFO] [2023-02-07 23:27:32,501] [OpenBox-SPO] Iteration 271, objective value: [0.002153146621084904].\n"
     ]
    },
    {
     "name": "stderr",
     "output_type": "stream",
     "text": [
      "\r",
      " 54%|███████████████████████████████████████████▎                                    | 271/500 [22:22<32:37,  8.55s/it]"
     ]
    },
    {
     "name": "stdout",
     "output_type": "stream",
     "text": [
      "[INFO] [2023-02-07 23:27:43,907] [OpenBox-SPO] Iteration 272, objective value: [9.00063300208849].\n"
     ]
    },
    {
     "name": "stderr",
     "output_type": "stream",
     "text": [
      "\r",
      " 54%|███████████████████████████████████████████▌                                    | 272/500 [22:33<35:31,  9.35s/it]"
     ]
    },
    {
     "name": "stdout",
     "output_type": "stream",
     "text": [
      "[INFO] [2023-02-07 23:27:51,887] [OpenBox-SPO] Iteration 273, objective value: [0.006763539320380007].\n"
     ]
    },
    {
     "name": "stderr",
     "output_type": "stream",
     "text": [
      "\r",
      " 55%|███████████████████████████████████████████▋                                    | 273/500 [22:41<33:53,  8.96s/it]"
     ]
    },
    {
     "name": "stdout",
     "output_type": "stream",
     "text": [
      "[INFO] [2023-02-07 23:28:03,287] [OpenBox-SPO] Iteration 274, objective value: [0.2321501935692657].\n"
     ]
    },
    {
     "name": "stderr",
     "output_type": "stream",
     "text": [
      "\r",
      " 55%|███████████████████████████████████████████▊                                    | 274/500 [22:53<36:24,  9.66s/it]"
     ]
    },
    {
     "name": "stdout",
     "output_type": "stream",
     "text": [
      "[INFO] [2023-02-07 23:28:13,838] [OpenBox-SPO] Iteration 275, objective value: [0.048682755634685035].\n"
     ]
    },
    {
     "name": "stderr",
     "output_type": "stream",
     "text": [
      "\r",
      " 55%|████████████████████████████████████████████                                    | 275/500 [23:03<37:12,  9.92s/it]"
     ]
    },
    {
     "name": "stdout",
     "output_type": "stream",
     "text": [
      "[INFO] [2023-02-07 23:28:22,226] [OpenBox-SPO] Iteration 276, objective value: [0.023775661266095753].\n"
     ]
    },
    {
     "name": "stderr",
     "output_type": "stream",
     "text": [
      "\r",
      " 55%|████████████████████████████████████████████▏                                   | 276/500 [23:12<35:21,  9.47s/it]"
     ]
    },
    {
     "name": "stdout",
     "output_type": "stream",
     "text": [
      "[INFO] [2023-02-07 23:28:30,658] [OpenBox-SPO] Iteration 277, objective value: [0.021159897828494336].\n"
     ]
    },
    {
     "name": "stderr",
     "output_type": "stream",
     "text": [
      "\r",
      " 55%|████████████████████████████████████████████▎                                   | 277/500 [23:20<34:03,  9.16s/it]"
     ]
    },
    {
     "name": "stdout",
     "output_type": "stream",
     "text": [
      "[INFO] [2023-02-07 23:28:39,982] [OpenBox-SPO] Iteration 278, objective value: [0.004714366010593356].\n"
     ]
    },
    {
     "name": "stderr",
     "output_type": "stream",
     "text": [
      "\r",
      " 56%|████████████████████████████████████████████▍                                   | 278/500 [23:30<34:04,  9.21s/it]"
     ]
    },
    {
     "name": "stdout",
     "output_type": "stream",
     "text": [
      "[INFO] [2023-02-07 23:28:50,099] [OpenBox-SPO] Iteration 279, objective value: [0.03203277231473641].\n"
     ]
    },
    {
     "name": "stderr",
     "output_type": "stream",
     "text": [
      "\r",
      " 56%|████████████████████████████████████████████▋                                   | 279/500 [23:40<34:55,  9.48s/it]"
     ]
    },
    {
     "name": "stdout",
     "output_type": "stream",
     "text": [
      "[INFO] [2023-02-07 23:28:59,030] [OpenBox-SPO] Iteration 280, objective value: [0.019492663048216334].\n"
     ]
    },
    {
     "name": "stderr",
     "output_type": "stream",
     "text": [
      "\r",
      " 56%|████████████████████████████████████████████▊                                   | 280/500 [23:49<34:09,  9.32s/it]"
     ]
    },
    {
     "name": "stdout",
     "output_type": "stream",
     "text": [
      "[INFO] [2023-02-07 23:28:59,030] [Advisor] Sample random config. rand_prob=0.100000.\n",
      "[INFO] [2023-02-07 23:28:59,044] [OpenBox-SPO] Iteration 281, objective value: [1.548327493564612].\n",
      "[INFO] [2023-02-07 23:28:59,045] [Advisor] Sample random config. rand_prob=0.100000.\n",
      "[INFO] [2023-02-07 23:28:59,046] [OpenBox-SPO] Iteration 282, objective value: [0.4611566797714614].\n",
      "[INFO] [2023-02-07 23:29:08,112] [OpenBox-SPO] Iteration 283, objective value: [0.050565543538924215].\n"
     ]
    },
    {
     "name": "stderr",
     "output_type": "stream",
     "text": [
      "\r",
      " 57%|█████████████████████████████████████████████▎                                  | 283/500 [23:58<20:55,  5.79s/it]"
     ]
    },
    {
     "name": "stdout",
     "output_type": "stream",
     "text": [
      "[INFO] [2023-02-07 23:29:16,730] [OpenBox-SPO] Iteration 284, objective value: [0.007365757451317866].\n"
     ]
    },
    {
     "name": "stderr",
     "output_type": "stream",
     "text": [
      "\r",
      " 57%|█████████████████████████████████████████████▍                                  | 284/500 [24:06<22:58,  6.38s/it]"
     ]
    },
    {
     "name": "stdout",
     "output_type": "stream",
     "text": [
      "[INFO] [2023-02-07 23:29:25,189] [OpenBox-SPO] Iteration 285, objective value: [0.00630331818253891].\n"
     ]
    },
    {
     "name": "stderr",
     "output_type": "stream",
     "text": [
      "\r",
      " 57%|█████████████████████████████████████████████▌                                  | 285/500 [24:15<24:35,  6.86s/it]"
     ]
    },
    {
     "name": "stdout",
     "output_type": "stream",
     "text": [
      "[INFO] [2023-02-07 23:29:35,035] [OpenBox-SPO] Iteration 286, objective value: [0.011967313868164488].\n"
     ]
    },
    {
     "name": "stderr",
     "output_type": "stream",
     "text": [
      "\r",
      " 57%|█████████████████████████████████████████████▊                                  | 286/500 [24:25<27:07,  7.61s/it]"
     ]
    },
    {
     "name": "stdout",
     "output_type": "stream",
     "text": [
      "[INFO] [2023-02-07 23:29:46,400] [OpenBox-SPO] Iteration 287, objective value: [0.7429009383867806].\n"
     ]
    },
    {
     "name": "stderr",
     "output_type": "stream",
     "text": [
      "\r",
      " 57%|█████████████████████████████████████████████▉                                  | 287/500 [24:36<30:29,  8.59s/it]"
     ]
    },
    {
     "name": "stdout",
     "output_type": "stream",
     "text": [
      "[INFO] [2023-02-07 23:29:58,851] [OpenBox-SPO] Iteration 288, objective value: [2.707659336853417].\n"
     ]
    },
    {
     "name": "stderr",
     "output_type": "stream",
     "text": [
      "\r",
      " 58%|██████████████████████████████████████████████                                  | 288/500 [24:48<34:04,  9.64s/it]"
     ]
    },
    {
     "name": "stdout",
     "output_type": "stream",
     "text": [
      "[INFO] [2023-02-07 23:30:11,502] [OpenBox-SPO] Iteration 289, objective value: [0.05246728155210263].\n"
     ]
    },
    {
     "name": "stderr",
     "output_type": "stream",
     "text": [
      "\r",
      " 58%|██████████████████████████████████████████████▏                                 | 289/500 [25:01<36:52, 10.48s/it]"
     ]
    },
    {
     "name": "stdout",
     "output_type": "stream",
     "text": [
      "[INFO] [2023-02-07 23:30:24,260] [OpenBox-SPO] Iteration 290, objective value: [0.1283611531081262].\n"
     ]
    },
    {
     "name": "stderr",
     "output_type": "stream",
     "text": [
      "\r",
      " 58%|██████████████████████████████████████████████▍                                 | 290/500 [25:14<38:58, 11.13s/it]"
     ]
    },
    {
     "name": "stdout",
     "output_type": "stream",
     "text": [
      "[INFO] [2023-02-07 23:30:24,260] [Advisor] Sample random config. rand_prob=0.100000.\n",
      "[INFO] [2023-02-07 23:30:24,263] [OpenBox-SPO] Iteration 291, objective value: [2.6934905779024265].\n",
      "[INFO] [2023-02-07 23:30:33,528] [OpenBox-SPO] Iteration 292, objective value: [0.008278575551152885].\n"
     ]
    },
    {
     "name": "stderr",
     "output_type": "stream",
     "text": [
      "\r",
      " 58%|██████████████████████████████████████████████▋                                 | 292/500 [25:23<28:28,  8.21s/it]"
     ]
    },
    {
     "name": "stdout",
     "output_type": "stream",
     "text": [
      "[INFO] [2023-02-07 23:30:45,925] [OpenBox-SPO] Iteration 293, objective value: [0.12043734302208335].\n"
     ]
    },
    {
     "name": "stderr",
     "output_type": "stream",
     "text": [
      "\r",
      " 59%|██████████████████████████████████████████████▉                                 | 293/500 [25:35<31:50,  9.23s/it]"
     ]
    },
    {
     "name": "stdout",
     "output_type": "stream",
     "text": [
      "[INFO] [2023-02-07 23:30:57,713] [OpenBox-SPO] Iteration 294, objective value: [1.3221996732983672].\n"
     ]
    },
    {
     "name": "stderr",
     "output_type": "stream",
     "text": [
      "\r",
      " 59%|███████████████████████████████████████████████                                 | 294/500 [25:47<33:57,  9.89s/it]"
     ]
    },
    {
     "name": "stdout",
     "output_type": "stream",
     "text": [
      "[INFO] [2023-02-07 23:31:06,689] [OpenBox-SPO] Iteration 295, objective value: [0.0031624272090116086].\n"
     ]
    },
    {
     "name": "stderr",
     "output_type": "stream",
     "text": [
      "\r",
      " 59%|███████████████████████████████████████████████▏                                | 295/500 [25:56<32:56,  9.64s/it]"
     ]
    },
    {
     "name": "stdout",
     "output_type": "stream",
     "text": [
      "[INFO] [2023-02-07 23:31:06,689] [Advisor] Sample random config. rand_prob=0.100000.\n",
      "[INFO] [2023-02-07 23:31:06,696] [OpenBox-SPO] Iteration 296, objective value: [0.895769802281238].\n",
      "[INFO] [2023-02-07 23:31:06,697] [Advisor] Sample random config. rand_prob=0.100000.\n",
      "[INFO] [2023-02-07 23:31:06,698] [OpenBox-SPO] Iteration 297, objective value: [2.2903424682786504].\n",
      "[INFO] [2023-02-07 23:31:06,698] [Advisor] Sample random config. rand_prob=0.100000.\n",
      "[INFO] [2023-02-07 23:31:06,698] [OpenBox-SPO] Iteration 298, objective value: [1.6201966472927936].\n",
      "[INFO] [2023-02-07 23:31:16,939] [OpenBox-SPO] Iteration 299, objective value: [0.00660364652939724].\n"
     ]
    },
    {
     "name": "stderr",
     "output_type": "stream",
     "text": [
      "\r",
      " 60%|███████████████████████████████████████████████▊                                | 299/500 [26:07<17:55,  5.35s/it]"
     ]
    },
    {
     "name": "stdout",
     "output_type": "stream",
     "text": [
      "[INFO] [2023-02-07 23:31:29,303] [OpenBox-SPO] Iteration 300, objective value: [1.0483342821803652].\n"
     ]
    },
    {
     "name": "stderr",
     "output_type": "stream",
     "text": [
      "\r",
      " 60%|████████████████████████████████████████████████                                | 300/500 [26:19<22:00,  6.60s/it]"
     ]
    },
    {
     "name": "stdout",
     "output_type": "stream",
     "text": [
      "[INFO] [2023-02-07 23:31:39,724] [OpenBox-SPO] Iteration 301, objective value: [0.0277979766275449].\n"
     ]
    },
    {
     "name": "stderr",
     "output_type": "stream",
     "text": [
      "\r",
      " 60%|████████████████████████████████████████████████▏                               | 301/500 [26:29<24:27,  7.37s/it]"
     ]
    },
    {
     "name": "stdout",
     "output_type": "stream",
     "text": [
      "[INFO] [2023-02-07 23:31:49,747] [OpenBox-SPO] Iteration 302, objective value: [0.003735900476465935].\n"
     ]
    },
    {
     "name": "stderr",
     "output_type": "stream",
     "text": [
      "\r",
      " 60%|████████████████████████████████████████████████▎                               | 302/500 [26:39<26:17,  7.97s/it]"
     ]
    },
    {
     "name": "stdout",
     "output_type": "stream",
     "text": [
      "[INFO] [2023-02-07 23:32:02,827] [OpenBox-SPO] Iteration 303, objective value: [0.05693448182427108].\n"
     ]
    },
    {
     "name": "stderr",
     "output_type": "stream",
     "text": [
      "\r",
      " 61%|████████████████████████████████████████████████▍                               | 303/500 [26:52<30:14,  9.21s/it]"
     ]
    },
    {
     "name": "stdout",
     "output_type": "stream",
     "text": [
      "[INFO] [2023-02-07 23:32:14,172] [OpenBox-SPO] Iteration 304, objective value: [0.013761838033793408].\n"
     ]
    },
    {
     "name": "stderr",
     "output_type": "stream",
     "text": [
      "\r",
      " 61%|████████████████████████████████████████████████▋                               | 304/500 [27:04<31:52,  9.76s/it]"
     ]
    },
    {
     "name": "stdout",
     "output_type": "stream",
     "text": [
      "[INFO] [2023-02-07 23:32:25,715] [OpenBox-SPO] Iteration 305, objective value: [0.06150404789807166].\n"
     ]
    },
    {
     "name": "stderr",
     "output_type": "stream",
     "text": [
      "\r",
      " 61%|████████████████████████████████████████████████▊                               | 305/500 [27:15<33:16, 10.24s/it]"
     ]
    },
    {
     "name": "stdout",
     "output_type": "stream",
     "text": [
      "[INFO] [2023-02-07 23:32:38,874] [OpenBox-SPO] Iteration 306, objective value: [0.10037900749441246].\n"
     ]
    },
    {
     "name": "stderr",
     "output_type": "stream",
     "text": [
      "\r",
      " 61%|████████████████████████████████████████████████▉                               | 306/500 [27:28<35:43, 11.05s/it]"
     ]
    },
    {
     "name": "stdout",
     "output_type": "stream",
     "text": [
      "[INFO] [2023-02-07 23:32:48,784] [OpenBox-SPO] Iteration 307, objective value: [0.033126825529129836].\n"
     ]
    },
    {
     "name": "stderr",
     "output_type": "stream",
     "text": [
      "\r",
      " 61%|█████████████████████████████████████████████████                               | 307/500 [27:38<34:30, 10.73s/it]"
     ]
    },
    {
     "name": "stdout",
     "output_type": "stream",
     "text": [
      "[INFO] [2023-02-07 23:33:01,143] [OpenBox-SPO] Iteration 308, objective value: [1.9560119259291207].\n"
     ]
    },
    {
     "name": "stderr",
     "output_type": "stream",
     "text": [
      "\r",
      " 62%|█████████████████████████████████████████████████▎                              | 308/500 [27:51<35:49, 11.20s/it]"
     ]
    },
    {
     "name": "stdout",
     "output_type": "stream",
     "text": [
      "[INFO] [2023-02-07 23:33:11,851] [OpenBox-SPO] Iteration 309, objective value: [0.019688691660880945].\n"
     ]
    },
    {
     "name": "stderr",
     "output_type": "stream",
     "text": [
      "\r",
      " 62%|█████████████████████████████████████████████████▍                              | 309/500 [28:01<35:11, 11.05s/it]"
     ]
    },
    {
     "name": "stdout",
     "output_type": "stream",
     "text": [
      "[INFO] [2023-02-07 23:33:21,562] [OpenBox-SPO] Iteration 310, objective value: [0.011396847836171497].\n"
     ]
    },
    {
     "name": "stderr",
     "output_type": "stream",
     "text": [
      "\r",
      " 62%|█████████████████████████████████████████████████▌                              | 310/500 [28:11<33:45, 10.66s/it]"
     ]
    },
    {
     "name": "stdout",
     "output_type": "stream",
     "text": [
      "[INFO] [2023-02-07 23:33:32,509] [OpenBox-SPO] Iteration 311, objective value: [0.0016482323816730416].\n"
     ]
    },
    {
     "name": "stderr",
     "output_type": "stream",
     "text": [
      "\r",
      " 62%|█████████████████████████████████████████████████▊                              | 311/500 [28:22<33:50, 10.74s/it]"
     ]
    },
    {
     "name": "stdout",
     "output_type": "stream",
     "text": [
      "[INFO] [2023-02-07 23:33:46,817] [OpenBox-SPO] Iteration 312, objective value: [1.3452420525323423].\n"
     ]
    },
    {
     "name": "stderr",
     "output_type": "stream",
     "text": [
      "\r",
      " 62%|█████████████████████████████████████████████████▉                              | 312/500 [28:36<36:59, 11.80s/it]"
     ]
    },
    {
     "name": "stdout",
     "output_type": "stream",
     "text": [
      "[INFO] [2023-02-07 23:33:59,900] [OpenBox-SPO] Iteration 313, objective value: [1.7898121456970906].\n"
     ]
    },
    {
     "name": "stderr",
     "output_type": "stream",
     "text": [
      "\r",
      " 63%|██████████████████████████████████████████████████                              | 313/500 [28:49<37:58, 12.18s/it]"
     ]
    },
    {
     "name": "stdout",
     "output_type": "stream",
     "text": [
      "[INFO] [2023-02-07 23:34:10,794] [OpenBox-SPO] Iteration 314, objective value: [0.007798118858291954].\n"
     ]
    },
    {
     "name": "stderr",
     "output_type": "stream",
     "text": [
      "\r",
      " 63%|██████████████████████████████████████████████████▏                             | 314/500 [29:00<36:34, 11.80s/it]"
     ]
    },
    {
     "name": "stdout",
     "output_type": "stream",
     "text": [
      "[INFO] [2023-02-07 23:34:23,246] [OpenBox-SPO] Iteration 315, objective value: [0.32662036436589464].\n"
     ]
    },
    {
     "name": "stderr",
     "output_type": "stream",
     "text": [
      "\r",
      " 63%|██████████████████████████████████████████████████▍                             | 315/500 [29:13<36:59, 11.99s/it]"
     ]
    },
    {
     "name": "stdout",
     "output_type": "stream",
     "text": [
      "[INFO] [2023-02-07 23:34:33,962] [OpenBox-SPO] Iteration 316, objective value: [0.010188211229475346].\n"
     ]
    },
    {
     "name": "stderr",
     "output_type": "stream",
     "text": [
      "\r",
      " 63%|██████████████████████████████████████████████████▌                             | 316/500 [29:24<35:36, 11.61s/it]"
     ]
    },
    {
     "name": "stdout",
     "output_type": "stream",
     "text": [
      "[INFO] [2023-02-07 23:34:45,887] [OpenBox-SPO] Iteration 317, objective value: [0.009967868984638454].\n"
     ]
    },
    {
     "name": "stderr",
     "output_type": "stream",
     "text": [
      "\r",
      " 63%|██████████████████████████████████████████████████▋                             | 317/500 [29:35<35:43, 11.71s/it]"
     ]
    },
    {
     "name": "stdout",
     "output_type": "stream",
     "text": [
      "[INFO] [2023-02-07 23:35:00,820] [OpenBox-SPO] Iteration 318, objective value: [0.1263095617838411].\n"
     ]
    },
    {
     "name": "stderr",
     "output_type": "stream",
     "text": [
      "\r",
      " 64%|██████████████████████████████████████████████████▉                             | 318/500 [29:50<38:26, 12.67s/it]"
     ]
    },
    {
     "name": "stdout",
     "output_type": "stream",
     "text": [
      "[INFO] [2023-02-07 23:35:14,557] [OpenBox-SPO] Iteration 319, objective value: [0.09510019028676463].\n"
     ]
    },
    {
     "name": "stderr",
     "output_type": "stream",
     "text": [
      "\r",
      " 64%|███████████████████████████████████████████████████                             | 319/500 [30:04<39:11, 12.99s/it]"
     ]
    },
    {
     "name": "stdout",
     "output_type": "stream",
     "text": [
      "[INFO] [2023-02-07 23:35:30,627] [OpenBox-SPO] Iteration 320, objective value: [0.0757169360973468].\n"
     ]
    },
    {
     "name": "stderr",
     "output_type": "stream",
     "text": [
      "\r",
      " 64%|███████████████████████████████████████████████████▏                            | 320/500 [30:20<41:44, 13.91s/it]"
     ]
    },
    {
     "name": "stdout",
     "output_type": "stream",
     "text": [
      "[INFO] [2023-02-07 23:35:44,222] [OpenBox-SPO] Iteration 321, objective value: [0.05647400982664066].\n"
     ]
    },
    {
     "name": "stderr",
     "output_type": "stream",
     "text": [
      "\r",
      " 64%|███████████████████████████████████████████████████▎                            | 321/500 [30:34<41:13, 13.82s/it]"
     ]
    },
    {
     "name": "stdout",
     "output_type": "stream",
     "text": [
      "[INFO] [2023-02-07 23:35:59,464] [OpenBox-SPO] Iteration 322, objective value: [0.2189892521016522].\n"
     ]
    },
    {
     "name": "stderr",
     "output_type": "stream",
     "text": [
      "\r",
      " 64%|███████████████████████████████████████████████████▌                            | 322/500 [30:49<42:15, 14.25s/it]"
     ]
    },
    {
     "name": "stdout",
     "output_type": "stream",
     "text": [
      "[INFO] [2023-02-07 23:35:59,464] [Advisor] Sample random config. rand_prob=0.100000.\n",
      "[INFO] [2023-02-07 23:35:59,477] [OpenBox-SPO] Iteration 323, objective value: [1.53169802820298].\n",
      "[INFO] [2023-02-07 23:36:14,993] [OpenBox-SPO] Iteration 324, objective value: [0.12052803146041062].\n"
     ]
    },
    {
     "name": "stderr",
     "output_type": "stream",
     "text": [
      "\r",
      " 65%|███████████████████████████████████████████████████▊                            | 324/500 [31:05<33:00, 11.25s/it]"
     ]
    },
    {
     "name": "stdout",
     "output_type": "stream",
     "text": [
      "[INFO] [2023-02-07 23:36:25,934] [OpenBox-SPO] Iteration 325, objective value: [0.013336335224068673].\n"
     ]
    },
    {
     "name": "stderr",
     "output_type": "stream",
     "text": [
      "\r",
      " 65%|████████████████████████████████████████████████████                            | 325/500 [31:16<32:35, 11.18s/it]"
     ]
    },
    {
     "name": "stdout",
     "output_type": "stream",
     "text": [
      "[INFO] [2023-02-07 23:36:36,719] [OpenBox-SPO] Iteration 326, objective value: [0.011961245766995608].\n"
     ]
    },
    {
     "name": "stderr",
     "output_type": "stream",
     "text": [
      "\r",
      " 65%|████████████████████████████████████████████████████▏                           | 326/500 [31:26<32:06, 11.07s/it]"
     ]
    },
    {
     "name": "stdout",
     "output_type": "stream",
     "text": [
      "[INFO] [2023-02-07 23:36:47,435] [OpenBox-SPO] Iteration 327, objective value: [0.0021761910848336653].\n"
     ]
    },
    {
     "name": "stderr",
     "output_type": "stream",
     "text": [
      "\r",
      " 65%|████████████████████████████████████████████████████▎                           | 327/500 [31:37<31:39, 10.98s/it]"
     ]
    },
    {
     "name": "stdout",
     "output_type": "stream",
     "text": [
      "[INFO] [2023-02-07 23:36:58,998] [OpenBox-SPO] Iteration 328, objective value: [0.009847994343971546].\n"
     ]
    },
    {
     "name": "stderr",
     "output_type": "stream",
     "text": [
      "\r",
      " 66%|████████████████████████████████████████████████████▍                           | 328/500 [31:49<31:56, 11.14s/it]"
     ]
    },
    {
     "name": "stdout",
     "output_type": "stream",
     "text": [
      "[INFO] [2023-02-07 23:37:12,503] [OpenBox-SPO] Iteration 329, objective value: [1.9446601051685224].\n"
     ]
    },
    {
     "name": "stderr",
     "output_type": "stream",
     "text": [
      "\r",
      " 66%|████████████████████████████████████████████████████▋                           | 329/500 [32:02<33:40, 11.82s/it]"
     ]
    },
    {
     "name": "stdout",
     "output_type": "stream",
     "text": [
      "[INFO] [2023-02-07 23:37:24,787] [OpenBox-SPO] Iteration 330, objective value: [0.006968453577719253].\n"
     ]
    },
    {
     "name": "stderr",
     "output_type": "stream",
     "text": [
      "\r",
      " 66%|████████████████████████████████████████████████████▊                           | 330/500 [32:14<33:51, 11.95s/it]"
     ]
    },
    {
     "name": "stdout",
     "output_type": "stream",
     "text": [
      "[INFO] [2023-02-07 23:37:37,190] [OpenBox-SPO] Iteration 331, objective value: [0.00876211575820956].\n"
     ]
    },
    {
     "name": "stderr",
     "output_type": "stream",
     "text": [
      "\r",
      " 66%|████████████████████████████████████████████████████▉                           | 331/500 [32:27<34:02, 12.08s/it]"
     ]
    },
    {
     "name": "stdout",
     "output_type": "stream",
     "text": [
      "[INFO] [2023-02-07 23:37:48,563] [OpenBox-SPO] Iteration 332, objective value: [0.004091678680976755].\n"
     ]
    },
    {
     "name": "stderr",
     "output_type": "stream",
     "text": [
      "\r",
      " 66%|█████████████████████████████████████████████████████                           | 332/500 [32:38<33:14, 11.87s/it]"
     ]
    },
    {
     "name": "stdout",
     "output_type": "stream",
     "text": [
      "[INFO] [2023-02-07 23:37:59,991] [OpenBox-SPO] Iteration 333, objective value: [0.00470021459830205].\n"
     ]
    },
    {
     "name": "stderr",
     "output_type": "stream",
     "text": [
      "\r",
      " 67%|█████████████████████████████████████████████████████▎                          | 333/500 [32:50<32:40, 11.74s/it]"
     ]
    },
    {
     "name": "stdout",
     "output_type": "stream",
     "text": [
      "[INFO] [2023-02-07 23:38:12,328] [OpenBox-SPO] Iteration 334, objective value: [0.006103495684425685].\n"
     ]
    },
    {
     "name": "stderr",
     "output_type": "stream",
     "text": [
      "\r",
      " 67%|█████████████████████████████████████████████████████▍                          | 334/500 [33:02<32:58, 11.92s/it]"
     ]
    },
    {
     "name": "stdout",
     "output_type": "stream",
     "text": [
      "[INFO] [2023-02-07 23:38:24,001] [OpenBox-SPO] Iteration 335, objective value: [0.0011751202467703528].\n"
     ]
    },
    {
     "name": "stderr",
     "output_type": "stream",
     "text": [
      "\r",
      " 67%|█████████████████████████████████████████████████████▌                          | 335/500 [33:14<32:34, 11.85s/it]"
     ]
    },
    {
     "name": "stdout",
     "output_type": "stream",
     "text": [
      "[INFO] [2023-02-07 23:38:38,177] [OpenBox-SPO] Iteration 336, objective value: [0.010977816711233265].\n"
     ]
    },
    {
     "name": "stderr",
     "output_type": "stream",
     "text": [
      "\r",
      " 67%|█████████████████████████████████████████████████████▊                          | 336/500 [33:28<34:16, 12.54s/it]"
     ]
    },
    {
     "name": "stdout",
     "output_type": "stream",
     "text": [
      "[INFO] [2023-02-07 23:38:51,070] [OpenBox-SPO] Iteration 337, objective value: [0.013794681991357863].\n"
     ]
    },
    {
     "name": "stderr",
     "output_type": "stream",
     "text": [
      "\r",
      " 67%|█████████████████████████████████████████████████████▉                          | 337/500 [33:41<34:21, 12.65s/it]"
     ]
    },
    {
     "name": "stdout",
     "output_type": "stream",
     "text": [
      "[INFO] [2023-02-07 23:39:05,176] [OpenBox-SPO] Iteration 338, objective value: [0.04490612922658388].\n"
     ]
    },
    {
     "name": "stderr",
     "output_type": "stream",
     "text": [
      "\r",
      " 68%|██████████████████████████████████████████████████████                          | 338/500 [33:55<35:19, 13.08s/it]"
     ]
    },
    {
     "name": "stdout",
     "output_type": "stream",
     "text": [
      "[INFO] [2023-02-07 23:39:20,128] [OpenBox-SPO] Iteration 339, objective value: [0.013607409266538209].\n"
     ]
    },
    {
     "name": "stderr",
     "output_type": "stream",
     "text": [
      "\r",
      " 68%|██████████████████████████████████████████████████████▏                         | 339/500 [34:10<36:36, 13.64s/it]"
     ]
    },
    {
     "name": "stdout",
     "output_type": "stream",
     "text": [
      "[INFO] [2023-02-07 23:39:32,416] [OpenBox-SPO] Iteration 340, objective value: [0.003455659751572209].\n"
     ]
    },
    {
     "name": "stderr",
     "output_type": "stream",
     "text": [
      "\r",
      " 68%|██████████████████████████████████████████████████████▍                         | 340/500 [34:22<35:17, 13.24s/it]"
     ]
    },
    {
     "name": "stdout",
     "output_type": "stream",
     "text": [
      "[INFO] [2023-02-07 23:39:44,396] [OpenBox-SPO] Iteration 341, objective value: [0.006574640308072408].\n"
     ]
    },
    {
     "name": "stderr",
     "output_type": "stream",
     "text": [
      "\r",
      " 68%|██████████████████████████████████████████████████████▌                         | 341/500 [34:34<34:04, 12.86s/it]"
     ]
    },
    {
     "name": "stdout",
     "output_type": "stream",
     "text": [
      "[INFO] [2023-02-07 23:39:57,992] [OpenBox-SPO] Iteration 342, objective value: [0.002112827946549183].\n"
     ]
    },
    {
     "name": "stderr",
     "output_type": "stream",
     "text": [
      "\r",
      " 68%|██████████████████████████████████████████████████████▋                         | 342/500 [34:48<34:26, 13.08s/it]"
     ]
    },
    {
     "name": "stdout",
     "output_type": "stream",
     "text": [
      "[INFO] [2023-02-07 23:40:08,865] [OpenBox-SPO] Iteration 343, objective value: [0.004005103044814585].\n"
     ]
    },
    {
     "name": "stderr",
     "output_type": "stream",
     "text": [
      "\r",
      " 69%|██████████████████████████████████████████████████████▉                         | 343/500 [34:58<32:29, 12.42s/it]"
     ]
    },
    {
     "name": "stdout",
     "output_type": "stream",
     "text": [
      "[INFO] [2023-02-07 23:40:24,862] [OpenBox-SPO] Iteration 344, objective value: [0.0435646735294859].\n"
     ]
    },
    {
     "name": "stderr",
     "output_type": "stream",
     "text": [
      "\r",
      " 69%|███████████████████████████████████████████████████████                         | 344/500 [35:14<35:04, 13.49s/it]"
     ]
    },
    {
     "name": "stdout",
     "output_type": "stream",
     "text": [
      "[INFO] [2023-02-07 23:40:36,745] [OpenBox-SPO] Iteration 345, objective value: [0.003103329869278461].\n"
     ]
    },
    {
     "name": "stderr",
     "output_type": "stream",
     "text": [
      "\r",
      " 69%|███████████████████████████████████████████████████████▏                        | 345/500 [35:26<33:36, 13.01s/it]"
     ]
    },
    {
     "name": "stdout",
     "output_type": "stream",
     "text": [
      "[INFO] [2023-02-07 23:40:51,435] [OpenBox-SPO] Iteration 346, objective value: [0.10151116065275219].\n"
     ]
    },
    {
     "name": "stderr",
     "output_type": "stream",
     "text": [
      "\r",
      " 69%|███████████████████████████████████████████████████████▎                        | 346/500 [35:41<34:41, 13.51s/it]"
     ]
    },
    {
     "name": "stdout",
     "output_type": "stream",
     "text": [
      "[INFO] [2023-02-07 23:41:04,513] [OpenBox-SPO] Iteration 347, objective value: [0.04652310804067411].\n"
     ]
    },
    {
     "name": "stderr",
     "output_type": "stream",
     "text": [
      "\r",
      " 69%|███████████████████████████████████████████████████████▌                        | 347/500 [35:54<34:07, 13.38s/it]"
     ]
    },
    {
     "name": "stdout",
     "output_type": "stream",
     "text": [
      "[INFO] [2023-02-07 23:41:16,298] [OpenBox-SPO] Iteration 348, objective value: [0.017942950903108892].\n"
     ]
    },
    {
     "name": "stderr",
     "output_type": "stream",
     "text": [
      "\r",
      " 70%|███████████████████████████████████████████████████████▋                        | 348/500 [36:06<32:41, 12.90s/it]"
     ]
    },
    {
     "name": "stdout",
     "output_type": "stream",
     "text": [
      "[INFO] [2023-02-07 23:41:28,783] [OpenBox-SPO] Iteration 349, objective value: [0.0038677179066853064].\n"
     ]
    },
    {
     "name": "stderr",
     "output_type": "stream",
     "text": [
      "\r",
      " 70%|███████████████████████████████████████████████████████▊                        | 349/500 [36:18<32:09, 12.78s/it]"
     ]
    },
    {
     "name": "stdout",
     "output_type": "stream",
     "text": [
      "[INFO] [2023-02-07 23:41:42,115] [OpenBox-SPO] Iteration 350, objective value: [0.0021148992097152373].\n"
     ]
    },
    {
     "name": "stderr",
     "output_type": "stream",
     "text": [
      "\r",
      " 70%|████████████████████████████████████████████████████████                        | 350/500 [36:32<32:21, 12.94s/it]"
     ]
    },
    {
     "name": "stdout",
     "output_type": "stream",
     "text": [
      "[INFO] [2023-02-07 23:41:53,778] [OpenBox-SPO] Iteration 351, objective value: [0.0025341416482855933].\n"
     ]
    },
    {
     "name": "stderr",
     "output_type": "stream",
     "text": [
      "\r",
      " 70%|████████████████████████████████████████████████████████▏                       | 351/500 [36:43<31:11, 12.56s/it]"
     ]
    },
    {
     "name": "stdout",
     "output_type": "stream",
     "text": [
      "[INFO] [2023-02-07 23:42:07,839] [OpenBox-SPO] Iteration 352, objective value: [1.6598217124051478].\n"
     ]
    },
    {
     "name": "stderr",
     "output_type": "stream",
     "text": [
      "\r",
      " 70%|████████████████████████████████████████████████████████▎                       | 352/500 [36:57<32:05, 13.01s/it]"
     ]
    },
    {
     "name": "stdout",
     "output_type": "stream",
     "text": [
      "[INFO] [2023-02-07 23:42:19,977] [OpenBox-SPO] Iteration 353, objective value: [0.002918296367887811].\n"
     ]
    },
    {
     "name": "stderr",
     "output_type": "stream",
     "text": [
      "\r",
      " 71%|████████████████████████████████████████████████████████▍                       | 353/500 [37:10<31:14, 12.75s/it]"
     ]
    },
    {
     "name": "stdout",
     "output_type": "stream",
     "text": [
      "[INFO] [2023-02-07 23:42:34,222] [OpenBox-SPO] Iteration 354, objective value: [0.07909346313033666].\n"
     ]
    },
    {
     "name": "stderr",
     "output_type": "stream",
     "text": [
      "\r",
      " 71%|████████████████████████████████████████████████████████▋                       | 354/500 [37:24<32:06, 13.20s/it]"
     ]
    },
    {
     "name": "stdout",
     "output_type": "stream",
     "text": [
      "[INFO] [2023-02-07 23:42:50,288] [OpenBox-SPO] Iteration 355, objective value: [0.06843209847091186].\n"
     ]
    },
    {
     "name": "stderr",
     "output_type": "stream",
     "text": [
      "\r",
      " 71%|████████████████████████████████████████████████████████▊                       | 355/500 [37:40<33:58, 14.06s/it]"
     ]
    },
    {
     "name": "stdout",
     "output_type": "stream",
     "text": [
      "[INFO] [2023-02-07 23:43:03,355] [OpenBox-SPO] Iteration 356, objective value: [0.0019401967509842368].\n"
     ]
    },
    {
     "name": "stderr",
     "output_type": "stream",
     "text": [
      "\r",
      " 71%|████████████████████████████████████████████████████████▉                       | 356/500 [37:53<33:01, 13.76s/it]"
     ]
    },
    {
     "name": "stdout",
     "output_type": "stream",
     "text": [
      "[INFO] [2023-02-07 23:43:19,550] [OpenBox-SPO] Iteration 357, objective value: [0.0025131844870765353].\n"
     ]
    },
    {
     "name": "stderr",
     "output_type": "stream",
     "text": [
      "\r",
      " 71%|█████████████████████████████████████████████████████████                       | 357/500 [38:09<34:32, 14.49s/it]"
     ]
    },
    {
     "name": "stdout",
     "output_type": "stream",
     "text": [
      "[INFO] [2023-02-07 23:43:35,070] [OpenBox-SPO] Iteration 358, objective value: [0.16818475762769305].\n"
     ]
    },
    {
     "name": "stderr",
     "output_type": "stream",
     "text": [
      "\r",
      " 72%|█████████████████████████████████████████████████████████▎                      | 358/500 [38:25<35:02, 14.80s/it]"
     ]
    },
    {
     "name": "stdout",
     "output_type": "stream",
     "text": [
      "[INFO] [2023-02-07 23:43:35,086] [Advisor] Sample random config. rand_prob=0.100000.\n",
      "[INFO] [2023-02-07 23:43:35,088] [OpenBox-SPO] Iteration 359, objective value: [1.6724537121455534].\n",
      "[INFO] [2023-02-07 23:43:49,240] [OpenBox-SPO] Iteration 360, objective value: [0.09302884826693168].\n"
     ]
    },
    {
     "name": "stderr",
     "output_type": "stream",
     "text": [
      "\r",
      " 72%|█████████████████████████████████████████████████████████▌                      | 360/500 [38:39<26:13, 11.24s/it]"
     ]
    },
    {
     "name": "stdout",
     "output_type": "stream",
     "text": [
      "[INFO] [2023-02-07 23:43:49,240] [Advisor] Sample random config. rand_prob=0.100000.\n",
      "[INFO] [2023-02-07 23:43:49,248] [OpenBox-SPO] Iteration 361, objective value: [0.7890400307987491].\n",
      "[INFO] [2023-02-07 23:44:04,260] [OpenBox-SPO] Iteration 362, objective value: [0.08371387317532919].\n"
     ]
    },
    {
     "name": "stderr",
     "output_type": "stream",
     "text": [
      "\r",
      " 72%|█████████████████████████████████████████████████████████▉                      | 362/500 [38:54<22:26,  9.76s/it]"
     ]
    },
    {
     "name": "stdout",
     "output_type": "stream",
     "text": [
      "[INFO] [2023-02-07 23:44:21,340] [OpenBox-SPO] Iteration 363, objective value: [0.10190544836688356].\n"
     ]
    },
    {
     "name": "stderr",
     "output_type": "stream",
     "text": [
      "\r",
      " 73%|██████████████████████████████████████████████████████████                      | 363/500 [39:11<25:58, 11.38s/it]"
     ]
    },
    {
     "name": "stdout",
     "output_type": "stream",
     "text": [
      "[INFO] [2023-02-07 23:44:34,823] [OpenBox-SPO] Iteration 364, objective value: [0.13565712869710714].\n"
     ]
    },
    {
     "name": "stderr",
     "output_type": "stream",
     "text": [
      "\r",
      " 73%|██████████████████████████████████████████████████████████▏                     | 364/500 [39:24<26:55, 11.88s/it]"
     ]
    },
    {
     "name": "stdout",
     "output_type": "stream",
     "text": [
      "[INFO] [2023-02-07 23:44:49,515] [OpenBox-SPO] Iteration 365, objective value: [0.00895747230235918].\n"
     ]
    },
    {
     "name": "stderr",
     "output_type": "stream",
     "text": [
      "\r",
      " 73%|██████████████████████████████████████████████████████████▍                     | 365/500 [39:39<28:20, 12.60s/it]"
     ]
    },
    {
     "name": "stdout",
     "output_type": "stream",
     "text": [
      "[INFO] [2023-02-07 23:45:07,647] [OpenBox-SPO] Iteration 366, objective value: [0.21397576733980678].\n"
     ]
    },
    {
     "name": "stderr",
     "output_type": "stream",
     "text": [
      "\r",
      " 73%|██████████████████████████████████████████████████████████▌                     | 366/500 [39:57<31:26, 14.08s/it]"
     ]
    },
    {
     "name": "stdout",
     "output_type": "stream",
     "text": [
      "[INFO] [2023-02-07 23:45:23,091] [OpenBox-SPO] Iteration 367, objective value: [0.18433686675363428].\n"
     ]
    },
    {
     "name": "stderr",
     "output_type": "stream",
     "text": [
      "\r",
      " 73%|██████████████████████████████████████████████████████████▋                     | 367/500 [40:13<32:02, 14.46s/it]"
     ]
    },
    {
     "name": "stdout",
     "output_type": "stream",
     "text": [
      "[INFO] [2023-02-07 23:45:36,050] [OpenBox-SPO] Iteration 368, objective value: [0.014181680412208141].\n"
     ]
    },
    {
     "name": "stderr",
     "output_type": "stream",
     "text": [
      "\r",
      " 74%|██████████████████████████████████████████████████████████▉                     | 368/500 [40:26<30:52, 14.03s/it]"
     ]
    },
    {
     "name": "stdout",
     "output_type": "stream",
     "text": [
      "[INFO] [2023-02-07 23:45:51,266] [OpenBox-SPO] Iteration 369, objective value: [0.07034836552139864].\n"
     ]
    },
    {
     "name": "stderr",
     "output_type": "stream",
     "text": [
      "\r",
      " 74%|███████████████████████████████████████████████████████████                     | 369/500 [40:41<31:22, 14.37s/it]"
     ]
    },
    {
     "name": "stdout",
     "output_type": "stream",
     "text": [
      "[INFO] [2023-02-07 23:46:06,747] [OpenBox-SPO] Iteration 370, objective value: [0.0524954002610131].\n"
     ]
    },
    {
     "name": "stderr",
     "output_type": "stream",
     "text": [
      "\r",
      " 74%|███████████████████████████████████████████████████████████▏                    | 370/500 [40:56<31:50, 14.70s/it]"
     ]
    },
    {
     "name": "stdout",
     "output_type": "stream",
     "text": [
      "[INFO] [2023-02-07 23:46:21,670] [OpenBox-SPO] Iteration 371, objective value: [0.07420099112281363].\n"
     ]
    },
    {
     "name": "stderr",
     "output_type": "stream",
     "text": [
      "\r",
      " 74%|███████████████████████████████████████████████████████████▎                    | 371/500 [41:11<31:44, 14.76s/it]"
     ]
    },
    {
     "name": "stdout",
     "output_type": "stream",
     "text": [
      "[INFO] [2023-02-07 23:46:21,670] [Advisor] Sample random config. rand_prob=0.100000.\n",
      "[INFO] [2023-02-07 23:46:21,683] [OpenBox-SPO] Iteration 372, objective value: [0.5460639286524994].\n",
      "[INFO] [2023-02-07 23:46:34,113] [OpenBox-SPO] Iteration 373, objective value: [0.017134596507200877].\n"
     ]
    },
    {
     "name": "stderr",
     "output_type": "stream",
     "text": [
      "\r",
      " 75%|███████████████████████████████████████████████████████████▋                    | 373/500 [41:24<22:59, 10.86s/it]"
     ]
    },
    {
     "name": "stdout",
     "output_type": "stream",
     "text": [
      "[INFO] [2023-02-07 23:46:49,220] [OpenBox-SPO] Iteration 374, objective value: [0.029649705472689802].\n"
     ]
    },
    {
     "name": "stderr",
     "output_type": "stream",
     "text": [
      "\r",
      " 75%|███████████████████████████████████████████████████████████▊                    | 374/500 [41:39<25:00, 11.91s/it]"
     ]
    },
    {
     "name": "stdout",
     "output_type": "stream",
     "text": [
      "[INFO] [2023-02-07 23:47:03,663] [OpenBox-SPO] Iteration 375, objective value: [0.011984713845249257].\n"
     ]
    },
    {
     "name": "stderr",
     "output_type": "stream",
     "text": [
      "\r",
      " 75%|████████████████████████████████████████████████████████████                    | 375/500 [41:53<26:10, 12.57s/it]"
     ]
    },
    {
     "name": "stdout",
     "output_type": "stream",
     "text": [
      "[INFO] [2023-02-07 23:47:18,583] [OpenBox-SPO] Iteration 376, objective value: [0.013343450712397658].\n"
     ]
    },
    {
     "name": "stderr",
     "output_type": "stream",
     "text": [
      "\r",
      " 75%|████████████████████████████████████████████████████████████▏                   | 376/500 [42:08<27:17, 13.20s/it]"
     ]
    },
    {
     "name": "stdout",
     "output_type": "stream",
     "text": [
      "[INFO] [2023-02-07 23:47:31,437] [OpenBox-SPO] Iteration 377, objective value: [0.002002461028480403].\n"
     ]
    },
    {
     "name": "stderr",
     "output_type": "stream",
     "text": [
      "\r",
      " 75%|████████████████████████████████████████████████████████████▎                   | 377/500 [42:21<26:52, 13.11s/it]"
     ]
    },
    {
     "name": "stdout",
     "output_type": "stream",
     "text": [
      "[INFO] [2023-02-07 23:47:45,007] [OpenBox-SPO] Iteration 378, objective value: [0.005767847333960065].\n"
     ]
    },
    {
     "name": "stderr",
     "output_type": "stream",
     "text": [
      "\r",
      " 76%|████████████████████████████████████████████████████████████▍                   | 378/500 [42:35<26:55, 13.24s/it]"
     ]
    },
    {
     "name": "stdout",
     "output_type": "stream",
     "text": [
      "[INFO] [2023-02-07 23:47:59,421] [OpenBox-SPO] Iteration 379, objective value: [0.011935185307092065].\n"
     ]
    },
    {
     "name": "stderr",
     "output_type": "stream",
     "text": [
      "\r",
      " 76%|████████████████████████████████████████████████████████████▋                   | 379/500 [42:49<27:22, 13.58s/it]"
     ]
    },
    {
     "name": "stdout",
     "output_type": "stream",
     "text": [
      "[INFO] [2023-02-07 23:48:13,385] [OpenBox-SPO] Iteration 380, objective value: [0.0018104221894932927].\n"
     ]
    },
    {
     "name": "stderr",
     "output_type": "stream",
     "text": [
      "\r",
      " 76%|████████████████████████████████████████████████████████████▊                   | 380/500 [43:03<27:22, 13.69s/it]"
     ]
    },
    {
     "name": "stdout",
     "output_type": "stream",
     "text": [
      "[INFO] [2023-02-07 23:48:30,982] [OpenBox-SPO] Iteration 381, objective value: [3.333778476691144].\n"
     ]
    },
    {
     "name": "stderr",
     "output_type": "stream",
     "text": [
      "\r",
      " 76%|████████████████████████████████████████████████████████████▉                   | 381/500 [43:21<29:26, 14.84s/it]"
     ]
    },
    {
     "name": "stdout",
     "output_type": "stream",
     "text": [
      "[INFO] [2023-02-07 23:48:30,982] [Advisor] Sample random config. rand_prob=0.100000.\n",
      "[INFO] [2023-02-07 23:48:30,997] [OpenBox-SPO] Iteration 382, objective value: [2.0567500387415043].\n",
      "[INFO] [2023-02-07 23:48:48,388] [OpenBox-SPO] Iteration 383, objective value: [0.16415313900929984].\n"
     ]
    },
    {
     "name": "stderr",
     "output_type": "stream",
     "text": [
      "\r",
      " 77%|█████████████████████████████████████████████████████████████▎                  | 383/500 [43:38<23:28, 12.04s/it]"
     ]
    },
    {
     "name": "stdout",
     "output_type": "stream",
     "text": [
      "[INFO] [2023-02-07 23:48:48,388] [Advisor] Sample random config. rand_prob=0.100000.\n",
      "[INFO] [2023-02-07 23:48:48,395] [OpenBox-SPO] Iteration 384, objective value: [0.9363540784496215].\n",
      "[INFO] [2023-02-07 23:49:06,441] [OpenBox-SPO] Iteration 385, objective value: [0.05294855698844383].\n"
     ]
    },
    {
     "name": "stderr",
     "output_type": "stream",
     "text": [
      "\r",
      " 77%|█████████████████████████████████████████████████████████████▌                  | 385/500 [43:56<20:47, 10.85s/it]"
     ]
    },
    {
     "name": "stdout",
     "output_type": "stream",
     "text": [
      "[INFO] [2023-02-07 23:49:06,441] [Advisor] Sample random config. rand_prob=0.100000.\n",
      "[INFO] [2023-02-07 23:49:06,448] [OpenBox-SPO] Iteration 386, objective value: [0.4746979258888304].\n",
      "[INFO] [2023-02-07 23:49:21,447] [OpenBox-SPO] Iteration 387, objective value: [0.02145414266193987].\n"
     ]
    },
    {
     "name": "stderr",
     "output_type": "stream",
     "text": [
      "\r",
      " 77%|█████████████████████████████████████████████████████████████▉                  | 387/500 [44:11<18:09,  9.64s/it]"
     ]
    },
    {
     "name": "stdout",
     "output_type": "stream",
     "text": [
      "[INFO] [2023-02-07 23:49:36,172] [OpenBox-SPO] Iteration 388, objective value: [0.04591538687666472].\n"
     ]
    },
    {
     "name": "stderr",
     "output_type": "stream",
     "text": [
      "\r",
      " 78%|██████████████████████████████████████████████████████████████                  | 388/500 [44:26<19:56, 10.68s/it]"
     ]
    },
    {
     "name": "stdout",
     "output_type": "stream",
     "text": [
      "[INFO] [2023-02-07 23:49:51,385] [OpenBox-SPO] Iteration 389, objective value: [0.02490620253988919].\n"
     ]
    },
    {
     "name": "stderr",
     "output_type": "stream",
     "text": [
      "\r",
      " 78%|██████████████████████████████████████████████████████████████▏                 | 389/500 [44:41<21:39, 11.71s/it]"
     ]
    },
    {
     "name": "stdout",
     "output_type": "stream",
     "text": [
      "[INFO] [2023-02-07 23:50:06,044] [OpenBox-SPO] Iteration 390, objective value: [0.0025818611901545436].\n"
     ]
    },
    {
     "name": "stderr",
     "output_type": "stream",
     "text": [
      "\r",
      " 78%|██████████████████████████████████████████████████████████████▍                 | 390/500 [44:56<22:47, 12.43s/it]"
     ]
    },
    {
     "name": "stdout",
     "output_type": "stream",
     "text": [
      "[INFO] [2023-02-07 23:50:23,218] [OpenBox-SPO] Iteration 391, objective value: [0.2011318713425735].\n"
     ]
    },
    {
     "name": "stderr",
     "output_type": "stream",
     "text": [
      "\r",
      " 78%|██████████████████████████████████████████████████████████████▌                 | 391/500 [45:13<24:48, 13.66s/it]"
     ]
    },
    {
     "name": "stdout",
     "output_type": "stream",
     "text": [
      "[INFO] [2023-02-07 23:50:41,096] [OpenBox-SPO] Iteration 392, objective value: [0.10352252268165787].\n"
     ]
    },
    {
     "name": "stderr",
     "output_type": "stream",
     "text": [
      "\r",
      " 78%|██████████████████████████████████████████████████████████████▋                 | 392/500 [45:31<26:38, 14.80s/it]"
     ]
    },
    {
     "name": "stdout",
     "output_type": "stream",
     "text": [
      "[INFO] [2023-02-07 23:50:41,096] [Advisor] Sample random config. rand_prob=0.100000.\n",
      "[INFO] [2023-02-07 23:50:41,108] [OpenBox-SPO] Iteration 393, objective value: [0.7776282936374047].\n",
      "[INFO] [2023-02-07 23:50:54,617] [OpenBox-SPO] Iteration 394, objective value: [0.055339783054797684].\n"
     ]
    },
    {
     "name": "stderr",
     "output_type": "stream",
     "text": [
      "\r",
      " 79%|███████████████████████████████████████████████████████████████                 | 394/500 [45:44<19:57, 11.30s/it]"
     ]
    },
    {
     "name": "stdout",
     "output_type": "stream",
     "text": [
      "[INFO] [2023-02-07 23:50:54,617] [Advisor] Sample random config. rand_prob=0.100000.\n",
      "[INFO] [2023-02-07 23:50:54,630] [OpenBox-SPO] Iteration 395, objective value: [2.2163255886297355].\n",
      "[INFO] [2023-02-07 23:51:13,154] [OpenBox-SPO] Iteration 396, objective value: [0.07020090586945739].\n"
     ]
    },
    {
     "name": "stderr",
     "output_type": "stream",
     "text": [
      "\r",
      " 79%|███████████████████████████████████████████████████████████████▎                | 396/500 [46:03<18:14, 10.52s/it]"
     ]
    },
    {
     "name": "stdout",
     "output_type": "stream",
     "text": [
      "[INFO] [2023-02-07 23:51:31,716] [OpenBox-SPO] Iteration 397, objective value: [0.06824382750171376].\n"
     ]
    },
    {
     "name": "stderr",
     "output_type": "stream",
     "text": [
      "\r",
      " 79%|███████████████████████████████████████████████████████████████▌                | 397/500 [46:21<21:01, 12.25s/it]"
     ]
    },
    {
     "name": "stdout",
     "output_type": "stream",
     "text": [
      "[INFO] [2023-02-07 23:51:48,165] [OpenBox-SPO] Iteration 398, objective value: [0.04175846135124761].\n"
     ]
    },
    {
     "name": "stderr",
     "output_type": "stream",
     "text": [
      "\r",
      " 80%|███████████████████████████████████████████████████████████████▋                | 398/500 [46:38<22:30, 13.24s/it]"
     ]
    },
    {
     "name": "stdout",
     "output_type": "stream",
     "text": [
      "[INFO] [2023-02-07 23:52:06,180] [OpenBox-SPO] Iteration 399, objective value: [0.03061497728526678].\n"
     ]
    },
    {
     "name": "stderr",
     "output_type": "stream",
     "text": [
      "\r",
      " 80%|███████████████████████████████████████████████████████████████▊                | 399/500 [46:56<24:18, 14.44s/it]"
     ]
    },
    {
     "name": "stdout",
     "output_type": "stream",
     "text": [
      "[INFO] [2023-02-07 23:52:23,647] [OpenBox-SPO] Iteration 400, objective value: [0.1434132785671621].\n"
     ]
    },
    {
     "name": "stderr",
     "output_type": "stream",
     "text": [
      "\r",
      " 80%|████████████████████████████████████████████████████████████████                | 400/500 [47:13<25:23, 15.24s/it]"
     ]
    },
    {
     "name": "stdout",
     "output_type": "stream",
     "text": [
      "[INFO] [2023-02-07 23:52:42,445] [OpenBox-SPO] Iteration 401, objective value: [0.021951417737813745].\n"
     ]
    },
    {
     "name": "stderr",
     "output_type": "stream",
     "text": [
      "\r",
      " 80%|████████████████████████████████████████████████████████████████▏               | 401/500 [47:32<26:45, 16.21s/it]"
     ]
    },
    {
     "name": "stdout",
     "output_type": "stream",
     "text": [
      "[INFO] [2023-02-07 23:53:00,206] [OpenBox-SPO] Iteration 402, objective value: [0.010224172453934255].\n"
     ]
    },
    {
     "name": "stderr",
     "output_type": "stream",
     "text": [
      "\r",
      " 80%|████████████████████████████████████████████████████████████████▎               | 402/500 [47:50<27:11, 16.65s/it]"
     ]
    },
    {
     "name": "stdout",
     "output_type": "stream",
     "text": [
      "[INFO] [2023-02-07 23:53:17,466] [OpenBox-SPO] Iteration 403, objective value: [1.3798028730229066].\n"
     ]
    },
    {
     "name": "stderr",
     "output_type": "stream",
     "text": [
      "\r",
      " 81%|████████████████████████████████████████████████████████████████▍               | 403/500 [48:07<27:11, 16.82s/it]"
     ]
    },
    {
     "name": "stdout",
     "output_type": "stream",
     "text": [
      "[INFO] [2023-02-07 23:53:38,030] [OpenBox-SPO] Iteration 404, objective value: [4.21116762695973].\n"
     ]
    },
    {
     "name": "stderr",
     "output_type": "stream",
     "text": [
      "\r",
      " 81%|████████████████████████████████████████████████████████████████▋               | 404/500 [48:28<28:39, 17.91s/it]"
     ]
    },
    {
     "name": "stdout",
     "output_type": "stream",
     "text": [
      "[INFO] [2023-02-07 23:53:53,738] [OpenBox-SPO] Iteration 405, objective value: [0.01278365827651579].\n"
     ]
    },
    {
     "name": "stderr",
     "output_type": "stream",
     "text": [
      "\r",
      " 81%|████████████████████████████████████████████████████████████████▊               | 405/500 [48:43<27:20, 17.26s/it]"
     ]
    },
    {
     "name": "stdout",
     "output_type": "stream",
     "text": [
      "[INFO] [2023-02-07 23:54:13,275] [OpenBox-SPO] Iteration 406, objective value: [8.117832170515554].\n"
     ]
    },
    {
     "name": "stderr",
     "output_type": "stream",
     "text": [
      "\r",
      " 81%|████████████████████████████████████████████████████████████████▉               | 406/500 [49:03<28:05, 17.94s/it]"
     ]
    },
    {
     "name": "stdout",
     "output_type": "stream",
     "text": [
      "[INFO] [2023-02-07 23:54:29,860] [OpenBox-SPO] Iteration 407, objective value: [1.151720536114478].\n"
     ]
    },
    {
     "name": "stderr",
     "output_type": "stream",
     "text": [
      "\r",
      " 81%|█████████████████████████████████████████████████████████████████               | 407/500 [49:19<27:10, 17.53s/it]"
     ]
    },
    {
     "name": "stdout",
     "output_type": "stream",
     "text": [
      "[INFO] [2023-02-07 23:54:48,527] [OpenBox-SPO] Iteration 408, objective value: [0.017330730298181926].\n"
     ]
    },
    {
     "name": "stderr",
     "output_type": "stream",
     "text": [
      "\r",
      " 82%|█████████████████████████████████████████████████████████████████▎              | 408/500 [49:38<27:24, 17.87s/it]"
     ]
    },
    {
     "name": "stdout",
     "output_type": "stream",
     "text": [
      "[INFO] [2023-02-07 23:55:05,619] [OpenBox-SPO] Iteration 409, objective value: [0.010740022240646206].\n"
     ]
    },
    {
     "name": "stderr",
     "output_type": "stream",
     "text": [
      "\r",
      " 82%|█████████████████████████████████████████████████████████████████▍              | 409/500 [49:55<26:45, 17.64s/it]"
     ]
    },
    {
     "name": "stdout",
     "output_type": "stream",
     "text": [
      "[INFO] [2023-02-07 23:55:24,152] [OpenBox-SPO] Iteration 410, objective value: [0.005205444973360214].\n"
     ]
    },
    {
     "name": "stderr",
     "output_type": "stream",
     "text": [
      "\r",
      " 82%|█████████████████████████████████████████████████████████████████▌              | 410/500 [50:14<26:51, 17.91s/it]"
     ]
    },
    {
     "name": "stdout",
     "output_type": "stream",
     "text": [
      "[INFO] [2023-02-07 23:55:42,422] [OpenBox-SPO] Iteration 411, objective value: [0.10665995527199303].\n"
     ]
    },
    {
     "name": "stderr",
     "output_type": "stream",
     "text": [
      "\r",
      " 82%|█████████████████████████████████████████████████████████████████▊              | 411/500 [50:32<26:43, 18.02s/it]"
     ]
    },
    {
     "name": "stdout",
     "output_type": "stream",
     "text": [
      "[INFO] [2023-02-07 23:56:00,305] [OpenBox-SPO] Iteration 412, objective value: [0.07925215017744296].\n"
     ]
    },
    {
     "name": "stderr",
     "output_type": "stream",
     "text": [
      "\r",
      " 82%|█████████████████████████████████████████████████████████████████▉              | 412/500 [50:50<26:21, 17.98s/it]"
     ]
    },
    {
     "name": "stdout",
     "output_type": "stream",
     "text": [
      "[INFO] [2023-02-07 23:56:16,649] [OpenBox-SPO] Iteration 413, objective value: [0.0476105716994315].\n"
     ]
    },
    {
     "name": "stderr",
     "output_type": "stream",
     "text": [
      "\r",
      " 83%|██████████████████████████████████████████████████████████████████              | 413/500 [51:06<25:21, 17.49s/it]"
     ]
    },
    {
     "name": "stdout",
     "output_type": "stream",
     "text": [
      "[INFO] [2023-02-07 23:56:33,190] [OpenBox-SPO] Iteration 414, objective value: [0.006963828189332154].\n"
     ]
    },
    {
     "name": "stderr",
     "output_type": "stream",
     "text": [
      "\r",
      " 83%|██████████████████████████████████████████████████████████████████▏             | 414/500 [51:23<24:39, 17.20s/it]"
     ]
    },
    {
     "name": "stdout",
     "output_type": "stream",
     "text": [
      "[INFO] [2023-02-07 23:56:49,646] [OpenBox-SPO] Iteration 415, objective value: [0.015556261059954076].\n"
     ]
    },
    {
     "name": "stderr",
     "output_type": "stream",
     "text": [
      "\r",
      " 83%|██████████████████████████████████████████████████████████████████▍             | 415/500 [51:39<24:03, 16.98s/it]"
     ]
    },
    {
     "name": "stdout",
     "output_type": "stream",
     "text": [
      "[INFO] [2023-02-07 23:57:05,352] [OpenBox-SPO] Iteration 416, objective value: [0.017614904997657808].\n"
     ]
    },
    {
     "name": "stderr",
     "output_type": "stream",
     "text": [
      "\r",
      " 83%|██████████████████████████████████████████████████████████████████▌             | 416/500 [51:55<23:14, 16.60s/it]"
     ]
    },
    {
     "name": "stdout",
     "output_type": "stream",
     "text": [
      "[INFO] [2023-02-07 23:57:26,910] [OpenBox-SPO] Iteration 417, objective value: [0.08054435148908208].\n"
     ]
    },
    {
     "name": "stderr",
     "output_type": "stream",
     "text": [
      "\r",
      " 83%|██████████████████████████████████████████████████████████████████▋             | 417/500 [52:16<25:01, 18.09s/it]"
     ]
    },
    {
     "name": "stdout",
     "output_type": "stream",
     "text": [
      "[INFO] [2023-02-07 23:57:44,719] [OpenBox-SPO] Iteration 418, objective value: [0.0027173811479231963].\n"
     ]
    },
    {
     "name": "stderr",
     "output_type": "stream",
     "text": [
      "\r",
      " 84%|██████████████████████████████████████████████████████████████████▉             | 418/500 [52:34<24:36, 18.00s/it]"
     ]
    },
    {
     "name": "stdout",
     "output_type": "stream",
     "text": [
      "[INFO] [2023-02-07 23:58:02,669] [OpenBox-SPO] Iteration 419, objective value: [0.0669882874138138].\n"
     ]
    },
    {
     "name": "stderr",
     "output_type": "stream",
     "text": [
      "\r",
      " 84%|███████████████████████████████████████████████████████████████████             | 419/500 [52:52<24:16, 17.99s/it]"
     ]
    },
    {
     "name": "stdout",
     "output_type": "stream",
     "text": [
      "[INFO] [2023-02-07 23:58:21,017] [OpenBox-SPO] Iteration 420, objective value: [0.013656895403138067].\n"
     ]
    },
    {
     "name": "stderr",
     "output_type": "stream",
     "text": [
      "\r",
      " 84%|███████████████████████████████████████████████████████████████████▏            | 420/500 [53:11<24:07, 18.10s/it]"
     ]
    },
    {
     "name": "stdout",
     "output_type": "stream",
     "text": [
      "[INFO] [2023-02-07 23:58:39,595] [OpenBox-SPO] Iteration 421, objective value: [0.0019264036120796677].\n"
     ]
    },
    {
     "name": "stderr",
     "output_type": "stream",
     "text": [
      "\r",
      " 84%|███████████████████████████████████████████████████████████████████▎            | 421/500 [53:29<24:00, 18.24s/it]"
     ]
    },
    {
     "name": "stdout",
     "output_type": "stream",
     "text": [
      "[INFO] [2023-02-07 23:58:58,227] [OpenBox-SPO] Iteration 422, objective value: [0.009118288692997795].\n"
     ]
    },
    {
     "name": "stderr",
     "output_type": "stream",
     "text": [
      "\r",
      " 84%|███████████████████████████████████████████████████████████████████▌            | 422/500 [53:48<23:51, 18.36s/it]"
     ]
    },
    {
     "name": "stdout",
     "output_type": "stream",
     "text": [
      "[INFO] [2023-02-07 23:59:15,860] [OpenBox-SPO] Iteration 423, objective value: [0.04894910659262666].\n"
     ]
    },
    {
     "name": "stderr",
     "output_type": "stream",
     "text": [
      "\r",
      " 85%|███████████████████████████████████████████████████████████████████▋            | 423/500 [54:05<23:16, 18.14s/it]"
     ]
    },
    {
     "name": "stdout",
     "output_type": "stream",
     "text": [
      "[INFO] [2023-02-07 23:59:32,828] [OpenBox-SPO] Iteration 424, objective value: [0.010108579166297755].\n"
     ]
    },
    {
     "name": "stderr",
     "output_type": "stream",
     "text": [
      "\r",
      " 85%|███████████████████████████████████████████████████████████████████▊            | 424/500 [54:22<22:31, 17.79s/it]"
     ]
    },
    {
     "name": "stdout",
     "output_type": "stream",
     "text": [
      "[INFO] [2023-02-07 23:59:51,800] [OpenBox-SPO] Iteration 425, objective value: [0.009816935964941967].\n"
     ]
    },
    {
     "name": "stderr",
     "output_type": "stream",
     "text": [
      "\r",
      " 85%|████████████████████████████████████████████████████████████████████            | 425/500 [54:41<22:40, 18.14s/it]"
     ]
    },
    {
     "name": "stdout",
     "output_type": "stream",
     "text": [
      "[INFO] [2023-02-08 00:00:09,215] [OpenBox-SPO] Iteration 426, objective value: [0.006130423943575496].\n"
     ]
    },
    {
     "name": "stderr",
     "output_type": "stream",
     "text": [
      "\r",
      " 85%|████████████████████████████████████████████████████████████████████▏           | 426/500 [54:59<22:06, 17.92s/it]"
     ]
    },
    {
     "name": "stdout",
     "output_type": "stream",
     "text": [
      "[INFO] [2023-02-08 00:00:28,171] [OpenBox-SPO] Iteration 427, objective value: [0.032183598558641564].\n"
     ]
    },
    {
     "name": "stderr",
     "output_type": "stream",
     "text": [
      "\r",
      " 85%|████████████████████████████████████████████████████████████████████▎           | 427/500 [55:18<22:11, 18.23s/it]"
     ]
    },
    {
     "name": "stdout",
     "output_type": "stream",
     "text": [
      "[INFO] [2023-02-08 00:00:48,779] [OpenBox-SPO] Iteration 428, objective value: [0.0071320481544082685].\n"
     ]
    },
    {
     "name": "stderr",
     "output_type": "stream",
     "text": [
      "\r",
      " 86%|████████████████████████████████████████████████████████████████████▍           | 428/500 [55:38<22:44, 18.95s/it]"
     ]
    },
    {
     "name": "stdout",
     "output_type": "stream",
     "text": [
      "[INFO] [2023-02-08 00:01:08,248] [OpenBox-SPO] Iteration 429, objective value: [0.07032536249043264].\n"
     ]
    },
    {
     "name": "stderr",
     "output_type": "stream",
     "text": [
      "\r",
      " 86%|████████████████████████████████████████████████████████████████████▋           | 429/500 [55:58<22:36, 19.11s/it]"
     ]
    },
    {
     "name": "stdout",
     "output_type": "stream",
     "text": [
      "[INFO] [2023-02-08 00:01:25,548] [OpenBox-SPO] Iteration 430, objective value: [0.0029441223259117537].\n"
     ]
    },
    {
     "name": "stderr",
     "output_type": "stream",
     "text": [
      "\r",
      " 86%|████████████████████████████████████████████████████████████████████▊           | 430/500 [56:15<21:39, 18.56s/it]"
     ]
    },
    {
     "name": "stdout",
     "output_type": "stream",
     "text": [
      "[INFO] [2023-02-08 00:01:42,076] [OpenBox-SPO] Iteration 431, objective value: [5.253703516326951].\n"
     ]
    },
    {
     "name": "stderr",
     "output_type": "stream",
     "text": [
      "\r",
      " 86%|████████████████████████████████████████████████████████████████████▉           | 431/500 [56:32<20:38, 17.95s/it]"
     ]
    },
    {
     "name": "stdout",
     "output_type": "stream",
     "text": [
      "[INFO] [2023-02-08 00:01:42,076] [Advisor] Sample random config. rand_prob=0.100000.\n",
      "[INFO] [2023-02-08 00:01:42,081] [OpenBox-SPO] Iteration 432, objective value: [1.5919652611963349].\n",
      "[INFO] [2023-02-08 00:02:00,834] [OpenBox-SPO] Iteration 433, objective value: [0.14205258291446257].\n"
     ]
    },
    {
     "name": "stderr",
     "output_type": "stream",
     "text": [
      "\r",
      " 87%|█████████████████████████████████████████████████████████████████████▎          | 433/500 [56:50<15:37, 13.99s/it]"
     ]
    },
    {
     "name": "stdout",
     "output_type": "stream",
     "text": [
      "[INFO] [2023-02-08 00:02:21,595] [OpenBox-SPO] Iteration 434, objective value: [0.09186964247596464].\n"
     ]
    },
    {
     "name": "stderr",
     "output_type": "stream",
     "text": [
      "\r",
      " 87%|█████████████████████████████████████████████████████████████████████▍          | 434/500 [57:11<17:14, 15.67s/it]"
     ]
    },
    {
     "name": "stdout",
     "output_type": "stream",
     "text": [
      "[INFO] [2023-02-08 00:02:41,708] [OpenBox-SPO] Iteration 435, objective value: [0.12771470861870726].\n"
     ]
    },
    {
     "name": "stderr",
     "output_type": "stream",
     "text": [
      "\r",
      " 87%|█████████████████████████████████████████████████████████████████████▌          | 435/500 [57:31<18:14, 16.83s/it]"
     ]
    },
    {
     "name": "stdout",
     "output_type": "stream",
     "text": [
      "[INFO] [2023-02-08 00:02:58,159] [OpenBox-SPO] Iteration 436, objective value: [0.010705790640143509].\n"
     ]
    },
    {
     "name": "stderr",
     "output_type": "stream",
     "text": [
      "\r",
      " 87%|█████████████████████████████████████████████████████████████████████▊          | 436/500 [57:48<17:50, 16.73s/it]"
     ]
    },
    {
     "name": "stdout",
     "output_type": "stream",
     "text": [
      "[INFO] [2023-02-08 00:03:16,641] [OpenBox-SPO] Iteration 437, objective value: [0.00543682111481313].\n"
     ]
    },
    {
     "name": "stderr",
     "output_type": "stream",
     "text": [
      "\r",
      " 87%|█████████████████████████████████████████████████████████████████████▉          | 437/500 [58:06<18:04, 17.22s/it]"
     ]
    },
    {
     "name": "stdout",
     "output_type": "stream",
     "text": [
      "[INFO] [2023-02-08 00:03:38,441] [OpenBox-SPO] Iteration 438, objective value: [0.09186927611356208].\n"
     ]
    },
    {
     "name": "stderr",
     "output_type": "stream",
     "text": [
      "\r",
      " 88%|██████████████████████████████████████████████████████████████████████          | 438/500 [58:28<19:08, 18.53s/it]"
     ]
    },
    {
     "name": "stdout",
     "output_type": "stream",
     "text": [
      "[INFO] [2023-02-08 00:03:55,983] [OpenBox-SPO] Iteration 439, objective value: [0.0965981446652175].\n"
     ]
    },
    {
     "name": "stderr",
     "output_type": "stream",
     "text": [
      "\r",
      " 88%|██████████████████████████████████████████████████████████████████████▏         | 439/500 [58:46<18:32, 18.24s/it]"
     ]
    },
    {
     "name": "stdout",
     "output_type": "stream",
     "text": [
      "[INFO] [2023-02-08 00:03:55,983] [Advisor] Sample random config. rand_prob=0.100000.\n",
      "[INFO] [2023-02-08 00:03:55,987] [OpenBox-SPO] Iteration 440, objective value: [1.916450723811587].\n",
      "[INFO] [2023-02-08 00:03:55,987] [Advisor] Sample random config. rand_prob=0.100000.\n",
      "[INFO] [2023-02-08 00:03:55,988] [OpenBox-SPO] Iteration 441, objective value: [1.7769339856739805].\n",
      "[INFO] [2023-02-08 00:04:16,874] [OpenBox-SPO] Iteration 442, objective value: [0.16280455614931424].\n"
     ]
    },
    {
     "name": "stderr",
     "output_type": "stream",
     "text": [
      "\r",
      " 88%|██████████████████████████████████████████████████████████████████████▋         | 442/500 [59:06<11:35, 11.99s/it]"
     ]
    },
    {
     "name": "stdout",
     "output_type": "stream",
     "text": [
      "[INFO] [2023-02-08 00:04:38,255] [OpenBox-SPO] Iteration 443, objective value: [0.1508119429761902].\n"
     ]
    },
    {
     "name": "stderr",
     "output_type": "stream",
     "text": [
      "\r",
      " 89%|██████████████████████████████████████████████████████████████████████▉         | 443/500 [59:28<13:15, 13.95s/it]"
     ]
    },
    {
     "name": "stdout",
     "output_type": "stream",
     "text": [
      "[INFO] [2023-02-08 00:04:56,544] [OpenBox-SPO] Iteration 444, objective value: [0.002585794427640764].\n"
     ]
    },
    {
     "name": "stderr",
     "output_type": "stream",
     "text": [
      "\r",
      " 89%|███████████████████████████████████████████████████████████████████████         | 444/500 [59:46<13:57, 14.95s/it]"
     ]
    },
    {
     "name": "stdout",
     "output_type": "stream",
     "text": [
      "[INFO] [2023-02-08 00:05:16,605] [OpenBox-SPO] Iteration 445, objective value: [0.02691543505621031].\n"
     ]
    },
    {
     "name": "stderr",
     "output_type": "stream",
     "text": [
      "\r",
      " 89%|█████████████████████████████████████████████████████████████████████▍        | 445/500 [1:00:06<14:51, 16.21s/it]"
     ]
    },
    {
     "name": "stdout",
     "output_type": "stream",
     "text": [
      "[INFO] [2023-02-08 00:05:16,605] [Advisor] Sample random config. rand_prob=0.100000.\n",
      "[INFO] [2023-02-08 00:05:16,607] [OpenBox-SPO] Iteration 446, objective value: [2.29297312496746].\n",
      "[INFO] [2023-02-08 00:05:37,024] [OpenBox-SPO] Iteration 447, objective value: [0.043183271529505164].\n"
     ]
    },
    {
     "name": "stderr",
     "output_type": "stream",
     "text": [
      "\r",
      " 89%|█████████████████████████████████████████████████████████████████████▋        | 447/500 [1:00:27<12:07, 13.73s/it]"
     ]
    },
    {
     "name": "stdout",
     "output_type": "stream",
     "text": [
      "[INFO] [2023-02-08 00:05:57,643] [OpenBox-SPO] Iteration 448, objective value: [0.002801783052733368].\n"
     ]
    },
    {
     "name": "stderr",
     "output_type": "stream",
     "text": [
      "\r",
      " 90%|█████████████████████████████████████████████████████████████████████▉        | 448/500 [1:00:47<13:15, 15.30s/it]"
     ]
    },
    {
     "name": "stdout",
     "output_type": "stream",
     "text": [
      "[INFO] [2023-02-08 00:06:17,295] [OpenBox-SPO] Iteration 449, objective value: [2.12799816684111].\n"
     ]
    },
    {
     "name": "stderr",
     "output_type": "stream",
     "text": [
      "\r",
      " 90%|██████████████████████████████████████████████████████████████████████        | 449/500 [1:01:07<13:54, 16.37s/it]"
     ]
    },
    {
     "name": "stdout",
     "output_type": "stream",
     "text": [
      "[INFO] [2023-02-08 00:06:34,738] [OpenBox-SPO] Iteration 450, objective value: [0.018112237438263287].\n"
     ]
    },
    {
     "name": "stderr",
     "output_type": "stream",
     "text": [
      "\r",
      " 90%|██████████████████████████████████████████████████████████████████████▏       | 450/500 [1:01:24<13:52, 16.65s/it]"
     ]
    },
    {
     "name": "stdout",
     "output_type": "stream",
     "text": [
      "[INFO] [2023-02-08 00:06:56,130] [OpenBox-SPO] Iteration 451, objective value: [0.0047502626745406454].\n"
     ]
    },
    {
     "name": "stderr",
     "output_type": "stream",
     "text": [
      "\r",
      " 90%|██████████████████████████████████████████████████████████████████████▎       | 451/500 [1:01:46<14:38, 17.94s/it]"
     ]
    },
    {
     "name": "stdout",
     "output_type": "stream",
     "text": [
      "[INFO] [2023-02-08 00:07:14,619] [OpenBox-SPO] Iteration 452, objective value: [0.005014508639880922].\n"
     ]
    },
    {
     "name": "stderr",
     "output_type": "stream",
     "text": [
      "\r",
      " 90%|██████████████████████████████████████████████████████████████████████▌       | 452/500 [1:02:04<14:28, 18.09s/it]"
     ]
    },
    {
     "name": "stdout",
     "output_type": "stream",
     "text": [
      "[INFO] [2023-02-08 00:07:35,391] [OpenBox-SPO] Iteration 453, objective value: [0.6309145295654277].\n"
     ]
    },
    {
     "name": "stderr",
     "output_type": "stream",
     "text": [
      "\r",
      " 91%|██████████████████████████████████████████████████████████████████████▋       | 453/500 [1:02:25<14:46, 18.85s/it]"
     ]
    },
    {
     "name": "stdout",
     "output_type": "stream",
     "text": [
      "[INFO] [2023-02-08 00:07:57,521] [OpenBox-SPO] Iteration 454, objective value: [0.015535631224735289].\n"
     ]
    },
    {
     "name": "stderr",
     "output_type": "stream",
     "text": [
      "\r",
      " 91%|██████████████████████████████████████████████████████████████████████▊       | 454/500 [1:02:47<15:10, 19.80s/it]"
     ]
    },
    {
     "name": "stdout",
     "output_type": "stream",
     "text": [
      "[INFO] [2023-02-08 00:08:20,252] [OpenBox-SPO] Iteration 455, objective value: [1.1178206498345309].\n"
     ]
    },
    {
     "name": "stderr",
     "output_type": "stream",
     "text": [
      "\r",
      " 91%|██████████████████████████████████████████████████████████████████████▉       | 455/500 [1:03:10<15:29, 20.66s/it]"
     ]
    },
    {
     "name": "stdout",
     "output_type": "stream",
     "text": [
      "[INFO] [2023-02-08 00:08:41,752] [OpenBox-SPO] Iteration 456, objective value: [1.9056637674177996].\n"
     ]
    },
    {
     "name": "stderr",
     "output_type": "stream",
     "text": [
      "\r",
      " 91%|███████████████████████████████████████████████████████████████████████▏      | 456/500 [1:03:31<15:19, 20.91s/it]"
     ]
    },
    {
     "name": "stdout",
     "output_type": "stream",
     "text": [
      "[INFO] [2023-02-08 00:09:07,056] [OpenBox-SPO] Iteration 457, objective value: [0.04137583067820983].\n"
     ]
    },
    {
     "name": "stderr",
     "output_type": "stream",
     "text": [
      "\r",
      " 91%|███████████████████████████████████████████████████████████████████████▎      | 457/500 [1:03:57<15:54, 22.21s/it]"
     ]
    },
    {
     "name": "stdout",
     "output_type": "stream",
     "text": [
      "[INFO] [2023-02-08 00:09:26,957] [OpenBox-SPO] Iteration 458, objective value: [0.01572994827993463].\n"
     ]
    },
    {
     "name": "stderr",
     "output_type": "stream",
     "text": [
      "\r",
      " 92%|███████████████████████████████████████████████████████████████████████▍      | 458/500 [1:04:17<15:03, 21.52s/it]"
     ]
    },
    {
     "name": "stdout",
     "output_type": "stream",
     "text": [
      "[INFO] [2023-02-08 00:09:45,165] [OpenBox-SPO] Iteration 459, objective value: [1.1605793497116133].\n"
     ]
    },
    {
     "name": "stderr",
     "output_type": "stream",
     "text": [
      "\r",
      " 92%|███████████████████████████████████████████████████████████████████████▌      | 459/500 [1:04:35<14:01, 20.53s/it]"
     ]
    },
    {
     "name": "stdout",
     "output_type": "stream",
     "text": [
      "[INFO] [2023-02-08 00:10:07,884] [OpenBox-SPO] Iteration 460, objective value: [0.015842203469775714].\n"
     ]
    },
    {
     "name": "stderr",
     "output_type": "stream",
     "text": [
      "\r",
      " 92%|███████████████████████████████████████████████████████████████████████▊      | 460/500 [1:04:57<14:07, 21.19s/it]"
     ]
    },
    {
     "name": "stdout",
     "output_type": "stream",
     "text": [
      "[INFO] [2023-02-08 00:10:30,150] [OpenBox-SPO] Iteration 461, objective value: [0.03761070853215759].\n"
     ]
    },
    {
     "name": "stderr",
     "output_type": "stream",
     "text": [
      "\r",
      " 92%|███████████████████████████████████████████████████████████████████████▉      | 461/500 [1:05:20<13:58, 21.51s/it]"
     ]
    },
    {
     "name": "stdout",
     "output_type": "stream",
     "text": [
      "[INFO] [2023-02-08 00:10:54,233] [OpenBox-SPO] Iteration 462, objective value: [0.04332910767948521].\n"
     ]
    },
    {
     "name": "stderr",
     "output_type": "stream",
     "text": [
      "\r",
      " 92%|████████████████████████████████████████████████████████████████████████      | 462/500 [1:05:44<14:06, 22.28s/it]"
     ]
    },
    {
     "name": "stdout",
     "output_type": "stream",
     "text": [
      "[INFO] [2023-02-08 00:11:16,909] [OpenBox-SPO] Iteration 463, objective value: [0.003089656656429048].\n"
     ]
    },
    {
     "name": "stderr",
     "output_type": "stream",
     "text": [
      "\r",
      " 93%|████████████████████████████████████████████████████████████████████████▏     | 463/500 [1:06:06<13:48, 22.40s/it]"
     ]
    },
    {
     "name": "stdout",
     "output_type": "stream",
     "text": [
      "[INFO] [2023-02-08 00:11:37,946] [OpenBox-SPO] Iteration 464, objective value: [0.10443686356441088].\n"
     ]
    },
    {
     "name": "stderr",
     "output_type": "stream",
     "text": [
      "\r",
      " 93%|████████████████████████████████████████████████████████████████████████▍     | 464/500 [1:06:28<13:11, 21.99s/it]"
     ]
    },
    {
     "name": "stdout",
     "output_type": "stream",
     "text": [
      "[INFO] [2023-02-08 00:12:00,306] [OpenBox-SPO] Iteration 465, objective value: [0.012177259357698905].\n"
     ]
    },
    {
     "name": "stderr",
     "output_type": "stream",
     "text": [
      "\r",
      " 93%|████████████████████████████████████████████████████████████████████████▌     | 465/500 [1:06:50<12:53, 22.10s/it]"
     ]
    },
    {
     "name": "stdout",
     "output_type": "stream",
     "text": [
      "[INFO] [2023-02-08 00:12:24,203] [OpenBox-SPO] Iteration 466, objective value: [0.021627330004102132].\n"
     ]
    },
    {
     "name": "stderr",
     "output_type": "stream",
     "text": [
      "\r",
      " 93%|████████████████████████████████████████████████████████████████████████▋     | 466/500 [1:07:14<12:49, 22.64s/it]"
     ]
    },
    {
     "name": "stdout",
     "output_type": "stream",
     "text": [
      "[INFO] [2023-02-08 00:12:24,203] [Advisor] Sample random config. rand_prob=0.100000.\n",
      "[INFO] [2023-02-08 00:12:24,210] [OpenBox-SPO] Iteration 467, objective value: [0.37441225528529976].\n",
      "[INFO] [2023-02-08 00:12:24,210] [Advisor] Sample random config. rand_prob=0.100000.\n",
      "[INFO] [2023-02-08 00:12:24,212] [OpenBox-SPO] Iteration 468, objective value: [1.2583926929019293].\n",
      "[INFO] [2023-02-08 00:12:45,219] [OpenBox-SPO] Iteration 469, objective value: [0.051440481530707315].\n"
     ]
    },
    {
     "name": "stderr",
     "output_type": "stream",
     "text": [
      "\r",
      " 94%|█████████████████████████████████████████████████████████████████████████▏    | 469/500 [1:07:35<07:09, 13.85s/it]"
     ]
    },
    {
     "name": "stdout",
     "output_type": "stream",
     "text": [
      "[INFO] [2023-02-08 00:13:05,900] [OpenBox-SPO] Iteration 470, objective value: [0.020622446408857523].\n"
     ]
    },
    {
     "name": "stderr",
     "output_type": "stream",
     "text": [
      "\r",
      " 94%|█████████████████████████████████████████████████████████████████████████▎    | 470/500 [1:07:55<07:38, 15.29s/it]"
     ]
    },
    {
     "name": "stdout",
     "output_type": "stream",
     "text": [
      "[INFO] [2023-02-08 00:13:32,833] [OpenBox-SPO] Iteration 471, objective value: [0.16267820974964312].\n"
     ]
    },
    {
     "name": "stderr",
     "output_type": "stream",
     "text": [
      "\r",
      " 94%|█████████████████████████████████████████████████████████████████████████▍    | 471/500 [1:08:22<08:41, 17.99s/it]"
     ]
    },
    {
     "name": "stdout",
     "output_type": "stream",
     "text": [
      "[INFO] [2023-02-08 00:13:56,005] [OpenBox-SPO] Iteration 472, objective value: [0.03344657362793294].\n"
     ]
    },
    {
     "name": "stderr",
     "output_type": "stream",
     "text": [
      "\r",
      " 94%|█████████████████████████████████████████████████████████████████████████▋    | 472/500 [1:08:46<08:59, 19.28s/it]"
     ]
    },
    {
     "name": "stdout",
     "output_type": "stream",
     "text": [
      "[INFO] [2023-02-08 00:14:17,603] [OpenBox-SPO] Iteration 473, objective value: [0.005973437100211225].\n"
     ]
    },
    {
     "name": "stderr",
     "output_type": "stream",
     "text": [
      "\r",
      " 95%|█████████████████████████████████████████████████████████████████████████▊    | 473/500 [1:09:07<08:56, 19.89s/it]"
     ]
    },
    {
     "name": "stdout",
     "output_type": "stream",
     "text": [
      "[INFO] [2023-02-08 00:14:40,345] [OpenBox-SPO] Iteration 474, objective value: [0.00837761872576081].\n"
     ]
    },
    {
     "name": "stderr",
     "output_type": "stream",
     "text": [
      "\r",
      " 95%|█████████████████████████████████████████████████████████████████████████▉    | 474/500 [1:09:30<08:57, 20.66s/it]"
     ]
    },
    {
     "name": "stdout",
     "output_type": "stream",
     "text": [
      "[INFO] [2023-02-08 00:15:00,745] [OpenBox-SPO] Iteration 475, objective value: [0.01276565641754169].\n"
     ]
    },
    {
     "name": "stderr",
     "output_type": "stream",
     "text": [
      "\r",
      " 95%|██████████████████████████████████████████████████████████████████████████    | 475/500 [1:09:50<08:34, 20.59s/it]"
     ]
    },
    {
     "name": "stdout",
     "output_type": "stream",
     "text": [
      "[INFO] [2023-02-08 00:15:22,570] [OpenBox-SPO] Iteration 476, objective value: [0.010923355348802743].\n"
     ]
    },
    {
     "name": "stderr",
     "output_type": "stream",
     "text": [
      "\r",
      " 95%|██████████████████████████████████████████████████████████████████████████▎   | 476/500 [1:10:12<08:22, 20.94s/it]"
     ]
    },
    {
     "name": "stdout",
     "output_type": "stream",
     "text": [
      "[INFO] [2023-02-08 00:15:50,960] [OpenBox-SPO] Iteration 477, objective value: [3.2316828048889845].\n"
     ]
    },
    {
     "name": "stderr",
     "output_type": "stream",
     "text": [
      "\r",
      " 95%|██████████████████████████████████████████████████████████████████████████▍   | 477/500 [1:10:41<08:51, 23.10s/it]"
     ]
    },
    {
     "name": "stdout",
     "output_type": "stream",
     "text": [
      "[INFO] [2023-02-08 00:16:12,848] [OpenBox-SPO] Iteration 478, objective value: [0.05017503428536677].\n"
     ]
    },
    {
     "name": "stderr",
     "output_type": "stream",
     "text": [
      "\r",
      " 96%|██████████████████████████████████████████████████████████████████████████▌   | 478/500 [1:11:02<08:20, 22.75s/it]"
     ]
    },
    {
     "name": "stdout",
     "output_type": "stream",
     "text": [
      "[INFO] [2023-02-08 00:16:41,067] [OpenBox-SPO] Iteration 479, objective value: [0.02059464666316084].\n"
     ]
    },
    {
     "name": "stderr",
     "output_type": "stream",
     "text": [
      "\r",
      " 96%|██████████████████████████████████████████████████████████████████████████▋   | 479/500 [1:11:31<08:31, 24.36s/it]"
     ]
    },
    {
     "name": "stdout",
     "output_type": "stream",
     "text": [
      "[INFO] [2023-02-08 00:17:03,559] [OpenBox-SPO] Iteration 480, objective value: [0.001665954892045166].\n"
     ]
    },
    {
     "name": "stderr",
     "output_type": "stream",
     "text": [
      "\r",
      " 96%|██████████████████████████████████████████████████████████████████████████▉   | 480/500 [1:11:53<07:56, 23.81s/it]"
     ]
    },
    {
     "name": "stdout",
     "output_type": "stream",
     "text": [
      "[INFO] [2023-02-08 00:17:26,258] [OpenBox-SPO] Iteration 481, objective value: [0.007863852487189587].\n"
     ]
    },
    {
     "name": "stderr",
     "output_type": "stream",
     "text": [
      "\r",
      " 96%|███████████████████████████████████████████████████████████████████████████   | 481/500 [1:12:16<07:26, 23.48s/it]"
     ]
    },
    {
     "name": "stdout",
     "output_type": "stream",
     "text": [
      "[INFO] [2023-02-08 00:17:46,756] [OpenBox-SPO] Iteration 482, objective value: [0.002260201966337594].\n"
     ]
    },
    {
     "name": "stderr",
     "output_type": "stream",
     "text": [
      "\r",
      " 96%|███████████████████████████████████████████████████████████████████████████▏  | 482/500 [1:12:36<06:46, 22.59s/it]"
     ]
    },
    {
     "name": "stdout",
     "output_type": "stream",
     "text": [
      "[INFO] [2023-02-08 00:18:08,549] [OpenBox-SPO] Iteration 483, objective value: [0.01754885374552488].\n"
     ]
    },
    {
     "name": "stderr",
     "output_type": "stream",
     "text": [
      "\r",
      " 97%|███████████████████████████████████████████████████████████████████████████▎  | 483/500 [1:12:58<06:19, 22.35s/it]"
     ]
    },
    {
     "name": "stdout",
     "output_type": "stream",
     "text": [
      "[INFO] [2023-02-08 00:18:29,682] [OpenBox-SPO] Iteration 484, objective value: [0.006339214852503001].\n"
     ]
    },
    {
     "name": "stderr",
     "output_type": "stream",
     "text": [
      "\r",
      " 97%|███████████████████████████████████████████████████████████████████████████▌  | 484/500 [1:13:19<05:51, 21.99s/it]"
     ]
    },
    {
     "name": "stdout",
     "output_type": "stream",
     "text": [
      "[INFO] [2023-02-08 00:18:52,074] [OpenBox-SPO] Iteration 485, objective value: [0.015270810347715944].\n"
     ]
    },
    {
     "name": "stderr",
     "output_type": "stream",
     "text": [
      "\r",
      " 97%|███████████████████████████████████████████████████████████████████████████▋  | 485/500 [1:13:42<05:31, 22.11s/it]"
     ]
    },
    {
     "name": "stdout",
     "output_type": "stream",
     "text": [
      "[INFO] [2023-02-08 00:19:15,151] [OpenBox-SPO] Iteration 486, objective value: [0.0016748620941185828].\n"
     ]
    },
    {
     "name": "stderr",
     "output_type": "stream",
     "text": [
      "\r",
      " 97%|███████████████████████████████████████████████████████████████████████████▊  | 486/500 [1:14:05<05:13, 22.40s/it]"
     ]
    },
    {
     "name": "stdout",
     "output_type": "stream",
     "text": [
      "[INFO] [2023-02-08 00:19:37,835] [OpenBox-SPO] Iteration 487, objective value: [1.5582656946692166].\n"
     ]
    },
    {
     "name": "stderr",
     "output_type": "stream",
     "text": [
      "\r",
      " 97%|███████████████████████████████████████████████████████████████████████████▉  | 487/500 [1:14:27<04:52, 22.48s/it]"
     ]
    },
    {
     "name": "stdout",
     "output_type": "stream",
     "text": [
      "[INFO] [2023-02-08 00:20:04,269] [OpenBox-SPO] Iteration 488, objective value: [0.05359186781185012].\n"
     ]
    },
    {
     "name": "stderr",
     "output_type": "stream",
     "text": [
      "\r",
      " 98%|████████████████████████████████████████████████████████████████████████████▏ | 488/500 [1:14:54<04:44, 23.67s/it]"
     ]
    },
    {
     "name": "stdout",
     "output_type": "stream",
     "text": [
      "[INFO] [2023-02-08 00:20:26,760] [OpenBox-SPO] Iteration 489, objective value: [0.038898856903667324].\n"
     ]
    },
    {
     "name": "stderr",
     "output_type": "stream",
     "text": [
      "\r",
      " 98%|████████████████████████████████████████████████████████████████████████████▎ | 489/500 [1:15:16<04:16, 23.32s/it]"
     ]
    },
    {
     "name": "stdout",
     "output_type": "stream",
     "text": [
      "[INFO] [2023-02-08 00:20:48,394] [OpenBox-SPO] Iteration 490, objective value: [0.009182822917809244].\n"
     ]
    },
    {
     "name": "stderr",
     "output_type": "stream",
     "text": [
      "\r",
      " 98%|████████████████████████████████████████████████████████████████████████████▍ | 490/500 [1:15:38<03:48, 22.81s/it]"
     ]
    },
    {
     "name": "stdout",
     "output_type": "stream",
     "text": [
      "[INFO] [2023-02-08 00:21:11,014] [OpenBox-SPO] Iteration 491, objective value: [0.0031981580843962977].\n"
     ]
    },
    {
     "name": "stderr",
     "output_type": "stream",
     "text": [
      "\r",
      " 98%|████████████████████████████████████████████████████████████████████████████▌ | 491/500 [1:16:01<03:24, 22.75s/it]"
     ]
    },
    {
     "name": "stdout",
     "output_type": "stream",
     "text": [
      "[INFO] [2023-02-08 00:21:31,705] [OpenBox-SPO] Iteration 492, objective value: [0.002000395380850508].\n"
     ]
    },
    {
     "name": "stderr",
     "output_type": "stream",
     "text": [
      "\r",
      " 98%|████████████████████████████████████████████████████████████████████████████▊ | 492/500 [1:16:21<02:57, 22.14s/it]"
     ]
    },
    {
     "name": "stdout",
     "output_type": "stream",
     "text": [
      "[INFO] [2023-02-08 00:21:57,170] [OpenBox-SPO] Iteration 493, objective value: [0.0024229679057669326].\n"
     ]
    },
    {
     "name": "stderr",
     "output_type": "stream",
     "text": [
      "\r",
      " 99%|████████████████████████████████████████████████████████████████████████████▉ | 493/500 [1:16:47<02:41, 23.13s/it]"
     ]
    },
    {
     "name": "stdout",
     "output_type": "stream",
     "text": [
      "[INFO] [2023-02-08 00:22:23,610] [OpenBox-SPO] Iteration 494, objective value: [0.016837303222908266].\n"
     ]
    },
    {
     "name": "stderr",
     "output_type": "stream",
     "text": [
      "\r",
      " 99%|█████████████████████████████████████████████████████████████████████████████ | 494/500 [1:17:13<02:24, 24.13s/it]"
     ]
    },
    {
     "name": "stdout",
     "output_type": "stream",
     "text": [
      "[INFO] [2023-02-08 00:22:46,211] [OpenBox-SPO] Iteration 495, objective value: [0.008482914074971695].\n"
     ]
    },
    {
     "name": "stderr",
     "output_type": "stream",
     "text": [
      "\r",
      " 99%|█████████████████████████████████████████████████████████████████████████████▏| 495/500 [1:17:36<01:58, 23.67s/it]"
     ]
    },
    {
     "name": "stdout",
     "output_type": "stream",
     "text": [
      "[INFO] [2023-02-08 00:23:14,275] [OpenBox-SPO] Iteration 496, objective value: [1.0135090651262504].\n"
     ]
    },
    {
     "name": "stderr",
     "output_type": "stream",
     "text": [
      "\r",
      " 99%|█████████████████████████████████████████████████████████████████████████████▍| 496/500 [1:18:04<01:39, 24.99s/it]"
     ]
    },
    {
     "name": "stdout",
     "output_type": "stream",
     "text": [
      "[INFO] [2023-02-08 00:23:37,266] [OpenBox-SPO] Iteration 497, objective value: [1.078614623518917].\n"
     ]
    },
    {
     "name": "stderr",
     "output_type": "stream",
     "text": [
      "\r",
      " 99%|█████████████████████████████████████████████████████████████████████████████▌| 497/500 [1:18:27<01:13, 24.39s/it]"
     ]
    },
    {
     "name": "stdout",
     "output_type": "stream",
     "text": [
      "[INFO] [2023-02-08 00:23:59,216] [OpenBox-SPO] Iteration 498, objective value: [0.006258774567310913].\n"
     ]
    },
    {
     "name": "stderr",
     "output_type": "stream",
     "text": [
      "\r",
      "100%|█████████████████████████████████████████████████████████████████████████████▋| 498/500 [1:18:49<00:47, 23.66s/it]"
     ]
    },
    {
     "name": "stdout",
     "output_type": "stream",
     "text": [
      "[INFO] [2023-02-08 00:24:24,265] [OpenBox-SPO] Iteration 499, objective value: [0.04737039611928643].\n"
     ]
    },
    {
     "name": "stderr",
     "output_type": "stream",
     "text": [
      "\r",
      "100%|█████████████████████████████████████████████████████████████████████████████▊| 499/500 [1:19:14<00:24, 24.07s/it]"
     ]
    },
    {
     "name": "stdout",
     "output_type": "stream",
     "text": [
      "[INFO] [2023-02-08 00:24:48,062] [OpenBox-SPO] Iteration 500, objective value: [0.17595787383098346].\n"
     ]
    },
    {
     "name": "stderr",
     "output_type": "stream",
     "text": [
      "100%|██████████████████████████████████████████████████████████████████████████████| 500/500 [1:19:38<00:00,  9.56s/it]\n"
     ]
    },
    {
     "ename": "NameError",
     "evalue": "name 'i' is not defined",
     "output_type": "error",
     "traceback": [
      "\u001b[1;31m---------------------------------------------------------------------------\u001b[0m",
      "\u001b[1;31mNameError\u001b[0m                                 Traceback (most recent call last)",
      "Input \u001b[1;32mIn [2]\u001b[0m, in \u001b[0;36m<cell line: 34>\u001b[1;34m()\u001b[0m\n\u001b[0;32m     27\u001b[0m history, states, actions, rewards \u001b[38;5;241m=\u001b[39m BO\u001b[38;5;241m.\u001b[39mrun(RLBO \u001b[38;5;241m=\u001b[39m cf\u001b[38;5;241m.\u001b[39mRLBO)\n\u001b[0;32m     29\u001b[0m H\u001b[38;5;241m.\u001b[39mappend({\u001b[38;5;124m'\u001b[39m\u001b[38;5;124mhistory\u001b[39m\u001b[38;5;124m'\u001b[39m: history, \n\u001b[0;32m     30\u001b[0m           \u001b[38;5;124m'\u001b[39m\u001b[38;5;124mstates\u001b[39m\u001b[38;5;124m'\u001b[39m: states, \n\u001b[0;32m     31\u001b[0m           \u001b[38;5;124m'\u001b[39m\u001b[38;5;124mactions\u001b[39m\u001b[38;5;124m'\u001b[39m: actions,\n\u001b[0;32m     32\u001b[0m           \u001b[38;5;124m'\u001b[39m\u001b[38;5;124mrewards\u001b[39m\u001b[38;5;124m'\u001b[39m: rewards})\n\u001b[1;32m---> 34\u001b[0m cf\u001b[38;5;241m.\u001b[39mwindow_size \u001b[38;5;241m+\u001b[39m\u001b[38;5;241m=\u001b[39m \u001b[43mi\u001b[49m\n",
      "\u001b[1;31mNameError\u001b[0m: name 'i' is not defined"
     ]
    }
   ],
   "source": [
    "\n",
    "\n",
    "import SensorOptimizers.BOforBenchmarkFunctions as bo\n",
    "import numpy as np\n",
    "import pickle\n",
    "import Config as cf\n",
    "\n",
    "ws = []\n",
    "H = []\n",
    "\n",
    "# for i in range(cf.window_size, 100, 5):\n",
    "# cf.window_size = i\n",
    "\n",
    "print('-'*20)\n",
    "print(cf.window_size)\n",
    "print('-'*20)\n",
    "print('----- Running BO with: \\n \\t - epsilon: ', cf.epsilon, \n",
    "      '\\n \\t - True optimum: \\n', cf.function.get_global_minimum(cf.D), \n",
    "      ' \\n \\t - initial state: ', cf.initial_state,\n",
    "      ' \\n \\t - window size: ', cf.window_size)\n",
    "\n",
    "BO = bo.BayesianOptimization(testbed = cf.testbed,\n",
    "                             iteration = cf.bo_iteration, \n",
    "                             initial_state = cf.initial_state,\n",
    "                             acquisition_function = cf.acquisition_function,\n",
    "                             surrogate_model = cf.surrogate_model,\n",
    "                             acq_optimizer_type = cf.acq_optimizer_type)\n",
    "\n",
    "history, states, actions, rewards = BO.run(RLBO = cf.RLBO)\n",
    "\n",
    "H.append({'history': history, \n",
    "          'states': states, \n",
    "          'actions': actions,\n",
    "          'rewards': rewards})\n",
    "\n",
    "cf.window_size += i"
   ]
  },
  {
   "cell_type": "code",
   "execution_count": 3,
   "metadata": {
    "scrolled": true
   },
   "outputs": [
    {
     "name": "stdout",
     "output_type": "stream",
     "text": [
      "+-------------------------------------------------+\n",
      "| Parameters              | Optimal Value         |\n",
      "+-------------------------+-----------------------+\n",
      "| x0                      | -0.010707             |\n",
      "| x1                      | 0.010847              |\n",
      "| x2                      | 0.039139              |\n",
      "| x3                      | -0.159944             |\n",
      "| x4                      | 0.210721              |\n",
      "| x5                      | -0.168502             |\n",
      "| x6                      | -0.333836             |\n",
      "| x7                      | -0.087715             |\n",
      "| x8                      | -0.194881             |\n",
      "| x9                      | -0.517074             |\n",
      "+-------------------------+-----------------------+\n",
      "| Optimal Objective Value | 0.0011751202467703528 |\n",
      "+-------------------------+-----------------------+\n",
      "| Num Configs             | 500                   |\n",
      "+-------------------------+-----------------------+\n",
      "\n"
     ]
    },
    {
     "data": {
      "image/png": "[encoded data removed]",
      "text/plain": [
       "<Figure size 432x288 with 1 Axes>"
      ]
     },
     "metadata": {
      "needs_background": "light"
     },
     "output_type": "display_data"
    }
   ],
   "source": [
    "import matplotlib.pyplot as plt\n",
    "\n",
    "mins = []\n",
    "\n",
    "for h in H:\n",
    "    h['history'].plot_convergence()\n",
    "    print(h['history'])\n",
    "    mins.append(min(h['history'].get_perfs()))\n",
    "    plt.show()"
   ]
  },
  {
   "cell_type": "code",
   "execution_count": 6,
   "metadata": {},
   "outputs": [
    {
     "data": {
      "text/plain": [
       "[0.0011751202467703528]"
      ]
     },
     "execution_count": 6,
     "metadata": {},
     "output_type": "execute_result"
    }
   ],
   "source": [
    "mins"
   ]
  },
  {
   "cell_type": "code",
   "execution_count": null,
   "metadata": {},
   "outputs": [],
   "source": []
  },
  {
   "cell_type": "code",
   "execution_count": null,
   "metadata": {},
   "outputs": [],
   "source": []
  },
  {
   "cell_type": "code",
   "execution_count": 7,
   "metadata": {
    "scrolled": false
   },
   "outputs": [
    {
     "data": {
      "image/png": "[encoded data removed]",
      "text/plain": [
       "<Figure size 432x288 with 1 Axes>"
      ]
     },
     "metadata": {
      "needs_background": "light"
     },
     "output_type": "display_data"
    }
   ],
   "source": [
    "import matplotlib.pyplot as plt\n",
    "for h in H:\n",
    "    plt.plot(h['rewards'])\n",
    "    plt.show()"
   ]
  },
  {
   "cell_type": "code",
   "execution_count": 8,
   "metadata": {
    "scrolled": true
   },
   "outputs": [
    {
     "data": {
      "image/png": "[encoded data removed]",
      "text/plain": [
       "<Figure size 432x288 with 1 Axes>"
      ]
     },
     "metadata": {
      "needs_background": "light"
     },
     "output_type": "display_data"
    }
   ],
   "source": [
    "import matplotlib.pyplot as plt\n",
    "for h in H:\n",
    "    plt.plot([s[1] for s in h['states'][0:len(states)]])\n",
    "    \n",
    "    \n",
    "    plt.show()\n",
    "    "
   ]
  },
  {
   "cell_type": "code",
   "execution_count": 9,
   "metadata": {},
   "outputs": [
    {
     "data": {
      "text/plain": [
       "[(4, 100),\n",
       " (3, 33),\n",
       " (2, 33),\n",
       " (2, 65),\n",
       " (3, 69),\n",
       " (2, 99),\n",
       " (3, 97),\n",
       " (4, 97),\n",
       " (4, 82),\n",
       " (4, 61),\n",
       " (5, 56),\n",
       " (5, 61),\n",
       " (5, 56),\n",
       " (5, 56),\n",
       " (5, 69),\n",
       " (5, 69),\n",
       " (4, 74),\n",
       " (4, 51),\n",
       " (5, 20),\n",
       " (5, 17),\n",
       " (5, 20),\n",
       " (5, 20),\n",
       " (5, 9),\n",
       " (5, 5),\n",
       " (4, 34),\n",
       " (4, 89),\n",
       " (3, 44),\n",
       " (3, 88),\n",
       " (4, 36),\n",
       " (3, 41),\n",
       " (3, 30),\n",
       " (2, 84),\n",
       " (1, 70),\n",
       " (2, 70),\n",
       " (2, 4),\n",
       " (1, 70),\n",
       " (2, 2),\n",
       " (1, 2),\n",
       " (0, 55),\n",
       " (0, 39),\n",
       " (1, 1),\n",
       " (1, 1),\n",
       " (2, 1),\n",
       " (3, 1),\n",
       " (3, 1),\n",
       " (4, 0),\n",
       " (4, 1),\n",
       " (5, 0),\n",
       " (5, 0),\n",
       " (4, 3),\n",
       " (3, 13),\n",
       " (4, 3),\n",
       " (4, 3),\n",
       " (5, 2),\n",
       " (5, 1),\n",
       " (4, 1),\n",
       " (5, 0),\n",
       " (5, 0),\n",
       " (5, 0),\n",
       " (5, 1),\n",
       " (5, 1),\n",
       " (5, 54),\n",
       " (5, 55),\n",
       " (4, 69),\n",
       " (5, 4),\n",
       " (5, 4),\n",
       " (5, 0),\n",
       " (4, 0),\n",
       " (4, 0),\n",
       " (4, 1),\n",
       " (3, 2),\n",
       " (4, 2),\n",
       " (5, 1),\n",
       " (5, 1),\n",
       " (4, 1),\n",
       " (4, 1),\n",
       " (4, 1),\n",
       " (5, 1),\n",
       " (4, 2),\n",
       " (4, 1),\n",
       " (3, 1),\n",
       " (4, 1),\n",
       " (3, 1),\n",
       " (3, 1),\n",
       " (4, 0),\n",
       " (3, 0),\n",
       " (4, 0),\n",
       " (5, 0),\n",
       " (5, 0),\n",
       " (5, 2),\n",
       " (5, 0),\n",
       " (5, 0),\n",
       " (5, 0),\n",
       " (5, 0),\n",
       " (4, 0),\n",
       " (5, 0),\n",
       " (4, 0),\n",
       " (5, 0),\n",
       " (5, 0),\n",
       " (5, 0),\n",
       " (5, 0),\n",
       " (5, 0),\n",
       " (5, 0),\n",
       " (5, 1),\n",
       " (5, 1),\n",
       " (5, 0),\n",
       " (4, 0),\n",
       " (3, 1),\n",
       " (2, 2),\n",
       " (3, 2),\n",
       " (3, 2),\n",
       " (3, 2),\n",
       " (3, 1),\n",
       " (3, 1),\n",
       " (2, 2),\n",
       " (1, 2),\n",
       " (0, 8),\n",
       " (1, 8),\n",
       " (0, 8),\n",
       " (-1, 7),\n",
       " (-2, 7),\n",
       " (-2, 4),\n",
       " (-3, 4),\n",
       " (-4, 2),\n",
       " (-4, 2),\n",
       " (-5, 2),\n",
       " (-4, 2),\n",
       " (-3, 0),\n",
       " (-3, 1),\n",
       " (-4, 1),\n",
       " (-4, 1),\n",
       " (-3, 1),\n",
       " (-4, 3),\n",
       " (-5, 3),\n",
       " (-5, 5),\n",
       " (-5, 5),\n",
       " (-5, 11),\n",
       " (-4, 5),\n",
       " (-3, 5),\n",
       " (-3, 0),\n",
       " (-3, 0),\n",
       " (-3, 0),\n",
       " (-4, 0),\n",
       " (-3, 0),\n",
       " (-3, 1),\n",
       " (-4, 1),\n",
       " (-5, 4),\n",
       " (-5, 1),\n",
       " (-5, 1),\n",
       " (-5, 2),\n",
       " (-4, 0),\n",
       " (-3, 0),\n",
       " (-3, 0),\n",
       " (-2, 0),\n",
       " (-2, 0),\n",
       " (-1, 0),\n",
       " (-1, 0),\n",
       " (-1, 1),\n",
       " (0, 1),\n",
       " (-1, 1),\n",
       " (0, 1),\n",
       " (-1, 1),\n",
       " (-1, 1),\n",
       " (-1, 1),\n",
       " (-2, 1),\n",
       " (-3, 2),\n",
       " (-2, 1),\n",
       " (-3, 1),\n",
       " (-4, 2),\n",
       " (-5, 2),\n",
       " (-5, 2),\n",
       " (-5, 4),\n",
       " (-4, 4),\n",
       " (-4, 4),\n",
       " (-3, 2),\n",
       " (-3, 4),\n",
       " (-2, 0),\n",
       " (-2, 2),\n",
       " (-2, 0),\n",
       " (-2, 2),\n",
       " (-2, 2),\n",
       " (-1, 2),\n",
       " (0, 0),\n",
       " (-1, 3),\n",
       " (-2, 3),\n",
       " (-3, 4),\n",
       " (-2, 4),\n",
       " (-1, 4),\n",
       " (-2, 4),\n",
       " (-1, 0),\n",
       " (0, 0),\n",
       " (0, 0),\n",
       " (0, 1),\n",
       " (-1, 1),\n",
       " (0, 1),\n",
       " (1, 1),\n",
       " (2, 0),\n",
       " (3, 0),\n",
       " (2, 0),\n",
       " (3, 0),\n",
       " (2, 0),\n",
       " (1, 0),\n",
       " (1, 0),\n",
       " (1, 0),\n",
       " (0, 0),\n",
       " (0, 0),\n",
       " (-1, 4),\n",
       " (-2, 5),\n",
       " (-3, 6),\n",
       " (-2, 5),\n",
       " (-1, 5),\n",
       " (-2, 2),\n",
       " (-2, 1),\n",
       " (-3, 0),\n",
       " (-3, 1),\n",
       " (-2, 1),\n",
       " (-3, 1),\n",
       " (-2, 0),\n",
       " (-3, 4),\n",
       " (-4, 4),\n",
       " (-3, 4),\n",
       " (-4, 4),\n",
       " (-4, 4),\n",
       " (-4, 1),\n",
       " (-5, 1),\n",
       " (-4, 1),\n",
       " (-5, 1),\n",
       " (-5, 1),\n",
       " (-4, 1),\n",
       " (-5, 1),\n",
       " (-5, 1),\n",
       " (-5, 1),\n",
       " (-4, 0),\n",
       " (-5, 1),\n",
       " (-4, 0),\n",
       " (-5, 1),\n",
       " (-5, 0),\n",
       " (-4, 0),\n",
       " (-5, 0),\n",
       " (-5, 0),\n",
       " (-5, 0),\n",
       " (-5, 1),\n",
       " (-5, 1),\n",
       " (-5, 1),\n",
       " (-5, 1),\n",
       " (-5, 1),\n",
       " (-4, 0),\n",
       " (-5, 1),\n",
       " (-5, 6),\n",
       " (-5, 6),\n",
       " (-5, 0),\n",
       " (-4, 0),\n",
       " (-5, 0),\n",
       " (-5, 0),\n",
       " (-5, 1),\n",
       " (-5, 1),\n",
       " (-5, 16),\n",
       " (-4, 1),\n",
       " (-5, 21),\n",
       " (-5, 21),\n",
       " (-5, 23),\n",
       " (-4, 0),\n",
       " (-5, 21),\n",
       " (-5, 12),\n",
       " (-5, 12),\n",
       " (-5, 1),\n",
       " (-5, 1),\n",
       " (-5, 1),\n",
       " (-5, 1),\n",
       " (-5, 1),\n",
       " (-5, 12),\n",
       " (-4, 12),\n",
       " (-5, 12),\n",
       " (-5, 12),\n",
       " (-5, 2),\n",
       " (-5, 2),\n",
       " (-5, 5),\n",
       " (-5, 5),\n",
       " (-5, 5),\n",
       " (-5, 5),\n",
       " (-5, 5),\n",
       " (-5, 3),\n",
       " (-5, 2),\n",
       " (-5, 2),\n",
       " (-5, 2),\n",
       " (-5, 10),\n",
       " (-4, 10),\n",
       " (-3, 10),\n",
       " (-3, 2),\n",
       " (-3, 0),\n",
       " (-3, 0),\n",
       " (-4, 0),\n",
       " (-4, 1),\n",
       " (-3, 0),\n",
       " (-4, 1),\n",
       " (-5, 1),\n",
       " (-5, 0),\n",
       " (-5, 0),\n",
       " (-5, 0),\n",
       " (-4, 0),\n",
       " (-5, 0),\n",
       " (-5, 4),\n",
       " (-5, 4),\n",
       " (-5, 4),\n",
       " (-5, 4),\n",
       " (-5, 2),\n",
       " (-5, 2),\n",
       " (-4, 2),\n",
       " (-5, 2),\n",
       " (-5, 3),\n",
       " (-5, 6),\n",
       " (-4, 6),\n",
       " (-3, 6),\n",
       " (-4, 10),\n",
       " (-4, 0),\n",
       " (-5, 0),\n",
       " (-5, 12),\n",
       " (-5, 12),\n",
       " (-5, 1),\n",
       " (-5, 1),\n",
       " (-5, 1),\n",
       " (-5, 1),\n",
       " (-5, 1),\n",
       " (-5, 1),\n",
       " (-5, 1),\n",
       " (-5, 1),\n",
       " (-5, 9),\n",
       " (-5, 10),\n",
       " (-4, 10),\n",
       " (-5, 12),\n",
       " (-5, 14),\n",
       " (-5, 14),\n",
       " (-5, 17),\n",
       " (-5, 20),\n",
       " (-5, 26),\n",
       " (-5, 25),\n",
       " (-5, 19),\n",
       " (-5, 10),\n",
       " (-5, 8),\n",
       " (-5, 8),\n",
       " (-5, 8),\n",
       " (-5, 17),\n",
       " (-5, 29),\n",
       " (-5, 29),\n",
       " (-5, 29),\n",
       " (-5, 29),\n",
       " (-5, 2),\n",
       " (-5, 2),\n",
       " (-5, 6),\n",
       " (-5, 6),\n",
       " (-5, 30),\n",
       " (-4, 30),\n",
       " (-5, 40),\n",
       " (-5, 40),\n",
       " (-5, 1),\n",
       " (-5, 1),\n",
       " (-5, 40),\n",
       " (-5, 1),\n",
       " (-5, 1),\n",
       " (-5, 1),\n",
       " (-5, 0),\n",
       " (-5, 0),\n",
       " (-5, 1),\n",
       " (-5, 1),\n",
       " (-5, 1),\n",
       " (-5, 1),\n",
       " (-5, 0),\n",
       " (-5, 0),\n",
       " (-5, 1),\n",
       " (-5, 1),\n",
       " (-5, 1),\n",
       " (-5, 1),\n",
       " (-5, 1),\n",
       " (-5, 2),\n",
       " (-5, 3),\n",
       " (-5, 6),\n",
       " (-5, 8),\n",
       " (-5, 9),\n",
       " (-5, 9),\n",
       " (-5, 20),\n",
       " (-4, 20),\n",
       " (-5, 9),\n",
       " (-5, 0),\n",
       " (-5, 0),\n",
       " (-5, 0),\n",
       " (-4, 0),\n",
       " (-5, 0),\n",
       " (-5, 2),\n",
       " (-5, 2),\n",
       " (-5, 4),\n",
       " (-5, 4),\n",
       " (-5, 2),\n",
       " (-5, 1),\n",
       " (-5, 1),\n",
       " (-5, 0),\n",
       " (-5, 1),\n",
       " (-5, 1),\n",
       " (-5, 1),\n",
       " (-5, 1),\n",
       " (-5, 1),\n",
       " (-5, 2),\n",
       " (-5, 3),\n",
       " (-4, 3),\n",
       " (-3, 0),\n",
       " (-4, 5),\n",
       " (-3, 0),\n",
       " (-2, 0),\n",
       " (-2, 0),\n",
       " (-3, 6),\n",
       " (-4, 6),\n",
       " (-4, 6),\n",
       " (-4, 6),\n",
       " (-4, 2),\n",
       " (-5, 2),\n",
       " (-5, 2),\n",
       " (-5, 6),\n",
       " (-5, 6),\n",
       " (-5, 7),\n",
       " (-5, 6),\n",
       " (-5, 6),\n",
       " (-5, 8),\n",
       " (-5, 12),\n",
       " (-5, 8),\n",
       " (-5, 11),\n",
       " (-5, 11),\n",
       " (-5, 11),\n",
       " (-5, 11),\n",
       " (-5, 11),\n",
       " (-5, 11),\n",
       " (-5, 16),\n",
       " (-4, 3),\n",
       " (-5, 1),\n",
       " (-5, 0),\n",
       " (-5, 0),\n",
       " (-5, 0),\n",
       " (-5, 0),\n",
       " (-5, 1),\n",
       " (-5, 1),\n",
       " (-5, 1),\n",
       " (-5, 1),\n",
       " (-5, 1),\n",
       " (-5, 0),\n",
       " (-5, 0),\n",
       " (-5, 0),\n",
       " (-5, 0),\n",
       " (-5, 0),\n",
       " (-5, 2),\n",
       " (-5, 4),\n",
       " (-4, 2),\n",
       " (-5, 2),\n",
       " (-5, 6),\n",
       " (-5, 23),\n",
       " (-4, 6),\n",
       " (-4, 7),\n",
       " (-3, 7),\n",
       " (-2, 0),\n",
       " (-2, 0),\n",
       " (-3, 2),\n",
       " (-2, 0),\n",
       " (-2, 2),\n",
       " (-2, 3),\n",
       " (-2, 3),\n",
       " (-3, 3),\n",
       " (-3, 3),\n",
       " (-3, 3),\n",
       " (-3, 5),\n",
       " (-4, 5),\n",
       " (-5, 1),\n",
       " (-5, 2),\n",
       " (-5, 2),\n",
       " (-5, 0),\n",
       " (-5, 2),\n",
       " (-5, 3),\n",
       " (-5, 5),\n",
       " (-5, 9),\n",
       " (-5, 10),\n",
       " (-4, 10),\n",
       " (-5, 9),\n",
       " (-5, 5),\n",
       " (-5, 5),\n",
       " (-5, 5),\n",
       " (-5, 14),\n",
       " (-5, 14),\n",
       " (-5, 18),\n",
       " (-5, 14),\n",
       " (-5, 18),\n",
       " (-4, 7),\n",
       " (-4, 7),\n",
       " (-4, 3),\n",
       " (-5, 3),\n",
       " (-5, 3),\n",
       " (-5, 12),\n",
       " (-5, 36),\n",
       " (-5, 36),\n",
       " (-5, 36),\n",
       " (-4, 13),\n",
       " (-3, 6),\n",
       " (-4, 6),\n",
       " (-4, 2),\n",
       " (-4, 0)]"
      ]
     },
     "execution_count": 9,
     "metadata": {},
     "output_type": "execute_result"
    }
   ],
   "source": [
    "states"
   ]
  },
  {
   "cell_type": "code",
   "execution_count": 10,
   "metadata": {
    "scrolled": true
   },
   "outputs": [
    {
     "data": {
      "image/png": "[encoded data removed]",
      "text/plain": [
       "<Figure size 432x288 with 1 Axes>"
      ]
     },
     "metadata": {
      "needs_background": "light"
     },
     "output_type": "display_data"
    }
   ],
   "source": [
    "import matplotlib.pyplot as plt\n",
    "for h in H:\n",
    "    plt.plot([s[0] for s in h['states'][0:len(states)]])\n",
    "    plt.show()"
   ]
  },
  {
   "cell_type": "code",
   "execution_count": null,
   "metadata": {},
   "outputs": [],
   "source": []
  },
  {
   "cell_type": "code",
   "execution_count": 11,
   "metadata": {},
   "outputs": [
    {
     "data": {
      "text/plain": [
       "[<matplotlib.lines.Line2D at 0x25988c64580>]"
      ]
     },
     "execution_count": 11,
     "metadata": {},
     "output_type": "execute_result"
    },
    {
     "data": {
      "image/png": "[encoded data removed]",
      "text/plain": [
       "<Figure size 432x288 with 1 Axes>"
      ]
     },
     "metadata": {
      "needs_background": "light"
     },
     "output_type": "display_data"
    }
   ],
   "source": [
    "import matplotlib.pylab as plt\n",
    "\n",
    "plt.plot(rewards)"
   ]
  },
  {
   "cell_type": "code",
   "execution_count": 23,
   "metadata": {},
   "outputs": [
    {
     "data": {
      "text/plain": [
       "<AxesSubplot:title={'center':'Convergence plot'}, xlabel='Number of iterations $n$', ylabel='Min objective value after $n$ iterations'>"
      ]
     },
     "execution_count": 23,
     "metadata": {},
     "output_type": "execute_result"
    },
    {
     "data": {
      "image/png": "[encoded data removed]",
      "text/plain": [
       "<Figure size 432x288 with 1 Axes>"
      ]
     },
     "metadata": {
      "needs_background": "light"
     },
     "output_type": "display_data"
    }
   ],
   "source": [
    "history.plot_convergence()"
   ]
  },
  {
   "cell_type": "code",
   "execution_count": 24,
   "metadata": {},
   "outputs": [
    {
     "ename": "TypeError",
     "evalue": "object of type 'NoneType' has no len()",
     "output_type": "error",
     "traceback": [
      "\u001b[1;31m---------------------------------------------------------------------------\u001b[0m",
      "\u001b[1;31mTypeError\u001b[0m                                 Traceback (most recent call last)",
      "Input \u001b[1;32mIn [24]\u001b[0m, in \u001b[0;36m<cell line: 1>\u001b[1;34m()\u001b[0m\n\u001b[1;32m----> 1\u001b[0m plt\u001b[38;5;241m.\u001b[39mplot([s[\u001b[38;5;241m1\u001b[39m] \u001b[38;5;28;01mfor\u001b[39;00m s \u001b[38;5;129;01min\u001b[39;00m states[\u001b[38;5;241m5\u001b[39m:\u001b[38;5;28;43mlen\u001b[39;49m\u001b[43m(\u001b[49m\u001b[43mstates\u001b[49m\u001b[43m)\u001b[49m]])\n",
      "\u001b[1;31mTypeError\u001b[0m: object of type 'NoneType' has no len()"
     ]
    }
   ],
   "source": [
    "plt.plot([s[1] for s in states[5:len(states)]])"
   ]
  },
  {
   "cell_type": "code",
   "execution_count": 25,
   "metadata": {},
   "outputs": [
    {
     "ename": "TypeError",
     "evalue": "'NoneType' object is not iterable",
     "output_type": "error",
     "traceback": [
      "\u001b[1;31m---------------------------------------------------------------------------\u001b[0m",
      "\u001b[1;31mTypeError\u001b[0m                                 Traceback (most recent call last)",
      "Input \u001b[1;32mIn [25]\u001b[0m, in \u001b[0;36m<cell line: 1>\u001b[1;34m()\u001b[0m\n\u001b[1;32m----> 1\u001b[0m plt\u001b[38;5;241m.\u001b[39mplot([s[\u001b[38;5;241m0\u001b[39m] \u001b[38;5;28;01mfor\u001b[39;00m s \u001b[38;5;129;01min\u001b[39;00m states])\n",
      "\u001b[1;31mTypeError\u001b[0m: 'NoneType' object is not iterable"
     ]
    }
   ],
   "source": [
    "plt.plot([s[0] for s in states])"
   ]
  },
  {
   "cell_type": "code",
   "execution_count": 26,
   "metadata": {},
   "outputs": [
    {
     "ename": "ValueError",
     "evalue": "x, y, and format string must not be None",
     "output_type": "error",
     "traceback": [
      "\u001b[1;31m---------------------------------------------------------------------------\u001b[0m",
      "\u001b[1;31mValueError\u001b[0m                                Traceback (most recent call last)",
      "Input \u001b[1;32mIn [26]\u001b[0m, in \u001b[0;36m<cell line: 1>\u001b[1;34m()\u001b[0m\n\u001b[1;32m----> 1\u001b[0m \u001b[43mplt\u001b[49m\u001b[38;5;241;43m.\u001b[39;49m\u001b[43mplot\u001b[49m\u001b[43m(\u001b[49m\u001b[43mactions\u001b[49m\u001b[43m)\u001b[49m\n",
      "File \u001b[1;32m~\\anaconda3\\lib\\site-packages\\matplotlib\\pyplot.py:2757\u001b[0m, in \u001b[0;36mplot\u001b[1;34m(scalex, scaley, data, *args, **kwargs)\u001b[0m\n\u001b[0;32m   2755\u001b[0m \u001b[38;5;129m@_copy_docstring_and_deprecators\u001b[39m(Axes\u001b[38;5;241m.\u001b[39mplot)\n\u001b[0;32m   2756\u001b[0m \u001b[38;5;28;01mdef\u001b[39;00m \u001b[38;5;21mplot\u001b[39m(\u001b[38;5;241m*\u001b[39margs, scalex\u001b[38;5;241m=\u001b[39m\u001b[38;5;28;01mTrue\u001b[39;00m, scaley\u001b[38;5;241m=\u001b[39m\u001b[38;5;28;01mTrue\u001b[39;00m, data\u001b[38;5;241m=\u001b[39m\u001b[38;5;28;01mNone\u001b[39;00m, \u001b[38;5;241m*\u001b[39m\u001b[38;5;241m*\u001b[39mkwargs):\n\u001b[1;32m-> 2757\u001b[0m     \u001b[38;5;28;01mreturn\u001b[39;00m gca()\u001b[38;5;241m.\u001b[39mplot(\n\u001b[0;32m   2758\u001b[0m         \u001b[38;5;241m*\u001b[39margs, scalex\u001b[38;5;241m=\u001b[39mscalex, scaley\u001b[38;5;241m=\u001b[39mscaley,\n\u001b[0;32m   2759\u001b[0m         \u001b[38;5;241m*\u001b[39m\u001b[38;5;241m*\u001b[39m({\u001b[38;5;124m\"\u001b[39m\u001b[38;5;124mdata\u001b[39m\u001b[38;5;124m\"\u001b[39m: data} \u001b[38;5;28;01mif\u001b[39;00m data \u001b[38;5;129;01mis\u001b[39;00m \u001b[38;5;129;01mnot\u001b[39;00m \u001b[38;5;28;01mNone\u001b[39;00m \u001b[38;5;28;01melse\u001b[39;00m {}), \u001b[38;5;241m*\u001b[39m\u001b[38;5;241m*\u001b[39mkwargs)\n",
      "File \u001b[1;32m~\\anaconda3\\lib\\site-packages\\matplotlib\\axes\\_axes.py:1632\u001b[0m, in \u001b[0;36mAxes.plot\u001b[1;34m(self, scalex, scaley, data, *args, **kwargs)\u001b[0m\n\u001b[0;32m   1390\u001b[0m \u001b[38;5;124;03m\"\"\"\u001b[39;00m\n\u001b[0;32m   1391\u001b[0m \u001b[38;5;124;03mPlot y versus x as lines and/or markers.\u001b[39;00m\n\u001b[0;32m   1392\u001b[0m \n\u001b[1;32m   (...)\u001b[0m\n\u001b[0;32m   1629\u001b[0m \u001b[38;5;124;03m(``'green'``) or hex strings (``'#008000'``).\u001b[39;00m\n\u001b[0;32m   1630\u001b[0m \u001b[38;5;124;03m\"\"\"\u001b[39;00m\n\u001b[0;32m   1631\u001b[0m kwargs \u001b[38;5;241m=\u001b[39m cbook\u001b[38;5;241m.\u001b[39mnormalize_kwargs(kwargs, mlines\u001b[38;5;241m.\u001b[39mLine2D)\n\u001b[1;32m-> 1632\u001b[0m lines \u001b[38;5;241m=\u001b[39m [\u001b[38;5;241m*\u001b[39m\u001b[38;5;28mself\u001b[39m\u001b[38;5;241m.\u001b[39m_get_lines(\u001b[38;5;241m*\u001b[39margs, data\u001b[38;5;241m=\u001b[39mdata, \u001b[38;5;241m*\u001b[39m\u001b[38;5;241m*\u001b[39mkwargs)]\n\u001b[0;32m   1633\u001b[0m \u001b[38;5;28;01mfor\u001b[39;00m line \u001b[38;5;129;01min\u001b[39;00m lines:\n\u001b[0;32m   1634\u001b[0m     \u001b[38;5;28mself\u001b[39m\u001b[38;5;241m.\u001b[39madd_line(line)\n",
      "File \u001b[1;32m~\\anaconda3\\lib\\site-packages\\matplotlib\\axes\\_base.py:312\u001b[0m, in \u001b[0;36m_process_plot_var_args.__call__\u001b[1;34m(self, data, *args, **kwargs)\u001b[0m\n\u001b[0;32m    310\u001b[0m     this \u001b[38;5;241m+\u001b[39m\u001b[38;5;241m=\u001b[39m args[\u001b[38;5;241m0\u001b[39m],\n\u001b[0;32m    311\u001b[0m     args \u001b[38;5;241m=\u001b[39m args[\u001b[38;5;241m1\u001b[39m:]\n\u001b[1;32m--> 312\u001b[0m \u001b[38;5;28;01myield from\u001b[39;00m \u001b[38;5;28;43mself\u001b[39;49m\u001b[38;5;241;43m.\u001b[39;49m\u001b[43m_plot_args\u001b[49m\u001b[43m(\u001b[49m\u001b[43mthis\u001b[49m\u001b[43m,\u001b[49m\u001b[43m \u001b[49m\u001b[43mkwargs\u001b[49m\u001b[43m)\u001b[49m\n",
      "File \u001b[1;32m~\\anaconda3\\lib\\site-packages\\matplotlib\\axes\\_base.py:459\u001b[0m, in \u001b[0;36m_process_plot_var_args._plot_args\u001b[1;34m(self, tup, kwargs, return_kwargs)\u001b[0m\n\u001b[0;32m    456\u001b[0m \u001b[38;5;66;03m# Don't allow any None value; these would be up-converted to one\u001b[39;00m\n\u001b[0;32m    457\u001b[0m \u001b[38;5;66;03m# element array of None which causes problems downstream.\u001b[39;00m\n\u001b[0;32m    458\u001b[0m \u001b[38;5;28;01mif\u001b[39;00m \u001b[38;5;28many\u001b[39m(v \u001b[38;5;129;01mis\u001b[39;00m \u001b[38;5;28;01mNone\u001b[39;00m \u001b[38;5;28;01mfor\u001b[39;00m v \u001b[38;5;129;01min\u001b[39;00m tup):\n\u001b[1;32m--> 459\u001b[0m     \u001b[38;5;28;01mraise\u001b[39;00m \u001b[38;5;167;01mValueError\u001b[39;00m(\u001b[38;5;124m\"\u001b[39m\u001b[38;5;124mx, y, and format string must not be None\u001b[39m\u001b[38;5;124m\"\u001b[39m)\n\u001b[0;32m    461\u001b[0m kw \u001b[38;5;241m=\u001b[39m {}\n\u001b[0;32m    462\u001b[0m \u001b[38;5;28;01mfor\u001b[39;00m prop_name, val \u001b[38;5;129;01min\u001b[39;00m \u001b[38;5;28mzip\u001b[39m((\u001b[38;5;124m'\u001b[39m\u001b[38;5;124mlinestyle\u001b[39m\u001b[38;5;124m'\u001b[39m, \u001b[38;5;124m'\u001b[39m\u001b[38;5;124mmarker\u001b[39m\u001b[38;5;124m'\u001b[39m, \u001b[38;5;124m'\u001b[39m\u001b[38;5;124mcolor\u001b[39m\u001b[38;5;124m'\u001b[39m),\n\u001b[0;32m    463\u001b[0m                           (linestyle, marker, color)):\n",
      "\u001b[1;31mValueError\u001b[0m: x, y, and format string must not be None"
     ]
    },
    {
     "data": {
      "image/png": "[encoded data removed]",
      "text/plain": [
       "<Figure size 432x288 with 1 Axes>"
      ]
     },
     "metadata": {
      "needs_background": "light"
     },
     "output_type": "display_data"
    }
   ],
   "source": [
    "plt.plot(actions)"
   ]
  },
  {
   "cell_type": "code",
   "execution_count": null,
   "metadata": {
    "scrolled": false
   },
   "outputs": [
    {
     "name": "stdout",
     "output_type": "stream",
     "text": [
      "----- Running BO with: \n",
      " \t - epsilon:  1 \n",
      " \t - True optimum: \n",
      " (array([0, 0, 0, 0, 0, 0, 0, 0, 0, 0]), 0)  \n",
      " \t - initial state:  random\n",
      "adviser type is default...\n",
      "[INFO] [2023-02-08 11:05:15,961] [Advisor] === [BO auto selection] === acq_optimizer_type: random_scipy.\n"
     ]
    },
    {
     "name": "stderr",
     "output_type": "stream",
     "text": [
      "\r",
      "  0%|                                                                                          | 0/500 [00:00<?, ?it/s]"
     ]
    },
    {
     "name": "stdout",
     "output_type": "stream",
     "text": [
      "[INFO] [2023-02-08 11:05:15,975] [OpenBox-SPO] Iteration 1, objective value: [1.5444321043393707].\n",
      "[INFO] [2023-02-08 11:05:15,975] [OpenBox-SPO] Iteration 2, objective value: [4.467005453228779].\n",
      "[INFO] [2023-02-08 11:05:15,976] [OpenBox-SPO] Iteration 3, objective value: [1.9560255417693089].\n",
      "[INFO] [2023-02-08 11:05:18,482] [OpenBox-SPO] Iteration 4, objective value: [0.6019064683102388].\n"
     ]
    },
    {
     "name": "stderr",
     "output_type": "stream",
     "text": [
      "\r",
      "  1%|▋                                                                                 | 4/500 [00:02<05:12,  1.59it/s]"
     ]
    },
    {
     "name": "stdout",
     "output_type": "stream",
     "text": [
      "[INFO] [2023-02-08 11:05:20,946] [OpenBox-SPO] Iteration 5, objective value: [0.7821319042235987].\n"
     ]
    },
    {
     "name": "stderr",
     "output_type": "stream",
     "text": [
      "\r",
      "  1%|▊                                                                                 | 5/500 [00:04<09:10,  1.11s/it]"
     ]
    },
    {
     "name": "stdout",
     "output_type": "stream",
     "text": [
      "[INFO] [2023-02-08 11:05:25,288] [OpenBox-SPO] Iteration 6, objective value: [0.5391295968732636].\n"
     ]
    },
    {
     "name": "stderr",
     "output_type": "stream",
     "text": [
      "\r",
      "  1%|▉                                                                                 | 6/500 [00:09<16:25,  2.00s/it]"
     ]
    },
    {
     "name": "stdout",
     "output_type": "stream",
     "text": [
      "[INFO] [2023-02-08 11:05:27,594] [OpenBox-SPO] Iteration 7, objective value: [0.3958934593945165].\n"
     ]
    },
    {
     "name": "stderr",
     "output_type": "stream",
     "text": [
      "\r",
      "  1%|█▏                                                                                | 7/500 [00:11<17:06,  2.08s/it]"
     ]
    },
    {
     "name": "stdout",
     "output_type": "stream",
     "text": [
      "[INFO] [2023-02-08 11:05:29,565] [OpenBox-SPO] Iteration 8, objective value: [0.6908141802049116].\n"
     ]
    },
    {
     "name": "stderr",
     "output_type": "stream",
     "text": [
      "\r",
      "  2%|█▎                                                                                | 8/500 [00:13<16:48,  2.05s/it]"
     ]
    },
    {
     "name": "stdout",
     "output_type": "stream",
     "text": [
      "[INFO] [2023-02-08 11:05:33,174] [OpenBox-SPO] Iteration 9, objective value: [4.80363411827437].\n"
     ]
    },
    {
     "name": "stderr",
     "output_type": "stream",
     "text": [
      "\r",
      "  2%|█▍                                                                                | 9/500 [00:17<20:28,  2.50s/it]"
     ]
    },
    {
     "name": "stdout",
     "output_type": "stream",
     "text": [
      "[INFO] [2023-02-08 11:05:36,660] [OpenBox-SPO] Iteration 10, objective value: [1.6559627152124123].\n"
     ]
    },
    {
     "name": "stderr",
     "output_type": "stream",
     "text": [
      "\r",
      "  2%|█▌                                                                               | 10/500 [00:20<22:49,  2.80s/it]"
     ]
    },
    {
     "name": "stdout",
     "output_type": "stream",
     "text": [
      "[INFO] [2023-02-08 11:05:40,311] [OpenBox-SPO] Iteration 11, objective value: [0.4040249475140159].\n"
     ]
    },
    {
     "name": "stderr",
     "output_type": "stream",
     "text": [
      "\r",
      "  2%|█▊                                                                               | 11/500 [00:24<24:48,  3.04s/it]"
     ]
    },
    {
     "name": "stdout",
     "output_type": "stream",
     "text": [
      "[INFO] [2023-02-08 11:05:44,377] [OpenBox-SPO] Iteration 12, objective value: [0.5018869189779689].\n"
     ]
    },
    {
     "name": "stderr",
     "output_type": "stream",
     "text": [
      "\r",
      "  2%|█▉                                                                               | 12/500 [00:28<27:13,  3.35s/it]"
     ]
    },
    {
     "name": "stdout",
     "output_type": "stream",
     "text": [
      "[INFO] [2023-02-08 11:05:49,086] [OpenBox-SPO] Iteration 13, objective value: [1.5157376282294894].\n"
     ]
    },
    {
     "name": "stderr",
     "output_type": "stream",
     "text": [
      "\r",
      "  3%|██                                                                               | 13/500 [00:33<30:27,  3.75s/it]"
     ]
    },
    {
     "name": "stdout",
     "output_type": "stream",
     "text": [
      "[INFO] [2023-02-08 11:05:53,991] [OpenBox-SPO] Iteration 14, objective value: [2.025098318433021].\n"
     ]
    },
    {
     "name": "stderr",
     "output_type": "stream",
     "text": [
      "\r",
      "  3%|██▎                                                                              | 14/500 [00:38<33:10,  4.10s/it]"
     ]
    },
    {
     "name": "stdout",
     "output_type": "stream",
     "text": [
      "[INFO] [2023-02-08 11:05:57,110] [OpenBox-SPO] Iteration 15, objective value: [0.40012472265483195].\n"
     ]
    },
    {
     "name": "stderr",
     "output_type": "stream",
     "text": [
      "\r",
      "  3%|██▍                                                                              | 15/500 [00:41<30:44,  3.80s/it]"
     ]
    },
    {
     "name": "stdout",
     "output_type": "stream",
     "text": [
      "[INFO] [2023-02-08 11:05:57,110] [Advisor] Sample random config. rand_prob=0.100000.\n",
      "[INFO] [2023-02-08 11:05:57,125] [OpenBox-SPO] Iteration 16, objective value: [1.6735219640344838].\n",
      "[INFO] [2023-02-08 11:06:00,786] [OpenBox-SPO] Iteration 17, objective value: [2.14352349211521].\n"
     ]
    },
    {
     "name": "stderr",
     "output_type": "stream",
     "text": [
      "\r",
      "  3%|██▊                                                                              | 17/500 [00:44<23:20,  2.90s/it]"
     ]
    },
    {
     "name": "stdout",
     "output_type": "stream",
     "text": [
      "[INFO] [2023-02-08 11:06:04,235] [OpenBox-SPO] Iteration 18, objective value: [0.14204381761081736].\n"
     ]
    },
    {
     "name": "stderr",
     "output_type": "stream",
     "text": [
      "\r",
      "  4%|██▉                                                                              | 18/500 [00:48<24:22,  3.03s/it]"
     ]
    },
    {
     "name": "stdout",
     "output_type": "stream",
     "text": [
      "[INFO] [2023-02-08 11:06:09,170] [OpenBox-SPO] Iteration 19, objective value: [0.6835546355182776].\n"
     ]
    },
    {
     "name": "stderr",
     "output_type": "stream",
     "text": [
      "\r",
      "  4%|███                                                                              | 19/500 [00:53<28:18,  3.53s/it]"
     ]
    },
    {
     "name": "stdout",
     "output_type": "stream",
     "text": [
      "[INFO] [2023-02-08 11:06:13,000] [OpenBox-SPO] Iteration 20, objective value: [0.23949066615029363].\n"
     ]
    },
    {
     "name": "stderr",
     "output_type": "stream",
     "text": [
      "\r",
      "  4%|███▏                                                                             | 20/500 [00:57<28:53,  3.61s/it]"
     ]
    },
    {
     "name": "stdout",
     "output_type": "stream",
     "text": [
      "[INFO] [2023-02-08 11:06:13,000] [Advisor] Sample random config. rand_prob=0.100000.\n",
      "[INFO] [2023-02-08 11:06:13,000] [OpenBox-SPO] Iteration 21, objective value: [0.8976660649984195].\n",
      "[INFO] [2023-02-08 11:06:17,074] [OpenBox-SPO] Iteration 22, objective value: [0.08413342878300858].\n"
     ]
    },
    {
     "name": "stderr",
     "output_type": "stream",
     "text": [
      "\r",
      "  4%|███▌                                                                             | 22/500 [01:01<23:17,  2.92s/it]"
     ]
    },
    {
     "name": "stdout",
     "output_type": "stream",
     "text": [
      "[INFO] [2023-02-08 11:06:20,846] [OpenBox-SPO] Iteration 23, objective value: [0.8981194878074159].\n"
     ]
    },
    {
     "name": "stderr",
     "output_type": "stream",
     "text": [
      "\r",
      "  5%|███▋                                                                             | 23/500 [01:04<24:50,  3.13s/it]"
     ]
    },
    {
     "name": "stdout",
     "output_type": "stream",
     "text": [
      "[INFO] [2023-02-08 11:06:25,320] [OpenBox-SPO] Iteration 24, objective value: [0.359862231008645].\n"
     ]
    },
    {
     "name": "stderr",
     "output_type": "stream",
     "text": [
      "\r",
      "  5%|███▉                                                                             | 24/500 [01:09<27:30,  3.47s/it]"
     ]
    },
    {
     "name": "stdout",
     "output_type": "stream",
     "text": [
      "[INFO] [2023-02-08 11:06:29,955] [OpenBox-SPO] Iteration 25, objective value: [0.7295603728779211].\n"
     ]
    },
    {
     "name": "stderr",
     "output_type": "stream",
     "text": [
      "\r",
      "  5%|████                                                                             | 25/500 [01:13<29:54,  3.78s/it]"
     ]
    },
    {
     "name": "stdout",
     "output_type": "stream",
     "text": [
      "[INFO] [2023-02-08 11:06:33,772] [OpenBox-SPO] Iteration 26, objective value: [0.032276579936138715].\n"
     ]
    },
    {
     "name": "stderr",
     "output_type": "stream",
     "text": [
      "\r",
      "  5%|████▏                                                                            | 26/500 [01:17<29:55,  3.79s/it]"
     ]
    },
    {
     "name": "stdout",
     "output_type": "stream",
     "text": [
      "[INFO] [2023-02-08 11:06:37,566] [OpenBox-SPO] Iteration 27, objective value: [0.21005668373820183].\n"
     ]
    },
    {
     "name": "stderr",
     "output_type": "stream",
     "text": [
      "\r",
      "  5%|████▎                                                                            | 27/500 [01:21<29:52,  3.79s/it]"
     ]
    },
    {
     "name": "stdout",
     "output_type": "stream",
     "text": [
      "[INFO] [2023-02-08 11:06:41,044] [OpenBox-SPO] Iteration 28, objective value: [1.2349278787054458].\n"
     ]
    },
    {
     "name": "stderr",
     "output_type": "stream",
     "text": [
      "\r",
      "  6%|████▌                                                                            | 28/500 [01:25<29:06,  3.70s/it]"
     ]
    },
    {
     "name": "stdout",
     "output_type": "stream",
     "text": [
      "[INFO] [2023-02-08 11:06:41,044] [Advisor] Sample random config. rand_prob=0.100000.\n",
      "[INFO] [2023-02-08 11:06:41,044] [OpenBox-SPO] Iteration 29, objective value: [0.6662440011503853].\n",
      "[INFO] [2023-02-08 11:06:45,329] [OpenBox-SPO] Iteration 30, objective value: [0.05426650930821624].\n"
     ]
    },
    {
     "name": "stderr",
     "output_type": "stream",
     "text": [
      "\r",
      "  6%|████▊                                                                            | 30/500 [01:29<23:29,  3.00s/it]"
     ]
    },
    {
     "name": "stdout",
     "output_type": "stream",
     "text": [
      "[INFO] [2023-02-08 11:06:49,662] [OpenBox-SPO] Iteration 31, objective value: [0.5896245652728279].\n"
     ]
    },
    {
     "name": "stderr",
     "output_type": "stream",
     "text": [
      "\r",
      "  6%|█████                                                                            | 31/500 [01:33<25:58,  3.32s/it]"
     ]
    },
    {
     "name": "stdout",
     "output_type": "stream",
     "text": [
      "[INFO] [2023-02-08 11:06:53,438] [OpenBox-SPO] Iteration 32, objective value: [0.624332001516241].\n"
     ]
    },
    {
     "name": "stderr",
     "output_type": "stream",
     "text": [
      "\r",
      "  6%|█████▏                                                                           | 32/500 [01:37<26:49,  3.44s/it]"
     ]
    },
    {
     "name": "stdout",
     "output_type": "stream",
     "text": [
      "[INFO] [2023-02-08 11:06:57,170] [OpenBox-SPO] Iteration 33, objective value: [5.160191524635952].\n"
     ]
    },
    {
     "name": "stderr",
     "output_type": "stream",
     "text": [
      "\r",
      "  7%|█████▎                                                                           | 33/500 [01:41<27:23,  3.52s/it]"
     ]
    },
    {
     "name": "stdout",
     "output_type": "stream",
     "text": [
      "[INFO] [2023-02-08 11:07:01,179] [OpenBox-SPO] Iteration 34, objective value: [0.10129293270715449].\n"
     ]
    },
    {
     "name": "stderr",
     "output_type": "stream",
     "text": [
      "\r",
      "  7%|█████▌                                                                           | 34/500 [01:45<28:23,  3.65s/it]"
     ]
    },
    {
     "name": "stdout",
     "output_type": "stream",
     "text": [
      "[INFO] [2023-02-08 11:07:04,471] [OpenBox-SPO] Iteration 35, objective value: [0.06519492148899854].\n"
     ]
    },
    {
     "name": "stderr",
     "output_type": "stream",
     "text": [
      "\r",
      "  7%|█████▋                                                                           | 35/500 [01:48<27:31,  3.55s/it]"
     ]
    },
    {
     "name": "stdout",
     "output_type": "stream",
     "text": [
      "[INFO] [2023-02-08 11:07:08,622] [OpenBox-SPO] Iteration 36, objective value: [1.1926870526478857].\n"
     ]
    },
    {
     "name": "stderr",
     "output_type": "stream",
     "text": [
      "\r",
      "  7%|█████▊                                                                           | 36/500 [01:52<28:48,  3.72s/it]"
     ]
    },
    {
     "name": "stdout",
     "output_type": "stream",
     "text": [
      "[INFO] [2023-02-08 11:07:08,622] [Advisor] Sample random config. rand_prob=0.100000.\n",
      "[INFO] [2023-02-08 11:07:08,622] [OpenBox-SPO] Iteration 37, objective value: [1.8107086002272579].\n",
      "[INFO] [2023-02-08 11:07:12,151] [OpenBox-SPO] Iteration 38, objective value: [0.0731454029979417].\n"
     ]
    },
    {
     "name": "stderr",
     "output_type": "stream",
     "text": [
      "\r",
      "  8%|██████▏                                                                          | 38/500 [01:56<21:51,  2.84s/it]"
     ]
    },
    {
     "name": "stdout",
     "output_type": "stream",
     "text": [
      "[INFO] [2023-02-08 11:07:15,159] [OpenBox-SPO] Iteration 39, objective value: [0.07571678438310427].\n"
     ]
    },
    {
     "name": "stderr",
     "output_type": "stream",
     "text": [
      "\r",
      "  8%|██████▎                                                                          | 39/500 [01:59<22:07,  2.88s/it]"
     ]
    },
    {
     "name": "stdout",
     "output_type": "stream",
     "text": [
      "[INFO] [2023-02-08 11:07:18,486] [OpenBox-SPO] Iteration 40, objective value: [1.2366181518923092].\n"
     ]
    },
    {
     "name": "stderr",
     "output_type": "stream",
     "text": [
      "\r",
      "  8%|██████▍                                                                          | 40/500 [02:02<22:57,  3.00s/it]"
     ]
    },
    {
     "name": "stdout",
     "output_type": "stream",
     "text": [
      "[INFO] [2023-02-08 11:07:21,139] [OpenBox-SPO] Iteration 41, objective value: [0.11120440022450899].\n"
     ]
    },
    {
     "name": "stderr",
     "output_type": "stream",
     "text": [
      "\r",
      "  8%|██████▋                                                                          | 41/500 [02:05<22:12,  2.90s/it]"
     ]
    },
    {
     "name": "stdout",
     "output_type": "stream",
     "text": [
      "[INFO] [2023-02-08 11:07:21,139] [Advisor] Sample random config. rand_prob=0.100000.\n",
      "[INFO] [2023-02-08 11:07:21,139] [OpenBox-SPO] Iteration 42, objective value: [1.8124809447231802].\n",
      "[INFO] [2023-02-08 11:07:24,864] [OpenBox-SPO] Iteration 43, objective value: [0.699622031457442].\n"
     ]
    },
    {
     "name": "stderr",
     "output_type": "stream",
     "text": [
      "\r",
      "  9%|██████▉                                                                          | 43/500 [02:08<18:39,  2.45s/it]"
     ]
    },
    {
     "name": "stdout",
     "output_type": "stream",
     "text": [
      "[INFO] [2023-02-08 11:07:27,768] [OpenBox-SPO] Iteration 44, objective value: [3.2268811573875533].\n"
     ]
    },
    {
     "name": "stderr",
     "output_type": "stream",
     "text": [
      "\r",
      "  9%|███████▏                                                                         | 44/500 [02:11<19:26,  2.56s/it]"
     ]
    },
    {
     "name": "stdout",
     "output_type": "stream",
     "text": [
      "[INFO] [2023-02-08 11:07:30,579] [OpenBox-SPO] Iteration 45, objective value: [0.07044767129523367].\n"
     ]
    },
    {
     "name": "stderr",
     "output_type": "stream",
     "text": [
      "\r",
      "  9%|███████▎                                                                         | 45/500 [02:14<19:52,  2.62s/it]"
     ]
    },
    {
     "name": "stdout",
     "output_type": "stream",
     "text": [
      "[INFO] [2023-02-08 11:07:34,254] [OpenBox-SPO] Iteration 46, objective value: [3.5992914398070806].\n"
     ]
    },
    {
     "name": "stderr",
     "output_type": "stream",
     "text": [
      "\r",
      "  9%|███████▍                                                                         | 46/500 [02:18<21:57,  2.90s/it]"
     ]
    },
    {
     "name": "stdout",
     "output_type": "stream",
     "text": [
      "[INFO] [2023-02-08 11:07:37,881] [OpenBox-SPO] Iteration 47, objective value: [0.1345632168796412].\n"
     ]
    },
    {
     "name": "stderr",
     "output_type": "stream",
     "text": [
      "\r",
      "  9%|███████▌                                                                         | 47/500 [02:21<23:24,  3.10s/it]"
     ]
    },
    {
     "name": "stdout",
     "output_type": "stream",
     "text": [
      "[INFO] [2023-02-08 11:07:41,248] [OpenBox-SPO] Iteration 48, objective value: [0.01975763673726509].\n"
     ]
    },
    {
     "name": "stderr",
     "output_type": "stream",
     "text": [
      "\r",
      " 10%|███████▊                                                                         | 48/500 [02:25<23:55,  3.18s/it]"
     ]
    },
    {
     "name": "stdout",
     "output_type": "stream",
     "text": [
      "[INFO] [2023-02-08 11:07:44,696] [OpenBox-SPO] Iteration 49, objective value: [1.1466166297202691].\n"
     ]
    },
    {
     "name": "stderr",
     "output_type": "stream",
     "text": [
      "\r",
      " 10%|███████▉                                                                         | 49/500 [02:28<24:27,  3.25s/it]"
     ]
    },
    {
     "name": "stdout",
     "output_type": "stream",
     "text": [
      "[INFO] [2023-02-08 11:07:48,273] [OpenBox-SPO] Iteration 50, objective value: [0.06961355576704369].\n"
     ]
    },
    {
     "name": "stderr",
     "output_type": "stream",
     "text": [
      "\r",
      " 10%|████████                                                                         | 50/500 [02:32<25:06,  3.35s/it]"
     ]
    },
    {
     "name": "stdout",
     "output_type": "stream",
     "text": [
      "[INFO] [2023-02-08 11:07:48,273] [Advisor] Sample random config. rand_prob=0.100000.\n",
      "[INFO] [2023-02-08 11:07:48,273] [OpenBox-SPO] Iteration 51, objective value: [1.8466902735746662].\n",
      "[INFO] [2023-02-08 11:07:51,706] [OpenBox-SPO] Iteration 52, objective value: [0.1749025773465688].\n"
     ]
    },
    {
     "name": "stderr",
     "output_type": "stream",
     "text": [
      "\r",
      " 10%|████████▍                                                                        | 52/500 [02:35<19:28,  2.61s/it]"
     ]
    },
    {
     "name": "stdout",
     "output_type": "stream",
     "text": [
      "[INFO] [2023-02-08 11:07:54,694] [OpenBox-SPO] Iteration 53, objective value: [0.09166792609014876].\n"
     ]
    },
    {
     "name": "stderr",
     "output_type": "stream",
     "text": [
      "\r",
      " 11%|████████▌                                                                        | 53/500 [02:38<20:07,  2.70s/it]"
     ]
    },
    {
     "name": "stdout",
     "output_type": "stream",
     "text": [
      "[INFO] [2023-02-08 11:07:58,060] [OpenBox-SPO] Iteration 54, objective value: [0.012824507906963972].\n"
     ]
    },
    {
     "name": "stderr",
     "output_type": "stream",
     "text": [
      "\r",
      " 11%|████████▋                                                                        | 54/500 [02:42<21:21,  2.87s/it]"
     ]
    },
    {
     "name": "stdout",
     "output_type": "stream",
     "text": [
      "[INFO] [2023-02-08 11:08:02,054] [OpenBox-SPO] Iteration 55, objective value: [0.1608922811684989].\n"
     ]
    },
    {
     "name": "stderr",
     "output_type": "stream",
     "text": [
      "\r",
      " 11%|████████▉                                                                        | 55/500 [02:46<23:33,  3.18s/it]"
     ]
    },
    {
     "name": "stdout",
     "output_type": "stream",
     "text": [
      "[INFO] [2023-02-08 11:08:05,024] [OpenBox-SPO] Iteration 56, objective value: [0.16012352931153537].\n"
     ]
    },
    {
     "name": "stderr",
     "output_type": "stream",
     "text": [
      "\r",
      " 11%|█████████                                                                        | 56/500 [02:49<23:04,  3.12s/it]"
     ]
    },
    {
     "name": "stdout",
     "output_type": "stream",
     "text": [
      "[INFO] [2023-02-08 11:08:07,811] [OpenBox-SPO] Iteration 57, objective value: [0.08225568481086723].\n"
     ]
    },
    {
     "name": "stderr",
     "output_type": "stream",
     "text": [
      "\r",
      " 11%|█████████▏                                                                       | 57/500 [02:51<22:19,  3.02s/it]"
     ]
    },
    {
     "name": "stdout",
     "output_type": "stream",
     "text": [
      "[INFO] [2023-02-08 11:08:10,796] [OpenBox-SPO] Iteration 58, objective value: [9.0898733015686].\n"
     ]
    },
    {
     "name": "stderr",
     "output_type": "stream",
     "text": [
      "\r",
      " 12%|█████████▍                                                                       | 58/500 [02:54<22:11,  3.01s/it]"
     ]
    },
    {
     "name": "stdout",
     "output_type": "stream",
     "text": [
      "[INFO] [2023-02-08 11:08:10,796] [Advisor] Sample random config. rand_prob=0.100000.\n",
      "[INFO] [2023-02-08 11:08:10,796] [OpenBox-SPO] Iteration 59, objective value: [2.3585981214071623].\n",
      "[INFO] [2023-02-08 11:08:14,130] [OpenBox-SPO] Iteration 60, objective value: [0.04263392162627044].\n"
     ]
    },
    {
     "name": "stderr",
     "output_type": "stream",
     "text": [
      "\r",
      " 12%|█████████▋                                                                       | 60/500 [02:58<17:37,  2.40s/it]"
     ]
    },
    {
     "name": "stdout",
     "output_type": "stream",
     "text": [
      "[INFO] [2023-02-08 11:08:16,964] [OpenBox-SPO] Iteration 61, objective value: [10.0].\n"
     ]
    },
    {
     "name": "stderr",
     "output_type": "stream",
     "text": [
      "\r",
      " 12%|█████████▉                                                                       | 61/500 [03:01<18:21,  2.51s/it]"
     ]
    },
    {
     "name": "stdout",
     "output_type": "stream",
     "text": [
      "[INFO] [2023-02-08 11:08:20,333] [OpenBox-SPO] Iteration 62, objective value: [0.03352447684857092].\n"
     ]
    },
    {
     "name": "stderr",
     "output_type": "stream",
     "text": [
      "\r",
      " 12%|██████████                                                                       | 62/500 [03:04<19:56,  2.73s/it]"
     ]
    },
    {
     "name": "stdout",
     "output_type": "stream",
     "text": [
      "[INFO] [2023-02-08 11:08:23,246] [OpenBox-SPO] Iteration 63, objective value: [8.261264974307323].\n"
     ]
    },
    {
     "name": "stderr",
     "output_type": "stream",
     "text": [
      "\r",
      " 13%|██████████▏                                                                      | 63/500 [03:07<20:15,  2.78s/it]"
     ]
    },
    {
     "name": "stdout",
     "output_type": "stream",
     "text": [
      "[INFO] [2023-02-08 11:08:26,135] [OpenBox-SPO] Iteration 64, objective value: [1.0998533261432175].\n"
     ]
    },
    {
     "name": "stderr",
     "output_type": "stream",
     "text": [
      "\r",
      " 13%|██████████▎                                                                      | 64/500 [03:10<20:25,  2.81s/it]"
     ]
    },
    {
     "name": "stdout",
     "output_type": "stream",
     "text": [
      "[INFO] [2023-02-08 11:08:29,609] [OpenBox-SPO] Iteration 65, objective value: [6.4952230062415826].\n"
     ]
    },
    {
     "name": "stderr",
     "output_type": "stream",
     "text": [
      "\r",
      " 13%|██████████▌                                                                      | 65/500 [03:13<21:44,  3.00s/it]"
     ]
    },
    {
     "name": "stdout",
     "output_type": "stream",
     "text": [
      "[INFO] [2023-02-08 11:08:32,584] [OpenBox-SPO] Iteration 66, objective value: [0.03815635596864705].\n"
     ]
    },
    {
     "name": "stderr",
     "output_type": "stream",
     "text": [
      "\r",
      " 13%|██████████▋                                                                      | 66/500 [03:16<21:40,  3.00s/it]"
     ]
    },
    {
     "name": "stdout",
     "output_type": "stream",
     "text": [
      "[INFO] [2023-02-08 11:08:35,555] [OpenBox-SPO] Iteration 67, objective value: [1.5624990500569835].\n"
     ]
    },
    {
     "name": "stderr",
     "output_type": "stream",
     "text": [
      "\r",
      " 13%|██████████▊                                                                      | 67/500 [03:19<21:32,  2.98s/it]"
     ]
    },
    {
     "name": "stdout",
     "output_type": "stream",
     "text": [
      "[INFO] [2023-02-08 11:08:38,334] [OpenBox-SPO] Iteration 68, objective value: [10.0].\n"
     ]
    },
    {
     "name": "stderr",
     "output_type": "stream",
     "text": [
      "\r",
      " 14%|███████████                                                                      | 68/500 [03:22<21:03,  2.92s/it]"
     ]
    },
    {
     "name": "stdout",
     "output_type": "stream",
     "text": [
      "[INFO] [2023-02-08 11:08:41,418] [OpenBox-SPO] Iteration 69, objective value: [0.16145521362934837].\n"
     ]
    },
    {
     "name": "stderr",
     "output_type": "stream",
     "text": [
      "\r",
      " 14%|███████████▏                                                                     | 69/500 [03:25<21:20,  2.97s/it]"
     ]
    },
    {
     "name": "stdout",
     "output_type": "stream",
     "text": [
      "[INFO] [2023-02-08 11:08:44,456] [OpenBox-SPO] Iteration 70, objective value: [5.355431676744779].\n"
     ]
    },
    {
     "name": "stderr",
     "output_type": "stream",
     "text": [
      "\r",
      " 14%|███████████▎                                                                     | 70/500 [03:28<21:26,  2.99s/it]"
     ]
    },
    {
     "name": "stdout",
     "output_type": "stream",
     "text": [
      "[INFO] [2023-02-08 11:08:47,339] [OpenBox-SPO] Iteration 71, objective value: [0.11524942064812196].\n"
     ]
    },
    {
     "name": "stderr",
     "output_type": "stream",
     "text": [
      "\r",
      " 14%|███████████▌                                                                     | 71/500 [03:31<21:09,  2.96s/it]"
     ]
    },
    {
     "name": "stdout",
     "output_type": "stream",
     "text": [
      "[INFO] [2023-02-08 11:08:47,339] [Advisor] Sample random config. rand_prob=0.100000.\n",
      "[INFO] [2023-02-08 11:08:47,339] [OpenBox-SPO] Iteration 72, objective value: [1.9707663503100445].\n",
      "[INFO] [2023-02-08 11:08:50,676] [OpenBox-SPO] Iteration 73, objective value: [0.0034643454096744976].\n"
     ]
    },
    {
     "name": "stderr",
     "output_type": "stream",
     "text": [
      "\r",
      " 15%|███████████▊                                                                     | 73/500 [03:34<16:50,  2.37s/it]"
     ]
    },
    {
     "name": "stdout",
     "output_type": "stream",
     "text": [
      "[INFO] [2023-02-08 11:08:53,572] [OpenBox-SPO] Iteration 74, objective value: [0.18516462426890246].\n"
     ]
    },
    {
     "name": "stderr",
     "output_type": "stream",
     "text": [
      "\r",
      " 15%|███████████▉                                                                     | 74/500 [03:37<17:43,  2.50s/it]"
     ]
    },
    {
     "name": "stdout",
     "output_type": "stream",
     "text": [
      "[INFO] [2023-02-08 11:08:56,207] [OpenBox-SPO] Iteration 75, objective value: [7.096629074694898].\n"
     ]
    },
    {
     "name": "stderr",
     "output_type": "stream",
     "text": [
      "\r",
      " 15%|████████████▏                                                                    | 75/500 [03:40<17:56,  2.53s/it]"
     ]
    },
    {
     "name": "stdout",
     "output_type": "stream",
     "text": [
      "[INFO] [2023-02-08 11:08:59,376] [OpenBox-SPO] Iteration 76, objective value: [0.13329137128321622].\n"
     ]
    },
    {
     "name": "stderr",
     "output_type": "stream",
     "text": [
      "\r",
      " 15%|████████████▎                                                                    | 76/500 [03:43<19:07,  2.71s/it]"
     ]
    },
    {
     "name": "stdout",
     "output_type": "stream",
     "text": [
      "[INFO] [2023-02-08 11:09:02,294] [OpenBox-SPO] Iteration 77, objective value: [8.800482911247212].\n"
     ]
    },
    {
     "name": "stderr",
     "output_type": "stream",
     "text": [
      "\r",
      " 15%|████████████▍                                                                    | 77/500 [03:46<19:29,  2.76s/it]"
     ]
    },
    {
     "name": "stdout",
     "output_type": "stream",
     "text": [
      "[INFO] [2023-02-08 11:09:05,103] [OpenBox-SPO] Iteration 78, objective value: [0.0804278688484198].\n"
     ]
    },
    {
     "name": "stderr",
     "output_type": "stream",
     "text": [
      "\r",
      " 16%|████████████▋                                                                    | 78/500 [03:49<19:32,  2.78s/it]"
     ]
    },
    {
     "name": "stdout",
     "output_type": "stream",
     "text": [
      "[INFO] [2023-02-08 11:09:08,142] [OpenBox-SPO] Iteration 79, objective value: [0.39313107218524684].\n"
     ]
    },
    {
     "name": "stderr",
     "output_type": "stream",
     "text": [
      "\r",
      " 16%|████████████▊                                                                    | 79/500 [03:52<20:01,  2.85s/it]"
     ]
    },
    {
     "name": "stdout",
     "output_type": "stream",
     "text": [
      "[INFO] [2023-02-08 11:09:10,850] [OpenBox-SPO] Iteration 80, objective value: [2.2476377732637562].\n"
     ]
    },
    {
     "name": "stderr",
     "output_type": "stream",
     "text": [
      "\r",
      " 16%|████████████▉                                                                    | 80/500 [03:54<19:40,  2.81s/it]"
     ]
    },
    {
     "name": "stdout",
     "output_type": "stream",
     "text": [
      "[INFO] [2023-02-08 11:09:10,850] [Advisor] Sample random config. rand_prob=0.100000.\n",
      "[INFO] [2023-02-08 11:09:10,850] [OpenBox-SPO] Iteration 81, objective value: [1.6890772641551537].\n",
      "[INFO] [2023-02-08 11:09:10,859] [Advisor] Sample random config. rand_prob=0.100000.\n",
      "[INFO] [2023-02-08 11:09:10,859] [OpenBox-SPO] Iteration 82, objective value: [1.4081341250129271].\n",
      "[INFO] [2023-02-08 11:09:14,429] [OpenBox-SPO] Iteration 83, objective value: [0.1386498204806646].\n"
     ]
    },
    {
     "name": "stderr",
     "output_type": "stream",
     "text": [
      "\r",
      " 17%|█████████████▍                                                                   | 83/500 [03:58<13:17,  1.91s/it]"
     ]
    },
    {
     "name": "stdout",
     "output_type": "stream",
     "text": [
      "[INFO] [2023-02-08 11:09:17,812] [OpenBox-SPO] Iteration 84, objective value: [0.03203230840672279].\n"
     ]
    },
    {
     "name": "stderr",
     "output_type": "stream",
     "text": [
      "\r",
      " 17%|█████████████▌                                                                   | 84/500 [04:01<15:22,  2.22s/it]"
     ]
    },
    {
     "name": "stdout",
     "output_type": "stream",
     "text": [
      "[INFO] [2023-02-08 11:09:20,761] [OpenBox-SPO] Iteration 85, objective value: [7.000426808772213].\n"
     ]
    },
    {
     "name": "stderr",
     "output_type": "stream",
     "text": [
      "\r",
      " 17%|█████████████▊                                                                   | 85/500 [04:04<16:30,  2.39s/it]"
     ]
    },
    {
     "name": "stdout",
     "output_type": "stream",
     "text": [
      "[INFO] [2023-02-08 11:09:24,480] [OpenBox-SPO] Iteration 86, objective value: [0.05926233741103819].\n"
     ]
    },
    {
     "name": "stderr",
     "output_type": "stream",
     "text": [
      "\r",
      " 17%|█████████████▉                                                                   | 86/500 [04:08<18:44,  2.72s/it]"
     ]
    },
    {
     "name": "stdout",
     "output_type": "stream",
     "text": [
      "[INFO] [2023-02-08 11:09:24,480] [Advisor] Sample random config. rand_prob=0.100000.\n",
      "[INFO] [2023-02-08 11:09:24,480] [OpenBox-SPO] Iteration 87, objective value: [1.955371096354999].\n",
      "[INFO] [2023-02-08 11:09:27,711] [OpenBox-SPO] Iteration 88, objective value: [7.162640464767012].\n"
     ]
    },
    {
     "name": "stderr",
     "output_type": "stream",
     "text": [
      "\r",
      " 18%|██████████████▎                                                                  | 88/500 [04:11<15:31,  2.26s/it]"
     ]
    },
    {
     "name": "stdout",
     "output_type": "stream",
     "text": [
      "[INFO] [2023-02-08 11:09:31,312] [OpenBox-SPO] Iteration 89, objective value: [0.47625587702792344].\n"
     ]
    },
    {
     "name": "stderr",
     "output_type": "stream",
     "text": [
      "\r",
      " 18%|██████████████▍                                                                  | 89/500 [04:15<17:34,  2.57s/it]"
     ]
    },
    {
     "name": "stdout",
     "output_type": "stream",
     "text": [
      "[INFO] [2023-02-08 11:09:35,014] [OpenBox-SPO] Iteration 90, objective value: [0.14656519636103973].\n"
     ]
    },
    {
     "name": "stderr",
     "output_type": "stream",
     "text": [
      "\r",
      " 18%|██████████████▌                                                                  | 90/500 [04:19<19:26,  2.85s/it]"
     ]
    },
    {
     "name": "stdout",
     "output_type": "stream",
     "text": [
      "[INFO] [2023-02-08 11:09:38,423] [OpenBox-SPO] Iteration 91, objective value: [0.04748941943936495].\n"
     ]
    },
    {
     "name": "stderr",
     "output_type": "stream",
     "text": [
      "\r",
      " 18%|██████████████▋                                                                  | 91/500 [04:22<20:25,  3.00s/it]"
     ]
    },
    {
     "name": "stdout",
     "output_type": "stream",
     "text": [
      "[INFO] [2023-02-08 11:09:41,966] [OpenBox-SPO] Iteration 92, objective value: [0.19528034666714064].\n"
     ]
    },
    {
     "name": "stderr",
     "output_type": "stream",
     "text": [
      "\r",
      " 18%|██████████████▉                                                                  | 92/500 [04:26<21:21,  3.14s/it]"
     ]
    },
    {
     "name": "stdout",
     "output_type": "stream",
     "text": [
      "[INFO] [2023-02-08 11:09:45,507] [OpenBox-SPO] Iteration 93, objective value: [0.12182344135278012].\n"
     ]
    },
    {
     "name": "stderr",
     "output_type": "stream",
     "text": [
      "\r",
      " 19%|███████████████                                                                  | 93/500 [04:29<22:03,  3.25s/it]"
     ]
    },
    {
     "name": "stdout",
     "output_type": "stream",
     "text": [
      "[INFO] [2023-02-08 11:09:48,840] [OpenBox-SPO] Iteration 94, objective value: [0.027183967914894816].\n"
     ]
    },
    {
     "name": "stderr",
     "output_type": "stream",
     "text": [
      "\r",
      " 19%|███████████████▏                                                                 | 94/500 [04:32<22:09,  3.28s/it]"
     ]
    },
    {
     "name": "stdout",
     "output_type": "stream",
     "text": [
      "[INFO] [2023-02-08 11:09:52,507] [OpenBox-SPO] Iteration 95, objective value: [8.016599571992803].\n"
     ]
    },
    {
     "name": "stderr",
     "output_type": "stream",
     "text": [
      "\r",
      " 19%|███████████████▍                                                                 | 95/500 [04:36<22:52,  3.39s/it]"
     ]
    },
    {
     "name": "stdout",
     "output_type": "stream",
     "text": [
      "[INFO] [2023-02-08 11:09:52,507] [Advisor] Sample random config. rand_prob=0.100000.\n",
      "[INFO] [2023-02-08 11:09:52,516] [OpenBox-SPO] Iteration 96, objective value: [2.788693748879129].\n",
      "[INFO] [2023-02-08 11:09:56,426] [OpenBox-SPO] Iteration 97, objective value: [0.08271930170484328].\n"
     ]
    },
    {
     "name": "stderr",
     "output_type": "stream",
     "text": [
      "\r",
      " 19%|███████████████▋                                                                 | 97/500 [04:40<18:24,  2.74s/it]"
     ]
    },
    {
     "name": "stdout",
     "output_type": "stream",
     "text": [
      "[INFO] [2023-02-08 11:09:59,982] [OpenBox-SPO] Iteration 98, objective value: [0.03594555506290142].\n"
     ]
    },
    {
     "name": "stderr",
     "output_type": "stream",
     "text": [
      "\r",
      " 20%|███████████████▉                                                                 | 98/500 [04:44<19:42,  2.94s/it]"
     ]
    },
    {
     "name": "stdout",
     "output_type": "stream",
     "text": [
      "[INFO] [2023-02-08 11:10:03,649] [OpenBox-SPO] Iteration 99, objective value: [0.28418847907474104].\n"
     ]
    },
    {
     "name": "stderr",
     "output_type": "stream",
     "text": [
      "\r",
      " 20%|████████████████                                                                 | 99/500 [04:47<20:54,  3.13s/it]"
     ]
    },
    {
     "name": "stdout",
     "output_type": "stream",
     "text": [
      "[INFO] [2023-02-08 11:10:07,177] [OpenBox-SPO] Iteration 100, objective value: [0.04199435647952288].\n"
     ]
    },
    {
     "name": "stderr",
     "output_type": "stream",
     "text": [
      "\r",
      " 20%|████████████████                                                                | 100/500 [04:51<21:34,  3.24s/it]"
     ]
    },
    {
     "name": "stdout",
     "output_type": "stream",
     "text": [
      "[INFO] [2023-02-08 11:10:11,573] [OpenBox-SPO] Iteration 101, objective value: [0.07333283489278102].\n"
     ]
    },
    {
     "name": "stderr",
     "output_type": "stream",
     "text": [
      "\r",
      " 20%|████████████████▏                                                               | 101/500 [04:55<23:40,  3.56s/it]"
     ]
    },
    {
     "name": "stdout",
     "output_type": "stream",
     "text": [
      "[INFO] [2023-02-08 11:10:15,460] [OpenBox-SPO] Iteration 102, objective value: [0.019418921991515816].\n"
     ]
    },
    {
     "name": "stderr",
     "output_type": "stream",
     "text": [
      "\r",
      " 20%|████████████████▎                                                               | 102/500 [04:59<24:13,  3.65s/it]"
     ]
    },
    {
     "name": "stdout",
     "output_type": "stream",
     "text": [
      "[INFO] [2023-02-08 11:10:19,205] [OpenBox-SPO] Iteration 103, objective value: [0.09198327071560682].\n"
     ]
    },
    {
     "name": "stderr",
     "output_type": "stream",
     "text": [
      "\r",
      " 21%|████████████████▍                                                               | 103/500 [05:03<24:20,  3.68s/it]"
     ]
    },
    {
     "name": "stdout",
     "output_type": "stream",
     "text": [
      "[INFO] [2023-02-08 11:10:22,910] [OpenBox-SPO] Iteration 104, objective value: [6.61352067490899].\n"
     ]
    },
    {
     "name": "stderr",
     "output_type": "stream",
     "text": [
      "\r",
      " 21%|████████████████▋                                                               | 104/500 [05:06<24:19,  3.69s/it]"
     ]
    },
    {
     "name": "stdout",
     "output_type": "stream",
     "text": [
      "[INFO] [2023-02-08 11:10:27,290] [OpenBox-SPO] Iteration 105, objective value: [0.1609553617409328].\n"
     ]
    },
    {
     "name": "stderr",
     "output_type": "stream",
     "text": [
      "\r",
      " 21%|████████████████▊                                                               | 105/500 [05:11<25:36,  3.89s/it]"
     ]
    },
    {
     "name": "stdout",
     "output_type": "stream",
     "text": [
      "[INFO] [2023-02-08 11:10:31,335] [OpenBox-SPO] Iteration 106, objective value: [0.12717971190112895].\n"
     ]
    },
    {
     "name": "stderr",
     "output_type": "stream",
     "text": [
      "\r",
      " 21%|████████████████▉                                                               | 106/500 [05:15<25:50,  3.94s/it]"
     ]
    },
    {
     "name": "stdout",
     "output_type": "stream",
     "text": [
      "[INFO] [2023-02-08 11:10:35,303] [OpenBox-SPO] Iteration 107, objective value: [0.05050890986855416].\n"
     ]
    },
    {
     "name": "stderr",
     "output_type": "stream",
     "text": [
      "\r",
      " 21%|█████████████████                                                               | 107/500 [05:19<25:50,  3.95s/it]"
     ]
    },
    {
     "name": "stdout",
     "output_type": "stream",
     "text": [
      "[INFO] [2023-02-08 11:10:39,644] [OpenBox-SPO] Iteration 108, objective value: [0.04710963356892457].\n"
     ]
    },
    {
     "name": "stderr",
     "output_type": "stream",
     "text": [
      "\r",
      " 22%|█████████████████▎                                                              | 108/500 [05:23<26:32,  4.06s/it]"
     ]
    },
    {
     "name": "stdout",
     "output_type": "stream",
     "text": [
      "[INFO] [2023-02-08 11:10:43,267] [OpenBox-SPO] Iteration 109, objective value: [0.022876416755580567].\n"
     ]
    },
    {
     "name": "stderr",
     "output_type": "stream",
     "text": [
      "\r",
      " 22%|█████████████████▍                                                              | 109/500 [05:27<25:37,  3.93s/it]"
     ]
    },
    {
     "name": "stdout",
     "output_type": "stream",
     "text": [
      "[INFO] [2023-02-08 11:10:47,106] [OpenBox-SPO] Iteration 110, objective value: [0.12823266139152112].\n"
     ]
    },
    {
     "name": "stderr",
     "output_type": "stream",
     "text": [
      "\r",
      " 22%|█████████████████▌                                                              | 110/500 [05:31<25:22,  3.90s/it]"
     ]
    },
    {
     "name": "stdout",
     "output_type": "stream",
     "text": [
      "[INFO] [2023-02-08 11:10:51,077] [OpenBox-SPO] Iteration 111, objective value: [0.028053625582833835].\n"
     ]
    },
    {
     "name": "stderr",
     "output_type": "stream",
     "text": [
      "\r",
      " 22%|█████████████████▊                                                              | 111/500 [05:35<25:26,  3.92s/it]"
     ]
    },
    {
     "name": "stdout",
     "output_type": "stream",
     "text": [
      "[INFO] [2023-02-08 11:10:54,957] [OpenBox-SPO] Iteration 112, objective value: [0.6744282895265843].\n"
     ]
    },
    {
     "name": "stderr",
     "output_type": "stream",
     "text": [
      "\r",
      " 22%|█████████████████▉                                                              | 112/500 [05:38<25:17,  3.91s/it]"
     ]
    },
    {
     "name": "stdout",
     "output_type": "stream",
     "text": [
      "[INFO] [2023-02-08 11:10:58,547] [OpenBox-SPO] Iteration 113, objective value: [0.08849398271459959].\n"
     ]
    },
    {
     "name": "stderr",
     "output_type": "stream",
     "text": [
      "\r",
      " 23%|██████████████████                                                              | 113/500 [05:42<24:36,  3.81s/it]"
     ]
    },
    {
     "name": "stdout",
     "output_type": "stream",
     "text": [
      "[INFO] [2023-02-08 11:11:02,684] [OpenBox-SPO] Iteration 114, objective value: [0.020453417095432237].\n"
     ]
    },
    {
     "name": "stderr",
     "output_type": "stream",
     "text": [
      "\r",
      " 23%|██████████████████▏                                                             | 114/500 [05:46<25:09,  3.91s/it]"
     ]
    },
    {
     "name": "stdout",
     "output_type": "stream",
     "text": [
      "[INFO] [2023-02-08 11:11:06,427] [OpenBox-SPO] Iteration 115, objective value: [0.04821887077006182].\n"
     ]
    },
    {
     "name": "stderr",
     "output_type": "stream",
     "text": [
      "\r",
      " 23%|██████████████████▍                                                             | 115/500 [05:50<24:46,  3.86s/it]"
     ]
    },
    {
     "name": "stdout",
     "output_type": "stream",
     "text": [
      "[INFO] [2023-02-08 11:11:10,489] [OpenBox-SPO] Iteration 116, objective value: [0.06487322302211772].\n"
     ]
    },
    {
     "name": "stderr",
     "output_type": "stream",
     "text": [
      "\r",
      " 23%|██████████████████▌                                                             | 116/500 [05:54<25:05,  3.92s/it]"
     ]
    },
    {
     "name": "stdout",
     "output_type": "stream",
     "text": [
      "[INFO] [2023-02-08 11:11:13,948] [OpenBox-SPO] Iteration 117, objective value: [0.0901034431943098].\n"
     ]
    },
    {
     "name": "stderr",
     "output_type": "stream",
     "text": [
      "\r",
      " 23%|██████████████████▋                                                             | 117/500 [05:57<24:08,  3.78s/it]"
     ]
    },
    {
     "name": "stdout",
     "output_type": "stream",
     "text": [
      "[INFO] [2023-02-08 11:11:18,109] [OpenBox-SPO] Iteration 118, objective value: [0.316661544085519].\n"
     ]
    },
    {
     "name": "stderr",
     "output_type": "stream",
     "text": [
      "\r",
      " 24%|██████████████████▉                                                             | 118/500 [06:02<24:48,  3.90s/it]"
     ]
    },
    {
     "name": "stdout",
     "output_type": "stream",
     "text": [
      "[INFO] [2023-02-08 11:11:22,389] [OpenBox-SPO] Iteration 119, objective value: [0.08190344080277175].\n"
     ]
    },
    {
     "name": "stderr",
     "output_type": "stream",
     "text": [
      "\r",
      " 24%|███████████████████                                                             | 119/500 [06:06<25:28,  4.01s/it]"
     ]
    },
    {
     "name": "stdout",
     "output_type": "stream",
     "text": [
      "[INFO] [2023-02-08 11:11:26,001] [OpenBox-SPO] Iteration 120, objective value: [0.05174241705974815].\n"
     ]
    },
    {
     "name": "stderr",
     "output_type": "stream",
     "text": [
      "\r",
      " 24%|███████████████████▏                                                            | 120/500 [06:10<24:38,  3.89s/it]"
     ]
    },
    {
     "name": "stdout",
     "output_type": "stream",
     "text": [
      "[INFO] [2023-02-08 11:11:30,216] [OpenBox-SPO] Iteration 121, objective value: [0.12898516125109316].\n"
     ]
    },
    {
     "name": "stderr",
     "output_type": "stream",
     "text": [
      "\r",
      " 24%|███████████████████▎                                                            | 121/500 [06:14<25:13,  3.99s/it]"
     ]
    },
    {
     "name": "stdout",
     "output_type": "stream",
     "text": [
      "[INFO] [2023-02-08 11:11:34,298] [OpenBox-SPO] Iteration 122, objective value: [0.03683651980936382].\n"
     ]
    },
    {
     "name": "stderr",
     "output_type": "stream",
     "text": [
      "\r",
      " 24%|███████████████████▌                                                            | 122/500 [06:18<25:17,  4.01s/it]"
     ]
    },
    {
     "name": "stdout",
     "output_type": "stream",
     "text": [
      "[INFO] [2023-02-08 11:11:38,056] [OpenBox-SPO] Iteration 123, objective value: [0.0231369364491266].\n"
     ]
    },
    {
     "name": "stderr",
     "output_type": "stream",
     "text": [
      "\r",
      " 25%|███████████████████▋                                                            | 123/500 [06:22<24:44,  3.94s/it]"
     ]
    },
    {
     "name": "stdout",
     "output_type": "stream",
     "text": [
      "[INFO] [2023-02-08 11:11:42,586] [OpenBox-SPO] Iteration 124, objective value: [0.42984261207720814].\n"
     ]
    },
    {
     "name": "stderr",
     "output_type": "stream",
     "text": [
      "\r",
      " 25%|███████████████████▊                                                            | 124/500 [06:26<25:47,  4.12s/it]"
     ]
    },
    {
     "name": "stdout",
     "output_type": "stream",
     "text": [
      "[INFO] [2023-02-08 11:11:46,140] [OpenBox-SPO] Iteration 125, objective value: [0.10552382793097945].\n"
     ]
    },
    {
     "name": "stderr",
     "output_type": "stream",
     "text": [
      "\r",
      " 25%|████████████████████                                                            | 125/500 [06:30<24:41,  3.95s/it]"
     ]
    },
    {
     "name": "stdout",
     "output_type": "stream",
     "text": [
      "[INFO] [2023-02-08 11:11:49,973] [OpenBox-SPO] Iteration 126, objective value: [0.04316896160089984].\n"
     ]
    },
    {
     "name": "stderr",
     "output_type": "stream",
     "text": [
      "\r",
      " 25%|████████████████████▏                                                           | 126/500 [06:34<24:22,  3.91s/it]"
     ]
    },
    {
     "name": "stdout",
     "output_type": "stream",
     "text": [
      "[INFO] [2023-02-08 11:11:53,873] [OpenBox-SPO] Iteration 127, objective value: [0.05102035075302212].\n"
     ]
    },
    {
     "name": "stderr",
     "output_type": "stream",
     "text": [
      "\r",
      " 25%|████████████████████▎                                                           | 127/500 [06:37<24:17,  3.91s/it]"
     ]
    },
    {
     "name": "stdout",
     "output_type": "stream",
     "text": [
      "[INFO] [2023-02-08 11:11:57,821] [OpenBox-SPO] Iteration 128, objective value: [0.1758287970209288].\n"
     ]
    },
    {
     "name": "stderr",
     "output_type": "stream",
     "text": [
      "\r",
      " 26%|████████████████████▍                                                           | 128/500 [06:41<24:18,  3.92s/it]"
     ]
    },
    {
     "name": "stdout",
     "output_type": "stream",
     "text": [
      "[INFO] [2023-02-08 11:12:01,930] [OpenBox-SPO] Iteration 129, objective value: [0.0318831963042005].\n"
     ]
    },
    {
     "name": "stderr",
     "output_type": "stream",
     "text": [
      "\r",
      " 26%|████████████████████▋                                                           | 129/500 [06:45<24:35,  3.98s/it]"
     ]
    },
    {
     "name": "stdout",
     "output_type": "stream",
     "text": [
      "[INFO] [2023-02-08 11:12:05,879] [OpenBox-SPO] Iteration 130, objective value: [0.06673209386393546].\n"
     ]
    },
    {
     "name": "stderr",
     "output_type": "stream",
     "text": [
      "\r",
      " 26%|████████████████████▊                                                           | 130/500 [06:49<24:28,  3.97s/it]"
     ]
    },
    {
     "name": "stdout",
     "output_type": "stream",
     "text": [
      "[INFO] [2023-02-08 11:12:09,908] [OpenBox-SPO] Iteration 131, objective value: [0.081507698756488].\n"
     ]
    },
    {
     "name": "stderr",
     "output_type": "stream",
     "text": [
      "\r",
      " 26%|████████████████████▉                                                           | 131/500 [06:53<24:31,  3.99s/it]"
     ]
    },
    {
     "name": "stdout",
     "output_type": "stream",
     "text": [
      "[INFO] [2023-02-08 11:12:13,911] [OpenBox-SPO] Iteration 132, objective value: [7.004924675489914].\n"
     ]
    },
    {
     "name": "stderr",
     "output_type": "stream",
     "text": [
      "\r",
      " 26%|█████████████████████                                                           | 132/500 [06:57<24:28,  3.99s/it]"
     ]
    },
    {
     "name": "stdout",
     "output_type": "stream",
     "text": [
      "[INFO] [2023-02-08 11:12:18,278] [OpenBox-SPO] Iteration 133, objective value: [0.10584799972882887].\n"
     ]
    },
    {
     "name": "stderr",
     "output_type": "stream",
     "text": [
      "\r",
      " 27%|█████████████████████▎                                                          | 133/500 [07:02<25:06,  4.10s/it]"
     ]
    },
    {
     "name": "stdout",
     "output_type": "stream",
     "text": [
      "[INFO] [2023-02-08 11:12:22,711] [OpenBox-SPO] Iteration 134, objective value: [0.19387157857482382].\n"
     ]
    },
    {
     "name": "stderr",
     "output_type": "stream",
     "text": [
      "\r",
      " 27%|█████████████████████▍                                                          | 134/500 [07:06<25:38,  4.20s/it]"
     ]
    },
    {
     "name": "stdout",
     "output_type": "stream",
     "text": [
      "[INFO] [2023-02-08 11:12:26,864] [OpenBox-SPO] Iteration 135, objective value: [5.748380153704612].\n"
     ]
    },
    {
     "name": "stderr",
     "output_type": "stream",
     "text": [
      "\r",
      " 27%|█████████████████████▌                                                          | 135/500 [07:10<25:28,  4.19s/it]"
     ]
    },
    {
     "name": "stdout",
     "output_type": "stream",
     "text": [
      "[INFO] [2023-02-08 11:12:30,987] [OpenBox-SPO] Iteration 136, objective value: [0.18143268810379468].\n"
     ]
    },
    {
     "name": "stderr",
     "output_type": "stream",
     "text": [
      "\r",
      " 27%|█████████████████████▊                                                          | 136/500 [07:15<25:17,  4.17s/it]"
     ]
    },
    {
     "name": "stdout",
     "output_type": "stream",
     "text": [
      "[INFO] [2023-02-08 11:12:35,300] [OpenBox-SPO] Iteration 137, objective value: [0.21018319758259688].\n"
     ]
    },
    {
     "name": "stderr",
     "output_type": "stream",
     "text": [
      "\r",
      " 27%|█████████████████████▉                                                          | 137/500 [07:19<25:28,  4.21s/it]"
     ]
    },
    {
     "name": "stdout",
     "output_type": "stream",
     "text": [
      "[INFO] [2023-02-08 11:12:39,615] [OpenBox-SPO] Iteration 138, objective value: [0.035264936321217334].\n"
     ]
    },
    {
     "name": "stderr",
     "output_type": "stream",
     "text": [
      "\r",
      " 28%|██████████████████████                                                          | 138/500 [07:23<25:35,  4.24s/it]"
     ]
    },
    {
     "name": "stdout",
     "output_type": "stream",
     "text": [
      "[INFO] [2023-02-08 11:12:43,825] [OpenBox-SPO] Iteration 139, objective value: [0.1057407849281542].\n"
     ]
    },
    {
     "name": "stderr",
     "output_type": "stream",
     "text": [
      "\r",
      " 28%|██████████████████████▏                                                         | 139/500 [07:27<25:28,  4.23s/it]"
     ]
    },
    {
     "name": "stdout",
     "output_type": "stream",
     "text": [
      "[INFO] [2023-02-08 11:12:48,218] [OpenBox-SPO] Iteration 140, objective value: [0.02369327940441137].\n"
     ]
    },
    {
     "name": "stderr",
     "output_type": "stream",
     "text": [
      "\r",
      " 28%|██████████████████████▍                                                         | 140/500 [07:32<25:41,  4.28s/it]"
     ]
    },
    {
     "name": "stdout",
     "output_type": "stream",
     "text": [
      "[INFO] [2023-02-08 11:12:52,733] [OpenBox-SPO] Iteration 141, objective value: [9.193155983207372].\n"
     ]
    },
    {
     "name": "stderr",
     "output_type": "stream",
     "text": [
      "\r",
      " 28%|██████████████████████▌                                                         | 141/500 [07:36<26:02,  4.35s/it]"
     ]
    },
    {
     "name": "stdout",
     "output_type": "stream",
     "text": [
      "[INFO] [2023-02-08 11:12:56,967] [OpenBox-SPO] Iteration 142, objective value: [0.07889043078525054].\n"
     ]
    },
    {
     "name": "stderr",
     "output_type": "stream",
     "text": [
      "\r",
      " 28%|██████████████████████▋                                                         | 142/500 [07:41<25:45,  4.32s/it]"
     ]
    },
    {
     "name": "stdout",
     "output_type": "stream",
     "text": [
      "[INFO] [2023-02-08 11:13:01,300] [OpenBox-SPO] Iteration 143, objective value: [0.05096087482892364].\n"
     ]
    },
    {
     "name": "stderr",
     "output_type": "stream",
     "text": [
      "\r",
      " 29%|██████████████████████▉                                                         | 143/500 [07:45<25:42,  4.32s/it]"
     ]
    },
    {
     "name": "stdout",
     "output_type": "stream",
     "text": [
      "[INFO] [2023-02-08 11:13:05,949] [OpenBox-SPO] Iteration 144, objective value: [0.01956933491111674].\n"
     ]
    },
    {
     "name": "stderr",
     "output_type": "stream",
     "text": [
      "\r",
      " 29%|███████████████████████                                                         | 144/500 [07:49<26:13,  4.42s/it]"
     ]
    },
    {
     "name": "stdout",
     "output_type": "stream",
     "text": [
      "[INFO] [2023-02-08 11:13:10,242] [OpenBox-SPO] Iteration 145, objective value: [0.014581309650976112].\n"
     ]
    },
    {
     "name": "stderr",
     "output_type": "stream",
     "text": [
      "\r",
      " 29%|███████████████████████▏                                                        | 145/500 [07:54<25:55,  4.38s/it]"
     ]
    },
    {
     "name": "stdout",
     "output_type": "stream",
     "text": [
      "[INFO] [2023-02-08 11:13:15,141] [OpenBox-SPO] Iteration 146, objective value: [0.14744865310054947].\n"
     ]
    },
    {
     "name": "stderr",
     "output_type": "stream",
     "text": [
      "\r",
      " 29%|███████████████████████▎                                                        | 146/500 [07:59<26:46,  4.54s/it]"
     ]
    },
    {
     "name": "stdout",
     "output_type": "stream",
     "text": [
      "[INFO] [2023-02-08 11:13:19,831] [OpenBox-SPO] Iteration 147, objective value: [9.000064306724383].\n"
     ]
    },
    {
     "name": "stderr",
     "output_type": "stream",
     "text": [
      "\r",
      " 29%|███████████████████████▌                                                        | 147/500 [08:03<26:57,  4.58s/it]"
     ]
    },
    {
     "name": "stdout",
     "output_type": "stream",
     "text": [
      "[INFO] [2023-02-08 11:13:24,874] [OpenBox-SPO] Iteration 148, objective value: [0.0520698202824173].\n"
     ]
    },
    {
     "name": "stderr",
     "output_type": "stream",
     "text": [
      "\r",
      " 30%|███████████████████████▋                                                        | 148/500 [08:08<27:41,  4.72s/it]"
     ]
    },
    {
     "name": "stdout",
     "output_type": "stream",
     "text": [
      "[INFO] [2023-02-08 11:13:29,645] [OpenBox-SPO] Iteration 149, objective value: [0.020802772669691078].\n"
     ]
    },
    {
     "name": "stderr",
     "output_type": "stream",
     "text": [
      "\r",
      " 30%|███████████████████████▊                                                        | 149/500 [08:13<27:42,  4.74s/it]"
     ]
    },
    {
     "name": "stdout",
     "output_type": "stream",
     "text": [
      "[INFO] [2023-02-08 11:13:35,134] [OpenBox-SPO] Iteration 150, objective value: [0.0764192646738908].\n"
     ]
    },
    {
     "name": "stderr",
     "output_type": "stream",
     "text": [
      "\r",
      " 30%|████████████████████████                                                        | 150/500 [08:19<28:56,  4.96s/it]"
     ]
    },
    {
     "name": "stdout",
     "output_type": "stream",
     "text": [
      "[INFO] [2023-02-08 11:13:40,583] [OpenBox-SPO] Iteration 151, objective value: [0.005695564074473821].\n"
     ]
    },
    {
     "name": "stderr",
     "output_type": "stream",
     "text": [
      "\r",
      " 30%|████████████████████████▏                                                       | 151/500 [08:24<29:42,  5.11s/it]"
     ]
    },
    {
     "name": "stdout",
     "output_type": "stream",
     "text": [
      "[INFO] [2023-02-08 11:13:46,130] [OpenBox-SPO] Iteration 152, objective value: [0.0636222336861019].\n"
     ]
    },
    {
     "name": "stderr",
     "output_type": "stream",
     "text": [
      "\r",
      " 30%|████████████████████████▎                                                       | 152/500 [08:30<30:23,  5.24s/it]"
     ]
    },
    {
     "name": "stdout",
     "output_type": "stream",
     "text": [
      "[INFO] [2023-02-08 11:13:50,912] [OpenBox-SPO] Iteration 153, objective value: [0.009081986714835073].\n"
     ]
    },
    {
     "name": "stderr",
     "output_type": "stream",
     "text": [
      "\r",
      " 31%|████████████████████████▍                                                       | 153/500 [08:34<29:30,  5.10s/it]"
     ]
    },
    {
     "name": "stdout",
     "output_type": "stream",
     "text": [
      "[INFO] [2023-02-08 11:13:50,912] [Advisor] Sample random config. rand_prob=0.100000.\n",
      "[INFO] [2023-02-08 11:13:50,915] [OpenBox-SPO] Iteration 154, objective value: [0.9095150694551808].\n",
      "[INFO] [2023-02-08 11:13:56,041] [OpenBox-SPO] Iteration 155, objective value: [0.04119270493944679].\n"
     ]
    },
    {
     "name": "stderr",
     "output_type": "stream",
     "text": [
      "\r",
      " 31%|████████████████████████▊                                                       | 155/500 [08:40<22:36,  3.93s/it]"
     ]
    },
    {
     "name": "stdout",
     "output_type": "stream",
     "text": [
      "[INFO] [2023-02-08 11:14:00,663] [OpenBox-SPO] Iteration 156, objective value: [0.1789344398839471].\n"
     ]
    },
    {
     "name": "stderr",
     "output_type": "stream",
     "text": [
      "\r",
      " 31%|████████████████████████▉                                                       | 156/500 [08:44<23:31,  4.10s/it]"
     ]
    },
    {
     "name": "stdout",
     "output_type": "stream",
     "text": [
      "[INFO] [2023-02-08 11:14:00,663] [Advisor] Sample random config. rand_prob=0.100000.\n",
      "[INFO] [2023-02-08 11:14:00,672] [OpenBox-SPO] Iteration 157, objective value: [1.0323626954814125].\n",
      "[INFO] [2023-02-08 11:14:00,672] [Advisor] Sample random config. rand_prob=0.100000.\n",
      "[INFO] [2023-02-08 11:14:00,673] [OpenBox-SPO] Iteration 158, objective value: [3.251938609811835].\n",
      "[INFO] [2023-02-08 11:14:05,268] [OpenBox-SPO] Iteration 159, objective value: [0.6421555221342637].\n"
     ]
    },
    {
     "name": "stderr",
     "output_type": "stream",
     "text": [
      "\r",
      " 32%|█████████████████████████▍                                                      | 159/500 [08:49<15:47,  2.78s/it]"
     ]
    },
    {
     "name": "stdout",
     "output_type": "stream",
     "text": [
      "[INFO] [2023-02-08 11:14:05,268] [Advisor] Sample random config. rand_prob=0.100000.\n",
      "[INFO] [2023-02-08 11:14:05,276] [OpenBox-SPO] Iteration 160, objective value: [1.3932217400592302].\n",
      "[INFO] [2023-02-08 11:14:10,106] [OpenBox-SPO] Iteration 161, objective value: [0.3876714131009423].\n"
     ]
    },
    {
     "name": "stderr",
     "output_type": "stream",
     "text": [
      "\r",
      " 32%|█████████████████████████▊                                                      | 161/500 [08:54<15:02,  2.66s/it]"
     ]
    },
    {
     "name": "stdout",
     "output_type": "stream",
     "text": [
      "[INFO] [2023-02-08 11:14:15,431] [OpenBox-SPO] Iteration 162, objective value: [8.001506490962937].\n"
     ]
    },
    {
     "name": "stderr",
     "output_type": "stream",
     "text": [
      "\r",
      " 32%|█████████████████████████▉                                                      | 162/500 [08:59<17:50,  3.17s/it]"
     ]
    },
    {
     "name": "stdout",
     "output_type": "stream",
     "text": [
      "[INFO] [2023-02-08 11:14:20,850] [OpenBox-SPO] Iteration 163, objective value: [0.07005891236694356].\n"
     ]
    },
    {
     "name": "stderr",
     "output_type": "stream",
     "text": [
      "\r",
      " 33%|██████████████████████████                                                      | 163/500 [09:04<20:29,  3.65s/it]"
     ]
    },
    {
     "name": "stdout",
     "output_type": "stream",
     "text": [
      "[INFO] [2023-02-08 11:14:26,626] [OpenBox-SPO] Iteration 164, objective value: [0.09594954389546613].\n"
     ]
    },
    {
     "name": "stderr",
     "output_type": "stream",
     "text": [
      "\r",
      " 33%|██████████████████████████▏                                                     | 164/500 [09:10<23:13,  4.15s/it]"
     ]
    },
    {
     "name": "stdout",
     "output_type": "stream",
     "text": [
      "[INFO] [2023-02-08 11:14:26,626] [Advisor] Sample random config. rand_prob=0.100000.\n",
      "[INFO] [2023-02-08 11:14:26,628] [OpenBox-SPO] Iteration 165, objective value: [1.5070350526902667].\n",
      "[INFO] [2023-02-08 11:14:31,628] [OpenBox-SPO] Iteration 166, objective value: [0.39385834987977447].\n"
     ]
    },
    {
     "name": "stderr",
     "output_type": "stream",
     "text": [
      "\r",
      " 33%|██████████████████████████▌                                                     | 166/500 [09:15<19:24,  3.49s/it]"
     ]
    },
    {
     "name": "stdout",
     "output_type": "stream",
     "text": [
      "[INFO] [2023-02-08 11:14:36,980] [OpenBox-SPO] Iteration 167, objective value: [0.05500184346241601].\n"
     ]
    },
    {
     "name": "stderr",
     "output_type": "stream",
     "text": [
      "\r",
      " 33%|██████████████████████████▋                                                     | 167/500 [09:21<21:39,  3.90s/it]"
     ]
    },
    {
     "name": "stdout",
     "output_type": "stream",
     "text": [
      "[INFO] [2023-02-08 11:14:43,222] [OpenBox-SPO] Iteration 168, objective value: [0.03662678536446981].\n"
     ]
    },
    {
     "name": "stderr",
     "output_type": "stream",
     "text": [
      "\r",
      " 34%|██████████████████████████▉                                                     | 168/500 [09:27<24:42,  4.47s/it]"
     ]
    },
    {
     "name": "stdout",
     "output_type": "stream",
     "text": [
      "[INFO] [2023-02-08 11:14:48,055] [OpenBox-SPO] Iteration 169, objective value: [0.011491492680757415].\n"
     ]
    },
    {
     "name": "stderr",
     "output_type": "stream",
     "text": [
      "\r",
      " 34%|███████████████████████████                                                     | 169/500 [09:32<25:09,  4.56s/it]"
     ]
    },
    {
     "name": "stdout",
     "output_type": "stream",
     "text": [
      "[INFO] [2023-02-08 11:14:52,979] [OpenBox-SPO] Iteration 170, objective value: [0.006713583397566954].\n"
     ]
    },
    {
     "name": "stderr",
     "output_type": "stream",
     "text": [
      "\r",
      " 34%|███████████████████████████▏                                                    | 170/500 [09:37<25:37,  4.66s/it]"
     ]
    },
    {
     "name": "stdout",
     "output_type": "stream",
     "text": [
      "[INFO] [2023-02-08 11:14:58,870] [OpenBox-SPO] Iteration 171, objective value: [0.3249201841446218].\n"
     ]
    },
    {
     "name": "stderr",
     "output_type": "stream",
     "text": [
      "\r",
      " 34%|███████████████████████████▎                                                    | 171/500 [09:42<27:24,  5.00s/it]"
     ]
    },
    {
     "name": "stdout",
     "output_type": "stream",
     "text": [
      "[INFO] [2023-02-08 11:15:04,703] [OpenBox-SPO] Iteration 172, objective value: [0.058183563932594745].\n"
     ]
    },
    {
     "name": "stderr",
     "output_type": "stream",
     "text": [
      "\r",
      " 34%|███████████████████████████▌                                                    | 172/500 [09:48<28:37,  5.24s/it]"
     ]
    },
    {
     "name": "stdout",
     "output_type": "stream",
     "text": [
      "[INFO] [2023-02-08 11:15:10,511] [OpenBox-SPO] Iteration 173, objective value: [0.025179835887766188].\n"
     ]
    },
    {
     "name": "stderr",
     "output_type": "stream",
     "text": [
      "\r",
      " 35%|███████████████████████████▋                                                    | 173/500 [09:54<29:25,  5.40s/it]"
     ]
    },
    {
     "name": "stdout",
     "output_type": "stream",
     "text": [
      "[INFO] [2023-02-08 11:15:16,330] [OpenBox-SPO] Iteration 174, objective value: [0.000745154089208848].\n"
     ]
    },
    {
     "name": "stderr",
     "output_type": "stream",
     "text": [
      "\r",
      " 35%|███████████████████████████▊                                                    | 174/500 [10:00<30:00,  5.52s/it]"
     ]
    },
    {
     "name": "stdout",
     "output_type": "stream",
     "text": [
      "[INFO] [2023-02-08 11:15:22,058] [OpenBox-SPO] Iteration 175, objective value: [0.021342040789870242].\n"
     ]
    },
    {
     "name": "stderr",
     "output_type": "stream",
     "text": [
      "\r",
      " 35%|████████████████████████████                                                    | 175/500 [10:06<30:14,  5.58s/it]"
     ]
    },
    {
     "name": "stdout",
     "output_type": "stream",
     "text": [
      "[INFO] [2023-02-08 11:15:28,220] [OpenBox-SPO] Iteration 176, objective value: [0.047717900768855855].\n"
     ]
    },
    {
     "name": "stderr",
     "output_type": "stream",
     "text": [
      "\r",
      " 35%|████████████████████████████▏                                                   | 176/500 [10:12<31:04,  5.75s/it]"
     ]
    },
    {
     "name": "stdout",
     "output_type": "stream",
     "text": [
      "[INFO] [2023-02-08 11:15:34,154] [OpenBox-SPO] Iteration 177, objective value: [0.14336533521719724].\n"
     ]
    },
    {
     "name": "stderr",
     "output_type": "stream",
     "text": [
      "\r",
      " 35%|████████████████████████████▎                                                   | 177/500 [10:18<31:15,  5.81s/it]"
     ]
    },
    {
     "name": "stdout",
     "output_type": "stream",
     "text": [
      "[INFO] [2023-02-08 11:15:39,930] [OpenBox-SPO] Iteration 178, objective value: [0.02930236727036968].\n"
     ]
    },
    {
     "name": "stderr",
     "output_type": "stream",
     "text": [
      "\r",
      " 36%|████████████████████████████▍                                                   | 178/500 [10:23<31:07,  5.80s/it]"
     ]
    },
    {
     "name": "stdout",
     "output_type": "stream",
     "text": [
      "[INFO] [2023-02-08 11:15:45,741] [OpenBox-SPO] Iteration 179, objective value: [0.11616572276486148].\n"
     ]
    },
    {
     "name": "stderr",
     "output_type": "stream",
     "text": [
      "\r",
      " 36%|████████████████████████████▋                                                   | 179/500 [10:29<31:02,  5.80s/it]"
     ]
    },
    {
     "name": "stdout",
     "output_type": "stream",
     "text": [
      "[INFO] [2023-02-08 11:15:52,125] [OpenBox-SPO] Iteration 180, objective value: [0.05545561207307168].\n"
     ]
    },
    {
     "name": "stderr",
     "output_type": "stream",
     "text": [
      "\r",
      " 36%|████████████████████████████▊                                                   | 180/500 [10:36<31:52,  5.98s/it]"
     ]
    },
    {
     "name": "stdout",
     "output_type": "stream",
     "text": [
      "[INFO] [2023-02-08 11:15:57,875] [OpenBox-SPO] Iteration 181, objective value: [0.047720815654317024].\n"
     ]
    },
    {
     "name": "stderr",
     "output_type": "stream",
     "text": [
      "\r",
      " 36%|████████████████████████████▉                                                   | 181/500 [10:41<31:24,  5.91s/it]"
     ]
    },
    {
     "name": "stdout",
     "output_type": "stream",
     "text": [
      "[INFO] [2023-02-08 11:16:03,314] [OpenBox-SPO] Iteration 182, objective value: [0.042835403514245474].\n"
     ]
    },
    {
     "name": "stderr",
     "output_type": "stream",
     "text": [
      "\r",
      " 36%|█████████████████████████████                                                   | 182/500 [10:47<30:34,  5.77s/it]"
     ]
    },
    {
     "name": "stdout",
     "output_type": "stream",
     "text": [
      "[INFO] [2023-02-08 11:16:08,983] [OpenBox-SPO] Iteration 183, objective value: [7.029585842334854].\n"
     ]
    },
    {
     "name": "stderr",
     "output_type": "stream",
     "text": [
      "\r",
      " 37%|█████████████████████████████▎                                                  | 183/500 [10:53<30:19,  5.74s/it]"
     ]
    },
    {
     "name": "stdout",
     "output_type": "stream",
     "text": [
      "[INFO] [2023-02-08 11:16:15,344] [OpenBox-SPO] Iteration 184, objective value: [0.09562010656449643].\n"
     ]
    },
    {
     "name": "stderr",
     "output_type": "stream",
     "text": [
      "\r",
      " 37%|█████████████████████████████▍                                                  | 184/500 [10:59<31:12,  5.92s/it]"
     ]
    },
    {
     "name": "stdout",
     "output_type": "stream",
     "text": [
      "[INFO] [2023-02-08 11:16:21,382] [OpenBox-SPO] Iteration 185, objective value: [0.06521098722484604].\n"
     ]
    },
    {
     "name": "stderr",
     "output_type": "stream",
     "text": [
      "\r",
      " 37%|█████████████████████████████▌                                                  | 185/500 [11:05<31:17,  5.96s/it]"
     ]
    },
    {
     "name": "stdout",
     "output_type": "stream",
     "text": [
      "[INFO] [2023-02-08 11:16:27,588] [OpenBox-SPO] Iteration 186, objective value: [0.020210723718088238].\n"
     ]
    },
    {
     "name": "stderr",
     "output_type": "stream",
     "text": [
      "\r",
      " 37%|█████████████████████████████▊                                                  | 186/500 [11:11<31:34,  6.03s/it]"
     ]
    },
    {
     "name": "stdout",
     "output_type": "stream",
     "text": [
      "[INFO] [2023-02-08 11:16:33,128] [OpenBox-SPO] Iteration 187, objective value: [0.06221661995325485].\n"
     ]
    },
    {
     "name": "stderr",
     "output_type": "stream",
     "text": [
      "\r",
      " 37%|█████████████████████████████▉                                                  | 187/500 [11:17<30:42,  5.89s/it]"
     ]
    },
    {
     "name": "stdout",
     "output_type": "stream",
     "text": [
      "[INFO] [2023-02-08 11:16:38,915] [OpenBox-SPO] Iteration 188, objective value: [0.0232004788202532].\n"
     ]
    },
    {
     "name": "stderr",
     "output_type": "stream",
     "text": [
      "\r",
      " 38%|██████████████████████████████                                                  | 188/500 [11:22<30:26,  5.86s/it]"
     ]
    },
    {
     "name": "stdout",
     "output_type": "stream",
     "text": [
      "[INFO] [2023-02-08 11:16:44,424] [OpenBox-SPO] Iteration 189, objective value: [0.5354682792858323].\n"
     ]
    },
    {
     "name": "stderr",
     "output_type": "stream",
     "text": [
      "\r",
      " 38%|██████████████████████████████▏                                                 | 189/500 [11:28<29:48,  5.75s/it]"
     ]
    },
    {
     "name": "stdout",
     "output_type": "stream",
     "text": [
      "[INFO] [2023-02-08 11:16:50,883] [OpenBox-SPO] Iteration 190, objective value: [0.05779776247538773].\n"
     ]
    },
    {
     "name": "stderr",
     "output_type": "stream",
     "text": [
      "\r",
      " 38%|██████████████████████████████▍                                                 | 190/500 [11:34<30:48,  5.96s/it]"
     ]
    },
    {
     "name": "stdout",
     "output_type": "stream",
     "text": [
      "[INFO] [2023-02-08 11:16:56,884] [OpenBox-SPO] Iteration 191, objective value: [0.006846040572069284].\n"
     ]
    },
    {
     "name": "stderr",
     "output_type": "stream",
     "text": [
      "\r",
      " 38%|██████████████████████████████▌                                                 | 191/500 [11:40<30:46,  5.97s/it]"
     ]
    },
    {
     "name": "stdout",
     "output_type": "stream",
     "text": [
      "[INFO] [2023-02-08 11:17:03,760] [OpenBox-SPO] Iteration 192, objective value: [0.03613943872236027].\n"
     ]
    },
    {
     "name": "stderr",
     "output_type": "stream",
     "text": [
      "\r",
      " 38%|██████████████████████████████▋                                                 | 192/500 [11:47<32:03,  6.25s/it]"
     ]
    },
    {
     "name": "stdout",
     "output_type": "stream",
     "text": [
      "[INFO] [2023-02-08 11:17:09,790] [OpenBox-SPO] Iteration 193, objective value: [0.061325513479570916].\n"
     ]
    },
    {
     "name": "stderr",
     "output_type": "stream",
     "text": [
      "\r",
      " 39%|██████████████████████████████▉                                                 | 193/500 [11:53<31:37,  6.18s/it]"
     ]
    },
    {
     "name": "stdout",
     "output_type": "stream",
     "text": [
      "[INFO] [2023-02-08 11:17:16,269] [OpenBox-SPO] Iteration 194, objective value: [0.033328199751644826].\n"
     ]
    },
    {
     "name": "stderr",
     "output_type": "stream",
     "text": [
      "\r",
      " 39%|███████████████████████████████                                                 | 194/500 [12:00<31:58,  6.27s/it]"
     ]
    },
    {
     "name": "stdout",
     "output_type": "stream",
     "text": [
      "[INFO] [2023-02-08 11:17:22,444] [OpenBox-SPO] Iteration 195, objective value: [0.023340424738644845].\n"
     ]
    },
    {
     "name": "stderr",
     "output_type": "stream",
     "text": [
      "\r",
      " 39%|███████████████████████████████▏                                                | 195/500 [12:06<31:43,  6.24s/it]"
     ]
    },
    {
     "name": "stdout",
     "output_type": "stream",
     "text": [
      "[INFO] [2023-02-08 11:17:28,144] [OpenBox-SPO] Iteration 196, objective value: [0.06244217822242982].\n"
     ]
    },
    {
     "name": "stderr",
     "output_type": "stream",
     "text": [
      "\r",
      " 39%|███████████████████████████████▎                                                | 196/500 [12:12<30:48,  6.08s/it]"
     ]
    },
    {
     "name": "stdout",
     "output_type": "stream",
     "text": [
      "[INFO] [2023-02-08 11:17:34,941] [OpenBox-SPO] Iteration 197, objective value: [0.0768246458981793].\n"
     ]
    },
    {
     "name": "stderr",
     "output_type": "stream",
     "text": [
      "\r",
      " 39%|███████████████████████████████▌                                                | 197/500 [12:18<31:47,  6.29s/it]"
     ]
    },
    {
     "name": "stdout",
     "output_type": "stream",
     "text": [
      "[INFO] [2023-02-08 11:17:40,490] [OpenBox-SPO] Iteration 198, objective value: [0.025443226167867622].\n"
     ]
    },
    {
     "name": "stderr",
     "output_type": "stream",
     "text": [
      "\r",
      " 40%|███████████████████████████████▋                                                | 198/500 [12:24<30:33,  6.07s/it]"
     ]
    },
    {
     "name": "stdout",
     "output_type": "stream",
     "text": [
      "[INFO] [2023-02-08 11:17:47,064] [OpenBox-SPO] Iteration 199, objective value: [0.021771427763603496].\n"
     ]
    },
    {
     "name": "stderr",
     "output_type": "stream",
     "text": [
      "\r",
      " 40%|███████████████████████████████▊                                                | 199/500 [12:31<31:12,  6.22s/it]"
     ]
    },
    {
     "name": "stdout",
     "output_type": "stream",
     "text": [
      "[INFO] [2023-02-08 11:17:53,469] [OpenBox-SPO] Iteration 200, objective value: [0.04037386218702574].\n"
     ]
    },
    {
     "name": "stderr",
     "output_type": "stream",
     "text": [
      "\r",
      " 40%|████████████████████████████████                                                | 200/500 [12:37<31:23,  6.28s/it]"
     ]
    },
    {
     "name": "stdout",
     "output_type": "stream",
     "text": [
      "[INFO] [2023-02-08 11:17:59,156] [OpenBox-SPO] Iteration 201, objective value: [0.01967459096103853].\n"
     ]
    },
    {
     "name": "stderr",
     "output_type": "stream",
     "text": [
      "\r",
      " 40%|████████████████████████████████▏                                               | 201/500 [12:43<30:23,  6.10s/it]"
     ]
    },
    {
     "name": "stdout",
     "output_type": "stream",
     "text": [
      "[INFO] [2023-02-08 11:18:05,534] [OpenBox-SPO] Iteration 202, objective value: [0.08988831390912262].\n"
     ]
    },
    {
     "name": "stderr",
     "output_type": "stream",
     "text": [
      "\r",
      " 40%|████████████████████████████████▎                                               | 202/500 [12:49<30:42,  6.18s/it]"
     ]
    },
    {
     "name": "stdout",
     "output_type": "stream",
     "text": [
      "[INFO] [2023-02-08 11:18:05,534] [Advisor] Sample random config. rand_prob=0.100000.\n",
      "[INFO] [2023-02-08 11:18:05,546] [OpenBox-SPO] Iteration 203, objective value: [2.3925930154662582].\n",
      "[INFO] [2023-02-08 11:18:11,998] [OpenBox-SPO] Iteration 204, objective value: [0.13385409636606896].\n"
     ]
    },
    {
     "name": "stderr",
     "output_type": "stream",
     "text": [
      "\r",
      " 41%|████████████████████████████████▋                                               | 204/500 [12:56<23:47,  4.82s/it]"
     ]
    },
    {
     "name": "stdout",
     "output_type": "stream",
     "text": [
      "[INFO] [2023-02-08 11:18:17,748] [OpenBox-SPO] Iteration 205, objective value: [0.01643801947428343].\n"
     ]
    },
    {
     "name": "stderr",
     "output_type": "stream",
     "text": [
      "\r",
      " 41%|████████████████████████████████▊                                               | 205/500 [13:01<24:50,  5.05s/it]"
     ]
    },
    {
     "name": "stdout",
     "output_type": "stream",
     "text": [
      "[INFO] [2023-02-08 11:18:23,859] [OpenBox-SPO] Iteration 206, objective value: [0.02122367032403571].\n"
     ]
    },
    {
     "name": "stderr",
     "output_type": "stream",
     "text": [
      "\r",
      " 41%|████████████████████████████████▉                                               | 206/500 [13:07<26:06,  5.33s/it]"
     ]
    },
    {
     "name": "stdout",
     "output_type": "stream",
     "text": [
      "[INFO] [2023-02-08 11:18:30,189] [OpenBox-SPO] Iteration 207, objective value: [0.018160367834298426].\n"
     ]
    },
    {
     "name": "stderr",
     "output_type": "stream",
     "text": [
      "\r",
      " 41%|█████████████████████████████████                                               | 207/500 [13:14<27:21,  5.60s/it]"
     ]
    },
    {
     "name": "stdout",
     "output_type": "stream",
     "text": [
      "[INFO] [2023-02-08 11:18:36,620] [OpenBox-SPO] Iteration 208, objective value: [0.06679159437434419].\n"
     ]
    },
    {
     "name": "stderr",
     "output_type": "stream",
     "text": [
      "\r",
      " 42%|█████████████████████████████████▎                                              | 208/500 [13:20<28:23,  5.83s/it]"
     ]
    },
    {
     "name": "stdout",
     "output_type": "stream",
     "text": [
      "[INFO] [2023-02-08 11:18:43,165] [OpenBox-SPO] Iteration 209, objective value: [0.06504369327178738].\n"
     ]
    },
    {
     "name": "stderr",
     "output_type": "stream",
     "text": [
      "\r",
      " 42%|█████████████████████████████████▍                                              | 209/500 [13:27<29:16,  6.04s/it]"
     ]
    },
    {
     "name": "stdout",
     "output_type": "stream",
     "text": [
      "[INFO] [2023-02-08 11:18:43,165] [Advisor] Sample random config. rand_prob=0.100000.\n",
      "[INFO] [2023-02-08 11:18:43,180] [OpenBox-SPO] Iteration 210, objective value: [1.2149617082788566].\n",
      "[INFO] [2023-02-08 11:18:49,581] [OpenBox-SPO] Iteration 211, objective value: [0.028823707105612256].\n"
     ]
    },
    {
     "name": "stderr",
     "output_type": "stream",
     "text": [
      "\r",
      " 42%|█████████████████████████████████▊                                              | 211/500 [13:33<22:57,  4.77s/it]"
     ]
    },
    {
     "name": "stdout",
     "output_type": "stream",
     "text": [
      "[INFO] [2023-02-08 11:18:56,127] [OpenBox-SPO] Iteration 212, objective value: [0.15911061954560124].\n"
     ]
    },
    {
     "name": "stderr",
     "output_type": "stream",
     "text": [
      "\r",
      " 42%|█████████████████████████████████▉                                              | 212/500 [13:40<24:57,  5.20s/it]"
     ]
    },
    {
     "name": "stdout",
     "output_type": "stream",
     "text": [
      "[INFO] [2023-02-08 11:19:02,843] [OpenBox-SPO] Iteration 213, objective value: [0.16658139882269174].\n"
     ]
    },
    {
     "name": "stderr",
     "output_type": "stream",
     "text": [
      "\r",
      " 43%|██████████████████████████████████                                              | 213/500 [13:46<26:44,  5.59s/it]"
     ]
    },
    {
     "name": "stdout",
     "output_type": "stream",
     "text": [
      "[INFO] [2023-02-08 11:19:09,232] [OpenBox-SPO] Iteration 214, objective value: [0.010755906472523225].\n"
     ]
    },
    {
     "name": "stderr",
     "output_type": "stream",
     "text": [
      "\r",
      " 43%|██████████████████████████████████▏                                             | 214/500 [13:53<27:40,  5.80s/it]"
     ]
    },
    {
     "name": "stdout",
     "output_type": "stream",
     "text": [
      "[INFO] [2023-02-08 11:19:16,468] [OpenBox-SPO] Iteration 215, objective value: [0.022198300450907236].\n"
     ]
    },
    {
     "name": "stderr",
     "output_type": "stream",
     "text": [
      "\r",
      " 43%|██████████████████████████████████▍                                             | 215/500 [14:00<29:27,  6.20s/it]"
     ]
    },
    {
     "name": "stdout",
     "output_type": "stream",
     "text": [
      "[INFO] [2023-02-08 11:19:23,096] [OpenBox-SPO] Iteration 216, objective value: [0.03922146635494105].\n"
     ]
    },
    {
     "name": "stderr",
     "output_type": "stream",
     "text": [
      "\r",
      " 43%|██████████████████████████████████▌                                             | 216/500 [14:07<29:55,  6.32s/it]"
     ]
    },
    {
     "name": "stdout",
     "output_type": "stream",
     "text": [
      "[INFO] [2023-02-08 11:19:29,121] [OpenBox-SPO] Iteration 217, objective value: [0.29770824744144647].\n"
     ]
    },
    {
     "name": "stderr",
     "output_type": "stream",
     "text": [
      "\r",
      " 43%|██████████████████████████████████▋                                             | 217/500 [14:13<29:25,  6.24s/it]"
     ]
    },
    {
     "name": "stdout",
     "output_type": "stream",
     "text": [
      "[INFO] [2023-02-08 11:19:35,924] [OpenBox-SPO] Iteration 218, objective value: [0.02301473179183692].\n"
     ]
    },
    {
     "name": "stderr",
     "output_type": "stream",
     "text": [
      "\r",
      " 44%|██████████████████████████████████▉                                             | 218/500 [14:19<30:05,  6.40s/it]"
     ]
    },
    {
     "name": "stdout",
     "output_type": "stream",
     "text": [
      "[INFO] [2023-02-08 11:19:42,342] [OpenBox-SPO] Iteration 219, objective value: [0.07945979376515687].\n"
     ]
    },
    {
     "name": "stderr",
     "output_type": "stream",
     "text": [
      "\r",
      " 44%|███████████████████████████████████                                             | 219/500 [14:26<30:00,  6.41s/it]"
     ]
    },
    {
     "name": "stdout",
     "output_type": "stream",
     "text": [
      "[INFO] [2023-02-08 11:19:49,758] [OpenBox-SPO] Iteration 220, objective value: [0.01763666541519223].\n"
     ]
    },
    {
     "name": "stderr",
     "output_type": "stream",
     "text": [
      "\r",
      " 44%|███████████████████████████████████▏                                            | 220/500 [14:33<31:17,  6.71s/it]"
     ]
    },
    {
     "name": "stdout",
     "output_type": "stream",
     "text": [
      "[INFO] [2023-02-08 11:19:57,095] [OpenBox-SPO] Iteration 221, objective value: [0.02234476856719895].\n"
     ]
    },
    {
     "name": "stderr",
     "output_type": "stream",
     "text": [
      "\r",
      " 44%|███████████████████████████████████▎                                            | 221/500 [14:41<32:03,  6.89s/it]"
     ]
    },
    {
     "name": "stdout",
     "output_type": "stream",
     "text": [
      "[INFO] [2023-02-08 11:20:04,577] [OpenBox-SPO] Iteration 222, objective value: [0.1720243747276594].\n"
     ]
    },
    {
     "name": "stderr",
     "output_type": "stream",
     "text": [
      "\r",
      " 44%|███████████████████████████████████▌                                            | 222/500 [14:48<32:45,  7.07s/it]"
     ]
    },
    {
     "name": "stdout",
     "output_type": "stream",
     "text": [
      "[INFO] [2023-02-08 11:20:11,075] [OpenBox-SPO] Iteration 223, objective value: [0.03282027228424108].\n"
     ]
    },
    {
     "name": "stderr",
     "output_type": "stream",
     "text": [
      "\r",
      " 45%|███████████████████████████████████▋                                            | 223/500 [14:55<31:50,  6.90s/it]"
     ]
    },
    {
     "name": "stdout",
     "output_type": "stream",
     "text": [
      "[INFO] [2023-02-08 11:20:18,333] [OpenBox-SPO] Iteration 224, objective value: [0.03346143028535531].\n"
     ]
    },
    {
     "name": "stderr",
     "output_type": "stream",
     "text": [
      "\r",
      " 45%|███████████████████████████████████▊                                            | 224/500 [15:02<32:13,  7.01s/it]"
     ]
    },
    {
     "name": "stdout",
     "output_type": "stream",
     "text": [
      "[INFO] [2023-02-08 11:20:25,658] [OpenBox-SPO] Iteration 225, objective value: [0.04487215263711474].\n"
     ]
    },
    {
     "name": "stderr",
     "output_type": "stream",
     "text": [
      "\r",
      " 45%|████████████████████████████████████                                            | 225/500 [15:09<32:33,  7.10s/it]"
     ]
    },
    {
     "name": "stdout",
     "output_type": "stream",
     "text": [
      "[INFO] [2023-02-08 11:20:33,712] [OpenBox-SPO] Iteration 226, objective value: [0.0871248664589051].\n"
     ]
    },
    {
     "name": "stderr",
     "output_type": "stream",
     "text": [
      "\r",
      " 45%|████████████████████████████████████▏                                           | 226/500 [15:17<33:43,  7.39s/it]"
     ]
    },
    {
     "name": "stdout",
     "output_type": "stream",
     "text": [
      "[INFO] [2023-02-08 11:20:41,053] [OpenBox-SPO] Iteration 227, objective value: [0.060705783673883254].\n"
     ]
    },
    {
     "name": "stderr",
     "output_type": "stream",
     "text": [
      "\r",
      " 45%|████████████████████████████████████▎                                           | 227/500 [15:25<33:32,  7.37s/it]"
     ]
    },
    {
     "name": "stdout",
     "output_type": "stream",
     "text": [
      "[INFO] [2023-02-08 11:20:48,346] [OpenBox-SPO] Iteration 228, objective value: [0.0888849899414034].\n"
     ]
    },
    {
     "name": "stderr",
     "output_type": "stream",
     "text": [
      "\r",
      " 46%|████████████████████████████████████▍                                           | 228/500 [15:32<33:18,  7.35s/it]"
     ]
    },
    {
     "name": "stdout",
     "output_type": "stream",
     "text": [
      "[INFO] [2023-02-08 11:20:55,859] [OpenBox-SPO] Iteration 229, objective value: [0.09634265392649814].\n"
     ]
    },
    {
     "name": "stderr",
     "output_type": "stream",
     "text": [
      "\r",
      " 46%|████████████████████████████████████▋                                           | 229/500 [15:39<33:24,  7.40s/it]"
     ]
    },
    {
     "name": "stdout",
     "output_type": "stream",
     "text": [
      "[INFO] [2023-02-08 11:20:55,859] [Advisor] Sample random config. rand_prob=0.100000.\n",
      "[INFO] [2023-02-08 11:20:55,869] [OpenBox-SPO] Iteration 230, objective value: [1.5979837755354498].\n",
      "[INFO] [2023-02-08 11:20:55,869] [Advisor] Sample random config. rand_prob=0.100000.\n",
      "[INFO] [2023-02-08 11:20:55,870] [OpenBox-SPO] Iteration 231, objective value: [0.803931131862696].\n",
      "[INFO] [2023-02-08 11:21:03,626] [OpenBox-SPO] Iteration 232, objective value: [0.043329673478484376].\n"
     ]
    },
    {
     "name": "stderr",
     "output_type": "stream",
     "text": [
      "\r",
      " 46%|█████████████████████████████████████                                           | 232/500 [15:47<20:57,  4.69s/it]"
     ]
    },
    {
     "name": "stdout",
     "output_type": "stream",
     "text": [
      "[INFO] [2023-02-08 11:21:10,522] [OpenBox-SPO] Iteration 233, objective value: [0.016487273118572076].\n"
     ]
    },
    {
     "name": "stderr",
     "output_type": "stream",
     "text": [
      "\r",
      " 47%|█████████████████████████████████████▎                                          | 233/500 [15:54<22:57,  5.16s/it]"
     ]
    },
    {
     "name": "stdout",
     "output_type": "stream",
     "text": [
      "[INFO] [2023-02-08 11:21:17,804] [OpenBox-SPO] Iteration 234, objective value: [0.23600670016312883].\n"
     ]
    },
    {
     "name": "stderr",
     "output_type": "stream",
     "text": [
      "\r",
      " 47%|█████████████████████████████████████▍                                          | 234/500 [16:01<25:03,  5.65s/it]"
     ]
    },
    {
     "name": "stdout",
     "output_type": "stream",
     "text": [
      "[INFO] [2023-02-08 11:21:17,804] [Advisor] Sample random config. rand_prob=0.100000.\n",
      "[INFO] [2023-02-08 11:21:17,804] [OpenBox-SPO] Iteration 235, objective value: [1.4091424607011827].\n",
      "[INFO] [2023-02-08 11:21:25,670] [OpenBox-SPO] Iteration 236, objective value: [0.07646548727878243].\n"
     ]
    },
    {
     "name": "stderr",
     "output_type": "stream",
     "text": [
      "\r",
      " 47%|█████████████████████████████████████▊                                          | 236/500 [16:09<21:51,  4.97s/it]"
     ]
    }
   ],
   "source": [
    "import SensorOptimizers.BOforBenchmarkFunctions as bo\n",
    "import numpy as np\n",
    "import pickle\n",
    "import Config as cf\n",
    "\n",
    "ws = []\n",
    "H2 = []\n",
    "\n",
    "# for i in range(1, 10):\n",
    "\n",
    "    \n",
    "print('----- Running BO with: \\n \\t - epsilon: ', cf.epsilon, \n",
    "      '\\n \\t - True optimum: \\n', cf.function.get_global_minimum(cf.function.d), \n",
    "      ' \\n \\t - initial state: ', cf.initial_state)\n",
    "\n",
    "for i in range(0, 1):\n",
    "    BO = bo.BayesianOptimization(testbed = cf.testbed,\n",
    "                                 iteration = cf.bo_iteration, \n",
    "                                 initial_state = cf.initial_state,\n",
    "                                 acquisition_function = cf.acquisition_function,\n",
    "                                 surrogate_model = cf.surrogate_model,\n",
    "                                 acq_optimizer_type = cf.acq_optimizer_type)\n",
    "\n",
    "    history, states, actions, rewards = BO.run(RLBO = False)\n",
    "\n",
    "    H2.append({'history': history, \n",
    "              'states': states, \n",
    "              'actions': actions,\n",
    "              'rewards': rewards})\n"
   ]
  },
  {
   "cell_type": "code",
   "execution_count": 13,
   "metadata": {
    "scrolled": true
   },
   "outputs": [
    {
     "name": "stdout",
     "output_type": "stream",
     "text": [
      "+------------------------------------------------+\n",
      "| Parameters              | Optimal Value        |\n",
      "+-------------------------+----------------------+\n",
      "| x0                      | 0.053228             |\n",
      "| x1                      | -0.157901            |\n",
      "| x2                      | 0.185616             |\n",
      "| x3                      | 0.209912             |\n",
      "| x4                      | -0.346377            |\n",
      "| x5                      | -0.052000            |\n",
      "| x6                      | -0.438380            |\n",
      "| x7                      | -0.198566            |\n",
      "| x8                      | 0.137108             |\n",
      "| x9                      | 0.348585             |\n",
      "+-------------------------+----------------------+\n",
      "| Optimal Objective Value | 0.011465356123712144 |\n",
      "+-------------------------+----------------------+\n",
      "| Num Configs             | 80                   |\n",
      "+-------------------------+----------------------+\n",
      "\n",
      "+-------------------------------------------------+\n",
      "| Parameters              | Optimal Value         |\n",
      "+-------------------------+-----------------------+\n",
      "| x0                      | -0.044704             |\n",
      "| x1                      | 0.102955              |\n",
      "| x2                      | 0.074709              |\n",
      "| x3                      | -0.067390             |\n",
      "| x4                      | 0.157208              |\n",
      "| x5                      | -0.082083             |\n",
      "| x6                      | -0.014151             |\n",
      "| x7                      | -0.447354             |\n",
      "| x8                      | 0.280339              |\n",
      "| x9                      | -0.114360             |\n",
      "+-------------------------+-----------------------+\n",
      "| Optimal Objective Value | 0.0038579333004951023 |\n",
      "+-------------------------+-----------------------+\n",
      "| Num Configs             | 80                    |\n",
      "+-------------------------+-----------------------+\n",
      "\n",
      "+------------------------------------------------+\n",
      "| Parameters              | Optimal Value        |\n",
      "+-------------------------+----------------------+\n",
      "| x0                      | -0.017683            |\n",
      "| x1                      | 0.127983             |\n",
      "| x2                      | -0.227074            |\n",
      "| x3                      | -0.257718            |\n",
      "| x4                      | -0.277078            |\n",
      "| x5                      | -0.101231            |\n",
      "| x6                      | -0.422897            |\n",
      "| x7                      | 0.384023             |\n",
      "| x8                      | -0.058054            |\n",
      "| x9                      | -0.148798            |\n",
      "+-------------------------+----------------------+\n",
      "| Optimal Objective Value | 0.007861838841305951 |\n",
      "+-------------------------+----------------------+\n",
      "| Num Configs             | 80                   |\n",
      "+-------------------------+----------------------+\n",
      "\n",
      "+------------------------------------------------+\n",
      "| Parameters              | Optimal Value        |\n",
      "+-------------------------+----------------------+\n",
      "| x0                      | -0.029835            |\n",
      "| x1                      | 0.067089             |\n",
      "| x2                      | 0.266245             |\n",
      "| x3                      | -0.022535            |\n",
      "| x4                      | 0.029941             |\n",
      "| x5                      | -0.251712            |\n",
      "| x6                      | -0.269072            |\n",
      "| x7                      | 0.441420             |\n",
      "| x8                      | 0.542297             |\n",
      "| x9                      | -0.174134            |\n",
      "+-------------------------+----------------------+\n",
      "| Optimal Objective Value | 0.009144550703481268 |\n",
      "+-------------------------+----------------------+\n",
      "| Num Configs             | 80                   |\n",
      "+-------------------------+----------------------+\n",
      "\n",
      "+------------------------------------------------+\n",
      "| Parameters              | Optimal Value        |\n",
      "+-------------------------+----------------------+\n",
      "| x0                      | -0.011378            |\n",
      "| x1                      | 0.097693             |\n",
      "| x2                      | -0.148398            |\n",
      "| x3                      | -0.015306            |\n",
      "| x4                      | -0.077828            |\n",
      "| x5                      | -0.443054            |\n",
      "| x6                      | 0.236188             |\n",
      "| x7                      | 0.190471             |\n",
      "| x8                      | -0.443908            |\n",
      "| x9                      | 0.422413             |\n",
      "+-------------------------+----------------------+\n",
      "| Optimal Objective Value | 0.005281721191839092 |\n",
      "+-------------------------+----------------------+\n",
      "| Num Configs             | 80                   |\n",
      "+-------------------------+----------------------+\n",
      "\n",
      "+-----------------------------------------------+\n",
      "| Parameters              | Optimal Value       |\n",
      "+-------------------------+---------------------+\n",
      "| x0                      | -0.044606           |\n",
      "| x1                      | -0.016982           |\n",
      "| x2                      | -0.295802           |\n",
      "| x3                      | -0.216987           |\n",
      "| x4                      | 0.002745            |\n",
      "| x5                      | 0.167003            |\n",
      "| x6                      | 0.631298            |\n",
      "| x7                      | 0.124572            |\n",
      "| x8                      | -0.161380           |\n",
      "| x9                      | 0.160890            |\n",
      "+-------------------------+---------------------+\n",
      "| Optimal Objective Value | 0.03536273646519097 |\n",
      "+-------------------------+---------------------+\n",
      "| Num Configs             | 80                  |\n",
      "+-------------------------+---------------------+\n",
      "\n",
      "+------------------------------------------------+\n",
      "| Parameters              | Optimal Value        |\n",
      "+-------------------------+----------------------+\n",
      "| x0                      | 0.048580             |\n",
      "| x1                      | 0.207363             |\n",
      "| x2                      | -0.103502            |\n",
      "| x3                      | -0.297247            |\n",
      "| x4                      | 0.292802             |\n",
      "| x5                      | -0.109672            |\n",
      "| x6                      | 0.224694             |\n",
      "| x7                      | 0.212713             |\n",
      "| x8                      | 0.326329             |\n",
      "| x9                      | -0.481827            |\n",
      "+-------------------------+----------------------+\n",
      "| Optimal Objective Value | 0.014688082223486327 |\n",
      "+-------------------------+----------------------+\n",
      "| Num Configs             | 80                   |\n",
      "+-------------------------+----------------------+\n",
      "\n",
      "+-------------------------------------------------+\n",
      "| Parameters              | Optimal Value         |\n",
      "+-------------------------+-----------------------+\n",
      "| x0                      | -0.008273             |\n",
      "| x1                      | -0.005380             |\n",
      "| x2                      | -0.099100             |\n",
      "| x3                      | 0.014631              |\n",
      "| x4                      | -0.007721             |\n",
      "| x5                      | -0.395936             |\n",
      "| x6                      | -0.228990             |\n",
      "| x7                      | 0.065535              |\n",
      "| x8                      | -0.350892             |\n",
      "| x9                      | 0.338384              |\n",
      "+-------------------------+-----------------------+\n",
      "| Optimal Objective Value | 0.0017329271849600445 |\n",
      "+-------------------------+-----------------------+\n",
      "| Num Configs             | 80                    |\n",
      "+-------------------------+-----------------------+\n",
      "\n",
      "+------------------------------------------------+\n",
      "| Parameters              | Optimal Value        |\n",
      "+-------------------------+----------------------+\n",
      "| x0                      | 0.001223             |\n",
      "| x1                      | 0.106733             |\n",
      "| x2                      | -0.029385            |\n",
      "| x3                      | 0.204473             |\n",
      "| x4                      | -0.323355            |\n",
      "| x5                      | -0.386783            |\n",
      "| x6                      | 0.212413             |\n",
      "| x7                      | 0.162069             |\n",
      "| x8                      | -0.267043            |\n",
      "| x9                      | 0.070191             |\n",
      "+-------------------------+----------------------+\n",
      "| Optimal Objective Value | 0.004019725097586626 |\n",
      "+-------------------------+----------------------+\n",
      "| Num Configs             | 80                   |\n",
      "+-------------------------+----------------------+\n",
      "\n",
      "+------------------------------------------------+\n",
      "| Parameters              | Optimal Value        |\n",
      "+-------------------------+----------------------+\n",
      "| x0                      | -0.034302            |\n",
      "| x1                      | -0.072288            |\n",
      "| x2                      | 0.146834             |\n",
      "| x3                      | -0.219825            |\n",
      "| x4                      | -0.406446            |\n",
      "| x5                      | -0.168662            |\n",
      "| x6                      | 0.187180             |\n",
      "| x7                      | 0.286164             |\n",
      "| x8                      | 0.347945             |\n",
      "| x9                      | -0.014884            |\n",
      "+-------------------------+----------------------+\n",
      "| Optimal Objective Value | 0.007085139647870496 |\n",
      "+-------------------------+----------------------+\n",
      "| Num Configs             | 80                   |\n",
      "+-------------------------+----------------------+\n",
      "\n",
      "+------------------------------------------------+\n",
      "| Parameters              | Optimal Value        |\n",
      "+-------------------------+----------------------+\n",
      "| x0                      | -0.007806            |\n",
      "| x1                      | 0.107470             |\n",
      "| x2                      | 0.136723             |\n",
      "| x3                      | -0.105137            |\n",
      "| x4                      | 0.420818             |\n",
      "| x5                      | 0.174391             |\n",
      "| x6                      | 0.093352             |\n",
      "| x7                      | -0.001401            |\n",
      "| x8                      | 0.314634             |\n",
      "| x9                      | 0.494623             |\n",
      "+-------------------------+----------------------+\n",
      "| Optimal Objective Value | 0.007665903783919847 |\n",
      "+-------------------------+----------------------+\n",
      "| Num Configs             | 80                   |\n",
      "+-------------------------+----------------------+\n",
      "\n",
      "+------------------------------------------------+\n",
      "| Parameters              | Optimal Value        |\n",
      "+-------------------------+----------------------+\n",
      "| x0                      | -0.051368            |\n",
      "| x1                      | 0.053213             |\n",
      "| x2                      | -0.270850            |\n",
      "| x3                      | 0.075003             |\n",
      "| x4                      | -0.176953            |\n",
      "| x5                      | -0.030903            |\n",
      "| x6                      | 0.018530             |\n",
      "| x7                      | 0.358105             |\n",
      "| x8                      | 0.159791             |\n",
      "| x9                      | -0.146288            |\n",
      "+-------------------------+----------------------+\n",
      "| Optimal Objective Value | 0.008300892329087026 |\n",
      "+-------------------------+----------------------+\n",
      "| Num Configs             | 80                   |\n",
      "+-------------------------+----------------------+\n",
      "\n",
      "+-------------------------------------------------+\n",
      "| Parameters              | Optimal Value         |\n",
      "+-------------------------+-----------------------+\n",
      "| x0                      | -0.029193             |\n",
      "| x1                      | 0.102200              |\n",
      "| x2                      | -0.039585             |\n",
      "| x3                      | -0.210714             |\n",
      "| x4                      | 0.131402              |\n",
      "| x5                      | -0.134613             |\n",
      "| x6                      | 0.328586              |\n",
      "| x7                      | 0.062560              |\n",
      "| x8                      | 0.409013              |\n",
      "| x9                      | 0.144237              |\n",
      "+-------------------------+-----------------------+\n",
      "| Optimal Objective Value | 0.0026104056144820647 |\n",
      "+-------------------------+-----------------------+\n",
      "| Num Configs             | 80                    |\n",
      "+-------------------------+-----------------------+\n",
      "\n",
      "+------------------------------------------------+\n",
      "| Parameters              | Optimal Value        |\n",
      "+-------------------------+----------------------+\n",
      "| x0                      | -0.050911            |\n",
      "| x1                      | 0.035849             |\n",
      "| x2                      | -0.236621            |\n",
      "| x3                      | 0.249217             |\n",
      "| x4                      | -0.059610            |\n",
      "| x5                      | 0.346119             |\n",
      "| x6                      | -0.452408            |\n",
      "| x7                      | -0.257337            |\n",
      "| x8                      | -0.183776            |\n",
      "| x9                      | -0.214515            |\n",
      "+-------------------------+----------------------+\n",
      "| Optimal Objective Value | 0.009089225101609318 |\n",
      "+-------------------------+----------------------+\n",
      "| Num Configs             | 80                   |\n",
      "+-------------------------+----------------------+\n",
      "\n",
      "+------------------------------------------------+\n",
      "| Parameters              | Optimal Value        |\n",
      "+-------------------------+----------------------+\n",
      "| x0                      | -0.052750            |\n",
      "| x1                      | 0.096740             |\n",
      "| x2                      | 0.031880             |\n",
      "| x3                      | -0.148913            |\n",
      "| x4                      | -0.104976            |\n",
      "| x5                      | 0.105242             |\n",
      "| x6                      | 0.152242             |\n",
      "| x7                      | -0.373032            |\n",
      "| x8                      | -0.309191            |\n",
      "| x9                      | 0.167370             |\n",
      "+-------------------------+----------------------+\n",
      "| Optimal Objective Value | 0.003911770021552155 |\n",
      "+-------------------------+----------------------+\n",
      "| Num Configs             | 80                   |\n",
      "+-------------------------+----------------------+\n",
      "\n",
      "+------------------------------------------------+\n",
      "| Parameters              | Optimal Value        |\n",
      "+-------------------------+----------------------+\n",
      "| x0                      | -0.071617            |\n",
      "| x1                      | 0.010036             |\n",
      "| x2                      | -0.109073            |\n",
      "| x3                      | -0.069579            |\n",
      "| x4                      | -0.118151            |\n",
      "| x5                      | -0.113743            |\n",
      "| x6                      | -0.183558            |\n",
      "| x7                      | -0.102363            |\n",
      "| x8                      | -0.044894            |\n",
      "| x9                      | 0.390079             |\n",
      "+-------------------------+----------------------+\n",
      "| Optimal Objective Value | 0.005309226734975909 |\n",
      "+-------------------------+----------------------+\n",
      "| Num Configs             | 80                   |\n",
      "+-------------------------+----------------------+\n",
      "\n",
      "+-------------------------------------------------+\n",
      "| Parameters              | Optimal Value         |\n",
      "+-------------------------+-----------------------+\n",
      "| x0                      | -0.028417             |\n",
      "| x1                      | -0.026130             |\n",
      "| x2                      | 0.085136              |\n",
      "| x3                      | -0.252335             |\n",
      "| x4                      | 0.013448              |\n",
      "| x5                      | -0.151988             |\n",
      "| x6                      | 0.484748              |\n",
      "| x7                      | -0.250406             |\n",
      "| x8                      | 0.011701              |\n",
      "| x9                      | 0.249899              |\n",
      "+-------------------------+-----------------------+\n",
      "| Optimal Objective Value | 0.0049557076723827555 |\n",
      "+-------------------------+-----------------------+\n",
      "| Num Configs             | 80                    |\n",
      "+-------------------------+-----------------------+\n",
      "\n",
      "+-------------------------------------------------+\n",
      "| Parameters              | Optimal Value         |\n",
      "+-------------------------+-----------------------+\n",
      "| x0                      | -0.046859             |\n",
      "| x1                      | 0.018323              |\n",
      "| x2                      | -0.082384             |\n",
      "| x3                      | 0.107907              |\n",
      "| x4                      | -0.046488             |\n",
      "| x5                      | -0.063656             |\n",
      "| x6                      | 0.255692              |\n",
      "| x7                      | 0.209934              |\n",
      "| x8                      | -0.197571             |\n",
      "| x9                      | 0.080725              |\n",
      "+-------------------------+-----------------------+\n",
      "| Optimal Objective Value | 0.0022818160376497265 |\n",
      "+-------------------------+-----------------------+\n",
      "| Num Configs             | 80                    |\n",
      "+-------------------------+-----------------------+\n",
      "\n",
      "+------------------------------------------------+\n",
      "| Parameters              | Optimal Value        |\n",
      "+-------------------------+----------------------+\n",
      "| x0                      | 0.051506             |\n",
      "| x1                      | -0.169498            |\n",
      "| x2                      | 0.316684             |\n",
      "| x3                      | -0.185531            |\n",
      "| x4                      | -0.152408            |\n",
      "| x5                      | -0.045316            |\n",
      "| x6                      | 0.271525             |\n",
      "| x7                      | -0.369491            |\n",
      "| x8                      | -0.147943            |\n",
      "| x9                      | -0.363710            |\n",
      "+-------------------------+----------------------+\n",
      "| Optimal Objective Value | 0.017985352429741953 |\n",
      "+-------------------------+----------------------+\n",
      "| Num Configs             | 80                   |\n",
      "+-------------------------+----------------------+\n",
      "\n"
     ]
    },
    {
     "data": {
      "image/png": "[encoded data removed]",
      "text/plain": [
       "<Figure size 432x288 with 1 Axes>"
      ]
     },
     "metadata": {
      "needs_background": "light"
     },
     "output_type": "display_data"
    }
   ],
   "source": [
    "import matplotlib.pyplot as plt\n",
    "for h in H:\n",
    "    h['history'].plot_convergence()\n",
    "    print(h['history'])\n",
    "    # plt.show()"
   ]
  },
  {
   "cell_type": "code",
   "execution_count": 14,
   "metadata": {},
   "outputs": [
    {
     "data": {
      "text/plain": [
       "[1.192380770301013,\n",
       " 4.228008824809274,\n",
       " 3.3393144996159965,\n",
       " 1.1926391293470744,\n",
       " 0.08113011286090258,\n",
       " 0.9332588376461762,\n",
       " 1.9308075800696083,\n",
       " 0.07811258599852372,\n",
       " 0.3506740078149287,\n",
       " 0.613850783208953,\n",
       " 0.11281834806398654,\n",
       " 0.059514655799239216,\n",
       " 0.07757934910063856,\n",
       " 7.851230184235557,\n",
       " 0.5578103402361069,\n",
       " 2.2285080083746807,\n",
       " 2.284121342692906,\n",
       " 6.007899502743546,\n",
       " 0.04472748476447938,\n",
       " 0.08596873803643905,\n",
       " 0.017985352429741953,\n",
       " 0.02380371546443375,\n",
       " 0.03915565390475346,\n",
       " 0.02002786949732245,\n",
       " 6.359515671586572,\n",
       " 0.09673082569785559,\n",
       " 3.822861925742708,\n",
       " 4.776995941783108,\n",
       " 0.0842538590456369,\n",
       " 5.3442035048341445,\n",
       " 3.0456149766532374,\n",
       " 4.299276563343766,\n",
       " 3.420448871134463,\n",
       " 1.5420909776263108,\n",
       " 0.7561065998430261,\n",
       " 0.0611714939221785,\n",
       " 1.4744131992954363,\n",
       " 0.09201413452596127,\n",
       " 0.05856040468703163,\n",
       " 0.07079261140617749,\n",
       " 0.036028105212251,\n",
       " 2.3991844250181216,\n",
       " 1.9433998154260568,\n",
       " 0.6523656114758263,\n",
       " 1.081125068793344,\n",
       " 0.03398760429980081,\n",
       " 0.03366009295259889,\n",
       " 0.018776999252549956,\n",
       " 5.972821236761748,\n",
       " 0.026814980300975778,\n",
       " 0.32077865186184606,\n",
       " 8.566267393895847,\n",
       " 2.949505489462348,\n",
       " 0.4356978814243936,\n",
       " 0.03059873618605074,\n",
       " 2.133719656264679,\n",
       " 0.05541085562842767,\n",
       " 9.855210068171033,\n",
       " 0.9618837793250425,\n",
       " 1.5225104971258794,\n",
       " 0.12843046128429966,\n",
       " 0.05552216834937469,\n",
       " 0.09162620719657041,\n",
       " 0.034498764267174936,\n",
       " 7.5493755548125945,\n",
       " 0.4503923115653039,\n",
       " 0.040892967174790004,\n",
       " 0.04047812663863064,\n",
       " 8.832917711791447,\n",
       " 0.09932898102859318,\n",
       " 0.0899859349379785,\n",
       " 8.197656831532665,\n",
       " 0.04797101991413019,\n",
       " 0.46733147983038226,\n",
       " 0.43326392954625986,\n",
       " 0.10554423873661425,\n",
       " 0.5673613714015147,\n",
       " 7.261425036642327,\n",
       " 0.03708812056349152,\n",
       " 8.38905434251287]"
      ]
     },
     "execution_count": 14,
     "metadata": {},
     "output_type": "execute_result"
    }
   ],
   "source": [
    "h['history'].perfs"
   ]
  },
  {
   "cell_type": "code",
   "execution_count": null,
   "metadata": {},
   "outputs": [],
   "source": []
  },
  {
   "cell_type": "code",
   "execution_count": null,
   "metadata": {},
   "outputs": [],
   "source": []
  }
 ],
 "metadata": {
  "kernelspec": {
   "display_name": "Python 3 (ipykernel)",
   "language": "python",
   "name": "python3"
  },
  "language_info": {
   "codemirror_mode": {
    "name": "ipython",
    "version": 3
   },
   "file_extension": ".py",
   "mimetype": "text/x-python",
   "name": "python",
   "nbconvert_exporter": "python",
   "pygments_lexer": "ipython3",
   "version": "3.9.12"
  },
  "vscode": {
   "interpreter": {
    "hash": "aee8b7b246df8f9039afb4144a1f6fd8d2ca17a180786b69acc140d282b71a49"
   }
  }
 },
 "nbformat": 4,
 "nbformat_minor": 4
}
