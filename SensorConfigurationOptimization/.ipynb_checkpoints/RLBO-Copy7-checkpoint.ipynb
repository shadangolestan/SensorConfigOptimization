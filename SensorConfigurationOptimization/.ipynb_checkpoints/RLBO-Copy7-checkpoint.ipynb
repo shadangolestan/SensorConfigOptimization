{
 "cells": [
  {
   "cell_type": "code",
   "execution_count": 1,
   "metadata": {},
   "outputs": [],
   "source": [
    "# This is running RLABO with multiple sensor types"
   ]
  },
  {
   "cell_type": "code",
   "execution_count": 2,
   "metadata": {},
   "outputs": [
    {
     "name": "stdout",
     "output_type": "stream",
     "text": [
      "kg\n",
      "0\n"
     ]
    }
   ],
   "source": [
    "import Config as cf\n",
    "print(cf.acquisition_function)\n",
    "\n",
    "print(len(cf.performance))"
   ]
  },
  {
   "cell_type": "code",
   "execution_count": null,
   "metadata": {
    "scrolled": true
   },
   "outputs": [
    {
     "name": "stdout",
     "output_type": "stream",
     "text": [
      "----- Running BO with: \n",
      " \t - epsilon:  1 \n",
      " \t - LS sensors #: 9 \n",
      " \t - IS sensors #: 0  \n",
      " \t - initial state:  random\n",
      "Processing Region of Similarity... [COMPLETED]\n",
      "adviser type is default...\n",
      "[INFO] [2023-02-27 20:30:41,806] [Advisor] === [BO auto selection] === acq_optimizer_type: local_random.\n",
      "[Build Surrogate] Use probabilistic random forest based on scikit-learn. For better performance, please install pyrfr: https://open-box.readthedocs.io/en/latest/installation/install_pyrfr.html\n"
     ]
    },
    {
     "name": "stderr",
     "output_type": "stream",
     "text": [
      "\r",
      "  0%|                                                                                         | 0/1000 [00:00<?, ?it/s]"
     ]
    },
    {
     "name": "stdout",
     "output_type": "stream",
     "text": [
      "[INFO] [2023-02-27 20:31:19,272] [OpenBox-SPO] Iteration 1, objective value: [42.490416673043605].\n"
     ]
    },
    {
     "name": "stderr",
     "output_type": "stream",
     "text": [
      "\r",
      "  0%|                                                                              | 1/1000 [00:37<10:23:41, 37.46s/it]"
     ]
    },
    {
     "name": "stdout",
     "output_type": "stream",
     "text": [
      "\t ----- reward: -42.490416673043605 for f_star and f_minus: 100 , 42.490416673043605\n",
      "\t ---------- State is:  (5, 100)\n",
      "[INFO] [2023-02-27 20:31:53,540] [OpenBox-SPO] Iteration 2, objective value: [45.18635479789841].\n"
     ]
    },
    {
     "name": "stderr",
     "output_type": "stream",
     "text": [
      "\r",
      "  0%|▏                                                                              | 2/1000 [01:11<9:51:50, 35.58s/it]"
     ]
    },
    {
     "name": "stdout",
     "output_type": "stream",
     "text": [
      "\t ----- reward: -45.18635479789841 for f_star and f_minus: 100 , 45.18635479789841\n",
      "\t ---------- State is:  (5, 100)\n",
      "[INFO] [2023-02-27 20:32:24,424] [OpenBox-SPO] Iteration 3, objective value: [58.57613069283404].\n"
     ]
    },
    {
     "name": "stderr",
     "output_type": "stream",
     "text": [
      "\r",
      "  0%|▏                                                                              | 3/1000 [01:42<9:15:36, 33.44s/it]"
     ]
    },
    {
     "name": "stdout",
     "output_type": "stream",
     "text": [
      "\t ----- reward: -58.57613069283404 for f_star and f_minus: 100 , 58.57613069283404\n",
      "\t ---------- State is:  (6, 100)\n",
      "[INFO] [2023-02-27 20:33:01,325] [OpenBox-SPO] Iteration 4, objective value: [43.665273255044525].\n"
     ]
    },
    {
     "name": "stderr",
     "output_type": "stream",
     "text": [
      "\r",
      "  0%|▎                                                                              | 4/1000 [02:19<9:37:44, 34.80s/it]"
     ]
    },
    {
     "name": "stdout",
     "output_type": "stream",
     "text": [
      "\t ----- reward: -43.665273255044525 for f_star and f_minus: 42.490416673043605 , 43.665273255044525\n",
      "\t ---------- State is:  (6, 42)\n",
      "[INFO] [2023-02-27 20:33:35,583] [OpenBox-SPO] Iteration 5, objective value: [55.104715338063066].\n"
     ]
    },
    {
     "name": "stderr",
     "output_type": "stream",
     "text": [
      "\r",
      "  0%|▍                                                                              | 5/1000 [02:53<9:33:54, 34.61s/it]"
     ]
    },
    {
     "name": "stdout",
     "output_type": "stream",
     "text": [
      "\t ----- reward: -55.104715338063066 for f_star and f_minus: 42.490416673043605 , 55.104715338063066\n",
      "\t ---------- State is:  (6, 42)\n",
      "[INFO] [2023-02-27 20:34:15,935] [OpenBox-SPO] Iteration 6, objective value: [46.37680923158604].\n"
     ]
    },
    {
     "name": "stderr",
     "output_type": "stream",
     "text": [
      "\r",
      "  1%|▍                                                                             | 6/1000 [03:34<10:05:41, 36.56s/it]"
     ]
    },
    {
     "name": "stdout",
     "output_type": "stream",
     "text": [
      "\t ----- reward: -46.37680923158604 for f_star and f_minus: 42.490416673043605 , 46.37680923158604\n",
      "\t ---------- State is:  (6, 42)\n",
      "[INFO] [2023-02-27 20:34:53,778] [OpenBox-SPO] Iteration 7, objective value: [56.119024016694944].\n"
     ]
    },
    {
     "name": "stderr",
     "output_type": "stream",
     "text": [
      "\r",
      "  1%|▌                                                                             | 7/1000 [04:11<10:12:01, 36.98s/it]"
     ]
    },
    {
     "name": "stdout",
     "output_type": "stream",
     "text": [
      "\t ----- reward: -56.119024016694944 for f_star and f_minus: 42.490416673043605 , 56.119024016694944\n",
      "\t ---------- State is:  (6, 42)\n",
      "[INFO] [2023-02-27 20:35:30,196] [OpenBox-SPO] Iteration 8, objective value: [47.86953650074739].\n"
     ]
    },
    {
     "name": "stderr",
     "output_type": "stream",
     "text": [
      "\r",
      "  1%|▌                                                                             | 8/1000 [04:48<10:08:26, 36.80s/it]"
     ]
    },
    {
     "name": "stdout",
     "output_type": "stream",
     "text": [
      "\t ----- reward: -47.86953650074739 for f_star and f_minus: 42.490416673043605 , 47.86953650074739\n",
      "\t ---------- State is:  (6, 42)\n",
      "[INFO] [2023-02-27 20:35:30,197] [Advisor] Sample random config. rand_prob=0.100000.\n",
      "[INFO] [2023-02-27 20:36:08,569] [OpenBox-SPO] Iteration 9, objective value: [53.07613989291249].\n"
     ]
    },
    {
     "name": "stderr",
     "output_type": "stream",
     "text": [
      "\r",
      "  1%|▋                                                                             | 9/1000 [05:26<10:15:56, 37.29s/it]"
     ]
    },
    {
     "name": "stdout",
     "output_type": "stream",
     "text": [
      "\t ----- reward: -53.07613989291249 for f_star and f_minus: 42.490416673043605 , 53.07613989291249\n",
      "\t ---------- State is:  (7, 42)\n",
      "[INFO] [2023-02-27 20:36:46,634] [OpenBox-SPO] Iteration 10, objective value: [47.66873684801926].\n"
     ]
    },
    {
     "name": "stderr",
     "output_type": "stream",
     "text": [
      "\r",
      "  1%|▊                                                                            | 10/1000 [06:04<10:19:15, 37.53s/it]"
     ]
    },
    {
     "name": "stdout",
     "output_type": "stream",
     "text": [
      "\t ----- reward: -47.66873684801926 for f_star and f_minus: 42.490416673043605 , 47.66873684801926\n",
      "\t ---------- State is:  (7, 42)\n",
      "[INFO] [2023-02-27 20:37:32,862] [OpenBox-SPO] Iteration 11, objective value: [52.92796512109967].\n"
     ]
    },
    {
     "name": "stderr",
     "output_type": "stream",
     "text": [
      "\r",
      "  1%|▊                                                                            | 11/1000 [06:51<11:02:30, 40.19s/it]"
     ]
    },
    {
     "name": "stdout",
     "output_type": "stream",
     "text": [
      "\t ----- reward: -52.92796512109967 for f_star and f_minus: 42.490416673043605 , 52.92796512109967\n",
      "\t ---------- State is:  (8, 7)\n",
      "[INFO] [2023-02-27 20:38:15,880] [OpenBox-SPO] Iteration 12, objective value: [46.849814619727766].\n"
     ]
    },
    {
     "name": "stderr",
     "output_type": "stream",
     "text": [
      "\r",
      "  1%|▉                                                                            | 12/1000 [07:34<11:15:59, 41.05s/it]"
     ]
    },
    {
     "name": "stdout",
     "output_type": "stream",
     "text": [
      "\t ----- reward: -46.849814619727766 for f_star and f_minus: 42.490416673043605 , 46.849814619727766\n",
      "\t ---------- State is:  (8, 7)\n",
      "[INFO] [2023-02-27 20:38:54,524] [OpenBox-SPO] Iteration 13, objective value: [48.25172115290661].\n"
     ]
    },
    {
     "name": "stderr",
     "output_type": "stream",
     "text": [
      "\r",
      "  1%|█                                                                            | 13/1000 [08:12<11:03:18, 40.32s/it]"
     ]
    },
    {
     "name": "stdout",
     "output_type": "stream",
     "text": [
      "\t ----- reward: -48.25172115290661 for f_star and f_minus: 42.490416673043605 , 48.25172115290661\n",
      "\t ---------- State is:  (7, 7)\n",
      "[INFO] [2023-02-27 20:39:31,091] [OpenBox-SPO] Iteration 14, objective value: [63.2127555039272].\n"
     ]
    },
    {
     "name": "stderr",
     "output_type": "stream",
     "text": [
      "\r",
      "  1%|█                                                                            | 14/1000 [08:49<10:43:59, 39.19s/it]"
     ]
    },
    {
     "name": "stdout",
     "output_type": "stream",
     "text": [
      "\t ----- reward: -63.2127555039272 for f_star and f_minus: 42.490416673043605 , 63.2127555039272\n",
      "\t ---------- State is:  (6, 8)\n",
      "[INFO] [2023-02-27 20:39:31,092] [Advisor] Sample random config. rand_prob=0.100000.\n",
      "[INFO] [2023-02-27 20:39:54,671] [OpenBox-SPO] Iteration 15, objective value: [66.22534353627378].\n"
     ]
    },
    {
     "name": "stderr",
     "output_type": "stream",
     "text": [
      "\r",
      "  2%|█▏                                                                            | 15/1000 [09:12<9:26:05, 34.48s/it]"
     ]
    },
    {
     "name": "stdout",
     "output_type": "stream",
     "text": [
      "\t ----- reward: -66.22534353627378 for f_star and f_minus: 42.490416673043605 , 66.22534353627378\n",
      "\t ---------- State is:  (7, 9)\n",
      "[INFO] [2023-02-27 20:39:54,672] [Advisor] Sample random config. rand_prob=0.100000.\n",
      "[INFO] [2023-02-27 20:40:26,658] [OpenBox-SPO] Iteration 16, objective value: [54.16728308679114].\n"
     ]
    },
    {
     "name": "stderr",
     "output_type": "stream",
     "text": [
      "\r",
      "  2%|█▏                                                                            | 16/1000 [09:44<9:13:12, 33.73s/it]"
     ]
    },
    {
     "name": "stdout",
     "output_type": "stream",
     "text": [
      "\t ----- reward: -54.16728308679114 for f_star and f_minus: 42.490416673043605 , 54.16728308679114\n",
      "\t ---------- State is:  (7, 9)\n",
      "[INFO] [2023-02-27 20:41:02,272] [OpenBox-SPO] Iteration 17, objective value: [52.319269868949014].\n"
     ]
    },
    {
     "name": "stderr",
     "output_type": "stream",
     "text": [
      "\r",
      "  2%|█▎                                                                            | 17/1000 [10:20<9:21:54, 34.30s/it]"
     ]
    },
    {
     "name": "stdout",
     "output_type": "stream",
     "text": [
      "\t ----- reward: -52.319269868949014 for f_star and f_minus: 42.490416673043605 , 52.319269868949014\n",
      "\t ---------- State is:  (8, 9)\n",
      "[INFO] [2023-02-27 20:41:37,227] [OpenBox-SPO] Iteration 18, objective value: [57.172242731367966].\n"
     ]
    },
    {
     "name": "stderr",
     "output_type": "stream",
     "text": [
      "\r",
      "  2%|█▍                                                                            | 18/1000 [10:55<9:24:34, 34.50s/it]"
     ]
    },
    {
     "name": "stdout",
     "output_type": "stream",
     "text": [
      "\t ----- reward: -57.172242731367966 for f_star and f_minus: 42.490416673043605 , 57.172242731367966\n",
      "\t ---------- State is:  (9, 9)\n",
      "[INFO] [2023-02-27 20:42:23,294] [OpenBox-SPO] Iteration 19, objective value: [52.892168676368826].\n"
     ]
    },
    {
     "name": "stderr",
     "output_type": "stream",
     "text": [
      "\r",
      "  2%|█▍                                                                           | 19/1000 [11:41<10:20:49, 37.97s/it]"
     ]
    },
    {
     "name": "stdout",
     "output_type": "stream",
     "text": [
      "\t ----- reward: -52.892168676368826 for f_star and f_minus: 42.490416673043605 , 52.892168676368826\n",
      "\t ---------- State is:  (8, 9)\n",
      "[INFO] [2023-02-27 20:43:03,681] [OpenBox-SPO] Iteration 20, objective value: [49.71198573352059].\n"
     ]
    },
    {
     "name": "stderr",
     "output_type": "stream",
     "text": [
      "\r",
      "  2%|█▌                                                                           | 20/1000 [12:21<10:32:01, 38.70s/it]"
     ]
    },
    {
     "name": "stdout",
     "output_type": "stream",
     "text": [
      "\t ----- reward: -49.71198573352059 for f_star and f_minus: 42.490416673043605 , 49.71198573352059\n",
      "\t ---------- State is:  (7, 9)\n",
      "[INFO] [2023-02-27 20:43:45,321] [OpenBox-SPO] Iteration 21, objective value: [55.53695439184397].\n"
     ]
    },
    {
     "name": "stderr",
     "output_type": "stream",
     "text": [
      "\r",
      "  2%|█▌                                                                           | 21/1000 [13:03<10:45:48, 39.58s/it]"
     ]
    },
    {
     "name": "stdout",
     "output_type": "stream",
     "text": [
      "\t ----- reward: -55.53695439184397 for f_star and f_minus: 42.490416673043605 , 55.53695439184397\n",
      "\t ---------- State is:  (6, 10)\n",
      "[INFO] [2023-02-27 20:44:28,316] [OpenBox-SPO] Iteration 22, objective value: [47.803046239586536].\n"
     ]
    },
    {
     "name": "stderr",
     "output_type": "stream",
     "text": [
      "\r",
      "  2%|█▋                                                                           | 22/1000 [13:46<11:01:51, 40.60s/it]"
     ]
    },
    {
     "name": "stdout",
     "output_type": "stream",
     "text": [
      "\t ----- reward: -47.803046239586536 for f_star and f_minus: 42.490416673043605 , 47.803046239586536\n",
      "\t ---------- State is:  (5, 10)\n",
      "[INFO] [2023-02-27 20:45:07,937] [OpenBox-SPO] Iteration 23, objective value: [52.97672921191307].\n"
     ]
    },
    {
     "name": "stderr",
     "output_type": "stream",
     "text": [
      "\r",
      "  2%|█▊                                                                           | 23/1000 [14:26<10:56:22, 40.31s/it]"
     ]
    },
    {
     "name": "stdout",
     "output_type": "stream",
     "text": [
      "\t ----- reward: -52.97672921191307 for f_star and f_minus: 42.490416673043605 , 52.97672921191307\n",
      "\t ---------- State is:  (4, 10)\n",
      "[INFO] [2023-02-27 20:45:50,915] [OpenBox-SPO] Iteration 24, objective value: [46.613444927903444].\n"
     ]
    },
    {
     "name": "stderr",
     "output_type": "stream",
     "text": [
      "\r",
      "  2%|█▊                                                                           | 24/1000 [15:09<11:08:43, 41.11s/it]"
     ]
    },
    {
     "name": "stdout",
     "output_type": "stream",
     "text": [
      "\t ----- reward: -46.613444927903444 for f_star and f_minus: 42.490416673043605 , 46.613444927903444\n",
      "\t ---------- State is:  (5, 10)\n",
      "[INFO] [2023-02-27 20:46:40,474] [OpenBox-SPO] Iteration 25, objective value: [50.84646552046122].\n"
     ]
    },
    {
     "name": "stderr",
     "output_type": "stream",
     "text": [
      "\r",
      "  2%|█▉                                                                           | 25/1000 [15:58<11:49:13, 43.65s/it]"
     ]
    },
    {
     "name": "stdout",
     "output_type": "stream",
     "text": [
      "\t ----- reward: -50.84646552046122 for f_star and f_minus: 42.490416673043605 , 50.84646552046122\n",
      "\t ---------- State is:  (6, 9)\n",
      "[INFO] [2023-02-27 20:47:19,377] [OpenBox-SPO] Iteration 26, objective value: [58.84587833678355].\n"
     ]
    },
    {
     "name": "stderr",
     "output_type": "stream",
     "text": [
      "\r",
      "  3%|██                                                                           | 26/1000 [16:37<11:25:24, 42.22s/it]"
     ]
    },
    {
     "name": "stdout",
     "output_type": "stream",
     "text": [
      "\t ----- reward: -58.84587833678355 for f_star and f_minus: 42.490416673043605 , 58.84587833678355\n",
      "\t ---------- State is:  (5, 10)\n",
      "[INFO] [2023-02-27 20:48:03,400] [OpenBox-SPO] Iteration 27, objective value: [50.227607719854376].\n"
     ]
    },
    {
     "name": "stderr",
     "output_type": "stream",
     "text": [
      "\r",
      "  3%|██                                                                           | 27/1000 [17:21<11:33:27, 42.76s/it]"
     ]
    },
    {
     "name": "stdout",
     "output_type": "stream",
     "text": [
      "\t ----- reward: -50.227607719854376 for f_star and f_minus: 42.490416673043605 , 50.227607719854376\n",
      "\t ---------- State is:  (4, 10)\n",
      "[INFO] [2023-02-27 20:48:43,644] [OpenBox-SPO] Iteration 28, objective value: [52.86395761052794].\n"
     ]
    },
    {
     "name": "stderr",
     "output_type": "stream",
     "text": [
      "\r",
      "  3%|██▏                                                                          | 28/1000 [18:01<11:20:30, 42.01s/it]"
     ]
    },
    {
     "name": "stdout",
     "output_type": "stream",
     "text": [
      "\t ----- reward: -52.86395761052794 for f_star and f_minus: 42.490416673043605 , 52.86395761052794\n",
      "\t ---------- State is:  (3, 10)\n",
      "[INFO] [2023-02-27 20:49:15,357] [OpenBox-SPO] Iteration 29, objective value: [59.968548483311665].\n"
     ]
    },
    {
     "name": "stderr",
     "output_type": "stream",
     "text": [
      "\r",
      "  3%|██▏                                                                          | 29/1000 [18:33<10:29:50, 38.92s/it]"
     ]
    },
    {
     "name": "stdout",
     "output_type": "stream",
     "text": [
      "\t ----- reward: -59.968548483311665 for f_star and f_minus: 42.490416673043605 , 59.968548483311665\n",
      "\t ---------- State is:  (3, 10)\n",
      "[INFO] [2023-02-27 20:49:15,358] [Advisor] Sample random config. rand_prob=0.100000.\n",
      "[INFO] [2023-02-27 20:49:51,314] [OpenBox-SPO] Iteration 30, objective value: [51.99519296809704].\n"
     ]
    },
    {
     "name": "stderr",
     "output_type": "stream",
     "text": [
      "\r",
      "  3%|██▎                                                                          | 30/1000 [19:09<10:14:49, 38.03s/it]"
     ]
    },
    {
     "name": "stdout",
     "output_type": "stream",
     "text": [
      "\t ----- reward: -51.99519296809704 for f_star and f_minus: 42.490416673043605 , 51.99519296809704\n",
      "\t ---------- State is:  (2, 11)\n",
      "[INFO] [2023-02-27 20:50:35,767] [OpenBox-SPO] Iteration 31, objective value: [54.16572071667091].\n"
     ]
    },
    {
     "name": "stderr",
     "output_type": "stream",
     "text": [
      "\r",
      "  3%|██▍                                                                          | 31/1000 [19:53<10:45:18, 39.96s/it]"
     ]
    },
    {
     "name": "stdout",
     "output_type": "stream",
     "text": [
      "\t ----- reward: -54.16572071667091 for f_star and f_minus: 42.490416673043605 , 54.16572071667091\n",
      "\t ---------- State is:  (3, 11)\n",
      "[INFO] [2023-02-27 20:51:28,172] [OpenBox-SPO] Iteration 32, objective value: [45.647808374224574].\n"
     ]
    },
    {
     "name": "stderr",
     "output_type": "stream",
     "text": [
      "\r",
      "  3%|██▍                                                                          | 32/1000 [20:46<11:44:53, 43.69s/it]"
     ]
    },
    {
     "name": "stdout",
     "output_type": "stream",
     "text": [
      "\t ----- reward: -45.647808374224574 for f_star and f_minus: 42.490416673043605 , 45.647808374224574\n",
      "\t ---------- State is:  (4, 11)\n",
      "[INFO] [2023-02-27 20:52:16,272] [OpenBox-SPO] Iteration 33, objective value: [43.90396972227393].\n"
     ]
    },
    {
     "name": "stderr",
     "output_type": "stream",
     "text": [
      "\r",
      "  3%|██▌                                                                          | 33/1000 [21:34<12:05:28, 45.01s/it]"
     ]
    },
    {
     "name": "stdout",
     "output_type": "stream",
     "text": [
      "\t ----- reward: -43.90396972227393 for f_star and f_minus: 42.490416673043605 , 43.90396972227393\n",
      "\t ---------- State is:  (5, 10)\n",
      "[INFO] [2023-02-27 20:53:04,915] [OpenBox-SPO] Iteration 34, objective value: [45.55772722041442].\n"
     ]
    },
    {
     "name": "stderr",
     "output_type": "stream",
     "text": [
      "\r",
      "  3%|██▌                                                                          | 34/1000 [22:23<12:22:15, 46.10s/it]"
     ]
    },
    {
     "name": "stdout",
     "output_type": "stream",
     "text": [
      "\t ----- reward: -45.55772722041442 for f_star and f_minus: 42.490416673043605 , 45.55772722041442\n",
      "\t ---------- State is:  (5, 9)\n",
      "[INFO] [2023-02-27 20:53:54,648] [OpenBox-SPO] Iteration 35, objective value: [55.86631043247488].\n"
     ]
    },
    {
     "name": "stderr",
     "output_type": "stream",
     "text": [
      "\r",
      "  4%|██▋                                                                          | 35/1000 [23:12<12:39:00, 47.19s/it]"
     ]
    },
    {
     "name": "stdout",
     "output_type": "stream",
     "text": [
      "\t ----- reward: -55.86631043247488 for f_star and f_minus: 42.490416673043605 , 55.86631043247488\n",
      "\t ---------- State is:  (6, 9)\n",
      "[INFO] [2023-02-27 20:54:40,143] [OpenBox-SPO] Iteration 36, objective value: [55.400509781969895].\n"
     ]
    },
    {
     "name": "stderr",
     "output_type": "stream",
     "text": [
      "\r",
      "  4%|██▊                                                                          | 36/1000 [23:58<12:30:02, 46.68s/it]"
     ]
    },
    {
     "name": "stdout",
     "output_type": "stream",
     "text": [
      "\t ----- reward: -55.400509781969895 for f_star and f_minus: 42.490416673043605 , 55.400509781969895\n",
      "\t ---------- State is:  (6, 9)\n",
      "[INFO] [2023-02-27 20:55:31,779] [OpenBox-SPO] Iteration 37, objective value: [39.74746428326381].\n"
     ]
    },
    {
     "name": "stderr",
     "output_type": "stream",
     "text": [
      "\r",
      "  4%|██▊                                                                          | 37/1000 [24:49<12:53:06, 48.17s/it]"
     ]
    },
    {
     "name": "stdout",
     "output_type": "stream",
     "text": [
      "\t ----- reward: -39.74746428326381 for f_star and f_minus: 42.490416673043605 , 39.74746428326381\n",
      "\t ---------- State is:  (6, 8)\n",
      "[INFO] [2023-02-27 20:56:16,013] [OpenBox-SPO] Iteration 38, objective value: [57.172519946544256].\n"
     ]
    },
    {
     "name": "stderr",
     "output_type": "stream",
     "text": [
      "\r",
      "  4%|██▉                                                                          | 38/1000 [25:34<12:33:22, 46.99s/it]"
     ]
    },
    {
     "name": "stdout",
     "output_type": "stream",
     "text": [
      "\t ----- reward: -57.172519946544256 for f_star and f_minus: 39.74746428326381 , 57.172519946544256\n",
      "\t ---------- State is:  (6, 11)\n",
      "[INFO] [2023-02-27 20:57:04,092] [OpenBox-SPO] Iteration 39, objective value: [48.59321810585997].\n"
     ]
    },
    {
     "name": "stderr",
     "output_type": "stream",
     "text": [
      "\r",
      "  4%|███                                                                          | 39/1000 [26:22<12:37:50, 47.32s/it]"
     ]
    },
    {
     "name": "stdout",
     "output_type": "stream",
     "text": [
      "\t ----- reward: -48.59321810585997 for f_star and f_minus: 39.74746428326381 , 48.59321810585997\n",
      "\t ---------- State is:  (6, 11)\n",
      "[INFO] [2023-02-27 20:57:53,138] [OpenBox-SPO] Iteration 40, objective value: [47.50116950261244].\n"
     ]
    },
    {
     "name": "stderr",
     "output_type": "stream",
     "text": [
      "\r",
      "  4%|███                                                                          | 40/1000 [27:11<12:45:21, 47.83s/it]"
     ]
    },
    {
     "name": "stdout",
     "output_type": "stream",
     "text": [
      "\t ----- reward: -47.50116950261244 for f_star and f_minus: 39.74746428326381 , 47.50116950261244\n",
      "\t ---------- State is:  (7, 11)\n",
      "[INFO] [2023-02-27 20:57:53,139] [Advisor] Sample random config. rand_prob=0.100000.\n",
      "[INFO] [2023-02-27 20:58:25,401] [OpenBox-SPO] Iteration 41, objective value: [57.23308841096157].\n"
     ]
    },
    {
     "name": "stderr",
     "output_type": "stream",
     "text": [
      "\r",
      "  4%|███▏                                                                         | 41/1000 [27:43<11:29:53, 43.16s/it]"
     ]
    },
    {
     "name": "stdout",
     "output_type": "stream",
     "text": [
      "\t ----- reward: -57.23308841096157 for f_star and f_minus: 39.74746428326381 , 57.23308841096157\n",
      "\t ---------- State is:  (6, 11)\n",
      "[INFO] [2023-02-27 20:59:11,910] [OpenBox-SPO] Iteration 42, objective value: [44.49840290196533].\n"
     ]
    },
    {
     "name": "stderr",
     "output_type": "stream",
     "text": [
      "\r",
      "  4%|███▏                                                                         | 42/1000 [28:30<11:45:11, 44.17s/it]"
     ]
    },
    {
     "name": "stdout",
     "output_type": "stream",
     "text": [
      "\t ----- reward: -44.49840290196533 for f_star and f_minus: 39.74746428326381 , 44.49840290196533\n",
      "\t ---------- State is:  (5, 11)\n",
      "[INFO] [2023-02-27 20:59:55,707] [OpenBox-SPO] Iteration 43, objective value: [51.98943415000432].\n"
     ]
    },
    {
     "name": "stderr",
     "output_type": "stream",
     "text": [
      "\r",
      "  4%|███▎                                                                         | 43/1000 [29:13<11:42:41, 44.06s/it]"
     ]
    },
    {
     "name": "stdout",
     "output_type": "stream",
     "text": [
      "\t ----- reward: -51.98943415000432 for f_star and f_minus: 39.74746428326381 , 51.98943415000432\n",
      "\t ---------- State is:  (5, 11)\n",
      "[INFO] [2023-02-27 21:00:37,436] [OpenBox-SPO] Iteration 44, objective value: [50.388213028001026].\n"
     ]
    },
    {
     "name": "stderr",
     "output_type": "stream",
     "text": [
      "\r",
      "  4%|███▍                                                                         | 44/1000 [29:55<11:30:49, 43.36s/it]"
     ]
    },
    {
     "name": "stdout",
     "output_type": "stream",
     "text": [
      "\t ----- reward: -50.388213028001026 for f_star and f_minus: 39.74746428326381 , 50.388213028001026\n",
      "\t ---------- State is:  (5, 11)\n",
      "[INFO] [2023-02-27 21:01:17,030] [OpenBox-SPO] Iteration 45, objective value: [52.69470098090747].\n"
     ]
    },
    {
     "name": "stderr",
     "output_type": "stream",
     "text": [
      "\r",
      "  4%|███▍                                                                         | 45/1000 [30:35<11:12:08, 42.23s/it]"
     ]
    },
    {
     "name": "stdout",
     "output_type": "stream",
     "text": [
      "\t ----- reward: -52.69470098090747 for f_star and f_minus: 39.74746428326381 , 52.69470098090747\n",
      "\t ---------- State is:  (6, 11)\n",
      "[INFO] [2023-02-27 21:01:17,031] [Advisor] Sample random config. rand_prob=0.100000.\n",
      "[INFO] [2023-02-27 21:01:53,519] [OpenBox-SPO] Iteration 46, objective value: [42.72267248205227].\n"
     ]
    },
    {
     "name": "stderr",
     "output_type": "stream",
     "text": [
      "\r",
      "  5%|███▌                                                                         | 46/1000 [31:11<10:44:03, 40.51s/it]"
     ]
    },
    {
     "name": "stdout",
     "output_type": "stream",
     "text": [
      "\t ----- reward: -42.72267248205227 for f_star and f_minus: 39.74746428326381 , 42.72267248205227\n",
      "\t ---------- State is:  (5, 10)\n",
      "[INFO] [2023-02-27 21:01:53,520] [Advisor] Sample random config. rand_prob=0.100000.\n",
      "[INFO] [2023-02-27 21:02:23,015] [OpenBox-SPO] Iteration 47, objective value: [57.99656337701865].\n"
     ]
    },
    {
     "name": "stderr",
     "output_type": "stream",
     "text": [
      "\r",
      "  5%|███▋                                                                          | 47/1000 [31:41<9:50:54, 37.20s/it]"
     ]
    },
    {
     "name": "stdout",
     "output_type": "stream",
     "text": [
      "\t ----- reward: -57.99656337701865 for f_star and f_minus: 39.74746428326381 , 57.99656337701865\n",
      "\t ---------- State is:  (5, 11)\n",
      "[INFO] [2023-02-27 21:03:02,456] [OpenBox-SPO] Iteration 48, objective value: [51.354569845701356].\n"
     ]
    },
    {
     "name": "stderr",
     "output_type": "stream",
     "text": [
      "\r",
      "  5%|███▋                                                                         | 48/1000 [32:20<10:00:56, 37.87s/it]"
     ]
    },
    {
     "name": "stdout",
     "output_type": "stream",
     "text": [
      "\t ----- reward: -51.354569845701356 for f_star and f_minus: 39.74746428326381 , 51.354569845701356\n",
      "\t ---------- State is:  (5, 10)\n",
      "[INFO] [2023-02-27 21:03:51,102] [OpenBox-SPO] Iteration 49, objective value: [64.05631489770983].\n"
     ]
    },
    {
     "name": "stderr",
     "output_type": "stream",
     "text": [
      "\r",
      "  5%|███▊                                                                         | 49/1000 [33:09<10:51:31, 41.11s/it]"
     ]
    },
    {
     "name": "stdout",
     "output_type": "stream",
     "text": [
      "\t ----- reward: -64.05631489770983 for f_star and f_minus: 39.74746428326381 , 64.05631489770983\n",
      "\t ---------- State is:  (4, 11)\n",
      "[INFO] [2023-02-27 21:04:28,943] [OpenBox-SPO] Iteration 50, objective value: [63.01528572296979].\n"
     ]
    },
    {
     "name": "stderr",
     "output_type": "stream",
     "text": [
      "\r",
      "  5%|███▊                                                                         | 50/1000 [33:47<10:35:20, 40.13s/it]"
     ]
    },
    {
     "name": "stdout",
     "output_type": "stream",
     "text": [
      "\t ----- reward: -63.01528572296979 for f_star and f_minus: 39.74746428326381 , 63.01528572296979\n",
      "\t ---------- State is:  (4, 11)\n",
      "[INFO] [2023-02-27 21:05:03,434] [OpenBox-SPO] Iteration 51, objective value: [60.12385566924661].\n"
     ]
    },
    {
     "name": "stderr",
     "output_type": "stream",
     "text": [
      "\r",
      "  5%|███▉                                                                         | 51/1000 [34:21<10:07:55, 38.44s/it]"
     ]
    },
    {
     "name": "stdout",
     "output_type": "stream",
     "text": [
      "\t ----- reward: -60.12385566924661 for f_star and f_minus: 39.74746428326381 , 60.12385566924661\n",
      "\t ---------- State is:  (4, 12)\n",
      "[INFO] [2023-02-27 21:05:50,118] [OpenBox-SPO] Iteration 52, objective value: [61.54334270684528].\n"
     ]
    },
    {
     "name": "stderr",
     "output_type": "stream",
     "text": [
      "\r",
      "  5%|████                                                                         | 52/1000 [35:08<10:46:23, 40.91s/it]"
     ]
    },
    {
     "name": "stdout",
     "output_type": "stream",
     "text": [
      "\t ----- reward: -61.54334270684528 for f_star and f_minus: 39.74746428326381 , 61.54334270684528\n",
      "\t ---------- State is:  (4, 12)\n",
      "[INFO] [2023-02-27 21:06:33,360] [OpenBox-SPO] Iteration 53, objective value: [61.20711848275951].\n"
     ]
    },
    {
     "name": "stderr",
     "output_type": "stream",
     "text": [
      "\r",
      "  5%|████                                                                         | 53/1000 [35:51<10:56:44, 41.61s/it]"
     ]
    },
    {
     "name": "stdout",
     "output_type": "stream",
     "text": [
      "\t ----- reward: -61.20711848275951 for f_star and f_minus: 39.74746428326381 , 61.20711848275951\n",
      "\t ---------- State is:  (4, 13)\n",
      "[INFO] [2023-02-27 21:07:14,990] [OpenBox-SPO] Iteration 54, objective value: [55.36263253851633].\n"
     ]
    },
    {
     "name": "stderr",
     "output_type": "stream",
     "text": [
      "\r",
      "  5%|████▏                                                                        | 54/1000 [36:33<10:56:08, 41.62s/it]"
     ]
    },
    {
     "name": "stdout",
     "output_type": "stream",
     "text": [
      "\t ----- reward: -55.36263253851633 for f_star and f_minus: 39.74746428326381 , 55.36263253851633\n",
      "\t ---------- State is:  (4, 14)\n",
      "[INFO] [2023-02-27 21:07:58,234] [OpenBox-SPO] Iteration 55, objective value: [49.17633916541953].\n"
     ]
    },
    {
     "name": "stderr",
     "output_type": "stream",
     "text": [
      "\r",
      "  6%|████▏                                                                        | 55/1000 [37:16<11:03:08, 42.10s/it]"
     ]
    },
    {
     "name": "stdout",
     "output_type": "stream",
     "text": [
      "\t ----- reward: -49.17633916541953 for f_star and f_minus: 39.74746428326381 , 49.17633916541953\n",
      "\t ---------- State is:  (5, 13)\n",
      "[INFO] [2023-02-27 21:08:43,917] [OpenBox-SPO] Iteration 56, objective value: [58.191031892532244].\n"
     ]
    },
    {
     "name": "stderr",
     "output_type": "stream",
     "text": [
      "\r",
      "  6%|████▎                                                                        | 56/1000 [38:02<11:19:20, 43.18s/it]"
     ]
    },
    {
     "name": "stdout",
     "output_type": "stream",
     "text": [
      "\t ----- reward: -58.191031892532244 for f_star and f_minus: 39.74746428326381 , 58.191031892532244\n",
      "\t ---------- State is:  (4, 13)\n",
      "[INFO] [2023-02-27 21:08:43,918] [Advisor] Sample random config. rand_prob=0.100000.\n",
      "[INFO] [2023-02-27 21:09:13,212] [OpenBox-SPO] Iteration 57, objective value: [57.141130097108736].\n"
     ]
    },
    {
     "name": "stderr",
     "output_type": "stream",
     "text": [
      "\r",
      "  6%|████▍                                                                        | 57/1000 [38:31<10:13:09, 39.01s/it]"
     ]
    },
    {
     "name": "stdout",
     "output_type": "stream",
     "text": [
      "\t ----- reward: -57.141130097108736 for f_star and f_minus: 39.74746428326381 , 57.141130097108736\n",
      "\t ---------- State is:  (3, 14)\n",
      "[INFO] [2023-02-27 21:09:57,264] [OpenBox-SPO] Iteration 58, objective value: [51.57576894493596].\n"
     ]
    },
    {
     "name": "stderr",
     "output_type": "stream",
     "text": [
      "\r",
      "  6%|████▍                                                                        | 58/1000 [39:15<10:36:14, 40.52s/it]"
     ]
    },
    {
     "name": "stdout",
     "output_type": "stream",
     "text": [
      "\t ----- reward: -51.57576894493596 for f_star and f_minus: 39.74746428326381 , 51.57576894493596\n",
      "\t ---------- State is:  (4, 14)\n",
      "[INFO] [2023-02-27 21:10:41,756] [OpenBox-SPO] Iteration 59, objective value: [43.60761428273948].\n"
     ]
    },
    {
     "name": "stderr",
     "output_type": "stream",
     "text": [
      "\r",
      "  6%|████▌                                                                        | 59/1000 [39:59<10:54:13, 41.71s/it]"
     ]
    },
    {
     "name": "stdout",
     "output_type": "stream",
     "text": [
      "\t ----- reward: -43.60761428273948 for f_star and f_minus: 39.74746428326381 , 43.60761428273948\n",
      "\t ---------- State is:  (3, 14)\n",
      "[INFO] [2023-02-27 21:11:25,166] [OpenBox-SPO] Iteration 60, objective value: [47.66795421574235].\n"
     ]
    },
    {
     "name": "stderr",
     "output_type": "stream",
     "text": [
      "\r",
      "  6%|████▌                                                                        | 60/1000 [40:43<11:01:29, 42.22s/it]"
     ]
    },
    {
     "name": "stdout",
     "output_type": "stream",
     "text": [
      "\t ----- reward: -47.66795421574235 for f_star and f_minus: 39.74746428326381 , 47.66795421574235\n",
      "\t ---------- State is:  (2, 14)\n",
      "[INFO] [2023-02-27 21:11:25,167] [Advisor] Sample random config. rand_prob=0.100000.\n",
      "[INFO] [2023-02-27 21:11:56,767] [OpenBox-SPO] Iteration 61, objective value: [59.19627796259208].\n"
     ]
    },
    {
     "name": "stderr",
     "output_type": "stream",
     "text": [
      "\r",
      "  6%|████▋                                                                        | 61/1000 [41:14<10:10:55, 39.04s/it]"
     ]
    },
    {
     "name": "stdout",
     "output_type": "stream",
     "text": [
      "\t ----- reward: -59.19627796259208 for f_star and f_minus: 39.74746428326381 , 59.19627796259208\n",
      "\t ---------- State is:  (3, 14)\n",
      "[INFO] [2023-02-27 21:12:43,335] [OpenBox-SPO] Iteration 62, objective value: [59.28190800249073].\n"
     ]
    },
    {
     "name": "stderr",
     "output_type": "stream",
     "text": [
      "\r",
      "  6%|████▊                                                                        | 62/1000 [42:01<10:45:35, 41.30s/it]"
     ]
    },
    {
     "name": "stdout",
     "output_type": "stream",
     "text": [
      "\t ----- reward: -59.28190800249073 for f_star and f_minus: 39.74746428326381 , 59.28190800249073\n",
      "\t ---------- State is:  (4, 15)\n",
      "[INFO] [2023-02-27 21:13:24,777] [OpenBox-SPO] Iteration 63, objective value: [47.62191715619287].\n"
     ]
    },
    {
     "name": "stderr",
     "output_type": "stream",
     "text": [
      "\r",
      "  6%|████▊                                                                        | 63/1000 [42:42<10:45:35, 41.34s/it]"
     ]
    },
    {
     "name": "stdout",
     "output_type": "stream",
     "text": [
      "\t ----- reward: -47.62191715619287 for f_star and f_minus: 39.74746428326381 , 47.62191715619287\n",
      "\t ---------- State is:  (5, 14)\n",
      "[INFO] [2023-02-27 21:14:10,567] [OpenBox-SPO] Iteration 64, objective value: [48.21902716414546].\n"
     ]
    },
    {
     "name": "stderr",
     "output_type": "stream",
     "text": [
      "\r",
      "  6%|████▉                                                                        | 64/1000 [43:28<11:05:43, 42.67s/it]"
     ]
    },
    {
     "name": "stdout",
     "output_type": "stream",
     "text": [
      "\t ----- reward: -48.21902716414546 for f_star and f_minus: 39.74746428326381 , 48.21902716414546\n",
      "\t ---------- State is:  (6, 14)\n",
      "[INFO] [2023-02-27 21:15:00,722] [OpenBox-SPO] Iteration 65, objective value: [46.324736754588216].\n"
     ]
    },
    {
     "name": "stderr",
     "output_type": "stream",
     "text": [
      "\r",
      "  6%|█████                                                                        | 65/1000 [44:18<11:39:59, 44.92s/it]"
     ]
    },
    {
     "name": "stdout",
     "output_type": "stream",
     "text": [
      "\t ----- reward: -46.324736754588216 for f_star and f_minus: 39.74746428326381 , 46.324736754588216\n",
      "\t ---------- State is:  (6, 14)\n",
      "[INFO] [2023-02-27 21:15:41,319] [OpenBox-SPO] Iteration 66, objective value: [59.28243219322688].\n"
     ]
    },
    {
     "name": "stderr",
     "output_type": "stream",
     "text": [
      "\r",
      "  7%|█████                                                                        | 66/1000 [44:59<11:19:03, 43.62s/it]"
     ]
    },
    {
     "name": "stdout",
     "output_type": "stream",
     "text": [
      "\t ----- reward: -59.28243219322688 for f_star and f_minus: 39.74746428326381 , 59.28243219322688\n",
      "\t ---------- State is:  (6, 15)\n",
      "[INFO] [2023-02-27 21:16:18,139] [OpenBox-SPO] Iteration 67, objective value: [54.29932537754157].\n"
     ]
    },
    {
     "name": "stderr",
     "output_type": "stream",
     "text": [
      "\r",
      "  7%|█████▏                                                                       | 67/1000 [45:36<10:46:35, 41.58s/it]"
     ]
    },
    {
     "name": "stdout",
     "output_type": "stream",
     "text": [
      "\t ----- reward: -54.29932537754157 for f_star and f_minus: 39.74746428326381 , 54.29932537754157\n",
      "\t ---------- State is:  (6, 15)\n",
      "[INFO] [2023-02-27 21:16:18,140] [Advisor] Sample random config. rand_prob=0.100000.\n",
      "[INFO] [2023-02-27 21:16:49,351] [OpenBox-SPO] Iteration 68, objective value: [52.520305720529805].\n"
     ]
    },
    {
     "name": "stderr",
     "output_type": "stream",
     "text": [
      "\r",
      "  7%|█████▎                                                                        | 68/1000 [46:07<9:57:34, 38.47s/it]"
     ]
    },
    {
     "name": "stdout",
     "output_type": "stream",
     "text": [
      "\t ----- reward: -52.520305720529805 for f_star and f_minus: 39.74746428326381 , 52.520305720529805\n",
      "\t ---------- State is:  (6, 15)\n",
      "[INFO] [2023-02-27 21:17:33,012] [OpenBox-SPO] Iteration 69, objective value: [52.002692366571644].\n"
     ]
    },
    {
     "name": "stderr",
     "output_type": "stream",
     "text": [
      "\r",
      "  7%|█████▎                                                                       | 69/1000 [46:51<10:21:05, 40.03s/it]"
     ]
    },
    {
     "name": "stdout",
     "output_type": "stream",
     "text": [
      "\t ----- reward: -52.002692366571644 for f_star and f_minus: 39.74746428326381 , 52.002692366571644\n",
      "\t ---------- State is:  (5, 14)\n",
      "[INFO] [2023-02-27 21:18:17,767] [OpenBox-SPO] Iteration 70, objective value: [48.95676024394812].\n"
     ]
    },
    {
     "name": "stderr",
     "output_type": "stream",
     "text": [
      "\r",
      "  7%|█████▍                                                                       | 70/1000 [47:35<10:42:24, 41.45s/it]"
     ]
    },
    {
     "name": "stdout",
     "output_type": "stream",
     "text": [
      "\t ----- reward: -48.95676024394812 for f_star and f_minus: 39.74746428326381 , 48.95676024394812\n",
      "\t ---------- State is:  (4, 13)\n",
      "[INFO] [2023-02-27 21:18:55,856] [OpenBox-SPO] Iteration 71, objective value: [51.11388448008009].\n"
     ]
    },
    {
     "name": "stderr",
     "output_type": "stream",
     "text": [
      "\r",
      "  7%|█████▍                                                                       | 71/1000 [48:14<10:26:07, 40.44s/it]"
     ]
    },
    {
     "name": "stdout",
     "output_type": "stream",
     "text": [
      "\t ----- reward: -51.11388448008009 for f_star and f_minus: 39.74746428326381 , 51.11388448008009\n",
      "\t ---------- State is:  (5, 13)\n",
      "[INFO] [2023-02-27 21:19:45,099] [OpenBox-SPO] Iteration 72, objective value: [56.25980458792005].\n"
     ]
    },
    {
     "name": "stderr",
     "output_type": "stream",
     "text": [
      "\r",
      "  7%|█████▌                                                                       | 72/1000 [49:03<11:06:18, 43.08s/it]"
     ]
    },
    {
     "name": "stdout",
     "output_type": "stream",
     "text": [
      "\t ----- reward: -56.25980458792005 for f_star and f_minus: 39.74746428326381 , 56.25980458792005\n",
      "\t ---------- State is:  (4, 13)\n",
      "[INFO] [2023-02-27 21:20:38,839] [OpenBox-SPO] Iteration 73, objective value: [45.51097870588159].\n"
     ]
    },
    {
     "name": "stderr",
     "output_type": "stream",
     "text": [
      "\r",
      "  7%|█████▌                                                                       | 73/1000 [49:57<11:54:59, 46.28s/it]"
     ]
    },
    {
     "name": "stdout",
     "output_type": "stream",
     "text": [
      "\t ----- reward: -45.51097870588159 for f_star and f_minus: 39.74746428326381 , 45.51097870588159\n",
      "\t ---------- State is:  (4, 12)\n",
      "[INFO] [2023-02-27 21:21:25,739] [OpenBox-SPO] Iteration 74, objective value: [54.0565369545558].\n"
     ]
    },
    {
     "name": "stderr",
     "output_type": "stream",
     "text": [
      "\r",
      "  7%|█████▋                                                                       | 74/1000 [50:43<11:57:06, 46.46s/it]"
     ]
    },
    {
     "name": "stdout",
     "output_type": "stream",
     "text": [
      "\t ----- reward: -54.0565369545558 for f_star and f_minus: 39.74746428326381 , 54.0565369545558\n",
      "\t ---------- State is:  (5, 12)\n",
      "[INFO] [2023-02-27 21:22:07,647] [OpenBox-SPO] Iteration 75, objective value: [53.92170858877415].\n"
     ]
    },
    {
     "name": "stderr",
     "output_type": "stream",
     "text": [
      "\r",
      "  8%|█████▊                                                                       | 75/1000 [51:25<11:35:15, 45.10s/it]"
     ]
    },
    {
     "name": "stdout",
     "output_type": "stream",
     "text": [
      "\t ----- reward: -53.92170858877415 for f_star and f_minus: 39.74746428326381 , 53.92170858877415\n",
      "\t ---------- State is:  (4, 12)\n",
      "[INFO] [2023-02-27 21:22:07,648] [Advisor] Sample random config. rand_prob=0.100000.\n",
      "[INFO] [2023-02-27 21:22:31,674] [OpenBox-SPO] Iteration 76, objective value: [63.57134435732868].\n"
     ]
    },
    {
     "name": "stderr",
     "output_type": "stream",
     "text": [
      "\r",
      "  8%|█████▉                                                                        | 76/1000 [51:49<9:57:09, 38.78s/it]"
     ]
    },
    {
     "name": "stdout",
     "output_type": "stream",
     "text": [
      "\t ----- reward: -63.57134435732868 for f_star and f_minus: 39.74746428326381 , 63.57134435732868\n",
      "\t ---------- State is:  (3, 12)\n",
      "[INFO] [2023-02-27 21:23:13,760] [OpenBox-SPO] Iteration 77, objective value: [46.40234396878476].\n"
     ]
    },
    {
     "name": "stderr",
     "output_type": "stream",
     "text": [
      "\r",
      "  8%|█████▉                                                                       | 77/1000 [52:31<10:11:47, 39.77s/it]"
     ]
    },
    {
     "name": "stdout",
     "output_type": "stream",
     "text": [
      "\t ----- reward: -46.40234396878476 for f_star and f_minus: 39.74746428326381 , 46.40234396878476\n",
      "\t ---------- State is:  (2, 12)\n",
      "[INFO] [2023-02-27 21:23:54,874] [OpenBox-SPO] Iteration 78, objective value: [52.01865419627211].\n"
     ]
    },
    {
     "name": "stderr",
     "output_type": "stream",
     "text": [
      "\r",
      "  8%|██████                                                                       | 78/1000 [53:13<10:17:19, 40.17s/it]"
     ]
    },
    {
     "name": "stdout",
     "output_type": "stream",
     "text": [
      "\t ----- reward: -52.01865419627211 for f_star and f_minus: 39.74746428326381 , 52.01865419627211\n",
      "\t ---------- State is:  (1, 12)\n",
      "[INFO] [2023-02-27 21:23:54,875] [Advisor] Sample random config. rand_prob=0.100000.\n",
      "[INFO] [2023-02-27 21:24:29,411] [OpenBox-SPO] Iteration 79, objective value: [50.32112716310538].\n"
     ]
    },
    {
     "name": "stderr",
     "output_type": "stream",
     "text": [
      "\r",
      "  8%|██████▏                                                                       | 79/1000 [53:47<9:50:41, 38.48s/it]"
     ]
    },
    {
     "name": "stdout",
     "output_type": "stream",
     "text": [
      "\t ----- reward: -50.32112716310538 for f_star and f_minus: 39.74746428326381 , 50.32112716310538\n",
      "\t ---------- State is:  (2, 12)\n",
      "[INFO] [2023-02-27 21:24:29,412] [Advisor] Sample random config. rand_prob=0.100000.\n",
      "[INFO] [2023-02-27 21:24:58,445] [OpenBox-SPO] Iteration 80, objective value: [56.014876468410876].\n"
     ]
    },
    {
     "name": "stderr",
     "output_type": "stream",
     "text": [
      "\r",
      "  8%|██████▏                                                                       | 80/1000 [54:16<9:06:35, 35.65s/it]"
     ]
    },
    {
     "name": "stdout",
     "output_type": "stream",
     "text": [
      "\t ----- reward: -56.014876468410876 for f_star and f_minus: 39.74746428326381 , 56.014876468410876\n",
      "\t ---------- State is:  (3, 13)\n",
      "[INFO] [2023-02-27 21:25:43,364] [OpenBox-SPO] Iteration 81, objective value: [54.27680141732276].\n"
     ]
    },
    {
     "name": "stderr",
     "output_type": "stream",
     "text": [
      "\r",
      "  8%|██████▎                                                                       | 81/1000 [55:01<9:48:36, 38.43s/it]"
     ]
    },
    {
     "name": "stdout",
     "output_type": "stream",
     "text": [
      "\t ----- reward: -54.27680141732276 for f_star and f_minus: 39.74746428326381 , 54.27680141732276\n",
      "\t ---------- State is:  (2, 12)\n",
      "[INFO] [2023-02-27 21:26:22,070] [OpenBox-SPO] Iteration 82, objective value: [47.90262321537694].\n"
     ]
    },
    {
     "name": "stderr",
     "output_type": "stream",
     "text": [
      "\r",
      "  8%|██████▍                                                                       | 82/1000 [55:40<9:49:14, 38.51s/it]"
     ]
    },
    {
     "name": "stdout",
     "output_type": "stream",
     "text": [
      "\t ----- reward: -47.90262321537694 for f_star and f_minus: 39.74746428326381 , 47.90262321537694\n",
      "\t ---------- State is:  (1, 12)\n",
      "[INFO] [2023-02-27 21:27:07,959] [OpenBox-SPO] Iteration 83, objective value: [45.40079449627395].\n"
     ]
    },
    {
     "name": "stderr",
     "output_type": "stream",
     "text": [
      "\r",
      "  8%|██████▍                                                                      | 83/1000 [56:26<10:22:25, 40.73s/it]"
     ]
    },
    {
     "name": "stdout",
     "output_type": "stream",
     "text": [
      "\t ----- reward: -45.40079449627395 for f_star and f_minus: 39.74746428326381 , 45.40079449627395\n",
      "\t ---------- State is:  (1, 12)\n",
      "[INFO] [2023-02-27 21:27:57,283] [OpenBox-SPO] Iteration 84, objective value: [52.97433169444701].\n"
     ]
    },
    {
     "name": "stderr",
     "output_type": "stream",
     "text": [
      "\r",
      "  8%|██████▍                                                                      | 84/1000 [57:15<11:01:07, 43.30s/it]"
     ]
    },
    {
     "name": "stdout",
     "output_type": "stream",
     "text": [
      "\t ----- reward: -52.97433169444701 for f_star and f_minus: 39.74746428326381 , 52.97433169444701\n",
      "\t ---------- State is:  (0, 12)\n",
      "[INFO] [2023-02-27 21:27:57,284] [Advisor] Sample random config. rand_prob=0.100000.\n",
      "[INFO] [2023-02-27 21:28:33,203] [OpenBox-SPO] Iteration 85, objective value: [60.608725101658756].\n"
     ]
    },
    {
     "name": "stderr",
     "output_type": "stream",
     "text": [
      "\r",
      "  8%|██████▌                                                                      | 85/1000 [57:51<10:26:37, 41.09s/it]"
     ]
    },
    {
     "name": "stdout",
     "output_type": "stream",
     "text": [
      "\t ----- reward: -60.608725101658756 for f_star and f_minus: 39.74746428326381 , 60.608725101658756\n",
      "\t ---------- State is:  (1, 13)\n",
      "[INFO] [2023-02-27 21:29:19,400] [OpenBox-SPO] Iteration 86, objective value: [51.45333234103667].\n"
     ]
    },
    {
     "name": "stderr",
     "output_type": "stream",
     "text": [
      "\r",
      "  9%|██████▌                                                                      | 86/1000 [58:37<10:49:16, 42.62s/it]"
     ]
    },
    {
     "name": "stdout",
     "output_type": "stream",
     "text": [
      "\t ----- reward: -51.45333234103667 for f_star and f_minus: 39.74746428326381 , 51.45333234103667\n",
      "\t ---------- State is:  (0, 12)\n",
      "[INFO] [2023-02-27 21:30:07,880] [OpenBox-SPO] Iteration 87, objective value: [58.834338897581546].\n"
     ]
    },
    {
     "name": "stderr",
     "output_type": "stream",
     "text": [
      "\r",
      "  9%|██████▋                                                                      | 87/1000 [59:26<11:15:18, 44.38s/it]"
     ]
    },
    {
     "name": "stdout",
     "output_type": "stream",
     "text": [
      "\t ----- reward: -58.834338897581546 for f_star and f_minus: 39.74746428326381 , 58.834338897581546\n",
      "\t ---------- State is:  (0, 12)\n",
      "[INFO] [2023-02-27 21:30:45,215] [OpenBox-SPO] Iteration 88, objective value: [50.43512984740779].\n"
     ]
    },
    {
     "name": "stderr",
     "output_type": "stream",
     "text": [
      "\r",
      "  9%|██████▌                                                                    | 88/1000 [1:00:03<10:42:26, 42.27s/it]"
     ]
    },
    {
     "name": "stdout",
     "output_type": "stream",
     "text": [
      "\t ----- reward: -50.43512984740779 for f_star and f_minus: 39.74746428326381 , 50.43512984740779\n",
      "\t ---------- State is:  (0, 12)\n",
      "[INFO] [2023-02-27 21:31:31,018] [OpenBox-SPO] Iteration 89, objective value: [54.53248860511898].\n"
     ]
    },
    {
     "name": "stderr",
     "output_type": "stream",
     "text": [
      "\r",
      "  9%|██████▋                                                                    | 89/1000 [1:00:49<10:57:51, 43.33s/it]"
     ]
    },
    {
     "name": "stdout",
     "output_type": "stream",
     "text": [
      "\t ----- reward: -54.53248860511898 for f_star and f_minus: 39.74746428326381 , 54.53248860511898\n",
      "\t ---------- State is:  (0, 12)\n",
      "[INFO] [2023-02-27 21:32:17,392] [OpenBox-SPO] Iteration 90, objective value: [51.59642466015026].\n"
     ]
    },
    {
     "name": "stderr",
     "output_type": "stream",
     "text": [
      "\r",
      "  9%|██████▊                                                                    | 90/1000 [1:01:35<11:10:59, 44.24s/it]"
     ]
    },
    {
     "name": "stdout",
     "output_type": "stream",
     "text": [
      "\t ----- reward: -51.59642466015026 for f_star and f_minus: 39.74746428326381 , 51.59642466015026\n",
      "\t ---------- State is:  (0, 13)\n",
      "[INFO] [2023-02-27 21:32:58,614] [OpenBox-SPO] Iteration 91, objective value: [62.10287169832672].\n"
     ]
    },
    {
     "name": "stderr",
     "output_type": "stream",
     "text": [
      "\r",
      "  9%|██████▊                                                                    | 91/1000 [1:02:16<10:56:31, 43.34s/it]"
     ]
    },
    {
     "name": "stdout",
     "output_type": "stream",
     "text": [
      "\t ----- reward: -62.10287169832672 for f_star and f_minus: 39.74746428326381 , 62.10287169832672\n",
      "\t ---------- State is:  (0, 13)\n",
      "[INFO] [2023-02-27 21:33:44,673] [OpenBox-SPO] Iteration 92, objective value: [37.0599014416541].\n"
     ]
    },
    {
     "name": "stderr",
     "output_type": "stream",
     "text": [
      "\r",
      "  9%|██████▉                                                                    | 92/1000 [1:03:02<11:08:10, 44.15s/it]"
     ]
    },
    {
     "name": "stdout",
     "output_type": "stream",
     "text": [
      "\t ----- reward: -37.0599014416541 for f_star and f_minus: 39.74746428326381 , 37.0599014416541\n",
      "\t ---------- State is:  (0, 12)\n",
      "[INFO] [2023-02-27 21:34:21,974] [OpenBox-SPO] Iteration 93, objective value: [61.552295694742895].\n"
     ]
    },
    {
     "name": "stderr",
     "output_type": "stream",
     "text": [
      "\r",
      "  9%|██████▉                                                                    | 93/1000 [1:03:40<10:36:22, 42.10s/it]"
     ]
    },
    {
     "name": "stdout",
     "output_type": "stream",
     "text": [
      "\t ----- reward: -61.552295694742895 for f_star and f_minus: 37.0599014416541 , 61.552295694742895\n",
      "\t ---------- State is:  (1, 16)\n",
      "[INFO] [2023-02-27 21:35:09,293] [OpenBox-SPO] Iteration 94, objective value: [49.12721001244791].\n"
     ]
    },
    {
     "name": "stderr",
     "output_type": "stream",
     "text": [
      "\r",
      "  9%|███████                                                                    | 94/1000 [1:04:27<10:59:19, 43.66s/it]"
     ]
    },
    {
     "name": "stdout",
     "output_type": "stream",
     "text": [
      "\t ----- reward: -49.12721001244791 for f_star and f_minus: 37.0599014416541 , 49.12721001244791\n",
      "\t ---------- State is:  (1, 15)\n",
      "[INFO] [2023-02-27 21:35:44,179] [OpenBox-SPO] Iteration 95, objective value: [56.09420876749406].\n"
     ]
    },
    {
     "name": "stderr",
     "output_type": "stream",
     "text": [
      "\r",
      " 10%|███████▏                                                                   | 95/1000 [1:05:02<10:18:52, 41.03s/it]"
     ]
    },
    {
     "name": "stdout",
     "output_type": "stream",
     "text": [
      "\t ----- reward: -56.09420876749406 for f_star and f_minus: 37.0599014416541 , 56.09420876749406\n",
      "\t ---------- State is:  (2, 16)\n",
      "[INFO] [2023-02-27 21:36:34,114] [OpenBox-SPO] Iteration 96, objective value: [38.553203335476184].\n"
     ]
    },
    {
     "name": "stderr",
     "output_type": "stream",
     "text": [
      "\r",
      " 10%|███████▏                                                                   | 96/1000 [1:05:52<10:58:26, 43.70s/it]"
     ]
    },
    {
     "name": "stdout",
     "output_type": "stream",
     "text": [
      "\t ----- reward: -38.553203335476184 for f_star and f_minus: 37.0599014416541 , 38.553203335476184\n",
      "\t ---------- State is:  (2, 14)\n",
      "[INFO] [2023-02-27 21:37:26,337] [OpenBox-SPO] Iteration 97, objective value: [37.66544549256764].\n"
     ]
    },
    {
     "name": "stderr",
     "output_type": "stream",
     "text": [
      "\r",
      " 10%|███████▎                                                                   | 97/1000 [1:06:44<11:36:10, 46.26s/it]"
     ]
    },
    {
     "name": "stdout",
     "output_type": "stream",
     "text": [
      "\t ----- reward: -37.66544549256764 for f_star and f_minus: 37.0599014416541 , 37.66544549256764\n",
      "\t ---------- State is:  (2, 14)\n",
      "[INFO] [2023-02-27 21:38:16,871] [OpenBox-SPO] Iteration 98, objective value: [35.0333316420089].\n"
     ]
    },
    {
     "name": "stderr",
     "output_type": "stream",
     "text": [
      "\r",
      " 10%|███████▎                                                                   | 98/1000 [1:07:35<11:54:41, 47.54s/it]"
     ]
    },
    {
     "name": "stdout",
     "output_type": "stream",
     "text": [
      "\t ----- reward: -35.0333316420089 for f_star and f_minus: 37.0599014416541 , 35.0333316420089\n",
      "\t ---------- State is:  (2, 13)\n",
      "[INFO] [2023-02-27 21:39:03,425] [OpenBox-SPO] Iteration 99, objective value: [48.94977205120572].\n"
     ]
    },
    {
     "name": "stderr",
     "output_type": "stream",
     "text": [
      "\r",
      " 10%|███████▍                                                                   | 99/1000 [1:08:21<11:49:27, 47.24s/it]"
     ]
    },
    {
     "name": "stdout",
     "output_type": "stream",
     "text": [
      "\t ----- reward: -48.94977205120572 for f_star and f_minus: 35.0333316420089 , 48.94977205120572\n",
      "\t ---------- State is:  (2, 15)\n",
      "[INFO] [2023-02-27 21:39:41,590] [OpenBox-SPO] Iteration 100, objective value: [54.07987692208332].\n"
     ]
    },
    {
     "name": "stderr",
     "output_type": "stream",
     "text": [
      "\r",
      " 10%|███████▍                                                                  | 100/1000 [1:08:59<11:07:48, 44.52s/it]"
     ]
    },
    {
     "name": "stdout",
     "output_type": "stream",
     "text": [
      "\t ----- reward: -54.07987692208332 for f_star and f_minus: 35.0333316420089 , 54.07987692208332\n",
      "\t ---------- State is:  (3, 15)\n",
      "[INFO] [2023-02-27 21:40:24,396] [OpenBox-SPO] Iteration 101, objective value: [39.33917170992427].\n"
     ]
    },
    {
     "name": "stderr",
     "output_type": "stream",
     "text": [
      "\r",
      " 10%|███████▍                                                                  | 101/1000 [1:09:42<10:59:21, 44.01s/it]"
     ]
    },
    {
     "name": "stdout",
     "output_type": "stream",
     "text": [
      "\t ----- reward: -39.33917170992427 for f_star and f_minus: 35.0333316420089 , 39.33917170992427\n",
      "\t ---------- State is:  (3, 14)\n",
      "[INFO] [2023-02-27 21:41:02,151] [OpenBox-SPO] Iteration 102, objective value: [44.88480240799026].\n"
     ]
    },
    {
     "name": "stderr",
     "output_type": "stream",
     "text": [
      "\r",
      " 10%|███████▌                                                                  | 102/1000 [1:10:20<10:30:33, 42.13s/it]"
     ]
    },
    {
     "name": "stdout",
     "output_type": "stream",
     "text": [
      "\t ----- reward: -44.88480240799026 for f_star and f_minus: 35.0333316420089 , 44.88480240799026\n",
      "\t ---------- State is:  (3, 14)\n",
      "[INFO] [2023-02-27 21:41:48,143] [OpenBox-SPO] Iteration 103, objective value: [42.573529160301845].\n"
     ]
    },
    {
     "name": "stderr",
     "output_type": "stream",
     "text": [
      "\r",
      " 10%|███████▌                                                                  | 103/1000 [1:11:06<10:47:10, 43.29s/it]"
     ]
    },
    {
     "name": "stdout",
     "output_type": "stream",
     "text": [
      "\t ----- reward: -42.573529160301845 for f_star and f_minus: 35.0333316420089 , 42.573529160301845\n",
      "\t ---------- State is:  (3, 14)\n",
      "[INFO] [2023-02-27 21:42:34,064] [OpenBox-SPO] Iteration 104, objective value: [42.830726059055145].\n"
     ]
    },
    {
     "name": "stderr",
     "output_type": "stream",
     "text": [
      "\r",
      " 10%|███████▋                                                                  | 104/1000 [1:11:52<10:58:14, 44.08s/it]"
     ]
    },
    {
     "name": "stdout",
     "output_type": "stream",
     "text": [
      "\t ----- reward: -42.830726059055145 for f_star and f_minus: 35.0333316420089 , 42.830726059055145\n",
      "\t ---------- State is:  (2, 13)\n",
      "[INFO] [2023-02-27 21:43:21,199] [OpenBox-SPO] Iteration 105, objective value: [48.474998028148285].\n"
     ]
    },
    {
     "name": "stderr",
     "output_type": "stream",
     "text": [
      "\r",
      " 10%|███████▊                                                                  | 105/1000 [1:12:39<11:11:10, 45.00s/it]"
     ]
    },
    {
     "name": "stdout",
     "output_type": "stream",
     "text": [
      "\t ----- reward: -48.474998028148285 for f_star and f_minus: 35.0333316420089 , 48.474998028148285\n",
      "\t ---------- State is:  (1, 13)\n",
      "[INFO] [2023-02-27 21:44:12,902] [OpenBox-SPO] Iteration 106, objective value: [41.12832019461139].\n"
     ]
    },
    {
     "name": "stderr",
     "output_type": "stream",
     "text": [
      "\r",
      " 11%|███████▊                                                                  | 106/1000 [1:13:31<11:40:25, 47.01s/it]"
     ]
    },
    {
     "name": "stdout",
     "output_type": "stream",
     "text": [
      "\t ----- reward: -41.12832019461139 for f_star and f_minus: 35.0333316420089 , 41.12832019461139\n",
      "\t ---------- State is:  (0, 12)\n",
      "[INFO] [2023-02-27 21:44:57,729] [OpenBox-SPO] Iteration 107, objective value: [53.67763294177653].\n"
     ]
    },
    {
     "name": "stderr",
     "output_type": "stream",
     "text": [
      "\r",
      " 11%|███████▉                                                                  | 107/1000 [1:14:15<11:29:53, 46.35s/it]"
     ]
    },
    {
     "name": "stdout",
     "output_type": "stream",
     "text": [
      "\t ----- reward: -53.67763294177653 for f_star and f_minus: 35.0333316420089 , 53.67763294177653\n",
      "\t ---------- State is:  (0, 12)\n",
      "[INFO] [2023-02-27 21:45:40,533] [OpenBox-SPO] Iteration 108, objective value: [45.35346496973831].\n"
     ]
    },
    {
     "name": "stderr",
     "output_type": "stream",
     "text": [
      "\r",
      " 11%|███████▉                                                                  | 108/1000 [1:14:58<11:13:17, 45.29s/it]"
     ]
    },
    {
     "name": "stdout",
     "output_type": "stream",
     "text": [
      "\t ----- reward: -45.35346496973831 for f_star and f_minus: 35.0333316420089 , 45.35346496973831\n",
      "\t ---------- State is:  (0, 12)\n",
      "[INFO] [2023-02-27 21:46:22,074] [OpenBox-SPO] Iteration 109, objective value: [51.75118455991471].\n"
     ]
    },
    {
     "name": "stderr",
     "output_type": "stream",
     "text": [
      "\r",
      " 11%|████████                                                                  | 109/1000 [1:15:40<10:55:50, 44.16s/it]"
     ]
    },
    {
     "name": "stdout",
     "output_type": "stream",
     "text": [
      "\t ----- reward: -51.75118455991471 for f_star and f_minus: 35.0333316420089 , 51.75118455991471\n",
      "\t ---------- State is:  (0, 12)\n",
      "[INFO] [2023-02-27 21:47:13,360] [OpenBox-SPO] Iteration 110, objective value: [40.78320055772657].\n"
     ]
    },
    {
     "name": "stderr",
     "output_type": "stream",
     "text": [
      "\r",
      " 11%|████████▏                                                                 | 110/1000 [1:16:31<11:26:47, 46.30s/it]"
     ]
    },
    {
     "name": "stdout",
     "output_type": "stream",
     "text": [
      "\t ----- reward: -40.78320055772657 for f_star and f_minus: 35.0333316420089 , 40.78320055772657\n",
      "\t ---------- State is:  (1, 11)\n",
      "[INFO] [2023-02-27 21:47:57,258] [OpenBox-SPO] Iteration 111, objective value: [49.073729676130895].\n"
     ]
    },
    {
     "name": "stderr",
     "output_type": "stream",
     "text": [
      "\r",
      " 11%|████████▏                                                                 | 111/1000 [1:17:15<11:15:20, 45.58s/it]"
     ]
    },
    {
     "name": "stdout",
     "output_type": "stream",
     "text": [
      "\t ----- reward: -49.073729676130895 for f_star and f_minus: 35.0333316420089 , 49.073729676130895\n",
      "\t ---------- State is:  (0, 10)\n",
      "[INFO] [2023-02-27 21:48:47,080] [OpenBox-SPO] Iteration 112, objective value: [46.376595720276725].\n"
     ]
    },
    {
     "name": "stderr",
     "output_type": "stream",
     "text": [
      "\r",
      " 11%|████████▎                                                                 | 112/1000 [1:18:05<11:33:24, 46.85s/it]"
     ]
    },
    {
     "name": "stdout",
     "output_type": "stream",
     "text": [
      "\t ----- reward: -46.376595720276725 for f_star and f_minus: 35.0333316420089 , 46.376595720276725\n",
      "\t ---------- State is:  (1, 11)\n",
      "[INFO] [2023-02-27 21:49:28,315] [OpenBox-SPO] Iteration 113, objective value: [47.36092546259098].\n"
     ]
    },
    {
     "name": "stderr",
     "output_type": "stream",
     "text": [
      "\r",
      " 11%|████████▎                                                                 | 113/1000 [1:18:46<11:07:43, 45.17s/it]"
     ]
    },
    {
     "name": "stdout",
     "output_type": "stream",
     "text": [
      "\t ----- reward: -47.36092546259098 for f_star and f_minus: 35.0333316420089 , 47.36092546259098\n",
      "\t ---------- State is:  (2, 10)\n",
      "[INFO] [2023-02-27 21:50:14,348] [OpenBox-SPO] Iteration 114, objective value: [37.864499161306874].\n"
     ]
    },
    {
     "name": "stderr",
     "output_type": "stream",
     "text": [
      "\r",
      " 11%|████████▍                                                                 | 114/1000 [1:19:32<11:10:48, 45.43s/it]"
     ]
    },
    {
     "name": "stdout",
     "output_type": "stream",
     "text": [
      "\t ----- reward: -37.864499161306874 for f_star and f_minus: 35.0333316420089 , 37.864499161306874\n",
      "\t ---------- State is:  (1, 10)\n",
      "[INFO] [2023-02-27 21:51:02,141] [OpenBox-SPO] Iteration 115, objective value: [49.6762646144954].\n"
     ]
    },
    {
     "name": "stderr",
     "output_type": "stream",
     "text": [
      "\r",
      " 12%|████████▌                                                                 | 115/1000 [1:20:20<11:20:31, 46.14s/it]"
     ]
    },
    {
     "name": "stdout",
     "output_type": "stream",
     "text": [
      "\t ----- reward: -49.6762646144954 for f_star and f_minus: 35.0333316420089 , 49.6762646144954\n",
      "\t ---------- State is:  (1, 9)\n",
      "[INFO] [2023-02-27 21:51:48,130] [OpenBox-SPO] Iteration 116, objective value: [46.40053421710933].\n"
     ]
    },
    {
     "name": "stderr",
     "output_type": "stream",
     "text": [
      "\r",
      " 12%|████████▌                                                                 | 116/1000 [1:21:06<11:19:05, 46.09s/it]"
     ]
    },
    {
     "name": "stdout",
     "output_type": "stream",
     "text": [
      "\t ----- reward: -46.40053421710933 for f_star and f_minus: 35.0333316420089 , 46.40053421710933\n",
      "\t ---------- State is:  (2, 10)\n",
      "[INFO] [2023-02-27 21:52:35,480] [OpenBox-SPO] Iteration 117, objective value: [42.20864735427027].\n"
     ]
    },
    {
     "name": "stderr",
     "output_type": "stream",
     "text": [
      "\r",
      " 12%|████████▋                                                                 | 117/1000 [1:21:53<11:23:52, 46.47s/it]"
     ]
    },
    {
     "name": "stdout",
     "output_type": "stream",
     "text": [
      "\t ----- reward: -42.20864735427027 for f_star and f_minus: 35.0333316420089 , 42.20864735427027\n",
      "\t ---------- State is:  (2, 10)\n",
      "[INFO] [2023-02-27 21:53:21,570] [OpenBox-SPO] Iteration 118, objective value: [42.18044875775904].\n"
     ]
    },
    {
     "name": "stderr",
     "output_type": "stream",
     "text": [
      "\r",
      " 12%|████████▋                                                                 | 118/1000 [1:22:39<11:21:25, 46.36s/it]"
     ]
    },
    {
     "name": "stdout",
     "output_type": "stream",
     "text": [
      "\t ----- reward: -42.18044875775904 for f_star and f_minus: 35.0333316420089 , 42.18044875775904\n",
      "\t ---------- State is:  (3, 10)\n",
      "[INFO] [2023-02-27 21:54:01,339] [OpenBox-SPO] Iteration 119, objective value: [40.630136697499154].\n"
     ]
    },
    {
     "name": "stderr",
     "output_type": "stream",
     "text": [
      "\r",
      " 12%|████████▊                                                                 | 119/1000 [1:23:19<10:51:38, 44.38s/it]"
     ]
    },
    {
     "name": "stdout",
     "output_type": "stream",
     "text": [
      "\t ----- reward: -40.630136697499154 for f_star and f_minus: 35.0333316420089 , 40.630136697499154\n",
      "\t ---------- State is:  (4, 10)\n",
      "[INFO] [2023-02-27 21:54:40,845] [OpenBox-SPO] Iteration 120, objective value: [53.396575892429844].\n"
     ]
    },
    {
     "name": "stderr",
     "output_type": "stream",
     "text": [
      "\r",
      " 12%|████████▉                                                                 | 120/1000 [1:23:59<10:29:27, 42.92s/it]"
     ]
    },
    {
     "name": "stdout",
     "output_type": "stream",
     "text": [
      "\t ----- reward: -53.396575892429844 for f_star and f_minus: 35.0333316420089 , 53.396575892429844\n",
      "\t ---------- State is:  (4, 10)\n",
      "[INFO] [2023-02-27 21:55:22,513] [OpenBox-SPO] Iteration 121, objective value: [41.81322853853676].\n"
     ]
    },
    {
     "name": "stderr",
     "output_type": "stream",
     "text": [
      "\r",
      " 12%|████████▉                                                                 | 121/1000 [1:24:40<10:23:14, 42.54s/it]"
     ]
    },
    {
     "name": "stdout",
     "output_type": "stream",
     "text": [
      "\t ----- reward: -41.81322853853676 for f_star and f_minus: 35.0333316420089 , 41.81322853853676\n",
      "\t ---------- State is:  (5, 10)\n",
      "[INFO] [2023-02-27 21:56:04,520] [OpenBox-SPO] Iteration 122, objective value: [46.31456812285586].\n"
     ]
    },
    {
     "name": "stderr",
     "output_type": "stream",
     "text": [
      "\r",
      " 12%|█████████                                                                 | 122/1000 [1:25:22<10:20:11, 42.38s/it]"
     ]
    },
    {
     "name": "stdout",
     "output_type": "stream",
     "text": [
      "\t ----- reward: -46.31456812285586 for f_star and f_minus: 35.0333316420089 , 46.31456812285586\n",
      "\t ---------- State is:  (6, 10)\n",
      "[INFO] [2023-02-27 21:56:47,834] [OpenBox-SPO] Iteration 123, objective value: [49.37999753683903].\n"
     ]
    },
    {
     "name": "stderr",
     "output_type": "stream",
     "text": [
      "\r",
      " 12%|█████████                                                                 | 123/1000 [1:26:06<10:23:34, 42.66s/it]"
     ]
    },
    {
     "name": "stdout",
     "output_type": "stream",
     "text": [
      "\t ----- reward: -49.37999753683903 for f_star and f_minus: 35.0333316420089 , 49.37999753683903\n",
      "\t ---------- State is:  (7, 10)\n",
      "[INFO] [2023-02-27 21:57:37,152] [OpenBox-SPO] Iteration 124, objective value: [37.43939155231324].\n"
     ]
    },
    {
     "name": "stderr",
     "output_type": "stream",
     "text": [
      "\r",
      " 12%|█████████▏                                                                | 124/1000 [1:26:55<10:52:05, 44.66s/it]"
     ]
    },
    {
     "name": "stdout",
     "output_type": "stream",
     "text": [
      "\t ----- reward: -37.43939155231324 for f_star and f_minus: 35.0333316420089 , 37.43939155231324\n",
      "\t ---------- State is:  (6, 10)\n",
      "[INFO] [2023-02-27 21:58:22,384] [OpenBox-SPO] Iteration 125, objective value: [47.46249108040503].\n"
     ]
    },
    {
     "name": "stderr",
     "output_type": "stream",
     "text": [
      "\r",
      " 12%|█████████▎                                                                | 125/1000 [1:27:40<10:53:45, 44.83s/it]"
     ]
    },
    {
     "name": "stdout",
     "output_type": "stream",
     "text": [
      "\t ----- reward: -47.46249108040503 for f_star and f_minus: 35.0333316420089 , 47.46249108040503\n",
      "\t ---------- State is:  (6, 10)\n",
      "[INFO] [2023-02-27 21:59:10,897] [OpenBox-SPO] Iteration 126, objective value: [45.525050897165734].\n"
     ]
    },
    {
     "name": "stderr",
     "output_type": "stream",
     "text": [
      "\r",
      " 13%|█████████▎                                                                | 126/1000 [1:28:29<11:09:06, 45.93s/it]"
     ]
    },
    {
     "name": "stdout",
     "output_type": "stream",
     "text": [
      "\t ----- reward: -45.525050897165734 for f_star and f_minus: 35.0333316420089 , 45.525050897165734\n",
      "\t ---------- State is:  (6, 10)\n",
      "[INFO] [2023-02-27 21:59:55,167] [OpenBox-SPO] Iteration 127, objective value: [41.07239926509614].\n"
     ]
    },
    {
     "name": "stderr",
     "output_type": "stream",
     "text": [
      "\r",
      " 13%|█████████▍                                                                | 127/1000 [1:29:13<11:01:04, 45.43s/it]"
     ]
    },
    {
     "name": "stdout",
     "output_type": "stream",
     "text": [
      "\t ----- reward: -41.07239926509614 for f_star and f_minus: 35.0333316420089 , 41.07239926509614\n",
      "\t ---------- State is:  (6, 10)\n",
      "[INFO] [2023-02-27 22:00:45,344] [OpenBox-SPO] Iteration 128, objective value: [48.06068439748097].\n"
     ]
    },
    {
     "name": "stderr",
     "output_type": "stream",
     "text": [
      "\r",
      " 13%|█████████▍                                                                | 128/1000 [1:30:03<11:20:59, 46.86s/it]"
     ]
    },
    {
     "name": "stdout",
     "output_type": "stream",
     "text": [
      "\t ----- reward: -48.06068439748097 for f_star and f_minus: 35.0333316420089 , 48.06068439748097\n",
      "\t ---------- State is:  (5, 10)\n",
      "[INFO] [2023-02-27 22:01:33,159] [OpenBox-SPO] Iteration 129, objective value: [51.78090514566581].\n"
     ]
    },
    {
     "name": "stderr",
     "output_type": "stream",
     "text": [
      "\r",
      " 13%|█████████▌                                                                | 129/1000 [1:30:51<11:24:23, 47.14s/it]"
     ]
    },
    {
     "name": "stdout",
     "output_type": "stream",
     "text": [
      "\t ----- reward: -51.78090514566581 for f_star and f_minus: 35.0333316420089 , 51.78090514566581\n",
      "\t ---------- State is:  (6, 10)\n",
      "[INFO] [2023-02-27 22:02:19,816] [OpenBox-SPO] Iteration 130, objective value: [36.92662506574773].\n"
     ]
    },
    {
     "name": "stderr",
     "output_type": "stream",
     "text": [
      "\r",
      " 13%|█████████▌                                                                | 130/1000 [1:31:38<11:21:28, 47.00s/it]"
     ]
    },
    {
     "name": "stdout",
     "output_type": "stream",
     "text": [
      "\t ----- reward: -36.92662506574773 for f_star and f_minus: 35.0333316420089 , 36.92662506574773\n",
      "\t ---------- State is:  (6, 10)\n",
      "[INFO] [2023-02-27 22:02:58,039] [OpenBox-SPO] Iteration 131, objective value: [54.43505020465425].\n"
     ]
    },
    {
     "name": "stderr",
     "output_type": "stream",
     "text": [
      "\r",
      " 13%|█████████▋                                                                | 131/1000 [1:32:16<10:42:33, 44.37s/it]"
     ]
    },
    {
     "name": "stdout",
     "output_type": "stream",
     "text": [
      "\t ----- reward: -54.43505020465425 for f_star and f_minus: 35.0333316420089 , 54.43505020465425\n",
      "\t ---------- State is:  (7, 10)\n",
      "[INFO] [2023-02-27 22:03:48,819] [OpenBox-SPO] Iteration 132, objective value: [37.04707716220905].\n"
     ]
    },
    {
     "name": "stderr",
     "output_type": "stream",
     "text": [
      "\r",
      " 13%|█████████▊                                                                | 132/1000 [1:33:07<11:09:39, 46.29s/it]"
     ]
    },
    {
     "name": "stdout",
     "output_type": "stream",
     "text": [
      "\t ----- reward: -37.04707716220905 for f_star and f_minus: 35.0333316420089 , 37.04707716220905\n",
      "\t ---------- State is:  (7, 9)\n",
      "[INFO] [2023-02-27 22:04:42,272] [OpenBox-SPO] Iteration 133, objective value: [34.09652754730858].\n"
     ]
    },
    {
     "name": "stderr",
     "output_type": "stream",
     "text": [
      "\r",
      " 13%|█████████▊                                                                | 133/1000 [1:34:00<11:39:56, 48.44s/it]"
     ]
    },
    {
     "name": "stdout",
     "output_type": "stream",
     "text": [
      "\t ----- reward: -34.09652754730858 for f_star and f_minus: 35.0333316420089 , 34.09652754730858\n",
      "\t ---------- State is:  (8, 9)\n",
      "[INFO] [2023-02-27 22:05:30,632] [OpenBox-SPO] Iteration 134, objective value: [37.11980129977975].\n"
     ]
    },
    {
     "name": "stderr",
     "output_type": "stream",
     "text": [
      "\r",
      " 13%|█████████▉                                                                | 134/1000 [1:34:48<11:38:47, 48.42s/it]"
     ]
    },
    {
     "name": "stdout",
     "output_type": "stream",
     "text": [
      "\t ----- reward: -37.11980129977975 for f_star and f_minus: 34.09652754730858 , 37.11980129977975\n",
      "\t ---------- State is:  (7, 10)\n",
      "[INFO] [2023-02-27 22:06:20,295] [OpenBox-SPO] Iteration 135, objective value: [39.753565323932186].\n"
     ]
    },
    {
     "name": "stderr",
     "output_type": "stream",
     "text": [
      "\r",
      " 14%|█████████▉                                                                | 135/1000 [1:35:38<11:43:22, 48.79s/it]"
     ]
    },
    {
     "name": "stdout",
     "output_type": "stream",
     "text": [
      "\t ----- reward: -39.753565323932186 for f_star and f_minus: 34.09652754730858 , 39.753565323932186\n",
      "\t ---------- State is:  (8, 9)\n",
      "[INFO] [2023-02-27 22:07:07,443] [OpenBox-SPO] Iteration 136, objective value: [42.26133314451525].\n"
     ]
    },
    {
     "name": "stderr",
     "output_type": "stream",
     "text": [
      "\r",
      " 14%|██████████                                                                | 136/1000 [1:36:25<11:35:28, 48.30s/it]"
     ]
    },
    {
     "name": "stdout",
     "output_type": "stream",
     "text": [
      "\t ----- reward: -42.26133314451525 for f_star and f_minus: 34.09652754730858 , 42.26133314451525\n",
      "\t ---------- State is:  (8, 9)\n",
      "[INFO] [2023-02-27 22:07:48,298] [OpenBox-SPO] Iteration 137, objective value: [41.87510651650809].\n"
     ]
    },
    {
     "name": "stderr",
     "output_type": "stream",
     "text": [
      "\r",
      " 14%|██████████▏                                                               | 137/1000 [1:37:06<11:02:33, 46.06s/it]"
     ]
    },
    {
     "name": "stdout",
     "output_type": "stream",
     "text": [
      "\t ----- reward: -41.87510651650809 for f_star and f_minus: 34.09652754730858 , 41.87510651650809\n",
      "\t ---------- State is:  (7, 9)\n",
      "[INFO] [2023-02-27 22:08:34,577] [OpenBox-SPO] Iteration 138, objective value: [40.28850475680535].\n"
     ]
    },
    {
     "name": "stderr",
     "output_type": "stream",
     "text": [
      "\r",
      " 14%|██████████▏                                                               | 138/1000 [1:37:52<11:02:43, 46.13s/it]"
     ]
    },
    {
     "name": "stdout",
     "output_type": "stream",
     "text": [
      "\t ----- reward: -40.28850475680535 for f_star and f_minus: 34.09652754730858 , 40.28850475680535\n",
      "\t ---------- State is:  (8, 9)\n",
      "[INFO] [2023-02-27 22:09:19,982] [OpenBox-SPO] Iteration 139, objective value: [38.403641943465914].\n"
     ]
    },
    {
     "name": "stderr",
     "output_type": "stream",
     "text": [
      "\r",
      " 14%|██████████▎                                                               | 139/1000 [1:38:38<10:58:49, 45.91s/it]"
     ]
    },
    {
     "name": "stdout",
     "output_type": "stream",
     "text": [
      "\t ----- reward: -38.403641943465914 for f_star and f_minus: 34.09652754730858 , 38.403641943465914\n",
      "\t ---------- State is:  (8, 9)\n",
      "[INFO] [2023-02-27 22:09:19,982] [Advisor] Sample random config. rand_prob=0.100000.\n",
      "[INFO] [2023-02-27 22:09:55,266] [OpenBox-SPO] Iteration 140, objective value: [52.594729142298256].\n"
     ]
    },
    {
     "name": "stderr",
     "output_type": "stream",
     "text": [
      "\r",
      " 14%|██████████▎                                                               | 140/1000 [1:39:13<10:12:22, 42.72s/it]"
     ]
    },
    {
     "name": "stdout",
     "output_type": "stream",
     "text": [
      "\t ----- reward: -52.594729142298256 for f_star and f_minus: 34.09652754730858 , 52.594729142298256\n",
      "\t ---------- State is:  (8, 9)\n",
      "[INFO] [2023-02-27 22:10:43,403] [OpenBox-SPO] Iteration 141, objective value: [37.732208293281474].\n"
     ]
    },
    {
     "name": "stderr",
     "output_type": "stream",
     "text": [
      "\r",
      " 14%|██████████▍                                                               | 141/1000 [1:40:01<10:34:54, 44.35s/it]"
     ]
    },
    {
     "name": "stdout",
     "output_type": "stream",
     "text": [
      "\t ----- reward: -37.732208293281474 for f_star and f_minus: 34.09652754730858 , 37.732208293281474\n",
      "\t ---------- State is:  (9, 8)\n",
      "[INFO] [2023-02-27 22:11:33,946] [OpenBox-SPO] Iteration 142, objective value: [32.9986176300591].\n"
     ]
    },
    {
     "name": "stderr",
     "output_type": "stream",
     "text": [
      "\r",
      " 14%|██████████▌                                                               | 142/1000 [1:40:52<11:00:44, 46.21s/it]"
     ]
    },
    {
     "name": "stdout",
     "output_type": "stream",
     "text": [
      "\t ----- reward: -32.9986176300591 for f_star and f_minus: 34.09652754730858 , 32.9986176300591\n",
      "\t ---------- State is:  (10, 8)\n",
      "[INFO] [2023-02-27 22:12:24,647] [OpenBox-SPO] Iteration 143, objective value: [38.19807527397373].\n"
     ]
    },
    {
     "name": "stderr",
     "output_type": "stream",
     "text": [
      "\r",
      " 14%|██████████▌                                                               | 143/1000 [1:41:42<11:19:14, 47.55s/it]"
     ]
    },
    {
     "name": "stdout",
     "output_type": "stream",
     "text": [
      "\t ----- reward: -38.19807527397373 for f_star and f_minus: 32.9986176300591 , 38.19807527397373\n",
      "\t ---------- State is:  (9, 8)\n",
      "[INFO] [2023-02-27 22:12:24,647] [Advisor] Sample random config. rand_prob=0.100000.\n",
      "[INFO] [2023-02-27 22:13:01,976] [OpenBox-SPO] Iteration 144, objective value: [48.05724947141022].\n"
     ]
    },
    {
     "name": "stderr",
     "output_type": "stream",
     "text": [
      "\r",
      " 14%|██████████▋                                                               | 144/1000 [1:42:20<10:34:40, 44.49s/it]"
     ]
    },
    {
     "name": "stdout",
     "output_type": "stream",
     "text": [
      "\t ----- reward: -48.05724947141022 for f_star and f_minus: 32.9986176300591 , 48.05724947141022\n",
      "\t ---------- State is:  (8, 9)\n",
      "[INFO] [2023-02-27 22:13:01,976] [Advisor] Sample random config. rand_prob=0.100000.\n",
      "[INFO] [2023-02-27 22:13:43,667] [OpenBox-SPO] Iteration 145, objective value: [56.8154017672274].\n"
     ]
    },
    {
     "name": "stderr",
     "output_type": "stream",
     "text": [
      "\r",
      " 14%|██████████▋                                                               | 145/1000 [1:43:01<10:21:59, 43.65s/it]"
     ]
    },
    {
     "name": "stdout",
     "output_type": "stream",
     "text": [
      "\t ----- reward: -56.8154017672274 for f_star and f_minus: 32.9986176300591 , 56.8154017672274\n",
      "\t ---------- State is:  (9, 9)\n",
      "[INFO] [2023-02-27 22:14:32,381] [OpenBox-SPO] Iteration 146, objective value: [40.152565532511616].\n"
     ]
    },
    {
     "name": "stderr",
     "output_type": "stream",
     "text": [
      "\r",
      " 15%|██████████▊                                                               | 146/1000 [1:43:50<10:42:53, 45.17s/it]"
     ]
    },
    {
     "name": "stdout",
     "output_type": "stream",
     "text": [
      "\t ----- reward: -40.152565532511616 for f_star and f_minus: 32.9986176300591 , 40.152565532511616\n",
      "\t ---------- State is:  (9, 9)\n",
      "[INFO] [2023-02-27 22:15:20,663] [OpenBox-SPO] Iteration 147, objective value: [42.38491424784795].\n"
     ]
    },
    {
     "name": "stderr",
     "output_type": "stream",
     "text": [
      "\r",
      " 15%|██████████▉                                                               | 147/1000 [1:44:38<10:55:25, 46.10s/it]"
     ]
    },
    {
     "name": "stdout",
     "output_type": "stream",
     "text": [
      "\t ----- reward: -42.38491424784795 for f_star and f_minus: 32.9986176300591 , 42.38491424784795\n",
      "\t ---------- State is:  (9, 9)\n",
      "[INFO] [2023-02-27 22:16:08,544] [OpenBox-SPO] Iteration 148, objective value: [37.725352320881925].\n"
     ]
    },
    {
     "name": "stderr",
     "output_type": "stream",
     "text": [
      "\r",
      " 15%|██████████▉                                                               | 148/1000 [1:45:26<11:02:13, 46.64s/it]"
     ]
    },
    {
     "name": "stdout",
     "output_type": "stream",
     "text": [
      "\t ----- reward: -37.725352320881925 for f_star and f_minus: 32.9986176300591 , 37.725352320881925\n",
      "\t ---------- State is:  (10, 9)\n",
      "[INFO] [2023-02-27 22:16:08,544] [Advisor] Sample random config. rand_prob=0.100000.\n",
      "[INFO] [2023-02-27 22:16:44,631] [OpenBox-SPO] Iteration 149, objective value: [51.09768885787168].\n"
     ]
    },
    {
     "name": "stderr",
     "output_type": "stream",
     "text": [
      "\r",
      " 15%|███████████                                                               | 149/1000 [1:46:02<10:16:33, 43.47s/it]"
     ]
    },
    {
     "name": "stdout",
     "output_type": "stream",
     "text": [
      "\t ----- reward: -51.09768885787168 for f_star and f_minus: 32.9986176300591 , 51.09768885787168\n",
      "\t ---------- State is:  (10, 8)\n",
      "[INFO] [2023-02-27 22:17:35,342] [OpenBox-SPO] Iteration 150, objective value: [39.362008276234576].\n"
     ]
    },
    {
     "name": "stderr",
     "output_type": "stream",
     "text": [
      "\r",
      " 15%|███████████                                                               | 150/1000 [1:46:53<10:46:36, 45.64s/it]"
     ]
    },
    {
     "name": "stdout",
     "output_type": "stream",
     "text": [
      "\t ----- reward: -39.362008276234576 for f_star and f_minus: 32.9986176300591 , 39.362008276234576\n",
      "\t ---------- State is:  (9, 9)\n",
      "[INFO] [2023-02-27 22:18:25,171] [OpenBox-SPO] Iteration 151, objective value: [32.85563102641855].\n"
     ]
    },
    {
     "name": "stderr",
     "output_type": "stream",
     "text": [
      "\r",
      " 15%|███████████▏                                                              | 151/1000 [1:47:43<11:03:37, 46.90s/it]"
     ]
    },
    {
     "name": "stdout",
     "output_type": "stream",
     "text": [
      "\t ----- reward: -32.85563102641855 for f_star and f_minus: 32.9986176300591 , 32.85563102641855\n",
      "\t ---------- State is:  (10, 8)\n",
      "[INFO] [2023-02-27 22:19:11,408] [OpenBox-SPO] Iteration 152, objective value: [34.050609841584205].\n"
     ]
    },
    {
     "name": "stderr",
     "output_type": "stream",
     "text": [
      "\r",
      " 15%|███████████▏                                                              | 152/1000 [1:48:29<11:00:01, 46.70s/it]"
     ]
    },
    {
     "name": "stdout",
     "output_type": "stream",
     "text": [
      "\t ----- reward: -34.050609841584205 for f_star and f_minus: 32.85563102641855 , 34.050609841584205\n",
      "\t ---------- State is:  (10, 8)\n",
      "[INFO] [2023-02-27 22:19:58,547] [OpenBox-SPO] Iteration 153, objective value: [47.05663657692124].\n"
     ]
    },
    {
     "name": "stderr",
     "output_type": "stream",
     "text": [
      "\r",
      " 15%|███████████▎                                                              | 153/1000 [1:49:16<11:01:06, 46.83s/it]"
     ]
    },
    {
     "name": "stdout",
     "output_type": "stream",
     "text": [
      "\t ----- reward: -47.05663657692124 for f_star and f_minus: 32.85563102641855 , 47.05663657692124\n",
      "\t ---------- State is:  (10, 8)\n",
      "[INFO] [2023-02-27 22:19:58,547] [Advisor] Sample random config. rand_prob=0.100000.\n",
      "[INFO] [2023-02-27 22:20:26,059] [OpenBox-SPO] Iteration 154, objective value: [59.29732105804262].\n"
     ]
    },
    {
     "name": "stderr",
     "output_type": "stream",
     "text": [
      "\r",
      " 15%|███████████▌                                                               | 154/1000 [1:49:44<9:38:36, 41.04s/it]"
     ]
    },
    {
     "name": "stdout",
     "output_type": "stream",
     "text": [
      "\t ----- reward: -59.29732105804262 for f_star and f_minus: 32.85563102641855 , 59.29732105804262\n",
      "\t ---------- State is:  (10, 9)\n",
      "[INFO] [2023-02-27 22:21:18,976] [OpenBox-SPO] Iteration 155, objective value: [41.07423443642658].\n"
     ]
    },
    {
     "name": "stderr",
     "output_type": "stream",
     "text": [
      "\r",
      " 16%|███████████▍                                                              | 155/1000 [1:50:37<10:28:07, 44.60s/it]"
     ]
    },
    {
     "name": "stdout",
     "output_type": "stream",
     "text": [
      "\t ----- reward: -41.07423443642658 for f_star and f_minus: 32.85563102641855 , 41.07423443642658\n",
      "\t ---------- State is:  (10, 9)\n",
      "[INFO] [2023-02-27 22:21:18,976] [Advisor] Sample random config. rand_prob=0.100000.\n",
      "[INFO] [2023-02-27 22:21:53,090] [OpenBox-SPO] Iteration 156, objective value: [51.78878388380518].\n"
     ]
    },
    {
     "name": "stderr",
     "output_type": "stream",
     "text": [
      "\r",
      " 16%|███████████▋                                                               | 156/1000 [1:51:11<9:43:07, 41.45s/it]"
     ]
    },
    {
     "name": "stdout",
     "output_type": "stream",
     "text": [
      "\t ----- reward: -51.78878388380518 for f_star and f_minus: 32.85563102641855 , 51.78878388380518\n",
      "\t ---------- State is:  (9, 10)\n",
      "[INFO] [2023-02-27 22:21:53,090] [Advisor] Sample random config. rand_prob=0.100000.\n",
      "[INFO] [2023-02-27 22:22:24,259] [OpenBox-SPO] Iteration 157, objective value: [56.41913970461042].\n"
     ]
    },
    {
     "name": "stderr",
     "output_type": "stream",
     "text": [
      "\r",
      " 16%|███████████▊                                                               | 157/1000 [1:51:42<8:59:04, 38.37s/it]"
     ]
    },
    {
     "name": "stdout",
     "output_type": "stream",
     "text": [
      "\t ----- reward: -56.41913970461042 for f_star and f_minus: 32.85563102641855 , 56.41913970461042\n",
      "\t ---------- State is:  (8, 11)\n",
      "[INFO] [2023-02-27 22:23:13,842] [OpenBox-SPO] Iteration 158, objective value: [42.884585536116774].\n"
     ]
    },
    {
     "name": "stderr",
     "output_type": "stream",
     "text": [
      "\r",
      " 16%|███████████▊                                                               | 158/1000 [1:52:32<9:45:39, 41.73s/it]"
     ]
    },
    {
     "name": "stdout",
     "output_type": "stream",
     "text": [
      "\t ----- reward: -42.884585536116774 for f_star and f_minus: 32.85563102641855 , 42.884585536116774\n",
      "\t ---------- State is:  (8, 11)\n",
      "[INFO] [2023-02-27 22:24:04,949] [OpenBox-SPO] Iteration 159, objective value: [32.103377723828274].\n"
     ]
    },
    {
     "name": "stderr",
     "output_type": "stream",
     "text": [
      "\r",
      " 16%|███████████▊                                                              | 159/1000 [1:53:23<10:24:26, 44.55s/it]"
     ]
    },
    {
     "name": "stdout",
     "output_type": "stream",
     "text": [
      "\t ----- reward: -32.103377723828274 for f_star and f_minus: 32.85563102641855 , 32.103377723828274\n",
      "\t ---------- State is:  (9, 10)\n",
      "[INFO] [2023-02-27 22:24:52,027] [OpenBox-SPO] Iteration 160, objective value: [34.648706569234136].\n"
     ]
    },
    {
     "name": "stderr",
     "output_type": "stream",
     "text": [
      "\r",
      " 16%|███████████▊                                                              | 160/1000 [1:54:10<10:34:15, 45.30s/it]"
     ]
    },
    {
     "name": "stdout",
     "output_type": "stream",
     "text": [
      "\t ----- reward: -34.648706569234136 for f_star and f_minus: 32.103377723828274 , 34.648706569234136\n",
      "\t ---------- State is:  (10, 10)\n",
      "[INFO] [2023-02-27 22:25:44,085] [OpenBox-SPO] Iteration 161, objective value: [38.98696259569776].\n"
     ]
    },
    {
     "name": "stderr",
     "output_type": "stream",
     "text": [
      "\r",
      " 16%|███████████▉                                                              | 161/1000 [1:55:02<11:01:49, 47.33s/it]"
     ]
    },
    {
     "name": "stdout",
     "output_type": "stream",
     "text": [
      "\t ----- reward: -38.98696259569776 for f_star and f_minus: 32.103377723828274 , 38.98696259569776\n",
      "\t ---------- State is:  (9, 10)\n",
      "[INFO] [2023-02-27 22:26:26,505] [OpenBox-SPO] Iteration 162, objective value: [45.461885958378446].\n"
     ]
    },
    {
     "name": "stderr",
     "output_type": "stream",
     "text": [
      "\r",
      " 16%|███████████▉                                                              | 162/1000 [1:55:44<10:40:28, 45.86s/it]"
     ]
    },
    {
     "name": "stdout",
     "output_type": "stream",
     "text": [
      "\t ----- reward: -45.461885958378446 for f_star and f_minus: 32.103377723828274 , 45.461885958378446\n",
      "\t ---------- State is:  (9, 11)\n",
      "[INFO] [2023-02-27 22:27:07,350] [OpenBox-SPO] Iteration 163, objective value: [47.555470860524906].\n"
     ]
    },
    {
     "name": "stderr",
     "output_type": "stream",
     "text": [
      "\r",
      " 16%|████████████                                                              | 163/1000 [1:56:25<10:18:43, 44.35s/it]"
     ]
    },
    {
     "name": "stdout",
     "output_type": "stream",
     "text": [
      "\t ----- reward: -47.555470860524906 for f_star and f_minus: 32.103377723828274 , 47.555470860524906\n",
      "\t ---------- State is:  (9, 11)\n",
      "[INFO] [2023-02-27 22:27:55,601] [OpenBox-SPO] Iteration 164, objective value: [36.58185697174956].\n"
     ]
    },
    {
     "name": "stderr",
     "output_type": "stream",
     "text": [
      "\r",
      " 16%|████████████▏                                                             | 164/1000 [1:57:13<10:34:16, 45.52s/it]"
     ]
    },
    {
     "name": "stdout",
     "output_type": "stream",
     "text": [
      "\t ----- reward: -36.58185697174956 for f_star and f_minus: 32.103377723828274 , 36.58185697174956\n",
      "\t ---------- State is:  (8, 11)\n",
      "[INFO] [2023-02-27 22:28:47,303] [OpenBox-SPO] Iteration 165, objective value: [36.73553052066071].\n"
     ]
    },
    {
     "name": "stderr",
     "output_type": "stream",
     "text": [
      "\r",
      " 16%|████████████▏                                                             | 165/1000 [1:58:05<10:59:19, 47.38s/it]"
     ]
    },
    {
     "name": "stdout",
     "output_type": "stream",
     "text": [
      "\t ----- reward: -36.73553052066071 for f_star and f_minus: 32.103377723828274 , 36.73553052066071\n",
      "\t ---------- State is:  (8, 10)\n",
      "[INFO] [2023-02-27 22:29:29,714] [OpenBox-SPO] Iteration 166, objective value: [38.22609351748741].\n"
     ]
    },
    {
     "name": "stderr",
     "output_type": "stream",
     "text": [
      "\r",
      " 17%|████████████▎                                                             | 166/1000 [1:58:47<10:37:49, 45.89s/it]"
     ]
    },
    {
     "name": "stdout",
     "output_type": "stream",
     "text": [
      "\t ----- reward: -38.22609351748741 for f_star and f_minus: 32.103377723828274 , 38.22609351748741\n",
      "\t ---------- State is:  (8, 10)\n",
      "[INFO] [2023-02-27 22:30:10,677] [OpenBox-SPO] Iteration 167, objective value: [45.277301593804076].\n"
     ]
    },
    {
     "name": "stderr",
     "output_type": "stream",
     "text": [
      "\r",
      " 17%|████████████▎                                                             | 167/1000 [1:59:28<10:16:33, 44.41s/it]"
     ]
    },
    {
     "name": "stdout",
     "output_type": "stream",
     "text": [
      "\t ----- reward: -45.277301593804076 for f_star and f_minus: 32.103377723828274 , 45.277301593804076\n",
      "\t ---------- State is:  (7, 10)\n",
      "[INFO] [2023-02-27 22:31:00,740] [OpenBox-SPO] Iteration 168, objective value: [41.32251329801073].\n"
     ]
    },
    {
     "name": "stderr",
     "output_type": "stream",
     "text": [
      "\r",
      " 17%|████████████▍                                                             | 168/1000 [2:00:18<10:39:19, 46.11s/it]"
     ]
    },
    {
     "name": "stdout",
     "output_type": "stream",
     "text": [
      "\t ----- reward: -41.32251329801073 for f_star and f_minus: 32.103377723828274 , 41.32251329801073\n",
      "\t ---------- State is:  (7, 10)\n",
      "[INFO] [2023-02-27 22:31:43,209] [OpenBox-SPO] Iteration 169, objective value: [40.10683414906728].\n"
     ]
    },
    {
     "name": "stderr",
     "output_type": "stream",
     "text": [
      "\r",
      " 17%|████████████▌                                                             | 169/1000 [2:01:01<10:23:27, 45.01s/it]"
     ]
    },
    {
     "name": "stdout",
     "output_type": "stream",
     "text": [
      "\t ----- reward: -40.10683414906728 for f_star and f_minus: 32.103377723828274 , 40.10683414906728\n",
      "\t ---------- State is:  (6, 9)\n",
      "[INFO] [2023-02-27 22:32:36,374] [OpenBox-SPO] Iteration 170, objective value: [44.410425052810695].\n"
     ]
    },
    {
     "name": "stderr",
     "output_type": "stream",
     "text": [
      "\r",
      " 17%|████████████▌                                                             | 170/1000 [2:01:54<10:56:31, 47.46s/it]"
     ]
    },
    {
     "name": "stdout",
     "output_type": "stream",
     "text": [
      "\t ----- reward: -44.410425052810695 for f_star and f_minus: 32.103377723828274 , 44.410425052810695\n",
      "\t ---------- State is:  (7, 10)\n",
      "[INFO] [2023-02-27 22:33:22,564] [OpenBox-SPO] Iteration 171, objective value: [47.576487355760875].\n"
     ]
    },
    {
     "name": "stderr",
     "output_type": "stream",
     "text": [
      "\r",
      " 17%|████████████▋                                                             | 171/1000 [2:02:40<10:50:28, 47.08s/it]"
     ]
    },
    {
     "name": "stdout",
     "output_type": "stream",
     "text": [
      "\t ----- reward: -47.576487355760875 for f_star and f_minus: 32.103377723828274 , 47.576487355760875\n",
      "\t ---------- State is:  (8, 10)\n",
      "[INFO] [2023-02-27 22:34:11,173] [OpenBox-SPO] Iteration 172, objective value: [35.86605796383941].\n"
     ]
    },
    {
     "name": "stderr",
     "output_type": "stream",
     "text": [
      "\r",
      " 17%|████████████▋                                                             | 172/1000 [2:03:29<10:56:01, 47.54s/it]"
     ]
    },
    {
     "name": "stdout",
     "output_type": "stream",
     "text": [
      "\t ----- reward: -35.86605796383941 for f_star and f_minus: 32.103377723828274 , 35.86605796383941\n",
      "\t ---------- State is:  (9, 11)\n",
      "[INFO] [2023-02-27 22:34:56,202] [OpenBox-SPO] Iteration 173, objective value: [40.81378744512235].\n"
     ]
    },
    {
     "name": "stderr",
     "output_type": "stream",
     "text": [
      "\r",
      " 17%|████████████▊                                                             | 173/1000 [2:04:14<10:44:51, 46.79s/it]"
     ]
    },
    {
     "name": "stdout",
     "output_type": "stream",
     "text": [
      "\t ----- reward: -40.81378744512235 for f_star and f_minus: 32.103377723828274 , 40.81378744512235\n",
      "\t ---------- State is:  (8, 10)\n",
      "[INFO] [2023-02-27 22:35:39,690] [OpenBox-SPO] Iteration 174, objective value: [46.06776255525411].\n"
     ]
    },
    {
     "name": "stderr",
     "output_type": "stream",
     "text": [
      "\r",
      " 17%|████████████▉                                                             | 174/1000 [2:04:57<10:30:27, 45.80s/it]"
     ]
    },
    {
     "name": "stdout",
     "output_type": "stream",
     "text": [
      "\t ----- reward: -46.06776255525411 for f_star and f_minus: 32.103377723828274 , 46.06776255525411\n",
      "\t ---------- State is:  (9, 10)\n",
      "[INFO] [2023-02-27 22:36:24,850] [OpenBox-SPO] Iteration 175, objective value: [33.86589227985449].\n"
     ]
    },
    {
     "name": "stderr",
     "output_type": "stream",
     "text": [
      "\r",
      " 18%|████████████▉                                                             | 175/1000 [2:05:43<10:27:04, 45.61s/it]"
     ]
    },
    {
     "name": "stdout",
     "output_type": "stream",
     "text": [
      "\t ----- reward: -33.86589227985449 for f_star and f_minus: 32.103377723828274 , 33.86589227985449\n",
      "\t ---------- State is:  (10, 9)\n",
      "[INFO] [2023-02-27 22:37:06,798] [OpenBox-SPO] Iteration 176, objective value: [42.570545752942444].\n"
     ]
    },
    {
     "name": "stderr",
     "output_type": "stream",
     "text": [
      "\r",
      " 18%|█████████████                                                             | 176/1000 [2:06:24<10:11:14, 44.51s/it]"
     ]
    },
    {
     "name": "stdout",
     "output_type": "stream",
     "text": [
      "\t ----- reward: -42.570545752942444 for f_star and f_minus: 32.103377723828274 , 42.570545752942444\n",
      "\t ---------- State is:  (10, 9)\n",
      "[INFO] [2023-02-27 22:37:54,077] [OpenBox-SPO] Iteration 177, objective value: [38.882329633785126].\n"
     ]
    },
    {
     "name": "stderr",
     "output_type": "stream",
     "text": [
      "\r",
      " 18%|█████████████                                                             | 177/1000 [2:07:12<10:21:54, 45.34s/it]"
     ]
    },
    {
     "name": "stdout",
     "output_type": "stream",
     "text": [
      "\t ----- reward: -38.882329633785126 for f_star and f_minus: 32.103377723828274 , 38.882329633785126\n",
      "\t ---------- State is:  (10, 8)\n",
      "[INFO] [2023-02-27 22:38:44,898] [OpenBox-SPO] Iteration 178, objective value: [40.0254017078557].\n"
     ]
    },
    {
     "name": "stderr",
     "output_type": "stream",
     "text": [
      "\r",
      " 18%|█████████████▏                                                            | 178/1000 [2:08:03<10:43:40, 46.98s/it]"
     ]
    },
    {
     "name": "stdout",
     "output_type": "stream",
     "text": [
      "\t ----- reward: -40.0254017078557 for f_star and f_minus: 32.103377723828274 , 40.0254017078557\n",
      "\t ---------- State is:  (10, 8)\n",
      "[INFO] [2023-02-27 22:39:29,406] [OpenBox-SPO] Iteration 179, objective value: [36.84527633658394].\n"
     ]
    },
    {
     "name": "stderr",
     "output_type": "stream",
     "text": [
      "\r",
      " 18%|█████████████▏                                                            | 179/1000 [2:08:47<10:32:43, 46.24s/it]"
     ]
    },
    {
     "name": "stdout",
     "output_type": "stream",
     "text": [
      "\t ----- reward: -36.84527633658394 for f_star and f_minus: 32.103377723828274 , 36.84527633658394\n",
      "\t ---------- State is:  (9, 8)\n",
      "[INFO] [2023-02-27 22:40:23,422] [OpenBox-SPO] Iteration 180, objective value: [42.27768660228606].\n"
     ]
    },
    {
     "name": "stderr",
     "output_type": "stream",
     "text": [
      "\r",
      " 18%|█████████████▎                                                            | 180/1000 [2:09:41<11:03:50, 48.57s/it]"
     ]
    },
    {
     "name": "stdout",
     "output_type": "stream",
     "text": [
      "\t ----- reward: -42.27768660228606 for f_star and f_minus: 32.103377723828274 , 42.27768660228606\n",
      "\t ---------- State is:  (9, 8)\n",
      "[INFO] [2023-02-27 22:41:12,844] [OpenBox-SPO] Iteration 181, objective value: [37.04785544910776].\n"
     ]
    },
    {
     "name": "stderr",
     "output_type": "stream",
     "text": [
      "\r",
      " 18%|█████████████▍                                                            | 181/1000 [2:10:31<11:06:30, 48.83s/it]"
     ]
    },
    {
     "name": "stdout",
     "output_type": "stream",
     "text": [
      "\t ----- reward: -37.04785544910776 for f_star and f_minus: 32.103377723828274 , 37.04785544910776\n",
      "\t ---------- State is:  (9, 8)\n",
      "[INFO] [2023-02-27 22:42:03,636] [OpenBox-SPO] Iteration 182, objective value: [35.34571675313569].\n"
     ]
    },
    {
     "name": "stderr",
     "output_type": "stream",
     "text": [
      "\r",
      " 18%|█████████████▍                                                            | 182/1000 [2:11:21<11:13:43, 49.42s/it]"
     ]
    },
    {
     "name": "stdout",
     "output_type": "stream",
     "text": [
      "\t ----- reward: -35.34571675313569 for f_star and f_minus: 32.103377723828274 , 35.34571675313569\n",
      "\t ---------- State is:  (10, 8)\n",
      "[INFO] [2023-02-27 22:42:03,636] [Advisor] Sample random config. rand_prob=0.100000.\n",
      "[INFO] [2023-02-27 22:42:35,094] [OpenBox-SPO] Iteration 183, objective value: [53.724012957074294].\n"
     ]
    },
    {
     "name": "stderr",
     "output_type": "stream",
     "text": [
      "\r",
      " 18%|█████████████▋                                                             | 183/1000 [2:11:53<9:59:32, 44.03s/it]"
     ]
    },
    {
     "name": "stdout",
     "output_type": "stream",
     "text": [
      "\t ----- reward: -53.724012957074294 for f_star and f_minus: 32.103377723828274 , 53.724012957074294\n",
      "\t ---------- State is:  (10, 8)\n",
      "[INFO] [2023-02-27 22:43:19,213] [OpenBox-SPO] Iteration 184, objective value: [39.57944300720641].\n"
     ]
    },
    {
     "name": "stderr",
     "output_type": "stream",
     "text": [
      "\r",
      " 18%|█████████████▊                                                             | 184/1000 [2:12:37<9:59:10, 44.06s/it]"
     ]
    },
    {
     "name": "stdout",
     "output_type": "stream",
     "text": [
      "\t ----- reward: -39.57944300720641 for f_star and f_minus: 32.103377723828274 , 39.57944300720641\n",
      "\t ---------- State is:  (10, 8)\n",
      "[INFO] [2023-02-27 22:44:09,916] [OpenBox-SPO] Iteration 185, objective value: [38.751871333581654].\n"
     ]
    },
    {
     "name": "stderr",
     "output_type": "stream",
     "text": [
      "\r",
      " 18%|█████████████▋                                                            | 185/1000 [2:13:28<10:25:31, 46.05s/it]"
     ]
    },
    {
     "name": "stdout",
     "output_type": "stream",
     "text": [
      "\t ----- reward: -38.751871333581654 for f_star and f_minus: 32.103377723828274 , 38.751871333581654\n",
      "\t ---------- State is:  (10, 8)\n",
      "[INFO] [2023-02-27 22:44:51,892] [OpenBox-SPO] Iteration 186, objective value: [41.60032514815993].\n"
     ]
    },
    {
     "name": "stderr",
     "output_type": "stream",
     "text": [
      "\r",
      " 19%|█████████████▊                                                            | 186/1000 [2:14:10<10:08:09, 44.83s/it]"
     ]
    },
    {
     "name": "stdout",
     "output_type": "stream",
     "text": [
      "\t ----- reward: -41.60032514815993 for f_star and f_minus: 32.103377723828274 , 41.60032514815993\n",
      "\t ---------- State is:  (10, 8)\n",
      "[INFO] [2023-02-27 22:45:38,639] [OpenBox-SPO] Iteration 187, objective value: [38.531084242453595].\n"
     ]
    },
    {
     "name": "stderr",
     "output_type": "stream",
     "text": [
      "\r",
      " 19%|█████████████▊                                                            | 187/1000 [2:14:56<10:15:13, 45.40s/it]"
     ]
    },
    {
     "name": "stdout",
     "output_type": "stream",
     "text": [
      "\t ----- reward: -38.531084242453595 for f_star and f_minus: 32.103377723828274 , 38.531084242453595\n",
      "\t ---------- State is:  (9, 8)\n",
      "[INFO] [2023-02-27 22:46:33,494] [OpenBox-SPO] Iteration 188, objective value: [50.37604063705484].\n"
     ]
    },
    {
     "name": "stderr",
     "output_type": "stream",
     "text": [
      "\r",
      " 19%|█████████████▉                                                            | 188/1000 [2:15:51<10:52:50, 48.24s/it]"
     ]
    },
    {
     "name": "stdout",
     "output_type": "stream",
     "text": [
      "\t ----- reward: -50.37604063705484 for f_star and f_minus: 32.103377723828274 , 50.37604063705484\n",
      "\t ---------- State is:  (8, 9)\n",
      "[INFO] [2023-02-27 22:47:20,398] [OpenBox-SPO] Iteration 189, objective value: [38.51741293647872].\n"
     ]
    },
    {
     "name": "stderr",
     "output_type": "stream",
     "text": [
      "\r",
      " 19%|█████████████▉                                                            | 189/1000 [2:16:38<10:46:37, 47.84s/it]"
     ]
    },
    {
     "name": "stdout",
     "output_type": "stream",
     "text": [
      "\t ----- reward: -38.51741293647872 for f_star and f_minus: 32.103377723828274 , 38.51741293647872\n",
      "\t ---------- State is:  (8, 9)\n",
      "[INFO] [2023-02-27 22:48:12,892] [OpenBox-SPO] Iteration 190, objective value: [38.011994096633416].\n"
     ]
    },
    {
     "name": "stderr",
     "output_type": "stream",
     "text": [
      "\r",
      " 19%|██████████████                                                            | 190/1000 [2:17:31<11:04:40, 49.24s/it]"
     ]
    },
    {
     "name": "stdout",
     "output_type": "stream",
     "text": [
      "\t ----- reward: -38.011994096633416 for f_star and f_minus: 32.103377723828274 , 38.011994096633416\n",
      "\t ---------- State is:  (8, 8)\n",
      "[INFO] [2023-02-27 22:49:05,092] [OpenBox-SPO] Iteration 191, objective value: [35.79539680160397].\n"
     ]
    },
    {
     "name": "stderr",
     "output_type": "stream",
     "text": [
      "\r",
      " 19%|██████████████▏                                                           | 191/1000 [2:18:23<11:15:50, 50.12s/it]"
     ]
    },
    {
     "name": "stdout",
     "output_type": "stream",
     "text": [
      "\t ----- reward: -35.79539680160397 for f_star and f_minus: 32.103377723828274 , 35.79539680160397\n",
      "\t ---------- State is:  (8, 8)\n",
      "[INFO] [2023-02-27 22:49:49,544] [OpenBox-SPO] Iteration 192, objective value: [39.74919396983152].\n"
     ]
    },
    {
     "name": "stderr",
     "output_type": "stream",
     "text": [
      "\r",
      " 19%|██████████████▏                                                           | 192/1000 [2:19:07<10:52:05, 48.42s/it]"
     ]
    },
    {
     "name": "stdout",
     "output_type": "stream",
     "text": [
      "\t ----- reward: -39.74919396983152 for f_star and f_minus: 32.103377723828274 , 39.74919396983152\n",
      "\t ---------- State is:  (8, 8)\n",
      "[INFO] [2023-02-27 22:50:38,271] [OpenBox-SPO] Iteration 193, objective value: [40.039620738412594].\n"
     ]
    },
    {
     "name": "stderr",
     "output_type": "stream",
     "text": [
      "\r",
      " 19%|██████████████▎                                                           | 193/1000 [2:19:56<10:52:30, 48.51s/it]"
     ]
    },
    {
     "name": "stdout",
     "output_type": "stream",
     "text": [
      "\t ----- reward: -40.039620738412594 for f_star and f_minus: 32.103377723828274 , 40.039620738412594\n",
      "\t ---------- State is:  (9, 8)\n",
      "[INFO] [2023-02-27 22:51:26,336] [OpenBox-SPO] Iteration 194, objective value: [44.94573946685379].\n"
     ]
    },
    {
     "name": "stderr",
     "output_type": "stream",
     "text": [
      "\r",
      " 19%|██████████████▎                                                           | 194/1000 [2:20:44<10:49:53, 48.38s/it]"
     ]
    },
    {
     "name": "stdout",
     "output_type": "stream",
     "text": [
      "\t ----- reward: -44.94573946685379 for f_star and f_minus: 32.103377723828274 , 44.94573946685379\n",
      "\t ---------- State is:  (9, 8)\n",
      "[INFO] [2023-02-27 22:52:17,858] [OpenBox-SPO] Iteration 195, objective value: [39.68961831895146].\n"
     ]
    },
    {
     "name": "stderr",
     "output_type": "stream",
     "text": [
      "\r",
      " 20%|██████████████▍                                                           | 195/1000 [2:21:36<11:01:44, 49.32s/it]"
     ]
    },
    {
     "name": "stdout",
     "output_type": "stream",
     "text": [
      "\t ----- reward: -39.68961831895146 for f_star and f_minus: 32.103377723828274 , 39.68961831895146\n",
      "\t ---------- State is:  (10, 8)\n",
      "[INFO] [2023-02-27 22:53:02,316] [OpenBox-SPO] Iteration 196, objective value: [39.370587176901786].\n"
     ]
    },
    {
     "name": "stderr",
     "output_type": "stream",
     "text": [
      "\r",
      " 20%|██████████████▌                                                           | 196/1000 [2:22:20<10:41:21, 47.86s/it]"
     ]
    },
    {
     "name": "stdout",
     "output_type": "stream",
     "text": [
      "\t ----- reward: -39.370587176901786 for f_star and f_minus: 32.103377723828274 , 39.370587176901786\n",
      "\t ---------- State is:  (10, 8)\n",
      "[INFO] [2023-02-27 22:53:48,446] [OpenBox-SPO] Iteration 197, objective value: [37.33899046299648].\n"
     ]
    },
    {
     "name": "stderr",
     "output_type": "stream",
     "text": [
      "\r",
      " 20%|██████████████▌                                                           | 197/1000 [2:23:06<10:33:36, 47.34s/it]"
     ]
    },
    {
     "name": "stdout",
     "output_type": "stream",
     "text": [
      "\t ----- reward: -37.33899046299648 for f_star and f_minus: 32.103377723828274 , 37.33899046299648\n",
      "\t ---------- State is:  (10, 8)\n",
      "[INFO] [2023-02-27 22:54:37,470] [OpenBox-SPO] Iteration 198, objective value: [45.60295621445988].\n"
     ]
    },
    {
     "name": "stderr",
     "output_type": "stream",
     "text": [
      "\r",
      " 20%|██████████████▋                                                           | 198/1000 [2:23:55<10:39:33, 47.85s/it]"
     ]
    },
    {
     "name": "stdout",
     "output_type": "stream",
     "text": [
      "\t ----- reward: -45.60295621445988 for f_star and f_minus: 32.103377723828274 , 45.60295621445988\n",
      "\t ---------- State is:  (9, 8)\n",
      "[INFO] [2023-02-27 22:55:17,367] [OpenBox-SPO] Iteration 199, objective value: [30.60428483034012].\n"
     ]
    },
    {
     "name": "stderr",
     "output_type": "stream",
     "text": [
      "\r",
      " 20%|██████████████▋                                                           | 199/1000 [2:24:35<10:06:55, 45.46s/it]"
     ]
    },
    {
     "name": "stdout",
     "output_type": "stream",
     "text": [
      "\t ----- reward: -30.60428483034012 for f_star and f_minus: 32.103377723828274 , 30.60428483034012\n",
      "\t ---------- State is:  (8, 8)\n",
      "[INFO] [2023-02-27 22:55:56,266] [OpenBox-SPO] Iteration 200, objective value: [54.99398922957246].\n"
     ]
    },
    {
     "name": "stderr",
     "output_type": "stream",
     "text": [
      "\r",
      " 20%|███████████████                                                            | 200/1000 [2:25:14<9:39:54, 43.49s/it]"
     ]
    },
    {
     "name": "stdout",
     "output_type": "stream",
     "text": [
      "\t ----- reward: -54.99398922957246 for f_star and f_minus: 30.60428483034012 , 54.99398922957246\n",
      "\t ---------- State is:  (7, 10)\n",
      "[INFO] [2023-02-27 22:56:39,113] [OpenBox-SPO] Iteration 201, objective value: [36.41133736601196].\n"
     ]
    },
    {
     "name": "stderr",
     "output_type": "stream",
     "text": [
      "\r",
      " 20%|███████████████                                                            | 201/1000 [2:25:57<9:36:36, 43.30s/it]"
     ]
    },
    {
     "name": "stdout",
     "output_type": "stream",
     "text": [
      "\t ----- reward: -36.41133736601196 for f_star and f_minus: 30.60428483034012 , 36.41133736601196\n",
      "\t ---------- State is:  (6, 10)\n",
      "[INFO] [2023-02-27 22:57:26,003] [OpenBox-SPO] Iteration 202, objective value: [36.06320399082883].\n"
     ]
    },
    {
     "name": "stderr",
     "output_type": "stream",
     "text": [
      "\r",
      " 20%|███████████████▏                                                           | 202/1000 [2:26:44<9:50:12, 44.38s/it]"
     ]
    },
    {
     "name": "stdout",
     "output_type": "stream",
     "text": [
      "\t ----- reward: -36.06320399082883 for f_star and f_minus: 30.60428483034012 , 36.06320399082883\n",
      "\t ---------- State is:  (5, 10)\n",
      "[INFO] [2023-02-27 22:58:10,227] [OpenBox-SPO] Iteration 203, objective value: [39.75327072491678].\n"
     ]
    },
    {
     "name": "stderr",
     "output_type": "stream",
     "text": [
      "\r",
      " 20%|███████████████▏                                                           | 203/1000 [2:27:28<9:48:51, 44.33s/it]"
     ]
    },
    {
     "name": "stdout",
     "output_type": "stream",
     "text": [
      "\t ----- reward: -39.75327072491678 for f_star and f_minus: 30.60428483034012 , 39.75327072491678\n",
      "\t ---------- State is:  (4, 9)\n",
      "[INFO] [2023-02-27 22:58:59,906] [OpenBox-SPO] Iteration 204, objective value: [40.21138357832372].\n"
     ]
    },
    {
     "name": "stderr",
     "output_type": "stream",
     "text": [
      "\r",
      " 20%|███████████████                                                           | 204/1000 [2:28:18<10:09:24, 45.94s/it]"
     ]
    },
    {
     "name": "stdout",
     "output_type": "stream",
     "text": [
      "\t ----- reward: -40.21138357832372 for f_star and f_minus: 30.60428483034012 , 40.21138357832372\n",
      "\t ---------- State is:  (3, 9)\n",
      "[INFO] [2023-02-27 22:59:44,032] [OpenBox-SPO] Iteration 205, objective value: [37.471735618365244].\n"
     ]
    },
    {
     "name": "stderr",
     "output_type": "stream",
     "text": [
      "\r",
      " 20%|███████████████▏                                                          | 205/1000 [2:29:02<10:01:27, 45.39s/it]"
     ]
    },
    {
     "name": "stdout",
     "output_type": "stream",
     "text": [
      "\t ----- reward: -37.471735618365244 for f_star and f_minus: 30.60428483034012 , 37.471735618365244\n",
      "\t ---------- State is:  (2, 9)\n",
      "[INFO] [2023-02-27 23:00:25,834] [OpenBox-SPO] Iteration 206, objective value: [47.305047734749394].\n"
     ]
    },
    {
     "name": "stderr",
     "output_type": "stream",
     "text": [
      "\r",
      " 21%|███████████████▍                                                           | 206/1000 [2:29:44<9:46:26, 44.32s/it]"
     ]
    },
    {
     "name": "stdout",
     "output_type": "stream",
     "text": [
      "\t ----- reward: -47.305047734749394 for f_star and f_minus: 30.60428483034012 , 47.305047734749394\n",
      "\t ---------- State is:  (1, 9)\n",
      "[INFO] [2023-02-27 23:01:08,218] [OpenBox-SPO] Iteration 207, objective value: [39.091846764237715].\n"
     ]
    },
    {
     "name": "stderr",
     "output_type": "stream",
     "text": [
      "\r",
      " 21%|███████████████▌                                                           | 207/1000 [2:30:26<9:38:02, 43.74s/it]"
     ]
    },
    {
     "name": "stdout",
     "output_type": "stream",
     "text": [
      "\t ----- reward: -39.091846764237715 for f_star and f_minus: 30.60428483034012 , 39.091846764237715\n",
      "\t ---------- State is:  (0, 9)\n",
      "[INFO] [2023-02-27 23:01:47,631] [OpenBox-SPO] Iteration 208, objective value: [47.55935581926731].\n"
     ]
    },
    {
     "name": "stderr",
     "output_type": "stream",
     "text": [
      "\r",
      " 21%|███████████████▌                                                           | 208/1000 [2:31:05<9:20:11, 42.44s/it]"
     ]
    },
    {
     "name": "stdout",
     "output_type": "stream",
     "text": [
      "\t ----- reward: -47.55935581926731 for f_star and f_minus: 30.60428483034012 , 47.55935581926731\n",
      "\t ---------- State is:  (1, 9)\n",
      "[INFO] [2023-02-27 23:02:36,585] [OpenBox-SPO] Iteration 209, objective value: [53.877260707444066].\n"
     ]
    },
    {
     "name": "stderr",
     "output_type": "stream",
     "text": [
      "\r",
      " 21%|███████████████▋                                                           | 209/1000 [2:31:54<9:45:15, 44.39s/it]"
     ]
    },
    {
     "name": "stdout",
     "output_type": "stream",
     "text": [
      "\t ----- reward: -53.877260707444066 for f_star and f_minus: 30.60428483034012 , 53.877260707444066\n",
      "\t ---------- State is:  (1, 10)\n",
      "[INFO] [2023-02-27 23:02:36,585] [Advisor] Sample random config. rand_prob=0.100000.\n",
      "[INFO] [2023-02-27 23:03:12,445] [OpenBox-SPO] Iteration 210, objective value: [49.315141632761275].\n"
     ]
    },
    {
     "name": "stderr",
     "output_type": "stream",
     "text": [
      "\r",
      " 21%|███████████████▊                                                           | 210/1000 [2:32:30<9:10:48, 41.83s/it]"
     ]
    },
    {
     "name": "stdout",
     "output_type": "stream",
     "text": [
      "\t ----- reward: -49.315141632761275 for f_star and f_minus: 30.60428483034012 , 49.315141632761275\n",
      "\t ---------- State is:  (2, 11)\n",
      "[INFO] [2023-02-27 23:03:52,193] [OpenBox-SPO] Iteration 211, objective value: [46.904335096928776].\n"
     ]
    },
    {
     "name": "stderr",
     "output_type": "stream",
     "text": [
      "\r",
      " 21%|███████████████▊                                                           | 211/1000 [2:33:10<9:01:53, 41.21s/it]"
     ]
    },
    {
     "name": "stdout",
     "output_type": "stream",
     "text": [
      "\t ----- reward: -46.904335096928776 for f_star and f_minus: 30.60428483034012 , 46.904335096928776\n",
      "\t ---------- State is:  (1, 11)\n",
      "[INFO] [2023-02-27 23:04:36,596] [OpenBox-SPO] Iteration 212, objective value: [39.11793782019608].\n"
     ]
    },
    {
     "name": "stderr",
     "output_type": "stream",
     "text": [
      "\r",
      " 21%|███████████████▉                                                           | 212/1000 [2:33:54<9:13:47, 42.17s/it]"
     ]
    },
    {
     "name": "stdout",
     "output_type": "stream",
     "text": [
      "\t ----- reward: -39.11793782019608 for f_star and f_minus: 30.60428483034012 , 39.11793782019608\n",
      "\t ---------- State is:  (1, 11)\n",
      "[INFO] [2023-02-27 23:05:26,106] [OpenBox-SPO] Iteration 213, objective value: [31.50576634056496].\n"
     ]
    },
    {
     "name": "stderr",
     "output_type": "stream",
     "text": [
      "\r",
      " 21%|███████████████▉                                                           | 213/1000 [2:34:44<9:41:59, 44.37s/it]"
     ]
    },
    {
     "name": "stdout",
     "output_type": "stream",
     "text": [
      "\t ----- reward: -31.50576634056496 for f_star and f_minus: 30.60428483034012 , 31.50576634056496\n",
      "\t ---------- State is:  (1, 11)\n"
     ]
    }
   ],
   "source": [
    "import SensorOptimizers.BayesianOptimization as bo\n",
    "import numpy as np\n",
    "import pickle\n",
    "import Config as cf\n",
    "\n",
    "maxSensorNum = int(np.min([(cf.space[2][0] / cf.epsilon) * (cf.space[2][1] / cf.epsilon), cf.LSsensorsNum]))\n",
    "\n",
    "print('----- Running BO with: \\n \\t - epsilon: ', cf.epsilon, \n",
    "      '\\n \\t - LS sensors #:', cf.LSsensorsNum, \n",
    "      '\\n \\t - IS sensors #:', cf.ISsensorsNum, \n",
    "      ' \\n \\t - initial state: ', cf.initial_state)\n",
    "\n",
    "for i in range(0, 1):\n",
    "    BO = bo.BayesianOptimization(testbed = cf.testbed,\n",
    "                                 iteration = cf.bo_iteration, \n",
    "                                 epsilon = cf.epsilon, \n",
    "                                 error = cf.error,\n",
    "                                 ROS = True, \n",
    "                                 LSmaxSensorNum = maxSensorNum,\n",
    "                                 ISmaxSensorNum = cf.ISsensorsNum, \n",
    "                                 initial_state = cf.initial_state,\n",
    "                                 input_sensor_types = cf.sensor_types,\n",
    "                                 acquisition_function = cf.acquisition_function,\n",
    "                                 surrogate_model = cf.surrogate_model,\n",
    "                                 acq_optimizer_type = cf.acq_optimizer_type)\n",
    "\n",
    "    history, states, actions, rewards = BO.run(RLBO = cf.RLBO)\n",
    "\n",
    "    with open('Results_BO/history(LS' + str(cf.LSsensorsNum) +  'IS' + str(cf.ISsensorsNum) + ')_' + str(i), 'wb') as handle:\n",
    "        pickle.dump(history, handle, protocol=pickle.HIGHEST_PROTOCOL)\n",
    "            \n",
    "    print(history)"
   ]
  },
  {
   "cell_type": "code",
   "execution_count": null,
   "metadata": {},
   "outputs": [],
   "source": [
    "import matplotlib.pylab as plt\n",
    "\n",
    "plt.plot(rewards)"
   ]
  },
  {
   "cell_type": "code",
   "execution_count": null,
   "metadata": {},
   "outputs": [],
   "source": [
    "history.plot_convergence()"
   ]
  },
  {
   "cell_type": "code",
   "execution_count": null,
   "metadata": {},
   "outputs": [],
   "source": [
    "plt.plot([s[1] for s in states[5:len(states)]])"
   ]
  },
  {
   "cell_type": "code",
   "execution_count": null,
   "metadata": {},
   "outputs": [],
   "source": [
    "plt.plot([s[0] for s in states])"
   ]
  },
  {
   "cell_type": "code",
   "execution_count": null,
   "metadata": {},
   "outputs": [],
   "source": [
    "plt.plot(actions)"
   ]
  }
 ],
 "metadata": {
  "kernelspec": {
   "display_name": "Python 3 (ipykernel)",
   "language": "python",
   "name": "python3"
  },
  "language_info": {
   "codemirror_mode": {
    "name": "ipython",
    "version": 3
   },
   "file_extension": ".py",
   "mimetype": "text/x-python",
   "name": "python",
   "nbconvert_exporter": "python",
   "pygments_lexer": "ipython3",
   "version": "3.9.12"
  },
  "vscode": {
   "interpreter": {
    "hash": "aee8b7b246df8f9039afb4144a1f6fd8d2ca17a180786b69acc140d282b71a49"
   }
  }
 },
 "nbformat": 4,
 "nbformat_minor": 4
}
