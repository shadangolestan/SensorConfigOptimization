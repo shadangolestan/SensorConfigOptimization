{
 "cells": [
  {
   "cell_type": "code",
   "execution_count": 1,
   "metadata": {},
   "outputs": [],
   "source": [
    "# This is running BO with multiple sensors"
   ]
  },
  {
   "cell_type": "code",
   "execution_count": 2,
   "metadata": {},
   "outputs": [
    {
     "name": "stdout",
     "output_type": "stream",
     "text": [
      "kg\n",
      "0\n"
     ]
    }
   ],
   "source": [
    "import Config as cf\n",
    "print(cf.acquisition_function)\n",
    "\n",
    "print(len(cf.performance))"
   ]
  },
  {
   "cell_type": "code",
   "execution_count": 3,
   "metadata": {
    "scrolled": true
   },
   "outputs": [
    {
     "name": "stdout",
     "output_type": "stream",
     "text": [
      "----- Running BO with: \n",
      " \t - epsilon:  1 \n",
      " \t - LS sensors #: 9 \n",
      " \t - IS sensors #: 9  \n",
      " \t - initial state:  random\n",
      "Processing Region of Similarity... [COMPLETED]\n",
      "adviser type is default...\n",
      "[INFO] [2023-02-28 23:30:00,753] [Advisor] === [BO auto selection] === acq_optimizer_type: local_random.\n",
      "[Build Surrogate] Use probabilistic random forest based on scikit-learn. For better performance, please install pyrfr: https://open-box.readthedocs.io/en/latest/installation/install_pyrfr.html\n"
     ]
    },
    {
     "name": "stderr",
     "output_type": "stream",
     "text": [
      "  0%|                                                                                         | 0/1000 [00:02<?, ?it/s]\n"
     ]
    },
    {
     "ename": "KeyboardInterrupt",
     "evalue": "",
     "output_type": "error",
     "traceback": [
      "\u001b[1;31m---------------------------------------------------------------------------\u001b[0m",
      "\u001b[1;31mKeyboardInterrupt\u001b[0m                         Traceback (most recent call last)",
      "Input \u001b[1;32mIn [3]\u001b[0m, in \u001b[0;36m<cell line: 13>\u001b[1;34m()\u001b[0m\n\u001b[0;32m     13\u001b[0m \u001b[38;5;28;01mfor\u001b[39;00m i \u001b[38;5;129;01min\u001b[39;00m \u001b[38;5;28mrange\u001b[39m(\u001b[38;5;241m0\u001b[39m, \u001b[38;5;241m1\u001b[39m):\n\u001b[0;32m     14\u001b[0m     BO \u001b[38;5;241m=\u001b[39m bo\u001b[38;5;241m.\u001b[39mBayesianOptimization(testbed \u001b[38;5;241m=\u001b[39m cf\u001b[38;5;241m.\u001b[39mtestbed,\n\u001b[0;32m     15\u001b[0m                                  iteration \u001b[38;5;241m=\u001b[39m cf\u001b[38;5;241m.\u001b[39mbo_iteration, \n\u001b[0;32m     16\u001b[0m                                  epsilon \u001b[38;5;241m=\u001b[39m cf\u001b[38;5;241m.\u001b[39mepsilon, \n\u001b[1;32m   (...)\u001b[0m\n\u001b[0;32m     24\u001b[0m                                  surrogate_model \u001b[38;5;241m=\u001b[39m cf\u001b[38;5;241m.\u001b[39msurrogate_model,\n\u001b[0;32m     25\u001b[0m                                  acq_optimizer_type \u001b[38;5;241m=\u001b[39m cf\u001b[38;5;241m.\u001b[39macq_optimizer_type)\n\u001b[1;32m---> 27\u001b[0m     history, states, actions, rewards \u001b[38;5;241m=\u001b[39m \u001b[43mBO\u001b[49m\u001b[38;5;241;43m.\u001b[39;49m\u001b[43mrun\u001b[49m\u001b[43m(\u001b[49m\u001b[43mRLBO\u001b[49m\u001b[43m \u001b[49m\u001b[38;5;241;43m=\u001b[39;49m\u001b[43m \u001b[49m\u001b[38;5;28;43;01mFalse\u001b[39;49;00m\u001b[43m)\u001b[49m\n\u001b[0;32m     29\u001b[0m     \u001b[38;5;28;01mwith\u001b[39;00m \u001b[38;5;28mopen\u001b[39m(\u001b[38;5;124m'\u001b[39m\u001b[38;5;124mResults_BO/history(LS\u001b[39m\u001b[38;5;124m'\u001b[39m \u001b[38;5;241m+\u001b[39m \u001b[38;5;28mstr\u001b[39m(cf\u001b[38;5;241m.\u001b[39mLSsensorsNum) \u001b[38;5;241m+\u001b[39m  \u001b[38;5;124m'\u001b[39m\u001b[38;5;124mIS\u001b[39m\u001b[38;5;124m'\u001b[39m \u001b[38;5;241m+\u001b[39m \u001b[38;5;28mstr\u001b[39m(cf\u001b[38;5;241m.\u001b[39mISsensorsNum) \u001b[38;5;241m+\u001b[39m \u001b[38;5;124m'\u001b[39m\u001b[38;5;124m)_\u001b[39m\u001b[38;5;124m'\u001b[39m \u001b[38;5;241m+\u001b[39m \u001b[38;5;28mstr\u001b[39m(i), \u001b[38;5;124m'\u001b[39m\u001b[38;5;124mwb\u001b[39m\u001b[38;5;124m'\u001b[39m) \u001b[38;5;28;01mas\u001b[39;00m handle:\n\u001b[0;32m     30\u001b[0m         pickle\u001b[38;5;241m.\u001b[39mdump(history, handle, protocol\u001b[38;5;241m=\u001b[39mpickle\u001b[38;5;241m.\u001b[39mHIGHEST_PROTOCOL)\n",
      "File \u001b[1;32m~\\OneDrive\\Desktop\\RLBO\\Smart-Home-Sensor-Placement-Optimization-main\\SensorConfigurationOptimization\\SensorOptimizers\\BayesianOptimization.py:616\u001b[0m, in \u001b[0;36mBayesianOptimization.run\u001b[1;34m(self, RLBO)\u001b[0m\n\u001b[0;32m    614\u001b[0m     \u001b[38;5;28;01mreturn\u001b[39;00m history, s, a, r\n\u001b[0;32m    615\u001b[0m \u001b[38;5;28;01melse\u001b[39;00m:\n\u001b[1;32m--> 616\u001b[0m     history \u001b[38;5;241m=\u001b[39m \u001b[43mopt\u001b[49m\u001b[38;5;241;43m.\u001b[39;49m\u001b[43mrun\u001b[49m\u001b[43m(\u001b[49m\u001b[43m)\u001b[49m\n\u001b[0;32m    617\u001b[0m     \u001b[38;5;28;01mreturn\u001b[39;00m history\n",
      "File \u001b[1;32m~\\OneDrive\\Desktop\\RLBO\\Smart-Home-Sensor-Placement-Optimization-main\\SensorConfigurationOptimization\\openbox\\optimizer\\generic_smbo.py:431\u001b[0m, in \u001b[0;36mSMBO.run\u001b[1;34m(self)\u001b[0m\n\u001b[0;32m    428\u001b[0m     \u001b[38;5;28;01mbreak\u001b[39;00m\n\u001b[0;32m    429\u001b[0m start_time \u001b[38;5;241m=\u001b[39m time\u001b[38;5;241m.\u001b[39mtime()\n\u001b[1;32m--> 431\u001b[0m \u001b[38;5;28;43mself\u001b[39;49m\u001b[38;5;241;43m.\u001b[39;49m\u001b[43miterate\u001b[49m\u001b[43m(\u001b[49m\u001b[43mbudget_left\u001b[49m\u001b[38;5;241;43m=\u001b[39;49m\u001b[38;5;28;43mself\u001b[39;49m\u001b[38;5;241;43m.\u001b[39;49m\u001b[43mbudget_left\u001b[49m\u001b[43m)\u001b[49m\n\u001b[0;32m    433\u001b[0m runtime \u001b[38;5;241m=\u001b[39m time\u001b[38;5;241m.\u001b[39mtime() \u001b[38;5;241m-\u001b[39m start_time\n\u001b[0;32m    434\u001b[0m \u001b[38;5;28mself\u001b[39m\u001b[38;5;241m.\u001b[39mbudget_left \u001b[38;5;241m-\u001b[39m\u001b[38;5;241m=\u001b[39m runtime\n",
      "File \u001b[1;32m~\\OneDrive\\Desktop\\RLBO\\Smart-Home-Sensor-Placement-Optimization-main\\SensorConfigurationOptimization\\openbox\\optimizer\\generic_smbo.py:459\u001b[0m, in \u001b[0;36mSMBO.iterate\u001b[1;34m(self, budget_left, RLBO, rl_action)\u001b[0m\n\u001b[0;32m    456\u001b[0m \u001b[38;5;28;01mtry\u001b[39;00m:\n\u001b[0;32m    457\u001b[0m     \u001b[38;5;66;03m# evaluate configuration on objective_function within time_limit_per_trial\u001b[39;00m\n\u001b[0;32m    458\u001b[0m     args, kwargs \u001b[38;5;241m=\u001b[39m (config,), \u001b[38;5;28mdict\u001b[39m()\n\u001b[1;32m--> 459\u001b[0m     timeout_status, _result \u001b[38;5;241m=\u001b[39m \u001b[43mtime_limit\u001b[49m\u001b[43m(\u001b[49m\u001b[38;5;28;43mself\u001b[39;49m\u001b[38;5;241;43m.\u001b[39;49m\u001b[43mobjective_function\u001b[49m\u001b[43m,\u001b[49m\n\u001b[0;32m    460\u001b[0m \u001b[43m                                         \u001b[49m\u001b[43m_time_limit_per_trial\u001b[49m\u001b[43m,\u001b[49m\n\u001b[0;32m    461\u001b[0m \u001b[43m                                         \u001b[49m\u001b[43margs\u001b[49m\u001b[38;5;241;43m=\u001b[39;49m\u001b[43margs\u001b[49m\u001b[43m,\u001b[49m\u001b[43m \u001b[49m\u001b[43mkwargs\u001b[49m\u001b[38;5;241;43m=\u001b[39;49m\u001b[43mkwargs\u001b[49m\u001b[43m)\u001b[49m\n\u001b[0;32m    462\u001b[0m     \u001b[38;5;28;01mif\u001b[39;00m timeout_status:\n\u001b[0;32m    463\u001b[0m         \u001b[38;5;28;01mraise\u001b[39;00m TimeoutException(\n\u001b[0;32m    464\u001b[0m             \u001b[38;5;124m'\u001b[39m\u001b[38;5;124mTimeout: time limit for this evaluation is \u001b[39m\u001b[38;5;132;01m%.1f\u001b[39;00m\u001b[38;5;124ms\u001b[39m\u001b[38;5;124m'\u001b[39m \u001b[38;5;241m%\u001b[39m _time_limit_per_trial)\n",
      "File \u001b[1;32m~\\OneDrive\\Desktop\\RLBO\\Smart-Home-Sensor-Placement-Optimization-main\\SensorConfigurationOptimization\\openbox\\utils\\limit.py:81\u001b[0m, in \u001b[0;36mtime_limit\u001b[1;34m(func, time, *args, **kwargs)\u001b[0m\n\u001b[0;32m     78\u001b[0m     kwargs \u001b[38;5;241m=\u001b[39m kwargs[\u001b[38;5;124m'\u001b[39m\u001b[38;5;124mkwargs\u001b[39m\u001b[38;5;124m'\u001b[39m]\n\u001b[0;32m     80\u001b[0m \u001b[38;5;28;01mif\u001b[39;00m _platform \u001b[38;5;241m==\u001b[39m \u001b[38;5;124m'\u001b[39m\u001b[38;5;124mWindows\u001b[39m\u001b[38;5;124m'\u001b[39m:\n\u001b[1;32m---> 81\u001b[0m     \u001b[38;5;28;01mreturn\u001b[39;00m no_time_limit_func(func, time, \u001b[38;5;241m*\u001b[39margs, \u001b[38;5;241m*\u001b[39m\u001b[38;5;241m*\u001b[39mkwargs)\n\u001b[0;32m     83\u001b[0m \u001b[38;5;28;01mif\u001b[39;00m _platform \u001b[38;5;241m==\u001b[39m \u001b[38;5;124m'\u001b[39m\u001b[38;5;124mOSX\u001b[39m\u001b[38;5;124m'\u001b[39m \u001b[38;5;129;01mand\u001b[39;00m sys\u001b[38;5;241m.\u001b[39mversion_info \u001b[38;5;241m>\u001b[39m\u001b[38;5;241m=\u001b[39m (\u001b[38;5;241m3\u001b[39m, \u001b[38;5;241m8\u001b[39m):\n\u001b[0;32m     84\u001b[0m     \u001b[38;5;28;01mreturn\u001b[39;00m no_time_limit_func(func, time, \u001b[38;5;241m*\u001b[39margs, \u001b[38;5;241m*\u001b[39m\u001b[38;5;241m*\u001b[39mkwargs)\n",
      "File \u001b[1;32m~\\OneDrive\\Desktop\\RLBO\\Smart-Home-Sensor-Placement-Optimization-main\\SensorConfigurationOptimization\\openbox\\utils\\limit.py:70\u001b[0m, in \u001b[0;36mno_time_limit_func\u001b[1;34m(objective_function, time, *args, **kwargs)\u001b[0m\n\u001b[0;32m     69\u001b[0m \u001b[38;5;28;01mdef\u001b[39;00m \u001b[38;5;21mno_time_limit_func\u001b[39m(objective_function, time, \u001b[38;5;241m*\u001b[39margs, \u001b[38;5;241m*\u001b[39m\u001b[38;5;241m*\u001b[39mkwargs):\n\u001b[1;32m---> 70\u001b[0m     ret \u001b[38;5;241m=\u001b[39m objective_function(\u001b[38;5;241m*\u001b[39margs, \u001b[38;5;241m*\u001b[39m\u001b[38;5;241m*\u001b[39mkwargs)\n\u001b[0;32m     71\u001b[0m     \u001b[38;5;28;01mreturn\u001b[39;00m Returns(timeout_status\u001b[38;5;241m=\u001b[39m\u001b[38;5;28;01mFalse\u001b[39;00m, results\u001b[38;5;241m=\u001b[39mret)\n",
      "File \u001b[1;32m~\\OneDrive\\Desktop\\RLBO\\Smart-Home-Sensor-Placement-Optimization-main\\SensorConfigurationOptimization\\SensorOptimizers\\BayesianOptimization.py:503\u001b[0m, in \u001b[0;36mBayesianOptimization.function_to_be_optimized\u001b[1;34m(self, config)\u001b[0m\n\u001b[0;32m    499\u001b[0m         sensorTypes\u001b[38;5;241m.\u001b[39mappend(config[\u001b[38;5;124m'\u001b[39m\u001b[38;5;124mis_t\u001b[39m\u001b[38;5;124m'\u001b[39m \u001b[38;5;241m+\u001b[39m \u001b[38;5;28mstr\u001b[39m(i)])\n\u001b[0;32m    501\u001b[0m data \u001b[38;5;241m=\u001b[39m Data(sensorPositions, sensorTypes, \u001b[38;5;28mself\u001b[39m\u001b[38;5;241m.\u001b[39mBOV\u001b[38;5;241m.\u001b[39mspace, \u001b[38;5;28mself\u001b[39m\u001b[38;5;241m.\u001b[39mCONSTANTS[\u001b[38;5;124m'\u001b[39m\u001b[38;5;124mepsilon\u001b[39m\u001b[38;5;124m'\u001b[39m])\n\u001b[1;32m--> 503\u001b[0m \u001b[38;5;28;01mreturn\u001b[39;00m \u001b[38;5;241m100\u001b[39m \u001b[38;5;241m-\u001b[39m \u001b[38;5;28;43mself\u001b[39;49m\u001b[38;5;241;43m.\u001b[39;49m\u001b[43mblack_box_function\u001b[49m\u001b[43m(\u001b[49m\u001b[43mdata\u001b[49m\u001b[43m,\u001b[49m\u001b[43m \u001b[49m\n\u001b[0;32m    504\u001b[0m \u001b[43m                                     \u001b[49m\u001b[43msimulateMotionSensors\u001b[49m\u001b[43m \u001b[49m\u001b[38;5;241;43m=\u001b[39;49m\u001b[43m \u001b[49m\u001b[38;5;28;43mself\u001b[39;49m\u001b[38;5;241;43m.\u001b[39;49m\u001b[43msensor_types\u001b[49m\u001b[43m[\u001b[49m\u001b[38;5;124;43m'\u001b[39;49m\u001b[38;5;124;43mmodel_motion_sensor\u001b[39;49m\u001b[38;5;124;43m'\u001b[39;49m\u001b[43m]\u001b[49m\u001b[43m,\u001b[49m\n\u001b[0;32m    505\u001b[0m \u001b[43m                                     \u001b[49m\u001b[43msimulateEstimotes\u001b[49m\u001b[43m \u001b[49m\u001b[38;5;241;43m=\u001b[39;49m\u001b[43m \u001b[49m\u001b[38;5;28;43mself\u001b[39;49m\u001b[38;5;241;43m.\u001b[39;49m\u001b[43msensor_types\u001b[49m\u001b[43m[\u001b[49m\u001b[38;5;124;43m'\u001b[39;49m\u001b[38;5;124;43mmodel_beacon_sensor\u001b[39;49m\u001b[38;5;124;43m'\u001b[39;49m\u001b[43m]\u001b[49m\u001b[43m,\u001b[49m\n\u001b[0;32m    506\u001b[0m \u001b[43m                                     \u001b[49m\u001b[43msimulateIS\u001b[49m\u001b[43m \u001b[49m\u001b[38;5;241;43m=\u001b[39;49m\u001b[43m \u001b[49m\u001b[43m(\u001b[49m\u001b[38;5;28;43mself\u001b[39;49m\u001b[38;5;241;43m.\u001b[39;49m\u001b[43msensor_types\u001b[49m\u001b[43m[\u001b[49m\u001b[38;5;124;43m'\u001b[39;49m\u001b[38;5;124;43mmodel_pressure_sensor\u001b[39;49m\u001b[38;5;124;43m'\u001b[39;49m\u001b[43m]\u001b[49m\u001b[43m \u001b[49m\u001b[38;5;129;43;01mand\u001b[39;49;00m\n\u001b[0;32m    507\u001b[0m \u001b[43m                                                   \u001b[49m\u001b[38;5;28;43mself\u001b[39;49m\u001b[38;5;241;43m.\u001b[39;49m\u001b[43msensor_types\u001b[49m\u001b[43m[\u001b[49m\u001b[38;5;124;43m'\u001b[39;49m\u001b[38;5;124;43mmodel_accelerometer\u001b[39;49m\u001b[38;5;124;43m'\u001b[39;49m\u001b[43m]\u001b[49m\u001b[43m \u001b[49m\u001b[38;5;129;43;01mand\u001b[39;49;00m\n\u001b[0;32m    508\u001b[0m \u001b[43m                                                   \u001b[49m\u001b[38;5;28;43mself\u001b[39;49m\u001b[38;5;241;43m.\u001b[39;49m\u001b[43msensor_types\u001b[49m\u001b[43m[\u001b[49m\u001b[38;5;124;43m'\u001b[39;49m\u001b[38;5;124;43mmodel_electricity_sensor\u001b[39;49m\u001b[38;5;124;43m'\u001b[39;49m\u001b[43m]\u001b[49m\u001b[43m)\u001b[49m\u001b[43m)\u001b[49m\n",
      "File \u001b[1;32m~\\OneDrive\\Desktop\\RLBO\\Smart-Home-Sensor-Placement-Optimization-main\\SensorConfigurationOptimization\\SensorOptimizers\\BayesianOptimization.py:264\u001b[0m, in \u001b[0;36mBayesianOptimization.black_box_function\u001b[1;34m(self, sample, simulateMotionSensors, simulateEstimotes, simulateIS, Plotting)\u001b[0m\n\u001b[0;32m    261\u001b[0m all_sensors \u001b[38;5;241m=\u001b[39m \u001b[38;5;28mset\u001b[39m([])\n\u001b[0;32m    263\u001b[0m \u001b[38;5;28;01mfor\u001b[39;00m agentTrace \u001b[38;5;129;01min\u001b[39;00m \u001b[38;5;28mself\u001b[39m\u001b[38;5;241m.\u001b[39mBOV\u001b[38;5;241m.\u001b[39magentTraces:\n\u001b[1;32m--> 264\u001b[0m     df_ \u001b[38;5;241m=\u001b[39m \u001b[43msim_sis\u001b[49m\u001b[38;5;241;43m.\u001b[39;49m\u001b[43mRunSimulator\u001b[49m\u001b[43m(\u001b[49m\u001b[38;5;28;43mself\u001b[39;49m\u001b[38;5;241;43m.\u001b[39;49m\u001b[43mBOV\u001b[49m\u001b[38;5;241;43m.\u001b[39;49m\u001b[43mspace\u001b[49m\u001b[43m,\u001b[49m\u001b[43m \u001b[49m\n\u001b[0;32m    265\u001b[0m \u001b[43m                               \u001b[49m\u001b[38;5;28;43mself\u001b[39;49m\u001b[38;5;241;43m.\u001b[39;49m\u001b[43mBOV\u001b[49m\u001b[38;5;241;43m.\u001b[39;49m\u001b[43mrooms\u001b[49m\u001b[43m,\u001b[49m\u001b[43m \u001b[49m\n\u001b[0;32m    266\u001b[0m \u001b[43m                               \u001b[49m\u001b[43magentTrace\u001b[49m\u001b[43m,\u001b[49m\n\u001b[0;32m    267\u001b[0m \u001b[43m                               \u001b[49m\u001b[43msample\u001b[49m\u001b[38;5;241;43m.\u001b[39;49m\u001b[43mGetSensorConfiguration\u001b[49m\u001b[43m(\u001b[49m\u001b[43m)\u001b[49m\u001b[43m,\u001b[49m\u001b[43m \u001b[49m\n\u001b[0;32m    268\u001b[0m \u001b[43m                               \u001b[49m\u001b[43msimulateMotionSensors\u001b[49m\u001b[43m,\u001b[49m\u001b[43m \u001b[49m\n\u001b[0;32m    269\u001b[0m \u001b[43m                               \u001b[49m\u001b[43msimulateEstimotes\u001b[49m\u001b[43m,\u001b[49m\n\u001b[0;32m    270\u001b[0m \u001b[43m                               \u001b[49m\u001b[43msimulateIS\u001b[49m\u001b[43m,\u001b[49m\n\u001b[0;32m    271\u001b[0m \u001b[43m                               \u001b[49m\u001b[43mPlotting\u001b[49m\u001b[43m,\u001b[49m\u001b[43m \u001b[49m\n\u001b[0;32m    272\u001b[0m \u001b[43m                               \u001b[49m\u001b[38;5;28;43mself\u001b[39;49m\u001b[38;5;241;43m.\u001b[39;49m\u001b[43mBOV\u001b[49m\u001b[38;5;241;43m.\u001b[39;49m\u001b[43mData_path\u001b[49m\u001b[43m)\u001b[49m\n\u001b[0;32m    274\u001b[0m     dataFile, sensors \u001b[38;5;241m=\u001b[39m \u001b[38;5;28mself\u001b[39m\u001b[38;5;241m.\u001b[39mPreProcessor(df_)\n\u001b[0;32m    275\u001b[0m     all_sensors\u001b[38;5;241m.\u001b[39mupdate(sensors)\n",
      "File \u001b[1;32m~\\OneDrive\\Desktop\\RLBO\\Smart-Home-Sensor-Placement-Optimization-main\\SensorConfigurationOptimization\\SIM_SIS_Libraries\\SIM_SIS_Simulator.py:537\u001b[0m, in \u001b[0;36mRunSimulator\u001b[1;34m(space, Rooms, agentTrace, sensorsConfiguration, simulateMotionSensorsflag, simulateEstimotesflag, simulateIS, plottingflag, Data_path)\u001b[0m\n\u001b[0;32m    534\u001b[0m     \u001b[38;5;28;01mif\u001b[39;00m (plotflag):\n\u001b[0;32m    535\u001b[0m         fig, ax \u001b[38;5;241m=\u001b[39m plt\u001b[38;5;241m.\u001b[39msubplots(figsize \u001b[38;5;241m=\u001b[39m (\u001b[38;5;241m8.5\u001b[39m, \u001b[38;5;241m8.5\u001b[39m))\n\u001b[1;32m--> 537\u001b[0m     \u001b[43mRunSimulation\u001b[49m\u001b[43m(\u001b[49m\u001b[43mFDN\u001b[49m\u001b[43m,\u001b[49m\u001b[43m \u001b[49m\u001b[43msimulateMotionSensors\u001b[49m\u001b[43m,\u001b[49m\u001b[43m \u001b[49m\u001b[43msimulateEstimotes\u001b[49m\u001b[43m,\u001b[49m\u001b[43m \u001b[49m\u001b[43msimulateISSensors\u001b[49m\u001b[43m)\u001b[49m\n\u001b[0;32m    539\u001b[0m CreateUltimateDataset(UDN, Epoch)\n\u001b[0;32m    541\u001b[0m \u001b[38;5;28;01mreturn\u001b[39;00m df_\n",
      "File \u001b[1;32m~\\OneDrive\\Desktop\\RLBO\\Smart-Home-Sensor-Placement-Optimization-main\\SensorConfigurationOptimization\\SIM_SIS_Libraries\\SIM_SIS_Simulator.py:422\u001b[0m, in \u001b[0;36mRunSimulation\u001b[1;34m(FDN, simulateMotionSensors, simulateEstimotes, simulateISSensors)\u001b[0m\n\u001b[0;32m    418\u001b[0m agent1Loc_previous \u001b[38;5;241m=\u001b[39m [\u001b[38;5;241m0\u001b[39m, \u001b[38;5;241m0\u001b[39m]\n\u001b[0;32m    420\u001b[0m timetoadd \u001b[38;5;241m=\u001b[39m df_\u001b[38;5;241m.\u001b[39mtime[i]\n\u001b[1;32m--> 422\u001b[0m \u001b[43mSimulateSensorReadings\u001b[49m\u001b[43m(\u001b[49m\u001b[43msimulateMotionSensors\u001b[49m\u001b[43m,\u001b[49m\u001b[43m \u001b[49m\u001b[43msimulateEstimotes\u001b[49m\u001b[43m,\u001b[49m\u001b[43m \u001b[49m\u001b[43msimulateISSensors\u001b[49m\u001b[43m,\u001b[49m\u001b[43m \u001b[49m\u001b[43mtimetoadd\u001b[49m\u001b[43m,\u001b[49m\u001b[43m \u001b[49m\u001b[43mi\u001b[49m\u001b[43m,\u001b[49m\u001b[43m \u001b[49m\u001b[43magent1Loc\u001b[49m\u001b[43m,\u001b[49m\u001b[43m \u001b[49m\u001b[43maction\u001b[49m\u001b[43m,\u001b[49m\u001b[43m  \u001b[49m\u001b[38;5;28;43;01mNone\u001b[39;49;00m\u001b[43m)\u001b[49m\n",
      "File \u001b[1;32m~\\OneDrive\\Desktop\\RLBO\\Smart-Home-Sensor-Placement-Optimization-main\\SensorConfigurationOptimization\\SIM_SIS_Libraries\\SIM_SIS_Simulator.py:312\u001b[0m, in \u001b[0;36mSimulateSensorReadings\u001b[1;34m(simulateMotionSensors, simulateEstimotes, simulateISSensors, t, i, agent1Loc, action, agent2Loc)\u001b[0m\n\u001b[0;32m    308\u001b[0m     pp \u001b[38;5;241m=\u001b[39m ax\u001b[38;5;241m.\u001b[39mplot(\u001b[38;5;28mfloat\u001b[39m(sensor\u001b[38;5;241m.\u001b[39mx) \u001b[38;5;241m/\u001b[39m \u001b[38;5;241m100\u001b[39m, \u001b[38;5;28mfloat\u001b[39m(sensor\u001b[38;5;241m.\u001b[39my) \u001b[38;5;241m/\u001b[39m \u001b[38;5;241m100\u001b[39m , marker\u001b[38;5;241m=\u001b[39m\u001b[38;5;124m'\u001b[39m\u001b[38;5;124m.\u001b[39m\u001b[38;5;124m'\u001b[39m, color\u001b[38;5;241m=\u001b[39m\u001b[38;5;124m'\u001b[39m\u001b[38;5;124mk\u001b[39m\u001b[38;5;124m'\u001b[39m, lw\u001b[38;5;241m=\u001b[39m\u001b[38;5;241m5\u001b[39m)\n\u001b[0;32m    310\u001b[0m circ \u001b[38;5;241m=\u001b[39m Circle((\u001b[38;5;28mfloat\u001b[39m(\u001b[38;5;28mfloat\u001b[39m(sensor\u001b[38;5;241m.\u001b[39mx) \u001b[38;5;241m/\u001b[39m \u001b[38;5;241m100\u001b[39m), \u001b[38;5;28mfloat\u001b[39m(\u001b[38;5;28mfloat\u001b[39m(sensor\u001b[38;5;241m.\u001b[39my) \u001b[38;5;241m/\u001b[39m \u001b[38;5;241m100\u001b[39m)), \u001b[38;5;28mfloat\u001b[39m(\u001b[38;5;28mfloat\u001b[39m(sensor\u001b[38;5;241m.\u001b[39msensing_area) \u001b[38;5;241m/\u001b[39m \u001b[38;5;241m100\u001b[39m))\n\u001b[1;32m--> 312\u001b[0m \u001b[38;5;28;01mif\u001b[39;00m (\u001b[43mcirc\u001b[49m\u001b[38;5;241;43m.\u001b[39;49m\u001b[43mcontains_point\u001b[49m\u001b[43m(\u001b[49m\u001b[43m[\u001b[49m\u001b[43magent1Loc\u001b[49m\u001b[43m[\u001b[49m\u001b[38;5;241;43m0\u001b[39;49m\u001b[43m]\u001b[49m\u001b[43m,\u001b[49m\u001b[43m \u001b[49m\u001b[43magent1Loc\u001b[49m\u001b[43m[\u001b[49m\u001b[38;5;241;43m1\u001b[39;49m\u001b[43m]\u001b[49m\u001b[43m]\u001b[49m\u001b[43m)\u001b[49m \u001b[38;5;129;01mand\u001b[39;00m (RecContains(agent1Loc[\u001b[38;5;241m0\u001b[39m], agent1Loc[\u001b[38;5;241m1\u001b[39m], sensor\u001b[38;5;241m.\u001b[39mroom))):\n\u001b[0;32m    313\u001b[0m     no_event_flag \u001b[38;5;241m=\u001b[39m \u001b[38;5;241m0\u001b[39m\n\u001b[0;32m    314\u001b[0m     event \u001b[38;5;241m=\u001b[39m ec\u001b[38;5;241m.\u001b[39mEvent()\n",
      "File \u001b[1;32m~\\anaconda3\\lib\\site-packages\\matplotlib\\patches.py:218\u001b[0m, in \u001b[0;36mPatch.contains_point\u001b[1;34m(self, point, radius)\u001b[0m\n\u001b[0;32m    172\u001b[0m \u001b[38;5;124;03m\"\"\"\u001b[39;00m\n\u001b[0;32m    173\u001b[0m \u001b[38;5;124;03mReturn whether the given point is inside the patch.\u001b[39;00m\n\u001b[0;32m    174\u001b[0m \n\u001b[1;32m   (...)\u001b[0m\n\u001b[0;32m    214\u001b[0m \n\u001b[0;32m    215\u001b[0m \u001b[38;5;124;03m\"\"\"\u001b[39;00m\n\u001b[0;32m    216\u001b[0m radius \u001b[38;5;241m=\u001b[39m \u001b[38;5;28mself\u001b[39m\u001b[38;5;241m.\u001b[39m_process_radius(radius)\n\u001b[0;32m    217\u001b[0m \u001b[38;5;28;01mreturn\u001b[39;00m \u001b[38;5;28mself\u001b[39m\u001b[38;5;241m.\u001b[39mget_path()\u001b[38;5;241m.\u001b[39mcontains_point(point,\n\u001b[1;32m--> 218\u001b[0m                                       \u001b[38;5;28;43mself\u001b[39;49m\u001b[38;5;241;43m.\u001b[39;49m\u001b[43mget_transform\u001b[49m\u001b[43m(\u001b[49m\u001b[43m)\u001b[49m,\n\u001b[0;32m    219\u001b[0m                                       radius)\n",
      "File \u001b[1;32m~\\anaconda3\\lib\\site-packages\\matplotlib\\patches.py:278\u001b[0m, in \u001b[0;36mPatch.get_transform\u001b[1;34m(self)\u001b[0m\n\u001b[0;32m    276\u001b[0m \u001b[38;5;28;01mdef\u001b[39;00m \u001b[38;5;21mget_transform\u001b[39m(\u001b[38;5;28mself\u001b[39m):\n\u001b[0;32m    277\u001b[0m     \u001b[38;5;124;03m\"\"\"Return the `~.transforms.Transform` applied to the `Patch`.\"\"\"\u001b[39;00m\n\u001b[1;32m--> 278\u001b[0m     \u001b[38;5;28;01mreturn\u001b[39;00m \u001b[38;5;28;43mself\u001b[39;49m\u001b[38;5;241;43m.\u001b[39;49m\u001b[43mget_patch_transform\u001b[49m\u001b[43m(\u001b[49m\u001b[43m)\u001b[49m \u001b[38;5;241m+\u001b[39m artist\u001b[38;5;241m.\u001b[39mArtist\u001b[38;5;241m.\u001b[39mget_transform(\u001b[38;5;28mself\u001b[39m)\n",
      "File \u001b[1;32m~\\anaconda3\\lib\\site-packages\\matplotlib\\patches.py:1540\u001b[0m, in \u001b[0;36mEllipse.get_patch_transform\u001b[1;34m(self)\u001b[0m\n\u001b[0;32m   1539\u001b[0m \u001b[38;5;28;01mdef\u001b[39;00m \u001b[38;5;21mget_patch_transform\u001b[39m(\u001b[38;5;28mself\u001b[39m):\n\u001b[1;32m-> 1540\u001b[0m     \u001b[38;5;28;43mself\u001b[39;49m\u001b[38;5;241;43m.\u001b[39;49m\u001b[43m_recompute_transform\u001b[49m\u001b[43m(\u001b[49m\u001b[43m)\u001b[49m\n\u001b[0;32m   1541\u001b[0m     \u001b[38;5;28;01mreturn\u001b[39;00m \u001b[38;5;28mself\u001b[39m\u001b[38;5;241m.\u001b[39m_patch_transform\n",
      "File \u001b[1;32m~\\anaconda3\\lib\\site-packages\\matplotlib\\patches.py:1530\u001b[0m, in \u001b[0;36mEllipse._recompute_transform\u001b[1;34m(self)\u001b[0m\n\u001b[0;32m   1528\u001b[0m width \u001b[38;5;241m=\u001b[39m \u001b[38;5;28mself\u001b[39m\u001b[38;5;241m.\u001b[39mconvert_xunits(\u001b[38;5;28mself\u001b[39m\u001b[38;5;241m.\u001b[39m_width)\n\u001b[0;32m   1529\u001b[0m height \u001b[38;5;241m=\u001b[39m \u001b[38;5;28mself\u001b[39m\u001b[38;5;241m.\u001b[39mconvert_yunits(\u001b[38;5;28mself\u001b[39m\u001b[38;5;241m.\u001b[39m_height)\n\u001b[1;32m-> 1530\u001b[0m \u001b[38;5;28mself\u001b[39m\u001b[38;5;241m.\u001b[39m_patch_transform \u001b[38;5;241m=\u001b[39m \u001b[43mtransforms\u001b[49m\u001b[38;5;241;43m.\u001b[39;49m\u001b[43mAffine2D\u001b[49m\u001b[43m(\u001b[49m\u001b[43m)\u001b[49m\u001b[43m \u001b[49m\u001b[43m\\\u001b[49m\n\u001b[0;32m   1531\u001b[0m \u001b[43m    \u001b[49m\u001b[38;5;241;43m.\u001b[39;49m\u001b[43mscale\u001b[49m\u001b[43m(\u001b[49m\u001b[43mwidth\u001b[49m\u001b[43m \u001b[49m\u001b[38;5;241;43m*\u001b[39;49m\u001b[43m \u001b[49m\u001b[38;5;241;43m0.5\u001b[39;49m\u001b[43m,\u001b[49m\u001b[43m \u001b[49m\u001b[43mheight\u001b[49m\u001b[43m \u001b[49m\u001b[38;5;241;43m*\u001b[39;49m\u001b[43m \u001b[49m\u001b[38;5;241;43m0.5\u001b[39;49m\u001b[43m)\u001b[49m\u001b[43m \u001b[49m\u001b[43m\\\u001b[49m\n\u001b[0;32m   1532\u001b[0m \u001b[43m    \u001b[49m\u001b[38;5;241;43m.\u001b[39;49m\u001b[43mrotate_deg\u001b[49m\u001b[43m(\u001b[49m\u001b[38;5;28;43mself\u001b[39;49m\u001b[38;5;241;43m.\u001b[39;49m\u001b[43mangle\u001b[49m\u001b[43m)\u001b[49m \\\n\u001b[0;32m   1533\u001b[0m     \u001b[38;5;241m.\u001b[39mtranslate(\u001b[38;5;241m*\u001b[39mcenter)\n",
      "File \u001b[1;32m~\\anaconda3\\lib\\site-packages\\matplotlib\\transforms.py:2020\u001b[0m, in \u001b[0;36mAffine2D.rotate_deg\u001b[1;34m(self, degrees)\u001b[0m\n\u001b[0;32m   2012\u001b[0m \u001b[38;5;28;01mdef\u001b[39;00m \u001b[38;5;21mrotate_deg\u001b[39m(\u001b[38;5;28mself\u001b[39m, degrees):\n\u001b[0;32m   2013\u001b[0m     \u001b[38;5;124;03m\"\"\"\u001b[39;00m\n\u001b[0;32m   2014\u001b[0m \u001b[38;5;124;03m    Add a rotation (in degrees) to this transform in place.\u001b[39;00m\n\u001b[0;32m   2015\u001b[0m \n\u001b[1;32m   (...)\u001b[0m\n\u001b[0;32m   2018\u001b[0m \u001b[38;5;124;03m    and :meth:`scale`.\u001b[39;00m\n\u001b[0;32m   2019\u001b[0m \u001b[38;5;124;03m    \"\"\"\u001b[39;00m\n\u001b[1;32m-> 2020\u001b[0m     \u001b[38;5;28;01mreturn\u001b[39;00m \u001b[38;5;28;43mself\u001b[39;49m\u001b[38;5;241;43m.\u001b[39;49m\u001b[43mrotate\u001b[49m\u001b[43m(\u001b[49m\u001b[43mmath\u001b[49m\u001b[38;5;241;43m.\u001b[39;49m\u001b[43mradians\u001b[49m\u001b[43m(\u001b[49m\u001b[43mdegrees\u001b[49m\u001b[43m)\u001b[49m\u001b[43m)\u001b[49m\n",
      "File \u001b[1;32m~\\anaconda3\\lib\\site-packages\\matplotlib\\transforms.py:2008\u001b[0m, in \u001b[0;36mAffine2D.rotate\u001b[1;34m(self, theta)\u001b[0m\n\u001b[0;32m   2005\u001b[0m b \u001b[38;5;241m=\u001b[39m math\u001b[38;5;241m.\u001b[39msin(theta)\n\u001b[0;32m   2006\u001b[0m rotate_mtx \u001b[38;5;241m=\u001b[39m np\u001b[38;5;241m.\u001b[39marray([[a, \u001b[38;5;241m-\u001b[39mb, \u001b[38;5;241m0.0\u001b[39m], [b, a, \u001b[38;5;241m0.0\u001b[39m], [\u001b[38;5;241m0.0\u001b[39m, \u001b[38;5;241m0.0\u001b[39m, \u001b[38;5;241m1.0\u001b[39m]],\n\u001b[0;32m   2007\u001b[0m                       \u001b[38;5;28mfloat\u001b[39m)\n\u001b[1;32m-> 2008\u001b[0m \u001b[38;5;28mself\u001b[39m\u001b[38;5;241m.\u001b[39m_mtx \u001b[38;5;241m=\u001b[39m \u001b[43mnp\u001b[49m\u001b[38;5;241;43m.\u001b[39;49m\u001b[43mdot\u001b[49m\u001b[43m(\u001b[49m\u001b[43mrotate_mtx\u001b[49m\u001b[43m,\u001b[49m\u001b[43m \u001b[49m\u001b[38;5;28;43mself\u001b[39;49m\u001b[38;5;241;43m.\u001b[39;49m\u001b[43m_mtx\u001b[49m\u001b[43m)\u001b[49m\n\u001b[0;32m   2009\u001b[0m \u001b[38;5;28mself\u001b[39m\u001b[38;5;241m.\u001b[39minvalidate()\n\u001b[0;32m   2010\u001b[0m \u001b[38;5;28;01mreturn\u001b[39;00m \u001b[38;5;28mself\u001b[39m\n",
      "File \u001b[1;32m<__array_function__ internals>:180\u001b[0m, in \u001b[0;36mdot\u001b[1;34m(*args, **kwargs)\u001b[0m\n",
      "\u001b[1;31mKeyboardInterrupt\u001b[0m: "
     ]
    }
   ],
   "source": [
    "import SensorOptimizers.BayesianOptimization as bo\n",
    "import numpy as np\n",
    "import pickle\n",
    "import Config as cf\n",
    "\n",
    "maxSensorNum = int(np.min([(cf.space[2][0] / cf.epsilon) * (cf.space[2][1] / cf.epsilon), cf.LSsensorsNum]))\n",
    "\n",
    "print('----- Running BO with: \\n \\t - epsilon: ', cf.epsilon, \n",
    "      '\\n \\t - LS sensors #:', cf.LSsensorsNum, \n",
    "      '\\n \\t - IS sensors #:', cf.ISsensorsNum, \n",
    "      ' \\n \\t - initial state: ', cf.initial_state)\n",
    "\n",
    "for i in range(0, 1):\n",
    "    BO = bo.BayesianOptimization(testbed = cf.testbed,\n",
    "                                 iteration = cf.bo_iteration, \n",
    "                                 epsilon = cf.epsilon, \n",
    "                                 error = cf.error,\n",
    "                                 ROS = True, \n",
    "                                 LSmaxSensorNum = maxSensorNum,\n",
    "                                 ISmaxSensorNum = cf.ISsensorsNum, \n",
    "                                 initial_state = cf.initial_state,\n",
    "                                 input_sensor_types = cf.sensor_types,\n",
    "                                 acquisition_function = cf.acquisition_function,\n",
    "                                 surrogate_model = cf.surrogate_model,\n",
    "                                 acq_optimizer_type = cf.acq_optimizer_type)\n",
    "\n",
    "    history, states, actions, rewards = BO.run(RLBO = False)\n",
    "\n",
    "    with open('Results_BO/history(LS' + str(cf.LSsensorsNum) +  'IS' + str(cf.ISsensorsNum) + ')_' + str(i), 'wb') as handle:\n",
    "        pickle.dump(history, handle, protocol=pickle.HIGHEST_PROTOCOL)\n",
    "            \n",
    "    print(history)"
   ]
  },
  {
   "cell_type": "code",
   "execution_count": null,
   "metadata": {},
   "outputs": [],
   "source": [
    "import matplotlib.pylab as plt\n",
    "\n",
    "plt.plot(rewards)"
   ]
  },
  {
   "cell_type": "code",
   "execution_count": null,
   "metadata": {},
   "outputs": [],
   "source": [
    "history.plot_convergence()"
   ]
  },
  {
   "cell_type": "code",
   "execution_count": null,
   "metadata": {},
   "outputs": [],
   "source": [
    "plt.plot([s[1] for s in states[5:len(states)]])"
   ]
  },
  {
   "cell_type": "code",
   "execution_count": null,
   "metadata": {},
   "outputs": [],
   "source": [
    "plt.plot([s[0] for s in states])"
   ]
  },
  {
   "cell_type": "code",
   "execution_count": null,
   "metadata": {},
   "outputs": [],
   "source": [
    "plt.plot(actions)"
   ]
  },
  {
   "cell_type": "code",
   "execution_count": null,
   "metadata": {},
   "outputs": [],
   "source": [
    "history"
   ]
  },
  {
   "cell_type": "code",
   "execution_count": null,
   "metadata": {},
   "outputs": [],
   "source": [
    "print(history)"
   ]
  },
  {
   "cell_type": "code",
   "execution_count": null,
   "metadata": {},
   "outputs": [],
   "source": []
  }
 ],
 "metadata": {
  "kernelspec": {
   "display_name": "Python 3 (ipykernel)",
   "language": "python",
   "name": "python3"
  },
  "language_info": {
   "codemirror_mode": {
    "name": "ipython",
    "version": 3
   },
   "file_extension": ".py",
   "mimetype": "text/x-python",
   "name": "python",
   "nbconvert_exporter": "python",
   "pygments_lexer": "ipython3",
   "version": "3.9.12"
  },
  "vscode": {
   "interpreter": {
    "hash": "aee8b7b246df8f9039afb4144a1f6fd8d2ca17a180786b69acc140d282b71a49"
   }
  }
 },
 "nbformat": 4,
 "nbformat_minor": 4
}
