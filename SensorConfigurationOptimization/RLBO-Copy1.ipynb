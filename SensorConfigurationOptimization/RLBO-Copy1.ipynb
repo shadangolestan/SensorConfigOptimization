{
 "cells": [
  {
   "cell_type": "code",
   "execution_count": 1,
   "metadata": {},
   "outputs": [],
   "source": [
    "# This is running RLABO with motion sensors only"
   ]
  },
  {
   "cell_type": "code",
   "execution_count": 2,
   "metadata": {},
   "outputs": [
    {
     "name": "stdout",
     "output_type": "stream",
     "text": [
      "kg\n",
      "0\n"
     ]
    }
   ],
   "source": [
    "import Config as cf\n",
    "print(cf.acquisition_function)\n",
    "\n",
    "print(len(cf.performance))"
   ]
  },
  {
   "cell_type": "code",
   "execution_count": 3,
   "metadata": {
    "scrolled": true
   },
   "outputs": [
    {
     "name": "stdout",
     "output_type": "stream",
     "text": [
      "----- Running BO with: \n",
      " \t - epsilon:  1 \n",
      " \t - LS sensors #: 9 \n",
      " \t - IS sensors #: 9 \n",
      " \t - initial state:  random \n",
      " \t - sensor types:  {'model_motion_sensor': True, 'model_beacon_sensor': False, 'model_pressure_sensor': False, 'model_accelerometer': False, 'model_electricity_sensor': False}\n",
      "Processing Region of Similarity... [COMPLETED]\n",
      "adviser type is default...\n",
      "[INFO] [2023-02-28 23:30:16,425] [Advisor] === [BO auto selection] === acq_optimizer_type: local_random.\n",
      "[Build Surrogate] Use probabilistic random forest based on scikit-learn. For better performance, please install pyrfr: https://open-box.readthedocs.io/en/latest/installation/install_pyrfr.html\n"
     ]
    },
    {
     "name": "stderr",
     "output_type": "stream",
     "text": [
      "\r",
      "  0%|                                                                                         | 0/1000 [00:00<?, ?it/s]"
     ]
    },
    {
     "name": "stdout",
     "output_type": "stream",
     "text": [
      "[INFO] [2023-02-28 23:30:46,509] [OpenBox-SPO] Iteration 1, objective value: [57.44877509319557].\n"
     ]
    },
    {
     "name": "stderr",
     "output_type": "stream",
     "text": [
      "\r",
      "  0%|                                                                               | 1/1000 [00:30<8:20:47, 30.08s/it]"
     ]
    },
    {
     "name": "stdout",
     "output_type": "stream",
     "text": [
      "\t ----- reward: -57.44877509319557 for f_star and f_minus: 100 , 57.44877509319557\n",
      "\t ---------- State is:  (4, 100)\n",
      "[INFO] [2023-02-28 23:31:27,689] [OpenBox-SPO] Iteration 2, objective value: [47.46284661460509].\n"
     ]
    },
    {
     "name": "stderr",
     "output_type": "stream",
     "text": [
      "\r",
      "  0%|▏                                                                             | 2/1000 [01:11<10:08:55, 36.61s/it]"
     ]
    },
    {
     "name": "stdout",
     "output_type": "stream",
     "text": [
      "\t ----- reward: -47.46284661460509 for f_star and f_minus: 100 , 47.46284661460509\n",
      "\t ---------- State is:  (3, 100)\n",
      "[INFO] [2023-02-28 23:31:58,493] [OpenBox-SPO] Iteration 3, objective value: [52.97968887240967].\n"
     ]
    },
    {
     "name": "stderr",
     "output_type": "stream",
     "text": [
      "\r",
      "  0%|▏                                                                              | 3/1000 [01:42<9:24:15, 33.96s/it]"
     ]
    },
    {
     "name": "stdout",
     "output_type": "stream",
     "text": [
      "\t ----- reward: -52.97968887240967 for f_star and f_minus: 100 , 52.97968887240967\n",
      "\t ---------- State is:  (3, 100)\n",
      "[INFO] [2023-02-28 23:32:33,794] [OpenBox-SPO] Iteration 4, objective value: [49.15435002988606].\n"
     ]
    },
    {
     "name": "stderr",
     "output_type": "stream",
     "text": [
      "\r",
      "  0%|▎                                                                              | 4/1000 [02:17<9:32:30, 34.49s/it]"
     ]
    },
    {
     "name": "stdout",
     "output_type": "stream",
     "text": [
      "\t ----- reward: -49.15435002988606 for f_star and f_minus: 47.46284661460509 , 49.15435002988606\n",
      "\t ---------- State is:  (3, 47)\n",
      "[INFO] [2023-02-28 23:33:14,792] [OpenBox-SPO] Iteration 5, objective value: [42.010447029042176].\n"
     ]
    },
    {
     "name": "stderr",
     "output_type": "stream",
     "text": [
      "\r",
      "  0%|▍                                                                             | 5/1000 [02:58<10:10:51, 36.84s/it]"
     ]
    },
    {
     "name": "stdout",
     "output_type": "stream",
     "text": [
      "\t ----- reward: -42.010447029042176 for f_star and f_minus: 47.46284661460509 , 42.010447029042176\n",
      "\t ---------- State is:  (4, 47)\n",
      "[INFO] [2023-02-28 23:33:52,438] [OpenBox-SPO] Iteration 6, objective value: [58.359094949881325].\n"
     ]
    },
    {
     "name": "stderr",
     "output_type": "stream",
     "text": [
      "\r",
      "  1%|▍                                                                             | 6/1000 [03:36<10:14:48, 37.11s/it]"
     ]
    },
    {
     "name": "stdout",
     "output_type": "stream",
     "text": [
      "\t ----- reward: -58.359094949881325 for f_star and f_minus: 42.010447029042176 , 58.359094949881325\n",
      "\t ---------- State is:  (5, 42)\n",
      "[INFO] [2023-02-28 23:34:24,106] [OpenBox-SPO] Iteration 7, objective value: [52.82119248283767].\n"
     ]
    },
    {
     "name": "stderr",
     "output_type": "stream",
     "text": [
      "\r",
      "  1%|▌                                                                              | 7/1000 [04:07<9:44:44, 35.33s/it]"
     ]
    },
    {
     "name": "stdout",
     "output_type": "stream",
     "text": [
      "\t ----- reward: -52.82119248283767 for f_star and f_minus: 42.010447029042176 , 52.82119248283767\n",
      "\t ---------- State is:  (6, 42)\n",
      "[INFO] [2023-02-28 23:35:03,763] [OpenBox-SPO] Iteration 8, objective value: [57.32489340353435].\n"
     ]
    },
    {
     "name": "stderr",
     "output_type": "stream",
     "text": [
      "\r",
      "  1%|▌                                                                             | 8/1000 [04:47<10:06:54, 36.71s/it]"
     ]
    },
    {
     "name": "stdout",
     "output_type": "stream",
     "text": [
      "\t ----- reward: -57.32489340353435 for f_star and f_minus: 42.010447029042176 , 57.32489340353435\n",
      "\t ---------- State is:  (6, 42)\n",
      "[INFO] [2023-02-28 23:35:41,233] [OpenBox-SPO] Iteration 9, objective value: [57.65500155232374].\n"
     ]
    },
    {
     "name": "stderr",
     "output_type": "stream",
     "text": [
      "\r",
      "  1%|▋                                                                             | 9/1000 [05:24<10:10:13, 36.95s/it]"
     ]
    },
    {
     "name": "stdout",
     "output_type": "stream",
     "text": [
      "\t ----- reward: -57.65500155232374 for f_star and f_minus: 42.010447029042176 , 57.65500155232374\n",
      "\t ---------- State is:  (5, 42)\n",
      "[INFO] [2023-02-28 23:35:41,234] [Advisor] Sample random config. rand_prob=0.100000.\n",
      "[INFO] [2023-02-28 23:36:15,007] [OpenBox-SPO] Iteration 10, objective value: [57.42950886524655].\n"
     ]
    },
    {
     "name": "stderr",
     "output_type": "stream",
     "text": [
      "\r",
      "  1%|▊                                                                             | 10/1000 [05:58<9:53:27, 35.97s/it]"
     ]
    },
    {
     "name": "stdout",
     "output_type": "stream",
     "text": [
      "\t ----- reward: -57.42950886524655 for f_star and f_minus: 42.010447029042176 , 57.42950886524655\n",
      "\t ---------- State is:  (4, 42)\n",
      "[INFO] [2023-02-28 23:37:01,536] [OpenBox-SPO] Iteration 11, objective value: [46.80953186414926].\n"
     ]
    },
    {
     "name": "stderr",
     "output_type": "stream",
     "text": [
      "\r",
      "  1%|▊                                                                            | 11/1000 [06:45<10:46:08, 39.20s/it]"
     ]
    },
    {
     "name": "stdout",
     "output_type": "stream",
     "text": [
      "\t ----- reward: -46.80953186414926 for f_star and f_minus: 42.010447029042176 , 46.80953186414926\n",
      "\t ---------- State is:  (5, 10)\n",
      "[INFO] [2023-02-28 23:37:44,526] [OpenBox-SPO] Iteration 12, objective value: [58.96086773595511].\n"
     ]
    },
    {
     "name": "stderr",
     "output_type": "stream",
     "text": [
      "\r",
      "  1%|▉                                                                            | 12/1000 [07:28<11:04:28, 40.35s/it]"
     ]
    },
    {
     "name": "stdout",
     "output_type": "stream",
     "text": [
      "\t ----- reward: -58.96086773595511 for f_star and f_minus: 42.010447029042176 , 58.96086773595511\n",
      "\t ---------- State is:  (6, 13)\n",
      "[INFO] [2023-02-28 23:38:14,661] [OpenBox-SPO] Iteration 13, objective value: [59.86727695128637].\n"
     ]
    },
    {
     "name": "stderr",
     "output_type": "stream",
     "text": [
      "\r",
      "  1%|█                                                                            | 13/1000 [07:58<10:12:52, 37.26s/it]"
     ]
    },
    {
     "name": "stdout",
     "output_type": "stream",
     "text": [
      "\t ----- reward: -59.86727695128637 for f_star and f_minus: 42.010447029042176 , 59.86727695128637\n",
      "\t ---------- State is:  (7, 15)\n",
      "[INFO] [2023-02-28 23:38:47,474] [OpenBox-SPO] Iteration 14, objective value: [50.51035380078193].\n"
     ]
    },
    {
     "name": "stderr",
     "output_type": "stream",
     "text": [
      "\r",
      "  1%|█                                                                             | 14/1000 [08:31<9:50:12, 35.91s/it]"
     ]
    },
    {
     "name": "stdout",
     "output_type": "stream",
     "text": [
      "\t ----- reward: -50.51035380078193 for f_star and f_minus: 42.010447029042176 , 50.51035380078193\n",
      "\t ---------- State is:  (6, 13)\n",
      "[INFO] [2023-02-28 23:38:47,474] [Advisor] Sample random config. rand_prob=0.100000.\n",
      "[INFO] [2023-02-28 23:39:14,491] [OpenBox-SPO] Iteration 15, objective value: [72.90513139311417].\n"
     ]
    },
    {
     "name": "stderr",
     "output_type": "stream",
     "text": [
      "\r",
      "  2%|█▏                                                                            | 15/1000 [08:58<9:05:34, 33.23s/it]"
     ]
    },
    {
     "name": "stdout",
     "output_type": "stream",
     "text": [
      "\t ----- reward: -72.90513139311417 for f_star and f_minus: 42.010447029042176 , 72.90513139311417\n",
      "\t ---------- State is:  (6, 15)\n",
      "[INFO] [2023-02-28 23:39:45,126] [OpenBox-SPO] Iteration 16, objective value: [62.10672690013154].\n"
     ]
    },
    {
     "name": "stderr",
     "output_type": "stream",
     "text": [
      "\r",
      "  2%|█▏                                                                            | 16/1000 [09:28<8:52:15, 32.46s/it]"
     ]
    },
    {
     "name": "stdout",
     "output_type": "stream",
     "text": [
      "\t ----- reward: -62.10672690013154 for f_star and f_minus: 42.010447029042176 , 62.10672690013154\n",
      "\t ---------- State is:  (7, 15)\n",
      "[INFO] [2023-02-28 23:40:24,088] [OpenBox-SPO] Iteration 17, objective value: [49.57249401577932].\n"
     ]
    },
    {
     "name": "stderr",
     "output_type": "stream",
     "text": [
      "\r",
      "  2%|█▎                                                                            | 17/1000 [10:07<9:23:42, 34.41s/it]"
     ]
    },
    {
     "name": "stdout",
     "output_type": "stream",
     "text": [
      "\t ----- reward: -49.57249401577932 for f_star and f_minus: 42.010447029042176 , 49.57249401577932\n",
      "\t ---------- State is:  (7, 15)\n",
      "[INFO] [2023-02-28 23:41:01,375] [OpenBox-SPO] Iteration 18, objective value: [53.6380197508603].\n"
     ]
    },
    {
     "name": "stderr",
     "output_type": "stream",
     "text": [
      "\r",
      "  2%|█▍                                                                            | 18/1000 [10:44<9:37:17, 35.27s/it]"
     ]
    },
    {
     "name": "stdout",
     "output_type": "stream",
     "text": [
      "\t ----- reward: -53.6380197508603 for f_star and f_minus: 42.010447029042176 , 53.6380197508603\n",
      "\t ---------- State is:  (8, 13)\n",
      "[INFO] [2023-02-28 23:41:40,477] [OpenBox-SPO] Iteration 19, objective value: [52.6303943827267].\n"
     ]
    },
    {
     "name": "stderr",
     "output_type": "stream",
     "text": [
      "\r",
      "  2%|█▍                                                                            | 19/1000 [11:24<9:55:30, 36.42s/it]"
     ]
    },
    {
     "name": "stdout",
     "output_type": "stream",
     "text": [
      "\t ----- reward: -52.6303943827267 for f_star and f_minus: 42.010447029042176 , 52.6303943827267\n",
      "\t ---------- State is:  (9, 11)\n",
      "[INFO] [2023-02-28 23:42:20,530] [OpenBox-SPO] Iteration 20, objective value: [57.12624113338179].\n"
     ]
    },
    {
     "name": "stderr",
     "output_type": "stream",
     "text": [
      "\r",
      "  2%|█▌                                                                           | 20/1000 [12:04<10:12:42, 37.51s/it]"
     ]
    },
    {
     "name": "stdout",
     "output_type": "stream",
     "text": [
      "\t ----- reward: -57.12624113338179 for f_star and f_minus: 42.010447029042176 , 57.12624113338179\n",
      "\t ---------- State is:  (10, 13)\n",
      "[INFO] [2023-02-28 23:42:57,546] [OpenBox-SPO] Iteration 21, objective value: [54.232426637139746].\n"
     ]
    },
    {
     "name": "stderr",
     "output_type": "stream",
     "text": [
      "\r",
      "  2%|█▌                                                                           | 21/1000 [12:41<10:09:39, 37.36s/it]"
     ]
    },
    {
     "name": "stdout",
     "output_type": "stream",
     "text": [
      "\t ----- reward: -54.232426637139746 for f_star and f_minus: 42.010447029042176 , 54.232426637139746\n",
      "\t ---------- State is:  (10, 11)\n",
      "[INFO] [2023-02-28 23:43:43,371] [OpenBox-SPO] Iteration 22, objective value: [45.241968440327106].\n"
     ]
    },
    {
     "name": "stderr",
     "output_type": "stream",
     "text": [
      "\r",
      "  2%|█▋                                                                           | 22/1000 [13:26<10:50:25, 39.90s/it]"
     ]
    },
    {
     "name": "stdout",
     "output_type": "stream",
     "text": [
      "\t ----- reward: -45.241968440327106 for f_star and f_minus: 42.010447029042176 , 45.241968440327106\n",
      "\t ---------- State is:  (10, 11)\n",
      "[INFO] [2023-02-28 23:44:22,595] [OpenBox-SPO] Iteration 23, objective value: [55.443457512182164].\n"
     ]
    },
    {
     "name": "stderr",
     "output_type": "stream",
     "text": [
      "\r",
      "  2%|█▊                                                                           | 23/1000 [14:06<10:46:26, 39.70s/it]"
     ]
    },
    {
     "name": "stdout",
     "output_type": "stream",
     "text": [
      "\t ----- reward: -55.443457512182164 for f_star and f_minus: 42.010447029042176 , 55.443457512182164\n",
      "\t ---------- State is:  (10, 12)\n",
      "[INFO] [2023-02-28 23:45:08,068] [OpenBox-SPO] Iteration 24, objective value: [47.42017134664926].\n"
     ]
    },
    {
     "name": "stderr",
     "output_type": "stream",
     "text": [
      "\r",
      "  2%|█▊                                                                           | 24/1000 [14:51<11:13:57, 41.43s/it]"
     ]
    },
    {
     "name": "stdout",
     "output_type": "stream",
     "text": [
      "\t ----- reward: -47.42017134664926 for f_star and f_minus: 42.010447029042176 , 47.42017134664926\n",
      "\t ---------- State is:  (10, 12)\n",
      "[INFO] [2023-02-28 23:45:45,866] [OpenBox-SPO] Iteration 25, objective value: [52.07320882693538].\n"
     ]
    },
    {
     "name": "stderr",
     "output_type": "stream",
     "text": [
      "\r",
      "  2%|█▉                                                                           | 25/1000 [15:29<10:55:32, 40.34s/it]"
     ]
    },
    {
     "name": "stdout",
     "output_type": "stream",
     "text": [
      "\t ----- reward: -52.07320882693538 for f_star and f_minus: 42.010447029042176 , 52.07320882693538\n",
      "\t ---------- State is:  (10, 12)\n",
      "[INFO] [2023-02-28 23:46:31,576] [OpenBox-SPO] Iteration 26, objective value: [48.6159665457679].\n"
     ]
    },
    {
     "name": "stderr",
     "output_type": "stream",
     "text": [
      "\r",
      "  3%|██                                                                           | 26/1000 [16:15<11:21:01, 41.95s/it]"
     ]
    },
    {
     "name": "stdout",
     "output_type": "stream",
     "text": [
      "\t ----- reward: -48.6159665457679 for f_star and f_minus: 42.010447029042176 , 48.6159665457679\n",
      "\t ---------- State is:  (10, 11)\n",
      "[INFO] [2023-02-28 23:47:08,712] [OpenBox-SPO] Iteration 27, objective value: [55.15343048346642].\n"
     ]
    },
    {
     "name": "stderr",
     "output_type": "stream",
     "text": [
      "\r",
      "  3%|██                                                                           | 27/1000 [16:52<10:56:53, 40.51s/it]"
     ]
    },
    {
     "name": "stdout",
     "output_type": "stream",
     "text": [
      "\t ----- reward: -55.15343048346642 for f_star and f_minus: 42.010447029042176 , 55.15343048346642\n",
      "\t ---------- State is:  (9, 12)\n",
      "[INFO] [2023-02-28 23:47:53,225] [OpenBox-SPO] Iteration 28, objective value: [50.72567165551621].\n"
     ]
    },
    {
     "name": "stderr",
     "output_type": "stream",
     "text": [
      "\r",
      "  3%|██▏                                                                          | 28/1000 [17:36<11:15:41, 41.71s/it]"
     ]
    },
    {
     "name": "stdout",
     "output_type": "stream",
     "text": [
      "\t ----- reward: -50.72567165551621 for f_star and f_minus: 42.010447029042176 , 50.72567165551621\n",
      "\t ---------- State is:  (9, 11)\n",
      "[INFO] [2023-02-28 23:48:37,936] [OpenBox-SPO] Iteration 29, objective value: [57.89286352718194].\n"
     ]
    },
    {
     "name": "stderr",
     "output_type": "stream",
     "text": [
      "\r",
      "  3%|██▏                                                                          | 29/1000 [18:21<11:29:34, 42.61s/it]"
     ]
    },
    {
     "name": "stdout",
     "output_type": "stream",
     "text": [
      "\t ----- reward: -57.89286352718194 for f_star and f_minus: 42.010447029042176 , 57.89286352718194\n",
      "\t ---------- State is:  (10, 11)\n",
      "[INFO] [2023-02-28 23:49:14,354] [OpenBox-SPO] Iteration 30, objective value: [50.5279227538725].\n"
     ]
    },
    {
     "name": "stderr",
     "output_type": "stream",
     "text": [
      "\r",
      "  3%|██▎                                                                          | 30/1000 [18:57<10:58:49, 40.75s/it]"
     ]
    },
    {
     "name": "stdout",
     "output_type": "stream",
     "text": [
      "\t ----- reward: -50.5279227538725 for f_star and f_minus: 42.010447029042176 , 50.5279227538725\n",
      "\t ---------- State is:  (10, 11)\n",
      "[INFO] [2023-02-28 23:49:57,550] [OpenBox-SPO] Iteration 31, objective value: [54.31071917335039].\n"
     ]
    },
    {
     "name": "stderr",
     "output_type": "stream",
     "text": [
      "\r",
      "  3%|██▍                                                                          | 31/1000 [19:41<11:09:59, 41.49s/it]"
     ]
    },
    {
     "name": "stdout",
     "output_type": "stream",
     "text": [
      "\t ----- reward: -54.31071917335039 for f_star and f_minus: 42.010447029042176 , 54.31071917335039\n",
      "\t ---------- State is:  (10, 11)\n",
      "[INFO] [2023-02-28 23:50:39,669] [OpenBox-SPO] Iteration 32, objective value: [51.82167426314119].\n"
     ]
    },
    {
     "name": "stderr",
     "output_type": "stream",
     "text": [
      "\r",
      "  3%|██▍                                                                          | 32/1000 [20:23<11:12:21, 41.68s/it]"
     ]
    },
    {
     "name": "stdout",
     "output_type": "stream",
     "text": [
      "\t ----- reward: -51.82167426314119 for f_star and f_minus: 42.010447029042176 , 51.82167426314119\n",
      "\t ---------- State is:  (9, 11)\n",
      "[INFO] [2023-02-28 23:51:26,514] [OpenBox-SPO] Iteration 33, objective value: [46.32381276865926].\n"
     ]
    },
    {
     "name": "stderr",
     "output_type": "stream",
     "text": [
      "\r",
      "  3%|██▌                                                                          | 33/1000 [21:10<11:36:40, 43.23s/it]"
     ]
    },
    {
     "name": "stdout",
     "output_type": "stream",
     "text": [
      "\t ----- reward: -46.32381276865926 for f_star and f_minus: 42.010447029042176 , 46.32381276865926\n",
      "\t ---------- State is:  (10, 10)\n",
      "[INFO] [2023-02-28 23:52:16,318] [OpenBox-SPO] Iteration 34, objective value: [43.57628163293472].\n"
     ]
    },
    {
     "name": "stderr",
     "output_type": "stream",
     "text": [
      "\r",
      "  3%|██▌                                                                          | 34/1000 [21:59<12:07:42, 45.20s/it]"
     ]
    },
    {
     "name": "stdout",
     "output_type": "stream",
     "text": [
      "\t ----- reward: -43.57628163293472 for f_star and f_minus: 42.010447029042176 , 43.57628163293472\n",
      "\t ---------- State is:  (10, 10)\n",
      "[INFO] [2023-02-28 23:53:02,631] [OpenBox-SPO] Iteration 35, objective value: [66.9478514066964].\n"
     ]
    },
    {
     "name": "stderr",
     "output_type": "stream",
     "text": [
      "\r",
      "  4%|██▋                                                                          | 35/1000 [22:46<12:12:20, 45.53s/it]"
     ]
    },
    {
     "name": "stdout",
     "output_type": "stream",
     "text": [
      "\t ----- reward: -66.9478514066964 for f_star and f_minus: 42.010447029042176 , 66.9478514066964\n",
      "\t ---------- State is:  (9, 10)\n",
      "[INFO] [2023-02-28 23:53:49,920] [OpenBox-SPO] Iteration 36, objective value: [54.18652895601512].\n"
     ]
    },
    {
     "name": "stderr",
     "output_type": "stream",
     "text": [
      "\r",
      "  4%|██▊                                                                          | 36/1000 [23:33<12:20:01, 46.06s/it]"
     ]
    },
    {
     "name": "stdout",
     "output_type": "stream",
     "text": [
      "\t ----- reward: -54.18652895601512 for f_star and f_minus: 42.010447029042176 , 54.18652895601512\n",
      "\t ---------- State is:  (10, 10)\n",
      "[INFO] [2023-02-28 23:54:36,442] [OpenBox-SPO] Iteration 37, objective value: [49.808098355984065].\n"
     ]
    },
    {
     "name": "stderr",
     "output_type": "stream",
     "text": [
      "\r",
      "  4%|██▊                                                                          | 37/1000 [24:20<12:21:29, 46.20s/it]"
     ]
    },
    {
     "name": "stdout",
     "output_type": "stream",
     "text": [
      "\t ----- reward: -49.808098355984065 for f_star and f_minus: 42.010447029042176 , 49.808098355984065\n",
      "\t ---------- State is:  (10, 10)\n",
      "[INFO] [2023-02-28 23:55:15,929] [OpenBox-SPO] Iteration 38, objective value: [50.25431991299202].\n"
     ]
    },
    {
     "name": "stderr",
     "output_type": "stream",
     "text": [
      "\r",
      "  4%|██▉                                                                          | 38/1000 [24:59<11:48:26, 44.19s/it]"
     ]
    },
    {
     "name": "stdout",
     "output_type": "stream",
     "text": [
      "\t ----- reward: -50.25431991299202 for f_star and f_minus: 42.010447029042176 , 50.25431991299202\n",
      "\t ---------- State is:  (10, 9)\n",
      "[INFO] [2023-02-28 23:56:00,246] [OpenBox-SPO] Iteration 39, objective value: [40.94907573114672].\n"
     ]
    },
    {
     "name": "stderr",
     "output_type": "stream",
     "text": [
      "\r",
      "  4%|███                                                                          | 39/1000 [25:43<11:48:19, 44.22s/it]"
     ]
    },
    {
     "name": "stdout",
     "output_type": "stream",
     "text": [
      "\t ----- reward: -40.94907573114672 for f_star and f_minus: 42.010447029042176 , 40.94907573114672\n",
      "\t ---------- State is:  (10, 9)\n",
      "[INFO] [2023-02-28 23:56:37,035] [OpenBox-SPO] Iteration 40, objective value: [51.43821141884198].\n"
     ]
    },
    {
     "name": "stderr",
     "output_type": "stream",
     "text": [
      "\r",
      "  4%|███                                                                          | 40/1000 [26:20<11:11:54, 41.99s/it]"
     ]
    },
    {
     "name": "stdout",
     "output_type": "stream",
     "text": [
      "\t ----- reward: -51.43821141884198 for f_star and f_minus: 40.94907573114672 , 51.43821141884198\n",
      "\t ---------- State is:  (9, 10)\n",
      "[INFO] [2023-02-28 23:57:21,519] [OpenBox-SPO] Iteration 41, objective value: [41.32888652903344].\n"
     ]
    },
    {
     "name": "stderr",
     "output_type": "stream",
     "text": [
      "\r",
      "  4%|███▏                                                                         | 41/1000 [27:05<11:23:08, 42.74s/it]"
     ]
    },
    {
     "name": "stdout",
     "output_type": "stream",
     "text": [
      "\t ----- reward: -41.32888652903344 for f_star and f_minus: 40.94907573114672 , 41.32888652903344\n",
      "\t ---------- State is:  (9, 9)\n",
      "[INFO] [2023-02-28 23:57:21,519] [Advisor] Sample random config. rand_prob=0.100000.\n",
      "[INFO] [2023-02-28 23:57:58,321] [OpenBox-SPO] Iteration 42, objective value: [55.88505180516846].\n"
     ]
    },
    {
     "name": "stderr",
     "output_type": "stream",
     "text": [
      "\r",
      "  4%|███▏                                                                         | 42/1000 [27:41<10:53:59, 40.96s/it]"
     ]
    },
    {
     "name": "stdout",
     "output_type": "stream",
     "text": [
      "\t ----- reward: -55.88505180516846 for f_star and f_minus: 40.94907573114672 , 55.88505180516846\n",
      "\t ---------- State is:  (8, 10)\n",
      "[INFO] [2023-02-28 23:58:42,569] [OpenBox-SPO] Iteration 43, objective value: [58.84729553854122].\n"
     ]
    },
    {
     "name": "stderr",
     "output_type": "stream",
     "text": [
      "\r",
      "  4%|███▎                                                                         | 43/1000 [28:26<11:09:02, 41.95s/it]"
     ]
    },
    {
     "name": "stdout",
     "output_type": "stream",
     "text": [
      "\t ----- reward: -58.84729553854122 for f_star and f_minus: 40.94907573114672 , 58.84729553854122\n",
      "\t ---------- State is:  (8, 10)\n",
      "[INFO] [2023-02-28 23:59:36,163] [OpenBox-SPO] Iteration 44, objective value: [41.442119961469736].\n"
     ]
    },
    {
     "name": "stderr",
     "output_type": "stream",
     "text": [
      "\r",
      "  4%|███▍                                                                         | 44/1000 [29:19<12:04:01, 45.44s/it]"
     ]
    },
    {
     "name": "stdout",
     "output_type": "stream",
     "text": [
      "\t ----- reward: -41.442119961469736 for f_star and f_minus: 40.94907573114672 , 41.442119961469736\n",
      "\t ---------- State is:  (7, 10)\n",
      "[INFO] [2023-03-01 00:00:26,295] [OpenBox-SPO] Iteration 45, objective value: [44.386251091002514].\n"
     ]
    },
    {
     "name": "stderr",
     "output_type": "stream",
     "text": [
      "\r",
      "  4%|███▍                                                                         | 45/1000 [30:09<12:25:39, 46.85s/it]"
     ]
    },
    {
     "name": "stdout",
     "output_type": "stream",
     "text": [
      "\t ----- reward: -44.386251091002514 for f_star and f_minus: 40.94907573114672 , 44.386251091002514\n",
      "\t ---------- State is:  (6, 9)\n",
      "[INFO] [2023-03-01 00:01:16,379] [OpenBox-SPO] Iteration 46, objective value: [35.985570893052326].\n"
     ]
    },
    {
     "name": "stderr",
     "output_type": "stream",
     "text": [
      "\r",
      "  5%|███▌                                                                         | 46/1000 [30:59<12:40:18, 47.82s/it]"
     ]
    },
    {
     "name": "stdout",
     "output_type": "stream",
     "text": [
      "\t ----- reward: -35.985570893052326 for f_star and f_minus: 40.94907573114672 , 35.985570893052326\n",
      "\t ---------- State is:  (6, 9)\n",
      "[INFO] [2023-03-01 00:02:02,574] [OpenBox-SPO] Iteration 47, objective value: [39.601211675618345].\n"
     ]
    },
    {
     "name": "stderr",
     "output_type": "stream",
     "text": [
      "\r",
      "  5%|███▌                                                                         | 47/1000 [31:46<12:31:46, 47.33s/it]"
     ]
    },
    {
     "name": "stdout",
     "output_type": "stream",
     "text": [
      "\t ----- reward: -39.601211675618345 for f_star and f_minus: 35.985570893052326 , 39.601211675618345\n",
      "\t ---------- State is:  (6, 14)\n",
      "[INFO] [2023-03-01 00:02:53,022] [OpenBox-SPO] Iteration 48, objective value: [55.10395230564055].\n"
     ]
    },
    {
     "name": "stderr",
     "output_type": "stream",
     "text": [
      "\r",
      "  5%|███▋                                                                         | 48/1000 [32:36<12:45:49, 48.27s/it]"
     ]
    },
    {
     "name": "stdout",
     "output_type": "stream",
     "text": [
      "\t ----- reward: -55.10395230564055 for f_star and f_minus: 35.985570893052326 , 55.10395230564055\n",
      "\t ---------- State is:  (6, 14)\n",
      "[INFO] [2023-03-01 00:03:43,139] [OpenBox-SPO] Iteration 49, objective value: [47.219769188413565].\n"
     ]
    },
    {
     "name": "stderr",
     "output_type": "stream",
     "text": [
      "\r",
      "  5%|███▊                                                                         | 49/1000 [33:26<12:53:49, 48.82s/it]"
     ]
    },
    {
     "name": "stdout",
     "output_type": "stream",
     "text": [
      "\t ----- reward: -47.219769188413565 for f_star and f_minus: 35.985570893052326 , 47.219769188413565\n",
      "\t ---------- State is:  (5, 14)\n",
      "[INFO] [2023-03-01 00:03:43,140] [Advisor] Sample random config. rand_prob=0.100000.\n",
      "[INFO] [2023-03-01 00:04:21,470] [OpenBox-SPO] Iteration 50, objective value: [55.70458203372222].\n"
     ]
    },
    {
     "name": "stderr",
     "output_type": "stream",
     "text": [
      "\r",
      "  5%|███▊                                                                         | 50/1000 [34:05<12:03:10, 45.67s/it]"
     ]
    },
    {
     "name": "stdout",
     "output_type": "stream",
     "text": [
      "\t ----- reward: -55.70458203372222 for f_star and f_minus: 35.985570893052326 , 55.70458203372222\n",
      "\t ---------- State is:  (6, 14)\n",
      "[INFO] [2023-03-01 00:05:02,929] [OpenBox-SPO] Iteration 51, objective value: [51.30553776002265].\n"
     ]
    },
    {
     "name": "stderr",
     "output_type": "stream",
     "text": [
      "\r",
      "  5%|███▉                                                                         | 51/1000 [34:46<11:42:24, 44.41s/it]"
     ]
    },
    {
     "name": "stdout",
     "output_type": "stream",
     "text": [
      "\t ----- reward: -51.30553776002265 for f_star and f_minus: 35.985570893052326 , 51.30553776002265\n",
      "\t ---------- State is:  (7, 14)\n",
      "[INFO] [2023-03-01 00:05:49,808] [OpenBox-SPO] Iteration 52, objective value: [36.853667884563656].\n"
     ]
    },
    {
     "name": "stderr",
     "output_type": "stream",
     "text": [
      "\r",
      "  5%|████                                                                         | 52/1000 [35:33<11:53:22, 45.15s/it]"
     ]
    },
    {
     "name": "stdout",
     "output_type": "stream",
     "text": [
      "\t ----- reward: -36.853667884563656 for f_star and f_minus: 35.985570893052326 , 36.853667884563656\n",
      "\t ---------- State is:  (6, 12)\n",
      "[INFO] [2023-03-01 00:06:35,174] [OpenBox-SPO] Iteration 53, objective value: [37.66315219679296].\n"
     ]
    },
    {
     "name": "stderr",
     "output_type": "stream",
     "text": [
      "\r",
      "  5%|████                                                                         | 53/1000 [36:18<11:53:38, 45.21s/it]"
     ]
    },
    {
     "name": "stdout",
     "output_type": "stream",
     "text": [
      "\t ----- reward: -37.66315219679296 for f_star and f_minus: 35.985570893052326 , 37.66315219679296\n",
      "\t ---------- State is:  (6, 12)\n",
      "[INFO] [2023-03-01 00:07:22,050] [OpenBox-SPO] Iteration 54, objective value: [40.604287661379004].\n"
     ]
    },
    {
     "name": "stderr",
     "output_type": "stream",
     "text": [
      "\r",
      "  5%|████▏                                                                        | 54/1000 [37:05<12:00:44, 45.71s/it]"
     ]
    },
    {
     "name": "stdout",
     "output_type": "stream",
     "text": [
      "\t ----- reward: -40.604287661379004 for f_star and f_minus: 35.985570893052326 , 40.604287661379004\n",
      "\t ---------- State is:  (5, 12)\n",
      "[INFO] [2023-03-01 00:07:22,050] [Advisor] Sample random config. rand_prob=0.100000.\n",
      "[INFO] [2023-03-01 00:08:01,857] [OpenBox-SPO] Iteration 55, objective value: [49.073502809006875].\n"
     ]
    },
    {
     "name": "stderr",
     "output_type": "stream",
     "text": [
      "\r",
      "  6%|████▏                                                                        | 55/1000 [37:45<11:32:04, 43.94s/it]"
     ]
    },
    {
     "name": "stdout",
     "output_type": "stream",
     "text": [
      "\t ----- reward: -49.073502809006875 for f_star and f_minus: 35.985570893052326 , 49.073502809006875\n",
      "\t ---------- State is:  (6, 12)\n",
      "[INFO] [2023-03-01 00:08:54,299] [OpenBox-SPO] Iteration 56, objective value: [42.67976283704902].\n"
     ]
    },
    {
     "name": "stderr",
     "output_type": "stream",
     "text": [
      "\r",
      "  6%|████▎                                                                        | 56/1000 [38:37<12:11:28, 46.49s/it]"
     ]
    },
    {
     "name": "stdout",
     "output_type": "stream",
     "text": [
      "\t ----- reward: -42.67976283704902 for f_star and f_minus: 35.985570893052326 , 42.67976283704902\n",
      "\t ---------- State is:  (7, 9)\n",
      "[INFO] [2023-03-01 00:09:40,684] [OpenBox-SPO] Iteration 57, objective value: [43.85558983169838].\n"
     ]
    },
    {
     "name": "stderr",
     "output_type": "stream",
     "text": [
      "\r",
      "  6%|████▍                                                                        | 57/1000 [39:24<12:10:11, 46.46s/it]"
     ]
    },
    {
     "name": "stdout",
     "output_type": "stream",
     "text": [
      "\t ----- reward: -43.85558983169838 for f_star and f_minus: 35.985570893052326 , 43.85558983169838\n",
      "\t ---------- State is:  (8, 8)\n",
      "[INFO] [2023-03-01 00:10:31,910] [OpenBox-SPO] Iteration 58, objective value: [40.57882179625343].\n"
     ]
    },
    {
     "name": "stderr",
     "output_type": "stream",
     "text": [
      "\r",
      "  6%|████▍                                                                        | 58/1000 [40:15<12:31:52, 47.89s/it]"
     ]
    },
    {
     "name": "stdout",
     "output_type": "stream",
     "text": [
      "\t ----- reward: -40.57882179625343 for f_star and f_minus: 35.985570893052326 , 40.57882179625343\n",
      "\t ---------- State is:  (9, 7)\n",
      "[INFO] [2023-03-01 00:11:29,127] [OpenBox-SPO] Iteration 59, objective value: [43.22912391636441].\n"
     ]
    },
    {
     "name": "stderr",
     "output_type": "stream",
     "text": [
      "\r",
      "  6%|████▌                                                                        | 59/1000 [41:12<13:14:57, 50.69s/it]"
     ]
    },
    {
     "name": "stdout",
     "output_type": "stream",
     "text": [
      "\t ----- reward: -43.22912391636441 for f_star and f_minus: 35.985570893052326 , 43.22912391636441\n",
      "\t ---------- State is:  (8, 7)\n",
      "[INFO] [2023-03-01 00:12:18,537] [OpenBox-SPO] Iteration 60, objective value: [38.379184908093634].\n"
     ]
    },
    {
     "name": "stderr",
     "output_type": "stream",
     "text": [
      "\r",
      "  6%|████▌                                                                        | 60/1000 [42:02<13:08:06, 50.30s/it]"
     ]
    },
    {
     "name": "stdout",
     "output_type": "stream",
     "text": [
      "\t ----- reward: -38.379184908093634 for f_star and f_minus: 35.985570893052326 , 38.379184908093634\n",
      "\t ---------- State is:  (9, 6)\n",
      "[INFO] [2023-03-01 00:13:02,402] [OpenBox-SPO] Iteration 61, objective value: [39.84998683292257].\n"
     ]
    },
    {
     "name": "stderr",
     "output_type": "stream",
     "text": [
      "\r",
      "  6%|████▋                                                                        | 61/1000 [42:45<12:37:01, 48.37s/it]"
     ]
    },
    {
     "name": "stdout",
     "output_type": "stream",
     "text": [
      "\t ----- reward: -39.84998683292257 for f_star and f_minus: 35.985570893052326 , 39.84998683292257\n",
      "\t ---------- State is:  (10, 6)\n",
      "[INFO] [2023-03-01 00:13:45,450] [OpenBox-SPO] Iteration 62, objective value: [36.25619855717262].\n"
     ]
    },
    {
     "name": "stderr",
     "output_type": "stream",
     "text": [
      "\r",
      "  6%|████▊                                                                        | 62/1000 [43:29<12:11:15, 46.78s/it]"
     ]
    },
    {
     "name": "stdout",
     "output_type": "stream",
     "text": [
      "\t ----- reward: -36.25619855717262 for f_star and f_minus: 35.985570893052326 , 36.25619855717262\n",
      "\t ---------- State is:  (10, 6)\n",
      "[INFO] [2023-03-01 00:14:30,855] [OpenBox-SPO] Iteration 63, objective value: [51.339017182496].\n"
     ]
    },
    {
     "name": "stderr",
     "output_type": "stream",
     "text": [
      "\r",
      "  6%|████▊                                                                        | 63/1000 [44:14<12:04:03, 46.36s/it]"
     ]
    },
    {
     "name": "stdout",
     "output_type": "stream",
     "text": [
      "\t ----- reward: -51.339017182496 for f_star and f_minus: 35.985570893052326 , 51.339017182496\n",
      "\t ---------- State is:  (10, 6)\n",
      "[INFO] [2023-03-01 00:15:20,154] [OpenBox-SPO] Iteration 64, objective value: [49.809219154713915].\n"
     ]
    },
    {
     "name": "stderr",
     "output_type": "stream",
     "text": [
      "\r",
      "  6%|████▉                                                                        | 64/1000 [45:03<12:17:00, 47.24s/it]"
     ]
    },
    {
     "name": "stdout",
     "output_type": "stream",
     "text": [
      "\t ----- reward: -49.809219154713915 for f_star and f_minus: 35.985570893052326 , 49.809219154713915\n",
      "\t ---------- State is:  (10, 6)\n",
      "[INFO] [2023-03-01 00:16:02,665] [OpenBox-SPO] Iteration 65, objective value: [44.985040968161485].\n"
     ]
    },
    {
     "name": "stderr",
     "output_type": "stream",
     "text": [
      "\r",
      "  6%|█████                                                                        | 65/1000 [45:46<11:54:05, 45.82s/it]"
     ]
    },
    {
     "name": "stdout",
     "output_type": "stream",
     "text": [
      "\t ----- reward: -44.985040968161485 for f_star and f_minus: 35.985570893052326 , 44.985040968161485\n",
      "\t ---------- State is:  (10, 6)\n",
      "[INFO] [2023-03-01 00:16:02,665] [Advisor] Sample random config. rand_prob=0.100000.\n",
      "[INFO] [2023-03-01 00:16:38,656] [OpenBox-SPO] Iteration 66, objective value: [53.82087469740963].\n"
     ]
    },
    {
     "name": "stderr",
     "output_type": "stream",
     "text": [
      "\r",
      "  7%|█████                                                                        | 66/1000 [46:22<11:07:24, 42.87s/it]"
     ]
    },
    {
     "name": "stdout",
     "output_type": "stream",
     "text": [
      "\t ----- reward: -53.82087469740963 for f_star and f_minus: 35.985570893052326 , 53.82087469740963\n",
      "\t ---------- State is:  (10, 7)\n",
      "[INFO] [2023-03-01 00:17:28,946] [OpenBox-SPO] Iteration 67, objective value: [41.41625755091709].\n"
     ]
    },
    {
     "name": "stderr",
     "output_type": "stream",
     "text": [
      "\r",
      "  7%|█████▏                                                                       | 67/1000 [47:12<11:41:17, 45.10s/it]"
     ]
    },
    {
     "name": "stdout",
     "output_type": "stream",
     "text": [
      "\t ----- reward: -41.41625755091709 for f_star and f_minus: 35.985570893052326 , 41.41625755091709\n",
      "\t ---------- State is:  (9, 7)\n",
      "[INFO] [2023-03-01 00:18:13,448] [OpenBox-SPO] Iteration 68, objective value: [40.118731058220746].\n"
     ]
    },
    {
     "name": "stderr",
     "output_type": "stream",
     "text": [
      "\r",
      "  7%|█████▏                                                                       | 68/1000 [47:57<11:37:45, 44.92s/it]"
     ]
    },
    {
     "name": "stdout",
     "output_type": "stream",
     "text": [
      "\t ----- reward: -40.118731058220746 for f_star and f_minus: 35.985570893052326 , 40.118731058220746\n",
      "\t ---------- State is:  (10, 6)\n",
      "[INFO] [2023-03-01 00:18:13,448] [Advisor] Sample random config. rand_prob=0.100000.\n",
      "[INFO] [2023-03-01 00:18:44,156] [OpenBox-SPO] Iteration 69, objective value: [60.43618468175275].\n"
     ]
    },
    {
     "name": "stderr",
     "output_type": "stream",
     "text": [
      "\r",
      "  7%|█████▎                                                                       | 69/1000 [48:27<10:30:51, 40.66s/it]"
     ]
    },
    {
     "name": "stdout",
     "output_type": "stream",
     "text": [
      "\t ----- reward: -60.43618468175275 for f_star and f_minus: 35.985570893052326 , 60.43618468175275\n",
      "\t ---------- State is:  (10, 6)\n",
      "[INFO] [2023-03-01 00:19:23,460] [OpenBox-SPO] Iteration 70, objective value: [42.25975773721339].\n"
     ]
    },
    {
     "name": "stderr",
     "output_type": "stream",
     "text": [
      "\r",
      "  7%|█████▍                                                                       | 70/1000 [49:07<10:23:53, 40.25s/it]"
     ]
    },
    {
     "name": "stdout",
     "output_type": "stream",
     "text": [
      "\t ----- reward: -42.25975773721339 for f_star and f_minus: 35.985570893052326 , 42.25975773721339\n",
      "\t ---------- State is:  (9, 6)\n",
      "[INFO] [2023-03-01 00:20:14,958] [OpenBox-SPO] Iteration 71, objective value: [46.39877017266678].\n"
     ]
    },
    {
     "name": "stderr",
     "output_type": "stream",
     "text": [
      "\r",
      "  7%|█████▍                                                                       | 71/1000 [49:58<11:15:27, 43.62s/it]"
     ]
    },
    {
     "name": "stdout",
     "output_type": "stream",
     "text": [
      "\t ----- reward: -46.39877017266678 for f_star and f_minus: 35.985570893052326 , 46.39877017266678\n",
      "\t ---------- State is:  (8, 6)\n",
      "[INFO] [2023-03-01 00:21:00,180] [OpenBox-SPO] Iteration 72, objective value: [40.17896874944826].\n"
     ]
    },
    {
     "name": "stderr",
     "output_type": "stream",
     "text": [
      "\r",
      "  7%|█████▌                                                                       | 72/1000 [50:43<11:22:08, 44.10s/it]"
     ]
    },
    {
     "name": "stdout",
     "output_type": "stream",
     "text": [
      "\t ----- reward: -40.17896874944826 for f_star and f_minus: 35.985570893052326 , 40.17896874944826\n",
      "\t ---------- State is:  (9, 6)\n",
      "[INFO] [2023-03-01 00:21:43,164] [OpenBox-SPO] Iteration 73, objective value: [44.29022100487343].\n"
     ]
    },
    {
     "name": "stderr",
     "output_type": "stream",
     "text": [
      "\r",
      "  7%|█████▌                                                                       | 73/1000 [51:26<11:16:12, 43.77s/it]"
     ]
    },
    {
     "name": "stdout",
     "output_type": "stream",
     "text": [
      "\t ----- reward: -44.29022100487343 for f_star and f_minus: 35.985570893052326 , 44.29022100487343\n",
      "\t ---------- State is:  (9, 6)\n",
      "[INFO] [2023-03-01 00:22:36,267] [OpenBox-SPO] Iteration 74, objective value: [45.44448772521872].\n"
     ]
    },
    {
     "name": "stderr",
     "output_type": "stream",
     "text": [
      "\r",
      "  7%|█████▋                                                                       | 74/1000 [52:19<11:58:42, 46.57s/it]"
     ]
    },
    {
     "name": "stdout",
     "output_type": "stream",
     "text": [
      "\t ----- reward: -45.44448772521872 for f_star and f_minus: 35.985570893052326 , 45.44448772521872\n",
      "\t ---------- State is:  (10, 7)\n",
      "[INFO] [2023-03-01 00:22:36,267] [Advisor] Sample random config. rand_prob=0.100000.\n",
      "[INFO] [2023-03-01 00:23:12,568] [OpenBox-SPO] Iteration 75, objective value: [54.49990053890065].\n"
     ]
    },
    {
     "name": "stderr",
     "output_type": "stream",
     "text": [
      "\r",
      "  8%|█████▊                                                                       | 75/1000 [52:56<11:10:26, 43.49s/it]"
     ]
    },
    {
     "name": "stdout",
     "output_type": "stream",
     "text": [
      "\t ----- reward: -54.49990053890065 for f_star and f_minus: 35.985570893052326 , 54.49990053890065\n",
      "\t ---------- State is:  (10, 7)\n",
      "[INFO] [2023-03-01 00:24:01,008] [OpenBox-SPO] Iteration 76, objective value: [46.57874881840519].\n"
     ]
    },
    {
     "name": "stderr",
     "output_type": "stream",
     "text": [
      "\r",
      "  8%|█████▊                                                                       | 76/1000 [53:44<11:32:35, 44.97s/it]"
     ]
    },
    {
     "name": "stdout",
     "output_type": "stream",
     "text": [
      "\t ----- reward: -46.57874881840519 for f_star and f_minus: 35.985570893052326 , 46.57874881840519\n",
      "\t ---------- State is:  (10, 8)\n",
      "[INFO] [2023-03-01 00:24:48,510] [OpenBox-SPO] Iteration 77, objective value: [38.37884842482436].\n"
     ]
    },
    {
     "name": "stderr",
     "output_type": "stream",
     "text": [
      "\r",
      "  8%|█████▉                                                                       | 77/1000 [54:32<11:43:30, 45.73s/it]"
     ]
    },
    {
     "name": "stdout",
     "output_type": "stream",
     "text": [
      "\t ----- reward: -38.37884842482436 for f_star and f_minus: 35.985570893052326 , 38.37884842482436\n",
      "\t ---------- State is:  (9, 7)\n",
      "[INFO] [2023-03-01 00:24:48,510] [Advisor] Sample random config. rand_prob=0.100000.\n",
      "[INFO] [2023-03-01 00:25:22,517] [OpenBox-SPO] Iteration 78, objective value: [49.51900174659478].\n"
     ]
    },
    {
     "name": "stderr",
     "output_type": "stream",
     "text": [
      "\r",
      "  8%|██████                                                                       | 78/1000 [55:06<10:48:42, 42.22s/it]"
     ]
    },
    {
     "name": "stdout",
     "output_type": "stream",
     "text": [
      "\t ----- reward: -49.51900174659478 for f_star and f_minus: 35.985570893052326 , 49.51900174659478\n",
      "\t ---------- State is:  (9, 8)\n",
      "[INFO] [2023-03-01 00:26:00,432] [OpenBox-SPO] Iteration 79, objective value: [43.662248183373094].\n"
     ]
    },
    {
     "name": "stderr",
     "output_type": "stream",
     "text": [
      "\r",
      "  8%|██████                                                                       | 79/1000 [55:43<10:28:11, 40.92s/it]"
     ]
    },
    {
     "name": "stdout",
     "output_type": "stream",
     "text": [
      "\t ----- reward: -43.662248183373094 for f_star and f_minus: 35.985570893052326 , 43.662248183373094\n",
      "\t ---------- State is:  (8, 8)\n",
      "[INFO] [2023-03-01 00:26:50,251] [OpenBox-SPO] Iteration 80, objective value: [39.93237688036581].\n"
     ]
    },
    {
     "name": "stderr",
     "output_type": "stream",
     "text": [
      "\r",
      "  8%|██████▏                                                                      | 80/1000 [56:33<11:08:25, 43.59s/it]"
     ]
    },
    {
     "name": "stdout",
     "output_type": "stream",
     "text": [
      "\t ----- reward: -39.93237688036581 for f_star and f_minus: 35.985570893052326 , 39.93237688036581\n",
      "\t ---------- State is:  (8, 8)\n",
      "[INFO] [2023-03-01 00:27:33,664] [OpenBox-SPO] Iteration 81, objective value: [39.02617845919302].\n"
     ]
    },
    {
     "name": "stderr",
     "output_type": "stream",
     "text": [
      "\r",
      "  8%|██████▏                                                                      | 81/1000 [57:17<11:06:52, 43.54s/it]"
     ]
    },
    {
     "name": "stdout",
     "output_type": "stream",
     "text": [
      "\t ----- reward: -39.02617845919302 for f_star and f_minus: 35.985570893052326 , 39.02617845919302\n",
      "\t ---------- State is:  (7, 8)\n",
      "[INFO] [2023-03-01 00:28:15,856] [OpenBox-SPO] Iteration 82, objective value: [55.54339753005187].\n"
     ]
    },
    {
     "name": "stderr",
     "output_type": "stream",
     "text": [
      "\r",
      "  8%|██████▎                                                                      | 82/1000 [57:59<10:59:57, 43.13s/it]"
     ]
    },
    {
     "name": "stdout",
     "output_type": "stream",
     "text": [
      "\t ----- reward: -55.54339753005187 for f_star and f_minus: 35.985570893052326 , 55.54339753005187\n",
      "\t ---------- State is:  (6, 9)\n",
      "[INFO] [2023-03-01 00:28:55,922] [OpenBox-SPO] Iteration 83, objective value: [47.29379145862415].\n"
     ]
    },
    {
     "name": "stderr",
     "output_type": "stream",
     "text": [
      "\r",
      "  8%|██████▍                                                                      | 83/1000 [58:39<10:45:10, 42.21s/it]"
     ]
    },
    {
     "name": "stdout",
     "output_type": "stream",
     "text": [
      "\t ----- reward: -47.29379145862415 for f_star and f_minus: 35.985570893052326 , 47.29379145862415\n",
      "\t ---------- State is:  (5, 9)\n",
      "[INFO] [2023-03-01 00:29:38,443] [OpenBox-SPO] Iteration 84, objective value: [50.91966560777495].\n"
     ]
    },
    {
     "name": "stderr",
     "output_type": "stream",
     "text": [
      "\r",
      "  8%|██████▍                                                                      | 84/1000 [59:22<10:45:52, 42.31s/it]"
     ]
    },
    {
     "name": "stdout",
     "output_type": "stream",
     "text": [
      "\t ----- reward: -50.91966560777495 for f_star and f_minus: 35.985570893052326 , 50.91966560777495\n",
      "\t ---------- State is:  (6, 9)\n",
      "[INFO] [2023-03-01 00:30:29,818] [OpenBox-SPO] Iteration 85, objective value: [42.50012482411258].\n"
     ]
    },
    {
     "name": "stderr",
     "output_type": "stream",
     "text": [
      "\r",
      "  8%|██████▍                                                                    | 85/1000 [1:00:13<11:26:39, 45.03s/it]"
     ]
    },
    {
     "name": "stdout",
     "output_type": "stream",
     "text": [
      "\t ----- reward: -42.50012482411258 for f_star and f_minus: 35.985570893052326 , 42.50012482411258\n",
      "\t ---------- State is:  (7, 8)\n",
      "[INFO] [2023-03-01 00:31:21,542] [OpenBox-SPO] Iteration 86, objective value: [40.5279929356808].\n"
     ]
    },
    {
     "name": "stderr",
     "output_type": "stream",
     "text": [
      "\r",
      "  9%|██████▍                                                                    | 86/1000 [1:01:05<11:56:31, 47.04s/it]"
     ]
    },
    {
     "name": "stdout",
     "output_type": "stream",
     "text": [
      "\t ----- reward: -40.5279929356808 for f_star and f_minus: 35.985570893052326 , 40.5279929356808\n",
      "\t ---------- State is:  (8, 7)\n",
      "[INFO] [2023-03-01 00:32:10,700] [OpenBox-SPO] Iteration 87, objective value: [48.10220482513336].\n"
     ]
    },
    {
     "name": "stderr",
     "output_type": "stream",
     "text": [
      "\r",
      "  9%|██████▌                                                                    | 87/1000 [1:01:54<12:05:25, 47.67s/it]"
     ]
    },
    {
     "name": "stdout",
     "output_type": "stream",
     "text": [
      "\t ----- reward: -48.10220482513336 for f_star and f_minus: 35.985570893052326 , 48.10220482513336\n",
      "\t ---------- State is:  (7, 8)\n",
      "[INFO] [2023-03-01 00:33:02,633] [OpenBox-SPO] Iteration 88, objective value: [40.787439711938035].\n"
     ]
    },
    {
     "name": "stderr",
     "output_type": "stream",
     "text": [
      "\r",
      "  9%|██████▌                                                                    | 88/1000 [1:02:46<12:24:03, 48.95s/it]"
     ]
    },
    {
     "name": "stdout",
     "output_type": "stream",
     "text": [
      "\t ----- reward: -40.787439711938035 for f_star and f_minus: 35.985570893052326 , 40.787439711938035\n",
      "\t ---------- State is:  (8, 8)\n",
      "[INFO] [2023-03-01 00:33:54,856] [OpenBox-SPO] Iteration 89, objective value: [39.96030350270906].\n"
     ]
    },
    {
     "name": "stderr",
     "output_type": "stream",
     "text": [
      "\r",
      "  9%|██████▋                                                                    | 89/1000 [1:03:38<12:38:08, 49.93s/it]"
     ]
    },
    {
     "name": "stdout",
     "output_type": "stream",
     "text": [
      "\t ----- reward: -39.96030350270906 for f_star and f_minus: 35.985570893052326 , 39.96030350270906\n",
      "\t ---------- State is:  (8, 7)\n",
      "[INFO] [2023-03-01 00:34:40,911] [OpenBox-SPO] Iteration 90, objective value: [45.53084421977529].\n"
     ]
    },
    {
     "name": "stderr",
     "output_type": "stream",
     "text": [
      "\r",
      "  9%|██████▊                                                                    | 90/1000 [1:04:24<12:19:39, 48.77s/it]"
     ]
    },
    {
     "name": "stdout",
     "output_type": "stream",
     "text": [
      "\t ----- reward: -45.53084421977529 for f_star and f_minus: 35.985570893052326 , 45.53084421977529\n",
      "\t ---------- State is:  (9, 8)\n",
      "[INFO] [2023-03-01 00:35:28,521] [OpenBox-SPO] Iteration 91, objective value: [46.05746406871531].\n"
     ]
    },
    {
     "name": "stderr",
     "output_type": "stream",
     "text": [
      "\r",
      "  9%|██████▊                                                                    | 91/1000 [1:05:12<12:13:34, 48.42s/it]"
     ]
    },
    {
     "name": "stdout",
     "output_type": "stream",
     "text": [
      "\t ----- reward: -46.05746406871531 for f_star and f_minus: 35.985570893052326 , 46.05746406871531\n",
      "\t ---------- State is:  (9, 8)\n",
      "[INFO] [2023-03-01 00:36:14,125] [OpenBox-SPO] Iteration 92, objective value: [41.793790351496874].\n"
     ]
    },
    {
     "name": "stderr",
     "output_type": "stream",
     "text": [
      "\r",
      "  9%|██████▉                                                                    | 92/1000 [1:05:57<11:59:59, 47.58s/it]"
     ]
    },
    {
     "name": "stdout",
     "output_type": "stream",
     "text": [
      "\t ----- reward: -41.793790351496874 for f_star and f_minus: 35.985570893052326 , 41.793790351496874\n",
      "\t ---------- State is:  (10, 8)\n",
      "[INFO] [2023-03-01 00:37:00,472] [OpenBox-SPO] Iteration 93, objective value: [42.8797347112832].\n"
     ]
    },
    {
     "name": "stderr",
     "output_type": "stream",
     "text": [
      "\r",
      "  9%|██████▉                                                                    | 93/1000 [1:06:44<11:53:37, 47.21s/it]"
     ]
    },
    {
     "name": "stdout",
     "output_type": "stream",
     "text": [
      "\t ----- reward: -42.8797347112832 for f_star and f_minus: 35.985570893052326 , 42.8797347112832\n",
      "\t ---------- State is:  (10, 8)\n",
      "[INFO] [2023-03-01 00:37:49,001] [OpenBox-SPO] Iteration 94, objective value: [44.968242442882534].\n"
     ]
    },
    {
     "name": "stderr",
     "output_type": "stream",
     "text": [
      "\r",
      "  9%|███████                                                                    | 94/1000 [1:07:32<11:58:49, 47.60s/it]"
     ]
    },
    {
     "name": "stdout",
     "output_type": "stream",
     "text": [
      "\t ----- reward: -44.968242442882534 for f_star and f_minus: 35.985570893052326 , 44.968242442882534\n",
      "\t ---------- State is:  (10, 8)\n",
      "[INFO] [2023-03-01 00:38:37,057] [OpenBox-SPO] Iteration 95, objective value: [41.89394647470389].\n"
     ]
    },
    {
     "name": "stderr",
     "output_type": "stream",
     "text": [
      "\r",
      " 10%|███████▏                                                                   | 95/1000 [1:08:20<12:00:08, 47.74s/it]"
     ]
    },
    {
     "name": "stdout",
     "output_type": "stream",
     "text": [
      "\t ----- reward: -41.89394647470389 for f_star and f_minus: 35.985570893052326 , 41.89394647470389\n",
      "\t ---------- State is:  (10, 7)\n",
      "[INFO] [2023-03-01 00:39:33,390] [OpenBox-SPO] Iteration 96, objective value: [46.82299062454768].\n"
     ]
    },
    {
     "name": "stderr",
     "output_type": "stream",
     "text": [
      "\r",
      " 10%|███████▏                                                                   | 96/1000 [1:09:16<12:38:05, 50.32s/it]"
     ]
    },
    {
     "name": "stdout",
     "output_type": "stream",
     "text": [
      "\t ----- reward: -46.82299062454768 for f_star and f_minus: 35.985570893052326 , 46.82299062454768\n",
      "\t ---------- State is:  (9, 7)\n",
      "[INFO] [2023-03-01 00:40:11,366] [OpenBox-SPO] Iteration 97, objective value: [55.86230868378195].\n"
     ]
    },
    {
     "name": "stderr",
     "output_type": "stream",
     "text": [
      "\r",
      " 10%|███████▎                                                                   | 97/1000 [1:09:54<11:41:32, 46.61s/it]"
     ]
    },
    {
     "name": "stdout",
     "output_type": "stream",
     "text": [
      "\t ----- reward: -55.86230868378195 for f_star and f_minus: 35.985570893052326 , 55.86230868378195\n",
      "\t ---------- State is:  (8, 8)\n",
      "[INFO] [2023-03-01 00:41:00,281] [OpenBox-SPO] Iteration 98, objective value: [45.815119758626565].\n"
     ]
    },
    {
     "name": "stderr",
     "output_type": "stream",
     "text": [
      "\r",
      " 10%|███████▎                                                                   | 98/1000 [1:10:43<11:51:08, 47.30s/it]"
     ]
    },
    {
     "name": "stdout",
     "output_type": "stream",
     "text": [
      "\t ----- reward: -45.815119758626565 for f_star and f_minus: 35.985570893052326 , 45.815119758626565\n",
      "\t ---------- State is:  (9, 8)\n",
      "[INFO] [2023-03-01 00:41:00,281] [Advisor] Sample random config. rand_prob=0.100000.\n",
      "[INFO] [2023-03-01 00:41:34,178] [OpenBox-SPO] Iteration 99, objective value: [46.499837287890145].\n"
     ]
    },
    {
     "name": "stderr",
     "output_type": "stream",
     "text": [
      "\r",
      " 10%|███████▍                                                                   | 99/1000 [1:11:17<10:50:01, 43.29s/it]"
     ]
    },
    {
     "name": "stdout",
     "output_type": "stream",
     "text": [
      "\t ----- reward: -46.499837287890145 for f_star and f_minus: 35.985570893052326 , 46.499837287890145\n",
      "\t ---------- State is:  (10, 9)\n",
      "[INFO] [2023-03-01 00:42:16,496] [OpenBox-SPO] Iteration 100, objective value: [52.45053351256477].\n"
     ]
    },
    {
     "name": "stderr",
     "output_type": "stream",
     "text": [
      "\r",
      " 10%|███████▍                                                                  | 100/1000 [1:12:00<10:44:52, 42.99s/it]"
     ]
    },
    {
     "name": "stdout",
     "output_type": "stream",
     "text": [
      "\t ----- reward: -52.45053351256477 for f_star and f_minus: 35.985570893052326 , 52.45053351256477\n",
      "\t ---------- State is:  (9, 9)\n",
      "[INFO] [2023-03-01 00:43:00,122] [OpenBox-SPO] Iteration 101, objective value: [39.33788466352712].\n"
     ]
    },
    {
     "name": "stderr",
     "output_type": "stream",
     "text": [
      "\r",
      " 10%|███████▍                                                                  | 101/1000 [1:12:43<10:47:00, 43.18s/it]"
     ]
    },
    {
     "name": "stdout",
     "output_type": "stream",
     "text": [
      "\t ----- reward: -39.33788466352712 for f_star and f_minus: 35.985570893052326 , 39.33788466352712\n",
      "\t ---------- State is:  (10, 9)\n",
      "[INFO] [2023-03-01 00:43:46,824] [OpenBox-SPO] Iteration 102, objective value: [49.95270643766829].\n"
     ]
    },
    {
     "name": "stderr",
     "output_type": "stream",
     "text": [
      "\r",
      " 10%|███████▌                                                                  | 102/1000 [1:13:30<11:02:09, 44.24s/it]"
     ]
    },
    {
     "name": "stdout",
     "output_type": "stream",
     "text": [
      "\t ----- reward: -49.95270643766829 for f_star and f_minus: 35.985570893052326 , 49.95270643766829\n",
      "\t ---------- State is:  (10, 9)\n",
      "[INFO] [2023-03-01 00:44:31,237] [OpenBox-SPO] Iteration 103, objective value: [37.45954749664298].\n"
     ]
    },
    {
     "name": "stderr",
     "output_type": "stream",
     "text": [
      "\r",
      " 10%|███████▌                                                                  | 103/1000 [1:14:14<11:02:07, 44.29s/it]"
     ]
    },
    {
     "name": "stdout",
     "output_type": "stream",
     "text": [
      "\t ----- reward: -37.45954749664298 for f_star and f_minus: 35.985570893052326 , 37.45954749664298\n",
      "\t ---------- State is:  (10, 9)\n",
      "[INFO] [2023-03-01 00:45:20,192] [OpenBox-SPO] Iteration 104, objective value: [37.50470635600934].\n"
     ]
    },
    {
     "name": "stderr",
     "output_type": "stream",
     "text": [
      "\r",
      " 10%|███████▋                                                                  | 104/1000 [1:15:03<11:22:17, 45.69s/it]"
     ]
    },
    {
     "name": "stdout",
     "output_type": "stream",
     "text": [
      "\t ----- reward: -37.50470635600934 for f_star and f_minus: 35.985570893052326 , 37.50470635600934\n",
      "\t ---------- State is:  (10, 7)\n",
      "[INFO] [2023-03-01 00:46:03,722] [OpenBox-SPO] Iteration 105, objective value: [46.104702961181346].\n"
     ]
    },
    {
     "name": "stderr",
     "output_type": "stream",
     "text": [
      "\r",
      " 10%|███████▊                                                                  | 105/1000 [1:15:47<11:11:51, 45.04s/it]"
     ]
    },
    {
     "name": "stdout",
     "output_type": "stream",
     "text": [
      "\t ----- reward: -46.104702961181346 for f_star and f_minus: 35.985570893052326 , 46.104702961181346\n",
      "\t ---------- State is:  (10, 9)\n",
      "[INFO] [2023-03-01 00:46:41,574] [OpenBox-SPO] Iteration 106, objective value: [49.8083234178754].\n"
     ]
    },
    {
     "name": "stderr",
     "output_type": "stream",
     "text": [
      "\r",
      " 11%|███████▊                                                                  | 106/1000 [1:16:25<10:38:58, 42.88s/it]"
     ]
    },
    {
     "name": "stdout",
     "output_type": "stream",
     "text": [
      "\t ----- reward: -49.8083234178754 for f_star and f_minus: 35.985570893052326 , 49.8083234178754\n",
      "\t ---------- State is:  (10, 9)\n",
      "[INFO] [2023-03-01 00:47:29,803] [OpenBox-SPO] Iteration 107, objective value: [39.8440506831848].\n"
     ]
    },
    {
     "name": "stderr",
     "output_type": "stream",
     "text": [
      "\r",
      " 11%|███████▉                                                                  | 107/1000 [1:17:13<11:02:07, 44.49s/it]"
     ]
    },
    {
     "name": "stdout",
     "output_type": "stream",
     "text": [
      "\t ----- reward: -39.8440506831848 for f_star and f_minus: 35.985570893052326 , 39.8440506831848\n",
      "\t ---------- State is:  (10, 9)\n",
      "[INFO] [2023-03-01 00:48:20,874] [OpenBox-SPO] Iteration 108, objective value: [53.97358203170198].\n"
     ]
    },
    {
     "name": "stderr",
     "output_type": "stream",
     "text": [
      "\r",
      " 11%|███████▉                                                                  | 108/1000 [1:18:04<11:30:44, 46.46s/it]"
     ]
    },
    {
     "name": "stdout",
     "output_type": "stream",
     "text": [
      "\t ----- reward: -53.97358203170198 for f_star and f_minus: 35.985570893052326 , 53.97358203170198\n",
      "\t ---------- State is:  (9, 9)\n",
      "[INFO] [2023-03-01 00:49:00,431] [OpenBox-SPO] Iteration 109, objective value: [50.335859346404156].\n"
     ]
    },
    {
     "name": "stderr",
     "output_type": "stream",
     "text": [
      "\r",
      " 11%|████████                                                                  | 109/1000 [1:18:43<10:59:12, 44.39s/it]"
     ]
    },
    {
     "name": "stdout",
     "output_type": "stream",
     "text": [
      "\t ----- reward: -50.335859346404156 for f_star and f_minus: 35.985570893052326 , 50.335859346404156\n",
      "\t ---------- State is:  (9, 9)\n",
      "[INFO] [2023-03-01 00:49:47,082] [OpenBox-SPO] Iteration 110, objective value: [49.069865963811864].\n"
     ]
    },
    {
     "name": "stderr",
     "output_type": "stream",
     "text": [
      "\r",
      " 11%|████████▏                                                                 | 110/1000 [1:19:30<11:08:31, 45.07s/it]"
     ]
    },
    {
     "name": "stdout",
     "output_type": "stream",
     "text": [
      "\t ----- reward: -49.069865963811864 for f_star and f_minus: 35.985570893052326 , 49.069865963811864\n",
      "\t ---------- State is:  (10, 10)\n",
      "[INFO] [2023-03-01 00:50:37,315] [OpenBox-SPO] Iteration 111, objective value: [40.21517723794459].\n"
     ]
    },
    {
     "name": "stderr",
     "output_type": "stream",
     "text": [
      "\r",
      " 11%|████████▏                                                                 | 111/1000 [1:20:20<11:30:43, 46.62s/it]"
     ]
    },
    {
     "name": "stdout",
     "output_type": "stream",
     "text": [
      "\t ----- reward: -40.21517723794459 for f_star and f_minus: 35.985570893052326 , 40.21517723794459\n",
      "\t ---------- State is:  (10, 9)\n",
      "[INFO] [2023-03-01 00:51:24,006] [OpenBox-SPO] Iteration 112, objective value: [35.29770725596106].\n"
     ]
    },
    {
     "name": "stderr",
     "output_type": "stream",
     "text": [
      "\r",
      " 11%|████████▎                                                                 | 112/1000 [1:21:07<11:30:16, 46.64s/it]"
     ]
    },
    {
     "name": "stdout",
     "output_type": "stream",
     "text": [
      "\t ----- reward: -35.29770725596106 for f_star and f_minus: 35.985570893052326 , 35.29770725596106\n",
      "\t ---------- State is:  (10, 9)\n",
      "[INFO] [2023-03-01 00:52:11,628] [OpenBox-SPO] Iteration 113, objective value: [46.791912786730215].\n"
     ]
    },
    {
     "name": "stderr",
     "output_type": "stream",
     "text": [
      "\r",
      " 11%|████████▎                                                                 | 113/1000 [1:21:55<11:33:51, 46.93s/it]"
     ]
    },
    {
     "name": "stdout",
     "output_type": "stream",
     "text": [
      "\t ----- reward: -46.791912786730215 for f_star and f_minus: 35.29770725596106 , 46.791912786730215\n",
      "\t ---------- State is:  (9, 11)\n",
      "[INFO] [2023-03-01 00:52:58,241] [OpenBox-SPO] Iteration 114, objective value: [44.947388522011856].\n"
     ]
    },
    {
     "name": "stderr",
     "output_type": "stream",
     "text": [
      "\r",
      " 11%|████████▍                                                                 | 114/1000 [1:22:41<11:31:42, 46.84s/it]"
     ]
    },
    {
     "name": "stdout",
     "output_type": "stream",
     "text": [
      "\t ----- reward: -44.947388522011856 for f_star and f_minus: 35.29770725596106 , 44.947388522011856\n",
      "\t ---------- State is:  (9, 11)\n",
      "[INFO] [2023-03-01 00:52:58,257] [Advisor] Sample random config. rand_prob=0.100000.\n",
      "[INFO] [2023-03-01 00:53:26,188] [OpenBox-SPO] Iteration 115, objective value: [58.70497638285529].\n"
     ]
    },
    {
     "name": "stderr",
     "output_type": "stream",
     "text": [
      "\r",
      " 12%|████████▌                                                                 | 115/1000 [1:23:09<10:07:14, 41.17s/it]"
     ]
    },
    {
     "name": "stdout",
     "output_type": "stream",
     "text": [
      "\t ----- reward: -58.70497638285529 for f_star and f_minus: 35.29770725596106 , 58.70497638285529\n",
      "\t ---------- State is:  (10, 11)\n",
      "[INFO] [2023-03-01 00:54:12,864] [OpenBox-SPO] Iteration 116, objective value: [39.84825643150669].\n"
     ]
    },
    {
     "name": "stderr",
     "output_type": "stream",
     "text": [
      "\r",
      " 12%|████████▌                                                                 | 116/1000 [1:23:56<10:30:54, 42.82s/it]"
     ]
    },
    {
     "name": "stdout",
     "output_type": "stream",
     "text": [
      "\t ----- reward: -39.84825643150669 for f_star and f_minus: 35.29770725596106 , 39.84825643150669\n",
      "\t ---------- State is:  (10, 11)\n",
      "[INFO] [2023-03-01 00:54:54,751] [OpenBox-SPO] Iteration 117, objective value: [46.6716070569954].\n"
     ]
    },
    {
     "name": "stderr",
     "output_type": "stream",
     "text": [
      "\r",
      " 12%|████████▋                                                                 | 117/1000 [1:24:38<10:26:03, 42.54s/it]"
     ]
    },
    {
     "name": "stdout",
     "output_type": "stream",
     "text": [
      "\t ----- reward: -46.6716070569954 for f_star and f_minus: 35.29770725596106 , 46.6716070569954\n",
      "\t ---------- State is:  (10, 11)\n",
      "[INFO] [2023-03-01 00:55:43,214] [OpenBox-SPO] Iteration 118, objective value: [49.2287502512169].\n"
     ]
    },
    {
     "name": "stderr",
     "output_type": "stream",
     "text": [
      "\r",
      " 12%|████████▋                                                                 | 118/1000 [1:25:26<10:51:28, 44.32s/it]"
     ]
    },
    {
     "name": "stdout",
     "output_type": "stream",
     "text": [
      "\t ----- reward: -49.2287502512169 for f_star and f_minus: 35.29770725596106 , 49.2287502512169\n",
      "\t ---------- State is:  (10, 11)\n",
      "[INFO] [2023-03-01 00:56:27,155] [OpenBox-SPO] Iteration 119, objective value: [42.24651269511954].\n"
     ]
    },
    {
     "name": "stderr",
     "output_type": "stream",
     "text": [
      "\r",
      " 12%|████████▊                                                                 | 119/1000 [1:26:10<10:49:04, 44.20s/it]"
     ]
    },
    {
     "name": "stdout",
     "output_type": "stream",
     "text": [
      "\t ----- reward: -42.24651269511954 for f_star and f_minus: 35.29770725596106 , 42.24651269511954\n",
      "\t ---------- State is:  (9, 11)\n",
      "[INFO] [2023-03-01 00:57:06,114] [OpenBox-SPO] Iteration 120, objective value: [47.73730707839098].\n"
     ]
    },
    {
     "name": "stderr",
     "output_type": "stream",
     "text": [
      "\r",
      " 12%|████████▉                                                                 | 120/1000 [1:26:49<10:25:15, 42.63s/it]"
     ]
    },
    {
     "name": "stdout",
     "output_type": "stream",
     "text": [
      "\t ----- reward: -47.73730707839098 for f_star and f_minus: 35.29770725596106 , 47.73730707839098\n",
      "\t ---------- State is:  (9, 11)\n",
      "[INFO] [2023-03-01 00:57:59,626] [OpenBox-SPO] Iteration 121, objective value: [39.195947238856874].\n"
     ]
    },
    {
     "name": "stderr",
     "output_type": "stream",
     "text": [
      "\r",
      " 12%|████████▉                                                                 | 121/1000 [1:27:43<11:12:21, 45.90s/it]"
     ]
    },
    {
     "name": "stdout",
     "output_type": "stream",
     "text": [
      "\t ----- reward: -39.195947238856874 for f_star and f_minus: 35.29770725596106 , 39.195947238856874\n",
      "\t ---------- State is:  (10, 11)\n",
      "[INFO] [2023-03-01 00:58:45,104] [OpenBox-SPO] Iteration 122, objective value: [45.73915410951478].\n"
     ]
    },
    {
     "name": "stderr",
     "output_type": "stream",
     "text": [
      "\r",
      " 12%|█████████                                                                 | 122/1000 [1:28:28<11:09:46, 45.77s/it]"
     ]
    },
    {
     "name": "stdout",
     "output_type": "stream",
     "text": [
      "\t ----- reward: -45.73915410951478 for f_star and f_minus: 35.29770725596106 , 45.73915410951478\n",
      "\t ---------- State is:  (10, 10)\n",
      "[INFO] [2023-03-01 00:59:29,580] [OpenBox-SPO] Iteration 123, objective value: [45.88947587257665].\n"
     ]
    },
    {
     "name": "stderr",
     "output_type": "stream",
     "text": [
      "\r",
      " 12%|█████████                                                                 | 123/1000 [1:29:13<11:03:19, 45.38s/it]"
     ]
    },
    {
     "name": "stdout",
     "output_type": "stream",
     "text": [
      "\t ----- reward: -45.88947587257665 for f_star and f_minus: 35.29770725596106 , 45.88947587257665\n",
      "\t ---------- State is:  (9, 10)\n",
      "[INFO] [2023-03-01 01:00:12,114] [OpenBox-SPO] Iteration 124, objective value: [39.97696954879659].\n"
     ]
    },
    {
     "name": "stderr",
     "output_type": "stream",
     "text": [
      "\r",
      " 12%|█████████▏                                                                | 124/1000 [1:29:55<10:50:05, 44.53s/it]"
     ]
    },
    {
     "name": "stdout",
     "output_type": "stream",
     "text": [
      "\t ----- reward: -39.97696954879659 for f_star and f_minus: 35.29770725596106 , 39.97696954879659\n",
      "\t ---------- State is:  (9, 10)\n",
      "[INFO] [2023-03-01 01:01:01,766] [OpenBox-SPO] Iteration 125, objective value: [46.95511261609877].\n"
     ]
    },
    {
     "name": "stderr",
     "output_type": "stream",
     "text": [
      "\r",
      " 12%|█████████▎                                                                | 125/1000 [1:30:45<11:11:46, 46.06s/it]"
     ]
    },
    {
     "name": "stdout",
     "output_type": "stream",
     "text": [
      "\t ----- reward: -46.95511261609877 for f_star and f_minus: 35.29770725596106 , 46.95511261609877\n",
      "\t ---------- State is:  (8, 10)\n",
      "[INFO] [2023-03-01 01:01:55,530] [OpenBox-SPO] Iteration 126, objective value: [44.46565255141621].\n"
     ]
    },
    {
     "name": "stderr",
     "output_type": "stream",
     "text": [
      "\r",
      " 13%|█████████▎                                                                | 126/1000 [1:31:39<11:44:39, 48.37s/it]"
     ]
    },
    {
     "name": "stdout",
     "output_type": "stream",
     "text": [
      "\t ----- reward: -44.46565255141621 for f_star and f_minus: 35.29770725596106 , 44.46565255141621\n",
      "\t ---------- State is:  (9, 10)\n",
      "[INFO] [2023-03-01 01:02:37,105] [OpenBox-SPO] Iteration 127, objective value: [46.45521910419712].\n"
     ]
    },
    {
     "name": "stderr",
     "output_type": "stream",
     "text": [
      "\r",
      " 13%|█████████▍                                                                | 127/1000 [1:32:20<11:14:10, 46.33s/it]"
     ]
    },
    {
     "name": "stdout",
     "output_type": "stream",
     "text": [
      "\t ----- reward: -46.45521910419712 for f_star and f_minus: 35.29770725596106 , 46.45521910419712\n",
      "\t ---------- State is:  (9, 10)\n",
      "[INFO] [2023-03-01 01:03:19,820] [OpenBox-SPO] Iteration 128, objective value: [39.644287212517526].\n"
     ]
    },
    {
     "name": "stderr",
     "output_type": "stream",
     "text": [
      "\r",
      " 13%|█████████▍                                                                | 128/1000 [1:33:03<10:57:36, 45.25s/it]"
     ]
    },
    {
     "name": "stdout",
     "output_type": "stream",
     "text": [
      "\t ----- reward: -39.644287212517526 for f_star and f_minus: 35.29770725596106 , 39.644287212517526\n",
      "\t ---------- State is:  (10, 10)\n",
      "[INFO] [2023-03-01 01:04:04,212] [OpenBox-SPO] Iteration 129, objective value: [46.11252724070608].\n"
     ]
    },
    {
     "name": "stderr",
     "output_type": "stream",
     "text": [
      "\r",
      " 13%|█████████▌                                                                | 129/1000 [1:33:47<10:53:07, 44.99s/it]"
     ]
    },
    {
     "name": "stdout",
     "output_type": "stream",
     "text": [
      "\t ----- reward: -46.11252724070608 for f_star and f_minus: 35.29770725596106 , 46.11252724070608\n",
      "\t ---------- State is:  (10, 10)\n",
      "[INFO] [2023-03-01 01:04:51,275] [OpenBox-SPO] Iteration 130, objective value: [44.85128426741258].\n"
     ]
    },
    {
     "name": "stderr",
     "output_type": "stream",
     "text": [
      "\r",
      " 13%|█████████▌                                                                | 130/1000 [1:34:34<11:01:23, 45.61s/it]"
     ]
    },
    {
     "name": "stdout",
     "output_type": "stream",
     "text": [
      "\t ----- reward: -44.85128426741258 for f_star and f_minus: 35.29770725596106 , 44.85128426741258\n",
      "\t ---------- State is:  (10, 10)\n",
      "[INFO] [2023-03-01 01:05:43,665] [OpenBox-SPO] Iteration 131, objective value: [34.36569170250027].\n"
     ]
    },
    {
     "name": "stderr",
     "output_type": "stream",
     "text": [
      "\r",
      " 13%|█████████▋                                                                | 131/1000 [1:35:27<11:30:04, 47.65s/it]"
     ]
    },
    {
     "name": "stdout",
     "output_type": "stream",
     "text": [
      "\t ----- reward: -34.36569170250027 for f_star and f_minus: 35.29770725596106 , 34.36569170250027\n",
      "\t ---------- State is:  (10, 10)\n",
      "[INFO] [2023-03-01 01:06:31,574] [OpenBox-SPO] Iteration 132, objective value: [39.77633136102996].\n"
     ]
    },
    {
     "name": "stderr",
     "output_type": "stream",
     "text": [
      "\r",
      " 13%|█████████▊                                                                | 132/1000 [1:36:15<11:30:25, 47.73s/it]"
     ]
    },
    {
     "name": "stdout",
     "output_type": "stream",
     "text": [
      "\t ----- reward: -39.77633136102996 for f_star and f_minus: 34.36569170250027 , 39.77633136102996\n",
      "\t ---------- State is:  (10, 10)\n",
      "[INFO] [2023-03-01 01:06:31,574] [Advisor] Sample random config. rand_prob=0.100000.\n",
      "[INFO] [2023-03-01 01:07:06,491] [OpenBox-SPO] Iteration 133, objective value: [50.401558337240935].\n"
     ]
    },
    {
     "name": "stderr",
     "output_type": "stream",
     "text": [
      "\r",
      " 13%|█████████▊                                                                | 133/1000 [1:36:50<10:34:06, 43.88s/it]"
     ]
    },
    {
     "name": "stdout",
     "output_type": "stream",
     "text": [
      "\t ----- reward: -50.401558337240935 for f_star and f_minus: 34.36569170250027 , 50.401558337240935\n",
      "\t ---------- State is:  (10, 10)\n",
      "[INFO] [2023-03-01 01:07:57,737] [OpenBox-SPO] Iteration 134, objective value: [44.283848397297106].\n"
     ]
    },
    {
     "name": "stderr",
     "output_type": "stream",
     "text": [
      "\r",
      " 13%|█████████▉                                                                | 134/1000 [1:37:41<11:05:15, 46.09s/it]"
     ]
    },
    {
     "name": "stdout",
     "output_type": "stream",
     "text": [
      "\t ----- reward: -44.283848397297106 for f_star and f_minus: 34.36569170250027 , 44.283848397297106\n",
      "\t ---------- State is:  (10, 10)\n",
      "[INFO] [2023-03-01 01:08:42,979] [OpenBox-SPO] Iteration 135, objective value: [44.73572170783311].\n"
     ]
    },
    {
     "name": "stderr",
     "output_type": "stream",
     "text": [
      "\r",
      " 14%|█████████▉                                                                | 135/1000 [1:38:26<11:00:48, 45.84s/it]"
     ]
    },
    {
     "name": "stdout",
     "output_type": "stream",
     "text": [
      "\t ----- reward: -44.73572170783311 for f_star and f_minus: 34.36569170250027 , 44.73572170783311\n",
      "\t ---------- State is:  (9, 10)\n",
      "[INFO] [2023-03-01 01:09:29,237] [OpenBox-SPO] Iteration 136, objective value: [39.1172876145683].\n"
     ]
    },
    {
     "name": "stderr",
     "output_type": "stream",
     "text": [
      "\r",
      " 14%|██████████                                                                | 136/1000 [1:39:12<11:01:52, 45.96s/it]"
     ]
    },
    {
     "name": "stdout",
     "output_type": "stream",
     "text": [
      "\t ----- reward: -39.1172876145683 for f_star and f_minus: 34.36569170250027 , 39.1172876145683\n",
      "\t ---------- State is:  (10, 10)\n",
      "[INFO] [2023-03-01 01:10:13,516] [OpenBox-SPO] Iteration 137, objective value: [44.2283872593322].\n"
     ]
    },
    {
     "name": "stderr",
     "output_type": "stream",
     "text": [
      "\r",
      " 14%|██████████▏                                                               | 137/1000 [1:39:57<10:53:50, 45.46s/it]"
     ]
    },
    {
     "name": "stdout",
     "output_type": "stream",
     "text": [
      "\t ----- reward: -44.2283872593322 for f_star and f_minus: 34.36569170250027 , 44.2283872593322\n",
      "\t ---------- State is:  (10, 10)\n",
      "[INFO] [2023-03-01 01:11:00,683] [OpenBox-SPO] Iteration 138, objective value: [44.54108322952972].\n"
     ]
    },
    {
     "name": "stderr",
     "output_type": "stream",
     "text": [
      "\r",
      " 14%|██████████▏                                                               | 138/1000 [1:40:44<11:00:26, 45.97s/it]"
     ]
    },
    {
     "name": "stdout",
     "output_type": "stream",
     "text": [
      "\t ----- reward: -44.54108322952972 for f_star and f_minus: 34.36569170250027 , 44.54108322952972\n",
      "\t ---------- State is:  (10, 10)\n",
      "[INFO] [2023-03-01 01:11:45,097] [OpenBox-SPO] Iteration 139, objective value: [44.19257488796162].\n"
     ]
    },
    {
     "name": "stderr",
     "output_type": "stream",
     "text": [
      "\r",
      " 14%|██████████▎                                                               | 139/1000 [1:41:28<10:52:58, 45.50s/it]"
     ]
    },
    {
     "name": "stdout",
     "output_type": "stream",
     "text": [
      "\t ----- reward: -44.19257488796162 for f_star and f_minus: 34.36569170250027 , 44.19257488796162\n",
      "\t ---------- State is:  (10, 10)\n",
      "[INFO] [2023-03-01 01:12:33,871] [OpenBox-SPO] Iteration 140, objective value: [49.6922580399018].\n"
     ]
    },
    {
     "name": "stderr",
     "output_type": "stream",
     "text": [
      "\r",
      " 14%|██████████▎                                                               | 140/1000 [1:42:17<11:06:16, 46.48s/it]"
     ]
    },
    {
     "name": "stdout",
     "output_type": "stream",
     "text": [
      "\t ----- reward: -49.6922580399018 for f_star and f_minus: 34.36569170250027 , 49.6922580399018\n",
      "\t ---------- State is:  (9, 10)\n",
      "[INFO] [2023-03-01 01:13:24,994] [OpenBox-SPO] Iteration 141, objective value: [36.98940462238285].\n"
     ]
    },
    {
     "name": "stderr",
     "output_type": "stream",
     "text": [
      "\r",
      " 14%|██████████▍                                                               | 141/1000 [1:43:08<11:25:25, 47.88s/it]"
     ]
    },
    {
     "name": "stdout",
     "output_type": "stream",
     "text": [
      "\t ----- reward: -36.98940462238285 for f_star and f_minus: 34.36569170250027 , 36.98940462238285\n",
      "\t ---------- State is:  (9, 10)\n",
      "[INFO] [2023-03-01 01:14:14,711] [OpenBox-SPO] Iteration 142, objective value: [31.601910598634646].\n"
     ]
    },
    {
     "name": "stderr",
     "output_type": "stream",
     "text": [
      "\r",
      " 14%|██████████▌                                                               | 142/1000 [1:43:58<11:32:31, 48.43s/it]"
     ]
    },
    {
     "name": "stdout",
     "output_type": "stream",
     "text": [
      "\t ----- reward: -31.601910598634646 for f_star and f_minus: 34.36569170250027 , 31.601910598634646\n",
      "\t ---------- State is:  (8, 10)\n",
      "[INFO] [2023-03-01 01:15:04,806] [OpenBox-SPO] Iteration 143, objective value: [34.75061983069368].\n"
     ]
    },
    {
     "name": "stderr",
     "output_type": "stream",
     "text": [
      "\r",
      " 14%|██████████▌                                                               | 143/1000 [1:44:48<11:38:51, 48.93s/it]"
     ]
    },
    {
     "name": "stdout",
     "output_type": "stream",
     "text": [
      "\t ----- reward: -34.75061983069368 for f_star and f_minus: 31.601910598634646 , 34.75061983069368\n",
      "\t ---------- State is:  (9, 12)\n",
      "[INFO] [2023-03-01 01:15:55,620] [OpenBox-SPO] Iteration 144, objective value: [40.81736544444296].\n"
     ]
    },
    {
     "name": "stderr",
     "output_type": "stream",
     "text": [
      "\r",
      " 14%|██████████▋                                                               | 144/1000 [1:45:39<11:46:07, 49.49s/it]"
     ]
    },
    {
     "name": "stdout",
     "output_type": "stream",
     "text": [
      "\t ----- reward: -40.81736544444296 for f_star and f_minus: 31.601910598634646 , 40.81736544444296\n",
      "\t ---------- State is:  (9, 12)\n",
      "[INFO] [2023-03-01 01:16:42,323] [OpenBox-SPO] Iteration 145, objective value: [48.238995328640875].\n"
     ]
    },
    {
     "name": "stderr",
     "output_type": "stream",
     "text": [
      "\r",
      " 14%|██████████▋                                                               | 145/1000 [1:46:25<11:33:21, 48.66s/it]"
     ]
    },
    {
     "name": "stdout",
     "output_type": "stream",
     "text": [
      "\t ----- reward: -48.238995328640875 for f_star and f_minus: 31.601910598634646 , 48.238995328640875\n",
      "\t ---------- State is:  (10, 12)\n",
      "[INFO] [2023-03-01 01:17:28,940] [OpenBox-SPO] Iteration 146, objective value: [42.969843349448].\n"
     ]
    },
    {
     "name": "stderr",
     "output_type": "stream",
     "text": [
      "\r",
      " 15%|██████████▊                                                               | 146/1000 [1:47:12<11:23:50, 48.04s/it]"
     ]
    },
    {
     "name": "stdout",
     "output_type": "stream",
     "text": [
      "\t ----- reward: -42.969843349448 for f_star and f_minus: 31.601910598634646 , 42.969843349448\n",
      "\t ---------- State is:  (10, 12)\n",
      "[INFO] [2023-03-01 01:18:19,061] [OpenBox-SPO] Iteration 147, objective value: [37.18704542952677].\n"
     ]
    },
    {
     "name": "stderr",
     "output_type": "stream",
     "text": [
      "\r",
      " 15%|██████████▉                                                               | 147/1000 [1:48:02<11:31:53, 48.67s/it]"
     ]
    },
    {
     "name": "stdout",
     "output_type": "stream",
     "text": [
      "\t ----- reward: -37.18704542952677 for f_star and f_minus: 31.601910598634646 , 37.18704542952677\n",
      "\t ---------- State is:  (10, 11)\n",
      "[INFO] [2023-03-01 01:18:19,061] [Advisor] Sample random config. rand_prob=0.100000.\n",
      "[INFO] [2023-03-01 01:18:47,781] [OpenBox-SPO] Iteration 148, objective value: [63.72411627392859].\n"
     ]
    },
    {
     "name": "stderr",
     "output_type": "stream",
     "text": [
      "\r",
      " 15%|██████████▉                                                               | 148/1000 [1:48:31<10:06:06, 42.68s/it]"
     ]
    },
    {
     "name": "stdout",
     "output_type": "stream",
     "text": [
      "\t ----- reward: -63.72411627392859 for f_star and f_minus: 31.601910598634646 , 63.72411627392859\n",
      "\t ---------- State is:  (10, 12)\n",
      "[INFO] [2023-03-01 01:19:40,651] [OpenBox-SPO] Iteration 149, objective value: [38.15483461619351].\n"
     ]
    },
    {
     "name": "stderr",
     "output_type": "stream",
     "text": [
      "\r",
      " 15%|███████████                                                               | 149/1000 [1:49:24<10:48:48, 45.74s/it]"
     ]
    },
    {
     "name": "stdout",
     "output_type": "stream",
     "text": [
      "\t ----- reward: -38.15483461619351 for f_star and f_minus: 31.601910598634646 , 38.15483461619351\n",
      "\t ---------- State is:  (10, 11)\n",
      "[INFO] [2023-03-01 01:20:35,477] [OpenBox-SPO] Iteration 150, objective value: [44.748448091295224].\n"
     ]
    },
    {
     "name": "stderr",
     "output_type": "stream",
     "text": [
      "\r",
      " 15%|███████████                                                               | 150/1000 [1:50:19<11:26:34, 48.46s/it]"
     ]
    },
    {
     "name": "stdout",
     "output_type": "stream",
     "text": [
      "\t ----- reward: -44.748448091295224 for f_star and f_minus: 31.601910598634646 , 44.748448091295224\n",
      "\t ---------- State is:  (10, 11)\n",
      "[INFO] [2023-03-01 01:21:25,032] [OpenBox-SPO] Iteration 151, objective value: [39.56609373697415].\n"
     ]
    },
    {
     "name": "stderr",
     "output_type": "stream",
     "text": [
      "\r",
      " 15%|███████████▏                                                              | 151/1000 [1:51:08<11:30:23, 48.79s/it]"
     ]
    },
    {
     "name": "stdout",
     "output_type": "stream",
     "text": [
      "\t ----- reward: -39.56609373697415 for f_star and f_minus: 31.601910598634646 , 39.56609373697415\n",
      "\t ---------- State is:  (10, 11)\n",
      "[INFO] [2023-03-01 01:22:11,724] [OpenBox-SPO] Iteration 152, objective value: [39.17370689914574].\n"
     ]
    },
    {
     "name": "stderr",
     "output_type": "stream",
     "text": [
      "\r",
      " 15%|███████████▏                                                              | 152/1000 [1:51:55<11:20:40, 48.16s/it]"
     ]
    },
    {
     "name": "stdout",
     "output_type": "stream",
     "text": [
      "\t ----- reward: -39.17370689914574 for f_star and f_minus: 31.601910598634646 , 39.17370689914574\n",
      "\t ---------- State is:  (9, 11)\n",
      "[INFO] [2023-03-01 01:22:58,913] [OpenBox-SPO] Iteration 153, objective value: [47.31442833847288].\n"
     ]
    },
    {
     "name": "stderr",
     "output_type": "stream",
     "text": [
      "\r",
      " 15%|███████████▎                                                              | 153/1000 [1:52:42<11:15:45, 47.87s/it]"
     ]
    },
    {
     "name": "stdout",
     "output_type": "stream",
     "text": [
      "\t ----- reward: -47.31442833847288 for f_star and f_minus: 31.601910598634646 , 47.31442833847288\n",
      "\t ---------- State is:  (8, 11)\n",
      "[INFO] [2023-03-01 01:22:58,913] [Advisor] Sample random config. rand_prob=0.100000.\n",
      "[INFO] [2023-03-01 01:23:26,492] [OpenBox-SPO] Iteration 154, objective value: [61.78569865909937].\n"
     ]
    },
    {
     "name": "stderr",
     "output_type": "stream",
     "text": [
      "\r",
      " 15%|███████████▌                                                               | 154/1000 [1:53:10<9:49:07, 41.78s/it]"
     ]
    },
    {
     "name": "stdout",
     "output_type": "stream",
     "text": [
      "\t ----- reward: -61.78569865909937 for f_star and f_minus: 31.601910598634646 , 61.78569865909937\n",
      "\t ---------- State is:  (9, 11)\n",
      "[INFO] [2023-03-01 01:24:17,980] [OpenBox-SPO] Iteration 155, objective value: [37.012303582145854].\n"
     ]
    },
    {
     "name": "stderr",
     "output_type": "stream",
     "text": [
      "\r",
      " 16%|███████████▍                                                              | 155/1000 [1:54:01<10:29:26, 44.69s/it]"
     ]
    },
    {
     "name": "stdout",
     "output_type": "stream",
     "text": [
      "\t ----- reward: -37.012303582145854 for f_star and f_minus: 31.601910598634646 , 37.012303582145854\n",
      "\t ---------- State is:  (8, 10)\n",
      "[INFO] [2023-03-01 01:25:07,377] [OpenBox-SPO] Iteration 156, objective value: [47.91066392362833].\n"
     ]
    },
    {
     "name": "stderr",
     "output_type": "stream",
     "text": [
      "\r",
      " 16%|███████████▌                                                              | 156/1000 [1:54:50<10:48:32, 46.11s/it]"
     ]
    },
    {
     "name": "stdout",
     "output_type": "stream",
     "text": [
      "\t ----- reward: -47.91066392362833 for f_star and f_minus: 31.601910598634646 , 47.91066392362833\n",
      "\t ---------- State is:  (7, 11)\n",
      "[INFO] [2023-03-01 01:25:55,218] [OpenBox-SPO] Iteration 157, objective value: [43.593885477393925].\n"
     ]
    },
    {
     "name": "stderr",
     "output_type": "stream",
     "text": [
      "\r",
      " 16%|███████████▌                                                              | 157/1000 [1:55:38<10:55:05, 46.63s/it]"
     ]
    },
    {
     "name": "stdout",
     "output_type": "stream",
     "text": [
      "\t ----- reward: -43.593885477393925 for f_star and f_minus: 31.601910598634646 , 43.593885477393925\n",
      "\t ---------- State is:  (7, 11)\n",
      "[INFO] [2023-03-01 01:26:42,084] [OpenBox-SPO] Iteration 158, objective value: [44.27365140469121].\n"
     ]
    },
    {
     "name": "stderr",
     "output_type": "stream",
     "text": [
      "\r",
      " 16%|███████████▋                                                              | 158/1000 [1:56:25<10:55:19, 46.70s/it]"
     ]
    },
    {
     "name": "stdout",
     "output_type": "stream",
     "text": [
      "\t ----- reward: -44.27365140469121 for f_star and f_minus: 31.601910598634646 , 44.27365140469121\n",
      "\t ---------- State is:  (8, 11)\n",
      "[INFO] [2023-03-01 01:27:33,687] [OpenBox-SPO] Iteration 159, objective value: [49.75475855209239].\n"
     ]
    },
    {
     "name": "stderr",
     "output_type": "stream",
     "text": [
      "\r",
      " 16%|███████████▊                                                              | 159/1000 [1:57:17<11:15:10, 48.17s/it]"
     ]
    },
    {
     "name": "stdout",
     "output_type": "stream",
     "text": [
      "\t ----- reward: -49.75475855209239 for f_star and f_minus: 31.601910598634646 , 49.75475855209239\n",
      "\t ---------- State is:  (7, 11)\n",
      "[INFO] [2023-03-01 01:27:33,688] [Advisor] Sample random config. rand_prob=0.100000.\n",
      "[INFO] [2023-03-01 01:28:05,576] [OpenBox-SPO] Iteration 160, objective value: [64.21500602043659].\n"
     ]
    },
    {
     "name": "stderr",
     "output_type": "stream",
     "text": [
      "\r",
      " 16%|███████████▊                                                              | 160/1000 [1:57:49<10:05:59, 43.29s/it]"
     ]
    },
    {
     "name": "stdout",
     "output_type": "stream",
     "text": [
      "\t ----- reward: -64.21500602043659 for f_star and f_minus: 31.601910598634646 , 64.21500602043659\n",
      "\t ---------- State is:  (6, 11)\n",
      "[INFO] [2023-03-01 01:28:55,376] [OpenBox-SPO] Iteration 161, objective value: [37.863698915619906].\n"
     ]
    },
    {
     "name": "stderr",
     "output_type": "stream",
     "text": [
      "\r",
      " 16%|███████████▉                                                              | 161/1000 [1:58:38<10:32:35, 45.24s/it]"
     ]
    },
    {
     "name": "stdout",
     "output_type": "stream",
     "text": [
      "\t ----- reward: -37.863698915619906 for f_star and f_minus: 31.601910598634646 , 37.863698915619906\n",
      "\t ---------- State is:  (5, 11)\n",
      "[INFO] [2023-03-01 01:29:48,445] [OpenBox-SPO] Iteration 162, objective value: [35.09221607785486].\n"
     ]
    },
    {
     "name": "stderr",
     "output_type": "stream",
     "text": [
      "\r",
      " 16%|███████████▉                                                              | 162/1000 [1:59:32<11:04:39, 47.59s/it]"
     ]
    },
    {
     "name": "stdout",
     "output_type": "stream",
     "text": [
      "\t ----- reward: -35.09221607785486 for f_star and f_minus: 31.601910598634646 , 35.09221607785486\n",
      "\t ---------- State is:  (4, 11)\n",
      "[INFO] [2023-03-01 01:30:33,979] [OpenBox-SPO] Iteration 163, objective value: [38.53303077961202].\n"
     ]
    },
    {
     "name": "stderr",
     "output_type": "stream",
     "text": [
      "\r",
      " 16%|████████████                                                              | 163/1000 [2:00:17<10:55:15, 46.97s/it]"
     ]
    },
    {
     "name": "stdout",
     "output_type": "stream",
     "text": [
      "\t ----- reward: -38.53303077961202 for f_star and f_minus: 31.601910598634646 , 38.53303077961202\n",
      "\t ---------- State is:  (4, 11)\n",
      "[INFO] [2023-03-01 01:31:19,506] [OpenBox-SPO] Iteration 164, objective value: [51.73525880953005].\n"
     ]
    },
    {
     "name": "stderr",
     "output_type": "stream",
     "text": [
      "\r",
      " 16%|████████████▏                                                             | 164/1000 [2:01:03<10:48:26, 46.54s/it]"
     ]
    },
    {
     "name": "stdout",
     "output_type": "stream",
     "text": [
      "\t ----- reward: -51.73525880953005 for f_star and f_minus: 31.601910598634646 , 51.73525880953005\n",
      "\t ---------- State is:  (5, 12)\n",
      "[INFO] [2023-03-01 01:32:06,171] [OpenBox-SPO] Iteration 165, objective value: [40.63653260484844].\n"
     ]
    },
    {
     "name": "stderr",
     "output_type": "stream",
     "text": [
      "\r",
      " 16%|████████████▏                                                             | 165/1000 [2:01:49<10:48:11, 46.58s/it]"
     ]
    },
    {
     "name": "stdout",
     "output_type": "stream",
     "text": [
      "\t ----- reward: -40.63653260484844 for f_star and f_minus: 31.601910598634646 , 40.63653260484844\n",
      "\t ---------- State is:  (6, 11)\n",
      "[INFO] [2023-03-01 01:32:56,592] [OpenBox-SPO] Iteration 166, objective value: [38.40139985052187].\n"
     ]
    },
    {
     "name": "stderr",
     "output_type": "stream",
     "text": [
      "\r",
      " 17%|████████████▎                                                             | 166/1000 [2:02:40<11:03:26, 47.73s/it]"
     ]
    },
    {
     "name": "stdout",
     "output_type": "stream",
     "text": [
      "\t ----- reward: -38.40139985052187 for f_star and f_minus: 31.601910598634646 , 38.40139985052187\n",
      "\t ---------- State is:  (7, 10)\n",
      "[INFO] [2023-03-01 01:32:56,592] [Advisor] Sample random config. rand_prob=0.100000.\n",
      "[INFO] [2023-03-01 01:33:22,055] [OpenBox-SPO] Iteration 167, objective value: [59.69597955700942].\n"
     ]
    },
    {
     "name": "stderr",
     "output_type": "stream",
     "text": [
      "\r",
      " 17%|████████████▌                                                              | 167/1000 [2:03:05<9:29:54, 41.05s/it]"
     ]
    },
    {
     "name": "stdout",
     "output_type": "stream",
     "text": [
      "\t ----- reward: -59.69597955700942 for f_star and f_minus: 31.601910598634646 , 59.69597955700942\n",
      "\t ---------- State is:  (7, 12)\n",
      "[INFO] [2023-03-01 01:34:10,374] [OpenBox-SPO] Iteration 168, objective value: [43.708990302837606].\n"
     ]
    },
    {
     "name": "stderr",
     "output_type": "stream",
     "text": [
      "\r",
      " 17%|████████████▌                                                              | 168/1000 [2:03:53<9:59:28, 43.23s/it]"
     ]
    },
    {
     "name": "stdout",
     "output_type": "stream",
     "text": [
      "\t ----- reward: -43.708990302837606 for f_star and f_minus: 31.601910598634646 , 43.708990302837606\n",
      "\t ---------- State is:  (6, 12)\n",
      "[INFO] [2023-03-01 01:35:03,040] [OpenBox-SPO] Iteration 169, objective value: [33.11621604232022].\n"
     ]
    },
    {
     "name": "stderr",
     "output_type": "stream",
     "text": [
      "\r",
      " 17%|████████████▌                                                             | 169/1000 [2:04:46<10:37:57, 46.06s/it]"
     ]
    },
    {
     "name": "stdout",
     "output_type": "stream",
     "text": [
      "\t ----- reward: -33.11621604232022 for f_star and f_minus: 31.601910598634646 , 33.11621604232022\n",
      "\t ---------- State is:  (6, 12)\n",
      "[INFO] [2023-03-01 01:35:52,258] [OpenBox-SPO] Iteration 170, objective value: [47.060553471251275].\n"
     ]
    },
    {
     "name": "stderr",
     "output_type": "stream",
     "text": [
      "\r",
      " 17%|████████████▌                                                             | 170/1000 [2:05:35<10:50:16, 47.01s/it]"
     ]
    },
    {
     "name": "stdout",
     "output_type": "stream",
     "text": [
      "\t ----- reward: -47.060553471251275 for f_star and f_minus: 31.601910598634646 , 47.060553471251275\n",
      "\t ---------- State is:  (5, 12)\n",
      "[INFO] [2023-03-01 01:36:42,714] [OpenBox-SPO] Iteration 171, objective value: [42.484029436446036].\n"
     ]
    },
    {
     "name": "stderr",
     "output_type": "stream",
     "text": [
      "\r",
      " 17%|████████████▋                                                             | 171/1000 [2:06:26<11:03:47, 48.04s/it]"
     ]
    },
    {
     "name": "stdout",
     "output_type": "stream",
     "text": [
      "\t ----- reward: -42.484029436446036 for f_star and f_minus: 31.601910598634646 , 42.484029436446036\n",
      "\t ---------- State is:  (4, 12)\n",
      "[INFO] [2023-03-01 01:37:34,007] [OpenBox-SPO] Iteration 172, objective value: [47.732438480750105].\n"
     ]
    },
    {
     "name": "stderr",
     "output_type": "stream",
     "text": [
      "\r",
      " 17%|████████████▋                                                             | 172/1000 [2:07:17<11:16:26, 49.02s/it]"
     ]
    },
    {
     "name": "stdout",
     "output_type": "stream",
     "text": [
      "\t ----- reward: -47.732438480750105 for f_star and f_minus: 31.601910598634646 , 47.732438480750105\n",
      "\t ---------- State is:  (3, 12)\n",
      "[INFO] [2023-03-01 01:38:19,126] [OpenBox-SPO] Iteration 173, objective value: [47.61355517529492].\n"
     ]
    },
    {
     "name": "stderr",
     "output_type": "stream",
     "text": [
      "\r",
      " 17%|████████████▊                                                             | 173/1000 [2:08:02<10:59:30, 47.85s/it]"
     ]
    },
    {
     "name": "stdout",
     "output_type": "stream",
     "text": [
      "\t ----- reward: -47.61355517529492 for f_star and f_minus: 31.601910598634646 , 47.61355517529492\n",
      "\t ---------- State is:  (4, 12)\n",
      "[INFO] [2023-03-01 01:39:06,823] [OpenBox-SPO] Iteration 174, objective value: [40.61394329650953].\n"
     ]
    },
    {
     "name": "stderr",
     "output_type": "stream",
     "text": [
      "\r",
      " 17%|████████████▉                                                             | 174/1000 [2:08:50<10:58:04, 47.80s/it]"
     ]
    },
    {
     "name": "stdout",
     "output_type": "stream",
     "text": [
      "\t ----- reward: -40.61394329650953 for f_star and f_minus: 31.601910598634646 , 40.61394329650953\n",
      "\t ---------- State is:  (4, 12)\n",
      "[INFO] [2023-03-01 01:39:06,823] [Advisor] Sample random config. rand_prob=0.100000.\n",
      "[INFO] [2023-03-01 01:39:43,480] [OpenBox-SPO] Iteration 175, objective value: [52.920445296454695].\n"
     ]
    },
    {
     "name": "stderr",
     "output_type": "stream",
     "text": [
      "\r",
      " 18%|████████████▉                                                             | 175/1000 [2:09:27<10:11:18, 44.46s/it]"
     ]
    },
    {
     "name": "stdout",
     "output_type": "stream",
     "text": [
      "\t ----- reward: -52.920445296454695 for f_star and f_minus: 31.601910598634646 , 52.920445296454695\n",
      "\t ---------- State is:  (3, 12)\n",
      "[INFO] [2023-03-01 01:40:34,772] [OpenBox-SPO] Iteration 176, objective value: [51.285954685498055].\n"
     ]
    },
    {
     "name": "stderr",
     "output_type": "stream",
     "text": [
      "\r",
      " 18%|█████████████                                                             | 176/1000 [2:10:18<10:38:45, 46.51s/it]"
     ]
    },
    {
     "name": "stdout",
     "output_type": "stream",
     "text": [
      "\t ----- reward: -51.285954685498055 for f_star and f_minus: 31.601910598634646 , 51.285954685498055\n",
      "\t ---------- State is:  (2, 12)\n",
      "[INFO] [2023-03-01 01:40:34,780] [Advisor] Sample random config. rand_prob=0.100000.\n",
      "[INFO] [2023-03-01 01:41:01,405] [OpenBox-SPO] Iteration 177, objective value: [60.221674733733664].\n"
     ]
    },
    {
     "name": "stderr",
     "output_type": "stream",
     "text": [
      "\r",
      " 18%|█████████████▎                                                             | 177/1000 [2:10:44<9:16:08, 40.55s/it]"
     ]
    },
    {
     "name": "stdout",
     "output_type": "stream",
     "text": [
      "\t ----- reward: -60.221674733733664 for f_star and f_minus: 31.601910598634646 , 60.221674733733664\n",
      "\t ---------- State is:  (2, 14)\n",
      "[INFO] [2023-03-01 01:41:50,552] [OpenBox-SPO] Iteration 178, objective value: [43.71003631124164].\n"
     ]
    },
    {
     "name": "stderr",
     "output_type": "stream",
     "text": [
      "\r",
      " 18%|█████████████▎                                                             | 178/1000 [2:11:34<9:50:49, 43.13s/it]"
     ]
    },
    {
     "name": "stdout",
     "output_type": "stream",
     "text": [
      "\t ----- reward: -43.71003631124164 for f_star and f_minus: 31.601910598634646 , 43.71003631124164\n",
      "\t ---------- State is:  (2, 13)\n",
      "[INFO] [2023-03-01 01:42:41,049] [OpenBox-SPO] Iteration 179, objective value: [53.693468071420504].\n"
     ]
    },
    {
     "name": "stderr",
     "output_type": "stream",
     "text": [
      "\r",
      " 18%|█████████████▏                                                            | 179/1000 [2:12:24<10:20:22, 45.34s/it]"
     ]
    },
    {
     "name": "stdout",
     "output_type": "stream",
     "text": [
      "\t ----- reward: -53.693468071420504 for f_star and f_minus: 31.601910598634646 , 53.693468071420504\n",
      "\t ---------- State is:  (2, 13)\n",
      "[INFO] [2023-03-01 01:43:39,590] [OpenBox-SPO] Iteration 180, objective value: [48.18761349980626].\n"
     ]
    },
    {
     "name": "stderr",
     "output_type": "stream",
     "text": [
      "\r",
      " 18%|█████████████▎                                                            | 180/1000 [2:13:23<11:13:44, 49.30s/it]"
     ]
    },
    {
     "name": "stdout",
     "output_type": "stream",
     "text": [
      "\t ----- reward: -48.18761349980626 for f_star and f_minus: 31.601910598634646 , 48.18761349980626\n",
      "\t ---------- State is:  (3, 13)\n",
      "[INFO] [2023-03-01 01:44:27,536] [OpenBox-SPO] Iteration 181, objective value: [54.811424798979566].\n"
     ]
    },
    {
     "name": "stderr",
     "output_type": "stream",
     "text": [
      "\r",
      " 18%|█████████████▍                                                            | 181/1000 [2:14:11<11:07:22, 48.89s/it]"
     ]
    },
    {
     "name": "stdout",
     "output_type": "stream",
     "text": [
      "\t ----- reward: -54.811424798979566 for f_star and f_minus: 31.601910598634646 , 54.811424798979566\n",
      "\t ---------- State is:  (2, 15)\n",
      "[INFO] [2023-03-01 01:45:17,066] [OpenBox-SPO] Iteration 182, objective value: [41.199294814908725].\n"
     ]
    },
    {
     "name": "stderr",
     "output_type": "stream",
     "text": [
      "\r",
      " 18%|█████████████▍                                                            | 182/1000 [2:15:00<11:09:10, 49.08s/it]"
     ]
    },
    {
     "name": "stdout",
     "output_type": "stream",
     "text": [
      "\t ----- reward: -41.199294814908725 for f_star and f_minus: 31.601910598634646 , 41.199294814908725\n",
      "\t ---------- State is:  (1, 15)\n",
      "[INFO] [2023-03-01 01:45:17,066] [Advisor] Sample random config. rand_prob=0.100000.\n",
      "[INFO] [2023-03-01 01:45:46,727] [OpenBox-SPO] Iteration 183, objective value: [63.29575906997425].\n"
     ]
    },
    {
     "name": "stderr",
     "output_type": "stream",
     "text": [
      "\r",
      " 18%|█████████████▋                                                             | 183/1000 [2:15:30<9:49:02, 43.26s/it]"
     ]
    },
    {
     "name": "stdout",
     "output_type": "stream",
     "text": [
      "\t ----- reward: -63.29575906997425 for f_star and f_minus: 31.601910598634646 , 63.29575906997425\n",
      "\t ---------- State is:  (0, 16)\n",
      "[INFO] [2023-03-01 01:46:39,111] [OpenBox-SPO] Iteration 184, objective value: [43.931462014897505].\n"
     ]
    },
    {
     "name": "stderr",
     "output_type": "stream",
     "text": [
      "\r",
      " 18%|█████████████▌                                                            | 184/1000 [2:16:22<10:25:31, 45.99s/it]"
     ]
    },
    {
     "name": "stdout",
     "output_type": "stream",
     "text": [
      "\t ----- reward: -43.931462014897505 for f_star and f_minus: 31.601910598634646 , 43.931462014897505\n",
      "\t ---------- State is:  (0, 15)\n",
      "[INFO] [2023-03-01 01:47:29,508] [OpenBox-SPO] Iteration 185, objective value: [37.52194529070054].\n"
     ]
    },
    {
     "name": "stderr",
     "output_type": "stream",
     "text": [
      "\r",
      " 18%|█████████████▋                                                            | 185/1000 [2:17:13<10:42:41, 47.32s/it]"
     ]
    },
    {
     "name": "stdout",
     "output_type": "stream",
     "text": [
      "\t ----- reward: -37.52194529070054 for f_star and f_minus: 31.601910598634646 , 37.52194529070054\n",
      "\t ---------- State is:  (0, 15)\n",
      "[INFO] [2023-03-01 01:48:25,238] [OpenBox-SPO] Iteration 186, objective value: [54.099518807840006].\n"
     ]
    },
    {
     "name": "stderr",
     "output_type": "stream",
     "text": [
      "\r",
      " 19%|█████████████▊                                                            | 186/1000 [2:18:08<11:16:09, 49.84s/it]"
     ]
    },
    {
     "name": "stdout",
     "output_type": "stream",
     "text": [
      "\t ----- reward: -54.099518807840006 for f_star and f_minus: 31.601910598634646 , 54.099518807840006\n",
      "\t ---------- State is:  (0, 16)\n",
      "[INFO] [2023-03-01 01:49:14,413] [OpenBox-SPO] Iteration 187, objective value: [33.42342946029072].\n"
     ]
    },
    {
     "name": "stderr",
     "output_type": "stream",
     "text": [
      "\r",
      " 19%|█████████████▊                                                            | 187/1000 [2:18:57<11:12:37, 49.64s/it]"
     ]
    },
    {
     "name": "stdout",
     "output_type": "stream",
     "text": [
      "\t ----- reward: -33.42342946029072 for f_star and f_minus: 31.601910598634646 , 33.42342946029072\n",
      "\t ---------- State is:  (1, 15)\n",
      "[INFO] [2023-03-01 01:50:07,829] [OpenBox-SPO] Iteration 188, objective value: [50.895811338810844].\n"
     ]
    },
    {
     "name": "stderr",
     "output_type": "stream",
     "text": [
      "\r",
      " 19%|█████████████▉                                                            | 188/1000 [2:19:51<11:27:07, 50.77s/it]"
     ]
    },
    {
     "name": "stdout",
     "output_type": "stream",
     "text": [
      "\t ----- reward: -50.895811338810844 for f_star and f_minus: 31.601910598634646 , 50.895811338810844\n",
      "\t ---------- State is:  (2, 16)\n",
      "[INFO] [2023-03-01 01:50:58,502] [OpenBox-SPO] Iteration 189, objective value: [38.55857199792732].\n"
     ]
    },
    {
     "name": "stderr",
     "output_type": "stream",
     "text": [
      "\r",
      " 19%|█████████████▉                                                            | 189/1000 [2:20:42<11:25:52, 50.74s/it]"
     ]
    },
    {
     "name": "stdout",
     "output_type": "stream",
     "text": [
      "\t ----- reward: -38.55857199792732 for f_star and f_minus: 31.601910598634646 , 38.55857199792732\n",
      "\t ---------- State is:  (3, 16)\n",
      "[INFO] [2023-03-01 01:51:50,094] [OpenBox-SPO] Iteration 190, objective value: [40.37447926759765].\n"
     ]
    },
    {
     "name": "stderr",
     "output_type": "stream",
     "text": [
      "\r",
      " 19%|██████████████                                                            | 190/1000 [2:21:33<11:28:28, 51.00s/it]"
     ]
    },
    {
     "name": "stdout",
     "output_type": "stream",
     "text": [
      "\t ----- reward: -40.37447926759765 for f_star and f_minus: 31.601910598634646 , 40.37447926759765\n",
      "\t ---------- State is:  (4, 16)\n",
      "[INFO] [2023-03-01 01:51:50,094] [Advisor] Sample random config. rand_prob=0.100000.\n",
      "[INFO] [2023-03-01 01:52:22,177] [OpenBox-SPO] Iteration 191, objective value: [57.68326511781603].\n"
     ]
    },
    {
     "name": "stderr",
     "output_type": "stream",
     "text": [
      "\r",
      " 19%|██████████████▏                                                           | 191/1000 [2:22:05<10:11:06, 45.32s/it]"
     ]
    },
    {
     "name": "stdout",
     "output_type": "stream",
     "text": [
      "\t ----- reward: -57.68326511781603 for f_star and f_minus: 31.601910598634646 , 57.68326511781603\n",
      "\t ---------- State is:  (5, 16)\n",
      "[INFO] [2023-03-01 01:53:10,814] [OpenBox-SPO] Iteration 192, objective value: [41.14457046650555].\n"
     ]
    },
    {
     "name": "stderr",
     "output_type": "stream",
     "text": [
      "\r",
      " 19%|██████████████▏                                                           | 192/1000 [2:22:54<10:23:44, 46.32s/it]"
     ]
    },
    {
     "name": "stdout",
     "output_type": "stream",
     "text": [
      "\t ----- reward: -41.14457046650555 for f_star and f_minus: 31.601910598634646 , 41.14457046650555\n",
      "\t ---------- State is:  (6, 16)\n",
      "[INFO] [2023-03-01 01:54:00,884] [OpenBox-SPO] Iteration 193, objective value: [35.755258367001574].\n"
     ]
    },
    {
     "name": "stderr",
     "output_type": "stream",
     "text": [
      "\r",
      " 19%|██████████████▎                                                           | 193/1000 [2:23:44<10:38:06, 47.44s/it]"
     ]
    },
    {
     "name": "stdout",
     "output_type": "stream",
     "text": [
      "\t ----- reward: -35.755258367001574 for f_star and f_minus: 31.601910598634646 , 35.755258367001574\n",
      "\t ---------- State is:  (7, 14)\n",
      "[INFO] [2023-03-01 01:54:50,147] [OpenBox-SPO] Iteration 194, objective value: [38.41618872827684].\n"
     ]
    },
    {
     "name": "stderr",
     "output_type": "stream",
     "text": [
      "\r",
      " 19%|██████████████▎                                                           | 194/1000 [2:24:33<10:44:39, 47.99s/it]"
     ]
    },
    {
     "name": "stdout",
     "output_type": "stream",
     "text": [
      "\t ----- reward: -38.41618872827684 for f_star and f_minus: 31.601910598634646 , 38.41618872827684\n",
      "\t ---------- State is:  (7, 14)\n",
      "[INFO] [2023-03-01 01:55:39,652] [OpenBox-SPO] Iteration 195, objective value: [51.52655528440074].\n"
     ]
    },
    {
     "name": "stderr",
     "output_type": "stream",
     "text": [
      "\r",
      " 20%|██████████████▍                                                           | 195/1000 [2:25:23<10:49:57, 48.44s/it]"
     ]
    },
    {
     "name": "stdout",
     "output_type": "stream",
     "text": [
      "\t ----- reward: -51.52655528440074 for f_star and f_minus: 31.601910598634646 , 51.52655528440074\n",
      "\t ---------- State is:  (6, 14)\n",
      "[INFO] [2023-03-01 01:56:31,894] [OpenBox-SPO] Iteration 196, objective value: [44.681883006698385].\n"
     ]
    },
    {
     "name": "stderr",
     "output_type": "stream",
     "text": [
      "\r",
      " 20%|██████████████▌                                                           | 196/1000 [2:26:15<11:04:25, 49.58s/it]"
     ]
    },
    {
     "name": "stdout",
     "output_type": "stream",
     "text": [
      "\t ----- reward: -44.681883006698385 for f_star and f_minus: 31.601910598634646 , 44.681883006698385\n",
      "\t ---------- State is:  (5, 12)\n",
      "[INFO] [2023-03-01 01:56:31,895] [Advisor] Sample random config. rand_prob=0.100000.\n",
      "[INFO] [2023-03-01 01:57:07,867] [OpenBox-SPO] Iteration 197, objective value: [60.443295604183746].\n"
     ]
    },
    {
     "name": "stderr",
     "output_type": "stream",
     "text": [
      "\r",
      " 20%|██████████████▌                                                           | 197/1000 [2:26:51<10:08:57, 45.50s/it]"
     ]
    },
    {
     "name": "stdout",
     "output_type": "stream",
     "text": [
      "\t ----- reward: -60.443295604183746 for f_star and f_minus: 31.601910598634646 , 60.443295604183746\n",
      "\t ---------- State is:  (5, 12)\n",
      "[INFO] [2023-03-01 01:57:57,994] [OpenBox-SPO] Iteration 198, objective value: [34.059965758638214].\n"
     ]
    },
    {
     "name": "stderr",
     "output_type": "stream",
     "text": [
      "\r",
      " 20%|██████████████▋                                                           | 198/1000 [2:27:41<10:26:44, 46.89s/it]"
     ]
    },
    {
     "name": "stdout",
     "output_type": "stream",
     "text": [
      "\t ----- reward: -34.059965758638214 for f_star and f_minus: 31.601910598634646 , 34.059965758638214\n",
      "\t ---------- State is:  (4, 12)\n",
      "[INFO] [2023-03-01 01:58:51,566] [OpenBox-SPO] Iteration 199, objective value: [40.155223212228975].\n"
     ]
    },
    {
     "name": "stderr",
     "output_type": "stream",
     "text": [
      "\r",
      " 20%|██████████████▋                                                           | 199/1000 [2:28:35<10:52:43, 48.89s/it]"
     ]
    },
    {
     "name": "stdout",
     "output_type": "stream",
     "text": [
      "\t ----- reward: -40.155223212228975 for f_star and f_minus: 31.601910598634646 , 40.155223212228975\n",
      "\t ---------- State is:  (5, 10)\n",
      "[INFO] [2023-03-01 01:59:40,656] [OpenBox-SPO] Iteration 200, objective value: [49.90584063755966].\n"
     ]
    },
    {
     "name": "stderr",
     "output_type": "stream",
     "text": [
      "\r",
      " 20%|██████████████▊                                                           | 200/1000 [2:29:24<10:52:42, 48.95s/it]"
     ]
    },
    {
     "name": "stdout",
     "output_type": "stream",
     "text": [
      "\t ----- reward: -49.90584063755966 for f_star and f_minus: 31.601910598634646 , 49.90584063755966\n",
      "\t ---------- State is:  (4, 10)\n",
      "[INFO] [2023-03-01 02:00:27,011] [OpenBox-SPO] Iteration 201, objective value: [43.48972419250883].\n"
     ]
    },
    {
     "name": "stderr",
     "output_type": "stream",
     "text": [
      "\r",
      " 20%|██████████████▊                                                           | 201/1000 [2:30:10<10:41:30, 48.17s/it]"
     ]
    },
    {
     "name": "stdout",
     "output_type": "stream",
     "text": [
      "\t ----- reward: -43.48972419250883 for f_star and f_minus: 31.601910598634646 , 43.48972419250883\n",
      "\t ---------- State is:  (3, 10)\n",
      "[INFO] [2023-03-01 02:01:16,630] [OpenBox-SPO] Iteration 202, objective value: [38.99276004388953].\n"
     ]
    },
    {
     "name": "stderr",
     "output_type": "stream",
     "text": [
      "\r",
      " 20%|██████████████▉                                                           | 202/1000 [2:31:00<10:46:28, 48.61s/it]"
     ]
    },
    {
     "name": "stdout",
     "output_type": "stream",
     "text": [
      "\t ----- reward: -38.99276004388953 for f_star and f_minus: 31.601910598634646 , 38.99276004388953\n",
      "\t ---------- State is:  (2, 10)\n",
      "[INFO] [2023-03-01 02:02:05,990] [OpenBox-SPO] Iteration 203, objective value: [38.07582489456137].\n"
     ]
    },
    {
     "name": "stderr",
     "output_type": "stream",
     "text": [
      "\r",
      " 20%|███████████████                                                           | 203/1000 [2:31:49<10:48:39, 48.83s/it]"
     ]
    },
    {
     "name": "stdout",
     "output_type": "stream",
     "text": [
      "\t ----- reward: -38.07582489456137 for f_star and f_minus: 31.601910598634646 , 38.07582489456137\n",
      "\t ---------- State is:  (1, 9)\n",
      "[INFO] [2023-03-01 02:02:55,826] [OpenBox-SPO] Iteration 204, objective value: [39.363172959840064].\n"
     ]
    },
    {
     "name": "stderr",
     "output_type": "stream",
     "text": [
      "\r",
      " 20%|███████████████                                                           | 204/1000 [2:32:39<10:51:50, 49.13s/it]"
     ]
    },
    {
     "name": "stdout",
     "output_type": "stream",
     "text": [
      "\t ----- reward: -39.363172959840064 for f_star and f_minus: 31.601910598634646 , 39.363172959840064\n",
      "\t ---------- State is:  (0, 8)\n",
      "[INFO] [2023-03-01 02:03:42,760] [OpenBox-SPO] Iteration 205, objective value: [39.21226520369966].\n"
     ]
    },
    {
     "name": "stderr",
     "output_type": "stream",
     "text": [
      "\r",
      " 20%|███████████████▏                                                          | 205/1000 [2:33:26<10:42:16, 48.47s/it]"
     ]
    },
    {
     "name": "stdout",
     "output_type": "stream",
     "text": [
      "\t ----- reward: -39.21226520369966 for f_star and f_minus: 31.601910598634646 , 39.21226520369966\n",
      "\t ---------- State is:  (0, 8)\n",
      "[INFO] [2023-03-01 02:04:29,127] [OpenBox-SPO] Iteration 206, objective value: [41.9191328779487].\n"
     ]
    },
    {
     "name": "stderr",
     "output_type": "stream",
     "text": [
      "\r",
      " 21%|███████████████▏                                                          | 206/1000 [2:34:12<10:33:06, 47.84s/it]"
     ]
    },
    {
     "name": "stdout",
     "output_type": "stream",
     "text": [
      "\t ----- reward: -41.9191328779487 for f_star and f_minus: 31.601910598634646 , 41.9191328779487\n",
      "\t ---------- State is:  (1, 8)\n",
      "[INFO] [2023-03-01 02:05:20,121] [OpenBox-SPO] Iteration 207, objective value: [47.0852505563687].\n"
     ]
    },
    {
     "name": "stderr",
     "output_type": "stream",
     "text": [
      "\r",
      " 21%|███████████████▎                                                          | 207/1000 [2:35:03<10:44:48, 48.79s/it]"
     ]
    },
    {
     "name": "stdout",
     "output_type": "stream",
     "text": [
      "\t ----- reward: -47.0852505563687 for f_star and f_minus: 31.601910598634646 , 47.0852505563687\n",
      "\t ---------- State is:  (0, 9)\n",
      "[INFO] [2023-03-01 02:06:06,585] [OpenBox-SPO] Iteration 208, objective value: [44.853487903778586].\n"
     ]
    },
    {
     "name": "stderr",
     "output_type": "stream",
     "text": [
      "\r",
      " 21%|███████████████▍                                                          | 208/1000 [2:35:50<10:34:47, 48.09s/it]"
     ]
    },
    {
     "name": "stdout",
     "output_type": "stream",
     "text": [
      "\t ----- reward: -44.853487903778586 for f_star and f_minus: 31.601910598634646 , 44.853487903778586\n",
      "\t ---------- State is:  (0, 9)\n",
      "[INFO] [2023-03-01 02:06:56,611] [OpenBox-SPO] Iteration 209, objective value: [45.81189240912333].\n"
     ]
    },
    {
     "name": "stderr",
     "output_type": "stream",
     "text": [
      "\r",
      " 21%|███████████████▍                                                          | 209/1000 [2:36:40<10:41:38, 48.67s/it]"
     ]
    },
    {
     "name": "stdout",
     "output_type": "stream",
     "text": [
      "\t ----- reward: -45.81189240912333 for f_star and f_minus: 31.601910598634646 , 45.81189240912333\n",
      "\t ---------- State is:  (1, 9)\n",
      "[INFO] [2023-03-01 02:07:55,372] [OpenBox-SPO] Iteration 210, objective value: [54.09315058924397].\n"
     ]
    },
    {
     "name": "stderr",
     "output_type": "stream",
     "text": [
      "\r",
      " 21%|███████████████▌                                                          | 210/1000 [2:37:38<11:20:41, 51.70s/it]"
     ]
    },
    {
     "name": "stdout",
     "output_type": "stream",
     "text": [
      "\t ----- reward: -54.09315058924397 for f_star and f_minus: 31.601910598634646 , 54.09315058924397\n",
      "\t ---------- State is:  (1, 11)\n",
      "[INFO] [2023-03-01 02:08:47,487] [OpenBox-SPO] Iteration 211, objective value: [39.060157174465985].\n"
     ]
    },
    {
     "name": "stderr",
     "output_type": "stream",
     "text": [
      "\r",
      " 21%|███████████████▌                                                          | 211/1000 [2:38:31<11:21:28, 51.82s/it]"
     ]
    },
    {
     "name": "stdout",
     "output_type": "stream",
     "text": [
      "\t ----- reward: -39.060157174465985 for f_star and f_minus: 31.601910598634646 , 39.060157174465985\n",
      "\t ---------- State is:  (0, 9)\n",
      "[INFO] [2023-03-01 02:09:43,056] [OpenBox-SPO] Iteration 212, objective value: [32.666315522821705].\n"
     ]
    },
    {
     "name": "stderr",
     "output_type": "stream",
     "text": [
      "\r",
      " 21%|███████████████▋                                                          | 212/1000 [2:39:26<11:35:22, 52.95s/it]"
     ]
    },
    {
     "name": "stdout",
     "output_type": "stream",
     "text": [
      "\t ----- reward: -32.666315522821705 for f_star and f_minus: 31.601910598634646 , 32.666315522821705\n",
      "\t ---------- State is:  (0, 9)\n",
      "[INFO] [2023-03-01 02:10:29,448] [OpenBox-SPO] Iteration 213, objective value: [39.14310498887603].\n"
     ]
    },
    {
     "name": "stderr",
     "output_type": "stream",
     "text": [
      "\r",
      " 21%|███████████████▊                                                          | 213/1000 [2:40:13<11:08:41, 50.98s/it]"
     ]
    },
    {
     "name": "stdout",
     "output_type": "stream",
     "text": [
      "\t ----- reward: -39.14310498887603 for f_star and f_minus: 31.601910598634646 , 39.14310498887603\n",
      "\t ---------- State is:  (0, 9)\n",
      "[INFO] [2023-03-01 02:11:15,633] [OpenBox-SPO] Iteration 214, objective value: [43.15892370091421].\n"
     ]
    },
    {
     "name": "stderr",
     "output_type": "stream",
     "text": [
      "\r",
      " 21%|███████████████▊                                                          | 214/1000 [2:40:59<10:48:59, 49.54s/it]"
     ]
    },
    {
     "name": "stdout",
     "output_type": "stream",
     "text": [
      "\t ----- reward: -43.15892370091421 for f_star and f_minus: 31.601910598634646 , 43.15892370091421\n",
      "\t ---------- State is:  (0, 10)\n",
      "[INFO] [2023-03-01 02:12:04,934] [OpenBox-SPO] Iteration 215, objective value: [33.30889995733209].\n"
     ]
    },
    {
     "name": "stderr",
     "output_type": "stream",
     "text": [
      "\r",
      " 22%|███████████████▉                                                          | 215/1000 [2:41:48<10:47:13, 49.47s/it]"
     ]
    },
    {
     "name": "stdout",
     "output_type": "stream",
     "text": [
      "\t ----- reward: -33.30889995733209 for f_star and f_minus: 31.601910598634646 , 33.30889995733209\n",
      "\t ---------- State is:  (0, 9)\n",
      "[INFO] [2023-03-01 02:12:58,339] [OpenBox-SPO] Iteration 216, objective value: [40.19434267375848].\n"
     ]
    },
    {
     "name": "stderr",
     "output_type": "stream",
     "text": [
      "\r",
      " 22%|███████████████▉                                                          | 216/1000 [2:42:41<11:01:49, 50.65s/it]"
     ]
    },
    {
     "name": "stdout",
     "output_type": "stream",
     "text": [
      "\t ----- reward: -40.19434267375848 for f_star and f_minus: 31.601910598634646 , 40.19434267375848\n",
      "\t ---------- State is:  (1, 8)\n",
      "[INFO] [2023-03-01 02:13:48,259] [OpenBox-SPO] Iteration 217, objective value: [49.2666882836033].\n"
     ]
    },
    {
     "name": "stderr",
     "output_type": "stream",
     "text": [
      "\r",
      " 22%|████████████████                                                          | 217/1000 [2:43:31<10:58:07, 50.43s/it]"
     ]
    },
    {
     "name": "stdout",
     "output_type": "stream",
     "text": [
      "\t ----- reward: -49.2666882836033 for f_star and f_minus: 31.601910598634646 , 49.2666882836033\n",
      "\t ---------- State is:  (1, 8)\n",
      "[INFO] [2023-03-01 02:14:39,859] [OpenBox-SPO] Iteration 218, objective value: [33.99515673737113].\n"
     ]
    },
    {
     "name": "stderr",
     "output_type": "stream",
     "text": [
      "\r",
      " 22%|████████████████▏                                                         | 218/1000 [2:44:23<11:01:51, 50.78s/it]"
     ]
    },
    {
     "name": "stdout",
     "output_type": "stream",
     "text": [
      "\t ----- reward: -33.99515673737113 for f_star and f_minus: 31.601910598634646 , 33.99515673737113\n",
      "\t ---------- State is:  (2, 8)\n",
      "[INFO] [2023-03-01 02:15:28,602] [OpenBox-SPO] Iteration 219, objective value: [32.47981578756789].\n"
     ]
    },
    {
     "name": "stderr",
     "output_type": "stream",
     "text": [
      "\r",
      " 22%|████████████████▏                                                         | 219/1000 [2:45:12<10:53:02, 50.17s/it]"
     ]
    },
    {
     "name": "stdout",
     "output_type": "stream",
     "text": [
      "\t ----- reward: -32.47981578756789 for f_star and f_minus: 31.601910598634646 , 32.47981578756789\n",
      "\t ---------- State is:  (2, 8)\n",
      "[INFO] [2023-03-01 02:16:19,962] [OpenBox-SPO] Iteration 220, objective value: [44.36279448467839].\n"
     ]
    },
    {
     "name": "stderr",
     "output_type": "stream",
     "text": [
      "\r",
      " 22%|████████████████▎                                                         | 220/1000 [2:46:03<10:56:51, 50.53s/it]"
     ]
    },
    {
     "name": "stdout",
     "output_type": "stream",
     "text": [
      "\t ----- reward: -44.36279448467839 for f_star and f_minus: 31.601910598634646 , 44.36279448467839\n",
      "\t ---------- State is:  (3, 8)\n",
      "[INFO] [2023-03-01 02:17:18,184] [OpenBox-SPO] Iteration 221, objective value: [35.11318644943259].\n"
     ]
    },
    {
     "name": "stderr",
     "output_type": "stream",
     "text": [
      "\r",
      " 22%|████████████████▎                                                         | 221/1000 [2:47:01<11:25:59, 52.84s/it]"
     ]
    },
    {
     "name": "stdout",
     "output_type": "stream",
     "text": [
      "\t ----- reward: -35.11318644943259 for f_star and f_minus: 31.601910598634646 , 35.11318644943259\n",
      "\t ---------- State is:  (3, 7)\n",
      "[INFO] [2023-03-01 02:17:18,184] [Advisor] Sample random config. rand_prob=0.100000.\n",
      "[INFO] [2023-03-01 02:17:52,084] [OpenBox-SPO] Iteration 222, objective value: [48.37451086255974].\n"
     ]
    },
    {
     "name": "stderr",
     "output_type": "stream",
     "text": [
      "\r",
      " 22%|████████████████▍                                                         | 222/1000 [2:47:35<10:11:26, 47.15s/it]"
     ]
    },
    {
     "name": "stdout",
     "output_type": "stream",
     "text": [
      "\t ----- reward: -48.37451086255974 for f_star and f_minus: 31.601910598634646 , 48.37451086255974\n",
      "\t ---------- State is:  (3, 8)\n",
      "[INFO] [2023-03-01 02:18:39,182] [OpenBox-SPO] Iteration 223, objective value: [34.48523206765205].\n"
     ]
    },
    {
     "name": "stderr",
     "output_type": "stream",
     "text": [
      "\r",
      " 22%|████████████████▌                                                         | 223/1000 [2:48:22<10:10:26, 47.14s/it]"
     ]
    },
    {
     "name": "stdout",
     "output_type": "stream",
     "text": [
      "\t ----- reward: -34.48523206765205 for f_star and f_minus: 31.601910598634646 , 34.48523206765205\n",
      "\t ---------- State is:  (3, 8)\n",
      "[INFO] [2023-03-01 02:19:30,380] [OpenBox-SPO] Iteration 224, objective value: [36.11648416371819].\n"
     ]
    },
    {
     "name": "stderr",
     "output_type": "stream",
     "text": [
      "\r",
      " 22%|████████████████▌                                                         | 224/1000 [2:49:13<10:25:24, 48.36s/it]"
     ]
    },
    {
     "name": "stdout",
     "output_type": "stream",
     "text": [
      "\t ----- reward: -36.11648416371819 for f_star and f_minus: 31.601910598634646 , 36.11648416371819\n",
      "\t ---------- State is:  (4, 8)\n",
      "[INFO] [2023-03-01 02:20:19,875] [OpenBox-SPO] Iteration 225, objective value: [37.40955192862883].\n"
     ]
    },
    {
     "name": "stderr",
     "output_type": "stream",
     "text": [
      "\r",
      " 22%|████████████████▋                                                         | 225/1000 [2:50:03<10:29:00, 48.70s/it]"
     ]
    },
    {
     "name": "stdout",
     "output_type": "stream",
     "text": [
      "\t ----- reward: -37.40955192862883 for f_star and f_minus: 31.601910598634646 , 37.40955192862883\n",
      "\t ---------- State is:  (5, 8)\n",
      "[INFO] [2023-03-01 02:21:12,745] [OpenBox-SPO] Iteration 226, objective value: [36.45129836520534].\n"
     ]
    },
    {
     "name": "stderr",
     "output_type": "stream",
     "text": [
      "\r",
      " 23%|████████████████▋                                                         | 226/1000 [2:50:56<10:44:20, 49.95s/it]"
     ]
    },
    {
     "name": "stdout",
     "output_type": "stream",
     "text": [
      "\t ----- reward: -36.45129836520534 for f_star and f_minus: 31.601910598634646 , 36.45129836520534\n",
      "\t ---------- State is:  (4, 7)\n",
      "[INFO] [2023-03-01 02:22:04,268] [OpenBox-SPO] Iteration 227, objective value: [38.22679391608425].\n"
     ]
    },
    {
     "name": "stderr",
     "output_type": "stream",
     "text": [
      "\r",
      " 23%|████████████████▊                                                         | 227/1000 [2:51:47<10:49:35, 50.42s/it]"
     ]
    },
    {
     "name": "stdout",
     "output_type": "stream",
     "text": [
      "\t ----- reward: -38.22679391608425 for f_star and f_minus: 31.601910598634646 , 38.22679391608425\n",
      "\t ---------- State is:  (3, 7)\n",
      "[INFO] [2023-03-01 02:22:53,013] [OpenBox-SPO] Iteration 228, objective value: [36.61643641955402].\n"
     ]
    },
    {
     "name": "stderr",
     "output_type": "stream",
     "text": [
      "\r",
      " 23%|████████████████▊                                                         | 228/1000 [2:52:36<10:42:17, 49.92s/it]"
     ]
    },
    {
     "name": "stdout",
     "output_type": "stream",
     "text": [
      "\t ----- reward: -36.61643641955402 for f_star and f_minus: 31.601910598634646 , 36.61643641955402\n",
      "\t ---------- State is:  (3, 6)\n",
      "[INFO] [2023-03-01 02:23:37,007] [OpenBox-SPO] Iteration 229, objective value: [34.59556417011815].\n"
     ]
    },
    {
     "name": "stderr",
     "output_type": "stream",
     "text": [
      "\r",
      " 23%|████████████████▉                                                         | 229/1000 [2:53:20<10:18:36, 48.14s/it]"
     ]
    },
    {
     "name": "stdout",
     "output_type": "stream",
     "text": [
      "\t ----- reward: -34.59556417011815 for f_star and f_minus: 31.601910598634646 , 34.59556417011815\n",
      "\t ---------- State is:  (3, 5)\n",
      "[INFO] [2023-03-01 02:24:20,437] [OpenBox-SPO] Iteration 230, objective value: [32.0898566124134].\n"
     ]
    },
    {
     "name": "stderr",
     "output_type": "stream",
     "text": [
      "\r",
      " 23%|█████████████████▎                                                         | 230/1000 [2:54:04<9:59:40, 46.73s/it]"
     ]
    },
    {
     "name": "stdout",
     "output_type": "stream",
     "text": [
      "\t ----- reward: -32.0898566124134 for f_star and f_minus: 31.601910598634646 , 32.0898566124134\n",
      "\t ---------- State is:  (2, 4)\n",
      "[INFO] [2023-03-01 02:25:12,701] [OpenBox-SPO] Iteration 231, objective value: [37.22405382628728].\n"
     ]
    },
    {
     "name": "stderr",
     "output_type": "stream",
     "text": [
      "\r",
      " 23%|█████████████████                                                         | 231/1000 [2:54:56<10:20:14, 48.39s/it]"
     ]
    },
    {
     "name": "stdout",
     "output_type": "stream",
     "text": [
      "\t ----- reward: -37.22405382628728 for f_star and f_minus: 31.601910598634646 , 37.22405382628728\n",
      "\t ---------- State is:  (3, 4)\n",
      "[INFO] [2023-03-01 02:25:12,717] [Advisor] Sample random config. rand_prob=0.100000.\n",
      "[INFO] [2023-03-01 02:25:39,941] [OpenBox-SPO] Iteration 232, objective value: [56.72892636195771].\n"
     ]
    },
    {
     "name": "stderr",
     "output_type": "stream",
     "text": [
      "\r",
      " 23%|█████████████████▍                                                         | 232/1000 [2:55:23<8:58:08, 42.04s/it]"
     ]
    },
    {
     "name": "stdout",
     "output_type": "stream",
     "text": [
      "\t ----- reward: -56.72892636195771 for f_star and f_minus: 31.601910598634646 , 56.72892636195771\n",
      "\t ---------- State is:  (3, 5)\n",
      "[INFO] [2023-03-01 02:26:28,983] [OpenBox-SPO] Iteration 233, objective value: [42.358670536200194].\n"
     ]
    },
    {
     "name": "stderr",
     "output_type": "stream",
     "text": [
      "\r",
      " 23%|█████████████████▍                                                         | 233/1000 [2:56:12<9:24:17, 44.14s/it]"
     ]
    },
    {
     "name": "stdout",
     "output_type": "stream",
     "text": [
      "\t ----- reward: -42.358670536200194 for f_star and f_minus: 31.601910598634646 , 42.358670536200194\n",
      "\t ---------- State is:  (4, 5)\n",
      "[INFO] [2023-03-01 02:27:16,913] [OpenBox-SPO] Iteration 234, objective value: [37.99275881947132].\n"
     ]
    },
    {
     "name": "stderr",
     "output_type": "stream",
     "text": [
      "\r",
      " 23%|█████████████████▌                                                         | 234/1000 [2:57:00<9:38:03, 45.28s/it]"
     ]
    },
    {
     "name": "stdout",
     "output_type": "stream",
     "text": [
      "\t ----- reward: -37.99275881947132 for f_star and f_minus: 31.601910598634646 , 37.99275881947132\n",
      "\t ---------- State is:  (4, 5)\n",
      "[INFO] [2023-03-01 02:28:07,044] [OpenBox-SPO] Iteration 235, objective value: [44.57853125305438].\n"
     ]
    },
    {
     "name": "stderr",
     "output_type": "stream",
     "text": [
      "\r",
      " 24%|█████████████████▋                                                         | 235/1000 [2:57:50<9:55:51, 46.73s/it]"
     ]
    },
    {
     "name": "stdout",
     "output_type": "stream",
     "text": [
      "\t ----- reward: -44.57853125305438 for f_star and f_minus: 31.601910598634646 , 44.57853125305438\n",
      "\t ---------- State is:  (3, 5)\n",
      "[INFO] [2023-03-01 02:28:56,851] [OpenBox-SPO] Iteration 236, objective value: [35.004500883594645].\n"
     ]
    },
    {
     "name": "stderr",
     "output_type": "stream",
     "text": [
      "\r",
      " 24%|█████████████████▍                                                        | 236/1000 [2:58:40<10:06:49, 47.66s/it]"
     ]
    },
    {
     "name": "stdout",
     "output_type": "stream",
     "text": [
      "\t ----- reward: -35.004500883594645 for f_star and f_minus: 31.601910598634646 , 35.004500883594645\n",
      "\t ---------- State is:  (4, 5)\n",
      "[INFO] [2023-03-01 02:29:47,523] [OpenBox-SPO] Iteration 237, objective value: [32.33608947182961].\n"
     ]
    },
    {
     "name": "stderr",
     "output_type": "stream",
     "text": [
      "\r",
      " 24%|█████████████████▌                                                        | 237/1000 [2:59:31<10:17:31, 48.56s/it]"
     ]
    },
    {
     "name": "stdout",
     "output_type": "stream",
     "text": [
      "\t ----- reward: -32.33608947182961 for f_star and f_minus: 31.601910598634646 , 32.33608947182961\n",
      "\t ---------- State is:  (5, 4)\n",
      "[INFO] [2023-03-01 02:30:33,609] [OpenBox-SPO] Iteration 238, objective value: [33.143207426288896].\n"
     ]
    },
    {
     "name": "stderr",
     "output_type": "stream",
     "text": [
      "\r",
      " 24%|█████████████████▌                                                        | 238/1000 [3:00:17<10:07:17, 47.82s/it]"
     ]
    },
    {
     "name": "stdout",
     "output_type": "stream",
     "text": [
      "\t ----- reward: -33.143207426288896 for f_star and f_minus: 31.601910598634646 , 33.143207426288896\n",
      "\t ---------- State is:  (5, 4)\n",
      "[INFO] [2023-03-01 02:30:33,609] [Advisor] Sample random config. rand_prob=0.100000.\n",
      "[INFO] [2023-03-01 02:31:07,928] [OpenBox-SPO] Iteration 239, objective value: [57.635871939429336].\n"
     ]
    },
    {
     "name": "stderr",
     "output_type": "stream",
     "text": [
      "\r",
      " 24%|█████████████████▉                                                         | 239/1000 [3:00:51<9:15:08, 43.77s/it]"
     ]
    },
    {
     "name": "stdout",
     "output_type": "stream",
     "text": [
      "\t ----- reward: -57.635871939429336 for f_star and f_minus: 31.601910598634646 , 57.635871939429336\n",
      "\t ---------- State is:  (6, 5)\n",
      "[INFO] [2023-03-01 02:31:07,928] [Advisor] Sample random config. rand_prob=0.100000.\n",
      "[INFO] [2023-03-01 02:31:37,475] [OpenBox-SPO] Iteration 240, objective value: [62.10722630037658].\n"
     ]
    },
    {
     "name": "stderr",
     "output_type": "stream",
     "text": [
      "\r",
      " 24%|██████████████████                                                         | 240/1000 [3:01:21<8:20:21, 39.50s/it]"
     ]
    },
    {
     "name": "stdout",
     "output_type": "stream",
     "text": [
      "\t ----- reward: -62.10722630037658 for f_star and f_minus: 31.601910598634646 , 62.10722630037658\n",
      "\t ---------- State is:  (5, 5)\n",
      "[INFO] [2023-03-01 02:32:24,419] [OpenBox-SPO] Iteration 241, objective value: [35.24528708383377].\n"
     ]
    },
    {
     "name": "stderr",
     "output_type": "stream",
     "text": [
      "\r",
      " 24%|██████████████████                                                         | 241/1000 [3:02:07<8:47:56, 41.73s/it]"
     ]
    },
    {
     "name": "stdout",
     "output_type": "stream",
     "text": [
      "\t ----- reward: -35.24528708383377 for f_star and f_minus: 31.601910598634646 , 35.24528708383377\n",
      "\t ---------- State is:  (5, 5)\n",
      "[INFO] [2023-03-01 02:33:13,473] [OpenBox-SPO] Iteration 242, objective value: [38.827958395716934].\n"
     ]
    },
    {
     "name": "stderr",
     "output_type": "stream",
     "text": [
      "\r",
      " 24%|██████████████████▏                                                        | 242/1000 [3:02:57<9:14:59, 43.93s/it]"
     ]
    },
    {
     "name": "stdout",
     "output_type": "stream",
     "text": [
      "\t ----- reward: -38.827958395716934 for f_star and f_minus: 31.601910598634646 , 38.827958395716934\n",
      "\t ---------- State is:  (4, 5)\n",
      "[INFO] [2023-03-01 02:33:59,217] [OpenBox-SPO] Iteration 243, objective value: [38.982976894939924].\n"
     ]
    },
    {
     "name": "stderr",
     "output_type": "stream",
     "text": [
      "\r",
      " 24%|██████████████████▏                                                        | 243/1000 [3:03:42<9:21:07, 44.47s/it]"
     ]
    },
    {
     "name": "stdout",
     "output_type": "stream",
     "text": [
      "\t ----- reward: -38.982976894939924 for f_star and f_minus: 31.601910598634646 , 38.982976894939924\n",
      "\t ---------- State is:  (5, 5)\n",
      "[INFO] [2023-03-01 02:34:45,410] [OpenBox-SPO] Iteration 244, objective value: [35.8669027501019].\n"
     ]
    },
    {
     "name": "stderr",
     "output_type": "stream",
     "text": [
      "\r",
      " 24%|██████████████████▎                                                        | 244/1000 [3:04:28<9:26:52, 44.99s/it]"
     ]
    },
    {
     "name": "stdout",
     "output_type": "stream",
     "text": [
      "\t ----- reward: -35.8669027501019 for f_star and f_minus: 31.601910598634646 , 35.8669027501019\n",
      "\t ---------- State is:  (6, 5)\n",
      "[INFO] [2023-03-01 02:35:32,027] [OpenBox-SPO] Iteration 245, objective value: [39.9133403810471].\n"
     ]
    },
    {
     "name": "stderr",
     "output_type": "stream",
     "text": [
      "\r",
      " 24%|██████████████████▍                                                        | 245/1000 [3:05:15<9:32:15, 45.48s/it]"
     ]
    },
    {
     "name": "stdout",
     "output_type": "stream",
     "text": [
      "\t ----- reward: -39.9133403810471 for f_star and f_minus: 31.601910598634646 , 39.9133403810471\n",
      "\t ---------- State is:  (7, 6)\n",
      "[INFO] [2023-03-01 02:36:18,595] [OpenBox-SPO] Iteration 246, objective value: [39.26378782696636].\n"
     ]
    },
    {
     "name": "stderr",
     "output_type": "stream",
     "text": [
      "\r",
      " 25%|██████████████████▍                                                        | 246/1000 [3:06:02<9:35:37, 45.81s/it]"
     ]
    },
    {
     "name": "stdout",
     "output_type": "stream",
     "text": [
      "\t ----- reward: -39.26378782696636 for f_star and f_minus: 31.601910598634646 , 39.26378782696636\n",
      "\t ---------- State is:  (7, 6)\n",
      "[INFO] [2023-03-01 02:36:18,595] [Advisor] Sample random config. rand_prob=0.100000.\n",
      "[INFO] [2023-03-01 02:36:45,429] [OpenBox-SPO] Iteration 247, objective value: [59.91805722923693].\n"
     ]
    },
    {
     "name": "stderr",
     "output_type": "stream",
     "text": [
      "\r",
      " 25%|██████████████████▌                                                        | 247/1000 [3:06:28<8:23:25, 40.11s/it]"
     ]
    },
    {
     "name": "stdout",
     "output_type": "stream",
     "text": [
      "\t ----- reward: -59.91805722923693 for f_star and f_minus: 31.601910598634646 , 59.91805722923693\n",
      "\t ---------- State is:  (8, 6)\n",
      "[INFO] [2023-03-01 02:37:37,754] [OpenBox-SPO] Iteration 248, objective value: [45.50138344729435].\n"
     ]
    },
    {
     "name": "stderr",
     "output_type": "stream",
     "text": [
      "\r",
      " 25%|██████████████████▌                                                        | 248/1000 [3:07:21<9:08:40, 43.78s/it]"
     ]
    },
    {
     "name": "stdout",
     "output_type": "stream",
     "text": [
      "\t ----- reward: -45.50138344729435 for f_star and f_minus: 31.601910598634646 , 45.50138344729435\n",
      "\t ---------- State is:  (7, 7)\n",
      "[INFO] [2023-03-01 02:38:29,215] [OpenBox-SPO] Iteration 249, objective value: [41.28716655528669].\n"
     ]
    },
    {
     "name": "stderr",
     "output_type": "stream",
     "text": [
      "\r",
      " 25%|██████████████████▋                                                        | 249/1000 [3:08:12<9:36:47, 46.08s/it]"
     ]
    },
    {
     "name": "stdout",
     "output_type": "stream",
     "text": [
      "\t ----- reward: -41.28716655528669 for f_star and f_minus: 31.601910598634646 , 41.28716655528669\n",
      "\t ---------- State is:  (6, 7)\n",
      "[INFO] [2023-03-01 02:39:08,235] [OpenBox-SPO] Iteration 250, objective value: [30.56583200246719].\n"
     ]
    },
    {
     "name": "stderr",
     "output_type": "stream",
     "text": [
      "\r",
      " 25%|██████████████████▊                                                        | 250/1000 [3:08:51<9:09:32, 43.96s/it]"
     ]
    },
    {
     "name": "stdout",
     "output_type": "stream",
     "text": [
      "\t ----- reward: -30.56583200246719 for f_star and f_minus: 31.601910598634646 , 30.56583200246719\n",
      "\t ---------- State is:  (5, 7)\n",
      "[INFO] [2023-03-01 02:39:57,249] [OpenBox-SPO] Iteration 251, objective value: [52.817469188535796].\n"
     ]
    },
    {
     "name": "stderr",
     "output_type": "stream",
     "text": [
      "\r",
      " 25%|██████████████████▊                                                        | 251/1000 [3:09:40<9:27:43, 45.48s/it]"
     ]
    },
    {
     "name": "stdout",
     "output_type": "stream",
     "text": [
      "\t ----- reward: -52.817469188535796 for f_star and f_minus: 30.56583200246719 , 52.817469188535796\n",
      "\t ---------- State is:  (6, 9)\n",
      "[INFO] [2023-03-01 02:39:57,249] [Advisor] Sample random config. rand_prob=0.100000.\n",
      "[INFO] [2023-03-01 02:40:36,549] [OpenBox-SPO] Iteration 252, objective value: [50.52612882257641].\n"
     ]
    },
    {
     "name": "stderr",
     "output_type": "stream",
     "text": [
      "\r",
      " 25%|██████████████████▉                                                        | 252/1000 [3:10:20<9:03:51, 43.63s/it]"
     ]
    },
    {
     "name": "stdout",
     "output_type": "stream",
     "text": [
      "\t ----- reward: -50.52612882257641 for f_star and f_minus: 30.56583200246719 , 50.52612882257641\n",
      "\t ---------- State is:  (7, 9)\n",
      "[INFO] [2023-03-01 02:41:15,214] [OpenBox-SPO] Iteration 253, objective value: [38.93805098480912].\n"
     ]
    },
    {
     "name": "stderr",
     "output_type": "stream",
     "text": [
      "\r",
      " 25%|██████████████████▉                                                        | 253/1000 [3:10:58<8:44:36, 42.14s/it]"
     ]
    },
    {
     "name": "stdout",
     "output_type": "stream",
     "text": [
      "\t ----- reward: -38.93805098480912 for f_star and f_minus: 30.56583200246719 , 38.93805098480912\n",
      "\t ---------- State is:  (7, 8)\n",
      "[INFO] [2023-03-01 02:41:57,364] [OpenBox-SPO] Iteration 254, objective value: [37.96561504220237].\n"
     ]
    },
    {
     "name": "stderr",
     "output_type": "stream",
     "text": [
      "\r",
      " 25%|███████████████████                                                        | 254/1000 [3:11:40<8:43:57, 42.14s/it]"
     ]
    },
    {
     "name": "stdout",
     "output_type": "stream",
     "text": [
      "\t ----- reward: -37.96561504220237 for f_star and f_minus: 30.56583200246719 , 37.96561504220237\n",
      "\t ---------- State is:  (7, 8)\n",
      "[INFO] [2023-03-01 02:42:45,808] [OpenBox-SPO] Iteration 255, objective value: [39.421545231872265].\n"
     ]
    },
    {
     "name": "stderr",
     "output_type": "stream",
     "text": [
      "\r",
      " 26%|███████████████████▏                                                       | 255/1000 [3:12:29<9:06:43, 44.03s/it]"
     ]
    },
    {
     "name": "stdout",
     "output_type": "stream",
     "text": [
      "\t ----- reward: -39.421545231872265 for f_star and f_minus: 30.56583200246719 , 39.421545231872265\n",
      "\t ---------- State is:  (6, 8)\n",
      "[INFO] [2023-03-01 02:43:37,721] [OpenBox-SPO] Iteration 256, objective value: [38.67896650866508].\n"
     ]
    },
    {
     "name": "stderr",
     "output_type": "stream",
     "text": [
      "\r",
      " 26%|███████████████████▏                                                       | 256/1000 [3:13:21<9:35:18, 46.40s/it]"
     ]
    },
    {
     "name": "stdout",
     "output_type": "stream",
     "text": [
      "\t ----- reward: -38.67896650866508 for f_star and f_minus: 30.56583200246719 , 38.67896650866508\n",
      "\t ---------- State is:  (6, 8)\n",
      "[INFO] [2023-03-01 02:44:18,898] [OpenBox-SPO] Iteration 257, objective value: [36.6230745216633].\n"
     ]
    },
    {
     "name": "stderr",
     "output_type": "stream",
     "text": [
      "\r",
      " 26%|███████████████████▎                                                       | 257/1000 [3:14:02<9:15:08, 44.83s/it]"
     ]
    },
    {
     "name": "stdout",
     "output_type": "stream",
     "text": [
      "\t ----- reward: -36.6230745216633 for f_star and f_minus: 30.56583200246719 , 36.6230745216633\n",
      "\t ---------- State is:  (7, 8)\n",
      "[INFO] [2023-03-01 02:45:02,990] [OpenBox-SPO] Iteration 258, objective value: [34.813658139184184].\n"
     ]
    },
    {
     "name": "stderr",
     "output_type": "stream",
     "text": [
      "\r",
      " 26%|███████████████████▎                                                       | 258/1000 [3:14:46<9:11:39, 44.61s/it]"
     ]
    },
    {
     "name": "stdout",
     "output_type": "stream",
     "text": [
      "\t ----- reward: -34.813658139184184 for f_star and f_minus: 30.56583200246719 , 34.813658139184184\n",
      "\t ---------- State is:  (7, 8)\n",
      "[INFO] [2023-03-01 02:45:45,358] [OpenBox-SPO] Iteration 259, objective value: [34.123185652137906].\n"
     ]
    },
    {
     "name": "stderr",
     "output_type": "stream",
     "text": [
      "\r",
      " 26%|███████████████████▍                                                       | 259/1000 [3:15:28<9:02:37, 43.94s/it]"
     ]
    },
    {
     "name": "stdout",
     "output_type": "stream",
     "text": [
      "\t ----- reward: -34.123185652137906 for f_star and f_minus: 30.56583200246719 , 34.123185652137906\n",
      "\t ---------- State is:  (8, 8)\n",
      "[INFO] [2023-03-01 02:46:27,405] [OpenBox-SPO] Iteration 260, objective value: [38.10321711708522].\n"
     ]
    },
    {
     "name": "stderr",
     "output_type": "stream",
     "text": [
      "\r",
      " 26%|███████████████████▌                                                       | 260/1000 [3:16:10<8:54:53, 43.37s/it]"
     ]
    },
    {
     "name": "stdout",
     "output_type": "stream",
     "text": [
      "\t ----- reward: -38.10321711708522 for f_star and f_minus: 30.56583200246719 , 38.10321711708522\n",
      "\t ---------- State is:  (7, 8)\n",
      "[INFO] [2023-03-01 02:47:10,467] [OpenBox-SPO] Iteration 261, objective value: [47.08971591357665].\n"
     ]
    },
    {
     "name": "stderr",
     "output_type": "stream",
     "text": [
      "\r",
      " 26%|███████████████████▌                                                       | 261/1000 [3:16:54<8:53:02, 43.28s/it]"
     ]
    },
    {
     "name": "stdout",
     "output_type": "stream",
     "text": [
      "\t ----- reward: -47.08971591357665 for f_star and f_minus: 30.56583200246719 , 47.08971591357665\n",
      "\t ---------- State is:  (7, 8)\n",
      "[INFO] [2023-03-01 02:47:52,368] [OpenBox-SPO] Iteration 262, objective value: [35.110470187746174].\n"
     ]
    },
    {
     "name": "stderr",
     "output_type": "stream",
     "text": [
      "\r",
      " 26%|███████████████████▋                                                       | 262/1000 [3:17:35<8:47:13, 42.86s/it]"
     ]
    },
    {
     "name": "stdout",
     "output_type": "stream",
     "text": [
      "\t ----- reward: -35.110470187746174 for f_star and f_minus: 30.56583200246719 , 35.110470187746174\n",
      "\t ---------- State is:  (6, 8)\n",
      "[INFO] [2023-03-01 02:48:38,655] [OpenBox-SPO] Iteration 263, objective value: [37.180205597261626].\n"
     ]
    },
    {
     "name": "stderr",
     "output_type": "stream",
     "text": [
      "\r",
      " 26%|███████████████████▋                                                       | 263/1000 [3:18:22<8:59:07, 43.89s/it]"
     ]
    },
    {
     "name": "stdout",
     "output_type": "stream",
     "text": [
      "\t ----- reward: -37.180205597261626 for f_star and f_minus: 30.56583200246719 , 37.180205597261626\n",
      "\t ---------- State is:  (5, 8)\n",
      "[INFO] [2023-03-01 02:49:25,320] [OpenBox-SPO] Iteration 264, objective value: [32.863998438581575].\n"
     ]
    },
    {
     "name": "stderr",
     "output_type": "stream",
     "text": [
      "\r",
      " 26%|███████████████████▊                                                       | 264/1000 [3:19:08<9:08:36, 44.72s/it]"
     ]
    },
    {
     "name": "stdout",
     "output_type": "stream",
     "text": [
      "\t ----- reward: -32.863998438581575 for f_star and f_minus: 30.56583200246719 , 32.863998438581575\n",
      "\t ---------- State is:  (5, 8)\n",
      "[INFO] [2023-03-01 02:49:25,320] [Advisor] Sample random config. rand_prob=0.100000.\n",
      "[INFO] [2023-03-01 02:49:59,124] [OpenBox-SPO] Iteration 265, objective value: [53.37519815419246].\n"
     ]
    },
    {
     "name": "stderr",
     "output_type": "stream",
     "text": [
      "\r",
      " 26%|███████████████████▉                                                       | 265/1000 [3:19:42<8:27:43, 41.45s/it]"
     ]
    },
    {
     "name": "stdout",
     "output_type": "stream",
     "text": [
      "\t ----- reward: -53.37519815419246 for f_star and f_minus: 30.56583200246719 , 53.37519815419246\n",
      "\t ---------- State is:  (6, 8)\n",
      "[INFO] [2023-03-01 02:50:41,662] [OpenBox-SPO] Iteration 266, objective value: [44.64323065249586].\n"
     ]
    },
    {
     "name": "stderr",
     "output_type": "stream",
     "text": [
      "\r",
      " 27%|███████████████████▉                                                       | 266/1000 [3:20:25<8:31:02, 41.77s/it]"
     ]
    },
    {
     "name": "stdout",
     "output_type": "stream",
     "text": [
      "\t ----- reward: -44.64323065249586 for f_star and f_minus: 30.56583200246719 , 44.64323065249586\n",
      "\t ---------- State is:  (7, 8)\n",
      "[INFO] [2023-03-01 02:51:25,840] [OpenBox-SPO] Iteration 267, objective value: [41.471274301824955].\n"
     ]
    },
    {
     "name": "stderr",
     "output_type": "stream",
     "text": [
      "\r",
      " 27%|████████████████████                                                       | 267/1000 [3:21:09<8:39:12, 42.50s/it]"
     ]
    },
    {
     "name": "stdout",
     "output_type": "stream",
     "text": [
      "\t ----- reward: -41.471274301824955 for f_star and f_minus: 30.56583200246719 , 41.471274301824955\n",
      "\t ---------- State is:  (8, 8)\n",
      "[INFO] [2023-03-01 02:52:08,611] [OpenBox-SPO] Iteration 268, objective value: [39.40568699603379].\n"
     ]
    },
    {
     "name": "stderr",
     "output_type": "stream",
     "text": [
      "\r",
      " 27%|████████████████████                                                       | 268/1000 [3:21:52<8:39:26, 42.58s/it]"
     ]
    },
    {
     "name": "stdout",
     "output_type": "stream",
     "text": [
      "\t ----- reward: -39.40568699603379 for f_star and f_minus: 30.56583200246719 , 39.40568699603379\n",
      "\t ---------- State is:  (7, 8)\n",
      "[INFO] [2023-03-01 02:52:51,682] [OpenBox-SPO] Iteration 269, objective value: [36.811546123072894].\n"
     ]
    },
    {
     "name": "stderr",
     "output_type": "stream",
     "text": [
      "\r",
      " 27%|████████████████████▏                                                      | 269/1000 [3:22:35<8:40:32, 42.73s/it]"
     ]
    },
    {
     "name": "stdout",
     "output_type": "stream",
     "text": [
      "\t ----- reward: -36.811546123072894 for f_star and f_minus: 30.56583200246719 , 36.811546123072894\n",
      "\t ---------- State is:  (8, 7)\n",
      "[INFO] [2023-03-01 02:53:34,005] [OpenBox-SPO] Iteration 270, objective value: [35.06269078532878].\n"
     ]
    },
    {
     "name": "stderr",
     "output_type": "stream",
     "text": [
      "\r",
      " 27%|████████████████████▎                                                      | 270/1000 [3:23:17<8:38:21, 42.60s/it]"
     ]
    },
    {
     "name": "stdout",
     "output_type": "stream",
     "text": [
      "\t ----- reward: -35.06269078532878 for f_star and f_minus: 30.56583200246719 , 35.06269078532878\n",
      "\t ---------- State is:  (8, 7)\n",
      "[INFO] [2023-03-01 02:54:24,419] [OpenBox-SPO] Iteration 271, objective value: [43.813261966441566].\n"
     ]
    },
    {
     "name": "stderr",
     "output_type": "stream",
     "text": [
      "\r",
      " 27%|████████████████████▎                                                      | 271/1000 [3:24:07<9:06:06, 44.95s/it]"
     ]
    },
    {
     "name": "stdout",
     "output_type": "stream",
     "text": [
      "\t ----- reward: -43.813261966441566 for f_star and f_minus: 30.56583200246719 , 43.813261966441566\n",
      "\t ---------- State is:  (9, 7)\n",
      "[INFO] [2023-03-01 02:55:01,947] [OpenBox-SPO] Iteration 272, objective value: [38.3498763561496].\n"
     ]
    },
    {
     "name": "stderr",
     "output_type": "stream",
     "text": [
      "\r",
      " 27%|████████████████████▍                                                      | 272/1000 [3:24:45<8:38:21, 42.72s/it]"
     ]
    },
    {
     "name": "stdout",
     "output_type": "stream",
     "text": [
      "\t ----- reward: -38.3498763561496 for f_star and f_minus: 30.56583200246719 , 38.3498763561496\n",
      "\t ---------- State is:  (10, 7)\n",
      "[INFO] [2023-03-01 02:55:48,031] [OpenBox-SPO] Iteration 273, objective value: [45.340046434393734].\n"
     ]
    },
    {
     "name": "stderr",
     "output_type": "stream",
     "text": [
      "\r",
      " 27%|████████████████████▍                                                      | 273/1000 [3:25:31<8:49:51, 43.73s/it]"
     ]
    },
    {
     "name": "stdout",
     "output_type": "stream",
     "text": [
      "\t ----- reward: -45.340046434393734 for f_star and f_minus: 30.56583200246719 , 45.340046434393734\n",
      "\t ---------- State is:  (10, 7)\n",
      "[INFO] [2023-03-01 02:56:38,571] [OpenBox-SPO] Iteration 274, objective value: [33.587913198285065].\n"
     ]
    },
    {
     "name": "stderr",
     "output_type": "stream",
     "text": [
      "\r",
      " 27%|████████████████████▌                                                      | 274/1000 [3:26:22<9:13:51, 45.77s/it]"
     ]
    },
    {
     "name": "stdout",
     "output_type": "stream",
     "text": [
      "\t ----- reward: -33.587913198285065 for f_star and f_minus: 30.56583200246719 , 33.587913198285065\n",
      "\t ---------- State is:  (9, 7)\n",
      "[INFO] [2023-03-01 02:57:27,522] [OpenBox-SPO] Iteration 275, objective value: [35.685291570753634].\n"
     ]
    },
    {
     "name": "stderr",
     "output_type": "stream",
     "text": [
      "\r",
      " 28%|████████████████████▋                                                      | 275/1000 [3:27:11<9:24:36, 46.73s/it]"
     ]
    },
    {
     "name": "stdout",
     "output_type": "stream",
     "text": [
      "\t ----- reward: -35.685291570753634 for f_star and f_minus: 30.56583200246719 , 35.685291570753634\n",
      "\t ---------- State is:  (9, 7)\n",
      "[INFO] [2023-03-01 02:58:12,106] [OpenBox-SPO] Iteration 276, objective value: [36.75229752624717].\n"
     ]
    },
    {
     "name": "stderr",
     "output_type": "stream",
     "text": [
      "\r",
      " 28%|████████████████████▋                                                      | 276/1000 [3:27:55<9:16:04, 46.08s/it]"
     ]
    },
    {
     "name": "stdout",
     "output_type": "stream",
     "text": [
      "\t ----- reward: -36.75229752624717 for f_star and f_minus: 30.56583200246719 , 36.75229752624717\n",
      "\t ---------- State is:  (9, 6)\n",
      "[INFO] [2023-03-01 02:58:55,147] [OpenBox-SPO] Iteration 277, objective value: [35.484952972406916].\n"
     ]
    },
    {
     "name": "stderr",
     "output_type": "stream",
     "text": [
      "\r",
      " 28%|████████████████████▊                                                      | 277/1000 [3:28:38<9:04:18, 45.17s/it]"
     ]
    },
    {
     "name": "stdout",
     "output_type": "stream",
     "text": [
      "\t ----- reward: -35.484952972406916 for f_star and f_minus: 30.56583200246719 , 35.484952972406916\n",
      "\t ---------- State is:  (9, 6)\n",
      "[INFO] [2023-03-01 02:59:46,488] [OpenBox-SPO] Iteration 278, objective value: [37.34101914895368].\n"
     ]
    },
    {
     "name": "stderr",
     "output_type": "stream",
     "text": [
      "\r",
      " 28%|████████████████████▊                                                      | 278/1000 [3:29:30<9:25:49, 47.02s/it]"
     ]
    },
    {
     "name": "stdout",
     "output_type": "stream",
     "text": [
      "\t ----- reward: -37.34101914895368 for f_star and f_minus: 30.56583200246719 , 37.34101914895368\n",
      "\t ---------- State is:  (8, 6)\n",
      "[INFO] [2023-03-01 03:00:27,619] [OpenBox-SPO] Iteration 279, objective value: [45.04090506489168].\n"
     ]
    },
    {
     "name": "stderr",
     "output_type": "stream",
     "text": [
      "\r",
      " 28%|████████████████████▉                                                      | 279/1000 [3:30:11<9:03:48, 45.25s/it]"
     ]
    },
    {
     "name": "stdout",
     "output_type": "stream",
     "text": [
      "\t ----- reward: -45.04090506489168 for f_star and f_minus: 30.56583200246719 , 45.04090506489168\n",
      "\t ---------- State is:  (8, 7)\n",
      "[INFO] [2023-03-01 03:01:17,980] [OpenBox-SPO] Iteration 280, objective value: [37.34172663300477].\n"
     ]
    },
    {
     "name": "stderr",
     "output_type": "stream",
     "text": [
      "\r",
      " 28%|█████████████████████                                                      | 280/1000 [3:31:01<9:21:26, 46.79s/it]"
     ]
    },
    {
     "name": "stdout",
     "output_type": "stream",
     "text": [
      "\t ----- reward: -37.34172663300477 for f_star and f_minus: 30.56583200246719 , 37.34172663300477\n",
      "\t ---------- State is:  (8, 6)\n",
      "[INFO] [2023-03-01 03:02:08,624] [OpenBox-SPO] Iteration 281, objective value: [38.94713139612942].\n"
     ]
    },
    {
     "name": "stderr",
     "output_type": "stream",
     "text": [
      "\r",
      " 28%|█████████████████████                                                      | 281/1000 [3:31:52<9:34:31, 47.94s/it]"
     ]
    },
    {
     "name": "stdout",
     "output_type": "stream",
     "text": [
      "\t ----- reward: -38.94713139612942 for f_star and f_minus: 30.56583200246719 , 38.94713139612942\n",
      "\t ---------- State is:  (9, 6)\n",
      "[INFO] [2023-03-01 03:02:55,009] [OpenBox-SPO] Iteration 282, objective value: [51.908765631865975].\n"
     ]
    },
    {
     "name": "stderr",
     "output_type": "stream",
     "text": [
      "\r",
      " 28%|█████████████████████▏                                                     | 282/1000 [3:32:38<9:28:07, 47.48s/it]"
     ]
    },
    {
     "name": "stdout",
     "output_type": "stream",
     "text": [
      "\t ----- reward: -51.908765631865975 for f_star and f_minus: 30.56583200246719 , 51.908765631865975\n",
      "\t ---------- State is:  (9, 7)\n",
      "[INFO] [2023-03-01 03:03:38,500] [OpenBox-SPO] Iteration 283, objective value: [43.3738906765299].\n"
     ]
    },
    {
     "name": "stderr",
     "output_type": "stream",
     "text": [
      "\r",
      " 28%|█████████████████████▏                                                     | 283/1000 [3:33:22<9:13:03, 46.28s/it]"
     ]
    },
    {
     "name": "stdout",
     "output_type": "stream",
     "text": [
      "\t ----- reward: -43.3738906765299 for f_star and f_minus: 30.56583200246719 , 43.3738906765299\n",
      "\t ---------- State is:  (9, 8)\n",
      "[INFO] [2023-03-01 03:04:25,029] [OpenBox-SPO] Iteration 284, objective value: [32.339252051326255].\n"
     ]
    },
    {
     "name": "stderr",
     "output_type": "stream",
     "text": [
      "\r",
      " 28%|█████████████████████▎                                                     | 284/1000 [3:34:08<9:13:10, 46.36s/it]"
     ]
    },
    {
     "name": "stdout",
     "output_type": "stream",
     "text": [
      "\t ----- reward: -32.339252051326255 for f_star and f_minus: 30.56583200246719 , 32.339252051326255\n",
      "\t ---------- State is:  (8, 8)\n",
      "[INFO] [2023-03-01 03:05:09,567] [OpenBox-SPO] Iteration 285, objective value: [33.93073301565536].\n"
     ]
    },
    {
     "name": "stderr",
     "output_type": "stream",
     "text": [
      "\r",
      " 28%|█████████████████████▎                                                     | 285/1000 [3:34:53<9:05:54, 45.81s/it]"
     ]
    },
    {
     "name": "stdout",
     "output_type": "stream",
     "text": [
      "\t ----- reward: -33.93073301565536 for f_star and f_minus: 30.56583200246719 , 33.93073301565536\n",
      "\t ---------- State is:  (7, 7)\n",
      "[INFO] [2023-03-01 03:05:57,406] [OpenBox-SPO] Iteration 286, objective value: [34.325536302486825].\n"
     ]
    },
    {
     "name": "stderr",
     "output_type": "stream",
     "text": [
      "\r",
      " 29%|█████████████████████▍                                                     | 286/1000 [3:35:40<9:12:22, 46.42s/it]"
     ]
    },
    {
     "name": "stdout",
     "output_type": "stream",
     "text": [
      "\t ----- reward: -34.325536302486825 for f_star and f_minus: 30.56583200246719 , 34.325536302486825\n",
      "\t ---------- State is:  (8, 6)\n",
      "[INFO] [2023-03-01 03:06:42,553] [OpenBox-SPO] Iteration 287, objective value: [46.55292268663926].\n"
     ]
    },
    {
     "name": "stderr",
     "output_type": "stream",
     "text": [
      "\r",
      " 29%|█████████████████████▌                                                     | 287/1000 [3:36:26<9:07:04, 46.04s/it]"
     ]
    },
    {
     "name": "stdout",
     "output_type": "stream",
     "text": [
      "\t ----- reward: -46.55292268663926 for f_star and f_minus: 30.56583200246719 , 46.55292268663926\n",
      "\t ---------- State is:  (8, 6)\n",
      "[INFO] [2023-03-01 03:07:26,137] [OpenBox-SPO] Iteration 288, objective value: [35.31060002475583].\n"
     ]
    },
    {
     "name": "stderr",
     "output_type": "stream",
     "text": [
      "\r",
      " 29%|█████████████████████▌                                                     | 288/1000 [3:37:09<8:57:34, 45.30s/it]"
     ]
    },
    {
     "name": "stdout",
     "output_type": "stream",
     "text": [
      "\t ----- reward: -35.31060002475583 for f_star and f_minus: 30.56583200246719 , 35.31060002475583\n",
      "\t ---------- State is:  (7, 6)\n",
      "[INFO] [2023-03-01 03:08:15,690] [OpenBox-SPO] Iteration 289, objective value: [29.673739403095624].\n"
     ]
    },
    {
     "name": "stderr",
     "output_type": "stream",
     "text": [
      "\r",
      " 29%|█████████████████████▋                                                     | 289/1000 [3:37:59<9:11:56, 46.58s/it]"
     ]
    },
    {
     "name": "stdout",
     "output_type": "stream",
     "text": [
      "\t ----- reward: -29.673739403095624 for f_star and f_minus: 30.56583200246719 , 29.673739403095624\n",
      "\t ---------- State is:  (6, 6)\n",
      "[INFO] [2023-03-01 03:09:08,634] [OpenBox-SPO] Iteration 290, objective value: [33.66104250651385].\n"
     ]
    },
    {
     "name": "stderr",
     "output_type": "stream",
     "text": [
      "\r",
      " 29%|█████████████████████▊                                                     | 290/1000 [3:38:52<9:33:45, 48.49s/it]"
     ]
    },
    {
     "name": "stdout",
     "output_type": "stream",
     "text": [
      "\t ----- reward: -33.66104250651385 for f_star and f_minus: 29.673739403095624 , 33.66104250651385\n",
      "\t ---------- State is:  (6, 7)\n",
      "[INFO] [2023-03-01 03:10:03,373] [OpenBox-SPO] Iteration 291, objective value: [37.90823357362741].\n"
     ]
    },
    {
     "name": "stderr",
     "output_type": "stream",
     "text": [
      "\r",
      " 29%|█████████████████████▊                                                     | 291/1000 [3:39:46<9:55:07, 50.36s/it]"
     ]
    },
    {
     "name": "stdout",
     "output_type": "stream",
     "text": [
      "\t ----- reward: -37.90823357362741 for f_star and f_minus: 29.673739403095624 , 37.90823357362741\n",
      "\t ---------- State is:  (6, 7)\n",
      "[INFO] [2023-03-01 03:10:45,601] [OpenBox-SPO] Iteration 292, objective value: [32.53449346685247].\n"
     ]
    },
    {
     "name": "stderr",
     "output_type": "stream",
     "text": [
      "\r",
      " 29%|█████████████████████▉                                                     | 292/1000 [3:40:29<9:25:28, 47.92s/it]"
     ]
    },
    {
     "name": "stdout",
     "output_type": "stream",
     "text": [
      "\t ----- reward: -32.53449346685247 for f_star and f_minus: 29.673739403095624 , 32.53449346685247\n",
      "\t ---------- State is:  (7, 6)\n",
      "[INFO] [2023-03-01 03:11:27,607] [OpenBox-SPO] Iteration 293, objective value: [33.86509847121515].\n"
     ]
    },
    {
     "name": "stderr",
     "output_type": "stream",
     "text": [
      "\r",
      " 29%|█████████████████████▉                                                     | 293/1000 [3:41:11<9:03:46, 46.15s/it]"
     ]
    },
    {
     "name": "stdout",
     "output_type": "stream",
     "text": [
      "\t ----- reward: -33.86509847121515 for f_star and f_minus: 29.673739403095624 , 33.86509847121515\n",
      "\t ---------- State is:  (6, 5)\n",
      "[INFO] [2023-03-01 03:12:17,412] [OpenBox-SPO] Iteration 294, objective value: [38.379527382793256].\n"
     ]
    },
    {
     "name": "stderr",
     "output_type": "stream",
     "text": [
      "\r",
      " 29%|██████████████████████                                                     | 294/1000 [3:42:00<9:15:54, 47.24s/it]"
     ]
    },
    {
     "name": "stdout",
     "output_type": "stream",
     "text": [
      "\t ----- reward: -38.379527382793256 for f_star and f_minus: 29.673739403095624 , 38.379527382793256\n",
      "\t ---------- State is:  (6, 6)\n",
      "[INFO] [2023-03-01 03:13:02,870] [OpenBox-SPO] Iteration 295, objective value: [38.444798045486664].\n"
     ]
    },
    {
     "name": "stderr",
     "output_type": "stream",
     "text": [
      "\r",
      " 30%|██████████████████████▏                                                    | 295/1000 [3:42:46<9:08:49, 46.71s/it]"
     ]
    },
    {
     "name": "stdout",
     "output_type": "stream",
     "text": [
      "\t ----- reward: -38.444798045486664 for f_star and f_minus: 29.673739403095624 , 38.444798045486664\n",
      "\t ---------- State is:  (6, 7)\n",
      "[INFO] [2023-03-01 03:13:47,474] [OpenBox-SPO] Iteration 296, objective value: [39.532326807120974].\n"
     ]
    },
    {
     "name": "stderr",
     "output_type": "stream",
     "text": [
      "\r",
      " 30%|██████████████████████▏                                                    | 296/1000 [3:43:31<9:00:38, 46.08s/it]"
     ]
    },
    {
     "name": "stdout",
     "output_type": "stream",
     "text": [
      "\t ----- reward: -39.532326807120974 for f_star and f_minus: 29.673739403095624 , 39.532326807120974\n",
      "\t ---------- State is:  (5, 7)\n",
      "[INFO] [2023-03-01 03:14:31,681] [OpenBox-SPO] Iteration 297, objective value: [50.789530203934504].\n"
     ]
    },
    {
     "name": "stderr",
     "output_type": "stream",
     "text": [
      "\r",
      " 30%|██████████████████████▎                                                    | 297/1000 [3:44:15<8:53:17, 45.52s/it]"
     ]
    },
    {
     "name": "stdout",
     "output_type": "stream",
     "text": [
      "\t ----- reward: -50.789530203934504 for f_star and f_minus: 29.673739403095624 , 50.789530203934504\n",
      "\t ---------- State is:  (5, 7)\n",
      "[INFO] [2023-03-01 03:15:20,158] [OpenBox-SPO] Iteration 298, objective value: [38.9449416617201].\n"
     ]
    },
    {
     "name": "stderr",
     "output_type": "stream",
     "text": [
      "\r",
      " 30%|██████████████████████▎                                                    | 298/1000 [3:45:03<9:02:55, 46.40s/it]"
     ]
    },
    {
     "name": "stdout",
     "output_type": "stream",
     "text": [
      "\t ----- reward: -38.9449416617201 for f_star and f_minus: 29.673739403095624 , 38.9449416617201\n",
      "\t ---------- State is:  (4, 8)\n",
      "[INFO] [2023-03-01 03:15:58,416] [OpenBox-SPO] Iteration 299, objective value: [43.60953443449802].\n"
     ]
    },
    {
     "name": "stderr",
     "output_type": "stream",
     "text": [
      "\r",
      " 30%|██████████████████████▍                                                    | 299/1000 [3:45:41<8:33:36, 43.96s/it]"
     ]
    },
    {
     "name": "stdout",
     "output_type": "stream",
     "text": [
      "\t ----- reward: -43.60953443449802 for f_star and f_minus: 29.673739403095624 , 43.60953443449802\n",
      "\t ---------- State is:  (3, 8)\n",
      "[INFO] [2023-03-01 03:16:44,470] [OpenBox-SPO] Iteration 300, objective value: [39.798543337536465].\n"
     ]
    },
    {
     "name": "stderr",
     "output_type": "stream",
     "text": [
      "\r",
      " 30%|██████████████████████▌                                                    | 300/1000 [3:46:28<8:40:11, 44.59s/it]"
     ]
    },
    {
     "name": "stdout",
     "output_type": "stream",
     "text": [
      "\t ----- reward: -39.798543337536465 for f_star and f_minus: 29.673739403095624 , 39.798543337536465\n",
      "\t ---------- State is:  (2, 8)\n",
      "[INFO] [2023-03-01 03:17:30,820] [OpenBox-SPO] Iteration 301, objective value: [34.748077222027646].\n"
     ]
    },
    {
     "name": "stderr",
     "output_type": "stream",
     "text": [
      "\r",
      " 30%|██████████████████████▌                                                    | 301/1000 [3:47:14<8:45:36, 45.12s/it]"
     ]
    },
    {
     "name": "stdout",
     "output_type": "stream",
     "text": [
      "\t ----- reward: -34.748077222027646 for f_star and f_minus: 29.673739403095624 , 34.748077222027646\n",
      "\t ---------- State is:  (1, 8)\n",
      "[INFO] [2023-03-01 03:18:11,949] [OpenBox-SPO] Iteration 302, objective value: [49.60765072816975].\n"
     ]
    },
    {
     "name": "stderr",
     "output_type": "stream",
     "text": [
      "\r",
      " 30%|██████████████████████▋                                                    | 302/1000 [3:47:55<8:30:56, 43.92s/it]"
     ]
    },
    {
     "name": "stdout",
     "output_type": "stream",
     "text": [
      "\t ----- reward: -49.60765072816975 for f_star and f_minus: 29.673739403095624 , 49.60765072816975\n",
      "\t ---------- State is:  (2, 8)\n",
      "[INFO] [2023-03-01 03:18:51,077] [OpenBox-SPO] Iteration 303, objective value: [43.585100029510016].\n"
     ]
    },
    {
     "name": "stderr",
     "output_type": "stream",
     "text": [
      "\r",
      " 30%|██████████████████████▋                                                    | 303/1000 [3:48:34<8:13:30, 42.48s/it]"
     ]
    },
    {
     "name": "stdout",
     "output_type": "stream",
     "text": [
      "\t ----- reward: -43.585100029510016 for f_star and f_minus: 29.673739403095624 , 43.585100029510016\n",
      "\t ---------- State is:  (2, 8)\n",
      "[INFO] [2023-03-01 03:19:34,431] [OpenBox-SPO] Iteration 304, objective value: [43.869224807087924].\n"
     ]
    },
    {
     "name": "stderr",
     "output_type": "stream",
     "text": [
      "\r",
      " 30%|██████████████████████▊                                                    | 304/1000 [3:49:17<8:15:49, 42.74s/it]"
     ]
    },
    {
     "name": "stdout",
     "output_type": "stream",
     "text": [
      "\t ----- reward: -43.869224807087924 for f_star and f_minus: 29.673739403095624 , 43.869224807087924\n",
      "\t ---------- State is:  (1, 8)\n",
      "[INFO] [2023-03-01 03:19:34,431] [Advisor] Sample random config. rand_prob=0.100000.\n",
      "[INFO] [2023-03-01 03:20:13,390] [OpenBox-SPO] Iteration 305, objective value: [58.500659909838475].\n"
     ]
    },
    {
     "name": "stderr",
     "output_type": "stream",
     "text": [
      "\r",
      " 30%|██████████████████████▉                                                    | 305/1000 [3:49:56<8:01:58, 41.61s/it]"
     ]
    },
    {
     "name": "stdout",
     "output_type": "stream",
     "text": [
      "\t ----- reward: -58.500659909838475 for f_star and f_minus: 29.673739403095624 , 58.500659909838475\n",
      "\t ---------- State is:  (0, 9)\n",
      "[INFO] [2023-03-01 03:20:52,461] [OpenBox-SPO] Iteration 306, objective value: [42.4776731246541].\n"
     ]
    },
    {
     "name": "stderr",
     "output_type": "stream",
     "text": [
      "\r",
      " 31%|██████████████████████▉                                                    | 306/1000 [3:50:36<7:52:27, 40.85s/it]"
     ]
    },
    {
     "name": "stdout",
     "output_type": "stream",
     "text": [
      "\t ----- reward: -42.4776731246541 for f_star and f_minus: 29.673739403095624 , 42.4776731246541\n",
      "\t ---------- State is:  (0, 9)\n",
      "[INFO] [2023-03-01 03:21:39,674] [OpenBox-SPO] Iteration 307, objective value: [46.45217862088267].\n"
     ]
    },
    {
     "name": "stderr",
     "output_type": "stream",
     "text": [
      "\r",
      " 31%|███████████████████████                                                    | 307/1000 [3:51:23<8:13:53, 42.76s/it]"
     ]
    },
    {
     "name": "stdout",
     "output_type": "stream",
     "text": [
      "\t ----- reward: -46.45217862088267 for f_star and f_minus: 29.673739403095624 , 46.45217862088267\n",
      "\t ---------- State is:  (1, 9)\n",
      "[INFO] [2023-03-01 03:22:31,573] [OpenBox-SPO] Iteration 308, objective value: [34.20267901046206].\n"
     ]
    },
    {
     "name": "stderr",
     "output_type": "stream",
     "text": [
      "\r",
      " 31%|███████████████████████                                                    | 308/1000 [3:52:15<8:44:44, 45.50s/it]"
     ]
    },
    {
     "name": "stdout",
     "output_type": "stream",
     "text": [
      "\t ----- reward: -34.20267901046206 for f_star and f_minus: 29.673739403095624 , 34.20267901046206\n",
      "\t ---------- State is:  (2, 9)\n",
      "[INFO] [2023-03-01 03:23:14,389] [OpenBox-SPO] Iteration 309, objective value: [34.382118462955304].\n"
     ]
    },
    {
     "name": "stderr",
     "output_type": "stream",
     "text": [
      "\r",
      " 31%|███████████████████████▏                                                   | 309/1000 [3:52:57<8:34:46, 44.70s/it]"
     ]
    },
    {
     "name": "stdout",
     "output_type": "stream",
     "text": [
      "\t ----- reward: -34.382118462955304 for f_star and f_minus: 29.673739403095624 , 34.382118462955304\n",
      "\t ---------- State is:  (2, 9)\n",
      "[INFO] [2023-03-01 03:23:53,555] [OpenBox-SPO] Iteration 310, objective value: [41.63817806990375].\n"
     ]
    },
    {
     "name": "stderr",
     "output_type": "stream",
     "text": [
      "\r",
      " 31%|███████████████████████▎                                                   | 310/1000 [3:53:37<8:14:56, 43.04s/it]"
     ]
    },
    {
     "name": "stdout",
     "output_type": "stream",
     "text": [
      "\t ----- reward: -41.63817806990375 for f_star and f_minus: 29.673739403095624 , 41.63817806990375\n",
      "\t ---------- State is:  (1, 9)\n",
      "[INFO] [2023-03-01 03:24:35,998] [OpenBox-SPO] Iteration 311, objective value: [34.172185654817625].\n"
     ]
    },
    {
     "name": "stderr",
     "output_type": "stream",
     "text": [
      "\r",
      " 31%|███████████████████████▎                                                   | 311/1000 [3:54:19<8:12:07, 42.86s/it]"
     ]
    },
    {
     "name": "stdout",
     "output_type": "stream",
     "text": [
      "\t ----- reward: -34.172185654817625 for f_star and f_minus: 29.673739403095624 , 34.172185654817625\n",
      "\t ---------- State is:  (0, 9)\n",
      "[INFO] [2023-03-01 03:25:16,596] [OpenBox-SPO] Iteration 312, objective value: [38.2904166789667].\n"
     ]
    },
    {
     "name": "stderr",
     "output_type": "stream",
     "text": [
      "\r",
      " 31%|███████████████████████▍                                                   | 312/1000 [3:55:00<8:03:38, 42.18s/it]"
     ]
    },
    {
     "name": "stdout",
     "output_type": "stream",
     "text": [
      "\t ----- reward: -38.2904166789667 for f_star and f_minus: 29.673739403095624 , 38.2904166789667\n",
      "\t ---------- State is:  (0, 9)\n",
      "[INFO] [2023-03-01 03:26:01,249] [OpenBox-SPO] Iteration 313, objective value: [32.74547736552711].\n"
     ]
    },
    {
     "name": "stderr",
     "output_type": "stream",
     "text": [
      "\r",
      " 31%|███████████████████████▍                                                   | 313/1000 [3:55:44<8:11:26, 42.92s/it]"
     ]
    },
    {
     "name": "stdout",
     "output_type": "stream",
     "text": [
      "\t ----- reward: -32.74547736552711 for f_star and f_minus: 29.673739403095624 , 32.74547736552711\n",
      "\t ---------- State is:  (1, 9)\n",
      "[INFO] [2023-03-01 03:26:40,911] [OpenBox-SPO] Iteration 314, objective value: [38.51471305903955].\n"
     ]
    },
    {
     "name": "stderr",
     "output_type": "stream",
     "text": [
      "\r",
      " 31%|███████████████████████▌                                                   | 314/1000 [3:56:24<7:59:32, 41.94s/it]"
     ]
    },
    {
     "name": "stdout",
     "output_type": "stream",
     "text": [
      "\t ----- reward: -38.51471305903955 for f_star and f_minus: 29.673739403095624 , 38.51471305903955\n",
      "\t ---------- State is:  (2, 9)\n",
      "[INFO] [2023-03-01 03:27:23,355] [OpenBox-SPO] Iteration 315, objective value: [33.93615088454057].\n"
     ]
    },
    {
     "name": "stderr",
     "output_type": "stream",
     "text": [
      "\r",
      " 32%|███████████████████████▋                                                   | 315/1000 [3:57:06<8:00:33, 42.09s/it]"
     ]
    },
    {
     "name": "stdout",
     "output_type": "stream",
     "text": [
      "\t ----- reward: -33.93615088454057 for f_star and f_minus: 29.673739403095624 , 33.93615088454057\n",
      "\t ---------- State is:  (3, 9)\n",
      "[INFO] [2023-03-01 03:28:06,892] [OpenBox-SPO] Iteration 316, objective value: [33.75349773419191].\n"
     ]
    },
    {
     "name": "stderr",
     "output_type": "stream",
     "text": [
      "\r",
      " 32%|███████████████████████▋                                                   | 316/1000 [3:57:50<8:04:48, 42.53s/it]"
     ]
    },
    {
     "name": "stdout",
     "output_type": "stream",
     "text": [
      "\t ----- reward: -33.75349773419191 for f_star and f_minus: 29.673739403095624 , 33.75349773419191\n",
      "\t ---------- State is:  (2, 9)\n",
      "[INFO] [2023-03-01 03:28:48,245] [OpenBox-SPO] Iteration 317, objective value: [36.738942472001376].\n"
     ]
    },
    {
     "name": "stderr",
     "output_type": "stream",
     "text": [
      "\r",
      " 32%|███████████████████████▊                                                   | 317/1000 [3:58:31<8:00:05, 42.17s/it]"
     ]
    },
    {
     "name": "stdout",
     "output_type": "stream",
     "text": [
      "\t ----- reward: -36.738942472001376 for f_star and f_minus: 29.673739403095624 , 36.738942472001376\n",
      "\t ---------- State is:  (2, 9)\n",
      "[INFO] [2023-03-01 03:28:48,245] [Advisor] Sample random config. rand_prob=0.100000.\n",
      "[INFO] [2023-03-01 03:29:20,888] [OpenBox-SPO] Iteration 318, objective value: [50.096347253417136].\n"
     ]
    },
    {
     "name": "stderr",
     "output_type": "stream",
     "text": [
      "\r",
      " 32%|███████████████████████▊                                                   | 318/1000 [3:59:04<7:26:52, 39.31s/it]"
     ]
    },
    {
     "name": "stdout",
     "output_type": "stream",
     "text": [
      "\t ----- reward: -50.096347253417136 for f_star and f_minus: 29.673739403095624 , 50.096347253417136\n",
      "\t ---------- State is:  (2, 9)\n",
      "[INFO] [2023-03-01 03:30:04,696] [OpenBox-SPO] Iteration 319, objective value: [41.63748059148802].\n"
     ]
    },
    {
     "name": "stderr",
     "output_type": "stream",
     "text": [
      "\r",
      " 32%|███████████████████████▉                                                   | 319/1000 [3:59:48<7:41:31, 40.66s/it]"
     ]
    },
    {
     "name": "stdout",
     "output_type": "stream",
     "text": [
      "\t ----- reward: -41.63748059148802 for f_star and f_minus: 29.673739403095624 , 41.63748059148802\n",
      "\t ---------- State is:  (3, 9)\n",
      "[INFO] [2023-03-01 03:30:48,909] [OpenBox-SPO] Iteration 320, objective value: [34.528958924064995].\n"
     ]
    },
    {
     "name": "stderr",
     "output_type": "stream",
     "text": [
      "\r",
      " 32%|████████████████████████                                                   | 320/1000 [4:00:32<7:52:54, 41.73s/it]"
     ]
    },
    {
     "name": "stdout",
     "output_type": "stream",
     "text": [
      "\t ----- reward: -34.528958924064995 for f_star and f_minus: 29.673739403095624 , 34.528958924064995\n",
      "\t ---------- State is:  (3, 8)\n",
      "[INFO] [2023-03-01 03:31:38,712] [OpenBox-SPO] Iteration 321, objective value: [43.986848482128885].\n"
     ]
    },
    {
     "name": "stderr",
     "output_type": "stream",
     "text": [
      "\r",
      " 32%|████████████████████████                                                   | 321/1000 [4:01:22<8:19:38, 44.15s/it]"
     ]
    },
    {
     "name": "stdout",
     "output_type": "stream",
     "text": [
      "\t ----- reward: -43.986848482128885 for f_star and f_minus: 29.673739403095624 , 43.986848482128885\n",
      "\t ---------- State is:  (4, 10)\n",
      "[INFO] [2023-03-01 03:32:26,484] [OpenBox-SPO] Iteration 322, objective value: [35.20730867588405].\n"
     ]
    },
    {
     "name": "stderr",
     "output_type": "stream",
     "text": [
      "\r",
      " 32%|████████████████████████▏                                                  | 322/1000 [4:02:10<8:31:10, 45.24s/it]"
     ]
    },
    {
     "name": "stdout",
     "output_type": "stream",
     "text": [
      "\t ----- reward: -35.20730867588405 for f_star and f_minus: 29.673739403095624 , 35.20730867588405\n",
      "\t ---------- State is:  (5, 8)\n",
      "[INFO] [2023-03-01 03:33:19,602] [OpenBox-SPO] Iteration 323, objective value: [32.402269904487795].\n"
     ]
    },
    {
     "name": "stderr",
     "output_type": "stream",
     "text": [
      "\r",
      " 32%|████████████████████████▏                                                  | 323/1000 [4:03:03<8:57:05, 47.60s/it]"
     ]
    },
    {
     "name": "stdout",
     "output_type": "stream",
     "text": [
      "\t ----- reward: -32.402269904487795 for f_star and f_minus: 29.673739403095624 , 32.402269904487795\n",
      "\t ---------- State is:  (5, 7)\n",
      "[INFO] [2023-03-01 03:34:08,453] [OpenBox-SPO] Iteration 324, objective value: [37.976786275580096].\n"
     ]
    },
    {
     "name": "stderr",
     "output_type": "stream",
     "text": [
      "\r",
      " 32%|████████████████████████▎                                                  | 324/1000 [4:03:52<9:00:31, 47.98s/it]"
     ]
    },
    {
     "name": "stdout",
     "output_type": "stream",
     "text": [
      "\t ----- reward: -37.976786275580096 for f_star and f_minus: 29.673739403095624 , 37.976786275580096\n",
      "\t ---------- State is:  (4, 7)\n",
      "[INFO] [2023-03-01 03:34:56,354] [OpenBox-SPO] Iteration 325, objective value: [37.4661571494783].\n"
     ]
    },
    {
     "name": "stderr",
     "output_type": "stream",
     "text": [
      "\r",
      " 32%|████████████████████████▍                                                  | 325/1000 [4:04:39<8:59:28, 47.95s/it]"
     ]
    },
    {
     "name": "stdout",
     "output_type": "stream",
     "text": [
      "\t ----- reward: -37.4661571494783 for f_star and f_minus: 29.673739403095624 , 37.4661571494783\n",
      "\t ---------- State is:  (5, 7)\n",
      "[INFO] [2023-03-01 03:35:43,021] [OpenBox-SPO] Iteration 326, objective value: [48.352845537429154].\n"
     ]
    },
    {
     "name": "stderr",
     "output_type": "stream",
     "text": [
      "\r",
      " 33%|████████████████████████▍                                                  | 326/1000 [4:05:26<8:54:20, 47.57s/it]"
     ]
    },
    {
     "name": "stdout",
     "output_type": "stream",
     "text": [
      "\t ----- reward: -48.352845537429154 for f_star and f_minus: 29.673739403095624 , 48.352845537429154\n",
      "\t ---------- State is:  (5, 7)\n",
      "[INFO] [2023-03-01 03:36:27,558] [OpenBox-SPO] Iteration 327, objective value: [40.72735156876768].\n"
     ]
    },
    {
     "name": "stderr",
     "output_type": "stream",
     "text": [
      "\r",
      " 33%|████████████████████████▌                                                  | 327/1000 [4:06:11<8:43:21, 46.66s/it]"
     ]
    },
    {
     "name": "stdout",
     "output_type": "stream",
     "text": [
      "\t ----- reward: -40.72735156876768 for f_star and f_minus: 29.673739403095624 , 40.72735156876768\n",
      "\t ---------- State is:  (6, 7)\n",
      "[INFO] [2023-03-01 03:37:04,914] [OpenBox-SPO] Iteration 328, objective value: [40.525535834171556].\n"
     ]
    },
    {
     "name": "stderr",
     "output_type": "stream",
     "text": [
      "\r",
      " 33%|████████████████████████▌                                                  | 328/1000 [4:06:48<8:11:19, 43.87s/it]"
     ]
    },
    {
     "name": "stdout",
     "output_type": "stream",
     "text": [
      "\t ----- reward: -40.525535834171556 for f_star and f_minus: 29.673739403095624 , 40.525535834171556\n",
      "\t ---------- State is:  (7, 8)\n",
      "[INFO] [2023-03-01 03:37:56,036] [OpenBox-SPO] Iteration 329, objective value: [30.341629708075956].\n"
     ]
    },
    {
     "name": "stderr",
     "output_type": "stream",
     "text": [
      "\r",
      " 33%|████████████████████████▋                                                  | 329/1000 [4:07:39<8:34:55, 46.04s/it]"
     ]
    },
    {
     "name": "stdout",
     "output_type": "stream",
     "text": [
      "\t ----- reward: -30.341629708075956 for f_star and f_minus: 29.673739403095624 , 30.341629708075956\n",
      "\t ---------- State is:  (7, 8)\n",
      "[INFO] [2023-03-01 03:38:34,746] [OpenBox-SPO] Iteration 330, objective value: [44.06391437634929].\n"
     ]
    },
    {
     "name": "stderr",
     "output_type": "stream",
     "text": [
      "\r",
      " 33%|████████████████████████▊                                                  | 330/1000 [4:08:18<8:09:35, 43.84s/it]"
     ]
    },
    {
     "name": "stdout",
     "output_type": "stream",
     "text": [
      "\t ----- reward: -44.06391437634929 for f_star and f_minus: 29.673739403095624 , 44.06391437634929\n",
      "\t ---------- State is:  (6, 8)\n",
      "[INFO] [2023-03-01 03:39:18,955] [OpenBox-SPO] Iteration 331, objective value: [39.25193090095427].\n"
     ]
    },
    {
     "name": "stderr",
     "output_type": "stream",
     "text": [
      "\r",
      " 33%|████████████████████████▊                                                  | 331/1000 [4:09:02<8:10:04, 43.95s/it]"
     ]
    },
    {
     "name": "stdout",
     "output_type": "stream",
     "text": [
      "\t ----- reward: -39.25193090095427 for f_star and f_minus: 29.673739403095624 , 39.25193090095427\n",
      "\t ---------- State is:  (5, 8)\n",
      "[INFO] [2023-03-01 03:40:09,166] [OpenBox-SPO] Iteration 332, objective value: [37.94663382460308].\n"
     ]
    },
    {
     "name": "stderr",
     "output_type": "stream",
     "text": [
      "\r",
      " 33%|████████████████████████▉                                                  | 332/1000 [4:09:52<8:30:14, 45.83s/it]"
     ]
    },
    {
     "name": "stdout",
     "output_type": "stream",
     "text": [
      "\t ----- reward: -37.94663382460308 for f_star and f_minus: 29.673739403095624 , 37.94663382460308\n",
      "\t ---------- State is:  (4, 8)\n",
      "[INFO] [2023-03-01 03:40:52,489] [OpenBox-SPO] Iteration 333, objective value: [33.160992628846316].\n"
     ]
    },
    {
     "name": "stderr",
     "output_type": "stream",
     "text": [
      "\r",
      " 33%|████████████████████████▉                                                  | 333/1000 [4:10:36<8:21:07, 45.08s/it]"
     ]
    },
    {
     "name": "stdout",
     "output_type": "stream",
     "text": [
      "\t ----- reward: -33.160992628846316 for f_star and f_minus: 29.673739403095624 , 33.160992628846316\n",
      "\t ---------- State is:  (4, 8)\n",
      "[INFO] [2023-03-01 03:41:30,778] [OpenBox-SPO] Iteration 334, objective value: [29.581352481835367].\n"
     ]
    },
    {
     "name": "stderr",
     "output_type": "stream",
     "text": [
      "\r",
      " 33%|█████████████████████████                                                  | 334/1000 [4:11:14<7:57:45, 43.04s/it]"
     ]
    },
    {
     "name": "stdout",
     "output_type": "stream",
     "text": [
      "\t ----- reward: -29.581352481835367 for f_star and f_minus: 29.673739403095624 , 29.581352481835367\n",
      "\t ---------- State is:  (4, 8)\n",
      "[INFO] [2023-03-01 03:42:17,644] [OpenBox-SPO] Iteration 335, objective value: [44.15745859941639].\n"
     ]
    },
    {
     "name": "stderr",
     "output_type": "stream",
     "text": [
      "\r",
      " 34%|█████████████████████████▏                                                 | 335/1000 [4:12:01<8:09:45, 44.19s/it]"
     ]
    },
    {
     "name": "stdout",
     "output_type": "stream",
     "text": [
      "\t ----- reward: -44.15745859941639 for f_star and f_minus: 29.581352481835367 , 44.15745859941639\n",
      "\t ---------- State is:  (5, 8)\n",
      "[INFO] [2023-03-01 03:42:17,644] [Advisor] Sample random config. rand_prob=0.100000.\n",
      "[INFO] [2023-03-01 03:42:46,415] [OpenBox-SPO] Iteration 336, objective value: [59.781084100498454].\n"
     ]
    },
    {
     "name": "stderr",
     "output_type": "stream",
     "text": [
      "\r",
      " 34%|█████████████████████████▏                                                 | 336/1000 [4:12:29<7:17:50, 39.56s/it]"
     ]
    },
    {
     "name": "stdout",
     "output_type": "stream",
     "text": [
      "\t ----- reward: -59.781084100498454 for f_star and f_minus: 29.581352481835367 , 59.781084100498454\n",
      "\t ---------- State is:  (6, 9)\n",
      "[INFO] [2023-03-01 03:43:28,687] [OpenBox-SPO] Iteration 337, objective value: [38.38982834438547].\n"
     ]
    },
    {
     "name": "stderr",
     "output_type": "stream",
     "text": [
      "\r",
      " 34%|█████████████████████████▎                                                 | 337/1000 [4:13:12<7:26:09, 40.38s/it]"
     ]
    },
    {
     "name": "stdout",
     "output_type": "stream",
     "text": [
      "\t ----- reward: -38.38982834438547 for f_star and f_minus: 29.581352481835367 , 38.38982834438547\n",
      "\t ---------- State is:  (5, 9)\n",
      "[INFO] [2023-03-01 03:44:11,444] [OpenBox-SPO] Iteration 338, objective value: [36.067474223620366].\n"
     ]
    },
    {
     "name": "stderr",
     "output_type": "stream",
     "text": [
      "\r",
      " 34%|█████████████████████████▎                                                 | 338/1000 [4:13:55<7:33:21, 41.09s/it]"
     ]
    },
    {
     "name": "stdout",
     "output_type": "stream",
     "text": [
      "\t ----- reward: -36.067474223620366 for f_star and f_minus: 29.581352481835367 , 36.067474223620366\n",
      "\t ---------- State is:  (4, 8)\n",
      "[INFO] [2023-03-01 03:44:58,376] [OpenBox-SPO] Iteration 339, objective value: [38.02403491282217].\n"
     ]
    },
    {
     "name": "stderr",
     "output_type": "stream",
     "text": [
      "\r",
      " 34%|█████████████████████████▍                                                 | 339/1000 [4:14:41<7:51:59, 42.84s/it]"
     ]
    },
    {
     "name": "stdout",
     "output_type": "stream",
     "text": [
      "\t ----- reward: -38.02403491282217 for f_star and f_minus: 29.581352481835367 , 38.02403491282217\n",
      "\t ---------- State is:  (3, 8)\n",
      "[INFO] [2023-03-01 03:45:48,711] [OpenBox-SPO] Iteration 340, objective value: [37.262458012635605].\n"
     ]
    },
    {
     "name": "stderr",
     "output_type": "stream",
     "text": [
      "\r",
      " 34%|█████████████████████████▌                                                 | 340/1000 [4:15:32<8:15:59, 45.09s/it]"
     ]
    },
    {
     "name": "stdout",
     "output_type": "stream",
     "text": [
      "\t ----- reward: -37.262458012635605 for f_star and f_minus: 29.581352481835367 , 37.262458012635605\n",
      "\t ---------- State is:  (3, 8)\n",
      "[INFO] [2023-03-01 03:46:38,251] [OpenBox-SPO] Iteration 341, objective value: [37.63437702215261].\n"
     ]
    },
    {
     "name": "stderr",
     "output_type": "stream",
     "text": [
      "\r",
      " 34%|█████████████████████████▌                                                 | 341/1000 [4:16:21<8:29:54, 46.43s/it]"
     ]
    },
    {
     "name": "stdout",
     "output_type": "stream",
     "text": [
      "\t ----- reward: -37.63437702215261 for f_star and f_minus: 29.581352481835367 , 37.63437702215261\n",
      "\t ---------- State is:  (2, 8)\n",
      "[INFO] [2023-03-01 03:47:27,399] [OpenBox-SPO] Iteration 342, objective value: [40.311233363034724].\n"
     ]
    },
    {
     "name": "stderr",
     "output_type": "stream",
     "text": [
      "\r",
      " 34%|█████████████████████████▋                                                 | 342/1000 [4:17:10<8:38:05, 47.24s/it]"
     ]
    },
    {
     "name": "stdout",
     "output_type": "stream",
     "text": [
      "\t ----- reward: -40.311233363034724 for f_star and f_minus: 29.581352481835367 , 40.311233363034724\n",
      "\t ---------- State is:  (3, 8)\n",
      "[INFO] [2023-03-01 03:48:14,530] [OpenBox-SPO] Iteration 343, objective value: [43.53044560496129].\n"
     ]
    },
    {
     "name": "stderr",
     "output_type": "stream",
     "text": [
      "\r",
      " 34%|█████████████████████████▋                                                 | 343/1000 [4:17:58<8:36:56, 47.21s/it]"
     ]
    },
    {
     "name": "stdout",
     "output_type": "stream",
     "text": [
      "\t ----- reward: -43.53044560496129 for f_star and f_minus: 29.581352481835367 , 43.53044560496129\n",
      "\t ---------- State is:  (2, 8)\n",
      "[INFO] [2023-03-01 03:48:58,399] [OpenBox-SPO] Iteration 344, objective value: [46.43248305634787].\n"
     ]
    },
    {
     "name": "stderr",
     "output_type": "stream",
     "text": [
      "\r",
      " 34%|█████████████████████████▊                                                 | 344/1000 [4:18:41<8:25:11, 46.21s/it]"
     ]
    },
    {
     "name": "stdout",
     "output_type": "stream",
     "text": [
      "\t ----- reward: -46.43248305634787 for f_star and f_minus: 29.581352481835367 , 46.43248305634787\n",
      "\t ---------- State is:  (1, 9)\n",
      "[INFO] [2023-03-01 03:49:43,716] [OpenBox-SPO] Iteration 345, objective value: [39.67097095644982].\n"
     ]
    },
    {
     "name": "stderr",
     "output_type": "stream",
     "text": [
      "\r",
      " 34%|█████████████████████████▊                                                 | 345/1000 [4:19:27<8:21:30, 45.94s/it]"
     ]
    },
    {
     "name": "stdout",
     "output_type": "stream",
     "text": [
      "\t ----- reward: -39.67097095644982 for f_star and f_minus: 29.581352481835367 , 39.67097095644982\n",
      "\t ---------- State is:  (1, 9)\n",
      "[INFO] [2023-03-01 03:50:33,834] [OpenBox-SPO] Iteration 346, objective value: [37.13206625643139].\n"
     ]
    },
    {
     "name": "stderr",
     "output_type": "stream",
     "text": [
      "\r",
      " 35%|█████████████████████████▉                                                 | 346/1000 [4:20:17<8:34:24, 47.19s/it]"
     ]
    },
    {
     "name": "stdout",
     "output_type": "stream",
     "text": [
      "\t ----- reward: -37.13206625643139 for f_star and f_minus: 29.581352481835367 , 37.13206625643139\n",
      "\t ---------- State is:  (0, 9)\n",
      "[INFO] [2023-03-01 03:51:17,027] [OpenBox-SPO] Iteration 347, objective value: [45.10303499816357].\n"
     ]
    },
    {
     "name": "stderr",
     "output_type": "stream",
     "text": [
      "\r",
      " 35%|██████████████████████████                                                 | 347/1000 [4:21:00<8:20:33, 45.99s/it]"
     ]
    },
    {
     "name": "stdout",
     "output_type": "stream",
     "text": [
      "\t ----- reward: -45.10303499816357 for f_star and f_minus: 29.581352481835367 , 45.10303499816357\n",
      "\t ---------- State is:  (0, 9)\n",
      "[INFO] [2023-03-01 03:51:54,716] [OpenBox-SPO] Iteration 348, objective value: [48.6698194972202].\n"
     ]
    },
    {
     "name": "stderr",
     "output_type": "stream",
     "text": [
      "\r",
      " 35%|██████████████████████████                                                 | 348/1000 [4:21:38<7:52:43, 43.50s/it]"
     ]
    },
    {
     "name": "stdout",
     "output_type": "stream",
     "text": [
      "\t ----- reward: -48.6698194972202 for f_star and f_minus: 29.581352481835367 , 48.6698194972202\n",
      "\t ---------- State is:  (0, 9)\n",
      "[INFO] [2023-03-01 03:52:38,987] [OpenBox-SPO] Iteration 349, objective value: [34.185249484802966].\n"
     ]
    },
    {
     "name": "stderr",
     "output_type": "stream",
     "text": [
      "\r",
      " 35%|██████████████████████████▏                                                | 349/1000 [4:22:22<7:54:29, 43.73s/it]"
     ]
    },
    {
     "name": "stdout",
     "output_type": "stream",
     "text": [
      "\t ----- reward: -34.185249484802966 for f_star and f_minus: 29.581352481835367 , 34.185249484802966\n",
      "\t ---------- State is:  (1, 9)\n",
      "[INFO] [2023-03-01 03:53:22,789] [OpenBox-SPO] Iteration 350, objective value: [38.6884167848544].\n"
     ]
    },
    {
     "name": "stderr",
     "output_type": "stream",
     "text": [
      "\r",
      " 35%|██████████████████████████▎                                                | 350/1000 [4:23:06<7:53:59, 43.75s/it]"
     ]
    },
    {
     "name": "stdout",
     "output_type": "stream",
     "text": [
      "\t ----- reward: -38.6884167848544 for f_star and f_minus: 29.581352481835367 , 38.6884167848544\n",
      "\t ---------- State is:  (2, 8)\n",
      "[INFO] [2023-03-01 03:54:06,607] [OpenBox-SPO] Iteration 351, objective value: [33.434392998696296].\n"
     ]
    },
    {
     "name": "stderr",
     "output_type": "stream",
     "text": [
      "\r",
      " 35%|██████████████████████████▎                                                | 351/1000 [4:23:50<7:53:28, 43.77s/it]"
     ]
    },
    {
     "name": "stdout",
     "output_type": "stream",
     "text": [
      "\t ----- reward: -33.434392998696296 for f_star and f_minus: 29.581352481835367 , 33.434392998696296\n",
      "\t ---------- State is:  (2, 8)\n",
      "[INFO] [2023-03-01 03:54:06,607] [Advisor] Sample random config. rand_prob=0.100000.\n",
      "[INFO] [2023-03-01 03:54:38,411] [OpenBox-SPO] Iteration 352, objective value: [64.47602404433738].\n"
     ]
    },
    {
     "name": "stderr",
     "output_type": "stream",
     "text": [
      "\r",
      " 35%|██████████████████████████▍                                                | 352/1000 [4:24:21<7:13:58, 40.18s/it]"
     ]
    },
    {
     "name": "stdout",
     "output_type": "stream",
     "text": [
      "\t ----- reward: -64.47602404433738 for f_star and f_minus: 29.581352481835367 , 64.47602404433738\n",
      "\t ---------- State is:  (3, 8)\n",
      "[INFO] [2023-03-01 03:54:38,411] [Advisor] Sample random config. rand_prob=0.100000.\n",
      "[INFO] [2023-03-01 03:55:16,177] [OpenBox-SPO] Iteration 353, objective value: [50.730676132169265].\n"
     ]
    },
    {
     "name": "stderr",
     "output_type": "stream",
     "text": [
      "\r",
      " 35%|██████████████████████████▍                                                | 353/1000 [4:24:59<7:05:28, 39.46s/it]"
     ]
    },
    {
     "name": "stdout",
     "output_type": "stream",
     "text": [
      "\t ----- reward: -50.730676132169265 for f_star and f_minus: 29.581352481835367 , 50.730676132169265\n",
      "\t ---------- State is:  (4, 9)\n",
      "[INFO] [2023-03-01 03:56:06,402] [OpenBox-SPO] Iteration 354, objective value: [39.4691669737138].\n"
     ]
    },
    {
     "name": "stderr",
     "output_type": "stream",
     "text": [
      "\r",
      " 35%|██████████████████████████▌                                                | 354/1000 [4:25:49<7:39:36, 42.69s/it]"
     ]
    },
    {
     "name": "stdout",
     "output_type": "stream",
     "text": [
      "\t ----- reward: -39.4691669737138 for f_star and f_minus: 29.581352481835367 , 39.4691669737138\n",
      "\t ---------- State is:  (3, 9)\n",
      "[INFO] [2023-03-01 03:56:49,490] [OpenBox-SPO] Iteration 355, objective value: [39.907059969897965].\n"
     ]
    },
    {
     "name": "stderr",
     "output_type": "stream",
     "text": [
      "\r",
      " 36%|██████████████████████████▋                                                | 355/1000 [4:26:33<7:40:10, 42.81s/it]"
     ]
    },
    {
     "name": "stdout",
     "output_type": "stream",
     "text": [
      "\t ----- reward: -39.907059969897965 for f_star and f_minus: 29.581352481835367 , 39.907059969897965\n",
      "\t ---------- State is:  (4, 9)\n",
      "[INFO] [2023-03-01 03:57:31,883] [OpenBox-SPO] Iteration 356, objective value: [35.23660278888208].\n"
     ]
    },
    {
     "name": "stderr",
     "output_type": "stream",
     "text": [
      "\r",
      " 36%|██████████████████████████▋                                                | 356/1000 [4:27:15<7:38:08, 42.68s/it]"
     ]
    },
    {
     "name": "stdout",
     "output_type": "stream",
     "text": [
      "\t ----- reward: -35.23660278888208 for f_star and f_minus: 29.581352481835367 , 35.23660278888208\n",
      "\t ---------- State is:  (3, 9)\n",
      "[INFO] [2023-03-01 03:58:17,252] [OpenBox-SPO] Iteration 357, objective value: [33.39258897260069].\n"
     ]
    },
    {
     "name": "stderr",
     "output_type": "stream",
     "text": [
      "\r",
      " 36%|██████████████████████████▊                                                | 357/1000 [4:28:00<7:46:03, 43.49s/it]"
     ]
    },
    {
     "name": "stdout",
     "output_type": "stream",
     "text": [
      "\t ----- reward: -33.39258897260069 for f_star and f_minus: 29.581352481835367 , 33.39258897260069\n",
      "\t ---------- State is:  (2, 9)\n",
      "[INFO] [2023-03-01 03:58:59,073] [OpenBox-SPO] Iteration 358, objective value: [35.155022566014765].\n"
     ]
    },
    {
     "name": "stderr",
     "output_type": "stream",
     "text": [
      "\r",
      " 36%|██████████████████████████▊                                                | 358/1000 [4:28:42<7:39:58, 42.99s/it]"
     ]
    },
    {
     "name": "stdout",
     "output_type": "stream",
     "text": [
      "\t ----- reward: -35.155022566014765 for f_star and f_minus: 29.581352481835367 , 35.155022566014765\n",
      "\t ---------- State is:  (1, 9)\n",
      "[INFO] [2023-03-01 03:59:42,730] [OpenBox-SPO] Iteration 359, objective value: [39.516823043517576].\n"
     ]
    },
    {
     "name": "stderr",
     "output_type": "stream",
     "text": [
      "\r",
      " 36%|██████████████████████████▉                                                | 359/1000 [4:29:26<7:41:24, 43.19s/it]"
     ]
    },
    {
     "name": "stdout",
     "output_type": "stream",
     "text": [
      "\t ----- reward: -39.516823043517576 for f_star and f_minus: 29.581352481835367 , 39.516823043517576\n",
      "\t ---------- State is:  (1, 9)\n",
      "[INFO] [2023-03-01 04:00:24,878] [OpenBox-SPO] Iteration 360, objective value: [38.08003578024744].\n"
     ]
    },
    {
     "name": "stderr",
     "output_type": "stream",
     "text": [
      "\r",
      " 36%|███████████████████████████                                                | 360/1000 [4:30:08<7:37:21, 42.88s/it]"
     ]
    },
    {
     "name": "stdout",
     "output_type": "stream",
     "text": [
      "\t ----- reward: -38.08003578024744 for f_star and f_minus: 29.581352481835367 , 38.08003578024744\n",
      "\t ---------- State is:  (0, 9)\n",
      "[INFO] [2023-03-01 04:01:06,602] [OpenBox-SPO] Iteration 361, objective value: [39.804719005009005].\n"
     ]
    },
    {
     "name": "stderr",
     "output_type": "stream",
     "text": [
      "\r",
      " 36%|███████████████████████████                                                | 361/1000 [4:30:50<7:32:57, 42.53s/it]"
     ]
    },
    {
     "name": "stdout",
     "output_type": "stream",
     "text": [
      "\t ----- reward: -39.804719005009005 for f_star and f_minus: 29.581352481835367 , 39.804719005009005\n",
      "\t ---------- State is:  (0, 10)\n",
      "[INFO] [2023-03-01 04:01:47,817] [OpenBox-SPO] Iteration 362, objective value: [33.40479918623906].\n"
     ]
    },
    {
     "name": "stderr",
     "output_type": "stream",
     "text": [
      "\r",
      " 36%|███████████████████████████▏                                               | 362/1000 [4:31:31<7:28:02, 42.14s/it]"
     ]
    },
    {
     "name": "stdout",
     "output_type": "stream",
     "text": [
      "\t ----- reward: -33.40479918623906 for f_star and f_minus: 29.581352481835367 , 33.40479918623906\n",
      "\t ---------- State is:  (1, 9)\n",
      "[INFO] [2023-03-01 04:02:35,105] [OpenBox-SPO] Iteration 363, objective value: [40.15373981630981].\n"
     ]
    },
    {
     "name": "stderr",
     "output_type": "stream",
     "text": [
      "\r",
      " 36%|███████████████████████████▏                                               | 363/1000 [4:32:18<7:43:45, 43.68s/it]"
     ]
    },
    {
     "name": "stdout",
     "output_type": "stream",
     "text": [
      "\t ----- reward: -40.15373981630981 for f_star and f_minus: 29.581352481835367 , 40.15373981630981\n",
      "\t ---------- State is:  (2, 9)\n",
      "[INFO] [2023-03-01 04:03:22,611] [OpenBox-SPO] Iteration 364, objective value: [36.534794395110346].\n"
     ]
    },
    {
     "name": "stderr",
     "output_type": "stream",
     "text": [
      "\r",
      " 36%|███████████████████████████▎                                               | 364/1000 [4:33:06<7:55:11, 44.83s/it]"
     ]
    },
    {
     "name": "stdout",
     "output_type": "stream",
     "text": [
      "\t ----- reward: -36.534794395110346 for f_star and f_minus: 29.581352481835367 , 36.534794395110346\n",
      "\t ---------- State is:  (3, 9)\n",
      "[INFO] [2023-03-01 04:04:07,916] [OpenBox-SPO] Iteration 365, objective value: [36.93947017406417].\n"
     ]
    },
    {
     "name": "stderr",
     "output_type": "stream",
     "text": [
      "\r",
      " 36%|███████████████████████████▍                                               | 365/1000 [4:33:51<7:55:57, 44.97s/it]"
     ]
    },
    {
     "name": "stdout",
     "output_type": "stream",
     "text": [
      "\t ----- reward: -36.93947017406417 for f_star and f_minus: 29.581352481835367 , 36.93947017406417\n",
      "\t ---------- State is:  (2, 8)\n",
      "[INFO] [2023-03-01 04:04:56,395] [OpenBox-SPO] Iteration 366, objective value: [48.856832747950094].\n"
     ]
    },
    {
     "name": "stderr",
     "output_type": "stream",
     "text": [
      "\r",
      " 37%|███████████████████████████▍                                               | 366/1000 [4:34:39<8:06:19, 46.02s/it]"
     ]
    },
    {
     "name": "stdout",
     "output_type": "stream",
     "text": [
      "\t ----- reward: -48.856832747950094 for f_star and f_minus: 29.581352481835367 , 48.856832747950094\n",
      "\t ---------- State is:  (2, 9)\n",
      "[INFO] [2023-03-01 04:05:46,777] [OpenBox-SPO] Iteration 367, objective value: [35.9361452291037].\n"
     ]
    },
    {
     "name": "stderr",
     "output_type": "stream",
     "text": [
      "\r",
      " 37%|███████████████████████████▌                                               | 367/1000 [4:35:30<8:19:20, 47.33s/it]"
     ]
    },
    {
     "name": "stdout",
     "output_type": "stream",
     "text": [
      "\t ----- reward: -35.9361452291037 for f_star and f_minus: 29.581352481835367 , 35.9361452291037\n",
      "\t ---------- State is:  (1, 8)\n",
      "[INFO] [2023-03-01 04:06:30,470] [OpenBox-SPO] Iteration 368, objective value: [31.42477767556585].\n"
     ]
    },
    {
     "name": "stderr",
     "output_type": "stream",
     "text": [
      "\r",
      " 37%|███████████████████████████▌                                               | 368/1000 [4:36:14<8:07:03, 46.24s/it]"
     ]
    },
    {
     "name": "stdout",
     "output_type": "stream",
     "text": [
      "\t ----- reward: -31.42477767556585 for f_star and f_minus: 29.581352481835367 , 31.42477767556585\n",
      "\t ---------- State is:  (1, 7)\n",
      "[INFO] [2023-03-01 04:07:12,670] [OpenBox-SPO] Iteration 369, objective value: [32.97445850516809].\n"
     ]
    },
    {
     "name": "stderr",
     "output_type": "stream",
     "text": [
      "\r",
      " 37%|███████████████████████████▋                                               | 369/1000 [4:36:56<7:53:32, 45.03s/it]"
     ]
    },
    {
     "name": "stdout",
     "output_type": "stream",
     "text": [
      "\t ----- reward: -32.97445850516809 for f_star and f_minus: 29.581352481835367 , 32.97445850516809\n",
      "\t ---------- State is:  (2, 7)\n",
      "[INFO] [2023-03-01 04:08:01,477] [OpenBox-SPO] Iteration 370, objective value: [45.26360316597899].\n"
     ]
    },
    {
     "name": "stderr",
     "output_type": "stream",
     "text": [
      "\r",
      " 37%|███████████████████████████▊                                               | 370/1000 [4:37:45<8:04:41, 46.16s/it]"
     ]
    },
    {
     "name": "stdout",
     "output_type": "stream",
     "text": [
      "\t ----- reward: -45.26360316597899 for f_star and f_minus: 29.581352481835367 , 45.26360316597899\n",
      "\t ---------- State is:  (1, 7)\n",
      "[INFO] [2023-03-01 04:08:49,422] [OpenBox-SPO] Iteration 371, objective value: [47.535892234955824].\n"
     ]
    },
    {
     "name": "stderr",
     "output_type": "stream",
     "text": [
      "\r",
      " 37%|███████████████████████████▊                                               | 371/1000 [4:38:32<8:09:32, 46.70s/it]"
     ]
    },
    {
     "name": "stdout",
     "output_type": "stream",
     "text": [
      "\t ----- reward: -47.535892234955824 for f_star and f_minus: 29.581352481835367 , 47.535892234955824\n",
      "\t ---------- State is:  (1, 9)\n",
      "[INFO] [2023-03-01 04:09:35,318] [OpenBox-SPO] Iteration 372, objective value: [44.16336016959528].\n"
     ]
    },
    {
     "name": "stderr",
     "output_type": "stream",
     "text": [
      "\r",
      " 37%|███████████████████████████▉                                               | 372/1000 [4:39:18<8:06:14, 46.46s/it]"
     ]
    },
    {
     "name": "stdout",
     "output_type": "stream",
     "text": [
      "\t ----- reward: -44.16336016959528 for f_star and f_minus: 29.581352481835367 , 44.16336016959528\n",
      "\t ---------- State is:  (1, 9)\n",
      "[INFO] [2023-03-01 04:09:35,318] [Advisor] Sample random config. rand_prob=0.100000.\n",
      "[INFO] [2023-03-01 04:10:07,618] [OpenBox-SPO] Iteration 373, objective value: [55.97730585821165].\n"
     ]
    },
    {
     "name": "stderr",
     "output_type": "stream",
     "text": [
      "\r",
      " 37%|███████████████████████████▉                                               | 373/1000 [4:39:51<7:21:05, 42.21s/it]"
     ]
    },
    {
     "name": "stdout",
     "output_type": "stream",
     "text": [
      "\t ----- reward: -55.97730585821165 for f_star and f_minus: 29.581352481835367 , 55.97730585821165\n",
      "\t ---------- State is:  (0, 9)\n",
      "[INFO] [2023-03-01 04:10:07,618] [Advisor] Sample random config. rand_prob=0.100000.\n",
      "[INFO] [2023-03-01 04:10:40,906] [OpenBox-SPO] Iteration 374, objective value: [52.620512354426445].\n"
     ]
    },
    {
     "name": "stderr",
     "output_type": "stream",
     "text": [
      "\r",
      " 37%|████████████████████████████                                               | 374/1000 [4:40:24<6:52:27, 39.53s/it]"
     ]
    },
    {
     "name": "stdout",
     "output_type": "stream",
     "text": [
      "\t ----- reward: -52.620512354426445 for f_star and f_minus: 29.581352481835367 , 52.620512354426445\n",
      "\t ---------- State is:  (1, 9)\n",
      "[INFO] [2023-03-01 04:10:40,906] [Advisor] Sample random config. rand_prob=0.100000.\n",
      "[INFO] [2023-03-01 04:11:17,363] [OpenBox-SPO] Iteration 375, objective value: [50.48559933473614].\n"
     ]
    },
    {
     "name": "stderr",
     "output_type": "stream",
     "text": [
      "\r",
      " 38%|████████████████████████████▏                                              | 375/1000 [4:41:00<6:42:11, 38.61s/it]"
     ]
    },
    {
     "name": "stdout",
     "output_type": "stream",
     "text": [
      "\t ----- reward: -50.48559933473614 for f_star and f_minus: 29.581352481835367 , 50.48559933473614\n",
      "\t ---------- State is:  (2, 9)\n",
      "[INFO] [2023-03-01 04:12:00,341] [OpenBox-SPO] Iteration 376, objective value: [33.54307414585291].\n"
     ]
    },
    {
     "name": "stderr",
     "output_type": "stream",
     "text": [
      "\r",
      " 38%|████████████████████████████▏                                              | 376/1000 [4:41:43<6:55:10, 39.92s/it]"
     ]
    },
    {
     "name": "stdout",
     "output_type": "stream",
     "text": [
      "\t ----- reward: -33.54307414585291 for f_star and f_minus: 29.581352481835367 , 33.54307414585291\n",
      "\t ---------- State is:  (3, 9)\n",
      "[INFO] [2023-03-01 04:12:00,341] [Advisor] Sample random config. rand_prob=0.100000.\n",
      "[INFO] [2023-03-01 04:12:30,813] [OpenBox-SPO] Iteration 377, objective value: [56.33129160455487].\n"
     ]
    },
    {
     "name": "stderr",
     "output_type": "stream",
     "text": [
      "\r",
      " 38%|████████████████████████████▎                                              | 377/1000 [4:42:14<6:25:04, 37.09s/it]"
     ]
    },
    {
     "name": "stdout",
     "output_type": "stream",
     "text": [
      "\t ----- reward: -56.33129160455487 for f_star and f_minus: 29.581352481835367 , 56.33129160455487\n",
      "\t ---------- State is:  (3, 10)\n",
      "[INFO] [2023-03-01 04:13:06,677] [OpenBox-SPO] Iteration 378, objective value: [38.8466067568499].\n"
     ]
    },
    {
     "name": "stderr",
     "output_type": "stream",
     "text": [
      "\r",
      " 38%|████████████████████████████▎                                              | 378/1000 [4:42:50<6:20:39, 36.72s/it]"
     ]
    },
    {
     "name": "stdout",
     "output_type": "stream",
     "text": [
      "\t ----- reward: -38.8466067568499 for f_star and f_minus: 29.581352481835367 , 38.8466067568499\n",
      "\t ---------- State is:  (4, 10)\n",
      "[INFO] [2023-03-01 04:13:49,404] [OpenBox-SPO] Iteration 379, objective value: [37.65165811482709].\n"
     ]
    },
    {
     "name": "stderr",
     "output_type": "stream",
     "text": [
      "\r",
      " 38%|████████████████████████████▍                                              | 379/1000 [4:43:32<6:38:42, 38.52s/it]"
     ]
    },
    {
     "name": "stdout",
     "output_type": "stream",
     "text": [
      "\t ----- reward: -37.65165811482709 for f_star and f_minus: 29.581352481835367 , 37.65165811482709\n",
      "\t ---------- State is:  (4, 9)\n",
      "[INFO] [2023-03-01 04:14:29,723] [OpenBox-SPO] Iteration 380, objective value: [35.57479313815779].\n"
     ]
    },
    {
     "name": "stderr",
     "output_type": "stream",
     "text": [
      "\r",
      " 38%|████████████████████████████▌                                              | 380/1000 [4:44:13<6:43:37, 39.06s/it]"
     ]
    },
    {
     "name": "stdout",
     "output_type": "stream",
     "text": [
      "\t ----- reward: -35.57479313815779 for f_star and f_minus: 29.581352481835367 , 35.57479313815779\n",
      "\t ---------- State is:  (4, 9)\n",
      "[INFO] [2023-03-01 04:15:20,104] [OpenBox-SPO] Iteration 381, objective value: [37.971171565231444].\n"
     ]
    },
    {
     "name": "stderr",
     "output_type": "stream",
     "text": [
      "\r",
      " 38%|████████████████████████████▌                                              | 381/1000 [4:45:03<7:18:00, 42.46s/it]"
     ]
    },
    {
     "name": "stdout",
     "output_type": "stream",
     "text": [
      "\t ----- reward: -37.971171565231444 for f_star and f_minus: 29.581352481835367 , 37.971171565231444\n",
      "\t ---------- State is:  (5, 8)\n",
      "[INFO] [2023-03-01 04:16:11,221] [OpenBox-SPO] Iteration 382, objective value: [52.6642584107648].\n"
     ]
    },
    {
     "name": "stderr",
     "output_type": "stream",
     "text": [
      "\r",
      " 38%|████████████████████████████▋                                              | 382/1000 [4:45:54<7:44:03, 45.05s/it]"
     ]
    },
    {
     "name": "stdout",
     "output_type": "stream",
     "text": [
      "\t ----- reward: -52.6642584107648 for f_star and f_minus: 29.581352481835367 , 52.6642584107648\n",
      "\t ---------- State is:  (5, 9)\n",
      "[INFO] [2023-03-01 04:16:55,512] [OpenBox-SPO] Iteration 383, objective value: [36.34144421712263].\n"
     ]
    },
    {
     "name": "stderr",
     "output_type": "stream",
     "text": [
      "\r",
      " 38%|████████████████████████████▋                                              | 383/1000 [4:46:39<7:40:57, 44.83s/it]"
     ]
    },
    {
     "name": "stdout",
     "output_type": "stream",
     "text": [
      "\t ----- reward: -36.34144421712263 for f_star and f_minus: 29.581352481835367 , 36.34144421712263\n",
      "\t ---------- State is:  (5, 8)\n",
      "[INFO] [2023-03-01 04:17:36,674] [OpenBox-SPO] Iteration 384, objective value: [40.75591563959071].\n"
     ]
    },
    {
     "name": "stderr",
     "output_type": "stream",
     "text": [
      "\r",
      " 38%|████████████████████████████▊                                              | 384/1000 [4:47:20<7:28:55, 43.73s/it]"
     ]
    },
    {
     "name": "stdout",
     "output_type": "stream",
     "text": [
      "\t ----- reward: -40.75591563959071 for f_star and f_minus: 29.581352481835367 , 40.75591563959071\n",
      "\t ---------- State is:  (4, 10)\n",
      "[INFO] [2023-03-01 04:18:28,089] [OpenBox-SPO] Iteration 385, objective value: [43.45391459913468].\n"
     ]
    },
    {
     "name": "stderr",
     "output_type": "stream",
     "text": [
      "\r",
      " 38%|████████████████████████████▉                                              | 385/1000 [4:48:11<7:51:50, 46.03s/it]"
     ]
    },
    {
     "name": "stdout",
     "output_type": "stream",
     "text": [
      "\t ----- reward: -43.45391459913468 for f_star and f_minus: 29.581352481835367 , 43.45391459913468\n",
      "\t ---------- State is:  (5, 12)\n",
      "[INFO] [2023-03-01 04:19:08,551] [OpenBox-SPO] Iteration 386, objective value: [34.576170693417765].\n"
     ]
    },
    {
     "name": "stderr",
     "output_type": "stream",
     "text": [
      "\r",
      " 39%|████████████████████████████▉                                              | 386/1000 [4:48:52<7:33:58, 44.36s/it]"
     ]
    },
    {
     "name": "stdout",
     "output_type": "stream",
     "text": [
      "\t ----- reward: -34.576170693417765 for f_star and f_minus: 29.581352481835367 , 34.576170693417765\n",
      "\t ---------- State is:  (5, 10)\n",
      "[INFO] [2023-03-01 04:19:08,551] [Advisor] Sample random config. rand_prob=0.100000.\n",
      "[INFO] [2023-03-01 04:19:35,464] [OpenBox-SPO] Iteration 387, objective value: [68.62418612939936].\n"
     ]
    },
    {
     "name": "stderr",
     "output_type": "stream",
     "text": [
      "\r",
      " 39%|█████████████████████████████                                              | 387/1000 [4:49:19<6:39:44, 39.13s/it]"
     ]
    },
    {
     "name": "stdout",
     "output_type": "stream",
     "text": [
      "\t ----- reward: -68.62418612939936 for f_star and f_minus: 29.581352481835367 , 68.62418612939936\n",
      "\t ---------- State is:  (5, 12)\n",
      "[INFO] [2023-03-01 04:20:15,343] [OpenBox-SPO] Iteration 388, objective value: [38.04955600381689].\n"
     ]
    },
    {
     "name": "stderr",
     "output_type": "stream",
     "text": [
      "\r",
      " 39%|█████████████████████████████                                              | 388/1000 [4:49:58<6:41:23, 39.35s/it]"
     ]
    },
    {
     "name": "stdout",
     "output_type": "stream",
     "text": [
      "\t ----- reward: -38.04955600381689 for f_star and f_minus: 29.581352481835367 , 38.04955600381689\n",
      "\t ---------- State is:  (4, 12)\n",
      "[INFO] [2023-03-01 04:20:58,634] [OpenBox-SPO] Iteration 389, objective value: [27.88969130719387].\n"
     ]
    },
    {
     "name": "stderr",
     "output_type": "stream",
     "text": [
      "\r",
      " 39%|█████████████████████████████▏                                             | 389/1000 [4:50:42<6:52:46, 40.53s/it]"
     ]
    },
    {
     "name": "stdout",
     "output_type": "stream",
     "text": [
      "\t ----- reward: -27.88969130719387 for f_star and f_minus: 29.581352481835367 , 27.88969130719387\n",
      "\t ---------- State is:  (5, 12)\n",
      "[INFO] [2023-03-01 04:21:49,595] [OpenBox-SPO] Iteration 390, objective value: [31.11019471021909].\n"
     ]
    },
    {
     "name": "stderr",
     "output_type": "stream",
     "text": [
      "\r",
      " 39%|█████████████████████████████▎                                             | 390/1000 [4:51:33<7:23:53, 43.66s/it]"
     ]
    },
    {
     "name": "stdout",
     "output_type": "stream",
     "text": [
      "\t ----- reward: -31.11019471021909 for f_star and f_minus: 27.88969130719387 , 31.11019471021909\n",
      "\t ---------- State is:  (6, 11)\n",
      "[INFO] [2023-03-01 04:22:36,056] [OpenBox-SPO] Iteration 391, objective value: [40.08527662348932].\n"
     ]
    },
    {
     "name": "stderr",
     "output_type": "stream",
     "text": [
      "\r",
      " 39%|█████████████████████████████▎                                             | 391/1000 [4:52:19<7:31:41, 44.50s/it]"
     ]
    },
    {
     "name": "stdout",
     "output_type": "stream",
     "text": [
      "\t ----- reward: -40.08527662348932 for f_star and f_minus: 27.88969130719387 , 40.08527662348932\n",
      "\t ---------- State is:  (6, 11)\n",
      "[INFO] [2023-03-01 04:23:23,610] [OpenBox-SPO] Iteration 392, objective value: [32.810536906942005].\n"
     ]
    },
    {
     "name": "stderr",
     "output_type": "stream",
     "text": [
      "\r",
      " 39%|█████████████████████████████▍                                             | 392/1000 [4:53:07<7:40:13, 45.42s/it]"
     ]
    },
    {
     "name": "stdout",
     "output_type": "stream",
     "text": [
      "\t ----- reward: -32.810536906942005 for f_star and f_minus: 27.88969130719387 , 32.810536906942005\n",
      "\t ---------- State is:  (5, 10)\n",
      "[INFO] [2023-03-01 04:24:05,979] [OpenBox-SPO] Iteration 393, objective value: [29.837236206855977].\n"
     ]
    },
    {
     "name": "stderr",
     "output_type": "stream",
     "text": [
      "\r",
      " 39%|█████████████████████████████▍                                             | 393/1000 [4:53:49<7:30:13, 44.50s/it]"
     ]
    },
    {
     "name": "stdout",
     "output_type": "stream",
     "text": [
      "\t ----- reward: -29.837236206855977 for f_star and f_minus: 27.88969130719387 , 29.837236206855977\n",
      "\t ---------- State is:  (4, 10)\n",
      "[INFO] [2023-03-01 04:24:45,613] [OpenBox-SPO] Iteration 394, objective value: [41.972645507415486].\n"
     ]
    },
    {
     "name": "stderr",
     "output_type": "stream",
     "text": [
      "\r",
      " 39%|█████████████████████████████▌                                             | 394/1000 [4:54:29<7:14:43, 43.04s/it]"
     ]
    },
    {
     "name": "stdout",
     "output_type": "stream",
     "text": [
      "\t ----- reward: -41.972645507415486 for f_star and f_minus: 27.88969130719387 , 41.972645507415486\n",
      "\t ---------- State is:  (4, 10)\n",
      "[INFO] [2023-03-01 04:25:28,418] [OpenBox-SPO] Iteration 395, objective value: [34.76115133126562].\n"
     ]
    },
    {
     "name": "stderr",
     "output_type": "stream",
     "text": [
      "\r",
      " 40%|█████████████████████████████▋                                             | 395/1000 [4:55:11<7:13:17, 42.97s/it]"
     ]
    },
    {
     "name": "stdout",
     "output_type": "stream",
     "text": [
      "\t ----- reward: -34.76115133126562 for f_star and f_minus: 27.88969130719387 , 34.76115133126562\n",
      "\t ---------- State is:  (3, 9)\n",
      "[INFO] [2023-03-01 04:26:10,987] [OpenBox-SPO] Iteration 396, objective value: [33.004994815603].\n"
     ]
    },
    {
     "name": "stderr",
     "output_type": "stream",
     "text": [
      "\r",
      " 40%|█████████████████████████████▋                                             | 396/1000 [4:55:54<7:11:21, 42.85s/it]"
     ]
    },
    {
     "name": "stdout",
     "output_type": "stream",
     "text": [
      "\t ----- reward: -33.004994815603 for f_star and f_minus: 27.88969130719387 , 33.004994815603\n",
      "\t ---------- State is:  (4, 9)\n",
      "[INFO] [2023-03-01 04:26:48,794] [OpenBox-SPO] Iteration 397, objective value: [35.057300697653275].\n"
     ]
    },
    {
     "name": "stderr",
     "output_type": "stream",
     "text": [
      "\r",
      " 40%|█████████████████████████████▊                                             | 397/1000 [4:56:32<6:55:26, 41.34s/it]"
     ]
    },
    {
     "name": "stdout",
     "output_type": "stream",
     "text": [
      "\t ----- reward: -35.057300697653275 for f_star and f_minus: 27.88969130719387 , 35.057300697653275\n",
      "\t ---------- State is:  (4, 9)\n",
      "[INFO] [2023-03-01 04:27:38,801] [OpenBox-SPO] Iteration 398, objective value: [35.762826397586295].\n"
     ]
    },
    {
     "name": "stderr",
     "output_type": "stream",
     "text": [
      "\r",
      " 40%|█████████████████████████████▊                                             | 398/1000 [4:57:22<7:20:50, 43.94s/it]"
     ]
    },
    {
     "name": "stdout",
     "output_type": "stream",
     "text": [
      "\t ----- reward: -35.762826397586295 for f_star and f_minus: 27.88969130719387 , 35.762826397586295\n",
      "\t ---------- State is:  (5, 8)\n",
      "[INFO] [2023-03-01 04:27:38,801] [Advisor] Sample random config. rand_prob=0.100000.\n",
      "[INFO] [2023-03-01 04:28:12,400] [OpenBox-SPO] Iteration 399, objective value: [56.56194182411841].\n"
     ]
    },
    {
     "name": "stderr",
     "output_type": "stream",
     "text": [
      "\r",
      " 40%|█████████████████████████████▉                                             | 399/1000 [4:57:55<6:49:02, 40.84s/it]"
     ]
    },
    {
     "name": "stdout",
     "output_type": "stream",
     "text": [
      "\t ----- reward: -56.56194182411841 for f_star and f_minus: 27.88969130719387 , 56.56194182411841\n",
      "\t ---------- State is:  (4, 8)\n",
      "[INFO] [2023-03-01 04:28:55,737] [OpenBox-SPO] Iteration 400, objective value: [38.3871288990702].\n"
     ]
    },
    {
     "name": "stderr",
     "output_type": "stream",
     "text": [
      "\r",
      " 40%|██████████████████████████████                                             | 400/1000 [4:58:39<6:55:51, 41.59s/it]"
     ]
    },
    {
     "name": "stdout",
     "output_type": "stream",
     "text": [
      "\t ----- reward: -38.3871288990702 for f_star and f_minus: 27.88969130719387 , 38.3871288990702\n",
      "\t ---------- State is:  (4, 9)\n",
      "[INFO] [2023-03-01 04:29:41,961] [OpenBox-SPO] Iteration 401, objective value: [39.20812244897828].\n"
     ]
    },
    {
     "name": "stderr",
     "output_type": "stream",
     "text": [
      "\r",
      " 40%|██████████████████████████████                                             | 401/1000 [4:59:25<7:09:03, 42.98s/it]"
     ]
    },
    {
     "name": "stdout",
     "output_type": "stream",
     "text": [
      "\t ----- reward: -39.20812244897828 for f_star and f_minus: 27.88969130719387 , 39.20812244897828\n",
      "\t ---------- State is:  (3, 9)\n",
      "[INFO] [2023-03-01 04:30:20,836] [OpenBox-SPO] Iteration 402, objective value: [45.05148367255121].\n"
     ]
    },
    {
     "name": "stderr",
     "output_type": "stream",
     "text": [
      "\r",
      " 40%|██████████████████████████████▏                                            | 402/1000 [5:00:04<6:56:04, 41.75s/it]"
     ]
    },
    {
     "name": "stdout",
     "output_type": "stream",
     "text": [
      "\t ----- reward: -45.05148367255121 for f_star and f_minus: 27.88969130719387 , 45.05148367255121\n",
      "\t ---------- State is:  (4, 9)\n",
      "[INFO] [2023-03-01 04:30:20,836] [Advisor] Sample random config. rand_prob=0.100000.\n",
      "[INFO] [2023-03-01 04:30:53,093] [OpenBox-SPO] Iteration 403, objective value: [52.08115528426429].\n"
     ]
    },
    {
     "name": "stderr",
     "output_type": "stream",
     "text": [
      "\r",
      " 40%|██████████████████████████████▏                                            | 403/1000 [5:00:36<6:27:03, 38.90s/it]"
     ]
    },
    {
     "name": "stdout",
     "output_type": "stream",
     "text": [
      "\t ----- reward: -52.08115528426429 for f_star and f_minus: 27.88969130719387 , 52.08115528426429\n",
      "\t ---------- State is:  (4, 10)\n",
      "[INFO] [2023-03-01 04:31:31,775] [OpenBox-SPO] Iteration 404, objective value: [42.37153862245545].\n"
     ]
    },
    {
     "name": "stderr",
     "output_type": "stream",
     "text": [
      "\r",
      " 40%|██████████████████████████████▎                                            | 404/1000 [5:01:15<6:25:45, 38.83s/it]"
     ]
    },
    {
     "name": "stdout",
     "output_type": "stream",
     "text": [
      "\t ----- reward: -42.37153862245545 for f_star and f_minus: 27.88969130719387 , 42.37153862245545\n",
      "\t ---------- State is:  (3, 10)\n",
      "[INFO] [2023-03-01 04:32:12,139] [OpenBox-SPO] Iteration 405, objective value: [30.436244508990683].\n"
     ]
    },
    {
     "name": "stderr",
     "output_type": "stream",
     "text": [
      "\r",
      " 40%|██████████████████████████████▍                                            | 405/1000 [5:01:55<6:29:39, 39.29s/it]"
     ]
    },
    {
     "name": "stdout",
     "output_type": "stream",
     "text": [
      "\t ----- reward: -30.436244508990683 for f_star and f_minus: 27.88969130719387 , 30.436244508990683\n",
      "\t ---------- State is:  (3, 9)\n",
      "[INFO] [2023-03-01 04:32:55,163] [OpenBox-SPO] Iteration 406, objective value: [32.13155049986079].\n"
     ]
    },
    {
     "name": "stderr",
     "output_type": "stream",
     "text": [
      "\r",
      " 41%|██████████████████████████████▍                                            | 406/1000 [5:02:38<6:40:05, 40.41s/it]"
     ]
    },
    {
     "name": "stdout",
     "output_type": "stream",
     "text": [
      "\t ----- reward: -32.13155049986079 for f_star and f_minus: 27.88969130719387 , 32.13155049986079\n",
      "\t ---------- State is:  (2, 9)\n",
      "[INFO] [2023-03-01 04:33:44,249] [OpenBox-SPO] Iteration 407, objective value: [36.238138288642].\n"
     ]
    },
    {
     "name": "stderr",
     "output_type": "stream",
     "text": [
      "\r",
      " 41%|██████████████████████████████▌                                            | 407/1000 [5:03:27<7:05:07, 43.01s/it]"
     ]
    },
    {
     "name": "stdout",
     "output_type": "stream",
     "text": [
      "\t ----- reward: -36.238138288642 for f_star and f_minus: 27.88969130719387 , 36.238138288642\n",
      "\t ---------- State is:  (1, 8)\n",
      "[INFO] [2023-03-01 04:33:44,249] [Advisor] Sample random config. rand_prob=0.100000.\n",
      "[INFO] [2023-03-01 04:34:17,754] [OpenBox-SPO] Iteration 408, objective value: [58.08609941456207].\n"
     ]
    },
    {
     "name": "stderr",
     "output_type": "stream",
     "text": [
      "\r",
      " 41%|██████████████████████████████▌                                            | 408/1000 [5:04:01<6:36:15, 40.16s/it]"
     ]
    },
    {
     "name": "stdout",
     "output_type": "stream",
     "text": [
      "\t ----- reward: -58.08609941456207 for f_star and f_minus: 27.88969130719387 , 58.08609941456207\n",
      "\t ---------- State is:  (1, 8)\n",
      "[INFO] [2023-03-01 04:35:00,420] [OpenBox-SPO] Iteration 409, objective value: [35.55259311245389].\n"
     ]
    },
    {
     "name": "stderr",
     "output_type": "stream",
     "text": [
      "\r",
      " 41%|██████████████████████████████▋                                            | 409/1000 [5:04:43<6:42:59, 40.91s/it]"
     ]
    },
    {
     "name": "stdout",
     "output_type": "stream",
     "text": [
      "\t ----- reward: -35.55259311245389 for f_star and f_minus: 27.88969130719387 , 35.55259311245389\n",
      "\t ---------- State is:  (0, 8)\n",
      "[INFO] [2023-03-01 04:35:42,612] [OpenBox-SPO] Iteration 410, objective value: [42.130262869693425].\n"
     ]
    },
    {
     "name": "stderr",
     "output_type": "stream",
     "text": [
      "\r",
      " 41%|██████████████████████████████▋                                            | 410/1000 [5:05:26<6:46:05, 41.30s/it]"
     ]
    },
    {
     "name": "stdout",
     "output_type": "stream",
     "text": [
      "\t ----- reward: -42.130262869693425 for f_star and f_minus: 27.88969130719387 , 42.130262869693425\n",
      "\t ---------- State is:  (0, 9)\n",
      "[INFO] [2023-03-01 04:36:26,117] [OpenBox-SPO] Iteration 411, objective value: [36.90219041725169].\n"
     ]
    },
    {
     "name": "stderr",
     "output_type": "stream",
     "text": [
      "\r",
      " 41%|██████████████████████████████▊                                            | 411/1000 [5:06:09<6:51:56, 41.96s/it]"
     ]
    },
    {
     "name": "stdout",
     "output_type": "stream",
     "text": [
      "\t ----- reward: -36.90219041725169 for f_star and f_minus: 27.88969130719387 , 36.90219041725169\n",
      "\t ---------- State is:  (0, 8)\n",
      "[INFO] [2023-03-01 04:36:26,132] [Advisor] Sample random config. rand_prob=0.100000.\n",
      "[INFO] [2023-03-01 04:36:59,484] [OpenBox-SPO] Iteration 412, objective value: [51.337158026788536].\n"
     ]
    },
    {
     "name": "stderr",
     "output_type": "stream",
     "text": [
      "\r",
      " 41%|██████████████████████████████▉                                            | 412/1000 [5:06:43<6:25:55, 39.38s/it]"
     ]
    },
    {
     "name": "stdout",
     "output_type": "stream",
     "text": [
      "\t ----- reward: -51.337158026788536 for f_star and f_minus: 27.88969130719387 , 51.337158026788536\n",
      "\t ---------- State is:  (0, 9)\n",
      "[INFO] [2023-03-01 04:37:46,537] [OpenBox-SPO] Iteration 413, objective value: [42.77804531719334].\n"
     ]
    },
    {
     "name": "stderr",
     "output_type": "stream",
     "text": [
      "\r",
      " 41%|██████████████████████████████▉                                            | 413/1000 [5:07:30<6:47:47, 41.68s/it]"
     ]
    },
    {
     "name": "stdout",
     "output_type": "stream",
     "text": [
      "\t ----- reward: -42.77804531719334 for f_star and f_minus: 27.88969130719387 , 42.77804531719334\n",
      "\t ---------- State is:  (0, 10)\n",
      "[INFO] [2023-03-01 04:38:23,355] [OpenBox-SPO] Iteration 414, objective value: [38.710112603937155].\n"
     ]
    },
    {
     "name": "stderr",
     "output_type": "stream",
     "text": [
      "\r",
      " 41%|███████████████████████████████                                            | 414/1000 [5:08:06<6:32:50, 40.22s/it]"
     ]
    },
    {
     "name": "stdout",
     "output_type": "stream",
     "text": [
      "\t ----- reward: -38.710112603937155 for f_star and f_minus: 27.88969130719387 , 38.710112603937155\n",
      "\t ---------- State is:  (1, 10)\n",
      "[INFO] [2023-03-01 04:39:11,227] [OpenBox-SPO] Iteration 415, objective value: [40.41268584583479].\n"
     ]
    },
    {
     "name": "stderr",
     "output_type": "stream",
     "text": [
      "\r",
      " 42%|███████████████████████████████▏                                           | 415/1000 [5:08:54<6:54:32, 42.52s/it]"
     ]
    },
    {
     "name": "stdout",
     "output_type": "stream",
     "text": [
      "\t ----- reward: -40.41268584583479 for f_star and f_minus: 27.88969130719387 , 40.41268584583479\n",
      "\t ---------- State is:  (1, 11)\n",
      "[INFO] [2023-03-01 04:39:51,165] [OpenBox-SPO] Iteration 416, objective value: [33.70404085228259].\n"
     ]
    },
    {
     "name": "stderr",
     "output_type": "stream",
     "text": [
      "\r",
      " 42%|███████████████████████████████▏                                           | 416/1000 [5:09:34<6:46:18, 41.74s/it]"
     ]
    },
    {
     "name": "stdout",
     "output_type": "stream",
     "text": [
      "\t ----- reward: -33.70404085228259 for f_star and f_minus: 27.88969130719387 , 33.70404085228259\n",
      "\t ---------- State is:  (1, 11)\n",
      "[INFO] [2023-03-01 04:40:34,093] [OpenBox-SPO] Iteration 417, objective value: [28.08076918198759].\n"
     ]
    },
    {
     "name": "stderr",
     "output_type": "stream",
     "text": [
      "\r",
      " 42%|███████████████████████████████▎                                           | 417/1000 [5:10:17<6:49:03, 42.10s/it]"
     ]
    },
    {
     "name": "stdout",
     "output_type": "stream",
     "text": [
      "\t ----- reward: -28.08076918198759 for f_star and f_minus: 27.88969130719387 , 28.08076918198759\n",
      "\t ---------- State is:  (2, 11)\n",
      "[INFO] [2023-03-01 04:40:34,093] [Advisor] Sample random config. rand_prob=0.100000.\n",
      "[INFO] [2023-03-01 04:41:06,222] [OpenBox-SPO] Iteration 418, objective value: [54.1342797031356].\n"
     ]
    },
    {
     "name": "stderr",
     "output_type": "stream",
     "text": [
      "\r",
      " 42%|███████████████████████████████▎                                           | 418/1000 [5:10:49<6:19:20, 39.11s/it]"
     ]
    },
    {
     "name": "stdout",
     "output_type": "stream",
     "text": [
      "\t ----- reward: -54.1342797031356 for f_star and f_minus: 27.88969130719387 , 54.1342797031356\n",
      "\t ---------- State is:  (1, 11)\n",
      "[INFO] [2023-03-01 04:41:47,856] [OpenBox-SPO] Iteration 419, objective value: [41.47802856402756].\n"
     ]
    },
    {
     "name": "stderr",
     "output_type": "stream",
     "text": [
      "\r",
      " 42%|███████████████████████████████▍                                           | 419/1000 [5:11:31<6:26:02, 39.87s/it]"
     ]
    },
    {
     "name": "stdout",
     "output_type": "stream",
     "text": [
      "\t ----- reward: -41.47802856402756 for f_star and f_minus: 27.88969130719387 , 41.47802856402756\n",
      "\t ---------- State is:  (2, 11)\n",
      "[INFO] [2023-03-01 04:42:28,394] [OpenBox-SPO] Iteration 420, objective value: [36.94750695658773].\n"
     ]
    },
    {
     "name": "stderr",
     "output_type": "stream",
     "text": [
      "\r",
      " 42%|███████████████████████████████▌                                           | 420/1000 [5:12:11<6:27:19, 40.07s/it]"
     ]
    },
    {
     "name": "stdout",
     "output_type": "stream",
     "text": [
      "\t ----- reward: -36.94750695658773 for f_star and f_minus: 27.88969130719387 , 36.94750695658773\n",
      "\t ---------- State is:  (3, 11)\n",
      "[INFO] [2023-03-01 04:42:28,394] [Advisor] Sample random config. rand_prob=0.100000.\n",
      "[INFO] [2023-03-01 04:43:01,573] [OpenBox-SPO] Iteration 421, objective value: [66.11730971223969].\n"
     ]
    },
    {
     "name": "stderr",
     "output_type": "stream",
     "text": [
      "\r",
      " 42%|███████████████████████████████▌                                           | 421/1000 [5:12:45<6:06:42, 38.00s/it]"
     ]
    },
    {
     "name": "stdout",
     "output_type": "stream",
     "text": [
      "\t ----- reward: -66.11730971223969 for f_star and f_minus: 27.88969130719387 , 66.11730971223969\n",
      "\t ---------- State is:  (4, 13)\n",
      "[INFO] [2023-03-01 04:43:38,984] [OpenBox-SPO] Iteration 422, objective value: [37.0452680577799].\n"
     ]
    },
    {
     "name": "stderr",
     "output_type": "stream",
     "text": [
      "\r",
      " 42%|███████████████████████████████▋                                           | 422/1000 [5:13:22<6:04:22, 37.82s/it]"
     ]
    },
    {
     "name": "stdout",
     "output_type": "stream",
     "text": [
      "\t ----- reward: -37.0452680577799 for f_star and f_minus: 27.88969130719387 , 37.0452680577799\n",
      "\t ---------- State is:  (3, 11)\n",
      "[INFO] [2023-03-01 04:44:18,099] [OpenBox-SPO] Iteration 423, objective value: [40.40066084545223].\n"
     ]
    },
    {
     "name": "stderr",
     "output_type": "stream",
     "text": [
      "\r",
      " 42%|███████████████████████████████▋                                           | 423/1000 [5:14:01<6:07:27, 38.21s/it]"
     ]
    },
    {
     "name": "stdout",
     "output_type": "stream",
     "text": [
      "\t ----- reward: -40.40066084545223 for f_star and f_minus: 27.88969130719387 , 40.40066084545223\n",
      "\t ---------- State is:  (2, 11)\n",
      "[INFO] [2023-03-01 04:45:05,434] [OpenBox-SPO] Iteration 424, objective value: [40.09276002466571].\n"
     ]
    },
    {
     "name": "stderr",
     "output_type": "stream",
     "text": [
      "\r",
      " 42%|███████████████████████████████▊                                           | 424/1000 [5:14:49<6:33:06, 40.95s/it]"
     ]
    },
    {
     "name": "stdout",
     "output_type": "stream",
     "text": [
      "\t ----- reward: -40.09276002466571 for f_star and f_minus: 27.88969130719387 , 40.09276002466571\n",
      "\t ---------- State is:  (3, 11)\n",
      "[INFO] [2023-03-01 04:45:52,817] [OpenBox-SPO] Iteration 425, objective value: [30.470460166673604].\n"
     ]
    },
    {
     "name": "stderr",
     "output_type": "stream",
     "text": [
      "\r",
      " 42%|███████████████████████████████▉                                           | 425/1000 [5:15:36<6:50:55, 42.88s/it]"
     ]
    },
    {
     "name": "stdout",
     "output_type": "stream",
     "text": [
      "\t ----- reward: -30.470460166673604 for f_star and f_minus: 27.88969130719387 , 30.470460166673604\n",
      "\t ---------- State is:  (3, 11)\n",
      "[INFO] [2023-03-01 04:46:38,293] [OpenBox-SPO] Iteration 426, objective value: [32.127030080472196].\n"
     ]
    },
    {
     "name": "stderr",
     "output_type": "stream",
     "text": [
      "\r",
      " 43%|███████████████████████████████▉                                           | 426/1000 [5:16:21<6:57:39, 43.66s/it]"
     ]
    },
    {
     "name": "stdout",
     "output_type": "stream",
     "text": [
      "\t ----- reward: -32.127030080472196 for f_star and f_minus: 27.88969130719387 , 32.127030080472196\n",
      "\t ---------- State is:  (3, 11)\n",
      "[INFO] [2023-03-01 04:47:19,610] [OpenBox-SPO] Iteration 427, objective value: [39.602838957137365].\n"
     ]
    },
    {
     "name": "stderr",
     "output_type": "stream",
     "text": [
      "\r",
      " 43%|████████████████████████████████                                           | 427/1000 [5:17:03<6:50:13, 42.96s/it]"
     ]
    },
    {
     "name": "stdout",
     "output_type": "stream",
     "text": [
      "\t ----- reward: -39.602838957137365 for f_star and f_minus: 27.88969130719387 , 39.602838957137365\n",
      "\t ---------- State is:  (2, 11)\n",
      "[INFO] [2023-03-01 04:48:01,369] [OpenBox-SPO] Iteration 428, objective value: [32.71748523794909].\n"
     ]
    },
    {
     "name": "stderr",
     "output_type": "stream",
     "text": [
      "\r",
      " 43%|████████████████████████████████                                           | 428/1000 [5:17:44<6:46:05, 42.60s/it]"
     ]
    },
    {
     "name": "stdout",
     "output_type": "stream",
     "text": [
      "\t ----- reward: -32.71748523794909 for f_star and f_minus: 27.88969130719387 , 32.71748523794909\n",
      "\t ---------- State is:  (2, 11)\n",
      "[INFO] [2023-03-01 04:48:01,369] [Advisor] Sample random config. rand_prob=0.100000.\n",
      "[INFO] [2023-03-01 04:48:42,547] [OpenBox-SPO] Iteration 429, objective value: [49.40507643900184].\n"
     ]
    },
    {
     "name": "stderr",
     "output_type": "stream",
     "text": [
      "\r",
      " 43%|████████████████████████████████▏                                          | 429/1000 [5:18:26<6:41:19, 42.17s/it]"
     ]
    },
    {
     "name": "stdout",
     "output_type": "stream",
     "text": [
      "\t ----- reward: -49.40507643900184 for f_star and f_minus: 27.88969130719387 , 49.40507643900184\n",
      "\t ---------- State is:  (2, 11)\n",
      "[INFO] [2023-03-01 04:49:27,771] [OpenBox-SPO] Iteration 430, objective value: [41.03148278530379].\n"
     ]
    },
    {
     "name": "stderr",
     "output_type": "stream",
     "text": [
      "\r",
      " 43%|████████████████████████████████▎                                          | 430/1000 [5:19:11<6:49:19, 43.09s/it]"
     ]
    },
    {
     "name": "stdout",
     "output_type": "stream",
     "text": [
      "\t ----- reward: -41.03148278530379 for f_star and f_minus: 27.88969130719387 , 41.03148278530379\n",
      "\t ---------- State is:  (1, 11)\n",
      "[INFO] [2023-03-01 04:50:07,041] [OpenBox-SPO] Iteration 431, objective value: [35.19115945938222].\n"
     ]
    },
    {
     "name": "stderr",
     "output_type": "stream",
     "text": [
      "\r",
      " 43%|████████████████████████████████▎                                          | 431/1000 [5:19:50<6:37:44, 41.94s/it]"
     ]
    },
    {
     "name": "stdout",
     "output_type": "stream",
     "text": [
      "\t ----- reward: -35.19115945938222 for f_star and f_minus: 27.88969130719387 , 35.19115945938222\n",
      "\t ---------- State is:  (2, 11)\n",
      "[INFO] [2023-03-01 04:50:49,159] [OpenBox-SPO] Iteration 432, objective value: [37.20300043704328].\n"
     ]
    },
    {
     "name": "stderr",
     "output_type": "stream",
     "text": [
      "\r",
      " 43%|████████████████████████████████▍                                          | 432/1000 [5:20:32<6:37:32, 41.99s/it]"
     ]
    },
    {
     "name": "stdout",
     "output_type": "stream",
     "text": [
      "\t ----- reward: -37.20300043704328 for f_star and f_minus: 27.88969130719387 , 37.20300043704328\n",
      "\t ---------- State is:  (3, 11)\n",
      "[INFO] [2023-03-01 04:50:49,159] [Advisor] Sample random config. rand_prob=0.100000.\n",
      "[INFO] [2023-03-01 04:51:19,568] [OpenBox-SPO] Iteration 433, objective value: [57.88965950988539].\n"
     ]
    },
    {
     "name": "stderr",
     "output_type": "stream",
     "text": [
      "\r",
      " 43%|████████████████████████████████▍                                          | 433/1000 [5:21:03<6:04:00, 38.52s/it]"
     ]
    },
    {
     "name": "stdout",
     "output_type": "stream",
     "text": [
      "\t ----- reward: -57.88965950988539 for f_star and f_minus: 27.88969130719387 , 57.88965950988539\n",
      "\t ---------- State is:  (3, 11)\n",
      "[INFO] [2023-03-01 04:52:06,168] [OpenBox-SPO] Iteration 434, objective value: [36.10671750009317].\n"
     ]
    },
    {
     "name": "stderr",
     "output_type": "stream",
     "text": [
      "\r",
      " 43%|████████████████████████████████▌                                          | 434/1000 [5:21:49<6:26:13, 40.94s/it]"
     ]
    },
    {
     "name": "stdout",
     "output_type": "stream",
     "text": [
      "\t ----- reward: -36.10671750009317 for f_star and f_minus: 27.88969130719387 , 36.10671750009317\n",
      "\t ---------- State is:  (4, 10)\n",
      "[INFO] [2023-03-01 04:52:48,179] [OpenBox-SPO] Iteration 435, objective value: [31.307775414869838].\n"
     ]
    },
    {
     "name": "stderr",
     "output_type": "stream",
     "text": [
      "\r",
      " 44%|████████████████████████████████▋                                          | 435/1000 [5:22:31<6:28:33, 41.26s/it]"
     ]
    },
    {
     "name": "stdout",
     "output_type": "stream",
     "text": [
      "\t ----- reward: -31.307775414869838 for f_star and f_minus: 27.88969130719387 , 31.307775414869838\n",
      "\t ---------- State is:  (5, 9)\n",
      "[INFO] [2023-03-01 04:53:27,204] [OpenBox-SPO] Iteration 436, objective value: [42.083902080910306].\n"
     ]
    },
    {
     "name": "stderr",
     "output_type": "stream",
     "text": [
      "\r",
      " 44%|████████████████████████████████▋                                          | 436/1000 [5:23:10<6:21:33, 40.59s/it]"
     ]
    },
    {
     "name": "stdout",
     "output_type": "stream",
     "text": [
      "\t ----- reward: -42.083902080910306 for f_star and f_minus: 27.88969130719387 , 42.083902080910306\n",
      "\t ---------- State is:  (4, 10)\n",
      "[INFO] [2023-03-01 04:54:09,117] [OpenBox-SPO] Iteration 437, objective value: [36.07829261788616].\n"
     ]
    },
    {
     "name": "stderr",
     "output_type": "stream",
     "text": [
      "\r",
      " 44%|████████████████████████████████▊                                          | 437/1000 [5:23:52<6:24:36, 40.99s/it]"
     ]
    },
    {
     "name": "stdout",
     "output_type": "stream",
     "text": [
      "\t ----- reward: -36.07829261788616 for f_star and f_minus: 27.88969130719387 , 36.07829261788616\n",
      "\t ---------- State is:  (4, 10)\n",
      "[INFO] [2023-03-01 04:54:09,117] [Advisor] Sample random config. rand_prob=0.100000.\n",
      "[INFO] [2023-03-01 04:54:37,249] [OpenBox-SPO] Iteration 438, objective value: [58.05822277754249].\n"
     ]
    },
    {
     "name": "stderr",
     "output_type": "stream",
     "text": [
      "\r",
      " 44%|████████████████████████████████▊                                          | 438/1000 [5:24:20<5:47:47, 37.13s/it]"
     ]
    },
    {
     "name": "stdout",
     "output_type": "stream",
     "text": [
      "\t ----- reward: -58.05822277754249 for f_star and f_minus: 27.88969130719387 , 58.05822277754249\n",
      "\t ---------- State is:  (5, 10)\n",
      "[INFO] [2023-03-01 04:55:15,278] [OpenBox-SPO] Iteration 439, objective value: [40.7455147278059].\n"
     ]
    },
    {
     "name": "stderr",
     "output_type": "stream",
     "text": [
      "\r",
      " 44%|████████████████████████████████▉                                          | 439/1000 [5:24:58<5:49:41, 37.40s/it]"
     ]
    },
    {
     "name": "stdout",
     "output_type": "stream",
     "text": [
      "\t ----- reward: -40.7455147278059 for f_star and f_minus: 27.88969130719387 , 40.7455147278059\n",
      "\t ---------- State is:  (6, 10)\n",
      "[INFO] [2023-03-01 04:56:00,147] [OpenBox-SPO] Iteration 440, objective value: [32.808619474988205].\n"
     ]
    },
    {
     "name": "stderr",
     "output_type": "stream",
     "text": [
      "\r",
      " 44%|█████████████████████████████████                                          | 440/1000 [5:25:43<6:09:59, 39.64s/it]"
     ]
    },
    {
     "name": "stdout",
     "output_type": "stream",
     "text": [
      "\t ----- reward: -32.808619474988205 for f_star and f_minus: 27.88969130719387 , 32.808619474988205\n",
      "\t ---------- State is:  (5, 10)\n",
      "[INFO] [2023-03-01 04:56:34,072] [OpenBox-SPO] Iteration 441, objective value: [39.95725582115396].\n"
     ]
    },
    {
     "name": "stderr",
     "output_type": "stream",
     "text": [
      "\r",
      " 44%|█████████████████████████████████                                          | 441/1000 [5:26:17<5:53:20, 37.93s/it]"
     ]
    },
    {
     "name": "stdout",
     "output_type": "stream",
     "text": [
      "\t ----- reward: -39.95725582115396 for f_star and f_minus: 27.88969130719387 , 39.95725582115396\n",
      "\t ---------- State is:  (6, 10)\n",
      "[INFO] [2023-03-01 04:57:15,264] [OpenBox-SPO] Iteration 442, objective value: [31.69479345136004].\n"
     ]
    },
    {
     "name": "stderr",
     "output_type": "stream",
     "text": [
      "\r",
      " 44%|█████████████████████████████████▏                                         | 442/1000 [5:26:58<6:01:49, 38.91s/it]"
     ]
    },
    {
     "name": "stdout",
     "output_type": "stream",
     "text": [
      "\t ----- reward: -31.69479345136004 for f_star and f_minus: 27.88969130719387 , 31.69479345136004\n",
      "\t ---------- State is:  (7, 10)\n",
      "[INFO] [2023-03-01 04:57:59,711] [OpenBox-SPO] Iteration 443, objective value: [34.58349681120008].\n"
     ]
    },
    {
     "name": "stderr",
     "output_type": "stream",
     "text": [
      "\r",
      " 44%|█████████████████████████████████▏                                         | 443/1000 [5:27:43<6:16:36, 40.57s/it]"
     ]
    },
    {
     "name": "stdout",
     "output_type": "stream",
     "text": [
      "\t ----- reward: -34.58349681120008 for f_star and f_minus: 27.88969130719387 , 34.58349681120008\n",
      "\t ---------- State is:  (8, 8)\n",
      "[INFO] [2023-03-01 04:57:59,711] [Advisor] Sample random config. rand_prob=0.100000.\n",
      "[INFO] [2023-03-01 04:58:37,371] [OpenBox-SPO] Iteration 444, objective value: [65.83720165141784].\n"
     ]
    },
    {
     "name": "stderr",
     "output_type": "stream",
     "text": [
      "\r",
      " 44%|█████████████████████████████████▎                                         | 444/1000 [5:28:20<6:07:50, 39.70s/it]"
     ]
    },
    {
     "name": "stdout",
     "output_type": "stream",
     "text": [
      "\t ----- reward: -65.83720165141784 for f_star and f_minus: 27.88969130719387 , 65.83720165141784\n",
      "\t ---------- State is:  (8, 8)\n",
      "[INFO] [2023-03-01 04:59:20,201] [OpenBox-SPO] Iteration 445, objective value: [41.48404400605203].\n"
     ]
    },
    {
     "name": "stderr",
     "output_type": "stream",
     "text": [
      "\r",
      " 44%|█████████████████████████████████▍                                         | 445/1000 [5:29:03<6:15:55, 40.64s/it]"
     ]
    },
    {
     "name": "stdout",
     "output_type": "stream",
     "text": [
      "\t ----- reward: -41.48404400605203 for f_star and f_minus: 27.88969130719387 , 41.48404400605203\n",
      "\t ---------- State is:  (9, 10)\n",
      "[INFO] [2023-03-01 04:59:57,429] [OpenBox-SPO] Iteration 446, objective value: [40.81175230950541].\n"
     ]
    },
    {
     "name": "stderr",
     "output_type": "stream",
     "text": [
      "\r",
      " 45%|█████████████████████████████████▍                                         | 446/1000 [5:29:40<6:05:45, 39.61s/it]"
     ]
    },
    {
     "name": "stdout",
     "output_type": "stream",
     "text": [
      "\t ----- reward: -40.81175230950541 for f_star and f_minus: 27.88969130719387 , 40.81175230950541\n",
      "\t ---------- State is:  (8, 11)\n",
      "[INFO] [2023-03-01 05:00:40,753] [OpenBox-SPO] Iteration 447, objective value: [31.05177283242361].\n"
     ]
    },
    {
     "name": "stderr",
     "output_type": "stream",
     "text": [
      "\r",
      " 45%|█████████████████████████████████▌                                         | 447/1000 [5:30:24<6:15:21, 40.73s/it]"
     ]
    },
    {
     "name": "stdout",
     "output_type": "stream",
     "text": [
      "\t ----- reward: -31.05177283242361 for f_star and f_minus: 27.88969130719387 , 31.05177283242361\n",
      "\t ---------- State is:  (7, 10)\n",
      "[INFO] [2023-03-01 05:01:24,585] [OpenBox-SPO] Iteration 448, objective value: [31.087007483797805].\n"
     ]
    },
    {
     "name": "stderr",
     "output_type": "stream",
     "text": [
      "\r",
      " 45%|█████████████████████████████████▌                                         | 448/1000 [5:31:08<6:23:15, 41.66s/it]"
     ]
    },
    {
     "name": "stdout",
     "output_type": "stream",
     "text": [
      "\t ----- reward: -31.087007483797805 for f_star and f_minus: 27.88969130719387 , 31.087007483797805\n",
      "\t ---------- State is:  (8, 10)\n",
      "[INFO] [2023-03-01 05:02:05,966] [OpenBox-SPO] Iteration 449, objective value: [37.285361763977875].\n"
     ]
    },
    {
     "name": "stderr",
     "output_type": "stream",
     "text": [
      "\r",
      " 45%|█████████████████████████████████▋                                         | 449/1000 [5:31:49<6:21:47, 41.57s/it]"
     ]
    },
    {
     "name": "stdout",
     "output_type": "stream",
     "text": [
      "\t ----- reward: -37.285361763977875 for f_star and f_minus: 27.88969130719387 , 37.285361763977875\n",
      "\t ---------- State is:  (8, 9)\n",
      "[INFO] [2023-03-01 05:02:49,287] [OpenBox-SPO] Iteration 450, objective value: [40.745470128039706].\n"
     ]
    },
    {
     "name": "stderr",
     "output_type": "stream",
     "text": [
      "\r",
      " 45%|█████████████████████████████████▊                                         | 450/1000 [5:32:32<6:25:54, 42.10s/it]"
     ]
    },
    {
     "name": "stdout",
     "output_type": "stream",
     "text": [
      "\t ----- reward: -40.745470128039706 for f_star and f_minus: 27.88969130719387 , 40.745470128039706\n",
      "\t ---------- State is:  (8, 9)\n",
      "[INFO] [2023-03-01 05:03:31,121] [OpenBox-SPO] Iteration 451, objective value: [34.82752006928705].\n"
     ]
    },
    {
     "name": "stderr",
     "output_type": "stream",
     "text": [
      "\r",
      " 45%|█████████████████████████████████▊                                         | 451/1000 [5:33:14<6:24:28, 42.02s/it]"
     ]
    },
    {
     "name": "stdout",
     "output_type": "stream",
     "text": [
      "\t ----- reward: -34.82752006928705 for f_star and f_minus: 27.88969130719387 , 34.82752006928705\n",
      "\t ---------- State is:  (9, 9)\n",
      "[INFO] [2023-03-01 05:04:10,767] [OpenBox-SPO] Iteration 452, objective value: [37.037766123908256].\n"
     ]
    },
    {
     "name": "stderr",
     "output_type": "stream",
     "text": [
      "\r",
      " 45%|█████████████████████████████████▉                                         | 452/1000 [5:33:54<6:17:18, 41.31s/it]"
     ]
    },
    {
     "name": "stdout",
     "output_type": "stream",
     "text": [
      "\t ----- reward: -37.037766123908256 for f_star and f_minus: 27.88969130719387 , 37.037766123908256\n",
      "\t ---------- State is:  (9, 9)\n",
      "[INFO] [2023-03-01 05:04:50,479] [OpenBox-SPO] Iteration 453, objective value: [35.36836324525406].\n"
     ]
    },
    {
     "name": "stderr",
     "output_type": "stream",
     "text": [
      "\r",
      " 45%|█████████████████████████████████▉                                         | 453/1000 [5:34:34<6:12:14, 40.83s/it]"
     ]
    },
    {
     "name": "stdout",
     "output_type": "stream",
     "text": [
      "\t ----- reward: -35.36836324525406 for f_star and f_minus: 27.88969130719387 , 35.36836324525406\n",
      "\t ---------- State is:  (8, 8)\n",
      "[INFO] [2023-03-01 05:05:28,434] [OpenBox-SPO] Iteration 454, objective value: [30.977847109060306].\n"
     ]
    },
    {
     "name": "stderr",
     "output_type": "stream",
     "text": [
      "\r",
      " 45%|██████████████████████████████████                                         | 454/1000 [5:35:12<6:03:40, 39.96s/it]"
     ]
    },
    {
     "name": "stdout",
     "output_type": "stream",
     "text": [
      "\t ----- reward: -30.977847109060306 for f_star and f_minus: 27.88969130719387 , 30.977847109060306\n",
      "\t ---------- State is:  (9, 8)\n",
      "[INFO] [2023-03-01 05:06:15,724] [OpenBox-SPO] Iteration 455, objective value: [40.4513430817955].\n"
     ]
    },
    {
     "name": "stderr",
     "output_type": "stream",
     "text": [
      "\r",
      " 46%|██████████████████████████████████▏                                        | 455/1000 [5:35:59<6:22:58, 42.16s/it]"
     ]
    },
    {
     "name": "stdout",
     "output_type": "stream",
     "text": [
      "\t ----- reward: -40.4513430817955 for f_star and f_minus: 27.88969130719387 , 40.4513430817955\n",
      "\t ---------- State is:  (9, 9)\n",
      "[INFO] [2023-03-01 05:07:00,436] [OpenBox-SPO] Iteration 456, objective value: [38.999744309278725].\n"
     ]
    },
    {
     "name": "stderr",
     "output_type": "stream",
     "text": [
      "\r",
      " 46%|██████████████████████████████████▏                                        | 456/1000 [5:36:44<6:29:12, 42.93s/it]"
     ]
    },
    {
     "name": "stdout",
     "output_type": "stream",
     "text": [
      "\t ----- reward: -38.999744309278725 for f_star and f_minus: 27.88969130719387 , 38.999744309278725\n",
      "\t ---------- State is:  (9, 9)\n",
      "[INFO] [2023-03-01 05:07:42,615] [OpenBox-SPO] Iteration 457, objective value: [31.09520067647773].\n"
     ]
    },
    {
     "name": "stderr",
     "output_type": "stream",
     "text": [
      "\r",
      " 46%|██████████████████████████████████▎                                        | 457/1000 [5:37:26<6:26:27, 42.70s/it]"
     ]
    },
    {
     "name": "stdout",
     "output_type": "stream",
     "text": [
      "\t ----- reward: -31.09520067647773 for f_star and f_minus: 27.88969130719387 , 31.09520067647773\n",
      "\t ---------- State is:  (10, 9)\n",
      "[INFO] [2023-03-01 05:08:27,938] [OpenBox-SPO] Iteration 458, objective value: [33.84794742341877].\n"
     ]
    },
    {
     "name": "stderr",
     "output_type": "stream",
     "text": [
      "\r",
      " 46%|██████████████████████████████████▎                                        | 458/1000 [5:38:11<6:32:50, 43.49s/it]"
     ]
    },
    {
     "name": "stdout",
     "output_type": "stream",
     "text": [
      "\t ----- reward: -33.84794742341877 for f_star and f_minus: 27.88969130719387 , 33.84794742341877\n",
      "\t ---------- State is:  (10, 8)\n",
      "[INFO] [2023-03-01 05:08:27,938] [Advisor] Sample random config. rand_prob=0.100000.\n",
      "[INFO] [2023-03-01 05:09:02,808] [OpenBox-SPO] Iteration 459, objective value: [54.93788847016406].\n"
     ]
    },
    {
     "name": "stderr",
     "output_type": "stream",
     "text": [
      "\r",
      " 46%|██████████████████████████████████▍                                        | 459/1000 [5:38:46<6:08:48, 40.90s/it]"
     ]
    },
    {
     "name": "stdout",
     "output_type": "stream",
     "text": [
      "\t ----- reward: -54.93788847016406 for f_star and f_minus: 27.88969130719387 , 54.93788847016406\n",
      "\t ---------- State is:  (9, 8)\n",
      "[INFO] [2023-03-01 05:09:43,224] [OpenBox-SPO] Iteration 460, objective value: [37.139733052084836].\n"
     ]
    },
    {
     "name": "stderr",
     "output_type": "stream",
     "text": [
      "\r",
      " 46%|██████████████████████████████████▌                                        | 460/1000 [5:39:26<6:06:48, 40.76s/it]"
     ]
    },
    {
     "name": "stdout",
     "output_type": "stream",
     "text": [
      "\t ----- reward: -37.139733052084836 for f_star and f_minus: 27.88969130719387 , 37.139733052084836\n",
      "\t ---------- State is:  (8, 9)\n",
      "[INFO] [2023-03-01 05:09:43,224] [Advisor] Sample random config. rand_prob=0.100000.\n",
      "[INFO] [2023-03-01 05:10:14,209] [OpenBox-SPO] Iteration 461, objective value: [55.49523383539105].\n"
     ]
    },
    {
     "name": "stderr",
     "output_type": "stream",
     "text": [
      "\r",
      " 46%|██████████████████████████████████▌                                        | 461/1000 [5:39:57<5:39:47, 37.83s/it]"
     ]
    },
    {
     "name": "stdout",
     "output_type": "stream",
     "text": [
      "\t ----- reward: -55.49523383539105 for f_star and f_minus: 27.88969130719387 , 55.49523383539105\n",
      "\t ---------- State is:  (7, 9)\n",
      "[INFO] [2023-03-01 05:10:52,515] [OpenBox-SPO] Iteration 462, objective value: [38.76776937067245].\n"
     ]
    },
    {
     "name": "stderr",
     "output_type": "stream",
     "text": [
      "\r",
      " 46%|██████████████████████████████████▋                                        | 462/1000 [5:40:36<5:40:27, 37.97s/it]"
     ]
    },
    {
     "name": "stdout",
     "output_type": "stream",
     "text": [
      "\t ----- reward: -38.76776937067245 for f_star and f_minus: 27.88969130719387 , 38.76776937067245\n",
      "\t ---------- State is:  (6, 9)\n",
      "[INFO] [2023-03-01 05:11:31,083] [OpenBox-SPO] Iteration 463, objective value: [32.00109483077284].\n"
     ]
    },
    {
     "name": "stderr",
     "output_type": "stream",
     "text": [
      "\r",
      " 46%|██████████████████████████████████▋                                        | 463/1000 [5:41:14<5:41:25, 38.15s/it]"
     ]
    },
    {
     "name": "stdout",
     "output_type": "stream",
     "text": [
      "\t ----- reward: -32.00109483077284 for f_star and f_minus: 27.88969130719387 , 32.00109483077284\n",
      "\t ---------- State is:  (6, 9)\n",
      "[INFO] [2023-03-01 05:12:23,168] [OpenBox-SPO] Iteration 464, objective value: [32.811162294291734].\n"
     ]
    },
    {
     "name": "stderr",
     "output_type": "stream",
     "text": [
      "\r",
      " 46%|██████████████████████████████████▊                                        | 464/1000 [5:42:06<6:18:08, 42.33s/it]"
     ]
    },
    {
     "name": "stdout",
     "output_type": "stream",
     "text": [
      "\t ----- reward: -32.811162294291734 for f_star and f_minus: 27.88969130719387 , 32.811162294291734\n",
      "\t ---------- State is:  (5, 9)\n",
      "[INFO] [2023-03-01 05:13:03,095] [OpenBox-SPO] Iteration 465, objective value: [34.7115340456903].\n"
     ]
    },
    {
     "name": "stderr",
     "output_type": "stream",
     "text": [
      "\r",
      " 46%|██████████████████████████████████▉                                        | 465/1000 [5:42:46<6:11:00, 41.61s/it]"
     ]
    },
    {
     "name": "stdout",
     "output_type": "stream",
     "text": [
      "\t ----- reward: -34.7115340456903 for f_star and f_minus: 27.88969130719387 , 34.7115340456903\n",
      "\t ---------- State is:  (5, 8)\n",
      "[INFO] [2023-03-01 05:13:03,095] [Advisor] Sample random config. rand_prob=0.100000.\n",
      "[INFO] [2023-03-01 05:13:32,928] [OpenBox-SPO] Iteration 466, objective value: [55.44311920459702].\n"
     ]
    },
    {
     "name": "stderr",
     "output_type": "stream",
     "text": [
      "\r",
      " 47%|██████████████████████████████████▉                                        | 466/1000 [5:43:16<5:38:52, 38.08s/it]"
     ]
    },
    {
     "name": "stdout",
     "output_type": "stream",
     "text": [
      "\t ----- reward: -55.44311920459702 for f_star and f_minus: 27.88969130719387 , 55.44311920459702\n",
      "\t ---------- State is:  (4, 8)\n",
      "[INFO] [2023-03-01 05:14:18,763] [OpenBox-SPO] Iteration 467, objective value: [40.03363347910395].\n"
     ]
    },
    {
     "name": "stderr",
     "output_type": "stream",
     "text": [
      "\r",
      " 47%|███████████████████████████████████                                        | 467/1000 [5:44:02<5:58:55, 40.40s/it]"
     ]
    },
    {
     "name": "stdout",
     "output_type": "stream",
     "text": [
      "\t ----- reward: -40.03363347910395 for f_star and f_minus: 27.88969130719387 , 40.03363347910395\n",
      "\t ---------- State is:  (3, 9)\n",
      "[INFO] [2023-03-01 05:14:18,763] [Advisor] Sample random config. rand_prob=0.100000.\n",
      "[INFO] [2023-03-01 05:14:55,677] [OpenBox-SPO] Iteration 468, objective value: [62.79396120741344].\n"
     ]
    },
    {
     "name": "stderr",
     "output_type": "stream",
     "text": [
      "\r",
      " 47%|███████████████████████████████████                                        | 468/1000 [5:44:39<5:48:57, 39.36s/it]"
     ]
    },
    {
     "name": "stdout",
     "output_type": "stream",
     "text": [
      "\t ----- reward: -62.79396120741344 for f_star and f_minus: 27.88969130719387 , 62.79396120741344\n",
      "\t ---------- State is:  (3, 9)\n",
      "[INFO] [2023-03-01 05:15:37,261] [OpenBox-SPO] Iteration 469, objective value: [33.02656038739167].\n"
     ]
    },
    {
     "name": "stderr",
     "output_type": "stream",
     "text": [
      "\r",
      " 47%|███████████████████████████████████▏                                       | 469/1000 [5:45:20<5:54:13, 40.02s/it]"
     ]
    },
    {
     "name": "stdout",
     "output_type": "stream",
     "text": [
      "\t ----- reward: -33.02656038739167 for f_star and f_minus: 27.88969130719387 , 33.02656038739167\n",
      "\t ---------- State is:  (3, 9)\n",
      "[INFO] [2023-03-01 05:16:15,609] [OpenBox-SPO] Iteration 470, objective value: [33.69611294622453].\n"
     ]
    },
    {
     "name": "stderr",
     "output_type": "stream",
     "text": [
      "\r",
      " 47%|███████████████████████████████████▎                                       | 470/1000 [5:45:59<5:49:06, 39.52s/it]"
     ]
    },
    {
     "name": "stdout",
     "output_type": "stream",
     "text": [
      "\t ----- reward: -33.69611294622453 for f_star and f_minus: 27.88969130719387 , 33.69611294622453\n",
      "\t ---------- State is:  (4, 8)\n",
      "[INFO] [2023-03-01 05:16:56,446] [OpenBox-SPO] Iteration 471, objective value: [38.12999671554106].\n"
     ]
    },
    {
     "name": "stderr",
     "output_type": "stream",
     "text": [
      "\r",
      " 47%|███████████████████████████████████▎                                       | 471/1000 [5:46:40<5:51:55, 39.92s/it]"
     ]
    },
    {
     "name": "stdout",
     "output_type": "stream",
     "text": [
      "\t ----- reward: -38.12999671554106 for f_star and f_minus: 27.88969130719387 , 38.12999671554106\n",
      "\t ---------- State is:  (5, 9)\n",
      "[INFO] [2023-03-01 05:17:35,544] [OpenBox-SPO] Iteration 472, objective value: [34.40213413412104].\n"
     ]
    },
    {
     "name": "stderr",
     "output_type": "stream",
     "text": [
      "\r",
      " 47%|███████████████████████████████████▍                                       | 472/1000 [5:47:19<5:49:06, 39.67s/it]"
     ]
    },
    {
     "name": "stdout",
     "output_type": "stream",
     "text": [
      "\t ----- reward: -34.40213413412104 for f_star and f_minus: 27.88969130719387 , 34.40213413412104\n",
      "\t ---------- State is:  (6, 8)\n",
      "[INFO] [2023-03-01 05:18:18,819] [OpenBox-SPO] Iteration 473, objective value: [38.336405527253014].\n"
     ]
    },
    {
     "name": "stderr",
     "output_type": "stream",
     "text": [
      "\r",
      " 47%|███████████████████████████████████▍                                       | 473/1000 [5:48:02<5:57:56, 40.75s/it]"
     ]
    },
    {
     "name": "stdout",
     "output_type": "stream",
     "text": [
      "\t ----- reward: -38.336405527253014 for f_star and f_minus: 27.88969130719387 , 38.336405527253014\n",
      "\t ---------- State is:  (6, 9)\n",
      "[INFO] [2023-03-01 05:19:01,234] [OpenBox-SPO] Iteration 474, objective value: [39.38791270178614].\n"
     ]
    },
    {
     "name": "stderr",
     "output_type": "stream",
     "text": [
      "\r",
      " 47%|███████████████████████████████████▌                                       | 474/1000 [5:48:44<6:01:38, 41.25s/it]"
     ]
    },
    {
     "name": "stdout",
     "output_type": "stream",
     "text": [
      "\t ----- reward: -39.38791270178614 for f_star and f_minus: 27.88969130719387 , 39.38791270178614\n",
      "\t ---------- State is:  (6, 10)\n",
      "[INFO] [2023-03-01 05:19:41,005] [OpenBox-SPO] Iteration 475, objective value: [35.29690625886664].\n"
     ]
    },
    {
     "name": "stderr",
     "output_type": "stream",
     "text": [
      "\r",
      " 48%|███████████████████████████████████▋                                       | 475/1000 [5:49:24<5:57:03, 40.81s/it]"
     ]
    },
    {
     "name": "stdout",
     "output_type": "stream",
     "text": [
      "\t ----- reward: -35.29690625886664 for f_star and f_minus: 27.88969130719387 , 35.29690625886664\n",
      "\t ---------- State is:  (6, 9)\n",
      "[INFO] [2023-03-01 05:20:21,651] [OpenBox-SPO] Iteration 476, objective value: [37.409125433822624].\n"
     ]
    },
    {
     "name": "stderr",
     "output_type": "stream",
     "text": [
      "\r",
      " 48%|███████████████████████████████████▋                                       | 476/1000 [5:50:05<5:55:57, 40.76s/it]"
     ]
    },
    {
     "name": "stdout",
     "output_type": "stream",
     "text": [
      "\t ----- reward: -37.409125433822624 for f_star and f_minus: 27.88969130719387 , 37.409125433822624\n",
      "\t ---------- State is:  (7, 9)\n",
      "[INFO] [2023-03-01 05:21:03,437] [OpenBox-SPO] Iteration 477, objective value: [32.39840676864502].\n"
     ]
    },
    {
     "name": "stderr",
     "output_type": "stream",
     "text": [
      "\r",
      " 48%|███████████████████████████████████▊                                       | 477/1000 [5:50:47<5:57:57, 41.07s/it]"
     ]
    },
    {
     "name": "stdout",
     "output_type": "stream",
     "text": [
      "\t ----- reward: -32.39840676864502 for f_star and f_minus: 27.88969130719387 , 32.39840676864502\n",
      "\t ---------- State is:  (7, 9)\n",
      "[INFO] [2023-03-01 05:21:39,492] [OpenBox-SPO] Iteration 478, objective value: [32.94135999826564].\n"
     ]
    },
    {
     "name": "stderr",
     "output_type": "stream",
     "text": [
      "\r",
      " 48%|███████████████████████████████████▊                                       | 478/1000 [5:51:23<5:44:12, 39.56s/it]"
     ]
    },
    {
     "name": "stdout",
     "output_type": "stream",
     "text": [
      "\t ----- reward: -32.94135999826564 for f_star and f_minus: 27.88969130719387 , 32.94135999826564\n",
      "\t ---------- State is:  (6, 9)\n",
      "[INFO] [2023-03-01 05:22:21,717] [OpenBox-SPO] Iteration 479, objective value: [32.84471182174819].\n"
     ]
    },
    {
     "name": "stderr",
     "output_type": "stream",
     "text": [
      "\r",
      " 48%|███████████████████████████████████▉                                       | 479/1000 [5:52:05<5:50:28, 40.36s/it]"
     ]
    },
    {
     "name": "stdout",
     "output_type": "stream",
     "text": [
      "\t ----- reward: -32.84471182174819 for f_star and f_minus: 27.88969130719387 , 32.84471182174819\n",
      "\t ---------- State is:  (5, 8)\n",
      "[INFO] [2023-03-01 05:22:21,717] [Advisor] Sample random config. rand_prob=0.100000.\n",
      "[INFO] [2023-03-01 05:22:53,381] [OpenBox-SPO] Iteration 480, objective value: [55.083723321415256].\n"
     ]
    },
    {
     "name": "stderr",
     "output_type": "stream",
     "text": [
      "\r",
      " 48%|████████████████████████████████████                                       | 480/1000 [5:52:36<5:27:11, 37.75s/it]"
     ]
    },
    {
     "name": "stdout",
     "output_type": "stream",
     "text": [
      "\t ----- reward: -55.083723321415256 for f_star and f_minus: 27.88969130719387 , 55.083723321415256\n",
      "\t ---------- State is:  (5, 8)\n",
      "[INFO] [2023-03-01 05:23:33,448] [OpenBox-SPO] Iteration 481, objective value: [41.724790691432936].\n"
     ]
    },
    {
     "name": "stderr",
     "output_type": "stream",
     "text": [
      "\r",
      " 48%|████████████████████████████████████                                       | 481/1000 [5:53:17<5:32:33, 38.45s/it]"
     ]
    },
    {
     "name": "stdout",
     "output_type": "stream",
     "text": [
      "\t ----- reward: -41.724790691432936 for f_star and f_minus: 27.88969130719387 , 41.724790691432936\n",
      "\t ---------- State is:  (6, 8)\n",
      "[INFO] [2023-03-01 05:24:16,000] [OpenBox-SPO] Iteration 482, objective value: [36.62500908915879].\n"
     ]
    },
    {
     "name": "stderr",
     "output_type": "stream",
     "text": [
      "\r",
      " 48%|████████████████████████████████████▏                                      | 482/1000 [5:53:59<5:42:33, 39.68s/it]"
     ]
    },
    {
     "name": "stdout",
     "output_type": "stream",
     "text": [
      "\t ----- reward: -36.62500908915879 for f_star and f_minus: 27.88969130719387 , 36.62500908915879\n",
      "\t ---------- State is:  (6, 8)\n",
      "[INFO] [2023-03-01 05:24:57,008] [OpenBox-SPO] Iteration 483, objective value: [34.461264790472015].\n"
     ]
    },
    {
     "name": "stderr",
     "output_type": "stream",
     "text": [
      "\r",
      " 48%|████████████████████████████████████▏                                      | 483/1000 [5:54:40<5:45:19, 40.08s/it]"
     ]
    },
    {
     "name": "stdout",
     "output_type": "stream",
     "text": [
      "\t ----- reward: -34.461264790472015 for f_star and f_minus: 27.88969130719387 , 34.461264790472015\n",
      "\t ---------- State is:  (5, 8)\n",
      "[INFO] [2023-03-01 05:25:39,576] [OpenBox-SPO] Iteration 484, objective value: [27.080525052641732].\n"
     ]
    },
    {
     "name": "stderr",
     "output_type": "stream",
     "text": [
      "\r",
      " 48%|████████████████████████████████████▎                                      | 484/1000 [5:55:23<5:51:05, 40.82s/it]"
     ]
    },
    {
     "name": "stdout",
     "output_type": "stream",
     "text": [
      "\t ----- reward: -27.080525052641732 for f_star and f_minus: 27.88969130719387 , 27.080525052641732\n",
      "\t ---------- State is:  (6, 8)\n",
      "[INFO] [2023-03-01 05:26:30,631] [OpenBox-SPO] Iteration 485, objective value: [30.351184387308194].\n"
     ]
    },
    {
     "name": "stderr",
     "output_type": "stream",
     "text": [
      "\r",
      " 48%|████████████████████████████████████▍                                      | 485/1000 [5:56:14<6:16:45, 43.89s/it]"
     ]
    },
    {
     "name": "stdout",
     "output_type": "stream",
     "text": [
      "\t ----- reward: -30.351184387308194 for f_star and f_minus: 27.080525052641732 , 30.351184387308194\n",
      "\t ---------- State is:  (7, 8)\n",
      "[INFO] [2023-03-01 05:27:14,526] [OpenBox-SPO] Iteration 486, objective value: [36.272632007974956].\n"
     ]
    },
    {
     "name": "stderr",
     "output_type": "stream",
     "text": [
      "\r",
      " 49%|████████████████████████████████████▍                                      | 486/1000 [5:56:58<6:16:01, 43.89s/it]"
     ]
    },
    {
     "name": "stdout",
     "output_type": "stream",
     "text": [
      "\t ----- reward: -36.272632007974956 for f_star and f_minus: 27.080525052641732 , 36.272632007974956\n",
      "\t ---------- State is:  (7, 8)\n",
      "[INFO] [2023-03-01 05:27:52,207] [OpenBox-SPO] Iteration 487, objective value: [49.54101604567832].\n"
     ]
    },
    {
     "name": "stderr",
     "output_type": "stream",
     "text": [
      "\r",
      " 49%|████████████████████████████████████▌                                      | 487/1000 [5:57:35<5:59:21, 42.03s/it]"
     ]
    },
    {
     "name": "stdout",
     "output_type": "stream",
     "text": [
      "\t ----- reward: -49.54101604567832 for f_star and f_minus: 27.080525052641732 , 49.54101604567832\n",
      "\t ---------- State is:  (6, 8)\n",
      "[INFO] [2023-03-01 05:28:31,713] [OpenBox-SPO] Iteration 488, objective value: [45.143813433267496].\n"
     ]
    },
    {
     "name": "stderr",
     "output_type": "stream",
     "text": [
      "\r",
      " 49%|████████████████████████████████████▌                                      | 488/1000 [5:58:15<5:52:11, 41.27s/it]"
     ]
    },
    {
     "name": "stdout",
     "output_type": "stream",
     "text": [
      "\t ----- reward: -45.143813433267496 for f_star and f_minus: 27.080525052641732 , 45.143813433267496\n",
      "\t ---------- State is:  (7, 8)\n",
      "[INFO] [2023-03-01 05:29:12,037] [OpenBox-SPO] Iteration 489, objective value: [34.227908994707306].\n"
     ]
    },
    {
     "name": "stderr",
     "output_type": "stream",
     "text": [
      "\r",
      " 49%|████████████████████████████████████▋                                      | 489/1000 [5:58:55<5:49:05, 40.99s/it]"
     ]
    },
    {
     "name": "stdout",
     "output_type": "stream",
     "text": [
      "\t ----- reward: -34.227908994707306 for f_star and f_minus: 27.080525052641732 , 34.227908994707306\n",
      "\t ---------- State is:  (8, 8)\n",
      "[INFO] [2023-03-01 05:29:57,609] [OpenBox-SPO] Iteration 490, objective value: [28.855757498194023].\n"
     ]
    },
    {
     "name": "stderr",
     "output_type": "stream",
     "text": [
      "\r",
      " 49%|████████████████████████████████████▊                                      | 490/1000 [5:59:41<6:00:05, 42.36s/it]"
     ]
    },
    {
     "name": "stdout",
     "output_type": "stream",
     "text": [
      "\t ----- reward: -28.855757498194023 for f_star and f_minus: 27.080525052641732 , 28.855757498194023\n",
      "\t ---------- State is:  (7, 8)\n",
      "[INFO] [2023-03-01 05:30:37,442] [OpenBox-SPO] Iteration 491, objective value: [30.308008060888383].\n"
     ]
    },
    {
     "name": "stderr",
     "output_type": "stream",
     "text": [
      "\r",
      " 49%|████████████████████████████████████▊                                      | 491/1000 [6:00:21<5:52:56, 41.60s/it]"
     ]
    },
    {
     "name": "stdout",
     "output_type": "stream",
     "text": [
      "\t ----- reward: -30.308008060888383 for f_star and f_minus: 27.080525052641732 , 30.308008060888383\n",
      "\t ---------- State is:  (7, 7)\n",
      "[INFO] [2023-03-01 05:31:17,901] [OpenBox-SPO] Iteration 492, objective value: [34.058327522603065].\n"
     ]
    },
    {
     "name": "stderr",
     "output_type": "stream",
     "text": [
      "\r",
      " 49%|████████████████████████████████████▉                                      | 492/1000 [6:01:01<5:49:20, 41.26s/it]"
     ]
    },
    {
     "name": "stdout",
     "output_type": "stream",
     "text": [
      "\t ----- reward: -34.058327522603065 for f_star and f_minus: 27.080525052641732 , 34.058327522603065\n",
      "\t ---------- State is:  (7, 7)\n",
      "[INFO] [2023-03-01 05:32:01,536] [OpenBox-SPO] Iteration 493, objective value: [29.531519847427916].\n"
     ]
    },
    {
     "name": "stderr",
     "output_type": "stream",
     "text": [
      "\r",
      " 49%|████████████████████████████████████▉                                      | 493/1000 [6:01:45<5:54:40, 41.97s/it]"
     ]
    },
    {
     "name": "stdout",
     "output_type": "stream",
     "text": [
      "\t ----- reward: -29.531519847427916 for f_star and f_minus: 27.080525052641732 , 29.531519847427916\n",
      "\t ---------- State is:  (8, 7)\n",
      "[INFO] [2023-03-01 05:32:47,730] [OpenBox-SPO] Iteration 494, objective value: [28.465915286178628].\n"
     ]
    },
    {
     "name": "stderr",
     "output_type": "stream",
     "text": [
      "\r",
      " 49%|█████████████████████████████████████                                      | 494/1000 [6:02:31<6:04:39, 43.24s/it]"
     ]
    },
    {
     "name": "stdout",
     "output_type": "stream",
     "text": [
      "\t ----- reward: -28.465915286178628 for f_star and f_minus: 27.080525052641732 , 28.465915286178628\n",
      "\t ---------- State is:  (7, 7)\n",
      "[INFO] [2023-03-01 05:33:29,079] [OpenBox-SPO] Iteration 495, objective value: [24.29884965820223].\n"
     ]
    },
    {
     "name": "stderr",
     "output_type": "stream",
     "text": [
      "\r",
      " 50%|█████████████████████████████████████▏                                     | 495/1000 [6:03:12<5:59:09, 42.67s/it]"
     ]
    },
    {
     "name": "stdout",
     "output_type": "stream",
     "text": [
      "\t ----- reward: -24.29884965820223 for f_star and f_minus: 27.080525052641732 , 24.29884965820223\n",
      "\t ---------- State is:  (7, 6)\n",
      "[INFO] [2023-03-01 05:34:08,101] [OpenBox-SPO] Iteration 496, objective value: [37.092805583721564].\n"
     ]
    },
    {
     "name": "stderr",
     "output_type": "stream",
     "text": [
      "\r",
      " 50%|█████████████████████████████████████▏                                     | 496/1000 [6:03:51<5:49:14, 41.58s/it]"
     ]
    },
    {
     "name": "stdout",
     "output_type": "stream",
     "text": [
      "\t ----- reward: -37.092805583721564 for f_star and f_minus: 24.29884965820223 , 37.092805583721564\n",
      "\t ---------- State is:  (7, 9)\n",
      "[INFO] [2023-03-01 05:34:08,101] [Advisor] Sample random config. rand_prob=0.100000.\n",
      "[INFO] [2023-03-01 05:34:37,466] [OpenBox-SPO] Iteration 497, objective value: [62.02108084391219].\n"
     ]
    },
    {
     "name": "stderr",
     "output_type": "stream",
     "text": [
      "\r",
      " 50%|█████████████████████████████████████▎                                     | 497/1000 [6:04:21<5:17:50, 37.91s/it]"
     ]
    },
    {
     "name": "stdout",
     "output_type": "stream",
     "text": [
      "\t ----- reward: -62.02108084391219 for f_star and f_minus: 24.29884965820223 , 62.02108084391219\n",
      "\t ---------- State is:  (8, 9)\n",
      "[INFO] [2023-03-01 05:34:37,466] [Advisor] Sample random config. rand_prob=0.100000.\n",
      "[INFO] [2023-03-01 05:35:03,179] [OpenBox-SPO] Iteration 498, objective value: [61.77989361490674].\n"
     ]
    },
    {
     "name": "stderr",
     "output_type": "stream",
     "text": [
      "\r",
      " 50%|█████████████████████████████████████▎                                     | 498/1000 [6:04:46<4:46:35, 34.25s/it]"
     ]
    },
    {
     "name": "stdout",
     "output_type": "stream",
     "text": [
      "\t ----- reward: -61.77989361490674 for f_star and f_minus: 24.29884965820223 , 61.77989361490674\n",
      "\t ---------- State is:  (9, 10)\n",
      "[INFO] [2023-03-01 05:35:50,865] [OpenBox-SPO] Iteration 499, objective value: [34.121751249058406].\n"
     ]
    },
    {
     "name": "stderr",
     "output_type": "stream",
     "text": [
      "\r",
      " 50%|█████████████████████████████████████▍                                     | 499/1000 [6:05:34<5:19:39, 38.28s/it]"
     ]
    },
    {
     "name": "stdout",
     "output_type": "stream",
     "text": [
      "\t ----- reward: -34.121751249058406 for f_star and f_minus: 24.29884965820223 , 34.121751249058406\n",
      "\t ---------- State is:  (10, 10)\n",
      "[INFO] [2023-03-01 05:36:35,090] [OpenBox-SPO] Iteration 500, objective value: [31.564130612618357].\n"
     ]
    },
    {
     "name": "stderr",
     "output_type": "stream",
     "text": [
      "\r",
      " 50%|█████████████████████████████████████▌                                     | 500/1000 [6:06:18<5:33:52, 40.07s/it]"
     ]
    },
    {
     "name": "stdout",
     "output_type": "stream",
     "text": [
      "\t ----- reward: -31.564130612618357 for f_star and f_minus: 24.29884965820223 , 31.564130612618357\n",
      "\t ---------- State is:  (10, 9)\n",
      "[INFO] [2023-03-01 05:37:16,020] [OpenBox-SPO] Iteration 501, objective value: [31.987171405614333].\n"
     ]
    },
    {
     "name": "stderr",
     "output_type": "stream",
     "text": [
      "\r",
      " 50%|█████████████████████████████████████▌                                     | 501/1000 [6:06:59<5:35:22, 40.33s/it]"
     ]
    },
    {
     "name": "stdout",
     "output_type": "stream",
     "text": [
      "\t ----- reward: -31.987171405614333 for f_star and f_minus: 24.29884965820223 , 31.987171405614333\n",
      "\t ---------- State is:  (10, 9)\n",
      "[INFO] [2023-03-01 05:37:58,685] [OpenBox-SPO] Iteration 502, objective value: [41.34255146080614].\n"
     ]
    },
    {
     "name": "stderr",
     "output_type": "stream",
     "text": [
      "\r",
      " 50%|█████████████████████████████████████▋                                     | 502/1000 [6:07:42<5:40:31, 41.03s/it]"
     ]
    },
    {
     "name": "stdout",
     "output_type": "stream",
     "text": [
      "\t ----- reward: -41.34255146080614 for f_star and f_minus: 24.29884965820223 , 41.34255146080614\n",
      "\t ---------- State is:  (10, 9)\n",
      "[INFO] [2023-03-01 05:38:39,237] [OpenBox-SPO] Iteration 503, objective value: [29.043646942492117].\n"
     ]
    },
    {
     "name": "stderr",
     "output_type": "stream",
     "text": [
      "\r",
      " 50%|█████████████████████████████████████▋                                     | 503/1000 [6:08:22<5:38:39, 40.88s/it]"
     ]
    },
    {
     "name": "stdout",
     "output_type": "stream",
     "text": [
      "\t ----- reward: -29.043646942492117 for f_star and f_minus: 24.29884965820223 , 29.043646942492117\n",
      "\t ---------- State is:  (10, 8)\n",
      "[INFO] [2023-03-01 05:39:20,120] [OpenBox-SPO] Iteration 504, objective value: [33.118437967613005].\n"
     ]
    },
    {
     "name": "stderr",
     "output_type": "stream",
     "text": [
      "\r",
      " 50%|█████████████████████████████████████▊                                     | 504/1000 [6:09:03<5:37:58, 40.88s/it]"
     ]
    },
    {
     "name": "stdout",
     "output_type": "stream",
     "text": [
      "\t ----- reward: -33.118437967613005 for f_star and f_minus: 24.29884965820223 , 33.118437967613005\n",
      "\t ---------- State is:  (10, 9)\n",
      "[INFO] [2023-03-01 05:40:07,048] [OpenBox-SPO] Iteration 505, objective value: [29.628030532624223].\n"
     ]
    },
    {
     "name": "stderr",
     "output_type": "stream",
     "text": [
      "\r",
      " 50%|█████████████████████████████████████▉                                     | 505/1000 [6:09:50<5:52:17, 42.70s/it]"
     ]
    },
    {
     "name": "stdout",
     "output_type": "stream",
     "text": [
      "\t ----- reward: -29.628030532624223 for f_star and f_minus: 24.29884965820223 , 29.628030532624223\n",
      "\t ---------- State is:  (10, 9)\n",
      "[INFO] [2023-03-01 05:40:47,774] [OpenBox-SPO] Iteration 506, objective value: [35.17191660671463].\n"
     ]
    },
    {
     "name": "stderr",
     "output_type": "stream",
     "text": [
      "\r",
      " 51%|█████████████████████████████████████▉                                     | 506/1000 [6:10:31<5:46:39, 42.10s/it]"
     ]
    },
    {
     "name": "stdout",
     "output_type": "stream",
     "text": [
      "\t ----- reward: -35.17191660671463 for f_star and f_minus: 24.29884965820223 , 35.17191660671463\n",
      "\t ---------- State is:  (10, 9)\n",
      "[INFO] [2023-03-01 05:41:33,172] [OpenBox-SPO] Iteration 507, objective value: [31.349322527067415].\n"
     ]
    },
    {
     "name": "stderr",
     "output_type": "stream",
     "text": [
      "\r",
      " 51%|██████████████████████████████████████                                     | 507/1000 [6:11:16<5:54:04, 43.09s/it]"
     ]
    },
    {
     "name": "stdout",
     "output_type": "stream",
     "text": [
      "\t ----- reward: -31.349322527067415 for f_star and f_minus: 24.29884965820223 , 31.349322527067415\n",
      "\t ---------- State is:  (10, 8)\n",
      "[INFO] [2023-03-01 05:42:17,960] [OpenBox-SPO] Iteration 508, objective value: [32.952641371025024].\n"
     ]
    },
    {
     "name": "stderr",
     "output_type": "stream",
     "text": [
      "\r",
      " 51%|██████████████████████████████████████                                     | 508/1000 [6:12:01<5:57:31, 43.60s/it]"
     ]
    },
    {
     "name": "stdout",
     "output_type": "stream",
     "text": [
      "\t ----- reward: -32.952641371025024 for f_star and f_minus: 24.29884965820223 , 32.952641371025024\n",
      "\t ---------- State is:  (10, 8)\n",
      "[INFO] [2023-03-01 05:43:01,125] [OpenBox-SPO] Iteration 509, objective value: [31.30564125796873].\n"
     ]
    },
    {
     "name": "stderr",
     "output_type": "stream",
     "text": [
      "\r",
      " 51%|██████████████████████████████████████▏                                    | 509/1000 [6:12:44<5:55:43, 43.47s/it]"
     ]
    },
    {
     "name": "stdout",
     "output_type": "stream",
     "text": [
      "\t ----- reward: -31.30564125796873 for f_star and f_minus: 24.29884965820223 , 31.30564125796873\n",
      "\t ---------- State is:  (10, 7)\n",
      "[INFO] [2023-03-01 05:43:42,552] [OpenBox-SPO] Iteration 510, objective value: [29.98431019649479].\n"
     ]
    },
    {
     "name": "stderr",
     "output_type": "stream",
     "text": [
      "\r",
      " 51%|██████████████████████████████████████▎                                    | 510/1000 [6:13:26<5:50:00, 42.86s/it]"
     ]
    },
    {
     "name": "stdout",
     "output_type": "stream",
     "text": [
      "\t ----- reward: -29.98431019649479 for f_star and f_minus: 24.29884965820223 , 29.98431019649479\n",
      "\t ---------- State is:  (9, 7)\n",
      "[INFO] [2023-03-01 05:44:25,277] [OpenBox-SPO] Iteration 511, objective value: [37.89545633803936].\n"
     ]
    },
    {
     "name": "stderr",
     "output_type": "stream",
     "text": [
      "\r",
      " 51%|██████████████████████████████████████▎                                    | 511/1000 [6:14:08<5:49:00, 42.82s/it]"
     ]
    },
    {
     "name": "stdout",
     "output_type": "stream",
     "text": [
      "\t ----- reward: -37.89545633803936 for f_star and f_minus: 24.29884965820223 , 37.89545633803936\n",
      "\t ---------- State is:  (10, 8)\n",
      "[INFO] [2023-03-01 05:45:09,503] [OpenBox-SPO] Iteration 512, objective value: [32.31849373174043].\n"
     ]
    },
    {
     "name": "stderr",
     "output_type": "stream",
     "text": [
      "\r",
      " 51%|██████████████████████████████████████▍                                    | 512/1000 [6:14:53<5:51:40, 43.24s/it]"
     ]
    },
    {
     "name": "stdout",
     "output_type": "stream",
     "text": [
      "\t ----- reward: -32.31849373174043 for f_star and f_minus: 24.29884965820223 , 32.31849373174043\n",
      "\t ---------- State is:  (9, 7)\n",
      "[INFO] [2023-03-01 05:45:09,503] [Advisor] Sample random config. rand_prob=0.100000.\n",
      "[INFO] [2023-03-01 05:45:36,369] [OpenBox-SPO] Iteration 513, objective value: [65.79037880582686].\n"
     ]
    },
    {
     "name": "stderr",
     "output_type": "stream",
     "text": [
      "\r",
      " 51%|██████████████████████████████████████▍                                    | 513/1000 [6:15:19<5:11:05, 38.33s/it]"
     ]
    },
    {
     "name": "stdout",
     "output_type": "stream",
     "text": [
      "\t ----- reward: -65.79037880582686 for f_star and f_minus: 24.29884965820223 , 65.79037880582686\n",
      "\t ---------- State is:  (8, 8)\n",
      "[INFO] [2023-03-01 05:46:21,033] [OpenBox-SPO] Iteration 514, objective value: [41.365980439134496].\n"
     ]
    },
    {
     "name": "stderr",
     "output_type": "stream",
     "text": [
      "\r",
      " 51%|██████████████████████████████████████▌                                    | 514/1000 [6:16:04<5:25:50, 40.23s/it]"
     ]
    },
    {
     "name": "stdout",
     "output_type": "stream",
     "text": [
      "\t ----- reward: -41.365980439134496 for f_star and f_minus: 24.29884965820223 , 41.365980439134496\n",
      "\t ---------- State is:  (9, 8)\n",
      "[INFO] [2023-03-01 05:47:03,758] [OpenBox-SPO] Iteration 515, objective value: [41.843653944415294].\n"
     ]
    },
    {
     "name": "stderr",
     "output_type": "stream",
     "text": [
      "\r",
      " 52%|██████████████████████████████████████▋                                    | 515/1000 [6:16:47<5:31:13, 40.98s/it]"
     ]
    },
    {
     "name": "stdout",
     "output_type": "stream",
     "text": [
      "\t ----- reward: -41.843653944415294 for f_star and f_minus: 24.29884965820223 , 41.843653944415294\n",
      "\t ---------- State is:  (9, 9)\n",
      "[INFO] [2023-03-01 05:47:44,360] [OpenBox-SPO] Iteration 516, objective value: [35.47631574192303].\n"
     ]
    },
    {
     "name": "stderr",
     "output_type": "stream",
     "text": [
      "\r",
      " 52%|██████████████████████████████████████▋                                    | 516/1000 [6:17:27<5:29:38, 40.86s/it]"
     ]
    },
    {
     "name": "stdout",
     "output_type": "stream",
     "text": [
      "\t ----- reward: -35.47631574192303 for f_star and f_minus: 24.29884965820223 , 35.47631574192303\n",
      "\t ---------- State is:  (8, 9)\n",
      "[INFO] [2023-03-01 05:48:29,001] [OpenBox-SPO] Iteration 517, objective value: [33.17730015171463].\n"
     ]
    },
    {
     "name": "stderr",
     "output_type": "stream",
     "text": [
      "\r",
      " 52%|██████████████████████████████████████▊                                    | 517/1000 [6:18:12<5:38:04, 42.00s/it]"
     ]
    },
    {
     "name": "stdout",
     "output_type": "stream",
     "text": [
      "\t ----- reward: -33.17730015171463 for f_star and f_minus: 24.29884965820223 , 33.17730015171463\n",
      "\t ---------- State is:  (8, 8)\n",
      "[INFO] [2023-03-01 05:49:07,522] [OpenBox-SPO] Iteration 518, objective value: [27.88805056834697].\n"
     ]
    },
    {
     "name": "stderr",
     "output_type": "stream",
     "text": [
      "\r",
      " 52%|██████████████████████████████████████▊                                    | 518/1000 [6:18:51<5:29:00, 40.95s/it]"
     ]
    },
    {
     "name": "stdout",
     "output_type": "stream",
     "text": [
      "\t ----- reward: -27.88805056834697 for f_star and f_minus: 24.29884965820223 , 27.88805056834697\n",
      "\t ---------- State is:  (7, 8)\n",
      "[INFO] [2023-03-01 05:49:49,466] [OpenBox-SPO] Iteration 519, objective value: [30.345465097667017].\n"
     ]
    },
    {
     "name": "stderr",
     "output_type": "stream",
     "text": [
      "\r",
      " 52%|██████████████████████████████████████▉                                    | 519/1000 [6:19:33<5:30:41, 41.25s/it]"
     ]
    },
    {
     "name": "stdout",
     "output_type": "stream",
     "text": [
      "\t ----- reward: -30.345465097667017 for f_star and f_minus: 24.29884965820223 , 30.345465097667017\n",
      "\t ---------- State is:  (7, 8)\n",
      "[INFO] [2023-03-01 05:50:33,768] [OpenBox-SPO] Iteration 520, objective value: [30.27252360326871].\n"
     ]
    },
    {
     "name": "stderr",
     "output_type": "stream",
     "text": [
      "\r",
      " 52%|███████████████████████████████████████                                    | 520/1000 [6:20:17<5:37:19, 42.17s/it]"
     ]
    },
    {
     "name": "stdout",
     "output_type": "stream",
     "text": [
      "\t ----- reward: -30.27252360326871 for f_star and f_minus: 24.29884965820223 , 30.27252360326871\n",
      "\t ---------- State is:  (8, 8)\n",
      "[INFO] [2023-03-01 05:51:14,601] [OpenBox-SPO] Iteration 521, objective value: [35.84289763282].\n"
     ]
    },
    {
     "name": "stderr",
     "output_type": "stream",
     "text": [
      "\r",
      " 52%|███████████████████████████████████████                                    | 521/1000 [6:20:58<5:33:26, 41.77s/it]"
     ]
    },
    {
     "name": "stdout",
     "output_type": "stream",
     "text": [
      "\t ----- reward: -35.84289763282 for f_star and f_minus: 24.29884965820223 , 35.84289763282\n",
      "\t ---------- State is:  (8, 8)\n",
      "[INFO] [2023-03-01 05:51:55,643] [OpenBox-SPO] Iteration 522, objective value: [28.478756325994965].\n"
     ]
    },
    {
     "name": "stderr",
     "output_type": "stream",
     "text": [
      "\r",
      " 52%|███████████████████████████████████████▏                                   | 522/1000 [6:21:39<5:31:00, 41.55s/it]"
     ]
    },
    {
     "name": "stdout",
     "output_type": "stream",
     "text": [
      "\t ----- reward: -28.478756325994965 for f_star and f_minus: 24.29884965820223 , 28.478756325994965\n",
      "\t ---------- State is:  (7, 8)\n",
      "[INFO] [2023-03-01 05:52:38,508] [OpenBox-SPO] Iteration 523, objective value: [41.92626369255461].\n"
     ]
    },
    {
     "name": "stderr",
     "output_type": "stream",
     "text": [
      "\r",
      " 52%|███████████████████████████████████████▏                                   | 523/1000 [6:22:22<5:33:27, 41.94s/it]"
     ]
    },
    {
     "name": "stdout",
     "output_type": "stream",
     "text": [
      "\t ----- reward: -41.92626369255461 for f_star and f_minus: 24.29884965820223 , 41.92626369255461\n",
      "\t ---------- State is:  (7, 8)\n",
      "[INFO] [2023-03-01 05:53:21,671] [OpenBox-SPO] Iteration 524, objective value: [35.1416944408675].\n"
     ]
    },
    {
     "name": "stderr",
     "output_type": "stream",
     "text": [
      "\r",
      " 52%|███████████████████████████████████████▎                                   | 524/1000 [6:23:05<5:35:39, 42.31s/it]"
     ]
    },
    {
     "name": "stdout",
     "output_type": "stream",
     "text": [
      "\t ----- reward: -35.1416944408675 for f_star and f_minus: 24.29884965820223 , 35.1416944408675\n",
      "\t ---------- State is:  (8, 8)\n",
      "[INFO] [2023-03-01 05:54:03,926] [OpenBox-SPO] Iteration 525, objective value: [28.97541440391136].\n"
     ]
    },
    {
     "name": "stderr",
     "output_type": "stream",
     "text": [
      "\r",
      " 52%|███████████████████████████████████████▍                                   | 525/1000 [6:23:47<5:34:49, 42.29s/it]"
     ]
    },
    {
     "name": "stdout",
     "output_type": "stream",
     "text": [
      "\t ----- reward: -28.97541440391136 for f_star and f_minus: 24.29884965820223 , 28.97541440391136\n",
      "\t ---------- State is:  (7, 8)\n",
      "[INFO] [2023-03-01 05:54:42,216] [OpenBox-SPO] Iteration 526, objective value: [34.1873235223422].\n"
     ]
    },
    {
     "name": "stderr",
     "output_type": "stream",
     "text": [
      "\r",
      " 53%|███████████████████████████████████████▍                                   | 526/1000 [6:24:25<5:24:37, 41.09s/it]"
     ]
    },
    {
     "name": "stdout",
     "output_type": "stream",
     "text": [
      "\t ----- reward: -34.1873235223422 for f_star and f_minus: 24.29884965820223 , 34.1873235223422\n",
      "\t ---------- State is:  (6, 8)\n",
      "[INFO] [2023-03-01 05:55:22,884] [OpenBox-SPO] Iteration 527, objective value: [39.66118945284139].\n"
     ]
    },
    {
     "name": "stderr",
     "output_type": "stream",
     "text": [
      "\r",
      " 53%|███████████████████████████████████████▌                                   | 527/1000 [6:25:06<5:22:58, 40.97s/it]"
     ]
    },
    {
     "name": "stdout",
     "output_type": "stream",
     "text": [
      "\t ----- reward: -39.66118945284139 for f_star and f_minus: 24.29884965820223 , 39.66118945284139\n",
      "\t ---------- State is:  (5, 9)\n",
      "[INFO] [2023-03-01 05:56:04,452] [OpenBox-SPO] Iteration 528, objective value: [42.879980912655704].\n"
     ]
    },
    {
     "name": "stderr",
     "output_type": "stream",
     "text": [
      "\r",
      " 53%|███████████████████████████████████████▌                                   | 528/1000 [6:25:48<5:23:40, 41.14s/it]"
     ]
    },
    {
     "name": "stdout",
     "output_type": "stream",
     "text": [
      "\t ----- reward: -42.879980912655704 for f_star and f_minus: 24.29884965820223 , 42.879980912655704\n",
      "\t ---------- State is:  (5, 10)\n",
      "[INFO] [2023-03-01 05:56:44,023] [OpenBox-SPO] Iteration 529, objective value: [39.552781925338266].\n"
     ]
    },
    {
     "name": "stderr",
     "output_type": "stream",
     "text": [
      "\r",
      " 53%|███████████████████████████████████████▋                                   | 529/1000 [6:26:27<5:19:16, 40.67s/it]"
     ]
    },
    {
     "name": "stdout",
     "output_type": "stream",
     "text": [
      "\t ----- reward: -39.552781925338266 for f_star and f_minus: 24.29884965820223 , 39.552781925338266\n",
      "\t ---------- State is:  (5, 11)\n",
      "[INFO] [2023-03-01 05:57:24,372] [OpenBox-SPO] Iteration 530, objective value: [43.8070477915278].\n"
     ]
    },
    {
     "name": "stderr",
     "output_type": "stream",
     "text": [
      "\r",
      " 53%|███████████████████████████████████████▊                                   | 530/1000 [6:27:07<5:17:50, 40.58s/it]"
     ]
    },
    {
     "name": "stdout",
     "output_type": "stream",
     "text": [
      "\t ----- reward: -43.8070477915278 for f_star and f_minus: 24.29884965820223 , 43.8070477915278\n",
      "\t ---------- State is:  (5, 11)\n",
      "[INFO] [2023-03-01 05:58:08,113] [OpenBox-SPO] Iteration 531, objective value: [40.60529223698764].\n"
     ]
    },
    {
     "name": "stderr",
     "output_type": "stream",
     "text": [
      "\r",
      " 53%|███████████████████████████████████████▊                                   | 531/1000 [6:27:51<5:24:35, 41.53s/it]"
     ]
    },
    {
     "name": "stdout",
     "output_type": "stream",
     "text": [
      "\t ----- reward: -40.60529223698764 for f_star and f_minus: 24.29884965820223 , 40.60529223698764\n",
      "\t ---------- State is:  (6, 11)\n",
      "[INFO] [2023-03-01 05:58:48,826] [OpenBox-SPO] Iteration 532, objective value: [30.929667255852323].\n"
     ]
    },
    {
     "name": "stderr",
     "output_type": "stream",
     "text": [
      "\r",
      " 53%|███████████████████████████████████████▉                                   | 532/1000 [6:28:32<5:21:59, 41.28s/it]"
     ]
    },
    {
     "name": "stdout",
     "output_type": "stream",
     "text": [
      "\t ----- reward: -30.929667255852323 for f_star and f_minus: 24.29884965820223 , 30.929667255852323\n",
      "\t ---------- State is:  (7, 11)\n",
      "[INFO] [2023-03-01 05:59:37,541] [OpenBox-SPO] Iteration 533, objective value: [29.97311589150928].\n"
     ]
    },
    {
     "name": "stderr",
     "output_type": "stream",
     "text": [
      "\r",
      " 53%|███████████████████████████████████████▉                                   | 533/1000 [6:29:21<5:38:39, 43.51s/it]"
     ]
    },
    {
     "name": "stdout",
     "output_type": "stream",
     "text": [
      "\t ----- reward: -29.97311589150928 for f_star and f_minus: 24.29884965820223 , 29.97311589150928\n",
      "\t ---------- State is:  (7, 11)\n",
      "[INFO] [2023-03-01 06:00:19,531] [OpenBox-SPO] Iteration 534, objective value: [29.83002760637015].\n"
     ]
    },
    {
     "name": "stderr",
     "output_type": "stream",
     "text": [
      "\r",
      " 53%|████████████████████████████████████████                                   | 534/1000 [6:30:03<5:34:23, 43.06s/it]"
     ]
    },
    {
     "name": "stdout",
     "output_type": "stream",
     "text": [
      "\t ----- reward: -29.83002760637015 for f_star and f_minus: 24.29884965820223 , 29.83002760637015\n",
      "\t ---------- State is:  (8, 10)\n",
      "[INFO] [2023-03-01 06:01:00,708] [OpenBox-SPO] Iteration 535, objective value: [34.879216162025386].\n"
     ]
    },
    {
     "name": "stderr",
     "output_type": "stream",
     "text": [
      "\r",
      " 54%|████████████████████████████████████████▏                                  | 535/1000 [6:30:44<5:29:18, 42.49s/it]"
     ]
    },
    {
     "name": "stdout",
     "output_type": "stream",
     "text": [
      "\t ----- reward: -34.879216162025386 for f_star and f_minus: 24.29884965820223 , 34.879216162025386\n",
      "\t ---------- State is:  (9, 10)\n",
      "[INFO] [2023-03-01 06:01:42,531] [OpenBox-SPO] Iteration 536, objective value: [29.013819754475207].\n"
     ]
    },
    {
     "name": "stderr",
     "output_type": "stream",
     "text": [
      "\r",
      " 54%|████████████████████████████████████████▏                                  | 536/1000 [6:31:26<5:27:03, 42.29s/it]"
     ]
    },
    {
     "name": "stdout",
     "output_type": "stream",
     "text": [
      "\t ----- reward: -29.013819754475207 for f_star and f_minus: 24.29884965820223 , 29.013819754475207\n",
      "\t ---------- State is:  (8, 9)\n",
      "[INFO] [2023-03-01 06:02:26,853] [OpenBox-SPO] Iteration 537, objective value: [30.93271314316486].\n"
     ]
    },
    {
     "name": "stderr",
     "output_type": "stream",
     "text": [
      "\r",
      " 54%|████████████████████████████████████████▎                                  | 537/1000 [6:32:10<5:31:02, 42.90s/it]"
     ]
    },
    {
     "name": "stdout",
     "output_type": "stream",
     "text": [
      "\t ----- reward: -30.93271314316486 for f_star and f_minus: 24.29884965820223 , 30.93271314316486\n",
      "\t ---------- State is:  (7, 8)\n",
      "[INFO] [2023-03-01 06:03:12,187] [OpenBox-SPO] Iteration 538, objective value: [42.27886560089444].\n"
     ]
    },
    {
     "name": "stderr",
     "output_type": "stream",
     "text": [
      "\r",
      " 54%|████████████████████████████████████████▎                                  | 538/1000 [6:32:55<5:35:57, 43.63s/it]"
     ]
    },
    {
     "name": "stdout",
     "output_type": "stream",
     "text": [
      "\t ----- reward: -42.27886560089444 for f_star and f_minus: 24.29884965820223 , 42.27886560089444\n",
      "\t ---------- State is:  (8, 10)\n",
      "[INFO] [2023-03-01 06:03:50,413] [OpenBox-SPO] Iteration 539, objective value: [31.413424981506537].\n"
     ]
    },
    {
     "name": "stderr",
     "output_type": "stream",
     "text": [
      "\r",
      " 54%|████████████████████████████████████████▍                                  | 539/1000 [6:33:33<5:22:46, 42.01s/it]"
     ]
    },
    {
     "name": "stdout",
     "output_type": "stream",
     "text": [
      "\t ----- reward: -31.413424981506537 for f_star and f_minus: 24.29884965820223 , 31.413424981506537\n",
      "\t ---------- State is:  (7, 10)\n",
      "[INFO] [2023-03-01 06:04:33,810] [OpenBox-SPO] Iteration 540, objective value: [33.76248385682398].\n"
     ]
    },
    {
     "name": "stderr",
     "output_type": "stream",
     "text": [
      "\r",
      " 54%|████████████████████████████████████████▌                                  | 540/1000 [6:34:17<5:25:15, 42.43s/it]"
     ]
    },
    {
     "name": "stdout",
     "output_type": "stream",
     "text": [
      "\t ----- reward: -33.76248385682398 for f_star and f_minus: 24.29884965820223 , 33.76248385682398\n",
      "\t ---------- State is:  (6, 10)\n",
      "[INFO] [2023-03-01 06:05:17,331] [OpenBox-SPO] Iteration 541, objective value: [32.372641558790676].\n"
     ]
    },
    {
     "name": "stderr",
     "output_type": "stream",
     "text": [
      "\r",
      " 54%|████████████████████████████████████████▌                                  | 541/1000 [6:35:00<5:27:04, 42.75s/it]"
     ]
    },
    {
     "name": "stdout",
     "output_type": "stream",
     "text": [
      "\t ----- reward: -32.372641558790676 for f_star and f_minus: 24.29884965820223 , 32.372641558790676\n",
      "\t ---------- State is:  (7, 9)\n",
      "[INFO] [2023-03-01 06:05:57,339] [OpenBox-SPO] Iteration 542, objective value: [43.95585122510658].\n"
     ]
    },
    {
     "name": "stderr",
     "output_type": "stream",
     "text": [
      "\r",
      " 54%|████████████████████████████████████████▋                                  | 542/1000 [6:35:40<5:20:04, 41.93s/it]"
     ]
    },
    {
     "name": "stdout",
     "output_type": "stream",
     "text": [
      "\t ----- reward: -43.95585122510658 for f_star and f_minus: 24.29884965820223 , 43.95585122510658\n",
      "\t ---------- State is:  (7, 10)\n",
      "[INFO] [2023-03-01 06:06:37,282] [OpenBox-SPO] Iteration 543, objective value: [29.68188669018717].\n"
     ]
    },
    {
     "name": "stderr",
     "output_type": "stream",
     "text": [
      "\r",
      " 54%|████████████████████████████████████████▋                                  | 543/1000 [6:36:20<5:14:49, 41.33s/it]"
     ]
    },
    {
     "name": "stdout",
     "output_type": "stream",
     "text": [
      "\t ----- reward: -29.68188669018717 for f_star and f_minus: 24.29884965820223 , 29.68188669018717\n",
      "\t ---------- State is:  (7, 9)\n",
      "[INFO] [2023-03-01 06:07:21,054] [OpenBox-SPO] Iteration 544, objective value: [32.98364829419708].\n"
     ]
    },
    {
     "name": "stderr",
     "output_type": "stream",
     "text": [
      "\r",
      " 54%|████████████████████████████████████████▊                                  | 544/1000 [6:37:04<5:19:41, 42.07s/it]"
     ]
    },
    {
     "name": "stdout",
     "output_type": "stream",
     "text": [
      "\t ----- reward: -32.98364829419708 for f_star and f_minus: 24.29884965820223 , 32.98364829419708\n",
      "\t ---------- State is:  (6, 9)\n",
      "[INFO] [2023-03-01 06:08:01,921] [OpenBox-SPO] Iteration 545, objective value: [28.684058818668177].\n"
     ]
    },
    {
     "name": "stderr",
     "output_type": "stream",
     "text": [
      "\r",
      " 55%|████████████████████████████████████████▉                                  | 545/1000 [6:37:45<5:16:16, 41.71s/it]"
     ]
    },
    {
     "name": "stdout",
     "output_type": "stream",
     "text": [
      "\t ----- reward: -28.684058818668177 for f_star and f_minus: 24.29884965820223 , 28.684058818668177\n",
      "\t ---------- State is:  (6, 9)\n",
      "[INFO] [2023-03-01 06:08:44,802] [OpenBox-SPO] Iteration 546, objective value: [39.80362905095954].\n"
     ]
    },
    {
     "name": "stderr",
     "output_type": "stream",
     "text": [
      "\r",
      " 55%|████████████████████████████████████████▉                                  | 546/1000 [6:38:28<5:18:14, 42.06s/it]"
     ]
    },
    {
     "name": "stdout",
     "output_type": "stream",
     "text": [
      "\t ----- reward: -39.80362905095954 for f_star and f_minus: 24.29884965820223 , 39.80362905095954\n",
      "\t ---------- State is:  (7, 9)\n",
      "[INFO] [2023-03-01 06:09:24,400] [OpenBox-SPO] Iteration 547, objective value: [43.81897450886786].\n"
     ]
    },
    {
     "name": "stderr",
     "output_type": "stream",
     "text": [
      "\r",
      " 55%|█████████████████████████████████████████                                  | 547/1000 [6:39:07<5:11:58, 41.32s/it]"
     ]
    },
    {
     "name": "stdout",
     "output_type": "stream",
     "text": [
      "\t ----- reward: -43.81897450886786 for f_star and f_minus: 24.29884965820223 , 43.81897450886786\n",
      "\t ---------- State is:  (7, 9)\n",
      "[INFO] [2023-03-01 06:09:24,400] [Advisor] Sample random config. rand_prob=0.100000.\n",
      "[INFO] [2023-03-01 06:10:00,682] [OpenBox-SPO] Iteration 548, objective value: [47.727289797063676].\n"
     ]
    },
    {
     "name": "stderr",
     "output_type": "stream",
     "text": [
      "\r",
      " 55%|█████████████████████████████████████████                                  | 548/1000 [6:39:44<4:59:55, 39.81s/it]"
     ]
    },
    {
     "name": "stdout",
     "output_type": "stream",
     "text": [
      "\t ----- reward: -47.727289797063676 for f_star and f_minus: 24.29884965820223 , 47.727289797063676\n",
      "\t ---------- State is:  (6, 9)\n",
      "[INFO] [2023-03-01 06:10:00,698] [Advisor] Sample random config. rand_prob=0.100000.\n",
      "[INFO] [2023-03-01 06:10:28,716] [OpenBox-SPO] Iteration 549, objective value: [60.04572385003234].\n"
     ]
    },
    {
     "name": "stderr",
     "output_type": "stream",
     "text": [
      "\r",
      " 55%|█████████████████████████████████████████▏                                 | 549/1000 [6:40:12<4:32:39, 36.27s/it]"
     ]
    },
    {
     "name": "stdout",
     "output_type": "stream",
     "text": [
      "\t ----- reward: -60.04572385003234 for f_star and f_minus: 24.29884965820223 , 60.04572385003234\n",
      "\t ---------- State is:  (5, 9)\n",
      "[INFO] [2023-03-01 06:11:12,268] [OpenBox-SPO] Iteration 550, objective value: [43.855737094062654].\n"
     ]
    },
    {
     "name": "stderr",
     "output_type": "stream",
     "text": [
      "\r",
      " 55%|█████████████████████████████████████████▎                                 | 550/1000 [6:40:55<4:48:26, 38.46s/it]"
     ]
    },
    {
     "name": "stdout",
     "output_type": "stream",
     "text": [
      "\t ----- reward: -43.855737094062654 for f_star and f_minus: 24.29884965820223 , 43.855737094062654\n",
      "\t ---------- State is:  (4, 9)\n",
      "[INFO] [2023-03-01 06:11:50,355] [OpenBox-SPO] Iteration 551, objective value: [35.590567436109026].\n"
     ]
    },
    {
     "name": "stderr",
     "output_type": "stream",
     "text": [
      "\r",
      " 55%|█████████████████████████████████████████▎                                 | 551/1000 [6:41:33<4:46:57, 38.35s/it]"
     ]
    },
    {
     "name": "stdout",
     "output_type": "stream",
     "text": [
      "\t ----- reward: -35.590567436109026 for f_star and f_minus: 24.29884965820223 , 35.590567436109026\n",
      "\t ---------- State is:  (5, 9)\n",
      "[INFO] [2023-03-01 06:12:31,336] [OpenBox-SPO] Iteration 552, objective value: [30.40184662406334].\n"
     ]
    },
    {
     "name": "stderr",
     "output_type": "stream",
     "text": [
      "\r",
      " 55%|█████████████████████████████████████████▍                                 | 552/1000 [6:42:14<4:52:13, 39.14s/it]"
     ]
    },
    {
     "name": "stdout",
     "output_type": "stream",
     "text": [
      "\t ----- reward: -30.40184662406334 for f_star and f_minus: 24.29884965820223 , 30.40184662406334\n",
      "\t ---------- State is:  (4, 9)\n",
      "[INFO] [2023-03-01 06:13:13,874] [OpenBox-SPO] Iteration 553, objective value: [38.702554068245675].\n"
     ]
    },
    {
     "name": "stderr",
     "output_type": "stream",
     "text": [
      "\r",
      " 55%|█████████████████████████████████████████▍                                 | 553/1000 [6:42:57<4:59:10, 40.16s/it]"
     ]
    },
    {
     "name": "stdout",
     "output_type": "stream",
     "text": [
      "\t ----- reward: -38.702554068245675 for f_star and f_minus: 24.29884965820223 , 38.702554068245675\n",
      "\t ---------- State is:  (3, 10)\n",
      "[INFO] [2023-03-01 06:13:53,585] [OpenBox-SPO] Iteration 554, objective value: [35.39307003625453].\n"
     ]
    },
    {
     "name": "stderr",
     "output_type": "stream",
     "text": [
      "\r",
      " 55%|█████████████████████████████████████████▌                                 | 554/1000 [6:43:37<4:57:30, 40.02s/it]"
     ]
    },
    {
     "name": "stdout",
     "output_type": "stream",
     "text": [
      "\t ----- reward: -35.39307003625453 for f_star and f_minus: 24.29884965820223 , 35.39307003625453\n",
      "\t ---------- State is:  (3, 10)\n",
      "[INFO] [2023-03-01 06:14:44,890] [OpenBox-SPO] Iteration 555, objective value: [36.648427044128475].\n"
     ]
    },
    {
     "name": "stderr",
     "output_type": "stream",
     "text": [
      "\r",
      " 56%|█████████████████████████████████████████▋                                 | 555/1000 [6:44:28<5:21:56, 43.41s/it]"
     ]
    },
    {
     "name": "stdout",
     "output_type": "stream",
     "text": [
      "\t ----- reward: -36.648427044128475 for f_star and f_minus: 24.29884965820223 , 36.648427044128475\n",
      "\t ---------- State is:  (2, 11)\n",
      "[INFO] [2023-03-01 06:15:29,170] [OpenBox-SPO] Iteration 556, objective value: [37.645356588825365].\n"
     ]
    },
    {
     "name": "stderr",
     "output_type": "stream",
     "text": [
      "\r",
      " 56%|█████████████████████████████████████████▋                                 | 556/1000 [6:45:12<5:23:09, 43.67s/it]"
     ]
    },
    {
     "name": "stdout",
     "output_type": "stream",
     "text": [
      "\t ----- reward: -37.645356588825365 for f_star and f_minus: 24.29884965820223 , 37.645356588825365\n",
      "\t ---------- State is:  (2, 11)\n",
      "[INFO] [2023-03-01 06:16:11,896] [OpenBox-SPO] Iteration 557, objective value: [32.64706769552021].\n"
     ]
    },
    {
     "name": "stderr",
     "output_type": "stream",
     "text": [
      "\r",
      " 56%|█████████████████████████████████████████▊                                 | 557/1000 [6:45:55<5:20:20, 43.39s/it]"
     ]
    },
    {
     "name": "stdout",
     "output_type": "stream",
     "text": [
      "\t ----- reward: -32.64706769552021 for f_star and f_minus: 24.29884965820223 , 32.64706769552021\n",
      "\t ---------- State is:  (1, 11)\n",
      "[INFO] [2023-03-01 06:16:51,672] [OpenBox-SPO] Iteration 558, objective value: [40.37503818628586].\n"
     ]
    },
    {
     "name": "stderr",
     "output_type": "stream",
     "text": [
      "\r",
      " 56%|█████████████████████████████████████████▊                                 | 558/1000 [6:46:35<5:11:38, 42.30s/it]"
     ]
    },
    {
     "name": "stdout",
     "output_type": "stream",
     "text": [
      "\t ----- reward: -40.37503818628586 for f_star and f_minus: 24.29884965820223 , 40.37503818628586\n",
      "\t ---------- State is:  (1, 11)\n",
      "[INFO] [2023-03-01 06:17:33,057] [OpenBox-SPO] Iteration 559, objective value: [42.47070771743192].\n"
     ]
    },
    {
     "name": "stderr",
     "output_type": "stream",
     "text": [
      "\r",
      " 56%|█████████████████████████████████████████▉                                 | 559/1000 [6:47:16<5:08:54, 42.03s/it]"
     ]
    },
    {
     "name": "stdout",
     "output_type": "stream",
     "text": [
      "\t ----- reward: -42.47070771743192 for f_star and f_minus: 24.29884965820223 , 42.47070771743192\n",
      "\t ---------- State is:  (0, 12)\n",
      "[INFO] [2023-03-01 06:18:15,172] [OpenBox-SPO] Iteration 560, objective value: [42.334608402129234].\n"
     ]
    },
    {
     "name": "stderr",
     "output_type": "stream",
     "text": [
      "\r",
      " 56%|██████████████████████████████████████████                                 | 560/1000 [6:47:58<5:08:23, 42.05s/it]"
     ]
    },
    {
     "name": "stdout",
     "output_type": "stream",
     "text": [
      "\t ----- reward: -42.334608402129234 for f_star and f_minus: 24.29884965820223 , 42.334608402129234\n",
      "\t ---------- State is:  (1, 13)\n",
      "[INFO] [2023-03-01 06:18:57,196] [OpenBox-SPO] Iteration 561, objective value: [31.058301016126137].\n"
     ]
    },
    {
     "name": "stderr",
     "output_type": "stream",
     "text": [
      "\r",
      " 56%|██████████████████████████████████████████                                 | 561/1000 [6:48:40<5:07:37, 42.04s/it]"
     ]
    },
    {
     "name": "stdout",
     "output_type": "stream",
     "text": [
      "\t ----- reward: -31.058301016126137 for f_star and f_minus: 24.29884965820223 , 31.058301016126137\n",
      "\t ---------- State is:  (2, 13)\n",
      "[INFO] [2023-03-01 06:19:39,529] [OpenBox-SPO] Iteration 562, objective value: [45.72667802242296].\n"
     ]
    },
    {
     "name": "stderr",
     "output_type": "stream",
     "text": [
      "\r",
      " 56%|██████████████████████████████████████████▏                                | 562/1000 [6:49:23<5:07:33, 42.13s/it]"
     ]
    },
    {
     "name": "stdout",
     "output_type": "stream",
     "text": [
      "\t ----- reward: -45.72667802242296 for f_star and f_minus: 24.29884965820223 , 45.72667802242296\n",
      "\t ---------- State is:  (1, 13)\n",
      "[INFO] [2023-03-01 06:20:18,376] [OpenBox-SPO] Iteration 563, objective value: [45.01926984917909].\n"
     ]
    },
    {
     "name": "stderr",
     "output_type": "stream",
     "text": [
      "\r",
      " 56%|██████████████████████████████████████████▏                                | 563/1000 [6:50:01<4:59:40, 41.15s/it]"
     ]
    },
    {
     "name": "stdout",
     "output_type": "stream",
     "text": [
      "\t ----- reward: -45.01926984917909 for f_star and f_minus: 24.29884965820223 , 45.01926984917909\n",
      "\t ---------- State is:  (0, 14)\n",
      "[INFO] [2023-03-01 06:21:03,070] [OpenBox-SPO] Iteration 564, objective value: [35.19778891904015].\n"
     ]
    },
    {
     "name": "stderr",
     "output_type": "stream",
     "text": [
      "\r",
      " 56%|██████████████████████████████████████████▎                                | 564/1000 [6:50:46<5:06:43, 42.21s/it]"
     ]
    },
    {
     "name": "stdout",
     "output_type": "stream",
     "text": [
      "\t ----- reward: -35.19778891904015 for f_star and f_minus: 24.29884965820223 , 35.19778891904015\n",
      "\t ---------- State is:  (1, 14)\n",
      "[INFO] [2023-03-01 06:21:41,516] [OpenBox-SPO] Iteration 565, objective value: [34.401776036583115].\n"
     ]
    },
    {
     "name": "stderr",
     "output_type": "stream",
     "text": [
      "\r",
      " 56%|██████████████████████████████████████████▎                                | 565/1000 [6:51:25<4:57:50, 41.08s/it]"
     ]
    },
    {
     "name": "stdout",
     "output_type": "stream",
     "text": [
      "\t ----- reward: -34.401776036583115 for f_star and f_minus: 24.29884965820223 , 34.401776036583115\n",
      "\t ---------- State is:  (2, 14)\n",
      "[INFO] [2023-03-01 06:22:22,053] [OpenBox-SPO] Iteration 566, objective value: [24.984325364214826].\n"
     ]
    },
    {
     "name": "stderr",
     "output_type": "stream",
     "text": [
      "\r",
      " 57%|██████████████████████████████████████████▍                                | 566/1000 [6:52:05<4:55:58, 40.92s/it]"
     ]
    },
    {
     "name": "stdout",
     "output_type": "stream",
     "text": [
      "\t ----- reward: -24.984325364214826 for f_star and f_minus: 24.29884965820223 , 24.984325364214826\n",
      "\t ---------- State is:  (1, 13)\n",
      "[INFO] [2023-03-01 06:23:03,199] [OpenBox-SPO] Iteration 567, objective value: [33.036886253966685].\n"
     ]
    },
    {
     "name": "stderr",
     "output_type": "stream",
     "text": [
      "\r",
      " 57%|██████████████████████████████████████████▌                                | 567/1000 [6:52:46<4:55:47, 40.99s/it]"
     ]
    },
    {
     "name": "stdout",
     "output_type": "stream",
     "text": [
      "\t ----- reward: -33.036886253966685 for f_star and f_minus: 24.29884965820223 , 33.036886253966685\n",
      "\t ---------- State is:  (1, 12)\n",
      "[INFO] [2023-03-01 06:23:42,270] [OpenBox-SPO] Iteration 568, objective value: [34.754271870704386].\n"
     ]
    },
    {
     "name": "stderr",
     "output_type": "stream",
     "text": [
      "\r",
      " 57%|██████████████████████████████████████████▌                                | 568/1000 [6:53:25<4:50:57, 40.41s/it]"
     ]
    },
    {
     "name": "stdout",
     "output_type": "stream",
     "text": [
      "\t ----- reward: -34.754271870704386 for f_star and f_minus: 24.29884965820223 , 34.754271870704386\n",
      "\t ---------- State is:  (1, 11)\n",
      "[INFO] [2023-03-01 06:24:22,977] [OpenBox-SPO] Iteration 569, objective value: [27.885568606087176].\n"
     ]
    },
    {
     "name": "stderr",
     "output_type": "stream",
     "text": [
      "\r",
      " 57%|██████████████████████████████████████████▋                                | 569/1000 [6:54:06<4:50:55, 40.50s/it]"
     ]
    },
    {
     "name": "stdout",
     "output_type": "stream",
     "text": [
      "\t ----- reward: -27.885568606087176 for f_star and f_minus: 24.29884965820223 , 27.885568606087176\n",
      "\t ---------- State is:  (1, 11)\n",
      "[INFO] [2023-03-01 06:25:05,544] [OpenBox-SPO] Iteration 570, objective value: [36.532407538589176].\n"
     ]
    },
    {
     "name": "stderr",
     "output_type": "stream",
     "text": [
      "\r",
      " 57%|██████████████████████████████████████████▋                                | 570/1000 [6:54:49<4:54:41, 41.12s/it]"
     ]
    },
    {
     "name": "stdout",
     "output_type": "stream",
     "text": [
      "\t ----- reward: -36.532407538589176 for f_star and f_minus: 24.29884965820223 , 36.532407538589176\n",
      "\t ---------- State is:  (0, 11)\n",
      "[INFO] [2023-03-01 06:25:47,490] [OpenBox-SPO] Iteration 571, objective value: [32.0846589148659].\n"
     ]
    },
    {
     "name": "stderr",
     "output_type": "stream",
     "text": [
      "\r",
      " 57%|██████████████████████████████████████████▊                                | 571/1000 [6:55:31<4:55:46, 41.37s/it]"
     ]
    },
    {
     "name": "stdout",
     "output_type": "stream",
     "text": [
      "\t ----- reward: -32.0846589148659 for f_star and f_minus: 24.29884965820223 , 32.0846589148659\n",
      "\t ---------- State is:  (0, 10)\n",
      "[INFO] [2023-03-01 06:25:47,490] [Advisor] Sample random config. rand_prob=0.100000.\n",
      "[INFO] [2023-03-01 06:26:22,977] [OpenBox-SPO] Iteration 572, objective value: [57.490713361879855].\n"
     ]
    },
    {
     "name": "stderr",
     "output_type": "stream",
     "text": [
      "\r",
      " 57%|██████████████████████████████████████████▉                                | 572/1000 [6:56:06<4:42:30, 39.60s/it]"
     ]
    },
    {
     "name": "stdout",
     "output_type": "stream",
     "text": [
      "\t ----- reward: -57.490713361879855 for f_star and f_minus: 24.29884965820223 , 57.490713361879855\n",
      "\t ---------- State is:  (0, 11)\n",
      "[INFO] [2023-03-01 06:26:22,977] [Advisor] Sample random config. rand_prob=0.100000.\n",
      "[INFO] [2023-03-01 06:26:46,983] [OpenBox-SPO] Iteration 573, objective value: [66.77581382821387].\n"
     ]
    },
    {
     "name": "stderr",
     "output_type": "stream",
     "text": [
      "\r",
      " 57%|██████████████████████████████████████████▉                                | 573/1000 [6:56:30<4:08:32, 34.92s/it]"
     ]
    },
    {
     "name": "stdout",
     "output_type": "stream",
     "text": [
      "\t ----- reward: -66.77581382821387 for f_star and f_minus: 24.29884965820223 , 66.77581382821387\n",
      "\t ---------- State is:  (0, 11)\n",
      "[INFO] [2023-03-01 06:27:35,646] [OpenBox-SPO] Iteration 574, objective value: [33.92579284342719].\n"
     ]
    },
    {
     "name": "stderr",
     "output_type": "stream",
     "text": [
      "\r",
      " 57%|███████████████████████████████████████████                                | 574/1000 [6:57:19<4:37:13, 39.05s/it]"
     ]
    },
    {
     "name": "stdout",
     "output_type": "stream",
     "text": [
      "\t ----- reward: -33.92579284342719 for f_star and f_minus: 24.29884965820223 , 33.92579284342719\n",
      "\t ---------- State is:  (1, 11)\n",
      "[INFO] [2023-03-01 06:28:18,010] [OpenBox-SPO] Iteration 575, objective value: [34.11335628119765].\n"
     ]
    },
    {
     "name": "stderr",
     "output_type": "stream",
     "text": [
      "\r",
      " 57%|███████████████████████████████████████████▏                               | 575/1000 [6:58:01<4:43:37, 40.04s/it]"
     ]
    },
    {
     "name": "stdout",
     "output_type": "stream",
     "text": [
      "\t ----- reward: -34.11335628119765 for f_star and f_minus: 24.29884965820223 , 34.11335628119765\n",
      "\t ---------- State is:  (2, 10)\n",
      "[INFO] [2023-03-01 06:29:03,872] [OpenBox-SPO] Iteration 576, objective value: [42.82599695303514].\n"
     ]
    },
    {
     "name": "stderr",
     "output_type": "stream",
     "text": [
      "\r",
      " 58%|███████████████████████████████████████████▏                               | 576/1000 [6:58:47<4:55:17, 41.79s/it]"
     ]
    },
    {
     "name": "stdout",
     "output_type": "stream",
     "text": [
      "\t ----- reward: -42.82599695303514 for f_star and f_minus: 24.29884965820223 , 42.82599695303514\n",
      "\t ---------- State is:  (3, 10)\n",
      "[INFO] [2023-03-01 06:29:44,278] [OpenBox-SPO] Iteration 577, objective value: [33.798726330377676].\n"
     ]
    },
    {
     "name": "stderr",
     "output_type": "stream",
     "text": [
      "\r",
      " 58%|███████████████████████████████████████████▎                               | 577/1000 [6:59:27<4:51:40, 41.37s/it]"
     ]
    },
    {
     "name": "stdout",
     "output_type": "stream",
     "text": [
      "\t ----- reward: -33.798726330377676 for f_star and f_minus: 24.29884965820223 , 33.798726330377676\n",
      "\t ---------- State is:  (4, 10)\n",
      "[INFO] [2023-03-01 06:30:25,195] [OpenBox-SPO] Iteration 578, objective value: [37.510078197965115].\n"
     ]
    },
    {
     "name": "stderr",
     "output_type": "stream",
     "text": [
      "\r",
      " 58%|███████████████████████████████████████████▎                               | 578/1000 [7:00:08<4:50:01, 41.24s/it]"
     ]
    },
    {
     "name": "stdout",
     "output_type": "stream",
     "text": [
      "\t ----- reward: -37.510078197965115 for f_star and f_minus: 24.29884965820223 , 37.510078197965115\n",
      "\t ---------- State is:  (4, 10)\n",
      "[INFO] [2023-03-01 06:31:04,168] [OpenBox-SPO] Iteration 579, objective value: [35.280010362713185].\n"
     ]
    },
    {
     "name": "stderr",
     "output_type": "stream",
     "text": [
      "\r",
      " 58%|███████████████████████████████████████████▍                               | 579/1000 [7:00:47<4:44:34, 40.56s/it]"
     ]
    },
    {
     "name": "stdout",
     "output_type": "stream",
     "text": [
      "\t ----- reward: -35.280010362713185 for f_star and f_minus: 24.29884965820223 , 35.280010362713185\n",
      "\t ---------- State is:  (3, 10)\n",
      "[INFO] [2023-03-01 06:31:42,992] [OpenBox-SPO] Iteration 580, objective value: [33.22045577754392].\n"
     ]
    },
    {
     "name": "stderr",
     "output_type": "stream",
     "text": [
      "\r",
      " 58%|███████████████████████████████████████████▌                               | 580/1000 [7:01:26<4:40:15, 40.04s/it]"
     ]
    },
    {
     "name": "stdout",
     "output_type": "stream",
     "text": [
      "\t ----- reward: -33.22045577754392 for f_star and f_minus: 24.29884965820223 , 33.22045577754392\n",
      "\t ---------- State is:  (3, 10)\n",
      "[INFO] [2023-03-01 06:32:24,263] [OpenBox-SPO] Iteration 581, objective value: [30.24648041756059].\n"
     ]
    },
    {
     "name": "stderr",
     "output_type": "stream",
     "text": [
      "\r",
      " 58%|███████████████████████████████████████████▌                               | 581/1000 [7:02:07<4:42:10, 40.41s/it]"
     ]
    },
    {
     "name": "stdout",
     "output_type": "stream",
     "text": [
      "\t ----- reward: -30.24648041756059 for f_star and f_minus: 24.29884965820223 , 30.24648041756059\n",
      "\t ---------- State is:  (4, 10)\n",
      "[INFO] [2023-03-01 06:33:05,318] [OpenBox-SPO] Iteration 582, objective value: [27.438245651248522].\n"
     ]
    },
    {
     "name": "stderr",
     "output_type": "stream",
     "text": [
      "\r",
      " 58%|███████████████████████████████████████████▋                               | 582/1000 [7:02:48<4:42:51, 40.60s/it]"
     ]
    },
    {
     "name": "stdout",
     "output_type": "stream",
     "text": [
      "\t ----- reward: -27.438245651248522 for f_star and f_minus: 24.29884965820223 , 27.438245651248522\n",
      "\t ---------- State is:  (4, 9)\n",
      "[INFO] [2023-03-01 06:33:48,391] [OpenBox-SPO] Iteration 583, objective value: [27.76839841994463].\n"
     ]
    },
    {
     "name": "stderr",
     "output_type": "stream",
     "text": [
      "\r",
      " 58%|███████████████████████████████████████████▋                               | 583/1000 [7:03:31<4:47:20, 41.34s/it]"
     ]
    },
    {
     "name": "stdout",
     "output_type": "stream",
     "text": [
      "\t ----- reward: -27.76839841994463 for f_star and f_minus: 24.29884965820223 , 27.76839841994463\n",
      "\t ---------- State is:  (5, 9)\n",
      "[INFO] [2023-03-01 06:33:48,391] [Advisor] Sample random config. rand_prob=0.100000.\n",
      "[INFO] [2023-03-01 06:34:20,754] [OpenBox-SPO] Iteration 584, objective value: [51.816914424387164].\n"
     ]
    },
    {
     "name": "stderr",
     "output_type": "stream",
     "text": [
      "\r",
      " 58%|███████████████████████████████████████████▊                               | 584/1000 [7:04:04<4:27:58, 38.65s/it]"
     ]
    },
    {
     "name": "stdout",
     "output_type": "stream",
     "text": [
      "\t ----- reward: -51.816914424387164 for f_star and f_minus: 24.29884965820223 , 51.816914424387164\n",
      "\t ---------- State is:  (6, 9)\n",
      "[INFO] [2023-03-01 06:35:04,634] [OpenBox-SPO] Iteration 585, objective value: [33.554258576926685].\n"
     ]
    },
    {
     "name": "stderr",
     "output_type": "stream",
     "text": [
      "\r",
      " 58%|███████████████████████████████████████████▉                               | 585/1000 [7:04:48<4:38:10, 40.22s/it]"
     ]
    },
    {
     "name": "stdout",
     "output_type": "stream",
     "text": [
      "\t ----- reward: -33.554258576926685 for f_star and f_minus: 24.29884965820223 , 33.554258576926685\n",
      "\t ---------- State is:  (6, 9)\n",
      "[INFO] [2023-03-01 06:35:50,988] [OpenBox-SPO] Iteration 586, objective value: [30.98470669899227].\n"
     ]
    },
    {
     "name": "stderr",
     "output_type": "stream",
     "text": [
      "\r",
      " 59%|███████████████████████████████████████████▉                               | 586/1000 [7:05:34<4:50:12, 42.06s/it]"
     ]
    },
    {
     "name": "stdout",
     "output_type": "stream",
     "text": [
      "\t ----- reward: -30.98470669899227 for f_star and f_minus: 24.29884965820223 , 30.98470669899227\n",
      "\t ---------- State is:  (7, 9)\n",
      "[INFO] [2023-03-01 06:36:30,633] [OpenBox-SPO] Iteration 587, objective value: [35.40973497184588].\n"
     ]
    },
    {
     "name": "stderr",
     "output_type": "stream",
     "text": [
      "\r",
      " 59%|████████████████████████████████████████████                               | 587/1000 [7:06:14<4:44:31, 41.33s/it]"
     ]
    },
    {
     "name": "stdout",
     "output_type": "stream",
     "text": [
      "\t ----- reward: -35.40973497184588 for f_star and f_minus: 24.29884965820223 , 35.40973497184588\n",
      "\t ---------- State is:  (8, 9)\n",
      "[INFO] [2023-03-01 06:37:12,513] [OpenBox-SPO] Iteration 588, objective value: [31.951210481279546].\n"
     ]
    },
    {
     "name": "stderr",
     "output_type": "stream",
     "text": [
      "\r",
      " 59%|████████████████████████████████████████████                               | 588/1000 [7:06:56<4:44:57, 41.50s/it]"
     ]
    },
    {
     "name": "stdout",
     "output_type": "stream",
     "text": [
      "\t ----- reward: -31.951210481279546 for f_star and f_minus: 24.29884965820223 , 31.951210481279546\n",
      "\t ---------- State is:  (8, 9)\n",
      "[INFO] [2023-03-01 06:37:12,513] [Advisor] Sample random config. rand_prob=0.100000.\n",
      "[INFO] [2023-03-01 06:37:48,037] [OpenBox-SPO] Iteration 589, objective value: [52.28320973723231].\n"
     ]
    },
    {
     "name": "stderr",
     "output_type": "stream",
     "text": [
      "\r",
      " 59%|████████████████████████████████████████████▏                              | 589/1000 [7:07:31<4:31:59, 39.71s/it]"
     ]
    },
    {
     "name": "stdout",
     "output_type": "stream",
     "text": [
      "\t ----- reward: -52.28320973723231 for f_star and f_minus: 24.29884965820223 , 52.28320973723231\n",
      "\t ---------- State is:  (7, 9)\n",
      "[INFO] [2023-03-01 06:38:28,386] [OpenBox-SPO] Iteration 590, objective value: [36.27045544574273].\n"
     ]
    },
    {
     "name": "stderr",
     "output_type": "stream",
     "text": [
      "\r",
      " 59%|████████████████████████████████████████████▎                              | 590/1000 [7:08:11<4:32:38, 39.90s/it]"
     ]
    },
    {
     "name": "stdout",
     "output_type": "stream",
     "text": [
      "\t ----- reward: -36.27045544574273 for f_star and f_minus: 24.29884965820223 , 36.27045544574273\n",
      "\t ---------- State is:  (8, 9)\n",
      "[INFO] [2023-03-01 06:39:10,032] [OpenBox-SPO] Iteration 591, objective value: [34.38276945408457].\n"
     ]
    },
    {
     "name": "stderr",
     "output_type": "stream",
     "text": [
      "\r",
      " 59%|████████████████████████████████████████████▎                              | 591/1000 [7:08:53<4:35:33, 40.42s/it]"
     ]
    },
    {
     "name": "stdout",
     "output_type": "stream",
     "text": [
      "\t ----- reward: -34.38276945408457 for f_star and f_minus: 24.29884965820223 , 34.38276945408457\n",
      "\t ---------- State is:  (8, 9)\n",
      "[INFO] [2023-03-01 06:39:55,865] [OpenBox-SPO] Iteration 592, objective value: [43.54535095235742].\n"
     ]
    },
    {
     "name": "stderr",
     "output_type": "stream",
     "text": [
      "\r",
      " 59%|████████████████████████████████████████████▍                              | 592/1000 [7:09:39<4:45:54, 42.05s/it]"
     ]
    },
    {
     "name": "stdout",
     "output_type": "stream",
     "text": [
      "\t ----- reward: -43.54535095235742 for f_star and f_minus: 24.29884965820223 , 43.54535095235742\n",
      "\t ---------- State is:  (9, 9)\n",
      "[INFO] [2023-03-01 06:40:39,372] [OpenBox-SPO] Iteration 593, objective value: [32.8454292372498].\n"
     ]
    },
    {
     "name": "stderr",
     "output_type": "stream",
     "text": [
      "\r",
      " 59%|████████████████████████████████████████████▍                              | 593/1000 [7:10:22<4:48:11, 42.48s/it]"
     ]
    },
    {
     "name": "stdout",
     "output_type": "stream",
     "text": [
      "\t ----- reward: -32.8454292372498 for f_star and f_minus: 24.29884965820223 , 32.8454292372498\n",
      "\t ---------- State is:  (10, 9)\n",
      "[INFO] [2023-03-01 06:41:21,206] [OpenBox-SPO] Iteration 594, objective value: [30.691556623737682].\n"
     ]
    },
    {
     "name": "stderr",
     "output_type": "stream",
     "text": [
      "\r",
      " 59%|████████████████████████████████████████████▌                              | 594/1000 [7:11:04<4:46:09, 42.29s/it]"
     ]
    },
    {
     "name": "stdout",
     "output_type": "stream",
     "text": [
      "\t ----- reward: -30.691556623737682 for f_star and f_minus: 24.29884965820223 , 30.691556623737682\n",
      "\t ---------- State is:  (9, 9)\n",
      "[INFO] [2023-03-01 06:42:06,354] [OpenBox-SPO] Iteration 595, objective value: [30.222156517032744].\n"
     ]
    },
    {
     "name": "stderr",
     "output_type": "stream",
     "text": [
      "\r",
      " 60%|████████████████████████████████████████████▋                              | 595/1000 [7:11:49<4:51:14, 43.15s/it]"
     ]
    },
    {
     "name": "stdout",
     "output_type": "stream",
     "text": [
      "\t ----- reward: -30.222156517032744 for f_star and f_minus: 24.29884965820223 , 30.222156517032744\n",
      "\t ---------- State is:  (8, 9)\n",
      "[INFO] [2023-03-01 06:42:48,284] [OpenBox-SPO] Iteration 596, objective value: [39.68312417721861].\n"
     ]
    },
    {
     "name": "stderr",
     "output_type": "stream",
     "text": [
      "\r",
      " 60%|████████████████████████████████████████████▋                              | 596/1000 [7:12:31<4:48:03, 42.78s/it]"
     ]
    },
    {
     "name": "stdout",
     "output_type": "stream",
     "text": [
      "\t ----- reward: -39.68312417721861 for f_star and f_minus: 24.29884965820223 , 39.68312417721861\n",
      "\t ---------- State is:  (8, 9)\n",
      "[INFO] [2023-03-01 06:43:29,898] [OpenBox-SPO] Iteration 597, objective value: [37.92372317343188].\n"
     ]
    },
    {
     "name": "stderr",
     "output_type": "stream",
     "text": [
      "\r",
      " 60%|████████████████████████████████████████████▊                              | 597/1000 [7:13:13<4:44:59, 42.43s/it]"
     ]
    },
    {
     "name": "stdout",
     "output_type": "stream",
     "text": [
      "\t ----- reward: -37.92372317343188 for f_star and f_minus: 24.29884965820223 , 37.92372317343188\n",
      "\t ---------- State is:  (7, 9)\n",
      "[INFO] [2023-03-01 06:43:29,898] [Advisor] Sample random config. rand_prob=0.100000.\n",
      "[INFO] [2023-03-01 06:44:01,545] [OpenBox-SPO] Iteration 598, objective value: [57.79362146578222].\n"
     ]
    },
    {
     "name": "stderr",
     "output_type": "stream",
     "text": [
      "\r",
      " 60%|████████████████████████████████████████████▊                              | 598/1000 [7:13:45<4:22:36, 39.20s/it]"
     ]
    },
    {
     "name": "stdout",
     "output_type": "stream",
     "text": [
      "\t ----- reward: -57.79362146578222 for f_star and f_minus: 24.29884965820223 , 57.79362146578222\n",
      "\t ---------- State is:  (6, 9)\n",
      "[INFO] [2023-03-01 06:44:42,629] [OpenBox-SPO] Iteration 599, objective value: [35.807387834266464].\n"
     ]
    },
    {
     "name": "stderr",
     "output_type": "stream",
     "text": [
      "\r",
      " 60%|████████████████████████████████████████████▉                              | 599/1000 [7:14:26<4:25:44, 39.76s/it]"
     ]
    },
    {
     "name": "stdout",
     "output_type": "stream",
     "text": [
      "\t ----- reward: -35.807387834266464 for f_star and f_minus: 24.29884965820223 , 35.807387834266464\n",
      "\t ---------- State is:  (6, 9)\n",
      "[INFO] [2023-03-01 06:45:23,838] [OpenBox-SPO] Iteration 600, objective value: [31.796498829029318].\n"
     ]
    },
    {
     "name": "stderr",
     "output_type": "stream",
     "text": [
      "\r",
      " 60%|█████████████████████████████████████████████                              | 600/1000 [7:15:07<4:27:58, 40.20s/it]"
     ]
    },
    {
     "name": "stdout",
     "output_type": "stream",
     "text": [
      "\t ----- reward: -31.796498829029318 for f_star and f_minus: 24.29884965820223 , 31.796498829029318\n",
      "\t ---------- State is:  (7, 9)\n",
      "[INFO] [2023-03-01 06:46:03,563] [OpenBox-SPO] Iteration 601, objective value: [31.913264788415475].\n"
     ]
    },
    {
     "name": "stderr",
     "output_type": "stream",
     "text": [
      "\r",
      " 60%|█████████████████████████████████████████████                              | 601/1000 [7:15:47<4:26:21, 40.05s/it]"
     ]
    },
    {
     "name": "stdout",
     "output_type": "stream",
     "text": [
      "\t ----- reward: -31.913264788415475 for f_star and f_minus: 24.29884965820223 , 31.913264788415475\n",
      "\t ---------- State is:  (7, 9)\n",
      "[INFO] [2023-03-01 06:46:48,777] [OpenBox-SPO] Iteration 602, objective value: [38.402199263684345].\n"
     ]
    },
    {
     "name": "stderr",
     "output_type": "stream",
     "text": [
      "\r",
      " 60%|█████████████████████████████████████████████▏                             | 602/1000 [7:16:32<4:35:59, 41.61s/it]"
     ]
    },
    {
     "name": "stdout",
     "output_type": "stream",
     "text": [
      "\t ----- reward: -38.402199263684345 for f_star and f_minus: 24.29884965820223 , 38.402199263684345\n",
      "\t ---------- State is:  (8, 10)\n",
      "[INFO] [2023-03-01 06:47:34,565] [OpenBox-SPO] Iteration 603, objective value: [29.941076683488205].\n"
     ]
    },
    {
     "name": "stderr",
     "output_type": "stream",
     "text": [
      "\r",
      " 60%|█████████████████████████████████████████████▏                             | 603/1000 [7:17:18<4:43:34, 42.86s/it]"
     ]
    },
    {
     "name": "stdout",
     "output_type": "stream",
     "text": [
      "\t ----- reward: -29.941076683488205 for f_star and f_minus: 24.29884965820223 , 29.941076683488205\n",
      "\t ---------- State is:  (8, 10)\n",
      "[INFO] [2023-03-01 06:48:16,818] [OpenBox-SPO] Iteration 604, objective value: [34.64964273994491].\n"
     ]
    },
    {
     "name": "stderr",
     "output_type": "stream",
     "text": [
      "\r",
      " 60%|█████████████████████████████████████████████▎                             | 604/1000 [7:18:00<4:41:39, 42.68s/it]"
     ]
    },
    {
     "name": "stdout",
     "output_type": "stream",
     "text": [
      "\t ----- reward: -34.64964273994491 for f_star and f_minus: 24.29884965820223 , 34.64964273994491\n",
      "\t ---------- State is:  (9, 10)\n",
      "[INFO] [2023-03-01 06:48:54,544] [OpenBox-SPO] Iteration 605, objective value: [38.79023399576814].\n"
     ]
    },
    {
     "name": "stderr",
     "output_type": "stream",
     "text": [
      "\r",
      " 60%|█████████████████████████████████████████████▍                             | 605/1000 [7:18:38<4:31:10, 41.19s/it]"
     ]
    },
    {
     "name": "stdout",
     "output_type": "stream",
     "text": [
      "\t ----- reward: -38.79023399576814 for f_star and f_minus: 24.29884965820223 , 38.79023399576814\n",
      "\t ---------- State is:  (9, 10)\n",
      "[INFO] [2023-03-01 06:49:39,849] [OpenBox-SPO] Iteration 606, objective value: [37.616314955506866].\n"
     ]
    },
    {
     "name": "stderr",
     "output_type": "stream",
     "text": [
      "\r",
      " 61%|█████████████████████████████████████████████▍                             | 606/1000 [7:19:23<4:38:35, 42.43s/it]"
     ]
    },
    {
     "name": "stdout",
     "output_type": "stream",
     "text": [
      "\t ----- reward: -37.616314955506866 for f_star and f_minus: 24.29884965820223 , 37.616314955506866\n",
      "\t ---------- State is:  (8, 11)\n",
      "[INFO] [2023-03-01 06:50:18,995] [OpenBox-SPO] Iteration 607, objective value: [32.66036569924799].\n"
     ]
    },
    {
     "name": "stderr",
     "output_type": "stream",
     "text": [
      "\r",
      " 61%|█████████████████████████████████████████████▌                             | 607/1000 [7:20:02<4:31:26, 41.44s/it]"
     ]
    },
    {
     "name": "stdout",
     "output_type": "stream",
     "text": [
      "\t ----- reward: -32.66036569924799 for f_star and f_minus: 24.29884965820223 , 32.66036569924799\n",
      "\t ---------- State is:  (8, 10)\n",
      "[INFO] [2023-03-01 06:51:04,312] [OpenBox-SPO] Iteration 608, objective value: [41.18815584333406].\n"
     ]
    },
    {
     "name": "stderr",
     "output_type": "stream",
     "text": [
      "\r",
      " 61%|█████████████████████████████████████████████▌                             | 608/1000 [7:20:47<4:38:20, 42.60s/it]"
     ]
    },
    {
     "name": "stdout",
     "output_type": "stream",
     "text": [
      "\t ----- reward: -41.18815584333406 for f_star and f_minus: 24.29884965820223 , 41.18815584333406\n",
      "\t ---------- State is:  (7, 11)\n",
      "[INFO] [2023-03-01 06:51:50,056] [OpenBox-SPO] Iteration 609, objective value: [30.291997873238458].\n"
     ]
    },
    {
     "name": "stderr",
     "output_type": "stream",
     "text": [
      "\r",
      " 61%|█████████████████████████████████████████████▋                             | 609/1000 [7:21:33<4:43:46, 43.55s/it]"
     ]
    },
    {
     "name": "stdout",
     "output_type": "stream",
     "text": [
      "\t ----- reward: -30.291997873238458 for f_star and f_minus: 24.29884965820223 , 30.291997873238458\n",
      "\t ---------- State is:  (6, 10)\n",
      "[INFO] [2023-03-01 06:52:30,249] [OpenBox-SPO] Iteration 610, objective value: [29.968282348820665].\n"
     ]
    },
    {
     "name": "stderr",
     "output_type": "stream",
     "text": [
      "\r",
      " 61%|█████████████████████████████████████████████▊                             | 610/1000 [7:22:13<4:36:30, 42.54s/it]"
     ]
    },
    {
     "name": "stdout",
     "output_type": "stream",
     "text": [
      "\t ----- reward: -29.968282348820665 for f_star and f_minus: 24.29884965820223 , 29.968282348820665\n",
      "\t ---------- State is:  (5, 10)\n",
      "[INFO] [2023-03-01 06:53:09,254] [OpenBox-SPO] Iteration 611, objective value: [28.430629967771523].\n"
     ]
    },
    {
     "name": "stderr",
     "output_type": "stream",
     "text": [
      "\r",
      " 61%|█████████████████████████████████████████████▊                             | 611/1000 [7:22:52<4:28:55, 41.48s/it]"
     ]
    },
    {
     "name": "stdout",
     "output_type": "stream",
     "text": [
      "\t ----- reward: -28.430629967771523 for f_star and f_minus: 24.29884965820223 , 28.430629967771523\n",
      "\t ---------- State is:  (4, 9)\n",
      "[INFO] [2023-03-01 06:53:54,031] [OpenBox-SPO] Iteration 612, objective value: [27.743297176191746].\n"
     ]
    },
    {
     "name": "stderr",
     "output_type": "stream",
     "text": [
      "\r",
      " 61%|█████████████████████████████████████████████▉                             | 612/1000 [7:23:37<4:34:37, 42.47s/it]"
     ]
    },
    {
     "name": "stdout",
     "output_type": "stream",
     "text": [
      "\t ----- reward: -27.743297176191746 for f_star and f_minus: 24.29884965820223 , 27.743297176191746\n",
      "\t ---------- State is:  (5, 8)\n",
      "[INFO] [2023-03-01 06:54:38,984] [OpenBox-SPO] Iteration 613, objective value: [31.887667962047374].\n"
     ]
    },
    {
     "name": "stderr",
     "output_type": "stream",
     "text": [
      "\r",
      " 61%|█████████████████████████████████████████████▉                             | 613/1000 [7:24:22<4:38:43, 43.21s/it]"
     ]
    },
    {
     "name": "stdout",
     "output_type": "stream",
     "text": [
      "\t ----- reward: -31.887667962047374 for f_star and f_minus: 24.29884965820223 , 31.887667962047374\n",
      "\t ---------- State is:  (6, 7)\n",
      "[INFO] [2023-03-01 06:55:23,630] [OpenBox-SPO] Iteration 614, objective value: [37.24882348544186].\n"
     ]
    },
    {
     "name": "stderr",
     "output_type": "stream",
     "text": [
      "\r",
      " 61%|██████████████████████████████████████████████                             | 614/1000 [7:25:07<4:40:46, 43.64s/it]"
     ]
    },
    {
     "name": "stdout",
     "output_type": "stream",
     "text": [
      "\t ----- reward: -37.24882348544186 for f_star and f_minus: 24.29884965820223 , 37.24882348544186\n",
      "\t ---------- State is:  (6, 9)\n",
      "[INFO] [2023-03-01 06:56:05,573] [OpenBox-SPO] Iteration 615, objective value: [34.3051135900282].\n"
     ]
    },
    {
     "name": "stderr",
     "output_type": "stream",
     "text": [
      "\r",
      " 62%|██████████████████████████████████████████████▏                            | 615/1000 [7:25:49<4:36:46, 43.13s/it]"
     ]
    },
    {
     "name": "stdout",
     "output_type": "stream",
     "text": [
      "\t ----- reward: -34.3051135900282 for f_star and f_minus: 24.29884965820223 , 34.3051135900282\n",
      "\t ---------- State is:  (6, 10)\n",
      "[INFO] [2023-03-01 06:56:54,288] [OpenBox-SPO] Iteration 616, objective value: [36.81516779783715].\n"
     ]
    },
    {
     "name": "stderr",
     "output_type": "stream",
     "text": [
      "\r",
      " 62%|██████████████████████████████████████████████▏                            | 616/1000 [7:26:37<4:46:47, 44.81s/it]"
     ]
    },
    {
     "name": "stdout",
     "output_type": "stream",
     "text": [
      "\t ----- reward: -36.81516779783715 for f_star and f_minus: 24.29884965820223 , 36.81516779783715\n",
      "\t ---------- State is:  (6, 10)\n",
      "[INFO] [2023-03-01 06:57:41,218] [OpenBox-SPO] Iteration 617, objective value: [34.69453321827703].\n"
     ]
    },
    {
     "name": "stderr",
     "output_type": "stream",
     "text": [
      "\r",
      " 62%|██████████████████████████████████████████████▎                            | 617/1000 [7:27:24<4:50:04, 45.44s/it]"
     ]
    },
    {
     "name": "stdout",
     "output_type": "stream",
     "text": [
      "\t ----- reward: -34.69453321827703 for f_star and f_minus: 24.29884965820223 , 34.69453321827703\n",
      "\t ---------- State is:  (5, 10)\n",
      "[INFO] [2023-03-01 06:58:24,332] [OpenBox-SPO] Iteration 618, objective value: [44.658087090373456].\n"
     ]
    },
    {
     "name": "stderr",
     "output_type": "stream",
     "text": [
      "\r",
      " 62%|██████████████████████████████████████████████▎                            | 618/1000 [7:28:07<4:44:52, 44.74s/it]"
     ]
    },
    {
     "name": "stdout",
     "output_type": "stream",
     "text": [
      "\t ----- reward: -44.658087090373456 for f_star and f_minus: 24.29884965820223 , 44.658087090373456\n",
      "\t ---------- State is:  (4, 10)\n",
      "[INFO] [2023-03-01 06:58:24,332] [Advisor] Sample random config. rand_prob=0.100000.\n",
      "[INFO] [2023-03-01 06:58:57,059] [OpenBox-SPO] Iteration 619, objective value: [53.02762366060757].\n"
     ]
    },
    {
     "name": "stderr",
     "output_type": "stream",
     "text": [
      "\r",
      " 62%|██████████████████████████████████████████████▍                            | 619/1000 [7:28:40<4:21:13, 41.14s/it]"
     ]
    },
    {
     "name": "stdout",
     "output_type": "stream",
     "text": [
      "\t ----- reward: -53.02762366060757 for f_star and f_minus: 24.29884965820223 , 53.02762366060757\n",
      "\t ---------- State is:  (3, 10)\n",
      "[INFO] [2023-03-01 06:59:39,660] [OpenBox-SPO] Iteration 620, objective value: [37.89918533008769].\n"
     ]
    },
    {
     "name": "stderr",
     "output_type": "stream",
     "text": [
      "\r",
      " 62%|██████████████████████████████████████████████▌                            | 620/1000 [7:29:23<4:23:19, 41.58s/it]"
     ]
    },
    {
     "name": "stdout",
     "output_type": "stream",
     "text": [
      "\t ----- reward: -37.89918533008769 for f_star and f_minus: 24.29884965820223 , 37.89918533008769\n",
      "\t ---------- State is:  (2, 10)\n",
      "[INFO] [2023-03-01 07:00:20,789] [OpenBox-SPO] Iteration 621, objective value: [33.61334670488256].\n"
     ]
    },
    {
     "name": "stderr",
     "output_type": "stream",
     "text": [
      "\r",
      " 62%|██████████████████████████████████████████████▌                            | 621/1000 [7:30:04<4:21:46, 41.44s/it]"
     ]
    },
    {
     "name": "stdout",
     "output_type": "stream",
     "text": [
      "\t ----- reward: -33.61334670488256 for f_star and f_minus: 24.29884965820223 , 33.61334670488256\n",
      "\t ---------- State is:  (2, 10)\n",
      "[INFO] [2023-03-01 07:01:04,455] [OpenBox-SPO] Iteration 622, objective value: [36.28082829937003].\n"
     ]
    },
    {
     "name": "stderr",
     "output_type": "stream",
     "text": [
      "\r",
      " 62%|██████████████████████████████████████████████▋                            | 622/1000 [7:30:48<4:25:17, 42.11s/it]"
     ]
    },
    {
     "name": "stdout",
     "output_type": "stream",
     "text": [
      "\t ----- reward: -36.28082829937003 for f_star and f_minus: 24.29884965820223 , 36.28082829937003\n",
      "\t ---------- State is:  (2, 10)\n",
      "[INFO] [2023-03-01 07:01:48,323] [OpenBox-SPO] Iteration 623, objective value: [44.02317021757406].\n"
     ]
    },
    {
     "name": "stderr",
     "output_type": "stream",
     "text": [
      "\r",
      " 62%|██████████████████████████████████████████████▋                            | 623/1000 [7:31:31<4:27:54, 42.64s/it]"
     ]
    },
    {
     "name": "stdout",
     "output_type": "stream",
     "text": [
      "\t ----- reward: -44.02317021757406 for f_star and f_minus: 24.29884965820223 , 44.02317021757406\n",
      "\t ---------- State is:  (1, 11)\n",
      "[INFO] [2023-03-01 07:02:35,064] [OpenBox-SPO] Iteration 624, objective value: [37.973630297281524].\n"
     ]
    },
    {
     "name": "stderr",
     "output_type": "stream",
     "text": [
      "\r",
      " 62%|██████████████████████████████████████████████▊                            | 624/1000 [7:32:18<4:34:54, 43.87s/it]"
     ]
    },
    {
     "name": "stdout",
     "output_type": "stream",
     "text": [
      "\t ----- reward: -37.973630297281524 for f_star and f_minus: 24.29884965820223 , 37.973630297281524\n",
      "\t ---------- State is:  (1, 12)\n",
      "[INFO] [2023-03-01 07:03:20,039] [OpenBox-SPO] Iteration 625, objective value: [31.445736810767883].\n"
     ]
    },
    {
     "name": "stderr",
     "output_type": "stream",
     "text": [
      "\r",
      " 62%|██████████████████████████████████████████████▉                            | 625/1000 [7:33:03<4:36:15, 44.20s/it]"
     ]
    },
    {
     "name": "stdout",
     "output_type": "stream",
     "text": [
      "\t ----- reward: -31.445736810767883 for f_star and f_minus: 24.29884965820223 , 31.445736810767883\n",
      "\t ---------- State is:  (2, 11)\n",
      "[INFO] [2023-03-01 07:04:02,765] [OpenBox-SPO] Iteration 626, objective value: [31.930501425178832].\n"
     ]
    },
    {
     "name": "stderr",
     "output_type": "stream",
     "text": [
      "\r",
      " 63%|██████████████████████████████████████████████▉                            | 626/1000 [7:33:46<4:32:45, 43.76s/it]"
     ]
    },
    {
     "name": "stdout",
     "output_type": "stream",
     "text": [
      "\t ----- reward: -31.930501425178832 for f_star and f_minus: 24.29884965820223 , 31.930501425178832\n",
      "\t ---------- State is:  (3, 10)\n",
      "[INFO] [2023-03-01 07:04:02,765] [Advisor] Sample random config. rand_prob=0.100000.\n",
      "[INFO] [2023-03-01 07:04:34,943] [OpenBox-SPO] Iteration 627, objective value: [58.14937973942988].\n"
     ]
    },
    {
     "name": "stderr",
     "output_type": "stream",
     "text": [
      "\r",
      " 63%|███████████████████████████████████████████████                            | 627/1000 [7:34:18<4:10:25, 40.28s/it]"
     ]
    },
    {
     "name": "stdout",
     "output_type": "stream",
     "text": [
      "\t ----- reward: -58.14937973942988 for f_star and f_minus: 24.29884965820223 , 58.14937973942988\n",
      "\t ---------- State is:  (3, 11)\n",
      "[INFO] [2023-03-01 07:05:18,530] [OpenBox-SPO] Iteration 628, objective value: [38.40906576479559].\n"
     ]
    },
    {
     "name": "stderr",
     "output_type": "stream",
     "text": [
      "\r",
      " 63%|███████████████████████████████████████████████                            | 628/1000 [7:35:02<4:15:54, 41.27s/it]"
     ]
    },
    {
     "name": "stdout",
     "output_type": "stream",
     "text": [
      "\t ----- reward: -38.40906576479559 for f_star and f_minus: 24.29884965820223 , 38.40906576479559\n",
      "\t ---------- State is:  (2, 11)\n",
      "[INFO] [2023-03-01 07:05:59,663] [OpenBox-SPO] Iteration 629, objective value: [27.65831454674054].\n"
     ]
    },
    {
     "name": "stderr",
     "output_type": "stream",
     "text": [
      "\r",
      " 63%|███████████████████████████████████████████████▏                           | 629/1000 [7:35:43<4:14:57, 41.23s/it]"
     ]
    },
    {
     "name": "stdout",
     "output_type": "stream",
     "text": [
      "\t ----- reward: -27.65831454674054 for f_star and f_minus: 24.29884965820223 , 27.65831454674054\n",
      "\t ---------- State is:  (2, 11)\n",
      "[INFO] [2023-03-01 07:06:41,575] [OpenBox-SPO] Iteration 630, objective value: [33.26875500977974].\n"
     ]
    },
    {
     "name": "stderr",
     "output_type": "stream",
     "text": [
      "\r",
      " 63%|███████████████████████████████████████████████▎                           | 630/1000 [7:36:25<4:15:31, 41.44s/it]"
     ]
    },
    {
     "name": "stdout",
     "output_type": "stream",
     "text": [
      "\t ----- reward: -33.26875500977974 for f_star and f_minus: 24.29884965820223 , 33.26875500977974\n",
      "\t ---------- State is:  (1, 11)\n",
      "[INFO] [2023-03-01 07:07:23,861] [OpenBox-SPO] Iteration 631, objective value: [27.200099041578454].\n"
     ]
    },
    {
     "name": "stderr",
     "output_type": "stream",
     "text": [
      "\r",
      " 63%|███████████████████████████████████████████████▎                           | 631/1000 [7:37:07<4:16:24, 41.69s/it]"
     ]
    },
    {
     "name": "stdout",
     "output_type": "stream",
     "text": [
      "\t ----- reward: -27.200099041578454 for f_star and f_minus: 24.29884965820223 , 27.200099041578454\n",
      "\t ---------- State is:  (0, 11)\n",
      "[INFO] [2023-03-01 07:08:08,306] [OpenBox-SPO] Iteration 632, objective value: [26.315448826964655].\n"
     ]
    },
    {
     "name": "stderr",
     "output_type": "stream",
     "text": [
      "\r",
      " 63%|███████████████████████████████████████████████▍                           | 632/1000 [7:37:51<4:20:46, 42.52s/it]"
     ]
    },
    {
     "name": "stdout",
     "output_type": "stream",
     "text": [
      "\t ----- reward: -26.315448826964655 for f_star and f_minus: 24.29884965820223 , 26.315448826964655\n",
      "\t ---------- State is:  (0, 11)\n",
      "[INFO] [2023-03-01 07:08:54,908] [OpenBox-SPO] Iteration 633, objective value: [27.51104235995328].\n"
     ]
    },
    {
     "name": "stderr",
     "output_type": "stream",
     "text": [
      "\r",
      " 63%|███████████████████████████████████████████████▍                           | 633/1000 [7:38:38<4:27:33, 43.74s/it]"
     ]
    },
    {
     "name": "stdout",
     "output_type": "stream",
     "text": [
      "\t ----- reward: -27.51104235995328 for f_star and f_minus: 24.29884965820223 , 27.51104235995328\n",
      "\t ---------- State is:  (1, 11)\n",
      "[INFO] [2023-03-01 07:09:33,333] [OpenBox-SPO] Iteration 634, objective value: [33.37507310712738].\n"
     ]
    },
    {
     "name": "stderr",
     "output_type": "stream",
     "text": [
      "\r",
      " 63%|███████████████████████████████████████████████▌                           | 634/1000 [7:39:16<4:17:05, 42.15s/it]"
     ]
    },
    {
     "name": "stdout",
     "output_type": "stream",
     "text": [
      "\t ----- reward: -33.37507310712738 for f_star and f_minus: 24.29884965820223 , 33.37507310712738\n",
      "\t ---------- State is:  (2, 10)\n",
      "[INFO] [2023-03-01 07:10:14,261] [OpenBox-SPO] Iteration 635, objective value: [32.863444510637095].\n"
     ]
    },
    {
     "name": "stderr",
     "output_type": "stream",
     "text": [
      "\r",
      " 64%|███████████████████████████████████████████████▋                           | 635/1000 [7:39:57<4:14:10, 41.78s/it]"
     ]
    },
    {
     "name": "stdout",
     "output_type": "stream",
     "text": [
      "\t ----- reward: -32.863444510637095 for f_star and f_minus: 24.29884965820223 , 32.863444510637095\n",
      "\t ---------- State is:  (3, 9)\n",
      "[INFO] [2023-03-01 07:10:54,568] [OpenBox-SPO] Iteration 636, objective value: [29.634630576829196].\n"
     ]
    },
    {
     "name": "stderr",
     "output_type": "stream",
     "text": [
      "\r",
      " 64%|███████████████████████████████████████████████▋                           | 636/1000 [7:40:38<4:10:47, 41.34s/it]"
     ]
    },
    {
     "name": "stdout",
     "output_type": "stream",
     "text": [
      "\t ----- reward: -29.634630576829196 for f_star and f_minus: 24.29884965820223 , 29.634630576829196\n",
      "\t ---------- State is:  (2, 9)\n",
      "[INFO] [2023-03-01 07:11:38,855] [OpenBox-SPO] Iteration 637, objective value: [33.606900345094246].\n"
     ]
    },
    {
     "name": "stderr",
     "output_type": "stream",
     "text": [
      "\r",
      " 64%|███████████████████████████████████████████████▊                           | 637/1000 [7:41:22<4:15:27, 42.22s/it]"
     ]
    },
    {
     "name": "stdout",
     "output_type": "stream",
     "text": [
      "\t ----- reward: -33.606900345094246 for f_star and f_minus: 24.29884965820223 , 33.606900345094246\n",
      "\t ---------- State is:  (2, 9)\n",
      "[INFO] [2023-03-01 07:12:19,970] [OpenBox-SPO] Iteration 638, objective value: [42.08778432787217].\n"
     ]
    },
    {
     "name": "stderr",
     "output_type": "stream",
     "text": [
      "\r",
      " 64%|███████████████████████████████████████████████▊                           | 638/1000 [7:42:03<4:12:44, 41.89s/it]"
     ]
    },
    {
     "name": "stdout",
     "output_type": "stream",
     "text": [
      "\t ----- reward: -42.08778432787217 for f_star and f_minus: 24.29884965820223 , 42.08778432787217\n",
      "\t ---------- State is:  (3, 9)\n",
      "[INFO] [2023-03-01 07:13:04,102] [OpenBox-SPO] Iteration 639, objective value: [38.41629478456138].\n"
     ]
    },
    {
     "name": "stderr",
     "output_type": "stream",
     "text": [
      "\r",
      " 64%|███████████████████████████████████████████████▉                           | 639/1000 [7:42:47<4:16:05, 42.56s/it]"
     ]
    },
    {
     "name": "stdout",
     "output_type": "stream",
     "text": [
      "\t ----- reward: -38.41629478456138 for f_star and f_minus: 24.29884965820223 , 38.41629478456138\n",
      "\t ---------- State is:  (2, 9)\n",
      "[INFO] [2023-03-01 07:13:45,673] [OpenBox-SPO] Iteration 640, objective value: [29.027005075284336].\n"
     ]
    },
    {
     "name": "stderr",
     "output_type": "stream",
     "text": [
      "\r",
      " 64%|████████████████████████████████████████████████                           | 640/1000 [7:43:29<4:13:35, 42.27s/it]"
     ]
    },
    {
     "name": "stdout",
     "output_type": "stream",
     "text": [
      "\t ----- reward: -29.027005075284336 for f_star and f_minus: 24.29884965820223 , 29.027005075284336\n",
      "\t ---------- State is:  (2, 9)\n",
      "[INFO] [2023-03-01 07:14:29,397] [OpenBox-SPO] Iteration 641, objective value: [31.929525461505847].\n"
     ]
    },
    {
     "name": "stderr",
     "output_type": "stream",
     "text": [
      "\r",
      " 64%|████████████████████████████████████████████████                           | 641/1000 [7:44:12<4:15:30, 42.70s/it]"
     ]
    },
    {
     "name": "stdout",
     "output_type": "stream",
     "text": [
      "\t ----- reward: -31.929525461505847 for f_star and f_minus: 24.29884965820223 , 31.929525461505847\n",
      "\t ---------- State is:  (1, 8)\n",
      "[INFO] [2023-03-01 07:15:10,132] [OpenBox-SPO] Iteration 642, objective value: [29.293849386936827].\n"
     ]
    },
    {
     "name": "stderr",
     "output_type": "stream",
     "text": [
      "\r",
      " 64%|████████████████████████████████████████████████▏                          | 642/1000 [7:44:53<4:11:16, 42.11s/it]"
     ]
    },
    {
     "name": "stdout",
     "output_type": "stream",
     "text": [
      "\t ----- reward: -29.293849386936827 for f_star and f_minus: 24.29884965820223 , 29.293849386936827\n",
      "\t ---------- State is:  (2, 8)\n",
      "[INFO] [2023-03-01 07:15:54,392] [OpenBox-SPO] Iteration 643, objective value: [27.02807953708519].\n"
     ]
    },
    {
     "name": "stderr",
     "output_type": "stream",
     "text": [
      "\r",
      " 64%|████████████████████████████████████████████████▏                          | 643/1000 [7:45:37<4:14:24, 42.76s/it]"
     ]
    },
    {
     "name": "stdout",
     "output_type": "stream",
     "text": [
      "\t ----- reward: -27.02807953708519 for f_star and f_minus: 24.29884965820223 , 27.02807953708519\n",
      "\t ---------- State is:  (1, 7)\n",
      "[INFO] [2023-03-01 07:16:38,367] [OpenBox-SPO] Iteration 644, objective value: [26.56408131122403].\n"
     ]
    },
    {
     "name": "stderr",
     "output_type": "stream",
     "text": [
      "\r",
      " 64%|████████████████████████████████████████████████▎                          | 644/1000 [7:46:21<4:15:51, 43.12s/it]"
     ]
    },
    {
     "name": "stdout",
     "output_type": "stream",
     "text": [
      "\t ----- reward: -26.56408131122403 for f_star and f_minus: 24.29884965820223 , 26.56408131122403\n",
      "\t ---------- State is:  (0, 7)\n",
      "[INFO] [2023-03-01 07:17:22,215] [OpenBox-SPO] Iteration 645, objective value: [40.14148190553888].\n"
     ]
    },
    {
     "name": "stderr",
     "output_type": "stream",
     "text": [
      "\r",
      " 64%|████████████████████████████████████████████████▍                          | 645/1000 [7:47:05<4:16:27, 43.34s/it]"
     ]
    },
    {
     "name": "stdout",
     "output_type": "stream",
     "text": [
      "\t ----- reward: -40.14148190553888 for f_star and f_minus: 24.29884965820223 , 40.14148190553888\n",
      "\t ---------- State is:  (0, 7)\n",
      "[INFO] [2023-03-01 07:18:05,971] [OpenBox-SPO] Iteration 646, objective value: [35.748806837898385].\n"
     ]
    },
    {
     "name": "stderr",
     "output_type": "stream",
     "text": [
      "\r",
      " 65%|████████████████████████████████████████████████▍                          | 646/1000 [7:47:49<4:16:26, 43.46s/it]"
     ]
    },
    {
     "name": "stdout",
     "output_type": "stream",
     "text": [
      "\t ----- reward: -35.748806837898385 for f_star and f_minus: 24.29884965820223 , 35.748806837898385\n",
      "\t ---------- State is:  (0, 8)\n",
      "[INFO] [2023-03-01 07:18:05,971] [Advisor] Sample random config. rand_prob=0.100000.\n",
      "[INFO] [2023-03-01 07:18:40,526] [OpenBox-SPO] Iteration 647, objective value: [48.61005933131356].\n"
     ]
    },
    {
     "name": "stderr",
     "output_type": "stream",
     "text": [
      "\r",
      " 65%|████████████████████████████████████████████████▌                          | 647/1000 [7:48:24<3:59:59, 40.79s/it]"
     ]
    },
    {
     "name": "stdout",
     "output_type": "stream",
     "text": [
      "\t ----- reward: -48.61005933131356 for f_star and f_minus: 24.29884965820223 , 48.61005933131356\n",
      "\t ---------- State is:  (0, 8)\n",
      "[INFO] [2023-03-01 07:18:40,526] [Advisor] Sample random config. rand_prob=0.100000.\n",
      "[INFO] [2023-03-01 07:19:10,091] [OpenBox-SPO] Iteration 648, objective value: [54.32699091168316].\n"
     ]
    },
    {
     "name": "stderr",
     "output_type": "stream",
     "text": [
      "\r",
      " 65%|████████████████████████████████████████████████▌                          | 648/1000 [7:48:53<3:39:32, 37.42s/it]"
     ]
    },
    {
     "name": "stdout",
     "output_type": "stream",
     "text": [
      "\t ----- reward: -54.32699091168316 for f_star and f_minus: 24.29884965820223 , 54.32699091168316\n",
      "\t ---------- State is:  (1, 8)\n",
      "[INFO] [2023-03-01 07:19:54,741] [OpenBox-SPO] Iteration 649, objective value: [31.6253484156867].\n"
     ]
    },
    {
     "name": "stderr",
     "output_type": "stream",
     "text": [
      "\r",
      " 65%|████████████████████████████████████████████████▋                          | 649/1000 [7:49:38<3:51:36, 39.59s/it]"
     ]
    },
    {
     "name": "stdout",
     "output_type": "stream",
     "text": [
      "\t ----- reward: -31.6253484156867 for f_star and f_minus: 24.29884965820223 , 31.6253484156867\n",
      "\t ---------- State is:  (2, 8)\n",
      "[INFO] [2023-03-01 07:20:39,451] [OpenBox-SPO] Iteration 650, objective value: [55.36790087983837].\n"
     ]
    },
    {
     "name": "stderr",
     "output_type": "stream",
     "text": [
      "\r",
      " 65%|████████████████████████████████████████████████▊                          | 650/1000 [7:50:23<3:59:54, 41.13s/it]"
     ]
    },
    {
     "name": "stdout",
     "output_type": "stream",
     "text": [
      "\t ----- reward: -55.36790087983837 for f_star and f_minus: 24.29884965820223 , 55.36790087983837\n",
      "\t ---------- State is:  (1, 8)\n",
      "[INFO] [2023-03-01 07:21:22,896] [OpenBox-SPO] Iteration 651, objective value: [35.77871932761607].\n"
     ]
    },
    {
     "name": "stderr",
     "output_type": "stream",
     "text": [
      "\r",
      " 65%|████████████████████████████████████████████████▊                          | 651/1000 [7:51:06<4:03:15, 41.82s/it]"
     ]
    },
    {
     "name": "stdout",
     "output_type": "stream",
     "text": [
      "\t ----- reward: -35.77871932761607 for f_star and f_minus: 24.29884965820223 , 35.77871932761607\n",
      "\t ---------- State is:  (2, 8)\n",
      "[INFO] [2023-03-01 07:22:02,014] [OpenBox-SPO] Iteration 652, objective value: [29.219520388929894].\n"
     ]
    },
    {
     "name": "stderr",
     "output_type": "stream",
     "text": [
      "\r",
      " 65%|████████████████████████████████████████████████▉                          | 652/1000 [7:51:45<3:57:51, 41.01s/it]"
     ]
    },
    {
     "name": "stdout",
     "output_type": "stream",
     "text": [
      "\t ----- reward: -29.219520388929894 for f_star and f_minus: 24.29884965820223 , 29.219520388929894\n",
      "\t ---------- State is:  (2, 8)\n",
      "[INFO] [2023-03-01 07:22:41,628] [OpenBox-SPO] Iteration 653, objective value: [29.10689142021377].\n"
     ]
    },
    {
     "name": "stderr",
     "output_type": "stream",
     "text": [
      "\r",
      " 65%|████████████████████████████████████████████████▉                          | 653/1000 [7:52:25<3:54:45, 40.59s/it]"
     ]
    },
    {
     "name": "stdout",
     "output_type": "stream",
     "text": [
      "\t ----- reward: -29.10689142021377 for f_star and f_minus: 24.29884965820223 , 29.10689142021377\n",
      "\t ---------- State is:  (3, 8)\n",
      "[INFO] [2023-03-01 07:23:37,261] [OpenBox-SPO] Iteration 654, objective value: [50.96788806587621].\n"
     ]
    },
    {
     "name": "stderr",
     "output_type": "stream",
     "text": [
      "\r",
      " 65%|█████████████████████████████████████████████████                          | 654/1000 [7:53:20<4:20:06, 45.10s/it]"
     ]
    },
    {
     "name": "stdout",
     "output_type": "stream",
     "text": [
      "\t ----- reward: -50.96788806587621 for f_star and f_minus: 24.29884965820223 , 50.96788806587621\n",
      "\t ---------- State is:  (3, 8)\n",
      "[INFO] [2023-03-01 07:24:17,141] [OpenBox-SPO] Iteration 655, objective value: [38.20667671783765].\n"
     ]
    },
    {
     "name": "stderr",
     "output_type": "stream",
     "text": [
      "\r",
      " 66%|█████████████████████████████████████████████████▏                         | 655/1000 [7:54:00<4:10:20, 43.54s/it]"
     ]
    },
    {
     "name": "stdout",
     "output_type": "stream",
     "text": [
      "\t ----- reward: -38.20667671783765 for f_star and f_minus: 24.29884965820223 , 38.20667671783765\n",
      "\t ---------- State is:  (2, 10)\n",
      "[INFO] [2023-03-01 07:24:59,290] [OpenBox-SPO] Iteration 656, objective value: [26.718150924070756].\n"
     ]
    },
    {
     "name": "stderr",
     "output_type": "stream",
     "text": [
      "\r",
      " 66%|█████████████████████████████████████████████████▏                         | 656/1000 [7:54:42<4:07:13, 43.12s/it]"
     ]
    },
    {
     "name": "stdout",
     "output_type": "stream",
     "text": [
      "\t ----- reward: -26.718150924070756 for f_star and f_minus: 24.29884965820223 , 26.718150924070756\n",
      "\t ---------- State is:  (2, 10)\n",
      "[INFO] [2023-03-01 07:25:38,064] [OpenBox-SPO] Iteration 657, objective value: [36.85250685453322].\n"
     ]
    },
    {
     "name": "stderr",
     "output_type": "stream",
     "text": [
      "\r",
      " 66%|█████████████████████████████████████████████████▎                         | 657/1000 [7:55:21<3:59:03, 41.82s/it]"
     ]
    },
    {
     "name": "stdout",
     "output_type": "stream",
     "text": [
      "\t ----- reward: -36.85250685453322 for f_star and f_minus: 24.29884965820223 , 36.85250685453322\n",
      "\t ---------- State is:  (3, 11)\n",
      "[INFO] [2023-03-01 07:26:21,257] [OpenBox-SPO] Iteration 658, objective value: [26.939506883178055].\n"
     ]
    },
    {
     "name": "stderr",
     "output_type": "stream",
     "text": [
      "\r",
      " 66%|█████████████████████████████████████████████████▎                         | 658/1000 [7:56:04<4:00:42, 42.23s/it]"
     ]
    },
    {
     "name": "stdout",
     "output_type": "stream",
     "text": [
      "\t ----- reward: -26.939506883178055 for f_star and f_minus: 24.29884965820223 , 26.939506883178055\n",
      "\t ---------- State is:  (4, 9)\n",
      "[INFO] [2023-03-01 07:27:11,192] [OpenBox-SPO] Iteration 659, objective value: [33.08820191452618].\n"
     ]
    },
    {
     "name": "stderr",
     "output_type": "stream",
     "text": [
      "\r",
      " 66%|█████████████████████████████████████████████████▍                         | 659/1000 [7:56:54<4:13:10, 44.55s/it]"
     ]
    },
    {
     "name": "stdout",
     "output_type": "stream",
     "text": [
      "\t ----- reward: -33.08820191452618 for f_star and f_minus: 24.29884965820223 , 33.08820191452618\n",
      "\t ---------- State is:  (4, 8)\n",
      "[INFO] [2023-03-01 07:27:54,608] [OpenBox-SPO] Iteration 660, objective value: [29.71393815911209].\n"
     ]
    },
    {
     "name": "stderr",
     "output_type": "stream",
     "text": [
      "\r",
      " 66%|█████████████████████████████████████████████████▌                         | 660/1000 [7:57:38<4:10:28, 44.20s/it]"
     ]
    },
    {
     "name": "stdout",
     "output_type": "stream",
     "text": [
      "\t ----- reward: -29.71393815911209 for f_star and f_minus: 24.29884965820223 , 29.71393815911209\n",
      "\t ---------- State is:  (4, 8)\n",
      "[INFO] [2023-03-01 07:28:36,792] [OpenBox-SPO] Iteration 661, objective value: [28.820889333425924].\n"
     ]
    },
    {
     "name": "stderr",
     "output_type": "stream",
     "text": [
      "\r",
      " 66%|█████████████████████████████████████████████████▌                         | 661/1000 [7:58:20<4:06:19, 43.60s/it]"
     ]
    },
    {
     "name": "stdout",
     "output_type": "stream",
     "text": [
      "\t ----- reward: -28.820889333425924 for f_star and f_minus: 24.29884965820223 , 28.820889333425924\n",
      "\t ---------- State is:  (5, 8)\n",
      "[INFO] [2023-03-01 07:29:21,516] [OpenBox-SPO] Iteration 662, objective value: [39.83604266052105].\n"
     ]
    },
    {
     "name": "stderr",
     "output_type": "stream",
     "text": [
      "\r",
      " 66%|█████████████████████████████████████████████████▋                         | 662/1000 [7:59:05<4:07:30, 43.93s/it]"
     ]
    },
    {
     "name": "stdout",
     "output_type": "stream",
     "text": [
      "\t ----- reward: -39.83604266052105 for f_star and f_minus: 24.29884965820223 , 39.83604266052105\n",
      "\t ---------- State is:  (5, 10)\n",
      "[INFO] [2023-03-01 07:29:59,337] [OpenBox-SPO] Iteration 663, objective value: [35.59522675634247].\n"
     ]
    },
    {
     "name": "stderr",
     "output_type": "stream",
     "text": [
      "\r",
      " 66%|█████████████████████████████████████████████████▋                         | 663/1000 [7:59:42<3:56:27, 42.10s/it]"
     ]
    },
    {
     "name": "stdout",
     "output_type": "stream",
     "text": [
      "\t ----- reward: -35.59522675634247 for f_star and f_minus: 24.29884965820223 , 35.59522675634247\n",
      "\t ---------- State is:  (5, 11)\n",
      "[INFO] [2023-03-01 07:30:42,636] [OpenBox-SPO] Iteration 664, objective value: [27.30233713077854].\n"
     ]
    },
    {
     "name": "stderr",
     "output_type": "stream",
     "text": [
      "\r",
      " 66%|█████████████████████████████████████████████████▊                         | 664/1000 [8:00:26<3:57:46, 42.46s/it]"
     ]
    },
    {
     "name": "stdout",
     "output_type": "stream",
     "text": [
      "\t ----- reward: -27.30233713077854 for f_star and f_minus: 24.29884965820223 , 27.30233713077854\n",
      "\t ---------- State is:  (4, 11)\n",
      "[INFO] [2023-03-01 07:31:25,843] [OpenBox-SPO] Iteration 665, objective value: [33.240198005893774].\n"
     ]
    },
    {
     "name": "stderr",
     "output_type": "stream",
     "text": [
      "\r",
      " 66%|█████████████████████████████████████████████████▉                         | 665/1000 [8:01:09<3:58:19, 42.68s/it]"
     ]
    },
    {
     "name": "stdout",
     "output_type": "stream",
     "text": [
      "\t ----- reward: -33.240198005893774 for f_star and f_minus: 24.29884965820223 , 33.240198005893774\n",
      "\t ---------- State is:  (3, 10)\n",
      "[INFO] [2023-03-01 07:32:10,257] [OpenBox-SPO] Iteration 666, objective value: [25.807073913622844].\n"
     ]
    },
    {
     "name": "stderr",
     "output_type": "stream",
     "text": [
      "\r",
      " 67%|█████████████████████████████████████████████████▉                         | 666/1000 [8:01:53<4:00:29, 43.20s/it]"
     ]
    },
    {
     "name": "stdout",
     "output_type": "stream",
     "text": [
      "\t ----- reward: -25.807073913622844 for f_star and f_minus: 24.29884965820223 , 25.807073913622844\n",
      "\t ---------- State is:  (4, 8)\n",
      "[INFO] [2023-03-01 07:32:57,766] [OpenBox-SPO] Iteration 667, objective value: [27.766606436725056].\n"
     ]
    },
    {
     "name": "stderr",
     "output_type": "stream",
     "text": [
      "\r",
      " 67%|██████████████████████████████████████████████████                         | 667/1000 [8:02:41<4:06:56, 44.49s/it]"
     ]
    },
    {
     "name": "stdout",
     "output_type": "stream",
     "text": [
      "\t ----- reward: -27.766606436725056 for f_star and f_minus: 24.29884965820223 , 27.766606436725056\n",
      "\t ---------- State is:  (3, 8)\n",
      "[INFO] [2023-03-01 07:33:40,041] [OpenBox-SPO] Iteration 668, objective value: [28.280702396584672].\n"
     ]
    },
    {
     "name": "stderr",
     "output_type": "stream",
     "text": [
      "\r",
      " 67%|██████████████████████████████████████████████████                         | 668/1000 [8:03:23<4:02:31, 43.83s/it]"
     ]
    },
    {
     "name": "stdout",
     "output_type": "stream",
     "text": [
      "\t ----- reward: -28.280702396584672 for f_star and f_minus: 24.29884965820223 , 28.280702396584672\n",
      "\t ---------- State is:  (4, 6)\n",
      "[INFO] [2023-03-01 07:33:40,041] [Advisor] Sample random config. rand_prob=0.100000.\n",
      "[INFO] [2023-03-01 07:34:08,639] [OpenBox-SPO] Iteration 669, objective value: [53.36954484916395].\n"
     ]
    },
    {
     "name": "stderr",
     "output_type": "stream",
     "text": [
      "\r",
      " 67%|██████████████████████████████████████████████████▏                        | 669/1000 [8:03:52<3:36:34, 39.26s/it]"
     ]
    },
    {
     "name": "stdout",
     "output_type": "stream",
     "text": [
      "\t ----- reward: -53.36954484916395 for f_star and f_minus: 24.29884965820223 , 53.36954484916395\n",
      "\t ---------- State is:  (5, 7)\n",
      "[INFO] [2023-03-01 07:34:45,352] [OpenBox-SPO] Iteration 670, objective value: [37.403486530353966].\n"
     ]
    },
    {
     "name": "stderr",
     "output_type": "stream",
     "text": [
      "\r",
      " 67%|██████████████████████████████████████████████████▎                        | 670/1000 [8:04:28<3:31:43, 38.50s/it]"
     ]
    },
    {
     "name": "stdout",
     "output_type": "stream",
     "text": [
      "\t ----- reward: -37.403486530353966 for f_star and f_minus: 24.29884965820223 , 37.403486530353966\n",
      "\t ---------- State is:  (4, 7)\n",
      "[INFO] [2023-03-01 07:35:29,562] [OpenBox-SPO] Iteration 671, objective value: [37.083680057252565].\n"
     ]
    },
    {
     "name": "stderr",
     "output_type": "stream",
     "text": [
      "\r",
      " 67%|██████████████████████████████████████████████████▎                        | 671/1000 [8:05:13<3:40:29, 40.21s/it]"
     ]
    },
    {
     "name": "stdout",
     "output_type": "stream",
     "text": [
      "\t ----- reward: -37.083680057252565 for f_star and f_minus: 24.29884965820223 , 37.083680057252565\n",
      "\t ---------- State is:  (4, 7)\n",
      "[INFO] [2023-03-01 07:36:10,864] [OpenBox-SPO] Iteration 672, objective value: [26.706374836736188].\n"
     ]
    },
    {
     "name": "stderr",
     "output_type": "stream",
     "text": [
      "\r",
      " 67%|██████████████████████████████████████████████████▍                        | 672/1000 [8:05:54<3:41:36, 40.54s/it]"
     ]
    },
    {
     "name": "stdout",
     "output_type": "stream",
     "text": [
      "\t ----- reward: -26.706374836736188 for f_star and f_minus: 24.29884965820223 , 26.706374836736188\n",
      "\t ---------- State is:  (5, 7)\n",
      "[INFO] [2023-03-01 07:36:56,046] [OpenBox-SPO] Iteration 673, objective value: [27.834390675782288].\n"
     ]
    },
    {
     "name": "stderr",
     "output_type": "stream",
     "text": [
      "\r",
      " 67%|██████████████████████████████████████████████████▍                        | 673/1000 [8:06:39<3:48:31, 41.93s/it]"
     ]
    },
    {
     "name": "stdout",
     "output_type": "stream",
     "text": [
      "\t ----- reward: -27.834390675782288 for f_star and f_minus: 24.29884965820223 , 27.834390675782288\n",
      "\t ---------- State is:  (6, 7)\n",
      "[INFO] [2023-03-01 07:37:36,587] [OpenBox-SPO] Iteration 674, objective value: [28.156281492853964].\n"
     ]
    },
    {
     "name": "stderr",
     "output_type": "stream",
     "text": [
      "\r",
      " 67%|██████████████████████████████████████████████████▌                        | 674/1000 [8:07:20<3:45:33, 41.51s/it]"
     ]
    },
    {
     "name": "stdout",
     "output_type": "stream",
     "text": [
      "\t ----- reward: -28.156281492853964 for f_star and f_minus: 24.29884965820223 , 28.156281492853964\n",
      "\t ---------- State is:  (5, 4)\n",
      "[INFO] [2023-03-01 07:38:20,668] [OpenBox-SPO] Iteration 675, objective value: [31.11759340321808].\n"
     ]
    },
    {
     "name": "stderr",
     "output_type": "stream",
     "text": [
      "\r",
      " 68%|██████████████████████████████████████████████████▋                        | 675/1000 [8:08:04<3:49:02, 42.28s/it]"
     ]
    },
    {
     "name": "stdout",
     "output_type": "stream",
     "text": [
      "\t ----- reward: -31.11759340321808 for f_star and f_minus: 24.29884965820223 , 31.11759340321808\n",
      "\t ---------- State is:  (4, 4)\n",
      "[INFO] [2023-03-01 07:39:11,377] [OpenBox-SPO] Iteration 676, objective value: [40.11468114814575].\n"
     ]
    },
    {
     "name": "stderr",
     "output_type": "stream",
     "text": [
      "\r",
      " 68%|██████████████████████████████████████████████████▋                        | 676/1000 [8:08:54<4:01:58, 44.81s/it]"
     ]
    },
    {
     "name": "stdout",
     "output_type": "stream",
     "text": [
      "\t ----- reward: -40.11468114814575 for f_star and f_minus: 24.29884965820223 , 40.11468114814575\n",
      "\t ---------- State is:  (4, 6)\n",
      "[INFO] [2023-03-01 07:39:55,249] [OpenBox-SPO] Iteration 677, objective value: [39.099101885958575].\n"
     ]
    },
    {
     "name": "stderr",
     "output_type": "stream",
     "text": [
      "\r",
      " 68%|██████████████████████████████████████████████████▊                        | 677/1000 [8:09:38<3:59:43, 44.53s/it]"
     ]
    },
    {
     "name": "stdout",
     "output_type": "stream",
     "text": [
      "\t ----- reward: -39.099101885958575 for f_star and f_minus: 24.29884965820223 , 39.099101885958575\n",
      "\t ---------- State is:  (3, 6)\n",
      "[INFO] [2023-03-01 07:40:39,257] [OpenBox-SPO] Iteration 678, objective value: [37.55348463877858].\n"
     ]
    },
    {
     "name": "stderr",
     "output_type": "stream",
     "text": [
      "\r",
      " 68%|██████████████████████████████████████████████████▊                        | 678/1000 [8:10:22<3:58:08, 44.37s/it]"
     ]
    },
    {
     "name": "stdout",
     "output_type": "stream",
     "text": [
      "\t ----- reward: -37.55348463877858 for f_star and f_minus: 24.29884965820223 , 37.55348463877858\n",
      "\t ---------- State is:  (4, 7)\n",
      "[INFO] [2023-03-01 07:41:19,028] [OpenBox-SPO] Iteration 679, objective value: [29.171399465285504].\n"
     ]
    },
    {
     "name": "stderr",
     "output_type": "stream",
     "text": [
      "\r",
      " 68%|██████████████████████████████████████████████████▉                        | 679/1000 [8:11:02<3:50:00, 42.99s/it]"
     ]
    },
    {
     "name": "stdout",
     "output_type": "stream",
     "text": [
      "\t ----- reward: -29.171399465285504 for f_star and f_minus: 24.29884965820223 , 29.171399465285504\n",
      "\t ---------- State is:  (4, 6)\n",
      "[INFO] [2023-03-01 07:42:04,473] [OpenBox-SPO] Iteration 680, objective value: [28.465971390907598].\n"
     ]
    },
    {
     "name": "stderr",
     "output_type": "stream",
     "text": [
      "\r",
      " 68%|███████████████████████████████████████████████████                        | 680/1000 [8:11:48<3:53:13, 43.73s/it]"
     ]
    },
    {
     "name": "stdout",
     "output_type": "stream",
     "text": [
      "\t ----- reward: -28.465971390907598 for f_star and f_minus: 24.29884965820223 , 28.465971390907598\n",
      "\t ---------- State is:  (4, 5)\n",
      "[INFO] [2023-03-01 07:42:46,247] [OpenBox-SPO] Iteration 681, objective value: [28.716712335305033].\n"
     ]
    },
    {
     "name": "stderr",
     "output_type": "stream",
     "text": [
      "\r",
      " 68%|███████████████████████████████████████████████████                        | 681/1000 [8:12:29<3:49:22, 43.14s/it]"
     ]
    },
    {
     "name": "stdout",
     "output_type": "stream",
     "text": [
      "\t ----- reward: -28.716712335305033 for f_star and f_minus: 24.29884965820223 , 28.716712335305033\n",
      "\t ---------- State is:  (4, 5)\n",
      "[INFO] [2023-03-01 07:43:33,219] [OpenBox-SPO] Iteration 682, objective value: [44.05785957845008].\n"
     ]
    },
    {
     "name": "stderr",
     "output_type": "stream",
     "text": [
      "\r",
      " 68%|███████████████████████████████████████████████████▏                       | 682/1000 [8:13:16<3:54:44, 44.29s/it]"
     ]
    },
    {
     "name": "stdout",
     "output_type": "stream",
     "text": [
      "\t ----- reward: -44.05785957845008 for f_star and f_minus: 24.29884965820223 , 44.05785957845008\n",
      "\t ---------- State is:  (3, 5)\n",
      "[INFO] [2023-03-01 07:44:15,288] [OpenBox-SPO] Iteration 683, objective value: [31.011241421516402].\n"
     ]
    },
    {
     "name": "stderr",
     "output_type": "stream",
     "text": [
      "\r",
      " 68%|███████████████████████████████████████████████████▏                       | 683/1000 [8:13:58<3:50:28, 43.62s/it]"
     ]
    },
    {
     "name": "stdout",
     "output_type": "stream",
     "text": [
      "\t ----- reward: -31.011241421516402 for f_star and f_minus: 24.29884965820223 , 31.011241421516402\n",
      "\t ---------- State is:  (3, 5)\n",
      "[INFO] [2023-03-01 07:44:56,422] [OpenBox-SPO] Iteration 684, objective value: [27.74935874630728].\n"
     ]
    },
    {
     "name": "stderr",
     "output_type": "stream",
     "text": [
      "\r",
      " 68%|███████████████████████████████████████████████████▎                       | 684/1000 [8:14:39<3:45:49, 42.88s/it]"
     ]
    },
    {
     "name": "stdout",
     "output_type": "stream",
     "text": [
      "\t ----- reward: -27.74935874630728 for f_star and f_minus: 24.29884965820223 , 27.74935874630728\n",
      "\t ---------- State is:  (2, 5)\n",
      "[INFO] [2023-03-01 07:45:37,099] [OpenBox-SPO] Iteration 685, objective value: [28.696711658108526].\n"
     ]
    },
    {
     "name": "stderr",
     "output_type": "stream",
     "text": [
      "\r",
      " 68%|███████████████████████████████████████████████████▍                       | 685/1000 [8:15:20<3:41:38, 42.22s/it]"
     ]
    },
    {
     "name": "stdout",
     "output_type": "stream",
     "text": [
      "\t ----- reward: -28.696711658108526 for f_star and f_minus: 24.29884965820223 , 28.696711658108526\n",
      "\t ---------- State is:  (3, 4)\n",
      "[INFO] [2023-03-01 07:46:20,028] [OpenBox-SPO] Iteration 686, objective value: [31.130941836493747].\n"
     ]
    },
    {
     "name": "stderr",
     "output_type": "stream",
     "text": [
      "\r",
      " 69%|███████████████████████████████████████████████████▍                       | 686/1000 [8:16:03<3:42:03, 42.43s/it]"
     ]
    },
    {
     "name": "stdout",
     "output_type": "stream",
     "text": [
      "\t ----- reward: -31.130941836493747 for f_star and f_minus: 24.29884965820223 , 31.130941836493747\n",
      "\t ---------- State is:  (4, 5)\n",
      "[INFO] [2023-03-01 07:47:02,892] [OpenBox-SPO] Iteration 687, objective value: [29.532369849030246].\n"
     ]
    },
    {
     "name": "stderr",
     "output_type": "stream",
     "text": [
      "\r",
      " 69%|███████████████████████████████████████████████████▌                       | 687/1000 [8:16:46<3:42:01, 42.56s/it]"
     ]
    },
    {
     "name": "stdout",
     "output_type": "stream",
     "text": [
      "\t ----- reward: -29.532369849030246 for f_star and f_minus: 24.29884965820223 , 29.532369849030246\n",
      "\t ---------- State is:  (4, 5)\n",
      "[INFO] [2023-03-01 07:47:42,635] [OpenBox-SPO] Iteration 688, objective value: [26.63877426679663].\n"
     ]
    },
    {
     "name": "stderr",
     "output_type": "stream",
     "text": [
      "\r",
      " 69%|███████████████████████████████████████████████████▌                       | 688/1000 [8:17:26<3:36:55, 41.72s/it]"
     ]
    },
    {
     "name": "stdout",
     "output_type": "stream",
     "text": [
      "\t ----- reward: -26.63877426679663 for f_star and f_minus: 24.29884965820223 , 26.63877426679663\n",
      "\t ---------- State is:  (5, 5)\n",
      "[INFO] [2023-03-01 07:48:25,354] [OpenBox-SPO] Iteration 689, objective value: [25.628788290496487].\n"
     ]
    },
    {
     "name": "stderr",
     "output_type": "stream",
     "text": [
      "\r",
      " 69%|███████████████████████████████████████████████████▋                       | 689/1000 [8:18:08<3:37:47, 42.02s/it]"
     ]
    },
    {
     "name": "stdout",
     "output_type": "stream",
     "text": [
      "\t ----- reward: -25.628788290496487 for f_star and f_minus: 24.29884965820223 , 25.628788290496487\n",
      "\t ---------- State is:  (5, 5)\n",
      "[INFO] [2023-03-01 07:49:06,422] [OpenBox-SPO] Iteration 690, objective value: [29.18125659531586].\n"
     ]
    },
    {
     "name": "stderr",
     "output_type": "stream",
     "text": [
      "\r",
      " 69%|███████████████████████████████████████████████████▋                       | 690/1000 [8:18:49<3:35:36, 41.73s/it]"
     ]
    },
    {
     "name": "stdout",
     "output_type": "stream",
     "text": [
      "\t ----- reward: -29.18125659531586 for f_star and f_minus: 24.29884965820223 , 29.18125659531586\n",
      "\t ---------- State is:  (6, 4)\n",
      "[INFO] [2023-03-01 07:49:49,930] [OpenBox-SPO] Iteration 691, objective value: [27.48850268067362].\n"
     ]
    },
    {
     "name": "stderr",
     "output_type": "stream",
     "text": [
      "\r",
      " 69%|███████████████████████████████████████████████████▊                       | 691/1000 [8:19:33<3:37:39, 42.26s/it]"
     ]
    },
    {
     "name": "stdout",
     "output_type": "stream",
     "text": [
      "\t ----- reward: -27.48850268067362 for f_star and f_minus: 24.29884965820223 , 27.48850268067362\n",
      "\t ---------- State is:  (5, 4)\n",
      "[INFO] [2023-03-01 07:49:49,930] [Advisor] Sample random config. rand_prob=0.100000.\n",
      "[INFO] [2023-03-01 07:50:16,416] [OpenBox-SPO] Iteration 692, objective value: [58.850944524185245].\n"
     ]
    },
    {
     "name": "stderr",
     "output_type": "stream",
     "text": [
      "\r",
      " 69%|███████████████████████████████████████████████████▉                       | 692/1000 [8:19:59<3:12:39, 37.53s/it]"
     ]
    },
    {
     "name": "stdout",
     "output_type": "stream",
     "text": [
      "\t ----- reward: -58.850944524185245 for f_star and f_minus: 24.29884965820223 , 58.850944524185245\n",
      "\t ---------- State is:  (4, 4)\n",
      "[INFO] [2023-03-01 07:50:58,034] [OpenBox-SPO] Iteration 693, objective value: [34.06416365569473].\n"
     ]
    },
    {
     "name": "stderr",
     "output_type": "stream",
     "text": [
      "\r",
      " 69%|███████████████████████████████████████████████████▉                       | 693/1000 [8:20:41<3:18:18, 38.76s/it]"
     ]
    },
    {
     "name": "stdout",
     "output_type": "stream",
     "text": [
      "\t ----- reward: -34.06416365569473 for f_star and f_minus: 24.29884965820223 , 34.06416365569473\n",
      "\t ---------- State is:  (5, 5)\n",
      "[INFO] [2023-03-01 07:51:44,143] [OpenBox-SPO] Iteration 694, objective value: [29.447229137573757].\n"
     ]
    },
    {
     "name": "stderr",
     "output_type": "stream",
     "text": [
      "\r",
      " 69%|████████████████████████████████████████████████████                       | 694/1000 [8:21:27<3:28:54, 40.96s/it]"
     ]
    },
    {
     "name": "stdout",
     "output_type": "stream",
     "text": [
      "\t ----- reward: -29.447229137573757 for f_star and f_minus: 24.29884965820223 , 29.447229137573757\n",
      "\t ---------- State is:  (4, 5)\n",
      "[INFO] [2023-03-01 07:52:29,416] [OpenBox-SPO] Iteration 695, objective value: [31.65848994756621].\n"
     ]
    },
    {
     "name": "stderr",
     "output_type": "stream",
     "text": [
      "\r",
      " 70%|████████████████████████████████████████████████████                       | 695/1000 [8:22:12<3:34:47, 42.26s/it]"
     ]
    },
    {
     "name": "stdout",
     "output_type": "stream",
     "text": [
      "\t ----- reward: -31.65848994756621 for f_star and f_minus: 24.29884965820223 , 31.65848994756621\n",
      "\t ---------- State is:  (4, 5)\n",
      "[INFO] [2023-03-01 07:53:10,276] [OpenBox-SPO] Iteration 696, objective value: [28.417942356112064].\n"
     ]
    },
    {
     "name": "stderr",
     "output_type": "stream",
     "text": [
      "\r",
      " 70%|████████████████████████████████████████████████████▏                      | 696/1000 [8:22:53<3:31:58, 41.84s/it]"
     ]
    },
    {
     "name": "stdout",
     "output_type": "stream",
     "text": [
      "\t ----- reward: -28.417942356112064 for f_star and f_minus: 24.29884965820223 , 28.417942356112064\n",
      "\t ---------- State is:  (3, 5)\n",
      "[INFO] [2023-03-01 07:53:51,159] [OpenBox-SPO] Iteration 697, objective value: [30.255122501927858].\n"
     ]
    },
    {
     "name": "stderr",
     "output_type": "stream",
     "text": [
      "\r",
      " 70%|████████████████████████████████████████████████████▎                      | 697/1000 [8:23:34<3:29:49, 41.55s/it]"
     ]
    },
    {
     "name": "stdout",
     "output_type": "stream",
     "text": [
      "\t ----- reward: -30.255122501927858 for f_star and f_minus: 24.29884965820223 , 30.255122501927858\n",
      "\t ---------- State is:  (3, 5)\n",
      "[INFO] [2023-03-01 07:54:30,993] [OpenBox-SPO] Iteration 698, objective value: [26.295065532102726].\n"
     ]
    },
    {
     "name": "stderr",
     "output_type": "stream",
     "text": [
      "\r",
      " 70%|████████████████████████████████████████████████████▎                      | 698/1000 [8:24:14<3:26:32, 41.04s/it]"
     ]
    },
    {
     "name": "stdout",
     "output_type": "stream",
     "text": [
      "\t ----- reward: -26.295065532102726 for f_star and f_minus: 24.29884965820223 , 26.295065532102726\n",
      "\t ---------- State is:  (2, 4)\n",
      "[INFO] [2023-03-01 07:55:10,671] [OpenBox-SPO] Iteration 699, objective value: [30.374538006704753].\n"
     ]
    },
    {
     "name": "stderr",
     "output_type": "stream",
     "text": [
      "\r",
      " 70%|████████████████████████████████████████████████████▍                      | 699/1000 [8:24:54<3:23:49, 40.63s/it]"
     ]
    },
    {
     "name": "stdout",
     "output_type": "stream",
     "text": [
      "\t ----- reward: -30.374538006704753 for f_star and f_minus: 24.29884965820223 , 30.374538006704753\n",
      "\t ---------- State is:  (2, 5)\n",
      "[INFO] [2023-03-01 07:55:57,916] [OpenBox-SPO] Iteration 700, objective value: [43.64669457055772].\n"
     ]
    },
    {
     "name": "stderr",
     "output_type": "stream",
     "text": [
      "\r",
      " 70%|████████████████████████████████████████████████████▌                      | 700/1000 [8:25:41<3:33:05, 42.62s/it]"
     ]
    },
    {
     "name": "stdout",
     "output_type": "stream",
     "text": [
      "\t ----- reward: -43.64669457055772 for f_star and f_minus: 24.29884965820223 , 43.64669457055772\n",
      "\t ---------- State is:  (1, 5)\n",
      "[INFO] [2023-03-01 07:56:40,469] [OpenBox-SPO] Iteration 701, objective value: [34.77388684225406].\n"
     ]
    },
    {
     "name": "stderr",
     "output_type": "stream",
     "text": [
      "\r",
      " 70%|████████████████████████████████████████████████████▌                      | 701/1000 [8:26:24<3:32:15, 42.59s/it]"
     ]
    },
    {
     "name": "stdout",
     "output_type": "stream",
     "text": [
      "\t ----- reward: -34.77388684225406 for f_star and f_minus: 24.29884965820223 , 34.77388684225406\n",
      "\t ---------- State is:  (1, 5)\n",
      "[INFO] [2023-03-01 07:57:21,662] [OpenBox-SPO] Iteration 702, objective value: [30.531464258463984].\n"
     ]
    },
    {
     "name": "stderr",
     "output_type": "stream",
     "text": [
      "\r",
      " 70%|████████████████████████████████████████████████████▋                      | 702/1000 [8:27:05<3:29:27, 42.17s/it]"
     ]
    },
    {
     "name": "stdout",
     "output_type": "stream",
     "text": [
      "\t ----- reward: -30.531464258463984 for f_star and f_minus: 24.29884965820223 , 30.531464258463984\n",
      "\t ---------- State is:  (2, 5)\n",
      "[INFO] [2023-03-01 07:58:02,654] [OpenBox-SPO] Iteration 703, objective value: [28.324453779745056].\n"
     ]
    },
    {
     "name": "stderr",
     "output_type": "stream",
     "text": [
      "\r",
      " 70%|████████████████████████████████████████████████████▋                      | 703/1000 [8:27:46<3:27:00, 41.82s/it]"
     ]
    },
    {
     "name": "stdout",
     "output_type": "stream",
     "text": [
      "\t ----- reward: -28.324453779745056 for f_star and f_minus: 24.29884965820223 , 28.324453779745056\n",
      "\t ---------- State is:  (2, 5)\n",
      "[INFO] [2023-03-01 07:58:02,654] [Advisor] Sample random config. rand_prob=0.100000.\n",
      "[INFO] [2023-03-01 07:58:32,301] [OpenBox-SPO] Iteration 704, objective value: [65.01848373552437].\n"
     ]
    },
    {
     "name": "stderr",
     "output_type": "stream",
     "text": [
      "\r",
      " 70%|████████████████████████████████████████████████████▊                      | 704/1000 [8:28:15<3:08:17, 38.17s/it]"
     ]
    },
    {
     "name": "stdout",
     "output_type": "stream",
     "text": [
      "\t ----- reward: -65.01848373552437 for f_star and f_minus: 24.29884965820223 , 65.01848373552437\n",
      "\t ---------- State is:  (3, 5)\n",
      "[INFO] [2023-03-01 07:59:16,683] [OpenBox-SPO] Iteration 705, objective value: [36.83937146249081].\n"
     ]
    },
    {
     "name": "stderr",
     "output_type": "stream",
     "text": [
      "\r",
      " 70%|████████████████████████████████████████████████████▉                      | 705/1000 [8:29:00<3:16:49, 40.03s/it]"
     ]
    },
    {
     "name": "stdout",
     "output_type": "stream",
     "text": [
      "\t ----- reward: -36.83937146249081 for f_star and f_minus: 24.29884965820223 , 36.83937146249081\n",
      "\t ---------- State is:  (3, 6)\n",
      "[INFO] [2023-03-01 07:59:54,801] [OpenBox-SPO] Iteration 706, objective value: [47.218456801110385].\n"
     ]
    },
    {
     "name": "stderr",
     "output_type": "stream",
     "text": [
      "\r",
      " 71%|████████████████████████████████████████████████████▉                      | 706/1000 [8:29:38<3:13:20, 39.46s/it]"
     ]
    },
    {
     "name": "stdout",
     "output_type": "stream",
     "text": [
      "\t ----- reward: -47.218456801110385 for f_star and f_minus: 24.29884965820223 , 47.218456801110385\n",
      "\t ---------- State is:  (2, 6)\n",
      "[INFO] [2023-03-01 08:00:36,438] [OpenBox-SPO] Iteration 707, objective value: [31.587271876491926].\n"
     ]
    },
    {
     "name": "stderr",
     "output_type": "stream",
     "text": [
      "\r",
      " 71%|█████████████████████████████████████████████████████                      | 707/1000 [8:30:20<3:15:52, 40.11s/it]"
     ]
    },
    {
     "name": "stdout",
     "output_type": "stream",
     "text": [
      "\t ----- reward: -31.587271876491926 for f_star and f_minus: 24.29884965820223 , 31.587271876491926\n",
      "\t ---------- State is:  (3, 6)\n",
      "[INFO] [2023-03-01 08:01:18,650] [OpenBox-SPO] Iteration 708, objective value: [27.470677798665278].\n"
     ]
    },
    {
     "name": "stderr",
     "output_type": "stream",
     "text": [
      "\r",
      " 71%|█████████████████████████████████████████████████████                      | 708/1000 [8:31:02<3:18:16, 40.74s/it]"
     ]
    },
    {
     "name": "stdout",
     "output_type": "stream",
     "text": [
      "\t ----- reward: -27.470677798665278 for f_star and f_minus: 24.29884965820223 , 27.470677798665278\n",
      "\t ---------- State is:  (3, 6)\n",
      "[INFO] [2023-03-01 08:02:01,768] [OpenBox-SPO] Iteration 709, objective value: [27.606585286465986].\n"
     ]
    },
    {
     "name": "stderr",
     "output_type": "stream",
     "text": [
      "\r",
      " 71%|█████████████████████████████████████████████████████▏                     | 709/1000 [8:31:45<3:21:03, 41.45s/it]"
     ]
    },
    {
     "name": "stdout",
     "output_type": "stream",
     "text": [
      "\t ----- reward: -27.606585286465986 for f_star and f_minus: 24.29884965820223 , 27.606585286465986\n",
      "\t ---------- State is:  (4, 6)\n",
      "[INFO] [2023-03-01 08:02:43,606] [OpenBox-SPO] Iteration 710, objective value: [27.76450347468014].\n"
     ]
    },
    {
     "name": "stderr",
     "output_type": "stream",
     "text": [
      "\r",
      " 71%|█████████████████████████████████████████████████████▎                     | 710/1000 [8:32:27<3:20:55, 41.57s/it]"
     ]
    },
    {
     "name": "stdout",
     "output_type": "stream",
     "text": [
      "\t ----- reward: -27.76450347468014 for f_star and f_minus: 24.29884965820223 , 27.76450347468014\n",
      "\t ---------- State is:  (4, 6)\n",
      "[INFO] [2023-03-01 08:03:24,580] [OpenBox-SPO] Iteration 711, objective value: [27.752820410262686].\n"
     ]
    },
    {
     "name": "stderr",
     "output_type": "stream",
     "text": [
      "\r",
      " 71%|█████████████████████████████████████████████████████▎                     | 711/1000 [8:33:08<3:19:21, 41.39s/it]"
     ]
    },
    {
     "name": "stdout",
     "output_type": "stream",
     "text": [
      "\t ----- reward: -27.752820410262686 for f_star and f_minus: 24.29884965820223 , 27.752820410262686\n",
      "\t ---------- State is:  (3, 6)\n",
      "[INFO] [2023-03-01 08:04:06,007] [OpenBox-SPO] Iteration 712, objective value: [31.393014656697943].\n"
     ]
    },
    {
     "name": "stderr",
     "output_type": "stream",
     "text": [
      "\r",
      " 71%|█████████████████████████████████████████████████████▍                     | 712/1000 [8:33:49<3:18:43, 41.40s/it]"
     ]
    },
    {
     "name": "stdout",
     "output_type": "stream",
     "text": [
      "\t ----- reward: -31.393014656697943 for f_star and f_minus: 24.29884965820223 , 31.393014656697943\n",
      "\t ---------- State is:  (2, 6)\n",
      "[INFO] [2023-03-01 08:04:06,007] [Advisor] Sample random config. rand_prob=0.100000.\n",
      "[INFO] [2023-03-01 08:04:41,109] [OpenBox-SPO] Iteration 713, objective value: [56.44885272459517].\n"
     ]
    },
    {
     "name": "stderr",
     "output_type": "stream",
     "text": [
      "\r",
      " 71%|█████████████████████████████████████████████████████▍                     | 713/1000 [8:34:24<3:08:59, 39.51s/it]"
     ]
    },
    {
     "name": "stdout",
     "output_type": "stream",
     "text": [
      "\t ----- reward: -56.44885272459517 for f_star and f_minus: 24.29884965820223 , 56.44885272459517\n",
      "\t ---------- State is:  (1, 6)\n",
      "[INFO] [2023-03-01 08:05:25,349] [OpenBox-SPO] Iteration 714, objective value: [36.19889173275117].\n"
     ]
    },
    {
     "name": "stderr",
     "output_type": "stream",
     "text": [
      "\r",
      " 71%|█████████████████████████████████████████████████████▌                     | 714/1000 [8:35:08<3:15:06, 40.93s/it]"
     ]
    },
    {
     "name": "stdout",
     "output_type": "stream",
     "text": [
      "\t ----- reward: -36.19889173275117 for f_star and f_minus: 24.29884965820223 , 36.19889173275117\n",
      "\t ---------- State is:  (2, 6)\n",
      "[INFO] [2023-03-01 08:06:08,201] [OpenBox-SPO] Iteration 715, objective value: [27.335447235851333].\n"
     ]
    },
    {
     "name": "stderr",
     "output_type": "stream",
     "text": [
      "\r",
      " 72%|█████████████████████████████████████████████████████▋                     | 715/1000 [8:35:51<3:17:09, 41.51s/it]"
     ]
    },
    {
     "name": "stdout",
     "output_type": "stream",
     "text": [
      "\t ----- reward: -27.335447235851333 for f_star and f_minus: 24.29884965820223 , 27.335447235851333\n",
      "\t ---------- State is:  (2, 6)\n",
      "[INFO] [2023-03-01 08:06:53,930] [OpenBox-SPO] Iteration 716, objective value: [30.496228696268318].\n"
     ]
    },
    {
     "name": "stderr",
     "output_type": "stream",
     "text": [
      "\r",
      " 72%|█████████████████████████████████████████████████████▋                     | 716/1000 [8:36:37<3:22:27, 42.77s/it]"
     ]
    },
    {
     "name": "stdout",
     "output_type": "stream",
     "text": [
      "\t ----- reward: -30.496228696268318 for f_star and f_minus: 24.29884965820223 , 30.496228696268318\n",
      "\t ---------- State is:  (2, 6)\n",
      "[INFO] [2023-03-01 08:06:53,930] [Advisor] Sample random config. rand_prob=0.100000.\n",
      "[INFO] [2023-03-01 08:07:31,014] [OpenBox-SPO] Iteration 717, objective value: [52.58890709948179].\n"
     ]
    },
    {
     "name": "stderr",
     "output_type": "stream",
     "text": [
      "\r",
      " 72%|█████████████████████████████████████████████████████▊                     | 717/1000 [8:37:14<3:13:41, 41.07s/it]"
     ]
    },
    {
     "name": "stdout",
     "output_type": "stream",
     "text": [
      "\t ----- reward: -52.58890709948179 for f_star and f_minus: 24.29884965820223 , 52.58890709948179\n",
      "\t ---------- State is:  (3, 6)\n",
      "[INFO] [2023-03-01 08:08:14,958] [OpenBox-SPO] Iteration 718, objective value: [32.284704803289685].\n"
     ]
    },
    {
     "name": "stderr",
     "output_type": "stream",
     "text": [
      "\r",
      " 72%|█████████████████████████████████████████████████████▊                     | 718/1000 [8:37:58<3:17:04, 41.93s/it]"
     ]
    },
    {
     "name": "stdout",
     "output_type": "stream",
     "text": [
      "\t ----- reward: -32.284704803289685 for f_star and f_minus: 24.29884965820223 , 32.284704803289685\n",
      "\t ---------- State is:  (3, 7)\n",
      "[INFO] [2023-03-01 08:08:14,958] [Advisor] Sample random config. rand_prob=0.100000.\n",
      "[INFO] [2023-03-01 08:08:46,043] [OpenBox-SPO] Iteration 719, objective value: [63.2598460046178].\n"
     ]
    },
    {
     "name": "stderr",
     "output_type": "stream",
     "text": [
      "\r",
      " 72%|█████████████████████████████████████████████████████▉                     | 719/1000 [8:38:29<3:01:08, 38.68s/it]"
     ]
    },
    {
     "name": "stdout",
     "output_type": "stream",
     "text": [
      "\t ----- reward: -63.2598460046178 for f_star and f_minus: 24.29884965820223 , 63.2598460046178\n",
      "\t ---------- State is:  (4, 7)\n",
      "[INFO] [2023-03-01 08:09:31,690] [OpenBox-SPO] Iteration 720, objective value: [32.41486735336274].\n"
     ]
    },
    {
     "name": "stderr",
     "output_type": "stream",
     "text": [
      "\r",
      " 72%|██████████████████████████████████████████████████████                     | 720/1000 [8:39:15<3:10:14, 40.77s/it]"
     ]
    },
    {
     "name": "stdout",
     "output_type": "stream",
     "text": [
      "\t ----- reward: -32.41486735336274 for f_star and f_minus: 24.29884965820223 , 32.41486735336274\n",
      "\t ---------- State is:  (3, 7)\n",
      "[INFO] [2023-03-01 08:10:15,364] [OpenBox-SPO] Iteration 721, objective value: [28.287764414634808].\n"
     ]
    },
    {
     "name": "stderr",
     "output_type": "stream",
     "text": [
      "\r",
      " 72%|██████████████████████████████████████████████████████                     | 721/1000 [8:39:58<3:13:37, 41.64s/it]"
     ]
    },
    {
     "name": "stdout",
     "output_type": "stream",
     "text": [
      "\t ----- reward: -28.287764414634808 for f_star and f_minus: 24.29884965820223 , 28.287764414634808\n",
      "\t ---------- State is:  (2, 7)\n",
      "[INFO] [2023-03-01 08:10:56,544] [OpenBox-SPO] Iteration 722, objective value: [31.01155689818053].\n"
     ]
    },
    {
     "name": "stderr",
     "output_type": "stream",
     "text": [
      "\r",
      " 72%|██████████████████████████████████████████████████████▏                    | 722/1000 [8:40:40<3:12:17, 41.50s/it]"
     ]
    },
    {
     "name": "stdout",
     "output_type": "stream",
     "text": [
      "\t ----- reward: -31.01155689818053 for f_star and f_minus: 24.29884965820223 , 31.01155689818053\n",
      "\t ---------- State is:  (3, 7)\n",
      "[INFO] [2023-03-01 08:11:42,880] [OpenBox-SPO] Iteration 723, objective value: [27.876813981780117].\n"
     ]
    },
    {
     "name": "stderr",
     "output_type": "stream",
     "text": [
      "\r",
      " 72%|██████████████████████████████████████████████████████▏                    | 723/1000 [8:41:26<3:18:17, 42.95s/it]"
     ]
    },
    {
     "name": "stdout",
     "output_type": "stream",
     "text": [
      "\t ----- reward: -27.876813981780117 for f_star and f_minus: 24.29884965820223 , 27.876813981780117\n",
      "\t ---------- State is:  (2, 7)\n",
      "[INFO] [2023-03-01 08:12:23,339] [OpenBox-SPO] Iteration 724, objective value: [28.17808772232337].\n"
     ]
    },
    {
     "name": "stderr",
     "output_type": "stream",
     "text": [
      "\r",
      " 72%|██████████████████████████████████████████████████████▎                    | 724/1000 [8:42:06<3:14:08, 42.20s/it]"
     ]
    },
    {
     "name": "stdout",
     "output_type": "stream",
     "text": [
      "\t ----- reward: -28.17808772232337 for f_star and f_minus: 24.29884965820223 , 28.17808772232337\n",
      "\t ---------- State is:  (2, 6)\n",
      "[INFO] [2023-03-01 08:13:07,221] [OpenBox-SPO] Iteration 725, objective value: [29.200583559004045].\n"
     ]
    },
    {
     "name": "stderr",
     "output_type": "stream",
     "text": [
      "\r",
      " 72%|██████████████████████████████████████████████████████▍                    | 725/1000 [8:42:50<3:15:44, 42.71s/it]"
     ]
    },
    {
     "name": "stdout",
     "output_type": "stream",
     "text": [
      "\t ----- reward: -29.200583559004045 for f_star and f_minus: 24.29884965820223 , 29.200583559004045\n",
      "\t ---------- State is:  (2, 6)\n",
      "[INFO] [2023-03-01 08:13:47,719] [OpenBox-SPO] Iteration 726, objective value: [31.59592699085269].\n"
     ]
    },
    {
     "name": "stderr",
     "output_type": "stream",
     "text": [
      "\r",
      " 73%|██████████████████████████████████████████████████████▍                    | 726/1000 [8:43:31<3:12:00, 42.04s/it]"
     ]
    },
    {
     "name": "stdout",
     "output_type": "stream",
     "text": [
      "\t ----- reward: -31.59592699085269 for f_star and f_minus: 24.29884965820223 , 31.59592699085269\n",
      "\t ---------- State is:  (1, 6)\n",
      "[INFO] [2023-03-01 08:14:28,352] [OpenBox-SPO] Iteration 727, objective value: [29.03684367932702].\n"
     ]
    },
    {
     "name": "stderr",
     "output_type": "stream",
     "text": [
      "\r",
      " 73%|██████████████████████████████████████████████████████▌                    | 727/1000 [8:44:11<3:09:22, 41.62s/it]"
     ]
    },
    {
     "name": "stdout",
     "output_type": "stream",
     "text": [
      "\t ----- reward: -29.03684367932702 for f_star and f_minus: 24.29884965820223 , 29.03684367932702\n",
      "\t ---------- State is:  (1, 5)\n",
      "[INFO] [2023-03-01 08:14:28,352] [Advisor] Sample random config. rand_prob=0.100000.\n",
      "[INFO] [2023-03-01 08:15:07,044] [OpenBox-SPO] Iteration 728, objective value: [53.01448482993483].\n"
     ]
    },
    {
     "name": "stderr",
     "output_type": "stream",
     "text": [
      "\r",
      " 73%|██████████████████████████████████████████████████████▌                    | 728/1000 [8:44:50<3:04:43, 40.75s/it]"
     ]
    },
    {
     "name": "stdout",
     "output_type": "stream",
     "text": [
      "\t ----- reward: -53.01448482993483 for f_star and f_minus: 24.29884965820223 , 53.01448482993483\n",
      "\t ---------- State is:  (0, 6)\n",
      "[INFO] [2023-03-01 08:15:50,913] [OpenBox-SPO] Iteration 729, objective value: [35.76538425285054].\n"
     ]
    },
    {
     "name": "stderr",
     "output_type": "stream",
     "text": [
      "\r",
      " 73%|██████████████████████████████████████████████████████▋                    | 729/1000 [8:45:34<3:08:15, 41.68s/it]"
     ]
    },
    {
     "name": "stdout",
     "output_type": "stream",
     "text": [
      "\t ----- reward: -35.76538425285054 for f_star and f_minus: 24.29884965820223 , 35.76538425285054\n",
      "\t ---------- State is:  (0, 6)\n",
      "[INFO] [2023-03-01 08:16:33,583] [OpenBox-SPO] Iteration 730, objective value: [50.49513848405557].\n"
     ]
    },
    {
     "name": "stderr",
     "output_type": "stream",
     "text": [
      "\r",
      " 73%|██████████████████████████████████████████████████████▊                    | 730/1000 [8:46:17<3:08:53, 41.98s/it]"
     ]
    },
    {
     "name": "stdout",
     "output_type": "stream",
     "text": [
      "\t ----- reward: -50.49513848405557 for f_star and f_minus: 24.29884965820223 , 50.49513848405557\n",
      "\t ---------- State is:  (0, 7)\n",
      "[INFO] [2023-03-01 08:17:16,526] [OpenBox-SPO] Iteration 731, objective value: [39.27263963138065].\n"
     ]
    },
    {
     "name": "stderr",
     "output_type": "stream",
     "text": [
      "\r",
      " 73%|██████████████████████████████████████████████████████▊                    | 731/1000 [8:47:00<3:09:29, 42.27s/it]"
     ]
    },
    {
     "name": "stdout",
     "output_type": "stream",
     "text": [
      "\t ----- reward: -39.27263963138065 for f_star and f_minus: 24.29884965820223 , 39.27263963138065\n",
      "\t ---------- State is:  (1, 7)\n",
      "[INFO] [2023-03-01 08:18:01,066] [OpenBox-SPO] Iteration 732, objective value: [32.11670997335669].\n"
     ]
    },
    {
     "name": "stderr",
     "output_type": "stream",
     "text": [
      "\r",
      " 73%|██████████████████████████████████████████████████████▉                    | 732/1000 [8:47:44<3:11:50, 42.95s/it]"
     ]
    },
    {
     "name": "stdout",
     "output_type": "stream",
     "text": [
      "\t ----- reward: -32.11670997335669 for f_star and f_minus: 24.29884965820223 , 32.11670997335669\n",
      "\t ---------- State is:  (0, 7)\n",
      "[INFO] [2023-03-01 08:18:40,441] [OpenBox-SPO] Iteration 733, objective value: [30.99853860719206].\n"
     ]
    },
    {
     "name": "stderr",
     "output_type": "stream",
     "text": [
      "\r",
      " 73%|██████████████████████████████████████████████████████▉                    | 733/1000 [8:48:24<3:06:20, 41.88s/it]"
     ]
    },
    {
     "name": "stdout",
     "output_type": "stream",
     "text": [
      "\t ----- reward: -30.99853860719206 for f_star and f_minus: 24.29884965820223 , 30.99853860719206\n",
      "\t ---------- State is:  (0, 7)\n",
      "[INFO] [2023-03-01 08:19:21,292] [OpenBox-SPO] Iteration 734, objective value: [28.28107923152136].\n"
     ]
    },
    {
     "name": "stderr",
     "output_type": "stream",
     "text": [
      "\r",
      " 73%|███████████████████████████████████████████████████████                    | 734/1000 [8:49:04<3:04:17, 41.57s/it]"
     ]
    },
    {
     "name": "stdout",
     "output_type": "stream",
     "text": [
      "\t ----- reward: -28.28107923152136 for f_star and f_minus: 24.29884965820223 , 28.28107923152136\n",
      "\t ---------- State is:  (1, 7)\n",
      "[INFO] [2023-03-01 08:20:04,422] [OpenBox-SPO] Iteration 735, objective value: [28.12534707569705].\n"
     ]
    },
    {
     "name": "stderr",
     "output_type": "stream",
     "text": [
      "\r",
      " 74%|███████████████████████████████████████████████████████▏                   | 735/1000 [8:49:48<3:05:41, 42.04s/it]"
     ]
    },
    {
     "name": "stdout",
     "output_type": "stream",
     "text": [
      "\t ----- reward: -28.12534707569705 for f_star and f_minus: 24.29884965820223 , 28.12534707569705\n",
      "\t ---------- State is:  (2, 7)\n",
      "[INFO] [2023-03-01 08:20:43,961] [OpenBox-SPO] Iteration 736, objective value: [33.88618055015429].\n"
     ]
    },
    {
     "name": "stderr",
     "output_type": "stream",
     "text": [
      "\r",
      " 74%|███████████████████████████████████████████████████████▏                   | 736/1000 [8:50:27<3:01:39, 41.29s/it]"
     ]
    },
    {
     "name": "stdout",
     "output_type": "stream",
     "text": [
      "\t ----- reward: -33.88618055015429 for f_star and f_minus: 24.29884965820223 , 33.88618055015429\n",
      "\t ---------- State is:  (2, 7)\n",
      "[INFO] [2023-03-01 08:21:30,025] [OpenBox-SPO] Iteration 737, objective value: [28.741019858793905].\n"
     ]
    },
    {
     "name": "stderr",
     "output_type": "stream",
     "text": [
      "\r",
      " 74%|███████████████████████████████████████████████████████▎                   | 737/1000 [8:51:13<3:07:15, 42.72s/it]"
     ]
    },
    {
     "name": "stdout",
     "output_type": "stream",
     "text": [
      "\t ----- reward: -28.741019858793905 for f_star and f_minus: 24.29884965820223 , 28.741019858793905\n",
      "\t ---------- State is:  (3, 7)\n",
      "[INFO] [2023-03-01 08:22:08,462] [OpenBox-SPO] Iteration 738, objective value: [32.452263268402675].\n"
     ]
    },
    {
     "name": "stderr",
     "output_type": "stream",
     "text": [
      "\r",
      " 74%|███████████████████████████████████████████████████████▎                   | 738/1000 [8:51:52<3:00:55, 41.43s/it]"
     ]
    },
    {
     "name": "stdout",
     "output_type": "stream",
     "text": [
      "\t ----- reward: -32.452263268402675 for f_star and f_minus: 24.29884965820223 , 32.452263268402675\n",
      "\t ---------- State is:  (2, 7)\n",
      "[INFO] [2023-03-01 08:22:49,893] [OpenBox-SPO] Iteration 739, objective value: [29.389227735068687].\n"
     ]
    },
    {
     "name": "stderr",
     "output_type": "stream",
     "text": [
      "\r",
      " 74%|███████████████████████████████████████████████████████▍                   | 739/1000 [8:52:33<3:00:14, 41.43s/it]"
     ]
    },
    {
     "name": "stdout",
     "output_type": "stream",
     "text": [
      "\t ----- reward: -29.389227735068687 for f_star and f_minus: 24.29884965820223 , 29.389227735068687\n",
      "\t ---------- State is:  (1, 6)\n",
      "[INFO] [2023-03-01 08:23:28,460] [OpenBox-SPO] Iteration 740, objective value: [34.72155040813686].\n"
     ]
    },
    {
     "name": "stderr",
     "output_type": "stream",
     "text": [
      "\r",
      " 74%|███████████████████████████████████████████████████████▌                   | 740/1000 [8:53:12<2:55:49, 40.57s/it]"
     ]
    },
    {
     "name": "stdout",
     "output_type": "stream",
     "text": [
      "\t ----- reward: -34.72155040813686 for f_star and f_minus: 24.29884965820223 , 34.72155040813686\n",
      "\t ---------- State is:  (0, 6)\n",
      "[INFO] [2023-03-01 08:24:12,808] [OpenBox-SPO] Iteration 741, objective value: [33.91763478759471].\n"
     ]
    },
    {
     "name": "stderr",
     "output_type": "stream",
     "text": [
      "\r",
      " 74%|███████████████████████████████████████████████████████▌                   | 741/1000 [8:53:56<3:00:01, 41.71s/it]"
     ]
    },
    {
     "name": "stdout",
     "output_type": "stream",
     "text": [
      "\t ----- reward: -33.91763478759471 for f_star and f_minus: 24.29884965820223 , 33.91763478759471\n",
      "\t ---------- State is:  (1, 7)\n",
      "[INFO] [2023-03-01 08:24:54,880] [OpenBox-SPO] Iteration 742, objective value: [42.04979293812375].\n"
     ]
    },
    {
     "name": "stderr",
     "output_type": "stream",
     "text": [
      "\r",
      " 74%|███████████████████████████████████████████████████████▋                   | 742/1000 [8:54:38<2:59:48, 41.82s/it]"
     ]
    },
    {
     "name": "stdout",
     "output_type": "stream",
     "text": [
      "\t ----- reward: -42.04979293812375 for f_star and f_minus: 24.29884965820223 , 42.04979293812375\n",
      "\t ---------- State is:  (1, 7)\n",
      "[INFO] [2023-03-01 08:25:36,714] [OpenBox-SPO] Iteration 743, objective value: [35.03270939750662].\n"
     ]
    },
    {
     "name": "stderr",
     "output_type": "stream",
     "text": [
      "\r",
      " 74%|███████████████████████████████████████████████████████▋                   | 743/1000 [8:55:20<2:59:08, 41.82s/it]"
     ]
    },
    {
     "name": "stdout",
     "output_type": "stream",
     "text": [
      "\t ----- reward: -35.03270939750662 for f_star and f_minus: 24.29884965820223 , 35.03270939750662\n",
      "\t ---------- State is:  (0, 7)\n",
      "[INFO] [2023-03-01 08:26:17,177] [OpenBox-SPO] Iteration 744, objective value: [27.724226062924288].\n"
     ]
    },
    {
     "name": "stderr",
     "output_type": "stream",
     "text": [
      "\r",
      " 74%|███████████████████████████████████████████████████████▊                   | 744/1000 [8:56:00<2:56:41, 41.41s/it]"
     ]
    },
    {
     "name": "stdout",
     "output_type": "stream",
     "text": [
      "\t ----- reward: -27.724226062924288 for f_star and f_minus: 24.29884965820223 , 27.724226062924288\n",
      "\t ---------- State is:  (0, 7)\n",
      "[INFO] [2023-03-01 08:26:57,648] [OpenBox-SPO] Iteration 745, objective value: [44.349965208058016].\n"
     ]
    },
    {
     "name": "stderr",
     "output_type": "stream",
     "text": [
      "\r",
      " 74%|███████████████████████████████████████████████████████▉                   | 745/1000 [8:56:41<2:54:48, 41.13s/it]"
     ]
    },
    {
     "name": "stdout",
     "output_type": "stream",
     "text": [
      "\t ----- reward: -44.349965208058016 for f_star and f_minus: 24.29884965820223 , 44.349965208058016\n",
      "\t ---------- State is:  (0, 8)\n",
      "[INFO] [2023-03-01 08:26:57,648] [Advisor] Sample random config. rand_prob=0.100000.\n",
      "[INFO] [2023-03-01 08:27:30,951] [OpenBox-SPO] Iteration 746, objective value: [56.48633769681258].\n"
     ]
    },
    {
     "name": "stderr",
     "output_type": "stream",
     "text": [
      "\r",
      " 75%|███████████████████████████████████████████████████████▉                   | 746/1000 [8:57:14<2:44:10, 38.78s/it]"
     ]
    },
    {
     "name": "stdout",
     "output_type": "stream",
     "text": [
      "\t ----- reward: -56.48633769681258 for f_star and f_minus: 24.29884965820223 , 56.48633769681258\n",
      "\t ---------- State is:  (0, 9)\n",
      "[INFO] [2023-03-01 08:27:30,951] [Advisor] Sample random config. rand_prob=0.100000.\n",
      "[INFO] [2023-03-01 08:27:59,630] [OpenBox-SPO] Iteration 747, objective value: [59.99633559960443].\n"
     ]
    },
    {
     "name": "stderr",
     "output_type": "stream",
     "text": [
      "\r",
      " 75%|████████████████████████████████████████████████████████                   | 747/1000 [8:57:43<2:30:45, 35.75s/it]"
     ]
    },
    {
     "name": "stdout",
     "output_type": "stream",
     "text": [
      "\t ----- reward: -59.99633559960443 for f_star and f_minus: 24.29884965820223 , 59.99633559960443\n",
      "\t ---------- State is:  (0, 10)\n",
      "[INFO] [2023-03-01 08:28:43,122] [OpenBox-SPO] Iteration 748, objective value: [35.318936364382864].\n"
     ]
    },
    {
     "name": "stderr",
     "output_type": "stream",
     "text": [
      "\r",
      " 75%|████████████████████████████████████████████████████████                   | 748/1000 [8:58:26<2:39:54, 38.07s/it]"
     ]
    },
    {
     "name": "stdout",
     "output_type": "stream",
     "text": [
      "\t ----- reward: -35.318936364382864 for f_star and f_minus: 24.29884965820223 , 35.318936364382864\n",
      "\t ---------- State is:  (0, 10)\n",
      "[INFO] [2023-03-01 08:29:23,377] [OpenBox-SPO] Iteration 749, objective value: [31.411775380800492].\n"
     ]
    },
    {
     "name": "stderr",
     "output_type": "stream",
     "text": [
      "\r",
      " 75%|████████████████████████████████████████████████████████▏                  | 749/1000 [8:59:06<2:42:00, 38.73s/it]"
     ]
    },
    {
     "name": "stdout",
     "output_type": "stream",
     "text": [
      "\t ----- reward: -31.411775380800492 for f_star and f_minus: 24.29884965820223 , 31.411775380800492\n",
      "\t ---------- State is:  (0, 9)\n",
      "[INFO] [2023-03-01 08:30:05,501] [OpenBox-SPO] Iteration 750, objective value: [28.24643026307055].\n"
     ]
    },
    {
     "name": "stderr",
     "output_type": "stream",
     "text": [
      "\r",
      " 75%|████████████████████████████████████████████████████████▎                  | 750/1000 [8:59:49<2:45:36, 39.75s/it]"
     ]
    },
    {
     "name": "stdout",
     "output_type": "stream",
     "text": [
      "\t ----- reward: -28.24643026307055 for f_star and f_minus: 24.29884965820223 , 28.24643026307055\n",
      "\t ---------- State is:  (0, 8)\n",
      "[INFO] [2023-03-01 08:30:49,214] [OpenBox-SPO] Iteration 751, objective value: [30.410124532687504].\n"
     ]
    },
    {
     "name": "stderr",
     "output_type": "stream",
     "text": [
      "\r",
      " 75%|████████████████████████████████████████████████████████▎                  | 751/1000 [9:00:32<2:49:53, 40.94s/it]"
     ]
    },
    {
     "name": "stdout",
     "output_type": "stream",
     "text": [
      "\t ----- reward: -30.410124532687504 for f_star and f_minus: 24.29884965820223 , 30.410124532687504\n",
      "\t ---------- State is:  (0, 7)\n",
      "[INFO] [2023-03-01 08:31:31,050] [OpenBox-SPO] Iteration 752, objective value: [28.41773240856591].\n"
     ]
    },
    {
     "name": "stderr",
     "output_type": "stream",
     "text": [
      "\r",
      " 75%|████████████████████████████████████████████████████████▍                  | 752/1000 [9:01:14<2:50:19, 41.21s/it]"
     ]
    },
    {
     "name": "stdout",
     "output_type": "stream",
     "text": [
      "\t ----- reward: -28.41773240856591 for f_star and f_minus: 24.29884965820223 , 28.41773240856591\n",
      "\t ---------- State is:  (1, 7)\n",
      "[INFO] [2023-03-01 08:32:11,479] [OpenBox-SPO] Iteration 753, objective value: [30.979765559590362].\n"
     ]
    },
    {
     "name": "stderr",
     "output_type": "stream",
     "text": [
      "\r",
      " 75%|████████████████████████████████████████████████████████▍                  | 753/1000 [9:01:55<2:48:40, 40.97s/it]"
     ]
    },
    {
     "name": "stdout",
     "output_type": "stream",
     "text": [
      "\t ----- reward: -30.979765559590362 for f_star and f_minus: 24.29884965820223 , 30.979765559590362\n",
      "\t ---------- State is:  (2, 7)\n",
      "[INFO] [2023-03-01 08:32:51,957] [OpenBox-SPO] Iteration 754, objective value: [26.41845940363497].\n"
     ]
    },
    {
     "name": "stderr",
     "output_type": "stream",
     "text": [
      "\r",
      " 75%|████████████████████████████████████████████████████████▌                  | 754/1000 [9:02:35<2:47:22, 40.82s/it]"
     ]
    },
    {
     "name": "stdout",
     "output_type": "stream",
     "text": [
      "\t ----- reward: -26.41845940363497 for f_star and f_minus: 24.29884965820223 , 26.41845940363497\n",
      "\t ---------- State is:  (3, 7)\n",
      "[INFO] [2023-03-01 08:33:36,775] [OpenBox-SPO] Iteration 755, objective value: [29.317722843752875].\n"
     ]
    },
    {
     "name": "stderr",
     "output_type": "stream",
     "text": [
      "\r",
      " 76%|████████████████████████████████████████████████████████▋                  | 755/1000 [9:03:20<2:51:35, 42.02s/it]"
     ]
    },
    {
     "name": "stdout",
     "output_type": "stream",
     "text": [
      "\t ----- reward: -29.317722843752875 for f_star and f_minus: 24.29884965820223 , 29.317722843752875\n",
      "\t ---------- State is:  (4, 7)\n",
      "[INFO] [2023-03-01 08:34:24,337] [OpenBox-SPO] Iteration 756, objective value: [32.14170877245061].\n"
     ]
    },
    {
     "name": "stderr",
     "output_type": "stream",
     "text": [
      "\r",
      " 76%|████████████████████████████████████████████████████████▋                  | 756/1000 [9:04:07<2:57:39, 43.68s/it]"
     ]
    },
    {
     "name": "stdout",
     "output_type": "stream",
     "text": [
      "\t ----- reward: -32.14170877245061 for f_star and f_minus: 24.29884965820223 , 32.14170877245061\n",
      "\t ---------- State is:  (5, 7)\n",
      "[INFO] [2023-03-01 08:35:00,672] [OpenBox-SPO] Iteration 757, objective value: [49.49843007765897].\n"
     ]
    },
    {
     "name": "stderr",
     "output_type": "stream",
     "text": [
      "\r",
      " 76%|████████████████████████████████████████████████████████▊                  | 757/1000 [9:04:44<2:47:59, 41.48s/it]"
     ]
    },
    {
     "name": "stdout",
     "output_type": "stream",
     "text": [
      "\t ----- reward: -49.49843007765897 for f_star and f_minus: 24.29884965820223 , 49.49843007765897\n",
      "\t ---------- State is:  (5, 7)\n",
      "[INFO] [2023-03-01 08:35:41,928] [OpenBox-SPO] Iteration 758, objective value: [44.10382920564139].\n"
     ]
    },
    {
     "name": "stderr",
     "output_type": "stream",
     "text": [
      "\r",
      " 76%|████████████████████████████████████████████████████████▊                  | 758/1000 [9:05:25<2:47:01, 41.41s/it]"
     ]
    },
    {
     "name": "stdout",
     "output_type": "stream",
     "text": [
      "\t ----- reward: -44.10382920564139 for f_star and f_minus: 24.29884965820223 , 44.10382920564139\n",
      "\t ---------- State is:  (4, 8)\n",
      "[INFO] [2023-03-01 08:36:26,042] [OpenBox-SPO] Iteration 759, objective value: [33.6647645240903].\n"
     ]
    },
    {
     "name": "stderr",
     "output_type": "stream",
     "text": [
      "\r",
      " 76%|████████████████████████████████████████████████████████▉                  | 759/1000 [9:06:09<2:49:35, 42.22s/it]"
     ]
    },
    {
     "name": "stdout",
     "output_type": "stream",
     "text": [
      "\t ----- reward: -33.6647645240903 for f_star and f_minus: 24.29884965820223 , 33.6647645240903\n",
      "\t ---------- State is:  (4, 9)\n",
      "[INFO] [2023-03-01 08:37:14,596] [OpenBox-SPO] Iteration 760, objective value: [28.62002610718386].\n"
     ]
    },
    {
     "name": "stderr",
     "output_type": "stream",
     "text": [
      "\r",
      " 76%|█████████████████████████████████████████████████████████                  | 760/1000 [9:06:58<2:56:29, 44.12s/it]"
     ]
    },
    {
     "name": "stdout",
     "output_type": "stream",
     "text": [
      "\t ----- reward: -28.62002610718386 for f_star and f_minus: 24.29884965820223 , 28.62002610718386\n",
      "\t ---------- State is:  (3, 8)\n",
      "[INFO] [2023-03-01 08:37:59,480] [OpenBox-SPO] Iteration 761, objective value: [30.044918247140046].\n"
     ]
    },
    {
     "name": "stderr",
     "output_type": "stream",
     "text": [
      "\r",
      " 76%|█████████████████████████████████████████████████████████                  | 761/1000 [9:07:43<2:56:39, 44.35s/it]"
     ]
    },
    {
     "name": "stdout",
     "output_type": "stream",
     "text": [
      "\t ----- reward: -30.044918247140046 for f_star and f_minus: 24.29884965820223 , 30.044918247140046\n",
      "\t ---------- State is:  (3, 7)\n",
      "[INFO] [2023-03-01 08:38:39,748] [OpenBox-SPO] Iteration 762, objective value: [27.315309664599525].\n"
     ]
    },
    {
     "name": "stderr",
     "output_type": "stream",
     "text": [
      "\r",
      " 76%|█████████████████████████████████████████████████████████▏                 | 762/1000 [9:08:23<2:51:03, 43.13s/it]"
     ]
    },
    {
     "name": "stdout",
     "output_type": "stream",
     "text": [
      "\t ----- reward: -27.315309664599525 for f_star and f_minus: 24.29884965820223 , 27.315309664599525\n",
      "\t ---------- State is:  (3, 6)\n",
      "[INFO] [2023-03-01 08:39:20,817] [OpenBox-SPO] Iteration 763, objective value: [29.243877499615294].\n"
     ]
    },
    {
     "name": "stderr",
     "output_type": "stream",
     "text": [
      "\r",
      " 76%|█████████████████████████████████████████████████████████▏                 | 763/1000 [9:09:04<2:47:54, 42.51s/it]"
     ]
    },
    {
     "name": "stdout",
     "output_type": "stream",
     "text": [
      "\t ----- reward: -29.243877499615294 for f_star and f_minus: 24.29884965820223 , 29.243877499615294\n",
      "\t ---------- State is:  (4, 6)\n",
      "[INFO] [2023-03-01 08:40:02,007] [OpenBox-SPO] Iteration 764, objective value: [35.9158252155828].\n"
     ]
    },
    {
     "name": "stderr",
     "output_type": "stream",
     "text": [
      "\r",
      " 76%|█████████████████████████████████████████████████████████▎                 | 764/1000 [9:09:45<2:45:38, 42.11s/it]"
     ]
    },
    {
     "name": "stdout",
     "output_type": "stream",
     "text": [
      "\t ----- reward: -35.9158252155828 for f_star and f_minus: 24.29884965820223 , 35.9158252155828\n",
      "\t ---------- State is:  (4, 6)\n",
      "[INFO] [2023-03-01 08:40:02,007] [Advisor] Sample random config. rand_prob=0.100000.\n",
      "[INFO] [2023-03-01 08:40:38,666] [OpenBox-SPO] Iteration 765, objective value: [48.89805170163643].\n"
     ]
    },
    {
     "name": "stderr",
     "output_type": "stream",
     "text": [
      "\r",
      " 76%|█████████████████████████████████████████████████████████▍                 | 765/1000 [9:10:22<2:38:32, 40.48s/it]"
     ]
    },
    {
     "name": "stdout",
     "output_type": "stream",
     "text": [
      "\t ----- reward: -48.89805170163643 for f_star and f_minus: 24.29884965820223 , 48.89805170163643\n",
      "\t ---------- State is:  (5, 6)\n",
      "[INFO] [2023-03-01 08:41:19,485] [OpenBox-SPO] Iteration 766, objective value: [33.43071988506455].\n"
     ]
    },
    {
     "name": "stderr",
     "output_type": "stream",
     "text": [
      "\r",
      " 77%|█████████████████████████████████████████████████████████▍                 | 766/1000 [9:11:03<2:38:15, 40.58s/it]"
     ]
    },
    {
     "name": "stdout",
     "output_type": "stream",
     "text": [
      "\t ----- reward: -33.43071988506455 for f_star and f_minus: 24.29884965820223 , 33.43071988506455\n",
      "\t ---------- State is:  (6, 6)\n",
      "[INFO] [2023-03-01 08:41:57,477] [OpenBox-SPO] Iteration 767, objective value: [31.052263384508564].\n"
     ]
    },
    {
     "name": "stderr",
     "output_type": "stream",
     "text": [
      "\r",
      " 77%|█████████████████████████████████████████████████████████▌                 | 767/1000 [9:11:41<2:34:34, 39.80s/it]"
     ]
    },
    {
     "name": "stdout",
     "output_type": "stream",
     "text": [
      "\t ----- reward: -31.052263384508564 for f_star and f_minus: 24.29884965820223 , 31.052263384508564\n",
      "\t ---------- State is:  (7, 6)\n",
      "[INFO] [2023-03-01 08:41:57,477] [Advisor] Sample random config. rand_prob=0.100000.\n",
      "[INFO] [2023-03-01 08:42:32,645] [OpenBox-SPO] Iteration 768, objective value: [52.25067154661359].\n"
     ]
    },
    {
     "name": "stderr",
     "output_type": "stream",
     "text": [
      "\r",
      " 77%|█████████████████████████████████████████████████████████▌                 | 768/1000 [9:12:16<2:28:31, 38.41s/it]"
     ]
    },
    {
     "name": "stdout",
     "output_type": "stream",
     "text": [
      "\t ----- reward: -52.25067154661359 for f_star and f_minus: 24.29884965820223 , 52.25067154661359\n",
      "\t ---------- State is:  (6, 6)\n",
      "[INFO] [2023-03-01 08:43:14,056] [OpenBox-SPO] Iteration 769, objective value: [34.18297688967331].\n"
     ]
    },
    {
     "name": "stderr",
     "output_type": "stream",
     "text": [
      "\r",
      " 77%|█████████████████████████████████████████████████████████▋                 | 769/1000 [9:12:57<2:31:21, 39.31s/it]"
     ]
    },
    {
     "name": "stdout",
     "output_type": "stream",
     "text": [
      "\t ----- reward: -34.18297688967331 for f_star and f_minus: 24.29884965820223 , 34.18297688967331\n",
      "\t ---------- State is:  (5, 6)\n",
      "[INFO] [2023-03-01 08:43:54,025] [OpenBox-SPO] Iteration 770, objective value: [28.609176943387496].\n"
     ]
    },
    {
     "name": "stderr",
     "output_type": "stream",
     "text": [
      "\r",
      " 77%|█████████████████████████████████████████████████████████▊                 | 770/1000 [9:13:37<2:31:27, 39.51s/it]"
     ]
    },
    {
     "name": "stdout",
     "output_type": "stream",
     "text": [
      "\t ----- reward: -28.609176943387496 for f_star and f_minus: 24.29884965820223 , 28.609176943387496\n",
      "\t ---------- State is:  (5, 6)\n",
      "[INFO] [2023-03-01 08:44:34,517] [OpenBox-SPO] Iteration 771, objective value: [30.741351670608722].\n"
     ]
    },
    {
     "name": "stderr",
     "output_type": "stream",
     "text": [
      "\r",
      " 77%|█████████████████████████████████████████████████████████▊                 | 771/1000 [9:14:18<2:31:55, 39.80s/it]"
     ]
    },
    {
     "name": "stdout",
     "output_type": "stream",
     "text": [
      "\t ----- reward: -30.741351670608722 for f_star and f_minus: 24.29884965820223 , 30.741351670608722\n",
      "\t ---------- State is:  (4, 6)\n",
      "[INFO] [2023-03-01 08:45:16,709] [OpenBox-SPO] Iteration 772, objective value: [26.70009646928773].\n"
     ]
    },
    {
     "name": "stderr",
     "output_type": "stream",
     "text": [
      "\r",
      " 77%|█████████████████████████████████████████████████████████▉                 | 772/1000 [9:15:00<2:33:58, 40.52s/it]"
     ]
    },
    {
     "name": "stdout",
     "output_type": "stream",
     "text": [
      "\t ----- reward: -26.70009646928773 for f_star and f_minus: 24.29884965820223 , 26.70009646928773\n",
      "\t ---------- State is:  (3, 6)\n",
      "[INFO] [2023-03-01 08:46:02,727] [OpenBox-SPO] Iteration 773, objective value: [30.606245646857346].\n"
     ]
    },
    {
     "name": "stderr",
     "output_type": "stream",
     "text": [
      "\r",
      " 77%|█████████████████████████████████████████████████████████▉                 | 773/1000 [9:15:46<2:39:32, 42.17s/it]"
     ]
    },
    {
     "name": "stdout",
     "output_type": "stream",
     "text": [
      "\t ----- reward: -30.606245646857346 for f_star and f_minus: 24.29884965820223 , 30.606245646857346\n",
      "\t ---------- State is:  (2, 6)\n",
      "[INFO] [2023-03-01 08:46:44,032] [OpenBox-SPO] Iteration 774, objective value: [35.43488212980267].\n"
     ]
    },
    {
     "name": "stderr",
     "output_type": "stream",
     "text": [
      "\r",
      " 77%|██████████████████████████████████████████████████████████                 | 774/1000 [9:16:27<2:37:51, 41.91s/it]"
     ]
    },
    {
     "name": "stdout",
     "output_type": "stream",
     "text": [
      "\t ----- reward: -35.43488212980267 for f_star and f_minus: 24.29884965820223 , 35.43488212980267\n",
      "\t ---------- State is:  (2, 7)\n",
      "[INFO] [2023-03-01 08:47:28,306] [OpenBox-SPO] Iteration 775, objective value: [25.35121399642638].\n"
     ]
    },
    {
     "name": "stderr",
     "output_type": "stream",
     "text": [
      "\r",
      " 78%|██████████████████████████████████████████████████████████▏                | 775/1000 [9:17:11<2:39:49, 42.62s/it]"
     ]
    },
    {
     "name": "stdout",
     "output_type": "stream",
     "text": [
      "\t ----- reward: -25.35121399642638 for f_star and f_minus: 24.29884965820223 , 25.35121399642638\n",
      "\t ---------- State is:  (2, 7)\n",
      "[INFO] [2023-03-01 08:48:09,092] [OpenBox-SPO] Iteration 776, objective value: [28.82706750402525].\n"
     ]
    },
    {
     "name": "stderr",
     "output_type": "stream",
     "text": [
      "\r",
      " 78%|██████████████████████████████████████████████████████████▏                | 776/1000 [9:17:52<2:37:03, 42.07s/it]"
     ]
    },
    {
     "name": "stdout",
     "output_type": "stream",
     "text": [
      "\t ----- reward: -28.82706750402525 for f_star and f_minus: 24.29884965820223 , 28.82706750402525\n",
      "\t ---------- State is:  (1, 6)\n",
      "[INFO] [2023-03-01 08:48:51,413] [OpenBox-SPO] Iteration 777, objective value: [29.15386193802179].\n"
     ]
    },
    {
     "name": "stderr",
     "output_type": "stream",
     "text": [
      "\r",
      " 78%|██████████████████████████████████████████████████████████▎                | 777/1000 [9:18:34<2:36:38, 42.14s/it]"
     ]
    },
    {
     "name": "stdout",
     "output_type": "stream",
     "text": [
      "\t ----- reward: -29.15386193802179 for f_star and f_minus: 24.29884965820223 , 29.15386193802179\n",
      "\t ---------- State is:  (1, 6)\n",
      "[INFO] [2023-03-01 08:49:29,450] [OpenBox-SPO] Iteration 778, objective value: [29.25362551571871].\n"
     ]
    },
    {
     "name": "stderr",
     "output_type": "stream",
     "text": [
      "\r",
      " 78%|██████████████████████████████████████████████████████████▎                | 778/1000 [9:19:13<2:31:22, 40.91s/it]"
     ]
    },
    {
     "name": "stdout",
     "output_type": "stream",
     "text": [
      "\t ----- reward: -29.25362551571871 for f_star and f_minus: 24.29884965820223 , 29.25362551571871\n",
      "\t ---------- State is:  (0, 6)\n",
      "[INFO] [2023-03-01 08:50:09,654] [OpenBox-SPO] Iteration 779, objective value: [32.54187408573449].\n"
     ]
    },
    {
     "name": "stderr",
     "output_type": "stream",
     "text": [
      "\r",
      " 78%|██████████████████████████████████████████████████████████▍                | 779/1000 [9:19:53<2:29:54, 40.70s/it]"
     ]
    },
    {
     "name": "stdout",
     "output_type": "stream",
     "text": [
      "\t ----- reward: -32.54187408573449 for f_star and f_minus: 24.29884965820223 , 32.54187408573449\n",
      "\t ---------- State is:  (1, 6)\n",
      "[INFO] [2023-03-01 08:50:52,007] [OpenBox-SPO] Iteration 780, objective value: [31.64892747745749].\n"
     ]
    },
    {
     "name": "stderr",
     "output_type": "stream",
     "text": [
      "\r",
      " 78%|██████████████████████████████████████████████████████████▌                | 780/1000 [9:20:35<2:31:03, 41.20s/it]"
     ]
    },
    {
     "name": "stdout",
     "output_type": "stream",
     "text": [
      "\t ----- reward: -31.64892747745749 for f_star and f_minus: 24.29884965820223 , 31.64892747745749\n",
      "\t ---------- State is:  (2, 6)\n",
      "[INFO] [2023-03-01 08:51:30,714] [OpenBox-SPO] Iteration 781, objective value: [28.410493985618373].\n"
     ]
    },
    {
     "name": "stderr",
     "output_type": "stream",
     "text": [
      "\r",
      " 78%|██████████████████████████████████████████████████████████▌                | 781/1000 [9:21:14<2:27:38, 40.45s/it]"
     ]
    },
    {
     "name": "stdout",
     "output_type": "stream",
     "text": [
      "\t ----- reward: -28.410493985618373 for f_star and f_minus: 24.29884965820223 , 28.410493985618373\n",
      "\t ---------- State is:  (3, 6)\n",
      "[INFO] [2023-03-01 08:51:30,714] [Advisor] Sample random config. rand_prob=0.100000.\n",
      "[INFO] [2023-03-01 08:51:57,735] [OpenBox-SPO] Iteration 782, objective value: [62.828285048092305].\n"
     ]
    },
    {
     "name": "stderr",
     "output_type": "stream",
     "text": [
      "\r",
      " 78%|██████████████████████████████████████████████████████████▋                | 782/1000 [9:21:41<2:12:19, 36.42s/it]"
     ]
    },
    {
     "name": "stdout",
     "output_type": "stream",
     "text": [
      "\t ----- reward: -62.828285048092305 for f_star and f_minus: 24.29884965820223 , 62.828285048092305\n",
      "\t ---------- State is:  (4, 6)\n",
      "[INFO] [2023-03-01 08:52:39,211] [OpenBox-SPO] Iteration 783, objective value: [33.987012388112475].\n"
     ]
    },
    {
     "name": "stderr",
     "output_type": "stream",
     "text": [
      "\r",
      " 78%|██████████████████████████████████████████████████████████▋                | 783/1000 [9:22:22<2:17:12, 37.94s/it]"
     ]
    },
    {
     "name": "stdout",
     "output_type": "stream",
     "text": [
      "\t ----- reward: -33.987012388112475 for f_star and f_minus: 24.29884965820223 , 33.987012388112475\n",
      "\t ---------- State is:  (3, 7)\n",
      "[INFO] [2023-03-01 08:53:18,340] [OpenBox-SPO] Iteration 784, objective value: [37.624690952511465].\n"
     ]
    },
    {
     "name": "stderr",
     "output_type": "stream",
     "text": [
      "\r",
      " 78%|██████████████████████████████████████████████████████████▊                | 784/1000 [9:23:01<2:17:51, 38.29s/it]"
     ]
    },
    {
     "name": "stdout",
     "output_type": "stream",
     "text": [
      "\t ----- reward: -37.624690952511465 for f_star and f_minus: 24.29884965820223 , 37.624690952511465\n",
      "\t ---------- State is:  (2, 7)\n",
      "[INFO] [2023-03-01 08:53:58,459] [OpenBox-SPO] Iteration 785, objective value: [41.13408129924652].\n"
     ]
    },
    {
     "name": "stderr",
     "output_type": "stream",
     "text": [
      "\r",
      " 78%|██████████████████████████████████████████████████████████▉                | 785/1000 [9:23:42<2:19:11, 38.84s/it]"
     ]
    },
    {
     "name": "stdout",
     "output_type": "stream",
     "text": [
      "\t ----- reward: -41.13408129924652 for f_star and f_minus: 24.29884965820223 , 41.13408129924652\n",
      "\t ---------- State is:  (3, 7)\n",
      "[INFO] [2023-03-01 08:54:39,646] [OpenBox-SPO] Iteration 786, objective value: [30.258608061511325].\n"
     ]
    },
    {
     "name": "stderr",
     "output_type": "stream",
     "text": [
      "\r",
      " 79%|██████████████████████████████████████████████████████████▉                | 786/1000 [9:24:23<2:21:02, 39.55s/it]"
     ]
    },
    {
     "name": "stdout",
     "output_type": "stream",
     "text": [
      "\t ----- reward: -30.258608061511325 for f_star and f_minus: 24.29884965820223 , 30.258608061511325\n",
      "\t ---------- State is:  (4, 6)\n",
      "[INFO] [2023-03-01 08:55:22,137] [OpenBox-SPO] Iteration 787, objective value: [29.062145855988618].\n"
     ]
    },
    {
     "name": "stderr",
     "output_type": "stream",
     "text": [
      "\r",
      " 79%|███████████████████████████████████████████████████████████                | 787/1000 [9:25:05<2:23:31, 40.43s/it]"
     ]
    },
    {
     "name": "stdout",
     "output_type": "stream",
     "text": [
      "\t ----- reward: -29.062145855988618 for f_star and f_minus: 24.29884965820223 , 29.062145855988618\n",
      "\t ---------- State is:  (4, 6)\n",
      "[INFO] [2023-03-01 08:56:05,721] [OpenBox-SPO] Iteration 788, objective value: [29.088715644064166].\n"
     ]
    },
    {
     "name": "stderr",
     "output_type": "stream",
     "text": [
      "\r",
      " 79%|███████████████████████████████████████████████████████████                | 788/1000 [9:25:49<2:26:11, 41.38s/it]"
     ]
    },
    {
     "name": "stdout",
     "output_type": "stream",
     "text": [
      "\t ----- reward: -29.088715644064166 for f_star and f_minus: 24.29884965820223 , 29.088715644064166\n",
      "\t ---------- State is:  (5, 6)\n",
      "[INFO] [2023-03-01 08:56:46,371] [OpenBox-SPO] Iteration 789, objective value: [29.4413495601639].\n"
     ]
    },
    {
     "name": "stderr",
     "output_type": "stream",
     "text": [
      "\r",
      " 79%|███████████████████████████████████████████████████████████▏               | 789/1000 [9:26:29<2:24:44, 41.16s/it]"
     ]
    },
    {
     "name": "stdout",
     "output_type": "stream",
     "text": [
      "\t ----- reward: -29.4413495601639 for f_star and f_minus: 24.29884965820223 , 29.4413495601639\n",
      "\t ---------- State is:  (4, 5)\n",
      "[INFO] [2023-03-01 08:57:28,658] [OpenBox-SPO] Iteration 790, objective value: [27.159200217885285].\n"
     ]
    },
    {
     "name": "stderr",
     "output_type": "stream",
     "text": [
      "\r",
      " 79%|███████████████████████████████████████████████████████████▎               | 790/1000 [9:27:12<2:25:14, 41.50s/it]"
     ]
    },
    {
     "name": "stdout",
     "output_type": "stream",
     "text": [
      "\t ----- reward: -27.159200217885285 for f_star and f_minus: 24.29884965820223 , 27.159200217885285\n",
      "\t ---------- State is:  (5, 5)\n",
      "[INFO] [2023-03-01 08:58:11,280] [OpenBox-SPO] Iteration 791, objective value: [27.58788250782203].\n"
     ]
    },
    {
     "name": "stderr",
     "output_type": "stream",
     "text": [
      "\r",
      " 79%|███████████████████████████████████████████████████████████▎               | 791/1000 [9:27:54<2:25:43, 41.83s/it]"
     ]
    },
    {
     "name": "stdout",
     "output_type": "stream",
     "text": [
      "\t ----- reward: -27.58788250782203 for f_star and f_minus: 24.29884965820223 , 27.58788250782203\n",
      "\t ---------- State is:  (5, 5)\n",
      "[INFO] [2023-03-01 08:58:55,804] [OpenBox-SPO] Iteration 792, objective value: [26.951089229946973].\n"
     ]
    },
    {
     "name": "stderr",
     "output_type": "stream",
     "text": [
      "\r",
      " 79%|███████████████████████████████████████████████████████████▍               | 792/1000 [9:28:39<2:27:49, 42.64s/it]"
     ]
    },
    {
     "name": "stdout",
     "output_type": "stream",
     "text": [
      "\t ----- reward: -26.951089229946973 for f_star and f_minus: 24.29884965820223 , 26.951089229946973\n",
      "\t ---------- State is:  (6, 5)\n",
      "[INFO] [2023-03-01 08:59:39,279] [OpenBox-SPO] Iteration 793, objective value: [29.353165455896274].\n"
     ]
    },
    {
     "name": "stderr",
     "output_type": "stream",
     "text": [
      "\r",
      " 79%|███████████████████████████████████████████████████████████▍               | 793/1000 [9:29:22<2:27:58, 42.89s/it]"
     ]
    },
    {
     "name": "stdout",
     "output_type": "stream",
     "text": [
      "\t ----- reward: -29.353165455896274 for f_star and f_minus: 24.29884965820223 , 29.353165455896274\n",
      "\t ---------- State is:  (6, 5)\n",
      "[INFO] [2023-03-01 09:00:19,785] [OpenBox-SPO] Iteration 794, objective value: [27.28933243484795].\n"
     ]
    },
    {
     "name": "stderr",
     "output_type": "stream",
     "text": [
      "\r",
      " 79%|███████████████████████████████████████████████████████████▌               | 794/1000 [9:30:03<2:24:48, 42.18s/it]"
     ]
    },
    {
     "name": "stdout",
     "output_type": "stream",
     "text": [
      "\t ----- reward: -27.28933243484795 for f_star and f_minus: 24.29884965820223 , 27.28933243484795\n",
      "\t ---------- State is:  (7, 4)\n",
      "[INFO] [2023-03-01 09:00:57,636] [OpenBox-SPO] Iteration 795, objective value: [31.472303972852984].\n"
     ]
    },
    {
     "name": "stderr",
     "output_type": "stream",
     "text": [
      "\r",
      " 80%|███████████████████████████████████████████████████████████▋               | 795/1000 [9:30:41<2:19:40, 40.88s/it]"
     ]
    },
    {
     "name": "stdout",
     "output_type": "stream",
     "text": [
      "\t ----- reward: -31.472303972852984 for f_star and f_minus: 24.29884965820223 , 31.472303972852984\n",
      "\t ---------- State is:  (8, 5)\n",
      "[INFO] [2023-03-01 09:01:44,979] [OpenBox-SPO] Iteration 796, objective value: [28.938104538081276].\n"
     ]
    },
    {
     "name": "stderr",
     "output_type": "stream",
     "text": [
      "\r",
      " 80%|███████████████████████████████████████████████████████████▋               | 796/1000 [9:31:28<2:25:34, 42.82s/it]"
     ]
    },
    {
     "name": "stdout",
     "output_type": "stream",
     "text": [
      "\t ----- reward: -28.938104538081276 for f_star and f_minus: 24.29884965820223 , 28.938104538081276\n",
      "\t ---------- State is:  (9, 5)\n",
      "[INFO] [2023-03-01 09:01:44,979] [Advisor] Sample random config. rand_prob=0.100000.\n",
      "[INFO] [2023-03-01 09:02:17,506] [OpenBox-SPO] Iteration 797, objective value: [45.724680550234766].\n"
     ]
    },
    {
     "name": "stderr",
     "output_type": "stream",
     "text": [
      "\r",
      " 80%|███████████████████████████████████████████████████████████▊               | 797/1000 [9:32:01<2:14:25, 39.73s/it]"
     ]
    },
    {
     "name": "stdout",
     "output_type": "stream",
     "text": [
      "\t ----- reward: -45.724680550234766 for f_star and f_minus: 24.29884965820223 , 45.724680550234766\n",
      "\t ---------- State is:  (10, 5)\n",
      "[INFO] [2023-03-01 09:02:59,500] [OpenBox-SPO] Iteration 798, objective value: [34.47888936405292].\n"
     ]
    },
    {
     "name": "stderr",
     "output_type": "stream",
     "text": [
      "\r",
      " 80%|███████████████████████████████████████████████████████████▊               | 798/1000 [9:32:43<2:16:02, 40.41s/it]"
     ]
    },
    {
     "name": "stdout",
     "output_type": "stream",
     "text": [
      "\t ----- reward: -34.47888936405292 for f_star and f_minus: 24.29884965820223 , 34.47888936405292\n",
      "\t ---------- State is:  (10, 5)\n",
      "[INFO] [2023-03-01 09:03:42,047] [OpenBox-SPO] Iteration 799, objective value: [28.464220756471576].\n"
     ]
    },
    {
     "name": "stderr",
     "output_type": "stream",
     "text": [
      "\r",
      " 80%|███████████████████████████████████████████████████████████▉               | 799/1000 [9:33:25<2:17:31, 41.05s/it]"
     ]
    },
    {
     "name": "stdout",
     "output_type": "stream",
     "text": [
      "\t ----- reward: -28.464220756471576 for f_star and f_minus: 24.29884965820223 , 28.464220756471576\n",
      "\t ---------- State is:  (9, 5)\n",
      "[INFO] [2023-03-01 09:03:42,047] [Advisor] Sample random config. rand_prob=0.100000.\n",
      "[INFO] [2023-03-01 09:04:08,205] [OpenBox-SPO] Iteration 800, objective value: [58.511360769626606].\n"
     ]
    },
    {
     "name": "stderr",
     "output_type": "stream",
     "text": [
      "\r",
      " 80%|████████████████████████████████████████████████████████████               | 800/1000 [9:33:51<2:01:56, 36.58s/it]"
     ]
    },
    {
     "name": "stdout",
     "output_type": "stream",
     "text": [
      "\t ----- reward: -58.511360769626606 for f_star and f_minus: 24.29884965820223 , 58.511360769626606\n",
      "\t ---------- State is:  (9, 5)\n",
      "[INFO] [2023-03-01 09:04:53,309] [OpenBox-SPO] Iteration 801, objective value: [47.38522039715253].\n"
     ]
    },
    {
     "name": "stderr",
     "output_type": "stream",
     "text": [
      "\r",
      " 80%|████████████████████████████████████████████████████████████               | 801/1000 [9:34:36<2:09:48, 39.14s/it]"
     ]
    },
    {
     "name": "stdout",
     "output_type": "stream",
     "text": [
      "\t ----- reward: -47.38522039715253 for f_star and f_minus: 24.29884965820223 , 47.38522039715253\n",
      "\t ---------- State is:  (8, 5)\n",
      "[INFO] [2023-03-01 09:05:39,189] [OpenBox-SPO] Iteration 802, objective value: [41.42201461815907].\n"
     ]
    },
    {
     "name": "stderr",
     "output_type": "stream",
     "text": [
      "\r",
      " 80%|████████████████████████████████████████████████████████████▏              | 802/1000 [9:35:22<2:15:49, 41.16s/it]"
     ]
    },
    {
     "name": "stdout",
     "output_type": "stream",
     "text": [
      "\t ----- reward: -41.42201461815907 for f_star and f_minus: 24.29884965820223 , 41.42201461815907\n",
      "\t ---------- State is:  (7, 5)\n",
      "[INFO] [2023-03-01 09:05:39,189] [Advisor] Sample random config. rand_prob=0.100000.\n",
      "[INFO] [2023-03-01 09:06:12,634] [OpenBox-SPO] Iteration 803, objective value: [54.00441397911078].\n"
     ]
    },
    {
     "name": "stderr",
     "output_type": "stream",
     "text": [
      "\r",
      " 80%|████████████████████████████████████████████████████████████▏              | 803/1000 [9:35:56<2:07:32, 38.85s/it]"
     ]
    },
    {
     "name": "stdout",
     "output_type": "stream",
     "text": [
      "\t ----- reward: -54.00441397911078 for f_star and f_minus: 24.29884965820223 , 54.00441397911078\n",
      "\t ---------- State is:  (8, 5)\n",
      "[INFO] [2023-03-01 09:06:56,191] [OpenBox-SPO] Iteration 804, objective value: [38.72469531559456].\n"
     ]
    },
    {
     "name": "stderr",
     "output_type": "stream",
     "text": [
      "\r",
      " 80%|████████████████████████████████████████████████████████████▎              | 804/1000 [9:36:39<2:11:30, 40.26s/it]"
     ]
    },
    {
     "name": "stdout",
     "output_type": "stream",
     "text": [
      "\t ----- reward: -38.72469531559456 for f_star and f_minus: 24.29884965820223 , 38.72469531559456\n",
      "\t ---------- State is:  (8, 5)\n",
      "[INFO] [2023-03-01 09:07:35,430] [OpenBox-SPO] Iteration 805, objective value: [36.27403990979868].\n"
     ]
    },
    {
     "name": "stderr",
     "output_type": "stream",
     "text": [
      "\r",
      " 80%|████████████████████████████████████████████████████████████▍              | 805/1000 [9:37:18<2:09:50, 39.95s/it]"
     ]
    },
    {
     "name": "stdout",
     "output_type": "stream",
     "text": [
      "\t ----- reward: -36.27403990979868 for f_star and f_minus: 24.29884965820223 , 36.27403990979868\n",
      "\t ---------- State is:  (9, 5)\n",
      "[INFO] [2023-03-01 09:08:12,560] [OpenBox-SPO] Iteration 806, objective value: [31.55762147380908].\n"
     ]
    },
    {
     "name": "stderr",
     "output_type": "stream",
     "text": [
      "\r",
      " 81%|████████████████████████████████████████████████████████████▍              | 806/1000 [9:37:56<2:06:26, 39.11s/it]"
     ]
    },
    {
     "name": "stdout",
     "output_type": "stream",
     "text": [
      "\t ----- reward: -31.55762147380908 for f_star and f_minus: 24.29884965820223 , 31.55762147380908\n",
      "\t ---------- State is:  (10, 6)\n",
      "[INFO] [2023-03-01 09:08:52,586] [OpenBox-SPO] Iteration 807, objective value: [29.486935212754076].\n"
     ]
    },
    {
     "name": "stderr",
     "output_type": "stream",
     "text": [
      "\r",
      " 81%|████████████████████████████████████████████████████████████▌              | 807/1000 [9:38:36<2:06:40, 39.38s/it]"
     ]
    },
    {
     "name": "stdout",
     "output_type": "stream",
     "text": [
      "\t ----- reward: -29.486935212754076 for f_star and f_minus: 24.29884965820223 , 29.486935212754076\n",
      "\t ---------- State is:  (9, 6)\n",
      "[INFO] [2023-03-01 09:09:33,169] [OpenBox-SPO] Iteration 808, objective value: [26.26697963516075].\n"
     ]
    },
    {
     "name": "stderr",
     "output_type": "stream",
     "text": [
      "\r",
      " 81%|████████████████████████████████████████████████████████████▌              | 808/1000 [9:39:16<2:07:10, 39.74s/it]"
     ]
    },
    {
     "name": "stdout",
     "output_type": "stream",
     "text": [
      "\t ----- reward: -26.26697963516075 for f_star and f_minus: 24.29884965820223 , 26.26697963516075\n",
      "\t ---------- State is:  (8, 6)\n",
      "[INFO] [2023-03-01 09:10:16,978] [OpenBox-SPO] Iteration 809, objective value: [26.200661568668608].\n"
     ]
    },
    {
     "name": "stderr",
     "output_type": "stream",
     "text": [
      "\r",
      " 81%|████████████████████████████████████████████████████████████▋              | 809/1000 [9:40:00<2:10:23, 40.96s/it]"
     ]
    },
    {
     "name": "stdout",
     "output_type": "stream",
     "text": [
      "\t ----- reward: -26.200661568668608 for f_star and f_minus: 24.29884965820223 , 26.200661568668608\n",
      "\t ---------- State is:  (9, 6)\n",
      "[INFO] [2023-03-01 09:10:16,978] [Advisor] Sample random config. rand_prob=0.100000.\n",
      "[INFO] [2023-03-01 09:10:39,545] [OpenBox-SPO] Iteration 810, objective value: [67.48495392469431].\n"
     ]
    },
    {
     "name": "stderr",
     "output_type": "stream",
     "text": [
      "\r",
      " 81%|████████████████████████████████████████████████████████████▊              | 810/1000 [9:40:23<1:52:14, 35.44s/it]"
     ]
    },
    {
     "name": "stdout",
     "output_type": "stream",
     "text": [
      "\t ----- reward: -67.48495392469431 for f_star and f_minus: 24.29884965820223 , 67.48495392469431\n",
      "\t ---------- State is:  (9, 7)\n",
      "[INFO] [2023-03-01 09:11:24,709] [OpenBox-SPO] Iteration 811, objective value: [33.27066316993003].\n"
     ]
    },
    {
     "name": "stderr",
     "output_type": "stream",
     "text": [
      "\r",
      " 81%|████████████████████████████████████████████████████████████▊              | 811/1000 [9:41:08<2:00:50, 38.36s/it]"
     ]
    },
    {
     "name": "stdout",
     "output_type": "stream",
     "text": [
      "\t ----- reward: -33.27066316993003 for f_star and f_minus: 24.29884965820223 , 33.27066316993003\n",
      "\t ---------- State is:  (10, 8)\n",
      "[INFO] [2023-03-01 09:11:24,709] [Advisor] Sample random config. rand_prob=0.100000.\n",
      "[INFO] [2023-03-01 09:11:54,544] [OpenBox-SPO] Iteration 812, objective value: [58.57362587028781].\n"
     ]
    },
    {
     "name": "stderr",
     "output_type": "stream",
     "text": [
      "\r",
      " 81%|████████████████████████████████████████████████████████████▉              | 812/1000 [9:41:38<1:52:11, 35.81s/it]"
     ]
    },
    {
     "name": "stdout",
     "output_type": "stream",
     "text": [
      "\t ----- reward: -58.57362587028781 for f_star and f_minus: 24.29884965820223 , 58.57362587028781\n",
      "\t ---------- State is:  (10, 9)\n",
      "[INFO] [2023-03-01 09:12:39,942] [OpenBox-SPO] Iteration 813, objective value: [35.044110497285416].\n"
     ]
    },
    {
     "name": "stderr",
     "output_type": "stream",
     "text": [
      "\r",
      " 81%|████████████████████████████████████████████████████████████▉              | 813/1000 [9:42:23<2:00:33, 38.68s/it]"
     ]
    },
    {
     "name": "stdout",
     "output_type": "stream",
     "text": [
      "\t ----- reward: -35.044110497285416 for f_star and f_minus: 24.29884965820223 , 35.044110497285416\n",
      "\t ---------- State is:  (10, 10)\n",
      "[INFO] [2023-03-01 09:13:22,605] [OpenBox-SPO] Iteration 814, objective value: [29.11063257805189].\n"
     ]
    },
    {
     "name": "stderr",
     "output_type": "stream",
     "text": [
      "\r",
      " 81%|█████████████████████████████████████████████████████████████              | 814/1000 [9:43:06<2:03:36, 39.87s/it]"
     ]
    },
    {
     "name": "stdout",
     "output_type": "stream",
     "text": [
      "\t ----- reward: -29.11063257805189 for f_star and f_minus: 24.29884965820223 , 29.11063257805189\n",
      "\t ---------- State is:  (9, 10)\n",
      "[INFO] [2023-03-01 09:13:59,785] [OpenBox-SPO] Iteration 815, objective value: [33.92390368114026].\n"
     ]
    },
    {
     "name": "stderr",
     "output_type": "stream",
     "text": [
      "\r",
      " 82%|█████████████████████████████████████████████████████████████              | 815/1000 [9:43:43<2:00:27, 39.07s/it]"
     ]
    },
    {
     "name": "stdout",
     "output_type": "stream",
     "text": [
      "\t ----- reward: -33.92390368114026 for f_star and f_minus: 24.29884965820223 , 33.92390368114026\n",
      "\t ---------- State is:  (10, 10)\n",
      "[INFO] [2023-03-01 09:14:40,739] [OpenBox-SPO] Iteration 816, objective value: [26.335430508900586].\n"
     ]
    },
    {
     "name": "stderr",
     "output_type": "stream",
     "text": [
      "\r",
      " 82%|█████████████████████████████████████████████████████████████▏             | 816/1000 [9:44:24<2:01:32, 39.63s/it]"
     ]
    },
    {
     "name": "stdout",
     "output_type": "stream",
     "text": [
      "\t ----- reward: -26.335430508900586 for f_star and f_minus: 24.29884965820223 , 26.335430508900586\n",
      "\t ---------- State is:  (9, 10)\n",
      "[INFO] [2023-03-01 09:15:22,730] [OpenBox-SPO] Iteration 817, objective value: [27.852792885980165].\n"
     ]
    },
    {
     "name": "stderr",
     "output_type": "stream",
     "text": [
      "\r",
      " 82%|█████████████████████████████████████████████████████████████▎             | 817/1000 [9:45:06<2:03:02, 40.34s/it]"
     ]
    },
    {
     "name": "stdout",
     "output_type": "stream",
     "text": [
      "\t ----- reward: -27.852792885980165 for f_star and f_minus: 24.29884965820223 , 27.852792885980165\n",
      "\t ---------- State is:  (9, 9)\n",
      "[INFO] [2023-03-01 09:16:04,439] [OpenBox-SPO] Iteration 818, objective value: [29.563060665089864].\n"
     ]
    },
    {
     "name": "stderr",
     "output_type": "stream",
     "text": [
      "\r",
      " 82%|█████████████████████████████████████████████████████████████▎             | 818/1000 [9:45:48<2:03:36, 40.75s/it]"
     ]
    },
    {
     "name": "stdout",
     "output_type": "stream",
     "text": [
      "\t ----- reward: -29.563060665089864 for f_star and f_minus: 24.29884965820223 , 29.563060665089864\n",
      "\t ---------- State is:  (9, 9)\n",
      "[INFO] [2023-03-01 09:16:45,276] [OpenBox-SPO] Iteration 819, objective value: [26.867003292303338].\n"
     ]
    },
    {
     "name": "stderr",
     "output_type": "stream",
     "text": [
      "\r",
      " 82%|█████████████████████████████████████████████████████████████▍             | 819/1000 [9:46:28<2:03:00, 40.78s/it]"
     ]
    },
    {
     "name": "stdout",
     "output_type": "stream",
     "text": [
      "\t ----- reward: -26.867003292303338 for f_star and f_minus: 24.29884965820223 , 26.867003292303338\n",
      "\t ---------- State is:  (10, 9)\n",
      "[INFO] [2023-03-01 09:17:27,892] [OpenBox-SPO] Iteration 820, objective value: [27.855560713006795].\n"
     ]
    },
    {
     "name": "stderr",
     "output_type": "stream",
     "text": [
      "\r",
      " 82%|█████████████████████████████████████████████████████████████▍             | 820/1000 [9:47:11<2:03:59, 41.33s/it]"
     ]
    },
    {
     "name": "stdout",
     "output_type": "stream",
     "text": [
      "\t ----- reward: -27.855560713006795 for f_star and f_minus: 24.29884965820223 , 27.855560713006795\n",
      "\t ---------- State is:  (9, 8)\n",
      "[INFO] [2023-03-01 09:18:09,421] [OpenBox-SPO] Iteration 821, objective value: [27.637507221180073].\n"
     ]
    },
    {
     "name": "stderr",
     "output_type": "stream",
     "text": [
      "\r",
      " 82%|█████████████████████████████████████████████████████████████▌             | 821/1000 [9:47:52<2:03:28, 41.39s/it]"
     ]
    },
    {
     "name": "stdout",
     "output_type": "stream",
     "text": [
      "\t ----- reward: -27.637507221180073 for f_star and f_minus: 24.29884965820223 , 27.637507221180073\n",
      "\t ---------- State is:  (10, 6)\n",
      "[INFO] [2023-03-01 09:18:52,212] [OpenBox-SPO] Iteration 822, objective value: [30.373405298710367].\n"
     ]
    },
    {
     "name": "stderr",
     "output_type": "stream",
     "text": [
      "\r",
      " 82%|█████████████████████████████████████████████████████████████▋             | 822/1000 [9:48:35<2:04:02, 41.81s/it]"
     ]
    },
    {
     "name": "stdout",
     "output_type": "stream",
     "text": [
      "\t ----- reward: -30.373405298710367 for f_star and f_minus: 24.29884965820223 , 30.373405298710367\n",
      "\t ---------- State is:  (9, 5)\n",
      "[INFO] [2023-03-01 09:19:35,731] [OpenBox-SPO] Iteration 823, objective value: [27.743647170318596].\n"
     ]
    },
    {
     "name": "stderr",
     "output_type": "stream",
     "text": [
      "\r",
      " 82%|█████████████████████████████████████████████████████████████▋             | 823/1000 [9:49:19<2:04:51, 42.32s/it]"
     ]
    },
    {
     "name": "stdout",
     "output_type": "stream",
     "text": [
      "\t ----- reward: -27.743647170318596 for f_star and f_minus: 24.29884965820223 , 27.743647170318596\n",
      "\t ---------- State is:  (8, 5)\n",
      "[INFO] [2023-03-01 09:20:15,924] [OpenBox-SPO] Iteration 824, objective value: [27.98710112482125].\n"
     ]
    },
    {
     "name": "stderr",
     "output_type": "stream",
     "text": [
      "\r",
      " 82%|█████████████████████████████████████████████████████████████▊             | 824/1000 [9:49:59<2:02:16, 41.68s/it]"
     ]
    },
    {
     "name": "stdout",
     "output_type": "stream",
     "text": [
      "\t ----- reward: -27.98710112482125 for f_star and f_minus: 24.29884965820223 , 27.98710112482125\n",
      "\t ---------- State is:  (8, 4)\n",
      "[INFO] [2023-03-01 09:20:57,557] [OpenBox-SPO] Iteration 825, objective value: [28.563481148332528].\n"
     ]
    },
    {
     "name": "stderr",
     "output_type": "stream",
     "text": [
      "\r",
      " 82%|█████████████████████████████████████████████████████████████▉             | 825/1000 [9:50:41<2:01:31, 41.67s/it]"
     ]
    },
    {
     "name": "stdout",
     "output_type": "stream",
     "text": [
      "\t ----- reward: -28.563481148332528 for f_star and f_minus: 24.29884965820223 , 28.563481148332528\n",
      "\t ---------- State is:  (7, 4)\n",
      "[INFO] [2023-03-01 09:21:38,142] [OpenBox-SPO] Iteration 826, objective value: [27.158035405066684].\n"
     ]
    },
    {
     "name": "stderr",
     "output_type": "stream",
     "text": [
      "\r",
      " 83%|█████████████████████████████████████████████████████████████▉             | 826/1000 [9:51:21<1:59:53, 41.34s/it]"
     ]
    },
    {
     "name": "stdout",
     "output_type": "stream",
     "text": [
      "\t ----- reward: -27.158035405066684 for f_star and f_minus: 24.29884965820223 , 27.158035405066684\n",
      "\t ---------- State is:  (6, 3)\n",
      "[INFO] [2023-03-01 09:22:21,987] [OpenBox-SPO] Iteration 827, objective value: [26.188365343140575].\n"
     ]
    },
    {
     "name": "stderr",
     "output_type": "stream",
     "text": [
      "\r",
      " 83%|██████████████████████████████████████████████████████████████             | 827/1000 [9:52:05<2:01:22, 42.09s/it]"
     ]
    },
    {
     "name": "stdout",
     "output_type": "stream",
     "text": [
      "\t ----- reward: -26.188365343140575 for f_star and f_minus: 24.29884965820223 , 26.188365343140575\n",
      "\t ---------- State is:  (5, 3)\n",
      "[INFO] [2023-03-01 09:23:01,997] [OpenBox-SPO] Iteration 828, objective value: [31.12695650852592].\n"
     ]
    },
    {
     "name": "stderr",
     "output_type": "stream",
     "text": [
      "\r",
      " 83%|██████████████████████████████████████████████████████████████             | 828/1000 [9:52:45<1:58:52, 41.47s/it]"
     ]
    },
    {
     "name": "stdout",
     "output_type": "stream",
     "text": [
      "\t ----- reward: -31.12695650852592 for f_star and f_minus: 24.29884965820223 , 31.12695650852592\n",
      "\t ---------- State is:  (5, 3)\n",
      "[INFO] [2023-03-01 09:23:42,329] [OpenBox-SPO] Iteration 829, objective value: [47.40574346278335].\n"
     ]
    },
    {
     "name": "stderr",
     "output_type": "stream",
     "text": [
      "\r",
      " 83%|██████████████████████████████████████████████████████████████▏            | 829/1000 [9:53:25<1:57:12, 41.13s/it]"
     ]
    },
    {
     "name": "stdout",
     "output_type": "stream",
     "text": [
      "\t ----- reward: -47.40574346278335 for f_star and f_minus: 24.29884965820223 , 47.40574346278335\n",
      "\t ---------- State is:  (4, 4)\n",
      "[INFO] [2023-03-01 09:24:23,222] [OpenBox-SPO] Iteration 830, objective value: [34.202524445928645].\n"
     ]
    },
    {
     "name": "stderr",
     "output_type": "stream",
     "text": [
      "\r",
      " 83%|██████████████████████████████████████████████████████████████▎            | 830/1000 [9:54:06<1:56:19, 41.06s/it]"
     ]
    },
    {
     "name": "stdout",
     "output_type": "stream",
     "text": [
      "\t ----- reward: -34.202524445928645 for f_star and f_minus: 24.29884965820223 , 34.202524445928645\n",
      "\t ---------- State is:  (3, 4)\n",
      "[INFO] [2023-03-01 09:25:05,159] [OpenBox-SPO] Iteration 831, objective value: [28.777739406155618].\n"
     ]
    },
    {
     "name": "stderr",
     "output_type": "stream",
     "text": [
      "\r",
      " 83%|██████████████████████████████████████████████████████████████▎            | 831/1000 [9:54:48<1:56:23, 41.32s/it]"
     ]
    },
    {
     "name": "stdout",
     "output_type": "stream",
     "text": [
      "\t ----- reward: -28.777739406155618 for f_star and f_minus: 24.29884965820223 , 28.777739406155618\n",
      "\t ---------- State is:  (2, 4)\n",
      "[INFO] [2023-03-01 09:25:50,497] [OpenBox-SPO] Iteration 832, objective value: [29.704449658089345].\n"
     ]
    },
    {
     "name": "stderr",
     "output_type": "stream",
     "text": [
      "\r",
      " 83%|██████████████████████████████████████████████████████████████▍            | 832/1000 [9:55:34<1:59:04, 42.53s/it]"
     ]
    },
    {
     "name": "stdout",
     "output_type": "stream",
     "text": [
      "\t ----- reward: -29.704449658089345 for f_star and f_minus: 24.29884965820223 , 29.704449658089345\n",
      "\t ---------- State is:  (1, 4)\n",
      "[INFO] [2023-03-01 09:26:32,842] [OpenBox-SPO] Iteration 833, objective value: [29.067683560812853].\n"
     ]
    },
    {
     "name": "stderr",
     "output_type": "stream",
     "text": [
      "\r",
      " 83%|██████████████████████████████████████████████████████████████▍            | 833/1000 [9:56:16<1:58:13, 42.48s/it]"
     ]
    },
    {
     "name": "stdout",
     "output_type": "stream",
     "text": [
      "\t ----- reward: -29.067683560812853 for f_star and f_minus: 24.29884965820223 , 29.067683560812853\n",
      "\t ---------- State is:  (2, 4)\n",
      "[INFO] [2023-03-01 09:27:11,629] [OpenBox-SPO] Iteration 834, objective value: [44.26704800297081].\n"
     ]
    },
    {
     "name": "stderr",
     "output_type": "stream",
     "text": [
      "\r",
      " 83%|██████████████████████████████████████████████████████████████▌            | 834/1000 [9:56:55<1:54:26, 41.36s/it]"
     ]
    },
    {
     "name": "stdout",
     "output_type": "stream",
     "text": [
      "\t ----- reward: -44.26704800297081 for f_star and f_minus: 24.29884965820223 , 44.26704800297081\n",
      "\t ---------- State is:  (1, 4)\n",
      "[INFO] [2023-03-01 09:27:56,780] [OpenBox-SPO] Iteration 835, objective value: [33.24444596746771].\n"
     ]
    },
    {
     "name": "stderr",
     "output_type": "stream",
     "text": [
      "\r",
      " 84%|██████████████████████████████████████████████████████████████▋            | 835/1000 [9:57:40<1:56:52, 42.50s/it]"
     ]
    },
    {
     "name": "stdout",
     "output_type": "stream",
     "text": [
      "\t ----- reward: -33.24444596746771 for f_star and f_minus: 24.29884965820223 , 33.24444596746771\n",
      "\t ---------- State is:  (0, 4)\n",
      "[INFO] [2023-03-01 09:28:40,886] [OpenBox-SPO] Iteration 836, objective value: [29.993787397730713].\n"
     ]
    },
    {
     "name": "stderr",
     "output_type": "stream",
     "text": [
      "\r",
      " 84%|██████████████████████████████████████████████████████████████▋            | 836/1000 [9:58:24<1:57:29, 42.98s/it]"
     ]
    },
    {
     "name": "stdout",
     "output_type": "stream",
     "text": [
      "\t ----- reward: -29.993787397730713 for f_star and f_minus: 24.29884965820223 , 29.993787397730713\n",
      "\t ---------- State is:  (0, 4)\n",
      "[INFO] [2023-03-01 09:29:25,913] [OpenBox-SPO] Iteration 837, objective value: [31.437978480808738].\n"
     ]
    },
    {
     "name": "stderr",
     "output_type": "stream",
     "text": [
      "\r",
      " 84%|██████████████████████████████████████████████████████████████▊            | 837/1000 [9:59:09<1:58:26, 43.60s/it]"
     ]
    },
    {
     "name": "stdout",
     "output_type": "stream",
     "text": [
      "\t ----- reward: -31.437978480808738 for f_star and f_minus: 24.29884965820223 , 31.437978480808738\n",
      "\t ---------- State is:  (1, 5)\n",
      "[INFO] [2023-03-01 09:30:07,668] [OpenBox-SPO] Iteration 838, objective value: [30.48481751307264].\n"
     ]
    },
    {
     "name": "stderr",
     "output_type": "stream",
     "text": [
      "\r",
      " 84%|██████████████████████████████████████████████████████████████▊            | 838/1000 [9:59:51<1:56:13, 43.04s/it]"
     ]
    },
    {
     "name": "stdout",
     "output_type": "stream",
     "text": [
      "\t ----- reward: -30.48481751307264 for f_star and f_minus: 24.29884965820223 , 30.48481751307264\n",
      "\t ---------- State is:  (2, 5)\n",
      "[INFO] [2023-03-01 09:30:51,928] [OpenBox-SPO] Iteration 839, objective value: [32.79061339152291].\n"
     ]
    },
    {
     "name": "stderr",
     "output_type": "stream",
     "text": [
      "\r",
      " 84%|██████████████████████████████████████████████████████████████            | 839/1000 [10:00:35<1:56:28, 43.41s/it]"
     ]
    },
    {
     "name": "stdout",
     "output_type": "stream",
     "text": [
      "\t ----- reward: -32.79061339152291 for f_star and f_minus: 24.29884965820223 , 32.79061339152291\n",
      "\t ---------- State is:  (2, 5)\n",
      "[INFO] [2023-03-01 09:31:33,545] [OpenBox-SPO] Iteration 840, objective value: [32.98651962008326].\n"
     ]
    },
    {
     "name": "stderr",
     "output_type": "stream",
     "text": [
      "\r",
      " 84%|██████████████████████████████████████████████████████████████▏           | 840/1000 [10:01:17<1:54:19, 42.87s/it]"
     ]
    },
    {
     "name": "stdout",
     "output_type": "stream",
     "text": [
      "\t ----- reward: -32.98651962008326 for f_star and f_minus: 24.29884965820223 , 32.98651962008326\n",
      "\t ---------- State is:  (1, 5)\n",
      "[INFO] [2023-03-01 09:32:11,393] [OpenBox-SPO] Iteration 841, objective value: [40.41528024977351].\n"
     ]
    },
    {
     "name": "stderr",
     "output_type": "stream",
     "text": [
      "\r",
      " 84%|██████████████████████████████████████████████████████████████▏           | 841/1000 [10:01:54<1:49:36, 41.36s/it]"
     ]
    },
    {
     "name": "stdout",
     "output_type": "stream",
     "text": [
      "\t ----- reward: -40.41528024977351 for f_star and f_minus: 24.29884965820223 , 40.41528024977351\n",
      "\t ---------- State is:  (1, 6)\n",
      "[INFO] [2023-03-01 09:32:50,626] [OpenBox-SPO] Iteration 842, objective value: [28.052330525320443].\n"
     ]
    },
    {
     "name": "stderr",
     "output_type": "stream",
     "text": [
      "\r",
      " 84%|██████████████████████████████████████████████████████████████▎           | 842/1000 [10:02:34<1:47:14, 40.72s/it]"
     ]
    },
    {
     "name": "stdout",
     "output_type": "stream",
     "text": [
      "\t ----- reward: -28.052330525320443 for f_star and f_minus: 24.29884965820223 , 28.052330525320443\n",
      "\t ---------- State is:  (1, 5)\n",
      "[INFO] [2023-03-01 09:33:31,750] [OpenBox-SPO] Iteration 843, objective value: [27.64932193172443].\n"
     ]
    },
    {
     "name": "stderr",
     "output_type": "stream",
     "text": [
      "\r",
      " 84%|██████████████████████████████████████████████████████████████▍           | 843/1000 [10:03:15<1:46:52, 40.84s/it]"
     ]
    },
    {
     "name": "stdout",
     "output_type": "stream",
     "text": [
      "\t ----- reward: -27.64932193172443 for f_star and f_minus: 24.29884965820223 , 27.64932193172443\n",
      "\t ---------- State is:  (0, 5)\n",
      "[INFO] [2023-03-01 09:34:12,850] [OpenBox-SPO] Iteration 844, objective value: [30.80420892174314].\n"
     ]
    },
    {
     "name": "stderr",
     "output_type": "stream",
     "text": [
      "\r",
      " 84%|██████████████████████████████████████████████████████████████▍           | 844/1000 [10:03:56<1:46:23, 40.92s/it]"
     ]
    },
    {
     "name": "stdout",
     "output_type": "stream",
     "text": [
      "\t ----- reward: -30.80420892174314 for f_star and f_minus: 24.29884965820223 , 30.80420892174314\n",
      "\t ---------- State is:  (1, 6)\n",
      "[INFO] [2023-03-01 09:34:12,850] [Advisor] Sample random config. rand_prob=0.100000.\n",
      "[INFO] [2023-03-01 09:34:43,372] [OpenBox-SPO] Iteration 845, objective value: [54.14509519584059].\n"
     ]
    },
    {
     "name": "stderr",
     "output_type": "stream",
     "text": [
      "\r",
      " 84%|██████████████████████████████████████████████████████████████▌           | 845/1000 [10:04:26<1:37:39, 37.80s/it]"
     ]
    },
    {
     "name": "stdout",
     "output_type": "stream",
     "text": [
      "\t ----- reward: -54.14509519584059 for f_star and f_minus: 24.29884965820223 , 54.14509519584059\n",
      "\t ---------- State is:  (0, 6)\n",
      "[INFO] [2023-03-01 09:35:26,128] [OpenBox-SPO] Iteration 846, objective value: [35.657753772580364].\n"
     ]
    },
    {
     "name": "stderr",
     "output_type": "stream",
     "text": [
      "\r",
      " 85%|██████████████████████████████████████████████████████████████▌           | 846/1000 [10:05:09<1:40:50, 39.29s/it]"
     ]
    },
    {
     "name": "stdout",
     "output_type": "stream",
     "text": [
      "\t ----- reward: -35.657753772580364 for f_star and f_minus: 24.29884965820223 , 35.657753772580364\n",
      "\t ---------- State is:  (0, 6)\n",
      "[INFO] [2023-03-01 09:36:04,987] [OpenBox-SPO] Iteration 847, objective value: [35.817223777586875].\n"
     ]
    },
    {
     "name": "stderr",
     "output_type": "stream",
     "text": [
      "\r",
      " 85%|██████████████████████████████████████████████████████████████▋           | 847/1000 [10:05:48<1:39:51, 39.16s/it]"
     ]
    },
    {
     "name": "stdout",
     "output_type": "stream",
     "text": [
      "\t ----- reward: -35.817223777586875 for f_star and f_minus: 24.29884965820223 , 35.817223777586875\n",
      "\t ---------- State is:  (0, 7)\n",
      "[INFO] [2023-03-01 09:36:04,987] [Advisor] Sample random config. rand_prob=0.100000.\n",
      "[INFO] [2023-03-01 09:36:34,056] [OpenBox-SPO] Iteration 848, objective value: [56.86921790074684].\n"
     ]
    },
    {
     "name": "stderr",
     "output_type": "stream",
     "text": [
      "\r",
      " 85%|██████████████████████████████████████████████████████████████▊           | 848/1000 [10:06:17<1:31:32, 36.13s/it]"
     ]
    },
    {
     "name": "stdout",
     "output_type": "stream",
     "text": [
      "\t ----- reward: -56.86921790074684 for f_star and f_minus: 24.29884965820223 , 56.86921790074684\n",
      "\t ---------- State is:  (0, 8)\n",
      "[INFO] [2023-03-01 09:36:34,056] [Advisor] Sample random config. rand_prob=0.100000.\n",
      "[INFO] [2023-03-01 09:37:07,113] [OpenBox-SPO] Iteration 849, objective value: [57.74202778711171].\n"
     ]
    },
    {
     "name": "stderr",
     "output_type": "stream",
     "text": [
      "\r",
      " 85%|██████████████████████████████████████████████████████████████▊           | 849/1000 [10:06:50<1:28:36, 35.21s/it]"
     ]
    },
    {
     "name": "stdout",
     "output_type": "stream",
     "text": [
      "\t ----- reward: -57.74202778711171 for f_star and f_minus: 24.29884965820223 , 57.74202778711171\n",
      "\t ---------- State is:  (0, 8)\n",
      "[INFO] [2023-03-01 09:37:51,482] [OpenBox-SPO] Iteration 850, objective value: [41.95715320197715].\n"
     ]
    },
    {
     "name": "stderr",
     "output_type": "stream",
     "text": [
      "\r",
      " 85%|██████████████████████████████████████████████████████████████▉           | 850/1000 [10:07:35<1:34:53, 37.96s/it]"
     ]
    },
    {
     "name": "stdout",
     "output_type": "stream",
     "text": [
      "\t ----- reward: -41.95715320197715 for f_star and f_minus: 24.29884965820223 , 41.95715320197715\n",
      "\t ---------- State is:  (1, 8)\n",
      "[INFO] [2023-03-01 09:38:33,488] [OpenBox-SPO] Iteration 851, objective value: [32.949697094739534].\n"
     ]
    },
    {
     "name": "stderr",
     "output_type": "stream",
     "text": [
      "\r",
      " 85%|██████████████████████████████████████████████████████████████▉           | 851/1000 [10:08:17<1:37:16, 39.17s/it]"
     ]
    },
    {
     "name": "stdout",
     "output_type": "stream",
     "text": [
      "\t ----- reward: -32.949697094739534 for f_star and f_minus: 24.29884965820223 , 32.949697094739534\n",
      "\t ---------- State is:  (0, 8)\n",
      "[INFO] [2023-03-01 09:39:15,598] [OpenBox-SPO] Iteration 852, objective value: [29.38260468075306].\n"
     ]
    },
    {
     "name": "stderr",
     "output_type": "stream",
     "text": [
      "\r",
      " 85%|███████████████████████████████████████████████████████████████           | 852/1000 [10:08:59<1:38:47, 40.05s/it]"
     ]
    },
    {
     "name": "stdout",
     "output_type": "stream",
     "text": [
      "\t ----- reward: -29.38260468075306 for f_star and f_minus: 24.29884965820223 , 29.38260468075306\n",
      "\t ---------- State is:  (1, 8)\n",
      "[INFO] [2023-03-01 09:39:53,975] [OpenBox-SPO] Iteration 853, objective value: [35.18282622028302].\n"
     ]
    },
    {
     "name": "stderr",
     "output_type": "stream",
     "text": [
      "\r",
      " 85%|███████████████████████████████████████████████████████████████           | 853/1000 [10:09:37<1:36:53, 39.55s/it]"
     ]
    },
    {
     "name": "stdout",
     "output_type": "stream",
     "text": [
      "\t ----- reward: -35.18282622028302 for f_star and f_minus: 24.29884965820223 , 35.18282622028302\n",
      "\t ---------- State is:  (1, 8)\n",
      "[INFO] [2023-03-01 09:39:53,975] [Advisor] Sample random config. rand_prob=0.100000.\n",
      "[INFO] [2023-03-01 09:40:23,292] [OpenBox-SPO] Iteration 854, objective value: [54.75891770473926].\n"
     ]
    },
    {
     "name": "stderr",
     "output_type": "stream",
     "text": [
      "\r",
      " 85%|███████████████████████████████████████████████████████████████▏          | 854/1000 [10:10:06<1:28:46, 36.48s/it]"
     ]
    },
    {
     "name": "stdout",
     "output_type": "stream",
     "text": [
      "\t ----- reward: -54.75891770473926 for f_star and f_minus: 24.29884965820223 , 54.75891770473926\n",
      "\t ---------- State is:  (0, 8)\n",
      "[INFO] [2023-03-01 09:41:07,142] [OpenBox-SPO] Iteration 855, objective value: [35.60241367605046].\n"
     ]
    },
    {
     "name": "stderr",
     "output_type": "stream",
     "text": [
      "\r",
      " 86%|███████████████████████████████████████████████████████████████▎          | 855/1000 [10:10:50<1:33:30, 38.69s/it]"
     ]
    },
    {
     "name": "stdout",
     "output_type": "stream",
     "text": [
      "\t ----- reward: -35.60241367605046 for f_star and f_minus: 24.29884965820223 , 35.60241367605046\n",
      "\t ---------- State is:  (0, 9)\n",
      "[INFO] [2023-03-01 09:41:47,885] [OpenBox-SPO] Iteration 856, objective value: [30.47865749949763].\n"
     ]
    },
    {
     "name": "stderr",
     "output_type": "stream",
     "text": [
      "\r",
      " 86%|███████████████████████████████████████████████████████████████▎          | 856/1000 [10:11:31<1:34:20, 39.31s/it]"
     ]
    },
    {
     "name": "stdout",
     "output_type": "stream",
     "text": [
      "\t ----- reward: -30.47865749949763 for f_star and f_minus: 24.29884965820223 , 30.47865749949763\n",
      "\t ---------- State is:  (0, 9)\n",
      "[INFO] [2023-03-01 09:42:32,527] [OpenBox-SPO] Iteration 857, objective value: [38.77729794431966].\n"
     ]
    },
    {
     "name": "stderr",
     "output_type": "stream",
     "text": [
      "\r",
      " 86%|███████████████████████████████████████████████████████████████▍          | 857/1000 [10:12:16<1:37:29, 40.91s/it]"
     ]
    },
    {
     "name": "stdout",
     "output_type": "stream",
     "text": [
      "\t ----- reward: -38.77729794431966 for f_star and f_minus: 24.29884965820223 , 38.77729794431966\n",
      "\t ---------- State is:  (1, 11)\n",
      "[INFO] [2023-03-01 09:43:16,143] [OpenBox-SPO] Iteration 858, objective value: [34.5573138023272].\n"
     ]
    },
    {
     "name": "stderr",
     "output_type": "stream",
     "text": [
      "\r",
      " 86%|███████████████████████████████████████████████████████████████▍          | 858/1000 [10:12:59<1:38:44, 41.72s/it]"
     ]
    },
    {
     "name": "stdout",
     "output_type": "stream",
     "text": [
      "\t ----- reward: -34.5573138023272 for f_star and f_minus: 24.29884965820223 , 34.5573138023272\n",
      "\t ---------- State is:  (1, 11)\n",
      "[INFO] [2023-03-01 09:43:56,668] [OpenBox-SPO] Iteration 859, objective value: [27.98144408110116].\n"
     ]
    },
    {
     "name": "stderr",
     "output_type": "stream",
     "text": [
      "\r",
      " 86%|███████████████████████████████████████████████████████████████▌          | 859/1000 [10:13:40<1:37:11, 41.36s/it]"
     ]
    },
    {
     "name": "stdout",
     "output_type": "stream",
     "text": [
      "\t ----- reward: -27.98144408110116 for f_star and f_minus: 24.29884965820223 , 27.98144408110116\n",
      "\t ---------- State is:  (0, 11)\n",
      "[INFO] [2023-03-01 09:44:32,393] [OpenBox-SPO] Iteration 860, objective value: [49.41085770623835].\n"
     ]
    },
    {
     "name": "stderr",
     "output_type": "stream",
     "text": [
      "\r",
      " 86%|███████████████████████████████████████████████████████████████▋          | 860/1000 [10:14:15<1:32:33, 39.67s/it]"
     ]
    },
    {
     "name": "stdout",
     "output_type": "stream",
     "text": [
      "\t ----- reward: -49.41085770623835 for f_star and f_minus: 24.29884965820223 , 49.41085770623835\n",
      "\t ---------- State is:  (0, 11)\n",
      "[INFO] [2023-03-01 09:45:16,584] [OpenBox-SPO] Iteration 861, objective value: [35.11357162457267].\n"
     ]
    },
    {
     "name": "stderr",
     "output_type": "stream",
     "text": [
      "\r",
      " 86%|███████████████████████████████████████████████████████████████▋          | 861/1000 [10:15:00<1:35:02, 41.03s/it]"
     ]
    },
    {
     "name": "stdout",
     "output_type": "stream",
     "text": [
      "\t ----- reward: -35.11357162457267 for f_star and f_minus: 24.29884965820223 , 35.11357162457267\n",
      "\t ---------- State is:  (1, 11)\n",
      "[INFO] [2023-03-01 09:45:57,531] [OpenBox-SPO] Iteration 862, objective value: [30.874399435093864].\n"
     ]
    },
    {
     "name": "stderr",
     "output_type": "stream",
     "text": [
      "\r",
      " 86%|███████████████████████████████████████████████████████████████▊          | 862/1000 [10:15:41<1:34:18, 41.00s/it]"
     ]
    },
    {
     "name": "stdout",
     "output_type": "stream",
     "text": [
      "\t ----- reward: -30.874399435093864 for f_star and f_minus: 24.29884965820223 , 30.874399435093864\n",
      "\t ---------- State is:  (2, 11)\n",
      "[INFO] [2023-03-01 09:46:38,742] [OpenBox-SPO] Iteration 863, objective value: [30.597217153481182].\n"
     ]
    },
    {
     "name": "stderr",
     "output_type": "stream",
     "text": [
      "\r",
      " 86%|███████████████████████████████████████████████████████████████▊          | 863/1000 [10:16:22<1:33:46, 41.07s/it]"
     ]
    },
    {
     "name": "stdout",
     "output_type": "stream",
     "text": [
      "\t ----- reward: -30.597217153481182 for f_star and f_minus: 24.29884965820223 , 30.597217153481182\n",
      "\t ---------- State is:  (3, 11)\n",
      "[INFO] [2023-03-01 09:47:23,539] [OpenBox-SPO] Iteration 864, objective value: [29.809812297534165].\n"
     ]
    },
    {
     "name": "stderr",
     "output_type": "stream",
     "text": [
      "\r",
      " 86%|███████████████████████████████████████████████████████████████▉          | 864/1000 [10:17:07<1:35:36, 42.18s/it]"
     ]
    },
    {
     "name": "stdout",
     "output_type": "stream",
     "text": [
      "\t ----- reward: -29.809812297534165 for f_star and f_minus: 24.29884965820223 , 29.809812297534165\n",
      "\t ---------- State is:  (2, 11)\n",
      "[INFO] [2023-03-01 09:48:07,366] [OpenBox-SPO] Iteration 865, objective value: [29.943227042194692].\n"
     ]
    },
    {
     "name": "stderr",
     "output_type": "stream",
     "text": [
      "\r",
      " 86%|████████████████████████████████████████████████████████████████          | 865/1000 [10:17:50<1:36:01, 42.68s/it]"
     ]
    },
    {
     "name": "stdout",
     "output_type": "stream",
     "text": [
      "\t ----- reward: -29.943227042194692 for f_star and f_minus: 24.29884965820223 , 29.943227042194692\n",
      "\t ---------- State is:  (2, 10)\n",
      "[INFO] [2023-03-01 09:48:57,095] [OpenBox-SPO] Iteration 866, objective value: [39.483059475855754].\n"
     ]
    },
    {
     "name": "stderr",
     "output_type": "stream",
     "text": [
      "\r",
      " 87%|████████████████████████████████████████████████████████████████          | 866/1000 [10:18:40<1:40:02, 44.80s/it]"
     ]
    },
    {
     "name": "stdout",
     "output_type": "stream",
     "text": [
      "\t ----- reward: -39.483059475855754 for f_star and f_minus: 24.29884965820223 , 39.483059475855754\n",
      "\t ---------- State is:  (1, 10)\n",
      "[INFO] [2023-03-01 09:49:37,899] [OpenBox-SPO] Iteration 867, objective value: [31.734077790633393].\n"
     ]
    },
    {
     "name": "stderr",
     "output_type": "stream",
     "text": [
      "\r",
      " 87%|████████████████████████████████████████████████████████████████▏         | 867/1000 [10:19:21<1:36:38, 43.59s/it]"
     ]
    },
    {
     "name": "stdout",
     "output_type": "stream",
     "text": [
      "\t ----- reward: -31.734077790633393 for f_star and f_minus: 24.29884965820223 , 31.734077790633393\n",
      "\t ---------- State is:  (0, 10)\n",
      "[INFO] [2023-03-01 09:50:16,310] [OpenBox-SPO] Iteration 868, objective value: [34.2856789299815].\n"
     ]
    },
    {
     "name": "stderr",
     "output_type": "stream",
     "text": [
      "\r",
      " 87%|████████████████████████████████████████████████████████████████▏         | 868/1000 [10:19:59<1:32:29, 42.04s/it]"
     ]
    },
    {
     "name": "stdout",
     "output_type": "stream",
     "text": [
      "\t ----- reward: -34.2856789299815 for f_star and f_minus: 24.29884965820223 , 34.2856789299815\n",
      "\t ---------- State is:  (1, 10)\n",
      "[INFO] [2023-03-01 09:50:59,990] [OpenBox-SPO] Iteration 869, objective value: [35.979171087432576].\n"
     ]
    },
    {
     "name": "stderr",
     "output_type": "stream",
     "text": [
      "\r",
      " 87%|████████████████████████████████████████████████████████████████▎         | 869/1000 [10:20:43<1:32:51, 42.53s/it]"
     ]
    },
    {
     "name": "stdout",
     "output_type": "stream",
     "text": [
      "\t ----- reward: -35.979171087432576 for f_star and f_minus: 24.29884965820223 , 35.979171087432576\n",
      "\t ---------- State is:  (2, 10)\n",
      "[INFO] [2023-03-01 09:51:42,388] [OpenBox-SPO] Iteration 870, objective value: [33.6347303264488].\n"
     ]
    },
    {
     "name": "stderr",
     "output_type": "stream",
     "text": [
      "\r",
      " 87%|████████████████████████████████████████████████████████████████▍         | 870/1000 [10:21:25<1:32:03, 42.49s/it]"
     ]
    },
    {
     "name": "stdout",
     "output_type": "stream",
     "text": [
      "\t ----- reward: -33.6347303264488 for f_star and f_minus: 24.29884965820223 , 33.6347303264488\n",
      "\t ---------- State is:  (2, 9)\n",
      "[INFO] [2023-03-01 09:52:29,052] [OpenBox-SPO] Iteration 871, objective value: [39.838752123276244].\n"
     ]
    },
    {
     "name": "stderr",
     "output_type": "stream",
     "text": [
      "\r",
      " 87%|████████████████████████████████████████████████████████████████▍         | 871/1000 [10:22:12<1:34:02, 43.74s/it]"
     ]
    },
    {
     "name": "stdout",
     "output_type": "stream",
     "text": [
      "\t ----- reward: -39.838752123276244 for f_star and f_minus: 24.29884965820223 , 39.838752123276244\n",
      "\t ---------- State is:  (2, 10)\n",
      "[INFO] [2023-03-01 09:53:07,872] [OpenBox-SPO] Iteration 872, objective value: [28.28429794633422].\n"
     ]
    },
    {
     "name": "stderr",
     "output_type": "stream",
     "text": [
      "\r",
      " 87%|████████████████████████████████████████████████████████████████▌         | 872/1000 [10:22:51<1:30:10, 42.27s/it]"
     ]
    },
    {
     "name": "stdout",
     "output_type": "stream",
     "text": [
      "\t ----- reward: -28.28429794633422 for f_star and f_minus: 24.29884965820223 , 28.28429794633422\n",
      "\t ---------- State is:  (3, 10)\n",
      "[INFO] [2023-03-01 09:53:50,208] [OpenBox-SPO] Iteration 873, objective value: [26.802090488894564].\n"
     ]
    },
    {
     "name": "stderr",
     "output_type": "stream",
     "text": [
      "\r",
      " 87%|████████████████████████████████████████████████████████████████▌         | 873/1000 [10:23:33<1:29:30, 42.29s/it]"
     ]
    },
    {
     "name": "stdout",
     "output_type": "stream",
     "text": [
      "\t ----- reward: -26.802090488894564 for f_star and f_minus: 24.29884965820223 , 26.802090488894564\n",
      "\t ---------- State is:  (2, 9)\n",
      "[INFO] [2023-03-01 09:54:32,623] [OpenBox-SPO] Iteration 874, objective value: [29.423080296549813].\n"
     ]
    },
    {
     "name": "stderr",
     "output_type": "stream",
     "text": [
      "\r",
      " 87%|████████████████████████████████████████████████████████████████▋         | 874/1000 [10:24:16<1:28:53, 42.33s/it]"
     ]
    },
    {
     "name": "stdout",
     "output_type": "stream",
     "text": [
      "\t ----- reward: -29.423080296549813 for f_star and f_minus: 24.29884965820223 , 29.423080296549813\n",
      "\t ---------- State is:  (1, 8)\n",
      "[INFO] [2023-03-01 09:55:15,267] [OpenBox-SPO] Iteration 875, objective value: [26.921242326417953].\n"
     ]
    },
    {
     "name": "stderr",
     "output_type": "stream",
     "text": [
      "\r",
      " 88%|████████████████████████████████████████████████████████████████▊         | 875/1000 [10:24:58<1:28:22, 42.42s/it]"
     ]
    },
    {
     "name": "stdout",
     "output_type": "stream",
     "text": [
      "\t ----- reward: -26.921242326417953 for f_star and f_minus: 24.29884965820223 , 26.921242326417953\n",
      "\t ---------- State is:  (2, 7)\n",
      "[INFO] [2023-03-01 09:56:07,552] [OpenBox-SPO] Iteration 876, objective value: [39.637883808388].\n"
     ]
    },
    {
     "name": "stderr",
     "output_type": "stream",
     "text": [
      "\r",
      " 88%|████████████████████████████████████████████████████████████████▊         | 876/1000 [10:25:51<1:33:47, 45.38s/it]"
     ]
    },
    {
     "name": "stdout",
     "output_type": "stream",
     "text": [
      "\t ----- reward: -39.637883808388 for f_star and f_minus: 24.29884965820223 , 39.637883808388\n",
      "\t ---------- State is:  (2, 8)\n",
      "[INFO] [2023-03-01 09:56:07,552] [Advisor] Sample random config. rand_prob=0.100000.\n",
      "[INFO] [2023-03-01 09:56:46,654] [OpenBox-SPO] Iteration 877, objective value: [47.3753333865193].\n"
     ]
    },
    {
     "name": "stderr",
     "output_type": "stream",
     "text": [
      "\r",
      " 88%|████████████████████████████████████████████████████████████████▉         | 877/1000 [10:26:30<1:29:10, 43.50s/it]"
     ]
    },
    {
     "name": "stdout",
     "output_type": "stream",
     "text": [
      "\t ----- reward: -47.3753333865193 for f_star and f_minus: 24.29884965820223 , 47.3753333865193\n",
      "\t ---------- State is:  (2, 8)\n",
      "[INFO] [2023-03-01 09:57:25,929] [OpenBox-SPO] Iteration 878, objective value: [35.184190931796095].\n"
     ]
    },
    {
     "name": "stderr",
     "output_type": "stream",
     "text": [
      "\r",
      " 88%|████████████████████████████████████████████████████████████████▉         | 878/1000 [10:27:09<1:25:52, 42.23s/it]"
     ]
    },
    {
     "name": "stdout",
     "output_type": "stream",
     "text": [
      "\t ----- reward: -35.184190931796095 for f_star and f_minus: 24.29884965820223 , 35.184190931796095\n",
      "\t ---------- State is:  (3, 8)\n",
      "[INFO] [2023-03-01 09:58:07,645] [OpenBox-SPO] Iteration 879, objective value: [36.769561685546826].\n"
     ]
    },
    {
     "name": "stderr",
     "output_type": "stream",
     "text": [
      "\r",
      " 88%|█████████████████████████████████████████████████████████████████         | 879/1000 [10:27:51<1:24:51, 42.08s/it]"
     ]
    },
    {
     "name": "stdout",
     "output_type": "stream",
     "text": [
      "\t ----- reward: -36.769561685546826 for f_star and f_minus: 24.29884965820223 , 36.769561685546826\n",
      "\t ---------- State is:  (4, 9)\n",
      "[INFO] [2023-03-01 09:58:48,106] [OpenBox-SPO] Iteration 880, objective value: [27.71084791991389].\n"
     ]
    },
    {
     "name": "stderr",
     "output_type": "stream",
     "text": [
      "\r",
      " 88%|█████████████████████████████████████████████████████████████████         | 880/1000 [10:28:31<1:23:11, 41.60s/it]"
     ]
    },
    {
     "name": "stdout",
     "output_type": "stream",
     "text": [
      "\t ----- reward: -27.71084791991389 for f_star and f_minus: 24.29884965820223 , 27.71084791991389\n",
      "\t ---------- State is:  (5, 8)\n",
      "[INFO] [2023-03-01 09:59:29,706] [OpenBox-SPO] Iteration 881, objective value: [29.19783028802233].\n"
     ]
    },
    {
     "name": "stderr",
     "output_type": "stream",
     "text": [
      "\r",
      " 88%|█████████████████████████████████████████████████████████████████▏        | 881/1000 [10:29:13<1:22:29, 41.59s/it]"
     ]
    },
    {
     "name": "stdout",
     "output_type": "stream",
     "text": [
      "\t ----- reward: -29.19783028802233 for f_star and f_minus: 24.29884965820223 , 29.19783028802233\n",
      "\t ---------- State is:  (6, 7)\n",
      "[INFO] [2023-03-01 10:00:12,494] [OpenBox-SPO] Iteration 882, objective value: [29.57437010075907].\n"
     ]
    },
    {
     "name": "stderr",
     "output_type": "stream",
     "text": [
      "\r",
      " 88%|█████████████████████████████████████████████████████████████████▎        | 882/1000 [10:29:56<1:22:30, 41.95s/it]"
     ]
    },
    {
     "name": "stdout",
     "output_type": "stream",
     "text": [
      "\t ----- reward: -29.57437010075907 for f_star and f_minus: 24.29884965820223 , 29.57437010075907\n",
      "\t ---------- State is:  (7, 6)\n",
      "[INFO] [2023-03-01 10:00:52,229] [OpenBox-SPO] Iteration 883, objective value: [30.70764319198463].\n"
     ]
    },
    {
     "name": "stderr",
     "output_type": "stream",
     "text": [
      "\r",
      " 88%|█████████████████████████████████████████████████████████████████▎        | 883/1000 [10:30:35<1:20:31, 41.29s/it]"
     ]
    },
    {
     "name": "stdout",
     "output_type": "stream",
     "text": [
      "\t ----- reward: -30.70764319198463 for f_star and f_minus: 24.29884965820223 , 30.70764319198463\n",
      "\t ---------- State is:  (8, 6)\n",
      "[INFO] [2023-03-01 10:01:31,547] [OpenBox-SPO] Iteration 884, objective value: [29.184665521637925].\n"
     ]
    },
    {
     "name": "stderr",
     "output_type": "stream",
     "text": [
      "\r",
      " 88%|█████████████████████████████████████████████████████████████████▍        | 884/1000 [10:31:15<1:18:40, 40.69s/it]"
     ]
    },
    {
     "name": "stdout",
     "output_type": "stream",
     "text": [
      "\t ----- reward: -29.184665521637925 for f_star and f_minus: 24.29884965820223 , 29.184665521637925\n",
      "\t ---------- State is:  (7, 6)\n",
      "[INFO] [2023-03-01 10:02:17,260] [OpenBox-SPO] Iteration 885, objective value: [30.442151830027058].\n"
     ]
    },
    {
     "name": "stderr",
     "output_type": "stream",
     "text": [
      "\r",
      " 88%|█████████████████████████████████████████████████████████████████▍        | 885/1000 [10:32:00<1:20:52, 42.20s/it]"
     ]
    },
    {
     "name": "stdout",
     "output_type": "stream",
     "text": [
      "\t ----- reward: -30.442151830027058 for f_star and f_minus: 24.29884965820223 , 30.442151830027058\n",
      "\t ---------- State is:  (7, 6)\n",
      "[INFO] [2023-03-01 10:03:00,442] [OpenBox-SPO] Iteration 886, objective value: [26.794240849370496].\n"
     ]
    },
    {
     "name": "stderr",
     "output_type": "stream",
     "text": [
      "\r",
      " 89%|█████████████████████████████████████████████████████████████████▌        | 886/1000 [10:32:44<1:20:44, 42.49s/it]"
     ]
    },
    {
     "name": "stdout",
     "output_type": "stream",
     "text": [
      "\t ----- reward: -26.794240849370496 for f_star and f_minus: 24.29884965820223 , 26.794240849370496\n",
      "\t ---------- State is:  (8, 6)\n",
      "[INFO] [2023-03-01 10:03:00,442] [Advisor] Sample random config. rand_prob=0.100000.\n",
      "[INFO] [2023-03-01 10:03:39,290] [OpenBox-SPO] Iteration 887, objective value: [61.43399190558415].\n"
     ]
    },
    {
     "name": "stderr",
     "output_type": "stream",
     "text": [
      "\r",
      " 89%|█████████████████████████████████████████████████████████████████▋        | 887/1000 [10:33:22<1:17:58, 41.40s/it]"
     ]
    },
    {
     "name": "stdout",
     "output_type": "stream",
     "text": [
      "\t ----- reward: -61.43399190558415 for f_star and f_minus: 24.29884965820223 , 61.43399190558415\n",
      "\t ---------- State is:  (8, 6)\n",
      "[INFO] [2023-03-01 10:04:20,625] [OpenBox-SPO] Iteration 888, objective value: [33.1633798571].\n"
     ]
    },
    {
     "name": "stderr",
     "output_type": "stream",
     "text": [
      "\r",
      " 89%|█████████████████████████████████████████████████████████████████▋        | 888/1000 [10:34:04<1:17:14, 41.38s/it]"
     ]
    },
    {
     "name": "stdout",
     "output_type": "stream",
     "text": [
      "\t ----- reward: -33.1633798571 for f_star and f_minus: 24.29884965820223 , 33.1633798571\n",
      "\t ---------- State is:  (9, 6)\n",
      "[INFO] [2023-03-01 10:05:09,165] [OpenBox-SPO] Iteration 889, objective value: [29.400452974924434].\n"
     ]
    },
    {
     "name": "stderr",
     "output_type": "stream",
     "text": [
      "\r",
      " 89%|█████████████████████████████████████████████████████████████████▊        | 889/1000 [10:34:52<1:20:31, 43.53s/it]"
     ]
    },
    {
     "name": "stdout",
     "output_type": "stream",
     "text": [
      "\t ----- reward: -29.400452974924434 for f_star and f_minus: 24.29884965820223 , 29.400452974924434\n",
      "\t ---------- State is:  (8, 5)\n",
      "[INFO] [2023-03-01 10:05:52,003] [OpenBox-SPO] Iteration 890, objective value: [28.748416871129905].\n"
     ]
    },
    {
     "name": "stderr",
     "output_type": "stream",
     "text": [
      "\r",
      " 89%|█████████████████████████████████████████████████████████████████▊        | 890/1000 [10:35:35<1:19:25, 43.32s/it]"
     ]
    },
    {
     "name": "stdout",
     "output_type": "stream",
     "text": [
      "\t ----- reward: -28.748416871129905 for f_star and f_minus: 24.29884965820223 , 28.748416871129905\n",
      "\t ---------- State is:  (7, 5)\n",
      "[INFO] [2023-03-01 10:06:36,682] [OpenBox-SPO] Iteration 891, objective value: [29.350434708635476].\n"
     ]
    },
    {
     "name": "stderr",
     "output_type": "stream",
     "text": [
      "\r",
      " 89%|█████████████████████████████████████████████████████████████████▉        | 891/1000 [10:36:20<1:19:26, 43.73s/it]"
     ]
    },
    {
     "name": "stdout",
     "output_type": "stream",
     "text": [
      "\t ----- reward: -29.350434708635476 for f_star and f_minus: 24.29884965820223 , 29.350434708635476\n",
      "\t ---------- State is:  (7, 5)\n",
      "[INFO] [2023-03-01 10:07:20,475] [OpenBox-SPO] Iteration 892, objective value: [30.220995330456617].\n"
     ]
    },
    {
     "name": "stderr",
     "output_type": "stream",
     "text": [
      "\r",
      " 89%|██████████████████████████████████████████████████████████████████        | 892/1000 [10:37:04<1:18:44, 43.75s/it]"
     ]
    },
    {
     "name": "stdout",
     "output_type": "stream",
     "text": [
      "\t ----- reward: -30.220995330456617 for f_star and f_minus: 24.29884965820223 , 30.220995330456617\n",
      "\t ---------- State is:  (6, 5)\n",
      "[INFO] [2023-03-01 10:08:01,905] [OpenBox-SPO] Iteration 893, objective value: [27.251933944491185].\n"
     ]
    },
    {
     "name": "stderr",
     "output_type": "stream",
     "text": [
      "\r",
      " 89%|██████████████████████████████████████████████████████████████████        | 893/1000 [10:37:45<1:16:46, 43.05s/it]"
     ]
    },
    {
     "name": "stdout",
     "output_type": "stream",
     "text": [
      "\t ----- reward: -27.251933944491185 for f_star and f_minus: 24.29884965820223 , 27.251933944491185\n",
      "\t ---------- State is:  (7, 5)\n",
      "[INFO] [2023-03-01 10:08:01,905] [Advisor] Sample random config. rand_prob=0.100000.\n",
      "[INFO] [2023-03-01 10:08:36,832] [OpenBox-SPO] Iteration 894, objective value: [53.97512379116176].\n"
     ]
    },
    {
     "name": "stderr",
     "output_type": "stream",
     "text": [
      "\r",
      " 89%|██████████████████████████████████████████████████████████████████▏       | 894/1000 [10:38:20<1:11:45, 40.61s/it]"
     ]
    },
    {
     "name": "stdout",
     "output_type": "stream",
     "text": [
      "\t ----- reward: -53.97512379116176 for f_star and f_minus: 24.29884965820223 , 53.97512379116176\n",
      "\t ---------- State is:  (7, 5)\n",
      "[INFO] [2023-03-01 10:09:19,380] [OpenBox-SPO] Iteration 895, objective value: [35.45114693832832].\n"
     ]
    },
    {
     "name": "stderr",
     "output_type": "stream",
     "text": [
      "\r",
      " 90%|██████████████████████████████████████████████████████████████████▏       | 895/1000 [10:39:02<1:12:05, 41.19s/it]"
     ]
    },
    {
     "name": "stdout",
     "output_type": "stream",
     "text": [
      "\t ----- reward: -35.45114693832832 for f_star and f_minus: 24.29884965820223 , 35.45114693832832\n",
      "\t ---------- State is:  (6, 6)\n",
      "[INFO] [2023-03-01 10:10:00,860] [OpenBox-SPO] Iteration 896, objective value: [27.560190020869314].\n"
     ]
    },
    {
     "name": "stderr",
     "output_type": "stream",
     "text": [
      "\r",
      " 90%|██████████████████████████████████████████████████████████████████▎       | 896/1000 [10:39:44<1:11:33, 41.29s/it]"
     ]
    },
    {
     "name": "stdout",
     "output_type": "stream",
     "text": [
      "\t ----- reward: -27.560190020869314 for f_star and f_minus: 24.29884965820223 , 27.560190020869314\n",
      "\t ---------- State is:  (7, 5)\n",
      "[INFO] [2023-03-01 10:10:38,975] [OpenBox-SPO] Iteration 897, objective value: [32.63558840259667].\n"
     ]
    },
    {
     "name": "stderr",
     "output_type": "stream",
     "text": [
      "\r",
      " 90%|██████████████████████████████████████████████████████████████████▍       | 897/1000 [10:40:22<1:09:13, 40.33s/it]"
     ]
    },
    {
     "name": "stdout",
     "output_type": "stream",
     "text": [
      "\t ----- reward: -32.63558840259667 for f_star and f_minus: 24.29884965820223 , 32.63558840259667\n",
      "\t ---------- State is:  (8, 5)\n",
      "[INFO] [2023-03-01 10:11:23,264] [OpenBox-SPO] Iteration 898, objective value: [42.12589282541741].\n"
     ]
    },
    {
     "name": "stderr",
     "output_type": "stream",
     "text": [
      "\r",
      " 90%|██████████████████████████████████████████████████████████████████▍       | 898/1000 [10:41:06<1:10:34, 41.52s/it]"
     ]
    },
    {
     "name": "stdout",
     "output_type": "stream",
     "text": [
      "\t ----- reward: -42.12589282541741 for f_star and f_minus: 24.29884965820223 , 42.12589282541741\n",
      "\t ---------- State is:  (9, 5)\n",
      "[INFO] [2023-03-01 10:12:04,263] [OpenBox-SPO] Iteration 899, objective value: [35.19915989545373].\n"
     ]
    },
    {
     "name": "stderr",
     "output_type": "stream",
     "text": [
      "\r",
      " 90%|██████████████████████████████████████████████████████████████████▌       | 899/1000 [10:41:47<1:09:37, 41.36s/it]"
     ]
    },
    {
     "name": "stdout",
     "output_type": "stream",
     "text": [
      "\t ----- reward: -35.19915989545373 for f_star and f_minus: 24.29884965820223 , 35.19915989545373\n",
      "\t ---------- State is:  (9, 5)\n",
      "[INFO] [2023-03-01 10:12:43,052] [OpenBox-SPO] Iteration 900, objective value: [31.56229987716131].\n"
     ]
    },
    {
     "name": "stderr",
     "output_type": "stream",
     "text": [
      "\r",
      " 90%|██████████████████████████████████████████████████████████████████▌       | 900/1000 [10:42:26<1:07:39, 40.59s/it]"
     ]
    },
    {
     "name": "stdout",
     "output_type": "stream",
     "text": [
      "\t ----- reward: -31.56229987716131 for f_star and f_minus: 24.29884965820223 , 31.56229987716131\n",
      "\t ---------- State is:  (8, 6)\n",
      "[INFO] [2023-03-01 10:13:24,262] [OpenBox-SPO] Iteration 901, objective value: [28.840927030131397].\n"
     ]
    },
    {
     "name": "stderr",
     "output_type": "stream",
     "text": [
      "\r",
      " 90%|██████████████████████████████████████████████████████████████████▋       | 901/1000 [10:43:07<1:07:16, 40.78s/it]"
     ]
    },
    {
     "name": "stdout",
     "output_type": "stream",
     "text": [
      "\t ----- reward: -28.840927030131397 for f_star and f_minus: 24.29884965820223 , 28.840927030131397\n",
      "\t ---------- State is:  (7, 6)\n",
      "[INFO] [2023-03-01 10:14:07,582] [OpenBox-SPO] Iteration 902, objective value: [30.913081129821336].\n"
     ]
    },
    {
     "name": "stderr",
     "output_type": "stream",
     "text": [
      "\r",
      " 90%|██████████████████████████████████████████████████████████████████▋       | 902/1000 [10:43:51<1:07:50, 41.54s/it]"
     ]
    },
    {
     "name": "stdout",
     "output_type": "stream",
     "text": [
      "\t ----- reward: -30.913081129821336 for f_star and f_minus: 24.29884965820223 , 30.913081129821336\n",
      "\t ---------- State is:  (7, 6)\n",
      "[INFO] [2023-03-01 10:14:49,279] [OpenBox-SPO] Iteration 903, objective value: [29.11647346455652].\n"
     ]
    },
    {
     "name": "stderr",
     "output_type": "stream",
     "text": [
      "\r",
      " 90%|██████████████████████████████████████████████████████████████████▊       | 903/1000 [10:44:32<1:07:13, 41.59s/it]"
     ]
    },
    {
     "name": "stdout",
     "output_type": "stream",
     "text": [
      "\t ----- reward: -29.11647346455652 for f_star and f_minus: 24.29884965820223 , 29.11647346455652\n",
      "\t ---------- State is:  (8, 6)\n",
      "[INFO] [2023-03-01 10:15:34,580] [OpenBox-SPO] Iteration 904, objective value: [29.604652545687728].\n"
     ]
    },
    {
     "name": "stderr",
     "output_type": "stream",
     "text": [
      "\r",
      " 90%|██████████████████████████████████████████████████████████████████▉       | 904/1000 [10:45:18<1:08:19, 42.70s/it]"
     ]
    },
    {
     "name": "stdout",
     "output_type": "stream",
     "text": [
      "\t ----- reward: -29.604652545687728 for f_star and f_minus: 24.29884965820223 , 29.604652545687728\n",
      "\t ---------- State is:  (7, 6)\n",
      "[INFO] [2023-03-01 10:16:20,618] [OpenBox-SPO] Iteration 905, objective value: [41.56721341037365].\n"
     ]
    },
    {
     "name": "stderr",
     "output_type": "stream",
     "text": [
      "\r",
      " 90%|██████████████████████████████████████████████████████████████████▉       | 905/1000 [10:46:04<1:09:11, 43.70s/it]"
     ]
    },
    {
     "name": "stdout",
     "output_type": "stream",
     "text": [
      "\t ----- reward: -41.56721341037365 for f_star and f_minus: 24.29884965820223 , 41.56721341037365\n",
      "\t ---------- State is:  (6, 6)\n",
      "[INFO] [2023-03-01 10:17:00,722] [OpenBox-SPO] Iteration 906, objective value: [30.531598064516984].\n"
     ]
    },
    {
     "name": "stderr",
     "output_type": "stream",
     "text": [
      "\r",
      " 91%|███████████████████████████████████████████████████████████████████       | 906/1000 [10:46:44<1:06:46, 42.62s/it]"
     ]
    },
    {
     "name": "stdout",
     "output_type": "stream",
     "text": [
      "\t ----- reward: -30.531598064516984 for f_star and f_minus: 24.29884965820223 , 30.531598064516984\n",
      "\t ---------- State is:  (5, 6)\n",
      "[INFO] [2023-03-01 10:17:41,338] [OpenBox-SPO] Iteration 907, objective value: [32.80489662340477].\n"
     ]
    },
    {
     "name": "stderr",
     "output_type": "stream",
     "text": [
      "\r",
      " 91%|███████████████████████████████████████████████████████████████████       | 907/1000 [10:47:24<1:05:07, 42.02s/it]"
     ]
    },
    {
     "name": "stdout",
     "output_type": "stream",
     "text": [
      "\t ----- reward: -32.80489662340477 for f_star and f_minus: 24.29884965820223 , 32.80489662340477\n",
      "\t ---------- State is:  (5, 6)\n",
      "[INFO] [2023-03-01 10:18:23,948] [OpenBox-SPO] Iteration 908, objective value: [27.362570839622762].\n"
     ]
    },
    {
     "name": "stderr",
     "output_type": "stream",
     "text": [
      "\r",
      " 91%|███████████████████████████████████████████████████████████████████▏      | 908/1000 [10:48:07<1:04:42, 42.20s/it]"
     ]
    },
    {
     "name": "stdout",
     "output_type": "stream",
     "text": [
      "\t ----- reward: -27.362570839622762 for f_star and f_minus: 24.29884965820223 , 27.362570839622762\n",
      "\t ---------- State is:  (6, 6)\n",
      "[INFO] [2023-03-01 10:19:03,484] [OpenBox-SPO] Iteration 909, objective value: [28.80548733070151].\n"
     ]
    },
    {
     "name": "stderr",
     "output_type": "stream",
     "text": [
      "\r",
      " 91%|███████████████████████████████████████████████████████████████████▎      | 909/1000 [10:48:47<1:02:47, 41.40s/it]"
     ]
    },
    {
     "name": "stdout",
     "output_type": "stream",
     "text": [
      "\t ----- reward: -28.80548733070151 for f_star and f_minus: 24.29884965820223 , 28.80548733070151\n",
      "\t ---------- State is:  (7, 6)\n",
      "[INFO] [2023-03-01 10:19:43,447] [OpenBox-SPO] Iteration 910, objective value: [29.951034707531647].\n"
     ]
    },
    {
     "name": "stderr",
     "output_type": "stream",
     "text": [
      "\r",
      " 91%|███████████████████████████████████████████████████████████████████▎      | 910/1000 [10:49:27<1:01:27, 40.97s/it]"
     ]
    },
    {
     "name": "stdout",
     "output_type": "stream",
     "text": [
      "\t ----- reward: -29.951034707531647 for f_star and f_minus: 24.29884965820223 , 29.951034707531647\n",
      "\t ---------- State is:  (7, 6)\n",
      "[INFO] [2023-03-01 10:20:23,171] [OpenBox-SPO] Iteration 911, objective value: [48.51492983946988].\n"
     ]
    },
    {
     "name": "stderr",
     "output_type": "stream",
     "text": [
      "\r",
      " 91%|███████████████████████████████████████████████████████████████████▍      | 911/1000 [10:50:06<1:00:12, 40.59s/it]"
     ]
    },
    {
     "name": "stdout",
     "output_type": "stream",
     "text": [
      "\t ----- reward: -48.51492983946988 for f_star and f_minus: 24.29884965820223 , 48.51492983946988\n",
      "\t ---------- State is:  (8, 6)\n",
      "[INFO] [2023-03-01 10:21:02,226] [OpenBox-SPO] Iteration 912, objective value: [41.53724610784379].\n"
     ]
    },
    {
     "name": "stderr",
     "output_type": "stream",
     "text": [
      "\r",
      " 91%|█████████████████████████████████████████████████████████████████████▎      | 912/1000 [10:50:45<58:51, 40.13s/it]"
     ]
    },
    {
     "name": "stdout",
     "output_type": "stream",
     "text": [
      "\t ----- reward: -41.53724610784379 for f_star and f_minus: 24.29884965820223 , 41.53724610784379\n",
      "\t ---------- State is:  (9, 6)\n",
      "[INFO] [2023-03-01 10:21:43,419] [OpenBox-SPO] Iteration 913, objective value: [28.463713930054084].\n"
     ]
    },
    {
     "name": "stderr",
     "output_type": "stream",
     "text": [
      "\r",
      " 91%|█████████████████████████████████████████████████████████████████████▍      | 913/1000 [10:51:26<58:39, 40.45s/it]"
     ]
    },
    {
     "name": "stdout",
     "output_type": "stream",
     "text": [
      "\t ----- reward: -28.463713930054084 for f_star and f_minus: 24.29884965820223 , 28.463713930054084\n",
      "\t ---------- State is:  (10, 6)\n",
      "[INFO] [2023-03-01 10:22:27,149] [OpenBox-SPO] Iteration 914, objective value: [30.617244706513375].\n"
     ]
    },
    {
     "name": "stderr",
     "output_type": "stream",
     "text": [
      "\r",
      " 91%|█████████████████████████████████████████████████████████████████████▍      | 914/1000 [10:52:10<59:23, 41.43s/it]"
     ]
    },
    {
     "name": "stdout",
     "output_type": "stream",
     "text": [
      "\t ----- reward: -30.617244706513375 for f_star and f_minus: 24.29884965820223 , 30.617244706513375\n",
      "\t ---------- State is:  (9, 6)\n",
      "[INFO] [2023-03-01 10:23:09,598] [OpenBox-SPO] Iteration 915, objective value: [28.6555137857996].\n"
     ]
    },
    {
     "name": "stderr",
     "output_type": "stream",
     "text": [
      "\r",
      " 92%|█████████████████████████████████████████████████████████████████████▌      | 915/1000 [10:52:53<59:07, 41.74s/it]"
     ]
    },
    {
     "name": "stdout",
     "output_type": "stream",
     "text": [
      "\t ----- reward: -28.6555137857996 for f_star and f_minus: 24.29884965820223 , 28.6555137857996\n",
      "\t ---------- State is:  (10, 6)\n",
      "[INFO] [2023-03-01 10:23:49,216] [OpenBox-SPO] Iteration 916, objective value: [33.27950537337013].\n"
     ]
    },
    {
     "name": "stderr",
     "output_type": "stream",
     "text": [
      "\r",
      " 92%|█████████████████████████████████████████████████████████████████████▌      | 916/1000 [10:53:32<57:32, 41.10s/it]"
     ]
    },
    {
     "name": "stdout",
     "output_type": "stream",
     "text": [
      "\t ----- reward: -33.27950537337013 for f_star and f_minus: 24.29884965820223 , 33.27950537337013\n",
      "\t ---------- State is:  (10, 6)\n",
      "[INFO] [2023-03-01 10:24:28,080] [OpenBox-SPO] Iteration 917, objective value: [33.0304798404849].\n"
     ]
    },
    {
     "name": "stderr",
     "output_type": "stream",
     "text": [
      "\r",
      " 92%|█████████████████████████████████████████████████████████████████████▋      | 917/1000 [10:54:11<55:55, 40.43s/it]"
     ]
    },
    {
     "name": "stdout",
     "output_type": "stream",
     "text": [
      "\t ----- reward: -33.0304798404849 for f_star and f_minus: 24.29884965820223 , 33.0304798404849\n",
      "\t ---------- State is:  (9, 6)\n",
      "[INFO] [2023-03-01 10:25:06,851] [OpenBox-SPO] Iteration 918, objective value: [32.49155738929035].\n"
     ]
    },
    {
     "name": "stderr",
     "output_type": "stream",
     "text": [
      "\r",
      " 92%|█████████████████████████████████████████████████████████████████████▊      | 918/1000 [10:54:50<54:34, 39.93s/it]"
     ]
    },
    {
     "name": "stdout",
     "output_type": "stream",
     "text": [
      "\t ----- reward: -32.49155738929035 for f_star and f_minus: 24.29884965820223 , 32.49155738929035\n",
      "\t ---------- State is:  (8, 6)\n",
      "[INFO] [2023-03-01 10:25:47,063] [OpenBox-SPO] Iteration 919, objective value: [28.190994361514583].\n"
     ]
    },
    {
     "name": "stderr",
     "output_type": "stream",
     "text": [
      "\r",
      " 92%|█████████████████████████████████████████████████████████████████████▊      | 919/1000 [10:55:30<54:01, 40.02s/it]"
     ]
    },
    {
     "name": "stdout",
     "output_type": "stream",
     "text": [
      "\t ----- reward: -28.190994361514583 for f_star and f_minus: 24.29884965820223 , 28.190994361514583\n",
      "\t ---------- State is:  (7, 6)\n",
      "[INFO] [2023-03-01 10:26:26,933] [OpenBox-SPO] Iteration 920, objective value: [28.530248840198553].\n"
     ]
    },
    {
     "name": "stderr",
     "output_type": "stream",
     "text": [
      "\r",
      " 92%|█████████████████████████████████████████████████████████████████████▉      | 920/1000 [10:56:10<53:17, 39.97s/it]"
     ]
    },
    {
     "name": "stdout",
     "output_type": "stream",
     "text": [
      "\t ----- reward: -28.530248840198553 for f_star and f_minus: 24.29884965820223 , 28.530248840198553\n",
      "\t ---------- State is:  (7, 5)\n",
      "[INFO] [2023-03-01 10:27:08,206] [OpenBox-SPO] Iteration 921, objective value: [29.023357148701848].\n"
     ]
    },
    {
     "name": "stderr",
     "output_type": "stream",
     "text": [
      "\r",
      " 92%|█████████████████████████████████████████████████████████████████████▉      | 921/1000 [10:56:51<53:08, 40.36s/it]"
     ]
    },
    {
     "name": "stdout",
     "output_type": "stream",
     "text": [
      "\t ----- reward: -29.023357148701848 for f_star and f_minus: 24.29884965820223 , 29.023357148701848\n",
      "\t ---------- State is:  (6, 5)\n",
      "[INFO] [2023-03-01 10:27:44,701] [OpenBox-SPO] Iteration 922, objective value: [45.15363824475864].\n"
     ]
    },
    {
     "name": "stderr",
     "output_type": "stream",
     "text": [
      "\r",
      " 92%|██████████████████████████████████████████████████████████████████████      | 922/1000 [10:57:28<50:57, 39.20s/it]"
     ]
    },
    {
     "name": "stdout",
     "output_type": "stream",
     "text": [
      "\t ----- reward: -45.15363824475864 for f_star and f_minus: 24.29884965820223 , 45.15363824475864\n",
      "\t ---------- State is:  (5, 5)\n",
      "[INFO] [2023-03-01 10:28:25,493] [OpenBox-SPO] Iteration 923, objective value: [34.63988444762106].\n"
     ]
    },
    {
     "name": "stderr",
     "output_type": "stream",
     "text": [
      "\r",
      " 92%|██████████████████████████████████████████████████████████████████████▏     | 923/1000 [10:58:09<50:55, 39.68s/it]"
     ]
    },
    {
     "name": "stdout",
     "output_type": "stream",
     "text": [
      "\t ----- reward: -34.63988444762106 for f_star and f_minus: 24.29884965820223 , 34.63988444762106\n",
      "\t ---------- State is:  (4, 6)\n",
      "[INFO] [2023-03-01 10:29:04,250] [OpenBox-SPO] Iteration 924, objective value: [38.728023469671705].\n"
     ]
    },
    {
     "name": "stderr",
     "output_type": "stream",
     "text": [
      "\r",
      " 92%|██████████████████████████████████████████████████████████████████████▏     | 924/1000 [10:58:47<49:54, 39.40s/it]"
     ]
    },
    {
     "name": "stdout",
     "output_type": "stream",
     "text": [
      "\t ----- reward: -38.728023469671705 for f_star and f_minus: 24.29884965820223 , 38.728023469671705\n",
      "\t ---------- State is:  (4, 7)\n",
      "[INFO] [2023-03-01 10:29:53,027] [OpenBox-SPO] Iteration 925, objective value: [40.75675095425285].\n"
     ]
    },
    {
     "name": "stderr",
     "output_type": "stream",
     "text": [
      "\r",
      " 92%|██████████████████████████████████████████████████████████████████████▎     | 925/1000 [10:59:36<52:46, 42.22s/it]"
     ]
    },
    {
     "name": "stdout",
     "output_type": "stream",
     "text": [
      "\t ----- reward: -40.75675095425285 for f_star and f_minus: 24.29884965820223 , 40.75675095425285\n",
      "\t ---------- State is:  (4, 7)\n",
      "[INFO] [2023-03-01 10:30:34,769] [OpenBox-SPO] Iteration 926, objective value: [36.02330709503987].\n"
     ]
    },
    {
     "name": "stderr",
     "output_type": "stream",
     "text": [
      "\r",
      " 93%|██████████████████████████████████████████████████████████████████████▍     | 926/1000 [11:00:18<51:53, 42.07s/it]"
     ]
    },
    {
     "name": "stdout",
     "output_type": "stream",
     "text": [
      "\t ----- reward: -36.02330709503987 for f_star and f_minus: 24.29884965820223 , 36.02330709503987\n",
      "\t ---------- State is:  (3, 8)\n",
      "[INFO] [2023-03-01 10:31:15,041] [OpenBox-SPO] Iteration 927, objective value: [28.45488317777918].\n"
     ]
    },
    {
     "name": "stderr",
     "output_type": "stream",
     "text": [
      "\r",
      " 93%|██████████████████████████████████████████████████████████████████████▍     | 927/1000 [11:00:58<50:31, 41.53s/it]"
     ]
    },
    {
     "name": "stdout",
     "output_type": "stream",
     "text": [
      "\t ----- reward: -28.45488317777918 for f_star and f_minus: 24.29884965820223 , 28.45488317777918\n",
      "\t ---------- State is:  (2, 7)\n",
      "[INFO] [2023-03-01 10:31:53,900] [OpenBox-SPO] Iteration 928, objective value: [32.97238142568129].\n"
     ]
    },
    {
     "name": "stderr",
     "output_type": "stream",
     "text": [
      "\r",
      " 93%|██████████████████████████████████████████████████████████████████████▌     | 928/1000 [11:01:37<48:52, 40.73s/it]"
     ]
    },
    {
     "name": "stdout",
     "output_type": "stream",
     "text": [
      "\t ----- reward: -32.97238142568129 for f_star and f_minus: 24.29884965820223 , 32.97238142568129\n",
      "\t ---------- State is:  (1, 8)\n",
      "[INFO] [2023-03-01 10:32:36,384] [OpenBox-SPO] Iteration 929, objective value: [30.00908748847627].\n"
     ]
    },
    {
     "name": "stderr",
     "output_type": "stream",
     "text": [
      "\r",
      " 93%|██████████████████████████████████████████████████████████████████████▌     | 929/1000 [11:02:19<48:49, 41.25s/it]"
     ]
    },
    {
     "name": "stdout",
     "output_type": "stream",
     "text": [
      "\t ----- reward: -30.00908748847627 for f_star and f_minus: 24.29884965820223 , 30.00908748847627\n",
      "\t ---------- State is:  (2, 8)\n",
      "[INFO] [2023-03-01 10:33:19,578] [OpenBox-SPO] Iteration 930, objective value: [32.833975741674536].\n"
     ]
    },
    {
     "name": "stderr",
     "output_type": "stream",
     "text": [
      "\r",
      " 93%|██████████████████████████████████████████████████████████████████████▋     | 930/1000 [11:03:03<48:48, 41.84s/it]"
     ]
    },
    {
     "name": "stdout",
     "output_type": "stream",
     "text": [
      "\t ----- reward: -32.833975741674536 for f_star and f_minus: 24.29884965820223 , 32.833975741674536\n",
      "\t ---------- State is:  (3, 8)\n",
      "[INFO] [2023-03-01 10:33:57,961] [OpenBox-SPO] Iteration 931, objective value: [28.298654063670213].\n"
     ]
    },
    {
     "name": "stderr",
     "output_type": "stream",
     "text": [
      "\r",
      " 93%|██████████████████████████████████████████████████████████████████████▊     | 931/1000 [11:03:41<46:55, 40.80s/it]"
     ]
    },
    {
     "name": "stdout",
     "output_type": "stream",
     "text": [
      "\t ----- reward: -28.298654063670213 for f_star and f_minus: 24.29884965820223 , 28.298654063670213\n",
      "\t ---------- State is:  (3, 8)\n",
      "[INFO] [2023-03-01 10:34:37,464] [OpenBox-SPO] Iteration 932, objective value: [26.2557734428498].\n"
     ]
    },
    {
     "name": "stderr",
     "output_type": "stream",
     "text": [
      "\r",
      " 93%|██████████████████████████████████████████████████████████████████████▊     | 932/1000 [11:04:21<45:47, 40.41s/it]"
     ]
    },
    {
     "name": "stdout",
     "output_type": "stream",
     "text": [
      "\t ----- reward: -26.2557734428498 for f_star and f_minus: 24.29884965820223 , 26.2557734428498\n",
      "\t ---------- State is:  (2, 7)\n",
      "[INFO] [2023-03-01 10:35:13,704] [OpenBox-SPO] Iteration 933, objective value: [50.66357065985264].\n"
     ]
    },
    {
     "name": "stderr",
     "output_type": "stream",
     "text": [
      "\r",
      " 93%|██████████████████████████████████████████████████████████████████████▉     | 933/1000 [11:04:57<43:44, 39.16s/it]"
     ]
    },
    {
     "name": "stdout",
     "output_type": "stream",
     "text": [
      "\t ----- reward: -50.66357065985264 for f_star and f_minus: 24.29884965820223 , 50.66357065985264\n",
      "\t ---------- State is:  (2, 8)\n",
      "[INFO] [2023-03-01 10:35:57,900] [OpenBox-SPO] Iteration 934, objective value: [30.101512855558667].\n"
     ]
    },
    {
     "name": "stderr",
     "output_type": "stream",
     "text": [
      "\r",
      " 93%|██████████████████████████████████████████████████████████████████████▉     | 934/1000 [11:05:41<44:44, 40.67s/it]"
     ]
    },
    {
     "name": "stdout",
     "output_type": "stream",
     "text": [
      "\t ----- reward: -30.101512855558667 for f_star and f_minus: 24.29884965820223 , 30.101512855558667\n",
      "\t ---------- State is:  (1, 8)\n",
      "[INFO] [2023-03-01 10:36:39,548] [OpenBox-SPO] Iteration 935, objective value: [29.085452458832606].\n"
     ]
    },
    {
     "name": "stderr",
     "output_type": "stream",
     "text": [
      "\r",
      " 94%|███████████████████████████████████████████████████████████████████████     | 935/1000 [11:06:23<44:22, 40.96s/it]"
     ]
    },
    {
     "name": "stdout",
     "output_type": "stream",
     "text": [
      "\t ----- reward: -29.085452458832606 for f_star and f_minus: 24.29884965820223 , 29.085452458832606\n",
      "\t ---------- State is:  (1, 8)\n",
      "[INFO] [2023-03-01 10:37:20,413] [OpenBox-SPO] Iteration 936, objective value: [45.12135947075174].\n"
     ]
    },
    {
     "name": "stderr",
     "output_type": "stream",
     "text": [
      "\r",
      " 94%|███████████████████████████████████████████████████████████████████████▏    | 936/1000 [11:07:03<43:39, 40.93s/it]"
     ]
    },
    {
     "name": "stdout",
     "output_type": "stream",
     "text": [
      "\t ----- reward: -45.12135947075174 for f_star and f_minus: 24.29884965820223 , 45.12135947075174\n",
      "\t ---------- State is:  (1, 8)\n",
      "[INFO] [2023-03-01 10:38:04,404] [OpenBox-SPO] Iteration 937, objective value: [31.263573142943983].\n"
     ]
    },
    {
     "name": "stderr",
     "output_type": "stream",
     "text": [
      "\r",
      " 94%|███████████████████████████████████████████████████████████████████████▏    | 937/1000 [11:07:47<43:56, 41.85s/it]"
     ]
    },
    {
     "name": "stdout",
     "output_type": "stream",
     "text": [
      "\t ----- reward: -31.263573142943983 for f_star and f_minus: 24.29884965820223 , 31.263573142943983\n",
      "\t ---------- State is:  (2, 7)\n",
      "[INFO] [2023-03-01 10:38:04,404] [Advisor] Sample random config. rand_prob=0.100000.\n",
      "[INFO] [2023-03-01 10:38:37,067] [OpenBox-SPO] Iteration 938, objective value: [56.673025804354104].\n"
     ]
    },
    {
     "name": "stderr",
     "output_type": "stream",
     "text": [
      "\r",
      " 94%|███████████████████████████████████████████████████████████████████████▎    | 938/1000 [11:08:20<40:23, 39.09s/it]"
     ]
    },
    {
     "name": "stdout",
     "output_type": "stream",
     "text": [
      "\t ----- reward: -56.673025804354104 for f_star and f_minus: 24.29884965820223 , 56.673025804354104\n",
      "\t ---------- State is:  (3, 7)\n",
      "[INFO] [2023-03-01 10:39:19,449] [OpenBox-SPO] Iteration 939, objective value: [36.05281222965766].\n"
     ]
    },
    {
     "name": "stderr",
     "output_type": "stream",
     "text": [
      "\r",
      " 94%|███████████████████████████████████████████████████████████████████████▎    | 939/1000 [11:09:03<40:45, 40.09s/it]"
     ]
    },
    {
     "name": "stdout",
     "output_type": "stream",
     "text": [
      "\t ----- reward: -36.05281222965766 for f_star and f_minus: 24.29884965820223 , 36.05281222965766\n",
      "\t ---------- State is:  (3, 8)\n",
      "[INFO] [2023-03-01 10:40:02,142] [OpenBox-SPO] Iteration 940, objective value: [35.06880306242884].\n"
     ]
    },
    {
     "name": "stderr",
     "output_type": "stream",
     "text": [
      "\r",
      " 94%|███████████████████████████████████████████████████████████████████████▍    | 940/1000 [11:09:45<40:51, 40.86s/it]"
     ]
    },
    {
     "name": "stdout",
     "output_type": "stream",
     "text": [
      "\t ----- reward: -35.06880306242884 for f_star and f_minus: 24.29884965820223 , 35.06880306242884\n",
      "\t ---------- State is:  (3, 9)\n",
      "[INFO] [2023-03-01 10:40:46,227] [OpenBox-SPO] Iteration 941, objective value: [29.712527780845946].\n"
     ]
    },
    {
     "name": "stderr",
     "output_type": "stream",
     "text": [
      "\r",
      " 94%|███████████████████████████████████████████████████████████████████████▌    | 941/1000 [11:10:29<41:07, 41.83s/it]"
     ]
    },
    {
     "name": "stdout",
     "output_type": "stream",
     "text": [
      "\t ----- reward: -29.712527780845946 for f_star and f_minus: 24.29884965820223 , 29.712527780845946\n",
      "\t ---------- State is:  (4, 9)\n",
      "[INFO] [2023-03-01 10:41:28,816] [OpenBox-SPO] Iteration 942, objective value: [31.303677741619154].\n"
     ]
    },
    {
     "name": "stderr",
     "output_type": "stream",
     "text": [
      "\r",
      " 94%|███████████████████████████████████████████████████████████████████████▌    | 942/1000 [11:11:12<40:39, 42.06s/it]"
     ]
    },
    {
     "name": "stdout",
     "output_type": "stream",
     "text": [
      "\t ----- reward: -31.303677741619154 for f_star and f_minus: 24.29884965820223 , 31.303677741619154\n",
      "\t ---------- State is:  (4, 8)\n",
      "[INFO] [2023-03-01 10:42:10,604] [OpenBox-SPO] Iteration 943, objective value: [29.90523800231051].\n"
     ]
    },
    {
     "name": "stderr",
     "output_type": "stream",
     "text": [
      "\r",
      " 94%|███████████████████████████████████████████████████████████████████████▋    | 943/1000 [11:11:54<39:52, 41.98s/it]"
     ]
    },
    {
     "name": "stdout",
     "output_type": "stream",
     "text": [
      "\t ----- reward: -29.90523800231051 for f_star and f_minus: 24.29884965820223 , 29.90523800231051\n",
      "\t ---------- State is:  (5, 7)\n",
      "[INFO] [2023-03-01 10:42:10,604] [Advisor] Sample random config. rand_prob=0.100000.\n",
      "[INFO] [2023-03-01 10:42:47,003] [OpenBox-SPO] Iteration 944, objective value: [51.84368183028389].\n"
     ]
    },
    {
     "name": "stderr",
     "output_type": "stream",
     "text": [
      "\r",
      " 94%|███████████████████████████████████████████████████████████████████████▋    | 944/1000 [11:12:30<37:36, 40.30s/it]"
     ]
    },
    {
     "name": "stdout",
     "output_type": "stream",
     "text": [
      "\t ----- reward: -51.84368183028389 for f_star and f_minus: 24.29884965820223 , 51.84368183028389\n",
      "\t ---------- State is:  (6, 7)\n",
      "[INFO] [2023-03-01 10:43:26,617] [OpenBox-SPO] Iteration 945, objective value: [34.428170198118565].\n"
     ]
    },
    {
     "name": "stderr",
     "output_type": "stream",
     "text": [
      "\r",
      " 94%|███████████████████████████████████████████████████████████████████████▊    | 945/1000 [11:13:10<36:45, 40.10s/it]"
     ]
    },
    {
     "name": "stdout",
     "output_type": "stream",
     "text": [
      "\t ----- reward: -34.428170198118565 for f_star and f_minus: 24.29884965820223 , 34.428170198118565\n",
      "\t ---------- State is:  (6, 7)\n",
      "[INFO] [2023-03-01 10:43:26,617] [Advisor] Sample random config. rand_prob=0.100000.\n",
      "[INFO] [2023-03-01 10:44:02,265] [OpenBox-SPO] Iteration 946, objective value: [51.449055800006676].\n"
     ]
    },
    {
     "name": "stderr",
     "output_type": "stream",
     "text": [
      "\r",
      " 95%|███████████████████████████████████████████████████████████████████████▉    | 946/1000 [11:13:45<34:53, 38.76s/it]"
     ]
    },
    {
     "name": "stdout",
     "output_type": "stream",
     "text": [
      "\t ----- reward: -51.449055800006676 for f_star and f_minus: 24.29884965820223 , 51.449055800006676\n",
      "\t ---------- State is:  (5, 7)\n",
      "[INFO] [2023-03-01 10:44:44,421] [OpenBox-SPO] Iteration 947, objective value: [31.982081555144177].\n"
     ]
    },
    {
     "name": "stderr",
     "output_type": "stream",
     "text": [
      "\r",
      " 95%|███████████████████████████████████████████████████████████████████████▉    | 947/1000 [11:14:27<35:08, 39.78s/it]"
     ]
    },
    {
     "name": "stdout",
     "output_type": "stream",
     "text": [
      "\t ----- reward: -31.982081555144177 for f_star and f_minus: 24.29884965820223 , 31.982081555144177\n",
      "\t ---------- State is:  (4, 8)\n",
      "[INFO] [2023-03-01 10:45:24,271] [OpenBox-SPO] Iteration 948, objective value: [32.8281565746267].\n"
     ]
    },
    {
     "name": "stderr",
     "output_type": "stream",
     "text": [
      "\r",
      " 95%|████████████████████████████████████████████████████████████████████████    | 948/1000 [11:15:07<34:29, 39.80s/it]"
     ]
    },
    {
     "name": "stdout",
     "output_type": "stream",
     "text": [
      "\t ----- reward: -32.8281565746267 for f_star and f_minus: 24.29884965820223 , 32.8281565746267\n",
      "\t ---------- State is:  (3, 8)\n",
      "[INFO] [2023-03-01 10:46:04,684] [OpenBox-SPO] Iteration 949, objective value: [36.072208679434404].\n"
     ]
    },
    {
     "name": "stderr",
     "output_type": "stream",
     "text": [
      "\r",
      " 95%|████████████████████████████████████████████████████████████████████████    | 949/1000 [11:15:48<33:59, 39.98s/it]"
     ]
    },
    {
     "name": "stdout",
     "output_type": "stream",
     "text": [
      "\t ----- reward: -36.072208679434404 for f_star and f_minus: 24.29884965820223 , 36.072208679434404\n",
      "\t ---------- State is:  (2, 8)\n",
      "[INFO] [2023-03-01 10:46:40,474] [OpenBox-SPO] Iteration 950, objective value: [37.38965586718167].\n"
     ]
    },
    {
     "name": "stderr",
     "output_type": "stream",
     "text": [
      "\r",
      " 95%|████████████████████████████████████████████████████████████████████████▏   | 950/1000 [11:16:24<32:16, 38.73s/it]"
     ]
    },
    {
     "name": "stdout",
     "output_type": "stream",
     "text": [
      "\t ----- reward: -37.38965586718167 for f_star and f_minus: 24.29884965820223 , 37.38965586718167\n",
      "\t ---------- State is:  (1, 9)\n",
      "[INFO] [2023-03-01 10:46:40,474] [Advisor] Sample random config. rand_prob=0.100000.\n",
      "[INFO] [2023-03-01 10:47:10,734] [OpenBox-SPO] Iteration 951, objective value: [51.78113768300317].\n"
     ]
    },
    {
     "name": "stderr",
     "output_type": "stream",
     "text": [
      "\r",
      " 95%|████████████████████████████████████████████████████████████████████████▎   | 951/1000 [11:16:54<29:33, 36.19s/it]"
     ]
    },
    {
     "name": "stdout",
     "output_type": "stream",
     "text": [
      "\t ----- reward: -51.78113768300317 for f_star and f_minus: 24.29884965820223 , 51.78113768300317\n",
      "\t ---------- State is:  (1, 10)\n",
      "[INFO] [2023-03-01 10:47:52,727] [OpenBox-SPO] Iteration 952, objective value: [36.4293730522132].\n"
     ]
    },
    {
     "name": "stderr",
     "output_type": "stream",
     "text": [
      "\r",
      " 95%|████████████████████████████████████████████████████████████████████████▎   | 952/1000 [11:17:36<30:20, 37.93s/it]"
     ]
    },
    {
     "name": "stdout",
     "output_type": "stream",
     "text": [
      "\t ----- reward: -36.4293730522132 for f_star and f_minus: 24.29884965820223 , 36.4293730522132\n",
      "\t ---------- State is:  (0, 11)\n",
      "[INFO] [2023-03-01 10:48:33,389] [OpenBox-SPO] Iteration 953, objective value: [44.679286998800215].\n"
     ]
    },
    {
     "name": "stderr",
     "output_type": "stream",
     "text": [
      "\r",
      " 95%|████████████████████████████████████████████████████████████████████████▍   | 953/1000 [11:18:16<30:21, 38.75s/it]"
     ]
    },
    {
     "name": "stdout",
     "output_type": "stream",
     "text": [
      "\t ----- reward: -44.679286998800215 for f_star and f_minus: 24.29884965820223 , 44.679286998800215\n",
      "\t ---------- State is:  (0, 11)\n",
      "[INFO] [2023-03-01 10:49:15,100] [OpenBox-SPO] Iteration 954, objective value: [36.304119817782436].\n"
     ]
    },
    {
     "name": "stderr",
     "output_type": "stream",
     "text": [
      "\r",
      " 95%|████████████████████████████████████████████████████████████████████████▌   | 954/1000 [11:18:58<30:23, 39.64s/it]"
     ]
    },
    {
     "name": "stdout",
     "output_type": "stream",
     "text": [
      "\t ----- reward: -36.304119817782436 for f_star and f_minus: 24.29884965820223 , 36.304119817782436\n",
      "\t ---------- State is:  (1, 11)\n",
      "[INFO] [2023-03-01 10:49:54,905] [OpenBox-SPO] Iteration 955, objective value: [33.305308167601794].\n"
     ]
    },
    {
     "name": "stderr",
     "output_type": "stream",
     "text": [
      "\r",
      " 96%|████████████████████████████████████████████████████████████████████████▌   | 955/1000 [11:19:38<29:45, 39.69s/it]"
     ]
    },
    {
     "name": "stdout",
     "output_type": "stream",
     "text": [
      "\t ----- reward: -33.305308167601794 for f_star and f_minus: 24.29884965820223 , 33.305308167601794\n",
      "\t ---------- State is:  (0, 11)\n",
      "[INFO] [2023-03-01 10:50:35,106] [OpenBox-SPO] Iteration 956, objective value: [29.76380550670676].\n"
     ]
    },
    {
     "name": "stderr",
     "output_type": "stream",
     "text": [
      "\r",
      " 96%|████████████████████████████████████████████████████████████████████████▋   | 956/1000 [11:20:18<29:13, 39.84s/it]"
     ]
    },
    {
     "name": "stdout",
     "output_type": "stream",
     "text": [
      "\t ----- reward: -29.76380550670676 for f_star and f_minus: 24.29884965820223 , 29.76380550670676\n",
      "\t ---------- State is:  (0, 11)\n",
      "[INFO] [2023-03-01 10:51:16,424] [OpenBox-SPO] Iteration 957, objective value: [27.957391614222445].\n"
     ]
    },
    {
     "name": "stderr",
     "output_type": "stream",
     "text": [
      "\r",
      " 96%|████████████████████████████████████████████████████████████████████████▋   | 957/1000 [11:20:59<28:52, 40.28s/it]"
     ]
    },
    {
     "name": "stdout",
     "output_type": "stream",
     "text": [
      "\t ----- reward: -27.957391614222445 for f_star and f_minus: 24.29884965820223 , 27.957391614222445\n",
      "\t ---------- State is:  (0, 11)\n",
      "[INFO] [2023-03-01 10:51:55,715] [OpenBox-SPO] Iteration 958, objective value: [26.85101827295314].\n"
     ]
    },
    {
     "name": "stderr",
     "output_type": "stream",
     "text": [
      "\r",
      " 96%|████████████████████████████████████████████████████████████████████████▊   | 958/1000 [11:21:39<27:59, 39.99s/it]"
     ]
    },
    {
     "name": "stdout",
     "output_type": "stream",
     "text": [
      "\t ----- reward: -26.85101827295314 for f_star and f_minus: 24.29884965820223 , 26.85101827295314\n",
      "\t ---------- State is:  (1, 10)\n",
      "[INFO] [2023-03-01 10:52:35,784] [OpenBox-SPO] Iteration 959, objective value: [29.76621460158151].\n"
     ]
    },
    {
     "name": "stderr",
     "output_type": "stream",
     "text": [
      "\r",
      " 96%|████████████████████████████████████████████████████████████████████████▉   | 959/1000 [11:22:19<27:20, 40.01s/it]"
     ]
    },
    {
     "name": "stdout",
     "output_type": "stream",
     "text": [
      "\t ----- reward: -29.76621460158151 for f_star and f_minus: 24.29884965820223 , 29.76621460158151\n",
      "\t ---------- State is:  (2, 9)\n",
      "[INFO] [2023-03-01 10:53:13,143] [OpenBox-SPO] Iteration 960, objective value: [28.43650948792073].\n"
     ]
    },
    {
     "name": "stderr",
     "output_type": "stream",
     "text": [
      "\r",
      " 96%|████████████████████████████████████████████████████████████████████████▉   | 960/1000 [11:22:56<26:08, 39.22s/it]"
     ]
    },
    {
     "name": "stdout",
     "output_type": "stream",
     "text": [
      "\t ----- reward: -28.43650948792073 for f_star and f_minus: 24.29884965820223 , 28.43650948792073\n",
      "\t ---------- State is:  (3, 8)\n",
      "[INFO] [2023-03-01 10:53:52,761] [OpenBox-SPO] Iteration 961, objective value: [25.62848803846093].\n"
     ]
    },
    {
     "name": "stderr",
     "output_type": "stream",
     "text": [
      "\r",
      " 96%|█████████████████████████████████████████████████████████████████████████   | 961/1000 [11:23:36<25:34, 39.34s/it]"
     ]
    },
    {
     "name": "stdout",
     "output_type": "stream",
     "text": [
      "\t ----- reward: -25.62848803846093 for f_star and f_minus: 24.29884965820223 , 25.62848803846093\n",
      "\t ---------- State is:  (4, 8)\n",
      "[INFO] [2023-03-01 10:54:29,648] [OpenBox-SPO] Iteration 962, objective value: [30.799109734520428].\n"
     ]
    },
    {
     "name": "stderr",
     "output_type": "stream",
     "text": [
      "\r",
      " 96%|█████████████████████████████████████████████████████████████████████████   | 962/1000 [11:24:13<24:26, 38.60s/it]"
     ]
    },
    {
     "name": "stdout",
     "output_type": "stream",
     "text": [
      "\t ----- reward: -30.799109734520428 for f_star and f_minus: 24.29884965820223 , 30.799109734520428\n",
      "\t ---------- State is:  (4, 8)\n",
      "[INFO] [2023-03-01 10:55:08,311] [OpenBox-SPO] Iteration 963, objective value: [28.77506952863223].\n"
     ]
    },
    {
     "name": "stderr",
     "output_type": "stream",
     "text": [
      "\r",
      " 96%|█████████████████████████████████████████████████████████████████████████▏  | 963/1000 [11:24:51<23:48, 38.62s/it]"
     ]
    },
    {
     "name": "stdout",
     "output_type": "stream",
     "text": [
      "\t ----- reward: -28.77506952863223 for f_star and f_minus: 24.29884965820223 , 28.77506952863223\n",
      "\t ---------- State is:  (5, 8)\n",
      "[INFO] [2023-03-01 10:55:48,038] [OpenBox-SPO] Iteration 964, objective value: [29.018696284356096].\n"
     ]
    },
    {
     "name": "stderr",
     "output_type": "stream",
     "text": [
      "\r",
      " 96%|█████████████████████████████████████████████████████████████████████████▎  | 964/1000 [11:25:31<23:22, 38.95s/it]"
     ]
    },
    {
     "name": "stdout",
     "output_type": "stream",
     "text": [
      "\t ----- reward: -29.018696284356096 for f_star and f_minus: 24.29884965820223 , 29.018696284356096\n",
      "\t ---------- State is:  (6, 8)\n",
      "[INFO] [2023-03-01 10:56:33,812] [OpenBox-SPO] Iteration 965, objective value: [28.757703098721237].\n"
     ]
    },
    {
     "name": "stderr",
     "output_type": "stream",
     "text": [
      "\r",
      " 96%|█████████████████████████████████████████████████████████████████████████▎  | 965/1000 [11:26:17<23:54, 41.00s/it]"
     ]
    },
    {
     "name": "stdout",
     "output_type": "stream",
     "text": [
      "\t ----- reward: -28.757703098721237 for f_star and f_minus: 24.29884965820223 , 28.757703098721237\n",
      "\t ---------- State is:  (6, 7)\n",
      "[INFO] [2023-03-01 10:57:13,601] [OpenBox-SPO] Iteration 966, objective value: [29.498300785928038].\n"
     ]
    },
    {
     "name": "stderr",
     "output_type": "stream",
     "text": [
      "\r",
      " 97%|█████████████████████████████████████████████████████████████████████████▍  | 966/1000 [11:26:57<23:01, 40.64s/it]"
     ]
    },
    {
     "name": "stdout",
     "output_type": "stream",
     "text": [
      "\t ----- reward: -29.498300785928038 for f_star and f_minus: 24.29884965820223 , 29.498300785928038\n",
      "\t ---------- State is:  (7, 5)\n",
      "[INFO] [2023-03-01 10:57:13,601] [Advisor] Sample random config. rand_prob=0.100000.\n",
      "[INFO] [2023-03-01 10:57:47,983] [OpenBox-SPO] Iteration 967, objective value: [61.120233798413395].\n"
     ]
    },
    {
     "name": "stderr",
     "output_type": "stream",
     "text": [
      "\r",
      " 97%|█████████████████████████████████████████████████████████████████████████▍  | 967/1000 [11:27:31<21:19, 38.76s/it]"
     ]
    },
    {
     "name": "stdout",
     "output_type": "stream",
     "text": [
      "\t ----- reward: -61.120233798413395 for f_star and f_minus: 24.29884965820223 , 61.120233798413395\n",
      "\t ---------- State is:  (8, 5)\n",
      "[INFO] [2023-03-01 10:57:47,999] [Advisor] Sample random config. rand_prob=0.100000.\n",
      "[INFO] [2023-03-01 10:58:26,600] [OpenBox-SPO] Iteration 968, objective value: [60.296344161114476].\n"
     ]
    },
    {
     "name": "stderr",
     "output_type": "stream",
     "text": [
      "\r",
      " 97%|█████████████████████████████████████████████████████████████████████████▌  | 968/1000 [11:28:10<20:38, 38.72s/it]"
     ]
    },
    {
     "name": "stdout",
     "output_type": "stream",
     "text": [
      "\t ----- reward: -60.296344161114476 for f_star and f_minus: 24.29884965820223 , 60.296344161114476\n",
      "\t ---------- State is:  (8, 5)\n",
      "[INFO] [2023-03-01 10:59:09,444] [OpenBox-SPO] Iteration 969, objective value: [35.7112384974816].\n"
     ]
    },
    {
     "name": "stderr",
     "output_type": "stream",
     "text": [
      "\r",
      " 97%|█████████████████████████████████████████████████████████████████████████▋  | 969/1000 [11:28:53<20:38, 39.95s/it]"
     ]
    },
    {
     "name": "stdout",
     "output_type": "stream",
     "text": [
      "\t ----- reward: -35.7112384974816 for f_star and f_minus: 24.29884965820223 , 35.7112384974816\n",
      "\t ---------- State is:  (7, 5)\n",
      "[INFO] [2023-03-01 10:59:54,643] [OpenBox-SPO] Iteration 970, objective value: [35.900940924762594].\n"
     ]
    },
    {
     "name": "stderr",
     "output_type": "stream",
     "text": [
      "\r",
      " 97%|█████████████████████████████████████████████████████████████████████████▋  | 970/1000 [11:29:38<20:45, 41.53s/it]"
     ]
    },
    {
     "name": "stdout",
     "output_type": "stream",
     "text": [
      "\t ----- reward: -35.900940924762594 for f_star and f_minus: 24.29884965820223 , 35.900940924762594\n",
      "\t ---------- State is:  (7, 5)\n",
      "[INFO] [2023-03-01 11:00:34,425] [OpenBox-SPO] Iteration 971, objective value: [28.860589295364363].\n"
     ]
    },
    {
     "name": "stderr",
     "output_type": "stream",
     "text": [
      "\r",
      " 97%|█████████████████████████████████████████████████████████████████████████▊  | 971/1000 [11:30:17<19:49, 41.00s/it]"
     ]
    },
    {
     "name": "stdout",
     "output_type": "stream",
     "text": [
      "\t ----- reward: -28.860589295364363 for f_star and f_minus: 24.29884965820223 , 28.860589295364363\n",
      "\t ---------- State is:  (6, 5)\n",
      "[INFO] [2023-03-01 11:01:14,013] [OpenBox-SPO] Iteration 972, objective value: [32.41325973183746].\n"
     ]
    },
    {
     "name": "stderr",
     "output_type": "stream",
     "text": [
      "\r",
      " 97%|█████████████████████████████████████████████████████████████████████████▊  | 972/1000 [11:30:57<18:56, 40.58s/it]"
     ]
    },
    {
     "name": "stdout",
     "output_type": "stream",
     "text": [
      "\t ----- reward: -32.41325973183746 for f_star and f_minus: 24.29884965820223 , 32.41325973183746\n",
      "\t ---------- State is:  (6, 5)\n",
      "[INFO] [2023-03-01 11:01:58,157] [OpenBox-SPO] Iteration 973, objective value: [31.110735400476784].\n"
     ]
    },
    {
     "name": "stderr",
     "output_type": "stream",
     "text": [
      "\r",
      " 97%|█████████████████████████████████████████████████████████████████████████▉  | 973/1000 [11:31:41<18:44, 41.65s/it]"
     ]
    },
    {
     "name": "stdout",
     "output_type": "stream",
     "text": [
      "\t ----- reward: -31.110735400476784 for f_star and f_minus: 24.29884965820223 , 31.110735400476784\n",
      "\t ---------- State is:  (7, 5)\n",
      "[INFO] [2023-03-01 11:02:38,610] [OpenBox-SPO] Iteration 974, objective value: [29.976201968408816].\n"
     ]
    },
    {
     "name": "stderr",
     "output_type": "stream",
     "text": [
      "\r",
      " 97%|██████████████████████████████████████████████████████████████████████████  | 974/1000 [11:32:22<17:53, 41.29s/it]"
     ]
    },
    {
     "name": "stdout",
     "output_type": "stream",
     "text": [
      "\t ----- reward: -29.976201968408816 for f_star and f_minus: 24.29884965820223 , 29.976201968408816\n",
      "\t ---------- State is:  (6, 5)\n",
      "[INFO] [2023-03-01 11:02:38,610] [Advisor] Sample random config. rand_prob=0.100000.\n",
      "[INFO] [2023-03-01 11:03:04,612] [OpenBox-SPO] Iteration 975, objective value: [51.77182912504154].\n"
     ]
    },
    {
     "name": "stderr",
     "output_type": "stream",
     "text": [
      "\r",
      " 98%|██████████████████████████████████████████████████████████████████████████  | 975/1000 [11:32:48<15:17, 36.70s/it]"
     ]
    },
    {
     "name": "stdout",
     "output_type": "stream",
     "text": [
      "\t ----- reward: -51.77182912504154 for f_star and f_minus: 24.29884965820223 , 51.77182912504154\n",
      "\t ---------- State is:  (6, 5)\n",
      "[INFO] [2023-03-01 11:03:45,168] [OpenBox-SPO] Iteration 976, objective value: [34.31718207732753].\n"
     ]
    },
    {
     "name": "stderr",
     "output_type": "stream",
     "text": [
      "\r",
      " 98%|██████████████████████████████████████████████████████████████████████████▏ | 976/1000 [11:33:28<15:08, 37.86s/it]"
     ]
    },
    {
     "name": "stdout",
     "output_type": "stream",
     "text": [
      "\t ----- reward: -34.31718207732753 for f_star and f_minus: 24.29884965820223 , 34.31718207732753\n",
      "\t ---------- State is:  (5, 5)\n",
      "[INFO] [2023-03-01 11:04:24,989] [OpenBox-SPO] Iteration 977, objective value: [28.581673124548217].\n"
     ]
    },
    {
     "name": "stderr",
     "output_type": "stream",
     "text": [
      "\r",
      " 98%|██████████████████████████████████████████████████████████████████████████▎ | 977/1000 [11:34:08<14:44, 38.45s/it]"
     ]
    },
    {
     "name": "stdout",
     "output_type": "stream",
     "text": [
      "\t ----- reward: -28.581673124548217 for f_star and f_minus: 24.29884965820223 , 28.581673124548217\n",
      "\t ---------- State is:  (5, 5)\n",
      "[INFO] [2023-03-01 11:05:10,184] [OpenBox-SPO] Iteration 978, objective value: [28.01324325223024].\n"
     ]
    },
    {
     "name": "stderr",
     "output_type": "stream",
     "text": [
      "\r",
      " 98%|██████████████████████████████████████████████████████████████████████████▎ | 978/1000 [11:34:53<14:50, 40.47s/it]"
     ]
    },
    {
     "name": "stdout",
     "output_type": "stream",
     "text": [
      "\t ----- reward: -28.01324325223024 for f_star and f_minus: 24.29884965820223 , 28.01324325223024\n",
      "\t ---------- State is:  (6, 5)\n",
      "[INFO] [2023-03-01 11:05:49,864] [OpenBox-SPO] Iteration 979, objective value: [31.437664020238245].\n"
     ]
    },
    {
     "name": "stderr",
     "output_type": "stream",
     "text": [
      "\r",
      " 98%|██████████████████████████████████████████████████████████████████████████▍ | 979/1000 [11:35:33<14:04, 40.23s/it]"
     ]
    },
    {
     "name": "stdout",
     "output_type": "stream",
     "text": [
      "\t ----- reward: -31.437664020238245 for f_star and f_minus: 24.29884965820223 , 31.437664020238245\n",
      "\t ---------- State is:  (7, 6)\n",
      "[INFO] [2023-03-01 11:06:32,650] [OpenBox-SPO] Iteration 980, objective value: [28.599790877035872].\n"
     ]
    },
    {
     "name": "stderr",
     "output_type": "stream",
     "text": [
      "\r",
      " 98%|██████████████████████████████████████████████████████████████████████████▍ | 980/1000 [11:36:16<13:40, 41.00s/it]"
     ]
    },
    {
     "name": "stdout",
     "output_type": "stream",
     "text": [
      "\t ----- reward: -28.599790877035872 for f_star and f_minus: 24.29884965820223 , 28.599790877035872\n",
      "\t ---------- State is:  (6, 6)\n",
      "[INFO] [2023-03-01 11:07:14,689] [OpenBox-SPO] Iteration 981, objective value: [29.615095833146626].\n"
     ]
    },
    {
     "name": "stderr",
     "output_type": "stream",
     "text": [
      "\r",
      " 98%|██████████████████████████████████████████████████████████████████████████▌ | 981/1000 [11:36:58<13:04, 41.31s/it]"
     ]
    },
    {
     "name": "stdout",
     "output_type": "stream",
     "text": [
      "\t ----- reward: -29.615095833146626 for f_star and f_minus: 24.29884965820223 , 29.615095833146626\n",
      "\t ---------- State is:  (6, 6)\n",
      "[INFO] [2023-03-01 11:07:56,193] [OpenBox-SPO] Iteration 982, objective value: [29.382982687471582].\n"
     ]
    },
    {
     "name": "stderr",
     "output_type": "stream",
     "text": [
      "\r",
      " 98%|██████████████████████████████████████████████████████████████████████████▋ | 982/1000 [11:37:39<12:24, 41.37s/it]"
     ]
    },
    {
     "name": "stdout",
     "output_type": "stream",
     "text": [
      "\t ----- reward: -29.382982687471582 for f_star and f_minus: 24.29884965820223 , 29.382982687471582\n",
      "\t ---------- State is:  (5, 5)\n",
      "[INFO] [2023-03-01 11:08:38,367] [OpenBox-SPO] Iteration 983, objective value: [26.906961465551788].\n"
     ]
    },
    {
     "name": "stderr",
     "output_type": "stream",
     "text": [
      "\r",
      " 98%|██████████████████████████████████████████████████████████████████████████▋ | 983/1000 [11:38:21<11:47, 41.61s/it]"
     ]
    },
    {
     "name": "stdout",
     "output_type": "stream",
     "text": [
      "\t ----- reward: -26.906961465551788 for f_star and f_minus: 24.29884965820223 , 26.906961465551788\n",
      "\t ---------- State is:  (4, 5)\n",
      "[INFO] [2023-03-01 11:08:38,367] [Advisor] Sample random config. rand_prob=0.100000.\n",
      "[INFO] [2023-03-01 11:09:10,933] [OpenBox-SPO] Iteration 984, objective value: [52.76268864424676].\n"
     ]
    },
    {
     "name": "stderr",
     "output_type": "stream",
     "text": [
      "\r",
      " 98%|██████████████████████████████████████████████████████████████████████████▊ | 984/1000 [11:38:54<10:22, 38.90s/it]"
     ]
    },
    {
     "name": "stdout",
     "output_type": "stream",
     "text": [
      "\t ----- reward: -52.76268864424676 for f_star and f_minus: 24.29884965820223 , 52.76268864424676\n",
      "\t ---------- State is:  (5, 6)\n",
      "[INFO] [2023-03-01 11:09:51,514] [OpenBox-SPO] Iteration 985, objective value: [31.954435444184938].\n"
     ]
    },
    {
     "name": "stderr",
     "output_type": "stream",
     "text": [
      "\r",
      " 98%|██████████████████████████████████████████████████████████████████████████▊ | 985/1000 [11:39:35<09:51, 39.40s/it]"
     ]
    },
    {
     "name": "stdout",
     "output_type": "stream",
     "text": [
      "\t ----- reward: -31.954435444184938 for f_star and f_minus: 24.29884965820223 , 31.954435444184938\n",
      "\t ---------- State is:  (6, 6)\n",
      "[INFO] [2023-03-01 11:10:39,338] [OpenBox-SPO] Iteration 986, objective value: [38.478603858485705].\n"
     ]
    },
    {
     "name": "stderr",
     "output_type": "stream",
     "text": [
      "\r",
      " 99%|██████████████████████████████████████████████████████████████████████████▉ | 986/1000 [11:40:22<09:47, 41.93s/it]"
     ]
    },
    {
     "name": "stdout",
     "output_type": "stream",
     "text": [
      "\t ----- reward: -38.478603858485705 for f_star and f_minus: 24.29884965820223 , 38.478603858485705\n",
      "\t ---------- State is:  (7, 7)\n",
      "[INFO] [2023-03-01 11:11:20,158] [OpenBox-SPO] Iteration 987, objective value: [34.859782354787654].\n"
     ]
    },
    {
     "name": "stderr",
     "output_type": "stream",
     "text": [
      "\r",
      " 99%|███████████████████████████████████████████████████████████████████████████ | 987/1000 [11:41:03<09:00, 41.60s/it]"
     ]
    },
    {
     "name": "stdout",
     "output_type": "stream",
     "text": [
      "\t ----- reward: -34.859782354787654 for f_star and f_minus: 24.29884965820223 , 34.859782354787654\n",
      "\t ---------- State is:  (6, 7)\n",
      "[INFO] [2023-03-01 11:12:02,758] [OpenBox-SPO] Iteration 988, objective value: [29.511468951192583].\n"
     ]
    },
    {
     "name": "stderr",
     "output_type": "stream",
     "text": [
      "\r",
      " 99%|███████████████████████████████████████████████████████████████████████████ | 988/1000 [11:41:46<08:22, 41.90s/it]"
     ]
    },
    {
     "name": "stdout",
     "output_type": "stream",
     "text": [
      "\t ----- reward: -29.511468951192583 for f_star and f_minus: 24.29884965820223 , 29.511468951192583\n",
      "\t ---------- State is:  (6, 6)\n",
      "[INFO] [2023-03-01 11:12:42,453] [OpenBox-SPO] Iteration 989, objective value: [32.62680464478758].\n"
     ]
    },
    {
     "name": "stderr",
     "output_type": "stream",
     "text": [
      "\r",
      " 99%|███████████████████████████████████████████████████████████████████████████▏| 989/1000 [11:42:26<07:33, 41.24s/it]"
     ]
    },
    {
     "name": "stdout",
     "output_type": "stream",
     "text": [
      "\t ----- reward: -32.62680464478758 for f_star and f_minus: 24.29884965820223 , 32.62680464478758\n",
      "\t ---------- State is:  (6, 6)\n",
      "[INFO] [2023-03-01 11:13:29,148] [OpenBox-SPO] Iteration 990, objective value: [38.793258654640184].\n"
     ]
    },
    {
     "name": "stderr",
     "output_type": "stream",
     "text": [
      "\r",
      " 99%|███████████████████████████████████████████████████████████████████████████▏| 990/1000 [11:43:12<07:08, 42.87s/it]"
     ]
    },
    {
     "name": "stdout",
     "output_type": "stream",
     "text": [
      "\t ----- reward: -38.793258654640184 for f_star and f_minus: 24.29884965820223 , 38.793258654640184\n",
      "\t ---------- State is:  (5, 6)\n",
      "[INFO] [2023-03-01 11:14:09,702] [OpenBox-SPO] Iteration 991, objective value: [34.7252559261394].\n"
     ]
    },
    {
     "name": "stderr",
     "output_type": "stream",
     "text": [
      "\r",
      " 99%|███████████████████████████████████████████████████████████████████████████▎| 991/1000 [11:43:53<06:19, 42.18s/it]"
     ]
    },
    {
     "name": "stdout",
     "output_type": "stream",
     "text": [
      "\t ----- reward: -34.7252559261394 for f_star and f_minus: 24.29884965820223 , 34.7252559261394\n",
      "\t ---------- State is:  (4, 7)\n",
      "[INFO] [2023-03-01 11:14:50,506] [OpenBox-SPO] Iteration 992, objective value: [27.386728667934946].\n"
     ]
    },
    {
     "name": "stderr",
     "output_type": "stream",
     "text": [
      "\r",
      " 99%|███████████████████████████████████████████████████████████████████████████▍| 992/1000 [11:44:34<05:34, 41.77s/it]"
     ]
    },
    {
     "name": "stdout",
     "output_type": "stream",
     "text": [
      "\t ----- reward: -27.386728667934946 for f_star and f_minus: 24.29884965820223 , 27.386728667934946\n",
      "\t ---------- State is:  (5, 6)\n",
      "[INFO] [2023-03-01 11:15:31,966] [OpenBox-SPO] Iteration 993, objective value: [29.547780838107656].\n"
     ]
    },
    {
     "name": "stderr",
     "output_type": "stream",
     "text": [
      "\r",
      " 99%|███████████████████████████████████████████████████████████████████████████▍| 993/1000 [11:45:15<04:51, 41.67s/it]"
     ]
    },
    {
     "name": "stdout",
     "output_type": "stream",
     "text": [
      "\t ----- reward: -29.547780838107656 for f_star and f_minus: 24.29884965820223 , 29.547780838107656\n",
      "\t ---------- State is:  (5, 6)\n",
      "[INFO] [2023-03-01 11:16:13,567] [OpenBox-SPO] Iteration 994, objective value: [29.653824839490426].\n"
     ]
    },
    {
     "name": "stderr",
     "output_type": "stream",
     "text": [
      "\r",
      " 99%|███████████████████████████████████████████████████████████████████████████▌| 994/1000 [11:45:57<04:09, 41.65s/it]"
     ]
    },
    {
     "name": "stdout",
     "output_type": "stream",
     "text": [
      "\t ----- reward: -29.653824839490426 for f_star and f_minus: 24.29884965820223 , 29.653824839490426\n",
      "\t ---------- State is:  (5, 6)\n",
      "[INFO] [2023-03-01 11:17:07,353] [OpenBox-SPO] Iteration 995, objective value: [38.466158816903516].\n"
     ]
    },
    {
     "name": "stderr",
     "output_type": "stream",
     "text": [
      "\r",
      "100%|███████████████████████████████████████████████████████████████████████████▌| 995/1000 [11:46:50<03:46, 45.29s/it]"
     ]
    },
    {
     "name": "stdout",
     "output_type": "stream",
     "text": [
      "\t ----- reward: -38.466158816903516 for f_star and f_minus: 24.29884965820223 , 38.466158816903516\n",
      "\t ---------- State is:  (6, 6)\n",
      "[INFO] [2023-03-01 11:17:07,353] [Advisor] Sample random config. rand_prob=0.100000.\n",
      "[INFO] [2023-03-01 11:17:42,377] [OpenBox-SPO] Iteration 996, objective value: [58.46224934182863].\n"
     ]
    },
    {
     "name": "stderr",
     "output_type": "stream",
     "text": [
      "\r",
      "100%|███████████████████████████████████████████████████████████████████████████▋| 996/1000 [11:47:25<02:48, 42.21s/it]"
     ]
    },
    {
     "name": "stdout",
     "output_type": "stream",
     "text": [
      "\t ----- reward: -58.46224934182863 for f_star and f_minus: 24.29884965820223 , 58.46224934182863\n",
      "\t ---------- State is:  (6, 6)\n",
      "[INFO] [2023-03-01 11:18:24,524] [OpenBox-SPO] Iteration 997, objective value: [38.62170790762036].\n"
     ]
    },
    {
     "name": "stderr",
     "output_type": "stream",
     "text": [
      "\r",
      "100%|███████████████████████████████████████████████████████████████████████████▊| 997/1000 [11:48:08<02:06, 42.19s/it]"
     ]
    },
    {
     "name": "stdout",
     "output_type": "stream",
     "text": [
      "\t ----- reward: -38.62170790762036 for f_star and f_minus: 24.29884965820223 , 38.62170790762036\n",
      "\t ---------- State is:  (7, 7)\n",
      "[INFO] [2023-03-01 11:19:04,653] [OpenBox-SPO] Iteration 998, objective value: [28.412011461854007].\n"
     ]
    },
    {
     "name": "stderr",
     "output_type": "stream",
     "text": [
      "\r",
      "100%|███████████████████████████████████████████████████████████████████████████▊| 998/1000 [11:48:48<01:23, 41.57s/it]"
     ]
    },
    {
     "name": "stdout",
     "output_type": "stream",
     "text": [
      "\t ----- reward: -28.412011461854007 for f_star and f_minus: 24.29884965820223 , 28.412011461854007\n",
      "\t ---------- State is:  (7, 7)\n",
      "[INFO] [2023-03-01 11:19:42,536] [OpenBox-SPO] Iteration 999, objective value: [30.193780734376773].\n"
     ]
    },
    {
     "name": "stderr",
     "output_type": "stream",
     "text": [
      "\r",
      "100%|███████████████████████████████████████████████████████████████████████████▉| 999/1000 [11:49:26<00:40, 40.47s/it]"
     ]
    },
    {
     "name": "stdout",
     "output_type": "stream",
     "text": [
      "\t ----- reward: -30.193780734376773 for f_star and f_minus: 24.29884965820223 , 30.193780734376773\n",
      "\t ---------- State is:  (8, 6)\n",
      "[INFO] [2023-03-01 11:20:23,151] [OpenBox-SPO] Iteration 1000, objective value: [33.50813053552983].\n"
     ]
    },
    {
     "name": "stderr",
     "output_type": "stream",
     "text": [
      "100%|███████████████████████████████████████████████████████████████████████████| 1000/1000 [11:50:06<00:00, 42.61s/it]"
     ]
    },
    {
     "name": "stdout",
     "output_type": "stream",
     "text": [
      "\t ----- reward: -33.50813053552983 for f_star and f_minus: 24.29884965820223 , 33.50813053552983\n",
      "\t ---------- State is:  (7, 7)\n",
      "+---------------------------------------------+\n",
      "| Parameters              | Optimal Value     |\n",
      "+-------------------------+-------------------+\n",
      "| ls1                     | [7, 6]            |\n",
      "| ls2                     | [7, 4]            |\n",
      "| ls3                     | [7, 7]            |\n",
      "| ls4                     | [5, 3]            |\n",
      "| ls5                     | [7, 5]            |\n",
      "| ls6                     | [1, 7]            |\n",
      "| ls7                     | [7, 3]            |\n",
      "| ls8                     | [3, 2]            |\n",
      "| ls9                     | [1, 6]            |\n",
      "| ls_t1                   | 1                 |\n",
      "| ls_t2                   | 1                 |\n",
      "| ls_t3                   | 1                 |\n",
      "| ls_t4                   | 1                 |\n",
      "| ls_t5                   | 1                 |\n",
      "| ls_t6                   | 1                 |\n",
      "| ls_t7                   | 1                 |\n",
      "| ls_t8                   | 1                 |\n",
      "| ls_t9                   | 1                 |\n",
      "+-------------------------+-------------------+\n",
      "| Optimal Objective Value | 24.29884965820223 |\n",
      "+-------------------------+-------------------+\n",
      "| Num Configs             | 1000              |\n",
      "+-------------------------+-------------------+\n",
      "\n"
     ]
    },
    {
     "name": "stderr",
     "output_type": "stream",
     "text": [
      "\n"
     ]
    }
   ],
   "source": [
    "import SensorOptimizers.BayesianOptimization as bo\n",
    "import numpy as np\n",
    "import pickle\n",
    "import Config as cf\n",
    "\n",
    "maxSensorNum = int(np.min([(cf.space[2][0] / cf.epsilon) * (cf.space[2][1] / cf.epsilon), cf.LSsensorsNum]))\n",
    "\n",
    "print('----- Running BO with: \\n \\t - epsilon: ', cf.epsilon, \n",
    "      '\\n \\t - LS sensors #:', cf.LSsensorsNum, \n",
    "      '\\n \\t - IS sensors #:', cf.ISsensorsNum, \n",
    "      '\\n \\t - initial state: ', cf.initial_state,\n",
    "      '\\n \\t - sensor types: ', cf.sensor_types)\n",
    "\n",
    "for i in range(0, 1):\n",
    "    BO = bo.BayesianOptimization(testbed = cf.testbed,\n",
    "                                 iteration = cf.bo_iteration, \n",
    "                                 epsilon = cf.epsilon, \n",
    "                                 error = cf.error,\n",
    "                                 ROS = True, \n",
    "                                 LSmaxSensorNum = maxSensorNum,\n",
    "                                 ISmaxSensorNum = cf.ISsensorsNum, \n",
    "                                 initial_state = cf.initial_state,\n",
    "                                 input_sensor_types = cf.sensor_types,\n",
    "                                 acquisition_function = cf.acquisition_function,\n",
    "                                 surrogate_model = cf.surrogate_model,\n",
    "                                 acq_optimizer_type = cf.acq_optimizer_type)\n",
    "\n",
    "    history, states, actions, rewards = BO.run(RLBO = cf.RLBO)\n",
    "\n",
    "    with open('Results_BO/history(LS' + str(cf.LSsensorsNum) +  'IS' + str(cf.ISsensorsNum) + ')_' + str(i), 'wb') as handle:\n",
    "        pickle.dump(history, handle, protocol=pickle.HIGHEST_PROTOCOL)\n",
    "            \n",
    "    print(history)"
   ]
  },
  {
   "cell_type": "code",
   "execution_count": 4,
   "metadata": {},
   "outputs": [
    {
     "data": {
      "text/plain": [
       "[<matplotlib.lines.Line2D at 0x1e1a0ce84f0>]"
      ]
     },
     "execution_count": 4,
     "metadata": {},
     "output_type": "execute_result"
    },
    {
     "data": {
      "image/png": "[encoded data removed]",
      "text/plain": [
       "<Figure size 432x288 with 1 Axes>"
      ]
     },
     "metadata": {
      "needs_background": "light"
     },
     "output_type": "display_data"
    }
   ],
   "source": [
    "import matplotlib.pylab as plt\n",
    "\n",
    "plt.plot(rewards)"
   ]
  },
  {
   "cell_type": "code",
   "execution_count": 5,
   "metadata": {},
   "outputs": [
    {
     "data": {
      "text/plain": [
       "<AxesSubplot:title={'center':'Convergence plot'}, xlabel='Number of iterations $n$', ylabel='Min objective value after $n$ iterations'>"
      ]
     },
     "execution_count": 5,
     "metadata": {},
     "output_type": "execute_result"
    },
    {
     "data": {
      "image/png": "[encoded data removed]",
      "text/plain": [
       "<Figure size 432x288 with 1 Axes>"
      ]
     },
     "metadata": {
      "needs_background": "light"
     },
     "output_type": "display_data"
    }
   ],
   "source": [
    "history.plot_convergence()"
   ]
  },
  {
   "cell_type": "code",
   "execution_count": 6,
   "metadata": {},
   "outputs": [
    {
     "data": {
      "text/plain": [
       "[<matplotlib.lines.Line2D at 0x1e223dc8c10>]"
      ]
     },
     "execution_count": 6,
     "metadata": {},
     "output_type": "execute_result"
    },
    {
     "data": {
      "image/png": "[encoded data removed]",
      "text/plain": [
       "<Figure size 432x288 with 1 Axes>"
      ]
     },
     "metadata": {
      "needs_background": "light"
     },
     "output_type": "display_data"
    }
   ],
   "source": [
    "plt.plot([s[1] for s in states[10:len(states)]])"
   ]
  },
  {
   "cell_type": "code",
   "execution_count": 7,
   "metadata": {},
   "outputs": [
    {
     "data": {
      "text/plain": [
       "[<matplotlib.lines.Line2D at 0x1e19e2e6610>]"
      ]
     },
     "execution_count": 7,
     "metadata": {},
     "output_type": "execute_result"
    },
    {
     "data": {
      "image/png": "[encoded data removed]",
      "text/plain": [
       "<Figure size 432x288 with 1 Axes>"
      ]
     },
     "metadata": {
      "needs_background": "light"
     },
     "output_type": "display_data"
    }
   ],
   "source": [
    "plt.plot([s[0] for s in states])"
   ]
  },
  {
   "cell_type": "code",
   "execution_count": 8,
   "metadata": {},
   "outputs": [
    {
     "data": {
      "text/plain": [
       "[<matplotlib.lines.Line2D at 0x1e224954cd0>]"
      ]
     },
     "execution_count": 8,
     "metadata": {},
     "output_type": "execute_result"
    },
    {
     "data": {
      "image/png": "[encoded data removed]",
      "text/plain": [
       "<Figure size 432x288 with 1 Axes>"
      ]
     },
     "metadata": {
      "needs_background": "light"
     },
     "output_type": "display_data"
    }
   ],
   "source": [
    "plt.plot(actions)"
   ]
  }
 ],
 "metadata": {
  "kernelspec": {
   "display_name": "Python 3 (ipykernel)",
   "language": "python",
   "name": "python3"
  },
  "language_info": {
   "codemirror_mode": {
    "name": "ipython",
    "version": 3
   },
   "file_extension": ".py",
   "mimetype": "text/x-python",
   "name": "python",
   "nbconvert_exporter": "python",
   "pygments_lexer": "ipython3",
   "version": "3.9.12"
  },
  "vscode": {
   "interpreter": {
    "hash": "aee8b7b246df8f9039afb4144a1f6fd8d2ca17a180786b69acc140d282b71a49"
   }
  }
 },
 "nbformat": 4,
 "nbformat_minor": 4
}
