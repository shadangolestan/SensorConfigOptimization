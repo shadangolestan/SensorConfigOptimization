{
 "cells": [
  {
   "cell_type": "code",
   "execution_count": 5,
   "metadata": {},
   "outputs": [
    {
     "name": "stdout",
     "output_type": "stream",
     "text": [
      "28.0\n"
     ]
    }
   ],
   "source": [
    "print(7 / 0.25)"
   ]
  },
  {
   "cell_type": "code",
   "execution_count": 12,
   "metadata": {},
   "outputs": [],
   "source": [
    "e = 0.25"
   ]
  },
  {
   "cell_type": "code",
   "execution_count": 13,
   "metadata": {},
   "outputs": [
    {
     "data": {
      "text/plain": [
       "array([-0.25,  0.  ,  0.25])"
      ]
     },
     "execution_count": 13,
     "metadata": {},
     "output_type": "execute_result"
    }
   ],
   "source": [
    "import numpy as np\n",
    "np.arange(-e, e+e, e)"
   ]
  },
  {
   "cell_type": "code",
   "execution_count": 239,
   "metadata": {},
   "outputs": [],
   "source": [
    "import numpy as np\n",
    "import matplotlib.pyplot as plt\n",
    "\n",
    "def expand_matrix(matrix, n, step=1):\n",
    "    expanded_matrix = {}\n",
    "\n",
    "    for key, value in matrix.items():\n",
    "        x = key[1:-1].split(', ')[0]\n",
    "        y = key[1:-1].split(', ')[1]\n",
    "        if '.' in x:\n",
    "            x = float(x)\n",
    "        else:\n",
    "            x = int(x)\n",
    "        if '.' in y:\n",
    "            y = float(y)\n",
    "        else:\n",
    "            y = int(y)\n",
    "\n",
    "        expanded_matrix[key] = value\n",
    "\n",
    "        if n > 0:\n",
    "            x_step = step / (n + 1)\n",
    "            y_step = step / (n + 1)\n",
    "\n",
    "            for i in np.arange(1, n + 1):\n",
    "                x_offset = x_step * i\n",
    "                y_offset = y_step * i\n",
    "\n",
    "                # Calculate the x and y indices of the neighbors\n",
    "                neighbors = [\n",
    "                    (x - x_offset, y), (x + x_offset, y),  # Horizontal neighbors\n",
    "                    (x, y - y_offset), (x, y + y_offset),  # Vertical neighbors\n",
    "                    (x - x_offset, y - y_offset), (x - x_offset, y + y_offset),  # Diagonal neighbors\n",
    "                    (x + x_offset, y - y_offset), (x + x_offset, y + y_offset)\n",
    "                ]\n",
    "\n",
    "                # Calculate the average of all neighbors\n",
    "                total_average = sum(expanded_matrix.get(str([nx, ny]), value) for nx, ny in neighbors)\n",
    "                average = total_average / len(neighbors)\n",
    "\n",
    "                # Insert the new items into the expanded matrix\n",
    "                for nx, ny in neighbors:\n",
    "                    inserted_key = str([nx, ny])\n",
    "                    expanded_matrix[inserted_key] = average\n",
    "\n",
    "    # Calculate the dimensions of the expanded matrix\n",
    "    all_x, all_y = zip(*[map(float, key[1:-1].split(', ')) for key in expanded_matrix])\n",
    "    max_x, max_y = max(all_x), max(all_y)\n",
    "    min_x, min_y = min(all_x), min(all_y)\n",
    "\n",
    "    # Convert the expanded matrix to a 2D list format\n",
    "    x_range = np.arange(min_x, max_x + x_step, x_step)\n",
    "    y_range = np.arange(min_y, max_y + y_step, y_step)\n",
    "\n",
    "    x_range = [int(x) if x.is_integer() else x for x in x_range]\n",
    "    y_range = [int(x) if x.is_integer() else x for x in y_range]\n",
    "\n",
    "    print(x_range)\n",
    "    print(y_range)\n",
    "\n",
    "    print(expanded_matrix.keys())\n",
    "\n",
    "\n",
    "    expanded_matrix_2d = [[expanded_matrix[str([x, y])] for y in y_range] for x in x_range]\n",
    "\n",
    "    return expanded_matrix_2d, expanded_matrix\n",
    "\n",
    "def calculate_average(item1, item2):\n",
    "    return (item1 + item2) / 2"
   ]
  },
  {
   "cell_type": "code",
   "execution_count": 240,
   "metadata": {},
   "outputs": [
    {
     "name": "stdout",
     "output_type": "stream",
     "text": [
      "[0.5, 1, 1.5, 2, 2.5, 3, 3.5, 4, 4.5]\n",
      "[0.5, 1, 1.5, 2, 2.5, 3, 3.5, 4, 4.5]\n",
      "dict_keys(['[1, 1]', '[0.5, 1]', '[1.5, 1]', '[1, 0.5]', '[1, 1.5]', '[0.5, 0.5]', '[0.5, 1.5]', '[1.5, 0.5]', '[1.5, 1.5]', '[1, 2]', '[0.5, 2]', '[1.5, 2]', '[1, 2.5]', '[0.5, 2.5]', '[1.5, 2.5]', '[1, 3]', '[0.5, 3]', '[1.5, 3]', '[1, 3.5]', '[0.5, 3.5]', '[1.5, 3.5]', '[1, 4]', '[0.5, 4]', '[1.5, 4]', '[1, 4.5]', '[0.5, 4.5]', '[1.5, 4.5]', '[2, 1]', '[2.5, 1]', '[2, 0.5]', '[2, 1.5]', '[2.5, 0.5]', '[2.5, 1.5]', '[2, 2]', '[2.5, 2]', '[2, 2.5]', '[2.5, 2.5]', '[2, 3]', '[2.5, 3]', '[2, 3.5]', '[2.5, 3.5]', '[2, 4]', '[2.5, 4]', '[2, 4.5]', '[2.5, 4.5]', '[3, 1]', '[3.5, 1]', '[3, 0.5]', '[3, 1.5]', '[3.5, 0.5]', '[3.5, 1.5]', '[3, 2]', '[3.5, 2]', '[3, 2.5]', '[3.5, 2.5]', '[3, 3]', '[3.5, 3]', '[3, 3.5]', '[3.5, 3.5]', '[3, 4]', '[3.5, 4]', '[3, 4.5]', '[3.5, 4.5]', '[4, 1]', '[4.5, 1]', '[4, 0.5]', '[4, 1.5]', '[4.5, 0.5]', '[4.5, 1.5]', '[4, 2]', '[4.5, 2]', '[4, 2.5]', '[4.5, 2.5]', '[4, 3]', '[4.5, 3]', '[4, 3.5]', '[4.5, 3.5]', '[4, 4]', '[4.5, 4]', '[4, 4.5]', '[4.5, 4.5]'])\n"
     ]
    },
    {
     "data": {
      "image/png": "[encoded data removed]",
      "text/plain": [
       "<Figure size 640x480 with 2 Axes>"
      ]
     },
     "metadata": {},
     "output_type": "display_data"
    },
    {
     "name": "stdout",
     "output_type": "stream",
     "text": [
      "[0.125, 0.375, 0.625, 0.875, 1.125, 1.375, 1.625, 1.875, 2.125, 2.375, 2.625, 2.875, 3.125, 3.375, 3.625, 3.875, 4.125, 4.375, 4.625, 4.875]\n",
      "[0.125, 0.375, 0.625, 0.875, 1.125, 1.375, 1.625, 1.875, 2.125, 2.375, 2.625, 2.875, 3.125, 3.375, 3.625, 3.875, 4.125, 4.375, 4.625, 4.875]\n",
      "dict_keys(['[1, 1]', '[0.75, 1]', '[1.25, 1]', '[1, 0.75]', '[1, 1.25]', '[0.75, 0.75]', '[0.75, 1.25]', '[1.25, 0.75]', '[1.25, 1.25]', '[0.625, 1]', '[1.375, 1]', '[1, 0.625]', '[1, 1.375]', '[0.625, 0.625]', '[0.625, 1.375]', '[1.375, 0.625]', '[1.375, 1.375]', '[0.5, 1]', '[0.25, 1]', '[0.5, 0.75]', '[0.5, 1.25]', '[0.25, 0.75]', '[0.25, 1.25]', '[0.125, 1]', '[0.875, 1]', '[0.5, 0.625]', '[0.5, 1.375]', '[0.125, 0.625]', '[0.125, 1.375]', '[0.875, 0.625]', '[0.875, 1.375]', '[1.5, 1]', '[1.75, 1]', '[1.5, 0.75]', '[1.5, 1.25]', '[1.75, 0.75]', '[1.75, 1.25]', '[1.125, 1]', '[1.875, 1]', '[1.5, 0.625]', '[1.5, 1.375]', '[1.125, 0.625]', '[1.125, 1.375]', '[1.875, 0.625]', '[1.875, 1.375]', '[1, 0.5]', '[0.75, 0.5]', '[1.25, 0.5]', '[1, 0.25]', '[0.75, 0.25]', '[1.25, 0.25]', '[0.625, 0.5]', '[1.375, 0.5]', '[1, 0.125]', '[1, 0.875]', '[0.625, 0.125]', '[0.625, 0.875]', '[1.375, 0.125]', '[1.375, 0.875]', '[1, 1.5]', '[0.75, 1.5]', '[1.25, 1.5]', '[1, 1.75]', '[0.75, 1.75]', '[1.25, 1.75]', '[0.625, 1.5]', '[1.375, 1.5]', '[1, 1.125]', '[1, 1.875]', '[0.625, 1.125]', '[0.625, 1.875]', '[1.375, 1.125]', '[1.375, 1.875]', '[0.5, 0.5]', '[0.25, 0.5]', '[0.5, 0.25]', '[0.25, 0.25]', '[0.125, 0.5]', '[0.875, 0.5]', '[0.5, 0.125]', '[0.5, 0.875]', '[0.125, 0.125]', '[0.125, 0.875]', '[0.875, 0.125]', '[0.875, 0.875]', '[0.5, 1.5]', '[0.25, 1.5]', '[0.5, 1.75]', '[0.25, 1.75]', '[0.125, 1.5]', '[0.875, 1.5]', '[0.5, 1.125]', '[0.5, 1.875]', '[0.125, 1.125]', '[0.125, 1.875]', '[0.875, 1.125]', '[0.875, 1.875]', '[1.5, 0.5]', '[1.75, 0.5]', '[1.5, 0.25]', '[1.75, 0.25]', '[1.125, 0.5]', '[1.875, 0.5]', '[1.5, 0.125]', '[1.5, 0.875]', '[1.125, 0.125]', '[1.125, 0.875]', '[1.875, 0.125]', '[1.875, 0.875]', '[1.5, 1.5]', '[1.75, 1.5]', '[1.5, 1.75]', '[1.75, 1.75]', '[1.125, 1.5]', '[1.875, 1.5]', '[1.5, 1.125]', '[1.5, 1.875]', '[1.125, 1.125]', '[1.125, 1.875]', '[1.875, 1.125]', '[1.875, 1.875]', '[1, 2]', '[0.75, 2]', '[1.25, 2]', '[1, 2.25]', '[0.75, 2.25]', '[1.25, 2.25]', '[0.625, 2]', '[1.375, 2]', '[1, 1.625]', '[1, 2.375]', '[0.625, 1.625]', '[0.625, 2.375]', '[1.375, 1.625]', '[1.375, 2.375]', '[0.5, 2]', '[0.25, 2]', '[0.5, 2.25]', '[0.25, 2.25]', '[0.125, 2]', '[0.875, 2]', '[0.5, 1.625]', '[0.5, 2.375]', '[0.125, 1.625]', '[0.125, 2.375]', '[0.875, 1.625]', '[0.875, 2.375]', '[1.5, 2]', '[1.75, 2]', '[1.5, 2.25]', '[1.75, 2.25]', '[1.125, 2]', '[1.875, 2]', '[1.5, 1.625]', '[1.5, 2.375]', '[1.125, 1.625]', '[1.125, 2.375]', '[1.875, 1.625]', '[1.875, 2.375]', '[1, 2.5]', '[0.75, 2.5]', '[1.25, 2.5]', '[1, 2.75]', '[0.75, 2.75]', '[1.25, 2.75]', '[0.625, 2.5]', '[1.375, 2.5]', '[1, 2.125]', '[1, 2.875]', '[0.625, 2.125]', '[0.625, 2.875]', '[1.375, 2.125]', '[1.375, 2.875]', '[0.5, 2.5]', '[0.25, 2.5]', '[0.5, 2.75]', '[0.25, 2.75]', '[0.125, 2.5]', '[0.875, 2.5]', '[0.5, 2.125]', '[0.5, 2.875]', '[0.125, 2.125]', '[0.125, 2.875]', '[0.875, 2.125]', '[0.875, 2.875]', '[1.5, 2.5]', '[1.75, 2.5]', '[1.5, 2.75]', '[1.75, 2.75]', '[1.125, 2.5]', '[1.875, 2.5]', '[1.5, 2.125]', '[1.5, 2.875]', '[1.125, 2.125]', '[1.125, 2.875]', '[1.875, 2.125]', '[1.875, 2.875]', '[1, 3]', '[0.75, 3]', '[1.25, 3]', '[1, 3.25]', '[0.75, 3.25]', '[1.25, 3.25]', '[0.625, 3]', '[1.375, 3]', '[1, 2.625]', '[1, 3.375]', '[0.625, 2.625]', '[0.625, 3.375]', '[1.375, 2.625]', '[1.375, 3.375]', '[0.5, 3]', '[0.25, 3]', '[0.5, 3.25]', '[0.25, 3.25]', '[0.125, 3]', '[0.875, 3]', '[0.5, 2.625]', '[0.5, 3.375]', '[0.125, 2.625]', '[0.125, 3.375]', '[0.875, 2.625]', '[0.875, 3.375]', '[1.5, 3]', '[1.75, 3]', '[1.5, 3.25]', '[1.75, 3.25]', '[1.125, 3]', '[1.875, 3]', '[1.5, 2.625]', '[1.5, 3.375]', '[1.125, 2.625]', '[1.125, 3.375]', '[1.875, 2.625]', '[1.875, 3.375]', '[1, 3.5]', '[0.75, 3.5]', '[1.25, 3.5]', '[1, 3.75]', '[0.75, 3.75]', '[1.25, 3.75]', '[0.625, 3.5]', '[1.375, 3.5]', '[1, 3.125]', '[1, 3.875]', '[0.625, 3.125]', '[0.625, 3.875]', '[1.375, 3.125]', '[1.375, 3.875]', '[0.5, 3.5]', '[0.25, 3.5]', '[0.5, 3.75]', '[0.25, 3.75]', '[0.125, 3.5]', '[0.875, 3.5]', '[0.5, 3.125]', '[0.5, 3.875]', '[0.125, 3.125]', '[0.125, 3.875]', '[0.875, 3.125]', '[0.875, 3.875]', '[1.5, 3.5]', '[1.75, 3.5]', '[1.5, 3.75]', '[1.75, 3.75]', '[1.125, 3.5]', '[1.875, 3.5]', '[1.5, 3.125]', '[1.5, 3.875]', '[1.125, 3.125]', '[1.125, 3.875]', '[1.875, 3.125]', '[1.875, 3.875]', '[1, 4]', '[0.75, 4]', '[1.25, 4]', '[1, 4.25]', '[0.75, 4.25]', '[1.25, 4.25]', '[0.625, 4]', '[1.375, 4]', '[1, 3.625]', '[1, 4.375]', '[0.625, 3.625]', '[0.625, 4.375]', '[1.375, 3.625]', '[1.375, 4.375]', '[0.5, 4]', '[0.25, 4]', '[0.5, 4.25]', '[0.25, 4.25]', '[0.125, 4]', '[0.875, 4]', '[0.5, 3.625]', '[0.5, 4.375]', '[0.125, 3.625]', '[0.125, 4.375]', '[0.875, 3.625]', '[0.875, 4.375]', '[1.5, 4]', '[1.75, 4]', '[1.5, 4.25]', '[1.75, 4.25]', '[1.125, 4]', '[1.875, 4]', '[1.5, 3.625]', '[1.5, 4.375]', '[1.125, 3.625]', '[1.125, 4.375]', '[1.875, 3.625]', '[1.875, 4.375]', '[1, 4.5]', '[0.75, 4.5]', '[1.25, 4.5]', '[1, 4.75]', '[0.75, 4.75]', '[1.25, 4.75]', '[0.625, 4.5]', '[1.375, 4.5]', '[1, 4.125]', '[1, 4.875]', '[0.625, 4.125]', '[0.625, 4.875]', '[1.375, 4.125]', '[1.375, 4.875]', '[0.5, 4.5]', '[0.25, 4.5]', '[0.5, 4.75]', '[0.25, 4.75]', '[0.125, 4.5]', '[0.875, 4.5]', '[0.5, 4.125]', '[0.5, 4.875]', '[0.125, 4.125]', '[0.125, 4.875]', '[0.875, 4.125]', '[0.875, 4.875]', '[1.5, 4.5]', '[1.75, 4.5]', '[1.5, 4.75]', '[1.75, 4.75]', '[1.125, 4.5]', '[1.875, 4.5]', '[1.5, 4.125]', '[1.5, 4.875]', '[1.125, 4.125]', '[1.125, 4.875]', '[1.875, 4.125]', '[1.875, 4.875]', '[2, 1]', '[2.25, 1]', '[2, 0.75]', '[2, 1.25]', '[2.25, 0.75]', '[2.25, 1.25]', '[1.625, 1]', '[2.375, 1]', '[2, 0.625]', '[2, 1.375]', '[1.625, 0.625]', '[1.625, 1.375]', '[2.375, 0.625]', '[2.375, 1.375]', '[2.5, 1]', '[2.75, 1]', '[2.5, 0.75]', '[2.5, 1.25]', '[2.75, 0.75]', '[2.75, 1.25]', '[2.125, 1]', '[2.875, 1]', '[2.5, 0.625]', '[2.5, 1.375]', '[2.125, 0.625]', '[2.125, 1.375]', '[2.875, 0.625]', '[2.875, 1.375]', '[2, 0.5]', '[2.25, 0.5]', '[2, 0.25]', '[2.25, 0.25]', '[1.625, 0.5]', '[2.375, 0.5]', '[2, 0.125]', '[2, 0.875]', '[1.625, 0.125]', '[1.625, 0.875]', '[2.375, 0.125]', '[2.375, 0.875]', '[2, 1.5]', '[2.25, 1.5]', '[2, 1.75]', '[2.25, 1.75]', '[1.625, 1.5]', '[2.375, 1.5]', '[2, 1.125]', '[2, 1.875]', '[1.625, 1.125]', '[1.625, 1.875]', '[2.375, 1.125]', '[2.375, 1.875]', '[2.5, 0.5]', '[2.75, 0.5]', '[2.5, 0.25]', '[2.75, 0.25]', '[2.125, 0.5]', '[2.875, 0.5]', '[2.5, 0.125]', '[2.5, 0.875]', '[2.125, 0.125]', '[2.125, 0.875]', '[2.875, 0.125]', '[2.875, 0.875]', '[2.5, 1.5]', '[2.75, 1.5]', '[2.5, 1.75]', '[2.75, 1.75]', '[2.125, 1.5]', '[2.875, 1.5]', '[2.5, 1.125]', '[2.5, 1.875]', '[2.125, 1.125]', '[2.125, 1.875]', '[2.875, 1.125]', '[2.875, 1.875]', '[2, 2]', '[2.25, 2]', '[2, 2.25]', '[2.25, 2.25]', '[1.625, 2]', '[2.375, 2]', '[2, 1.625]', '[2, 2.375]', '[1.625, 1.625]', '[1.625, 2.375]', '[2.375, 1.625]', '[2.375, 2.375]', '[2.5, 2]', '[2.75, 2]', '[2.5, 2.25]', '[2.75, 2.25]', '[2.125, 2]', '[2.875, 2]', '[2.5, 1.625]', '[2.5, 2.375]', '[2.125, 1.625]', '[2.125, 2.375]', '[2.875, 1.625]', '[2.875, 2.375]', '[2, 2.5]', '[2.25, 2.5]', '[2, 2.75]', '[2.25, 2.75]', '[1.625, 2.5]', '[2.375, 2.5]', '[2, 2.125]', '[2, 2.875]', '[1.625, 2.125]', '[1.625, 2.875]', '[2.375, 2.125]', '[2.375, 2.875]', '[2.5, 2.5]', '[2.75, 2.5]', '[2.5, 2.75]', '[2.75, 2.75]', '[2.125, 2.5]', '[2.875, 2.5]', '[2.5, 2.125]', '[2.5, 2.875]', '[2.125, 2.125]', '[2.125, 2.875]', '[2.875, 2.125]', '[2.875, 2.875]', '[2, 3]', '[2.25, 3]', '[2, 3.25]', '[2.25, 3.25]', '[1.625, 3]', '[2.375, 3]', '[2, 2.625]', '[2, 3.375]', '[1.625, 2.625]', '[1.625, 3.375]', '[2.375, 2.625]', '[2.375, 3.375]', '[2.5, 3]', '[2.75, 3]', '[2.5, 3.25]', '[2.75, 3.25]', '[2.125, 3]', '[2.875, 3]', '[2.5, 2.625]', '[2.5, 3.375]', '[2.125, 2.625]', '[2.125, 3.375]', '[2.875, 2.625]', '[2.875, 3.375]', '[2, 3.5]', '[2.25, 3.5]', '[2, 3.75]', '[2.25, 3.75]', '[1.625, 3.5]', '[2.375, 3.5]', '[2, 3.125]', '[2, 3.875]', '[1.625, 3.125]', '[1.625, 3.875]', '[2.375, 3.125]', '[2.375, 3.875]', '[2.5, 3.5]', '[2.75, 3.5]', '[2.5, 3.75]', '[2.75, 3.75]', '[2.125, 3.5]', '[2.875, 3.5]', '[2.5, 3.125]', '[2.5, 3.875]', '[2.125, 3.125]', '[2.125, 3.875]', '[2.875, 3.125]', '[2.875, 3.875]', '[2, 4]', '[2.25, 4]', '[2, 4.25]', '[2.25, 4.25]', '[1.625, 4]', '[2.375, 4]', '[2, 3.625]', '[2, 4.375]', '[1.625, 3.625]', '[1.625, 4.375]', '[2.375, 3.625]', '[2.375, 4.375]', '[2.5, 4]', '[2.75, 4]', '[2.5, 4.25]', '[2.75, 4.25]', '[2.125, 4]', '[2.875, 4]', '[2.5, 3.625]', '[2.5, 4.375]', '[2.125, 3.625]', '[2.125, 4.375]', '[2.875, 3.625]', '[2.875, 4.375]', '[2, 4.5]', '[2.25, 4.5]', '[2, 4.75]', '[2.25, 4.75]', '[1.625, 4.5]', '[2.375, 4.5]', '[2, 4.125]', '[2, 4.875]', '[1.625, 4.125]', '[1.625, 4.875]', '[2.375, 4.125]', '[2.375, 4.875]', '[2.5, 4.5]', '[2.75, 4.5]', '[2.5, 4.75]', '[2.75, 4.75]', '[2.125, 4.5]', '[2.875, 4.5]', '[2.5, 4.125]', '[2.5, 4.875]', '[2.125, 4.125]', '[2.125, 4.875]', '[2.875, 4.125]', '[2.875, 4.875]', '[3, 1]', '[3.25, 1]', '[3, 0.75]', '[3, 1.25]', '[3.25, 0.75]', '[3.25, 1.25]', '[2.625, 1]', '[3.375, 1]', '[3, 0.625]', '[3, 1.375]', '[2.625, 0.625]', '[2.625, 1.375]', '[3.375, 0.625]', '[3.375, 1.375]', '[3.5, 1]', '[3.75, 1]', '[3.5, 0.75]', '[3.5, 1.25]', '[3.75, 0.75]', '[3.75, 1.25]', '[3.125, 1]', '[3.875, 1]', '[3.5, 0.625]', '[3.5, 1.375]', '[3.125, 0.625]', '[3.125, 1.375]', '[3.875, 0.625]', '[3.875, 1.375]', '[3, 0.5]', '[3.25, 0.5]', '[3, 0.25]', '[3.25, 0.25]', '[2.625, 0.5]', '[3.375, 0.5]', '[3, 0.125]', '[3, 0.875]', '[2.625, 0.125]', '[2.625, 0.875]', '[3.375, 0.125]', '[3.375, 0.875]', '[3, 1.5]', '[3.25, 1.5]', '[3, 1.75]', '[3.25, 1.75]', '[2.625, 1.5]', '[3.375, 1.5]', '[3, 1.125]', '[3, 1.875]', '[2.625, 1.125]', '[2.625, 1.875]', '[3.375, 1.125]', '[3.375, 1.875]', '[3.5, 0.5]', '[3.75, 0.5]', '[3.5, 0.25]', '[3.75, 0.25]', '[3.125, 0.5]', '[3.875, 0.5]', '[3.5, 0.125]', '[3.5, 0.875]', '[3.125, 0.125]', '[3.125, 0.875]', '[3.875, 0.125]', '[3.875, 0.875]', '[3.5, 1.5]', '[3.75, 1.5]', '[3.5, 1.75]', '[3.75, 1.75]', '[3.125, 1.5]', '[3.875, 1.5]', '[3.5, 1.125]', '[3.5, 1.875]', '[3.125, 1.125]', '[3.125, 1.875]', '[3.875, 1.125]', '[3.875, 1.875]', '[3, 2]', '[3.25, 2]', '[3, 2.25]', '[3.25, 2.25]', '[2.625, 2]', '[3.375, 2]', '[3, 1.625]', '[3, 2.375]', '[2.625, 1.625]', '[2.625, 2.375]', '[3.375, 1.625]', '[3.375, 2.375]', '[3.5, 2]', '[3.75, 2]', '[3.5, 2.25]', '[3.75, 2.25]', '[3.125, 2]', '[3.875, 2]', '[3.5, 1.625]', '[3.5, 2.375]', '[3.125, 1.625]', '[3.125, 2.375]', '[3.875, 1.625]', '[3.875, 2.375]', '[3, 2.5]', '[3.25, 2.5]', '[3, 2.75]', '[3.25, 2.75]', '[2.625, 2.5]', '[3.375, 2.5]', '[3, 2.125]', '[3, 2.875]', '[2.625, 2.125]', '[2.625, 2.875]', '[3.375, 2.125]', '[3.375, 2.875]', '[3.5, 2.5]', '[3.75, 2.5]', '[3.5, 2.75]', '[3.75, 2.75]', '[3.125, 2.5]', '[3.875, 2.5]', '[3.5, 2.125]', '[3.5, 2.875]', '[3.125, 2.125]', '[3.125, 2.875]', '[3.875, 2.125]', '[3.875, 2.875]', '[3, 3]', '[3.25, 3]', '[3, 3.25]', '[3.25, 3.25]', '[2.625, 3]', '[3.375, 3]', '[3, 2.625]', '[3, 3.375]', '[2.625, 2.625]', '[2.625, 3.375]', '[3.375, 2.625]', '[3.375, 3.375]', '[3.5, 3]', '[3.75, 3]', '[3.5, 3.25]', '[3.75, 3.25]', '[3.125, 3]', '[3.875, 3]', '[3.5, 2.625]', '[3.5, 3.375]', '[3.125, 2.625]', '[3.125, 3.375]', '[3.875, 2.625]', '[3.875, 3.375]', '[3, 3.5]', '[3.25, 3.5]', '[3, 3.75]', '[3.25, 3.75]', '[2.625, 3.5]', '[3.375, 3.5]', '[3, 3.125]', '[3, 3.875]', '[2.625, 3.125]', '[2.625, 3.875]', '[3.375, 3.125]', '[3.375, 3.875]', '[3.5, 3.5]', '[3.75, 3.5]', '[3.5, 3.75]', '[3.75, 3.75]', '[3.125, 3.5]', '[3.875, 3.5]', '[3.5, 3.125]', '[3.5, 3.875]', '[3.125, 3.125]', '[3.125, 3.875]', '[3.875, 3.125]', '[3.875, 3.875]', '[3, 4]', '[3.25, 4]', '[3, 4.25]', '[3.25, 4.25]', '[2.625, 4]', '[3.375, 4]', '[3, 3.625]', '[3, 4.375]', '[2.625, 3.625]', '[2.625, 4.375]', '[3.375, 3.625]', '[3.375, 4.375]', '[3.5, 4]', '[3.75, 4]', '[3.5, 4.25]', '[3.75, 4.25]', '[3.125, 4]', '[3.875, 4]', '[3.5, 3.625]', '[3.5, 4.375]', '[3.125, 3.625]', '[3.125, 4.375]', '[3.875, 3.625]', '[3.875, 4.375]', '[3, 4.5]', '[3.25, 4.5]', '[3, 4.75]', '[3.25, 4.75]', '[2.625, 4.5]', '[3.375, 4.5]', '[3, 4.125]', '[3, 4.875]', '[2.625, 4.125]', '[2.625, 4.875]', '[3.375, 4.125]', '[3.375, 4.875]', '[3.5, 4.5]', '[3.75, 4.5]', '[3.5, 4.75]', '[3.75, 4.75]', '[3.125, 4.5]', '[3.875, 4.5]', '[3.5, 4.125]', '[3.5, 4.875]', '[3.125, 4.125]', '[3.125, 4.875]', '[3.875, 4.125]', '[3.875, 4.875]', '[4, 1]', '[4.25, 1]', '[4, 0.75]', '[4, 1.25]', '[4.25, 0.75]', '[4.25, 1.25]', '[3.625, 1]', '[4.375, 1]', '[4, 0.625]', '[4, 1.375]', '[3.625, 0.625]', '[3.625, 1.375]', '[4.375, 0.625]', '[4.375, 1.375]', '[4.5, 1]', '[4.75, 1]', '[4.5, 0.75]', '[4.5, 1.25]', '[4.75, 0.75]', '[4.75, 1.25]', '[4.125, 1]', '[4.875, 1]', '[4.5, 0.625]', '[4.5, 1.375]', '[4.125, 0.625]', '[4.125, 1.375]', '[4.875, 0.625]', '[4.875, 1.375]', '[4, 0.5]', '[4.25, 0.5]', '[4, 0.25]', '[4.25, 0.25]', '[3.625, 0.5]', '[4.375, 0.5]', '[4, 0.125]', '[4, 0.875]', '[3.625, 0.125]', '[3.625, 0.875]', '[4.375, 0.125]', '[4.375, 0.875]', '[4, 1.5]', '[4.25, 1.5]', '[4, 1.75]', '[4.25, 1.75]', '[3.625, 1.5]', '[4.375, 1.5]', '[4, 1.125]', '[4, 1.875]', '[3.625, 1.125]', '[3.625, 1.875]', '[4.375, 1.125]', '[4.375, 1.875]', '[4.5, 0.5]', '[4.75, 0.5]', '[4.5, 0.25]', '[4.75, 0.25]', '[4.125, 0.5]', '[4.875, 0.5]', '[4.5, 0.125]', '[4.5, 0.875]', '[4.125, 0.125]', '[4.125, 0.875]', '[4.875, 0.125]', '[4.875, 0.875]', '[4.5, 1.5]', '[4.75, 1.5]', '[4.5, 1.75]', '[4.75, 1.75]', '[4.125, 1.5]', '[4.875, 1.5]', '[4.5, 1.125]', '[4.5, 1.875]', '[4.125, 1.125]', '[4.125, 1.875]', '[4.875, 1.125]', '[4.875, 1.875]', '[4, 2]', '[4.25, 2]', '[4, 2.25]', '[4.25, 2.25]', '[3.625, 2]', '[4.375, 2]', '[4, 1.625]', '[4, 2.375]', '[3.625, 1.625]', '[3.625, 2.375]', '[4.375, 1.625]', '[4.375, 2.375]', '[4.5, 2]', '[4.75, 2]', '[4.5, 2.25]', '[4.75, 2.25]', '[4.125, 2]', '[4.875, 2]', '[4.5, 1.625]', '[4.5, 2.375]', '[4.125, 1.625]', '[4.125, 2.375]', '[4.875, 1.625]', '[4.875, 2.375]', '[4, 2.5]', '[4.25, 2.5]', '[4, 2.75]', '[4.25, 2.75]', '[3.625, 2.5]', '[4.375, 2.5]', '[4, 2.125]', '[4, 2.875]', '[3.625, 2.125]', '[3.625, 2.875]', '[4.375, 2.125]', '[4.375, 2.875]', '[4.5, 2.5]', '[4.75, 2.5]', '[4.5, 2.75]', '[4.75, 2.75]', '[4.125, 2.5]', '[4.875, 2.5]', '[4.5, 2.125]', '[4.5, 2.875]', '[4.125, 2.125]', '[4.125, 2.875]', '[4.875, 2.125]', '[4.875, 2.875]', '[4, 3]', '[4.25, 3]', '[4, 3.25]', '[4.25, 3.25]', '[3.625, 3]', '[4.375, 3]', '[4, 2.625]', '[4, 3.375]', '[3.625, 2.625]', '[3.625, 3.375]', '[4.375, 2.625]', '[4.375, 3.375]', '[4.5, 3]', '[4.75, 3]', '[4.5, 3.25]', '[4.75, 3.25]', '[4.125, 3]', '[4.875, 3]', '[4.5, 2.625]', '[4.5, 3.375]', '[4.125, 2.625]', '[4.125, 3.375]', '[4.875, 2.625]', '[4.875, 3.375]', '[4, 3.5]', '[4.25, 3.5]', '[4, 3.75]', '[4.25, 3.75]', '[3.625, 3.5]', '[4.375, 3.5]', '[4, 3.125]', '[4, 3.875]', '[3.625, 3.125]', '[3.625, 3.875]', '[4.375, 3.125]', '[4.375, 3.875]', '[4.5, 3.5]', '[4.75, 3.5]', '[4.5, 3.75]', '[4.75, 3.75]', '[4.125, 3.5]', '[4.875, 3.5]', '[4.5, 3.125]', '[4.5, 3.875]', '[4.125, 3.125]', '[4.125, 3.875]', '[4.875, 3.125]', '[4.875, 3.875]', '[4, 4]', '[4.25, 4]', '[4, 4.25]', '[4.25, 4.25]', '[3.625, 4]', '[4.375, 4]', '[4, 3.625]', '[4, 4.375]', '[3.625, 3.625]', '[3.625, 4.375]', '[4.375, 3.625]', '[4.375, 4.375]', '[4.5, 4]', '[4.75, 4]', '[4.5, 4.25]', '[4.75, 4.25]', '[4.125, 4]', '[4.875, 4]', '[4.5, 3.625]', '[4.5, 4.375]', '[4.125, 3.625]', '[4.125, 4.375]', '[4.875, 3.625]', '[4.875, 4.375]', '[4, 4.5]', '[4.25, 4.5]', '[4, 4.75]', '[4.25, 4.75]', '[3.625, 4.5]', '[4.375, 4.5]', '[4, 4.125]', '[4, 4.875]', '[3.625, 4.125]', '[3.625, 4.875]', '[4.375, 4.125]', '[4.375, 4.875]', '[4.5, 4.5]', '[4.75, 4.5]', '[4.5, 4.75]', '[4.75, 4.75]', '[4.125, 4.5]', '[4.875, 4.5]', '[4.5, 4.125]', '[4.5, 4.875]', '[4.125, 4.125]', '[4.125, 4.875]', '[4.875, 4.125]', '[4.875, 4.875]'])\n"
     ]
    },
    {
     "ename": "KeyError",
     "evalue": "'[0.125, 0.375]'",
     "output_type": "error",
     "traceback": [
      "\u001b[0;31m---------------------------------------------------------------------------\u001b[0m",
      "\u001b[0;31mKeyError\u001b[0m                                  Traceback (most recent call last)",
      "Cell \u001b[0;32mIn[240], line 29\u001b[0m\n\u001b[1;32m     26\u001b[0m plt\u001b[39m.\u001b[39mtitle(\u001b[39m'\u001b[39m\u001b[39mExpanded Matrix Heatmap\u001b[39m\u001b[39m'\u001b[39m)\n\u001b[1;32m     27\u001b[0m plt\u001b[39m.\u001b[39mshow()\n\u001b[0;32m---> 29\u001b[0m expanded_matrix2, matrix2 \u001b[39m=\u001b[39m expand_matrix(matrix, \u001b[39m1\u001b[39;49m, \u001b[39m0.5\u001b[39;49m)\n\u001b[1;32m     31\u001b[0m plt\u001b[39m.\u001b[39mimshow(expanded_matrix2, cmap\u001b[39m=\u001b[39m\u001b[39m'\u001b[39m\u001b[39mviridis\u001b[39m\u001b[39m'\u001b[39m, origin\u001b[39m=\u001b[39m\u001b[39m'\u001b[39m\u001b[39mlower\u001b[39m\u001b[39m'\u001b[39m, extent\u001b[39m=\u001b[39m[\u001b[39m0\u001b[39m, \u001b[39mlen\u001b[39m(expanded_matrix2[\u001b[39m0\u001b[39m]), \u001b[39m0\u001b[39m, \u001b[39mlen\u001b[39m(expanded_matrix2)])\n\u001b[1;32m     32\u001b[0m plt\u001b[39m.\u001b[39mcolorbar()\n",
      "Cell \u001b[0;32mIn[239], line 64\u001b[0m, in \u001b[0;36mexpand_matrix\u001b[0;34m(matrix, n, step)\u001b[0m\n\u001b[1;32m     59\u001b[0m \u001b[39mprint\u001b[39m(y_range)\n\u001b[1;32m     61\u001b[0m \u001b[39mprint\u001b[39m(expanded_matrix\u001b[39m.\u001b[39mkeys())\n\u001b[0;32m---> 64\u001b[0m expanded_matrix_2d \u001b[39m=\u001b[39m [[expanded_matrix[\u001b[39mstr\u001b[39m([x, y])] \u001b[39mfor\u001b[39;00m y \u001b[39min\u001b[39;00m y_range] \u001b[39mfor\u001b[39;00m x \u001b[39min\u001b[39;00m x_range]\n\u001b[1;32m     66\u001b[0m \u001b[39mreturn\u001b[39;00m expanded_matrix_2d, expanded_matrix\n",
      "Cell \u001b[0;32mIn[239], line 64\u001b[0m, in \u001b[0;36m<listcomp>\u001b[0;34m(.0)\u001b[0m\n\u001b[1;32m     59\u001b[0m \u001b[39mprint\u001b[39m(y_range)\n\u001b[1;32m     61\u001b[0m \u001b[39mprint\u001b[39m(expanded_matrix\u001b[39m.\u001b[39mkeys())\n\u001b[0;32m---> 64\u001b[0m expanded_matrix_2d \u001b[39m=\u001b[39m [[expanded_matrix[\u001b[39mstr\u001b[39m([x, y])] \u001b[39mfor\u001b[39;00m y \u001b[39min\u001b[39;00m y_range] \u001b[39mfor\u001b[39;00m x \u001b[39min\u001b[39;00m x_range]\n\u001b[1;32m     66\u001b[0m \u001b[39mreturn\u001b[39;00m expanded_matrix_2d, expanded_matrix\n",
      "Cell \u001b[0;32mIn[239], line 64\u001b[0m, in \u001b[0;36m<listcomp>\u001b[0;34m(.0)\u001b[0m\n\u001b[1;32m     59\u001b[0m \u001b[39mprint\u001b[39m(y_range)\n\u001b[1;32m     61\u001b[0m \u001b[39mprint\u001b[39m(expanded_matrix\u001b[39m.\u001b[39mkeys())\n\u001b[0;32m---> 64\u001b[0m expanded_matrix_2d \u001b[39m=\u001b[39m [[expanded_matrix[\u001b[39mstr\u001b[39;49m([x, y])] \u001b[39mfor\u001b[39;00m y \u001b[39min\u001b[39;00m y_range] \u001b[39mfor\u001b[39;00m x \u001b[39min\u001b[39;00m x_range]\n\u001b[1;32m     66\u001b[0m \u001b[39mreturn\u001b[39;00m expanded_matrix_2d, expanded_matrix\n",
      "\u001b[0;31mKeyError\u001b[0m: '[0.125, 0.375]'"
     ]
    }
   ],
   "source": [
    "matrix = {\n",
    "    '[1, 1]': 10,\n",
    "    '[1, 2]': 2,\n",
    "    '[1, 3]': 0.5,\n",
    "    '[1, 4]': 6,\n",
    "    '[2, 1]': 1,\n",
    "    '[2, 2]': 1,\n",
    "    '[2, 3]': 1,\n",
    "    '[2, 4]': 2,\n",
    "    '[3, 1]': 3,\n",
    "    '[3, 2]': 2,\n",
    "    '[3, 3]': 3,\n",
    "    '[3, 4]': 2,\n",
    "    '[4, 1]': 5,\n",
    "    '[4, 2]': 1,\n",
    "    '[4, 3]': 4,\n",
    "    '[4, 4]': 2\n",
    "}\n",
    "\n",
    "expanded_matrix, matrix = expand_matrix(matrix, 1)\n",
    "\n",
    "plt.imshow(expanded_matrix, cmap='viridis', origin='lower', extent=[0, len(expanded_matrix[0]), 0, len(expanded_matrix)])\n",
    "plt.colorbar()\n",
    "plt.xlabel('X')\n",
    "plt.ylabel('Y')\n",
    "plt.title('Expanded Matrix Heatmap')\n",
    "plt.show()\n",
    "\n",
    "expanded_matrix2, matrix2 = expand_matrix(matrix, 1, 0.5)\n",
    "\n",
    "plt.imshow(expanded_matrix2, cmap='viridis', origin='lower', extent=[0, len(expanded_matrix2[0]), 0, len(expanded_matrix2)])\n",
    "plt.colorbar()\n",
    "plt.xlabel('X')\n",
    "plt.ylabel('Y')\n",
    "plt.title('Expanded Matrix Heatmap')\n",
    "plt.show()"
   ]
  },
  {
   "cell_type": "code",
   "execution_count": null,
   "metadata": {},
   "outputs": [],
   "source": []
  },
  {
   "cell_type": "code",
   "execution_count": null,
   "metadata": {},
   "outputs": [],
   "source": []
  },
  {
   "cell_type": "code",
   "execution_count": null,
   "metadata": {},
   "outputs": [],
   "source": []
  },
  {
   "cell_type": "code",
   "execution_count": 204,
   "metadata": {},
   "outputs": [
    {
     "data": {
      "text/plain": [
       "{'[1, 1]': 10,\n",
       " '[0.5, 1]': 10.0,\n",
       " '[1.5, 1]': 3.75,\n",
       " '[1, 0.5]': 10.0,\n",
       " '[1, 1.5]': 5.0,\n",
       " '[0.5, 0.5]': 10.0,\n",
       " '[0.5, 1.5]': 5.0,\n",
       " '[1.5, 0.5]': 3.75,\n",
       " '[1.5, 1.5]': 2.6796875,\n",
       " '[1, 2]': 2,\n",
       " '[0.5, 2]': 5.0,\n",
       " '[1.5, 2]': 2.6796875,\n",
       " '[1, 2.5]': 2.1875,\n",
       " '[0.5, 2.5]': 2.1875,\n",
       " '[1.5, 2.5]': 2.224609375,\n",
       " '[1, 3]': 0.5,\n",
       " '[0.5, 3]': 2.1875,\n",
       " '[1.5, 3]': 2.224609375,\n",
       " '[1, 3.5]': 4.5703125,\n",
       " '[0.5, 3.5]': 4.5703125,\n",
       " '[1.5, 3.5]': 2.726806640625,\n",
       " '[1, 4]': 6,\n",
       " '[0.5, 4]': 4.5703125,\n",
       " '[1.5, 4]': 2.726806640625,\n",
       " '[1, 4.5]': 4.5703125,\n",
       " '[0.5, 4.5]': 4.5703125,\n",
       " '[1.5, 4.5]': 2.726806640625,\n",
       " '[2, 1]': 1,\n",
       " '[2.5, 1]': 3.1474609375,\n",
       " '[2, 0.5]': 3.75,\n",
       " '[2, 1.5]': 2.6796875,\n",
       " '[2.5, 0.5]': 3.1474609375,\n",
       " '[2.5, 1.5]': 2.5433349609375,\n",
       " '[2, 2]': 1,\n",
       " '[2.5, 2]': 2.5433349609375,\n",
       " '[2, 2.5]': 2.224609375,\n",
       " '[2.5, 2.5]': 2.6976776123046875,\n",
       " '[2, 3]': 1,\n",
       " '[2.5, 3]': 2.6976776123046875,\n",
       " '[2, 3.5]': 2.726806640625,\n",
       " '[2.5, 3.5]': 2.443330764770508,\n",
       " '[2, 4]': 2,\n",
       " '[2.5, 4]': 2.443330764770508,\n",
       " '[2, 4.5]': 2.726806640625,\n",
       " '[2.5, 4.5]': 2.443330764770508,\n",
       " '[3, 1]': 3,\n",
       " '[3.5, 1]': 4.2297821044921875,\n",
       " '[3, 0.5]': 3.1474609375,\n",
       " '[3, 1.5]': 2.5433349609375,\n",
       " '[3.5, 0.5]': 4.2297821044921875,\n",
       " '[3.5, 1.5]': 2.6162948608398438,\n",
       " '[3, 2]': 2,\n",
       " '[3.5, 2]': 2.6162948608398438,\n",
       " '[3, 2.5]': 2.6976776123046875,\n",
       " '[3.5, 2.5]': 3.123736619949341,\n",
       " '[3, 3]': 3,\n",
       " '[3.5, 3]': 3.123736619949341,\n",
       " '[3, 3.5]': 2.443330764770508,\n",
       " '[3.5, 3.5]': 2.5322339236736298,\n",
       " '[3, 4]': 2,\n",
       " '[3.5, 4]': 2.5322339236736298,\n",
       " '[3, 4.5]': 2.443330764770508,\n",
       " '[3.5, 4.5]': 2.5322339236736298,\n",
       " '[4, 1]': 5,\n",
       " '[4.5, 1]': 4.2297821044921875,\n",
       " '[4, 0.5]': 4.2297821044921875,\n",
       " '[4, 1.5]': 2.6162948608398438,\n",
       " '[4.5, 0.5]': 4.2297821044921875,\n",
       " '[4.5, 1.5]': 2.6162948608398438,\n",
       " '[4, 2]': 1,\n",
       " '[4.5, 2]': 2.6162948608398438,\n",
       " '[4, 2.5]': 3.123736619949341,\n",
       " '[4.5, 2.5]': 3.123736619949341,\n",
       " '[4, 3]': 4,\n",
       " '[4.5, 3]': 3.123736619949341,\n",
       " '[4, 3.5]': 2.5322339236736298,\n",
       " '[4.5, 3.5]': 2.5322339236736298,\n",
       " '[4, 4]': 2,\n",
       " '[4.5, 4]': 2.5322339236736298,\n",
       " '[4, 4.5]': 2.5322339236736298,\n",
       " '[4.5, 4.5]': 2.5322339236736298}"
      ]
     },
     "execution_count": 204,
     "metadata": {},
     "output_type": "execute_result"
    }
   ],
   "source": [
    "matrix"
   ]
  },
  {
   "cell_type": "code",
   "execution_count": 187,
   "metadata": {},
   "outputs": [
    {
     "data": {
      "text/plain": [
       "[[10.0, 10.0, 5.0, 5.0, 2.1875, 2.1875, 4.5703125, 4.5703125, 4.5703125],\n",
       " [10.0, 0, 5.0, 0, 2.1875, 0, 4.5703125, 0, 4.5703125],\n",
       " [3.75,\n",
       "  3.75,\n",
       "  2.6796875,\n",
       "  2.6796875,\n",
       "  2.224609375,\n",
       "  2.224609375,\n",
       "  2.726806640625,\n",
       "  2.726806640625,\n",
       "  2.726806640625],\n",
       " [3.75, 0, 2.6796875, 0, 2.224609375, 0, 2.726806640625, 0, 2.726806640625],\n",
       " [3.1474609375,\n",
       "  3.1474609375,\n",
       "  2.5433349609375,\n",
       "  2.5433349609375,\n",
       "  2.6976776123046875,\n",
       "  2.6976776123046875,\n",
       "  2.443330764770508,\n",
       "  2.443330764770508,\n",
       "  2.443330764770508],\n",
       " [3.1474609375,\n",
       "  0,\n",
       "  2.5433349609375,\n",
       "  0,\n",
       "  2.6976776123046875,\n",
       "  0,\n",
       "  2.443330764770508,\n",
       "  0,\n",
       "  2.443330764770508],\n",
       " [4.2297821044921875,\n",
       "  4.2297821044921875,\n",
       "  2.6162948608398438,\n",
       "  2.6162948608398438,\n",
       "  3.123736619949341,\n",
       "  3.123736619949341,\n",
       "  2.5322339236736298,\n",
       "  2.5322339236736298,\n",
       "  2.5322339236736298],\n",
       " [4.2297821044921875,\n",
       "  0,\n",
       "  2.6162948608398438,\n",
       "  0,\n",
       "  3.123736619949341,\n",
       "  0,\n",
       "  2.5322339236736298,\n",
       "  0,\n",
       "  2.5322339236736298],\n",
       " [4.2297821044921875,\n",
       "  4.2297821044921875,\n",
       "  2.6162948608398438,\n",
       "  2.6162948608398438,\n",
       "  3.123736619949341,\n",
       "  3.123736619949341,\n",
       "  2.5322339236736298,\n",
       "  2.5322339236736298,\n",
       "  2.5322339236736298]]"
      ]
     },
     "execution_count": 187,
     "metadata": {},
     "output_type": "execute_result"
    }
   ],
   "source": [
    "expanded_matrix"
   ]
  },
  {
   "cell_type": "code",
   "execution_count": null,
   "metadata": {},
   "outputs": [],
   "source": []
  }
 ],
 "metadata": {
  "colab": {
   "collapsed_sections": [],
   "name": "GA.ipynb",
   "provenance": [],
   "toc_visible": true
  },
  "kernelspec": {
   "display_name": "Python 3 (ipykernel)",
   "language": "python",
   "name": "python3"
  },
  "language_info": {
   "codemirror_mode": {
    "name": "ipython",
    "version": 3
   },
   "file_extension": ".py",
   "mimetype": "text/x-python",
   "name": "python",
   "nbconvert_exporter": "python",
   "pygments_lexer": "ipython3",
   "version": "3.10.9"
  },
  "vscode": {
   "interpreter": {
    "hash": "aee8b7b246df8f9039afb4144a1f6fd8d2ca17a180786b69acc140d282b71a49"
   }
  },
  "widgets": {
   "application/vnd.jupyter.widget-state+json": {
    "208ae3a7e6b84f90ad9e6b284aa3721c": {
     "model_module": "@jupyter-widgets/controls",
     "model_module_version": "1.5.0",
     "model_name": "ProgressStyleModel",
     "state": {
      "_model_module": "@jupyter-widgets/controls",
      "_model_module_version": "1.5.0",
      "_model_name": "ProgressStyleModel",
      "_view_count": null,
      "_view_module": "@jupyter-widgets/base",
      "_view_module_version": "1.2.0",
      "_view_name": "StyleView",
      "bar_color": null,
      "description_width": ""
     }
    },
    "441b254622df4958a7d151ad59bb4624": {
     "model_module": "@jupyter-widgets/base",
     "model_module_version": "1.2.0",
     "model_name": "LayoutModel",
     "state": {
      "_model_module": "@jupyter-widgets/base",
      "_model_module_version": "1.2.0",
      "_model_name": "LayoutModel",
      "_view_count": null,
      "_view_module": "@jupyter-widgets/base",
      "_view_module_version": "1.2.0",
      "_view_name": "LayoutView",
      "align_content": null,
      "align_items": null,
      "align_self": null,
      "border": null,
      "bottom": null,
      "display": null,
      "flex": null,
      "flex_flow": null,
      "grid_area": null,
      "grid_auto_columns": null,
      "grid_auto_flow": null,
      "grid_auto_rows": null,
      "grid_column": null,
      "grid_gap": null,
      "grid_row": null,
      "grid_template_areas": null,
      "grid_template_columns": null,
      "grid_template_rows": null,
      "height": null,
      "justify_content": null,
      "justify_items": null,
      "left": null,
      "margin": null,
      "max_height": null,
      "max_width": null,
      "min_height": null,
      "min_width": null,
      "object_fit": null,
      "object_position": null,
      "order": null,
      "overflow": null,
      "overflow_x": null,
      "overflow_y": null,
      "padding": null,
      "right": null,
      "top": null,
      "visibility": null,
      "width": null
     }
    },
    "650f914388934a949db3e622810c6f6e": {
     "model_module": "@jupyter-widgets/controls",
     "model_module_version": "1.5.0",
     "model_name": "IntProgressModel",
     "state": {
      "_dom_classes": [],
      "_model_module": "@jupyter-widgets/controls",
      "_model_module_version": "1.5.0",
      "_model_name": "IntProgressModel",
      "_view_count": null,
      "_view_module": "@jupyter-widgets/controls",
      "_view_module_version": "1.5.0",
      "_view_name": "ProgressView",
      "bar_style": "",
      "description": "",
      "description_tooltip": null,
      "layout": "IPY_MODEL_441b254622df4958a7d151ad59bb4624",
      "max": 100,
      "min": 0,
      "orientation": "horizontal",
      "style": "IPY_MODEL_208ae3a7e6b84f90ad9e6b284aa3721c",
      "value": 41
     }
    }
   }
  }
 },
 "nbformat": 4,
 "nbformat_minor": 1
}
